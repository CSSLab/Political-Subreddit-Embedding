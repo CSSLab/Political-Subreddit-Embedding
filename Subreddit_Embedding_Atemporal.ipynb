{
 "cells": [
  {
   "cell_type": "markdown",
   "metadata": {},
   "source": [
    "# Community/Subreddit Embedding"
   ]
  },
  {
   "cell_type": "code",
   "execution_count": 1,
   "metadata": {},
   "outputs": [
    {
     "name": "stderr",
     "output_type": "stream",
     "text": [
      "\n",
      "Bad key \"text.kerning_factor\" on line 4 in\n",
      "/h/224/cameron/miniconda3/envs/pyspark_env/lib/python3.7/site-packages/matplotlib/mpl-data/stylelib/_classic_test_patch.mplstyle.\n",
      "You probably need to get an updated matplotlibrc file from\n",
      "https://github.com/matplotlib/matplotlib/blob/v3.1.3/matplotlibrc.template\n",
      "or from the matplotlib source distribution\n"
     ]
    }
   ],
   "source": [
    "import findspark\n",
    "findspark.init(\"/h/224/cameron/spark-3.0.0-preview2-bin-hadoop2.7\")\n",
    "from kaleido.scopes.plotly import PlotlyScope\n",
    "from pyspark.sql import SparkSession\n",
    "from pyspark.sql.functions import *\n",
    "from tqdm.auto import tqdm\n",
    "import matplotlib.pyplot as plt\n",
    "import numpy as np\n",
    "import pandas as pd\n",
    "import tempfile\n",
    "\n",
    "scope = PlotlyScope()"
   ]
  },
  {
   "cell_type": "code",
   "execution_count": 2,
   "metadata": {},
   "outputs": [
    {
     "data": {
      "text/plain": [
       "[('spark.driver.host', 'adavm1.ais.sandbox'),\n",
       " ('spark.driver.memory', '400g'),\n",
       " ('spark.driver.port', '46859'),\n",
       " ('spark.shuffle.memoryFraction', '0.8'),\n",
       " ('spark.app.id', 'local-1599495864719'),\n",
       " ('spark.executor.id', 'driver'),\n",
       " ('spark.app.name', 'PySparkShell'),\n",
       " ('spark.sql.shuffle.partitions', '32'),\n",
       " ('spark.default.parallelism', '50'),\n",
       " ('spark.local.dir', '/h/224/cameron/SPARK-LOCAL-DIR'),\n",
       " ('spark.executor.memory', '400g'),\n",
       " ('spark.storage.memoryFraction', '0.1'),\n",
       " ('spark.sql.catalogImplementation', 'hive'),\n",
       " ('spark.rdd.compress', 'True'),\n",
       " ('spark.serializer.objectStreamReset', '100'),\n",
       " ('spark.driver.maxResultSize', '0'),\n",
       " ('spark.executor.cores', '16'),\n",
       " ('spark.master', 'local[*]'),\n",
       " ('spark.submit.pyFiles', ''),\n",
       " ('spark.submit.deployMode', 'client'),\n",
       " ('spark.ui.showConsoleProgress', 'true')]"
      ]
     },
     "execution_count": 2,
     "metadata": {},
     "output_type": "execute_result"
    }
   ],
   "source": [
    "spark = SparkSession.builder.getOrCreate()\n",
    "spark.sparkContext.getConf().getAll()"
   ]
  },
  {
   "cell_type": "markdown",
   "metadata": {},
   "source": [
    "## Word2Vecf Files\n",
    "[Word2vecf](https://github.com/BIU-NLP/word2vecf/blob/master/README.md) requires three inputs\n",
    "* training_data: text file of word-context pairs (space delimited)\n",
    "* word_vocabulary: file mapping subreddits (strings) to their counts\n",
    "* count_vocabulary: file mapping users (contexts -> subreddit commenters) to their counts"
   ]
  },
  {
   "cell_type": "markdown",
   "metadata": {},
   "source": [
    "### Training Data\n",
    "\n",
    "We want to avoid having to load the raw data as there are 1 billion+ rows. Working with aggregates from the start makes things much easier."
   ]
  },
  {
   "cell_type": "code",
   "execution_count": 5,
   "metadata": {},
   "outputs": [
    {
     "name": "stdout",
     "output_type": "stream",
     "text": [
      "+------------------+--------------------+-----+\n",
      "|         subreddit|              author|count|\n",
      "+------------------+--------------------+-----+\n",
      "|               wsb|            oncutter|    2|\n",
      "|       apexlegends|IShouldWashTheDishes|   83|\n",
      "|      glassanimals|            willzore|   47|\n",
      "|         femalepov|         inter260799|    1|\n",
      "|   entitledparents|         viscool8332| 1008|\n",
      "|   leagueoflegends|     TehRudeSandstrm| 1800|\n",
      "|             ReBBl|              Breidr|   65|\n",
      "|  ApexLegends_Porn|       AutoModerator|   45|\n",
      "|               DnD|           harumin24|   22|\n",
      "|              kpop|          BlueFiller|  233|\n",
      "|            chubby|        horny_as_fuq|  114|\n",
      "|       ihadastroke|             Phhhhuh|    1|\n",
      "|             japan|          voidgazing|   10|\n",
      "|elderscrollsonline|    the_scarlet_ibis|   71|\n",
      "|WhitePeopleTwitter|          teenytanya|    1|\n",
      "|       TaylorSwift|sparklejumprop3queen|   91|\n",
      "|      BattlefieldV|      Extra-High-Elf|  714|\n",
      "|     AmItheAsshole|    SilvergillAddict|   27|\n",
      "|       apexlegends| foxygrandpathefirst|    1|\n",
      "| interestingasfuck|               Dem0s|    6|\n",
      "+------------------+--------------------+-----+\n",
      "only showing top 20 rows\n",
      "\n"
     ]
    }
   ],
   "source": [
    "# Load the Parquet data\n",
    "comments = spark.read.load(\"/comments_2019.parquet\")\n",
    "training_data = comments.fillna(\"\").groupBy(\"subreddit\",\"author\").count().cache()\n",
    "training_data.show()"
   ]
  },
  {
   "cell_type": "code",
   "execution_count": null,
   "metadata": {},
   "outputs": [],
   "source": [
    "comments.count()"
   ]
  },
  {
   "cell_type": "markdown",
   "metadata": {},
   "source": [
    "### Word Vocabulary"
   ]
  },
  {
   "cell_type": "code",
   "execution_count": 3,
   "metadata": {
    "scrolled": true
   },
   "outputs": [
    {
     "data": {
      "text/plain": [
       "('49ers',\n",
       " 'ASU',\n",
       " 'AZCardinals',\n",
       " 'Adelaide',\n",
       " 'Alabama',\n",
       " 'Albany',\n",
       " 'Albuquerque',\n",
       " 'Algonquin_College',\n",
       " 'AllHail',\n",
       " 'AmericanU',\n",
       " 'AndersonSC',\n",
       " 'AndersonUniversity',\n",
       " 'AnnArbor',\n",
       " 'Annapolis',\n",
       " 'Anu',\n",
       " 'Appleton',\n",
       " 'Arcata',\n",
       " 'Arkansas',\n",
       " 'ArkansasState',\n",
       " 'Astros',\n",
       " 'Athens',\n",
       " 'Atlanta',\n",
       " 'AtlantaHawks',\n",
       " 'Austin',\n",
       " 'BCIT',\n",
       " 'BGOhio',\n",
       " 'BGSU',\n",
       " 'Babson',\n",
       " 'BaemyKlobaechar',\n",
       " 'BallState',\n",
       " 'Baruch',\n",
       " 'Bath',\n",
       " 'BathUni',\n",
       " 'BeckleyOnReddit',\n",
       " 'Belfast',\n",
       " 'Bellingham',\n",
       " 'Berklee',\n",
       " 'Binghamton',\n",
       " 'BinghamtonUniversity',\n",
       " 'Birmingham',\n",
       " 'BloomingtonNormal',\n",
       " 'BlueJackets',\n",
       " 'BocaRaton',\n",
       " 'Boise',\n",
       " 'BostonBruins',\n",
       " 'BostonU',\n",
       " 'BournemouthUni',\n",
       " 'BowlingGreen',\n",
       " 'Bozeman',\n",
       " 'Braves',\n",
       " 'Brewers',\n",
       " 'BritishKent',\n",
       " 'Broward',\n",
       " 'BrownU',\n",
       " 'Browns',\n",
       " 'Buffalo',\n",
       " 'CCA',\n",
       " 'CCCU',\n",
       " 'CCNY',\n",
       " 'CHIBears',\n",
       " 'CHICubs',\n",
       " 'CNU',\n",
       " 'CSUC',\n",
       " 'CSUDH',\n",
       " 'CSUEB',\n",
       " 'CSUFoCo',\n",
       " 'CSULA',\n",
       " 'CSULB',\n",
       " 'CSUS',\n",
       " 'CSUSB',\n",
       " 'CUNY',\n",
       " 'CalPoly',\n",
       " 'CalPolyPomona',\n",
       " 'Calgary',\n",
       " 'CalgaryFlames',\n",
       " 'California',\n",
       " 'Caltech',\n",
       " 'CambridgeMA',\n",
       " 'CapU',\n",
       " 'Cardinals',\n",
       " 'CarletonCollege',\n",
       " 'CarletonU',\n",
       " 'CarrolltonGeorgia',\n",
       " 'Chambana',\n",
       " 'Chargers',\n",
       " 'Charleston',\n",
       " 'Charlotte',\n",
       " 'CharlotteHornets',\n",
       " 'Charlottesville',\n",
       " 'ChicoCA',\n",
       " 'Christianity',\n",
       " 'Claremont',\n",
       " 'ClarkU',\n",
       " 'Classical_Liberals',\n",
       " 'Cleveland',\n",
       " 'CofC',\n",
       " 'CollegeStation',\n",
       " 'Colorado',\n",
       " 'ColoradoAvalanche',\n",
       " 'ColoradoRockies',\n",
       " 'ColoradoSchoolOfMines',\n",
       " 'ColoradoSprings',\n",
       " 'Colts',\n",
       " 'ColumbiYEAH',\n",
       " 'Columbus',\n",
       " 'Concordia',\n",
       " 'Conestoga',\n",
       " 'Conservative',\n",
       " 'ConservativeDemocrat',\n",
       " 'ConwayAR',\n",
       " 'CoralGables',\n",
       " 'Cornell',\n",
       " 'CostaMesa',\n",
       " 'CovUni',\n",
       " 'Coyotes',\n",
       " 'CredibleDefense',\n",
       " 'Dalhousie',\n",
       " 'Dallas',\n",
       " 'DallasStars',\n",
       " 'Danbury',\n",
       " 'Darmstadt',\n",
       " 'DeKalbArea',\n",
       " 'Denton',\n",
       " 'Denver',\n",
       " 'DenverBroncos',\n",
       " 'Detroit',\n",
       " 'DetroitPistons',\n",
       " 'DetroitRedWings',\n",
       " 'Dodgers',\n",
       " 'DownersGrove',\n",
       " 'Drexel',\n",
       " 'Dublin',\n",
       " 'DurhamUK',\n",
       " 'Durhamu',\n",
       " 'ECU',\n",
       " 'ETSU',\n",
       " 'EarlhamCollege',\n",
       " 'EastLansing',\n",
       " 'Eau_Claire',\n",
       " 'Economics',\n",
       " 'Edinburgh',\n",
       " 'Edinburgh_University',\n",
       " 'Edmond',\n",
       " 'Edmonton',\n",
       " 'EdmontonOilers',\n",
       " 'ElPaso',\n",
       " 'ElizabethWarren',\n",
       " 'EmersonCollege',\n",
       " 'EndlessWar',\n",
       " 'FAU',\n",
       " 'FLC',\n",
       " 'Fairfield',\n",
       " 'Feminism',\n",
       " 'Flagstaff',\n",
       " 'FloridaPanthers',\n",
       " 'Flyers',\n",
       " 'Fontbonne',\n",
       " 'Fordham',\n",
       " 'FortCollins',\n",
       " 'FortWorth',\n",
       " 'FreeSpeech',\n",
       " 'Fullerton',\n",
       " 'Furman',\n",
       " 'GMACEWAN',\n",
       " 'GNV',\n",
       " 'GSU',\n",
       " 'GaState',\n",
       " 'Gamecocks',\n",
       " 'Geelong',\n",
       " 'Georgia',\n",
       " 'GlasgowUni',\n",
       " 'GoNets',\n",
       " 'GoldenCO',\n",
       " 'Gonzaga',\n",
       " 'Gothenburg',\n",
       " 'GrandForks',\n",
       " 'GreenBay',\n",
       " 'GreenBayPackers',\n",
       " 'GreenvilleNCarolina',\n",
       " 'GriffithUni',\n",
       " 'Guelph',\n",
       " 'GunsAreCool',\n",
       " 'Habs',\n",
       " 'Hamilton',\n",
       " 'HampshireCollege',\n",
       " 'HarfordCC',\n",
       " 'Harvard',\n",
       " 'Hawaii',\n",
       " 'Hayward',\n",
       " 'Hemet',\n",
       " 'Hoboken',\n",
       " 'HolyCross',\n",
       " 'Honolulu',\n",
       " 'Humber',\n",
       " 'HunterCollege',\n",
       " 'HuntingtonWV',\n",
       " 'HuntsvilleAlabama',\n",
       " 'HuntsvilleTexas',\n",
       " 'IIT',\n",
       " 'IST',\n",
       " 'IUP',\n",
       " 'Idaho',\n",
       " 'IllinoisWesleyan',\n",
       " 'Imperial',\n",
       " 'Indiana',\n",
       " 'IndianaUniversity',\n",
       " 'Intelligence',\n",
       " 'Iowa',\n",
       " 'IowaCity',\n",
       " 'IthacaCollege',\n",
       " 'JoeBiden',\n",
       " 'KCL',\n",
       " 'KCRoyals',\n",
       " 'KSU',\n",
       " 'KState',\n",
       " 'KansasCityChiefs',\n",
       " 'Kent',\n",
       " 'KentStateUniversity',\n",
       " 'KentUni',\n",
       " 'Kentucky',\n",
       " 'Kettering',\n",
       " 'KingstonOntario',\n",
       " 'Kingstonuponthames',\n",
       " 'Knoxville',\n",
       " 'LAClippers',\n",
       " 'LMU',\n",
       " 'LSU',\n",
       " 'LasCruces',\n",
       " 'LateStageImperialism',\n",
       " 'Lawrence',\n",
       " 'Leeds',\n",
       " 'LeedsUni',\n",
       " 'Lehigh',\n",
       " 'LibertyUniversity',\n",
       " 'LincolnUni',\n",
       " 'Lincolnshire',\n",
       " 'LittleRock',\n",
       " 'LosAngeles',\n",
       " 'LosAngelesRams',\n",
       " 'Louisiana',\n",
       " 'Louisville',\n",
       " 'LowellMA',\n",
       " 'Lubbock',\n",
       " 'MMU',\n",
       " 'MRU',\n",
       " 'MSCD',\n",
       " 'MSOE',\n",
       " 'MSUcats',\n",
       " 'MTSU',\n",
       " 'MTU',\n",
       " 'MacUni',\n",
       " 'Macon_State',\n",
       " 'Maine',\n",
       " 'Malibu',\n",
       " 'ManhattanCollege',\n",
       " 'Marietta',\n",
       " 'Mariners',\n",
       " 'Marquette',\n",
       " 'MarshallUniversity',\n",
       " 'McMaster',\n",
       " 'Merced',\n",
       " 'Miami',\n",
       " 'Michigan',\n",
       " 'Minneapolis',\n",
       " 'MkeBucks',\n",
       " 'MontereyBay',\n",
       " 'MorgantownWV',\n",
       " 'MountainState',\n",
       " 'Msstate',\n",
       " 'MtSanJacintoCollege',\n",
       " 'Muncie',\n",
       " 'NAIT',\n",
       " 'NAU',\n",
       " 'NBASpurs',\n",
       " 'NCSU',\n",
       " 'NDSU',\n",
       " 'NEU',\n",
       " 'NIU',\n",
       " 'NJTech',\n",
       " 'NOLAPelicans',\n",
       " 'NRV',\n",
       " 'NYGiants',\n",
       " 'NYKnicks',\n",
       " 'NYYankees',\n",
       " 'Nacogdoches',\n",
       " 'Nationals',\n",
       " 'Neumont',\n",
       " 'NewBrunswickNJ',\n",
       " 'NewMexico',\n",
       " 'NewOrleans',\n",
       " 'NewYorkIslanders',\n",
       " 'NewYorkMets',\n",
       " 'Newark',\n",
       " 'NewarkDE',\n",
       " 'NewportNews',\n",
       " 'NorthCarolina',\n",
       " 'Northfield',\n",
       " 'Northwestern',\n",
       " 'Norwich',\n",
       " 'OCC',\n",
       " 'OCU',\n",
       " 'ODU',\n",
       " 'OKState',\n",
       " 'OSU',\n",
       " 'OaklandAthletics',\n",
       " 'Ohio',\n",
       " 'OpenUniversity',\n",
       " 'OregonStateUniv',\n",
       " 'OrlandoMagic',\n",
       " 'Oshawa',\n",
       " 'Oshkosh',\n",
       " 'OttawaSenators',\n",
       " 'Otterbein',\n",
       " 'OxfordBrookes',\n",
       " 'Oxy',\n",
       " 'PUC',\n",
       " 'Padres',\n",
       " 'ParklandCollege',\n",
       " 'Patriots',\n",
       " 'Pennsylvania',\n",
       " 'PeoriaIL',\n",
       " 'Pepperdine',\n",
       " 'Pete_Buttigieg',\n",
       " 'Peterborough',\n",
       " 'Pitt',\n",
       " 'PolkStateCollege',\n",
       " 'PolyMTL',\n",
       " 'Pomona',\n",
       " 'Portland',\n",
       " 'Predators',\n",
       " 'Prescott',\n",
       " 'ProvidenceCollege',\n",
       " 'ProvoUtah',\n",
       " 'Pullman',\n",
       " 'Purdue',\n",
       " 'QMULandBarts',\n",
       " 'QUTreddit',\n",
       " 'QueensBelfast',\n",
       " 'Quinnipiac',\n",
       " 'RCC',\n",
       " 'RHUL',\n",
       " 'RPI',\n",
       " 'RapidCity',\n",
       " 'RedditForGrownups',\n",
       " 'Redlands',\n",
       " 'Reds',\n",
       " 'Redskins',\n",
       " 'Reno',\n",
       " 'Republican',\n",
       " 'RhodeIsland',\n",
       " 'Richardson',\n",
       " 'RioGrandeValley',\n",
       " 'Riverside',\n",
       " 'Rochester',\n",
       " 'RochesterHills',\n",
       " 'Roosevelt',\n",
       " 'Roseville',\n",
       " 'SAIT',\n",
       " 'SCU',\n",
       " 'SDSMT',\n",
       " 'SDSU',\n",
       " 'SFA',\n",
       " 'SFGiants',\n",
       " 'SFSU',\n",
       " 'SHSU',\n",
       " 'SIUE',\n",
       " 'SJSU',\n",
       " 'SLCC',\n",
       " 'SLO',\n",
       " 'SMUHalifax',\n",
       " 'SOAS',\n",
       " 'SPSU',\n",
       " 'SSU',\n",
       " 'SVSU',\n",
       " 'Sacramento',\n",
       " 'Saginaw',\n",
       " 'Saints',\n",
       " 'SaltLakeCity',\n",
       " 'SanJose',\n",
       " 'SanJoseSharks',\n",
       " 'SandersForPresident',\n",
       " 'SantaBarbara',\n",
       " 'SantaClarita',\n",
       " 'Santiago',\n",
       " 'Scranton',\n",
       " 'Seahawks',\n",
       " 'Seattle',\n",
       " 'SeattleWA',\n",
       " 'Seneca',\n",
       " 'Sherbrooke',\n",
       " 'SierraCollege',\n",
       " 'SocialDemocracy',\n",
       " 'SouthCoast',\n",
       " 'Spc',\n",
       " 'Spokane',\n",
       " 'StAugustine',\n",
       " 'StJohnsNL',\n",
       " 'StLouis',\n",
       " 'StPetersburgFL',\n",
       " 'Starkville',\n",
       " 'Stockton',\n",
       " 'Syracuse',\n",
       " 'SyracuseU',\n",
       " 'TCD',\n",
       " 'TCU',\n",
       " 'THWND',\n",
       " 'Tallahassee',\n",
       " 'TampaBayLightning',\n",
       " 'Tempe',\n",
       " 'Temple',\n",
       " 'Tennessee',\n",
       " 'Tennesseetitans',\n",
       " 'Texans',\n",
       " 'TexasRangers',\n",
       " 'TexasTech',\n",
       " 'TheLse',\n",
       " 'TheNewRight',\n",
       " 'The_Donald',\n",
       " 'Thunder',\n",
       " 'ThunderBay',\n",
       " 'Torontobluejays',\n",
       " 'Touro',\n",
       " 'Townsville',\n",
       " 'TraditionalCatholics',\n",
       " 'TrentUniversity',\n",
       " 'TrentonNJ',\n",
       " 'Troy',\n",
       " 'Tucson',\n",
       " 'Tufts',\n",
       " 'Tulane',\n",
       " 'TwinCities',\n",
       " 'UAB',\n",
       " 'UAH',\n",
       " 'UBALTIMORE',\n",
       " 'UBC',\n",
       " 'UBreddit',\n",
       " 'UCA',\n",
       " 'UCCS',\n",
       " 'UCDavis',\n",
       " 'UCI',\n",
       " 'UCL',\n",
       " 'UCO',\n",
       " 'UCSC',\n",
       " 'UCSD',\n",
       " 'UCSantaBarbara',\n",
       " 'UCT',\n",
       " 'UCalgary',\n",
       " 'UEA',\n",
       " 'UFV',\n",
       " 'UGA',\n",
       " 'UIUC',\n",
       " 'UMBC',\n",
       " 'UMKC',\n",
       " 'UMT',\n",
       " 'UMW',\n",
       " 'UMiami',\n",
       " 'UNBC',\n",
       " 'UNCCharlotte',\n",
       " 'UNCG',\n",
       " 'UNCW',\n",
       " 'UNF',\n",
       " 'UNI',\n",
       " 'UNLV',\n",
       " 'UNLincoln',\n",
       " 'UOB',\n",
       " 'UPenn',\n",
       " 'UQAM',\n",
       " 'UQreddit',\n",
       " 'URochester',\n",
       " 'USC',\n",
       " 'USD',\n",
       " 'USF',\n",
       " 'USI',\n",
       " 'UTAustin',\n",
       " 'UTEP',\n",
       " 'UTK',\n",
       " 'UTPA',\n",
       " 'UTS',\n",
       " 'UTSA',\n",
       " 'UTT',\n",
       " 'UVA',\n",
       " 'UVU',\n",
       " 'UWEauClaire',\n",
       " 'UWG',\n",
       " 'UWMadison',\n",
       " 'UWMilwaukee',\n",
       " 'UWOshkosh',\n",
       " 'UWindsor',\n",
       " 'UdeM',\n",
       " 'UniAdelaide',\n",
       " 'UniOfHertfordshire',\n",
       " 'UniversityOfHouston',\n",
       " 'UniversityOfToledo',\n",
       " 'UniversityOfWarwick',\n",
       " 'University_Of_Regina',\n",
       " 'UniversityofArkansas',\n",
       " 'UniversityofHawaii',\n",
       " 'UniversityofKansas',\n",
       " 'UniversityofKentucky',\n",
       " 'UniversityofVermont',\n",
       " 'UoL',\n",
       " 'UoN',\n",
       " 'UoNau',\n",
       " 'UoP',\n",
       " 'UofArizona',\n",
       " 'UofB',\n",
       " 'UofMemphis',\n",
       " 'UofMnDuluth',\n",
       " 'UofT',\n",
       " 'Utah',\n",
       " 'UtahJazz',\n",
       " 'VIU',\n",
       " 'Vanderbilt',\n",
       " 'VictoriaBC',\n",
       " 'Virginia',\n",
       " 'VirginiaBeach',\n",
       " 'VirginiaTech',\n",
       " 'WGU',\n",
       " 'WIT',\n",
       " 'WKU',\n",
       " 'WMU',\n",
       " 'WPI',\n",
       " 'WVU',\n",
       " 'WWU',\n",
       " 'Waco',\n",
       " 'WahoosTipi',\n",
       " 'WakeTech',\n",
       " 'Waltham',\n",
       " 'WarCollege',\n",
       " 'Washington',\n",
       " 'Wcsu',\n",
       " 'WeAreNotAsking',\n",
       " 'Welland',\n",
       " 'WellesleyCollege',\n",
       " 'WestminsterCollege',\n",
       " 'WestminsterUni',\n",
       " 'Westmont',\n",
       " 'Williamsport',\n",
       " 'Wilmington',\n",
       " 'Winnipeg',\n",
       " 'WinterHaven',\n",
       " 'WinterPark',\n",
       " 'WorcesterMA',\n",
       " 'YangForPresidentHQ',\n",
       " 'abbotsford',\n",
       " 'aggies',\n",
       " 'akron',\n",
       " 'alaska',\n",
       " 'amarillo',\n",
       " 'amarillocollege',\n",
       " 'ames',\n",
       " 'amherst',\n",
       " 'amherstcollege',\n",
       " 'anchorage',\n",
       " 'angelsbaseball',\n",
       " 'antifeminists',\n",
       " 'antiwar',\n",
       " 'appstate',\n",
       " 'aquinas',\n",
       " 'arizona',\n",
       " 'athensohio',\n",
       " 'auckland',\n",
       " 'azdiamondbacks',\n",
       " 'baltimore',\n",
       " 'batonrouge',\n",
       " 'baylor',\n",
       " 'bengals',\n",
       " 'benshapiro',\n",
       " 'berkeley',\n",
       " 'berkeleyca',\n",
       " 'berlin',\n",
       " 'bethlehem',\n",
       " 'billikens',\n",
       " 'birthcontrol',\n",
       " 'blacksburg',\n",
       " 'bloomington',\n",
       " 'boone',\n",
       " 'boston',\n",
       " 'bostonceltics',\n",
       " 'bostoncollege',\n",
       " 'bothell',\n",
       " 'boulder',\n",
       " 'bournemouth',\n",
       " 'bradleyuniversity',\n",
       " 'brandeis',\n",
       " 'brighton',\n",
       " 'brisbane',\n",
       " 'bristol',\n",
       " 'brocku',\n",
       " 'brum',\n",
       " 'brunel',\n",
       " 'brussels',\n",
       " 'bsu',\n",
       " 'buccaneers',\n",
       " 'buccos',\n",
       " 'buffalobills',\n",
       " 'bullcity',\n",
       " 'burlington',\n",
       " 'burnaby',\n",
       " 'butleruniversity',\n",
       " 'byu',\n",
       " 'calarts',\n",
       " 'camarillo',\n",
       " 'cambridge',\n",
       " 'cambridge_uni',\n",
       " 'canberra',\n",
       " 'canterbury',\n",
       " 'canucks',\n",
       " 'capetown',\n",
       " 'capitalism_in_decay',\n",
       " 'caps',\n",
       " 'capstone',\n",
       " 'cedarfalls',\n",
       " 'chalmers',\n",
       " 'chapelhill',\n",
       " 'chicago',\n",
       " 'chicagobulls',\n",
       " 'cincinnati',\n",
       " 'cityuniversitylondon',\n",
       " 'claremontcolleges',\n",
       " 'clevelandcavs',\n",
       " 'cmu',\n",
       " 'colchester',\n",
       " 'colum',\n",
       " 'columbia',\n",
       " 'columbiamo',\n",
       " 'conncoll',\n",
       " 'conservatives',\n",
       " 'corvallis',\n",
       " 'coventry',\n",
       " 'cowboys',\n",
       " 'csuci',\n",
       " 'csuf',\n",
       " 'csumb',\n",
       " 'csun',\n",
       " 'cuboulder',\n",
       " 'cudenver',\n",
       " 'cwru',\n",
       " 'datingoverforty',\n",
       " 'davisca',\n",
       " 'dayton',\n",
       " 'deakin',\n",
       " 'democrats',\n",
       " 'denvernuggets',\n",
       " 'denveru',\n",
       " 'depaul',\n",
       " 'desmoines',\n",
       " 'detroitlions',\n",
       " 'devils',\n",
       " 'devry',\n",
       " 'digipen',\n",
       " 'dsa',\n",
       " 'duke',\n",
       " 'duluth',\n",
       " 'durhamcollege',\n",
       " 'eagles',\n",
       " 'eastmanschool',\n",
       " 'egham',\n",
       " 'emu',\n",
       " 'erau',\n",
       " 'essexuni',\n",
       " 'ethz',\n",
       " 'etsmtl',\n",
       " 'evanston',\n",
       " 'evansville',\n",
       " 'evergreen',\n",
       " 'eville',\n",
       " 'excatholic',\n",
       " 'exchristian',\n",
       " 'exmormon',\n",
       " 'exmuslim',\n",
       " 'fairfaxcounty',\n",
       " 'fairfieldU',\n",
       " 'falcons',\n",
       " 'fandm',\n",
       " 'fanshawe',\n",
       " 'fargo',\n",
       " 'fayetteville',\n",
       " 'flaglercollege',\n",
       " 'flint',\n",
       " 'florida',\n",
       " 'floridatech',\n",
       " 'folsom',\n",
       " 'fortlauderdale',\n",
       " 'fredericksburg',\n",
       " 'fresno',\n",
       " 'fresnostate',\n",
       " 'fsu',\n",
       " 'fullsail',\n",
       " 'gatech',\n",
       " 'gcsc',\n",
       " 'gcsu',\n",
       " 'geegees',\n",
       " 'georgetown',\n",
       " 'glasgow',\n",
       " 'gmu',\n",
       " 'goldenknights',\n",
       " 'goldsmiths',\n",
       " 'gopct',\n",
       " 'grandrapids',\n",
       " 'grantmacewan',\n",
       " 'greenville',\n",
       " 'gso',\n",
       " 'guelphhumber',\n",
       " 'gwu',\n",
       " 'halifax',\n",
       " 'hamiltoncollege',\n",
       " 'harfordcountymd',\n",
       " 'harrisonburg',\n",
       " 'harveymudd',\n",
       " 'hawks',\n",
       " 'heat',\n",
       " 'heriotwatt',\n",
       " 'hertfordshire',\n",
       " 'houghton',\n",
       " 'houston',\n",
       " 'houstoncc',\n",
       " 'humboldtstate',\n",
       " 'iastate',\n",
       " 'illinois',\n",
       " 'ilstu',\n",
       " 'indianapolis',\n",
       " 'indstate',\n",
       " 'irvine',\n",
       " 'islam',\n",
       " 'ithaca',\n",
       " 'jacksonville',\n",
       " 'jamescook',\n",
       " 'jhu',\n",
       " 'jmu',\n",
       " 'jonesboro',\n",
       " 'kansas',\n",
       " 'kansascity',\n",
       " 'kelowna',\n",
       " 'kennesaw',\n",
       " 'kings',\n",
       " 'kingstonu',\n",
       " 'kitchener',\n",
       " 'kth',\n",
       " 'kzoo',\n",
       " 'lafayette',\n",
       " 'lafayettela',\n",
       " 'lakeheadu',\n",
       " 'lakers',\n",
       " 'lancashire',\n",
       " 'lancaster',\n",
       " 'lancasteruni',\n",
       " 'langara',\n",
       " 'laramie',\n",
       " 'lawrenceu',\n",
       " 'lds',\n",
       " 'leafs',\n",
       " 'leedsbeckett',\n",
       " 'leicester',\n",
       " 'letsgofish',\n",
       " 'lexington',\n",
       " 'limerickcity',\n",
       " 'lincoln',\n",
       " 'linkoping',\n",
       " 'linkopinguniversity',\n",
       " 'lisboa',\n",
       " 'littleapple',\n",
       " 'london',\n",
       " 'londonontario',\n",
       " 'longbeach',\n",
       " 'losangeleskings',\n",
       " 'lynchburg',\n",
       " 'macon',\n",
       " 'madisonwi',\n",
       " 'manchester',\n",
       " 'manchester_uni',\n",
       " 'marist',\n",
       " 'maryland',\n",
       " 'massachusetts',\n",
       " 'matc',\n",
       " 'mcgill',\n",
       " 'medfordma',\n",
       " 'melbourne',\n",
       " 'melbournefl',\n",
       " 'memorialuniversity',\n",
       " 'memphis',\n",
       " 'memphisgrizzlies',\n",
       " 'miamidolphins',\n",
       " 'milledgeville',\n",
       " 'miltonkeynes',\n",
       " 'milwaukee',\n",
       " 'minnesota',\n",
       " 'minnesotatwins',\n",
       " 'minnesotavikings',\n",
       " 'missoula',\n",
       " 'missouri',\n",
       " 'missouristate',\n",
       " 'mit',\n",
       " 'mizzou',\n",
       " 'mnl',\n",
       " 'mohawkcollege',\n",
       " 'montreal',\n",
       " 'motorcitykitties',\n",
       " 'mpc',\n",
       " 'msu',\n",
       " 'murfreesboro',\n",
       " 'nanaimo',\n",
       " 'nashville',\n",
       " 'neoliberal',\n",
       " 'newcastle',\n",
       " 'newhaven',\n",
       " 'newjersey',\n",
       " 'newlondon',\n",
       " 'newyork',\n",
       " 'niagaracollege',\n",
       " 'nmsu',\n",
       " 'norfolk',\n",
       " 'normanok',\n",
       " 'northdakota',\n",
       " 'nottingham',\n",
       " 'ntnu',\n",
       " 'nus',\n",
       " 'nyc',\n",
       " 'nyjets',\n",
       " 'nyu',\n",
       " 'oakland',\n",
       " 'oaklandraiders',\n",
       " 'oaklanduniversity',\n",
       " 'oakville',\n",
       " 'ohiouniversity',\n",
       " 'okc',\n",
       " 'oklahoma',\n",
       " 'olympia',\n",
       " 'oregon',\n",
       " 'orioles',\n",
       " 'orlando',\n",
       " 'ottawa',\n",
       " 'oxford',\n",
       " 'oxforduni',\n",
       " 'pace',\n",
       " 'pacers',\n",
       " 'panamacity',\n",
       " 'panthers',\n",
       " 'pasadena',\n",
       " 'peace',\n",
       " 'penguins',\n",
       " 'perth',\n",
       " 'peyups',\n",
       " 'philadelphia',\n",
       " 'phillies',\n",
       " 'phoenix',\n",
       " 'pittsburgh',\n",
       " 'plattsburgh',\n",
       " 'pomonacollege',\n",
       " 'portlandme',\n",
       " 'portlandstate',\n",
       " 'poughkeepsie',\n",
       " 'princegeorge',\n",
       " 'prochoice',\n",
       " 'progressive',\n",
       " 'progun',\n",
       " 'prolife',\n",
       " 'providence',\n",
       " 'queensuniversity',\n",
       " 'radforduniversity',\n",
       " 'ragincajuns',\n",
       " 'raleigh',\n",
       " 'rangers',\n",
       " 'redmond',\n",
       " 'redsox',\n",
       " 'reedcollege',\n",
       " 'regina',\n",
       " 'riceuniversity',\n",
       " 'richmondindiana',\n",
       " 'ripcity',\n",
       " 'rit',\n",
       " 'rmit',\n",
       " 'rockets',\n",
       " 'roehamptonuni',\n",
       " 'rohnertpark',\n",
       " 'rosehulman',\n",
       " 'rutgers',\n",
       " 'rva',\n",
       " 'ryerson',\n",
       " 'sabres',\n",
       " 'sanantonio',\n",
       " 'sanbernardino',\n",
       " 'sandiego',\n",
       " 'sanfrancisco',\n",
       " 'sanmarcos',\n",
       " 'santaclara',\n",
       " 'santacruz',\n",
       " 'saskatoon',\n",
       " 'savannah',\n",
       " 'scad',\n",
       " 'scrippscollege',\n",
       " 'seattleu',\n",
       " 'sheffield',\n",
       " 'sheffieldhallam',\n",
       " 'sheridan',\n",
       " 'simonfraser',\n",
       " 'singapore',\n",
       " 'sixers',\n",
       " 'sooners',\n",
       " 'southcarolina',\n",
       " 'springfieldMO',\n",
       " 'statesboro',\n",
       " 'stcatharinesON',\n",
       " 'stedwards',\n",
       " 'steelers',\n",
       " 'stephenville',\n",
       " 'stevens',\n",
       " 'stlouisblues',\n",
       " 'stockholm',\n",
       " 'stolaf',\n",
       " 'strathclyde',\n",
       " 'stthomas',\n",
       " 'suns',\n",
       " 'sva',\n",
       " 'swansea',\n",
       " 'swanseauni',\n",
       " 'swinburne',\n",
       " 'sydney',\n",
       " 'tampa',\n",
       " 'tampabayrays',\n",
       " 'tarheels',\n",
       " 'tarleton',\n",
       " 'teenagers',\n",
       " 'teenagersnew',\n",
       " 'terrehaute',\n",
       " 'tesu',\n",
       " 'texas',\n",
       " 'theBAC',\n",
       " 'timberwolves',\n",
       " 'toledo',\n",
       " 'toronto',\n",
       " 'torontoraptors',\n",
       " 'tricities',\n",
       " 'trinityu',\n",
       " 'trondheim',\n",
       " 'tsu',\n",
       " 'tuberlin',\n",
       " 'tud',\n",
       " 'tulsa',\n",
       " 'tuscaloosa',\n",
       " 'txstate',\n",
       " 'tylertx',\n",
       " 'uAlberta',\n",
       " 'uCinci',\n",
       " 'uakron',\n",
       " 'ualbany',\n",
       " 'ubco',\n",
       " 'ucf',\n",
       " 'uchicago',\n",
       " 'ucla',\n",
       " 'ucmerced',\n",
       " 'ucr',\n",
       " 'udel',\n",
       " 'udub',\n",
       " 'ufl',\n",
       " 'uhart',\n",
       " 'uhd',\n",
       " 'uichicago',\n",
       " 'uiowa',\n",
       " 'umanitoba',\n",
       " 'umass',\n",
       " 'umassd',\n",
       " 'uml',\n",
       " 'und',\n",
       " 'unimelb',\n",
       " 'universityofauckland',\n",
       " 'universityoflimerick',\n",
       " 'universityofredlands',\n",
       " 'universityofscranton',\n",
       " 'universityofsussex',\n",
       " 'universityofyork',\n",
       " 'unm',\n",
       " 'unr',\n",
       " 'unt',\n",
       " 'uofdayton',\n",
       " 'uofm',\n",
       " 'uofmn',\n",
       " 'uofu',\n",
       " 'uoguelph',\n",
       " 'uoit',\n",
       " 'uos',\n",
       " 'usask',\n",
       " 'usfca',\n",
       " 'usherbrooke',\n",
       " 'usna',\n",
       " 'usyd',\n",
       " 'utdallas',\n",
       " 'utulsa',\n",
       " 'uvic',\n",
       " 'uwa',\n",
       " 'uwaterloo',\n",
       " 'uwb',\n",
       " 'uwe',\n",
       " 'uwgb',\n",
       " 'uwo',\n",
       " 'uwyo',\n",
       " 'vallejo',\n",
       " 'vancouver',\n",
       " 'vassar',\n",
       " 'vcccd',\n",
       " ...)"
      ]
     },
     "execution_count": 3,
     "metadata": {},
     "output_type": "execute_result"
    }
   ],
   "source": [
    "basketball = list(pd.read_csv(\"/h/224/cameron/Political-Subreddit-Embedding/external_datasets/validation/basketball.csv\").to_numpy().flatten())\n",
    "baseball = list(pd.read_csv(\"/h/224/cameron/Political-Subreddit-Embedding/external_datasets/validation/baseball.csv\").to_numpy().flatten())\n",
    "football = list(pd.read_csv(\"/h/224/cameron/Political-Subreddit-Embedding/external_datasets/validation/football.csv\").to_numpy().flatten())\n",
    "hockey = list(pd.read_csv(\"/h/224/cameron/Political-Subreddit-Embedding/external_datasets/validation/hockey.csv\").to_numpy().flatten())\n",
    "cities = list(pd.read_csv(\"/h/224/cameron/Political-Subreddit-Embedding/external_datasets/validation/populous_cities.csv\").to_numpy().flatten())\n",
    "unis = list(pd.read_csv(\"/h/224/cameron/Political-Subreddit-Embedding/external_datasets/validation/uni_to_city.csv\").to_numpy().flatten())\n",
    "political_subreddits = [\"antiwar\",\"peace\",\"Christianity\",\"exchristian\",\"TraditionalCatholics\",\"excatholic\",\"lds\",\"exmormon\",\"islam\",\"exmuslim\",\n",
    "        \"Conservative\",\"progressive\",\"Republican\",\"democrats\",\"conservatives\",\"SocialDemocracy\",\n",
    "        \"TheNewRight\",\"WeAreNotAsking\",\"antifeminists\",\"Feminism\",\"prolife\",\"prochoice\",\"prolife\",\"birthcontrol\",\n",
    "        \"progun\",\"GunsAreCool\",\"datingoverforty\",\"teenagers\",\"RedditForGrownups\",\"teenagersnew\",\n",
    "        \"CredibleDefense\",\"EndlessWar\",\"WarCollege\",\"EndlessWar\",\"Intelligence\",\"EndlessWar\",\n",
    "        \"neoliberal\",\"LateStageImperialism\",\"Economics\",\"capitalism_in_decay\",\n",
    "        \"JoeBiden\",\"SandersForPresident\",\"BaemyKlobaechar\",\"ElizabethWarren\",\"Pete_Buttigieg\",\n",
    "        \"YangForPresidentHQ\",\"The_Donald\",\"SocialDemocracy\",\"Classical_Liberals\",\"benshapiro\",\"walkaway\",\n",
    "        \"FreeSpeech\",\"dsa\",\"ConservativeDemocrat\"]\n",
    "subs_to_keep = tuple(np.unique(basketball+baseball+football+hockey+cities+unis+political_subreddits))\n",
    "subs_to_keep"
   ]
  },
  {
   "cell_type": "code",
   "execution_count": 6,
   "metadata": {
    "scrolled": false
   },
   "outputs": [
    {
     "name": "stdout",
     "output_type": "stream",
     "text": [
      "+--------------------+-------+\n",
      "|           subreddit|  count|\n",
      "+--------------------+-------+\n",
      "|              soccer|9419831|\n",
      "|               ffxiv|1961764|\n",
      "|                 Amd|1380065|\n",
      "|  CasualConversation|1119687|\n",
      "|Justrolledintothe...| 784897|\n",
      "|      JordanPeterson| 721381|\n",
      "|       buildapcsales| 714240|\n",
      "|  youngpeopleyoutube| 703462|\n",
      "|              sports| 621272|\n",
      "|        Seaofthieves| 618761|\n",
      "|             Fallout| 527849|\n",
      "|           DMAcademy| 517558|\n",
      "|               4chan| 485807|\n",
      "|       Documentaries| 473617|\n",
      "|     Shitty_Car_Mods| 415949|\n",
      "|              Tekken| 403683|\n",
      "|         photography| 345981|\n",
      "|               zelda| 323542|\n",
      "|        feedthebeast| 319552|\n",
      "|         thesopranos| 299314|\n",
      "+--------------------+-------+\n",
      "only showing top 20 rows\n",
      "\n"
     ]
    }
   ],
   "source": [
    "from pyspark.sql.functions import sum as _sum\n",
    "word_vocabulary = training_data.groupBy(\"subreddit\").agg(_sum('count').alias('count')).orderBy('count', ascending=False).cache()\n",
    "word_vocabulary.createOrReplaceTempView(\"word_vocab\")\n",
    "keepers = spark.sql(\"select * from word_vocab where subreddit in {}\".format(subs_to_keep))\n",
    "word_vocabulary = word_vocabulary.limit(10000)\n",
    "word_vocabulary = word_vocabulary.union(keepers).distinct()\n",
    "word_vocabulary.show()"
   ]
  },
  {
   "cell_type": "code",
   "execution_count": 7,
   "metadata": {},
   "outputs": [
    {
     "name": "stdout",
     "output_type": "stream",
     "text": [
      "10541\n",
      "993\n"
     ]
    }
   ],
   "source": [
    "print(word_vocabulary.count())\n",
    "print(keepers.count())"
   ]
  },
  {
   "cell_type": "code",
   "execution_count": 9,
   "metadata": {},
   "outputs": [],
   "source": [
    "# Since this is the master list of subreddits we'll write it to a file for future use\n",
    "word_vocabulary.write.parquet(\"dataframes/subreddits.parquet\")"
   ]
  },
  {
   "cell_type": "markdown",
   "metadata": {},
   "source": [
    "*Drop values from training data if they aren't in the word vocabulary*"
   ]
  },
  {
   "cell_type": "code",
   "execution_count": null,
   "metadata": {},
   "outputs": [],
   "source": [
    "training_data = training_data.join(word_vocabulary, ['subreddit'], 'leftsemi').distinct()\n",
    "training_data.show()"
   ]
  },
  {
   "cell_type": "markdown",
   "metadata": {},
   "source": [
    "### Context Vocabulary"
   ]
  },
  {
   "cell_type": "code",
   "execution_count": null,
   "metadata": {},
   "outputs": [],
   "source": [
    "context_vocabulary = training_data.groupBy(\"author\").agg(_sum('count').alias('count')).cache()\n",
    "context_vocabulary.show()"
   ]
  },
  {
   "cell_type": "code",
   "execution_count": null,
   "metadata": {},
   "outputs": [],
   "source": [
    "context_vocabulary.count()"
   ]
  },
  {
   "cell_type": "markdown",
   "metadata": {},
   "source": [
    "### Visualize number of comments per political sub"
   ]
  },
  {
   "cell_type": "code",
   "execution_count": 26,
   "metadata": {
    "scrolled": true
   },
   "outputs": [
    {
     "data": {
      "text/html": [
       "<div>\n",
       "<style scoped>\n",
       "    .dataframe tbody tr th:only-of-type {\n",
       "        vertical-align: middle;\n",
       "    }\n",
       "\n",
       "    .dataframe tbody tr th {\n",
       "        vertical-align: top;\n",
       "    }\n",
       "\n",
       "    .dataframe thead th {\n",
       "        text-align: right;\n",
       "    }\n",
       "</style>\n",
       "<table border=\"1\" class=\"dataframe\">\n",
       "  <thead>\n",
       "    <tr style=\"text-align: right;\">\n",
       "      <th></th>\n",
       "      <th>subreddit</th>\n",
       "      <th>count</th>\n",
       "    </tr>\n",
       "  </thead>\n",
       "  <tbody>\n",
       "    <tr>\n",
       "      <th>0</th>\n",
       "      <td>demsocialist</td>\n",
       "      <td>1135</td>\n",
       "    </tr>\n",
       "    <tr>\n",
       "      <th>1</th>\n",
       "      <td>progressive</td>\n",
       "      <td>16565</td>\n",
       "    </tr>\n",
       "    <tr>\n",
       "      <th>2</th>\n",
       "      <td>Pete_Buttigieg</td>\n",
       "      <td>354883</td>\n",
       "    </tr>\n",
       "    <tr>\n",
       "      <th>3</th>\n",
       "      <td>JoeBiden</td>\n",
       "      <td>15303</td>\n",
       "    </tr>\n",
       "    <tr>\n",
       "      <th>4</th>\n",
       "      <td>centerleftpolitics</td>\n",
       "      <td>550117</td>\n",
       "    </tr>\n",
       "  </tbody>\n",
       "</table>\n",
       "</div>"
      ],
      "text/plain": [
       "            subreddit   count\n",
       "0        demsocialist    1135\n",
       "1         progressive   16565\n",
       "2      Pete_Buttigieg  354883\n",
       "3            JoeBiden   15303\n",
       "4  centerleftpolitics  550117"
      ]
     },
     "execution_count": 26,
     "metadata": {},
     "output_type": "execute_result"
    }
   ],
   "source": [
    "political_subreddits = [\"JoeBiden\",\"Pete_Buttigieg\",\"Kamala\",\n",
    "                        \"SandersForPresident\",\"BetoORourke\",\"ElizabethWarren\",\n",
    "                        \"BaemyKlobaechar\",\"YangForPresidentHQ\",\"politics\",\"progressive\",\n",
    "                        \"demsocialist\",\"SocialDemocracy\",\"centerleftpolitics\",\"ConservativeDemocrat\",\n",
    "                        \"moderatepolitics\"]\n",
    "wdf = word_vocabulary.filter(word_vocabulary.subreddit.isin(political_subreddits)).toPandas()\n",
    "wdf.head()"
   ]
  },
  {
   "cell_type": "code",
   "execution_count": 27,
   "metadata": {},
   "outputs": [
    {
     "data": {
      "image/png": "[encoded data removed]",
      "text/plain": [
       "<Figure size 432x288 with 1 Axes>"
      ]
     },
     "metadata": {
      "needs_background": "light"
     },
     "output_type": "display_data"
    }
   ],
   "source": [
    "fig = plt.figure()\n",
    "plt.yscale('log')\n",
    "plt.title('Number Comments per Political Subreddit')\n",
    "\n",
    "plt.ylabel('Number of Comments')\n",
    "plt.bar(wdf[\"subreddit\"],wdf[\"count\"])\n",
    "plt.xticks(rotation='vertical')\n",
    "fig.tight_layout()"
   ]
  },
  {
   "cell_type": "markdown",
   "metadata": {},
   "source": [
    "## Write Vocabularies and Training Data to File"
   ]
  },
  {
   "cell_type": "code",
   "execution_count": 6,
   "metadata": {},
   "outputs": [
    {
     "data": {
      "text/plain": [
       "CompletedProcess(args='mkdir -p /h/224/cameron/Political-Subreddit-Embedding/temp/', returncode=0)"
      ]
     },
     "execution_count": 6,
     "metadata": {},
     "output_type": "execute_result"
    }
   ],
   "source": [
    "# Create a temp context for the word and context vocabulary files (which get passed to the word2vecf script)\n",
    "# temp_dir = tempfile.TemporaryDirectory()\n",
    "import subprocess\n",
    "import sys\n",
    "import os\n",
    "temp_dir = \"/h/224/cameron/Political-Subreddit-Embedding/temp/\"\n",
    "subprocess.run(\"mkdir -p {}\".format(temp_dir), shell=True)"
   ]
  },
  {
   "cell_type": "code",
   "execution_count": 7,
   "metadata": {},
   "outputs": [],
   "source": [
    "# Create temp files\n",
    "file_data = os.path.join(temp_dir, 'data.txt')\n",
    "file_wv = os.path.join(temp_dir, 'wv.txt')\n",
    "file_cv = os.path.join(temp_dir, 'cv.txt')"
   ]
  },
  {
   "cell_type": "code",
   "execution_count": 36,
   "metadata": {},
   "outputs": [
    {
     "name": "stdout",
     "output_type": "stream",
     "text": [
      "Writing training data to /h/224/cameron/Political-Subreddit-Embedding/temp/data_2.txt...\n"
     ]
    },
    {
     "data": {
      "text/plain": [
       "DataFrame[subreddit: string, author: string, count: bigint]"
      ]
     },
     "execution_count": 36,
     "metadata": {},
     "output_type": "execute_result"
    }
   ],
   "source": [
    "print(\"Writing training data to {}...\".format(file_data))\n",
    "training_data.toPandas().to_csv(file_data, header=False, index=False, sep=' ')\n",
    "training_data.unpersist()"
   ]
  },
  {
   "cell_type": "code",
   "execution_count": 37,
   "metadata": {},
   "outputs": [
    {
     "name": "stdout",
     "output_type": "stream",
     "text": [
      "Writing word vocab data to /h/224/cameron/Political-Subreddit-Embedding/temp/wv_2.txt...\n"
     ]
    },
    {
     "data": {
      "text/plain": [
       "DataFrame[subreddit: string, count: bigint]"
      ]
     },
     "execution_count": 37,
     "metadata": {},
     "output_type": "execute_result"
    }
   ],
   "source": [
    "print(\"Writing word vocab data to {}...\".format(file_wv))\n",
    "word_vocabulary.toPandas().to_csv(file_wv, header=False, index=False, sep=' ')\n",
    "word_vocabulary.unpersist()"
   ]
  },
  {
   "cell_type": "code",
   "execution_count": 38,
   "metadata": {},
   "outputs": [
    {
     "name": "stdout",
     "output_type": "stream",
     "text": [
      "Writing context vocab data to /h/224/cameron/Political-Subreddit-Embedding/temp/cv_2.txt...\n"
     ]
    },
    {
     "data": {
      "text/plain": [
       "DataFrame[author: string, count: bigint]"
      ]
     },
     "execution_count": 38,
     "metadata": {},
     "output_type": "execute_result"
    }
   ],
   "source": [
    "print(\"Writing context vocab data to {}...\".format(file_cv))\n",
    "context_vocabulary.toPandas().to_csv(file_cv, header=False, index=False, sep=' ')\n",
    "context_vocabulary.unpersist()"
   ]
  },
  {
   "cell_type": "markdown",
   "metadata": {},
   "source": [
    "## Train Embedding"
   ]
  },
  {
   "cell_type": "code",
   "execution_count": 4,
   "metadata": {},
   "outputs": [],
   "source": [
    "from utils import generate_embedding, load_embedding"
   ]
  },
  {
   "cell_type": "code",
   "execution_count": 8,
   "metadata": {},
   "outputs": [
    {
     "data": {
      "application/vnd.jupyter.widget-view+json": {
       "model_id": "bd9e0019030f4f3d8494ea3d954803bb",
       "version_major": 2,
       "version_minor": 0
      },
      "text/plain": [
       "HBox(children=(FloatProgress(value=0.0, max=121.0), HTML(value='')))"
      ]
     },
     "metadata": {},
     "output_type": "display_data"
    },
    {
     "name": "stdout",
     "output_type": "stream",
     "text": [
      "\n"
     ]
    }
   ],
   "source": [
    "# Word2vec parameters, using negative sampling\n",
    "# -alpha 0.18 -negative 35 -sample 0.0043 -size 150\n",
    "embedding_args = {\n",
    "                    \"param1\": \"sample\", \n",
    "                    \"param2\": \"negative\", \n",
    "                    \"file_data\": file_data , \n",
    "                    \"file_wv\": file_wv, \n",
    "                    \"file_cv\": file_cv,\n",
    "                    \"size\": 150,\n",
    "                    \"alpha\": 0.18\n",
    "                 }\n",
    "p1_vals = list(map(lambda x : format(x,'.4f'),np.linspace(0.001,0.01,11)))\n",
    "p2_vals = np.linspace(15,95,11)\n",
    "embedding_params = [(p1,p2) for p1 in p1_vals for p2 in p2_vals]\n",
    "embedding_fps = list(map(lambda tp : generate_embedding(p1=tp[0],p2=tp[1],**embedding_args), tqdm(embedding_params)))"
   ]
  },
  {
   "cell_type": "code",
   "execution_count": 9,
   "metadata": {},
   "outputs": [
    {
     "data": {
      "application/vnd.jupyter.widget-view+json": {
       "model_id": "84c02dddaf2e48609262be05bb610245",
       "version_major": 2,
       "version_minor": 0
      },
      "text/plain": [
       "HBox(children=(FloatProgress(value=0.0, max=121.0), HTML(value='')))"
      ]
     },
     "metadata": {},
     "output_type": "display_data"
    },
    {
     "name": "stdout",
     "output_type": "stream",
     "text": [
      "\n"
     ]
    }
   ],
   "source": [
    "embedding_dfs = list(map(lambda e : load_embedding(e,split=False), tqdm(embedding_fps)))"
   ]
  },
  {
   "cell_type": "markdown",
   "metadata": {},
   "source": [
    "## Evaluate"
   ]
  },
  {
   "cell_type": "code",
   "execution_count": 10,
   "metadata": {
    "scrolled": true
   },
   "outputs": [
    {
     "data": {
      "text/plain": [
       "[82.9896907216495,\n",
       " 71.8213058419244,\n",
       " 71.30584192439862,\n",
       " 67.18213058419244,\n",
       " 74.91408934707904,\n",
       " 68.90034364261169,\n",
       " 74.22680412371135,\n",
       " 77.66323024054984,\n",
       " 74.39862542955326,\n",
       " 72.5085910652921,\n",
       " 75.08591065292096,\n",
       " 76.97594501718214,\n",
       " 69.41580756013745,\n",
       " 68.21305841924399,\n",
       " 70.27491408934708,\n",
       " 76.80412371134021,\n",
       " 68.90034364261169,\n",
       " 75.60137457044674,\n",
       " 75.4295532646048,\n",
       " 69.41580756013745,\n",
       " 73.02405498281786,\n",
       " 69.7594501718213,\n",
       " 75.4295532646048,\n",
       " 78.52233676975945,\n",
       " 74.22680412371135,\n",
       " 78.8659793814433,\n",
       " 76.28865979381443,\n",
       " 76.6323024054983,\n",
       " 73.02405498281786,\n",
       " 76.1168384879725,\n",
       " 73.71134020618557,\n",
       " 76.97594501718214,\n",
       " 77.31958762886599,\n",
       " 75.08591065292096,\n",
       " 74.05498281786942,\n",
       " 78.52233676975945,\n",
       " 66.83848797250859,\n",
       " 75.60137457044674,\n",
       " 70.27491408934708,\n",
       " 64.08934707903781,\n",
       " 66.49484536082474,\n",
       " 74.74226804123711,\n",
       " 65.63573883161511,\n",
       " 72.33676975945016,\n",
       " 74.74226804123711,\n",
       " 74.74226804123711,\n",
       " 0.6872852233676976,\n",
       " 65.12027491408935,\n",
       " 74.39862542955326,\n",
       " 71.30584192439862,\n",
       " 68.04123711340206,\n",
       " 80.9278350515464,\n",
       " 75.08591065292096,\n",
       " 74.39862542955326,\n",
       " 64.26116838487972,\n",
       " 64.08934707903781,\n",
       " 75.08591065292096,\n",
       " 72.85223367697594,\n",
       " 65.63573883161511,\n",
       " 65.80756013745705,\n",
       " 73.19587628865979,\n",
       " 80.06872852233677,\n",
       " 82.30240549828179,\n",
       " 75.60137457044674,\n",
       " 75.60137457044674,\n",
       " 73.19587628865979,\n",
       " 80.75601374570446,\n",
       " 79.89690721649485,\n",
       " 74.91408934707904,\n",
       " 7.0446735395189,\n",
       " 81.09965635738831,\n",
       " 81.27147766323024,\n",
       " 73.53951890034365,\n",
       " 69.58762886597938,\n",
       " 74.22680412371135,\n",
       " 25.42955326460481,\n",
       " 28.350515463917525,\n",
       " 30.756013745704468,\n",
       " 28.350515463917525,\n",
       " 36.25429553264605,\n",
       " 31.27147766323024,\n",
       " 79.20962199312714,\n",
       " 77.66323024054984,\n",
       " 74.91408934707904,\n",
       " 67.35395189003437,\n",
       " 72.85223367697594,\n",
       " 63.745704467353946,\n",
       " 77.14776632302406,\n",
       " 75.08591065292096,\n",
       " 66.49484536082474,\n",
       " 77.4914089347079,\n",
       " 69.0721649484536,\n",
       " 74.74226804123711,\n",
       " 72.5085910652921,\n",
       " 71.8213058419244,\n",
       " 74.05498281786942,\n",
       " 71.99312714776632,\n",
       " 69.0721649484536,\n",
       " 73.19587628865979,\n",
       " 73.3676975945017,\n",
       " 73.71134020618557,\n",
       " 71.99312714776632,\n",
       " 75.77319587628865,\n",
       " 70.79037800687286,\n",
       " 64.26116838487972,\n",
       " 71.99312714776632,\n",
       " 78.69415807560138,\n",
       " 59.965635738831615,\n",
       " 82.4742268041237,\n",
       " 74.05498281786942,\n",
       " 80.2405498281787,\n",
       " 41.75257731958763,\n",
       " 75.94501718213058,\n",
       " 76.80412371134021,\n",
       " 74.05498281786942,\n",
       " 72.16494845360825,\n",
       " 77.4914089347079,\n",
       " 72.33676975945016,\n",
       " 73.3676975945017,\n",
       " 79.03780068728523,\n",
       " 76.97594501718214]"
      ]
     },
     "execution_count": 10,
     "metadata": {},
     "output_type": "execute_result"
    }
   ],
   "source": [
    "from ipynb.fs.defs.Analogies import predict_analogies, score\n",
    "import plotly.graph_objects as go\n",
    "\n",
    "# def get_score(embedding):\n",
    "#     pred,actual,_ = predict_analogies([\"football\",\"basketball\",\"baseball\",\"hockey\",\"populous_cities\"],embedding,frac=0.5,show_prog=False)\n",
    "#     acc, _ = score(pred,actual)\n",
    "#     return acc\n",
    "\n",
    "# assesment_scores = list(map(get_score,tqdm(embedding_dfs)))\n",
    "assesment_scores = [82.9896907216495,\n",
    " 71.8213058419244,\n",
    " 71.30584192439862,\n",
    " 67.18213058419244,\n",
    " 74.91408934707904,\n",
    " 68.90034364261169,\n",
    " 74.22680412371135,\n",
    " 77.66323024054984,\n",
    " 74.39862542955326,\n",
    " 72.5085910652921,\n",
    " 75.08591065292096,\n",
    " 76.97594501718214,\n",
    " 69.41580756013745,\n",
    " 68.21305841924399,\n",
    " 70.27491408934708,\n",
    " 76.80412371134021,\n",
    " 68.90034364261169,\n",
    " 75.60137457044674,\n",
    " 75.4295532646048,\n",
    " 69.41580756013745,\n",
    " 73.02405498281786,\n",
    " 69.7594501718213,\n",
    " 75.4295532646048,\n",
    " 78.52233676975945,\n",
    " 74.22680412371135,\n",
    " 78.8659793814433,\n",
    " 76.28865979381443,\n",
    " 76.6323024054983,\n",
    " 73.02405498281786,\n",
    " 76.1168384879725,\n",
    " 73.71134020618557,\n",
    " 76.97594501718214,\n",
    " 77.31958762886599,\n",
    " 75.08591065292096,\n",
    " 74.05498281786942,\n",
    " 78.52233676975945,\n",
    " 66.83848797250859,\n",
    " 75.60137457044674,\n",
    " 70.27491408934708,\n",
    " 64.08934707903781,\n",
    " 66.49484536082474,\n",
    " 74.74226804123711,\n",
    " 65.63573883161511,\n",
    " 72.33676975945016,\n",
    " 74.74226804123711,\n",
    " 74.74226804123711,\n",
    " 0.6872852233676976,\n",
    " 65.12027491408935,\n",
    " 74.39862542955326,\n",
    " 71.30584192439862,\n",
    " 68.04123711340206,\n",
    " 80.9278350515464,\n",
    " 75.08591065292096,\n",
    " 74.39862542955326,\n",
    " 64.26116838487972,\n",
    " 64.08934707903781,\n",
    " 75.08591065292096,\n",
    " 72.85223367697594,\n",
    " 65.63573883161511,\n",
    " 65.80756013745705,\n",
    " 73.19587628865979,\n",
    " 80.06872852233677,\n",
    " 82.30240549828179,\n",
    " 75.60137457044674,\n",
    " 75.60137457044674,\n",
    " 73.19587628865979,\n",
    " 80.75601374570446,\n",
    " 79.89690721649485,\n",
    " 74.91408934707904,\n",
    " 7.0446735395189,\n",
    " 81.09965635738831,\n",
    " 81.27147766323024,\n",
    " 73.53951890034365,\n",
    " 69.58762886597938,\n",
    " 74.22680412371135,\n",
    " 25.42955326460481,\n",
    " 28.350515463917525,\n",
    " 30.756013745704468,\n",
    " 28.350515463917525,\n",
    " 36.25429553264605,\n",
    " 31.27147766323024,\n",
    " 79.20962199312714,\n",
    " 77.66323024054984,\n",
    " 74.91408934707904,\n",
    " 67.35395189003437,\n",
    " 72.85223367697594,\n",
    " 63.745704467353946,\n",
    " 77.14776632302406,\n",
    " 75.08591065292096,\n",
    " 66.49484536082474,\n",
    " 77.4914089347079,\n",
    " 69.0721649484536,\n",
    " 74.74226804123711,\n",
    " 72.5085910652921,\n",
    " 71.8213058419244,\n",
    " 74.05498281786942,\n",
    " 71.99312714776632,\n",
    " 69.0721649484536,\n",
    " 73.19587628865979,\n",
    " 73.3676975945017,\n",
    " 73.71134020618557,\n",
    " 71.99312714776632,\n",
    " 75.77319587628865,\n",
    " 70.79037800687286,\n",
    " 64.26116838487972,\n",
    " 71.99312714776632,\n",
    " 78.69415807560138,\n",
    " 59.965635738831615,\n",
    " 82.4742268041237,\n",
    " 74.05498281786942,\n",
    " 80.2405498281787,\n",
    " 41.75257731958763,\n",
    " 75.94501718213058,\n",
    " 76.80412371134021,\n",
    " 74.05498281786942,\n",
    " 72.16494845360825,\n",
    " 77.4914089347079,\n",
    " 72.33676975945016,\n",
    " 73.3676975945017,\n",
    " 79.03780068728523,\n",
    " 76.97594501718214]\n",
    "assesment_scores"
   ]
  },
  {
   "cell_type": "code",
   "execution_count": 12,
   "metadata": {
    "scrolled": true
   },
   "outputs": [
    {
     "name": "stdout",
     "output_type": "stream",
     "text": [
      "Best performing embedding (sample: 0.0010, negative: 15.0) had accuracy of 82.99%\n",
      "\t file_path: ./trained_embeddings/vecs_0.0010_15.0.txt\n"
     ]
    },
    {
     "data": {
      "application/vnd.plotly.v1+json": {
       "config": {
        "plotlyServerURL": "https://plot.ly"
       },
       "data": [
        {
         "colorbar": {
          "title": {
           "text": "Acc %"
          }
         },
         "type": "heatmap",
         "x": [
          15,
          23,
          31,
          39,
          47,
          55,
          63,
          71,
          79,
          87,
          95
         ],
         "y": [
          0.001,
          0.0019,
          0.0028,
          0.0037,
          0.0046,
          0.0055,
          0.0064,
          0.0073,
          0.0082,
          0.0091,
          0.01
         ],
         "z": [
          [
           82.9896907216495,
           71.8213058419244,
           71.30584192439862,
           67.18213058419244,
           74.91408934707904,
           68.90034364261169,
           74.22680412371135,
           77.66323024054984,
           74.39862542955326,
           72.5085910652921,
           75.08591065292096
          ],
          [
           76.97594501718214,
           69.41580756013745,
           68.21305841924399,
           70.27491408934708,
           76.80412371134021,
           68.90034364261169,
           75.60137457044674,
           75.4295532646048,
           69.41580756013745,
           73.02405498281786,
           69.7594501718213
          ],
          [
           75.4295532646048,
           78.52233676975945,
           74.22680412371135,
           78.8659793814433,
           76.28865979381443,
           76.6323024054983,
           73.02405498281786,
           76.1168384879725,
           73.71134020618557,
           76.97594501718214,
           77.31958762886599
          ],
          [
           75.08591065292096,
           74.05498281786942,
           78.52233676975945,
           66.83848797250859,
           75.60137457044674,
           70.27491408934708,
           64.08934707903781,
           66.49484536082474,
           74.74226804123711,
           65.63573883161511,
           72.33676975945016
          ],
          [
           74.74226804123711,
           74.74226804123711,
           0.6872852233676976,
           65.12027491408935,
           74.39862542955326,
           71.30584192439862,
           68.04123711340206,
           80.9278350515464,
           75.08591065292096,
           74.39862542955326,
           64.26116838487972
          ],
          [
           64.08934707903781,
           75.08591065292096,
           72.85223367697594,
           65.63573883161511,
           65.80756013745705,
           73.19587628865979,
           80.06872852233677,
           82.30240549828179,
           75.60137457044674,
           75.60137457044674,
           73.19587628865979
          ],
          [
           80.75601374570446,
           79.89690721649485,
           74.91408934707904,
           7.0446735395189,
           81.09965635738831,
           81.27147766323024,
           73.53951890034365,
           69.58762886597938,
           74.22680412371135,
           25.42955326460481,
           28.350515463917525
          ],
          [
           30.756013745704468,
           28.350515463917525,
           36.25429553264605,
           31.27147766323024,
           79.20962199312714,
           77.66323024054984,
           74.91408934707904,
           67.35395189003437,
           72.85223367697594,
           63.745704467353946,
           77.14776632302406
          ],
          [
           75.08591065292096,
           66.49484536082474,
           77.4914089347079,
           69.0721649484536,
           74.74226804123711,
           72.5085910652921,
           71.8213058419244,
           74.05498281786942,
           71.99312714776632,
           69.0721649484536,
           73.19587628865979
          ],
          [
           73.3676975945017,
           73.71134020618557,
           71.99312714776632,
           75.77319587628865,
           70.79037800687286,
           64.26116838487972,
           71.99312714776632,
           78.69415807560138,
           59.965635738831615,
           82.4742268041237,
           74.05498281786942
          ],
          [
           80.2405498281787,
           41.75257731958763,
           75.94501718213058,
           76.80412371134021,
           74.05498281786942,
           72.16494845360825,
           77.4914089347079,
           72.33676975945016,
           73.3676975945017,
           79.03780068728523,
           76.97594501718214
          ]
         ]
        }
       ],
       "layout": {
        "font": {
         "size": 23
        },
        "height": 500,
        "template": {
         "data": {
          "bar": [
           {
            "error_x": {
             "color": "rgb(36,36,36)"
            },
            "error_y": {
             "color": "rgb(36,36,36)"
            },
            "marker": {
             "line": {
              "color": "white",
              "width": 0.5
             }
            },
            "type": "bar"
           }
          ],
          "barpolar": [
           {
            "marker": {
             "line": {
              "color": "white",
              "width": 0.5
             }
            },
            "type": "barpolar"
           }
          ],
          "carpet": [
           {
            "aaxis": {
             "endlinecolor": "rgb(36,36,36)",
             "gridcolor": "white",
             "linecolor": "white",
             "minorgridcolor": "white",
             "startlinecolor": "rgb(36,36,36)"
            },
            "baxis": {
             "endlinecolor": "rgb(36,36,36)",
             "gridcolor": "white",
             "linecolor": "white",
             "minorgridcolor": "white",
             "startlinecolor": "rgb(36,36,36)"
            },
            "type": "carpet"
           }
          ],
          "choropleth": [
           {
            "colorbar": {
             "outlinewidth": 1,
             "tickcolor": "rgb(36,36,36)",
             "ticks": "outside"
            },
            "type": "choropleth"
           }
          ],
          "contour": [
           {
            "colorbar": {
             "outlinewidth": 1,
             "tickcolor": "rgb(36,36,36)",
             "ticks": "outside"
            },
            "colorscale": [
             [
              0,
              "#440154"
             ],
             [
              0.1111111111111111,
              "#482878"
             ],
             [
              0.2222222222222222,
              "#3e4989"
             ],
             [
              0.3333333333333333,
              "#31688e"
             ],
             [
              0.4444444444444444,
              "#26828e"
             ],
             [
              0.5555555555555556,
              "#1f9e89"
             ],
             [
              0.6666666666666666,
              "#35b779"
             ],
             [
              0.7777777777777778,
              "#6ece58"
             ],
             [
              0.8888888888888888,
              "#b5de2b"
             ],
             [
              1,
              "#fde725"
             ]
            ],
            "type": "contour"
           }
          ],
          "contourcarpet": [
           {
            "colorbar": {
             "outlinewidth": 1,
             "tickcolor": "rgb(36,36,36)",
             "ticks": "outside"
            },
            "type": "contourcarpet"
           }
          ],
          "heatmap": [
           {
            "colorbar": {
             "outlinewidth": 1,
             "tickcolor": "rgb(36,36,36)",
             "ticks": "outside"
            },
            "colorscale": [
             [
              0,
              "#440154"
             ],
             [
              0.1111111111111111,
              "#482878"
             ],
             [
              0.2222222222222222,
              "#3e4989"
             ],
             [
              0.3333333333333333,
              "#31688e"
             ],
             [
              0.4444444444444444,
              "#26828e"
             ],
             [
              0.5555555555555556,
              "#1f9e89"
             ],
             [
              0.6666666666666666,
              "#35b779"
             ],
             [
              0.7777777777777778,
              "#6ece58"
             ],
             [
              0.8888888888888888,
              "#b5de2b"
             ],
             [
              1,
              "#fde725"
             ]
            ],
            "type": "heatmap"
           }
          ],
          "heatmapgl": [
           {
            "colorbar": {
             "outlinewidth": 1,
             "tickcolor": "rgb(36,36,36)",
             "ticks": "outside"
            },
            "colorscale": [
             [
              0,
              "#440154"
             ],
             [
              0.1111111111111111,
              "#482878"
             ],
             [
              0.2222222222222222,
              "#3e4989"
             ],
             [
              0.3333333333333333,
              "#31688e"
             ],
             [
              0.4444444444444444,
              "#26828e"
             ],
             [
              0.5555555555555556,
              "#1f9e89"
             ],
             [
              0.6666666666666666,
              "#35b779"
             ],
             [
              0.7777777777777778,
              "#6ece58"
             ],
             [
              0.8888888888888888,
              "#b5de2b"
             ],
             [
              1,
              "#fde725"
             ]
            ],
            "type": "heatmapgl"
           }
          ],
          "histogram": [
           {
            "marker": {
             "line": {
              "color": "white",
              "width": 0.6
             }
            },
            "type": "histogram"
           }
          ],
          "histogram2d": [
           {
            "colorbar": {
             "outlinewidth": 1,
             "tickcolor": "rgb(36,36,36)",
             "ticks": "outside"
            },
            "colorscale": [
             [
              0,
              "#440154"
             ],
             [
              0.1111111111111111,
              "#482878"
             ],
             [
              0.2222222222222222,
              "#3e4989"
             ],
             [
              0.3333333333333333,
              "#31688e"
             ],
             [
              0.4444444444444444,
              "#26828e"
             ],
             [
              0.5555555555555556,
              "#1f9e89"
             ],
             [
              0.6666666666666666,
              "#35b779"
             ],
             [
              0.7777777777777778,
              "#6ece58"
             ],
             [
              0.8888888888888888,
              "#b5de2b"
             ],
             [
              1,
              "#fde725"
             ]
            ],
            "type": "histogram2d"
           }
          ],
          "histogram2dcontour": [
           {
            "colorbar": {
             "outlinewidth": 1,
             "tickcolor": "rgb(36,36,36)",
             "ticks": "outside"
            },
            "colorscale": [
             [
              0,
              "#440154"
             ],
             [
              0.1111111111111111,
              "#482878"
             ],
             [
              0.2222222222222222,
              "#3e4989"
             ],
             [
              0.3333333333333333,
              "#31688e"
             ],
             [
              0.4444444444444444,
              "#26828e"
             ],
             [
              0.5555555555555556,
              "#1f9e89"
             ],
             [
              0.6666666666666666,
              "#35b779"
             ],
             [
              0.7777777777777778,
              "#6ece58"
             ],
             [
              0.8888888888888888,
              "#b5de2b"
             ],
             [
              1,
              "#fde725"
             ]
            ],
            "type": "histogram2dcontour"
           }
          ],
          "mesh3d": [
           {
            "colorbar": {
             "outlinewidth": 1,
             "tickcolor": "rgb(36,36,36)",
             "ticks": "outside"
            },
            "type": "mesh3d"
           }
          ],
          "parcoords": [
           {
            "line": {
             "colorbar": {
              "outlinewidth": 1,
              "tickcolor": "rgb(36,36,36)",
              "ticks": "outside"
             }
            },
            "type": "parcoords"
           }
          ],
          "pie": [
           {
            "automargin": true,
            "type": "pie"
           }
          ],
          "scatter": [
           {
            "marker": {
             "colorbar": {
              "outlinewidth": 1,
              "tickcolor": "rgb(36,36,36)",
              "ticks": "outside"
             }
            },
            "type": "scatter"
           }
          ],
          "scatter3d": [
           {
            "line": {
             "colorbar": {
              "outlinewidth": 1,
              "tickcolor": "rgb(36,36,36)",
              "ticks": "outside"
             }
            },
            "marker": {
             "colorbar": {
              "outlinewidth": 1,
              "tickcolor": "rgb(36,36,36)",
              "ticks": "outside"
             }
            },
            "type": "scatter3d"
           }
          ],
          "scattercarpet": [
           {
            "marker": {
             "colorbar": {
              "outlinewidth": 1,
              "tickcolor": "rgb(36,36,36)",
              "ticks": "outside"
             }
            },
            "type": "scattercarpet"
           }
          ],
          "scattergeo": [
           {
            "marker": {
             "colorbar": {
              "outlinewidth": 1,
              "tickcolor": "rgb(36,36,36)",
              "ticks": "outside"
             }
            },
            "type": "scattergeo"
           }
          ],
          "scattergl": [
           {
            "marker": {
             "colorbar": {
              "outlinewidth": 1,
              "tickcolor": "rgb(36,36,36)",
              "ticks": "outside"
             }
            },
            "type": "scattergl"
           }
          ],
          "scattermapbox": [
           {
            "marker": {
             "colorbar": {
              "outlinewidth": 1,
              "tickcolor": "rgb(36,36,36)",
              "ticks": "outside"
             }
            },
            "type": "scattermapbox"
           }
          ],
          "scatterpolar": [
           {
            "marker": {
             "colorbar": {
              "outlinewidth": 1,
              "tickcolor": "rgb(36,36,36)",
              "ticks": "outside"
             }
            },
            "type": "scatterpolar"
           }
          ],
          "scatterpolargl": [
           {
            "marker": {
             "colorbar": {
              "outlinewidth": 1,
              "tickcolor": "rgb(36,36,36)",
              "ticks": "outside"
             }
            },
            "type": "scatterpolargl"
           }
          ],
          "scatterternary": [
           {
            "marker": {
             "colorbar": {
              "outlinewidth": 1,
              "tickcolor": "rgb(36,36,36)",
              "ticks": "outside"
             }
            },
            "type": "scatterternary"
           }
          ],
          "surface": [
           {
            "colorbar": {
             "outlinewidth": 1,
             "tickcolor": "rgb(36,36,36)",
             "ticks": "outside"
            },
            "colorscale": [
             [
              0,
              "#440154"
             ],
             [
              0.1111111111111111,
              "#482878"
             ],
             [
              0.2222222222222222,
              "#3e4989"
             ],
             [
              0.3333333333333333,
              "#31688e"
             ],
             [
              0.4444444444444444,
              "#26828e"
             ],
             [
              0.5555555555555556,
              "#1f9e89"
             ],
             [
              0.6666666666666666,
              "#35b779"
             ],
             [
              0.7777777777777778,
              "#6ece58"
             ],
             [
              0.8888888888888888,
              "#b5de2b"
             ],
             [
              1,
              "#fde725"
             ]
            ],
            "type": "surface"
           }
          ],
          "table": [
           {
            "cells": {
             "fill": {
              "color": "rgb(237,237,237)"
             },
             "line": {
              "color": "white"
             }
            },
            "header": {
             "fill": {
              "color": "rgb(217,217,217)"
             },
             "line": {
              "color": "white"
             }
            },
            "type": "table"
           }
          ]
         },
         "layout": {
          "annotationdefaults": {
           "arrowhead": 0,
           "arrowwidth": 1
          },
          "coloraxis": {
           "colorbar": {
            "outlinewidth": 1,
            "tickcolor": "rgb(36,36,36)",
            "ticks": "outside"
           }
          },
          "colorscale": {
           "diverging": [
            [
             0,
             "rgb(103,0,31)"
            ],
            [
             0.1,
             "rgb(178,24,43)"
            ],
            [
             0.2,
             "rgb(214,96,77)"
            ],
            [
             0.3,
             "rgb(244,165,130)"
            ],
            [
             0.4,
             "rgb(253,219,199)"
            ],
            [
             0.5,
             "rgb(247,247,247)"
            ],
            [
             0.6,
             "rgb(209,229,240)"
            ],
            [
             0.7,
             "rgb(146,197,222)"
            ],
            [
             0.8,
             "rgb(67,147,195)"
            ],
            [
             0.9,
             "rgb(33,102,172)"
            ],
            [
             1,
             "rgb(5,48,97)"
            ]
           ],
           "sequential": [
            [
             0,
             "#440154"
            ],
            [
             0.1111111111111111,
             "#482878"
            ],
            [
             0.2222222222222222,
             "#3e4989"
            ],
            [
             0.3333333333333333,
             "#31688e"
            ],
            [
             0.4444444444444444,
             "#26828e"
            ],
            [
             0.5555555555555556,
             "#1f9e89"
            ],
            [
             0.6666666666666666,
             "#35b779"
            ],
            [
             0.7777777777777778,
             "#6ece58"
            ],
            [
             0.8888888888888888,
             "#b5de2b"
            ],
            [
             1,
             "#fde725"
            ]
           ],
           "sequentialminus": [
            [
             0,
             "#440154"
            ],
            [
             0.1111111111111111,
             "#482878"
            ],
            [
             0.2222222222222222,
             "#3e4989"
            ],
            [
             0.3333333333333333,
             "#31688e"
            ],
            [
             0.4444444444444444,
             "#26828e"
            ],
            [
             0.5555555555555556,
             "#1f9e89"
            ],
            [
             0.6666666666666666,
             "#35b779"
            ],
            [
             0.7777777777777778,
             "#6ece58"
            ],
            [
             0.8888888888888888,
             "#b5de2b"
            ],
            [
             1,
             "#fde725"
            ]
           ]
          },
          "colorway": [
           "#1F77B4",
           "#FF7F0E",
           "#2CA02C",
           "#D62728",
           "#9467BD",
           "#8C564B",
           "#E377C2",
           "#7F7F7F",
           "#BCBD22",
           "#17BECF"
          ],
          "font": {
           "color": "rgb(36,36,36)"
          },
          "geo": {
           "bgcolor": "white",
           "lakecolor": "white",
           "landcolor": "white",
           "showlakes": true,
           "showland": true,
           "subunitcolor": "white"
          },
          "hoverlabel": {
           "align": "left"
          },
          "hovermode": "closest",
          "mapbox": {
           "style": "light"
          },
          "paper_bgcolor": "white",
          "plot_bgcolor": "white",
          "polar": {
           "angularaxis": {
            "gridcolor": "rgb(232,232,232)",
            "linecolor": "rgb(36,36,36)",
            "showgrid": false,
            "showline": true,
            "ticks": "outside"
           },
           "bgcolor": "white",
           "radialaxis": {
            "gridcolor": "rgb(232,232,232)",
            "linecolor": "rgb(36,36,36)",
            "showgrid": false,
            "showline": true,
            "ticks": "outside"
           }
          },
          "scene": {
           "xaxis": {
            "backgroundcolor": "white",
            "gridcolor": "rgb(232,232,232)",
            "gridwidth": 2,
            "linecolor": "rgb(36,36,36)",
            "showbackground": true,
            "showgrid": false,
            "showline": true,
            "ticks": "outside",
            "zeroline": false,
            "zerolinecolor": "rgb(36,36,36)"
           },
           "yaxis": {
            "backgroundcolor": "white",
            "gridcolor": "rgb(232,232,232)",
            "gridwidth": 2,
            "linecolor": "rgb(36,36,36)",
            "showbackground": true,
            "showgrid": false,
            "showline": true,
            "ticks": "outside",
            "zeroline": false,
            "zerolinecolor": "rgb(36,36,36)"
           },
           "zaxis": {
            "backgroundcolor": "white",
            "gridcolor": "rgb(232,232,232)",
            "gridwidth": 2,
            "linecolor": "rgb(36,36,36)",
            "showbackground": true,
            "showgrid": false,
            "showline": true,
            "ticks": "outside",
            "zeroline": false,
            "zerolinecolor": "rgb(36,36,36)"
           }
          },
          "shapedefaults": {
           "fillcolor": "black",
           "line": {
            "width": 0
           },
           "opacity": 0.3
          },
          "ternary": {
           "aaxis": {
            "gridcolor": "rgb(232,232,232)",
            "linecolor": "rgb(36,36,36)",
            "showgrid": false,
            "showline": true,
            "ticks": "outside"
           },
           "baxis": {
            "gridcolor": "rgb(232,232,232)",
            "linecolor": "rgb(36,36,36)",
            "showgrid": false,
            "showline": true,
            "ticks": "outside"
           },
           "bgcolor": "white",
           "caxis": {
            "gridcolor": "rgb(232,232,232)",
            "linecolor": "rgb(36,36,36)",
            "showgrid": false,
            "showline": true,
            "ticks": "outside"
           }
          },
          "title": {
           "x": 0.05
          },
          "xaxis": {
           "automargin": true,
           "gridcolor": "rgb(232,232,232)",
           "linecolor": "rgb(36,36,36)",
           "showgrid": false,
           "showline": true,
           "ticks": "outside",
           "title": {
            "standoff": 15
           },
           "zeroline": false,
           "zerolinecolor": "rgb(36,36,36)"
          },
          "yaxis": {
           "automargin": true,
           "gridcolor": "rgb(232,232,232)",
           "linecolor": "rgb(36,36,36)",
           "showgrid": false,
           "showline": true,
           "ticks": "outside",
           "title": {
            "standoff": 15
           },
           "zeroline": false,
           "zerolinecolor": "rgb(36,36,36)"
          }
         }
        },
        "width": 750,
        "xaxis": {
         "title": {
          "text": "Negative"
         }
        },
        "yaxis": {
         "title": {
          "text": "Sample"
         }
        }
       }
      },
      "text/html": [
       "<div>\n",
       "        \n",
       "        \n",
       "            <div id=\"a95ae877-96d6-4eab-a65a-43d52212271c\" class=\"plotly-graph-div\" style=\"height:500px; width:750px;\"></div>\n",
       "            <script type=\"text/javascript\">\n",
       "                require([\"plotly\"], function(Plotly) {\n",
       "                    window.PLOTLYENV=window.PLOTLYENV || {};\n",
       "                    \n",
       "                if (document.getElementById(\"a95ae877-96d6-4eab-a65a-43d52212271c\")) {\n",
       "                    Plotly.newPlot(\n",
       "                        'a95ae877-96d6-4eab-a65a-43d52212271c',\n",
       "                        [{\"colorbar\": {\"title\": {\"text\": \"Acc %\"}}, \"type\": \"heatmap\", \"x\": [15.0, 23.0, 31.0, 39.0, 47.0, 55.0, 63.0, 71.0, 79.0, 87.0, 95.0], \"y\": [0.001, 0.0019, 0.0028, 0.0037, 0.0046, 0.0055, 0.0064, 0.0073, 0.0082, 0.0091, 0.01], \"z\": [[82.9896907216495, 71.8213058419244, 71.30584192439862, 67.18213058419244, 74.91408934707904, 68.90034364261169, 74.22680412371135, 77.66323024054984, 74.39862542955326, 72.5085910652921, 75.08591065292096], [76.97594501718214, 69.41580756013745, 68.21305841924399, 70.27491408934708, 76.80412371134021, 68.90034364261169, 75.60137457044674, 75.4295532646048, 69.41580756013745, 73.02405498281786, 69.7594501718213], [75.4295532646048, 78.52233676975945, 74.22680412371135, 78.8659793814433, 76.28865979381443, 76.6323024054983, 73.02405498281786, 76.1168384879725, 73.71134020618557, 76.97594501718214, 77.31958762886599], [75.08591065292096, 74.05498281786942, 78.52233676975945, 66.83848797250859, 75.60137457044674, 70.27491408934708, 64.08934707903781, 66.49484536082474, 74.74226804123711, 65.63573883161511, 72.33676975945016], [74.74226804123711, 74.74226804123711, 0.6872852233676976, 65.12027491408935, 74.39862542955326, 71.30584192439862, 68.04123711340206, 80.9278350515464, 75.08591065292096, 74.39862542955326, 64.26116838487972], [64.08934707903781, 75.08591065292096, 72.85223367697594, 65.63573883161511, 65.80756013745705, 73.19587628865979, 80.06872852233677, 82.30240549828179, 75.60137457044674, 75.60137457044674, 73.19587628865979], [80.75601374570446, 79.89690721649485, 74.91408934707904, 7.0446735395189, 81.09965635738831, 81.27147766323024, 73.53951890034365, 69.58762886597938, 74.22680412371135, 25.42955326460481, 28.350515463917525], [30.756013745704468, 28.350515463917525, 36.25429553264605, 31.27147766323024, 79.20962199312714, 77.66323024054984, 74.91408934707904, 67.35395189003437, 72.85223367697594, 63.745704467353946, 77.14776632302406], [75.08591065292096, 66.49484536082474, 77.4914089347079, 69.0721649484536, 74.74226804123711, 72.5085910652921, 71.8213058419244, 74.05498281786942, 71.99312714776632, 69.0721649484536, 73.19587628865979], [73.3676975945017, 73.71134020618557, 71.99312714776632, 75.77319587628865, 70.79037800687286, 64.26116838487972, 71.99312714776632, 78.69415807560138, 59.965635738831615, 82.4742268041237, 74.05498281786942], [80.2405498281787, 41.75257731958763, 75.94501718213058, 76.80412371134021, 74.05498281786942, 72.16494845360825, 77.4914089347079, 72.33676975945016, 73.3676975945017, 79.03780068728523, 76.97594501718214]]}],\n",
       "                        {\"font\": {\"size\": 23}, \"height\": 500, \"template\": {\"data\": {\"bar\": [{\"error_x\": {\"color\": \"rgb(36,36,36)\"}, \"error_y\": {\"color\": \"rgb(36,36,36)\"}, \"marker\": {\"line\": {\"color\": \"white\", \"width\": 0.5}}, \"type\": \"bar\"}], \"barpolar\": [{\"marker\": {\"line\": {\"color\": \"white\", \"width\": 0.5}}, \"type\": \"barpolar\"}], \"carpet\": [{\"aaxis\": {\"endlinecolor\": \"rgb(36,36,36)\", \"gridcolor\": \"white\", \"linecolor\": \"white\", \"minorgridcolor\": \"white\", \"startlinecolor\": \"rgb(36,36,36)\"}, \"baxis\": {\"endlinecolor\": \"rgb(36,36,36)\", \"gridcolor\": \"white\", \"linecolor\": \"white\", \"minorgridcolor\": \"white\", \"startlinecolor\": \"rgb(36,36,36)\"}, \"type\": \"carpet\"}], \"choropleth\": [{\"colorbar\": {\"outlinewidth\": 1, \"tickcolor\": \"rgb(36,36,36)\", \"ticks\": \"outside\"}, \"type\": \"choropleth\"}], \"contour\": [{\"colorbar\": {\"outlinewidth\": 1, \"tickcolor\": \"rgb(36,36,36)\", \"ticks\": \"outside\"}, \"colorscale\": [[0.0, \"#440154\"], [0.1111111111111111, \"#482878\"], [0.2222222222222222, \"#3e4989\"], [0.3333333333333333, \"#31688e\"], [0.4444444444444444, \"#26828e\"], [0.5555555555555556, \"#1f9e89\"], [0.6666666666666666, \"#35b779\"], [0.7777777777777778, \"#6ece58\"], [0.8888888888888888, \"#b5de2b\"], [1.0, \"#fde725\"]], \"type\": \"contour\"}], \"contourcarpet\": [{\"colorbar\": {\"outlinewidth\": 1, \"tickcolor\": \"rgb(36,36,36)\", \"ticks\": \"outside\"}, \"type\": \"contourcarpet\"}], \"heatmap\": [{\"colorbar\": {\"outlinewidth\": 1, \"tickcolor\": \"rgb(36,36,36)\", \"ticks\": \"outside\"}, \"colorscale\": [[0.0, \"#440154\"], [0.1111111111111111, \"#482878\"], [0.2222222222222222, \"#3e4989\"], [0.3333333333333333, \"#31688e\"], [0.4444444444444444, \"#26828e\"], [0.5555555555555556, \"#1f9e89\"], [0.6666666666666666, \"#35b779\"], [0.7777777777777778, \"#6ece58\"], [0.8888888888888888, \"#b5de2b\"], [1.0, \"#fde725\"]], \"type\": \"heatmap\"}], \"heatmapgl\": [{\"colorbar\": {\"outlinewidth\": 1, \"tickcolor\": \"rgb(36,36,36)\", \"ticks\": \"outside\"}, \"colorscale\": [[0.0, \"#440154\"], [0.1111111111111111, \"#482878\"], [0.2222222222222222, \"#3e4989\"], [0.3333333333333333, \"#31688e\"], [0.4444444444444444, \"#26828e\"], [0.5555555555555556, \"#1f9e89\"], [0.6666666666666666, \"#35b779\"], [0.7777777777777778, \"#6ece58\"], [0.8888888888888888, \"#b5de2b\"], [1.0, \"#fde725\"]], \"type\": \"heatmapgl\"}], \"histogram\": [{\"marker\": {\"line\": {\"color\": \"white\", \"width\": 0.6}}, \"type\": \"histogram\"}], \"histogram2d\": [{\"colorbar\": {\"outlinewidth\": 1, \"tickcolor\": \"rgb(36,36,36)\", \"ticks\": \"outside\"}, \"colorscale\": [[0.0, \"#440154\"], [0.1111111111111111, \"#482878\"], [0.2222222222222222, \"#3e4989\"], [0.3333333333333333, \"#31688e\"], [0.4444444444444444, \"#26828e\"], [0.5555555555555556, \"#1f9e89\"], [0.6666666666666666, \"#35b779\"], [0.7777777777777778, \"#6ece58\"], [0.8888888888888888, \"#b5de2b\"], [1.0, \"#fde725\"]], \"type\": \"histogram2d\"}], \"histogram2dcontour\": [{\"colorbar\": {\"outlinewidth\": 1, \"tickcolor\": \"rgb(36,36,36)\", \"ticks\": \"outside\"}, \"colorscale\": [[0.0, \"#440154\"], [0.1111111111111111, \"#482878\"], [0.2222222222222222, \"#3e4989\"], [0.3333333333333333, \"#31688e\"], [0.4444444444444444, \"#26828e\"], [0.5555555555555556, \"#1f9e89\"], [0.6666666666666666, \"#35b779\"], [0.7777777777777778, \"#6ece58\"], [0.8888888888888888, \"#b5de2b\"], [1.0, \"#fde725\"]], \"type\": \"histogram2dcontour\"}], \"mesh3d\": [{\"colorbar\": {\"outlinewidth\": 1, \"tickcolor\": \"rgb(36,36,36)\", \"ticks\": \"outside\"}, \"type\": \"mesh3d\"}], \"parcoords\": [{\"line\": {\"colorbar\": {\"outlinewidth\": 1, \"tickcolor\": \"rgb(36,36,36)\", \"ticks\": \"outside\"}}, \"type\": \"parcoords\"}], \"pie\": [{\"automargin\": true, \"type\": \"pie\"}], \"scatter\": [{\"marker\": {\"colorbar\": {\"outlinewidth\": 1, \"tickcolor\": \"rgb(36,36,36)\", \"ticks\": \"outside\"}}, \"type\": \"scatter\"}], \"scatter3d\": [{\"line\": {\"colorbar\": {\"outlinewidth\": 1, \"tickcolor\": \"rgb(36,36,36)\", \"ticks\": \"outside\"}}, \"marker\": {\"colorbar\": {\"outlinewidth\": 1, \"tickcolor\": \"rgb(36,36,36)\", \"ticks\": \"outside\"}}, \"type\": \"scatter3d\"}], \"scattercarpet\": [{\"marker\": {\"colorbar\": {\"outlinewidth\": 1, \"tickcolor\": \"rgb(36,36,36)\", \"ticks\": \"outside\"}}, \"type\": \"scattercarpet\"}], \"scattergeo\": [{\"marker\": {\"colorbar\": {\"outlinewidth\": 1, \"tickcolor\": \"rgb(36,36,36)\", \"ticks\": \"outside\"}}, \"type\": \"scattergeo\"}], \"scattergl\": [{\"marker\": {\"colorbar\": {\"outlinewidth\": 1, \"tickcolor\": \"rgb(36,36,36)\", \"ticks\": \"outside\"}}, \"type\": \"scattergl\"}], \"scattermapbox\": [{\"marker\": {\"colorbar\": {\"outlinewidth\": 1, \"tickcolor\": \"rgb(36,36,36)\", \"ticks\": \"outside\"}}, \"type\": \"scattermapbox\"}], \"scatterpolar\": [{\"marker\": {\"colorbar\": {\"outlinewidth\": 1, \"tickcolor\": \"rgb(36,36,36)\", \"ticks\": \"outside\"}}, \"type\": \"scatterpolar\"}], \"scatterpolargl\": [{\"marker\": {\"colorbar\": {\"outlinewidth\": 1, \"tickcolor\": \"rgb(36,36,36)\", \"ticks\": \"outside\"}}, \"type\": \"scatterpolargl\"}], \"scatterternary\": [{\"marker\": {\"colorbar\": {\"outlinewidth\": 1, \"tickcolor\": \"rgb(36,36,36)\", \"ticks\": \"outside\"}}, \"type\": \"scatterternary\"}], \"surface\": [{\"colorbar\": {\"outlinewidth\": 1, \"tickcolor\": \"rgb(36,36,36)\", \"ticks\": \"outside\"}, \"colorscale\": [[0.0, \"#440154\"], [0.1111111111111111, \"#482878\"], [0.2222222222222222, \"#3e4989\"], [0.3333333333333333, \"#31688e\"], [0.4444444444444444, \"#26828e\"], [0.5555555555555556, \"#1f9e89\"], [0.6666666666666666, \"#35b779\"], [0.7777777777777778, \"#6ece58\"], [0.8888888888888888, \"#b5de2b\"], [1.0, \"#fde725\"]], \"type\": \"surface\"}], \"table\": [{\"cells\": {\"fill\": {\"color\": \"rgb(237,237,237)\"}, \"line\": {\"color\": \"white\"}}, \"header\": {\"fill\": {\"color\": \"rgb(217,217,217)\"}, \"line\": {\"color\": \"white\"}}, \"type\": \"table\"}]}, \"layout\": {\"annotationdefaults\": {\"arrowhead\": 0, \"arrowwidth\": 1}, \"coloraxis\": {\"colorbar\": {\"outlinewidth\": 1, \"tickcolor\": \"rgb(36,36,36)\", \"ticks\": \"outside\"}}, \"colorscale\": {\"diverging\": [[0.0, \"rgb(103,0,31)\"], [0.1, \"rgb(178,24,43)\"], [0.2, \"rgb(214,96,77)\"], [0.3, \"rgb(244,165,130)\"], [0.4, \"rgb(253,219,199)\"], [0.5, \"rgb(247,247,247)\"], [0.6, \"rgb(209,229,240)\"], [0.7, \"rgb(146,197,222)\"], [0.8, \"rgb(67,147,195)\"], [0.9, \"rgb(33,102,172)\"], [1.0, \"rgb(5,48,97)\"]], \"sequential\": [[0.0, \"#440154\"], [0.1111111111111111, \"#482878\"], [0.2222222222222222, \"#3e4989\"], [0.3333333333333333, \"#31688e\"], [0.4444444444444444, \"#26828e\"], [0.5555555555555556, \"#1f9e89\"], [0.6666666666666666, \"#35b779\"], [0.7777777777777778, \"#6ece58\"], [0.8888888888888888, \"#b5de2b\"], [1.0, \"#fde725\"]], \"sequentialminus\": [[0.0, \"#440154\"], [0.1111111111111111, \"#482878\"], [0.2222222222222222, \"#3e4989\"], [0.3333333333333333, \"#31688e\"], [0.4444444444444444, \"#26828e\"], [0.5555555555555556, \"#1f9e89\"], [0.6666666666666666, \"#35b779\"], [0.7777777777777778, \"#6ece58\"], [0.8888888888888888, \"#b5de2b\"], [1.0, \"#fde725\"]]}, \"colorway\": [\"#1F77B4\", \"#FF7F0E\", \"#2CA02C\", \"#D62728\", \"#9467BD\", \"#8C564B\", \"#E377C2\", \"#7F7F7F\", \"#BCBD22\", \"#17BECF\"], \"font\": {\"color\": \"rgb(36,36,36)\"}, \"geo\": {\"bgcolor\": \"white\", \"lakecolor\": \"white\", \"landcolor\": \"white\", \"showlakes\": true, \"showland\": true, \"subunitcolor\": \"white\"}, \"hoverlabel\": {\"align\": \"left\"}, \"hovermode\": \"closest\", \"mapbox\": {\"style\": \"light\"}, \"paper_bgcolor\": \"white\", \"plot_bgcolor\": \"white\", \"polar\": {\"angularaxis\": {\"gridcolor\": \"rgb(232,232,232)\", \"linecolor\": \"rgb(36,36,36)\", \"showgrid\": false, \"showline\": true, \"ticks\": \"outside\"}, \"bgcolor\": \"white\", \"radialaxis\": {\"gridcolor\": \"rgb(232,232,232)\", \"linecolor\": \"rgb(36,36,36)\", \"showgrid\": false, \"showline\": true, \"ticks\": \"outside\"}}, \"scene\": {\"xaxis\": {\"backgroundcolor\": \"white\", \"gridcolor\": \"rgb(232,232,232)\", \"gridwidth\": 2, \"linecolor\": \"rgb(36,36,36)\", \"showbackground\": true, \"showgrid\": false, \"showline\": true, \"ticks\": \"outside\", \"zeroline\": false, \"zerolinecolor\": \"rgb(36,36,36)\"}, \"yaxis\": {\"backgroundcolor\": \"white\", \"gridcolor\": \"rgb(232,232,232)\", \"gridwidth\": 2, \"linecolor\": \"rgb(36,36,36)\", \"showbackground\": true, \"showgrid\": false, \"showline\": true, \"ticks\": \"outside\", \"zeroline\": false, \"zerolinecolor\": \"rgb(36,36,36)\"}, \"zaxis\": {\"backgroundcolor\": \"white\", \"gridcolor\": \"rgb(232,232,232)\", \"gridwidth\": 2, \"linecolor\": \"rgb(36,36,36)\", \"showbackground\": true, \"showgrid\": false, \"showline\": true, \"ticks\": \"outside\", \"zeroline\": false, \"zerolinecolor\": \"rgb(36,36,36)\"}}, \"shapedefaults\": {\"fillcolor\": \"black\", \"line\": {\"width\": 0}, \"opacity\": 0.3}, \"ternary\": {\"aaxis\": {\"gridcolor\": \"rgb(232,232,232)\", \"linecolor\": \"rgb(36,36,36)\", \"showgrid\": false, \"showline\": true, \"ticks\": \"outside\"}, \"baxis\": {\"gridcolor\": \"rgb(232,232,232)\", \"linecolor\": \"rgb(36,36,36)\", \"showgrid\": false, \"showline\": true, \"ticks\": \"outside\"}, \"bgcolor\": \"white\", \"caxis\": {\"gridcolor\": \"rgb(232,232,232)\", \"linecolor\": \"rgb(36,36,36)\", \"showgrid\": false, \"showline\": true, \"ticks\": \"outside\"}}, \"title\": {\"x\": 0.05}, \"xaxis\": {\"automargin\": true, \"gridcolor\": \"rgb(232,232,232)\", \"linecolor\": \"rgb(36,36,36)\", \"showgrid\": false, \"showline\": true, \"ticks\": \"outside\", \"title\": {\"standoff\": 15}, \"zeroline\": false, \"zerolinecolor\": \"rgb(36,36,36)\"}, \"yaxis\": {\"automargin\": true, \"gridcolor\": \"rgb(232,232,232)\", \"linecolor\": \"rgb(36,36,36)\", \"showgrid\": false, \"showline\": true, \"ticks\": \"outside\", \"title\": {\"standoff\": 15}, \"zeroline\": false, \"zerolinecolor\": \"rgb(36,36,36)\"}}}, \"width\": 750, \"xaxis\": {\"title\": {\"text\": \"Negative\"}}, \"yaxis\": {\"title\": {\"text\": \"Sample\"}}},\n",
       "                        {\"responsive\": true}\n",
       "                    ).then(function(){\n",
       "                            \n",
       "var gd = document.getElementById('a95ae877-96d6-4eab-a65a-43d52212271c');\n",
       "var x = new MutationObserver(function (mutations, observer) {{\n",
       "        var display = window.getComputedStyle(gd).display;\n",
       "        if (!display || display === 'none') {{\n",
       "            console.log([gd, 'removed!']);\n",
       "            Plotly.purge(gd);\n",
       "            observer.disconnect();\n",
       "        }}\n",
       "}});\n",
       "\n",
       "// Listen for the removal of the full notebook cells\n",
       "var notebookContainer = gd.closest('#notebook-container');\n",
       "if (notebookContainer) {{\n",
       "    x.observe(notebookContainer, {childList: true});\n",
       "}}\n",
       "\n",
       "// Listen for the clearing of the current output cell\n",
       "var outputEl = gd.closest('.output');\n",
       "if (outputEl) {{\n",
       "    x.observe(outputEl, {childList: true});\n",
       "}}\n",
       "\n",
       "                        })\n",
       "                };\n",
       "                });\n",
       "            </script>\n",
       "        </div>"
      ]
     },
     "metadata": {},
     "output_type": "display_data"
    }
   ],
   "source": [
    "m = np.argmax(assesment_scores)\n",
    "print(\"Best performing embedding (sample: {}, negative: {}) had accuracy of {:.2f}%\\n\\t file_path: {}\".format(*embedding_params[m],assesment_scores[m],embedding_fps[m]))\n",
    "\n",
    "grid = np.array(assesment_scores).reshape((len(p1_vals), len(p1_vals)))\n",
    "\n",
    "data = go.Heatmap(z=grid,y=np.array(p1_vals).astype(float),colorbar=dict(title=\"Acc %\"),x=p2_vals)\n",
    "\n",
    "layout = {\n",
    "    \"template\": \"simple_white\",\n",
    "    \"font\":{\"size\": 23},\n",
    "    \"height\": 500,\n",
    "    \"width\": 750,     \n",
    "    \"xaxis\": {\"title\": \"Negative\"},\n",
    "    \"yaxis\": {\"title\": \"Sample\"},\n",
    "}\n",
    "fig = go.Figure(data=data,layout=layout)\n",
    "with open(\"visualizations/accuracy.pdf\", \"wb\") as f:\n",
    "    f.write(scope.transform(fig, format=\"pdf\"))\n",
    "fig.show()\n",
    "# fig.write_html(\"visualizations/accuracy.html\")"
   ]
  },
  {
   "cell_type": "markdown",
   "metadata": {},
   "source": [
    "### Reduce to 3 dimensions"
   ]
  },
  {
   "cell_type": "code",
   "execution_count": 48,
   "metadata": {},
   "outputs": [
    {
     "data": {
      "text/html": [
       "<div>\n",
       "<style scoped>\n",
       "    .dataframe tbody tr th:only-of-type {\n",
       "        vertical-align: middle;\n",
       "    }\n",
       "\n",
       "    .dataframe tbody tr th {\n",
       "        vertical-align: top;\n",
       "    }\n",
       "\n",
       "    .dataframe thead th {\n",
       "        text-align: right;\n",
       "    }\n",
       "</style>\n",
       "<table border=\"1\" class=\"dataframe\">\n",
       "  <thead>\n",
       "    <tr style=\"text-align: right;\">\n",
       "      <th></th>\n",
       "      <th>1</th>\n",
       "      <th>2</th>\n",
       "      <th>3</th>\n",
       "      <th>4</th>\n",
       "      <th>5</th>\n",
       "      <th>6</th>\n",
       "      <th>7</th>\n",
       "      <th>8</th>\n",
       "      <th>9</th>\n",
       "      <th>10</th>\n",
       "      <th>...</th>\n",
       "      <th>141</th>\n",
       "      <th>142</th>\n",
       "      <th>143</th>\n",
       "      <th>144</th>\n",
       "      <th>145</th>\n",
       "      <th>146</th>\n",
       "      <th>147</th>\n",
       "      <th>148</th>\n",
       "      <th>149</th>\n",
       "      <th>150</th>\n",
       "    </tr>\n",
       "    <tr>\n",
       "      <th>subreddit</th>\n",
       "      <th></th>\n",
       "      <th></th>\n",
       "      <th></th>\n",
       "      <th></th>\n",
       "      <th></th>\n",
       "      <th></th>\n",
       "      <th></th>\n",
       "      <th></th>\n",
       "      <th></th>\n",
       "      <th></th>\n",
       "      <th></th>\n",
       "      <th></th>\n",
       "      <th></th>\n",
       "      <th></th>\n",
       "      <th></th>\n",
       "      <th></th>\n",
       "      <th></th>\n",
       "      <th></th>\n",
       "      <th></th>\n",
       "      <th></th>\n",
       "      <th></th>\n",
       "    </tr>\n",
       "  </thead>\n",
       "  <tbody>\n",
       "    <tr>\n",
       "      <th>SquaredCircle</th>\n",
       "      <td>0.134779</td>\n",
       "      <td>0.043821</td>\n",
       "      <td>-0.011876</td>\n",
       "      <td>-0.066840</td>\n",
       "      <td>0.020694</td>\n",
       "      <td>-0.055040</td>\n",
       "      <td>0.017334</td>\n",
       "      <td>0.004694</td>\n",
       "      <td>-0.082625</td>\n",
       "      <td>0.124690</td>\n",
       "      <td>...</td>\n",
       "      <td>-0.061495</td>\n",
       "      <td>-0.183028</td>\n",
       "      <td>-0.099551</td>\n",
       "      <td>0.031485</td>\n",
       "      <td>-0.040188</td>\n",
       "      <td>0.143292</td>\n",
       "      <td>0.040536</td>\n",
       "      <td>-0.008464</td>\n",
       "      <td>0.041863</td>\n",
       "      <td>-0.172806</td>\n",
       "    </tr>\n",
       "    <tr>\n",
       "      <th>AskReddit</th>\n",
       "      <td>0.135559</td>\n",
       "      <td>0.008985</td>\n",
       "      <td>-0.037187</td>\n",
       "      <td>0.000455</td>\n",
       "      <td>0.022365</td>\n",
       "      <td>-0.006085</td>\n",
       "      <td>-0.017524</td>\n",
       "      <td>0.040978</td>\n",
       "      <td>-0.054059</td>\n",
       "      <td>0.069235</td>\n",
       "      <td>...</td>\n",
       "      <td>-0.039066</td>\n",
       "      <td>-0.043172</td>\n",
       "      <td>-0.106157</td>\n",
       "      <td>0.105634</td>\n",
       "      <td>-0.045787</td>\n",
       "      <td>0.063289</td>\n",
       "      <td>0.057239</td>\n",
       "      <td>-0.198356</td>\n",
       "      <td>0.061649</td>\n",
       "      <td>-0.023330</td>\n",
       "    </tr>\n",
       "    <tr>\n",
       "      <th>politics</th>\n",
       "      <td>-0.042422</td>\n",
       "      <td>0.024062</td>\n",
       "      <td>-0.165820</td>\n",
       "      <td>0.046046</td>\n",
       "      <td>-0.080393</td>\n",
       "      <td>0.024717</td>\n",
       "      <td>0.044797</td>\n",
       "      <td>0.094564</td>\n",
       "      <td>-0.090970</td>\n",
       "      <td>0.013700</td>\n",
       "      <td>...</td>\n",
       "      <td>0.034073</td>\n",
       "      <td>-0.087685</td>\n",
       "      <td>-0.129094</td>\n",
       "      <td>0.110916</td>\n",
       "      <td>0.047369</td>\n",
       "      <td>0.014214</td>\n",
       "      <td>0.025798</td>\n",
       "      <td>-0.121198</td>\n",
       "      <td>0.155587</td>\n",
       "      <td>-0.057969</td>\n",
       "    </tr>\n",
       "    <tr>\n",
       "      <th>memes</th>\n",
       "      <td>0.002449</td>\n",
       "      <td>-0.014680</td>\n",
       "      <td>-0.031889</td>\n",
       "      <td>-0.051864</td>\n",
       "      <td>0.044783</td>\n",
       "      <td>-0.055175</td>\n",
       "      <td>0.063965</td>\n",
       "      <td>0.009760</td>\n",
       "      <td>-0.135631</td>\n",
       "      <td>0.106458</td>\n",
       "      <td>...</td>\n",
       "      <td>0.024190</td>\n",
       "      <td>-0.042757</td>\n",
       "      <td>-0.033878</td>\n",
       "      <td>0.041545</td>\n",
       "      <td>-0.001212</td>\n",
       "      <td>0.076116</td>\n",
       "      <td>0.036539</td>\n",
       "      <td>-0.102034</td>\n",
       "      <td>0.054330</td>\n",
       "      <td>-0.073219</td>\n",
       "    </tr>\n",
       "    <tr>\n",
       "      <th>teenagers</th>\n",
       "      <td>0.026058</td>\n",
       "      <td>0.069684</td>\n",
       "      <td>0.024581</td>\n",
       "      <td>0.009624</td>\n",
       "      <td>-0.029134</td>\n",
       "      <td>0.076384</td>\n",
       "      <td>0.078542</td>\n",
       "      <td>0.052331</td>\n",
       "      <td>-0.106552</td>\n",
       "      <td>0.096511</td>\n",
       "      <td>...</td>\n",
       "      <td>0.013686</td>\n",
       "      <td>-0.014345</td>\n",
       "      <td>-0.004146</td>\n",
       "      <td>0.055941</td>\n",
       "      <td>-0.009106</td>\n",
       "      <td>0.085962</td>\n",
       "      <td>0.030374</td>\n",
       "      <td>-0.028468</td>\n",
       "      <td>0.069988</td>\n",
       "      <td>-0.039540</td>\n",
       "    </tr>\n",
       "    <tr>\n",
       "      <th>...</th>\n",
       "      <td>...</td>\n",
       "      <td>...</td>\n",
       "      <td>...</td>\n",
       "      <td>...</td>\n",
       "      <td>...</td>\n",
       "      <td>...</td>\n",
       "      <td>...</td>\n",
       "      <td>...</td>\n",
       "      <td>...</td>\n",
       "      <td>...</td>\n",
       "      <td>...</td>\n",
       "      <td>...</td>\n",
       "      <td>...</td>\n",
       "      <td>...</td>\n",
       "      <td>...</td>\n",
       "      <td>...</td>\n",
       "      <td>...</td>\n",
       "      <td>...</td>\n",
       "      <td>...</td>\n",
       "      <td>...</td>\n",
       "      <td>...</td>\n",
       "    </tr>\n",
       "    <tr>\n",
       "      <th>NRV</th>\n",
       "      <td>0.122154</td>\n",
       "      <td>0.130032</td>\n",
       "      <td>-0.243602</td>\n",
       "      <td>-0.032611</td>\n",
       "      <td>-0.038153</td>\n",
       "      <td>-0.014279</td>\n",
       "      <td>-0.065262</td>\n",
       "      <td>-0.001528</td>\n",
       "      <td>-0.099809</td>\n",
       "      <td>-0.018441</td>\n",
       "      <td>...</td>\n",
       "      <td>-0.054521</td>\n",
       "      <td>-0.062958</td>\n",
       "      <td>-0.112747</td>\n",
       "      <td>0.098669</td>\n",
       "      <td>-0.049754</td>\n",
       "      <td>-0.015509</td>\n",
       "      <td>0.117170</td>\n",
       "      <td>-0.216936</td>\n",
       "      <td>0.008118</td>\n",
       "      <td>-0.123790</td>\n",
       "    </tr>\n",
       "    <tr>\n",
       "      <th>UTT</th>\n",
       "      <td>0.135902</td>\n",
       "      <td>0.057751</td>\n",
       "      <td>-0.200740</td>\n",
       "      <td>-0.035059</td>\n",
       "      <td>-0.005987</td>\n",
       "      <td>-0.000219</td>\n",
       "      <td>-0.083139</td>\n",
       "      <td>0.033362</td>\n",
       "      <td>-0.119045</td>\n",
       "      <td>0.125617</td>\n",
       "      <td>...</td>\n",
       "      <td>-0.019219</td>\n",
       "      <td>-0.092823</td>\n",
       "      <td>-0.096780</td>\n",
       "      <td>0.095344</td>\n",
       "      <td>-0.114785</td>\n",
       "      <td>0.023995</td>\n",
       "      <td>0.075017</td>\n",
       "      <td>-0.151421</td>\n",
       "      <td>0.048709</td>\n",
       "      <td>-0.065192</td>\n",
       "    </tr>\n",
       "    <tr>\n",
       "      <th>MMU</th>\n",
       "      <td>0.119556</td>\n",
       "      <td>0.049138</td>\n",
       "      <td>-0.134668</td>\n",
       "      <td>0.009505</td>\n",
       "      <td>0.023105</td>\n",
       "      <td>-0.025217</td>\n",
       "      <td>-0.026836</td>\n",
       "      <td>-0.026815</td>\n",
       "      <td>-0.198236</td>\n",
       "      <td>0.021817</td>\n",
       "      <td>...</td>\n",
       "      <td>-0.075906</td>\n",
       "      <td>-0.067976</td>\n",
       "      <td>-0.035603</td>\n",
       "      <td>-0.009426</td>\n",
       "      <td>-0.084691</td>\n",
       "      <td>0.068536</td>\n",
       "      <td>-0.040373</td>\n",
       "      <td>-0.134642</td>\n",
       "      <td>0.068508</td>\n",
       "      <td>-0.132696</td>\n",
       "    </tr>\n",
       "    <tr>\n",
       "      <th>houghton</th>\n",
       "      <td>0.065995</td>\n",
       "      <td>0.083532</td>\n",
       "      <td>-0.195394</td>\n",
       "      <td>0.019086</td>\n",
       "      <td>0.061049</td>\n",
       "      <td>-0.019786</td>\n",
       "      <td>0.072973</td>\n",
       "      <td>-0.017989</td>\n",
       "      <td>-0.196128</td>\n",
       "      <td>0.026056</td>\n",
       "      <td>...</td>\n",
       "      <td>-0.004768</td>\n",
       "      <td>-0.076079</td>\n",
       "      <td>-0.103230</td>\n",
       "      <td>0.060556</td>\n",
       "      <td>-0.111134</td>\n",
       "      <td>0.028949</td>\n",
       "      <td>-0.011122</td>\n",
       "      <td>-0.188779</td>\n",
       "      <td>0.003880</td>\n",
       "      <td>-0.115659</td>\n",
       "    </tr>\n",
       "    <tr>\n",
       "      <th>universityofredlands</th>\n",
       "      <td>0.179449</td>\n",
       "      <td>0.083221</td>\n",
       "      <td>-0.167956</td>\n",
       "      <td>-0.024700</td>\n",
       "      <td>0.049997</td>\n",
       "      <td>-0.046135</td>\n",
       "      <td>0.017856</td>\n",
       "      <td>-0.078710</td>\n",
       "      <td>-0.128699</td>\n",
       "      <td>0.092061</td>\n",
       "      <td>...</td>\n",
       "      <td>-0.024964</td>\n",
       "      <td>-0.054390</td>\n",
       "      <td>-0.168895</td>\n",
       "      <td>0.087481</td>\n",
       "      <td>-0.119883</td>\n",
       "      <td>0.006224</td>\n",
       "      <td>0.023883</td>\n",
       "      <td>-0.181816</td>\n",
       "      <td>0.064438</td>\n",
       "      <td>-0.048578</td>\n",
       "    </tr>\n",
       "  </tbody>\n",
       "</table>\n",
       "<p>10541 rows × 150 columns</p>\n",
       "</div>"
      ],
      "text/plain": [
       "                           1         2         3         4         5    \\\n",
       "subreddit                                                                \n",
       "SquaredCircle         0.134779  0.043821 -0.011876 -0.066840  0.020694   \n",
       "AskReddit             0.135559  0.008985 -0.037187  0.000455  0.022365   \n",
       "politics             -0.042422  0.024062 -0.165820  0.046046 -0.080393   \n",
       "memes                 0.002449 -0.014680 -0.031889 -0.051864  0.044783   \n",
       "teenagers             0.026058  0.069684  0.024581  0.009624 -0.029134   \n",
       "...                        ...       ...       ...       ...       ...   \n",
       "NRV                   0.122154  0.130032 -0.243602 -0.032611 -0.038153   \n",
       "UTT                   0.135902  0.057751 -0.200740 -0.035059 -0.005987   \n",
       "MMU                   0.119556  0.049138 -0.134668  0.009505  0.023105   \n",
       "houghton              0.065995  0.083532 -0.195394  0.019086  0.061049   \n",
       "universityofredlands  0.179449  0.083221 -0.167956 -0.024700  0.049997   \n",
       "\n",
       "                           6         7         8         9         10   ...  \\\n",
       "subreddit                                                               ...   \n",
       "SquaredCircle        -0.055040  0.017334  0.004694 -0.082625  0.124690  ...   \n",
       "AskReddit            -0.006085 -0.017524  0.040978 -0.054059  0.069235  ...   \n",
       "politics              0.024717  0.044797  0.094564 -0.090970  0.013700  ...   \n",
       "memes                -0.055175  0.063965  0.009760 -0.135631  0.106458  ...   \n",
       "teenagers             0.076384  0.078542  0.052331 -0.106552  0.096511  ...   \n",
       "...                        ...       ...       ...       ...       ...  ...   \n",
       "NRV                  -0.014279 -0.065262 -0.001528 -0.099809 -0.018441  ...   \n",
       "UTT                  -0.000219 -0.083139  0.033362 -0.119045  0.125617  ...   \n",
       "MMU                  -0.025217 -0.026836 -0.026815 -0.198236  0.021817  ...   \n",
       "houghton             -0.019786  0.072973 -0.017989 -0.196128  0.026056  ...   \n",
       "universityofredlands -0.046135  0.017856 -0.078710 -0.128699  0.092061  ...   \n",
       "\n",
       "                           141       142       143       144       145  \\\n",
       "subreddit                                                                \n",
       "SquaredCircle        -0.061495 -0.183028 -0.099551  0.031485 -0.040188   \n",
       "AskReddit            -0.039066 -0.043172 -0.106157  0.105634 -0.045787   \n",
       "politics              0.034073 -0.087685 -0.129094  0.110916  0.047369   \n",
       "memes                 0.024190 -0.042757 -0.033878  0.041545 -0.001212   \n",
       "teenagers             0.013686 -0.014345 -0.004146  0.055941 -0.009106   \n",
       "...                        ...       ...       ...       ...       ...   \n",
       "NRV                  -0.054521 -0.062958 -0.112747  0.098669 -0.049754   \n",
       "UTT                  -0.019219 -0.092823 -0.096780  0.095344 -0.114785   \n",
       "MMU                  -0.075906 -0.067976 -0.035603 -0.009426 -0.084691   \n",
       "houghton             -0.004768 -0.076079 -0.103230  0.060556 -0.111134   \n",
       "universityofredlands -0.024964 -0.054390 -0.168895  0.087481 -0.119883   \n",
       "\n",
       "                           146       147       148       149       150  \n",
       "subreddit                                                               \n",
       "SquaredCircle         0.143292  0.040536 -0.008464  0.041863 -0.172806  \n",
       "AskReddit             0.063289  0.057239 -0.198356  0.061649 -0.023330  \n",
       "politics              0.014214  0.025798 -0.121198  0.155587 -0.057969  \n",
       "memes                 0.076116  0.036539 -0.102034  0.054330 -0.073219  \n",
       "teenagers             0.085962  0.030374 -0.028468  0.069988 -0.039540  \n",
       "...                        ...       ...       ...       ...       ...  \n",
       "NRV                  -0.015509  0.117170 -0.216936  0.008118 -0.123790  \n",
       "UTT                   0.023995  0.075017 -0.151421  0.048709 -0.065192  \n",
       "MMU                   0.068536 -0.040373 -0.134642  0.068508 -0.132696  \n",
       "houghton              0.028949 -0.011122 -0.188779  0.003880 -0.115659  \n",
       "universityofredlands  0.006224  0.023883 -0.181816  0.064438 -0.048578  \n",
       "\n",
       "[10541 rows x 150 columns]"
      ]
     },
     "execution_count": 48,
     "metadata": {},
     "output_type": "execute_result"
    }
   ],
   "source": [
    "best_embedding = embedding_dfs[m]\n",
    "best_embedding"
   ]
  },
  {
   "cell_type": "code",
   "execution_count": 40,
   "metadata": {},
   "outputs": [
    {
     "data": {
      "text/html": [
       "<div>\n",
       "<style scoped>\n",
       "    .dataframe tbody tr th:only-of-type {\n",
       "        vertical-align: middle;\n",
       "    }\n",
       "\n",
       "    .dataframe tbody tr th {\n",
       "        vertical-align: top;\n",
       "    }\n",
       "\n",
       "    .dataframe thead th {\n",
       "        text-align: right;\n",
       "    }\n",
       "</style>\n",
       "<table border=\"1\" class=\"dataframe\">\n",
       "  <thead>\n",
       "    <tr style=\"text-align: right;\">\n",
       "      <th></th>\n",
       "      <th>0</th>\n",
       "      <th>1</th>\n",
       "      <th>2</th>\n",
       "    </tr>\n",
       "    <tr>\n",
       "      <th>subreddit</th>\n",
       "      <th></th>\n",
       "      <th></th>\n",
       "      <th></th>\n",
       "    </tr>\n",
       "  </thead>\n",
       "  <tbody>\n",
       "    <tr>\n",
       "      <th>SquaredCircle</th>\n",
       "      <td>0.030819</td>\n",
       "      <td>-0.111612</td>\n",
       "      <td>0.037518</td>\n",
       "    </tr>\n",
       "    <tr>\n",
       "      <th>AskReddit</th>\n",
       "      <td>0.014519</td>\n",
       "      <td>0.187563</td>\n",
       "      <td>-0.099010</td>\n",
       "    </tr>\n",
       "    <tr>\n",
       "      <th>politics</th>\n",
       "      <td>-0.200295</td>\n",
       "      <td>0.298706</td>\n",
       "      <td>0.145213</td>\n",
       "    </tr>\n",
       "    <tr>\n",
       "      <th>memes</th>\n",
       "      <td>0.323302</td>\n",
       "      <td>0.005253</td>\n",
       "      <td>0.023049</td>\n",
       "    </tr>\n",
       "    <tr>\n",
       "      <th>teenagers</th>\n",
       "      <td>0.446263</td>\n",
       "      <td>0.049542</td>\n",
       "      <td>-0.077641</td>\n",
       "    </tr>\n",
       "    <tr>\n",
       "      <th>...</th>\n",
       "      <td>...</td>\n",
       "      <td>...</td>\n",
       "      <td>...</td>\n",
       "    </tr>\n",
       "    <tr>\n",
       "      <th>NRV</th>\n",
       "      <td>-0.153201</td>\n",
       "      <td>-0.032724</td>\n",
       "      <td>0.014222</td>\n",
       "    </tr>\n",
       "    <tr>\n",
       "      <th>UTT</th>\n",
       "      <td>-0.030660</td>\n",
       "      <td>0.096000</td>\n",
       "      <td>0.023417</td>\n",
       "    </tr>\n",
       "    <tr>\n",
       "      <th>MMU</th>\n",
       "      <td>0.094566</td>\n",
       "      <td>0.009991</td>\n",
       "      <td>0.033977</td>\n",
       "    </tr>\n",
       "    <tr>\n",
       "      <th>houghton</th>\n",
       "      <td>0.040597</td>\n",
       "      <td>0.068413</td>\n",
       "      <td>0.086646</td>\n",
       "    </tr>\n",
       "    <tr>\n",
       "      <th>universityofredlands</th>\n",
       "      <td>0.187482</td>\n",
       "      <td>-0.050283</td>\n",
       "      <td>0.041531</td>\n",
       "    </tr>\n",
       "  </tbody>\n",
       "</table>\n",
       "<p>10541 rows × 3 columns</p>\n",
       "</div>"
      ],
      "text/plain": [
       "                             0         1         2\n",
       "subreddit                                         \n",
       "SquaredCircle         0.030819 -0.111612  0.037518\n",
       "AskReddit             0.014519  0.187563 -0.099010\n",
       "politics             -0.200295  0.298706  0.145213\n",
       "memes                 0.323302  0.005253  0.023049\n",
       "teenagers             0.446263  0.049542 -0.077641\n",
       "...                        ...       ...       ...\n",
       "NRV                  -0.153201 -0.032724  0.014222\n",
       "UTT                  -0.030660  0.096000  0.023417\n",
       "MMU                   0.094566  0.009991  0.033977\n",
       "houghton              0.040597  0.068413  0.086646\n",
       "universityofredlands  0.187482 -0.050283  0.041531\n",
       "\n",
       "[10541 rows x 3 columns]"
      ]
     },
     "execution_count": 40,
     "metadata": {},
     "output_type": "execute_result"
    }
   ],
   "source": [
    "from sklearn.decomposition import PCA\n",
    "# PCA Dim Reduction\n",
    "pca =  PCA(n_components = 3)\n",
    "three_dim = pd.DataFrame(pca.fit_transform(best_embedding)).set_index(best_embedding.index)\n",
    "three_dim"
   ]
  },
  {
   "cell_type": "markdown",
   "metadata": {},
   "source": [
    "### Visualize Embedding"
   ]
  },
  {
   "cell_type": "code",
   "execution_count": 41,
   "metadata": {},
   "outputs": [],
   "source": [
    "import plotly.express as px"
   ]
  },
  {
   "cell_type": "code",
   "execution_count": 42,
   "metadata": {
    "scrolled": false
   },
   "outputs": [
    {
     "data": {
      "text/html": [
       "<div>\n",
       "<style scoped>\n",
       "    .dataframe tbody tr th:only-of-type {\n",
       "        vertical-align: middle;\n",
       "    }\n",
       "\n",
       "    .dataframe tbody tr th {\n",
       "        vertical-align: top;\n",
       "    }\n",
       "\n",
       "    .dataframe thead th {\n",
       "        text-align: right;\n",
       "    }\n",
       "</style>\n",
       "<table border=\"1\" class=\"dataframe\">\n",
       "  <thead>\n",
       "    <tr style=\"text-align: right;\">\n",
       "      <th></th>\n",
       "      <th>0</th>\n",
       "      <th>1</th>\n",
       "      <th>2</th>\n",
       "    </tr>\n",
       "    <tr>\n",
       "      <th>subreddit</th>\n",
       "      <th></th>\n",
       "      <th></th>\n",
       "      <th></th>\n",
       "    </tr>\n",
       "  </thead>\n",
       "  <tbody>\n",
       "    <tr>\n",
       "      <th>politics</th>\n",
       "      <td>-0.200295</td>\n",
       "      <td>0.298706</td>\n",
       "      <td>0.145213</td>\n",
       "    </tr>\n",
       "    <tr>\n",
       "      <th>YangForPresidentHQ</th>\n",
       "      <td>-0.042358</td>\n",
       "      <td>0.187574</td>\n",
       "      <td>-0.066681</td>\n",
       "    </tr>\n",
       "    <tr>\n",
       "      <th>SandersForPresident</th>\n",
       "      <td>-0.055572</td>\n",
       "      <td>0.190718</td>\n",
       "      <td>0.091809</td>\n",
       "    </tr>\n",
       "    <tr>\n",
       "      <th>centerleftpolitics</th>\n",
       "      <td>-0.084744</td>\n",
       "      <td>0.130033</td>\n",
       "      <td>-0.073442</td>\n",
       "    </tr>\n",
       "    <tr>\n",
       "      <th>Pete_Buttigieg</th>\n",
       "      <td>-0.210284</td>\n",
       "      <td>0.150788</td>\n",
       "      <td>-0.047163</td>\n",
       "    </tr>\n",
       "    <tr>\n",
       "      <th>moderatepolitics</th>\n",
       "      <td>-0.099558</td>\n",
       "      <td>0.253639</td>\n",
       "      <td>0.031187</td>\n",
       "    </tr>\n",
       "    <tr>\n",
       "      <th>ElizabethWarren</th>\n",
       "      <td>-0.189077</td>\n",
       "      <td>0.153494</td>\n",
       "      <td>-0.061191</td>\n",
       "    </tr>\n",
       "    <tr>\n",
       "      <th>progressive</th>\n",
       "      <td>-0.148751</td>\n",
       "      <td>0.208714</td>\n",
       "      <td>0.089648</td>\n",
       "    </tr>\n",
       "    <tr>\n",
       "      <th>JoeBiden</th>\n",
       "      <td>-0.132223</td>\n",
       "      <td>0.103071</td>\n",
       "      <td>-0.003763</td>\n",
       "    </tr>\n",
       "    <tr>\n",
       "      <th>Kamala</th>\n",
       "      <td>-0.217827</td>\n",
       "      <td>0.100341</td>\n",
       "      <td>-0.060149</td>\n",
       "    </tr>\n",
       "    <tr>\n",
       "      <th>SocialDemocracy</th>\n",
       "      <td>0.020351</td>\n",
       "      <td>0.057871</td>\n",
       "      <td>-0.043914</td>\n",
       "    </tr>\n",
       "    <tr>\n",
       "      <th>BaemyKlobaechar</th>\n",
       "      <td>-0.182645</td>\n",
       "      <td>0.153378</td>\n",
       "      <td>-0.161528</td>\n",
       "    </tr>\n",
       "    <tr>\n",
       "      <th>demsocialist</th>\n",
       "      <td>-0.145929</td>\n",
       "      <td>0.169935</td>\n",
       "      <td>-0.010889</td>\n",
       "    </tr>\n",
       "    <tr>\n",
       "      <th>BetoORourke</th>\n",
       "      <td>-0.128155</td>\n",
       "      <td>0.119195</td>\n",
       "      <td>0.146231</td>\n",
       "    </tr>\n",
       "    <tr>\n",
       "      <th>ConservativeDemocrat</th>\n",
       "      <td>-0.068674</td>\n",
       "      <td>0.102519</td>\n",
       "      <td>0.043930</td>\n",
       "    </tr>\n",
       "  </tbody>\n",
       "</table>\n",
       "</div>"
      ],
      "text/plain": [
       "                             0         1         2\n",
       "subreddit                                         \n",
       "politics             -0.200295  0.298706  0.145213\n",
       "YangForPresidentHQ   -0.042358  0.187574 -0.066681\n",
       "SandersForPresident  -0.055572  0.190718  0.091809\n",
       "centerleftpolitics   -0.084744  0.130033 -0.073442\n",
       "Pete_Buttigieg       -0.210284  0.150788 -0.047163\n",
       "moderatepolitics     -0.099558  0.253639  0.031187\n",
       "ElizabethWarren      -0.189077  0.153494 -0.061191\n",
       "progressive          -0.148751  0.208714  0.089648\n",
       "JoeBiden             -0.132223  0.103071 -0.003763\n",
       "Kamala               -0.217827  0.100341 -0.060149\n",
       "SocialDemocracy       0.020351  0.057871 -0.043914\n",
       "BaemyKlobaechar      -0.182645  0.153378 -0.161528\n",
       "demsocialist         -0.145929  0.169935 -0.010889\n",
       "BetoORourke          -0.128155  0.119195  0.146231\n",
       "ConservativeDemocrat -0.068674  0.102519  0.043930"
      ]
     },
     "execution_count": 42,
     "metadata": {},
     "output_type": "execute_result"
    }
   ],
   "source": [
    "political_subreddits = [\"JoeBiden\",\"Pete_Buttigieg\",\"Kamala\",\n",
    "                        \"SandersForPresident\",\"BetoORourke\",\"ElizabethWarren\",\n",
    "                        \"BaemyKlobaechar\",\"YangForPresidentHQ\",\"politics\",\"progressive\",\n",
    "                        \"demsocialist\",\"SocialDemocracy\",\"centerleftpolitics\",\n",
    "                        \"ConservativeDemocrat\",\"moderatepolitics\"]\n",
    "three_dim = three_dim[three_dim.index.isin(political_subreddits)]\n",
    "three_dim"
   ]
  },
  {
   "cell_type": "code",
   "execution_count": 44,
   "metadata": {
    "scrolled": false
   },
   "outputs": [
    {
     "data": {
      "application/vnd.plotly.v1+json": {
       "config": {
        "plotlyServerURL": "https://plot.ly"
       },
       "data": [
        {
         "hovertemplate": "0=%{x}<br>1=%{y}<br>2=%{z}<br>subreddit=%{text}<extra></extra>",
         "legendgroup": "",
         "marker": {
          "color": "#636efa",
          "opacity": 0.7,
          "symbol": "circle"
         },
         "mode": "markers+text",
         "name": "",
         "scene": "scene",
         "showlegend": false,
         "text": [
          "politics",
          "YangForPresidentHQ",
          "SandersForPresident",
          "centerleftpolitics",
          "Pete_Buttigieg",
          "moderatepolitics",
          "ElizabethWarren",
          "progressive",
          "JoeBiden",
          "Kamala",
          "SocialDemocracy",
          "BaemyKlobaechar",
          "demsocialist",
          "BetoORourke",
          "ConservativeDemocrat"
         ],
         "type": "scatter3d",
         "x": [
          -0.2002948903607072,
          -0.0423582162464267,
          -0.05557247274521182,
          -0.08474404539037934,
          -0.21028353797068133,
          -0.09955813678577868,
          -0.1890771538192017,
          -0.14875106462540144,
          -0.1322234991520249,
          -0.21782706872207272,
          0.0203510996131336,
          -0.18264498474776894,
          -0.14592850021090575,
          -0.12815497867683098,
          -0.06867434833500623
         ],
         "y": [
          0.2987058312293905,
          0.18757390867723547,
          0.19071830018989983,
          0.13003265508555392,
          0.15078774492110064,
          0.2536393632637707,
          0.1534935926310595,
          0.20871403525587814,
          0.10307087683803198,
          0.10034101532762786,
          0.05787133609477076,
          0.1533779559004567,
          0.16993465545666078,
          0.1191947745664622,
          0.10251867766325119
         ],
         "z": [
          0.14521292157014637,
          -0.06668090335338205,
          0.09180861859693355,
          -0.07344180270593702,
          -0.04716338235151664,
          0.031186789124425327,
          -0.06119085845315802,
          0.08964801626069899,
          -0.003763180249907529,
          -0.06014895041037163,
          -0.04391370058387552,
          -0.16152760152880222,
          -0.010889101900811236,
          0.14623138664892535,
          0.043929544386121545
         ]
        }
       ],
       "layout": {
        "legend": {
         "tracegroupgap": 0
        },
        "margin": {
         "t": 60
        },
        "scene": {
         "domain": {
          "x": [
           0,
           1
          ],
          "y": [
           0,
           1
          ]
         },
         "xaxis": {
          "title": {
           "text": "0"
          }
         },
         "yaxis": {
          "title": {
           "text": "1"
          }
         },
         "zaxis": {
          "title": {
           "text": "2"
          }
         }
        },
        "template": {
         "data": {
          "bar": [
           {
            "error_x": {
             "color": "#2a3f5f"
            },
            "error_y": {
             "color": "#2a3f5f"
            },
            "marker": {
             "line": {
              "color": "#E5ECF6",
              "width": 0.5
             }
            },
            "type": "bar"
           }
          ],
          "barpolar": [
           {
            "marker": {
             "line": {
              "color": "#E5ECF6",
              "width": 0.5
             }
            },
            "type": "barpolar"
           }
          ],
          "carpet": [
           {
            "aaxis": {
             "endlinecolor": "#2a3f5f",
             "gridcolor": "white",
             "linecolor": "white",
             "minorgridcolor": "white",
             "startlinecolor": "#2a3f5f"
            },
            "baxis": {
             "endlinecolor": "#2a3f5f",
             "gridcolor": "white",
             "linecolor": "white",
             "minorgridcolor": "white",
             "startlinecolor": "#2a3f5f"
            },
            "type": "carpet"
           }
          ],
          "choropleth": [
           {
            "colorbar": {
             "outlinewidth": 0,
             "ticks": ""
            },
            "type": "choropleth"
           }
          ],
          "contour": [
           {
            "colorbar": {
             "outlinewidth": 0,
             "ticks": ""
            },
            "colorscale": [
             [
              0,
              "#0d0887"
             ],
             [
              0.1111111111111111,
              "#46039f"
             ],
             [
              0.2222222222222222,
              "#7201a8"
             ],
             [
              0.3333333333333333,
              "#9c179e"
             ],
             [
              0.4444444444444444,
              "#bd3786"
             ],
             [
              0.5555555555555556,
              "#d8576b"
             ],
             [
              0.6666666666666666,
              "#ed7953"
             ],
             [
              0.7777777777777778,
              "#fb9f3a"
             ],
             [
              0.8888888888888888,
              "#fdca26"
             ],
             [
              1,
              "#f0f921"
             ]
            ],
            "type": "contour"
           }
          ],
          "contourcarpet": [
           {
            "colorbar": {
             "outlinewidth": 0,
             "ticks": ""
            },
            "type": "contourcarpet"
           }
          ],
          "heatmap": [
           {
            "colorbar": {
             "outlinewidth": 0,
             "ticks": ""
            },
            "colorscale": [
             [
              0,
              "#0d0887"
             ],
             [
              0.1111111111111111,
              "#46039f"
             ],
             [
              0.2222222222222222,
              "#7201a8"
             ],
             [
              0.3333333333333333,
              "#9c179e"
             ],
             [
              0.4444444444444444,
              "#bd3786"
             ],
             [
              0.5555555555555556,
              "#d8576b"
             ],
             [
              0.6666666666666666,
              "#ed7953"
             ],
             [
              0.7777777777777778,
              "#fb9f3a"
             ],
             [
              0.8888888888888888,
              "#fdca26"
             ],
             [
              1,
              "#f0f921"
             ]
            ],
            "type": "heatmap"
           }
          ],
          "heatmapgl": [
           {
            "colorbar": {
             "outlinewidth": 0,
             "ticks": ""
            },
            "colorscale": [
             [
              0,
              "#0d0887"
             ],
             [
              0.1111111111111111,
              "#46039f"
             ],
             [
              0.2222222222222222,
              "#7201a8"
             ],
             [
              0.3333333333333333,
              "#9c179e"
             ],
             [
              0.4444444444444444,
              "#bd3786"
             ],
             [
              0.5555555555555556,
              "#d8576b"
             ],
             [
              0.6666666666666666,
              "#ed7953"
             ],
             [
              0.7777777777777778,
              "#fb9f3a"
             ],
             [
              0.8888888888888888,
              "#fdca26"
             ],
             [
              1,
              "#f0f921"
             ]
            ],
            "type": "heatmapgl"
           }
          ],
          "histogram": [
           {
            "marker": {
             "colorbar": {
              "outlinewidth": 0,
              "ticks": ""
             }
            },
            "type": "histogram"
           }
          ],
          "histogram2d": [
           {
            "colorbar": {
             "outlinewidth": 0,
             "ticks": ""
            },
            "colorscale": [
             [
              0,
              "#0d0887"
             ],
             [
              0.1111111111111111,
              "#46039f"
             ],
             [
              0.2222222222222222,
              "#7201a8"
             ],
             [
              0.3333333333333333,
              "#9c179e"
             ],
             [
              0.4444444444444444,
              "#bd3786"
             ],
             [
              0.5555555555555556,
              "#d8576b"
             ],
             [
              0.6666666666666666,
              "#ed7953"
             ],
             [
              0.7777777777777778,
              "#fb9f3a"
             ],
             [
              0.8888888888888888,
              "#fdca26"
             ],
             [
              1,
              "#f0f921"
             ]
            ],
            "type": "histogram2d"
           }
          ],
          "histogram2dcontour": [
           {
            "colorbar": {
             "outlinewidth": 0,
             "ticks": ""
            },
            "colorscale": [
             [
              0,
              "#0d0887"
             ],
             [
              0.1111111111111111,
              "#46039f"
             ],
             [
              0.2222222222222222,
              "#7201a8"
             ],
             [
              0.3333333333333333,
              "#9c179e"
             ],
             [
              0.4444444444444444,
              "#bd3786"
             ],
             [
              0.5555555555555556,
              "#d8576b"
             ],
             [
              0.6666666666666666,
              "#ed7953"
             ],
             [
              0.7777777777777778,
              "#fb9f3a"
             ],
             [
              0.8888888888888888,
              "#fdca26"
             ],
             [
              1,
              "#f0f921"
             ]
            ],
            "type": "histogram2dcontour"
           }
          ],
          "mesh3d": [
           {
            "colorbar": {
             "outlinewidth": 0,
             "ticks": ""
            },
            "type": "mesh3d"
           }
          ],
          "parcoords": [
           {
            "line": {
             "colorbar": {
              "outlinewidth": 0,
              "ticks": ""
             }
            },
            "type": "parcoords"
           }
          ],
          "pie": [
           {
            "automargin": true,
            "type": "pie"
           }
          ],
          "scatter": [
           {
            "marker": {
             "colorbar": {
              "outlinewidth": 0,
              "ticks": ""
             }
            },
            "type": "scatter"
           }
          ],
          "scatter3d": [
           {
            "line": {
             "colorbar": {
              "outlinewidth": 0,
              "ticks": ""
             }
            },
            "marker": {
             "colorbar": {
              "outlinewidth": 0,
              "ticks": ""
             }
            },
            "type": "scatter3d"
           }
          ],
          "scattercarpet": [
           {
            "marker": {
             "colorbar": {
              "outlinewidth": 0,
              "ticks": ""
             }
            },
            "type": "scattercarpet"
           }
          ],
          "scattergeo": [
           {
            "marker": {
             "colorbar": {
              "outlinewidth": 0,
              "ticks": ""
             }
            },
            "type": "scattergeo"
           }
          ],
          "scattergl": [
           {
            "marker": {
             "colorbar": {
              "outlinewidth": 0,
              "ticks": ""
             }
            },
            "type": "scattergl"
           }
          ],
          "scattermapbox": [
           {
            "marker": {
             "colorbar": {
              "outlinewidth": 0,
              "ticks": ""
             }
            },
            "type": "scattermapbox"
           }
          ],
          "scatterpolar": [
           {
            "marker": {
             "colorbar": {
              "outlinewidth": 0,
              "ticks": ""
             }
            },
            "type": "scatterpolar"
           }
          ],
          "scatterpolargl": [
           {
            "marker": {
             "colorbar": {
              "outlinewidth": 0,
              "ticks": ""
             }
            },
            "type": "scatterpolargl"
           }
          ],
          "scatterternary": [
           {
            "marker": {
             "colorbar": {
              "outlinewidth": 0,
              "ticks": ""
             }
            },
            "type": "scatterternary"
           }
          ],
          "surface": [
           {
            "colorbar": {
             "outlinewidth": 0,
             "ticks": ""
            },
            "colorscale": [
             [
              0,
              "#0d0887"
             ],
             [
              0.1111111111111111,
              "#46039f"
             ],
             [
              0.2222222222222222,
              "#7201a8"
             ],
             [
              0.3333333333333333,
              "#9c179e"
             ],
             [
              0.4444444444444444,
              "#bd3786"
             ],
             [
              0.5555555555555556,
              "#d8576b"
             ],
             [
              0.6666666666666666,
              "#ed7953"
             ],
             [
              0.7777777777777778,
              "#fb9f3a"
             ],
             [
              0.8888888888888888,
              "#fdca26"
             ],
             [
              1,
              "#f0f921"
             ]
            ],
            "type": "surface"
           }
          ],
          "table": [
           {
            "cells": {
             "fill": {
              "color": "#EBF0F8"
             },
             "line": {
              "color": "white"
             }
            },
            "header": {
             "fill": {
              "color": "#C8D4E3"
             },
             "line": {
              "color": "white"
             }
            },
            "type": "table"
           }
          ]
         },
         "layout": {
          "annotationdefaults": {
           "arrowcolor": "#2a3f5f",
           "arrowhead": 0,
           "arrowwidth": 1
          },
          "coloraxis": {
           "colorbar": {
            "outlinewidth": 0,
            "ticks": ""
           }
          },
          "colorscale": {
           "diverging": [
            [
             0,
             "#8e0152"
            ],
            [
             0.1,
             "#c51b7d"
            ],
            [
             0.2,
             "#de77ae"
            ],
            [
             0.3,
             "#f1b6da"
            ],
            [
             0.4,
             "#fde0ef"
            ],
            [
             0.5,
             "#f7f7f7"
            ],
            [
             0.6,
             "#e6f5d0"
            ],
            [
             0.7,
             "#b8e186"
            ],
            [
             0.8,
             "#7fbc41"
            ],
            [
             0.9,
             "#4d9221"
            ],
            [
             1,
             "#276419"
            ]
           ],
           "sequential": [
            [
             0,
             "#0d0887"
            ],
            [
             0.1111111111111111,
             "#46039f"
            ],
            [
             0.2222222222222222,
             "#7201a8"
            ],
            [
             0.3333333333333333,
             "#9c179e"
            ],
            [
             0.4444444444444444,
             "#bd3786"
            ],
            [
             0.5555555555555556,
             "#d8576b"
            ],
            [
             0.6666666666666666,
             "#ed7953"
            ],
            [
             0.7777777777777778,
             "#fb9f3a"
            ],
            [
             0.8888888888888888,
             "#fdca26"
            ],
            [
             1,
             "#f0f921"
            ]
           ],
           "sequentialminus": [
            [
             0,
             "#0d0887"
            ],
            [
             0.1111111111111111,
             "#46039f"
            ],
            [
             0.2222222222222222,
             "#7201a8"
            ],
            [
             0.3333333333333333,
             "#9c179e"
            ],
            [
             0.4444444444444444,
             "#bd3786"
            ],
            [
             0.5555555555555556,
             "#d8576b"
            ],
            [
             0.6666666666666666,
             "#ed7953"
            ],
            [
             0.7777777777777778,
             "#fb9f3a"
            ],
            [
             0.8888888888888888,
             "#fdca26"
            ],
            [
             1,
             "#f0f921"
            ]
           ]
          },
          "colorway": [
           "#636efa",
           "#EF553B",
           "#00cc96",
           "#ab63fa",
           "#FFA15A",
           "#19d3f3",
           "#FF6692",
           "#B6E880",
           "#FF97FF",
           "#FECB52"
          ],
          "font": {
           "color": "#2a3f5f"
          },
          "geo": {
           "bgcolor": "white",
           "lakecolor": "white",
           "landcolor": "#E5ECF6",
           "showlakes": true,
           "showland": true,
           "subunitcolor": "white"
          },
          "hoverlabel": {
           "align": "left"
          },
          "hovermode": "closest",
          "mapbox": {
           "style": "light"
          },
          "paper_bgcolor": "white",
          "plot_bgcolor": "#E5ECF6",
          "polar": {
           "angularaxis": {
            "gridcolor": "white",
            "linecolor": "white",
            "ticks": ""
           },
           "bgcolor": "#E5ECF6",
           "radialaxis": {
            "gridcolor": "white",
            "linecolor": "white",
            "ticks": ""
           }
          },
          "scene": {
           "xaxis": {
            "backgroundcolor": "#E5ECF6",
            "gridcolor": "white",
            "gridwidth": 2,
            "linecolor": "white",
            "showbackground": true,
            "ticks": "",
            "zerolinecolor": "white"
           },
           "yaxis": {
            "backgroundcolor": "#E5ECF6",
            "gridcolor": "white",
            "gridwidth": 2,
            "linecolor": "white",
            "showbackground": true,
            "ticks": "",
            "zerolinecolor": "white"
           },
           "zaxis": {
            "backgroundcolor": "#E5ECF6",
            "gridcolor": "white",
            "gridwidth": 2,
            "linecolor": "white",
            "showbackground": true,
            "ticks": "",
            "zerolinecolor": "white"
           }
          },
          "shapedefaults": {
           "line": {
            "color": "#2a3f5f"
           }
          },
          "ternary": {
           "aaxis": {
            "gridcolor": "white",
            "linecolor": "white",
            "ticks": ""
           },
           "baxis": {
            "gridcolor": "white",
            "linecolor": "white",
            "ticks": ""
           },
           "bgcolor": "#E5ECF6",
           "caxis": {
            "gridcolor": "white",
            "linecolor": "white",
            "ticks": ""
           }
          },
          "title": {
           "x": 0.05
          },
          "xaxis": {
           "automargin": true,
           "gridcolor": "white",
           "linecolor": "white",
           "ticks": "",
           "title": {
            "standoff": 15
           },
           "zerolinecolor": "white",
           "zerolinewidth": 2
          },
          "yaxis": {
           "automargin": true,
           "gridcolor": "white",
           "linecolor": "white",
           "ticks": "",
           "title": {
            "standoff": 15
           },
           "zerolinecolor": "white",
           "zerolinewidth": 2
          }
         }
        }
       }
      },
      "text/html": [
       "<div>\n",
       "        \n",
       "        \n",
       "            <div id=\"d638d1f4-db41-4e1e-bc58-a8872a756c38\" class=\"plotly-graph-div\" style=\"height:525px; width:100%;\"></div>\n",
       "            <script type=\"text/javascript\">\n",
       "                require([\"plotly\"], function(Plotly) {\n",
       "                    window.PLOTLYENV=window.PLOTLYENV || {};\n",
       "                    \n",
       "                if (document.getElementById(\"d638d1f4-db41-4e1e-bc58-a8872a756c38\")) {\n",
       "                    Plotly.newPlot(\n",
       "                        'd638d1f4-db41-4e1e-bc58-a8872a756c38',\n",
       "                        [{\"hovertemplate\": \"0=%{x}<br>1=%{y}<br>2=%{z}<br>subreddit=%{text}<extra></extra>\", \"legendgroup\": \"\", \"marker\": {\"color\": \"#636efa\", \"opacity\": 0.7, \"symbol\": \"circle\"}, \"mode\": \"markers+text\", \"name\": \"\", \"scene\": \"scene\", \"showlegend\": false, \"text\": [\"politics\", \"YangForPresidentHQ\", \"SandersForPresident\", \"centerleftpolitics\", \"Pete_Buttigieg\", \"moderatepolitics\", \"ElizabethWarren\", \"progressive\", \"JoeBiden\", \"Kamala\", \"SocialDemocracy\", \"BaemyKlobaechar\", \"demsocialist\", \"BetoORourke\", \"ConservativeDemocrat\"], \"type\": \"scatter3d\", \"x\": [-0.2002948903607072, -0.0423582162464267, -0.05557247274521182, -0.08474404539037934, -0.21028353797068133, -0.09955813678577868, -0.1890771538192017, -0.14875106462540144, -0.1322234991520249, -0.21782706872207272, 0.0203510996131336, -0.18264498474776894, -0.14592850021090575, -0.12815497867683098, -0.06867434833500623], \"y\": [0.2987058312293905, 0.18757390867723547, 0.19071830018989983, 0.13003265508555392, 0.15078774492110064, 0.2536393632637707, 0.1534935926310595, 0.20871403525587814, 0.10307087683803198, 0.10034101532762786, 0.05787133609477076, 0.1533779559004567, 0.16993465545666078, 0.1191947745664622, 0.10251867766325119], \"z\": [0.14521292157014637, -0.06668090335338205, 0.09180861859693355, -0.07344180270593702, -0.04716338235151664, 0.031186789124425327, -0.06119085845315802, 0.08964801626069899, -0.003763180249907529, -0.06014895041037163, -0.04391370058387552, -0.16152760152880222, -0.010889101900811236, 0.14623138664892535, 0.043929544386121545]}],\n",
       "                        {\"legend\": {\"tracegroupgap\": 0}, \"margin\": {\"t\": 60}, \"scene\": {\"domain\": {\"x\": [0.0, 1.0], \"y\": [0.0, 1.0]}, \"xaxis\": {\"title\": {\"text\": \"0\"}}, \"yaxis\": {\"title\": {\"text\": \"1\"}}, \"zaxis\": {\"title\": {\"text\": \"2\"}}}, \"template\": {\"data\": {\"bar\": [{\"error_x\": {\"color\": \"#2a3f5f\"}, \"error_y\": {\"color\": \"#2a3f5f\"}, \"marker\": {\"line\": {\"color\": \"#E5ECF6\", \"width\": 0.5}}, \"type\": \"bar\"}], \"barpolar\": [{\"marker\": {\"line\": {\"color\": \"#E5ECF6\", \"width\": 0.5}}, \"type\": \"barpolar\"}], \"carpet\": [{\"aaxis\": {\"endlinecolor\": \"#2a3f5f\", \"gridcolor\": \"white\", \"linecolor\": \"white\", \"minorgridcolor\": \"white\", \"startlinecolor\": \"#2a3f5f\"}, \"baxis\": {\"endlinecolor\": \"#2a3f5f\", \"gridcolor\": \"white\", \"linecolor\": \"white\", \"minorgridcolor\": \"white\", \"startlinecolor\": \"#2a3f5f\"}, \"type\": \"carpet\"}], \"choropleth\": [{\"colorbar\": {\"outlinewidth\": 0, \"ticks\": \"\"}, \"type\": \"choropleth\"}], \"contour\": [{\"colorbar\": {\"outlinewidth\": 0, \"ticks\": \"\"}, \"colorscale\": [[0.0, \"#0d0887\"], [0.1111111111111111, \"#46039f\"], [0.2222222222222222, \"#7201a8\"], [0.3333333333333333, \"#9c179e\"], [0.4444444444444444, \"#bd3786\"], [0.5555555555555556, \"#d8576b\"], [0.6666666666666666, \"#ed7953\"], [0.7777777777777778, \"#fb9f3a\"], [0.8888888888888888, \"#fdca26\"], [1.0, \"#f0f921\"]], \"type\": \"contour\"}], \"contourcarpet\": [{\"colorbar\": {\"outlinewidth\": 0, \"ticks\": \"\"}, \"type\": \"contourcarpet\"}], \"heatmap\": [{\"colorbar\": {\"outlinewidth\": 0, \"ticks\": \"\"}, \"colorscale\": [[0.0, \"#0d0887\"], [0.1111111111111111, \"#46039f\"], [0.2222222222222222, \"#7201a8\"], [0.3333333333333333, \"#9c179e\"], [0.4444444444444444, \"#bd3786\"], [0.5555555555555556, \"#d8576b\"], [0.6666666666666666, \"#ed7953\"], [0.7777777777777778, \"#fb9f3a\"], [0.8888888888888888, \"#fdca26\"], [1.0, \"#f0f921\"]], \"type\": \"heatmap\"}], \"heatmapgl\": [{\"colorbar\": {\"outlinewidth\": 0, \"ticks\": \"\"}, \"colorscale\": [[0.0, \"#0d0887\"], [0.1111111111111111, \"#46039f\"], [0.2222222222222222, \"#7201a8\"], [0.3333333333333333, \"#9c179e\"], [0.4444444444444444, \"#bd3786\"], [0.5555555555555556, \"#d8576b\"], [0.6666666666666666, \"#ed7953\"], [0.7777777777777778, \"#fb9f3a\"], [0.8888888888888888, \"#fdca26\"], [1.0, \"#f0f921\"]], \"type\": \"heatmapgl\"}], \"histogram\": [{\"marker\": {\"colorbar\": {\"outlinewidth\": 0, \"ticks\": \"\"}}, \"type\": \"histogram\"}], \"histogram2d\": [{\"colorbar\": {\"outlinewidth\": 0, \"ticks\": \"\"}, \"colorscale\": [[0.0, \"#0d0887\"], [0.1111111111111111, \"#46039f\"], [0.2222222222222222, \"#7201a8\"], [0.3333333333333333, \"#9c179e\"], [0.4444444444444444, \"#bd3786\"], [0.5555555555555556, \"#d8576b\"], [0.6666666666666666, \"#ed7953\"], [0.7777777777777778, \"#fb9f3a\"], [0.8888888888888888, \"#fdca26\"], [1.0, \"#f0f921\"]], \"type\": \"histogram2d\"}], \"histogram2dcontour\": [{\"colorbar\": {\"outlinewidth\": 0, \"ticks\": \"\"}, \"colorscale\": [[0.0, \"#0d0887\"], [0.1111111111111111, \"#46039f\"], [0.2222222222222222, \"#7201a8\"], [0.3333333333333333, \"#9c179e\"], [0.4444444444444444, \"#bd3786\"], [0.5555555555555556, \"#d8576b\"], [0.6666666666666666, \"#ed7953\"], [0.7777777777777778, \"#fb9f3a\"], [0.8888888888888888, \"#fdca26\"], [1.0, \"#f0f921\"]], \"type\": \"histogram2dcontour\"}], \"mesh3d\": [{\"colorbar\": {\"outlinewidth\": 0, \"ticks\": \"\"}, \"type\": \"mesh3d\"}], \"parcoords\": [{\"line\": {\"colorbar\": {\"outlinewidth\": 0, \"ticks\": \"\"}}, \"type\": \"parcoords\"}], \"pie\": [{\"automargin\": true, \"type\": \"pie\"}], \"scatter\": [{\"marker\": {\"colorbar\": {\"outlinewidth\": 0, \"ticks\": \"\"}}, \"type\": \"scatter\"}], \"scatter3d\": [{\"line\": {\"colorbar\": {\"outlinewidth\": 0, \"ticks\": \"\"}}, \"marker\": {\"colorbar\": {\"outlinewidth\": 0, \"ticks\": \"\"}}, \"type\": \"scatter3d\"}], \"scattercarpet\": [{\"marker\": {\"colorbar\": {\"outlinewidth\": 0, \"ticks\": \"\"}}, \"type\": \"scattercarpet\"}], \"scattergeo\": [{\"marker\": {\"colorbar\": {\"outlinewidth\": 0, \"ticks\": \"\"}}, \"type\": \"scattergeo\"}], \"scattergl\": [{\"marker\": {\"colorbar\": {\"outlinewidth\": 0, \"ticks\": \"\"}}, \"type\": \"scattergl\"}], \"scattermapbox\": [{\"marker\": {\"colorbar\": {\"outlinewidth\": 0, \"ticks\": \"\"}}, \"type\": \"scattermapbox\"}], \"scatterpolar\": [{\"marker\": {\"colorbar\": {\"outlinewidth\": 0, \"ticks\": \"\"}}, \"type\": \"scatterpolar\"}], \"scatterpolargl\": [{\"marker\": {\"colorbar\": {\"outlinewidth\": 0, \"ticks\": \"\"}}, \"type\": \"scatterpolargl\"}], \"scatterternary\": [{\"marker\": {\"colorbar\": {\"outlinewidth\": 0, \"ticks\": \"\"}}, \"type\": \"scatterternary\"}], \"surface\": [{\"colorbar\": {\"outlinewidth\": 0, \"ticks\": \"\"}, \"colorscale\": [[0.0, \"#0d0887\"], [0.1111111111111111, \"#46039f\"], [0.2222222222222222, \"#7201a8\"], [0.3333333333333333, \"#9c179e\"], [0.4444444444444444, \"#bd3786\"], [0.5555555555555556, \"#d8576b\"], [0.6666666666666666, \"#ed7953\"], [0.7777777777777778, \"#fb9f3a\"], [0.8888888888888888, \"#fdca26\"], [1.0, \"#f0f921\"]], \"type\": \"surface\"}], \"table\": [{\"cells\": {\"fill\": {\"color\": \"#EBF0F8\"}, \"line\": {\"color\": \"white\"}}, \"header\": {\"fill\": {\"color\": \"#C8D4E3\"}, \"line\": {\"color\": \"white\"}}, \"type\": \"table\"}]}, \"layout\": {\"annotationdefaults\": {\"arrowcolor\": \"#2a3f5f\", \"arrowhead\": 0, \"arrowwidth\": 1}, \"coloraxis\": {\"colorbar\": {\"outlinewidth\": 0, \"ticks\": \"\"}}, \"colorscale\": {\"diverging\": [[0, \"#8e0152\"], [0.1, \"#c51b7d\"], [0.2, \"#de77ae\"], [0.3, \"#f1b6da\"], [0.4, \"#fde0ef\"], [0.5, \"#f7f7f7\"], [0.6, \"#e6f5d0\"], [0.7, \"#b8e186\"], [0.8, \"#7fbc41\"], [0.9, \"#4d9221\"], [1, \"#276419\"]], \"sequential\": [[0.0, \"#0d0887\"], [0.1111111111111111, \"#46039f\"], [0.2222222222222222, \"#7201a8\"], [0.3333333333333333, \"#9c179e\"], [0.4444444444444444, \"#bd3786\"], [0.5555555555555556, \"#d8576b\"], [0.6666666666666666, \"#ed7953\"], [0.7777777777777778, \"#fb9f3a\"], [0.8888888888888888, \"#fdca26\"], [1.0, \"#f0f921\"]], \"sequentialminus\": [[0.0, \"#0d0887\"], [0.1111111111111111, \"#46039f\"], [0.2222222222222222, \"#7201a8\"], [0.3333333333333333, \"#9c179e\"], [0.4444444444444444, \"#bd3786\"], [0.5555555555555556, \"#d8576b\"], [0.6666666666666666, \"#ed7953\"], [0.7777777777777778, \"#fb9f3a\"], [0.8888888888888888, \"#fdca26\"], [1.0, \"#f0f921\"]]}, \"colorway\": [\"#636efa\", \"#EF553B\", \"#00cc96\", \"#ab63fa\", \"#FFA15A\", \"#19d3f3\", \"#FF6692\", \"#B6E880\", \"#FF97FF\", \"#FECB52\"], \"font\": {\"color\": \"#2a3f5f\"}, \"geo\": {\"bgcolor\": \"white\", \"lakecolor\": \"white\", \"landcolor\": \"#E5ECF6\", \"showlakes\": true, \"showland\": true, \"subunitcolor\": \"white\"}, \"hoverlabel\": {\"align\": \"left\"}, \"hovermode\": \"closest\", \"mapbox\": {\"style\": \"light\"}, \"paper_bgcolor\": \"white\", \"plot_bgcolor\": \"#E5ECF6\", \"polar\": {\"angularaxis\": {\"gridcolor\": \"white\", \"linecolor\": \"white\", \"ticks\": \"\"}, \"bgcolor\": \"#E5ECF6\", \"radialaxis\": {\"gridcolor\": \"white\", \"linecolor\": \"white\", \"ticks\": \"\"}}, \"scene\": {\"xaxis\": {\"backgroundcolor\": \"#E5ECF6\", \"gridcolor\": \"white\", \"gridwidth\": 2, \"linecolor\": \"white\", \"showbackground\": true, \"ticks\": \"\", \"zerolinecolor\": \"white\"}, \"yaxis\": {\"backgroundcolor\": \"#E5ECF6\", \"gridcolor\": \"white\", \"gridwidth\": 2, \"linecolor\": \"white\", \"showbackground\": true, \"ticks\": \"\", \"zerolinecolor\": \"white\"}, \"zaxis\": {\"backgroundcolor\": \"#E5ECF6\", \"gridcolor\": \"white\", \"gridwidth\": 2, \"linecolor\": \"white\", \"showbackground\": true, \"ticks\": \"\", \"zerolinecolor\": \"white\"}}, \"shapedefaults\": {\"line\": {\"color\": \"#2a3f5f\"}}, \"ternary\": {\"aaxis\": {\"gridcolor\": \"white\", \"linecolor\": \"white\", \"ticks\": \"\"}, \"baxis\": {\"gridcolor\": \"white\", \"linecolor\": \"white\", \"ticks\": \"\"}, \"bgcolor\": \"#E5ECF6\", \"caxis\": {\"gridcolor\": \"white\", \"linecolor\": \"white\", \"ticks\": \"\"}}, \"title\": {\"x\": 0.05}, \"xaxis\": {\"automargin\": true, \"gridcolor\": \"white\", \"linecolor\": \"white\", \"ticks\": \"\", \"title\": {\"standoff\": 15}, \"zerolinecolor\": \"white\", \"zerolinewidth\": 2}, \"yaxis\": {\"automargin\": true, \"gridcolor\": \"white\", \"linecolor\": \"white\", \"ticks\": \"\", \"title\": {\"standoff\": 15}, \"zerolinecolor\": \"white\", \"zerolinewidth\": 2}}}},\n",
       "                        {\"responsive\": true}\n",
       "                    ).then(function(){\n",
       "                            \n",
       "var gd = document.getElementById('d638d1f4-db41-4e1e-bc58-a8872a756c38');\n",
       "var x = new MutationObserver(function (mutations, observer) {{\n",
       "        var display = window.getComputedStyle(gd).display;\n",
       "        if (!display || display === 'none') {{\n",
       "            console.log([gd, 'removed!']);\n",
       "            Plotly.purge(gd);\n",
       "            observer.disconnect();\n",
       "        }}\n",
       "}});\n",
       "\n",
       "// Listen for the removal of the full notebook cells\n",
       "var notebookContainer = gd.closest('#notebook-container');\n",
       "if (notebookContainer) {{\n",
       "    x.observe(notebookContainer, {childList: true});\n",
       "}}\n",
       "\n",
       "// Listen for the clearing of the current output cell\n",
       "var outputEl = gd.closest('.output');\n",
       "if (outputEl) {{\n",
       "    x.observe(outputEl, {childList: true});\n",
       "}}\n",
       "\n",
       "                        })\n",
       "                };\n",
       "                });\n",
       "            </script>\n",
       "        </div>"
      ]
     },
     "metadata": {},
     "output_type": "display_data"
    }
   ],
   "source": [
    "fig = px.scatter_3d(three_dim, x=0, y=1, z=2,text=three_dim.index,opacity=0.7)\n",
    "fig.write_html(\"visualizations/3d_scatter.html\")\n",
    "fig.show()"
   ]
  },
  {
   "cell_type": "markdown",
   "metadata": {},
   "source": [
    "### Reduce to 2 dimensions"
   ]
  },
  {
   "cell_type": "code",
   "execution_count": 47,
   "metadata": {
    "scrolled": true
   },
   "outputs": [
    {
     "data": {
      "application/vnd.plotly.v1+json": {
       "config": {
        "plotlyServerURL": "https://plot.ly"
       },
       "data": [
        {
         "hovertemplate": "0=%{x}<br>1=%{y}<br>subreddit=%{text}<extra></extra>",
         "legendgroup": "",
         "marker": {
          "color": "#636efa",
          "symbol": "circle"
         },
         "mode": "markers+text",
         "name": "",
         "orientation": "v",
         "showlegend": false,
         "text": [
          "politics",
          "YangForPresidentHQ",
          "SandersForPresident",
          "centerleftpolitics",
          "Pete_Buttigieg",
          "moderatepolitics",
          "ElizabethWarren",
          "progressive",
          "JoeBiden",
          "Kamala",
          "SocialDemocracy",
          "BaemyKlobaechar",
          "demsocialist",
          "BetoORourke",
          "ConservativeDemocrat"
         ],
         "type": "scatter",
         "x": [
          -0.20044061362364668,
          -0.04268586531752752,
          -0.0558384159365719,
          -0.08525654254088305,
          -0.21065799168127713,
          -0.0999135569594786,
          -0.18956644700010014,
          -0.14930111918405561,
          -0.1327900096392928,
          -0.2184484308106541,
          0.019740192025996483,
          -0.18284786884350207,
          -0.14652182401469166,
          -0.1290330524316887,
          -0.06910442694697662
         ],
         "xaxis": "x",
         "y": [
          0.29871331254144406,
          0.18715478105989455,
          0.19033945951909004,
          0.12932222384301328,
          0.1503156039906721,
          0.25296532373702363,
          0.1529190701157897,
          0.20761364025576798,
          0.10229373375120505,
          0.09945918292547744,
          0.05657425087800587,
          0.15351027155454716,
          0.16879287657302908,
          0.11724443367598814,
          0.10186423291978088
         ],
         "yaxis": "y"
        }
       ],
       "layout": {
        "legend": {
         "tracegroupgap": 0
        },
        "margin": {
         "t": 60
        },
        "template": {
         "data": {
          "bar": [
           {
            "error_x": {
             "color": "#2a3f5f"
            },
            "error_y": {
             "color": "#2a3f5f"
            },
            "marker": {
             "line": {
              "color": "#E5ECF6",
              "width": 0.5
             }
            },
            "type": "bar"
           }
          ],
          "barpolar": [
           {
            "marker": {
             "line": {
              "color": "#E5ECF6",
              "width": 0.5
             }
            },
            "type": "barpolar"
           }
          ],
          "carpet": [
           {
            "aaxis": {
             "endlinecolor": "#2a3f5f",
             "gridcolor": "white",
             "linecolor": "white",
             "minorgridcolor": "white",
             "startlinecolor": "#2a3f5f"
            },
            "baxis": {
             "endlinecolor": "#2a3f5f",
             "gridcolor": "white",
             "linecolor": "white",
             "minorgridcolor": "white",
             "startlinecolor": "#2a3f5f"
            },
            "type": "carpet"
           }
          ],
          "choropleth": [
           {
            "colorbar": {
             "outlinewidth": 0,
             "ticks": ""
            },
            "type": "choropleth"
           }
          ],
          "contour": [
           {
            "colorbar": {
             "outlinewidth": 0,
             "ticks": ""
            },
            "colorscale": [
             [
              0,
              "#0d0887"
             ],
             [
              0.1111111111111111,
              "#46039f"
             ],
             [
              0.2222222222222222,
              "#7201a8"
             ],
             [
              0.3333333333333333,
              "#9c179e"
             ],
             [
              0.4444444444444444,
              "#bd3786"
             ],
             [
              0.5555555555555556,
              "#d8576b"
             ],
             [
              0.6666666666666666,
              "#ed7953"
             ],
             [
              0.7777777777777778,
              "#fb9f3a"
             ],
             [
              0.8888888888888888,
              "#fdca26"
             ],
             [
              1,
              "#f0f921"
             ]
            ],
            "type": "contour"
           }
          ],
          "contourcarpet": [
           {
            "colorbar": {
             "outlinewidth": 0,
             "ticks": ""
            },
            "type": "contourcarpet"
           }
          ],
          "heatmap": [
           {
            "colorbar": {
             "outlinewidth": 0,
             "ticks": ""
            },
            "colorscale": [
             [
              0,
              "#0d0887"
             ],
             [
              0.1111111111111111,
              "#46039f"
             ],
             [
              0.2222222222222222,
              "#7201a8"
             ],
             [
              0.3333333333333333,
              "#9c179e"
             ],
             [
              0.4444444444444444,
              "#bd3786"
             ],
             [
              0.5555555555555556,
              "#d8576b"
             ],
             [
              0.6666666666666666,
              "#ed7953"
             ],
             [
              0.7777777777777778,
              "#fb9f3a"
             ],
             [
              0.8888888888888888,
              "#fdca26"
             ],
             [
              1,
              "#f0f921"
             ]
            ],
            "type": "heatmap"
           }
          ],
          "heatmapgl": [
           {
            "colorbar": {
             "outlinewidth": 0,
             "ticks": ""
            },
            "colorscale": [
             [
              0,
              "#0d0887"
             ],
             [
              0.1111111111111111,
              "#46039f"
             ],
             [
              0.2222222222222222,
              "#7201a8"
             ],
             [
              0.3333333333333333,
              "#9c179e"
             ],
             [
              0.4444444444444444,
              "#bd3786"
             ],
             [
              0.5555555555555556,
              "#d8576b"
             ],
             [
              0.6666666666666666,
              "#ed7953"
             ],
             [
              0.7777777777777778,
              "#fb9f3a"
             ],
             [
              0.8888888888888888,
              "#fdca26"
             ],
             [
              1,
              "#f0f921"
             ]
            ],
            "type": "heatmapgl"
           }
          ],
          "histogram": [
           {
            "marker": {
             "colorbar": {
              "outlinewidth": 0,
              "ticks": ""
             }
            },
            "type": "histogram"
           }
          ],
          "histogram2d": [
           {
            "colorbar": {
             "outlinewidth": 0,
             "ticks": ""
            },
            "colorscale": [
             [
              0,
              "#0d0887"
             ],
             [
              0.1111111111111111,
              "#46039f"
             ],
             [
              0.2222222222222222,
              "#7201a8"
             ],
             [
              0.3333333333333333,
              "#9c179e"
             ],
             [
              0.4444444444444444,
              "#bd3786"
             ],
             [
              0.5555555555555556,
              "#d8576b"
             ],
             [
              0.6666666666666666,
              "#ed7953"
             ],
             [
              0.7777777777777778,
              "#fb9f3a"
             ],
             [
              0.8888888888888888,
              "#fdca26"
             ],
             [
              1,
              "#f0f921"
             ]
            ],
            "type": "histogram2d"
           }
          ],
          "histogram2dcontour": [
           {
            "colorbar": {
             "outlinewidth": 0,
             "ticks": ""
            },
            "colorscale": [
             [
              0,
              "#0d0887"
             ],
             [
              0.1111111111111111,
              "#46039f"
             ],
             [
              0.2222222222222222,
              "#7201a8"
             ],
             [
              0.3333333333333333,
              "#9c179e"
             ],
             [
              0.4444444444444444,
              "#bd3786"
             ],
             [
              0.5555555555555556,
              "#d8576b"
             ],
             [
              0.6666666666666666,
              "#ed7953"
             ],
             [
              0.7777777777777778,
              "#fb9f3a"
             ],
             [
              0.8888888888888888,
              "#fdca26"
             ],
             [
              1,
              "#f0f921"
             ]
            ],
            "type": "histogram2dcontour"
           }
          ],
          "mesh3d": [
           {
            "colorbar": {
             "outlinewidth": 0,
             "ticks": ""
            },
            "type": "mesh3d"
           }
          ],
          "parcoords": [
           {
            "line": {
             "colorbar": {
              "outlinewidth": 0,
              "ticks": ""
             }
            },
            "type": "parcoords"
           }
          ],
          "pie": [
           {
            "automargin": true,
            "type": "pie"
           }
          ],
          "scatter": [
           {
            "marker": {
             "colorbar": {
              "outlinewidth": 0,
              "ticks": ""
             }
            },
            "type": "scatter"
           }
          ],
          "scatter3d": [
           {
            "line": {
             "colorbar": {
              "outlinewidth": 0,
              "ticks": ""
             }
            },
            "marker": {
             "colorbar": {
              "outlinewidth": 0,
              "ticks": ""
             }
            },
            "type": "scatter3d"
           }
          ],
          "scattercarpet": [
           {
            "marker": {
             "colorbar": {
              "outlinewidth": 0,
              "ticks": ""
             }
            },
            "type": "scattercarpet"
           }
          ],
          "scattergeo": [
           {
            "marker": {
             "colorbar": {
              "outlinewidth": 0,
              "ticks": ""
             }
            },
            "type": "scattergeo"
           }
          ],
          "scattergl": [
           {
            "marker": {
             "colorbar": {
              "outlinewidth": 0,
              "ticks": ""
             }
            },
            "type": "scattergl"
           }
          ],
          "scattermapbox": [
           {
            "marker": {
             "colorbar": {
              "outlinewidth": 0,
              "ticks": ""
             }
            },
            "type": "scattermapbox"
           }
          ],
          "scatterpolar": [
           {
            "marker": {
             "colorbar": {
              "outlinewidth": 0,
              "ticks": ""
             }
            },
            "type": "scatterpolar"
           }
          ],
          "scatterpolargl": [
           {
            "marker": {
             "colorbar": {
              "outlinewidth": 0,
              "ticks": ""
             }
            },
            "type": "scatterpolargl"
           }
          ],
          "scatterternary": [
           {
            "marker": {
             "colorbar": {
              "outlinewidth": 0,
              "ticks": ""
             }
            },
            "type": "scatterternary"
           }
          ],
          "surface": [
           {
            "colorbar": {
             "outlinewidth": 0,
             "ticks": ""
            },
            "colorscale": [
             [
              0,
              "#0d0887"
             ],
             [
              0.1111111111111111,
              "#46039f"
             ],
             [
              0.2222222222222222,
              "#7201a8"
             ],
             [
              0.3333333333333333,
              "#9c179e"
             ],
             [
              0.4444444444444444,
              "#bd3786"
             ],
             [
              0.5555555555555556,
              "#d8576b"
             ],
             [
              0.6666666666666666,
              "#ed7953"
             ],
             [
              0.7777777777777778,
              "#fb9f3a"
             ],
             [
              0.8888888888888888,
              "#fdca26"
             ],
             [
              1,
              "#f0f921"
             ]
            ],
            "type": "surface"
           }
          ],
          "table": [
           {
            "cells": {
             "fill": {
              "color": "#EBF0F8"
             },
             "line": {
              "color": "white"
             }
            },
            "header": {
             "fill": {
              "color": "#C8D4E3"
             },
             "line": {
              "color": "white"
             }
            },
            "type": "table"
           }
          ]
         },
         "layout": {
          "annotationdefaults": {
           "arrowcolor": "#2a3f5f",
           "arrowhead": 0,
           "arrowwidth": 1
          },
          "coloraxis": {
           "colorbar": {
            "outlinewidth": 0,
            "ticks": ""
           }
          },
          "colorscale": {
           "diverging": [
            [
             0,
             "#8e0152"
            ],
            [
             0.1,
             "#c51b7d"
            ],
            [
             0.2,
             "#de77ae"
            ],
            [
             0.3,
             "#f1b6da"
            ],
            [
             0.4,
             "#fde0ef"
            ],
            [
             0.5,
             "#f7f7f7"
            ],
            [
             0.6,
             "#e6f5d0"
            ],
            [
             0.7,
             "#b8e186"
            ],
            [
             0.8,
             "#7fbc41"
            ],
            [
             0.9,
             "#4d9221"
            ],
            [
             1,
             "#276419"
            ]
           ],
           "sequential": [
            [
             0,
             "#0d0887"
            ],
            [
             0.1111111111111111,
             "#46039f"
            ],
            [
             0.2222222222222222,
             "#7201a8"
            ],
            [
             0.3333333333333333,
             "#9c179e"
            ],
            [
             0.4444444444444444,
             "#bd3786"
            ],
            [
             0.5555555555555556,
             "#d8576b"
            ],
            [
             0.6666666666666666,
             "#ed7953"
            ],
            [
             0.7777777777777778,
             "#fb9f3a"
            ],
            [
             0.8888888888888888,
             "#fdca26"
            ],
            [
             1,
             "#f0f921"
            ]
           ],
           "sequentialminus": [
            [
             0,
             "#0d0887"
            ],
            [
             0.1111111111111111,
             "#46039f"
            ],
            [
             0.2222222222222222,
             "#7201a8"
            ],
            [
             0.3333333333333333,
             "#9c179e"
            ],
            [
             0.4444444444444444,
             "#bd3786"
            ],
            [
             0.5555555555555556,
             "#d8576b"
            ],
            [
             0.6666666666666666,
             "#ed7953"
            ],
            [
             0.7777777777777778,
             "#fb9f3a"
            ],
            [
             0.8888888888888888,
             "#fdca26"
            ],
            [
             1,
             "#f0f921"
            ]
           ]
          },
          "colorway": [
           "#636efa",
           "#EF553B",
           "#00cc96",
           "#ab63fa",
           "#FFA15A",
           "#19d3f3",
           "#FF6692",
           "#B6E880",
           "#FF97FF",
           "#FECB52"
          ],
          "font": {
           "color": "#2a3f5f"
          },
          "geo": {
           "bgcolor": "white",
           "lakecolor": "white",
           "landcolor": "#E5ECF6",
           "showlakes": true,
           "showland": true,
           "subunitcolor": "white"
          },
          "hoverlabel": {
           "align": "left"
          },
          "hovermode": "closest",
          "mapbox": {
           "style": "light"
          },
          "paper_bgcolor": "white",
          "plot_bgcolor": "#E5ECF6",
          "polar": {
           "angularaxis": {
            "gridcolor": "white",
            "linecolor": "white",
            "ticks": ""
           },
           "bgcolor": "#E5ECF6",
           "radialaxis": {
            "gridcolor": "white",
            "linecolor": "white",
            "ticks": ""
           }
          },
          "scene": {
           "xaxis": {
            "backgroundcolor": "#E5ECF6",
            "gridcolor": "white",
            "gridwidth": 2,
            "linecolor": "white",
            "showbackground": true,
            "ticks": "",
            "zerolinecolor": "white"
           },
           "yaxis": {
            "backgroundcolor": "#E5ECF6",
            "gridcolor": "white",
            "gridwidth": 2,
            "linecolor": "white",
            "showbackground": true,
            "ticks": "",
            "zerolinecolor": "white"
           },
           "zaxis": {
            "backgroundcolor": "#E5ECF6",
            "gridcolor": "white",
            "gridwidth": 2,
            "linecolor": "white",
            "showbackground": true,
            "ticks": "",
            "zerolinecolor": "white"
           }
          },
          "shapedefaults": {
           "line": {
            "color": "#2a3f5f"
           }
          },
          "ternary": {
           "aaxis": {
            "gridcolor": "white",
            "linecolor": "white",
            "ticks": ""
           },
           "baxis": {
            "gridcolor": "white",
            "linecolor": "white",
            "ticks": ""
           },
           "bgcolor": "#E5ECF6",
           "caxis": {
            "gridcolor": "white",
            "linecolor": "white",
            "ticks": ""
           }
          },
          "title": {
           "x": 0.05
          },
          "xaxis": {
           "automargin": true,
           "gridcolor": "white",
           "linecolor": "white",
           "ticks": "",
           "title": {
            "standoff": 15
           },
           "zerolinecolor": "white",
           "zerolinewidth": 2
          },
          "yaxis": {
           "automargin": true,
           "gridcolor": "white",
           "linecolor": "white",
           "ticks": "",
           "title": {
            "standoff": 15
           },
           "zerolinecolor": "white",
           "zerolinewidth": 2
          }
         }
        },
        "xaxis": {
         "anchor": "y",
         "domain": [
          0,
          1
         ],
         "title": {
          "text": "0"
         }
        },
        "yaxis": {
         "anchor": "x",
         "domain": [
          0,
          1
         ],
         "title": {
          "text": "1"
         }
        }
       }
      },
      "text/html": [
       "<div>\n",
       "        \n",
       "        \n",
       "            <div id=\"752b5a8e-b632-4cdc-893f-c292a6294789\" class=\"plotly-graph-div\" style=\"height:525px; width:100%;\"></div>\n",
       "            <script type=\"text/javascript\">\n",
       "                require([\"plotly\"], function(Plotly) {\n",
       "                    window.PLOTLYENV=window.PLOTLYENV || {};\n",
       "                    \n",
       "                if (document.getElementById(\"752b5a8e-b632-4cdc-893f-c292a6294789\")) {\n",
       "                    Plotly.newPlot(\n",
       "                        '752b5a8e-b632-4cdc-893f-c292a6294789',\n",
       "                        [{\"hovertemplate\": \"0=%{x}<br>1=%{y}<br>subreddit=%{text}<extra></extra>\", \"legendgroup\": \"\", \"marker\": {\"color\": \"#636efa\", \"symbol\": \"circle\"}, \"mode\": \"markers+text\", \"name\": \"\", \"orientation\": \"v\", \"showlegend\": false, \"text\": [\"politics\", \"YangForPresidentHQ\", \"SandersForPresident\", \"centerleftpolitics\", \"Pete_Buttigieg\", \"moderatepolitics\", \"ElizabethWarren\", \"progressive\", \"JoeBiden\", \"Kamala\", \"SocialDemocracy\", \"BaemyKlobaechar\", \"demsocialist\", \"BetoORourke\", \"ConservativeDemocrat\"], \"type\": \"scatter\", \"x\": [-0.20044061362364668, -0.04268586531752752, -0.0558384159365719, -0.08525654254088305, -0.21065799168127713, -0.0999135569594786, -0.18956644700010014, -0.14930111918405561, -0.1327900096392928, -0.2184484308106541, 0.019740192025996483, -0.18284786884350207, -0.14652182401469166, -0.1290330524316887, -0.06910442694697662], \"xaxis\": \"x\", \"y\": [0.29871331254144406, 0.18715478105989455, 0.19033945951909004, 0.12932222384301328, 0.1503156039906721, 0.25296532373702363, 0.1529190701157897, 0.20761364025576798, 0.10229373375120505, 0.09945918292547744, 0.05657425087800587, 0.15351027155454716, 0.16879287657302908, 0.11724443367598814, 0.10186423291978088], \"yaxis\": \"y\"}],\n",
       "                        {\"legend\": {\"tracegroupgap\": 0}, \"margin\": {\"t\": 60}, \"template\": {\"data\": {\"bar\": [{\"error_x\": {\"color\": \"#2a3f5f\"}, \"error_y\": {\"color\": \"#2a3f5f\"}, \"marker\": {\"line\": {\"color\": \"#E5ECF6\", \"width\": 0.5}}, \"type\": \"bar\"}], \"barpolar\": [{\"marker\": {\"line\": {\"color\": \"#E5ECF6\", \"width\": 0.5}}, \"type\": \"barpolar\"}], \"carpet\": [{\"aaxis\": {\"endlinecolor\": \"#2a3f5f\", \"gridcolor\": \"white\", \"linecolor\": \"white\", \"minorgridcolor\": \"white\", \"startlinecolor\": \"#2a3f5f\"}, \"baxis\": {\"endlinecolor\": \"#2a3f5f\", \"gridcolor\": \"white\", \"linecolor\": \"white\", \"minorgridcolor\": \"white\", \"startlinecolor\": \"#2a3f5f\"}, \"type\": \"carpet\"}], \"choropleth\": [{\"colorbar\": {\"outlinewidth\": 0, \"ticks\": \"\"}, \"type\": \"choropleth\"}], \"contour\": [{\"colorbar\": {\"outlinewidth\": 0, \"ticks\": \"\"}, \"colorscale\": [[0.0, \"#0d0887\"], [0.1111111111111111, \"#46039f\"], [0.2222222222222222, \"#7201a8\"], [0.3333333333333333, \"#9c179e\"], [0.4444444444444444, \"#bd3786\"], [0.5555555555555556, \"#d8576b\"], [0.6666666666666666, \"#ed7953\"], [0.7777777777777778, \"#fb9f3a\"], [0.8888888888888888, \"#fdca26\"], [1.0, \"#f0f921\"]], \"type\": \"contour\"}], \"contourcarpet\": [{\"colorbar\": {\"outlinewidth\": 0, \"ticks\": \"\"}, \"type\": \"contourcarpet\"}], \"heatmap\": [{\"colorbar\": {\"outlinewidth\": 0, \"ticks\": \"\"}, \"colorscale\": [[0.0, \"#0d0887\"], [0.1111111111111111, \"#46039f\"], [0.2222222222222222, \"#7201a8\"], [0.3333333333333333, \"#9c179e\"], [0.4444444444444444, \"#bd3786\"], [0.5555555555555556, \"#d8576b\"], [0.6666666666666666, \"#ed7953\"], [0.7777777777777778, \"#fb9f3a\"], [0.8888888888888888, \"#fdca26\"], [1.0, \"#f0f921\"]], \"type\": \"heatmap\"}], \"heatmapgl\": [{\"colorbar\": {\"outlinewidth\": 0, \"ticks\": \"\"}, \"colorscale\": [[0.0, \"#0d0887\"], [0.1111111111111111, \"#46039f\"], [0.2222222222222222, \"#7201a8\"], [0.3333333333333333, \"#9c179e\"], [0.4444444444444444, \"#bd3786\"], [0.5555555555555556, \"#d8576b\"], [0.6666666666666666, \"#ed7953\"], [0.7777777777777778, \"#fb9f3a\"], [0.8888888888888888, \"#fdca26\"], [1.0, \"#f0f921\"]], \"type\": \"heatmapgl\"}], \"histogram\": [{\"marker\": {\"colorbar\": {\"outlinewidth\": 0, \"ticks\": \"\"}}, \"type\": \"histogram\"}], \"histogram2d\": [{\"colorbar\": {\"outlinewidth\": 0, \"ticks\": \"\"}, \"colorscale\": [[0.0, \"#0d0887\"], [0.1111111111111111, \"#46039f\"], [0.2222222222222222, \"#7201a8\"], [0.3333333333333333, \"#9c179e\"], [0.4444444444444444, \"#bd3786\"], [0.5555555555555556, \"#d8576b\"], [0.6666666666666666, \"#ed7953\"], [0.7777777777777778, \"#fb9f3a\"], [0.8888888888888888, \"#fdca26\"], [1.0, \"#f0f921\"]], \"type\": \"histogram2d\"}], \"histogram2dcontour\": [{\"colorbar\": {\"outlinewidth\": 0, \"ticks\": \"\"}, \"colorscale\": [[0.0, \"#0d0887\"], [0.1111111111111111, \"#46039f\"], [0.2222222222222222, \"#7201a8\"], [0.3333333333333333, \"#9c179e\"], [0.4444444444444444, \"#bd3786\"], [0.5555555555555556, \"#d8576b\"], [0.6666666666666666, \"#ed7953\"], [0.7777777777777778, \"#fb9f3a\"], [0.8888888888888888, \"#fdca26\"], [1.0, \"#f0f921\"]], \"type\": \"histogram2dcontour\"}], \"mesh3d\": [{\"colorbar\": {\"outlinewidth\": 0, \"ticks\": \"\"}, \"type\": \"mesh3d\"}], \"parcoords\": [{\"line\": {\"colorbar\": {\"outlinewidth\": 0, \"ticks\": \"\"}}, \"type\": \"parcoords\"}], \"pie\": [{\"automargin\": true, \"type\": \"pie\"}], \"scatter\": [{\"marker\": {\"colorbar\": {\"outlinewidth\": 0, \"ticks\": \"\"}}, \"type\": \"scatter\"}], \"scatter3d\": [{\"line\": {\"colorbar\": {\"outlinewidth\": 0, \"ticks\": \"\"}}, \"marker\": {\"colorbar\": {\"outlinewidth\": 0, \"ticks\": \"\"}}, \"type\": \"scatter3d\"}], \"scattercarpet\": [{\"marker\": {\"colorbar\": {\"outlinewidth\": 0, \"ticks\": \"\"}}, \"type\": \"scattercarpet\"}], \"scattergeo\": [{\"marker\": {\"colorbar\": {\"outlinewidth\": 0, \"ticks\": \"\"}}, \"type\": \"scattergeo\"}], \"scattergl\": [{\"marker\": {\"colorbar\": {\"outlinewidth\": 0, \"ticks\": \"\"}}, \"type\": \"scattergl\"}], \"scattermapbox\": [{\"marker\": {\"colorbar\": {\"outlinewidth\": 0, \"ticks\": \"\"}}, \"type\": \"scattermapbox\"}], \"scatterpolar\": [{\"marker\": {\"colorbar\": {\"outlinewidth\": 0, \"ticks\": \"\"}}, \"type\": \"scatterpolar\"}], \"scatterpolargl\": [{\"marker\": {\"colorbar\": {\"outlinewidth\": 0, \"ticks\": \"\"}}, \"type\": \"scatterpolargl\"}], \"scatterternary\": [{\"marker\": {\"colorbar\": {\"outlinewidth\": 0, \"ticks\": \"\"}}, \"type\": \"scatterternary\"}], \"surface\": [{\"colorbar\": {\"outlinewidth\": 0, \"ticks\": \"\"}, \"colorscale\": [[0.0, \"#0d0887\"], [0.1111111111111111, \"#46039f\"], [0.2222222222222222, \"#7201a8\"], [0.3333333333333333, \"#9c179e\"], [0.4444444444444444, \"#bd3786\"], [0.5555555555555556, \"#d8576b\"], [0.6666666666666666, \"#ed7953\"], [0.7777777777777778, \"#fb9f3a\"], [0.8888888888888888, \"#fdca26\"], [1.0, \"#f0f921\"]], \"type\": \"surface\"}], \"table\": [{\"cells\": {\"fill\": {\"color\": \"#EBF0F8\"}, \"line\": {\"color\": \"white\"}}, \"header\": {\"fill\": {\"color\": \"#C8D4E3\"}, \"line\": {\"color\": \"white\"}}, \"type\": \"table\"}]}, \"layout\": {\"annotationdefaults\": {\"arrowcolor\": \"#2a3f5f\", \"arrowhead\": 0, \"arrowwidth\": 1}, \"coloraxis\": {\"colorbar\": {\"outlinewidth\": 0, \"ticks\": \"\"}}, \"colorscale\": {\"diverging\": [[0, \"#8e0152\"], [0.1, \"#c51b7d\"], [0.2, \"#de77ae\"], [0.3, \"#f1b6da\"], [0.4, \"#fde0ef\"], [0.5, \"#f7f7f7\"], [0.6, \"#e6f5d0\"], [0.7, \"#b8e186\"], [0.8, \"#7fbc41\"], [0.9, \"#4d9221\"], [1, \"#276419\"]], \"sequential\": [[0.0, \"#0d0887\"], [0.1111111111111111, \"#46039f\"], [0.2222222222222222, \"#7201a8\"], [0.3333333333333333, \"#9c179e\"], [0.4444444444444444, \"#bd3786\"], [0.5555555555555556, \"#d8576b\"], [0.6666666666666666, \"#ed7953\"], [0.7777777777777778, \"#fb9f3a\"], [0.8888888888888888, \"#fdca26\"], [1.0, \"#f0f921\"]], \"sequentialminus\": [[0.0, \"#0d0887\"], [0.1111111111111111, \"#46039f\"], [0.2222222222222222, \"#7201a8\"], [0.3333333333333333, \"#9c179e\"], [0.4444444444444444, \"#bd3786\"], [0.5555555555555556, \"#d8576b\"], [0.6666666666666666, \"#ed7953\"], [0.7777777777777778, \"#fb9f3a\"], [0.8888888888888888, \"#fdca26\"], [1.0, \"#f0f921\"]]}, \"colorway\": [\"#636efa\", \"#EF553B\", \"#00cc96\", \"#ab63fa\", \"#FFA15A\", \"#19d3f3\", \"#FF6692\", \"#B6E880\", \"#FF97FF\", \"#FECB52\"], \"font\": {\"color\": \"#2a3f5f\"}, \"geo\": {\"bgcolor\": \"white\", \"lakecolor\": \"white\", \"landcolor\": \"#E5ECF6\", \"showlakes\": true, \"showland\": true, \"subunitcolor\": \"white\"}, \"hoverlabel\": {\"align\": \"left\"}, \"hovermode\": \"closest\", \"mapbox\": {\"style\": \"light\"}, \"paper_bgcolor\": \"white\", \"plot_bgcolor\": \"#E5ECF6\", \"polar\": {\"angularaxis\": {\"gridcolor\": \"white\", \"linecolor\": \"white\", \"ticks\": \"\"}, \"bgcolor\": \"#E5ECF6\", \"radialaxis\": {\"gridcolor\": \"white\", \"linecolor\": \"white\", \"ticks\": \"\"}}, \"scene\": {\"xaxis\": {\"backgroundcolor\": \"#E5ECF6\", \"gridcolor\": \"white\", \"gridwidth\": 2, \"linecolor\": \"white\", \"showbackground\": true, \"ticks\": \"\", \"zerolinecolor\": \"white\"}, \"yaxis\": {\"backgroundcolor\": \"#E5ECF6\", \"gridcolor\": \"white\", \"gridwidth\": 2, \"linecolor\": \"white\", \"showbackground\": true, \"ticks\": \"\", \"zerolinecolor\": \"white\"}, \"zaxis\": {\"backgroundcolor\": \"#E5ECF6\", \"gridcolor\": \"white\", \"gridwidth\": 2, \"linecolor\": \"white\", \"showbackground\": true, \"ticks\": \"\", \"zerolinecolor\": \"white\"}}, \"shapedefaults\": {\"line\": {\"color\": \"#2a3f5f\"}}, \"ternary\": {\"aaxis\": {\"gridcolor\": \"white\", \"linecolor\": \"white\", \"ticks\": \"\"}, \"baxis\": {\"gridcolor\": \"white\", \"linecolor\": \"white\", \"ticks\": \"\"}, \"bgcolor\": \"#E5ECF6\", \"caxis\": {\"gridcolor\": \"white\", \"linecolor\": \"white\", \"ticks\": \"\"}}, \"title\": {\"x\": 0.05}, \"xaxis\": {\"automargin\": true, \"gridcolor\": \"white\", \"linecolor\": \"white\", \"ticks\": \"\", \"title\": {\"standoff\": 15}, \"zerolinecolor\": \"white\", \"zerolinewidth\": 2}, \"yaxis\": {\"automargin\": true, \"gridcolor\": \"white\", \"linecolor\": \"white\", \"ticks\": \"\", \"title\": {\"standoff\": 15}, \"zerolinecolor\": \"white\", \"zerolinewidth\": 2}}}, \"xaxis\": {\"anchor\": \"y\", \"domain\": [0.0, 1.0], \"title\": {\"text\": \"0\"}}, \"yaxis\": {\"anchor\": \"x\", \"domain\": [0.0, 1.0], \"title\": {\"text\": \"1\"}}},\n",
       "                        {\"responsive\": true}\n",
       "                    ).then(function(){\n",
       "                            \n",
       "var gd = document.getElementById('752b5a8e-b632-4cdc-893f-c292a6294789');\n",
       "var x = new MutationObserver(function (mutations, observer) {{\n",
       "        var display = window.getComputedStyle(gd).display;\n",
       "        if (!display || display === 'none') {{\n",
       "            console.log([gd, 'removed!']);\n",
       "            Plotly.purge(gd);\n",
       "            observer.disconnect();\n",
       "        }}\n",
       "}});\n",
       "\n",
       "// Listen for the removal of the full notebook cells\n",
       "var notebookContainer = gd.closest('#notebook-container');\n",
       "if (notebookContainer) {{\n",
       "    x.observe(notebookContainer, {childList: true});\n",
       "}}\n",
       "\n",
       "// Listen for the clearing of the current output cell\n",
       "var outputEl = gd.closest('.output');\n",
       "if (outputEl) {{\n",
       "    x.observe(outputEl, {childList: true});\n",
       "}}\n",
       "\n",
       "                        })\n",
       "                };\n",
       "                });\n",
       "            </script>\n",
       "        </div>"
      ]
     },
     "metadata": {},
     "output_type": "display_data"
    }
   ],
   "source": [
    "pca =  PCA(n_components = 3)\n",
    "two_dim = pd.DataFrame(pca.fit_transform(best_embedding)).set_index(best_embedding.index)\n",
    "two_dim = two_dim[two_dim.index.isin(political_subreddits)]\n",
    "fig = px.scatter(two_dim, x=0, y=1,text=two_dim.index)\n",
    "fig.write_html(\"visualizations/2d_scatter.html\")\n",
    "fig.show()"
   ]
  },
  {
   "cell_type": "markdown",
   "metadata": {},
   "source": [
    "## Output to tensorboard format"
   ]
  },
  {
   "cell_type": "code",
   "execution_count": 54,
   "metadata": {},
   "outputs": [],
   "source": [
    "import json\n",
    "pub_dir = \"/h/224/cameron/public_html\"\n",
    "\n",
    "params = embedding_params[m]\n",
    "name = \"{}_{}\".format(*params)\n",
    "# Save Labels separately on a line-by-line manner.\n",
    "with open(os.path.join(pub_dir, '{}_metadata.tsv'.format(name)), \"w\") as f:\n",
    "    for sub in best_embedding.index:\n",
    "        f.write(\"{}\\n\".format(sub))\n",
    "\n",
    "best_embedding.to_csv(os.path.join(pub_dir, '{}_vecs.tsv'.format(name)),      \n",
    "        sep='\\t',\n",
    "        index=False,\n",
    "        header=False,\n",
    "        encoding='utf-8')\n",
    "\n",
    "config = {\n",
    "      \"tensorName\": name,\n",
    "      \"tensorShape\": [\n",
    "        best_embedding.shape[0],\n",
    "        best_embedding.shape[1]\n",
    "      ],\n",
    "      \"tensorPath\": os.path.join(pub_dir, '{}_metadata.tsv'.format(name)),\n",
    "      \"metadataPath\": os.path.join(pub_dir, '{}_vecs.tsv'.format(name))\n",
    "    }\n",
    "\n",
    "with open(os.path.join(pub_dir, \"{}_config.json\".format(name)), \"w+\") as text_file:\n",
    "    text_file.write(json.dumps({\"embeddings\": [config]}))"
   ]
  }
 ],
 "metadata": {
  "kernelspec": {
   "display_name": "Python 3",
   "language": "python",
   "name": "python3"
  },
  "language_info": {
   "codemirror_mode": {
    "name": "ipython",
    "version": 3
   },
   "file_extension": ".py",
   "mimetype": "text/x-python",
   "name": "python",
   "nbconvert_exporter": "python",
   "pygments_lexer": "ipython3",
   "version": "3.7.7"
  }
 },
 "nbformat": 4,
 "nbformat_minor": 4
}
