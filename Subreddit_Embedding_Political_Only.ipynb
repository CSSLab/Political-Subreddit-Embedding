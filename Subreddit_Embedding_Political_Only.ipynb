{
 "cells": [
  {
   "cell_type": "code",
   "execution_count": 1,
   "metadata": {},
   "outputs": [],
   "source": [
    "import findspark\n",
    "findspark.init(\"/h/224/cameron/spark-3.0.0-preview2-bin-hadoop2.7\")\n",
    "from pyspark.sql import SparkSession"
   ]
  },
  {
   "cell_type": "code",
   "execution_count": 2,
   "metadata": {},
   "outputs": [],
   "source": [
    "spark = SparkSession.builder.master(\"local[*]\").config(\"spark.executor.memory\", \"70g\").config(\"spark.driver.memory\", \"50g\").config(\n",
    "    \"spark.memory.offHeap.enabled\", True).config(\"spark.memory.offHeap.size\", \"16g\").getOrCreate()"
   ]
  },
  {
   "cell_type": "code",
   "execution_count": 5,
   "metadata": {},
   "outputs": [
    {
     "name": "stdout",
     "output_type": "stream",
     "text": [
      "root\n",
      " |-- id: string (nullable = true)\n",
      " |-- parent_id: string (nullable = true)\n",
      " |-- score: integer (nullable = true)\n",
      " |-- author_flair_css_class: string (nullable = true)\n",
      " |-- author_flair_text: string (nullable = true)\n",
      " |-- link_id: string (nullable = true)\n",
      " |-- author: string (nullable = true)\n",
      " |-- subreddit: string (nullable = true)\n",
      " |-- body: string (nullable = true)\n",
      " |-- edited: integer (nullable = true)\n",
      " |-- gilded: string (nullable = true)\n",
      " |-- controversiality: integer (nullable = true)\n",
      " |-- created_utc: integer (nullable = true)\n",
      " |-- distinguished: string (nullable = true)\n",
      "\n"
     ]
    }
   ],
   "source": [
    "# Load the Parquet data\n",
    "reddit_comments = spark.read.load(\"/comments_2019.parquet\")\n",
    "reddit_comments.createOrReplaceTempView(\"comments\")\n",
    "reddit_comments.printSchema()"
   ]
  },
  {
   "cell_type": "markdown",
   "metadata": {},
   "source": [
    "## Word2Vecf Files\n",
    "[Word2vecf](https://github.com/BIU-NLP/word2vecf/blob/master/README.md) requires three inputs\n",
    "* word_vocabulary: file mapping subreddits (strings) to their counts\n",
    "* count_vocabulary: file mapping users (contexts -> subreddit commenters) to their counts\n",
    "* training_data: text file of word-context pairs (space delimited)\n"
   ]
  },
  {
   "cell_type": "markdown",
   "metadata": {},
   "source": [
    "### Word Vocabulary"
   ]
  },
  {
   "cell_type": "code",
   "execution_count": 13,
   "metadata": {},
   "outputs": [
    {
     "name": "stdout",
     "output_type": "stream",
     "text": [
      "+-------------------+-------+\n",
      "|          subreddit|  count|\n",
      "+-------------------+-------+\n",
      "|              anime|3303822|\n",
      "|       gentlefemdom|  62808|\n",
      "|           Goldfish|  27526|\n",
      "|         MLBTheShow| 587781|\n",
      "|             travel| 386688|\n",
      "|         costa_rica|  11099|\n",
      "|       SaltLakeCity| 125313|\n",
      "|UnresolvedMysteries| 332677|\n",
      "|     TrueOffMyChest| 726501|\n",
      "|         traderjoes|  69021|\n",
      "|             AdPorn|   3857|\n",
      "|         MensRights| 503714|\n",
      "|            Amateur| 114799|\n",
      "|  BeautyGuruChatter| 564832|\n",
      "|         NHLStreams|  67022|\n",
      "|          GemsofWar|  11396|\n",
      "|      gastricsleeve|  31746|\n",
      "|                NIU|   3486|\n",
      "|    NewLondonCounty|  22403|\n",
      "|    Notakeonlythrow|   6424|\n",
      "+-------------------+-------+\n",
      "only showing top 20 rows\n",
      "\n"
     ]
    }
   ],
   "source": [
    "word_vocabulary = reddit_comments.groupBy(\"subreddit\").count().cache()\n",
    "word_vocabulary.show()"
   ]
  },
  {
   "cell_type": "code",
   "execution_count": null,
   "metadata": {},
   "outputs": [],
   "source": [
    "count_vocabulary = reddit_comments.groupBy(\"author\").count().cache()\n",
    "count_vocabulary.show()"
   ]
  },
  {
   "cell_type": "code",
   "execution_count": null,
   "metadata": {},
   "outputs": [],
   "source": []
  }
 ],
 "metadata": {
  "kernelspec": {
   "display_name": "Python 3",
   "language": "python",
   "name": "python3"
  },
  "language_info": {
   "codemirror_mode": {
    "name": "ipython",
    "version": 3
   },
   "file_extension": ".py",
   "mimetype": "text/x-python",
   "name": "python",
   "nbconvert_exporter": "python",
   "pygments_lexer": "ipython3",
   "version": "3.7.7"
  }
 },
 "nbformat": 4,
 "nbformat_minor": 4
}
