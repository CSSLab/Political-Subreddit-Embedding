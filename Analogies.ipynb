{
 "cells": [
  {
   "cell_type": "code",
   "execution_count": 1,
   "metadata": {},
   "outputs": [
    {
     "name": "stderr",
     "output_type": "stream",
     "text": [
      "/h/224/cameron/miniconda3/envs/pyspark_env/lib/python3.7/site-packages/tqdm/std.py:668: FutureWarning: The Panel class is removed from pandas. Accessing it from the top-level namespace will also be removed in the next version\n",
      "  from pandas import Panel\n"
     ]
    }
   ],
   "source": [
    "from utils import load_embedding, parse_tup, cos_sim, cos_dist\n",
    "from sklearn.decomposition import PCA\n",
    "from tqdm.auto import tqdm\n",
    "import numpy as np\n",
    "import pandas as pd\n",
    "tqdm.pandas()"
   ]
  },
  {
   "cell_type": "code",
   "execution_count": 2,
   "metadata": {
    "scrolled": true
   },
   "outputs": [
    {
     "data": {
      "text/html": [
       "<div>\n",
       "<style scoped>\n",
       "    .dataframe tbody tr th:only-of-type {\n",
       "        vertical-align: middle;\n",
       "    }\n",
       "\n",
       "    .dataframe tbody tr th {\n",
       "        vertical-align: top;\n",
       "    }\n",
       "\n",
       "    .dataframe thead th {\n",
       "        text-align: right;\n",
       "    }\n",
       "</style>\n",
       "<table border=\"1\" class=\"dataframe\">\n",
       "  <thead>\n",
       "    <tr style=\"text-align: right;\">\n",
       "      <th></th>\n",
       "      <th>1</th>\n",
       "      <th>2</th>\n",
       "      <th>3</th>\n",
       "      <th>4</th>\n",
       "      <th>5</th>\n",
       "      <th>6</th>\n",
       "      <th>7</th>\n",
       "      <th>8</th>\n",
       "      <th>9</th>\n",
       "      <th>10</th>\n",
       "      <th>...</th>\n",
       "      <th>141</th>\n",
       "      <th>142</th>\n",
       "      <th>143</th>\n",
       "      <th>144</th>\n",
       "      <th>145</th>\n",
       "      <th>146</th>\n",
       "      <th>147</th>\n",
       "      <th>148</th>\n",
       "      <th>149</th>\n",
       "      <th>150</th>\n",
       "    </tr>\n",
       "    <tr>\n",
       "      <th>subreddit</th>\n",
       "      <th></th>\n",
       "      <th></th>\n",
       "      <th></th>\n",
       "      <th></th>\n",
       "      <th></th>\n",
       "      <th></th>\n",
       "      <th></th>\n",
       "      <th></th>\n",
       "      <th></th>\n",
       "      <th></th>\n",
       "      <th></th>\n",
       "      <th></th>\n",
       "      <th></th>\n",
       "      <th></th>\n",
       "      <th></th>\n",
       "      <th></th>\n",
       "      <th></th>\n",
       "      <th></th>\n",
       "      <th></th>\n",
       "      <th></th>\n",
       "      <th></th>\n",
       "    </tr>\n",
       "  </thead>\n",
       "  <tbody>\n",
       "    <tr>\n",
       "      <th>SquaredCircle</th>\n",
       "      <td>0.134779</td>\n",
       "      <td>0.043821</td>\n",
       "      <td>-0.011876</td>\n",
       "      <td>-0.066840</td>\n",
       "      <td>0.020694</td>\n",
       "      <td>-0.055040</td>\n",
       "      <td>0.017334</td>\n",
       "      <td>0.004694</td>\n",
       "      <td>-0.082625</td>\n",
       "      <td>0.124690</td>\n",
       "      <td>...</td>\n",
       "      <td>-0.061495</td>\n",
       "      <td>-0.183028</td>\n",
       "      <td>-0.099551</td>\n",
       "      <td>0.031485</td>\n",
       "      <td>-0.040188</td>\n",
       "      <td>0.143292</td>\n",
       "      <td>0.040536</td>\n",
       "      <td>-0.008464</td>\n",
       "      <td>0.041863</td>\n",
       "      <td>-0.172806</td>\n",
       "    </tr>\n",
       "    <tr>\n",
       "      <th>AskReddit</th>\n",
       "      <td>0.135559</td>\n",
       "      <td>0.008985</td>\n",
       "      <td>-0.037187</td>\n",
       "      <td>0.000455</td>\n",
       "      <td>0.022365</td>\n",
       "      <td>-0.006085</td>\n",
       "      <td>-0.017524</td>\n",
       "      <td>0.040978</td>\n",
       "      <td>-0.054059</td>\n",
       "      <td>0.069235</td>\n",
       "      <td>...</td>\n",
       "      <td>-0.039066</td>\n",
       "      <td>-0.043172</td>\n",
       "      <td>-0.106157</td>\n",
       "      <td>0.105634</td>\n",
       "      <td>-0.045787</td>\n",
       "      <td>0.063289</td>\n",
       "      <td>0.057239</td>\n",
       "      <td>-0.198356</td>\n",
       "      <td>0.061649</td>\n",
       "      <td>-0.023330</td>\n",
       "    </tr>\n",
       "    <tr>\n",
       "      <th>politics</th>\n",
       "      <td>-0.042422</td>\n",
       "      <td>0.024062</td>\n",
       "      <td>-0.165820</td>\n",
       "      <td>0.046046</td>\n",
       "      <td>-0.080393</td>\n",
       "      <td>0.024717</td>\n",
       "      <td>0.044797</td>\n",
       "      <td>0.094564</td>\n",
       "      <td>-0.090970</td>\n",
       "      <td>0.013700</td>\n",
       "      <td>...</td>\n",
       "      <td>0.034073</td>\n",
       "      <td>-0.087685</td>\n",
       "      <td>-0.129094</td>\n",
       "      <td>0.110916</td>\n",
       "      <td>0.047369</td>\n",
       "      <td>0.014214</td>\n",
       "      <td>0.025798</td>\n",
       "      <td>-0.121198</td>\n",
       "      <td>0.155587</td>\n",
       "      <td>-0.057969</td>\n",
       "    </tr>\n",
       "    <tr>\n",
       "      <th>memes</th>\n",
       "      <td>0.002449</td>\n",
       "      <td>-0.014680</td>\n",
       "      <td>-0.031889</td>\n",
       "      <td>-0.051864</td>\n",
       "      <td>0.044783</td>\n",
       "      <td>-0.055175</td>\n",
       "      <td>0.063965</td>\n",
       "      <td>0.009760</td>\n",
       "      <td>-0.135631</td>\n",
       "      <td>0.106458</td>\n",
       "      <td>...</td>\n",
       "      <td>0.024190</td>\n",
       "      <td>-0.042757</td>\n",
       "      <td>-0.033878</td>\n",
       "      <td>0.041545</td>\n",
       "      <td>-0.001212</td>\n",
       "      <td>0.076116</td>\n",
       "      <td>0.036539</td>\n",
       "      <td>-0.102034</td>\n",
       "      <td>0.054330</td>\n",
       "      <td>-0.073219</td>\n",
       "    </tr>\n",
       "    <tr>\n",
       "      <th>teenagers</th>\n",
       "      <td>0.026058</td>\n",
       "      <td>0.069684</td>\n",
       "      <td>0.024581</td>\n",
       "      <td>0.009624</td>\n",
       "      <td>-0.029134</td>\n",
       "      <td>0.076384</td>\n",
       "      <td>0.078542</td>\n",
       "      <td>0.052331</td>\n",
       "      <td>-0.106552</td>\n",
       "      <td>0.096511</td>\n",
       "      <td>...</td>\n",
       "      <td>0.013686</td>\n",
       "      <td>-0.014345</td>\n",
       "      <td>-0.004146</td>\n",
       "      <td>0.055941</td>\n",
       "      <td>-0.009106</td>\n",
       "      <td>0.085962</td>\n",
       "      <td>0.030374</td>\n",
       "      <td>-0.028468</td>\n",
       "      <td>0.069988</td>\n",
       "      <td>-0.039540</td>\n",
       "    </tr>\n",
       "    <tr>\n",
       "      <th>...</th>\n",
       "      <td>...</td>\n",
       "      <td>...</td>\n",
       "      <td>...</td>\n",
       "      <td>...</td>\n",
       "      <td>...</td>\n",
       "      <td>...</td>\n",
       "      <td>...</td>\n",
       "      <td>...</td>\n",
       "      <td>...</td>\n",
       "      <td>...</td>\n",
       "      <td>...</td>\n",
       "      <td>...</td>\n",
       "      <td>...</td>\n",
       "      <td>...</td>\n",
       "      <td>...</td>\n",
       "      <td>...</td>\n",
       "      <td>...</td>\n",
       "      <td>...</td>\n",
       "      <td>...</td>\n",
       "      <td>...</td>\n",
       "      <td>...</td>\n",
       "    </tr>\n",
       "    <tr>\n",
       "      <th>NRV</th>\n",
       "      <td>0.122154</td>\n",
       "      <td>0.130032</td>\n",
       "      <td>-0.243602</td>\n",
       "      <td>-0.032611</td>\n",
       "      <td>-0.038153</td>\n",
       "      <td>-0.014279</td>\n",
       "      <td>-0.065262</td>\n",
       "      <td>-0.001528</td>\n",
       "      <td>-0.099809</td>\n",
       "      <td>-0.018441</td>\n",
       "      <td>...</td>\n",
       "      <td>-0.054521</td>\n",
       "      <td>-0.062958</td>\n",
       "      <td>-0.112747</td>\n",
       "      <td>0.098669</td>\n",
       "      <td>-0.049754</td>\n",
       "      <td>-0.015509</td>\n",
       "      <td>0.117170</td>\n",
       "      <td>-0.216936</td>\n",
       "      <td>0.008118</td>\n",
       "      <td>-0.123790</td>\n",
       "    </tr>\n",
       "    <tr>\n",
       "      <th>UTT</th>\n",
       "      <td>0.135902</td>\n",
       "      <td>0.057751</td>\n",
       "      <td>-0.200740</td>\n",
       "      <td>-0.035059</td>\n",
       "      <td>-0.005987</td>\n",
       "      <td>-0.000219</td>\n",
       "      <td>-0.083139</td>\n",
       "      <td>0.033362</td>\n",
       "      <td>-0.119045</td>\n",
       "      <td>0.125617</td>\n",
       "      <td>...</td>\n",
       "      <td>-0.019219</td>\n",
       "      <td>-0.092823</td>\n",
       "      <td>-0.096780</td>\n",
       "      <td>0.095344</td>\n",
       "      <td>-0.114785</td>\n",
       "      <td>0.023995</td>\n",
       "      <td>0.075017</td>\n",
       "      <td>-0.151421</td>\n",
       "      <td>0.048709</td>\n",
       "      <td>-0.065192</td>\n",
       "    </tr>\n",
       "    <tr>\n",
       "      <th>MMU</th>\n",
       "      <td>0.119556</td>\n",
       "      <td>0.049138</td>\n",
       "      <td>-0.134668</td>\n",
       "      <td>0.009505</td>\n",
       "      <td>0.023105</td>\n",
       "      <td>-0.025217</td>\n",
       "      <td>-0.026836</td>\n",
       "      <td>-0.026815</td>\n",
       "      <td>-0.198236</td>\n",
       "      <td>0.021817</td>\n",
       "      <td>...</td>\n",
       "      <td>-0.075906</td>\n",
       "      <td>-0.067976</td>\n",
       "      <td>-0.035603</td>\n",
       "      <td>-0.009426</td>\n",
       "      <td>-0.084691</td>\n",
       "      <td>0.068536</td>\n",
       "      <td>-0.040373</td>\n",
       "      <td>-0.134642</td>\n",
       "      <td>0.068508</td>\n",
       "      <td>-0.132696</td>\n",
       "    </tr>\n",
       "    <tr>\n",
       "      <th>houghton</th>\n",
       "      <td>0.065995</td>\n",
       "      <td>0.083532</td>\n",
       "      <td>-0.195394</td>\n",
       "      <td>0.019086</td>\n",
       "      <td>0.061049</td>\n",
       "      <td>-0.019786</td>\n",
       "      <td>0.072973</td>\n",
       "      <td>-0.017989</td>\n",
       "      <td>-0.196128</td>\n",
       "      <td>0.026056</td>\n",
       "      <td>...</td>\n",
       "      <td>-0.004768</td>\n",
       "      <td>-0.076079</td>\n",
       "      <td>-0.103230</td>\n",
       "      <td>0.060556</td>\n",
       "      <td>-0.111134</td>\n",
       "      <td>0.028949</td>\n",
       "      <td>-0.011122</td>\n",
       "      <td>-0.188779</td>\n",
       "      <td>0.003880</td>\n",
       "      <td>-0.115659</td>\n",
       "    </tr>\n",
       "    <tr>\n",
       "      <th>universityofredlands</th>\n",
       "      <td>0.179449</td>\n",
       "      <td>0.083221</td>\n",
       "      <td>-0.167956</td>\n",
       "      <td>-0.024700</td>\n",
       "      <td>0.049997</td>\n",
       "      <td>-0.046135</td>\n",
       "      <td>0.017856</td>\n",
       "      <td>-0.078710</td>\n",
       "      <td>-0.128699</td>\n",
       "      <td>0.092061</td>\n",
       "      <td>...</td>\n",
       "      <td>-0.024964</td>\n",
       "      <td>-0.054390</td>\n",
       "      <td>-0.168895</td>\n",
       "      <td>0.087481</td>\n",
       "      <td>-0.119883</td>\n",
       "      <td>0.006224</td>\n",
       "      <td>0.023883</td>\n",
       "      <td>-0.181816</td>\n",
       "      <td>0.064438</td>\n",
       "      <td>-0.048578</td>\n",
       "    </tr>\n",
       "  </tbody>\n",
       "</table>\n",
       "<p>10541 rows × 150 columns</p>\n",
       "</div>"
      ],
      "text/plain": [
       "                           1         2         3         4         5    \\\n",
       "subreddit                                                                \n",
       "SquaredCircle         0.134779  0.043821 -0.011876 -0.066840  0.020694   \n",
       "AskReddit             0.135559  0.008985 -0.037187  0.000455  0.022365   \n",
       "politics             -0.042422  0.024062 -0.165820  0.046046 -0.080393   \n",
       "memes                 0.002449 -0.014680 -0.031889 -0.051864  0.044783   \n",
       "teenagers             0.026058  0.069684  0.024581  0.009624 -0.029134   \n",
       "...                        ...       ...       ...       ...       ...   \n",
       "NRV                   0.122154  0.130032 -0.243602 -0.032611 -0.038153   \n",
       "UTT                   0.135902  0.057751 -0.200740 -0.035059 -0.005987   \n",
       "MMU                   0.119556  0.049138 -0.134668  0.009505  0.023105   \n",
       "houghton              0.065995  0.083532 -0.195394  0.019086  0.061049   \n",
       "universityofredlands  0.179449  0.083221 -0.167956 -0.024700  0.049997   \n",
       "\n",
       "                           6         7         8         9         10   ...  \\\n",
       "subreddit                                                               ...   \n",
       "SquaredCircle        -0.055040  0.017334  0.004694 -0.082625  0.124690  ...   \n",
       "AskReddit            -0.006085 -0.017524  0.040978 -0.054059  0.069235  ...   \n",
       "politics              0.024717  0.044797  0.094564 -0.090970  0.013700  ...   \n",
       "memes                -0.055175  0.063965  0.009760 -0.135631  0.106458  ...   \n",
       "teenagers             0.076384  0.078542  0.052331 -0.106552  0.096511  ...   \n",
       "...                        ...       ...       ...       ...       ...  ...   \n",
       "NRV                  -0.014279 -0.065262 -0.001528 -0.099809 -0.018441  ...   \n",
       "UTT                  -0.000219 -0.083139  0.033362 -0.119045  0.125617  ...   \n",
       "MMU                  -0.025217 -0.026836 -0.026815 -0.198236  0.021817  ...   \n",
       "houghton             -0.019786  0.072973 -0.017989 -0.196128  0.026056  ...   \n",
       "universityofredlands -0.046135  0.017856 -0.078710 -0.128699  0.092061  ...   \n",
       "\n",
       "                           141       142       143       144       145  \\\n",
       "subreddit                                                                \n",
       "SquaredCircle        -0.061495 -0.183028 -0.099551  0.031485 -0.040188   \n",
       "AskReddit            -0.039066 -0.043172 -0.106157  0.105634 -0.045787   \n",
       "politics              0.034073 -0.087685 -0.129094  0.110916  0.047369   \n",
       "memes                 0.024190 -0.042757 -0.033878  0.041545 -0.001212   \n",
       "teenagers             0.013686 -0.014345 -0.004146  0.055941 -0.009106   \n",
       "...                        ...       ...       ...       ...       ...   \n",
       "NRV                  -0.054521 -0.062958 -0.112747  0.098669 -0.049754   \n",
       "UTT                  -0.019219 -0.092823 -0.096780  0.095344 -0.114785   \n",
       "MMU                  -0.075906 -0.067976 -0.035603 -0.009426 -0.084691   \n",
       "houghton             -0.004768 -0.076079 -0.103230  0.060556 -0.111134   \n",
       "universityofredlands -0.024964 -0.054390 -0.168895  0.087481 -0.119883   \n",
       "\n",
       "                           146       147       148       149       150  \n",
       "subreddit                                                               \n",
       "SquaredCircle         0.143292  0.040536 -0.008464  0.041863 -0.172806  \n",
       "AskReddit             0.063289  0.057239 -0.198356  0.061649 -0.023330  \n",
       "politics              0.014214  0.025798 -0.121198  0.155587 -0.057969  \n",
       "memes                 0.076116  0.036539 -0.102034  0.054330 -0.073219  \n",
       "teenagers             0.085962  0.030374 -0.028468  0.069988 -0.039540  \n",
       "...                        ...       ...       ...       ...       ...  \n",
       "NRV                  -0.015509  0.117170 -0.216936  0.008118 -0.123790  \n",
       "UTT                   0.023995  0.075017 -0.151421  0.048709 -0.065192  \n",
       "MMU                   0.068536 -0.040373 -0.134642  0.068508 -0.132696  \n",
       "houghton              0.028949 -0.011122 -0.188779  0.003880 -0.115659  \n",
       "universityofredlands  0.006224  0.023883 -0.181816  0.064438 -0.048578  \n",
       "\n",
       "[10541 rows x 150 columns]"
      ]
     },
     "execution_count": 2,
     "metadata": {},
     "output_type": "execute_result"
    }
   ],
   "source": [
    "TIME_FRAME = \"monthly\"\n",
    "embedding = load_embedding(\"/h/224/cameron/Political-Subreddit-Embedding/trained_embeddings/vecs_0.0028_15.0.txt\",split=False)\n",
    "embedding"
   ]
  },
  {
   "cell_type": "markdown",
   "metadata": {},
   "source": [
    "# Analogies"
   ]
  },
  {
   "cell_type": "code",
   "execution_count": 3,
   "metadata": {},
   "outputs": [],
   "source": [
    "def analogy(sub_a,sub_ap,sub_b,embedding,return_score=False):\n",
    "    \"\"\"\n",
    "        sub_a is to sub_ap, as sub_b is to ??\n",
    "        sub_ap + sub_b - sub_a\n",
    "        returns the subreddit that best answers the analogy\n",
    "    \"\"\"\n",
    "    assert sub_a in embedding.index.values, \"{} is not in the dataset\".format(sub_a)\n",
    "    assert sub_ap in embedding.index.values, \"{} is not in the dataset\".format(sub_ap)\n",
    "    assert sub_b in embedding.index.values, \"{} is not in the dataset\".format(sub_b)\n",
    "    vec_a = embedding.loc[sub_a].to_numpy().flatten()\n",
    "    vec_ap = embedding.loc[sub_ap].to_numpy().flatten()\n",
    "    vec_b = embedding.loc[sub_b].to_numpy().flatten()\n",
    "    vec_bp = vec_ap + (vec_b - vec_a)\n",
    "    all_other_vecs = embedding[~embedding.index.isin([sub_a,sub_ap,sub_b])]\n",
    "    similarity = np.apply_along_axis(lambda x : cos_sim(x,vec_bp), 1, all_other_vecs)\n",
    "    winner_ind = similarity.argmax()\n",
    "    if return_score:\n",
    "        return all_other_vecs.index.values[winner_ind], similarity[winner_ind]\n",
    "    return all_other_vecs.index.values[winner_ind]\n",
    "\n",
    "\n",
    "# a = \"BaemyKlobaechar\"\n",
    "# ap = \"ElizabethWarren\"\n",
    "# b = \"JoeBiden\"\n",
    "# print(\"r/{} is to r/{} as r/{} is to r/{}\".format(a,ap,b,analogy(a,ap,b,embedding)))\n",
    "# a = \"JoeBiden\"\n",
    "# ap = \"SandersForPresident\"\n",
    "# b = \"BaemyKlobaechar\"\n",
    "# print(\"r/{} is to r/{} as r/{} is to r/{}\".format(a,ap,b,analogy(a,ap,b,embedding)))\n",
    "\n",
    "# a = \"socialism\"\n",
    "# ap = \"Libertarian\"\n",
    "# b = \"EnoughCommieSpam\"\n",
    "# print(\"r/{} is to r/{} as r/{} is to r/{}\".format(a,ap,b,analogy(a,ap,b,embedding)))\n",
    "# # a = \"SandersForPresident\"\n",
    "# ap = \"ElizabethWarren\"\n",
    "# b = \"BaemyKlobaechar\"\n",
    "# print(\"r/{} is to r/{} as r/{} is to r/{}\".format(a,ap,b,analogy(a,ap,b,embedding)))"
   ]
  },
  {
   "cell_type": "code",
   "execution_count": 4,
   "metadata": {},
   "outputs": [
    {
     "name": "stderr",
     "output_type": "stream",
     "text": [
      "/h/224/cameron/miniconda3/envs/pyspark_env/lib/python3.7/site-packages/tqdm/std.py:668: FutureWarning: The Panel class is removed from pandas. Accessing it from the top-level namespace will also be removed in the next version\n",
      "  from pandas import Panel\n"
     ]
    },
    {
     "name": "stdout",
     "output_type": "stream",
     "text": [
      "                             0\n",
      "subreddit                     \n",
      "Christianity          1.000000\n",
      "TrueChristian         0.725204\n",
      "Christian             0.697255\n",
      "Reformed              0.696752\n",
      "Christians            0.694194\n",
      "DebateAChristian      0.680342\n",
      "theology              0.672094\n",
      "Bible                 0.670041\n",
      "NoFapChristians       0.662602\n",
      "AskAChristian         0.634147\n",
      "Creation              0.627549\n",
      "Christianmarriage     0.626053\n",
      "DebateReligion        0.605598\n",
      "Catholicism           0.598479\n",
      "PrayerRequests        0.595367\n",
      "Anglicanism           0.579806\n",
      "AcademicBiblical      0.575425\n",
      "OpenChristian         0.571348\n",
      "GayChristians         0.562075\n",
      "DebateAnAtheist       0.560972\n",
      "TraditionalCatholics  0.560298\n",
      "prolife               0.552354\n",
      "religion              0.545078\n",
      "CatholicMemes         0.543147\n",
      "DebateEvolution       0.535672\n",
      "OrthodoxChristianity  0.533206\n",
      "CatholicDating        0.533001\n",
      "RadicalChristianity   0.530219\n",
      "agnostic              0.518377\n",
      "Abortiondebate        0.508717\n",
      "TrueAtheism           0.495787\n",
      "Jesus                 0.490698\n",
      "AskLibertarians       0.473609\n",
      "askaconservative      0.471845\n",
      "freeworldnews         0.470961\n",
      "Judaism               0.470954\n",
      "dankchristianmemes    0.470124\n",
      "RPChristians          0.461658\n",
      "progun                0.457972\n",
      "politicsdebate        0.457181\n",
      "conservatives         0.457158\n",
      "exchristian           0.450277\n",
      "FreeSpeech            0.450206\n",
      "tucker_carlson        0.449260\n",
      "excatholic            0.448760\n",
      "prochoice             0.439772\n",
      "espn2watch            0.434907\n",
      "cults                 0.431853\n",
      "Republican            0.430714\n",
      "centrist              0.427791\n"
     ]
    },
    {
     "data": {
      "application/vnd.jupyter.widget-view+json": {
       "model_id": "5e978048f5e340b38f428d98ae4cad67",
       "version_major": 2,
       "version_minor": 0
      },
      "text/plain": [
       "HBox(children=(FloatProgress(value=0.0, max=50.0), HTML(value='')))"
      ]
     },
     "metadata": {},
     "output_type": "display_data"
    },
    {
     "name": "stdout",
     "output_type": "stream",
     "text": [
      "\n",
      "Christianity is to exchristian best analogy endings\n",
      "                sub_from                sub_to       sim\n",
      "5       DebateAChristian       DebateAnAtheist  0.712000\n",
      "12        DebateReligion       DebateAnAtheist  0.702676\n",
      "19       DebateAnAtheist           TrueAtheism  0.681900\n",
      "30           TrueAtheism       DebateAnAtheist  0.657739\n",
      "29        Abortiondebate             prochoice  0.657387\n",
      "24       DebateEvolution       DebateAnAtheist  0.656718\n",
      "46            espn2watch      Raptors76ersLive  0.654451\n",
      "45             prochoice              abortion  0.640478\n",
      "43        tucker_carlson           TheNewRight  0.636113\n",
      "9          AskAChristian       DebateAnAtheist  0.635254\n",
      "1          TrueChristian            excatholic  0.633214\n",
      "20  TraditionalCatholics            excatholic  0.633019\n",
      "15           Anglicanism            excatholic  0.632223\n",
      "40         conservatives  conservativecartoons  0.624736\n",
      "6               theology      AcademicBiblical  0.623867\n",
      "38                progun      liberalgunowners  0.620278\n",
      "2              Christian                  exjw  0.617239\n",
      "10              Creation       DebateEvolution  0.612846\n",
      "35               Judaism                Jewish  0.612072\n",
      "4             Christians            excatholic  0.609179\n"
     ]
    }
   ],
   "source": [
    "tqdm.pandas()\n",
    "\n",
    "def get_possible_fits(a,ap,embedding,k=20):\n",
    "    \"\"\"\n",
    "        Returns possible b and bp's for an analogy starting with a and ap\n",
    "        Iterate through each vector in the embedding, have that act as the b and find bp.\n",
    "        Sort through ones that match the best and return top k.\n",
    "    \"\"\"\n",
    "    # Find subreddits that are relatively close to the base \"a\" subreddit, and take closest 100\n",
    "    pos_fits = embedding.copy().apply(lambda x : cos_sim(np.array(x),embedding.loc[a]),axis=1,result_type=\"expand\").sort_values(0,ascending=False).head(50)    \n",
    "    pos_fits = pos_fits.reset_index().set_index(\"subreddit\")\n",
    "    print(pos_fits)\n",
    "    # Search for best possible fits in ENTIRE embedding for the analogy a is to ap as [subreddits closest to a] is bp\n",
    "    pos_fits[[\"sub_to\",\"sim\"]] = pos_fits.progress_apply(lambda x : analogy(a,ap,x.name,embedding,True),axis=1,result_type=\"expand\")\n",
    "    pos_fits = pos_fits.reset_index().rename({\"subreddit\":\"sub_from\"},axis=1)[[\"sub_from\",\"sub_to\",\"sim\"]]\n",
    "    # Bring everything together\n",
    "    pos_fits = pos_fits.sort_values(\"sim\",ascending=False)\n",
    "    pos_fits = pos_fits[~(pos_fits[\"sub_from\"].isin([a,ap]) | pos_fits[\"sub_to\"].isin([a,ap]))]\n",
    "    return  pos_fits.head(k)\n",
    "\n",
    "# a = \"GunsAreCool\"\n",
    "# ap = \"progun\"\n",
    "# # p1 = get_pos_fits(a,ap,embedding,k=20)\n",
    "# # print(p1)\n",
    "ap = \"exchristian\"\n",
    "a = \"Christianity\"\n",
    "# a = \"AskMen\"\n",
    "# ap = \"AskWomen\"\n",
    "# a = \"CallOfDuty\"\n",
    "# ap = \"modernwarfare\"\n",
    "p2 = get_possible_fits(a,ap,embedding)\n",
    "print(\"{} is to {} best analogy endings\".format(a,ap))\n",
    "print(p2)"
   ]
  },
  {
   "cell_type": "code",
   "execution_count": 5,
   "metadata": {
    "scrolled": true
   },
   "outputs": [
    {
     "name": "stdout",
     "output_type": "stream",
     "text": [
      "2462\n"
     ]
    },
    {
     "data": {
      "application/vnd.jupyter.widget-view+json": {
       "model_id": "c7f7028d55694dba8c7476ccee84596d",
       "version_major": 2,
       "version_minor": 0
      },
      "text/plain": [
       "HBox(children=(FloatProgress(value=0.0, max=18.0), HTML(value='')))"
      ]
     },
     "metadata": {},
     "output_type": "display_data"
    },
    {
     "name": "stdout",
     "output_type": "stream",
     "text": [
      "18\n",
      "\n",
      "Out of 18 analogies, 15 were predicted correctly (83.33333333333334%)\n",
      "nyc is to NYGiants as nashville is to Tennesseetitans (predicted as: ockytop)\n",
      "toronto is to torontoraptors as tulsa is to Thunder (predicted as: oklahoma)\n",
      "Charlotte is to NorthCarolina as chicago is to illinois (predicted as: chicagofood)\n"
     ]
    }
   ],
   "source": [
    "from itertools import combinations\n",
    "\n",
    "def predict_analogies(analogy_names,embedding,frac=0.5,show_prog=True):\n",
    "    fp = \"/h/224/cameron/Political-Subreddit-Embedding/external_datasets/validation/{}.csv\"\n",
    "    data_frames = [pd.read_csv(fp.format(name)).sample(frac=frac) for name in analogy_names]\n",
    "    pairs = []\n",
    "    for analogy_df in data_frames:\n",
    "        tuples = [tuple(x) for x in analogy_df.to_numpy()]\n",
    "        analogy_pairs = list(combinations(tuples,2))\n",
    "        pairs += analogy_pairs\n",
    "    pred = []\n",
    "    actual = []\n",
    "    tups = []\n",
    "    p = tqdm(pairs) if show_prog else pairs\n",
    "    print(len(p))\n",
    "    for (a,ap),(b,bp) in p:\n",
    "        try: \n",
    "            p = analogy(a.strip(),ap.strip(),b.strip(),embedding)\n",
    "            pred.append(p)\n",
    "            actual.append(bp)\n",
    "            tups.append(((a,ap),(b,bp)))\n",
    "        except:\n",
    "            pass\n",
    "    return np.array(pred),np.array(actual), tups\n",
    "\n",
    "predict_analogies([\"football\",\"basketball\",\"baseball\",\"hockey\",\"populous_cities\"],None,frac=1,show_prog=False)\n",
    "\n",
    "def score(pred,actual):\n",
    "    return (pred == actual).mean() * 100, (pred == actual).sum()\n",
    "\n",
    "data_sets = [\"football\",\"basketball\",\"baseball\",\"hockey\",\"populous_cities\"]\n",
    "\n",
    "\n",
    "\n",
    "pred, actual, tuples = predict_analogies(data_sets,embedding,frac=0.1)\n",
    "accuracy, num_correct = score(pred,actual)\n",
    "print(\"Out of {} analogies, {} were predicted correctly ({}%)\".format(len(pred),num_correct,accuracy))\n",
    "for p,act,((a,ap),(b,_)) in zip(pred,actual,tuples):\n",
    "    if not p==act: print(\"{} is to {} as {} is to {} (predicted as: {})\".format(a,ap,b,act,p))\n"
   ]
  },
  {
   "cell_type": "markdown",
   "metadata": {},
   "source": [
    "## Evaluate temporal embedding"
   ]
  },
  {
   "cell_type": "code",
   "execution_count": 6,
   "metadata": {},
   "outputs": [
    {
     "data": {
      "text/html": [
       "<div>\n",
       "<style scoped>\n",
       "    .dataframe tbody tr th:only-of-type {\n",
       "        vertical-align: middle;\n",
       "    }\n",
       "\n",
       "    .dataframe tbody tr th {\n",
       "        vertical-align: top;\n",
       "    }\n",
       "\n",
       "    .dataframe thead th {\n",
       "        text-align: right;\n",
       "    }\n",
       "</style>\n",
       "<table border=\"1\" class=\"dataframe\">\n",
       "  <thead>\n",
       "    <tr style=\"text-align: right;\">\n",
       "      <th></th>\n",
       "      <th></th>\n",
       "      <th>1</th>\n",
       "      <th>2</th>\n",
       "      <th>3</th>\n",
       "      <th>4</th>\n",
       "      <th>5</th>\n",
       "      <th>6</th>\n",
       "      <th>7</th>\n",
       "      <th>8</th>\n",
       "      <th>9</th>\n",
       "      <th>10</th>\n",
       "      <th>...</th>\n",
       "      <th>141</th>\n",
       "      <th>142</th>\n",
       "      <th>143</th>\n",
       "      <th>144</th>\n",
       "      <th>145</th>\n",
       "      <th>146</th>\n",
       "      <th>147</th>\n",
       "      <th>148</th>\n",
       "      <th>149</th>\n",
       "      <th>150</th>\n",
       "    </tr>\n",
       "    <tr>\n",
       "      <th>date</th>\n",
       "      <th>subreddit</th>\n",
       "      <th></th>\n",
       "      <th></th>\n",
       "      <th></th>\n",
       "      <th></th>\n",
       "      <th></th>\n",
       "      <th></th>\n",
       "      <th></th>\n",
       "      <th></th>\n",
       "      <th></th>\n",
       "      <th></th>\n",
       "      <th></th>\n",
       "      <th></th>\n",
       "      <th></th>\n",
       "      <th></th>\n",
       "      <th></th>\n",
       "      <th></th>\n",
       "      <th></th>\n",
       "      <th></th>\n",
       "      <th></th>\n",
       "      <th></th>\n",
       "      <th></th>\n",
       "    </tr>\n",
       "  </thead>\n",
       "  <tbody>\n",
       "    <tr>\n",
       "      <th rowspan=\"5\" valign=\"top\">2019-01-01</th>\n",
       "      <th>1000ccplus</th>\n",
       "      <td>0.027411</td>\n",
       "      <td>0.007928</td>\n",
       "      <td>-0.109678</td>\n",
       "      <td>0.070665</td>\n",
       "      <td>-0.069335</td>\n",
       "      <td>0.036830</td>\n",
       "      <td>0.001487</td>\n",
       "      <td>0.000331</td>\n",
       "      <td>-0.048816</td>\n",
       "      <td>-0.112004</td>\n",
       "      <td>...</td>\n",
       "      <td>0.026002</td>\n",
       "      <td>-0.014206</td>\n",
       "      <td>-0.148223</td>\n",
       "      <td>0.058003</td>\n",
       "      <td>-0.006749</td>\n",
       "      <td>-0.219159</td>\n",
       "      <td>-0.141725</td>\n",
       "      <td>0.104762</td>\n",
       "      <td>0.065497</td>\n",
       "      <td>0.051957</td>\n",
       "    </tr>\n",
       "    <tr>\n",
       "      <th>100thieves</th>\n",
       "      <td>0.047010</td>\n",
       "      <td>0.089473</td>\n",
       "      <td>0.001833</td>\n",
       "      <td>-0.059464</td>\n",
       "      <td>0.099490</td>\n",
       "      <td>0.032410</td>\n",
       "      <td>-0.004810</td>\n",
       "      <td>-0.101613</td>\n",
       "      <td>0.066657</td>\n",
       "      <td>0.035370</td>\n",
       "      <td>...</td>\n",
       "      <td>0.001671</td>\n",
       "      <td>-0.028480</td>\n",
       "      <td>0.000751</td>\n",
       "      <td>0.120835</td>\n",
       "      <td>0.051996</td>\n",
       "      <td>-0.121277</td>\n",
       "      <td>-0.044962</td>\n",
       "      <td>0.003476</td>\n",
       "      <td>0.133735</td>\n",
       "      <td>0.006160</td>\n",
       "    </tr>\n",
       "    <tr>\n",
       "      <th>1022</th>\n",
       "      <td>0.030958</td>\n",
       "      <td>0.029023</td>\n",
       "      <td>0.031724</td>\n",
       "      <td>-0.102030</td>\n",
       "      <td>0.064858</td>\n",
       "      <td>-0.189088</td>\n",
       "      <td>0.021475</td>\n",
       "      <td>-0.152345</td>\n",
       "      <td>0.027263</td>\n",
       "      <td>-0.012738</td>\n",
       "      <td>...</td>\n",
       "      <td>-0.068612</td>\n",
       "      <td>0.034416</td>\n",
       "      <td>-0.161073</td>\n",
       "      <td>0.011924</td>\n",
       "      <td>0.000407</td>\n",
       "      <td>-0.135506</td>\n",
       "      <td>-0.117616</td>\n",
       "      <td>-0.023013</td>\n",
       "      <td>0.139499</td>\n",
       "      <td>-0.052780</td>\n",
       "    </tr>\n",
       "    <tr>\n",
       "      <th>1200isfineIGUESSugh</th>\n",
       "      <td>0.093791</td>\n",
       "      <td>-0.000252</td>\n",
       "      <td>0.002537</td>\n",
       "      <td>0.099571</td>\n",
       "      <td>0.105243</td>\n",
       "      <td>0.032816</td>\n",
       "      <td>0.049385</td>\n",
       "      <td>-0.133215</td>\n",
       "      <td>0.117549</td>\n",
       "      <td>-0.070538</td>\n",
       "      <td>...</td>\n",
       "      <td>0.016156</td>\n",
       "      <td>-0.073431</td>\n",
       "      <td>-0.073697</td>\n",
       "      <td>0.045124</td>\n",
       "      <td>-0.045725</td>\n",
       "      <td>-0.030220</td>\n",
       "      <td>0.114463</td>\n",
       "      <td>-0.010067</td>\n",
       "      <td>0.100510</td>\n",
       "      <td>0.064892</td>\n",
       "    </tr>\n",
       "    <tr>\n",
       "      <th>1200isjerky</th>\n",
       "      <td>0.154488</td>\n",
       "      <td>0.057273</td>\n",
       "      <td>-0.018089</td>\n",
       "      <td>0.143122</td>\n",
       "      <td>0.095987</td>\n",
       "      <td>0.111545</td>\n",
       "      <td>0.023787</td>\n",
       "      <td>-0.171960</td>\n",
       "      <td>0.020003</td>\n",
       "      <td>-0.040333</td>\n",
       "      <td>...</td>\n",
       "      <td>0.080083</td>\n",
       "      <td>-0.089391</td>\n",
       "      <td>-0.109960</td>\n",
       "      <td>0.059116</td>\n",
       "      <td>-0.077729</td>\n",
       "      <td>-0.000051</td>\n",
       "      <td>0.170306</td>\n",
       "      <td>-0.042596</td>\n",
       "      <td>-0.043461</td>\n",
       "      <td>0.066343</td>\n",
       "    </tr>\n",
       "    <tr>\n",
       "      <th>...</th>\n",
       "      <th>...</th>\n",
       "      <td>...</td>\n",
       "      <td>...</td>\n",
       "      <td>...</td>\n",
       "      <td>...</td>\n",
       "      <td>...</td>\n",
       "      <td>...</td>\n",
       "      <td>...</td>\n",
       "      <td>...</td>\n",
       "      <td>...</td>\n",
       "      <td>...</td>\n",
       "      <td>...</td>\n",
       "      <td>...</td>\n",
       "      <td>...</td>\n",
       "      <td>...</td>\n",
       "      <td>...</td>\n",
       "      <td>...</td>\n",
       "      <td>...</td>\n",
       "      <td>...</td>\n",
       "      <td>...</td>\n",
       "      <td>...</td>\n",
       "      <td>...</td>\n",
       "    </tr>\n",
       "    <tr>\n",
       "      <th rowspan=\"5\" valign=\"top\">2019-12-01</th>\n",
       "      <th>zoemains</th>\n",
       "      <td>0.031772</td>\n",
       "      <td>0.026607</td>\n",
       "      <td>0.012095</td>\n",
       "      <td>0.093933</td>\n",
       "      <td>0.100424</td>\n",
       "      <td>-0.005248</td>\n",
       "      <td>-0.067083</td>\n",
       "      <td>-0.065163</td>\n",
       "      <td>0.068851</td>\n",
       "      <td>0.039087</td>\n",
       "      <td>...</td>\n",
       "      <td>0.113103</td>\n",
       "      <td>0.030495</td>\n",
       "      <td>0.039067</td>\n",
       "      <td>0.074273</td>\n",
       "      <td>-0.039663</td>\n",
       "      <td>-0.104319</td>\n",
       "      <td>-0.043474</td>\n",
       "      <td>0.028903</td>\n",
       "      <td>0.022581</td>\n",
       "      <td>0.012715</td>\n",
       "    </tr>\n",
       "    <tr>\n",
       "      <th>zoloft</th>\n",
       "      <td>-0.015821</td>\n",
       "      <td>0.053895</td>\n",
       "      <td>-0.015671</td>\n",
       "      <td>0.113680</td>\n",
       "      <td>0.057699</td>\n",
       "      <td>0.082132</td>\n",
       "      <td>0.021603</td>\n",
       "      <td>0.030836</td>\n",
       "      <td>0.009351</td>\n",
       "      <td>-0.128631</td>\n",
       "      <td>...</td>\n",
       "      <td>-0.082551</td>\n",
       "      <td>-0.100545</td>\n",
       "      <td>-0.115522</td>\n",
       "      <td>0.002291</td>\n",
       "      <td>0.068781</td>\n",
       "      <td>-0.151290</td>\n",
       "      <td>0.019573</td>\n",
       "      <td>-0.045880</td>\n",
       "      <td>0.128124</td>\n",
       "      <td>-0.044593</td>\n",
       "    </tr>\n",
       "    <tr>\n",
       "      <th>zombies</th>\n",
       "      <td>0.013930</td>\n",
       "      <td>-0.102829</td>\n",
       "      <td>-0.008978</td>\n",
       "      <td>0.036583</td>\n",
       "      <td>-0.085338</td>\n",
       "      <td>-0.022046</td>\n",
       "      <td>-0.069338</td>\n",
       "      <td>0.005291</td>\n",
       "      <td>-0.076649</td>\n",
       "      <td>0.006726</td>\n",
       "      <td>...</td>\n",
       "      <td>0.009584</td>\n",
       "      <td>0.051413</td>\n",
       "      <td>0.003283</td>\n",
       "      <td>0.016159</td>\n",
       "      <td>-0.068776</td>\n",
       "      <td>-0.000747</td>\n",
       "      <td>-0.069661</td>\n",
       "      <td>0.161934</td>\n",
       "      <td>-0.062454</td>\n",
       "      <td>0.044292</td>\n",
       "    </tr>\n",
       "    <tr>\n",
       "      <th>zootopia</th>\n",
       "      <td>-0.071352</td>\n",
       "      <td>0.014392</td>\n",
       "      <td>0.082478</td>\n",
       "      <td>0.164587</td>\n",
       "      <td>0.077086</td>\n",
       "      <td>-0.052253</td>\n",
       "      <td>-0.072058</td>\n",
       "      <td>-0.082849</td>\n",
       "      <td>0.004199</td>\n",
       "      <td>-0.033957</td>\n",
       "      <td>...</td>\n",
       "      <td>0.102761</td>\n",
       "      <td>-0.031334</td>\n",
       "      <td>-0.038930</td>\n",
       "      <td>0.126400</td>\n",
       "      <td>-0.038243</td>\n",
       "      <td>0.063623</td>\n",
       "      <td>-0.099276</td>\n",
       "      <td>-0.018593</td>\n",
       "      <td>0.043465</td>\n",
       "      <td>-0.016386</td>\n",
       "    </tr>\n",
       "    <tr>\n",
       "      <th>zurich</th>\n",
       "      <td>0.085357</td>\n",
       "      <td>-0.071645</td>\n",
       "      <td>-0.176382</td>\n",
       "      <td>-0.059816</td>\n",
       "      <td>0.092763</td>\n",
       "      <td>0.107670</td>\n",
       "      <td>-0.131393</td>\n",
       "      <td>-0.077398</td>\n",
       "      <td>0.005380</td>\n",
       "      <td>0.068437</td>\n",
       "      <td>...</td>\n",
       "      <td>0.140103</td>\n",
       "      <td>0.114566</td>\n",
       "      <td>-0.123826</td>\n",
       "      <td>0.036651</td>\n",
       "      <td>-0.008637</td>\n",
       "      <td>-0.080500</td>\n",
       "      <td>-0.019299</td>\n",
       "      <td>0.087896</td>\n",
       "      <td>0.109984</td>\n",
       "      <td>-0.076567</td>\n",
       "    </tr>\n",
       "  </tbody>\n",
       "</table>\n",
       "<p>120825 rows × 150 columns</p>\n",
       "</div>"
      ],
      "text/plain": [
       "                                     1         2         3         4    \\\n",
       "date       subreddit                                                     \n",
       "2019-01-01 1000ccplus           0.027411  0.007928 -0.109678  0.070665   \n",
       "           100thieves           0.047010  0.089473  0.001833 -0.059464   \n",
       "           1022                 0.030958  0.029023  0.031724 -0.102030   \n",
       "           1200isfineIGUESSugh  0.093791 -0.000252  0.002537  0.099571   \n",
       "           1200isjerky          0.154488  0.057273 -0.018089  0.143122   \n",
       "...                                  ...       ...       ...       ...   \n",
       "2019-12-01 zoemains             0.031772  0.026607  0.012095  0.093933   \n",
       "           zoloft              -0.015821  0.053895 -0.015671  0.113680   \n",
       "           zombies              0.013930 -0.102829 -0.008978  0.036583   \n",
       "           zootopia            -0.071352  0.014392  0.082478  0.164587   \n",
       "           zurich               0.085357 -0.071645 -0.176382 -0.059816   \n",
       "\n",
       "                                     5         6         7         8    \\\n",
       "date       subreddit                                                     \n",
       "2019-01-01 1000ccplus          -0.069335  0.036830  0.001487  0.000331   \n",
       "           100thieves           0.099490  0.032410 -0.004810 -0.101613   \n",
       "           1022                 0.064858 -0.189088  0.021475 -0.152345   \n",
       "           1200isfineIGUESSugh  0.105243  0.032816  0.049385 -0.133215   \n",
       "           1200isjerky          0.095987  0.111545  0.023787 -0.171960   \n",
       "...                                  ...       ...       ...       ...   \n",
       "2019-12-01 zoemains             0.100424 -0.005248 -0.067083 -0.065163   \n",
       "           zoloft               0.057699  0.082132  0.021603  0.030836   \n",
       "           zombies             -0.085338 -0.022046 -0.069338  0.005291   \n",
       "           zootopia             0.077086 -0.052253 -0.072058 -0.082849   \n",
       "           zurich               0.092763  0.107670 -0.131393 -0.077398   \n",
       "\n",
       "                                     9         10   ...       141       142  \\\n",
       "date       subreddit                                ...                       \n",
       "2019-01-01 1000ccplus          -0.048816 -0.112004  ...  0.026002 -0.014206   \n",
       "           100thieves           0.066657  0.035370  ...  0.001671 -0.028480   \n",
       "           1022                 0.027263 -0.012738  ... -0.068612  0.034416   \n",
       "           1200isfineIGUESSugh  0.117549 -0.070538  ...  0.016156 -0.073431   \n",
       "           1200isjerky          0.020003 -0.040333  ...  0.080083 -0.089391   \n",
       "...                                  ...       ...  ...       ...       ...   \n",
       "2019-12-01 zoemains             0.068851  0.039087  ...  0.113103  0.030495   \n",
       "           zoloft               0.009351 -0.128631  ... -0.082551 -0.100545   \n",
       "           zombies             -0.076649  0.006726  ...  0.009584  0.051413   \n",
       "           zootopia             0.004199 -0.033957  ...  0.102761 -0.031334   \n",
       "           zurich               0.005380  0.068437  ...  0.140103  0.114566   \n",
       "\n",
       "                                     143       144       145       146  \\\n",
       "date       subreddit                                                     \n",
       "2019-01-01 1000ccplus          -0.148223  0.058003 -0.006749 -0.219159   \n",
       "           100thieves           0.000751  0.120835  0.051996 -0.121277   \n",
       "           1022                -0.161073  0.011924  0.000407 -0.135506   \n",
       "           1200isfineIGUESSugh -0.073697  0.045124 -0.045725 -0.030220   \n",
       "           1200isjerky         -0.109960  0.059116 -0.077729 -0.000051   \n",
       "...                                  ...       ...       ...       ...   \n",
       "2019-12-01 zoemains             0.039067  0.074273 -0.039663 -0.104319   \n",
       "           zoloft              -0.115522  0.002291  0.068781 -0.151290   \n",
       "           zombies              0.003283  0.016159 -0.068776 -0.000747   \n",
       "           zootopia            -0.038930  0.126400 -0.038243  0.063623   \n",
       "           zurich              -0.123826  0.036651 -0.008637 -0.080500   \n",
       "\n",
       "                                     147       148       149       150  \n",
       "date       subreddit                                                    \n",
       "2019-01-01 1000ccplus          -0.141725  0.104762  0.065497  0.051957  \n",
       "           100thieves          -0.044962  0.003476  0.133735  0.006160  \n",
       "           1022                -0.117616 -0.023013  0.139499 -0.052780  \n",
       "           1200isfineIGUESSugh  0.114463 -0.010067  0.100510  0.064892  \n",
       "           1200isjerky          0.170306 -0.042596 -0.043461  0.066343  \n",
       "...                                  ...       ...       ...       ...  \n",
       "2019-12-01 zoemains            -0.043474  0.028903  0.022581  0.012715  \n",
       "           zoloft               0.019573 -0.045880  0.128124 -0.044593  \n",
       "           zombies             -0.069661  0.161934 -0.062454  0.044292  \n",
       "           zootopia            -0.099276 -0.018593  0.043465 -0.016386  \n",
       "           zurich              -0.019299  0.087896  0.109984 -0.076567  \n",
       "\n",
       "[120825 rows x 150 columns]"
      ]
     },
     "execution_count": 6,
     "metadata": {},
     "output_type": "execute_result"
    }
   ],
   "source": [
    "\n",
    "embedding  = load_embedding(\"/h/224/cameron/Political-Subreddit-Embedding/trained_embeddings/temporal/{}/{}_vecs_0.0028_15.txt\".format(TIME_FRAME,TIME_FRAME),split=False)\n",
    "\n",
    "#Parse out date and subreddit from single index\n",
    "t = embedding.index.map(lambda x: parse_tup(x,date_str=\"%d/%m/%Y\"))\n",
    "t = list(map(tuple,t))\n",
    "embedding.index = pd.MultiIndex.from_tuples(t)\n",
    "embedding = embedding.rename_axis((\"subreddit\", \"date\")).reorder_levels(['date','subreddit']).sort_values([\"date\",\"subreddit\"])\n",
    "embedding"
   ]
  },
  {
   "cell_type": "code",
   "execution_count": 13,
   "metadata": {},
   "outputs": [
    {
     "data": {
      "application/vnd.jupyter.widget-view+json": {
       "model_id": "d456e89ea7db4d5489689f7683192524",
       "version_major": 2,
       "version_minor": 0
      },
      "text/plain": [
       "HBox(children=(FloatProgress(value=0.0, max=12.0), HTML(value='')))"
      ]
     },
     "metadata": {},
     "output_type": "display_data"
    },
    {
     "name": "stdout",
     "output_type": "stream",
     "text": [
      "\n",
      "[Timestamp('2019-01-01 00:00:00'), Timestamp('2019-02-01 00:00:00'), Timestamp('2019-03-01 00:00:00'), Timestamp('2019-04-01 00:00:00'), Timestamp('2019-05-01 00:00:00'), Timestamp('2019-06-01 00:00:00'), Timestamp('2019-07-01 00:00:00'), Timestamp('2019-08-01 00:00:00'), Timestamp('2019-09-01 00:00:00'), Timestamp('2019-10-01 00:00:00'), Timestamp('2019-11-01 00:00:00'), Timestamp('2019-12-01 00:00:00')] \n",
      "///\n",
      " [0.68556701 0.57044674 0.66151203 0.68556701 0.67182131 0.66151203\n",
      " 0.72164948 0.66151203 0.66315789 0.63448276 0.75945017 0.68900344]\n"
     ]
    }
   ],
   "source": [
    "data_sets = [\"football\",\"basketball\",\"baseball\",\"hockey\",\"populous_cities\"]\n",
    "dates = []\n",
    "scores = []\n",
    "for date, sub_embedding in tqdm(embedding.groupby(level=0)):\n",
    "    # Drop date from multiindex -> single index\n",
    "    sub_embedding = sub_embedding.droplevel(level=0)\n",
    "    pred, actual, _ = predict_analogies(data_sets,sub_embedding,frac=0.5,show_prog=False)\n",
    "    acc, _ = score(pred,actual)\n",
    "    scores.append(acc)\n",
    "    dates.append(date) \n",
    "scores = np.array(scores)/100\n",
    "print(dates,\"\\n///\\n\",scores)   "
   ]
  },
  {
   "cell_type": "code",
   "execution_count": 14,
   "metadata": {},
   "outputs": [
    {
     "data": {
      "application/vnd.plotly.v1+json": {
       "config": {
        "plotlyServerURL": "https://plot.ly"
       },
       "data": [
        {
         "hovertemplate": "Date=%{x}<br>Analogy Accuracy=%{y}<extra></extra>",
         "legendgroup": "",
         "line": {
          "color": "#1F77B4",
          "dash": "solid",
          "shape": "spline"
         },
         "mode": "lines",
         "name": "",
         "orientation": "v",
         "showlegend": false,
         "type": "scatter",
         "x": [
          "2019-01-01T00:00:00",
          "2019-02-01T00:00:00",
          "2019-03-01T00:00:00",
          "2019-04-01T00:00:00",
          "2019-05-01T00:00:00",
          "2019-06-01T00:00:00",
          "2019-07-01T00:00:00",
          "2019-08-01T00:00:00",
          "2019-09-01T00:00:00",
          "2019-10-01T00:00:00",
          "2019-11-01T00:00:00",
          "2019-12-01T00:00:00"
         ],
         "xaxis": "x",
         "y": [
          0.6855670103092784,
          0.570446735395189,
          0.6615120274914089,
          0.6855670103092784,
          0.6718213058419243,
          0.6615120274914089,
          0.7216494845360825,
          0.6615120274914089,
          0.6631578947368421,
          0.6344827586206897,
          0.7594501718213058,
          0.6890034364261168
         ],
         "yaxis": "y"
        }
       ],
       "layout": {
        "annotations": [
         {
          "text": "u=67.21%, σ=0.04",
          "x": "2019-06-24",
          "y": 0.6721401575392445
         }
        ],
        "font": {
         "size": 25
        },
        "legend": {
         "tracegroupgap": 0
        },
        "shapes": [
         {
          "line": {
           "color": "rgb(50, 171, 96)",
           "width": 2
          },
          "type": "line",
          "x0": "2019-01-01T00:00:00",
          "x1": "2019-12-01T00:00:00",
          "y0": 0.6721401575392445,
          "y1": 0.6721401575392445
         }
        ],
        "template": {
         "data": {
          "bar": [
           {
            "error_x": {
             "color": "rgb(36,36,36)"
            },
            "error_y": {
             "color": "rgb(36,36,36)"
            },
            "marker": {
             "line": {
              "color": "white",
              "width": 0.5
             }
            },
            "type": "bar"
           }
          ],
          "barpolar": [
           {
            "marker": {
             "line": {
              "color": "white",
              "width": 0.5
             }
            },
            "type": "barpolar"
           }
          ],
          "carpet": [
           {
            "aaxis": {
             "endlinecolor": "rgb(36,36,36)",
             "gridcolor": "white",
             "linecolor": "white",
             "minorgridcolor": "white",
             "startlinecolor": "rgb(36,36,36)"
            },
            "baxis": {
             "endlinecolor": "rgb(36,36,36)",
             "gridcolor": "white",
             "linecolor": "white",
             "minorgridcolor": "white",
             "startlinecolor": "rgb(36,36,36)"
            },
            "type": "carpet"
           }
          ],
          "choropleth": [
           {
            "colorbar": {
             "outlinewidth": 1,
             "tickcolor": "rgb(36,36,36)",
             "ticks": "outside"
            },
            "type": "choropleth"
           }
          ],
          "contour": [
           {
            "colorbar": {
             "outlinewidth": 1,
             "tickcolor": "rgb(36,36,36)",
             "ticks": "outside"
            },
            "colorscale": [
             [
              0,
              "#440154"
             ],
             [
              0.1111111111111111,
              "#482878"
             ],
             [
              0.2222222222222222,
              "#3e4989"
             ],
             [
              0.3333333333333333,
              "#31688e"
             ],
             [
              0.4444444444444444,
              "#26828e"
             ],
             [
              0.5555555555555556,
              "#1f9e89"
             ],
             [
              0.6666666666666666,
              "#35b779"
             ],
             [
              0.7777777777777778,
              "#6ece58"
             ],
             [
              0.8888888888888888,
              "#b5de2b"
             ],
             [
              1,
              "#fde725"
             ]
            ],
            "type": "contour"
           }
          ],
          "contourcarpet": [
           {
            "colorbar": {
             "outlinewidth": 1,
             "tickcolor": "rgb(36,36,36)",
             "ticks": "outside"
            },
            "type": "contourcarpet"
           }
          ],
          "heatmap": [
           {
            "colorbar": {
             "outlinewidth": 1,
             "tickcolor": "rgb(36,36,36)",
             "ticks": "outside"
            },
            "colorscale": [
             [
              0,
              "#440154"
             ],
             [
              0.1111111111111111,
              "#482878"
             ],
             [
              0.2222222222222222,
              "#3e4989"
             ],
             [
              0.3333333333333333,
              "#31688e"
             ],
             [
              0.4444444444444444,
              "#26828e"
             ],
             [
              0.5555555555555556,
              "#1f9e89"
             ],
             [
              0.6666666666666666,
              "#35b779"
             ],
             [
              0.7777777777777778,
              "#6ece58"
             ],
             [
              0.8888888888888888,
              "#b5de2b"
             ],
             [
              1,
              "#fde725"
             ]
            ],
            "type": "heatmap"
           }
          ],
          "heatmapgl": [
           {
            "colorbar": {
             "outlinewidth": 1,
             "tickcolor": "rgb(36,36,36)",
             "ticks": "outside"
            },
            "colorscale": [
             [
              0,
              "#440154"
             ],
             [
              0.1111111111111111,
              "#482878"
             ],
             [
              0.2222222222222222,
              "#3e4989"
             ],
             [
              0.3333333333333333,
              "#31688e"
             ],
             [
              0.4444444444444444,
              "#26828e"
             ],
             [
              0.5555555555555556,
              "#1f9e89"
             ],
             [
              0.6666666666666666,
              "#35b779"
             ],
             [
              0.7777777777777778,
              "#6ece58"
             ],
             [
              0.8888888888888888,
              "#b5de2b"
             ],
             [
              1,
              "#fde725"
             ]
            ],
            "type": "heatmapgl"
           }
          ],
          "histogram": [
           {
            "marker": {
             "line": {
              "color": "white",
              "width": 0.6
             }
            },
            "type": "histogram"
           }
          ],
          "histogram2d": [
           {
            "colorbar": {
             "outlinewidth": 1,
             "tickcolor": "rgb(36,36,36)",
             "ticks": "outside"
            },
            "colorscale": [
             [
              0,
              "#440154"
             ],
             [
              0.1111111111111111,
              "#482878"
             ],
             [
              0.2222222222222222,
              "#3e4989"
             ],
             [
              0.3333333333333333,
              "#31688e"
             ],
             [
              0.4444444444444444,
              "#26828e"
             ],
             [
              0.5555555555555556,
              "#1f9e89"
             ],
             [
              0.6666666666666666,
              "#35b779"
             ],
             [
              0.7777777777777778,
              "#6ece58"
             ],
             [
              0.8888888888888888,
              "#b5de2b"
             ],
             [
              1,
              "#fde725"
             ]
            ],
            "type": "histogram2d"
           }
          ],
          "histogram2dcontour": [
           {
            "colorbar": {
             "outlinewidth": 1,
             "tickcolor": "rgb(36,36,36)",
             "ticks": "outside"
            },
            "colorscale": [
             [
              0,
              "#440154"
             ],
             [
              0.1111111111111111,
              "#482878"
             ],
             [
              0.2222222222222222,
              "#3e4989"
             ],
             [
              0.3333333333333333,
              "#31688e"
             ],
             [
              0.4444444444444444,
              "#26828e"
             ],
             [
              0.5555555555555556,
              "#1f9e89"
             ],
             [
              0.6666666666666666,
              "#35b779"
             ],
             [
              0.7777777777777778,
              "#6ece58"
             ],
             [
              0.8888888888888888,
              "#b5de2b"
             ],
             [
              1,
              "#fde725"
             ]
            ],
            "type": "histogram2dcontour"
           }
          ],
          "mesh3d": [
           {
            "colorbar": {
             "outlinewidth": 1,
             "tickcolor": "rgb(36,36,36)",
             "ticks": "outside"
            },
            "type": "mesh3d"
           }
          ],
          "parcoords": [
           {
            "line": {
             "colorbar": {
              "outlinewidth": 1,
              "tickcolor": "rgb(36,36,36)",
              "ticks": "outside"
             }
            },
            "type": "parcoords"
           }
          ],
          "pie": [
           {
            "automargin": true,
            "type": "pie"
           }
          ],
          "scatter": [
           {
            "marker": {
             "colorbar": {
              "outlinewidth": 1,
              "tickcolor": "rgb(36,36,36)",
              "ticks": "outside"
             }
            },
            "type": "scatter"
           }
          ],
          "scatter3d": [
           {
            "line": {
             "colorbar": {
              "outlinewidth": 1,
              "tickcolor": "rgb(36,36,36)",
              "ticks": "outside"
             }
            },
            "marker": {
             "colorbar": {
              "outlinewidth": 1,
              "tickcolor": "rgb(36,36,36)",
              "ticks": "outside"
             }
            },
            "type": "scatter3d"
           }
          ],
          "scattercarpet": [
           {
            "marker": {
             "colorbar": {
              "outlinewidth": 1,
              "tickcolor": "rgb(36,36,36)",
              "ticks": "outside"
             }
            },
            "type": "scattercarpet"
           }
          ],
          "scattergeo": [
           {
            "marker": {
             "colorbar": {
              "outlinewidth": 1,
              "tickcolor": "rgb(36,36,36)",
              "ticks": "outside"
             }
            },
            "type": "scattergeo"
           }
          ],
          "scattergl": [
           {
            "marker": {
             "colorbar": {
              "outlinewidth": 1,
              "tickcolor": "rgb(36,36,36)",
              "ticks": "outside"
             }
            },
            "type": "scattergl"
           }
          ],
          "scattermapbox": [
           {
            "marker": {
             "colorbar": {
              "outlinewidth": 1,
              "tickcolor": "rgb(36,36,36)",
              "ticks": "outside"
             }
            },
            "type": "scattermapbox"
           }
          ],
          "scatterpolar": [
           {
            "marker": {
             "colorbar": {
              "outlinewidth": 1,
              "tickcolor": "rgb(36,36,36)",
              "ticks": "outside"
             }
            },
            "type": "scatterpolar"
           }
          ],
          "scatterpolargl": [
           {
            "marker": {
             "colorbar": {
              "outlinewidth": 1,
              "tickcolor": "rgb(36,36,36)",
              "ticks": "outside"
             }
            },
            "type": "scatterpolargl"
           }
          ],
          "scatterternary": [
           {
            "marker": {
             "colorbar": {
              "outlinewidth": 1,
              "tickcolor": "rgb(36,36,36)",
              "ticks": "outside"
             }
            },
            "type": "scatterternary"
           }
          ],
          "surface": [
           {
            "colorbar": {
             "outlinewidth": 1,
             "tickcolor": "rgb(36,36,36)",
             "ticks": "outside"
            },
            "colorscale": [
             [
              0,
              "#440154"
             ],
             [
              0.1111111111111111,
              "#482878"
             ],
             [
              0.2222222222222222,
              "#3e4989"
             ],
             [
              0.3333333333333333,
              "#31688e"
             ],
             [
              0.4444444444444444,
              "#26828e"
             ],
             [
              0.5555555555555556,
              "#1f9e89"
             ],
             [
              0.6666666666666666,
              "#35b779"
             ],
             [
              0.7777777777777778,
              "#6ece58"
             ],
             [
              0.8888888888888888,
              "#b5de2b"
             ],
             [
              1,
              "#fde725"
             ]
            ],
            "type": "surface"
           }
          ],
          "table": [
           {
            "cells": {
             "fill": {
              "color": "rgb(237,237,237)"
             },
             "line": {
              "color": "white"
             }
            },
            "header": {
             "fill": {
              "color": "rgb(217,217,217)"
             },
             "line": {
              "color": "white"
             }
            },
            "type": "table"
           }
          ]
         },
         "layout": {
          "annotationdefaults": {
           "arrowhead": 0,
           "arrowwidth": 1
          },
          "coloraxis": {
           "colorbar": {
            "outlinewidth": 1,
            "tickcolor": "rgb(36,36,36)",
            "ticks": "outside"
           }
          },
          "colorscale": {
           "diverging": [
            [
             0,
             "rgb(103,0,31)"
            ],
            [
             0.1,
             "rgb(178,24,43)"
            ],
            [
             0.2,
             "rgb(214,96,77)"
            ],
            [
             0.3,
             "rgb(244,165,130)"
            ],
            [
             0.4,
             "rgb(253,219,199)"
            ],
            [
             0.5,
             "rgb(247,247,247)"
            ],
            [
             0.6,
             "rgb(209,229,240)"
            ],
            [
             0.7,
             "rgb(146,197,222)"
            ],
            [
             0.8,
             "rgb(67,147,195)"
            ],
            [
             0.9,
             "rgb(33,102,172)"
            ],
            [
             1,
             "rgb(5,48,97)"
            ]
           ],
           "sequential": [
            [
             0,
             "#440154"
            ],
            [
             0.1111111111111111,
             "#482878"
            ],
            [
             0.2222222222222222,
             "#3e4989"
            ],
            [
             0.3333333333333333,
             "#31688e"
            ],
            [
             0.4444444444444444,
             "#26828e"
            ],
            [
             0.5555555555555556,
             "#1f9e89"
            ],
            [
             0.6666666666666666,
             "#35b779"
            ],
            [
             0.7777777777777778,
             "#6ece58"
            ],
            [
             0.8888888888888888,
             "#b5de2b"
            ],
            [
             1,
             "#fde725"
            ]
           ],
           "sequentialminus": [
            [
             0,
             "#440154"
            ],
            [
             0.1111111111111111,
             "#482878"
            ],
            [
             0.2222222222222222,
             "#3e4989"
            ],
            [
             0.3333333333333333,
             "#31688e"
            ],
            [
             0.4444444444444444,
             "#26828e"
            ],
            [
             0.5555555555555556,
             "#1f9e89"
            ],
            [
             0.6666666666666666,
             "#35b779"
            ],
            [
             0.7777777777777778,
             "#6ece58"
            ],
            [
             0.8888888888888888,
             "#b5de2b"
            ],
            [
             1,
             "#fde725"
            ]
           ]
          },
          "colorway": [
           "#1F77B4",
           "#FF7F0E",
           "#2CA02C",
           "#D62728",
           "#9467BD",
           "#8C564B",
           "#E377C2",
           "#7F7F7F",
           "#BCBD22",
           "#17BECF"
          ],
          "font": {
           "color": "rgb(36,36,36)"
          },
          "geo": {
           "bgcolor": "white",
           "lakecolor": "white",
           "landcolor": "white",
           "showlakes": true,
           "showland": true,
           "subunitcolor": "white"
          },
          "hoverlabel": {
           "align": "left"
          },
          "hovermode": "closest",
          "mapbox": {
           "style": "light"
          },
          "paper_bgcolor": "white",
          "plot_bgcolor": "white",
          "polar": {
           "angularaxis": {
            "gridcolor": "rgb(232,232,232)",
            "linecolor": "rgb(36,36,36)",
            "showgrid": false,
            "showline": true,
            "ticks": "outside"
           },
           "bgcolor": "white",
           "radialaxis": {
            "gridcolor": "rgb(232,232,232)",
            "linecolor": "rgb(36,36,36)",
            "showgrid": false,
            "showline": true,
            "ticks": "outside"
           }
          },
          "scene": {
           "xaxis": {
            "backgroundcolor": "white",
            "gridcolor": "rgb(232,232,232)",
            "gridwidth": 2,
            "linecolor": "rgb(36,36,36)",
            "showbackground": true,
            "showgrid": false,
            "showline": true,
            "ticks": "outside",
            "zeroline": false,
            "zerolinecolor": "rgb(36,36,36)"
           },
           "yaxis": {
            "backgroundcolor": "white",
            "gridcolor": "rgb(232,232,232)",
            "gridwidth": 2,
            "linecolor": "rgb(36,36,36)",
            "showbackground": true,
            "showgrid": false,
            "showline": true,
            "ticks": "outside",
            "zeroline": false,
            "zerolinecolor": "rgb(36,36,36)"
           },
           "zaxis": {
            "backgroundcolor": "white",
            "gridcolor": "rgb(232,232,232)",
            "gridwidth": 2,
            "linecolor": "rgb(36,36,36)",
            "showbackground": true,
            "showgrid": false,
            "showline": true,
            "ticks": "outside",
            "zeroline": false,
            "zerolinecolor": "rgb(36,36,36)"
           }
          },
          "shapedefaults": {
           "fillcolor": "black",
           "line": {
            "width": 0
           },
           "opacity": 0.3
          },
          "ternary": {
           "aaxis": {
            "gridcolor": "rgb(232,232,232)",
            "linecolor": "rgb(36,36,36)",
            "showgrid": false,
            "showline": true,
            "ticks": "outside"
           },
           "baxis": {
            "gridcolor": "rgb(232,232,232)",
            "linecolor": "rgb(36,36,36)",
            "showgrid": false,
            "showline": true,
            "ticks": "outside"
           },
           "bgcolor": "white",
           "caxis": {
            "gridcolor": "rgb(232,232,232)",
            "linecolor": "rgb(36,36,36)",
            "showgrid": false,
            "showline": true,
            "ticks": "outside"
           }
          },
          "title": {
           "x": 0.05
          },
          "xaxis": {
           "automargin": true,
           "gridcolor": "rgb(232,232,232)",
           "linecolor": "rgb(36,36,36)",
           "showgrid": false,
           "showline": true,
           "ticks": "outside",
           "title": {
            "standoff": 15
           },
           "zeroline": false,
           "zerolinecolor": "rgb(36,36,36)"
          },
          "yaxis": {
           "automargin": true,
           "gridcolor": "rgb(232,232,232)",
           "linecolor": "rgb(36,36,36)",
           "showgrid": false,
           "showline": true,
           "ticks": "outside",
           "title": {
            "standoff": 15
           },
           "zeroline": false,
           "zerolinecolor": "rgb(36,36,36)"
          }
         }
        },
        "title": {
         "text": "Temporal Community Embedding Analogy Accuracy"
        },
        "xaxis": {
         "anchor": "y",
         "domain": [
          0,
          1
         ],
         "title": {
          "text": "Date"
         }
        },
        "yaxis": {
         "anchor": "x",
         "domain": [
          0,
          1
         ],
         "range": [
          0,
          1
         ],
         "tickformat": "%",
         "title": {
          "text": "Analogy Accuracy"
         }
        }
       }
      },
      "text/html": [
       "<div>\n",
       "        \n",
       "        \n",
       "            <div id=\"3ca92a57-0091-4e80-8475-473b63810f45\" class=\"plotly-graph-div\" style=\"height:525px; width:100%;\"></div>\n",
       "            <script type=\"text/javascript\">\n",
       "                require([\"plotly\"], function(Plotly) {\n",
       "                    window.PLOTLYENV=window.PLOTLYENV || {};\n",
       "                    \n",
       "                if (document.getElementById(\"3ca92a57-0091-4e80-8475-473b63810f45\")) {\n",
       "                    Plotly.newPlot(\n",
       "                        '3ca92a57-0091-4e80-8475-473b63810f45',\n",
       "                        [{\"hovertemplate\": \"Date=%{x}<br>Analogy Accuracy=%{y}<extra></extra>\", \"legendgroup\": \"\", \"line\": {\"color\": \"#1F77B4\", \"dash\": \"solid\", \"shape\": \"spline\"}, \"mode\": \"lines\", \"name\": \"\", \"orientation\": \"v\", \"showlegend\": false, \"type\": \"scatter\", \"x\": [\"2019-01-01T00:00:00\", \"2019-02-01T00:00:00\", \"2019-03-01T00:00:00\", \"2019-04-01T00:00:00\", \"2019-05-01T00:00:00\", \"2019-06-01T00:00:00\", \"2019-07-01T00:00:00\", \"2019-08-01T00:00:00\", \"2019-09-01T00:00:00\", \"2019-10-01T00:00:00\", \"2019-11-01T00:00:00\", \"2019-12-01T00:00:00\"], \"xaxis\": \"x\", \"y\": [0.6855670103092784, 0.570446735395189, 0.6615120274914089, 0.6855670103092784, 0.6718213058419243, 0.6615120274914089, 0.7216494845360825, 0.6615120274914089, 0.6631578947368421, 0.6344827586206897, 0.7594501718213058, 0.6890034364261168], \"yaxis\": \"y\"}],\n",
       "                        {\"annotations\": [{\"text\": \"u=67.21%, \\u03c3=0.04\", \"x\": \"2019-06-24\", \"y\": 0.6721401575392445}], \"font\": {\"size\": 25}, \"legend\": {\"tracegroupgap\": 0}, \"shapes\": [{\"line\": {\"color\": \"rgb(50, 171, 96)\", \"width\": 2}, \"type\": \"line\", \"x0\": \"2019-01-01T00:00:00\", \"x1\": \"2019-12-01T00:00:00\", \"y0\": 0.6721401575392445, \"y1\": 0.6721401575392445}], \"template\": {\"data\": {\"bar\": [{\"error_x\": {\"color\": \"rgb(36,36,36)\"}, \"error_y\": {\"color\": \"rgb(36,36,36)\"}, \"marker\": {\"line\": {\"color\": \"white\", \"width\": 0.5}}, \"type\": \"bar\"}], \"barpolar\": [{\"marker\": {\"line\": {\"color\": \"white\", \"width\": 0.5}}, \"type\": \"barpolar\"}], \"carpet\": [{\"aaxis\": {\"endlinecolor\": \"rgb(36,36,36)\", \"gridcolor\": \"white\", \"linecolor\": \"white\", \"minorgridcolor\": \"white\", \"startlinecolor\": \"rgb(36,36,36)\"}, \"baxis\": {\"endlinecolor\": \"rgb(36,36,36)\", \"gridcolor\": \"white\", \"linecolor\": \"white\", \"minorgridcolor\": \"white\", \"startlinecolor\": \"rgb(36,36,36)\"}, \"type\": \"carpet\"}], \"choropleth\": [{\"colorbar\": {\"outlinewidth\": 1, \"tickcolor\": \"rgb(36,36,36)\", \"ticks\": \"outside\"}, \"type\": \"choropleth\"}], \"contour\": [{\"colorbar\": {\"outlinewidth\": 1, \"tickcolor\": \"rgb(36,36,36)\", \"ticks\": \"outside\"}, \"colorscale\": [[0.0, \"#440154\"], [0.1111111111111111, \"#482878\"], [0.2222222222222222, \"#3e4989\"], [0.3333333333333333, \"#31688e\"], [0.4444444444444444, \"#26828e\"], [0.5555555555555556, \"#1f9e89\"], [0.6666666666666666, \"#35b779\"], [0.7777777777777778, \"#6ece58\"], [0.8888888888888888, \"#b5de2b\"], [1.0, \"#fde725\"]], \"type\": \"contour\"}], \"contourcarpet\": [{\"colorbar\": {\"outlinewidth\": 1, \"tickcolor\": \"rgb(36,36,36)\", \"ticks\": \"outside\"}, \"type\": \"contourcarpet\"}], \"heatmap\": [{\"colorbar\": {\"outlinewidth\": 1, \"tickcolor\": \"rgb(36,36,36)\", \"ticks\": \"outside\"}, \"colorscale\": [[0.0, \"#440154\"], [0.1111111111111111, \"#482878\"], [0.2222222222222222, \"#3e4989\"], [0.3333333333333333, \"#31688e\"], [0.4444444444444444, \"#26828e\"], [0.5555555555555556, \"#1f9e89\"], [0.6666666666666666, \"#35b779\"], [0.7777777777777778, \"#6ece58\"], [0.8888888888888888, \"#b5de2b\"], [1.0, \"#fde725\"]], \"type\": \"heatmap\"}], \"heatmapgl\": [{\"colorbar\": {\"outlinewidth\": 1, \"tickcolor\": \"rgb(36,36,36)\", \"ticks\": \"outside\"}, \"colorscale\": [[0.0, \"#440154\"], [0.1111111111111111, \"#482878\"], [0.2222222222222222, \"#3e4989\"], [0.3333333333333333, \"#31688e\"], [0.4444444444444444, \"#26828e\"], [0.5555555555555556, \"#1f9e89\"], [0.6666666666666666, \"#35b779\"], [0.7777777777777778, \"#6ece58\"], [0.8888888888888888, \"#b5de2b\"], [1.0, \"#fde725\"]], \"type\": \"heatmapgl\"}], \"histogram\": [{\"marker\": {\"line\": {\"color\": \"white\", \"width\": 0.6}}, \"type\": \"histogram\"}], \"histogram2d\": [{\"colorbar\": {\"outlinewidth\": 1, \"tickcolor\": \"rgb(36,36,36)\", \"ticks\": \"outside\"}, \"colorscale\": [[0.0, \"#440154\"], [0.1111111111111111, \"#482878\"], [0.2222222222222222, \"#3e4989\"], [0.3333333333333333, \"#31688e\"], [0.4444444444444444, \"#26828e\"], [0.5555555555555556, \"#1f9e89\"], [0.6666666666666666, \"#35b779\"], [0.7777777777777778, \"#6ece58\"], [0.8888888888888888, \"#b5de2b\"], [1.0, \"#fde725\"]], \"type\": \"histogram2d\"}], \"histogram2dcontour\": [{\"colorbar\": {\"outlinewidth\": 1, \"tickcolor\": \"rgb(36,36,36)\", \"ticks\": \"outside\"}, \"colorscale\": [[0.0, \"#440154\"], [0.1111111111111111, \"#482878\"], [0.2222222222222222, \"#3e4989\"], [0.3333333333333333, \"#31688e\"], [0.4444444444444444, \"#26828e\"], [0.5555555555555556, \"#1f9e89\"], [0.6666666666666666, \"#35b779\"], [0.7777777777777778, \"#6ece58\"], [0.8888888888888888, \"#b5de2b\"], [1.0, \"#fde725\"]], \"type\": \"histogram2dcontour\"}], \"mesh3d\": [{\"colorbar\": {\"outlinewidth\": 1, \"tickcolor\": \"rgb(36,36,36)\", \"ticks\": \"outside\"}, \"type\": \"mesh3d\"}], \"parcoords\": [{\"line\": {\"colorbar\": {\"outlinewidth\": 1, \"tickcolor\": \"rgb(36,36,36)\", \"ticks\": \"outside\"}}, \"type\": \"parcoords\"}], \"pie\": [{\"automargin\": true, \"type\": \"pie\"}], \"scatter\": [{\"marker\": {\"colorbar\": {\"outlinewidth\": 1, \"tickcolor\": \"rgb(36,36,36)\", \"ticks\": \"outside\"}}, \"type\": \"scatter\"}], \"scatter3d\": [{\"line\": {\"colorbar\": {\"outlinewidth\": 1, \"tickcolor\": \"rgb(36,36,36)\", \"ticks\": \"outside\"}}, \"marker\": {\"colorbar\": {\"outlinewidth\": 1, \"tickcolor\": \"rgb(36,36,36)\", \"ticks\": \"outside\"}}, \"type\": \"scatter3d\"}], \"scattercarpet\": [{\"marker\": {\"colorbar\": {\"outlinewidth\": 1, \"tickcolor\": \"rgb(36,36,36)\", \"ticks\": \"outside\"}}, \"type\": \"scattercarpet\"}], \"scattergeo\": [{\"marker\": {\"colorbar\": {\"outlinewidth\": 1, \"tickcolor\": \"rgb(36,36,36)\", \"ticks\": \"outside\"}}, \"type\": \"scattergeo\"}], \"scattergl\": [{\"marker\": {\"colorbar\": {\"outlinewidth\": 1, \"tickcolor\": \"rgb(36,36,36)\", \"ticks\": \"outside\"}}, \"type\": \"scattergl\"}], \"scattermapbox\": [{\"marker\": {\"colorbar\": {\"outlinewidth\": 1, \"tickcolor\": \"rgb(36,36,36)\", \"ticks\": \"outside\"}}, \"type\": \"scattermapbox\"}], \"scatterpolar\": [{\"marker\": {\"colorbar\": {\"outlinewidth\": 1, \"tickcolor\": \"rgb(36,36,36)\", \"ticks\": \"outside\"}}, \"type\": \"scatterpolar\"}], \"scatterpolargl\": [{\"marker\": {\"colorbar\": {\"outlinewidth\": 1, \"tickcolor\": \"rgb(36,36,36)\", \"ticks\": \"outside\"}}, \"type\": \"scatterpolargl\"}], \"scatterternary\": [{\"marker\": {\"colorbar\": {\"outlinewidth\": 1, \"tickcolor\": \"rgb(36,36,36)\", \"ticks\": \"outside\"}}, \"type\": \"scatterternary\"}], \"surface\": [{\"colorbar\": {\"outlinewidth\": 1, \"tickcolor\": \"rgb(36,36,36)\", \"ticks\": \"outside\"}, \"colorscale\": [[0.0, \"#440154\"], [0.1111111111111111, \"#482878\"], [0.2222222222222222, \"#3e4989\"], [0.3333333333333333, \"#31688e\"], [0.4444444444444444, \"#26828e\"], [0.5555555555555556, \"#1f9e89\"], [0.6666666666666666, \"#35b779\"], [0.7777777777777778, \"#6ece58\"], [0.8888888888888888, \"#b5de2b\"], [1.0, \"#fde725\"]], \"type\": \"surface\"}], \"table\": [{\"cells\": {\"fill\": {\"color\": \"rgb(237,237,237)\"}, \"line\": {\"color\": \"white\"}}, \"header\": {\"fill\": {\"color\": \"rgb(217,217,217)\"}, \"line\": {\"color\": \"white\"}}, \"type\": \"table\"}]}, \"layout\": {\"annotationdefaults\": {\"arrowhead\": 0, \"arrowwidth\": 1}, \"coloraxis\": {\"colorbar\": {\"outlinewidth\": 1, \"tickcolor\": \"rgb(36,36,36)\", \"ticks\": \"outside\"}}, \"colorscale\": {\"diverging\": [[0.0, \"rgb(103,0,31)\"], [0.1, \"rgb(178,24,43)\"], [0.2, \"rgb(214,96,77)\"], [0.3, \"rgb(244,165,130)\"], [0.4, \"rgb(253,219,199)\"], [0.5, \"rgb(247,247,247)\"], [0.6, \"rgb(209,229,240)\"], [0.7, \"rgb(146,197,222)\"], [0.8, \"rgb(67,147,195)\"], [0.9, \"rgb(33,102,172)\"], [1.0, \"rgb(5,48,97)\"]], \"sequential\": [[0.0, \"#440154\"], [0.1111111111111111, \"#482878\"], [0.2222222222222222, \"#3e4989\"], [0.3333333333333333, \"#31688e\"], [0.4444444444444444, \"#26828e\"], [0.5555555555555556, \"#1f9e89\"], [0.6666666666666666, \"#35b779\"], [0.7777777777777778, \"#6ece58\"], [0.8888888888888888, \"#b5de2b\"], [1.0, \"#fde725\"]], \"sequentialminus\": [[0.0, \"#440154\"], [0.1111111111111111, \"#482878\"], [0.2222222222222222, \"#3e4989\"], [0.3333333333333333, \"#31688e\"], [0.4444444444444444, \"#26828e\"], [0.5555555555555556, \"#1f9e89\"], [0.6666666666666666, \"#35b779\"], [0.7777777777777778, \"#6ece58\"], [0.8888888888888888, \"#b5de2b\"], [1.0, \"#fde725\"]]}, \"colorway\": [\"#1F77B4\", \"#FF7F0E\", \"#2CA02C\", \"#D62728\", \"#9467BD\", \"#8C564B\", \"#E377C2\", \"#7F7F7F\", \"#BCBD22\", \"#17BECF\"], \"font\": {\"color\": \"rgb(36,36,36)\"}, \"geo\": {\"bgcolor\": \"white\", \"lakecolor\": \"white\", \"landcolor\": \"white\", \"showlakes\": true, \"showland\": true, \"subunitcolor\": \"white\"}, \"hoverlabel\": {\"align\": \"left\"}, \"hovermode\": \"closest\", \"mapbox\": {\"style\": \"light\"}, \"paper_bgcolor\": \"white\", \"plot_bgcolor\": \"white\", \"polar\": {\"angularaxis\": {\"gridcolor\": \"rgb(232,232,232)\", \"linecolor\": \"rgb(36,36,36)\", \"showgrid\": false, \"showline\": true, \"ticks\": \"outside\"}, \"bgcolor\": \"white\", \"radialaxis\": {\"gridcolor\": \"rgb(232,232,232)\", \"linecolor\": \"rgb(36,36,36)\", \"showgrid\": false, \"showline\": true, \"ticks\": \"outside\"}}, \"scene\": {\"xaxis\": {\"backgroundcolor\": \"white\", \"gridcolor\": \"rgb(232,232,232)\", \"gridwidth\": 2, \"linecolor\": \"rgb(36,36,36)\", \"showbackground\": true, \"showgrid\": false, \"showline\": true, \"ticks\": \"outside\", \"zeroline\": false, \"zerolinecolor\": \"rgb(36,36,36)\"}, \"yaxis\": {\"backgroundcolor\": \"white\", \"gridcolor\": \"rgb(232,232,232)\", \"gridwidth\": 2, \"linecolor\": \"rgb(36,36,36)\", \"showbackground\": true, \"showgrid\": false, \"showline\": true, \"ticks\": \"outside\", \"zeroline\": false, \"zerolinecolor\": \"rgb(36,36,36)\"}, \"zaxis\": {\"backgroundcolor\": \"white\", \"gridcolor\": \"rgb(232,232,232)\", \"gridwidth\": 2, \"linecolor\": \"rgb(36,36,36)\", \"showbackground\": true, \"showgrid\": false, \"showline\": true, \"ticks\": \"outside\", \"zeroline\": false, \"zerolinecolor\": \"rgb(36,36,36)\"}}, \"shapedefaults\": {\"fillcolor\": \"black\", \"line\": {\"width\": 0}, \"opacity\": 0.3}, \"ternary\": {\"aaxis\": {\"gridcolor\": \"rgb(232,232,232)\", \"linecolor\": \"rgb(36,36,36)\", \"showgrid\": false, \"showline\": true, \"ticks\": \"outside\"}, \"baxis\": {\"gridcolor\": \"rgb(232,232,232)\", \"linecolor\": \"rgb(36,36,36)\", \"showgrid\": false, \"showline\": true, \"ticks\": \"outside\"}, \"bgcolor\": \"white\", \"caxis\": {\"gridcolor\": \"rgb(232,232,232)\", \"linecolor\": \"rgb(36,36,36)\", \"showgrid\": false, \"showline\": true, \"ticks\": \"outside\"}}, \"title\": {\"x\": 0.05}, \"xaxis\": {\"automargin\": true, \"gridcolor\": \"rgb(232,232,232)\", \"linecolor\": \"rgb(36,36,36)\", \"showgrid\": false, \"showline\": true, \"ticks\": \"outside\", \"title\": {\"standoff\": 15}, \"zeroline\": false, \"zerolinecolor\": \"rgb(36,36,36)\"}, \"yaxis\": {\"automargin\": true, \"gridcolor\": \"rgb(232,232,232)\", \"linecolor\": \"rgb(36,36,36)\", \"showgrid\": false, \"showline\": true, \"ticks\": \"outside\", \"title\": {\"standoff\": 15}, \"zeroline\": false, \"zerolinecolor\": \"rgb(36,36,36)\"}}}, \"title\": {\"text\": \"Temporal Community Embedding Analogy Accuracy\"}, \"xaxis\": {\"anchor\": \"y\", \"domain\": [0.0, 1.0], \"title\": {\"text\": \"Date\"}}, \"yaxis\": {\"anchor\": \"x\", \"domain\": [0.0, 1.0], \"range\": [0, 1], \"tickformat\": \"%\", \"title\": {\"text\": \"Analogy Accuracy\"}}},\n",
       "                        {\"responsive\": true}\n",
       "                    ).then(function(){\n",
       "                            \n",
       "var gd = document.getElementById('3ca92a57-0091-4e80-8475-473b63810f45');\n",
       "var x = new MutationObserver(function (mutations, observer) {{\n",
       "        var display = window.getComputedStyle(gd).display;\n",
       "        if (!display || display === 'none') {{\n",
       "            console.log([gd, 'removed!']);\n",
       "            Plotly.purge(gd);\n",
       "            observer.disconnect();\n",
       "        }}\n",
       "}});\n",
       "\n",
       "// Listen for the removal of the full notebook cells\n",
       "var notebookContainer = gd.closest('#notebook-container');\n",
       "if (notebookContainer) {{\n",
       "    x.observe(notebookContainer, {childList: true});\n",
       "}}\n",
       "\n",
       "// Listen for the clearing of the current output cell\n",
       "var outputEl = gd.closest('.output');\n",
       "if (outputEl) {{\n",
       "    x.observe(outputEl, {childList: true});\n",
       "}}\n",
       "\n",
       "                        })\n",
       "                };\n",
       "                });\n",
       "            </script>\n",
       "        </div>"
      ]
     },
     "metadata": {},
     "output_type": "display_data"
    }
   ],
   "source": [
    "import plotly.express as px\n",
    "args = {\n",
    "    \"line_shape\": \"spline\",\n",
    "    \"title\":  \"Temporal Community Embedding Analogy Accuracy\",\n",
    "    \"template\": \"simple_white\",\n",
    "    \"labels\": {\"x\": \"Date\", \"y\":\"Analogy Accuracy\"}\n",
    "}\n",
    "\n",
    "u = np.mean(scores)\n",
    "d = np.std(scores)\n",
    "layout = {\n",
    "            \"yaxis\": {\"tickformat\": '%',\"range\":[0,1] },\n",
    "            # Mean Horizontal\n",
    "            \"shapes\": [{\n",
    "                'type': 'line',\n",
    "                'x0': dates[0],\n",
    "                'y0': u,\n",
    "                'x1': dates[-1],\n",
    "                'y1': u,\n",
    "                'line': {\n",
    "                    'color': 'rgb(50, 171, 96)',\n",
    "                    'width': 2},\n",
    "                },\n",
    "            ],\n",
    "            \"annotations\": [{\"x\":\"2019-06-24\",\"y\":u,\"text\":\"u={:.2f}%, σ={:0.2f}\".format(u*100,d)}],\n",
    "            \"font\": {\"size\": 25}\n",
    "         }\n",
    "\n",
    "fig = px.line(x=dates,y=scores,**args)\n",
    "fig.update_layout(layout)\n",
    "# fig.write_html(\"visualizations/temporal/{}_accuracy.html\".format(TIME_FRAME))\n",
    "fig.show()"
   ]
  },
  {
   "cell_type": "code",
   "execution_count": null,
   "metadata": {},
   "outputs": [],
   "source": []
  }
 ],
 "metadata": {
  "kernelspec": {
   "display_name": "Python 3",
   "language": "python",
   "name": "python3"
  },
  "language_info": {
   "codemirror_mode": {
    "name": "ipython",
    "version": 3
   },
   "file_extension": ".py",
   "mimetype": "text/x-python",
   "name": "python",
   "nbconvert_exporter": "python",
   "pygments_lexer": "ipython3",
   "version": "3.7.7"
  }
 },
 "nbformat": 4,
 "nbformat_minor": 4
}
