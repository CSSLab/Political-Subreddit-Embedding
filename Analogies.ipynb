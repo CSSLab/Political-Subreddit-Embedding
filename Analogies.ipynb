{
 "cells": [
  {
   "cell_type": "code",
   "execution_count": 3,
   "metadata": {},
   "outputs": [
    {
     "name": "stderr",
     "output_type": "stream",
     "text": [
      "/h/224/cameron/miniconda3/envs/pyspark_env/lib/python3.7/site-packages/tqdm/std.py:668: FutureWarning: The Panel class is removed from pandas. Accessing it from the top-level namespace will also be removed in the next version\n",
      "  from pandas import Panel\n"
     ]
    }
   ],
   "source": [
    "from utils import load_embedding, parse_tup, cos_sim, cos_dist\n",
    "from sklearn.decomposition import PCA\n",
    "from tqdm.auto import tqdm\n",
    "import numpy as np\n",
    "import pandas as pd\n",
    "tqdm.pandas()"
   ]
  },
  {
   "cell_type": "code",
   "execution_count": 4,
   "metadata": {
    "scrolled": true
   },
   "outputs": [
    {
     "data": {
      "text/html": [
       "<div>\n",
       "<style scoped>\n",
       "    .dataframe tbody tr th:only-of-type {\n",
       "        vertical-align: middle;\n",
       "    }\n",
       "\n",
       "    .dataframe tbody tr th {\n",
       "        vertical-align: top;\n",
       "    }\n",
       "\n",
       "    .dataframe thead th {\n",
       "        text-align: right;\n",
       "    }\n",
       "</style>\n",
       "<table border=\"1\" class=\"dataframe\">\n",
       "  <thead>\n",
       "    <tr style=\"text-align: right;\">\n",
       "      <th></th>\n",
       "      <th>1</th>\n",
       "      <th>2</th>\n",
       "      <th>3</th>\n",
       "      <th>4</th>\n",
       "      <th>5</th>\n",
       "      <th>6</th>\n",
       "      <th>7</th>\n",
       "      <th>8</th>\n",
       "      <th>9</th>\n",
       "      <th>10</th>\n",
       "      <th>...</th>\n",
       "      <th>141</th>\n",
       "      <th>142</th>\n",
       "      <th>143</th>\n",
       "      <th>144</th>\n",
       "      <th>145</th>\n",
       "      <th>146</th>\n",
       "      <th>147</th>\n",
       "      <th>148</th>\n",
       "      <th>149</th>\n",
       "      <th>150</th>\n",
       "    </tr>\n",
       "    <tr>\n",
       "      <th>subreddit</th>\n",
       "      <th></th>\n",
       "      <th></th>\n",
       "      <th></th>\n",
       "      <th></th>\n",
       "      <th></th>\n",
       "      <th></th>\n",
       "      <th></th>\n",
       "      <th></th>\n",
       "      <th></th>\n",
       "      <th></th>\n",
       "      <th></th>\n",
       "      <th></th>\n",
       "      <th></th>\n",
       "      <th></th>\n",
       "      <th></th>\n",
       "      <th></th>\n",
       "      <th></th>\n",
       "      <th></th>\n",
       "      <th></th>\n",
       "      <th></th>\n",
       "      <th></th>\n",
       "    </tr>\n",
       "  </thead>\n",
       "  <tbody>\n",
       "    <tr>\n",
       "      <th>SquaredCircle</th>\n",
       "      <td>0.134779</td>\n",
       "      <td>0.043821</td>\n",
       "      <td>-0.011876</td>\n",
       "      <td>-0.066840</td>\n",
       "      <td>0.020694</td>\n",
       "      <td>-0.055040</td>\n",
       "      <td>0.017334</td>\n",
       "      <td>0.004694</td>\n",
       "      <td>-0.082625</td>\n",
       "      <td>0.124690</td>\n",
       "      <td>...</td>\n",
       "      <td>-0.061495</td>\n",
       "      <td>-0.183028</td>\n",
       "      <td>-0.099551</td>\n",
       "      <td>0.031485</td>\n",
       "      <td>-0.040188</td>\n",
       "      <td>0.143292</td>\n",
       "      <td>0.040536</td>\n",
       "      <td>-0.008464</td>\n",
       "      <td>0.041863</td>\n",
       "      <td>-0.172806</td>\n",
       "    </tr>\n",
       "    <tr>\n",
       "      <th>AskReddit</th>\n",
       "      <td>0.135559</td>\n",
       "      <td>0.008985</td>\n",
       "      <td>-0.037187</td>\n",
       "      <td>0.000455</td>\n",
       "      <td>0.022365</td>\n",
       "      <td>-0.006085</td>\n",
       "      <td>-0.017524</td>\n",
       "      <td>0.040978</td>\n",
       "      <td>-0.054059</td>\n",
       "      <td>0.069235</td>\n",
       "      <td>...</td>\n",
       "      <td>-0.039066</td>\n",
       "      <td>-0.043172</td>\n",
       "      <td>-0.106157</td>\n",
       "      <td>0.105634</td>\n",
       "      <td>-0.045787</td>\n",
       "      <td>0.063289</td>\n",
       "      <td>0.057239</td>\n",
       "      <td>-0.198356</td>\n",
       "      <td>0.061649</td>\n",
       "      <td>-0.023330</td>\n",
       "    </tr>\n",
       "    <tr>\n",
       "      <th>politics</th>\n",
       "      <td>-0.042422</td>\n",
       "      <td>0.024062</td>\n",
       "      <td>-0.165820</td>\n",
       "      <td>0.046046</td>\n",
       "      <td>-0.080393</td>\n",
       "      <td>0.024717</td>\n",
       "      <td>0.044797</td>\n",
       "      <td>0.094564</td>\n",
       "      <td>-0.090970</td>\n",
       "      <td>0.013700</td>\n",
       "      <td>...</td>\n",
       "      <td>0.034073</td>\n",
       "      <td>-0.087685</td>\n",
       "      <td>-0.129094</td>\n",
       "      <td>0.110916</td>\n",
       "      <td>0.047369</td>\n",
       "      <td>0.014214</td>\n",
       "      <td>0.025798</td>\n",
       "      <td>-0.121198</td>\n",
       "      <td>0.155587</td>\n",
       "      <td>-0.057969</td>\n",
       "    </tr>\n",
       "    <tr>\n",
       "      <th>memes</th>\n",
       "      <td>0.002449</td>\n",
       "      <td>-0.014680</td>\n",
       "      <td>-0.031889</td>\n",
       "      <td>-0.051864</td>\n",
       "      <td>0.044783</td>\n",
       "      <td>-0.055175</td>\n",
       "      <td>0.063965</td>\n",
       "      <td>0.009760</td>\n",
       "      <td>-0.135631</td>\n",
       "      <td>0.106458</td>\n",
       "      <td>...</td>\n",
       "      <td>0.024190</td>\n",
       "      <td>-0.042757</td>\n",
       "      <td>-0.033878</td>\n",
       "      <td>0.041545</td>\n",
       "      <td>-0.001212</td>\n",
       "      <td>0.076116</td>\n",
       "      <td>0.036539</td>\n",
       "      <td>-0.102034</td>\n",
       "      <td>0.054330</td>\n",
       "      <td>-0.073219</td>\n",
       "    </tr>\n",
       "    <tr>\n",
       "      <th>teenagers</th>\n",
       "      <td>0.026058</td>\n",
       "      <td>0.069684</td>\n",
       "      <td>0.024581</td>\n",
       "      <td>0.009624</td>\n",
       "      <td>-0.029134</td>\n",
       "      <td>0.076384</td>\n",
       "      <td>0.078542</td>\n",
       "      <td>0.052331</td>\n",
       "      <td>-0.106552</td>\n",
       "      <td>0.096511</td>\n",
       "      <td>...</td>\n",
       "      <td>0.013686</td>\n",
       "      <td>-0.014345</td>\n",
       "      <td>-0.004146</td>\n",
       "      <td>0.055941</td>\n",
       "      <td>-0.009106</td>\n",
       "      <td>0.085962</td>\n",
       "      <td>0.030374</td>\n",
       "      <td>-0.028468</td>\n",
       "      <td>0.069988</td>\n",
       "      <td>-0.039540</td>\n",
       "    </tr>\n",
       "    <tr>\n",
       "      <th>...</th>\n",
       "      <td>...</td>\n",
       "      <td>...</td>\n",
       "      <td>...</td>\n",
       "      <td>...</td>\n",
       "      <td>...</td>\n",
       "      <td>...</td>\n",
       "      <td>...</td>\n",
       "      <td>...</td>\n",
       "      <td>...</td>\n",
       "      <td>...</td>\n",
       "      <td>...</td>\n",
       "      <td>...</td>\n",
       "      <td>...</td>\n",
       "      <td>...</td>\n",
       "      <td>...</td>\n",
       "      <td>...</td>\n",
       "      <td>...</td>\n",
       "      <td>...</td>\n",
       "      <td>...</td>\n",
       "      <td>...</td>\n",
       "      <td>...</td>\n",
       "    </tr>\n",
       "    <tr>\n",
       "      <th>NRV</th>\n",
       "      <td>0.122154</td>\n",
       "      <td>0.130032</td>\n",
       "      <td>-0.243602</td>\n",
       "      <td>-0.032611</td>\n",
       "      <td>-0.038153</td>\n",
       "      <td>-0.014279</td>\n",
       "      <td>-0.065262</td>\n",
       "      <td>-0.001528</td>\n",
       "      <td>-0.099809</td>\n",
       "      <td>-0.018441</td>\n",
       "      <td>...</td>\n",
       "      <td>-0.054521</td>\n",
       "      <td>-0.062958</td>\n",
       "      <td>-0.112747</td>\n",
       "      <td>0.098669</td>\n",
       "      <td>-0.049754</td>\n",
       "      <td>-0.015509</td>\n",
       "      <td>0.117170</td>\n",
       "      <td>-0.216936</td>\n",
       "      <td>0.008118</td>\n",
       "      <td>-0.123790</td>\n",
       "    </tr>\n",
       "    <tr>\n",
       "      <th>UTT</th>\n",
       "      <td>0.135902</td>\n",
       "      <td>0.057751</td>\n",
       "      <td>-0.200740</td>\n",
       "      <td>-0.035059</td>\n",
       "      <td>-0.005987</td>\n",
       "      <td>-0.000219</td>\n",
       "      <td>-0.083139</td>\n",
       "      <td>0.033362</td>\n",
       "      <td>-0.119045</td>\n",
       "      <td>0.125617</td>\n",
       "      <td>...</td>\n",
       "      <td>-0.019219</td>\n",
       "      <td>-0.092823</td>\n",
       "      <td>-0.096780</td>\n",
       "      <td>0.095344</td>\n",
       "      <td>-0.114785</td>\n",
       "      <td>0.023995</td>\n",
       "      <td>0.075017</td>\n",
       "      <td>-0.151421</td>\n",
       "      <td>0.048709</td>\n",
       "      <td>-0.065192</td>\n",
       "    </tr>\n",
       "    <tr>\n",
       "      <th>MMU</th>\n",
       "      <td>0.119556</td>\n",
       "      <td>0.049138</td>\n",
       "      <td>-0.134668</td>\n",
       "      <td>0.009505</td>\n",
       "      <td>0.023105</td>\n",
       "      <td>-0.025217</td>\n",
       "      <td>-0.026836</td>\n",
       "      <td>-0.026815</td>\n",
       "      <td>-0.198236</td>\n",
       "      <td>0.021817</td>\n",
       "      <td>...</td>\n",
       "      <td>-0.075906</td>\n",
       "      <td>-0.067976</td>\n",
       "      <td>-0.035603</td>\n",
       "      <td>-0.009426</td>\n",
       "      <td>-0.084691</td>\n",
       "      <td>0.068536</td>\n",
       "      <td>-0.040373</td>\n",
       "      <td>-0.134642</td>\n",
       "      <td>0.068508</td>\n",
       "      <td>-0.132696</td>\n",
       "    </tr>\n",
       "    <tr>\n",
       "      <th>houghton</th>\n",
       "      <td>0.065995</td>\n",
       "      <td>0.083532</td>\n",
       "      <td>-0.195394</td>\n",
       "      <td>0.019086</td>\n",
       "      <td>0.061049</td>\n",
       "      <td>-0.019786</td>\n",
       "      <td>0.072973</td>\n",
       "      <td>-0.017989</td>\n",
       "      <td>-0.196128</td>\n",
       "      <td>0.026056</td>\n",
       "      <td>...</td>\n",
       "      <td>-0.004768</td>\n",
       "      <td>-0.076079</td>\n",
       "      <td>-0.103230</td>\n",
       "      <td>0.060556</td>\n",
       "      <td>-0.111134</td>\n",
       "      <td>0.028949</td>\n",
       "      <td>-0.011122</td>\n",
       "      <td>-0.188779</td>\n",
       "      <td>0.003880</td>\n",
       "      <td>-0.115659</td>\n",
       "    </tr>\n",
       "    <tr>\n",
       "      <th>universityofredlands</th>\n",
       "      <td>0.179449</td>\n",
       "      <td>0.083221</td>\n",
       "      <td>-0.167956</td>\n",
       "      <td>-0.024700</td>\n",
       "      <td>0.049997</td>\n",
       "      <td>-0.046135</td>\n",
       "      <td>0.017856</td>\n",
       "      <td>-0.078710</td>\n",
       "      <td>-0.128699</td>\n",
       "      <td>0.092061</td>\n",
       "      <td>...</td>\n",
       "      <td>-0.024964</td>\n",
       "      <td>-0.054390</td>\n",
       "      <td>-0.168895</td>\n",
       "      <td>0.087481</td>\n",
       "      <td>-0.119883</td>\n",
       "      <td>0.006224</td>\n",
       "      <td>0.023883</td>\n",
       "      <td>-0.181816</td>\n",
       "      <td>0.064438</td>\n",
       "      <td>-0.048578</td>\n",
       "    </tr>\n",
       "  </tbody>\n",
       "</table>\n",
       "<p>10541 rows × 150 columns</p>\n",
       "</div>"
      ],
      "text/plain": [
       "                           1         2         3         4         5    \\\n",
       "subreddit                                                                \n",
       "SquaredCircle         0.134779  0.043821 -0.011876 -0.066840  0.020694   \n",
       "AskReddit             0.135559  0.008985 -0.037187  0.000455  0.022365   \n",
       "politics             -0.042422  0.024062 -0.165820  0.046046 -0.080393   \n",
       "memes                 0.002449 -0.014680 -0.031889 -0.051864  0.044783   \n",
       "teenagers             0.026058  0.069684  0.024581  0.009624 -0.029134   \n",
       "...                        ...       ...       ...       ...       ...   \n",
       "NRV                   0.122154  0.130032 -0.243602 -0.032611 -0.038153   \n",
       "UTT                   0.135902  0.057751 -0.200740 -0.035059 -0.005987   \n",
       "MMU                   0.119556  0.049138 -0.134668  0.009505  0.023105   \n",
       "houghton              0.065995  0.083532 -0.195394  0.019086  0.061049   \n",
       "universityofredlands  0.179449  0.083221 -0.167956 -0.024700  0.049997   \n",
       "\n",
       "                           6         7         8         9         10   ...  \\\n",
       "subreddit                                                               ...   \n",
       "SquaredCircle        -0.055040  0.017334  0.004694 -0.082625  0.124690  ...   \n",
       "AskReddit            -0.006085 -0.017524  0.040978 -0.054059  0.069235  ...   \n",
       "politics              0.024717  0.044797  0.094564 -0.090970  0.013700  ...   \n",
       "memes                -0.055175  0.063965  0.009760 -0.135631  0.106458  ...   \n",
       "teenagers             0.076384  0.078542  0.052331 -0.106552  0.096511  ...   \n",
       "...                        ...       ...       ...       ...       ...  ...   \n",
       "NRV                  -0.014279 -0.065262 -0.001528 -0.099809 -0.018441  ...   \n",
       "UTT                  -0.000219 -0.083139  0.033362 -0.119045  0.125617  ...   \n",
       "MMU                  -0.025217 -0.026836 -0.026815 -0.198236  0.021817  ...   \n",
       "houghton             -0.019786  0.072973 -0.017989 -0.196128  0.026056  ...   \n",
       "universityofredlands -0.046135  0.017856 -0.078710 -0.128699  0.092061  ...   \n",
       "\n",
       "                           141       142       143       144       145  \\\n",
       "subreddit                                                                \n",
       "SquaredCircle        -0.061495 -0.183028 -0.099551  0.031485 -0.040188   \n",
       "AskReddit            -0.039066 -0.043172 -0.106157  0.105634 -0.045787   \n",
       "politics              0.034073 -0.087685 -0.129094  0.110916  0.047369   \n",
       "memes                 0.024190 -0.042757 -0.033878  0.041545 -0.001212   \n",
       "teenagers             0.013686 -0.014345 -0.004146  0.055941 -0.009106   \n",
       "...                        ...       ...       ...       ...       ...   \n",
       "NRV                  -0.054521 -0.062958 -0.112747  0.098669 -0.049754   \n",
       "UTT                  -0.019219 -0.092823 -0.096780  0.095344 -0.114785   \n",
       "MMU                  -0.075906 -0.067976 -0.035603 -0.009426 -0.084691   \n",
       "houghton             -0.004768 -0.076079 -0.103230  0.060556 -0.111134   \n",
       "universityofredlands -0.024964 -0.054390 -0.168895  0.087481 -0.119883   \n",
       "\n",
       "                           146       147       148       149       150  \n",
       "subreddit                                                               \n",
       "SquaredCircle         0.143292  0.040536 -0.008464  0.041863 -0.172806  \n",
       "AskReddit             0.063289  0.057239 -0.198356  0.061649 -0.023330  \n",
       "politics              0.014214  0.025798 -0.121198  0.155587 -0.057969  \n",
       "memes                 0.076116  0.036539 -0.102034  0.054330 -0.073219  \n",
       "teenagers             0.085962  0.030374 -0.028468  0.069988 -0.039540  \n",
       "...                        ...       ...       ...       ...       ...  \n",
       "NRV                  -0.015509  0.117170 -0.216936  0.008118 -0.123790  \n",
       "UTT                   0.023995  0.075017 -0.151421  0.048709 -0.065192  \n",
       "MMU                   0.068536 -0.040373 -0.134642  0.068508 -0.132696  \n",
       "houghton              0.028949 -0.011122 -0.188779  0.003880 -0.115659  \n",
       "universityofredlands  0.006224  0.023883 -0.181816  0.064438 -0.048578  \n",
       "\n",
       "[10541 rows x 150 columns]"
      ]
     },
     "execution_count": 4,
     "metadata": {},
     "output_type": "execute_result"
    }
   ],
   "source": [
    "TIME_FRAME = \"monthly\"\n",
    "embedding = load_embedding(\"/h/224/cameron/Political-Subreddit-Embedding/trained_embeddings/vecs_0.0028_15.0.txt\",split=False)\n",
    "embedding"
   ]
  },
  {
   "cell_type": "markdown",
   "metadata": {},
   "source": [
    "# Analogies"
   ]
  },
  {
   "cell_type": "code",
   "execution_count": 32,
   "metadata": {},
   "outputs": [],
   "source": [
    "def analogy(sub_a,sub_ap,sub_b,embedding,return_score=False):\n",
    "    \"\"\"\n",
    "        sub_a is to sub_ap, as sub_b is to ??\n",
    "        sub_ap + sub_b - sub_a\n",
    "        returns the subreddit that best answers the analogy\n",
    "    \"\"\"\n",
    "    assert sub_a in embedding.index.values, \"{} is not in the dataset\".format(sub_a)\n",
    "    assert sub_ap in embedding.index.values, \"{} is not in the dataset\".format(sub_ap)\n",
    "    assert sub_b in embedding.index.values, \"{} is not in the dataset\".format(sub_b)\n",
    "    vec_a = embedding.loc[sub_a].to_numpy().flatten()\n",
    "    vec_ap = embedding.loc[sub_ap].to_numpy().flatten()\n",
    "    vec_b = embedding.loc[sub_b].to_numpy().flatten()\n",
    "    vec_bp = vec_ap + (vec_b - vec_a)\n",
    "    all_other_vecs = embedding[~embedding.index.isin([sub_a,sub_ap,sub_b])]\n",
    "    similarity = np.apply_along_axis(lambda x : cos_sim(x,vec_bp), 1, all_other_vecs)\n",
    "    winner_ind = similarity.argmax()\n",
    "    if return_score:\n",
    "        return all_other_vecs.index.values[winner_ind], similarity[winner_ind]\n",
    "    return all_other_vecs.index.values[winner_ind]\n",
    "\n",
    "\n",
    "# a = \"BaemyKlobaechar\"\n",
    "# ap = \"ElizabethWarren\"\n",
    "# b = \"JoeBiden\"\n",
    "# print(\"r/{} is to r/{} as r/{} is to r/{}\".format(a,ap,b,analogy(a,ap,b,embedding)))\n",
    "# a = \"JoeBiden\"\n",
    "# ap = \"SandersForPresident\"\n",
    "# b = \"BaemyKlobaechar\"\n",
    "# print(\"r/{} is to r/{} as r/{} is to r/{}\".format(a,ap,b,analogy(a,ap,b,embedding)))\n",
    "\n",
    "# a = \"socialism\"\n",
    "# ap = \"Libertarian\"\n",
    "# b = \"EnoughCommieSpam\"\n",
    "# print(\"r/{} is to r/{} as r/{} is to r/{}\".format(a,ap,b,analogy(a,ap,b,embedding)))\n",
    "# # a = \"SandersForPresident\"\n",
    "# ap = \"ElizabethWarren\"\n",
    "# b = \"BaemyKlobaechar\"\n",
    "# print(\"r/{} is to r/{} as r/{} is to r/{}\".format(a,ap,b,analogy(a,ap,b,embedding)))"
   ]
  },
  {
   "cell_type": "code",
   "execution_count": 120,
   "metadata": {},
   "outputs": [
    {
     "name": "stderr",
     "output_type": "stream",
     "text": [
      "/h/224/cameron/miniconda3/envs/pyspark_env/lib/python3.7/site-packages/tqdm/std.py:668: FutureWarning:\n",
      "\n",
      "The Panel class is removed from pandas. Accessing it from the top-level namespace will also be removed in the next version\n",
      "\n"
     ]
    },
    {
     "data": {
      "application/vnd.jupyter.widget-view+json": {
       "model_id": "656ef97224384e1c8686c1aac8966eb8",
       "version_major": 2,
       "version_minor": 0
      },
      "text/plain": [
       "HBox(children=(FloatProgress(value=0.0, max=50.0), HTML(value='')))"
      ]
     },
     "metadata": {},
     "output_type": "display_data"
    },
    {
     "name": "stdout",
     "output_type": "stream",
     "text": [
      "\n",
      "islam is to exmuslim best analogy endings\n",
      "               sub_from               sub_to       sim\n",
      "44          IndiaSpeaks      indiadiscussion  0.742098\n",
      "45             bakchodi      indiadiscussion  0.738403\n",
      "47            indianews      indiadiscussion  0.729023\n",
      "32              Judaism               Jewish  0.725830\n",
      "40      indiadiscussion             librandu  0.725333\n",
      "1          MuslimLounge       MuslimMarriage  0.710871\n",
      "7              pakistan             chutyapa  0.707549\n",
      "37                endia             librandu  0.690298\n",
      "43             religion       DebateReligion  0.686902\n",
      "22     Israel_Palestine      IsraelPalestine  0.679999\n",
      "10             chutyapa             librandu  0.675639\n",
      "48             librandu      indiadiscussion  0.672959\n",
      "4                 arabs                 iran  0.665471\n",
      "21      IsraelPalestine     Israel_Palestine  0.658565\n",
      "5               Hijabis       MuslimMarriage  0.652817\n",
      "42  SyrianCirclejerkWar       syriancivilwar  0.649286\n",
      "27              Somalia            XSomalian  0.646580\n",
      "18                 iran              iranian  0.640517\n",
      "29            kurdistan  SyrianCirclejerkWar  0.633295\n",
      "17            Palestine      IsraelPalestine  0.632203\n"
     ]
    }
   ],
   "source": [
    "tqdm.pandas()\n",
    "\n",
    "def get_possible_fits(a,ap,embedding,k=20):\n",
    "    \"\"\"\n",
    "        Returns possible b and bp's for an analogy starting with a and ap\n",
    "        Iterate through each vector in the embedding, have that act as the b and find bp.\n",
    "        Sort through ones that match the best and return top k.\n",
    "    \"\"\"\n",
    "    # Find subreddits that are relatively close to the base \"a\" subreddit, and take closest 100\n",
    "    pos_fits = embedding.copy().apply(lambda x : cos_sim(np.array(x),embedding.loc[a]),axis=1,result_type=\"expand\").sort_values(0,ascending=False).head(50)    \n",
    "    pos_fits = pos_fits.reset_index().set_index(\"subreddit\")\n",
    "    print(pos_fits)\n",
    "    # Search for best possible fits in ENTIRE embedding for the analogy a is to ap as [subreddits closest to a] is bp\n",
    "    pos_fits[[\"sub_to\",\"sim\"]] = pos_fits.progress_apply(lambda x : analogy(a,ap,x.name,embedding,True),axis=1,result_type=\"expand\")\n",
    "    pos_fits = pos_fits.reset_index().rename({\"subreddit\":\"sub_from\"},axis=1)[[\"sub_from\",\"sub_to\",\"sim\"]]\n",
    "    # Bring everything together\n",
    "    pos_fits = pos_fits.sort_values(\"sim\",ascending=False)\n",
    "    pos_fits = pos_fits[~(pos_fits[\"sub_from\"].isin([a,ap]) | pos_fits[\"sub_to\"].isin([a,ap]))]\n",
    "    return  pos_fits.head(k)\n",
    "\n",
    "# a = \"GunsAreCool\"\n",
    "# ap = \"progun\"\n",
    "# # p1 = get_pos_fits(a,ap,embedding,k=20)\n",
    "# # print(p1)\n",
    "ap = \"exchristian\"\n",
    "a = \"Christianity\"\n",
    "# a = \"AskMen\"\n",
    "# ap = \"AskWomen\"\n",
    "# a = \"CallOfDuty\"\n",
    "# ap = \"modernwarfare\"\n",
    "p2 = get_possible_fits(a,ap,embedding)\n",
    "print(\"{} is to {} best analogy endings\".format(a,ap))\n",
    "print(p2)"
   ]
  },
  {
   "cell_type": "code",
   "execution_count": 30,
   "metadata": {
    "scrolled": true
   },
   "outputs": [
    {
     "data": {
      "application/vnd.jupyter.widget-view+json": {
       "model_id": "2a5053059f6342888fe1711e46316656",
       "version_major": 2,
       "version_minor": 0
      },
      "text/plain": [
       "HBox(children=(FloatProgress(value=0.0, max=18.0), HTML(value='')))"
      ]
     },
     "metadata": {},
     "output_type": "display_data"
    },
    {
     "name": "stdout",
     "output_type": "stream",
     "text": [
      "\n",
      "Out of 0 analogies, 0 were predicted correctly (nan%)\n"
     ]
    },
    {
     "name": "stderr",
     "output_type": "stream",
     "text": [
      "/h/224/cameron/miniconda3/envs/pyspark_env/lib/python3.7/site-packages/ipykernel_launcher.py:26: RuntimeWarning: Mean of empty slice.\n"
     ]
    }
   ],
   "source": [
    "from itertools import combinations\n",
    "\n",
    "def predict_analogies(analogy_names,embedding,frac=0.5,show_prog=True):\n",
    "    fp = \"/h/224/cameron/Political-Subreddit-Embedding/external_datasets/validation/{}.csv\"\n",
    "    data_frames = [pd.read_csv(fp.format(name)).sample(frac=frac) for name in analogy_names]\n",
    "    pairs = []\n",
    "    for analogy_df in data_frames:\n",
    "        tuples = [tuple(x) for x in analogy_df.to_numpy()]\n",
    "        analogy_pairs = list(combinations(tuples,2))\n",
    "        pairs += analogy_pairs\n",
    "    pred = []\n",
    "    actual = []\n",
    "    tups = []\n",
    "    p = tqdm(pairs) if show_prog else pairs\n",
    "    for (a,ap),(b,bp) in p:\n",
    "        try: \n",
    "            p = analogy(a.strip(),ap.strip(),b.strip(),embedding)\n",
    "            pred.append(p)\n",
    "            actual.append(bp)\n",
    "            tups.append(((a,ap),(b,bp)))\n",
    "        except:\n",
    "            pass\n",
    "    return np.array(pred),np.array(actual), tups\n",
    "\n",
    "def score(pred,actual):\n",
    "    return (pred == actual).mean() * 100, (pred == actual).sum()\n",
    "\n",
    "data_sets = [\"football\",\"basketball\",\"baseball\",\"hockey\",\"populous_cities\"]\n",
    "\n",
    "pred, actual, tuples = predict_analogies(data_sets,embedding,frac=0.1)\n",
    "accuracy, num_correct = score(pred,actual)\n",
    "print(\"Out of {} analogies, {} were predicted correctly ({}%)\".format(len(pred),num_correct,accuracy))\n",
    "for p,act,((a,ap),(b,_)) in zip(pred,actual,tuples):\n",
    "    if not p==act: print(\"{} is to {} as {} is to {} (predicted as: {})\".format(a,ap,b,act,p))\n"
   ]
  },
  {
   "cell_type": "markdown",
   "metadata": {},
   "source": [
    "## Evaluate temporal embedding"
   ]
  },
  {
   "cell_type": "code",
   "execution_count": 23,
   "metadata": {},
   "outputs": [],
   "source": [
    "\n",
    "embedding  = load_embedding(\"/h/224/cameron/Political-Subreddit-Embedding/trained_embeddings/temporal/{}/{}_vecs_0.0028_15.txt\".format(TIME_FRAME,TIME_FRAME),split=False)\n",
    "\n",
    "#Parse out date and subreddit from single index\n",
    "t = embedding.index.map(lambda x: parse_tup(x,date_str=\"%d/%m/%Y\"))\n",
    "t = list(map(tuple,t))\n",
    "embedding.index = pd.MultiIndex.from_tuples(t)\n",
    "embedding = embedding.rename_axis((\"subreddit\", \"date\")).reorder_levels(['date','subreddit']).sort_values([\"date\",\"subreddit\"])\n",
    "embedding"
   ]
  },
  {
   "cell_type": "code",
   "execution_count": 47,
   "metadata": {},
   "outputs": [
    {
     "data": {
      "application/vnd.jupyter.widget-view+json": {
       "model_id": "914a36ba6e1b4983ad718be28ba56f60",
       "version_major": 2,
       "version_minor": 0
      },
      "text/plain": [
       "HBox(children=(FloatProgress(value=0.0, max=12.0), HTML(value='')))"
      ]
     },
     "metadata": {},
     "output_type": "display_data"
    },
    {
     "name": "stdout",
     "output_type": "stream",
     "text": [
      "\n",
      "[Timestamp('2019-01-01 00:00:00'), Timestamp('2019-02-01 00:00:00'), Timestamp('2019-03-01 00:00:00'), Timestamp('2019-04-01 00:00:00'), Timestamp('2019-05-01 00:00:00'), Timestamp('2019-06-01 00:00:00'), Timestamp('2019-07-01 00:00:00'), Timestamp('2019-08-01 00:00:00'), Timestamp('2019-09-01 00:00:00'), Timestamp('2019-10-01 00:00:00'), Timestamp('2019-11-01 00:00:00'), Timestamp('2019-12-01 00:00:00')] \n",
      "///\n",
      " [0.75945017 0.66323024 0.67182131 0.67353952 0.70274914 0.61168385\n",
      " 0.59965636 0.70103093 0.62886598 0.7628866  0.67353952 0.70928196]\n"
     ]
    }
   ],
   "source": [
    "data_sets = [\"football\",\"basketball\",\"baseball\",\"hockey\",\"populous_cities\"]\n",
    "dates = []\n",
    "scores = []\n",
    "for date, sub_embedding in tqdm(embedding.groupby(level=0)):\n",
    "    # Drop date from multiindex -> single index\n",
    "    sub_embedding = sub_embedding.droplevel(level=0)\n",
    "    pred, actual, _ = predict_analogies(data_sets,sub_embedding,frac=0.5,show_prog=False)\n",
    "    acc, _ = score(pred,actual)\n",
    "    scores.append(acc)\n",
    "    dates.append(date) \n",
    "scores = np.array(scores)/100\n",
    "print(dates,\"\\n///\\n\",scores)   "
   ]
  },
  {
   "cell_type": "code",
   "execution_count": 75,
   "metadata": {},
   "outputs": [
    {
     "data": {
      "application/vnd.plotly.v1+json": {
       "config": {
        "plotlyServerURL": "https://plot.ly"
       },
       "data": [
        {
         "hovertemplate": "Date=%{x}<br>Analogy Accuracy (k=1)=%{y}<extra></extra>",
         "legendgroup": "",
         "line": {
          "color": "#1F77B4",
          "dash": "solid",
          "shape": "spline"
         },
         "mode": "lines",
         "name": "",
         "orientation": "v",
         "showlegend": false,
         "type": "scatter",
         "x": [
          "2019-01-01T00:00:00",
          "2019-02-01T00:00:00",
          "2019-03-01T00:00:00",
          "2019-04-01T00:00:00",
          "2019-05-01T00:00:00",
          "2019-06-01T00:00:00",
          "2019-07-01T00:00:00",
          "2019-08-01T00:00:00",
          "2019-09-01T00:00:00",
          "2019-10-01T00:00:00",
          "2019-11-01T00:00:00",
          "2019-12-01T00:00:00"
         ],
         "xaxis": "x",
         "y": [
          0.7594501718213058,
          0.663230240549828,
          0.6718213058419243,
          0.6735395189003437,
          0.7027491408934707,
          0.6116838487972509,
          0.5996563573883161,
          0.7010309278350515,
          0.6288659793814433,
          0.7628865979381443,
          0.6735395189003437,
          0.7092819614711032
         ],
         "yaxis": "y"
        }
       ],
       "layout": {
        "annotations": [
         {
          "text": "u=67.98%, σ=0.05",
          "x": "2019-06-24",
          "y": 0.6798112974765438
         }
        ],
        "legend": {
         "tracegroupgap": 0
        },
        "shapes": [
         {
          "line": {
           "color": "rgb(50, 171, 96)",
           "width": 2
          },
          "type": "line",
          "x0": "2019-01-01T00:00:00",
          "x1": "2019-12-01T00:00:00",
          "y0": 0.6798112974765438,
          "y1": 0.6798112974765438
         }
        ],
        "template": {
         "data": {
          "bar": [
           {
            "error_x": {
             "color": "rgb(36,36,36)"
            },
            "error_y": {
             "color": "rgb(36,36,36)"
            },
            "marker": {
             "line": {
              "color": "white",
              "width": 0.5
             }
            },
            "type": "bar"
           }
          ],
          "barpolar": [
           {
            "marker": {
             "line": {
              "color": "white",
              "width": 0.5
             }
            },
            "type": "barpolar"
           }
          ],
          "carpet": [
           {
            "aaxis": {
             "endlinecolor": "rgb(36,36,36)",
             "gridcolor": "white",
             "linecolor": "white",
             "minorgridcolor": "white",
             "startlinecolor": "rgb(36,36,36)"
            },
            "baxis": {
             "endlinecolor": "rgb(36,36,36)",
             "gridcolor": "white",
             "linecolor": "white",
             "minorgridcolor": "white",
             "startlinecolor": "rgb(36,36,36)"
            },
            "type": "carpet"
           }
          ],
          "choropleth": [
           {
            "colorbar": {
             "outlinewidth": 1,
             "tickcolor": "rgb(36,36,36)",
             "ticks": "outside"
            },
            "type": "choropleth"
           }
          ],
          "contour": [
           {
            "colorbar": {
             "outlinewidth": 1,
             "tickcolor": "rgb(36,36,36)",
             "ticks": "outside"
            },
            "colorscale": [
             [
              0,
              "#440154"
             ],
             [
              0.1111111111111111,
              "#482878"
             ],
             [
              0.2222222222222222,
              "#3e4989"
             ],
             [
              0.3333333333333333,
              "#31688e"
             ],
             [
              0.4444444444444444,
              "#26828e"
             ],
             [
              0.5555555555555556,
              "#1f9e89"
             ],
             [
              0.6666666666666666,
              "#35b779"
             ],
             [
              0.7777777777777778,
              "#6ece58"
             ],
             [
              0.8888888888888888,
              "#b5de2b"
             ],
             [
              1,
              "#fde725"
             ]
            ],
            "type": "contour"
           }
          ],
          "contourcarpet": [
           {
            "colorbar": {
             "outlinewidth": 1,
             "tickcolor": "rgb(36,36,36)",
             "ticks": "outside"
            },
            "type": "contourcarpet"
           }
          ],
          "heatmap": [
           {
            "colorbar": {
             "outlinewidth": 1,
             "tickcolor": "rgb(36,36,36)",
             "ticks": "outside"
            },
            "colorscale": [
             [
              0,
              "#440154"
             ],
             [
              0.1111111111111111,
              "#482878"
             ],
             [
              0.2222222222222222,
              "#3e4989"
             ],
             [
              0.3333333333333333,
              "#31688e"
             ],
             [
              0.4444444444444444,
              "#26828e"
             ],
             [
              0.5555555555555556,
              "#1f9e89"
             ],
             [
              0.6666666666666666,
              "#35b779"
             ],
             [
              0.7777777777777778,
              "#6ece58"
             ],
             [
              0.8888888888888888,
              "#b5de2b"
             ],
             [
              1,
              "#fde725"
             ]
            ],
            "type": "heatmap"
           }
          ],
          "heatmapgl": [
           {
            "colorbar": {
             "outlinewidth": 1,
             "tickcolor": "rgb(36,36,36)",
             "ticks": "outside"
            },
            "colorscale": [
             [
              0,
              "#440154"
             ],
             [
              0.1111111111111111,
              "#482878"
             ],
             [
              0.2222222222222222,
              "#3e4989"
             ],
             [
              0.3333333333333333,
              "#31688e"
             ],
             [
              0.4444444444444444,
              "#26828e"
             ],
             [
              0.5555555555555556,
              "#1f9e89"
             ],
             [
              0.6666666666666666,
              "#35b779"
             ],
             [
              0.7777777777777778,
              "#6ece58"
             ],
             [
              0.8888888888888888,
              "#b5de2b"
             ],
             [
              1,
              "#fde725"
             ]
            ],
            "type": "heatmapgl"
           }
          ],
          "histogram": [
           {
            "marker": {
             "line": {
              "color": "white",
              "width": 0.6
             }
            },
            "type": "histogram"
           }
          ],
          "histogram2d": [
           {
            "colorbar": {
             "outlinewidth": 1,
             "tickcolor": "rgb(36,36,36)",
             "ticks": "outside"
            },
            "colorscale": [
             [
              0,
              "#440154"
             ],
             [
              0.1111111111111111,
              "#482878"
             ],
             [
              0.2222222222222222,
              "#3e4989"
             ],
             [
              0.3333333333333333,
              "#31688e"
             ],
             [
              0.4444444444444444,
              "#26828e"
             ],
             [
              0.5555555555555556,
              "#1f9e89"
             ],
             [
              0.6666666666666666,
              "#35b779"
             ],
             [
              0.7777777777777778,
              "#6ece58"
             ],
             [
              0.8888888888888888,
              "#b5de2b"
             ],
             [
              1,
              "#fde725"
             ]
            ],
            "type": "histogram2d"
           }
          ],
          "histogram2dcontour": [
           {
            "colorbar": {
             "outlinewidth": 1,
             "tickcolor": "rgb(36,36,36)",
             "ticks": "outside"
            },
            "colorscale": [
             [
              0,
              "#440154"
             ],
             [
              0.1111111111111111,
              "#482878"
             ],
             [
              0.2222222222222222,
              "#3e4989"
             ],
             [
              0.3333333333333333,
              "#31688e"
             ],
             [
              0.4444444444444444,
              "#26828e"
             ],
             [
              0.5555555555555556,
              "#1f9e89"
             ],
             [
              0.6666666666666666,
              "#35b779"
             ],
             [
              0.7777777777777778,
              "#6ece58"
             ],
             [
              0.8888888888888888,
              "#b5de2b"
             ],
             [
              1,
              "#fde725"
             ]
            ],
            "type": "histogram2dcontour"
           }
          ],
          "mesh3d": [
           {
            "colorbar": {
             "outlinewidth": 1,
             "tickcolor": "rgb(36,36,36)",
             "ticks": "outside"
            },
            "type": "mesh3d"
           }
          ],
          "parcoords": [
           {
            "line": {
             "colorbar": {
              "outlinewidth": 1,
              "tickcolor": "rgb(36,36,36)",
              "ticks": "outside"
             }
            },
            "type": "parcoords"
           }
          ],
          "pie": [
           {
            "automargin": true,
            "type": "pie"
           }
          ],
          "scatter": [
           {
            "marker": {
             "colorbar": {
              "outlinewidth": 1,
              "tickcolor": "rgb(36,36,36)",
              "ticks": "outside"
             }
            },
            "type": "scatter"
           }
          ],
          "scatter3d": [
           {
            "line": {
             "colorbar": {
              "outlinewidth": 1,
              "tickcolor": "rgb(36,36,36)",
              "ticks": "outside"
             }
            },
            "marker": {
             "colorbar": {
              "outlinewidth": 1,
              "tickcolor": "rgb(36,36,36)",
              "ticks": "outside"
             }
            },
            "type": "scatter3d"
           }
          ],
          "scattercarpet": [
           {
            "marker": {
             "colorbar": {
              "outlinewidth": 1,
              "tickcolor": "rgb(36,36,36)",
              "ticks": "outside"
             }
            },
            "type": "scattercarpet"
           }
          ],
          "scattergeo": [
           {
            "marker": {
             "colorbar": {
              "outlinewidth": 1,
              "tickcolor": "rgb(36,36,36)",
              "ticks": "outside"
             }
            },
            "type": "scattergeo"
           }
          ],
          "scattergl": [
           {
            "marker": {
             "colorbar": {
              "outlinewidth": 1,
              "tickcolor": "rgb(36,36,36)",
              "ticks": "outside"
             }
            },
            "type": "scattergl"
           }
          ],
          "scattermapbox": [
           {
            "marker": {
             "colorbar": {
              "outlinewidth": 1,
              "tickcolor": "rgb(36,36,36)",
              "ticks": "outside"
             }
            },
            "type": "scattermapbox"
           }
          ],
          "scatterpolar": [
           {
            "marker": {
             "colorbar": {
              "outlinewidth": 1,
              "tickcolor": "rgb(36,36,36)",
              "ticks": "outside"
             }
            },
            "type": "scatterpolar"
           }
          ],
          "scatterpolargl": [
           {
            "marker": {
             "colorbar": {
              "outlinewidth": 1,
              "tickcolor": "rgb(36,36,36)",
              "ticks": "outside"
             }
            },
            "type": "scatterpolargl"
           }
          ],
          "scatterternary": [
           {
            "marker": {
             "colorbar": {
              "outlinewidth": 1,
              "tickcolor": "rgb(36,36,36)",
              "ticks": "outside"
             }
            },
            "type": "scatterternary"
           }
          ],
          "surface": [
           {
            "colorbar": {
             "outlinewidth": 1,
             "tickcolor": "rgb(36,36,36)",
             "ticks": "outside"
            },
            "colorscale": [
             [
              0,
              "#440154"
             ],
             [
              0.1111111111111111,
              "#482878"
             ],
             [
              0.2222222222222222,
              "#3e4989"
             ],
             [
              0.3333333333333333,
              "#31688e"
             ],
             [
              0.4444444444444444,
              "#26828e"
             ],
             [
              0.5555555555555556,
              "#1f9e89"
             ],
             [
              0.6666666666666666,
              "#35b779"
             ],
             [
              0.7777777777777778,
              "#6ece58"
             ],
             [
              0.8888888888888888,
              "#b5de2b"
             ],
             [
              1,
              "#fde725"
             ]
            ],
            "type": "surface"
           }
          ],
          "table": [
           {
            "cells": {
             "fill": {
              "color": "rgb(237,237,237)"
             },
             "line": {
              "color": "white"
             }
            },
            "header": {
             "fill": {
              "color": "rgb(217,217,217)"
             },
             "line": {
              "color": "white"
             }
            },
            "type": "table"
           }
          ]
         },
         "layout": {
          "annotationdefaults": {
           "arrowhead": 0,
           "arrowwidth": 1
          },
          "coloraxis": {
           "colorbar": {
            "outlinewidth": 1,
            "tickcolor": "rgb(36,36,36)",
            "ticks": "outside"
           }
          },
          "colorscale": {
           "diverging": [
            [
             0,
             "rgb(103,0,31)"
            ],
            [
             0.1,
             "rgb(178,24,43)"
            ],
            [
             0.2,
             "rgb(214,96,77)"
            ],
            [
             0.3,
             "rgb(244,165,130)"
            ],
            [
             0.4,
             "rgb(253,219,199)"
            ],
            [
             0.5,
             "rgb(247,247,247)"
            ],
            [
             0.6,
             "rgb(209,229,240)"
            ],
            [
             0.7,
             "rgb(146,197,222)"
            ],
            [
             0.8,
             "rgb(67,147,195)"
            ],
            [
             0.9,
             "rgb(33,102,172)"
            ],
            [
             1,
             "rgb(5,48,97)"
            ]
           ],
           "sequential": [
            [
             0,
             "#440154"
            ],
            [
             0.1111111111111111,
             "#482878"
            ],
            [
             0.2222222222222222,
             "#3e4989"
            ],
            [
             0.3333333333333333,
             "#31688e"
            ],
            [
             0.4444444444444444,
             "#26828e"
            ],
            [
             0.5555555555555556,
             "#1f9e89"
            ],
            [
             0.6666666666666666,
             "#35b779"
            ],
            [
             0.7777777777777778,
             "#6ece58"
            ],
            [
             0.8888888888888888,
             "#b5de2b"
            ],
            [
             1,
             "#fde725"
            ]
           ],
           "sequentialminus": [
            [
             0,
             "#440154"
            ],
            [
             0.1111111111111111,
             "#482878"
            ],
            [
             0.2222222222222222,
             "#3e4989"
            ],
            [
             0.3333333333333333,
             "#31688e"
            ],
            [
             0.4444444444444444,
             "#26828e"
            ],
            [
             0.5555555555555556,
             "#1f9e89"
            ],
            [
             0.6666666666666666,
             "#35b779"
            ],
            [
             0.7777777777777778,
             "#6ece58"
            ],
            [
             0.8888888888888888,
             "#b5de2b"
            ],
            [
             1,
             "#fde725"
            ]
           ]
          },
          "colorway": [
           "#1F77B4",
           "#FF7F0E",
           "#2CA02C",
           "#D62728",
           "#9467BD",
           "#8C564B",
           "#E377C2",
           "#7F7F7F",
           "#BCBD22",
           "#17BECF"
          ],
          "font": {
           "color": "rgb(36,36,36)"
          },
          "geo": {
           "bgcolor": "white",
           "lakecolor": "white",
           "landcolor": "white",
           "showlakes": true,
           "showland": true,
           "subunitcolor": "white"
          },
          "hoverlabel": {
           "align": "left"
          },
          "hovermode": "closest",
          "mapbox": {
           "style": "light"
          },
          "paper_bgcolor": "white",
          "plot_bgcolor": "white",
          "polar": {
           "angularaxis": {
            "gridcolor": "rgb(232,232,232)",
            "linecolor": "rgb(36,36,36)",
            "showgrid": false,
            "showline": true,
            "ticks": "outside"
           },
           "bgcolor": "white",
           "radialaxis": {
            "gridcolor": "rgb(232,232,232)",
            "linecolor": "rgb(36,36,36)",
            "showgrid": false,
            "showline": true,
            "ticks": "outside"
           }
          },
          "scene": {
           "xaxis": {
            "backgroundcolor": "white",
            "gridcolor": "rgb(232,232,232)",
            "gridwidth": 2,
            "linecolor": "rgb(36,36,36)",
            "showbackground": true,
            "showgrid": false,
            "showline": true,
            "ticks": "outside",
            "zeroline": false,
            "zerolinecolor": "rgb(36,36,36)"
           },
           "yaxis": {
            "backgroundcolor": "white",
            "gridcolor": "rgb(232,232,232)",
            "gridwidth": 2,
            "linecolor": "rgb(36,36,36)",
            "showbackground": true,
            "showgrid": false,
            "showline": true,
            "ticks": "outside",
            "zeroline": false,
            "zerolinecolor": "rgb(36,36,36)"
           },
           "zaxis": {
            "backgroundcolor": "white",
            "gridcolor": "rgb(232,232,232)",
            "gridwidth": 2,
            "linecolor": "rgb(36,36,36)",
            "showbackground": true,
            "showgrid": false,
            "showline": true,
            "ticks": "outside",
            "zeroline": false,
            "zerolinecolor": "rgb(36,36,36)"
           }
          },
          "shapedefaults": {
           "fillcolor": "black",
           "line": {
            "width": 0
           },
           "opacity": 0.3
          },
          "ternary": {
           "aaxis": {
            "gridcolor": "rgb(232,232,232)",
            "linecolor": "rgb(36,36,36)",
            "showgrid": false,
            "showline": true,
            "ticks": "outside"
           },
           "baxis": {
            "gridcolor": "rgb(232,232,232)",
            "linecolor": "rgb(36,36,36)",
            "showgrid": false,
            "showline": true,
            "ticks": "outside"
           },
           "bgcolor": "white",
           "caxis": {
            "gridcolor": "rgb(232,232,232)",
            "linecolor": "rgb(36,36,36)",
            "showgrid": false,
            "showline": true,
            "ticks": "outside"
           }
          },
          "title": {
           "x": 0.05
          },
          "xaxis": {
           "automargin": true,
           "gridcolor": "rgb(232,232,232)",
           "linecolor": "rgb(36,36,36)",
           "showgrid": false,
           "showline": true,
           "ticks": "outside",
           "title": {
            "standoff": 15
           },
           "zeroline": false,
           "zerolinecolor": "rgb(36,36,36)"
          },
          "yaxis": {
           "automargin": true,
           "gridcolor": "rgb(232,232,232)",
           "linecolor": "rgb(36,36,36)",
           "showgrid": false,
           "showline": true,
           "ticks": "outside",
           "title": {
            "standoff": 15
           },
           "zeroline": false,
           "zerolinecolor": "rgb(36,36,36)"
          }
         }
        },
        "title": {
         "text": "Dynamic Subreddit Embedding Analogy Accuracy"
        },
        "xaxis": {
         "anchor": "y",
         "domain": [
          0,
          1
         ],
         "title": {
          "text": "Date"
         }
        },
        "yaxis": {
         "anchor": "x",
         "domain": [
          0,
          1
         ],
         "range": [
          0,
          1
         ],
         "tickformat": "%",
         "title": {
          "text": "Analogy Accuracy (k=1)"
         }
        }
       }
      },
      "text/html": [
       "<div>\n",
       "        \n",
       "        \n",
       "            <div id=\"777224d4-0f57-41f7-b9b8-5b08be494e10\" class=\"plotly-graph-div\" style=\"height:525px; width:100%;\"></div>\n",
       "            <script type=\"text/javascript\">\n",
       "                require([\"plotly\"], function(Plotly) {\n",
       "                    window.PLOTLYENV=window.PLOTLYENV || {};\n",
       "                    \n",
       "                if (document.getElementById(\"777224d4-0f57-41f7-b9b8-5b08be494e10\")) {\n",
       "                    Plotly.newPlot(\n",
       "                        '777224d4-0f57-41f7-b9b8-5b08be494e10',\n",
       "                        [{\"hovertemplate\": \"Date=%{x}<br>Analogy Accuracy (k=1)=%{y}<extra></extra>\", \"legendgroup\": \"\", \"line\": {\"color\": \"#1F77B4\", \"dash\": \"solid\", \"shape\": \"spline\"}, \"mode\": \"lines\", \"name\": \"\", \"orientation\": \"v\", \"showlegend\": false, \"type\": \"scatter\", \"x\": [\"2019-01-01T00:00:00\", \"2019-02-01T00:00:00\", \"2019-03-01T00:00:00\", \"2019-04-01T00:00:00\", \"2019-05-01T00:00:00\", \"2019-06-01T00:00:00\", \"2019-07-01T00:00:00\", \"2019-08-01T00:00:00\", \"2019-09-01T00:00:00\", \"2019-10-01T00:00:00\", \"2019-11-01T00:00:00\", \"2019-12-01T00:00:00\"], \"xaxis\": \"x\", \"y\": [0.7594501718213058, 0.663230240549828, 0.6718213058419243, 0.6735395189003437, 0.7027491408934707, 0.6116838487972509, 0.5996563573883161, 0.7010309278350515, 0.6288659793814433, 0.7628865979381443, 0.6735395189003437, 0.7092819614711032], \"yaxis\": \"y\"}],\n",
       "                        {\"annotations\": [{\"text\": \"u=67.98%, \\u03c3=0.05\", \"x\": \"2019-06-24\", \"y\": 0.6798112974765438}], \"legend\": {\"tracegroupgap\": 0}, \"shapes\": [{\"line\": {\"color\": \"rgb(50, 171, 96)\", \"width\": 2}, \"type\": \"line\", \"x0\": \"2019-01-01T00:00:00\", \"x1\": \"2019-12-01T00:00:00\", \"y0\": 0.6798112974765438, \"y1\": 0.6798112974765438}], \"template\": {\"data\": {\"bar\": [{\"error_x\": {\"color\": \"rgb(36,36,36)\"}, \"error_y\": {\"color\": \"rgb(36,36,36)\"}, \"marker\": {\"line\": {\"color\": \"white\", \"width\": 0.5}}, \"type\": \"bar\"}], \"barpolar\": [{\"marker\": {\"line\": {\"color\": \"white\", \"width\": 0.5}}, \"type\": \"barpolar\"}], \"carpet\": [{\"aaxis\": {\"endlinecolor\": \"rgb(36,36,36)\", \"gridcolor\": \"white\", \"linecolor\": \"white\", \"minorgridcolor\": \"white\", \"startlinecolor\": \"rgb(36,36,36)\"}, \"baxis\": {\"endlinecolor\": \"rgb(36,36,36)\", \"gridcolor\": \"white\", \"linecolor\": \"white\", \"minorgridcolor\": \"white\", \"startlinecolor\": \"rgb(36,36,36)\"}, \"type\": \"carpet\"}], \"choropleth\": [{\"colorbar\": {\"outlinewidth\": 1, \"tickcolor\": \"rgb(36,36,36)\", \"ticks\": \"outside\"}, \"type\": \"choropleth\"}], \"contour\": [{\"colorbar\": {\"outlinewidth\": 1, \"tickcolor\": \"rgb(36,36,36)\", \"ticks\": \"outside\"}, \"colorscale\": [[0.0, \"#440154\"], [0.1111111111111111, \"#482878\"], [0.2222222222222222, \"#3e4989\"], [0.3333333333333333, \"#31688e\"], [0.4444444444444444, \"#26828e\"], [0.5555555555555556, \"#1f9e89\"], [0.6666666666666666, \"#35b779\"], [0.7777777777777778, \"#6ece58\"], [0.8888888888888888, \"#b5de2b\"], [1.0, \"#fde725\"]], \"type\": \"contour\"}], \"contourcarpet\": [{\"colorbar\": {\"outlinewidth\": 1, \"tickcolor\": \"rgb(36,36,36)\", \"ticks\": \"outside\"}, \"type\": \"contourcarpet\"}], \"heatmap\": [{\"colorbar\": {\"outlinewidth\": 1, \"tickcolor\": \"rgb(36,36,36)\", \"ticks\": \"outside\"}, \"colorscale\": [[0.0, \"#440154\"], [0.1111111111111111, \"#482878\"], [0.2222222222222222, \"#3e4989\"], [0.3333333333333333, \"#31688e\"], [0.4444444444444444, \"#26828e\"], [0.5555555555555556, \"#1f9e89\"], [0.6666666666666666, \"#35b779\"], [0.7777777777777778, \"#6ece58\"], [0.8888888888888888, \"#b5de2b\"], [1.0, \"#fde725\"]], \"type\": \"heatmap\"}], \"heatmapgl\": [{\"colorbar\": {\"outlinewidth\": 1, \"tickcolor\": \"rgb(36,36,36)\", \"ticks\": \"outside\"}, \"colorscale\": [[0.0, \"#440154\"], [0.1111111111111111, \"#482878\"], [0.2222222222222222, \"#3e4989\"], [0.3333333333333333, \"#31688e\"], [0.4444444444444444, \"#26828e\"], [0.5555555555555556, \"#1f9e89\"], [0.6666666666666666, \"#35b779\"], [0.7777777777777778, \"#6ece58\"], [0.8888888888888888, \"#b5de2b\"], [1.0, \"#fde725\"]], \"type\": \"heatmapgl\"}], \"histogram\": [{\"marker\": {\"line\": {\"color\": \"white\", \"width\": 0.6}}, \"type\": \"histogram\"}], \"histogram2d\": [{\"colorbar\": {\"outlinewidth\": 1, \"tickcolor\": \"rgb(36,36,36)\", \"ticks\": \"outside\"}, \"colorscale\": [[0.0, \"#440154\"], [0.1111111111111111, \"#482878\"], [0.2222222222222222, \"#3e4989\"], [0.3333333333333333, \"#31688e\"], [0.4444444444444444, \"#26828e\"], [0.5555555555555556, \"#1f9e89\"], [0.6666666666666666, \"#35b779\"], [0.7777777777777778, \"#6ece58\"], [0.8888888888888888, \"#b5de2b\"], [1.0, \"#fde725\"]], \"type\": \"histogram2d\"}], \"histogram2dcontour\": [{\"colorbar\": {\"outlinewidth\": 1, \"tickcolor\": \"rgb(36,36,36)\", \"ticks\": \"outside\"}, \"colorscale\": [[0.0, \"#440154\"], [0.1111111111111111, \"#482878\"], [0.2222222222222222, \"#3e4989\"], [0.3333333333333333, \"#31688e\"], [0.4444444444444444, \"#26828e\"], [0.5555555555555556, \"#1f9e89\"], [0.6666666666666666, \"#35b779\"], [0.7777777777777778, \"#6ece58\"], [0.8888888888888888, \"#b5de2b\"], [1.0, \"#fde725\"]], \"type\": \"histogram2dcontour\"}], \"mesh3d\": [{\"colorbar\": {\"outlinewidth\": 1, \"tickcolor\": \"rgb(36,36,36)\", \"ticks\": \"outside\"}, \"type\": \"mesh3d\"}], \"parcoords\": [{\"line\": {\"colorbar\": {\"outlinewidth\": 1, \"tickcolor\": \"rgb(36,36,36)\", \"ticks\": \"outside\"}}, \"type\": \"parcoords\"}], \"pie\": [{\"automargin\": true, \"type\": \"pie\"}], \"scatter\": [{\"marker\": {\"colorbar\": {\"outlinewidth\": 1, \"tickcolor\": \"rgb(36,36,36)\", \"ticks\": \"outside\"}}, \"type\": \"scatter\"}], \"scatter3d\": [{\"line\": {\"colorbar\": {\"outlinewidth\": 1, \"tickcolor\": \"rgb(36,36,36)\", \"ticks\": \"outside\"}}, \"marker\": {\"colorbar\": {\"outlinewidth\": 1, \"tickcolor\": \"rgb(36,36,36)\", \"ticks\": \"outside\"}}, \"type\": \"scatter3d\"}], \"scattercarpet\": [{\"marker\": {\"colorbar\": {\"outlinewidth\": 1, \"tickcolor\": \"rgb(36,36,36)\", \"ticks\": \"outside\"}}, \"type\": \"scattercarpet\"}], \"scattergeo\": [{\"marker\": {\"colorbar\": {\"outlinewidth\": 1, \"tickcolor\": \"rgb(36,36,36)\", \"ticks\": \"outside\"}}, \"type\": \"scattergeo\"}], \"scattergl\": [{\"marker\": {\"colorbar\": {\"outlinewidth\": 1, \"tickcolor\": \"rgb(36,36,36)\", \"ticks\": \"outside\"}}, \"type\": \"scattergl\"}], \"scattermapbox\": [{\"marker\": {\"colorbar\": {\"outlinewidth\": 1, \"tickcolor\": \"rgb(36,36,36)\", \"ticks\": \"outside\"}}, \"type\": \"scattermapbox\"}], \"scatterpolar\": [{\"marker\": {\"colorbar\": {\"outlinewidth\": 1, \"tickcolor\": \"rgb(36,36,36)\", \"ticks\": \"outside\"}}, \"type\": \"scatterpolar\"}], \"scatterpolargl\": [{\"marker\": {\"colorbar\": {\"outlinewidth\": 1, \"tickcolor\": \"rgb(36,36,36)\", \"ticks\": \"outside\"}}, \"type\": \"scatterpolargl\"}], \"scatterternary\": [{\"marker\": {\"colorbar\": {\"outlinewidth\": 1, \"tickcolor\": \"rgb(36,36,36)\", \"ticks\": \"outside\"}}, \"type\": \"scatterternary\"}], \"surface\": [{\"colorbar\": {\"outlinewidth\": 1, \"tickcolor\": \"rgb(36,36,36)\", \"ticks\": \"outside\"}, \"colorscale\": [[0.0, \"#440154\"], [0.1111111111111111, \"#482878\"], [0.2222222222222222, \"#3e4989\"], [0.3333333333333333, \"#31688e\"], [0.4444444444444444, \"#26828e\"], [0.5555555555555556, \"#1f9e89\"], [0.6666666666666666, \"#35b779\"], [0.7777777777777778, \"#6ece58\"], [0.8888888888888888, \"#b5de2b\"], [1.0, \"#fde725\"]], \"type\": \"surface\"}], \"table\": [{\"cells\": {\"fill\": {\"color\": \"rgb(237,237,237)\"}, \"line\": {\"color\": \"white\"}}, \"header\": {\"fill\": {\"color\": \"rgb(217,217,217)\"}, \"line\": {\"color\": \"white\"}}, \"type\": \"table\"}]}, \"layout\": {\"annotationdefaults\": {\"arrowhead\": 0, \"arrowwidth\": 1}, \"coloraxis\": {\"colorbar\": {\"outlinewidth\": 1, \"tickcolor\": \"rgb(36,36,36)\", \"ticks\": \"outside\"}}, \"colorscale\": {\"diverging\": [[0.0, \"rgb(103,0,31)\"], [0.1, \"rgb(178,24,43)\"], [0.2, \"rgb(214,96,77)\"], [0.3, \"rgb(244,165,130)\"], [0.4, \"rgb(253,219,199)\"], [0.5, \"rgb(247,247,247)\"], [0.6, \"rgb(209,229,240)\"], [0.7, \"rgb(146,197,222)\"], [0.8, \"rgb(67,147,195)\"], [0.9, \"rgb(33,102,172)\"], [1.0, \"rgb(5,48,97)\"]], \"sequential\": [[0.0, \"#440154\"], [0.1111111111111111, \"#482878\"], [0.2222222222222222, \"#3e4989\"], [0.3333333333333333, \"#31688e\"], [0.4444444444444444, \"#26828e\"], [0.5555555555555556, \"#1f9e89\"], [0.6666666666666666, \"#35b779\"], [0.7777777777777778, \"#6ece58\"], [0.8888888888888888, \"#b5de2b\"], [1.0, \"#fde725\"]], \"sequentialminus\": [[0.0, \"#440154\"], [0.1111111111111111, \"#482878\"], [0.2222222222222222, \"#3e4989\"], [0.3333333333333333, \"#31688e\"], [0.4444444444444444, \"#26828e\"], [0.5555555555555556, \"#1f9e89\"], [0.6666666666666666, \"#35b779\"], [0.7777777777777778, \"#6ece58\"], [0.8888888888888888, \"#b5de2b\"], [1.0, \"#fde725\"]]}, \"colorway\": [\"#1F77B4\", \"#FF7F0E\", \"#2CA02C\", \"#D62728\", \"#9467BD\", \"#8C564B\", \"#E377C2\", \"#7F7F7F\", \"#BCBD22\", \"#17BECF\"], \"font\": {\"color\": \"rgb(36,36,36)\"}, \"geo\": {\"bgcolor\": \"white\", \"lakecolor\": \"white\", \"landcolor\": \"white\", \"showlakes\": true, \"showland\": true, \"subunitcolor\": \"white\"}, \"hoverlabel\": {\"align\": \"left\"}, \"hovermode\": \"closest\", \"mapbox\": {\"style\": \"light\"}, \"paper_bgcolor\": \"white\", \"plot_bgcolor\": \"white\", \"polar\": {\"angularaxis\": {\"gridcolor\": \"rgb(232,232,232)\", \"linecolor\": \"rgb(36,36,36)\", \"showgrid\": false, \"showline\": true, \"ticks\": \"outside\"}, \"bgcolor\": \"white\", \"radialaxis\": {\"gridcolor\": \"rgb(232,232,232)\", \"linecolor\": \"rgb(36,36,36)\", \"showgrid\": false, \"showline\": true, \"ticks\": \"outside\"}}, \"scene\": {\"xaxis\": {\"backgroundcolor\": \"white\", \"gridcolor\": \"rgb(232,232,232)\", \"gridwidth\": 2, \"linecolor\": \"rgb(36,36,36)\", \"showbackground\": true, \"showgrid\": false, \"showline\": true, \"ticks\": \"outside\", \"zeroline\": false, \"zerolinecolor\": \"rgb(36,36,36)\"}, \"yaxis\": {\"backgroundcolor\": \"white\", \"gridcolor\": \"rgb(232,232,232)\", \"gridwidth\": 2, \"linecolor\": \"rgb(36,36,36)\", \"showbackground\": true, \"showgrid\": false, \"showline\": true, \"ticks\": \"outside\", \"zeroline\": false, \"zerolinecolor\": \"rgb(36,36,36)\"}, \"zaxis\": {\"backgroundcolor\": \"white\", \"gridcolor\": \"rgb(232,232,232)\", \"gridwidth\": 2, \"linecolor\": \"rgb(36,36,36)\", \"showbackground\": true, \"showgrid\": false, \"showline\": true, \"ticks\": \"outside\", \"zeroline\": false, \"zerolinecolor\": \"rgb(36,36,36)\"}}, \"shapedefaults\": {\"fillcolor\": \"black\", \"line\": {\"width\": 0}, \"opacity\": 0.3}, \"ternary\": {\"aaxis\": {\"gridcolor\": \"rgb(232,232,232)\", \"linecolor\": \"rgb(36,36,36)\", \"showgrid\": false, \"showline\": true, \"ticks\": \"outside\"}, \"baxis\": {\"gridcolor\": \"rgb(232,232,232)\", \"linecolor\": \"rgb(36,36,36)\", \"showgrid\": false, \"showline\": true, \"ticks\": \"outside\"}, \"bgcolor\": \"white\", \"caxis\": {\"gridcolor\": \"rgb(232,232,232)\", \"linecolor\": \"rgb(36,36,36)\", \"showgrid\": false, \"showline\": true, \"ticks\": \"outside\"}}, \"title\": {\"x\": 0.05}, \"xaxis\": {\"automargin\": true, \"gridcolor\": \"rgb(232,232,232)\", \"linecolor\": \"rgb(36,36,36)\", \"showgrid\": false, \"showline\": true, \"ticks\": \"outside\", \"title\": {\"standoff\": 15}, \"zeroline\": false, \"zerolinecolor\": \"rgb(36,36,36)\"}, \"yaxis\": {\"automargin\": true, \"gridcolor\": \"rgb(232,232,232)\", \"linecolor\": \"rgb(36,36,36)\", \"showgrid\": false, \"showline\": true, \"ticks\": \"outside\", \"title\": {\"standoff\": 15}, \"zeroline\": false, \"zerolinecolor\": \"rgb(36,36,36)\"}}}, \"title\": {\"text\": \"Dynamic Subreddit Embedding Analogy Accuracy\"}, \"xaxis\": {\"anchor\": \"y\", \"domain\": [0.0, 1.0], \"title\": {\"text\": \"Date\"}}, \"yaxis\": {\"anchor\": \"x\", \"domain\": [0.0, 1.0], \"range\": [0, 1], \"tickformat\": \"%\", \"title\": {\"text\": \"Analogy Accuracy (k=1)\"}}},\n",
       "                        {\"responsive\": true}\n",
       "                    ).then(function(){\n",
       "                            \n",
       "var gd = document.getElementById('777224d4-0f57-41f7-b9b8-5b08be494e10');\n",
       "var x = new MutationObserver(function (mutations, observer) {{\n",
       "        var display = window.getComputedStyle(gd).display;\n",
       "        if (!display || display === 'none') {{\n",
       "            console.log([gd, 'removed!']);\n",
       "            Plotly.purge(gd);\n",
       "            observer.disconnect();\n",
       "        }}\n",
       "}});\n",
       "\n",
       "// Listen for the removal of the full notebook cells\n",
       "var notebookContainer = gd.closest('#notebook-container');\n",
       "if (notebookContainer) {{\n",
       "    x.observe(notebookContainer, {childList: true});\n",
       "}}\n",
       "\n",
       "// Listen for the clearing of the current output cell\n",
       "var outputEl = gd.closest('.output');\n",
       "if (outputEl) {{\n",
       "    x.observe(outputEl, {childList: true});\n",
       "}}\n",
       "\n",
       "                        })\n",
       "                };\n",
       "                });\n",
       "            </script>\n",
       "        </div>"
      ]
     },
     "metadata": {},
     "output_type": "display_data"
    }
   ],
   "source": [
    "import plotly.express as px\n",
    "args = {\n",
    "    \"line_shape\": \"spline\",\n",
    "    \"title\":  \"Dynamic Subreddit Embedding Analogy Accuracy\",\n",
    "    \"template\": \"simple_white\",\n",
    "    \"labels\": {\"x\": \"Date\", \"y\":\"Analogy Accuracy (k=1)\"}\n",
    "}\n",
    "\n",
    "u = np.mean(scores)\n",
    "d = np.std(scores)\n",
    "layout = {\n",
    "            \"yaxis\": {\"tickformat\": '%',\"range\":[0,1] },\n",
    "            # Mean Horizontal\n",
    "            \"shapes\": [{\n",
    "                'type': 'line',\n",
    "                'x0': dates[0],\n",
    "                'y0': u,\n",
    "                'x1': dates[-1],\n",
    "                'y1': u,\n",
    "                'line': {\n",
    "                    'color': 'rgb(50, 171, 96)',\n",
    "                    'width': 2},\n",
    "                },\n",
    "            ],\n",
    "                \"annotations\": [{\"x\":\"2019-06-24\",\"y\":u,\"text\":\"u={:.2f}%, σ={:0.2f}\".format(u*100,d)}]\n",
    "         }\n",
    "\n",
    "fig = px.line(x=dates,y=scores,**args)\n",
    "fig.update_layout(layout)\n",
    "fig.write_html(\"visualizations/temporal/{}_accuracy.html\".format(TIME_FRAME))\n",
    "fig.show()"
   ]
  },
  {
   "cell_type": "code",
   "execution_count": null,
   "metadata": {},
   "outputs": [],
   "source": []
  }
 ],
 "metadata": {
  "kernelspec": {
   "display_name": "Python 3",
   "language": "python",
   "name": "python3"
  },
  "language_info": {
   "codemirror_mode": {
    "name": "ipython",
    "version": 3
   },
   "file_extension": ".py",
   "mimetype": "text/x-python",
   "name": "python",
   "nbconvert_exporter": "python",
   "pygments_lexer": "ipython3",
   "version": "3.7.7"
  }
 },
 "nbformat": 4,
 "nbformat_minor": 4
}
