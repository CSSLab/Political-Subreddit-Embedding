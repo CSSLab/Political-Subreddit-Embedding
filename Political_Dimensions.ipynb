{
 "cells": [
  {
   "cell_type": "code",
   "execution_count": 1,
   "metadata": {},
   "outputs": [
    {
     "name": "stderr",
     "output_type": "stream",
     "text": [
      "/h/224/cameron/miniconda3/envs/pyspark_env/lib/python3.7/site-packages/tqdm/std.py:668: FutureWarning: The Panel class is removed from pandas. Accessing it from the top-level namespace will also be removed in the next version\n",
      "  from pandas import Panel\n"
     ]
    }
   ],
   "source": [
    "from utils import load_embedding, parse_tup, cos_sim, cos_dist\n",
    "from sklearn.decomposition import PCA\n",
    "import plotly.graph_objects as go\n",
    "import plotly.express as px\n",
    "from tqdm.auto import tqdm\n",
    "import pandas as pd\n",
    "import numpy as np\n",
    "tqdm.pandas()\n",
    "TIME_FRAME = \"monthly\"\n",
    "# from utils import CANDIDATE_SUBS\n",
    "left_candidates = [\"JoeBiden\",\"SandersForPresident\",\"BaemyKlobaechar\",\"ElizabethWarren\",\"Pete_Buttigieg\",\"YangForPresidentHQ\"]\n",
    "right_candidates = [\"The_Donald\"]\n",
    "mapping = {}\n",
    "for a,b in zip(left_candidates+right_candidates,px.colors.qualitative.Plotly):\n",
    "    mapping[a] = b"
   ]
  },
  {
   "cell_type": "code",
   "execution_count": 2,
   "metadata": {
    "scrolled": false
   },
   "outputs": [
    {
     "data": {
      "text/html": [
       "<div>\n",
       "<style scoped>\n",
       "    .dataframe tbody tr th:only-of-type {\n",
       "        vertical-align: middle;\n",
       "    }\n",
       "\n",
       "    .dataframe tbody tr th {\n",
       "        vertical-align: top;\n",
       "    }\n",
       "\n",
       "    .dataframe thead th {\n",
       "        text-align: right;\n",
       "    }\n",
       "</style>\n",
       "<table border=\"1\" class=\"dataframe\">\n",
       "  <thead>\n",
       "    <tr style=\"text-align: right;\">\n",
       "      <th></th>\n",
       "      <th>1</th>\n",
       "      <th>2</th>\n",
       "      <th>3</th>\n",
       "      <th>4</th>\n",
       "      <th>5</th>\n",
       "      <th>6</th>\n",
       "      <th>7</th>\n",
       "      <th>8</th>\n",
       "      <th>9</th>\n",
       "      <th>10</th>\n",
       "      <th>...</th>\n",
       "      <th>141</th>\n",
       "      <th>142</th>\n",
       "      <th>143</th>\n",
       "      <th>144</th>\n",
       "      <th>145</th>\n",
       "      <th>146</th>\n",
       "      <th>147</th>\n",
       "      <th>148</th>\n",
       "      <th>149</th>\n",
       "      <th>150</th>\n",
       "    </tr>\n",
       "    <tr>\n",
       "      <th>subreddit</th>\n",
       "      <th></th>\n",
       "      <th></th>\n",
       "      <th></th>\n",
       "      <th></th>\n",
       "      <th></th>\n",
       "      <th></th>\n",
       "      <th></th>\n",
       "      <th></th>\n",
       "      <th></th>\n",
       "      <th></th>\n",
       "      <th></th>\n",
       "      <th></th>\n",
       "      <th></th>\n",
       "      <th></th>\n",
       "      <th></th>\n",
       "      <th></th>\n",
       "      <th></th>\n",
       "      <th></th>\n",
       "      <th></th>\n",
       "      <th></th>\n",
       "      <th></th>\n",
       "    </tr>\n",
       "  </thead>\n",
       "  <tbody>\n",
       "    <tr>\n",
       "      <th>SquaredCircle</th>\n",
       "      <td>0.134779</td>\n",
       "      <td>0.043821</td>\n",
       "      <td>-0.011876</td>\n",
       "      <td>-0.066840</td>\n",
       "      <td>0.020694</td>\n",
       "      <td>-0.055040</td>\n",
       "      <td>0.017334</td>\n",
       "      <td>0.004694</td>\n",
       "      <td>-0.082625</td>\n",
       "      <td>0.124690</td>\n",
       "      <td>...</td>\n",
       "      <td>-0.061495</td>\n",
       "      <td>-0.183028</td>\n",
       "      <td>-0.099551</td>\n",
       "      <td>0.031485</td>\n",
       "      <td>-0.040188</td>\n",
       "      <td>0.143292</td>\n",
       "      <td>0.040536</td>\n",
       "      <td>-0.008464</td>\n",
       "      <td>0.041863</td>\n",
       "      <td>-0.172806</td>\n",
       "    </tr>\n",
       "    <tr>\n",
       "      <th>AskReddit</th>\n",
       "      <td>0.135559</td>\n",
       "      <td>0.008985</td>\n",
       "      <td>-0.037187</td>\n",
       "      <td>0.000455</td>\n",
       "      <td>0.022365</td>\n",
       "      <td>-0.006085</td>\n",
       "      <td>-0.017524</td>\n",
       "      <td>0.040978</td>\n",
       "      <td>-0.054059</td>\n",
       "      <td>0.069235</td>\n",
       "      <td>...</td>\n",
       "      <td>-0.039066</td>\n",
       "      <td>-0.043172</td>\n",
       "      <td>-0.106157</td>\n",
       "      <td>0.105634</td>\n",
       "      <td>-0.045787</td>\n",
       "      <td>0.063289</td>\n",
       "      <td>0.057239</td>\n",
       "      <td>-0.198356</td>\n",
       "      <td>0.061649</td>\n",
       "      <td>-0.023330</td>\n",
       "    </tr>\n",
       "    <tr>\n",
       "      <th>politics</th>\n",
       "      <td>-0.042422</td>\n",
       "      <td>0.024062</td>\n",
       "      <td>-0.165820</td>\n",
       "      <td>0.046046</td>\n",
       "      <td>-0.080393</td>\n",
       "      <td>0.024717</td>\n",
       "      <td>0.044797</td>\n",
       "      <td>0.094564</td>\n",
       "      <td>-0.090970</td>\n",
       "      <td>0.013700</td>\n",
       "      <td>...</td>\n",
       "      <td>0.034073</td>\n",
       "      <td>-0.087685</td>\n",
       "      <td>-0.129094</td>\n",
       "      <td>0.110916</td>\n",
       "      <td>0.047369</td>\n",
       "      <td>0.014214</td>\n",
       "      <td>0.025798</td>\n",
       "      <td>-0.121198</td>\n",
       "      <td>0.155587</td>\n",
       "      <td>-0.057969</td>\n",
       "    </tr>\n",
       "    <tr>\n",
       "      <th>memes</th>\n",
       "      <td>0.002449</td>\n",
       "      <td>-0.014680</td>\n",
       "      <td>-0.031889</td>\n",
       "      <td>-0.051864</td>\n",
       "      <td>0.044783</td>\n",
       "      <td>-0.055175</td>\n",
       "      <td>0.063965</td>\n",
       "      <td>0.009760</td>\n",
       "      <td>-0.135631</td>\n",
       "      <td>0.106458</td>\n",
       "      <td>...</td>\n",
       "      <td>0.024190</td>\n",
       "      <td>-0.042757</td>\n",
       "      <td>-0.033878</td>\n",
       "      <td>0.041545</td>\n",
       "      <td>-0.001212</td>\n",
       "      <td>0.076116</td>\n",
       "      <td>0.036539</td>\n",
       "      <td>-0.102034</td>\n",
       "      <td>0.054330</td>\n",
       "      <td>-0.073219</td>\n",
       "    </tr>\n",
       "    <tr>\n",
       "      <th>teenagers</th>\n",
       "      <td>0.026058</td>\n",
       "      <td>0.069684</td>\n",
       "      <td>0.024581</td>\n",
       "      <td>0.009624</td>\n",
       "      <td>-0.029134</td>\n",
       "      <td>0.076384</td>\n",
       "      <td>0.078542</td>\n",
       "      <td>0.052331</td>\n",
       "      <td>-0.106552</td>\n",
       "      <td>0.096511</td>\n",
       "      <td>...</td>\n",
       "      <td>0.013686</td>\n",
       "      <td>-0.014345</td>\n",
       "      <td>-0.004146</td>\n",
       "      <td>0.055941</td>\n",
       "      <td>-0.009106</td>\n",
       "      <td>0.085962</td>\n",
       "      <td>0.030374</td>\n",
       "      <td>-0.028468</td>\n",
       "      <td>0.069988</td>\n",
       "      <td>-0.039540</td>\n",
       "    </tr>\n",
       "    <tr>\n",
       "      <th>...</th>\n",
       "      <td>...</td>\n",
       "      <td>...</td>\n",
       "      <td>...</td>\n",
       "      <td>...</td>\n",
       "      <td>...</td>\n",
       "      <td>...</td>\n",
       "      <td>...</td>\n",
       "      <td>...</td>\n",
       "      <td>...</td>\n",
       "      <td>...</td>\n",
       "      <td>...</td>\n",
       "      <td>...</td>\n",
       "      <td>...</td>\n",
       "      <td>...</td>\n",
       "      <td>...</td>\n",
       "      <td>...</td>\n",
       "      <td>...</td>\n",
       "      <td>...</td>\n",
       "      <td>...</td>\n",
       "      <td>...</td>\n",
       "      <td>...</td>\n",
       "    </tr>\n",
       "    <tr>\n",
       "      <th>NRV</th>\n",
       "      <td>0.122154</td>\n",
       "      <td>0.130032</td>\n",
       "      <td>-0.243602</td>\n",
       "      <td>-0.032611</td>\n",
       "      <td>-0.038153</td>\n",
       "      <td>-0.014279</td>\n",
       "      <td>-0.065262</td>\n",
       "      <td>-0.001528</td>\n",
       "      <td>-0.099809</td>\n",
       "      <td>-0.018441</td>\n",
       "      <td>...</td>\n",
       "      <td>-0.054521</td>\n",
       "      <td>-0.062958</td>\n",
       "      <td>-0.112747</td>\n",
       "      <td>0.098669</td>\n",
       "      <td>-0.049754</td>\n",
       "      <td>-0.015509</td>\n",
       "      <td>0.117170</td>\n",
       "      <td>-0.216936</td>\n",
       "      <td>0.008118</td>\n",
       "      <td>-0.123790</td>\n",
       "    </tr>\n",
       "    <tr>\n",
       "      <th>UTT</th>\n",
       "      <td>0.135902</td>\n",
       "      <td>0.057751</td>\n",
       "      <td>-0.200740</td>\n",
       "      <td>-0.035059</td>\n",
       "      <td>-0.005987</td>\n",
       "      <td>-0.000219</td>\n",
       "      <td>-0.083139</td>\n",
       "      <td>0.033362</td>\n",
       "      <td>-0.119045</td>\n",
       "      <td>0.125617</td>\n",
       "      <td>...</td>\n",
       "      <td>-0.019219</td>\n",
       "      <td>-0.092823</td>\n",
       "      <td>-0.096780</td>\n",
       "      <td>0.095344</td>\n",
       "      <td>-0.114785</td>\n",
       "      <td>0.023995</td>\n",
       "      <td>0.075017</td>\n",
       "      <td>-0.151421</td>\n",
       "      <td>0.048709</td>\n",
       "      <td>-0.065192</td>\n",
       "    </tr>\n",
       "    <tr>\n",
       "      <th>MMU</th>\n",
       "      <td>0.119556</td>\n",
       "      <td>0.049138</td>\n",
       "      <td>-0.134668</td>\n",
       "      <td>0.009505</td>\n",
       "      <td>0.023105</td>\n",
       "      <td>-0.025217</td>\n",
       "      <td>-0.026836</td>\n",
       "      <td>-0.026815</td>\n",
       "      <td>-0.198236</td>\n",
       "      <td>0.021817</td>\n",
       "      <td>...</td>\n",
       "      <td>-0.075906</td>\n",
       "      <td>-0.067976</td>\n",
       "      <td>-0.035603</td>\n",
       "      <td>-0.009426</td>\n",
       "      <td>-0.084691</td>\n",
       "      <td>0.068536</td>\n",
       "      <td>-0.040373</td>\n",
       "      <td>-0.134642</td>\n",
       "      <td>0.068508</td>\n",
       "      <td>-0.132696</td>\n",
       "    </tr>\n",
       "    <tr>\n",
       "      <th>houghton</th>\n",
       "      <td>0.065995</td>\n",
       "      <td>0.083532</td>\n",
       "      <td>-0.195394</td>\n",
       "      <td>0.019086</td>\n",
       "      <td>0.061049</td>\n",
       "      <td>-0.019786</td>\n",
       "      <td>0.072973</td>\n",
       "      <td>-0.017989</td>\n",
       "      <td>-0.196128</td>\n",
       "      <td>0.026056</td>\n",
       "      <td>...</td>\n",
       "      <td>-0.004768</td>\n",
       "      <td>-0.076079</td>\n",
       "      <td>-0.103230</td>\n",
       "      <td>0.060556</td>\n",
       "      <td>-0.111134</td>\n",
       "      <td>0.028949</td>\n",
       "      <td>-0.011122</td>\n",
       "      <td>-0.188779</td>\n",
       "      <td>0.003880</td>\n",
       "      <td>-0.115659</td>\n",
       "    </tr>\n",
       "    <tr>\n",
       "      <th>universityofredlands</th>\n",
       "      <td>0.179449</td>\n",
       "      <td>0.083221</td>\n",
       "      <td>-0.167956</td>\n",
       "      <td>-0.024700</td>\n",
       "      <td>0.049997</td>\n",
       "      <td>-0.046135</td>\n",
       "      <td>0.017856</td>\n",
       "      <td>-0.078710</td>\n",
       "      <td>-0.128699</td>\n",
       "      <td>0.092061</td>\n",
       "      <td>...</td>\n",
       "      <td>-0.024964</td>\n",
       "      <td>-0.054390</td>\n",
       "      <td>-0.168895</td>\n",
       "      <td>0.087481</td>\n",
       "      <td>-0.119883</td>\n",
       "      <td>0.006224</td>\n",
       "      <td>0.023883</td>\n",
       "      <td>-0.181816</td>\n",
       "      <td>0.064438</td>\n",
       "      <td>-0.048578</td>\n",
       "    </tr>\n",
       "  </tbody>\n",
       "</table>\n",
       "<p>10541 rows × 150 columns</p>\n",
       "</div>"
      ],
      "text/plain": [
       "                           1         2         3         4         5    \\\n",
       "subreddit                                                                \n",
       "SquaredCircle         0.134779  0.043821 -0.011876 -0.066840  0.020694   \n",
       "AskReddit             0.135559  0.008985 -0.037187  0.000455  0.022365   \n",
       "politics             -0.042422  0.024062 -0.165820  0.046046 -0.080393   \n",
       "memes                 0.002449 -0.014680 -0.031889 -0.051864  0.044783   \n",
       "teenagers             0.026058  0.069684  0.024581  0.009624 -0.029134   \n",
       "...                        ...       ...       ...       ...       ...   \n",
       "NRV                   0.122154  0.130032 -0.243602 -0.032611 -0.038153   \n",
       "UTT                   0.135902  0.057751 -0.200740 -0.035059 -0.005987   \n",
       "MMU                   0.119556  0.049138 -0.134668  0.009505  0.023105   \n",
       "houghton              0.065995  0.083532 -0.195394  0.019086  0.061049   \n",
       "universityofredlands  0.179449  0.083221 -0.167956 -0.024700  0.049997   \n",
       "\n",
       "                           6         7         8         9         10   ...  \\\n",
       "subreddit                                                               ...   \n",
       "SquaredCircle        -0.055040  0.017334  0.004694 -0.082625  0.124690  ...   \n",
       "AskReddit            -0.006085 -0.017524  0.040978 -0.054059  0.069235  ...   \n",
       "politics              0.024717  0.044797  0.094564 -0.090970  0.013700  ...   \n",
       "memes                -0.055175  0.063965  0.009760 -0.135631  0.106458  ...   \n",
       "teenagers             0.076384  0.078542  0.052331 -0.106552  0.096511  ...   \n",
       "...                        ...       ...       ...       ...       ...  ...   \n",
       "NRV                  -0.014279 -0.065262 -0.001528 -0.099809 -0.018441  ...   \n",
       "UTT                  -0.000219 -0.083139  0.033362 -0.119045  0.125617  ...   \n",
       "MMU                  -0.025217 -0.026836 -0.026815 -0.198236  0.021817  ...   \n",
       "houghton             -0.019786  0.072973 -0.017989 -0.196128  0.026056  ...   \n",
       "universityofredlands -0.046135  0.017856 -0.078710 -0.128699  0.092061  ...   \n",
       "\n",
       "                           141       142       143       144       145  \\\n",
       "subreddit                                                                \n",
       "SquaredCircle        -0.061495 -0.183028 -0.099551  0.031485 -0.040188   \n",
       "AskReddit            -0.039066 -0.043172 -0.106157  0.105634 -0.045787   \n",
       "politics              0.034073 -0.087685 -0.129094  0.110916  0.047369   \n",
       "memes                 0.024190 -0.042757 -0.033878  0.041545 -0.001212   \n",
       "teenagers             0.013686 -0.014345 -0.004146  0.055941 -0.009106   \n",
       "...                        ...       ...       ...       ...       ...   \n",
       "NRV                  -0.054521 -0.062958 -0.112747  0.098669 -0.049754   \n",
       "UTT                  -0.019219 -0.092823 -0.096780  0.095344 -0.114785   \n",
       "MMU                  -0.075906 -0.067976 -0.035603 -0.009426 -0.084691   \n",
       "houghton             -0.004768 -0.076079 -0.103230  0.060556 -0.111134   \n",
       "universityofredlands -0.024964 -0.054390 -0.168895  0.087481 -0.119883   \n",
       "\n",
       "                           146       147       148       149       150  \n",
       "subreddit                                                               \n",
       "SquaredCircle         0.143292  0.040536 -0.008464  0.041863 -0.172806  \n",
       "AskReddit             0.063289  0.057239 -0.198356  0.061649 -0.023330  \n",
       "politics              0.014214  0.025798 -0.121198  0.155587 -0.057969  \n",
       "memes                 0.076116  0.036539 -0.102034  0.054330 -0.073219  \n",
       "teenagers             0.085962  0.030374 -0.028468  0.069988 -0.039540  \n",
       "...                        ...       ...       ...       ...       ...  \n",
       "NRV                  -0.015509  0.117170 -0.216936  0.008118 -0.123790  \n",
       "UTT                   0.023995  0.075017 -0.151421  0.048709 -0.065192  \n",
       "MMU                   0.068536 -0.040373 -0.134642  0.068508 -0.132696  \n",
       "houghton              0.028949 -0.011122 -0.188779  0.003880 -0.115659  \n",
       "universityofredlands  0.006224  0.023883 -0.181816  0.064438 -0.048578  \n",
       "\n",
       "[10541 rows x 150 columns]"
      ]
     },
     "execution_count": 2,
     "metadata": {},
     "output_type": "execute_result"
    }
   ],
   "source": [
    "embedding = load_embedding(\"/h/224/cameron/Political-Subreddit-Embedding/trained_embeddings/vecs_0.0028_15.0.txt\",split=False)\n",
    "embedding"
   ]
  },
  {
   "cell_type": "markdown",
   "metadata": {},
   "source": [
    "## Create Dimensions"
   ]
  },
  {
   "cell_type": "code",
   "execution_count": 3,
   "metadata": {},
   "outputs": [],
   "source": [
    "from dataclasses import dataclass\n",
    "@dataclass\n",
    "class Dimension:\n",
    "    name: str\n",
    "    subreddits: list\n",
    "    tags: tuple"
   ]
  },
  {
   "cell_type": "code",
   "execution_count": 4,
   "metadata": {
    "scrolled": false
   },
   "outputs": [],
   "source": [
    "def calculate_dim(dimensions,e,return_stats=False):\n",
    "    \"\"\"\n",
    "        Takes in a list of tuples and calcualtes the dimension from ap -> a. IE if we have the subreddits AskMen (a) and\n",
    "        AskWomen (ap). The \"masculine\" vector transformation is a - ap.\n",
    "        Returns the average transformation and a tuple containing the mean and std deviation similarity between the individual \n",
    "        transformations.\n",
    "    \"\"\"\n",
    "    dimensions = dimensions if type(dimensions) is list else [dimensions]\n",
    "    calc_trans = lambda vec_a,vec_ap : vec_a - vec_ap \n",
    "    transformations = np.array([calc_trans(e.loc[a],e.loc[ap]) for (a,ap) in dimensions])\n",
    "    transformation = transformations.flatten() if transformations.shape[0] == 1 else np.mean(transformations,axis=0)\n",
    "    if return_stats:\n",
    "        sims = [cos_sim(t1,t2)  for t1 in list(transformations) for t2 in list(transformations) if not np.all(t1==t2)]\n",
    "        return transformation, (np.mean(sims),np.std(sims))\n",
    "    return transformation\n",
    "\n",
    "project_dim = lambda dim,sub,e : cos_sim(dim,e.loc[sub])\n",
    "\n",
    "# sorry everyone for this gross one-liner\n",
    "get_closest = lambda sub,e,k=20  : list(e.apply(lambda x : cos_sim(np.array(x),e.loc[sub]),axis=1,result_type=\"expand\").sort_values(0,ascending=False).head(k).index) "
   ]
  },
  {
   "cell_type": "markdown",
   "metadata": {},
   "source": [
    "*Reason for including /r/uncensorednews in the globalism subreddit*\n",
    "\n",
    ">Anti-globalists. These people like Alex Jones, Steve Bannon, Sean Hannity, and conspiracy theories—and they talk about them an awful lot. They are far less enamored (yet still mildly obsessed) with George Soros, who funds everyone they hate, as well as Emmanuel Macron, John McCain, and Paul Ryan. Elsewhere, they can be seen on /r/uncensorednews (primarily news about bad things perpetrated by members of minority groups and left-wing people), and /r/conspiracy. Their hyperbolic conspiratorial language might sound absurd, but it’s become an increasingly coherent and important part of The_Donald since the subreddit began.\n",
    "    **Most common words: globalist scum, the establishment, puppets, elites, masters, George Soros, cultural Marxist**"
   ]
  },
  {
   "cell_type": "code",
   "execution_count": 51,
   "metadata": {},
   "outputs": [],
   "source": [
    "religious_subs = [(\"Christianity\",\"exchristian\"),\n",
    "                  (\"TraditionalCatholics\",\"excatholic\"),\n",
    "                  (\"lds\",\"exmormon\"),(\"islam\",\"exmuslim\")]\n",
    "\n",
    "ideological_subs =[(\"Conservative\",\"progressive\"),\n",
    "                   (\"Republican\",\"democrats\"),\n",
    "                   (\"conservatives\",\"SocialDemocracy\"),\n",
    "                   (\"TheNewRight\",\"WeAreNotAsking\"),\n",
    "                   (\"neoliberal\",\"dsa\"),\n",
    "                   (\"Capitalism\",\"capitalism_in_decay\"),\n",
    "                   (\"walkaway\",\"LateStageImperialism\")]\n",
    "\n",
    "bc_subs = [(\"prolife\",\"prochoice\"),\n",
    "           (\"prolife\",\"birthcontrol\")]\n",
    "\n",
    "gc_subs= (\"progun\",\"GunsAreCool\")\n",
    "age_subs = [(\"RedditForGrownups\",\"teenagers\"),\n",
    "            (\"RedditForGrownups\",\"teenagersnew\")]\n",
    "\n",
    "war_subs = [(\"CredibleDefense\",\"EndlessWar\"),\n",
    "            (\"WarCollege\",\"EndlessWar\"),\n",
    "            (\"Intelligence\",\"EndlessWar\")]\n",
    "\n",
    "glob_subs = [(\"neoliberal\",\"LateStageImperialism\"),\n",
    "             (\"Economics\",\"capitalism_in_decay\"),\n",
    "             (\"Libertarian\",\"EnoughLibertarianSpam\")\n",
    "            ]\n",
    "\n",
    "\n",
    "religious_dim = Dimension(\"Religiosity\",religious_subs,(\"More Religious\",\"More Secular\"))\n",
    "ideological_dim = Dimension(\"Ideology\",ideological_subs,(\"Further Right\",\"Further Left\"))\n",
    "bc_dim = Dimension(\"Birth Control\",bc_subs,(\"Conservative\",\"Progressive\"))\n",
    "gc_dim = Dimension(\"Gun Control\",gc_subs,(\"Less Regulation\",\"More Regulation\"))\n",
    "age_dim = Dimension(\"Age\",age_subs,(\"Older\",\"Younger\"))\n",
    "war_dim = Dimension(\"War\",war_subs,(\"Hawkish\",\"Pascifistic\"))\n",
    "glob_dim = Dimension(\"Globalism\",glob_subs,(\"More Globalism\",\"Less Globalism\"))\n",
    "\n",
    "dims = [religious_dim,ideological_dim,bc_dim,gc_dim,age_dim,war_dim,glob_dim]"
   ]
  },
  {
   "cell_type": "code",
   "execution_count": 6,
   "metadata": {
    "scrolled": true
   },
   "outputs": [
    {
     "data": {
      "application/vnd.jupyter.widget-view+json": {
       "model_id": "133964bc10a4420aa7fb041a871f0e21",
       "version_major": 2,
       "version_minor": 0
      },
      "text/plain": [
       "HBox(children=(FloatProgress(value=0.0, max=51.0), HTML(value='')))"
      ]
     },
     "metadata": {},
     "output_type": "display_data"
    },
    {
     "name": "stdout",
     "output_type": "stream",
     "text": [
      "\n",
      "['Christianity', 'exchristian', 'TraditionalCatholics', 'excatholic', 'lds', 'exmormon', 'islam', 'exmuslim', 'Conservative', 'progressive', 'Republican', 'democrats', 'conservatives', 'SocialDemocracy', 'TheNewRight', 'WeAreNotAsking', 'antifeminists', 'Feminism', 'prolife', 'prochoice', 'prolife', 'birthcontrol', 'progun', 'GunsAreCool', 'datingoverforty', 'teenagers', 'RedditForGrownups', 'teenagersnew', 'CredibleDefense', 'EndlessWar', 'WarCollege', 'EndlessWar', 'Intelligence', 'EndlessWar', 'neoliberal', 'LateStageImperialism', 'Economics', 'capitalism_in_decay', 'JoeBiden', 'SandersForPresident', 'BaemyKlobaechar', 'ElizabethWarren', 'Pete_Buttigieg', 'YangForPresidentHQ', 'The_Donald', 'SocialDemocracy', 'Classical_Liberals', 'benshapiro', 'walkaway', 'FreeSpeech', 'dsa']\n"
     ]
    }
   ],
   "source": [
    "dim_list = [\"Christianity\",\"exchristian\",\"TraditionalCatholics\",\"excatholic\",\"lds\",\"exmormon\",\"islam\",\"exmuslim\",\n",
    "        \"Conservative\",\"progressive\",\"Republican\",\"democrats\",\"conservatives\",\"SocialDemocracy\",\n",
    "        \"TheNewRight\",\"WeAreNotAsking\",\"antifeminists\",\"Feminism\",\"prolife\",\"prochoice\",\"prolife\",\"birthcontrol\",\n",
    "        \"progun\",\"GunsAreCool\",\"datingoverforty\",\"teenagers\",\"RedditForGrownups\",\"teenagersnew\",\n",
    "        \"CredibleDefense\",\"EndlessWar\",\"WarCollege\",\"EndlessWar\",\"Intelligence\",\"EndlessWar\",\n",
    "        \"neoliberal\",\"LateStageImperialism\",\"Economics\",\"capitalism_in_decay\",\n",
    "        \"JoeBiden\",\"SandersForPresident\",\"BaemyKlobaechar\",\"ElizabethWarren\",\"Pete_Buttigieg\",\n",
    "        \"YangForPresidentHQ\",\"The_Donald\",\"SocialDemocracy\",\"Classical_Liberals\",\"benshapiro\",\"walkaway\",\n",
    "        \"FreeSpeech\",\"dsa\"]\n",
    "sample_subs = np.unique(np.array([get_closest(x,embedding) for x in tqdm(dim_list)]).flatten())\n",
    "print(dim_list)"
   ]
  },
  {
   "cell_type": "code",
   "execution_count": 47,
   "metadata": {
    "scrolled": true
   },
   "outputs": [
    {
     "data": {
      "text/html": [
       "<div>\n",
       "<style scoped>\n",
       "    .dataframe tbody tr th:only-of-type {\n",
       "        vertical-align: middle;\n",
       "    }\n",
       "\n",
       "    .dataframe tbody tr th {\n",
       "        vertical-align: top;\n",
       "    }\n",
       "\n",
       "    .dataframe thead th {\n",
       "        text-align: right;\n",
       "    }\n",
       "</style>\n",
       "<table border=\"1\" class=\"dataframe\">\n",
       "  <thead>\n",
       "    <tr style=\"text-align: right;\">\n",
       "      <th></th>\n",
       "      <th>Religiosity</th>\n",
       "      <th>Ideology</th>\n",
       "      <th>Birth Control</th>\n",
       "      <th>Gun Control</th>\n",
       "      <th>Age</th>\n",
       "      <th>War</th>\n",
       "      <th>Globalism</th>\n",
       "    </tr>\n",
       "    <tr>\n",
       "      <th>subreddit</th>\n",
       "      <th></th>\n",
       "      <th></th>\n",
       "      <th></th>\n",
       "      <th></th>\n",
       "      <th></th>\n",
       "      <th></th>\n",
       "      <th></th>\n",
       "    </tr>\n",
       "  </thead>\n",
       "  <tbody>\n",
       "    <tr>\n",
       "      <th>YangForPresidentHQ</th>\n",
       "      <td>0.012267</td>\n",
       "      <td>-0.001380</td>\n",
       "      <td>0.130513</td>\n",
       "      <td>0.047922</td>\n",
       "      <td>-0.072915</td>\n",
       "      <td>-0.220962</td>\n",
       "      <td>0.171604</td>\n",
       "    </tr>\n",
       "    <tr>\n",
       "      <th>SandersForPresident</th>\n",
       "      <td>-0.078695</td>\n",
       "      <td>-0.194282</td>\n",
       "      <td>-0.038286</td>\n",
       "      <td>-0.091520</td>\n",
       "      <td>0.014061</td>\n",
       "      <td>-0.259093</td>\n",
       "      <td>-0.040599</td>\n",
       "    </tr>\n",
       "    <tr>\n",
       "      <th>Pete_Buttigieg</th>\n",
       "      <td>-0.083959</td>\n",
       "      <td>-0.121241</td>\n",
       "      <td>-0.094478</td>\n",
       "      <td>-0.250756</td>\n",
       "      <td>0.088497</td>\n",
       "      <td>-0.132106</td>\n",
       "      <td>0.178996</td>\n",
       "    </tr>\n",
       "    <tr>\n",
       "      <th>ElizabethWarren</th>\n",
       "      <td>-0.146615</td>\n",
       "      <td>-0.254581</td>\n",
       "      <td>-0.102437</td>\n",
       "      <td>-0.287348</td>\n",
       "      <td>0.143491</td>\n",
       "      <td>-0.244371</td>\n",
       "      <td>0.051586</td>\n",
       "    </tr>\n",
       "    <tr>\n",
       "      <th>JoeBiden</th>\n",
       "      <td>0.021008</td>\n",
       "      <td>-0.065889</td>\n",
       "      <td>0.070356</td>\n",
       "      <td>-0.266431</td>\n",
       "      <td>0.107850</td>\n",
       "      <td>-0.159423</td>\n",
       "      <td>0.125099</td>\n",
       "    </tr>\n",
       "  </tbody>\n",
       "</table>\n",
       "</div>"
      ],
      "text/plain": [
       "                     Religiosity  Ideology  Birth Control  Gun Control  \\\n",
       "subreddit                                                                \n",
       "YangForPresidentHQ      0.012267 -0.001380       0.130513     0.047922   \n",
       "SandersForPresident    -0.078695 -0.194282      -0.038286    -0.091520   \n",
       "Pete_Buttigieg         -0.083959 -0.121241      -0.094478    -0.250756   \n",
       "ElizabethWarren        -0.146615 -0.254581      -0.102437    -0.287348   \n",
       "JoeBiden                0.021008 -0.065889       0.070356    -0.266431   \n",
       "\n",
       "                          Age       War  Globalism  \n",
       "subreddit                                           \n",
       "YangForPresidentHQ  -0.072915 -0.220962   0.171604  \n",
       "SandersForPresident  0.014061 -0.259093  -0.040599  \n",
       "Pete_Buttigieg       0.088497 -0.132106   0.178996  \n",
       "ElizabethWarren      0.143491 -0.244371   0.051586  \n",
       "JoeBiden             0.107850 -0.159423   0.125099  "
      ]
     },
     "execution_count": 47,
     "metadata": {},
     "output_type": "execute_result"
    }
   ],
   "source": [
    "proj_df = pd.DataFrame(dict(subreddit=embedding.index)).set_index(\"subreddit\")#.sample(n=1000,random_state=2)\n",
    "proj_df = proj_df[proj_df.index.isin([\"JoeBiden\",\"SandersForPresident\",\"ElizabethWarren\",\"Pete_Buttigieg\",\"YangForPresidentHQ\",\"BaemyKlobaechar\"])]\n",
    "d = []\n",
    "for dim_info in dims:\n",
    "    dim = calculate_dim(dim_info.subreddits,embedding)\n",
    "    d.append(dim)\n",
    "    projections = proj_df.index.map(lambda x: project_dim(dim,x,embedding))\n",
    "    proj_df[dim_info.name] = projections\n",
    "    \n",
    "proj_df.head()"
   ]
  },
  {
   "cell_type": "markdown",
   "metadata": {},
   "source": [
    "## Visualize"
   ]
  },
  {
   "cell_type": "code",
   "execution_count": 48,
   "metadata": {
    "scrolled": false
   },
   "outputs": [
    {
     "data": {
      "application/vnd.plotly.v1+json": {
       "config": {
        "plotlyServerURL": "https://plot.ly"
       },
       "data": [
        {
         "boxpoints": "all",
         "jitter": 0.4,
         "marker": {
          "opacity": 0.5
         },
         "name": "Religiosity",
         "quartilemethod": "linear",
         "text": [
          "YangForPresidentHQ",
          "SandersForPresident",
          "Pete_Buttigieg",
          "ElizabethWarren",
          "JoeBiden",
          "BaemyKlobaechar"
         ],
         "type": "box",
         "x": [
          0.012266592008033263,
          -0.07869503386587898,
          -0.08395877923824005,
          -0.1466147608223133,
          0.02100753714128879,
          0.0012627897460003575
         ]
        },
        {
         "boxpoints": "all",
         "jitter": 0.4,
         "marker": {
          "opacity": 0.5
         },
         "name": "Ideology",
         "quartilemethod": "linear",
         "text": [
          "YangForPresidentHQ",
          "SandersForPresident",
          "Pete_Buttigieg",
          "ElizabethWarren",
          "JoeBiden",
          "BaemyKlobaechar"
         ],
         "type": "box",
         "x": [
          -0.0013796591394639947,
          -0.19428187769363323,
          -0.1212408719455217,
          -0.2545805783377046,
          -0.06588873541584786,
          -0.09751795554690855
         ]
        },
        {
         "boxpoints": "all",
         "jitter": 0.4,
         "marker": {
          "opacity": 0.5
         },
         "name": "Birth Control",
         "quartilemethod": "linear",
         "text": [
          "YangForPresidentHQ",
          "SandersForPresident",
          "Pete_Buttigieg",
          "ElizabethWarren",
          "JoeBiden",
          "BaemyKlobaechar"
         ],
         "type": "box",
         "x": [
          0.13051277223350746,
          -0.038285971267800006,
          -0.09447802753062638,
          -0.10243725149437283,
          0.07035581601105244,
          -0.046069764256964234
         ]
        },
        {
         "boxpoints": "all",
         "jitter": 0.4,
         "marker": {
          "opacity": 0.5
         },
         "name": "Gun Control",
         "quartilemethod": "linear",
         "text": [
          "YangForPresidentHQ",
          "SandersForPresident",
          "Pete_Buttigieg",
          "ElizabethWarren",
          "JoeBiden",
          "BaemyKlobaechar"
         ],
         "type": "box",
         "x": [
          0.04792241196180771,
          -0.09152029127982067,
          -0.250756136849046,
          -0.28734772061396574,
          -0.2664307704472482,
          -0.26626079352683923
         ]
        },
        {
         "boxpoints": "all",
         "jitter": 0.4,
         "marker": {
          "opacity": 0.5
         },
         "name": "Age",
         "quartilemethod": "linear",
         "text": [
          "YangForPresidentHQ",
          "SandersForPresident",
          "Pete_Buttigieg",
          "ElizabethWarren",
          "JoeBiden",
          "BaemyKlobaechar"
         ],
         "type": "box",
         "x": [
          -0.0729153306997785,
          0.014061033599988336,
          0.08849749938156204,
          0.14349130334348428,
          0.10784980089992226,
          0.10138046944828202
         ]
        },
        {
         "boxpoints": "all",
         "jitter": 0.4,
         "marker": {
          "opacity": 0.5
         },
         "name": "War",
         "quartilemethod": "linear",
         "text": [
          "YangForPresidentHQ",
          "SandersForPresident",
          "Pete_Buttigieg",
          "ElizabethWarren",
          "JoeBiden",
          "BaemyKlobaechar"
         ],
         "type": "box",
         "x": [
          -0.2209615347760919,
          -0.2590931076578307,
          -0.1321060181919814,
          -0.24437063275123408,
          -0.1594228423380611,
          -0.09759767393663685
         ]
        },
        {
         "boxpoints": "all",
         "jitter": 0.4,
         "marker": {
          "opacity": 0.5
         },
         "name": "Globalism",
         "quartilemethod": "linear",
         "text": [
          "YangForPresidentHQ",
          "SandersForPresident",
          "Pete_Buttigieg",
          "ElizabethWarren",
          "JoeBiden",
          "BaemyKlobaechar"
         ],
         "type": "box",
         "x": [
          0.17160445091136572,
          -0.0405993675400153,
          0.17899604675296305,
          0.05158629181607037,
          0.12509914960101945,
          0.13650216421514688
         ]
        }
       ],
       "layout": {
        "annotations": [
         {
          "ax": -40,
          "ay": 0,
          "showarrow": false,
          "text": "<b>More Religious</b>",
          "x": 0.3160824926753623,
          "xref": "x",
          "y": "Religiosity",
          "yref": "y"
         },
         {
          "ax": -40,
          "ay": 0,
          "showarrow": false,
          "text": "<b>More Secular</b>",
          "x": -0.3160824926753623,
          "xref": "x",
          "y": "Religiosity",
          "yref": "y"
         },
         {
          "arrowcolor": "rgba(0,0,0,0)",
          "ax": 0,
          "ay": 30,
          "text": "/r/JoeBiden",
          "x": 0.02100753714128879,
          "xref": "x",
          "y": "Religiosity",
          "yref": "y"
         },
         {
          "arrowcolor": "rgba(0,0,0,0)",
          "ax": 0,
          "ay": 30,
          "text": "/r/ElizabethWarren",
          "x": -0.1466147608223133,
          "xref": "x",
          "y": "Religiosity",
          "yref": "y"
         },
         {
          "ax": -40,
          "ay": 0,
          "showarrow": false,
          "text": "<b>Further Right</b>",
          "x": 0.3160824926753623,
          "xref": "x",
          "y": "Ideology",
          "yref": "y"
         },
         {
          "ax": -40,
          "ay": 0,
          "showarrow": false,
          "text": "<b>Further Left</b>",
          "x": -0.3160824926753623,
          "xref": "x",
          "y": "Ideology",
          "yref": "y"
         },
         {
          "arrowcolor": "rgba(0,0,0,0)",
          "ax": 0,
          "ay": 30,
          "text": "/r/YangForPresidentHQ",
          "x": -0.0013796591394639947,
          "xref": "x",
          "y": "Ideology",
          "yref": "y"
         },
         {
          "arrowcolor": "rgba(0,0,0,0)",
          "ax": 0,
          "ay": 30,
          "text": "/r/ElizabethWarren",
          "x": -0.2545805783377046,
          "xref": "x",
          "y": "Ideology",
          "yref": "y"
         },
         {
          "ax": -40,
          "ay": 0,
          "showarrow": false,
          "text": "<b>Conservative</b>",
          "x": 0.3160824926753623,
          "xref": "x",
          "y": "Birth Control",
          "yref": "y"
         },
         {
          "ax": -40,
          "ay": 0,
          "showarrow": false,
          "text": "<b>Progressive</b>",
          "x": -0.3160824926753623,
          "xref": "x",
          "y": "Birth Control",
          "yref": "y"
         },
         {
          "arrowcolor": "rgba(0,0,0,0)",
          "ax": 0,
          "ay": 30,
          "text": "/r/YangForPresidentHQ",
          "x": 0.13051277223350746,
          "xref": "x",
          "y": "Birth Control",
          "yref": "y"
         },
         {
          "arrowcolor": "rgba(0,0,0,0)",
          "ax": 0,
          "ay": 30,
          "text": "/r/ElizabethWarren",
          "x": -0.10243725149437283,
          "xref": "x",
          "y": "Birth Control",
          "yref": "y"
         },
         {
          "ax": -40,
          "ay": 0,
          "showarrow": false,
          "text": "<b>Less Regulation</b>",
          "x": 0.3160824926753623,
          "xref": "x",
          "y": "Gun Control",
          "yref": "y"
         },
         {
          "ax": -40,
          "ay": 0,
          "showarrow": false,
          "text": "<b>More Regulation</b>",
          "x": -0.3160824926753623,
          "xref": "x",
          "y": "Gun Control",
          "yref": "y"
         },
         {
          "arrowcolor": "rgba(0,0,0,0)",
          "ax": 0,
          "ay": 30,
          "text": "/r/YangForPresidentHQ",
          "x": 0.04792241196180771,
          "xref": "x",
          "y": "Gun Control",
          "yref": "y"
         },
         {
          "arrowcolor": "rgba(0,0,0,0)",
          "ax": 0,
          "ay": 30,
          "text": "/r/ElizabethWarren",
          "x": -0.28734772061396574,
          "xref": "x",
          "y": "Gun Control",
          "yref": "y"
         },
         {
          "ax": -40,
          "ay": 0,
          "showarrow": false,
          "text": "<b>Older</b>",
          "x": 0.3160824926753623,
          "xref": "x",
          "y": "Age",
          "yref": "y"
         },
         {
          "ax": -40,
          "ay": 0,
          "showarrow": false,
          "text": "<b>Younger</b>",
          "x": -0.3160824926753623,
          "xref": "x",
          "y": "Age",
          "yref": "y"
         },
         {
          "arrowcolor": "rgba(0,0,0,0)",
          "ax": 0,
          "ay": 30,
          "text": "/r/ElizabethWarren",
          "x": 0.14349130334348428,
          "xref": "x",
          "y": "Age",
          "yref": "y"
         },
         {
          "arrowcolor": "rgba(0,0,0,0)",
          "ax": 0,
          "ay": 30,
          "text": "/r/YangForPresidentHQ",
          "x": -0.0729153306997785,
          "xref": "x",
          "y": "Age",
          "yref": "y"
         },
         {
          "ax": -40,
          "ay": 0,
          "showarrow": false,
          "text": "<b>Hawkish</b>",
          "x": 0.3160824926753623,
          "xref": "x",
          "y": "War",
          "yref": "y"
         },
         {
          "ax": -40,
          "ay": 0,
          "showarrow": false,
          "text": "<b>Pascifistic</b>",
          "x": -0.3160824926753623,
          "xref": "x",
          "y": "War",
          "yref": "y"
         },
         {
          "arrowcolor": "rgba(0,0,0,0)",
          "ax": 0,
          "ay": 30,
          "text": "/r/BaemyKlobaechar",
          "x": -0.09759767393663685,
          "xref": "x",
          "y": "War",
          "yref": "y"
         },
         {
          "arrowcolor": "rgba(0,0,0,0)",
          "ax": 0,
          "ay": 30,
          "text": "/r/SandersForPresident",
          "x": -0.2590931076578307,
          "xref": "x",
          "y": "War",
          "yref": "y"
         },
         {
          "ax": -40,
          "ay": 0,
          "showarrow": false,
          "text": "<b>More Globalism</b>",
          "x": 0.3160824926753623,
          "xref": "x",
          "y": "Globalism",
          "yref": "y"
         },
         {
          "ax": -40,
          "ay": 0,
          "showarrow": false,
          "text": "<b>Less Globalism</b>",
          "x": -0.3160824926753623,
          "xref": "x",
          "y": "Globalism",
          "yref": "y"
         },
         {
          "arrowcolor": "rgba(0,0,0,0)",
          "ax": 0,
          "ay": 30,
          "text": "/r/Pete_Buttigieg",
          "x": 0.17899604675296305,
          "xref": "x",
          "y": "Globalism",
          "yref": "y"
         },
         {
          "arrowcolor": "rgba(0,0,0,0)",
          "ax": 0,
          "ay": 30,
          "text": "/r/SandersForPresident",
          "x": -0.0405993675400153,
          "xref": "x",
          "y": "Globalism",
          "yref": "y"
         }
        ],
        "showlegend": false,
        "template": {
         "data": {
          "bar": [
           {
            "error_x": {
             "color": "#2a3f5f"
            },
            "error_y": {
             "color": "#2a3f5f"
            },
            "marker": {
             "line": {
              "color": "#E5ECF6",
              "width": 0.5
             }
            },
            "type": "bar"
           }
          ],
          "barpolar": [
           {
            "marker": {
             "line": {
              "color": "#E5ECF6",
              "width": 0.5
             }
            },
            "type": "barpolar"
           }
          ],
          "carpet": [
           {
            "aaxis": {
             "endlinecolor": "#2a3f5f",
             "gridcolor": "white",
             "linecolor": "white",
             "minorgridcolor": "white",
             "startlinecolor": "#2a3f5f"
            },
            "baxis": {
             "endlinecolor": "#2a3f5f",
             "gridcolor": "white",
             "linecolor": "white",
             "minorgridcolor": "white",
             "startlinecolor": "#2a3f5f"
            },
            "type": "carpet"
           }
          ],
          "choropleth": [
           {
            "colorbar": {
             "outlinewidth": 0,
             "ticks": ""
            },
            "type": "choropleth"
           }
          ],
          "contour": [
           {
            "colorbar": {
             "outlinewidth": 0,
             "ticks": ""
            },
            "colorscale": [
             [
              0,
              "#0d0887"
             ],
             [
              0.1111111111111111,
              "#46039f"
             ],
             [
              0.2222222222222222,
              "#7201a8"
             ],
             [
              0.3333333333333333,
              "#9c179e"
             ],
             [
              0.4444444444444444,
              "#bd3786"
             ],
             [
              0.5555555555555556,
              "#d8576b"
             ],
             [
              0.6666666666666666,
              "#ed7953"
             ],
             [
              0.7777777777777778,
              "#fb9f3a"
             ],
             [
              0.8888888888888888,
              "#fdca26"
             ],
             [
              1,
              "#f0f921"
             ]
            ],
            "type": "contour"
           }
          ],
          "contourcarpet": [
           {
            "colorbar": {
             "outlinewidth": 0,
             "ticks": ""
            },
            "type": "contourcarpet"
           }
          ],
          "heatmap": [
           {
            "colorbar": {
             "outlinewidth": 0,
             "ticks": ""
            },
            "colorscale": [
             [
              0,
              "#0d0887"
             ],
             [
              0.1111111111111111,
              "#46039f"
             ],
             [
              0.2222222222222222,
              "#7201a8"
             ],
             [
              0.3333333333333333,
              "#9c179e"
             ],
             [
              0.4444444444444444,
              "#bd3786"
             ],
             [
              0.5555555555555556,
              "#d8576b"
             ],
             [
              0.6666666666666666,
              "#ed7953"
             ],
             [
              0.7777777777777778,
              "#fb9f3a"
             ],
             [
              0.8888888888888888,
              "#fdca26"
             ],
             [
              1,
              "#f0f921"
             ]
            ],
            "type": "heatmap"
           }
          ],
          "heatmapgl": [
           {
            "colorbar": {
             "outlinewidth": 0,
             "ticks": ""
            },
            "colorscale": [
             [
              0,
              "#0d0887"
             ],
             [
              0.1111111111111111,
              "#46039f"
             ],
             [
              0.2222222222222222,
              "#7201a8"
             ],
             [
              0.3333333333333333,
              "#9c179e"
             ],
             [
              0.4444444444444444,
              "#bd3786"
             ],
             [
              0.5555555555555556,
              "#d8576b"
             ],
             [
              0.6666666666666666,
              "#ed7953"
             ],
             [
              0.7777777777777778,
              "#fb9f3a"
             ],
             [
              0.8888888888888888,
              "#fdca26"
             ],
             [
              1,
              "#f0f921"
             ]
            ],
            "type": "heatmapgl"
           }
          ],
          "histogram": [
           {
            "marker": {
             "colorbar": {
              "outlinewidth": 0,
              "ticks": ""
             }
            },
            "type": "histogram"
           }
          ],
          "histogram2d": [
           {
            "colorbar": {
             "outlinewidth": 0,
             "ticks": ""
            },
            "colorscale": [
             [
              0,
              "#0d0887"
             ],
             [
              0.1111111111111111,
              "#46039f"
             ],
             [
              0.2222222222222222,
              "#7201a8"
             ],
             [
              0.3333333333333333,
              "#9c179e"
             ],
             [
              0.4444444444444444,
              "#bd3786"
             ],
             [
              0.5555555555555556,
              "#d8576b"
             ],
             [
              0.6666666666666666,
              "#ed7953"
             ],
             [
              0.7777777777777778,
              "#fb9f3a"
             ],
             [
              0.8888888888888888,
              "#fdca26"
             ],
             [
              1,
              "#f0f921"
             ]
            ],
            "type": "histogram2d"
           }
          ],
          "histogram2dcontour": [
           {
            "colorbar": {
             "outlinewidth": 0,
             "ticks": ""
            },
            "colorscale": [
             [
              0,
              "#0d0887"
             ],
             [
              0.1111111111111111,
              "#46039f"
             ],
             [
              0.2222222222222222,
              "#7201a8"
             ],
             [
              0.3333333333333333,
              "#9c179e"
             ],
             [
              0.4444444444444444,
              "#bd3786"
             ],
             [
              0.5555555555555556,
              "#d8576b"
             ],
             [
              0.6666666666666666,
              "#ed7953"
             ],
             [
              0.7777777777777778,
              "#fb9f3a"
             ],
             [
              0.8888888888888888,
              "#fdca26"
             ],
             [
              1,
              "#f0f921"
             ]
            ],
            "type": "histogram2dcontour"
           }
          ],
          "mesh3d": [
           {
            "colorbar": {
             "outlinewidth": 0,
             "ticks": ""
            },
            "type": "mesh3d"
           }
          ],
          "parcoords": [
           {
            "line": {
             "colorbar": {
              "outlinewidth": 0,
              "ticks": ""
             }
            },
            "type": "parcoords"
           }
          ],
          "pie": [
           {
            "automargin": true,
            "type": "pie"
           }
          ],
          "scatter": [
           {
            "marker": {
             "colorbar": {
              "outlinewidth": 0,
              "ticks": ""
             }
            },
            "type": "scatter"
           }
          ],
          "scatter3d": [
           {
            "line": {
             "colorbar": {
              "outlinewidth": 0,
              "ticks": ""
             }
            },
            "marker": {
             "colorbar": {
              "outlinewidth": 0,
              "ticks": ""
             }
            },
            "type": "scatter3d"
           }
          ],
          "scattercarpet": [
           {
            "marker": {
             "colorbar": {
              "outlinewidth": 0,
              "ticks": ""
             }
            },
            "type": "scattercarpet"
           }
          ],
          "scattergeo": [
           {
            "marker": {
             "colorbar": {
              "outlinewidth": 0,
              "ticks": ""
             }
            },
            "type": "scattergeo"
           }
          ],
          "scattergl": [
           {
            "marker": {
             "colorbar": {
              "outlinewidth": 0,
              "ticks": ""
             }
            },
            "type": "scattergl"
           }
          ],
          "scattermapbox": [
           {
            "marker": {
             "colorbar": {
              "outlinewidth": 0,
              "ticks": ""
             }
            },
            "type": "scattermapbox"
           }
          ],
          "scatterpolar": [
           {
            "marker": {
             "colorbar": {
              "outlinewidth": 0,
              "ticks": ""
             }
            },
            "type": "scatterpolar"
           }
          ],
          "scatterpolargl": [
           {
            "marker": {
             "colorbar": {
              "outlinewidth": 0,
              "ticks": ""
             }
            },
            "type": "scatterpolargl"
           }
          ],
          "scatterternary": [
           {
            "marker": {
             "colorbar": {
              "outlinewidth": 0,
              "ticks": ""
             }
            },
            "type": "scatterternary"
           }
          ],
          "surface": [
           {
            "colorbar": {
             "outlinewidth": 0,
             "ticks": ""
            },
            "colorscale": [
             [
              0,
              "#0d0887"
             ],
             [
              0.1111111111111111,
              "#46039f"
             ],
             [
              0.2222222222222222,
              "#7201a8"
             ],
             [
              0.3333333333333333,
              "#9c179e"
             ],
             [
              0.4444444444444444,
              "#bd3786"
             ],
             [
              0.5555555555555556,
              "#d8576b"
             ],
             [
              0.6666666666666666,
              "#ed7953"
             ],
             [
              0.7777777777777778,
              "#fb9f3a"
             ],
             [
              0.8888888888888888,
              "#fdca26"
             ],
             [
              1,
              "#f0f921"
             ]
            ],
            "type": "surface"
           }
          ],
          "table": [
           {
            "cells": {
             "fill": {
              "color": "#EBF0F8"
             },
             "line": {
              "color": "white"
             }
            },
            "header": {
             "fill": {
              "color": "#C8D4E3"
             },
             "line": {
              "color": "white"
             }
            },
            "type": "table"
           }
          ]
         },
         "layout": {
          "annotationdefaults": {
           "arrowcolor": "#2a3f5f",
           "arrowhead": 0,
           "arrowwidth": 1
          },
          "coloraxis": {
           "colorbar": {
            "outlinewidth": 0,
            "ticks": ""
           }
          },
          "colorscale": {
           "diverging": [
            [
             0,
             "#8e0152"
            ],
            [
             0.1,
             "#c51b7d"
            ],
            [
             0.2,
             "#de77ae"
            ],
            [
             0.3,
             "#f1b6da"
            ],
            [
             0.4,
             "#fde0ef"
            ],
            [
             0.5,
             "#f7f7f7"
            ],
            [
             0.6,
             "#e6f5d0"
            ],
            [
             0.7,
             "#b8e186"
            ],
            [
             0.8,
             "#7fbc41"
            ],
            [
             0.9,
             "#4d9221"
            ],
            [
             1,
             "#276419"
            ]
           ],
           "sequential": [
            [
             0,
             "#0d0887"
            ],
            [
             0.1111111111111111,
             "#46039f"
            ],
            [
             0.2222222222222222,
             "#7201a8"
            ],
            [
             0.3333333333333333,
             "#9c179e"
            ],
            [
             0.4444444444444444,
             "#bd3786"
            ],
            [
             0.5555555555555556,
             "#d8576b"
            ],
            [
             0.6666666666666666,
             "#ed7953"
            ],
            [
             0.7777777777777778,
             "#fb9f3a"
            ],
            [
             0.8888888888888888,
             "#fdca26"
            ],
            [
             1,
             "#f0f921"
            ]
           ],
           "sequentialminus": [
            [
             0,
             "#0d0887"
            ],
            [
             0.1111111111111111,
             "#46039f"
            ],
            [
             0.2222222222222222,
             "#7201a8"
            ],
            [
             0.3333333333333333,
             "#9c179e"
            ],
            [
             0.4444444444444444,
             "#bd3786"
            ],
            [
             0.5555555555555556,
             "#d8576b"
            ],
            [
             0.6666666666666666,
             "#ed7953"
            ],
            [
             0.7777777777777778,
             "#fb9f3a"
            ],
            [
             0.8888888888888888,
             "#fdca26"
            ],
            [
             1,
             "#f0f921"
            ]
           ]
          },
          "colorway": [
           "#636efa",
           "#EF553B",
           "#00cc96",
           "#ab63fa",
           "#FFA15A",
           "#19d3f3",
           "#FF6692",
           "#B6E880",
           "#FF97FF",
           "#FECB52"
          ],
          "font": {
           "color": "#2a3f5f"
          },
          "geo": {
           "bgcolor": "white",
           "lakecolor": "white",
           "landcolor": "#E5ECF6",
           "showlakes": true,
           "showland": true,
           "subunitcolor": "white"
          },
          "hoverlabel": {
           "align": "left"
          },
          "hovermode": "closest",
          "mapbox": {
           "style": "light"
          },
          "paper_bgcolor": "white",
          "plot_bgcolor": "#E5ECF6",
          "polar": {
           "angularaxis": {
            "gridcolor": "white",
            "linecolor": "white",
            "ticks": ""
           },
           "bgcolor": "#E5ECF6",
           "radialaxis": {
            "gridcolor": "white",
            "linecolor": "white",
            "ticks": ""
           }
          },
          "scene": {
           "xaxis": {
            "backgroundcolor": "#E5ECF6",
            "gridcolor": "white",
            "gridwidth": 2,
            "linecolor": "white",
            "showbackground": true,
            "ticks": "",
            "zerolinecolor": "white"
           },
           "yaxis": {
            "backgroundcolor": "#E5ECF6",
            "gridcolor": "white",
            "gridwidth": 2,
            "linecolor": "white",
            "showbackground": true,
            "ticks": "",
            "zerolinecolor": "white"
           },
           "zaxis": {
            "backgroundcolor": "#E5ECF6",
            "gridcolor": "white",
            "gridwidth": 2,
            "linecolor": "white",
            "showbackground": true,
            "ticks": "",
            "zerolinecolor": "white"
           }
          },
          "shapedefaults": {
           "line": {
            "color": "#2a3f5f"
           }
          },
          "ternary": {
           "aaxis": {
            "gridcolor": "white",
            "linecolor": "white",
            "ticks": ""
           },
           "baxis": {
            "gridcolor": "white",
            "linecolor": "white",
            "ticks": ""
           },
           "bgcolor": "#E5ECF6",
           "caxis": {
            "gridcolor": "white",
            "linecolor": "white",
            "ticks": ""
           }
          },
          "title": {
           "x": 0.05
          },
          "xaxis": {
           "automargin": true,
           "gridcolor": "white",
           "linecolor": "white",
           "ticks": "",
           "title": {
            "standoff": 15
           },
           "zerolinecolor": "white",
           "zerolinewidth": 2
          },
          "yaxis": {
           "automargin": true,
           "gridcolor": "white",
           "linecolor": "white",
           "ticks": "",
           "title": {
            "standoff": 15
           },
           "zerolinecolor": "white",
           "zerolinewidth": 2
          }
         }
        },
        "title": {
         "text": "Political Dimension Projections (Relevant Subreddits)"
        },
        "xaxis": {
         "range": [
          -0.3951031158442029,
          0.3951031158442029
         ]
        }
       }
      },
      "text/html": [
       "<div>\n",
       "        \n",
       "        \n",
       "            <div id=\"e8ba5461-c7fd-4181-802c-d4dd2736e57a\" class=\"plotly-graph-div\" style=\"height:525px; width:100%;\"></div>\n",
       "            <script type=\"text/javascript\">\n",
       "                require([\"plotly\"], function(Plotly) {\n",
       "                    window.PLOTLYENV=window.PLOTLYENV || {};\n",
       "                    \n",
       "                if (document.getElementById(\"e8ba5461-c7fd-4181-802c-d4dd2736e57a\")) {\n",
       "                    Plotly.newPlot(\n",
       "                        'e8ba5461-c7fd-4181-802c-d4dd2736e57a',\n",
       "                        [{\"boxpoints\": \"all\", \"jitter\": 0.4, \"marker\": {\"opacity\": 0.5}, \"name\": \"Religiosity\", \"quartilemethod\": \"linear\", \"text\": [\"YangForPresidentHQ\", \"SandersForPresident\", \"Pete_Buttigieg\", \"ElizabethWarren\", \"JoeBiden\", \"BaemyKlobaechar\"], \"type\": \"box\", \"x\": [0.012266592008033263, -0.07869503386587898, -0.08395877923824005, -0.1466147608223133, 0.02100753714128879, 0.0012627897460003575]}, {\"boxpoints\": \"all\", \"jitter\": 0.4, \"marker\": {\"opacity\": 0.5}, \"name\": \"Ideology\", \"quartilemethod\": \"linear\", \"text\": [\"YangForPresidentHQ\", \"SandersForPresident\", \"Pete_Buttigieg\", \"ElizabethWarren\", \"JoeBiden\", \"BaemyKlobaechar\"], \"type\": \"box\", \"x\": [-0.0013796591394639947, -0.19428187769363323, -0.1212408719455217, -0.2545805783377046, -0.06588873541584786, -0.09751795554690855]}, {\"boxpoints\": \"all\", \"jitter\": 0.4, \"marker\": {\"opacity\": 0.5}, \"name\": \"Birth Control\", \"quartilemethod\": \"linear\", \"text\": [\"YangForPresidentHQ\", \"SandersForPresident\", \"Pete_Buttigieg\", \"ElizabethWarren\", \"JoeBiden\", \"BaemyKlobaechar\"], \"type\": \"box\", \"x\": [0.13051277223350746, -0.038285971267800006, -0.09447802753062638, -0.10243725149437283, 0.07035581601105244, -0.046069764256964234]}, {\"boxpoints\": \"all\", \"jitter\": 0.4, \"marker\": {\"opacity\": 0.5}, \"name\": \"Gun Control\", \"quartilemethod\": \"linear\", \"text\": [\"YangForPresidentHQ\", \"SandersForPresident\", \"Pete_Buttigieg\", \"ElizabethWarren\", \"JoeBiden\", \"BaemyKlobaechar\"], \"type\": \"box\", \"x\": [0.04792241196180771, -0.09152029127982067, -0.250756136849046, -0.28734772061396574, -0.2664307704472482, -0.26626079352683923]}, {\"boxpoints\": \"all\", \"jitter\": 0.4, \"marker\": {\"opacity\": 0.5}, \"name\": \"Age\", \"quartilemethod\": \"linear\", \"text\": [\"YangForPresidentHQ\", \"SandersForPresident\", \"Pete_Buttigieg\", \"ElizabethWarren\", \"JoeBiden\", \"BaemyKlobaechar\"], \"type\": \"box\", \"x\": [-0.0729153306997785, 0.014061033599988336, 0.08849749938156204, 0.14349130334348428, 0.10784980089992226, 0.10138046944828202]}, {\"boxpoints\": \"all\", \"jitter\": 0.4, \"marker\": {\"opacity\": 0.5}, \"name\": \"War\", \"quartilemethod\": \"linear\", \"text\": [\"YangForPresidentHQ\", \"SandersForPresident\", \"Pete_Buttigieg\", \"ElizabethWarren\", \"JoeBiden\", \"BaemyKlobaechar\"], \"type\": \"box\", \"x\": [-0.2209615347760919, -0.2590931076578307, -0.1321060181919814, -0.24437063275123408, -0.1594228423380611, -0.09759767393663685]}, {\"boxpoints\": \"all\", \"jitter\": 0.4, \"marker\": {\"opacity\": 0.5}, \"name\": \"Globalism\", \"quartilemethod\": \"linear\", \"text\": [\"YangForPresidentHQ\", \"SandersForPresident\", \"Pete_Buttigieg\", \"ElizabethWarren\", \"JoeBiden\", \"BaemyKlobaechar\"], \"type\": \"box\", \"x\": [0.17160445091136572, -0.0405993675400153, 0.17899604675296305, 0.05158629181607037, 0.12509914960101945, 0.13650216421514688]}],\n",
       "                        {\"annotations\": [{\"ax\": -40, \"ay\": 0, \"showarrow\": false, \"text\": \"<b>More Religious</b>\", \"x\": 0.3160824926753623, \"xref\": \"x\", \"y\": \"Religiosity\", \"yref\": \"y\"}, {\"ax\": -40, \"ay\": 0, \"showarrow\": false, \"text\": \"<b>More Secular</b>\", \"x\": -0.3160824926753623, \"xref\": \"x\", \"y\": \"Religiosity\", \"yref\": \"y\"}, {\"arrowcolor\": \"rgba(0,0,0,0)\", \"ax\": 0, \"ay\": 30, \"text\": \"/r/JoeBiden\", \"x\": 0.02100753714128879, \"xref\": \"x\", \"y\": \"Religiosity\", \"yref\": \"y\"}, {\"arrowcolor\": \"rgba(0,0,0,0)\", \"ax\": 0, \"ay\": 30, \"text\": \"/r/ElizabethWarren\", \"x\": -0.1466147608223133, \"xref\": \"x\", \"y\": \"Religiosity\", \"yref\": \"y\"}, {\"ax\": -40, \"ay\": 0, \"showarrow\": false, \"text\": \"<b>Further Right</b>\", \"x\": 0.3160824926753623, \"xref\": \"x\", \"y\": \"Ideology\", \"yref\": \"y\"}, {\"ax\": -40, \"ay\": 0, \"showarrow\": false, \"text\": \"<b>Further Left</b>\", \"x\": -0.3160824926753623, \"xref\": \"x\", \"y\": \"Ideology\", \"yref\": \"y\"}, {\"arrowcolor\": \"rgba(0,0,0,0)\", \"ax\": 0, \"ay\": 30, \"text\": \"/r/YangForPresidentHQ\", \"x\": -0.0013796591394639947, \"xref\": \"x\", \"y\": \"Ideology\", \"yref\": \"y\"}, {\"arrowcolor\": \"rgba(0,0,0,0)\", \"ax\": 0, \"ay\": 30, \"text\": \"/r/ElizabethWarren\", \"x\": -0.2545805783377046, \"xref\": \"x\", \"y\": \"Ideology\", \"yref\": \"y\"}, {\"ax\": -40, \"ay\": 0, \"showarrow\": false, \"text\": \"<b>Conservative</b>\", \"x\": 0.3160824926753623, \"xref\": \"x\", \"y\": \"Birth Control\", \"yref\": \"y\"}, {\"ax\": -40, \"ay\": 0, \"showarrow\": false, \"text\": \"<b>Progressive</b>\", \"x\": -0.3160824926753623, \"xref\": \"x\", \"y\": \"Birth Control\", \"yref\": \"y\"}, {\"arrowcolor\": \"rgba(0,0,0,0)\", \"ax\": 0, \"ay\": 30, \"text\": \"/r/YangForPresidentHQ\", \"x\": 0.13051277223350746, \"xref\": \"x\", \"y\": \"Birth Control\", \"yref\": \"y\"}, {\"arrowcolor\": \"rgba(0,0,0,0)\", \"ax\": 0, \"ay\": 30, \"text\": \"/r/ElizabethWarren\", \"x\": -0.10243725149437283, \"xref\": \"x\", \"y\": \"Birth Control\", \"yref\": \"y\"}, {\"ax\": -40, \"ay\": 0, \"showarrow\": false, \"text\": \"<b>Less Regulation</b>\", \"x\": 0.3160824926753623, \"xref\": \"x\", \"y\": \"Gun Control\", \"yref\": \"y\"}, {\"ax\": -40, \"ay\": 0, \"showarrow\": false, \"text\": \"<b>More Regulation</b>\", \"x\": -0.3160824926753623, \"xref\": \"x\", \"y\": \"Gun Control\", \"yref\": \"y\"}, {\"arrowcolor\": \"rgba(0,0,0,0)\", \"ax\": 0, \"ay\": 30, \"text\": \"/r/YangForPresidentHQ\", \"x\": 0.04792241196180771, \"xref\": \"x\", \"y\": \"Gun Control\", \"yref\": \"y\"}, {\"arrowcolor\": \"rgba(0,0,0,0)\", \"ax\": 0, \"ay\": 30, \"text\": \"/r/ElizabethWarren\", \"x\": -0.28734772061396574, \"xref\": \"x\", \"y\": \"Gun Control\", \"yref\": \"y\"}, {\"ax\": -40, \"ay\": 0, \"showarrow\": false, \"text\": \"<b>Older</b>\", \"x\": 0.3160824926753623, \"xref\": \"x\", \"y\": \"Age\", \"yref\": \"y\"}, {\"ax\": -40, \"ay\": 0, \"showarrow\": false, \"text\": \"<b>Younger</b>\", \"x\": -0.3160824926753623, \"xref\": \"x\", \"y\": \"Age\", \"yref\": \"y\"}, {\"arrowcolor\": \"rgba(0,0,0,0)\", \"ax\": 0, \"ay\": 30, \"text\": \"/r/ElizabethWarren\", \"x\": 0.14349130334348428, \"xref\": \"x\", \"y\": \"Age\", \"yref\": \"y\"}, {\"arrowcolor\": \"rgba(0,0,0,0)\", \"ax\": 0, \"ay\": 30, \"text\": \"/r/YangForPresidentHQ\", \"x\": -0.0729153306997785, \"xref\": \"x\", \"y\": \"Age\", \"yref\": \"y\"}, {\"ax\": -40, \"ay\": 0, \"showarrow\": false, \"text\": \"<b>Hawkish</b>\", \"x\": 0.3160824926753623, \"xref\": \"x\", \"y\": \"War\", \"yref\": \"y\"}, {\"ax\": -40, \"ay\": 0, \"showarrow\": false, \"text\": \"<b>Pascifistic</b>\", \"x\": -0.3160824926753623, \"xref\": \"x\", \"y\": \"War\", \"yref\": \"y\"}, {\"arrowcolor\": \"rgba(0,0,0,0)\", \"ax\": 0, \"ay\": 30, \"text\": \"/r/BaemyKlobaechar\", \"x\": -0.09759767393663685, \"xref\": \"x\", \"y\": \"War\", \"yref\": \"y\"}, {\"arrowcolor\": \"rgba(0,0,0,0)\", \"ax\": 0, \"ay\": 30, \"text\": \"/r/SandersForPresident\", \"x\": -0.2590931076578307, \"xref\": \"x\", \"y\": \"War\", \"yref\": \"y\"}, {\"ax\": -40, \"ay\": 0, \"showarrow\": false, \"text\": \"<b>More Globalism</b>\", \"x\": 0.3160824926753623, \"xref\": \"x\", \"y\": \"Globalism\", \"yref\": \"y\"}, {\"ax\": -40, \"ay\": 0, \"showarrow\": false, \"text\": \"<b>Less Globalism</b>\", \"x\": -0.3160824926753623, \"xref\": \"x\", \"y\": \"Globalism\", \"yref\": \"y\"}, {\"arrowcolor\": \"rgba(0,0,0,0)\", \"ax\": 0, \"ay\": 30, \"text\": \"/r/Pete_Buttigieg\", \"x\": 0.17899604675296305, \"xref\": \"x\", \"y\": \"Globalism\", \"yref\": \"y\"}, {\"arrowcolor\": \"rgba(0,0,0,0)\", \"ax\": 0, \"ay\": 30, \"text\": \"/r/SandersForPresident\", \"x\": -0.0405993675400153, \"xref\": \"x\", \"y\": \"Globalism\", \"yref\": \"y\"}], \"showlegend\": false, \"template\": {\"data\": {\"bar\": [{\"error_x\": {\"color\": \"#2a3f5f\"}, \"error_y\": {\"color\": \"#2a3f5f\"}, \"marker\": {\"line\": {\"color\": \"#E5ECF6\", \"width\": 0.5}}, \"type\": \"bar\"}], \"barpolar\": [{\"marker\": {\"line\": {\"color\": \"#E5ECF6\", \"width\": 0.5}}, \"type\": \"barpolar\"}], \"carpet\": [{\"aaxis\": {\"endlinecolor\": \"#2a3f5f\", \"gridcolor\": \"white\", \"linecolor\": \"white\", \"minorgridcolor\": \"white\", \"startlinecolor\": \"#2a3f5f\"}, \"baxis\": {\"endlinecolor\": \"#2a3f5f\", \"gridcolor\": \"white\", \"linecolor\": \"white\", \"minorgridcolor\": \"white\", \"startlinecolor\": \"#2a3f5f\"}, \"type\": \"carpet\"}], \"choropleth\": [{\"colorbar\": {\"outlinewidth\": 0, \"ticks\": \"\"}, \"type\": \"choropleth\"}], \"contour\": [{\"colorbar\": {\"outlinewidth\": 0, \"ticks\": \"\"}, \"colorscale\": [[0.0, \"#0d0887\"], [0.1111111111111111, \"#46039f\"], [0.2222222222222222, \"#7201a8\"], [0.3333333333333333, \"#9c179e\"], [0.4444444444444444, \"#bd3786\"], [0.5555555555555556, \"#d8576b\"], [0.6666666666666666, \"#ed7953\"], [0.7777777777777778, \"#fb9f3a\"], [0.8888888888888888, \"#fdca26\"], [1.0, \"#f0f921\"]], \"type\": \"contour\"}], \"contourcarpet\": [{\"colorbar\": {\"outlinewidth\": 0, \"ticks\": \"\"}, \"type\": \"contourcarpet\"}], \"heatmap\": [{\"colorbar\": {\"outlinewidth\": 0, \"ticks\": \"\"}, \"colorscale\": [[0.0, \"#0d0887\"], [0.1111111111111111, \"#46039f\"], [0.2222222222222222, \"#7201a8\"], [0.3333333333333333, \"#9c179e\"], [0.4444444444444444, \"#bd3786\"], [0.5555555555555556, \"#d8576b\"], [0.6666666666666666, \"#ed7953\"], [0.7777777777777778, \"#fb9f3a\"], [0.8888888888888888, \"#fdca26\"], [1.0, \"#f0f921\"]], \"type\": \"heatmap\"}], \"heatmapgl\": [{\"colorbar\": {\"outlinewidth\": 0, \"ticks\": \"\"}, \"colorscale\": [[0.0, \"#0d0887\"], [0.1111111111111111, \"#46039f\"], [0.2222222222222222, \"#7201a8\"], [0.3333333333333333, \"#9c179e\"], [0.4444444444444444, \"#bd3786\"], [0.5555555555555556, \"#d8576b\"], [0.6666666666666666, \"#ed7953\"], [0.7777777777777778, \"#fb9f3a\"], [0.8888888888888888, \"#fdca26\"], [1.0, \"#f0f921\"]], \"type\": \"heatmapgl\"}], \"histogram\": [{\"marker\": {\"colorbar\": {\"outlinewidth\": 0, \"ticks\": \"\"}}, \"type\": \"histogram\"}], \"histogram2d\": [{\"colorbar\": {\"outlinewidth\": 0, \"ticks\": \"\"}, \"colorscale\": [[0.0, \"#0d0887\"], [0.1111111111111111, \"#46039f\"], [0.2222222222222222, \"#7201a8\"], [0.3333333333333333, \"#9c179e\"], [0.4444444444444444, \"#bd3786\"], [0.5555555555555556, \"#d8576b\"], [0.6666666666666666, \"#ed7953\"], [0.7777777777777778, \"#fb9f3a\"], [0.8888888888888888, \"#fdca26\"], [1.0, \"#f0f921\"]], \"type\": \"histogram2d\"}], \"histogram2dcontour\": [{\"colorbar\": {\"outlinewidth\": 0, \"ticks\": \"\"}, \"colorscale\": [[0.0, \"#0d0887\"], [0.1111111111111111, \"#46039f\"], [0.2222222222222222, \"#7201a8\"], [0.3333333333333333, \"#9c179e\"], [0.4444444444444444, \"#bd3786\"], [0.5555555555555556, \"#d8576b\"], [0.6666666666666666, \"#ed7953\"], [0.7777777777777778, \"#fb9f3a\"], [0.8888888888888888, \"#fdca26\"], [1.0, \"#f0f921\"]], \"type\": \"histogram2dcontour\"}], \"mesh3d\": [{\"colorbar\": {\"outlinewidth\": 0, \"ticks\": \"\"}, \"type\": \"mesh3d\"}], \"parcoords\": [{\"line\": {\"colorbar\": {\"outlinewidth\": 0, \"ticks\": \"\"}}, \"type\": \"parcoords\"}], \"pie\": [{\"automargin\": true, \"type\": \"pie\"}], \"scatter\": [{\"marker\": {\"colorbar\": {\"outlinewidth\": 0, \"ticks\": \"\"}}, \"type\": \"scatter\"}], \"scatter3d\": [{\"line\": {\"colorbar\": {\"outlinewidth\": 0, \"ticks\": \"\"}}, \"marker\": {\"colorbar\": {\"outlinewidth\": 0, \"ticks\": \"\"}}, \"type\": \"scatter3d\"}], \"scattercarpet\": [{\"marker\": {\"colorbar\": {\"outlinewidth\": 0, \"ticks\": \"\"}}, \"type\": \"scattercarpet\"}], \"scattergeo\": [{\"marker\": {\"colorbar\": {\"outlinewidth\": 0, \"ticks\": \"\"}}, \"type\": \"scattergeo\"}], \"scattergl\": [{\"marker\": {\"colorbar\": {\"outlinewidth\": 0, \"ticks\": \"\"}}, \"type\": \"scattergl\"}], \"scattermapbox\": [{\"marker\": {\"colorbar\": {\"outlinewidth\": 0, \"ticks\": \"\"}}, \"type\": \"scattermapbox\"}], \"scatterpolar\": [{\"marker\": {\"colorbar\": {\"outlinewidth\": 0, \"ticks\": \"\"}}, \"type\": \"scatterpolar\"}], \"scatterpolargl\": [{\"marker\": {\"colorbar\": {\"outlinewidth\": 0, \"ticks\": \"\"}}, \"type\": \"scatterpolargl\"}], \"scatterternary\": [{\"marker\": {\"colorbar\": {\"outlinewidth\": 0, \"ticks\": \"\"}}, \"type\": \"scatterternary\"}], \"surface\": [{\"colorbar\": {\"outlinewidth\": 0, \"ticks\": \"\"}, \"colorscale\": [[0.0, \"#0d0887\"], [0.1111111111111111, \"#46039f\"], [0.2222222222222222, \"#7201a8\"], [0.3333333333333333, \"#9c179e\"], [0.4444444444444444, \"#bd3786\"], [0.5555555555555556, \"#d8576b\"], [0.6666666666666666, \"#ed7953\"], [0.7777777777777778, \"#fb9f3a\"], [0.8888888888888888, \"#fdca26\"], [1.0, \"#f0f921\"]], \"type\": \"surface\"}], \"table\": [{\"cells\": {\"fill\": {\"color\": \"#EBF0F8\"}, \"line\": {\"color\": \"white\"}}, \"header\": {\"fill\": {\"color\": \"#C8D4E3\"}, \"line\": {\"color\": \"white\"}}, \"type\": \"table\"}]}, \"layout\": {\"annotationdefaults\": {\"arrowcolor\": \"#2a3f5f\", \"arrowhead\": 0, \"arrowwidth\": 1}, \"coloraxis\": {\"colorbar\": {\"outlinewidth\": 0, \"ticks\": \"\"}}, \"colorscale\": {\"diverging\": [[0, \"#8e0152\"], [0.1, \"#c51b7d\"], [0.2, \"#de77ae\"], [0.3, \"#f1b6da\"], [0.4, \"#fde0ef\"], [0.5, \"#f7f7f7\"], [0.6, \"#e6f5d0\"], [0.7, \"#b8e186\"], [0.8, \"#7fbc41\"], [0.9, \"#4d9221\"], [1, \"#276419\"]], \"sequential\": [[0.0, \"#0d0887\"], [0.1111111111111111, \"#46039f\"], [0.2222222222222222, \"#7201a8\"], [0.3333333333333333, \"#9c179e\"], [0.4444444444444444, \"#bd3786\"], [0.5555555555555556, \"#d8576b\"], [0.6666666666666666, \"#ed7953\"], [0.7777777777777778, \"#fb9f3a\"], [0.8888888888888888, \"#fdca26\"], [1.0, \"#f0f921\"]], \"sequentialminus\": [[0.0, \"#0d0887\"], [0.1111111111111111, \"#46039f\"], [0.2222222222222222, \"#7201a8\"], [0.3333333333333333, \"#9c179e\"], [0.4444444444444444, \"#bd3786\"], [0.5555555555555556, \"#d8576b\"], [0.6666666666666666, \"#ed7953\"], [0.7777777777777778, \"#fb9f3a\"], [0.8888888888888888, \"#fdca26\"], [1.0, \"#f0f921\"]]}, \"colorway\": [\"#636efa\", \"#EF553B\", \"#00cc96\", \"#ab63fa\", \"#FFA15A\", \"#19d3f3\", \"#FF6692\", \"#B6E880\", \"#FF97FF\", \"#FECB52\"], \"font\": {\"color\": \"#2a3f5f\"}, \"geo\": {\"bgcolor\": \"white\", \"lakecolor\": \"white\", \"landcolor\": \"#E5ECF6\", \"showlakes\": true, \"showland\": true, \"subunitcolor\": \"white\"}, \"hoverlabel\": {\"align\": \"left\"}, \"hovermode\": \"closest\", \"mapbox\": {\"style\": \"light\"}, \"paper_bgcolor\": \"white\", \"plot_bgcolor\": \"#E5ECF6\", \"polar\": {\"angularaxis\": {\"gridcolor\": \"white\", \"linecolor\": \"white\", \"ticks\": \"\"}, \"bgcolor\": \"#E5ECF6\", \"radialaxis\": {\"gridcolor\": \"white\", \"linecolor\": \"white\", \"ticks\": \"\"}}, \"scene\": {\"xaxis\": {\"backgroundcolor\": \"#E5ECF6\", \"gridcolor\": \"white\", \"gridwidth\": 2, \"linecolor\": \"white\", \"showbackground\": true, \"ticks\": \"\", \"zerolinecolor\": \"white\"}, \"yaxis\": {\"backgroundcolor\": \"#E5ECF6\", \"gridcolor\": \"white\", \"gridwidth\": 2, \"linecolor\": \"white\", \"showbackground\": true, \"ticks\": \"\", \"zerolinecolor\": \"white\"}, \"zaxis\": {\"backgroundcolor\": \"#E5ECF6\", \"gridcolor\": \"white\", \"gridwidth\": 2, \"linecolor\": \"white\", \"showbackground\": true, \"ticks\": \"\", \"zerolinecolor\": \"white\"}}, \"shapedefaults\": {\"line\": {\"color\": \"#2a3f5f\"}}, \"ternary\": {\"aaxis\": {\"gridcolor\": \"white\", \"linecolor\": \"white\", \"ticks\": \"\"}, \"baxis\": {\"gridcolor\": \"white\", \"linecolor\": \"white\", \"ticks\": \"\"}, \"bgcolor\": \"#E5ECF6\", \"caxis\": {\"gridcolor\": \"white\", \"linecolor\": \"white\", \"ticks\": \"\"}}, \"title\": {\"x\": 0.05}, \"xaxis\": {\"automargin\": true, \"gridcolor\": \"white\", \"linecolor\": \"white\", \"ticks\": \"\", \"title\": {\"standoff\": 15}, \"zerolinecolor\": \"white\", \"zerolinewidth\": 2}, \"yaxis\": {\"automargin\": true, \"gridcolor\": \"white\", \"linecolor\": \"white\", \"ticks\": \"\", \"title\": {\"standoff\": 15}, \"zerolinecolor\": \"white\", \"zerolinewidth\": 2}}}, \"title\": {\"text\": \"Political Dimension Projections (Relevant Subreddits)\"}, \"xaxis\": {\"range\": [-0.3951031158442029, 0.3951031158442029]}},\n",
       "                        {\"responsive\": true}\n",
       "                    ).then(function(){\n",
       "                            \n",
       "var gd = document.getElementById('e8ba5461-c7fd-4181-802c-d4dd2736e57a');\n",
       "var x = new MutationObserver(function (mutations, observer) {{\n",
       "        var display = window.getComputedStyle(gd).display;\n",
       "        if (!display || display === 'none') {{\n",
       "            console.log([gd, 'removed!']);\n",
       "            Plotly.purge(gd);\n",
       "            observer.disconnect();\n",
       "        }}\n",
       "}});\n",
       "\n",
       "// Listen for the removal of the full notebook cells\n",
       "var notebookContainer = gd.closest('#notebook-container');\n",
       "if (notebookContainer) {{\n",
       "    x.observe(notebookContainer, {childList: true});\n",
       "}}\n",
       "\n",
       "// Listen for the clearing of the current output cell\n",
       "var outputEl = gd.closest('.output');\n",
       "if (outputEl) {{\n",
       "    x.observe(outputEl, {childList: true});\n",
       "}}\n",
       "\n",
       "                        })\n",
       "                };\n",
       "                });\n",
       "            </script>\n",
       "        </div>"
      ]
     },
     "metadata": {},
     "output_type": "display_data"
    }
   ],
   "source": [
    "fig = go.Figure()\n",
    "[fig.add_trace(go.Box(x=proj_df[n],quartilemethod=\"linear\", name=n,text=proj_df.index,marker=dict(opacity=0.5))) for n in proj_df.columns]\n",
    "fig.update_traces(boxpoints='all', jitter=0.4)\n",
    "\n",
    "x = abs(max(proj_df.max().max(),proj_df.min().min(),key=abs))*1.10\n",
    "annotations = []\n",
    "\n",
    "for dim_info in dims:\n",
    "    annotations.append(dict(\n",
    "            x=x,\n",
    "            y=dim_info.name,\n",
    "            xref=\"x\",\n",
    "            yref=\"y\",\n",
    "            text=\"<b>{}</b>\".format(dim_info.tags[0]),\n",
    "            showarrow=False,\n",
    "            ax=-40,\n",
    "            ay=0\n",
    "        ))    \n",
    "    annotations.append(dict(\n",
    "            x=-x,\n",
    "            y=dim_info.name,\n",
    "            xref=\"x\",\n",
    "            yref=\"y\",\n",
    "            text=f\"<b>{dim_info.tags[1]}</b>\",\n",
    "            showarrow=False,\n",
    "            ax=-40,\n",
    "            ay=0\n",
    "        ))\n",
    "    # Annotate \n",
    "    mx = proj_df[dim_info.name].idxmax()\n",
    "    mn = proj_df[dim_info.name].idxmin()\n",
    "    annotations.append(dict(\n",
    "            x=proj_df.loc[mx][dim_info.name],\n",
    "            y=dim_info.name,\n",
    "            xref=\"x\",\n",
    "            yref=\"y\",\n",
    "            text=f\"/r/{mx}\",\n",
    "            arrowcolor=\"rgba(0,0,0,0)\",\n",
    "            ax=0,\n",
    "            ay=30\n",
    "        ))\n",
    "    annotations.append(dict(\n",
    "            x=proj_df.loc[mn][dim_info.name],\n",
    "            y=dim_info.name,\n",
    "            xref=\"x\",\n",
    "            yref=\"y\",\n",
    "            text=f\"/r/{mn}\",\n",
    "            arrowcolor=\"rgba(0,0,0,0)\",\n",
    "            ax=0,\n",
    "            ay=30\n",
    "        ))\n",
    "\n",
    "fig.update_layout(\n",
    "    title=\"Political Dimension Projections (Relevant Subreddits)\",\n",
    "    showlegend=False,\n",
    "    annotations=annotations,\n",
    "    xaxis = dict(\n",
    "      range=[-x*1.25,x*1.25],  # Add some extra padding\n",
    "    )\n",
    ")\n",
    "# fig.write_html(\"visualizations/Political_Dimensions-Relevant_Subs.html\")\n",
    "\n",
    "fig.show()"
   ]
  },
  {
   "cell_type": "code",
   "execution_count": 41,
   "metadata": {},
   "outputs": [
    {
     "data": {
      "application/vnd.plotly.v1+json": {
       "config": {
        "plotlyServerURL": "https://plot.ly"
       },
       "data": [
        {
         "type": "heatmap",
         "x": [
          "Religiosity",
          "Ideology",
          "Birth Control",
          "Gun Control",
          "Age",
          "War",
          "Globalism"
         ],
         "y": [
          "Religiosity",
          "Ideology",
          "Birth Control",
          "Gun Control",
          "Age",
          "War",
          "Globalism"
         ],
         "z": [
          [
           0.9999999999999999,
           0.31190437597562565,
           0.39885967816656615,
           0.33073142512723486,
           -0.09339084778078861,
           0.054839539570741364,
           0.14930162140977318
          ],
          [
           0.31190437597562565,
           1.0000000000000002,
           0.6126142215504132,
           0.30628072733721345,
           -0.0772562351443366,
           0.11452221351652565,
           0.42120998217206995
          ],
          [
           0.39885967816656615,
           0.6126142215504132,
           0.9999999999999999,
           0.2562019406308765,
           -0.09652023069759184,
           -0.08320267506307023,
           0.13159054224329844
          ],
          [
           0.33073142512723486,
           0.30628072733721345,
           0.2562019406308765,
           1,
           -0.2237951218430611,
           0.015237964688392745,
           0.007955309230935253
          ],
          [
           -0.09339084778078861,
           -0.0772562351443366,
           -0.09652023069759184,
           -0.2237951218430611,
           1.0000000000000002,
           0.11269139675854038,
           0.2055827590335187
          ],
          [
           0.054839539570741364,
           0.11452221351652565,
           -0.08320267506307023,
           0.015237964688392745,
           0.11269139675854038,
           0.9999999999999998,
           0.3559748723820614
          ],
          [
           0.14930162140977318,
           0.42120998217206995,
           0.13159054224329844,
           0.007955309230935253,
           0.2055827590335187,
           0.3559748723820614,
           0.9999999999999999
          ]
         ]
        }
       ],
       "layout": {
        "template": {
         "data": {
          "bar": [
           {
            "error_x": {
             "color": "#2a3f5f"
            },
            "error_y": {
             "color": "#2a3f5f"
            },
            "marker": {
             "line": {
              "color": "#E5ECF6",
              "width": 0.5
             }
            },
            "type": "bar"
           }
          ],
          "barpolar": [
           {
            "marker": {
             "line": {
              "color": "#E5ECF6",
              "width": 0.5
             }
            },
            "type": "barpolar"
           }
          ],
          "carpet": [
           {
            "aaxis": {
             "endlinecolor": "#2a3f5f",
             "gridcolor": "white",
             "linecolor": "white",
             "minorgridcolor": "white",
             "startlinecolor": "#2a3f5f"
            },
            "baxis": {
             "endlinecolor": "#2a3f5f",
             "gridcolor": "white",
             "linecolor": "white",
             "minorgridcolor": "white",
             "startlinecolor": "#2a3f5f"
            },
            "type": "carpet"
           }
          ],
          "choropleth": [
           {
            "colorbar": {
             "outlinewidth": 0,
             "ticks": ""
            },
            "type": "choropleth"
           }
          ],
          "contour": [
           {
            "colorbar": {
             "outlinewidth": 0,
             "ticks": ""
            },
            "colorscale": [
             [
              0,
              "#0d0887"
             ],
             [
              0.1111111111111111,
              "#46039f"
             ],
             [
              0.2222222222222222,
              "#7201a8"
             ],
             [
              0.3333333333333333,
              "#9c179e"
             ],
             [
              0.4444444444444444,
              "#bd3786"
             ],
             [
              0.5555555555555556,
              "#d8576b"
             ],
             [
              0.6666666666666666,
              "#ed7953"
             ],
             [
              0.7777777777777778,
              "#fb9f3a"
             ],
             [
              0.8888888888888888,
              "#fdca26"
             ],
             [
              1,
              "#f0f921"
             ]
            ],
            "type": "contour"
           }
          ],
          "contourcarpet": [
           {
            "colorbar": {
             "outlinewidth": 0,
             "ticks": ""
            },
            "type": "contourcarpet"
           }
          ],
          "heatmap": [
           {
            "colorbar": {
             "outlinewidth": 0,
             "ticks": ""
            },
            "colorscale": [
             [
              0,
              "#0d0887"
             ],
             [
              0.1111111111111111,
              "#46039f"
             ],
             [
              0.2222222222222222,
              "#7201a8"
             ],
             [
              0.3333333333333333,
              "#9c179e"
             ],
             [
              0.4444444444444444,
              "#bd3786"
             ],
             [
              0.5555555555555556,
              "#d8576b"
             ],
             [
              0.6666666666666666,
              "#ed7953"
             ],
             [
              0.7777777777777778,
              "#fb9f3a"
             ],
             [
              0.8888888888888888,
              "#fdca26"
             ],
             [
              1,
              "#f0f921"
             ]
            ],
            "type": "heatmap"
           }
          ],
          "heatmapgl": [
           {
            "colorbar": {
             "outlinewidth": 0,
             "ticks": ""
            },
            "colorscale": [
             [
              0,
              "#0d0887"
             ],
             [
              0.1111111111111111,
              "#46039f"
             ],
             [
              0.2222222222222222,
              "#7201a8"
             ],
             [
              0.3333333333333333,
              "#9c179e"
             ],
             [
              0.4444444444444444,
              "#bd3786"
             ],
             [
              0.5555555555555556,
              "#d8576b"
             ],
             [
              0.6666666666666666,
              "#ed7953"
             ],
             [
              0.7777777777777778,
              "#fb9f3a"
             ],
             [
              0.8888888888888888,
              "#fdca26"
             ],
             [
              1,
              "#f0f921"
             ]
            ],
            "type": "heatmapgl"
           }
          ],
          "histogram": [
           {
            "marker": {
             "colorbar": {
              "outlinewidth": 0,
              "ticks": ""
             }
            },
            "type": "histogram"
           }
          ],
          "histogram2d": [
           {
            "colorbar": {
             "outlinewidth": 0,
             "ticks": ""
            },
            "colorscale": [
             [
              0,
              "#0d0887"
             ],
             [
              0.1111111111111111,
              "#46039f"
             ],
             [
              0.2222222222222222,
              "#7201a8"
             ],
             [
              0.3333333333333333,
              "#9c179e"
             ],
             [
              0.4444444444444444,
              "#bd3786"
             ],
             [
              0.5555555555555556,
              "#d8576b"
             ],
             [
              0.6666666666666666,
              "#ed7953"
             ],
             [
              0.7777777777777778,
              "#fb9f3a"
             ],
             [
              0.8888888888888888,
              "#fdca26"
             ],
             [
              1,
              "#f0f921"
             ]
            ],
            "type": "histogram2d"
           }
          ],
          "histogram2dcontour": [
           {
            "colorbar": {
             "outlinewidth": 0,
             "ticks": ""
            },
            "colorscale": [
             [
              0,
              "#0d0887"
             ],
             [
              0.1111111111111111,
              "#46039f"
             ],
             [
              0.2222222222222222,
              "#7201a8"
             ],
             [
              0.3333333333333333,
              "#9c179e"
             ],
             [
              0.4444444444444444,
              "#bd3786"
             ],
             [
              0.5555555555555556,
              "#d8576b"
             ],
             [
              0.6666666666666666,
              "#ed7953"
             ],
             [
              0.7777777777777778,
              "#fb9f3a"
             ],
             [
              0.8888888888888888,
              "#fdca26"
             ],
             [
              1,
              "#f0f921"
             ]
            ],
            "type": "histogram2dcontour"
           }
          ],
          "mesh3d": [
           {
            "colorbar": {
             "outlinewidth": 0,
             "ticks": ""
            },
            "type": "mesh3d"
           }
          ],
          "parcoords": [
           {
            "line": {
             "colorbar": {
              "outlinewidth": 0,
              "ticks": ""
             }
            },
            "type": "parcoords"
           }
          ],
          "pie": [
           {
            "automargin": true,
            "type": "pie"
           }
          ],
          "scatter": [
           {
            "marker": {
             "colorbar": {
              "outlinewidth": 0,
              "ticks": ""
             }
            },
            "type": "scatter"
           }
          ],
          "scatter3d": [
           {
            "line": {
             "colorbar": {
              "outlinewidth": 0,
              "ticks": ""
             }
            },
            "marker": {
             "colorbar": {
              "outlinewidth": 0,
              "ticks": ""
             }
            },
            "type": "scatter3d"
           }
          ],
          "scattercarpet": [
           {
            "marker": {
             "colorbar": {
              "outlinewidth": 0,
              "ticks": ""
             }
            },
            "type": "scattercarpet"
           }
          ],
          "scattergeo": [
           {
            "marker": {
             "colorbar": {
              "outlinewidth": 0,
              "ticks": ""
             }
            },
            "type": "scattergeo"
           }
          ],
          "scattergl": [
           {
            "marker": {
             "colorbar": {
              "outlinewidth": 0,
              "ticks": ""
             }
            },
            "type": "scattergl"
           }
          ],
          "scattermapbox": [
           {
            "marker": {
             "colorbar": {
              "outlinewidth": 0,
              "ticks": ""
             }
            },
            "type": "scattermapbox"
           }
          ],
          "scatterpolar": [
           {
            "marker": {
             "colorbar": {
              "outlinewidth": 0,
              "ticks": ""
             }
            },
            "type": "scatterpolar"
           }
          ],
          "scatterpolargl": [
           {
            "marker": {
             "colorbar": {
              "outlinewidth": 0,
              "ticks": ""
             }
            },
            "type": "scatterpolargl"
           }
          ],
          "scatterternary": [
           {
            "marker": {
             "colorbar": {
              "outlinewidth": 0,
              "ticks": ""
             }
            },
            "type": "scatterternary"
           }
          ],
          "surface": [
           {
            "colorbar": {
             "outlinewidth": 0,
             "ticks": ""
            },
            "colorscale": [
             [
              0,
              "#0d0887"
             ],
             [
              0.1111111111111111,
              "#46039f"
             ],
             [
              0.2222222222222222,
              "#7201a8"
             ],
             [
              0.3333333333333333,
              "#9c179e"
             ],
             [
              0.4444444444444444,
              "#bd3786"
             ],
             [
              0.5555555555555556,
              "#d8576b"
             ],
             [
              0.6666666666666666,
              "#ed7953"
             ],
             [
              0.7777777777777778,
              "#fb9f3a"
             ],
             [
              0.8888888888888888,
              "#fdca26"
             ],
             [
              1,
              "#f0f921"
             ]
            ],
            "type": "surface"
           }
          ],
          "table": [
           {
            "cells": {
             "fill": {
              "color": "#EBF0F8"
             },
             "line": {
              "color": "white"
             }
            },
            "header": {
             "fill": {
              "color": "#C8D4E3"
             },
             "line": {
              "color": "white"
             }
            },
            "type": "table"
           }
          ]
         },
         "layout": {
          "annotationdefaults": {
           "arrowcolor": "#2a3f5f",
           "arrowhead": 0,
           "arrowwidth": 1
          },
          "coloraxis": {
           "colorbar": {
            "outlinewidth": 0,
            "ticks": ""
           }
          },
          "colorscale": {
           "diverging": [
            [
             0,
             "#8e0152"
            ],
            [
             0.1,
             "#c51b7d"
            ],
            [
             0.2,
             "#de77ae"
            ],
            [
             0.3,
             "#f1b6da"
            ],
            [
             0.4,
             "#fde0ef"
            ],
            [
             0.5,
             "#f7f7f7"
            ],
            [
             0.6,
             "#e6f5d0"
            ],
            [
             0.7,
             "#b8e186"
            ],
            [
             0.8,
             "#7fbc41"
            ],
            [
             0.9,
             "#4d9221"
            ],
            [
             1,
             "#276419"
            ]
           ],
           "sequential": [
            [
             0,
             "#0d0887"
            ],
            [
             0.1111111111111111,
             "#46039f"
            ],
            [
             0.2222222222222222,
             "#7201a8"
            ],
            [
             0.3333333333333333,
             "#9c179e"
            ],
            [
             0.4444444444444444,
             "#bd3786"
            ],
            [
             0.5555555555555556,
             "#d8576b"
            ],
            [
             0.6666666666666666,
             "#ed7953"
            ],
            [
             0.7777777777777778,
             "#fb9f3a"
            ],
            [
             0.8888888888888888,
             "#fdca26"
            ],
            [
             1,
             "#f0f921"
            ]
           ],
           "sequentialminus": [
            [
             0,
             "#0d0887"
            ],
            [
             0.1111111111111111,
             "#46039f"
            ],
            [
             0.2222222222222222,
             "#7201a8"
            ],
            [
             0.3333333333333333,
             "#9c179e"
            ],
            [
             0.4444444444444444,
             "#bd3786"
            ],
            [
             0.5555555555555556,
             "#d8576b"
            ],
            [
             0.6666666666666666,
             "#ed7953"
            ],
            [
             0.7777777777777778,
             "#fb9f3a"
            ],
            [
             0.8888888888888888,
             "#fdca26"
            ],
            [
             1,
             "#f0f921"
            ]
           ]
          },
          "colorway": [
           "#636efa",
           "#EF553B",
           "#00cc96",
           "#ab63fa",
           "#FFA15A",
           "#19d3f3",
           "#FF6692",
           "#B6E880",
           "#FF97FF",
           "#FECB52"
          ],
          "font": {
           "color": "#2a3f5f"
          },
          "geo": {
           "bgcolor": "white",
           "lakecolor": "white",
           "landcolor": "#E5ECF6",
           "showlakes": true,
           "showland": true,
           "subunitcolor": "white"
          },
          "hoverlabel": {
           "align": "left"
          },
          "hovermode": "closest",
          "mapbox": {
           "style": "light"
          },
          "paper_bgcolor": "white",
          "plot_bgcolor": "#E5ECF6",
          "polar": {
           "angularaxis": {
            "gridcolor": "white",
            "linecolor": "white",
            "ticks": ""
           },
           "bgcolor": "#E5ECF6",
           "radialaxis": {
            "gridcolor": "white",
            "linecolor": "white",
            "ticks": ""
           }
          },
          "scene": {
           "xaxis": {
            "backgroundcolor": "#E5ECF6",
            "gridcolor": "white",
            "gridwidth": 2,
            "linecolor": "white",
            "showbackground": true,
            "ticks": "",
            "zerolinecolor": "white"
           },
           "yaxis": {
            "backgroundcolor": "#E5ECF6",
            "gridcolor": "white",
            "gridwidth": 2,
            "linecolor": "white",
            "showbackground": true,
            "ticks": "",
            "zerolinecolor": "white"
           },
           "zaxis": {
            "backgroundcolor": "#E5ECF6",
            "gridcolor": "white",
            "gridwidth": 2,
            "linecolor": "white",
            "showbackground": true,
            "ticks": "",
            "zerolinecolor": "white"
           }
          },
          "shapedefaults": {
           "line": {
            "color": "#2a3f5f"
           }
          },
          "ternary": {
           "aaxis": {
            "gridcolor": "white",
            "linecolor": "white",
            "ticks": ""
           },
           "baxis": {
            "gridcolor": "white",
            "linecolor": "white",
            "ticks": ""
           },
           "bgcolor": "#E5ECF6",
           "caxis": {
            "gridcolor": "white",
            "linecolor": "white",
            "ticks": ""
           }
          },
          "title": {
           "x": 0.05
          },
          "xaxis": {
           "automargin": true,
           "gridcolor": "white",
           "linecolor": "white",
           "ticks": "",
           "title": {
            "standoff": 15
           },
           "zerolinecolor": "white",
           "zerolinewidth": 2
          },
          "yaxis": {
           "automargin": true,
           "gridcolor": "white",
           "linecolor": "white",
           "ticks": "",
           "title": {
            "standoff": 15
           },
           "zerolinecolor": "white",
           "zerolinewidth": 2
          }
         }
        },
        "title": {
         "text": "Similarity of Political Dimensions"
        },
        "xaxis": {
         "title": {
          "text": "Dimension"
         }
        },
        "yaxis": {
         "title": {
          "text": "Dimension"
         }
        }
       }
      },
      "text/html": [
       "<div>\n",
       "        \n",
       "        \n",
       "            <div id=\"1fafeaaf-80ac-4114-807d-c4d3dfe0b8e8\" class=\"plotly-graph-div\" style=\"height:525px; width:100%;\"></div>\n",
       "            <script type=\"text/javascript\">\n",
       "                require([\"plotly\"], function(Plotly) {\n",
       "                    window.PLOTLYENV=window.PLOTLYENV || {};\n",
       "                    \n",
       "                if (document.getElementById(\"1fafeaaf-80ac-4114-807d-c4d3dfe0b8e8\")) {\n",
       "                    Plotly.newPlot(\n",
       "                        '1fafeaaf-80ac-4114-807d-c4d3dfe0b8e8',\n",
       "                        [{\"type\": \"heatmap\", \"x\": [\"Religiosity\", \"Ideology\", \"Birth Control\", \"Gun Control\", \"Age\", \"War\", \"Globalism\"], \"y\": [\"Religiosity\", \"Ideology\", \"Birth Control\", \"Gun Control\", \"Age\", \"War\", \"Globalism\"], \"z\": [[0.9999999999999999, 0.31190437597562565, 0.39885967816656615, 0.33073142512723486, -0.09339084778078861, 0.054839539570741364, 0.14930162140977318], [0.31190437597562565, 1.0000000000000002, 0.6126142215504132, 0.30628072733721345, -0.0772562351443366, 0.11452221351652565, 0.42120998217206995], [0.39885967816656615, 0.6126142215504132, 0.9999999999999999, 0.2562019406308765, -0.09652023069759184, -0.08320267506307023, 0.13159054224329844], [0.33073142512723486, 0.30628072733721345, 0.2562019406308765, 1.0, -0.2237951218430611, 0.015237964688392745, 0.007955309230935253], [-0.09339084778078861, -0.0772562351443366, -0.09652023069759184, -0.2237951218430611, 1.0000000000000002, 0.11269139675854038, 0.2055827590335187], [0.054839539570741364, 0.11452221351652565, -0.08320267506307023, 0.015237964688392745, 0.11269139675854038, 0.9999999999999998, 0.3559748723820614], [0.14930162140977318, 0.42120998217206995, 0.13159054224329844, 0.007955309230935253, 0.2055827590335187, 0.3559748723820614, 0.9999999999999999]]}],\n",
       "                        {\"template\": {\"data\": {\"bar\": [{\"error_x\": {\"color\": \"#2a3f5f\"}, \"error_y\": {\"color\": \"#2a3f5f\"}, \"marker\": {\"line\": {\"color\": \"#E5ECF6\", \"width\": 0.5}}, \"type\": \"bar\"}], \"barpolar\": [{\"marker\": {\"line\": {\"color\": \"#E5ECF6\", \"width\": 0.5}}, \"type\": \"barpolar\"}], \"carpet\": [{\"aaxis\": {\"endlinecolor\": \"#2a3f5f\", \"gridcolor\": \"white\", \"linecolor\": \"white\", \"minorgridcolor\": \"white\", \"startlinecolor\": \"#2a3f5f\"}, \"baxis\": {\"endlinecolor\": \"#2a3f5f\", \"gridcolor\": \"white\", \"linecolor\": \"white\", \"minorgridcolor\": \"white\", \"startlinecolor\": \"#2a3f5f\"}, \"type\": \"carpet\"}], \"choropleth\": [{\"colorbar\": {\"outlinewidth\": 0, \"ticks\": \"\"}, \"type\": \"choropleth\"}], \"contour\": [{\"colorbar\": {\"outlinewidth\": 0, \"ticks\": \"\"}, \"colorscale\": [[0.0, \"#0d0887\"], [0.1111111111111111, \"#46039f\"], [0.2222222222222222, \"#7201a8\"], [0.3333333333333333, \"#9c179e\"], [0.4444444444444444, \"#bd3786\"], [0.5555555555555556, \"#d8576b\"], [0.6666666666666666, \"#ed7953\"], [0.7777777777777778, \"#fb9f3a\"], [0.8888888888888888, \"#fdca26\"], [1.0, \"#f0f921\"]], \"type\": \"contour\"}], \"contourcarpet\": [{\"colorbar\": {\"outlinewidth\": 0, \"ticks\": \"\"}, \"type\": \"contourcarpet\"}], \"heatmap\": [{\"colorbar\": {\"outlinewidth\": 0, \"ticks\": \"\"}, \"colorscale\": [[0.0, \"#0d0887\"], [0.1111111111111111, \"#46039f\"], [0.2222222222222222, \"#7201a8\"], [0.3333333333333333, \"#9c179e\"], [0.4444444444444444, \"#bd3786\"], [0.5555555555555556, \"#d8576b\"], [0.6666666666666666, \"#ed7953\"], [0.7777777777777778, \"#fb9f3a\"], [0.8888888888888888, \"#fdca26\"], [1.0, \"#f0f921\"]], \"type\": \"heatmap\"}], \"heatmapgl\": [{\"colorbar\": {\"outlinewidth\": 0, \"ticks\": \"\"}, \"colorscale\": [[0.0, \"#0d0887\"], [0.1111111111111111, \"#46039f\"], [0.2222222222222222, \"#7201a8\"], [0.3333333333333333, \"#9c179e\"], [0.4444444444444444, \"#bd3786\"], [0.5555555555555556, \"#d8576b\"], [0.6666666666666666, \"#ed7953\"], [0.7777777777777778, \"#fb9f3a\"], [0.8888888888888888, \"#fdca26\"], [1.0, \"#f0f921\"]], \"type\": \"heatmapgl\"}], \"histogram\": [{\"marker\": {\"colorbar\": {\"outlinewidth\": 0, \"ticks\": \"\"}}, \"type\": \"histogram\"}], \"histogram2d\": [{\"colorbar\": {\"outlinewidth\": 0, \"ticks\": \"\"}, \"colorscale\": [[0.0, \"#0d0887\"], [0.1111111111111111, \"#46039f\"], [0.2222222222222222, \"#7201a8\"], [0.3333333333333333, \"#9c179e\"], [0.4444444444444444, \"#bd3786\"], [0.5555555555555556, \"#d8576b\"], [0.6666666666666666, \"#ed7953\"], [0.7777777777777778, \"#fb9f3a\"], [0.8888888888888888, \"#fdca26\"], [1.0, \"#f0f921\"]], \"type\": \"histogram2d\"}], \"histogram2dcontour\": [{\"colorbar\": {\"outlinewidth\": 0, \"ticks\": \"\"}, \"colorscale\": [[0.0, \"#0d0887\"], [0.1111111111111111, \"#46039f\"], [0.2222222222222222, \"#7201a8\"], [0.3333333333333333, \"#9c179e\"], [0.4444444444444444, \"#bd3786\"], [0.5555555555555556, \"#d8576b\"], [0.6666666666666666, \"#ed7953\"], [0.7777777777777778, \"#fb9f3a\"], [0.8888888888888888, \"#fdca26\"], [1.0, \"#f0f921\"]], \"type\": \"histogram2dcontour\"}], \"mesh3d\": [{\"colorbar\": {\"outlinewidth\": 0, \"ticks\": \"\"}, \"type\": \"mesh3d\"}], \"parcoords\": [{\"line\": {\"colorbar\": {\"outlinewidth\": 0, \"ticks\": \"\"}}, \"type\": \"parcoords\"}], \"pie\": [{\"automargin\": true, \"type\": \"pie\"}], \"scatter\": [{\"marker\": {\"colorbar\": {\"outlinewidth\": 0, \"ticks\": \"\"}}, \"type\": \"scatter\"}], \"scatter3d\": [{\"line\": {\"colorbar\": {\"outlinewidth\": 0, \"ticks\": \"\"}}, \"marker\": {\"colorbar\": {\"outlinewidth\": 0, \"ticks\": \"\"}}, \"type\": \"scatter3d\"}], \"scattercarpet\": [{\"marker\": {\"colorbar\": {\"outlinewidth\": 0, \"ticks\": \"\"}}, \"type\": \"scattercarpet\"}], \"scattergeo\": [{\"marker\": {\"colorbar\": {\"outlinewidth\": 0, \"ticks\": \"\"}}, \"type\": \"scattergeo\"}], \"scattergl\": [{\"marker\": {\"colorbar\": {\"outlinewidth\": 0, \"ticks\": \"\"}}, \"type\": \"scattergl\"}], \"scattermapbox\": [{\"marker\": {\"colorbar\": {\"outlinewidth\": 0, \"ticks\": \"\"}}, \"type\": \"scattermapbox\"}], \"scatterpolar\": [{\"marker\": {\"colorbar\": {\"outlinewidth\": 0, \"ticks\": \"\"}}, \"type\": \"scatterpolar\"}], \"scatterpolargl\": [{\"marker\": {\"colorbar\": {\"outlinewidth\": 0, \"ticks\": \"\"}}, \"type\": \"scatterpolargl\"}], \"scatterternary\": [{\"marker\": {\"colorbar\": {\"outlinewidth\": 0, \"ticks\": \"\"}}, \"type\": \"scatterternary\"}], \"surface\": [{\"colorbar\": {\"outlinewidth\": 0, \"ticks\": \"\"}, \"colorscale\": [[0.0, \"#0d0887\"], [0.1111111111111111, \"#46039f\"], [0.2222222222222222, \"#7201a8\"], [0.3333333333333333, \"#9c179e\"], [0.4444444444444444, \"#bd3786\"], [0.5555555555555556, \"#d8576b\"], [0.6666666666666666, \"#ed7953\"], [0.7777777777777778, \"#fb9f3a\"], [0.8888888888888888, \"#fdca26\"], [1.0, \"#f0f921\"]], \"type\": \"surface\"}], \"table\": [{\"cells\": {\"fill\": {\"color\": \"#EBF0F8\"}, \"line\": {\"color\": \"white\"}}, \"header\": {\"fill\": {\"color\": \"#C8D4E3\"}, \"line\": {\"color\": \"white\"}}, \"type\": \"table\"}]}, \"layout\": {\"annotationdefaults\": {\"arrowcolor\": \"#2a3f5f\", \"arrowhead\": 0, \"arrowwidth\": 1}, \"coloraxis\": {\"colorbar\": {\"outlinewidth\": 0, \"ticks\": \"\"}}, \"colorscale\": {\"diverging\": [[0, \"#8e0152\"], [0.1, \"#c51b7d\"], [0.2, \"#de77ae\"], [0.3, \"#f1b6da\"], [0.4, \"#fde0ef\"], [0.5, \"#f7f7f7\"], [0.6, \"#e6f5d0\"], [0.7, \"#b8e186\"], [0.8, \"#7fbc41\"], [0.9, \"#4d9221\"], [1, \"#276419\"]], \"sequential\": [[0.0, \"#0d0887\"], [0.1111111111111111, \"#46039f\"], [0.2222222222222222, \"#7201a8\"], [0.3333333333333333, \"#9c179e\"], [0.4444444444444444, \"#bd3786\"], [0.5555555555555556, \"#d8576b\"], [0.6666666666666666, \"#ed7953\"], [0.7777777777777778, \"#fb9f3a\"], [0.8888888888888888, \"#fdca26\"], [1.0, \"#f0f921\"]], \"sequentialminus\": [[0.0, \"#0d0887\"], [0.1111111111111111, \"#46039f\"], [0.2222222222222222, \"#7201a8\"], [0.3333333333333333, \"#9c179e\"], [0.4444444444444444, \"#bd3786\"], [0.5555555555555556, \"#d8576b\"], [0.6666666666666666, \"#ed7953\"], [0.7777777777777778, \"#fb9f3a\"], [0.8888888888888888, \"#fdca26\"], [1.0, \"#f0f921\"]]}, \"colorway\": [\"#636efa\", \"#EF553B\", \"#00cc96\", \"#ab63fa\", \"#FFA15A\", \"#19d3f3\", \"#FF6692\", \"#B6E880\", \"#FF97FF\", \"#FECB52\"], \"font\": {\"color\": \"#2a3f5f\"}, \"geo\": {\"bgcolor\": \"white\", \"lakecolor\": \"white\", \"landcolor\": \"#E5ECF6\", \"showlakes\": true, \"showland\": true, \"subunitcolor\": \"white\"}, \"hoverlabel\": {\"align\": \"left\"}, \"hovermode\": \"closest\", \"mapbox\": {\"style\": \"light\"}, \"paper_bgcolor\": \"white\", \"plot_bgcolor\": \"#E5ECF6\", \"polar\": {\"angularaxis\": {\"gridcolor\": \"white\", \"linecolor\": \"white\", \"ticks\": \"\"}, \"bgcolor\": \"#E5ECF6\", \"radialaxis\": {\"gridcolor\": \"white\", \"linecolor\": \"white\", \"ticks\": \"\"}}, \"scene\": {\"xaxis\": {\"backgroundcolor\": \"#E5ECF6\", \"gridcolor\": \"white\", \"gridwidth\": 2, \"linecolor\": \"white\", \"showbackground\": true, \"ticks\": \"\", \"zerolinecolor\": \"white\"}, \"yaxis\": {\"backgroundcolor\": \"#E5ECF6\", \"gridcolor\": \"white\", \"gridwidth\": 2, \"linecolor\": \"white\", \"showbackground\": true, \"ticks\": \"\", \"zerolinecolor\": \"white\"}, \"zaxis\": {\"backgroundcolor\": \"#E5ECF6\", \"gridcolor\": \"white\", \"gridwidth\": 2, \"linecolor\": \"white\", \"showbackground\": true, \"ticks\": \"\", \"zerolinecolor\": \"white\"}}, \"shapedefaults\": {\"line\": {\"color\": \"#2a3f5f\"}}, \"ternary\": {\"aaxis\": {\"gridcolor\": \"white\", \"linecolor\": \"white\", \"ticks\": \"\"}, \"baxis\": {\"gridcolor\": \"white\", \"linecolor\": \"white\", \"ticks\": \"\"}, \"bgcolor\": \"#E5ECF6\", \"caxis\": {\"gridcolor\": \"white\", \"linecolor\": \"white\", \"ticks\": \"\"}}, \"title\": {\"x\": 0.05}, \"xaxis\": {\"automargin\": true, \"gridcolor\": \"white\", \"linecolor\": \"white\", \"ticks\": \"\", \"title\": {\"standoff\": 15}, \"zerolinecolor\": \"white\", \"zerolinewidth\": 2}, \"yaxis\": {\"automargin\": true, \"gridcolor\": \"white\", \"linecolor\": \"white\", \"ticks\": \"\", \"title\": {\"standoff\": 15}, \"zerolinecolor\": \"white\", \"zerolinewidth\": 2}}}, \"title\": {\"text\": \"Similarity of Political Dimensions\"}, \"xaxis\": {\"title\": {\"text\": \"Dimension\"}}, \"yaxis\": {\"title\": {\"text\": \"Dimension\"}}},\n",
       "                        {\"responsive\": true}\n",
       "                    ).then(function(){\n",
       "                            \n",
       "var gd = document.getElementById('1fafeaaf-80ac-4114-807d-c4d3dfe0b8e8');\n",
       "var x = new MutationObserver(function (mutations, observer) {{\n",
       "        var display = window.getComputedStyle(gd).display;\n",
       "        if (!display || display === 'none') {{\n",
       "            console.log([gd, 'removed!']);\n",
       "            Plotly.purge(gd);\n",
       "            observer.disconnect();\n",
       "        }}\n",
       "}});\n",
       "\n",
       "// Listen for the removal of the full notebook cells\n",
       "var notebookContainer = gd.closest('#notebook-container');\n",
       "if (notebookContainer) {{\n",
       "    x.observe(notebookContainer, {childList: true});\n",
       "}}\n",
       "\n",
       "// Listen for the clearing of the current output cell\n",
       "var outputEl = gd.closest('.output');\n",
       "if (outputEl) {{\n",
       "    x.observe(outputEl, {childList: true});\n",
       "}}\n",
       "\n",
       "                        })\n",
       "                };\n",
       "                });\n",
       "            </script>\n",
       "        </div>"
      ]
     },
     "metadata": {},
     "output_type": "display_data"
    }
   ],
   "source": [
    "fig = go.Figure()\n",
    "d_names = [d.name for d in dims]\n",
    "vals = np.array([cos_sim(d1,d2) for d1 in d for d2 in d]).reshape(len(d),len(d))\n",
    "data = go.Heatmap(z=vals,y=d_names,x=d_names)#, zmin=-1, zmax=1)\n",
    "\n",
    "layout = {\n",
    "    \"title\": \"Similarity of Political Dimensions\",\n",
    "    \"xaxis\": {\"title\": \"Dimension\"},\n",
    "    \"yaxis\": {\"title\": \"Dimension\"},\n",
    "}\n",
    "fig = go.Figure(data=data,layout=layout)\n",
    "# fig.write_html(\"visualizations/2019_dimension_heatmap.html\")\n",
    "fig.show()"
   ]
  },
  {
   "cell_type": "markdown",
   "metadata": {},
   "source": [
    "## Ideology Validation\n",
    "\n",
    "Sources:https://www.pewresearch.org/pathways-2020/dem20ideo_d/digital_savviness/us_adults/\n",
    "and https://www.pewresearch.org/politics/2016/07/14/voters-perceptions-of-the-candidates-traits-ideology-and-impact-on-issues/"
   ]
  },
  {
   "cell_type": "code",
   "execution_count": 81,
   "metadata": {},
   "outputs": [
    {
     "data": {
      "text/html": [
       "<div>\n",
       "<style scoped>\n",
       "    .dataframe tbody tr th:only-of-type {\n",
       "        vertical-align: middle;\n",
       "    }\n",
       "\n",
       "    .dataframe tbody tr th {\n",
       "        vertical-align: top;\n",
       "    }\n",
       "\n",
       "    .dataframe thead th {\n",
       "        text-align: right;\n",
       "    }\n",
       "</style>\n",
       "<table border=\"1\" class=\"dataframe\">\n",
       "  <thead>\n",
       "    <tr style=\"text-align: right;\">\n",
       "      <th></th>\n",
       "      <th>pew_ideology</th>\n",
       "    </tr>\n",
       "    <tr>\n",
       "      <th>candidate</th>\n",
       "      <th></th>\n",
       "    </tr>\n",
       "  </thead>\n",
       "  <tbody>\n",
       "    <tr>\n",
       "      <th>Biden</th>\n",
       "      <td>-0.274262</td>\n",
       "    </tr>\n",
       "    <tr>\n",
       "      <th>Sanders</th>\n",
       "      <td>-0.726190</td>\n",
       "    </tr>\n",
       "    <tr>\n",
       "      <th>Warren</th>\n",
       "      <td>-0.604444</td>\n",
       "    </tr>\n",
       "    <tr>\n",
       "      <th>Buttigieg</th>\n",
       "      <td>-0.398010</td>\n",
       "    </tr>\n",
       "    <tr>\n",
       "      <th>Klobuchar</th>\n",
       "      <td>-0.285714</td>\n",
       "    </tr>\n",
       "    <tr>\n",
       "      <th>Trump</th>\n",
       "      <td>0.221053</td>\n",
       "    </tr>\n",
       "  </tbody>\n",
       "</table>\n",
       "</div>"
      ],
      "text/plain": [
       "           pew_ideology\n",
       "candidate              \n",
       "Biden         -0.274262\n",
       "Sanders       -0.726190\n",
       "Warren        -0.604444\n",
       "Buttigieg     -0.398010\n",
       "Klobuchar     -0.285714\n",
       "Trump          0.221053"
      ]
     },
     "execution_count": 81,
     "metadata": {},
     "output_type": "execute_result"
    }
   ],
   "source": [
    "cand_ideology = pd.read_csv(\"/h/224/cameron/Political-Subreddit-Embedding/external_datasets/polling_data/pew_ideology.csv\")\n",
    "cand_ideology = cand_ideology.drop([\"Not sure\",\"Refused\"],axis=1).set_index(\"candidate\")\n",
    "cand_ideology\n",
    "\n",
    "def survey_to_num(x):\n",
    "    \"\"\"\n",
    "        Note: since the 2016 survey that included Donald Trump only had 5 categories instead of 7 the column names don't\n",
    "        line up for his values, which were \"Entirely Liberal\",\"Mostly Liberal\",\"A Mix\",\"Mostly Conservative\",\"Entirely Conservative\"\n",
    "        this function creates a linear scale from -1 to 1 using the non-nan values in each rows columns. So for most candidates\n",
    "        this means the scale goes [-1, -0.66,...,0.66,1], but for Trump goes [-1,-0.5,...,0.5,1]\n",
    "    \"\"\"\n",
    "    weights = x.dropna()\n",
    "    scale = np.linspace(-1,1,len(weights))\n",
    "    return sum(weights * scale)/sum(weights)\n",
    "# Take the weighted average of how liberal/conservative the surveyed individuals thoguht each candidate was\n",
    "# -1 indicates 100% of people thinking that candidate is 'very liberal' and 1 indicates 100% of people thinking\n",
    "# that candidate is 'very conservative'\n",
    "cand_ideology[\"pew_ideology\"] = cand_ideology.apply(survey_to_num,axis=1)\n",
    "cand_ideology = cand_ideology[[\"pew_ideology\"]]\n",
    "cand_ideology"
   ]
  },
  {
   "cell_type": "code",
   "execution_count": 82,
   "metadata": {},
   "outputs": [
    {
     "data": {
      "text/html": [
       "<div>\n",
       "<style scoped>\n",
       "    .dataframe tbody tr th:only-of-type {\n",
       "        vertical-align: middle;\n",
       "    }\n",
       "\n",
       "    .dataframe tbody tr th {\n",
       "        vertical-align: top;\n",
       "    }\n",
       "\n",
       "    .dataframe thead th {\n",
       "        text-align: right;\n",
       "    }\n",
       "</style>\n",
       "<table border=\"1\" class=\"dataframe\">\n",
       "  <thead>\n",
       "    <tr style=\"text-align: right;\">\n",
       "      <th></th>\n",
       "      <th>pew_ideology</th>\n",
       "      <th>reddit_projection</th>\n",
       "    </tr>\n",
       "    <tr>\n",
       "      <th>candidate</th>\n",
       "      <th></th>\n",
       "      <th></th>\n",
       "    </tr>\n",
       "  </thead>\n",
       "  <tbody>\n",
       "    <tr>\n",
       "      <th>Biden</th>\n",
       "      <td>-0.274262</td>\n",
       "      <td>-0.065889</td>\n",
       "    </tr>\n",
       "    <tr>\n",
       "      <th>Sanders</th>\n",
       "      <td>-0.726190</td>\n",
       "      <td>-0.194282</td>\n",
       "    </tr>\n",
       "    <tr>\n",
       "      <th>Warren</th>\n",
       "      <td>-0.604444</td>\n",
       "      <td>-0.254581</td>\n",
       "    </tr>\n",
       "    <tr>\n",
       "      <th>Buttigieg</th>\n",
       "      <td>-0.398010</td>\n",
       "      <td>-0.121241</td>\n",
       "    </tr>\n",
       "    <tr>\n",
       "      <th>Klobuchar</th>\n",
       "      <td>-0.285714</td>\n",
       "      <td>-0.097518</td>\n",
       "    </tr>\n",
       "    <tr>\n",
       "      <th>Trump</th>\n",
       "      <td>0.221053</td>\n",
       "      <td>0.386075</td>\n",
       "    </tr>\n",
       "  </tbody>\n",
       "</table>\n",
       "</div>"
      ],
      "text/plain": [
       "           pew_ideology  reddit_projection\n",
       "candidate                                 \n",
       "Biden         -0.274262          -0.065889\n",
       "Sanders       -0.726190          -0.194282\n",
       "Warren        -0.604444          -0.254581\n",
       "Buttigieg     -0.398010          -0.121241\n",
       "Klobuchar     -0.285714          -0.097518\n",
       "Trump          0.221053           0.386075"
      ]
     },
     "execution_count": 82,
     "metadata": {},
     "output_type": "execute_result"
    }
   ],
   "source": [
    "cands = [\"JoeBiden\",\"SandersForPresident\",\"ElizabethWarren\",\"Pete_Buttigieg\",\"BaemyKlobaechar\",\"The_Donald\"]\n",
    "i_dim = calculate_dim(ideological_dim.subreddits,embedding)\n",
    "cand_ideology[\"reddit_projection\"] = [project_dim(i_dim,c,embedding) for c in cands]\n",
    "cand_ideology"
   ]
  },
  {
   "cell_type": "code",
   "execution_count": 83,
   "metadata": {},
   "outputs": [
    {
     "data": {
      "text/plain": [
       "0.8891351283938271"
      ]
     },
     "execution_count": 83,
     "metadata": {},
     "output_type": "execute_result"
    }
   ],
   "source": [
    "from sklearn.metrics import r2_score\n",
    "# Fit a linear regression to our model and its results\n",
    "model = np.polyfit(cand_ideology[\"reddit_projection\"], cand_ideology[\"pew_ideology\"], 1)\n",
    "predict = np.poly1d(model)\n",
    "r2 = r2_score(cand_ideology[\"pew_ideology\"], predict(cand_ideology[\"reddit_projection\"]))\n",
    "r2"
   ]
  },
  {
   "cell_type": "code",
   "execution_count": 85,
   "metadata": {
    "scrolled": false
   },
   "outputs": [
    {
     "data": {
      "application/vnd.plotly.v1+json": {
       "config": {
        "plotlyServerURL": "https://plot.ly"
       },
       "data": [
        {
         "hovertemplate": "Subreddit Ideology=%{x}<br>Surveyed Ideology=%{y}<br>candidate=%{text}<extra></extra>",
         "legendgroup": "",
         "marker": {
          "color": "#1F77B4",
          "symbol": "circle"
         },
         "mode": "markers+text",
         "name": "",
         "orientation": "v",
         "showlegend": false,
         "text": [
          "Biden",
          "Sanders",
          "Warren",
          "Buttigieg",
          "Klobuchar",
          "Trump"
         ],
         "textposition": "bottom center",
         "type": "scatter",
         "x": [
          -0.06588873541584786,
          -0.19428187769363323,
          -0.2545805783377046,
          -0.1212408719455217,
          -0.09751795554690855,
          0.3860751325153711
         ],
         "xaxis": "x",
         "y": [
          -0.2742616033755274,
          -0.726190476190476,
          -0.6044444444444445,
          -0.39800995024875635,
          -0.2857142857142857,
          0.22105263157894736
         ],
         "yaxis": "y"
        },
        {
         "line": {
          "color": "rgba(0,0,160,0.3)",
          "dash": "dash",
          "width": 2
         },
         "mode": "lines",
         "name": "Linear Regression",
         "type": "scatter",
         "x": [
          -0.4545805783377046,
          0.5860751325153711
         ],
         "y": [
          -0.8857720865989418,
          0.5339788065089199
         ]
        }
       ],
       "layout": {
        "annotations": [
         {
          "showarrow": false,
          "text": "<b>Survey Left<br>Subreddit Left</b>",
          "x": -0.3863934915870489,
          "xref": "x",
          "y": -0.7349047619047618,
          "yref": "y"
         },
         {
          "showarrow": false,
          "text": "<b>Subreddit Right</b>",
          "x": 0.46886010601229694,
          "xref": "x",
          "y": -0.7349047619047618,
          "yref": "y"
         },
         {
          "showarrow": false,
          "text": "<b>Survey Right</b>",
          "x": -0.3863934915870489,
          "xref": "x",
          "y": 0.2710526315789474,
          "yref": "y"
         },
         {
          "text": "r<sup>2</sup>=0.89",
          "x": 0.2,
          "xref": "x",
          "y": 0.007262325276039205,
          "yref": "y"
         },
         {
          "ax": 80,
          "ay": -10,
          "text": "Data from 2016",
          "x": 0.3860751325153711,
          "xref": "x",
          "y": 0.22105263157894736,
          "yref": "y"
         }
        ],
        "legend": {
         "tracegroupgap": 0
        },
        "template": {
         "data": {
          "bar": [
           {
            "error_x": {
             "color": "rgb(36,36,36)"
            },
            "error_y": {
             "color": "rgb(36,36,36)"
            },
            "marker": {
             "line": {
              "color": "white",
              "width": 0.5
             }
            },
            "type": "bar"
           }
          ],
          "barpolar": [
           {
            "marker": {
             "line": {
              "color": "white",
              "width": 0.5
             }
            },
            "type": "barpolar"
           }
          ],
          "carpet": [
           {
            "aaxis": {
             "endlinecolor": "rgb(36,36,36)",
             "gridcolor": "white",
             "linecolor": "white",
             "minorgridcolor": "white",
             "startlinecolor": "rgb(36,36,36)"
            },
            "baxis": {
             "endlinecolor": "rgb(36,36,36)",
             "gridcolor": "white",
             "linecolor": "white",
             "minorgridcolor": "white",
             "startlinecolor": "rgb(36,36,36)"
            },
            "type": "carpet"
           }
          ],
          "choropleth": [
           {
            "colorbar": {
             "outlinewidth": 1,
             "tickcolor": "rgb(36,36,36)",
             "ticks": "outside"
            },
            "type": "choropleth"
           }
          ],
          "contour": [
           {
            "colorbar": {
             "outlinewidth": 1,
             "tickcolor": "rgb(36,36,36)",
             "ticks": "outside"
            },
            "colorscale": [
             [
              0,
              "#440154"
             ],
             [
              0.1111111111111111,
              "#482878"
             ],
             [
              0.2222222222222222,
              "#3e4989"
             ],
             [
              0.3333333333333333,
              "#31688e"
             ],
             [
              0.4444444444444444,
              "#26828e"
             ],
             [
              0.5555555555555556,
              "#1f9e89"
             ],
             [
              0.6666666666666666,
              "#35b779"
             ],
             [
              0.7777777777777778,
              "#6ece58"
             ],
             [
              0.8888888888888888,
              "#b5de2b"
             ],
             [
              1,
              "#fde725"
             ]
            ],
            "type": "contour"
           }
          ],
          "contourcarpet": [
           {
            "colorbar": {
             "outlinewidth": 1,
             "tickcolor": "rgb(36,36,36)",
             "ticks": "outside"
            },
            "type": "contourcarpet"
           }
          ],
          "heatmap": [
           {
            "colorbar": {
             "outlinewidth": 1,
             "tickcolor": "rgb(36,36,36)",
             "ticks": "outside"
            },
            "colorscale": [
             [
              0,
              "#440154"
             ],
             [
              0.1111111111111111,
              "#482878"
             ],
             [
              0.2222222222222222,
              "#3e4989"
             ],
             [
              0.3333333333333333,
              "#31688e"
             ],
             [
              0.4444444444444444,
              "#26828e"
             ],
             [
              0.5555555555555556,
              "#1f9e89"
             ],
             [
              0.6666666666666666,
              "#35b779"
             ],
             [
              0.7777777777777778,
              "#6ece58"
             ],
             [
              0.8888888888888888,
              "#b5de2b"
             ],
             [
              1,
              "#fde725"
             ]
            ],
            "type": "heatmap"
           }
          ],
          "heatmapgl": [
           {
            "colorbar": {
             "outlinewidth": 1,
             "tickcolor": "rgb(36,36,36)",
             "ticks": "outside"
            },
            "colorscale": [
             [
              0,
              "#440154"
             ],
             [
              0.1111111111111111,
              "#482878"
             ],
             [
              0.2222222222222222,
              "#3e4989"
             ],
             [
              0.3333333333333333,
              "#31688e"
             ],
             [
              0.4444444444444444,
              "#26828e"
             ],
             [
              0.5555555555555556,
              "#1f9e89"
             ],
             [
              0.6666666666666666,
              "#35b779"
             ],
             [
              0.7777777777777778,
              "#6ece58"
             ],
             [
              0.8888888888888888,
              "#b5de2b"
             ],
             [
              1,
              "#fde725"
             ]
            ],
            "type": "heatmapgl"
           }
          ],
          "histogram": [
           {
            "marker": {
             "line": {
              "color": "white",
              "width": 0.6
             }
            },
            "type": "histogram"
           }
          ],
          "histogram2d": [
           {
            "colorbar": {
             "outlinewidth": 1,
             "tickcolor": "rgb(36,36,36)",
             "ticks": "outside"
            },
            "colorscale": [
             [
              0,
              "#440154"
             ],
             [
              0.1111111111111111,
              "#482878"
             ],
             [
              0.2222222222222222,
              "#3e4989"
             ],
             [
              0.3333333333333333,
              "#31688e"
             ],
             [
              0.4444444444444444,
              "#26828e"
             ],
             [
              0.5555555555555556,
              "#1f9e89"
             ],
             [
              0.6666666666666666,
              "#35b779"
             ],
             [
              0.7777777777777778,
              "#6ece58"
             ],
             [
              0.8888888888888888,
              "#b5de2b"
             ],
             [
              1,
              "#fde725"
             ]
            ],
            "type": "histogram2d"
           }
          ],
          "histogram2dcontour": [
           {
            "colorbar": {
             "outlinewidth": 1,
             "tickcolor": "rgb(36,36,36)",
             "ticks": "outside"
            },
            "colorscale": [
             [
              0,
              "#440154"
             ],
             [
              0.1111111111111111,
              "#482878"
             ],
             [
              0.2222222222222222,
              "#3e4989"
             ],
             [
              0.3333333333333333,
              "#31688e"
             ],
             [
              0.4444444444444444,
              "#26828e"
             ],
             [
              0.5555555555555556,
              "#1f9e89"
             ],
             [
              0.6666666666666666,
              "#35b779"
             ],
             [
              0.7777777777777778,
              "#6ece58"
             ],
             [
              0.8888888888888888,
              "#b5de2b"
             ],
             [
              1,
              "#fde725"
             ]
            ],
            "type": "histogram2dcontour"
           }
          ],
          "mesh3d": [
           {
            "colorbar": {
             "outlinewidth": 1,
             "tickcolor": "rgb(36,36,36)",
             "ticks": "outside"
            },
            "type": "mesh3d"
           }
          ],
          "parcoords": [
           {
            "line": {
             "colorbar": {
              "outlinewidth": 1,
              "tickcolor": "rgb(36,36,36)",
              "ticks": "outside"
             }
            },
            "type": "parcoords"
           }
          ],
          "pie": [
           {
            "automargin": true,
            "type": "pie"
           }
          ],
          "scatter": [
           {
            "marker": {
             "colorbar": {
              "outlinewidth": 1,
              "tickcolor": "rgb(36,36,36)",
              "ticks": "outside"
             }
            },
            "type": "scatter"
           }
          ],
          "scatter3d": [
           {
            "line": {
             "colorbar": {
              "outlinewidth": 1,
              "tickcolor": "rgb(36,36,36)",
              "ticks": "outside"
             }
            },
            "marker": {
             "colorbar": {
              "outlinewidth": 1,
              "tickcolor": "rgb(36,36,36)",
              "ticks": "outside"
             }
            },
            "type": "scatter3d"
           }
          ],
          "scattercarpet": [
           {
            "marker": {
             "colorbar": {
              "outlinewidth": 1,
              "tickcolor": "rgb(36,36,36)",
              "ticks": "outside"
             }
            },
            "type": "scattercarpet"
           }
          ],
          "scattergeo": [
           {
            "marker": {
             "colorbar": {
              "outlinewidth": 1,
              "tickcolor": "rgb(36,36,36)",
              "ticks": "outside"
             }
            },
            "type": "scattergeo"
           }
          ],
          "scattergl": [
           {
            "marker": {
             "colorbar": {
              "outlinewidth": 1,
              "tickcolor": "rgb(36,36,36)",
              "ticks": "outside"
             }
            },
            "type": "scattergl"
           }
          ],
          "scattermapbox": [
           {
            "marker": {
             "colorbar": {
              "outlinewidth": 1,
              "tickcolor": "rgb(36,36,36)",
              "ticks": "outside"
             }
            },
            "type": "scattermapbox"
           }
          ],
          "scatterpolar": [
           {
            "marker": {
             "colorbar": {
              "outlinewidth": 1,
              "tickcolor": "rgb(36,36,36)",
              "ticks": "outside"
             }
            },
            "type": "scatterpolar"
           }
          ],
          "scatterpolargl": [
           {
            "marker": {
             "colorbar": {
              "outlinewidth": 1,
              "tickcolor": "rgb(36,36,36)",
              "ticks": "outside"
             }
            },
            "type": "scatterpolargl"
           }
          ],
          "scatterternary": [
           {
            "marker": {
             "colorbar": {
              "outlinewidth": 1,
              "tickcolor": "rgb(36,36,36)",
              "ticks": "outside"
             }
            },
            "type": "scatterternary"
           }
          ],
          "surface": [
           {
            "colorbar": {
             "outlinewidth": 1,
             "tickcolor": "rgb(36,36,36)",
             "ticks": "outside"
            },
            "colorscale": [
             [
              0,
              "#440154"
             ],
             [
              0.1111111111111111,
              "#482878"
             ],
             [
              0.2222222222222222,
              "#3e4989"
             ],
             [
              0.3333333333333333,
              "#31688e"
             ],
             [
              0.4444444444444444,
              "#26828e"
             ],
             [
              0.5555555555555556,
              "#1f9e89"
             ],
             [
              0.6666666666666666,
              "#35b779"
             ],
             [
              0.7777777777777778,
              "#6ece58"
             ],
             [
              0.8888888888888888,
              "#b5de2b"
             ],
             [
              1,
              "#fde725"
             ]
            ],
            "type": "surface"
           }
          ],
          "table": [
           {
            "cells": {
             "fill": {
              "color": "rgb(237,237,237)"
             },
             "line": {
              "color": "white"
             }
            },
            "header": {
             "fill": {
              "color": "rgb(217,217,217)"
             },
             "line": {
              "color": "white"
             }
            },
            "type": "table"
           }
          ]
         },
         "layout": {
          "annotationdefaults": {
           "arrowhead": 0,
           "arrowwidth": 1
          },
          "coloraxis": {
           "colorbar": {
            "outlinewidth": 1,
            "tickcolor": "rgb(36,36,36)",
            "ticks": "outside"
           }
          },
          "colorscale": {
           "diverging": [
            [
             0,
             "rgb(103,0,31)"
            ],
            [
             0.1,
             "rgb(178,24,43)"
            ],
            [
             0.2,
             "rgb(214,96,77)"
            ],
            [
             0.3,
             "rgb(244,165,130)"
            ],
            [
             0.4,
             "rgb(253,219,199)"
            ],
            [
             0.5,
             "rgb(247,247,247)"
            ],
            [
             0.6,
             "rgb(209,229,240)"
            ],
            [
             0.7,
             "rgb(146,197,222)"
            ],
            [
             0.8,
             "rgb(67,147,195)"
            ],
            [
             0.9,
             "rgb(33,102,172)"
            ],
            [
             1,
             "rgb(5,48,97)"
            ]
           ],
           "sequential": [
            [
             0,
             "#440154"
            ],
            [
             0.1111111111111111,
             "#482878"
            ],
            [
             0.2222222222222222,
             "#3e4989"
            ],
            [
             0.3333333333333333,
             "#31688e"
            ],
            [
             0.4444444444444444,
             "#26828e"
            ],
            [
             0.5555555555555556,
             "#1f9e89"
            ],
            [
             0.6666666666666666,
             "#35b779"
            ],
            [
             0.7777777777777778,
             "#6ece58"
            ],
            [
             0.8888888888888888,
             "#b5de2b"
            ],
            [
             1,
             "#fde725"
            ]
           ],
           "sequentialminus": [
            [
             0,
             "#440154"
            ],
            [
             0.1111111111111111,
             "#482878"
            ],
            [
             0.2222222222222222,
             "#3e4989"
            ],
            [
             0.3333333333333333,
             "#31688e"
            ],
            [
             0.4444444444444444,
             "#26828e"
            ],
            [
             0.5555555555555556,
             "#1f9e89"
            ],
            [
             0.6666666666666666,
             "#35b779"
            ],
            [
             0.7777777777777778,
             "#6ece58"
            ],
            [
             0.8888888888888888,
             "#b5de2b"
            ],
            [
             1,
             "#fde725"
            ]
           ]
          },
          "colorway": [
           "#1F77B4",
           "#FF7F0E",
           "#2CA02C",
           "#D62728",
           "#9467BD",
           "#8C564B",
           "#E377C2",
           "#7F7F7F",
           "#BCBD22",
           "#17BECF"
          ],
          "font": {
           "color": "rgb(36,36,36)"
          },
          "geo": {
           "bgcolor": "white",
           "lakecolor": "white",
           "landcolor": "white",
           "showlakes": true,
           "showland": true,
           "subunitcolor": "white"
          },
          "hoverlabel": {
           "align": "left"
          },
          "hovermode": "closest",
          "mapbox": {
           "style": "light"
          },
          "paper_bgcolor": "white",
          "plot_bgcolor": "white",
          "polar": {
           "angularaxis": {
            "gridcolor": "rgb(232,232,232)",
            "linecolor": "rgb(36,36,36)",
            "showgrid": false,
            "showline": true,
            "ticks": "outside"
           },
           "bgcolor": "white",
           "radialaxis": {
            "gridcolor": "rgb(232,232,232)",
            "linecolor": "rgb(36,36,36)",
            "showgrid": false,
            "showline": true,
            "ticks": "outside"
           }
          },
          "scene": {
           "xaxis": {
            "backgroundcolor": "white",
            "gridcolor": "rgb(232,232,232)",
            "gridwidth": 2,
            "linecolor": "rgb(36,36,36)",
            "showbackground": true,
            "showgrid": false,
            "showline": true,
            "ticks": "outside",
            "zeroline": false,
            "zerolinecolor": "rgb(36,36,36)"
           },
           "yaxis": {
            "backgroundcolor": "white",
            "gridcolor": "rgb(232,232,232)",
            "gridwidth": 2,
            "linecolor": "rgb(36,36,36)",
            "showbackground": true,
            "showgrid": false,
            "showline": true,
            "ticks": "outside",
            "zeroline": false,
            "zerolinecolor": "rgb(36,36,36)"
           },
           "zaxis": {
            "backgroundcolor": "white",
            "gridcolor": "rgb(232,232,232)",
            "gridwidth": 2,
            "linecolor": "rgb(36,36,36)",
            "showbackground": true,
            "showgrid": false,
            "showline": true,
            "ticks": "outside",
            "zeroline": false,
            "zerolinecolor": "rgb(36,36,36)"
           }
          },
          "shapedefaults": {
           "fillcolor": "black",
           "line": {
            "width": 0
           },
           "opacity": 0.3
          },
          "ternary": {
           "aaxis": {
            "gridcolor": "rgb(232,232,232)",
            "linecolor": "rgb(36,36,36)",
            "showgrid": false,
            "showline": true,
            "ticks": "outside"
           },
           "baxis": {
            "gridcolor": "rgb(232,232,232)",
            "linecolor": "rgb(36,36,36)",
            "showgrid": false,
            "showline": true,
            "ticks": "outside"
           },
           "bgcolor": "white",
           "caxis": {
            "gridcolor": "rgb(232,232,232)",
            "linecolor": "rgb(36,36,36)",
            "showgrid": false,
            "showline": true,
            "ticks": "outside"
           }
          },
          "title": {
           "x": 0.05
          },
          "xaxis": {
           "automargin": true,
           "gridcolor": "rgb(232,232,232)",
           "linecolor": "rgb(36,36,36)",
           "showgrid": false,
           "showline": true,
           "ticks": "outside",
           "title": {
            "standoff": 15
           },
           "zeroline": false,
           "zerolinecolor": "rgb(36,36,36)"
          },
          "yaxis": {
           "automargin": true,
           "gridcolor": "rgb(232,232,232)",
           "linecolor": "rgb(36,36,36)",
           "showgrid": false,
           "showline": true,
           "ticks": "outside",
           "title": {
            "standoff": 15
           },
           "zeroline": false,
           "zerolinecolor": "rgb(36,36,36)"
          }
         }
        },
        "title": {
         "text": "Ideology Dimension Versus Support by Ideology"
        },
        "xaxis": {
         "anchor": "y",
         "domain": [
          0,
          1
         ],
         "range": [
          -0.4545805783377046,
          0.5860751325153711
         ],
         "title": {
          "text": "Subreddit Ideology"
         }
        },
        "yaxis": {
         "anchor": "x",
         "domain": [
          0,
          1
         ],
         "range": [
          -0.7988095238095237,
          0.2710526315789474
         ],
         "title": {
          "text": "Surveyed Ideology"
         }
        }
       }
      },
      "text/html": [
       "<div>\n",
       "        \n",
       "        \n",
       "            <div id=\"18cef4e8-4e6b-4988-afc9-3eb9b7724786\" class=\"plotly-graph-div\" style=\"height:525px; width:100%;\"></div>\n",
       "            <script type=\"text/javascript\">\n",
       "                require([\"plotly\"], function(Plotly) {\n",
       "                    window.PLOTLYENV=window.PLOTLYENV || {};\n",
       "                    \n",
       "                if (document.getElementById(\"18cef4e8-4e6b-4988-afc9-3eb9b7724786\")) {\n",
       "                    Plotly.newPlot(\n",
       "                        '18cef4e8-4e6b-4988-afc9-3eb9b7724786',\n",
       "                        [{\"hovertemplate\": \"Subreddit Ideology=%{x}<br>Surveyed Ideology=%{y}<br>candidate=%{text}<extra></extra>\", \"legendgroup\": \"\", \"marker\": {\"color\": \"#1F77B4\", \"symbol\": \"circle\"}, \"mode\": \"markers+text\", \"name\": \"\", \"orientation\": \"v\", \"showlegend\": false, \"text\": [\"Biden\", \"Sanders\", \"Warren\", \"Buttigieg\", \"Klobuchar\", \"Trump\"], \"textposition\": \"bottom center\", \"type\": \"scatter\", \"x\": [-0.06588873541584786, -0.19428187769363323, -0.2545805783377046, -0.1212408719455217, -0.09751795554690855, 0.3860751325153711], \"xaxis\": \"x\", \"y\": [-0.2742616033755274, -0.726190476190476, -0.6044444444444445, -0.39800995024875635, -0.2857142857142857, 0.22105263157894736], \"yaxis\": \"y\"}, {\"line\": {\"color\": \"rgba(0,0,160,0.3)\", \"dash\": \"dash\", \"width\": 2}, \"mode\": \"lines\", \"name\": \"Linear Regression\", \"type\": \"scatter\", \"x\": [-0.4545805783377046, 0.5860751325153711], \"y\": [-0.8857720865989418, 0.5339788065089199]}],\n",
       "                        {\"annotations\": [{\"showarrow\": false, \"text\": \"<b>Survey Left<br>Subreddit Left</b>\", \"x\": -0.3863934915870489, \"xref\": \"x\", \"y\": -0.7349047619047618, \"yref\": \"y\"}, {\"showarrow\": false, \"text\": \"<b>Subreddit Right</b>\", \"x\": 0.46886010601229694, \"xref\": \"x\", \"y\": -0.7349047619047618, \"yref\": \"y\"}, {\"showarrow\": false, \"text\": \"<b>Survey Right</b>\", \"x\": -0.3863934915870489, \"xref\": \"x\", \"y\": 0.2710526315789474, \"yref\": \"y\"}, {\"text\": \"r<sup>2</sup>=0.89\", \"x\": 0.2, \"xref\": \"x\", \"y\": 0.007262325276039205, \"yref\": \"y\"}, {\"ax\": 80, \"ay\": -10, \"text\": \"Data from 2016\", \"x\": 0.3860751325153711, \"xref\": \"x\", \"y\": 0.22105263157894736, \"yref\": \"y\"}], \"legend\": {\"tracegroupgap\": 0}, \"template\": {\"data\": {\"bar\": [{\"error_x\": {\"color\": \"rgb(36,36,36)\"}, \"error_y\": {\"color\": \"rgb(36,36,36)\"}, \"marker\": {\"line\": {\"color\": \"white\", \"width\": 0.5}}, \"type\": \"bar\"}], \"barpolar\": [{\"marker\": {\"line\": {\"color\": \"white\", \"width\": 0.5}}, \"type\": \"barpolar\"}], \"carpet\": [{\"aaxis\": {\"endlinecolor\": \"rgb(36,36,36)\", \"gridcolor\": \"white\", \"linecolor\": \"white\", \"minorgridcolor\": \"white\", \"startlinecolor\": \"rgb(36,36,36)\"}, \"baxis\": {\"endlinecolor\": \"rgb(36,36,36)\", \"gridcolor\": \"white\", \"linecolor\": \"white\", \"minorgridcolor\": \"white\", \"startlinecolor\": \"rgb(36,36,36)\"}, \"type\": \"carpet\"}], \"choropleth\": [{\"colorbar\": {\"outlinewidth\": 1, \"tickcolor\": \"rgb(36,36,36)\", \"ticks\": \"outside\"}, \"type\": \"choropleth\"}], \"contour\": [{\"colorbar\": {\"outlinewidth\": 1, \"tickcolor\": \"rgb(36,36,36)\", \"ticks\": \"outside\"}, \"colorscale\": [[0.0, \"#440154\"], [0.1111111111111111, \"#482878\"], [0.2222222222222222, \"#3e4989\"], [0.3333333333333333, \"#31688e\"], [0.4444444444444444, \"#26828e\"], [0.5555555555555556, \"#1f9e89\"], [0.6666666666666666, \"#35b779\"], [0.7777777777777778, \"#6ece58\"], [0.8888888888888888, \"#b5de2b\"], [1.0, \"#fde725\"]], \"type\": \"contour\"}], \"contourcarpet\": [{\"colorbar\": {\"outlinewidth\": 1, \"tickcolor\": \"rgb(36,36,36)\", \"ticks\": \"outside\"}, \"type\": \"contourcarpet\"}], \"heatmap\": [{\"colorbar\": {\"outlinewidth\": 1, \"tickcolor\": \"rgb(36,36,36)\", \"ticks\": \"outside\"}, \"colorscale\": [[0.0, \"#440154\"], [0.1111111111111111, \"#482878\"], [0.2222222222222222, \"#3e4989\"], [0.3333333333333333, \"#31688e\"], [0.4444444444444444, \"#26828e\"], [0.5555555555555556, \"#1f9e89\"], [0.6666666666666666, \"#35b779\"], [0.7777777777777778, \"#6ece58\"], [0.8888888888888888, \"#b5de2b\"], [1.0, \"#fde725\"]], \"type\": \"heatmap\"}], \"heatmapgl\": [{\"colorbar\": {\"outlinewidth\": 1, \"tickcolor\": \"rgb(36,36,36)\", \"ticks\": \"outside\"}, \"colorscale\": [[0.0, \"#440154\"], [0.1111111111111111, \"#482878\"], [0.2222222222222222, \"#3e4989\"], [0.3333333333333333, \"#31688e\"], [0.4444444444444444, \"#26828e\"], [0.5555555555555556, \"#1f9e89\"], [0.6666666666666666, \"#35b779\"], [0.7777777777777778, \"#6ece58\"], [0.8888888888888888, \"#b5de2b\"], [1.0, \"#fde725\"]], \"type\": \"heatmapgl\"}], \"histogram\": [{\"marker\": {\"line\": {\"color\": \"white\", \"width\": 0.6}}, \"type\": \"histogram\"}], \"histogram2d\": [{\"colorbar\": {\"outlinewidth\": 1, \"tickcolor\": \"rgb(36,36,36)\", \"ticks\": \"outside\"}, \"colorscale\": [[0.0, \"#440154\"], [0.1111111111111111, \"#482878\"], [0.2222222222222222, \"#3e4989\"], [0.3333333333333333, \"#31688e\"], [0.4444444444444444, \"#26828e\"], [0.5555555555555556, \"#1f9e89\"], [0.6666666666666666, \"#35b779\"], [0.7777777777777778, \"#6ece58\"], [0.8888888888888888, \"#b5de2b\"], [1.0, \"#fde725\"]], \"type\": \"histogram2d\"}], \"histogram2dcontour\": [{\"colorbar\": {\"outlinewidth\": 1, \"tickcolor\": \"rgb(36,36,36)\", \"ticks\": \"outside\"}, \"colorscale\": [[0.0, \"#440154\"], [0.1111111111111111, \"#482878\"], [0.2222222222222222, \"#3e4989\"], [0.3333333333333333, \"#31688e\"], [0.4444444444444444, \"#26828e\"], [0.5555555555555556, \"#1f9e89\"], [0.6666666666666666, \"#35b779\"], [0.7777777777777778, \"#6ece58\"], [0.8888888888888888, \"#b5de2b\"], [1.0, \"#fde725\"]], \"type\": \"histogram2dcontour\"}], \"mesh3d\": [{\"colorbar\": {\"outlinewidth\": 1, \"tickcolor\": \"rgb(36,36,36)\", \"ticks\": \"outside\"}, \"type\": \"mesh3d\"}], \"parcoords\": [{\"line\": {\"colorbar\": {\"outlinewidth\": 1, \"tickcolor\": \"rgb(36,36,36)\", \"ticks\": \"outside\"}}, \"type\": \"parcoords\"}], \"pie\": [{\"automargin\": true, \"type\": \"pie\"}], \"scatter\": [{\"marker\": {\"colorbar\": {\"outlinewidth\": 1, \"tickcolor\": \"rgb(36,36,36)\", \"ticks\": \"outside\"}}, \"type\": \"scatter\"}], \"scatter3d\": [{\"line\": {\"colorbar\": {\"outlinewidth\": 1, \"tickcolor\": \"rgb(36,36,36)\", \"ticks\": \"outside\"}}, \"marker\": {\"colorbar\": {\"outlinewidth\": 1, \"tickcolor\": \"rgb(36,36,36)\", \"ticks\": \"outside\"}}, \"type\": \"scatter3d\"}], \"scattercarpet\": [{\"marker\": {\"colorbar\": {\"outlinewidth\": 1, \"tickcolor\": \"rgb(36,36,36)\", \"ticks\": \"outside\"}}, \"type\": \"scattercarpet\"}], \"scattergeo\": [{\"marker\": {\"colorbar\": {\"outlinewidth\": 1, \"tickcolor\": \"rgb(36,36,36)\", \"ticks\": \"outside\"}}, \"type\": \"scattergeo\"}], \"scattergl\": [{\"marker\": {\"colorbar\": {\"outlinewidth\": 1, \"tickcolor\": \"rgb(36,36,36)\", \"ticks\": \"outside\"}}, \"type\": \"scattergl\"}], \"scattermapbox\": [{\"marker\": {\"colorbar\": {\"outlinewidth\": 1, \"tickcolor\": \"rgb(36,36,36)\", \"ticks\": \"outside\"}}, \"type\": \"scattermapbox\"}], \"scatterpolar\": [{\"marker\": {\"colorbar\": {\"outlinewidth\": 1, \"tickcolor\": \"rgb(36,36,36)\", \"ticks\": \"outside\"}}, \"type\": \"scatterpolar\"}], \"scatterpolargl\": [{\"marker\": {\"colorbar\": {\"outlinewidth\": 1, \"tickcolor\": \"rgb(36,36,36)\", \"ticks\": \"outside\"}}, \"type\": \"scatterpolargl\"}], \"scatterternary\": [{\"marker\": {\"colorbar\": {\"outlinewidth\": 1, \"tickcolor\": \"rgb(36,36,36)\", \"ticks\": \"outside\"}}, \"type\": \"scatterternary\"}], \"surface\": [{\"colorbar\": {\"outlinewidth\": 1, \"tickcolor\": \"rgb(36,36,36)\", \"ticks\": \"outside\"}, \"colorscale\": [[0.0, \"#440154\"], [0.1111111111111111, \"#482878\"], [0.2222222222222222, \"#3e4989\"], [0.3333333333333333, \"#31688e\"], [0.4444444444444444, \"#26828e\"], [0.5555555555555556, \"#1f9e89\"], [0.6666666666666666, \"#35b779\"], [0.7777777777777778, \"#6ece58\"], [0.8888888888888888, \"#b5de2b\"], [1.0, \"#fde725\"]], \"type\": \"surface\"}], \"table\": [{\"cells\": {\"fill\": {\"color\": \"rgb(237,237,237)\"}, \"line\": {\"color\": \"white\"}}, \"header\": {\"fill\": {\"color\": \"rgb(217,217,217)\"}, \"line\": {\"color\": \"white\"}}, \"type\": \"table\"}]}, \"layout\": {\"annotationdefaults\": {\"arrowhead\": 0, \"arrowwidth\": 1}, \"coloraxis\": {\"colorbar\": {\"outlinewidth\": 1, \"tickcolor\": \"rgb(36,36,36)\", \"ticks\": \"outside\"}}, \"colorscale\": {\"diverging\": [[0.0, \"rgb(103,0,31)\"], [0.1, \"rgb(178,24,43)\"], [0.2, \"rgb(214,96,77)\"], [0.3, \"rgb(244,165,130)\"], [0.4, \"rgb(253,219,199)\"], [0.5, \"rgb(247,247,247)\"], [0.6, \"rgb(209,229,240)\"], [0.7, \"rgb(146,197,222)\"], [0.8, \"rgb(67,147,195)\"], [0.9, \"rgb(33,102,172)\"], [1.0, \"rgb(5,48,97)\"]], \"sequential\": [[0.0, \"#440154\"], [0.1111111111111111, \"#482878\"], [0.2222222222222222, \"#3e4989\"], [0.3333333333333333, \"#31688e\"], [0.4444444444444444, \"#26828e\"], [0.5555555555555556, \"#1f9e89\"], [0.6666666666666666, \"#35b779\"], [0.7777777777777778, \"#6ece58\"], [0.8888888888888888, \"#b5de2b\"], [1.0, \"#fde725\"]], \"sequentialminus\": [[0.0, \"#440154\"], [0.1111111111111111, \"#482878\"], [0.2222222222222222, \"#3e4989\"], [0.3333333333333333, \"#31688e\"], [0.4444444444444444, \"#26828e\"], [0.5555555555555556, \"#1f9e89\"], [0.6666666666666666, \"#35b779\"], [0.7777777777777778, \"#6ece58\"], [0.8888888888888888, \"#b5de2b\"], [1.0, \"#fde725\"]]}, \"colorway\": [\"#1F77B4\", \"#FF7F0E\", \"#2CA02C\", \"#D62728\", \"#9467BD\", \"#8C564B\", \"#E377C2\", \"#7F7F7F\", \"#BCBD22\", \"#17BECF\"], \"font\": {\"color\": \"rgb(36,36,36)\"}, \"geo\": {\"bgcolor\": \"white\", \"lakecolor\": \"white\", \"landcolor\": \"white\", \"showlakes\": true, \"showland\": true, \"subunitcolor\": \"white\"}, \"hoverlabel\": {\"align\": \"left\"}, \"hovermode\": \"closest\", \"mapbox\": {\"style\": \"light\"}, \"paper_bgcolor\": \"white\", \"plot_bgcolor\": \"white\", \"polar\": {\"angularaxis\": {\"gridcolor\": \"rgb(232,232,232)\", \"linecolor\": \"rgb(36,36,36)\", \"showgrid\": false, \"showline\": true, \"ticks\": \"outside\"}, \"bgcolor\": \"white\", \"radialaxis\": {\"gridcolor\": \"rgb(232,232,232)\", \"linecolor\": \"rgb(36,36,36)\", \"showgrid\": false, \"showline\": true, \"ticks\": \"outside\"}}, \"scene\": {\"xaxis\": {\"backgroundcolor\": \"white\", \"gridcolor\": \"rgb(232,232,232)\", \"gridwidth\": 2, \"linecolor\": \"rgb(36,36,36)\", \"showbackground\": true, \"showgrid\": false, \"showline\": true, \"ticks\": \"outside\", \"zeroline\": false, \"zerolinecolor\": \"rgb(36,36,36)\"}, \"yaxis\": {\"backgroundcolor\": \"white\", \"gridcolor\": \"rgb(232,232,232)\", \"gridwidth\": 2, \"linecolor\": \"rgb(36,36,36)\", \"showbackground\": true, \"showgrid\": false, \"showline\": true, \"ticks\": \"outside\", \"zeroline\": false, \"zerolinecolor\": \"rgb(36,36,36)\"}, \"zaxis\": {\"backgroundcolor\": \"white\", \"gridcolor\": \"rgb(232,232,232)\", \"gridwidth\": 2, \"linecolor\": \"rgb(36,36,36)\", \"showbackground\": true, \"showgrid\": false, \"showline\": true, \"ticks\": \"outside\", \"zeroline\": false, \"zerolinecolor\": \"rgb(36,36,36)\"}}, \"shapedefaults\": {\"fillcolor\": \"black\", \"line\": {\"width\": 0}, \"opacity\": 0.3}, \"ternary\": {\"aaxis\": {\"gridcolor\": \"rgb(232,232,232)\", \"linecolor\": \"rgb(36,36,36)\", \"showgrid\": false, \"showline\": true, \"ticks\": \"outside\"}, \"baxis\": {\"gridcolor\": \"rgb(232,232,232)\", \"linecolor\": \"rgb(36,36,36)\", \"showgrid\": false, \"showline\": true, \"ticks\": \"outside\"}, \"bgcolor\": \"white\", \"caxis\": {\"gridcolor\": \"rgb(232,232,232)\", \"linecolor\": \"rgb(36,36,36)\", \"showgrid\": false, \"showline\": true, \"ticks\": \"outside\"}}, \"title\": {\"x\": 0.05}, \"xaxis\": {\"automargin\": true, \"gridcolor\": \"rgb(232,232,232)\", \"linecolor\": \"rgb(36,36,36)\", \"showgrid\": false, \"showline\": true, \"ticks\": \"outside\", \"title\": {\"standoff\": 15}, \"zeroline\": false, \"zerolinecolor\": \"rgb(36,36,36)\"}, \"yaxis\": {\"automargin\": true, \"gridcolor\": \"rgb(232,232,232)\", \"linecolor\": \"rgb(36,36,36)\", \"showgrid\": false, \"showline\": true, \"ticks\": \"outside\", \"title\": {\"standoff\": 15}, \"zeroline\": false, \"zerolinecolor\": \"rgb(36,36,36)\"}}}, \"title\": {\"text\": \"Ideology Dimension Versus Support by Ideology\"}, \"xaxis\": {\"anchor\": \"y\", \"domain\": [0.0, 1.0], \"range\": [-0.4545805783377046, 0.5860751325153711], \"title\": {\"text\": \"Subreddit Ideology\"}}, \"yaxis\": {\"anchor\": \"x\", \"domain\": [0.0, 1.0], \"range\": [-0.7988095238095237, 0.2710526315789474], \"title\": {\"text\": \"Surveyed Ideology\"}}},\n",
       "                        {\"responsive\": true}\n",
       "                    ).then(function(){\n",
       "                            \n",
       "var gd = document.getElementById('18cef4e8-4e6b-4988-afc9-3eb9b7724786');\n",
       "var x = new MutationObserver(function (mutations, observer) {{\n",
       "        var display = window.getComputedStyle(gd).display;\n",
       "        if (!display || display === 'none') {{\n",
       "            console.log([gd, 'removed!']);\n",
       "            Plotly.purge(gd);\n",
       "            observer.disconnect();\n",
       "        }}\n",
       "}});\n",
       "\n",
       "// Listen for the removal of the full notebook cells\n",
       "var notebookContainer = gd.closest('#notebook-container');\n",
       "if (notebookContainer) {{\n",
       "    x.observe(notebookContainer, {childList: true});\n",
       "}}\n",
       "\n",
       "// Listen for the clearing of the current output cell\n",
       "var outputEl = gd.closest('.output');\n",
       "if (outputEl) {{\n",
       "    x.observe(outputEl, {childList: true});\n",
       "}}\n",
       "\n",
       "                        })\n",
       "                };\n",
       "                });\n",
       "            </script>\n",
       "        </div>"
      ]
     },
     "metadata": {},
     "output_type": "display_data"
    }
   ],
   "source": [
    "xmin, xmax = cand_ideology[\"reddit_projection\"].min()-0.2,cand_ideology[\"reddit_projection\"].max()+0.2\n",
    "ymin, ymax = cand_ideology[\"pew_ideology\"].min()*1.10,cand_ideology[\"pew_ideology\"].max()+0.05\n",
    "\n",
    "args = {\n",
    "    \"x\": \"reddit_projection\",\n",
    "    \"y\": \"pew_ideology\",\n",
    "    \"text\": cand_ideology.index,\n",
    "    \"title\":  \"Ideology Dimension Versus Support by Ideology\",\n",
    "    \"template\": \"simple_white\",\n",
    "    \"labels\": {\"reddit_projection\": \"Subreddit Ideology\", \"pew_ideology\": \"Surveyed Ideology\"},\n",
    "    \"range_x\": [xmin,xmax],\n",
    "    \"range_y\": [ymin,ymax],\n",
    "}\n",
    "\n",
    "dt = cand_ideology.loc[\"Trump\"]\n",
    "dtx, dty = float(dt[\"reddit_projection\"]), float(dt[\"pew_ideology\"])\n",
    "\n",
    "annotations = [dict(x=xmin*0.85,y=ymin*0.92,xref=\"x\",yref=\"y\", text=\"<b>Survey Left<br>Subreddit Left</b>\",showarrow=False),\n",
    "               dict(x=xmax*0.8,y=ymin*0.92,xref=\"x\",yref=\"y\", text=\"<b>Subreddit Right</b>\",showarrow=False),\n",
    "               dict(x=xmin*0.85,y=ymax,xref=\"x\",yref=\"y\", text=\"<b>Survey Right</b>\",showarrow=False),\n",
    "               dict(x=0.20,y=predict(0.20),xref=\"x\",yref=\"y\", text=\"r<sup>2</sup>={:.2f}\".format(r2)),\n",
    "               dict(x=dtx,y=dty,xref=\"x\",yref=\"y\",ax=80,ay=-10, text=\"Data from 2016\")\n",
    "              ]\n",
    "x = np.linspace(xmin,xmax,num=2)\n",
    "    \n",
    "fig = px.scatter(cand_ideology,**args)\n",
    "\n",
    "fig.update_traces(textposition='bottom center')\n",
    "fig.add_scatter(x=x,\n",
    "                y=predict(x),\n",
    "                mode='lines',\n",
    "                line=dict(dash=\"dash\",width=2,color=\"rgba(0,0,160,0.3)\"),\n",
    "                name=\"Linear Regression\"\n",
    "               )\n",
    "\n",
    "fig.update_layout(annotations=annotations)\n",
    "# fig.write_html(\"visualizations/Pew_Research-Ideology_dim.html\")\n",
    "fig.show()"
   ]
  },
  {
   "cell_type": "markdown",
   "metadata": {},
   "source": [
    "### Big Boy Pew Survey\n",
    "\n",
    "Citation: Pew Research Center, January 2020, “As Voting Begins, Democrats Are Upbeat  about  the 2020 Field, Divided  in  Their Preferences”"
   ]
  },
  {
   "cell_type": "code",
   "execution_count": 86,
   "metadata": {},
   "outputs": [
    {
     "data": {
      "text/html": [
       "<div>\n",
       "<style scoped>\n",
       "    .dataframe tbody tr th:only-of-type {\n",
       "        vertical-align: middle;\n",
       "    }\n",
       "\n",
       "    .dataframe tbody tr th {\n",
       "        vertical-align: top;\n",
       "    }\n",
       "\n",
       "    .dataframe thead th {\n",
       "        text-align: right;\n",
       "    }\n",
       "</style>\n",
       "<table border=\"1\" class=\"dataframe\">\n",
       "  <thead>\n",
       "    <tr style=\"text-align: right;\">\n",
       "      <th></th>\n",
       "      <th></th>\n",
       "      <th>Biden</th>\n",
       "      <th>Sanders</th>\n",
       "      <th>Warren</th>\n",
       "      <th>Buttigieg</th>\n",
       "      <th>Yang</th>\n",
       "      <th>Klobuchar</th>\n",
       "    </tr>\n",
       "    <tr>\n",
       "      <th>Dimension</th>\n",
       "      <th>Demographic</th>\n",
       "      <th></th>\n",
       "      <th></th>\n",
       "      <th></th>\n",
       "      <th></th>\n",
       "      <th></th>\n",
       "      <th></th>\n",
       "    </tr>\n",
       "  </thead>\n",
       "  <tbody>\n",
       "    <tr>\n",
       "      <th>Total</th>\n",
       "      <th>All Dem/Lean Dem registered voters</th>\n",
       "      <td>26.0</td>\n",
       "      <td>21.0</td>\n",
       "      <td>16.0</td>\n",
       "      <td>7.0</td>\n",
       "      <td>3.0</td>\n",
       "      <td>2.0</td>\n",
       "    </tr>\n",
       "    <tr>\n",
       "      <th rowspan=\"2\" valign=\"top\">Sex</th>\n",
       "      <th>Men</th>\n",
       "      <td>26.0</td>\n",
       "      <td>24.0</td>\n",
       "      <td>15.0</td>\n",
       "      <td>7.0</td>\n",
       "      <td>5.0</td>\n",
       "      <td>2.0</td>\n",
       "    </tr>\n",
       "    <tr>\n",
       "      <th>Women</th>\n",
       "      <td>26.0</td>\n",
       "      <td>19.0</td>\n",
       "      <td>16.0</td>\n",
       "      <td>7.0</td>\n",
       "      <td>2.0</td>\n",
       "      <td>3.0</td>\n",
       "    </tr>\n",
       "    <tr>\n",
       "      <th rowspan=\"2\" valign=\"top\">Race</th>\n",
       "      <th>White non-Hispanic</th>\n",
       "      <td>24.0</td>\n",
       "      <td>21.0</td>\n",
       "      <td>19.0</td>\n",
       "      <td>10.0</td>\n",
       "      <td>3.0</td>\n",
       "      <td>4.0</td>\n",
       "    </tr>\n",
       "    <tr>\n",
       "      <th>Black non-Hispanic</th>\n",
       "      <td>36.0</td>\n",
       "      <td>13.0</td>\n",
       "      <td>9.0</td>\n",
       "      <td>0.0</td>\n",
       "      <td>2.0</td>\n",
       "      <td>0.0</td>\n",
       "    </tr>\n",
       "    <tr>\n",
       "      <th>...</th>\n",
       "      <th>...</th>\n",
       "      <td>...</td>\n",
       "      <td>...</td>\n",
       "      <td>...</td>\n",
       "      <td>...</td>\n",
       "      <td>...</td>\n",
       "      <td>...</td>\n",
       "    </tr>\n",
       "    <tr>\n",
       "      <th rowspan=\"3\" valign=\"top\">Race/ethnicity by age</th>\n",
       "      <th>White non-Hispanic, 50+</th>\n",
       "      <td>33.0</td>\n",
       "      <td>11.0</td>\n",
       "      <td>16.0</td>\n",
       "      <td>12.0</td>\n",
       "      <td>1.0</td>\n",
       "      <td>5.0</td>\n",
       "    </tr>\n",
       "    <tr>\n",
       "      <th>Black non-Hispanic, 50+</th>\n",
       "      <td>45.0</td>\n",
       "      <td>7.0</td>\n",
       "      <td>7.0</td>\n",
       "      <td>0.0</td>\n",
       "      <td>0.0</td>\n",
       "      <td>0.0</td>\n",
       "    </tr>\n",
       "    <tr>\n",
       "      <th>Hispanic, 50+</th>\n",
       "      <td>36.0</td>\n",
       "      <td>21.0</td>\n",
       "      <td>6.0</td>\n",
       "      <td>2.0</td>\n",
       "      <td>0.0</td>\n",
       "      <td>0.0</td>\n",
       "    </tr>\n",
       "    <tr>\n",
       "      <th rowspan=\"2\" valign=\"top\">Party Identifiers</th>\n",
       "      <th>Democratic identifier</th>\n",
       "      <td>30.0</td>\n",
       "      <td>19.0</td>\n",
       "      <td>17.0</td>\n",
       "      <td>6.0</td>\n",
       "      <td>2.0</td>\n",
       "      <td>2.0</td>\n",
       "    </tr>\n",
       "    <tr>\n",
       "      <th>Democratic leaner (Independent/Other party/DK)</th>\n",
       "      <td>18.0</td>\n",
       "      <td>24.0</td>\n",
       "      <td>14.0</td>\n",
       "      <td>8.0</td>\n",
       "      <td>6.0</td>\n",
       "      <td>2.0</td>\n",
       "    </tr>\n",
       "  </tbody>\n",
       "</table>\n",
       "<p>119 rows × 6 columns</p>\n",
       "</div>"
      ],
      "text/plain": [
       "                                                                      Biden  \\\n",
       "Dimension             Demographic                                             \n",
       "Total                 All Dem/Lean Dem registered voters               26.0   \n",
       "Sex                   Men                                              26.0   \n",
       "                      Women                                            26.0   \n",
       "Race                  White non-Hispanic                               24.0   \n",
       "                      Black non-Hispanic                               36.0   \n",
       "...                                                                     ...   \n",
       "Race/ethnicity by age White non-Hispanic, 50+                          33.0   \n",
       "                      Black non-Hispanic, 50+                          45.0   \n",
       "                      Hispanic, 50+                                    36.0   \n",
       "Party Identifiers     Democratic identifier                            30.0   \n",
       "                      Democratic leaner (Independent/Other party/DK)   18.0   \n",
       "\n",
       "                                                                      Sanders  \\\n",
       "Dimension             Demographic                                               \n",
       "Total                 All Dem/Lean Dem registered voters                 21.0   \n",
       "Sex                   Men                                                24.0   \n",
       "                      Women                                              19.0   \n",
       "Race                  White non-Hispanic                                 21.0   \n",
       "                      Black non-Hispanic                                 13.0   \n",
       "...                                                                       ...   \n",
       "Race/ethnicity by age White non-Hispanic, 50+                            11.0   \n",
       "                      Black non-Hispanic, 50+                             7.0   \n",
       "                      Hispanic, 50+                                      21.0   \n",
       "Party Identifiers     Democratic identifier                              19.0   \n",
       "                      Democratic leaner (Independent/Other party/DK)     24.0   \n",
       "\n",
       "                                                                      Warren  \\\n",
       "Dimension             Demographic                                              \n",
       "Total                 All Dem/Lean Dem registered voters                16.0   \n",
       "Sex                   Men                                               15.0   \n",
       "                      Women                                             16.0   \n",
       "Race                  White non-Hispanic                                19.0   \n",
       "                      Black non-Hispanic                                 9.0   \n",
       "...                                                                      ...   \n",
       "Race/ethnicity by age White non-Hispanic, 50+                           16.0   \n",
       "                      Black non-Hispanic, 50+                            7.0   \n",
       "                      Hispanic, 50+                                      6.0   \n",
       "Party Identifiers     Democratic identifier                             17.0   \n",
       "                      Democratic leaner (Independent/Other party/DK)    14.0   \n",
       "\n",
       "                                                                      Buttigieg  \\\n",
       "Dimension             Demographic                                                 \n",
       "Total                 All Dem/Lean Dem registered voters                    7.0   \n",
       "Sex                   Men                                                   7.0   \n",
       "                      Women                                                 7.0   \n",
       "Race                  White non-Hispanic                                   10.0   \n",
       "                      Black non-Hispanic                                    0.0   \n",
       "...                                                                         ...   \n",
       "Race/ethnicity by age White non-Hispanic, 50+                              12.0   \n",
       "                      Black non-Hispanic, 50+                               0.0   \n",
       "                      Hispanic, 50+                                         2.0   \n",
       "Party Identifiers     Democratic identifier                                 6.0   \n",
       "                      Democratic leaner (Independent/Other party/DK)        8.0   \n",
       "\n",
       "                                                                      Yang  \\\n",
       "Dimension             Demographic                                            \n",
       "Total                 All Dem/Lean Dem registered voters               3.0   \n",
       "Sex                   Men                                              5.0   \n",
       "                      Women                                            2.0   \n",
       "Race                  White non-Hispanic                               3.0   \n",
       "                      Black non-Hispanic                               2.0   \n",
       "...                                                                    ...   \n",
       "Race/ethnicity by age White non-Hispanic, 50+                          1.0   \n",
       "                      Black non-Hispanic, 50+                          0.0   \n",
       "                      Hispanic, 50+                                    0.0   \n",
       "Party Identifiers     Democratic identifier                            2.0   \n",
       "                      Democratic leaner (Independent/Other party/DK)   6.0   \n",
       "\n",
       "                                                                      Klobuchar  \n",
       "Dimension             Demographic                                                \n",
       "Total                 All Dem/Lean Dem registered voters                    2.0  \n",
       "Sex                   Men                                                   2.0  \n",
       "                      Women                                                 3.0  \n",
       "Race                  White non-Hispanic                                    4.0  \n",
       "                      Black non-Hispanic                                    0.0  \n",
       "...                                                                         ...  \n",
       "Race/ethnicity by age White non-Hispanic, 50+                               5.0  \n",
       "                      Black non-Hispanic, 50+                               0.0  \n",
       "                      Hispanic, 50+                                         0.0  \n",
       "Party Identifiers     Democratic identifier                                 2.0  \n",
       "                      Democratic leaner (Independent/Other party/DK)        2.0  \n",
       "\n",
       "[119 rows x 6 columns]"
      ]
     },
     "execution_count": 86,
     "metadata": {},
     "output_type": "execute_result"
    }
   ],
   "source": [
    "pew_survey = pd.read_csv(\"/h/224/cameron/Political-Subreddit-Embedding/external_datasets/polling_data/pew-dem-primary-detailed-tables.csv\",skiprows=2).set_index([\"Dimension\",\"Demographic\"])\n",
    "cands = [\"Biden\",\"Sanders\",\"Warren\",\"Buttigieg\",\"Yang\",\"Klobuchar\"]\n",
    "cand_subs = [\"JoeBiden\",\"Pete_Buttigieg\",\"BaemyKlobaechar\",\"SandersForPresident\",\"ElizabethWarren\",\"YangForPresidentHQ\"]\n",
    "\n",
    "pew_survey = pew_survey.iloc[:-1]\n",
    "pew_survey = pew_survey[cands]\n",
    "pew_dims = np.unique(pew_survey.index.get_level_values(0))\n",
    "pew_survey"
   ]
  },
  {
   "cell_type": "code",
   "execution_count": 87,
   "metadata": {
    "scrolled": false
   },
   "outputs": [
    {
     "data": {
      "application/vnd.plotly.v1+json": {
       "config": {
        "plotlyServerURL": "https://plot.ly"
       },
       "data": [
        {
         "legendgroup": "Age (4-way)",
         "name": "18-29",
         "type": "bar",
         "x": [
          "Biden",
          "Sanders",
          "Warren",
          "Buttigieg",
          "Yang",
          "Klobuchar"
         ],
         "xaxis": "x",
         "y": [
          9,
          40,
          17,
          3,
          10,
          0
         ],
         "yaxis": "y"
        },
        {
         "legendgroup": "Age (4-way)",
         "name": "30-49",
         "type": "bar",
         "x": [
          "Biden",
          "Sanders",
          "Warren",
          "Buttigieg",
          "Yang",
          "Klobuchar"
         ],
         "xaxis": "x",
         "y": [
          19,
          25,
          19,
          6,
          4,
          2
         ],
         "yaxis": "y"
        },
        {
         "legendgroup": "Age (4-way)",
         "name": "50-64",
         "type": "bar",
         "x": [
          "Biden",
          "Sanders",
          "Warren",
          "Buttigieg",
          "Yang",
          "Klobuchar"
         ],
         "xaxis": "x",
         "y": [
          34,
          13,
          14,
          8,
          1,
          3
         ],
         "yaxis": "y"
        },
        {
         "legendgroup": "Age (4-way)",
         "name": "65",
         "type": "bar",
         "x": [
          "Biden",
          "Sanders",
          "Warren",
          "Buttigieg",
          "Yang",
          "Klobuchar"
         ],
         "xaxis": "x",
         "y": [
          39,
          10,
          13,
          8,
          0,
          5
         ],
         "yaxis": "y"
        },
        {
         "legendgroup": "Age (detailed)",
         "name": "18-34",
         "type": "bar",
         "x": [
          "Biden",
          "Sanders",
          "Warren",
          "Buttigieg",
          "Yang",
          "Klobuchar"
         ],
         "xaxis": "x2",
         "y": [
          11,
          37,
          18,
          4,
          8,
          0
         ],
         "yaxis": "y2"
        },
        {
         "legendgroup": "Age (detailed)",
         "name": "35-39",
         "type": "bar",
         "x": [
          "Biden",
          "Sanders",
          "Warren",
          "Buttigieg",
          "Yang",
          "Klobuchar"
         ],
         "xaxis": "x2",
         "y": [
          14,
          26,
          23,
          6,
          4,
          1
         ],
         "yaxis": "y2"
        },
        {
         "legendgroup": "Age (detailed)",
         "name": "40-49",
         "type": "bar",
         "x": [
          "Biden",
          "Sanders",
          "Warren",
          "Buttigieg",
          "Yang",
          "Klobuchar"
         ],
         "xaxis": "x2",
         "y": [
          24,
          21,
          17,
          7,
          4,
          3
         ],
         "yaxis": "y2"
        },
        {
         "legendgroup": "Age (detailed)",
         "name": "50-59",
         "type": "bar",
         "x": [
          "Biden",
          "Sanders",
          "Warren",
          "Buttigieg",
          "Yang",
          "Klobuchar"
         ],
         "xaxis": "x2",
         "y": [
          33,
          14,
          13,
          8,
          2,
          3
         ],
         "yaxis": "y2"
        },
        {
         "legendgroup": "Age (detailed)",
         "name": "60-64",
         "type": "bar",
         "x": [
          "Biden",
          "Sanders",
          "Warren",
          "Buttigieg",
          "Yang",
          "Klobuchar"
         ],
         "xaxis": "x2",
         "y": [
          37,
          10,
          14,
          8,
          1,
          2
         ],
         "yaxis": "y2"
        },
        {
         "legendgroup": "Age (detailed)",
         "name": "65-69",
         "type": "bar",
         "x": [
          "Biden",
          "Sanders",
          "Warren",
          "Buttigieg",
          "Yang",
          "Klobuchar"
         ],
         "xaxis": "x2",
         "y": [
          34,
          10,
          16,
          10,
          0,
          4
         ],
         "yaxis": "y2"
        },
        {
         "legendgroup": "Age (detailed)",
         "name": "70",
         "type": "bar",
         "x": [
          "Biden",
          "Sanders",
          "Warren",
          "Buttigieg",
          "Yang",
          "Klobuchar"
         ],
         "xaxis": "x2",
         "y": [
          42,
          10,
          11,
          7,
          0,
          5
         ],
         "yaxis": "y2"
        },
        {
         "legendgroup": "Democratic primary timing",
         "name": "Super Tuesday or earlier state",
         "type": "bar",
         "x": [
          "Biden",
          "Sanders",
          "Warren",
          "Buttigieg",
          "Yang",
          "Klobuchar"
         ],
         "xaxis": "x3",
         "y": [
          25,
          20,
          17,
          6,
          4,
          2
         ],
         "yaxis": "y3"
        },
        {
         "legendgroup": "Democratic primary timing",
         "name": "Lives in another state",
         "type": "bar",
         "x": [
          "Biden",
          "Sanders",
          "Warren",
          "Buttigieg",
          "Yang",
          "Klobuchar"
         ],
         "xaxis": "x3",
         "y": [
          26,
          21,
          15,
          7,
          3,
          3
         ],
         "yaxis": "y3"
        },
        {
         "legendgroup": "Education (2-way)",
         "name": "College grad+",
         "type": "bar",
         "x": [
          "Biden",
          "Sanders",
          "Warren",
          "Buttigieg",
          "Yang",
          "Klobuchar"
         ],
         "xaxis": "x4",
         "y": [
          24,
          19,
          24,
          10,
          3,
          5
         ],
         "yaxis": "y4"
        },
        {
         "legendgroup": "Education (2-way)",
         "name": "No college degree",
         "type": "bar",
         "x": [
          "Biden",
          "Sanders",
          "Warren",
          "Buttigieg",
          "Yang",
          "Klobuchar"
         ],
         "xaxis": "x4",
         "y": [
          28,
          22,
          10,
          4,
          4,
          1
         ],
         "yaxis": "y4"
        },
        {
         "legendgroup": "Education (detailed)",
         "name": "Postgrad",
         "type": "bar",
         "x": [
          "Biden",
          "Sanders",
          "Warren",
          "Buttigieg",
          "Yang",
          "Klobuchar"
         ],
         "xaxis": "x5",
         "y": [
          25,
          13,
          28,
          11,
          2,
          6
         ],
         "yaxis": "y5"
        },
        {
         "legendgroup": "Education (detailed)",
         "name": "4-year college",
         "type": "bar",
         "x": [
          "Biden",
          "Sanders",
          "Warren",
          "Buttigieg",
          "Yang",
          "Klobuchar"
         ],
         "xaxis": "x5",
         "y": [
          22,
          23,
          20,
          9,
          3,
          3
         ],
         "yaxis": "y5"
        },
        {
         "legendgroup": "Education (detailed)",
         "name": "Some college",
         "type": "bar",
         "x": [
          "Biden",
          "Sanders",
          "Warren",
          "Buttigieg",
          "Yang",
          "Klobuchar"
         ],
         "xaxis": "x5",
         "y": [
          24,
          26,
          13,
          5,
          4,
          1
         ],
         "yaxis": "y5"
        },
        {
         "legendgroup": "Education (detailed)",
         "name": "HS or less",
         "type": "bar",
         "x": [
          "Biden",
          "Sanders",
          "Warren",
          "Buttigieg",
          "Yang",
          "Klobuchar"
         ],
         "xaxis": "x5",
         "y": [
          31,
          19,
          8,
          3,
          4,
          0
         ],
         "yaxis": "y5"
        },
        {
         "legendgroup": "Ideology",
         "name": "NET Liberal",
         "type": "bar",
         "x": [
          "Biden",
          "Sanders",
          "Warren",
          "Buttigieg",
          "Yang",
          "Klobuchar"
         ],
         "xaxis": "x6",
         "y": [
          21,
          28,
          26,
          7,
          2,
          2
         ],
         "yaxis": "y6"
        },
        {
         "legendgroup": "Ideology",
         "name": "NET Cons/Mod",
         "type": "bar",
         "x": [
          "Biden",
          "Sanders",
          "Warren",
          "Buttigieg",
          "Yang",
          "Klobuchar"
         ],
         "xaxis": "x6",
         "y": [
          30,
          15,
          8,
          7,
          5,
          2
         ],
         "yaxis": "y6"
        },
        {
         "legendgroup": "Ideology (detailed)",
         "name": "Very Liberal",
         "type": "bar",
         "x": [
          "Biden",
          "Sanders",
          "Warren",
          "Buttigieg",
          "Yang",
          "Klobuchar"
         ],
         "xaxis": "x7",
         "y": [
          12,
          38,
          30,
          3,
          2,
          2
         ],
         "yaxis": "y7"
        },
        {
         "legendgroup": "Ideology (detailed)",
         "name": "Liberal",
         "type": "bar",
         "x": [
          "Biden",
          "Sanders",
          "Warren",
          "Buttigieg",
          "Yang",
          "Klobuchar"
         ],
         "xaxis": "x7",
         "y": [
          25,
          22,
          23,
          8,
          2,
          3
         ],
         "yaxis": "y7"
        },
        {
         "legendgroup": "Ideology (detailed)",
         "name": "Moderate",
         "type": "bar",
         "x": [
          "Biden",
          "Sanders",
          "Warren",
          "Buttigieg",
          "Yang",
          "Klobuchar"
         ],
         "xaxis": "x7",
         "y": [
          30,
          16,
          8,
          8,
          5,
          3
         ],
         "yaxis": "y7"
        },
        {
         "legendgroup": "Ideology (detailed)",
         "name": "NET Conservatives",
         "type": "bar",
         "x": [
          "Biden",
          "Sanders",
          "Warren",
          "Buttigieg",
          "Yang",
          "Klobuchar"
         ],
         "xaxis": "x7",
         "y": [
          33,
          7,
          4,
          2,
          1,
          0
         ],
         "yaxis": "y7"
        },
        {
         "legendgroup": "Income (3-way)",
         "name": "$75,000.00",
         "type": "bar",
         "x": [
          "Biden",
          "Sanders",
          "Warren",
          "Buttigieg",
          "Yang",
          "Klobuchar"
         ],
         "xaxis": "x8",
         "y": [
          25,
          18,
          22,
          10,
          4,
          4
         ],
         "yaxis": "y8"
        },
        {
         "legendgroup": "Income (3-way)",
         "name": "$30-$74,999",
         "type": "bar",
         "x": [
          "Biden",
          "Sanders",
          "Warren",
          "Buttigieg",
          "Yang",
          "Klobuchar"
         ],
         "xaxis": "x8",
         "y": [
          25,
          24,
          15,
          6,
          3,
          2
         ],
         "yaxis": "y8"
        },
        {
         "legendgroup": "Income (3-way)",
         "name": "<$30,000",
         "type": "bar",
         "x": [
          "Biden",
          "Sanders",
          "Warren",
          "Buttigieg",
          "Yang",
          "Klobuchar"
         ],
         "xaxis": "x8",
         "y": [
          27,
          21,
          9,
          3,
          3,
          1
         ],
         "yaxis": "y8"
        },
        {
         "legendgroup": "Income (detailed)",
         "name": "Less than $20,0000",
         "type": "bar",
         "x": [
          "Biden",
          "Sanders",
          "Warren",
          "Buttigieg",
          "Yang",
          "Klobuchar"
         ],
         "xaxis": "x9",
         "y": [
          27,
          18,
          8,
          3,
          3,
          0
         ],
         "yaxis": "y9"
        },
        {
         "legendgroup": "Income (detailed)",
         "name": "$20,000 to less than $30,000",
         "type": "bar",
         "x": [
          "Biden",
          "Sanders",
          "Warren",
          "Buttigieg",
          "Yang",
          "Klobuchar"
         ],
         "xaxis": "x9",
         "y": [
          25,
          26,
          10,
          3,
          2,
          1
         ],
         "yaxis": "y9"
        },
        {
         "legendgroup": "Income (detailed)",
         "name": "$30,000 to less than $40,000",
         "type": "bar",
         "x": [
          "Biden",
          "Sanders",
          "Warren",
          "Buttigieg",
          "Yang",
          "Klobuchar"
         ],
         "xaxis": "x9",
         "y": [
          25,
          26,
          12,
          3,
          2,
          1
         ],
         "yaxis": "y9"
        },
        {
         "legendgroup": "Income (detailed)",
         "name": "$40,000 to less than $50,000",
         "type": "bar",
         "x": [
          "Biden",
          "Sanders",
          "Warren",
          "Buttigieg",
          "Yang",
          "Klobuchar"
         ],
         "xaxis": "x9",
         "y": [
          22,
          28,
          12,
          7,
          6,
          3
         ],
         "yaxis": "y9"
        },
        {
         "legendgroup": "Income (detailed)",
         "name": "$50,000 to less than $75,000",
         "type": "bar",
         "x": [
          "Biden",
          "Sanders",
          "Warren",
          "Buttigieg",
          "Yang",
          "Klobuchar"
         ],
         "xaxis": "x9",
         "y": [
          28,
          21,
          20,
          8,
          3,
          2
         ],
         "yaxis": "y9"
        },
        {
         "legendgroup": "Income (detailed)",
         "name": "$75,000 to less than $100,000",
         "type": "bar",
         "x": [
          "Biden",
          "Sanders",
          "Warren",
          "Buttigieg",
          "Yang",
          "Klobuchar"
         ],
         "xaxis": "x9",
         "y": [
          26,
          20,
          20,
          9,
          4,
          4
         ],
         "yaxis": "y9"
        },
        {
         "legendgroup": "Income (detailed)",
         "name": "$100,000 to less than $150,000",
         "type": "bar",
         "x": [
          "Biden",
          "Sanders",
          "Warren",
          "Buttigieg",
          "Yang",
          "Klobuchar"
         ],
         "xaxis": "x9",
         "y": [
          26,
          17,
          24,
          10,
          4,
          4
         ],
         "yaxis": "y9"
        },
        {
         "legendgroup": "Income (detailed)",
         "name": "$150,000 or more",
         "type": "bar",
         "x": [
          "Biden",
          "Sanders",
          "Warren",
          "Buttigieg",
          "Yang",
          "Klobuchar"
         ],
         "xaxis": "x9",
         "y": [
          23,
          17,
          22,
          12,
          4,
          6
         ],
         "yaxis": "y9"
        },
        {
         "legendgroup": "Marital status",
         "name": "Married/LWP",
         "type": "bar",
         "x": [
          "Biden",
          "Sanders",
          "Warren",
          "Buttigieg",
          "Yang",
          "Klobuchar"
         ],
         "xaxis": "x10",
         "y": [
          26,
          20,
          16,
          8,
          3,
          3
         ],
         "yaxis": "y10"
        },
        {
         "legendgroup": "Marital status",
         "name": "Divorced/Separated",
         "type": "bar",
         "x": [
          "Biden",
          "Sanders",
          "Warren",
          "Buttigieg",
          "Yang",
          "Klobuchar"
         ],
         "xaxis": "x10",
         "y": [
          30,
          17,
          16,
          6,
          2,
          2
         ],
         "yaxis": "y10"
        },
        {
         "legendgroup": "Marital status",
         "name": "Widowed",
         "type": "bar",
         "x": [
          "Biden",
          "Sanders",
          "Warren",
          "Buttigieg",
          "Yang",
          "Klobuchar"
         ],
         "xaxis": "x10",
         "y": [
          46,
          10,
          8,
          6,
          0,
          1
         ],
         "yaxis": "y10"
        },
        {
         "legendgroup": "Marital status",
         "name": "Never married",
         "type": "bar",
         "x": [
          "Biden",
          "Sanders",
          "Warren",
          "Buttigieg",
          "Yang",
          "Klobuchar"
         ],
         "xaxis": "x10",
         "y": [
          21,
          26,
          17,
          5,
          5,
          1
         ],
         "yaxis": "y10"
        },
        {
         "legendgroup": "Party Identifiers",
         "name": "Democratic identifier",
         "type": "bar",
         "x": [
          "Biden",
          "Sanders",
          "Warren",
          "Buttigieg",
          "Yang",
          "Klobuchar"
         ],
         "xaxis": "x11",
         "y": [
          30,
          19,
          17,
          6,
          2,
          2
         ],
         "yaxis": "y11"
        },
        {
         "legendgroup": "Party Identifiers",
         "name": "Democratic leaner (Independent/Other party/DK)",
         "type": "bar",
         "x": [
          "Biden",
          "Sanders",
          "Warren",
          "Buttigieg",
          "Yang",
          "Klobuchar"
         ],
         "xaxis": "x11",
         "y": [
          18,
          24,
          14,
          8,
          6,
          2
         ],
         "yaxis": "y11"
        },
        {
         "legendgroup": "Race",
         "name": "White non-Hispanic",
         "type": "bar",
         "x": [
          "Biden",
          "Sanders",
          "Warren",
          "Buttigieg",
          "Yang",
          "Klobuchar"
         ],
         "xaxis": "x12",
         "y": [
          24,
          21,
          19,
          10,
          3,
          4
         ],
         "yaxis": "y12"
        },
        {
         "legendgroup": "Race",
         "name": "Black non-Hispanic",
         "type": "bar",
         "x": [
          "Biden",
          "Sanders",
          "Warren",
          "Buttigieg",
          "Yang",
          "Klobuchar"
         ],
         "xaxis": "x12",
         "y": [
          36,
          13,
          9,
          0,
          2,
          0
         ],
         "yaxis": "y12"
        },
        {
         "legendgroup": "Race",
         "name": "Hispanic",
         "type": "bar",
         "x": [
          "Biden",
          "Sanders",
          "Warren",
          "Buttigieg",
          "Yang",
          "Klobuchar"
         ],
         "xaxis": "x12",
         "y": [
          22,
          30,
          11,
          2,
          5,
          0
         ],
         "yaxis": "y12"
        },
        {
         "legendgroup": "Race",
         "name": "Other",
         "type": "bar",
         "x": [
          "Biden",
          "Sanders",
          "Warren",
          "Buttigieg",
          "Yang",
          "Klobuchar"
         ],
         "xaxis": "x12",
         "y": [
          23,
          23,
          21,
          4,
          10,
          1
         ],
         "yaxis": "y12"
        },
        {
         "legendgroup": "Race/ethnicity by age",
         "name": "White non-Hispanic, 18-49",
         "type": "bar",
         "x": [
          "Biden",
          "Sanders",
          "Warren",
          "Buttigieg",
          "Yang",
          "Klobuchar"
         ],
         "xaxis": "x13",
         "y": [
          12,
          34,
          22,
          9,
          5,
          2
         ],
         "yaxis": "y13"
        },
        {
         "legendgroup": "Race/ethnicity by age",
         "name": "Black non-Hispanic, 18-49",
         "type": "bar",
         "x": [
          "Biden",
          "Sanders",
          "Warren",
          "Buttigieg",
          "Yang",
          "Klobuchar"
         ],
         "xaxis": "x13",
         "y": [
          26,
          18,
          12,
          0,
          4,
          0
         ],
         "yaxis": "y13"
        },
        {
         "legendgroup": "Race/ethnicity by age",
         "name": "Hispanic, 18-49",
         "type": "bar",
         "x": [
          "Biden",
          "Sanders",
          "Warren",
          "Buttigieg",
          "Yang",
          "Klobuchar"
         ],
         "xaxis": "x13",
         "y": [
          16,
          35,
          13,
          2,
          8,
          0
         ],
         "yaxis": "y13"
        },
        {
         "legendgroup": "Race/ethnicity by age",
         "name": "Other, 18-49",
         "type": "bar",
         "x": [
          "Biden",
          "Sanders",
          "Warren",
          "Buttigieg",
          "Yang",
          "Klobuchar"
         ],
         "xaxis": "x13",
         "y": [
          13,
          27,
          22,
          3,
          11,
          1
         ],
         "yaxis": "y13"
        },
        {
         "legendgroup": "Race/ethnicity by age",
         "name": "White non-Hispanic, 50+",
         "type": "bar",
         "x": [
          "Biden",
          "Sanders",
          "Warren",
          "Buttigieg",
          "Yang",
          "Klobuchar"
         ],
         "xaxis": "x13",
         "y": [
          33,
          11,
          16,
          12,
          1,
          5
         ],
         "yaxis": "y13"
        },
        {
         "legendgroup": "Race/ethnicity by age",
         "name": "Black non-Hispanic, 50+",
         "type": "bar",
         "x": [
          "Biden",
          "Sanders",
          "Warren",
          "Buttigieg",
          "Yang",
          "Klobuchar"
         ],
         "xaxis": "x13",
         "y": [
          45,
          7,
          7,
          0,
          0,
          0
         ],
         "yaxis": "y13"
        },
        {
         "legendgroup": "Race/ethnicity by age",
         "name": "Hispanic, 50+",
         "type": "bar",
         "x": [
          "Biden",
          "Sanders",
          "Warren",
          "Buttigieg",
          "Yang",
          "Klobuchar"
         ],
         "xaxis": "x13",
         "y": [
          36,
          21,
          6,
          2,
          0,
          0
         ],
         "yaxis": "y13"
        },
        {
         "legendgroup": "Region",
         "name": "Northeast",
         "type": "bar",
         "x": [
          "Biden",
          "Sanders",
          "Warren",
          "Buttigieg",
          "Yang",
          "Klobuchar"
         ],
         "xaxis": "x14",
         "y": [
          25,
          21,
          17,
          5,
          3,
          2
         ],
         "yaxis": "y14"
        },
        {
         "legendgroup": "Region",
         "name": "Midwest",
         "type": "bar",
         "x": [
          "Biden",
          "Sanders",
          "Warren",
          "Buttigieg",
          "Yang",
          "Klobuchar"
         ],
         "xaxis": "x14",
         "y": [
          23,
          22,
          15,
          10,
          4,
          4
         ],
         "yaxis": "y14"
        },
        {
         "legendgroup": "Region",
         "name": "South",
         "type": "bar",
         "x": [
          "Biden",
          "Sanders",
          "Warren",
          "Buttigieg",
          "Yang",
          "Klobuchar"
         ],
         "xaxis": "x14",
         "y": [
          30,
          18,
          14,
          5,
          2,
          2
         ],
         "yaxis": "y14"
        },
        {
         "legendgroup": "Region",
         "name": "West",
         "type": "bar",
         "x": [
          "Biden",
          "Sanders",
          "Warren",
          "Buttigieg",
          "Yang",
          "Klobuchar"
         ],
         "xaxis": "x14",
         "y": [
          23,
          24,
          18,
          8,
          5,
          3
         ],
         "yaxis": "y14"
        },
        {
         "legendgroup": "Religion",
         "name": "NET Protestant",
         "type": "bar",
         "x": [
          "Biden",
          "Sanders",
          "Warren",
          "Buttigieg",
          "Yang",
          "Klobuchar"
         ],
         "xaxis": "x15",
         "y": [
          36,
          13,
          11,
          5,
          2,
          2
         ],
         "yaxis": "y15"
        },
        {
         "legendgroup": "Religion",
         "name": "NET Catholic",
         "type": "bar",
         "x": [
          "Biden",
          "Sanders",
          "Warren",
          "Buttigieg",
          "Yang",
          "Klobuchar"
         ],
         "xaxis": "x15",
         "y": [
          34,
          18,
          10,
          7,
          3,
          2
         ],
         "yaxis": "y15"
        },
        {
         "legendgroup": "Religion",
         "name": "Jewish",
         "type": "bar",
         "x": [
          "Biden",
          "Sanders",
          "Warren",
          "Buttigieg",
          "Yang",
          "Klobuchar"
         ],
         "xaxis": "x15",
         "y": [
          31,
          11,
          20,
          13,
          1,
          4
         ],
         "yaxis": "y15"
        },
        {
         "legendgroup": "Religion",
         "name": "Unaffiliated",
         "type": "bar",
         "x": [
          "Biden",
          "Sanders",
          "Warren",
          "Buttigieg",
          "Yang",
          "Klobuchar"
         ],
         "xaxis": "x15",
         "y": [
          17,
          28,
          21,
          7,
          4,
          2
         ],
         "yaxis": "y15"
        },
        {
         "legendgroup": "Religion (detalied)",
         "name": "White evangelical Protestant",
         "type": "bar",
         "x": [
          "Biden",
          "Sanders",
          "Warren",
          "Buttigieg",
          "Yang",
          "Klobuchar"
         ],
         "xaxis": "x16",
         "y": [
          37,
          12,
          14,
          9,
          2,
          2
         ],
         "yaxis": "y16"
        },
        {
         "legendgroup": "Religion (detalied)",
         "name": "White mainline Protestant",
         "type": "bar",
         "x": [
          "Biden",
          "Sanders",
          "Warren",
          "Buttigieg",
          "Yang",
          "Klobuchar"
         ],
         "xaxis": "x16",
         "y": [
          26,
          12,
          14,
          13,
          1,
          6
         ],
         "yaxis": "y16"
        },
        {
         "legendgroup": "Religion (detalied)",
         "name": "Black Protestant",
         "type": "bar",
         "x": [
          "Biden",
          "Sanders",
          "Warren",
          "Buttigieg",
          "Yang",
          "Klobuchar"
         ],
         "xaxis": "x16",
         "y": [
          44,
          11,
          7,
          0,
          1,
          0
         ],
         "yaxis": "y16"
        },
        {
         "legendgroup": "Religion (detalied)",
         "name": "White non-Hispanic Catholic",
         "type": "bar",
         "x": [
          "Biden",
          "Sanders",
          "Warren",
          "Buttigieg",
          "Yang",
          "Klobuchar"
         ],
         "xaxis": "x16",
         "y": [
          37,
          14,
          10,
          12,
          2,
          4
         ],
         "yaxis": "y16"
        },
        {
         "legendgroup": "Religion (detalied)",
         "name": "Hispanic Catholic",
         "type": "bar",
         "x": [
          "Biden",
          "Sanders",
          "Warren",
          "Buttigieg",
          "Yang",
          "Klobuchar"
         ],
         "xaxis": "x16",
         "y": [
          29,
          25,
          7,
          1,
          4,
          0
         ],
         "yaxis": "y16"
        },
        {
         "legendgroup": "Religion (detalied)",
         "name": "Atheist",
         "type": "bar",
         "x": [
          "Biden",
          "Sanders",
          "Warren",
          "Buttigieg",
          "Yang",
          "Klobuchar"
         ],
         "xaxis": "x16",
         "y": [
          12,
          30,
          29,
          10,
          6,
          2
         ],
         "yaxis": "y16"
        },
        {
         "legendgroup": "Religion (detalied)",
         "name": "Agnostic",
         "type": "bar",
         "x": [
          "Biden",
          "Sanders",
          "Warren",
          "Buttigieg",
          "Yang",
          "Klobuchar"
         ],
         "xaxis": "x16",
         "y": [
          16,
          36,
          23,
          7,
          4,
          4
         ],
         "yaxis": "y16"
        },
        {
         "legendgroup": "Religion (detalied)",
         "name": "Nothing in particular",
         "type": "bar",
         "x": [
          "Biden",
          "Sanders",
          "Warren",
          "Buttigieg",
          "Yang",
          "Klobuchar"
         ],
         "xaxis": "x16",
         "y": [
          18,
          23,
          16,
          6,
          4,
          2
         ],
         "yaxis": "y16"
        },
        {
         "legendgroup": "Religious attendance",
         "name": "Once a week+",
         "type": "bar",
         "x": [
          "Biden",
          "Sanders",
          "Warren",
          "Buttigieg",
          "Yang",
          "Klobuchar"
         ],
         "xaxis": "x17",
         "y": [
          38,
          11,
          10,
          5,
          2,
          4
         ],
         "yaxis": "y17"
        },
        {
         "legendgroup": "Religious attendance",
         "name": "Monthly/yearly",
         "type": "bar",
         "x": [
          "Biden",
          "Sanders",
          "Warren",
          "Buttigieg",
          "Yang",
          "Klobuchar"
         ],
         "xaxis": "x17",
         "y": [
          30,
          19,
          14,
          6,
          4,
          2
         ],
         "yaxis": "y17"
        },
        {
         "legendgroup": "Religious attendance",
         "name": "Seldom",
         "type": "bar",
         "x": [
          "Biden",
          "Sanders",
          "Warren",
          "Buttigieg",
          "Yang",
          "Klobuchar"
         ],
         "xaxis": "x17",
         "y": [
          27,
          20,
          16,
          7,
          4,
          2
         ],
         "yaxis": "y17"
        },
        {
         "legendgroup": "Religious attendance",
         "name": "Never",
         "type": "bar",
         "x": [
          "Biden",
          "Sanders",
          "Warren",
          "Buttigieg",
          "Yang",
          "Klobuchar"
         ],
         "xaxis": "x17",
         "y": [
          17,
          28,
          20,
          8,
          4,
          2
         ],
         "yaxis": "y17"
        },
        {
         "legendgroup": "Sex",
         "name": "Men",
         "type": "bar",
         "x": [
          "Biden",
          "Sanders",
          "Warren",
          "Buttigieg",
          "Yang",
          "Klobuchar"
         ],
         "xaxis": "x18",
         "y": [
          26,
          24,
          15,
          7,
          5,
          2
         ],
         "yaxis": "y18"
        },
        {
         "legendgroup": "Sex",
         "name": "Women",
         "type": "bar",
         "x": [
          "Biden",
          "Sanders",
          "Warren",
          "Buttigieg",
          "Yang",
          "Klobuchar"
         ],
         "xaxis": "x18",
         "y": [
          26,
          19,
          16,
          7,
          2,
          3
         ],
         "yaxis": "y18"
        },
        {
         "legendgroup": "Sex by age",
         "name": "Men, 18-49",
         "type": "bar",
         "x": [
          "Biden",
          "Sanders",
          "Warren",
          "Buttigieg",
          "Yang",
          "Klobuchar"
         ],
         "xaxis": "x19",
         "y": [
          14,
          34,
          18,
          6,
          9,
          1
         ],
         "yaxis": "y19"
        },
        {
         "legendgroup": "Sex by age",
         "name": "Women, 18-49",
         "type": "bar",
         "x": [
          "Biden",
          "Sanders",
          "Warren",
          "Buttigieg",
          "Yang",
          "Klobuchar"
         ],
         "xaxis": "x19",
         "y": [
          17,
          27,
          19,
          4,
          4,
          1
         ],
         "yaxis": "y19"
        },
        {
         "legendgroup": "Sex by age",
         "name": "Men, 50+",
         "type": "bar",
         "x": [
          "Biden",
          "Sanders",
          "Warren",
          "Buttigieg",
          "Yang",
          "Klobuchar"
         ],
         "xaxis": "x19",
         "y": [
          39,
          12,
          13,
          7,
          1,
          3
         ],
         "yaxis": "y19"
        },
        {
         "legendgroup": "Sex by age",
         "name": "Women, 50+",
         "type": "bar",
         "x": [
          "Biden",
          "Sanders",
          "Warren",
          "Buttigieg",
          "Yang",
          "Klobuchar"
         ],
         "xaxis": "x19",
         "y": [
          34,
          11,
          14,
          9,
          1,
          4
         ],
         "yaxis": "y19"
        },
        {
         "legendgroup": "Sex by age (among whites)",
         "name": "Men, 18-49",
         "type": "bar",
         "x": [
          "Biden",
          "Sanders",
          "Warren",
          "Buttigieg",
          "Yang",
          "Klobuchar"
         ],
         "xaxis": "x20",
         "y": [
          13,
          38,
          20,
          10,
          6,
          3
         ],
         "yaxis": "y20"
        },
        {
         "legendgroup": "Sex by age (among whites)",
         "name": "Women, 18-49",
         "type": "bar",
         "x": [
          "Biden",
          "Sanders",
          "Warren",
          "Buttigieg",
          "Yang",
          "Klobuchar"
         ],
         "xaxis": "x20",
         "y": [
          11,
          29,
          25,
          7,
          4,
          2
         ],
         "yaxis": "y20"
        },
        {
         "legendgroup": "Sex by age (among whites)",
         "name": "Men, 50+",
         "type": "bar",
         "x": [
          "Biden",
          "Sanders",
          "Warren",
          "Buttigieg",
          "Yang",
          "Klobuchar"
         ],
         "xaxis": "x20",
         "y": [
          36,
          13,
          15,
          10,
          1,
          4
         ],
         "yaxis": "y20"
        },
        {
         "legendgroup": "Sex by age (among whites)",
         "name": "Women, 50+",
         "type": "bar",
         "x": [
          "Biden",
          "Sanders",
          "Warren",
          "Buttigieg",
          "Yang",
          "Klobuchar"
         ],
         "xaxis": "x20",
         "y": [
          31,
          10,
          17,
          13,
          0,
          6
         ],
         "yaxis": "y20"
        },
        {
         "legendgroup": "Sex by education",
         "name": "Men, College grad+",
         "type": "bar",
         "x": [
          "Biden",
          "Sanders",
          "Warren",
          "Buttigieg",
          "Yang",
          "Klobuchar"
         ],
         "xaxis": "x21",
         "y": [
          26,
          21,
          21,
          10,
          4,
          4
         ],
         "yaxis": "y21"
        },
        {
         "legendgroup": "Sex by education",
         "name": "Women, College grad+",
         "type": "bar",
         "x": [
          "Biden",
          "Sanders",
          "Warren",
          "Buttigieg",
          "Yang",
          "Klobuchar"
         ],
         "xaxis": "x21",
         "y": [
          22,
          17,
          26,
          10,
          2,
          5
         ],
         "yaxis": "y21"
        },
        {
         "legendgroup": "Sex by education",
         "name": "Men, No college degree",
         "type": "bar",
         "x": [
          "Biden",
          "Sanders",
          "Warren",
          "Buttigieg",
          "Yang",
          "Klobuchar"
         ],
         "xaxis": "x21",
         "y": [
          26,
          25,
          12,
          5,
          6,
          1
         ],
         "yaxis": "y21"
        },
        {
         "legendgroup": "Sex by education",
         "name": "Women, No college degree",
         "type": "bar",
         "x": [
          "Biden",
          "Sanders",
          "Warren",
          "Buttigieg",
          "Yang",
          "Klobuchar"
         ],
         "xaxis": "x21",
         "y": [
          29,
          20,
          9,
          4,
          2,
          1
         ],
         "yaxis": "y21"
        },
        {
         "legendgroup": "Sex by education (among whites)",
         "name": "Men, College grad+",
         "type": "bar",
         "x": [
          "Biden",
          "Sanders",
          "Warren",
          "Buttigieg",
          "Yang",
          "Klobuchar"
         ],
         "xaxis": "x22",
         "y": [
          24,
          22,
          21,
          13,
          4,
          5
         ],
         "yaxis": "y22"
        },
        {
         "legendgroup": "Sex by education (among whites)",
         "name": "Women, College grad+",
         "type": "bar",
         "x": [
          "Biden",
          "Sanders",
          "Warren",
          "Buttigieg",
          "Yang",
          "Klobuchar"
         ],
         "xaxis": "x22",
         "y": [
          19,
          16,
          28,
          13,
          2,
          7
         ],
         "yaxis": "y22"
        },
        {
         "legendgroup": "Sex by education (among whites)",
         "name": "Men, No college degree",
         "type": "bar",
         "x": [
          "Biden",
          "Sanders",
          "Warren",
          "Buttigieg",
          "Yang",
          "Klobuchar"
         ],
         "xaxis": "x22",
         "y": [
          26,
          28,
          14,
          8,
          3,
          2
         ],
         "yaxis": "y22"
        },
        {
         "legendgroup": "Sex by education (among whites)",
         "name": "Women, No college degree",
         "type": "bar",
         "x": [
          "Biden",
          "Sanders",
          "Warren",
          "Buttigieg",
          "Yang",
          "Klobuchar"
         ],
         "xaxis": "x22",
         "y": [
          28,
          19,
          11,
          8,
          2,
          1
         ],
         "yaxis": "y22"
        },
        {
         "legendgroup": "Sex by marital status",
         "name": "Men, Married/Live with partner",
         "type": "bar",
         "x": [
          "Biden",
          "Sanders",
          "Warren",
          "Buttigieg",
          "Yang",
          "Klobuchar"
         ],
         "xaxis": "x23",
         "y": [
          27,
          22,
          16,
          8,
          4,
          3
         ],
         "yaxis": "y23"
        },
        {
         "legendgroup": "Sex by marital status",
         "name": "Women, Married/Live with partner",
         "type": "bar",
         "x": [
          "Biden",
          "Sanders",
          "Warren",
          "Buttigieg",
          "Yang",
          "Klobuchar"
         ],
         "xaxis": "x23",
         "y": [
          25,
          19,
          16,
          8,
          3,
          4
         ],
         "yaxis": "y23"
        },
        {
         "legendgroup": "Sex by marital status",
         "name": "Men, Divorced/Separated",
         "type": "bar",
         "x": [
          "Biden",
          "Sanders",
          "Warren",
          "Buttigieg",
          "Yang",
          "Klobuchar"
         ],
         "xaxis": "x23",
         "y": [
          32,
          19,
          18,
          5,
          3,
          3
         ],
         "yaxis": "y23"
        },
        {
         "legendgroup": "Sex by marital status",
         "name": "Women, Divorced/Separated",
         "type": "bar",
         "x": [
          "Biden",
          "Sanders",
          "Warren",
          "Buttigieg",
          "Yang",
          "Klobuchar"
         ],
         "xaxis": "x23",
         "y": [
          29,
          16,
          15,
          6,
          1,
          1
         ],
         "yaxis": "y23"
        },
        {
         "legendgroup": "Sex by marital status",
         "name": "Men, Never been married",
         "type": "bar",
         "x": [
          "Biden",
          "Sanders",
          "Warren",
          "Buttigieg",
          "Yang",
          "Klobuchar"
         ],
         "xaxis": "x23",
         "y": [
          20,
          29,
          15,
          6,
          8,
          0
         ],
         "yaxis": "y23"
        },
        {
         "legendgroup": "Sex by marital status",
         "name": "Women, Never been married",
         "type": "bar",
         "x": [
          "Biden",
          "Sanders",
          "Warren",
          "Buttigieg",
          "Yang",
          "Klobuchar"
         ],
         "xaxis": "x23",
         "y": [
          22,
          22,
          20,
          4,
          2,
          2
         ],
         "yaxis": "y23"
        },
        {
         "legendgroup": "Total",
         "name": "All Dem/Lean Dem registered voters",
         "type": "bar",
         "x": [
          "Biden",
          "Sanders",
          "Warren",
          "Buttigieg",
          "Yang",
          "Klobuchar"
         ],
         "xaxis": "x24",
         "y": [
          26,
          21,
          16,
          7,
          3,
          2
         ],
         "yaxis": "y24"
        },
        {
         "legendgroup": "USR",
         "name": "Urban",
         "type": "bar",
         "x": [
          "Biden",
          "Sanders",
          "Warren",
          "Buttigieg",
          "Yang",
          "Klobuchar"
         ],
         "xaxis": "x25",
         "y": [
          24,
          24,
          16,
          5,
          4,
          2
         ],
         "yaxis": "y25"
        },
        {
         "legendgroup": "USR",
         "name": "Suburban",
         "type": "bar",
         "x": [
          "Biden",
          "Sanders",
          "Warren",
          "Buttigieg",
          "Yang",
          "Klobuchar"
         ],
         "xaxis": "x25",
         "y": [
          26,
          20,
          17,
          7,
          4,
          2
         ],
         "yaxis": "y25"
        },
        {
         "legendgroup": "USR",
         "name": "Rural",
         "type": "bar",
         "x": [
          "Biden",
          "Sanders",
          "Warren",
          "Buttigieg",
          "Yang",
          "Klobuchar"
         ],
         "xaxis": "x25",
         "y": [
          28,
          18,
          12,
          7,
          2,
          2
         ],
         "yaxis": "y25"
        },
        {
         "legendgroup": "Union (household)",
         "name": "Self or Household union member",
         "type": "bar",
         "x": [
          "Biden",
          "Sanders",
          "Warren",
          "Buttigieg",
          "Yang",
          "Klobuchar"
         ],
         "xaxis": "x26",
         "y": [
          26,
          22,
          21,
          5,
          4,
          2
         ],
         "yaxis": "y26"
        },
        {
         "legendgroup": "Union (household)",
         "name": "No, no union member in household",
         "type": "bar",
         "x": [
          "Biden",
          "Sanders",
          "Warren",
          "Buttigieg",
          "Yang",
          "Klobuchar"
         ],
         "xaxis": "x26",
         "y": [
          26,
          21,
          15,
          7,
          3,
          2
         ],
         "yaxis": "y26"
        },
        {
         "legendgroup": "Union (self)",
         "name": "Yes, self",
         "type": "bar",
         "x": [
          "Biden",
          "Sanders",
          "Warren",
          "Buttigieg",
          "Yang",
          "Klobuchar"
         ],
         "xaxis": "x27",
         "y": [
          26,
          21,
          23,
          7,
          3,
          3
         ],
         "yaxis": "y27"
        },
        {
         "legendgroup": "Union (self)",
         "name": "No, but union member in household",
         "type": "bar",
         "x": [
          "Biden",
          "Sanders",
          "Warren",
          "Buttigieg",
          "Yang",
          "Klobuchar"
         ],
         "xaxis": "x27",
         "y": [
          26,
          23,
          18,
          3,
          5,
          2
         ],
         "yaxis": "y27"
        },
        {
         "legendgroup": "Union (self)",
         "name": "No, no union member in household",
         "type": "bar",
         "x": [
          "Biden",
          "Sanders",
          "Warren",
          "Buttigieg",
          "Yang",
          "Klobuchar"
         ],
         "xaxis": "x27",
         "y": [
          26,
          21,
          15,
          7,
          3,
          2
         ],
         "yaxis": "y27"
        },
        {
         "legendgroup": "Union household by age",
         "name": "Self or Household, 18-49",
         "type": "bar",
         "x": [
          "Biden",
          "Sanders",
          "Warren",
          "Buttigieg",
          "Yang",
          "Klobuchar"
         ],
         "xaxis": "x28",
         "y": [
          17,
          31,
          23,
          4,
          7,
          1
         ],
         "yaxis": "y28"
        },
        {
         "legendgroup": "Union household by age",
         "name": "No, 18-49",
         "type": "bar",
         "x": [
          "Biden",
          "Sanders",
          "Warren",
          "Buttigieg",
          "Yang",
          "Klobuchar"
         ],
         "xaxis": "x28",
         "y": [
          15,
          30,
          17,
          5,
          6,
          1
         ],
         "yaxis": "y28"
        },
        {
         "legendgroup": "Union household by age",
         "name": "Self or Household, 50+",
         "type": "bar",
         "x": [
          "Biden",
          "Sanders",
          "Warren",
          "Buttigieg",
          "Yang",
          "Klobuchar"
         ],
         "xaxis": "x28",
         "y": [
          35,
          14,
          19,
          7,
          1,
          4
         ],
         "yaxis": "y28"
        },
        {
         "legendgroup": "Union household by age",
         "name": "No, 50+",
         "type": "bar",
         "x": [
          "Biden",
          "Sanders",
          "Warren",
          "Buttigieg",
          "Yang",
          "Klobuchar"
         ],
         "xaxis": "x28",
         "y": [
          37,
          11,
          12,
          9,
          1,
          3
         ],
         "yaxis": "y28"
        },
        {
         "legendgroup": "Veteran (household)",
         "name": "Self or Household veteran",
         "type": "bar",
         "x": [
          "Biden",
          "Sanders",
          "Warren",
          "Buttigieg",
          "Yang",
          "Klobuchar"
         ],
         "xaxis": "x29",
         "y": [
          35,
          18,
          11,
          6,
          2,
          3
         ],
         "yaxis": "y29"
        },
        {
         "legendgroup": "Veteran (household)",
         "name": "No, no veteran in household",
         "type": "bar",
         "x": [
          "Biden",
          "Sanders",
          "Warren",
          "Buttigieg",
          "Yang",
          "Klobuchar"
         ],
         "xaxis": "x29",
         "y": [
          23,
          22,
          17,
          7,
          4,
          2
         ],
         "yaxis": "y29"
        },
        {
         "legendgroup": "Veteran (self)",
         "name": "Yes, self",
         "type": "bar",
         "x": [
          "Biden",
          "Sanders",
          "Warren",
          "Buttigieg",
          "Yang",
          "Klobuchar"
         ],
         "xaxis": "x30",
         "y": [
          35,
          21,
          12,
          6,
          3,
          4
         ],
         "yaxis": "y30"
        },
        {
         "legendgroup": "Veteran (self)",
         "name": "No, but veteran in household",
         "type": "bar",
         "x": [
          "Biden",
          "Sanders",
          "Warren",
          "Buttigieg",
          "Yang",
          "Klobuchar"
         ],
         "xaxis": "x30",
         "y": [
          35,
          16,
          11,
          6,
          2,
          2
         ],
         "yaxis": "y30"
        },
        {
         "legendgroup": "Veteran (self)",
         "name": "No, no veteran in household",
         "type": "bar",
         "x": [
          "Biden",
          "Sanders",
          "Warren",
          "Buttigieg",
          "Yang",
          "Klobuchar"
         ],
         "xaxis": "x30",
         "y": [
          23,
          22,
          17,
          7,
          4,
          2
         ],
         "yaxis": "y30"
        },
        {
         "legendgroup": "Veteran household by age",
         "name": "Self or Household, 18-49",
         "type": "bar",
         "x": [
          "Biden",
          "Sanders",
          "Warren",
          "Buttigieg",
          "Yang",
          "Klobuchar"
         ],
         "xaxis": "x31",
         "y": [
          18,
          32,
          15,
          4,
          6,
          1
         ],
         "yaxis": "y31"
        },
        {
         "legendgroup": "Veteran household by age",
         "name": "No, 18-49",
         "type": "bar",
         "x": [
          "Biden",
          "Sanders",
          "Warren",
          "Buttigieg",
          "Yang",
          "Klobuchar"
         ],
         "xaxis": "x31",
         "y": [
          15,
          30,
          19,
          5,
          6,
          1
         ],
         "yaxis": "y31"
        },
        {
         "legendgroup": "Veteran household by age",
         "name": "Self or Household, 50+",
         "type": "bar",
         "x": [
          "Biden",
          "Sanders",
          "Warren",
          "Buttigieg",
          "Yang",
          "Klobuchar"
         ],
         "xaxis": "x31",
         "y": [
          42,
          12,
          10,
          6,
          1,
          4
         ],
         "yaxis": "y31"
        },
        {
         "legendgroup": "Veteran household by age",
         "name": "No, 50+",
         "type": "bar",
         "x": [
          "Biden",
          "Sanders",
          "Warren",
          "Buttigieg",
          "Yang",
          "Klobuchar"
         ],
         "xaxis": "x31",
         "y": [
          34,
          11,
          15,
          9,
          1,
          3
         ],
         "yaxis": "y31"
        }
       ],
       "layout": {
        "annotations": [
         {
          "font": {
           "size": 16
          },
          "showarrow": false,
          "text": "Age (4-way)",
          "x": 0.14444444444444446,
          "xanchor": "center",
          "xref": "paper",
          "y": 0.9999999999999999,
          "yanchor": "bottom",
          "yref": "paper"
         },
         {
          "font": {
           "size": 16
          },
          "showarrow": false,
          "text": "Age (detailed)",
          "x": 0.5,
          "xanchor": "center",
          "xref": "paper",
          "y": 0.9999999999999999,
          "yanchor": "bottom",
          "yref": "paper"
         },
         {
          "font": {
           "size": 16
          },
          "showarrow": false,
          "text": "Democratic primary timing",
          "x": 0.8555555555555556,
          "xanchor": "center",
          "xref": "paper",
          "y": 0.9999999999999999,
          "yanchor": "bottom",
          "yref": "paper"
         },
         {
          "font": {
           "size": 16
          },
          "showarrow": false,
          "text": "Education (2-way)",
          "x": 0.14444444444444446,
          "xanchor": "center",
          "xref": "paper",
          "y": 0.9049586776859503,
          "yanchor": "bottom",
          "yref": "paper"
         },
         {
          "font": {
           "size": 16
          },
          "showarrow": false,
          "text": "Education (detailed)",
          "x": 0.5,
          "xanchor": "center",
          "xref": "paper",
          "y": 0.9049586776859503,
          "yanchor": "bottom",
          "yref": "paper"
         },
         {
          "font": {
           "size": 16
          },
          "showarrow": false,
          "text": "Ideology",
          "x": 0.8555555555555556,
          "xanchor": "center",
          "xref": "paper",
          "y": 0.9049586776859503,
          "yanchor": "bottom",
          "yref": "paper"
         },
         {
          "font": {
           "size": 16
          },
          "showarrow": false,
          "text": "Ideology (detailed)",
          "x": 0.14444444444444446,
          "xanchor": "center",
          "xref": "paper",
          "y": 0.8099173553719007,
          "yanchor": "bottom",
          "yref": "paper"
         },
         {
          "font": {
           "size": 16
          },
          "showarrow": false,
          "text": "Income (3-way)",
          "x": 0.5,
          "xanchor": "center",
          "xref": "paper",
          "y": 0.8099173553719007,
          "yanchor": "bottom",
          "yref": "paper"
         },
         {
          "font": {
           "size": 16
          },
          "showarrow": false,
          "text": "Income (detailed)",
          "x": 0.8555555555555556,
          "xanchor": "center",
          "xref": "paper",
          "y": 0.8099173553719007,
          "yanchor": "bottom",
          "yref": "paper"
         },
         {
          "font": {
           "size": 16
          },
          "showarrow": false,
          "text": "Marital status",
          "x": 0.14444444444444446,
          "xanchor": "center",
          "xref": "paper",
          "y": 0.7148760330578511,
          "yanchor": "bottom",
          "yref": "paper"
         },
         {
          "font": {
           "size": 16
          },
          "showarrow": false,
          "text": "Party Identifiers",
          "x": 0.5,
          "xanchor": "center",
          "xref": "paper",
          "y": 0.7148760330578511,
          "yanchor": "bottom",
          "yref": "paper"
         },
         {
          "font": {
           "size": 16
          },
          "showarrow": false,
          "text": "Race",
          "x": 0.8555555555555556,
          "xanchor": "center",
          "xref": "paper",
          "y": 0.7148760330578511,
          "yanchor": "bottom",
          "yref": "paper"
         },
         {
          "font": {
           "size": 16
          },
          "showarrow": false,
          "text": "Race/ethnicity by age",
          "x": 0.14444444444444446,
          "xanchor": "center",
          "xref": "paper",
          "y": 0.6198347107438015,
          "yanchor": "bottom",
          "yref": "paper"
         },
         {
          "font": {
           "size": 16
          },
          "showarrow": false,
          "text": "Region",
          "x": 0.5,
          "xanchor": "center",
          "xref": "paper",
          "y": 0.6198347107438015,
          "yanchor": "bottom",
          "yref": "paper"
         },
         {
          "font": {
           "size": 16
          },
          "showarrow": false,
          "text": "Religion",
          "x": 0.8555555555555556,
          "xanchor": "center",
          "xref": "paper",
          "y": 0.6198347107438015,
          "yanchor": "bottom",
          "yref": "paper"
         },
         {
          "font": {
           "size": 16
          },
          "showarrow": false,
          "text": "Religion (detalied)",
          "x": 0.14444444444444446,
          "xanchor": "center",
          "xref": "paper",
          "y": 0.524793388429752,
          "yanchor": "bottom",
          "yref": "paper"
         },
         {
          "font": {
           "size": 16
          },
          "showarrow": false,
          "text": "Religious attendance",
          "x": 0.5,
          "xanchor": "center",
          "xref": "paper",
          "y": 0.524793388429752,
          "yanchor": "bottom",
          "yref": "paper"
         },
         {
          "font": {
           "size": 16
          },
          "showarrow": false,
          "text": "Sex",
          "x": 0.8555555555555556,
          "xanchor": "center",
          "xref": "paper",
          "y": 0.524793388429752,
          "yanchor": "bottom",
          "yref": "paper"
         },
         {
          "font": {
           "size": 16
          },
          "showarrow": false,
          "text": "Sex by age",
          "x": 0.14444444444444446,
          "xanchor": "center",
          "xref": "paper",
          "y": 0.42975206611570244,
          "yanchor": "bottom",
          "yref": "paper"
         },
         {
          "font": {
           "size": 16
          },
          "showarrow": false,
          "text": "Sex by age (among whites)",
          "x": 0.5,
          "xanchor": "center",
          "xref": "paper",
          "y": 0.42975206611570244,
          "yanchor": "bottom",
          "yref": "paper"
         },
         {
          "font": {
           "size": 16
          },
          "showarrow": false,
          "text": "Sex by education",
          "x": 0.8555555555555556,
          "xanchor": "center",
          "xref": "paper",
          "y": 0.42975206611570244,
          "yanchor": "bottom",
          "yref": "paper"
         },
         {
          "font": {
           "size": 16
          },
          "showarrow": false,
          "text": "Sex by education (among whites)",
          "x": 0.14444444444444446,
          "xanchor": "center",
          "xref": "paper",
          "y": 0.33471074380165283,
          "yanchor": "bottom",
          "yref": "paper"
         },
         {
          "font": {
           "size": 16
          },
          "showarrow": false,
          "text": "Sex by marital status",
          "x": 0.5,
          "xanchor": "center",
          "xref": "paper",
          "y": 0.33471074380165283,
          "yanchor": "bottom",
          "yref": "paper"
         },
         {
          "font": {
           "size": 16
          },
          "showarrow": false,
          "text": "Total",
          "x": 0.8555555555555556,
          "xanchor": "center",
          "xref": "paper",
          "y": 0.33471074380165283,
          "yanchor": "bottom",
          "yref": "paper"
         },
         {
          "font": {
           "size": 16
          },
          "showarrow": false,
          "text": "USR",
          "x": 0.14444444444444446,
          "xanchor": "center",
          "xref": "paper",
          "y": 0.23966942148760328,
          "yanchor": "bottom",
          "yref": "paper"
         },
         {
          "font": {
           "size": 16
          },
          "showarrow": false,
          "text": "Union (household)",
          "x": 0.5,
          "xanchor": "center",
          "xref": "paper",
          "y": 0.23966942148760328,
          "yanchor": "bottom",
          "yref": "paper"
         },
         {
          "font": {
           "size": 16
          },
          "showarrow": false,
          "text": "Union (self)",
          "x": 0.8555555555555556,
          "xanchor": "center",
          "xref": "paper",
          "y": 0.23966942148760328,
          "yanchor": "bottom",
          "yref": "paper"
         },
         {
          "font": {
           "size": 16
          },
          "showarrow": false,
          "text": "Union household by age",
          "x": 0.14444444444444446,
          "xanchor": "center",
          "xref": "paper",
          "y": 0.1446280991735537,
          "yanchor": "bottom",
          "yref": "paper"
         },
         {
          "font": {
           "size": 16
          },
          "showarrow": false,
          "text": "Veteran (household)",
          "x": 0.5,
          "xanchor": "center",
          "xref": "paper",
          "y": 0.1446280991735537,
          "yanchor": "bottom",
          "yref": "paper"
         },
         {
          "font": {
           "size": 16
          },
          "showarrow": false,
          "text": "Veteran (self)",
          "x": 0.8555555555555556,
          "xanchor": "center",
          "xref": "paper",
          "y": 0.1446280991735537,
          "yanchor": "bottom",
          "yref": "paper"
         },
         {
          "font": {
           "size": 16
          },
          "showarrow": false,
          "text": "Veteran household by age",
          "x": 0.14444444444444446,
          "xanchor": "center",
          "xref": "paper",
          "y": 0.04958677685950413,
          "yanchor": "bottom",
          "yref": "paper"
         }
        ],
        "height": 2000,
        "template": {
         "data": {
          "bar": [
           {
            "error_x": {
             "color": "#2a3f5f"
            },
            "error_y": {
             "color": "#2a3f5f"
            },
            "marker": {
             "line": {
              "color": "#E5ECF6",
              "width": 0.5
             }
            },
            "type": "bar"
           }
          ],
          "barpolar": [
           {
            "marker": {
             "line": {
              "color": "#E5ECF6",
              "width": 0.5
             }
            },
            "type": "barpolar"
           }
          ],
          "carpet": [
           {
            "aaxis": {
             "endlinecolor": "#2a3f5f",
             "gridcolor": "white",
             "linecolor": "white",
             "minorgridcolor": "white",
             "startlinecolor": "#2a3f5f"
            },
            "baxis": {
             "endlinecolor": "#2a3f5f",
             "gridcolor": "white",
             "linecolor": "white",
             "minorgridcolor": "white",
             "startlinecolor": "#2a3f5f"
            },
            "type": "carpet"
           }
          ],
          "choropleth": [
           {
            "colorbar": {
             "outlinewidth": 0,
             "ticks": ""
            },
            "type": "choropleth"
           }
          ],
          "contour": [
           {
            "colorbar": {
             "outlinewidth": 0,
             "ticks": ""
            },
            "colorscale": [
             [
              0,
              "#0d0887"
             ],
             [
              0.1111111111111111,
              "#46039f"
             ],
             [
              0.2222222222222222,
              "#7201a8"
             ],
             [
              0.3333333333333333,
              "#9c179e"
             ],
             [
              0.4444444444444444,
              "#bd3786"
             ],
             [
              0.5555555555555556,
              "#d8576b"
             ],
             [
              0.6666666666666666,
              "#ed7953"
             ],
             [
              0.7777777777777778,
              "#fb9f3a"
             ],
             [
              0.8888888888888888,
              "#fdca26"
             ],
             [
              1,
              "#f0f921"
             ]
            ],
            "type": "contour"
           }
          ],
          "contourcarpet": [
           {
            "colorbar": {
             "outlinewidth": 0,
             "ticks": ""
            },
            "type": "contourcarpet"
           }
          ],
          "heatmap": [
           {
            "colorbar": {
             "outlinewidth": 0,
             "ticks": ""
            },
            "colorscale": [
             [
              0,
              "#0d0887"
             ],
             [
              0.1111111111111111,
              "#46039f"
             ],
             [
              0.2222222222222222,
              "#7201a8"
             ],
             [
              0.3333333333333333,
              "#9c179e"
             ],
             [
              0.4444444444444444,
              "#bd3786"
             ],
             [
              0.5555555555555556,
              "#d8576b"
             ],
             [
              0.6666666666666666,
              "#ed7953"
             ],
             [
              0.7777777777777778,
              "#fb9f3a"
             ],
             [
              0.8888888888888888,
              "#fdca26"
             ],
             [
              1,
              "#f0f921"
             ]
            ],
            "type": "heatmap"
           }
          ],
          "heatmapgl": [
           {
            "colorbar": {
             "outlinewidth": 0,
             "ticks": ""
            },
            "colorscale": [
             [
              0,
              "#0d0887"
             ],
             [
              0.1111111111111111,
              "#46039f"
             ],
             [
              0.2222222222222222,
              "#7201a8"
             ],
             [
              0.3333333333333333,
              "#9c179e"
             ],
             [
              0.4444444444444444,
              "#bd3786"
             ],
             [
              0.5555555555555556,
              "#d8576b"
             ],
             [
              0.6666666666666666,
              "#ed7953"
             ],
             [
              0.7777777777777778,
              "#fb9f3a"
             ],
             [
              0.8888888888888888,
              "#fdca26"
             ],
             [
              1,
              "#f0f921"
             ]
            ],
            "type": "heatmapgl"
           }
          ],
          "histogram": [
           {
            "marker": {
             "colorbar": {
              "outlinewidth": 0,
              "ticks": ""
             }
            },
            "type": "histogram"
           }
          ],
          "histogram2d": [
           {
            "colorbar": {
             "outlinewidth": 0,
             "ticks": ""
            },
            "colorscale": [
             [
              0,
              "#0d0887"
             ],
             [
              0.1111111111111111,
              "#46039f"
             ],
             [
              0.2222222222222222,
              "#7201a8"
             ],
             [
              0.3333333333333333,
              "#9c179e"
             ],
             [
              0.4444444444444444,
              "#bd3786"
             ],
             [
              0.5555555555555556,
              "#d8576b"
             ],
             [
              0.6666666666666666,
              "#ed7953"
             ],
             [
              0.7777777777777778,
              "#fb9f3a"
             ],
             [
              0.8888888888888888,
              "#fdca26"
             ],
             [
              1,
              "#f0f921"
             ]
            ],
            "type": "histogram2d"
           }
          ],
          "histogram2dcontour": [
           {
            "colorbar": {
             "outlinewidth": 0,
             "ticks": ""
            },
            "colorscale": [
             [
              0,
              "#0d0887"
             ],
             [
              0.1111111111111111,
              "#46039f"
             ],
             [
              0.2222222222222222,
              "#7201a8"
             ],
             [
              0.3333333333333333,
              "#9c179e"
             ],
             [
              0.4444444444444444,
              "#bd3786"
             ],
             [
              0.5555555555555556,
              "#d8576b"
             ],
             [
              0.6666666666666666,
              "#ed7953"
             ],
             [
              0.7777777777777778,
              "#fb9f3a"
             ],
             [
              0.8888888888888888,
              "#fdca26"
             ],
             [
              1,
              "#f0f921"
             ]
            ],
            "type": "histogram2dcontour"
           }
          ],
          "mesh3d": [
           {
            "colorbar": {
             "outlinewidth": 0,
             "ticks": ""
            },
            "type": "mesh3d"
           }
          ],
          "parcoords": [
           {
            "line": {
             "colorbar": {
              "outlinewidth": 0,
              "ticks": ""
             }
            },
            "type": "parcoords"
           }
          ],
          "pie": [
           {
            "automargin": true,
            "type": "pie"
           }
          ],
          "scatter": [
           {
            "marker": {
             "colorbar": {
              "outlinewidth": 0,
              "ticks": ""
             }
            },
            "type": "scatter"
           }
          ],
          "scatter3d": [
           {
            "line": {
             "colorbar": {
              "outlinewidth": 0,
              "ticks": ""
             }
            },
            "marker": {
             "colorbar": {
              "outlinewidth": 0,
              "ticks": ""
             }
            },
            "type": "scatter3d"
           }
          ],
          "scattercarpet": [
           {
            "marker": {
             "colorbar": {
              "outlinewidth": 0,
              "ticks": ""
             }
            },
            "type": "scattercarpet"
           }
          ],
          "scattergeo": [
           {
            "marker": {
             "colorbar": {
              "outlinewidth": 0,
              "ticks": ""
             }
            },
            "type": "scattergeo"
           }
          ],
          "scattergl": [
           {
            "marker": {
             "colorbar": {
              "outlinewidth": 0,
              "ticks": ""
             }
            },
            "type": "scattergl"
           }
          ],
          "scattermapbox": [
           {
            "marker": {
             "colorbar": {
              "outlinewidth": 0,
              "ticks": ""
             }
            },
            "type": "scattermapbox"
           }
          ],
          "scatterpolar": [
           {
            "marker": {
             "colorbar": {
              "outlinewidth": 0,
              "ticks": ""
             }
            },
            "type": "scatterpolar"
           }
          ],
          "scatterpolargl": [
           {
            "marker": {
             "colorbar": {
              "outlinewidth": 0,
              "ticks": ""
             }
            },
            "type": "scatterpolargl"
           }
          ],
          "scatterternary": [
           {
            "marker": {
             "colorbar": {
              "outlinewidth": 0,
              "ticks": ""
             }
            },
            "type": "scatterternary"
           }
          ],
          "surface": [
           {
            "colorbar": {
             "outlinewidth": 0,
             "ticks": ""
            },
            "colorscale": [
             [
              0,
              "#0d0887"
             ],
             [
              0.1111111111111111,
              "#46039f"
             ],
             [
              0.2222222222222222,
              "#7201a8"
             ],
             [
              0.3333333333333333,
              "#9c179e"
             ],
             [
              0.4444444444444444,
              "#bd3786"
             ],
             [
              0.5555555555555556,
              "#d8576b"
             ],
             [
              0.6666666666666666,
              "#ed7953"
             ],
             [
              0.7777777777777778,
              "#fb9f3a"
             ],
             [
              0.8888888888888888,
              "#fdca26"
             ],
             [
              1,
              "#f0f921"
             ]
            ],
            "type": "surface"
           }
          ],
          "table": [
           {
            "cells": {
             "fill": {
              "color": "#EBF0F8"
             },
             "line": {
              "color": "white"
             }
            },
            "header": {
             "fill": {
              "color": "#C8D4E3"
             },
             "line": {
              "color": "white"
             }
            },
            "type": "table"
           }
          ]
         },
         "layout": {
          "annotationdefaults": {
           "arrowcolor": "#2a3f5f",
           "arrowhead": 0,
           "arrowwidth": 1
          },
          "coloraxis": {
           "colorbar": {
            "outlinewidth": 0,
            "ticks": ""
           }
          },
          "colorscale": {
           "diverging": [
            [
             0,
             "#8e0152"
            ],
            [
             0.1,
             "#c51b7d"
            ],
            [
             0.2,
             "#de77ae"
            ],
            [
             0.3,
             "#f1b6da"
            ],
            [
             0.4,
             "#fde0ef"
            ],
            [
             0.5,
             "#f7f7f7"
            ],
            [
             0.6,
             "#e6f5d0"
            ],
            [
             0.7,
             "#b8e186"
            ],
            [
             0.8,
             "#7fbc41"
            ],
            [
             0.9,
             "#4d9221"
            ],
            [
             1,
             "#276419"
            ]
           ],
           "sequential": [
            [
             0,
             "#0d0887"
            ],
            [
             0.1111111111111111,
             "#46039f"
            ],
            [
             0.2222222222222222,
             "#7201a8"
            ],
            [
             0.3333333333333333,
             "#9c179e"
            ],
            [
             0.4444444444444444,
             "#bd3786"
            ],
            [
             0.5555555555555556,
             "#d8576b"
            ],
            [
             0.6666666666666666,
             "#ed7953"
            ],
            [
             0.7777777777777778,
             "#fb9f3a"
            ],
            [
             0.8888888888888888,
             "#fdca26"
            ],
            [
             1,
             "#f0f921"
            ]
           ],
           "sequentialminus": [
            [
             0,
             "#0d0887"
            ],
            [
             0.1111111111111111,
             "#46039f"
            ],
            [
             0.2222222222222222,
             "#7201a8"
            ],
            [
             0.3333333333333333,
             "#9c179e"
            ],
            [
             0.4444444444444444,
             "#bd3786"
            ],
            [
             0.5555555555555556,
             "#d8576b"
            ],
            [
             0.6666666666666666,
             "#ed7953"
            ],
            [
             0.7777777777777778,
             "#fb9f3a"
            ],
            [
             0.8888888888888888,
             "#fdca26"
            ],
            [
             1,
             "#f0f921"
            ]
           ]
          },
          "colorway": [
           "#636efa",
           "#EF553B",
           "#00cc96",
           "#ab63fa",
           "#FFA15A",
           "#19d3f3",
           "#FF6692",
           "#B6E880",
           "#FF97FF",
           "#FECB52"
          ],
          "font": {
           "color": "#2a3f5f"
          },
          "geo": {
           "bgcolor": "white",
           "lakecolor": "white",
           "landcolor": "#E5ECF6",
           "showlakes": true,
           "showland": true,
           "subunitcolor": "white"
          },
          "hoverlabel": {
           "align": "left"
          },
          "hovermode": "closest",
          "mapbox": {
           "style": "light"
          },
          "paper_bgcolor": "white",
          "plot_bgcolor": "#E5ECF6",
          "polar": {
           "angularaxis": {
            "gridcolor": "white",
            "linecolor": "white",
            "ticks": ""
           },
           "bgcolor": "#E5ECF6",
           "radialaxis": {
            "gridcolor": "white",
            "linecolor": "white",
            "ticks": ""
           }
          },
          "scene": {
           "xaxis": {
            "backgroundcolor": "#E5ECF6",
            "gridcolor": "white",
            "gridwidth": 2,
            "linecolor": "white",
            "showbackground": true,
            "ticks": "",
            "zerolinecolor": "white"
           },
           "yaxis": {
            "backgroundcolor": "#E5ECF6",
            "gridcolor": "white",
            "gridwidth": 2,
            "linecolor": "white",
            "showbackground": true,
            "ticks": "",
            "zerolinecolor": "white"
           },
           "zaxis": {
            "backgroundcolor": "#E5ECF6",
            "gridcolor": "white",
            "gridwidth": 2,
            "linecolor": "white",
            "showbackground": true,
            "ticks": "",
            "zerolinecolor": "white"
           }
          },
          "shapedefaults": {
           "line": {
            "color": "#2a3f5f"
           }
          },
          "ternary": {
           "aaxis": {
            "gridcolor": "white",
            "linecolor": "white",
            "ticks": ""
           },
           "baxis": {
            "gridcolor": "white",
            "linecolor": "white",
            "ticks": ""
           },
           "bgcolor": "#E5ECF6",
           "caxis": {
            "gridcolor": "white",
            "linecolor": "white",
            "ticks": ""
           }
          },
          "title": {
           "x": 0.05
          },
          "xaxis": {
           "automargin": true,
           "gridcolor": "white",
           "linecolor": "white",
           "ticks": "",
           "title": {
            "standoff": 15
           },
           "zerolinecolor": "white",
           "zerolinewidth": 2
          },
          "yaxis": {
           "automargin": true,
           "gridcolor": "white",
           "linecolor": "white",
           "ticks": "",
           "title": {
            "standoff": 15
           },
           "zerolinecolor": "white",
           "zerolinewidth": 2
          }
         }
        },
        "title": {
         "text": "<b>Pew Research Center Democratic Primary Survey</b>"
        },
        "xaxis": {
         "anchor": "y",
         "domain": [
          0,
          0.2888888888888889
         ]
        },
        "xaxis10": {
         "anchor": "y10",
         "domain": [
          0,
          0.2888888888888889
         ]
        },
        "xaxis11": {
         "anchor": "y11",
         "domain": [
          0.35555555555555557,
          0.6444444444444445
         ]
        },
        "xaxis12": {
         "anchor": "y12",
         "domain": [
          0.7111111111111111,
          1
         ]
        },
        "xaxis13": {
         "anchor": "y13",
         "domain": [
          0,
          0.2888888888888889
         ]
        },
        "xaxis14": {
         "anchor": "y14",
         "domain": [
          0.35555555555555557,
          0.6444444444444445
         ]
        },
        "xaxis15": {
         "anchor": "y15",
         "domain": [
          0.7111111111111111,
          1
         ]
        },
        "xaxis16": {
         "anchor": "y16",
         "domain": [
          0,
          0.2888888888888889
         ]
        },
        "xaxis17": {
         "anchor": "y17",
         "domain": [
          0.35555555555555557,
          0.6444444444444445
         ]
        },
        "xaxis18": {
         "anchor": "y18",
         "domain": [
          0.7111111111111111,
          1
         ]
        },
        "xaxis19": {
         "anchor": "y19",
         "domain": [
          0,
          0.2888888888888889
         ]
        },
        "xaxis2": {
         "anchor": "y2",
         "domain": [
          0.35555555555555557,
          0.6444444444444445
         ]
        },
        "xaxis20": {
         "anchor": "y20",
         "domain": [
          0.35555555555555557,
          0.6444444444444445
         ]
        },
        "xaxis21": {
         "anchor": "y21",
         "domain": [
          0.7111111111111111,
          1
         ]
        },
        "xaxis22": {
         "anchor": "y22",
         "domain": [
          0,
          0.2888888888888889
         ]
        },
        "xaxis23": {
         "anchor": "y23",
         "domain": [
          0.35555555555555557,
          0.6444444444444445
         ]
        },
        "xaxis24": {
         "anchor": "y24",
         "domain": [
          0.7111111111111111,
          1
         ]
        },
        "xaxis25": {
         "anchor": "y25",
         "domain": [
          0,
          0.2888888888888889
         ]
        },
        "xaxis26": {
         "anchor": "y26",
         "domain": [
          0.35555555555555557,
          0.6444444444444445
         ]
        },
        "xaxis27": {
         "anchor": "y27",
         "domain": [
          0.7111111111111111,
          1
         ]
        },
        "xaxis28": {
         "anchor": "y28",
         "domain": [
          0,
          0.2888888888888889
         ]
        },
        "xaxis29": {
         "anchor": "y29",
         "domain": [
          0.35555555555555557,
          0.6444444444444445
         ]
        },
        "xaxis3": {
         "anchor": "y3",
         "domain": [
          0.7111111111111111,
          1
         ]
        },
        "xaxis30": {
         "anchor": "y30",
         "domain": [
          0.7111111111111111,
          1
         ]
        },
        "xaxis31": {
         "anchor": "y31",
         "domain": [
          0,
          0.2888888888888889
         ]
        },
        "xaxis32": {
         "anchor": "y32",
         "domain": [
          0.35555555555555557,
          0.6444444444444445
         ]
        },
        "xaxis33": {
         "anchor": "y33",
         "domain": [
          0.7111111111111111,
          1
         ]
        },
        "xaxis4": {
         "anchor": "y4",
         "domain": [
          0,
          0.2888888888888889
         ]
        },
        "xaxis5": {
         "anchor": "y5",
         "domain": [
          0.35555555555555557,
          0.6444444444444445
         ]
        },
        "xaxis6": {
         "anchor": "y6",
         "domain": [
          0.7111111111111111,
          1
         ]
        },
        "xaxis7": {
         "anchor": "y7",
         "domain": [
          0,
          0.2888888888888889
         ]
        },
        "xaxis8": {
         "anchor": "y8",
         "domain": [
          0.35555555555555557,
          0.6444444444444445
         ]
        },
        "xaxis9": {
         "anchor": "y9",
         "domain": [
          0.7111111111111111,
          1
         ]
        },
        "yaxis": {
         "anchor": "x",
         "domain": [
          0.9504132231404958,
          0.9999999999999999
         ]
        },
        "yaxis10": {
         "anchor": "x10",
         "domain": [
          0.665289256198347,
          0.7148760330578511
         ]
        },
        "yaxis11": {
         "anchor": "x11",
         "domain": [
          0.665289256198347,
          0.7148760330578511
         ]
        },
        "yaxis12": {
         "anchor": "x12",
         "domain": [
          0.665289256198347,
          0.7148760330578511
         ]
        },
        "yaxis13": {
         "anchor": "x13",
         "domain": [
          0.5702479338842974,
          0.6198347107438015
         ]
        },
        "yaxis14": {
         "anchor": "x14",
         "domain": [
          0.5702479338842974,
          0.6198347107438015
         ]
        },
        "yaxis15": {
         "anchor": "x15",
         "domain": [
          0.5702479338842974,
          0.6198347107438015
         ]
        },
        "yaxis16": {
         "anchor": "x16",
         "domain": [
          0.4752066115702479,
          0.524793388429752
         ]
        },
        "yaxis17": {
         "anchor": "x17",
         "domain": [
          0.4752066115702479,
          0.524793388429752
         ]
        },
        "yaxis18": {
         "anchor": "x18",
         "domain": [
          0.4752066115702479,
          0.524793388429752
         ]
        },
        "yaxis19": {
         "anchor": "x19",
         "domain": [
          0.3801652892561983,
          0.42975206611570244
         ]
        },
        "yaxis2": {
         "anchor": "x2",
         "domain": [
          0.9504132231404958,
          0.9999999999999999
         ]
        },
        "yaxis20": {
         "anchor": "x20",
         "domain": [
          0.3801652892561983,
          0.42975206611570244
         ]
        },
        "yaxis21": {
         "anchor": "x21",
         "domain": [
          0.3801652892561983,
          0.42975206611570244
         ]
        },
        "yaxis22": {
         "anchor": "x22",
         "domain": [
          0.2851239669421487,
          0.33471074380165283
         ]
        },
        "yaxis23": {
         "anchor": "x23",
         "domain": [
          0.2851239669421487,
          0.33471074380165283
         ]
        },
        "yaxis24": {
         "anchor": "x24",
         "domain": [
          0.2851239669421487,
          0.33471074380165283
         ]
        },
        "yaxis25": {
         "anchor": "x25",
         "domain": [
          0.19008264462809915,
          0.23966942148760328
         ]
        },
        "yaxis26": {
         "anchor": "x26",
         "domain": [
          0.19008264462809915,
          0.23966942148760328
         ]
        },
        "yaxis27": {
         "anchor": "x27",
         "domain": [
          0.19008264462809915,
          0.23966942148760328
         ]
        },
        "yaxis28": {
         "anchor": "x28",
         "domain": [
          0.09504132231404958,
          0.1446280991735537
         ]
        },
        "yaxis29": {
         "anchor": "x29",
         "domain": [
          0.09504132231404958,
          0.1446280991735537
         ]
        },
        "yaxis3": {
         "anchor": "x3",
         "domain": [
          0.9504132231404958,
          0.9999999999999999
         ]
        },
        "yaxis30": {
         "anchor": "x30",
         "domain": [
          0.09504132231404958,
          0.1446280991735537
         ]
        },
        "yaxis31": {
         "anchor": "x31",
         "domain": [
          0,
          0.04958677685950413
         ]
        },
        "yaxis32": {
         "anchor": "x32",
         "domain": [
          0,
          0.04958677685950413
         ]
        },
        "yaxis33": {
         "anchor": "x33",
         "domain": [
          0,
          0.04958677685950413
         ]
        },
        "yaxis4": {
         "anchor": "x4",
         "domain": [
          0.8553719008264462,
          0.9049586776859503
         ]
        },
        "yaxis5": {
         "anchor": "x5",
         "domain": [
          0.8553719008264462,
          0.9049586776859503
         ]
        },
        "yaxis6": {
         "anchor": "x6",
         "domain": [
          0.8553719008264462,
          0.9049586776859503
         ]
        },
        "yaxis7": {
         "anchor": "x7",
         "domain": [
          0.7603305785123966,
          0.8099173553719007
         ]
        },
        "yaxis8": {
         "anchor": "x8",
         "domain": [
          0.7603305785123966,
          0.8099173553719007
         ]
        },
        "yaxis9": {
         "anchor": "x9",
         "domain": [
          0.7603305785123966,
          0.8099173553719007
         ]
        }
       }
      },
      "text/html": [
       "<div>\n",
       "        \n",
       "        \n",
       "            <div id=\"059b0464-629c-43f9-b735-d20dd5c57c1e\" class=\"plotly-graph-div\" style=\"height:2000px; width:100%;\"></div>\n",
       "            <script type=\"text/javascript\">\n",
       "                require([\"plotly\"], function(Plotly) {\n",
       "                    window.PLOTLYENV=window.PLOTLYENV || {};\n",
       "                    \n",
       "                if (document.getElementById(\"059b0464-629c-43f9-b735-d20dd5c57c1e\")) {\n",
       "                    Plotly.newPlot(\n",
       "                        '059b0464-629c-43f9-b735-d20dd5c57c1e',\n",
       "                        [{\"legendgroup\": \"Age (4-way)\", \"name\": \"18-29\", \"type\": \"bar\", \"x\": [\"Biden\", \"Sanders\", \"Warren\", \"Buttigieg\", \"Yang\", \"Klobuchar\"], \"xaxis\": \"x\", \"y\": [9.0, 40.0, 17.0, 3.0, 10.0, 0.0], \"yaxis\": \"y\"}, {\"legendgroup\": \"Age (4-way)\", \"name\": \"30-49\", \"type\": \"bar\", \"x\": [\"Biden\", \"Sanders\", \"Warren\", \"Buttigieg\", \"Yang\", \"Klobuchar\"], \"xaxis\": \"x\", \"y\": [19.0, 25.0, 19.0, 6.0, 4.0, 2.0], \"yaxis\": \"y\"}, {\"legendgroup\": \"Age (4-way)\", \"name\": \"50-64\", \"type\": \"bar\", \"x\": [\"Biden\", \"Sanders\", \"Warren\", \"Buttigieg\", \"Yang\", \"Klobuchar\"], \"xaxis\": \"x\", \"y\": [34.0, 13.0, 14.0, 8.0, 1.0, 3.0], \"yaxis\": \"y\"}, {\"legendgroup\": \"Age (4-way)\", \"name\": \"65\", \"type\": \"bar\", \"x\": [\"Biden\", \"Sanders\", \"Warren\", \"Buttigieg\", \"Yang\", \"Klobuchar\"], \"xaxis\": \"x\", \"y\": [39.0, 10.0, 13.0, 8.0, 0.0, 5.0], \"yaxis\": \"y\"}, {\"legendgroup\": \"Age (detailed)\", \"name\": \"18-34\", \"type\": \"bar\", \"x\": [\"Biden\", \"Sanders\", \"Warren\", \"Buttigieg\", \"Yang\", \"Klobuchar\"], \"xaxis\": \"x2\", \"y\": [11.0, 37.0, 18.0, 4.0, 8.0, 0.0], \"yaxis\": \"y2\"}, {\"legendgroup\": \"Age (detailed)\", \"name\": \"35-39\", \"type\": \"bar\", \"x\": [\"Biden\", \"Sanders\", \"Warren\", \"Buttigieg\", \"Yang\", \"Klobuchar\"], \"xaxis\": \"x2\", \"y\": [14.0, 26.0, 23.0, 6.0, 4.0, 1.0], \"yaxis\": \"y2\"}, {\"legendgroup\": \"Age (detailed)\", \"name\": \"40-49\", \"type\": \"bar\", \"x\": [\"Biden\", \"Sanders\", \"Warren\", \"Buttigieg\", \"Yang\", \"Klobuchar\"], \"xaxis\": \"x2\", \"y\": [24.0, 21.0, 17.0, 7.0, 4.0, 3.0], \"yaxis\": \"y2\"}, {\"legendgroup\": \"Age (detailed)\", \"name\": \"50-59\", \"type\": \"bar\", \"x\": [\"Biden\", \"Sanders\", \"Warren\", \"Buttigieg\", \"Yang\", \"Klobuchar\"], \"xaxis\": \"x2\", \"y\": [33.0, 14.0, 13.0, 8.0, 2.0, 3.0], \"yaxis\": \"y2\"}, {\"legendgroup\": \"Age (detailed)\", \"name\": \"60-64\", \"type\": \"bar\", \"x\": [\"Biden\", \"Sanders\", \"Warren\", \"Buttigieg\", \"Yang\", \"Klobuchar\"], \"xaxis\": \"x2\", \"y\": [37.0, 10.0, 14.0, 8.0, 1.0, 2.0], \"yaxis\": \"y2\"}, {\"legendgroup\": \"Age (detailed)\", \"name\": \"65-69\", \"type\": \"bar\", \"x\": [\"Biden\", \"Sanders\", \"Warren\", \"Buttigieg\", \"Yang\", \"Klobuchar\"], \"xaxis\": \"x2\", \"y\": [34.0, 10.0, 16.0, 10.0, 0.0, 4.0], \"yaxis\": \"y2\"}, {\"legendgroup\": \"Age (detailed)\", \"name\": \"70\", \"type\": \"bar\", \"x\": [\"Biden\", \"Sanders\", \"Warren\", \"Buttigieg\", \"Yang\", \"Klobuchar\"], \"xaxis\": \"x2\", \"y\": [42.0, 10.0, 11.0, 7.0, 0.0, 5.0], \"yaxis\": \"y2\"}, {\"legendgroup\": \"Democratic primary timing\", \"name\": \"Super Tuesday or earlier state\", \"type\": \"bar\", \"x\": [\"Biden\", \"Sanders\", \"Warren\", \"Buttigieg\", \"Yang\", \"Klobuchar\"], \"xaxis\": \"x3\", \"y\": [25.0, 20.0, 17.0, 6.0, 4.0, 2.0], \"yaxis\": \"y3\"}, {\"legendgroup\": \"Democratic primary timing\", \"name\": \"Lives in another state\", \"type\": \"bar\", \"x\": [\"Biden\", \"Sanders\", \"Warren\", \"Buttigieg\", \"Yang\", \"Klobuchar\"], \"xaxis\": \"x3\", \"y\": [26.0, 21.0, 15.0, 7.0, 3.0, 3.0], \"yaxis\": \"y3\"}, {\"legendgroup\": \"Education (2-way)\", \"name\": \"College grad+\", \"type\": \"bar\", \"x\": [\"Biden\", \"Sanders\", \"Warren\", \"Buttigieg\", \"Yang\", \"Klobuchar\"], \"xaxis\": \"x4\", \"y\": [24.0, 19.0, 24.0, 10.0, 3.0, 5.0], \"yaxis\": \"y4\"}, {\"legendgroup\": \"Education (2-way)\", \"name\": \"No college degree\", \"type\": \"bar\", \"x\": [\"Biden\", \"Sanders\", \"Warren\", \"Buttigieg\", \"Yang\", \"Klobuchar\"], \"xaxis\": \"x4\", \"y\": [28.0, 22.0, 10.0, 4.0, 4.0, 1.0], \"yaxis\": \"y4\"}, {\"legendgroup\": \"Education (detailed)\", \"name\": \"Postgrad\", \"type\": \"bar\", \"x\": [\"Biden\", \"Sanders\", \"Warren\", \"Buttigieg\", \"Yang\", \"Klobuchar\"], \"xaxis\": \"x5\", \"y\": [25.0, 13.0, 28.0, 11.0, 2.0, 6.0], \"yaxis\": \"y5\"}, {\"legendgroup\": \"Education (detailed)\", \"name\": \"4-year college\", \"type\": \"bar\", \"x\": [\"Biden\", \"Sanders\", \"Warren\", \"Buttigieg\", \"Yang\", \"Klobuchar\"], \"xaxis\": \"x5\", \"y\": [22.0, 23.0, 20.0, 9.0, 3.0, 3.0], \"yaxis\": \"y5\"}, {\"legendgroup\": \"Education (detailed)\", \"name\": \"Some college\", \"type\": \"bar\", \"x\": [\"Biden\", \"Sanders\", \"Warren\", \"Buttigieg\", \"Yang\", \"Klobuchar\"], \"xaxis\": \"x5\", \"y\": [24.0, 26.0, 13.0, 5.0, 4.0, 1.0], \"yaxis\": \"y5\"}, {\"legendgroup\": \"Education (detailed)\", \"name\": \"HS or less\", \"type\": \"bar\", \"x\": [\"Biden\", \"Sanders\", \"Warren\", \"Buttigieg\", \"Yang\", \"Klobuchar\"], \"xaxis\": \"x5\", \"y\": [31.0, 19.0, 8.0, 3.0, 4.0, 0.0], \"yaxis\": \"y5\"}, {\"legendgroup\": \"Ideology\", \"name\": \"NET Liberal\", \"type\": \"bar\", \"x\": [\"Biden\", \"Sanders\", \"Warren\", \"Buttigieg\", \"Yang\", \"Klobuchar\"], \"xaxis\": \"x6\", \"y\": [21.0, 28.0, 26.0, 7.0, 2.0, 2.0], \"yaxis\": \"y6\"}, {\"legendgroup\": \"Ideology\", \"name\": \"NET Cons/Mod\", \"type\": \"bar\", \"x\": [\"Biden\", \"Sanders\", \"Warren\", \"Buttigieg\", \"Yang\", \"Klobuchar\"], \"xaxis\": \"x6\", \"y\": [30.0, 15.0, 8.0, 7.0, 5.0, 2.0], \"yaxis\": \"y6\"}, {\"legendgroup\": \"Ideology (detailed)\", \"name\": \"Very Liberal\", \"type\": \"bar\", \"x\": [\"Biden\", \"Sanders\", \"Warren\", \"Buttigieg\", \"Yang\", \"Klobuchar\"], \"xaxis\": \"x7\", \"y\": [12.0, 38.0, 30.0, 3.0, 2.0, 2.0], \"yaxis\": \"y7\"}, {\"legendgroup\": \"Ideology (detailed)\", \"name\": \"Liberal\", \"type\": \"bar\", \"x\": [\"Biden\", \"Sanders\", \"Warren\", \"Buttigieg\", \"Yang\", \"Klobuchar\"], \"xaxis\": \"x7\", \"y\": [25.0, 22.0, 23.0, 8.0, 2.0, 3.0], \"yaxis\": \"y7\"}, {\"legendgroup\": \"Ideology (detailed)\", \"name\": \"Moderate\", \"type\": \"bar\", \"x\": [\"Biden\", \"Sanders\", \"Warren\", \"Buttigieg\", \"Yang\", \"Klobuchar\"], \"xaxis\": \"x7\", \"y\": [30.0, 16.0, 8.0, 8.0, 5.0, 3.0], \"yaxis\": \"y7\"}, {\"legendgroup\": \"Ideology (detailed)\", \"name\": \"NET Conservatives\", \"type\": \"bar\", \"x\": [\"Biden\", \"Sanders\", \"Warren\", \"Buttigieg\", \"Yang\", \"Klobuchar\"], \"xaxis\": \"x7\", \"y\": [33.0, 7.0, 4.0, 2.0, 1.0, 0.0], \"yaxis\": \"y7\"}, {\"legendgroup\": \"Income (3-way)\", \"name\": \"$75,000.00\", \"type\": \"bar\", \"x\": [\"Biden\", \"Sanders\", \"Warren\", \"Buttigieg\", \"Yang\", \"Klobuchar\"], \"xaxis\": \"x8\", \"y\": [25.0, 18.0, 22.0, 10.0, 4.0, 4.0], \"yaxis\": \"y8\"}, {\"legendgroup\": \"Income (3-way)\", \"name\": \"$30-$74,999\", \"type\": \"bar\", \"x\": [\"Biden\", \"Sanders\", \"Warren\", \"Buttigieg\", \"Yang\", \"Klobuchar\"], \"xaxis\": \"x8\", \"y\": [25.0, 24.0, 15.0, 6.0, 3.0, 2.0], \"yaxis\": \"y8\"}, {\"legendgroup\": \"Income (3-way)\", \"name\": \"<$30,000\", \"type\": \"bar\", \"x\": [\"Biden\", \"Sanders\", \"Warren\", \"Buttigieg\", \"Yang\", \"Klobuchar\"], \"xaxis\": \"x8\", \"y\": [27.0, 21.0, 9.0, 3.0, 3.0, 1.0], \"yaxis\": \"y8\"}, {\"legendgroup\": \"Income (detailed)\", \"name\": \"Less than $20,0000\", \"type\": \"bar\", \"x\": [\"Biden\", \"Sanders\", \"Warren\", \"Buttigieg\", \"Yang\", \"Klobuchar\"], \"xaxis\": \"x9\", \"y\": [27.0, 18.0, 8.0, 3.0, 3.0, 0.0], \"yaxis\": \"y9\"}, {\"legendgroup\": \"Income (detailed)\", \"name\": \"$20,000 to less than $30,000\", \"type\": \"bar\", \"x\": [\"Biden\", \"Sanders\", \"Warren\", \"Buttigieg\", \"Yang\", \"Klobuchar\"], \"xaxis\": \"x9\", \"y\": [25.0, 26.0, 10.0, 3.0, 2.0, 1.0], \"yaxis\": \"y9\"}, {\"legendgroup\": \"Income (detailed)\", \"name\": \"$30,000 to less than $40,000\", \"type\": \"bar\", \"x\": [\"Biden\", \"Sanders\", \"Warren\", \"Buttigieg\", \"Yang\", \"Klobuchar\"], \"xaxis\": \"x9\", \"y\": [25.0, 26.0, 12.0, 3.0, 2.0, 1.0], \"yaxis\": \"y9\"}, {\"legendgroup\": \"Income (detailed)\", \"name\": \"$40,000 to less than $50,000\", \"type\": \"bar\", \"x\": [\"Biden\", \"Sanders\", \"Warren\", \"Buttigieg\", \"Yang\", \"Klobuchar\"], \"xaxis\": \"x9\", \"y\": [22.0, 28.0, 12.0, 7.0, 6.0, 3.0], \"yaxis\": \"y9\"}, {\"legendgroup\": \"Income (detailed)\", \"name\": \"$50,000 to less than $75,000\", \"type\": \"bar\", \"x\": [\"Biden\", \"Sanders\", \"Warren\", \"Buttigieg\", \"Yang\", \"Klobuchar\"], \"xaxis\": \"x9\", \"y\": [28.0, 21.0, 20.0, 8.0, 3.0, 2.0], \"yaxis\": \"y9\"}, {\"legendgroup\": \"Income (detailed)\", \"name\": \"$75,000 to less than $100,000\", \"type\": \"bar\", \"x\": [\"Biden\", \"Sanders\", \"Warren\", \"Buttigieg\", \"Yang\", \"Klobuchar\"], \"xaxis\": \"x9\", \"y\": [26.0, 20.0, 20.0, 9.0, 4.0, 4.0], \"yaxis\": \"y9\"}, {\"legendgroup\": \"Income (detailed)\", \"name\": \"$100,000 to less than $150,000\", \"type\": \"bar\", \"x\": [\"Biden\", \"Sanders\", \"Warren\", \"Buttigieg\", \"Yang\", \"Klobuchar\"], \"xaxis\": \"x9\", \"y\": [26.0, 17.0, 24.0, 10.0, 4.0, 4.0], \"yaxis\": \"y9\"}, {\"legendgroup\": \"Income (detailed)\", \"name\": \"$150,000 or more\", \"type\": \"bar\", \"x\": [\"Biden\", \"Sanders\", \"Warren\", \"Buttigieg\", \"Yang\", \"Klobuchar\"], \"xaxis\": \"x9\", \"y\": [23.0, 17.0, 22.0, 12.0, 4.0, 6.0], \"yaxis\": \"y9\"}, {\"legendgroup\": \"Marital status\", \"name\": \"Married/LWP\", \"type\": \"bar\", \"x\": [\"Biden\", \"Sanders\", \"Warren\", \"Buttigieg\", \"Yang\", \"Klobuchar\"], \"xaxis\": \"x10\", \"y\": [26.0, 20.0, 16.0, 8.0, 3.0, 3.0], \"yaxis\": \"y10\"}, {\"legendgroup\": \"Marital status\", \"name\": \"Divorced/Separated\", \"type\": \"bar\", \"x\": [\"Biden\", \"Sanders\", \"Warren\", \"Buttigieg\", \"Yang\", \"Klobuchar\"], \"xaxis\": \"x10\", \"y\": [30.0, 17.0, 16.0, 6.0, 2.0, 2.0], \"yaxis\": \"y10\"}, {\"legendgroup\": \"Marital status\", \"name\": \"Widowed\", \"type\": \"bar\", \"x\": [\"Biden\", \"Sanders\", \"Warren\", \"Buttigieg\", \"Yang\", \"Klobuchar\"], \"xaxis\": \"x10\", \"y\": [46.0, 10.0, 8.0, 6.0, 0.0, 1.0], \"yaxis\": \"y10\"}, {\"legendgroup\": \"Marital status\", \"name\": \"Never married\", \"type\": \"bar\", \"x\": [\"Biden\", \"Sanders\", \"Warren\", \"Buttigieg\", \"Yang\", \"Klobuchar\"], \"xaxis\": \"x10\", \"y\": [21.0, 26.0, 17.0, 5.0, 5.0, 1.0], \"yaxis\": \"y10\"}, {\"legendgroup\": \"Party Identifiers\", \"name\": \"Democratic identifier\", \"type\": \"bar\", \"x\": [\"Biden\", \"Sanders\", \"Warren\", \"Buttigieg\", \"Yang\", \"Klobuchar\"], \"xaxis\": \"x11\", \"y\": [30.0, 19.0, 17.0, 6.0, 2.0, 2.0], \"yaxis\": \"y11\"}, {\"legendgroup\": \"Party Identifiers\", \"name\": \"Democratic leaner (Independent/Other party/DK)\", \"type\": \"bar\", \"x\": [\"Biden\", \"Sanders\", \"Warren\", \"Buttigieg\", \"Yang\", \"Klobuchar\"], \"xaxis\": \"x11\", \"y\": [18.0, 24.0, 14.0, 8.0, 6.0, 2.0], \"yaxis\": \"y11\"}, {\"legendgroup\": \"Race\", \"name\": \"White non-Hispanic\", \"type\": \"bar\", \"x\": [\"Biden\", \"Sanders\", \"Warren\", \"Buttigieg\", \"Yang\", \"Klobuchar\"], \"xaxis\": \"x12\", \"y\": [24.0, 21.0, 19.0, 10.0, 3.0, 4.0], \"yaxis\": \"y12\"}, {\"legendgroup\": \"Race\", \"name\": \"Black non-Hispanic\", \"type\": \"bar\", \"x\": [\"Biden\", \"Sanders\", \"Warren\", \"Buttigieg\", \"Yang\", \"Klobuchar\"], \"xaxis\": \"x12\", \"y\": [36.0, 13.0, 9.0, 0.0, 2.0, 0.0], \"yaxis\": \"y12\"}, {\"legendgroup\": \"Race\", \"name\": \"Hispanic\", \"type\": \"bar\", \"x\": [\"Biden\", \"Sanders\", \"Warren\", \"Buttigieg\", \"Yang\", \"Klobuchar\"], \"xaxis\": \"x12\", \"y\": [22.0, 30.0, 11.0, 2.0, 5.0, 0.0], \"yaxis\": \"y12\"}, {\"legendgroup\": \"Race\", \"name\": \"Other\", \"type\": \"bar\", \"x\": [\"Biden\", \"Sanders\", \"Warren\", \"Buttigieg\", \"Yang\", \"Klobuchar\"], \"xaxis\": \"x12\", \"y\": [23.0, 23.0, 21.0, 4.0, 10.0, 1.0], \"yaxis\": \"y12\"}, {\"legendgroup\": \"Race/ethnicity by age\", \"name\": \"White non-Hispanic, 18-49\", \"type\": \"bar\", \"x\": [\"Biden\", \"Sanders\", \"Warren\", \"Buttigieg\", \"Yang\", \"Klobuchar\"], \"xaxis\": \"x13\", \"y\": [12.0, 34.0, 22.0, 9.0, 5.0, 2.0], \"yaxis\": \"y13\"}, {\"legendgroup\": \"Race/ethnicity by age\", \"name\": \"Black non-Hispanic, 18-49\", \"type\": \"bar\", \"x\": [\"Biden\", \"Sanders\", \"Warren\", \"Buttigieg\", \"Yang\", \"Klobuchar\"], \"xaxis\": \"x13\", \"y\": [26.0, 18.0, 12.0, 0.0, 4.0, 0.0], \"yaxis\": \"y13\"}, {\"legendgroup\": \"Race/ethnicity by age\", \"name\": \"Hispanic, 18-49\", \"type\": \"bar\", \"x\": [\"Biden\", \"Sanders\", \"Warren\", \"Buttigieg\", \"Yang\", \"Klobuchar\"], \"xaxis\": \"x13\", \"y\": [16.0, 35.0, 13.0, 2.0, 8.0, 0.0], \"yaxis\": \"y13\"}, {\"legendgroup\": \"Race/ethnicity by age\", \"name\": \"Other, 18-49\", \"type\": \"bar\", \"x\": [\"Biden\", \"Sanders\", \"Warren\", \"Buttigieg\", \"Yang\", \"Klobuchar\"], \"xaxis\": \"x13\", \"y\": [13.0, 27.0, 22.0, 3.0, 11.0, 1.0], \"yaxis\": \"y13\"}, {\"legendgroup\": \"Race/ethnicity by age\", \"name\": \"White non-Hispanic, 50+\", \"type\": \"bar\", \"x\": [\"Biden\", \"Sanders\", \"Warren\", \"Buttigieg\", \"Yang\", \"Klobuchar\"], \"xaxis\": \"x13\", \"y\": [33.0, 11.0, 16.0, 12.0, 1.0, 5.0], \"yaxis\": \"y13\"}, {\"legendgroup\": \"Race/ethnicity by age\", \"name\": \"Black non-Hispanic, 50+\", \"type\": \"bar\", \"x\": [\"Biden\", \"Sanders\", \"Warren\", \"Buttigieg\", \"Yang\", \"Klobuchar\"], \"xaxis\": \"x13\", \"y\": [45.0, 7.0, 7.0, 0.0, 0.0, 0.0], \"yaxis\": \"y13\"}, {\"legendgroup\": \"Race/ethnicity by age\", \"name\": \"Hispanic, 50+\", \"type\": \"bar\", \"x\": [\"Biden\", \"Sanders\", \"Warren\", \"Buttigieg\", \"Yang\", \"Klobuchar\"], \"xaxis\": \"x13\", \"y\": [36.0, 21.0, 6.0, 2.0, 0.0, 0.0], \"yaxis\": \"y13\"}, {\"legendgroup\": \"Region\", \"name\": \"Northeast\", \"type\": \"bar\", \"x\": [\"Biden\", \"Sanders\", \"Warren\", \"Buttigieg\", \"Yang\", \"Klobuchar\"], \"xaxis\": \"x14\", \"y\": [25.0, 21.0, 17.0, 5.0, 3.0, 2.0], \"yaxis\": \"y14\"}, {\"legendgroup\": \"Region\", \"name\": \"Midwest\", \"type\": \"bar\", \"x\": [\"Biden\", \"Sanders\", \"Warren\", \"Buttigieg\", \"Yang\", \"Klobuchar\"], \"xaxis\": \"x14\", \"y\": [23.0, 22.0, 15.0, 10.0, 4.0, 4.0], \"yaxis\": \"y14\"}, {\"legendgroup\": \"Region\", \"name\": \"South\", \"type\": \"bar\", \"x\": [\"Biden\", \"Sanders\", \"Warren\", \"Buttigieg\", \"Yang\", \"Klobuchar\"], \"xaxis\": \"x14\", \"y\": [30.0, 18.0, 14.0, 5.0, 2.0, 2.0], \"yaxis\": \"y14\"}, {\"legendgroup\": \"Region\", \"name\": \"West\", \"type\": \"bar\", \"x\": [\"Biden\", \"Sanders\", \"Warren\", \"Buttigieg\", \"Yang\", \"Klobuchar\"], \"xaxis\": \"x14\", \"y\": [23.0, 24.0, 18.0, 8.0, 5.0, 3.0], \"yaxis\": \"y14\"}, {\"legendgroup\": \"Religion\", \"name\": \"NET Protestant\", \"type\": \"bar\", \"x\": [\"Biden\", \"Sanders\", \"Warren\", \"Buttigieg\", \"Yang\", \"Klobuchar\"], \"xaxis\": \"x15\", \"y\": [36.0, 13.0, 11.0, 5.0, 2.0, 2.0], \"yaxis\": \"y15\"}, {\"legendgroup\": \"Religion\", \"name\": \"NET Catholic\", \"type\": \"bar\", \"x\": [\"Biden\", \"Sanders\", \"Warren\", \"Buttigieg\", \"Yang\", \"Klobuchar\"], \"xaxis\": \"x15\", \"y\": [34.0, 18.0, 10.0, 7.0, 3.0, 2.0], \"yaxis\": \"y15\"}, {\"legendgroup\": \"Religion\", \"name\": \"Jewish\", \"type\": \"bar\", \"x\": [\"Biden\", \"Sanders\", \"Warren\", \"Buttigieg\", \"Yang\", \"Klobuchar\"], \"xaxis\": \"x15\", \"y\": [31.0, 11.0, 20.0, 13.0, 1.0, 4.0], \"yaxis\": \"y15\"}, {\"legendgroup\": \"Religion\", \"name\": \"Unaffiliated\", \"type\": \"bar\", \"x\": [\"Biden\", \"Sanders\", \"Warren\", \"Buttigieg\", \"Yang\", \"Klobuchar\"], \"xaxis\": \"x15\", \"y\": [17.0, 28.0, 21.0, 7.0, 4.0, 2.0], \"yaxis\": \"y15\"}, {\"legendgroup\": \"Religion (detalied)\", \"name\": \"White evangelical Protestant\", \"type\": \"bar\", \"x\": [\"Biden\", \"Sanders\", \"Warren\", \"Buttigieg\", \"Yang\", \"Klobuchar\"], \"xaxis\": \"x16\", \"y\": [37.0, 12.0, 14.0, 9.0, 2.0, 2.0], \"yaxis\": \"y16\"}, {\"legendgroup\": \"Religion (detalied)\", \"name\": \"White mainline Protestant\", \"type\": \"bar\", \"x\": [\"Biden\", \"Sanders\", \"Warren\", \"Buttigieg\", \"Yang\", \"Klobuchar\"], \"xaxis\": \"x16\", \"y\": [26.0, 12.0, 14.0, 13.0, 1.0, 6.0], \"yaxis\": \"y16\"}, {\"legendgroup\": \"Religion (detalied)\", \"name\": \"Black Protestant\", \"type\": \"bar\", \"x\": [\"Biden\", \"Sanders\", \"Warren\", \"Buttigieg\", \"Yang\", \"Klobuchar\"], \"xaxis\": \"x16\", \"y\": [44.0, 11.0, 7.0, 0.0, 1.0, 0.0], \"yaxis\": \"y16\"}, {\"legendgroup\": \"Religion (detalied)\", \"name\": \"White non-Hispanic Catholic\", \"type\": \"bar\", \"x\": [\"Biden\", \"Sanders\", \"Warren\", \"Buttigieg\", \"Yang\", \"Klobuchar\"], \"xaxis\": \"x16\", \"y\": [37.0, 14.0, 10.0, 12.0, 2.0, 4.0], \"yaxis\": \"y16\"}, {\"legendgroup\": \"Religion (detalied)\", \"name\": \"Hispanic Catholic\", \"type\": \"bar\", \"x\": [\"Biden\", \"Sanders\", \"Warren\", \"Buttigieg\", \"Yang\", \"Klobuchar\"], \"xaxis\": \"x16\", \"y\": [29.0, 25.0, 7.0, 1.0, 4.0, 0.0], \"yaxis\": \"y16\"}, {\"legendgroup\": \"Religion (detalied)\", \"name\": \"Atheist\", \"type\": \"bar\", \"x\": [\"Biden\", \"Sanders\", \"Warren\", \"Buttigieg\", \"Yang\", \"Klobuchar\"], \"xaxis\": \"x16\", \"y\": [12.0, 30.0, 29.0, 10.0, 6.0, 2.0], \"yaxis\": \"y16\"}, {\"legendgroup\": \"Religion (detalied)\", \"name\": \"Agnostic\", \"type\": \"bar\", \"x\": [\"Biden\", \"Sanders\", \"Warren\", \"Buttigieg\", \"Yang\", \"Klobuchar\"], \"xaxis\": \"x16\", \"y\": [16.0, 36.0, 23.0, 7.0, 4.0, 4.0], \"yaxis\": \"y16\"}, {\"legendgroup\": \"Religion (detalied)\", \"name\": \"Nothing in particular\", \"type\": \"bar\", \"x\": [\"Biden\", \"Sanders\", \"Warren\", \"Buttigieg\", \"Yang\", \"Klobuchar\"], \"xaxis\": \"x16\", \"y\": [18.0, 23.0, 16.0, 6.0, 4.0, 2.0], \"yaxis\": \"y16\"}, {\"legendgroup\": \"Religious attendance\", \"name\": \"Once a week+\", \"type\": \"bar\", \"x\": [\"Biden\", \"Sanders\", \"Warren\", \"Buttigieg\", \"Yang\", \"Klobuchar\"], \"xaxis\": \"x17\", \"y\": [38.0, 11.0, 10.0, 5.0, 2.0, 4.0], \"yaxis\": \"y17\"}, {\"legendgroup\": \"Religious attendance\", \"name\": \"Monthly/yearly\", \"type\": \"bar\", \"x\": [\"Biden\", \"Sanders\", \"Warren\", \"Buttigieg\", \"Yang\", \"Klobuchar\"], \"xaxis\": \"x17\", \"y\": [30.0, 19.0, 14.0, 6.0, 4.0, 2.0], \"yaxis\": \"y17\"}, {\"legendgroup\": \"Religious attendance\", \"name\": \"Seldom\", \"type\": \"bar\", \"x\": [\"Biden\", \"Sanders\", \"Warren\", \"Buttigieg\", \"Yang\", \"Klobuchar\"], \"xaxis\": \"x17\", \"y\": [27.0, 20.0, 16.0, 7.0, 4.0, 2.0], \"yaxis\": \"y17\"}, {\"legendgroup\": \"Religious attendance\", \"name\": \"Never\", \"type\": \"bar\", \"x\": [\"Biden\", \"Sanders\", \"Warren\", \"Buttigieg\", \"Yang\", \"Klobuchar\"], \"xaxis\": \"x17\", \"y\": [17.0, 28.0, 20.0, 8.0, 4.0, 2.0], \"yaxis\": \"y17\"}, {\"legendgroup\": \"Sex\", \"name\": \"Men\", \"type\": \"bar\", \"x\": [\"Biden\", \"Sanders\", \"Warren\", \"Buttigieg\", \"Yang\", \"Klobuchar\"], \"xaxis\": \"x18\", \"y\": [26.0, 24.0, 15.0, 7.0, 5.0, 2.0], \"yaxis\": \"y18\"}, {\"legendgroup\": \"Sex\", \"name\": \"Women\", \"type\": \"bar\", \"x\": [\"Biden\", \"Sanders\", \"Warren\", \"Buttigieg\", \"Yang\", \"Klobuchar\"], \"xaxis\": \"x18\", \"y\": [26.0, 19.0, 16.0, 7.0, 2.0, 3.0], \"yaxis\": \"y18\"}, {\"legendgroup\": \"Sex by age\", \"name\": \"Men, 18-49\", \"type\": \"bar\", \"x\": [\"Biden\", \"Sanders\", \"Warren\", \"Buttigieg\", \"Yang\", \"Klobuchar\"], \"xaxis\": \"x19\", \"y\": [14.0, 34.0, 18.0, 6.0, 9.0, 1.0], \"yaxis\": \"y19\"}, {\"legendgroup\": \"Sex by age\", \"name\": \"Women, 18-49\", \"type\": \"bar\", \"x\": [\"Biden\", \"Sanders\", \"Warren\", \"Buttigieg\", \"Yang\", \"Klobuchar\"], \"xaxis\": \"x19\", \"y\": [17.0, 27.0, 19.0, 4.0, 4.0, 1.0], \"yaxis\": \"y19\"}, {\"legendgroup\": \"Sex by age\", \"name\": \"Men, 50+\", \"type\": \"bar\", \"x\": [\"Biden\", \"Sanders\", \"Warren\", \"Buttigieg\", \"Yang\", \"Klobuchar\"], \"xaxis\": \"x19\", \"y\": [39.0, 12.0, 13.0, 7.0, 1.0, 3.0], \"yaxis\": \"y19\"}, {\"legendgroup\": \"Sex by age\", \"name\": \"Women, 50+\", \"type\": \"bar\", \"x\": [\"Biden\", \"Sanders\", \"Warren\", \"Buttigieg\", \"Yang\", \"Klobuchar\"], \"xaxis\": \"x19\", \"y\": [34.0, 11.0, 14.0, 9.0, 1.0, 4.0], \"yaxis\": \"y19\"}, {\"legendgroup\": \"Sex by age (among whites)\", \"name\": \"Men, 18-49\", \"type\": \"bar\", \"x\": [\"Biden\", \"Sanders\", \"Warren\", \"Buttigieg\", \"Yang\", \"Klobuchar\"], \"xaxis\": \"x20\", \"y\": [13.0, 38.0, 20.0, 10.0, 6.0, 3.0], \"yaxis\": \"y20\"}, {\"legendgroup\": \"Sex by age (among whites)\", \"name\": \"Women, 18-49\", \"type\": \"bar\", \"x\": [\"Biden\", \"Sanders\", \"Warren\", \"Buttigieg\", \"Yang\", \"Klobuchar\"], \"xaxis\": \"x20\", \"y\": [11.0, 29.0, 25.0, 7.0, 4.0, 2.0], \"yaxis\": \"y20\"}, {\"legendgroup\": \"Sex by age (among whites)\", \"name\": \"Men, 50+\", \"type\": \"bar\", \"x\": [\"Biden\", \"Sanders\", \"Warren\", \"Buttigieg\", \"Yang\", \"Klobuchar\"], \"xaxis\": \"x20\", \"y\": [36.0, 13.0, 15.0, 10.0, 1.0, 4.0], \"yaxis\": \"y20\"}, {\"legendgroup\": \"Sex by age (among whites)\", \"name\": \"Women, 50+\", \"type\": \"bar\", \"x\": [\"Biden\", \"Sanders\", \"Warren\", \"Buttigieg\", \"Yang\", \"Klobuchar\"], \"xaxis\": \"x20\", \"y\": [31.0, 10.0, 17.0, 13.0, 0.0, 6.0], \"yaxis\": \"y20\"}, {\"legendgroup\": \"Sex by education\", \"name\": \"Men, College grad+\", \"type\": \"bar\", \"x\": [\"Biden\", \"Sanders\", \"Warren\", \"Buttigieg\", \"Yang\", \"Klobuchar\"], \"xaxis\": \"x21\", \"y\": [26.0, 21.0, 21.0, 10.0, 4.0, 4.0], \"yaxis\": \"y21\"}, {\"legendgroup\": \"Sex by education\", \"name\": \"Women, College grad+\", \"type\": \"bar\", \"x\": [\"Biden\", \"Sanders\", \"Warren\", \"Buttigieg\", \"Yang\", \"Klobuchar\"], \"xaxis\": \"x21\", \"y\": [22.0, 17.0, 26.0, 10.0, 2.0, 5.0], \"yaxis\": \"y21\"}, {\"legendgroup\": \"Sex by education\", \"name\": \"Men, No college degree\", \"type\": \"bar\", \"x\": [\"Biden\", \"Sanders\", \"Warren\", \"Buttigieg\", \"Yang\", \"Klobuchar\"], \"xaxis\": \"x21\", \"y\": [26.0, 25.0, 12.0, 5.0, 6.0, 1.0], \"yaxis\": \"y21\"}, {\"legendgroup\": \"Sex by education\", \"name\": \"Women, No college degree\", \"type\": \"bar\", \"x\": [\"Biden\", \"Sanders\", \"Warren\", \"Buttigieg\", \"Yang\", \"Klobuchar\"], \"xaxis\": \"x21\", \"y\": [29.0, 20.0, 9.0, 4.0, 2.0, 1.0], \"yaxis\": \"y21\"}, {\"legendgroup\": \"Sex by education (among whites)\", \"name\": \"Men, College grad+\", \"type\": \"bar\", \"x\": [\"Biden\", \"Sanders\", \"Warren\", \"Buttigieg\", \"Yang\", \"Klobuchar\"], \"xaxis\": \"x22\", \"y\": [24.0, 22.0, 21.0, 13.0, 4.0, 5.0], \"yaxis\": \"y22\"}, {\"legendgroup\": \"Sex by education (among whites)\", \"name\": \"Women, College grad+\", \"type\": \"bar\", \"x\": [\"Biden\", \"Sanders\", \"Warren\", \"Buttigieg\", \"Yang\", \"Klobuchar\"], \"xaxis\": \"x22\", \"y\": [19.0, 16.0, 28.0, 13.0, 2.0, 7.0], \"yaxis\": \"y22\"}, {\"legendgroup\": \"Sex by education (among whites)\", \"name\": \"Men, No college degree\", \"type\": \"bar\", \"x\": [\"Biden\", \"Sanders\", \"Warren\", \"Buttigieg\", \"Yang\", \"Klobuchar\"], \"xaxis\": \"x22\", \"y\": [26.0, 28.0, 14.0, 8.0, 3.0, 2.0], \"yaxis\": \"y22\"}, {\"legendgroup\": \"Sex by education (among whites)\", \"name\": \"Women, No college degree\", \"type\": \"bar\", \"x\": [\"Biden\", \"Sanders\", \"Warren\", \"Buttigieg\", \"Yang\", \"Klobuchar\"], \"xaxis\": \"x22\", \"y\": [28.0, 19.0, 11.0, 8.0, 2.0, 1.0], \"yaxis\": \"y22\"}, {\"legendgroup\": \"Sex by marital status\", \"name\": \"Men, Married/Live with partner\", \"type\": \"bar\", \"x\": [\"Biden\", \"Sanders\", \"Warren\", \"Buttigieg\", \"Yang\", \"Klobuchar\"], \"xaxis\": \"x23\", \"y\": [27.0, 22.0, 16.0, 8.0, 4.0, 3.0], \"yaxis\": \"y23\"}, {\"legendgroup\": \"Sex by marital status\", \"name\": \"Women, Married/Live with partner\", \"type\": \"bar\", \"x\": [\"Biden\", \"Sanders\", \"Warren\", \"Buttigieg\", \"Yang\", \"Klobuchar\"], \"xaxis\": \"x23\", \"y\": [25.0, 19.0, 16.0, 8.0, 3.0, 4.0], \"yaxis\": \"y23\"}, {\"legendgroup\": \"Sex by marital status\", \"name\": \"Men, Divorced/Separated\", \"type\": \"bar\", \"x\": [\"Biden\", \"Sanders\", \"Warren\", \"Buttigieg\", \"Yang\", \"Klobuchar\"], \"xaxis\": \"x23\", \"y\": [32.0, 19.0, 18.0, 5.0, 3.0, 3.0], \"yaxis\": \"y23\"}, {\"legendgroup\": \"Sex by marital status\", \"name\": \"Women, Divorced/Separated\", \"type\": \"bar\", \"x\": [\"Biden\", \"Sanders\", \"Warren\", \"Buttigieg\", \"Yang\", \"Klobuchar\"], \"xaxis\": \"x23\", \"y\": [29.0, 16.0, 15.0, 6.0, 1.0, 1.0], \"yaxis\": \"y23\"}, {\"legendgroup\": \"Sex by marital status\", \"name\": \"Men, Never been married\", \"type\": \"bar\", \"x\": [\"Biden\", \"Sanders\", \"Warren\", \"Buttigieg\", \"Yang\", \"Klobuchar\"], \"xaxis\": \"x23\", \"y\": [20.0, 29.0, 15.0, 6.0, 8.0, 0.0], \"yaxis\": \"y23\"}, {\"legendgroup\": \"Sex by marital status\", \"name\": \"Women, Never been married\", \"type\": \"bar\", \"x\": [\"Biden\", \"Sanders\", \"Warren\", \"Buttigieg\", \"Yang\", \"Klobuchar\"], \"xaxis\": \"x23\", \"y\": [22.0, 22.0, 20.0, 4.0, 2.0, 2.0], \"yaxis\": \"y23\"}, {\"legendgroup\": \"Total\", \"name\": \"All Dem/Lean Dem registered voters\", \"type\": \"bar\", \"x\": [\"Biden\", \"Sanders\", \"Warren\", \"Buttigieg\", \"Yang\", \"Klobuchar\"], \"xaxis\": \"x24\", \"y\": [26.0, 21.0, 16.0, 7.0, 3.0, 2.0], \"yaxis\": \"y24\"}, {\"legendgroup\": \"USR\", \"name\": \"Urban\", \"type\": \"bar\", \"x\": [\"Biden\", \"Sanders\", \"Warren\", \"Buttigieg\", \"Yang\", \"Klobuchar\"], \"xaxis\": \"x25\", \"y\": [24.0, 24.0, 16.0, 5.0, 4.0, 2.0], \"yaxis\": \"y25\"}, {\"legendgroup\": \"USR\", \"name\": \"Suburban\", \"type\": \"bar\", \"x\": [\"Biden\", \"Sanders\", \"Warren\", \"Buttigieg\", \"Yang\", \"Klobuchar\"], \"xaxis\": \"x25\", \"y\": [26.0, 20.0, 17.0, 7.0, 4.0, 2.0], \"yaxis\": \"y25\"}, {\"legendgroup\": \"USR\", \"name\": \"Rural\", \"type\": \"bar\", \"x\": [\"Biden\", \"Sanders\", \"Warren\", \"Buttigieg\", \"Yang\", \"Klobuchar\"], \"xaxis\": \"x25\", \"y\": [28.0, 18.0, 12.0, 7.0, 2.0, 2.0], \"yaxis\": \"y25\"}, {\"legendgroup\": \"Union (household)\", \"name\": \"Self or Household union member\", \"type\": \"bar\", \"x\": [\"Biden\", \"Sanders\", \"Warren\", \"Buttigieg\", \"Yang\", \"Klobuchar\"], \"xaxis\": \"x26\", \"y\": [26.0, 22.0, 21.0, 5.0, 4.0, 2.0], \"yaxis\": \"y26\"}, {\"legendgroup\": \"Union (household)\", \"name\": \"No, no union member in household\", \"type\": \"bar\", \"x\": [\"Biden\", \"Sanders\", \"Warren\", \"Buttigieg\", \"Yang\", \"Klobuchar\"], \"xaxis\": \"x26\", \"y\": [26.0, 21.0, 15.0, 7.0, 3.0, 2.0], \"yaxis\": \"y26\"}, {\"legendgroup\": \"Union (self)\", \"name\": \"Yes, self\", \"type\": \"bar\", \"x\": [\"Biden\", \"Sanders\", \"Warren\", \"Buttigieg\", \"Yang\", \"Klobuchar\"], \"xaxis\": \"x27\", \"y\": [26.0, 21.0, 23.0, 7.0, 3.0, 3.0], \"yaxis\": \"y27\"}, {\"legendgroup\": \"Union (self)\", \"name\": \"No, but union member in household\", \"type\": \"bar\", \"x\": [\"Biden\", \"Sanders\", \"Warren\", \"Buttigieg\", \"Yang\", \"Klobuchar\"], \"xaxis\": \"x27\", \"y\": [26.0, 23.0, 18.0, 3.0, 5.0, 2.0], \"yaxis\": \"y27\"}, {\"legendgroup\": \"Union (self)\", \"name\": \"No, no union member in household\", \"type\": \"bar\", \"x\": [\"Biden\", \"Sanders\", \"Warren\", \"Buttigieg\", \"Yang\", \"Klobuchar\"], \"xaxis\": \"x27\", \"y\": [26.0, 21.0, 15.0, 7.0, 3.0, 2.0], \"yaxis\": \"y27\"}, {\"legendgroup\": \"Union household by age\", \"name\": \"Self or Household, 18-49\", \"type\": \"bar\", \"x\": [\"Biden\", \"Sanders\", \"Warren\", \"Buttigieg\", \"Yang\", \"Klobuchar\"], \"xaxis\": \"x28\", \"y\": [17.0, 31.0, 23.0, 4.0, 7.0, 1.0], \"yaxis\": \"y28\"}, {\"legendgroup\": \"Union household by age\", \"name\": \"No, 18-49\", \"type\": \"bar\", \"x\": [\"Biden\", \"Sanders\", \"Warren\", \"Buttigieg\", \"Yang\", \"Klobuchar\"], \"xaxis\": \"x28\", \"y\": [15.0, 30.0, 17.0, 5.0, 6.0, 1.0], \"yaxis\": \"y28\"}, {\"legendgroup\": \"Union household by age\", \"name\": \"Self or Household, 50+\", \"type\": \"bar\", \"x\": [\"Biden\", \"Sanders\", \"Warren\", \"Buttigieg\", \"Yang\", \"Klobuchar\"], \"xaxis\": \"x28\", \"y\": [35.0, 14.0, 19.0, 7.0, 1.0, 4.0], \"yaxis\": \"y28\"}, {\"legendgroup\": \"Union household by age\", \"name\": \"No, 50+\", \"type\": \"bar\", \"x\": [\"Biden\", \"Sanders\", \"Warren\", \"Buttigieg\", \"Yang\", \"Klobuchar\"], \"xaxis\": \"x28\", \"y\": [37.0, 11.0, 12.0, 9.0, 1.0, 3.0], \"yaxis\": \"y28\"}, {\"legendgroup\": \"Veteran (household)\", \"name\": \"Self or Household veteran\", \"type\": \"bar\", \"x\": [\"Biden\", \"Sanders\", \"Warren\", \"Buttigieg\", \"Yang\", \"Klobuchar\"], \"xaxis\": \"x29\", \"y\": [35.0, 18.0, 11.0, 6.0, 2.0, 3.0], \"yaxis\": \"y29\"}, {\"legendgroup\": \"Veteran (household)\", \"name\": \"No, no veteran in household\", \"type\": \"bar\", \"x\": [\"Biden\", \"Sanders\", \"Warren\", \"Buttigieg\", \"Yang\", \"Klobuchar\"], \"xaxis\": \"x29\", \"y\": [23.0, 22.0, 17.0, 7.0, 4.0, 2.0], \"yaxis\": \"y29\"}, {\"legendgroup\": \"Veteran (self)\", \"name\": \"Yes, self\", \"type\": \"bar\", \"x\": [\"Biden\", \"Sanders\", \"Warren\", \"Buttigieg\", \"Yang\", \"Klobuchar\"], \"xaxis\": \"x30\", \"y\": [35.0, 21.0, 12.0, 6.0, 3.0, 4.0], \"yaxis\": \"y30\"}, {\"legendgroup\": \"Veteran (self)\", \"name\": \"No, but veteran in household\", \"type\": \"bar\", \"x\": [\"Biden\", \"Sanders\", \"Warren\", \"Buttigieg\", \"Yang\", \"Klobuchar\"], \"xaxis\": \"x30\", \"y\": [35.0, 16.0, 11.0, 6.0, 2.0, 2.0], \"yaxis\": \"y30\"}, {\"legendgroup\": \"Veteran (self)\", \"name\": \"No, no veteran in household\", \"type\": \"bar\", \"x\": [\"Biden\", \"Sanders\", \"Warren\", \"Buttigieg\", \"Yang\", \"Klobuchar\"], \"xaxis\": \"x30\", \"y\": [23.0, 22.0, 17.0, 7.0, 4.0, 2.0], \"yaxis\": \"y30\"}, {\"legendgroup\": \"Veteran household by age\", \"name\": \"Self or Household, 18-49\", \"type\": \"bar\", \"x\": [\"Biden\", \"Sanders\", \"Warren\", \"Buttigieg\", \"Yang\", \"Klobuchar\"], \"xaxis\": \"x31\", \"y\": [18.0, 32.0, 15.0, 4.0, 6.0, 1.0], \"yaxis\": \"y31\"}, {\"legendgroup\": \"Veteran household by age\", \"name\": \"No, 18-49\", \"type\": \"bar\", \"x\": [\"Biden\", \"Sanders\", \"Warren\", \"Buttigieg\", \"Yang\", \"Klobuchar\"], \"xaxis\": \"x31\", \"y\": [15.0, 30.0, 19.0, 5.0, 6.0, 1.0], \"yaxis\": \"y31\"}, {\"legendgroup\": \"Veteran household by age\", \"name\": \"Self or Household, 50+\", \"type\": \"bar\", \"x\": [\"Biden\", \"Sanders\", \"Warren\", \"Buttigieg\", \"Yang\", \"Klobuchar\"], \"xaxis\": \"x31\", \"y\": [42.0, 12.0, 10.0, 6.0, 1.0, 4.0], \"yaxis\": \"y31\"}, {\"legendgroup\": \"Veteran household by age\", \"name\": \"No, 50+\", \"type\": \"bar\", \"x\": [\"Biden\", \"Sanders\", \"Warren\", \"Buttigieg\", \"Yang\", \"Klobuchar\"], \"xaxis\": \"x31\", \"y\": [34.0, 11.0, 15.0, 9.0, 1.0, 3.0], \"yaxis\": \"y31\"}],\n",
       "                        {\"annotations\": [{\"font\": {\"size\": 16}, \"showarrow\": false, \"text\": \"Age (4-way)\", \"x\": 0.14444444444444446, \"xanchor\": \"center\", \"xref\": \"paper\", \"y\": 0.9999999999999999, \"yanchor\": \"bottom\", \"yref\": \"paper\"}, {\"font\": {\"size\": 16}, \"showarrow\": false, \"text\": \"Age (detailed)\", \"x\": 0.5, \"xanchor\": \"center\", \"xref\": \"paper\", \"y\": 0.9999999999999999, \"yanchor\": \"bottom\", \"yref\": \"paper\"}, {\"font\": {\"size\": 16}, \"showarrow\": false, \"text\": \"Democratic primary timing\", \"x\": 0.8555555555555556, \"xanchor\": \"center\", \"xref\": \"paper\", \"y\": 0.9999999999999999, \"yanchor\": \"bottom\", \"yref\": \"paper\"}, {\"font\": {\"size\": 16}, \"showarrow\": false, \"text\": \"Education (2-way)\", \"x\": 0.14444444444444446, \"xanchor\": \"center\", \"xref\": \"paper\", \"y\": 0.9049586776859503, \"yanchor\": \"bottom\", \"yref\": \"paper\"}, {\"font\": {\"size\": 16}, \"showarrow\": false, \"text\": \"Education (detailed)\", \"x\": 0.5, \"xanchor\": \"center\", \"xref\": \"paper\", \"y\": 0.9049586776859503, \"yanchor\": \"bottom\", \"yref\": \"paper\"}, {\"font\": {\"size\": 16}, \"showarrow\": false, \"text\": \"Ideology\", \"x\": 0.8555555555555556, \"xanchor\": \"center\", \"xref\": \"paper\", \"y\": 0.9049586776859503, \"yanchor\": \"bottom\", \"yref\": \"paper\"}, {\"font\": {\"size\": 16}, \"showarrow\": false, \"text\": \"Ideology (detailed)\", \"x\": 0.14444444444444446, \"xanchor\": \"center\", \"xref\": \"paper\", \"y\": 0.8099173553719007, \"yanchor\": \"bottom\", \"yref\": \"paper\"}, {\"font\": {\"size\": 16}, \"showarrow\": false, \"text\": \"Income (3-way)\", \"x\": 0.5, \"xanchor\": \"center\", \"xref\": \"paper\", \"y\": 0.8099173553719007, \"yanchor\": \"bottom\", \"yref\": \"paper\"}, {\"font\": {\"size\": 16}, \"showarrow\": false, \"text\": \"Income (detailed)\", \"x\": 0.8555555555555556, \"xanchor\": \"center\", \"xref\": \"paper\", \"y\": 0.8099173553719007, \"yanchor\": \"bottom\", \"yref\": \"paper\"}, {\"font\": {\"size\": 16}, \"showarrow\": false, \"text\": \"Marital status\", \"x\": 0.14444444444444446, \"xanchor\": \"center\", \"xref\": \"paper\", \"y\": 0.7148760330578511, \"yanchor\": \"bottom\", \"yref\": \"paper\"}, {\"font\": {\"size\": 16}, \"showarrow\": false, \"text\": \"Party Identifiers\", \"x\": 0.5, \"xanchor\": \"center\", \"xref\": \"paper\", \"y\": 0.7148760330578511, \"yanchor\": \"bottom\", \"yref\": \"paper\"}, {\"font\": {\"size\": 16}, \"showarrow\": false, \"text\": \"Race\", \"x\": 0.8555555555555556, \"xanchor\": \"center\", \"xref\": \"paper\", \"y\": 0.7148760330578511, \"yanchor\": \"bottom\", \"yref\": \"paper\"}, {\"font\": {\"size\": 16}, \"showarrow\": false, \"text\": \"Race/ethnicity by age\", \"x\": 0.14444444444444446, \"xanchor\": \"center\", \"xref\": \"paper\", \"y\": 0.6198347107438015, \"yanchor\": \"bottom\", \"yref\": \"paper\"}, {\"font\": {\"size\": 16}, \"showarrow\": false, \"text\": \"Region\", \"x\": 0.5, \"xanchor\": \"center\", \"xref\": \"paper\", \"y\": 0.6198347107438015, \"yanchor\": \"bottom\", \"yref\": \"paper\"}, {\"font\": {\"size\": 16}, \"showarrow\": false, \"text\": \"Religion\", \"x\": 0.8555555555555556, \"xanchor\": \"center\", \"xref\": \"paper\", \"y\": 0.6198347107438015, \"yanchor\": \"bottom\", \"yref\": \"paper\"}, {\"font\": {\"size\": 16}, \"showarrow\": false, \"text\": \"Religion (detalied)\", \"x\": 0.14444444444444446, \"xanchor\": \"center\", \"xref\": \"paper\", \"y\": 0.524793388429752, \"yanchor\": \"bottom\", \"yref\": \"paper\"}, {\"font\": {\"size\": 16}, \"showarrow\": false, \"text\": \"Religious attendance\", \"x\": 0.5, \"xanchor\": \"center\", \"xref\": \"paper\", \"y\": 0.524793388429752, \"yanchor\": \"bottom\", \"yref\": \"paper\"}, {\"font\": {\"size\": 16}, \"showarrow\": false, \"text\": \"Sex\", \"x\": 0.8555555555555556, \"xanchor\": \"center\", \"xref\": \"paper\", \"y\": 0.524793388429752, \"yanchor\": \"bottom\", \"yref\": \"paper\"}, {\"font\": {\"size\": 16}, \"showarrow\": false, \"text\": \"Sex by age\", \"x\": 0.14444444444444446, \"xanchor\": \"center\", \"xref\": \"paper\", \"y\": 0.42975206611570244, \"yanchor\": \"bottom\", \"yref\": \"paper\"}, {\"font\": {\"size\": 16}, \"showarrow\": false, \"text\": \"Sex by age (among whites)\", \"x\": 0.5, \"xanchor\": \"center\", \"xref\": \"paper\", \"y\": 0.42975206611570244, \"yanchor\": \"bottom\", \"yref\": \"paper\"}, {\"font\": {\"size\": 16}, \"showarrow\": false, \"text\": \"Sex by education\", \"x\": 0.8555555555555556, \"xanchor\": \"center\", \"xref\": \"paper\", \"y\": 0.42975206611570244, \"yanchor\": \"bottom\", \"yref\": \"paper\"}, {\"font\": {\"size\": 16}, \"showarrow\": false, \"text\": \"Sex by education (among whites)\", \"x\": 0.14444444444444446, \"xanchor\": \"center\", \"xref\": \"paper\", \"y\": 0.33471074380165283, \"yanchor\": \"bottom\", \"yref\": \"paper\"}, {\"font\": {\"size\": 16}, \"showarrow\": false, \"text\": \"Sex by marital status\", \"x\": 0.5, \"xanchor\": \"center\", \"xref\": \"paper\", \"y\": 0.33471074380165283, \"yanchor\": \"bottom\", \"yref\": \"paper\"}, {\"font\": {\"size\": 16}, \"showarrow\": false, \"text\": \"Total\", \"x\": 0.8555555555555556, \"xanchor\": \"center\", \"xref\": \"paper\", \"y\": 0.33471074380165283, \"yanchor\": \"bottom\", \"yref\": \"paper\"}, {\"font\": {\"size\": 16}, \"showarrow\": false, \"text\": \"USR\", \"x\": 0.14444444444444446, \"xanchor\": \"center\", \"xref\": \"paper\", \"y\": 0.23966942148760328, \"yanchor\": \"bottom\", \"yref\": \"paper\"}, {\"font\": {\"size\": 16}, \"showarrow\": false, \"text\": \"Union (household)\", \"x\": 0.5, \"xanchor\": \"center\", \"xref\": \"paper\", \"y\": 0.23966942148760328, \"yanchor\": \"bottom\", \"yref\": \"paper\"}, {\"font\": {\"size\": 16}, \"showarrow\": false, \"text\": \"Union (self)\", \"x\": 0.8555555555555556, \"xanchor\": \"center\", \"xref\": \"paper\", \"y\": 0.23966942148760328, \"yanchor\": \"bottom\", \"yref\": \"paper\"}, {\"font\": {\"size\": 16}, \"showarrow\": false, \"text\": \"Union household by age\", \"x\": 0.14444444444444446, \"xanchor\": \"center\", \"xref\": \"paper\", \"y\": 0.1446280991735537, \"yanchor\": \"bottom\", \"yref\": \"paper\"}, {\"font\": {\"size\": 16}, \"showarrow\": false, \"text\": \"Veteran (household)\", \"x\": 0.5, \"xanchor\": \"center\", \"xref\": \"paper\", \"y\": 0.1446280991735537, \"yanchor\": \"bottom\", \"yref\": \"paper\"}, {\"font\": {\"size\": 16}, \"showarrow\": false, \"text\": \"Veteran (self)\", \"x\": 0.8555555555555556, \"xanchor\": \"center\", \"xref\": \"paper\", \"y\": 0.1446280991735537, \"yanchor\": \"bottom\", \"yref\": \"paper\"}, {\"font\": {\"size\": 16}, \"showarrow\": false, \"text\": \"Veteran household by age\", \"x\": 0.14444444444444446, \"xanchor\": \"center\", \"xref\": \"paper\", \"y\": 0.04958677685950413, \"yanchor\": \"bottom\", \"yref\": \"paper\"}], \"height\": 2000, \"template\": {\"data\": {\"bar\": [{\"error_x\": {\"color\": \"#2a3f5f\"}, \"error_y\": {\"color\": \"#2a3f5f\"}, \"marker\": {\"line\": {\"color\": \"#E5ECF6\", \"width\": 0.5}}, \"type\": \"bar\"}], \"barpolar\": [{\"marker\": {\"line\": {\"color\": \"#E5ECF6\", \"width\": 0.5}}, \"type\": \"barpolar\"}], \"carpet\": [{\"aaxis\": {\"endlinecolor\": \"#2a3f5f\", \"gridcolor\": \"white\", \"linecolor\": \"white\", \"minorgridcolor\": \"white\", \"startlinecolor\": \"#2a3f5f\"}, \"baxis\": {\"endlinecolor\": \"#2a3f5f\", \"gridcolor\": \"white\", \"linecolor\": \"white\", \"minorgridcolor\": \"white\", \"startlinecolor\": \"#2a3f5f\"}, \"type\": \"carpet\"}], \"choropleth\": [{\"colorbar\": {\"outlinewidth\": 0, \"ticks\": \"\"}, \"type\": \"choropleth\"}], \"contour\": [{\"colorbar\": {\"outlinewidth\": 0, \"ticks\": \"\"}, \"colorscale\": [[0.0, \"#0d0887\"], [0.1111111111111111, \"#46039f\"], [0.2222222222222222, \"#7201a8\"], [0.3333333333333333, \"#9c179e\"], [0.4444444444444444, \"#bd3786\"], [0.5555555555555556, \"#d8576b\"], [0.6666666666666666, \"#ed7953\"], [0.7777777777777778, \"#fb9f3a\"], [0.8888888888888888, \"#fdca26\"], [1.0, \"#f0f921\"]], \"type\": \"contour\"}], \"contourcarpet\": [{\"colorbar\": {\"outlinewidth\": 0, \"ticks\": \"\"}, \"type\": \"contourcarpet\"}], \"heatmap\": [{\"colorbar\": {\"outlinewidth\": 0, \"ticks\": \"\"}, \"colorscale\": [[0.0, \"#0d0887\"], [0.1111111111111111, \"#46039f\"], [0.2222222222222222, \"#7201a8\"], [0.3333333333333333, \"#9c179e\"], [0.4444444444444444, \"#bd3786\"], [0.5555555555555556, \"#d8576b\"], [0.6666666666666666, \"#ed7953\"], [0.7777777777777778, \"#fb9f3a\"], [0.8888888888888888, \"#fdca26\"], [1.0, \"#f0f921\"]], \"type\": \"heatmap\"}], \"heatmapgl\": [{\"colorbar\": {\"outlinewidth\": 0, \"ticks\": \"\"}, \"colorscale\": [[0.0, \"#0d0887\"], [0.1111111111111111, \"#46039f\"], [0.2222222222222222, \"#7201a8\"], [0.3333333333333333, \"#9c179e\"], [0.4444444444444444, \"#bd3786\"], [0.5555555555555556, \"#d8576b\"], [0.6666666666666666, \"#ed7953\"], [0.7777777777777778, \"#fb9f3a\"], [0.8888888888888888, \"#fdca26\"], [1.0, \"#f0f921\"]], \"type\": \"heatmapgl\"}], \"histogram\": [{\"marker\": {\"colorbar\": {\"outlinewidth\": 0, \"ticks\": \"\"}}, \"type\": \"histogram\"}], \"histogram2d\": [{\"colorbar\": {\"outlinewidth\": 0, \"ticks\": \"\"}, \"colorscale\": [[0.0, \"#0d0887\"], [0.1111111111111111, \"#46039f\"], [0.2222222222222222, \"#7201a8\"], [0.3333333333333333, \"#9c179e\"], [0.4444444444444444, \"#bd3786\"], [0.5555555555555556, \"#d8576b\"], [0.6666666666666666, \"#ed7953\"], [0.7777777777777778, \"#fb9f3a\"], [0.8888888888888888, \"#fdca26\"], [1.0, \"#f0f921\"]], \"type\": \"histogram2d\"}], \"histogram2dcontour\": [{\"colorbar\": {\"outlinewidth\": 0, \"ticks\": \"\"}, \"colorscale\": [[0.0, \"#0d0887\"], [0.1111111111111111, \"#46039f\"], [0.2222222222222222, \"#7201a8\"], [0.3333333333333333, \"#9c179e\"], [0.4444444444444444, \"#bd3786\"], [0.5555555555555556, \"#d8576b\"], [0.6666666666666666, \"#ed7953\"], [0.7777777777777778, \"#fb9f3a\"], [0.8888888888888888, \"#fdca26\"], [1.0, \"#f0f921\"]], \"type\": \"histogram2dcontour\"}], \"mesh3d\": [{\"colorbar\": {\"outlinewidth\": 0, \"ticks\": \"\"}, \"type\": \"mesh3d\"}], \"parcoords\": [{\"line\": {\"colorbar\": {\"outlinewidth\": 0, \"ticks\": \"\"}}, \"type\": \"parcoords\"}], \"pie\": [{\"automargin\": true, \"type\": \"pie\"}], \"scatter\": [{\"marker\": {\"colorbar\": {\"outlinewidth\": 0, \"ticks\": \"\"}}, \"type\": \"scatter\"}], \"scatter3d\": [{\"line\": {\"colorbar\": {\"outlinewidth\": 0, \"ticks\": \"\"}}, \"marker\": {\"colorbar\": {\"outlinewidth\": 0, \"ticks\": \"\"}}, \"type\": \"scatter3d\"}], \"scattercarpet\": [{\"marker\": {\"colorbar\": {\"outlinewidth\": 0, \"ticks\": \"\"}}, \"type\": \"scattercarpet\"}], \"scattergeo\": [{\"marker\": {\"colorbar\": {\"outlinewidth\": 0, \"ticks\": \"\"}}, \"type\": \"scattergeo\"}], \"scattergl\": [{\"marker\": {\"colorbar\": {\"outlinewidth\": 0, \"ticks\": \"\"}}, \"type\": \"scattergl\"}], \"scattermapbox\": [{\"marker\": {\"colorbar\": {\"outlinewidth\": 0, \"ticks\": \"\"}}, \"type\": \"scattermapbox\"}], \"scatterpolar\": [{\"marker\": {\"colorbar\": {\"outlinewidth\": 0, \"ticks\": \"\"}}, \"type\": \"scatterpolar\"}], \"scatterpolargl\": [{\"marker\": {\"colorbar\": {\"outlinewidth\": 0, \"ticks\": \"\"}}, \"type\": \"scatterpolargl\"}], \"scatterternary\": [{\"marker\": {\"colorbar\": {\"outlinewidth\": 0, \"ticks\": \"\"}}, \"type\": \"scatterternary\"}], \"surface\": [{\"colorbar\": {\"outlinewidth\": 0, \"ticks\": \"\"}, \"colorscale\": [[0.0, \"#0d0887\"], [0.1111111111111111, \"#46039f\"], [0.2222222222222222, \"#7201a8\"], [0.3333333333333333, \"#9c179e\"], [0.4444444444444444, \"#bd3786\"], [0.5555555555555556, \"#d8576b\"], [0.6666666666666666, \"#ed7953\"], [0.7777777777777778, \"#fb9f3a\"], [0.8888888888888888, \"#fdca26\"], [1.0, \"#f0f921\"]], \"type\": \"surface\"}], \"table\": [{\"cells\": {\"fill\": {\"color\": \"#EBF0F8\"}, \"line\": {\"color\": \"white\"}}, \"header\": {\"fill\": {\"color\": \"#C8D4E3\"}, \"line\": {\"color\": \"white\"}}, \"type\": \"table\"}]}, \"layout\": {\"annotationdefaults\": {\"arrowcolor\": \"#2a3f5f\", \"arrowhead\": 0, \"arrowwidth\": 1}, \"coloraxis\": {\"colorbar\": {\"outlinewidth\": 0, \"ticks\": \"\"}}, \"colorscale\": {\"diverging\": [[0, \"#8e0152\"], [0.1, \"#c51b7d\"], [0.2, \"#de77ae\"], [0.3, \"#f1b6da\"], [0.4, \"#fde0ef\"], [0.5, \"#f7f7f7\"], [0.6, \"#e6f5d0\"], [0.7, \"#b8e186\"], [0.8, \"#7fbc41\"], [0.9, \"#4d9221\"], [1, \"#276419\"]], \"sequential\": [[0.0, \"#0d0887\"], [0.1111111111111111, \"#46039f\"], [0.2222222222222222, \"#7201a8\"], [0.3333333333333333, \"#9c179e\"], [0.4444444444444444, \"#bd3786\"], [0.5555555555555556, \"#d8576b\"], [0.6666666666666666, \"#ed7953\"], [0.7777777777777778, \"#fb9f3a\"], [0.8888888888888888, \"#fdca26\"], [1.0, \"#f0f921\"]], \"sequentialminus\": [[0.0, \"#0d0887\"], [0.1111111111111111, \"#46039f\"], [0.2222222222222222, \"#7201a8\"], [0.3333333333333333, \"#9c179e\"], [0.4444444444444444, \"#bd3786\"], [0.5555555555555556, \"#d8576b\"], [0.6666666666666666, \"#ed7953\"], [0.7777777777777778, \"#fb9f3a\"], [0.8888888888888888, \"#fdca26\"], [1.0, \"#f0f921\"]]}, \"colorway\": [\"#636efa\", \"#EF553B\", \"#00cc96\", \"#ab63fa\", \"#FFA15A\", \"#19d3f3\", \"#FF6692\", \"#B6E880\", \"#FF97FF\", \"#FECB52\"], \"font\": {\"color\": \"#2a3f5f\"}, \"geo\": {\"bgcolor\": \"white\", \"lakecolor\": \"white\", \"landcolor\": \"#E5ECF6\", \"showlakes\": true, \"showland\": true, \"subunitcolor\": \"white\"}, \"hoverlabel\": {\"align\": \"left\"}, \"hovermode\": \"closest\", \"mapbox\": {\"style\": \"light\"}, \"paper_bgcolor\": \"white\", \"plot_bgcolor\": \"#E5ECF6\", \"polar\": {\"angularaxis\": {\"gridcolor\": \"white\", \"linecolor\": \"white\", \"ticks\": \"\"}, \"bgcolor\": \"#E5ECF6\", \"radialaxis\": {\"gridcolor\": \"white\", \"linecolor\": \"white\", \"ticks\": \"\"}}, \"scene\": {\"xaxis\": {\"backgroundcolor\": \"#E5ECF6\", \"gridcolor\": \"white\", \"gridwidth\": 2, \"linecolor\": \"white\", \"showbackground\": true, \"ticks\": \"\", \"zerolinecolor\": \"white\"}, \"yaxis\": {\"backgroundcolor\": \"#E5ECF6\", \"gridcolor\": \"white\", \"gridwidth\": 2, \"linecolor\": \"white\", \"showbackground\": true, \"ticks\": \"\", \"zerolinecolor\": \"white\"}, \"zaxis\": {\"backgroundcolor\": \"#E5ECF6\", \"gridcolor\": \"white\", \"gridwidth\": 2, \"linecolor\": \"white\", \"showbackground\": true, \"ticks\": \"\", \"zerolinecolor\": \"white\"}}, \"shapedefaults\": {\"line\": {\"color\": \"#2a3f5f\"}}, \"ternary\": {\"aaxis\": {\"gridcolor\": \"white\", \"linecolor\": \"white\", \"ticks\": \"\"}, \"baxis\": {\"gridcolor\": \"white\", \"linecolor\": \"white\", \"ticks\": \"\"}, \"bgcolor\": \"#E5ECF6\", \"caxis\": {\"gridcolor\": \"white\", \"linecolor\": \"white\", \"ticks\": \"\"}}, \"title\": {\"x\": 0.05}, \"xaxis\": {\"automargin\": true, \"gridcolor\": \"white\", \"linecolor\": \"white\", \"ticks\": \"\", \"title\": {\"standoff\": 15}, \"zerolinecolor\": \"white\", \"zerolinewidth\": 2}, \"yaxis\": {\"automargin\": true, \"gridcolor\": \"white\", \"linecolor\": \"white\", \"ticks\": \"\", \"title\": {\"standoff\": 15}, \"zerolinecolor\": \"white\", \"zerolinewidth\": 2}}}, \"title\": {\"text\": \"<b>Pew Research Center Democratic Primary Survey</b>\"}, \"xaxis\": {\"anchor\": \"y\", \"domain\": [0.0, 0.2888888888888889]}, \"xaxis10\": {\"anchor\": \"y10\", \"domain\": [0.0, 0.2888888888888889]}, \"xaxis11\": {\"anchor\": \"y11\", \"domain\": [0.35555555555555557, 0.6444444444444445]}, \"xaxis12\": {\"anchor\": \"y12\", \"domain\": [0.7111111111111111, 1.0]}, \"xaxis13\": {\"anchor\": \"y13\", \"domain\": [0.0, 0.2888888888888889]}, \"xaxis14\": {\"anchor\": \"y14\", \"domain\": [0.35555555555555557, 0.6444444444444445]}, \"xaxis15\": {\"anchor\": \"y15\", \"domain\": [0.7111111111111111, 1.0]}, \"xaxis16\": {\"anchor\": \"y16\", \"domain\": [0.0, 0.2888888888888889]}, \"xaxis17\": {\"anchor\": \"y17\", \"domain\": [0.35555555555555557, 0.6444444444444445]}, \"xaxis18\": {\"anchor\": \"y18\", \"domain\": [0.7111111111111111, 1.0]}, \"xaxis19\": {\"anchor\": \"y19\", \"domain\": [0.0, 0.2888888888888889]}, \"xaxis2\": {\"anchor\": \"y2\", \"domain\": [0.35555555555555557, 0.6444444444444445]}, \"xaxis20\": {\"anchor\": \"y20\", \"domain\": [0.35555555555555557, 0.6444444444444445]}, \"xaxis21\": {\"anchor\": \"y21\", \"domain\": [0.7111111111111111, 1.0]}, \"xaxis22\": {\"anchor\": \"y22\", \"domain\": [0.0, 0.2888888888888889]}, \"xaxis23\": {\"anchor\": \"y23\", \"domain\": [0.35555555555555557, 0.6444444444444445]}, \"xaxis24\": {\"anchor\": \"y24\", \"domain\": [0.7111111111111111, 1.0]}, \"xaxis25\": {\"anchor\": \"y25\", \"domain\": [0.0, 0.2888888888888889]}, \"xaxis26\": {\"anchor\": \"y26\", \"domain\": [0.35555555555555557, 0.6444444444444445]}, \"xaxis27\": {\"anchor\": \"y27\", \"domain\": [0.7111111111111111, 1.0]}, \"xaxis28\": {\"anchor\": \"y28\", \"domain\": [0.0, 0.2888888888888889]}, \"xaxis29\": {\"anchor\": \"y29\", \"domain\": [0.35555555555555557, 0.6444444444444445]}, \"xaxis3\": {\"anchor\": \"y3\", \"domain\": [0.7111111111111111, 1.0]}, \"xaxis30\": {\"anchor\": \"y30\", \"domain\": [0.7111111111111111, 1.0]}, \"xaxis31\": {\"anchor\": \"y31\", \"domain\": [0.0, 0.2888888888888889]}, \"xaxis32\": {\"anchor\": \"y32\", \"domain\": [0.35555555555555557, 0.6444444444444445]}, \"xaxis33\": {\"anchor\": \"y33\", \"domain\": [0.7111111111111111, 1.0]}, \"xaxis4\": {\"anchor\": \"y4\", \"domain\": [0.0, 0.2888888888888889]}, \"xaxis5\": {\"anchor\": \"y5\", \"domain\": [0.35555555555555557, 0.6444444444444445]}, \"xaxis6\": {\"anchor\": \"y6\", \"domain\": [0.7111111111111111, 1.0]}, \"xaxis7\": {\"anchor\": \"y7\", \"domain\": [0.0, 0.2888888888888889]}, \"xaxis8\": {\"anchor\": \"y8\", \"domain\": [0.35555555555555557, 0.6444444444444445]}, \"xaxis9\": {\"anchor\": \"y9\", \"domain\": [0.7111111111111111, 1.0]}, \"yaxis\": {\"anchor\": \"x\", \"domain\": [0.9504132231404958, 0.9999999999999999]}, \"yaxis10\": {\"anchor\": \"x10\", \"domain\": [0.665289256198347, 0.7148760330578511]}, \"yaxis11\": {\"anchor\": \"x11\", \"domain\": [0.665289256198347, 0.7148760330578511]}, \"yaxis12\": {\"anchor\": \"x12\", \"domain\": [0.665289256198347, 0.7148760330578511]}, \"yaxis13\": {\"anchor\": \"x13\", \"domain\": [0.5702479338842974, 0.6198347107438015]}, \"yaxis14\": {\"anchor\": \"x14\", \"domain\": [0.5702479338842974, 0.6198347107438015]}, \"yaxis15\": {\"anchor\": \"x15\", \"domain\": [0.5702479338842974, 0.6198347107438015]}, \"yaxis16\": {\"anchor\": \"x16\", \"domain\": [0.4752066115702479, 0.524793388429752]}, \"yaxis17\": {\"anchor\": \"x17\", \"domain\": [0.4752066115702479, 0.524793388429752]}, \"yaxis18\": {\"anchor\": \"x18\", \"domain\": [0.4752066115702479, 0.524793388429752]}, \"yaxis19\": {\"anchor\": \"x19\", \"domain\": [0.3801652892561983, 0.42975206611570244]}, \"yaxis2\": {\"anchor\": \"x2\", \"domain\": [0.9504132231404958, 0.9999999999999999]}, \"yaxis20\": {\"anchor\": \"x20\", \"domain\": [0.3801652892561983, 0.42975206611570244]}, \"yaxis21\": {\"anchor\": \"x21\", \"domain\": [0.3801652892561983, 0.42975206611570244]}, \"yaxis22\": {\"anchor\": \"x22\", \"domain\": [0.2851239669421487, 0.33471074380165283]}, \"yaxis23\": {\"anchor\": \"x23\", \"domain\": [0.2851239669421487, 0.33471074380165283]}, \"yaxis24\": {\"anchor\": \"x24\", \"domain\": [0.2851239669421487, 0.33471074380165283]}, \"yaxis25\": {\"anchor\": \"x25\", \"domain\": [0.19008264462809915, 0.23966942148760328]}, \"yaxis26\": {\"anchor\": \"x26\", \"domain\": [0.19008264462809915, 0.23966942148760328]}, \"yaxis27\": {\"anchor\": \"x27\", \"domain\": [0.19008264462809915, 0.23966942148760328]}, \"yaxis28\": {\"anchor\": \"x28\", \"domain\": [0.09504132231404958, 0.1446280991735537]}, \"yaxis29\": {\"anchor\": \"x29\", \"domain\": [0.09504132231404958, 0.1446280991735537]}, \"yaxis3\": {\"anchor\": \"x3\", \"domain\": [0.9504132231404958, 0.9999999999999999]}, \"yaxis30\": {\"anchor\": \"x30\", \"domain\": [0.09504132231404958, 0.1446280991735537]}, \"yaxis31\": {\"anchor\": \"x31\", \"domain\": [0.0, 0.04958677685950413]}, \"yaxis32\": {\"anchor\": \"x32\", \"domain\": [0.0, 0.04958677685950413]}, \"yaxis33\": {\"anchor\": \"x33\", \"domain\": [0.0, 0.04958677685950413]}, \"yaxis4\": {\"anchor\": \"x4\", \"domain\": [0.8553719008264462, 0.9049586776859503]}, \"yaxis5\": {\"anchor\": \"x5\", \"domain\": [0.8553719008264462, 0.9049586776859503]}, \"yaxis6\": {\"anchor\": \"x6\", \"domain\": [0.8553719008264462, 0.9049586776859503]}, \"yaxis7\": {\"anchor\": \"x7\", \"domain\": [0.7603305785123966, 0.8099173553719007]}, \"yaxis8\": {\"anchor\": \"x8\", \"domain\": [0.7603305785123966, 0.8099173553719007]}, \"yaxis9\": {\"anchor\": \"x9\", \"domain\": [0.7603305785123966, 0.8099173553719007]}},\n",
       "                        {\"responsive\": true}\n",
       "                    ).then(function(){\n",
       "                            \n",
       "var gd = document.getElementById('059b0464-629c-43f9-b735-d20dd5c57c1e');\n",
       "var x = new MutationObserver(function (mutations, observer) {{\n",
       "        var display = window.getComputedStyle(gd).display;\n",
       "        if (!display || display === 'none') {{\n",
       "            console.log([gd, 'removed!']);\n",
       "            Plotly.purge(gd);\n",
       "            observer.disconnect();\n",
       "        }}\n",
       "}});\n",
       "\n",
       "// Listen for the removal of the full notebook cells\n",
       "var notebookContainer = gd.closest('#notebook-container');\n",
       "if (notebookContainer) {{\n",
       "    x.observe(notebookContainer, {childList: true});\n",
       "}}\n",
       "\n",
       "// Listen for the clearing of the current output cell\n",
       "var outputEl = gd.closest('.output');\n",
       "if (outputEl) {{\n",
       "    x.observe(outputEl, {childList: true});\n",
       "}}\n",
       "\n",
       "                        })\n",
       "                };\n",
       "                });\n",
       "            </script>\n",
       "        </div>"
      ]
     },
     "metadata": {},
     "output_type": "display_data"
    }
   ],
   "source": [
    "from plotly.subplots import make_subplots\n",
    "\n",
    "fig = make_subplots(\n",
    "    rows=(len(pew_dims)+2)//3,\n",
    "    cols=3,\n",
    "    subplot_titles=pew_dims)\n",
    "for i,(dim, dim_df) in enumerate(pew_survey.groupby(level=0)):\n",
    "    row = (i//3)+1\n",
    "    col = (i%3)+1\n",
    "\n",
    "    dim_df = dim_df.reset_index()\n",
    "    for _,demog in dim_df.iterrows():\n",
    "        fig.add_trace(go.Bar(name=demog[\"Demographic\"], x=cands, y=demog[cands],legendgroup=dim),\n",
    "                      row=row,\n",
    "                      col=col)\n",
    "        \n",
    "fig.update_layout(height=2000,title_text=\"<b>Pew Research Center Democratic Primary Survey</b>\")\n",
    "# fig.write_html(\"visualizations/Pew_Research_Center_Democratic_Primary_Survey.html\")\n",
    "fig.show()"
   ]
  },
  {
   "cell_type": "markdown",
   "metadata": {},
   "source": [
    "## Age Validation\n",
    "\n",
    "Going to test how well the age of a candidates supporters lines up with the dimension, and also how well the age of the candidate lines up with the dimension (harder to quantify if there policies benefit older vs younger folks)\n",
    "\n",
    "**NOTE:** Age would be age when they took office."
   ]
  },
  {
   "cell_type": "code",
   "execution_count": 88,
   "metadata": {},
   "outputs": [
    {
     "data": {
      "text/html": [
       "<div>\n",
       "<style scoped>\n",
       "    .dataframe tbody tr th:only-of-type {\n",
       "        vertical-align: middle;\n",
       "    }\n",
       "\n",
       "    .dataframe tbody tr th {\n",
       "        vertical-align: top;\n",
       "    }\n",
       "\n",
       "    .dataframe thead th {\n",
       "        text-align: right;\n",
       "    }\n",
       "</style>\n",
       "<table border=\"1\" class=\"dataframe\">\n",
       "  <thead>\n",
       "    <tr style=\"text-align: right;\">\n",
       "      <th>candidate</th>\n",
       "      <th>age</th>\n",
       "      <th>reddit_projection</th>\n",
       "    </tr>\n",
       "  </thead>\n",
       "  <tbody>\n",
       "    <tr>\n",
       "      <th>Biden</th>\n",
       "      <td>0.249573</td>\n",
       "      <td>0.107850</td>\n",
       "    </tr>\n",
       "    <tr>\n",
       "      <th>Buttigieg</th>\n",
       "      <td>0.120000</td>\n",
       "      <td>0.088497</td>\n",
       "    </tr>\n",
       "    <tr>\n",
       "      <th>Klobuchar</th>\n",
       "      <td>0.370370</td>\n",
       "      <td>0.101380</td>\n",
       "    </tr>\n",
       "    <tr>\n",
       "      <th>Sanders</th>\n",
       "      <td>-0.322917</td>\n",
       "      <td>0.014061</td>\n",
       "    </tr>\n",
       "    <tr>\n",
       "      <th>Warren</th>\n",
       "      <td>-0.113095</td>\n",
       "      <td>0.143491</td>\n",
       "    </tr>\n",
       "    <tr>\n",
       "      <th>Yang</th>\n",
       "      <td>-0.614035</td>\n",
       "      <td>-0.072915</td>\n",
       "    </tr>\n",
       "  </tbody>\n",
       "</table>\n",
       "</div>"
      ],
      "text/plain": [
       "candidate       age  reddit_projection\n",
       "Biden      0.249573           0.107850\n",
       "Buttigieg  0.120000           0.088497\n",
       "Klobuchar  0.370370           0.101380\n",
       "Sanders   -0.322917           0.014061\n",
       "Warren    -0.113095           0.143491\n",
       "Yang      -0.614035          -0.072915"
      ]
     },
     "execution_count": 88,
     "metadata": {},
     "output_type": "execute_result"
    }
   ],
   "source": [
    "age_df = pd.pivot_table(pew_survey.loc[\"Age (detailed)\",:].reset_index(), values=cands, columns=['Demographic'])\n",
    "age_df.columns = age_df.columns.rename(\"candidate\")\n",
    "age_df[\"age\"] = age_df.apply(survey_to_num,axis=1)\n",
    "i_dim = calculate_dim(age_dim.subreddits,embedding)\n",
    "age_df[\"reddit_projection\"] = [project_dim(i_dim,c,embedding) for c in cand_subs]\n",
    "age_df = age_df[[\"age\",\"reddit_projection\"]]\n",
    "age_df"
   ]
  },
  {
   "cell_type": "code",
   "execution_count": 89,
   "metadata": {},
   "outputs": [
    {
     "data": {
      "text/plain": [
       "0.6485174909363469"
      ]
     },
     "execution_count": 89,
     "metadata": {},
     "output_type": "execute_result"
    }
   ],
   "source": [
    "# Fit a linear regression to our model and its results\n",
    "model = np.polyfit(age_df[\"reddit_projection\"], age_df[\"age\"], 1)\n",
    "predict = np.poly1d(model)\n",
    "r2 = r2_score(age_df[\"age\"], predict(age_df[\"reddit_projection\"]))\n",
    "r2"
   ]
  },
  {
   "cell_type": "code",
   "execution_count": 91,
   "metadata": {
    "scrolled": false
   },
   "outputs": [
    {
     "data": {
      "application/vnd.plotly.v1+json": {
       "config": {
        "plotlyServerURL": "https://plot.ly"
       },
       "data": [
        {
         "hovertemplate": "Subreddit Age=%{x}<br>Surveyed Age=%{y}<br>index=%{text}<extra></extra>",
         "legendgroup": "",
         "marker": {
          "color": "#1F77B4",
          "symbol": "circle"
         },
         "mode": "markers+text",
         "name": "",
         "orientation": "v",
         "showlegend": false,
         "text": [
          "Biden",
          "Buttigieg",
          "Klobuchar",
          "Sanders",
          "Warren",
          "Yang"
         ],
         "textposition": "bottom center",
         "type": "scatter",
         "x": [
          0.10784980089992226,
          0.08849749938156204,
          0.10138046944828202,
          0.014061033599988336,
          0.14349130334348428,
          -0.0729153306997785
         ],
         "xaxis": "x",
         "y": [
          0.24957264957264952,
          0.11999999999999994,
          0.37037037037037035,
          -0.3229166666666667,
          -0.11309523809523814,
          -0.6140350877192983
         ],
         "yaxis": "y"
        },
        {
         "line": {
          "color": "rgba(0,0,160,0.3)",
          "dash": "dash",
          "width": 2
         },
         "mode": "lines",
         "name": "Linear Regression",
         "type": "scatter",
         "x": [
          -0.09478992990971205,
          0.1865386943465296
         ],
         "y": [
          -0.6501856129996305,
          0.4120046864751084
         ]
        }
       ],
       "layout": {
        "annotations": [
         {
          "showarrow": false,
          "text": "<b>Support Trends Young<br>Subreddit Trends Young</b>",
          "x": -0.056873957945827225,
          "xref": "x",
          "y": -0.7343859649122808,
          "yref": "y"
         },
         {
          "showarrow": false,
          "text": "<b>Subreddit Trends Old</b>",
          "x": 0.14923095547722368,
          "xref": "x",
          "y": -0.7343859649122808,
          "yref": "y"
         },
         {
          "showarrow": false,
          "text": "<b>Support Trends Old</b>",
          "x": -0.06161345444131284,
          "xref": "x",
          "y": 0.48148148148148145,
          "yref": "y"
         },
         {
          "text": "r<sup>2</sup>=0.65",
          "x": 0,
          "xref": "x",
          "y": -0.2922947502970851,
          "yref": "y"
         }
        ],
        "legend": {
         "tracegroupgap": 0
        },
        "template": {
         "data": {
          "bar": [
           {
            "error_x": {
             "color": "rgb(36,36,36)"
            },
            "error_y": {
             "color": "rgb(36,36,36)"
            },
            "marker": {
             "line": {
              "color": "white",
              "width": 0.5
             }
            },
            "type": "bar"
           }
          ],
          "barpolar": [
           {
            "marker": {
             "line": {
              "color": "white",
              "width": 0.5
             }
            },
            "type": "barpolar"
           }
          ],
          "carpet": [
           {
            "aaxis": {
             "endlinecolor": "rgb(36,36,36)",
             "gridcolor": "white",
             "linecolor": "white",
             "minorgridcolor": "white",
             "startlinecolor": "rgb(36,36,36)"
            },
            "baxis": {
             "endlinecolor": "rgb(36,36,36)",
             "gridcolor": "white",
             "linecolor": "white",
             "minorgridcolor": "white",
             "startlinecolor": "rgb(36,36,36)"
            },
            "type": "carpet"
           }
          ],
          "choropleth": [
           {
            "colorbar": {
             "outlinewidth": 1,
             "tickcolor": "rgb(36,36,36)",
             "ticks": "outside"
            },
            "type": "choropleth"
           }
          ],
          "contour": [
           {
            "colorbar": {
             "outlinewidth": 1,
             "tickcolor": "rgb(36,36,36)",
             "ticks": "outside"
            },
            "colorscale": [
             [
              0,
              "#440154"
             ],
             [
              0.1111111111111111,
              "#482878"
             ],
             [
              0.2222222222222222,
              "#3e4989"
             ],
             [
              0.3333333333333333,
              "#31688e"
             ],
             [
              0.4444444444444444,
              "#26828e"
             ],
             [
              0.5555555555555556,
              "#1f9e89"
             ],
             [
              0.6666666666666666,
              "#35b779"
             ],
             [
              0.7777777777777778,
              "#6ece58"
             ],
             [
              0.8888888888888888,
              "#b5de2b"
             ],
             [
              1,
              "#fde725"
             ]
            ],
            "type": "contour"
           }
          ],
          "contourcarpet": [
           {
            "colorbar": {
             "outlinewidth": 1,
             "tickcolor": "rgb(36,36,36)",
             "ticks": "outside"
            },
            "type": "contourcarpet"
           }
          ],
          "heatmap": [
           {
            "colorbar": {
             "outlinewidth": 1,
             "tickcolor": "rgb(36,36,36)",
             "ticks": "outside"
            },
            "colorscale": [
             [
              0,
              "#440154"
             ],
             [
              0.1111111111111111,
              "#482878"
             ],
             [
              0.2222222222222222,
              "#3e4989"
             ],
             [
              0.3333333333333333,
              "#31688e"
             ],
             [
              0.4444444444444444,
              "#26828e"
             ],
             [
              0.5555555555555556,
              "#1f9e89"
             ],
             [
              0.6666666666666666,
              "#35b779"
             ],
             [
              0.7777777777777778,
              "#6ece58"
             ],
             [
              0.8888888888888888,
              "#b5de2b"
             ],
             [
              1,
              "#fde725"
             ]
            ],
            "type": "heatmap"
           }
          ],
          "heatmapgl": [
           {
            "colorbar": {
             "outlinewidth": 1,
             "tickcolor": "rgb(36,36,36)",
             "ticks": "outside"
            },
            "colorscale": [
             [
              0,
              "#440154"
             ],
             [
              0.1111111111111111,
              "#482878"
             ],
             [
              0.2222222222222222,
              "#3e4989"
             ],
             [
              0.3333333333333333,
              "#31688e"
             ],
             [
              0.4444444444444444,
              "#26828e"
             ],
             [
              0.5555555555555556,
              "#1f9e89"
             ],
             [
              0.6666666666666666,
              "#35b779"
             ],
             [
              0.7777777777777778,
              "#6ece58"
             ],
             [
              0.8888888888888888,
              "#b5de2b"
             ],
             [
              1,
              "#fde725"
             ]
            ],
            "type": "heatmapgl"
           }
          ],
          "histogram": [
           {
            "marker": {
             "line": {
              "color": "white",
              "width": 0.6
             }
            },
            "type": "histogram"
           }
          ],
          "histogram2d": [
           {
            "colorbar": {
             "outlinewidth": 1,
             "tickcolor": "rgb(36,36,36)",
             "ticks": "outside"
            },
            "colorscale": [
             [
              0,
              "#440154"
             ],
             [
              0.1111111111111111,
              "#482878"
             ],
             [
              0.2222222222222222,
              "#3e4989"
             ],
             [
              0.3333333333333333,
              "#31688e"
             ],
             [
              0.4444444444444444,
              "#26828e"
             ],
             [
              0.5555555555555556,
              "#1f9e89"
             ],
             [
              0.6666666666666666,
              "#35b779"
             ],
             [
              0.7777777777777778,
              "#6ece58"
             ],
             [
              0.8888888888888888,
              "#b5de2b"
             ],
             [
              1,
              "#fde725"
             ]
            ],
            "type": "histogram2d"
           }
          ],
          "histogram2dcontour": [
           {
            "colorbar": {
             "outlinewidth": 1,
             "tickcolor": "rgb(36,36,36)",
             "ticks": "outside"
            },
            "colorscale": [
             [
              0,
              "#440154"
             ],
             [
              0.1111111111111111,
              "#482878"
             ],
             [
              0.2222222222222222,
              "#3e4989"
             ],
             [
              0.3333333333333333,
              "#31688e"
             ],
             [
              0.4444444444444444,
              "#26828e"
             ],
             [
              0.5555555555555556,
              "#1f9e89"
             ],
             [
              0.6666666666666666,
              "#35b779"
             ],
             [
              0.7777777777777778,
              "#6ece58"
             ],
             [
              0.8888888888888888,
              "#b5de2b"
             ],
             [
              1,
              "#fde725"
             ]
            ],
            "type": "histogram2dcontour"
           }
          ],
          "mesh3d": [
           {
            "colorbar": {
             "outlinewidth": 1,
             "tickcolor": "rgb(36,36,36)",
             "ticks": "outside"
            },
            "type": "mesh3d"
           }
          ],
          "parcoords": [
           {
            "line": {
             "colorbar": {
              "outlinewidth": 1,
              "tickcolor": "rgb(36,36,36)",
              "ticks": "outside"
             }
            },
            "type": "parcoords"
           }
          ],
          "pie": [
           {
            "automargin": true,
            "type": "pie"
           }
          ],
          "scatter": [
           {
            "marker": {
             "colorbar": {
              "outlinewidth": 1,
              "tickcolor": "rgb(36,36,36)",
              "ticks": "outside"
             }
            },
            "type": "scatter"
           }
          ],
          "scatter3d": [
           {
            "line": {
             "colorbar": {
              "outlinewidth": 1,
              "tickcolor": "rgb(36,36,36)",
              "ticks": "outside"
             }
            },
            "marker": {
             "colorbar": {
              "outlinewidth": 1,
              "tickcolor": "rgb(36,36,36)",
              "ticks": "outside"
             }
            },
            "type": "scatter3d"
           }
          ],
          "scattercarpet": [
           {
            "marker": {
             "colorbar": {
              "outlinewidth": 1,
              "tickcolor": "rgb(36,36,36)",
              "ticks": "outside"
             }
            },
            "type": "scattercarpet"
           }
          ],
          "scattergeo": [
           {
            "marker": {
             "colorbar": {
              "outlinewidth": 1,
              "tickcolor": "rgb(36,36,36)",
              "ticks": "outside"
             }
            },
            "type": "scattergeo"
           }
          ],
          "scattergl": [
           {
            "marker": {
             "colorbar": {
              "outlinewidth": 1,
              "tickcolor": "rgb(36,36,36)",
              "ticks": "outside"
             }
            },
            "type": "scattergl"
           }
          ],
          "scattermapbox": [
           {
            "marker": {
             "colorbar": {
              "outlinewidth": 1,
              "tickcolor": "rgb(36,36,36)",
              "ticks": "outside"
             }
            },
            "type": "scattermapbox"
           }
          ],
          "scatterpolar": [
           {
            "marker": {
             "colorbar": {
              "outlinewidth": 1,
              "tickcolor": "rgb(36,36,36)",
              "ticks": "outside"
             }
            },
            "type": "scatterpolar"
           }
          ],
          "scatterpolargl": [
           {
            "marker": {
             "colorbar": {
              "outlinewidth": 1,
              "tickcolor": "rgb(36,36,36)",
              "ticks": "outside"
             }
            },
            "type": "scatterpolargl"
           }
          ],
          "scatterternary": [
           {
            "marker": {
             "colorbar": {
              "outlinewidth": 1,
              "tickcolor": "rgb(36,36,36)",
              "ticks": "outside"
             }
            },
            "type": "scatterternary"
           }
          ],
          "surface": [
           {
            "colorbar": {
             "outlinewidth": 1,
             "tickcolor": "rgb(36,36,36)",
             "ticks": "outside"
            },
            "colorscale": [
             [
              0,
              "#440154"
             ],
             [
              0.1111111111111111,
              "#482878"
             ],
             [
              0.2222222222222222,
              "#3e4989"
             ],
             [
              0.3333333333333333,
              "#31688e"
             ],
             [
              0.4444444444444444,
              "#26828e"
             ],
             [
              0.5555555555555556,
              "#1f9e89"
             ],
             [
              0.6666666666666666,
              "#35b779"
             ],
             [
              0.7777777777777778,
              "#6ece58"
             ],
             [
              0.8888888888888888,
              "#b5de2b"
             ],
             [
              1,
              "#fde725"
             ]
            ],
            "type": "surface"
           }
          ],
          "table": [
           {
            "cells": {
             "fill": {
              "color": "rgb(237,237,237)"
             },
             "line": {
              "color": "white"
             }
            },
            "header": {
             "fill": {
              "color": "rgb(217,217,217)"
             },
             "line": {
              "color": "white"
             }
            },
            "type": "table"
           }
          ]
         },
         "layout": {
          "annotationdefaults": {
           "arrowhead": 0,
           "arrowwidth": 1
          },
          "coloraxis": {
           "colorbar": {
            "outlinewidth": 1,
            "tickcolor": "rgb(36,36,36)",
            "ticks": "outside"
           }
          },
          "colorscale": {
           "diverging": [
            [
             0,
             "rgb(103,0,31)"
            ],
            [
             0.1,
             "rgb(178,24,43)"
            ],
            [
             0.2,
             "rgb(214,96,77)"
            ],
            [
             0.3,
             "rgb(244,165,130)"
            ],
            [
             0.4,
             "rgb(253,219,199)"
            ],
            [
             0.5,
             "rgb(247,247,247)"
            ],
            [
             0.6,
             "rgb(209,229,240)"
            ],
            [
             0.7,
             "rgb(146,197,222)"
            ],
            [
             0.8,
             "rgb(67,147,195)"
            ],
            [
             0.9,
             "rgb(33,102,172)"
            ],
            [
             1,
             "rgb(5,48,97)"
            ]
           ],
           "sequential": [
            [
             0,
             "#440154"
            ],
            [
             0.1111111111111111,
             "#482878"
            ],
            [
             0.2222222222222222,
             "#3e4989"
            ],
            [
             0.3333333333333333,
             "#31688e"
            ],
            [
             0.4444444444444444,
             "#26828e"
            ],
            [
             0.5555555555555556,
             "#1f9e89"
            ],
            [
             0.6666666666666666,
             "#35b779"
            ],
            [
             0.7777777777777778,
             "#6ece58"
            ],
            [
             0.8888888888888888,
             "#b5de2b"
            ],
            [
             1,
             "#fde725"
            ]
           ],
           "sequentialminus": [
            [
             0,
             "#440154"
            ],
            [
             0.1111111111111111,
             "#482878"
            ],
            [
             0.2222222222222222,
             "#3e4989"
            ],
            [
             0.3333333333333333,
             "#31688e"
            ],
            [
             0.4444444444444444,
             "#26828e"
            ],
            [
             0.5555555555555556,
             "#1f9e89"
            ],
            [
             0.6666666666666666,
             "#35b779"
            ],
            [
             0.7777777777777778,
             "#6ece58"
            ],
            [
             0.8888888888888888,
             "#b5de2b"
            ],
            [
             1,
             "#fde725"
            ]
           ]
          },
          "colorway": [
           "#1F77B4",
           "#FF7F0E",
           "#2CA02C",
           "#D62728",
           "#9467BD",
           "#8C564B",
           "#E377C2",
           "#7F7F7F",
           "#BCBD22",
           "#17BECF"
          ],
          "font": {
           "color": "rgb(36,36,36)"
          },
          "geo": {
           "bgcolor": "white",
           "lakecolor": "white",
           "landcolor": "white",
           "showlakes": true,
           "showland": true,
           "subunitcolor": "white"
          },
          "hoverlabel": {
           "align": "left"
          },
          "hovermode": "closest",
          "mapbox": {
           "style": "light"
          },
          "paper_bgcolor": "white",
          "plot_bgcolor": "white",
          "polar": {
           "angularaxis": {
            "gridcolor": "rgb(232,232,232)",
            "linecolor": "rgb(36,36,36)",
            "showgrid": false,
            "showline": true,
            "ticks": "outside"
           },
           "bgcolor": "white",
           "radialaxis": {
            "gridcolor": "rgb(232,232,232)",
            "linecolor": "rgb(36,36,36)",
            "showgrid": false,
            "showline": true,
            "ticks": "outside"
           }
          },
          "scene": {
           "xaxis": {
            "backgroundcolor": "white",
            "gridcolor": "rgb(232,232,232)",
            "gridwidth": 2,
            "linecolor": "rgb(36,36,36)",
            "showbackground": true,
            "showgrid": false,
            "showline": true,
            "ticks": "outside",
            "zeroline": false,
            "zerolinecolor": "rgb(36,36,36)"
           },
           "yaxis": {
            "backgroundcolor": "white",
            "gridcolor": "rgb(232,232,232)",
            "gridwidth": 2,
            "linecolor": "rgb(36,36,36)",
            "showbackground": true,
            "showgrid": false,
            "showline": true,
            "ticks": "outside",
            "zeroline": false,
            "zerolinecolor": "rgb(36,36,36)"
           },
           "zaxis": {
            "backgroundcolor": "white",
            "gridcolor": "rgb(232,232,232)",
            "gridwidth": 2,
            "linecolor": "rgb(36,36,36)",
            "showbackground": true,
            "showgrid": false,
            "showline": true,
            "ticks": "outside",
            "zeroline": false,
            "zerolinecolor": "rgb(36,36,36)"
           }
          },
          "shapedefaults": {
           "fillcolor": "black",
           "line": {
            "width": 0
           },
           "opacity": 0.3
          },
          "ternary": {
           "aaxis": {
            "gridcolor": "rgb(232,232,232)",
            "linecolor": "rgb(36,36,36)",
            "showgrid": false,
            "showline": true,
            "ticks": "outside"
           },
           "baxis": {
            "gridcolor": "rgb(232,232,232)",
            "linecolor": "rgb(36,36,36)",
            "showgrid": false,
            "showline": true,
            "ticks": "outside"
           },
           "bgcolor": "white",
           "caxis": {
            "gridcolor": "rgb(232,232,232)",
            "linecolor": "rgb(36,36,36)",
            "showgrid": false,
            "showline": true,
            "ticks": "outside"
           }
          },
          "title": {
           "x": 0.05
          },
          "xaxis": {
           "automargin": true,
           "gridcolor": "rgb(232,232,232)",
           "linecolor": "rgb(36,36,36)",
           "showgrid": false,
           "showline": true,
           "ticks": "outside",
           "title": {
            "standoff": 15
           },
           "zeroline": false,
           "zerolinecolor": "rgb(36,36,36)"
          },
          "yaxis": {
           "automargin": true,
           "gridcolor": "rgb(232,232,232)",
           "linecolor": "rgb(36,36,36)",
           "showgrid": false,
           "showline": true,
           "ticks": "outside",
           "title": {
            "standoff": 15
           },
           "zeroline": false,
           "zerolinecolor": "rgb(36,36,36)"
          }
         }
        },
        "title": {
         "text": "Subreddit Age Dimension Versus Support by Age"
        },
        "xaxis": {
         "anchor": "y",
         "domain": [
          0,
          1
         ],
         "range": [
          -0.09478992990971205,
          0.1865386943465296
         ],
         "title": {
          "text": "Subreddit Age"
         }
        },
        "yaxis": {
         "anchor": "x",
         "domain": [
          0,
          1
         ],
         "range": [
          -0.7982456140350878,
          0.48148148148148145
         ],
         "title": {
          "text": "Surveyed Age"
         }
        }
       }
      },
      "text/html": [
       "<div>\n",
       "        \n",
       "        \n",
       "            <div id=\"5f8a8611-dd00-4f9b-b99e-65425429edde\" class=\"plotly-graph-div\" style=\"height:525px; width:100%;\"></div>\n",
       "            <script type=\"text/javascript\">\n",
       "                require([\"plotly\"], function(Plotly) {\n",
       "                    window.PLOTLYENV=window.PLOTLYENV || {};\n",
       "                    \n",
       "                if (document.getElementById(\"5f8a8611-dd00-4f9b-b99e-65425429edde\")) {\n",
       "                    Plotly.newPlot(\n",
       "                        '5f8a8611-dd00-4f9b-b99e-65425429edde',\n",
       "                        [{\"hovertemplate\": \"Subreddit Age=%{x}<br>Surveyed Age=%{y}<br>index=%{text}<extra></extra>\", \"legendgroup\": \"\", \"marker\": {\"color\": \"#1F77B4\", \"symbol\": \"circle\"}, \"mode\": \"markers+text\", \"name\": \"\", \"orientation\": \"v\", \"showlegend\": false, \"text\": [\"Biden\", \"Buttigieg\", \"Klobuchar\", \"Sanders\", \"Warren\", \"Yang\"], \"textposition\": \"bottom center\", \"type\": \"scatter\", \"x\": [0.10784980089992226, 0.08849749938156204, 0.10138046944828202, 0.014061033599988336, 0.14349130334348428, -0.0729153306997785], \"xaxis\": \"x\", \"y\": [0.24957264957264952, 0.11999999999999994, 0.37037037037037035, -0.3229166666666667, -0.11309523809523814, -0.6140350877192983], \"yaxis\": \"y\"}, {\"line\": {\"color\": \"rgba(0,0,160,0.3)\", \"dash\": \"dash\", \"width\": 2}, \"mode\": \"lines\", \"name\": \"Linear Regression\", \"type\": \"scatter\", \"x\": [-0.09478992990971205, 0.1865386943465296], \"y\": [-0.6501856129996305, 0.4120046864751084]}],\n",
       "                        {\"annotations\": [{\"showarrow\": false, \"text\": \"<b>Support Trends Young<br>Subreddit Trends Young</b>\", \"x\": -0.056873957945827225, \"xref\": \"x\", \"y\": -0.7343859649122808, \"yref\": \"y\"}, {\"showarrow\": false, \"text\": \"<b>Subreddit Trends Old</b>\", \"x\": 0.14923095547722368, \"xref\": \"x\", \"y\": -0.7343859649122808, \"yref\": \"y\"}, {\"showarrow\": false, \"text\": \"<b>Support Trends Old</b>\", \"x\": -0.06161345444131284, \"xref\": \"x\", \"y\": 0.48148148148148145, \"yref\": \"y\"}, {\"text\": \"r<sup>2</sup>=0.65\", \"x\": 0, \"xref\": \"x\", \"y\": -0.2922947502970851, \"yref\": \"y\"}], \"legend\": {\"tracegroupgap\": 0}, \"template\": {\"data\": {\"bar\": [{\"error_x\": {\"color\": \"rgb(36,36,36)\"}, \"error_y\": {\"color\": \"rgb(36,36,36)\"}, \"marker\": {\"line\": {\"color\": \"white\", \"width\": 0.5}}, \"type\": \"bar\"}], \"barpolar\": [{\"marker\": {\"line\": {\"color\": \"white\", \"width\": 0.5}}, \"type\": \"barpolar\"}], \"carpet\": [{\"aaxis\": {\"endlinecolor\": \"rgb(36,36,36)\", \"gridcolor\": \"white\", \"linecolor\": \"white\", \"minorgridcolor\": \"white\", \"startlinecolor\": \"rgb(36,36,36)\"}, \"baxis\": {\"endlinecolor\": \"rgb(36,36,36)\", \"gridcolor\": \"white\", \"linecolor\": \"white\", \"minorgridcolor\": \"white\", \"startlinecolor\": \"rgb(36,36,36)\"}, \"type\": \"carpet\"}], \"choropleth\": [{\"colorbar\": {\"outlinewidth\": 1, \"tickcolor\": \"rgb(36,36,36)\", \"ticks\": \"outside\"}, \"type\": \"choropleth\"}], \"contour\": [{\"colorbar\": {\"outlinewidth\": 1, \"tickcolor\": \"rgb(36,36,36)\", \"ticks\": \"outside\"}, \"colorscale\": [[0.0, \"#440154\"], [0.1111111111111111, \"#482878\"], [0.2222222222222222, \"#3e4989\"], [0.3333333333333333, \"#31688e\"], [0.4444444444444444, \"#26828e\"], [0.5555555555555556, \"#1f9e89\"], [0.6666666666666666, \"#35b779\"], [0.7777777777777778, \"#6ece58\"], [0.8888888888888888, \"#b5de2b\"], [1.0, \"#fde725\"]], \"type\": \"contour\"}], \"contourcarpet\": [{\"colorbar\": {\"outlinewidth\": 1, \"tickcolor\": \"rgb(36,36,36)\", \"ticks\": \"outside\"}, \"type\": \"contourcarpet\"}], \"heatmap\": [{\"colorbar\": {\"outlinewidth\": 1, \"tickcolor\": \"rgb(36,36,36)\", \"ticks\": \"outside\"}, \"colorscale\": [[0.0, \"#440154\"], [0.1111111111111111, \"#482878\"], [0.2222222222222222, \"#3e4989\"], [0.3333333333333333, \"#31688e\"], [0.4444444444444444, \"#26828e\"], [0.5555555555555556, \"#1f9e89\"], [0.6666666666666666, \"#35b779\"], [0.7777777777777778, \"#6ece58\"], [0.8888888888888888, \"#b5de2b\"], [1.0, \"#fde725\"]], \"type\": \"heatmap\"}], \"heatmapgl\": [{\"colorbar\": {\"outlinewidth\": 1, \"tickcolor\": \"rgb(36,36,36)\", \"ticks\": \"outside\"}, \"colorscale\": [[0.0, \"#440154\"], [0.1111111111111111, \"#482878\"], [0.2222222222222222, \"#3e4989\"], [0.3333333333333333, \"#31688e\"], [0.4444444444444444, \"#26828e\"], [0.5555555555555556, \"#1f9e89\"], [0.6666666666666666, \"#35b779\"], [0.7777777777777778, \"#6ece58\"], [0.8888888888888888, \"#b5de2b\"], [1.0, \"#fde725\"]], \"type\": \"heatmapgl\"}], \"histogram\": [{\"marker\": {\"line\": {\"color\": \"white\", \"width\": 0.6}}, \"type\": \"histogram\"}], \"histogram2d\": [{\"colorbar\": {\"outlinewidth\": 1, \"tickcolor\": \"rgb(36,36,36)\", \"ticks\": \"outside\"}, \"colorscale\": [[0.0, \"#440154\"], [0.1111111111111111, \"#482878\"], [0.2222222222222222, \"#3e4989\"], [0.3333333333333333, \"#31688e\"], [0.4444444444444444, \"#26828e\"], [0.5555555555555556, \"#1f9e89\"], [0.6666666666666666, \"#35b779\"], [0.7777777777777778, \"#6ece58\"], [0.8888888888888888, \"#b5de2b\"], [1.0, \"#fde725\"]], \"type\": \"histogram2d\"}], \"histogram2dcontour\": [{\"colorbar\": {\"outlinewidth\": 1, \"tickcolor\": \"rgb(36,36,36)\", \"ticks\": \"outside\"}, \"colorscale\": [[0.0, \"#440154\"], [0.1111111111111111, \"#482878\"], [0.2222222222222222, \"#3e4989\"], [0.3333333333333333, \"#31688e\"], [0.4444444444444444, \"#26828e\"], [0.5555555555555556, \"#1f9e89\"], [0.6666666666666666, \"#35b779\"], [0.7777777777777778, \"#6ece58\"], [0.8888888888888888, \"#b5de2b\"], [1.0, \"#fde725\"]], \"type\": \"histogram2dcontour\"}], \"mesh3d\": [{\"colorbar\": {\"outlinewidth\": 1, \"tickcolor\": \"rgb(36,36,36)\", \"ticks\": \"outside\"}, \"type\": \"mesh3d\"}], \"parcoords\": [{\"line\": {\"colorbar\": {\"outlinewidth\": 1, \"tickcolor\": \"rgb(36,36,36)\", \"ticks\": \"outside\"}}, \"type\": \"parcoords\"}], \"pie\": [{\"automargin\": true, \"type\": \"pie\"}], \"scatter\": [{\"marker\": {\"colorbar\": {\"outlinewidth\": 1, \"tickcolor\": \"rgb(36,36,36)\", \"ticks\": \"outside\"}}, \"type\": \"scatter\"}], \"scatter3d\": [{\"line\": {\"colorbar\": {\"outlinewidth\": 1, \"tickcolor\": \"rgb(36,36,36)\", \"ticks\": \"outside\"}}, \"marker\": {\"colorbar\": {\"outlinewidth\": 1, \"tickcolor\": \"rgb(36,36,36)\", \"ticks\": \"outside\"}}, \"type\": \"scatter3d\"}], \"scattercarpet\": [{\"marker\": {\"colorbar\": {\"outlinewidth\": 1, \"tickcolor\": \"rgb(36,36,36)\", \"ticks\": \"outside\"}}, \"type\": \"scattercarpet\"}], \"scattergeo\": [{\"marker\": {\"colorbar\": {\"outlinewidth\": 1, \"tickcolor\": \"rgb(36,36,36)\", \"ticks\": \"outside\"}}, \"type\": \"scattergeo\"}], \"scattergl\": [{\"marker\": {\"colorbar\": {\"outlinewidth\": 1, \"tickcolor\": \"rgb(36,36,36)\", \"ticks\": \"outside\"}}, \"type\": \"scattergl\"}], \"scattermapbox\": [{\"marker\": {\"colorbar\": {\"outlinewidth\": 1, \"tickcolor\": \"rgb(36,36,36)\", \"ticks\": \"outside\"}}, \"type\": \"scattermapbox\"}], \"scatterpolar\": [{\"marker\": {\"colorbar\": {\"outlinewidth\": 1, \"tickcolor\": \"rgb(36,36,36)\", \"ticks\": \"outside\"}}, \"type\": \"scatterpolar\"}], \"scatterpolargl\": [{\"marker\": {\"colorbar\": {\"outlinewidth\": 1, \"tickcolor\": \"rgb(36,36,36)\", \"ticks\": \"outside\"}}, \"type\": \"scatterpolargl\"}], \"scatterternary\": [{\"marker\": {\"colorbar\": {\"outlinewidth\": 1, \"tickcolor\": \"rgb(36,36,36)\", \"ticks\": \"outside\"}}, \"type\": \"scatterternary\"}], \"surface\": [{\"colorbar\": {\"outlinewidth\": 1, \"tickcolor\": \"rgb(36,36,36)\", \"ticks\": \"outside\"}, \"colorscale\": [[0.0, \"#440154\"], [0.1111111111111111, \"#482878\"], [0.2222222222222222, \"#3e4989\"], [0.3333333333333333, \"#31688e\"], [0.4444444444444444, \"#26828e\"], [0.5555555555555556, \"#1f9e89\"], [0.6666666666666666, \"#35b779\"], [0.7777777777777778, \"#6ece58\"], [0.8888888888888888, \"#b5de2b\"], [1.0, \"#fde725\"]], \"type\": \"surface\"}], \"table\": [{\"cells\": {\"fill\": {\"color\": \"rgb(237,237,237)\"}, \"line\": {\"color\": \"white\"}}, \"header\": {\"fill\": {\"color\": \"rgb(217,217,217)\"}, \"line\": {\"color\": \"white\"}}, \"type\": \"table\"}]}, \"layout\": {\"annotationdefaults\": {\"arrowhead\": 0, \"arrowwidth\": 1}, \"coloraxis\": {\"colorbar\": {\"outlinewidth\": 1, \"tickcolor\": \"rgb(36,36,36)\", \"ticks\": \"outside\"}}, \"colorscale\": {\"diverging\": [[0.0, \"rgb(103,0,31)\"], [0.1, \"rgb(178,24,43)\"], [0.2, \"rgb(214,96,77)\"], [0.3, \"rgb(244,165,130)\"], [0.4, \"rgb(253,219,199)\"], [0.5, \"rgb(247,247,247)\"], [0.6, \"rgb(209,229,240)\"], [0.7, \"rgb(146,197,222)\"], [0.8, \"rgb(67,147,195)\"], [0.9, \"rgb(33,102,172)\"], [1.0, \"rgb(5,48,97)\"]], \"sequential\": [[0.0, \"#440154\"], [0.1111111111111111, \"#482878\"], [0.2222222222222222, \"#3e4989\"], [0.3333333333333333, \"#31688e\"], [0.4444444444444444, \"#26828e\"], [0.5555555555555556, \"#1f9e89\"], [0.6666666666666666, \"#35b779\"], [0.7777777777777778, \"#6ece58\"], [0.8888888888888888, \"#b5de2b\"], [1.0, \"#fde725\"]], \"sequentialminus\": [[0.0, \"#440154\"], [0.1111111111111111, \"#482878\"], [0.2222222222222222, \"#3e4989\"], [0.3333333333333333, \"#31688e\"], [0.4444444444444444, \"#26828e\"], [0.5555555555555556, \"#1f9e89\"], [0.6666666666666666, \"#35b779\"], [0.7777777777777778, \"#6ece58\"], [0.8888888888888888, \"#b5de2b\"], [1.0, \"#fde725\"]]}, \"colorway\": [\"#1F77B4\", \"#FF7F0E\", \"#2CA02C\", \"#D62728\", \"#9467BD\", \"#8C564B\", \"#E377C2\", \"#7F7F7F\", \"#BCBD22\", \"#17BECF\"], \"font\": {\"color\": \"rgb(36,36,36)\"}, \"geo\": {\"bgcolor\": \"white\", \"lakecolor\": \"white\", \"landcolor\": \"white\", \"showlakes\": true, \"showland\": true, \"subunitcolor\": \"white\"}, \"hoverlabel\": {\"align\": \"left\"}, \"hovermode\": \"closest\", \"mapbox\": {\"style\": \"light\"}, \"paper_bgcolor\": \"white\", \"plot_bgcolor\": \"white\", \"polar\": {\"angularaxis\": {\"gridcolor\": \"rgb(232,232,232)\", \"linecolor\": \"rgb(36,36,36)\", \"showgrid\": false, \"showline\": true, \"ticks\": \"outside\"}, \"bgcolor\": \"white\", \"radialaxis\": {\"gridcolor\": \"rgb(232,232,232)\", \"linecolor\": \"rgb(36,36,36)\", \"showgrid\": false, \"showline\": true, \"ticks\": \"outside\"}}, \"scene\": {\"xaxis\": {\"backgroundcolor\": \"white\", \"gridcolor\": \"rgb(232,232,232)\", \"gridwidth\": 2, \"linecolor\": \"rgb(36,36,36)\", \"showbackground\": true, \"showgrid\": false, \"showline\": true, \"ticks\": \"outside\", \"zeroline\": false, \"zerolinecolor\": \"rgb(36,36,36)\"}, \"yaxis\": {\"backgroundcolor\": \"white\", \"gridcolor\": \"rgb(232,232,232)\", \"gridwidth\": 2, \"linecolor\": \"rgb(36,36,36)\", \"showbackground\": true, \"showgrid\": false, \"showline\": true, \"ticks\": \"outside\", \"zeroline\": false, \"zerolinecolor\": \"rgb(36,36,36)\"}, \"zaxis\": {\"backgroundcolor\": \"white\", \"gridcolor\": \"rgb(232,232,232)\", \"gridwidth\": 2, \"linecolor\": \"rgb(36,36,36)\", \"showbackground\": true, \"showgrid\": false, \"showline\": true, \"ticks\": \"outside\", \"zeroline\": false, \"zerolinecolor\": \"rgb(36,36,36)\"}}, \"shapedefaults\": {\"fillcolor\": \"black\", \"line\": {\"width\": 0}, \"opacity\": 0.3}, \"ternary\": {\"aaxis\": {\"gridcolor\": \"rgb(232,232,232)\", \"linecolor\": \"rgb(36,36,36)\", \"showgrid\": false, \"showline\": true, \"ticks\": \"outside\"}, \"baxis\": {\"gridcolor\": \"rgb(232,232,232)\", \"linecolor\": \"rgb(36,36,36)\", \"showgrid\": false, \"showline\": true, \"ticks\": \"outside\"}, \"bgcolor\": \"white\", \"caxis\": {\"gridcolor\": \"rgb(232,232,232)\", \"linecolor\": \"rgb(36,36,36)\", \"showgrid\": false, \"showline\": true, \"ticks\": \"outside\"}}, \"title\": {\"x\": 0.05}, \"xaxis\": {\"automargin\": true, \"gridcolor\": \"rgb(232,232,232)\", \"linecolor\": \"rgb(36,36,36)\", \"showgrid\": false, \"showline\": true, \"ticks\": \"outside\", \"title\": {\"standoff\": 15}, \"zeroline\": false, \"zerolinecolor\": \"rgb(36,36,36)\"}, \"yaxis\": {\"automargin\": true, \"gridcolor\": \"rgb(232,232,232)\", \"linecolor\": \"rgb(36,36,36)\", \"showgrid\": false, \"showline\": true, \"ticks\": \"outside\", \"title\": {\"standoff\": 15}, \"zeroline\": false, \"zerolinecolor\": \"rgb(36,36,36)\"}}}, \"title\": {\"text\": \"Subreddit Age Dimension Versus Support by Age\"}, \"xaxis\": {\"anchor\": \"y\", \"domain\": [0.0, 1.0], \"range\": [-0.09478992990971205, 0.1865386943465296], \"title\": {\"text\": \"Subreddit Age\"}}, \"yaxis\": {\"anchor\": \"x\", \"domain\": [0.0, 1.0], \"range\": [-0.7982456140350878, 0.48148148148148145], \"title\": {\"text\": \"Surveyed Age\"}}},\n",
       "                        {\"responsive\": true}\n",
       "                    ).then(function(){\n",
       "                            \n",
       "var gd = document.getElementById('5f8a8611-dd00-4f9b-b99e-65425429edde');\n",
       "var x = new MutationObserver(function (mutations, observer) {{\n",
       "        var display = window.getComputedStyle(gd).display;\n",
       "        if (!display || display === 'none') {{\n",
       "            console.log([gd, 'removed!']);\n",
       "            Plotly.purge(gd);\n",
       "            observer.disconnect();\n",
       "        }}\n",
       "}});\n",
       "\n",
       "// Listen for the removal of the full notebook cells\n",
       "var notebookContainer = gd.closest('#notebook-container');\n",
       "if (notebookContainer) {{\n",
       "    x.observe(notebookContainer, {childList: true});\n",
       "}}\n",
       "\n",
       "// Listen for the clearing of the current output cell\n",
       "var outputEl = gd.closest('.output');\n",
       "if (outputEl) {{\n",
       "    x.observe(outputEl, {childList: true});\n",
       "}}\n",
       "\n",
       "                        })\n",
       "                };\n",
       "                });\n",
       "            </script>\n",
       "        </div>"
      ]
     },
     "metadata": {},
     "output_type": "display_data"
    }
   ],
   "source": [
    "xmin, xmax = age_df[\"reddit_projection\"].min()*1.3,age_df[\"reddit_projection\"].max()*1.3\n",
    "ymin, ymax = age_df[\"age\"].min()*1.3,age_df[\"age\"].max()*1.3\n",
    "\n",
    "args = {\n",
    "    \"x\": \"reddit_projection\",\n",
    "    \"y\": \"age\",\n",
    "    \"text\": age_df.index,\n",
    "    \"title\":  \"Subreddit Age Dimension Versus Support by Age\",\n",
    "    \"template\": \"simple_white\",\n",
    "    \"labels\": {\"reddit_projection\": \"Subreddit Age\", \"age\": \"Surveyed Age\"},\n",
    "    \"range_x\": [xmin,xmax],\n",
    "    \"range_y\": [ymin,ymax],\n",
    "}\n",
    "\n",
    "annotations = [dict(x=xmin*0.6,y=ymin*0.92,xref=\"x\",yref=\"y\", text=\"<b>Support Trends Young<br>Subreddit Trends Young</b>\",showarrow=False),\n",
    "               dict(x=xmax*0.8,y=ymin*0.92,xref=\"x\",yref=\"y\", text=\"<b>Subreddit Trends Old</b>\",showarrow=False),\n",
    "               dict(x=xmin*0.65,y=ymax,xref=\"x\",yref=\"y\", text=\"<b>Support Trends Old</b>\",showarrow=False),\n",
    "               dict(x=0,y=predict(0),xref=\"x\",yref=\"y\", text=\"r<sup>2</sup>={:.2f}\".format(r2)),\n",
    "              ]\n",
    "x = np.linspace(xmin,xmax,num=2)\n",
    "    \n",
    "fig = px.scatter(age_df,**args)\n",
    "\n",
    "fig.update_traces(textposition='bottom center')\n",
    "fig.add_scatter(x=x,\n",
    "                y=predict(x),\n",
    "                mode='lines',\n",
    "                line=dict(dash=\"dash\",width=2,color=\"rgba(0,0,160,0.3)\"),\n",
    "                name=\"Linear Regression\"\n",
    "               )\n",
    "\n",
    "fig.update_layout(annotations=annotations)\n",
    "# fig.write_html(\"visualizations/Pew_Research-Age_dim.html\")\n",
    "fig.show()"
   ]
  },
  {
   "cell_type": "markdown",
   "metadata": {},
   "source": [
    "### Age Dim Against Candidate Ages\n",
    "\n",
    "This is a good way of maybe showing that the dimension taps more into dimensions of a supporter vs the actual candidate"
   ]
  },
  {
   "cell_type": "code",
   "execution_count": 131,
   "metadata": {},
   "outputs": [
    {
     "data": {
      "text/html": [
       "<div>\n",
       "<style scoped>\n",
       "    .dataframe tbody tr th:only-of-type {\n",
       "        vertical-align: middle;\n",
       "    }\n",
       "\n",
       "    .dataframe tbody tr th {\n",
       "        vertical-align: top;\n",
       "    }\n",
       "\n",
       "    .dataframe thead th {\n",
       "        text-align: right;\n",
       "    }\n",
       "</style>\n",
       "<table border=\"1\" class=\"dataframe\">\n",
       "  <thead>\n",
       "    <tr style=\"text-align: right;\">\n",
       "      <th></th>\n",
       "      <th>age_at_inauguration</th>\n",
       "      <th>reddit_projection</th>\n",
       "    </tr>\n",
       "    <tr>\n",
       "      <th>candidate</th>\n",
       "      <th></th>\n",
       "      <th></th>\n",
       "    </tr>\n",
       "  </thead>\n",
       "  <tbody>\n",
       "    <tr>\n",
       "      <th>Biden</th>\n",
       "      <td>78</td>\n",
       "      <td>0.107850</td>\n",
       "    </tr>\n",
       "    <tr>\n",
       "      <th>Buttigieg</th>\n",
       "      <td>38</td>\n",
       "      <td>0.088497</td>\n",
       "    </tr>\n",
       "    <tr>\n",
       "      <th>Klobuchar</th>\n",
       "      <td>60</td>\n",
       "      <td>0.101380</td>\n",
       "    </tr>\n",
       "    <tr>\n",
       "      <th>Sanders</th>\n",
       "      <td>79</td>\n",
       "      <td>0.014061</td>\n",
       "    </tr>\n",
       "    <tr>\n",
       "      <th>Warren</th>\n",
       "      <td>71</td>\n",
       "      <td>0.143491</td>\n",
       "    </tr>\n",
       "    <tr>\n",
       "      <th>Yang</th>\n",
       "      <td>45</td>\n",
       "      <td>-0.072915</td>\n",
       "    </tr>\n",
       "  </tbody>\n",
       "</table>\n",
       "</div>"
      ],
      "text/plain": [
       "           age_at_inauguration  reddit_projection\n",
       "candidate                                        \n",
       "Biden                       78           0.107850\n",
       "Buttigieg                   38           0.088497\n",
       "Klobuchar                   60           0.101380\n",
       "Sanders                     79           0.014061\n",
       "Warren                      71           0.143491\n",
       "Yang                        45          -0.072915"
      ]
     },
     "execution_count": 131,
     "metadata": {},
     "output_type": "execute_result"
    }
   ],
   "source": [
    "cand_age_df = pd.read_csv(\"/h/224/cameron/Political-Subreddit-Embedding/external_datasets/polling_data/candidate_ages.csv\")\n",
    "cand_age_df = cand_age_df.set_index(\"candidate\")\n",
    "\n",
    "i_dim = calculate_dim(age_dim.subreddits,embedding)\n",
    "cand_age_df[\"reddit_projection\"] = [project_dim(i_dim,c,embedding) for c in cand_subs]\n",
    "\n",
    "cand_age_df = cand_age_df[[\"age_at_inauguration\",\"reddit_projection\"]]\n",
    "cand_age_df"
   ]
  },
  {
   "cell_type": "code",
   "execution_count": 134,
   "metadata": {},
   "outputs": [
    {
     "data": {
      "text/plain": [
       "0.10593361204905649"
      ]
     },
     "execution_count": 134,
     "metadata": {},
     "output_type": "execute_result"
    }
   ],
   "source": [
    "# Fit a linear regression to our model and its results\n",
    "model = np.polyfit(cand_age_df[\"reddit_projection\"], cand_age_df[\"age_at_inauguration\"], 1)\n",
    "predict = np.poly1d(model)\n",
    "r2 = r2_score(cand_age_df[\"age_at_inauguration\"], predict(cand_age_df[\"reddit_projection\"]))\n",
    "r2"
   ]
  },
  {
   "cell_type": "markdown",
   "metadata": {},
   "source": [
    "*I don't think we need to visualize this one lol*\n",
    "\n",
    "** **"
   ]
  },
  {
   "cell_type": "markdown",
   "metadata": {},
   "source": [
    "## Religiosity Validation"
   ]
  },
  {
   "cell_type": "code",
   "execution_count": 92,
   "metadata": {},
   "outputs": [
    {
     "data": {
      "text/html": [
       "<div>\n",
       "<style scoped>\n",
       "    .dataframe tbody tr th:only-of-type {\n",
       "        vertical-align: middle;\n",
       "    }\n",
       "\n",
       "    .dataframe tbody tr th {\n",
       "        vertical-align: top;\n",
       "    }\n",
       "\n",
       "    .dataframe thead th {\n",
       "        text-align: right;\n",
       "    }\n",
       "</style>\n",
       "<table border=\"1\" class=\"dataframe\">\n",
       "  <thead>\n",
       "    <tr style=\"text-align: right;\">\n",
       "      <th>candidate</th>\n",
       "      <th>religiosity</th>\n",
       "      <th>reddit_projection</th>\n",
       "    </tr>\n",
       "  </thead>\n",
       "  <tbody>\n",
       "    <tr>\n",
       "      <th>Biden</th>\n",
       "      <td>0.196429</td>\n",
       "      <td>0.021008</td>\n",
       "    </tr>\n",
       "    <tr>\n",
       "      <th>Buttigieg</th>\n",
       "      <td>-0.128205</td>\n",
       "      <td>-0.083959</td>\n",
       "    </tr>\n",
       "    <tr>\n",
       "      <th>Klobuchar</th>\n",
       "      <td>0.200000</td>\n",
       "      <td>0.001263</td>\n",
       "    </tr>\n",
       "    <tr>\n",
       "      <th>Sanders</th>\n",
       "      <td>-0.222222</td>\n",
       "      <td>-0.078695</td>\n",
       "    </tr>\n",
       "    <tr>\n",
       "      <th>Warren</th>\n",
       "      <td>-0.177778</td>\n",
       "      <td>-0.146615</td>\n",
       "    </tr>\n",
       "    <tr>\n",
       "      <th>Yang</th>\n",
       "      <td>-0.142857</td>\n",
       "      <td>0.012267</td>\n",
       "    </tr>\n",
       "  </tbody>\n",
       "</table>\n",
       "</div>"
      ],
      "text/plain": [
       "candidate  religiosity  reddit_projection\n",
       "Biden         0.196429           0.021008\n",
       "Buttigieg    -0.128205          -0.083959\n",
       "Klobuchar     0.200000           0.001263\n",
       "Sanders      -0.222222          -0.078695\n",
       "Warren       -0.177778          -0.146615\n",
       "Yang         -0.142857           0.012267"
      ]
     },
     "execution_count": 92,
     "metadata": {},
     "output_type": "execute_result"
    }
   ],
   "source": [
    "religion_df = pd.pivot_table(pew_survey.loc[\"Religious attendance\",:].reset_index(), values=cands, columns=['Demographic'])\n",
    "religion_df.columns = religion_df.columns.rename(\"candidate\")\n",
    "religion_df = religion_df[[\"Never\",\"Seldom\",\"Monthly/yearly\",\"Once a week+\"]]\n",
    "religion_df[\"religiosity\"] = religion_df.apply(survey_to_num,axis=1)\n",
    "i_dim = calculate_dim(religious_dim.subreddits,embedding)\n",
    "religion_df[\"reddit_projection\"] = [project_dim(i_dim,c,embedding) for c in cand_subs]\n",
    "religion_df = religion_df[[\"religiosity\",\"reddit_projection\"]]\n",
    "religion_df"
   ]
  },
  {
   "cell_type": "code",
   "execution_count": 93,
   "metadata": {},
   "outputs": [
    {
     "data": {
      "text/plain": [
       "0.47062528898275846"
      ]
     },
     "execution_count": 93,
     "metadata": {},
     "output_type": "execute_result"
    }
   ],
   "source": [
    "# Fit a linear regression to our model and its results\n",
    "model = np.polyfit(religion_df[\"reddit_projection\"], religion_df[\"religiosity\"], 1)\n",
    "predict = np.poly1d(model)\n",
    "r2 = r2_score(religion_df[\"religiosity\"], predict(religion_df[\"reddit_projection\"]))\n",
    "r2"
   ]
  },
  {
   "cell_type": "code",
   "execution_count": 95,
   "metadata": {},
   "outputs": [
    {
     "data": {
      "application/vnd.plotly.v1+json": {
       "config": {
        "plotlyServerURL": "https://plot.ly"
       },
       "data": [
        {
         "hovertemplate": "Subreddit religiosity=%{x}<br>Surveyed religiosity=%{y}<br>index=%{text}<extra></extra>",
         "legendgroup": "",
         "marker": {
          "color": "#1F77B4",
          "symbol": "circle"
         },
         "mode": "markers+text",
         "name": "",
         "orientation": "v",
         "showlegend": false,
         "text": [
          "Biden",
          "Buttigieg",
          "Klobuchar",
          "Sanders",
          "Warren",
          "Yang"
         ],
         "textposition": "bottom center",
         "type": "scatter",
         "x": [
          0.02100753714128879,
          -0.08395877923824005,
          0.0012627897460003575,
          -0.07869503386587898,
          -0.1466147608223133,
          0.012266592008033263
         ],
         "xaxis": "x",
         "y": [
          0.19642857142857142,
          -0.12820512820512822,
          0.19999999999999996,
          -0.2222222222222223,
          -0.17777777777777787,
          -0.14285714285714293
         ],
         "yaxis": "y"
        },
        {
         "line": {
          "color": "rgba(0,0,160,0.3)",
          "dash": "dash",
          "width": 2
         },
         "mode": "lines",
         "name": "Linear Regression",
         "type": "scatter",
         "x": [
          -0.1905991890690073,
          0.027309798283675427
         ],
         "y": [
          -0.32816811328284234,
          0.09677728362064691
         ]
        }
       ],
       "layout": {
        "annotations": [
         {
          "showarrow": false,
          "text": "<b>Support Trends Secular<br>Subreddit Trends Secular</b>",
          "x": -0.1620093107086562,
          "xref": "x",
          "y": -0.26000000000000006,
          "yref": "y"
         },
         {
          "showarrow": false,
          "text": "<b>Subreddit Trends Religious</b>",
          "x": 0.02184783862694034,
          "xref": "x",
          "y": -0.2657777777777779,
          "yref": "y"
         },
         {
          "showarrow": false,
          "text": "<b>Support Trends Religious</b>",
          "x": -0.1620093107086562,
          "xref": "x",
          "y": 0.25999999999999995,
          "yref": "y"
         },
         {
          "text": "r<sup>2</sup>=0.47",
          "x": -0.03,
          "xref": "x",
          "y": -0.01498283822645937,
          "yref": "y"
         }
        ],
        "legend": {
         "tracegroupgap": 0
        },
        "template": {
         "data": {
          "bar": [
           {
            "error_x": {
             "color": "rgb(36,36,36)"
            },
            "error_y": {
             "color": "rgb(36,36,36)"
            },
            "marker": {
             "line": {
              "color": "white",
              "width": 0.5
             }
            },
            "type": "bar"
           }
          ],
          "barpolar": [
           {
            "marker": {
             "line": {
              "color": "white",
              "width": 0.5
             }
            },
            "type": "barpolar"
           }
          ],
          "carpet": [
           {
            "aaxis": {
             "endlinecolor": "rgb(36,36,36)",
             "gridcolor": "white",
             "linecolor": "white",
             "minorgridcolor": "white",
             "startlinecolor": "rgb(36,36,36)"
            },
            "baxis": {
             "endlinecolor": "rgb(36,36,36)",
             "gridcolor": "white",
             "linecolor": "white",
             "minorgridcolor": "white",
             "startlinecolor": "rgb(36,36,36)"
            },
            "type": "carpet"
           }
          ],
          "choropleth": [
           {
            "colorbar": {
             "outlinewidth": 1,
             "tickcolor": "rgb(36,36,36)",
             "ticks": "outside"
            },
            "type": "choropleth"
           }
          ],
          "contour": [
           {
            "colorbar": {
             "outlinewidth": 1,
             "tickcolor": "rgb(36,36,36)",
             "ticks": "outside"
            },
            "colorscale": [
             [
              0,
              "#440154"
             ],
             [
              0.1111111111111111,
              "#482878"
             ],
             [
              0.2222222222222222,
              "#3e4989"
             ],
             [
              0.3333333333333333,
              "#31688e"
             ],
             [
              0.4444444444444444,
              "#26828e"
             ],
             [
              0.5555555555555556,
              "#1f9e89"
             ],
             [
              0.6666666666666666,
              "#35b779"
             ],
             [
              0.7777777777777778,
              "#6ece58"
             ],
             [
              0.8888888888888888,
              "#b5de2b"
             ],
             [
              1,
              "#fde725"
             ]
            ],
            "type": "contour"
           }
          ],
          "contourcarpet": [
           {
            "colorbar": {
             "outlinewidth": 1,
             "tickcolor": "rgb(36,36,36)",
             "ticks": "outside"
            },
            "type": "contourcarpet"
           }
          ],
          "heatmap": [
           {
            "colorbar": {
             "outlinewidth": 1,
             "tickcolor": "rgb(36,36,36)",
             "ticks": "outside"
            },
            "colorscale": [
             [
              0,
              "#440154"
             ],
             [
              0.1111111111111111,
              "#482878"
             ],
             [
              0.2222222222222222,
              "#3e4989"
             ],
             [
              0.3333333333333333,
              "#31688e"
             ],
             [
              0.4444444444444444,
              "#26828e"
             ],
             [
              0.5555555555555556,
              "#1f9e89"
             ],
             [
              0.6666666666666666,
              "#35b779"
             ],
             [
              0.7777777777777778,
              "#6ece58"
             ],
             [
              0.8888888888888888,
              "#b5de2b"
             ],
             [
              1,
              "#fde725"
             ]
            ],
            "type": "heatmap"
           }
          ],
          "heatmapgl": [
           {
            "colorbar": {
             "outlinewidth": 1,
             "tickcolor": "rgb(36,36,36)",
             "ticks": "outside"
            },
            "colorscale": [
             [
              0,
              "#440154"
             ],
             [
              0.1111111111111111,
              "#482878"
             ],
             [
              0.2222222222222222,
              "#3e4989"
             ],
             [
              0.3333333333333333,
              "#31688e"
             ],
             [
              0.4444444444444444,
              "#26828e"
             ],
             [
              0.5555555555555556,
              "#1f9e89"
             ],
             [
              0.6666666666666666,
              "#35b779"
             ],
             [
              0.7777777777777778,
              "#6ece58"
             ],
             [
              0.8888888888888888,
              "#b5de2b"
             ],
             [
              1,
              "#fde725"
             ]
            ],
            "type": "heatmapgl"
           }
          ],
          "histogram": [
           {
            "marker": {
             "line": {
              "color": "white",
              "width": 0.6
             }
            },
            "type": "histogram"
           }
          ],
          "histogram2d": [
           {
            "colorbar": {
             "outlinewidth": 1,
             "tickcolor": "rgb(36,36,36)",
             "ticks": "outside"
            },
            "colorscale": [
             [
              0,
              "#440154"
             ],
             [
              0.1111111111111111,
              "#482878"
             ],
             [
              0.2222222222222222,
              "#3e4989"
             ],
             [
              0.3333333333333333,
              "#31688e"
             ],
             [
              0.4444444444444444,
              "#26828e"
             ],
             [
              0.5555555555555556,
              "#1f9e89"
             ],
             [
              0.6666666666666666,
              "#35b779"
             ],
             [
              0.7777777777777778,
              "#6ece58"
             ],
             [
              0.8888888888888888,
              "#b5de2b"
             ],
             [
              1,
              "#fde725"
             ]
            ],
            "type": "histogram2d"
           }
          ],
          "histogram2dcontour": [
           {
            "colorbar": {
             "outlinewidth": 1,
             "tickcolor": "rgb(36,36,36)",
             "ticks": "outside"
            },
            "colorscale": [
             [
              0,
              "#440154"
             ],
             [
              0.1111111111111111,
              "#482878"
             ],
             [
              0.2222222222222222,
              "#3e4989"
             ],
             [
              0.3333333333333333,
              "#31688e"
             ],
             [
              0.4444444444444444,
              "#26828e"
             ],
             [
              0.5555555555555556,
              "#1f9e89"
             ],
             [
              0.6666666666666666,
              "#35b779"
             ],
             [
              0.7777777777777778,
              "#6ece58"
             ],
             [
              0.8888888888888888,
              "#b5de2b"
             ],
             [
              1,
              "#fde725"
             ]
            ],
            "type": "histogram2dcontour"
           }
          ],
          "mesh3d": [
           {
            "colorbar": {
             "outlinewidth": 1,
             "tickcolor": "rgb(36,36,36)",
             "ticks": "outside"
            },
            "type": "mesh3d"
           }
          ],
          "parcoords": [
           {
            "line": {
             "colorbar": {
              "outlinewidth": 1,
              "tickcolor": "rgb(36,36,36)",
              "ticks": "outside"
             }
            },
            "type": "parcoords"
           }
          ],
          "pie": [
           {
            "automargin": true,
            "type": "pie"
           }
          ],
          "scatter": [
           {
            "marker": {
             "colorbar": {
              "outlinewidth": 1,
              "tickcolor": "rgb(36,36,36)",
              "ticks": "outside"
             }
            },
            "type": "scatter"
           }
          ],
          "scatter3d": [
           {
            "line": {
             "colorbar": {
              "outlinewidth": 1,
              "tickcolor": "rgb(36,36,36)",
              "ticks": "outside"
             }
            },
            "marker": {
             "colorbar": {
              "outlinewidth": 1,
              "tickcolor": "rgb(36,36,36)",
              "ticks": "outside"
             }
            },
            "type": "scatter3d"
           }
          ],
          "scattercarpet": [
           {
            "marker": {
             "colorbar": {
              "outlinewidth": 1,
              "tickcolor": "rgb(36,36,36)",
              "ticks": "outside"
             }
            },
            "type": "scattercarpet"
           }
          ],
          "scattergeo": [
           {
            "marker": {
             "colorbar": {
              "outlinewidth": 1,
              "tickcolor": "rgb(36,36,36)",
              "ticks": "outside"
             }
            },
            "type": "scattergeo"
           }
          ],
          "scattergl": [
           {
            "marker": {
             "colorbar": {
              "outlinewidth": 1,
              "tickcolor": "rgb(36,36,36)",
              "ticks": "outside"
             }
            },
            "type": "scattergl"
           }
          ],
          "scattermapbox": [
           {
            "marker": {
             "colorbar": {
              "outlinewidth": 1,
              "tickcolor": "rgb(36,36,36)",
              "ticks": "outside"
             }
            },
            "type": "scattermapbox"
           }
          ],
          "scatterpolar": [
           {
            "marker": {
             "colorbar": {
              "outlinewidth": 1,
              "tickcolor": "rgb(36,36,36)",
              "ticks": "outside"
             }
            },
            "type": "scatterpolar"
           }
          ],
          "scatterpolargl": [
           {
            "marker": {
             "colorbar": {
              "outlinewidth": 1,
              "tickcolor": "rgb(36,36,36)",
              "ticks": "outside"
             }
            },
            "type": "scatterpolargl"
           }
          ],
          "scatterternary": [
           {
            "marker": {
             "colorbar": {
              "outlinewidth": 1,
              "tickcolor": "rgb(36,36,36)",
              "ticks": "outside"
             }
            },
            "type": "scatterternary"
           }
          ],
          "surface": [
           {
            "colorbar": {
             "outlinewidth": 1,
             "tickcolor": "rgb(36,36,36)",
             "ticks": "outside"
            },
            "colorscale": [
             [
              0,
              "#440154"
             ],
             [
              0.1111111111111111,
              "#482878"
             ],
             [
              0.2222222222222222,
              "#3e4989"
             ],
             [
              0.3333333333333333,
              "#31688e"
             ],
             [
              0.4444444444444444,
              "#26828e"
             ],
             [
              0.5555555555555556,
              "#1f9e89"
             ],
             [
              0.6666666666666666,
              "#35b779"
             ],
             [
              0.7777777777777778,
              "#6ece58"
             ],
             [
              0.8888888888888888,
              "#b5de2b"
             ],
             [
              1,
              "#fde725"
             ]
            ],
            "type": "surface"
           }
          ],
          "table": [
           {
            "cells": {
             "fill": {
              "color": "rgb(237,237,237)"
             },
             "line": {
              "color": "white"
             }
            },
            "header": {
             "fill": {
              "color": "rgb(217,217,217)"
             },
             "line": {
              "color": "white"
             }
            },
            "type": "table"
           }
          ]
         },
         "layout": {
          "annotationdefaults": {
           "arrowhead": 0,
           "arrowwidth": 1
          },
          "coloraxis": {
           "colorbar": {
            "outlinewidth": 1,
            "tickcolor": "rgb(36,36,36)",
            "ticks": "outside"
           }
          },
          "colorscale": {
           "diverging": [
            [
             0,
             "rgb(103,0,31)"
            ],
            [
             0.1,
             "rgb(178,24,43)"
            ],
            [
             0.2,
             "rgb(214,96,77)"
            ],
            [
             0.3,
             "rgb(244,165,130)"
            ],
            [
             0.4,
             "rgb(253,219,199)"
            ],
            [
             0.5,
             "rgb(247,247,247)"
            ],
            [
             0.6,
             "rgb(209,229,240)"
            ],
            [
             0.7,
             "rgb(146,197,222)"
            ],
            [
             0.8,
             "rgb(67,147,195)"
            ],
            [
             0.9,
             "rgb(33,102,172)"
            ],
            [
             1,
             "rgb(5,48,97)"
            ]
           ],
           "sequential": [
            [
             0,
             "#440154"
            ],
            [
             0.1111111111111111,
             "#482878"
            ],
            [
             0.2222222222222222,
             "#3e4989"
            ],
            [
             0.3333333333333333,
             "#31688e"
            ],
            [
             0.4444444444444444,
             "#26828e"
            ],
            [
             0.5555555555555556,
             "#1f9e89"
            ],
            [
             0.6666666666666666,
             "#35b779"
            ],
            [
             0.7777777777777778,
             "#6ece58"
            ],
            [
             0.8888888888888888,
             "#b5de2b"
            ],
            [
             1,
             "#fde725"
            ]
           ],
           "sequentialminus": [
            [
             0,
             "#440154"
            ],
            [
             0.1111111111111111,
             "#482878"
            ],
            [
             0.2222222222222222,
             "#3e4989"
            ],
            [
             0.3333333333333333,
             "#31688e"
            ],
            [
             0.4444444444444444,
             "#26828e"
            ],
            [
             0.5555555555555556,
             "#1f9e89"
            ],
            [
             0.6666666666666666,
             "#35b779"
            ],
            [
             0.7777777777777778,
             "#6ece58"
            ],
            [
             0.8888888888888888,
             "#b5de2b"
            ],
            [
             1,
             "#fde725"
            ]
           ]
          },
          "colorway": [
           "#1F77B4",
           "#FF7F0E",
           "#2CA02C",
           "#D62728",
           "#9467BD",
           "#8C564B",
           "#E377C2",
           "#7F7F7F",
           "#BCBD22",
           "#17BECF"
          ],
          "font": {
           "color": "rgb(36,36,36)"
          },
          "geo": {
           "bgcolor": "white",
           "lakecolor": "white",
           "landcolor": "white",
           "showlakes": true,
           "showland": true,
           "subunitcolor": "white"
          },
          "hoverlabel": {
           "align": "left"
          },
          "hovermode": "closest",
          "mapbox": {
           "style": "light"
          },
          "paper_bgcolor": "white",
          "plot_bgcolor": "white",
          "polar": {
           "angularaxis": {
            "gridcolor": "rgb(232,232,232)",
            "linecolor": "rgb(36,36,36)",
            "showgrid": false,
            "showline": true,
            "ticks": "outside"
           },
           "bgcolor": "white",
           "radialaxis": {
            "gridcolor": "rgb(232,232,232)",
            "linecolor": "rgb(36,36,36)",
            "showgrid": false,
            "showline": true,
            "ticks": "outside"
           }
          },
          "scene": {
           "xaxis": {
            "backgroundcolor": "white",
            "gridcolor": "rgb(232,232,232)",
            "gridwidth": 2,
            "linecolor": "rgb(36,36,36)",
            "showbackground": true,
            "showgrid": false,
            "showline": true,
            "ticks": "outside",
            "zeroline": false,
            "zerolinecolor": "rgb(36,36,36)"
           },
           "yaxis": {
            "backgroundcolor": "white",
            "gridcolor": "rgb(232,232,232)",
            "gridwidth": 2,
            "linecolor": "rgb(36,36,36)",
            "showbackground": true,
            "showgrid": false,
            "showline": true,
            "ticks": "outside",
            "zeroline": false,
            "zerolinecolor": "rgb(36,36,36)"
           },
           "zaxis": {
            "backgroundcolor": "white",
            "gridcolor": "rgb(232,232,232)",
            "gridwidth": 2,
            "linecolor": "rgb(36,36,36)",
            "showbackground": true,
            "showgrid": false,
            "showline": true,
            "ticks": "outside",
            "zeroline": false,
            "zerolinecolor": "rgb(36,36,36)"
           }
          },
          "shapedefaults": {
           "fillcolor": "black",
           "line": {
            "width": 0
           },
           "opacity": 0.3
          },
          "ternary": {
           "aaxis": {
            "gridcolor": "rgb(232,232,232)",
            "linecolor": "rgb(36,36,36)",
            "showgrid": false,
            "showline": true,
            "ticks": "outside"
           },
           "baxis": {
            "gridcolor": "rgb(232,232,232)",
            "linecolor": "rgb(36,36,36)",
            "showgrid": false,
            "showline": true,
            "ticks": "outside"
           },
           "bgcolor": "white",
           "caxis": {
            "gridcolor": "rgb(232,232,232)",
            "linecolor": "rgb(36,36,36)",
            "showgrid": false,
            "showline": true,
            "ticks": "outside"
           }
          },
          "title": {
           "x": 0.05
          },
          "xaxis": {
           "automargin": true,
           "gridcolor": "rgb(232,232,232)",
           "linecolor": "rgb(36,36,36)",
           "showgrid": false,
           "showline": true,
           "ticks": "outside",
           "title": {
            "standoff": 15
           },
           "zeroline": false,
           "zerolinecolor": "rgb(36,36,36)"
          },
          "yaxis": {
           "automargin": true,
           "gridcolor": "rgb(232,232,232)",
           "linecolor": "rgb(36,36,36)",
           "showgrid": false,
           "showline": true,
           "ticks": "outside",
           "title": {
            "standoff": 15
           },
           "zeroline": false,
           "zerolinecolor": "rgb(36,36,36)"
          }
         }
        },
        "title": {
         "text": "Subreddit Religiosity Dimension Versus Support by Religious Attendance"
        },
        "xaxis": {
         "anchor": "y",
         "domain": [
          0,
          1
         ],
         "range": [
          -0.1905991890690073,
          0.027309798283675427
         ],
         "title": {
          "text": "Subreddit religiosity"
         }
        },
        "yaxis": {
         "anchor": "x",
         "domain": [
          0,
          1
         ],
         "range": [
          -0.288888888888889,
          0.25999999999999995
         ],
         "title": {
          "text": "Surveyed religiosity"
         }
        }
       }
      },
      "text/html": [
       "<div>\n",
       "        \n",
       "        \n",
       "            <div id=\"5d84421c-7c18-4619-90b2-729a274cd1c6\" class=\"plotly-graph-div\" style=\"height:525px; width:100%;\"></div>\n",
       "            <script type=\"text/javascript\">\n",
       "                require([\"plotly\"], function(Plotly) {\n",
       "                    window.PLOTLYENV=window.PLOTLYENV || {};\n",
       "                    \n",
       "                if (document.getElementById(\"5d84421c-7c18-4619-90b2-729a274cd1c6\")) {\n",
       "                    Plotly.newPlot(\n",
       "                        '5d84421c-7c18-4619-90b2-729a274cd1c6',\n",
       "                        [{\"hovertemplate\": \"Subreddit religiosity=%{x}<br>Surveyed religiosity=%{y}<br>index=%{text}<extra></extra>\", \"legendgroup\": \"\", \"marker\": {\"color\": \"#1F77B4\", \"symbol\": \"circle\"}, \"mode\": \"markers+text\", \"name\": \"\", \"orientation\": \"v\", \"showlegend\": false, \"text\": [\"Biden\", \"Buttigieg\", \"Klobuchar\", \"Sanders\", \"Warren\", \"Yang\"], \"textposition\": \"bottom center\", \"type\": \"scatter\", \"x\": [0.02100753714128879, -0.08395877923824005, 0.0012627897460003575, -0.07869503386587898, -0.1466147608223133, 0.012266592008033263], \"xaxis\": \"x\", \"y\": [0.19642857142857142, -0.12820512820512822, 0.19999999999999996, -0.2222222222222223, -0.17777777777777787, -0.14285714285714293], \"yaxis\": \"y\"}, {\"line\": {\"color\": \"rgba(0,0,160,0.3)\", \"dash\": \"dash\", \"width\": 2}, \"mode\": \"lines\", \"name\": \"Linear Regression\", \"type\": \"scatter\", \"x\": [-0.1905991890690073, 0.027309798283675427], \"y\": [-0.32816811328284234, 0.09677728362064691]}],\n",
       "                        {\"annotations\": [{\"showarrow\": false, \"text\": \"<b>Support Trends Secular<br>Subreddit Trends Secular</b>\", \"x\": -0.1620093107086562, \"xref\": \"x\", \"y\": -0.26000000000000006, \"yref\": \"y\"}, {\"showarrow\": false, \"text\": \"<b>Subreddit Trends Religious</b>\", \"x\": 0.02184783862694034, \"xref\": \"x\", \"y\": -0.2657777777777779, \"yref\": \"y\"}, {\"showarrow\": false, \"text\": \"<b>Support Trends Religious</b>\", \"x\": -0.1620093107086562, \"xref\": \"x\", \"y\": 0.25999999999999995, \"yref\": \"y\"}, {\"text\": \"r<sup>2</sup>=0.47\", \"x\": -0.03, \"xref\": \"x\", \"y\": -0.01498283822645937, \"yref\": \"y\"}], \"legend\": {\"tracegroupgap\": 0}, \"template\": {\"data\": {\"bar\": [{\"error_x\": {\"color\": \"rgb(36,36,36)\"}, \"error_y\": {\"color\": \"rgb(36,36,36)\"}, \"marker\": {\"line\": {\"color\": \"white\", \"width\": 0.5}}, \"type\": \"bar\"}], \"barpolar\": [{\"marker\": {\"line\": {\"color\": \"white\", \"width\": 0.5}}, \"type\": \"barpolar\"}], \"carpet\": [{\"aaxis\": {\"endlinecolor\": \"rgb(36,36,36)\", \"gridcolor\": \"white\", \"linecolor\": \"white\", \"minorgridcolor\": \"white\", \"startlinecolor\": \"rgb(36,36,36)\"}, \"baxis\": {\"endlinecolor\": \"rgb(36,36,36)\", \"gridcolor\": \"white\", \"linecolor\": \"white\", \"minorgridcolor\": \"white\", \"startlinecolor\": \"rgb(36,36,36)\"}, \"type\": \"carpet\"}], \"choropleth\": [{\"colorbar\": {\"outlinewidth\": 1, \"tickcolor\": \"rgb(36,36,36)\", \"ticks\": \"outside\"}, \"type\": \"choropleth\"}], \"contour\": [{\"colorbar\": {\"outlinewidth\": 1, \"tickcolor\": \"rgb(36,36,36)\", \"ticks\": \"outside\"}, \"colorscale\": [[0.0, \"#440154\"], [0.1111111111111111, \"#482878\"], [0.2222222222222222, \"#3e4989\"], [0.3333333333333333, \"#31688e\"], [0.4444444444444444, \"#26828e\"], [0.5555555555555556, \"#1f9e89\"], [0.6666666666666666, \"#35b779\"], [0.7777777777777778, \"#6ece58\"], [0.8888888888888888, \"#b5de2b\"], [1.0, \"#fde725\"]], \"type\": \"contour\"}], \"contourcarpet\": [{\"colorbar\": {\"outlinewidth\": 1, \"tickcolor\": \"rgb(36,36,36)\", \"ticks\": \"outside\"}, \"type\": \"contourcarpet\"}], \"heatmap\": [{\"colorbar\": {\"outlinewidth\": 1, \"tickcolor\": \"rgb(36,36,36)\", \"ticks\": \"outside\"}, \"colorscale\": [[0.0, \"#440154\"], [0.1111111111111111, \"#482878\"], [0.2222222222222222, \"#3e4989\"], [0.3333333333333333, \"#31688e\"], [0.4444444444444444, \"#26828e\"], [0.5555555555555556, \"#1f9e89\"], [0.6666666666666666, \"#35b779\"], [0.7777777777777778, \"#6ece58\"], [0.8888888888888888, \"#b5de2b\"], [1.0, \"#fde725\"]], \"type\": \"heatmap\"}], \"heatmapgl\": [{\"colorbar\": {\"outlinewidth\": 1, \"tickcolor\": \"rgb(36,36,36)\", \"ticks\": \"outside\"}, \"colorscale\": [[0.0, \"#440154\"], [0.1111111111111111, \"#482878\"], [0.2222222222222222, \"#3e4989\"], [0.3333333333333333, \"#31688e\"], [0.4444444444444444, \"#26828e\"], [0.5555555555555556, \"#1f9e89\"], [0.6666666666666666, \"#35b779\"], [0.7777777777777778, \"#6ece58\"], [0.8888888888888888, \"#b5de2b\"], [1.0, \"#fde725\"]], \"type\": \"heatmapgl\"}], \"histogram\": [{\"marker\": {\"line\": {\"color\": \"white\", \"width\": 0.6}}, \"type\": \"histogram\"}], \"histogram2d\": [{\"colorbar\": {\"outlinewidth\": 1, \"tickcolor\": \"rgb(36,36,36)\", \"ticks\": \"outside\"}, \"colorscale\": [[0.0, \"#440154\"], [0.1111111111111111, \"#482878\"], [0.2222222222222222, \"#3e4989\"], [0.3333333333333333, \"#31688e\"], [0.4444444444444444, \"#26828e\"], [0.5555555555555556, \"#1f9e89\"], [0.6666666666666666, \"#35b779\"], [0.7777777777777778, \"#6ece58\"], [0.8888888888888888, \"#b5de2b\"], [1.0, \"#fde725\"]], \"type\": \"histogram2d\"}], \"histogram2dcontour\": [{\"colorbar\": {\"outlinewidth\": 1, \"tickcolor\": \"rgb(36,36,36)\", \"ticks\": \"outside\"}, \"colorscale\": [[0.0, \"#440154\"], [0.1111111111111111, \"#482878\"], [0.2222222222222222, \"#3e4989\"], [0.3333333333333333, \"#31688e\"], [0.4444444444444444, \"#26828e\"], [0.5555555555555556, \"#1f9e89\"], [0.6666666666666666, \"#35b779\"], [0.7777777777777778, \"#6ece58\"], [0.8888888888888888, \"#b5de2b\"], [1.0, \"#fde725\"]], \"type\": \"histogram2dcontour\"}], \"mesh3d\": [{\"colorbar\": {\"outlinewidth\": 1, \"tickcolor\": \"rgb(36,36,36)\", \"ticks\": \"outside\"}, \"type\": \"mesh3d\"}], \"parcoords\": [{\"line\": {\"colorbar\": {\"outlinewidth\": 1, \"tickcolor\": \"rgb(36,36,36)\", \"ticks\": \"outside\"}}, \"type\": \"parcoords\"}], \"pie\": [{\"automargin\": true, \"type\": \"pie\"}], \"scatter\": [{\"marker\": {\"colorbar\": {\"outlinewidth\": 1, \"tickcolor\": \"rgb(36,36,36)\", \"ticks\": \"outside\"}}, \"type\": \"scatter\"}], \"scatter3d\": [{\"line\": {\"colorbar\": {\"outlinewidth\": 1, \"tickcolor\": \"rgb(36,36,36)\", \"ticks\": \"outside\"}}, \"marker\": {\"colorbar\": {\"outlinewidth\": 1, \"tickcolor\": \"rgb(36,36,36)\", \"ticks\": \"outside\"}}, \"type\": \"scatter3d\"}], \"scattercarpet\": [{\"marker\": {\"colorbar\": {\"outlinewidth\": 1, \"tickcolor\": \"rgb(36,36,36)\", \"ticks\": \"outside\"}}, \"type\": \"scattercarpet\"}], \"scattergeo\": [{\"marker\": {\"colorbar\": {\"outlinewidth\": 1, \"tickcolor\": \"rgb(36,36,36)\", \"ticks\": \"outside\"}}, \"type\": \"scattergeo\"}], \"scattergl\": [{\"marker\": {\"colorbar\": {\"outlinewidth\": 1, \"tickcolor\": \"rgb(36,36,36)\", \"ticks\": \"outside\"}}, \"type\": \"scattergl\"}], \"scattermapbox\": [{\"marker\": {\"colorbar\": {\"outlinewidth\": 1, \"tickcolor\": \"rgb(36,36,36)\", \"ticks\": \"outside\"}}, \"type\": \"scattermapbox\"}], \"scatterpolar\": [{\"marker\": {\"colorbar\": {\"outlinewidth\": 1, \"tickcolor\": \"rgb(36,36,36)\", \"ticks\": \"outside\"}}, \"type\": \"scatterpolar\"}], \"scatterpolargl\": [{\"marker\": {\"colorbar\": {\"outlinewidth\": 1, \"tickcolor\": \"rgb(36,36,36)\", \"ticks\": \"outside\"}}, \"type\": \"scatterpolargl\"}], \"scatterternary\": [{\"marker\": {\"colorbar\": {\"outlinewidth\": 1, \"tickcolor\": \"rgb(36,36,36)\", \"ticks\": \"outside\"}}, \"type\": \"scatterternary\"}], \"surface\": [{\"colorbar\": {\"outlinewidth\": 1, \"tickcolor\": \"rgb(36,36,36)\", \"ticks\": \"outside\"}, \"colorscale\": [[0.0, \"#440154\"], [0.1111111111111111, \"#482878\"], [0.2222222222222222, \"#3e4989\"], [0.3333333333333333, \"#31688e\"], [0.4444444444444444, \"#26828e\"], [0.5555555555555556, \"#1f9e89\"], [0.6666666666666666, \"#35b779\"], [0.7777777777777778, \"#6ece58\"], [0.8888888888888888, \"#b5de2b\"], [1.0, \"#fde725\"]], \"type\": \"surface\"}], \"table\": [{\"cells\": {\"fill\": {\"color\": \"rgb(237,237,237)\"}, \"line\": {\"color\": \"white\"}}, \"header\": {\"fill\": {\"color\": \"rgb(217,217,217)\"}, \"line\": {\"color\": \"white\"}}, \"type\": \"table\"}]}, \"layout\": {\"annotationdefaults\": {\"arrowhead\": 0, \"arrowwidth\": 1}, \"coloraxis\": {\"colorbar\": {\"outlinewidth\": 1, \"tickcolor\": \"rgb(36,36,36)\", \"ticks\": \"outside\"}}, \"colorscale\": {\"diverging\": [[0.0, \"rgb(103,0,31)\"], [0.1, \"rgb(178,24,43)\"], [0.2, \"rgb(214,96,77)\"], [0.3, \"rgb(244,165,130)\"], [0.4, \"rgb(253,219,199)\"], [0.5, \"rgb(247,247,247)\"], [0.6, \"rgb(209,229,240)\"], [0.7, \"rgb(146,197,222)\"], [0.8, \"rgb(67,147,195)\"], [0.9, \"rgb(33,102,172)\"], [1.0, \"rgb(5,48,97)\"]], \"sequential\": [[0.0, \"#440154\"], [0.1111111111111111, \"#482878\"], [0.2222222222222222, \"#3e4989\"], [0.3333333333333333, \"#31688e\"], [0.4444444444444444, \"#26828e\"], [0.5555555555555556, \"#1f9e89\"], [0.6666666666666666, \"#35b779\"], [0.7777777777777778, \"#6ece58\"], [0.8888888888888888, \"#b5de2b\"], [1.0, \"#fde725\"]], \"sequentialminus\": [[0.0, \"#440154\"], [0.1111111111111111, \"#482878\"], [0.2222222222222222, \"#3e4989\"], [0.3333333333333333, \"#31688e\"], [0.4444444444444444, \"#26828e\"], [0.5555555555555556, \"#1f9e89\"], [0.6666666666666666, \"#35b779\"], [0.7777777777777778, \"#6ece58\"], [0.8888888888888888, \"#b5de2b\"], [1.0, \"#fde725\"]]}, \"colorway\": [\"#1F77B4\", \"#FF7F0E\", \"#2CA02C\", \"#D62728\", \"#9467BD\", \"#8C564B\", \"#E377C2\", \"#7F7F7F\", \"#BCBD22\", \"#17BECF\"], \"font\": {\"color\": \"rgb(36,36,36)\"}, \"geo\": {\"bgcolor\": \"white\", \"lakecolor\": \"white\", \"landcolor\": \"white\", \"showlakes\": true, \"showland\": true, \"subunitcolor\": \"white\"}, \"hoverlabel\": {\"align\": \"left\"}, \"hovermode\": \"closest\", \"mapbox\": {\"style\": \"light\"}, \"paper_bgcolor\": \"white\", \"plot_bgcolor\": \"white\", \"polar\": {\"angularaxis\": {\"gridcolor\": \"rgb(232,232,232)\", \"linecolor\": \"rgb(36,36,36)\", \"showgrid\": false, \"showline\": true, \"ticks\": \"outside\"}, \"bgcolor\": \"white\", \"radialaxis\": {\"gridcolor\": \"rgb(232,232,232)\", \"linecolor\": \"rgb(36,36,36)\", \"showgrid\": false, \"showline\": true, \"ticks\": \"outside\"}}, \"scene\": {\"xaxis\": {\"backgroundcolor\": \"white\", \"gridcolor\": \"rgb(232,232,232)\", \"gridwidth\": 2, \"linecolor\": \"rgb(36,36,36)\", \"showbackground\": true, \"showgrid\": false, \"showline\": true, \"ticks\": \"outside\", \"zeroline\": false, \"zerolinecolor\": \"rgb(36,36,36)\"}, \"yaxis\": {\"backgroundcolor\": \"white\", \"gridcolor\": \"rgb(232,232,232)\", \"gridwidth\": 2, \"linecolor\": \"rgb(36,36,36)\", \"showbackground\": true, \"showgrid\": false, \"showline\": true, \"ticks\": \"outside\", \"zeroline\": false, \"zerolinecolor\": \"rgb(36,36,36)\"}, \"zaxis\": {\"backgroundcolor\": \"white\", \"gridcolor\": \"rgb(232,232,232)\", \"gridwidth\": 2, \"linecolor\": \"rgb(36,36,36)\", \"showbackground\": true, \"showgrid\": false, \"showline\": true, \"ticks\": \"outside\", \"zeroline\": false, \"zerolinecolor\": \"rgb(36,36,36)\"}}, \"shapedefaults\": {\"fillcolor\": \"black\", \"line\": {\"width\": 0}, \"opacity\": 0.3}, \"ternary\": {\"aaxis\": {\"gridcolor\": \"rgb(232,232,232)\", \"linecolor\": \"rgb(36,36,36)\", \"showgrid\": false, \"showline\": true, \"ticks\": \"outside\"}, \"baxis\": {\"gridcolor\": \"rgb(232,232,232)\", \"linecolor\": \"rgb(36,36,36)\", \"showgrid\": false, \"showline\": true, \"ticks\": \"outside\"}, \"bgcolor\": \"white\", \"caxis\": {\"gridcolor\": \"rgb(232,232,232)\", \"linecolor\": \"rgb(36,36,36)\", \"showgrid\": false, \"showline\": true, \"ticks\": \"outside\"}}, \"title\": {\"x\": 0.05}, \"xaxis\": {\"automargin\": true, \"gridcolor\": \"rgb(232,232,232)\", \"linecolor\": \"rgb(36,36,36)\", \"showgrid\": false, \"showline\": true, \"ticks\": \"outside\", \"title\": {\"standoff\": 15}, \"zeroline\": false, \"zerolinecolor\": \"rgb(36,36,36)\"}, \"yaxis\": {\"automargin\": true, \"gridcolor\": \"rgb(232,232,232)\", \"linecolor\": \"rgb(36,36,36)\", \"showgrid\": false, \"showline\": true, \"ticks\": \"outside\", \"title\": {\"standoff\": 15}, \"zeroline\": false, \"zerolinecolor\": \"rgb(36,36,36)\"}}}, \"title\": {\"text\": \"Subreddit Religiosity Dimension Versus Support by Religious Attendance\"}, \"xaxis\": {\"anchor\": \"y\", \"domain\": [0.0, 1.0], \"range\": [-0.1905991890690073, 0.027309798283675427], \"title\": {\"text\": \"Subreddit religiosity\"}}, \"yaxis\": {\"anchor\": \"x\", \"domain\": [0.0, 1.0], \"range\": [-0.288888888888889, 0.25999999999999995], \"title\": {\"text\": \"Surveyed religiosity\"}}},\n",
       "                        {\"responsive\": true}\n",
       "                    ).then(function(){\n",
       "                            \n",
       "var gd = document.getElementById('5d84421c-7c18-4619-90b2-729a274cd1c6');\n",
       "var x = new MutationObserver(function (mutations, observer) {{\n",
       "        var display = window.getComputedStyle(gd).display;\n",
       "        if (!display || display === 'none') {{\n",
       "            console.log([gd, 'removed!']);\n",
       "            Plotly.purge(gd);\n",
       "            observer.disconnect();\n",
       "        }}\n",
       "}});\n",
       "\n",
       "// Listen for the removal of the full notebook cells\n",
       "var notebookContainer = gd.closest('#notebook-container');\n",
       "if (notebookContainer) {{\n",
       "    x.observe(notebookContainer, {childList: true});\n",
       "}}\n",
       "\n",
       "// Listen for the clearing of the current output cell\n",
       "var outputEl = gd.closest('.output');\n",
       "if (outputEl) {{\n",
       "    x.observe(outputEl, {childList: true});\n",
       "}}\n",
       "\n",
       "                        })\n",
       "                };\n",
       "                });\n",
       "            </script>\n",
       "        </div>"
      ]
     },
     "metadata": {},
     "output_type": "display_data"
    }
   ],
   "source": [
    "xmin, xmax = religion_df[\"reddit_projection\"].min()*1.3,religion_df[\"reddit_projection\"].max()*1.3\n",
    "ymin, ymax = religion_df[\"religiosity\"].min()*1.3,religion_df[\"religiosity\"].max()*1.3\n",
    "\n",
    "args = {\n",
    "    \"x\": \"reddit_projection\",\n",
    "    \"y\": \"religiosity\",\n",
    "    \"text\": religion_df.index,\n",
    "    \"title\":  \"Subreddit Religiosity Dimension Versus Support by Religious Attendance\",\n",
    "    \"template\": \"simple_white\",\n",
    "    \"labels\": {\"reddit_projection\": \"Subreddit religiosity\", \"religiosity\": \"Surveyed religiosity\"},\n",
    "    \"range_x\": [xmin,xmax],\n",
    "    \"range_y\": [ymin,ymax],\n",
    "}\n",
    "\n",
    "annotations = [dict(x=xmin*0.85,y=ymin*0.9,xref=\"x\",yref=\"y\", text=\"<b>Support Trends Secular<br>Subreddit Trends Secular</b>\",showarrow=False),\n",
    "               dict(x=xmax*0.8,y=ymin*0.92,xref=\"x\",yref=\"y\", text=\"<b>Subreddit Trends Religious</b>\",showarrow=False),\n",
    "               dict(x=xmin*0.85,y=ymax,xref=\"x\",yref=\"y\", text=\"<b>Support Trends Religious</b>\",showarrow=False),\n",
    "               dict(x=-0.03,y=predict(-0.03),xref=\"x\",yref=\"y\", text=\"r<sup>2</sup>={:.2f}\".format(r2)),\n",
    "              ]\n",
    "x = np.linspace(xmin,xmax,num=2)\n",
    "    \n",
    "fig = px.scatter(religion_df,**args)\n",
    "\n",
    "fig.update_traces(textposition='bottom center')\n",
    "fig.add_scatter(x=x,\n",
    "                y=predict(x),\n",
    "                mode='lines',\n",
    "                line=dict(dash=\"dash\",width=2,color=\"rgba(0,0,160,0.3)\"),\n",
    "                name=\"Linear Regression\"\n",
    "               )\n",
    "\n",
    "fig.update_layout(annotations=annotations)\n",
    "# fig.write_html(\"visualizations/Pew_Research-religiosity_dim.html\")\n",
    "fig.show()"
   ]
  },
  {
   "cell_type": "markdown",
   "metadata": {},
   "source": [
    "## War Validation"
   ]
  },
  {
   "cell_type": "code",
   "execution_count": 96,
   "metadata": {},
   "outputs": [
    {
     "data": {
      "text/html": [
       "<div>\n",
       "<style scoped>\n",
       "    .dataframe tbody tr th:only-of-type {\n",
       "        vertical-align: middle;\n",
       "    }\n",
       "\n",
       "    .dataframe tbody tr th {\n",
       "        vertical-align: top;\n",
       "    }\n",
       "\n",
       "    .dataframe thead th {\n",
       "        text-align: right;\n",
       "    }\n",
       "</style>\n",
       "<table border=\"1\" class=\"dataframe\">\n",
       "  <thead>\n",
       "    <tr style=\"text-align: right;\">\n",
       "      <th>candidate</th>\n",
       "      <th>veteran</th>\n",
       "      <th>reddit_projection</th>\n",
       "    </tr>\n",
       "  </thead>\n",
       "  <tbody>\n",
       "    <tr>\n",
       "      <th>Biden</th>\n",
       "      <td>0.129032</td>\n",
       "      <td>-0.159423</td>\n",
       "    </tr>\n",
       "    <tr>\n",
       "      <th>Buttigieg</th>\n",
       "      <td>-0.052632</td>\n",
       "      <td>-0.132106</td>\n",
       "    </tr>\n",
       "    <tr>\n",
       "      <th>Klobuchar</th>\n",
       "      <td>0.250000</td>\n",
       "      <td>-0.097598</td>\n",
       "    </tr>\n",
       "    <tr>\n",
       "      <th>Sanders</th>\n",
       "      <td>-0.016949</td>\n",
       "      <td>-0.259093</td>\n",
       "    </tr>\n",
       "    <tr>\n",
       "      <th>Warren</th>\n",
       "      <td>-0.125000</td>\n",
       "      <td>-0.244371</td>\n",
       "    </tr>\n",
       "    <tr>\n",
       "      <th>Yang</th>\n",
       "      <td>-0.111111</td>\n",
       "      <td>-0.220962</td>\n",
       "    </tr>\n",
       "  </tbody>\n",
       "</table>\n",
       "</div>"
      ],
      "text/plain": [
       "candidate   veteran  reddit_projection\n",
       "Biden      0.129032          -0.159423\n",
       "Buttigieg -0.052632          -0.132106\n",
       "Klobuchar  0.250000          -0.097598\n",
       "Sanders   -0.016949          -0.259093\n",
       "Warren    -0.125000          -0.244371\n",
       "Yang      -0.111111          -0.220962"
      ]
     },
     "execution_count": 96,
     "metadata": {},
     "output_type": "execute_result"
    }
   ],
   "source": [
    "war_df = pd.pivot_table(pew_survey.loc[\"Veteran (self)\",:].reset_index(), values=cands, columns=['Demographic'])\n",
    "war_df.columns = war_df.columns.rename(\"candidate\")\n",
    "war_df = war_df[[\"No, no veteran in household\",\"No, but veteran in household\",\"Yes, self\"]]\n",
    "war_df[\"veteran\"] = war_df.apply(survey_to_num,axis=1)\n",
    "i_dim = calculate_dim(war_dim.subreddits,embedding)\n",
    "war_df[\"reddit_projection\"] = [project_dim(i_dim,c,embedding) for c in cand_subs]\n",
    "war_df = war_df[[\"veteran\",\"reddit_projection\"]]\n",
    "war_df"
   ]
  },
  {
   "cell_type": "code",
   "execution_count": 97,
   "metadata": {},
   "outputs": [
    {
     "data": {
      "text/plain": [
       "0.5263858150259689"
      ]
     },
     "execution_count": 97,
     "metadata": {},
     "output_type": "execute_result"
    }
   ],
   "source": [
    "# Fit a linear regression to our model and its results\n",
    "model = np.polyfit(war_df[\"reddit_projection\"], war_df[\"veteran\"], 1)\n",
    "predict = np.poly1d(model)\n",
    "r2 = r2_score(war_df[\"veteran\"], predict(war_df[\"reddit_projection\"]))\n",
    "r2"
   ]
  },
  {
   "cell_type": "code",
   "execution_count": 98,
   "metadata": {
    "scrolled": false
   },
   "outputs": [
    {
     "data": {
      "application/vnd.plotly.v1+json": {
       "config": {
        "plotlyServerURL": "https://plot.ly"
       },
       "data": [
        {
         "hovertemplate": "Subreddit Military Dimension=%{x}<br>Surveyed veteran=%{y}<br>index=%{text}<extra></extra>",
         "legendgroup": "",
         "marker": {
          "color": "#1F77B4",
          "symbol": "circle"
         },
         "mode": "markers+text",
         "name": "",
         "orientation": "v",
         "showlegend": false,
         "text": [
          "Biden",
          "Buttigieg",
          "Klobuchar",
          "Sanders",
          "Warren",
          "Yang"
         ],
         "textposition": "bottom center",
         "type": "scatter",
         "x": [
          -0.1594228423380611,
          -0.1321060181919814,
          -0.09759767393663685,
          -0.2590931076578307,
          -0.24437063275123408,
          -0.2209615347760919
         ],
         "xaxis": "x",
         "y": [
          0.12903225806451613,
          -0.05263157894736842,
          0.25,
          -0.01694915254237288,
          -0.125,
          -0.1111111111111111
         ],
         "yaxis": "y"
        },
        {
         "line": {
          "color": "rgba(0,0,160,0.3)",
          "dash": "dash",
          "width": 2
         },
         "mode": "lines",
         "name": "Linear Regression",
         "type": "scatter",
         "x": [
          -0.33682103995518,
          -0.047597673936636845
         ],
         "y": [
          -0.23573786370191224,
          0.2384843958071478
         ]
        }
       ],
       "layout": {
        "annotations": [
         {
          "showarrow": false,
          "text": "<b>Less Veteran Support<br>Subreddit Trends Pascifistic</b>",
          "x": -0.2964025151605584,
          "xref": "x",
          "y": -0.14300000000000002,
          "yref": "y"
         },
         {
          "showarrow": false,
          "text": "<b>Subreddit Trends Hawkish</b>",
          "x": -0.047597673936636845,
          "xref": "x",
          "y": -0.14625000000000002,
          "yref": "y"
         },
         {
          "showarrow": false,
          "text": "<b>More Veteran Support</b>",
          "x": -0.303138935959662,
          "xref": "x",
          "y": 0.275,
          "yref": "y"
         },
         {
          "text": "r<sup>2</sup>=0.53",
          "x": -0.2,
          "xref": "x",
          "y": -0.011400585531361807,
          "yref": "y"
         }
        ],
        "legend": {
         "tracegroupgap": 0
        },
        "template": {
         "data": {
          "bar": [
           {
            "error_x": {
             "color": "rgb(36,36,36)"
            },
            "error_y": {
             "color": "rgb(36,36,36)"
            },
            "marker": {
             "line": {
              "color": "white",
              "width": 0.5
             }
            },
            "type": "bar"
           }
          ],
          "barpolar": [
           {
            "marker": {
             "line": {
              "color": "white",
              "width": 0.5
             }
            },
            "type": "barpolar"
           }
          ],
          "carpet": [
           {
            "aaxis": {
             "endlinecolor": "rgb(36,36,36)",
             "gridcolor": "white",
             "linecolor": "white",
             "minorgridcolor": "white",
             "startlinecolor": "rgb(36,36,36)"
            },
            "baxis": {
             "endlinecolor": "rgb(36,36,36)",
             "gridcolor": "white",
             "linecolor": "white",
             "minorgridcolor": "white",
             "startlinecolor": "rgb(36,36,36)"
            },
            "type": "carpet"
           }
          ],
          "choropleth": [
           {
            "colorbar": {
             "outlinewidth": 1,
             "tickcolor": "rgb(36,36,36)",
             "ticks": "outside"
            },
            "type": "choropleth"
           }
          ],
          "contour": [
           {
            "colorbar": {
             "outlinewidth": 1,
             "tickcolor": "rgb(36,36,36)",
             "ticks": "outside"
            },
            "colorscale": [
             [
              0,
              "#440154"
             ],
             [
              0.1111111111111111,
              "#482878"
             ],
             [
              0.2222222222222222,
              "#3e4989"
             ],
             [
              0.3333333333333333,
              "#31688e"
             ],
             [
              0.4444444444444444,
              "#26828e"
             ],
             [
              0.5555555555555556,
              "#1f9e89"
             ],
             [
              0.6666666666666666,
              "#35b779"
             ],
             [
              0.7777777777777778,
              "#6ece58"
             ],
             [
              0.8888888888888888,
              "#b5de2b"
             ],
             [
              1,
              "#fde725"
             ]
            ],
            "type": "contour"
           }
          ],
          "contourcarpet": [
           {
            "colorbar": {
             "outlinewidth": 1,
             "tickcolor": "rgb(36,36,36)",
             "ticks": "outside"
            },
            "type": "contourcarpet"
           }
          ],
          "heatmap": [
           {
            "colorbar": {
             "outlinewidth": 1,
             "tickcolor": "rgb(36,36,36)",
             "ticks": "outside"
            },
            "colorscale": [
             [
              0,
              "#440154"
             ],
             [
              0.1111111111111111,
              "#482878"
             ],
             [
              0.2222222222222222,
              "#3e4989"
             ],
             [
              0.3333333333333333,
              "#31688e"
             ],
             [
              0.4444444444444444,
              "#26828e"
             ],
             [
              0.5555555555555556,
              "#1f9e89"
             ],
             [
              0.6666666666666666,
              "#35b779"
             ],
             [
              0.7777777777777778,
              "#6ece58"
             ],
             [
              0.8888888888888888,
              "#b5de2b"
             ],
             [
              1,
              "#fde725"
             ]
            ],
            "type": "heatmap"
           }
          ],
          "heatmapgl": [
           {
            "colorbar": {
             "outlinewidth": 1,
             "tickcolor": "rgb(36,36,36)",
             "ticks": "outside"
            },
            "colorscale": [
             [
              0,
              "#440154"
             ],
             [
              0.1111111111111111,
              "#482878"
             ],
             [
              0.2222222222222222,
              "#3e4989"
             ],
             [
              0.3333333333333333,
              "#31688e"
             ],
             [
              0.4444444444444444,
              "#26828e"
             ],
             [
              0.5555555555555556,
              "#1f9e89"
             ],
             [
              0.6666666666666666,
              "#35b779"
             ],
             [
              0.7777777777777778,
              "#6ece58"
             ],
             [
              0.8888888888888888,
              "#b5de2b"
             ],
             [
              1,
              "#fde725"
             ]
            ],
            "type": "heatmapgl"
           }
          ],
          "histogram": [
           {
            "marker": {
             "line": {
              "color": "white",
              "width": 0.6
             }
            },
            "type": "histogram"
           }
          ],
          "histogram2d": [
           {
            "colorbar": {
             "outlinewidth": 1,
             "tickcolor": "rgb(36,36,36)",
             "ticks": "outside"
            },
            "colorscale": [
             [
              0,
              "#440154"
             ],
             [
              0.1111111111111111,
              "#482878"
             ],
             [
              0.2222222222222222,
              "#3e4989"
             ],
             [
              0.3333333333333333,
              "#31688e"
             ],
             [
              0.4444444444444444,
              "#26828e"
             ],
             [
              0.5555555555555556,
              "#1f9e89"
             ],
             [
              0.6666666666666666,
              "#35b779"
             ],
             [
              0.7777777777777778,
              "#6ece58"
             ],
             [
              0.8888888888888888,
              "#b5de2b"
             ],
             [
              1,
              "#fde725"
             ]
            ],
            "type": "histogram2d"
           }
          ],
          "histogram2dcontour": [
           {
            "colorbar": {
             "outlinewidth": 1,
             "tickcolor": "rgb(36,36,36)",
             "ticks": "outside"
            },
            "colorscale": [
             [
              0,
              "#440154"
             ],
             [
              0.1111111111111111,
              "#482878"
             ],
             [
              0.2222222222222222,
              "#3e4989"
             ],
             [
              0.3333333333333333,
              "#31688e"
             ],
             [
              0.4444444444444444,
              "#26828e"
             ],
             [
              0.5555555555555556,
              "#1f9e89"
             ],
             [
              0.6666666666666666,
              "#35b779"
             ],
             [
              0.7777777777777778,
              "#6ece58"
             ],
             [
              0.8888888888888888,
              "#b5de2b"
             ],
             [
              1,
              "#fde725"
             ]
            ],
            "type": "histogram2dcontour"
           }
          ],
          "mesh3d": [
           {
            "colorbar": {
             "outlinewidth": 1,
             "tickcolor": "rgb(36,36,36)",
             "ticks": "outside"
            },
            "type": "mesh3d"
           }
          ],
          "parcoords": [
           {
            "line": {
             "colorbar": {
              "outlinewidth": 1,
              "tickcolor": "rgb(36,36,36)",
              "ticks": "outside"
             }
            },
            "type": "parcoords"
           }
          ],
          "pie": [
           {
            "automargin": true,
            "type": "pie"
           }
          ],
          "scatter": [
           {
            "marker": {
             "colorbar": {
              "outlinewidth": 1,
              "tickcolor": "rgb(36,36,36)",
              "ticks": "outside"
             }
            },
            "type": "scatter"
           }
          ],
          "scatter3d": [
           {
            "line": {
             "colorbar": {
              "outlinewidth": 1,
              "tickcolor": "rgb(36,36,36)",
              "ticks": "outside"
             }
            },
            "marker": {
             "colorbar": {
              "outlinewidth": 1,
              "tickcolor": "rgb(36,36,36)",
              "ticks": "outside"
             }
            },
            "type": "scatter3d"
           }
          ],
          "scattercarpet": [
           {
            "marker": {
             "colorbar": {
              "outlinewidth": 1,
              "tickcolor": "rgb(36,36,36)",
              "ticks": "outside"
             }
            },
            "type": "scattercarpet"
           }
          ],
          "scattergeo": [
           {
            "marker": {
             "colorbar": {
              "outlinewidth": 1,
              "tickcolor": "rgb(36,36,36)",
              "ticks": "outside"
             }
            },
            "type": "scattergeo"
           }
          ],
          "scattergl": [
           {
            "marker": {
             "colorbar": {
              "outlinewidth": 1,
              "tickcolor": "rgb(36,36,36)",
              "ticks": "outside"
             }
            },
            "type": "scattergl"
           }
          ],
          "scattermapbox": [
           {
            "marker": {
             "colorbar": {
              "outlinewidth": 1,
              "tickcolor": "rgb(36,36,36)",
              "ticks": "outside"
             }
            },
            "type": "scattermapbox"
           }
          ],
          "scatterpolar": [
           {
            "marker": {
             "colorbar": {
              "outlinewidth": 1,
              "tickcolor": "rgb(36,36,36)",
              "ticks": "outside"
             }
            },
            "type": "scatterpolar"
           }
          ],
          "scatterpolargl": [
           {
            "marker": {
             "colorbar": {
              "outlinewidth": 1,
              "tickcolor": "rgb(36,36,36)",
              "ticks": "outside"
             }
            },
            "type": "scatterpolargl"
           }
          ],
          "scatterternary": [
           {
            "marker": {
             "colorbar": {
              "outlinewidth": 1,
              "tickcolor": "rgb(36,36,36)",
              "ticks": "outside"
             }
            },
            "type": "scatterternary"
           }
          ],
          "surface": [
           {
            "colorbar": {
             "outlinewidth": 1,
             "tickcolor": "rgb(36,36,36)",
             "ticks": "outside"
            },
            "colorscale": [
             [
              0,
              "#440154"
             ],
             [
              0.1111111111111111,
              "#482878"
             ],
             [
              0.2222222222222222,
              "#3e4989"
             ],
             [
              0.3333333333333333,
              "#31688e"
             ],
             [
              0.4444444444444444,
              "#26828e"
             ],
             [
              0.5555555555555556,
              "#1f9e89"
             ],
             [
              0.6666666666666666,
              "#35b779"
             ],
             [
              0.7777777777777778,
              "#6ece58"
             ],
             [
              0.8888888888888888,
              "#b5de2b"
             ],
             [
              1,
              "#fde725"
             ]
            ],
            "type": "surface"
           }
          ],
          "table": [
           {
            "cells": {
             "fill": {
              "color": "rgb(237,237,237)"
             },
             "line": {
              "color": "white"
             }
            },
            "header": {
             "fill": {
              "color": "rgb(217,217,217)"
             },
             "line": {
              "color": "white"
             }
            },
            "type": "table"
           }
          ]
         },
         "layout": {
          "annotationdefaults": {
           "arrowhead": 0,
           "arrowwidth": 1
          },
          "coloraxis": {
           "colorbar": {
            "outlinewidth": 1,
            "tickcolor": "rgb(36,36,36)",
            "ticks": "outside"
           }
          },
          "colorscale": {
           "diverging": [
            [
             0,
             "rgb(103,0,31)"
            ],
            [
             0.1,
             "rgb(178,24,43)"
            ],
            [
             0.2,
             "rgb(214,96,77)"
            ],
            [
             0.3,
             "rgb(244,165,130)"
            ],
            [
             0.4,
             "rgb(253,219,199)"
            ],
            [
             0.5,
             "rgb(247,247,247)"
            ],
            [
             0.6,
             "rgb(209,229,240)"
            ],
            [
             0.7,
             "rgb(146,197,222)"
            ],
            [
             0.8,
             "rgb(67,147,195)"
            ],
            [
             0.9,
             "rgb(33,102,172)"
            ],
            [
             1,
             "rgb(5,48,97)"
            ]
           ],
           "sequential": [
            [
             0,
             "#440154"
            ],
            [
             0.1111111111111111,
             "#482878"
            ],
            [
             0.2222222222222222,
             "#3e4989"
            ],
            [
             0.3333333333333333,
             "#31688e"
            ],
            [
             0.4444444444444444,
             "#26828e"
            ],
            [
             0.5555555555555556,
             "#1f9e89"
            ],
            [
             0.6666666666666666,
             "#35b779"
            ],
            [
             0.7777777777777778,
             "#6ece58"
            ],
            [
             0.8888888888888888,
             "#b5de2b"
            ],
            [
             1,
             "#fde725"
            ]
           ],
           "sequentialminus": [
            [
             0,
             "#440154"
            ],
            [
             0.1111111111111111,
             "#482878"
            ],
            [
             0.2222222222222222,
             "#3e4989"
            ],
            [
             0.3333333333333333,
             "#31688e"
            ],
            [
             0.4444444444444444,
             "#26828e"
            ],
            [
             0.5555555555555556,
             "#1f9e89"
            ],
            [
             0.6666666666666666,
             "#35b779"
            ],
            [
             0.7777777777777778,
             "#6ece58"
            ],
            [
             0.8888888888888888,
             "#b5de2b"
            ],
            [
             1,
             "#fde725"
            ]
           ]
          },
          "colorway": [
           "#1F77B4",
           "#FF7F0E",
           "#2CA02C",
           "#D62728",
           "#9467BD",
           "#8C564B",
           "#E377C2",
           "#7F7F7F",
           "#BCBD22",
           "#17BECF"
          ],
          "font": {
           "color": "rgb(36,36,36)"
          },
          "geo": {
           "bgcolor": "white",
           "lakecolor": "white",
           "landcolor": "white",
           "showlakes": true,
           "showland": true,
           "subunitcolor": "white"
          },
          "hoverlabel": {
           "align": "left"
          },
          "hovermode": "closest",
          "mapbox": {
           "style": "light"
          },
          "paper_bgcolor": "white",
          "plot_bgcolor": "white",
          "polar": {
           "angularaxis": {
            "gridcolor": "rgb(232,232,232)",
            "linecolor": "rgb(36,36,36)",
            "showgrid": false,
            "showline": true,
            "ticks": "outside"
           },
           "bgcolor": "white",
           "radialaxis": {
            "gridcolor": "rgb(232,232,232)",
            "linecolor": "rgb(36,36,36)",
            "showgrid": false,
            "showline": true,
            "ticks": "outside"
           }
          },
          "scene": {
           "xaxis": {
            "backgroundcolor": "white",
            "gridcolor": "rgb(232,232,232)",
            "gridwidth": 2,
            "linecolor": "rgb(36,36,36)",
            "showbackground": true,
            "showgrid": false,
            "showline": true,
            "ticks": "outside",
            "zeroline": false,
            "zerolinecolor": "rgb(36,36,36)"
           },
           "yaxis": {
            "backgroundcolor": "white",
            "gridcolor": "rgb(232,232,232)",
            "gridwidth": 2,
            "linecolor": "rgb(36,36,36)",
            "showbackground": true,
            "showgrid": false,
            "showline": true,
            "ticks": "outside",
            "zeroline": false,
            "zerolinecolor": "rgb(36,36,36)"
           },
           "zaxis": {
            "backgroundcolor": "white",
            "gridcolor": "rgb(232,232,232)",
            "gridwidth": 2,
            "linecolor": "rgb(36,36,36)",
            "showbackground": true,
            "showgrid": false,
            "showline": true,
            "ticks": "outside",
            "zeroline": false,
            "zerolinecolor": "rgb(36,36,36)"
           }
          },
          "shapedefaults": {
           "fillcolor": "black",
           "line": {
            "width": 0
           },
           "opacity": 0.3
          },
          "ternary": {
           "aaxis": {
            "gridcolor": "rgb(232,232,232)",
            "linecolor": "rgb(36,36,36)",
            "showgrid": false,
            "showline": true,
            "ticks": "outside"
           },
           "baxis": {
            "gridcolor": "rgb(232,232,232)",
            "linecolor": "rgb(36,36,36)",
            "showgrid": false,
            "showline": true,
            "ticks": "outside"
           },
           "bgcolor": "white",
           "caxis": {
            "gridcolor": "rgb(232,232,232)",
            "linecolor": "rgb(36,36,36)",
            "showgrid": false,
            "showline": true,
            "ticks": "outside"
           }
          },
          "title": {
           "x": 0.05
          },
          "xaxis": {
           "automargin": true,
           "gridcolor": "rgb(232,232,232)",
           "linecolor": "rgb(36,36,36)",
           "showgrid": false,
           "showline": true,
           "ticks": "outside",
           "title": {
            "standoff": 15
           },
           "zeroline": false,
           "zerolinecolor": "rgb(36,36,36)"
          },
          "yaxis": {
           "automargin": true,
           "gridcolor": "rgb(232,232,232)",
           "linecolor": "rgb(36,36,36)",
           "showgrid": false,
           "showline": true,
           "ticks": "outside",
           "title": {
            "standoff": 15
           },
           "zeroline": false,
           "zerolinecolor": "rgb(36,36,36)"
          }
         }
        },
        "title": {
         "text": "Subreddit Hawkish Dimension Versus Support by Military Households"
        },
        "xaxis": {
         "anchor": "y",
         "domain": [
          0,
          1
         ],
         "range": [
          -0.33682103995518,
          -0.047597673936636845
         ],
         "title": {
          "text": "Subreddit Military Dimension"
         }
        },
        "yaxis": {
         "anchor": "x",
         "domain": [
          0,
          1
         ],
         "range": [
          -0.1625,
          0.275
         ],
         "title": {
          "text": "Surveyed veteran"
         }
        }
       }
      },
      "text/html": [
       "<div>\n",
       "        \n",
       "        \n",
       "            <div id=\"d1438f4e-e150-49c3-8fd8-f72ae01e6265\" class=\"plotly-graph-div\" style=\"height:525px; width:100%;\"></div>\n",
       "            <script type=\"text/javascript\">\n",
       "                require([\"plotly\"], function(Plotly) {\n",
       "                    window.PLOTLYENV=window.PLOTLYENV || {};\n",
       "                    \n",
       "                if (document.getElementById(\"d1438f4e-e150-49c3-8fd8-f72ae01e6265\")) {\n",
       "                    Plotly.newPlot(\n",
       "                        'd1438f4e-e150-49c3-8fd8-f72ae01e6265',\n",
       "                        [{\"hovertemplate\": \"Subreddit Military Dimension=%{x}<br>Surveyed veteran=%{y}<br>index=%{text}<extra></extra>\", \"legendgroup\": \"\", \"marker\": {\"color\": \"#1F77B4\", \"symbol\": \"circle\"}, \"mode\": \"markers+text\", \"name\": \"\", \"orientation\": \"v\", \"showlegend\": false, \"text\": [\"Biden\", \"Buttigieg\", \"Klobuchar\", \"Sanders\", \"Warren\", \"Yang\"], \"textposition\": \"bottom center\", \"type\": \"scatter\", \"x\": [-0.1594228423380611, -0.1321060181919814, -0.09759767393663685, -0.2590931076578307, -0.24437063275123408, -0.2209615347760919], \"xaxis\": \"x\", \"y\": [0.12903225806451613, -0.05263157894736842, 0.25, -0.01694915254237288, -0.125, -0.1111111111111111], \"yaxis\": \"y\"}, {\"line\": {\"color\": \"rgba(0,0,160,0.3)\", \"dash\": \"dash\", \"width\": 2}, \"mode\": \"lines\", \"name\": \"Linear Regression\", \"type\": \"scatter\", \"x\": [-0.33682103995518, -0.047597673936636845], \"y\": [-0.23573786370191224, 0.2384843958071478]}],\n",
       "                        {\"annotations\": [{\"showarrow\": false, \"text\": \"<b>Less Veteran Support<br>Subreddit Trends Pascifistic</b>\", \"x\": -0.2964025151605584, \"xref\": \"x\", \"y\": -0.14300000000000002, \"yref\": \"y\"}, {\"showarrow\": false, \"text\": \"<b>Subreddit Trends Hawkish</b>\", \"x\": -0.047597673936636845, \"xref\": \"x\", \"y\": -0.14625000000000002, \"yref\": \"y\"}, {\"showarrow\": false, \"text\": \"<b>More Veteran Support</b>\", \"x\": -0.303138935959662, \"xref\": \"x\", \"y\": 0.275, \"yref\": \"y\"}, {\"text\": \"r<sup>2</sup>=0.53\", \"x\": -0.2, \"xref\": \"x\", \"y\": -0.011400585531361807, \"yref\": \"y\"}], \"legend\": {\"tracegroupgap\": 0}, \"template\": {\"data\": {\"bar\": [{\"error_x\": {\"color\": \"rgb(36,36,36)\"}, \"error_y\": {\"color\": \"rgb(36,36,36)\"}, \"marker\": {\"line\": {\"color\": \"white\", \"width\": 0.5}}, \"type\": \"bar\"}], \"barpolar\": [{\"marker\": {\"line\": {\"color\": \"white\", \"width\": 0.5}}, \"type\": \"barpolar\"}], \"carpet\": [{\"aaxis\": {\"endlinecolor\": \"rgb(36,36,36)\", \"gridcolor\": \"white\", \"linecolor\": \"white\", \"minorgridcolor\": \"white\", \"startlinecolor\": \"rgb(36,36,36)\"}, \"baxis\": {\"endlinecolor\": \"rgb(36,36,36)\", \"gridcolor\": \"white\", \"linecolor\": \"white\", \"minorgridcolor\": \"white\", \"startlinecolor\": \"rgb(36,36,36)\"}, \"type\": \"carpet\"}], \"choropleth\": [{\"colorbar\": {\"outlinewidth\": 1, \"tickcolor\": \"rgb(36,36,36)\", \"ticks\": \"outside\"}, \"type\": \"choropleth\"}], \"contour\": [{\"colorbar\": {\"outlinewidth\": 1, \"tickcolor\": \"rgb(36,36,36)\", \"ticks\": \"outside\"}, \"colorscale\": [[0.0, \"#440154\"], [0.1111111111111111, \"#482878\"], [0.2222222222222222, \"#3e4989\"], [0.3333333333333333, \"#31688e\"], [0.4444444444444444, \"#26828e\"], [0.5555555555555556, \"#1f9e89\"], [0.6666666666666666, \"#35b779\"], [0.7777777777777778, \"#6ece58\"], [0.8888888888888888, \"#b5de2b\"], [1.0, \"#fde725\"]], \"type\": \"contour\"}], \"contourcarpet\": [{\"colorbar\": {\"outlinewidth\": 1, \"tickcolor\": \"rgb(36,36,36)\", \"ticks\": \"outside\"}, \"type\": \"contourcarpet\"}], \"heatmap\": [{\"colorbar\": {\"outlinewidth\": 1, \"tickcolor\": \"rgb(36,36,36)\", \"ticks\": \"outside\"}, \"colorscale\": [[0.0, \"#440154\"], [0.1111111111111111, \"#482878\"], [0.2222222222222222, \"#3e4989\"], [0.3333333333333333, \"#31688e\"], [0.4444444444444444, \"#26828e\"], [0.5555555555555556, \"#1f9e89\"], [0.6666666666666666, \"#35b779\"], [0.7777777777777778, \"#6ece58\"], [0.8888888888888888, \"#b5de2b\"], [1.0, \"#fde725\"]], \"type\": \"heatmap\"}], \"heatmapgl\": [{\"colorbar\": {\"outlinewidth\": 1, \"tickcolor\": \"rgb(36,36,36)\", \"ticks\": \"outside\"}, \"colorscale\": [[0.0, \"#440154\"], [0.1111111111111111, \"#482878\"], [0.2222222222222222, \"#3e4989\"], [0.3333333333333333, \"#31688e\"], [0.4444444444444444, \"#26828e\"], [0.5555555555555556, \"#1f9e89\"], [0.6666666666666666, \"#35b779\"], [0.7777777777777778, \"#6ece58\"], [0.8888888888888888, \"#b5de2b\"], [1.0, \"#fde725\"]], \"type\": \"heatmapgl\"}], \"histogram\": [{\"marker\": {\"line\": {\"color\": \"white\", \"width\": 0.6}}, \"type\": \"histogram\"}], \"histogram2d\": [{\"colorbar\": {\"outlinewidth\": 1, \"tickcolor\": \"rgb(36,36,36)\", \"ticks\": \"outside\"}, \"colorscale\": [[0.0, \"#440154\"], [0.1111111111111111, \"#482878\"], [0.2222222222222222, \"#3e4989\"], [0.3333333333333333, \"#31688e\"], [0.4444444444444444, \"#26828e\"], [0.5555555555555556, \"#1f9e89\"], [0.6666666666666666, \"#35b779\"], [0.7777777777777778, \"#6ece58\"], [0.8888888888888888, \"#b5de2b\"], [1.0, \"#fde725\"]], \"type\": \"histogram2d\"}], \"histogram2dcontour\": [{\"colorbar\": {\"outlinewidth\": 1, \"tickcolor\": \"rgb(36,36,36)\", \"ticks\": \"outside\"}, \"colorscale\": [[0.0, \"#440154\"], [0.1111111111111111, \"#482878\"], [0.2222222222222222, \"#3e4989\"], [0.3333333333333333, \"#31688e\"], [0.4444444444444444, \"#26828e\"], [0.5555555555555556, \"#1f9e89\"], [0.6666666666666666, \"#35b779\"], [0.7777777777777778, \"#6ece58\"], [0.8888888888888888, \"#b5de2b\"], [1.0, \"#fde725\"]], \"type\": \"histogram2dcontour\"}], \"mesh3d\": [{\"colorbar\": {\"outlinewidth\": 1, \"tickcolor\": \"rgb(36,36,36)\", \"ticks\": \"outside\"}, \"type\": \"mesh3d\"}], \"parcoords\": [{\"line\": {\"colorbar\": {\"outlinewidth\": 1, \"tickcolor\": \"rgb(36,36,36)\", \"ticks\": \"outside\"}}, \"type\": \"parcoords\"}], \"pie\": [{\"automargin\": true, \"type\": \"pie\"}], \"scatter\": [{\"marker\": {\"colorbar\": {\"outlinewidth\": 1, \"tickcolor\": \"rgb(36,36,36)\", \"ticks\": \"outside\"}}, \"type\": \"scatter\"}], \"scatter3d\": [{\"line\": {\"colorbar\": {\"outlinewidth\": 1, \"tickcolor\": \"rgb(36,36,36)\", \"ticks\": \"outside\"}}, \"marker\": {\"colorbar\": {\"outlinewidth\": 1, \"tickcolor\": \"rgb(36,36,36)\", \"ticks\": \"outside\"}}, \"type\": \"scatter3d\"}], \"scattercarpet\": [{\"marker\": {\"colorbar\": {\"outlinewidth\": 1, \"tickcolor\": \"rgb(36,36,36)\", \"ticks\": \"outside\"}}, \"type\": \"scattercarpet\"}], \"scattergeo\": [{\"marker\": {\"colorbar\": {\"outlinewidth\": 1, \"tickcolor\": \"rgb(36,36,36)\", \"ticks\": \"outside\"}}, \"type\": \"scattergeo\"}], \"scattergl\": [{\"marker\": {\"colorbar\": {\"outlinewidth\": 1, \"tickcolor\": \"rgb(36,36,36)\", \"ticks\": \"outside\"}}, \"type\": \"scattergl\"}], \"scattermapbox\": [{\"marker\": {\"colorbar\": {\"outlinewidth\": 1, \"tickcolor\": \"rgb(36,36,36)\", \"ticks\": \"outside\"}}, \"type\": \"scattermapbox\"}], \"scatterpolar\": [{\"marker\": {\"colorbar\": {\"outlinewidth\": 1, \"tickcolor\": \"rgb(36,36,36)\", \"ticks\": \"outside\"}}, \"type\": \"scatterpolar\"}], \"scatterpolargl\": [{\"marker\": {\"colorbar\": {\"outlinewidth\": 1, \"tickcolor\": \"rgb(36,36,36)\", \"ticks\": \"outside\"}}, \"type\": \"scatterpolargl\"}], \"scatterternary\": [{\"marker\": {\"colorbar\": {\"outlinewidth\": 1, \"tickcolor\": \"rgb(36,36,36)\", \"ticks\": \"outside\"}}, \"type\": \"scatterternary\"}], \"surface\": [{\"colorbar\": {\"outlinewidth\": 1, \"tickcolor\": \"rgb(36,36,36)\", \"ticks\": \"outside\"}, \"colorscale\": [[0.0, \"#440154\"], [0.1111111111111111, \"#482878\"], [0.2222222222222222, \"#3e4989\"], [0.3333333333333333, \"#31688e\"], [0.4444444444444444, \"#26828e\"], [0.5555555555555556, \"#1f9e89\"], [0.6666666666666666, \"#35b779\"], [0.7777777777777778, \"#6ece58\"], [0.8888888888888888, \"#b5de2b\"], [1.0, \"#fde725\"]], \"type\": \"surface\"}], \"table\": [{\"cells\": {\"fill\": {\"color\": \"rgb(237,237,237)\"}, \"line\": {\"color\": \"white\"}}, \"header\": {\"fill\": {\"color\": \"rgb(217,217,217)\"}, \"line\": {\"color\": \"white\"}}, \"type\": \"table\"}]}, \"layout\": {\"annotationdefaults\": {\"arrowhead\": 0, \"arrowwidth\": 1}, \"coloraxis\": {\"colorbar\": {\"outlinewidth\": 1, \"tickcolor\": \"rgb(36,36,36)\", \"ticks\": \"outside\"}}, \"colorscale\": {\"diverging\": [[0.0, \"rgb(103,0,31)\"], [0.1, \"rgb(178,24,43)\"], [0.2, \"rgb(214,96,77)\"], [0.3, \"rgb(244,165,130)\"], [0.4, \"rgb(253,219,199)\"], [0.5, \"rgb(247,247,247)\"], [0.6, \"rgb(209,229,240)\"], [0.7, \"rgb(146,197,222)\"], [0.8, \"rgb(67,147,195)\"], [0.9, \"rgb(33,102,172)\"], [1.0, \"rgb(5,48,97)\"]], \"sequential\": [[0.0, \"#440154\"], [0.1111111111111111, \"#482878\"], [0.2222222222222222, \"#3e4989\"], [0.3333333333333333, \"#31688e\"], [0.4444444444444444, \"#26828e\"], [0.5555555555555556, \"#1f9e89\"], [0.6666666666666666, \"#35b779\"], [0.7777777777777778, \"#6ece58\"], [0.8888888888888888, \"#b5de2b\"], [1.0, \"#fde725\"]], \"sequentialminus\": [[0.0, \"#440154\"], [0.1111111111111111, \"#482878\"], [0.2222222222222222, \"#3e4989\"], [0.3333333333333333, \"#31688e\"], [0.4444444444444444, \"#26828e\"], [0.5555555555555556, \"#1f9e89\"], [0.6666666666666666, \"#35b779\"], [0.7777777777777778, \"#6ece58\"], [0.8888888888888888, \"#b5de2b\"], [1.0, \"#fde725\"]]}, \"colorway\": [\"#1F77B4\", \"#FF7F0E\", \"#2CA02C\", \"#D62728\", \"#9467BD\", \"#8C564B\", \"#E377C2\", \"#7F7F7F\", \"#BCBD22\", \"#17BECF\"], \"font\": {\"color\": \"rgb(36,36,36)\"}, \"geo\": {\"bgcolor\": \"white\", \"lakecolor\": \"white\", \"landcolor\": \"white\", \"showlakes\": true, \"showland\": true, \"subunitcolor\": \"white\"}, \"hoverlabel\": {\"align\": \"left\"}, \"hovermode\": \"closest\", \"mapbox\": {\"style\": \"light\"}, \"paper_bgcolor\": \"white\", \"plot_bgcolor\": \"white\", \"polar\": {\"angularaxis\": {\"gridcolor\": \"rgb(232,232,232)\", \"linecolor\": \"rgb(36,36,36)\", \"showgrid\": false, \"showline\": true, \"ticks\": \"outside\"}, \"bgcolor\": \"white\", \"radialaxis\": {\"gridcolor\": \"rgb(232,232,232)\", \"linecolor\": \"rgb(36,36,36)\", \"showgrid\": false, \"showline\": true, \"ticks\": \"outside\"}}, \"scene\": {\"xaxis\": {\"backgroundcolor\": \"white\", \"gridcolor\": \"rgb(232,232,232)\", \"gridwidth\": 2, \"linecolor\": \"rgb(36,36,36)\", \"showbackground\": true, \"showgrid\": false, \"showline\": true, \"ticks\": \"outside\", \"zeroline\": false, \"zerolinecolor\": \"rgb(36,36,36)\"}, \"yaxis\": {\"backgroundcolor\": \"white\", \"gridcolor\": \"rgb(232,232,232)\", \"gridwidth\": 2, \"linecolor\": \"rgb(36,36,36)\", \"showbackground\": true, \"showgrid\": false, \"showline\": true, \"ticks\": \"outside\", \"zeroline\": false, \"zerolinecolor\": \"rgb(36,36,36)\"}, \"zaxis\": {\"backgroundcolor\": \"white\", \"gridcolor\": \"rgb(232,232,232)\", \"gridwidth\": 2, \"linecolor\": \"rgb(36,36,36)\", \"showbackground\": true, \"showgrid\": false, \"showline\": true, \"ticks\": \"outside\", \"zeroline\": false, \"zerolinecolor\": \"rgb(36,36,36)\"}}, \"shapedefaults\": {\"fillcolor\": \"black\", \"line\": {\"width\": 0}, \"opacity\": 0.3}, \"ternary\": {\"aaxis\": {\"gridcolor\": \"rgb(232,232,232)\", \"linecolor\": \"rgb(36,36,36)\", \"showgrid\": false, \"showline\": true, \"ticks\": \"outside\"}, \"baxis\": {\"gridcolor\": \"rgb(232,232,232)\", \"linecolor\": \"rgb(36,36,36)\", \"showgrid\": false, \"showline\": true, \"ticks\": \"outside\"}, \"bgcolor\": \"white\", \"caxis\": {\"gridcolor\": \"rgb(232,232,232)\", \"linecolor\": \"rgb(36,36,36)\", \"showgrid\": false, \"showline\": true, \"ticks\": \"outside\"}}, \"title\": {\"x\": 0.05}, \"xaxis\": {\"automargin\": true, \"gridcolor\": \"rgb(232,232,232)\", \"linecolor\": \"rgb(36,36,36)\", \"showgrid\": false, \"showline\": true, \"ticks\": \"outside\", \"title\": {\"standoff\": 15}, \"zeroline\": false, \"zerolinecolor\": \"rgb(36,36,36)\"}, \"yaxis\": {\"automargin\": true, \"gridcolor\": \"rgb(232,232,232)\", \"linecolor\": \"rgb(36,36,36)\", \"showgrid\": false, \"showline\": true, \"ticks\": \"outside\", \"title\": {\"standoff\": 15}, \"zeroline\": false, \"zerolinecolor\": \"rgb(36,36,36)\"}}}, \"title\": {\"text\": \"Subreddit Hawkish Dimension Versus Support by Military Households\"}, \"xaxis\": {\"anchor\": \"y\", \"domain\": [0.0, 1.0], \"range\": [-0.33682103995518, -0.047597673936636845], \"title\": {\"text\": \"Subreddit Military Dimension\"}}, \"yaxis\": {\"anchor\": \"x\", \"domain\": [0.0, 1.0], \"range\": [-0.1625, 0.275], \"title\": {\"text\": \"Surveyed veteran\"}}},\n",
       "                        {\"responsive\": true}\n",
       "                    ).then(function(){\n",
       "                            \n",
       "var gd = document.getElementById('d1438f4e-e150-49c3-8fd8-f72ae01e6265');\n",
       "var x = new MutationObserver(function (mutations, observer) {{\n",
       "        var display = window.getComputedStyle(gd).display;\n",
       "        if (!display || display === 'none') {{\n",
       "            console.log([gd, 'removed!']);\n",
       "            Plotly.purge(gd);\n",
       "            observer.disconnect();\n",
       "        }}\n",
       "}});\n",
       "\n",
       "// Listen for the removal of the full notebook cells\n",
       "var notebookContainer = gd.closest('#notebook-container');\n",
       "if (notebookContainer) {{\n",
       "    x.observe(notebookContainer, {childList: true});\n",
       "}}\n",
       "\n",
       "// Listen for the clearing of the current output cell\n",
       "var outputEl = gd.closest('.output');\n",
       "if (outputEl) {{\n",
       "    x.observe(outputEl, {childList: true});\n",
       "}}\n",
       "\n",
       "                        })\n",
       "                };\n",
       "                });\n",
       "            </script>\n",
       "        </div>"
      ]
     },
     "metadata": {},
     "output_type": "display_data"
    }
   ],
   "source": [
    "xmin, xmax = war_df[\"reddit_projection\"].min()*1.3,war_df[\"reddit_projection\"].max()+0.05\n",
    "ymin, ymax = war_df[\"veteran\"].min()*1.3,war_df[\"veteran\"].max()*1.1\n",
    "\n",
    "args = {\n",
    "    \"x\": \"reddit_projection\",\n",
    "    \"y\": \"veteran\",\n",
    "    \"text\": war_df.index,\n",
    "    \"title\":  \"Subreddit Hawkish Dimension Versus Support by Military Households\",\n",
    "    \"template\": \"simple_white\",\n",
    "    \"labels\": {\"reddit_projection\": \"Subreddit Military Dimension\", \"veteran\": \"Surveyed veteran\"},\n",
    "    \"range_x\": [xmin,xmax],\n",
    "    \"range_y\": [ymin,ymax],\n",
    "}\n",
    "\n",
    "annotations = [dict(x=xmin*0.88,y=ymin*0.88,xref=\"x\",yref=\"y\", text=\"<b>Less Veteran Support<br>Subreddit Trends Pascifistic</b>\",showarrow=False),\n",
    "               dict(x=xmax,y=ymin*0.9,xref=\"x\",yref=\"y\", text=\"<b>Subreddit Trends Hawkish</b>\",showarrow=False),\n",
    "               dict(x=xmin*0.90,y=ymax,xref=\"x\",yref=\"y\", text=\"<b>More Veteran Support</b>\",showarrow=False),\n",
    "               dict(x=-0.2,y=predict(-0.2),xref=\"x\",yref=\"y\", text=\"r<sup>2</sup>={:.2f}\".format(r2)),\n",
    "              ]\n",
    "x = np.linspace(xmin,xmax,num=2)\n",
    "    \n",
    "fig = px.scatter(war_df,**args)\n",
    "\n",
    "fig.update_traces(textposition='bottom center')\n",
    "fig.add_scatter(x=x,\n",
    "                y=predict(x),\n",
    "                mode='lines',\n",
    "                line=dict(dash=\"dash\",width=2,color=\"rgba(0,0,160,0.3)\"),\n",
    "                name=\"Linear Regression\"\n",
    "               )\n",
    "\n",
    "fig.update_layout(annotations=annotations)\n",
    "fig.write_html(\"visualizations/Pew_Research-veteran_dim.html\")\n",
    "fig.show()"
   ]
  },
  {
   "cell_type": "markdown",
   "metadata": {},
   "source": [
    "### War Validation vs War Policy\n",
    "\n",
    "Source: https://www.politico.com/2020-election/candidates-views-on-the-issues/military/"
   ]
  },
  {
   "cell_type": "code",
   "execution_count": 99,
   "metadata": {},
   "outputs": [
    {
     "data": {
      "text/html": [
       "<div>\n",
       "<style scoped>\n",
       "    .dataframe tbody tr th:only-of-type {\n",
       "        vertical-align: middle;\n",
       "    }\n",
       "\n",
       "    .dataframe tbody tr th {\n",
       "        vertical-align: top;\n",
       "    }\n",
       "\n",
       "    .dataframe thead th {\n",
       "        text-align: right;\n",
       "    }\n",
       "</style>\n",
       "<table border=\"1\" class=\"dataframe\">\n",
       "  <thead>\n",
       "    <tr style=\"text-align: right;\">\n",
       "      <th></th>\n",
       "      <th>politico_policy</th>\n",
       "      <th>reddit_projection</th>\n",
       "    </tr>\n",
       "    <tr>\n",
       "      <th>candidate</th>\n",
       "      <th></th>\n",
       "      <th></th>\n",
       "    </tr>\n",
       "  </thead>\n",
       "  <tbody>\n",
       "    <tr>\n",
       "      <th>Biden</th>\n",
       "      <td>1.0</td>\n",
       "      <td>-0.159423</td>\n",
       "    </tr>\n",
       "    <tr>\n",
       "      <th>Buttigieg</th>\n",
       "      <td>0.0</td>\n",
       "      <td>-0.132106</td>\n",
       "    </tr>\n",
       "    <tr>\n",
       "      <th>Klobuchar</th>\n",
       "      <td>0.0</td>\n",
       "      <td>-0.097598</td>\n",
       "    </tr>\n",
       "    <tr>\n",
       "      <th>Sanders</th>\n",
       "      <td>-1.0</td>\n",
       "      <td>-0.259093</td>\n",
       "    </tr>\n",
       "    <tr>\n",
       "      <th>Warren</th>\n",
       "      <td>-1.0</td>\n",
       "      <td>-0.244371</td>\n",
       "    </tr>\n",
       "    <tr>\n",
       "      <th>Yang</th>\n",
       "      <td>0.0</td>\n",
       "      <td>-0.220962</td>\n",
       "    </tr>\n",
       "  </tbody>\n",
       "</table>\n",
       "</div>"
      ],
      "text/plain": [
       "           politico_policy  reddit_projection\n",
       "candidate                                    \n",
       "Biden                  1.0          -0.159423\n",
       "Buttigieg              0.0          -0.132106\n",
       "Klobuchar              0.0          -0.097598\n",
       "Sanders               -1.0          -0.259093\n",
       "Warren                -1.0          -0.244371\n",
       "Yang                   0.0          -0.220962"
      ]
     },
     "execution_count": 99,
     "metadata": {},
     "output_type": "execute_result"
    }
   ],
   "source": [
    "war_policy_df = pd.read_csv(\"/h/224/cameron/Political-Subreddit-Embedding/external_datasets/polling_data/poltico_military_policy.csv\")\n",
    "war_policy_df = war_policy_df.set_index(\"candidate\")[[\"pascifistic_policies\",\"hawkish_policies\"]]\n",
    "war_policy_df[\"politico_policy\"] = war_policy_df.apply(survey_to_num,axis=1)\n",
    "\n",
    "i_dim = calculate_dim(war_dim.subreddits,embedding)\n",
    "war_policy_df[\"reddit_projection\"] = [project_dim(i_dim,c,embedding) for c in cand_subs]\n",
    "\n",
    "war_policy_df = war_policy_df[[\"politico_policy\",\"reddit_projection\"]]\n",
    "war_policy_df"
   ]
  },
  {
   "cell_type": "code",
   "execution_count": 100,
   "metadata": {},
   "outputs": [
    {
     "data": {
      "text/plain": [
       "0.41412330073168113"
      ]
     },
     "execution_count": 100,
     "metadata": {},
     "output_type": "execute_result"
    }
   ],
   "source": [
    "# Fit a linear regression to our model and its results\n",
    "model = np.polyfit(war_policy_df[\"reddit_projection\"], war_policy_df[\"politico_policy\"], 1)\n",
    "predict = np.poly1d(model)\n",
    "r2 = r2_score(war_policy_df[\"politico_policy\"], predict(war_policy_df[\"reddit_projection\"]))\n",
    "r2"
   ]
  },
  {
   "cell_type": "code",
   "execution_count": 101,
   "metadata": {},
   "outputs": [
    {
     "data": {
      "application/vnd.plotly.v1+json": {
       "config": {
        "plotlyServerURL": "https://plot.ly"
       },
       "data": [
        {
         "hovertemplate": "Subreddit Military Dimension=%{x}<br>Pro Military Policies=%{y}<br>candidate=%{text}<extra></extra>",
         "legendgroup": "",
         "marker": {
          "color": "#1F77B4",
          "symbol": "circle"
         },
         "mode": "markers+text",
         "name": "",
         "orientation": "v",
         "showlegend": false,
         "text": [
          "Biden",
          "Buttigieg",
          "Klobuchar",
          "Sanders",
          "Warren",
          "Yang"
         ],
         "textposition": "bottom center",
         "type": "scatter",
         "x": [
          -0.1594228423380611,
          -0.1321060181919814,
          -0.09759767393663685,
          -0.2590931076578307,
          -0.24437063275123408,
          -0.2209615347760919
         ],
         "xaxis": "x",
         "y": [
          1,
          0,
          0,
          -1,
          -1,
          0
         ],
         "yaxis": "y"
        },
        {
         "line": {
          "color": "rgba(0,0,160,0.3)",
          "dash": "dash",
          "width": 2
         },
         "mode": "lines",
         "name": "Linear Regression",
         "type": "scatter",
         "x": [
          -0.33682103995518,
          -0.047597673936636845
         ],
         "y": [
          -1.2865513733604332,
          0.8552115881175953
         ]
        }
       ],
       "layout": {
        "annotations": [
         {
          "showarrow": false,
          "text": "<b>More Pascifistic Policies<br>Subreddit Trends Pascifistic</b>",
          "x": -0.2964025151605584,
          "xref": "x",
          "y": -1.1440000000000001,
          "yref": "y"
         },
         {
          "showarrow": false,
          "text": "<b>Subreddit Trends Hawkish</b>",
          "x": -0.047597673936636845,
          "xref": "x",
          "y": -1.1700000000000002,
          "yref": "y"
         },
         {
          "showarrow": false,
          "text": "<b>More Hawkish Policies</b>",
          "x": -0.303138935959662,
          "xref": "x",
          "y": 1.1,
          "yref": "y"
         },
         {
          "text": "r<sup>2</sup>=0.41",
          "x": -0.2,
          "xref": "x",
          "y": -0.2733613266471182,
          "yref": "y"
         }
        ],
        "legend": {
         "tracegroupgap": 0
        },
        "template": {
         "data": {
          "bar": [
           {
            "error_x": {
             "color": "rgb(36,36,36)"
            },
            "error_y": {
             "color": "rgb(36,36,36)"
            },
            "marker": {
             "line": {
              "color": "white",
              "width": 0.5
             }
            },
            "type": "bar"
           }
          ],
          "barpolar": [
           {
            "marker": {
             "line": {
              "color": "white",
              "width": 0.5
             }
            },
            "type": "barpolar"
           }
          ],
          "carpet": [
           {
            "aaxis": {
             "endlinecolor": "rgb(36,36,36)",
             "gridcolor": "white",
             "linecolor": "white",
             "minorgridcolor": "white",
             "startlinecolor": "rgb(36,36,36)"
            },
            "baxis": {
             "endlinecolor": "rgb(36,36,36)",
             "gridcolor": "white",
             "linecolor": "white",
             "minorgridcolor": "white",
             "startlinecolor": "rgb(36,36,36)"
            },
            "type": "carpet"
           }
          ],
          "choropleth": [
           {
            "colorbar": {
             "outlinewidth": 1,
             "tickcolor": "rgb(36,36,36)",
             "ticks": "outside"
            },
            "type": "choropleth"
           }
          ],
          "contour": [
           {
            "colorbar": {
             "outlinewidth": 1,
             "tickcolor": "rgb(36,36,36)",
             "ticks": "outside"
            },
            "colorscale": [
             [
              0,
              "#440154"
             ],
             [
              0.1111111111111111,
              "#482878"
             ],
             [
              0.2222222222222222,
              "#3e4989"
             ],
             [
              0.3333333333333333,
              "#31688e"
             ],
             [
              0.4444444444444444,
              "#26828e"
             ],
             [
              0.5555555555555556,
              "#1f9e89"
             ],
             [
              0.6666666666666666,
              "#35b779"
             ],
             [
              0.7777777777777778,
              "#6ece58"
             ],
             [
              0.8888888888888888,
              "#b5de2b"
             ],
             [
              1,
              "#fde725"
             ]
            ],
            "type": "contour"
           }
          ],
          "contourcarpet": [
           {
            "colorbar": {
             "outlinewidth": 1,
             "tickcolor": "rgb(36,36,36)",
             "ticks": "outside"
            },
            "type": "contourcarpet"
           }
          ],
          "heatmap": [
           {
            "colorbar": {
             "outlinewidth": 1,
             "tickcolor": "rgb(36,36,36)",
             "ticks": "outside"
            },
            "colorscale": [
             [
              0,
              "#440154"
             ],
             [
              0.1111111111111111,
              "#482878"
             ],
             [
              0.2222222222222222,
              "#3e4989"
             ],
             [
              0.3333333333333333,
              "#31688e"
             ],
             [
              0.4444444444444444,
              "#26828e"
             ],
             [
              0.5555555555555556,
              "#1f9e89"
             ],
             [
              0.6666666666666666,
              "#35b779"
             ],
             [
              0.7777777777777778,
              "#6ece58"
             ],
             [
              0.8888888888888888,
              "#b5de2b"
             ],
             [
              1,
              "#fde725"
             ]
            ],
            "type": "heatmap"
           }
          ],
          "heatmapgl": [
           {
            "colorbar": {
             "outlinewidth": 1,
             "tickcolor": "rgb(36,36,36)",
             "ticks": "outside"
            },
            "colorscale": [
             [
              0,
              "#440154"
             ],
             [
              0.1111111111111111,
              "#482878"
             ],
             [
              0.2222222222222222,
              "#3e4989"
             ],
             [
              0.3333333333333333,
              "#31688e"
             ],
             [
              0.4444444444444444,
              "#26828e"
             ],
             [
              0.5555555555555556,
              "#1f9e89"
             ],
             [
              0.6666666666666666,
              "#35b779"
             ],
             [
              0.7777777777777778,
              "#6ece58"
             ],
             [
              0.8888888888888888,
              "#b5de2b"
             ],
             [
              1,
              "#fde725"
             ]
            ],
            "type": "heatmapgl"
           }
          ],
          "histogram": [
           {
            "marker": {
             "line": {
              "color": "white",
              "width": 0.6
             }
            },
            "type": "histogram"
           }
          ],
          "histogram2d": [
           {
            "colorbar": {
             "outlinewidth": 1,
             "tickcolor": "rgb(36,36,36)",
             "ticks": "outside"
            },
            "colorscale": [
             [
              0,
              "#440154"
             ],
             [
              0.1111111111111111,
              "#482878"
             ],
             [
              0.2222222222222222,
              "#3e4989"
             ],
             [
              0.3333333333333333,
              "#31688e"
             ],
             [
              0.4444444444444444,
              "#26828e"
             ],
             [
              0.5555555555555556,
              "#1f9e89"
             ],
             [
              0.6666666666666666,
              "#35b779"
             ],
             [
              0.7777777777777778,
              "#6ece58"
             ],
             [
              0.8888888888888888,
              "#b5de2b"
             ],
             [
              1,
              "#fde725"
             ]
            ],
            "type": "histogram2d"
           }
          ],
          "histogram2dcontour": [
           {
            "colorbar": {
             "outlinewidth": 1,
             "tickcolor": "rgb(36,36,36)",
             "ticks": "outside"
            },
            "colorscale": [
             [
              0,
              "#440154"
             ],
             [
              0.1111111111111111,
              "#482878"
             ],
             [
              0.2222222222222222,
              "#3e4989"
             ],
             [
              0.3333333333333333,
              "#31688e"
             ],
             [
              0.4444444444444444,
              "#26828e"
             ],
             [
              0.5555555555555556,
              "#1f9e89"
             ],
             [
              0.6666666666666666,
              "#35b779"
             ],
             [
              0.7777777777777778,
              "#6ece58"
             ],
             [
              0.8888888888888888,
              "#b5de2b"
             ],
             [
              1,
              "#fde725"
             ]
            ],
            "type": "histogram2dcontour"
           }
          ],
          "mesh3d": [
           {
            "colorbar": {
             "outlinewidth": 1,
             "tickcolor": "rgb(36,36,36)",
             "ticks": "outside"
            },
            "type": "mesh3d"
           }
          ],
          "parcoords": [
           {
            "line": {
             "colorbar": {
              "outlinewidth": 1,
              "tickcolor": "rgb(36,36,36)",
              "ticks": "outside"
             }
            },
            "type": "parcoords"
           }
          ],
          "pie": [
           {
            "automargin": true,
            "type": "pie"
           }
          ],
          "scatter": [
           {
            "marker": {
             "colorbar": {
              "outlinewidth": 1,
              "tickcolor": "rgb(36,36,36)",
              "ticks": "outside"
             }
            },
            "type": "scatter"
           }
          ],
          "scatter3d": [
           {
            "line": {
             "colorbar": {
              "outlinewidth": 1,
              "tickcolor": "rgb(36,36,36)",
              "ticks": "outside"
             }
            },
            "marker": {
             "colorbar": {
              "outlinewidth": 1,
              "tickcolor": "rgb(36,36,36)",
              "ticks": "outside"
             }
            },
            "type": "scatter3d"
           }
          ],
          "scattercarpet": [
           {
            "marker": {
             "colorbar": {
              "outlinewidth": 1,
              "tickcolor": "rgb(36,36,36)",
              "ticks": "outside"
             }
            },
            "type": "scattercarpet"
           }
          ],
          "scattergeo": [
           {
            "marker": {
             "colorbar": {
              "outlinewidth": 1,
              "tickcolor": "rgb(36,36,36)",
              "ticks": "outside"
             }
            },
            "type": "scattergeo"
           }
          ],
          "scattergl": [
           {
            "marker": {
             "colorbar": {
              "outlinewidth": 1,
              "tickcolor": "rgb(36,36,36)",
              "ticks": "outside"
             }
            },
            "type": "scattergl"
           }
          ],
          "scattermapbox": [
           {
            "marker": {
             "colorbar": {
              "outlinewidth": 1,
              "tickcolor": "rgb(36,36,36)",
              "ticks": "outside"
             }
            },
            "type": "scattermapbox"
           }
          ],
          "scatterpolar": [
           {
            "marker": {
             "colorbar": {
              "outlinewidth": 1,
              "tickcolor": "rgb(36,36,36)",
              "ticks": "outside"
             }
            },
            "type": "scatterpolar"
           }
          ],
          "scatterpolargl": [
           {
            "marker": {
             "colorbar": {
              "outlinewidth": 1,
              "tickcolor": "rgb(36,36,36)",
              "ticks": "outside"
             }
            },
            "type": "scatterpolargl"
           }
          ],
          "scatterternary": [
           {
            "marker": {
             "colorbar": {
              "outlinewidth": 1,
              "tickcolor": "rgb(36,36,36)",
              "ticks": "outside"
             }
            },
            "type": "scatterternary"
           }
          ],
          "surface": [
           {
            "colorbar": {
             "outlinewidth": 1,
             "tickcolor": "rgb(36,36,36)",
             "ticks": "outside"
            },
            "colorscale": [
             [
              0,
              "#440154"
             ],
             [
              0.1111111111111111,
              "#482878"
             ],
             [
              0.2222222222222222,
              "#3e4989"
             ],
             [
              0.3333333333333333,
              "#31688e"
             ],
             [
              0.4444444444444444,
              "#26828e"
             ],
             [
              0.5555555555555556,
              "#1f9e89"
             ],
             [
              0.6666666666666666,
              "#35b779"
             ],
             [
              0.7777777777777778,
              "#6ece58"
             ],
             [
              0.8888888888888888,
              "#b5de2b"
             ],
             [
              1,
              "#fde725"
             ]
            ],
            "type": "surface"
           }
          ],
          "table": [
           {
            "cells": {
             "fill": {
              "color": "rgb(237,237,237)"
             },
             "line": {
              "color": "white"
             }
            },
            "header": {
             "fill": {
              "color": "rgb(217,217,217)"
             },
             "line": {
              "color": "white"
             }
            },
            "type": "table"
           }
          ]
         },
         "layout": {
          "annotationdefaults": {
           "arrowhead": 0,
           "arrowwidth": 1
          },
          "coloraxis": {
           "colorbar": {
            "outlinewidth": 1,
            "tickcolor": "rgb(36,36,36)",
            "ticks": "outside"
           }
          },
          "colorscale": {
           "diverging": [
            [
             0,
             "rgb(103,0,31)"
            ],
            [
             0.1,
             "rgb(178,24,43)"
            ],
            [
             0.2,
             "rgb(214,96,77)"
            ],
            [
             0.3,
             "rgb(244,165,130)"
            ],
            [
             0.4,
             "rgb(253,219,199)"
            ],
            [
             0.5,
             "rgb(247,247,247)"
            ],
            [
             0.6,
             "rgb(209,229,240)"
            ],
            [
             0.7,
             "rgb(146,197,222)"
            ],
            [
             0.8,
             "rgb(67,147,195)"
            ],
            [
             0.9,
             "rgb(33,102,172)"
            ],
            [
             1,
             "rgb(5,48,97)"
            ]
           ],
           "sequential": [
            [
             0,
             "#440154"
            ],
            [
             0.1111111111111111,
             "#482878"
            ],
            [
             0.2222222222222222,
             "#3e4989"
            ],
            [
             0.3333333333333333,
             "#31688e"
            ],
            [
             0.4444444444444444,
             "#26828e"
            ],
            [
             0.5555555555555556,
             "#1f9e89"
            ],
            [
             0.6666666666666666,
             "#35b779"
            ],
            [
             0.7777777777777778,
             "#6ece58"
            ],
            [
             0.8888888888888888,
             "#b5de2b"
            ],
            [
             1,
             "#fde725"
            ]
           ],
           "sequentialminus": [
            [
             0,
             "#440154"
            ],
            [
             0.1111111111111111,
             "#482878"
            ],
            [
             0.2222222222222222,
             "#3e4989"
            ],
            [
             0.3333333333333333,
             "#31688e"
            ],
            [
             0.4444444444444444,
             "#26828e"
            ],
            [
             0.5555555555555556,
             "#1f9e89"
            ],
            [
             0.6666666666666666,
             "#35b779"
            ],
            [
             0.7777777777777778,
             "#6ece58"
            ],
            [
             0.8888888888888888,
             "#b5de2b"
            ],
            [
             1,
             "#fde725"
            ]
           ]
          },
          "colorway": [
           "#1F77B4",
           "#FF7F0E",
           "#2CA02C",
           "#D62728",
           "#9467BD",
           "#8C564B",
           "#E377C2",
           "#7F7F7F",
           "#BCBD22",
           "#17BECF"
          ],
          "font": {
           "color": "rgb(36,36,36)"
          },
          "geo": {
           "bgcolor": "white",
           "lakecolor": "white",
           "landcolor": "white",
           "showlakes": true,
           "showland": true,
           "subunitcolor": "white"
          },
          "hoverlabel": {
           "align": "left"
          },
          "hovermode": "closest",
          "mapbox": {
           "style": "light"
          },
          "paper_bgcolor": "white",
          "plot_bgcolor": "white",
          "polar": {
           "angularaxis": {
            "gridcolor": "rgb(232,232,232)",
            "linecolor": "rgb(36,36,36)",
            "showgrid": false,
            "showline": true,
            "ticks": "outside"
           },
           "bgcolor": "white",
           "radialaxis": {
            "gridcolor": "rgb(232,232,232)",
            "linecolor": "rgb(36,36,36)",
            "showgrid": false,
            "showline": true,
            "ticks": "outside"
           }
          },
          "scene": {
           "xaxis": {
            "backgroundcolor": "white",
            "gridcolor": "rgb(232,232,232)",
            "gridwidth": 2,
            "linecolor": "rgb(36,36,36)",
            "showbackground": true,
            "showgrid": false,
            "showline": true,
            "ticks": "outside",
            "zeroline": false,
            "zerolinecolor": "rgb(36,36,36)"
           },
           "yaxis": {
            "backgroundcolor": "white",
            "gridcolor": "rgb(232,232,232)",
            "gridwidth": 2,
            "linecolor": "rgb(36,36,36)",
            "showbackground": true,
            "showgrid": false,
            "showline": true,
            "ticks": "outside",
            "zeroline": false,
            "zerolinecolor": "rgb(36,36,36)"
           },
           "zaxis": {
            "backgroundcolor": "white",
            "gridcolor": "rgb(232,232,232)",
            "gridwidth": 2,
            "linecolor": "rgb(36,36,36)",
            "showbackground": true,
            "showgrid": false,
            "showline": true,
            "ticks": "outside",
            "zeroline": false,
            "zerolinecolor": "rgb(36,36,36)"
           }
          },
          "shapedefaults": {
           "fillcolor": "black",
           "line": {
            "width": 0
           },
           "opacity": 0.3
          },
          "ternary": {
           "aaxis": {
            "gridcolor": "rgb(232,232,232)",
            "linecolor": "rgb(36,36,36)",
            "showgrid": false,
            "showline": true,
            "ticks": "outside"
           },
           "baxis": {
            "gridcolor": "rgb(232,232,232)",
            "linecolor": "rgb(36,36,36)",
            "showgrid": false,
            "showline": true,
            "ticks": "outside"
           },
           "bgcolor": "white",
           "caxis": {
            "gridcolor": "rgb(232,232,232)",
            "linecolor": "rgb(36,36,36)",
            "showgrid": false,
            "showline": true,
            "ticks": "outside"
           }
          },
          "title": {
           "x": 0.05
          },
          "xaxis": {
           "automargin": true,
           "gridcolor": "rgb(232,232,232)",
           "linecolor": "rgb(36,36,36)",
           "showgrid": false,
           "showline": true,
           "ticks": "outside",
           "title": {
            "standoff": 15
           },
           "zeroline": false,
           "zerolinecolor": "rgb(36,36,36)"
          },
          "yaxis": {
           "automargin": true,
           "gridcolor": "rgb(232,232,232)",
           "linecolor": "rgb(36,36,36)",
           "showgrid": false,
           "showline": true,
           "ticks": "outside",
           "title": {
            "standoff": 15
           },
           "zeroline": false,
           "zerolinecolor": "rgb(36,36,36)"
          }
         }
        },
        "title": {
         "text": "Subreddit Hawkish Dimension Versus Number of Military Boosting Policies"
        },
        "xaxis": {
         "anchor": "y",
         "domain": [
          0,
          1
         ],
         "range": [
          -0.33682103995518,
          -0.047597673936636845
         ],
         "title": {
          "text": "Subreddit Military Dimension"
         }
        },
        "yaxis": {
         "anchor": "x",
         "domain": [
          0,
          1
         ],
         "range": [
          -1.3,
          1.1
         ],
         "title": {
          "text": "Pro Military Policies"
         }
        }
       }
      },
      "text/html": [
       "<div>\n",
       "        \n",
       "        \n",
       "            <div id=\"71c15eb9-c6c8-4ee3-8b75-c730a80638e4\" class=\"plotly-graph-div\" style=\"height:525px; width:100%;\"></div>\n",
       "            <script type=\"text/javascript\">\n",
       "                require([\"plotly\"], function(Plotly) {\n",
       "                    window.PLOTLYENV=window.PLOTLYENV || {};\n",
       "                    \n",
       "                if (document.getElementById(\"71c15eb9-c6c8-4ee3-8b75-c730a80638e4\")) {\n",
       "                    Plotly.newPlot(\n",
       "                        '71c15eb9-c6c8-4ee3-8b75-c730a80638e4',\n",
       "                        [{\"hovertemplate\": \"Subreddit Military Dimension=%{x}<br>Pro Military Policies=%{y}<br>candidate=%{text}<extra></extra>\", \"legendgroup\": \"\", \"marker\": {\"color\": \"#1F77B4\", \"symbol\": \"circle\"}, \"mode\": \"markers+text\", \"name\": \"\", \"orientation\": \"v\", \"showlegend\": false, \"text\": [\"Biden\", \"Buttigieg\", \"Klobuchar\", \"Sanders\", \"Warren\", \"Yang\"], \"textposition\": \"bottom center\", \"type\": \"scatter\", \"x\": [-0.1594228423380611, -0.1321060181919814, -0.09759767393663685, -0.2590931076578307, -0.24437063275123408, -0.2209615347760919], \"xaxis\": \"x\", \"y\": [1.0, 0.0, 0.0, -1.0, -1.0, 0.0], \"yaxis\": \"y\"}, {\"line\": {\"color\": \"rgba(0,0,160,0.3)\", \"dash\": \"dash\", \"width\": 2}, \"mode\": \"lines\", \"name\": \"Linear Regression\", \"type\": \"scatter\", \"x\": [-0.33682103995518, -0.047597673936636845], \"y\": [-1.2865513733604332, 0.8552115881175953]}],\n",
       "                        {\"annotations\": [{\"showarrow\": false, \"text\": \"<b>More Pascifistic Policies<br>Subreddit Trends Pascifistic</b>\", \"x\": -0.2964025151605584, \"xref\": \"x\", \"y\": -1.1440000000000001, \"yref\": \"y\"}, {\"showarrow\": false, \"text\": \"<b>Subreddit Trends Hawkish</b>\", \"x\": -0.047597673936636845, \"xref\": \"x\", \"y\": -1.1700000000000002, \"yref\": \"y\"}, {\"showarrow\": false, \"text\": \"<b>More Hawkish Policies</b>\", \"x\": -0.303138935959662, \"xref\": \"x\", \"y\": 1.1, \"yref\": \"y\"}, {\"text\": \"r<sup>2</sup>=0.41\", \"x\": -0.2, \"xref\": \"x\", \"y\": -0.2733613266471182, \"yref\": \"y\"}], \"legend\": {\"tracegroupgap\": 0}, \"template\": {\"data\": {\"bar\": [{\"error_x\": {\"color\": \"rgb(36,36,36)\"}, \"error_y\": {\"color\": \"rgb(36,36,36)\"}, \"marker\": {\"line\": {\"color\": \"white\", \"width\": 0.5}}, \"type\": \"bar\"}], \"barpolar\": [{\"marker\": {\"line\": {\"color\": \"white\", \"width\": 0.5}}, \"type\": \"barpolar\"}], \"carpet\": [{\"aaxis\": {\"endlinecolor\": \"rgb(36,36,36)\", \"gridcolor\": \"white\", \"linecolor\": \"white\", \"minorgridcolor\": \"white\", \"startlinecolor\": \"rgb(36,36,36)\"}, \"baxis\": {\"endlinecolor\": \"rgb(36,36,36)\", \"gridcolor\": \"white\", \"linecolor\": \"white\", \"minorgridcolor\": \"white\", \"startlinecolor\": \"rgb(36,36,36)\"}, \"type\": \"carpet\"}], \"choropleth\": [{\"colorbar\": {\"outlinewidth\": 1, \"tickcolor\": \"rgb(36,36,36)\", \"ticks\": \"outside\"}, \"type\": \"choropleth\"}], \"contour\": [{\"colorbar\": {\"outlinewidth\": 1, \"tickcolor\": \"rgb(36,36,36)\", \"ticks\": \"outside\"}, \"colorscale\": [[0.0, \"#440154\"], [0.1111111111111111, \"#482878\"], [0.2222222222222222, \"#3e4989\"], [0.3333333333333333, \"#31688e\"], [0.4444444444444444, \"#26828e\"], [0.5555555555555556, \"#1f9e89\"], [0.6666666666666666, \"#35b779\"], [0.7777777777777778, \"#6ece58\"], [0.8888888888888888, \"#b5de2b\"], [1.0, \"#fde725\"]], \"type\": \"contour\"}], \"contourcarpet\": [{\"colorbar\": {\"outlinewidth\": 1, \"tickcolor\": \"rgb(36,36,36)\", \"ticks\": \"outside\"}, \"type\": \"contourcarpet\"}], \"heatmap\": [{\"colorbar\": {\"outlinewidth\": 1, \"tickcolor\": \"rgb(36,36,36)\", \"ticks\": \"outside\"}, \"colorscale\": [[0.0, \"#440154\"], [0.1111111111111111, \"#482878\"], [0.2222222222222222, \"#3e4989\"], [0.3333333333333333, \"#31688e\"], [0.4444444444444444, \"#26828e\"], [0.5555555555555556, \"#1f9e89\"], [0.6666666666666666, \"#35b779\"], [0.7777777777777778, \"#6ece58\"], [0.8888888888888888, \"#b5de2b\"], [1.0, \"#fde725\"]], \"type\": \"heatmap\"}], \"heatmapgl\": [{\"colorbar\": {\"outlinewidth\": 1, \"tickcolor\": \"rgb(36,36,36)\", \"ticks\": \"outside\"}, \"colorscale\": [[0.0, \"#440154\"], [0.1111111111111111, \"#482878\"], [0.2222222222222222, \"#3e4989\"], [0.3333333333333333, \"#31688e\"], [0.4444444444444444, \"#26828e\"], [0.5555555555555556, \"#1f9e89\"], [0.6666666666666666, \"#35b779\"], [0.7777777777777778, \"#6ece58\"], [0.8888888888888888, \"#b5de2b\"], [1.0, \"#fde725\"]], \"type\": \"heatmapgl\"}], \"histogram\": [{\"marker\": {\"line\": {\"color\": \"white\", \"width\": 0.6}}, \"type\": \"histogram\"}], \"histogram2d\": [{\"colorbar\": {\"outlinewidth\": 1, \"tickcolor\": \"rgb(36,36,36)\", \"ticks\": \"outside\"}, \"colorscale\": [[0.0, \"#440154\"], [0.1111111111111111, \"#482878\"], [0.2222222222222222, \"#3e4989\"], [0.3333333333333333, \"#31688e\"], [0.4444444444444444, \"#26828e\"], [0.5555555555555556, \"#1f9e89\"], [0.6666666666666666, \"#35b779\"], [0.7777777777777778, \"#6ece58\"], [0.8888888888888888, \"#b5de2b\"], [1.0, \"#fde725\"]], \"type\": \"histogram2d\"}], \"histogram2dcontour\": [{\"colorbar\": {\"outlinewidth\": 1, \"tickcolor\": \"rgb(36,36,36)\", \"ticks\": \"outside\"}, \"colorscale\": [[0.0, \"#440154\"], [0.1111111111111111, \"#482878\"], [0.2222222222222222, \"#3e4989\"], [0.3333333333333333, \"#31688e\"], [0.4444444444444444, \"#26828e\"], [0.5555555555555556, \"#1f9e89\"], [0.6666666666666666, \"#35b779\"], [0.7777777777777778, \"#6ece58\"], [0.8888888888888888, \"#b5de2b\"], [1.0, \"#fde725\"]], \"type\": \"histogram2dcontour\"}], \"mesh3d\": [{\"colorbar\": {\"outlinewidth\": 1, \"tickcolor\": \"rgb(36,36,36)\", \"ticks\": \"outside\"}, \"type\": \"mesh3d\"}], \"parcoords\": [{\"line\": {\"colorbar\": {\"outlinewidth\": 1, \"tickcolor\": \"rgb(36,36,36)\", \"ticks\": \"outside\"}}, \"type\": \"parcoords\"}], \"pie\": [{\"automargin\": true, \"type\": \"pie\"}], \"scatter\": [{\"marker\": {\"colorbar\": {\"outlinewidth\": 1, \"tickcolor\": \"rgb(36,36,36)\", \"ticks\": \"outside\"}}, \"type\": \"scatter\"}], \"scatter3d\": [{\"line\": {\"colorbar\": {\"outlinewidth\": 1, \"tickcolor\": \"rgb(36,36,36)\", \"ticks\": \"outside\"}}, \"marker\": {\"colorbar\": {\"outlinewidth\": 1, \"tickcolor\": \"rgb(36,36,36)\", \"ticks\": \"outside\"}}, \"type\": \"scatter3d\"}], \"scattercarpet\": [{\"marker\": {\"colorbar\": {\"outlinewidth\": 1, \"tickcolor\": \"rgb(36,36,36)\", \"ticks\": \"outside\"}}, \"type\": \"scattercarpet\"}], \"scattergeo\": [{\"marker\": {\"colorbar\": {\"outlinewidth\": 1, \"tickcolor\": \"rgb(36,36,36)\", \"ticks\": \"outside\"}}, \"type\": \"scattergeo\"}], \"scattergl\": [{\"marker\": {\"colorbar\": {\"outlinewidth\": 1, \"tickcolor\": \"rgb(36,36,36)\", \"ticks\": \"outside\"}}, \"type\": \"scattergl\"}], \"scattermapbox\": [{\"marker\": {\"colorbar\": {\"outlinewidth\": 1, \"tickcolor\": \"rgb(36,36,36)\", \"ticks\": \"outside\"}}, \"type\": \"scattermapbox\"}], \"scatterpolar\": [{\"marker\": {\"colorbar\": {\"outlinewidth\": 1, \"tickcolor\": \"rgb(36,36,36)\", \"ticks\": \"outside\"}}, \"type\": \"scatterpolar\"}], \"scatterpolargl\": [{\"marker\": {\"colorbar\": {\"outlinewidth\": 1, \"tickcolor\": \"rgb(36,36,36)\", \"ticks\": \"outside\"}}, \"type\": \"scatterpolargl\"}], \"scatterternary\": [{\"marker\": {\"colorbar\": {\"outlinewidth\": 1, \"tickcolor\": \"rgb(36,36,36)\", \"ticks\": \"outside\"}}, \"type\": \"scatterternary\"}], \"surface\": [{\"colorbar\": {\"outlinewidth\": 1, \"tickcolor\": \"rgb(36,36,36)\", \"ticks\": \"outside\"}, \"colorscale\": [[0.0, \"#440154\"], [0.1111111111111111, \"#482878\"], [0.2222222222222222, \"#3e4989\"], [0.3333333333333333, \"#31688e\"], [0.4444444444444444, \"#26828e\"], [0.5555555555555556, \"#1f9e89\"], [0.6666666666666666, \"#35b779\"], [0.7777777777777778, \"#6ece58\"], [0.8888888888888888, \"#b5de2b\"], [1.0, \"#fde725\"]], \"type\": \"surface\"}], \"table\": [{\"cells\": {\"fill\": {\"color\": \"rgb(237,237,237)\"}, \"line\": {\"color\": \"white\"}}, \"header\": {\"fill\": {\"color\": \"rgb(217,217,217)\"}, \"line\": {\"color\": \"white\"}}, \"type\": \"table\"}]}, \"layout\": {\"annotationdefaults\": {\"arrowhead\": 0, \"arrowwidth\": 1}, \"coloraxis\": {\"colorbar\": {\"outlinewidth\": 1, \"tickcolor\": \"rgb(36,36,36)\", \"ticks\": \"outside\"}}, \"colorscale\": {\"diverging\": [[0.0, \"rgb(103,0,31)\"], [0.1, \"rgb(178,24,43)\"], [0.2, \"rgb(214,96,77)\"], [0.3, \"rgb(244,165,130)\"], [0.4, \"rgb(253,219,199)\"], [0.5, \"rgb(247,247,247)\"], [0.6, \"rgb(209,229,240)\"], [0.7, \"rgb(146,197,222)\"], [0.8, \"rgb(67,147,195)\"], [0.9, \"rgb(33,102,172)\"], [1.0, \"rgb(5,48,97)\"]], \"sequential\": [[0.0, \"#440154\"], [0.1111111111111111, \"#482878\"], [0.2222222222222222, \"#3e4989\"], [0.3333333333333333, \"#31688e\"], [0.4444444444444444, \"#26828e\"], [0.5555555555555556, \"#1f9e89\"], [0.6666666666666666, \"#35b779\"], [0.7777777777777778, \"#6ece58\"], [0.8888888888888888, \"#b5de2b\"], [1.0, \"#fde725\"]], \"sequentialminus\": [[0.0, \"#440154\"], [0.1111111111111111, \"#482878\"], [0.2222222222222222, \"#3e4989\"], [0.3333333333333333, \"#31688e\"], [0.4444444444444444, \"#26828e\"], [0.5555555555555556, \"#1f9e89\"], [0.6666666666666666, \"#35b779\"], [0.7777777777777778, \"#6ece58\"], [0.8888888888888888, \"#b5de2b\"], [1.0, \"#fde725\"]]}, \"colorway\": [\"#1F77B4\", \"#FF7F0E\", \"#2CA02C\", \"#D62728\", \"#9467BD\", \"#8C564B\", \"#E377C2\", \"#7F7F7F\", \"#BCBD22\", \"#17BECF\"], \"font\": {\"color\": \"rgb(36,36,36)\"}, \"geo\": {\"bgcolor\": \"white\", \"lakecolor\": \"white\", \"landcolor\": \"white\", \"showlakes\": true, \"showland\": true, \"subunitcolor\": \"white\"}, \"hoverlabel\": {\"align\": \"left\"}, \"hovermode\": \"closest\", \"mapbox\": {\"style\": \"light\"}, \"paper_bgcolor\": \"white\", \"plot_bgcolor\": \"white\", \"polar\": {\"angularaxis\": {\"gridcolor\": \"rgb(232,232,232)\", \"linecolor\": \"rgb(36,36,36)\", \"showgrid\": false, \"showline\": true, \"ticks\": \"outside\"}, \"bgcolor\": \"white\", \"radialaxis\": {\"gridcolor\": \"rgb(232,232,232)\", \"linecolor\": \"rgb(36,36,36)\", \"showgrid\": false, \"showline\": true, \"ticks\": \"outside\"}}, \"scene\": {\"xaxis\": {\"backgroundcolor\": \"white\", \"gridcolor\": \"rgb(232,232,232)\", \"gridwidth\": 2, \"linecolor\": \"rgb(36,36,36)\", \"showbackground\": true, \"showgrid\": false, \"showline\": true, \"ticks\": \"outside\", \"zeroline\": false, \"zerolinecolor\": \"rgb(36,36,36)\"}, \"yaxis\": {\"backgroundcolor\": \"white\", \"gridcolor\": \"rgb(232,232,232)\", \"gridwidth\": 2, \"linecolor\": \"rgb(36,36,36)\", \"showbackground\": true, \"showgrid\": false, \"showline\": true, \"ticks\": \"outside\", \"zeroline\": false, \"zerolinecolor\": \"rgb(36,36,36)\"}, \"zaxis\": {\"backgroundcolor\": \"white\", \"gridcolor\": \"rgb(232,232,232)\", \"gridwidth\": 2, \"linecolor\": \"rgb(36,36,36)\", \"showbackground\": true, \"showgrid\": false, \"showline\": true, \"ticks\": \"outside\", \"zeroline\": false, \"zerolinecolor\": \"rgb(36,36,36)\"}}, \"shapedefaults\": {\"fillcolor\": \"black\", \"line\": {\"width\": 0}, \"opacity\": 0.3}, \"ternary\": {\"aaxis\": {\"gridcolor\": \"rgb(232,232,232)\", \"linecolor\": \"rgb(36,36,36)\", \"showgrid\": false, \"showline\": true, \"ticks\": \"outside\"}, \"baxis\": {\"gridcolor\": \"rgb(232,232,232)\", \"linecolor\": \"rgb(36,36,36)\", \"showgrid\": false, \"showline\": true, \"ticks\": \"outside\"}, \"bgcolor\": \"white\", \"caxis\": {\"gridcolor\": \"rgb(232,232,232)\", \"linecolor\": \"rgb(36,36,36)\", \"showgrid\": false, \"showline\": true, \"ticks\": \"outside\"}}, \"title\": {\"x\": 0.05}, \"xaxis\": {\"automargin\": true, \"gridcolor\": \"rgb(232,232,232)\", \"linecolor\": \"rgb(36,36,36)\", \"showgrid\": false, \"showline\": true, \"ticks\": \"outside\", \"title\": {\"standoff\": 15}, \"zeroline\": false, \"zerolinecolor\": \"rgb(36,36,36)\"}, \"yaxis\": {\"automargin\": true, \"gridcolor\": \"rgb(232,232,232)\", \"linecolor\": \"rgb(36,36,36)\", \"showgrid\": false, \"showline\": true, \"ticks\": \"outside\", \"title\": {\"standoff\": 15}, \"zeroline\": false, \"zerolinecolor\": \"rgb(36,36,36)\"}}}, \"title\": {\"text\": \"Subreddit Hawkish Dimension Versus Number of Military Boosting Policies\"}, \"xaxis\": {\"anchor\": \"y\", \"domain\": [0.0, 1.0], \"range\": [-0.33682103995518, -0.047597673936636845], \"title\": {\"text\": \"Subreddit Military Dimension\"}}, \"yaxis\": {\"anchor\": \"x\", \"domain\": [0.0, 1.0], \"range\": [-1.3, 1.1], \"title\": {\"text\": \"Pro Military Policies\"}}},\n",
       "                        {\"responsive\": true}\n",
       "                    ).then(function(){\n",
       "                            \n",
       "var gd = document.getElementById('71c15eb9-c6c8-4ee3-8b75-c730a80638e4');\n",
       "var x = new MutationObserver(function (mutations, observer) {{\n",
       "        var display = window.getComputedStyle(gd).display;\n",
       "        if (!display || display === 'none') {{\n",
       "            console.log([gd, 'removed!']);\n",
       "            Plotly.purge(gd);\n",
       "            observer.disconnect();\n",
       "        }}\n",
       "}});\n",
       "\n",
       "// Listen for the removal of the full notebook cells\n",
       "var notebookContainer = gd.closest('#notebook-container');\n",
       "if (notebookContainer) {{\n",
       "    x.observe(notebookContainer, {childList: true});\n",
       "}}\n",
       "\n",
       "// Listen for the clearing of the current output cell\n",
       "var outputEl = gd.closest('.output');\n",
       "if (outputEl) {{\n",
       "    x.observe(outputEl, {childList: true});\n",
       "}}\n",
       "\n",
       "                        })\n",
       "                };\n",
       "                });\n",
       "            </script>\n",
       "        </div>"
      ]
     },
     "metadata": {},
     "output_type": "display_data"
    }
   ],
   "source": [
    "xmin, xmax = war_policy_df[\"reddit_projection\"].min()*1.3,war_policy_df[\"reddit_projection\"].max()+0.05\n",
    "ymin, ymax = war_policy_df[\"politico_policy\"].min()*1.3,war_policy_df[\"politico_policy\"].max()*1.1\n",
    "\n",
    "args = {\n",
    "    \"x\": \"reddit_projection\",\n",
    "    \"y\": \"politico_policy\",\n",
    "    \"text\": war_policy_df.index,\n",
    "    \"title\":  \"Subreddit Hawkish Dimension Versus Number of Military Boosting Policies\",\n",
    "    \"template\": \"simple_white\",\n",
    "    \"labels\": {\"reddit_projection\": \"Subreddit Military Dimension\", \"politico_policy\": \"Pro Military Policies\"},\n",
    "    \"range_x\": [xmin,xmax],\n",
    "    \"range_y\": [ymin,ymax],\n",
    "}\n",
    "\n",
    "annotations = [dict(x=xmin*0.88,y=ymin*0.88,xref=\"x\",yref=\"y\", text=\"<b>More Pascifistic Policies<br>Subreddit Trends Pascifistic</b>\",showarrow=False),\n",
    "               dict(x=xmax,y=ymin*0.9,xref=\"x\",yref=\"y\", text=\"<b>Subreddit Trends Hawkish</b>\",showarrow=False),\n",
    "               dict(x=xmin*0.90,y=ymax,xref=\"x\",yref=\"y\", text=\"<b>More Hawkish Policies</b>\",showarrow=False),\n",
    "               dict(x=-0.2,y=predict(-0.2),xref=\"x\",yref=\"y\", text=\"r<sup>2</sup>={:.2f}\".format(r2)),\n",
    "              ]\n",
    "x = np.linspace(xmin,xmax,num=2)\n",
    "    \n",
    "fig = px.scatter(war_policy_df,**args)\n",
    "\n",
    "fig.update_traces(textposition='bottom center')\n",
    "fig.add_scatter(x=x,\n",
    "                y=predict(x),\n",
    "                mode='lines',\n",
    "                line=dict(dash=\"dash\",width=2,color=\"rgba(0,0,160,0.3)\"),\n",
    "                name=\"Linear Regression\"\n",
    "               )\n",
    "\n",
    "fig.update_layout(annotations=annotations)\n",
    "# fig.write_html(\"visualizations/Politico_Military-war_dim.html\")\n",
    "fig.show()"
   ]
  },
  {
   "cell_type": "markdown",
   "metadata": {},
   "source": [
    "## Birth Control Dimension\n",
    "\n",
    "Source: https://www.nytimes.com/2019/11/25/us/politics/democratic-candidates-abortion-survey.html\n",
    "\n",
    "Note that this is a measure of how many *policies* that increase access to birth control/abortion. NOT a measure of how the supporters feel.\n",
    "\n",
    "> [tl;dr: Andrew Yang is an amazing candidate. But, if I think abortion should be made illegal, how can I vote for a candidate who does not agree? I'm genuinely conflicted and would like some opinions.](https://www.reddit.com/r/YangForPresidentHQ/comments/dero9g/i_am_antiabortion_and_im_torn_between_voting_for/)\n",
    "\n",
    "Also makes sense as Yang postitioned his 'freedom dividend' as a means *to reduce the number of abortions* which could also appeal to Democrats who are less comfortable with abortion.\n"
   ]
  },
  {
   "cell_type": "code",
   "execution_count": 102,
   "metadata": {},
   "outputs": [
    {
     "data": {
      "text/html": [
       "<div>\n",
       "<style scoped>\n",
       "    .dataframe tbody tr th:only-of-type {\n",
       "        vertical-align: middle;\n",
       "    }\n",
       "\n",
       "    .dataframe tbody tr th {\n",
       "        vertical-align: top;\n",
       "    }\n",
       "\n",
       "    .dataframe thead th {\n",
       "        text-align: right;\n",
       "    }\n",
       "</style>\n",
       "<table border=\"1\" class=\"dataframe\">\n",
       "  <thead>\n",
       "    <tr style=\"text-align: right;\">\n",
       "      <th></th>\n",
       "      <th>nyt_policy</th>\n",
       "      <th>reddit_projection</th>\n",
       "    </tr>\n",
       "    <tr>\n",
       "      <th>candidate</th>\n",
       "      <th></th>\n",
       "      <th></th>\n",
       "    </tr>\n",
       "  </thead>\n",
       "  <tbody>\n",
       "    <tr>\n",
       "      <th>Biden</th>\n",
       "      <td>-0.5000</td>\n",
       "      <td>0.144449</td>\n",
       "    </tr>\n",
       "    <tr>\n",
       "      <th>Buttigieg</th>\n",
       "      <td>-0.8750</td>\n",
       "      <td>0.003811</td>\n",
       "    </tr>\n",
       "    <tr>\n",
       "      <th>Klobuchar</th>\n",
       "      <td>-0.7500</td>\n",
       "      <td>0.033125</td>\n",
       "    </tr>\n",
       "    <tr>\n",
       "      <th>Sanders</th>\n",
       "      <td>-0.8750</td>\n",
       "      <td>0.045208</td>\n",
       "    </tr>\n",
       "    <tr>\n",
       "      <th>Warren</th>\n",
       "      <td>-0.9375</td>\n",
       "      <td>-0.023265</td>\n",
       "    </tr>\n",
       "    <tr>\n",
       "      <th>Yang</th>\n",
       "      <td>-0.8750</td>\n",
       "      <td>0.177908</td>\n",
       "    </tr>\n",
       "  </tbody>\n",
       "</table>\n",
       "</div>"
      ],
      "text/plain": [
       "           nyt_policy  reddit_projection\n",
       "candidate                               \n",
       "Biden         -0.5000           0.144449\n",
       "Buttigieg     -0.8750           0.003811\n",
       "Klobuchar     -0.7500           0.033125\n",
       "Sanders       -0.8750           0.045208\n",
       "Warren        -0.9375          -0.023265\n",
       "Yang          -0.8750           0.177908"
      ]
     },
     "execution_count": 102,
     "metadata": {},
     "output_type": "execute_result"
    }
   ],
   "source": [
    "bc_df = pd.read_csv(\"/h/224/cameron/Political-Subreddit-Embedding/external_datasets/polling_data/nyt_abortion_policy.csv\")\n",
    "bc_df = bc_df.set_index(\"candidate\")\n",
    "bc_df[\"nyt_policy\"] = bc_df.apply(survey_to_num,axis=1)\n",
    "\n",
    "i_dim = calculate_dim(bc_dim.subreddits,embedding)\n",
    "bc_df[\"reddit_projection\"] = [project_dim(i_dim,c,embedding) for c in cand_subs]\n",
    "\n",
    "bc_df = bc_df[[\"nyt_policy\",\"reddit_projection\"]]\n",
    "bc_df"
   ]
  },
  {
   "cell_type": "code",
   "execution_count": 103,
   "metadata": {},
   "outputs": [
    {
     "data": {
      "text/plain": [
       "0.24902720815253532"
      ]
     },
     "execution_count": 103,
     "metadata": {},
     "output_type": "execute_result"
    }
   ],
   "source": [
    "# Fit a linear regression to our model and its results\n",
    "model = np.polyfit(bc_df[\"reddit_projection\"], bc_df[\"nyt_policy\"], 1)\n",
    "predict = np.poly1d(model)\n",
    "r2 = r2_score(bc_df[\"nyt_policy\"], predict(bc_df[\"reddit_projection\"]))\n",
    "r2"
   ]
  },
  {
   "cell_type": "code",
   "execution_count": 104,
   "metadata": {},
   "outputs": [
    {
     "data": {
      "application/vnd.plotly.v1+json": {
       "config": {
        "plotlyServerURL": "https://plot.ly"
       },
       "data": [
        {
         "hovertemplate": "Subreddit Birth Control=%{x}<br>nyt_policy=%{y}<br>candidate=%{text}<extra></extra>",
         "legendgroup": "",
         "marker": {
          "color": "#1F77B4",
          "symbol": "circle"
         },
         "mode": "markers+text",
         "name": "",
         "orientation": "v",
         "showlegend": false,
         "text": [
          "Biden",
          "Buttigieg",
          "Klobuchar",
          "Sanders",
          "Warren",
          "Yang"
         ],
         "textposition": "bottom center",
         "type": "scatter",
         "x": [
          0.14444886801326243,
          0.0038105572293855024,
          0.0331250995556804,
          0.04520767512782096,
          -0.02326514071518909,
          0.177908292654276
         ],
         "xaxis": "x",
         "y": [
          -0.5,
          -0.875,
          -0.75,
          -0.875,
          -0.9375,
          -0.875
         ],
         "yaxis": "y"
        },
        {
         "line": {
          "color": "rgba(0,0,160,0.3)",
          "dash": "dash",
          "width": 2
         },
         "mode": "lines",
         "name": "Linear Regression",
         "type": "scatter",
         "x": [
          -0.0732651407151891,
          0.22790829265427598
         ],
         "y": [
          -0.9387781916265368,
          -0.6378458384275629
         ]
        }
       ],
       "layout": {
        "annotations": [
         {
          "showarrow": false,
          "text": "<b>More Progressive Policies<br>Subreddit Trends Pro-Choice</b>",
          "x": -0.023265140715189092,
          "xref": "x",
          "y": -1.1578125,
          "yref": "y"
         },
         {
          "showarrow": false,
          "text": "<b>Subreddit Trends Pro-Life</b>",
          "x": 0.22790829265427598,
          "xref": "x",
          "y": -1.1578125,
          "yref": "y"
         },
         {
          "showarrow": false,
          "text": "<b>Less Progressive Policies</b>",
          "x": -0.023265140715189092,
          "xref": "x",
          "y": -0.4,
          "yref": "y"
         },
         {
          "text": "r<sup>2</sup>=0.25",
          "x": 0.1,
          "xref": "x",
          "y": -0.7656517443850598,
          "yref": "y"
         }
        ],
        "legend": {
         "tracegroupgap": 0
        },
        "template": {
         "data": {
          "bar": [
           {
            "error_x": {
             "color": "rgb(36,36,36)"
            },
            "error_y": {
             "color": "rgb(36,36,36)"
            },
            "marker": {
             "line": {
              "color": "white",
              "width": 0.5
             }
            },
            "type": "bar"
           }
          ],
          "barpolar": [
           {
            "marker": {
             "line": {
              "color": "white",
              "width": 0.5
             }
            },
            "type": "barpolar"
           }
          ],
          "carpet": [
           {
            "aaxis": {
             "endlinecolor": "rgb(36,36,36)",
             "gridcolor": "white",
             "linecolor": "white",
             "minorgridcolor": "white",
             "startlinecolor": "rgb(36,36,36)"
            },
            "baxis": {
             "endlinecolor": "rgb(36,36,36)",
             "gridcolor": "white",
             "linecolor": "white",
             "minorgridcolor": "white",
             "startlinecolor": "rgb(36,36,36)"
            },
            "type": "carpet"
           }
          ],
          "choropleth": [
           {
            "colorbar": {
             "outlinewidth": 1,
             "tickcolor": "rgb(36,36,36)",
             "ticks": "outside"
            },
            "type": "choropleth"
           }
          ],
          "contour": [
           {
            "colorbar": {
             "outlinewidth": 1,
             "tickcolor": "rgb(36,36,36)",
             "ticks": "outside"
            },
            "colorscale": [
             [
              0,
              "#440154"
             ],
             [
              0.1111111111111111,
              "#482878"
             ],
             [
              0.2222222222222222,
              "#3e4989"
             ],
             [
              0.3333333333333333,
              "#31688e"
             ],
             [
              0.4444444444444444,
              "#26828e"
             ],
             [
              0.5555555555555556,
              "#1f9e89"
             ],
             [
              0.6666666666666666,
              "#35b779"
             ],
             [
              0.7777777777777778,
              "#6ece58"
             ],
             [
              0.8888888888888888,
              "#b5de2b"
             ],
             [
              1,
              "#fde725"
             ]
            ],
            "type": "contour"
           }
          ],
          "contourcarpet": [
           {
            "colorbar": {
             "outlinewidth": 1,
             "tickcolor": "rgb(36,36,36)",
             "ticks": "outside"
            },
            "type": "contourcarpet"
           }
          ],
          "heatmap": [
           {
            "colorbar": {
             "outlinewidth": 1,
             "tickcolor": "rgb(36,36,36)",
             "ticks": "outside"
            },
            "colorscale": [
             [
              0,
              "#440154"
             ],
             [
              0.1111111111111111,
              "#482878"
             ],
             [
              0.2222222222222222,
              "#3e4989"
             ],
             [
              0.3333333333333333,
              "#31688e"
             ],
             [
              0.4444444444444444,
              "#26828e"
             ],
             [
              0.5555555555555556,
              "#1f9e89"
             ],
             [
              0.6666666666666666,
              "#35b779"
             ],
             [
              0.7777777777777778,
              "#6ece58"
             ],
             [
              0.8888888888888888,
              "#b5de2b"
             ],
             [
              1,
              "#fde725"
             ]
            ],
            "type": "heatmap"
           }
          ],
          "heatmapgl": [
           {
            "colorbar": {
             "outlinewidth": 1,
             "tickcolor": "rgb(36,36,36)",
             "ticks": "outside"
            },
            "colorscale": [
             [
              0,
              "#440154"
             ],
             [
              0.1111111111111111,
              "#482878"
             ],
             [
              0.2222222222222222,
              "#3e4989"
             ],
             [
              0.3333333333333333,
              "#31688e"
             ],
             [
              0.4444444444444444,
              "#26828e"
             ],
             [
              0.5555555555555556,
              "#1f9e89"
             ],
             [
              0.6666666666666666,
              "#35b779"
             ],
             [
              0.7777777777777778,
              "#6ece58"
             ],
             [
              0.8888888888888888,
              "#b5de2b"
             ],
             [
              1,
              "#fde725"
             ]
            ],
            "type": "heatmapgl"
           }
          ],
          "histogram": [
           {
            "marker": {
             "line": {
              "color": "white",
              "width": 0.6
             }
            },
            "type": "histogram"
           }
          ],
          "histogram2d": [
           {
            "colorbar": {
             "outlinewidth": 1,
             "tickcolor": "rgb(36,36,36)",
             "ticks": "outside"
            },
            "colorscale": [
             [
              0,
              "#440154"
             ],
             [
              0.1111111111111111,
              "#482878"
             ],
             [
              0.2222222222222222,
              "#3e4989"
             ],
             [
              0.3333333333333333,
              "#31688e"
             ],
             [
              0.4444444444444444,
              "#26828e"
             ],
             [
              0.5555555555555556,
              "#1f9e89"
             ],
             [
              0.6666666666666666,
              "#35b779"
             ],
             [
              0.7777777777777778,
              "#6ece58"
             ],
             [
              0.8888888888888888,
              "#b5de2b"
             ],
             [
              1,
              "#fde725"
             ]
            ],
            "type": "histogram2d"
           }
          ],
          "histogram2dcontour": [
           {
            "colorbar": {
             "outlinewidth": 1,
             "tickcolor": "rgb(36,36,36)",
             "ticks": "outside"
            },
            "colorscale": [
             [
              0,
              "#440154"
             ],
             [
              0.1111111111111111,
              "#482878"
             ],
             [
              0.2222222222222222,
              "#3e4989"
             ],
             [
              0.3333333333333333,
              "#31688e"
             ],
             [
              0.4444444444444444,
              "#26828e"
             ],
             [
              0.5555555555555556,
              "#1f9e89"
             ],
             [
              0.6666666666666666,
              "#35b779"
             ],
             [
              0.7777777777777778,
              "#6ece58"
             ],
             [
              0.8888888888888888,
              "#b5de2b"
             ],
             [
              1,
              "#fde725"
             ]
            ],
            "type": "histogram2dcontour"
           }
          ],
          "mesh3d": [
           {
            "colorbar": {
             "outlinewidth": 1,
             "tickcolor": "rgb(36,36,36)",
             "ticks": "outside"
            },
            "type": "mesh3d"
           }
          ],
          "parcoords": [
           {
            "line": {
             "colorbar": {
              "outlinewidth": 1,
              "tickcolor": "rgb(36,36,36)",
              "ticks": "outside"
             }
            },
            "type": "parcoords"
           }
          ],
          "pie": [
           {
            "automargin": true,
            "type": "pie"
           }
          ],
          "scatter": [
           {
            "marker": {
             "colorbar": {
              "outlinewidth": 1,
              "tickcolor": "rgb(36,36,36)",
              "ticks": "outside"
             }
            },
            "type": "scatter"
           }
          ],
          "scatter3d": [
           {
            "line": {
             "colorbar": {
              "outlinewidth": 1,
              "tickcolor": "rgb(36,36,36)",
              "ticks": "outside"
             }
            },
            "marker": {
             "colorbar": {
              "outlinewidth": 1,
              "tickcolor": "rgb(36,36,36)",
              "ticks": "outside"
             }
            },
            "type": "scatter3d"
           }
          ],
          "scattercarpet": [
           {
            "marker": {
             "colorbar": {
              "outlinewidth": 1,
              "tickcolor": "rgb(36,36,36)",
              "ticks": "outside"
             }
            },
            "type": "scattercarpet"
           }
          ],
          "scattergeo": [
           {
            "marker": {
             "colorbar": {
              "outlinewidth": 1,
              "tickcolor": "rgb(36,36,36)",
              "ticks": "outside"
             }
            },
            "type": "scattergeo"
           }
          ],
          "scattergl": [
           {
            "marker": {
             "colorbar": {
              "outlinewidth": 1,
              "tickcolor": "rgb(36,36,36)",
              "ticks": "outside"
             }
            },
            "type": "scattergl"
           }
          ],
          "scattermapbox": [
           {
            "marker": {
             "colorbar": {
              "outlinewidth": 1,
              "tickcolor": "rgb(36,36,36)",
              "ticks": "outside"
             }
            },
            "type": "scattermapbox"
           }
          ],
          "scatterpolar": [
           {
            "marker": {
             "colorbar": {
              "outlinewidth": 1,
              "tickcolor": "rgb(36,36,36)",
              "ticks": "outside"
             }
            },
            "type": "scatterpolar"
           }
          ],
          "scatterpolargl": [
           {
            "marker": {
             "colorbar": {
              "outlinewidth": 1,
              "tickcolor": "rgb(36,36,36)",
              "ticks": "outside"
             }
            },
            "type": "scatterpolargl"
           }
          ],
          "scatterternary": [
           {
            "marker": {
             "colorbar": {
              "outlinewidth": 1,
              "tickcolor": "rgb(36,36,36)",
              "ticks": "outside"
             }
            },
            "type": "scatterternary"
           }
          ],
          "surface": [
           {
            "colorbar": {
             "outlinewidth": 1,
             "tickcolor": "rgb(36,36,36)",
             "ticks": "outside"
            },
            "colorscale": [
             [
              0,
              "#440154"
             ],
             [
              0.1111111111111111,
              "#482878"
             ],
             [
              0.2222222222222222,
              "#3e4989"
             ],
             [
              0.3333333333333333,
              "#31688e"
             ],
             [
              0.4444444444444444,
              "#26828e"
             ],
             [
              0.5555555555555556,
              "#1f9e89"
             ],
             [
              0.6666666666666666,
              "#35b779"
             ],
             [
              0.7777777777777778,
              "#6ece58"
             ],
             [
              0.8888888888888888,
              "#b5de2b"
             ],
             [
              1,
              "#fde725"
             ]
            ],
            "type": "surface"
           }
          ],
          "table": [
           {
            "cells": {
             "fill": {
              "color": "rgb(237,237,237)"
             },
             "line": {
              "color": "white"
             }
            },
            "header": {
             "fill": {
              "color": "rgb(217,217,217)"
             },
             "line": {
              "color": "white"
             }
            },
            "type": "table"
           }
          ]
         },
         "layout": {
          "annotationdefaults": {
           "arrowhead": 0,
           "arrowwidth": 1
          },
          "coloraxis": {
           "colorbar": {
            "outlinewidth": 1,
            "tickcolor": "rgb(36,36,36)",
            "ticks": "outside"
           }
          },
          "colorscale": {
           "diverging": [
            [
             0,
             "rgb(103,0,31)"
            ],
            [
             0.1,
             "rgb(178,24,43)"
            ],
            [
             0.2,
             "rgb(214,96,77)"
            ],
            [
             0.3,
             "rgb(244,165,130)"
            ],
            [
             0.4,
             "rgb(253,219,199)"
            ],
            [
             0.5,
             "rgb(247,247,247)"
            ],
            [
             0.6,
             "rgb(209,229,240)"
            ],
            [
             0.7,
             "rgb(146,197,222)"
            ],
            [
             0.8,
             "rgb(67,147,195)"
            ],
            [
             0.9,
             "rgb(33,102,172)"
            ],
            [
             1,
             "rgb(5,48,97)"
            ]
           ],
           "sequential": [
            [
             0,
             "#440154"
            ],
            [
             0.1111111111111111,
             "#482878"
            ],
            [
             0.2222222222222222,
             "#3e4989"
            ],
            [
             0.3333333333333333,
             "#31688e"
            ],
            [
             0.4444444444444444,
             "#26828e"
            ],
            [
             0.5555555555555556,
             "#1f9e89"
            ],
            [
             0.6666666666666666,
             "#35b779"
            ],
            [
             0.7777777777777778,
             "#6ece58"
            ],
            [
             0.8888888888888888,
             "#b5de2b"
            ],
            [
             1,
             "#fde725"
            ]
           ],
           "sequentialminus": [
            [
             0,
             "#440154"
            ],
            [
             0.1111111111111111,
             "#482878"
            ],
            [
             0.2222222222222222,
             "#3e4989"
            ],
            [
             0.3333333333333333,
             "#31688e"
            ],
            [
             0.4444444444444444,
             "#26828e"
            ],
            [
             0.5555555555555556,
             "#1f9e89"
            ],
            [
             0.6666666666666666,
             "#35b779"
            ],
            [
             0.7777777777777778,
             "#6ece58"
            ],
            [
             0.8888888888888888,
             "#b5de2b"
            ],
            [
             1,
             "#fde725"
            ]
           ]
          },
          "colorway": [
           "#1F77B4",
           "#FF7F0E",
           "#2CA02C",
           "#D62728",
           "#9467BD",
           "#8C564B",
           "#E377C2",
           "#7F7F7F",
           "#BCBD22",
           "#17BECF"
          ],
          "font": {
           "color": "rgb(36,36,36)"
          },
          "geo": {
           "bgcolor": "white",
           "lakecolor": "white",
           "landcolor": "white",
           "showlakes": true,
           "showland": true,
           "subunitcolor": "white"
          },
          "hoverlabel": {
           "align": "left"
          },
          "hovermode": "closest",
          "mapbox": {
           "style": "light"
          },
          "paper_bgcolor": "white",
          "plot_bgcolor": "white",
          "polar": {
           "angularaxis": {
            "gridcolor": "rgb(232,232,232)",
            "linecolor": "rgb(36,36,36)",
            "showgrid": false,
            "showline": true,
            "ticks": "outside"
           },
           "bgcolor": "white",
           "radialaxis": {
            "gridcolor": "rgb(232,232,232)",
            "linecolor": "rgb(36,36,36)",
            "showgrid": false,
            "showline": true,
            "ticks": "outside"
           }
          },
          "scene": {
           "xaxis": {
            "backgroundcolor": "white",
            "gridcolor": "rgb(232,232,232)",
            "gridwidth": 2,
            "linecolor": "rgb(36,36,36)",
            "showbackground": true,
            "showgrid": false,
            "showline": true,
            "ticks": "outside",
            "zeroline": false,
            "zerolinecolor": "rgb(36,36,36)"
           },
           "yaxis": {
            "backgroundcolor": "white",
            "gridcolor": "rgb(232,232,232)",
            "gridwidth": 2,
            "linecolor": "rgb(36,36,36)",
            "showbackground": true,
            "showgrid": false,
            "showline": true,
            "ticks": "outside",
            "zeroline": false,
            "zerolinecolor": "rgb(36,36,36)"
           },
           "zaxis": {
            "backgroundcolor": "white",
            "gridcolor": "rgb(232,232,232)",
            "gridwidth": 2,
            "linecolor": "rgb(36,36,36)",
            "showbackground": true,
            "showgrid": false,
            "showline": true,
            "ticks": "outside",
            "zeroline": false,
            "zerolinecolor": "rgb(36,36,36)"
           }
          },
          "shapedefaults": {
           "fillcolor": "black",
           "line": {
            "width": 0
           },
           "opacity": 0.3
          },
          "ternary": {
           "aaxis": {
            "gridcolor": "rgb(232,232,232)",
            "linecolor": "rgb(36,36,36)",
            "showgrid": false,
            "showline": true,
            "ticks": "outside"
           },
           "baxis": {
            "gridcolor": "rgb(232,232,232)",
            "linecolor": "rgb(36,36,36)",
            "showgrid": false,
            "showline": true,
            "ticks": "outside"
           },
           "bgcolor": "white",
           "caxis": {
            "gridcolor": "rgb(232,232,232)",
            "linecolor": "rgb(36,36,36)",
            "showgrid": false,
            "showline": true,
            "ticks": "outside"
           }
          },
          "title": {
           "x": 0.05
          },
          "xaxis": {
           "automargin": true,
           "gridcolor": "rgb(232,232,232)",
           "linecolor": "rgb(36,36,36)",
           "showgrid": false,
           "showline": true,
           "ticks": "outside",
           "title": {
            "standoff": 15
           },
           "zeroline": false,
           "zerolinecolor": "rgb(36,36,36)"
          },
          "yaxis": {
           "automargin": true,
           "gridcolor": "rgb(232,232,232)",
           "linecolor": "rgb(36,36,36)",
           "showgrid": false,
           "showline": true,
           "ticks": "outside",
           "title": {
            "standoff": 15
           },
           "zeroline": false,
           "zerolinecolor": "rgb(36,36,36)"
          }
         }
        },
        "title": {
         "text": "Subreddit Birth Control Dimension Versus Birth Control"
        },
        "xaxis": {
         "anchor": "y",
         "domain": [
          0,
          1
         ],
         "range": [
          -0.0732651407151891,
          0.22790829265427598
         ],
         "title": {
          "text": "Subreddit Birth Control"
         }
        },
        "yaxis": {
         "anchor": "x",
         "domain": [
          0,
          1
         ],
         "range": [
          -1.21875,
          -0.4
         ],
         "title": {
          "text": "nyt_policy"
         }
        }
       }
      },
      "text/html": [
       "<div>\n",
       "        \n",
       "        \n",
       "            <div id=\"1f5fbf8b-f49a-4a93-b37d-13d8cd8535ba\" class=\"plotly-graph-div\" style=\"height:525px; width:100%;\"></div>\n",
       "            <script type=\"text/javascript\">\n",
       "                require([\"plotly\"], function(Plotly) {\n",
       "                    window.PLOTLYENV=window.PLOTLYENV || {};\n",
       "                    \n",
       "                if (document.getElementById(\"1f5fbf8b-f49a-4a93-b37d-13d8cd8535ba\")) {\n",
       "                    Plotly.newPlot(\n",
       "                        '1f5fbf8b-f49a-4a93-b37d-13d8cd8535ba',\n",
       "                        [{\"hovertemplate\": \"Subreddit Birth Control=%{x}<br>nyt_policy=%{y}<br>candidate=%{text}<extra></extra>\", \"legendgroup\": \"\", \"marker\": {\"color\": \"#1F77B4\", \"symbol\": \"circle\"}, \"mode\": \"markers+text\", \"name\": \"\", \"orientation\": \"v\", \"showlegend\": false, \"text\": [\"Biden\", \"Buttigieg\", \"Klobuchar\", \"Sanders\", \"Warren\", \"Yang\"], \"textposition\": \"bottom center\", \"type\": \"scatter\", \"x\": [0.14444886801326243, 0.0038105572293855024, 0.0331250995556804, 0.04520767512782096, -0.02326514071518909, 0.177908292654276], \"xaxis\": \"x\", \"y\": [-0.5, -0.875, -0.75, -0.875, -0.9375, -0.875], \"yaxis\": \"y\"}, {\"line\": {\"color\": \"rgba(0,0,160,0.3)\", \"dash\": \"dash\", \"width\": 2}, \"mode\": \"lines\", \"name\": \"Linear Regression\", \"type\": \"scatter\", \"x\": [-0.0732651407151891, 0.22790829265427598], \"y\": [-0.9387781916265368, -0.6378458384275629]}],\n",
       "                        {\"annotations\": [{\"showarrow\": false, \"text\": \"<b>More Progressive Policies<br>Subreddit Trends Pro-Choice</b>\", \"x\": -0.023265140715189092, \"xref\": \"x\", \"y\": -1.1578125, \"yref\": \"y\"}, {\"showarrow\": false, \"text\": \"<b>Subreddit Trends Pro-Life</b>\", \"x\": 0.22790829265427598, \"xref\": \"x\", \"y\": -1.1578125, \"yref\": \"y\"}, {\"showarrow\": false, \"text\": \"<b>Less Progressive Policies</b>\", \"x\": -0.023265140715189092, \"xref\": \"x\", \"y\": -0.4, \"yref\": \"y\"}, {\"text\": \"r<sup>2</sup>=0.25\", \"x\": 0.1, \"xref\": \"x\", \"y\": -0.7656517443850598, \"yref\": \"y\"}], \"legend\": {\"tracegroupgap\": 0}, \"template\": {\"data\": {\"bar\": [{\"error_x\": {\"color\": \"rgb(36,36,36)\"}, \"error_y\": {\"color\": \"rgb(36,36,36)\"}, \"marker\": {\"line\": {\"color\": \"white\", \"width\": 0.5}}, \"type\": \"bar\"}], \"barpolar\": [{\"marker\": {\"line\": {\"color\": \"white\", \"width\": 0.5}}, \"type\": \"barpolar\"}], \"carpet\": [{\"aaxis\": {\"endlinecolor\": \"rgb(36,36,36)\", \"gridcolor\": \"white\", \"linecolor\": \"white\", \"minorgridcolor\": \"white\", \"startlinecolor\": \"rgb(36,36,36)\"}, \"baxis\": {\"endlinecolor\": \"rgb(36,36,36)\", \"gridcolor\": \"white\", \"linecolor\": \"white\", \"minorgridcolor\": \"white\", \"startlinecolor\": \"rgb(36,36,36)\"}, \"type\": \"carpet\"}], \"choropleth\": [{\"colorbar\": {\"outlinewidth\": 1, \"tickcolor\": \"rgb(36,36,36)\", \"ticks\": \"outside\"}, \"type\": \"choropleth\"}], \"contour\": [{\"colorbar\": {\"outlinewidth\": 1, \"tickcolor\": \"rgb(36,36,36)\", \"ticks\": \"outside\"}, \"colorscale\": [[0.0, \"#440154\"], [0.1111111111111111, \"#482878\"], [0.2222222222222222, \"#3e4989\"], [0.3333333333333333, \"#31688e\"], [0.4444444444444444, \"#26828e\"], [0.5555555555555556, \"#1f9e89\"], [0.6666666666666666, \"#35b779\"], [0.7777777777777778, \"#6ece58\"], [0.8888888888888888, \"#b5de2b\"], [1.0, \"#fde725\"]], \"type\": \"contour\"}], \"contourcarpet\": [{\"colorbar\": {\"outlinewidth\": 1, \"tickcolor\": \"rgb(36,36,36)\", \"ticks\": \"outside\"}, \"type\": \"contourcarpet\"}], \"heatmap\": [{\"colorbar\": {\"outlinewidth\": 1, \"tickcolor\": \"rgb(36,36,36)\", \"ticks\": \"outside\"}, \"colorscale\": [[0.0, \"#440154\"], [0.1111111111111111, \"#482878\"], [0.2222222222222222, \"#3e4989\"], [0.3333333333333333, \"#31688e\"], [0.4444444444444444, \"#26828e\"], [0.5555555555555556, \"#1f9e89\"], [0.6666666666666666, \"#35b779\"], [0.7777777777777778, \"#6ece58\"], [0.8888888888888888, \"#b5de2b\"], [1.0, \"#fde725\"]], \"type\": \"heatmap\"}], \"heatmapgl\": [{\"colorbar\": {\"outlinewidth\": 1, \"tickcolor\": \"rgb(36,36,36)\", \"ticks\": \"outside\"}, \"colorscale\": [[0.0, \"#440154\"], [0.1111111111111111, \"#482878\"], [0.2222222222222222, \"#3e4989\"], [0.3333333333333333, \"#31688e\"], [0.4444444444444444, \"#26828e\"], [0.5555555555555556, \"#1f9e89\"], [0.6666666666666666, \"#35b779\"], [0.7777777777777778, \"#6ece58\"], [0.8888888888888888, \"#b5de2b\"], [1.0, \"#fde725\"]], \"type\": \"heatmapgl\"}], \"histogram\": [{\"marker\": {\"line\": {\"color\": \"white\", \"width\": 0.6}}, \"type\": \"histogram\"}], \"histogram2d\": [{\"colorbar\": {\"outlinewidth\": 1, \"tickcolor\": \"rgb(36,36,36)\", \"ticks\": \"outside\"}, \"colorscale\": [[0.0, \"#440154\"], [0.1111111111111111, \"#482878\"], [0.2222222222222222, \"#3e4989\"], [0.3333333333333333, \"#31688e\"], [0.4444444444444444, \"#26828e\"], [0.5555555555555556, \"#1f9e89\"], [0.6666666666666666, \"#35b779\"], [0.7777777777777778, \"#6ece58\"], [0.8888888888888888, \"#b5de2b\"], [1.0, \"#fde725\"]], \"type\": \"histogram2d\"}], \"histogram2dcontour\": [{\"colorbar\": {\"outlinewidth\": 1, \"tickcolor\": \"rgb(36,36,36)\", \"ticks\": \"outside\"}, \"colorscale\": [[0.0, \"#440154\"], [0.1111111111111111, \"#482878\"], [0.2222222222222222, \"#3e4989\"], [0.3333333333333333, \"#31688e\"], [0.4444444444444444, \"#26828e\"], [0.5555555555555556, \"#1f9e89\"], [0.6666666666666666, \"#35b779\"], [0.7777777777777778, \"#6ece58\"], [0.8888888888888888, \"#b5de2b\"], [1.0, \"#fde725\"]], \"type\": \"histogram2dcontour\"}], \"mesh3d\": [{\"colorbar\": {\"outlinewidth\": 1, \"tickcolor\": \"rgb(36,36,36)\", \"ticks\": \"outside\"}, \"type\": \"mesh3d\"}], \"parcoords\": [{\"line\": {\"colorbar\": {\"outlinewidth\": 1, \"tickcolor\": \"rgb(36,36,36)\", \"ticks\": \"outside\"}}, \"type\": \"parcoords\"}], \"pie\": [{\"automargin\": true, \"type\": \"pie\"}], \"scatter\": [{\"marker\": {\"colorbar\": {\"outlinewidth\": 1, \"tickcolor\": \"rgb(36,36,36)\", \"ticks\": \"outside\"}}, \"type\": \"scatter\"}], \"scatter3d\": [{\"line\": {\"colorbar\": {\"outlinewidth\": 1, \"tickcolor\": \"rgb(36,36,36)\", \"ticks\": \"outside\"}}, \"marker\": {\"colorbar\": {\"outlinewidth\": 1, \"tickcolor\": \"rgb(36,36,36)\", \"ticks\": \"outside\"}}, \"type\": \"scatter3d\"}], \"scattercarpet\": [{\"marker\": {\"colorbar\": {\"outlinewidth\": 1, \"tickcolor\": \"rgb(36,36,36)\", \"ticks\": \"outside\"}}, \"type\": \"scattercarpet\"}], \"scattergeo\": [{\"marker\": {\"colorbar\": {\"outlinewidth\": 1, \"tickcolor\": \"rgb(36,36,36)\", \"ticks\": \"outside\"}}, \"type\": \"scattergeo\"}], \"scattergl\": [{\"marker\": {\"colorbar\": {\"outlinewidth\": 1, \"tickcolor\": \"rgb(36,36,36)\", \"ticks\": \"outside\"}}, \"type\": \"scattergl\"}], \"scattermapbox\": [{\"marker\": {\"colorbar\": {\"outlinewidth\": 1, \"tickcolor\": \"rgb(36,36,36)\", \"ticks\": \"outside\"}}, \"type\": \"scattermapbox\"}], \"scatterpolar\": [{\"marker\": {\"colorbar\": {\"outlinewidth\": 1, \"tickcolor\": \"rgb(36,36,36)\", \"ticks\": \"outside\"}}, \"type\": \"scatterpolar\"}], \"scatterpolargl\": [{\"marker\": {\"colorbar\": {\"outlinewidth\": 1, \"tickcolor\": \"rgb(36,36,36)\", \"ticks\": \"outside\"}}, \"type\": \"scatterpolargl\"}], \"scatterternary\": [{\"marker\": {\"colorbar\": {\"outlinewidth\": 1, \"tickcolor\": \"rgb(36,36,36)\", \"ticks\": \"outside\"}}, \"type\": \"scatterternary\"}], \"surface\": [{\"colorbar\": {\"outlinewidth\": 1, \"tickcolor\": \"rgb(36,36,36)\", \"ticks\": \"outside\"}, \"colorscale\": [[0.0, \"#440154\"], [0.1111111111111111, \"#482878\"], [0.2222222222222222, \"#3e4989\"], [0.3333333333333333, \"#31688e\"], [0.4444444444444444, \"#26828e\"], [0.5555555555555556, \"#1f9e89\"], [0.6666666666666666, \"#35b779\"], [0.7777777777777778, \"#6ece58\"], [0.8888888888888888, \"#b5de2b\"], [1.0, \"#fde725\"]], \"type\": \"surface\"}], \"table\": [{\"cells\": {\"fill\": {\"color\": \"rgb(237,237,237)\"}, \"line\": {\"color\": \"white\"}}, \"header\": {\"fill\": {\"color\": \"rgb(217,217,217)\"}, \"line\": {\"color\": \"white\"}}, \"type\": \"table\"}]}, \"layout\": {\"annotationdefaults\": {\"arrowhead\": 0, \"arrowwidth\": 1}, \"coloraxis\": {\"colorbar\": {\"outlinewidth\": 1, \"tickcolor\": \"rgb(36,36,36)\", \"ticks\": \"outside\"}}, \"colorscale\": {\"diverging\": [[0.0, \"rgb(103,0,31)\"], [0.1, \"rgb(178,24,43)\"], [0.2, \"rgb(214,96,77)\"], [0.3, \"rgb(244,165,130)\"], [0.4, \"rgb(253,219,199)\"], [0.5, \"rgb(247,247,247)\"], [0.6, \"rgb(209,229,240)\"], [0.7, \"rgb(146,197,222)\"], [0.8, \"rgb(67,147,195)\"], [0.9, \"rgb(33,102,172)\"], [1.0, \"rgb(5,48,97)\"]], \"sequential\": [[0.0, \"#440154\"], [0.1111111111111111, \"#482878\"], [0.2222222222222222, \"#3e4989\"], [0.3333333333333333, \"#31688e\"], [0.4444444444444444, \"#26828e\"], [0.5555555555555556, \"#1f9e89\"], [0.6666666666666666, \"#35b779\"], [0.7777777777777778, \"#6ece58\"], [0.8888888888888888, \"#b5de2b\"], [1.0, \"#fde725\"]], \"sequentialminus\": [[0.0, \"#440154\"], [0.1111111111111111, \"#482878\"], [0.2222222222222222, \"#3e4989\"], [0.3333333333333333, \"#31688e\"], [0.4444444444444444, \"#26828e\"], [0.5555555555555556, \"#1f9e89\"], [0.6666666666666666, \"#35b779\"], [0.7777777777777778, \"#6ece58\"], [0.8888888888888888, \"#b5de2b\"], [1.0, \"#fde725\"]]}, \"colorway\": [\"#1F77B4\", \"#FF7F0E\", \"#2CA02C\", \"#D62728\", \"#9467BD\", \"#8C564B\", \"#E377C2\", \"#7F7F7F\", \"#BCBD22\", \"#17BECF\"], \"font\": {\"color\": \"rgb(36,36,36)\"}, \"geo\": {\"bgcolor\": \"white\", \"lakecolor\": \"white\", \"landcolor\": \"white\", \"showlakes\": true, \"showland\": true, \"subunitcolor\": \"white\"}, \"hoverlabel\": {\"align\": \"left\"}, \"hovermode\": \"closest\", \"mapbox\": {\"style\": \"light\"}, \"paper_bgcolor\": \"white\", \"plot_bgcolor\": \"white\", \"polar\": {\"angularaxis\": {\"gridcolor\": \"rgb(232,232,232)\", \"linecolor\": \"rgb(36,36,36)\", \"showgrid\": false, \"showline\": true, \"ticks\": \"outside\"}, \"bgcolor\": \"white\", \"radialaxis\": {\"gridcolor\": \"rgb(232,232,232)\", \"linecolor\": \"rgb(36,36,36)\", \"showgrid\": false, \"showline\": true, \"ticks\": \"outside\"}}, \"scene\": {\"xaxis\": {\"backgroundcolor\": \"white\", \"gridcolor\": \"rgb(232,232,232)\", \"gridwidth\": 2, \"linecolor\": \"rgb(36,36,36)\", \"showbackground\": true, \"showgrid\": false, \"showline\": true, \"ticks\": \"outside\", \"zeroline\": false, \"zerolinecolor\": \"rgb(36,36,36)\"}, \"yaxis\": {\"backgroundcolor\": \"white\", \"gridcolor\": \"rgb(232,232,232)\", \"gridwidth\": 2, \"linecolor\": \"rgb(36,36,36)\", \"showbackground\": true, \"showgrid\": false, \"showline\": true, \"ticks\": \"outside\", \"zeroline\": false, \"zerolinecolor\": \"rgb(36,36,36)\"}, \"zaxis\": {\"backgroundcolor\": \"white\", \"gridcolor\": \"rgb(232,232,232)\", \"gridwidth\": 2, \"linecolor\": \"rgb(36,36,36)\", \"showbackground\": true, \"showgrid\": false, \"showline\": true, \"ticks\": \"outside\", \"zeroline\": false, \"zerolinecolor\": \"rgb(36,36,36)\"}}, \"shapedefaults\": {\"fillcolor\": \"black\", \"line\": {\"width\": 0}, \"opacity\": 0.3}, \"ternary\": {\"aaxis\": {\"gridcolor\": \"rgb(232,232,232)\", \"linecolor\": \"rgb(36,36,36)\", \"showgrid\": false, \"showline\": true, \"ticks\": \"outside\"}, \"baxis\": {\"gridcolor\": \"rgb(232,232,232)\", \"linecolor\": \"rgb(36,36,36)\", \"showgrid\": false, \"showline\": true, \"ticks\": \"outside\"}, \"bgcolor\": \"white\", \"caxis\": {\"gridcolor\": \"rgb(232,232,232)\", \"linecolor\": \"rgb(36,36,36)\", \"showgrid\": false, \"showline\": true, \"ticks\": \"outside\"}}, \"title\": {\"x\": 0.05}, \"xaxis\": {\"automargin\": true, \"gridcolor\": \"rgb(232,232,232)\", \"linecolor\": \"rgb(36,36,36)\", \"showgrid\": false, \"showline\": true, \"ticks\": \"outside\", \"title\": {\"standoff\": 15}, \"zeroline\": false, \"zerolinecolor\": \"rgb(36,36,36)\"}, \"yaxis\": {\"automargin\": true, \"gridcolor\": \"rgb(232,232,232)\", \"linecolor\": \"rgb(36,36,36)\", \"showgrid\": false, \"showline\": true, \"ticks\": \"outside\", \"title\": {\"standoff\": 15}, \"zeroline\": false, \"zerolinecolor\": \"rgb(36,36,36)\"}}}, \"title\": {\"text\": \"Subreddit Birth Control Dimension Versus Birth Control\"}, \"xaxis\": {\"anchor\": \"y\", \"domain\": [0.0, 1.0], \"range\": [-0.0732651407151891, 0.22790829265427598], \"title\": {\"text\": \"Subreddit Birth Control\"}}, \"yaxis\": {\"anchor\": \"x\", \"domain\": [0.0, 1.0], \"range\": [-1.21875, -0.4], \"title\": {\"text\": \"nyt_policy\"}}},\n",
       "                        {\"responsive\": true}\n",
       "                    ).then(function(){\n",
       "                            \n",
       "var gd = document.getElementById('1f5fbf8b-f49a-4a93-b37d-13d8cd8535ba');\n",
       "var x = new MutationObserver(function (mutations, observer) {{\n",
       "        var display = window.getComputedStyle(gd).display;\n",
       "        if (!display || display === 'none') {{\n",
       "            console.log([gd, 'removed!']);\n",
       "            Plotly.purge(gd);\n",
       "            observer.disconnect();\n",
       "        }}\n",
       "}});\n",
       "\n",
       "// Listen for the removal of the full notebook cells\n",
       "var notebookContainer = gd.closest('#notebook-container');\n",
       "if (notebookContainer) {{\n",
       "    x.observe(notebookContainer, {childList: true});\n",
       "}}\n",
       "\n",
       "// Listen for the clearing of the current output cell\n",
       "var outputEl = gd.closest('.output');\n",
       "if (outputEl) {{\n",
       "    x.observe(outputEl, {childList: true});\n",
       "}}\n",
       "\n",
       "                        })\n",
       "                };\n",
       "                });\n",
       "            </script>\n",
       "        </div>"
      ]
     },
     "metadata": {},
     "output_type": "display_data"
    }
   ],
   "source": [
    "xmin, xmax = bc_df[\"reddit_projection\"].min()-0.05,bc_df[\"reddit_projection\"].max()+0.05\n",
    "ymin, ymax = bc_df[\"nyt_policy\"].min()*1.3,bc_df[\"nyt_policy\"].max()+0.1\n",
    "\n",
    "args = {\n",
    "    \"x\": \"reddit_projection\",\n",
    "    \"y\": \"nyt_policy\",\n",
    "    \"text\": bc_df.index,\n",
    "    \"title\":  \"Subreddit Birth Control Dimension Versus Birth Control\",\n",
    "    \"template\": \"simple_white\",\n",
    "    \"labels\": {\"reddit_projection\": \"Subreddit Birth Control\", \"sex\": \"Surveyed Sex\"},\n",
    "    \"range_x\": [xmin,xmax],\n",
    "    \"range_y\": [ymin,ymax],\n",
    "}\n",
    "\n",
    "annotations = [dict(x=xmin+0.05,y=ymin*0.95,xref=\"x\",yref=\"y\", text=\"<b>More Progressive Policies<br>Subreddit Trends Pro-Choice</b>\",showarrow=False),\n",
    "               dict(x=xmax,y=ymin*0.95,xref=\"x\",yref=\"y\", text=\"<b>Subreddit Trends Pro-Life</b>\",showarrow=False),\n",
    "               dict(x=xmin+0.05,y=ymax,xref=\"x\",yref=\"y\", text=\"<b>Less Progressive Policies</b>\",showarrow=False),\n",
    "               dict(x=0.1,y=predict(0.1),xref=\"x\",yref=\"y\", text=\"r<sup>2</sup>={:.2f}\".format(r2)),\n",
    "              ]\n",
    "x = np.linspace(xmin,xmax,num=2)\n",
    "    \n",
    "fig = px.scatter(bc_df,**args)\n",
    "\n",
    "fig.update_traces(textposition='bottom center')\n",
    "fig.add_scatter(x=x,\n",
    "                y=predict(x),\n",
    "                mode='lines',\n",
    "                line=dict(dash=\"dash\",width=2,color=\"rgba(0,0,160,0.3)\"),\n",
    "                name=\"Linear Regression\"\n",
    "               )\n",
    "\n",
    "fig.update_layout(annotations=annotations)\n",
    "# fig.write_html(\"visualizations/NYT_survey-bc_over_sex_dim.html\")\n",
    "fig.show()"
   ]
  },
  {
   "cell_type": "markdown",
   "metadata": {},
   "source": [
    "## Gun Control Dimension\n",
    "\n",
    "Source: https://www.pewresearch.org/politics/2020/01/30/political-values-and-democratic-candidate-support/#most-democratic-voters-say-gun-laws-in-this-country-should-be-stricter"
   ]
  },
  {
   "cell_type": "code",
   "execution_count": 135,
   "metadata": {},
   "outputs": [
    {
     "data": {
      "text/html": [
       "<div>\n",
       "<style scoped>\n",
       "    .dataframe tbody tr th:only-of-type {\n",
       "        vertical-align: middle;\n",
       "    }\n",
       "\n",
       "    .dataframe tbody tr th {\n",
       "        vertical-align: top;\n",
       "    }\n",
       "\n",
       "    .dataframe thead th {\n",
       "        text-align: right;\n",
       "    }\n",
       "</style>\n",
       "<table border=\"1\" class=\"dataframe\">\n",
       "  <thead>\n",
       "    <tr style=\"text-align: right;\">\n",
       "      <th></th>\n",
       "      <th>gc_survey</th>\n",
       "      <th>reddit_projection</th>\n",
       "    </tr>\n",
       "    <tr>\n",
       "      <th>candidate</th>\n",
       "      <th></th>\n",
       "      <th></th>\n",
       "    </tr>\n",
       "  </thead>\n",
       "  <tbody>\n",
       "    <tr>\n",
       "      <th>Biden</th>\n",
       "      <td>-0.930000</td>\n",
       "      <td>-0.266431</td>\n",
       "    </tr>\n",
       "    <tr>\n",
       "      <th>Sanders</th>\n",
       "      <td>-0.878788</td>\n",
       "      <td>-0.091520</td>\n",
       "    </tr>\n",
       "    <tr>\n",
       "      <th>Warren</th>\n",
       "      <td>-0.970000</td>\n",
       "      <td>-0.287348</td>\n",
       "    </tr>\n",
       "    <tr>\n",
       "      <th>Buttigieg</th>\n",
       "      <td>-0.950000</td>\n",
       "      <td>-0.250756</td>\n",
       "    </tr>\n",
       "  </tbody>\n",
       "</table>\n",
       "</div>"
      ],
      "text/plain": [
       "           gc_survey  reddit_projection\n",
       "candidate                              \n",
       "Biden      -0.930000          -0.266431\n",
       "Sanders    -0.878788          -0.091520\n",
       "Warren     -0.970000          -0.287348\n",
       "Buttigieg  -0.950000          -0.250756"
      ]
     },
     "execution_count": 135,
     "metadata": {},
     "output_type": "execute_result"
    }
   ],
   "source": [
    "gc_df = pd.read_csv(\"/h/224/cameron/Political-Subreddit-Embedding/external_datasets/polling_data/pew_gun_control.csv\")\n",
    "gc_df = gc_df.set_index(\"candidate\")[[\"More\",\"None\",\"Less\"]]\n",
    "gc_df[\"gc_survey\"] = gc_df.apply(survey_to_num,axis=1)\n",
    "\n",
    "i_dim = calculate_dim(gc_dim.subreddits,embedding)\n",
    "gc_df[\"reddit_projection\"] = [project_dim(i_dim,c,embedding) for c in [\"JoeBiden\",\"SandersForPresident\",\"ElizabethWarren\",\"Pete_Buttigieg\"]]\n",
    "\n",
    "gc_df = gc_df[[\"gc_survey\",\"reddit_projection\"]]\n",
    "gc_df"
   ]
  },
  {
   "cell_type": "code",
   "execution_count": 156,
   "metadata": {},
   "outputs": [
    {
     "data": {
      "text/plain": [
       "0.8758809213369375"
      ]
     },
     "execution_count": 156,
     "metadata": {},
     "output_type": "execute_result"
    }
   ],
   "source": [
    "# Fit a linear regression to our model and its results\n",
    "model = np.polyfit(gc_df[\"reddit_projection\"], gc_df[\"gc_survey\"], 1)\n",
    "predict = np.poly1d(model)\n",
    "r2 = r2_score(gc_df[\"gc_survey\"], predict(gc_df[\"reddit_projection\"]))\n",
    "r2"
   ]
  },
  {
   "cell_type": "code",
   "execution_count": 158,
   "metadata": {
    "scrolled": false
   },
   "outputs": [
    {
     "data": {
      "application/vnd.plotly.v1+json": {
       "config": {
        "plotlyServerURL": "https://plot.ly"
       },
       "data": [
        {
         "hovertemplate": "Subreddit Gun Control=%{x}<br>Surveyed Gun Control=%{y}<br>candidate=%{text}<extra></extra>",
         "legendgroup": "",
         "marker": {
          "color": "#1F77B4",
          "symbol": "circle"
         },
         "mode": "markers+text",
         "name": "",
         "orientation": "v",
         "showlegend": false,
         "text": [
          "Biden",
          "Sanders",
          "Warren",
          "Buttigieg"
         ],
         "textposition": "bottom center",
         "type": "scatter",
         "x": [
          -0.2664307704472482,
          -0.09152029127982067,
          -0.28734772061396574,
          -0.250756136849046
         ],
         "xaxis": "x",
         "y": [
          -0.93,
          -0.8787878787878788,
          -0.97,
          -0.95
         ],
         "yaxis": "y"
        },
        {
         "line": {
          "color": "rgba(0,0,160,0.3)",
          "dash": "dash",
          "width": 2
         },
         "mode": "lines",
         "name": "Linear Regression",
         "type": "scatter",
         "x": [
          -0.3160824926753623,
          -0.08152029127982068
         ],
         "y": [
          -0.969871179650007,
          -0.8738891620123073
         ]
        }
       ],
       "layout": {
        "annotations": [
         {
          "showarrow": false,
          "text": "<b>Survey Trends Toward Regulation<br>Subreddit Trends Toward Regulation</b>",
          "x": -0.2749917686275652,
          "xref": "x",
          "y": -0.98208,
          "yref": "y"
         },
         {
          "showarrow": false,
          "text": "<b>Subreddit Trends Less Regulation</b>",
          "x": -0.08152029127982068,
          "xref": "x",
          "y": -0.98505,
          "yref": "y"
         },
         {
          "showarrow": false,
          "text": "<b>Survey Trends Toward Less Regulation</b>",
          "x": -0.27183094370081157,
          "xref": "x",
          "y": -0.8687878787878788,
          "yref": "y"
         },
         {
          "text": "r<sup>2</sup>=0.88",
          "x": -0.2,
          "xref": "x",
          "y": -0.922370636966208,
          "yref": "y"
         }
        ],
        "legend": {
         "tracegroupgap": 0
        },
        "template": {
         "data": {
          "bar": [
           {
            "error_x": {
             "color": "rgb(36,36,36)"
            },
            "error_y": {
             "color": "rgb(36,36,36)"
            },
            "marker": {
             "line": {
              "color": "white",
              "width": 0.5
             }
            },
            "type": "bar"
           }
          ],
          "barpolar": [
           {
            "marker": {
             "line": {
              "color": "white",
              "width": 0.5
             }
            },
            "type": "barpolar"
           }
          ],
          "carpet": [
           {
            "aaxis": {
             "endlinecolor": "rgb(36,36,36)",
             "gridcolor": "white",
             "linecolor": "white",
             "minorgridcolor": "white",
             "startlinecolor": "rgb(36,36,36)"
            },
            "baxis": {
             "endlinecolor": "rgb(36,36,36)",
             "gridcolor": "white",
             "linecolor": "white",
             "minorgridcolor": "white",
             "startlinecolor": "rgb(36,36,36)"
            },
            "type": "carpet"
           }
          ],
          "choropleth": [
           {
            "colorbar": {
             "outlinewidth": 1,
             "tickcolor": "rgb(36,36,36)",
             "ticks": "outside"
            },
            "type": "choropleth"
           }
          ],
          "contour": [
           {
            "colorbar": {
             "outlinewidth": 1,
             "tickcolor": "rgb(36,36,36)",
             "ticks": "outside"
            },
            "colorscale": [
             [
              0,
              "#440154"
             ],
             [
              0.1111111111111111,
              "#482878"
             ],
             [
              0.2222222222222222,
              "#3e4989"
             ],
             [
              0.3333333333333333,
              "#31688e"
             ],
             [
              0.4444444444444444,
              "#26828e"
             ],
             [
              0.5555555555555556,
              "#1f9e89"
             ],
             [
              0.6666666666666666,
              "#35b779"
             ],
             [
              0.7777777777777778,
              "#6ece58"
             ],
             [
              0.8888888888888888,
              "#b5de2b"
             ],
             [
              1,
              "#fde725"
             ]
            ],
            "type": "contour"
           }
          ],
          "contourcarpet": [
           {
            "colorbar": {
             "outlinewidth": 1,
             "tickcolor": "rgb(36,36,36)",
             "ticks": "outside"
            },
            "type": "contourcarpet"
           }
          ],
          "heatmap": [
           {
            "colorbar": {
             "outlinewidth": 1,
             "tickcolor": "rgb(36,36,36)",
             "ticks": "outside"
            },
            "colorscale": [
             [
              0,
              "#440154"
             ],
             [
              0.1111111111111111,
              "#482878"
             ],
             [
              0.2222222222222222,
              "#3e4989"
             ],
             [
              0.3333333333333333,
              "#31688e"
             ],
             [
              0.4444444444444444,
              "#26828e"
             ],
             [
              0.5555555555555556,
              "#1f9e89"
             ],
             [
              0.6666666666666666,
              "#35b779"
             ],
             [
              0.7777777777777778,
              "#6ece58"
             ],
             [
              0.8888888888888888,
              "#b5de2b"
             ],
             [
              1,
              "#fde725"
             ]
            ],
            "type": "heatmap"
           }
          ],
          "heatmapgl": [
           {
            "colorbar": {
             "outlinewidth": 1,
             "tickcolor": "rgb(36,36,36)",
             "ticks": "outside"
            },
            "colorscale": [
             [
              0,
              "#440154"
             ],
             [
              0.1111111111111111,
              "#482878"
             ],
             [
              0.2222222222222222,
              "#3e4989"
             ],
             [
              0.3333333333333333,
              "#31688e"
             ],
             [
              0.4444444444444444,
              "#26828e"
             ],
             [
              0.5555555555555556,
              "#1f9e89"
             ],
             [
              0.6666666666666666,
              "#35b779"
             ],
             [
              0.7777777777777778,
              "#6ece58"
             ],
             [
              0.8888888888888888,
              "#b5de2b"
             ],
             [
              1,
              "#fde725"
             ]
            ],
            "type": "heatmapgl"
           }
          ],
          "histogram": [
           {
            "marker": {
             "line": {
              "color": "white",
              "width": 0.6
             }
            },
            "type": "histogram"
           }
          ],
          "histogram2d": [
           {
            "colorbar": {
             "outlinewidth": 1,
             "tickcolor": "rgb(36,36,36)",
             "ticks": "outside"
            },
            "colorscale": [
             [
              0,
              "#440154"
             ],
             [
              0.1111111111111111,
              "#482878"
             ],
             [
              0.2222222222222222,
              "#3e4989"
             ],
             [
              0.3333333333333333,
              "#31688e"
             ],
             [
              0.4444444444444444,
              "#26828e"
             ],
             [
              0.5555555555555556,
              "#1f9e89"
             ],
             [
              0.6666666666666666,
              "#35b779"
             ],
             [
              0.7777777777777778,
              "#6ece58"
             ],
             [
              0.8888888888888888,
              "#b5de2b"
             ],
             [
              1,
              "#fde725"
             ]
            ],
            "type": "histogram2d"
           }
          ],
          "histogram2dcontour": [
           {
            "colorbar": {
             "outlinewidth": 1,
             "tickcolor": "rgb(36,36,36)",
             "ticks": "outside"
            },
            "colorscale": [
             [
              0,
              "#440154"
             ],
             [
              0.1111111111111111,
              "#482878"
             ],
             [
              0.2222222222222222,
              "#3e4989"
             ],
             [
              0.3333333333333333,
              "#31688e"
             ],
             [
              0.4444444444444444,
              "#26828e"
             ],
             [
              0.5555555555555556,
              "#1f9e89"
             ],
             [
              0.6666666666666666,
              "#35b779"
             ],
             [
              0.7777777777777778,
              "#6ece58"
             ],
             [
              0.8888888888888888,
              "#b5de2b"
             ],
             [
              1,
              "#fde725"
             ]
            ],
            "type": "histogram2dcontour"
           }
          ],
          "mesh3d": [
           {
            "colorbar": {
             "outlinewidth": 1,
             "tickcolor": "rgb(36,36,36)",
             "ticks": "outside"
            },
            "type": "mesh3d"
           }
          ],
          "parcoords": [
           {
            "line": {
             "colorbar": {
              "outlinewidth": 1,
              "tickcolor": "rgb(36,36,36)",
              "ticks": "outside"
             }
            },
            "type": "parcoords"
           }
          ],
          "pie": [
           {
            "automargin": true,
            "type": "pie"
           }
          ],
          "scatter": [
           {
            "marker": {
             "colorbar": {
              "outlinewidth": 1,
              "tickcolor": "rgb(36,36,36)",
              "ticks": "outside"
             }
            },
            "type": "scatter"
           }
          ],
          "scatter3d": [
           {
            "line": {
             "colorbar": {
              "outlinewidth": 1,
              "tickcolor": "rgb(36,36,36)",
              "ticks": "outside"
             }
            },
            "marker": {
             "colorbar": {
              "outlinewidth": 1,
              "tickcolor": "rgb(36,36,36)",
              "ticks": "outside"
             }
            },
            "type": "scatter3d"
           }
          ],
          "scattercarpet": [
           {
            "marker": {
             "colorbar": {
              "outlinewidth": 1,
              "tickcolor": "rgb(36,36,36)",
              "ticks": "outside"
             }
            },
            "type": "scattercarpet"
           }
          ],
          "scattergeo": [
           {
            "marker": {
             "colorbar": {
              "outlinewidth": 1,
              "tickcolor": "rgb(36,36,36)",
              "ticks": "outside"
             }
            },
            "type": "scattergeo"
           }
          ],
          "scattergl": [
           {
            "marker": {
             "colorbar": {
              "outlinewidth": 1,
              "tickcolor": "rgb(36,36,36)",
              "ticks": "outside"
             }
            },
            "type": "scattergl"
           }
          ],
          "scattermapbox": [
           {
            "marker": {
             "colorbar": {
              "outlinewidth": 1,
              "tickcolor": "rgb(36,36,36)",
              "ticks": "outside"
             }
            },
            "type": "scattermapbox"
           }
          ],
          "scatterpolar": [
           {
            "marker": {
             "colorbar": {
              "outlinewidth": 1,
              "tickcolor": "rgb(36,36,36)",
              "ticks": "outside"
             }
            },
            "type": "scatterpolar"
           }
          ],
          "scatterpolargl": [
           {
            "marker": {
             "colorbar": {
              "outlinewidth": 1,
              "tickcolor": "rgb(36,36,36)",
              "ticks": "outside"
             }
            },
            "type": "scatterpolargl"
           }
          ],
          "scatterternary": [
           {
            "marker": {
             "colorbar": {
              "outlinewidth": 1,
              "tickcolor": "rgb(36,36,36)",
              "ticks": "outside"
             }
            },
            "type": "scatterternary"
           }
          ],
          "surface": [
           {
            "colorbar": {
             "outlinewidth": 1,
             "tickcolor": "rgb(36,36,36)",
             "ticks": "outside"
            },
            "colorscale": [
             [
              0,
              "#440154"
             ],
             [
              0.1111111111111111,
              "#482878"
             ],
             [
              0.2222222222222222,
              "#3e4989"
             ],
             [
              0.3333333333333333,
              "#31688e"
             ],
             [
              0.4444444444444444,
              "#26828e"
             ],
             [
              0.5555555555555556,
              "#1f9e89"
             ],
             [
              0.6666666666666666,
              "#35b779"
             ],
             [
              0.7777777777777778,
              "#6ece58"
             ],
             [
              0.8888888888888888,
              "#b5de2b"
             ],
             [
              1,
              "#fde725"
             ]
            ],
            "type": "surface"
           }
          ],
          "table": [
           {
            "cells": {
             "fill": {
              "color": "rgb(237,237,237)"
             },
             "line": {
              "color": "white"
             }
            },
            "header": {
             "fill": {
              "color": "rgb(217,217,217)"
             },
             "line": {
              "color": "white"
             }
            },
            "type": "table"
           }
          ]
         },
         "layout": {
          "annotationdefaults": {
           "arrowhead": 0,
           "arrowwidth": 1
          },
          "coloraxis": {
           "colorbar": {
            "outlinewidth": 1,
            "tickcolor": "rgb(36,36,36)",
            "ticks": "outside"
           }
          },
          "colorscale": {
           "diverging": [
            [
             0,
             "rgb(103,0,31)"
            ],
            [
             0.1,
             "rgb(178,24,43)"
            ],
            [
             0.2,
             "rgb(214,96,77)"
            ],
            [
             0.3,
             "rgb(244,165,130)"
            ],
            [
             0.4,
             "rgb(253,219,199)"
            ],
            [
             0.5,
             "rgb(247,247,247)"
            ],
            [
             0.6,
             "rgb(209,229,240)"
            ],
            [
             0.7,
             "rgb(146,197,222)"
            ],
            [
             0.8,
             "rgb(67,147,195)"
            ],
            [
             0.9,
             "rgb(33,102,172)"
            ],
            [
             1,
             "rgb(5,48,97)"
            ]
           ],
           "sequential": [
            [
             0,
             "#440154"
            ],
            [
             0.1111111111111111,
             "#482878"
            ],
            [
             0.2222222222222222,
             "#3e4989"
            ],
            [
             0.3333333333333333,
             "#31688e"
            ],
            [
             0.4444444444444444,
             "#26828e"
            ],
            [
             0.5555555555555556,
             "#1f9e89"
            ],
            [
             0.6666666666666666,
             "#35b779"
            ],
            [
             0.7777777777777778,
             "#6ece58"
            ],
            [
             0.8888888888888888,
             "#b5de2b"
            ],
            [
             1,
             "#fde725"
            ]
           ],
           "sequentialminus": [
            [
             0,
             "#440154"
            ],
            [
             0.1111111111111111,
             "#482878"
            ],
            [
             0.2222222222222222,
             "#3e4989"
            ],
            [
             0.3333333333333333,
             "#31688e"
            ],
            [
             0.4444444444444444,
             "#26828e"
            ],
            [
             0.5555555555555556,
             "#1f9e89"
            ],
            [
             0.6666666666666666,
             "#35b779"
            ],
            [
             0.7777777777777778,
             "#6ece58"
            ],
            [
             0.8888888888888888,
             "#b5de2b"
            ],
            [
             1,
             "#fde725"
            ]
           ]
          },
          "colorway": [
           "#1F77B4",
           "#FF7F0E",
           "#2CA02C",
           "#D62728",
           "#9467BD",
           "#8C564B",
           "#E377C2",
           "#7F7F7F",
           "#BCBD22",
           "#17BECF"
          ],
          "font": {
           "color": "rgb(36,36,36)"
          },
          "geo": {
           "bgcolor": "white",
           "lakecolor": "white",
           "landcolor": "white",
           "showlakes": true,
           "showland": true,
           "subunitcolor": "white"
          },
          "hoverlabel": {
           "align": "left"
          },
          "hovermode": "closest",
          "mapbox": {
           "style": "light"
          },
          "paper_bgcolor": "white",
          "plot_bgcolor": "white",
          "polar": {
           "angularaxis": {
            "gridcolor": "rgb(232,232,232)",
            "linecolor": "rgb(36,36,36)",
            "showgrid": false,
            "showline": true,
            "ticks": "outside"
           },
           "bgcolor": "white",
           "radialaxis": {
            "gridcolor": "rgb(232,232,232)",
            "linecolor": "rgb(36,36,36)",
            "showgrid": false,
            "showline": true,
            "ticks": "outside"
           }
          },
          "scene": {
           "xaxis": {
            "backgroundcolor": "white",
            "gridcolor": "rgb(232,232,232)",
            "gridwidth": 2,
            "linecolor": "rgb(36,36,36)",
            "showbackground": true,
            "showgrid": false,
            "showline": true,
            "ticks": "outside",
            "zeroline": false,
            "zerolinecolor": "rgb(36,36,36)"
           },
           "yaxis": {
            "backgroundcolor": "white",
            "gridcolor": "rgb(232,232,232)",
            "gridwidth": 2,
            "linecolor": "rgb(36,36,36)",
            "showbackground": true,
            "showgrid": false,
            "showline": true,
            "ticks": "outside",
            "zeroline": false,
            "zerolinecolor": "rgb(36,36,36)"
           },
           "zaxis": {
            "backgroundcolor": "white",
            "gridcolor": "rgb(232,232,232)",
            "gridwidth": 2,
            "linecolor": "rgb(36,36,36)",
            "showbackground": true,
            "showgrid": false,
            "showline": true,
            "ticks": "outside",
            "zeroline": false,
            "zerolinecolor": "rgb(36,36,36)"
           }
          },
          "shapedefaults": {
           "fillcolor": "black",
           "line": {
            "width": 0
           },
           "opacity": 0.3
          },
          "ternary": {
           "aaxis": {
            "gridcolor": "rgb(232,232,232)",
            "linecolor": "rgb(36,36,36)",
            "showgrid": false,
            "showline": true,
            "ticks": "outside"
           },
           "baxis": {
            "gridcolor": "rgb(232,232,232)",
            "linecolor": "rgb(36,36,36)",
            "showgrid": false,
            "showline": true,
            "ticks": "outside"
           },
           "bgcolor": "white",
           "caxis": {
            "gridcolor": "rgb(232,232,232)",
            "linecolor": "rgb(36,36,36)",
            "showgrid": false,
            "showline": true,
            "ticks": "outside"
           }
          },
          "title": {
           "x": 0.05
          },
          "xaxis": {
           "automargin": true,
           "gridcolor": "rgb(232,232,232)",
           "linecolor": "rgb(36,36,36)",
           "showgrid": false,
           "showline": true,
           "ticks": "outside",
           "title": {
            "standoff": 15
           },
           "zeroline": false,
           "zerolinecolor": "rgb(36,36,36)"
          },
          "yaxis": {
           "automargin": true,
           "gridcolor": "rgb(232,232,232)",
           "linecolor": "rgb(36,36,36)",
           "showgrid": false,
           "showline": true,
           "ticks": "outside",
           "title": {
            "standoff": 15
           },
           "zeroline": false,
           "zerolinecolor": "rgb(36,36,36)"
          }
         }
        },
        "title": {
         "text": "Subreddit Gun Control Dimension Versus Support for Gun Control"
        },
        "xaxis": {
         "anchor": "y",
         "domain": [
          0,
          1
         ],
         "range": [
          -0.3160824926753623,
          -0.08152029127982068
         ],
         "title": {
          "text": "Subreddit Gun Control"
         }
        },
        "yaxis": {
         "anchor": "x",
         "domain": [
          0,
          1
         ],
         "range": [
          -0.99,
          -0.8687878787878788
         ],
         "title": {
          "text": "Surveyed Gun Control"
         }
        }
       }
      },
      "text/html": [
       "<div>\n",
       "        \n",
       "        \n",
       "            <div id=\"0ab25290-1c32-47bd-b538-d6141e8029f9\" class=\"plotly-graph-div\" style=\"height:525px; width:100%;\"></div>\n",
       "            <script type=\"text/javascript\">\n",
       "                require([\"plotly\"], function(Plotly) {\n",
       "                    window.PLOTLYENV=window.PLOTLYENV || {};\n",
       "                    \n",
       "                if (document.getElementById(\"0ab25290-1c32-47bd-b538-d6141e8029f9\")) {\n",
       "                    Plotly.newPlot(\n",
       "                        '0ab25290-1c32-47bd-b538-d6141e8029f9',\n",
       "                        [{\"hovertemplate\": \"Subreddit Gun Control=%{x}<br>Surveyed Gun Control=%{y}<br>candidate=%{text}<extra></extra>\", \"legendgroup\": \"\", \"marker\": {\"color\": \"#1F77B4\", \"symbol\": \"circle\"}, \"mode\": \"markers+text\", \"name\": \"\", \"orientation\": \"v\", \"showlegend\": false, \"text\": [\"Biden\", \"Sanders\", \"Warren\", \"Buttigieg\"], \"textposition\": \"bottom center\", \"type\": \"scatter\", \"x\": [-0.2664307704472482, -0.09152029127982067, -0.28734772061396574, -0.250756136849046], \"xaxis\": \"x\", \"y\": [-0.93, -0.8787878787878788, -0.97, -0.95], \"yaxis\": \"y\"}, {\"line\": {\"color\": \"rgba(0,0,160,0.3)\", \"dash\": \"dash\", \"width\": 2}, \"mode\": \"lines\", \"name\": \"Linear Regression\", \"type\": \"scatter\", \"x\": [-0.3160824926753623, -0.08152029127982068], \"y\": [-0.969871179650007, -0.8738891620123073]}],\n",
       "                        {\"annotations\": [{\"showarrow\": false, \"text\": \"<b>Survey Trends Toward Regulation<br>Subreddit Trends Toward Regulation</b>\", \"x\": -0.2749917686275652, \"xref\": \"x\", \"y\": -0.98208, \"yref\": \"y\"}, {\"showarrow\": false, \"text\": \"<b>Subreddit Trends Less Regulation</b>\", \"x\": -0.08152029127982068, \"xref\": \"x\", \"y\": -0.98505, \"yref\": \"y\"}, {\"showarrow\": false, \"text\": \"<b>Survey Trends Toward Less Regulation</b>\", \"x\": -0.27183094370081157, \"xref\": \"x\", \"y\": -0.8687878787878788, \"yref\": \"y\"}, {\"text\": \"r<sup>2</sup>=0.88\", \"x\": -0.2, \"xref\": \"x\", \"y\": -0.922370636966208, \"yref\": \"y\"}], \"legend\": {\"tracegroupgap\": 0}, \"template\": {\"data\": {\"bar\": [{\"error_x\": {\"color\": \"rgb(36,36,36)\"}, \"error_y\": {\"color\": \"rgb(36,36,36)\"}, \"marker\": {\"line\": {\"color\": \"white\", \"width\": 0.5}}, \"type\": \"bar\"}], \"barpolar\": [{\"marker\": {\"line\": {\"color\": \"white\", \"width\": 0.5}}, \"type\": \"barpolar\"}], \"carpet\": [{\"aaxis\": {\"endlinecolor\": \"rgb(36,36,36)\", \"gridcolor\": \"white\", \"linecolor\": \"white\", \"minorgridcolor\": \"white\", \"startlinecolor\": \"rgb(36,36,36)\"}, \"baxis\": {\"endlinecolor\": \"rgb(36,36,36)\", \"gridcolor\": \"white\", \"linecolor\": \"white\", \"minorgridcolor\": \"white\", \"startlinecolor\": \"rgb(36,36,36)\"}, \"type\": \"carpet\"}], \"choropleth\": [{\"colorbar\": {\"outlinewidth\": 1, \"tickcolor\": \"rgb(36,36,36)\", \"ticks\": \"outside\"}, \"type\": \"choropleth\"}], \"contour\": [{\"colorbar\": {\"outlinewidth\": 1, \"tickcolor\": \"rgb(36,36,36)\", \"ticks\": \"outside\"}, \"colorscale\": [[0.0, \"#440154\"], [0.1111111111111111, \"#482878\"], [0.2222222222222222, \"#3e4989\"], [0.3333333333333333, \"#31688e\"], [0.4444444444444444, \"#26828e\"], [0.5555555555555556, \"#1f9e89\"], [0.6666666666666666, \"#35b779\"], [0.7777777777777778, \"#6ece58\"], [0.8888888888888888, \"#b5de2b\"], [1.0, \"#fde725\"]], \"type\": \"contour\"}], \"contourcarpet\": [{\"colorbar\": {\"outlinewidth\": 1, \"tickcolor\": \"rgb(36,36,36)\", \"ticks\": \"outside\"}, \"type\": \"contourcarpet\"}], \"heatmap\": [{\"colorbar\": {\"outlinewidth\": 1, \"tickcolor\": \"rgb(36,36,36)\", \"ticks\": \"outside\"}, \"colorscale\": [[0.0, \"#440154\"], [0.1111111111111111, \"#482878\"], [0.2222222222222222, \"#3e4989\"], [0.3333333333333333, \"#31688e\"], [0.4444444444444444, \"#26828e\"], [0.5555555555555556, \"#1f9e89\"], [0.6666666666666666, \"#35b779\"], [0.7777777777777778, \"#6ece58\"], [0.8888888888888888, \"#b5de2b\"], [1.0, \"#fde725\"]], \"type\": \"heatmap\"}], \"heatmapgl\": [{\"colorbar\": {\"outlinewidth\": 1, \"tickcolor\": \"rgb(36,36,36)\", \"ticks\": \"outside\"}, \"colorscale\": [[0.0, \"#440154\"], [0.1111111111111111, \"#482878\"], [0.2222222222222222, \"#3e4989\"], [0.3333333333333333, \"#31688e\"], [0.4444444444444444, \"#26828e\"], [0.5555555555555556, \"#1f9e89\"], [0.6666666666666666, \"#35b779\"], [0.7777777777777778, \"#6ece58\"], [0.8888888888888888, \"#b5de2b\"], [1.0, \"#fde725\"]], \"type\": \"heatmapgl\"}], \"histogram\": [{\"marker\": {\"line\": {\"color\": \"white\", \"width\": 0.6}}, \"type\": \"histogram\"}], \"histogram2d\": [{\"colorbar\": {\"outlinewidth\": 1, \"tickcolor\": \"rgb(36,36,36)\", \"ticks\": \"outside\"}, \"colorscale\": [[0.0, \"#440154\"], [0.1111111111111111, \"#482878\"], [0.2222222222222222, \"#3e4989\"], [0.3333333333333333, \"#31688e\"], [0.4444444444444444, \"#26828e\"], [0.5555555555555556, \"#1f9e89\"], [0.6666666666666666, \"#35b779\"], [0.7777777777777778, \"#6ece58\"], [0.8888888888888888, \"#b5de2b\"], [1.0, \"#fde725\"]], \"type\": \"histogram2d\"}], \"histogram2dcontour\": [{\"colorbar\": {\"outlinewidth\": 1, \"tickcolor\": \"rgb(36,36,36)\", \"ticks\": \"outside\"}, \"colorscale\": [[0.0, \"#440154\"], [0.1111111111111111, \"#482878\"], [0.2222222222222222, \"#3e4989\"], [0.3333333333333333, \"#31688e\"], [0.4444444444444444, \"#26828e\"], [0.5555555555555556, \"#1f9e89\"], [0.6666666666666666, \"#35b779\"], [0.7777777777777778, \"#6ece58\"], [0.8888888888888888, \"#b5de2b\"], [1.0, \"#fde725\"]], \"type\": \"histogram2dcontour\"}], \"mesh3d\": [{\"colorbar\": {\"outlinewidth\": 1, \"tickcolor\": \"rgb(36,36,36)\", \"ticks\": \"outside\"}, \"type\": \"mesh3d\"}], \"parcoords\": [{\"line\": {\"colorbar\": {\"outlinewidth\": 1, \"tickcolor\": \"rgb(36,36,36)\", \"ticks\": \"outside\"}}, \"type\": \"parcoords\"}], \"pie\": [{\"automargin\": true, \"type\": \"pie\"}], \"scatter\": [{\"marker\": {\"colorbar\": {\"outlinewidth\": 1, \"tickcolor\": \"rgb(36,36,36)\", \"ticks\": \"outside\"}}, \"type\": \"scatter\"}], \"scatter3d\": [{\"line\": {\"colorbar\": {\"outlinewidth\": 1, \"tickcolor\": \"rgb(36,36,36)\", \"ticks\": \"outside\"}}, \"marker\": {\"colorbar\": {\"outlinewidth\": 1, \"tickcolor\": \"rgb(36,36,36)\", \"ticks\": \"outside\"}}, \"type\": \"scatter3d\"}], \"scattercarpet\": [{\"marker\": {\"colorbar\": {\"outlinewidth\": 1, \"tickcolor\": \"rgb(36,36,36)\", \"ticks\": \"outside\"}}, \"type\": \"scattercarpet\"}], \"scattergeo\": [{\"marker\": {\"colorbar\": {\"outlinewidth\": 1, \"tickcolor\": \"rgb(36,36,36)\", \"ticks\": \"outside\"}}, \"type\": \"scattergeo\"}], \"scattergl\": [{\"marker\": {\"colorbar\": {\"outlinewidth\": 1, \"tickcolor\": \"rgb(36,36,36)\", \"ticks\": \"outside\"}}, \"type\": \"scattergl\"}], \"scattermapbox\": [{\"marker\": {\"colorbar\": {\"outlinewidth\": 1, \"tickcolor\": \"rgb(36,36,36)\", \"ticks\": \"outside\"}}, \"type\": \"scattermapbox\"}], \"scatterpolar\": [{\"marker\": {\"colorbar\": {\"outlinewidth\": 1, \"tickcolor\": \"rgb(36,36,36)\", \"ticks\": \"outside\"}}, \"type\": \"scatterpolar\"}], \"scatterpolargl\": [{\"marker\": {\"colorbar\": {\"outlinewidth\": 1, \"tickcolor\": \"rgb(36,36,36)\", \"ticks\": \"outside\"}}, \"type\": \"scatterpolargl\"}], \"scatterternary\": [{\"marker\": {\"colorbar\": {\"outlinewidth\": 1, \"tickcolor\": \"rgb(36,36,36)\", \"ticks\": \"outside\"}}, \"type\": \"scatterternary\"}], \"surface\": [{\"colorbar\": {\"outlinewidth\": 1, \"tickcolor\": \"rgb(36,36,36)\", \"ticks\": \"outside\"}, \"colorscale\": [[0.0, \"#440154\"], [0.1111111111111111, \"#482878\"], [0.2222222222222222, \"#3e4989\"], [0.3333333333333333, \"#31688e\"], [0.4444444444444444, \"#26828e\"], [0.5555555555555556, \"#1f9e89\"], [0.6666666666666666, \"#35b779\"], [0.7777777777777778, \"#6ece58\"], [0.8888888888888888, \"#b5de2b\"], [1.0, \"#fde725\"]], \"type\": \"surface\"}], \"table\": [{\"cells\": {\"fill\": {\"color\": \"rgb(237,237,237)\"}, \"line\": {\"color\": \"white\"}}, \"header\": {\"fill\": {\"color\": \"rgb(217,217,217)\"}, \"line\": {\"color\": \"white\"}}, \"type\": \"table\"}]}, \"layout\": {\"annotationdefaults\": {\"arrowhead\": 0, \"arrowwidth\": 1}, \"coloraxis\": {\"colorbar\": {\"outlinewidth\": 1, \"tickcolor\": \"rgb(36,36,36)\", \"ticks\": \"outside\"}}, \"colorscale\": {\"diverging\": [[0.0, \"rgb(103,0,31)\"], [0.1, \"rgb(178,24,43)\"], [0.2, \"rgb(214,96,77)\"], [0.3, \"rgb(244,165,130)\"], [0.4, \"rgb(253,219,199)\"], [0.5, \"rgb(247,247,247)\"], [0.6, \"rgb(209,229,240)\"], [0.7, \"rgb(146,197,222)\"], [0.8, \"rgb(67,147,195)\"], [0.9, \"rgb(33,102,172)\"], [1.0, \"rgb(5,48,97)\"]], \"sequential\": [[0.0, \"#440154\"], [0.1111111111111111, \"#482878\"], [0.2222222222222222, \"#3e4989\"], [0.3333333333333333, \"#31688e\"], [0.4444444444444444, \"#26828e\"], [0.5555555555555556, \"#1f9e89\"], [0.6666666666666666, \"#35b779\"], [0.7777777777777778, \"#6ece58\"], [0.8888888888888888, \"#b5de2b\"], [1.0, \"#fde725\"]], \"sequentialminus\": [[0.0, \"#440154\"], [0.1111111111111111, \"#482878\"], [0.2222222222222222, \"#3e4989\"], [0.3333333333333333, \"#31688e\"], [0.4444444444444444, \"#26828e\"], [0.5555555555555556, \"#1f9e89\"], [0.6666666666666666, \"#35b779\"], [0.7777777777777778, \"#6ece58\"], [0.8888888888888888, \"#b5de2b\"], [1.0, \"#fde725\"]]}, \"colorway\": [\"#1F77B4\", \"#FF7F0E\", \"#2CA02C\", \"#D62728\", \"#9467BD\", \"#8C564B\", \"#E377C2\", \"#7F7F7F\", \"#BCBD22\", \"#17BECF\"], \"font\": {\"color\": \"rgb(36,36,36)\"}, \"geo\": {\"bgcolor\": \"white\", \"lakecolor\": \"white\", \"landcolor\": \"white\", \"showlakes\": true, \"showland\": true, \"subunitcolor\": \"white\"}, \"hoverlabel\": {\"align\": \"left\"}, \"hovermode\": \"closest\", \"mapbox\": {\"style\": \"light\"}, \"paper_bgcolor\": \"white\", \"plot_bgcolor\": \"white\", \"polar\": {\"angularaxis\": {\"gridcolor\": \"rgb(232,232,232)\", \"linecolor\": \"rgb(36,36,36)\", \"showgrid\": false, \"showline\": true, \"ticks\": \"outside\"}, \"bgcolor\": \"white\", \"radialaxis\": {\"gridcolor\": \"rgb(232,232,232)\", \"linecolor\": \"rgb(36,36,36)\", \"showgrid\": false, \"showline\": true, \"ticks\": \"outside\"}}, \"scene\": {\"xaxis\": {\"backgroundcolor\": \"white\", \"gridcolor\": \"rgb(232,232,232)\", \"gridwidth\": 2, \"linecolor\": \"rgb(36,36,36)\", \"showbackground\": true, \"showgrid\": false, \"showline\": true, \"ticks\": \"outside\", \"zeroline\": false, \"zerolinecolor\": \"rgb(36,36,36)\"}, \"yaxis\": {\"backgroundcolor\": \"white\", \"gridcolor\": \"rgb(232,232,232)\", \"gridwidth\": 2, \"linecolor\": \"rgb(36,36,36)\", \"showbackground\": true, \"showgrid\": false, \"showline\": true, \"ticks\": \"outside\", \"zeroline\": false, \"zerolinecolor\": \"rgb(36,36,36)\"}, \"zaxis\": {\"backgroundcolor\": \"white\", \"gridcolor\": \"rgb(232,232,232)\", \"gridwidth\": 2, \"linecolor\": \"rgb(36,36,36)\", \"showbackground\": true, \"showgrid\": false, \"showline\": true, \"ticks\": \"outside\", \"zeroline\": false, \"zerolinecolor\": \"rgb(36,36,36)\"}}, \"shapedefaults\": {\"fillcolor\": \"black\", \"line\": {\"width\": 0}, \"opacity\": 0.3}, \"ternary\": {\"aaxis\": {\"gridcolor\": \"rgb(232,232,232)\", \"linecolor\": \"rgb(36,36,36)\", \"showgrid\": false, \"showline\": true, \"ticks\": \"outside\"}, \"baxis\": {\"gridcolor\": \"rgb(232,232,232)\", \"linecolor\": \"rgb(36,36,36)\", \"showgrid\": false, \"showline\": true, \"ticks\": \"outside\"}, \"bgcolor\": \"white\", \"caxis\": {\"gridcolor\": \"rgb(232,232,232)\", \"linecolor\": \"rgb(36,36,36)\", \"showgrid\": false, \"showline\": true, \"ticks\": \"outside\"}}, \"title\": {\"x\": 0.05}, \"xaxis\": {\"automargin\": true, \"gridcolor\": \"rgb(232,232,232)\", \"linecolor\": \"rgb(36,36,36)\", \"showgrid\": false, \"showline\": true, \"ticks\": \"outside\", \"title\": {\"standoff\": 15}, \"zeroline\": false, \"zerolinecolor\": \"rgb(36,36,36)\"}, \"yaxis\": {\"automargin\": true, \"gridcolor\": \"rgb(232,232,232)\", \"linecolor\": \"rgb(36,36,36)\", \"showgrid\": false, \"showline\": true, \"ticks\": \"outside\", \"title\": {\"standoff\": 15}, \"zeroline\": false, \"zerolinecolor\": \"rgb(36,36,36)\"}}}, \"title\": {\"text\": \"Subreddit Gun Control Dimension Versus Support for Gun Control\"}, \"xaxis\": {\"anchor\": \"y\", \"domain\": [0.0, 1.0], \"range\": [-0.3160824926753623, -0.08152029127982068], \"title\": {\"text\": \"Subreddit Gun Control\"}}, \"yaxis\": {\"anchor\": \"x\", \"domain\": [0.0, 1.0], \"range\": [-0.99, -0.8687878787878788], \"title\": {\"text\": \"Surveyed Gun Control\"}}},\n",
       "                        {\"responsive\": true}\n",
       "                    ).then(function(){\n",
       "                            \n",
       "var gd = document.getElementById('0ab25290-1c32-47bd-b538-d6141e8029f9');\n",
       "var x = new MutationObserver(function (mutations, observer) {{\n",
       "        var display = window.getComputedStyle(gd).display;\n",
       "        if (!display || display === 'none') {{\n",
       "            console.log([gd, 'removed!']);\n",
       "            Plotly.purge(gd);\n",
       "            observer.disconnect();\n",
       "        }}\n",
       "}});\n",
       "\n",
       "// Listen for the removal of the full notebook cells\n",
       "var notebookContainer = gd.closest('#notebook-container');\n",
       "if (notebookContainer) {{\n",
       "    x.observe(notebookContainer, {childList: true});\n",
       "}}\n",
       "\n",
       "// Listen for the clearing of the current output cell\n",
       "var outputEl = gd.closest('.output');\n",
       "if (outputEl) {{\n",
       "    x.observe(outputEl, {childList: true});\n",
       "}}\n",
       "\n",
       "                        })\n",
       "                };\n",
       "                });\n",
       "            </script>\n",
       "        </div>"
      ]
     },
     "metadata": {},
     "output_type": "display_data"
    }
   ],
   "source": [
    "xmin, xmax = gc_df[\"reddit_projection\"].min()*1.1,gc_df[\"reddit_projection\"].max()+0.01\n",
    "ymin, ymax = gc_df[\"gc_survey\"].min()-0.02,gc_df[\"gc_survey\"].max()+0.01\n",
    "\n",
    "args = {\n",
    "    \"x\": \"reddit_projection\",\n",
    "    \"y\": \"gc_survey\",\n",
    "    \"text\": gc_df.index,\n",
    "    \"title\":  \"Subreddit Gun Control Dimension Versus Support for Gun Control\",\n",
    "    \"template\": \"simple_white\",\n",
    "    \"labels\": {\"reddit_projection\": \"Subreddit Gun Control\", \"gc_survey\": \"Surveyed Gun Control\"},\n",
    "    \"range_x\": [xmin,xmax],\n",
    "    \"range_y\": [ymin,ymax],\n",
    "}\n",
    "\n",
    "annotations = [dict(x=xmin*0.87,y=ymin*0.992,xref=\"x\",yref=\"y\", text=\"<b>Survey Trends Toward Regulation<br>Subreddit Trends Toward Regulation</b>\",showarrow=False),\n",
    "               dict(x=xmax,y=ymin*0.995,xref=\"x\",yref=\"y\", text=\"<b>Subreddit Trends Less Regulation</b>\",showarrow=False),\n",
    "               dict(x=xmin*0.86,y=ymax,xref=\"x\",yref=\"y\", text=\"<b>Survey Trends Toward Less Regulation</b>\",showarrow=False),\n",
    "               dict(x=-0.2,y=predict(-0.2),xref=\"x\",yref=\"y\", text=\"r<sup>2</sup>={:.2f}\".format(r2)),\n",
    "              ]\n",
    "x = np.linspace(xmin,xmax,num=2)\n",
    "    \n",
    "fig = px.scatter(gc_df,**args)\n",
    "\n",
    "fig.update_traces(textposition='bottom center')\n",
    "fig.add_scatter(x=x,\n",
    "                y=predict(x),\n",
    "                mode='lines',\n",
    "                line=dict(dash=\"dash\",width=2,color=\"rgba(0,0,160,0.3)\"),\n",
    "                name=\"Linear Regression\"\n",
    "               )\n",
    "\n",
    "fig.update_layout(annotations=annotations)\n",
    "# fig.write_html(\"visualizations/Pew_Research-gc_dim.html\")\n",
    "fig.show()"
   ]
  },
  {
   "cell_type": "markdown",
   "metadata": {},
   "source": [
    "### Validating against gun control policy\n",
    "\n",
    "Source: https://www.politico.com/2020-election/candidates-views-on-the-issues/gun-control/\n",
    "\n",
    "Since the democratic party overwhelmingly is in favour of gun control, if a candidate didn't have a stance on gun regulation it was put in the more \"less regulation\" bucket"
   ]
  },
  {
   "cell_type": "code",
   "execution_count": 159,
   "metadata": {
    "scrolled": true
   },
   "outputs": [
    {
     "data": {
      "text/html": [
       "<div>\n",
       "<style scoped>\n",
       "    .dataframe tbody tr th:only-of-type {\n",
       "        vertical-align: middle;\n",
       "    }\n",
       "\n",
       "    .dataframe tbody tr th {\n",
       "        vertical-align: top;\n",
       "    }\n",
       "\n",
       "    .dataframe thead th {\n",
       "        text-align: right;\n",
       "    }\n",
       "</style>\n",
       "<table border=\"1\" class=\"dataframe\">\n",
       "  <thead>\n",
       "    <tr style=\"text-align: right;\">\n",
       "      <th></th>\n",
       "      <th>gc_policy</th>\n",
       "      <th>reddit_projection</th>\n",
       "    </tr>\n",
       "    <tr>\n",
       "      <th>candidate</th>\n",
       "      <th></th>\n",
       "      <th></th>\n",
       "    </tr>\n",
       "  </thead>\n",
       "  <tbody>\n",
       "    <tr>\n",
       "      <th>Biden</th>\n",
       "      <td>-0.333333</td>\n",
       "      <td>-0.266431</td>\n",
       "    </tr>\n",
       "    <tr>\n",
       "      <th>Buttigieg</th>\n",
       "      <td>-0.666667</td>\n",
       "      <td>-0.250756</td>\n",
       "    </tr>\n",
       "    <tr>\n",
       "      <th>Klobuchar</th>\n",
       "      <td>-0.333333</td>\n",
       "      <td>-0.266261</td>\n",
       "    </tr>\n",
       "    <tr>\n",
       "      <th>Sanders</th>\n",
       "      <td>0.000000</td>\n",
       "      <td>-0.091520</td>\n",
       "    </tr>\n",
       "    <tr>\n",
       "      <th>Warren</th>\n",
       "      <td>-0.333333</td>\n",
       "      <td>-0.287348</td>\n",
       "    </tr>\n",
       "    <tr>\n",
       "      <th>Yang</th>\n",
       "      <td>-0.666667</td>\n",
       "      <td>0.047922</td>\n",
       "    </tr>\n",
       "  </tbody>\n",
       "</table>\n",
       "</div>"
      ],
      "text/plain": [
       "           gc_policy  reddit_projection\n",
       "candidate                              \n",
       "Biden      -0.333333          -0.266431\n",
       "Buttigieg  -0.666667          -0.250756\n",
       "Klobuchar  -0.333333          -0.266261\n",
       "Sanders     0.000000          -0.091520\n",
       "Warren     -0.333333          -0.287348\n",
       "Yang       -0.666667           0.047922"
      ]
     },
     "execution_count": 159,
     "metadata": {},
     "output_type": "execute_result"
    }
   ],
   "source": [
    "gc_policy_df = pd.read_csv(\"/h/224/cameron/Political-Subreddit-Embedding/external_datasets/polling_data/politico_gun_policy.csv\")\n",
    "gc_policy_df = gc_policy_df.set_index(\"candidate\")\n",
    "gc_policy_df[\"gc_policy\"] = gc_policy_df.apply(survey_to_num,axis=1)\n",
    "\n",
    "i_dim = calculate_dim(gc_dim.subreddits,embedding)\n",
    "gc_policy_df[\"reddit_projection\"] = [project_dim(i_dim,c,embedding) for c in cand_subs]\n",
    "\n",
    "gc_policy_df = gc_policy_df[[\"gc_policy\",\"reddit_projection\"]]\n",
    "gc_policy_df"
   ]
  },
  {
   "cell_type": "code",
   "execution_count": 160,
   "metadata": {},
   "outputs": [
    {
     "data": {
      "text/plain": [
       "0.021474567074853623"
      ]
     },
     "execution_count": 160,
     "metadata": {},
     "output_type": "execute_result"
    }
   ],
   "source": [
    "# Fit a linear regression to our model and its results\n",
    "model = np.polyfit(gc_policy_df[\"reddit_projection\"], gc_policy_df[\"gc_policy\"], 1)\n",
    "predict = np.poly1d(model)\n",
    "r2 = r2_score(gc_policy_df[\"gc_policy\"], predict(gc_policy_df[\"reddit_projection\"]))\n",
    "r2"
   ]
  },
  {
   "cell_type": "code",
   "execution_count": 164,
   "metadata": {},
   "outputs": [
    {
     "data": {
      "application/vnd.plotly.v1+json": {
       "config": {
        "plotlyServerURL": "https://plot.ly"
       },
       "data": [
        {
         "hovertemplate": "Subreddit Gun Control=%{x}<br>Gun Control Policies=%{y}<br>candidate=%{text}<extra></extra>",
         "legendgroup": "",
         "marker": {
          "color": "#1F77B4",
          "symbol": "circle"
         },
         "mode": "markers+text",
         "name": "",
         "orientation": "v",
         "showlegend": false,
         "text": [
          "Biden",
          "Buttigieg",
          "Klobuchar",
          "Sanders",
          "Warren",
          "Yang"
         ],
         "textposition": "bottom center",
         "type": "scatter",
         "x": [
          -0.2664307704472482,
          -0.250756136849046,
          -0.26626079352683923,
          -0.09152029127982067,
          -0.28734772061396574,
          0.04792241196180771
         ],
         "xaxis": "x",
         "y": [
          -0.3333333333333333,
          -0.6666666666666666,
          -0.3333333333333333,
          0,
          -0.3333333333333333,
          -0.6666666666666666
         ],
         "yaxis": "y"
        },
        {
         "line": {
          "color": "rgba(0,0,160,0.3)",
          "dash": "dash",
          "width": 2
         },
         "mode": "lines",
         "name": "Linear Regression",
         "type": "scatter",
         "x": [
          -0.3160824926753623,
          0.05792241196180771
         ],
         "y": [
          -0.35336420488011977,
          -0.45529268922722504
         ]
        }
       ],
       "layout": {
        "annotations": [
         {
          "showarrow": false,
          "text": "<b>More Gun Control Policies<br>Subreddit Trends Toward Regulation</b>",
          "x": -0.2528659941402899,
          "xref": "x",
          "y": -0.6289333333333333,
          "yref": "y"
         },
         {
          "showarrow": false,
          "text": "<b>Subreddit Trends Less Regulation</b>",
          "x": 0.05792241196180771,
          "xref": "x",
          "y": -0.6289333333333333,
          "yref": "y"
         },
         {
          "showarrow": false,
          "text": "<b>Fewer Gun Control Policies</b>",
          "x": -0.2528659941402899,
          "xref": "x",
          "y": 0.0089,
          "yref": "y"
         },
         {
          "text": "r<sup>2</sup>=0.02",
          "x": -0.2,
          "xref": "x",
          "y": -0.3850004545413701,
          "yref": "y"
         }
        ],
        "legend": {
         "tracegroupgap": 0
        },
        "template": {
         "data": {
          "bar": [
           {
            "error_x": {
             "color": "rgb(36,36,36)"
            },
            "error_y": {
             "color": "rgb(36,36,36)"
            },
            "marker": {
             "line": {
              "color": "white",
              "width": 0.5
             }
            },
            "type": "bar"
           }
          ],
          "barpolar": [
           {
            "marker": {
             "line": {
              "color": "white",
              "width": 0.5
             }
            },
            "type": "barpolar"
           }
          ],
          "carpet": [
           {
            "aaxis": {
             "endlinecolor": "rgb(36,36,36)",
             "gridcolor": "white",
             "linecolor": "white",
             "minorgridcolor": "white",
             "startlinecolor": "rgb(36,36,36)"
            },
            "baxis": {
             "endlinecolor": "rgb(36,36,36)",
             "gridcolor": "white",
             "linecolor": "white",
             "minorgridcolor": "white",
             "startlinecolor": "rgb(36,36,36)"
            },
            "type": "carpet"
           }
          ],
          "choropleth": [
           {
            "colorbar": {
             "outlinewidth": 1,
             "tickcolor": "rgb(36,36,36)",
             "ticks": "outside"
            },
            "type": "choropleth"
           }
          ],
          "contour": [
           {
            "colorbar": {
             "outlinewidth": 1,
             "tickcolor": "rgb(36,36,36)",
             "ticks": "outside"
            },
            "colorscale": [
             [
              0,
              "#440154"
             ],
             [
              0.1111111111111111,
              "#482878"
             ],
             [
              0.2222222222222222,
              "#3e4989"
             ],
             [
              0.3333333333333333,
              "#31688e"
             ],
             [
              0.4444444444444444,
              "#26828e"
             ],
             [
              0.5555555555555556,
              "#1f9e89"
             ],
             [
              0.6666666666666666,
              "#35b779"
             ],
             [
              0.7777777777777778,
              "#6ece58"
             ],
             [
              0.8888888888888888,
              "#b5de2b"
             ],
             [
              1,
              "#fde725"
             ]
            ],
            "type": "contour"
           }
          ],
          "contourcarpet": [
           {
            "colorbar": {
             "outlinewidth": 1,
             "tickcolor": "rgb(36,36,36)",
             "ticks": "outside"
            },
            "type": "contourcarpet"
           }
          ],
          "heatmap": [
           {
            "colorbar": {
             "outlinewidth": 1,
             "tickcolor": "rgb(36,36,36)",
             "ticks": "outside"
            },
            "colorscale": [
             [
              0,
              "#440154"
             ],
             [
              0.1111111111111111,
              "#482878"
             ],
             [
              0.2222222222222222,
              "#3e4989"
             ],
             [
              0.3333333333333333,
              "#31688e"
             ],
             [
              0.4444444444444444,
              "#26828e"
             ],
             [
              0.5555555555555556,
              "#1f9e89"
             ],
             [
              0.6666666666666666,
              "#35b779"
             ],
             [
              0.7777777777777778,
              "#6ece58"
             ],
             [
              0.8888888888888888,
              "#b5de2b"
             ],
             [
              1,
              "#fde725"
             ]
            ],
            "type": "heatmap"
           }
          ],
          "heatmapgl": [
           {
            "colorbar": {
             "outlinewidth": 1,
             "tickcolor": "rgb(36,36,36)",
             "ticks": "outside"
            },
            "colorscale": [
             [
              0,
              "#440154"
             ],
             [
              0.1111111111111111,
              "#482878"
             ],
             [
              0.2222222222222222,
              "#3e4989"
             ],
             [
              0.3333333333333333,
              "#31688e"
             ],
             [
              0.4444444444444444,
              "#26828e"
             ],
             [
              0.5555555555555556,
              "#1f9e89"
             ],
             [
              0.6666666666666666,
              "#35b779"
             ],
             [
              0.7777777777777778,
              "#6ece58"
             ],
             [
              0.8888888888888888,
              "#b5de2b"
             ],
             [
              1,
              "#fde725"
             ]
            ],
            "type": "heatmapgl"
           }
          ],
          "histogram": [
           {
            "marker": {
             "line": {
              "color": "white",
              "width": 0.6
             }
            },
            "type": "histogram"
           }
          ],
          "histogram2d": [
           {
            "colorbar": {
             "outlinewidth": 1,
             "tickcolor": "rgb(36,36,36)",
             "ticks": "outside"
            },
            "colorscale": [
             [
              0,
              "#440154"
             ],
             [
              0.1111111111111111,
              "#482878"
             ],
             [
              0.2222222222222222,
              "#3e4989"
             ],
             [
              0.3333333333333333,
              "#31688e"
             ],
             [
              0.4444444444444444,
              "#26828e"
             ],
             [
              0.5555555555555556,
              "#1f9e89"
             ],
             [
              0.6666666666666666,
              "#35b779"
             ],
             [
              0.7777777777777778,
              "#6ece58"
             ],
             [
              0.8888888888888888,
              "#b5de2b"
             ],
             [
              1,
              "#fde725"
             ]
            ],
            "type": "histogram2d"
           }
          ],
          "histogram2dcontour": [
           {
            "colorbar": {
             "outlinewidth": 1,
             "tickcolor": "rgb(36,36,36)",
             "ticks": "outside"
            },
            "colorscale": [
             [
              0,
              "#440154"
             ],
             [
              0.1111111111111111,
              "#482878"
             ],
             [
              0.2222222222222222,
              "#3e4989"
             ],
             [
              0.3333333333333333,
              "#31688e"
             ],
             [
              0.4444444444444444,
              "#26828e"
             ],
             [
              0.5555555555555556,
              "#1f9e89"
             ],
             [
              0.6666666666666666,
              "#35b779"
             ],
             [
              0.7777777777777778,
              "#6ece58"
             ],
             [
              0.8888888888888888,
              "#b5de2b"
             ],
             [
              1,
              "#fde725"
             ]
            ],
            "type": "histogram2dcontour"
           }
          ],
          "mesh3d": [
           {
            "colorbar": {
             "outlinewidth": 1,
             "tickcolor": "rgb(36,36,36)",
             "ticks": "outside"
            },
            "type": "mesh3d"
           }
          ],
          "parcoords": [
           {
            "line": {
             "colorbar": {
              "outlinewidth": 1,
              "tickcolor": "rgb(36,36,36)",
              "ticks": "outside"
             }
            },
            "type": "parcoords"
           }
          ],
          "pie": [
           {
            "automargin": true,
            "type": "pie"
           }
          ],
          "scatter": [
           {
            "marker": {
             "colorbar": {
              "outlinewidth": 1,
              "tickcolor": "rgb(36,36,36)",
              "ticks": "outside"
             }
            },
            "type": "scatter"
           }
          ],
          "scatter3d": [
           {
            "line": {
             "colorbar": {
              "outlinewidth": 1,
              "tickcolor": "rgb(36,36,36)",
              "ticks": "outside"
             }
            },
            "marker": {
             "colorbar": {
              "outlinewidth": 1,
              "tickcolor": "rgb(36,36,36)",
              "ticks": "outside"
             }
            },
            "type": "scatter3d"
           }
          ],
          "scattercarpet": [
           {
            "marker": {
             "colorbar": {
              "outlinewidth": 1,
              "tickcolor": "rgb(36,36,36)",
              "ticks": "outside"
             }
            },
            "type": "scattercarpet"
           }
          ],
          "scattergeo": [
           {
            "marker": {
             "colorbar": {
              "outlinewidth": 1,
              "tickcolor": "rgb(36,36,36)",
              "ticks": "outside"
             }
            },
            "type": "scattergeo"
           }
          ],
          "scattergl": [
           {
            "marker": {
             "colorbar": {
              "outlinewidth": 1,
              "tickcolor": "rgb(36,36,36)",
              "ticks": "outside"
             }
            },
            "type": "scattergl"
           }
          ],
          "scattermapbox": [
           {
            "marker": {
             "colorbar": {
              "outlinewidth": 1,
              "tickcolor": "rgb(36,36,36)",
              "ticks": "outside"
             }
            },
            "type": "scattermapbox"
           }
          ],
          "scatterpolar": [
           {
            "marker": {
             "colorbar": {
              "outlinewidth": 1,
              "tickcolor": "rgb(36,36,36)",
              "ticks": "outside"
             }
            },
            "type": "scatterpolar"
           }
          ],
          "scatterpolargl": [
           {
            "marker": {
             "colorbar": {
              "outlinewidth": 1,
              "tickcolor": "rgb(36,36,36)",
              "ticks": "outside"
             }
            },
            "type": "scatterpolargl"
           }
          ],
          "scatterternary": [
           {
            "marker": {
             "colorbar": {
              "outlinewidth": 1,
              "tickcolor": "rgb(36,36,36)",
              "ticks": "outside"
             }
            },
            "type": "scatterternary"
           }
          ],
          "surface": [
           {
            "colorbar": {
             "outlinewidth": 1,
             "tickcolor": "rgb(36,36,36)",
             "ticks": "outside"
            },
            "colorscale": [
             [
              0,
              "#440154"
             ],
             [
              0.1111111111111111,
              "#482878"
             ],
             [
              0.2222222222222222,
              "#3e4989"
             ],
             [
              0.3333333333333333,
              "#31688e"
             ],
             [
              0.4444444444444444,
              "#26828e"
             ],
             [
              0.5555555555555556,
              "#1f9e89"
             ],
             [
              0.6666666666666666,
              "#35b779"
             ],
             [
              0.7777777777777778,
              "#6ece58"
             ],
             [
              0.8888888888888888,
              "#b5de2b"
             ],
             [
              1,
              "#fde725"
             ]
            ],
            "type": "surface"
           }
          ],
          "table": [
           {
            "cells": {
             "fill": {
              "color": "rgb(237,237,237)"
             },
             "line": {
              "color": "white"
             }
            },
            "header": {
             "fill": {
              "color": "rgb(217,217,217)"
             },
             "line": {
              "color": "white"
             }
            },
            "type": "table"
           }
          ]
         },
         "layout": {
          "annotationdefaults": {
           "arrowhead": 0,
           "arrowwidth": 1
          },
          "coloraxis": {
           "colorbar": {
            "outlinewidth": 1,
            "tickcolor": "rgb(36,36,36)",
            "ticks": "outside"
           }
          },
          "colorscale": {
           "diverging": [
            [
             0,
             "rgb(103,0,31)"
            ],
            [
             0.1,
             "rgb(178,24,43)"
            ],
            [
             0.2,
             "rgb(214,96,77)"
            ],
            [
             0.3,
             "rgb(244,165,130)"
            ],
            [
             0.4,
             "rgb(253,219,199)"
            ],
            [
             0.5,
             "rgb(247,247,247)"
            ],
            [
             0.6,
             "rgb(209,229,240)"
            ],
            [
             0.7,
             "rgb(146,197,222)"
            ],
            [
             0.8,
             "rgb(67,147,195)"
            ],
            [
             0.9,
             "rgb(33,102,172)"
            ],
            [
             1,
             "rgb(5,48,97)"
            ]
           ],
           "sequential": [
            [
             0,
             "#440154"
            ],
            [
             0.1111111111111111,
             "#482878"
            ],
            [
             0.2222222222222222,
             "#3e4989"
            ],
            [
             0.3333333333333333,
             "#31688e"
            ],
            [
             0.4444444444444444,
             "#26828e"
            ],
            [
             0.5555555555555556,
             "#1f9e89"
            ],
            [
             0.6666666666666666,
             "#35b779"
            ],
            [
             0.7777777777777778,
             "#6ece58"
            ],
            [
             0.8888888888888888,
             "#b5de2b"
            ],
            [
             1,
             "#fde725"
            ]
           ],
           "sequentialminus": [
            [
             0,
             "#440154"
            ],
            [
             0.1111111111111111,
             "#482878"
            ],
            [
             0.2222222222222222,
             "#3e4989"
            ],
            [
             0.3333333333333333,
             "#31688e"
            ],
            [
             0.4444444444444444,
             "#26828e"
            ],
            [
             0.5555555555555556,
             "#1f9e89"
            ],
            [
             0.6666666666666666,
             "#35b779"
            ],
            [
             0.7777777777777778,
             "#6ece58"
            ],
            [
             0.8888888888888888,
             "#b5de2b"
            ],
            [
             1,
             "#fde725"
            ]
           ]
          },
          "colorway": [
           "#1F77B4",
           "#FF7F0E",
           "#2CA02C",
           "#D62728",
           "#9467BD",
           "#8C564B",
           "#E377C2",
           "#7F7F7F",
           "#BCBD22",
           "#17BECF"
          ],
          "font": {
           "color": "rgb(36,36,36)"
          },
          "geo": {
           "bgcolor": "white",
           "lakecolor": "white",
           "landcolor": "white",
           "showlakes": true,
           "showland": true,
           "subunitcolor": "white"
          },
          "hoverlabel": {
           "align": "left"
          },
          "hovermode": "closest",
          "mapbox": {
           "style": "light"
          },
          "paper_bgcolor": "white",
          "plot_bgcolor": "white",
          "polar": {
           "angularaxis": {
            "gridcolor": "rgb(232,232,232)",
            "linecolor": "rgb(36,36,36)",
            "showgrid": false,
            "showline": true,
            "ticks": "outside"
           },
           "bgcolor": "white",
           "radialaxis": {
            "gridcolor": "rgb(232,232,232)",
            "linecolor": "rgb(36,36,36)",
            "showgrid": false,
            "showline": true,
            "ticks": "outside"
           }
          },
          "scene": {
           "xaxis": {
            "backgroundcolor": "white",
            "gridcolor": "rgb(232,232,232)",
            "gridwidth": 2,
            "linecolor": "rgb(36,36,36)",
            "showbackground": true,
            "showgrid": false,
            "showline": true,
            "ticks": "outside",
            "zeroline": false,
            "zerolinecolor": "rgb(36,36,36)"
           },
           "yaxis": {
            "backgroundcolor": "white",
            "gridcolor": "rgb(232,232,232)",
            "gridwidth": 2,
            "linecolor": "rgb(36,36,36)",
            "showbackground": true,
            "showgrid": false,
            "showline": true,
            "ticks": "outside",
            "zeroline": false,
            "zerolinecolor": "rgb(36,36,36)"
           },
           "zaxis": {
            "backgroundcolor": "white",
            "gridcolor": "rgb(232,232,232)",
            "gridwidth": 2,
            "linecolor": "rgb(36,36,36)",
            "showbackground": true,
            "showgrid": false,
            "showline": true,
            "ticks": "outside",
            "zeroline": false,
            "zerolinecolor": "rgb(36,36,36)"
           }
          },
          "shapedefaults": {
           "fillcolor": "black",
           "line": {
            "width": 0
           },
           "opacity": 0.3
          },
          "ternary": {
           "aaxis": {
            "gridcolor": "rgb(232,232,232)",
            "linecolor": "rgb(36,36,36)",
            "showgrid": false,
            "showline": true,
            "ticks": "outside"
           },
           "baxis": {
            "gridcolor": "rgb(232,232,232)",
            "linecolor": "rgb(36,36,36)",
            "showgrid": false,
            "showline": true,
            "ticks": "outside"
           },
           "bgcolor": "white",
           "caxis": {
            "gridcolor": "rgb(232,232,232)",
            "linecolor": "rgb(36,36,36)",
            "showgrid": false,
            "showline": true,
            "ticks": "outside"
           }
          },
          "title": {
           "x": 0.05
          },
          "xaxis": {
           "automargin": true,
           "gridcolor": "rgb(232,232,232)",
           "linecolor": "rgb(36,36,36)",
           "showgrid": false,
           "showline": true,
           "ticks": "outside",
           "title": {
            "standoff": 15
           },
           "zeroline": false,
           "zerolinecolor": "rgb(36,36,36)"
          },
          "yaxis": {
           "automargin": true,
           "gridcolor": "rgb(232,232,232)",
           "linecolor": "rgb(36,36,36)",
           "showgrid": false,
           "showline": true,
           "ticks": "outside",
           "title": {
            "standoff": 15
           },
           "zeroline": false,
           "zerolinecolor": "rgb(36,36,36)"
          }
         }
        },
        "title": {
         "text": "Subreddit Gun Control Dimension Versus Gun Control Policies"
        },
        "xaxis": {
         "anchor": "y",
         "domain": [
          0,
          1
         ],
         "range": [
          -0.3160824926753623,
          0.05792241196180771
         ],
         "title": {
          "text": "Subreddit Gun Control"
         }
        },
        "yaxis": {
         "anchor": "x",
         "domain": [
          0,
          1
         ],
         "range": [
          -0.7066666666666667,
          0.01
         ],
         "title": {
          "text": "Gun Control Policies"
         }
        }
       }
      },
      "text/html": [
       "<div>\n",
       "        \n",
       "        \n",
       "            <div id=\"d4466502-8c23-4b64-8de6-617eca4106b1\" class=\"plotly-graph-div\" style=\"height:525px; width:100%;\"></div>\n",
       "            <script type=\"text/javascript\">\n",
       "                require([\"plotly\"], function(Plotly) {\n",
       "                    window.PLOTLYENV=window.PLOTLYENV || {};\n",
       "                    \n",
       "                if (document.getElementById(\"d4466502-8c23-4b64-8de6-617eca4106b1\")) {\n",
       "                    Plotly.newPlot(\n",
       "                        'd4466502-8c23-4b64-8de6-617eca4106b1',\n",
       "                        [{\"hovertemplate\": \"Subreddit Gun Control=%{x}<br>Gun Control Policies=%{y}<br>candidate=%{text}<extra></extra>\", \"legendgroup\": \"\", \"marker\": {\"color\": \"#1F77B4\", \"symbol\": \"circle\"}, \"mode\": \"markers+text\", \"name\": \"\", \"orientation\": \"v\", \"showlegend\": false, \"text\": [\"Biden\", \"Buttigieg\", \"Klobuchar\", \"Sanders\", \"Warren\", \"Yang\"], \"textposition\": \"bottom center\", \"type\": \"scatter\", \"x\": [-0.2664307704472482, -0.250756136849046, -0.26626079352683923, -0.09152029127982067, -0.28734772061396574, 0.04792241196180771], \"xaxis\": \"x\", \"y\": [-0.3333333333333333, -0.6666666666666666, -0.3333333333333333, 0.0, -0.3333333333333333, -0.6666666666666666], \"yaxis\": \"y\"}, {\"line\": {\"color\": \"rgba(0,0,160,0.3)\", \"dash\": \"dash\", \"width\": 2}, \"mode\": \"lines\", \"name\": \"Linear Regression\", \"type\": \"scatter\", \"x\": [-0.3160824926753623, 0.05792241196180771], \"y\": [-0.35336420488011977, -0.45529268922722504]}],\n",
       "                        {\"annotations\": [{\"showarrow\": false, \"text\": \"<b>More Gun Control Policies<br>Subreddit Trends Toward Regulation</b>\", \"x\": -0.2528659941402899, \"xref\": \"x\", \"y\": -0.6289333333333333, \"yref\": \"y\"}, {\"showarrow\": false, \"text\": \"<b>Subreddit Trends Less Regulation</b>\", \"x\": 0.05792241196180771, \"xref\": \"x\", \"y\": -0.6289333333333333, \"yref\": \"y\"}, {\"showarrow\": false, \"text\": \"<b>Fewer Gun Control Policies</b>\", \"x\": -0.2528659941402899, \"xref\": \"x\", \"y\": 0.0089, \"yref\": \"y\"}, {\"text\": \"r<sup>2</sup>=0.02\", \"x\": -0.2, \"xref\": \"x\", \"y\": -0.3850004545413701, \"yref\": \"y\"}], \"legend\": {\"tracegroupgap\": 0}, \"template\": {\"data\": {\"bar\": [{\"error_x\": {\"color\": \"rgb(36,36,36)\"}, \"error_y\": {\"color\": \"rgb(36,36,36)\"}, \"marker\": {\"line\": {\"color\": \"white\", \"width\": 0.5}}, \"type\": \"bar\"}], \"barpolar\": [{\"marker\": {\"line\": {\"color\": \"white\", \"width\": 0.5}}, \"type\": \"barpolar\"}], \"carpet\": [{\"aaxis\": {\"endlinecolor\": \"rgb(36,36,36)\", \"gridcolor\": \"white\", \"linecolor\": \"white\", \"minorgridcolor\": \"white\", \"startlinecolor\": \"rgb(36,36,36)\"}, \"baxis\": {\"endlinecolor\": \"rgb(36,36,36)\", \"gridcolor\": \"white\", \"linecolor\": \"white\", \"minorgridcolor\": \"white\", \"startlinecolor\": \"rgb(36,36,36)\"}, \"type\": \"carpet\"}], \"choropleth\": [{\"colorbar\": {\"outlinewidth\": 1, \"tickcolor\": \"rgb(36,36,36)\", \"ticks\": \"outside\"}, \"type\": \"choropleth\"}], \"contour\": [{\"colorbar\": {\"outlinewidth\": 1, \"tickcolor\": \"rgb(36,36,36)\", \"ticks\": \"outside\"}, \"colorscale\": [[0.0, \"#440154\"], [0.1111111111111111, \"#482878\"], [0.2222222222222222, \"#3e4989\"], [0.3333333333333333, \"#31688e\"], [0.4444444444444444, \"#26828e\"], [0.5555555555555556, \"#1f9e89\"], [0.6666666666666666, \"#35b779\"], [0.7777777777777778, \"#6ece58\"], [0.8888888888888888, \"#b5de2b\"], [1.0, \"#fde725\"]], \"type\": \"contour\"}], \"contourcarpet\": [{\"colorbar\": {\"outlinewidth\": 1, \"tickcolor\": \"rgb(36,36,36)\", \"ticks\": \"outside\"}, \"type\": \"contourcarpet\"}], \"heatmap\": [{\"colorbar\": {\"outlinewidth\": 1, \"tickcolor\": \"rgb(36,36,36)\", \"ticks\": \"outside\"}, \"colorscale\": [[0.0, \"#440154\"], [0.1111111111111111, \"#482878\"], [0.2222222222222222, \"#3e4989\"], [0.3333333333333333, \"#31688e\"], [0.4444444444444444, \"#26828e\"], [0.5555555555555556, \"#1f9e89\"], [0.6666666666666666, \"#35b779\"], [0.7777777777777778, \"#6ece58\"], [0.8888888888888888, \"#b5de2b\"], [1.0, \"#fde725\"]], \"type\": \"heatmap\"}], \"heatmapgl\": [{\"colorbar\": {\"outlinewidth\": 1, \"tickcolor\": \"rgb(36,36,36)\", \"ticks\": \"outside\"}, \"colorscale\": [[0.0, \"#440154\"], [0.1111111111111111, \"#482878\"], [0.2222222222222222, \"#3e4989\"], [0.3333333333333333, \"#31688e\"], [0.4444444444444444, \"#26828e\"], [0.5555555555555556, \"#1f9e89\"], [0.6666666666666666, \"#35b779\"], [0.7777777777777778, \"#6ece58\"], [0.8888888888888888, \"#b5de2b\"], [1.0, \"#fde725\"]], \"type\": \"heatmapgl\"}], \"histogram\": [{\"marker\": {\"line\": {\"color\": \"white\", \"width\": 0.6}}, \"type\": \"histogram\"}], \"histogram2d\": [{\"colorbar\": {\"outlinewidth\": 1, \"tickcolor\": \"rgb(36,36,36)\", \"ticks\": \"outside\"}, \"colorscale\": [[0.0, \"#440154\"], [0.1111111111111111, \"#482878\"], [0.2222222222222222, \"#3e4989\"], [0.3333333333333333, \"#31688e\"], [0.4444444444444444, \"#26828e\"], [0.5555555555555556, \"#1f9e89\"], [0.6666666666666666, \"#35b779\"], [0.7777777777777778, \"#6ece58\"], [0.8888888888888888, \"#b5de2b\"], [1.0, \"#fde725\"]], \"type\": \"histogram2d\"}], \"histogram2dcontour\": [{\"colorbar\": {\"outlinewidth\": 1, \"tickcolor\": \"rgb(36,36,36)\", \"ticks\": \"outside\"}, \"colorscale\": [[0.0, \"#440154\"], [0.1111111111111111, \"#482878\"], [0.2222222222222222, \"#3e4989\"], [0.3333333333333333, \"#31688e\"], [0.4444444444444444, \"#26828e\"], [0.5555555555555556, \"#1f9e89\"], [0.6666666666666666, \"#35b779\"], [0.7777777777777778, \"#6ece58\"], [0.8888888888888888, \"#b5de2b\"], [1.0, \"#fde725\"]], \"type\": \"histogram2dcontour\"}], \"mesh3d\": [{\"colorbar\": {\"outlinewidth\": 1, \"tickcolor\": \"rgb(36,36,36)\", \"ticks\": \"outside\"}, \"type\": \"mesh3d\"}], \"parcoords\": [{\"line\": {\"colorbar\": {\"outlinewidth\": 1, \"tickcolor\": \"rgb(36,36,36)\", \"ticks\": \"outside\"}}, \"type\": \"parcoords\"}], \"pie\": [{\"automargin\": true, \"type\": \"pie\"}], \"scatter\": [{\"marker\": {\"colorbar\": {\"outlinewidth\": 1, \"tickcolor\": \"rgb(36,36,36)\", \"ticks\": \"outside\"}}, \"type\": \"scatter\"}], \"scatter3d\": [{\"line\": {\"colorbar\": {\"outlinewidth\": 1, \"tickcolor\": \"rgb(36,36,36)\", \"ticks\": \"outside\"}}, \"marker\": {\"colorbar\": {\"outlinewidth\": 1, \"tickcolor\": \"rgb(36,36,36)\", \"ticks\": \"outside\"}}, \"type\": \"scatter3d\"}], \"scattercarpet\": [{\"marker\": {\"colorbar\": {\"outlinewidth\": 1, \"tickcolor\": \"rgb(36,36,36)\", \"ticks\": \"outside\"}}, \"type\": \"scattercarpet\"}], \"scattergeo\": [{\"marker\": {\"colorbar\": {\"outlinewidth\": 1, \"tickcolor\": \"rgb(36,36,36)\", \"ticks\": \"outside\"}}, \"type\": \"scattergeo\"}], \"scattergl\": [{\"marker\": {\"colorbar\": {\"outlinewidth\": 1, \"tickcolor\": \"rgb(36,36,36)\", \"ticks\": \"outside\"}}, \"type\": \"scattergl\"}], \"scattermapbox\": [{\"marker\": {\"colorbar\": {\"outlinewidth\": 1, \"tickcolor\": \"rgb(36,36,36)\", \"ticks\": \"outside\"}}, \"type\": \"scattermapbox\"}], \"scatterpolar\": [{\"marker\": {\"colorbar\": {\"outlinewidth\": 1, \"tickcolor\": \"rgb(36,36,36)\", \"ticks\": \"outside\"}}, \"type\": \"scatterpolar\"}], \"scatterpolargl\": [{\"marker\": {\"colorbar\": {\"outlinewidth\": 1, \"tickcolor\": \"rgb(36,36,36)\", \"ticks\": \"outside\"}}, \"type\": \"scatterpolargl\"}], \"scatterternary\": [{\"marker\": {\"colorbar\": {\"outlinewidth\": 1, \"tickcolor\": \"rgb(36,36,36)\", \"ticks\": \"outside\"}}, \"type\": \"scatterternary\"}], \"surface\": [{\"colorbar\": {\"outlinewidth\": 1, \"tickcolor\": \"rgb(36,36,36)\", \"ticks\": \"outside\"}, \"colorscale\": [[0.0, \"#440154\"], [0.1111111111111111, \"#482878\"], [0.2222222222222222, \"#3e4989\"], [0.3333333333333333, \"#31688e\"], [0.4444444444444444, \"#26828e\"], [0.5555555555555556, \"#1f9e89\"], [0.6666666666666666, \"#35b779\"], [0.7777777777777778, \"#6ece58\"], [0.8888888888888888, \"#b5de2b\"], [1.0, \"#fde725\"]], \"type\": \"surface\"}], \"table\": [{\"cells\": {\"fill\": {\"color\": \"rgb(237,237,237)\"}, \"line\": {\"color\": \"white\"}}, \"header\": {\"fill\": {\"color\": \"rgb(217,217,217)\"}, \"line\": {\"color\": \"white\"}}, \"type\": \"table\"}]}, \"layout\": {\"annotationdefaults\": {\"arrowhead\": 0, \"arrowwidth\": 1}, \"coloraxis\": {\"colorbar\": {\"outlinewidth\": 1, \"tickcolor\": \"rgb(36,36,36)\", \"ticks\": \"outside\"}}, \"colorscale\": {\"diverging\": [[0.0, \"rgb(103,0,31)\"], [0.1, \"rgb(178,24,43)\"], [0.2, \"rgb(214,96,77)\"], [0.3, \"rgb(244,165,130)\"], [0.4, \"rgb(253,219,199)\"], [0.5, \"rgb(247,247,247)\"], [0.6, \"rgb(209,229,240)\"], [0.7, \"rgb(146,197,222)\"], [0.8, \"rgb(67,147,195)\"], [0.9, \"rgb(33,102,172)\"], [1.0, \"rgb(5,48,97)\"]], \"sequential\": [[0.0, \"#440154\"], [0.1111111111111111, \"#482878\"], [0.2222222222222222, \"#3e4989\"], [0.3333333333333333, \"#31688e\"], [0.4444444444444444, \"#26828e\"], [0.5555555555555556, \"#1f9e89\"], [0.6666666666666666, \"#35b779\"], [0.7777777777777778, \"#6ece58\"], [0.8888888888888888, \"#b5de2b\"], [1.0, \"#fde725\"]], \"sequentialminus\": [[0.0, \"#440154\"], [0.1111111111111111, \"#482878\"], [0.2222222222222222, \"#3e4989\"], [0.3333333333333333, \"#31688e\"], [0.4444444444444444, \"#26828e\"], [0.5555555555555556, \"#1f9e89\"], [0.6666666666666666, \"#35b779\"], [0.7777777777777778, \"#6ece58\"], [0.8888888888888888, \"#b5de2b\"], [1.0, \"#fde725\"]]}, \"colorway\": [\"#1F77B4\", \"#FF7F0E\", \"#2CA02C\", \"#D62728\", \"#9467BD\", \"#8C564B\", \"#E377C2\", \"#7F7F7F\", \"#BCBD22\", \"#17BECF\"], \"font\": {\"color\": \"rgb(36,36,36)\"}, \"geo\": {\"bgcolor\": \"white\", \"lakecolor\": \"white\", \"landcolor\": \"white\", \"showlakes\": true, \"showland\": true, \"subunitcolor\": \"white\"}, \"hoverlabel\": {\"align\": \"left\"}, \"hovermode\": \"closest\", \"mapbox\": {\"style\": \"light\"}, \"paper_bgcolor\": \"white\", \"plot_bgcolor\": \"white\", \"polar\": {\"angularaxis\": {\"gridcolor\": \"rgb(232,232,232)\", \"linecolor\": \"rgb(36,36,36)\", \"showgrid\": false, \"showline\": true, \"ticks\": \"outside\"}, \"bgcolor\": \"white\", \"radialaxis\": {\"gridcolor\": \"rgb(232,232,232)\", \"linecolor\": \"rgb(36,36,36)\", \"showgrid\": false, \"showline\": true, \"ticks\": \"outside\"}}, \"scene\": {\"xaxis\": {\"backgroundcolor\": \"white\", \"gridcolor\": \"rgb(232,232,232)\", \"gridwidth\": 2, \"linecolor\": \"rgb(36,36,36)\", \"showbackground\": true, \"showgrid\": false, \"showline\": true, \"ticks\": \"outside\", \"zeroline\": false, \"zerolinecolor\": \"rgb(36,36,36)\"}, \"yaxis\": {\"backgroundcolor\": \"white\", \"gridcolor\": \"rgb(232,232,232)\", \"gridwidth\": 2, \"linecolor\": \"rgb(36,36,36)\", \"showbackground\": true, \"showgrid\": false, \"showline\": true, \"ticks\": \"outside\", \"zeroline\": false, \"zerolinecolor\": \"rgb(36,36,36)\"}, \"zaxis\": {\"backgroundcolor\": \"white\", \"gridcolor\": \"rgb(232,232,232)\", \"gridwidth\": 2, \"linecolor\": \"rgb(36,36,36)\", \"showbackground\": true, \"showgrid\": false, \"showline\": true, \"ticks\": \"outside\", \"zeroline\": false, \"zerolinecolor\": \"rgb(36,36,36)\"}}, \"shapedefaults\": {\"fillcolor\": \"black\", \"line\": {\"width\": 0}, \"opacity\": 0.3}, \"ternary\": {\"aaxis\": {\"gridcolor\": \"rgb(232,232,232)\", \"linecolor\": \"rgb(36,36,36)\", \"showgrid\": false, \"showline\": true, \"ticks\": \"outside\"}, \"baxis\": {\"gridcolor\": \"rgb(232,232,232)\", \"linecolor\": \"rgb(36,36,36)\", \"showgrid\": false, \"showline\": true, \"ticks\": \"outside\"}, \"bgcolor\": \"white\", \"caxis\": {\"gridcolor\": \"rgb(232,232,232)\", \"linecolor\": \"rgb(36,36,36)\", \"showgrid\": false, \"showline\": true, \"ticks\": \"outside\"}}, \"title\": {\"x\": 0.05}, \"xaxis\": {\"automargin\": true, \"gridcolor\": \"rgb(232,232,232)\", \"linecolor\": \"rgb(36,36,36)\", \"showgrid\": false, \"showline\": true, \"ticks\": \"outside\", \"title\": {\"standoff\": 15}, \"zeroline\": false, \"zerolinecolor\": \"rgb(36,36,36)\"}, \"yaxis\": {\"automargin\": true, \"gridcolor\": \"rgb(232,232,232)\", \"linecolor\": \"rgb(36,36,36)\", \"showgrid\": false, \"showline\": true, \"ticks\": \"outside\", \"title\": {\"standoff\": 15}, \"zeroline\": false, \"zerolinecolor\": \"rgb(36,36,36)\"}}}, \"title\": {\"text\": \"Subreddit Gun Control Dimension Versus Gun Control Policies\"}, \"xaxis\": {\"anchor\": \"y\", \"domain\": [0.0, 1.0], \"range\": [-0.3160824926753623, 0.05792241196180771], \"title\": {\"text\": \"Subreddit Gun Control\"}}, \"yaxis\": {\"anchor\": \"x\", \"domain\": [0.0, 1.0], \"range\": [-0.7066666666666667, 0.01], \"title\": {\"text\": \"Gun Control Policies\"}}},\n",
       "                        {\"responsive\": true}\n",
       "                    ).then(function(){\n",
       "                            \n",
       "var gd = document.getElementById('d4466502-8c23-4b64-8de6-617eca4106b1');\n",
       "var x = new MutationObserver(function (mutations, observer) {{\n",
       "        var display = window.getComputedStyle(gd).display;\n",
       "        if (!display || display === 'none') {{\n",
       "            console.log([gd, 'removed!']);\n",
       "            Plotly.purge(gd);\n",
       "            observer.disconnect();\n",
       "        }}\n",
       "}});\n",
       "\n",
       "// Listen for the removal of the full notebook cells\n",
       "var notebookContainer = gd.closest('#notebook-container');\n",
       "if (notebookContainer) {{\n",
       "    x.observe(notebookContainer, {childList: true});\n",
       "}}\n",
       "\n",
       "// Listen for the clearing of the current output cell\n",
       "var outputEl = gd.closest('.output');\n",
       "if (outputEl) {{\n",
       "    x.observe(outputEl, {childList: true});\n",
       "}}\n",
       "\n",
       "                        })\n",
       "                };\n",
       "                });\n",
       "            </script>\n",
       "        </div>"
      ]
     },
     "metadata": {},
     "output_type": "display_data"
    }
   ],
   "source": [
    "xmin, xmax = gc_policy_df[\"reddit_projection\"].min()*1.1,gc_policy_df[\"reddit_projection\"].max()+0.01\n",
    "ymin, ymax = gc_policy_df[\"gc_policy\"].min()-0.04,gc_policy_df[\"gc_policy\"].max()+0.01\n",
    "\n",
    "args = {\n",
    "    \"x\": \"reddit_projection\",\n",
    "    \"y\": \"gc_policy\",\n",
    "    \"text\": gc_policy_df.index,\n",
    "    \"title\":  \"Subreddit Gun Control Dimension Versus Gun Control Policies\",\n",
    "    \"template\": \"simple_white\",\n",
    "    \"labels\": {\"reddit_projection\": \"Subreddit Gun Control\", \"gc_policy\": \"Gun Control Policies\"},\n",
    "    \"range_x\": [xmin,xmax],\n",
    "    \"range_y\": [ymin,ymax],\n",
    "}\n",
    "\n",
    "annotations = [dict(x=xmin*0.8,y=ymin*0.89,xref=\"x\",yref=\"y\", text=\"<b>More Gun Control Policies<br>Subreddit Trends Toward Regulation</b>\",showarrow=False),\n",
    "               dict(x=xmax,y=ymin*0.89,xref=\"x\",yref=\"y\", text=\"<b>Subreddit Trends Less Regulation</b>\",showarrow=False),\n",
    "               dict(x=xmin*0.8,y=ymax*0.89,xref=\"x\",yref=\"y\", text=\"<b>Fewer Gun Control Policies</b>\",showarrow=False),\n",
    "               dict(x=-0.2,y=predict(-0.2),xref=\"x\",yref=\"y\", text=\"r<sup>2</sup>={:.2f}\".format(r2)),\n",
    "              ]\n",
    "x = np.linspace(xmin,xmax,num=2)\n",
    "    \n",
    "fig = px.scatter(gc_policy_df,**args)\n",
    "\n",
    "fig.update_traces(textposition='bottom center')\n",
    "fig.add_scatter(x=x,\n",
    "                y=predict(x),\n",
    "                mode='lines',\n",
    "                line=dict(dash=\"dash\",width=2,color=\"rgba(0,0,160,0.3)\"),\n",
    "                name=\"Linear Regression\"\n",
    "               )\n",
    "\n",
    "fig.update_layout(annotations=annotations)\n",
    "# fig.write_html(\"visualizations/Politic_policy-gc_dim.html\")\n",
    "fig.show()"
   ]
  },
  {
   "cell_type": "markdown",
   "metadata": {},
   "source": [
    "## Trade/Globalism Dimension\n",
    "\n",
    "Source: https://www.piie.com/blogs/trade-investment-policy-watch/where-do-democratic-presidential-candidates-stand-trade"
   ]
  },
  {
   "cell_type": "code",
   "execution_count": 109,
   "metadata": {},
   "outputs": [
    {
     "data": {
      "text/html": [
       "<div>\n",
       "<style scoped>\n",
       "    .dataframe tbody tr th:only-of-type {\n",
       "        vertical-align: middle;\n",
       "    }\n",
       "\n",
       "    .dataframe tbody tr th {\n",
       "        vertical-align: top;\n",
       "    }\n",
       "\n",
       "    .dataframe thead th {\n",
       "        text-align: right;\n",
       "    }\n",
       "</style>\n",
       "<table border=\"1\" class=\"dataframe\">\n",
       "  <thead>\n",
       "    <tr style=\"text-align: right;\">\n",
       "      <th></th>\n",
       "      <th>trade_positions</th>\n",
       "      <th>reddit_projection</th>\n",
       "    </tr>\n",
       "    <tr>\n",
       "      <th>candidate</th>\n",
       "      <th></th>\n",
       "      <th></th>\n",
       "    </tr>\n",
       "  </thead>\n",
       "  <tbody>\n",
       "    <tr>\n",
       "      <th>Biden</th>\n",
       "      <td>1.0</td>\n",
       "      <td>0.125099</td>\n",
       "    </tr>\n",
       "    <tr>\n",
       "      <th>Buttigieg</th>\n",
       "      <td>0.0</td>\n",
       "      <td>0.178996</td>\n",
       "    </tr>\n",
       "    <tr>\n",
       "      <th>Klobuchar</th>\n",
       "      <td>-1.0</td>\n",
       "      <td>0.136502</td>\n",
       "    </tr>\n",
       "    <tr>\n",
       "      <th>Sanders</th>\n",
       "      <td>-1.0</td>\n",
       "      <td>-0.040599</td>\n",
       "    </tr>\n",
       "    <tr>\n",
       "      <th>Warren</th>\n",
       "      <td>-1.0</td>\n",
       "      <td>0.051586</td>\n",
       "    </tr>\n",
       "    <tr>\n",
       "      <th>Yang</th>\n",
       "      <td>0.0</td>\n",
       "      <td>0.171604</td>\n",
       "    </tr>\n",
       "  </tbody>\n",
       "</table>\n",
       "</div>"
      ],
      "text/plain": [
       "           trade_positions  reddit_projection\n",
       "candidate                                    \n",
       "Biden                  1.0           0.125099\n",
       "Buttigieg              0.0           0.178996\n",
       "Klobuchar             -1.0           0.136502\n",
       "Sanders               -1.0          -0.040599\n",
       "Warren                -1.0           0.051586\n",
       "Yang                   0.0           0.171604"
      ]
     },
     "execution_count": 109,
     "metadata": {},
     "output_type": "execute_result"
    }
   ],
   "source": [
    "glob_df = pd.read_csv(\"/h/224/cameron/Political-Subreddit-Embedding/external_datasets/polling_data/peterson_trade.csv\")\n",
    "glob_df = glob_df.set_index(\"candidate\")[[\"anti_trade\",\"mixed\",\"pro_trade\"]]\n",
    "glob_df[\"trade_positions\"] = glob_df.apply(survey_to_num,axis=1)\n",
    "i_dim = calculate_dim(glob_dim.subreddits,embedding)\n",
    "glob_df[\"reddit_projection\"] = [project_dim(i_dim,c,embedding) for c in cand_subs]\n",
    "\n",
    "glob_df = glob_df[[\"trade_positions\",\"reddit_projection\",]]\n",
    "glob_df"
   ]
  },
  {
   "cell_type": "code",
   "execution_count": 110,
   "metadata": {},
   "outputs": [
    {
     "data": {
      "text/plain": [
       "0.2915003012746654"
      ]
     },
     "execution_count": 110,
     "metadata": {},
     "output_type": "execute_result"
    }
   ],
   "source": [
    "# Fit a linear regression to our model and its results\n",
    "model = np.polyfit(glob_df[\"reddit_projection\"], glob_df[\"trade_positions\"], 1)\n",
    "predict = np.poly1d(model)\n",
    "r2 = r2_score(glob_df[\"trade_positions\"], predict(glob_df[\"reddit_projection\"]))\n",
    "r2"
   ]
  },
  {
   "cell_type": "code",
   "execution_count": 119,
   "metadata": {
    "scrolled": false
   },
   "outputs": [
    {
     "data": {
      "application/vnd.plotly.v1+json": {
       "config": {
        "plotlyServerURL": "https://plot.ly"
       },
       "data": [
        {
         "hovertemplate": "Subreddit Globalism=%{x}<br>Pro-Trade Positions=%{y}<br>candidate=%{text}<extra></extra>",
         "legendgroup": "",
         "marker": {
          "color": "#1F77B4",
          "symbol": "circle"
         },
         "mode": "markers+text",
         "name": "",
         "orientation": "v",
         "showlegend": false,
         "text": [
          "Biden",
          "Buttigieg",
          "Klobuchar",
          "Sanders",
          "Warren",
          "Yang"
         ],
         "textposition": "bottom center",
         "type": "scatter",
         "x": [
          0.12509914960101945,
          0.17899604675296305,
          0.13650216421514688,
          -0.0405993675400153,
          0.05158629181607037,
          0.17160445091136572
         ],
         "xaxis": "x",
         "y": [
          1,
          0,
          -1,
          -1,
          -1,
          0
         ],
         "yaxis": "y"
        },
        {
         "line": {
          "color": "rgba(0,0,160,0.3)",
          "dash": "dash",
          "width": 2
         },
         "mode": "lines",
         "name": "Linear Regression",
         "type": "scatter",
         "x": [
          -0.1,
          0.2
         ],
         "y": [
          -1.4021215608242632,
          0.17066827384812733
         ]
        }
       ],
       "layout": {
        "annotations": [
         {
          "showarrow": false,
          "text": "<b>Labelled Protectionist<br>Subreddit Trends Pascifistic</b>",
          "x": -0.060000000000000005,
          "xref": "x",
          "y": -1.496,
          "yref": "y"
         },
         {
          "showarrow": false,
          "text": "<b>Subreddit Trends Hawkish</b>",
          "x": 0.2,
          "xref": "x",
          "y": -1.53,
          "yref": "y"
         },
         {
          "showarrow": false,
          "text": "<b>Labelled Pro-Trade</b>",
          "x": -0.060000000000000005,
          "xref": "x",
          "y": 1.2,
          "yref": "y"
         },
         {
          "text": "r<sup>2</sup>=0.29",
          "x": 0.05,
          "xref": "x",
          "y": -0.6157266434880679,
          "yref": "y"
         }
        ],
        "legend": {
         "tracegroupgap": 0
        },
        "template": {
         "data": {
          "bar": [
           {
            "error_x": {
             "color": "rgb(36,36,36)"
            },
            "error_y": {
             "color": "rgb(36,36,36)"
            },
            "marker": {
             "line": {
              "color": "white",
              "width": 0.5
             }
            },
            "type": "bar"
           }
          ],
          "barpolar": [
           {
            "marker": {
             "line": {
              "color": "white",
              "width": 0.5
             }
            },
            "type": "barpolar"
           }
          ],
          "carpet": [
           {
            "aaxis": {
             "endlinecolor": "rgb(36,36,36)",
             "gridcolor": "white",
             "linecolor": "white",
             "minorgridcolor": "white",
             "startlinecolor": "rgb(36,36,36)"
            },
            "baxis": {
             "endlinecolor": "rgb(36,36,36)",
             "gridcolor": "white",
             "linecolor": "white",
             "minorgridcolor": "white",
             "startlinecolor": "rgb(36,36,36)"
            },
            "type": "carpet"
           }
          ],
          "choropleth": [
           {
            "colorbar": {
             "outlinewidth": 1,
             "tickcolor": "rgb(36,36,36)",
             "ticks": "outside"
            },
            "type": "choropleth"
           }
          ],
          "contour": [
           {
            "colorbar": {
             "outlinewidth": 1,
             "tickcolor": "rgb(36,36,36)",
             "ticks": "outside"
            },
            "colorscale": [
             [
              0,
              "#440154"
             ],
             [
              0.1111111111111111,
              "#482878"
             ],
             [
              0.2222222222222222,
              "#3e4989"
             ],
             [
              0.3333333333333333,
              "#31688e"
             ],
             [
              0.4444444444444444,
              "#26828e"
             ],
             [
              0.5555555555555556,
              "#1f9e89"
             ],
             [
              0.6666666666666666,
              "#35b779"
             ],
             [
              0.7777777777777778,
              "#6ece58"
             ],
             [
              0.8888888888888888,
              "#b5de2b"
             ],
             [
              1,
              "#fde725"
             ]
            ],
            "type": "contour"
           }
          ],
          "contourcarpet": [
           {
            "colorbar": {
             "outlinewidth": 1,
             "tickcolor": "rgb(36,36,36)",
             "ticks": "outside"
            },
            "type": "contourcarpet"
           }
          ],
          "heatmap": [
           {
            "colorbar": {
             "outlinewidth": 1,
             "tickcolor": "rgb(36,36,36)",
             "ticks": "outside"
            },
            "colorscale": [
             [
              0,
              "#440154"
             ],
             [
              0.1111111111111111,
              "#482878"
             ],
             [
              0.2222222222222222,
              "#3e4989"
             ],
             [
              0.3333333333333333,
              "#31688e"
             ],
             [
              0.4444444444444444,
              "#26828e"
             ],
             [
              0.5555555555555556,
              "#1f9e89"
             ],
             [
              0.6666666666666666,
              "#35b779"
             ],
             [
              0.7777777777777778,
              "#6ece58"
             ],
             [
              0.8888888888888888,
              "#b5de2b"
             ],
             [
              1,
              "#fde725"
             ]
            ],
            "type": "heatmap"
           }
          ],
          "heatmapgl": [
           {
            "colorbar": {
             "outlinewidth": 1,
             "tickcolor": "rgb(36,36,36)",
             "ticks": "outside"
            },
            "colorscale": [
             [
              0,
              "#440154"
             ],
             [
              0.1111111111111111,
              "#482878"
             ],
             [
              0.2222222222222222,
              "#3e4989"
             ],
             [
              0.3333333333333333,
              "#31688e"
             ],
             [
              0.4444444444444444,
              "#26828e"
             ],
             [
              0.5555555555555556,
              "#1f9e89"
             ],
             [
              0.6666666666666666,
              "#35b779"
             ],
             [
              0.7777777777777778,
              "#6ece58"
             ],
             [
              0.8888888888888888,
              "#b5de2b"
             ],
             [
              1,
              "#fde725"
             ]
            ],
            "type": "heatmapgl"
           }
          ],
          "histogram": [
           {
            "marker": {
             "line": {
              "color": "white",
              "width": 0.6
             }
            },
            "type": "histogram"
           }
          ],
          "histogram2d": [
           {
            "colorbar": {
             "outlinewidth": 1,
             "tickcolor": "rgb(36,36,36)",
             "ticks": "outside"
            },
            "colorscale": [
             [
              0,
              "#440154"
             ],
             [
              0.1111111111111111,
              "#482878"
             ],
             [
              0.2222222222222222,
              "#3e4989"
             ],
             [
              0.3333333333333333,
              "#31688e"
             ],
             [
              0.4444444444444444,
              "#26828e"
             ],
             [
              0.5555555555555556,
              "#1f9e89"
             ],
             [
              0.6666666666666666,
              "#35b779"
             ],
             [
              0.7777777777777778,
              "#6ece58"
             ],
             [
              0.8888888888888888,
              "#b5de2b"
             ],
             [
              1,
              "#fde725"
             ]
            ],
            "type": "histogram2d"
           }
          ],
          "histogram2dcontour": [
           {
            "colorbar": {
             "outlinewidth": 1,
             "tickcolor": "rgb(36,36,36)",
             "ticks": "outside"
            },
            "colorscale": [
             [
              0,
              "#440154"
             ],
             [
              0.1111111111111111,
              "#482878"
             ],
             [
              0.2222222222222222,
              "#3e4989"
             ],
             [
              0.3333333333333333,
              "#31688e"
             ],
             [
              0.4444444444444444,
              "#26828e"
             ],
             [
              0.5555555555555556,
              "#1f9e89"
             ],
             [
              0.6666666666666666,
              "#35b779"
             ],
             [
              0.7777777777777778,
              "#6ece58"
             ],
             [
              0.8888888888888888,
              "#b5de2b"
             ],
             [
              1,
              "#fde725"
             ]
            ],
            "type": "histogram2dcontour"
           }
          ],
          "mesh3d": [
           {
            "colorbar": {
             "outlinewidth": 1,
             "tickcolor": "rgb(36,36,36)",
             "ticks": "outside"
            },
            "type": "mesh3d"
           }
          ],
          "parcoords": [
           {
            "line": {
             "colorbar": {
              "outlinewidth": 1,
              "tickcolor": "rgb(36,36,36)",
              "ticks": "outside"
             }
            },
            "type": "parcoords"
           }
          ],
          "pie": [
           {
            "automargin": true,
            "type": "pie"
           }
          ],
          "scatter": [
           {
            "marker": {
             "colorbar": {
              "outlinewidth": 1,
              "tickcolor": "rgb(36,36,36)",
              "ticks": "outside"
             }
            },
            "type": "scatter"
           }
          ],
          "scatter3d": [
           {
            "line": {
             "colorbar": {
              "outlinewidth": 1,
              "tickcolor": "rgb(36,36,36)",
              "ticks": "outside"
             }
            },
            "marker": {
             "colorbar": {
              "outlinewidth": 1,
              "tickcolor": "rgb(36,36,36)",
              "ticks": "outside"
             }
            },
            "type": "scatter3d"
           }
          ],
          "scattercarpet": [
           {
            "marker": {
             "colorbar": {
              "outlinewidth": 1,
              "tickcolor": "rgb(36,36,36)",
              "ticks": "outside"
             }
            },
            "type": "scattercarpet"
           }
          ],
          "scattergeo": [
           {
            "marker": {
             "colorbar": {
              "outlinewidth": 1,
              "tickcolor": "rgb(36,36,36)",
              "ticks": "outside"
             }
            },
            "type": "scattergeo"
           }
          ],
          "scattergl": [
           {
            "marker": {
             "colorbar": {
              "outlinewidth": 1,
              "tickcolor": "rgb(36,36,36)",
              "ticks": "outside"
             }
            },
            "type": "scattergl"
           }
          ],
          "scattermapbox": [
           {
            "marker": {
             "colorbar": {
              "outlinewidth": 1,
              "tickcolor": "rgb(36,36,36)",
              "ticks": "outside"
             }
            },
            "type": "scattermapbox"
           }
          ],
          "scatterpolar": [
           {
            "marker": {
             "colorbar": {
              "outlinewidth": 1,
              "tickcolor": "rgb(36,36,36)",
              "ticks": "outside"
             }
            },
            "type": "scatterpolar"
           }
          ],
          "scatterpolargl": [
           {
            "marker": {
             "colorbar": {
              "outlinewidth": 1,
              "tickcolor": "rgb(36,36,36)",
              "ticks": "outside"
             }
            },
            "type": "scatterpolargl"
           }
          ],
          "scatterternary": [
           {
            "marker": {
             "colorbar": {
              "outlinewidth": 1,
              "tickcolor": "rgb(36,36,36)",
              "ticks": "outside"
             }
            },
            "type": "scatterternary"
           }
          ],
          "surface": [
           {
            "colorbar": {
             "outlinewidth": 1,
             "tickcolor": "rgb(36,36,36)",
             "ticks": "outside"
            },
            "colorscale": [
             [
              0,
              "#440154"
             ],
             [
              0.1111111111111111,
              "#482878"
             ],
             [
              0.2222222222222222,
              "#3e4989"
             ],
             [
              0.3333333333333333,
              "#31688e"
             ],
             [
              0.4444444444444444,
              "#26828e"
             ],
             [
              0.5555555555555556,
              "#1f9e89"
             ],
             [
              0.6666666666666666,
              "#35b779"
             ],
             [
              0.7777777777777778,
              "#6ece58"
             ],
             [
              0.8888888888888888,
              "#b5de2b"
             ],
             [
              1,
              "#fde725"
             ]
            ],
            "type": "surface"
           }
          ],
          "table": [
           {
            "cells": {
             "fill": {
              "color": "rgb(237,237,237)"
             },
             "line": {
              "color": "white"
             }
            },
            "header": {
             "fill": {
              "color": "rgb(217,217,217)"
             },
             "line": {
              "color": "white"
             }
            },
            "type": "table"
           }
          ]
         },
         "layout": {
          "annotationdefaults": {
           "arrowhead": 0,
           "arrowwidth": 1
          },
          "coloraxis": {
           "colorbar": {
            "outlinewidth": 1,
            "tickcolor": "rgb(36,36,36)",
            "ticks": "outside"
           }
          },
          "colorscale": {
           "diverging": [
            [
             0,
             "rgb(103,0,31)"
            ],
            [
             0.1,
             "rgb(178,24,43)"
            ],
            [
             0.2,
             "rgb(214,96,77)"
            ],
            [
             0.3,
             "rgb(244,165,130)"
            ],
            [
             0.4,
             "rgb(253,219,199)"
            ],
            [
             0.5,
             "rgb(247,247,247)"
            ],
            [
             0.6,
             "rgb(209,229,240)"
            ],
            [
             0.7,
             "rgb(146,197,222)"
            ],
            [
             0.8,
             "rgb(67,147,195)"
            ],
            [
             0.9,
             "rgb(33,102,172)"
            ],
            [
             1,
             "rgb(5,48,97)"
            ]
           ],
           "sequential": [
            [
             0,
             "#440154"
            ],
            [
             0.1111111111111111,
             "#482878"
            ],
            [
             0.2222222222222222,
             "#3e4989"
            ],
            [
             0.3333333333333333,
             "#31688e"
            ],
            [
             0.4444444444444444,
             "#26828e"
            ],
            [
             0.5555555555555556,
             "#1f9e89"
            ],
            [
             0.6666666666666666,
             "#35b779"
            ],
            [
             0.7777777777777778,
             "#6ece58"
            ],
            [
             0.8888888888888888,
             "#b5de2b"
            ],
            [
             1,
             "#fde725"
            ]
           ],
           "sequentialminus": [
            [
             0,
             "#440154"
            ],
            [
             0.1111111111111111,
             "#482878"
            ],
            [
             0.2222222222222222,
             "#3e4989"
            ],
            [
             0.3333333333333333,
             "#31688e"
            ],
            [
             0.4444444444444444,
             "#26828e"
            ],
            [
             0.5555555555555556,
             "#1f9e89"
            ],
            [
             0.6666666666666666,
             "#35b779"
            ],
            [
             0.7777777777777778,
             "#6ece58"
            ],
            [
             0.8888888888888888,
             "#b5de2b"
            ],
            [
             1,
             "#fde725"
            ]
           ]
          },
          "colorway": [
           "#1F77B4",
           "#FF7F0E",
           "#2CA02C",
           "#D62728",
           "#9467BD",
           "#8C564B",
           "#E377C2",
           "#7F7F7F",
           "#BCBD22",
           "#17BECF"
          ],
          "font": {
           "color": "rgb(36,36,36)"
          },
          "geo": {
           "bgcolor": "white",
           "lakecolor": "white",
           "landcolor": "white",
           "showlakes": true,
           "showland": true,
           "subunitcolor": "white"
          },
          "hoverlabel": {
           "align": "left"
          },
          "hovermode": "closest",
          "mapbox": {
           "style": "light"
          },
          "paper_bgcolor": "white",
          "plot_bgcolor": "white",
          "polar": {
           "angularaxis": {
            "gridcolor": "rgb(232,232,232)",
            "linecolor": "rgb(36,36,36)",
            "showgrid": false,
            "showline": true,
            "ticks": "outside"
           },
           "bgcolor": "white",
           "radialaxis": {
            "gridcolor": "rgb(232,232,232)",
            "linecolor": "rgb(36,36,36)",
            "showgrid": false,
            "showline": true,
            "ticks": "outside"
           }
          },
          "scene": {
           "xaxis": {
            "backgroundcolor": "white",
            "gridcolor": "rgb(232,232,232)",
            "gridwidth": 2,
            "linecolor": "rgb(36,36,36)",
            "showbackground": true,
            "showgrid": false,
            "showline": true,
            "ticks": "outside",
            "zeroline": false,
            "zerolinecolor": "rgb(36,36,36)"
           },
           "yaxis": {
            "backgroundcolor": "white",
            "gridcolor": "rgb(232,232,232)",
            "gridwidth": 2,
            "linecolor": "rgb(36,36,36)",
            "showbackground": true,
            "showgrid": false,
            "showline": true,
            "ticks": "outside",
            "zeroline": false,
            "zerolinecolor": "rgb(36,36,36)"
           },
           "zaxis": {
            "backgroundcolor": "white",
            "gridcolor": "rgb(232,232,232)",
            "gridwidth": 2,
            "linecolor": "rgb(36,36,36)",
            "showbackground": true,
            "showgrid": false,
            "showline": true,
            "ticks": "outside",
            "zeroline": false,
            "zerolinecolor": "rgb(36,36,36)"
           }
          },
          "shapedefaults": {
           "fillcolor": "black",
           "line": {
            "width": 0
           },
           "opacity": 0.3
          },
          "ternary": {
           "aaxis": {
            "gridcolor": "rgb(232,232,232)",
            "linecolor": "rgb(36,36,36)",
            "showgrid": false,
            "showline": true,
            "ticks": "outside"
           },
           "baxis": {
            "gridcolor": "rgb(232,232,232)",
            "linecolor": "rgb(36,36,36)",
            "showgrid": false,
            "showline": true,
            "ticks": "outside"
           },
           "bgcolor": "white",
           "caxis": {
            "gridcolor": "rgb(232,232,232)",
            "linecolor": "rgb(36,36,36)",
            "showgrid": false,
            "showline": true,
            "ticks": "outside"
           }
          },
          "title": {
           "x": 0.05
          },
          "xaxis": {
           "automargin": true,
           "gridcolor": "rgb(232,232,232)",
           "linecolor": "rgb(36,36,36)",
           "showgrid": false,
           "showline": true,
           "ticks": "outside",
           "title": {
            "standoff": 15
           },
           "zeroline": false,
           "zerolinecolor": "rgb(36,36,36)"
          },
          "yaxis": {
           "automargin": true,
           "gridcolor": "rgb(232,232,232)",
           "linecolor": "rgb(36,36,36)",
           "showgrid": false,
           "showline": true,
           "ticks": "outside",
           "title": {
            "standoff": 15
           },
           "zeroline": false,
           "zerolinecolor": "rgb(36,36,36)"
          }
         }
        },
        "title": {
         "text": "Subreddit Globalism Dimension Versus Number of Pro-Trade Policies"
        },
        "xaxis": {
         "anchor": "y",
         "domain": [
          0,
          1
         ],
         "range": [
          -0.1,
          0.2
         ],
         "title": {
          "text": "Subreddit Globalism"
         }
        },
        "yaxis": {
         "anchor": "x",
         "domain": [
          0,
          1
         ],
         "range": [
          -1.7,
          1.2
         ],
         "title": {
          "text": "Pro-Trade Positions"
         }
        }
       }
      },
      "text/html": [
       "<div>\n",
       "        \n",
       "        \n",
       "            <div id=\"adefcc43-d75d-4a7f-bb00-2bb39f73e4f7\" class=\"plotly-graph-div\" style=\"height:525px; width:100%;\"></div>\n",
       "            <script type=\"text/javascript\">\n",
       "                require([\"plotly\"], function(Plotly) {\n",
       "                    window.PLOTLYENV=window.PLOTLYENV || {};\n",
       "                    \n",
       "                if (document.getElementById(\"adefcc43-d75d-4a7f-bb00-2bb39f73e4f7\")) {\n",
       "                    Plotly.newPlot(\n",
       "                        'adefcc43-d75d-4a7f-bb00-2bb39f73e4f7',\n",
       "                        [{\"hovertemplate\": \"Subreddit Globalism=%{x}<br>Pro-Trade Positions=%{y}<br>candidate=%{text}<extra></extra>\", \"legendgroup\": \"\", \"marker\": {\"color\": \"#1F77B4\", \"symbol\": \"circle\"}, \"mode\": \"markers+text\", \"name\": \"\", \"orientation\": \"v\", \"showlegend\": false, \"text\": [\"Biden\", \"Buttigieg\", \"Klobuchar\", \"Sanders\", \"Warren\", \"Yang\"], \"textposition\": \"bottom center\", \"type\": \"scatter\", \"x\": [0.12509914960101945, 0.17899604675296305, 0.13650216421514688, -0.0405993675400153, 0.05158629181607037, 0.17160445091136572], \"xaxis\": \"x\", \"y\": [1.0, 0.0, -1.0, -1.0, -1.0, 0.0], \"yaxis\": \"y\"}, {\"line\": {\"color\": \"rgba(0,0,160,0.3)\", \"dash\": \"dash\", \"width\": 2}, \"mode\": \"lines\", \"name\": \"Linear Regression\", \"type\": \"scatter\", \"x\": [-0.1, 0.2], \"y\": [-1.4021215608242632, 0.17066827384812733]}],\n",
       "                        {\"annotations\": [{\"showarrow\": false, \"text\": \"<b>Labelled Protectionist<br>Subreddit Trends Pascifistic</b>\", \"x\": -0.060000000000000005, \"xref\": \"x\", \"y\": -1.496, \"yref\": \"y\"}, {\"showarrow\": false, \"text\": \"<b>Subreddit Trends Hawkish</b>\", \"x\": 0.2, \"xref\": \"x\", \"y\": -1.53, \"yref\": \"y\"}, {\"showarrow\": false, \"text\": \"<b>Labelled Pro-Trade</b>\", \"x\": -0.060000000000000005, \"xref\": \"x\", \"y\": 1.2, \"yref\": \"y\"}, {\"text\": \"r<sup>2</sup>=0.29\", \"x\": 0.05, \"xref\": \"x\", \"y\": -0.6157266434880679, \"yref\": \"y\"}], \"legend\": {\"tracegroupgap\": 0}, \"template\": {\"data\": {\"bar\": [{\"error_x\": {\"color\": \"rgb(36,36,36)\"}, \"error_y\": {\"color\": \"rgb(36,36,36)\"}, \"marker\": {\"line\": {\"color\": \"white\", \"width\": 0.5}}, \"type\": \"bar\"}], \"barpolar\": [{\"marker\": {\"line\": {\"color\": \"white\", \"width\": 0.5}}, \"type\": \"barpolar\"}], \"carpet\": [{\"aaxis\": {\"endlinecolor\": \"rgb(36,36,36)\", \"gridcolor\": \"white\", \"linecolor\": \"white\", \"minorgridcolor\": \"white\", \"startlinecolor\": \"rgb(36,36,36)\"}, \"baxis\": {\"endlinecolor\": \"rgb(36,36,36)\", \"gridcolor\": \"white\", \"linecolor\": \"white\", \"minorgridcolor\": \"white\", \"startlinecolor\": \"rgb(36,36,36)\"}, \"type\": \"carpet\"}], \"choropleth\": [{\"colorbar\": {\"outlinewidth\": 1, \"tickcolor\": \"rgb(36,36,36)\", \"ticks\": \"outside\"}, \"type\": \"choropleth\"}], \"contour\": [{\"colorbar\": {\"outlinewidth\": 1, \"tickcolor\": \"rgb(36,36,36)\", \"ticks\": \"outside\"}, \"colorscale\": [[0.0, \"#440154\"], [0.1111111111111111, \"#482878\"], [0.2222222222222222, \"#3e4989\"], [0.3333333333333333, \"#31688e\"], [0.4444444444444444, \"#26828e\"], [0.5555555555555556, \"#1f9e89\"], [0.6666666666666666, \"#35b779\"], [0.7777777777777778, \"#6ece58\"], [0.8888888888888888, \"#b5de2b\"], [1.0, \"#fde725\"]], \"type\": \"contour\"}], \"contourcarpet\": [{\"colorbar\": {\"outlinewidth\": 1, \"tickcolor\": \"rgb(36,36,36)\", \"ticks\": \"outside\"}, \"type\": \"contourcarpet\"}], \"heatmap\": [{\"colorbar\": {\"outlinewidth\": 1, \"tickcolor\": \"rgb(36,36,36)\", \"ticks\": \"outside\"}, \"colorscale\": [[0.0, \"#440154\"], [0.1111111111111111, \"#482878\"], [0.2222222222222222, \"#3e4989\"], [0.3333333333333333, \"#31688e\"], [0.4444444444444444, \"#26828e\"], [0.5555555555555556, \"#1f9e89\"], [0.6666666666666666, \"#35b779\"], [0.7777777777777778, \"#6ece58\"], [0.8888888888888888, \"#b5de2b\"], [1.0, \"#fde725\"]], \"type\": \"heatmap\"}], \"heatmapgl\": [{\"colorbar\": {\"outlinewidth\": 1, \"tickcolor\": \"rgb(36,36,36)\", \"ticks\": \"outside\"}, \"colorscale\": [[0.0, \"#440154\"], [0.1111111111111111, \"#482878\"], [0.2222222222222222, \"#3e4989\"], [0.3333333333333333, \"#31688e\"], [0.4444444444444444, \"#26828e\"], [0.5555555555555556, \"#1f9e89\"], [0.6666666666666666, \"#35b779\"], [0.7777777777777778, \"#6ece58\"], [0.8888888888888888, \"#b5de2b\"], [1.0, \"#fde725\"]], \"type\": \"heatmapgl\"}], \"histogram\": [{\"marker\": {\"line\": {\"color\": \"white\", \"width\": 0.6}}, \"type\": \"histogram\"}], \"histogram2d\": [{\"colorbar\": {\"outlinewidth\": 1, \"tickcolor\": \"rgb(36,36,36)\", \"ticks\": \"outside\"}, \"colorscale\": [[0.0, \"#440154\"], [0.1111111111111111, \"#482878\"], [0.2222222222222222, \"#3e4989\"], [0.3333333333333333, \"#31688e\"], [0.4444444444444444, \"#26828e\"], [0.5555555555555556, \"#1f9e89\"], [0.6666666666666666, \"#35b779\"], [0.7777777777777778, \"#6ece58\"], [0.8888888888888888, \"#b5de2b\"], [1.0, \"#fde725\"]], \"type\": \"histogram2d\"}], \"histogram2dcontour\": [{\"colorbar\": {\"outlinewidth\": 1, \"tickcolor\": \"rgb(36,36,36)\", \"ticks\": \"outside\"}, \"colorscale\": [[0.0, \"#440154\"], [0.1111111111111111, \"#482878\"], [0.2222222222222222, \"#3e4989\"], [0.3333333333333333, \"#31688e\"], [0.4444444444444444, \"#26828e\"], [0.5555555555555556, \"#1f9e89\"], [0.6666666666666666, \"#35b779\"], [0.7777777777777778, \"#6ece58\"], [0.8888888888888888, \"#b5de2b\"], [1.0, \"#fde725\"]], \"type\": \"histogram2dcontour\"}], \"mesh3d\": [{\"colorbar\": {\"outlinewidth\": 1, \"tickcolor\": \"rgb(36,36,36)\", \"ticks\": \"outside\"}, \"type\": \"mesh3d\"}], \"parcoords\": [{\"line\": {\"colorbar\": {\"outlinewidth\": 1, \"tickcolor\": \"rgb(36,36,36)\", \"ticks\": \"outside\"}}, \"type\": \"parcoords\"}], \"pie\": [{\"automargin\": true, \"type\": \"pie\"}], \"scatter\": [{\"marker\": {\"colorbar\": {\"outlinewidth\": 1, \"tickcolor\": \"rgb(36,36,36)\", \"ticks\": \"outside\"}}, \"type\": \"scatter\"}], \"scatter3d\": [{\"line\": {\"colorbar\": {\"outlinewidth\": 1, \"tickcolor\": \"rgb(36,36,36)\", \"ticks\": \"outside\"}}, \"marker\": {\"colorbar\": {\"outlinewidth\": 1, \"tickcolor\": \"rgb(36,36,36)\", \"ticks\": \"outside\"}}, \"type\": \"scatter3d\"}], \"scattercarpet\": [{\"marker\": {\"colorbar\": {\"outlinewidth\": 1, \"tickcolor\": \"rgb(36,36,36)\", \"ticks\": \"outside\"}}, \"type\": \"scattercarpet\"}], \"scattergeo\": [{\"marker\": {\"colorbar\": {\"outlinewidth\": 1, \"tickcolor\": \"rgb(36,36,36)\", \"ticks\": \"outside\"}}, \"type\": \"scattergeo\"}], \"scattergl\": [{\"marker\": {\"colorbar\": {\"outlinewidth\": 1, \"tickcolor\": \"rgb(36,36,36)\", \"ticks\": \"outside\"}}, \"type\": \"scattergl\"}], \"scattermapbox\": [{\"marker\": {\"colorbar\": {\"outlinewidth\": 1, \"tickcolor\": \"rgb(36,36,36)\", \"ticks\": \"outside\"}}, \"type\": \"scattermapbox\"}], \"scatterpolar\": [{\"marker\": {\"colorbar\": {\"outlinewidth\": 1, \"tickcolor\": \"rgb(36,36,36)\", \"ticks\": \"outside\"}}, \"type\": \"scatterpolar\"}], \"scatterpolargl\": [{\"marker\": {\"colorbar\": {\"outlinewidth\": 1, \"tickcolor\": \"rgb(36,36,36)\", \"ticks\": \"outside\"}}, \"type\": \"scatterpolargl\"}], \"scatterternary\": [{\"marker\": {\"colorbar\": {\"outlinewidth\": 1, \"tickcolor\": \"rgb(36,36,36)\", \"ticks\": \"outside\"}}, \"type\": \"scatterternary\"}], \"surface\": [{\"colorbar\": {\"outlinewidth\": 1, \"tickcolor\": \"rgb(36,36,36)\", \"ticks\": \"outside\"}, \"colorscale\": [[0.0, \"#440154\"], [0.1111111111111111, \"#482878\"], [0.2222222222222222, \"#3e4989\"], [0.3333333333333333, \"#31688e\"], [0.4444444444444444, \"#26828e\"], [0.5555555555555556, \"#1f9e89\"], [0.6666666666666666, \"#35b779\"], [0.7777777777777778, \"#6ece58\"], [0.8888888888888888, \"#b5de2b\"], [1.0, \"#fde725\"]], \"type\": \"surface\"}], \"table\": [{\"cells\": {\"fill\": {\"color\": \"rgb(237,237,237)\"}, \"line\": {\"color\": \"white\"}}, \"header\": {\"fill\": {\"color\": \"rgb(217,217,217)\"}, \"line\": {\"color\": \"white\"}}, \"type\": \"table\"}]}, \"layout\": {\"annotationdefaults\": {\"arrowhead\": 0, \"arrowwidth\": 1}, \"coloraxis\": {\"colorbar\": {\"outlinewidth\": 1, \"tickcolor\": \"rgb(36,36,36)\", \"ticks\": \"outside\"}}, \"colorscale\": {\"diverging\": [[0.0, \"rgb(103,0,31)\"], [0.1, \"rgb(178,24,43)\"], [0.2, \"rgb(214,96,77)\"], [0.3, \"rgb(244,165,130)\"], [0.4, \"rgb(253,219,199)\"], [0.5, \"rgb(247,247,247)\"], [0.6, \"rgb(209,229,240)\"], [0.7, \"rgb(146,197,222)\"], [0.8, \"rgb(67,147,195)\"], [0.9, \"rgb(33,102,172)\"], [1.0, \"rgb(5,48,97)\"]], \"sequential\": [[0.0, \"#440154\"], [0.1111111111111111, \"#482878\"], [0.2222222222222222, \"#3e4989\"], [0.3333333333333333, \"#31688e\"], [0.4444444444444444, \"#26828e\"], [0.5555555555555556, \"#1f9e89\"], [0.6666666666666666, \"#35b779\"], [0.7777777777777778, \"#6ece58\"], [0.8888888888888888, \"#b5de2b\"], [1.0, \"#fde725\"]], \"sequentialminus\": [[0.0, \"#440154\"], [0.1111111111111111, \"#482878\"], [0.2222222222222222, \"#3e4989\"], [0.3333333333333333, \"#31688e\"], [0.4444444444444444, \"#26828e\"], [0.5555555555555556, \"#1f9e89\"], [0.6666666666666666, \"#35b779\"], [0.7777777777777778, \"#6ece58\"], [0.8888888888888888, \"#b5de2b\"], [1.0, \"#fde725\"]]}, \"colorway\": [\"#1F77B4\", \"#FF7F0E\", \"#2CA02C\", \"#D62728\", \"#9467BD\", \"#8C564B\", \"#E377C2\", \"#7F7F7F\", \"#BCBD22\", \"#17BECF\"], \"font\": {\"color\": \"rgb(36,36,36)\"}, \"geo\": {\"bgcolor\": \"white\", \"lakecolor\": \"white\", \"landcolor\": \"white\", \"showlakes\": true, \"showland\": true, \"subunitcolor\": \"white\"}, \"hoverlabel\": {\"align\": \"left\"}, \"hovermode\": \"closest\", \"mapbox\": {\"style\": \"light\"}, \"paper_bgcolor\": \"white\", \"plot_bgcolor\": \"white\", \"polar\": {\"angularaxis\": {\"gridcolor\": \"rgb(232,232,232)\", \"linecolor\": \"rgb(36,36,36)\", \"showgrid\": false, \"showline\": true, \"ticks\": \"outside\"}, \"bgcolor\": \"white\", \"radialaxis\": {\"gridcolor\": \"rgb(232,232,232)\", \"linecolor\": \"rgb(36,36,36)\", \"showgrid\": false, \"showline\": true, \"ticks\": \"outside\"}}, \"scene\": {\"xaxis\": {\"backgroundcolor\": \"white\", \"gridcolor\": \"rgb(232,232,232)\", \"gridwidth\": 2, \"linecolor\": \"rgb(36,36,36)\", \"showbackground\": true, \"showgrid\": false, \"showline\": true, \"ticks\": \"outside\", \"zeroline\": false, \"zerolinecolor\": \"rgb(36,36,36)\"}, \"yaxis\": {\"backgroundcolor\": \"white\", \"gridcolor\": \"rgb(232,232,232)\", \"gridwidth\": 2, \"linecolor\": \"rgb(36,36,36)\", \"showbackground\": true, \"showgrid\": false, \"showline\": true, \"ticks\": \"outside\", \"zeroline\": false, \"zerolinecolor\": \"rgb(36,36,36)\"}, \"zaxis\": {\"backgroundcolor\": \"white\", \"gridcolor\": \"rgb(232,232,232)\", \"gridwidth\": 2, \"linecolor\": \"rgb(36,36,36)\", \"showbackground\": true, \"showgrid\": false, \"showline\": true, \"ticks\": \"outside\", \"zeroline\": false, \"zerolinecolor\": \"rgb(36,36,36)\"}}, \"shapedefaults\": {\"fillcolor\": \"black\", \"line\": {\"width\": 0}, \"opacity\": 0.3}, \"ternary\": {\"aaxis\": {\"gridcolor\": \"rgb(232,232,232)\", \"linecolor\": \"rgb(36,36,36)\", \"showgrid\": false, \"showline\": true, \"ticks\": \"outside\"}, \"baxis\": {\"gridcolor\": \"rgb(232,232,232)\", \"linecolor\": \"rgb(36,36,36)\", \"showgrid\": false, \"showline\": true, \"ticks\": \"outside\"}, \"bgcolor\": \"white\", \"caxis\": {\"gridcolor\": \"rgb(232,232,232)\", \"linecolor\": \"rgb(36,36,36)\", \"showgrid\": false, \"showline\": true, \"ticks\": \"outside\"}}, \"title\": {\"x\": 0.05}, \"xaxis\": {\"automargin\": true, \"gridcolor\": \"rgb(232,232,232)\", \"linecolor\": \"rgb(36,36,36)\", \"showgrid\": false, \"showline\": true, \"ticks\": \"outside\", \"title\": {\"standoff\": 15}, \"zeroline\": false, \"zerolinecolor\": \"rgb(36,36,36)\"}, \"yaxis\": {\"automargin\": true, \"gridcolor\": \"rgb(232,232,232)\", \"linecolor\": \"rgb(36,36,36)\", \"showgrid\": false, \"showline\": true, \"ticks\": \"outside\", \"title\": {\"standoff\": 15}, \"zeroline\": false, \"zerolinecolor\": \"rgb(36,36,36)\"}}}, \"title\": {\"text\": \"Subreddit Globalism Dimension Versus Number of Pro-Trade Policies\"}, \"xaxis\": {\"anchor\": \"y\", \"domain\": [0.0, 1.0], \"range\": [-0.1, 0.2], \"title\": {\"text\": \"Subreddit Globalism\"}}, \"yaxis\": {\"anchor\": \"x\", \"domain\": [0.0, 1.0], \"range\": [-1.7, 1.2], \"title\": {\"text\": \"Pro-Trade Positions\"}}},\n",
       "                        {\"responsive\": true}\n",
       "                    ).then(function(){\n",
       "                            \n",
       "var gd = document.getElementById('adefcc43-d75d-4a7f-bb00-2bb39f73e4f7');\n",
       "var x = new MutationObserver(function (mutations, observer) {{\n",
       "        var display = window.getComputedStyle(gd).display;\n",
       "        if (!display || display === 'none') {{\n",
       "            console.log([gd, 'removed!']);\n",
       "            Plotly.purge(gd);\n",
       "            observer.disconnect();\n",
       "        }}\n",
       "}});\n",
       "\n",
       "// Listen for the removal of the full notebook cells\n",
       "var notebookContainer = gd.closest('#notebook-container');\n",
       "if (notebookContainer) {{\n",
       "    x.observe(notebookContainer, {childList: true});\n",
       "}}\n",
       "\n",
       "// Listen for the clearing of the current output cell\n",
       "var outputEl = gd.closest('.output');\n",
       "if (outputEl) {{\n",
       "    x.observe(outputEl, {childList: true});\n",
       "}}\n",
       "\n",
       "                        })\n",
       "                };\n",
       "                });\n",
       "            </script>\n",
       "        </div>"
      ]
     },
     "metadata": {},
     "output_type": "display_data"
    }
   ],
   "source": [
    "# xmin, xmax = glob_df[\"reddit_projection\"].min()*1.3,glob_df[\"reddit_projection\"].max()+0.05\n",
    "# ymin, ymax = glob_df[\"trade_positions\"].min()*1.3,glob_df[\"trade_positions\"].max()*1.1\n",
    "xmin, xmax = -0.1,0.2\n",
    "ymin, ymax = -1.7, 1.2\n",
    "args = {\n",
    "    \"x\": \"reddit_projection\",\n",
    "    \"y\": \"trade_positions\",\n",
    "    \"text\": glob_df.index,\n",
    "    \"title\":  \"Subreddit Globalism Dimension Versus Number of Pro-Trade Policies\",\n",
    "    \"template\": \"simple_white\",\n",
    "    \"labels\": {\"reddit_projection\": \"Subreddit Globalism\", \"trade_positions\": \"Pro-Trade Positions\"},\n",
    "    \"range_x\": [xmin,xmax],\n",
    "    \"range_y\": [ymin,ymax],\n",
    "}\n",
    "\n",
    "annotations = [dict(x=xmin+0.04,y=ymin*0.88,xref=\"x\",yref=\"y\", text=\"<b>Labelled Protectionist<br>Subreddit Trends Pascifistic</b>\",showarrow=False),\n",
    "               dict(x=xmax,y=ymin*0.9,xref=\"x\",yref=\"y\", text=\"<b>Subreddit Trends Hawkish</b>\",showarrow=False),\n",
    "               dict(x=xmin+0.04,y=ymax,xref=\"x\",yref=\"y\", text=\"<b>Labelled Pro-Trade</b>\",showarrow=False),\n",
    "               dict(x=0.05,y=predict(0.05),xref=\"x\",yref=\"y\", text=\"r<sup>2</sup>={:.2f}\".format(r2)),\n",
    "              ]\n",
    "x = np.linspace(xmin,xmax,num=2)\n",
    "    \n",
    "fig = px.scatter(glob_df,**args)\n",
    "\n",
    "fig.update_traces(textposition='bottom center')\n",
    "fig.add_scatter(x=x,\n",
    "                y=predict(x),\n",
    "                mode='lines',\n",
    "                line=dict(dash=\"dash\",width=2,color=\"rgba(0,0,160,0.3)\"),\n",
    "                name=\"Linear Regression\"\n",
    "               )\n",
    "\n",
    "fig.update_layout(annotations=annotations)\n",
    "# fig.write_html(\"visualizations/PIIE-glob_dim.html\")\n",
    "fig.show()"
   ]
  },
  {
   "cell_type": "markdown",
   "metadata": {},
   "source": [
    "# Temporal Analysis \n",
    "\n",
    "How stable are the ideological dimensions of these subreddits"
   ]
  },
  {
   "cell_type": "code",
   "execution_count": 120,
   "metadata": {},
   "outputs": [
    {
     "data": {
      "text/plain": [
       "array(['Christianity', 'exchristian', 'TraditionalCatholics',\n",
       "       'excatholic', 'lds', 'exmormon', 'islam', 'exmuslim'], dtype='<U20')"
      ]
     },
     "execution_count": 120,
     "metadata": {},
     "output_type": "execute_result"
    }
   ],
   "source": [
    "project_dyn_dim = lambda dim,index,e : cos_sim(dim,e.loc[[x[0],x[1]]])\n",
    "t = np.array(religious_subs).flatten()\n",
    "t"
   ]
  },
  {
   "cell_type": "markdown",
   "metadata": {},
   "source": [
    "## Ideology"
   ]
  },
  {
   "cell_type": "code",
   "execution_count": 121,
   "metadata": {},
   "outputs": [
    {
     "data": {
      "text/html": [
       "<div>\n",
       "<style scoped>\n",
       "    .dataframe tbody tr th:only-of-type {\n",
       "        vertical-align: middle;\n",
       "    }\n",
       "\n",
       "    .dataframe tbody tr th {\n",
       "        vertical-align: top;\n",
       "    }\n",
       "\n",
       "    .dataframe thead th {\n",
       "        text-align: right;\n",
       "    }\n",
       "</style>\n",
       "<table border=\"1\" class=\"dataframe\">\n",
       "  <thead>\n",
       "    <tr style=\"text-align: right;\">\n",
       "      <th></th>\n",
       "      <th></th>\n",
       "      <th>1</th>\n",
       "      <th>2</th>\n",
       "      <th>3</th>\n",
       "      <th>4</th>\n",
       "      <th>5</th>\n",
       "      <th>6</th>\n",
       "      <th>7</th>\n",
       "      <th>8</th>\n",
       "      <th>9</th>\n",
       "      <th>10</th>\n",
       "      <th>...</th>\n",
       "      <th>141</th>\n",
       "      <th>142</th>\n",
       "      <th>143</th>\n",
       "      <th>144</th>\n",
       "      <th>145</th>\n",
       "      <th>146</th>\n",
       "      <th>147</th>\n",
       "      <th>148</th>\n",
       "      <th>149</th>\n",
       "      <th>150</th>\n",
       "    </tr>\n",
       "    <tr>\n",
       "      <th>date</th>\n",
       "      <th>subreddit</th>\n",
       "      <th></th>\n",
       "      <th></th>\n",
       "      <th></th>\n",
       "      <th></th>\n",
       "      <th></th>\n",
       "      <th></th>\n",
       "      <th></th>\n",
       "      <th></th>\n",
       "      <th></th>\n",
       "      <th></th>\n",
       "      <th></th>\n",
       "      <th></th>\n",
       "      <th></th>\n",
       "      <th></th>\n",
       "      <th></th>\n",
       "      <th></th>\n",
       "      <th></th>\n",
       "      <th></th>\n",
       "      <th></th>\n",
       "      <th></th>\n",
       "      <th></th>\n",
       "    </tr>\n",
       "  </thead>\n",
       "  <tbody>\n",
       "    <tr>\n",
       "      <th rowspan=\"5\" valign=\"top\">2019-01-01</th>\n",
       "      <th>1000ccplus</th>\n",
       "      <td>0.027411</td>\n",
       "      <td>0.007928</td>\n",
       "      <td>-0.109678</td>\n",
       "      <td>0.070665</td>\n",
       "      <td>-0.069335</td>\n",
       "      <td>0.036830</td>\n",
       "      <td>0.001487</td>\n",
       "      <td>0.000331</td>\n",
       "      <td>-0.048816</td>\n",
       "      <td>-0.112004</td>\n",
       "      <td>...</td>\n",
       "      <td>0.026002</td>\n",
       "      <td>-0.014206</td>\n",
       "      <td>-0.148223</td>\n",
       "      <td>0.058003</td>\n",
       "      <td>-0.006749</td>\n",
       "      <td>-0.219159</td>\n",
       "      <td>-0.141725</td>\n",
       "      <td>0.104762</td>\n",
       "      <td>0.065497</td>\n",
       "      <td>0.051957</td>\n",
       "    </tr>\n",
       "    <tr>\n",
       "      <th>100thieves</th>\n",
       "      <td>0.047010</td>\n",
       "      <td>0.089473</td>\n",
       "      <td>0.001833</td>\n",
       "      <td>-0.059464</td>\n",
       "      <td>0.099490</td>\n",
       "      <td>0.032410</td>\n",
       "      <td>-0.004810</td>\n",
       "      <td>-0.101613</td>\n",
       "      <td>0.066657</td>\n",
       "      <td>0.035370</td>\n",
       "      <td>...</td>\n",
       "      <td>0.001671</td>\n",
       "      <td>-0.028480</td>\n",
       "      <td>0.000751</td>\n",
       "      <td>0.120835</td>\n",
       "      <td>0.051996</td>\n",
       "      <td>-0.121277</td>\n",
       "      <td>-0.044962</td>\n",
       "      <td>0.003476</td>\n",
       "      <td>0.133735</td>\n",
       "      <td>0.006160</td>\n",
       "    </tr>\n",
       "    <tr>\n",
       "      <th>1022</th>\n",
       "      <td>0.030958</td>\n",
       "      <td>0.029023</td>\n",
       "      <td>0.031724</td>\n",
       "      <td>-0.102030</td>\n",
       "      <td>0.064858</td>\n",
       "      <td>-0.189088</td>\n",
       "      <td>0.021475</td>\n",
       "      <td>-0.152345</td>\n",
       "      <td>0.027263</td>\n",
       "      <td>-0.012738</td>\n",
       "      <td>...</td>\n",
       "      <td>-0.068612</td>\n",
       "      <td>0.034416</td>\n",
       "      <td>-0.161073</td>\n",
       "      <td>0.011924</td>\n",
       "      <td>0.000407</td>\n",
       "      <td>-0.135506</td>\n",
       "      <td>-0.117616</td>\n",
       "      <td>-0.023013</td>\n",
       "      <td>0.139499</td>\n",
       "      <td>-0.052780</td>\n",
       "    </tr>\n",
       "    <tr>\n",
       "      <th>1200isfineIGUESSugh</th>\n",
       "      <td>0.093791</td>\n",
       "      <td>-0.000252</td>\n",
       "      <td>0.002537</td>\n",
       "      <td>0.099571</td>\n",
       "      <td>0.105243</td>\n",
       "      <td>0.032816</td>\n",
       "      <td>0.049385</td>\n",
       "      <td>-0.133215</td>\n",
       "      <td>0.117549</td>\n",
       "      <td>-0.070538</td>\n",
       "      <td>...</td>\n",
       "      <td>0.016156</td>\n",
       "      <td>-0.073431</td>\n",
       "      <td>-0.073697</td>\n",
       "      <td>0.045124</td>\n",
       "      <td>-0.045725</td>\n",
       "      <td>-0.030220</td>\n",
       "      <td>0.114463</td>\n",
       "      <td>-0.010067</td>\n",
       "      <td>0.100510</td>\n",
       "      <td>0.064892</td>\n",
       "    </tr>\n",
       "    <tr>\n",
       "      <th>1200isjerky</th>\n",
       "      <td>0.154488</td>\n",
       "      <td>0.057273</td>\n",
       "      <td>-0.018089</td>\n",
       "      <td>0.143122</td>\n",
       "      <td>0.095987</td>\n",
       "      <td>0.111545</td>\n",
       "      <td>0.023787</td>\n",
       "      <td>-0.171960</td>\n",
       "      <td>0.020003</td>\n",
       "      <td>-0.040333</td>\n",
       "      <td>...</td>\n",
       "      <td>0.080083</td>\n",
       "      <td>-0.089391</td>\n",
       "      <td>-0.109960</td>\n",
       "      <td>0.059116</td>\n",
       "      <td>-0.077729</td>\n",
       "      <td>-0.000051</td>\n",
       "      <td>0.170306</td>\n",
       "      <td>-0.042596</td>\n",
       "      <td>-0.043461</td>\n",
       "      <td>0.066343</td>\n",
       "    </tr>\n",
       "    <tr>\n",
       "      <th>...</th>\n",
       "      <th>...</th>\n",
       "      <td>...</td>\n",
       "      <td>...</td>\n",
       "      <td>...</td>\n",
       "      <td>...</td>\n",
       "      <td>...</td>\n",
       "      <td>...</td>\n",
       "      <td>...</td>\n",
       "      <td>...</td>\n",
       "      <td>...</td>\n",
       "      <td>...</td>\n",
       "      <td>...</td>\n",
       "      <td>...</td>\n",
       "      <td>...</td>\n",
       "      <td>...</td>\n",
       "      <td>...</td>\n",
       "      <td>...</td>\n",
       "      <td>...</td>\n",
       "      <td>...</td>\n",
       "      <td>...</td>\n",
       "      <td>...</td>\n",
       "      <td>...</td>\n",
       "    </tr>\n",
       "    <tr>\n",
       "      <th rowspan=\"5\" valign=\"top\">2019-12-01</th>\n",
       "      <th>zoemains</th>\n",
       "      <td>0.031772</td>\n",
       "      <td>0.026607</td>\n",
       "      <td>0.012095</td>\n",
       "      <td>0.093933</td>\n",
       "      <td>0.100424</td>\n",
       "      <td>-0.005248</td>\n",
       "      <td>-0.067083</td>\n",
       "      <td>-0.065163</td>\n",
       "      <td>0.068851</td>\n",
       "      <td>0.039087</td>\n",
       "      <td>...</td>\n",
       "      <td>0.113103</td>\n",
       "      <td>0.030495</td>\n",
       "      <td>0.039067</td>\n",
       "      <td>0.074273</td>\n",
       "      <td>-0.039663</td>\n",
       "      <td>-0.104319</td>\n",
       "      <td>-0.043474</td>\n",
       "      <td>0.028903</td>\n",
       "      <td>0.022581</td>\n",
       "      <td>0.012715</td>\n",
       "    </tr>\n",
       "    <tr>\n",
       "      <th>zoloft</th>\n",
       "      <td>-0.015821</td>\n",
       "      <td>0.053895</td>\n",
       "      <td>-0.015671</td>\n",
       "      <td>0.113680</td>\n",
       "      <td>0.057699</td>\n",
       "      <td>0.082132</td>\n",
       "      <td>0.021603</td>\n",
       "      <td>0.030836</td>\n",
       "      <td>0.009351</td>\n",
       "      <td>-0.128631</td>\n",
       "      <td>...</td>\n",
       "      <td>-0.082551</td>\n",
       "      <td>-0.100545</td>\n",
       "      <td>-0.115522</td>\n",
       "      <td>0.002291</td>\n",
       "      <td>0.068781</td>\n",
       "      <td>-0.151290</td>\n",
       "      <td>0.019573</td>\n",
       "      <td>-0.045880</td>\n",
       "      <td>0.128124</td>\n",
       "      <td>-0.044593</td>\n",
       "    </tr>\n",
       "    <tr>\n",
       "      <th>zombies</th>\n",
       "      <td>0.013930</td>\n",
       "      <td>-0.102829</td>\n",
       "      <td>-0.008978</td>\n",
       "      <td>0.036583</td>\n",
       "      <td>-0.085338</td>\n",
       "      <td>-0.022046</td>\n",
       "      <td>-0.069338</td>\n",
       "      <td>0.005291</td>\n",
       "      <td>-0.076649</td>\n",
       "      <td>0.006726</td>\n",
       "      <td>...</td>\n",
       "      <td>0.009584</td>\n",
       "      <td>0.051413</td>\n",
       "      <td>0.003283</td>\n",
       "      <td>0.016159</td>\n",
       "      <td>-0.068776</td>\n",
       "      <td>-0.000747</td>\n",
       "      <td>-0.069661</td>\n",
       "      <td>0.161934</td>\n",
       "      <td>-0.062454</td>\n",
       "      <td>0.044292</td>\n",
       "    </tr>\n",
       "    <tr>\n",
       "      <th>zootopia</th>\n",
       "      <td>-0.071352</td>\n",
       "      <td>0.014392</td>\n",
       "      <td>0.082478</td>\n",
       "      <td>0.164587</td>\n",
       "      <td>0.077086</td>\n",
       "      <td>-0.052253</td>\n",
       "      <td>-0.072058</td>\n",
       "      <td>-0.082849</td>\n",
       "      <td>0.004199</td>\n",
       "      <td>-0.033957</td>\n",
       "      <td>...</td>\n",
       "      <td>0.102761</td>\n",
       "      <td>-0.031334</td>\n",
       "      <td>-0.038930</td>\n",
       "      <td>0.126400</td>\n",
       "      <td>-0.038243</td>\n",
       "      <td>0.063623</td>\n",
       "      <td>-0.099276</td>\n",
       "      <td>-0.018593</td>\n",
       "      <td>0.043465</td>\n",
       "      <td>-0.016386</td>\n",
       "    </tr>\n",
       "    <tr>\n",
       "      <th>zurich</th>\n",
       "      <td>0.085357</td>\n",
       "      <td>-0.071645</td>\n",
       "      <td>-0.176382</td>\n",
       "      <td>-0.059816</td>\n",
       "      <td>0.092763</td>\n",
       "      <td>0.107670</td>\n",
       "      <td>-0.131393</td>\n",
       "      <td>-0.077398</td>\n",
       "      <td>0.005380</td>\n",
       "      <td>0.068437</td>\n",
       "      <td>...</td>\n",
       "      <td>0.140103</td>\n",
       "      <td>0.114566</td>\n",
       "      <td>-0.123826</td>\n",
       "      <td>0.036651</td>\n",
       "      <td>-0.008637</td>\n",
       "      <td>-0.080500</td>\n",
       "      <td>-0.019299</td>\n",
       "      <td>0.087896</td>\n",
       "      <td>0.109984</td>\n",
       "      <td>-0.076567</td>\n",
       "    </tr>\n",
       "  </tbody>\n",
       "</table>\n",
       "<p>120825 rows × 150 columns</p>\n",
       "</div>"
      ],
      "text/plain": [
       "                                     1         2         3         4    \\\n",
       "date       subreddit                                                     \n",
       "2019-01-01 1000ccplus           0.027411  0.007928 -0.109678  0.070665   \n",
       "           100thieves           0.047010  0.089473  0.001833 -0.059464   \n",
       "           1022                 0.030958  0.029023  0.031724 -0.102030   \n",
       "           1200isfineIGUESSugh  0.093791 -0.000252  0.002537  0.099571   \n",
       "           1200isjerky          0.154488  0.057273 -0.018089  0.143122   \n",
       "...                                  ...       ...       ...       ...   \n",
       "2019-12-01 zoemains             0.031772  0.026607  0.012095  0.093933   \n",
       "           zoloft              -0.015821  0.053895 -0.015671  0.113680   \n",
       "           zombies              0.013930 -0.102829 -0.008978  0.036583   \n",
       "           zootopia            -0.071352  0.014392  0.082478  0.164587   \n",
       "           zurich               0.085357 -0.071645 -0.176382 -0.059816   \n",
       "\n",
       "                                     5         6         7         8    \\\n",
       "date       subreddit                                                     \n",
       "2019-01-01 1000ccplus          -0.069335  0.036830  0.001487  0.000331   \n",
       "           100thieves           0.099490  0.032410 -0.004810 -0.101613   \n",
       "           1022                 0.064858 -0.189088  0.021475 -0.152345   \n",
       "           1200isfineIGUESSugh  0.105243  0.032816  0.049385 -0.133215   \n",
       "           1200isjerky          0.095987  0.111545  0.023787 -0.171960   \n",
       "...                                  ...       ...       ...       ...   \n",
       "2019-12-01 zoemains             0.100424 -0.005248 -0.067083 -0.065163   \n",
       "           zoloft               0.057699  0.082132  0.021603  0.030836   \n",
       "           zombies             -0.085338 -0.022046 -0.069338  0.005291   \n",
       "           zootopia             0.077086 -0.052253 -0.072058 -0.082849   \n",
       "           zurich               0.092763  0.107670 -0.131393 -0.077398   \n",
       "\n",
       "                                     9         10   ...       141       142  \\\n",
       "date       subreddit                                ...                       \n",
       "2019-01-01 1000ccplus          -0.048816 -0.112004  ...  0.026002 -0.014206   \n",
       "           100thieves           0.066657  0.035370  ...  0.001671 -0.028480   \n",
       "           1022                 0.027263 -0.012738  ... -0.068612  0.034416   \n",
       "           1200isfineIGUESSugh  0.117549 -0.070538  ...  0.016156 -0.073431   \n",
       "           1200isjerky          0.020003 -0.040333  ...  0.080083 -0.089391   \n",
       "...                                  ...       ...  ...       ...       ...   \n",
       "2019-12-01 zoemains             0.068851  0.039087  ...  0.113103  0.030495   \n",
       "           zoloft               0.009351 -0.128631  ... -0.082551 -0.100545   \n",
       "           zombies             -0.076649  0.006726  ...  0.009584  0.051413   \n",
       "           zootopia             0.004199 -0.033957  ...  0.102761 -0.031334   \n",
       "           zurich               0.005380  0.068437  ...  0.140103  0.114566   \n",
       "\n",
       "                                     143       144       145       146  \\\n",
       "date       subreddit                                                     \n",
       "2019-01-01 1000ccplus          -0.148223  0.058003 -0.006749 -0.219159   \n",
       "           100thieves           0.000751  0.120835  0.051996 -0.121277   \n",
       "           1022                -0.161073  0.011924  0.000407 -0.135506   \n",
       "           1200isfineIGUESSugh -0.073697  0.045124 -0.045725 -0.030220   \n",
       "           1200isjerky         -0.109960  0.059116 -0.077729 -0.000051   \n",
       "...                                  ...       ...       ...       ...   \n",
       "2019-12-01 zoemains             0.039067  0.074273 -0.039663 -0.104319   \n",
       "           zoloft              -0.115522  0.002291  0.068781 -0.151290   \n",
       "           zombies              0.003283  0.016159 -0.068776 -0.000747   \n",
       "           zootopia            -0.038930  0.126400 -0.038243  0.063623   \n",
       "           zurich              -0.123826  0.036651 -0.008637 -0.080500   \n",
       "\n",
       "                                     147       148       149       150  \n",
       "date       subreddit                                                    \n",
       "2019-01-01 1000ccplus          -0.141725  0.104762  0.065497  0.051957  \n",
       "           100thieves          -0.044962  0.003476  0.133735  0.006160  \n",
       "           1022                -0.117616 -0.023013  0.139499 -0.052780  \n",
       "           1200isfineIGUESSugh  0.114463 -0.010067  0.100510  0.064892  \n",
       "           1200isjerky          0.170306 -0.042596 -0.043461  0.066343  \n",
       "...                                  ...       ...       ...       ...  \n",
       "2019-12-01 zoemains            -0.043474  0.028903  0.022581  0.012715  \n",
       "           zoloft               0.019573 -0.045880  0.128124 -0.044593  \n",
       "           zombies             -0.069661  0.161934 -0.062454  0.044292  \n",
       "           zootopia            -0.099276 -0.018593  0.043465 -0.016386  \n",
       "           zurich              -0.019299  0.087896  0.109984 -0.076567  \n",
       "\n",
       "[120825 rows x 150 columns]"
      ]
     },
     "execution_count": 121,
     "metadata": {},
     "output_type": "execute_result"
    }
   ],
   "source": [
    "subs, dynamic_embedding = load_embedding(\"/h/224/cameron/Political-Subreddit-Embedding/trained_embeddings/temporal/{}/{}_vecs_0.0028_15.txt\".format(TIME_FRAME,TIME_FRAME))\n",
    "subs = pd.DataFrame(subs.apply(lambda x : parse_tup(x,date_str=\"%d/%m/%Y\")).tolist())\n",
    "dynamic_embedding[[\"subreddit\",\"date\"]] = subs\n",
    "dynamic_embedding[\"date\"] = pd.to_datetime(dynamic_embedding[\"date\"])\n",
    "# dynamic_embedding = dynamic_embedding[dynamic_embedding.subreddit.isin(t)].set_index([\"date\",\"subreddit\"])\n",
    "dynamic_embedding = dynamic_embedding.set_index([\"date\",\"subreddit\"])\n",
    "dynamic_embedding = dynamic_embedding.reorder_levels(['date','subreddit']).sort_values([\"date\",\"subreddit\"])\n",
    "dynamic_embedding"
   ]
  },
  {
   "cell_type": "code",
   "execution_count": 127,
   "metadata": {},
   "outputs": [
    {
     "data": {
      "application/vnd.jupyter.widget-view+json": {
       "model_id": "303d7aab5c7d49cd82e6464d544290cb",
       "version_major": 2,
       "version_minor": 0
      },
      "text/plain": [
       "HBox(children=(FloatProgress(value=0.0, max=3.0), HTML(value='')))"
      ]
     },
     "metadata": {},
     "output_type": "display_data"
    },
    {
     "name": "stdout",
     "output_type": "stream",
     "text": [
      "\n"
     ]
    },
    {
     "data": {
      "text/html": [
       "<div>\n",
       "<style scoped>\n",
       "    .dataframe tbody tr th:only-of-type {\n",
       "        vertical-align: middle;\n",
       "    }\n",
       "\n",
       "    .dataframe tbody tr th {\n",
       "        vertical-align: top;\n",
       "    }\n",
       "\n",
       "    .dataframe thead th {\n",
       "        text-align: right;\n",
       "    }\n",
       "</style>\n",
       "<table border=\"1\" class=\"dataframe\">\n",
       "  <thead>\n",
       "    <tr style=\"text-align: right;\">\n",
       "      <th></th>\n",
       "      <th></th>\n",
       "      <th>Birth Control</th>\n",
       "      <th>Gun Control</th>\n",
       "      <th>Age</th>\n",
       "    </tr>\n",
       "    <tr>\n",
       "      <th>date</th>\n",
       "      <th>subreddit</th>\n",
       "      <th></th>\n",
       "      <th></th>\n",
       "      <th></th>\n",
       "    </tr>\n",
       "  </thead>\n",
       "  <tbody>\n",
       "    <tr>\n",
       "      <th rowspan=\"5\" valign=\"top\">2019-01-01</th>\n",
       "      <th>BaemyKlobaechar</th>\n",
       "      <td>0.077644</td>\n",
       "      <td>-0.185474</td>\n",
       "      <td>0.128817</td>\n",
       "    </tr>\n",
       "    <tr>\n",
       "      <th>ElizabethWarren</th>\n",
       "      <td>-0.053515</td>\n",
       "      <td>-0.197818</td>\n",
       "      <td>0.253458</td>\n",
       "    </tr>\n",
       "    <tr>\n",
       "      <th>JoeBiden</th>\n",
       "      <td>-0.057220</td>\n",
       "      <td>-0.131933</td>\n",
       "      <td>0.019349</td>\n",
       "    </tr>\n",
       "    <tr>\n",
       "      <th>Pete_Buttigieg</th>\n",
       "      <td>0.003203</td>\n",
       "      <td>-0.084969</td>\n",
       "      <td>0.034539</td>\n",
       "    </tr>\n",
       "    <tr>\n",
       "      <th>SandersForPresident</th>\n",
       "      <td>-0.007271</td>\n",
       "      <td>-0.136542</td>\n",
       "      <td>0.046909</td>\n",
       "    </tr>\n",
       "    <tr>\n",
       "      <th>...</th>\n",
       "      <th>...</th>\n",
       "      <td>...</td>\n",
       "      <td>...</td>\n",
       "      <td>...</td>\n",
       "    </tr>\n",
       "    <tr>\n",
       "      <th rowspan=\"5\" valign=\"top\">2019-12-01</th>\n",
       "      <th>ElizabethWarren</th>\n",
       "      <td>-0.148527</td>\n",
       "      <td>-0.239018</td>\n",
       "      <td>0.106177</td>\n",
       "    </tr>\n",
       "    <tr>\n",
       "      <th>JoeBiden</th>\n",
       "      <td>0.077976</td>\n",
       "      <td>-0.166710</td>\n",
       "      <td>0.080298</td>\n",
       "    </tr>\n",
       "    <tr>\n",
       "      <th>Pete_Buttigieg</th>\n",
       "      <td>-0.016685</td>\n",
       "      <td>-0.148539</td>\n",
       "      <td>0.058644</td>\n",
       "    </tr>\n",
       "    <tr>\n",
       "      <th>SandersForPresident</th>\n",
       "      <td>-0.058219</td>\n",
       "      <td>-0.091050</td>\n",
       "      <td>-0.027595</td>\n",
       "    </tr>\n",
       "    <tr>\n",
       "      <th>YangForPresidentHQ</th>\n",
       "      <td>-0.006492</td>\n",
       "      <td>0.065746</td>\n",
       "      <td>-0.095434</td>\n",
       "    </tr>\n",
       "  </tbody>\n",
       "</table>\n",
       "<p>72 rows × 3 columns</p>\n",
       "</div>"
      ],
      "text/plain": [
       "                                Birth Control  Gun Control       Age\n",
       "date       subreddit                                                \n",
       "2019-01-01 BaemyKlobaechar           0.077644    -0.185474  0.128817\n",
       "           ElizabethWarren          -0.053515    -0.197818  0.253458\n",
       "           JoeBiden                 -0.057220    -0.131933  0.019349\n",
       "           Pete_Buttigieg            0.003203    -0.084969  0.034539\n",
       "           SandersForPresident      -0.007271    -0.136542  0.046909\n",
       "...                                       ...          ...       ...\n",
       "2019-12-01 ElizabethWarren          -0.148527    -0.239018  0.106177\n",
       "           JoeBiden                  0.077976    -0.166710  0.080298\n",
       "           Pete_Buttigieg           -0.016685    -0.148539  0.058644\n",
       "           SandersForPresident      -0.058219    -0.091050 -0.027595\n",
       "           YangForPresidentHQ       -0.006492     0.065746 -0.095434\n",
       "\n",
       "[72 rows x 3 columns]"
      ]
     },
     "execution_count": 127,
     "metadata": {},
     "output_type": "execute_result"
    }
   ],
   "source": [
    "dim_df = pd.DataFrame(index=dynamic_embedding.index)\n",
    "t_ds = dims[2:5]\n",
    "for dim in tqdm(dims[2:5]):\n",
    "    dim_mat = []\n",
    "    for date, sub_embedding in dynamic_embedding.groupby(level=0):\n",
    "        # Drop date from multiindex -> single index\n",
    "        sub_embedding = sub_embedding.droplevel(level=0)\n",
    "        dim_mat.append(calculate_dim(dim.subreddits,sub_embedding))\n",
    "    i_dim = np.mean(dim_mat,axis=0)\n",
    "        \n",
    "#     i_dim = calculate_dim(dim.subreddits,embedding)\n",
    "    dim_df[dim.name] = dynamic_embedding.apply(lambda x : cos_sim(x,i_dim),axis=1)\n",
    "\n",
    "dim_df = dim_df.reset_index()\n",
    "dim_df = dim_df[dim_df[\"subreddit\"].isin(cand_subs)].set_index([\"date\",\"subreddit\"])\n",
    "dim_df "
   ]
  },
  {
   "cell_type": "code",
   "execution_count": 129,
   "metadata": {
    "scrolled": false
   },
   "outputs": [
    {
     "data": {
      "application/vnd.plotly.v1+json": {
       "config": {
        "plotlyServerURL": "https://plot.ly"
       },
       "data": [
        {
         "legendgroup": "BaemyKlobaechar",
         "line": {
          "color": "#00CC96",
          "shape": "spline"
         },
         "mode": "lines",
         "name": "BaemyKlobaechar",
         "showlegend": true,
         "type": "scatter",
         "x": [
          "2019-01-01T00:00:00",
          "2019-02-01T00:00:00",
          "2019-03-01T00:00:00",
          "2019-04-01T00:00:00",
          "2019-05-01T00:00:00",
          "2019-06-01T00:00:00",
          "2019-07-01T00:00:00",
          "2019-08-01T00:00:00",
          "2019-09-01T00:00:00",
          "2019-10-01T00:00:00",
          "2019-11-01T00:00:00",
          "2019-12-01T00:00:00"
         ],
         "xaxis": "x",
         "y": [
          0.07764432953183875,
          0.08037399909858936,
          -0.016231931876416868,
          0.02476510377873722,
          0.14149366829174725,
          0.07907010250666265,
          -0.09625445284851505,
          -0.03796076920493514,
          0.07644727860941133,
          -0.005375324847637733,
          0.02588984638196823,
          0.1522176578816959
         ],
         "yaxis": "y"
        },
        {
         "legendgroup": "ElizabethWarren",
         "line": {
          "color": "#AB63FA",
          "shape": "spline"
         },
         "mode": "lines",
         "name": "ElizabethWarren",
         "showlegend": true,
         "type": "scatter",
         "x": [
          "2019-01-01T00:00:00",
          "2019-02-01T00:00:00",
          "2019-03-01T00:00:00",
          "2019-04-01T00:00:00",
          "2019-05-01T00:00:00",
          "2019-06-01T00:00:00",
          "2019-07-01T00:00:00",
          "2019-08-01T00:00:00",
          "2019-09-01T00:00:00",
          "2019-10-01T00:00:00",
          "2019-11-01T00:00:00",
          "2019-12-01T00:00:00"
         ],
         "xaxis": "x",
         "y": [
          -0.0535146181647759,
          -0.05019094387107277,
          -0.0015938267712970761,
          -0.06489637639474288,
          -0.06691424089057704,
          -0.13046920055635444,
          -0.060619591966938474,
          -0.07120914304145458,
          -0.06964239344304304,
          -0.08087066653505436,
          -0.10591023390883147,
          -0.14852669213817984
         ],
         "yaxis": "y"
        },
        {
         "legendgroup": "JoeBiden",
         "line": {
          "color": "#636EFA",
          "shape": "spline"
         },
         "mode": "lines",
         "name": "JoeBiden",
         "showlegend": true,
         "type": "scatter",
         "x": [
          "2019-01-01T00:00:00",
          "2019-02-01T00:00:00",
          "2019-03-01T00:00:00",
          "2019-04-01T00:00:00",
          "2019-05-01T00:00:00",
          "2019-06-01T00:00:00",
          "2019-07-01T00:00:00",
          "2019-08-01T00:00:00",
          "2019-09-01T00:00:00",
          "2019-10-01T00:00:00",
          "2019-11-01T00:00:00",
          "2019-12-01T00:00:00"
         ],
         "xaxis": "x",
         "y": [
          -0.05721972364809424,
          0.10709074127420116,
          0.033118492553933586,
          0.05360325809275335,
          0.09490118247267883,
          0.1019971488376713,
          0.08848496009512162,
          0.1264709770645094,
          0.07144245419579293,
          0.03450231735941783,
          0.02182883688376857,
          0.07797604616908452
         ],
         "yaxis": "y"
        },
        {
         "legendgroup": "Pete_Buttigieg",
         "line": {
          "color": "#FFA15A",
          "shape": "spline"
         },
         "mode": "lines",
         "name": "Pete_Buttigieg",
         "showlegend": true,
         "type": "scatter",
         "x": [
          "2019-01-01T00:00:00",
          "2019-02-01T00:00:00",
          "2019-03-01T00:00:00",
          "2019-04-01T00:00:00",
          "2019-05-01T00:00:00",
          "2019-06-01T00:00:00",
          "2019-07-01T00:00:00",
          "2019-08-01T00:00:00",
          "2019-09-01T00:00:00",
          "2019-10-01T00:00:00",
          "2019-11-01T00:00:00",
          "2019-12-01T00:00:00"
         ],
         "xaxis": "x",
         "y": [
          0.0032028144588405684,
          -0.020354176092047017,
          -0.06644026777151577,
          -0.023211394235385183,
          -0.0016069926717640255,
          0.004444669848290913,
          -0.013701522670157434,
          -0.05139077014353032,
          -0.032800207711937195,
          -0.017378997865963457,
          -0.03012452096943153,
          -0.016684946684447782
         ],
         "yaxis": "y"
        },
        {
         "legendgroup": "SandersForPresident",
         "line": {
          "color": "#EF553B",
          "shape": "spline"
         },
         "mode": "lines",
         "name": "SandersForPresident",
         "showlegend": true,
         "type": "scatter",
         "x": [
          "2019-01-01T00:00:00",
          "2019-02-01T00:00:00",
          "2019-03-01T00:00:00",
          "2019-04-01T00:00:00",
          "2019-05-01T00:00:00",
          "2019-06-01T00:00:00",
          "2019-07-01T00:00:00",
          "2019-08-01T00:00:00",
          "2019-09-01T00:00:00",
          "2019-10-01T00:00:00",
          "2019-11-01T00:00:00",
          "2019-12-01T00:00:00"
         ],
         "xaxis": "x",
         "y": [
          -0.007271083465431348,
          0.00965819614741215,
          -0.009282807337233544,
          -0.020758848255578635,
          -0.016756053021423172,
          0.05256209465542419,
          -0.0354832127195489,
          -0.013829814535959658,
          -0.029984203959731802,
          -0.06427293358723517,
          -0.08421031314769577,
          -0.05821853784649655
         ],
         "yaxis": "y"
        },
        {
         "legendgroup": "YangForPresidentHQ",
         "line": {
          "color": "#19D3F3",
          "shape": "spline"
         },
         "mode": "lines",
         "name": "YangForPresidentHQ",
         "showlegend": true,
         "type": "scatter",
         "x": [
          "2019-01-01T00:00:00",
          "2019-02-01T00:00:00",
          "2019-03-01T00:00:00",
          "2019-04-01T00:00:00",
          "2019-05-01T00:00:00",
          "2019-06-01T00:00:00",
          "2019-07-01T00:00:00",
          "2019-08-01T00:00:00",
          "2019-09-01T00:00:00",
          "2019-10-01T00:00:00",
          "2019-11-01T00:00:00",
          "2019-12-01T00:00:00"
         ],
         "xaxis": "x",
         "y": [
          -0.04969838928923493,
          0.06178331721072566,
          0.010146819409380732,
          0.028853776816348386,
          0.021835840840747734,
          0.0301715622615022,
          0.028007842760409053,
          -0.009990295163173998,
          -0.010552148236706634,
          -0.00023066024637228164,
          -0.026405517401867903,
          -0.006492168309803513
         ],
         "yaxis": "y"
        },
        {
         "legendgroup": "BaemyKlobaechar",
         "line": {
          "color": "#00CC96",
          "shape": "spline"
         },
         "mode": "lines",
         "name": "BaemyKlobaechar",
         "showlegend": false,
         "type": "scatter",
         "x": [
          "2019-01-01T00:00:00",
          "2019-02-01T00:00:00",
          "2019-03-01T00:00:00",
          "2019-04-01T00:00:00",
          "2019-05-01T00:00:00",
          "2019-06-01T00:00:00",
          "2019-07-01T00:00:00",
          "2019-08-01T00:00:00",
          "2019-09-01T00:00:00",
          "2019-10-01T00:00:00",
          "2019-11-01T00:00:00",
          "2019-12-01T00:00:00"
         ],
         "xaxis": "x2",
         "y": [
          -0.185474204654035,
          -0.16789068195873913,
          -0.20305585348952343,
          -0.2260470716045272,
          -0.11849465144687385,
          -0.1940921390841384,
          -0.3569736149766848,
          -0.2385908215927221,
          -0.19271359083066453,
          -0.16464105911606053,
          -0.21070132500337815,
          -0.10693865628655191
         ],
         "yaxis": "y2"
        },
        {
         "legendgroup": "ElizabethWarren",
         "line": {
          "color": "#AB63FA",
          "shape": "spline"
         },
         "mode": "lines",
         "name": "ElizabethWarren",
         "showlegend": false,
         "type": "scatter",
         "x": [
          "2019-01-01T00:00:00",
          "2019-02-01T00:00:00",
          "2019-03-01T00:00:00",
          "2019-04-01T00:00:00",
          "2019-05-01T00:00:00",
          "2019-06-01T00:00:00",
          "2019-07-01T00:00:00",
          "2019-08-01T00:00:00",
          "2019-09-01T00:00:00",
          "2019-10-01T00:00:00",
          "2019-11-01T00:00:00",
          "2019-12-01T00:00:00"
         ],
         "xaxis": "x2",
         "y": [
          -0.19781815182981274,
          -0.27425306421583445,
          -0.18139276475708516,
          -0.19601491376869518,
          -0.24275582233052864,
          -0.29767462054750976,
          -0.24985403883817497,
          -0.265623590723337,
          -0.26091904830162005,
          -0.27262503403015337,
          -0.28572226503191994,
          -0.23901804490829406
         ],
         "yaxis": "y2"
        },
        {
         "legendgroup": "JoeBiden",
         "line": {
          "color": "#636EFA",
          "shape": "spline"
         },
         "mode": "lines",
         "name": "JoeBiden",
         "showlegend": false,
         "type": "scatter",
         "x": [
          "2019-01-01T00:00:00",
          "2019-02-01T00:00:00",
          "2019-03-01T00:00:00",
          "2019-04-01T00:00:00",
          "2019-05-01T00:00:00",
          "2019-06-01T00:00:00",
          "2019-07-01T00:00:00",
          "2019-08-01T00:00:00",
          "2019-09-01T00:00:00",
          "2019-10-01T00:00:00",
          "2019-11-01T00:00:00",
          "2019-12-01T00:00:00"
         ],
         "xaxis": "x2",
         "y": [
          -0.13193308609188492,
          -0.1365269806471494,
          -0.3248057624878038,
          -0.16806749969533372,
          -0.12010617533002274,
          -0.1573930484007166,
          -0.16529912474496855,
          -0.15319304603497402,
          -0.14390236329890335,
          -0.12639266038930852,
          -0.16528546633031377,
          -0.16671032457197446
         ],
         "yaxis": "y2"
        },
        {
         "legendgroup": "Pete_Buttigieg",
         "line": {
          "color": "#FFA15A",
          "shape": "spline"
         },
         "mode": "lines",
         "name": "Pete_Buttigieg",
         "showlegend": false,
         "type": "scatter",
         "x": [
          "2019-01-01T00:00:00",
          "2019-02-01T00:00:00",
          "2019-03-01T00:00:00",
          "2019-04-01T00:00:00",
          "2019-05-01T00:00:00",
          "2019-06-01T00:00:00",
          "2019-07-01T00:00:00",
          "2019-08-01T00:00:00",
          "2019-09-01T00:00:00",
          "2019-10-01T00:00:00",
          "2019-11-01T00:00:00",
          "2019-12-01T00:00:00"
         ],
         "xaxis": "x2",
         "y": [
          -0.08496874625236395,
          -0.1767416692486587,
          -0.1794356285605053,
          -0.16198393199126956,
          -0.16021968987484822,
          -0.13609615562358174,
          -0.15923535794467317,
          -0.170881565257196,
          -0.13643074644124284,
          -0.15152147068072755,
          -0.13493963781450463,
          -0.148538612041759
         ],
         "yaxis": "y2"
        },
        {
         "legendgroup": "SandersForPresident",
         "line": {
          "color": "#EF553B",
          "shape": "spline"
         },
         "mode": "lines",
         "name": "SandersForPresident",
         "showlegend": false,
         "type": "scatter",
         "x": [
          "2019-01-01T00:00:00",
          "2019-02-01T00:00:00",
          "2019-03-01T00:00:00",
          "2019-04-01T00:00:00",
          "2019-05-01T00:00:00",
          "2019-06-01T00:00:00",
          "2019-07-01T00:00:00",
          "2019-08-01T00:00:00",
          "2019-09-01T00:00:00",
          "2019-10-01T00:00:00",
          "2019-11-01T00:00:00",
          "2019-12-01T00:00:00"
         ],
         "xaxis": "x2",
         "y": [
          -0.1365423752825331,
          -0.08258483832697919,
          -0.07345910810178655,
          -0.0981030774991725,
          -0.07629605177554646,
          -0.011215031831154972,
          -0.12514592804358393,
          -0.04208748528815679,
          -0.06689408854705693,
          -0.08200364811096425,
          -0.10366227883319713,
          -0.09105020624299222
         ],
         "yaxis": "y2"
        },
        {
         "legendgroup": "YangForPresidentHQ",
         "line": {
          "color": "#19D3F3",
          "shape": "spline"
         },
         "mode": "lines",
         "name": "YangForPresidentHQ",
         "showlegend": false,
         "type": "scatter",
         "x": [
          "2019-01-01T00:00:00",
          "2019-02-01T00:00:00",
          "2019-03-01T00:00:00",
          "2019-04-01T00:00:00",
          "2019-05-01T00:00:00",
          "2019-06-01T00:00:00",
          "2019-07-01T00:00:00",
          "2019-08-01T00:00:00",
          "2019-09-01T00:00:00",
          "2019-10-01T00:00:00",
          "2019-11-01T00:00:00",
          "2019-12-01T00:00:00"
         ],
         "xaxis": "x2",
         "y": [
          -0.07391629266613599,
          0.0045322810900768635,
          0.01961813793820318,
          0.006612832118468284,
          0.003311339898031947,
          0.016131866267582277,
          0.04127791668068004,
          0.06045901977127321,
          0.0511126571632382,
          0.041379203430895246,
          0.05984236520218722,
          0.06574629403068398
         ],
         "yaxis": "y2"
        },
        {
         "legendgroup": "BaemyKlobaechar",
         "line": {
          "color": "#00CC96",
          "shape": "spline"
         },
         "mode": "lines",
         "name": "BaemyKlobaechar",
         "showlegend": false,
         "type": "scatter",
         "x": [
          "2019-01-01T00:00:00",
          "2019-02-01T00:00:00",
          "2019-03-01T00:00:00",
          "2019-04-01T00:00:00",
          "2019-05-01T00:00:00",
          "2019-06-01T00:00:00",
          "2019-07-01T00:00:00",
          "2019-08-01T00:00:00",
          "2019-09-01T00:00:00",
          "2019-10-01T00:00:00",
          "2019-11-01T00:00:00",
          "2019-12-01T00:00:00"
         ],
         "xaxis": "x3",
         "y": [
          0.12881680654701727,
          0.13745459097698204,
          0.2781046446604707,
          0.23904683349807637,
          0.13140866598065803,
          0.14811624391591635,
          0.2502248762967103,
          0.3363767960568496,
          0.18695297221683357,
          0.24607553142084404,
          0.10531747254518965,
          0.09254475951693646
         ],
         "yaxis": "y3"
        },
        {
         "legendgroup": "ElizabethWarren",
         "line": {
          "color": "#AB63FA",
          "shape": "spline"
         },
         "mode": "lines",
         "name": "ElizabethWarren",
         "showlegend": false,
         "type": "scatter",
         "x": [
          "2019-01-01T00:00:00",
          "2019-02-01T00:00:00",
          "2019-03-01T00:00:00",
          "2019-04-01T00:00:00",
          "2019-05-01T00:00:00",
          "2019-06-01T00:00:00",
          "2019-07-01T00:00:00",
          "2019-08-01T00:00:00",
          "2019-09-01T00:00:00",
          "2019-10-01T00:00:00",
          "2019-11-01T00:00:00",
          "2019-12-01T00:00:00"
         ],
         "xaxis": "x3",
         "y": [
          0.253458257866916,
          0.1802104607121676,
          0.20124468616976918,
          0.1541113227922383,
          0.1925679225378691,
          0.15051327224529856,
          0.14482870136130904,
          0.12809537739132854,
          0.15612322901239692,
          0.1522291202765128,
          0.1271954576977984,
          0.10617718620145006
         ],
         "yaxis": "y3"
        },
        {
         "legendgroup": "JoeBiden",
         "line": {
          "color": "#636EFA",
          "shape": "spline"
         },
         "mode": "lines",
         "name": "JoeBiden",
         "showlegend": false,
         "type": "scatter",
         "x": [
          "2019-01-01T00:00:00",
          "2019-02-01T00:00:00",
          "2019-03-01T00:00:00",
          "2019-04-01T00:00:00",
          "2019-05-01T00:00:00",
          "2019-06-01T00:00:00",
          "2019-07-01T00:00:00",
          "2019-08-01T00:00:00",
          "2019-09-01T00:00:00",
          "2019-10-01T00:00:00",
          "2019-11-01T00:00:00",
          "2019-12-01T00:00:00"
         ],
         "xaxis": "x3",
         "y": [
          0.019349230172889097,
          -0.006207705360473091,
          0.3343678688655229,
          0.09955814097021878,
          0.06574410380993585,
          0.11697388904670573,
          0.10188565119094284,
          0.11438456399966157,
          0.06860073140525483,
          0.073640057921935,
          0.04686103049456557,
          0.08029816881364334
         ],
         "yaxis": "y3"
        },
        {
         "legendgroup": "Pete_Buttigieg",
         "line": {
          "color": "#FFA15A",
          "shape": "spline"
         },
         "mode": "lines",
         "name": "Pete_Buttigieg",
         "showlegend": false,
         "type": "scatter",
         "x": [
          "2019-01-01T00:00:00",
          "2019-02-01T00:00:00",
          "2019-03-01T00:00:00",
          "2019-04-01T00:00:00",
          "2019-05-01T00:00:00",
          "2019-06-01T00:00:00",
          "2019-07-01T00:00:00",
          "2019-08-01T00:00:00",
          "2019-09-01T00:00:00",
          "2019-10-01T00:00:00",
          "2019-11-01T00:00:00",
          "2019-12-01T00:00:00"
         ],
         "xaxis": "x3",
         "y": [
          0.03453932867873803,
          0.22609119209839973,
          0.09099835002967738,
          0.06664341658107319,
          0.10989256439834866,
          0.057987551334307656,
          0.05526089600742605,
          0.08248597191360069,
          0.05991943836297436,
          0.03962894735035859,
          0.03436197484425182,
          0.05864374539208624
         ],
         "yaxis": "y3"
        },
        {
         "legendgroup": "SandersForPresident",
         "line": {
          "color": "#EF553B",
          "shape": "spline"
         },
         "mode": "lines",
         "name": "SandersForPresident",
         "showlegend": false,
         "type": "scatter",
         "x": [
          "2019-01-01T00:00:00",
          "2019-02-01T00:00:00",
          "2019-03-01T00:00:00",
          "2019-04-01T00:00:00",
          "2019-05-01T00:00:00",
          "2019-06-01T00:00:00",
          "2019-07-01T00:00:00",
          "2019-08-01T00:00:00",
          "2019-09-01T00:00:00",
          "2019-10-01T00:00:00",
          "2019-11-01T00:00:00",
          "2019-12-01T00:00:00"
         ],
         "xaxis": "x3",
         "y": [
          0.04690893866364157,
          0.007820671106515055,
          0.0011076122814430004,
          -0.004364308796694334,
          0.03648568840533078,
          -0.021953855247281395,
          -0.002556657665025793,
          -0.011680409314685588,
          -0.02447330128805926,
          -0.056193826187757825,
          0.0014132875347995174,
          -0.027594645487571325
         ],
         "yaxis": "y3"
        },
        {
         "legendgroup": "YangForPresidentHQ",
         "line": {
          "color": "#19D3F3",
          "shape": "spline"
         },
         "mode": "lines",
         "name": "YangForPresidentHQ",
         "showlegend": false,
         "type": "scatter",
         "x": [
          "2019-01-01T00:00:00",
          "2019-02-01T00:00:00",
          "2019-03-01T00:00:00",
          "2019-04-01T00:00:00",
          "2019-05-01T00:00:00",
          "2019-06-01T00:00:00",
          "2019-07-01T00:00:00",
          "2019-08-01T00:00:00",
          "2019-09-01T00:00:00",
          "2019-10-01T00:00:00",
          "2019-11-01T00:00:00",
          "2019-12-01T00:00:00"
         ],
         "xaxis": "x3",
         "y": [
          0.005514239491391781,
          0.07652052476441393,
          -0.007274401651326526,
          -0.02763547163360624,
          -0.04442502289367514,
          -0.036475311215367005,
          -0.04393493678073351,
          -0.08226578973964027,
          -0.09628107124770653,
          -0.09152647065683324,
          -0.11563198357690203,
          -0.09543396536124767
         ],
         "yaxis": "y3"
        }
       ],
       "layout": {
        "annotations": [
         {
          "font": {
           "size": 16
          },
          "showarrow": false,
          "text": "Birth Control",
          "x": 0.5,
          "xanchor": "center",
          "xref": "paper",
          "y": 1,
          "yanchor": "bottom",
          "yref": "paper"
         },
         {
          "font": {
           "size": 16
          },
          "showarrow": false,
          "text": "Gun Control",
          "x": 0.5,
          "xanchor": "center",
          "xref": "paper",
          "y": 0.6111111111111112,
          "yanchor": "bottom",
          "yref": "paper"
         },
         {
          "font": {
           "size": 16
          },
          "showarrow": false,
          "text": "Age",
          "x": 0.5,
          "xanchor": "center",
          "xref": "paper",
          "y": 0.22222222222222224,
          "yanchor": "bottom",
          "yref": "paper"
         }
        ],
        "template": {
         "data": {
          "bar": [
           {
            "error_x": {
             "color": "#2a3f5f"
            },
            "error_y": {
             "color": "#2a3f5f"
            },
            "marker": {
             "line": {
              "color": "#E5ECF6",
              "width": 0.5
             }
            },
            "type": "bar"
           }
          ],
          "barpolar": [
           {
            "marker": {
             "line": {
              "color": "#E5ECF6",
              "width": 0.5
             }
            },
            "type": "barpolar"
           }
          ],
          "carpet": [
           {
            "aaxis": {
             "endlinecolor": "#2a3f5f",
             "gridcolor": "white",
             "linecolor": "white",
             "minorgridcolor": "white",
             "startlinecolor": "#2a3f5f"
            },
            "baxis": {
             "endlinecolor": "#2a3f5f",
             "gridcolor": "white",
             "linecolor": "white",
             "minorgridcolor": "white",
             "startlinecolor": "#2a3f5f"
            },
            "type": "carpet"
           }
          ],
          "choropleth": [
           {
            "colorbar": {
             "outlinewidth": 0,
             "ticks": ""
            },
            "type": "choropleth"
           }
          ],
          "contour": [
           {
            "colorbar": {
             "outlinewidth": 0,
             "ticks": ""
            },
            "colorscale": [
             [
              0,
              "#0d0887"
             ],
             [
              0.1111111111111111,
              "#46039f"
             ],
             [
              0.2222222222222222,
              "#7201a8"
             ],
             [
              0.3333333333333333,
              "#9c179e"
             ],
             [
              0.4444444444444444,
              "#bd3786"
             ],
             [
              0.5555555555555556,
              "#d8576b"
             ],
             [
              0.6666666666666666,
              "#ed7953"
             ],
             [
              0.7777777777777778,
              "#fb9f3a"
             ],
             [
              0.8888888888888888,
              "#fdca26"
             ],
             [
              1,
              "#f0f921"
             ]
            ],
            "type": "contour"
           }
          ],
          "contourcarpet": [
           {
            "colorbar": {
             "outlinewidth": 0,
             "ticks": ""
            },
            "type": "contourcarpet"
           }
          ],
          "heatmap": [
           {
            "colorbar": {
             "outlinewidth": 0,
             "ticks": ""
            },
            "colorscale": [
             [
              0,
              "#0d0887"
             ],
             [
              0.1111111111111111,
              "#46039f"
             ],
             [
              0.2222222222222222,
              "#7201a8"
             ],
             [
              0.3333333333333333,
              "#9c179e"
             ],
             [
              0.4444444444444444,
              "#bd3786"
             ],
             [
              0.5555555555555556,
              "#d8576b"
             ],
             [
              0.6666666666666666,
              "#ed7953"
             ],
             [
              0.7777777777777778,
              "#fb9f3a"
             ],
             [
              0.8888888888888888,
              "#fdca26"
             ],
             [
              1,
              "#f0f921"
             ]
            ],
            "type": "heatmap"
           }
          ],
          "heatmapgl": [
           {
            "colorbar": {
             "outlinewidth": 0,
             "ticks": ""
            },
            "colorscale": [
             [
              0,
              "#0d0887"
             ],
             [
              0.1111111111111111,
              "#46039f"
             ],
             [
              0.2222222222222222,
              "#7201a8"
             ],
             [
              0.3333333333333333,
              "#9c179e"
             ],
             [
              0.4444444444444444,
              "#bd3786"
             ],
             [
              0.5555555555555556,
              "#d8576b"
             ],
             [
              0.6666666666666666,
              "#ed7953"
             ],
             [
              0.7777777777777778,
              "#fb9f3a"
             ],
             [
              0.8888888888888888,
              "#fdca26"
             ],
             [
              1,
              "#f0f921"
             ]
            ],
            "type": "heatmapgl"
           }
          ],
          "histogram": [
           {
            "marker": {
             "colorbar": {
              "outlinewidth": 0,
              "ticks": ""
             }
            },
            "type": "histogram"
           }
          ],
          "histogram2d": [
           {
            "colorbar": {
             "outlinewidth": 0,
             "ticks": ""
            },
            "colorscale": [
             [
              0,
              "#0d0887"
             ],
             [
              0.1111111111111111,
              "#46039f"
             ],
             [
              0.2222222222222222,
              "#7201a8"
             ],
             [
              0.3333333333333333,
              "#9c179e"
             ],
             [
              0.4444444444444444,
              "#bd3786"
             ],
             [
              0.5555555555555556,
              "#d8576b"
             ],
             [
              0.6666666666666666,
              "#ed7953"
             ],
             [
              0.7777777777777778,
              "#fb9f3a"
             ],
             [
              0.8888888888888888,
              "#fdca26"
             ],
             [
              1,
              "#f0f921"
             ]
            ],
            "type": "histogram2d"
           }
          ],
          "histogram2dcontour": [
           {
            "colorbar": {
             "outlinewidth": 0,
             "ticks": ""
            },
            "colorscale": [
             [
              0,
              "#0d0887"
             ],
             [
              0.1111111111111111,
              "#46039f"
             ],
             [
              0.2222222222222222,
              "#7201a8"
             ],
             [
              0.3333333333333333,
              "#9c179e"
             ],
             [
              0.4444444444444444,
              "#bd3786"
             ],
             [
              0.5555555555555556,
              "#d8576b"
             ],
             [
              0.6666666666666666,
              "#ed7953"
             ],
             [
              0.7777777777777778,
              "#fb9f3a"
             ],
             [
              0.8888888888888888,
              "#fdca26"
             ],
             [
              1,
              "#f0f921"
             ]
            ],
            "type": "histogram2dcontour"
           }
          ],
          "mesh3d": [
           {
            "colorbar": {
             "outlinewidth": 0,
             "ticks": ""
            },
            "type": "mesh3d"
           }
          ],
          "parcoords": [
           {
            "line": {
             "colorbar": {
              "outlinewidth": 0,
              "ticks": ""
             }
            },
            "type": "parcoords"
           }
          ],
          "pie": [
           {
            "automargin": true,
            "type": "pie"
           }
          ],
          "scatter": [
           {
            "marker": {
             "colorbar": {
              "outlinewidth": 0,
              "ticks": ""
             }
            },
            "type": "scatter"
           }
          ],
          "scatter3d": [
           {
            "line": {
             "colorbar": {
              "outlinewidth": 0,
              "ticks": ""
             }
            },
            "marker": {
             "colorbar": {
              "outlinewidth": 0,
              "ticks": ""
             }
            },
            "type": "scatter3d"
           }
          ],
          "scattercarpet": [
           {
            "marker": {
             "colorbar": {
              "outlinewidth": 0,
              "ticks": ""
             }
            },
            "type": "scattercarpet"
           }
          ],
          "scattergeo": [
           {
            "marker": {
             "colorbar": {
              "outlinewidth": 0,
              "ticks": ""
             }
            },
            "type": "scattergeo"
           }
          ],
          "scattergl": [
           {
            "marker": {
             "colorbar": {
              "outlinewidth": 0,
              "ticks": ""
             }
            },
            "type": "scattergl"
           }
          ],
          "scattermapbox": [
           {
            "marker": {
             "colorbar": {
              "outlinewidth": 0,
              "ticks": ""
             }
            },
            "type": "scattermapbox"
           }
          ],
          "scatterpolar": [
           {
            "marker": {
             "colorbar": {
              "outlinewidth": 0,
              "ticks": ""
             }
            },
            "type": "scatterpolar"
           }
          ],
          "scatterpolargl": [
           {
            "marker": {
             "colorbar": {
              "outlinewidth": 0,
              "ticks": ""
             }
            },
            "type": "scatterpolargl"
           }
          ],
          "scatterternary": [
           {
            "marker": {
             "colorbar": {
              "outlinewidth": 0,
              "ticks": ""
             }
            },
            "type": "scatterternary"
           }
          ],
          "surface": [
           {
            "colorbar": {
             "outlinewidth": 0,
             "ticks": ""
            },
            "colorscale": [
             [
              0,
              "#0d0887"
             ],
             [
              0.1111111111111111,
              "#46039f"
             ],
             [
              0.2222222222222222,
              "#7201a8"
             ],
             [
              0.3333333333333333,
              "#9c179e"
             ],
             [
              0.4444444444444444,
              "#bd3786"
             ],
             [
              0.5555555555555556,
              "#d8576b"
             ],
             [
              0.6666666666666666,
              "#ed7953"
             ],
             [
              0.7777777777777778,
              "#fb9f3a"
             ],
             [
              0.8888888888888888,
              "#fdca26"
             ],
             [
              1,
              "#f0f921"
             ]
            ],
            "type": "surface"
           }
          ],
          "table": [
           {
            "cells": {
             "fill": {
              "color": "#EBF0F8"
             },
             "line": {
              "color": "white"
             }
            },
            "header": {
             "fill": {
              "color": "#C8D4E3"
             },
             "line": {
              "color": "white"
             }
            },
            "type": "table"
           }
          ]
         },
         "layout": {
          "annotationdefaults": {
           "arrowcolor": "#2a3f5f",
           "arrowhead": 0,
           "arrowwidth": 1
          },
          "coloraxis": {
           "colorbar": {
            "outlinewidth": 0,
            "ticks": ""
           }
          },
          "colorscale": {
           "diverging": [
            [
             0,
             "#8e0152"
            ],
            [
             0.1,
             "#c51b7d"
            ],
            [
             0.2,
             "#de77ae"
            ],
            [
             0.3,
             "#f1b6da"
            ],
            [
             0.4,
             "#fde0ef"
            ],
            [
             0.5,
             "#f7f7f7"
            ],
            [
             0.6,
             "#e6f5d0"
            ],
            [
             0.7,
             "#b8e186"
            ],
            [
             0.8,
             "#7fbc41"
            ],
            [
             0.9,
             "#4d9221"
            ],
            [
             1,
             "#276419"
            ]
           ],
           "sequential": [
            [
             0,
             "#0d0887"
            ],
            [
             0.1111111111111111,
             "#46039f"
            ],
            [
             0.2222222222222222,
             "#7201a8"
            ],
            [
             0.3333333333333333,
             "#9c179e"
            ],
            [
             0.4444444444444444,
             "#bd3786"
            ],
            [
             0.5555555555555556,
             "#d8576b"
            ],
            [
             0.6666666666666666,
             "#ed7953"
            ],
            [
             0.7777777777777778,
             "#fb9f3a"
            ],
            [
             0.8888888888888888,
             "#fdca26"
            ],
            [
             1,
             "#f0f921"
            ]
           ],
           "sequentialminus": [
            [
             0,
             "#0d0887"
            ],
            [
             0.1111111111111111,
             "#46039f"
            ],
            [
             0.2222222222222222,
             "#7201a8"
            ],
            [
             0.3333333333333333,
             "#9c179e"
            ],
            [
             0.4444444444444444,
             "#bd3786"
            ],
            [
             0.5555555555555556,
             "#d8576b"
            ],
            [
             0.6666666666666666,
             "#ed7953"
            ],
            [
             0.7777777777777778,
             "#fb9f3a"
            ],
            [
             0.8888888888888888,
             "#fdca26"
            ],
            [
             1,
             "#f0f921"
            ]
           ]
          },
          "colorway": [
           "#636efa",
           "#EF553B",
           "#00cc96",
           "#ab63fa",
           "#FFA15A",
           "#19d3f3",
           "#FF6692",
           "#B6E880",
           "#FF97FF",
           "#FECB52"
          ],
          "font": {
           "color": "#2a3f5f"
          },
          "geo": {
           "bgcolor": "white",
           "lakecolor": "white",
           "landcolor": "#E5ECF6",
           "showlakes": true,
           "showland": true,
           "subunitcolor": "white"
          },
          "hoverlabel": {
           "align": "left"
          },
          "hovermode": "closest",
          "mapbox": {
           "style": "light"
          },
          "paper_bgcolor": "white",
          "plot_bgcolor": "#E5ECF6",
          "polar": {
           "angularaxis": {
            "gridcolor": "white",
            "linecolor": "white",
            "ticks": ""
           },
           "bgcolor": "#E5ECF6",
           "radialaxis": {
            "gridcolor": "white",
            "linecolor": "white",
            "ticks": ""
           }
          },
          "scene": {
           "xaxis": {
            "backgroundcolor": "#E5ECF6",
            "gridcolor": "white",
            "gridwidth": 2,
            "linecolor": "white",
            "showbackground": true,
            "ticks": "",
            "zerolinecolor": "white"
           },
           "yaxis": {
            "backgroundcolor": "#E5ECF6",
            "gridcolor": "white",
            "gridwidth": 2,
            "linecolor": "white",
            "showbackground": true,
            "ticks": "",
            "zerolinecolor": "white"
           },
           "zaxis": {
            "backgroundcolor": "#E5ECF6",
            "gridcolor": "white",
            "gridwidth": 2,
            "linecolor": "white",
            "showbackground": true,
            "ticks": "",
            "zerolinecolor": "white"
           }
          },
          "shapedefaults": {
           "line": {
            "color": "#2a3f5f"
           }
          },
          "ternary": {
           "aaxis": {
            "gridcolor": "white",
            "linecolor": "white",
            "ticks": ""
           },
           "baxis": {
            "gridcolor": "white",
            "linecolor": "white",
            "ticks": ""
           },
           "bgcolor": "#E5ECF6",
           "caxis": {
            "gridcolor": "white",
            "linecolor": "white",
            "ticks": ""
           }
          },
          "title": {
           "x": 0.05
          },
          "xaxis": {
           "automargin": true,
           "gridcolor": "white",
           "linecolor": "white",
           "ticks": "",
           "title": {
            "standoff": 15
           },
           "zerolinecolor": "white",
           "zerolinewidth": 2
          },
          "yaxis": {
           "automargin": true,
           "gridcolor": "white",
           "linecolor": "white",
           "ticks": "",
           "title": {
            "standoff": 15
           },
           "zerolinecolor": "white",
           "zerolinewidth": 2
          }
         }
        },
        "title": {
         "text": "<b>Political Dimension Stability</b>"
        },
        "xaxis": {
         "anchor": "y",
         "domain": [
          0,
          1
         ]
        },
        "xaxis2": {
         "anchor": "y2",
         "domain": [
          0,
          1
         ]
        },
        "xaxis3": {
         "anchor": "y3",
         "domain": [
          0,
          1
         ]
        },
        "yaxis": {
         "anchor": "x",
         "domain": [
          0.7777777777777778,
          1
         ]
        },
        "yaxis2": {
         "anchor": "x2",
         "domain": [
          0.3888888888888889,
          0.6111111111111112
         ]
        },
        "yaxis3": {
         "anchor": "x3",
         "domain": [
          0,
          0.22222222222222224
         ]
        }
       }
      },
      "text/html": [
       "<div>\n",
       "        \n",
       "        \n",
       "            <div id=\"2291115a-f516-4b5f-b597-a7ae986cfa90\" class=\"plotly-graph-div\" style=\"height:525px; width:100%;\"></div>\n",
       "            <script type=\"text/javascript\">\n",
       "                require([\"plotly\"], function(Plotly) {\n",
       "                    window.PLOTLYENV=window.PLOTLYENV || {};\n",
       "                    \n",
       "                if (document.getElementById(\"2291115a-f516-4b5f-b597-a7ae986cfa90\")) {\n",
       "                    Plotly.newPlot(\n",
       "                        '2291115a-f516-4b5f-b597-a7ae986cfa90',\n",
       "                        [{\"legendgroup\": \"BaemyKlobaechar\", \"line\": {\"color\": \"#00CC96\", \"shape\": \"spline\"}, \"mode\": \"lines\", \"name\": \"BaemyKlobaechar\", \"showlegend\": true, \"type\": \"scatter\", \"x\": [\"2019-01-01T00:00:00\", \"2019-02-01T00:00:00\", \"2019-03-01T00:00:00\", \"2019-04-01T00:00:00\", \"2019-05-01T00:00:00\", \"2019-06-01T00:00:00\", \"2019-07-01T00:00:00\", \"2019-08-01T00:00:00\", \"2019-09-01T00:00:00\", \"2019-10-01T00:00:00\", \"2019-11-01T00:00:00\", \"2019-12-01T00:00:00\"], \"xaxis\": \"x\", \"y\": [0.07764432953183875, 0.08037399909858936, -0.016231931876416868, 0.02476510377873722, 0.14149366829174725, 0.07907010250666265, -0.09625445284851505, -0.03796076920493514, 0.07644727860941133, -0.005375324847637733, 0.02588984638196823, 0.1522176578816959], \"yaxis\": \"y\"}, {\"legendgroup\": \"ElizabethWarren\", \"line\": {\"color\": \"#AB63FA\", \"shape\": \"spline\"}, \"mode\": \"lines\", \"name\": \"ElizabethWarren\", \"showlegend\": true, \"type\": \"scatter\", \"x\": [\"2019-01-01T00:00:00\", \"2019-02-01T00:00:00\", \"2019-03-01T00:00:00\", \"2019-04-01T00:00:00\", \"2019-05-01T00:00:00\", \"2019-06-01T00:00:00\", \"2019-07-01T00:00:00\", \"2019-08-01T00:00:00\", \"2019-09-01T00:00:00\", \"2019-10-01T00:00:00\", \"2019-11-01T00:00:00\", \"2019-12-01T00:00:00\"], \"xaxis\": \"x\", \"y\": [-0.0535146181647759, -0.05019094387107277, -0.0015938267712970761, -0.06489637639474288, -0.06691424089057704, -0.13046920055635444, -0.060619591966938474, -0.07120914304145458, -0.06964239344304304, -0.08087066653505436, -0.10591023390883147, -0.14852669213817984], \"yaxis\": \"y\"}, {\"legendgroup\": \"JoeBiden\", \"line\": {\"color\": \"#636EFA\", \"shape\": \"spline\"}, \"mode\": \"lines\", \"name\": \"JoeBiden\", \"showlegend\": true, \"type\": \"scatter\", \"x\": [\"2019-01-01T00:00:00\", \"2019-02-01T00:00:00\", \"2019-03-01T00:00:00\", \"2019-04-01T00:00:00\", \"2019-05-01T00:00:00\", \"2019-06-01T00:00:00\", \"2019-07-01T00:00:00\", \"2019-08-01T00:00:00\", \"2019-09-01T00:00:00\", \"2019-10-01T00:00:00\", \"2019-11-01T00:00:00\", \"2019-12-01T00:00:00\"], \"xaxis\": \"x\", \"y\": [-0.05721972364809424, 0.10709074127420116, 0.033118492553933586, 0.05360325809275335, 0.09490118247267883, 0.1019971488376713, 0.08848496009512162, 0.1264709770645094, 0.07144245419579293, 0.03450231735941783, 0.02182883688376857, 0.07797604616908452], \"yaxis\": \"y\"}, {\"legendgroup\": \"Pete_Buttigieg\", \"line\": {\"color\": \"#FFA15A\", \"shape\": \"spline\"}, \"mode\": \"lines\", \"name\": \"Pete_Buttigieg\", \"showlegend\": true, \"type\": \"scatter\", \"x\": [\"2019-01-01T00:00:00\", \"2019-02-01T00:00:00\", \"2019-03-01T00:00:00\", \"2019-04-01T00:00:00\", \"2019-05-01T00:00:00\", \"2019-06-01T00:00:00\", \"2019-07-01T00:00:00\", \"2019-08-01T00:00:00\", \"2019-09-01T00:00:00\", \"2019-10-01T00:00:00\", \"2019-11-01T00:00:00\", \"2019-12-01T00:00:00\"], \"xaxis\": \"x\", \"y\": [0.0032028144588405684, -0.020354176092047017, -0.06644026777151577, -0.023211394235385183, -0.0016069926717640255, 0.004444669848290913, -0.013701522670157434, -0.05139077014353032, -0.032800207711937195, -0.017378997865963457, -0.03012452096943153, -0.016684946684447782], \"yaxis\": \"y\"}, {\"legendgroup\": \"SandersForPresident\", \"line\": {\"color\": \"#EF553B\", \"shape\": \"spline\"}, \"mode\": \"lines\", \"name\": \"SandersForPresident\", \"showlegend\": true, \"type\": \"scatter\", \"x\": [\"2019-01-01T00:00:00\", \"2019-02-01T00:00:00\", \"2019-03-01T00:00:00\", \"2019-04-01T00:00:00\", \"2019-05-01T00:00:00\", \"2019-06-01T00:00:00\", \"2019-07-01T00:00:00\", \"2019-08-01T00:00:00\", \"2019-09-01T00:00:00\", \"2019-10-01T00:00:00\", \"2019-11-01T00:00:00\", \"2019-12-01T00:00:00\"], \"xaxis\": \"x\", \"y\": [-0.007271083465431348, 0.00965819614741215, -0.009282807337233544, -0.020758848255578635, -0.016756053021423172, 0.05256209465542419, -0.0354832127195489, -0.013829814535959658, -0.029984203959731802, -0.06427293358723517, -0.08421031314769577, -0.05821853784649655], \"yaxis\": \"y\"}, {\"legendgroup\": \"YangForPresidentHQ\", \"line\": {\"color\": \"#19D3F3\", \"shape\": \"spline\"}, \"mode\": \"lines\", \"name\": \"YangForPresidentHQ\", \"showlegend\": true, \"type\": \"scatter\", \"x\": [\"2019-01-01T00:00:00\", \"2019-02-01T00:00:00\", \"2019-03-01T00:00:00\", \"2019-04-01T00:00:00\", \"2019-05-01T00:00:00\", \"2019-06-01T00:00:00\", \"2019-07-01T00:00:00\", \"2019-08-01T00:00:00\", \"2019-09-01T00:00:00\", \"2019-10-01T00:00:00\", \"2019-11-01T00:00:00\", \"2019-12-01T00:00:00\"], \"xaxis\": \"x\", \"y\": [-0.04969838928923493, 0.06178331721072566, 0.010146819409380732, 0.028853776816348386, 0.021835840840747734, 0.0301715622615022, 0.028007842760409053, -0.009990295163173998, -0.010552148236706634, -0.00023066024637228164, -0.026405517401867903, -0.006492168309803513], \"yaxis\": \"y\"}, {\"legendgroup\": \"BaemyKlobaechar\", \"line\": {\"color\": \"#00CC96\", \"shape\": \"spline\"}, \"mode\": \"lines\", \"name\": \"BaemyKlobaechar\", \"showlegend\": false, \"type\": \"scatter\", \"x\": [\"2019-01-01T00:00:00\", \"2019-02-01T00:00:00\", \"2019-03-01T00:00:00\", \"2019-04-01T00:00:00\", \"2019-05-01T00:00:00\", \"2019-06-01T00:00:00\", \"2019-07-01T00:00:00\", \"2019-08-01T00:00:00\", \"2019-09-01T00:00:00\", \"2019-10-01T00:00:00\", \"2019-11-01T00:00:00\", \"2019-12-01T00:00:00\"], \"xaxis\": \"x2\", \"y\": [-0.185474204654035, -0.16789068195873913, -0.20305585348952343, -0.2260470716045272, -0.11849465144687385, -0.1940921390841384, -0.3569736149766848, -0.2385908215927221, -0.19271359083066453, -0.16464105911606053, -0.21070132500337815, -0.10693865628655191], \"yaxis\": \"y2\"}, {\"legendgroup\": \"ElizabethWarren\", \"line\": {\"color\": \"#AB63FA\", \"shape\": \"spline\"}, \"mode\": \"lines\", \"name\": \"ElizabethWarren\", \"showlegend\": false, \"type\": \"scatter\", \"x\": [\"2019-01-01T00:00:00\", \"2019-02-01T00:00:00\", \"2019-03-01T00:00:00\", \"2019-04-01T00:00:00\", \"2019-05-01T00:00:00\", \"2019-06-01T00:00:00\", \"2019-07-01T00:00:00\", \"2019-08-01T00:00:00\", \"2019-09-01T00:00:00\", \"2019-10-01T00:00:00\", \"2019-11-01T00:00:00\", \"2019-12-01T00:00:00\"], \"xaxis\": \"x2\", \"y\": [-0.19781815182981274, -0.27425306421583445, -0.18139276475708516, -0.19601491376869518, -0.24275582233052864, -0.29767462054750976, -0.24985403883817497, -0.265623590723337, -0.26091904830162005, -0.27262503403015337, -0.28572226503191994, -0.23901804490829406], \"yaxis\": \"y2\"}, {\"legendgroup\": \"JoeBiden\", \"line\": {\"color\": \"#636EFA\", \"shape\": \"spline\"}, \"mode\": \"lines\", \"name\": \"JoeBiden\", \"showlegend\": false, \"type\": \"scatter\", \"x\": [\"2019-01-01T00:00:00\", \"2019-02-01T00:00:00\", \"2019-03-01T00:00:00\", \"2019-04-01T00:00:00\", \"2019-05-01T00:00:00\", \"2019-06-01T00:00:00\", \"2019-07-01T00:00:00\", \"2019-08-01T00:00:00\", \"2019-09-01T00:00:00\", \"2019-10-01T00:00:00\", \"2019-11-01T00:00:00\", \"2019-12-01T00:00:00\"], \"xaxis\": \"x2\", \"y\": [-0.13193308609188492, -0.1365269806471494, -0.3248057624878038, -0.16806749969533372, -0.12010617533002274, -0.1573930484007166, -0.16529912474496855, -0.15319304603497402, -0.14390236329890335, -0.12639266038930852, -0.16528546633031377, -0.16671032457197446], \"yaxis\": \"y2\"}, {\"legendgroup\": \"Pete_Buttigieg\", \"line\": {\"color\": \"#FFA15A\", \"shape\": \"spline\"}, \"mode\": \"lines\", \"name\": \"Pete_Buttigieg\", \"showlegend\": false, \"type\": \"scatter\", \"x\": [\"2019-01-01T00:00:00\", \"2019-02-01T00:00:00\", \"2019-03-01T00:00:00\", \"2019-04-01T00:00:00\", \"2019-05-01T00:00:00\", \"2019-06-01T00:00:00\", \"2019-07-01T00:00:00\", \"2019-08-01T00:00:00\", \"2019-09-01T00:00:00\", \"2019-10-01T00:00:00\", \"2019-11-01T00:00:00\", \"2019-12-01T00:00:00\"], \"xaxis\": \"x2\", \"y\": [-0.08496874625236395, -0.1767416692486587, -0.1794356285605053, -0.16198393199126956, -0.16021968987484822, -0.13609615562358174, -0.15923535794467317, -0.170881565257196, -0.13643074644124284, -0.15152147068072755, -0.13493963781450463, -0.148538612041759], \"yaxis\": \"y2\"}, {\"legendgroup\": \"SandersForPresident\", \"line\": {\"color\": \"#EF553B\", \"shape\": \"spline\"}, \"mode\": \"lines\", \"name\": \"SandersForPresident\", \"showlegend\": false, \"type\": \"scatter\", \"x\": [\"2019-01-01T00:00:00\", \"2019-02-01T00:00:00\", \"2019-03-01T00:00:00\", \"2019-04-01T00:00:00\", \"2019-05-01T00:00:00\", \"2019-06-01T00:00:00\", \"2019-07-01T00:00:00\", \"2019-08-01T00:00:00\", \"2019-09-01T00:00:00\", \"2019-10-01T00:00:00\", \"2019-11-01T00:00:00\", \"2019-12-01T00:00:00\"], \"xaxis\": \"x2\", \"y\": [-0.1365423752825331, -0.08258483832697919, -0.07345910810178655, -0.0981030774991725, -0.07629605177554646, -0.011215031831154972, -0.12514592804358393, -0.04208748528815679, -0.06689408854705693, -0.08200364811096425, -0.10366227883319713, -0.09105020624299222], \"yaxis\": \"y2\"}, {\"legendgroup\": \"YangForPresidentHQ\", \"line\": {\"color\": \"#19D3F3\", \"shape\": \"spline\"}, \"mode\": \"lines\", \"name\": \"YangForPresidentHQ\", \"showlegend\": false, \"type\": \"scatter\", \"x\": [\"2019-01-01T00:00:00\", \"2019-02-01T00:00:00\", \"2019-03-01T00:00:00\", \"2019-04-01T00:00:00\", \"2019-05-01T00:00:00\", \"2019-06-01T00:00:00\", \"2019-07-01T00:00:00\", \"2019-08-01T00:00:00\", \"2019-09-01T00:00:00\", \"2019-10-01T00:00:00\", \"2019-11-01T00:00:00\", \"2019-12-01T00:00:00\"], \"xaxis\": \"x2\", \"y\": [-0.07391629266613599, 0.0045322810900768635, 0.01961813793820318, 0.006612832118468284, 0.003311339898031947, 0.016131866267582277, 0.04127791668068004, 0.06045901977127321, 0.0511126571632382, 0.041379203430895246, 0.05984236520218722, 0.06574629403068398], \"yaxis\": \"y2\"}, {\"legendgroup\": \"BaemyKlobaechar\", \"line\": {\"color\": \"#00CC96\", \"shape\": \"spline\"}, \"mode\": \"lines\", \"name\": \"BaemyKlobaechar\", \"showlegend\": false, \"type\": \"scatter\", \"x\": [\"2019-01-01T00:00:00\", \"2019-02-01T00:00:00\", \"2019-03-01T00:00:00\", \"2019-04-01T00:00:00\", \"2019-05-01T00:00:00\", \"2019-06-01T00:00:00\", \"2019-07-01T00:00:00\", \"2019-08-01T00:00:00\", \"2019-09-01T00:00:00\", \"2019-10-01T00:00:00\", \"2019-11-01T00:00:00\", \"2019-12-01T00:00:00\"], \"xaxis\": \"x3\", \"y\": [0.12881680654701727, 0.13745459097698204, 0.2781046446604707, 0.23904683349807637, 0.13140866598065803, 0.14811624391591635, 0.2502248762967103, 0.3363767960568496, 0.18695297221683357, 0.24607553142084404, 0.10531747254518965, 0.09254475951693646], \"yaxis\": \"y3\"}, {\"legendgroup\": \"ElizabethWarren\", \"line\": {\"color\": \"#AB63FA\", \"shape\": \"spline\"}, \"mode\": \"lines\", \"name\": \"ElizabethWarren\", \"showlegend\": false, \"type\": \"scatter\", \"x\": [\"2019-01-01T00:00:00\", \"2019-02-01T00:00:00\", \"2019-03-01T00:00:00\", \"2019-04-01T00:00:00\", \"2019-05-01T00:00:00\", \"2019-06-01T00:00:00\", \"2019-07-01T00:00:00\", \"2019-08-01T00:00:00\", \"2019-09-01T00:00:00\", \"2019-10-01T00:00:00\", \"2019-11-01T00:00:00\", \"2019-12-01T00:00:00\"], \"xaxis\": \"x3\", \"y\": [0.253458257866916, 0.1802104607121676, 0.20124468616976918, 0.1541113227922383, 0.1925679225378691, 0.15051327224529856, 0.14482870136130904, 0.12809537739132854, 0.15612322901239692, 0.1522291202765128, 0.1271954576977984, 0.10617718620145006], \"yaxis\": \"y3\"}, {\"legendgroup\": \"JoeBiden\", \"line\": {\"color\": \"#636EFA\", \"shape\": \"spline\"}, \"mode\": \"lines\", \"name\": \"JoeBiden\", \"showlegend\": false, \"type\": \"scatter\", \"x\": [\"2019-01-01T00:00:00\", \"2019-02-01T00:00:00\", \"2019-03-01T00:00:00\", \"2019-04-01T00:00:00\", \"2019-05-01T00:00:00\", \"2019-06-01T00:00:00\", \"2019-07-01T00:00:00\", \"2019-08-01T00:00:00\", \"2019-09-01T00:00:00\", \"2019-10-01T00:00:00\", \"2019-11-01T00:00:00\", \"2019-12-01T00:00:00\"], \"xaxis\": \"x3\", \"y\": [0.019349230172889097, -0.006207705360473091, 0.3343678688655229, 0.09955814097021878, 0.06574410380993585, 0.11697388904670573, 0.10188565119094284, 0.11438456399966157, 0.06860073140525483, 0.073640057921935, 0.04686103049456557, 0.08029816881364334], \"yaxis\": \"y3\"}, {\"legendgroup\": \"Pete_Buttigieg\", \"line\": {\"color\": \"#FFA15A\", \"shape\": \"spline\"}, \"mode\": \"lines\", \"name\": \"Pete_Buttigieg\", \"showlegend\": false, \"type\": \"scatter\", \"x\": [\"2019-01-01T00:00:00\", \"2019-02-01T00:00:00\", \"2019-03-01T00:00:00\", \"2019-04-01T00:00:00\", \"2019-05-01T00:00:00\", \"2019-06-01T00:00:00\", \"2019-07-01T00:00:00\", \"2019-08-01T00:00:00\", \"2019-09-01T00:00:00\", \"2019-10-01T00:00:00\", \"2019-11-01T00:00:00\", \"2019-12-01T00:00:00\"], \"xaxis\": \"x3\", \"y\": [0.03453932867873803, 0.22609119209839973, 0.09099835002967738, 0.06664341658107319, 0.10989256439834866, 0.057987551334307656, 0.05526089600742605, 0.08248597191360069, 0.05991943836297436, 0.03962894735035859, 0.03436197484425182, 0.05864374539208624], \"yaxis\": \"y3\"}, {\"legendgroup\": \"SandersForPresident\", \"line\": {\"color\": \"#EF553B\", \"shape\": \"spline\"}, \"mode\": \"lines\", \"name\": \"SandersForPresident\", \"showlegend\": false, \"type\": \"scatter\", \"x\": [\"2019-01-01T00:00:00\", \"2019-02-01T00:00:00\", \"2019-03-01T00:00:00\", \"2019-04-01T00:00:00\", \"2019-05-01T00:00:00\", \"2019-06-01T00:00:00\", \"2019-07-01T00:00:00\", \"2019-08-01T00:00:00\", \"2019-09-01T00:00:00\", \"2019-10-01T00:00:00\", \"2019-11-01T00:00:00\", \"2019-12-01T00:00:00\"], \"xaxis\": \"x3\", \"y\": [0.04690893866364157, 0.007820671106515055, 0.0011076122814430004, -0.004364308796694334, 0.03648568840533078, -0.021953855247281395, -0.002556657665025793, -0.011680409314685588, -0.02447330128805926, -0.056193826187757825, 0.0014132875347995174, -0.027594645487571325], \"yaxis\": \"y3\"}, {\"legendgroup\": \"YangForPresidentHQ\", \"line\": {\"color\": \"#19D3F3\", \"shape\": \"spline\"}, \"mode\": \"lines\", \"name\": \"YangForPresidentHQ\", \"showlegend\": false, \"type\": \"scatter\", \"x\": [\"2019-01-01T00:00:00\", \"2019-02-01T00:00:00\", \"2019-03-01T00:00:00\", \"2019-04-01T00:00:00\", \"2019-05-01T00:00:00\", \"2019-06-01T00:00:00\", \"2019-07-01T00:00:00\", \"2019-08-01T00:00:00\", \"2019-09-01T00:00:00\", \"2019-10-01T00:00:00\", \"2019-11-01T00:00:00\", \"2019-12-01T00:00:00\"], \"xaxis\": \"x3\", \"y\": [0.005514239491391781, 0.07652052476441393, -0.007274401651326526, -0.02763547163360624, -0.04442502289367514, -0.036475311215367005, -0.04393493678073351, -0.08226578973964027, -0.09628107124770653, -0.09152647065683324, -0.11563198357690203, -0.09543396536124767], \"yaxis\": \"y3\"}],\n",
       "                        {\"annotations\": [{\"font\": {\"size\": 16}, \"showarrow\": false, \"text\": \"Birth Control\", \"x\": 0.5, \"xanchor\": \"center\", \"xref\": \"paper\", \"y\": 1.0, \"yanchor\": \"bottom\", \"yref\": \"paper\"}, {\"font\": {\"size\": 16}, \"showarrow\": false, \"text\": \"Gun Control\", \"x\": 0.5, \"xanchor\": \"center\", \"xref\": \"paper\", \"y\": 0.6111111111111112, \"yanchor\": \"bottom\", \"yref\": \"paper\"}, {\"font\": {\"size\": 16}, \"showarrow\": false, \"text\": \"Age\", \"x\": 0.5, \"xanchor\": \"center\", \"xref\": \"paper\", \"y\": 0.22222222222222224, \"yanchor\": \"bottom\", \"yref\": \"paper\"}], \"template\": {\"data\": {\"bar\": [{\"error_x\": {\"color\": \"#2a3f5f\"}, \"error_y\": {\"color\": \"#2a3f5f\"}, \"marker\": {\"line\": {\"color\": \"#E5ECF6\", \"width\": 0.5}}, \"type\": \"bar\"}], \"barpolar\": [{\"marker\": {\"line\": {\"color\": \"#E5ECF6\", \"width\": 0.5}}, \"type\": \"barpolar\"}], \"carpet\": [{\"aaxis\": {\"endlinecolor\": \"#2a3f5f\", \"gridcolor\": \"white\", \"linecolor\": \"white\", \"minorgridcolor\": \"white\", \"startlinecolor\": \"#2a3f5f\"}, \"baxis\": {\"endlinecolor\": \"#2a3f5f\", \"gridcolor\": \"white\", \"linecolor\": \"white\", \"minorgridcolor\": \"white\", \"startlinecolor\": \"#2a3f5f\"}, \"type\": \"carpet\"}], \"choropleth\": [{\"colorbar\": {\"outlinewidth\": 0, \"ticks\": \"\"}, \"type\": \"choropleth\"}], \"contour\": [{\"colorbar\": {\"outlinewidth\": 0, \"ticks\": \"\"}, \"colorscale\": [[0.0, \"#0d0887\"], [0.1111111111111111, \"#46039f\"], [0.2222222222222222, \"#7201a8\"], [0.3333333333333333, \"#9c179e\"], [0.4444444444444444, \"#bd3786\"], [0.5555555555555556, \"#d8576b\"], [0.6666666666666666, \"#ed7953\"], [0.7777777777777778, \"#fb9f3a\"], [0.8888888888888888, \"#fdca26\"], [1.0, \"#f0f921\"]], \"type\": \"contour\"}], \"contourcarpet\": [{\"colorbar\": {\"outlinewidth\": 0, \"ticks\": \"\"}, \"type\": \"contourcarpet\"}], \"heatmap\": [{\"colorbar\": {\"outlinewidth\": 0, \"ticks\": \"\"}, \"colorscale\": [[0.0, \"#0d0887\"], [0.1111111111111111, \"#46039f\"], [0.2222222222222222, \"#7201a8\"], [0.3333333333333333, \"#9c179e\"], [0.4444444444444444, \"#bd3786\"], [0.5555555555555556, \"#d8576b\"], [0.6666666666666666, \"#ed7953\"], [0.7777777777777778, \"#fb9f3a\"], [0.8888888888888888, \"#fdca26\"], [1.0, \"#f0f921\"]], \"type\": \"heatmap\"}], \"heatmapgl\": [{\"colorbar\": {\"outlinewidth\": 0, \"ticks\": \"\"}, \"colorscale\": [[0.0, \"#0d0887\"], [0.1111111111111111, \"#46039f\"], [0.2222222222222222, \"#7201a8\"], [0.3333333333333333, \"#9c179e\"], [0.4444444444444444, \"#bd3786\"], [0.5555555555555556, \"#d8576b\"], [0.6666666666666666, \"#ed7953\"], [0.7777777777777778, \"#fb9f3a\"], [0.8888888888888888, \"#fdca26\"], [1.0, \"#f0f921\"]], \"type\": \"heatmapgl\"}], \"histogram\": [{\"marker\": {\"colorbar\": {\"outlinewidth\": 0, \"ticks\": \"\"}}, \"type\": \"histogram\"}], \"histogram2d\": [{\"colorbar\": {\"outlinewidth\": 0, \"ticks\": \"\"}, \"colorscale\": [[0.0, \"#0d0887\"], [0.1111111111111111, \"#46039f\"], [0.2222222222222222, \"#7201a8\"], [0.3333333333333333, \"#9c179e\"], [0.4444444444444444, \"#bd3786\"], [0.5555555555555556, \"#d8576b\"], [0.6666666666666666, \"#ed7953\"], [0.7777777777777778, \"#fb9f3a\"], [0.8888888888888888, \"#fdca26\"], [1.0, \"#f0f921\"]], \"type\": \"histogram2d\"}], \"histogram2dcontour\": [{\"colorbar\": {\"outlinewidth\": 0, \"ticks\": \"\"}, \"colorscale\": [[0.0, \"#0d0887\"], [0.1111111111111111, \"#46039f\"], [0.2222222222222222, \"#7201a8\"], [0.3333333333333333, \"#9c179e\"], [0.4444444444444444, \"#bd3786\"], [0.5555555555555556, \"#d8576b\"], [0.6666666666666666, \"#ed7953\"], [0.7777777777777778, \"#fb9f3a\"], [0.8888888888888888, \"#fdca26\"], [1.0, \"#f0f921\"]], \"type\": \"histogram2dcontour\"}], \"mesh3d\": [{\"colorbar\": {\"outlinewidth\": 0, \"ticks\": \"\"}, \"type\": \"mesh3d\"}], \"parcoords\": [{\"line\": {\"colorbar\": {\"outlinewidth\": 0, \"ticks\": \"\"}}, \"type\": \"parcoords\"}], \"pie\": [{\"automargin\": true, \"type\": \"pie\"}], \"scatter\": [{\"marker\": {\"colorbar\": {\"outlinewidth\": 0, \"ticks\": \"\"}}, \"type\": \"scatter\"}], \"scatter3d\": [{\"line\": {\"colorbar\": {\"outlinewidth\": 0, \"ticks\": \"\"}}, \"marker\": {\"colorbar\": {\"outlinewidth\": 0, \"ticks\": \"\"}}, \"type\": \"scatter3d\"}], \"scattercarpet\": [{\"marker\": {\"colorbar\": {\"outlinewidth\": 0, \"ticks\": \"\"}}, \"type\": \"scattercarpet\"}], \"scattergeo\": [{\"marker\": {\"colorbar\": {\"outlinewidth\": 0, \"ticks\": \"\"}}, \"type\": \"scattergeo\"}], \"scattergl\": [{\"marker\": {\"colorbar\": {\"outlinewidth\": 0, \"ticks\": \"\"}}, \"type\": \"scattergl\"}], \"scattermapbox\": [{\"marker\": {\"colorbar\": {\"outlinewidth\": 0, \"ticks\": \"\"}}, \"type\": \"scattermapbox\"}], \"scatterpolar\": [{\"marker\": {\"colorbar\": {\"outlinewidth\": 0, \"ticks\": \"\"}}, \"type\": \"scatterpolar\"}], \"scatterpolargl\": [{\"marker\": {\"colorbar\": {\"outlinewidth\": 0, \"ticks\": \"\"}}, \"type\": \"scatterpolargl\"}], \"scatterternary\": [{\"marker\": {\"colorbar\": {\"outlinewidth\": 0, \"ticks\": \"\"}}, \"type\": \"scatterternary\"}], \"surface\": [{\"colorbar\": {\"outlinewidth\": 0, \"ticks\": \"\"}, \"colorscale\": [[0.0, \"#0d0887\"], [0.1111111111111111, \"#46039f\"], [0.2222222222222222, \"#7201a8\"], [0.3333333333333333, \"#9c179e\"], [0.4444444444444444, \"#bd3786\"], [0.5555555555555556, \"#d8576b\"], [0.6666666666666666, \"#ed7953\"], [0.7777777777777778, \"#fb9f3a\"], [0.8888888888888888, \"#fdca26\"], [1.0, \"#f0f921\"]], \"type\": \"surface\"}], \"table\": [{\"cells\": {\"fill\": {\"color\": \"#EBF0F8\"}, \"line\": {\"color\": \"white\"}}, \"header\": {\"fill\": {\"color\": \"#C8D4E3\"}, \"line\": {\"color\": \"white\"}}, \"type\": \"table\"}]}, \"layout\": {\"annotationdefaults\": {\"arrowcolor\": \"#2a3f5f\", \"arrowhead\": 0, \"arrowwidth\": 1}, \"coloraxis\": {\"colorbar\": {\"outlinewidth\": 0, \"ticks\": \"\"}}, \"colorscale\": {\"diverging\": [[0, \"#8e0152\"], [0.1, \"#c51b7d\"], [0.2, \"#de77ae\"], [0.3, \"#f1b6da\"], [0.4, \"#fde0ef\"], [0.5, \"#f7f7f7\"], [0.6, \"#e6f5d0\"], [0.7, \"#b8e186\"], [0.8, \"#7fbc41\"], [0.9, \"#4d9221\"], [1, \"#276419\"]], \"sequential\": [[0.0, \"#0d0887\"], [0.1111111111111111, \"#46039f\"], [0.2222222222222222, \"#7201a8\"], [0.3333333333333333, \"#9c179e\"], [0.4444444444444444, \"#bd3786\"], [0.5555555555555556, \"#d8576b\"], [0.6666666666666666, \"#ed7953\"], [0.7777777777777778, \"#fb9f3a\"], [0.8888888888888888, \"#fdca26\"], [1.0, \"#f0f921\"]], \"sequentialminus\": [[0.0, \"#0d0887\"], [0.1111111111111111, \"#46039f\"], [0.2222222222222222, \"#7201a8\"], [0.3333333333333333, \"#9c179e\"], [0.4444444444444444, \"#bd3786\"], [0.5555555555555556, \"#d8576b\"], [0.6666666666666666, \"#ed7953\"], [0.7777777777777778, \"#fb9f3a\"], [0.8888888888888888, \"#fdca26\"], [1.0, \"#f0f921\"]]}, \"colorway\": [\"#636efa\", \"#EF553B\", \"#00cc96\", \"#ab63fa\", \"#FFA15A\", \"#19d3f3\", \"#FF6692\", \"#B6E880\", \"#FF97FF\", \"#FECB52\"], \"font\": {\"color\": \"#2a3f5f\"}, \"geo\": {\"bgcolor\": \"white\", \"lakecolor\": \"white\", \"landcolor\": \"#E5ECF6\", \"showlakes\": true, \"showland\": true, \"subunitcolor\": \"white\"}, \"hoverlabel\": {\"align\": \"left\"}, \"hovermode\": \"closest\", \"mapbox\": {\"style\": \"light\"}, \"paper_bgcolor\": \"white\", \"plot_bgcolor\": \"#E5ECF6\", \"polar\": {\"angularaxis\": {\"gridcolor\": \"white\", \"linecolor\": \"white\", \"ticks\": \"\"}, \"bgcolor\": \"#E5ECF6\", \"radialaxis\": {\"gridcolor\": \"white\", \"linecolor\": \"white\", \"ticks\": \"\"}}, \"scene\": {\"xaxis\": {\"backgroundcolor\": \"#E5ECF6\", \"gridcolor\": \"white\", \"gridwidth\": 2, \"linecolor\": \"white\", \"showbackground\": true, \"ticks\": \"\", \"zerolinecolor\": \"white\"}, \"yaxis\": {\"backgroundcolor\": \"#E5ECF6\", \"gridcolor\": \"white\", \"gridwidth\": 2, \"linecolor\": \"white\", \"showbackground\": true, \"ticks\": \"\", \"zerolinecolor\": \"white\"}, \"zaxis\": {\"backgroundcolor\": \"#E5ECF6\", \"gridcolor\": \"white\", \"gridwidth\": 2, \"linecolor\": \"white\", \"showbackground\": true, \"ticks\": \"\", \"zerolinecolor\": \"white\"}}, \"shapedefaults\": {\"line\": {\"color\": \"#2a3f5f\"}}, \"ternary\": {\"aaxis\": {\"gridcolor\": \"white\", \"linecolor\": \"white\", \"ticks\": \"\"}, \"baxis\": {\"gridcolor\": \"white\", \"linecolor\": \"white\", \"ticks\": \"\"}, \"bgcolor\": \"#E5ECF6\", \"caxis\": {\"gridcolor\": \"white\", \"linecolor\": \"white\", \"ticks\": \"\"}}, \"title\": {\"x\": 0.05}, \"xaxis\": {\"automargin\": true, \"gridcolor\": \"white\", \"linecolor\": \"white\", \"ticks\": \"\", \"title\": {\"standoff\": 15}, \"zerolinecolor\": \"white\", \"zerolinewidth\": 2}, \"yaxis\": {\"automargin\": true, \"gridcolor\": \"white\", \"linecolor\": \"white\", \"ticks\": \"\", \"title\": {\"standoff\": 15}, \"zerolinecolor\": \"white\", \"zerolinewidth\": 2}}}, \"title\": {\"text\": \"<b>Political Dimension Stability</b>\"}, \"xaxis\": {\"anchor\": \"y\", \"domain\": [0.0, 1.0]}, \"xaxis2\": {\"anchor\": \"y2\", \"domain\": [0.0, 1.0]}, \"xaxis3\": {\"anchor\": \"y3\", \"domain\": [0.0, 1.0]}, \"yaxis\": {\"anchor\": \"x\", \"domain\": [0.7777777777777778, 1.0]}, \"yaxis2\": {\"anchor\": \"x2\", \"domain\": [0.3888888888888889, 0.6111111111111112]}, \"yaxis3\": {\"anchor\": \"x3\", \"domain\": [0.0, 0.22222222222222224]}},\n",
       "                        {\"responsive\": true}\n",
       "                    ).then(function(){\n",
       "                            \n",
       "var gd = document.getElementById('2291115a-f516-4b5f-b597-a7ae986cfa90');\n",
       "var x = new MutationObserver(function (mutations, observer) {{\n",
       "        var display = window.getComputedStyle(gd).display;\n",
       "        if (!display || display === 'none') {{\n",
       "            console.log([gd, 'removed!']);\n",
       "            Plotly.purge(gd);\n",
       "            observer.disconnect();\n",
       "        }}\n",
       "}});\n",
       "\n",
       "// Listen for the removal of the full notebook cells\n",
       "var notebookContainer = gd.closest('#notebook-container');\n",
       "if (notebookContainer) {{\n",
       "    x.observe(notebookContainer, {childList: true});\n",
       "}}\n",
       "\n",
       "// Listen for the clearing of the current output cell\n",
       "var outputEl = gd.closest('.output');\n",
       "if (outputEl) {{\n",
       "    x.observe(outputEl, {childList: true});\n",
       "}}\n",
       "\n",
       "                        })\n",
       "                };\n",
       "                });\n",
       "            </script>\n",
       "        </div>"
      ]
     },
     "metadata": {},
     "output_type": "display_data"
    }
   ],
   "source": [
    "fig = make_subplots(\n",
    "    rows=len(t_ds),\n",
    "    cols=1,\n",
    "    subplot_titles=dim_df.columns)\n",
    "\n",
    "for i,dim in enumerate(dim_df.columns):\n",
    "    isolated = dim_df[dim].reset_index().pivot(index='date', columns='subreddit', values=dim)\n",
    "    for cand in isolated.columns:   \n",
    "        fig.add_trace(go.Scatter(x=isolated.index,\n",
    "                                 y=isolated[cand], \n",
    "                                 name=cand,\n",
    "                                 legendgroup=cand,\n",
    "                                 mode='lines',\n",
    "                                 line_shape=\"spline\",\n",
    "                                 line=dict(color=mapping[cand]),\n",
    "                                 showlegend = True if not i else False\n",
    "                                ),\n",
    "                     row=i+1,\n",
    "                     col=1)\n",
    "        \n",
    "fig.update_layout(title_text=\"<b>Political Dimension Stability</b>\")\n",
    "fig.show()"
   ]
  },
  {
   "cell_type": "code",
   "execution_count": null,
   "metadata": {},
   "outputs": [],
   "source": []
  }
 ],
 "metadata": {
  "kernelspec": {
   "display_name": "Python 3",
   "language": "python",
   "name": "python3"
  },
  "language_info": {
   "codemirror_mode": {
    "name": "ipython",
    "version": 3
   },
   "file_extension": ".py",
   "mimetype": "text/x-python",
   "name": "python",
   "nbconvert_exporter": "python",
   "pygments_lexer": "ipython3",
   "version": "3.7.7"
  }
 },
 "nbformat": 4,
 "nbformat_minor": 4
}
