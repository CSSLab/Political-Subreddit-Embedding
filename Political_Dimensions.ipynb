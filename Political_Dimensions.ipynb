{
 "cells": [
  {
   "cell_type": "code",
   "execution_count": 4,
   "metadata": {},
   "outputs": [
    {
     "name": "stderr",
     "output_type": "stream",
     "text": [
      "/h/224/cameron/miniconda3/envs/pyspark_env/lib/python3.7/site-packages/tqdm/std.py:668: FutureWarning: The Panel class is removed from pandas. Accessing it from the top-level namespace will also be removed in the next version\n",
      "  from pandas import Panel\n"
     ]
    }
   ],
   "source": [
    "from utils import load_embedding, parse_tup, cos_sim, cos_dist\n",
    "from sklearn.decomposition import PCA\n",
    "from tqdm.auto import tqdm\n",
    "import numpy as np\n",
    "import pandas as pd\n",
    "tqdm.pandas()\n",
    "TIME_FRAME = \"monthly\""
   ]
  },
  {
   "cell_type": "code",
   "execution_count": 11,
   "metadata": {},
   "outputs": [
    {
     "name": "stdout",
     "output_type": "stream",
     "text": [
      "1      0.217177\n",
      "2      0.071641\n",
      "3     -0.162866\n",
      "4      0.141148\n",
      "5     -0.100349\n",
      "         ...   \n",
      "146    0.096620\n",
      "147    0.090875\n",
      "148   -0.141013\n",
      "149    0.152014\n",
      "150    0.026513\n",
      "Name: AskMen, Length: 150, dtype: float64\n"
     ]
    }
   ],
   "source": [
    "embedding = load_embedding(\"/h/224/cameron/Political-Subreddit-Embedding/trained_embeddings/vecs_0.0028_15.0.txt\",split=False)\n",
    "embedding\n",
    "print(embedding.loc[\"AskMen\"])"
   ]
  },
  {
   "cell_type": "code",
   "execution_count": 22,
   "metadata": {},
   "outputs": [
    {
     "data": {
      "image/png": "[encoded data removed]",
      "text/plain": [
       "<Figure size 432x288 with 1 Axes>"
      ]
     },
     "metadata": {
      "needs_background": "light"
     },
     "output_type": "display_data"
    }
   ],
   "source": [
    "import matplotlib.pyplot as plt\n",
    "\n",
    "plt.figure()\n",
    "plt.hist(np.linalg.norm(embedding, axis=0), bins=50)\n",
    "plt.ylabel(\"frequency\")\n",
    "plt.xlabel(\"norm\")\n",
    "plt.show()"
   ]
  },
  {
   "cell_type": "code",
   "execution_count": 38,
   "metadata": {},
   "outputs": [
    {
     "name": "stdout",
     "output_type": "stream",
     "text": [
      "prolife religious scale: -0.08\n",
      "Conservative religious scale: -0.08\n",
      "The_Donald religious scale: -0.12\n",
      "JoeBiden religious scale: 0.07\n",
      "Pete_Buttigieg religious scale: -0.00\n",
      "SandersForPresident religious scale: -0.09\n",
      "prochoice religious scale: -0.08\n"
     ]
    }
   ],
   "source": [
    "from ipynb.fs.defs.Analogies import predict_analogies, score, get_possible_fits\n",
    "religious_dim = [(\"Christianity\",\"exchristian\"),(\"TraditionalCatholics\",\"excatholic\"),(\"lds\",\"exmormon\"),(\"islam\",\"exmuslim\")]\n",
    "def calculate_dim(dimensions,e):\n",
    "    \"\"\"\n",
    "        Takes in a list of tuples and calcualtes the dimension from ap -> a. IE if we have the subreddits AskMen (a) and\n",
    "        AskWomen (ap). The \"masculine\" vector transformation is a - ap.\n",
    "        Returns the average transformation.\n",
    "    \"\"\"\n",
    "    dimensions = dimensions if type(dimensions) is list else [dimensions]\n",
    "    calc_trans = lambda vec_a,vec_ap : vec_a - vec_ap \n",
    "    transformations = np.array([calc_trans(e.loc[a],e.loc[ap]) for (a,ap) in dimensions])\n",
    "    return np.mean(transformations,axis=0)\n",
    "\n",
    "project_dim = lambda dim,sub,e : cos_sim(dim,e.loc[sub])\n",
    "    \n",
    "religious_dim = calculate_dim(religious_dim,embedding)\n",
    "print(\"{} religious scale: {:.2f}\".format(\"prolife\",project_dim(religious_dim,\"prolife\",embedding)))\n",
    "print(\"{} religious scale: {:.2f}\".format(\"Conservative\",project_dim(religious_dim,\"Conservative\",embedding)))\n",
    "print(\"{} religious scale: {:.2f}\".format(\"The_Donald\",project_dim(religious_dim,\"The_Donald\",embedding)))\n",
    "print(\"{} religious scale: {:.2f}\".format(\"JoeBiden\",project_dim(religious_dim,\"JoeBiden\",embedding)))\n",
    "print(\"{} religious scale: {:.2f}\".format(\"Pete_Buttigieg\",project_dim(religious_dim,\"Pete_Buttigieg\",embedding)))\n",
    "print(\"{} religious scale: {:.2f}\".format(\"SandersForPresident\",project_dim(religious_dim,\"SandersForPresident\",embedding)))\n",
    "print(\"{} religious scale: {:.2f}\".format(\"prochoice\",project_dim(religious_dim,\"prochoice\",embedding)))"
   ]
  },
  {
   "cell_type": "code",
   "execution_count": null,
   "metadata": {},
   "outputs": [],
   "source": []
  }
 ],
 "metadata": {
  "kernelspec": {
   "display_name": "Python 3",
   "language": "python",
   "name": "python3"
  },
  "language_info": {
   "codemirror_mode": {
    "name": "ipython",
    "version": 3
   },
   "file_extension": ".py",
   "mimetype": "text/x-python",
   "name": "python",
   "nbconvert_exporter": "python",
   "pygments_lexer": "ipython3",
   "version": "3.7.7"
  }
 },
 "nbformat": 4,
 "nbformat_minor": 4
}
