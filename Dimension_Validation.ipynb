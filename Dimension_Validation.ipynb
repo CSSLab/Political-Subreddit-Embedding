{
 "cells": [
  {
   "cell_type": "markdown",
   "metadata": {},
   "source": [
    "# Dimension Validation\n",
    "\n",
    "Goal: For each dimension, take words that aligns with and oppose the dimension. Collect all the subreddits that use those word in the comments and take the 50 subreddits that use those words the most. Hand label the subreddits as pro, against or unclear for that dimension and project them onto the dimension. See if the political dimension picks up on the differences.\n",
    "\n",
    "* Ideology Words:\n",
    "    * Left Words: progressive, socialism\n",
    "    * Right Words: conservative, libtard (gotta pick up those alt right ones), based\n",
    "* Religious: \n",
    "    * Religious: bible, jesus, pray, church, mosque\n",
    "    * Secular: atheism\n",
    "* Birth Control Words: abortion, feminism, feminazi, \"birth control\"\n",
    "* Gun Control Words: \n",
    "    * More Regulaton: \"gun control\", \"gun nuts\", \"gun regulation\"\n",
    "    * Less Regulation: \"gun rights\", \"second amendment\", \"2 amendment\"\n",
    "* Age Words: \n",
    "    * Older: career, family, retirement, mortgage\n",
    "    * Younger: \"high school\", homework, internship, crush\n",
    "* Globalism Words: \"free trade\", \"globalism\", neoliberal, Friedman\n",
    "* War Words: war, troops, veterans, 9/11, \"drone strike\", \"war on terror\"\n"
   ]
  },
  {
   "cell_type": "code",
   "execution_count": 1,
   "metadata": {},
   "outputs": [],
   "source": [
    "import findspark\n",
    "findspark.init(\"/h/224/cameron/spark-3.0.0-preview2-bin-hadoop2.7\")\n",
    "from utils import load_embedding, parse_tup, cos_sim, cos_dist\n",
    "from kaleido.scopes.plotly import PlotlyScope\n",
    "from pyspark.sql import SparkSession\n",
    "from tqdm.auto import tqdm\n",
    "from datetime import datetime\n",
    "import plotly.express as px\n",
    "import plotly.express as go\n",
    "import pandas as pd\n",
    "import numpy as np\n",
    "scope = PlotlyScope()\n",
    "left_candidates = [\"JoeBiden\",\"SandersForPresident\",\"BaemyKlobaechar\",\"ElizabethWarren\",\"Pete_Buttigieg\",\"YangForPresidentHQ\"]\n",
    "mapping = {}\n",
    "for a,b in zip(left_candidates,px.colors.qualitative.Plotly):\n",
    "    mapping[a] = b"
   ]
  },
  {
   "cell_type": "code",
   "execution_count": 2,
   "metadata": {},
   "outputs": [
    {
     "name": "stdout",
     "output_type": "stream",
     "text": [
      "root\n",
      " |-- author: string (nullable = false)\n",
      " |-- subreddit: string (nullable = false)\n",
      " |-- body: string (nullable = false)\n",
      " |-- created_utc: integer (nullable = true)\n",
      "\n"
     ]
    }
   ],
   "source": [
    "spark = SparkSession.builder.getOrCreate()\n",
    "spark.sparkContext.getConf().getAll()\n",
    "spark.catalog.clearCache()\n",
    "# Load the Parquet data\n",
    "comments = spark.read.load(\"/comments_2019.parquet\").fillna(\"\")\n",
    "subreddits = spark.read.load(\"dataframes/subreddits.parquet\")\n",
    "comments = comments.join(subreddits, ['subreddit'], 'leftsemi')\n",
    "subreddits = subreddits.selectExpr(\"subreddit as subreddit\",\"count as totalCount\")\n",
    "cols = ['author','subreddit','body','created_utc']\n",
    "comments = comments.select(*cols)\n",
    "comments.printSchema()"
   ]
  },
  {
   "cell_type": "markdown",
   "metadata": {},
   "source": [
    "## Find Top 30\n",
    "\n",
    "Top 30 subreddits that use representative words with the highest proportion"
   ]
  },
  {
   "cell_type": "code",
   "execution_count": 38,
   "metadata": {},
   "outputs": [
    {
     "data": {
      "application/vnd.jupyter.widget-view+json": {
       "model_id": "2eb98cdb3e524872b0c3cd256be55e27",
       "version_major": 2,
       "version_minor": 0
      },
      "text/plain": [
       "HBox(children=(FloatProgress(value=0.0, max=7.0), HTML(value='')))"
      ]
     },
     "metadata": {},
     "output_type": "display_data"
    },
    {
     "name": "stdout",
     "output_type": "stream",
     "text": [
      "\n"
     ]
    },
    {
     "data": {
      "text/html": [
       "<div>\n",
       "<style scoped>\n",
       "    .dataframe tbody tr th:only-of-type {\n",
       "        vertical-align: middle;\n",
       "    }\n",
       "\n",
       "    .dataframe tbody tr th {\n",
       "        vertical-align: top;\n",
       "    }\n",
       "\n",
       "    .dataframe thead th {\n",
       "        text-align: right;\n",
       "    }\n",
       "</style>\n",
       "<table border=\"1\" class=\"dataframe\">\n",
       "  <thead>\n",
       "    <tr style=\"text-align: right;\">\n",
       "      <th></th>\n",
       "      <th>subreddit</th>\n",
       "      <th>count</th>\n",
       "      <th>proportion</th>\n",
       "      <th>dim</th>\n",
       "      <th>label</th>\n",
       "      <th>alignment</th>\n",
       "    </tr>\n",
       "  </thead>\n",
       "  <tbody>\n",
       "    <tr>\n",
       "      <th>0</th>\n",
       "      <td>AquaSama</td>\n",
       "      <td>16607</td>\n",
       "      <td>0.540153</td>\n",
       "      <td>Religiosity</td>\n",
       "      <td>NaN</td>\n",
       "      <td>NaN</td>\n",
       "    </tr>\n",
       "    <tr>\n",
       "      <th>1</th>\n",
       "      <td>PrayerRequests</td>\n",
       "      <td>4812</td>\n",
       "      <td>0.301202</td>\n",
       "      <td>Religiosity</td>\n",
       "      <td>Religious</td>\n",
       "      <td>Aligned</td>\n",
       "    </tr>\n",
       "    <tr>\n",
       "      <th>2</th>\n",
       "      <td>Anglicanism</td>\n",
       "      <td>6392</td>\n",
       "      <td>0.223169</td>\n",
       "      <td>Religiosity</td>\n",
       "      <td>Religious</td>\n",
       "      <td>Aligned</td>\n",
       "    </tr>\n",
       "    <tr>\n",
       "      <th>3</th>\n",
       "      <td>mormon</td>\n",
       "      <td>26108</td>\n",
       "      <td>0.215051</td>\n",
       "      <td>Religiosity</td>\n",
       "      <td>Religious</td>\n",
       "      <td>Aligned</td>\n",
       "    </tr>\n",
       "    <tr>\n",
       "      <th>4</th>\n",
       "      <td>RPChristians</td>\n",
       "      <td>2151</td>\n",
       "      <td>0.206311</td>\n",
       "      <td>Religiosity</td>\n",
       "      <td>Religious</td>\n",
       "      <td>Aligned</td>\n",
       "    </tr>\n",
       "    <tr>\n",
       "      <th>...</th>\n",
       "      <td>...</td>\n",
       "      <td>...</td>\n",
       "      <td>...</td>\n",
       "      <td>...</td>\n",
       "      <td>...</td>\n",
       "      <td>...</td>\n",
       "    </tr>\n",
       "    <tr>\n",
       "      <th>25</th>\n",
       "      <td>PublishProtocol</td>\n",
       "      <td>3380</td>\n",
       "      <td>0.220325</td>\n",
       "      <td>War</td>\n",
       "      <td>NaN</td>\n",
       "      <td>NaN</td>\n",
       "    </tr>\n",
       "    <tr>\n",
       "      <th>26</th>\n",
       "      <td>dwarffortress</td>\n",
       "      <td>21998</td>\n",
       "      <td>0.219831</td>\n",
       "      <td>War</td>\n",
       "      <td>NaN</td>\n",
       "      <td>NaN</td>\n",
       "    </tr>\n",
       "    <tr>\n",
       "      <th>27</th>\n",
       "      <td>vmware</td>\n",
       "      <td>10203</td>\n",
       "      <td>0.215982</td>\n",
       "      <td>War</td>\n",
       "      <td>NaN</td>\n",
       "      <td>NaN</td>\n",
       "    </tr>\n",
       "    <tr>\n",
       "      <th>28</th>\n",
       "      <td>flairwars</td>\n",
       "      <td>5208</td>\n",
       "      <td>0.206626</td>\n",
       "      <td>War</td>\n",
       "      <td>NaN</td>\n",
       "      <td>NaN</td>\n",
       "    </tr>\n",
       "    <tr>\n",
       "      <th>29</th>\n",
       "      <td>de_IAmA</td>\n",
       "      <td>4439</td>\n",
       "      <td>0.205348</td>\n",
       "      <td>War</td>\n",
       "      <td>NaN</td>\n",
       "      <td>NaN</td>\n",
       "    </tr>\n",
       "  </tbody>\n",
       "</table>\n",
       "<p>210 rows × 6 columns</p>\n",
       "</div>"
      ],
      "text/plain": [
       "          subreddit  count  proportion          dim      label alignment\n",
       "0          AquaSama  16607    0.540153  Religiosity        NaN       NaN\n",
       "1    PrayerRequests   4812    0.301202  Religiosity  Religious   Aligned\n",
       "2       Anglicanism   6392    0.223169  Religiosity  Religious   Aligned\n",
       "3            mormon  26108    0.215051  Religiosity  Religious   Aligned\n",
       "4      RPChristians   2151    0.206311  Religiosity  Religious   Aligned\n",
       "..              ...    ...         ...          ...        ...       ...\n",
       "25  PublishProtocol   3380    0.220325          War        NaN       NaN\n",
       "26    dwarffortress  21998    0.219831          War        NaN       NaN\n",
       "27           vmware  10203    0.215982          War        NaN       NaN\n",
       "28        flairwars   5208    0.206626          War        NaN       NaN\n",
       "29          de_IAmA   4439    0.205348          War        NaN       NaN\n",
       "\n",
       "[210 rows x 6 columns]"
      ]
     },
     "execution_count": 38,
     "metadata": {},
     "output_type": "execute_result"
    }
   ],
   "source": [
    "import pyspark.sql.functions as f\n",
    "\n",
    "dim_names = [\"Ideology\",\"Religiosity\",\"Birth Control\",\"Gun Control\",\"Age\",\"Trade\",\"War\"]\n",
    "word_pairs = [[\"progressive\",\"conservative\",\"libtard\",\"socialism\",\"capitalism\",\"based\"],\n",
    "              [\"bible\", \"jesus\", \"atheism\", \"pray\", \"church\", \"mosque\"],\n",
    "              [\"abortion\", \"feminism\", \"feminazi\", \"birth control\"],\n",
    "              [\"gun control\", \"gun rights\", \"second amendment\", \"2 amendment\"],\n",
    "              [\"career\", \"family\", \"retirement\", \"mortgage\", \"high school\", \"homework\", \"internship\",\"crush\"],\n",
    "              [\"free trade\", \"globalism\",\"neoliberal\",\"friedman\"],\n",
    "              [\"war\", \"troops\", \"veterans\", \"9/11\", \"drone strike\",\"war on terror\"]]\n",
    "\n",
    "try:\n",
    "    counts_df = pd.read_csv(\"external_datasets/validation/dimension_validation_2.csv\",index_col=0)\n",
    "except:\n",
    "    counts_df = pd.DataFrame(columns=[\"subreddit\",\"count\",\"proportion\",\"dim\",\"label\",\"alignment\"])\n",
    "    counts_df.to_csv('external_datasets/validation/dimension_validation_2.csv')\n",
    "\n",
    "\n",
    "\n",
    "for name,words in tqdm(list(zip(dim_names,word_pairs))):\n",
    "    if not name in list(counts_df[\"dim\"]):\n",
    "        print(name,words)\n",
    "        top_30 = comments[comments['body'].rlike('|'.join(words))].groupBy(\"subreddit\").count()\n",
    "        top_30 = top_30.join(subreddits, on=['subreddit'], how='left')\n",
    "        top_30 = top_30.withColumn(\"proportion\", (f.col(\"count\") / f.col(\"totalCount\")))\n",
    "        top_30_df = top_30.orderBy('proportion', ascending=False).limit(30).select(*[\"subreddit\",\"count\",\"proportion\"]).toPandas()\n",
    "        top_30.unpersist()\n",
    "        top_30_df[\"dim\"],top_30_df[\"label\"],top_30_df[\"alignment\"] = name,\"NA\"\n",
    "        top_30_df = top_30_df.reset_index()\n",
    "        top_30_df.to_csv('external_datasets/validation/dimension_validation_2.csv',index=False,mode='a', header=False)\n",
    "        \n",
    "counts_df = pd.read_csv(\"external_datasets/validation/dimension_validation_2.csv\",index_col=0)\n",
    "counts_df\n"
   ]
  },
  {
   "cell_type": "markdown",
   "metadata": {},
   "source": [
    "## Label Dimensions\n",
    "\n",
    "Done in vscode...."
   ]
  },
  {
   "cell_type": "markdown",
   "metadata": {},
   "source": [
    "## Dimension Validation"
   ]
  },
  {
   "cell_type": "code",
   "execution_count": 16,
   "metadata": {},
   "outputs": [],
   "source": [
    "embedding = load_embedding(\"/h/224/cameron/Political-Subreddit-Embedding/trained_embeddings/vecs_0.0028_15.0.txt\",split=False)\n"
   ]
  },
  {
   "cell_type": "code",
   "execution_count": 17,
   "metadata": {},
   "outputs": [],
   "source": [
    "from dataclasses import dataclass\n",
    "\n",
    "@dataclass\n",
    "class Dimension:\n",
    "    name: str\n",
    "    subreddits: list\n",
    "    tags: tuple\n",
    "        \n",
    "def calculate_dim(dimensions,e,return_stats=False):\n",
    "    \"\"\"\n",
    "        Takes in a list of tuples and calcualtes the dimension from ap -> a. IE if we have the subreddits AskMen (a) and\n",
    "        AskWomen (ap). The \"masculine\" vector transformation is a - ap.\n",
    "        Returns the average transformation and a tuple containing the mean and std deviation similarity between the individual \n",
    "        transformations.\n",
    "    \"\"\"\n",
    "    dimensions = dimensions if type(dimensions) is list else [dimensions]\n",
    "    calc_trans = lambda vec_a,vec_ap : vec_a - vec_ap \n",
    "    transformations = np.array([calc_trans(e.loc[a],e.loc[ap]) for (a,ap) in dimensions])\n",
    "    transformation = transformations.flatten() if transformations.shape[0] == 1 else np.mean(transformations,axis=0)\n",
    "    if return_stats:\n",
    "        sims = [cos_sim(t1,t2)  for t1 in list(transformations) for t2 in list(transformations) if not np.all(t1==t2)]\n",
    "        return transformation,(np.mean(sims),np.std(sims))\n",
    "    return transformation\n",
    "\n",
    "project_dim = lambda dim,sub,e : cos_sim(dim,e.loc[sub])"
   ]
  },
  {
   "cell_type": "markdown",
   "metadata": {},
   "source": [
    "## Validate Dimensions"
   ]
  },
  {
   "cell_type": "code",
   "execution_count": 28,
   "metadata": {},
   "outputs": [],
   "source": [
    "religious_subs = [(\"Christianity\",\"exchristian\"),\n",
    "                  (\"TraditionalCatholics\",\"excatholic\"),\n",
    "                  (\"lds\",\"exmormon\"),(\"mormon\",\"exmormon\"),(\"islam\",\"exmuslim\")]\n",
    "\n",
    "ideological_subs =[(\"Conservative\",\"progressive\"),\n",
    "                   (\"Republican\",\"democrats\"),\n",
    "                   (\"conservatives\",\"SocialDemocracy\"),\n",
    "                   (\"TheNewRight\",\"WeAreNotAsking\"),\n",
    "                   (\"neoliberal\",\"dsa\"),\n",
    "                   (\"Capitalism\",\"capitalism_in_decay\"),\n",
    "                   (\"walkaway\",\"LateStageImperialism\")]\n",
    "\n",
    "bc_subs = [(\"prolife\",\"prochoice\"),\n",
    "           (\"prolife\",\"birthcontrol\")]\n",
    "\n",
    "gc_subs= [(\"Firearms\",\"GunsAreCool\"),(\"progun\",\"GunsAreCool\")]\n",
    "age_subs = [(\"RedditForGrownups\",\"teenagers\"),\n",
    "            (\"RedditForGrownups\",\"teenagersnew\")]\n",
    "\n",
    "war_subs = [(\"CredibleDefense\",\"EndlessWar\"),\n",
    "            (\"WarCollege\",\"EndlessWar\"),\n",
    "            (\"Intelligence\",\"EndlessWar\")]\n",
    "\n",
    "glob_subs = [(\"neoliberal\",\"EnoughLibertarianSpam\"),\n",
    "             (\"Economics\",\"capitalism_in_decay\"),\n",
    "             (\"Libertarian\",\"EnoughLibertarianSpam\")\n",
    "            ]\n",
    "\n",
    "\n",
    "religious_dim = Dimension(\"Religiosity\",religious_subs,(\"Religious\",\"Secular\"))\n",
    "ideological_dim = Dimension(\"Ideology\",ideological_subs,(\"Conservativet\",\"Progressive\"))\n",
    "bc_dim = Dimension(\"Birth Control\",bc_subs,(\"Pro-Life\",\"Pro-Choice\"))\n",
    "gc_dim = Dimension(\"Gun Control\",gc_subs,(\"Less Regulation\",\"More Regulation\"))\n",
    "age_dim = Dimension(\"Age\",age_subs,(\"Older\",\"Younger\"))\n",
    "war_dim = Dimension(\"War\",war_subs,(\"Hawkish\",\"Pacifistic\"))\n",
    "glob_dim = Dimension(\"Trade\",glob_subs,(\"Pro-Trade\",\"Anti-Trade\"))\n",
    "\n",
    "dim_dict = {\n",
    "    \"Ideology\": ideological_dim,\n",
    "    \"Religiosity\": bc_dim,\n",
    "    \"Birth Control\": ideological_dim, \n",
    "    \"Gun Control\": gc_dim,\n",
    "    \"Age\": age_dim,\n",
    "    \"Trade\": glob_dim,\n",
    "    \"War\": war_dim\n",
    "}"
   ]
  },
  {
   "cell_type": "code",
   "execution_count": 35,
   "metadata": {
    "scrolled": true
   },
   "outputs": [
    {
     "data": {
      "text/html": [
       "<div>\n",
       "<style scoped>\n",
       "    .dataframe tbody tr th:only-of-type {\n",
       "        vertical-align: middle;\n",
       "    }\n",
       "\n",
       "    .dataframe tbody tr th {\n",
       "        vertical-align: top;\n",
       "    }\n",
       "\n",
       "    .dataframe thead th {\n",
       "        text-align: right;\n",
       "    }\n",
       "</style>\n",
       "<table border=\"1\" class=\"dataframe\">\n",
       "  <thead>\n",
       "    <tr style=\"text-align: right;\">\n",
       "      <th></th>\n",
       "      <th>subreddit</th>\n",
       "      <th>count</th>\n",
       "      <th>proportion</th>\n",
       "      <th>dim</th>\n",
       "      <th>label</th>\n",
       "      <th>alignment</th>\n",
       "      <th>projection</th>\n",
       "      <th>aligned</th>\n",
       "      <th>size</th>\n",
       "    </tr>\n",
       "  </thead>\n",
       "  <tbody>\n",
       "    <tr>\n",
       "      <th>29</th>\n",
       "      <td>de_IAmA</td>\n",
       "      <td>4439</td>\n",
       "      <td>0.205348</td>\n",
       "      <td>War</td>\n",
       "      <td>NA</td>\n",
       "      <td>NA</td>\n",
       "      <td>0.128284</td>\n",
       "      <td>NA</td>\n",
       "      <td>12.116019</td>\n",
       "    </tr>\n",
       "    <tr>\n",
       "      <th>14</th>\n",
       "      <td>resumes</td>\n",
       "      <td>17206</td>\n",
       "      <td>0.254448</td>\n",
       "      <td>War</td>\n",
       "      <td>NA</td>\n",
       "      <td>NA</td>\n",
       "      <td>0.112801</td>\n",
       "      <td>NA</td>\n",
       "      <td>14.070624</td>\n",
       "    </tr>\n",
       "    <tr>\n",
       "      <th>1</th>\n",
       "      <td>StrawHatRPG</td>\n",
       "      <td>8061</td>\n",
       "      <td>0.529423</td>\n",
       "      <td>War</td>\n",
       "      <td>NA</td>\n",
       "      <td>NA</td>\n",
       "      <td>0.006335</td>\n",
       "      <td>NA</td>\n",
       "      <td>12.976743</td>\n",
       "    </tr>\n",
       "    <tr>\n",
       "      <th>2</th>\n",
       "      <td>GCTrading</td>\n",
       "      <td>9297</td>\n",
       "      <td>0.373299</td>\n",
       "      <td>War</td>\n",
       "      <td>NA</td>\n",
       "      <td>NA</td>\n",
       "      <td>-0.099596</td>\n",
       "      <td>NA</td>\n",
       "      <td>13.182550</td>\n",
       "    </tr>\n",
       "    <tr>\n",
       "      <th>3</th>\n",
       "      <td>tud</td>\n",
       "      <td>1</td>\n",
       "      <td>0.333333</td>\n",
       "      <td>War</td>\n",
       "      <td>NA</td>\n",
       "      <td>NA</td>\n",
       "      <td>0.097676</td>\n",
       "      <td>NA</td>\n",
       "      <td>0.000000</td>\n",
       "    </tr>\n",
       "  </tbody>\n",
       "</table>\n",
       "</div>"
      ],
      "text/plain": [
       "      subreddit  count  proportion  dim label alignment  projection aligned  \\\n",
       "29      de_IAmA   4439    0.205348  War    NA        NA    0.128284      NA   \n",
       "14      resumes  17206    0.254448  War    NA        NA    0.112801      NA   \n",
       "1   StrawHatRPG   8061    0.529423  War    NA        NA    0.006335      NA   \n",
       "2     GCTrading   9297    0.373299  War    NA        NA   -0.099596      NA   \n",
       "3           tud      1    0.333333  War    NA        NA    0.097676      NA   \n",
       "\n",
       "         size  \n",
       "29  12.116019  \n",
       "14  14.070624  \n",
       "1   12.976743  \n",
       "2   13.182550  \n",
       "3    0.000000  "
      ]
     },
     "execution_count": 35,
     "metadata": {},
     "output_type": "execute_result"
    }
   ],
   "source": [
    "def get_projection(**kwargs):\n",
    "    sub = kwargs[\"subreddit\"]\n",
    "    dim = dim_dict[kwargs[\"dim\"]]\n",
    "    aligned = \"Aligned\" if kwargs[\"label\"] == dim.tags[0] else \"Opposed\" if kwargs[\"label\"] == dim.tags[1] else \"NA\"\n",
    "    dim_vec = calculate_dim(dim.subreddits,embedding)\n",
    "    return project_dim(dim_vec,sub,embedding),aligned\n",
    "counts_df[[\"projection\",\"aligned\"]] = counts_df.apply(lambda x : get_projection(**x),axis=1,result_type=\"expand\")\n",
    "counts_df = counts_df.fillna(\"NA\").sort_values(\"dim\",ascending=False)\n",
    "counts_df[\"size\"] = np.log2(counts_df[\"count\"])\n",
    "counts_df.head()"
   ]
  },
  {
   "cell_type": "code",
   "execution_count": 37,
   "metadata": {
    "scrolled": false
   },
   "outputs": [
    {
     "data": {
      "application/vnd.plotly.v1+json": {
       "config": {
        "plotlyServerURL": "https://plot.ly"
       },
       "data": [
        {
         "customdata": [
          [
           "de_IAmA",
           4439,
           "NA"
          ],
          [
           "resumes",
           17206,
           "NA"
          ],
          [
           "StrawHatRPG",
           8061,
           "NA"
          ],
          [
           "GCTrading",
           9297,
           "NA"
          ],
          [
           "tud",
           1,
           "NA"
          ],
          [
           "textfriends",
           3792,
           "NA"
          ],
          [
           "ClashOfClansRecruit",
           23264,
           "NA"
          ],
          [
           "unknownvideos",
           4219,
           "NA"
          ],
          [
           "funnyvideos",
           3700,
           "NA"
          ],
          [
           "AsianLadyBonerGW",
           5095,
           "NA"
          ],
          [
           "RandomActsOfBlowJob",
           90243,
           "NA"
          ],
          [
           "awoiafrp",
           8845,
           "NA"
          ],
          [
           "Bitwarden",
           2964,
           "NA"
          ],
          [
           "rwbyRP",
           6824,
           "NA"
          ],
          [
           "IronThroneRP",
           11616,
           "NA"
          ],
          [
           "flairwars",
           5208,
           "NA"
          ],
          [
           "vmware",
           10203,
           "NA"
          ],
          [
           "dwarffortress",
           21998,
           "NA"
          ],
          [
           "HistoryWhatIf",
           7014,
           "NA"
          ],
          [
           "PublishProtocol",
           3380,
           "NA"
          ],
          [
           "toyexchange",
           2693,
           "NA"
          ],
          [
           "Cash4Cash",
           6788,
           "NA"
          ],
          [
           "Newark",
           1503,
           "NA"
          ],
          [
           "HardwareSwapUK",
           11581,
           "NA"
          ],
          [
           "BeckleyOnReddit",
           1,
           "NA"
          ],
          [
           "Warts",
           2866,
           "NA"
          ],
          [
           "amherst",
           1,
           "NA"
          ],
          [
           "brasilnoticias",
           240,
           "NA"
          ],
          [
           "lostgeneration",
           1345,
           "NA"
          ],
          [
           "DebateCommunism",
           415,
           "NA"
          ],
          [
           "Argenpol",
           114,
           "NA"
          ],
          [
           "PoliticalCompass",
           219,
           "NA"
          ],
          [
           "ndp",
           85,
           "NA"
          ],
          [
           "canadaleft",
           80,
           "NA"
          ],
          [
           "BasicIncome",
           281,
           "NA"
          ],
          [
           "DebateAnarchism",
           96,
           "NA"
          ],
          [
           "LeftWingMaleAdvocates",
           78,
           "NA"
          ],
          [
           "AquaSama",
           16607,
           "NA"
          ],
          [
           "DebateAChristian",
           7223,
           "NA"
          ],
          [
           "jesuschristreddit",
           3159,
           "NA"
          ],
          [
           "AskAChristian",
           7103,
           "NA"
          ],
          [
           "swoleacceptance",
           1443,
           "NA"
          ],
          [
           "ICOAnalysis",
           2190,
           "NA"
          ],
          [
           "faireumofficial",
           1238,
           "NA"
          ],
          [
           "MoviePosterPorn",
           1964,
           "NA"
          ],
          [
           "KCL",
           4,
           "NA"
          ],
          [
           "AskConservatives",
           5228,
           "NA"
          ],
          [
           "askaconservative",
           9511,
           "NA"
          ],
          [
           "AskALiberal",
           23031,
           "NA"
          ],
          [
           "Crypto_General",
           1102,
           "NA"
          ],
          [
           "blockmason",
           2148,
           "NA"
          ],
          [
           "Fairfield",
           2,
           "NA"
          ],
          [
           "InsiderMemeTrading",
           5549,
           "NA"
          ],
          [
           "DebateAnarchism",
           2525,
           "NA"
          ],
          [
           "CapitalismVSocialism",
           72803,
           "NA"
          ],
          [
           "CineShots",
           2373,
           "NA"
          ],
          [
           "DebateCommunism",
           9930,
           "NA"
          ],
          [
           "PublishProtocol",
           4028,
           "NA"
          ],
          [
           "gunpolitics",
           6710,
           "NA"
          ],
          [
           "blacksburg",
           1,
           "NA"
          ],
          [
           "PoliticalDiscussion",
           1851,
           "NA"
          ],
          [
           "California_Politics",
           126,
           "NA"
          ],
          [
           "PoliticalOpinions",
           95,
           "NA"
          ],
          [
           "TexasPolitics",
           290,
           "NA"
          ],
          [
           "politicsdebate",
           102,
           "NA"
          ],
          [
           "stolaf",
           1,
           "NA"
          ],
          [
           "VirginiaPolitics",
           309,
           "NA"
          ],
          [
           "Virginia",
           696,
           "NA"
          ],
          [
           "ColoradoPolitics",
           131,
           "NA"
          ],
          [
           "scotus",
           180,
           "NA"
          ],
          [
           "amipregnant",
           955,
           "NA"
          ],
          [
           "Kent",
           7,
           "NA"
          ],
          [
           "Abortiondebate",
           42203,
           "NA"
          ],
          [
           "AskFeminists",
           11331,
           "NA"
          ],
          [
           "LeftWingMaleAdvocates",
           1502,
           "NA"
          ],
          [
           "Alabama",
           1047,
           "NA"
          ],
          [
           "GenderCriticalGuys",
           580,
           "NA"
          ],
          [
           "PoliticalOpinions",
           420,
           "NA"
          ],
          [
           "politicsdebate",
           356,
           "NA"
          ],
          [
           "OneY",
           283,
           "NA"
          ],
          [
           "childfree",
           26507,
           "NA"
          ],
          [
           "mormonpolitics",
           420,
           "NA"
          ],
          [
           "industrialized",
           12828,
           "NA"
          ],
          [
           "Fairfield",
           4,
           "NA"
          ],
          [
           "iwanttobeher",
           14329,
           "NA"
          ],
          [
           "Hairy",
           3266,
           "NA"
          ],
          [
           "HolyCross",
           1,
           "NA"
          ],
          [
           "asshole",
           16823,
           "NA"
          ],
          [
           "claremontcolleges",
           8,
           "NA"
          ],
          [
           "colum",
           5,
           "NA"
          ],
          [
           "funkoswap",
           13567,
           "NA"
          ],
          [
           "tud",
           1,
           "NA"
          ],
          [
           "polyamoryR4R",
           1488,
           "NA"
          ],
          [
           "SDSMT",
           3,
           "NA"
          ],
          [
           "FIREUK",
           2283,
           "NA"
          ],
          [
           "jamescook",
           1,
           "NA"
          ],
          [
           "JUSTNOFAMILY",
           25056,
           "NA"
          ]
         ],
         "hovertemplate": "alignment=NA<br>Projection=%{x}<br>=%{y}<br>size=%{marker.size}<br>subreddit=%{customdata[0]}<br>count=%{customdata[1]}<br>label=%{customdata[2]}<extra></extra>",
         "legendgroup": "NA",
         "marker": {
          "color": "#636efa",
          "size": [
           12.116018993325094,
           14.070624122430266,
           12.976743106734322,
           13.182549540307372,
           0,
           11.888743248898258,
           14.505811553919594,
           12.042685372219351,
           11.853309555403674,
           12.314866431053176,
           16.461527408425134,
           13.110646427577821,
           11.533329732305834,
           12.73640193131829,
           13.50382573799575,
           12.346513733165635,
           13.316705791428998,
           14.425084743242847,
           12.776021715252812,
           11.722807531169547,
           11.394998514501673,
           12.728770849542663,
           10.553629293916364,
           13.499472212561567,
           0,
           11.484822894262146,
           0,
           7.906890595608519,
           10.393390457443987,
           8.696967526234287,
           6.832890014164741,
           7.774787059601174,
           6.409390936137702,
           6.321928094887363,
           8.134426320220927,
           6.584962500721156,
           6.285402218862249,
           14.019503858266578,
           12.818382455041155,
           11.625252221746873,
           12.794212769983066,
           10.494855584491198,
           11.096715154488535,
           10.273795599214264,
           10.939579214314692,
           2,
           12.352043425795433,
           13.215381320721084,
           14.491289433481759,
           10.105908508571158,
           11.068778277985412,
           1,
           12.438012087651131,
           11.302067672526519,
           16.151710280467206,
           11.212496385193948,
           13.277578002415737,
           11.975847968006784,
           12.712097051087547,
           0,
           10.854089179870574,
           6.977279923499917,
           6.569855608330948,
           8.179909090014934,
           6.672425341971495,
           0,
           8.271463027904375,
           9.442943495848729,
           7.03342300153745,
           7.491853096329675,
           9.899356922923111,
           2.807354922057604,
           15.365057936095372,
           13.467987569161329,
           10.552669097514272,
           10.032045726930809,
           9.179909090014934,
           8.714245517666123,
           8.475733430966399,
           8.144658242831882,
           14.694085778157689,
           8.714245517666123,
           13.647008638441648,
           2,
           13.806650309081014,
           11.673309075561695,
           0,
           14.0381473799815,
           3,
           2.321928094887362,
           13.727814119936957,
           0,
           10.539158811108031,
           1.584962500721156,
           11.156715144224702,
           0,
           14.612868497291041
          ],
          "sizemode": "area",
          "sizeref": 0.043606629933987937,
          "symbol": "circle"
         },
         "mode": "markers",
         "name": "NA",
         "orientation": "h",
         "showlegend": true,
         "type": "scatter",
         "x": [
          0.1282841950730742,
          0.11280105750077415,
          0.006335387425597752,
          -0.09959574127890726,
          0.09767611199686287,
          0.020980715084396608,
          -0.06487187881436228,
          -0.11103623513494494,
          -0.15002803960923014,
          0.05219454028959295,
          0.016126006189213397,
          0.05583567608833286,
          0.10373298105796565,
          0.12094259863916693,
          0.05906331488479458,
          -0.0457230528473627,
          0.07698022921884394,
          0.09413948543881494,
          0.08203798842103337,
          -0.0780890227240187,
          -0.027591511866632522,
          -0.14403575587283104,
          -0.06984930684728356,
          0.005621506686841009,
          -0.07769036779819616,
          -0.08787072576644753,
          -0.06020684930805098,
          -0.16981240930487934,
          -0.15847170024785748,
          -0.31757575502387175,
          -0.0596923674982803,
          -0.2598152273466819,
          -0.19281333208864138,
          -0.2901229202074779,
          -0.06742586623182117,
          -0.3608910863796983,
          -0.14590947599206588,
          0.06913753420290891,
          0.3232120938003662,
          0.06817086002136041,
          0.30380574611276784,
          0.10338922207462463,
          0.041783106016869985,
          0.053167524020762,
          -0.04365765941974546,
          -0.07454250892617027,
          0.17706916511576182,
          0.3281131110423647,
          0.06273306512964172,
          0.07541995966375038,
          0.023130513382229573,
          -0.05139714332358418,
          0.06868672745772214,
          -0.2116507600769791,
          -0.0007823907049239249,
          -0.07241403764852263,
          -0.15443020935065488,
          0.01818720207900563,
          0.17091924370260078,
          -0.0860571721893297,
          -0.21214807047873394,
          -0.13624554723228618,
          -0.2507177559650879,
          -0.11052853611070006,
          -0.08941145487490984,
          -0.063914664483389,
          -0.11638662757230189,
          -0.05910833258211386,
          -0.07412948075300843,
          -0.15277613381520525,
          -0.026941471455192465,
          -0.012398869923552405,
          0.2694595327952746,
          -0.0356762719058731,
          0.11990225104661621,
          0.030125097583888028,
          0.1228082700620756,
          0.0379515309472795,
          0.10040154564130964,
          0.12236665711059558,
          -0.1236788020374292,
          0.07683839686197652,
          -0.07317489714160524,
          0.05321315253833437,
          0.0069299749646894735,
          0.0051027423678419144,
          0.06327060967337321,
          -0.11256836259350052,
          0.018431822697454064,
          0.15660156510409368,
          -0.12595366606727865,
          -0.026909708053528963,
          0.10067594865987695,
          0.02086716875642961,
          0.13876909466033002,
          0.1132450210558834,
          0.09974610275293741
         ],
         "xaxis": "x",
         "y": [
          "War",
          "War",
          "War",
          "War",
          "War",
          "War",
          "War",
          "War",
          "War",
          "War",
          "War",
          "War",
          "War",
          "War",
          "War",
          "War",
          "War",
          "War",
          "War",
          "War",
          "War",
          "War",
          "War",
          "War",
          "War",
          "War",
          "Trade",
          "Trade",
          "Trade",
          "Trade",
          "Trade",
          "Trade",
          "Trade",
          "Trade",
          "Trade",
          "Trade",
          "Trade",
          "Religiosity",
          "Religiosity",
          "Religiosity",
          "Religiosity",
          "Religiosity",
          "Ideology",
          "Ideology",
          "Ideology",
          "Ideology",
          "Ideology",
          "Ideology",
          "Ideology",
          "Ideology",
          "Ideology",
          "Ideology",
          "Ideology",
          "Ideology",
          "Ideology",
          "Ideology",
          "Ideology",
          "Ideology",
          "Gun Control",
          "Gun Control",
          "Gun Control",
          "Gun Control",
          "Gun Control",
          "Gun Control",
          "Gun Control",
          "Gun Control",
          "Gun Control",
          "Gun Control",
          "Gun Control",
          "Gun Control",
          "Birth Control",
          "Birth Control",
          "Birth Control",
          "Birth Control",
          "Birth Control",
          "Birth Control",
          "Birth Control",
          "Birth Control",
          "Birth Control",
          "Birth Control",
          "Birth Control",
          "Birth Control",
          "Age",
          "Age",
          "Age",
          "Age",
          "Age",
          "Age",
          "Age",
          "Age",
          "Age",
          "Age",
          "Age",
          "Age",
          "Age",
          "Age",
          "Age"
         ],
         "yaxis": "y"
        },
        {
         "customdata": [
          [
           "CredibleDefense",
           45607,
           "Hawkish"
          ],
          [
           "WarCollege",
           6204,
           "Hawkish"
          ],
          [
           "badeconomics",
           483,
           "Pro-Trade"
          ],
          [
           "Classical_Liberals",
           128,
           "Pro-Trade"
          ],
          [
           "AskEconomics",
           431,
           "Pro-Trade"
          ],
          [
           "neoconNWO",
           844,
           "Pro-Trade"
          ],
          [
           "seculartalk",
           139,
           "Pro-Trade"
          ],
          [
           "neoliberal",
           81320,
           "Pro-Trade"
          ],
          [
           "PrayerRequests",
           4812,
           "Religious"
          ],
          [
           "TrueChristian",
           37686,
           "Religious"
          ],
          [
           "RadicalChristianity",
           1522,
           "Religious"
          ],
          [
           "Catholicism",
           71628,
           "Religious"
          ],
          [
           "Christianity",
           178140,
           "Religious"
          ],
          [
           "lds",
           1917,
           "Religious"
          ],
          [
           "latterdaysaints",
           25440,
           "Religious"
          ],
          [
           "Reformed",
           20412,
           "Religious"
          ],
          [
           "OrthodoxChristianity",
           15751,
           "Religious"
          ],
          [
           "OpenChristian",
           4194,
           "Religious"
          ],
          [
           "Anglicanism",
           6392,
           "Religious"
          ],
          [
           "mormon",
           26108,
           "Religious"
          ],
          [
           "RPChristians",
           2151,
           "Religious"
          ],
          [
           "Bible",
           5779,
           "Religious"
          ],
          [
           "GayChristians",
           1941,
           "Religious"
          ],
          [
           "Christians",
           3353,
           "Religious"
          ],
          [
           "Christian",
           11560,
           "Religious"
          ],
          [
           "Christianmarriage",
           4473,
           "Religious"
          ],
          [
           "NoFapChristians",
           5732,
           "Religious"
          ],
          [
           "Classical_Liberals",
           1143,
           "Conservative"
          ],
          [
           "tuesday",
           3540,
           "Conservative"
          ],
          [
           "benshapiro",
           1371,
           "Conservative"
          ],
          [
           "Capitalism",
           3083,
           "Conservative"
          ],
          [
           "The_Donald",
           48288,
           "Conservative"
          ],
          [
           "shitguncontrollerssay",
           1129,
           "Less Regulation"
          ],
          [
           "liberalgunowners",
           7630,
           "Less Regulation"
          ],
          [
           "CAguns",
           1000,
           "Less Regulation"
          ],
          [
           "dgu",
           76,
           "Less Regulation"
          ],
          [
           "libertarianmeme",
           512,
           "Less Regulation"
          ],
          [
           "Classical_Liberals",
           72,
           "Less Regulation"
          ],
          [
           "NJGuns",
           117,
           "Less Regulation"
          ],
          [
           "NYguns",
           106,
           "Less Regulation"
          ],
          [
           "canadaguns",
           1306,
           "Less Regulation"
          ],
          [
           "Iamactuallyverybadass",
           285,
           "Less Regulation"
          ],
          [
           "2ALiberals",
           1871,
           "Less Regulation"
          ],
          [
           "SocialistRA",
           752,
           "Less Regulation"
          ],
          [
           "NOWTTYG",
           670,
           "Less Regulation"
          ],
          [
           "progun",
           11044,
           "Less Regulation"
          ],
          [
           "WA_guns",
           655,
           "Less Regulation"
          ],
          [
           "VAGuns",
           890,
           "Less Regulation"
          ],
          [
           "Firearms",
           7619,
           "Less Regulation"
          ],
          [
           "antifeminists",
           1027,
           "Pro-Life"
          ],
          [
           "prolife",
           23318,
           "Pro-Life"
          ],
          [
           "benshapiro",
           945,
           "Pro-Life"
          ],
          [
           "MensRights",
           19682,
           "Pro-Life"
          ],
          [
           "Adoption",
           6771,
           "Older"
          ],
          [
           "careerguidance",
           28406,
           "Older"
          ],
          [
           "Genealogy",
           17441,
           "Older"
          ],
          [
           "NarcAbuseAndDivorce",
           1837,
           "Older"
          ],
          [
           "Mortgages",
           4210,
           "Older"
          ],
          [
           "fosterit",
           1684,
           "Older"
          ],
          [
           "Fosterparents",
           1399,
           "Older"
          ],
          [
           "oneanddone",
           1716,
           "Older"
          ],
          [
           "careeradvice",
           1983,
           "Older"
          ]
         ],
         "hovertemplate": "alignment=Aligned<br>Projection=%{x}<br>=%{y}<br>size=%{marker.size}<br>subreddit=%{customdata[0]}<br>count=%{customdata[1]}<br>label=%{customdata[2]}<extra></extra>",
         "legendgroup": "Aligned",
         "marker": {
          "color": "#EF553B",
          "size": [
           15.476967653286689,
           12.59898297103609,
           8.915879378835774,
           7,
           8.751544059089099,
           9.721099188707186,
           7.118941072723508,
           16.311322594732093,
           12.232420927176076,
           15.201741054721296,
           10.571752643503546,
           16.12823603917096,
           17.442651973595176,
           10.904634621668151,
           14.634811050171718,
           14.317129926384542,
           13.943155804939336,
           12.034111146096592,
           12.642051692927977,
           14.672204323964033,
           11.070791809423062,
           12.496604154575603,
           10.922584402713664,
           11.711236767793784,
           13.496853777388042,
           12.127027043004599,
           12.484822894262146,
           10.158609688214478,
           11.78953364497036,
           10.421012855779226,
           11.590119174107175,
           15.559377090526683,
           10.140829770773001,
           12.897467341721892,
           9.965784284662087,
           6.247927513443585,
           9,
           6.169925001442312,
           6.870364719583405,
           6.727920454563199,
           10.350939181546432,
           8.154818109052105,
           10.869593843240784,
           9.554588851677638,
           9.388017285345136,
           13.430975172588068,
           9.355351096424812,
           9.79766152585376,
           12.895385939898507,
           10.004220466318195,
           14.509156432503849,
           9.884170519108435,
           14.264589208126823,
           12.725153203912992,
           14.793908071814263,
           14.090195140632224,
           10.84313591111135,
           12.039604517953759,
           10.717676423066395,
           10.450180247164754,
           10.744833837499545,
           10.953468962228849
          ],
          "sizemode": "area",
          "sizeref": 0.043606629933987937,
          "symbol": "circle"
         },
         "mode": "markers",
         "name": "Aligned",
         "orientation": "h",
         "showlegend": true,
         "type": "scatter",
         "x": [
          0.34764479051595937,
          0.41182942165349706,
          0.06697391240818097,
          0.05728938991686627,
          0.12923699419440252,
          0.10159711577820714,
          -0.1786188678654813,
          0.17344437042170258,
          0.27004045764052587,
          0.39460748017999553,
          0.21095493501227822,
          0.4275474535582986,
          0.34299004117369886,
          0.3082973378723236,
          0.24801933493677758,
          0.39700437986054954,
          0.357664916999523,
          0.18891379448605125,
          0.25942092923690174,
          0.17022194952433647,
          0.3025010970687855,
          0.39376973778145535,
          0.12479725765528235,
          0.3927246911600024,
          0.3655894716594784,
          0.32621032143511597,
          0.42066405258434714,
          0.3277532601253236,
          0.18500029214709282,
          0.3054860820424322,
          0.2696571612129379,
          0.3860751325153711,
          0.1269890058992931,
          0.024242731641686843,
          0.13209717641244234,
          0.15330240145672525,
          0.25616211657055166,
          0.1280235309057505,
          0.06523546026502981,
          0.06835798101617112,
          0.16058592728567142,
          0.024517926657136088,
          0.03243329440789397,
          -0.13893245831558146,
          0.10861161052152234,
          0.42511464456362275,
          0.15483143885269804,
          0.1325647533875033,
          0.26259561759298833,
          0.3146958458912606,
          0.4769765859593556,
          0.3054860820424322,
          0.38566057704834383,
          0.1577745059748364,
          0.2832727560965278,
          0.28362645469814535,
          0.2884147302172998,
          0.25847349793768193,
          0.24460864090086895,
          0.1979044003918679,
          0.3043566335529976,
          0.27980908060859444
         ],
         "xaxis": "x",
         "y": [
          "War",
          "War",
          "Trade",
          "Trade",
          "Trade",
          "Trade",
          "Trade",
          "Trade",
          "Religiosity",
          "Religiosity",
          "Religiosity",
          "Religiosity",
          "Religiosity",
          "Religiosity",
          "Religiosity",
          "Religiosity",
          "Religiosity",
          "Religiosity",
          "Religiosity",
          "Religiosity",
          "Religiosity",
          "Religiosity",
          "Religiosity",
          "Religiosity",
          "Religiosity",
          "Religiosity",
          "Religiosity",
          "Ideology",
          "Ideology",
          "Ideology",
          "Ideology",
          "Ideology",
          "Gun Control",
          "Gun Control",
          "Gun Control",
          "Gun Control",
          "Gun Control",
          "Gun Control",
          "Gun Control",
          "Gun Control",
          "Gun Control",
          "Gun Control",
          "Gun Control",
          "Gun Control",
          "Gun Control",
          "Gun Control",
          "Gun Control",
          "Gun Control",
          "Gun Control",
          "Birth Control",
          "Birth Control",
          "Birth Control",
          "Birth Control",
          "Age",
          "Age",
          "Age",
          "Age",
          "Age",
          "Age",
          "Age",
          "Age",
          "Age"
         ],
         "yaxis": "y"
        },
        {
         "customdata": [
          [
           "EndlessWar",
           14904,
           "Pacifistic"
          ],
          [
           "LeftWithoutEdge",
           518,
           "Pacifistic"
          ],
          [
           "Labour",
           275,
           "Anti-Trade"
          ],
          [
           "stupidpol",
           4309,
           "Anti-Trade"
          ],
          [
           "LeftWithoutEdge",
           205,
           "Anti-Trade"
          ],
          [
           "Socialism_101",
           394,
           "Anti-Trade"
          ],
          [
           "SocialDemocracy",
           208,
           "Anti-Trade"
          ],
          [
           "chomsky",
           335,
           "Anti-Trade"
          ],
          [
           "Kossacks_for_Sanders",
           168,
           "Anti-Trade"
          ],
          [
           "CriticalTheory",
           235,
           "Anti-Trade"
          ],
          [
           "The_Donald",
           62458,
           "Anti-Trade"
          ],
          [
           "WayOfTheBern",
           3828,
           "Anti-Trade"
          ],
          [
           "WeAreNotAsking",
           116,
           "Anti-Trade"
          ],
          [
           "BreadTube",
           1591,
           "Anti-Trade"
          ],
          [
           "dsa",
           64,
           "Anti-Trade"
          ],
          [
           "exlldm",
           2984,
           "Secular"
          ],
          [
           "exchristian",
           28380,
           "Secular"
          ],
          [
           "exmormon",
           170129,
           "Secular"
          ],
          [
           "agnostic",
           2147,
           "Secular"
          ],
          [
           "exIglesiaNiCristo",
           4573,
           "Secular"
          ],
          [
           "excatholic",
           3498,
           "Secular"
          ],
          [
           "communism101",
           8758,
           "Progressive"
          ],
          [
           "Anarchy101",
           6952,
           "Progressive"
          ],
          [
           "LateStageCapitalism",
           62136,
           "Progressive"
          ],
          [
           "BasicIncome",
           4365,
           "Progressive"
          ],
          [
           "socialism",
           17790,
           "Progressive"
          ],
          [
           "capitalism_in_decay",
           2634,
           "Progressive"
          ],
          [
           "SocialDemocracy",
           1185,
           "Progressive"
          ],
          [
           "canadaleft",
           2692,
           "Progressive"
          ],
          [
           "Socialism_101",
           12306,
           "Progressive"
          ],
          [
           "GunsAreCool",
           782,
           "More Regulation"
          ],
          [
           "GenderCritical",
           31523,
           "Pro-Choice"
          ],
          [
           "Egalitarianism",
           1004,
           "Pro-Choice"
          ],
          [
           "WomensHealth",
           1703,
           "Pro-Choice"
          ],
          [
           "FeMRADebates",
           2306,
           "Pro-Choice"
          ],
          [
           "birthcontrol",
           13610,
           "Pro-Choice"
          ],
          [
           "prochoice",
           12759,
           "Pro-Choice"
          ],
          [
           "Periods",
           799,
           "Pro-Choice"
          ],
          [
           "PCOS",
           3847,
           "Pro-Choice"
          ],
          [
           "PMDD",
           981,
           "Pro-Choice"
          ],
          [
           "endometriosis",
           850,
           "Pro-Choice"
          ],
          [
           "Feminism",
           3429,
           "Pro-Choice"
          ],
          [
           "Endo",
           1220,
           "Pro-Choice"
          ],
          [
           "TwoXChromosomes",
           32247,
           "Pro-Choice"
          ],
          [
           "abortion",
           12684,
           "Pro-Choice"
          ],
          [
           "teenagers",
           15271,
           "Younger"
          ],
          [
           "family",
           7977,
           "Younger"
          ],
          [
           "2meirl4meirl",
           6730,
           "Younger"
          ],
          [
           "dankmemes",
           2601,
           "Younger"
          ],
          [
           "AsianParentStories",
           5721,
           "Younger"
          ],
          [
           "LifeAfterSchool",
           2381,
           "Younger"
          ]
         ],
         "hovertemplate": "alignment=Opposing<br>Projection=%{x}<br>=%{y}<br>size=%{marker.size}<br>subreddit=%{customdata[0]}<br>count=%{customdata[1]}<br>label=%{customdata[2]}<extra></extra>",
         "legendgroup": "Opposing",
         "marker": {
          "color": "#00cc96",
          "size": [
           13.863411958941638,
           9.016808287686555,
           8.103287808412022,
           12.073137383110383,
           7.679480099505446,
           8.622051819456376,
           7.700439718141092,
           8.388017285345136,
           7.392317422778761,
           7.876516946564999,
           15.93059875236169,
           11.902375114486025,
           6.857980995127572,
           10.635718120331047,
           6,
           11.543031820255237,
           14.792586968947914,
           17.376269556591197,
           11.068106475858773,
           12.158925203806964,
           11.772314573921653,
           13.096385734452651,
           12.7632123668144,
           15.923141750621268,
           12.091765938516803,
           14.118778890154521,
           11.363039630256514,
           10.210671343785622,
           11.394462694610317,
           13.587074277201008,
           9.611024797307353,
           14.944117220154881,
           9.971543553950772,
           10.733862719678543,
           11.171176797651771,
           13.732379446391358,
           13.63922764034692,
           9.642051692927977,
           11.909518114296615,
           9.938109326219239,
           9.731319031025064,
           11.743572188935634,
           10.252665432450248,
           14.976877329653048,
           13.630722162103838,
           13.898506917637286,
           12.961630562578824,
           12.71639078949768,
           11.34485068394299,
           12.482051629033913,
           11.217351905270334
          ],
          "sizemode": "area",
          "sizeref": 0.043606629933987937,
          "symbol": "circle"
         },
         "mode": "markers",
         "name": "Opposing",
         "orientation": "h",
         "showlegend": true,
         "type": "scatter",
         "x": [
          -0.5103557530872048,
          -0.2710183520487015,
          -0.30344392144831783,
          -0.12103495875968963,
          -0.341291653604567,
          -0.40220359440438785,
          -0.15921461894684064,
          -0.27733974108949605,
          -0.11432991265936246,
          -0.22848704075967402,
          0.12104794884389276,
          -0.0709429818559345,
          -0.14700423860328726,
          -0.3733732398874508,
          -0.18502726707163525,
          -0.05743893857197754,
          0.09628302327873395,
          0.021644737038661765,
          0.1992243091238195,
          -0.036380486381942696,
          0.07511453674127389,
          -0.3353171856684026,
          -0.3298392291402624,
          -0.3060482337645443,
          -0.24114264605105315,
          -0.37406066586913506,
          -0.39240052290112826,
          -0.3458568571232288,
          -0.2609184173082289,
          -0.3425119109375313,
          -0.48492995953014906,
          0.17603586673664035,
          0.15777939127789983,
          -0.008525239199694615,
          0.13182919913601715,
          -0.0882533903256089,
          0.13071072857825067,
          0.014415887117839471,
          -0.06673679664577215,
          -0.18212241786322403,
          -0.13443891825076662,
          -0.017806857236398417,
          -0.12312606729043543,
          -0.03583218219086587,
          -0.005334031634342216,
          -0.6654832741596896,
          0.15115884705070148,
          -0.26898663281244756,
          -0.571760882785317,
          0.09452683751093863,
          -0.0036621635541655693
         ],
         "xaxis": "x",
         "y": [
          "War",
          "War",
          "Trade",
          "Trade",
          "Trade",
          "Trade",
          "Trade",
          "Trade",
          "Trade",
          "Trade",
          "Trade",
          "Trade",
          "Trade",
          "Trade",
          "Trade",
          "Religiosity",
          "Religiosity",
          "Religiosity",
          "Religiosity",
          "Religiosity",
          "Religiosity",
          "Ideology",
          "Ideology",
          "Ideology",
          "Ideology",
          "Ideology",
          "Ideology",
          "Ideology",
          "Ideology",
          "Ideology",
          "Gun Control",
          "Birth Control",
          "Birth Control",
          "Birth Control",
          "Birth Control",
          "Birth Control",
          "Birth Control",
          "Birth Control",
          "Birth Control",
          "Birth Control",
          "Birth Control",
          "Birth Control",
          "Birth Control",
          "Birth Control",
          "Birth Control",
          "Age",
          "Age",
          "Age",
          "Age",
          "Age",
          "Age"
         ],
         "yaxis": "y"
        }
       ],
       "layout": {
        "font": {
         "size": 23
        },
        "height": 700,
        "legend": {
         "itemsizing": "constant",
         "title": {
          "text": "alignment"
         },
         "tracegroupgap": 0
        },
        "margin": {
         "t": 60
        },
        "template": {
         "data": {
          "bar": [
           {
            "error_x": {
             "color": "rgb(36,36,36)"
            },
            "error_y": {
             "color": "rgb(36,36,36)"
            },
            "marker": {
             "line": {
              "color": "white",
              "width": 0.5
             }
            },
            "type": "bar"
           }
          ],
          "barpolar": [
           {
            "marker": {
             "line": {
              "color": "white",
              "width": 0.5
             }
            },
            "type": "barpolar"
           }
          ],
          "carpet": [
           {
            "aaxis": {
             "endlinecolor": "rgb(36,36,36)",
             "gridcolor": "white",
             "linecolor": "white",
             "minorgridcolor": "white",
             "startlinecolor": "rgb(36,36,36)"
            },
            "baxis": {
             "endlinecolor": "rgb(36,36,36)",
             "gridcolor": "white",
             "linecolor": "white",
             "minorgridcolor": "white",
             "startlinecolor": "rgb(36,36,36)"
            },
            "type": "carpet"
           }
          ],
          "choropleth": [
           {
            "colorbar": {
             "outlinewidth": 1,
             "tickcolor": "rgb(36,36,36)",
             "ticks": "outside"
            },
            "type": "choropleth"
           }
          ],
          "contour": [
           {
            "colorbar": {
             "outlinewidth": 1,
             "tickcolor": "rgb(36,36,36)",
             "ticks": "outside"
            },
            "colorscale": [
             [
              0,
              "#440154"
             ],
             [
              0.1111111111111111,
              "#482878"
             ],
             [
              0.2222222222222222,
              "#3e4989"
             ],
             [
              0.3333333333333333,
              "#31688e"
             ],
             [
              0.4444444444444444,
              "#26828e"
             ],
             [
              0.5555555555555556,
              "#1f9e89"
             ],
             [
              0.6666666666666666,
              "#35b779"
             ],
             [
              0.7777777777777778,
              "#6ece58"
             ],
             [
              0.8888888888888888,
              "#b5de2b"
             ],
             [
              1,
              "#fde725"
             ]
            ],
            "type": "contour"
           }
          ],
          "contourcarpet": [
           {
            "colorbar": {
             "outlinewidth": 1,
             "tickcolor": "rgb(36,36,36)",
             "ticks": "outside"
            },
            "type": "contourcarpet"
           }
          ],
          "heatmap": [
           {
            "colorbar": {
             "outlinewidth": 1,
             "tickcolor": "rgb(36,36,36)",
             "ticks": "outside"
            },
            "colorscale": [
             [
              0,
              "#440154"
             ],
             [
              0.1111111111111111,
              "#482878"
             ],
             [
              0.2222222222222222,
              "#3e4989"
             ],
             [
              0.3333333333333333,
              "#31688e"
             ],
             [
              0.4444444444444444,
              "#26828e"
             ],
             [
              0.5555555555555556,
              "#1f9e89"
             ],
             [
              0.6666666666666666,
              "#35b779"
             ],
             [
              0.7777777777777778,
              "#6ece58"
             ],
             [
              0.8888888888888888,
              "#b5de2b"
             ],
             [
              1,
              "#fde725"
             ]
            ],
            "type": "heatmap"
           }
          ],
          "heatmapgl": [
           {
            "colorbar": {
             "outlinewidth": 1,
             "tickcolor": "rgb(36,36,36)",
             "ticks": "outside"
            },
            "colorscale": [
             [
              0,
              "#440154"
             ],
             [
              0.1111111111111111,
              "#482878"
             ],
             [
              0.2222222222222222,
              "#3e4989"
             ],
             [
              0.3333333333333333,
              "#31688e"
             ],
             [
              0.4444444444444444,
              "#26828e"
             ],
             [
              0.5555555555555556,
              "#1f9e89"
             ],
             [
              0.6666666666666666,
              "#35b779"
             ],
             [
              0.7777777777777778,
              "#6ece58"
             ],
             [
              0.8888888888888888,
              "#b5de2b"
             ],
             [
              1,
              "#fde725"
             ]
            ],
            "type": "heatmapgl"
           }
          ],
          "histogram": [
           {
            "marker": {
             "line": {
              "color": "white",
              "width": 0.6
             }
            },
            "type": "histogram"
           }
          ],
          "histogram2d": [
           {
            "colorbar": {
             "outlinewidth": 1,
             "tickcolor": "rgb(36,36,36)",
             "ticks": "outside"
            },
            "colorscale": [
             [
              0,
              "#440154"
             ],
             [
              0.1111111111111111,
              "#482878"
             ],
             [
              0.2222222222222222,
              "#3e4989"
             ],
             [
              0.3333333333333333,
              "#31688e"
             ],
             [
              0.4444444444444444,
              "#26828e"
             ],
             [
              0.5555555555555556,
              "#1f9e89"
             ],
             [
              0.6666666666666666,
              "#35b779"
             ],
             [
              0.7777777777777778,
              "#6ece58"
             ],
             [
              0.8888888888888888,
              "#b5de2b"
             ],
             [
              1,
              "#fde725"
             ]
            ],
            "type": "histogram2d"
           }
          ],
          "histogram2dcontour": [
           {
            "colorbar": {
             "outlinewidth": 1,
             "tickcolor": "rgb(36,36,36)",
             "ticks": "outside"
            },
            "colorscale": [
             [
              0,
              "#440154"
             ],
             [
              0.1111111111111111,
              "#482878"
             ],
             [
              0.2222222222222222,
              "#3e4989"
             ],
             [
              0.3333333333333333,
              "#31688e"
             ],
             [
              0.4444444444444444,
              "#26828e"
             ],
             [
              0.5555555555555556,
              "#1f9e89"
             ],
             [
              0.6666666666666666,
              "#35b779"
             ],
             [
              0.7777777777777778,
              "#6ece58"
             ],
             [
              0.8888888888888888,
              "#b5de2b"
             ],
             [
              1,
              "#fde725"
             ]
            ],
            "type": "histogram2dcontour"
           }
          ],
          "mesh3d": [
           {
            "colorbar": {
             "outlinewidth": 1,
             "tickcolor": "rgb(36,36,36)",
             "ticks": "outside"
            },
            "type": "mesh3d"
           }
          ],
          "parcoords": [
           {
            "line": {
             "colorbar": {
              "outlinewidth": 1,
              "tickcolor": "rgb(36,36,36)",
              "ticks": "outside"
             }
            },
            "type": "parcoords"
           }
          ],
          "pie": [
           {
            "automargin": true,
            "type": "pie"
           }
          ],
          "scatter": [
           {
            "marker": {
             "colorbar": {
              "outlinewidth": 1,
              "tickcolor": "rgb(36,36,36)",
              "ticks": "outside"
             }
            },
            "type": "scatter"
           }
          ],
          "scatter3d": [
           {
            "line": {
             "colorbar": {
              "outlinewidth": 1,
              "tickcolor": "rgb(36,36,36)",
              "ticks": "outside"
             }
            },
            "marker": {
             "colorbar": {
              "outlinewidth": 1,
              "tickcolor": "rgb(36,36,36)",
              "ticks": "outside"
             }
            },
            "type": "scatter3d"
           }
          ],
          "scattercarpet": [
           {
            "marker": {
             "colorbar": {
              "outlinewidth": 1,
              "tickcolor": "rgb(36,36,36)",
              "ticks": "outside"
             }
            },
            "type": "scattercarpet"
           }
          ],
          "scattergeo": [
           {
            "marker": {
             "colorbar": {
              "outlinewidth": 1,
              "tickcolor": "rgb(36,36,36)",
              "ticks": "outside"
             }
            },
            "type": "scattergeo"
           }
          ],
          "scattergl": [
           {
            "marker": {
             "colorbar": {
              "outlinewidth": 1,
              "tickcolor": "rgb(36,36,36)",
              "ticks": "outside"
             }
            },
            "type": "scattergl"
           }
          ],
          "scattermapbox": [
           {
            "marker": {
             "colorbar": {
              "outlinewidth": 1,
              "tickcolor": "rgb(36,36,36)",
              "ticks": "outside"
             }
            },
            "type": "scattermapbox"
           }
          ],
          "scatterpolar": [
           {
            "marker": {
             "colorbar": {
              "outlinewidth": 1,
              "tickcolor": "rgb(36,36,36)",
              "ticks": "outside"
             }
            },
            "type": "scatterpolar"
           }
          ],
          "scatterpolargl": [
           {
            "marker": {
             "colorbar": {
              "outlinewidth": 1,
              "tickcolor": "rgb(36,36,36)",
              "ticks": "outside"
             }
            },
            "type": "scatterpolargl"
           }
          ],
          "scatterternary": [
           {
            "marker": {
             "colorbar": {
              "outlinewidth": 1,
              "tickcolor": "rgb(36,36,36)",
              "ticks": "outside"
             }
            },
            "type": "scatterternary"
           }
          ],
          "surface": [
           {
            "colorbar": {
             "outlinewidth": 1,
             "tickcolor": "rgb(36,36,36)",
             "ticks": "outside"
            },
            "colorscale": [
             [
              0,
              "#440154"
             ],
             [
              0.1111111111111111,
              "#482878"
             ],
             [
              0.2222222222222222,
              "#3e4989"
             ],
             [
              0.3333333333333333,
              "#31688e"
             ],
             [
              0.4444444444444444,
              "#26828e"
             ],
             [
              0.5555555555555556,
              "#1f9e89"
             ],
             [
              0.6666666666666666,
              "#35b779"
             ],
             [
              0.7777777777777778,
              "#6ece58"
             ],
             [
              0.8888888888888888,
              "#b5de2b"
             ],
             [
              1,
              "#fde725"
             ]
            ],
            "type": "surface"
           }
          ],
          "table": [
           {
            "cells": {
             "fill": {
              "color": "rgb(237,237,237)"
             },
             "line": {
              "color": "white"
             }
            },
            "header": {
             "fill": {
              "color": "rgb(217,217,217)"
             },
             "line": {
              "color": "white"
             }
            },
            "type": "table"
           }
          ]
         },
         "layout": {
          "annotationdefaults": {
           "arrowhead": 0,
           "arrowwidth": 1
          },
          "coloraxis": {
           "colorbar": {
            "outlinewidth": 1,
            "tickcolor": "rgb(36,36,36)",
            "ticks": "outside"
           }
          },
          "colorscale": {
           "diverging": [
            [
             0,
             "rgb(103,0,31)"
            ],
            [
             0.1,
             "rgb(178,24,43)"
            ],
            [
             0.2,
             "rgb(214,96,77)"
            ],
            [
             0.3,
             "rgb(244,165,130)"
            ],
            [
             0.4,
             "rgb(253,219,199)"
            ],
            [
             0.5,
             "rgb(247,247,247)"
            ],
            [
             0.6,
             "rgb(209,229,240)"
            ],
            [
             0.7,
             "rgb(146,197,222)"
            ],
            [
             0.8,
             "rgb(67,147,195)"
            ],
            [
             0.9,
             "rgb(33,102,172)"
            ],
            [
             1,
             "rgb(5,48,97)"
            ]
           ],
           "sequential": [
            [
             0,
             "#440154"
            ],
            [
             0.1111111111111111,
             "#482878"
            ],
            [
             0.2222222222222222,
             "#3e4989"
            ],
            [
             0.3333333333333333,
             "#31688e"
            ],
            [
             0.4444444444444444,
             "#26828e"
            ],
            [
             0.5555555555555556,
             "#1f9e89"
            ],
            [
             0.6666666666666666,
             "#35b779"
            ],
            [
             0.7777777777777778,
             "#6ece58"
            ],
            [
             0.8888888888888888,
             "#b5de2b"
            ],
            [
             1,
             "#fde725"
            ]
           ],
           "sequentialminus": [
            [
             0,
             "#440154"
            ],
            [
             0.1111111111111111,
             "#482878"
            ],
            [
             0.2222222222222222,
             "#3e4989"
            ],
            [
             0.3333333333333333,
             "#31688e"
            ],
            [
             0.4444444444444444,
             "#26828e"
            ],
            [
             0.5555555555555556,
             "#1f9e89"
            ],
            [
             0.6666666666666666,
             "#35b779"
            ],
            [
             0.7777777777777778,
             "#6ece58"
            ],
            [
             0.8888888888888888,
             "#b5de2b"
            ],
            [
             1,
             "#fde725"
            ]
           ]
          },
          "colorway": [
           "#1F77B4",
           "#FF7F0E",
           "#2CA02C",
           "#D62728",
           "#9467BD",
           "#8C564B",
           "#E377C2",
           "#7F7F7F",
           "#BCBD22",
           "#17BECF"
          ],
          "font": {
           "color": "rgb(36,36,36)"
          },
          "geo": {
           "bgcolor": "white",
           "lakecolor": "white",
           "landcolor": "white",
           "showlakes": true,
           "showland": true,
           "subunitcolor": "white"
          },
          "hoverlabel": {
           "align": "left"
          },
          "hovermode": "closest",
          "mapbox": {
           "style": "light"
          },
          "paper_bgcolor": "white",
          "plot_bgcolor": "white",
          "polar": {
           "angularaxis": {
            "gridcolor": "rgb(232,232,232)",
            "linecolor": "rgb(36,36,36)",
            "showgrid": false,
            "showline": true,
            "ticks": "outside"
           },
           "bgcolor": "white",
           "radialaxis": {
            "gridcolor": "rgb(232,232,232)",
            "linecolor": "rgb(36,36,36)",
            "showgrid": false,
            "showline": true,
            "ticks": "outside"
           }
          },
          "scene": {
           "xaxis": {
            "backgroundcolor": "white",
            "gridcolor": "rgb(232,232,232)",
            "gridwidth": 2,
            "linecolor": "rgb(36,36,36)",
            "showbackground": true,
            "showgrid": false,
            "showline": true,
            "ticks": "outside",
            "zeroline": false,
            "zerolinecolor": "rgb(36,36,36)"
           },
           "yaxis": {
            "backgroundcolor": "white",
            "gridcolor": "rgb(232,232,232)",
            "gridwidth": 2,
            "linecolor": "rgb(36,36,36)",
            "showbackground": true,
            "showgrid": false,
            "showline": true,
            "ticks": "outside",
            "zeroline": false,
            "zerolinecolor": "rgb(36,36,36)"
           },
           "zaxis": {
            "backgroundcolor": "white",
            "gridcolor": "rgb(232,232,232)",
            "gridwidth": 2,
            "linecolor": "rgb(36,36,36)",
            "showbackground": true,
            "showgrid": false,
            "showline": true,
            "ticks": "outside",
            "zeroline": false,
            "zerolinecolor": "rgb(36,36,36)"
           }
          },
          "shapedefaults": {
           "fillcolor": "black",
           "line": {
            "width": 0
           },
           "opacity": 0.3
          },
          "ternary": {
           "aaxis": {
            "gridcolor": "rgb(232,232,232)",
            "linecolor": "rgb(36,36,36)",
            "showgrid": false,
            "showline": true,
            "ticks": "outside"
           },
           "baxis": {
            "gridcolor": "rgb(232,232,232)",
            "linecolor": "rgb(36,36,36)",
            "showgrid": false,
            "showline": true,
            "ticks": "outside"
           },
           "bgcolor": "white",
           "caxis": {
            "gridcolor": "rgb(232,232,232)",
            "linecolor": "rgb(36,36,36)",
            "showgrid": false,
            "showline": true,
            "ticks": "outside"
           }
          },
          "title": {
           "x": 0.05
          },
          "xaxis": {
           "automargin": true,
           "gridcolor": "rgb(232,232,232)",
           "linecolor": "rgb(36,36,36)",
           "showgrid": false,
           "showline": true,
           "ticks": "outside",
           "title": {
            "standoff": 15
           },
           "zeroline": false,
           "zerolinecolor": "rgb(36,36,36)"
          },
          "yaxis": {
           "automargin": true,
           "gridcolor": "rgb(232,232,232)",
           "linecolor": "rgb(36,36,36)",
           "showgrid": false,
           "showline": true,
           "ticks": "outside",
           "title": {
            "standoff": 15
           },
           "zeroline": false,
           "zerolinecolor": "rgb(36,36,36)"
          }
         }
        },
        "width": 1000,
        "xaxis": {
         "anchor": "y",
         "domain": [
          0,
          1
         ],
         "title": {
          "text": "Projection"
         }
        },
        "yaxis": {
         "anchor": "x",
         "domain": [
          0,
          1
         ],
         "showline": false,
         "title": {
          "text": ""
         },
         "type": "category"
        }
       }
      },
      "text/html": [
       "<div>\n",
       "        \n",
       "        \n",
       "            <div id=\"e143d911-e893-4a8d-bf3e-3b0f0d99c5aa\" class=\"plotly-graph-div\" style=\"height:700px; width:1000px;\"></div>\n",
       "            <script type=\"text/javascript\">\n",
       "                require([\"plotly\"], function(Plotly) {\n",
       "                    window.PLOTLYENV=window.PLOTLYENV || {};\n",
       "                    \n",
       "                if (document.getElementById(\"e143d911-e893-4a8d-bf3e-3b0f0d99c5aa\")) {\n",
       "                    Plotly.newPlot(\n",
       "                        'e143d911-e893-4a8d-bf3e-3b0f0d99c5aa',\n",
       "                        [{\"customdata\": [[\"de_IAmA\", 4439, \"NA\"], [\"resumes\", 17206, \"NA\"], [\"StrawHatRPG\", 8061, \"NA\"], [\"GCTrading\", 9297, \"NA\"], [\"tud\", 1, \"NA\"], [\"textfriends\", 3792, \"NA\"], [\"ClashOfClansRecruit\", 23264, \"NA\"], [\"unknownvideos\", 4219, \"NA\"], [\"funnyvideos\", 3700, \"NA\"], [\"AsianLadyBonerGW\", 5095, \"NA\"], [\"RandomActsOfBlowJob\", 90243, \"NA\"], [\"awoiafrp\", 8845, \"NA\"], [\"Bitwarden\", 2964, \"NA\"], [\"rwbyRP\", 6824, \"NA\"], [\"IronThroneRP\", 11616, \"NA\"], [\"flairwars\", 5208, \"NA\"], [\"vmware\", 10203, \"NA\"], [\"dwarffortress\", 21998, \"NA\"], [\"HistoryWhatIf\", 7014, \"NA\"], [\"PublishProtocol\", 3380, \"NA\"], [\"toyexchange\", 2693, \"NA\"], [\"Cash4Cash\", 6788, \"NA\"], [\"Newark\", 1503, \"NA\"], [\"HardwareSwapUK\", 11581, \"NA\"], [\"BeckleyOnReddit\", 1, \"NA\"], [\"Warts\", 2866, \"NA\"], [\"amherst\", 1, \"NA\"], [\"brasilnoticias\", 240, \"NA\"], [\"lostgeneration\", 1345, \"NA\"], [\"DebateCommunism\", 415, \"NA\"], [\"Argenpol\", 114, \"NA\"], [\"PoliticalCompass\", 219, \"NA\"], [\"ndp\", 85, \"NA\"], [\"canadaleft\", 80, \"NA\"], [\"BasicIncome\", 281, \"NA\"], [\"DebateAnarchism\", 96, \"NA\"], [\"LeftWingMaleAdvocates\", 78, \"NA\"], [\"AquaSama\", 16607, \"NA\"], [\"DebateAChristian\", 7223, \"NA\"], [\"jesuschristreddit\", 3159, \"NA\"], [\"AskAChristian\", 7103, \"NA\"], [\"swoleacceptance\", 1443, \"NA\"], [\"ICOAnalysis\", 2190, \"NA\"], [\"faireumofficial\", 1238, \"NA\"], [\"MoviePosterPorn\", 1964, \"NA\"], [\"KCL\", 4, \"NA\"], [\"AskConservatives\", 5228, \"NA\"], [\"askaconservative\", 9511, \"NA\"], [\"AskALiberal\", 23031, \"NA\"], [\"Crypto_General\", 1102, \"NA\"], [\"blockmason\", 2148, \"NA\"], [\"Fairfield\", 2, \"NA\"], [\"InsiderMemeTrading\", 5549, \"NA\"], [\"DebateAnarchism\", 2525, \"NA\"], [\"CapitalismVSocialism\", 72803, \"NA\"], [\"CineShots\", 2373, \"NA\"], [\"DebateCommunism\", 9930, \"NA\"], [\"PublishProtocol\", 4028, \"NA\"], [\"gunpolitics\", 6710, \"NA\"], [\"blacksburg\", 1, \"NA\"], [\"PoliticalDiscussion\", 1851, \"NA\"], [\"California_Politics\", 126, \"NA\"], [\"PoliticalOpinions\", 95, \"NA\"], [\"TexasPolitics\", 290, \"NA\"], [\"politicsdebate\", 102, \"NA\"], [\"stolaf\", 1, \"NA\"], [\"VirginiaPolitics\", 309, \"NA\"], [\"Virginia\", 696, \"NA\"], [\"ColoradoPolitics\", 131, \"NA\"], [\"scotus\", 180, \"NA\"], [\"amipregnant\", 955, \"NA\"], [\"Kent\", 7, \"NA\"], [\"Abortiondebate\", 42203, \"NA\"], [\"AskFeminists\", 11331, \"NA\"], [\"LeftWingMaleAdvocates\", 1502, \"NA\"], [\"Alabama\", 1047, \"NA\"], [\"GenderCriticalGuys\", 580, \"NA\"], [\"PoliticalOpinions\", 420, \"NA\"], [\"politicsdebate\", 356, \"NA\"], [\"OneY\", 283, \"NA\"], [\"childfree\", 26507, \"NA\"], [\"mormonpolitics\", 420, \"NA\"], [\"industrialized\", 12828, \"NA\"], [\"Fairfield\", 4, \"NA\"], [\"iwanttobeher\", 14329, \"NA\"], [\"Hairy\", 3266, \"NA\"], [\"HolyCross\", 1, \"NA\"], [\"asshole\", 16823, \"NA\"], [\"claremontcolleges\", 8, \"NA\"], [\"colum\", 5, \"NA\"], [\"funkoswap\", 13567, \"NA\"], [\"tud\", 1, \"NA\"], [\"polyamoryR4R\", 1488, \"NA\"], [\"SDSMT\", 3, \"NA\"], [\"FIREUK\", 2283, \"NA\"], [\"jamescook\", 1, \"NA\"], [\"JUSTNOFAMILY\", 25056, \"NA\"]], \"hovertemplate\": \"alignment=NA<br>Projection=%{x}<br>=%{y}<br>size=%{marker.size}<br>subreddit=%{customdata[0]}<br>count=%{customdata[1]}<br>label=%{customdata[2]}<extra></extra>\", \"legendgroup\": \"NA\", \"marker\": {\"color\": \"#636efa\", \"size\": [12.116018993325094, 14.070624122430266, 12.976743106734322, 13.182549540307372, 0.0, 11.888743248898258, 14.505811553919594, 12.042685372219351, 11.853309555403674, 12.314866431053176, 16.461527408425134, 13.110646427577821, 11.533329732305834, 12.73640193131829, 13.50382573799575, 12.346513733165635, 13.316705791428998, 14.425084743242847, 12.776021715252812, 11.722807531169547, 11.394998514501673, 12.728770849542663, 10.553629293916364, 13.499472212561567, 0.0, 11.484822894262146, 0.0, 7.906890595608519, 10.393390457443987, 8.696967526234287, 6.832890014164741, 7.774787059601174, 6.409390936137702, 6.321928094887363, 8.134426320220927, 6.584962500721156, 6.285402218862249, 14.019503858266578, 12.818382455041155, 11.625252221746873, 12.794212769983066, 10.494855584491198, 11.096715154488535, 10.273795599214264, 10.939579214314692, 2.0, 12.352043425795433, 13.215381320721084, 14.491289433481759, 10.105908508571158, 11.068778277985412, 1.0, 12.438012087651131, 11.302067672526519, 16.151710280467206, 11.212496385193948, 13.277578002415737, 11.975847968006784, 12.712097051087547, 0.0, 10.854089179870574, 6.977279923499917, 6.569855608330948, 8.179909090014934, 6.672425341971495, 0.0, 8.271463027904375, 9.442943495848729, 7.03342300153745, 7.491853096329675, 9.899356922923111, 2.807354922057604, 15.365057936095372, 13.467987569161329, 10.552669097514272, 10.032045726930809, 9.179909090014934, 8.714245517666123, 8.475733430966399, 8.144658242831882, 14.694085778157689, 8.714245517666123, 13.647008638441648, 2.0, 13.806650309081014, 11.673309075561695, 0.0, 14.0381473799815, 3.0, 2.321928094887362, 13.727814119936957, 0.0, 10.539158811108031, 1.584962500721156, 11.156715144224702, 0.0, 14.612868497291041], \"sizemode\": \"area\", \"sizeref\": 0.043606629933987937, \"symbol\": \"circle\"}, \"mode\": \"markers\", \"name\": \"NA\", \"orientation\": \"h\", \"showlegend\": true, \"type\": \"scatter\", \"x\": [0.1282841950730742, 0.11280105750077415, 0.006335387425597752, -0.09959574127890726, 0.09767611199686287, 0.020980715084396608, -0.06487187881436228, -0.11103623513494494, -0.15002803960923014, 0.05219454028959295, 0.016126006189213397, 0.05583567608833286, 0.10373298105796565, 0.12094259863916693, 0.05906331488479458, -0.0457230528473627, 0.07698022921884394, 0.09413948543881494, 0.08203798842103337, -0.0780890227240187, -0.027591511866632522, -0.14403575587283104, -0.06984930684728356, 0.005621506686841009, -0.07769036779819616, -0.08787072576644753, -0.06020684930805098, -0.16981240930487934, -0.15847170024785748, -0.31757575502387175, -0.0596923674982803, -0.2598152273466819, -0.19281333208864138, -0.2901229202074779, -0.06742586623182117, -0.3608910863796983, -0.14590947599206588, 0.06913753420290891, 0.3232120938003662, 0.06817086002136041, 0.30380574611276784, 0.10338922207462463, 0.041783106016869985, 0.053167524020762, -0.04365765941974546, -0.07454250892617027, 0.17706916511576182, 0.3281131110423647, 0.06273306512964172, 0.07541995966375038, 0.023130513382229573, -0.05139714332358418, 0.06868672745772214, -0.2116507600769791, -0.0007823907049239249, -0.07241403764852263, -0.15443020935065488, 0.01818720207900563, 0.17091924370260078, -0.0860571721893297, -0.21214807047873394, -0.13624554723228618, -0.2507177559650879, -0.11052853611070006, -0.08941145487490984, -0.063914664483389, -0.11638662757230189, -0.05910833258211386, -0.07412948075300843, -0.15277613381520525, -0.026941471455192465, -0.012398869923552405, 0.2694595327952746, -0.0356762719058731, 0.11990225104661621, 0.030125097583888028, 0.1228082700620756, 0.0379515309472795, 0.10040154564130964, 0.12236665711059558, -0.1236788020374292, 0.07683839686197652, -0.07317489714160524, 0.05321315253833437, 0.0069299749646894735, 0.0051027423678419144, 0.06327060967337321, -0.11256836259350052, 0.018431822697454064, 0.15660156510409368, -0.12595366606727865, -0.026909708053528963, 0.10067594865987695, 0.02086716875642961, 0.13876909466033002, 0.1132450210558834, 0.09974610275293741], \"xaxis\": \"x\", \"y\": [\"War\", \"War\", \"War\", \"War\", \"War\", \"War\", \"War\", \"War\", \"War\", \"War\", \"War\", \"War\", \"War\", \"War\", \"War\", \"War\", \"War\", \"War\", \"War\", \"War\", \"War\", \"War\", \"War\", \"War\", \"War\", \"War\", \"Trade\", \"Trade\", \"Trade\", \"Trade\", \"Trade\", \"Trade\", \"Trade\", \"Trade\", \"Trade\", \"Trade\", \"Trade\", \"Religiosity\", \"Religiosity\", \"Religiosity\", \"Religiosity\", \"Religiosity\", \"Ideology\", \"Ideology\", \"Ideology\", \"Ideology\", \"Ideology\", \"Ideology\", \"Ideology\", \"Ideology\", \"Ideology\", \"Ideology\", \"Ideology\", \"Ideology\", \"Ideology\", \"Ideology\", \"Ideology\", \"Ideology\", \"Gun Control\", \"Gun Control\", \"Gun Control\", \"Gun Control\", \"Gun Control\", \"Gun Control\", \"Gun Control\", \"Gun Control\", \"Gun Control\", \"Gun Control\", \"Gun Control\", \"Gun Control\", \"Birth Control\", \"Birth Control\", \"Birth Control\", \"Birth Control\", \"Birth Control\", \"Birth Control\", \"Birth Control\", \"Birth Control\", \"Birth Control\", \"Birth Control\", \"Birth Control\", \"Birth Control\", \"Age\", \"Age\", \"Age\", \"Age\", \"Age\", \"Age\", \"Age\", \"Age\", \"Age\", \"Age\", \"Age\", \"Age\", \"Age\", \"Age\", \"Age\"], \"yaxis\": \"y\"}, {\"customdata\": [[\"CredibleDefense\", 45607, \"Hawkish\"], [\"WarCollege\", 6204, \"Hawkish\"], [\"badeconomics\", 483, \"Pro-Trade\"], [\"Classical_Liberals\", 128, \"Pro-Trade\"], [\"AskEconomics\", 431, \"Pro-Trade\"], [\"neoconNWO\", 844, \"Pro-Trade\"], [\"seculartalk\", 139, \"Pro-Trade\"], [\"neoliberal\", 81320, \"Pro-Trade\"], [\"PrayerRequests\", 4812, \"Religious\"], [\"TrueChristian\", 37686, \"Religious\"], [\"RadicalChristianity\", 1522, \"Religious\"], [\"Catholicism\", 71628, \"Religious\"], [\"Christianity\", 178140, \"Religious\"], [\"lds\", 1917, \"Religious\"], [\"latterdaysaints\", 25440, \"Religious\"], [\"Reformed\", 20412, \"Religious\"], [\"OrthodoxChristianity\", 15751, \"Religious\"], [\"OpenChristian\", 4194, \"Religious\"], [\"Anglicanism\", 6392, \"Religious\"], [\"mormon\", 26108, \"Religious\"], [\"RPChristians\", 2151, \"Religious\"], [\"Bible\", 5779, \"Religious\"], [\"GayChristians\", 1941, \"Religious\"], [\"Christians\", 3353, \"Religious\"], [\"Christian\", 11560, \"Religious\"], [\"Christianmarriage\", 4473, \"Religious\"], [\"NoFapChristians\", 5732, \"Religious\"], [\"Classical_Liberals\", 1143, \"Conservative\"], [\"tuesday\", 3540, \"Conservative\"], [\"benshapiro\", 1371, \"Conservative\"], [\"Capitalism\", 3083, \"Conservative\"], [\"The_Donald\", 48288, \"Conservative\"], [\"shitguncontrollerssay\", 1129, \"Less Regulation\"], [\"liberalgunowners\", 7630, \"Less Regulation\"], [\"CAguns\", 1000, \"Less Regulation\"], [\"dgu\", 76, \"Less Regulation\"], [\"libertarianmeme\", 512, \"Less Regulation\"], [\"Classical_Liberals\", 72, \"Less Regulation\"], [\"NJGuns\", 117, \"Less Regulation\"], [\"NYguns\", 106, \"Less Regulation\"], [\"canadaguns\", 1306, \"Less Regulation\"], [\"Iamactuallyverybadass\", 285, \"Less Regulation\"], [\"2ALiberals\", 1871, \"Less Regulation\"], [\"SocialistRA\", 752, \"Less Regulation\"], [\"NOWTTYG\", 670, \"Less Regulation\"], [\"progun\", 11044, \"Less Regulation\"], [\"WA_guns\", 655, \"Less Regulation\"], [\"VAGuns\", 890, \"Less Regulation\"], [\"Firearms\", 7619, \"Less Regulation\"], [\"antifeminists\", 1027, \"Pro-Life\"], [\"prolife\", 23318, \"Pro-Life\"], [\"benshapiro\", 945, \"Pro-Life\"], [\"MensRights\", 19682, \"Pro-Life\"], [\"Adoption\", 6771, \"Older\"], [\"careerguidance\", 28406, \"Older\"], [\"Genealogy\", 17441, \"Older\"], [\"NarcAbuseAndDivorce\", 1837, \"Older\"], [\"Mortgages\", 4210, \"Older\"], [\"fosterit\", 1684, \"Older\"], [\"Fosterparents\", 1399, \"Older\"], [\"oneanddone\", 1716, \"Older\"], [\"careeradvice\", 1983, \"Older\"]], \"hovertemplate\": \"alignment=Aligned<br>Projection=%{x}<br>=%{y}<br>size=%{marker.size}<br>subreddit=%{customdata[0]}<br>count=%{customdata[1]}<br>label=%{customdata[2]}<extra></extra>\", \"legendgroup\": \"Aligned\", \"marker\": {\"color\": \"#EF553B\", \"size\": [15.476967653286689, 12.59898297103609, 8.915879378835774, 7.0, 8.751544059089099, 9.721099188707186, 7.118941072723508, 16.311322594732093, 12.232420927176076, 15.201741054721296, 10.571752643503546, 16.12823603917096, 17.442651973595176, 10.904634621668151, 14.634811050171718, 14.317129926384542, 13.943155804939336, 12.034111146096592, 12.642051692927977, 14.672204323964033, 11.070791809423062, 12.496604154575603, 10.922584402713664, 11.711236767793784, 13.496853777388042, 12.127027043004599, 12.484822894262146, 10.158609688214478, 11.78953364497036, 10.421012855779226, 11.590119174107175, 15.559377090526683, 10.140829770773001, 12.897467341721892, 9.965784284662087, 6.247927513443585, 9.0, 6.169925001442312, 6.870364719583405, 6.727920454563199, 10.350939181546432, 8.154818109052105, 10.869593843240784, 9.554588851677638, 9.388017285345136, 13.430975172588068, 9.355351096424812, 9.79766152585376, 12.895385939898507, 10.004220466318195, 14.509156432503849, 9.884170519108435, 14.264589208126823, 12.725153203912992, 14.793908071814263, 14.090195140632224, 10.84313591111135, 12.039604517953759, 10.717676423066395, 10.450180247164754, 10.744833837499545, 10.953468962228849], \"sizemode\": \"area\", \"sizeref\": 0.043606629933987937, \"symbol\": \"circle\"}, \"mode\": \"markers\", \"name\": \"Aligned\", \"orientation\": \"h\", \"showlegend\": true, \"type\": \"scatter\", \"x\": [0.34764479051595937, 0.41182942165349706, 0.06697391240818097, 0.05728938991686627, 0.12923699419440252, 0.10159711577820714, -0.1786188678654813, 0.17344437042170258, 0.27004045764052587, 0.39460748017999553, 0.21095493501227822, 0.4275474535582986, 0.34299004117369886, 0.3082973378723236, 0.24801933493677758, 0.39700437986054954, 0.357664916999523, 0.18891379448605125, 0.25942092923690174, 0.17022194952433647, 0.3025010970687855, 0.39376973778145535, 0.12479725765528235, 0.3927246911600024, 0.3655894716594784, 0.32621032143511597, 0.42066405258434714, 0.3277532601253236, 0.18500029214709282, 0.3054860820424322, 0.2696571612129379, 0.3860751325153711, 0.1269890058992931, 0.024242731641686843, 0.13209717641244234, 0.15330240145672525, 0.25616211657055166, 0.1280235309057505, 0.06523546026502981, 0.06835798101617112, 0.16058592728567142, 0.024517926657136088, 0.03243329440789397, -0.13893245831558146, 0.10861161052152234, 0.42511464456362275, 0.15483143885269804, 0.1325647533875033, 0.26259561759298833, 0.3146958458912606, 0.4769765859593556, 0.3054860820424322, 0.38566057704834383, 0.1577745059748364, 0.2832727560965278, 0.28362645469814535, 0.2884147302172998, 0.25847349793768193, 0.24460864090086895, 0.1979044003918679, 0.3043566335529976, 0.27980908060859444], \"xaxis\": \"x\", \"y\": [\"War\", \"War\", \"Trade\", \"Trade\", \"Trade\", \"Trade\", \"Trade\", \"Trade\", \"Religiosity\", \"Religiosity\", \"Religiosity\", \"Religiosity\", \"Religiosity\", \"Religiosity\", \"Religiosity\", \"Religiosity\", \"Religiosity\", \"Religiosity\", \"Religiosity\", \"Religiosity\", \"Religiosity\", \"Religiosity\", \"Religiosity\", \"Religiosity\", \"Religiosity\", \"Religiosity\", \"Religiosity\", \"Ideology\", \"Ideology\", \"Ideology\", \"Ideology\", \"Ideology\", \"Gun Control\", \"Gun Control\", \"Gun Control\", \"Gun Control\", \"Gun Control\", \"Gun Control\", \"Gun Control\", \"Gun Control\", \"Gun Control\", \"Gun Control\", \"Gun Control\", \"Gun Control\", \"Gun Control\", \"Gun Control\", \"Gun Control\", \"Gun Control\", \"Gun Control\", \"Birth Control\", \"Birth Control\", \"Birth Control\", \"Birth Control\", \"Age\", \"Age\", \"Age\", \"Age\", \"Age\", \"Age\", \"Age\", \"Age\", \"Age\"], \"yaxis\": \"y\"}, {\"customdata\": [[\"EndlessWar\", 14904, \"Pacifistic\"], [\"LeftWithoutEdge\", 518, \"Pacifistic\"], [\"Labour\", 275, \"Anti-Trade\"], [\"stupidpol\", 4309, \"Anti-Trade\"], [\"LeftWithoutEdge\", 205, \"Anti-Trade\"], [\"Socialism_101\", 394, \"Anti-Trade\"], [\"SocialDemocracy\", 208, \"Anti-Trade\"], [\"chomsky\", 335, \"Anti-Trade\"], [\"Kossacks_for_Sanders\", 168, \"Anti-Trade\"], [\"CriticalTheory\", 235, \"Anti-Trade\"], [\"The_Donald\", 62458, \"Anti-Trade\"], [\"WayOfTheBern\", 3828, \"Anti-Trade\"], [\"WeAreNotAsking\", 116, \"Anti-Trade\"], [\"BreadTube\", 1591, \"Anti-Trade\"], [\"dsa\", 64, \"Anti-Trade\"], [\"exlldm\", 2984, \"Secular\"], [\"exchristian\", 28380, \"Secular\"], [\"exmormon\", 170129, \"Secular\"], [\"agnostic\", 2147, \"Secular\"], [\"exIglesiaNiCristo\", 4573, \"Secular\"], [\"excatholic\", 3498, \"Secular\"], [\"communism101\", 8758, \"Progressive\"], [\"Anarchy101\", 6952, \"Progressive\"], [\"LateStageCapitalism\", 62136, \"Progressive\"], [\"BasicIncome\", 4365, \"Progressive\"], [\"socialism\", 17790, \"Progressive\"], [\"capitalism_in_decay\", 2634, \"Progressive\"], [\"SocialDemocracy\", 1185, \"Progressive\"], [\"canadaleft\", 2692, \"Progressive\"], [\"Socialism_101\", 12306, \"Progressive\"], [\"GunsAreCool\", 782, \"More Regulation\"], [\"GenderCritical\", 31523, \"Pro-Choice\"], [\"Egalitarianism\", 1004, \"Pro-Choice\"], [\"WomensHealth\", 1703, \"Pro-Choice\"], [\"FeMRADebates\", 2306, \"Pro-Choice\"], [\"birthcontrol\", 13610, \"Pro-Choice\"], [\"prochoice\", 12759, \"Pro-Choice\"], [\"Periods\", 799, \"Pro-Choice\"], [\"PCOS\", 3847, \"Pro-Choice\"], [\"PMDD\", 981, \"Pro-Choice\"], [\"endometriosis\", 850, \"Pro-Choice\"], [\"Feminism\", 3429, \"Pro-Choice\"], [\"Endo\", 1220, \"Pro-Choice\"], [\"TwoXChromosomes\", 32247, \"Pro-Choice\"], [\"abortion\", 12684, \"Pro-Choice\"], [\"teenagers\", 15271, \"Younger\"], [\"family\", 7977, \"Younger\"], [\"2meirl4meirl\", 6730, \"Younger\"], [\"dankmemes\", 2601, \"Younger\"], [\"AsianParentStories\", 5721, \"Younger\"], [\"LifeAfterSchool\", 2381, \"Younger\"]], \"hovertemplate\": \"alignment=Opposing<br>Projection=%{x}<br>=%{y}<br>size=%{marker.size}<br>subreddit=%{customdata[0]}<br>count=%{customdata[1]}<br>label=%{customdata[2]}<extra></extra>\", \"legendgroup\": \"Opposing\", \"marker\": {\"color\": \"#00cc96\", \"size\": [13.863411958941638, 9.016808287686555, 8.103287808412022, 12.073137383110383, 7.679480099505446, 8.622051819456376, 7.700439718141092, 8.388017285345136, 7.392317422778761, 7.876516946564999, 15.93059875236169, 11.902375114486025, 6.857980995127572, 10.635718120331047, 6.0, 11.543031820255237, 14.792586968947914, 17.376269556591197, 11.068106475858773, 12.158925203806964, 11.772314573921653, 13.096385734452651, 12.7632123668144, 15.923141750621268, 12.091765938516803, 14.118778890154521, 11.363039630256514, 10.210671343785622, 11.394462694610317, 13.587074277201008, 9.611024797307353, 14.944117220154881, 9.971543553950772, 10.733862719678543, 11.171176797651771, 13.732379446391358, 13.63922764034692, 9.642051692927977, 11.909518114296615, 9.938109326219239, 9.731319031025064, 11.743572188935634, 10.252665432450248, 14.976877329653048, 13.630722162103838, 13.898506917637286, 12.961630562578824, 12.71639078949768, 11.34485068394299, 12.482051629033913, 11.217351905270334], \"sizemode\": \"area\", \"sizeref\": 0.043606629933987937, \"symbol\": \"circle\"}, \"mode\": \"markers\", \"name\": \"Opposing\", \"orientation\": \"h\", \"showlegend\": true, \"type\": \"scatter\", \"x\": [-0.5103557530872048, -0.2710183520487015, -0.30344392144831783, -0.12103495875968963, -0.341291653604567, -0.40220359440438785, -0.15921461894684064, -0.27733974108949605, -0.11432991265936246, -0.22848704075967402, 0.12104794884389276, -0.0709429818559345, -0.14700423860328726, -0.3733732398874508, -0.18502726707163525, -0.05743893857197754, 0.09628302327873395, 0.021644737038661765, 0.1992243091238195, -0.036380486381942696, 0.07511453674127389, -0.3353171856684026, -0.3298392291402624, -0.3060482337645443, -0.24114264605105315, -0.37406066586913506, -0.39240052290112826, -0.3458568571232288, -0.2609184173082289, -0.3425119109375313, -0.48492995953014906, 0.17603586673664035, 0.15777939127789983, -0.008525239199694615, 0.13182919913601715, -0.0882533903256089, 0.13071072857825067, 0.014415887117839471, -0.06673679664577215, -0.18212241786322403, -0.13443891825076662, -0.017806857236398417, -0.12312606729043543, -0.03583218219086587, -0.005334031634342216, -0.6654832741596896, 0.15115884705070148, -0.26898663281244756, -0.571760882785317, 0.09452683751093863, -0.0036621635541655693], \"xaxis\": \"x\", \"y\": [\"War\", \"War\", \"Trade\", \"Trade\", \"Trade\", \"Trade\", \"Trade\", \"Trade\", \"Trade\", \"Trade\", \"Trade\", \"Trade\", \"Trade\", \"Trade\", \"Trade\", \"Religiosity\", \"Religiosity\", \"Religiosity\", \"Religiosity\", \"Religiosity\", \"Religiosity\", \"Ideology\", \"Ideology\", \"Ideology\", \"Ideology\", \"Ideology\", \"Ideology\", \"Ideology\", \"Ideology\", \"Ideology\", \"Gun Control\", \"Birth Control\", \"Birth Control\", \"Birth Control\", \"Birth Control\", \"Birth Control\", \"Birth Control\", \"Birth Control\", \"Birth Control\", \"Birth Control\", \"Birth Control\", \"Birth Control\", \"Birth Control\", \"Birth Control\", \"Birth Control\", \"Age\", \"Age\", \"Age\", \"Age\", \"Age\", \"Age\"], \"yaxis\": \"y\"}],\n",
       "                        {\"font\": {\"size\": 23}, \"height\": 700, \"legend\": {\"itemsizing\": \"constant\", \"title\": {\"text\": \"alignment\"}, \"tracegroupgap\": 0}, \"margin\": {\"t\": 60}, \"template\": {\"data\": {\"bar\": [{\"error_x\": {\"color\": \"rgb(36,36,36)\"}, \"error_y\": {\"color\": \"rgb(36,36,36)\"}, \"marker\": {\"line\": {\"color\": \"white\", \"width\": 0.5}}, \"type\": \"bar\"}], \"barpolar\": [{\"marker\": {\"line\": {\"color\": \"white\", \"width\": 0.5}}, \"type\": \"barpolar\"}], \"carpet\": [{\"aaxis\": {\"endlinecolor\": \"rgb(36,36,36)\", \"gridcolor\": \"white\", \"linecolor\": \"white\", \"minorgridcolor\": \"white\", \"startlinecolor\": \"rgb(36,36,36)\"}, \"baxis\": {\"endlinecolor\": \"rgb(36,36,36)\", \"gridcolor\": \"white\", \"linecolor\": \"white\", \"minorgridcolor\": \"white\", \"startlinecolor\": \"rgb(36,36,36)\"}, \"type\": \"carpet\"}], \"choropleth\": [{\"colorbar\": {\"outlinewidth\": 1, \"tickcolor\": \"rgb(36,36,36)\", \"ticks\": \"outside\"}, \"type\": \"choropleth\"}], \"contour\": [{\"colorbar\": {\"outlinewidth\": 1, \"tickcolor\": \"rgb(36,36,36)\", \"ticks\": \"outside\"}, \"colorscale\": [[0.0, \"#440154\"], [0.1111111111111111, \"#482878\"], [0.2222222222222222, \"#3e4989\"], [0.3333333333333333, \"#31688e\"], [0.4444444444444444, \"#26828e\"], [0.5555555555555556, \"#1f9e89\"], [0.6666666666666666, \"#35b779\"], [0.7777777777777778, \"#6ece58\"], [0.8888888888888888, \"#b5de2b\"], [1.0, \"#fde725\"]], \"type\": \"contour\"}], \"contourcarpet\": [{\"colorbar\": {\"outlinewidth\": 1, \"tickcolor\": \"rgb(36,36,36)\", \"ticks\": \"outside\"}, \"type\": \"contourcarpet\"}], \"heatmap\": [{\"colorbar\": {\"outlinewidth\": 1, \"tickcolor\": \"rgb(36,36,36)\", \"ticks\": \"outside\"}, \"colorscale\": [[0.0, \"#440154\"], [0.1111111111111111, \"#482878\"], [0.2222222222222222, \"#3e4989\"], [0.3333333333333333, \"#31688e\"], [0.4444444444444444, \"#26828e\"], [0.5555555555555556, \"#1f9e89\"], [0.6666666666666666, \"#35b779\"], [0.7777777777777778, \"#6ece58\"], [0.8888888888888888, \"#b5de2b\"], [1.0, \"#fde725\"]], \"type\": \"heatmap\"}], \"heatmapgl\": [{\"colorbar\": {\"outlinewidth\": 1, \"tickcolor\": \"rgb(36,36,36)\", \"ticks\": \"outside\"}, \"colorscale\": [[0.0, \"#440154\"], [0.1111111111111111, \"#482878\"], [0.2222222222222222, \"#3e4989\"], [0.3333333333333333, \"#31688e\"], [0.4444444444444444, \"#26828e\"], [0.5555555555555556, \"#1f9e89\"], [0.6666666666666666, \"#35b779\"], [0.7777777777777778, \"#6ece58\"], [0.8888888888888888, \"#b5de2b\"], [1.0, \"#fde725\"]], \"type\": \"heatmapgl\"}], \"histogram\": [{\"marker\": {\"line\": {\"color\": \"white\", \"width\": 0.6}}, \"type\": \"histogram\"}], \"histogram2d\": [{\"colorbar\": {\"outlinewidth\": 1, \"tickcolor\": \"rgb(36,36,36)\", \"ticks\": \"outside\"}, \"colorscale\": [[0.0, \"#440154\"], [0.1111111111111111, \"#482878\"], [0.2222222222222222, \"#3e4989\"], [0.3333333333333333, \"#31688e\"], [0.4444444444444444, \"#26828e\"], [0.5555555555555556, \"#1f9e89\"], [0.6666666666666666, \"#35b779\"], [0.7777777777777778, \"#6ece58\"], [0.8888888888888888, \"#b5de2b\"], [1.0, \"#fde725\"]], \"type\": \"histogram2d\"}], \"histogram2dcontour\": [{\"colorbar\": {\"outlinewidth\": 1, \"tickcolor\": \"rgb(36,36,36)\", \"ticks\": \"outside\"}, \"colorscale\": [[0.0, \"#440154\"], [0.1111111111111111, \"#482878\"], [0.2222222222222222, \"#3e4989\"], [0.3333333333333333, \"#31688e\"], [0.4444444444444444, \"#26828e\"], [0.5555555555555556, \"#1f9e89\"], [0.6666666666666666, \"#35b779\"], [0.7777777777777778, \"#6ece58\"], [0.8888888888888888, \"#b5de2b\"], [1.0, \"#fde725\"]], \"type\": \"histogram2dcontour\"}], \"mesh3d\": [{\"colorbar\": {\"outlinewidth\": 1, \"tickcolor\": \"rgb(36,36,36)\", \"ticks\": \"outside\"}, \"type\": \"mesh3d\"}], \"parcoords\": [{\"line\": {\"colorbar\": {\"outlinewidth\": 1, \"tickcolor\": \"rgb(36,36,36)\", \"ticks\": \"outside\"}}, \"type\": \"parcoords\"}], \"pie\": [{\"automargin\": true, \"type\": \"pie\"}], \"scatter\": [{\"marker\": {\"colorbar\": {\"outlinewidth\": 1, \"tickcolor\": \"rgb(36,36,36)\", \"ticks\": \"outside\"}}, \"type\": \"scatter\"}], \"scatter3d\": [{\"line\": {\"colorbar\": {\"outlinewidth\": 1, \"tickcolor\": \"rgb(36,36,36)\", \"ticks\": \"outside\"}}, \"marker\": {\"colorbar\": {\"outlinewidth\": 1, \"tickcolor\": \"rgb(36,36,36)\", \"ticks\": \"outside\"}}, \"type\": \"scatter3d\"}], \"scattercarpet\": [{\"marker\": {\"colorbar\": {\"outlinewidth\": 1, \"tickcolor\": \"rgb(36,36,36)\", \"ticks\": \"outside\"}}, \"type\": \"scattercarpet\"}], \"scattergeo\": [{\"marker\": {\"colorbar\": {\"outlinewidth\": 1, \"tickcolor\": \"rgb(36,36,36)\", \"ticks\": \"outside\"}}, \"type\": \"scattergeo\"}], \"scattergl\": [{\"marker\": {\"colorbar\": {\"outlinewidth\": 1, \"tickcolor\": \"rgb(36,36,36)\", \"ticks\": \"outside\"}}, \"type\": \"scattergl\"}], \"scattermapbox\": [{\"marker\": {\"colorbar\": {\"outlinewidth\": 1, \"tickcolor\": \"rgb(36,36,36)\", \"ticks\": \"outside\"}}, \"type\": \"scattermapbox\"}], \"scatterpolar\": [{\"marker\": {\"colorbar\": {\"outlinewidth\": 1, \"tickcolor\": \"rgb(36,36,36)\", \"ticks\": \"outside\"}}, \"type\": \"scatterpolar\"}], \"scatterpolargl\": [{\"marker\": {\"colorbar\": {\"outlinewidth\": 1, \"tickcolor\": \"rgb(36,36,36)\", \"ticks\": \"outside\"}}, \"type\": \"scatterpolargl\"}], \"scatterternary\": [{\"marker\": {\"colorbar\": {\"outlinewidth\": 1, \"tickcolor\": \"rgb(36,36,36)\", \"ticks\": \"outside\"}}, \"type\": \"scatterternary\"}], \"surface\": [{\"colorbar\": {\"outlinewidth\": 1, \"tickcolor\": \"rgb(36,36,36)\", \"ticks\": \"outside\"}, \"colorscale\": [[0.0, \"#440154\"], [0.1111111111111111, \"#482878\"], [0.2222222222222222, \"#3e4989\"], [0.3333333333333333, \"#31688e\"], [0.4444444444444444, \"#26828e\"], [0.5555555555555556, \"#1f9e89\"], [0.6666666666666666, \"#35b779\"], [0.7777777777777778, \"#6ece58\"], [0.8888888888888888, \"#b5de2b\"], [1.0, \"#fde725\"]], \"type\": \"surface\"}], \"table\": [{\"cells\": {\"fill\": {\"color\": \"rgb(237,237,237)\"}, \"line\": {\"color\": \"white\"}}, \"header\": {\"fill\": {\"color\": \"rgb(217,217,217)\"}, \"line\": {\"color\": \"white\"}}, \"type\": \"table\"}]}, \"layout\": {\"annotationdefaults\": {\"arrowhead\": 0, \"arrowwidth\": 1}, \"coloraxis\": {\"colorbar\": {\"outlinewidth\": 1, \"tickcolor\": \"rgb(36,36,36)\", \"ticks\": \"outside\"}}, \"colorscale\": {\"diverging\": [[0.0, \"rgb(103,0,31)\"], [0.1, \"rgb(178,24,43)\"], [0.2, \"rgb(214,96,77)\"], [0.3, \"rgb(244,165,130)\"], [0.4, \"rgb(253,219,199)\"], [0.5, \"rgb(247,247,247)\"], [0.6, \"rgb(209,229,240)\"], [0.7, \"rgb(146,197,222)\"], [0.8, \"rgb(67,147,195)\"], [0.9, \"rgb(33,102,172)\"], [1.0, \"rgb(5,48,97)\"]], \"sequential\": [[0.0, \"#440154\"], [0.1111111111111111, \"#482878\"], [0.2222222222222222, \"#3e4989\"], [0.3333333333333333, \"#31688e\"], [0.4444444444444444, \"#26828e\"], [0.5555555555555556, \"#1f9e89\"], [0.6666666666666666, \"#35b779\"], [0.7777777777777778, \"#6ece58\"], [0.8888888888888888, \"#b5de2b\"], [1.0, \"#fde725\"]], \"sequentialminus\": [[0.0, \"#440154\"], [0.1111111111111111, \"#482878\"], [0.2222222222222222, \"#3e4989\"], [0.3333333333333333, \"#31688e\"], [0.4444444444444444, \"#26828e\"], [0.5555555555555556, \"#1f9e89\"], [0.6666666666666666, \"#35b779\"], [0.7777777777777778, \"#6ece58\"], [0.8888888888888888, \"#b5de2b\"], [1.0, \"#fde725\"]]}, \"colorway\": [\"#1F77B4\", \"#FF7F0E\", \"#2CA02C\", \"#D62728\", \"#9467BD\", \"#8C564B\", \"#E377C2\", \"#7F7F7F\", \"#BCBD22\", \"#17BECF\"], \"font\": {\"color\": \"rgb(36,36,36)\"}, \"geo\": {\"bgcolor\": \"white\", \"lakecolor\": \"white\", \"landcolor\": \"white\", \"showlakes\": true, \"showland\": true, \"subunitcolor\": \"white\"}, \"hoverlabel\": {\"align\": \"left\"}, \"hovermode\": \"closest\", \"mapbox\": {\"style\": \"light\"}, \"paper_bgcolor\": \"white\", \"plot_bgcolor\": \"white\", \"polar\": {\"angularaxis\": {\"gridcolor\": \"rgb(232,232,232)\", \"linecolor\": \"rgb(36,36,36)\", \"showgrid\": false, \"showline\": true, \"ticks\": \"outside\"}, \"bgcolor\": \"white\", \"radialaxis\": {\"gridcolor\": \"rgb(232,232,232)\", \"linecolor\": \"rgb(36,36,36)\", \"showgrid\": false, \"showline\": true, \"ticks\": \"outside\"}}, \"scene\": {\"xaxis\": {\"backgroundcolor\": \"white\", \"gridcolor\": \"rgb(232,232,232)\", \"gridwidth\": 2, \"linecolor\": \"rgb(36,36,36)\", \"showbackground\": true, \"showgrid\": false, \"showline\": true, \"ticks\": \"outside\", \"zeroline\": false, \"zerolinecolor\": \"rgb(36,36,36)\"}, \"yaxis\": {\"backgroundcolor\": \"white\", \"gridcolor\": \"rgb(232,232,232)\", \"gridwidth\": 2, \"linecolor\": \"rgb(36,36,36)\", \"showbackground\": true, \"showgrid\": false, \"showline\": true, \"ticks\": \"outside\", \"zeroline\": false, \"zerolinecolor\": \"rgb(36,36,36)\"}, \"zaxis\": {\"backgroundcolor\": \"white\", \"gridcolor\": \"rgb(232,232,232)\", \"gridwidth\": 2, \"linecolor\": \"rgb(36,36,36)\", \"showbackground\": true, \"showgrid\": false, \"showline\": true, \"ticks\": \"outside\", \"zeroline\": false, \"zerolinecolor\": \"rgb(36,36,36)\"}}, \"shapedefaults\": {\"fillcolor\": \"black\", \"line\": {\"width\": 0}, \"opacity\": 0.3}, \"ternary\": {\"aaxis\": {\"gridcolor\": \"rgb(232,232,232)\", \"linecolor\": \"rgb(36,36,36)\", \"showgrid\": false, \"showline\": true, \"ticks\": \"outside\"}, \"baxis\": {\"gridcolor\": \"rgb(232,232,232)\", \"linecolor\": \"rgb(36,36,36)\", \"showgrid\": false, \"showline\": true, \"ticks\": \"outside\"}, \"bgcolor\": \"white\", \"caxis\": {\"gridcolor\": \"rgb(232,232,232)\", \"linecolor\": \"rgb(36,36,36)\", \"showgrid\": false, \"showline\": true, \"ticks\": \"outside\"}}, \"title\": {\"x\": 0.05}, \"xaxis\": {\"automargin\": true, \"gridcolor\": \"rgb(232,232,232)\", \"linecolor\": \"rgb(36,36,36)\", \"showgrid\": false, \"showline\": true, \"ticks\": \"outside\", \"title\": {\"standoff\": 15}, \"zeroline\": false, \"zerolinecolor\": \"rgb(36,36,36)\"}, \"yaxis\": {\"automargin\": true, \"gridcolor\": \"rgb(232,232,232)\", \"linecolor\": \"rgb(36,36,36)\", \"showgrid\": false, \"showline\": true, \"ticks\": \"outside\", \"title\": {\"standoff\": 15}, \"zeroline\": false, \"zerolinecolor\": \"rgb(36,36,36)\"}}}, \"width\": 1000, \"xaxis\": {\"anchor\": \"y\", \"domain\": [0.0, 1.0], \"title\": {\"text\": \"Projection\"}}, \"yaxis\": {\"anchor\": \"x\", \"domain\": [0.0, 1.0], \"showline\": false, \"title\": {\"text\": \"\"}, \"type\": \"category\"}},\n",
       "                        {\"responsive\": true}\n",
       "                    ).then(function(){\n",
       "                            \n",
       "var gd = document.getElementById('e143d911-e893-4a8d-bf3e-3b0f0d99c5aa');\n",
       "var x = new MutationObserver(function (mutations, observer) {{\n",
       "        var display = window.getComputedStyle(gd).display;\n",
       "        if (!display || display === 'none') {{\n",
       "            console.log([gd, 'removed!']);\n",
       "            Plotly.purge(gd);\n",
       "            observer.disconnect();\n",
       "        }}\n",
       "}});\n",
       "\n",
       "// Listen for the removal of the full notebook cells\n",
       "var notebookContainer = gd.closest('#notebook-container');\n",
       "if (notebookContainer) {{\n",
       "    x.observe(notebookContainer, {childList: true});\n",
       "}}\n",
       "\n",
       "// Listen for the clearing of the current output cell\n",
       "var outputEl = gd.closest('.output');\n",
       "if (outputEl) {{\n",
       "    x.observe(outputEl, {childList: true});\n",
       "}}\n",
       "\n",
       "                        })\n",
       "                };\n",
       "                });\n",
       "            </script>\n",
       "        </div>"
      ]
     },
     "metadata": {},
     "output_type": "display_data"
    }
   ],
   "source": [
    "fig = px.scatter(counts_df,\n",
    "                 x=\"projection\",\n",
    "                 color=\"alignment\",\n",
    "                 size=\"size\",\n",
    "                 hover_data=[\"subreddit\",\"count\",\"label\"],\n",
    "                 y=\"dim\",\n",
    "                 labels=dict(dim=\"\",projection=\"Projection\"),\n",
    "                )\n",
    "# fig.update_layout(annotations=[\n",
    "#            dict(x=point,\n",
    "#             y=dim,\n",
    "#             xref=\"x\",\n",
    "#             yref=\"y\",\n",
    "#             text=text,\n",
    "#             align='center',\n",
    "#             showarrow=False,\n",
    "#             yanchor='bottom',\n",
    "#             textangle=90) for point,text,dim in counts_df[[\"projection\",\"subreddit\",\"dim\"]].itertuples(index=False)])\n",
    "\n",
    "args = {\n",
    "    \"font\":{\"size\": 23},\n",
    "    \"height\": 700,\n",
    "    \"width\": 1000,    \n",
    "    \"template\":\"simple_white\",\n",
    "    \"yaxis_type\": 'category',\n",
    "    \"yaxis\":{\"showline\": False}\n",
    "}\n",
    "    \n",
    "fig.update_layout(**args)\n",
    "with open(\"visualizations/political_dimensions/dimension_validation.pdf\", \"wb\") as f:\n",
    "    f.write(scope.transform(fig, format=\"pdf\"))\n",
    "# fig.write_html(\"visualizations/political_dimensions/dimension_validation.html\")\n",
    "fig.show()\n"
   ]
  },
  {
   "cell_type": "code",
   "execution_count": 116,
   "metadata": {},
   "outputs": [
    {
     "name": "stdout",
     "output_type": "stream",
     "text": [
      "\\begin{tabular}{llr}\n",
      "\\toprule\n",
      "    &            &  projection \\\\\n",
      "dim & label &             \\\\\n",
      "\\midrule\n",
      "Age & NA &    0.029216 \\\\\n",
      "    & Older &    0.255360 \\\\\n",
      "    & Younger &   -0.210701 \\\\\n",
      "Birth Control & NA &    0.056763 \\\\\n",
      "    & Pro-Choice &   -0.003672 \\\\\n",
      "    & Pro-Life &    0.370705 \\\\\n",
      "Globalism & Anti-Trade &   -0.200203 \\\\\n",
      "    & NA &   -0.189340 \\\\\n",
      "    & Pro-Trade &    0.058320 \\\\\n",
      "Gun Control & Less Regulation &    0.124514 \\\\\n",
      "    & More Regulation &   -0.484930 \\\\\n",
      "    & NA &   -0.098375 \\\\\n",
      "Ideology & Conservative &    0.294794 \\\\\n",
      "    & NA &    0.014963 \\\\\n",
      "    & Progressive &   -0.325344 \\\\\n",
      "Religion & NA &    0.173543 \\\\\n",
      "    & Religious &    0.310628 \\\\\n",
      "    & Secular &    0.049741 \\\\\n",
      "War & Hawkish &    0.379737 \\\\\n",
      "    & NA &    0.002937 \\\\\n",
      "    & Pacifistic &   -0.390687 \\\\\n",
      "\\bottomrule\n",
      "\\end{tabular}\n",
      "\n"
     ]
    }
   ],
   "source": [
    "print(counts_df.groupby([\"dim\",\"label\"])[[\"dim\",\"label\",\"projection\"]].mean().to_latex())"
   ]
  },
  {
   "cell_type": "code",
   "execution_count": null,
   "metadata": {},
   "outputs": [],
   "source": []
  }
 ],
 "metadata": {
  "kernelspec": {
   "display_name": "Python 3",
   "language": "python",
   "name": "python3"
  },
  "language_info": {
   "codemirror_mode": {
    "name": "ipython",
    "version": 3
   },
   "file_extension": ".py",
   "mimetype": "text/x-python",
   "name": "python",
   "nbconvert_exporter": "python",
   "pygments_lexer": "ipython3",
   "version": "3.7.7"
  }
 },
 "nbformat": 4,
 "nbformat_minor": 4
}
