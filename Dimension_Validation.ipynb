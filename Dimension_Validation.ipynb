{
 "cells": [
  {
   "cell_type": "markdown",
   "metadata": {},
   "source": [
    "# Dimension Validation\n",
    "\n",
    "Goal: For each dimension, take words that aligns with and oppose the dimension. Collect all the subreddits that use those word in the comments and take the 50 subreddits that use those words the most. Hand label the subreddits as pro, against or unclear for that dimension and project them onto the dimension. See if the political dimension picks up on the differences.\n",
    "\n",
    "* Ideology Words:\n",
    "    * Left Words: progressive, socialism\n",
    "    * Right Words: conservative, libtard (gotta pick up those alt right ones), based\n",
    "* Religious: \n",
    "    * Religious: bible, jesus, pray, church, mosque\n",
    "    * Secular: atheism\n",
    "* Birth Control Words: abortion, feminism, feminazi, \"birth control\"\n",
    "* Gun Control Words: \n",
    "    * More Regulaton: \"gun control\", \"gun nuts\", \"gun regulation\"\n",
    "    * Less Regulation: \"gun rights\", \"second amendment\", \"2 amendment\"\n",
    "* Age Words: \n",
    "    * Older: career, family, retirement, mortgage\n",
    "    * Younger: \"high school\", homework, internship, crush\n",
    "* Globalism Words: \"free trade\", \"globalism\", neoliberal, Friedman\n",
    "* War Words: war, troops, veterans, 9/11, \"drone strike\", \"war on terror\"\n",
    "* Gender Words: mom, dad, \"make up\"\n"
   ]
  },
  {
   "cell_type": "code",
   "execution_count": 1,
   "metadata": {},
   "outputs": [],
   "source": [
    "import findspark\n",
    "findspark.init(\"/h/224/cameron/spark-3.0.0-preview2-bin-hadoop2.7\")\n",
    "from utils import load_embedding, parse_tup, cos_sim, cos_dist\n",
    "from kaleido.scopes.plotly import PlotlyScope\n",
    "from pyspark.sql import SparkSession\n",
    "from tqdm.auto import tqdm\n",
    "from datetime import datetime\n",
    "import plotly.express as px\n",
    "import plotly.express as go\n",
    "import pandas as pd\n",
    "import numpy as np\n",
    "scope = PlotlyScope()\n",
    "left_candidates = [\"JoeBiden\",\"SandersForPresident\",\"BaemyKlobaechar\",\"ElizabethWarren\",\"Pete_Buttigieg\",\"YangForPresidentHQ\"]\n",
    "mapping = {}\n",
    "for a,b in zip(left_candidates,px.colors.qualitative.Plotly):\n",
    "    mapping[a] = b"
   ]
  },
  {
   "cell_type": "code",
   "execution_count": 2,
   "metadata": {},
   "outputs": [
    {
     "name": "stdout",
     "output_type": "stream",
     "text": [
      "root\n",
      " |-- author: string (nullable = false)\n",
      " |-- subreddit: string (nullable = false)\n",
      " |-- body: string (nullable = false)\n",
      " |-- created_utc: integer (nullable = true)\n",
      "\n"
     ]
    }
   ],
   "source": [
    "spark = SparkSession.builder.getOrCreate()\n",
    "spark.sparkContext.getConf().getAll()\n",
    "spark.catalog.clearCache()\n",
    "# Load the Parquet data\n",
    "comments = spark.read.load(\"/comments_2019.parquet\").fillna(\"\")\n",
    "subreddits = spark.read.load(\"dataframes/subreddits.parquet\")\n",
    "comments = comments.join(subreddits, ['subreddit'], 'leftsemi')\n",
    "subreddits = subreddits.selectExpr(\"subreddit as subreddit\",\"count as totalCount\")\n",
    "cols = ['author','subreddit','body','created_utc']\n",
    "comments = comments.select(*cols)\n",
    "comments.printSchema()"
   ]
  },
  {
   "cell_type": "markdown",
   "metadata": {},
   "source": [
    "## Find Top 30\n",
    "\n",
    "Top 30 subreddits that use representative words with the highest proportion"
   ]
  },
  {
   "cell_type": "code",
   "execution_count": 33,
   "metadata": {},
   "outputs": [
    {
     "data": {
      "application/vnd.jupyter.widget-view+json": {
       "model_id": "1bdfd72a83b0419baa4fb3856405f816",
       "version_major": 2,
       "version_minor": 0
      },
      "text/plain": [
       "HBox(children=(FloatProgress(value=0.0, max=8.0), HTML(value='')))"
      ]
     },
     "metadata": {},
     "output_type": "display_data"
    },
    {
     "name": "stdout",
     "output_type": "stream",
     "text": [
      "\n"
     ]
    },
    {
     "data": {
      "text/html": [
       "<div>\n",
       "<style scoped>\n",
       "    .dataframe tbody tr th:only-of-type {\n",
       "        vertical-align: middle;\n",
       "    }\n",
       "\n",
       "    .dataframe tbody tr th {\n",
       "        vertical-align: top;\n",
       "    }\n",
       "\n",
       "    .dataframe thead th {\n",
       "        text-align: right;\n",
       "    }\n",
       "</style>\n",
       "<table border=\"1\" class=\"dataframe\">\n",
       "  <thead>\n",
       "    <tr style=\"text-align: right;\">\n",
       "      <th></th>\n",
       "      <th>subreddit</th>\n",
       "      <th>count</th>\n",
       "      <th>proportion</th>\n",
       "      <th>dim</th>\n",
       "      <th>label</th>\n",
       "      <th>alignment</th>\n",
       "    </tr>\n",
       "  </thead>\n",
       "  <tbody>\n",
       "    <tr>\n",
       "      <th>0</th>\n",
       "      <td>AquaSama</td>\n",
       "      <td>16607</td>\n",
       "      <td>0.540153</td>\n",
       "      <td>Religiosity</td>\n",
       "      <td>NaN</td>\n",
       "      <td>NaN</td>\n",
       "    </tr>\n",
       "    <tr>\n",
       "      <th>1</th>\n",
       "      <td>PrayerRequests</td>\n",
       "      <td>4812</td>\n",
       "      <td>0.301202</td>\n",
       "      <td>Religiosity</td>\n",
       "      <td>Religious</td>\n",
       "      <td>Aligned</td>\n",
       "    </tr>\n",
       "    <tr>\n",
       "      <th>2</th>\n",
       "      <td>Anglicanism</td>\n",
       "      <td>6392</td>\n",
       "      <td>0.223169</td>\n",
       "      <td>Religiosity</td>\n",
       "      <td>Religious</td>\n",
       "      <td>Aligned</td>\n",
       "    </tr>\n",
       "    <tr>\n",
       "      <th>3</th>\n",
       "      <td>mormon</td>\n",
       "      <td>26108</td>\n",
       "      <td>0.215051</td>\n",
       "      <td>Religiosity</td>\n",
       "      <td>Religious</td>\n",
       "      <td>Aligned</td>\n",
       "    </tr>\n",
       "    <tr>\n",
       "      <th>4</th>\n",
       "      <td>RPChristians</td>\n",
       "      <td>2151</td>\n",
       "      <td>0.206311</td>\n",
       "      <td>Religiosity</td>\n",
       "      <td>Religious</td>\n",
       "      <td>Aligned</td>\n",
       "    </tr>\n",
       "    <tr>\n",
       "      <th>...</th>\n",
       "      <td>...</td>\n",
       "      <td>...</td>\n",
       "      <td>...</td>\n",
       "      <td>...</td>\n",
       "      <td>...</td>\n",
       "      <td>...</td>\n",
       "    </tr>\n",
       "    <tr>\n",
       "      <th>25</th>\n",
       "      <td>BrasilSimulator</td>\n",
       "      <td>12000</td>\n",
       "      <td>0.169456</td>\n",
       "      <td>Gender</td>\n",
       "      <td>NaN</td>\n",
       "      <td>NaN</td>\n",
       "    </tr>\n",
       "    <tr>\n",
       "      <th>26</th>\n",
       "      <td>portugal</td>\n",
       "      <td>88447</td>\n",
       "      <td>0.167543</td>\n",
       "      <td>Gender</td>\n",
       "      <td>NaN</td>\n",
       "      <td>NaN</td>\n",
       "    </tr>\n",
       "    <tr>\n",
       "      <th>27</th>\n",
       "      <td>brasilivre</td>\n",
       "      <td>94184</td>\n",
       "      <td>0.159148</td>\n",
       "      <td>Gender</td>\n",
       "      <td>NaN</td>\n",
       "      <td>NaN</td>\n",
       "    </tr>\n",
       "    <tr>\n",
       "      <th>28</th>\n",
       "      <td>rwbyRP</td>\n",
       "      <td>4085</td>\n",
       "      <td>0.158260</td>\n",
       "      <td>Gender</td>\n",
       "      <td>NaN</td>\n",
       "      <td>NaN</td>\n",
       "    </tr>\n",
       "    <tr>\n",
       "      <th>29</th>\n",
       "      <td>vzla</td>\n",
       "      <td>29924</td>\n",
       "      <td>0.154940</td>\n",
       "      <td>Gender</td>\n",
       "      <td>NaN</td>\n",
       "      <td>NaN</td>\n",
       "    </tr>\n",
       "  </tbody>\n",
       "</table>\n",
       "<p>239 rows × 6 columns</p>\n",
       "</div>"
      ],
      "text/plain": [
       "          subreddit  count  proportion          dim      label alignment\n",
       "0          AquaSama  16607    0.540153  Religiosity        NaN       NaN\n",
       "1    PrayerRequests   4812    0.301202  Religiosity  Religious   Aligned\n",
       "2       Anglicanism   6392    0.223169  Religiosity  Religious   Aligned\n",
       "3            mormon  26108    0.215051  Religiosity  Religious   Aligned\n",
       "4      RPChristians   2151    0.206311  Religiosity  Religious   Aligned\n",
       "..              ...    ...         ...          ...        ...       ...\n",
       "25  BrasilSimulator  12000    0.169456       Gender        NaN       NaN\n",
       "26         portugal  88447    0.167543       Gender        NaN       NaN\n",
       "27       brasilivre  94184    0.159148       Gender        NaN       NaN\n",
       "28           rwbyRP   4085    0.158260       Gender        NaN       NaN\n",
       "29             vzla  29924    0.154940       Gender        NaN       NaN\n",
       "\n",
       "[239 rows x 6 columns]"
      ]
     },
     "execution_count": 33,
     "metadata": {},
     "output_type": "execute_result"
    }
   ],
   "source": [
    "import pyspark.sql.functions as f\n",
    "\n",
    "dim_names = [\"Ideology\",\"Religiosity\",\"Birth Control\",\"Gun Control\",\"Age\",\"Trade\",\"War\",\"Gender\"]\n",
    "word_pairs = [[\"progressive\",\"conservative\",\"libtard\",\"socialism\",\"capitalism\",\"based\"],\n",
    "              [\"bible\", \"jesus\", \"atheism\", \"pray\", \"church\", \"mosque\"],\n",
    "              [\"abortion\", \"feminism\", \"feminazi\", \"birth control\"],\n",
    "              [\"gun control\", \"gun rights\", \"second amendment\", \"2 amendment\"],\n",
    "              [\"career\", \"family\", \"retirement\", \"mortgage\", \"high school\", \"homework\", \"internship\",\"crush\"],\n",
    "              [\"free trade\", \"globalism\",\"neoliberal\",\"friedman\"],\n",
    "              [\"war\", \"troops\", \"veterans\", \"9/11\", \"drone strike\",\"war on terror\"],\n",
    "              [\"mom\", \"dad\", \"make up\"]]\n",
    "\n",
    "try:\n",
    "    counts_df = pd.read_csv(\"external_datasets/validation/dimension_validation_2.csv\",index_col=0)\n",
    "except Exception as e:\n",
    "    print(e)\n",
    "    counts_df = pd.DataFrame(columns=[\"subreddit\",\"count\",\"proportion\",\"dim\",\"label\",\"alignment\"])\n",
    "    counts_df.to_csv('external_datasets/validation/dimension_validation_2.csv')\n",
    "\n",
    "\n",
    "\n",
    "for name,words in tqdm(list(zip(dim_names,word_pairs))):\n",
    "    if not name in list(counts_df[\"dim\"]):\n",
    "        print(name,words)\n",
    "        top_30 = comments[comments['body'].rlike('|'.join(words))].groupBy(\"subreddit\").count()\n",
    "        top_30 = top_30.join(subreddits, on=['subreddit'], how='left')\n",
    "        top_30 = top_30.withColumn(\"proportion\", (f.col(\"count\") / f.col(\"totalCount\")))\n",
    "        top_30_df = top_30.orderBy('proportion', ascending=False).limit(30).select(*[\"subreddit\",\"count\",\"proportion\"]).toPandas()\n",
    "        top_30.unpersist()\n",
    "        top_30_df[\"dim\"],top_30_df[\"label\"],top_30_df[\"alignment\"] = name,\"NA\",\"NA\"\n",
    "        top_30_df = top_30_df.reset_index()\n",
    "        top_30_df.to_csv('external_datasets/validation/dimension_validation_2.csv',index=False,mode='a', header=False)\n",
    "        \n",
    "counts_df = pd.read_csv(\"external_datasets/validation/dimension_validation_2.csv\",index_col=0)\n",
    "counts_df\n"
   ]
  },
  {
   "cell_type": "markdown",
   "metadata": {},
   "source": [
    "## Label Dimensions\n",
    "\n",
    "Done in vscode...."
   ]
  },
  {
   "cell_type": "markdown",
   "metadata": {},
   "source": [
    "## Dimension Validation"
   ]
  },
  {
   "cell_type": "code",
   "execution_count": 4,
   "metadata": {},
   "outputs": [],
   "source": [
    "embedding = load_embedding(\"/h/224/cameron/Political-Subreddit-Embedding/trained_embeddings/vecs_0.0028_15.0.txt\",split=False)\n"
   ]
  },
  {
   "cell_type": "code",
   "execution_count": 5,
   "metadata": {},
   "outputs": [],
   "source": [
    "from dataclasses import dataclass\n",
    "\n",
    "@dataclass\n",
    "class Dimension:\n",
    "    name: str\n",
    "    subreddits: list\n",
    "    tags: tuple\n",
    "        \n",
    "def calculate_dim(dimensions,e,return_stats=False):\n",
    "    \"\"\"\n",
    "        Takes in a list of tuples and calcualtes the dimension from ap -> a. IE if we have the subreddits AskMen (a) and\n",
    "        AskWomen (ap). The \"masculine\" vector transformation is a - ap.\n",
    "        Returns the average transformation and a tuple containing the mean and std deviation similarity between the individual \n",
    "        transformations.\n",
    "    \"\"\"\n",
    "    dimensions = dimensions if type(dimensions) is list else [dimensions]\n",
    "    calc_trans = lambda vec_a,vec_ap : vec_a - vec_ap \n",
    "    transformations = np.array([calc_trans(e.loc[a],e.loc[ap]) for (a,ap) in dimensions])\n",
    "    transformation = transformations.flatten() if transformations.shape[0] == 1 else np.mean(transformations,axis=0)\n",
    "    if return_stats:\n",
    "        sims = [cos_sim(t1,t2)  for t1 in list(transformations) for t2 in list(transformations) if not np.all(t1==t2)]\n",
    "        return transformation,(np.mean(sims),np.std(sims))\n",
    "    return transformation\n",
    "\n",
    "project_dim = lambda dim,sub,e : cos_sim(dim,e.loc[sub])"
   ]
  },
  {
   "cell_type": "markdown",
   "metadata": {},
   "source": [
    "## Validate Dimensions"
   ]
  },
  {
   "cell_type": "code",
   "execution_count": 6,
   "metadata": {},
   "outputs": [],
   "source": [
    "religious_subs = [(\"Christianity\",\"exchristian\"),\n",
    "                  (\"TraditionalCatholics\",\"excatholic\"),\n",
    "                  (\"lds\",\"exmormon\"),(\"mormon\",\"exmormon\"),(\"islam\",\"exmuslim\")]\n",
    "\n",
    "ideological_subs =[(\"Conservative\",\"progressive\"),\n",
    "                   (\"Republican\",\"democrats\"),\n",
    "                   (\"conservatives\",\"SocialDemocracy\"),\n",
    "                   (\"TheNewRight\",\"WeAreNotAsking\"),\n",
    "                   (\"neoliberal\",\"dsa\"),\n",
    "                   (\"Capitalism\",\"capitalism_in_decay\"),\n",
    "                   (\"walkaway\",\"LateStageImperialism\")]\n",
    "\n",
    "bc_subs = [(\"prolife\",\"prochoice\"),\n",
    "           (\"prolife\",\"birthcontrol\")]\n",
    "\n",
    "gc_subs= [(\"Firearms\",\"GunsAreCool\"),(\"progun\",\"GunsAreCool\")]\n",
    "age_subs = [(\"RedditForGrownups\",\"teenagers\"),\n",
    "            (\"RedditForGrownups\",\"teenagersnew\")]\n",
    "\n",
    "war_subs = [(\"CredibleDefense\",\"EndlessWar\"),\n",
    "            (\"WarCollege\",\"EndlessWar\"),\n",
    "            (\"Intelligence\",\"EndlessWar\")]\n",
    "\n",
    "glob_subs = [(\"neoliberal\",\"EnoughLibertarianSpam\"),\n",
    "             (\"Economics\",\"capitalism_in_decay\"),\n",
    "             (\"Libertarian\",\"EnoughLibertarianSpam\")\n",
    "            ]\n",
    "\n",
    "gender_subs = [(\"daddit\",\"Mommit\"),\n",
    "               (\"AskMen\",\"AskWomen\")]\n",
    "\n",
    "\n",
    "religious_dim = Dimension(\"Religiosity\",religious_subs,(\"Religious\",\"Secular\"))\n",
    "ideological_dim = Dimension(\"Ideology\",ideological_subs,(\"Conservative\",\"Progressive\"))\n",
    "bc_dim = Dimension(\"Birth Control\",bc_subs,(\"Pro-Life\",\"Pro-Choice\"))\n",
    "gc_dim = Dimension(\"Gun Control\",gc_subs,(\"Less Regulation\",\"More Regulation\"))\n",
    "age_dim = Dimension(\"Age\",age_subs,(\"Older\",\"Younger\"))\n",
    "war_dim = Dimension(\"War\",war_subs,(\"Hawkish\",\"Pacifistic\"))\n",
    "glob_dim = Dimension(\"Trade\",glob_subs,(\"Pro-Trade\",\"Anti-Trade\"))\n",
    "gender_dim = Dimension(\"Gender\",gender_subs,(\"Masculine\",\"Feminine\"))\n",
    "\n",
    "\n",
    "dim_dict = {\n",
    "    \"Ideology\": ideological_dim,\n",
    "    \"Religiosity\": religious_dim,\n",
    "    \"Birth Control\": bc_dim, \n",
    "    \"Gun Control\": gc_dim,\n",
    "    \"Age\": age_dim,\n",
    "    \"Trade\": glob_dim,\n",
    "    \"War\": war_dim,\n",
    "    \"Gender\": gender_dim\n",
    "}"
   ]
  },
  {
   "cell_type": "code",
   "execution_count": 36,
   "metadata": {
    "scrolled": true
   },
   "outputs": [
    {
     "data": {
      "text/html": [
       "<div>\n",
       "<style scoped>\n",
       "    .dataframe tbody tr th:only-of-type {\n",
       "        vertical-align: middle;\n",
       "    }\n",
       "\n",
       "    .dataframe tbody tr th {\n",
       "        vertical-align: top;\n",
       "    }\n",
       "\n",
       "    .dataframe thead th {\n",
       "        text-align: right;\n",
       "    }\n",
       "</style>\n",
       "<table border=\"1\" class=\"dataframe\">\n",
       "  <thead>\n",
       "    <tr style=\"text-align: right;\">\n",
       "      <th></th>\n",
       "      <th>subreddit</th>\n",
       "      <th>count</th>\n",
       "      <th>proportion</th>\n",
       "      <th>dim</th>\n",
       "      <th>label</th>\n",
       "      <th>Alignment</th>\n",
       "      <th>projection</th>\n",
       "      <th>aligned</th>\n",
       "      <th>size</th>\n",
       "      <th>symbol</th>\n",
       "    </tr>\n",
       "  </thead>\n",
       "  <tbody>\n",
       "    <tr>\n",
       "      <th>7</th>\n",
       "      <td>unknownvideos</td>\n",
       "      <td>4219</td>\n",
       "      <td>0.310243</td>\n",
       "      <td>War</td>\n",
       "      <td>NA</td>\n",
       "      <td>NA</td>\n",
       "      <td>-0.111036</td>\n",
       "      <td>NA</td>\n",
       "      <td>10</td>\n",
       "      <td>square</td>\n",
       "    </tr>\n",
       "    <tr>\n",
       "      <th>14</th>\n",
       "      <td>resumes</td>\n",
       "      <td>17206</td>\n",
       "      <td>0.254448</td>\n",
       "      <td>War</td>\n",
       "      <td>NA</td>\n",
       "      <td>NA</td>\n",
       "      <td>0.112801</td>\n",
       "      <td>NA</td>\n",
       "      <td>10</td>\n",
       "      <td>square</td>\n",
       "    </tr>\n",
       "    <tr>\n",
       "      <th>26</th>\n",
       "      <td>dwarffortress</td>\n",
       "      <td>21998</td>\n",
       "      <td>0.219831</td>\n",
       "      <td>War</td>\n",
       "      <td>NA</td>\n",
       "      <td>NA</td>\n",
       "      <td>0.094139</td>\n",
       "      <td>NA</td>\n",
       "      <td>10</td>\n",
       "      <td>square</td>\n",
       "    </tr>\n",
       "    <tr>\n",
       "      <th>25</th>\n",
       "      <td>PublishProtocol</td>\n",
       "      <td>3380</td>\n",
       "      <td>0.220325</td>\n",
       "      <td>War</td>\n",
       "      <td>NA</td>\n",
       "      <td>NA</td>\n",
       "      <td>-0.078089</td>\n",
       "      <td>NA</td>\n",
       "      <td>10</td>\n",
       "      <td>square</td>\n",
       "    </tr>\n",
       "    <tr>\n",
       "      <th>24</th>\n",
       "      <td>WarCollege</td>\n",
       "      <td>6204</td>\n",
       "      <td>0.229480</td>\n",
       "      <td>War</td>\n",
       "      <td>Hawkish</td>\n",
       "      <td>Aligned</td>\n",
       "      <td>0.411829</td>\n",
       "      <td>Aligned</td>\n",
       "      <td>10</td>\n",
       "      <td>square</td>\n",
       "    </tr>\n",
       "  </tbody>\n",
       "</table>\n",
       "</div>"
      ],
      "text/plain": [
       "          subreddit  count  proportion  dim    label Alignment  projection  \\\n",
       "7     unknownvideos   4219    0.310243  War       NA        NA   -0.111036   \n",
       "14          resumes  17206    0.254448  War       NA        NA    0.112801   \n",
       "26    dwarffortress  21998    0.219831  War       NA        NA    0.094139   \n",
       "25  PublishProtocol   3380    0.220325  War       NA        NA   -0.078089   \n",
       "24       WarCollege   6204    0.229480  War  Hawkish   Aligned    0.411829   \n",
       "\n",
       "    aligned  size  symbol  \n",
       "7        NA    10  square  \n",
       "14       NA    10  square  \n",
       "26       NA    10  square  \n",
       "25       NA    10  square  \n",
       "24  Aligned    10  square  "
      ]
     },
     "execution_count": 36,
     "metadata": {},
     "output_type": "execute_result"
    }
   ],
   "source": [
    "def get_projection(**kwargs):\n",
    "    sub = kwargs[\"subreddit\"]\n",
    "    dim = dim_dict[kwargs[\"dim\"]]\n",
    "    aligned = \"Aligned\" if kwargs[\"label\"] == dim.tags[0] else \"Opposed\" if kwargs[\"label\"] == dim.tags[1] else \"NA\"\n",
    "    dim_vec = calculate_dim(dim.subreddits,embedding)\n",
    "    return project_dim(dim_vec,sub,embedding),aligned\n",
    "counts_df[[\"projection\",\"aligned\"]] = counts_df.apply(lambda x : get_projection(**x),axis=1,result_type=\"expand\")\n",
    "counts_df = counts_df.fillna(\"NA\").sort_values(\"dim\",ascending=False)\n",
    "counts_df[\"size\"] = 10\n",
    "counts_df.head()"
   ]
  },
  {
   "cell_type": "code",
   "execution_count": 50,
   "metadata": {
    "scrolled": false
   },
   "outputs": [
    {
     "name": "stdout",
     "output_type": "stream",
     "text": [
      "Ideology\n",
      "Religiosity\n",
      "Birth Control\n",
      "Gun Control\n",
      "Age\n",
      "Trade\n",
      "War\n",
      "Gender\n"
     ]
    },
    {
     "data": {
      "application/vnd.plotly.v1+json": {
       "config": {
        "plotlyServerURL": "https://plot.ly"
       },
       "data": [
        {
         "customdata": [
          [
           "unknownvideos",
           4219,
           "NA"
          ],
          [
           "resumes",
           17206,
           "NA"
          ],
          [
           "dwarffortress",
           21998,
           "NA"
          ],
          [
           "PublishProtocol",
           3380,
           "NA"
          ],
          [
           "HistoryWhatIf",
           7014,
           "NA"
          ],
          [
           "IronThroneRP",
           11616,
           "NA"
          ],
          [
           "toyexchange",
           2693,
           "NA"
          ],
          [
           "Cash4Cash",
           6788,
           "NA"
          ],
          [
           "Newark",
           1503,
           "NA"
          ],
          [
           "HardwareSwapUK",
           11581,
           "NA"
          ],
          [
           "BeckleyOnReddit",
           1,
           "NA"
          ],
          [
           "Warts",
           2866,
           "NA"
          ],
          [
           "rwbyRP",
           6824,
           "NA"
          ],
          [
           "flairwars",
           5208,
           "NA"
          ],
          [
           "Bitwarden",
           2964,
           "NA"
          ],
          [
           "awoiafrp",
           8845,
           "NA"
          ],
          [
           "RandomActsOfBlowJob",
           90243,
           "NA"
          ],
          [
           "AsianLadyBonerGW",
           5095,
           "NA"
          ],
          [
           "funnyvideos",
           3700,
           "NA"
          ],
          [
           "ClashOfClansRecruit",
           23264,
           "NA"
          ],
          [
           "textfriends",
           3792,
           "NA"
          ],
          [
           "tud",
           1,
           "NA"
          ],
          [
           "GCTrading",
           9297,
           "NA"
          ],
          [
           "StrawHatRPG",
           8061,
           "NA"
          ],
          [
           "vmware",
           10203,
           "NA"
          ],
          [
           "de_IAmA",
           4439,
           "NA"
          ],
          [
           "amherst",
           1,
           "NA"
          ],
          [
           "DebateAnarchism",
           96,
           "NA"
          ],
          [
           "lostgeneration",
           1345,
           "NA"
          ],
          [
           "DebateCommunism",
           415,
           "NA"
          ],
          [
           "Argenpol",
           114,
           "NA"
          ],
          [
           "PoliticalCompass",
           219,
           "NA"
          ],
          [
           "ndp",
           85,
           "NA"
          ],
          [
           "brasilnoticias",
           240,
           "NA"
          ],
          [
           "canadaleft",
           80,
           "NA"
          ],
          [
           "BasicIncome",
           281,
           "NA"
          ],
          [
           "LeftWingMaleAdvocates",
           78,
           "NA"
          ],
          [
           "AquaSama",
           16607,
           "NA"
          ],
          [
           "DebateAChristian",
           7223,
           "NA"
          ],
          [
           "AskAChristian",
           7103,
           "NA"
          ],
          [
           "jesuschristreddit",
           3159,
           "NA"
          ],
          [
           "swoleacceptance",
           1443,
           "NA"
          ],
          [
           "faireumofficial",
           1238,
           "NA"
          ],
          [
           "MoviePosterPorn",
           1964,
           "NA"
          ],
          [
           "KCL",
           4,
           "NA"
          ],
          [
           "AskConservatives",
           5228,
           "NA"
          ],
          [
           "ICOAnalysis",
           2190,
           "NA"
          ],
          [
           "askaconservative",
           9511,
           "NA"
          ],
          [
           "AskALiberal",
           23031,
           "NA"
          ],
          [
           "Crypto_General",
           1102,
           "NA"
          ],
          [
           "blockmason",
           2148,
           "NA"
          ],
          [
           "CineShots",
           2373,
           "NA"
          ],
          [
           "PublishProtocol",
           4028,
           "NA"
          ],
          [
           "DebateCommunism",
           9930,
           "NA"
          ],
          [
           "Fairfield",
           2,
           "NA"
          ],
          [
           "DebateAnarchism",
           2525,
           "NA"
          ],
          [
           "InsiderMemeTrading",
           5549,
           "NA"
          ],
          [
           "CapitalismVSocialism",
           72803,
           "NA"
          ],
          [
           "politicsdebate",
           102,
           "NA"
          ],
          [
           "TexasPolitics",
           290,
           "NA"
          ],
          [
           "blacksburg",
           1,
           "NA"
          ],
          [
           "PoliticalOpinions",
           95,
           "NA"
          ],
          [
           "California_Politics",
           126,
           "NA"
          ],
          [
           "PoliticalDiscussion",
           1851,
           "NA"
          ],
          [
           "stolaf",
           1,
           "NA"
          ],
          [
           "Virginia",
           696,
           "NA"
          ],
          [
           "scotus",
           180,
           "NA"
          ],
          [
           "ColoradoPolitics",
           131,
           "NA"
          ],
          [
           "VirginiaPolitics",
           309,
           "NA"
          ],
          [
           "gunpolitics",
           6710,
           "NA"
          ],
          [
           "vzla",
           29924,
           "NA"
          ],
          [
           "es",
           2648,
           "NA"
          ],
          [
           "GriefSupport",
           8652,
           "NA"
          ],
          [
           "MusicInTheMaking",
           3954,
           "NA"
          ],
          [
           "raisedbyborderlines",
           22272,
           "NA"
          ],
          [
           "AquaSama",
           6513,
           "NA"
          ],
          [
           "podemos",
           22016,
           "NA"
          ],
          [
           "AsianParentStories",
           9303,
           "NA"
          ],
          [
           "dementia",
           2236,
           "NA"
          ],
          [
           "narcissisticparents",
           4210,
           "NA"
          ],
          [
           "SingleParents",
           4335,
           "NA"
          ],
          [
           "SportingCP",
           2488,
           "NA"
          ],
          [
           "raisedbynarcissists",
           132256,
           "NA"
          ],
          [
           "rwbyRP",
           4085,
           "NA"
          ],
          [
           "brasilivre",
           94184,
           "NA"
          ],
          [
           "portugal",
           88447,
           "NA"
          ],
          [
           "BrasildoB",
           6780,
           "NA"
          ],
          [
           "BrasilSimulator",
           12000,
           "NA"
          ],
          [
           "IST",
           217,
           "NA"
          ],
          [
           "stepparents",
           22158,
           "NA"
          ],
          [
           "RepublicaArgentina",
           9186,
           "NA"
          ],
          [
           "investimentos",
           5989,
           "NA"
          ],
          [
           "AskFeminists",
           11331,
           "NA"
          ],
          [
           "amipregnant",
           955,
           "NA"
          ],
          [
           "Kent",
           7,
           "NA"
          ],
          [
           "LeftWingMaleAdvocates",
           1502,
           "NA"
          ],
          [
           "Abortiondebate",
           42203,
           "NA"
          ],
          [
           "GenderCriticalGuys",
           580,
           "NA"
          ],
          [
           "Alabama",
           1047,
           "NA"
          ],
          [
           "mormonpolitics",
           420,
           "NA"
          ],
          [
           "childfree",
           26507,
           "NA"
          ],
          [
           "politicsdebate",
           356,
           "NA"
          ],
          [
           "PoliticalOpinions",
           420,
           "NA"
          ],
          [
           "OneY",
           283,
           "NA"
          ],
          [
           "SDSMT",
           3,
           "NA"
          ],
          [
           "JUSTNOFAMILY",
           25056,
           "NA"
          ],
          [
           "polyamoryR4R",
           1488,
           "NA"
          ],
          [
           "jamescook",
           1,
           "NA"
          ],
          [
           "FIREUK",
           2283,
           "NA"
          ],
          [
           "funkoswap",
           13567,
           "NA"
          ],
          [
           "colum",
           5,
           "NA"
          ],
          [
           "claremontcolleges",
           8,
           "NA"
          ],
          [
           "asshole",
           16823,
           "NA"
          ],
          [
           "HolyCross",
           1,
           "NA"
          ],
          [
           "Hairy",
           3266,
           "NA"
          ],
          [
           "Fairfield",
           4,
           "NA"
          ],
          [
           "tud",
           1,
           "NA"
          ],
          [
           "iwanttobeher",
           14329,
           "NA"
          ],
          [
           "industrialized",
           12828,
           "NA"
          ]
         ],
         "hovertemplate": "Alignment=NA<br>Projection=%{x}<br>=%{y}<br>size=%{marker.size}<br>subreddit=%{customdata[0]}<br>count=%{customdata[1]}<br>label=%{customdata[2]}<extra></extra>",
         "legendgroup": "NA",
         "marker": {
          "color": "#636efa",
          "size": [
           10,
           10,
           10,
           10,
           10,
           10,
           10,
           10,
           10,
           10,
           10,
           10,
           10,
           10,
           10,
           10,
           10,
           10,
           10,
           10,
           10,
           10,
           10,
           10,
           10,
           10,
           10,
           10,
           10,
           10,
           10,
           10,
           10,
           10,
           10,
           10,
           10,
           10,
           10,
           10,
           10,
           10,
           10,
           10,
           10,
           10,
           10,
           10,
           10,
           10,
           10,
           10,
           10,
           10,
           10,
           10,
           10,
           10,
           10,
           10,
           10,
           10,
           10,
           10,
           10,
           10,
           10,
           10,
           10,
           10,
           10,
           10,
           10,
           10,
           10,
           10,
           10,
           10,
           10,
           10,
           10,
           10,
           10,
           10,
           10,
           10,
           10,
           10,
           10,
           10,
           10,
           10,
           10,
           10,
           10,
           10,
           10,
           10,
           10,
           10,
           10,
           10,
           10,
           10,
           10,
           10,
           10,
           10,
           10,
           10,
           10,
           10,
           10,
           10,
           10,
           10,
           10,
           10,
           10
          ],
          "sizemode": "area",
          "sizeref": 0.025,
          "symbol": "circle"
         },
         "mode": "markers",
         "name": "NA",
         "orientation": "h",
         "showlegend": true,
         "type": "scatter",
         "x": [
          -0.11103623513494494,
          0.11280105750077415,
          0.09413948543881494,
          -0.0780890227240187,
          0.08203798842103337,
          0.05906331488479458,
          -0.027591511866632522,
          -0.14403575587283104,
          -0.06984930684728356,
          0.005621506686841009,
          -0.07769036779819616,
          -0.08787072576644753,
          0.12094259863916693,
          -0.0457230528473627,
          0.10373298105796565,
          0.05583567608833286,
          0.016126006189213397,
          0.05219454028959295,
          -0.15002803960923014,
          -0.06487187881436228,
          0.020980715084396608,
          0.09767611199686287,
          -0.09959574127890726,
          0.006335387425597752,
          0.07698022921884394,
          0.1282841950730742,
          -0.06020684930805098,
          -0.3608910863796983,
          -0.15847170024785748,
          -0.31757575502387175,
          -0.0596923674982803,
          -0.2598152273466819,
          -0.19281333208864138,
          -0.16981240930487934,
          -0.2901229202074779,
          -0.06742586623182117,
          -0.14590947599206588,
          0.1161907906762151,
          0.13275204006746308,
          0.14577678087231924,
          -0.07360370547474006,
          0.0012955515047459653,
          0.053167524020762,
          -0.04365765941974546,
          -0.07454250892617027,
          0.17706916511576182,
          0.041783106016869985,
          0.3281131110423647,
          0.06273306512964172,
          0.07541995966375038,
          0.023130513382229573,
          -0.07241403764852263,
          0.01818720207900563,
          -0.15443020935065488,
          -0.05139714332358418,
          -0.2116507600769791,
          0.06868672745772214,
          -0.0007823907049239249,
          -0.08941145487490984,
          -0.11052853611070006,
          -0.0860571721893297,
          -0.2507177559650879,
          -0.13624554723228618,
          -0.21214807047873394,
          -0.063914664483389,
          -0.05910833258211386,
          -0.15277613381520525,
          -0.07412948075300843,
          -0.11638662757230189,
          0.17091924370260078,
          -0.171358168180082,
          -0.13504232438193722,
          -0.14918464755541105,
          -0.059709942122111365,
          -0.23668299021006073,
          -0.07542373328666392,
          -0.19634423836018045,
          -0.09999591663939741,
          -0.22224065632513926,
          -0.17278353673280578,
          -0.22918796386602486,
          -0.0539911572337448,
          -0.2106957009897527,
          -0.01714058386307272,
          -0.17384084605215896,
          -0.15549153230356497,
          -0.17832699787006617,
          -0.08485542230873196,
          -0.09955926334466725,
          -0.35583618677761036,
          -0.09508129312775873,
          -0.13887843793606885,
          -0.10801369804712996,
          -0.2024738309270597,
          -0.0018768088304958808,
          0.15686282834727935,
          0.2187667947718603,
          0.06373229948224123,
          0.11657863449208289,
          0.28590217241766097,
          -0.2028493460001171,
          0.1957284731393106,
          0.12704669561639872,
          0.16947884238760974,
          0.02086716875642961,
          0.09974610275293741,
          0.10067594865987695,
          0.1132450210558834,
          0.13876909466033002,
          -0.12595366606727865,
          0.15660156510409368,
          0.018431822697454064,
          -0.11256836259350052,
          0.06327060967337321,
          0.0051027423678419144,
          0.05321315253833437,
          -0.026909708053528963,
          0.0069299749646894735,
          -0.07317489714160524
         ],
         "xaxis": "x",
         "y": [
          "War",
          "War",
          "War",
          "War",
          "War",
          "War",
          "War",
          "War",
          "War",
          "War",
          "War",
          "War",
          "War",
          "War",
          "War",
          "War",
          "War",
          "War",
          "War",
          "War",
          "War",
          "War",
          "War",
          "War",
          "War",
          "War",
          "Trade",
          "Trade",
          "Trade",
          "Trade",
          "Trade",
          "Trade",
          "Trade",
          "Trade",
          "Trade",
          "Trade",
          "Trade",
          "Religiosity",
          "Religiosity",
          "Religiosity",
          "Religiosity",
          "Religiosity",
          "Ideology",
          "Ideology",
          "Ideology",
          "Ideology",
          "Ideology",
          "Ideology",
          "Ideology",
          "Ideology",
          "Ideology",
          "Ideology",
          "Ideology",
          "Ideology",
          "Ideology",
          "Ideology",
          "Ideology",
          "Ideology",
          "Gun Control",
          "Gun Control",
          "Gun Control",
          "Gun Control",
          "Gun Control",
          "Gun Control",
          "Gun Control",
          "Gun Control",
          "Gun Control",
          "Gun Control",
          "Gun Control",
          "Gun Control",
          "Gender",
          "Gender",
          "Gender",
          "Gender",
          "Gender",
          "Gender",
          "Gender",
          "Gender",
          "Gender",
          "Gender",
          "Gender",
          "Gender",
          "Gender",
          "Gender",
          "Gender",
          "Gender",
          "Gender",
          "Gender",
          "Gender",
          "Gender",
          "Gender",
          "Gender",
          "Birth Control",
          "Birth Control",
          "Birth Control",
          "Birth Control",
          "Birth Control",
          "Birth Control",
          "Birth Control",
          "Birth Control",
          "Birth Control",
          "Birth Control",
          "Birth Control",
          "Birth Control",
          "Age",
          "Age",
          "Age",
          "Age",
          "Age",
          "Age",
          "Age",
          "Age",
          "Age",
          "Age",
          "Age",
          "Age",
          "Age",
          "Age",
          "Age"
         ],
         "yaxis": "y"
        },
        {
         "customdata": [
          [
           "WarCollege",
           6204,
           "Hawkish"
          ],
          [
           "CredibleDefense",
           45607,
           "Hawkish"
          ],
          [
           "seculartalk",
           139,
           "Pro-Trade"
          ],
          [
           "neoliberal",
           81320,
           "Pro-Trade"
          ],
          [
           "AskEconomics",
           431,
           "Pro-Trade"
          ],
          [
           "Classical_Liberals",
           128,
           "Pro-Trade"
          ],
          [
           "badeconomics",
           483,
           "Pro-Trade"
          ],
          [
           "neoconNWO",
           844,
           "Pro-Trade"
          ],
          [
           "PrayerRequests",
           4812,
           "Religious"
          ],
          [
           "Christianmarriage",
           4473,
           "Religious"
          ],
          [
           "TrueChristian",
           37686,
           "Religious"
          ],
          [
           "Anglicanism",
           6392,
           "Religious"
          ],
          [
           "mormon",
           26108,
           "Religious"
          ],
          [
           "RPChristians",
           2151,
           "Religious"
          ],
          [
           "Christians",
           3353,
           "Religious"
          ],
          [
           "GayChristians",
           1941,
           "Religious"
          ],
          [
           "OpenChristian",
           4194,
           "Religious"
          ],
          [
           "Christian",
           11560,
           "Religious"
          ],
          [
           "NoFapChristians",
           5732,
           "Religious"
          ],
          [
           "OrthodoxChristianity",
           15751,
           "Religious"
          ],
          [
           "Bible",
           5779,
           "Religious"
          ],
          [
           "latterdaysaints",
           25440,
           "Religious"
          ],
          [
           "RadicalChristianity",
           1522,
           "Religious"
          ],
          [
           "Catholicism",
           71628,
           "Religious"
          ],
          [
           "Reformed",
           20412,
           "Religious"
          ],
          [
           "Christianity",
           178140,
           "Religious"
          ],
          [
           "lds",
           1917,
           "Religious"
          ],
          [
           "tuesday",
           3540,
           "Conservative"
          ],
          [
           "Classical_Liberals",
           1143,
           "Conservative"
          ],
          [
           "The_Donald",
           48288,
           "Conservative"
          ],
          [
           "Capitalism",
           3083,
           "Conservative"
          ],
          [
           "benshapiro",
           1371,
           "Conservative"
          ],
          [
           "NYguns",
           106,
           "Less Regulation"
          ],
          [
           "CAguns",
           1000,
           "Less Regulation"
          ],
          [
           "Iamactuallyverybadass",
           285,
           "Less Regulation"
          ],
          [
           "canadaguns",
           1306,
           "Less Regulation"
          ],
          [
           "NJGuns",
           117,
           "Less Regulation"
          ],
          [
           "SocialistRA",
           752,
           "Less Regulation"
          ],
          [
           "Classical_Liberals",
           72,
           "Less Regulation"
          ],
          [
           "Firearms",
           7619,
           "Less Regulation"
          ],
          [
           "WA_guns",
           655,
           "Less Regulation"
          ],
          [
           "dgu",
           76,
           "Less Regulation"
          ],
          [
           "progun",
           11044,
           "Less Regulation"
          ],
          [
           "NOWTTYG",
           670,
           "Less Regulation"
          ],
          [
           "shitguncontrollerssay",
           1129,
           "Less Regulation"
          ],
          [
           "2ALiberals",
           1871,
           "Less Regulation"
          ],
          [
           "liberalgunowners",
           7630,
           "Less Regulation"
          ],
          [
           "libertarianmeme",
           512,
           "Less Regulation"
          ],
          [
           "VAGuns",
           890,
           "Less Regulation"
          ],
          [
           "OneY",
           9105,
           "Masculine"
          ],
          [
           "GrandTheftAutoV",
           1,
           "Masculine"
          ],
          [
           "daddit",
           24584,
           "Masculine"
          ],
          [
           "antifeminists",
           1027,
           "Pro-Life"
          ],
          [
           "prolife",
           23318,
           "Pro-Life"
          ],
          [
           "MensRights",
           19682,
           "Pro-Life"
          ],
          [
           "benshapiro",
           945,
           "Pro-Life"
          ],
          [
           "Mortgages",
           4210,
           "Older"
          ],
          [
           "fosterit",
           1684,
           "Older"
          ],
          [
           "Fosterparents",
           1399,
           "Older"
          ],
          [
           "oneanddone",
           1716,
           "Older"
          ],
          [
           "careeradvice",
           1983,
           "Older"
          ],
          [
           "Genealogy",
           17441,
           "Older"
          ],
          [
           "NarcAbuseAndDivorce",
           1837,
           "Older"
          ],
          [
           "careerguidance",
           28406,
           "Older"
          ],
          [
           "Adoption",
           6771,
           "Older"
          ]
         ],
         "hovertemplate": "Alignment=Aligned<br>Projection=%{x}<br>=%{y}<br>size=%{marker.size}<br>subreddit=%{customdata[0]}<br>count=%{customdata[1]}<br>label=%{customdata[2]}<extra></extra>",
         "legendgroup": "Aligned",
         "marker": {
          "color": "#EF553B",
          "size": [
           10,
           10,
           10,
           10,
           10,
           10,
           10,
           10,
           10,
           10,
           10,
           10,
           10,
           10,
           10,
           10,
           10,
           10,
           10,
           10,
           10,
           10,
           10,
           10,
           10,
           10,
           10,
           10,
           10,
           10,
           10,
           10,
           10,
           10,
           10,
           10,
           10,
           10,
           10,
           10,
           10,
           10,
           10,
           10,
           10,
           10,
           10,
           10,
           10,
           10,
           10,
           10,
           10,
           10,
           10,
           10,
           10,
           10,
           10,
           10,
           10,
           10,
           10,
           10,
           10
          ],
          "sizemode": "area",
          "sizeref": 0.025,
          "symbol": "circle"
         },
         "mode": "markers",
         "name": "Aligned",
         "orientation": "h",
         "showlegend": true,
         "type": "scatter",
         "x": [
          0.41182942165349706,
          0.34764479051595937,
          -0.1786188678654813,
          0.17344437042170258,
          0.12923699419440252,
          0.05728938991686627,
          0.06697391240818097,
          0.10159711577820714,
          0.24321513448700163,
          0.22953813530152975,
          0.17093938011470952,
          0.19857637962683128,
          -0.017697428862155157,
          0.11917679418212858,
          0.30437114440075713,
          0.121822130870746,
          0.005832743602026582,
          0.20367308107189655,
          0.31235645554157054,
          0.27757717855575786,
          0.2719944411290509,
          0.14473520772468615,
          0.02031350802455454,
          0.284883258996972,
          0.2622610757851977,
          0.33145228673733174,
          0.30341758009625663,
          0.18500029214709282,
          0.3277532601253236,
          0.3860751325153711,
          0.2696571612129379,
          0.3054860820424322,
          0.06835798101617112,
          0.13209717641244234,
          0.024517926657136088,
          0.16058592728567142,
          0.06523546026502981,
          -0.13893245831558146,
          0.1280235309057505,
          0.26259561759298833,
          0.15483143885269804,
          0.15330240145672525,
          0.42511464456362275,
          0.10861161052152234,
          0.1269890058992931,
          0.03243329440789397,
          0.024242731641686843,
          0.25616211657055166,
          0.1325647533875033,
          -0.044580663481806594,
          0.03892414380983357,
          0.3782561990420482,
          0.22241549340942432,
          0.573230923179587,
          0.3443218705870947,
          0.38101944585621617,
          0.25847349793768193,
          0.24460864090086895,
          0.1979044003918679,
          0.3043566335529976,
          0.27980908060859444,
          0.28362645469814535,
          0.2884147302172998,
          0.2832727560965278,
          0.1577745059748364
         ],
         "xaxis": "x",
         "y": [
          "War",
          "War",
          "Trade",
          "Trade",
          "Trade",
          "Trade",
          "Trade",
          "Trade",
          "Religiosity",
          "Religiosity",
          "Religiosity",
          "Religiosity",
          "Religiosity",
          "Religiosity",
          "Religiosity",
          "Religiosity",
          "Religiosity",
          "Religiosity",
          "Religiosity",
          "Religiosity",
          "Religiosity",
          "Religiosity",
          "Religiosity",
          "Religiosity",
          "Religiosity",
          "Religiosity",
          "Religiosity",
          "Ideology",
          "Ideology",
          "Ideology",
          "Ideology",
          "Ideology",
          "Gun Control",
          "Gun Control",
          "Gun Control",
          "Gun Control",
          "Gun Control",
          "Gun Control",
          "Gun Control",
          "Gun Control",
          "Gun Control",
          "Gun Control",
          "Gun Control",
          "Gun Control",
          "Gun Control",
          "Gun Control",
          "Gun Control",
          "Gun Control",
          "Gun Control",
          "Gender",
          "Gender",
          "Gender",
          "Birth Control",
          "Birth Control",
          "Birth Control",
          "Birth Control",
          "Age",
          "Age",
          "Age",
          "Age",
          "Age",
          "Age",
          "Age",
          "Age",
          "Age"
         ],
         "yaxis": "y"
        },
        {
         "customdata": [
          [
           "LeftWithoutEdge",
           518,
           "Pacifistic"
          ],
          [
           "EndlessWar",
           14904,
           "Pacifistic"
          ],
          [
           "dsa",
           64,
           "Anti-Trade"
          ],
          [
           "SocialDemocracy",
           208,
           "Anti-Trade"
          ],
          [
           "The_Donald",
           62458,
           "Anti-Trade"
          ],
          [
           "CriticalTheory",
           235,
           "Anti-Trade"
          ],
          [
           "Kossacks_for_Sanders",
           168,
           "Anti-Trade"
          ],
          [
           "chomsky",
           335,
           "Anti-Trade"
          ],
          [
           "Labour",
           275,
           "Anti-Trade"
          ],
          [
           "Socialism_101",
           394,
           "Anti-Trade"
          ],
          [
           "LeftWithoutEdge",
           205,
           "Anti-Trade"
          ],
          [
           "stupidpol",
           4309,
           "Anti-Trade"
          ],
          [
           "WayOfTheBern",
           3828,
           "Anti-Trade"
          ],
          [
           "WeAreNotAsking",
           116,
           "Anti-Trade"
          ],
          [
           "BreadTube",
           1591,
           "Anti-Trade"
          ],
          [
           "exIglesiaNiCristo",
           4573,
           "Secular"
          ],
          [
           "excatholic",
           3498,
           "Secular"
          ],
          [
           "exchristian",
           28380,
           "Secular"
          ],
          [
           "exmormon",
           170129,
           "Secular"
          ],
          [
           "exlldm",
           2984,
           "Secular"
          ],
          [
           "agnostic",
           2147,
           "Secular"
          ],
          [
           "LateStageCapitalism",
           62136,
           "Progressive"
          ],
          [
           "communism101",
           8758,
           "Progressive"
          ],
          [
           "Anarchy101",
           6952,
           "Progressive"
          ],
          [
           "BasicIncome",
           4365,
           "Progressive"
          ],
          [
           "socialism",
           17790,
           "Progressive"
          ],
          [
           "Socialism_101",
           12306,
           "Progressive"
          ],
          [
           "capitalism_in_decay",
           2634,
           "Progressive"
          ],
          [
           "canadaleft",
           2692,
           "Progressive"
          ],
          [
           "SocialDemocracy",
           1185,
           "Progressive"
          ],
          [
           "GunsAreCool",
           782,
           "More Regulation"
          ],
          [
           "MakeupAddiction",
           38406,
           "Feminine"
          ],
          [
           "TwoXChromosomes",
           18794,
           "Feminine"
          ],
          [
           "Mommit",
           3638,
           "Feminine"
          ],
          [
           "breakingmom",
           43912,
           "Feminine"
          ],
          [
           "WomensHealth",
           1703,
           "Pro-Choice"
          ],
          [
           "FeMRADebates",
           2306,
           "Pro-Choice"
          ],
          [
           "Egalitarianism",
           1004,
           "Pro-Choice"
          ],
          [
           "abortion",
           12684,
           "Pro-Choice"
          ],
          [
           "birthcontrol",
           13610,
           "Pro-Choice"
          ],
          [
           "prochoice",
           12759,
           "Pro-Choice"
          ],
          [
           "PCOS",
           3847,
           "Pro-Choice"
          ],
          [
           "GenderCritical",
           31523,
           "Pro-Choice"
          ],
          [
           "Periods",
           799,
           "Pro-Choice"
          ],
          [
           "TwoXChromosomes",
           32247,
           "Pro-Choice"
          ],
          [
           "Endo",
           1220,
           "Pro-Choice"
          ],
          [
           "Feminism",
           3429,
           "Pro-Choice"
          ],
          [
           "endometriosis",
           850,
           "Pro-Choice"
          ],
          [
           "PMDD",
           981,
           "Pro-Choice"
          ],
          [
           "2meirl4meirl",
           6730,
           "Younger"
          ],
          [
           "dankmemes",
           2601,
           "Younger"
          ],
          [
           "AsianParentStories",
           5721,
           "Younger"
          ],
          [
           "family",
           7977,
           "Younger"
          ],
          [
           "teenagers",
           15271,
           "Younger"
          ],
          [
           "LifeAfterSchool",
           2381,
           "Younger"
          ]
         ],
         "hovertemplate": "Alignment=Opposing<br>Projection=%{x}<br>=%{y}<br>size=%{marker.size}<br>subreddit=%{customdata[0]}<br>count=%{customdata[1]}<br>label=%{customdata[2]}<extra></extra>",
         "legendgroup": "Opposing",
         "marker": {
          "color": "#00cc96",
          "size": [
           10,
           10,
           10,
           10,
           10,
           10,
           10,
           10,
           10,
           10,
           10,
           10,
           10,
           10,
           10,
           10,
           10,
           10,
           10,
           10,
           10,
           10,
           10,
           10,
           10,
           10,
           10,
           10,
           10,
           10,
           10,
           10,
           10,
           10,
           10,
           10,
           10,
           10,
           10,
           10,
           10,
           10,
           10,
           10,
           10,
           10,
           10,
           10,
           10,
           10,
           10,
           10,
           10,
           10,
           10
          ],
          "sizemode": "area",
          "sizeref": 0.025,
          "symbol": "circle"
         },
         "mode": "markers",
         "name": "Opposing",
         "orientation": "h",
         "showlegend": true,
         "type": "scatter",
         "x": [
          -0.2710183520487015,
          -0.5103557530872048,
          -0.18502726707163525,
          -0.15921461894684064,
          0.12104794884389276,
          -0.22848704075967402,
          -0.11432991265936246,
          -0.27733974108949605,
          -0.30344392144831783,
          -0.40220359440438785,
          -0.341291653604567,
          -0.12103495875968963,
          -0.0709429818559345,
          -0.14700423860328726,
          -0.3733732398874508,
          -0.023422853705075772,
          -0.26205740748764433,
          -0.3450574024601721,
          -0.5170316947069865,
          0.08240079902279492,
          -0.05024795699797448,
          -0.3060482337645443,
          -0.3353171856684026,
          -0.3298392291402624,
          -0.24114264605105315,
          -0.37406066586913506,
          -0.3425119109375313,
          -0.39240052290112826,
          -0.2609184173082289,
          -0.3458568571232288,
          -0.48492995953014906,
          -0.3049187548452069,
          -0.052934323706010686,
          -0.4626009450800666,
          -0.39944246232230446,
          -0.3120641720738546,
          0.11054485268195621,
          0.17421868393430792,
          -0.292395964714298,
          -0.4973812162570136,
          0.03051490760241278,
          -0.22169234601961127,
          0.04649283643593272,
          -0.19531143222302666,
          -0.11514242522205646,
          -0.24508913001177957,
          -0.04418764399803297,
          -0.23386630449198492,
          -0.3103422091135512,
          -0.26898663281244756,
          -0.571760882785317,
          0.09452683751093863,
          0.15115884705070148,
          -0.6654832741596896,
          -0.0036621635541655693
         ],
         "xaxis": "x",
         "y": [
          "War",
          "War",
          "Trade",
          "Trade",
          "Trade",
          "Trade",
          "Trade",
          "Trade",
          "Trade",
          "Trade",
          "Trade",
          "Trade",
          "Trade",
          "Trade",
          "Trade",
          "Religiosity",
          "Religiosity",
          "Religiosity",
          "Religiosity",
          "Religiosity",
          "Religiosity",
          "Ideology",
          "Ideology",
          "Ideology",
          "Ideology",
          "Ideology",
          "Ideology",
          "Ideology",
          "Ideology",
          "Ideology",
          "Gun Control",
          "Gender",
          "Gender",
          "Gender",
          "Gender",
          "Birth Control",
          "Birth Control",
          "Birth Control",
          "Birth Control",
          "Birth Control",
          "Birth Control",
          "Birth Control",
          "Birth Control",
          "Birth Control",
          "Birth Control",
          "Birth Control",
          "Birth Control",
          "Birth Control",
          "Birth Control",
          "Age",
          "Age",
          "Age",
          "Age",
          "Age",
          "Age"
         ],
         "yaxis": "y"
        }
       ],
       "layout": {
        "annotations": [
         {
          "ax": -40,
          "ay": -30,
          "font": {
           "size": 16
          },
          "showarrow": false,
          "text": "<b>Conservative</b>",
          "x": 0.7985799289916274,
          "xref": "x",
          "y": "Ideology",
          "yref": "y"
         },
         {
          "ax": -40,
          "ay": -50,
          "font": {
           "size": 16
          },
          "showarrow": false,
          "text": "<b>Progressive</b>",
          "x": -0.7985799289916274,
          "xref": "x",
          "y": "Ideology",
          "yref": "y"
         },
         {
          "ax": -40,
          "ay": -30,
          "font": {
           "size": 16
          },
          "showarrow": false,
          "text": "<b>Religious</b>",
          "x": 0.7985799289916274,
          "xref": "x",
          "y": "Religiosity",
          "yref": "y"
         },
         {
          "ax": -40,
          "ay": -50,
          "font": {
           "size": 16
          },
          "showarrow": false,
          "text": "<b>Secular</b>",
          "x": -0.7985799289916274,
          "xref": "x",
          "y": "Religiosity",
          "yref": "y"
         },
         {
          "ax": -40,
          "ay": -30,
          "font": {
           "size": 16
          },
          "showarrow": false,
          "text": "<b>Pro-Life</b>",
          "x": 0.7985799289916274,
          "xref": "x",
          "y": "Birth Control",
          "yref": "y"
         },
         {
          "ax": -40,
          "ay": -50,
          "font": {
           "size": 16
          },
          "showarrow": false,
          "text": "<b>Pro-Choice</b>",
          "x": -0.7985799289916274,
          "xref": "x",
          "y": "Birth Control",
          "yref": "y"
         },
         {
          "ax": -40,
          "ay": -30,
          "font": {
           "size": 16
          },
          "showarrow": false,
          "text": "<b>Less Regulation</b>",
          "x": 0.7985799289916274,
          "xref": "x",
          "y": "Gun Control",
          "yref": "y"
         },
         {
          "ax": -40,
          "ay": -50,
          "font": {
           "size": 16
          },
          "showarrow": false,
          "text": "<b>More Regulation</b>",
          "x": -0.7985799289916274,
          "xref": "x",
          "y": "Gun Control",
          "yref": "y"
         },
         {
          "ax": -40,
          "ay": -30,
          "font": {
           "size": 16
          },
          "showarrow": false,
          "text": "<b>Older</b>",
          "x": 0.7985799289916274,
          "xref": "x",
          "y": "Age",
          "yref": "y"
         },
         {
          "ax": -40,
          "ay": -50,
          "font": {
           "size": 16
          },
          "showarrow": false,
          "text": "<b>Younger</b>",
          "x": -0.7985799289916274,
          "xref": "x",
          "y": "Age",
          "yref": "y"
         },
         {
          "ax": -40,
          "ay": -30,
          "font": {
           "size": 16
          },
          "showarrow": false,
          "text": "<b>Pro-Trade</b>",
          "x": 0.7985799289916274,
          "xref": "x",
          "y": "Trade",
          "yref": "y"
         },
         {
          "ax": -40,
          "ay": -50,
          "font": {
           "size": 16
          },
          "showarrow": false,
          "text": "<b>Anti-Trade</b>",
          "x": -0.7985799289916274,
          "xref": "x",
          "y": "Trade",
          "yref": "y"
         },
         {
          "ax": -40,
          "ay": -30,
          "font": {
           "size": 16
          },
          "showarrow": false,
          "text": "<b>Hawkish</b>",
          "x": 0.7985799289916274,
          "xref": "x",
          "y": "War",
          "yref": "y"
         },
         {
          "ax": -40,
          "ay": -50,
          "font": {
           "size": 16
          },
          "showarrow": false,
          "text": "<b>Pacifistic</b>",
          "x": -0.7985799289916274,
          "xref": "x",
          "y": "War",
          "yref": "y"
         },
         {
          "ax": -40,
          "ay": -30,
          "font": {
           "size": 16
          },
          "showarrow": false,
          "text": "<b>Masculine</b>",
          "x": 0.7985799289916274,
          "xref": "x",
          "y": "Gender",
          "yref": "y"
         },
         {
          "ax": -40,
          "ay": -50,
          "font": {
           "size": 16
          },
          "showarrow": false,
          "text": "<b>Feminine</b>",
          "x": -0.7985799289916274,
          "xref": "x",
          "y": "Gender",
          "yref": "y"
         }
        ],
        "font": {
         "size": 23
        },
        "height": 700,
        "legend": {
         "itemsizing": "constant",
         "orientation": "h",
         "title": {
          "text": "Alignment"
         },
         "tracegroupgap": 0,
         "x": 1,
         "xanchor": "right",
         "y": 1.07,
         "yanchor": "bottom"
        },
        "margin": {
         "t": 60
        },
        "template": {
         "data": {
          "bar": [
           {
            "error_x": {
             "color": "rgb(36,36,36)"
            },
            "error_y": {
             "color": "rgb(36,36,36)"
            },
            "marker": {
             "line": {
              "color": "white",
              "width": 0.5
             }
            },
            "type": "bar"
           }
          ],
          "barpolar": [
           {
            "marker": {
             "line": {
              "color": "white",
              "width": 0.5
             }
            },
            "type": "barpolar"
           }
          ],
          "carpet": [
           {
            "aaxis": {
             "endlinecolor": "rgb(36,36,36)",
             "gridcolor": "white",
             "linecolor": "white",
             "minorgridcolor": "white",
             "startlinecolor": "rgb(36,36,36)"
            },
            "baxis": {
             "endlinecolor": "rgb(36,36,36)",
             "gridcolor": "white",
             "linecolor": "white",
             "minorgridcolor": "white",
             "startlinecolor": "rgb(36,36,36)"
            },
            "type": "carpet"
           }
          ],
          "choropleth": [
           {
            "colorbar": {
             "outlinewidth": 1,
             "tickcolor": "rgb(36,36,36)",
             "ticks": "outside"
            },
            "type": "choropleth"
           }
          ],
          "contour": [
           {
            "colorbar": {
             "outlinewidth": 1,
             "tickcolor": "rgb(36,36,36)",
             "ticks": "outside"
            },
            "colorscale": [
             [
              0,
              "#440154"
             ],
             [
              0.1111111111111111,
              "#482878"
             ],
             [
              0.2222222222222222,
              "#3e4989"
             ],
             [
              0.3333333333333333,
              "#31688e"
             ],
             [
              0.4444444444444444,
              "#26828e"
             ],
             [
              0.5555555555555556,
              "#1f9e89"
             ],
             [
              0.6666666666666666,
              "#35b779"
             ],
             [
              0.7777777777777778,
              "#6ece58"
             ],
             [
              0.8888888888888888,
              "#b5de2b"
             ],
             [
              1,
              "#fde725"
             ]
            ],
            "type": "contour"
           }
          ],
          "contourcarpet": [
           {
            "colorbar": {
             "outlinewidth": 1,
             "tickcolor": "rgb(36,36,36)",
             "ticks": "outside"
            },
            "type": "contourcarpet"
           }
          ],
          "heatmap": [
           {
            "colorbar": {
             "outlinewidth": 1,
             "tickcolor": "rgb(36,36,36)",
             "ticks": "outside"
            },
            "colorscale": [
             [
              0,
              "#440154"
             ],
             [
              0.1111111111111111,
              "#482878"
             ],
             [
              0.2222222222222222,
              "#3e4989"
             ],
             [
              0.3333333333333333,
              "#31688e"
             ],
             [
              0.4444444444444444,
              "#26828e"
             ],
             [
              0.5555555555555556,
              "#1f9e89"
             ],
             [
              0.6666666666666666,
              "#35b779"
             ],
             [
              0.7777777777777778,
              "#6ece58"
             ],
             [
              0.8888888888888888,
              "#b5de2b"
             ],
             [
              1,
              "#fde725"
             ]
            ],
            "type": "heatmap"
           }
          ],
          "heatmapgl": [
           {
            "colorbar": {
             "outlinewidth": 1,
             "tickcolor": "rgb(36,36,36)",
             "ticks": "outside"
            },
            "colorscale": [
             [
              0,
              "#440154"
             ],
             [
              0.1111111111111111,
              "#482878"
             ],
             [
              0.2222222222222222,
              "#3e4989"
             ],
             [
              0.3333333333333333,
              "#31688e"
             ],
             [
              0.4444444444444444,
              "#26828e"
             ],
             [
              0.5555555555555556,
              "#1f9e89"
             ],
             [
              0.6666666666666666,
              "#35b779"
             ],
             [
              0.7777777777777778,
              "#6ece58"
             ],
             [
              0.8888888888888888,
              "#b5de2b"
             ],
             [
              1,
              "#fde725"
             ]
            ],
            "type": "heatmapgl"
           }
          ],
          "histogram": [
           {
            "marker": {
             "line": {
              "color": "white",
              "width": 0.6
             }
            },
            "type": "histogram"
           }
          ],
          "histogram2d": [
           {
            "colorbar": {
             "outlinewidth": 1,
             "tickcolor": "rgb(36,36,36)",
             "ticks": "outside"
            },
            "colorscale": [
             [
              0,
              "#440154"
             ],
             [
              0.1111111111111111,
              "#482878"
             ],
             [
              0.2222222222222222,
              "#3e4989"
             ],
             [
              0.3333333333333333,
              "#31688e"
             ],
             [
              0.4444444444444444,
              "#26828e"
             ],
             [
              0.5555555555555556,
              "#1f9e89"
             ],
             [
              0.6666666666666666,
              "#35b779"
             ],
             [
              0.7777777777777778,
              "#6ece58"
             ],
             [
              0.8888888888888888,
              "#b5de2b"
             ],
             [
              1,
              "#fde725"
             ]
            ],
            "type": "histogram2d"
           }
          ],
          "histogram2dcontour": [
           {
            "colorbar": {
             "outlinewidth": 1,
             "tickcolor": "rgb(36,36,36)",
             "ticks": "outside"
            },
            "colorscale": [
             [
              0,
              "#440154"
             ],
             [
              0.1111111111111111,
              "#482878"
             ],
             [
              0.2222222222222222,
              "#3e4989"
             ],
             [
              0.3333333333333333,
              "#31688e"
             ],
             [
              0.4444444444444444,
              "#26828e"
             ],
             [
              0.5555555555555556,
              "#1f9e89"
             ],
             [
              0.6666666666666666,
              "#35b779"
             ],
             [
              0.7777777777777778,
              "#6ece58"
             ],
             [
              0.8888888888888888,
              "#b5de2b"
             ],
             [
              1,
              "#fde725"
             ]
            ],
            "type": "histogram2dcontour"
           }
          ],
          "mesh3d": [
           {
            "colorbar": {
             "outlinewidth": 1,
             "tickcolor": "rgb(36,36,36)",
             "ticks": "outside"
            },
            "type": "mesh3d"
           }
          ],
          "parcoords": [
           {
            "line": {
             "colorbar": {
              "outlinewidth": 1,
              "tickcolor": "rgb(36,36,36)",
              "ticks": "outside"
             }
            },
            "type": "parcoords"
           }
          ],
          "pie": [
           {
            "automargin": true,
            "type": "pie"
           }
          ],
          "scatter": [
           {
            "marker": {
             "colorbar": {
              "outlinewidth": 1,
              "tickcolor": "rgb(36,36,36)",
              "ticks": "outside"
             }
            },
            "type": "scatter"
           }
          ],
          "scatter3d": [
           {
            "line": {
             "colorbar": {
              "outlinewidth": 1,
              "tickcolor": "rgb(36,36,36)",
              "ticks": "outside"
             }
            },
            "marker": {
             "colorbar": {
              "outlinewidth": 1,
              "tickcolor": "rgb(36,36,36)",
              "ticks": "outside"
             }
            },
            "type": "scatter3d"
           }
          ],
          "scattercarpet": [
           {
            "marker": {
             "colorbar": {
              "outlinewidth": 1,
              "tickcolor": "rgb(36,36,36)",
              "ticks": "outside"
             }
            },
            "type": "scattercarpet"
           }
          ],
          "scattergeo": [
           {
            "marker": {
             "colorbar": {
              "outlinewidth": 1,
              "tickcolor": "rgb(36,36,36)",
              "ticks": "outside"
             }
            },
            "type": "scattergeo"
           }
          ],
          "scattergl": [
           {
            "marker": {
             "colorbar": {
              "outlinewidth": 1,
              "tickcolor": "rgb(36,36,36)",
              "ticks": "outside"
             }
            },
            "type": "scattergl"
           }
          ],
          "scattermapbox": [
           {
            "marker": {
             "colorbar": {
              "outlinewidth": 1,
              "tickcolor": "rgb(36,36,36)",
              "ticks": "outside"
             }
            },
            "type": "scattermapbox"
           }
          ],
          "scatterpolar": [
           {
            "marker": {
             "colorbar": {
              "outlinewidth": 1,
              "tickcolor": "rgb(36,36,36)",
              "ticks": "outside"
             }
            },
            "type": "scatterpolar"
           }
          ],
          "scatterpolargl": [
           {
            "marker": {
             "colorbar": {
              "outlinewidth": 1,
              "tickcolor": "rgb(36,36,36)",
              "ticks": "outside"
             }
            },
            "type": "scatterpolargl"
           }
          ],
          "scatterternary": [
           {
            "marker": {
             "colorbar": {
              "outlinewidth": 1,
              "tickcolor": "rgb(36,36,36)",
              "ticks": "outside"
             }
            },
            "type": "scatterternary"
           }
          ],
          "surface": [
           {
            "colorbar": {
             "outlinewidth": 1,
             "tickcolor": "rgb(36,36,36)",
             "ticks": "outside"
            },
            "colorscale": [
             [
              0,
              "#440154"
             ],
             [
              0.1111111111111111,
              "#482878"
             ],
             [
              0.2222222222222222,
              "#3e4989"
             ],
             [
              0.3333333333333333,
              "#31688e"
             ],
             [
              0.4444444444444444,
              "#26828e"
             ],
             [
              0.5555555555555556,
              "#1f9e89"
             ],
             [
              0.6666666666666666,
              "#35b779"
             ],
             [
              0.7777777777777778,
              "#6ece58"
             ],
             [
              0.8888888888888888,
              "#b5de2b"
             ],
             [
              1,
              "#fde725"
             ]
            ],
            "type": "surface"
           }
          ],
          "table": [
           {
            "cells": {
             "fill": {
              "color": "rgb(237,237,237)"
             },
             "line": {
              "color": "white"
             }
            },
            "header": {
             "fill": {
              "color": "rgb(217,217,217)"
             },
             "line": {
              "color": "white"
             }
            },
            "type": "table"
           }
          ]
         },
         "layout": {
          "annotationdefaults": {
           "arrowhead": 0,
           "arrowwidth": 1
          },
          "coloraxis": {
           "colorbar": {
            "outlinewidth": 1,
            "tickcolor": "rgb(36,36,36)",
            "ticks": "outside"
           }
          },
          "colorscale": {
           "diverging": [
            [
             0,
             "rgb(103,0,31)"
            ],
            [
             0.1,
             "rgb(178,24,43)"
            ],
            [
             0.2,
             "rgb(214,96,77)"
            ],
            [
             0.3,
             "rgb(244,165,130)"
            ],
            [
             0.4,
             "rgb(253,219,199)"
            ],
            [
             0.5,
             "rgb(247,247,247)"
            ],
            [
             0.6,
             "rgb(209,229,240)"
            ],
            [
             0.7,
             "rgb(146,197,222)"
            ],
            [
             0.8,
             "rgb(67,147,195)"
            ],
            [
             0.9,
             "rgb(33,102,172)"
            ],
            [
             1,
             "rgb(5,48,97)"
            ]
           ],
           "sequential": [
            [
             0,
             "#440154"
            ],
            [
             0.1111111111111111,
             "#482878"
            ],
            [
             0.2222222222222222,
             "#3e4989"
            ],
            [
             0.3333333333333333,
             "#31688e"
            ],
            [
             0.4444444444444444,
             "#26828e"
            ],
            [
             0.5555555555555556,
             "#1f9e89"
            ],
            [
             0.6666666666666666,
             "#35b779"
            ],
            [
             0.7777777777777778,
             "#6ece58"
            ],
            [
             0.8888888888888888,
             "#b5de2b"
            ],
            [
             1,
             "#fde725"
            ]
           ],
           "sequentialminus": [
            [
             0,
             "#440154"
            ],
            [
             0.1111111111111111,
             "#482878"
            ],
            [
             0.2222222222222222,
             "#3e4989"
            ],
            [
             0.3333333333333333,
             "#31688e"
            ],
            [
             0.4444444444444444,
             "#26828e"
            ],
            [
             0.5555555555555556,
             "#1f9e89"
            ],
            [
             0.6666666666666666,
             "#35b779"
            ],
            [
             0.7777777777777778,
             "#6ece58"
            ],
            [
             0.8888888888888888,
             "#b5de2b"
            ],
            [
             1,
             "#fde725"
            ]
           ]
          },
          "colorway": [
           "#1F77B4",
           "#FF7F0E",
           "#2CA02C",
           "#D62728",
           "#9467BD",
           "#8C564B",
           "#E377C2",
           "#7F7F7F",
           "#BCBD22",
           "#17BECF"
          ],
          "font": {
           "color": "rgb(36,36,36)"
          },
          "geo": {
           "bgcolor": "white",
           "lakecolor": "white",
           "landcolor": "white",
           "showlakes": true,
           "showland": true,
           "subunitcolor": "white"
          },
          "hoverlabel": {
           "align": "left"
          },
          "hovermode": "closest",
          "mapbox": {
           "style": "light"
          },
          "paper_bgcolor": "white",
          "plot_bgcolor": "white",
          "polar": {
           "angularaxis": {
            "gridcolor": "rgb(232,232,232)",
            "linecolor": "rgb(36,36,36)",
            "showgrid": false,
            "showline": true,
            "ticks": "outside"
           },
           "bgcolor": "white",
           "radialaxis": {
            "gridcolor": "rgb(232,232,232)",
            "linecolor": "rgb(36,36,36)",
            "showgrid": false,
            "showline": true,
            "ticks": "outside"
           }
          },
          "scene": {
           "xaxis": {
            "backgroundcolor": "white",
            "gridcolor": "rgb(232,232,232)",
            "gridwidth": 2,
            "linecolor": "rgb(36,36,36)",
            "showbackground": true,
            "showgrid": false,
            "showline": true,
            "ticks": "outside",
            "zeroline": false,
            "zerolinecolor": "rgb(36,36,36)"
           },
           "yaxis": {
            "backgroundcolor": "white",
            "gridcolor": "rgb(232,232,232)",
            "gridwidth": 2,
            "linecolor": "rgb(36,36,36)",
            "showbackground": true,
            "showgrid": false,
            "showline": true,
            "ticks": "outside",
            "zeroline": false,
            "zerolinecolor": "rgb(36,36,36)"
           },
           "zaxis": {
            "backgroundcolor": "white",
            "gridcolor": "rgb(232,232,232)",
            "gridwidth": 2,
            "linecolor": "rgb(36,36,36)",
            "showbackground": true,
            "showgrid": false,
            "showline": true,
            "ticks": "outside",
            "zeroline": false,
            "zerolinecolor": "rgb(36,36,36)"
           }
          },
          "shapedefaults": {
           "fillcolor": "black",
           "line": {
            "width": 0
           },
           "opacity": 0.3
          },
          "ternary": {
           "aaxis": {
            "gridcolor": "rgb(232,232,232)",
            "linecolor": "rgb(36,36,36)",
            "showgrid": false,
            "showline": true,
            "ticks": "outside"
           },
           "baxis": {
            "gridcolor": "rgb(232,232,232)",
            "linecolor": "rgb(36,36,36)",
            "showgrid": false,
            "showline": true,
            "ticks": "outside"
           },
           "bgcolor": "white",
           "caxis": {
            "gridcolor": "rgb(232,232,232)",
            "linecolor": "rgb(36,36,36)",
            "showgrid": false,
            "showline": true,
            "ticks": "outside"
           }
          },
          "title": {
           "x": 0.05
          },
          "xaxis": {
           "automargin": true,
           "gridcolor": "rgb(232,232,232)",
           "linecolor": "rgb(36,36,36)",
           "showgrid": false,
           "showline": true,
           "ticks": "outside",
           "title": {
            "standoff": 15
           },
           "zeroline": false,
           "zerolinecolor": "rgb(36,36,36)"
          },
          "yaxis": {
           "automargin": true,
           "gridcolor": "rgb(232,232,232)",
           "linecolor": "rgb(36,36,36)",
           "showgrid": false,
           "showline": true,
           "ticks": "outside",
           "title": {
            "standoff": 15
           },
           "zeroline": false,
           "zerolinecolor": "rgb(36,36,36)"
          }
         }
        },
        "width": 1000,
        "xaxis": {
         "anchor": "y",
         "domain": [
          0,
          1
         ],
         "title": {
          "text": "Projection"
         }
        },
        "yaxis": {
         "anchor": "x",
         "domain": [
          0,
          1
         ],
         "showline": false,
         "title": {
          "text": ""
         },
         "type": "category"
        }
       }
      },
      "text/html": [
       "<div>\n",
       "        \n",
       "        \n",
       "            <div id=\"5cb34e17-f36d-4793-bf52-40e96e03df62\" class=\"plotly-graph-div\" style=\"height:700px; width:1000px;\"></div>\n",
       "            <script type=\"text/javascript\">\n",
       "                require([\"plotly\"], function(Plotly) {\n",
       "                    window.PLOTLYENV=window.PLOTLYENV || {};\n",
       "                    \n",
       "                if (document.getElementById(\"5cb34e17-f36d-4793-bf52-40e96e03df62\")) {\n",
       "                    Plotly.newPlot(\n",
       "                        '5cb34e17-f36d-4793-bf52-40e96e03df62',\n",
       "                        [{\"customdata\": [[\"unknownvideos\", 4219, \"NA\"], [\"resumes\", 17206, \"NA\"], [\"dwarffortress\", 21998, \"NA\"], [\"PublishProtocol\", 3380, \"NA\"], [\"HistoryWhatIf\", 7014, \"NA\"], [\"IronThroneRP\", 11616, \"NA\"], [\"toyexchange\", 2693, \"NA\"], [\"Cash4Cash\", 6788, \"NA\"], [\"Newark\", 1503, \"NA\"], [\"HardwareSwapUK\", 11581, \"NA\"], [\"BeckleyOnReddit\", 1, \"NA\"], [\"Warts\", 2866, \"NA\"], [\"rwbyRP\", 6824, \"NA\"], [\"flairwars\", 5208, \"NA\"], [\"Bitwarden\", 2964, \"NA\"], [\"awoiafrp\", 8845, \"NA\"], [\"RandomActsOfBlowJob\", 90243, \"NA\"], [\"AsianLadyBonerGW\", 5095, \"NA\"], [\"funnyvideos\", 3700, \"NA\"], [\"ClashOfClansRecruit\", 23264, \"NA\"], [\"textfriends\", 3792, \"NA\"], [\"tud\", 1, \"NA\"], [\"GCTrading\", 9297, \"NA\"], [\"StrawHatRPG\", 8061, \"NA\"], [\"vmware\", 10203, \"NA\"], [\"de_IAmA\", 4439, \"NA\"], [\"amherst\", 1, \"NA\"], [\"DebateAnarchism\", 96, \"NA\"], [\"lostgeneration\", 1345, \"NA\"], [\"DebateCommunism\", 415, \"NA\"], [\"Argenpol\", 114, \"NA\"], [\"PoliticalCompass\", 219, \"NA\"], [\"ndp\", 85, \"NA\"], [\"brasilnoticias\", 240, \"NA\"], [\"canadaleft\", 80, \"NA\"], [\"BasicIncome\", 281, \"NA\"], [\"LeftWingMaleAdvocates\", 78, \"NA\"], [\"AquaSama\", 16607, \"NA\"], [\"DebateAChristian\", 7223, \"NA\"], [\"AskAChristian\", 7103, \"NA\"], [\"jesuschristreddit\", 3159, \"NA\"], [\"swoleacceptance\", 1443, \"NA\"], [\"faireumofficial\", 1238, \"NA\"], [\"MoviePosterPorn\", 1964, \"NA\"], [\"KCL\", 4, \"NA\"], [\"AskConservatives\", 5228, \"NA\"], [\"ICOAnalysis\", 2190, \"NA\"], [\"askaconservative\", 9511, \"NA\"], [\"AskALiberal\", 23031, \"NA\"], [\"Crypto_General\", 1102, \"NA\"], [\"blockmason\", 2148, \"NA\"], [\"CineShots\", 2373, \"NA\"], [\"PublishProtocol\", 4028, \"NA\"], [\"DebateCommunism\", 9930, \"NA\"], [\"Fairfield\", 2, \"NA\"], [\"DebateAnarchism\", 2525, \"NA\"], [\"InsiderMemeTrading\", 5549, \"NA\"], [\"CapitalismVSocialism\", 72803, \"NA\"], [\"politicsdebate\", 102, \"NA\"], [\"TexasPolitics\", 290, \"NA\"], [\"blacksburg\", 1, \"NA\"], [\"PoliticalOpinions\", 95, \"NA\"], [\"California_Politics\", 126, \"NA\"], [\"PoliticalDiscussion\", 1851, \"NA\"], [\"stolaf\", 1, \"NA\"], [\"Virginia\", 696, \"NA\"], [\"scotus\", 180, \"NA\"], [\"ColoradoPolitics\", 131, \"NA\"], [\"VirginiaPolitics\", 309, \"NA\"], [\"gunpolitics\", 6710, \"NA\"], [\"vzla\", 29924, \"NA\"], [\"es\", 2648, \"NA\"], [\"GriefSupport\", 8652, \"NA\"], [\"MusicInTheMaking\", 3954, \"NA\"], [\"raisedbyborderlines\", 22272, \"NA\"], [\"AquaSama\", 6513, \"NA\"], [\"podemos\", 22016, \"NA\"], [\"AsianParentStories\", 9303, \"NA\"], [\"dementia\", 2236, \"NA\"], [\"narcissisticparents\", 4210, \"NA\"], [\"SingleParents\", 4335, \"NA\"], [\"SportingCP\", 2488, \"NA\"], [\"raisedbynarcissists\", 132256, \"NA\"], [\"rwbyRP\", 4085, \"NA\"], [\"brasilivre\", 94184, \"NA\"], [\"portugal\", 88447, \"NA\"], [\"BrasildoB\", 6780, \"NA\"], [\"BrasilSimulator\", 12000, \"NA\"], [\"IST\", 217, \"NA\"], [\"stepparents\", 22158, \"NA\"], [\"RepublicaArgentina\", 9186, \"NA\"], [\"investimentos\", 5989, \"NA\"], [\"AskFeminists\", 11331, \"NA\"], [\"amipregnant\", 955, \"NA\"], [\"Kent\", 7, \"NA\"], [\"LeftWingMaleAdvocates\", 1502, \"NA\"], [\"Abortiondebate\", 42203, \"NA\"], [\"GenderCriticalGuys\", 580, \"NA\"], [\"Alabama\", 1047, \"NA\"], [\"mormonpolitics\", 420, \"NA\"], [\"childfree\", 26507, \"NA\"], [\"politicsdebate\", 356, \"NA\"], [\"PoliticalOpinions\", 420, \"NA\"], [\"OneY\", 283, \"NA\"], [\"SDSMT\", 3, \"NA\"], [\"JUSTNOFAMILY\", 25056, \"NA\"], [\"polyamoryR4R\", 1488, \"NA\"], [\"jamescook\", 1, \"NA\"], [\"FIREUK\", 2283, \"NA\"], [\"funkoswap\", 13567, \"NA\"], [\"colum\", 5, \"NA\"], [\"claremontcolleges\", 8, \"NA\"], [\"asshole\", 16823, \"NA\"], [\"HolyCross\", 1, \"NA\"], [\"Hairy\", 3266, \"NA\"], [\"Fairfield\", 4, \"NA\"], [\"tud\", 1, \"NA\"], [\"iwanttobeher\", 14329, \"NA\"], [\"industrialized\", 12828, \"NA\"]], \"hovertemplate\": \"Alignment=NA<br>Projection=%{x}<br>=%{y}<br>size=%{marker.size}<br>subreddit=%{customdata[0]}<br>count=%{customdata[1]}<br>label=%{customdata[2]}<extra></extra>\", \"legendgroup\": \"NA\", \"marker\": {\"color\": \"#636efa\", \"size\": [10, 10, 10, 10, 10, 10, 10, 10, 10, 10, 10, 10, 10, 10, 10, 10, 10, 10, 10, 10, 10, 10, 10, 10, 10, 10, 10, 10, 10, 10, 10, 10, 10, 10, 10, 10, 10, 10, 10, 10, 10, 10, 10, 10, 10, 10, 10, 10, 10, 10, 10, 10, 10, 10, 10, 10, 10, 10, 10, 10, 10, 10, 10, 10, 10, 10, 10, 10, 10, 10, 10, 10, 10, 10, 10, 10, 10, 10, 10, 10, 10, 10, 10, 10, 10, 10, 10, 10, 10, 10, 10, 10, 10, 10, 10, 10, 10, 10, 10, 10, 10, 10, 10, 10, 10, 10, 10, 10, 10, 10, 10, 10, 10, 10, 10, 10, 10, 10, 10], \"sizemode\": \"area\", \"sizeref\": 0.025, \"symbol\": \"circle\"}, \"mode\": \"markers\", \"name\": \"NA\", \"orientation\": \"h\", \"showlegend\": true, \"type\": \"scatter\", \"x\": [-0.11103623513494494, 0.11280105750077415, 0.09413948543881494, -0.0780890227240187, 0.08203798842103337, 0.05906331488479458, -0.027591511866632522, -0.14403575587283104, -0.06984930684728356, 0.005621506686841009, -0.07769036779819616, -0.08787072576644753, 0.12094259863916693, -0.0457230528473627, 0.10373298105796565, 0.05583567608833286, 0.016126006189213397, 0.05219454028959295, -0.15002803960923014, -0.06487187881436228, 0.020980715084396608, 0.09767611199686287, -0.09959574127890726, 0.006335387425597752, 0.07698022921884394, 0.1282841950730742, -0.06020684930805098, -0.3608910863796983, -0.15847170024785748, -0.31757575502387175, -0.0596923674982803, -0.2598152273466819, -0.19281333208864138, -0.16981240930487934, -0.2901229202074779, -0.06742586623182117, -0.14590947599206588, 0.1161907906762151, 0.13275204006746308, 0.14577678087231924, -0.07360370547474006, 0.0012955515047459653, 0.053167524020762, -0.04365765941974546, -0.07454250892617027, 0.17706916511576182, 0.041783106016869985, 0.3281131110423647, 0.06273306512964172, 0.07541995966375038, 0.023130513382229573, -0.07241403764852263, 0.01818720207900563, -0.15443020935065488, -0.05139714332358418, -0.2116507600769791, 0.06868672745772214, -0.0007823907049239249, -0.08941145487490984, -0.11052853611070006, -0.0860571721893297, -0.2507177559650879, -0.13624554723228618, -0.21214807047873394, -0.063914664483389, -0.05910833258211386, -0.15277613381520525, -0.07412948075300843, -0.11638662757230189, 0.17091924370260078, -0.171358168180082, -0.13504232438193722, -0.14918464755541105, -0.059709942122111365, -0.23668299021006073, -0.07542373328666392, -0.19634423836018045, -0.09999591663939741, -0.22224065632513926, -0.17278353673280578, -0.22918796386602486, -0.0539911572337448, -0.2106957009897527, -0.01714058386307272, -0.17384084605215896, -0.15549153230356497, -0.17832699787006617, -0.08485542230873196, -0.09955926334466725, -0.35583618677761036, -0.09508129312775873, -0.13887843793606885, -0.10801369804712996, -0.2024738309270597, -0.0018768088304958808, 0.15686282834727935, 0.2187667947718603, 0.06373229948224123, 0.11657863449208289, 0.28590217241766097, -0.2028493460001171, 0.1957284731393106, 0.12704669561639872, 0.16947884238760974, 0.02086716875642961, 0.09974610275293741, 0.10067594865987695, 0.1132450210558834, 0.13876909466033002, -0.12595366606727865, 0.15660156510409368, 0.018431822697454064, -0.11256836259350052, 0.06327060967337321, 0.0051027423678419144, 0.05321315253833437, -0.026909708053528963, 0.0069299749646894735, -0.07317489714160524], \"xaxis\": \"x\", \"y\": [\"War\", \"War\", \"War\", \"War\", \"War\", \"War\", \"War\", \"War\", \"War\", \"War\", \"War\", \"War\", \"War\", \"War\", \"War\", \"War\", \"War\", \"War\", \"War\", \"War\", \"War\", \"War\", \"War\", \"War\", \"War\", \"War\", \"Trade\", \"Trade\", \"Trade\", \"Trade\", \"Trade\", \"Trade\", \"Trade\", \"Trade\", \"Trade\", \"Trade\", \"Trade\", \"Religiosity\", \"Religiosity\", \"Religiosity\", \"Religiosity\", \"Religiosity\", \"Ideology\", \"Ideology\", \"Ideology\", \"Ideology\", \"Ideology\", \"Ideology\", \"Ideology\", \"Ideology\", \"Ideology\", \"Ideology\", \"Ideology\", \"Ideology\", \"Ideology\", \"Ideology\", \"Ideology\", \"Ideology\", \"Gun Control\", \"Gun Control\", \"Gun Control\", \"Gun Control\", \"Gun Control\", \"Gun Control\", \"Gun Control\", \"Gun Control\", \"Gun Control\", \"Gun Control\", \"Gun Control\", \"Gun Control\", \"Gender\", \"Gender\", \"Gender\", \"Gender\", \"Gender\", \"Gender\", \"Gender\", \"Gender\", \"Gender\", \"Gender\", \"Gender\", \"Gender\", \"Gender\", \"Gender\", \"Gender\", \"Gender\", \"Gender\", \"Gender\", \"Gender\", \"Gender\", \"Gender\", \"Gender\", \"Birth Control\", \"Birth Control\", \"Birth Control\", \"Birth Control\", \"Birth Control\", \"Birth Control\", \"Birth Control\", \"Birth Control\", \"Birth Control\", \"Birth Control\", \"Birth Control\", \"Birth Control\", \"Age\", \"Age\", \"Age\", \"Age\", \"Age\", \"Age\", \"Age\", \"Age\", \"Age\", \"Age\", \"Age\", \"Age\", \"Age\", \"Age\", \"Age\"], \"yaxis\": \"y\"}, {\"customdata\": [[\"WarCollege\", 6204, \"Hawkish\"], [\"CredibleDefense\", 45607, \"Hawkish\"], [\"seculartalk\", 139, \"Pro-Trade\"], [\"neoliberal\", 81320, \"Pro-Trade\"], [\"AskEconomics\", 431, \"Pro-Trade\"], [\"Classical_Liberals\", 128, \"Pro-Trade\"], [\"badeconomics\", 483, \"Pro-Trade\"], [\"neoconNWO\", 844, \"Pro-Trade\"], [\"PrayerRequests\", 4812, \"Religious\"], [\"Christianmarriage\", 4473, \"Religious\"], [\"TrueChristian\", 37686, \"Religious\"], [\"Anglicanism\", 6392, \"Religious\"], [\"mormon\", 26108, \"Religious\"], [\"RPChristians\", 2151, \"Religious\"], [\"Christians\", 3353, \"Religious\"], [\"GayChristians\", 1941, \"Religious\"], [\"OpenChristian\", 4194, \"Religious\"], [\"Christian\", 11560, \"Religious\"], [\"NoFapChristians\", 5732, \"Religious\"], [\"OrthodoxChristianity\", 15751, \"Religious\"], [\"Bible\", 5779, \"Religious\"], [\"latterdaysaints\", 25440, \"Religious\"], [\"RadicalChristianity\", 1522, \"Religious\"], [\"Catholicism\", 71628, \"Religious\"], [\"Reformed\", 20412, \"Religious\"], [\"Christianity\", 178140, \"Religious\"], [\"lds\", 1917, \"Religious\"], [\"tuesday\", 3540, \"Conservative\"], [\"Classical_Liberals\", 1143, \"Conservative\"], [\"The_Donald\", 48288, \"Conservative\"], [\"Capitalism\", 3083, \"Conservative\"], [\"benshapiro\", 1371, \"Conservative\"], [\"NYguns\", 106, \"Less Regulation\"], [\"CAguns\", 1000, \"Less Regulation\"], [\"Iamactuallyverybadass\", 285, \"Less Regulation\"], [\"canadaguns\", 1306, \"Less Regulation\"], [\"NJGuns\", 117, \"Less Regulation\"], [\"SocialistRA\", 752, \"Less Regulation\"], [\"Classical_Liberals\", 72, \"Less Regulation\"], [\"Firearms\", 7619, \"Less Regulation\"], [\"WA_guns\", 655, \"Less Regulation\"], [\"dgu\", 76, \"Less Regulation\"], [\"progun\", 11044, \"Less Regulation\"], [\"NOWTTYG\", 670, \"Less Regulation\"], [\"shitguncontrollerssay\", 1129, \"Less Regulation\"], [\"2ALiberals\", 1871, \"Less Regulation\"], [\"liberalgunowners\", 7630, \"Less Regulation\"], [\"libertarianmeme\", 512, \"Less Regulation\"], [\"VAGuns\", 890, \"Less Regulation\"], [\"OneY\", 9105, \"Masculine\"], [\"GrandTheftAutoV\", 1, \"Masculine\"], [\"daddit\", 24584, \"Masculine\"], [\"antifeminists\", 1027, \"Pro-Life\"], [\"prolife\", 23318, \"Pro-Life\"], [\"MensRights\", 19682, \"Pro-Life\"], [\"benshapiro\", 945, \"Pro-Life\"], [\"Mortgages\", 4210, \"Older\"], [\"fosterit\", 1684, \"Older\"], [\"Fosterparents\", 1399, \"Older\"], [\"oneanddone\", 1716, \"Older\"], [\"careeradvice\", 1983, \"Older\"], [\"Genealogy\", 17441, \"Older\"], [\"NarcAbuseAndDivorce\", 1837, \"Older\"], [\"careerguidance\", 28406, \"Older\"], [\"Adoption\", 6771, \"Older\"]], \"hovertemplate\": \"Alignment=Aligned<br>Projection=%{x}<br>=%{y}<br>size=%{marker.size}<br>subreddit=%{customdata[0]}<br>count=%{customdata[1]}<br>label=%{customdata[2]}<extra></extra>\", \"legendgroup\": \"Aligned\", \"marker\": {\"color\": \"#EF553B\", \"size\": [10, 10, 10, 10, 10, 10, 10, 10, 10, 10, 10, 10, 10, 10, 10, 10, 10, 10, 10, 10, 10, 10, 10, 10, 10, 10, 10, 10, 10, 10, 10, 10, 10, 10, 10, 10, 10, 10, 10, 10, 10, 10, 10, 10, 10, 10, 10, 10, 10, 10, 10, 10, 10, 10, 10, 10, 10, 10, 10, 10, 10, 10, 10, 10, 10], \"sizemode\": \"area\", \"sizeref\": 0.025, \"symbol\": \"circle\"}, \"mode\": \"markers\", \"name\": \"Aligned\", \"orientation\": \"h\", \"showlegend\": true, \"type\": \"scatter\", \"x\": [0.41182942165349706, 0.34764479051595937, -0.1786188678654813, 0.17344437042170258, 0.12923699419440252, 0.05728938991686627, 0.06697391240818097, 0.10159711577820714, 0.24321513448700163, 0.22953813530152975, 0.17093938011470952, 0.19857637962683128, -0.017697428862155157, 0.11917679418212858, 0.30437114440075713, 0.121822130870746, 0.005832743602026582, 0.20367308107189655, 0.31235645554157054, 0.27757717855575786, 0.2719944411290509, 0.14473520772468615, 0.02031350802455454, 0.284883258996972, 0.2622610757851977, 0.33145228673733174, 0.30341758009625663, 0.18500029214709282, 0.3277532601253236, 0.3860751325153711, 0.2696571612129379, 0.3054860820424322, 0.06835798101617112, 0.13209717641244234, 0.024517926657136088, 0.16058592728567142, 0.06523546026502981, -0.13893245831558146, 0.1280235309057505, 0.26259561759298833, 0.15483143885269804, 0.15330240145672525, 0.42511464456362275, 0.10861161052152234, 0.1269890058992931, 0.03243329440789397, 0.024242731641686843, 0.25616211657055166, 0.1325647533875033, -0.044580663481806594, 0.03892414380983357, 0.3782561990420482, 0.22241549340942432, 0.573230923179587, 0.3443218705870947, 0.38101944585621617, 0.25847349793768193, 0.24460864090086895, 0.1979044003918679, 0.3043566335529976, 0.27980908060859444, 0.28362645469814535, 0.2884147302172998, 0.2832727560965278, 0.1577745059748364], \"xaxis\": \"x\", \"y\": [\"War\", \"War\", \"Trade\", \"Trade\", \"Trade\", \"Trade\", \"Trade\", \"Trade\", \"Religiosity\", \"Religiosity\", \"Religiosity\", \"Religiosity\", \"Religiosity\", \"Religiosity\", \"Religiosity\", \"Religiosity\", \"Religiosity\", \"Religiosity\", \"Religiosity\", \"Religiosity\", \"Religiosity\", \"Religiosity\", \"Religiosity\", \"Religiosity\", \"Religiosity\", \"Religiosity\", \"Religiosity\", \"Ideology\", \"Ideology\", \"Ideology\", \"Ideology\", \"Ideology\", \"Gun Control\", \"Gun Control\", \"Gun Control\", \"Gun Control\", \"Gun Control\", \"Gun Control\", \"Gun Control\", \"Gun Control\", \"Gun Control\", \"Gun Control\", \"Gun Control\", \"Gun Control\", \"Gun Control\", \"Gun Control\", \"Gun Control\", \"Gun Control\", \"Gun Control\", \"Gender\", \"Gender\", \"Gender\", \"Birth Control\", \"Birth Control\", \"Birth Control\", \"Birth Control\", \"Age\", \"Age\", \"Age\", \"Age\", \"Age\", \"Age\", \"Age\", \"Age\", \"Age\"], \"yaxis\": \"y\"}, {\"customdata\": [[\"LeftWithoutEdge\", 518, \"Pacifistic\"], [\"EndlessWar\", 14904, \"Pacifistic\"], [\"dsa\", 64, \"Anti-Trade\"], [\"SocialDemocracy\", 208, \"Anti-Trade\"], [\"The_Donald\", 62458, \"Anti-Trade\"], [\"CriticalTheory\", 235, \"Anti-Trade\"], [\"Kossacks_for_Sanders\", 168, \"Anti-Trade\"], [\"chomsky\", 335, \"Anti-Trade\"], [\"Labour\", 275, \"Anti-Trade\"], [\"Socialism_101\", 394, \"Anti-Trade\"], [\"LeftWithoutEdge\", 205, \"Anti-Trade\"], [\"stupidpol\", 4309, \"Anti-Trade\"], [\"WayOfTheBern\", 3828, \"Anti-Trade\"], [\"WeAreNotAsking\", 116, \"Anti-Trade\"], [\"BreadTube\", 1591, \"Anti-Trade\"], [\"exIglesiaNiCristo\", 4573, \"Secular\"], [\"excatholic\", 3498, \"Secular\"], [\"exchristian\", 28380, \"Secular\"], [\"exmormon\", 170129, \"Secular\"], [\"exlldm\", 2984, \"Secular\"], [\"agnostic\", 2147, \"Secular\"], [\"LateStageCapitalism\", 62136, \"Progressive\"], [\"communism101\", 8758, \"Progressive\"], [\"Anarchy101\", 6952, \"Progressive\"], [\"BasicIncome\", 4365, \"Progressive\"], [\"socialism\", 17790, \"Progressive\"], [\"Socialism_101\", 12306, \"Progressive\"], [\"capitalism_in_decay\", 2634, \"Progressive\"], [\"canadaleft\", 2692, \"Progressive\"], [\"SocialDemocracy\", 1185, \"Progressive\"], [\"GunsAreCool\", 782, \"More Regulation\"], [\"MakeupAddiction\", 38406, \"Feminine\"], [\"TwoXChromosomes\", 18794, \"Feminine\"], [\"Mommit\", 3638, \"Feminine\"], [\"breakingmom\", 43912, \"Feminine\"], [\"WomensHealth\", 1703, \"Pro-Choice\"], [\"FeMRADebates\", 2306, \"Pro-Choice\"], [\"Egalitarianism\", 1004, \"Pro-Choice\"], [\"abortion\", 12684, \"Pro-Choice\"], [\"birthcontrol\", 13610, \"Pro-Choice\"], [\"prochoice\", 12759, \"Pro-Choice\"], [\"PCOS\", 3847, \"Pro-Choice\"], [\"GenderCritical\", 31523, \"Pro-Choice\"], [\"Periods\", 799, \"Pro-Choice\"], [\"TwoXChromosomes\", 32247, \"Pro-Choice\"], [\"Endo\", 1220, \"Pro-Choice\"], [\"Feminism\", 3429, \"Pro-Choice\"], [\"endometriosis\", 850, \"Pro-Choice\"], [\"PMDD\", 981, \"Pro-Choice\"], [\"2meirl4meirl\", 6730, \"Younger\"], [\"dankmemes\", 2601, \"Younger\"], [\"AsianParentStories\", 5721, \"Younger\"], [\"family\", 7977, \"Younger\"], [\"teenagers\", 15271, \"Younger\"], [\"LifeAfterSchool\", 2381, \"Younger\"]], \"hovertemplate\": \"Alignment=Opposing<br>Projection=%{x}<br>=%{y}<br>size=%{marker.size}<br>subreddit=%{customdata[0]}<br>count=%{customdata[1]}<br>label=%{customdata[2]}<extra></extra>\", \"legendgroup\": \"Opposing\", \"marker\": {\"color\": \"#00cc96\", \"size\": [10, 10, 10, 10, 10, 10, 10, 10, 10, 10, 10, 10, 10, 10, 10, 10, 10, 10, 10, 10, 10, 10, 10, 10, 10, 10, 10, 10, 10, 10, 10, 10, 10, 10, 10, 10, 10, 10, 10, 10, 10, 10, 10, 10, 10, 10, 10, 10, 10, 10, 10, 10, 10, 10, 10], \"sizemode\": \"area\", \"sizeref\": 0.025, \"symbol\": \"circle\"}, \"mode\": \"markers\", \"name\": \"Opposing\", \"orientation\": \"h\", \"showlegend\": true, \"type\": \"scatter\", \"x\": [-0.2710183520487015, -0.5103557530872048, -0.18502726707163525, -0.15921461894684064, 0.12104794884389276, -0.22848704075967402, -0.11432991265936246, -0.27733974108949605, -0.30344392144831783, -0.40220359440438785, -0.341291653604567, -0.12103495875968963, -0.0709429818559345, -0.14700423860328726, -0.3733732398874508, -0.023422853705075772, -0.26205740748764433, -0.3450574024601721, -0.5170316947069865, 0.08240079902279492, -0.05024795699797448, -0.3060482337645443, -0.3353171856684026, -0.3298392291402624, -0.24114264605105315, -0.37406066586913506, -0.3425119109375313, -0.39240052290112826, -0.2609184173082289, -0.3458568571232288, -0.48492995953014906, -0.3049187548452069, -0.052934323706010686, -0.4626009450800666, -0.39944246232230446, -0.3120641720738546, 0.11054485268195621, 0.17421868393430792, -0.292395964714298, -0.4973812162570136, 0.03051490760241278, -0.22169234601961127, 0.04649283643593272, -0.19531143222302666, -0.11514242522205646, -0.24508913001177957, -0.04418764399803297, -0.23386630449198492, -0.3103422091135512, -0.26898663281244756, -0.571760882785317, 0.09452683751093863, 0.15115884705070148, -0.6654832741596896, -0.0036621635541655693], \"xaxis\": \"x\", \"y\": [\"War\", \"War\", \"Trade\", \"Trade\", \"Trade\", \"Trade\", \"Trade\", \"Trade\", \"Trade\", \"Trade\", \"Trade\", \"Trade\", \"Trade\", \"Trade\", \"Trade\", \"Religiosity\", \"Religiosity\", \"Religiosity\", \"Religiosity\", \"Religiosity\", \"Religiosity\", \"Ideology\", \"Ideology\", \"Ideology\", \"Ideology\", \"Ideology\", \"Ideology\", \"Ideology\", \"Ideology\", \"Ideology\", \"Gun Control\", \"Gender\", \"Gender\", \"Gender\", \"Gender\", \"Birth Control\", \"Birth Control\", \"Birth Control\", \"Birth Control\", \"Birth Control\", \"Birth Control\", \"Birth Control\", \"Birth Control\", \"Birth Control\", \"Birth Control\", \"Birth Control\", \"Birth Control\", \"Birth Control\", \"Birth Control\", \"Age\", \"Age\", \"Age\", \"Age\", \"Age\", \"Age\"], \"yaxis\": \"y\"}],\n",
       "                        {\"annotations\": [{\"ax\": -40, \"ay\": -30, \"font\": {\"size\": 16}, \"showarrow\": false, \"text\": \"<b>Conservative</b>\", \"x\": 0.7985799289916274, \"xref\": \"x\", \"y\": \"Ideology\", \"yref\": \"y\"}, {\"ax\": -40, \"ay\": -50, \"font\": {\"size\": 16}, \"showarrow\": false, \"text\": \"<b>Progressive</b>\", \"x\": -0.7985799289916274, \"xref\": \"x\", \"y\": \"Ideology\", \"yref\": \"y\"}, {\"ax\": -40, \"ay\": -30, \"font\": {\"size\": 16}, \"showarrow\": false, \"text\": \"<b>Religious</b>\", \"x\": 0.7985799289916274, \"xref\": \"x\", \"y\": \"Religiosity\", \"yref\": \"y\"}, {\"ax\": -40, \"ay\": -50, \"font\": {\"size\": 16}, \"showarrow\": false, \"text\": \"<b>Secular</b>\", \"x\": -0.7985799289916274, \"xref\": \"x\", \"y\": \"Religiosity\", \"yref\": \"y\"}, {\"ax\": -40, \"ay\": -30, \"font\": {\"size\": 16}, \"showarrow\": false, \"text\": \"<b>Pro-Life</b>\", \"x\": 0.7985799289916274, \"xref\": \"x\", \"y\": \"Birth Control\", \"yref\": \"y\"}, {\"ax\": -40, \"ay\": -50, \"font\": {\"size\": 16}, \"showarrow\": false, \"text\": \"<b>Pro-Choice</b>\", \"x\": -0.7985799289916274, \"xref\": \"x\", \"y\": \"Birth Control\", \"yref\": \"y\"}, {\"ax\": -40, \"ay\": -30, \"font\": {\"size\": 16}, \"showarrow\": false, \"text\": \"<b>Less Regulation</b>\", \"x\": 0.7985799289916274, \"xref\": \"x\", \"y\": \"Gun Control\", \"yref\": \"y\"}, {\"ax\": -40, \"ay\": -50, \"font\": {\"size\": 16}, \"showarrow\": false, \"text\": \"<b>More Regulation</b>\", \"x\": -0.7985799289916274, \"xref\": \"x\", \"y\": \"Gun Control\", \"yref\": \"y\"}, {\"ax\": -40, \"ay\": -30, \"font\": {\"size\": 16}, \"showarrow\": false, \"text\": \"<b>Older</b>\", \"x\": 0.7985799289916274, \"xref\": \"x\", \"y\": \"Age\", \"yref\": \"y\"}, {\"ax\": -40, \"ay\": -50, \"font\": {\"size\": 16}, \"showarrow\": false, \"text\": \"<b>Younger</b>\", \"x\": -0.7985799289916274, \"xref\": \"x\", \"y\": \"Age\", \"yref\": \"y\"}, {\"ax\": -40, \"ay\": -30, \"font\": {\"size\": 16}, \"showarrow\": false, \"text\": \"<b>Pro-Trade</b>\", \"x\": 0.7985799289916274, \"xref\": \"x\", \"y\": \"Trade\", \"yref\": \"y\"}, {\"ax\": -40, \"ay\": -50, \"font\": {\"size\": 16}, \"showarrow\": false, \"text\": \"<b>Anti-Trade</b>\", \"x\": -0.7985799289916274, \"xref\": \"x\", \"y\": \"Trade\", \"yref\": \"y\"}, {\"ax\": -40, \"ay\": -30, \"font\": {\"size\": 16}, \"showarrow\": false, \"text\": \"<b>Hawkish</b>\", \"x\": 0.7985799289916274, \"xref\": \"x\", \"y\": \"War\", \"yref\": \"y\"}, {\"ax\": -40, \"ay\": -50, \"font\": {\"size\": 16}, \"showarrow\": false, \"text\": \"<b>Pacifistic</b>\", \"x\": -0.7985799289916274, \"xref\": \"x\", \"y\": \"War\", \"yref\": \"y\"}, {\"ax\": -40, \"ay\": -30, \"font\": {\"size\": 16}, \"showarrow\": false, \"text\": \"<b>Masculine</b>\", \"x\": 0.7985799289916274, \"xref\": \"x\", \"y\": \"Gender\", \"yref\": \"y\"}, {\"ax\": -40, \"ay\": -50, \"font\": {\"size\": 16}, \"showarrow\": false, \"text\": \"<b>Feminine</b>\", \"x\": -0.7985799289916274, \"xref\": \"x\", \"y\": \"Gender\", \"yref\": \"y\"}], \"font\": {\"size\": 23}, \"height\": 700, \"legend\": {\"itemsizing\": \"constant\", \"orientation\": \"h\", \"title\": {\"text\": \"Alignment\"}, \"tracegroupgap\": 0, \"x\": 1, \"xanchor\": \"right\", \"y\": 1.07, \"yanchor\": \"bottom\"}, \"margin\": {\"t\": 60}, \"template\": {\"data\": {\"bar\": [{\"error_x\": {\"color\": \"rgb(36,36,36)\"}, \"error_y\": {\"color\": \"rgb(36,36,36)\"}, \"marker\": {\"line\": {\"color\": \"white\", \"width\": 0.5}}, \"type\": \"bar\"}], \"barpolar\": [{\"marker\": {\"line\": {\"color\": \"white\", \"width\": 0.5}}, \"type\": \"barpolar\"}], \"carpet\": [{\"aaxis\": {\"endlinecolor\": \"rgb(36,36,36)\", \"gridcolor\": \"white\", \"linecolor\": \"white\", \"minorgridcolor\": \"white\", \"startlinecolor\": \"rgb(36,36,36)\"}, \"baxis\": {\"endlinecolor\": \"rgb(36,36,36)\", \"gridcolor\": \"white\", \"linecolor\": \"white\", \"minorgridcolor\": \"white\", \"startlinecolor\": \"rgb(36,36,36)\"}, \"type\": \"carpet\"}], \"choropleth\": [{\"colorbar\": {\"outlinewidth\": 1, \"tickcolor\": \"rgb(36,36,36)\", \"ticks\": \"outside\"}, \"type\": \"choropleth\"}], \"contour\": [{\"colorbar\": {\"outlinewidth\": 1, \"tickcolor\": \"rgb(36,36,36)\", \"ticks\": \"outside\"}, \"colorscale\": [[0.0, \"#440154\"], [0.1111111111111111, \"#482878\"], [0.2222222222222222, \"#3e4989\"], [0.3333333333333333, \"#31688e\"], [0.4444444444444444, \"#26828e\"], [0.5555555555555556, \"#1f9e89\"], [0.6666666666666666, \"#35b779\"], [0.7777777777777778, \"#6ece58\"], [0.8888888888888888, \"#b5de2b\"], [1.0, \"#fde725\"]], \"type\": \"contour\"}], \"contourcarpet\": [{\"colorbar\": {\"outlinewidth\": 1, \"tickcolor\": \"rgb(36,36,36)\", \"ticks\": \"outside\"}, \"type\": \"contourcarpet\"}], \"heatmap\": [{\"colorbar\": {\"outlinewidth\": 1, \"tickcolor\": \"rgb(36,36,36)\", \"ticks\": \"outside\"}, \"colorscale\": [[0.0, \"#440154\"], [0.1111111111111111, \"#482878\"], [0.2222222222222222, \"#3e4989\"], [0.3333333333333333, \"#31688e\"], [0.4444444444444444, \"#26828e\"], [0.5555555555555556, \"#1f9e89\"], [0.6666666666666666, \"#35b779\"], [0.7777777777777778, \"#6ece58\"], [0.8888888888888888, \"#b5de2b\"], [1.0, \"#fde725\"]], \"type\": \"heatmap\"}], \"heatmapgl\": [{\"colorbar\": {\"outlinewidth\": 1, \"tickcolor\": \"rgb(36,36,36)\", \"ticks\": \"outside\"}, \"colorscale\": [[0.0, \"#440154\"], [0.1111111111111111, \"#482878\"], [0.2222222222222222, \"#3e4989\"], [0.3333333333333333, \"#31688e\"], [0.4444444444444444, \"#26828e\"], [0.5555555555555556, \"#1f9e89\"], [0.6666666666666666, \"#35b779\"], [0.7777777777777778, \"#6ece58\"], [0.8888888888888888, \"#b5de2b\"], [1.0, \"#fde725\"]], \"type\": \"heatmapgl\"}], \"histogram\": [{\"marker\": {\"line\": {\"color\": \"white\", \"width\": 0.6}}, \"type\": \"histogram\"}], \"histogram2d\": [{\"colorbar\": {\"outlinewidth\": 1, \"tickcolor\": \"rgb(36,36,36)\", \"ticks\": \"outside\"}, \"colorscale\": [[0.0, \"#440154\"], [0.1111111111111111, \"#482878\"], [0.2222222222222222, \"#3e4989\"], [0.3333333333333333, \"#31688e\"], [0.4444444444444444, \"#26828e\"], [0.5555555555555556, \"#1f9e89\"], [0.6666666666666666, \"#35b779\"], [0.7777777777777778, \"#6ece58\"], [0.8888888888888888, \"#b5de2b\"], [1.0, \"#fde725\"]], \"type\": \"histogram2d\"}], \"histogram2dcontour\": [{\"colorbar\": {\"outlinewidth\": 1, \"tickcolor\": \"rgb(36,36,36)\", \"ticks\": \"outside\"}, \"colorscale\": [[0.0, \"#440154\"], [0.1111111111111111, \"#482878\"], [0.2222222222222222, \"#3e4989\"], [0.3333333333333333, \"#31688e\"], [0.4444444444444444, \"#26828e\"], [0.5555555555555556, \"#1f9e89\"], [0.6666666666666666, \"#35b779\"], [0.7777777777777778, \"#6ece58\"], [0.8888888888888888, \"#b5de2b\"], [1.0, \"#fde725\"]], \"type\": \"histogram2dcontour\"}], \"mesh3d\": [{\"colorbar\": {\"outlinewidth\": 1, \"tickcolor\": \"rgb(36,36,36)\", \"ticks\": \"outside\"}, \"type\": \"mesh3d\"}], \"parcoords\": [{\"line\": {\"colorbar\": {\"outlinewidth\": 1, \"tickcolor\": \"rgb(36,36,36)\", \"ticks\": \"outside\"}}, \"type\": \"parcoords\"}], \"pie\": [{\"automargin\": true, \"type\": \"pie\"}], \"scatter\": [{\"marker\": {\"colorbar\": {\"outlinewidth\": 1, \"tickcolor\": \"rgb(36,36,36)\", \"ticks\": \"outside\"}}, \"type\": \"scatter\"}], \"scatter3d\": [{\"line\": {\"colorbar\": {\"outlinewidth\": 1, \"tickcolor\": \"rgb(36,36,36)\", \"ticks\": \"outside\"}}, \"marker\": {\"colorbar\": {\"outlinewidth\": 1, \"tickcolor\": \"rgb(36,36,36)\", \"ticks\": \"outside\"}}, \"type\": \"scatter3d\"}], \"scattercarpet\": [{\"marker\": {\"colorbar\": {\"outlinewidth\": 1, \"tickcolor\": \"rgb(36,36,36)\", \"ticks\": \"outside\"}}, \"type\": \"scattercarpet\"}], \"scattergeo\": [{\"marker\": {\"colorbar\": {\"outlinewidth\": 1, \"tickcolor\": \"rgb(36,36,36)\", \"ticks\": \"outside\"}}, \"type\": \"scattergeo\"}], \"scattergl\": [{\"marker\": {\"colorbar\": {\"outlinewidth\": 1, \"tickcolor\": \"rgb(36,36,36)\", \"ticks\": \"outside\"}}, \"type\": \"scattergl\"}], \"scattermapbox\": [{\"marker\": {\"colorbar\": {\"outlinewidth\": 1, \"tickcolor\": \"rgb(36,36,36)\", \"ticks\": \"outside\"}}, \"type\": \"scattermapbox\"}], \"scatterpolar\": [{\"marker\": {\"colorbar\": {\"outlinewidth\": 1, \"tickcolor\": \"rgb(36,36,36)\", \"ticks\": \"outside\"}}, \"type\": \"scatterpolar\"}], \"scatterpolargl\": [{\"marker\": {\"colorbar\": {\"outlinewidth\": 1, \"tickcolor\": \"rgb(36,36,36)\", \"ticks\": \"outside\"}}, \"type\": \"scatterpolargl\"}], \"scatterternary\": [{\"marker\": {\"colorbar\": {\"outlinewidth\": 1, \"tickcolor\": \"rgb(36,36,36)\", \"ticks\": \"outside\"}}, \"type\": \"scatterternary\"}], \"surface\": [{\"colorbar\": {\"outlinewidth\": 1, \"tickcolor\": \"rgb(36,36,36)\", \"ticks\": \"outside\"}, \"colorscale\": [[0.0, \"#440154\"], [0.1111111111111111, \"#482878\"], [0.2222222222222222, \"#3e4989\"], [0.3333333333333333, \"#31688e\"], [0.4444444444444444, \"#26828e\"], [0.5555555555555556, \"#1f9e89\"], [0.6666666666666666, \"#35b779\"], [0.7777777777777778, \"#6ece58\"], [0.8888888888888888, \"#b5de2b\"], [1.0, \"#fde725\"]], \"type\": \"surface\"}], \"table\": [{\"cells\": {\"fill\": {\"color\": \"rgb(237,237,237)\"}, \"line\": {\"color\": \"white\"}}, \"header\": {\"fill\": {\"color\": \"rgb(217,217,217)\"}, \"line\": {\"color\": \"white\"}}, \"type\": \"table\"}]}, \"layout\": {\"annotationdefaults\": {\"arrowhead\": 0, \"arrowwidth\": 1}, \"coloraxis\": {\"colorbar\": {\"outlinewidth\": 1, \"tickcolor\": \"rgb(36,36,36)\", \"ticks\": \"outside\"}}, \"colorscale\": {\"diverging\": [[0.0, \"rgb(103,0,31)\"], [0.1, \"rgb(178,24,43)\"], [0.2, \"rgb(214,96,77)\"], [0.3, \"rgb(244,165,130)\"], [0.4, \"rgb(253,219,199)\"], [0.5, \"rgb(247,247,247)\"], [0.6, \"rgb(209,229,240)\"], [0.7, \"rgb(146,197,222)\"], [0.8, \"rgb(67,147,195)\"], [0.9, \"rgb(33,102,172)\"], [1.0, \"rgb(5,48,97)\"]], \"sequential\": [[0.0, \"#440154\"], [0.1111111111111111, \"#482878\"], [0.2222222222222222, \"#3e4989\"], [0.3333333333333333, \"#31688e\"], [0.4444444444444444, \"#26828e\"], [0.5555555555555556, \"#1f9e89\"], [0.6666666666666666, \"#35b779\"], [0.7777777777777778, \"#6ece58\"], [0.8888888888888888, \"#b5de2b\"], [1.0, \"#fde725\"]], \"sequentialminus\": [[0.0, \"#440154\"], [0.1111111111111111, \"#482878\"], [0.2222222222222222, \"#3e4989\"], [0.3333333333333333, \"#31688e\"], [0.4444444444444444, \"#26828e\"], [0.5555555555555556, \"#1f9e89\"], [0.6666666666666666, \"#35b779\"], [0.7777777777777778, \"#6ece58\"], [0.8888888888888888, \"#b5de2b\"], [1.0, \"#fde725\"]]}, \"colorway\": [\"#1F77B4\", \"#FF7F0E\", \"#2CA02C\", \"#D62728\", \"#9467BD\", \"#8C564B\", \"#E377C2\", \"#7F7F7F\", \"#BCBD22\", \"#17BECF\"], \"font\": {\"color\": \"rgb(36,36,36)\"}, \"geo\": {\"bgcolor\": \"white\", \"lakecolor\": \"white\", \"landcolor\": \"white\", \"showlakes\": true, \"showland\": true, \"subunitcolor\": \"white\"}, \"hoverlabel\": {\"align\": \"left\"}, \"hovermode\": \"closest\", \"mapbox\": {\"style\": \"light\"}, \"paper_bgcolor\": \"white\", \"plot_bgcolor\": \"white\", \"polar\": {\"angularaxis\": {\"gridcolor\": \"rgb(232,232,232)\", \"linecolor\": \"rgb(36,36,36)\", \"showgrid\": false, \"showline\": true, \"ticks\": \"outside\"}, \"bgcolor\": \"white\", \"radialaxis\": {\"gridcolor\": \"rgb(232,232,232)\", \"linecolor\": \"rgb(36,36,36)\", \"showgrid\": false, \"showline\": true, \"ticks\": \"outside\"}}, \"scene\": {\"xaxis\": {\"backgroundcolor\": \"white\", \"gridcolor\": \"rgb(232,232,232)\", \"gridwidth\": 2, \"linecolor\": \"rgb(36,36,36)\", \"showbackground\": true, \"showgrid\": false, \"showline\": true, \"ticks\": \"outside\", \"zeroline\": false, \"zerolinecolor\": \"rgb(36,36,36)\"}, \"yaxis\": {\"backgroundcolor\": \"white\", \"gridcolor\": \"rgb(232,232,232)\", \"gridwidth\": 2, \"linecolor\": \"rgb(36,36,36)\", \"showbackground\": true, \"showgrid\": false, \"showline\": true, \"ticks\": \"outside\", \"zeroline\": false, \"zerolinecolor\": \"rgb(36,36,36)\"}, \"zaxis\": {\"backgroundcolor\": \"white\", \"gridcolor\": \"rgb(232,232,232)\", \"gridwidth\": 2, \"linecolor\": \"rgb(36,36,36)\", \"showbackground\": true, \"showgrid\": false, \"showline\": true, \"ticks\": \"outside\", \"zeroline\": false, \"zerolinecolor\": \"rgb(36,36,36)\"}}, \"shapedefaults\": {\"fillcolor\": \"black\", \"line\": {\"width\": 0}, \"opacity\": 0.3}, \"ternary\": {\"aaxis\": {\"gridcolor\": \"rgb(232,232,232)\", \"linecolor\": \"rgb(36,36,36)\", \"showgrid\": false, \"showline\": true, \"ticks\": \"outside\"}, \"baxis\": {\"gridcolor\": \"rgb(232,232,232)\", \"linecolor\": \"rgb(36,36,36)\", \"showgrid\": false, \"showline\": true, \"ticks\": \"outside\"}, \"bgcolor\": \"white\", \"caxis\": {\"gridcolor\": \"rgb(232,232,232)\", \"linecolor\": \"rgb(36,36,36)\", \"showgrid\": false, \"showline\": true, \"ticks\": \"outside\"}}, \"title\": {\"x\": 0.05}, \"xaxis\": {\"automargin\": true, \"gridcolor\": \"rgb(232,232,232)\", \"linecolor\": \"rgb(36,36,36)\", \"showgrid\": false, \"showline\": true, \"ticks\": \"outside\", \"title\": {\"standoff\": 15}, \"zeroline\": false, \"zerolinecolor\": \"rgb(36,36,36)\"}, \"yaxis\": {\"automargin\": true, \"gridcolor\": \"rgb(232,232,232)\", \"linecolor\": \"rgb(36,36,36)\", \"showgrid\": false, \"showline\": true, \"ticks\": \"outside\", \"title\": {\"standoff\": 15}, \"zeroline\": false, \"zerolinecolor\": \"rgb(36,36,36)\"}}}, \"width\": 1000, \"xaxis\": {\"anchor\": \"y\", \"domain\": [0.0, 1.0], \"title\": {\"text\": \"Projection\"}}, \"yaxis\": {\"anchor\": \"x\", \"domain\": [0.0, 1.0], \"showline\": false, \"title\": {\"text\": \"\"}, \"type\": \"category\"}},\n",
       "                        {\"responsive\": true}\n",
       "                    ).then(function(){\n",
       "                            \n",
       "var gd = document.getElementById('5cb34e17-f36d-4793-bf52-40e96e03df62');\n",
       "var x = new MutationObserver(function (mutations, observer) {{\n",
       "        var display = window.getComputedStyle(gd).display;\n",
       "        if (!display || display === 'none') {{\n",
       "            console.log([gd, 'removed!']);\n",
       "            Plotly.purge(gd);\n",
       "            observer.disconnect();\n",
       "        }}\n",
       "}});\n",
       "\n",
       "// Listen for the removal of the full notebook cells\n",
       "var notebookContainer = gd.closest('#notebook-container');\n",
       "if (notebookContainer) {{\n",
       "    x.observe(notebookContainer, {childList: true});\n",
       "}}\n",
       "\n",
       "// Listen for the clearing of the current output cell\n",
       "var outputEl = gd.closest('.output');\n",
       "if (outputEl) {{\n",
       "    x.observe(outputEl, {childList: true});\n",
       "}}\n",
       "\n",
       "                        })\n",
       "                };\n",
       "                });\n",
       "            </script>\n",
       "        </div>"
      ]
     },
     "metadata": {},
     "output_type": "display_data"
    }
   ],
   "source": [
    "counts_df.rename({\"alignment\": \"Alignment\"},axis=1,inplace=True)\n",
    "fig = px.scatter(counts_df,\n",
    "                 x=\"projection\",\n",
    "                 color=\"Alignment\",\n",
    "                 size=\"size\",\n",
    "                 hover_data=[\"subreddit\",\"count\",\"label\"],\n",
    "                 y=\"dim\",\n",
    "                 labels=dict(dim=\"\",projection=\"Projection\"))\n",
    "x = abs(max(counts_df[\"projection\"].max(),counts_df[\"projection\"].min().min(),key=abs))*1.2\n",
    "annotations = []\n",
    "\n",
    "for dim_info in dim_dict.values():\n",
    "    print(dim_info.name)\n",
    "    annotations.append(dict(\n",
    "            x=x,\n",
    "            y=dim_info.name,\n",
    "            xref=\"x\",\n",
    "            yref=\"y\",\n",
    "            text=\"<b>{}</b>\".format(dim_info.tags[0]),\n",
    "            showarrow=False,\n",
    "            font=dict(size=16),\n",
    "            ax=-40,\n",
    "            ay=-30\n",
    "        ))    \n",
    "    annotations.append(dict(\n",
    "            x=-x,\n",
    "            y=dim_info.name,\n",
    "            xref=\"x\",\n",
    "            yref=\"y\",\n",
    "            text=f\"<b>{dim_info.tags[1]}</b>\",\n",
    "            showarrow=False,\n",
    "            font=dict(size=16),\n",
    "            ax=-40,\n",
    "            ay=-50\n",
    "        ))\n",
    "args = {\n",
    "    \"font\":{\"size\": 23},\n",
    "    \"height\": 700,\n",
    "    \"width\": 1000,    \n",
    "    \"template\":\"simple_white\",\n",
    "    \"yaxis_type\": 'category',\n",
    "    \"yaxis\":{\"showline\": False},\n",
    "    \"annotations\":annotations,\n",
    "    \"legend\": {\"orientation\":\"h\",\n",
    "              \"yanchor\":\"bottom\",\n",
    "                \"y\":1.07,\n",
    "                \"xanchor\":\"right\",\n",
    "                \"x\":1}\n",
    "}\n",
    "    \n",
    "fig.update_layout(**args)\n",
    "with open(\"visualizations/political_dimensions/dimension_validation.pdf\", \"wb\") as f:\n",
    "    f.write(scope.transform(fig, format=\"pdf\"))\n",
    "fig.write_html(\"visualizations/political_dimensions/dimension_validation.html\")\n",
    "fig.show()\n"
   ]
  },
  {
   "cell_type": "code",
   "execution_count": 57,
   "metadata": {},
   "outputs": [
    {
     "name": "stdout",
     "output_type": "stream",
     "text": [
      "\\begin{table}\n",
      "\\centering\n",
      "\\caption{Dimension Validation Against Subreddits with Representative Words.}\n",
      "\\label{table:dimension_validation}\n",
      "\\begin{tabular}{lrrr}\n",
      "\\toprule\n",
      "alignment & Aligned &     NA & Opposing \\\\\n",
      "dim           &         &        &          \\\\\n",
      "\\midrule\n",
      "Age           &   0.255 &  0.029 &   -0.211 \\\\\n",
      "Birth Control &   0.380 &  0.068 &   -0.150 \\\\\n",
      "Gender        &   0.124 & -0.151 &   -0.305 \\\\\n",
      "Gun Control   &   0.125 & -0.098 &   -0.485 \\\\\n",
      "Ideology      &   0.295 &  0.015 &   -0.325 \\\\\n",
      "Religiosity   &   0.199 &  0.064 &   -0.186 \\\\\n",
      "Trade         &   0.058 & -0.189 &   -0.200 \\\\\n",
      "War           &   0.380 &  0.003 &   -0.391 \\\\\n",
      "Mean          &   0.227 & -0.032 &   -0.282 \\\\\n",
      "\\bottomrule\n",
      "\\end{tabular}\n",
      "\\end{table}\n",
      "\n"
     ]
    }
   ],
   "source": [
    "# print(counts_df.groupby([\"dim\",\"label\"])[[\"dim\",\"label\",\"projection\"]].mean()#.to_latex())\n",
    "summary = counts_df.groupby([\"dim\",\"alignment\"]).mean().reset_index().pivot(index=\"dim\",\n",
    "                                                                  columns=\"Alignment\", \n",
    "                                                                  values=\"projection\")\n",
    "summary.loc[\"Mean\"] = summary.mean()\n",
    "\n",
    "format_x = lambda x : f\"{x:.3f}\"\n",
    "print(summary.to_latex(caption=\"Dimension Validation Against Subreddits with Representative Words.\",\n",
    "                 label=\"table:dimension_validation\",\n",
    "                formatters=[format_x,format_x,format_x]\n",
    "                ))\n"
   ]
  },
  {
   "cell_type": "code",
   "execution_count": null,
   "metadata": {},
   "outputs": [],
   "source": []
  }
 ],
 "metadata": {
  "kernelspec": {
   "display_name": "Python 3",
   "language": "python",
   "name": "python3"
  },
  "language_info": {
   "codemirror_mode": {
    "name": "ipython",
    "version": 3
   },
   "file_extension": ".py",
   "mimetype": "text/x-python",
   "name": "python",
   "nbconvert_exporter": "python",
   "pygments_lexer": "ipython3",
   "version": "3.7.7"
  }
 },
 "nbformat": 4,
 "nbformat_minor": 4
}
