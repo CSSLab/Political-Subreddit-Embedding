{
 "cells": [
  {
   "cell_type": "markdown",
   "metadata": {},
   "source": [
    "# Dimension Validation\n",
    "\n",
    "Goal: For each dimension, take words that aligns with and oppose the dimension. Collect all the subreddits that use those word in the comments and take the 50 subreddits that use those words the most. Hand label the subreddits as pro, against or unclear for that dimension and project them onto the dimension. See if the political dimension picks up on the differences.\n",
    "\n",
    "* Ideology Words:\n",
    "    * Left Words: progressive, socialism\n",
    "    * Right Words: conservative, libtard (gotta pick up those alt right ones), based\n",
    "* Religious: \n",
    "    * Religious: bible, jesus, pray, church, mosque\n",
    "    * Secular: atheism\n",
    "* Birth Control Words: abortion, feminism, feminazi, \"birth control\"\n",
    "* Gun Control Words: \n",
    "    * More Regulaton: \"gun control\", \"gun nuts\", \"gun regulation\"\n",
    "    * Less Regulation: \"gun rights\", \"second amendment\", \"2 amendment\"\n",
    "* Age Words: \n",
    "    * Older: career, family, retirement, mortgage\n",
    "    * Younger: \"high school\", homework, internship, crush\n",
    "* Globalism Words: \"free trade\", \"globalism\", neoliberal, Friedman\n",
    "* War Words: war, troops, veterans, 9/11, \"drone strike\", \"war on terror\"\n"
   ]
  },
  {
   "cell_type": "code",
   "execution_count": 9,
   "metadata": {},
   "outputs": [],
   "source": [
    "import findspark\n",
    "findspark.init(\"/h/224/cameron/spark-3.0.0-preview2-bin-hadoop2.7\")\n",
    "from utils import load_embedding, parse_tup, cos_sim, cos_dist\n",
    "from kaleido.scopes.plotly import PlotlyScope\n",
    "from pyspark.sql import SparkSession\n",
    "from tqdm.auto import tqdm\n",
    "from datetime import datetime\n",
    "import plotly.express as px\n",
    "import plotly.express as go\n",
    "import pandas as pd\n",
    "import numpy as np\n",
    "scope = PlotlyScope()\n",
    "left_candidates = [\"JoeBiden\",\"SandersForPresident\",\"BaemyKlobaechar\",\"ElizabethWarren\",\"Pete_Buttigieg\",\"YangForPresidentHQ\"]\n",
    "mapping = {}\n",
    "for a,b in zip(left_candidates,px.colors.qualitative.Plotly):\n",
    "    mapping[a] = b"
   ]
  },
  {
   "cell_type": "code",
   "execution_count": 2,
   "metadata": {},
   "outputs": [
    {
     "name": "stdout",
     "output_type": "stream",
     "text": [
      "root\n",
      " |-- author: string (nullable = false)\n",
      " |-- subreddit: string (nullable = false)\n",
      " |-- body: string (nullable = false)\n",
      " |-- created_utc: integer (nullable = true)\n",
      "\n"
     ]
    }
   ],
   "source": [
    "spark = SparkSession.builder.getOrCreate()\n",
    "spark.sparkContext.getConf().getAll()\n",
    "spark.catalog.clearCache()\n",
    "# Load the Parquet data\n",
    "comments = spark.read.load(\"/comments_2019.parquet\").fillna(\"\")\n",
    "subreddits = spark.read.load(\"dataframes/subreddits.parquet\")\n",
    "comments = comments.join(subreddits, ['subreddit'], 'leftsemi')\n",
    "subreddits = subreddits.selectExpr(\"subreddit as subreddit\",\"count as totalCount\")\n",
    "cols = ['author','subreddit','body','created_utc']\n",
    "comments = comments.select(*cols)\n",
    "comments.printSchema()"
   ]
  },
  {
   "cell_type": "markdown",
   "metadata": {},
   "source": [
    "## Find Top 30\n",
    "\n",
    "Top 30 subreddits that use representative words with the highest proportion"
   ]
  },
  {
   "cell_type": "code",
   "execution_count": 3,
   "metadata": {},
   "outputs": [
    {
     "data": {
      "application/vnd.jupyter.widget-view+json": {
       "model_id": "1c766553a29e4685b5cbfece370b63ca",
       "version_major": 2,
       "version_minor": 0
      },
      "text/plain": [
       "HBox(children=(FloatProgress(value=0.0, max=7.0), HTML(value='')))"
      ]
     },
     "metadata": {},
     "output_type": "display_data"
    },
    {
     "name": "stdout",
     "output_type": "stream",
     "text": [
      "\n"
     ]
    },
    {
     "data": {
      "text/html": [
       "<div>\n",
       "<style scoped>\n",
       "    .dataframe tbody tr th:only-of-type {\n",
       "        vertical-align: middle;\n",
       "    }\n",
       "\n",
       "    .dataframe tbody tr th {\n",
       "        vertical-align: top;\n",
       "    }\n",
       "\n",
       "    .dataframe thead th {\n",
       "        text-align: right;\n",
       "    }\n",
       "</style>\n",
       "<table border=\"1\" class=\"dataframe\">\n",
       "  <thead>\n",
       "    <tr style=\"text-align: right;\">\n",
       "      <th></th>\n",
       "      <th>subreddit</th>\n",
       "      <th>count</th>\n",
       "      <th>proportion</th>\n",
       "      <th>dim</th>\n",
       "      <th>label</th>\n",
       "    </tr>\n",
       "  </thead>\n",
       "  <tbody>\n",
       "    <tr>\n",
       "      <th>0</th>\n",
       "      <td>AquaSama</td>\n",
       "      <td>16607</td>\n",
       "      <td>0.540153</td>\n",
       "      <td>Religiosity</td>\n",
       "      <td>NaN</td>\n",
       "    </tr>\n",
       "    <tr>\n",
       "      <th>1</th>\n",
       "      <td>PrayerRequests</td>\n",
       "      <td>4812</td>\n",
       "      <td>0.301202</td>\n",
       "      <td>Religiosity</td>\n",
       "      <td>Religious</td>\n",
       "    </tr>\n",
       "    <tr>\n",
       "      <th>2</th>\n",
       "      <td>Anglicanism</td>\n",
       "      <td>6392</td>\n",
       "      <td>0.223169</td>\n",
       "      <td>Religiosity</td>\n",
       "      <td>Religious</td>\n",
       "    </tr>\n",
       "    <tr>\n",
       "      <th>3</th>\n",
       "      <td>mormon</td>\n",
       "      <td>26108</td>\n",
       "      <td>0.215051</td>\n",
       "      <td>Religiosity</td>\n",
       "      <td>Religious</td>\n",
       "    </tr>\n",
       "    <tr>\n",
       "      <th>4</th>\n",
       "      <td>RPChristians</td>\n",
       "      <td>2151</td>\n",
       "      <td>0.206311</td>\n",
       "      <td>Religiosity</td>\n",
       "      <td>Religious</td>\n",
       "    </tr>\n",
       "    <tr>\n",
       "      <th>...</th>\n",
       "      <td>...</td>\n",
       "      <td>...</td>\n",
       "      <td>...</td>\n",
       "      <td>...</td>\n",
       "      <td>...</td>\n",
       "    </tr>\n",
       "    <tr>\n",
       "      <th>25</th>\n",
       "      <td>PublishProtocol</td>\n",
       "      <td>3380</td>\n",
       "      <td>0.220325</td>\n",
       "      <td>War</td>\n",
       "      <td>NaN</td>\n",
       "    </tr>\n",
       "    <tr>\n",
       "      <th>26</th>\n",
       "      <td>dwarffortress</td>\n",
       "      <td>21998</td>\n",
       "      <td>0.219831</td>\n",
       "      <td>War</td>\n",
       "      <td>NaN</td>\n",
       "    </tr>\n",
       "    <tr>\n",
       "      <th>27</th>\n",
       "      <td>vmware</td>\n",
       "      <td>10203</td>\n",
       "      <td>0.215982</td>\n",
       "      <td>War</td>\n",
       "      <td>NaN</td>\n",
       "    </tr>\n",
       "    <tr>\n",
       "      <th>28</th>\n",
       "      <td>flairwars</td>\n",
       "      <td>5208</td>\n",
       "      <td>0.206626</td>\n",
       "      <td>War</td>\n",
       "      <td>NaN</td>\n",
       "    </tr>\n",
       "    <tr>\n",
       "      <th>29</th>\n",
       "      <td>de_IAmA</td>\n",
       "      <td>4439</td>\n",
       "      <td>0.205348</td>\n",
       "      <td>War</td>\n",
       "      <td>NaN</td>\n",
       "    </tr>\n",
       "  </tbody>\n",
       "</table>\n",
       "<p>210 rows × 5 columns</p>\n",
       "</div>"
      ],
      "text/plain": [
       "          subreddit  count  proportion          dim      label\n",
       "0          AquaSama  16607    0.540153  Religiosity        NaN\n",
       "1    PrayerRequests   4812    0.301202  Religiosity  Religious\n",
       "2       Anglicanism   6392    0.223169  Religiosity  Religious\n",
       "3            mormon  26108    0.215051  Religiosity  Religious\n",
       "4      RPChristians   2151    0.206311  Religiosity  Religious\n",
       "..              ...    ...         ...          ...        ...\n",
       "25  PublishProtocol   3380    0.220325          War        NaN\n",
       "26    dwarffortress  21998    0.219831          War        NaN\n",
       "27           vmware  10203    0.215982          War        NaN\n",
       "28        flairwars   5208    0.206626          War        NaN\n",
       "29          de_IAmA   4439    0.205348          War        NaN\n",
       "\n",
       "[210 rows x 5 columns]"
      ]
     },
     "execution_count": 3,
     "metadata": {},
     "output_type": "execute_result"
    }
   ],
   "source": [
    "import pyspark.sql.functions as f\n",
    "\n",
    "dim_names = [\"Ideology\",\"Religiosity\",\"Birth Control\",\"Gun Control\",\"Age\",\"Trade\",\"War\"]\n",
    "word_pairs = [[\"progressive\",\"conservative\",\"libtard\",\"socialism\",\"capitalism\",\"based\"],\n",
    "              [\"bible\", \"jesus\", \"atheism\", \"pray\", \"church\", \"mosque\"],\n",
    "              [\"abortion\", \"feminism\", \"feminazi\", \"birth control\"],\n",
    "              [\"gun control\", \"gun rights\", \"second amendment\", \"2 amendment\"],\n",
    "              [\"career\", \"family\", \"retirement\", \"mortgage\", \"high school\", \"homework\", \"internship\",\"crush\"],\n",
    "              [\"free trade\", \"globalism\",\"neoliberal\",\"friedman\"],\n",
    "              [\"war\", \"troops\", \"veterans\", \"9/11\", \"drone strike\",\"war on terror\"]]\n",
    "\n",
    "try:\n",
    "    counts_df = pd.read_csv(\"external_datasets/validation/dimension_validation_2.csv\",index_col=0)\n",
    "except:\n",
    "    counts_df = pd.DataFrame(columns=[\"subreddit\",\"count\",\"proportion\",\"dim\",\"label\"])\n",
    "#     counts_df.to_csv('external_datasets/validation/dimension_validation_2.csv')\n",
    "\n",
    "for name,words in tqdm(list(zip(dim_names,word_pairs))):\n",
    "    if not name in list(counts_df[\"dim\"]):\n",
    "        print(name,words)\n",
    "        top_30 = comments[comments['body'].rlike('|'.join(words))].groupBy(\"subreddit\").count()\n",
    "        top_30 = top_30.join(subreddits, on=['subreddit'], how='left')\n",
    "        top_30 = top_30.withColumn(\"proportion\", (f.col(\"count\") / f.col(\"totalCount\")))\n",
    "        top_30_df = top_30.orderBy('proportion', ascending=False).limit(30).select(*[\"subreddit\",\"count\",\"proportion\"]).toPandas()\n",
    "        top_30.unpersist()\n",
    "        top_30_df[\"dim\"],top_30_df[\"label\"] = name,\"NA\"\n",
    "        top_30_df = top_30_df.reset_index()\n",
    "        top_30_df.to_csv('external_datasets/validation/dimension_validation_2.csv',index=False,mode='a', header=False)\n",
    "        \n",
    "counts_df = pd.read_csv(\"external_datasets/validation/dimension_validation_2.csv\",index_col=0)\n",
    "counts_df\n"
   ]
  },
  {
   "cell_type": "markdown",
   "metadata": {},
   "source": [
    "## Label Dimensions\n",
    "\n",
    "Done in vscode...."
   ]
  },
  {
   "cell_type": "markdown",
   "metadata": {},
   "source": [
    "## Dimension Validation"
   ]
  },
  {
   "cell_type": "code",
   "execution_count": 4,
   "metadata": {},
   "outputs": [],
   "source": [
    "embedding = load_embedding(\"/h/224/cameron/Political-Subreddit-Embedding/trained_embeddings/vecs_0.0028_15.0.txt\",split=False)\n"
   ]
  },
  {
   "cell_type": "code",
   "execution_count": 5,
   "metadata": {},
   "outputs": [],
   "source": [
    "from dataclasses import dataclass\n",
    "\n",
    "@dataclass\n",
    "class Dimension:\n",
    "    name: str\n",
    "    subreddits: list\n",
    "    tags: tuple\n",
    "        \n",
    "def calculate_dim(dimensions,e,return_stats=False):\n",
    "    \"\"\"\n",
    "        Takes in a list of tuples and calcualtes the dimension from ap -> a. IE if we have the subreddits AskMen (a) and\n",
    "        AskWomen (ap). The \"masculine\" vector transformation is a - ap.\n",
    "        Returns the average transformation and a tuple containing the mean and std deviation similarity between the individual \n",
    "        transformations.\n",
    "    \"\"\"\n",
    "    dimensions = dimensions if type(dimensions) is list else [dimensions]\n",
    "    calc_trans = lambda vec_a,vec_ap : vec_a - vec_ap \n",
    "    transformations = np.array([calc_trans(e.loc[a],e.loc[ap]) for (a,ap) in dimensions])\n",
    "    transformation = transformations.flatten() if transformations.shape[0] == 1 else np.mean(transformations,axis=0)\n",
    "    if return_stats:\n",
    "        sims = [cos_sim(t1,t2)  for t1 in list(transformations) for t2 in list(transformations) if not np.all(t1==t2)]\n",
    "        return transformation,(np.mean(sims),np.std(sims))\n",
    "    return transformation\n",
    "\n",
    "project_dim = lambda dim,sub,e : cos_sim(dim,e.loc[sub])"
   ]
  },
  {
   "cell_type": "markdown",
   "metadata": {},
   "source": [
    "## Validate Dimensions"
   ]
  },
  {
   "cell_type": "code",
   "execution_count": 13,
   "metadata": {},
   "outputs": [],
   "source": [
    "religious_subs = [(\"Christianity\",\"exchristian\"),\n",
    "                  (\"TraditionalCatholics\",\"excatholic\"),\n",
    "                  (\"lds\",\"exmormon\"),(\"mormon\",\"exmormon\"),(\"islam\",\"exmuslim\")]\n",
    "\n",
    "ideological_subs =[(\"Conservative\",\"progressive\"),\n",
    "                   (\"Republican\",\"democrats\"),\n",
    "                   (\"conservatives\",\"SocialDemocracy\"),\n",
    "                   (\"TheNewRight\",\"WeAreNotAsking\"),\n",
    "                   (\"neoliberal\",\"dsa\"),\n",
    "                   (\"Capitalism\",\"capitalism_in_decay\"),\n",
    "                   (\"walkaway\",\"LateStageImperialism\")]\n",
    "\n",
    "bc_subs = [(\"prolife\",\"prochoice\"),\n",
    "           (\"prolife\",\"birthcontrol\")]\n",
    "\n",
    "gc_subs= [(\"Firearms\",\"GunsAreCool\"),(\"progun\",\"GunsAreCool\")]\n",
    "age_subs = [(\"RedditForGrownups\",\"teenagers\"),\n",
    "            (\"RedditForGrownups\",\"teenagersnew\")]\n",
    "\n",
    "war_subs = [(\"CredibleDefense\",\"EndlessWar\"),\n",
    "            (\"WarCollege\",\"EndlessWar\"),\n",
    "            (\"Intelligence\",\"EndlessWar\")]\n",
    "\n",
    "glob_subs = [(\"neoliberal\",\"EnoughLibertarianSpam\"),\n",
    "             (\"Economics\",\"capitalism_in_decay\"),\n",
    "             (\"Libertarian\",\"EnoughLibertarianSpam\")\n",
    "            ]\n",
    "\n",
    "\n",
    "religious_dim = Dimension(\"Religiosity\",religious_subs,(\"Religious\",\"Secular\"))\n",
    "ideological_dim = Dimension(\"Ideology\",ideological_subs,(\"Conservativet\",\"Progressive\"))\n",
    "bc_dim = Dimension(\"Birth Control\",bc_subs,(\"Pro-Life\",\"Pro-Choice\"))\n",
    "gc_dim = Dimension(\"Gun Control\",gc_subs,(\"Less Regulation\",\"More Regulation\"))\n",
    "age_dim = Dimension(\"Age\",age_subs,(\"Older\",\"Younger\"))\n",
    "war_dim = Dimension(\"War\",war_subs,(\"Hawkish\",\"Pacifistic\"))\n",
    "glob_dim = Dimension(\"Trade\",glob_subs,(\"Pro-Trade\",\"Anti-Trade\"))\n",
    "\n",
    "dim_dict = {\n",
    "    \"Ideology\": ideological_dim,\n",
    "    \"Religiosity\": bc_dim,\n",
    "    \"Birth Control\": ideological_dim, \n",
    "    \"Gun Control\": gc_dim,\n",
    "    \"Age\": age_dim,\n",
    "    \"Trade\": glob_dim,\n",
    "    \"War\": war_dim\n",
    "}"
   ]
  },
  {
   "cell_type": "code",
   "execution_count": 18,
   "metadata": {
    "scrolled": true
   },
   "outputs": [
    {
     "data": {
      "text/html": [
       "<div>\n",
       "<style scoped>\n",
       "    .dataframe tbody tr th:only-of-type {\n",
       "        vertical-align: middle;\n",
       "    }\n",
       "\n",
       "    .dataframe tbody tr th {\n",
       "        vertical-align: top;\n",
       "    }\n",
       "\n",
       "    .dataframe thead th {\n",
       "        text-align: right;\n",
       "    }\n",
       "</style>\n",
       "<table border=\"1\" class=\"dataframe\">\n",
       "  <thead>\n",
       "    <tr style=\"text-align: right;\">\n",
       "      <th></th>\n",
       "      <th>subreddit</th>\n",
       "      <th>count</th>\n",
       "      <th>proportion</th>\n",
       "      <th>dim</th>\n",
       "      <th>label</th>\n",
       "      <th>projection</th>\n",
       "      <th>size</th>\n",
       "      <th>aligned</th>\n",
       "    </tr>\n",
       "  </thead>\n",
       "  <tbody>\n",
       "    <tr>\n",
       "      <th>29</th>\n",
       "      <td>de_IAmA</td>\n",
       "      <td>4439</td>\n",
       "      <td>0.205348</td>\n",
       "      <td>War</td>\n",
       "      <td>NA</td>\n",
       "      <td>0.128284</td>\n",
       "      <td>12.116019</td>\n",
       "      <td>NA</td>\n",
       "    </tr>\n",
       "    <tr>\n",
       "      <th>15</th>\n",
       "      <td>LeftWithoutEdge</td>\n",
       "      <td>518</td>\n",
       "      <td>0.253673</td>\n",
       "      <td>War</td>\n",
       "      <td>Pacifistic</td>\n",
       "      <td>-0.271018</td>\n",
       "      <td>9.016808</td>\n",
       "      <td>Opposed</td>\n",
       "    </tr>\n",
       "    <tr>\n",
       "      <th>14</th>\n",
       "      <td>resumes</td>\n",
       "      <td>17206</td>\n",
       "      <td>0.254448</td>\n",
       "      <td>War</td>\n",
       "      <td>NA</td>\n",
       "      <td>0.112801</td>\n",
       "      <td>14.070624</td>\n",
       "      <td>NA</td>\n",
       "    </tr>\n",
       "    <tr>\n",
       "      <th>16</th>\n",
       "      <td>Warts</td>\n",
       "      <td>2866</td>\n",
       "      <td>0.253449</td>\n",
       "      <td>War</td>\n",
       "      <td>NA</td>\n",
       "      <td>-0.087871</td>\n",
       "      <td>11.484823</td>\n",
       "      <td>NA</td>\n",
       "    </tr>\n",
       "    <tr>\n",
       "      <th>17</th>\n",
       "      <td>BeckleyOnReddit</td>\n",
       "      <td>1</td>\n",
       "      <td>0.250000</td>\n",
       "      <td>War</td>\n",
       "      <td>NA</td>\n",
       "      <td>-0.077690</td>\n",
       "      <td>0.000000</td>\n",
       "      <td>NA</td>\n",
       "    </tr>\n",
       "  </tbody>\n",
       "</table>\n",
       "</div>"
      ],
      "text/plain": [
       "          subreddit  count  proportion  dim       label  projection  \\\n",
       "29          de_IAmA   4439    0.205348  War          NA    0.128284   \n",
       "15  LeftWithoutEdge    518    0.253673  War  Pacifistic   -0.271018   \n",
       "14          resumes  17206    0.254448  War          NA    0.112801   \n",
       "16            Warts   2866    0.253449  War          NA   -0.087871   \n",
       "17  BeckleyOnReddit      1    0.250000  War          NA   -0.077690   \n",
       "\n",
       "         size  aligned  \n",
       "29  12.116019       NA  \n",
       "15   9.016808  Opposed  \n",
       "14  14.070624       NA  \n",
       "16  11.484823       NA  \n",
       "17   0.000000       NA  "
      ]
     },
     "execution_count": 18,
     "metadata": {},
     "output_type": "execute_result"
    }
   ],
   "source": [
    "def get_projection(**kwargs):\n",
    "    sub = kwargs[\"subreddit\"]\n",
    "    dim = dim_dict[kwargs[\"dim\"]]\n",
    "    aligned = \"Aligned\" if kwargs[\"label\"] == dim.tags[0] else \"Opposed\" if kwargs[\"label\"] == dim.tags[1] else \"NA\"\n",
    "    dim_vec = calculate_dim(dim.subreddits,embedding)\n",
    "    return project_dim(dim_vec,sub,embedding),aligned\n",
    "counts_df[[\"projection\",\"aligned\"]] = counts_df.apply(lambda x : get_projection(**x),axis=1,result_type=\"expand\")\n",
    "counts_df = counts_df.fillna(\"NA\").sort_values(\"dim\",ascending=False)\n",
    "counts_df[\"size\"] = np.log2(counts_df[\"count\"])\n",
    "counts_df.head()"
   ]
  },
  {
   "cell_type": "code",
   "execution_count": 21,
   "metadata": {
    "scrolled": false
   },
   "outputs": [
    {
     "data": {
      "application/vnd.plotly.v1+json": {
       "config": {
        "plotlyServerURL": "https://plot.ly"
       },
       "data": [
        {
         "customdata": [
          [
           "de_IAmA",
           4439
          ],
          [
           "resumes",
           17206
          ],
          [
           "Warts",
           2866
          ],
          [
           "BeckleyOnReddit",
           1
          ],
          [
           "HardwareSwapUK",
           11581
          ],
          [
           "Newark",
           1503
          ],
          [
           "Cash4Cash",
           6788
          ],
          [
           "toyexchange",
           2693
          ],
          [
           "PublishProtocol",
           3380
          ],
          [
           "dwarffortress",
           21998
          ],
          [
           "vmware",
           10203
          ],
          [
           "flairwars",
           5208
          ],
          [
           "IronThroneRP",
           11616
          ],
          [
           "HistoryWhatIf",
           7014
          ],
          [
           "unknownvideos",
           4219
          ],
          [
           "rwbyRP",
           6824
          ],
          [
           "GCTrading",
           9297
          ],
          [
           "tud",
           1
          ],
          [
           "ClashOfClansRecruit",
           23264
          ],
          [
           "textfriends",
           3792
          ],
          [
           "funnyvideos",
           3700
          ],
          [
           "AsianLadyBonerGW",
           5095
          ],
          [
           "RandomActsOfBlowJob",
           90243
          ],
          [
           "awoiafrp",
           8845
          ],
          [
           "Bitwarden",
           2964
          ],
          [
           "StrawHatRPG",
           8061
          ],
          [
           "DebateCommunism",
           415
          ],
          [
           "BasicIncome",
           281
          ],
          [
           "Argenpol",
           114
          ],
          [
           "PoliticalCompass",
           219
          ],
          [
           "ndp",
           85
          ],
          [
           "DebateAnarchism",
           96
          ],
          [
           "LeftWingMaleAdvocates",
           78
          ],
          [
           "brasilnoticias",
           240
          ],
          [
           "lostgeneration",
           1345
          ],
          [
           "canadaleft",
           80
          ],
          [
           "amherst",
           1
          ],
          [
           "swoleacceptance",
           1443
          ],
          [
           "jesuschristreddit",
           3159
          ],
          [
           "AquaSama",
           16607
          ],
          [
           "DebateAChristian",
           7223
          ],
          [
           "AskAChristian",
           7103
          ],
          [
           "CapitalismVSocialism",
           72803
          ],
          [
           "Fairfield",
           2
          ],
          [
           "InsiderMemeTrading",
           5549
          ],
          [
           "DebateAnarchism",
           2525
          ],
          [
           "CineShots",
           2373
          ],
          [
           "DebateCommunism",
           9930
          ],
          [
           "PublishProtocol",
           4028
          ],
          [
           "blockmason",
           2148
          ],
          [
           "faireumofficial",
           1238
          ],
          [
           "MoviePosterPorn",
           1964
          ],
          [
           "KCL",
           4
          ],
          [
           "ICOAnalysis",
           2190
          ],
          [
           "AskConservatives",
           5228
          ],
          [
           "AskALiberal",
           23031
          ],
          [
           "Crypto_General",
           1102
          ],
          [
           "askaconservative",
           9511
          ],
          [
           "VirginiaPolitics",
           309
          ],
          [
           "stolaf",
           1
          ],
          [
           "Virginia",
           696
          ],
          [
           "ColoradoPolitics",
           131
          ],
          [
           "scotus",
           180
          ],
          [
           "politicsdebate",
           102
          ],
          [
           "gunpolitics",
           6710
          ],
          [
           "blacksburg",
           1
          ],
          [
           "PoliticalDiscussion",
           1851
          ],
          [
           "California_Politics",
           126
          ],
          [
           "PoliticalOpinions",
           95
          ],
          [
           "TexasPolitics",
           290
          ],
          [
           "Alabama",
           1047
          ],
          [
           "GenderCriticalGuys",
           580
          ],
          [
           "PoliticalOpinions",
           420
          ],
          [
           "politicsdebate",
           356
          ],
          [
           "OneY",
           283
          ],
          [
           "childfree",
           26507
          ],
          [
           "mormonpolitics",
           420
          ],
          [
           "Abortiondebate",
           42203
          ],
          [
           "amipregnant",
           955
          ],
          [
           "Kent",
           7
          ],
          [
           "AskFeminists",
           11331
          ],
          [
           "LeftWingMaleAdvocates",
           1502
          ],
          [
           "polyamoryR4R",
           1488
          ],
          [
           "SDSMT",
           3
          ],
          [
           "FIREUK",
           2283
          ],
          [
           "jamescook",
           1
          ],
          [
           "tud",
           1
          ],
          [
           "claremontcolleges",
           8
          ],
          [
           "funkoswap",
           13567
          ],
          [
           "colum",
           5
          ],
          [
           "asshole",
           16823
          ],
          [
           "HolyCross",
           1
          ],
          [
           "Hairy",
           3266
          ],
          [
           "iwanttobeher",
           14329
          ],
          [
           "Fairfield",
           4
          ],
          [
           "industrialized",
           12828
          ],
          [
           "JUSTNOFAMILY",
           25056
          ]
         ],
         "hovertemplate": "label=NA<br>Projection=%{x}<br>=%{y}<br>size=%{marker.size}<br>subreddit=%{customdata[0]}<br>count=%{customdata[1]}<extra></extra>",
         "legendgroup": "NA",
         "marker": {
          "color": "#636efa",
          "size": [
           12.116018993325094,
           14.070624122430266,
           11.484822894262146,
           0,
           13.499472212561567,
           10.553629293916364,
           12.728770849542663,
           11.394998514501673,
           11.722807531169547,
           14.425084743242847,
           13.316705791428998,
           12.346513733165635,
           13.50382573799575,
           12.776021715252812,
           12.042685372219351,
           12.73640193131829,
           13.182549540307372,
           0,
           14.505811553919594,
           11.888743248898258,
           11.853309555403674,
           12.314866431053176,
           16.461527408425134,
           13.110646427577821,
           11.533329732305834,
           12.976743106734322,
           8.696967526234287,
           8.134426320220927,
           6.832890014164741,
           7.774787059601174,
           6.409390936137702,
           6.584962500721156,
           6.285402218862249,
           7.906890595608519,
           10.393390457443987,
           6.321928094887363,
           0,
           10.494855584491198,
           11.625252221746873,
           14.019503858266578,
           12.818382455041155,
           12.794212769983066,
           16.151710280467206,
           1,
           12.438012087651131,
           11.302067672526519,
           11.212496385193948,
           13.277578002415737,
           11.975847968006784,
           11.068778277985412,
           10.273795599214264,
           10.939579214314692,
           2,
           11.096715154488535,
           12.352043425795433,
           14.491289433481759,
           10.105908508571158,
           13.215381320721084,
           8.271463027904375,
           0,
           9.442943495848729,
           7.03342300153745,
           7.491853096329675,
           6.672425341971495,
           12.712097051087547,
           0,
           10.854089179870574,
           6.977279923499917,
           6.569855608330948,
           8.179909090014934,
           10.032045726930809,
           9.179909090014934,
           8.714245517666123,
           8.475733430966399,
           8.144658242831882,
           14.694085778157689,
           8.714245517666123,
           15.365057936095372,
           9.899356922923111,
           2.807354922057604,
           13.467987569161329,
           10.552669097514272,
           10.539158811108031,
           1.584962500721156,
           11.156715144224702,
           0,
           0,
           3,
           13.727814119936957,
           2.321928094887362,
           14.0381473799815,
           0,
           11.673309075561695,
           13.806650309081014,
           2,
           13.647008638441648,
           14.612868497291041
          ],
          "sizemode": "area",
          "sizeref": 0.043606629933987937,
          "symbol": "circle"
         },
         "mode": "markers",
         "name": "NA",
         "orientation": "h",
         "showlegend": true,
         "type": "scatter",
         "x": [
          0.1282841950730742,
          0.11280105750077415,
          -0.08787072576644753,
          -0.07769036779819616,
          0.005621506686841009,
          -0.06984930684728356,
          -0.14403575587283104,
          -0.027591511866632522,
          -0.0780890227240187,
          0.09413948543881494,
          0.07698022921884394,
          -0.0457230528473627,
          0.05906331488479458,
          0.08203798842103337,
          -0.11103623513494494,
          0.12094259863916693,
          -0.09959574127890726,
          0.09767611199686287,
          -0.06487187881436228,
          0.020980715084396608,
          -0.15002803960923014,
          0.05219454028959295,
          0.016126006189213397,
          0.05583567608833286,
          0.10373298105796565,
          0.006335387425597752,
          -0.31757575502387175,
          -0.06742586623182117,
          -0.0596923674982803,
          -0.2598152273466819,
          -0.19281333208864138,
          -0.3608910863796983,
          -0.14590947599206588,
          -0.16981240930487934,
          -0.15847170024785748,
          -0.2901229202074779,
          -0.06020684930805098,
          0.10338922207462463,
          0.06817086002136041,
          0.06913753420290891,
          0.3232120938003662,
          0.30380574611276784,
          -0.0007823907049239249,
          -0.05139714332358418,
          0.06868672745772214,
          -0.2116507600769791,
          -0.07241403764852263,
          -0.15443020935065488,
          0.01818720207900563,
          0.023130513382229573,
          0.053167524020762,
          -0.04365765941974546,
          -0.07454250892617027,
          0.041783106016869985,
          0.17706916511576182,
          0.06273306512964172,
          0.07541995966375038,
          0.3281131110423647,
          -0.11638662757230189,
          -0.063914664483389,
          -0.05910833258211386,
          -0.07412948075300843,
          -0.15277613381520525,
          -0.08941145487490984,
          0.17091924370260078,
          -0.0860571721893297,
          -0.21214807047873394,
          -0.13624554723228618,
          -0.2507177559650879,
          -0.11052853611070006,
          0.030125097583888028,
          0.1228082700620756,
          0.0379515309472795,
          0.10040154564130964,
          0.12236665711059558,
          -0.1236788020374292,
          0.07683839686197652,
          0.2694595327952746,
          -0.026941471455192465,
          -0.012398869923552405,
          -0.0356762719058731,
          0.11990225104661621,
          0.10067594865987695,
          0.02086716875642961,
          0.13876909466033002,
          0.1132450210558834,
          -0.026909708053528963,
          0.018431822697454064,
          -0.12595366606727865,
          0.15660156510409368,
          -0.11256836259350052,
          0.06327060967337321,
          0.0051027423678419144,
          0.0069299749646894735,
          0.05321315253833437,
          -0.07317489714160524,
          0.09974610275293741
         ],
         "xaxis": "x",
         "y": [
          "War",
          "War",
          "War",
          "War",
          "War",
          "War",
          "War",
          "War",
          "War",
          "War",
          "War",
          "War",
          "War",
          "War",
          "War",
          "War",
          "War",
          "War",
          "War",
          "War",
          "War",
          "War",
          "War",
          "War",
          "War",
          "War",
          "Trade",
          "Trade",
          "Trade",
          "Trade",
          "Trade",
          "Trade",
          "Trade",
          "Trade",
          "Trade",
          "Trade",
          "Trade",
          "Religiosity",
          "Religiosity",
          "Religiosity",
          "Religiosity",
          "Religiosity",
          "Ideology",
          "Ideology",
          "Ideology",
          "Ideology",
          "Ideology",
          "Ideology",
          "Ideology",
          "Ideology",
          "Ideology",
          "Ideology",
          "Ideology",
          "Ideology",
          "Ideology",
          "Ideology",
          "Ideology",
          "Ideology",
          "Gun Control",
          "Gun Control",
          "Gun Control",
          "Gun Control",
          "Gun Control",
          "Gun Control",
          "Gun Control",
          "Gun Control",
          "Gun Control",
          "Gun Control",
          "Gun Control",
          "Gun Control",
          "Birth Control",
          "Birth Control",
          "Birth Control",
          "Birth Control",
          "Birth Control",
          "Birth Control",
          "Birth Control",
          "Birth Control",
          "Birth Control",
          "Birth Control",
          "Birth Control",
          "Birth Control",
          "Age",
          "Age",
          "Age",
          "Age",
          "Age",
          "Age",
          "Age",
          "Age",
          "Age",
          "Age",
          "Age",
          "Age",
          "Age",
          "Age",
          "Age"
         ],
         "yaxis": "y"
        },
        {
         "customdata": [
          [
           "LeftWithoutEdge",
           518
          ],
          [
           "EndlessWar",
           14904
          ]
         ],
         "hovertemplate": "label=Pacifistic<br>Projection=%{x}<br>=%{y}<br>size=%{marker.size}<br>subreddit=%{customdata[0]}<br>count=%{customdata[1]}<extra></extra>",
         "legendgroup": "Pacifistic",
         "marker": {
          "color": "#EF553B",
          "size": [
           9.016808287686555,
           13.863411958941638
          ],
          "sizemode": "area",
          "sizeref": 0.043606629933987937,
          "symbol": "circle"
         },
         "mode": "markers",
         "name": "Pacifistic",
         "orientation": "h",
         "showlegend": true,
         "type": "scatter",
         "x": [
          -0.2710183520487015,
          -0.5103557530872048
         ],
         "xaxis": "x",
         "y": [
          "War",
          "War"
         ],
         "yaxis": "y"
        },
        {
         "customdata": [
          [
           "WarCollege",
           6204
          ],
          [
           "CredibleDefense",
           45607
          ]
         ],
         "hovertemplate": "label=Hawkish<br>Projection=%{x}<br>=%{y}<br>size=%{marker.size}<br>subreddit=%{customdata[0]}<br>count=%{customdata[1]}<extra></extra>",
         "legendgroup": "Hawkish",
         "marker": {
          "color": "#00cc96",
          "size": [
           12.59898297103609,
           15.476967653286689
          ],
          "sizemode": "area",
          "sizeref": 0.043606629933987937,
          "symbol": "circle"
         },
         "mode": "markers",
         "name": "Hawkish",
         "orientation": "h",
         "showlegend": true,
         "type": "scatter",
         "x": [
          0.41182942165349706,
          0.34764479051595937
         ],
         "xaxis": "x",
         "y": [
          "War",
          "War"
         ],
         "yaxis": "y"
        },
        {
         "customdata": [
          [
           "WeAreNotAsking",
           116
          ],
          [
           "BreadTube",
           1591
          ],
          [
           "dsa",
           64
          ],
          [
           "SocialDemocracy",
           208
          ],
          [
           "Labour",
           275
          ],
          [
           "stupidpol",
           4309
          ],
          [
           "LeftWithoutEdge",
           205
          ],
          [
           "Socialism_101",
           394
          ],
          [
           "WayOfTheBern",
           3828
          ],
          [
           "Kossacks_for_Sanders",
           168
          ],
          [
           "CriticalTheory",
           235
          ],
          [
           "The_Donald",
           62458
          ],
          [
           "chomsky",
           335
          ]
         ],
         "hovertemplate": "label=Anti-Trade<br>Projection=%{x}<br>=%{y}<br>size=%{marker.size}<br>subreddit=%{customdata[0]}<br>count=%{customdata[1]}<extra></extra>",
         "legendgroup": "Anti-Trade",
         "marker": {
          "color": "#ab63fa",
          "size": [
           6.857980995127572,
           10.635718120331047,
           6,
           7.700439718141092,
           8.103287808412022,
           12.073137383110383,
           7.679480099505446,
           8.622051819456376,
           11.902375114486025,
           7.392317422778761,
           7.876516946564999,
           15.93059875236169,
           8.388017285345136
          ],
          "sizemode": "area",
          "sizeref": 0.043606629933987937,
          "symbol": "circle"
         },
         "mode": "markers",
         "name": "Anti-Trade",
         "orientation": "h",
         "showlegend": true,
         "type": "scatter",
         "x": [
          -0.14700423860328726,
          -0.3733732398874508,
          -0.18502726707163525,
          -0.15921461894684064,
          -0.30344392144831783,
          -0.12103495875968963,
          -0.341291653604567,
          -0.40220359440438785,
          -0.0709429818559345,
          -0.11432991265936246,
          -0.22848704075967402,
          0.12104794884389276,
          -0.27733974108949605
         ],
         "xaxis": "x",
         "y": [
          "Trade",
          "Trade",
          "Trade",
          "Trade",
          "Trade",
          "Trade",
          "Trade",
          "Trade",
          "Trade",
          "Trade",
          "Trade",
          "Trade",
          "Trade"
         ],
         "yaxis": "y"
        },
        {
         "customdata": [
          [
           "neoliberal",
           81320
          ],
          [
           "seculartalk",
           139
          ],
          [
           "neoconNWO",
           844
          ],
          [
           "badeconomics",
           483
          ],
          [
           "Classical_Liberals",
           128
          ],
          [
           "AskEconomics",
           431
          ]
         ],
         "hovertemplate": "label=Pro-Trade<br>Projection=%{x}<br>=%{y}<br>size=%{marker.size}<br>subreddit=%{customdata[0]}<br>count=%{customdata[1]}<extra></extra>",
         "legendgroup": "Pro-Trade",
         "marker": {
          "color": "#FFA15A",
          "size": [
           16.311322594732093,
           7.118941072723508,
           9.721099188707186,
           8.915879378835774,
           7,
           8.751544059089099
          ],
          "sizemode": "area",
          "sizeref": 0.043606629933987937,
          "symbol": "circle"
         },
         "mode": "markers",
         "name": "Pro-Trade",
         "orientation": "h",
         "showlegend": true,
         "type": "scatter",
         "x": [
          0.17344437042170258,
          -0.1786188678654813,
          0.10159711577820714,
          0.06697391240818097,
          0.05728938991686627,
          0.12923699419440252
         ],
         "xaxis": "x",
         "y": [
          "Trade",
          "Trade",
          "Trade",
          "Trade",
          "Trade",
          "Trade"
         ],
         "yaxis": "y"
        },
        {
         "customdata": [
          [
           "Bible",
           5779
          ],
          [
           "Reformed",
           20412
          ],
          [
           "OrthodoxChristianity",
           15751
          ],
          [
           "OpenChristian",
           4194
          ],
          [
           "Anglicanism",
           6392
          ],
          [
           "mormon",
           26108
          ],
          [
           "RPChristians",
           2151
          ],
          [
           "Christian",
           11560
          ],
          [
           "GayChristians",
           1941
          ],
          [
           "Christians",
           3353
          ],
          [
           "Christianmarriage",
           4473
          ],
          [
           "NoFapChristians",
           5732
          ],
          [
           "latterdaysaints",
           25440
          ],
          [
           "lds",
           1917
          ],
          [
           "PrayerRequests",
           4812
          ],
          [
           "TrueChristian",
           37686
          ],
          [
           "RadicalChristianity",
           1522
          ],
          [
           "Catholicism",
           71628
          ],
          [
           "Christianity",
           178140
          ]
         ],
         "hovertemplate": "label=Religious<br>Projection=%{x}<br>=%{y}<br>size=%{marker.size}<br>subreddit=%{customdata[0]}<br>count=%{customdata[1]}<extra></extra>",
         "legendgroup": "Religious",
         "marker": {
          "color": "#19d3f3",
          "size": [
           12.496604154575603,
           14.317129926384542,
           13.943155804939336,
           12.034111146096592,
           12.642051692927977,
           14.672204323964033,
           11.070791809423062,
           13.496853777388042,
           10.922584402713664,
           11.711236767793784,
           12.127027043004599,
           12.484822894262146,
           14.634811050171718,
           10.904634621668151,
           12.232420927176076,
           15.201741054721296,
           10.571752643503546,
           16.12823603917096,
           17.442651973595176
          ],
          "sizemode": "area",
          "sizeref": 0.043606629933987937,
          "symbol": "circle"
         },
         "mode": "markers",
         "name": "Religious",
         "orientation": "h",
         "showlegend": true,
         "type": "scatter",
         "x": [
          0.39376973778145535,
          0.39700437986054954,
          0.357664916999523,
          0.18891379448605125,
          0.25942092923690174,
          0.17022194952433647,
          0.3025010970687855,
          0.3655894716594784,
          0.12479725765528235,
          0.3927246911600024,
          0.32621032143511597,
          0.42066405258434714,
          0.24801933493677758,
          0.3082973378723236,
          0.27004045764052587,
          0.39460748017999553,
          0.21095493501227822,
          0.4275474535582986,
          0.34299004117369886
         ],
         "xaxis": "x",
         "y": [
          "Religiosity",
          "Religiosity",
          "Religiosity",
          "Religiosity",
          "Religiosity",
          "Religiosity",
          "Religiosity",
          "Religiosity",
          "Religiosity",
          "Religiosity",
          "Religiosity",
          "Religiosity",
          "Religiosity",
          "Religiosity",
          "Religiosity",
          "Religiosity",
          "Religiosity",
          "Religiosity",
          "Religiosity"
         ],
         "yaxis": "y"
        },
        {
         "customdata": [
          [
           "exIglesiaNiCristo",
           4573
          ],
          [
           "excatholic",
           3498
          ],
          [
           "agnostic",
           2147
          ],
          [
           "exlldm",
           2984
          ],
          [
           "exchristian",
           28380
          ],
          [
           "exmormon",
           170129
          ]
         ],
         "hovertemplate": "label=Secular<br>Projection=%{x}<br>=%{y}<br>size=%{marker.size}<br>subreddit=%{customdata[0]}<br>count=%{customdata[1]}<extra></extra>",
         "legendgroup": "Secular",
         "marker": {
          "color": "#FF6692",
          "size": [
           12.158925203806964,
           11.772314573921653,
           11.068106475858773,
           11.543031820255237,
           14.792586968947914,
           17.376269556591197
          ],
          "sizemode": "area",
          "sizeref": 0.043606629933987937,
          "symbol": "circle"
         },
         "mode": "markers",
         "name": "Secular",
         "orientation": "h",
         "showlegend": true,
         "type": "scatter",
         "x": [
          -0.036380486381942696,
          0.07511453674127389,
          0.1992243091238195,
          -0.05743893857197754,
          0.09628302327873395,
          0.021644737038661765
         ],
         "xaxis": "x",
         "y": [
          "Religiosity",
          "Religiosity",
          "Religiosity",
          "Religiosity",
          "Religiosity",
          "Religiosity"
         ],
         "yaxis": "y"
        },
        {
         "customdata": [
          [
           "benshapiro",
           1371
          ],
          [
           "Capitalism",
           3083
          ],
          [
           "The_Donald",
           48288
          ],
          [
           "tuesday",
           3540
          ],
          [
           "Classical_Liberals",
           1143
          ]
         ],
         "hovertemplate": "label=Conservative<br>Projection=%{x}<br>=%{y}<br>size=%{marker.size}<br>subreddit=%{customdata[0]}<br>count=%{customdata[1]}<extra></extra>",
         "legendgroup": "Conservative",
         "marker": {
          "color": "#B6E880",
          "size": [
           10.421012855779226,
           11.590119174107175,
           15.559377090526683,
           11.78953364497036,
           10.158609688214478
          ],
          "sizemode": "area",
          "sizeref": 0.043606629933987937,
          "symbol": "circle"
         },
         "mode": "markers",
         "name": "Conservative",
         "orientation": "h",
         "showlegend": true,
         "type": "scatter",
         "x": [
          0.3054860820424322,
          0.2696571612129379,
          0.3860751325153711,
          0.18500029214709282,
          0.3277532601253236
         ],
         "xaxis": "x",
         "y": [
          "Ideology",
          "Ideology",
          "Ideology",
          "Ideology",
          "Ideology"
         ],
         "yaxis": "y"
        },
        {
         "customdata": [
          [
           "Socialism_101",
           12306
          ],
          [
           "SocialDemocracy",
           1185
          ],
          [
           "canadaleft",
           2692
          ],
          [
           "capitalism_in_decay",
           2634
          ],
          [
           "LateStageCapitalism",
           62136
          ],
          [
           "communism101",
           8758
          ],
          [
           "Anarchy101",
           6952
          ],
          [
           "BasicIncome",
           4365
          ],
          [
           "socialism",
           17790
          ]
         ],
         "hovertemplate": "label=Progressive<br>Projection=%{x}<br>=%{y}<br>size=%{marker.size}<br>subreddit=%{customdata[0]}<br>count=%{customdata[1]}<extra></extra>",
         "legendgroup": "Progressive",
         "marker": {
          "color": "#FF97FF",
          "size": [
           13.587074277201008,
           10.210671343785622,
           11.394462694610317,
           11.363039630256514,
           15.923141750621268,
           13.096385734452651,
           12.7632123668144,
           12.091765938516803,
           14.118778890154521
          ],
          "sizemode": "area",
          "sizeref": 0.043606629933987937,
          "symbol": "circle"
         },
         "mode": "markers",
         "name": "Progressive",
         "orientation": "h",
         "showlegend": true,
         "type": "scatter",
         "x": [
          -0.3425119109375313,
          -0.3458568571232288,
          -0.2609184173082289,
          -0.39240052290112826,
          -0.3060482337645443,
          -0.3353171856684026,
          -0.3298392291402624,
          -0.24114264605105315,
          -0.37406066586913506
         ],
         "xaxis": "x",
         "y": [
          "Ideology",
          "Ideology",
          "Ideology",
          "Ideology",
          "Ideology",
          "Ideology",
          "Ideology",
          "Ideology",
          "Ideology"
         ],
         "yaxis": "y"
        },
        {
         "customdata": [
          [
           "GunsAreCool",
           782
          ]
         ],
         "hovertemplate": "label=More Regulation<br>Projection=%{x}<br>=%{y}<br>size=%{marker.size}<br>subreddit=%{customdata[0]}<br>count=%{customdata[1]}<extra></extra>",
         "legendgroup": "More Regulation",
         "marker": {
          "color": "#FECB52",
          "size": [
           9.611024797307353
          ],
          "sizemode": "area",
          "sizeref": 0.043606629933987937,
          "symbol": "circle"
         },
         "mode": "markers",
         "name": "More Regulation",
         "orientation": "h",
         "showlegend": true,
         "type": "scatter",
         "x": [
          -0.48492995953014906
         ],
         "xaxis": "x",
         "y": [
          "Gun Control"
         ],
         "yaxis": "y"
        },
        {
         "customdata": [
          [
           "SocialistRA",
           752
          ],
          [
           "NOWTTYG",
           670
          ],
          [
           "progun",
           11044
          ],
          [
           "Firearms",
           7619
          ],
          [
           "WA_guns",
           655
          ],
          [
           "VAGuns",
           890
          ],
          [
           "2ALiberals",
           1871
          ],
          [
           "Iamactuallyverybadass",
           285
          ],
          [
           "CAguns",
           1000
          ],
          [
           "Classical_Liberals",
           72
          ],
          [
           "canadaguns",
           1306
          ],
          [
           "liberalgunowners",
           7630
          ],
          [
           "shitguncontrollerssay",
           1129
          ],
          [
           "dgu",
           76
          ],
          [
           "libertarianmeme",
           512
          ],
          [
           "NJGuns",
           117
          ],
          [
           "NYguns",
           106
          ]
         ],
         "hovertemplate": "label=Less Regulation<br>Projection=%{x}<br>=%{y}<br>size=%{marker.size}<br>subreddit=%{customdata[0]}<br>count=%{customdata[1]}<extra></extra>",
         "legendgroup": "Less Regulation",
         "marker": {
          "color": "#636efa",
          "size": [
           9.554588851677638,
           9.388017285345136,
           13.430975172588068,
           12.895385939898507,
           9.355351096424812,
           9.79766152585376,
           10.869593843240784,
           8.154818109052105,
           9.965784284662087,
           6.169925001442312,
           10.350939181546432,
           12.897467341721892,
           10.140829770773001,
           6.247927513443585,
           9,
           6.870364719583405,
           6.727920454563199
          ],
          "sizemode": "area",
          "sizeref": 0.043606629933987937,
          "symbol": "circle"
         },
         "mode": "markers",
         "name": "Less Regulation",
         "orientation": "h",
         "showlegend": true,
         "type": "scatter",
         "x": [
          -0.13893245831558146,
          0.10861161052152234,
          0.42511464456362275,
          0.26259561759298833,
          0.15483143885269804,
          0.1325647533875033,
          0.03243329440789397,
          0.024517926657136088,
          0.13209717641244234,
          0.1280235309057505,
          0.16058592728567142,
          0.024242731641686843,
          0.1269890058992931,
          0.15330240145672525,
          0.25616211657055166,
          0.06523546026502981,
          0.06835798101617112
         ],
         "xaxis": "x",
         "y": [
          "Gun Control",
          "Gun Control",
          "Gun Control",
          "Gun Control",
          "Gun Control",
          "Gun Control",
          "Gun Control",
          "Gun Control",
          "Gun Control",
          "Gun Control",
          "Gun Control",
          "Gun Control",
          "Gun Control",
          "Gun Control",
          "Gun Control",
          "Gun Control",
          "Gun Control"
         ],
         "yaxis": "y"
        },
        {
         "customdata": [
          [
           "endometriosis",
           850
          ],
          [
           "Endo",
           1220
          ],
          [
           "Feminism",
           3429
          ],
          [
           "abortion",
           12684
          ],
          [
           "TwoXChromosomes",
           32247
          ],
          [
           "PMDD",
           981
          ],
          [
           "PCOS",
           3847
          ],
          [
           "Periods",
           799
          ],
          [
           "GenderCritical",
           31523
          ],
          [
           "Egalitarianism",
           1004
          ],
          [
           "WomensHealth",
           1703
          ],
          [
           "FeMRADebates",
           2306
          ],
          [
           "birthcontrol",
           13610
          ],
          [
           "prochoice",
           12759
          ]
         ],
         "hovertemplate": "label=Pro-Choice<br>Projection=%{x}<br>=%{y}<br>size=%{marker.size}<br>subreddit=%{customdata[0]}<br>count=%{customdata[1]}<extra></extra>",
         "legendgroup": "Pro-Choice",
         "marker": {
          "color": "#EF553B",
          "size": [
           9.731319031025064,
           10.252665432450248,
           11.743572188935634,
           13.630722162103838,
           14.976877329653048,
           9.938109326219239,
           11.909518114296615,
           9.642051692927977,
           14.944117220154881,
           9.971543553950772,
           10.733862719678543,
           11.171176797651771,
           13.732379446391358,
           13.63922764034692
          ],
          "sizemode": "area",
          "sizeref": 0.043606629933987937,
          "symbol": "circle"
         },
         "mode": "markers",
         "name": "Pro-Choice",
         "orientation": "h",
         "showlegend": true,
         "type": "scatter",
         "x": [
          -0.13443891825076662,
          -0.12312606729043543,
          -0.017806857236398417,
          -0.005334031634342216,
          -0.03583218219086587,
          -0.18212241786322403,
          -0.06673679664577215,
          0.014415887117839471,
          0.17603586673664035,
          0.15777939127789983,
          -0.008525239199694615,
          0.13182919913601715,
          -0.0882533903256089,
          0.13071072857825067
         ],
         "xaxis": "x",
         "y": [
          "Birth Control",
          "Birth Control",
          "Birth Control",
          "Birth Control",
          "Birth Control",
          "Birth Control",
          "Birth Control",
          "Birth Control",
          "Birth Control",
          "Birth Control",
          "Birth Control",
          "Birth Control",
          "Birth Control",
          "Birth Control"
         ],
         "yaxis": "y"
        },
        {
         "customdata": [
          [
           "MensRights",
           19682
          ],
          [
           "benshapiro",
           945
          ],
          [
           "antifeminists",
           1027
          ],
          [
           "prolife",
           23318
          ]
         ],
         "hovertemplate": "label=Pro-Life<br>Projection=%{x}<br>=%{y}<br>size=%{marker.size}<br>subreddit=%{customdata[0]}<br>count=%{customdata[1]}<extra></extra>",
         "legendgroup": "Pro-Life",
         "marker": {
          "color": "#00cc96",
          "size": [
           14.264589208126823,
           9.884170519108435,
           10.004220466318195,
           14.509156432503849
          ],
          "sizemode": "area",
          "sizeref": 0.043606629933987937,
          "symbol": "circle"
         },
         "mode": "markers",
         "name": "Pro-Life",
         "orientation": "h",
         "showlegend": true,
         "type": "scatter",
         "x": [
          0.38566057704834383,
          0.3054860820424322,
          0.3146958458912606,
          0.4769765859593556
         ],
         "xaxis": "x",
         "y": [
          "Birth Control",
          "Birth Control",
          "Birth Control",
          "Birth Control"
         ],
         "yaxis": "y"
        },
        {
         "customdata": [
          [
           "dankmemes",
           2601
          ],
          [
           "LifeAfterSchool",
           2381
          ],
          [
           "AsianParentStories",
           5721
          ],
          [
           "2meirl4meirl",
           6730
          ],
          [
           "family",
           7977
          ],
          [
           "teenagers",
           15271
          ]
         ],
         "hovertemplate": "label=Younger<br>Projection=%{x}<br>=%{y}<br>size=%{marker.size}<br>subreddit=%{customdata[0]}<br>count=%{customdata[1]}<extra></extra>",
         "legendgroup": "Younger",
         "marker": {
          "color": "#ab63fa",
          "size": [
           11.34485068394299,
           11.217351905270334,
           12.482051629033913,
           12.71639078949768,
           12.961630562578824,
           13.898506917637286
          ],
          "sizemode": "area",
          "sizeref": 0.043606629933987937,
          "symbol": "circle"
         },
         "mode": "markers",
         "name": "Younger",
         "orientation": "h",
         "showlegend": true,
         "type": "scatter",
         "x": [
          -0.571760882785317,
          -0.0036621635541655693,
          0.09452683751093863,
          -0.26898663281244756,
          0.15115884705070148,
          -0.6654832741596896
         ],
         "xaxis": "x",
         "y": [
          "Age",
          "Age",
          "Age",
          "Age",
          "Age",
          "Age"
         ],
         "yaxis": "y"
        },
        {
         "customdata": [
          [
           "Mortgages",
           4210
          ],
          [
           "fosterit",
           1684
          ],
          [
           "Fosterparents",
           1399
          ],
          [
           "oneanddone",
           1716
          ],
          [
           "careeradvice",
           1983
          ],
          [
           "NarcAbuseAndDivorce",
           1837
          ],
          [
           "Genealogy",
           17441
          ],
          [
           "careerguidance",
           28406
          ],
          [
           "Adoption",
           6771
          ]
         ],
         "hovertemplate": "label=Older<br>Projection=%{x}<br>=%{y}<br>size=%{marker.size}<br>subreddit=%{customdata[0]}<br>count=%{customdata[1]}<extra></extra>",
         "legendgroup": "Older",
         "marker": {
          "color": "#FFA15A",
          "size": [
           12.039604517953759,
           10.717676423066395,
           10.450180247164754,
           10.744833837499545,
           10.953468962228849,
           10.84313591111135,
           14.090195140632224,
           14.793908071814263,
           12.725153203912992
          ],
          "sizemode": "area",
          "sizeref": 0.043606629933987937,
          "symbol": "circle"
         },
         "mode": "markers",
         "name": "Older",
         "orientation": "h",
         "showlegend": true,
         "type": "scatter",
         "x": [
          0.25847349793768193,
          0.24460864090086895,
          0.1979044003918679,
          0.3043566335529976,
          0.27980908060859444,
          0.2884147302172998,
          0.28362645469814535,
          0.2832727560965278,
          0.1577745059748364
         ],
         "xaxis": "x",
         "y": [
          "Age",
          "Age",
          "Age",
          "Age",
          "Age",
          "Age",
          "Age",
          "Age",
          "Age"
         ],
         "yaxis": "y"
        }
       ],
       "layout": {
        "font": {
         "size": 23
        },
        "height": 700,
        "legend": {
         "itemsizing": "constant",
         "title": {
          "text": "label"
         },
         "tracegroupgap": 0
        },
        "margin": {
         "t": 60
        },
        "template": {
         "data": {
          "bar": [
           {
            "error_x": {
             "color": "rgb(36,36,36)"
            },
            "error_y": {
             "color": "rgb(36,36,36)"
            },
            "marker": {
             "line": {
              "color": "white",
              "width": 0.5
             }
            },
            "type": "bar"
           }
          ],
          "barpolar": [
           {
            "marker": {
             "line": {
              "color": "white",
              "width": 0.5
             }
            },
            "type": "barpolar"
           }
          ],
          "carpet": [
           {
            "aaxis": {
             "endlinecolor": "rgb(36,36,36)",
             "gridcolor": "white",
             "linecolor": "white",
             "minorgridcolor": "white",
             "startlinecolor": "rgb(36,36,36)"
            },
            "baxis": {
             "endlinecolor": "rgb(36,36,36)",
             "gridcolor": "white",
             "linecolor": "white",
             "minorgridcolor": "white",
             "startlinecolor": "rgb(36,36,36)"
            },
            "type": "carpet"
           }
          ],
          "choropleth": [
           {
            "colorbar": {
             "outlinewidth": 1,
             "tickcolor": "rgb(36,36,36)",
             "ticks": "outside"
            },
            "type": "choropleth"
           }
          ],
          "contour": [
           {
            "colorbar": {
             "outlinewidth": 1,
             "tickcolor": "rgb(36,36,36)",
             "ticks": "outside"
            },
            "colorscale": [
             [
              0,
              "#440154"
             ],
             [
              0.1111111111111111,
              "#482878"
             ],
             [
              0.2222222222222222,
              "#3e4989"
             ],
             [
              0.3333333333333333,
              "#31688e"
             ],
             [
              0.4444444444444444,
              "#26828e"
             ],
             [
              0.5555555555555556,
              "#1f9e89"
             ],
             [
              0.6666666666666666,
              "#35b779"
             ],
             [
              0.7777777777777778,
              "#6ece58"
             ],
             [
              0.8888888888888888,
              "#b5de2b"
             ],
             [
              1,
              "#fde725"
             ]
            ],
            "type": "contour"
           }
          ],
          "contourcarpet": [
           {
            "colorbar": {
             "outlinewidth": 1,
             "tickcolor": "rgb(36,36,36)",
             "ticks": "outside"
            },
            "type": "contourcarpet"
           }
          ],
          "heatmap": [
           {
            "colorbar": {
             "outlinewidth": 1,
             "tickcolor": "rgb(36,36,36)",
             "ticks": "outside"
            },
            "colorscale": [
             [
              0,
              "#440154"
             ],
             [
              0.1111111111111111,
              "#482878"
             ],
             [
              0.2222222222222222,
              "#3e4989"
             ],
             [
              0.3333333333333333,
              "#31688e"
             ],
             [
              0.4444444444444444,
              "#26828e"
             ],
             [
              0.5555555555555556,
              "#1f9e89"
             ],
             [
              0.6666666666666666,
              "#35b779"
             ],
             [
              0.7777777777777778,
              "#6ece58"
             ],
             [
              0.8888888888888888,
              "#b5de2b"
             ],
             [
              1,
              "#fde725"
             ]
            ],
            "type": "heatmap"
           }
          ],
          "heatmapgl": [
           {
            "colorbar": {
             "outlinewidth": 1,
             "tickcolor": "rgb(36,36,36)",
             "ticks": "outside"
            },
            "colorscale": [
             [
              0,
              "#440154"
             ],
             [
              0.1111111111111111,
              "#482878"
             ],
             [
              0.2222222222222222,
              "#3e4989"
             ],
             [
              0.3333333333333333,
              "#31688e"
             ],
             [
              0.4444444444444444,
              "#26828e"
             ],
             [
              0.5555555555555556,
              "#1f9e89"
             ],
             [
              0.6666666666666666,
              "#35b779"
             ],
             [
              0.7777777777777778,
              "#6ece58"
             ],
             [
              0.8888888888888888,
              "#b5de2b"
             ],
             [
              1,
              "#fde725"
             ]
            ],
            "type": "heatmapgl"
           }
          ],
          "histogram": [
           {
            "marker": {
             "line": {
              "color": "white",
              "width": 0.6
             }
            },
            "type": "histogram"
           }
          ],
          "histogram2d": [
           {
            "colorbar": {
             "outlinewidth": 1,
             "tickcolor": "rgb(36,36,36)",
             "ticks": "outside"
            },
            "colorscale": [
             [
              0,
              "#440154"
             ],
             [
              0.1111111111111111,
              "#482878"
             ],
             [
              0.2222222222222222,
              "#3e4989"
             ],
             [
              0.3333333333333333,
              "#31688e"
             ],
             [
              0.4444444444444444,
              "#26828e"
             ],
             [
              0.5555555555555556,
              "#1f9e89"
             ],
             [
              0.6666666666666666,
              "#35b779"
             ],
             [
              0.7777777777777778,
              "#6ece58"
             ],
             [
              0.8888888888888888,
              "#b5de2b"
             ],
             [
              1,
              "#fde725"
             ]
            ],
            "type": "histogram2d"
           }
          ],
          "histogram2dcontour": [
           {
            "colorbar": {
             "outlinewidth": 1,
             "tickcolor": "rgb(36,36,36)",
             "ticks": "outside"
            },
            "colorscale": [
             [
              0,
              "#440154"
             ],
             [
              0.1111111111111111,
              "#482878"
             ],
             [
              0.2222222222222222,
              "#3e4989"
             ],
             [
              0.3333333333333333,
              "#31688e"
             ],
             [
              0.4444444444444444,
              "#26828e"
             ],
             [
              0.5555555555555556,
              "#1f9e89"
             ],
             [
              0.6666666666666666,
              "#35b779"
             ],
             [
              0.7777777777777778,
              "#6ece58"
             ],
             [
              0.8888888888888888,
              "#b5de2b"
             ],
             [
              1,
              "#fde725"
             ]
            ],
            "type": "histogram2dcontour"
           }
          ],
          "mesh3d": [
           {
            "colorbar": {
             "outlinewidth": 1,
             "tickcolor": "rgb(36,36,36)",
             "ticks": "outside"
            },
            "type": "mesh3d"
           }
          ],
          "parcoords": [
           {
            "line": {
             "colorbar": {
              "outlinewidth": 1,
              "tickcolor": "rgb(36,36,36)",
              "ticks": "outside"
             }
            },
            "type": "parcoords"
           }
          ],
          "pie": [
           {
            "automargin": true,
            "type": "pie"
           }
          ],
          "scatter": [
           {
            "marker": {
             "colorbar": {
              "outlinewidth": 1,
              "tickcolor": "rgb(36,36,36)",
              "ticks": "outside"
             }
            },
            "type": "scatter"
           }
          ],
          "scatter3d": [
           {
            "line": {
             "colorbar": {
              "outlinewidth": 1,
              "tickcolor": "rgb(36,36,36)",
              "ticks": "outside"
             }
            },
            "marker": {
             "colorbar": {
              "outlinewidth": 1,
              "tickcolor": "rgb(36,36,36)",
              "ticks": "outside"
             }
            },
            "type": "scatter3d"
           }
          ],
          "scattercarpet": [
           {
            "marker": {
             "colorbar": {
              "outlinewidth": 1,
              "tickcolor": "rgb(36,36,36)",
              "ticks": "outside"
             }
            },
            "type": "scattercarpet"
           }
          ],
          "scattergeo": [
           {
            "marker": {
             "colorbar": {
              "outlinewidth": 1,
              "tickcolor": "rgb(36,36,36)",
              "ticks": "outside"
             }
            },
            "type": "scattergeo"
           }
          ],
          "scattergl": [
           {
            "marker": {
             "colorbar": {
              "outlinewidth": 1,
              "tickcolor": "rgb(36,36,36)",
              "ticks": "outside"
             }
            },
            "type": "scattergl"
           }
          ],
          "scattermapbox": [
           {
            "marker": {
             "colorbar": {
              "outlinewidth": 1,
              "tickcolor": "rgb(36,36,36)",
              "ticks": "outside"
             }
            },
            "type": "scattermapbox"
           }
          ],
          "scatterpolar": [
           {
            "marker": {
             "colorbar": {
              "outlinewidth": 1,
              "tickcolor": "rgb(36,36,36)",
              "ticks": "outside"
             }
            },
            "type": "scatterpolar"
           }
          ],
          "scatterpolargl": [
           {
            "marker": {
             "colorbar": {
              "outlinewidth": 1,
              "tickcolor": "rgb(36,36,36)",
              "ticks": "outside"
             }
            },
            "type": "scatterpolargl"
           }
          ],
          "scatterternary": [
           {
            "marker": {
             "colorbar": {
              "outlinewidth": 1,
              "tickcolor": "rgb(36,36,36)",
              "ticks": "outside"
             }
            },
            "type": "scatterternary"
           }
          ],
          "surface": [
           {
            "colorbar": {
             "outlinewidth": 1,
             "tickcolor": "rgb(36,36,36)",
             "ticks": "outside"
            },
            "colorscale": [
             [
              0,
              "#440154"
             ],
             [
              0.1111111111111111,
              "#482878"
             ],
             [
              0.2222222222222222,
              "#3e4989"
             ],
             [
              0.3333333333333333,
              "#31688e"
             ],
             [
              0.4444444444444444,
              "#26828e"
             ],
             [
              0.5555555555555556,
              "#1f9e89"
             ],
             [
              0.6666666666666666,
              "#35b779"
             ],
             [
              0.7777777777777778,
              "#6ece58"
             ],
             [
              0.8888888888888888,
              "#b5de2b"
             ],
             [
              1,
              "#fde725"
             ]
            ],
            "type": "surface"
           }
          ],
          "table": [
           {
            "cells": {
             "fill": {
              "color": "rgb(237,237,237)"
             },
             "line": {
              "color": "white"
             }
            },
            "header": {
             "fill": {
              "color": "rgb(217,217,217)"
             },
             "line": {
              "color": "white"
             }
            },
            "type": "table"
           }
          ]
         },
         "layout": {
          "annotationdefaults": {
           "arrowhead": 0,
           "arrowwidth": 1
          },
          "coloraxis": {
           "colorbar": {
            "outlinewidth": 1,
            "tickcolor": "rgb(36,36,36)",
            "ticks": "outside"
           }
          },
          "colorscale": {
           "diverging": [
            [
             0,
             "rgb(103,0,31)"
            ],
            [
             0.1,
             "rgb(178,24,43)"
            ],
            [
             0.2,
             "rgb(214,96,77)"
            ],
            [
             0.3,
             "rgb(244,165,130)"
            ],
            [
             0.4,
             "rgb(253,219,199)"
            ],
            [
             0.5,
             "rgb(247,247,247)"
            ],
            [
             0.6,
             "rgb(209,229,240)"
            ],
            [
             0.7,
             "rgb(146,197,222)"
            ],
            [
             0.8,
             "rgb(67,147,195)"
            ],
            [
             0.9,
             "rgb(33,102,172)"
            ],
            [
             1,
             "rgb(5,48,97)"
            ]
           ],
           "sequential": [
            [
             0,
             "#440154"
            ],
            [
             0.1111111111111111,
             "#482878"
            ],
            [
             0.2222222222222222,
             "#3e4989"
            ],
            [
             0.3333333333333333,
             "#31688e"
            ],
            [
             0.4444444444444444,
             "#26828e"
            ],
            [
             0.5555555555555556,
             "#1f9e89"
            ],
            [
             0.6666666666666666,
             "#35b779"
            ],
            [
             0.7777777777777778,
             "#6ece58"
            ],
            [
             0.8888888888888888,
             "#b5de2b"
            ],
            [
             1,
             "#fde725"
            ]
           ],
           "sequentialminus": [
            [
             0,
             "#440154"
            ],
            [
             0.1111111111111111,
             "#482878"
            ],
            [
             0.2222222222222222,
             "#3e4989"
            ],
            [
             0.3333333333333333,
             "#31688e"
            ],
            [
             0.4444444444444444,
             "#26828e"
            ],
            [
             0.5555555555555556,
             "#1f9e89"
            ],
            [
             0.6666666666666666,
             "#35b779"
            ],
            [
             0.7777777777777778,
             "#6ece58"
            ],
            [
             0.8888888888888888,
             "#b5de2b"
            ],
            [
             1,
             "#fde725"
            ]
           ]
          },
          "colorway": [
           "#1F77B4",
           "#FF7F0E",
           "#2CA02C",
           "#D62728",
           "#9467BD",
           "#8C564B",
           "#E377C2",
           "#7F7F7F",
           "#BCBD22",
           "#17BECF"
          ],
          "font": {
           "color": "rgb(36,36,36)"
          },
          "geo": {
           "bgcolor": "white",
           "lakecolor": "white",
           "landcolor": "white",
           "showlakes": true,
           "showland": true,
           "subunitcolor": "white"
          },
          "hoverlabel": {
           "align": "left"
          },
          "hovermode": "closest",
          "mapbox": {
           "style": "light"
          },
          "paper_bgcolor": "white",
          "plot_bgcolor": "white",
          "polar": {
           "angularaxis": {
            "gridcolor": "rgb(232,232,232)",
            "linecolor": "rgb(36,36,36)",
            "showgrid": false,
            "showline": true,
            "ticks": "outside"
           },
           "bgcolor": "white",
           "radialaxis": {
            "gridcolor": "rgb(232,232,232)",
            "linecolor": "rgb(36,36,36)",
            "showgrid": false,
            "showline": true,
            "ticks": "outside"
           }
          },
          "scene": {
           "xaxis": {
            "backgroundcolor": "white",
            "gridcolor": "rgb(232,232,232)",
            "gridwidth": 2,
            "linecolor": "rgb(36,36,36)",
            "showbackground": true,
            "showgrid": false,
            "showline": true,
            "ticks": "outside",
            "zeroline": false,
            "zerolinecolor": "rgb(36,36,36)"
           },
           "yaxis": {
            "backgroundcolor": "white",
            "gridcolor": "rgb(232,232,232)",
            "gridwidth": 2,
            "linecolor": "rgb(36,36,36)",
            "showbackground": true,
            "showgrid": false,
            "showline": true,
            "ticks": "outside",
            "zeroline": false,
            "zerolinecolor": "rgb(36,36,36)"
           },
           "zaxis": {
            "backgroundcolor": "white",
            "gridcolor": "rgb(232,232,232)",
            "gridwidth": 2,
            "linecolor": "rgb(36,36,36)",
            "showbackground": true,
            "showgrid": false,
            "showline": true,
            "ticks": "outside",
            "zeroline": false,
            "zerolinecolor": "rgb(36,36,36)"
           }
          },
          "shapedefaults": {
           "fillcolor": "black",
           "line": {
            "width": 0
           },
           "opacity": 0.3
          },
          "ternary": {
           "aaxis": {
            "gridcolor": "rgb(232,232,232)",
            "linecolor": "rgb(36,36,36)",
            "showgrid": false,
            "showline": true,
            "ticks": "outside"
           },
           "baxis": {
            "gridcolor": "rgb(232,232,232)",
            "linecolor": "rgb(36,36,36)",
            "showgrid": false,
            "showline": true,
            "ticks": "outside"
           },
           "bgcolor": "white",
           "caxis": {
            "gridcolor": "rgb(232,232,232)",
            "linecolor": "rgb(36,36,36)",
            "showgrid": false,
            "showline": true,
            "ticks": "outside"
           }
          },
          "title": {
           "x": 0.05
          },
          "xaxis": {
           "automargin": true,
           "gridcolor": "rgb(232,232,232)",
           "linecolor": "rgb(36,36,36)",
           "showgrid": false,
           "showline": true,
           "ticks": "outside",
           "title": {
            "standoff": 15
           },
           "zeroline": false,
           "zerolinecolor": "rgb(36,36,36)"
          },
          "yaxis": {
           "automargin": true,
           "gridcolor": "rgb(232,232,232)",
           "linecolor": "rgb(36,36,36)",
           "showgrid": false,
           "showline": true,
           "ticks": "outside",
           "title": {
            "standoff": 15
           },
           "zeroline": false,
           "zerolinecolor": "rgb(36,36,36)"
          }
         }
        },
        "width": 1000,
        "xaxis": {
         "anchor": "y",
         "domain": [
          0,
          1
         ],
         "title": {
          "text": "Projection"
         }
        },
        "yaxis": {
         "anchor": "x",
         "domain": [
          0,
          1
         ],
         "showline": false,
         "title": {
          "text": ""
         },
         "type": "category"
        }
       }
      },
      "text/html": [
       "<div>\n",
       "        \n",
       "        \n",
       "            <div id=\"d031b045-7276-4e71-8055-acd5c3472fc2\" class=\"plotly-graph-div\" style=\"height:700px; width:1000px;\"></div>\n",
       "            <script type=\"text/javascript\">\n",
       "                require([\"plotly\"], function(Plotly) {\n",
       "                    window.PLOTLYENV=window.PLOTLYENV || {};\n",
       "                    \n",
       "                if (document.getElementById(\"d031b045-7276-4e71-8055-acd5c3472fc2\")) {\n",
       "                    Plotly.newPlot(\n",
       "                        'd031b045-7276-4e71-8055-acd5c3472fc2',\n",
       "                        [{\"customdata\": [[\"de_IAmA\", 4439], [\"resumes\", 17206], [\"Warts\", 2866], [\"BeckleyOnReddit\", 1], [\"HardwareSwapUK\", 11581], [\"Newark\", 1503], [\"Cash4Cash\", 6788], [\"toyexchange\", 2693], [\"PublishProtocol\", 3380], [\"dwarffortress\", 21998], [\"vmware\", 10203], [\"flairwars\", 5208], [\"IronThroneRP\", 11616], [\"HistoryWhatIf\", 7014], [\"unknownvideos\", 4219], [\"rwbyRP\", 6824], [\"GCTrading\", 9297], [\"tud\", 1], [\"ClashOfClansRecruit\", 23264], [\"textfriends\", 3792], [\"funnyvideos\", 3700], [\"AsianLadyBonerGW\", 5095], [\"RandomActsOfBlowJob\", 90243], [\"awoiafrp\", 8845], [\"Bitwarden\", 2964], [\"StrawHatRPG\", 8061], [\"DebateCommunism\", 415], [\"BasicIncome\", 281], [\"Argenpol\", 114], [\"PoliticalCompass\", 219], [\"ndp\", 85], [\"DebateAnarchism\", 96], [\"LeftWingMaleAdvocates\", 78], [\"brasilnoticias\", 240], [\"lostgeneration\", 1345], [\"canadaleft\", 80], [\"amherst\", 1], [\"swoleacceptance\", 1443], [\"jesuschristreddit\", 3159], [\"AquaSama\", 16607], [\"DebateAChristian\", 7223], [\"AskAChristian\", 7103], [\"CapitalismVSocialism\", 72803], [\"Fairfield\", 2], [\"InsiderMemeTrading\", 5549], [\"DebateAnarchism\", 2525], [\"CineShots\", 2373], [\"DebateCommunism\", 9930], [\"PublishProtocol\", 4028], [\"blockmason\", 2148], [\"faireumofficial\", 1238], [\"MoviePosterPorn\", 1964], [\"KCL\", 4], [\"ICOAnalysis\", 2190], [\"AskConservatives\", 5228], [\"AskALiberal\", 23031], [\"Crypto_General\", 1102], [\"askaconservative\", 9511], [\"VirginiaPolitics\", 309], [\"stolaf\", 1], [\"Virginia\", 696], [\"ColoradoPolitics\", 131], [\"scotus\", 180], [\"politicsdebate\", 102], [\"gunpolitics\", 6710], [\"blacksburg\", 1], [\"PoliticalDiscussion\", 1851], [\"California_Politics\", 126], [\"PoliticalOpinions\", 95], [\"TexasPolitics\", 290], [\"Alabama\", 1047], [\"GenderCriticalGuys\", 580], [\"PoliticalOpinions\", 420], [\"politicsdebate\", 356], [\"OneY\", 283], [\"childfree\", 26507], [\"mormonpolitics\", 420], [\"Abortiondebate\", 42203], [\"amipregnant\", 955], [\"Kent\", 7], [\"AskFeminists\", 11331], [\"LeftWingMaleAdvocates\", 1502], [\"polyamoryR4R\", 1488], [\"SDSMT\", 3], [\"FIREUK\", 2283], [\"jamescook\", 1], [\"tud\", 1], [\"claremontcolleges\", 8], [\"funkoswap\", 13567], [\"colum\", 5], [\"asshole\", 16823], [\"HolyCross\", 1], [\"Hairy\", 3266], [\"iwanttobeher\", 14329], [\"Fairfield\", 4], [\"industrialized\", 12828], [\"JUSTNOFAMILY\", 25056]], \"hovertemplate\": \"label=NA<br>Projection=%{x}<br>=%{y}<br>size=%{marker.size}<br>subreddit=%{customdata[0]}<br>count=%{customdata[1]}<extra></extra>\", \"legendgroup\": \"NA\", \"marker\": {\"color\": \"#636efa\", \"size\": [12.116018993325094, 14.070624122430266, 11.484822894262146, 0.0, 13.499472212561567, 10.553629293916364, 12.728770849542663, 11.394998514501673, 11.722807531169547, 14.425084743242847, 13.316705791428998, 12.346513733165635, 13.50382573799575, 12.776021715252812, 12.042685372219351, 12.73640193131829, 13.182549540307372, 0.0, 14.505811553919594, 11.888743248898258, 11.853309555403674, 12.314866431053176, 16.461527408425134, 13.110646427577821, 11.533329732305834, 12.976743106734322, 8.696967526234287, 8.134426320220927, 6.832890014164741, 7.774787059601174, 6.409390936137702, 6.584962500721156, 6.285402218862249, 7.906890595608519, 10.393390457443987, 6.321928094887363, 0.0, 10.494855584491198, 11.625252221746873, 14.019503858266578, 12.818382455041155, 12.794212769983066, 16.151710280467206, 1.0, 12.438012087651131, 11.302067672526519, 11.212496385193948, 13.277578002415737, 11.975847968006784, 11.068778277985412, 10.273795599214264, 10.939579214314692, 2.0, 11.096715154488535, 12.352043425795433, 14.491289433481759, 10.105908508571158, 13.215381320721084, 8.271463027904375, 0.0, 9.442943495848729, 7.03342300153745, 7.491853096329675, 6.672425341971495, 12.712097051087547, 0.0, 10.854089179870574, 6.977279923499917, 6.569855608330948, 8.179909090014934, 10.032045726930809, 9.179909090014934, 8.714245517666123, 8.475733430966399, 8.144658242831882, 14.694085778157689, 8.714245517666123, 15.365057936095372, 9.899356922923111, 2.807354922057604, 13.467987569161329, 10.552669097514272, 10.539158811108031, 1.584962500721156, 11.156715144224702, 0.0, 0.0, 3.0, 13.727814119936957, 2.321928094887362, 14.0381473799815, 0.0, 11.673309075561695, 13.806650309081014, 2.0, 13.647008638441648, 14.612868497291041], \"sizemode\": \"area\", \"sizeref\": 0.043606629933987937, \"symbol\": \"circle\"}, \"mode\": \"markers\", \"name\": \"NA\", \"orientation\": \"h\", \"showlegend\": true, \"type\": \"scatter\", \"x\": [0.1282841950730742, 0.11280105750077415, -0.08787072576644753, -0.07769036779819616, 0.005621506686841009, -0.06984930684728356, -0.14403575587283104, -0.027591511866632522, -0.0780890227240187, 0.09413948543881494, 0.07698022921884394, -0.0457230528473627, 0.05906331488479458, 0.08203798842103337, -0.11103623513494494, 0.12094259863916693, -0.09959574127890726, 0.09767611199686287, -0.06487187881436228, 0.020980715084396608, -0.15002803960923014, 0.05219454028959295, 0.016126006189213397, 0.05583567608833286, 0.10373298105796565, 0.006335387425597752, -0.31757575502387175, -0.06742586623182117, -0.0596923674982803, -0.2598152273466819, -0.19281333208864138, -0.3608910863796983, -0.14590947599206588, -0.16981240930487934, -0.15847170024785748, -0.2901229202074779, -0.06020684930805098, 0.10338922207462463, 0.06817086002136041, 0.06913753420290891, 0.3232120938003662, 0.30380574611276784, -0.0007823907049239249, -0.05139714332358418, 0.06868672745772214, -0.2116507600769791, -0.07241403764852263, -0.15443020935065488, 0.01818720207900563, 0.023130513382229573, 0.053167524020762, -0.04365765941974546, -0.07454250892617027, 0.041783106016869985, 0.17706916511576182, 0.06273306512964172, 0.07541995966375038, 0.3281131110423647, -0.11638662757230189, -0.063914664483389, -0.05910833258211386, -0.07412948075300843, -0.15277613381520525, -0.08941145487490984, 0.17091924370260078, -0.0860571721893297, -0.21214807047873394, -0.13624554723228618, -0.2507177559650879, -0.11052853611070006, 0.030125097583888028, 0.1228082700620756, 0.0379515309472795, 0.10040154564130964, 0.12236665711059558, -0.1236788020374292, 0.07683839686197652, 0.2694595327952746, -0.026941471455192465, -0.012398869923552405, -0.0356762719058731, 0.11990225104661621, 0.10067594865987695, 0.02086716875642961, 0.13876909466033002, 0.1132450210558834, -0.026909708053528963, 0.018431822697454064, -0.12595366606727865, 0.15660156510409368, -0.11256836259350052, 0.06327060967337321, 0.0051027423678419144, 0.0069299749646894735, 0.05321315253833437, -0.07317489714160524, 0.09974610275293741], \"xaxis\": \"x\", \"y\": [\"War\", \"War\", \"War\", \"War\", \"War\", \"War\", \"War\", \"War\", \"War\", \"War\", \"War\", \"War\", \"War\", \"War\", \"War\", \"War\", \"War\", \"War\", \"War\", \"War\", \"War\", \"War\", \"War\", \"War\", \"War\", \"War\", \"Trade\", \"Trade\", \"Trade\", \"Trade\", \"Trade\", \"Trade\", \"Trade\", \"Trade\", \"Trade\", \"Trade\", \"Trade\", \"Religiosity\", \"Religiosity\", \"Religiosity\", \"Religiosity\", \"Religiosity\", \"Ideology\", \"Ideology\", \"Ideology\", \"Ideology\", \"Ideology\", \"Ideology\", \"Ideology\", \"Ideology\", \"Ideology\", \"Ideology\", \"Ideology\", \"Ideology\", \"Ideology\", \"Ideology\", \"Ideology\", \"Ideology\", \"Gun Control\", \"Gun Control\", \"Gun Control\", \"Gun Control\", \"Gun Control\", \"Gun Control\", \"Gun Control\", \"Gun Control\", \"Gun Control\", \"Gun Control\", \"Gun Control\", \"Gun Control\", \"Birth Control\", \"Birth Control\", \"Birth Control\", \"Birth Control\", \"Birth Control\", \"Birth Control\", \"Birth Control\", \"Birth Control\", \"Birth Control\", \"Birth Control\", \"Birth Control\", \"Birth Control\", \"Age\", \"Age\", \"Age\", \"Age\", \"Age\", \"Age\", \"Age\", \"Age\", \"Age\", \"Age\", \"Age\", \"Age\", \"Age\", \"Age\", \"Age\"], \"yaxis\": \"y\"}, {\"customdata\": [[\"LeftWithoutEdge\", 518], [\"EndlessWar\", 14904]], \"hovertemplate\": \"label=Pacifistic<br>Projection=%{x}<br>=%{y}<br>size=%{marker.size}<br>subreddit=%{customdata[0]}<br>count=%{customdata[1]}<extra></extra>\", \"legendgroup\": \"Pacifistic\", \"marker\": {\"color\": \"#EF553B\", \"size\": [9.016808287686555, 13.863411958941638], \"sizemode\": \"area\", \"sizeref\": 0.043606629933987937, \"symbol\": \"circle\"}, \"mode\": \"markers\", \"name\": \"Pacifistic\", \"orientation\": \"h\", \"showlegend\": true, \"type\": \"scatter\", \"x\": [-0.2710183520487015, -0.5103557530872048], \"xaxis\": \"x\", \"y\": [\"War\", \"War\"], \"yaxis\": \"y\"}, {\"customdata\": [[\"WarCollege\", 6204], [\"CredibleDefense\", 45607]], \"hovertemplate\": \"label=Hawkish<br>Projection=%{x}<br>=%{y}<br>size=%{marker.size}<br>subreddit=%{customdata[0]}<br>count=%{customdata[1]}<extra></extra>\", \"legendgroup\": \"Hawkish\", \"marker\": {\"color\": \"#00cc96\", \"size\": [12.59898297103609, 15.476967653286689], \"sizemode\": \"area\", \"sizeref\": 0.043606629933987937, \"symbol\": \"circle\"}, \"mode\": \"markers\", \"name\": \"Hawkish\", \"orientation\": \"h\", \"showlegend\": true, \"type\": \"scatter\", \"x\": [0.41182942165349706, 0.34764479051595937], \"xaxis\": \"x\", \"y\": [\"War\", \"War\"], \"yaxis\": \"y\"}, {\"customdata\": [[\"WeAreNotAsking\", 116], [\"BreadTube\", 1591], [\"dsa\", 64], [\"SocialDemocracy\", 208], [\"Labour\", 275], [\"stupidpol\", 4309], [\"LeftWithoutEdge\", 205], [\"Socialism_101\", 394], [\"WayOfTheBern\", 3828], [\"Kossacks_for_Sanders\", 168], [\"CriticalTheory\", 235], [\"The_Donald\", 62458], [\"chomsky\", 335]], \"hovertemplate\": \"label=Anti-Trade<br>Projection=%{x}<br>=%{y}<br>size=%{marker.size}<br>subreddit=%{customdata[0]}<br>count=%{customdata[1]}<extra></extra>\", \"legendgroup\": \"Anti-Trade\", \"marker\": {\"color\": \"#ab63fa\", \"size\": [6.857980995127572, 10.635718120331047, 6.0, 7.700439718141092, 8.103287808412022, 12.073137383110383, 7.679480099505446, 8.622051819456376, 11.902375114486025, 7.392317422778761, 7.876516946564999, 15.93059875236169, 8.388017285345136], \"sizemode\": \"area\", \"sizeref\": 0.043606629933987937, \"symbol\": \"circle\"}, \"mode\": \"markers\", \"name\": \"Anti-Trade\", \"orientation\": \"h\", \"showlegend\": true, \"type\": \"scatter\", \"x\": [-0.14700423860328726, -0.3733732398874508, -0.18502726707163525, -0.15921461894684064, -0.30344392144831783, -0.12103495875968963, -0.341291653604567, -0.40220359440438785, -0.0709429818559345, -0.11432991265936246, -0.22848704075967402, 0.12104794884389276, -0.27733974108949605], \"xaxis\": \"x\", \"y\": [\"Trade\", \"Trade\", \"Trade\", \"Trade\", \"Trade\", \"Trade\", \"Trade\", \"Trade\", \"Trade\", \"Trade\", \"Trade\", \"Trade\", \"Trade\"], \"yaxis\": \"y\"}, {\"customdata\": [[\"neoliberal\", 81320], [\"seculartalk\", 139], [\"neoconNWO\", 844], [\"badeconomics\", 483], [\"Classical_Liberals\", 128], [\"AskEconomics\", 431]], \"hovertemplate\": \"label=Pro-Trade<br>Projection=%{x}<br>=%{y}<br>size=%{marker.size}<br>subreddit=%{customdata[0]}<br>count=%{customdata[1]}<extra></extra>\", \"legendgroup\": \"Pro-Trade\", \"marker\": {\"color\": \"#FFA15A\", \"size\": [16.311322594732093, 7.118941072723508, 9.721099188707186, 8.915879378835774, 7.0, 8.751544059089099], \"sizemode\": \"area\", \"sizeref\": 0.043606629933987937, \"symbol\": \"circle\"}, \"mode\": \"markers\", \"name\": \"Pro-Trade\", \"orientation\": \"h\", \"showlegend\": true, \"type\": \"scatter\", \"x\": [0.17344437042170258, -0.1786188678654813, 0.10159711577820714, 0.06697391240818097, 0.05728938991686627, 0.12923699419440252], \"xaxis\": \"x\", \"y\": [\"Trade\", \"Trade\", \"Trade\", \"Trade\", \"Trade\", \"Trade\"], \"yaxis\": \"y\"}, {\"customdata\": [[\"Bible\", 5779], [\"Reformed\", 20412], [\"OrthodoxChristianity\", 15751], [\"OpenChristian\", 4194], [\"Anglicanism\", 6392], [\"mormon\", 26108], [\"RPChristians\", 2151], [\"Christian\", 11560], [\"GayChristians\", 1941], [\"Christians\", 3353], [\"Christianmarriage\", 4473], [\"NoFapChristians\", 5732], [\"latterdaysaints\", 25440], [\"lds\", 1917], [\"PrayerRequests\", 4812], [\"TrueChristian\", 37686], [\"RadicalChristianity\", 1522], [\"Catholicism\", 71628], [\"Christianity\", 178140]], \"hovertemplate\": \"label=Religious<br>Projection=%{x}<br>=%{y}<br>size=%{marker.size}<br>subreddit=%{customdata[0]}<br>count=%{customdata[1]}<extra></extra>\", \"legendgroup\": \"Religious\", \"marker\": {\"color\": \"#19d3f3\", \"size\": [12.496604154575603, 14.317129926384542, 13.943155804939336, 12.034111146096592, 12.642051692927977, 14.672204323964033, 11.070791809423062, 13.496853777388042, 10.922584402713664, 11.711236767793784, 12.127027043004599, 12.484822894262146, 14.634811050171718, 10.904634621668151, 12.232420927176076, 15.201741054721296, 10.571752643503546, 16.12823603917096, 17.442651973595176], \"sizemode\": \"area\", \"sizeref\": 0.043606629933987937, \"symbol\": \"circle\"}, \"mode\": \"markers\", \"name\": \"Religious\", \"orientation\": \"h\", \"showlegend\": true, \"type\": \"scatter\", \"x\": [0.39376973778145535, 0.39700437986054954, 0.357664916999523, 0.18891379448605125, 0.25942092923690174, 0.17022194952433647, 0.3025010970687855, 0.3655894716594784, 0.12479725765528235, 0.3927246911600024, 0.32621032143511597, 0.42066405258434714, 0.24801933493677758, 0.3082973378723236, 0.27004045764052587, 0.39460748017999553, 0.21095493501227822, 0.4275474535582986, 0.34299004117369886], \"xaxis\": \"x\", \"y\": [\"Religiosity\", \"Religiosity\", \"Religiosity\", \"Religiosity\", \"Religiosity\", \"Religiosity\", \"Religiosity\", \"Religiosity\", \"Religiosity\", \"Religiosity\", \"Religiosity\", \"Religiosity\", \"Religiosity\", \"Religiosity\", \"Religiosity\", \"Religiosity\", \"Religiosity\", \"Religiosity\", \"Religiosity\"], \"yaxis\": \"y\"}, {\"customdata\": [[\"exIglesiaNiCristo\", 4573], [\"excatholic\", 3498], [\"agnostic\", 2147], [\"exlldm\", 2984], [\"exchristian\", 28380], [\"exmormon\", 170129]], \"hovertemplate\": \"label=Secular<br>Projection=%{x}<br>=%{y}<br>size=%{marker.size}<br>subreddit=%{customdata[0]}<br>count=%{customdata[1]}<extra></extra>\", \"legendgroup\": \"Secular\", \"marker\": {\"color\": \"#FF6692\", \"size\": [12.158925203806964, 11.772314573921653, 11.068106475858773, 11.543031820255237, 14.792586968947914, 17.376269556591197], \"sizemode\": \"area\", \"sizeref\": 0.043606629933987937, \"symbol\": \"circle\"}, \"mode\": \"markers\", \"name\": \"Secular\", \"orientation\": \"h\", \"showlegend\": true, \"type\": \"scatter\", \"x\": [-0.036380486381942696, 0.07511453674127389, 0.1992243091238195, -0.05743893857197754, 0.09628302327873395, 0.021644737038661765], \"xaxis\": \"x\", \"y\": [\"Religiosity\", \"Religiosity\", \"Religiosity\", \"Religiosity\", \"Religiosity\", \"Religiosity\"], \"yaxis\": \"y\"}, {\"customdata\": [[\"benshapiro\", 1371], [\"Capitalism\", 3083], [\"The_Donald\", 48288], [\"tuesday\", 3540], [\"Classical_Liberals\", 1143]], \"hovertemplate\": \"label=Conservative<br>Projection=%{x}<br>=%{y}<br>size=%{marker.size}<br>subreddit=%{customdata[0]}<br>count=%{customdata[1]}<extra></extra>\", \"legendgroup\": \"Conservative\", \"marker\": {\"color\": \"#B6E880\", \"size\": [10.421012855779226, 11.590119174107175, 15.559377090526683, 11.78953364497036, 10.158609688214478], \"sizemode\": \"area\", \"sizeref\": 0.043606629933987937, \"symbol\": \"circle\"}, \"mode\": \"markers\", \"name\": \"Conservative\", \"orientation\": \"h\", \"showlegend\": true, \"type\": \"scatter\", \"x\": [0.3054860820424322, 0.2696571612129379, 0.3860751325153711, 0.18500029214709282, 0.3277532601253236], \"xaxis\": \"x\", \"y\": [\"Ideology\", \"Ideology\", \"Ideology\", \"Ideology\", \"Ideology\"], \"yaxis\": \"y\"}, {\"customdata\": [[\"Socialism_101\", 12306], [\"SocialDemocracy\", 1185], [\"canadaleft\", 2692], [\"capitalism_in_decay\", 2634], [\"LateStageCapitalism\", 62136], [\"communism101\", 8758], [\"Anarchy101\", 6952], [\"BasicIncome\", 4365], [\"socialism\", 17790]], \"hovertemplate\": \"label=Progressive<br>Projection=%{x}<br>=%{y}<br>size=%{marker.size}<br>subreddit=%{customdata[0]}<br>count=%{customdata[1]}<extra></extra>\", \"legendgroup\": \"Progressive\", \"marker\": {\"color\": \"#FF97FF\", \"size\": [13.587074277201008, 10.210671343785622, 11.394462694610317, 11.363039630256514, 15.923141750621268, 13.096385734452651, 12.7632123668144, 12.091765938516803, 14.118778890154521], \"sizemode\": \"area\", \"sizeref\": 0.043606629933987937, \"symbol\": \"circle\"}, \"mode\": \"markers\", \"name\": \"Progressive\", \"orientation\": \"h\", \"showlegend\": true, \"type\": \"scatter\", \"x\": [-0.3425119109375313, -0.3458568571232288, -0.2609184173082289, -0.39240052290112826, -0.3060482337645443, -0.3353171856684026, -0.3298392291402624, -0.24114264605105315, -0.37406066586913506], \"xaxis\": \"x\", \"y\": [\"Ideology\", \"Ideology\", \"Ideology\", \"Ideology\", \"Ideology\", \"Ideology\", \"Ideology\", \"Ideology\", \"Ideology\"], \"yaxis\": \"y\"}, {\"customdata\": [[\"GunsAreCool\", 782]], \"hovertemplate\": \"label=More Regulation<br>Projection=%{x}<br>=%{y}<br>size=%{marker.size}<br>subreddit=%{customdata[0]}<br>count=%{customdata[1]}<extra></extra>\", \"legendgroup\": \"More Regulation\", \"marker\": {\"color\": \"#FECB52\", \"size\": [9.611024797307353], \"sizemode\": \"area\", \"sizeref\": 0.043606629933987937, \"symbol\": \"circle\"}, \"mode\": \"markers\", \"name\": \"More Regulation\", \"orientation\": \"h\", \"showlegend\": true, \"type\": \"scatter\", \"x\": [-0.48492995953014906], \"xaxis\": \"x\", \"y\": [\"Gun Control\"], \"yaxis\": \"y\"}, {\"customdata\": [[\"SocialistRA\", 752], [\"NOWTTYG\", 670], [\"progun\", 11044], [\"Firearms\", 7619], [\"WA_guns\", 655], [\"VAGuns\", 890], [\"2ALiberals\", 1871], [\"Iamactuallyverybadass\", 285], [\"CAguns\", 1000], [\"Classical_Liberals\", 72], [\"canadaguns\", 1306], [\"liberalgunowners\", 7630], [\"shitguncontrollerssay\", 1129], [\"dgu\", 76], [\"libertarianmeme\", 512], [\"NJGuns\", 117], [\"NYguns\", 106]], \"hovertemplate\": \"label=Less Regulation<br>Projection=%{x}<br>=%{y}<br>size=%{marker.size}<br>subreddit=%{customdata[0]}<br>count=%{customdata[1]}<extra></extra>\", \"legendgroup\": \"Less Regulation\", \"marker\": {\"color\": \"#636efa\", \"size\": [9.554588851677638, 9.388017285345136, 13.430975172588068, 12.895385939898507, 9.355351096424812, 9.79766152585376, 10.869593843240784, 8.154818109052105, 9.965784284662087, 6.169925001442312, 10.350939181546432, 12.897467341721892, 10.140829770773001, 6.247927513443585, 9.0, 6.870364719583405, 6.727920454563199], \"sizemode\": \"area\", \"sizeref\": 0.043606629933987937, \"symbol\": \"circle\"}, \"mode\": \"markers\", \"name\": \"Less Regulation\", \"orientation\": \"h\", \"showlegend\": true, \"type\": \"scatter\", \"x\": [-0.13893245831558146, 0.10861161052152234, 0.42511464456362275, 0.26259561759298833, 0.15483143885269804, 0.1325647533875033, 0.03243329440789397, 0.024517926657136088, 0.13209717641244234, 0.1280235309057505, 0.16058592728567142, 0.024242731641686843, 0.1269890058992931, 0.15330240145672525, 0.25616211657055166, 0.06523546026502981, 0.06835798101617112], \"xaxis\": \"x\", \"y\": [\"Gun Control\", \"Gun Control\", \"Gun Control\", \"Gun Control\", \"Gun Control\", \"Gun Control\", \"Gun Control\", \"Gun Control\", \"Gun Control\", \"Gun Control\", \"Gun Control\", \"Gun Control\", \"Gun Control\", \"Gun Control\", \"Gun Control\", \"Gun Control\", \"Gun Control\"], \"yaxis\": \"y\"}, {\"customdata\": [[\"endometriosis\", 850], [\"Endo\", 1220], [\"Feminism\", 3429], [\"abortion\", 12684], [\"TwoXChromosomes\", 32247], [\"PMDD\", 981], [\"PCOS\", 3847], [\"Periods\", 799], [\"GenderCritical\", 31523], [\"Egalitarianism\", 1004], [\"WomensHealth\", 1703], [\"FeMRADebates\", 2306], [\"birthcontrol\", 13610], [\"prochoice\", 12759]], \"hovertemplate\": \"label=Pro-Choice<br>Projection=%{x}<br>=%{y}<br>size=%{marker.size}<br>subreddit=%{customdata[0]}<br>count=%{customdata[1]}<extra></extra>\", \"legendgroup\": \"Pro-Choice\", \"marker\": {\"color\": \"#EF553B\", \"size\": [9.731319031025064, 10.252665432450248, 11.743572188935634, 13.630722162103838, 14.976877329653048, 9.938109326219239, 11.909518114296615, 9.642051692927977, 14.944117220154881, 9.971543553950772, 10.733862719678543, 11.171176797651771, 13.732379446391358, 13.63922764034692], \"sizemode\": \"area\", \"sizeref\": 0.043606629933987937, \"symbol\": \"circle\"}, \"mode\": \"markers\", \"name\": \"Pro-Choice\", \"orientation\": \"h\", \"showlegend\": true, \"type\": \"scatter\", \"x\": [-0.13443891825076662, -0.12312606729043543, -0.017806857236398417, -0.005334031634342216, -0.03583218219086587, -0.18212241786322403, -0.06673679664577215, 0.014415887117839471, 0.17603586673664035, 0.15777939127789983, -0.008525239199694615, 0.13182919913601715, -0.0882533903256089, 0.13071072857825067], \"xaxis\": \"x\", \"y\": [\"Birth Control\", \"Birth Control\", \"Birth Control\", \"Birth Control\", \"Birth Control\", \"Birth Control\", \"Birth Control\", \"Birth Control\", \"Birth Control\", \"Birth Control\", \"Birth Control\", \"Birth Control\", \"Birth Control\", \"Birth Control\"], \"yaxis\": \"y\"}, {\"customdata\": [[\"MensRights\", 19682], [\"benshapiro\", 945], [\"antifeminists\", 1027], [\"prolife\", 23318]], \"hovertemplate\": \"label=Pro-Life<br>Projection=%{x}<br>=%{y}<br>size=%{marker.size}<br>subreddit=%{customdata[0]}<br>count=%{customdata[1]}<extra></extra>\", \"legendgroup\": \"Pro-Life\", \"marker\": {\"color\": \"#00cc96\", \"size\": [14.264589208126823, 9.884170519108435, 10.004220466318195, 14.509156432503849], \"sizemode\": \"area\", \"sizeref\": 0.043606629933987937, \"symbol\": \"circle\"}, \"mode\": \"markers\", \"name\": \"Pro-Life\", \"orientation\": \"h\", \"showlegend\": true, \"type\": \"scatter\", \"x\": [0.38566057704834383, 0.3054860820424322, 0.3146958458912606, 0.4769765859593556], \"xaxis\": \"x\", \"y\": [\"Birth Control\", \"Birth Control\", \"Birth Control\", \"Birth Control\"], \"yaxis\": \"y\"}, {\"customdata\": [[\"dankmemes\", 2601], [\"LifeAfterSchool\", 2381], [\"AsianParentStories\", 5721], [\"2meirl4meirl\", 6730], [\"family\", 7977], [\"teenagers\", 15271]], \"hovertemplate\": \"label=Younger<br>Projection=%{x}<br>=%{y}<br>size=%{marker.size}<br>subreddit=%{customdata[0]}<br>count=%{customdata[1]}<extra></extra>\", \"legendgroup\": \"Younger\", \"marker\": {\"color\": \"#ab63fa\", \"size\": [11.34485068394299, 11.217351905270334, 12.482051629033913, 12.71639078949768, 12.961630562578824, 13.898506917637286], \"sizemode\": \"area\", \"sizeref\": 0.043606629933987937, \"symbol\": \"circle\"}, \"mode\": \"markers\", \"name\": \"Younger\", \"orientation\": \"h\", \"showlegend\": true, \"type\": \"scatter\", \"x\": [-0.571760882785317, -0.0036621635541655693, 0.09452683751093863, -0.26898663281244756, 0.15115884705070148, -0.6654832741596896], \"xaxis\": \"x\", \"y\": [\"Age\", \"Age\", \"Age\", \"Age\", \"Age\", \"Age\"], \"yaxis\": \"y\"}, {\"customdata\": [[\"Mortgages\", 4210], [\"fosterit\", 1684], [\"Fosterparents\", 1399], [\"oneanddone\", 1716], [\"careeradvice\", 1983], [\"NarcAbuseAndDivorce\", 1837], [\"Genealogy\", 17441], [\"careerguidance\", 28406], [\"Adoption\", 6771]], \"hovertemplate\": \"label=Older<br>Projection=%{x}<br>=%{y}<br>size=%{marker.size}<br>subreddit=%{customdata[0]}<br>count=%{customdata[1]}<extra></extra>\", \"legendgroup\": \"Older\", \"marker\": {\"color\": \"#FFA15A\", \"size\": [12.039604517953759, 10.717676423066395, 10.450180247164754, 10.744833837499545, 10.953468962228849, 10.84313591111135, 14.090195140632224, 14.793908071814263, 12.725153203912992], \"sizemode\": \"area\", \"sizeref\": 0.043606629933987937, \"symbol\": \"circle\"}, \"mode\": \"markers\", \"name\": \"Older\", \"orientation\": \"h\", \"showlegend\": true, \"type\": \"scatter\", \"x\": [0.25847349793768193, 0.24460864090086895, 0.1979044003918679, 0.3043566335529976, 0.27980908060859444, 0.2884147302172998, 0.28362645469814535, 0.2832727560965278, 0.1577745059748364], \"xaxis\": \"x\", \"y\": [\"Age\", \"Age\", \"Age\", \"Age\", \"Age\", \"Age\", \"Age\", \"Age\", \"Age\"], \"yaxis\": \"y\"}],\n",
       "                        {\"font\": {\"size\": 23}, \"height\": 700, \"legend\": {\"itemsizing\": \"constant\", \"title\": {\"text\": \"label\"}, \"tracegroupgap\": 0}, \"margin\": {\"t\": 60}, \"template\": {\"data\": {\"bar\": [{\"error_x\": {\"color\": \"rgb(36,36,36)\"}, \"error_y\": {\"color\": \"rgb(36,36,36)\"}, \"marker\": {\"line\": {\"color\": \"white\", \"width\": 0.5}}, \"type\": \"bar\"}], \"barpolar\": [{\"marker\": {\"line\": {\"color\": \"white\", \"width\": 0.5}}, \"type\": \"barpolar\"}], \"carpet\": [{\"aaxis\": {\"endlinecolor\": \"rgb(36,36,36)\", \"gridcolor\": \"white\", \"linecolor\": \"white\", \"minorgridcolor\": \"white\", \"startlinecolor\": \"rgb(36,36,36)\"}, \"baxis\": {\"endlinecolor\": \"rgb(36,36,36)\", \"gridcolor\": \"white\", \"linecolor\": \"white\", \"minorgridcolor\": \"white\", \"startlinecolor\": \"rgb(36,36,36)\"}, \"type\": \"carpet\"}], \"choropleth\": [{\"colorbar\": {\"outlinewidth\": 1, \"tickcolor\": \"rgb(36,36,36)\", \"ticks\": \"outside\"}, \"type\": \"choropleth\"}], \"contour\": [{\"colorbar\": {\"outlinewidth\": 1, \"tickcolor\": \"rgb(36,36,36)\", \"ticks\": \"outside\"}, \"colorscale\": [[0.0, \"#440154\"], [0.1111111111111111, \"#482878\"], [0.2222222222222222, \"#3e4989\"], [0.3333333333333333, \"#31688e\"], [0.4444444444444444, \"#26828e\"], [0.5555555555555556, \"#1f9e89\"], [0.6666666666666666, \"#35b779\"], [0.7777777777777778, \"#6ece58\"], [0.8888888888888888, \"#b5de2b\"], [1.0, \"#fde725\"]], \"type\": \"contour\"}], \"contourcarpet\": [{\"colorbar\": {\"outlinewidth\": 1, \"tickcolor\": \"rgb(36,36,36)\", \"ticks\": \"outside\"}, \"type\": \"contourcarpet\"}], \"heatmap\": [{\"colorbar\": {\"outlinewidth\": 1, \"tickcolor\": \"rgb(36,36,36)\", \"ticks\": \"outside\"}, \"colorscale\": [[0.0, \"#440154\"], [0.1111111111111111, \"#482878\"], [0.2222222222222222, \"#3e4989\"], [0.3333333333333333, \"#31688e\"], [0.4444444444444444, \"#26828e\"], [0.5555555555555556, \"#1f9e89\"], [0.6666666666666666, \"#35b779\"], [0.7777777777777778, \"#6ece58\"], [0.8888888888888888, \"#b5de2b\"], [1.0, \"#fde725\"]], \"type\": \"heatmap\"}], \"heatmapgl\": [{\"colorbar\": {\"outlinewidth\": 1, \"tickcolor\": \"rgb(36,36,36)\", \"ticks\": \"outside\"}, \"colorscale\": [[0.0, \"#440154\"], [0.1111111111111111, \"#482878\"], [0.2222222222222222, \"#3e4989\"], [0.3333333333333333, \"#31688e\"], [0.4444444444444444, \"#26828e\"], [0.5555555555555556, \"#1f9e89\"], [0.6666666666666666, \"#35b779\"], [0.7777777777777778, \"#6ece58\"], [0.8888888888888888, \"#b5de2b\"], [1.0, \"#fde725\"]], \"type\": \"heatmapgl\"}], \"histogram\": [{\"marker\": {\"line\": {\"color\": \"white\", \"width\": 0.6}}, \"type\": \"histogram\"}], \"histogram2d\": [{\"colorbar\": {\"outlinewidth\": 1, \"tickcolor\": \"rgb(36,36,36)\", \"ticks\": \"outside\"}, \"colorscale\": [[0.0, \"#440154\"], [0.1111111111111111, \"#482878\"], [0.2222222222222222, \"#3e4989\"], [0.3333333333333333, \"#31688e\"], [0.4444444444444444, \"#26828e\"], [0.5555555555555556, \"#1f9e89\"], [0.6666666666666666, \"#35b779\"], [0.7777777777777778, \"#6ece58\"], [0.8888888888888888, \"#b5de2b\"], [1.0, \"#fde725\"]], \"type\": \"histogram2d\"}], \"histogram2dcontour\": [{\"colorbar\": {\"outlinewidth\": 1, \"tickcolor\": \"rgb(36,36,36)\", \"ticks\": \"outside\"}, \"colorscale\": [[0.0, \"#440154\"], [0.1111111111111111, \"#482878\"], [0.2222222222222222, \"#3e4989\"], [0.3333333333333333, \"#31688e\"], [0.4444444444444444, \"#26828e\"], [0.5555555555555556, \"#1f9e89\"], [0.6666666666666666, \"#35b779\"], [0.7777777777777778, \"#6ece58\"], [0.8888888888888888, \"#b5de2b\"], [1.0, \"#fde725\"]], \"type\": \"histogram2dcontour\"}], \"mesh3d\": [{\"colorbar\": {\"outlinewidth\": 1, \"tickcolor\": \"rgb(36,36,36)\", \"ticks\": \"outside\"}, \"type\": \"mesh3d\"}], \"parcoords\": [{\"line\": {\"colorbar\": {\"outlinewidth\": 1, \"tickcolor\": \"rgb(36,36,36)\", \"ticks\": \"outside\"}}, \"type\": \"parcoords\"}], \"pie\": [{\"automargin\": true, \"type\": \"pie\"}], \"scatter\": [{\"marker\": {\"colorbar\": {\"outlinewidth\": 1, \"tickcolor\": \"rgb(36,36,36)\", \"ticks\": \"outside\"}}, \"type\": \"scatter\"}], \"scatter3d\": [{\"line\": {\"colorbar\": {\"outlinewidth\": 1, \"tickcolor\": \"rgb(36,36,36)\", \"ticks\": \"outside\"}}, \"marker\": {\"colorbar\": {\"outlinewidth\": 1, \"tickcolor\": \"rgb(36,36,36)\", \"ticks\": \"outside\"}}, \"type\": \"scatter3d\"}], \"scattercarpet\": [{\"marker\": {\"colorbar\": {\"outlinewidth\": 1, \"tickcolor\": \"rgb(36,36,36)\", \"ticks\": \"outside\"}}, \"type\": \"scattercarpet\"}], \"scattergeo\": [{\"marker\": {\"colorbar\": {\"outlinewidth\": 1, \"tickcolor\": \"rgb(36,36,36)\", \"ticks\": \"outside\"}}, \"type\": \"scattergeo\"}], \"scattergl\": [{\"marker\": {\"colorbar\": {\"outlinewidth\": 1, \"tickcolor\": \"rgb(36,36,36)\", \"ticks\": \"outside\"}}, \"type\": \"scattergl\"}], \"scattermapbox\": [{\"marker\": {\"colorbar\": {\"outlinewidth\": 1, \"tickcolor\": \"rgb(36,36,36)\", \"ticks\": \"outside\"}}, \"type\": \"scattermapbox\"}], \"scatterpolar\": [{\"marker\": {\"colorbar\": {\"outlinewidth\": 1, \"tickcolor\": \"rgb(36,36,36)\", \"ticks\": \"outside\"}}, \"type\": \"scatterpolar\"}], \"scatterpolargl\": [{\"marker\": {\"colorbar\": {\"outlinewidth\": 1, \"tickcolor\": \"rgb(36,36,36)\", \"ticks\": \"outside\"}}, \"type\": \"scatterpolargl\"}], \"scatterternary\": [{\"marker\": {\"colorbar\": {\"outlinewidth\": 1, \"tickcolor\": \"rgb(36,36,36)\", \"ticks\": \"outside\"}}, \"type\": \"scatterternary\"}], \"surface\": [{\"colorbar\": {\"outlinewidth\": 1, \"tickcolor\": \"rgb(36,36,36)\", \"ticks\": \"outside\"}, \"colorscale\": [[0.0, \"#440154\"], [0.1111111111111111, \"#482878\"], [0.2222222222222222, \"#3e4989\"], [0.3333333333333333, \"#31688e\"], [0.4444444444444444, \"#26828e\"], [0.5555555555555556, \"#1f9e89\"], [0.6666666666666666, \"#35b779\"], [0.7777777777777778, \"#6ece58\"], [0.8888888888888888, \"#b5de2b\"], [1.0, \"#fde725\"]], \"type\": \"surface\"}], \"table\": [{\"cells\": {\"fill\": {\"color\": \"rgb(237,237,237)\"}, \"line\": {\"color\": \"white\"}}, \"header\": {\"fill\": {\"color\": \"rgb(217,217,217)\"}, \"line\": {\"color\": \"white\"}}, \"type\": \"table\"}]}, \"layout\": {\"annotationdefaults\": {\"arrowhead\": 0, \"arrowwidth\": 1}, \"coloraxis\": {\"colorbar\": {\"outlinewidth\": 1, \"tickcolor\": \"rgb(36,36,36)\", \"ticks\": \"outside\"}}, \"colorscale\": {\"diverging\": [[0.0, \"rgb(103,0,31)\"], [0.1, \"rgb(178,24,43)\"], [0.2, \"rgb(214,96,77)\"], [0.3, \"rgb(244,165,130)\"], [0.4, \"rgb(253,219,199)\"], [0.5, \"rgb(247,247,247)\"], [0.6, \"rgb(209,229,240)\"], [0.7, \"rgb(146,197,222)\"], [0.8, \"rgb(67,147,195)\"], [0.9, \"rgb(33,102,172)\"], [1.0, \"rgb(5,48,97)\"]], \"sequential\": [[0.0, \"#440154\"], [0.1111111111111111, \"#482878\"], [0.2222222222222222, \"#3e4989\"], [0.3333333333333333, \"#31688e\"], [0.4444444444444444, \"#26828e\"], [0.5555555555555556, \"#1f9e89\"], [0.6666666666666666, \"#35b779\"], [0.7777777777777778, \"#6ece58\"], [0.8888888888888888, \"#b5de2b\"], [1.0, \"#fde725\"]], \"sequentialminus\": [[0.0, \"#440154\"], [0.1111111111111111, \"#482878\"], [0.2222222222222222, \"#3e4989\"], [0.3333333333333333, \"#31688e\"], [0.4444444444444444, \"#26828e\"], [0.5555555555555556, \"#1f9e89\"], [0.6666666666666666, \"#35b779\"], [0.7777777777777778, \"#6ece58\"], [0.8888888888888888, \"#b5de2b\"], [1.0, \"#fde725\"]]}, \"colorway\": [\"#1F77B4\", \"#FF7F0E\", \"#2CA02C\", \"#D62728\", \"#9467BD\", \"#8C564B\", \"#E377C2\", \"#7F7F7F\", \"#BCBD22\", \"#17BECF\"], \"font\": {\"color\": \"rgb(36,36,36)\"}, \"geo\": {\"bgcolor\": \"white\", \"lakecolor\": \"white\", \"landcolor\": \"white\", \"showlakes\": true, \"showland\": true, \"subunitcolor\": \"white\"}, \"hoverlabel\": {\"align\": \"left\"}, \"hovermode\": \"closest\", \"mapbox\": {\"style\": \"light\"}, \"paper_bgcolor\": \"white\", \"plot_bgcolor\": \"white\", \"polar\": {\"angularaxis\": {\"gridcolor\": \"rgb(232,232,232)\", \"linecolor\": \"rgb(36,36,36)\", \"showgrid\": false, \"showline\": true, \"ticks\": \"outside\"}, \"bgcolor\": \"white\", \"radialaxis\": {\"gridcolor\": \"rgb(232,232,232)\", \"linecolor\": \"rgb(36,36,36)\", \"showgrid\": false, \"showline\": true, \"ticks\": \"outside\"}}, \"scene\": {\"xaxis\": {\"backgroundcolor\": \"white\", \"gridcolor\": \"rgb(232,232,232)\", \"gridwidth\": 2, \"linecolor\": \"rgb(36,36,36)\", \"showbackground\": true, \"showgrid\": false, \"showline\": true, \"ticks\": \"outside\", \"zeroline\": false, \"zerolinecolor\": \"rgb(36,36,36)\"}, \"yaxis\": {\"backgroundcolor\": \"white\", \"gridcolor\": \"rgb(232,232,232)\", \"gridwidth\": 2, \"linecolor\": \"rgb(36,36,36)\", \"showbackground\": true, \"showgrid\": false, \"showline\": true, \"ticks\": \"outside\", \"zeroline\": false, \"zerolinecolor\": \"rgb(36,36,36)\"}, \"zaxis\": {\"backgroundcolor\": \"white\", \"gridcolor\": \"rgb(232,232,232)\", \"gridwidth\": 2, \"linecolor\": \"rgb(36,36,36)\", \"showbackground\": true, \"showgrid\": false, \"showline\": true, \"ticks\": \"outside\", \"zeroline\": false, \"zerolinecolor\": \"rgb(36,36,36)\"}}, \"shapedefaults\": {\"fillcolor\": \"black\", \"line\": {\"width\": 0}, \"opacity\": 0.3}, \"ternary\": {\"aaxis\": {\"gridcolor\": \"rgb(232,232,232)\", \"linecolor\": \"rgb(36,36,36)\", \"showgrid\": false, \"showline\": true, \"ticks\": \"outside\"}, \"baxis\": {\"gridcolor\": \"rgb(232,232,232)\", \"linecolor\": \"rgb(36,36,36)\", \"showgrid\": false, \"showline\": true, \"ticks\": \"outside\"}, \"bgcolor\": \"white\", \"caxis\": {\"gridcolor\": \"rgb(232,232,232)\", \"linecolor\": \"rgb(36,36,36)\", \"showgrid\": false, \"showline\": true, \"ticks\": \"outside\"}}, \"title\": {\"x\": 0.05}, \"xaxis\": {\"automargin\": true, \"gridcolor\": \"rgb(232,232,232)\", \"linecolor\": \"rgb(36,36,36)\", \"showgrid\": false, \"showline\": true, \"ticks\": \"outside\", \"title\": {\"standoff\": 15}, \"zeroline\": false, \"zerolinecolor\": \"rgb(36,36,36)\"}, \"yaxis\": {\"automargin\": true, \"gridcolor\": \"rgb(232,232,232)\", \"linecolor\": \"rgb(36,36,36)\", \"showgrid\": false, \"showline\": true, \"ticks\": \"outside\", \"title\": {\"standoff\": 15}, \"zeroline\": false, \"zerolinecolor\": \"rgb(36,36,36)\"}}}, \"width\": 1000, \"xaxis\": {\"anchor\": \"y\", \"domain\": [0.0, 1.0], \"title\": {\"text\": \"Projection\"}}, \"yaxis\": {\"anchor\": \"x\", \"domain\": [0.0, 1.0], \"showline\": false, \"title\": {\"text\": \"\"}, \"type\": \"category\"}},\n",
       "                        {\"responsive\": true}\n",
       "                    ).then(function(){\n",
       "                            \n",
       "var gd = document.getElementById('d031b045-7276-4e71-8055-acd5c3472fc2');\n",
       "var x = new MutationObserver(function (mutations, observer) {{\n",
       "        var display = window.getComputedStyle(gd).display;\n",
       "        if (!display || display === 'none') {{\n",
       "            console.log([gd, 'removed!']);\n",
       "            Plotly.purge(gd);\n",
       "            observer.disconnect();\n",
       "        }}\n",
       "}});\n",
       "\n",
       "// Listen for the removal of the full notebook cells\n",
       "var notebookContainer = gd.closest('#notebook-container');\n",
       "if (notebookContainer) {{\n",
       "    x.observe(notebookContainer, {childList: true});\n",
       "}}\n",
       "\n",
       "// Listen for the clearing of the current output cell\n",
       "var outputEl = gd.closest('.output');\n",
       "if (outputEl) {{\n",
       "    x.observe(outputEl, {childList: true});\n",
       "}}\n",
       "\n",
       "                        })\n",
       "                };\n",
       "                });\n",
       "            </script>\n",
       "        </div>"
      ]
     },
     "metadata": {},
     "output_type": "display_data"
    }
   ],
   "source": [
    "fig = px.scatter(counts_df,\n",
    "                 x=\"projection\",\n",
    "                 color=\"label\",\n",
    "                 size=\"size\",\n",
    "                 hover_data=[\"subreddit\",\"count\"],\n",
    "                 y=\"dim\",\n",
    "                 labels=dict(dim=\"\",projection=\"Projection\"),\n",
    "                )\n",
    "# fig.update_layout(annotations=[\n",
    "#            dict(x=point,\n",
    "#             y=dim,\n",
    "#             xref=\"x\",\n",
    "#             yref=\"y\",\n",
    "#             text=text,\n",
    "#             align='center',\n",
    "#             showarrow=False,\n",
    "#             yanchor='bottom',\n",
    "#             textangle=90) for point,text,dim in counts_df[[\"projection\",\"subreddit\",\"dim\"]].itertuples(index=False)])\n",
    "\n",
    "args = {\n",
    "    \"font\":{\"size\": 23},\n",
    "    \"height\": 700,\n",
    "    \"width\": 1000,    \n",
    "    \"template\":\"simple_white\",\n",
    "    \"yaxis_type\": 'category',\n",
    "    \"yaxis\":{\"showline\": False}\n",
    "}\n",
    "    \n",
    "fig.update_layout(**args)\n",
    "with open(\"visualizations/political_dimensions/dimension_validation.pdf\", \"wb\") as f:\n",
    "    f.write(scope.transform(fig, format=\"pdf\"))\n",
    "# fig.write_html(\"visualizations/political_dimensions/dimension_validation.html\")\n",
    "fig.show()\n"
   ]
  },
  {
   "cell_type": "code",
   "execution_count": 116,
   "metadata": {},
   "outputs": [
    {
     "name": "stdout",
     "output_type": "stream",
     "text": [
      "\\begin{tabular}{llr}\n",
      "\\toprule\n",
      "    &            &  projection \\\\\n",
      "dim & label &             \\\\\n",
      "\\midrule\n",
      "Age & NA &    0.029216 \\\\\n",
      "    & Older &    0.255360 \\\\\n",
      "    & Younger &   -0.210701 \\\\\n",
      "Birth Control & NA &    0.056763 \\\\\n",
      "    & Pro-Choice &   -0.003672 \\\\\n",
      "    & Pro-Life &    0.370705 \\\\\n",
      "Globalism & Anti-Trade &   -0.200203 \\\\\n",
      "    & NA &   -0.189340 \\\\\n",
      "    & Pro-Trade &    0.058320 \\\\\n",
      "Gun Control & Less Regulation &    0.124514 \\\\\n",
      "    & More Regulation &   -0.484930 \\\\\n",
      "    & NA &   -0.098375 \\\\\n",
      "Ideology & Conservative &    0.294794 \\\\\n",
      "    & NA &    0.014963 \\\\\n",
      "    & Progressive &   -0.325344 \\\\\n",
      "Religion & NA &    0.173543 \\\\\n",
      "    & Religious &    0.310628 \\\\\n",
      "    & Secular &    0.049741 \\\\\n",
      "War & Hawkish &    0.379737 \\\\\n",
      "    & NA &    0.002937 \\\\\n",
      "    & Pacifistic &   -0.390687 \\\\\n",
      "\\bottomrule\n",
      "\\end{tabular}\n",
      "\n"
     ]
    }
   ],
   "source": [
    "print(counts_df.groupby([\"dim\",\"label\"])[[\"dim\",\"label\",\"projection\"]].mean().to_latex())"
   ]
  },
  {
   "cell_type": "code",
   "execution_count": null,
   "metadata": {},
   "outputs": [],
   "source": []
  }
 ],
 "metadata": {
  "kernelspec": {
   "display_name": "Python 3",
   "language": "python",
   "name": "python3"
  },
  "language_info": {
   "codemirror_mode": {
    "name": "ipython",
    "version": 3
   },
   "file_extension": ".py",
   "mimetype": "text/x-python",
   "name": "python",
   "nbconvert_exporter": "python",
   "pygments_lexer": "ipython3",
   "version": "3.7.7"
  }
 },
 "nbformat": 4,
 "nbformat_minor": 4
}
