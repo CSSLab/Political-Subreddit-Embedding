{
 "cells": [
  {
   "cell_type": "markdown",
   "metadata": {},
   "source": [
    "# Dimension Validation\n",
    "\n",
    "Goal: For each dimension, take words that aligns with and oppose the dimension. Collect all the subreddits that use those word in the comments and take the 50 subreddits that use those words the most. Hand label the subreddits as pro, against or unclear for that dimension and project them onto the dimension. See if the political dimension picks up on the differences.\n",
    "\n",
    "* Ideology Words:\n",
    "    * Left Words: progressive, socialism\n",
    "    * Right Words: conservative, libtard (gotta pick up those alt right ones), based\n",
    "* Religious: \n",
    "    * Religious: bible, jesus, pray, church, mosque\n",
    "    * Secular: atheism\n",
    "* Birth Control Words: abortion, feminism, feminazi, \"birth control\"\n",
    "* Gun Control Words: \n",
    "    * More Regulaton: \"gun control\", \"gun nuts\", \"gun regulation\"\n",
    "    * Less Regulation: \"gun rights\", \"second amendment\", \"2 amendment\"\n",
    "* Age Words: \n",
    "    * Older: career, family, retirement, mortgage\n",
    "    * Younger: \"high school\", homework, internship, crush\n",
    "* Globalism Words: \"free trade\", \"globalism\", neoliberal, Friedman\n",
    "* War Words: war, troops, veterans, 9/11, \"drone strike\", \"war on terror\"\n",
    "* Gender Words: mom, dad, \"make up\"\n"
   ]
  },
  {
   "cell_type": "code",
   "execution_count": 1,
   "metadata": {},
   "outputs": [],
   "source": [
    "import findspark\n",
    "findspark.init(\"/h/224/cameron/spark-3.0.0-preview2-bin-hadoop2.7\")\n",
    "from utils import load_embedding, parse_tup, cos_sim, cos_dist\n",
    "from kaleido.scopes.plotly import PlotlyScope\n",
    "from pyspark.sql import SparkSession\n",
    "from tqdm.auto import tqdm\n",
    "from datetime import datetime\n",
    "import plotly.express as px\n",
    "import plotly.express as go\n",
    "import pandas as pd\n",
    "import numpy as np\n",
    "scope = PlotlyScope()\n",
    "left_candidates = [\"JoeBiden\",\"SandersForPresident\",\"BaemyKlobaechar\",\"ElizabethWarren\",\"Pete_Buttigieg\",\"YangForPresidentHQ\"]\n",
    "mapping = {}\n",
    "for a,b in zip(left_candidates,px.colors.qualitative.Plotly):\n",
    "    mapping[a] = b"
   ]
  },
  {
   "cell_type": "code",
   "execution_count": 4,
   "metadata": {},
   "outputs": [
    {
     "name": "stdout",
     "output_type": "stream",
     "text": [
      "root\n",
      " |-- author: string (nullable = false)\n",
      " |-- subreddit: string (nullable = false)\n",
      " |-- body: string (nullable = false)\n",
      " |-- created_utc: integer (nullable = true)\n",
      "\n"
     ]
    }
   ],
   "source": [
    "spark = SparkSession.builder.getOrCreate()\n",
    "spark.sparkContext.getConf().getAll()\n",
    "spark.catalog.clearCache()\n",
    "# Load the Parquet data\n",
    "comments = spark.read.load(\"/comments_2019.parquet\").fillna(\"\")\n",
    "subreddits = spark.read.load(\"dataframes/subreddits.parquet\")\n",
    "comments = comments.join(subreddits, ['subreddit'], 'leftsemi')\n",
    "subreddits = subreddits.selectExpr(\"subreddit as subreddit\",\"count as totalCount\")\n",
    "cols = ['author','subreddit','body','created_utc']\n",
    "comments = comments.select(*cols)\n",
    "comments.printSchema()"
   ]
  },
  {
   "cell_type": "markdown",
   "metadata": {},
   "source": [
    "## Find Top 30\n",
    "\n",
    "Top 30 subreddits that use representative words with the highest proportion"
   ]
  },
  {
   "cell_type": "code",
   "execution_count": 42,
   "metadata": {},
   "outputs": [
    {
     "data": {
      "text/html": [
       "<div>\n",
       "<style scoped>\n",
       "    .dataframe tbody tr th:only-of-type {\n",
       "        vertical-align: middle;\n",
       "    }\n",
       "\n",
       "    .dataframe tbody tr th {\n",
       "        vertical-align: top;\n",
       "    }\n",
       "\n",
       "    .dataframe thead th {\n",
       "        text-align: right;\n",
       "    }\n",
       "</style>\n",
       "<table border=\"1\" class=\"dataframe\">\n",
       "  <thead>\n",
       "    <tr style=\"text-align: right;\">\n",
       "      <th></th>\n",
       "      <th>subreddit</th>\n",
       "      <th>count</th>\n",
       "      <th>proportion</th>\n",
       "      <th>dim</th>\n",
       "      <th>label</th>\n",
       "      <th>alignment</th>\n",
       "    </tr>\n",
       "  </thead>\n",
       "  <tbody>\n",
       "    <tr>\n",
       "      <th>0</th>\n",
       "      <td>AquaSama</td>\n",
       "      <td>16607</td>\n",
       "      <td>0.540153</td>\n",
       "      <td>Religiosity</td>\n",
       "      <td>NaN</td>\n",
       "      <td>NaN</td>\n",
       "    </tr>\n",
       "    <tr>\n",
       "      <th>1</th>\n",
       "      <td>PrayerRequests</td>\n",
       "      <td>4812</td>\n",
       "      <td>0.301202</td>\n",
       "      <td>Religiosity</td>\n",
       "      <td>Religious</td>\n",
       "      <td>Aligned</td>\n",
       "    </tr>\n",
       "    <tr>\n",
       "      <th>2</th>\n",
       "      <td>Anglicanism</td>\n",
       "      <td>6392</td>\n",
       "      <td>0.223169</td>\n",
       "      <td>Religiosity</td>\n",
       "      <td>Religious</td>\n",
       "      <td>Aligned</td>\n",
       "    </tr>\n",
       "    <tr>\n",
       "      <th>3</th>\n",
       "      <td>mormon</td>\n",
       "      <td>26108</td>\n",
       "      <td>0.215051</td>\n",
       "      <td>Religiosity</td>\n",
       "      <td>Religious</td>\n",
       "      <td>Aligned</td>\n",
       "    </tr>\n",
       "    <tr>\n",
       "      <th>4</th>\n",
       "      <td>RPChristians</td>\n",
       "      <td>2151</td>\n",
       "      <td>0.206311</td>\n",
       "      <td>Religiosity</td>\n",
       "      <td>Religious</td>\n",
       "      <td>Aligned</td>\n",
       "    </tr>\n",
       "    <tr>\n",
       "      <th>...</th>\n",
       "      <td>...</td>\n",
       "      <td>...</td>\n",
       "      <td>...</td>\n",
       "      <td>...</td>\n",
       "      <td>...</td>\n",
       "      <td>...</td>\n",
       "    </tr>\n",
       "    <tr>\n",
       "      <th>25</th>\n",
       "      <td>BrasilSimulator</td>\n",
       "      <td>12000</td>\n",
       "      <td>0.169456</td>\n",
       "      <td>Gender</td>\n",
       "      <td>NaN</td>\n",
       "      <td>NaN</td>\n",
       "    </tr>\n",
       "    <tr>\n",
       "      <th>26</th>\n",
       "      <td>portugal</td>\n",
       "      <td>88447</td>\n",
       "      <td>0.167543</td>\n",
       "      <td>Gender</td>\n",
       "      <td>NaN</td>\n",
       "      <td>NaN</td>\n",
       "    </tr>\n",
       "    <tr>\n",
       "      <th>27</th>\n",
       "      <td>brasilivre</td>\n",
       "      <td>94184</td>\n",
       "      <td>0.159148</td>\n",
       "      <td>Gender</td>\n",
       "      <td>NaN</td>\n",
       "      <td>NaN</td>\n",
       "    </tr>\n",
       "    <tr>\n",
       "      <th>28</th>\n",
       "      <td>rwbyRP</td>\n",
       "      <td>4085</td>\n",
       "      <td>0.158260</td>\n",
       "      <td>Gender</td>\n",
       "      <td>NaN</td>\n",
       "      <td>NaN</td>\n",
       "    </tr>\n",
       "    <tr>\n",
       "      <th>29</th>\n",
       "      <td>vzla</td>\n",
       "      <td>29924</td>\n",
       "      <td>0.154940</td>\n",
       "      <td>Gender</td>\n",
       "      <td>NaN</td>\n",
       "      <td>NaN</td>\n",
       "    </tr>\n",
       "  </tbody>\n",
       "</table>\n",
       "<p>239 rows × 6 columns</p>\n",
       "</div>"
      ],
      "text/plain": [
       "          subreddit  count  proportion          dim      label alignment\n",
       "0          AquaSama  16607    0.540153  Religiosity        NaN       NaN\n",
       "1    PrayerRequests   4812    0.301202  Religiosity  Religious   Aligned\n",
       "2       Anglicanism   6392    0.223169  Religiosity  Religious   Aligned\n",
       "3            mormon  26108    0.215051  Religiosity  Religious   Aligned\n",
       "4      RPChristians   2151    0.206311  Religiosity  Religious   Aligned\n",
       "..              ...    ...         ...          ...        ...       ...\n",
       "25  BrasilSimulator  12000    0.169456       Gender        NaN       NaN\n",
       "26         portugal  88447    0.167543       Gender        NaN       NaN\n",
       "27       brasilivre  94184    0.159148       Gender        NaN       NaN\n",
       "28           rwbyRP   4085    0.158260       Gender        NaN       NaN\n",
       "29             vzla  29924    0.154940       Gender        NaN       NaN\n",
       "\n",
       "[239 rows x 6 columns]"
      ]
     },
     "execution_count": 42,
     "metadata": {},
     "output_type": "execute_result"
    }
   ],
   "source": [
    "import pyspark.sql.functions as f\n",
    "\n",
    "dim_names = [\"Ideology\",\"Religiosity\",\"Birth Control\",\"Gun Control\",\"Age\",\"Trade\",\"War\",\"Gender\"]\n",
    "word_pairs = [[\"progressive\",\"conservative\",\"libtard\",\"socialism\",\"capitalism\",\"based\"],\n",
    "              [\"bible\", \"jesus\", \"atheism\", \"pray\", \"church\", \"mosque\"],\n",
    "              [\"abortion\", \"feminism\", \"feminazi\", \"birth control\"],\n",
    "              [\"gun control\", \"gun rights\", \"second amendment\", \"2 amendment\"],\n",
    "              [\"career\", \"family\", \"retirement\", \"mortgage\", \"high school\", \"homework\", \"internship\",\"crush\"],\n",
    "              [\"free trade\", \"globalism\",\"neoliberal\",\"friedman\"],\n",
    "              [\"war\", \"troops\", \"veterans\", \"9/11\", \"drone strike\",\"war on terror\"],\n",
    "              [\"mom\", \"dad\", \"make up\"]]\n",
    "\n",
    "# try:\n",
    "counts_df = pd.read_csv(\"external_datasets/validation/dimension_validation_2.csv\",index_col=0)\n",
    "# except Exception as e:\n",
    "#     print(e)\n",
    "#     counts_df = pd.DataFrame(columns=[\"subreddit\",\"count\",\"proportion\",\"dim\",\"label\",\"alignment\"])\n",
    "#     counts_df.to_csv('external_datasets/validation/dimension_validation_2.csv')\n",
    "\n",
    "\n",
    "\n",
    "# for name,words in tqdm(list(zip(dim_names,word_pairs))):\n",
    "#     if not name in list(counts_df[\"dim\"]):\n",
    "#         print(name,words)\n",
    "#         top_30 = comments[comments['body'].rlike('|'.join(words))].groupBy(\"subreddit\").count()\n",
    "#         top_30 = top_30.join(subreddits, on=['subreddit'], how='left')\n",
    "#         top_30 = top_30.withColumn(\"proportion\", (f.col(\"count\") / f.col(\"totalCount\")))\n",
    "#         top_30_df = top_30.orderBy('proportion', ascending=False).limit(30).select(*[\"subreddit\",\"count\",\"proportion\"]).toPandas()\n",
    "#         top_30.unpersist()\n",
    "#         top_30_df[\"dim\"],top_30_df[\"label\"],top_30_df[\"alignment\"] = name,\"NA\",\"NA\"\n",
    "#         top_30_df = top_30_df.reset_index()\n",
    "#         top_30_df.to_csv('external_datasets/validation/dimension_validation_2.csv',index=False,mode='a', header=False)\n",
    "        \n",
    "# counts_df = pd.read_csv(\"external_datasets/validation/dimension_validation_2.csv\",index_col=0)\n",
    "counts_df\n"
   ]
  },
  {
   "cell_type": "markdown",
   "metadata": {},
   "source": [
    "## Label Dimensions\n",
    "\n",
    "Done in vscode...."
   ]
  },
  {
   "cell_type": "markdown",
   "metadata": {},
   "source": [
    "## Dimension Validation"
   ]
  },
  {
   "cell_type": "code",
   "execution_count": 43,
   "metadata": {},
   "outputs": [],
   "source": [
    "embedding = load_embedding(\"/h/224/cameron/Political-Subreddit-Embedding/trained_embeddings/vecs_0.0028_15.0.txt\",split=False)\n"
   ]
  },
  {
   "cell_type": "code",
   "execution_count": 44,
   "metadata": {},
   "outputs": [],
   "source": [
    "from dataclasses import dataclass\n",
    "\n",
    "@dataclass\n",
    "class Dimension:\n",
    "    name: str\n",
    "    subreddits: list\n",
    "    tags: tuple\n",
    "        \n",
    "def calculate_dim(dimensions,e,return_stats=False):\n",
    "    \"\"\"\n",
    "        Takes in a list of tuples and calcualtes the dimension from ap -> a. IE if we have the subreddits AskMen (a) and\n",
    "        AskWomen (ap). The \"masculine\" vector transformation is a - ap.\n",
    "        Returns the average transformation and a tuple containing the mean and std deviation similarity between the individual \n",
    "        transformations.\n",
    "    \"\"\"\n",
    "    dimensions = dimensions if type(dimensions) is list else [dimensions]\n",
    "    calc_trans = lambda vec_a,vec_ap : vec_a - vec_ap \n",
    "    transformations = np.array([calc_trans(e.loc[a],e.loc[ap]) for (a,ap) in dimensions])\n",
    "    transformation = transformations.flatten() if transformations.shape[0] == 1 else np.mean(transformations,axis=0)\n",
    "    if return_stats:\n",
    "        sims = [cos_sim(t1,t2)  for t1 in list(transformations) for t2 in list(transformations) if not np.all(t1==t2)]\n",
    "        return transformation,(np.mean(sims),np.std(sims))\n",
    "    return transformation\n",
    "\n",
    "project_dim = lambda dim,sub,e : cos_sim(dim,e.loc[sub])"
   ]
  },
  {
   "cell_type": "markdown",
   "metadata": {},
   "source": [
    "## Validate Dimensions"
   ]
  },
  {
   "cell_type": "code",
   "execution_count": 48,
   "metadata": {},
   "outputs": [],
   "source": [
    "religious_subs = [(\"Christianity\",\"exchristian\"),\n",
    "                  (\"TraditionalCatholics\",\"excatholic\"),\n",
    "                  (\"lds\",\"exmormon\"),(\"mormon\",\"exmormon\"),(\"islam\",\"exmuslim\")]\n",
    "\n",
    "ideological_subs =[(\"Conservative\",\"progressive\"),\n",
    "                   (\"Republican\",\"democrats\"),\n",
    "                   (\"conservatives\",\"SocialDemocracy\"),\n",
    "                   (\"TheNewRight\",\"WeAreNotAsking\"),\n",
    "                   (\"neoliberal\",\"dsa\"),\n",
    "                   (\"Capitalism\",\"capitalism_in_decay\"),\n",
    "                   (\"walkaway\",\"LateStageImperialism\")]\n",
    "\n",
    "bc_subs = [(\"prolife\",\"prochoice\"),\n",
    "           (\"prolife\",\"birthcontrol\")]\n",
    "\n",
    "gc_subs= [(\"Firearms\",\"GunsAreCool\"),(\"progun\",\"GunsAreCool\")]\n",
    "age_subs = [(\"RedditForGrownups\",\"teenagers\"),\n",
    "            (\"RedditForGrownups\",\"teenagersnew\")]\n",
    "\n",
    "war_subs = [(\"CredibleDefense\",\"EndlessWar\"),\n",
    "            (\"WarCollege\",\"EndlessWar\"),\n",
    "            (\"Intelligence\",\"EndlessWar\")]\n",
    "\n",
    "glob_subs = [(\"neoliberal\",\"EnoughLibertarianSpam\"),\n",
    "             (\"Economics\",\"capitalism_in_decay\"),\n",
    "             (\"Libertarian\",\"EnoughLibertarianSpam\")\n",
    "            ]\n",
    "\n",
    "gender_subs = [(\"daddit\",\"Mommit\"),\n",
    "               (\"AskMen\",\"AskWomen\")]\n",
    "\n",
    "\n",
    "religious_dim = Dimension(\"Religiosity\",religious_subs,(\"Religious\",\"Secular\"))\n",
    "ideological_dim = Dimension(\"Ideology\",ideological_subs,(\"Conservative\",\"Progressive\"))\n",
    "bc_dim = Dimension(\"Birth Control\",bc_subs,(\"Pro-Life\",\"Pro-Choice\"))\n",
    "gc_dim = Dimension(\"Gun Control\",gc_subs,(\"Less Regulation\",\"More Regulation\"))\n",
    "age_dim = Dimension(\"Age\",age_subs,(\"Older\",\"Younger\"))\n",
    "war_dim = Dimension(\"War\",war_subs,(\"Hawkish\",\"Pacifistic\"))\n",
    "glob_dim = Dimension(\"Trade\",glob_subs,(\"Pro-Trade\",\"Anti-Trade\"))\n",
    "gender_dim = Dimension(\"Gender\",gender_subs,(\"Masculine\",\"Feminine\"))\n",
    "\n",
    "\n",
    "dim_dict = {\n",
    "    \"Ideology\": ideological_dim,\n",
    "    \"Religiosity\": religious_dim,\n",
    "    \"Birth Control\": bc_dim, \n",
    "    \"Gun Control\": gc_dim,\n",
    "    \"Age\": age_dim,\n",
    "    \"Trade\": glob_dim,\n",
    "    \"War\": war_dim,\n",
    "    \"Gender\": gender_dim\n",
    "}"
   ]
  },
  {
   "cell_type": "code",
   "execution_count": 49,
   "metadata": {
    "scrolled": true
   },
   "outputs": [
    {
     "data": {
      "text/html": [
       "<div>\n",
       "<style scoped>\n",
       "    .dataframe tbody tr th:only-of-type {\n",
       "        vertical-align: middle;\n",
       "    }\n",
       "\n",
       "    .dataframe tbody tr th {\n",
       "        vertical-align: top;\n",
       "    }\n",
       "\n",
       "    .dataframe thead th {\n",
       "        text-align: right;\n",
       "    }\n",
       "</style>\n",
       "<table border=\"1\" class=\"dataframe\">\n",
       "  <thead>\n",
       "    <tr style=\"text-align: right;\">\n",
       "      <th></th>\n",
       "      <th>subreddit</th>\n",
       "      <th>count</th>\n",
       "      <th>proportion</th>\n",
       "      <th>dim</th>\n",
       "      <th>label</th>\n",
       "      <th>alignment</th>\n",
       "      <th>projection</th>\n",
       "      <th>aligned</th>\n",
       "      <th>size</th>\n",
       "    </tr>\n",
       "  </thead>\n",
       "  <tbody>\n",
       "    <tr>\n",
       "      <th>7</th>\n",
       "      <td>unknownvideos</td>\n",
       "      <td>4219</td>\n",
       "      <td>0.310243</td>\n",
       "      <td>War</td>\n",
       "      <td>NA</td>\n",
       "      <td>NA</td>\n",
       "      <td>-0.111036</td>\n",
       "      <td>NA</td>\n",
       "      <td>12.042685</td>\n",
       "    </tr>\n",
       "    <tr>\n",
       "      <th>12</th>\n",
       "      <td>Bitwarden</td>\n",
       "      <td>2964</td>\n",
       "      <td>0.268405</td>\n",
       "      <td>War</td>\n",
       "      <td>NA</td>\n",
       "      <td>NA</td>\n",
       "      <td>0.103733</td>\n",
       "      <td>NA</td>\n",
       "      <td>11.533330</td>\n",
       "    </tr>\n",
       "    <tr>\n",
       "      <th>14</th>\n",
       "      <td>resumes</td>\n",
       "      <td>17206</td>\n",
       "      <td>0.254448</td>\n",
       "      <td>War</td>\n",
       "      <td>NA</td>\n",
       "      <td>NA</td>\n",
       "      <td>0.112801</td>\n",
       "      <td>NA</td>\n",
       "      <td>14.070624</td>\n",
       "    </tr>\n",
       "    <tr>\n",
       "      <th>29</th>\n",
       "      <td>de_IAmA</td>\n",
       "      <td>4439</td>\n",
       "      <td>0.205348</td>\n",
       "      <td>War</td>\n",
       "      <td>NA</td>\n",
       "      <td>NA</td>\n",
       "      <td>0.128284</td>\n",
       "      <td>NA</td>\n",
       "      <td>12.116019</td>\n",
       "    </tr>\n",
       "    <tr>\n",
       "      <th>27</th>\n",
       "      <td>vmware</td>\n",
       "      <td>10203</td>\n",
       "      <td>0.215982</td>\n",
       "      <td>War</td>\n",
       "      <td>NA</td>\n",
       "      <td>NA</td>\n",
       "      <td>0.076980</td>\n",
       "      <td>NA</td>\n",
       "      <td>13.316706</td>\n",
       "    </tr>\n",
       "  </tbody>\n",
       "</table>\n",
       "</div>"
      ],
      "text/plain": [
       "        subreddit  count  proportion  dim label alignment  projection aligned  \\\n",
       "7   unknownvideos   4219    0.310243  War    NA        NA   -0.111036      NA   \n",
       "12      Bitwarden   2964    0.268405  War    NA        NA    0.103733      NA   \n",
       "14        resumes  17206    0.254448  War    NA        NA    0.112801      NA   \n",
       "29        de_IAmA   4439    0.205348  War    NA        NA    0.128284      NA   \n",
       "27         vmware  10203    0.215982  War    NA        NA    0.076980      NA   \n",
       "\n",
       "         size  \n",
       "7   12.042685  \n",
       "12  11.533330  \n",
       "14  14.070624  \n",
       "29  12.116019  \n",
       "27  13.316706  "
      ]
     },
     "execution_count": 49,
     "metadata": {},
     "output_type": "execute_result"
    }
   ],
   "source": [
    "def get_projection(**kwargs):\n",
    "    sub = kwargs[\"subreddit\"]\n",
    "    dim = dim_dict[kwargs[\"dim\"]]\n",
    "    aligned = \"Aligned\" if kwargs[\"label\"] == dim.tags[0] else \"Opposed\" if kwargs[\"label\"] == dim.tags[1] else \"NA\"\n",
    "    dim_vec = calculate_dim(dim.subreddits,embedding)\n",
    "    return project_dim(dim_vec,sub,embedding),aligned\n",
    "counts_df[[\"projection\",\"aligned\"]] = counts_df.apply(lambda x : get_projection(**x),axis=1,result_type=\"expand\")\n",
    "counts_df = counts_df.fillna(\"NA\").sort_values(\"dim\",ascending=False)\n",
    "counts_df[\"size\"] = np.log2(counts_df[\"count\"])\n",
    "counts_df.head()"
   ]
  },
  {
   "cell_type": "code",
   "execution_count": 59,
   "metadata": {
    "scrolled": false
   },
   "outputs": [
    {
     "name": "stdout",
     "output_type": "stream",
     "text": [
      "Ideology\n",
      "Religiosity\n",
      "Birth Control\n",
      "Gun Control\n",
      "Age\n",
      "Trade\n",
      "War\n",
      "Gender\n"
     ]
    },
    {
     "data": {
      "application/vnd.plotly.v1+json": {
       "config": {
        "plotlyServerURL": "https://plot.ly"
       },
       "data": [
        {
         "customdata": [
          [
           "unknownvideos",
           4219,
           "NA"
          ],
          [
           "Bitwarden",
           2964,
           "NA"
          ],
          [
           "resumes",
           17206,
           "NA"
          ],
          [
           "de_IAmA",
           4439,
           "NA"
          ],
          [
           "vmware",
           10203,
           "NA"
          ],
          [
           "StrawHatRPG",
           8061,
           "NA"
          ],
          [
           "GCTrading",
           9297,
           "NA"
          ],
          [
           "tud",
           1,
           "NA"
          ],
          [
           "ClashOfClansRecruit",
           23264,
           "NA"
          ],
          [
           "funnyvideos",
           3700,
           "NA"
          ],
          [
           "AsianLadyBonerGW",
           5095,
           "NA"
          ],
          [
           "RandomActsOfBlowJob",
           90243,
           "NA"
          ],
          [
           "awoiafrp",
           8845,
           "NA"
          ],
          [
           "textfriends",
           3792,
           "NA"
          ],
          [
           "flairwars",
           5208,
           "NA"
          ],
          [
           "Cash4Cash",
           6788,
           "NA"
          ],
          [
           "rwbyRP",
           6824,
           "NA"
          ],
          [
           "PublishProtocol",
           3380,
           "NA"
          ],
          [
           "HistoryWhatIf",
           7014,
           "NA"
          ],
          [
           "IronThroneRP",
           11616,
           "NA"
          ],
          [
           "toyexchange",
           2693,
           "NA"
          ],
          [
           "dwarffortress",
           21998,
           "NA"
          ],
          [
           "Newark",
           1503,
           "NA"
          ],
          [
           "HardwareSwapUK",
           11581,
           "NA"
          ],
          [
           "BeckleyOnReddit",
           1,
           "NA"
          ],
          [
           "Warts",
           2866,
           "NA"
          ],
          [
           "PoliticalCompass",
           219,
           "NA"
          ],
          [
           "lostgeneration",
           1345,
           "NA"
          ],
          [
           "DebateCommunism",
           415,
           "NA"
          ],
          [
           "canadaleft",
           80,
           "NA"
          ],
          [
           "ndp",
           85,
           "NA"
          ],
          [
           "brasilnoticias",
           240,
           "NA"
          ],
          [
           "BasicIncome",
           281,
           "NA"
          ],
          [
           "LeftWingMaleAdvocates",
           78,
           "NA"
          ],
          [
           "Argenpol",
           114,
           "NA"
          ],
          [
           "amherst",
           1,
           "NA"
          ],
          [
           "DebateAnarchism",
           96,
           "NA"
          ],
          [
           "AskAChristian",
           7103,
           "NA"
          ],
          [
           "jesuschristreddit",
           3159,
           "NA"
          ],
          [
           "swoleacceptance",
           1443,
           "NA"
          ],
          [
           "AquaSama",
           16607,
           "NA"
          ],
          [
           "DebateAChristian",
           7223,
           "NA"
          ],
          [
           "PublishProtocol",
           4028,
           "NA"
          ],
          [
           "DebateCommunism",
           9930,
           "NA"
          ],
          [
           "blockmason",
           2148,
           "NA"
          ],
          [
           "Fairfield",
           2,
           "NA"
          ],
          [
           "DebateAnarchism",
           2525,
           "NA"
          ],
          [
           "InsiderMemeTrading",
           5549,
           "NA"
          ],
          [
           "CineShots",
           2373,
           "NA"
          ],
          [
           "CapitalismVSocialism",
           72803,
           "NA"
          ],
          [
           "AskConservatives",
           5228,
           "NA"
          ],
          [
           "faireumofficial",
           1238,
           "NA"
          ],
          [
           "MoviePosterPorn",
           1964,
           "NA"
          ],
          [
           "KCL",
           4,
           "NA"
          ],
          [
           "ICOAnalysis",
           2190,
           "NA"
          ],
          [
           "AskALiberal",
           23031,
           "NA"
          ],
          [
           "Crypto_General",
           1102,
           "NA"
          ],
          [
           "askaconservative",
           9511,
           "NA"
          ],
          [
           "VirginiaPolitics",
           309,
           "NA"
          ],
          [
           "gunpolitics",
           6710,
           "NA"
          ],
          [
           "scotus",
           180,
           "NA"
          ],
          [
           "ColoradoPolitics",
           131,
           "NA"
          ],
          [
           "Virginia",
           696,
           "NA"
          ],
          [
           "blacksburg",
           1,
           "NA"
          ],
          [
           "stolaf",
           1,
           "NA"
          ],
          [
           "politicsdebate",
           102,
           "NA"
          ],
          [
           "TexasPolitics",
           290,
           "NA"
          ],
          [
           "PoliticalOpinions",
           95,
           "NA"
          ],
          [
           "California_Politics",
           126,
           "NA"
          ],
          [
           "PoliticalDiscussion",
           1851,
           "NA"
          ],
          [
           "portugal",
           88447,
           "NA"
          ],
          [
           "SingleParents",
           4335,
           "NA"
          ],
          [
           "SportingCP",
           2488,
           "NA"
          ],
          [
           "raisedbynarcissists",
           132256,
           "NA"
          ],
          [
           "rwbyRP",
           4085,
           "NA"
          ],
          [
           "brasilivre",
           94184,
           "NA"
          ],
          [
           "dementia",
           2236,
           "NA"
          ],
          [
           "investimentos",
           5989,
           "NA"
          ],
          [
           "BrasilSimulator",
           12000,
           "NA"
          ],
          [
           "IST",
           217,
           "NA"
          ],
          [
           "stepparents",
           22158,
           "NA"
          ],
          [
           "RepublicaArgentina",
           9186,
           "NA"
          ],
          [
           "narcissisticparents",
           4210,
           "NA"
          ],
          [
           "BrasildoB",
           6780,
           "NA"
          ],
          [
           "AsianParentStories",
           9303,
           "NA"
          ],
          [
           "vzla",
           29924,
           "NA"
          ],
          [
           "es",
           2648,
           "NA"
          ],
          [
           "podemos",
           22016,
           "NA"
          ],
          [
           "GriefSupport",
           8652,
           "NA"
          ],
          [
           "MusicInTheMaking",
           3954,
           "NA"
          ],
          [
           "raisedbyborderlines",
           22272,
           "NA"
          ],
          [
           "AquaSama",
           6513,
           "NA"
          ],
          [
           "GenderCriticalGuys",
           580,
           "NA"
          ],
          [
           "Alabama",
           1047,
           "NA"
          ],
          [
           "mormonpolitics",
           420,
           "NA"
          ],
          [
           "childfree",
           26507,
           "NA"
          ],
          [
           "politicsdebate",
           356,
           "NA"
          ],
          [
           "PoliticalOpinions",
           420,
           "NA"
          ],
          [
           "OneY",
           283,
           "NA"
          ],
          [
           "AskFeminists",
           11331,
           "NA"
          ],
          [
           "amipregnant",
           955,
           "NA"
          ],
          [
           "Kent",
           7,
           "NA"
          ],
          [
           "LeftWingMaleAdvocates",
           1502,
           "NA"
          ],
          [
           "Abortiondebate",
           42203,
           "NA"
          ],
          [
           "HolyCross",
           1,
           "NA"
          ],
          [
           "colum",
           5,
           "NA"
          ],
          [
           "claremontcolleges",
           8,
           "NA"
          ],
          [
           "asshole",
           16823,
           "NA"
          ],
          [
           "Fairfield",
           4,
           "NA"
          ],
          [
           "Hairy",
           3266,
           "NA"
          ],
          [
           "tud",
           1,
           "NA"
          ],
          [
           "iwanttobeher",
           14329,
           "NA"
          ],
          [
           "industrialized",
           12828,
           "NA"
          ],
          [
           "funkoswap",
           13567,
           "NA"
          ],
          [
           "FIREUK",
           2283,
           "NA"
          ],
          [
           "jamescook",
           1,
           "NA"
          ],
          [
           "polyamoryR4R",
           1488,
           "NA"
          ],
          [
           "JUSTNOFAMILY",
           25056,
           "NA"
          ],
          [
           "SDSMT",
           3,
           "NA"
          ]
         ],
         "hovertemplate": "Alignment=NA<br>Projection=%{x}<br>=%{y}<br>size=%{marker.size}<br>subreddit=%{customdata[0]}<br>count=%{customdata[1]}<br>label=%{customdata[2]}<extra></extra>",
         "legendgroup": "NA",
         "marker": {
          "color": "#636efa",
          "size": [
           12.042685372219351,
           11.533329732305834,
           14.070624122430266,
           12.116018993325094,
           13.316705791428998,
           12.976743106734322,
           13.182549540307372,
           0,
           14.505811553919594,
           11.853309555403674,
           12.314866431053176,
           16.461527408425134,
           13.110646427577821,
           11.888743248898258,
           12.346513733165635,
           12.728770849542663,
           12.73640193131829,
           11.722807531169547,
           12.776021715252812,
           13.50382573799575,
           11.394998514501673,
           14.425084743242847,
           10.553629293916364,
           13.499472212561567,
           0,
           11.484822894262146,
           7.774787059601174,
           10.393390457443987,
           8.696967526234287,
           6.321928094887363,
           6.409390936137702,
           7.906890595608519,
           8.134426320220927,
           6.285402218862249,
           6.832890014164741,
           0,
           6.584962500721156,
           12.794212769983066,
           11.625252221746873,
           10.494855584491198,
           14.019503858266578,
           12.818382455041155,
           11.975847968006784,
           13.277578002415737,
           11.068778277985412,
           1,
           11.302067672526519,
           12.438012087651131,
           11.212496385193948,
           16.151710280467206,
           12.352043425795433,
           10.273795599214264,
           10.939579214314692,
           2,
           11.096715154488535,
           14.491289433481759,
           10.105908508571158,
           13.215381320721084,
           8.271463027904375,
           12.712097051087547,
           7.491853096329675,
           7.03342300153745,
           9.442943495848729,
           0,
           0,
           6.672425341971495,
           8.179909090014934,
           6.569855608330948,
           6.977279923499917,
           10.854089179870574,
           16.432525589073176,
           12.081816278109198,
           11.280770770130603,
           17.01297364837454,
           11.996120363033047,
           16.523194374830968,
           11.12670447284319,
           12.548099416978387,
           13.550746785383243,
           7.7615512324444795,
           14.43554004792677,
           13.165221068220944,
           12.039604517953759,
           12.727069558023706,
           13.183480311333778,
           14.869015415552091,
           11.370687406807217,
           14.426264754702098,
           13.078817949961978,
           11.949097155729207,
           14.442943495848729,
           12.6691065113363,
           9.179909090014934,
           10.032045726930809,
           8.714245517666123,
           14.694085778157689,
           8.475733430966399,
           8.714245517666123,
           8.144658242831882,
           13.467987569161329,
           9.899356922923111,
           2.807354922057604,
           10.552669097514272,
           15.365057936095372,
           0,
           2.321928094887362,
           3,
           14.0381473799815,
           2,
           11.673309075561695,
           0,
           13.806650309081014,
           13.647008638441648,
           13.727814119936957,
           11.156715144224702,
           0,
           10.539158811108031,
           14.612868497291041,
           1.584962500721156
          ],
          "sizemode": "area",
          "sizeref": 0.043606629933987937,
          "symbol": "circle"
         },
         "mode": "markers",
         "name": "NA",
         "orientation": "h",
         "showlegend": true,
         "type": "scatter",
         "x": [
          -0.11103623513494494,
          0.10373298105796565,
          0.11280105750077415,
          0.1282841950730742,
          0.07698022921884394,
          0.006335387425597752,
          -0.09959574127890726,
          0.09767611199686287,
          -0.06487187881436228,
          -0.15002803960923014,
          0.05219454028959295,
          0.016126006189213397,
          0.05583567608833286,
          0.020980715084396608,
          -0.0457230528473627,
          -0.14403575587283104,
          0.12094259863916693,
          -0.0780890227240187,
          0.08203798842103337,
          0.05906331488479458,
          -0.027591511866632522,
          0.09413948543881494,
          -0.06984930684728356,
          0.005621506686841009,
          -0.07769036779819616,
          -0.08787072576644753,
          -0.2598152273466819,
          -0.15847170024785748,
          -0.31757575502387175,
          -0.2901229202074779,
          -0.19281333208864138,
          -0.16981240930487934,
          -0.06742586623182117,
          -0.14590947599206588,
          -0.0596923674982803,
          -0.06020684930805098,
          -0.3608910863796983,
          0.14577678087231924,
          -0.07360370547474006,
          0.0012955515047459653,
          0.1161907906762151,
          0.13275204006746308,
          0.01818720207900563,
          -0.15443020935065488,
          0.023130513382229573,
          -0.05139714332358418,
          -0.2116507600769791,
          0.06868672745772214,
          -0.07241403764852263,
          -0.0007823907049239249,
          0.17706916511576182,
          0.053167524020762,
          -0.04365765941974546,
          -0.07454250892617027,
          0.041783106016869985,
          0.06273306512964172,
          0.07541995966375038,
          0.3281131110423647,
          -0.11638662757230189,
          0.17091924370260078,
          -0.15277613381520525,
          -0.07412948075300843,
          -0.05910833258211386,
          -0.0860571721893297,
          -0.063914664483389,
          -0.08941145487490984,
          -0.11052853611070006,
          -0.2507177559650879,
          -0.13624554723228618,
          -0.21214807047873394,
          -0.15549153230356497,
          -0.22918796386602486,
          -0.0539911572337448,
          -0.2106957009897527,
          -0.01714058386307272,
          -0.17384084605215896,
          -0.22224065632513926,
          -0.13887843793606885,
          -0.08485542230873196,
          -0.09955926334466725,
          -0.35583618677761036,
          -0.09508129312775873,
          -0.17278353673280578,
          -0.17832699787006617,
          -0.09999591663939741,
          -0.171358168180082,
          -0.13504232438193722,
          -0.19634423836018045,
          -0.14918464755541105,
          -0.059709942122111365,
          -0.23668299021006073,
          -0.07542373328666392,
          0.06373229948224123,
          0.11657863449208289,
          0.28590217241766097,
          -0.2028493460001171,
          0.1957284731393106,
          0.12704669561639872,
          0.16947884238760974,
          -0.10801369804712996,
          -0.2024738309270597,
          -0.0018768088304958808,
          0.15686282834727935,
          0.2187667947718603,
          0.06327060967337321,
          0.15660156510409368,
          0.018431822697454064,
          -0.11256836259350052,
          0.05321315253833437,
          0.0051027423678419144,
          -0.026909708053528963,
          0.0069299749646894735,
          -0.07317489714160524,
          -0.12595366606727865,
          0.13876909466033002,
          0.1132450210558834,
          0.10067594865987695,
          0.09974610275293741,
          0.02086716875642961
         ],
         "xaxis": "x",
         "y": [
          "War",
          "War",
          "War",
          "War",
          "War",
          "War",
          "War",
          "War",
          "War",
          "War",
          "War",
          "War",
          "War",
          "War",
          "War",
          "War",
          "War",
          "War",
          "War",
          "War",
          "War",
          "War",
          "War",
          "War",
          "War",
          "War",
          "Trade",
          "Trade",
          "Trade",
          "Trade",
          "Trade",
          "Trade",
          "Trade",
          "Trade",
          "Trade",
          "Trade",
          "Trade",
          "Religiosity",
          "Religiosity",
          "Religiosity",
          "Religiosity",
          "Religiosity",
          "Ideology",
          "Ideology",
          "Ideology",
          "Ideology",
          "Ideology",
          "Ideology",
          "Ideology",
          "Ideology",
          "Ideology",
          "Ideology",
          "Ideology",
          "Ideology",
          "Ideology",
          "Ideology",
          "Ideology",
          "Ideology",
          "Gun Control",
          "Gun Control",
          "Gun Control",
          "Gun Control",
          "Gun Control",
          "Gun Control",
          "Gun Control",
          "Gun Control",
          "Gun Control",
          "Gun Control",
          "Gun Control",
          "Gun Control",
          "Gender",
          "Gender",
          "Gender",
          "Gender",
          "Gender",
          "Gender",
          "Gender",
          "Gender",
          "Gender",
          "Gender",
          "Gender",
          "Gender",
          "Gender",
          "Gender",
          "Gender",
          "Gender",
          "Gender",
          "Gender",
          "Gender",
          "Gender",
          "Gender",
          "Gender",
          "Birth Control",
          "Birth Control",
          "Birth Control",
          "Birth Control",
          "Birth Control",
          "Birth Control",
          "Birth Control",
          "Birth Control",
          "Birth Control",
          "Birth Control",
          "Birth Control",
          "Birth Control",
          "Age",
          "Age",
          "Age",
          "Age",
          "Age",
          "Age",
          "Age",
          "Age",
          "Age",
          "Age",
          "Age",
          "Age",
          "Age",
          "Age",
          "Age"
         ],
         "yaxis": "y"
        },
        {
         "customdata": [
          [
           "EndlessWar",
           14904,
           "Pacifistic"
          ],
          [
           "LeftWithoutEdge",
           518,
           "Pacifistic"
          ],
          [
           "WayOfTheBern",
           3828,
           "Anti-Trade"
          ],
          [
           "WeAreNotAsking",
           116,
           "Anti-Trade"
          ],
          [
           "LeftWithoutEdge",
           205,
           "Anti-Trade"
          ],
          [
           "BreadTube",
           1591,
           "Anti-Trade"
          ],
          [
           "stupidpol",
           4309,
           "Anti-Trade"
          ],
          [
           "Socialism_101",
           394,
           "Anti-Trade"
          ],
          [
           "Kossacks_for_Sanders",
           168,
           "Anti-Trade"
          ],
          [
           "SocialDemocracy",
           208,
           "Anti-Trade"
          ],
          [
           "The_Donald",
           62458,
           "Anti-Trade"
          ],
          [
           "CriticalTheory",
           235,
           "Anti-Trade"
          ],
          [
           "dsa",
           64,
           "Anti-Trade"
          ],
          [
           "chomsky",
           335,
           "Anti-Trade"
          ],
          [
           "Labour",
           275,
           "Anti-Trade"
          ],
          [
           "exchristian",
           28380,
           "Secular"
          ],
          [
           "exmormon",
           170129,
           "Secular"
          ],
          [
           "exlldm",
           2984,
           "Secular"
          ],
          [
           "agnostic",
           2147,
           "Secular"
          ],
          [
           "excatholic",
           3498,
           "Secular"
          ],
          [
           "exIglesiaNiCristo",
           4573,
           "Secular"
          ],
          [
           "Socialism_101",
           12306,
           "Progressive"
          ],
          [
           "capitalism_in_decay",
           2634,
           "Progressive"
          ],
          [
           "canadaleft",
           2692,
           "Progressive"
          ],
          [
           "SocialDemocracy",
           1185,
           "Progressive"
          ],
          [
           "LateStageCapitalism",
           62136,
           "Progressive"
          ],
          [
           "communism101",
           8758,
           "Progressive"
          ],
          [
           "Anarchy101",
           6952,
           "Progressive"
          ],
          [
           "BasicIncome",
           4365,
           "Progressive"
          ],
          [
           "socialism",
           17790,
           "Progressive"
          ],
          [
           "GunsAreCool",
           782,
           "More Regulation"
          ],
          [
           "breakingmom",
           43912,
           "Feminine"
          ],
          [
           "MakeupAddiction",
           38406,
           "Feminine"
          ],
          [
           "TwoXChromosomes",
           18794,
           "Feminine"
          ],
          [
           "Mommit",
           3638,
           "Feminine"
          ],
          [
           "PMDD",
           981,
           "Pro-Choice"
          ],
          [
           "Endo",
           1220,
           "Pro-Choice"
          ],
          [
           "Feminism",
           3429,
           "Pro-Choice"
          ],
          [
           "endometriosis",
           850,
           "Pro-Choice"
          ],
          [
           "Periods",
           799,
           "Pro-Choice"
          ],
          [
           "TwoXChromosomes",
           32247,
           "Pro-Choice"
          ],
          [
           "GenderCritical",
           31523,
           "Pro-Choice"
          ],
          [
           "Egalitarianism",
           1004,
           "Pro-Choice"
          ],
          [
           "PCOS",
           3847,
           "Pro-Choice"
          ],
          [
           "FeMRADebates",
           2306,
           "Pro-Choice"
          ],
          [
           "WomensHealth",
           1703,
           "Pro-Choice"
          ],
          [
           "abortion",
           12684,
           "Pro-Choice"
          ],
          [
           "birthcontrol",
           13610,
           "Pro-Choice"
          ],
          [
           "prochoice",
           12759,
           "Pro-Choice"
          ],
          [
           "teenagers",
           15271,
           "Younger"
          ],
          [
           "family",
           7977,
           "Younger"
          ],
          [
           "AsianParentStories",
           5721,
           "Younger"
          ],
          [
           "dankmemes",
           2601,
           "Younger"
          ],
          [
           "2meirl4meirl",
           6730,
           "Younger"
          ],
          [
           "LifeAfterSchool",
           2381,
           "Younger"
          ]
         ],
         "hovertemplate": "Alignment=Opposing<br>Projection=%{x}<br>=%{y}<br>size=%{marker.size}<br>subreddit=%{customdata[0]}<br>count=%{customdata[1]}<br>label=%{customdata[2]}<extra></extra>",
         "legendgroup": "Opposing",
         "marker": {
          "color": "#EF553B",
          "size": [
           13.863411958941638,
           9.016808287686555,
           11.902375114486025,
           6.857980995127572,
           7.679480099505446,
           10.635718120331047,
           12.073137383110383,
           8.622051819456376,
           7.392317422778761,
           7.700439718141092,
           15.93059875236169,
           7.876516946564999,
           6,
           8.388017285345136,
           8.103287808412022,
           14.792586968947914,
           17.376269556591197,
           11.543031820255237,
           11.068106475858773,
           11.772314573921653,
           12.158925203806964,
           13.587074277201008,
           11.363039630256514,
           11.394462694610317,
           10.210671343785622,
           15.923141750621268,
           13.096385734452651,
           12.7632123668144,
           12.091765938516803,
           14.118778890154521,
           9.611024797307353,
           15.422327623974558,
           15.22904409398683,
           14.197984533375603,
           11.828929827651486,
           9.938109326219239,
           10.252665432450248,
           11.743572188935634,
           9.731319031025064,
           9.642051692927977,
           14.976877329653048,
           14.944117220154881,
           9.971543553950772,
           11.909518114296615,
           11.171176797651771,
           10.733862719678543,
           13.630722162103838,
           13.732379446391358,
           13.63922764034692,
           13.898506917637286,
           12.961630562578824,
           12.482051629033913,
           11.34485068394299,
           12.71639078949768,
           11.217351905270334
          ],
          "sizemode": "area",
          "sizeref": 0.043606629933987937,
          "symbol": "circle"
         },
         "mode": "markers",
         "name": "Opposing",
         "orientation": "h",
         "showlegend": true,
         "type": "scatter",
         "x": [
          -0.5103557530872048,
          -0.2710183520487015,
          -0.0709429818559345,
          -0.14700423860328726,
          -0.341291653604567,
          -0.3733732398874508,
          -0.12103495875968963,
          -0.40220359440438785,
          -0.11432991265936246,
          -0.15921461894684064,
          0.12104794884389276,
          -0.22848704075967402,
          -0.18502726707163525,
          -0.27733974108949605,
          -0.30344392144831783,
          -0.3450574024601721,
          -0.5170316947069865,
          0.08240079902279492,
          -0.05024795699797448,
          -0.26205740748764433,
          -0.023422853705075772,
          -0.3425119109375313,
          -0.39240052290112826,
          -0.2609184173082289,
          -0.3458568571232288,
          -0.3060482337645443,
          -0.3353171856684026,
          -0.3298392291402624,
          -0.24114264605105315,
          -0.37406066586913506,
          -0.48492995953014906,
          -0.39944246232230446,
          -0.3049187548452069,
          -0.052934323706010686,
          -0.4626009450800666,
          -0.3103422091135512,
          -0.24508913001177957,
          -0.04418764399803297,
          -0.23386630449198492,
          -0.19531143222302666,
          -0.11514242522205646,
          0.04649283643593272,
          0.17421868393430792,
          -0.22169234601961127,
          0.11054485268195621,
          -0.3120641720738546,
          -0.292395964714298,
          -0.4973812162570136,
          0.03051490760241278,
          -0.6654832741596896,
          0.15115884705070148,
          0.09452683751093863,
          -0.571760882785317,
          -0.26898663281244756,
          -0.0036621635541655693
         ],
         "xaxis": "x",
         "y": [
          "War",
          "War",
          "Trade",
          "Trade",
          "Trade",
          "Trade",
          "Trade",
          "Trade",
          "Trade",
          "Trade",
          "Trade",
          "Trade",
          "Trade",
          "Trade",
          "Trade",
          "Religiosity",
          "Religiosity",
          "Religiosity",
          "Religiosity",
          "Religiosity",
          "Religiosity",
          "Ideology",
          "Ideology",
          "Ideology",
          "Ideology",
          "Ideology",
          "Ideology",
          "Ideology",
          "Ideology",
          "Ideology",
          "Gun Control",
          "Gender",
          "Gender",
          "Gender",
          "Gender",
          "Birth Control",
          "Birth Control",
          "Birth Control",
          "Birth Control",
          "Birth Control",
          "Birth Control",
          "Birth Control",
          "Birth Control",
          "Birth Control",
          "Birth Control",
          "Birth Control",
          "Birth Control",
          "Birth Control",
          "Birth Control",
          "Age",
          "Age",
          "Age",
          "Age",
          "Age",
          "Age"
         ],
         "yaxis": "y"
        },
        {
         "customdata": [
          [
           "CredibleDefense",
           45607,
           "Hawkish"
          ],
          [
           "WarCollege",
           6204,
           "Hawkish"
          ],
          [
           "neoconNWO",
           844,
           "Pro-Trade"
          ],
          [
           "seculartalk",
           139,
           "Pro-Trade"
          ],
          [
           "neoliberal",
           81320,
           "Pro-Trade"
          ],
          [
           "badeconomics",
           483,
           "Pro-Trade"
          ],
          [
           "AskEconomics",
           431,
           "Pro-Trade"
          ],
          [
           "Classical_Liberals",
           128,
           "Pro-Trade"
          ],
          [
           "Catholicism",
           71628,
           "Religious"
          ],
          [
           "Bible",
           5779,
           "Religious"
          ],
          [
           "latterdaysaints",
           25440,
           "Religious"
          ],
          [
           "RadicalChristianity",
           1522,
           "Religious"
          ],
          [
           "Reformed",
           20412,
           "Religious"
          ],
          [
           "Christianity",
           178140,
           "Religious"
          ],
          [
           "OrthodoxChristianity",
           15751,
           "Religious"
          ],
          [
           "lds",
           1917,
           "Religious"
          ],
          [
           "NoFapChristians",
           5732,
           "Religious"
          ],
          [
           "mormon",
           26108,
           "Religious"
          ],
          [
           "PrayerRequests",
           4812,
           "Religious"
          ],
          [
           "Christianmarriage",
           4473,
           "Religious"
          ],
          [
           "Anglicanism",
           6392,
           "Religious"
          ],
          [
           "TrueChristian",
           37686,
           "Religious"
          ],
          [
           "RPChristians",
           2151,
           "Religious"
          ],
          [
           "Christians",
           3353,
           "Religious"
          ],
          [
           "GayChristians",
           1941,
           "Religious"
          ],
          [
           "OpenChristian",
           4194,
           "Religious"
          ],
          [
           "Christian",
           11560,
           "Religious"
          ],
          [
           "The_Donald",
           48288,
           "Conservative"
          ],
          [
           "Capitalism",
           3083,
           "Conservative"
          ],
          [
           "benshapiro",
           1371,
           "Conservative"
          ],
          [
           "Classical_Liberals",
           1143,
           "Conservative"
          ],
          [
           "tuesday",
           3540,
           "Conservative"
          ],
          [
           "NOWTTYG",
           670,
           "Less Regulation"
          ],
          [
           "Firearms",
           7619,
           "Less Regulation"
          ],
          [
           "WA_guns",
           655,
           "Less Regulation"
          ],
          [
           "dgu",
           76,
           "Less Regulation"
          ],
          [
           "progun",
           11044,
           "Less Regulation"
          ],
          [
           "2ALiberals",
           1871,
           "Less Regulation"
          ],
          [
           "shitguncontrollerssay",
           1129,
           "Less Regulation"
          ],
          [
           "liberalgunowners",
           7630,
           "Less Regulation"
          ],
          [
           "libertarianmeme",
           512,
           "Less Regulation"
          ],
          [
           "VAGuns",
           890,
           "Less Regulation"
          ],
          [
           "canadaguns",
           1306,
           "Less Regulation"
          ],
          [
           "CAguns",
           1000,
           "Less Regulation"
          ],
          [
           "Iamactuallyverybadass",
           285,
           "Less Regulation"
          ],
          [
           "NYguns",
           106,
           "Less Regulation"
          ],
          [
           "NJGuns",
           117,
           "Less Regulation"
          ],
          [
           "SocialistRA",
           752,
           "Less Regulation"
          ],
          [
           "Classical_Liberals",
           72,
           "Less Regulation"
          ],
          [
           "GrandTheftAutoV",
           1,
           "Masculine"
          ],
          [
           "OneY",
           9105,
           "Masculine"
          ],
          [
           "daddit",
           24584,
           "Masculine"
          ],
          [
           "MensRights",
           19682,
           "Pro-Life"
          ],
          [
           "benshapiro",
           945,
           "Pro-Life"
          ],
          [
           "antifeminists",
           1027,
           "Pro-Life"
          ],
          [
           "prolife",
           23318,
           "Pro-Life"
          ],
          [
           "careerguidance",
           28406,
           "Older"
          ],
          [
           "Adoption",
           6771,
           "Older"
          ],
          [
           "Fosterparents",
           1399,
           "Older"
          ],
          [
           "NarcAbuseAndDivorce",
           1837,
           "Older"
          ],
          [
           "Genealogy",
           17441,
           "Older"
          ],
          [
           "careeradvice",
           1983,
           "Older"
          ],
          [
           "oneanddone",
           1716,
           "Older"
          ],
          [
           "fosterit",
           1684,
           "Older"
          ],
          [
           "Mortgages",
           4210,
           "Older"
          ]
         ],
         "hovertemplate": "Alignment=Aligned<br>Projection=%{x}<br>=%{y}<br>size=%{marker.size}<br>subreddit=%{customdata[0]}<br>count=%{customdata[1]}<br>label=%{customdata[2]}<extra></extra>",
         "legendgroup": "Aligned",
         "marker": {
          "color": "#00cc96",
          "size": [
           15.476967653286689,
           12.59898297103609,
           9.721099188707186,
           7.118941072723508,
           16.311322594732093,
           8.915879378835774,
           8.751544059089099,
           7,
           16.12823603917096,
           12.496604154575603,
           14.634811050171718,
           10.571752643503546,
           14.317129926384542,
           17.442651973595176,
           13.943155804939336,
           10.904634621668151,
           12.484822894262146,
           14.672204323964033,
           12.232420927176076,
           12.127027043004599,
           12.642051692927977,
           15.201741054721296,
           11.070791809423062,
           11.711236767793784,
           10.922584402713664,
           12.034111146096592,
           13.496853777388042,
           15.559377090526683,
           11.590119174107175,
           10.421012855779226,
           10.158609688214478,
           11.78953364497036,
           9.388017285345136,
           12.895385939898507,
           9.355351096424812,
           6.247927513443585,
           13.430975172588068,
           10.869593843240784,
           10.140829770773001,
           12.897467341721892,
           9,
           9.79766152585376,
           10.350939181546432,
           9.965784284662087,
           8.154818109052105,
           6.727920454563199,
           6.870364719583405,
           9.554588851677638,
           6.169925001442312,
           0,
           13.152443301864201,
           14.585432051592962,
           14.264589208126823,
           9.884170519108435,
           10.004220466318195,
           14.509156432503849,
           14.793908071814263,
           12.725153203912992,
           10.450180247164754,
           10.84313591111135,
           14.090195140632224,
           10.953468962228849,
           10.744833837499545,
           10.717676423066395,
           12.039604517953759
          ],
          "sizemode": "area",
          "sizeref": 0.043606629933987937,
          "symbol": "circle"
         },
         "mode": "markers",
         "name": "Aligned",
         "orientation": "h",
         "showlegend": true,
         "type": "scatter",
         "x": [
          0.34764479051595937,
          0.41182942165349706,
          0.10159711577820714,
          -0.1786188678654813,
          0.17344437042170258,
          0.06697391240818097,
          0.12923699419440252,
          0.05728938991686627,
          0.284883258996972,
          0.2719944411290509,
          0.14473520772468615,
          0.02031350802455454,
          0.2622610757851977,
          0.33145228673733174,
          0.27757717855575786,
          0.30341758009625663,
          0.31235645554157054,
          -0.017697428862155157,
          0.24321513448700163,
          0.22953813530152975,
          0.19857637962683128,
          0.17093938011470952,
          0.11917679418212858,
          0.30437114440075713,
          0.121822130870746,
          0.005832743602026582,
          0.20367308107189655,
          0.3860751325153711,
          0.2696571612129379,
          0.3054860820424322,
          0.3277532601253236,
          0.18500029214709282,
          0.10861161052152234,
          0.26259561759298833,
          0.15483143885269804,
          0.15330240145672525,
          0.42511464456362275,
          0.03243329440789397,
          0.1269890058992931,
          0.024242731641686843,
          0.25616211657055166,
          0.1325647533875033,
          0.16058592728567142,
          0.13209717641244234,
          0.024517926657136088,
          0.06835798101617112,
          0.06523546026502981,
          -0.13893245831558146,
          0.1280235309057505,
          0.03892414380983357,
          -0.044580663481806594,
          0.3782561990420482,
          0.3443218705870947,
          0.38101944585621617,
          0.22241549340942432,
          0.573230923179587,
          0.2832727560965278,
          0.1577745059748364,
          0.1979044003918679,
          0.2884147302172998,
          0.28362645469814535,
          0.27980908060859444,
          0.3043566335529976,
          0.24460864090086895,
          0.25847349793768193
         ],
         "xaxis": "x",
         "y": [
          "War",
          "War",
          "Trade",
          "Trade",
          "Trade",
          "Trade",
          "Trade",
          "Trade",
          "Religiosity",
          "Religiosity",
          "Religiosity",
          "Religiosity",
          "Religiosity",
          "Religiosity",
          "Religiosity",
          "Religiosity",
          "Religiosity",
          "Religiosity",
          "Religiosity",
          "Religiosity",
          "Religiosity",
          "Religiosity",
          "Religiosity",
          "Religiosity",
          "Religiosity",
          "Religiosity",
          "Religiosity",
          "Ideology",
          "Ideology",
          "Ideology",
          "Ideology",
          "Ideology",
          "Gun Control",
          "Gun Control",
          "Gun Control",
          "Gun Control",
          "Gun Control",
          "Gun Control",
          "Gun Control",
          "Gun Control",
          "Gun Control",
          "Gun Control",
          "Gun Control",
          "Gun Control",
          "Gun Control",
          "Gun Control",
          "Gun Control",
          "Gun Control",
          "Gun Control",
          "Gender",
          "Gender",
          "Gender",
          "Birth Control",
          "Birth Control",
          "Birth Control",
          "Birth Control",
          "Age",
          "Age",
          "Age",
          "Age",
          "Age",
          "Age",
          "Age",
          "Age",
          "Age"
         ],
         "yaxis": "y"
        }
       ],
       "layout": {
        "annotations": [
         {
          "ax": -40,
          "ay": -30,
          "font": {
           "size": 16
          },
          "showarrow": false,
          "text": "<b>Conservative</b>",
          "x": 0.7985799289916274,
          "xref": "x",
          "y": "Ideology",
          "yref": "y"
         },
         {
          "ax": -40,
          "ay": -50,
          "font": {
           "size": 16
          },
          "showarrow": false,
          "text": "<b>Progressive</b>",
          "x": -0.7985799289916274,
          "xref": "x",
          "y": "Ideology",
          "yref": "y"
         },
         {
          "ax": -40,
          "ay": -30,
          "font": {
           "size": 16
          },
          "showarrow": false,
          "text": "<b>Religious</b>",
          "x": 0.7985799289916274,
          "xref": "x",
          "y": "Religiosity",
          "yref": "y"
         },
         {
          "ax": -40,
          "ay": -50,
          "font": {
           "size": 16
          },
          "showarrow": false,
          "text": "<b>Secular</b>",
          "x": -0.7985799289916274,
          "xref": "x",
          "y": "Religiosity",
          "yref": "y"
         },
         {
          "ax": -40,
          "ay": -30,
          "font": {
           "size": 16
          },
          "showarrow": false,
          "text": "<b>Pro-Life</b>",
          "x": 0.7985799289916274,
          "xref": "x",
          "y": "Birth Control",
          "yref": "y"
         },
         {
          "ax": -40,
          "ay": -50,
          "font": {
           "size": 16
          },
          "showarrow": false,
          "text": "<b>Pro-Choice</b>",
          "x": -0.7985799289916274,
          "xref": "x",
          "y": "Birth Control",
          "yref": "y"
         },
         {
          "ax": -40,
          "ay": -30,
          "font": {
           "size": 16
          },
          "showarrow": false,
          "text": "<b>Less Regulation</b>",
          "x": 0.7985799289916274,
          "xref": "x",
          "y": "Gun Control",
          "yref": "y"
         },
         {
          "ax": -40,
          "ay": -50,
          "font": {
           "size": 16
          },
          "showarrow": false,
          "text": "<b>More Regulation</b>",
          "x": -0.7985799289916274,
          "xref": "x",
          "y": "Gun Control",
          "yref": "y"
         },
         {
          "ax": -40,
          "ay": -30,
          "font": {
           "size": 16
          },
          "showarrow": false,
          "text": "<b>Older</b>",
          "x": 0.7985799289916274,
          "xref": "x",
          "y": "Age",
          "yref": "y"
         },
         {
          "ax": -40,
          "ay": -50,
          "font": {
           "size": 16
          },
          "showarrow": false,
          "text": "<b>Younger</b>",
          "x": -0.7985799289916274,
          "xref": "x",
          "y": "Age",
          "yref": "y"
         },
         {
          "ax": -40,
          "ay": -30,
          "font": {
           "size": 16
          },
          "showarrow": false,
          "text": "<b>Pro-Trade</b>",
          "x": 0.7985799289916274,
          "xref": "x",
          "y": "Trade",
          "yref": "y"
         },
         {
          "ax": -40,
          "ay": -50,
          "font": {
           "size": 16
          },
          "showarrow": false,
          "text": "<b>Anti-Trade</b>",
          "x": -0.7985799289916274,
          "xref": "x",
          "y": "Trade",
          "yref": "y"
         },
         {
          "ax": -40,
          "ay": -30,
          "font": {
           "size": 16
          },
          "showarrow": false,
          "text": "<b>Hawkish</b>",
          "x": 0.7985799289916274,
          "xref": "x",
          "y": "War",
          "yref": "y"
         },
         {
          "ax": -40,
          "ay": -50,
          "font": {
           "size": 16
          },
          "showarrow": false,
          "text": "<b>Pacifistic</b>",
          "x": -0.7985799289916274,
          "xref": "x",
          "y": "War",
          "yref": "y"
         },
         {
          "ax": -40,
          "ay": -30,
          "font": {
           "size": 16
          },
          "showarrow": false,
          "text": "<b>Masculine</b>",
          "x": 0.7985799289916274,
          "xref": "x",
          "y": "Gender",
          "yref": "y"
         },
         {
          "ax": -40,
          "ay": -50,
          "font": {
           "size": 16
          },
          "showarrow": false,
          "text": "<b>Feminine</b>",
          "x": -0.7985799289916274,
          "xref": "x",
          "y": "Gender",
          "yref": "y"
         }
        ],
        "font": {
         "size": 23
        },
        "height": 700,
        "legend": {
         "itemsizing": "constant",
         "title": {
          "text": "Alignment"
         },
         "tracegroupgap": 0
        },
        "margin": {
         "t": 60
        },
        "template": {
         "data": {
          "bar": [
           {
            "error_x": {
             "color": "rgb(36,36,36)"
            },
            "error_y": {
             "color": "rgb(36,36,36)"
            },
            "marker": {
             "line": {
              "color": "white",
              "width": 0.5
             }
            },
            "type": "bar"
           }
          ],
          "barpolar": [
           {
            "marker": {
             "line": {
              "color": "white",
              "width": 0.5
             }
            },
            "type": "barpolar"
           }
          ],
          "carpet": [
           {
            "aaxis": {
             "endlinecolor": "rgb(36,36,36)",
             "gridcolor": "white",
             "linecolor": "white",
             "minorgridcolor": "white",
             "startlinecolor": "rgb(36,36,36)"
            },
            "baxis": {
             "endlinecolor": "rgb(36,36,36)",
             "gridcolor": "white",
             "linecolor": "white",
             "minorgridcolor": "white",
             "startlinecolor": "rgb(36,36,36)"
            },
            "type": "carpet"
           }
          ],
          "choropleth": [
           {
            "colorbar": {
             "outlinewidth": 1,
             "tickcolor": "rgb(36,36,36)",
             "ticks": "outside"
            },
            "type": "choropleth"
           }
          ],
          "contour": [
           {
            "colorbar": {
             "outlinewidth": 1,
             "tickcolor": "rgb(36,36,36)",
             "ticks": "outside"
            },
            "colorscale": [
             [
              0,
              "#440154"
             ],
             [
              0.1111111111111111,
              "#482878"
             ],
             [
              0.2222222222222222,
              "#3e4989"
             ],
             [
              0.3333333333333333,
              "#31688e"
             ],
             [
              0.4444444444444444,
              "#26828e"
             ],
             [
              0.5555555555555556,
              "#1f9e89"
             ],
             [
              0.6666666666666666,
              "#35b779"
             ],
             [
              0.7777777777777778,
              "#6ece58"
             ],
             [
              0.8888888888888888,
              "#b5de2b"
             ],
             [
              1,
              "#fde725"
             ]
            ],
            "type": "contour"
           }
          ],
          "contourcarpet": [
           {
            "colorbar": {
             "outlinewidth": 1,
             "tickcolor": "rgb(36,36,36)",
             "ticks": "outside"
            },
            "type": "contourcarpet"
           }
          ],
          "heatmap": [
           {
            "colorbar": {
             "outlinewidth": 1,
             "tickcolor": "rgb(36,36,36)",
             "ticks": "outside"
            },
            "colorscale": [
             [
              0,
              "#440154"
             ],
             [
              0.1111111111111111,
              "#482878"
             ],
             [
              0.2222222222222222,
              "#3e4989"
             ],
             [
              0.3333333333333333,
              "#31688e"
             ],
             [
              0.4444444444444444,
              "#26828e"
             ],
             [
              0.5555555555555556,
              "#1f9e89"
             ],
             [
              0.6666666666666666,
              "#35b779"
             ],
             [
              0.7777777777777778,
              "#6ece58"
             ],
             [
              0.8888888888888888,
              "#b5de2b"
             ],
             [
              1,
              "#fde725"
             ]
            ],
            "type": "heatmap"
           }
          ],
          "heatmapgl": [
           {
            "colorbar": {
             "outlinewidth": 1,
             "tickcolor": "rgb(36,36,36)",
             "ticks": "outside"
            },
            "colorscale": [
             [
              0,
              "#440154"
             ],
             [
              0.1111111111111111,
              "#482878"
             ],
             [
              0.2222222222222222,
              "#3e4989"
             ],
             [
              0.3333333333333333,
              "#31688e"
             ],
             [
              0.4444444444444444,
              "#26828e"
             ],
             [
              0.5555555555555556,
              "#1f9e89"
             ],
             [
              0.6666666666666666,
              "#35b779"
             ],
             [
              0.7777777777777778,
              "#6ece58"
             ],
             [
              0.8888888888888888,
              "#b5de2b"
             ],
             [
              1,
              "#fde725"
             ]
            ],
            "type": "heatmapgl"
           }
          ],
          "histogram": [
           {
            "marker": {
             "line": {
              "color": "white",
              "width": 0.6
             }
            },
            "type": "histogram"
           }
          ],
          "histogram2d": [
           {
            "colorbar": {
             "outlinewidth": 1,
             "tickcolor": "rgb(36,36,36)",
             "ticks": "outside"
            },
            "colorscale": [
             [
              0,
              "#440154"
             ],
             [
              0.1111111111111111,
              "#482878"
             ],
             [
              0.2222222222222222,
              "#3e4989"
             ],
             [
              0.3333333333333333,
              "#31688e"
             ],
             [
              0.4444444444444444,
              "#26828e"
             ],
             [
              0.5555555555555556,
              "#1f9e89"
             ],
             [
              0.6666666666666666,
              "#35b779"
             ],
             [
              0.7777777777777778,
              "#6ece58"
             ],
             [
              0.8888888888888888,
              "#b5de2b"
             ],
             [
              1,
              "#fde725"
             ]
            ],
            "type": "histogram2d"
           }
          ],
          "histogram2dcontour": [
           {
            "colorbar": {
             "outlinewidth": 1,
             "tickcolor": "rgb(36,36,36)",
             "ticks": "outside"
            },
            "colorscale": [
             [
              0,
              "#440154"
             ],
             [
              0.1111111111111111,
              "#482878"
             ],
             [
              0.2222222222222222,
              "#3e4989"
             ],
             [
              0.3333333333333333,
              "#31688e"
             ],
             [
              0.4444444444444444,
              "#26828e"
             ],
             [
              0.5555555555555556,
              "#1f9e89"
             ],
             [
              0.6666666666666666,
              "#35b779"
             ],
             [
              0.7777777777777778,
              "#6ece58"
             ],
             [
              0.8888888888888888,
              "#b5de2b"
             ],
             [
              1,
              "#fde725"
             ]
            ],
            "type": "histogram2dcontour"
           }
          ],
          "mesh3d": [
           {
            "colorbar": {
             "outlinewidth": 1,
             "tickcolor": "rgb(36,36,36)",
             "ticks": "outside"
            },
            "type": "mesh3d"
           }
          ],
          "parcoords": [
           {
            "line": {
             "colorbar": {
              "outlinewidth": 1,
              "tickcolor": "rgb(36,36,36)",
              "ticks": "outside"
             }
            },
            "type": "parcoords"
           }
          ],
          "pie": [
           {
            "automargin": true,
            "type": "pie"
           }
          ],
          "scatter": [
           {
            "marker": {
             "colorbar": {
              "outlinewidth": 1,
              "tickcolor": "rgb(36,36,36)",
              "ticks": "outside"
             }
            },
            "type": "scatter"
           }
          ],
          "scatter3d": [
           {
            "line": {
             "colorbar": {
              "outlinewidth": 1,
              "tickcolor": "rgb(36,36,36)",
              "ticks": "outside"
             }
            },
            "marker": {
             "colorbar": {
              "outlinewidth": 1,
              "tickcolor": "rgb(36,36,36)",
              "ticks": "outside"
             }
            },
            "type": "scatter3d"
           }
          ],
          "scattercarpet": [
           {
            "marker": {
             "colorbar": {
              "outlinewidth": 1,
              "tickcolor": "rgb(36,36,36)",
              "ticks": "outside"
             }
            },
            "type": "scattercarpet"
           }
          ],
          "scattergeo": [
           {
            "marker": {
             "colorbar": {
              "outlinewidth": 1,
              "tickcolor": "rgb(36,36,36)",
              "ticks": "outside"
             }
            },
            "type": "scattergeo"
           }
          ],
          "scattergl": [
           {
            "marker": {
             "colorbar": {
              "outlinewidth": 1,
              "tickcolor": "rgb(36,36,36)",
              "ticks": "outside"
             }
            },
            "type": "scattergl"
           }
          ],
          "scattermapbox": [
           {
            "marker": {
             "colorbar": {
              "outlinewidth": 1,
              "tickcolor": "rgb(36,36,36)",
              "ticks": "outside"
             }
            },
            "type": "scattermapbox"
           }
          ],
          "scatterpolar": [
           {
            "marker": {
             "colorbar": {
              "outlinewidth": 1,
              "tickcolor": "rgb(36,36,36)",
              "ticks": "outside"
             }
            },
            "type": "scatterpolar"
           }
          ],
          "scatterpolargl": [
           {
            "marker": {
             "colorbar": {
              "outlinewidth": 1,
              "tickcolor": "rgb(36,36,36)",
              "ticks": "outside"
             }
            },
            "type": "scatterpolargl"
           }
          ],
          "scatterternary": [
           {
            "marker": {
             "colorbar": {
              "outlinewidth": 1,
              "tickcolor": "rgb(36,36,36)",
              "ticks": "outside"
             }
            },
            "type": "scatterternary"
           }
          ],
          "surface": [
           {
            "colorbar": {
             "outlinewidth": 1,
             "tickcolor": "rgb(36,36,36)",
             "ticks": "outside"
            },
            "colorscale": [
             [
              0,
              "#440154"
             ],
             [
              0.1111111111111111,
              "#482878"
             ],
             [
              0.2222222222222222,
              "#3e4989"
             ],
             [
              0.3333333333333333,
              "#31688e"
             ],
             [
              0.4444444444444444,
              "#26828e"
             ],
             [
              0.5555555555555556,
              "#1f9e89"
             ],
             [
              0.6666666666666666,
              "#35b779"
             ],
             [
              0.7777777777777778,
              "#6ece58"
             ],
             [
              0.8888888888888888,
              "#b5de2b"
             ],
             [
              1,
              "#fde725"
             ]
            ],
            "type": "surface"
           }
          ],
          "table": [
           {
            "cells": {
             "fill": {
              "color": "rgb(237,237,237)"
             },
             "line": {
              "color": "white"
             }
            },
            "header": {
             "fill": {
              "color": "rgb(217,217,217)"
             },
             "line": {
              "color": "white"
             }
            },
            "type": "table"
           }
          ]
         },
         "layout": {
          "annotationdefaults": {
           "arrowhead": 0,
           "arrowwidth": 1
          },
          "coloraxis": {
           "colorbar": {
            "outlinewidth": 1,
            "tickcolor": "rgb(36,36,36)",
            "ticks": "outside"
           }
          },
          "colorscale": {
           "diverging": [
            [
             0,
             "rgb(103,0,31)"
            ],
            [
             0.1,
             "rgb(178,24,43)"
            ],
            [
             0.2,
             "rgb(214,96,77)"
            ],
            [
             0.3,
             "rgb(244,165,130)"
            ],
            [
             0.4,
             "rgb(253,219,199)"
            ],
            [
             0.5,
             "rgb(247,247,247)"
            ],
            [
             0.6,
             "rgb(209,229,240)"
            ],
            [
             0.7,
             "rgb(146,197,222)"
            ],
            [
             0.8,
             "rgb(67,147,195)"
            ],
            [
             0.9,
             "rgb(33,102,172)"
            ],
            [
             1,
             "rgb(5,48,97)"
            ]
           ],
           "sequential": [
            [
             0,
             "#440154"
            ],
            [
             0.1111111111111111,
             "#482878"
            ],
            [
             0.2222222222222222,
             "#3e4989"
            ],
            [
             0.3333333333333333,
             "#31688e"
            ],
            [
             0.4444444444444444,
             "#26828e"
            ],
            [
             0.5555555555555556,
             "#1f9e89"
            ],
            [
             0.6666666666666666,
             "#35b779"
            ],
            [
             0.7777777777777778,
             "#6ece58"
            ],
            [
             0.8888888888888888,
             "#b5de2b"
            ],
            [
             1,
             "#fde725"
            ]
           ],
           "sequentialminus": [
            [
             0,
             "#440154"
            ],
            [
             0.1111111111111111,
             "#482878"
            ],
            [
             0.2222222222222222,
             "#3e4989"
            ],
            [
             0.3333333333333333,
             "#31688e"
            ],
            [
             0.4444444444444444,
             "#26828e"
            ],
            [
             0.5555555555555556,
             "#1f9e89"
            ],
            [
             0.6666666666666666,
             "#35b779"
            ],
            [
             0.7777777777777778,
             "#6ece58"
            ],
            [
             0.8888888888888888,
             "#b5de2b"
            ],
            [
             1,
             "#fde725"
            ]
           ]
          },
          "colorway": [
           "#1F77B4",
           "#FF7F0E",
           "#2CA02C",
           "#D62728",
           "#9467BD",
           "#8C564B",
           "#E377C2",
           "#7F7F7F",
           "#BCBD22",
           "#17BECF"
          ],
          "font": {
           "color": "rgb(36,36,36)"
          },
          "geo": {
           "bgcolor": "white",
           "lakecolor": "white",
           "landcolor": "white",
           "showlakes": true,
           "showland": true,
           "subunitcolor": "white"
          },
          "hoverlabel": {
           "align": "left"
          },
          "hovermode": "closest",
          "mapbox": {
           "style": "light"
          },
          "paper_bgcolor": "white",
          "plot_bgcolor": "white",
          "polar": {
           "angularaxis": {
            "gridcolor": "rgb(232,232,232)",
            "linecolor": "rgb(36,36,36)",
            "showgrid": false,
            "showline": true,
            "ticks": "outside"
           },
           "bgcolor": "white",
           "radialaxis": {
            "gridcolor": "rgb(232,232,232)",
            "linecolor": "rgb(36,36,36)",
            "showgrid": false,
            "showline": true,
            "ticks": "outside"
           }
          },
          "scene": {
           "xaxis": {
            "backgroundcolor": "white",
            "gridcolor": "rgb(232,232,232)",
            "gridwidth": 2,
            "linecolor": "rgb(36,36,36)",
            "showbackground": true,
            "showgrid": false,
            "showline": true,
            "ticks": "outside",
            "zeroline": false,
            "zerolinecolor": "rgb(36,36,36)"
           },
           "yaxis": {
            "backgroundcolor": "white",
            "gridcolor": "rgb(232,232,232)",
            "gridwidth": 2,
            "linecolor": "rgb(36,36,36)",
            "showbackground": true,
            "showgrid": false,
            "showline": true,
            "ticks": "outside",
            "zeroline": false,
            "zerolinecolor": "rgb(36,36,36)"
           },
           "zaxis": {
            "backgroundcolor": "white",
            "gridcolor": "rgb(232,232,232)",
            "gridwidth": 2,
            "linecolor": "rgb(36,36,36)",
            "showbackground": true,
            "showgrid": false,
            "showline": true,
            "ticks": "outside",
            "zeroline": false,
            "zerolinecolor": "rgb(36,36,36)"
           }
          },
          "shapedefaults": {
           "fillcolor": "black",
           "line": {
            "width": 0
           },
           "opacity": 0.3
          },
          "ternary": {
           "aaxis": {
            "gridcolor": "rgb(232,232,232)",
            "linecolor": "rgb(36,36,36)",
            "showgrid": false,
            "showline": true,
            "ticks": "outside"
           },
           "baxis": {
            "gridcolor": "rgb(232,232,232)",
            "linecolor": "rgb(36,36,36)",
            "showgrid": false,
            "showline": true,
            "ticks": "outside"
           },
           "bgcolor": "white",
           "caxis": {
            "gridcolor": "rgb(232,232,232)",
            "linecolor": "rgb(36,36,36)",
            "showgrid": false,
            "showline": true,
            "ticks": "outside"
           }
          },
          "title": {
           "x": 0.05
          },
          "xaxis": {
           "automargin": true,
           "gridcolor": "rgb(232,232,232)",
           "linecolor": "rgb(36,36,36)",
           "showgrid": false,
           "showline": true,
           "ticks": "outside",
           "title": {
            "standoff": 15
           },
           "zeroline": false,
           "zerolinecolor": "rgb(36,36,36)"
          },
          "yaxis": {
           "automargin": true,
           "gridcolor": "rgb(232,232,232)",
           "linecolor": "rgb(36,36,36)",
           "showgrid": false,
           "showline": true,
           "ticks": "outside",
           "title": {
            "standoff": 15
           },
           "zeroline": false,
           "zerolinecolor": "rgb(36,36,36)"
          }
         }
        },
        "width": 1000,
        "xaxis": {
         "anchor": "y",
         "domain": [
          0,
          1
         ],
         "title": {
          "text": "Projection"
         }
        },
        "yaxis": {
         "anchor": "x",
         "domain": [
          0,
          1
         ],
         "showline": false,
         "title": {
          "text": ""
         },
         "type": "category"
        }
       }
      },
      "text/html": [
       "<div>\n",
       "        \n",
       "        \n",
       "            <div id=\"6f920cd8-4f0d-4ef8-a9d9-79760055ccd2\" class=\"plotly-graph-div\" style=\"height:700px; width:1000px;\"></div>\n",
       "            <script type=\"text/javascript\">\n",
       "                require([\"plotly\"], function(Plotly) {\n",
       "                    window.PLOTLYENV=window.PLOTLYENV || {};\n",
       "                    \n",
       "                if (document.getElementById(\"6f920cd8-4f0d-4ef8-a9d9-79760055ccd2\")) {\n",
       "                    Plotly.newPlot(\n",
       "                        '6f920cd8-4f0d-4ef8-a9d9-79760055ccd2',\n",
       "                        [{\"customdata\": [[\"unknownvideos\", 4219, \"NA\"], [\"Bitwarden\", 2964, \"NA\"], [\"resumes\", 17206, \"NA\"], [\"de_IAmA\", 4439, \"NA\"], [\"vmware\", 10203, \"NA\"], [\"StrawHatRPG\", 8061, \"NA\"], [\"GCTrading\", 9297, \"NA\"], [\"tud\", 1, \"NA\"], [\"ClashOfClansRecruit\", 23264, \"NA\"], [\"funnyvideos\", 3700, \"NA\"], [\"AsianLadyBonerGW\", 5095, \"NA\"], [\"RandomActsOfBlowJob\", 90243, \"NA\"], [\"awoiafrp\", 8845, \"NA\"], [\"textfriends\", 3792, \"NA\"], [\"flairwars\", 5208, \"NA\"], [\"Cash4Cash\", 6788, \"NA\"], [\"rwbyRP\", 6824, \"NA\"], [\"PublishProtocol\", 3380, \"NA\"], [\"HistoryWhatIf\", 7014, \"NA\"], [\"IronThroneRP\", 11616, \"NA\"], [\"toyexchange\", 2693, \"NA\"], [\"dwarffortress\", 21998, \"NA\"], [\"Newark\", 1503, \"NA\"], [\"HardwareSwapUK\", 11581, \"NA\"], [\"BeckleyOnReddit\", 1, \"NA\"], [\"Warts\", 2866, \"NA\"], [\"PoliticalCompass\", 219, \"NA\"], [\"lostgeneration\", 1345, \"NA\"], [\"DebateCommunism\", 415, \"NA\"], [\"canadaleft\", 80, \"NA\"], [\"ndp\", 85, \"NA\"], [\"brasilnoticias\", 240, \"NA\"], [\"BasicIncome\", 281, \"NA\"], [\"LeftWingMaleAdvocates\", 78, \"NA\"], [\"Argenpol\", 114, \"NA\"], [\"amherst\", 1, \"NA\"], [\"DebateAnarchism\", 96, \"NA\"], [\"AskAChristian\", 7103, \"NA\"], [\"jesuschristreddit\", 3159, \"NA\"], [\"swoleacceptance\", 1443, \"NA\"], [\"AquaSama\", 16607, \"NA\"], [\"DebateAChristian\", 7223, \"NA\"], [\"PublishProtocol\", 4028, \"NA\"], [\"DebateCommunism\", 9930, \"NA\"], [\"blockmason\", 2148, \"NA\"], [\"Fairfield\", 2, \"NA\"], [\"DebateAnarchism\", 2525, \"NA\"], [\"InsiderMemeTrading\", 5549, \"NA\"], [\"CineShots\", 2373, \"NA\"], [\"CapitalismVSocialism\", 72803, \"NA\"], [\"AskConservatives\", 5228, \"NA\"], [\"faireumofficial\", 1238, \"NA\"], [\"MoviePosterPorn\", 1964, \"NA\"], [\"KCL\", 4, \"NA\"], [\"ICOAnalysis\", 2190, \"NA\"], [\"AskALiberal\", 23031, \"NA\"], [\"Crypto_General\", 1102, \"NA\"], [\"askaconservative\", 9511, \"NA\"], [\"VirginiaPolitics\", 309, \"NA\"], [\"gunpolitics\", 6710, \"NA\"], [\"scotus\", 180, \"NA\"], [\"ColoradoPolitics\", 131, \"NA\"], [\"Virginia\", 696, \"NA\"], [\"blacksburg\", 1, \"NA\"], [\"stolaf\", 1, \"NA\"], [\"politicsdebate\", 102, \"NA\"], [\"TexasPolitics\", 290, \"NA\"], [\"PoliticalOpinions\", 95, \"NA\"], [\"California_Politics\", 126, \"NA\"], [\"PoliticalDiscussion\", 1851, \"NA\"], [\"portugal\", 88447, \"NA\"], [\"SingleParents\", 4335, \"NA\"], [\"SportingCP\", 2488, \"NA\"], [\"raisedbynarcissists\", 132256, \"NA\"], [\"rwbyRP\", 4085, \"NA\"], [\"brasilivre\", 94184, \"NA\"], [\"dementia\", 2236, \"NA\"], [\"investimentos\", 5989, \"NA\"], [\"BrasilSimulator\", 12000, \"NA\"], [\"IST\", 217, \"NA\"], [\"stepparents\", 22158, \"NA\"], [\"RepublicaArgentina\", 9186, \"NA\"], [\"narcissisticparents\", 4210, \"NA\"], [\"BrasildoB\", 6780, \"NA\"], [\"AsianParentStories\", 9303, \"NA\"], [\"vzla\", 29924, \"NA\"], [\"es\", 2648, \"NA\"], [\"podemos\", 22016, \"NA\"], [\"GriefSupport\", 8652, \"NA\"], [\"MusicInTheMaking\", 3954, \"NA\"], [\"raisedbyborderlines\", 22272, \"NA\"], [\"AquaSama\", 6513, \"NA\"], [\"GenderCriticalGuys\", 580, \"NA\"], [\"Alabama\", 1047, \"NA\"], [\"mormonpolitics\", 420, \"NA\"], [\"childfree\", 26507, \"NA\"], [\"politicsdebate\", 356, \"NA\"], [\"PoliticalOpinions\", 420, \"NA\"], [\"OneY\", 283, \"NA\"], [\"AskFeminists\", 11331, \"NA\"], [\"amipregnant\", 955, \"NA\"], [\"Kent\", 7, \"NA\"], [\"LeftWingMaleAdvocates\", 1502, \"NA\"], [\"Abortiondebate\", 42203, \"NA\"], [\"HolyCross\", 1, \"NA\"], [\"colum\", 5, \"NA\"], [\"claremontcolleges\", 8, \"NA\"], [\"asshole\", 16823, \"NA\"], [\"Fairfield\", 4, \"NA\"], [\"Hairy\", 3266, \"NA\"], [\"tud\", 1, \"NA\"], [\"iwanttobeher\", 14329, \"NA\"], [\"industrialized\", 12828, \"NA\"], [\"funkoswap\", 13567, \"NA\"], [\"FIREUK\", 2283, \"NA\"], [\"jamescook\", 1, \"NA\"], [\"polyamoryR4R\", 1488, \"NA\"], [\"JUSTNOFAMILY\", 25056, \"NA\"], [\"SDSMT\", 3, \"NA\"]], \"hovertemplate\": \"Alignment=NA<br>Projection=%{x}<br>=%{y}<br>size=%{marker.size}<br>subreddit=%{customdata[0]}<br>count=%{customdata[1]}<br>label=%{customdata[2]}<extra></extra>\", \"legendgroup\": \"NA\", \"marker\": {\"color\": \"#636efa\", \"size\": [12.042685372219351, 11.533329732305834, 14.070624122430266, 12.116018993325094, 13.316705791428998, 12.976743106734322, 13.182549540307372, 0.0, 14.505811553919594, 11.853309555403674, 12.314866431053176, 16.461527408425134, 13.110646427577821, 11.888743248898258, 12.346513733165635, 12.728770849542663, 12.73640193131829, 11.722807531169547, 12.776021715252812, 13.50382573799575, 11.394998514501673, 14.425084743242847, 10.553629293916364, 13.499472212561567, 0.0, 11.484822894262146, 7.774787059601174, 10.393390457443987, 8.696967526234287, 6.321928094887363, 6.409390936137702, 7.906890595608519, 8.134426320220927, 6.285402218862249, 6.832890014164741, 0.0, 6.584962500721156, 12.794212769983066, 11.625252221746873, 10.494855584491198, 14.019503858266578, 12.818382455041155, 11.975847968006784, 13.277578002415737, 11.068778277985412, 1.0, 11.302067672526519, 12.438012087651131, 11.212496385193948, 16.151710280467206, 12.352043425795433, 10.273795599214264, 10.939579214314692, 2.0, 11.096715154488535, 14.491289433481759, 10.105908508571158, 13.215381320721084, 8.271463027904375, 12.712097051087547, 7.491853096329675, 7.03342300153745, 9.442943495848729, 0.0, 0.0, 6.672425341971495, 8.179909090014934, 6.569855608330948, 6.977279923499917, 10.854089179870574, 16.432525589073176, 12.081816278109198, 11.280770770130603, 17.01297364837454, 11.996120363033047, 16.523194374830968, 11.12670447284319, 12.548099416978387, 13.550746785383243, 7.7615512324444795, 14.43554004792677, 13.165221068220944, 12.039604517953759, 12.727069558023706, 13.183480311333778, 14.869015415552091, 11.370687406807217, 14.426264754702098, 13.078817949961978, 11.949097155729207, 14.442943495848729, 12.6691065113363, 9.179909090014934, 10.032045726930809, 8.714245517666123, 14.694085778157689, 8.475733430966399, 8.714245517666123, 8.144658242831882, 13.467987569161329, 9.899356922923111, 2.807354922057604, 10.552669097514272, 15.365057936095372, 0.0, 2.321928094887362, 3.0, 14.0381473799815, 2.0, 11.673309075561695, 0.0, 13.806650309081014, 13.647008638441648, 13.727814119936957, 11.156715144224702, 0.0, 10.539158811108031, 14.612868497291041, 1.584962500721156], \"sizemode\": \"area\", \"sizeref\": 0.043606629933987937, \"symbol\": \"circle\"}, \"mode\": \"markers\", \"name\": \"NA\", \"orientation\": \"h\", \"showlegend\": true, \"type\": \"scatter\", \"x\": [-0.11103623513494494, 0.10373298105796565, 0.11280105750077415, 0.1282841950730742, 0.07698022921884394, 0.006335387425597752, -0.09959574127890726, 0.09767611199686287, -0.06487187881436228, -0.15002803960923014, 0.05219454028959295, 0.016126006189213397, 0.05583567608833286, 0.020980715084396608, -0.0457230528473627, -0.14403575587283104, 0.12094259863916693, -0.0780890227240187, 0.08203798842103337, 0.05906331488479458, -0.027591511866632522, 0.09413948543881494, -0.06984930684728356, 0.005621506686841009, -0.07769036779819616, -0.08787072576644753, -0.2598152273466819, -0.15847170024785748, -0.31757575502387175, -0.2901229202074779, -0.19281333208864138, -0.16981240930487934, -0.06742586623182117, -0.14590947599206588, -0.0596923674982803, -0.06020684930805098, -0.3608910863796983, 0.14577678087231924, -0.07360370547474006, 0.0012955515047459653, 0.1161907906762151, 0.13275204006746308, 0.01818720207900563, -0.15443020935065488, 0.023130513382229573, -0.05139714332358418, -0.2116507600769791, 0.06868672745772214, -0.07241403764852263, -0.0007823907049239249, 0.17706916511576182, 0.053167524020762, -0.04365765941974546, -0.07454250892617027, 0.041783106016869985, 0.06273306512964172, 0.07541995966375038, 0.3281131110423647, -0.11638662757230189, 0.17091924370260078, -0.15277613381520525, -0.07412948075300843, -0.05910833258211386, -0.0860571721893297, -0.063914664483389, -0.08941145487490984, -0.11052853611070006, -0.2507177559650879, -0.13624554723228618, -0.21214807047873394, -0.15549153230356497, -0.22918796386602486, -0.0539911572337448, -0.2106957009897527, -0.01714058386307272, -0.17384084605215896, -0.22224065632513926, -0.13887843793606885, -0.08485542230873196, -0.09955926334466725, -0.35583618677761036, -0.09508129312775873, -0.17278353673280578, -0.17832699787006617, -0.09999591663939741, -0.171358168180082, -0.13504232438193722, -0.19634423836018045, -0.14918464755541105, -0.059709942122111365, -0.23668299021006073, -0.07542373328666392, 0.06373229948224123, 0.11657863449208289, 0.28590217241766097, -0.2028493460001171, 0.1957284731393106, 0.12704669561639872, 0.16947884238760974, -0.10801369804712996, -0.2024738309270597, -0.0018768088304958808, 0.15686282834727935, 0.2187667947718603, 0.06327060967337321, 0.15660156510409368, 0.018431822697454064, -0.11256836259350052, 0.05321315253833437, 0.0051027423678419144, -0.026909708053528963, 0.0069299749646894735, -0.07317489714160524, -0.12595366606727865, 0.13876909466033002, 0.1132450210558834, 0.10067594865987695, 0.09974610275293741, 0.02086716875642961], \"xaxis\": \"x\", \"y\": [\"War\", \"War\", \"War\", \"War\", \"War\", \"War\", \"War\", \"War\", \"War\", \"War\", \"War\", \"War\", \"War\", \"War\", \"War\", \"War\", \"War\", \"War\", \"War\", \"War\", \"War\", \"War\", \"War\", \"War\", \"War\", \"War\", \"Trade\", \"Trade\", \"Trade\", \"Trade\", \"Trade\", \"Trade\", \"Trade\", \"Trade\", \"Trade\", \"Trade\", \"Trade\", \"Religiosity\", \"Religiosity\", \"Religiosity\", \"Religiosity\", \"Religiosity\", \"Ideology\", \"Ideology\", \"Ideology\", \"Ideology\", \"Ideology\", \"Ideology\", \"Ideology\", \"Ideology\", \"Ideology\", \"Ideology\", \"Ideology\", \"Ideology\", \"Ideology\", \"Ideology\", \"Ideology\", \"Ideology\", \"Gun Control\", \"Gun Control\", \"Gun Control\", \"Gun Control\", \"Gun Control\", \"Gun Control\", \"Gun Control\", \"Gun Control\", \"Gun Control\", \"Gun Control\", \"Gun Control\", \"Gun Control\", \"Gender\", \"Gender\", \"Gender\", \"Gender\", \"Gender\", \"Gender\", \"Gender\", \"Gender\", \"Gender\", \"Gender\", \"Gender\", \"Gender\", \"Gender\", \"Gender\", \"Gender\", \"Gender\", \"Gender\", \"Gender\", \"Gender\", \"Gender\", \"Gender\", \"Gender\", \"Birth Control\", \"Birth Control\", \"Birth Control\", \"Birth Control\", \"Birth Control\", \"Birth Control\", \"Birth Control\", \"Birth Control\", \"Birth Control\", \"Birth Control\", \"Birth Control\", \"Birth Control\", \"Age\", \"Age\", \"Age\", \"Age\", \"Age\", \"Age\", \"Age\", \"Age\", \"Age\", \"Age\", \"Age\", \"Age\", \"Age\", \"Age\", \"Age\"], \"yaxis\": \"y\"}, {\"customdata\": [[\"EndlessWar\", 14904, \"Pacifistic\"], [\"LeftWithoutEdge\", 518, \"Pacifistic\"], [\"WayOfTheBern\", 3828, \"Anti-Trade\"], [\"WeAreNotAsking\", 116, \"Anti-Trade\"], [\"LeftWithoutEdge\", 205, \"Anti-Trade\"], [\"BreadTube\", 1591, \"Anti-Trade\"], [\"stupidpol\", 4309, \"Anti-Trade\"], [\"Socialism_101\", 394, \"Anti-Trade\"], [\"Kossacks_for_Sanders\", 168, \"Anti-Trade\"], [\"SocialDemocracy\", 208, \"Anti-Trade\"], [\"The_Donald\", 62458, \"Anti-Trade\"], [\"CriticalTheory\", 235, \"Anti-Trade\"], [\"dsa\", 64, \"Anti-Trade\"], [\"chomsky\", 335, \"Anti-Trade\"], [\"Labour\", 275, \"Anti-Trade\"], [\"exchristian\", 28380, \"Secular\"], [\"exmormon\", 170129, \"Secular\"], [\"exlldm\", 2984, \"Secular\"], [\"agnostic\", 2147, \"Secular\"], [\"excatholic\", 3498, \"Secular\"], [\"exIglesiaNiCristo\", 4573, \"Secular\"], [\"Socialism_101\", 12306, \"Progressive\"], [\"capitalism_in_decay\", 2634, \"Progressive\"], [\"canadaleft\", 2692, \"Progressive\"], [\"SocialDemocracy\", 1185, \"Progressive\"], [\"LateStageCapitalism\", 62136, \"Progressive\"], [\"communism101\", 8758, \"Progressive\"], [\"Anarchy101\", 6952, \"Progressive\"], [\"BasicIncome\", 4365, \"Progressive\"], [\"socialism\", 17790, \"Progressive\"], [\"GunsAreCool\", 782, \"More Regulation\"], [\"breakingmom\", 43912, \"Feminine\"], [\"MakeupAddiction\", 38406, \"Feminine\"], [\"TwoXChromosomes\", 18794, \"Feminine\"], [\"Mommit\", 3638, \"Feminine\"], [\"PMDD\", 981, \"Pro-Choice\"], [\"Endo\", 1220, \"Pro-Choice\"], [\"Feminism\", 3429, \"Pro-Choice\"], [\"endometriosis\", 850, \"Pro-Choice\"], [\"Periods\", 799, \"Pro-Choice\"], [\"TwoXChromosomes\", 32247, \"Pro-Choice\"], [\"GenderCritical\", 31523, \"Pro-Choice\"], [\"Egalitarianism\", 1004, \"Pro-Choice\"], [\"PCOS\", 3847, \"Pro-Choice\"], [\"FeMRADebates\", 2306, \"Pro-Choice\"], [\"WomensHealth\", 1703, \"Pro-Choice\"], [\"abortion\", 12684, \"Pro-Choice\"], [\"birthcontrol\", 13610, \"Pro-Choice\"], [\"prochoice\", 12759, \"Pro-Choice\"], [\"teenagers\", 15271, \"Younger\"], [\"family\", 7977, \"Younger\"], [\"AsianParentStories\", 5721, \"Younger\"], [\"dankmemes\", 2601, \"Younger\"], [\"2meirl4meirl\", 6730, \"Younger\"], [\"LifeAfterSchool\", 2381, \"Younger\"]], \"hovertemplate\": \"Alignment=Opposing<br>Projection=%{x}<br>=%{y}<br>size=%{marker.size}<br>subreddit=%{customdata[0]}<br>count=%{customdata[1]}<br>label=%{customdata[2]}<extra></extra>\", \"legendgroup\": \"Opposing\", \"marker\": {\"color\": \"#EF553B\", \"size\": [13.863411958941638, 9.016808287686555, 11.902375114486025, 6.857980995127572, 7.679480099505446, 10.635718120331047, 12.073137383110383, 8.622051819456376, 7.392317422778761, 7.700439718141092, 15.93059875236169, 7.876516946564999, 6.0, 8.388017285345136, 8.103287808412022, 14.792586968947914, 17.376269556591197, 11.543031820255237, 11.068106475858773, 11.772314573921653, 12.158925203806964, 13.587074277201008, 11.363039630256514, 11.394462694610317, 10.210671343785622, 15.923141750621268, 13.096385734452651, 12.7632123668144, 12.091765938516803, 14.118778890154521, 9.611024797307353, 15.422327623974558, 15.22904409398683, 14.197984533375603, 11.828929827651486, 9.938109326219239, 10.252665432450248, 11.743572188935634, 9.731319031025064, 9.642051692927977, 14.976877329653048, 14.944117220154881, 9.971543553950772, 11.909518114296615, 11.171176797651771, 10.733862719678543, 13.630722162103838, 13.732379446391358, 13.63922764034692, 13.898506917637286, 12.961630562578824, 12.482051629033913, 11.34485068394299, 12.71639078949768, 11.217351905270334], \"sizemode\": \"area\", \"sizeref\": 0.043606629933987937, \"symbol\": \"circle\"}, \"mode\": \"markers\", \"name\": \"Opposing\", \"orientation\": \"h\", \"showlegend\": true, \"type\": \"scatter\", \"x\": [-0.5103557530872048, -0.2710183520487015, -0.0709429818559345, -0.14700423860328726, -0.341291653604567, -0.3733732398874508, -0.12103495875968963, -0.40220359440438785, -0.11432991265936246, -0.15921461894684064, 0.12104794884389276, -0.22848704075967402, -0.18502726707163525, -0.27733974108949605, -0.30344392144831783, -0.3450574024601721, -0.5170316947069865, 0.08240079902279492, -0.05024795699797448, -0.26205740748764433, -0.023422853705075772, -0.3425119109375313, -0.39240052290112826, -0.2609184173082289, -0.3458568571232288, -0.3060482337645443, -0.3353171856684026, -0.3298392291402624, -0.24114264605105315, -0.37406066586913506, -0.48492995953014906, -0.39944246232230446, -0.3049187548452069, -0.052934323706010686, -0.4626009450800666, -0.3103422091135512, -0.24508913001177957, -0.04418764399803297, -0.23386630449198492, -0.19531143222302666, -0.11514242522205646, 0.04649283643593272, 0.17421868393430792, -0.22169234601961127, 0.11054485268195621, -0.3120641720738546, -0.292395964714298, -0.4973812162570136, 0.03051490760241278, -0.6654832741596896, 0.15115884705070148, 0.09452683751093863, -0.571760882785317, -0.26898663281244756, -0.0036621635541655693], \"xaxis\": \"x\", \"y\": [\"War\", \"War\", \"Trade\", \"Trade\", \"Trade\", \"Trade\", \"Trade\", \"Trade\", \"Trade\", \"Trade\", \"Trade\", \"Trade\", \"Trade\", \"Trade\", \"Trade\", \"Religiosity\", \"Religiosity\", \"Religiosity\", \"Religiosity\", \"Religiosity\", \"Religiosity\", \"Ideology\", \"Ideology\", \"Ideology\", \"Ideology\", \"Ideology\", \"Ideology\", \"Ideology\", \"Ideology\", \"Ideology\", \"Gun Control\", \"Gender\", \"Gender\", \"Gender\", \"Gender\", \"Birth Control\", \"Birth Control\", \"Birth Control\", \"Birth Control\", \"Birth Control\", \"Birth Control\", \"Birth Control\", \"Birth Control\", \"Birth Control\", \"Birth Control\", \"Birth Control\", \"Birth Control\", \"Birth Control\", \"Birth Control\", \"Age\", \"Age\", \"Age\", \"Age\", \"Age\", \"Age\"], \"yaxis\": \"y\"}, {\"customdata\": [[\"CredibleDefense\", 45607, \"Hawkish\"], [\"WarCollege\", 6204, \"Hawkish\"], [\"neoconNWO\", 844, \"Pro-Trade\"], [\"seculartalk\", 139, \"Pro-Trade\"], [\"neoliberal\", 81320, \"Pro-Trade\"], [\"badeconomics\", 483, \"Pro-Trade\"], [\"AskEconomics\", 431, \"Pro-Trade\"], [\"Classical_Liberals\", 128, \"Pro-Trade\"], [\"Catholicism\", 71628, \"Religious\"], [\"Bible\", 5779, \"Religious\"], [\"latterdaysaints\", 25440, \"Religious\"], [\"RadicalChristianity\", 1522, \"Religious\"], [\"Reformed\", 20412, \"Religious\"], [\"Christianity\", 178140, \"Religious\"], [\"OrthodoxChristianity\", 15751, \"Religious\"], [\"lds\", 1917, \"Religious\"], [\"NoFapChristians\", 5732, \"Religious\"], [\"mormon\", 26108, \"Religious\"], [\"PrayerRequests\", 4812, \"Religious\"], [\"Christianmarriage\", 4473, \"Religious\"], [\"Anglicanism\", 6392, \"Religious\"], [\"TrueChristian\", 37686, \"Religious\"], [\"RPChristians\", 2151, \"Religious\"], [\"Christians\", 3353, \"Religious\"], [\"GayChristians\", 1941, \"Religious\"], [\"OpenChristian\", 4194, \"Religious\"], [\"Christian\", 11560, \"Religious\"], [\"The_Donald\", 48288, \"Conservative\"], [\"Capitalism\", 3083, \"Conservative\"], [\"benshapiro\", 1371, \"Conservative\"], [\"Classical_Liberals\", 1143, \"Conservative\"], [\"tuesday\", 3540, \"Conservative\"], [\"NOWTTYG\", 670, \"Less Regulation\"], [\"Firearms\", 7619, \"Less Regulation\"], [\"WA_guns\", 655, \"Less Regulation\"], [\"dgu\", 76, \"Less Regulation\"], [\"progun\", 11044, \"Less Regulation\"], [\"2ALiberals\", 1871, \"Less Regulation\"], [\"shitguncontrollerssay\", 1129, \"Less Regulation\"], [\"liberalgunowners\", 7630, \"Less Regulation\"], [\"libertarianmeme\", 512, \"Less Regulation\"], [\"VAGuns\", 890, \"Less Regulation\"], [\"canadaguns\", 1306, \"Less Regulation\"], [\"CAguns\", 1000, \"Less Regulation\"], [\"Iamactuallyverybadass\", 285, \"Less Regulation\"], [\"NYguns\", 106, \"Less Regulation\"], [\"NJGuns\", 117, \"Less Regulation\"], [\"SocialistRA\", 752, \"Less Regulation\"], [\"Classical_Liberals\", 72, \"Less Regulation\"], [\"GrandTheftAutoV\", 1, \"Masculine\"], [\"OneY\", 9105, \"Masculine\"], [\"daddit\", 24584, \"Masculine\"], [\"MensRights\", 19682, \"Pro-Life\"], [\"benshapiro\", 945, \"Pro-Life\"], [\"antifeminists\", 1027, \"Pro-Life\"], [\"prolife\", 23318, \"Pro-Life\"], [\"careerguidance\", 28406, \"Older\"], [\"Adoption\", 6771, \"Older\"], [\"Fosterparents\", 1399, \"Older\"], [\"NarcAbuseAndDivorce\", 1837, \"Older\"], [\"Genealogy\", 17441, \"Older\"], [\"careeradvice\", 1983, \"Older\"], [\"oneanddone\", 1716, \"Older\"], [\"fosterit\", 1684, \"Older\"], [\"Mortgages\", 4210, \"Older\"]], \"hovertemplate\": \"Alignment=Aligned<br>Projection=%{x}<br>=%{y}<br>size=%{marker.size}<br>subreddit=%{customdata[0]}<br>count=%{customdata[1]}<br>label=%{customdata[2]}<extra></extra>\", \"legendgroup\": \"Aligned\", \"marker\": {\"color\": \"#00cc96\", \"size\": [15.476967653286689, 12.59898297103609, 9.721099188707186, 7.118941072723508, 16.311322594732093, 8.915879378835774, 8.751544059089099, 7.0, 16.12823603917096, 12.496604154575603, 14.634811050171718, 10.571752643503546, 14.317129926384542, 17.442651973595176, 13.943155804939336, 10.904634621668151, 12.484822894262146, 14.672204323964033, 12.232420927176076, 12.127027043004599, 12.642051692927977, 15.201741054721296, 11.070791809423062, 11.711236767793784, 10.922584402713664, 12.034111146096592, 13.496853777388042, 15.559377090526683, 11.590119174107175, 10.421012855779226, 10.158609688214478, 11.78953364497036, 9.388017285345136, 12.895385939898507, 9.355351096424812, 6.247927513443585, 13.430975172588068, 10.869593843240784, 10.140829770773001, 12.897467341721892, 9.0, 9.79766152585376, 10.350939181546432, 9.965784284662087, 8.154818109052105, 6.727920454563199, 6.870364719583405, 9.554588851677638, 6.169925001442312, 0.0, 13.152443301864201, 14.585432051592962, 14.264589208126823, 9.884170519108435, 10.004220466318195, 14.509156432503849, 14.793908071814263, 12.725153203912992, 10.450180247164754, 10.84313591111135, 14.090195140632224, 10.953468962228849, 10.744833837499545, 10.717676423066395, 12.039604517953759], \"sizemode\": \"area\", \"sizeref\": 0.043606629933987937, \"symbol\": \"circle\"}, \"mode\": \"markers\", \"name\": \"Aligned\", \"orientation\": \"h\", \"showlegend\": true, \"type\": \"scatter\", \"x\": [0.34764479051595937, 0.41182942165349706, 0.10159711577820714, -0.1786188678654813, 0.17344437042170258, 0.06697391240818097, 0.12923699419440252, 0.05728938991686627, 0.284883258996972, 0.2719944411290509, 0.14473520772468615, 0.02031350802455454, 0.2622610757851977, 0.33145228673733174, 0.27757717855575786, 0.30341758009625663, 0.31235645554157054, -0.017697428862155157, 0.24321513448700163, 0.22953813530152975, 0.19857637962683128, 0.17093938011470952, 0.11917679418212858, 0.30437114440075713, 0.121822130870746, 0.005832743602026582, 0.20367308107189655, 0.3860751325153711, 0.2696571612129379, 0.3054860820424322, 0.3277532601253236, 0.18500029214709282, 0.10861161052152234, 0.26259561759298833, 0.15483143885269804, 0.15330240145672525, 0.42511464456362275, 0.03243329440789397, 0.1269890058992931, 0.024242731641686843, 0.25616211657055166, 0.1325647533875033, 0.16058592728567142, 0.13209717641244234, 0.024517926657136088, 0.06835798101617112, 0.06523546026502981, -0.13893245831558146, 0.1280235309057505, 0.03892414380983357, -0.044580663481806594, 0.3782561990420482, 0.3443218705870947, 0.38101944585621617, 0.22241549340942432, 0.573230923179587, 0.2832727560965278, 0.1577745059748364, 0.1979044003918679, 0.2884147302172998, 0.28362645469814535, 0.27980908060859444, 0.3043566335529976, 0.24460864090086895, 0.25847349793768193], \"xaxis\": \"x\", \"y\": [\"War\", \"War\", \"Trade\", \"Trade\", \"Trade\", \"Trade\", \"Trade\", \"Trade\", \"Religiosity\", \"Religiosity\", \"Religiosity\", \"Religiosity\", \"Religiosity\", \"Religiosity\", \"Religiosity\", \"Religiosity\", \"Religiosity\", \"Religiosity\", \"Religiosity\", \"Religiosity\", \"Religiosity\", \"Religiosity\", \"Religiosity\", \"Religiosity\", \"Religiosity\", \"Religiosity\", \"Religiosity\", \"Ideology\", \"Ideology\", \"Ideology\", \"Ideology\", \"Ideology\", \"Gun Control\", \"Gun Control\", \"Gun Control\", \"Gun Control\", \"Gun Control\", \"Gun Control\", \"Gun Control\", \"Gun Control\", \"Gun Control\", \"Gun Control\", \"Gun Control\", \"Gun Control\", \"Gun Control\", \"Gun Control\", \"Gun Control\", \"Gun Control\", \"Gun Control\", \"Gender\", \"Gender\", \"Gender\", \"Birth Control\", \"Birth Control\", \"Birth Control\", \"Birth Control\", \"Age\", \"Age\", \"Age\", \"Age\", \"Age\", \"Age\", \"Age\", \"Age\", \"Age\"], \"yaxis\": \"y\"}],\n",
       "                        {\"annotations\": [{\"ax\": -40, \"ay\": -30, \"font\": {\"size\": 16}, \"showarrow\": false, \"text\": \"<b>Conservative</b>\", \"x\": 0.7985799289916274, \"xref\": \"x\", \"y\": \"Ideology\", \"yref\": \"y\"}, {\"ax\": -40, \"ay\": -50, \"font\": {\"size\": 16}, \"showarrow\": false, \"text\": \"<b>Progressive</b>\", \"x\": -0.7985799289916274, \"xref\": \"x\", \"y\": \"Ideology\", \"yref\": \"y\"}, {\"ax\": -40, \"ay\": -30, \"font\": {\"size\": 16}, \"showarrow\": false, \"text\": \"<b>Religious</b>\", \"x\": 0.7985799289916274, \"xref\": \"x\", \"y\": \"Religiosity\", \"yref\": \"y\"}, {\"ax\": -40, \"ay\": -50, \"font\": {\"size\": 16}, \"showarrow\": false, \"text\": \"<b>Secular</b>\", \"x\": -0.7985799289916274, \"xref\": \"x\", \"y\": \"Religiosity\", \"yref\": \"y\"}, {\"ax\": -40, \"ay\": -30, \"font\": {\"size\": 16}, \"showarrow\": false, \"text\": \"<b>Pro-Life</b>\", \"x\": 0.7985799289916274, \"xref\": \"x\", \"y\": \"Birth Control\", \"yref\": \"y\"}, {\"ax\": -40, \"ay\": -50, \"font\": {\"size\": 16}, \"showarrow\": false, \"text\": \"<b>Pro-Choice</b>\", \"x\": -0.7985799289916274, \"xref\": \"x\", \"y\": \"Birth Control\", \"yref\": \"y\"}, {\"ax\": -40, \"ay\": -30, \"font\": {\"size\": 16}, \"showarrow\": false, \"text\": \"<b>Less Regulation</b>\", \"x\": 0.7985799289916274, \"xref\": \"x\", \"y\": \"Gun Control\", \"yref\": \"y\"}, {\"ax\": -40, \"ay\": -50, \"font\": {\"size\": 16}, \"showarrow\": false, \"text\": \"<b>More Regulation</b>\", \"x\": -0.7985799289916274, \"xref\": \"x\", \"y\": \"Gun Control\", \"yref\": \"y\"}, {\"ax\": -40, \"ay\": -30, \"font\": {\"size\": 16}, \"showarrow\": false, \"text\": \"<b>Older</b>\", \"x\": 0.7985799289916274, \"xref\": \"x\", \"y\": \"Age\", \"yref\": \"y\"}, {\"ax\": -40, \"ay\": -50, \"font\": {\"size\": 16}, \"showarrow\": false, \"text\": \"<b>Younger</b>\", \"x\": -0.7985799289916274, \"xref\": \"x\", \"y\": \"Age\", \"yref\": \"y\"}, {\"ax\": -40, \"ay\": -30, \"font\": {\"size\": 16}, \"showarrow\": false, \"text\": \"<b>Pro-Trade</b>\", \"x\": 0.7985799289916274, \"xref\": \"x\", \"y\": \"Trade\", \"yref\": \"y\"}, {\"ax\": -40, \"ay\": -50, \"font\": {\"size\": 16}, \"showarrow\": false, \"text\": \"<b>Anti-Trade</b>\", \"x\": -0.7985799289916274, \"xref\": \"x\", \"y\": \"Trade\", \"yref\": \"y\"}, {\"ax\": -40, \"ay\": -30, \"font\": {\"size\": 16}, \"showarrow\": false, \"text\": \"<b>Hawkish</b>\", \"x\": 0.7985799289916274, \"xref\": \"x\", \"y\": \"War\", \"yref\": \"y\"}, {\"ax\": -40, \"ay\": -50, \"font\": {\"size\": 16}, \"showarrow\": false, \"text\": \"<b>Pacifistic</b>\", \"x\": -0.7985799289916274, \"xref\": \"x\", \"y\": \"War\", \"yref\": \"y\"}, {\"ax\": -40, \"ay\": -30, \"font\": {\"size\": 16}, \"showarrow\": false, \"text\": \"<b>Masculine</b>\", \"x\": 0.7985799289916274, \"xref\": \"x\", \"y\": \"Gender\", \"yref\": \"y\"}, {\"ax\": -40, \"ay\": -50, \"font\": {\"size\": 16}, \"showarrow\": false, \"text\": \"<b>Feminine</b>\", \"x\": -0.7985799289916274, \"xref\": \"x\", \"y\": \"Gender\", \"yref\": \"y\"}], \"font\": {\"size\": 23}, \"height\": 700, \"legend\": {\"itemsizing\": \"constant\", \"title\": {\"text\": \"Alignment\"}, \"tracegroupgap\": 0}, \"margin\": {\"t\": 60}, \"template\": {\"data\": {\"bar\": [{\"error_x\": {\"color\": \"rgb(36,36,36)\"}, \"error_y\": {\"color\": \"rgb(36,36,36)\"}, \"marker\": {\"line\": {\"color\": \"white\", \"width\": 0.5}}, \"type\": \"bar\"}], \"barpolar\": [{\"marker\": {\"line\": {\"color\": \"white\", \"width\": 0.5}}, \"type\": \"barpolar\"}], \"carpet\": [{\"aaxis\": {\"endlinecolor\": \"rgb(36,36,36)\", \"gridcolor\": \"white\", \"linecolor\": \"white\", \"minorgridcolor\": \"white\", \"startlinecolor\": \"rgb(36,36,36)\"}, \"baxis\": {\"endlinecolor\": \"rgb(36,36,36)\", \"gridcolor\": \"white\", \"linecolor\": \"white\", \"minorgridcolor\": \"white\", \"startlinecolor\": \"rgb(36,36,36)\"}, \"type\": \"carpet\"}], \"choropleth\": [{\"colorbar\": {\"outlinewidth\": 1, \"tickcolor\": \"rgb(36,36,36)\", \"ticks\": \"outside\"}, \"type\": \"choropleth\"}], \"contour\": [{\"colorbar\": {\"outlinewidth\": 1, \"tickcolor\": \"rgb(36,36,36)\", \"ticks\": \"outside\"}, \"colorscale\": [[0.0, \"#440154\"], [0.1111111111111111, \"#482878\"], [0.2222222222222222, \"#3e4989\"], [0.3333333333333333, \"#31688e\"], [0.4444444444444444, \"#26828e\"], [0.5555555555555556, \"#1f9e89\"], [0.6666666666666666, \"#35b779\"], [0.7777777777777778, \"#6ece58\"], [0.8888888888888888, \"#b5de2b\"], [1.0, \"#fde725\"]], \"type\": \"contour\"}], \"contourcarpet\": [{\"colorbar\": {\"outlinewidth\": 1, \"tickcolor\": \"rgb(36,36,36)\", \"ticks\": \"outside\"}, \"type\": \"contourcarpet\"}], \"heatmap\": [{\"colorbar\": {\"outlinewidth\": 1, \"tickcolor\": \"rgb(36,36,36)\", \"ticks\": \"outside\"}, \"colorscale\": [[0.0, \"#440154\"], [0.1111111111111111, \"#482878\"], [0.2222222222222222, \"#3e4989\"], [0.3333333333333333, \"#31688e\"], [0.4444444444444444, \"#26828e\"], [0.5555555555555556, \"#1f9e89\"], [0.6666666666666666, \"#35b779\"], [0.7777777777777778, \"#6ece58\"], [0.8888888888888888, \"#b5de2b\"], [1.0, \"#fde725\"]], \"type\": \"heatmap\"}], \"heatmapgl\": [{\"colorbar\": {\"outlinewidth\": 1, \"tickcolor\": \"rgb(36,36,36)\", \"ticks\": \"outside\"}, \"colorscale\": [[0.0, \"#440154\"], [0.1111111111111111, \"#482878\"], [0.2222222222222222, \"#3e4989\"], [0.3333333333333333, \"#31688e\"], [0.4444444444444444, \"#26828e\"], [0.5555555555555556, \"#1f9e89\"], [0.6666666666666666, \"#35b779\"], [0.7777777777777778, \"#6ece58\"], [0.8888888888888888, \"#b5de2b\"], [1.0, \"#fde725\"]], \"type\": \"heatmapgl\"}], \"histogram\": [{\"marker\": {\"line\": {\"color\": \"white\", \"width\": 0.6}}, \"type\": \"histogram\"}], \"histogram2d\": [{\"colorbar\": {\"outlinewidth\": 1, \"tickcolor\": \"rgb(36,36,36)\", \"ticks\": \"outside\"}, \"colorscale\": [[0.0, \"#440154\"], [0.1111111111111111, \"#482878\"], [0.2222222222222222, \"#3e4989\"], [0.3333333333333333, \"#31688e\"], [0.4444444444444444, \"#26828e\"], [0.5555555555555556, \"#1f9e89\"], [0.6666666666666666, \"#35b779\"], [0.7777777777777778, \"#6ece58\"], [0.8888888888888888, \"#b5de2b\"], [1.0, \"#fde725\"]], \"type\": \"histogram2d\"}], \"histogram2dcontour\": [{\"colorbar\": {\"outlinewidth\": 1, \"tickcolor\": \"rgb(36,36,36)\", \"ticks\": \"outside\"}, \"colorscale\": [[0.0, \"#440154\"], [0.1111111111111111, \"#482878\"], [0.2222222222222222, \"#3e4989\"], [0.3333333333333333, \"#31688e\"], [0.4444444444444444, \"#26828e\"], [0.5555555555555556, \"#1f9e89\"], [0.6666666666666666, \"#35b779\"], [0.7777777777777778, \"#6ece58\"], [0.8888888888888888, \"#b5de2b\"], [1.0, \"#fde725\"]], \"type\": \"histogram2dcontour\"}], \"mesh3d\": [{\"colorbar\": {\"outlinewidth\": 1, \"tickcolor\": \"rgb(36,36,36)\", \"ticks\": \"outside\"}, \"type\": \"mesh3d\"}], \"parcoords\": [{\"line\": {\"colorbar\": {\"outlinewidth\": 1, \"tickcolor\": \"rgb(36,36,36)\", \"ticks\": \"outside\"}}, \"type\": \"parcoords\"}], \"pie\": [{\"automargin\": true, \"type\": \"pie\"}], \"scatter\": [{\"marker\": {\"colorbar\": {\"outlinewidth\": 1, \"tickcolor\": \"rgb(36,36,36)\", \"ticks\": \"outside\"}}, \"type\": \"scatter\"}], \"scatter3d\": [{\"line\": {\"colorbar\": {\"outlinewidth\": 1, \"tickcolor\": \"rgb(36,36,36)\", \"ticks\": \"outside\"}}, \"marker\": {\"colorbar\": {\"outlinewidth\": 1, \"tickcolor\": \"rgb(36,36,36)\", \"ticks\": \"outside\"}}, \"type\": \"scatter3d\"}], \"scattercarpet\": [{\"marker\": {\"colorbar\": {\"outlinewidth\": 1, \"tickcolor\": \"rgb(36,36,36)\", \"ticks\": \"outside\"}}, \"type\": \"scattercarpet\"}], \"scattergeo\": [{\"marker\": {\"colorbar\": {\"outlinewidth\": 1, \"tickcolor\": \"rgb(36,36,36)\", \"ticks\": \"outside\"}}, \"type\": \"scattergeo\"}], \"scattergl\": [{\"marker\": {\"colorbar\": {\"outlinewidth\": 1, \"tickcolor\": \"rgb(36,36,36)\", \"ticks\": \"outside\"}}, \"type\": \"scattergl\"}], \"scattermapbox\": [{\"marker\": {\"colorbar\": {\"outlinewidth\": 1, \"tickcolor\": \"rgb(36,36,36)\", \"ticks\": \"outside\"}}, \"type\": \"scattermapbox\"}], \"scatterpolar\": [{\"marker\": {\"colorbar\": {\"outlinewidth\": 1, \"tickcolor\": \"rgb(36,36,36)\", \"ticks\": \"outside\"}}, \"type\": \"scatterpolar\"}], \"scatterpolargl\": [{\"marker\": {\"colorbar\": {\"outlinewidth\": 1, \"tickcolor\": \"rgb(36,36,36)\", \"ticks\": \"outside\"}}, \"type\": \"scatterpolargl\"}], \"scatterternary\": [{\"marker\": {\"colorbar\": {\"outlinewidth\": 1, \"tickcolor\": \"rgb(36,36,36)\", \"ticks\": \"outside\"}}, \"type\": \"scatterternary\"}], \"surface\": [{\"colorbar\": {\"outlinewidth\": 1, \"tickcolor\": \"rgb(36,36,36)\", \"ticks\": \"outside\"}, \"colorscale\": [[0.0, \"#440154\"], [0.1111111111111111, \"#482878\"], [0.2222222222222222, \"#3e4989\"], [0.3333333333333333, \"#31688e\"], [0.4444444444444444, \"#26828e\"], [0.5555555555555556, \"#1f9e89\"], [0.6666666666666666, \"#35b779\"], [0.7777777777777778, \"#6ece58\"], [0.8888888888888888, \"#b5de2b\"], [1.0, \"#fde725\"]], \"type\": \"surface\"}], \"table\": [{\"cells\": {\"fill\": {\"color\": \"rgb(237,237,237)\"}, \"line\": {\"color\": \"white\"}}, \"header\": {\"fill\": {\"color\": \"rgb(217,217,217)\"}, \"line\": {\"color\": \"white\"}}, \"type\": \"table\"}]}, \"layout\": {\"annotationdefaults\": {\"arrowhead\": 0, \"arrowwidth\": 1}, \"coloraxis\": {\"colorbar\": {\"outlinewidth\": 1, \"tickcolor\": \"rgb(36,36,36)\", \"ticks\": \"outside\"}}, \"colorscale\": {\"diverging\": [[0.0, \"rgb(103,0,31)\"], [0.1, \"rgb(178,24,43)\"], [0.2, \"rgb(214,96,77)\"], [0.3, \"rgb(244,165,130)\"], [0.4, \"rgb(253,219,199)\"], [0.5, \"rgb(247,247,247)\"], [0.6, \"rgb(209,229,240)\"], [0.7, \"rgb(146,197,222)\"], [0.8, \"rgb(67,147,195)\"], [0.9, \"rgb(33,102,172)\"], [1.0, \"rgb(5,48,97)\"]], \"sequential\": [[0.0, \"#440154\"], [0.1111111111111111, \"#482878\"], [0.2222222222222222, \"#3e4989\"], [0.3333333333333333, \"#31688e\"], [0.4444444444444444, \"#26828e\"], [0.5555555555555556, \"#1f9e89\"], [0.6666666666666666, \"#35b779\"], [0.7777777777777778, \"#6ece58\"], [0.8888888888888888, \"#b5de2b\"], [1.0, \"#fde725\"]], \"sequentialminus\": [[0.0, \"#440154\"], [0.1111111111111111, \"#482878\"], [0.2222222222222222, \"#3e4989\"], [0.3333333333333333, \"#31688e\"], [0.4444444444444444, \"#26828e\"], [0.5555555555555556, \"#1f9e89\"], [0.6666666666666666, \"#35b779\"], [0.7777777777777778, \"#6ece58\"], [0.8888888888888888, \"#b5de2b\"], [1.0, \"#fde725\"]]}, \"colorway\": [\"#1F77B4\", \"#FF7F0E\", \"#2CA02C\", \"#D62728\", \"#9467BD\", \"#8C564B\", \"#E377C2\", \"#7F7F7F\", \"#BCBD22\", \"#17BECF\"], \"font\": {\"color\": \"rgb(36,36,36)\"}, \"geo\": {\"bgcolor\": \"white\", \"lakecolor\": \"white\", \"landcolor\": \"white\", \"showlakes\": true, \"showland\": true, \"subunitcolor\": \"white\"}, \"hoverlabel\": {\"align\": \"left\"}, \"hovermode\": \"closest\", \"mapbox\": {\"style\": \"light\"}, \"paper_bgcolor\": \"white\", \"plot_bgcolor\": \"white\", \"polar\": {\"angularaxis\": {\"gridcolor\": \"rgb(232,232,232)\", \"linecolor\": \"rgb(36,36,36)\", \"showgrid\": false, \"showline\": true, \"ticks\": \"outside\"}, \"bgcolor\": \"white\", \"radialaxis\": {\"gridcolor\": \"rgb(232,232,232)\", \"linecolor\": \"rgb(36,36,36)\", \"showgrid\": false, \"showline\": true, \"ticks\": \"outside\"}}, \"scene\": {\"xaxis\": {\"backgroundcolor\": \"white\", \"gridcolor\": \"rgb(232,232,232)\", \"gridwidth\": 2, \"linecolor\": \"rgb(36,36,36)\", \"showbackground\": true, \"showgrid\": false, \"showline\": true, \"ticks\": \"outside\", \"zeroline\": false, \"zerolinecolor\": \"rgb(36,36,36)\"}, \"yaxis\": {\"backgroundcolor\": \"white\", \"gridcolor\": \"rgb(232,232,232)\", \"gridwidth\": 2, \"linecolor\": \"rgb(36,36,36)\", \"showbackground\": true, \"showgrid\": false, \"showline\": true, \"ticks\": \"outside\", \"zeroline\": false, \"zerolinecolor\": \"rgb(36,36,36)\"}, \"zaxis\": {\"backgroundcolor\": \"white\", \"gridcolor\": \"rgb(232,232,232)\", \"gridwidth\": 2, \"linecolor\": \"rgb(36,36,36)\", \"showbackground\": true, \"showgrid\": false, \"showline\": true, \"ticks\": \"outside\", \"zeroline\": false, \"zerolinecolor\": \"rgb(36,36,36)\"}}, \"shapedefaults\": {\"fillcolor\": \"black\", \"line\": {\"width\": 0}, \"opacity\": 0.3}, \"ternary\": {\"aaxis\": {\"gridcolor\": \"rgb(232,232,232)\", \"linecolor\": \"rgb(36,36,36)\", \"showgrid\": false, \"showline\": true, \"ticks\": \"outside\"}, \"baxis\": {\"gridcolor\": \"rgb(232,232,232)\", \"linecolor\": \"rgb(36,36,36)\", \"showgrid\": false, \"showline\": true, \"ticks\": \"outside\"}, \"bgcolor\": \"white\", \"caxis\": {\"gridcolor\": \"rgb(232,232,232)\", \"linecolor\": \"rgb(36,36,36)\", \"showgrid\": false, \"showline\": true, \"ticks\": \"outside\"}}, \"title\": {\"x\": 0.05}, \"xaxis\": {\"automargin\": true, \"gridcolor\": \"rgb(232,232,232)\", \"linecolor\": \"rgb(36,36,36)\", \"showgrid\": false, \"showline\": true, \"ticks\": \"outside\", \"title\": {\"standoff\": 15}, \"zeroline\": false, \"zerolinecolor\": \"rgb(36,36,36)\"}, \"yaxis\": {\"automargin\": true, \"gridcolor\": \"rgb(232,232,232)\", \"linecolor\": \"rgb(36,36,36)\", \"showgrid\": false, \"showline\": true, \"ticks\": \"outside\", \"title\": {\"standoff\": 15}, \"zeroline\": false, \"zerolinecolor\": \"rgb(36,36,36)\"}}}, \"width\": 1000, \"xaxis\": {\"anchor\": \"y\", \"domain\": [0.0, 1.0], \"title\": {\"text\": \"Projection\"}}, \"yaxis\": {\"anchor\": \"x\", \"domain\": [0.0, 1.0], \"showline\": false, \"title\": {\"text\": \"\"}, \"type\": \"category\"}},\n",
       "                        {\"responsive\": true}\n",
       "                    ).then(function(){\n",
       "                            \n",
       "var gd = document.getElementById('6f920cd8-4f0d-4ef8-a9d9-79760055ccd2');\n",
       "var x = new MutationObserver(function (mutations, observer) {{\n",
       "        var display = window.getComputedStyle(gd).display;\n",
       "        if (!display || display === 'none') {{\n",
       "            console.log([gd, 'removed!']);\n",
       "            Plotly.purge(gd);\n",
       "            observer.disconnect();\n",
       "        }}\n",
       "}});\n",
       "\n",
       "// Listen for the removal of the full notebook cells\n",
       "var notebookContainer = gd.closest('#notebook-container');\n",
       "if (notebookContainer) {{\n",
       "    x.observe(notebookContainer, {childList: true});\n",
       "}}\n",
       "\n",
       "// Listen for the clearing of the current output cell\n",
       "var outputEl = gd.closest('.output');\n",
       "if (outputEl) {{\n",
       "    x.observe(outputEl, {childList: true});\n",
       "}}\n",
       "\n",
       "                        })\n",
       "                };\n",
       "                });\n",
       "            </script>\n",
       "        </div>"
      ]
     },
     "metadata": {},
     "output_type": "display_data"
    }
   ],
   "source": [
    "counts_df.rename({\"alignment\": \"Alignment\"},axis=1,inplace=True)\n",
    "fig = px.scatter(counts_df,\n",
    "                 x=\"projection\",\n",
    "                 color=\"Alignment\",\n",
    "                 size=\"size\",\n",
    "                 hover_data=[\"subreddit\",\"count\",\"label\"],\n",
    "                 y=\"dim\",\n",
    "                 labels=dict(dim=\"\",projection=\"Projection\"))\n",
    "x = abs(max(counts_df[\"projection\"].max(),counts_df[\"projection\"].min().min(),key=abs))*1.2\n",
    "annotations = []\n",
    "\n",
    "for dim_info in dim_dict.values():\n",
    "    print(dim_info.name)\n",
    "    annotations.append(dict(\n",
    "            x=x,\n",
    "            y=dim_info.name,\n",
    "            xref=\"x\",\n",
    "            yref=\"y\",\n",
    "            text=\"<b>{}</b>\".format(dim_info.tags[0]),\n",
    "            showarrow=False,\n",
    "            font=dict(size=16),\n",
    "            ax=-40,\n",
    "            ay=-30\n",
    "        ))    \n",
    "    annotations.append(dict(\n",
    "            x=-x,\n",
    "            y=dim_info.name,\n",
    "            xref=\"x\",\n",
    "            yref=\"y\",\n",
    "            text=f\"<b>{dim_info.tags[1]}</b>\",\n",
    "            showarrow=False,\n",
    "            font=dict(size=16),\n",
    "            ax=-40,\n",
    "            ay=-50\n",
    "        ))\n",
    "args = {\n",
    "    \"font\":{\"size\": 23},\n",
    "    \"height\": 700,\n",
    "    \"width\": 1000,    \n",
    "    \"template\":\"simple_white\",\n",
    "    \"yaxis_type\": 'category',\n",
    "    \"yaxis\":{\"showline\": False},\n",
    "    \"annotations\":annotations\n",
    "}\n",
    "    \n",
    "fig.update_layout(**args)\n",
    "with open(\"visualizations/political_dimensions/dimension_validation.pdf\", \"wb\") as f:\n",
    "    f.write(scope.transform(fig, format=\"pdf\"))\n",
    "fig.write_html(\"visualizations/political_dimensions/dimension_validation.html\")\n",
    "fig.show()\n"
   ]
  },
  {
   "cell_type": "code",
   "execution_count": 57,
   "metadata": {},
   "outputs": [
    {
     "name": "stdout",
     "output_type": "stream",
     "text": [
      "\\begin{table}\n",
      "\\centering\n",
      "\\caption{Dimension Validation Against Subreddits with Representative Words.}\n",
      "\\label{table:dimension_validation}\n",
      "\\begin{tabular}{lrrr}\n",
      "\\toprule\n",
      "alignment & Aligned &     NA & Opposing \\\\\n",
      "dim           &         &        &          \\\\\n",
      "\\midrule\n",
      "Age           &   0.255 &  0.029 &   -0.211 \\\\\n",
      "Birth Control &   0.380 &  0.068 &   -0.150 \\\\\n",
      "Gender        &   0.124 & -0.151 &   -0.305 \\\\\n",
      "Gun Control   &   0.125 & -0.098 &   -0.485 \\\\\n",
      "Ideology      &   0.295 &  0.015 &   -0.325 \\\\\n",
      "Religiosity   &   0.199 &  0.064 &   -0.186 \\\\\n",
      "Trade         &   0.058 & -0.189 &   -0.200 \\\\\n",
      "War           &   0.380 &  0.003 &   -0.391 \\\\\n",
      "Mean          &   0.227 & -0.032 &   -0.282 \\\\\n",
      "\\bottomrule\n",
      "\\end{tabular}\n",
      "\\end{table}\n",
      "\n"
     ]
    }
   ],
   "source": [
    "# print(counts_df.groupby([\"dim\",\"label\"])[[\"dim\",\"label\",\"projection\"]].mean()#.to_latex())\n",
    "summary = counts_df.groupby([\"dim\",\"alignment\"]).mean().reset_index().pivot(index=\"dim\",\n",
    "                                                                  columns=\"Alignment\", \n",
    "                                                                  values=\"projection\")\n",
    "summary.loc[\"Mean\"] = summary.mean()\n",
    "\n",
    "format_x = lambda x : f\"{x:.3f}\"\n",
    "print(summary.to_latex(caption=\"Dimension Validation Against Subreddits with Representative Words.\",\n",
    "                 label=\"table:dimension_validation\",\n",
    "                formatters=[format_x,format_x,format_x]\n",
    "                ))\n"
   ]
  },
  {
   "cell_type": "code",
   "execution_count": null,
   "metadata": {},
   "outputs": [],
   "source": []
  }
 ],
 "metadata": {
  "kernelspec": {
   "display_name": "Python 3",
   "language": "python",
   "name": "python3"
  },
  "language_info": {
   "codemirror_mode": {
    "name": "ipython",
    "version": 3
   },
   "file_extension": ".py",
   "mimetype": "text/x-python",
   "name": "python",
   "nbconvert_exporter": "python",
   "pygments_lexer": "ipython3",
   "version": "3.7.7"
  }
 },
 "nbformat": 4,
 "nbformat_minor": 4
}
