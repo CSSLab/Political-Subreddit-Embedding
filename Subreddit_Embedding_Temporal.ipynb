{
 "cells": [
  {
   "cell_type": "code",
   "execution_count": 1,
   "metadata": {},
   "outputs": [],
   "source": [
    "import findspark\n",
    "findspark.init(\"/h/224/cameron/spark-3.0.0-preview2-bin-hadoop2.7\")\n",
    "from pyspark.sql import SparkSession\n",
    "from pyspark.sql.functions import *\n",
    "from pyspark.sql.functions import date_sub\n",
    "from glob import glob\n",
    "from datetime import datetime\n",
    "import numpy as np\n",
    "import pandas as pd\n",
    "import tempfile"
   ]
  },
  {
   "cell_type": "code",
   "execution_count": 2,
   "metadata": {},
   "outputs": [],
   "source": [
    "spark = SparkSession.builder.getOrCreate()\n",
    "spark.sparkContext.getConf().getAll()\n",
    "TIME_FRAME = \"monthly\"\n",
    "window = {\n",
    "    \"weekly\": 7,\n",
    "    \"biweekly\": 14,\n",
    "    \"monthly\": None,\n",
    "}"
   ]
  },
  {
   "cell_type": "code",
   "execution_count": 9,
   "metadata": {
    "scrolled": true
   },
   "outputs": [
    {
     "name": "stdout",
     "output_type": "stream",
     "text": [
      "root\n",
      " |-- author: string (nullable = false)\n",
      " |-- subreddit: string (nullable = false)\n",
      " |-- created_utc: integer (nullable = true)\n",
      "\n"
     ]
    }
   ],
   "source": [
    "# Load the Parquet data\n",
    "comments = spark.read.load(\"/comments_2019.parquet\").fillna(\"\")\n",
    "subreddits = spark.read.load(\"dataframes/subreddits.parquet\")\n",
    "comments = comments.join(subreddits, ['subreddit'], 'leftsemi')\n",
    "cols = ['author','subreddit','created_utc']\n",
    "comments = comments.select(*cols)\n",
    "comments.printSchema()"
   ]
  },
  {
   "cell_type": "code",
   "execution_count": 10,
   "metadata": {},
   "outputs": [
    {
     "name": "stdout",
     "output_type": "stream",
     "text": [
      "+----------------+--------------------+\n",
      "|          author|           subreddit|\n",
      "+----------------+--------------------+\n",
      "|     jncummins86|(stilltrying,1/3/...|\n",
      "|     andrewmyles|(NintendoSwitch,1...|\n",
      "|           -QBM-|(LofiHipHop,1/3/2...|\n",
      "|    BlazeGiraffe|  (cocaine,1/3/2019)|\n",
      "|         SeeDeez|   (nyjets,1/3/2019)|\n",
      "|   Serious_Sam_2|(RocketLeagueExch...|\n",
      "|       [deleted]|(moist_memes,1/3/...|\n",
      "|       [deleted]|(worldnews,1/3/2019)|\n",
      "|IrishEyesRsmilin|(StevenAveryIsGui...|\n",
      "|  RanietsSharvas|(AnthemTheGame,1/...|\n",
      "|          aeolid|(Sourdough,1/3/2019)|\n",
      "|        jobn2021|(WaltDisneyWorld,...|\n",
      "|  KillUrselfAcne|(8BallPool,1/3/2019)|\n",
      "|       Bankertov|(StreetFighter,1/...|\n",
      "|       HiImDavid|(guineapigs,1/3/2...|\n",
      "|        Nole2424|(apexlegends,1/3/...|\n",
      "|      1000Dragon|(Maplestory,1/3/2...|\n",
      "|     mrfuckhead1|(synthesizers,1/3...|\n",
      "|        phcullen|(Charlotte,1/3/2019)|\n",
      "|   thelucidvegan|   (movies,1/3/2019)|\n",
      "+----------------+--------------------+\n",
      "only showing top 20 rows\n",
      "\n"
     ]
    }
   ],
   "source": [
    "# Add date column\n",
    "# Create a function that returns the desired UDF from a timestamp \n",
    "to_udf = udf(lambda ts: datetime.fromtimestamp(ts).strftime(\"%Y-%m-%d %H:00:00\"))\n",
    "\n",
    "comments = comments.withColumn(\"timestamp\", to_udf(comments[\"created_utc\"]))\n",
    "if TIME_FRAME in [\"weekly\",\"biweekly\"]:\n",
    "    # Add column that aggregates by week \n",
    "    comments = comments.withColumn(\"week\",date_sub(next_day(col(\"timestamp\"),\"sunday\"),window[TIME_FRAME]))\n",
    "    comments = comments.withColumn('subreddit', concat(lit('('),col('subreddit'),lit(','),col('week'),lit(')')))\n",
    "    comments = comments.drop(*[\"created_utc\",\"timestamp\",\"week\"])\n",
    "else:\n",
    "    comments = comments.withColumn('month', date_format(col('timestamp'), '1/M/yyyy'))\n",
    "    comments = comments.withColumn('subreddit', concat(lit('('),col('subreddit'),lit(','),col('month'),lit(')')))\n",
    "    comments = comments.drop(*[\"created_utc\",\"timestamp\",\"month\"])\n",
    "\n",
    "comments.show()"
   ]
  },
  {
   "cell_type": "markdown",
   "metadata": {},
   "source": [
    "## Word2Vecf Files\n",
    "[Word2vecf](https://github.com/BIU-NLP/word2vecf/blob/master/README.md) requires three inputs\n",
    "* training_data: text file of word-context pairs (space delimited)\n",
    "* word_vocabulary: file mapping subreddits (strings) to their counts\n",
    "* count_vocabulary: file mapping users (contexts -> subreddit commenters) to their counts"
   ]
  },
  {
   "cell_type": "markdown",
   "metadata": {},
   "source": [
    "### Training Data\n",
    "\n",
    "We want to avoid having to load the raw data as there are 1 billion+ rows. Working with aggregates from the start makes things much easier. \n",
    "\n",
    "*Since this is the temporal embedding we've already added the week into the subreddit name. Each subreddit/week combo is considered a new word with possible different contexts*"
   ]
  },
  {
   "cell_type": "code",
   "execution_count": 11,
   "metadata": {
    "scrolled": true
   },
   "outputs": [
    {
     "name": "stdout",
     "output_type": "stream",
     "text": [
      "+--------------------+-------------------+-----+\n",
      "|           subreddit|             author|count|\n",
      "+--------------------+-------------------+-----+\n",
      "|   (hockey,1/3/2019)|        Intylerable|   12|\n",
      "|(CanadaPublicServ...|        AntonBanton|    5|\n",
      "|(entitledparents,...|        viscool8332|  118|\n",
      "|(todayilearned,1/...|             hilti2|    4|\n",
      "|      (sex,1/3/2019)|         realistnic|    1|\n",
      "| (politics,1/3/2019)|       smikelsmikel|   93|\n",
      "|(elderscrollsonli...|   the_scarlet_ibis|   12|\n",
      "|(h3h3productions,...|              2dros|    1|\n",
      "|(AskReddit,1/3/2019)|     Levicorpyutani|    9|\n",
      "|(solotravel,1/3/2...|            EmmalNz|   93|\n",
      "|   (GoNets,1/3/2019)|         BlaackkOuT|  297|\n",
      "| (startrek,1/3/2019)|          rebbsitor|   13|\n",
      "|(legaladvice,1/3/...|          [deleted]|20628|\n",
      "|(microgrowery,1/3...|Ihavenobusinesshere|   12|\n",
      "|(StarWarsLeaks,1/...|      kingpenguinJG|   57|\n",
      "|(traaaaaaannnnnnn...|             Rota_u|   30|\n",
      "|(unpopularopinion...| YodasRedditAccount|  421|\n",
      "|(marvelstudios,1/...|             IsIt77|   87|\n",
      "|(AskReddit,1/3/2019)|          zeppeIans|   21|\n",
      "|(progmetal,1/3/2019)|          odichthys|   11|\n",
      "+--------------------+-------------------+-----+\n",
      "only showing top 20 rows\n",
      "\n"
     ]
    }
   ],
   "source": [
    "training_data = comments.groupBy([\"subreddit\",\"author\"]).count().cache()\n",
    "training_data.show()"
   ]
  },
  {
   "cell_type": "code",
   "execution_count": 12,
   "metadata": {},
   "outputs": [
    {
     "data": {
      "text/plain": [
       "319777858"
      ]
     },
     "execution_count": 12,
     "metadata": {},
     "output_type": "execute_result"
    }
   ],
   "source": [
    "training_data.count()"
   ]
  },
  {
   "cell_type": "markdown",
   "metadata": {},
   "source": [
    "### Word Vocabulary"
   ]
  },
  {
   "cell_type": "code",
   "execution_count": 13,
   "metadata": {},
   "outputs": [
    {
     "name": "stdout",
     "output_type": "stream",
     "text": [
      "+--------------------+-------+\n",
      "|           subreddit|  count|\n",
      "+--------------------+-------+\n",
      "|(Allergies,1/3/2019)|   2138|\n",
      "|(FortNiteBR,1/3/2...| 652991|\n",
      "|(BuyItForLife,1/3...|  11572|\n",
      "|   (iphone,1/3/2019)|  53763|\n",
      "|(dankmemes,1/3/2019)|1303112|\n",
      "|   (Tgirls,1/3/2019)|   3693|\n",
      "|(DissidiaFFOO,1/3...|  27247|\n",
      "|     (cats,1/3/2019)|  94074|\n",
      "|   (AFROTC,1/3/2019)|   1423|\n",
      "|  (gaybros,1/3/2019)|  28645|\n",
      "|    (Jokes,1/3/2019)| 114812|\n",
      "|   (occult,1/3/2019)|  15956|\n",
      "|   (mexico,1/3/2019)|  52126|\n",
      "|     (bdsm,1/3/2019)|   5622|\n",
      "|(DeepIntoYouTube,...|   7981|\n",
      "|(NFL_Draft,1/3/2019)|  25266|\n",
      "|(wildhearthstone,...|   5615|\n",
      "|(Splatoon_2,1/3/2...|   3915|\n",
      "|(TaylorSwift,1/3/...|  14943|\n",
      "|     (army,1/3/2019)|  52576|\n",
      "+--------------------+-------+\n",
      "only showing top 20 rows\n",
      "\n"
     ]
    }
   ],
   "source": [
    "from pyspark.sql.functions import sum as _sum\n",
    "word_vocabulary = training_data.groupBy(\"subreddit\").agg(_sum('count').alias('count')).cache()\n",
    "word_vocabulary.show()"
   ]
  },
  {
   "cell_type": "code",
   "execution_count": 14,
   "metadata": {},
   "outputs": [
    {
     "data": {
      "text/plain": [
       "120825"
      ]
     },
     "execution_count": 14,
     "metadata": {},
     "output_type": "execute_result"
    }
   ],
   "source": [
    "word_vocabulary.count()"
   ]
  },
  {
   "cell_type": "markdown",
   "metadata": {},
   "source": [
    "### Context Vocabulary"
   ]
  },
  {
   "cell_type": "code",
   "execution_count": 15,
   "metadata": {},
   "outputs": [
    {
     "name": "stdout",
     "output_type": "stream",
     "text": [
      "+----------------+-----+\n",
      "|          author|count|\n",
      "+----------------+-----+\n",
      "|the_scarlet_ibis|   82|\n",
      "|       zeppeIans| 2118|\n",
      "|      SirDeVinci|  417|\n",
      "|      _Erindera_| 3913|\n",
      "| thundershocker1|  269|\n",
      "|          Sqiddd| 7489|\n",
      "|    weedwhacking| 2026|\n",
      "|    TeaTreeTeach|  613|\n",
      "|       oFaceless|  326|\n",
      "|  TheFirstUserID|  344|\n",
      "|         jingz13|   53|\n",
      "|     JustinBilyj|  400|\n",
      "|       deucemc26| 1996|\n",
      "|     tanngrisnit| 7821|\n",
      "|         hdv2017|  171|\n",
      "|    Mustache_Guy| 1841|\n",
      "|      uglygaming|  426|\n",
      "|        Embossis|   28|\n",
      "|     kevin123245|   66|\n",
      "|     SabrinaHiss|  110|\n",
      "+----------------+-----+\n",
      "only showing top 20 rows\n",
      "\n"
     ]
    }
   ],
   "source": [
    "context_vocabulary = training_data.groupBy(\"author\").agg(_sum('count').alias('count')).cache()\n",
    "context_vocabulary.show()"
   ]
  },
  {
   "cell_type": "code",
   "execution_count": 16,
   "metadata": {
    "scrolled": true
   },
   "outputs": [
    {
     "data": {
      "text/plain": [
       "19338041"
      ]
     },
     "execution_count": 16,
     "metadata": {},
     "output_type": "execute_result"
    }
   ],
   "source": [
    "context_vocabulary.count()"
   ]
  },
  {
   "cell_type": "markdown",
   "metadata": {},
   "source": [
    "## Write Vocabularies and Training Data to File"
   ]
  },
  {
   "cell_type": "code",
   "execution_count": 3,
   "metadata": {},
   "outputs": [
    {
     "data": {
      "text/plain": [
       "CompletedProcess(args='mkdir -p /h/224/cameron/Political-Subreddit-Embedding/temp/temporal/', returncode=0)"
      ]
     },
     "execution_count": 3,
     "metadata": {},
     "output_type": "execute_result"
    }
   ],
   "source": [
    "# Create a temp context for the word and context vocabulary files (which get passed to the word2vecf script)\n",
    "import subprocess\n",
    "import sys\n",
    "import os\n",
    "temp_dir = \"/h/224/cameron/Political-Subreddit-Embedding/temp/temporal/\"\n",
    "subprocess.run(\"mkdir -p {}\".format(temp_dir), shell=True)"
   ]
  },
  {
   "cell_type": "code",
   "execution_count": 4,
   "metadata": {},
   "outputs": [],
   "source": [
    "# Create temp files\n",
    "file_data = os.path.join(temp_dir, '{}_data'.format(TIME_FRAME))\n",
    "file_wv = os.path.join(temp_dir, '{}_wv'.format(TIME_FRAME))\n",
    "file_cv = os.path.join(temp_dir, '{}_cv'.format(TIME_FRAME))"
   ]
  },
  {
   "cell_type": "code",
   "execution_count": null,
   "metadata": {},
   "outputs": [
    {
     "name": "stdout",
     "output_type": "stream",
     "text": [
      "Writing training data to /h/224/cameron/Political-Subreddit-Embedding/temp/temporal/monthly_data...\n"
     ]
    }
   ],
   "source": [
    "print(\"Writing training data to {}...\".format(file_data))\n",
    "training_data.write.csv(file_data,header=False,sep=' ')"
   ]
  },
  {
   "cell_type": "code",
   "execution_count": null,
   "metadata": {},
   "outputs": [],
   "source": [
    "print(\"Writing word vocab data to {}...\".format(file_wv))\n",
    "word_vocabulary.write.csv(file_wv,header=False,sep=' ')"
   ]
  },
  {
   "cell_type": "code",
   "execution_count": null,
   "metadata": {},
   "outputs": [],
   "source": [
    "print(\"Writing context vocab data to {}...\".format(file_cv))\n",
    "context_vocabulary.write.csv(file_cv,header=False,sep=' ')"
   ]
  },
  {
   "cell_type": "code",
   "execution_count": 7,
   "metadata": {},
   "outputs": [],
   "source": [
    "from utils import coalese_csvs\n",
    "file_data = coalese_csvs(file_data,\"{}.txt\".format(file_data))\n",
    "file_wv = coalese_csvs(file_wv,\"{}.txt\".format(file_wv))\n",
    "file_cv = coalese_csvs(file_cv,\"{}.txt\".format(file_cv))"
   ]
  },
  {
   "cell_type": "code",
   "execution_count": 8,
   "metadata": {},
   "outputs": [
    {
     "data": {
      "text/plain": [
       "'/h/224/cameron/Political-Subreddit-Embedding/temp/temporal/monthly_data.txt'"
      ]
     },
     "execution_count": 8,
     "metadata": {},
     "output_type": "execute_result"
    }
   ],
   "source": [
    "file_data"
   ]
  },
  {
   "cell_type": "markdown",
   "metadata": {},
   "source": [
    "## Train Embedding"
   ]
  },
  {
   "cell_type": "code",
   "execution_count": 9,
   "metadata": {},
   "outputs": [
    {
     "data": {
      "text/plain": [
       "'./trained_embeddings/temporal/monthly/monthly_vecs_0.0028_15.txt'"
      ]
     },
     "execution_count": 9,
     "metadata": {},
     "output_type": "execute_result"
    }
   ],
   "source": [
    "# Word2vec parameters, using negative sampling\n",
    "# -alpha 0.18 -negative 35 -sample 0.0043 -size 150\n",
    "from utils import generate_embedding, load_embedding\n",
    "embedding_args = {\n",
    "                    \"param1\": \"sample\", \n",
    "                    \"p1\": 0.0028, \n",
    "                    \"param2\": \"negative\", \n",
    "                    \"p2\": 15, \n",
    "                    \"file_data\": file_data , \n",
    "                    \"file_wv\": file_wv, \n",
    "                    \"file_cv\": file_cv,\n",
    "                    \"size\": 150,\n",
    "                    \"alpha\": 0.18\n",
    "                 }\n",
    "embedding_fp = generate_embedding(time_frame=TIME_FRAME,**embedding_args)\n",
    "embedding_fp"
   ]
  },
  {
   "cell_type": "code",
   "execution_count": 10,
   "metadata": {},
   "outputs": [
    {
     "data": {
      "text/plain": [
       "0                (solotravel,1/3/2019)\n",
       "1                 (AskReddit,1/7/2019)\n",
       "2                 (AskReddit,1/8/2019)\n",
       "3                (AskReddit,1/10/2019)\n",
       "4                 (AskReddit,1/6/2019)\n",
       "                      ...             \n",
       "120820          (ProjectJojo,1/1/2019)\n",
       "120821            (bethlehem,1/8/2019)\n",
       "120822    (WellesleyCollege,1/12/2019)\n",
       "120823        (sanbernardino,1/9/2019)\n",
       "120824            (newlondon,1/3/2019)\n",
       "Name: subreddit, Length: 120825, dtype: object"
      ]
     },
     "execution_count": 10,
     "metadata": {},
     "output_type": "execute_result"
    }
   ],
   "source": [
    "subreddits, vectors = load_embedding(embedding_fp)\n",
    "subreddits"
   ]
  },
  {
   "cell_type": "markdown",
   "metadata": {},
   "source": [
    "### Parse Out Subreddit from Week Again\n",
    "\n",
    "Since we've already trained all of the seperate emebeddings there isn't a need for them to be in the same column anymore. This will make animating the emebedding over time easier."
   ]
  },
  {
   "cell_type": "code",
   "execution_count": 13,
   "metadata": {},
   "outputs": [
    {
     "data": {
      "text/html": [
       "<div>\n",
       "<style scoped>\n",
       "    .dataframe tbody tr th:only-of-type {\n",
       "        vertical-align: middle;\n",
       "    }\n",
       "\n",
       "    .dataframe tbody tr th {\n",
       "        vertical-align: top;\n",
       "    }\n",
       "\n",
       "    .dataframe thead th {\n",
       "        text-align: right;\n",
       "    }\n",
       "</style>\n",
       "<table border=\"1\" class=\"dataframe\">\n",
       "  <thead>\n",
       "    <tr style=\"text-align: right;\">\n",
       "      <th></th>\n",
       "      <th>subreddit</th>\n",
       "      <th>week</th>\n",
       "    </tr>\n",
       "  </thead>\n",
       "  <tbody>\n",
       "    <tr>\n",
       "      <th>0</th>\n",
       "      <td>solotravel</td>\n",
       "      <td>2019-03-01</td>\n",
       "    </tr>\n",
       "    <tr>\n",
       "      <th>1</th>\n",
       "      <td>AskReddit</td>\n",
       "      <td>2019-07-01</td>\n",
       "    </tr>\n",
       "    <tr>\n",
       "      <th>2</th>\n",
       "      <td>AskReddit</td>\n",
       "      <td>2019-08-01</td>\n",
       "    </tr>\n",
       "    <tr>\n",
       "      <th>3</th>\n",
       "      <td>AskReddit</td>\n",
       "      <td>2019-10-01</td>\n",
       "    </tr>\n",
       "    <tr>\n",
       "      <th>4</th>\n",
       "      <td>AskReddit</td>\n",
       "      <td>2019-06-01</td>\n",
       "    </tr>\n",
       "    <tr>\n",
       "      <th>...</th>\n",
       "      <td>...</td>\n",
       "      <td>...</td>\n",
       "    </tr>\n",
       "    <tr>\n",
       "      <th>120820</th>\n",
       "      <td>ProjectJojo</td>\n",
       "      <td>2019-01-01</td>\n",
       "    </tr>\n",
       "    <tr>\n",
       "      <th>120821</th>\n",
       "      <td>bethlehem</td>\n",
       "      <td>2019-08-01</td>\n",
       "    </tr>\n",
       "    <tr>\n",
       "      <th>120822</th>\n",
       "      <td>WellesleyCollege</td>\n",
       "      <td>2019-12-01</td>\n",
       "    </tr>\n",
       "    <tr>\n",
       "      <th>120823</th>\n",
       "      <td>sanbernardino</td>\n",
       "      <td>2019-09-01</td>\n",
       "    </tr>\n",
       "    <tr>\n",
       "      <th>120824</th>\n",
       "      <td>newlondon</td>\n",
       "      <td>2019-03-01</td>\n",
       "    </tr>\n",
       "  </tbody>\n",
       "</table>\n",
       "<p>120825 rows × 2 columns</p>\n",
       "</div>"
      ],
      "text/plain": [
       "               subreddit       week\n",
       "0             solotravel 2019-03-01\n",
       "1              AskReddit 2019-07-01\n",
       "2              AskReddit 2019-08-01\n",
       "3              AskReddit 2019-10-01\n",
       "4              AskReddit 2019-06-01\n",
       "...                  ...        ...\n",
       "120820       ProjectJojo 2019-01-01\n",
       "120821         bethlehem 2019-08-01\n",
       "120822  WellesleyCollege 2019-12-01\n",
       "120823     sanbernardino 2019-09-01\n",
       "120824         newlondon 2019-03-01\n",
       "\n",
       "[120825 rows x 2 columns]"
      ]
     },
     "execution_count": 13,
     "metadata": {},
     "output_type": "execute_result"
    }
   ],
   "source": [
    "from utils import parse_tup\n",
    "\n",
    "sub_df = pd.DataFrame(subreddits.apply(lambda x : parse_tup(x,date_str=\"%d/%m/%Y\")).tolist())\n",
    "sub_df.columns = [\"subreddit\",\"week\"]\n",
    "sub_df"
   ]
  },
  {
   "cell_type": "markdown",
   "metadata": {},
   "source": [
    "## Visualize/Animate\n",
    "1. Reduce to 3/2 dimensions\n",
    "2. Add subreddit/week columns to factored dataframe\n",
    "3. Visualize"
   ]
  },
  {
   "cell_type": "code",
   "execution_count": 35,
   "metadata": {},
   "outputs": [
    {
     "ename": "ImportError",
     "evalue": "cannot import name 'candidate_subs' from 'utils' (/h/224/cameron/Political-Subreddit-Embedding/utils.py)",
     "output_type": "error",
     "traceback": [
      "\u001b[0;31m---------------------------------------------------------------------------\u001b[0m",
      "\u001b[0;31mImportError\u001b[0m                               Traceback (most recent call last)",
      "\u001b[0;32m<ipython-input-35-259dd20f976f>\u001b[0m in \u001b[0;36m<module>\u001b[0;34m\u001b[0m\n\u001b[1;32m      1\u001b[0m \u001b[0;32mfrom\u001b[0m \u001b[0msklearn\u001b[0m\u001b[0;34m.\u001b[0m\u001b[0mdecomposition\u001b[0m \u001b[0;32mimport\u001b[0m \u001b[0mPCA\u001b[0m\u001b[0;34m\u001b[0m\u001b[0;34m\u001b[0m\u001b[0m\n\u001b[0;32m----> 2\u001b[0;31m \u001b[0;32mfrom\u001b[0m \u001b[0mutils\u001b[0m \u001b[0;32mimport\u001b[0m \u001b[0mcandidate_subs\u001b[0m\u001b[0;34m\u001b[0m\u001b[0;34m\u001b[0m\u001b[0m\n\u001b[0m\u001b[1;32m      3\u001b[0m \u001b[0;32mimport\u001b[0m \u001b[0mplotly\u001b[0m\u001b[0;34m.\u001b[0m\u001b[0mexpress\u001b[0m \u001b[0;32mas\u001b[0m \u001b[0mpx\u001b[0m\u001b[0;34m\u001b[0m\u001b[0;34m\u001b[0m\u001b[0m\n\u001b[1;32m      4\u001b[0m \u001b[0msubprocess\u001b[0m\u001b[0;34m.\u001b[0m\u001b[0mrun\u001b[0m\u001b[0;34m(\u001b[0m\u001b[0;34m\"mkdir -p visualizations/temporal\"\u001b[0m\u001b[0;34m,\u001b[0m \u001b[0mshell\u001b[0m\u001b[0;34m=\u001b[0m\u001b[0;32mTrue\u001b[0m\u001b[0;34m)\u001b[0m\u001b[0;34m\u001b[0m\u001b[0;34m\u001b[0m\u001b[0m\n\u001b[1;32m      5\u001b[0m left_subreddits = candidate_subs + [\"politics\",\"progressive\",\n",
      "\u001b[0;31mImportError\u001b[0m: cannot import name 'candidate_subs' from 'utils' (/h/224/cameron/Political-Subreddit-Embedding/utils.py)"
     ]
    }
   ],
   "source": [
    "from sklearn.decomposition import PCA\n",
    "from utils import candidate_subs\n",
    "import plotly.express as px\n",
    "subprocess.run(\"mkdir -p visualizations/temporal\", shell=True)\n",
    "left_subreddits = candidate_subs + [\"politics\",\"progressive\",\n",
    "                        \"demsocialist\",\"SocialDemocracy\",\"centerleftpolitics\",\n",
    "                        \"ConservativeDemocrat\",\"moderatepolitics\",\"ChapoTrapHouse\"]\n",
    "right_subreddits = [\"The_Donald\",\"Conservative\",\"ShitPoliticsSays\",\"progun\",\"Republican\",\"Capitalism\"]"
   ]
  },
  {
   "cell_type": "code",
   "execution_count": 15,
   "metadata": {},
   "outputs": [
    {
     "data": {
      "text/html": [
       "<div>\n",
       "<style scoped>\n",
       "    .dataframe tbody tr th:only-of-type {\n",
       "        vertical-align: middle;\n",
       "    }\n",
       "\n",
       "    .dataframe tbody tr th {\n",
       "        vertical-align: top;\n",
       "    }\n",
       "\n",
       "    .dataframe thead th {\n",
       "        text-align: right;\n",
       "    }\n",
       "</style>\n",
       "<table border=\"1\" class=\"dataframe\">\n",
       "  <thead>\n",
       "    <tr style=\"text-align: right;\">\n",
       "      <th></th>\n",
       "      <th>week</th>\n",
       "      <th>subreddit</th>\n",
       "      <th>0</th>\n",
       "      <th>1</th>\n",
       "      <th>partisan</th>\n",
       "    </tr>\n",
       "  </thead>\n",
       "  <tbody>\n",
       "    <tr>\n",
       "      <th>70696</th>\n",
       "      <td>2019-01-01</td>\n",
       "      <td>Capitalism</td>\n",
       "      <td>-0.045347</td>\n",
       "      <td>-0.198954</td>\n",
       "      <td>right</td>\n",
       "    </tr>\n",
       "    <tr>\n",
       "      <th>69095</th>\n",
       "      <td>2019-01-01</td>\n",
       "      <td>JoeBiden</td>\n",
       "      <td>-0.063959</td>\n",
       "      <td>-0.217008</td>\n",
       "      <td>left</td>\n",
       "    </tr>\n",
       "    <tr>\n",
       "      <th>69674</th>\n",
       "      <td>2019-01-01</td>\n",
       "      <td>Kamala</td>\n",
       "      <td>-0.239591</td>\n",
       "      <td>-0.018348</td>\n",
       "      <td>left</td>\n",
       "    </tr>\n",
       "    <tr>\n",
       "      <th>73090</th>\n",
       "      <td>2019-01-01</td>\n",
       "      <td>SocialDemocracy</td>\n",
       "      <td>-0.151031</td>\n",
       "      <td>-0.206572</td>\n",
       "      <td>left</td>\n",
       "    </tr>\n",
       "    <tr>\n",
       "      <th>73406</th>\n",
       "      <td>2019-01-01</td>\n",
       "      <td>BaemyKlobaechar</td>\n",
       "      <td>-0.235402</td>\n",
       "      <td>-0.235680</td>\n",
       "      <td>left</td>\n",
       "    </tr>\n",
       "    <tr>\n",
       "      <th>...</th>\n",
       "      <td>...</td>\n",
       "      <td>...</td>\n",
       "      <td>...</td>\n",
       "      <td>...</td>\n",
       "      <td>...</td>\n",
       "    </tr>\n",
       "    <tr>\n",
       "      <th>52727</th>\n",
       "      <td>2019-12-01</td>\n",
       "      <td>The_Donald</td>\n",
       "      <td>0.043151</td>\n",
       "      <td>0.014832</td>\n",
       "      <td>right</td>\n",
       "    </tr>\n",
       "    <tr>\n",
       "      <th>52707</th>\n",
       "      <td>2019-12-01</td>\n",
       "      <td>politics</td>\n",
       "      <td>-0.200496</td>\n",
       "      <td>-0.100149</td>\n",
       "      <td>left</td>\n",
       "    </tr>\n",
       "    <tr>\n",
       "      <th>52768</th>\n",
       "      <td>2019-12-01</td>\n",
       "      <td>ChapoTrapHouse</td>\n",
       "      <td>0.022151</td>\n",
       "      <td>-0.130531</td>\n",
       "      <td>left</td>\n",
       "    </tr>\n",
       "    <tr>\n",
       "      <th>53539</th>\n",
       "      <td>2019-12-01</td>\n",
       "      <td>progun</td>\n",
       "      <td>0.037724</td>\n",
       "      <td>-0.098643</td>\n",
       "      <td>right</td>\n",
       "    </tr>\n",
       "    <tr>\n",
       "      <th>56067</th>\n",
       "      <td>2019-12-01</td>\n",
       "      <td>Republican</td>\n",
       "      <td>-0.066723</td>\n",
       "      <td>-0.013362</td>\n",
       "      <td>right</td>\n",
       "    </tr>\n",
       "  </tbody>\n",
       "</table>\n",
       "<p>264 rows × 5 columns</p>\n",
       "</div>"
      ],
      "text/plain": [
       "            week        subreddit         0         1 partisan\n",
       "70696 2019-01-01       Capitalism -0.045347 -0.198954    right\n",
       "69095 2019-01-01         JoeBiden -0.063959 -0.217008     left\n",
       "69674 2019-01-01           Kamala -0.239591 -0.018348     left\n",
       "73090 2019-01-01  SocialDemocracy -0.151031 -0.206572     left\n",
       "73406 2019-01-01  BaemyKlobaechar -0.235402 -0.235680     left\n",
       "...          ...              ...       ...       ...      ...\n",
       "52727 2019-12-01       The_Donald  0.043151  0.014832    right\n",
       "52707 2019-12-01         politics -0.200496 -0.100149     left\n",
       "52768 2019-12-01   ChapoTrapHouse  0.022151 -0.130531     left\n",
       "53539 2019-12-01           progun  0.037724 -0.098643    right\n",
       "56067 2019-12-01       Republican -0.066723 -0.013362    right\n",
       "\n",
       "[264 rows x 5 columns]"
      ]
     },
     "execution_count": 15,
     "metadata": {},
     "output_type": "execute_result"
    }
   ],
   "source": [
    "# PCA Dim Reduction -> 2 dimensions\n",
    "pca =  PCA(n_components = 2)\n",
    "two_dim =  pd.DataFrame(pca.fit_transform(vectors))\n",
    "two_dim[[\"subreddit\",\"week\"]] = sub_df\n",
    "idx = pd.MultiIndex.from_product([two_dim['week'].unique(), two_dim['subreddit'].unique()],\n",
    "                                 names=['week', 'subreddit'])\n",
    "\n",
    "# In the case that there isn't a vector for a specific week/subreddit we bacfill the vector from the previous\n",
    "two_dim = two_dim.set_index(['week', 'subreddit']).reindex(idx).reset_index().sort_values('week')\n",
    "two_dim = two_dim[two_dim[\"subreddit\"].isin(left_subreddits) | two_dim[\"subreddit\"].isin(right_subreddits)]\n",
    "two_dim[\"partisan\"] = np.where(two_dim[\"subreddit\"].isin(left_subreddits), 'left', 'right')\n",
    "two_dim"
   ]
  },
  {
   "cell_type": "code",
   "execution_count": 31,
   "metadata": {
    "scrolled": false
   },
   "outputs": [
    {
     "data": {
      "application/vnd.plotly.v1+json": {
       "config": {
        "plotlyServerURL": "https://plot.ly"
       },
       "data": [
        {
         "hovertemplate": "<b>%{hovertext}</b><br><br>partisan=right<br>animation_frame=2019-01-01<br>0=%{x}<br>1=%{y}<br>subreddit=%{text}<extra></extra>",
         "hovertext": [
          "Capitalism",
          "ShitPoliticsSays",
          "Conservative",
          "The_Donald",
          "progun",
          "Republican"
         ],
         "ids": [
          "Capitalism",
          "ShitPoliticsSays",
          "Conservative",
          "The_Donald",
          "progun",
          "Republican"
         ],
         "legendgroup": "right",
         "marker": {
          "color": "red",
          "opacity": 0.7,
          "symbol": "circle"
         },
         "mode": "markers+text",
         "name": "right",
         "orientation": "v",
         "showlegend": true,
         "text": [
          "Capitalism",
          "ShitPoliticsSays",
          "Conservative",
          "The_Donald",
          "progun",
          "Republican"
         ],
         "type": "scatter",
         "x": [
          -0.04534718933942883,
          0.03640102969916637,
          -0.10933412213294083,
          0.011227504683583144,
          -0.03659079976499899,
          -0.15334419950386588
         ],
         "xaxis": "x",
         "y": [
          -0.1989538594674227,
          -0.13415037768006727,
          -0.10580438688507629,
          0.0035353302313221105,
          -0.04322880284059433,
          -0.10634914067245699
         ],
         "yaxis": "y"
        },
        {
         "hovertemplate": "<b>%{hovertext}</b><br><br>partisan=left<br>animation_frame=2019-01-01<br>0=%{x}<br>1=%{y}<br>subreddit=%{text}<extra></extra>",
         "hovertext": [
          "JoeBiden",
          "Kamala",
          "SocialDemocracy",
          "BaemyKlobaechar",
          "demsocialist",
          "BetoORourke",
          "ConservativeDemocrat",
          "progressive",
          "ElizabethWarren",
          "moderatepolitics",
          "SandersForPresident",
          "centerleftpolitics",
          "Pete_Buttigieg",
          "YangForPresidentHQ",
          "politics",
          "ChapoTrapHouse"
         ],
         "ids": [
          "JoeBiden",
          "Kamala",
          "SocialDemocracy",
          "BaemyKlobaechar",
          "demsocialist",
          "BetoORourke",
          "ConservativeDemocrat",
          "progressive",
          "ElizabethWarren",
          "moderatepolitics",
          "SandersForPresident",
          "centerleftpolitics",
          "Pete_Buttigieg",
          "YangForPresidentHQ",
          "politics",
          "ChapoTrapHouse"
         ],
         "legendgroup": "left",
         "marker": {
          "color": "blue",
          "opacity": 0.7,
          "symbol": "circle"
         },
         "mode": "markers+text",
         "name": "left",
         "orientation": "v",
         "showlegend": true,
         "text": [
          "JoeBiden",
          "Kamala",
          "SocialDemocracy",
          "BaemyKlobaechar",
          "demsocialist",
          "BetoORourke",
          "ConservativeDemocrat",
          "progressive",
          "ElizabethWarren",
          "moderatepolitics",
          "SandersForPresident",
          "centerleftpolitics",
          "Pete_Buttigieg",
          "YangForPresidentHQ",
          "politics",
          "ChapoTrapHouse"
         ],
         "type": "scatter",
         "x": [
          -0.06395850595914646,
          -0.23959063161880273,
          -0.15103107623726025,
          -0.23540179825047464,
          -0.29523250894806974,
          -0.04924015897112757,
          -0.21052565815258362,
          -0.1750324547385643,
          -0.3096745577161612,
          -0.15183765224463122,
          -0.14847539207693905,
          -0.05600991832453221,
          -0.24573401196485375,
          -0.22361587441997294,
          -0.23399611298589945,
          -0.0036151581226636924
         ],
         "xaxis": "x",
         "y": [
          -0.2170081816755779,
          -0.018347535540763623,
          -0.20657243935101036,
          -0.23567954281877374,
          -0.15919005152450053,
          -0.08614786720739294,
          -0.312718634800656,
          -0.06632604966876479,
          -0.09256359090475386,
          -0.11261352266318254,
          -0.08114972726748142,
          -0.11584200775986346,
          -0.2309113179699978,
          -0.061414986133404084,
          -0.08933817728851486,
          -0.10343579538221738
         ],
         "yaxis": "y"
        }
       ],
       "frames": [
        {
         "data": [
          {
           "hovertemplate": "<b>%{hovertext}</b><br><br>partisan=right<br>animation_frame=2019-01-01<br>0=%{x}<br>1=%{y}<br>subreddit=%{text}<extra></extra>",
           "hovertext": [
            "Capitalism",
            "ShitPoliticsSays",
            "Conservative",
            "The_Donald",
            "progun",
            "Republican"
           ],
           "ids": [
            "Capitalism",
            "ShitPoliticsSays",
            "Conservative",
            "The_Donald",
            "progun",
            "Republican"
           ],
           "legendgroup": "right",
           "marker": {
            "color": "red",
            "opacity": 0.7,
            "symbol": "circle"
           },
           "mode": "markers+text",
           "name": "right",
           "orientation": "v",
           "showlegend": true,
           "text": [
            "Capitalism",
            "ShitPoliticsSays",
            "Conservative",
            "The_Donald",
            "progun",
            "Republican"
           ],
           "type": "scatter",
           "x": [
            -0.04534718933942883,
            0.03640102969916637,
            -0.10933412213294083,
            0.011227504683583144,
            -0.03659079976499899,
            -0.15334419950386588
           ],
           "xaxis": "x",
           "y": [
            -0.1989538594674227,
            -0.13415037768006727,
            -0.10580438688507629,
            0.0035353302313221105,
            -0.04322880284059433,
            -0.10634914067245699
           ],
           "yaxis": "y"
          },
          {
           "hovertemplate": "<b>%{hovertext}</b><br><br>partisan=left<br>animation_frame=2019-01-01<br>0=%{x}<br>1=%{y}<br>subreddit=%{text}<extra></extra>",
           "hovertext": [
            "JoeBiden",
            "Kamala",
            "SocialDemocracy",
            "BaemyKlobaechar",
            "demsocialist",
            "BetoORourke",
            "ConservativeDemocrat",
            "progressive",
            "ElizabethWarren",
            "moderatepolitics",
            "SandersForPresident",
            "centerleftpolitics",
            "Pete_Buttigieg",
            "YangForPresidentHQ",
            "politics",
            "ChapoTrapHouse"
           ],
           "ids": [
            "JoeBiden",
            "Kamala",
            "SocialDemocracy",
            "BaemyKlobaechar",
            "demsocialist",
            "BetoORourke",
            "ConservativeDemocrat",
            "progressive",
            "ElizabethWarren",
            "moderatepolitics",
            "SandersForPresident",
            "centerleftpolitics",
            "Pete_Buttigieg",
            "YangForPresidentHQ",
            "politics",
            "ChapoTrapHouse"
           ],
           "legendgroup": "left",
           "marker": {
            "color": "blue",
            "opacity": 0.7,
            "symbol": "circle"
           },
           "mode": "markers+text",
           "name": "left",
           "orientation": "v",
           "showlegend": true,
           "text": [
            "JoeBiden",
            "Kamala",
            "SocialDemocracy",
            "BaemyKlobaechar",
            "demsocialist",
            "BetoORourke",
            "ConservativeDemocrat",
            "progressive",
            "ElizabethWarren",
            "moderatepolitics",
            "SandersForPresident",
            "centerleftpolitics",
            "Pete_Buttigieg",
            "YangForPresidentHQ",
            "politics",
            "ChapoTrapHouse"
           ],
           "type": "scatter",
           "x": [
            -0.06395850595914646,
            -0.23959063161880273,
            -0.15103107623726025,
            -0.23540179825047464,
            -0.29523250894806974,
            -0.04924015897112757,
            -0.21052565815258362,
            -0.1750324547385643,
            -0.3096745577161612,
            -0.15183765224463122,
            -0.14847539207693905,
            -0.05600991832453221,
            -0.24573401196485375,
            -0.22361587441997294,
            -0.23399611298589945,
            -0.0036151581226636924
           ],
           "xaxis": "x",
           "y": [
            -0.2170081816755779,
            -0.018347535540763623,
            -0.20657243935101036,
            -0.23567954281877374,
            -0.15919005152450053,
            -0.08614786720739294,
            -0.312718634800656,
            -0.06632604966876479,
            -0.09256359090475386,
            -0.11261352266318254,
            -0.08114972726748142,
            -0.11584200775986346,
            -0.2309113179699978,
            -0.061414986133404084,
            -0.08933817728851486,
            -0.10343579538221738
           ],
           "yaxis": "y"
          }
         ],
         "name": "2019-01-01"
        },
        {
         "data": [
          {
           "hovertemplate": "<b>%{hovertext}</b><br><br>partisan=right<br>animation_frame=2019-02-01<br>0=%{x}<br>1=%{y}<br>subreddit=%{text}<extra></extra>",
           "hovertext": [
            "Capitalism",
            "ShitPoliticsSays",
            "Conservative",
            "The_Donald",
            "progun",
            "Republican"
           ],
           "ids": [
            "Capitalism",
            "ShitPoliticsSays",
            "Conservative",
            "The_Donald",
            "progun",
            "Republican"
           ],
           "legendgroup": "right",
           "marker": {
            "color": "red",
            "opacity": 0.7,
            "symbol": "circle"
           },
           "mode": "markers+text",
           "name": "right",
           "orientation": "v",
           "showlegend": true,
           "text": [
            "Capitalism",
            "ShitPoliticsSays",
            "Conservative",
            "The_Donald",
            "progun",
            "Republican"
           ],
           "type": "scatter",
           "x": [
            -0.06112193776573242,
            0.02675264765330079,
            -0.09501146649712425,
            0.012513934788276173,
            -0.03830745682972309,
            -0.11173731486296648
           ],
           "xaxis": "x",
           "y": [
            -0.13765895570420938,
            -0.12454533149710645,
            -0.11437531484862089,
            -0.011613176689944368,
            -0.061810623599564546,
            -0.07824638876816196
           ],
           "yaxis": "y"
          },
          {
           "hovertemplate": "<b>%{hovertext}</b><br><br>partisan=left<br>animation_frame=2019-02-01<br>0=%{x}<br>1=%{y}<br>subreddit=%{text}<extra></extra>",
           "hovertext": [
            "JoeBiden",
            "Kamala",
            "SocialDemocracy",
            "BaemyKlobaechar",
            "demsocialist",
            "BetoORourke",
            "ConservativeDemocrat",
            "progressive",
            "ElizabethWarren",
            "moderatepolitics",
            "SandersForPresident",
            "centerleftpolitics",
            "Pete_Buttigieg",
            "YangForPresidentHQ",
            "politics",
            "ChapoTrapHouse"
           ],
           "ids": [
            "JoeBiden",
            "Kamala",
            "SocialDemocracy",
            "BaemyKlobaechar",
            "demsocialist",
            "BetoORourke",
            "ConservativeDemocrat",
            "progressive",
            "ElizabethWarren",
            "moderatepolitics",
            "SandersForPresident",
            "centerleftpolitics",
            "Pete_Buttigieg",
            "YangForPresidentHQ",
            "politics",
            "ChapoTrapHouse"
           ],
           "legendgroup": "left",
           "marker": {
            "color": "blue",
            "opacity": 0.7,
            "symbol": "circle"
           },
           "mode": "markers+text",
           "name": "left",
           "orientation": "v",
           "showlegend": true,
           "text": [
            "JoeBiden",
            "Kamala",
            "SocialDemocracy",
            "BaemyKlobaechar",
            "demsocialist",
            "BetoORourke",
            "ConservativeDemocrat",
            "progressive",
            "ElizabethWarren",
            "moderatepolitics",
            "SandersForPresident",
            "centerleftpolitics",
            "Pete_Buttigieg",
            "YangForPresidentHQ",
            "politics",
            "ChapoTrapHouse"
           ],
           "type": "scatter",
           "x": [
            -0.11809310269595918,
            -0.2167552497350453,
            -0.09634365188505968,
            -0.22784812038039653,
            -0.23775140189744903,
            -0.2661900015107905,
            -0.3044371756319364,
            -0.1645626961791031,
            -0.21519418289106204,
            -0.1858013803986803,
            -0.13857776416699202,
            -0.056468567266580956,
            -0.42724087090222124,
            -0.15677498570947934,
            -0.23027445341796535,
            0.017410766536165488
           ],
           "xaxis": "x",
           "y": [
            -0.21038739336336795,
            0.03060167852997355,
            -0.1697783994805692,
            -0.15170824714616907,
            -0.17791438499315634,
            -0.038481692170125266,
            -0.24144562067621353,
            -0.05907624764679791,
            -0.1316615740844834,
            -0.1618205778849444,
            -0.09663352838852017,
            -0.0769211985376898,
            -0.14470382245982602,
            -0.0726172049340481,
            -0.10312397335810172,
            -0.10191668677547663
           ],
           "yaxis": "y"
          }
         ],
         "name": "2019-02-01"
        },
        {
         "data": [
          {
           "hovertemplate": "<b>%{hovertext}</b><br><br>partisan=right<br>animation_frame=2019-03-01<br>0=%{x}<br>1=%{y}<br>subreddit=%{text}<extra></extra>",
           "hovertext": [
            "Capitalism",
            "ShitPoliticsSays",
            "Conservative",
            "The_Donald",
            "progun",
            "Republican"
           ],
           "ids": [
            "Capitalism",
            "ShitPoliticsSays",
            "Conservative",
            "The_Donald",
            "progun",
            "Republican"
           ],
           "legendgroup": "right",
           "marker": {
            "color": "red",
            "opacity": 0.7,
            "symbol": "circle"
           },
           "mode": "markers+text",
           "name": "right",
           "orientation": "v",
           "showlegend": true,
           "text": [
            "Capitalism",
            "ShitPoliticsSays",
            "Conservative",
            "The_Donald",
            "progun",
            "Republican"
           ],
           "type": "scatter",
           "x": [
            -0.07791909556677655,
            0.03928405756632175,
            -0.10910339300521761,
            0.025359570761857405,
            -0.010012842511200321,
            -0.1028759854633696
           ],
           "xaxis": "x",
           "y": [
            -0.18440612981702673,
            -0.1293503871129913,
            -0.11164251889245051,
            -0.0200356954063887,
            -0.11141261648899373,
            -0.08061247996841434
           ],
           "yaxis": "y"
          },
          {
           "hovertemplate": "<b>%{hovertext}</b><br><br>partisan=left<br>animation_frame=2019-03-01<br>0=%{x}<br>1=%{y}<br>subreddit=%{text}<extra></extra>",
           "hovertext": [
            "JoeBiden",
            "Kamala",
            "SocialDemocracy",
            "BaemyKlobaechar",
            "demsocialist",
            "BetoORourke",
            "ConservativeDemocrat",
            "progressive",
            "ElizabethWarren",
            "moderatepolitics",
            "SandersForPresident",
            "centerleftpolitics",
            "Pete_Buttigieg",
            "YangForPresidentHQ",
            "politics",
            "ChapoTrapHouse"
           ],
           "ids": [
            "JoeBiden",
            "Kamala",
            "SocialDemocracy",
            "BaemyKlobaechar",
            "demsocialist",
            "BetoORourke",
            "ConservativeDemocrat",
            "progressive",
            "ElizabethWarren",
            "moderatepolitics",
            "SandersForPresident",
            "centerleftpolitics",
            "Pete_Buttigieg",
            "YangForPresidentHQ",
            "politics",
            "ChapoTrapHouse"
           ],
           "legendgroup": "left",
           "marker": {
            "color": "blue",
            "opacity": 0.7,
            "symbol": "circle"
           },
           "mode": "markers+text",
           "name": "left",
           "orientation": "v",
           "showlegend": true,
           "text": [
            "JoeBiden",
            "Kamala",
            "SocialDemocracy",
            "BaemyKlobaechar",
            "demsocialist",
            "BetoORourke",
            "ConservativeDemocrat",
            "progressive",
            "ElizabethWarren",
            "moderatepolitics",
            "SandersForPresident",
            "centerleftpolitics",
            "Pete_Buttigieg",
            "YangForPresidentHQ",
            "politics",
            "ChapoTrapHouse"
           ],
           "type": "scatter",
           "x": [
            -0.380677315845865,
            -0.2302670347796271,
            -0.13234443116217603,
            -0.4734751806106693,
            -0.259154837177047,
            -0.2817432476019197,
            -0.3408683292950223,
            -0.18465011826737612,
            -0.28518452573154446,
            -0.15769096011508688,
            -0.11433839024106406,
            -0.06234020351184458,
            -0.1759391024076471,
            -0.05369220404034011,
            -0.2147691856067517,
            0.011188481745107713
           ],
           "xaxis": "x",
           "y": [
            -0.07538293456995321,
            -0.11022329525767917,
            -0.24166217135709936,
            -0.13837246407726184,
            -0.19848823567012347,
            -0.10441799131071433,
            -0.17850831409618786,
            -0.028140278913131974,
            -0.11884591892555428,
            -0.1435681561398243,
            -0.12101276319877635,
            -0.07466728243254105,
            -0.0014274769999135903,
            -0.09665855547281665,
            -0.11453040680721546,
            -0.14267426943737088
           ],
           "yaxis": "y"
          }
         ],
         "name": "2019-03-01"
        },
        {
         "data": [
          {
           "hovertemplate": "<b>%{hovertext}</b><br><br>partisan=right<br>animation_frame=2019-04-01<br>0=%{x}<br>1=%{y}<br>subreddit=%{text}<extra></extra>",
           "hovertext": [
            "Republican",
            "progun",
            "The_Donald",
            "Conservative",
            "ShitPoliticsSays",
            "Capitalism"
           ],
           "ids": [
            "Republican",
            "progun",
            "The_Donald",
            "Conservative",
            "ShitPoliticsSays",
            "Capitalism"
           ],
           "legendgroup": "right",
           "marker": {
            "color": "red",
            "opacity": 0.7,
            "symbol": "circle"
           },
           "mode": "markers+text",
           "name": "right",
           "orientation": "v",
           "showlegend": true,
           "text": [
            "Republican",
            "progun",
            "The_Donald",
            "Conservative",
            "ShitPoliticsSays",
            "Capitalism"
           ],
           "type": "scatter",
           "x": [
            -0.11835896775015994,
            -0.005457688738266903,
            0.018028312687424577,
            -0.0904107375549478,
            0.033170617458557844,
            -0.05494079899375256
           ],
           "xaxis": "x",
           "y": [
            -0.06714511788275887,
            -0.06584391380839082,
            -0.007809831739157666,
            -0.15436420959987643,
            -0.16203924287527502,
            -0.14022607048683766
           ],
           "yaxis": "y"
          },
          {
           "hovertemplate": "<b>%{hovertext}</b><br><br>partisan=left<br>animation_frame=2019-04-01<br>0=%{x}<br>1=%{y}<br>subreddit=%{text}<extra></extra>",
           "hovertext": [
            "ChapoTrapHouse",
            "politics",
            "YangForPresidentHQ",
            "Pete_Buttigieg",
            "centerleftpolitics",
            "SandersForPresident",
            "moderatepolitics",
            "ElizabethWarren",
            "progressive",
            "ConservativeDemocrat",
            "BetoORourke",
            "demsocialist",
            "BaemyKlobaechar",
            "SocialDemocracy",
            "Kamala",
            "JoeBiden"
           ],
           "ids": [
            "ChapoTrapHouse",
            "politics",
            "YangForPresidentHQ",
            "Pete_Buttigieg",
            "centerleftpolitics",
            "SandersForPresident",
            "moderatepolitics",
            "ElizabethWarren",
            "progressive",
            "ConservativeDemocrat",
            "BetoORourke",
            "demsocialist",
            "BaemyKlobaechar",
            "SocialDemocracy",
            "Kamala",
            "JoeBiden"
           ],
           "legendgroup": "left",
           "marker": {
            "color": "blue",
            "opacity": 0.7,
            "symbol": "circle"
           },
           "mode": "markers+text",
           "name": "left",
           "orientation": "v",
           "showlegend": true,
           "text": [
            "ChapoTrapHouse",
            "politics",
            "YangForPresidentHQ",
            "Pete_Buttigieg",
            "centerleftpolitics",
            "SandersForPresident",
            "moderatepolitics",
            "ElizabethWarren",
            "progressive",
            "ConservativeDemocrat",
            "BetoORourke",
            "demsocialist",
            "BaemyKlobaechar",
            "SocialDemocracy",
            "Kamala",
            "JoeBiden"
           ],
           "type": "scatter",
           "x": [
            0.018030994885137933,
            -0.2033513514758905,
            -0.0713298979791246,
            -0.20398595142747003,
            -0.06127120231670396,
            -0.11234826286217565,
            -0.16959492642948984,
            -0.21599753201499733,
            -0.2146251045847806,
            -0.26060892621936765,
            -0.21951602373855808,
            -0.2841766847801795,
            -0.28190996075040614,
            -0.13092701727619144,
            -0.2284751037571517,
            -0.2603313332384389
           ],
           "xaxis": "x",
           "y": [
            -0.1343774421811454,
            -0.11218341227608185,
            -0.09845730940770579,
            -0.0778566767131803,
            -0.1031965798713714,
            -0.10300009300901082,
            -0.14392005968728963,
            -0.0692502208877613,
            -0.06050260920976291,
            -0.22700956832248828,
            -0.2332979831504089,
            -0.13849431662921985,
            -0.21792250248794726,
            -0.2479810408572963,
            -0.031690475331925476,
            -0.0510109215838248
           ],
           "yaxis": "y"
          }
         ],
         "name": "2019-04-01"
        },
        {
         "data": [
          {
           "hovertemplate": "<b>%{hovertext}</b><br><br>partisan=right<br>animation_frame=2019-05-01<br>0=%{x}<br>1=%{y}<br>subreddit=%{text}<extra></extra>",
           "hovertext": [
            "Capitalism",
            "ShitPoliticsSays",
            "Conservative",
            "The_Donald",
            "progun",
            "Republican"
           ],
           "ids": [
            "Capitalism",
            "ShitPoliticsSays",
            "Conservative",
            "The_Donald",
            "progun",
            "Republican"
           ],
           "legendgroup": "right",
           "marker": {
            "color": "red",
            "opacity": 0.7,
            "symbol": "circle"
           },
           "mode": "markers+text",
           "name": "right",
           "orientation": "v",
           "showlegend": true,
           "text": [
            "Capitalism",
            "ShitPoliticsSays",
            "Conservative",
            "The_Donald",
            "progun",
            "Republican"
           ],
           "type": "scatter",
           "x": [
            -0.04538588387618777,
            0.024057560851861552,
            -0.09998897094609552,
            0.03120480849483491,
            -0.01708419295340097,
            -0.12455136356511488
           ],
           "xaxis": "x",
           "y": [
            -0.15824248537520505,
            -0.16990915593925654,
            -0.1588555947018577,
            -0.0290368260038223,
            -0.09213584010591082,
            -0.034159261163984
           ],
           "yaxis": "y"
          },
          {
           "hovertemplate": "<b>%{hovertext}</b><br><br>partisan=left<br>animation_frame=2019-05-01<br>0=%{x}<br>1=%{y}<br>subreddit=%{text}<extra></extra>",
           "hovertext": [
            "JoeBiden",
            "Kamala",
            "SocialDemocracy",
            "BaemyKlobaechar",
            "demsocialist",
            "BetoORourke",
            "ConservativeDemocrat",
            "progressive",
            "ElizabethWarren",
            "moderatepolitics",
            "SandersForPresident",
            "centerleftpolitics",
            "Pete_Buttigieg",
            "YangForPresidentHQ",
            "politics",
            "ChapoTrapHouse"
           ],
           "ids": [
            "JoeBiden",
            "Kamala",
            "SocialDemocracy",
            "BaemyKlobaechar",
            "demsocialist",
            "BetoORourke",
            "ConservativeDemocrat",
            "progressive",
            "ElizabethWarren",
            "moderatepolitics",
            "SandersForPresident",
            "centerleftpolitics",
            "Pete_Buttigieg",
            "YangForPresidentHQ",
            "politics",
            "ChapoTrapHouse"
           ],
           "legendgroup": "left",
           "marker": {
            "color": "blue",
            "opacity": 0.7,
            "symbol": "circle"
           },
           "mode": "markers+text",
           "name": "left",
           "orientation": "v",
           "showlegend": true,
           "text": [
            "JoeBiden",
            "Kamala",
            "SocialDemocracy",
            "BaemyKlobaechar",
            "demsocialist",
            "BetoORourke",
            "ConservativeDemocrat",
            "progressive",
            "ElizabethWarren",
            "moderatepolitics",
            "SandersForPresident",
            "centerleftpolitics",
            "Pete_Buttigieg",
            "YangForPresidentHQ",
            "politics",
            "ChapoTrapHouse"
           ],
           "type": "scatter",
           "x": [
            -0.19737925198666328,
            -0.16116981552094234,
            -0.13044396112093895,
            -0.23416756878065773,
            -0.2742541936799254,
            -0.2569637392583653,
            -0.4099757216979593,
            -0.18603837336843834,
            -0.20920801731242614,
            -0.15926927710480454,
            -0.14255662366929037,
            -0.034793682565702595,
            -0.1859793593971867,
            -0.05511711279828531,
            -0.2058733275816613,
            0.02490250702279249
           ],
           "xaxis": "x",
           "y": [
            -0.033950757101847445,
            -0.0023780930609210416,
            -0.23386937242266598,
            -0.10184609130962764,
            -0.2323715263321492,
            -0.1622523850693516,
            -0.23877310380834232,
            -0.0908650955966963,
            -0.08720110734867222,
            -0.14517955888861703,
            -0.08471686624836115,
            -0.10705926588327008,
            -0.05368112986212684,
            -0.10250574410286703,
            -0.09650504793895677,
            -0.14268624788139653
           ],
           "yaxis": "y"
          }
         ],
         "name": "2019-05-01"
        },
        {
         "data": [
          {
           "hovertemplate": "<b>%{hovertext}</b><br><br>partisan=right<br>animation_frame=2019-06-01<br>0=%{x}<br>1=%{y}<br>subreddit=%{text}<extra></extra>",
           "hovertext": [
            "Republican",
            "progun",
            "The_Donald",
            "Conservative",
            "ShitPoliticsSays",
            "Capitalism"
           ],
           "ids": [
            "Republican",
            "progun",
            "The_Donald",
            "Conservative",
            "ShitPoliticsSays",
            "Capitalism"
           ],
           "legendgroup": "right",
           "marker": {
            "color": "red",
            "opacity": 0.7,
            "symbol": "circle"
           },
           "mode": "markers+text",
           "name": "right",
           "orientation": "v",
           "showlegend": true,
           "text": [
            "Republican",
            "progun",
            "The_Donald",
            "Conservative",
            "ShitPoliticsSays",
            "Capitalism"
           ],
           "type": "scatter",
           "x": [
            -0.12674277869631254,
            -0.014659317234096162,
            0.02697687155643326,
            -0.06893542741535875,
            0.02557768671191478,
            -0.09102142823483746
           ],
           "xaxis": "x",
           "y": [
            -0.04244935823258482,
            -0.07446209816786155,
            -0.020095555126926685,
            -0.13399618411314412,
            -0.15136286826547185,
            -0.16943349693574775
           ],
           "yaxis": "y"
          },
          {
           "hovertemplate": "<b>%{hovertext}</b><br><br>partisan=left<br>animation_frame=2019-06-01<br>0=%{x}<br>1=%{y}<br>subreddit=%{text}<extra></extra>",
           "hovertext": [
            "ChapoTrapHouse",
            "politics",
            "YangForPresidentHQ",
            "Pete_Buttigieg",
            "centerleftpolitics",
            "SandersForPresident",
            "moderatepolitics",
            "ElizabethWarren",
            "progressive",
            "ConservativeDemocrat",
            "BetoORourke",
            "demsocialist",
            "BaemyKlobaechar",
            "SocialDemocracy",
            "Kamala",
            "JoeBiden"
           ],
           "ids": [
            "ChapoTrapHouse",
            "politics",
            "YangForPresidentHQ",
            "Pete_Buttigieg",
            "centerleftpolitics",
            "SandersForPresident",
            "moderatepolitics",
            "ElizabethWarren",
            "progressive",
            "ConservativeDemocrat",
            "BetoORourke",
            "demsocialist",
            "BaemyKlobaechar",
            "SocialDemocracy",
            "Kamala",
            "JoeBiden"
           ],
           "legendgroup": "left",
           "marker": {
            "color": "blue",
            "opacity": 0.7,
            "symbol": "circle"
           },
           "mode": "markers+text",
           "name": "left",
           "orientation": "v",
           "showlegend": true,
           "text": [
            "ChapoTrapHouse",
            "politics",
            "YangForPresidentHQ",
            "Pete_Buttigieg",
            "centerleftpolitics",
            "SandersForPresident",
            "moderatepolitics",
            "ElizabethWarren",
            "progressive",
            "ConservativeDemocrat",
            "BetoORourke",
            "demsocialist",
            "BaemyKlobaechar",
            "SocialDemocracy",
            "Kamala",
            "JoeBiden"
           ],
           "type": "scatter",
           "x": [
            0.038050844537524595,
            -0.19072272884226127,
            -0.06812803724987754,
            -0.14741184237617216,
            -0.05390181811042951,
            -0.13572723848872145,
            -0.15003094402939773,
            -0.19377191353553622,
            -0.19918269732717,
            -0.3054845775811322,
            -0.2453546271891708,
            -0.15288525287830773,
            -0.1962290967897874,
            -0.03527071091657069,
            -0.22830030347244074,
            -0.17477137275210405
           ],
           "xaxis": "x",
           "y": [
            -0.14437646534243875,
            -0.11262379641445704,
            -0.10326976474056464,
            -0.04773039149107528,
            -0.11108614343686801,
            -0.15608512644298086,
            -0.18007961124992214,
            -0.07743561717542714,
            -0.1068910927260131,
            -0.1428931574923976,
            0.05954031905665937,
            -0.3073082951329102,
            -0.12446167221465923,
            -0.2424969150547884,
            -0.05166120619051531,
            -0.07794416913092693
           ],
           "yaxis": "y"
          }
         ],
         "name": "2019-06-01"
        },
        {
         "data": [
          {
           "hovertemplate": "<b>%{hovertext}</b><br><br>partisan=right<br>animation_frame=2019-07-01<br>0=%{x}<br>1=%{y}<br>subreddit=%{text}<extra></extra>",
           "hovertext": [
            "Republican",
            "progun",
            "The_Donald",
            "Conservative",
            "ShitPoliticsSays",
            "Capitalism"
           ],
           "ids": [
            "Republican",
            "progun",
            "The_Donald",
            "Conservative",
            "ShitPoliticsSays",
            "Capitalism"
           ],
           "legendgroup": "right",
           "marker": {
            "color": "red",
            "opacity": 0.7,
            "symbol": "circle"
           },
           "mode": "markers+text",
           "name": "right",
           "orientation": "v",
           "showlegend": true,
           "text": [
            "Republican",
            "progun",
            "The_Donald",
            "Conservative",
            "ShitPoliticsSays",
            "Capitalism"
           ],
           "type": "scatter",
           "x": [
            -0.11372273498033082,
            0.007217978564500077,
            0.053810389104868746,
            -0.06842762151111519,
            0.019611959026281597,
            -0.03939511570983088
           ],
           "xaxis": "x",
           "y": [
            -0.040675119303684344,
            -0.08888063077576526,
            0.0012095658595646943,
            -0.13582305066452902,
            -0.17191970022985573,
            -0.12869138134987834
           ],
           "yaxis": "y"
          },
          {
           "hovertemplate": "<b>%{hovertext}</b><br><br>partisan=left<br>animation_frame=2019-07-01<br>0=%{x}<br>1=%{y}<br>subreddit=%{text}<extra></extra>",
           "hovertext": [
            "ChapoTrapHouse",
            "politics",
            "YangForPresidentHQ",
            "Pete_Buttigieg",
            "centerleftpolitics",
            "SandersForPresident",
            "moderatepolitics",
            "ElizabethWarren",
            "progressive",
            "ConservativeDemocrat",
            "BetoORourke",
            "demsocialist",
            "BaemyKlobaechar",
            "SocialDemocracy",
            "Kamala",
            "JoeBiden"
           ],
           "ids": [
            "ChapoTrapHouse",
            "politics",
            "YangForPresidentHQ",
            "Pete_Buttigieg",
            "centerleftpolitics",
            "SandersForPresident",
            "moderatepolitics",
            "ElizabethWarren",
            "progressive",
            "ConservativeDemocrat",
            "BetoORourke",
            "demsocialist",
            "BaemyKlobaechar",
            "SocialDemocracy",
            "Kamala",
            "JoeBiden"
           ],
           "legendgroup": "left",
           "marker": {
            "color": "blue",
            "opacity": 0.7,
            "symbol": "circle"
           },
           "mode": "markers+text",
           "name": "left",
           "orientation": "v",
           "showlegend": true,
           "text": [
            "ChapoTrapHouse",
            "politics",
            "YangForPresidentHQ",
            "Pete_Buttigieg",
            "centerleftpolitics",
            "SandersForPresident",
            "moderatepolitics",
            "ElizabethWarren",
            "progressive",
            "ConservativeDemocrat",
            "BetoORourke",
            "demsocialist",
            "BaemyKlobaechar",
            "SocialDemocracy",
            "Kamala",
            "JoeBiden"
           ],
           "type": "scatter",
           "x": [
            0.006630287238185195,
            -0.1828556633145629,
            -0.09025536987407573,
            -0.17310307776928197,
            -0.03669399630033466,
            -0.10123297986936637,
            -0.1540166226068447,
            -0.17750292680404164,
            -0.2039153773768969,
            -0.070706499766355,
            -0.3686439300911976,
            -0.3339466710882481,
            -0.43372442552644086,
            -0.08603762460434958,
            -0.18901666723007315,
            -0.1148943175120102
           ],
           "xaxis": "x",
           "y": [
            -0.14217940728805228,
            -0.11682665895697908,
            -0.12088740615618061,
            -0.04162628446298323,
            -0.10036901290147374,
            -0.12106771749669905,
            -0.1380180769773405,
            -0.09180865192350736,
            -0.08462392188017387,
            -0.24042418655395437,
            -0.10837999488543719,
            -0.17134421417532192,
            -0.07015793972930828,
            -0.3356256226116708,
            -0.052261625850401845,
            -0.03650063460492723
           ],
           "yaxis": "y"
          }
         ],
         "name": "2019-07-01"
        },
        {
         "data": [
          {
           "hovertemplate": "<b>%{hovertext}</b><br><br>partisan=right<br>animation_frame=2019-08-01<br>0=%{x}<br>1=%{y}<br>subreddit=%{text}<extra></extra>",
           "hovertext": [
            "Capitalism",
            "ShitPoliticsSays",
            "Conservative",
            "The_Donald",
            "progun",
            "Republican"
           ],
           "ids": [
            "Capitalism",
            "ShitPoliticsSays",
            "Conservative",
            "The_Donald",
            "progun",
            "Republican"
           ],
           "legendgroup": "right",
           "marker": {
            "color": "red",
            "opacity": 0.7,
            "symbol": "circle"
           },
           "mode": "markers+text",
           "name": "right",
           "orientation": "v",
           "showlegend": true,
           "text": [
            "Capitalism",
            "ShitPoliticsSays",
            "Conservative",
            "The_Donald",
            "progun",
            "Republican"
           ],
           "type": "scatter",
           "x": [
            -0.03742380835497006,
            0.04914490746762746,
            -0.0773483204747751,
            0.05429979127578268,
            0.0018582796003379204,
            -0.09074963735035728
           ],
           "xaxis": "x",
           "y": [
            -0.18480550712671784,
            -0.16996914366260385,
            -0.14632460930193558,
            0.0037471182699992237,
            -0.12272110891173756,
            -0.06324072262787826
           ],
           "yaxis": "y"
          },
          {
           "hovertemplate": "<b>%{hovertext}</b><br><br>partisan=left<br>animation_frame=2019-08-01<br>0=%{x}<br>1=%{y}<br>subreddit=%{text}<extra></extra>",
           "hovertext": [
            "JoeBiden",
            "Kamala",
            "SocialDemocracy",
            "BaemyKlobaechar",
            "demsocialist",
            "BetoORourke",
            "ConservativeDemocrat",
            "progressive",
            "ElizabethWarren",
            "moderatepolitics",
            "SandersForPresident",
            "centerleftpolitics",
            "Pete_Buttigieg",
            "YangForPresidentHQ",
            "politics",
            "ChapoTrapHouse"
           ],
           "ids": [
            "JoeBiden",
            "Kamala",
            "SocialDemocracy",
            "BaemyKlobaechar",
            "demsocialist",
            "BetoORourke",
            "ConservativeDemocrat",
            "progressive",
            "ElizabethWarren",
            "moderatepolitics",
            "SandersForPresident",
            "centerleftpolitics",
            "Pete_Buttigieg",
            "YangForPresidentHQ",
            "politics",
            "ChapoTrapHouse"
           ],
           "legendgroup": "left",
           "marker": {
            "color": "blue",
            "opacity": 0.7,
            "symbol": "circle"
           },
           "mode": "markers+text",
           "name": "left",
           "orientation": "v",
           "showlegend": true,
           "text": [
            "JoeBiden",
            "Kamala",
            "SocialDemocracy",
            "BaemyKlobaechar",
            "demsocialist",
            "BetoORourke",
            "ConservativeDemocrat",
            "progressive",
            "ElizabethWarren",
            "moderatepolitics",
            "SandersForPresident",
            "centerleftpolitics",
            "Pete_Buttigieg",
            "YangForPresidentHQ",
            "politics",
            "ChapoTrapHouse"
           ],
           "type": "scatter",
           "x": [
            -0.1568916777588824,
            -0.23003737330060087,
            -0.047022608105938835,
            -0.4302818061508173,
            -0.2556649593978669,
            -0.15846464465396914,
            -0.20820264282365267,
            -0.14253236114572002,
            -0.17227003159343768,
            -0.1486213935169702,
            -0.15454811403688695,
            -0.029473958753180197,
            -0.16623580802531943,
            -0.07072661083629522,
            -0.18782234908735865,
            0.030445870348252503
           ],
           "xaxis": "x",
           "y": [
            -0.12195370688920638,
            -0.05641410556787666,
            -0.26913241531611387,
            -0.1187956429858838,
            -0.22380633107645245,
            0.1334298293427894,
            -0.1964845528975014,
            -0.08137519321718412,
            -0.058628699061686905,
            -0.14523301688324494,
            -0.15987929664022513,
            -0.1433847735958801,
            -0.06652820011582997,
            -0.1117007286750321,
            -0.11450695850490314,
            -0.1353847692215015
           ],
           "yaxis": "y"
          }
         ],
         "name": "2019-08-01"
        },
        {
         "data": [
          {
           "hovertemplate": "<b>%{hovertext}</b><br><br>partisan=right<br>animation_frame=2019-09-01<br>0=%{x}<br>1=%{y}<br>subreddit=%{text}<extra></extra>",
           "hovertext": [
            "Republican",
            "progun",
            "The_Donald",
            "Conservative",
            "ShitPoliticsSays",
            "Capitalism"
           ],
           "ids": [
            "Republican",
            "progun",
            "The_Donald",
            "Conservative",
            "ShitPoliticsSays",
            "Capitalism"
           ],
           "legendgroup": "right",
           "marker": {
            "color": "red",
            "opacity": 0.7,
            "symbol": "circle"
           },
           "mode": "markers+text",
           "name": "right",
           "orientation": "v",
           "showlegend": true,
           "text": [
            "Republican",
            "progun",
            "The_Donald",
            "Conservative",
            "ShitPoliticsSays",
            "Capitalism"
           ],
           "type": "scatter",
           "x": [
            -0.0933652182105783,
            0.004197207342894316,
            0.05665004942102522,
            -0.07973280856790468,
            0.05244735617848351,
            -0.034787446321979575
           ],
           "xaxis": "x",
           "y": [
            -0.05669328922203403,
            -0.12807291343031713,
            0.006976198857748465,
            -0.1437219570798981,
            -0.14390215590553362,
            -0.15550128269499072
           ],
           "yaxis": "y"
          },
          {
           "hovertemplate": "<b>%{hovertext}</b><br><br>partisan=left<br>animation_frame=2019-09-01<br>0=%{x}<br>1=%{y}<br>subreddit=%{text}<extra></extra>",
           "hovertext": [
            "ChapoTrapHouse",
            "YangForPresidentHQ",
            "Pete_Buttigieg",
            "centerleftpolitics",
            "SandersForPresident",
            "moderatepolitics",
            "ElizabethWarren",
            "progressive",
            "ConservativeDemocrat",
            "BetoORourke",
            "demsocialist",
            "BaemyKlobaechar",
            "politics",
            "SocialDemocracy",
            "Kamala",
            "JoeBiden"
           ],
           "ids": [
            "ChapoTrapHouse",
            "YangForPresidentHQ",
            "Pete_Buttigieg",
            "centerleftpolitics",
            "SandersForPresident",
            "moderatepolitics",
            "ElizabethWarren",
            "progressive",
            "ConservativeDemocrat",
            "BetoORourke",
            "demsocialist",
            "BaemyKlobaechar",
            "politics",
            "SocialDemocracy",
            "Kamala",
            "JoeBiden"
           ],
           "legendgroup": "left",
           "marker": {
            "color": "blue",
            "opacity": 0.7,
            "symbol": "circle"
           },
           "mode": "markers+text",
           "name": "left",
           "orientation": "v",
           "showlegend": true,
           "text": [
            "ChapoTrapHouse",
            "YangForPresidentHQ",
            "Pete_Buttigieg",
            "centerleftpolitics",
            "SandersForPresident",
            "moderatepolitics",
            "ElizabethWarren",
            "progressive",
            "ConservativeDemocrat",
            "BetoORourke",
            "demsocialist",
            "BaemyKlobaechar",
            "politics",
            "SocialDemocracy",
            "Kamala",
            "JoeBiden"
           ],
           "type": "scatter",
           "x": [
            0.03601465251527294,
            -0.05394148613520026,
            -0.16455656449978273,
            -0.056367449515883836,
            -0.11928613608578459,
            -0.14819585954206568,
            -0.20271430806965243,
            -0.1469415642179207,
            -0.2656398276603838,
            -0.3109124073153463,
            -0.2543013092395249,
            -0.34967606863148903,
            -0.16466818687602322,
            -0.07699449771899955,
            -0.20275900256917676,
            -0.12138815724502593
           ],
           "xaxis": "x",
           "y": [
            -0.13182264031662216,
            -0.10425912972090737,
            -0.030174935163368763,
            -0.10396700698489365,
            -0.13313654199682717,
            -0.1365377855622642,
            -0.06278378880838757,
            -0.08693314579410424,
            -0.1430193236556084,
            -0.09743662008970769,
            -0.27956960105828,
            -0.19460088169746723,
            -0.08647090967230103,
            -0.2225484397726676,
            0.06800518427281953,
            -0.08569325597584158
           ],
           "yaxis": "y"
          }
         ],
         "name": "2019-09-01"
        },
        {
         "data": [
          {
           "hovertemplate": "<b>%{hovertext}</b><br><br>partisan=right<br>animation_frame=2019-10-01<br>0=%{x}<br>1=%{y}<br>subreddit=%{text}<extra></extra>",
           "hovertext": [
            "Capitalism",
            "ShitPoliticsSays",
            "Conservative",
            "The_Donald",
            "progun",
            "Republican"
           ],
           "ids": [
            "Capitalism",
            "ShitPoliticsSays",
            "Conservative",
            "The_Donald",
            "progun",
            "Republican"
           ],
           "legendgroup": "right",
           "marker": {
            "color": "red",
            "opacity": 0.7,
            "symbol": "circle"
           },
           "mode": "markers+text",
           "name": "right",
           "orientation": "v",
           "showlegend": true,
           "text": [
            "Capitalism",
            "ShitPoliticsSays",
            "Conservative",
            "The_Donald",
            "progun",
            "Republican"
           ],
           "type": "scatter",
           "x": [
            -0.03487331084164392,
            0.04025196068435451,
            -0.0928599729679301,
            0.03898965987938613,
            0.028764656051340685,
            -0.09286019450487559
           ],
           "xaxis": "x",
           "y": [
            -0.0926678255339369,
            -0.15600779412385568,
            -0.10670997976159591,
            0.01794944453578751,
            -0.08850701907461052,
            -0.00970424520677524
           ],
           "yaxis": "y"
          },
          {
           "hovertemplate": "<b>%{hovertext}</b><br><br>partisan=left<br>animation_frame=2019-10-01<br>0=%{x}<br>1=%{y}<br>subreddit=%{text}<extra></extra>",
           "hovertext": [
            "JoeBiden",
            "Kamala",
            "SocialDemocracy",
            "BaemyKlobaechar",
            "demsocialist",
            "BetoORourke",
            "ConservativeDemocrat",
            "progressive",
            "ElizabethWarren",
            "moderatepolitics",
            "SandersForPresident",
            "centerleftpolitics",
            "Pete_Buttigieg",
            "YangForPresidentHQ",
            "politics",
            "ChapoTrapHouse"
           ],
           "ids": [
            "JoeBiden",
            "Kamala",
            "SocialDemocracy",
            "BaemyKlobaechar",
            "demsocialist",
            "BetoORourke",
            "ConservativeDemocrat",
            "progressive",
            "ElizabethWarren",
            "moderatepolitics",
            "SandersForPresident",
            "centerleftpolitics",
            "Pete_Buttigieg",
            "YangForPresidentHQ",
            "politics",
            "ChapoTrapHouse"
           ],
           "legendgroup": "left",
           "marker": {
            "color": "blue",
            "opacity": 0.7,
            "symbol": "circle"
           },
           "mode": "markers+text",
           "name": "left",
           "orientation": "v",
           "showlegend": true,
           "text": [
            "JoeBiden",
            "Kamala",
            "SocialDemocracy",
            "BaemyKlobaechar",
            "demsocialist",
            "BetoORourke",
            "ConservativeDemocrat",
            "progressive",
            "ElizabethWarren",
            "moderatepolitics",
            "SandersForPresident",
            "centerleftpolitics",
            "Pete_Buttigieg",
            "YangForPresidentHQ",
            "politics",
            "ChapoTrapHouse"
           ],
           "type": "scatter",
           "x": [
            -0.15168647489399115,
            -0.10438330746191768,
            -0.13371403314949004,
            -0.4259457263350567,
            -0.3859197409290071,
            -0.15374051040222517,
            -0.23612036961784774,
            -0.20668653053301178,
            -0.19600431736597734,
            -0.13867452859231486,
            -0.13002724163785467,
            -0.041626518982115314,
            -0.142115447397517,
            -0.07014509436115829,
            -0.19547850652086785,
            0.03475261197433257
           ],
           "xaxis": "x",
           "y": [
            -0.037287557131386845,
            0.06342107947708765,
            -0.1843484926247885,
            -0.00884809387790208,
            -0.24466913000838514,
            -0.015204192435859179,
            -0.2338109255427897,
            0.0011026202859481902,
            -0.10376873905235494,
            -0.11703130987733527,
            -0.13221071684408395,
            -0.1443417195973919,
            -0.06614131998682839,
            -0.12311759202063138,
            -0.11081808064558464,
            -0.12710738900349458
           ],
           "yaxis": "y"
          }
         ],
         "name": "2019-10-01"
        },
        {
         "data": [
          {
           "hovertemplate": "<b>%{hovertext}</b><br><br>partisan=right<br>animation_frame=2019-11-01<br>0=%{x}<br>1=%{y}<br>subreddit=%{text}<extra></extra>",
           "hovertext": [
            "Capitalism",
            "ShitPoliticsSays",
            "Conservative",
            "The_Donald",
            "progun",
            "Republican"
           ],
           "ids": [
            "Capitalism",
            "ShitPoliticsSays",
            "Conservative",
            "The_Donald",
            "progun",
            "Republican"
           ],
           "legendgroup": "right",
           "marker": {
            "color": "red",
            "opacity": 0.7,
            "symbol": "circle"
           },
           "mode": "markers+text",
           "name": "right",
           "orientation": "v",
           "showlegend": true,
           "text": [
            "Capitalism",
            "ShitPoliticsSays",
            "Conservative",
            "The_Donald",
            "progun",
            "Republican"
           ],
           "type": "scatter",
           "x": [
            -0.08391386950775334,
            0.09214782510874724,
            -0.08899548195096516,
            0.05046805252344771,
            0.03168798696506727,
            -0.10264650404487606
           ],
           "xaxis": "x",
           "y": [
            -0.14306926513800963,
            -0.13553671833440353,
            -0.09780963534852309,
            0.03314531684363664,
            -0.12121400753382991,
            -0.010136035053099679
           ],
           "yaxis": "y"
          },
          {
           "hovertemplate": "<b>%{hovertext}</b><br><br>partisan=left<br>animation_frame=2019-11-01<br>0=%{x}<br>1=%{y}<br>subreddit=%{text}<extra></extra>",
           "hovertext": [
            "JoeBiden",
            "Kamala",
            "SocialDemocracy",
            "BaemyKlobaechar",
            "demsocialist",
            "BetoORourke",
            "ConservativeDemocrat",
            "progressive",
            "ElizabethWarren",
            "moderatepolitics",
            "SandersForPresident",
            "centerleftpolitics",
            "Pete_Buttigieg",
            "YangForPresidentHQ",
            "politics",
            "ChapoTrapHouse"
           ],
           "ids": [
            "JoeBiden",
            "Kamala",
            "SocialDemocracy",
            "BaemyKlobaechar",
            "demsocialist",
            "BetoORourke",
            "ConservativeDemocrat",
            "progressive",
            "ElizabethWarren",
            "moderatepolitics",
            "SandersForPresident",
            "centerleftpolitics",
            "Pete_Buttigieg",
            "YangForPresidentHQ",
            "politics",
            "ChapoTrapHouse"
           ],
           "legendgroup": "left",
           "marker": {
            "color": "blue",
            "opacity": 0.7,
            "symbol": "circle"
           },
           "mode": "markers+text",
           "name": "left",
           "orientation": "v",
           "showlegend": true,
           "text": [
            "JoeBiden",
            "Kamala",
            "SocialDemocracy",
            "BaemyKlobaechar",
            "demsocialist",
            "BetoORourke",
            "ConservativeDemocrat",
            "progressive",
            "ElizabethWarren",
            "moderatepolitics",
            "SandersForPresident",
            "centerleftpolitics",
            "Pete_Buttigieg",
            "YangForPresidentHQ",
            "politics",
            "ChapoTrapHouse"
           ],
           "type": "scatter",
           "x": [
            -0.15655379652331416,
            -0.14582331028586487,
            -0.11202902859518686,
            -0.22644110285986527,
            -0.19913863371438714,
            -0.1804317054281391,
            -0.3121194206987009,
            -0.15576512970826062,
            -0.18566754816837508,
            -0.1484308080229461,
            -0.1343616545209374,
            -0.07948426521907132,
            -0.1688506391952497,
            -0.04469139177849951,
            -0.2054852306985305,
            0.03332861751554805
           ],
           "xaxis": "x",
           "y": [
            -0.09999633755115123,
            0.010677362820599046,
            -0.21862663886836767,
            -0.15955385821182427,
            -0.19234236668990654,
            -0.08959109108265964,
            -0.2699427502228632,
            -0.04680103381818011,
            -0.06953090390102333,
            -0.10237188528410804,
            -0.12835448596840662,
            -0.09293870915666479,
            -0.0503511973767542,
            -0.08913261296738804,
            -0.07436785356917598,
            -0.11763111002970406
           ],
           "yaxis": "y"
          }
         ],
         "name": "2019-11-01"
        },
        {
         "data": [
          {
           "hovertemplate": "<b>%{hovertext}</b><br><br>partisan=right<br>animation_frame=2019-12-01<br>0=%{x}<br>1=%{y}<br>subreddit=%{text}<extra></extra>",
           "hovertext": [
            "Capitalism",
            "ShitPoliticsSays",
            "Conservative",
            "The_Donald",
            "progun",
            "Republican"
           ],
           "ids": [
            "Capitalism",
            "ShitPoliticsSays",
            "Conservative",
            "The_Donald",
            "progun",
            "Republican"
           ],
           "legendgroup": "right",
           "marker": {
            "color": "red",
            "opacity": 0.7,
            "symbol": "circle"
           },
           "mode": "markers+text",
           "name": "right",
           "orientation": "v",
           "showlegend": true,
           "text": [
            "Capitalism",
            "ShitPoliticsSays",
            "Conservative",
            "The_Donald",
            "progun",
            "Republican"
           ],
           "type": "scatter",
           "x": [
            -0.02351536690241077,
            0.05449646960572208,
            -0.05232671411152655,
            0.04315050090995376,
            0.03772352122055887,
            -0.06672256796043415
           ],
           "xaxis": "x",
           "y": [
            -0.14356605733191416,
            -0.12627492236804677,
            -0.09594571342648073,
            0.01483228314336334,
            -0.09864347353245848,
            -0.013361709622148442
           ],
           "yaxis": "y"
          },
          {
           "hovertemplate": "<b>%{hovertext}</b><br><br>partisan=left<br>animation_frame=2019-12-01<br>0=%{x}<br>1=%{y}<br>subreddit=%{text}<extra></extra>",
           "hovertext": [
            "JoeBiden",
            "Kamala",
            "SocialDemocracy",
            "BaemyKlobaechar",
            "demsocialist",
            "BetoORourke",
            "ConservativeDemocrat",
            "progressive",
            "ElizabethWarren",
            "moderatepolitics",
            "SandersForPresident",
            "centerleftpolitics",
            "Pete_Buttigieg",
            "YangForPresidentHQ",
            "politics",
            "ChapoTrapHouse"
           ],
           "ids": [
            "JoeBiden",
            "Kamala",
            "SocialDemocracy",
            "BaemyKlobaechar",
            "demsocialist",
            "BetoORourke",
            "ConservativeDemocrat",
            "progressive",
            "ElizabethWarren",
            "moderatepolitics",
            "SandersForPresident",
            "centerleftpolitics",
            "Pete_Buttigieg",
            "YangForPresidentHQ",
            "politics",
            "ChapoTrapHouse"
           ],
           "legendgroup": "left",
           "marker": {
            "color": "blue",
            "opacity": 0.7,
            "symbol": "circle"
           },
           "mode": "markers+text",
           "name": "left",
           "orientation": "v",
           "showlegend": true,
           "text": [
            "JoeBiden",
            "Kamala",
            "SocialDemocracy",
            "BaemyKlobaechar",
            "demsocialist",
            "BetoORourke",
            "ConservativeDemocrat",
            "progressive",
            "ElizabethWarren",
            "moderatepolitics",
            "SandersForPresident",
            "centerleftpolitics",
            "Pete_Buttigieg",
            "YangForPresidentHQ",
            "politics",
            "ChapoTrapHouse"
           ],
           "type": "scatter",
           "x": [
            -0.12503769245057902,
            -0.11422815956631369,
            -0.052493139183904414,
            -0.2803329176539782,
            -0.4342991566198291,
            -0.3367134441408395,
            -0.24035300204555102,
            -0.1822411650908615,
            -0.1893277046772599,
            -0.15948630920838422,
            -0.13063390063110758,
            -0.07964243328340306,
            -0.16928295336313268,
            -0.09303071165597739,
            -0.20049626922195327,
            0.022151197975108252
           ],
           "xaxis": "x",
           "y": [
            -0.04285831689928111,
            0.005470000883236527,
            -0.2304737782345031,
            -0.16369293069473745,
            -0.12183744198141347,
            -0.1281246368669727,
            -0.25324477577626575,
            -0.05535338675636315,
            -0.0668901750164901,
            -0.11504576570791525,
            -0.12998389827096404,
            -0.13341430554723407,
            -0.08874669172474983,
            -0.10889369368283228,
            -0.10014868573072172,
            -0.13053115573678742
           ],
           "yaxis": "y"
          }
         ],
         "name": "2019-12-01"
        }
       ],
       "layout": {
        "legend": {
         "title": {
          "text": "partisan"
         },
         "tracegroupgap": 0
        },
        "margin": {
         "t": 60
        },
        "sliders": [
         {
          "active": 0,
          "currentvalue": {
           "prefix": "animation_frame="
          },
          "len": 0.9,
          "pad": {
           "b": 10,
           "t": 60
          },
          "steps": [
           {
            "args": [
             [
              "2019-01-01"
             ],
             {
              "frame": {
               "duration": 0,
               "redraw": false
              },
              "fromcurrent": true,
              "mode": "immediate",
              "transition": {
               "duration": 0,
               "easing": "linear"
              }
             }
            ],
            "label": "2019-01-01",
            "method": "animate"
           },
           {
            "args": [
             [
              "2019-02-01"
             ],
             {
              "frame": {
               "duration": 0,
               "redraw": false
              },
              "fromcurrent": true,
              "mode": "immediate",
              "transition": {
               "duration": 0,
               "easing": "linear"
              }
             }
            ],
            "label": "2019-02-01",
            "method": "animate"
           },
           {
            "args": [
             [
              "2019-03-01"
             ],
             {
              "frame": {
               "duration": 0,
               "redraw": false
              },
              "fromcurrent": true,
              "mode": "immediate",
              "transition": {
               "duration": 0,
               "easing": "linear"
              }
             }
            ],
            "label": "2019-03-01",
            "method": "animate"
           },
           {
            "args": [
             [
              "2019-04-01"
             ],
             {
              "frame": {
               "duration": 0,
               "redraw": false
              },
              "fromcurrent": true,
              "mode": "immediate",
              "transition": {
               "duration": 0,
               "easing": "linear"
              }
             }
            ],
            "label": "2019-04-01",
            "method": "animate"
           },
           {
            "args": [
             [
              "2019-05-01"
             ],
             {
              "frame": {
               "duration": 0,
               "redraw": false
              },
              "fromcurrent": true,
              "mode": "immediate",
              "transition": {
               "duration": 0,
               "easing": "linear"
              }
             }
            ],
            "label": "2019-05-01",
            "method": "animate"
           },
           {
            "args": [
             [
              "2019-06-01"
             ],
             {
              "frame": {
               "duration": 0,
               "redraw": false
              },
              "fromcurrent": true,
              "mode": "immediate",
              "transition": {
               "duration": 0,
               "easing": "linear"
              }
             }
            ],
            "label": "2019-06-01",
            "method": "animate"
           },
           {
            "args": [
             [
              "2019-07-01"
             ],
             {
              "frame": {
               "duration": 0,
               "redraw": false
              },
              "fromcurrent": true,
              "mode": "immediate",
              "transition": {
               "duration": 0,
               "easing": "linear"
              }
             }
            ],
            "label": "2019-07-01",
            "method": "animate"
           },
           {
            "args": [
             [
              "2019-08-01"
             ],
             {
              "frame": {
               "duration": 0,
               "redraw": false
              },
              "fromcurrent": true,
              "mode": "immediate",
              "transition": {
               "duration": 0,
               "easing": "linear"
              }
             }
            ],
            "label": "2019-08-01",
            "method": "animate"
           },
           {
            "args": [
             [
              "2019-09-01"
             ],
             {
              "frame": {
               "duration": 0,
               "redraw": false
              },
              "fromcurrent": true,
              "mode": "immediate",
              "transition": {
               "duration": 0,
               "easing": "linear"
              }
             }
            ],
            "label": "2019-09-01",
            "method": "animate"
           },
           {
            "args": [
             [
              "2019-10-01"
             ],
             {
              "frame": {
               "duration": 0,
               "redraw": false
              },
              "fromcurrent": true,
              "mode": "immediate",
              "transition": {
               "duration": 0,
               "easing": "linear"
              }
             }
            ],
            "label": "2019-10-01",
            "method": "animate"
           },
           {
            "args": [
             [
              "2019-11-01"
             ],
             {
              "frame": {
               "duration": 0,
               "redraw": false
              },
              "fromcurrent": true,
              "mode": "immediate",
              "transition": {
               "duration": 0,
               "easing": "linear"
              }
             }
            ],
            "label": "2019-11-01",
            "method": "animate"
           },
           {
            "args": [
             [
              "2019-12-01"
             ],
             {
              "frame": {
               "duration": 0,
               "redraw": false
              },
              "fromcurrent": true,
              "mode": "immediate",
              "transition": {
               "duration": 0,
               "easing": "linear"
              }
             }
            ],
            "label": "2019-12-01",
            "method": "animate"
           }
          ],
          "x": 0.1,
          "xanchor": "left",
          "y": 0,
          "yanchor": "top"
         }
        ],
        "template": {
         "data": {
          "bar": [
           {
            "error_x": {
             "color": "#2a3f5f"
            },
            "error_y": {
             "color": "#2a3f5f"
            },
            "marker": {
             "line": {
              "color": "#E5ECF6",
              "width": 0.5
             }
            },
            "type": "bar"
           }
          ],
          "barpolar": [
           {
            "marker": {
             "line": {
              "color": "#E5ECF6",
              "width": 0.5
             }
            },
            "type": "barpolar"
           }
          ],
          "carpet": [
           {
            "aaxis": {
             "endlinecolor": "#2a3f5f",
             "gridcolor": "white",
             "linecolor": "white",
             "minorgridcolor": "white",
             "startlinecolor": "#2a3f5f"
            },
            "baxis": {
             "endlinecolor": "#2a3f5f",
             "gridcolor": "white",
             "linecolor": "white",
             "minorgridcolor": "white",
             "startlinecolor": "#2a3f5f"
            },
            "type": "carpet"
           }
          ],
          "choropleth": [
           {
            "colorbar": {
             "outlinewidth": 0,
             "ticks": ""
            },
            "type": "choropleth"
           }
          ],
          "contour": [
           {
            "colorbar": {
             "outlinewidth": 0,
             "ticks": ""
            },
            "colorscale": [
             [
              0,
              "#0d0887"
             ],
             [
              0.1111111111111111,
              "#46039f"
             ],
             [
              0.2222222222222222,
              "#7201a8"
             ],
             [
              0.3333333333333333,
              "#9c179e"
             ],
             [
              0.4444444444444444,
              "#bd3786"
             ],
             [
              0.5555555555555556,
              "#d8576b"
             ],
             [
              0.6666666666666666,
              "#ed7953"
             ],
             [
              0.7777777777777778,
              "#fb9f3a"
             ],
             [
              0.8888888888888888,
              "#fdca26"
             ],
             [
              1,
              "#f0f921"
             ]
            ],
            "type": "contour"
           }
          ],
          "contourcarpet": [
           {
            "colorbar": {
             "outlinewidth": 0,
             "ticks": ""
            },
            "type": "contourcarpet"
           }
          ],
          "heatmap": [
           {
            "colorbar": {
             "outlinewidth": 0,
             "ticks": ""
            },
            "colorscale": [
             [
              0,
              "#0d0887"
             ],
             [
              0.1111111111111111,
              "#46039f"
             ],
             [
              0.2222222222222222,
              "#7201a8"
             ],
             [
              0.3333333333333333,
              "#9c179e"
             ],
             [
              0.4444444444444444,
              "#bd3786"
             ],
             [
              0.5555555555555556,
              "#d8576b"
             ],
             [
              0.6666666666666666,
              "#ed7953"
             ],
             [
              0.7777777777777778,
              "#fb9f3a"
             ],
             [
              0.8888888888888888,
              "#fdca26"
             ],
             [
              1,
              "#f0f921"
             ]
            ],
            "type": "heatmap"
           }
          ],
          "heatmapgl": [
           {
            "colorbar": {
             "outlinewidth": 0,
             "ticks": ""
            },
            "colorscale": [
             [
              0,
              "#0d0887"
             ],
             [
              0.1111111111111111,
              "#46039f"
             ],
             [
              0.2222222222222222,
              "#7201a8"
             ],
             [
              0.3333333333333333,
              "#9c179e"
             ],
             [
              0.4444444444444444,
              "#bd3786"
             ],
             [
              0.5555555555555556,
              "#d8576b"
             ],
             [
              0.6666666666666666,
              "#ed7953"
             ],
             [
              0.7777777777777778,
              "#fb9f3a"
             ],
             [
              0.8888888888888888,
              "#fdca26"
             ],
             [
              1,
              "#f0f921"
             ]
            ],
            "type": "heatmapgl"
           }
          ],
          "histogram": [
           {
            "marker": {
             "colorbar": {
              "outlinewidth": 0,
              "ticks": ""
             }
            },
            "type": "histogram"
           }
          ],
          "histogram2d": [
           {
            "colorbar": {
             "outlinewidth": 0,
             "ticks": ""
            },
            "colorscale": [
             [
              0,
              "#0d0887"
             ],
             [
              0.1111111111111111,
              "#46039f"
             ],
             [
              0.2222222222222222,
              "#7201a8"
             ],
             [
              0.3333333333333333,
              "#9c179e"
             ],
             [
              0.4444444444444444,
              "#bd3786"
             ],
             [
              0.5555555555555556,
              "#d8576b"
             ],
             [
              0.6666666666666666,
              "#ed7953"
             ],
             [
              0.7777777777777778,
              "#fb9f3a"
             ],
             [
              0.8888888888888888,
              "#fdca26"
             ],
             [
              1,
              "#f0f921"
             ]
            ],
            "type": "histogram2d"
           }
          ],
          "histogram2dcontour": [
           {
            "colorbar": {
             "outlinewidth": 0,
             "ticks": ""
            },
            "colorscale": [
             [
              0,
              "#0d0887"
             ],
             [
              0.1111111111111111,
              "#46039f"
             ],
             [
              0.2222222222222222,
              "#7201a8"
             ],
             [
              0.3333333333333333,
              "#9c179e"
             ],
             [
              0.4444444444444444,
              "#bd3786"
             ],
             [
              0.5555555555555556,
              "#d8576b"
             ],
             [
              0.6666666666666666,
              "#ed7953"
             ],
             [
              0.7777777777777778,
              "#fb9f3a"
             ],
             [
              0.8888888888888888,
              "#fdca26"
             ],
             [
              1,
              "#f0f921"
             ]
            ],
            "type": "histogram2dcontour"
           }
          ],
          "mesh3d": [
           {
            "colorbar": {
             "outlinewidth": 0,
             "ticks": ""
            },
            "type": "mesh3d"
           }
          ],
          "parcoords": [
           {
            "line": {
             "colorbar": {
              "outlinewidth": 0,
              "ticks": ""
             }
            },
            "type": "parcoords"
           }
          ],
          "pie": [
           {
            "automargin": true,
            "type": "pie"
           }
          ],
          "scatter": [
           {
            "marker": {
             "colorbar": {
              "outlinewidth": 0,
              "ticks": ""
             }
            },
            "type": "scatter"
           }
          ],
          "scatter3d": [
           {
            "line": {
             "colorbar": {
              "outlinewidth": 0,
              "ticks": ""
             }
            },
            "marker": {
             "colorbar": {
              "outlinewidth": 0,
              "ticks": ""
             }
            },
            "type": "scatter3d"
           }
          ],
          "scattercarpet": [
           {
            "marker": {
             "colorbar": {
              "outlinewidth": 0,
              "ticks": ""
             }
            },
            "type": "scattercarpet"
           }
          ],
          "scattergeo": [
           {
            "marker": {
             "colorbar": {
              "outlinewidth": 0,
              "ticks": ""
             }
            },
            "type": "scattergeo"
           }
          ],
          "scattergl": [
           {
            "marker": {
             "colorbar": {
              "outlinewidth": 0,
              "ticks": ""
             }
            },
            "type": "scattergl"
           }
          ],
          "scattermapbox": [
           {
            "marker": {
             "colorbar": {
              "outlinewidth": 0,
              "ticks": ""
             }
            },
            "type": "scattermapbox"
           }
          ],
          "scatterpolar": [
           {
            "marker": {
             "colorbar": {
              "outlinewidth": 0,
              "ticks": ""
             }
            },
            "type": "scatterpolar"
           }
          ],
          "scatterpolargl": [
           {
            "marker": {
             "colorbar": {
              "outlinewidth": 0,
              "ticks": ""
             }
            },
            "type": "scatterpolargl"
           }
          ],
          "scatterternary": [
           {
            "marker": {
             "colorbar": {
              "outlinewidth": 0,
              "ticks": ""
             }
            },
            "type": "scatterternary"
           }
          ],
          "surface": [
           {
            "colorbar": {
             "outlinewidth": 0,
             "ticks": ""
            },
            "colorscale": [
             [
              0,
              "#0d0887"
             ],
             [
              0.1111111111111111,
              "#46039f"
             ],
             [
              0.2222222222222222,
              "#7201a8"
             ],
             [
              0.3333333333333333,
              "#9c179e"
             ],
             [
              0.4444444444444444,
              "#bd3786"
             ],
             [
              0.5555555555555556,
              "#d8576b"
             ],
             [
              0.6666666666666666,
              "#ed7953"
             ],
             [
              0.7777777777777778,
              "#fb9f3a"
             ],
             [
              0.8888888888888888,
              "#fdca26"
             ],
             [
              1,
              "#f0f921"
             ]
            ],
            "type": "surface"
           }
          ],
          "table": [
           {
            "cells": {
             "fill": {
              "color": "#EBF0F8"
             },
             "line": {
              "color": "white"
             }
            },
            "header": {
             "fill": {
              "color": "#C8D4E3"
             },
             "line": {
              "color": "white"
             }
            },
            "type": "table"
           }
          ]
         },
         "layout": {
          "annotationdefaults": {
           "arrowcolor": "#2a3f5f",
           "arrowhead": 0,
           "arrowwidth": 1
          },
          "coloraxis": {
           "colorbar": {
            "outlinewidth": 0,
            "ticks": ""
           }
          },
          "colorscale": {
           "diverging": [
            [
             0,
             "#8e0152"
            ],
            [
             0.1,
             "#c51b7d"
            ],
            [
             0.2,
             "#de77ae"
            ],
            [
             0.3,
             "#f1b6da"
            ],
            [
             0.4,
             "#fde0ef"
            ],
            [
             0.5,
             "#f7f7f7"
            ],
            [
             0.6,
             "#e6f5d0"
            ],
            [
             0.7,
             "#b8e186"
            ],
            [
             0.8,
             "#7fbc41"
            ],
            [
             0.9,
             "#4d9221"
            ],
            [
             1,
             "#276419"
            ]
           ],
           "sequential": [
            [
             0,
             "#0d0887"
            ],
            [
             0.1111111111111111,
             "#46039f"
            ],
            [
             0.2222222222222222,
             "#7201a8"
            ],
            [
             0.3333333333333333,
             "#9c179e"
            ],
            [
             0.4444444444444444,
             "#bd3786"
            ],
            [
             0.5555555555555556,
             "#d8576b"
            ],
            [
             0.6666666666666666,
             "#ed7953"
            ],
            [
             0.7777777777777778,
             "#fb9f3a"
            ],
            [
             0.8888888888888888,
             "#fdca26"
            ],
            [
             1,
             "#f0f921"
            ]
           ],
           "sequentialminus": [
            [
             0,
             "#0d0887"
            ],
            [
             0.1111111111111111,
             "#46039f"
            ],
            [
             0.2222222222222222,
             "#7201a8"
            ],
            [
             0.3333333333333333,
             "#9c179e"
            ],
            [
             0.4444444444444444,
             "#bd3786"
            ],
            [
             0.5555555555555556,
             "#d8576b"
            ],
            [
             0.6666666666666666,
             "#ed7953"
            ],
            [
             0.7777777777777778,
             "#fb9f3a"
            ],
            [
             0.8888888888888888,
             "#fdca26"
            ],
            [
             1,
             "#f0f921"
            ]
           ]
          },
          "colorway": [
           "#636efa",
           "#EF553B",
           "#00cc96",
           "#ab63fa",
           "#FFA15A",
           "#19d3f3",
           "#FF6692",
           "#B6E880",
           "#FF97FF",
           "#FECB52"
          ],
          "font": {
           "color": "#2a3f5f"
          },
          "geo": {
           "bgcolor": "white",
           "lakecolor": "white",
           "landcolor": "#E5ECF6",
           "showlakes": true,
           "showland": true,
           "subunitcolor": "white"
          },
          "hoverlabel": {
           "align": "left"
          },
          "hovermode": "closest",
          "mapbox": {
           "style": "light"
          },
          "paper_bgcolor": "white",
          "plot_bgcolor": "#E5ECF6",
          "polar": {
           "angularaxis": {
            "gridcolor": "white",
            "linecolor": "white",
            "ticks": ""
           },
           "bgcolor": "#E5ECF6",
           "radialaxis": {
            "gridcolor": "white",
            "linecolor": "white",
            "ticks": ""
           }
          },
          "scene": {
           "xaxis": {
            "backgroundcolor": "#E5ECF6",
            "gridcolor": "white",
            "gridwidth": 2,
            "linecolor": "white",
            "showbackground": true,
            "ticks": "",
            "zerolinecolor": "white"
           },
           "yaxis": {
            "backgroundcolor": "#E5ECF6",
            "gridcolor": "white",
            "gridwidth": 2,
            "linecolor": "white",
            "showbackground": true,
            "ticks": "",
            "zerolinecolor": "white"
           },
           "zaxis": {
            "backgroundcolor": "#E5ECF6",
            "gridcolor": "white",
            "gridwidth": 2,
            "linecolor": "white",
            "showbackground": true,
            "ticks": "",
            "zerolinecolor": "white"
           }
          },
          "shapedefaults": {
           "line": {
            "color": "#2a3f5f"
           }
          },
          "ternary": {
           "aaxis": {
            "gridcolor": "white",
            "linecolor": "white",
            "ticks": ""
           },
           "baxis": {
            "gridcolor": "white",
            "linecolor": "white",
            "ticks": ""
           },
           "bgcolor": "#E5ECF6",
           "caxis": {
            "gridcolor": "white",
            "linecolor": "white",
            "ticks": ""
           }
          },
          "title": {
           "x": 0.05
          },
          "xaxis": {
           "automargin": true,
           "gridcolor": "white",
           "linecolor": "white",
           "ticks": "",
           "title": {
            "standoff": 15
           },
           "zerolinecolor": "white",
           "zerolinewidth": 2
          },
          "yaxis": {
           "automargin": true,
           "gridcolor": "white",
           "linecolor": "white",
           "ticks": "",
           "title": {
            "standoff": 15
           },
           "zerolinecolor": "white",
           "zerolinewidth": 2
          }
         }
        },
        "updatemenus": [
         {
          "buttons": [
           {
            "args": [
             null,
             {
              "frame": {
               "duration": 500,
               "redraw": false
              },
              "fromcurrent": true,
              "mode": "immediate",
              "transition": {
               "duration": 500,
               "easing": "linear"
              }
             }
            ],
            "label": "&#9654;",
            "method": "animate"
           },
           {
            "args": [
             [
              null
             ],
             {
              "frame": {
               "duration": 0,
               "redraw": false
              },
              "fromcurrent": true,
              "mode": "immediate",
              "transition": {
               "duration": 0,
               "easing": "linear"
              }
             }
            ],
            "label": "&#9724;",
            "method": "animate"
           }
          ],
          "direction": "left",
          "pad": {
           "r": 10,
           "t": 70
          },
          "showactive": false,
          "type": "buttons",
          "x": 0.1,
          "xanchor": "right",
          "y": 0,
          "yanchor": "top"
         }
        ],
        "xaxis": {
         "anchor": "y",
         "domain": [
          0,
          1
         ],
         "range": [
          -0.7734751806106692,
          0.5921478251087472
         ],
         "title": {
          "text": "0"
         }
        },
        "yaxis": {
         "anchor": "x",
         "domain": [
          0,
          1
         ],
         "range": [
          -0.6356256226116708,
          0.16437437738832922
         ],
         "title": {
          "text": "1"
         }
        }
       }
      },
      "text/html": [
       "<div>\n",
       "        \n",
       "        \n",
       "            <div id=\"82abff13-73a2-431c-bd38-9d0cb56155f1\" class=\"plotly-graph-div\" style=\"height:525px; width:100%;\"></div>\n",
       "            <script type=\"text/javascript\">\n",
       "                require([\"plotly\"], function(Plotly) {\n",
       "                    window.PLOTLYENV=window.PLOTLYENV || {};\n",
       "                    \n",
       "                if (document.getElementById(\"82abff13-73a2-431c-bd38-9d0cb56155f1\")) {\n",
       "                    Plotly.newPlot(\n",
       "                        '82abff13-73a2-431c-bd38-9d0cb56155f1',\n",
       "                        [{\"hovertemplate\": \"<b>%{hovertext}</b><br><br>partisan=right<br>animation_frame=2019-01-01<br>0=%{x}<br>1=%{y}<br>subreddit=%{text}<extra></extra>\", \"hovertext\": [\"Capitalism\", \"ShitPoliticsSays\", \"Conservative\", \"The_Donald\", \"progun\", \"Republican\"], \"ids\": [\"Capitalism\", \"ShitPoliticsSays\", \"Conservative\", \"The_Donald\", \"progun\", \"Republican\"], \"legendgroup\": \"right\", \"marker\": {\"color\": \"red\", \"opacity\": 0.7, \"symbol\": \"circle\"}, \"mode\": \"markers+text\", \"name\": \"right\", \"orientation\": \"v\", \"showlegend\": true, \"text\": [\"Capitalism\", \"ShitPoliticsSays\", \"Conservative\", \"The_Donald\", \"progun\", \"Republican\"], \"type\": \"scatter\", \"x\": [-0.04534718933942883, 0.03640102969916637, -0.10933412213294083, 0.011227504683583144, -0.03659079976499899, -0.15334419950386588], \"xaxis\": \"x\", \"y\": [-0.1989538594674227, -0.13415037768006727, -0.10580438688507629, 0.0035353302313221105, -0.04322880284059433, -0.10634914067245699], \"yaxis\": \"y\"}, {\"hovertemplate\": \"<b>%{hovertext}</b><br><br>partisan=left<br>animation_frame=2019-01-01<br>0=%{x}<br>1=%{y}<br>subreddit=%{text}<extra></extra>\", \"hovertext\": [\"JoeBiden\", \"Kamala\", \"SocialDemocracy\", \"BaemyKlobaechar\", \"demsocialist\", \"BetoORourke\", \"ConservativeDemocrat\", \"progressive\", \"ElizabethWarren\", \"moderatepolitics\", \"SandersForPresident\", \"centerleftpolitics\", \"Pete_Buttigieg\", \"YangForPresidentHQ\", \"politics\", \"ChapoTrapHouse\"], \"ids\": [\"JoeBiden\", \"Kamala\", \"SocialDemocracy\", \"BaemyKlobaechar\", \"demsocialist\", \"BetoORourke\", \"ConservativeDemocrat\", \"progressive\", \"ElizabethWarren\", \"moderatepolitics\", \"SandersForPresident\", \"centerleftpolitics\", \"Pete_Buttigieg\", \"YangForPresidentHQ\", \"politics\", \"ChapoTrapHouse\"], \"legendgroup\": \"left\", \"marker\": {\"color\": \"blue\", \"opacity\": 0.7, \"symbol\": \"circle\"}, \"mode\": \"markers+text\", \"name\": \"left\", \"orientation\": \"v\", \"showlegend\": true, \"text\": [\"JoeBiden\", \"Kamala\", \"SocialDemocracy\", \"BaemyKlobaechar\", \"demsocialist\", \"BetoORourke\", \"ConservativeDemocrat\", \"progressive\", \"ElizabethWarren\", \"moderatepolitics\", \"SandersForPresident\", \"centerleftpolitics\", \"Pete_Buttigieg\", \"YangForPresidentHQ\", \"politics\", \"ChapoTrapHouse\"], \"type\": \"scatter\", \"x\": [-0.06395850595914646, -0.23959063161880273, -0.15103107623726025, -0.23540179825047464, -0.29523250894806974, -0.04924015897112757, -0.21052565815258362, -0.1750324547385643, -0.3096745577161612, -0.15183765224463122, -0.14847539207693905, -0.05600991832453221, -0.24573401196485375, -0.22361587441997294, -0.23399611298589945, -0.0036151581226636924], \"xaxis\": \"x\", \"y\": [-0.2170081816755779, -0.018347535540763623, -0.20657243935101036, -0.23567954281877374, -0.15919005152450053, -0.08614786720739294, -0.312718634800656, -0.06632604966876479, -0.09256359090475386, -0.11261352266318254, -0.08114972726748142, -0.11584200775986346, -0.2309113179699978, -0.061414986133404084, -0.08933817728851486, -0.10343579538221738], \"yaxis\": \"y\"}],\n",
       "                        {\"legend\": {\"title\": {\"text\": \"partisan\"}, \"tracegroupgap\": 0}, \"margin\": {\"t\": 60}, \"sliders\": [{\"active\": 0, \"currentvalue\": {\"prefix\": \"animation_frame=\"}, \"len\": 0.9, \"pad\": {\"b\": 10, \"t\": 60}, \"steps\": [{\"args\": [[\"2019-01-01\"], {\"frame\": {\"duration\": 0, \"redraw\": false}, \"fromcurrent\": true, \"mode\": \"immediate\", \"transition\": {\"duration\": 0, \"easing\": \"linear\"}}], \"label\": \"2019-01-01\", \"method\": \"animate\"}, {\"args\": [[\"2019-02-01\"], {\"frame\": {\"duration\": 0, \"redraw\": false}, \"fromcurrent\": true, \"mode\": \"immediate\", \"transition\": {\"duration\": 0, \"easing\": \"linear\"}}], \"label\": \"2019-02-01\", \"method\": \"animate\"}, {\"args\": [[\"2019-03-01\"], {\"frame\": {\"duration\": 0, \"redraw\": false}, \"fromcurrent\": true, \"mode\": \"immediate\", \"transition\": {\"duration\": 0, \"easing\": \"linear\"}}], \"label\": \"2019-03-01\", \"method\": \"animate\"}, {\"args\": [[\"2019-04-01\"], {\"frame\": {\"duration\": 0, \"redraw\": false}, \"fromcurrent\": true, \"mode\": \"immediate\", \"transition\": {\"duration\": 0, \"easing\": \"linear\"}}], \"label\": \"2019-04-01\", \"method\": \"animate\"}, {\"args\": [[\"2019-05-01\"], {\"frame\": {\"duration\": 0, \"redraw\": false}, \"fromcurrent\": true, \"mode\": \"immediate\", \"transition\": {\"duration\": 0, \"easing\": \"linear\"}}], \"label\": \"2019-05-01\", \"method\": \"animate\"}, {\"args\": [[\"2019-06-01\"], {\"frame\": {\"duration\": 0, \"redraw\": false}, \"fromcurrent\": true, \"mode\": \"immediate\", \"transition\": {\"duration\": 0, \"easing\": \"linear\"}}], \"label\": \"2019-06-01\", \"method\": \"animate\"}, {\"args\": [[\"2019-07-01\"], {\"frame\": {\"duration\": 0, \"redraw\": false}, \"fromcurrent\": true, \"mode\": \"immediate\", \"transition\": {\"duration\": 0, \"easing\": \"linear\"}}], \"label\": \"2019-07-01\", \"method\": \"animate\"}, {\"args\": [[\"2019-08-01\"], {\"frame\": {\"duration\": 0, \"redraw\": false}, \"fromcurrent\": true, \"mode\": \"immediate\", \"transition\": {\"duration\": 0, \"easing\": \"linear\"}}], \"label\": \"2019-08-01\", \"method\": \"animate\"}, {\"args\": [[\"2019-09-01\"], {\"frame\": {\"duration\": 0, \"redraw\": false}, \"fromcurrent\": true, \"mode\": \"immediate\", \"transition\": {\"duration\": 0, \"easing\": \"linear\"}}], \"label\": \"2019-09-01\", \"method\": \"animate\"}, {\"args\": [[\"2019-10-01\"], {\"frame\": {\"duration\": 0, \"redraw\": false}, \"fromcurrent\": true, \"mode\": \"immediate\", \"transition\": {\"duration\": 0, \"easing\": \"linear\"}}], \"label\": \"2019-10-01\", \"method\": \"animate\"}, {\"args\": [[\"2019-11-01\"], {\"frame\": {\"duration\": 0, \"redraw\": false}, \"fromcurrent\": true, \"mode\": \"immediate\", \"transition\": {\"duration\": 0, \"easing\": \"linear\"}}], \"label\": \"2019-11-01\", \"method\": \"animate\"}, {\"args\": [[\"2019-12-01\"], {\"frame\": {\"duration\": 0, \"redraw\": false}, \"fromcurrent\": true, \"mode\": \"immediate\", \"transition\": {\"duration\": 0, \"easing\": \"linear\"}}], \"label\": \"2019-12-01\", \"method\": \"animate\"}], \"x\": 0.1, \"xanchor\": \"left\", \"y\": 0, \"yanchor\": \"top\"}], \"template\": {\"data\": {\"bar\": [{\"error_x\": {\"color\": \"#2a3f5f\"}, \"error_y\": {\"color\": \"#2a3f5f\"}, \"marker\": {\"line\": {\"color\": \"#E5ECF6\", \"width\": 0.5}}, \"type\": \"bar\"}], \"barpolar\": [{\"marker\": {\"line\": {\"color\": \"#E5ECF6\", \"width\": 0.5}}, \"type\": \"barpolar\"}], \"carpet\": [{\"aaxis\": {\"endlinecolor\": \"#2a3f5f\", \"gridcolor\": \"white\", \"linecolor\": \"white\", \"minorgridcolor\": \"white\", \"startlinecolor\": \"#2a3f5f\"}, \"baxis\": {\"endlinecolor\": \"#2a3f5f\", \"gridcolor\": \"white\", \"linecolor\": \"white\", \"minorgridcolor\": \"white\", \"startlinecolor\": \"#2a3f5f\"}, \"type\": \"carpet\"}], \"choropleth\": [{\"colorbar\": {\"outlinewidth\": 0, \"ticks\": \"\"}, \"type\": \"choropleth\"}], \"contour\": [{\"colorbar\": {\"outlinewidth\": 0, \"ticks\": \"\"}, \"colorscale\": [[0.0, \"#0d0887\"], [0.1111111111111111, \"#46039f\"], [0.2222222222222222, \"#7201a8\"], [0.3333333333333333, \"#9c179e\"], [0.4444444444444444, \"#bd3786\"], [0.5555555555555556, \"#d8576b\"], [0.6666666666666666, \"#ed7953\"], [0.7777777777777778, \"#fb9f3a\"], [0.8888888888888888, \"#fdca26\"], [1.0, \"#f0f921\"]], \"type\": \"contour\"}], \"contourcarpet\": [{\"colorbar\": {\"outlinewidth\": 0, \"ticks\": \"\"}, \"type\": \"contourcarpet\"}], \"heatmap\": [{\"colorbar\": {\"outlinewidth\": 0, \"ticks\": \"\"}, \"colorscale\": [[0.0, \"#0d0887\"], [0.1111111111111111, \"#46039f\"], [0.2222222222222222, \"#7201a8\"], [0.3333333333333333, \"#9c179e\"], [0.4444444444444444, \"#bd3786\"], [0.5555555555555556, \"#d8576b\"], [0.6666666666666666, \"#ed7953\"], [0.7777777777777778, \"#fb9f3a\"], [0.8888888888888888, \"#fdca26\"], [1.0, \"#f0f921\"]], \"type\": \"heatmap\"}], \"heatmapgl\": [{\"colorbar\": {\"outlinewidth\": 0, \"ticks\": \"\"}, \"colorscale\": [[0.0, \"#0d0887\"], [0.1111111111111111, \"#46039f\"], [0.2222222222222222, \"#7201a8\"], [0.3333333333333333, \"#9c179e\"], [0.4444444444444444, \"#bd3786\"], [0.5555555555555556, \"#d8576b\"], [0.6666666666666666, \"#ed7953\"], [0.7777777777777778, \"#fb9f3a\"], [0.8888888888888888, \"#fdca26\"], [1.0, \"#f0f921\"]], \"type\": \"heatmapgl\"}], \"histogram\": [{\"marker\": {\"colorbar\": {\"outlinewidth\": 0, \"ticks\": \"\"}}, \"type\": \"histogram\"}], \"histogram2d\": [{\"colorbar\": {\"outlinewidth\": 0, \"ticks\": \"\"}, \"colorscale\": [[0.0, \"#0d0887\"], [0.1111111111111111, \"#46039f\"], [0.2222222222222222, \"#7201a8\"], [0.3333333333333333, \"#9c179e\"], [0.4444444444444444, \"#bd3786\"], [0.5555555555555556, \"#d8576b\"], [0.6666666666666666, \"#ed7953\"], [0.7777777777777778, \"#fb9f3a\"], [0.8888888888888888, \"#fdca26\"], [1.0, \"#f0f921\"]], \"type\": \"histogram2d\"}], \"histogram2dcontour\": [{\"colorbar\": {\"outlinewidth\": 0, \"ticks\": \"\"}, \"colorscale\": [[0.0, \"#0d0887\"], [0.1111111111111111, \"#46039f\"], [0.2222222222222222, \"#7201a8\"], [0.3333333333333333, \"#9c179e\"], [0.4444444444444444, \"#bd3786\"], [0.5555555555555556, \"#d8576b\"], [0.6666666666666666, \"#ed7953\"], [0.7777777777777778, \"#fb9f3a\"], [0.8888888888888888, \"#fdca26\"], [1.0, \"#f0f921\"]], \"type\": \"histogram2dcontour\"}], \"mesh3d\": [{\"colorbar\": {\"outlinewidth\": 0, \"ticks\": \"\"}, \"type\": \"mesh3d\"}], \"parcoords\": [{\"line\": {\"colorbar\": {\"outlinewidth\": 0, \"ticks\": \"\"}}, \"type\": \"parcoords\"}], \"pie\": [{\"automargin\": true, \"type\": \"pie\"}], \"scatter\": [{\"marker\": {\"colorbar\": {\"outlinewidth\": 0, \"ticks\": \"\"}}, \"type\": \"scatter\"}], \"scatter3d\": [{\"line\": {\"colorbar\": {\"outlinewidth\": 0, \"ticks\": \"\"}}, \"marker\": {\"colorbar\": {\"outlinewidth\": 0, \"ticks\": \"\"}}, \"type\": \"scatter3d\"}], \"scattercarpet\": [{\"marker\": {\"colorbar\": {\"outlinewidth\": 0, \"ticks\": \"\"}}, \"type\": \"scattercarpet\"}], \"scattergeo\": [{\"marker\": {\"colorbar\": {\"outlinewidth\": 0, \"ticks\": \"\"}}, \"type\": \"scattergeo\"}], \"scattergl\": [{\"marker\": {\"colorbar\": {\"outlinewidth\": 0, \"ticks\": \"\"}}, \"type\": \"scattergl\"}], \"scattermapbox\": [{\"marker\": {\"colorbar\": {\"outlinewidth\": 0, \"ticks\": \"\"}}, \"type\": \"scattermapbox\"}], \"scatterpolar\": [{\"marker\": {\"colorbar\": {\"outlinewidth\": 0, \"ticks\": \"\"}}, \"type\": \"scatterpolar\"}], \"scatterpolargl\": [{\"marker\": {\"colorbar\": {\"outlinewidth\": 0, \"ticks\": \"\"}}, \"type\": \"scatterpolargl\"}], \"scatterternary\": [{\"marker\": {\"colorbar\": {\"outlinewidth\": 0, \"ticks\": \"\"}}, \"type\": \"scatterternary\"}], \"surface\": [{\"colorbar\": {\"outlinewidth\": 0, \"ticks\": \"\"}, \"colorscale\": [[0.0, \"#0d0887\"], [0.1111111111111111, \"#46039f\"], [0.2222222222222222, \"#7201a8\"], [0.3333333333333333, \"#9c179e\"], [0.4444444444444444, \"#bd3786\"], [0.5555555555555556, \"#d8576b\"], [0.6666666666666666, \"#ed7953\"], [0.7777777777777778, \"#fb9f3a\"], [0.8888888888888888, \"#fdca26\"], [1.0, \"#f0f921\"]], \"type\": \"surface\"}], \"table\": [{\"cells\": {\"fill\": {\"color\": \"#EBF0F8\"}, \"line\": {\"color\": \"white\"}}, \"header\": {\"fill\": {\"color\": \"#C8D4E3\"}, \"line\": {\"color\": \"white\"}}, \"type\": \"table\"}]}, \"layout\": {\"annotationdefaults\": {\"arrowcolor\": \"#2a3f5f\", \"arrowhead\": 0, \"arrowwidth\": 1}, \"coloraxis\": {\"colorbar\": {\"outlinewidth\": 0, \"ticks\": \"\"}}, \"colorscale\": {\"diverging\": [[0, \"#8e0152\"], [0.1, \"#c51b7d\"], [0.2, \"#de77ae\"], [0.3, \"#f1b6da\"], [0.4, \"#fde0ef\"], [0.5, \"#f7f7f7\"], [0.6, \"#e6f5d0\"], [0.7, \"#b8e186\"], [0.8, \"#7fbc41\"], [0.9, \"#4d9221\"], [1, \"#276419\"]], \"sequential\": [[0.0, \"#0d0887\"], [0.1111111111111111, \"#46039f\"], [0.2222222222222222, \"#7201a8\"], [0.3333333333333333, \"#9c179e\"], [0.4444444444444444, \"#bd3786\"], [0.5555555555555556, \"#d8576b\"], [0.6666666666666666, \"#ed7953\"], [0.7777777777777778, \"#fb9f3a\"], [0.8888888888888888, \"#fdca26\"], [1.0, \"#f0f921\"]], \"sequentialminus\": [[0.0, \"#0d0887\"], [0.1111111111111111, \"#46039f\"], [0.2222222222222222, \"#7201a8\"], [0.3333333333333333, \"#9c179e\"], [0.4444444444444444, \"#bd3786\"], [0.5555555555555556, \"#d8576b\"], [0.6666666666666666, \"#ed7953\"], [0.7777777777777778, \"#fb9f3a\"], [0.8888888888888888, \"#fdca26\"], [1.0, \"#f0f921\"]]}, \"colorway\": [\"#636efa\", \"#EF553B\", \"#00cc96\", \"#ab63fa\", \"#FFA15A\", \"#19d3f3\", \"#FF6692\", \"#B6E880\", \"#FF97FF\", \"#FECB52\"], \"font\": {\"color\": \"#2a3f5f\"}, \"geo\": {\"bgcolor\": \"white\", \"lakecolor\": \"white\", \"landcolor\": \"#E5ECF6\", \"showlakes\": true, \"showland\": true, \"subunitcolor\": \"white\"}, \"hoverlabel\": {\"align\": \"left\"}, \"hovermode\": \"closest\", \"mapbox\": {\"style\": \"light\"}, \"paper_bgcolor\": \"white\", \"plot_bgcolor\": \"#E5ECF6\", \"polar\": {\"angularaxis\": {\"gridcolor\": \"white\", \"linecolor\": \"white\", \"ticks\": \"\"}, \"bgcolor\": \"#E5ECF6\", \"radialaxis\": {\"gridcolor\": \"white\", \"linecolor\": \"white\", \"ticks\": \"\"}}, \"scene\": {\"xaxis\": {\"backgroundcolor\": \"#E5ECF6\", \"gridcolor\": \"white\", \"gridwidth\": 2, \"linecolor\": \"white\", \"showbackground\": true, \"ticks\": \"\", \"zerolinecolor\": \"white\"}, \"yaxis\": {\"backgroundcolor\": \"#E5ECF6\", \"gridcolor\": \"white\", \"gridwidth\": 2, \"linecolor\": \"white\", \"showbackground\": true, \"ticks\": \"\", \"zerolinecolor\": \"white\"}, \"zaxis\": {\"backgroundcolor\": \"#E5ECF6\", \"gridcolor\": \"white\", \"gridwidth\": 2, \"linecolor\": \"white\", \"showbackground\": true, \"ticks\": \"\", \"zerolinecolor\": \"white\"}}, \"shapedefaults\": {\"line\": {\"color\": \"#2a3f5f\"}}, \"ternary\": {\"aaxis\": {\"gridcolor\": \"white\", \"linecolor\": \"white\", \"ticks\": \"\"}, \"baxis\": {\"gridcolor\": \"white\", \"linecolor\": \"white\", \"ticks\": \"\"}, \"bgcolor\": \"#E5ECF6\", \"caxis\": {\"gridcolor\": \"white\", \"linecolor\": \"white\", \"ticks\": \"\"}}, \"title\": {\"x\": 0.05}, \"xaxis\": {\"automargin\": true, \"gridcolor\": \"white\", \"linecolor\": \"white\", \"ticks\": \"\", \"title\": {\"standoff\": 15}, \"zerolinecolor\": \"white\", \"zerolinewidth\": 2}, \"yaxis\": {\"automargin\": true, \"gridcolor\": \"white\", \"linecolor\": \"white\", \"ticks\": \"\", \"title\": {\"standoff\": 15}, \"zerolinecolor\": \"white\", \"zerolinewidth\": 2}}}, \"updatemenus\": [{\"buttons\": [{\"args\": [null, {\"frame\": {\"duration\": 500, \"redraw\": false}, \"fromcurrent\": true, \"mode\": \"immediate\", \"transition\": {\"duration\": 500, \"easing\": \"linear\"}}], \"label\": \"&#9654;\", \"method\": \"animate\"}, {\"args\": [[null], {\"frame\": {\"duration\": 0, \"redraw\": false}, \"fromcurrent\": true, \"mode\": \"immediate\", \"transition\": {\"duration\": 0, \"easing\": \"linear\"}}], \"label\": \"&#9724;\", \"method\": \"animate\"}], \"direction\": \"left\", \"pad\": {\"r\": 10, \"t\": 70}, \"showactive\": false, \"type\": \"buttons\", \"x\": 0.1, \"xanchor\": \"right\", \"y\": 0, \"yanchor\": \"top\"}], \"xaxis\": {\"anchor\": \"y\", \"domain\": [0.0, 1.0], \"range\": [-0.7734751806106692, 0.5921478251087472], \"title\": {\"text\": \"0\"}}, \"yaxis\": {\"anchor\": \"x\", \"domain\": [0.0, 1.0], \"range\": [-0.6356256226116708, 0.16437437738832922], \"title\": {\"text\": \"1\"}}},\n",
       "                        {\"responsive\": true}\n",
       "                    ).then(function(){\n",
       "                            Plotly.addFrames('82abff13-73a2-431c-bd38-9d0cb56155f1', [{\"data\": [{\"hovertemplate\": \"<b>%{hovertext}</b><br><br>partisan=right<br>animation_frame=2019-01-01<br>0=%{x}<br>1=%{y}<br>subreddit=%{text}<extra></extra>\", \"hovertext\": [\"Capitalism\", \"ShitPoliticsSays\", \"Conservative\", \"The_Donald\", \"progun\", \"Republican\"], \"ids\": [\"Capitalism\", \"ShitPoliticsSays\", \"Conservative\", \"The_Donald\", \"progun\", \"Republican\"], \"legendgroup\": \"right\", \"marker\": {\"color\": \"red\", \"opacity\": 0.7, \"symbol\": \"circle\"}, \"mode\": \"markers+text\", \"name\": \"right\", \"orientation\": \"v\", \"showlegend\": true, \"text\": [\"Capitalism\", \"ShitPoliticsSays\", \"Conservative\", \"The_Donald\", \"progun\", \"Republican\"], \"x\": [-0.04534718933942883, 0.03640102969916637, -0.10933412213294083, 0.011227504683583144, -0.03659079976499899, -0.15334419950386588], \"xaxis\": \"x\", \"y\": [-0.1989538594674227, -0.13415037768006727, -0.10580438688507629, 0.0035353302313221105, -0.04322880284059433, -0.10634914067245699], \"yaxis\": \"y\", \"type\": \"scatter\"}, {\"hovertemplate\": \"<b>%{hovertext}</b><br><br>partisan=left<br>animation_frame=2019-01-01<br>0=%{x}<br>1=%{y}<br>subreddit=%{text}<extra></extra>\", \"hovertext\": [\"JoeBiden\", \"Kamala\", \"SocialDemocracy\", \"BaemyKlobaechar\", \"demsocialist\", \"BetoORourke\", \"ConservativeDemocrat\", \"progressive\", \"ElizabethWarren\", \"moderatepolitics\", \"SandersForPresident\", \"centerleftpolitics\", \"Pete_Buttigieg\", \"YangForPresidentHQ\", \"politics\", \"ChapoTrapHouse\"], \"ids\": [\"JoeBiden\", \"Kamala\", \"SocialDemocracy\", \"BaemyKlobaechar\", \"demsocialist\", \"BetoORourke\", \"ConservativeDemocrat\", \"progressive\", \"ElizabethWarren\", \"moderatepolitics\", \"SandersForPresident\", \"centerleftpolitics\", \"Pete_Buttigieg\", \"YangForPresidentHQ\", \"politics\", \"ChapoTrapHouse\"], \"legendgroup\": \"left\", \"marker\": {\"color\": \"blue\", \"opacity\": 0.7, \"symbol\": \"circle\"}, \"mode\": \"markers+text\", \"name\": \"left\", \"orientation\": \"v\", \"showlegend\": true, \"text\": [\"JoeBiden\", \"Kamala\", \"SocialDemocracy\", \"BaemyKlobaechar\", \"demsocialist\", \"BetoORourke\", \"ConservativeDemocrat\", \"progressive\", \"ElizabethWarren\", \"moderatepolitics\", \"SandersForPresident\", \"centerleftpolitics\", \"Pete_Buttigieg\", \"YangForPresidentHQ\", \"politics\", \"ChapoTrapHouse\"], \"x\": [-0.06395850595914646, -0.23959063161880273, -0.15103107623726025, -0.23540179825047464, -0.29523250894806974, -0.04924015897112757, -0.21052565815258362, -0.1750324547385643, -0.3096745577161612, -0.15183765224463122, -0.14847539207693905, -0.05600991832453221, -0.24573401196485375, -0.22361587441997294, -0.23399611298589945, -0.0036151581226636924], \"xaxis\": \"x\", \"y\": [-0.2170081816755779, -0.018347535540763623, -0.20657243935101036, -0.23567954281877374, -0.15919005152450053, -0.08614786720739294, -0.312718634800656, -0.06632604966876479, -0.09256359090475386, -0.11261352266318254, -0.08114972726748142, -0.11584200775986346, -0.2309113179699978, -0.061414986133404084, -0.08933817728851486, -0.10343579538221738], \"yaxis\": \"y\", \"type\": \"scatter\"}], \"name\": \"2019-01-01\"}, {\"data\": [{\"hovertemplate\": \"<b>%{hovertext}</b><br><br>partisan=right<br>animation_frame=2019-02-01<br>0=%{x}<br>1=%{y}<br>subreddit=%{text}<extra></extra>\", \"hovertext\": [\"Capitalism\", \"ShitPoliticsSays\", \"Conservative\", \"The_Donald\", \"progun\", \"Republican\"], \"ids\": [\"Capitalism\", \"ShitPoliticsSays\", \"Conservative\", \"The_Donald\", \"progun\", \"Republican\"], \"legendgroup\": \"right\", \"marker\": {\"color\": \"red\", \"opacity\": 0.7, \"symbol\": \"circle\"}, \"mode\": \"markers+text\", \"name\": \"right\", \"orientation\": \"v\", \"showlegend\": true, \"text\": [\"Capitalism\", \"ShitPoliticsSays\", \"Conservative\", \"The_Donald\", \"progun\", \"Republican\"], \"x\": [-0.06112193776573242, 0.02675264765330079, -0.09501146649712425, 0.012513934788276173, -0.03830745682972309, -0.11173731486296648], \"xaxis\": \"x\", \"y\": [-0.13765895570420938, -0.12454533149710645, -0.11437531484862089, -0.011613176689944368, -0.061810623599564546, -0.07824638876816196], \"yaxis\": \"y\", \"type\": \"scatter\"}, {\"hovertemplate\": \"<b>%{hovertext}</b><br><br>partisan=left<br>animation_frame=2019-02-01<br>0=%{x}<br>1=%{y}<br>subreddit=%{text}<extra></extra>\", \"hovertext\": [\"JoeBiden\", \"Kamala\", \"SocialDemocracy\", \"BaemyKlobaechar\", \"demsocialist\", \"BetoORourke\", \"ConservativeDemocrat\", \"progressive\", \"ElizabethWarren\", \"moderatepolitics\", \"SandersForPresident\", \"centerleftpolitics\", \"Pete_Buttigieg\", \"YangForPresidentHQ\", \"politics\", \"ChapoTrapHouse\"], \"ids\": [\"JoeBiden\", \"Kamala\", \"SocialDemocracy\", \"BaemyKlobaechar\", \"demsocialist\", \"BetoORourke\", \"ConservativeDemocrat\", \"progressive\", \"ElizabethWarren\", \"moderatepolitics\", \"SandersForPresident\", \"centerleftpolitics\", \"Pete_Buttigieg\", \"YangForPresidentHQ\", \"politics\", \"ChapoTrapHouse\"], \"legendgroup\": \"left\", \"marker\": {\"color\": \"blue\", \"opacity\": 0.7, \"symbol\": \"circle\"}, \"mode\": \"markers+text\", \"name\": \"left\", \"orientation\": \"v\", \"showlegend\": true, \"text\": [\"JoeBiden\", \"Kamala\", \"SocialDemocracy\", \"BaemyKlobaechar\", \"demsocialist\", \"BetoORourke\", \"ConservativeDemocrat\", \"progressive\", \"ElizabethWarren\", \"moderatepolitics\", \"SandersForPresident\", \"centerleftpolitics\", \"Pete_Buttigieg\", \"YangForPresidentHQ\", \"politics\", \"ChapoTrapHouse\"], \"x\": [-0.11809310269595918, -0.2167552497350453, -0.09634365188505968, -0.22784812038039653, -0.23775140189744903, -0.2661900015107905, -0.3044371756319364, -0.1645626961791031, -0.21519418289106204, -0.1858013803986803, -0.13857776416699202, -0.056468567266580956, -0.42724087090222124, -0.15677498570947934, -0.23027445341796535, 0.017410766536165488], \"xaxis\": \"x\", \"y\": [-0.21038739336336795, 0.03060167852997355, -0.1697783994805692, -0.15170824714616907, -0.17791438499315634, -0.038481692170125266, -0.24144562067621353, -0.05907624764679791, -0.1316615740844834, -0.1618205778849444, -0.09663352838852017, -0.0769211985376898, -0.14470382245982602, -0.0726172049340481, -0.10312397335810172, -0.10191668677547663], \"yaxis\": \"y\", \"type\": \"scatter\"}], \"name\": \"2019-02-01\"}, {\"data\": [{\"hovertemplate\": \"<b>%{hovertext}</b><br><br>partisan=right<br>animation_frame=2019-03-01<br>0=%{x}<br>1=%{y}<br>subreddit=%{text}<extra></extra>\", \"hovertext\": [\"Capitalism\", \"ShitPoliticsSays\", \"Conservative\", \"The_Donald\", \"progun\", \"Republican\"], \"ids\": [\"Capitalism\", \"ShitPoliticsSays\", \"Conservative\", \"The_Donald\", \"progun\", \"Republican\"], \"legendgroup\": \"right\", \"marker\": {\"color\": \"red\", \"opacity\": 0.7, \"symbol\": \"circle\"}, \"mode\": \"markers+text\", \"name\": \"right\", \"orientation\": \"v\", \"showlegend\": true, \"text\": [\"Capitalism\", \"ShitPoliticsSays\", \"Conservative\", \"The_Donald\", \"progun\", \"Republican\"], \"x\": [-0.07791909556677655, 0.03928405756632175, -0.10910339300521761, 0.025359570761857405, -0.010012842511200321, -0.1028759854633696], \"xaxis\": \"x\", \"y\": [-0.18440612981702673, -0.1293503871129913, -0.11164251889245051, -0.0200356954063887, -0.11141261648899373, -0.08061247996841434], \"yaxis\": \"y\", \"type\": \"scatter\"}, {\"hovertemplate\": \"<b>%{hovertext}</b><br><br>partisan=left<br>animation_frame=2019-03-01<br>0=%{x}<br>1=%{y}<br>subreddit=%{text}<extra></extra>\", \"hovertext\": [\"JoeBiden\", \"Kamala\", \"SocialDemocracy\", \"BaemyKlobaechar\", \"demsocialist\", \"BetoORourke\", \"ConservativeDemocrat\", \"progressive\", \"ElizabethWarren\", \"moderatepolitics\", \"SandersForPresident\", \"centerleftpolitics\", \"Pete_Buttigieg\", \"YangForPresidentHQ\", \"politics\", \"ChapoTrapHouse\"], \"ids\": [\"JoeBiden\", \"Kamala\", \"SocialDemocracy\", \"BaemyKlobaechar\", \"demsocialist\", \"BetoORourke\", \"ConservativeDemocrat\", \"progressive\", \"ElizabethWarren\", \"moderatepolitics\", \"SandersForPresident\", \"centerleftpolitics\", \"Pete_Buttigieg\", \"YangForPresidentHQ\", \"politics\", \"ChapoTrapHouse\"], \"legendgroup\": \"left\", \"marker\": {\"color\": \"blue\", \"opacity\": 0.7, \"symbol\": \"circle\"}, \"mode\": \"markers+text\", \"name\": \"left\", \"orientation\": \"v\", \"showlegend\": true, \"text\": [\"JoeBiden\", \"Kamala\", \"SocialDemocracy\", \"BaemyKlobaechar\", \"demsocialist\", \"BetoORourke\", \"ConservativeDemocrat\", \"progressive\", \"ElizabethWarren\", \"moderatepolitics\", \"SandersForPresident\", \"centerleftpolitics\", \"Pete_Buttigieg\", \"YangForPresidentHQ\", \"politics\", \"ChapoTrapHouse\"], \"x\": [-0.380677315845865, -0.2302670347796271, -0.13234443116217603, -0.4734751806106693, -0.259154837177047, -0.2817432476019197, -0.3408683292950223, -0.18465011826737612, -0.28518452573154446, -0.15769096011508688, -0.11433839024106406, -0.06234020351184458, -0.1759391024076471, -0.05369220404034011, -0.2147691856067517, 0.011188481745107713], \"xaxis\": \"x\", \"y\": [-0.07538293456995321, -0.11022329525767917, -0.24166217135709936, -0.13837246407726184, -0.19848823567012347, -0.10441799131071433, -0.17850831409618786, -0.028140278913131974, -0.11884591892555428, -0.1435681561398243, -0.12101276319877635, -0.07466728243254105, -0.0014274769999135903, -0.09665855547281665, -0.11453040680721546, -0.14267426943737088], \"yaxis\": \"y\", \"type\": \"scatter\"}], \"name\": \"2019-03-01\"}, {\"data\": [{\"hovertemplate\": \"<b>%{hovertext}</b><br><br>partisan=right<br>animation_frame=2019-04-01<br>0=%{x}<br>1=%{y}<br>subreddit=%{text}<extra></extra>\", \"hovertext\": [\"Republican\", \"progun\", \"The_Donald\", \"Conservative\", \"ShitPoliticsSays\", \"Capitalism\"], \"ids\": [\"Republican\", \"progun\", \"The_Donald\", \"Conservative\", \"ShitPoliticsSays\", \"Capitalism\"], \"legendgroup\": \"right\", \"marker\": {\"color\": \"red\", \"opacity\": 0.7, \"symbol\": \"circle\"}, \"mode\": \"markers+text\", \"name\": \"right\", \"orientation\": \"v\", \"showlegend\": true, \"text\": [\"Republican\", \"progun\", \"The_Donald\", \"Conservative\", \"ShitPoliticsSays\", \"Capitalism\"], \"x\": [-0.11835896775015994, -0.005457688738266903, 0.018028312687424577, -0.0904107375549478, 0.033170617458557844, -0.05494079899375256], \"xaxis\": \"x\", \"y\": [-0.06714511788275887, -0.06584391380839082, -0.007809831739157666, -0.15436420959987643, -0.16203924287527502, -0.14022607048683766], \"yaxis\": \"y\", \"type\": \"scatter\"}, {\"hovertemplate\": \"<b>%{hovertext}</b><br><br>partisan=left<br>animation_frame=2019-04-01<br>0=%{x}<br>1=%{y}<br>subreddit=%{text}<extra></extra>\", \"hovertext\": [\"ChapoTrapHouse\", \"politics\", \"YangForPresidentHQ\", \"Pete_Buttigieg\", \"centerleftpolitics\", \"SandersForPresident\", \"moderatepolitics\", \"ElizabethWarren\", \"progressive\", \"ConservativeDemocrat\", \"BetoORourke\", \"demsocialist\", \"BaemyKlobaechar\", \"SocialDemocracy\", \"Kamala\", \"JoeBiden\"], \"ids\": [\"ChapoTrapHouse\", \"politics\", \"YangForPresidentHQ\", \"Pete_Buttigieg\", \"centerleftpolitics\", \"SandersForPresident\", \"moderatepolitics\", \"ElizabethWarren\", \"progressive\", \"ConservativeDemocrat\", \"BetoORourke\", \"demsocialist\", \"BaemyKlobaechar\", \"SocialDemocracy\", \"Kamala\", \"JoeBiden\"], \"legendgroup\": \"left\", \"marker\": {\"color\": \"blue\", \"opacity\": 0.7, \"symbol\": \"circle\"}, \"mode\": \"markers+text\", \"name\": \"left\", \"orientation\": \"v\", \"showlegend\": true, \"text\": [\"ChapoTrapHouse\", \"politics\", \"YangForPresidentHQ\", \"Pete_Buttigieg\", \"centerleftpolitics\", \"SandersForPresident\", \"moderatepolitics\", \"ElizabethWarren\", \"progressive\", \"ConservativeDemocrat\", \"BetoORourke\", \"demsocialist\", \"BaemyKlobaechar\", \"SocialDemocracy\", \"Kamala\", \"JoeBiden\"], \"x\": [0.018030994885137933, -0.2033513514758905, -0.0713298979791246, -0.20398595142747003, -0.06127120231670396, -0.11234826286217565, -0.16959492642948984, -0.21599753201499733, -0.2146251045847806, -0.26060892621936765, -0.21951602373855808, -0.2841766847801795, -0.28190996075040614, -0.13092701727619144, -0.2284751037571517, -0.2603313332384389], \"xaxis\": \"x\", \"y\": [-0.1343774421811454, -0.11218341227608185, -0.09845730940770579, -0.0778566767131803, -0.1031965798713714, -0.10300009300901082, -0.14392005968728963, -0.0692502208877613, -0.06050260920976291, -0.22700956832248828, -0.2332979831504089, -0.13849431662921985, -0.21792250248794726, -0.2479810408572963, -0.031690475331925476, -0.0510109215838248], \"yaxis\": \"y\", \"type\": \"scatter\"}], \"name\": \"2019-04-01\"}, {\"data\": [{\"hovertemplate\": \"<b>%{hovertext}</b><br><br>partisan=right<br>animation_frame=2019-05-01<br>0=%{x}<br>1=%{y}<br>subreddit=%{text}<extra></extra>\", \"hovertext\": [\"Capitalism\", \"ShitPoliticsSays\", \"Conservative\", \"The_Donald\", \"progun\", \"Republican\"], \"ids\": [\"Capitalism\", \"ShitPoliticsSays\", \"Conservative\", \"The_Donald\", \"progun\", \"Republican\"], \"legendgroup\": \"right\", \"marker\": {\"color\": \"red\", \"opacity\": 0.7, \"symbol\": \"circle\"}, \"mode\": \"markers+text\", \"name\": \"right\", \"orientation\": \"v\", \"showlegend\": true, \"text\": [\"Capitalism\", \"ShitPoliticsSays\", \"Conservative\", \"The_Donald\", \"progun\", \"Republican\"], \"x\": [-0.04538588387618777, 0.024057560851861552, -0.09998897094609552, 0.03120480849483491, -0.01708419295340097, -0.12455136356511488], \"xaxis\": \"x\", \"y\": [-0.15824248537520505, -0.16990915593925654, -0.1588555947018577, -0.0290368260038223, -0.09213584010591082, -0.034159261163984], \"yaxis\": \"y\", \"type\": \"scatter\"}, {\"hovertemplate\": \"<b>%{hovertext}</b><br><br>partisan=left<br>animation_frame=2019-05-01<br>0=%{x}<br>1=%{y}<br>subreddit=%{text}<extra></extra>\", \"hovertext\": [\"JoeBiden\", \"Kamala\", \"SocialDemocracy\", \"BaemyKlobaechar\", \"demsocialist\", \"BetoORourke\", \"ConservativeDemocrat\", \"progressive\", \"ElizabethWarren\", \"moderatepolitics\", \"SandersForPresident\", \"centerleftpolitics\", \"Pete_Buttigieg\", \"YangForPresidentHQ\", \"politics\", \"ChapoTrapHouse\"], \"ids\": [\"JoeBiden\", \"Kamala\", \"SocialDemocracy\", \"BaemyKlobaechar\", \"demsocialist\", \"BetoORourke\", \"ConservativeDemocrat\", \"progressive\", \"ElizabethWarren\", \"moderatepolitics\", \"SandersForPresident\", \"centerleftpolitics\", \"Pete_Buttigieg\", \"YangForPresidentHQ\", \"politics\", \"ChapoTrapHouse\"], \"legendgroup\": \"left\", \"marker\": {\"color\": \"blue\", \"opacity\": 0.7, \"symbol\": \"circle\"}, \"mode\": \"markers+text\", \"name\": \"left\", \"orientation\": \"v\", \"showlegend\": true, \"text\": [\"JoeBiden\", \"Kamala\", \"SocialDemocracy\", \"BaemyKlobaechar\", \"demsocialist\", \"BetoORourke\", \"ConservativeDemocrat\", \"progressive\", \"ElizabethWarren\", \"moderatepolitics\", \"SandersForPresident\", \"centerleftpolitics\", \"Pete_Buttigieg\", \"YangForPresidentHQ\", \"politics\", \"ChapoTrapHouse\"], \"x\": [-0.19737925198666328, -0.16116981552094234, -0.13044396112093895, -0.23416756878065773, -0.2742541936799254, -0.2569637392583653, -0.4099757216979593, -0.18603837336843834, -0.20920801731242614, -0.15926927710480454, -0.14255662366929037, -0.034793682565702595, -0.1859793593971867, -0.05511711279828531, -0.2058733275816613, 0.02490250702279249], \"xaxis\": \"x\", \"y\": [-0.033950757101847445, -0.0023780930609210416, -0.23386937242266598, -0.10184609130962764, -0.2323715263321492, -0.1622523850693516, -0.23877310380834232, -0.0908650955966963, -0.08720110734867222, -0.14517955888861703, -0.08471686624836115, -0.10705926588327008, -0.05368112986212684, -0.10250574410286703, -0.09650504793895677, -0.14268624788139653], \"yaxis\": \"y\", \"type\": \"scatter\"}], \"name\": \"2019-05-01\"}, {\"data\": [{\"hovertemplate\": \"<b>%{hovertext}</b><br><br>partisan=right<br>animation_frame=2019-06-01<br>0=%{x}<br>1=%{y}<br>subreddit=%{text}<extra></extra>\", \"hovertext\": [\"Republican\", \"progun\", \"The_Donald\", \"Conservative\", \"ShitPoliticsSays\", \"Capitalism\"], \"ids\": [\"Republican\", \"progun\", \"The_Donald\", \"Conservative\", \"ShitPoliticsSays\", \"Capitalism\"], \"legendgroup\": \"right\", \"marker\": {\"color\": \"red\", \"opacity\": 0.7, \"symbol\": \"circle\"}, \"mode\": \"markers+text\", \"name\": \"right\", \"orientation\": \"v\", \"showlegend\": true, \"text\": [\"Republican\", \"progun\", \"The_Donald\", \"Conservative\", \"ShitPoliticsSays\", \"Capitalism\"], \"x\": [-0.12674277869631254, -0.014659317234096162, 0.02697687155643326, -0.06893542741535875, 0.02557768671191478, -0.09102142823483746], \"xaxis\": \"x\", \"y\": [-0.04244935823258482, -0.07446209816786155, -0.020095555126926685, -0.13399618411314412, -0.15136286826547185, -0.16943349693574775], \"yaxis\": \"y\", \"type\": \"scatter\"}, {\"hovertemplate\": \"<b>%{hovertext}</b><br><br>partisan=left<br>animation_frame=2019-06-01<br>0=%{x}<br>1=%{y}<br>subreddit=%{text}<extra></extra>\", \"hovertext\": [\"ChapoTrapHouse\", \"politics\", \"YangForPresidentHQ\", \"Pete_Buttigieg\", \"centerleftpolitics\", \"SandersForPresident\", \"moderatepolitics\", \"ElizabethWarren\", \"progressive\", \"ConservativeDemocrat\", \"BetoORourke\", \"demsocialist\", \"BaemyKlobaechar\", \"SocialDemocracy\", \"Kamala\", \"JoeBiden\"], \"ids\": [\"ChapoTrapHouse\", \"politics\", \"YangForPresidentHQ\", \"Pete_Buttigieg\", \"centerleftpolitics\", \"SandersForPresident\", \"moderatepolitics\", \"ElizabethWarren\", \"progressive\", \"ConservativeDemocrat\", \"BetoORourke\", \"demsocialist\", \"BaemyKlobaechar\", \"SocialDemocracy\", \"Kamala\", \"JoeBiden\"], \"legendgroup\": \"left\", \"marker\": {\"color\": \"blue\", \"opacity\": 0.7, \"symbol\": \"circle\"}, \"mode\": \"markers+text\", \"name\": \"left\", \"orientation\": \"v\", \"showlegend\": true, \"text\": [\"ChapoTrapHouse\", \"politics\", \"YangForPresidentHQ\", \"Pete_Buttigieg\", \"centerleftpolitics\", \"SandersForPresident\", \"moderatepolitics\", \"ElizabethWarren\", \"progressive\", \"ConservativeDemocrat\", \"BetoORourke\", \"demsocialist\", \"BaemyKlobaechar\", \"SocialDemocracy\", \"Kamala\", \"JoeBiden\"], \"x\": [0.038050844537524595, -0.19072272884226127, -0.06812803724987754, -0.14741184237617216, -0.05390181811042951, -0.13572723848872145, -0.15003094402939773, -0.19377191353553622, -0.19918269732717, -0.3054845775811322, -0.2453546271891708, -0.15288525287830773, -0.1962290967897874, -0.03527071091657069, -0.22830030347244074, -0.17477137275210405], \"xaxis\": \"x\", \"y\": [-0.14437646534243875, -0.11262379641445704, -0.10326976474056464, -0.04773039149107528, -0.11108614343686801, -0.15608512644298086, -0.18007961124992214, -0.07743561717542714, -0.1068910927260131, -0.1428931574923976, 0.05954031905665937, -0.3073082951329102, -0.12446167221465923, -0.2424969150547884, -0.05166120619051531, -0.07794416913092693], \"yaxis\": \"y\", \"type\": \"scatter\"}], \"name\": \"2019-06-01\"}, {\"data\": [{\"hovertemplate\": \"<b>%{hovertext}</b><br><br>partisan=right<br>animation_frame=2019-07-01<br>0=%{x}<br>1=%{y}<br>subreddit=%{text}<extra></extra>\", \"hovertext\": [\"Republican\", \"progun\", \"The_Donald\", \"Conservative\", \"ShitPoliticsSays\", \"Capitalism\"], \"ids\": [\"Republican\", \"progun\", \"The_Donald\", \"Conservative\", \"ShitPoliticsSays\", \"Capitalism\"], \"legendgroup\": \"right\", \"marker\": {\"color\": \"red\", \"opacity\": 0.7, \"symbol\": \"circle\"}, \"mode\": \"markers+text\", \"name\": \"right\", \"orientation\": \"v\", \"showlegend\": true, \"text\": [\"Republican\", \"progun\", \"The_Donald\", \"Conservative\", \"ShitPoliticsSays\", \"Capitalism\"], \"x\": [-0.11372273498033082, 0.007217978564500077, 0.053810389104868746, -0.06842762151111519, 0.019611959026281597, -0.03939511570983088], \"xaxis\": \"x\", \"y\": [-0.040675119303684344, -0.08888063077576526, 0.0012095658595646943, -0.13582305066452902, -0.17191970022985573, -0.12869138134987834], \"yaxis\": \"y\", \"type\": \"scatter\"}, {\"hovertemplate\": \"<b>%{hovertext}</b><br><br>partisan=left<br>animation_frame=2019-07-01<br>0=%{x}<br>1=%{y}<br>subreddit=%{text}<extra></extra>\", \"hovertext\": [\"ChapoTrapHouse\", \"politics\", \"YangForPresidentHQ\", \"Pete_Buttigieg\", \"centerleftpolitics\", \"SandersForPresident\", \"moderatepolitics\", \"ElizabethWarren\", \"progressive\", \"ConservativeDemocrat\", \"BetoORourke\", \"demsocialist\", \"BaemyKlobaechar\", \"SocialDemocracy\", \"Kamala\", \"JoeBiden\"], \"ids\": [\"ChapoTrapHouse\", \"politics\", \"YangForPresidentHQ\", \"Pete_Buttigieg\", \"centerleftpolitics\", \"SandersForPresident\", \"moderatepolitics\", \"ElizabethWarren\", \"progressive\", \"ConservativeDemocrat\", \"BetoORourke\", \"demsocialist\", \"BaemyKlobaechar\", \"SocialDemocracy\", \"Kamala\", \"JoeBiden\"], \"legendgroup\": \"left\", \"marker\": {\"color\": \"blue\", \"opacity\": 0.7, \"symbol\": \"circle\"}, \"mode\": \"markers+text\", \"name\": \"left\", \"orientation\": \"v\", \"showlegend\": true, \"text\": [\"ChapoTrapHouse\", \"politics\", \"YangForPresidentHQ\", \"Pete_Buttigieg\", \"centerleftpolitics\", \"SandersForPresident\", \"moderatepolitics\", \"ElizabethWarren\", \"progressive\", \"ConservativeDemocrat\", \"BetoORourke\", \"demsocialist\", \"BaemyKlobaechar\", \"SocialDemocracy\", \"Kamala\", \"JoeBiden\"], \"x\": [0.006630287238185195, -0.1828556633145629, -0.09025536987407573, -0.17310307776928197, -0.03669399630033466, -0.10123297986936637, -0.1540166226068447, -0.17750292680404164, -0.2039153773768969, -0.070706499766355, -0.3686439300911976, -0.3339466710882481, -0.43372442552644086, -0.08603762460434958, -0.18901666723007315, -0.1148943175120102], \"xaxis\": \"x\", \"y\": [-0.14217940728805228, -0.11682665895697908, -0.12088740615618061, -0.04162628446298323, -0.10036901290147374, -0.12106771749669905, -0.1380180769773405, -0.09180865192350736, -0.08462392188017387, -0.24042418655395437, -0.10837999488543719, -0.17134421417532192, -0.07015793972930828, -0.3356256226116708, -0.052261625850401845, -0.03650063460492723], \"yaxis\": \"y\", \"type\": \"scatter\"}], \"name\": \"2019-07-01\"}, {\"data\": [{\"hovertemplate\": \"<b>%{hovertext}</b><br><br>partisan=right<br>animation_frame=2019-08-01<br>0=%{x}<br>1=%{y}<br>subreddit=%{text}<extra></extra>\", \"hovertext\": [\"Capitalism\", \"ShitPoliticsSays\", \"Conservative\", \"The_Donald\", \"progun\", \"Republican\"], \"ids\": [\"Capitalism\", \"ShitPoliticsSays\", \"Conservative\", \"The_Donald\", \"progun\", \"Republican\"], \"legendgroup\": \"right\", \"marker\": {\"color\": \"red\", \"opacity\": 0.7, \"symbol\": \"circle\"}, \"mode\": \"markers+text\", \"name\": \"right\", \"orientation\": \"v\", \"showlegend\": true, \"text\": [\"Capitalism\", \"ShitPoliticsSays\", \"Conservative\", \"The_Donald\", \"progun\", \"Republican\"], \"x\": [-0.03742380835497006, 0.04914490746762746, -0.0773483204747751, 0.05429979127578268, 0.0018582796003379204, -0.09074963735035728], \"xaxis\": \"x\", \"y\": [-0.18480550712671784, -0.16996914366260385, -0.14632460930193558, 0.0037471182699992237, -0.12272110891173756, -0.06324072262787826], \"yaxis\": \"y\", \"type\": \"scatter\"}, {\"hovertemplate\": \"<b>%{hovertext}</b><br><br>partisan=left<br>animation_frame=2019-08-01<br>0=%{x}<br>1=%{y}<br>subreddit=%{text}<extra></extra>\", \"hovertext\": [\"JoeBiden\", \"Kamala\", \"SocialDemocracy\", \"BaemyKlobaechar\", \"demsocialist\", \"BetoORourke\", \"ConservativeDemocrat\", \"progressive\", \"ElizabethWarren\", \"moderatepolitics\", \"SandersForPresident\", \"centerleftpolitics\", \"Pete_Buttigieg\", \"YangForPresidentHQ\", \"politics\", \"ChapoTrapHouse\"], \"ids\": [\"JoeBiden\", \"Kamala\", \"SocialDemocracy\", \"BaemyKlobaechar\", \"demsocialist\", \"BetoORourke\", \"ConservativeDemocrat\", \"progressive\", \"ElizabethWarren\", \"moderatepolitics\", \"SandersForPresident\", \"centerleftpolitics\", \"Pete_Buttigieg\", \"YangForPresidentHQ\", \"politics\", \"ChapoTrapHouse\"], \"legendgroup\": \"left\", \"marker\": {\"color\": \"blue\", \"opacity\": 0.7, \"symbol\": \"circle\"}, \"mode\": \"markers+text\", \"name\": \"left\", \"orientation\": \"v\", \"showlegend\": true, \"text\": [\"JoeBiden\", \"Kamala\", \"SocialDemocracy\", \"BaemyKlobaechar\", \"demsocialist\", \"BetoORourke\", \"ConservativeDemocrat\", \"progressive\", \"ElizabethWarren\", \"moderatepolitics\", \"SandersForPresident\", \"centerleftpolitics\", \"Pete_Buttigieg\", \"YangForPresidentHQ\", \"politics\", \"ChapoTrapHouse\"], \"x\": [-0.1568916777588824, -0.23003737330060087, -0.047022608105938835, -0.4302818061508173, -0.2556649593978669, -0.15846464465396914, -0.20820264282365267, -0.14253236114572002, -0.17227003159343768, -0.1486213935169702, -0.15454811403688695, -0.029473958753180197, -0.16623580802531943, -0.07072661083629522, -0.18782234908735865, 0.030445870348252503], \"xaxis\": \"x\", \"y\": [-0.12195370688920638, -0.05641410556787666, -0.26913241531611387, -0.1187956429858838, -0.22380633107645245, 0.1334298293427894, -0.1964845528975014, -0.08137519321718412, -0.058628699061686905, -0.14523301688324494, -0.15987929664022513, -0.1433847735958801, -0.06652820011582997, -0.1117007286750321, -0.11450695850490314, -0.1353847692215015], \"yaxis\": \"y\", \"type\": \"scatter\"}], \"name\": \"2019-08-01\"}, {\"data\": [{\"hovertemplate\": \"<b>%{hovertext}</b><br><br>partisan=right<br>animation_frame=2019-09-01<br>0=%{x}<br>1=%{y}<br>subreddit=%{text}<extra></extra>\", \"hovertext\": [\"Republican\", \"progun\", \"The_Donald\", \"Conservative\", \"ShitPoliticsSays\", \"Capitalism\"], \"ids\": [\"Republican\", \"progun\", \"The_Donald\", \"Conservative\", \"ShitPoliticsSays\", \"Capitalism\"], \"legendgroup\": \"right\", \"marker\": {\"color\": \"red\", \"opacity\": 0.7, \"symbol\": \"circle\"}, \"mode\": \"markers+text\", \"name\": \"right\", \"orientation\": \"v\", \"showlegend\": true, \"text\": [\"Republican\", \"progun\", \"The_Donald\", \"Conservative\", \"ShitPoliticsSays\", \"Capitalism\"], \"x\": [-0.0933652182105783, 0.004197207342894316, 0.05665004942102522, -0.07973280856790468, 0.05244735617848351, -0.034787446321979575], \"xaxis\": \"x\", \"y\": [-0.05669328922203403, -0.12807291343031713, 0.006976198857748465, -0.1437219570798981, -0.14390215590553362, -0.15550128269499072], \"yaxis\": \"y\", \"type\": \"scatter\"}, {\"hovertemplate\": \"<b>%{hovertext}</b><br><br>partisan=left<br>animation_frame=2019-09-01<br>0=%{x}<br>1=%{y}<br>subreddit=%{text}<extra></extra>\", \"hovertext\": [\"ChapoTrapHouse\", \"YangForPresidentHQ\", \"Pete_Buttigieg\", \"centerleftpolitics\", \"SandersForPresident\", \"moderatepolitics\", \"ElizabethWarren\", \"progressive\", \"ConservativeDemocrat\", \"BetoORourke\", \"demsocialist\", \"BaemyKlobaechar\", \"politics\", \"SocialDemocracy\", \"Kamala\", \"JoeBiden\"], \"ids\": [\"ChapoTrapHouse\", \"YangForPresidentHQ\", \"Pete_Buttigieg\", \"centerleftpolitics\", \"SandersForPresident\", \"moderatepolitics\", \"ElizabethWarren\", \"progressive\", \"ConservativeDemocrat\", \"BetoORourke\", \"demsocialist\", \"BaemyKlobaechar\", \"politics\", \"SocialDemocracy\", \"Kamala\", \"JoeBiden\"], \"legendgroup\": \"left\", \"marker\": {\"color\": \"blue\", \"opacity\": 0.7, \"symbol\": \"circle\"}, \"mode\": \"markers+text\", \"name\": \"left\", \"orientation\": \"v\", \"showlegend\": true, \"text\": [\"ChapoTrapHouse\", \"YangForPresidentHQ\", \"Pete_Buttigieg\", \"centerleftpolitics\", \"SandersForPresident\", \"moderatepolitics\", \"ElizabethWarren\", \"progressive\", \"ConservativeDemocrat\", \"BetoORourke\", \"demsocialist\", \"BaemyKlobaechar\", \"politics\", \"SocialDemocracy\", \"Kamala\", \"JoeBiden\"], \"x\": [0.03601465251527294, -0.05394148613520026, -0.16455656449978273, -0.056367449515883836, -0.11928613608578459, -0.14819585954206568, -0.20271430806965243, -0.1469415642179207, -0.2656398276603838, -0.3109124073153463, -0.2543013092395249, -0.34967606863148903, -0.16466818687602322, -0.07699449771899955, -0.20275900256917676, -0.12138815724502593], \"xaxis\": \"x\", \"y\": [-0.13182264031662216, -0.10425912972090737, -0.030174935163368763, -0.10396700698489365, -0.13313654199682717, -0.1365377855622642, -0.06278378880838757, -0.08693314579410424, -0.1430193236556084, -0.09743662008970769, -0.27956960105828, -0.19460088169746723, -0.08647090967230103, -0.2225484397726676, 0.06800518427281953, -0.08569325597584158], \"yaxis\": \"y\", \"type\": \"scatter\"}], \"name\": \"2019-09-01\"}, {\"data\": [{\"hovertemplate\": \"<b>%{hovertext}</b><br><br>partisan=right<br>animation_frame=2019-10-01<br>0=%{x}<br>1=%{y}<br>subreddit=%{text}<extra></extra>\", \"hovertext\": [\"Capitalism\", \"ShitPoliticsSays\", \"Conservative\", \"The_Donald\", \"progun\", \"Republican\"], \"ids\": [\"Capitalism\", \"ShitPoliticsSays\", \"Conservative\", \"The_Donald\", \"progun\", \"Republican\"], \"legendgroup\": \"right\", \"marker\": {\"color\": \"red\", \"opacity\": 0.7, \"symbol\": \"circle\"}, \"mode\": \"markers+text\", \"name\": \"right\", \"orientation\": \"v\", \"showlegend\": true, \"text\": [\"Capitalism\", \"ShitPoliticsSays\", \"Conservative\", \"The_Donald\", \"progun\", \"Republican\"], \"x\": [-0.03487331084164392, 0.04025196068435451, -0.0928599729679301, 0.03898965987938613, 0.028764656051340685, -0.09286019450487559], \"xaxis\": \"x\", \"y\": [-0.0926678255339369, -0.15600779412385568, -0.10670997976159591, 0.01794944453578751, -0.08850701907461052, -0.00970424520677524], \"yaxis\": \"y\", \"type\": \"scatter\"}, {\"hovertemplate\": \"<b>%{hovertext}</b><br><br>partisan=left<br>animation_frame=2019-10-01<br>0=%{x}<br>1=%{y}<br>subreddit=%{text}<extra></extra>\", \"hovertext\": [\"JoeBiden\", \"Kamala\", \"SocialDemocracy\", \"BaemyKlobaechar\", \"demsocialist\", \"BetoORourke\", \"ConservativeDemocrat\", \"progressive\", \"ElizabethWarren\", \"moderatepolitics\", \"SandersForPresident\", \"centerleftpolitics\", \"Pete_Buttigieg\", \"YangForPresidentHQ\", \"politics\", \"ChapoTrapHouse\"], \"ids\": [\"JoeBiden\", \"Kamala\", \"SocialDemocracy\", \"BaemyKlobaechar\", \"demsocialist\", \"BetoORourke\", \"ConservativeDemocrat\", \"progressive\", \"ElizabethWarren\", \"moderatepolitics\", \"SandersForPresident\", \"centerleftpolitics\", \"Pete_Buttigieg\", \"YangForPresidentHQ\", \"politics\", \"ChapoTrapHouse\"], \"legendgroup\": \"left\", \"marker\": {\"color\": \"blue\", \"opacity\": 0.7, \"symbol\": \"circle\"}, \"mode\": \"markers+text\", \"name\": \"left\", \"orientation\": \"v\", \"showlegend\": true, \"text\": [\"JoeBiden\", \"Kamala\", \"SocialDemocracy\", \"BaemyKlobaechar\", \"demsocialist\", \"BetoORourke\", \"ConservativeDemocrat\", \"progressive\", \"ElizabethWarren\", \"moderatepolitics\", \"SandersForPresident\", \"centerleftpolitics\", \"Pete_Buttigieg\", \"YangForPresidentHQ\", \"politics\", \"ChapoTrapHouse\"], \"x\": [-0.15168647489399115, -0.10438330746191768, -0.13371403314949004, -0.4259457263350567, -0.3859197409290071, -0.15374051040222517, -0.23612036961784774, -0.20668653053301178, -0.19600431736597734, -0.13867452859231486, -0.13002724163785467, -0.041626518982115314, -0.142115447397517, -0.07014509436115829, -0.19547850652086785, 0.03475261197433257], \"xaxis\": \"x\", \"y\": [-0.037287557131386845, 0.06342107947708765, -0.1843484926247885, -0.00884809387790208, -0.24466913000838514, -0.015204192435859179, -0.2338109255427897, 0.0011026202859481902, -0.10376873905235494, -0.11703130987733527, -0.13221071684408395, -0.1443417195973919, -0.06614131998682839, -0.12311759202063138, -0.11081808064558464, -0.12710738900349458], \"yaxis\": \"y\", \"type\": \"scatter\"}], \"name\": \"2019-10-01\"}, {\"data\": [{\"hovertemplate\": \"<b>%{hovertext}</b><br><br>partisan=right<br>animation_frame=2019-11-01<br>0=%{x}<br>1=%{y}<br>subreddit=%{text}<extra></extra>\", \"hovertext\": [\"Capitalism\", \"ShitPoliticsSays\", \"Conservative\", \"The_Donald\", \"progun\", \"Republican\"], \"ids\": [\"Capitalism\", \"ShitPoliticsSays\", \"Conservative\", \"The_Donald\", \"progun\", \"Republican\"], \"legendgroup\": \"right\", \"marker\": {\"color\": \"red\", \"opacity\": 0.7, \"symbol\": \"circle\"}, \"mode\": \"markers+text\", \"name\": \"right\", \"orientation\": \"v\", \"showlegend\": true, \"text\": [\"Capitalism\", \"ShitPoliticsSays\", \"Conservative\", \"The_Donald\", \"progun\", \"Republican\"], \"x\": [-0.08391386950775334, 0.09214782510874724, -0.08899548195096516, 0.05046805252344771, 0.03168798696506727, -0.10264650404487606], \"xaxis\": \"x\", \"y\": [-0.14306926513800963, -0.13553671833440353, -0.09780963534852309, 0.03314531684363664, -0.12121400753382991, -0.010136035053099679], \"yaxis\": \"y\", \"type\": \"scatter\"}, {\"hovertemplate\": \"<b>%{hovertext}</b><br><br>partisan=left<br>animation_frame=2019-11-01<br>0=%{x}<br>1=%{y}<br>subreddit=%{text}<extra></extra>\", \"hovertext\": [\"JoeBiden\", \"Kamala\", \"SocialDemocracy\", \"BaemyKlobaechar\", \"demsocialist\", \"BetoORourke\", \"ConservativeDemocrat\", \"progressive\", \"ElizabethWarren\", \"moderatepolitics\", \"SandersForPresident\", \"centerleftpolitics\", \"Pete_Buttigieg\", \"YangForPresidentHQ\", \"politics\", \"ChapoTrapHouse\"], \"ids\": [\"JoeBiden\", \"Kamala\", \"SocialDemocracy\", \"BaemyKlobaechar\", \"demsocialist\", \"BetoORourke\", \"ConservativeDemocrat\", \"progressive\", \"ElizabethWarren\", \"moderatepolitics\", \"SandersForPresident\", \"centerleftpolitics\", \"Pete_Buttigieg\", \"YangForPresidentHQ\", \"politics\", \"ChapoTrapHouse\"], \"legendgroup\": \"left\", \"marker\": {\"color\": \"blue\", \"opacity\": 0.7, \"symbol\": \"circle\"}, \"mode\": \"markers+text\", \"name\": \"left\", \"orientation\": \"v\", \"showlegend\": true, \"text\": [\"JoeBiden\", \"Kamala\", \"SocialDemocracy\", \"BaemyKlobaechar\", \"demsocialist\", \"BetoORourke\", \"ConservativeDemocrat\", \"progressive\", \"ElizabethWarren\", \"moderatepolitics\", \"SandersForPresident\", \"centerleftpolitics\", \"Pete_Buttigieg\", \"YangForPresidentHQ\", \"politics\", \"ChapoTrapHouse\"], \"x\": [-0.15655379652331416, -0.14582331028586487, -0.11202902859518686, -0.22644110285986527, -0.19913863371438714, -0.1804317054281391, -0.3121194206987009, -0.15576512970826062, -0.18566754816837508, -0.1484308080229461, -0.1343616545209374, -0.07948426521907132, -0.1688506391952497, -0.04469139177849951, -0.2054852306985305, 0.03332861751554805], \"xaxis\": \"x\", \"y\": [-0.09999633755115123, 0.010677362820599046, -0.21862663886836767, -0.15955385821182427, -0.19234236668990654, -0.08959109108265964, -0.2699427502228632, -0.04680103381818011, -0.06953090390102333, -0.10237188528410804, -0.12835448596840662, -0.09293870915666479, -0.0503511973767542, -0.08913261296738804, -0.07436785356917598, -0.11763111002970406], \"yaxis\": \"y\", \"type\": \"scatter\"}], \"name\": \"2019-11-01\"}, {\"data\": [{\"hovertemplate\": \"<b>%{hovertext}</b><br><br>partisan=right<br>animation_frame=2019-12-01<br>0=%{x}<br>1=%{y}<br>subreddit=%{text}<extra></extra>\", \"hovertext\": [\"Capitalism\", \"ShitPoliticsSays\", \"Conservative\", \"The_Donald\", \"progun\", \"Republican\"], \"ids\": [\"Capitalism\", \"ShitPoliticsSays\", \"Conservative\", \"The_Donald\", \"progun\", \"Republican\"], \"legendgroup\": \"right\", \"marker\": {\"color\": \"red\", \"opacity\": 0.7, \"symbol\": \"circle\"}, \"mode\": \"markers+text\", \"name\": \"right\", \"orientation\": \"v\", \"showlegend\": true, \"text\": [\"Capitalism\", \"ShitPoliticsSays\", \"Conservative\", \"The_Donald\", \"progun\", \"Republican\"], \"x\": [-0.02351536690241077, 0.05449646960572208, -0.05232671411152655, 0.04315050090995376, 0.03772352122055887, -0.06672256796043415], \"xaxis\": \"x\", \"y\": [-0.14356605733191416, -0.12627492236804677, -0.09594571342648073, 0.01483228314336334, -0.09864347353245848, -0.013361709622148442], \"yaxis\": \"y\", \"type\": \"scatter\"}, {\"hovertemplate\": \"<b>%{hovertext}</b><br><br>partisan=left<br>animation_frame=2019-12-01<br>0=%{x}<br>1=%{y}<br>subreddit=%{text}<extra></extra>\", \"hovertext\": [\"JoeBiden\", \"Kamala\", \"SocialDemocracy\", \"BaemyKlobaechar\", \"demsocialist\", \"BetoORourke\", \"ConservativeDemocrat\", \"progressive\", \"ElizabethWarren\", \"moderatepolitics\", \"SandersForPresident\", \"centerleftpolitics\", \"Pete_Buttigieg\", \"YangForPresidentHQ\", \"politics\", \"ChapoTrapHouse\"], \"ids\": [\"JoeBiden\", \"Kamala\", \"SocialDemocracy\", \"BaemyKlobaechar\", \"demsocialist\", \"BetoORourke\", \"ConservativeDemocrat\", \"progressive\", \"ElizabethWarren\", \"moderatepolitics\", \"SandersForPresident\", \"centerleftpolitics\", \"Pete_Buttigieg\", \"YangForPresidentHQ\", \"politics\", \"ChapoTrapHouse\"], \"legendgroup\": \"left\", \"marker\": {\"color\": \"blue\", \"opacity\": 0.7, \"symbol\": \"circle\"}, \"mode\": \"markers+text\", \"name\": \"left\", \"orientation\": \"v\", \"showlegend\": true, \"text\": [\"JoeBiden\", \"Kamala\", \"SocialDemocracy\", \"BaemyKlobaechar\", \"demsocialist\", \"BetoORourke\", \"ConservativeDemocrat\", \"progressive\", \"ElizabethWarren\", \"moderatepolitics\", \"SandersForPresident\", \"centerleftpolitics\", \"Pete_Buttigieg\", \"YangForPresidentHQ\", \"politics\", \"ChapoTrapHouse\"], \"x\": [-0.12503769245057902, -0.11422815956631369, -0.052493139183904414, -0.2803329176539782, -0.4342991566198291, -0.3367134441408395, -0.24035300204555102, -0.1822411650908615, -0.1893277046772599, -0.15948630920838422, -0.13063390063110758, -0.07964243328340306, -0.16928295336313268, -0.09303071165597739, -0.20049626922195327, 0.022151197975108252], \"xaxis\": \"x\", \"y\": [-0.04285831689928111, 0.005470000883236527, -0.2304737782345031, -0.16369293069473745, -0.12183744198141347, -0.1281246368669727, -0.25324477577626575, -0.05535338675636315, -0.0668901750164901, -0.11504576570791525, -0.12998389827096404, -0.13341430554723407, -0.08874669172474983, -0.10889369368283228, -0.10014868573072172, -0.13053115573678742], \"yaxis\": \"y\", \"type\": \"scatter\"}], \"name\": \"2019-12-01\"}]);\n",
       "                        }).then(function(){\n",
       "                            \n",
       "var gd = document.getElementById('82abff13-73a2-431c-bd38-9d0cb56155f1');\n",
       "var x = new MutationObserver(function (mutations, observer) {{\n",
       "        var display = window.getComputedStyle(gd).display;\n",
       "        if (!display || display === 'none') {{\n",
       "            console.log([gd, 'removed!']);\n",
       "            Plotly.purge(gd);\n",
       "            observer.disconnect();\n",
       "        }}\n",
       "}});\n",
       "\n",
       "// Listen for the removal of the full notebook cells\n",
       "var notebookContainer = gd.closest('#notebook-container');\n",
       "if (notebookContainer) {{\n",
       "    x.observe(notebookContainer, {childList: true});\n",
       "}}\n",
       "\n",
       "// Listen for the clearing of the current output cell\n",
       "var outputEl = gd.closest('.output');\n",
       "if (outputEl) {{\n",
       "    x.observe(outputEl, {childList: true});\n",
       "}}\n",
       "\n",
       "                        })\n",
       "                };\n",
       "                });\n",
       "            </script>\n",
       "        </div>"
      ]
     },
     "metadata": {},
     "output_type": "display_data"
    }
   ],
   "source": [
    "(max_x, max_y), (min_x, min_y) = two_dim[[0,1]].max(axis=0), two_dim[[0,1]].min(axis=0)\n",
    "args = {\n",
    "    \"x\": 0,\n",
    "    \"y\": 1,\n",
    "    \"hover_name\": \"subreddit\",\n",
    "    \"text\": \"subreddit\",\n",
    "    \"opacity\": 0.7,\n",
    "    \"color\": \"partisan\",\n",
    "    \"animation_frame\": two_dim.week.astype(str),\n",
    "    \"animation_group\": \"subreddit\",\n",
    "    \"range_x\": [min_x-0.3,max_x+0.5],\n",
    "    \"range_y\": [min_y-0.3,min_y+0.5],\n",
    "    \"color_discrete_sequence\": [\"red\",\"blue\"]\n",
    "}\n",
    "fig = px.scatter(two_dim,**args)\n",
    "fig.update_traces(marker=dict(size=12,\n",
    "                              line=dict(width=2,\n",
    "                                        color='DarkSlateGrey')),\n",
    "                  selector=dict(mode='markers'))\n",
    "fig.write_html(\"visualizations/temporal/{}_2d_scatter.html\".format(TIME_FRAME))\n",
    "fig.show()"
   ]
  },
  {
   "cell_type": "code",
   "execution_count": 33,
   "metadata": {},
   "outputs": [
    {
     "data": {
      "text/html": [
       "<div>\n",
       "<style scoped>\n",
       "    .dataframe tbody tr th:only-of-type {\n",
       "        vertical-align: middle;\n",
       "    }\n",
       "\n",
       "    .dataframe tbody tr th {\n",
       "        vertical-align: top;\n",
       "    }\n",
       "\n",
       "    .dataframe thead th {\n",
       "        text-align: right;\n",
       "    }\n",
       "</style>\n",
       "<table border=\"1\" class=\"dataframe\">\n",
       "  <thead>\n",
       "    <tr style=\"text-align: right;\">\n",
       "      <th></th>\n",
       "      <th>week</th>\n",
       "      <th>subreddit</th>\n",
       "      <th>0</th>\n",
       "      <th>1</th>\n",
       "      <th>2</th>\n",
       "      <th>partisan</th>\n",
       "    </tr>\n",
       "  </thead>\n",
       "  <tbody>\n",
       "    <tr>\n",
       "      <th>70696</th>\n",
       "      <td>2019-01-01</td>\n",
       "      <td>Capitalism</td>\n",
       "      <td>-0.045538</td>\n",
       "      <td>-0.198166</td>\n",
       "      <td>-0.130173</td>\n",
       "      <td>right</td>\n",
       "    </tr>\n",
       "    <tr>\n",
       "      <th>69095</th>\n",
       "      <td>2019-01-01</td>\n",
       "      <td>JoeBiden</td>\n",
       "      <td>-0.064150</td>\n",
       "      <td>-0.217021</td>\n",
       "      <td>-0.172926</td>\n",
       "      <td>left</td>\n",
       "    </tr>\n",
       "    <tr>\n",
       "      <th>69674</th>\n",
       "      <td>2019-01-01</td>\n",
       "      <td>Kamala</td>\n",
       "      <td>-0.239700</td>\n",
       "      <td>-0.017868</td>\n",
       "      <td>0.003497</td>\n",
       "      <td>left</td>\n",
       "    </tr>\n",
       "    <tr>\n",
       "      <th>73090</th>\n",
       "      <td>2019-01-01</td>\n",
       "      <td>SocialDemocracy</td>\n",
       "      <td>-0.151248</td>\n",
       "      <td>-0.205902</td>\n",
       "      <td>-0.037145</td>\n",
       "      <td>left</td>\n",
       "    </tr>\n",
       "    <tr>\n",
       "      <th>73406</th>\n",
       "      <td>2019-01-01</td>\n",
       "      <td>BaemyKlobaechar</td>\n",
       "      <td>-0.235269</td>\n",
       "      <td>-0.235003</td>\n",
       "      <td>-0.096118</td>\n",
       "      <td>left</td>\n",
       "    </tr>\n",
       "    <tr>\n",
       "      <th>...</th>\n",
       "      <td>...</td>\n",
       "      <td>...</td>\n",
       "      <td>...</td>\n",
       "      <td>...</td>\n",
       "      <td>...</td>\n",
       "      <td>...</td>\n",
       "    </tr>\n",
       "    <tr>\n",
       "      <th>52727</th>\n",
       "      <td>2019-12-01</td>\n",
       "      <td>The_Donald</td>\n",
       "      <td>0.043126</td>\n",
       "      <td>0.015389</td>\n",
       "      <td>-0.139849</td>\n",
       "      <td>right</td>\n",
       "    </tr>\n",
       "    <tr>\n",
       "      <th>52707</th>\n",
       "      <td>2019-12-01</td>\n",
       "      <td>politics</td>\n",
       "      <td>-0.200128</td>\n",
       "      <td>-0.099889</td>\n",
       "      <td>-0.182198</td>\n",
       "      <td>left</td>\n",
       "    </tr>\n",
       "    <tr>\n",
       "      <th>52768</th>\n",
       "      <td>2019-12-01</td>\n",
       "      <td>ChapoTrapHouse</td>\n",
       "      <td>0.022381</td>\n",
       "      <td>-0.130339</td>\n",
       "      <td>-0.064618</td>\n",
       "      <td>left</td>\n",
       "    </tr>\n",
       "    <tr>\n",
       "      <th>53539</th>\n",
       "      <td>2019-12-01</td>\n",
       "      <td>progun</td>\n",
       "      <td>0.037712</td>\n",
       "      <td>-0.098301</td>\n",
       "      <td>-0.346449</td>\n",
       "      <td>right</td>\n",
       "    </tr>\n",
       "    <tr>\n",
       "      <th>56067</th>\n",
       "      <td>2019-12-01</td>\n",
       "      <td>Republican</td>\n",
       "      <td>-0.066899</td>\n",
       "      <td>-0.012558</td>\n",
       "      <td>-0.188839</td>\n",
       "      <td>right</td>\n",
       "    </tr>\n",
       "  </tbody>\n",
       "</table>\n",
       "<p>264 rows × 6 columns</p>\n",
       "</div>"
      ],
      "text/plain": [
       "            week        subreddit         0         1         2 partisan\n",
       "70696 2019-01-01       Capitalism -0.045538 -0.198166 -0.130173    right\n",
       "69095 2019-01-01         JoeBiden -0.064150 -0.217021 -0.172926     left\n",
       "69674 2019-01-01           Kamala -0.239700 -0.017868  0.003497     left\n",
       "73090 2019-01-01  SocialDemocracy -0.151248 -0.205902 -0.037145     left\n",
       "73406 2019-01-01  BaemyKlobaechar -0.235269 -0.235003 -0.096118     left\n",
       "...          ...              ...       ...       ...       ...      ...\n",
       "52727 2019-12-01       The_Donald  0.043126  0.015389 -0.139849    right\n",
       "52707 2019-12-01         politics -0.200128 -0.099889 -0.182198     left\n",
       "52768 2019-12-01   ChapoTrapHouse  0.022381 -0.130339 -0.064618     left\n",
       "53539 2019-12-01           progun  0.037712 -0.098301 -0.346449    right\n",
       "56067 2019-12-01       Republican -0.066899 -0.012558 -0.188839    right\n",
       "\n",
       "[264 rows x 6 columns]"
      ]
     },
     "execution_count": 33,
     "metadata": {},
     "output_type": "execute_result"
    }
   ],
   "source": [
    "# PCA Dim Reduction -> 3 dimensions\n",
    "pca =  PCA(n_components = 3)\n",
    "three_dim =  pd.DataFrame(pca.fit_transform(vectors))\n",
    "three_dim[[\"subreddit\",\"week\"]] = sub_df\n",
    "idx = pd.MultiIndex.from_product([three_dim['week'].unique(), three_dim['subreddit'].unique()],\n",
    "                                 names=['week', 'subreddit'])\n",
    "\n",
    "# In the case that there isn't a vector for a specific week/subreddit we bacfill the vector from the previous\n",
    "three_dim = three_dim.set_index(['week', 'subreddit']).reindex(idx).reset_index().bfill().sort_values('week')\n",
    "three_dim = three_dim[three_dim[\"subreddit\"].isin(left_subreddits) | three_dim[\"subreddit\"].isin(right_subreddits)]\n",
    "three_dim[\"partisan\"] = np.where(three_dim[\"subreddit\"].isin(left_subreddits), 'left', 'right')\n",
    "three_dim"
   ]
  },
  {
   "cell_type": "code",
   "execution_count": 34,
   "metadata": {},
   "outputs": [
    {
     "data": {
      "application/vnd.plotly.v1+json": {
       "config": {
        "plotlyServerURL": "https://plot.ly"
       },
       "data": [
        {
         "hovertemplate": "<b>%{hovertext}</b><br><br>partisan=right<br>animation_frame=2019-01-01<br>0=%{x}<br>1=%{y}<br>2=%{z}<br>subreddit=%{text}<extra></extra>",
         "hovertext": [
          "Capitalism",
          "ShitPoliticsSays",
          "Conservative",
          "The_Donald",
          "progun",
          "Republican"
         ],
         "ids": [
          "Capitalism",
          "ShitPoliticsSays",
          "Conservative",
          "The_Donald",
          "progun",
          "Republican"
         ],
         "legendgroup": "right",
         "marker": {
          "color": "red",
          "opacity": 0.7,
          "symbol": "circle"
         },
         "mode": "markers+text",
         "name": "right",
         "scene": "scene",
         "showlegend": true,
         "text": [
          "Capitalism",
          "ShitPoliticsSays",
          "Conservative",
          "The_Donald",
          "progun",
          "Republican"
         ],
         "type": "scatter3d",
         "x": [
          -0.04553778365267362,
          0.036470729433327256,
          -0.10919960995596978,
          0.0111627881391258,
          -0.03663695986999487,
          -0.15344346273729292
         ],
         "y": [
          -0.19816567647003028,
          -0.13361597103688838,
          -0.10510581558726773,
          0.004204644386902121,
          -0.04259034385658582,
          -0.10535113390416395
         ],
         "z": [
          -0.13017256642164257,
          -0.20401351434040935,
          -0.2235470395366092,
          -0.16347973868529264,
          -0.3436612581354324,
          -0.1957593339645204
         ]
        },
        {
         "hovertemplate": "<b>%{hovertext}</b><br><br>partisan=left<br>animation_frame=2019-01-01<br>0=%{x}<br>1=%{y}<br>2=%{z}<br>subreddit=%{text}<extra></extra>",
         "hovertext": [
          "JoeBiden",
          "Kamala",
          "SocialDemocracy",
          "BaemyKlobaechar",
          "demsocialist",
          "BetoORourke",
          "ConservativeDemocrat",
          "progressive",
          "ElizabethWarren",
          "moderatepolitics",
          "SandersForPresident",
          "centerleftpolitics",
          "Pete_Buttigieg",
          "YangForPresidentHQ",
          "politics",
          "ChapoTrapHouse"
         ],
         "ids": [
          "JoeBiden",
          "Kamala",
          "SocialDemocracy",
          "BaemyKlobaechar",
          "demsocialist",
          "BetoORourke",
          "ConservativeDemocrat",
          "progressive",
          "ElizabethWarren",
          "moderatepolitics",
          "SandersForPresident",
          "centerleftpolitics",
          "Pete_Buttigieg",
          "YangForPresidentHQ",
          "politics",
          "ChapoTrapHouse"
         ],
         "legendgroup": "left",
         "marker": {
          "color": "blue",
          "opacity": 0.7,
          "symbol": "circle"
         },
         "mode": "markers+text",
         "name": "left",
         "scene": "scene",
         "showlegend": true,
         "text": [
          "JoeBiden",
          "Kamala",
          "SocialDemocracy",
          "BaemyKlobaechar",
          "demsocialist",
          "BetoORourke",
          "ConservativeDemocrat",
          "progressive",
          "ElizabethWarren",
          "moderatepolitics",
          "SandersForPresident",
          "centerleftpolitics",
          "Pete_Buttigieg",
          "YangForPresidentHQ",
          "politics",
          "ChapoTrapHouse"
         ],
         "type": "scatter3d",
         "x": [
          -0.0641495822408404,
          -0.23969998875996743,
          -0.15124787307261212,
          -0.23526944270829758,
          -0.29541603537728933,
          -0.04964967558273419,
          -0.21077785508868574,
          -0.17537586110336884,
          -0.30986548787033885,
          -0.15180664667957375,
          -0.1482516142514654,
          -0.05599623750947998,
          -0.24600516008450105,
          -0.2242025845565985,
          -0.233548843845657,
          -0.0034508358973730073
         ],
         "y": [
          -0.21702116164864124,
          -0.017868122584142054,
          -0.20590226123035815,
          -0.23500309574145067,
          -0.15833391222840595,
          -0.0863594361998963,
          -0.3121689243375119,
          -0.06557612416017855,
          -0.09181678389338034,
          -0.11195530159421785,
          -0.08050892574070444,
          -0.11523673790499886,
          -0.23099543419074353,
          -0.061230055880372294,
          -0.0886677772119304,
          -0.10293826147301699
         ],
         "z": [
          -0.1729256625331522,
          0.003496869387634574,
          -0.03714478909780623,
          -0.09611785497271684,
          -0.1818376176367168,
          -0.19297485340092319,
          -0.3593224717368653,
          -0.21214657493762099,
          -0.01883558563541368,
          -0.17126010174443176,
          -0.1811220959532294,
          -0.05525308592009071,
          0.043594513180277794,
          0.16884231785059226,
          -0.2216767371358863,
          -0.10626561441078788
         ]
        }
       ],
       "frames": [
        {
         "data": [
          {
           "hovertemplate": "<b>%{hovertext}</b><br><br>partisan=right<br>animation_frame=2019-01-01<br>0=%{x}<br>1=%{y}<br>2=%{z}<br>subreddit=%{text}<extra></extra>",
           "hovertext": [
            "Capitalism",
            "ShitPoliticsSays",
            "Conservative",
            "The_Donald",
            "progun",
            "Republican"
           ],
           "ids": [
            "Capitalism",
            "ShitPoliticsSays",
            "Conservative",
            "The_Donald",
            "progun",
            "Republican"
           ],
           "legendgroup": "right",
           "marker": {
            "color": "red",
            "opacity": 0.7,
            "symbol": "circle"
           },
           "mode": "markers+text",
           "name": "right",
           "scene": "scene",
           "showlegend": true,
           "text": [
            "Capitalism",
            "ShitPoliticsSays",
            "Conservative",
            "The_Donald",
            "progun",
            "Republican"
           ],
           "type": "scatter3d",
           "x": [
            -0.04553778365267362,
            0.036470729433327256,
            -0.10919960995596978,
            0.0111627881391258,
            -0.03663695986999487,
            -0.15344346273729292
           ],
           "y": [
            -0.19816567647003028,
            -0.13361597103688838,
            -0.10510581558726773,
            0.004204644386902121,
            -0.04259034385658582,
            -0.10535113390416395
           ],
           "z": [
            -0.13017256642164257,
            -0.20401351434040935,
            -0.2235470395366092,
            -0.16347973868529264,
            -0.3436612581354324,
            -0.1957593339645204
           ]
          },
          {
           "hovertemplate": "<b>%{hovertext}</b><br><br>partisan=left<br>animation_frame=2019-01-01<br>0=%{x}<br>1=%{y}<br>2=%{z}<br>subreddit=%{text}<extra></extra>",
           "hovertext": [
            "JoeBiden",
            "Kamala",
            "SocialDemocracy",
            "BaemyKlobaechar",
            "demsocialist",
            "BetoORourke",
            "ConservativeDemocrat",
            "progressive",
            "ElizabethWarren",
            "moderatepolitics",
            "SandersForPresident",
            "centerleftpolitics",
            "Pete_Buttigieg",
            "YangForPresidentHQ",
            "politics",
            "ChapoTrapHouse"
           ],
           "ids": [
            "JoeBiden",
            "Kamala",
            "SocialDemocracy",
            "BaemyKlobaechar",
            "demsocialist",
            "BetoORourke",
            "ConservativeDemocrat",
            "progressive",
            "ElizabethWarren",
            "moderatepolitics",
            "SandersForPresident",
            "centerleftpolitics",
            "Pete_Buttigieg",
            "YangForPresidentHQ",
            "politics",
            "ChapoTrapHouse"
           ],
           "legendgroup": "left",
           "marker": {
            "color": "blue",
            "opacity": 0.7,
            "symbol": "circle"
           },
           "mode": "markers+text",
           "name": "left",
           "scene": "scene",
           "showlegend": true,
           "text": [
            "JoeBiden",
            "Kamala",
            "SocialDemocracy",
            "BaemyKlobaechar",
            "demsocialist",
            "BetoORourke",
            "ConservativeDemocrat",
            "progressive",
            "ElizabethWarren",
            "moderatepolitics",
            "SandersForPresident",
            "centerleftpolitics",
            "Pete_Buttigieg",
            "YangForPresidentHQ",
            "politics",
            "ChapoTrapHouse"
           ],
           "type": "scatter3d",
           "x": [
            -0.0641495822408404,
            -0.23969998875996743,
            -0.15124787307261212,
            -0.23526944270829758,
            -0.29541603537728933,
            -0.04964967558273419,
            -0.21077785508868574,
            -0.17537586110336884,
            -0.30986548787033885,
            -0.15180664667957375,
            -0.1482516142514654,
            -0.05599623750947998,
            -0.24600516008450105,
            -0.2242025845565985,
            -0.233548843845657,
            -0.0034508358973730073
           ],
           "y": [
            -0.21702116164864124,
            -0.017868122584142054,
            -0.20590226123035815,
            -0.23500309574145067,
            -0.15833391222840595,
            -0.0863594361998963,
            -0.3121689243375119,
            -0.06557612416017855,
            -0.09181678389338034,
            -0.11195530159421785,
            -0.08050892574070444,
            -0.11523673790499886,
            -0.23099543419074353,
            -0.061230055880372294,
            -0.0886677772119304,
            -0.10293826147301699
           ],
           "z": [
            -0.1729256625331522,
            0.003496869387634574,
            -0.03714478909780623,
            -0.09611785497271684,
            -0.1818376176367168,
            -0.19297485340092319,
            -0.3593224717368653,
            -0.21214657493762099,
            -0.01883558563541368,
            -0.17126010174443176,
            -0.1811220959532294,
            -0.05525308592009071,
            0.043594513180277794,
            0.16884231785059226,
            -0.2216767371358863,
            -0.10626561441078788
           ]
          }
         ],
         "name": "2019-01-01"
        },
        {
         "data": [
          {
           "hovertemplate": "<b>%{hovertext}</b><br><br>partisan=right<br>animation_frame=2019-02-01<br>0=%{x}<br>1=%{y}<br>2=%{z}<br>subreddit=%{text}<extra></extra>",
           "hovertext": [
            "Capitalism",
            "ShitPoliticsSays",
            "Conservative",
            "The_Donald",
            "progun",
            "Republican"
           ],
           "ids": [
            "Capitalism",
            "ShitPoliticsSays",
            "Conservative",
            "The_Donald",
            "progun",
            "Republican"
           ],
           "legendgroup": "right",
           "marker": {
            "color": "red",
            "opacity": 0.7,
            "symbol": "circle"
           },
           "mode": "markers+text",
           "name": "right",
           "scene": "scene",
           "showlegend": true,
           "text": [
            "Capitalism",
            "ShitPoliticsSays",
            "Conservative",
            "The_Donald",
            "progun",
            "Republican"
           ],
           "type": "scatter3d",
           "x": [
            -0.061369053126169144,
            0.026736940862161048,
            -0.09484706738530362,
            0.012534398468982407,
            -0.03838902569371759,
            -0.1117937642059515
           ],
           "y": [
            -0.13658315661319906,
            -0.12400008922557232,
            -0.1136794750551799,
            -0.010811569321894041,
            -0.06124320688685968,
            -0.07725469767314037
           ],
           "z": [
            -0.16924466975211022,
            -0.22592664978938368,
            -0.21415522417033198,
            -0.15588413126441916,
            -0.3222823706265191,
            -0.17225231409535088
           ]
          },
          {
           "hovertemplate": "<b>%{hovertext}</b><br><br>partisan=left<br>animation_frame=2019-02-01<br>0=%{x}<br>1=%{y}<br>2=%{z}<br>subreddit=%{text}<extra></extra>",
           "hovertext": [
            "JoeBiden",
            "Kamala",
            "SocialDemocracy",
            "BaemyKlobaechar",
            "demsocialist",
            "BetoORourke",
            "ConservativeDemocrat",
            "progressive",
            "ElizabethWarren",
            "moderatepolitics",
            "SandersForPresident",
            "centerleftpolitics",
            "Pete_Buttigieg",
            "YangForPresidentHQ",
            "politics",
            "ChapoTrapHouse"
           ],
           "ids": [
            "JoeBiden",
            "Kamala",
            "SocialDemocracy",
            "BaemyKlobaechar",
            "demsocialist",
            "BetoORourke",
            "ConservativeDemocrat",
            "progressive",
            "ElizabethWarren",
            "moderatepolitics",
            "SandersForPresident",
            "centerleftpolitics",
            "Pete_Buttigieg",
            "YangForPresidentHQ",
            "politics",
            "ChapoTrapHouse"
           ],
           "legendgroup": "left",
           "marker": {
            "color": "blue",
            "opacity": 0.7,
            "symbol": "circle"
           },
           "mode": "markers+text",
           "name": "left",
           "scene": "scene",
           "showlegend": true,
           "text": [
            "JoeBiden",
            "Kamala",
            "SocialDemocracy",
            "BaemyKlobaechar",
            "demsocialist",
            "BetoORourke",
            "ConservativeDemocrat",
            "progressive",
            "ElizabethWarren",
            "moderatepolitics",
            "SandersForPresident",
            "centerleftpolitics",
            "Pete_Buttigieg",
            "YangForPresidentHQ",
            "politics",
            "ChapoTrapHouse"
           ],
           "type": "scatter3d",
           "x": [
            -0.11803267174405126,
            -0.2169491131453629,
            -0.09663144659160708,
            -0.22782328576927977,
            -0.2381684368506504,
            -0.2664349413570395,
            -0.3050867664262688,
            -0.16471037843272732,
            -0.21536288885056198,
            -0.18578788773353305,
            -0.13842354784842084,
            -0.0564412662348759,
            -0.42724912435952506,
            -0.15706015367125395,
            -0.229847685425536,
            0.01756983884781056
           ],
           "y": [
            -0.2095420361465428,
            0.031569409378864106,
            -0.16919310616795316,
            -0.15101647572644072,
            -0.17730439558174746,
            -0.03800922114715294,
            -0.24121231308667979,
            -0.05826083139924708,
            -0.13112372220241703,
            -0.16108285839110306,
            -0.09600747266205198,
            -0.07631046146606607,
            -0.1440475548702333,
            -0.07216687676583938,
            -0.10246850593843032,
            -0.10134122257189343
           ],
           "z": [
            0.10252946783063985,
            -0.019389639043555233,
            -0.0485403963808969,
            -0.00489461829627281,
            -0.1691526160089186,
            -0.09192833465623858,
            -0.200047491559213,
            -0.15164641323206357,
            0.013512020611789917,
            -0.15459192356211093,
            -0.13629634785160796,
            -0.05027723170006759,
            -0.027951062525063138,
            -0.04277369407059724,
            -0.22416090643617115,
            -0.11169888572364056
           ]
          }
         ],
         "name": "2019-02-01"
        },
        {
         "data": [
          {
           "hovertemplate": "<b>%{hovertext}</b><br><br>partisan=right<br>animation_frame=2019-03-01<br>0=%{x}<br>1=%{y}<br>2=%{z}<br>subreddit=%{text}<extra></extra>",
           "hovertext": [
            "Capitalism",
            "ShitPoliticsSays",
            "Conservative",
            "The_Donald",
            "progun",
            "Republican"
           ],
           "ids": [
            "Capitalism",
            "ShitPoliticsSays",
            "Conservative",
            "The_Donald",
            "progun",
            "Republican"
           ],
           "legendgroup": "right",
           "marker": {
            "color": "red",
            "opacity": 0.7,
            "symbol": "circle"
           },
           "mode": "markers+text",
           "name": "right",
           "scene": "scene",
           "showlegend": true,
           "text": [
            "Capitalism",
            "ShitPoliticsSays",
            "Conservative",
            "The_Donald",
            "progun",
            "Republican"
           ],
           "type": "scatter3d",
           "x": [
            -0.07809325178793002,
            0.039267258800504176,
            -0.10903627190478178,
            0.025397314577215415,
            -0.010036894879071636,
            -0.10305677228625465
           ],
           "y": [
            -0.1833854291523319,
            -0.12873202429039698,
            -0.11094190001358384,
            -0.019232927160764347,
            -0.11081912021433717,
            -0.07974897930128565
           ],
           "z": [
            -0.07158499438224411,
            -0.24602101777036794,
            -0.22762783027343989,
            -0.14916457921057094,
            -0.33387568043899873,
            -0.22346249198639168
           ]
          },
          {
           "hovertemplate": "<b>%{hovertext}</b><br><br>partisan=left<br>animation_frame=2019-03-01<br>0=%{x}<br>1=%{y}<br>2=%{z}<br>subreddit=%{text}<extra></extra>",
           "hovertext": [
            "JoeBiden",
            "Kamala",
            "SocialDemocracy",
            "BaemyKlobaechar",
            "demsocialist",
            "BetoORourke",
            "ConservativeDemocrat",
            "progressive",
            "ElizabethWarren",
            "moderatepolitics",
            "SandersForPresident",
            "centerleftpolitics",
            "Pete_Buttigieg",
            "YangForPresidentHQ",
            "politics",
            "ChapoTrapHouse"
           ],
           "ids": [
            "JoeBiden",
            "Kamala",
            "SocialDemocracy",
            "BaemyKlobaechar",
            "demsocialist",
            "BetoORourke",
            "ConservativeDemocrat",
            "progressive",
            "ElizabethWarren",
            "moderatepolitics",
            "SandersForPresident",
            "centerleftpolitics",
            "Pete_Buttigieg",
            "YangForPresidentHQ",
            "politics",
            "ChapoTrapHouse"
           ],
           "legendgroup": "left",
           "marker": {
            "color": "blue",
            "opacity": 0.7,
            "symbol": "circle"
           },
           "mode": "markers+text",
           "name": "left",
           "scene": "scene",
           "showlegend": true,
           "text": [
            "JoeBiden",
            "Kamala",
            "SocialDemocracy",
            "BaemyKlobaechar",
            "demsocialist",
            "BetoORourke",
            "ConservativeDemocrat",
            "progressive",
            "ElizabethWarren",
            "moderatepolitics",
            "SandersForPresident",
            "centerleftpolitics",
            "Pete_Buttigieg",
            "YangForPresidentHQ",
            "politics",
            "ChapoTrapHouse"
           ],
           "type": "scatter3d",
           "x": [
            -0.3811343992583201,
            -0.2304663479208577,
            -0.13246770691765927,
            -0.47338067310530846,
            -0.2593283655660745,
            -0.28250007311067654,
            -0.34113925222847596,
            -0.18473612680033927,
            -0.2854039286734834,
            -0.1577315143917828,
            -0.1141076419347979,
            -0.062303716753793675,
            -0.17576795821555755,
            -0.0539083411271694,
            -0.21442808799021215,
            0.011277595345932704
           ],
           "y": [
            -0.0746259440164324,
            -0.10959642342550326,
            -0.2408523165028815,
            -0.1378241212192307,
            -0.19776933818894202,
            -0.10400158717364369,
            -0.17808144888762234,
            -0.027263729000137567,
            -0.11799866125637924,
            -0.14297493649253668,
            -0.12033946504854205,
            -0.07407060722994026,
            -0.0006969104281737715,
            -0.09613058235691593,
            -0.11390319491139989,
            -0.1421514686355705
           ],
           "z": [
            -0.20867808618319733,
            -0.02722449059896342,
            -0.029043316742551523,
            -0.0070163869847599085,
            -0.1453158270099278,
            -0.17206133287365635,
            -0.2743741182988682,
            -0.16908236414249547,
            0.01951464897443722,
            -0.1886390739137975,
            -0.16258993617780781,
            -0.028947791405489476,
            -0.04948044250974148,
            0.021320192041703077,
            -0.26162195703091357,
            -0.09832339270721922
           ]
          }
         ],
         "name": "2019-03-01"
        },
        {
         "data": [
          {
           "hovertemplate": "<b>%{hovertext}</b><br><br>partisan=right<br>animation_frame=2019-04-01<br>0=%{x}<br>1=%{y}<br>2=%{z}<br>subreddit=%{text}<extra></extra>",
           "hovertext": [
            "Republican",
            "progun",
            "The_Donald",
            "Conservative",
            "ShitPoliticsSays",
            "Capitalism"
           ],
           "ids": [
            "Republican",
            "progun",
            "The_Donald",
            "Conservative",
            "ShitPoliticsSays",
            "Capitalism"
           ],
           "legendgroup": "right",
           "marker": {
            "color": "red",
            "opacity": 0.7,
            "symbol": "circle"
           },
           "mode": "markers+text",
           "name": "right",
           "scene": "scene",
           "showlegend": true,
           "text": [
            "Republican",
            "progun",
            "The_Donald",
            "Conservative",
            "ShitPoliticsSays",
            "Capitalism"
           ],
           "type": "scatter3d",
           "x": [
            -0.11851406350145893,
            -0.005564427282476786,
            0.01801046132287237,
            -0.09030995823509988,
            0.03319552779997786,
            -0.05509531053191899
           ],
           "y": [
            -0.06627328011274036,
            -0.0652935177229715,
            -0.007069344964917309,
            -0.15365167276797548,
            -0.16144115635233988,
            -0.13940598131240386
           ],
           "z": [
            -0.20196098444206106,
            -0.3651792724882519,
            -0.1626014538119523,
            -0.20677241414670655,
            -0.21444083740412676,
            -0.18469653667975533
           ]
          },
          {
           "hovertemplate": "<b>%{hovertext}</b><br><br>partisan=left<br>animation_frame=2019-04-01<br>0=%{x}<br>1=%{y}<br>2=%{z}<br>subreddit=%{text}<extra></extra>",
           "hovertext": [
            "ChapoTrapHouse",
            "politics",
            "YangForPresidentHQ",
            "Pete_Buttigieg",
            "centerleftpolitics",
            "SandersForPresident",
            "moderatepolitics",
            "ElizabethWarren",
            "progressive",
            "ConservativeDemocrat",
            "BetoORourke",
            "demsocialist",
            "BaemyKlobaechar",
            "SocialDemocracy",
            "Kamala",
            "JoeBiden"
           ],
           "ids": [
            "ChapoTrapHouse",
            "politics",
            "YangForPresidentHQ",
            "Pete_Buttigieg",
            "centerleftpolitics",
            "SandersForPresident",
            "moderatepolitics",
            "ElizabethWarren",
            "progressive",
            "ConservativeDemocrat",
            "BetoORourke",
            "demsocialist",
            "BaemyKlobaechar",
            "SocialDemocracy",
            "Kamala",
            "JoeBiden"
           ],
           "legendgroup": "left",
           "marker": {
            "color": "blue",
            "opacity": 0.7,
            "symbol": "circle"
           },
           "mode": "markers+text",
           "name": "left",
           "scene": "scene",
           "showlegend": true,
           "text": [
            "ChapoTrapHouse",
            "politics",
            "YangForPresidentHQ",
            "Pete_Buttigieg",
            "centerleftpolitics",
            "SandersForPresident",
            "moderatepolitics",
            "ElizabethWarren",
            "progressive",
            "ConservativeDemocrat",
            "BetoORourke",
            "demsocialist",
            "BaemyKlobaechar",
            "SocialDemocracy",
            "Kamala",
            "JoeBiden"
           ],
           "type": "scatter3d",
           "x": [
            0.01816264298004937,
            -0.20300417919819425,
            -0.0715320894772531,
            -0.2039167123590801,
            -0.06132591622977323,
            -0.11216607073934268,
            -0.1697042032857495,
            -0.21601199399792906,
            -0.21494357173440778,
            -0.26127840514600775,
            -0.21943398439236905,
            -0.2845751627465252,
            -0.28203692920305395,
            -0.13106677409594653,
            -0.2286576584620261,
            -0.2603571648848567
           ],
           "y": [
            -0.13385839015238127,
            -0.11150153000144732,
            -0.09794135931451921,
            -0.07731677976024805,
            -0.10266379400697033,
            -0.10231493788548615,
            -0.14325205225765816,
            -0.06838800457902963,
            -0.05963020287487222,
            -0.2262963318429875,
            -0.23264156869428004,
            -0.13780404875382957,
            -0.21737145015939324,
            -0.24711468520772806,
            -0.030862383833072212,
            -0.050105779314956876
           ],
           "z": [
            -0.1116403000335852,
            -0.25033054173833985,
            0.022347735430442526,
            -0.04745979778086028,
            -0.06179833480814945,
            -0.1621505628487229,
            -0.1717121077449825,
            -0.012622563959822655,
            -0.1636150980641704,
            -0.2267049669644914,
            -0.14047950971478013,
            -0.15922386633248717,
            -0.09465755623233356,
            -0.08367334488364964,
            -0.055032447399414486,
            -0.049592286718637135
           ]
          }
         ],
         "name": "2019-04-01"
        },
        {
         "data": [
          {
           "hovertemplate": "<b>%{hovertext}</b><br><br>partisan=right<br>animation_frame=2019-05-01<br>0=%{x}<br>1=%{y}<br>2=%{z}<br>subreddit=%{text}<extra></extra>",
           "hovertext": [
            "Capitalism",
            "ShitPoliticsSays",
            "Conservative",
            "The_Donald",
            "progun",
            "Republican"
           ],
           "ids": [
            "Capitalism",
            "ShitPoliticsSays",
            "Conservative",
            "The_Donald",
            "progun",
            "Republican"
           ],
           "legendgroup": "right",
           "marker": {
            "color": "red",
            "opacity": 0.7,
            "symbol": "circle"
           },
           "mode": "markers+text",
           "name": "right",
           "scene": "scene",
           "showlegend": true,
           "text": [
            "Capitalism",
            "ShitPoliticsSays",
            "Conservative",
            "The_Donald",
            "progun",
            "Republican"
           ],
           "type": "scatter3d",
           "x": [
            -0.045785088841357825,
            0.024053829959252995,
            -0.09987787409800516,
            0.03121595277624241,
            -0.017125375121382225,
            -0.12477763944181561
           ],
           "y": [
            -0.15745857020133036,
            -0.16946050079916056,
            -0.15818988062065523,
            -0.02828178090966033,
            -0.0915115944588375,
            -0.03335040474919287
           ],
           "z": [
            -0.1693992934451428,
            -0.19957575521855742,
            -0.21181051441936516,
            -0.1541112921753354,
            -0.3187268570472822,
            -0.21123734607562963
           ]
          },
          {
           "hovertemplate": "<b>%{hovertext}</b><br><br>partisan=left<br>animation_frame=2019-05-01<br>0=%{x}<br>1=%{y}<br>2=%{z}<br>subreddit=%{text}<extra></extra>",
           "hovertext": [
            "JoeBiden",
            "Kamala",
            "SocialDemocracy",
            "BaemyKlobaechar",
            "demsocialist",
            "BetoORourke",
            "ConservativeDemocrat",
            "progressive",
            "ElizabethWarren",
            "moderatepolitics",
            "SandersForPresident",
            "centerleftpolitics",
            "Pete_Buttigieg",
            "YangForPresidentHQ",
            "politics",
            "ChapoTrapHouse"
           ],
           "ids": [
            "JoeBiden",
            "Kamala",
            "SocialDemocracy",
            "BaemyKlobaechar",
            "demsocialist",
            "BetoORourke",
            "ConservativeDemocrat",
            "progressive",
            "ElizabethWarren",
            "moderatepolitics",
            "SandersForPresident",
            "centerleftpolitics",
            "Pete_Buttigieg",
            "YangForPresidentHQ",
            "politics",
            "ChapoTrapHouse"
           ],
           "legendgroup": "left",
           "marker": {
            "color": "blue",
            "opacity": 0.7,
            "symbol": "circle"
           },
           "mode": "markers+text",
           "name": "left",
           "scene": "scene",
           "showlegend": true,
           "text": [
            "JoeBiden",
            "Kamala",
            "SocialDemocracy",
            "BaemyKlobaechar",
            "demsocialist",
            "BetoORourke",
            "ConservativeDemocrat",
            "progressive",
            "ElizabethWarren",
            "moderatepolitics",
            "SandersForPresident",
            "centerleftpolitics",
            "Pete_Buttigieg",
            "YangForPresidentHQ",
            "politics",
            "ChapoTrapHouse"
           ],
           "type": "scatter3d",
           "x": [
            -0.1975921537945654,
            -0.16138210961077062,
            -0.13070141487115522,
            -0.23392283740457032,
            -0.27451507035884554,
            -0.25693431935717903,
            -0.4105061436965004,
            -0.18625456748337188,
            -0.20921303451004625,
            -0.1592220663745926,
            -0.1423572575518663,
            -0.03475991087801921,
            -0.1859335042558913,
            -0.055350660867364475,
            -0.20550577790291227,
            0.025024576932618635
           ],
           "y": [
            -0.03303611142442375,
            -0.0016485090917528291,
            -0.23318265051530268,
            -0.10114983729969447,
            -0.23173391883262828,
            -0.16145299510434685,
            -0.2385931320549819,
            -0.0899253193813461,
            -0.08639579911551919,
            -0.1445082778197982,
            -0.0840898812529734,
            -0.10650705772660297,
            -0.053166375775699,
            -0.10210467884015613,
            -0.09590071865100583,
            -0.14221536548807234
           ],
           "z": [
            -0.11988674524440958,
            -0.05724317336580361,
            -0.03660190412190645,
            -0.19622164509403672,
            -0.18612223721883245,
            -0.26478236543547595,
            -0.34074668052450474,
            -0.20205663706225985,
            -0.06249959088560448,
            -0.1280579485374421,
            -0.14291310104064858,
            -0.025204288754538246,
            -0.03967382238512982,
            0.019961495651252072,
            -0.2407453370491213,
            -0.1071624619043258
           ]
          }
         ],
         "name": "2019-05-01"
        },
        {
         "data": [
          {
           "hovertemplate": "<b>%{hovertext}</b><br><br>partisan=right<br>animation_frame=2019-06-01<br>0=%{x}<br>1=%{y}<br>2=%{z}<br>subreddit=%{text}<extra></extra>",
           "hovertext": [
            "Republican",
            "progun",
            "The_Donald",
            "Conservative",
            "ShitPoliticsSays",
            "Capitalism"
           ],
           "ids": [
            "Republican",
            "progun",
            "The_Donald",
            "Conservative",
            "ShitPoliticsSays",
            "Capitalism"
           ],
           "legendgroup": "right",
           "marker": {
            "color": "red",
            "opacity": 0.7,
            "symbol": "circle"
           },
           "mode": "markers+text",
           "name": "right",
           "scene": "scene",
           "showlegend": true,
           "text": [
            "Republican",
            "progun",
            "The_Donald",
            "Conservative",
            "ShitPoliticsSays",
            "Capitalism"
           ],
           "type": "scatter3d",
           "x": [
            -0.12693142980467612,
            -0.01477413800250811,
            0.026929013207794672,
            -0.06887459289972299,
            0.0255141409347482,
            -0.09136870270504455
           ],
           "y": [
            -0.04160720798667449,
            -0.07409039230399073,
            -0.019434929692015677,
            -0.13344548837350384,
            -0.1508459684840582,
            -0.16868513390775866
           ],
           "z": [
            -0.21625368095345315,
            -0.35157506541458133,
            -0.15190968104129193,
            -0.19684789027118696,
            -0.2099286451014612,
            -0.15760973200575074
           ]
          },
          {
           "hovertemplate": "<b>%{hovertext}</b><br><br>partisan=left<br>animation_frame=2019-06-01<br>0=%{x}<br>1=%{y}<br>2=%{z}<br>subreddit=%{text}<extra></extra>",
           "hovertext": [
            "ChapoTrapHouse",
            "politics",
            "YangForPresidentHQ",
            "Pete_Buttigieg",
            "centerleftpolitics",
            "SandersForPresident",
            "moderatepolitics",
            "ElizabethWarren",
            "progressive",
            "ConservativeDemocrat",
            "BetoORourke",
            "demsocialist",
            "BaemyKlobaechar",
            "SocialDemocracy",
            "Kamala",
            "JoeBiden"
           ],
           "ids": [
            "ChapoTrapHouse",
            "politics",
            "YangForPresidentHQ",
            "Pete_Buttigieg",
            "centerleftpolitics",
            "SandersForPresident",
            "moderatepolitics",
            "ElizabethWarren",
            "progressive",
            "ConservativeDemocrat",
            "BetoORourke",
            "demsocialist",
            "BaemyKlobaechar",
            "SocialDemocracy",
            "Kamala",
            "JoeBiden"
           ],
           "legendgroup": "left",
           "marker": {
            "color": "blue",
            "opacity": 0.7,
            "symbol": "circle"
           },
           "mode": "markers+text",
           "name": "left",
           "scene": "scene",
           "showlegend": true,
           "text": [
            "ChapoTrapHouse",
            "politics",
            "YangForPresidentHQ",
            "Pete_Buttigieg",
            "centerleftpolitics",
            "SandersForPresident",
            "moderatepolitics",
            "ElizabethWarren",
            "progressive",
            "ConservativeDemocrat",
            "BetoORourke",
            "demsocialist",
            "BaemyKlobaechar",
            "SocialDemocracy",
            "Kamala",
            "JoeBiden"
           ],
           "type": "scatter3d",
           "x": [
            0.03823947147195034,
            -0.19038770640360775,
            -0.06831743567797055,
            -0.1473195621565768,
            -0.054046301121152635,
            -0.13549239740854704,
            -0.14995923062403924,
            -0.1936984862026132,
            -0.19936720459350352,
            -0.30593543020700326,
            -0.24598430849342323,
            -0.15316261967730835,
            -0.19635242804335662,
            -0.03543558798507357,
            -0.22828930075539897,
            -0.17518761206129882
           ],
           "y": [
            -0.14402851277899206,
            -0.11211757458327228,
            -0.10286085060571572,
            -0.04716216838760537,
            -0.11079763797038025,
            -0.15547560594964116,
            -0.17950608972439702,
            -0.07678409831010209,
            -0.10611453119031046,
            -0.14246455888610454,
            0.05951809660831267,
            -0.3069258797533177,
            -0.12377589469671857,
            -0.2421975435871363,
            -0.050864579157345664,
            -0.07710338016823692
           ],
           "z": [
            -0.1187237871080407,
            -0.2241548087231869,
            0.033946052686544895,
            -0.023553910099958615,
            -0.031399745141882575,
            -0.13673025709119005,
            -0.15487957969270516,
            -0.029822027467700206,
            -0.17592992517810732,
            -0.30087616835583403,
            -0.039851628520618194,
            -0.1774812542553604,
            0.06335034539202787,
            -0.013671636862881734,
            0.06252127233608865,
            -0.0606208396197997
           ]
          }
         ],
         "name": "2019-06-01"
        },
        {
         "data": [
          {
           "hovertemplate": "<b>%{hovertext}</b><br><br>partisan=right<br>animation_frame=2019-07-01<br>0=%{x}<br>1=%{y}<br>2=%{z}<br>subreddit=%{text}<extra></extra>",
           "hovertext": [
            "Republican",
            "progun",
            "The_Donald",
            "Conservative",
            "ShitPoliticsSays",
            "Capitalism"
           ],
           "ids": [
            "Republican",
            "progun",
            "The_Donald",
            "Conservative",
            "ShitPoliticsSays",
            "Capitalism"
           ],
           "legendgroup": "right",
           "marker": {
            "color": "red",
            "opacity": 0.7,
            "symbol": "circle"
           },
           "mode": "markers+text",
           "name": "right",
           "scene": "scene",
           "showlegend": true,
           "text": [
            "Republican",
            "progun",
            "The_Donald",
            "Conservative",
            "ShitPoliticsSays",
            "Capitalism"
           ],
           "type": "scatter3d",
           "x": [
            -0.11385427638174715,
            0.007086170793670523,
            0.05383637284705933,
            -0.06832969022591032,
            0.019613847327109312,
            -0.03958010690338962
           ],
           "y": [
            -0.04001339087644427,
            -0.0883925699846821,
            0.0018345189131908255,
            -0.13532571779933988,
            -0.171502071152859,
            -0.1279382279077959
           ],
           "z": [
            -0.2023124833985267,
            -0.34252695731699967,
            -0.14080021934902515,
            -0.20089314873054748,
            -0.22735940124491677,
            -0.10976110846174382
           ]
          },
          {
           "hovertemplate": "<b>%{hovertext}</b><br><br>partisan=left<br>animation_frame=2019-07-01<br>0=%{x}<br>1=%{y}<br>2=%{z}<br>subreddit=%{text}<extra></extra>",
           "hovertext": [
            "ChapoTrapHouse",
            "politics",
            "YangForPresidentHQ",
            "Pete_Buttigieg",
            "centerleftpolitics",
            "SandersForPresident",
            "moderatepolitics",
            "ElizabethWarren",
            "progressive",
            "ConservativeDemocrat",
            "BetoORourke",
            "demsocialist",
            "BaemyKlobaechar",
            "SocialDemocracy",
            "Kamala",
            "JoeBiden"
           ],
           "ids": [
            "ChapoTrapHouse",
            "politics",
            "YangForPresidentHQ",
            "Pete_Buttigieg",
            "centerleftpolitics",
            "SandersForPresident",
            "moderatepolitics",
            "ElizabethWarren",
            "progressive",
            "ConservativeDemocrat",
            "BetoORourke",
            "demsocialist",
            "BaemyKlobaechar",
            "SocialDemocracy",
            "Kamala",
            "JoeBiden"
           ],
           "legendgroup": "left",
           "marker": {
            "color": "blue",
            "opacity": 0.7,
            "symbol": "circle"
           },
           "mode": "markers+text",
           "name": "left",
           "scene": "scene",
           "showlegend": true,
           "text": [
            "ChapoTrapHouse",
            "politics",
            "YangForPresidentHQ",
            "Pete_Buttigieg",
            "centerleftpolitics",
            "SandersForPresident",
            "moderatepolitics",
            "ElizabethWarren",
            "progressive",
            "ConservativeDemocrat",
            "BetoORourke",
            "demsocialist",
            "BaemyKlobaechar",
            "SocialDemocracy",
            "Kamala",
            "JoeBiden"
           ],
           "type": "scatter3d",
           "x": [
            0.006772170204712655,
            -0.18251413914936684,
            -0.09037010227082322,
            -0.17302099031136392,
            -0.03665085464842279,
            -0.101042692358062,
            -0.15402744240387675,
            -0.1775357362309547,
            -0.20427760450659466,
            -0.07101064316112725,
            -0.3688841239431786,
            -0.3341950051130674,
            -0.4339117457689871,
            -0.08608943748073024,
            -0.18904642732827823,
            -0.11516332110037392
           ],
           "y": [
            -0.14187306880987885,
            -0.11641347326731016,
            -0.12062260934125757,
            -0.04103433539141406,
            -0.09996174518486473,
            -0.1206706912032268,
            -0.13741910292077095,
            -0.09139547608810894,
            -0.08398578189786145,
            -0.24013436652866893,
            -0.10790636581105659,
            -0.1710077151551918,
            -0.06947206149243398,
            -0.33513599519695664,
            -0.05163761947744915,
            -0.0356692816196339
           ],
           "z": [
            -0.10628010423704877,
            -0.19949953200115547,
            0.022860736400412814,
            -0.02314022604592714,
            0.007190070381404054,
            -0.18216882520436378,
            -0.12880642280398352,
            -0.026416865308284052,
            -0.21989073223258163,
            -0.17415577974394958,
            0.025657605010149943,
            -0.25342167931108556,
            -0.11035607155563527,
            -0.04314777725054749,
            0.016522997973772355,
            -0.07580558262764346
           ]
          }
         ],
         "name": "2019-07-01"
        },
        {
         "data": [
          {
           "hovertemplate": "<b>%{hovertext}</b><br><br>partisan=right<br>animation_frame=2019-08-01<br>0=%{x}<br>1=%{y}<br>2=%{z}<br>subreddit=%{text}<extra></extra>",
           "hovertext": [
            "Capitalism",
            "ShitPoliticsSays",
            "Conservative",
            "The_Donald",
            "progun",
            "Republican"
           ],
           "ids": [
            "Capitalism",
            "ShitPoliticsSays",
            "Conservative",
            "The_Donald",
            "progun",
            "Republican"
           ],
           "legendgroup": "right",
           "marker": {
            "color": "red",
            "opacity": 0.7,
            "symbol": "circle"
           },
           "mode": "markers+text",
           "name": "right",
           "scene": "scene",
           "showlegend": true,
           "text": [
            "Capitalism",
            "ShitPoliticsSays",
            "Conservative",
            "The_Donald",
            "progun",
            "Republican"
           ],
           "type": "scatter3d",
           "x": [
            -0.03790221802885395,
            0.04907074420218985,
            -0.07737818751707914,
            0.05428590909980421,
            0.0018905794060327843,
            -0.09099532409810727
           ],
           "y": [
            -0.18410732191493986,
            -0.16965316571059225,
            -0.14584879513577131,
            0.004341055453172731,
            -0.12230116499591957,
            -0.06260386059844006
           ],
           "z": [
            -0.16508517920919158,
            -0.19365825585650484,
            -0.21472071733507406,
            -0.14514051385996501,
            -0.3086035108135187,
            -0.17417049559299264
           ]
          },
          {
           "hovertemplate": "<b>%{hovertext}</b><br><br>partisan=left<br>animation_frame=2019-08-01<br>0=%{x}<br>1=%{y}<br>2=%{z}<br>subreddit=%{text}<extra></extra>",
           "hovertext": [
            "JoeBiden",
            "Kamala",
            "SocialDemocracy",
            "BaemyKlobaechar",
            "demsocialist",
            "BetoORourke",
            "ConservativeDemocrat",
            "progressive",
            "ElizabethWarren",
            "moderatepolitics",
            "SandersForPresident",
            "centerleftpolitics",
            "Pete_Buttigieg",
            "YangForPresidentHQ",
            "politics",
            "ChapoTrapHouse"
           ],
           "ids": [
            "JoeBiden",
            "Kamala",
            "SocialDemocracy",
            "BaemyKlobaechar",
            "demsocialist",
            "BetoORourke",
            "ConservativeDemocrat",
            "progressive",
            "ElizabethWarren",
            "moderatepolitics",
            "SandersForPresident",
            "centerleftpolitics",
            "Pete_Buttigieg",
            "YangForPresidentHQ",
            "politics",
            "ChapoTrapHouse"
           ],
           "legendgroup": "left",
           "marker": {
            "color": "blue",
            "opacity": 0.7,
            "symbol": "circle"
           },
           "mode": "markers+text",
           "name": "left",
           "scene": "scene",
           "showlegend": true,
           "text": [
            "JoeBiden",
            "Kamala",
            "SocialDemocracy",
            "BaemyKlobaechar",
            "demsocialist",
            "BetoORourke",
            "ConservativeDemocrat",
            "progressive",
            "ElizabethWarren",
            "moderatepolitics",
            "SandersForPresident",
            "centerleftpolitics",
            "Pete_Buttigieg",
            "YangForPresidentHQ",
            "politics",
            "ChapoTrapHouse"
           ],
           "type": "scatter3d",
           "x": [
            -0.1571698805899297,
            -0.23021397329886018,
            -0.047629847488645724,
            -0.4302358753335071,
            -0.25569201140296954,
            -0.1590098437782542,
            -0.20817490728767674,
            -0.14282776384723156,
            -0.1723366602389279,
            -0.1487368179690052,
            -0.15417785103180373,
            -0.02948321589245034,
            -0.16614090734557993,
            -0.07073535010166423,
            -0.18746145931363226,
            0.030592611852257215
           ],
           "y": [
            -0.12135456265317397,
            -0.055770413665744076,
            -0.2689398808892013,
            -0.11843964988007151,
            -0.2231102204950214,
            0.13324199554505445,
            -0.19625584728629716,
            -0.08076391341313865,
            -0.05819405814756712,
            -0.14474525408146022,
            -0.15960018446363736,
            -0.14335670177685947,
            -0.06611535013353756,
            -0.1114250381347944,
            -0.11412776147021308,
            -0.13510565307384167
           ],
           "z": [
            -0.044190597556206204,
            0.0010374808608646126,
            -0.05546647818086853,
            -0.02867911660499767,
            -0.22832289108466228,
            0.058890586466128075,
            -0.16529719648215557,
            -0.2077100035594069,
            0.003187417370976014,
            -0.14393806581157198,
            -0.14499836931729151,
            -0.024838004651965482,
            0.008609362166689524,
            0.024543100289759957,
            -0.2353125035814835,
            -0.11799266819197872
           ]
          }
         ],
         "name": "2019-08-01"
        },
        {
         "data": [
          {
           "hovertemplate": "<b>%{hovertext}</b><br><br>partisan=right<br>animation_frame=2019-09-01<br>0=%{x}<br>1=%{y}<br>2=%{z}<br>subreddit=%{text}<extra></extra>",
           "hovertext": [
            "Republican",
            "progun",
            "The_Donald",
            "Conservative",
            "ShitPoliticsSays",
            "Capitalism"
           ],
           "ids": [
            "Republican",
            "progun",
            "The_Donald",
            "Conservative",
            "ShitPoliticsSays",
            "Capitalism"
           ],
           "legendgroup": "right",
           "marker": {
            "color": "red",
            "opacity": 0.7,
            "symbol": "circle"
           },
           "mode": "markers+text",
           "name": "right",
           "scene": "scene",
           "showlegend": true,
           "text": [
            "Republican",
            "progun",
            "The_Donald",
            "Conservative",
            "ShitPoliticsSays",
            "Capitalism"
           ],
           "type": "scatter3d",
           "x": [
            -0.09363072189985551,
            0.004155001014571234,
            0.0566350813552726,
            -0.07973285876064236,
            0.052345106893827,
            -0.035158540094786465
           ],
           "y": [
            -0.056013242192399754,
            -0.12778845992145108,
            0.007563299958913023,
            -0.14333309223891702,
            -0.14355944394514442,
            -0.15497870866118896
           ],
           "z": [
            -0.16599262882505397,
            -0.3572878361500859,
            -0.13035505693301938,
            -0.20197812335756513,
            -0.2009783184635683,
            -0.12243238027645464
           ]
          },
          {
           "hovertemplate": "<b>%{hovertext}</b><br><br>partisan=left<br>animation_frame=2019-09-01<br>0=%{x}<br>1=%{y}<br>2=%{z}<br>subreddit=%{text}<extra></extra>",
           "hovertext": [
            "ChapoTrapHouse",
            "YangForPresidentHQ",
            "Pete_Buttigieg",
            "centerleftpolitics",
            "SandersForPresident",
            "moderatepolitics",
            "ElizabethWarren",
            "progressive",
            "ConservativeDemocrat",
            "BetoORourke",
            "demsocialist",
            "BaemyKlobaechar",
            "politics",
            "SocialDemocracy",
            "Kamala",
            "JoeBiden"
           ],
           "ids": [
            "ChapoTrapHouse",
            "YangForPresidentHQ",
            "Pete_Buttigieg",
            "centerleftpolitics",
            "SandersForPresident",
            "moderatepolitics",
            "ElizabethWarren",
            "progressive",
            "ConservativeDemocrat",
            "BetoORourke",
            "demsocialist",
            "BaemyKlobaechar",
            "politics",
            "SocialDemocracy",
            "Kamala",
            "JoeBiden"
           ],
           "legendgroup": "left",
           "marker": {
            "color": "blue",
            "opacity": 0.7,
            "symbol": "circle"
           },
           "mode": "markers+text",
           "name": "left",
           "scene": "scene",
           "showlegend": true,
           "text": [
            "ChapoTrapHouse",
            "YangForPresidentHQ",
            "Pete_Buttigieg",
            "centerleftpolitics",
            "SandersForPresident",
            "moderatepolitics",
            "ElizabethWarren",
            "progressive",
            "ConservativeDemocrat",
            "BetoORourke",
            "demsocialist",
            "BaemyKlobaechar",
            "politics",
            "SocialDemocracy",
            "Kamala",
            "JoeBiden"
           ],
           "type": "scatter3d",
           "x": [
            0.036240537452968395,
            -0.05391235675832264,
            -0.1645548715291114,
            -0.056432022598431476,
            -0.11905279828668237,
            -0.14826254942542713,
            -0.20271701906922715,
            -0.1472228230406879,
            -0.2662701672611931,
            -0.3115559669308584,
            -0.25475716561738815,
            -0.34977198557817496,
            -0.16440121692768514,
            -0.07740856185398659,
            -0.15438753367468186,
            -0.12175697621024748
           ],
           "y": [
            -0.13154657675715864,
            -0.10401079670413603,
            -0.029765425443183387,
            -0.10363668340119435,
            -0.1328006468580525,
            -0.1360151580828587,
            -0.06236238533584208,
            -0.08627328455749883,
            -0.14269250633024197,
            -0.09715673645222582,
            -0.2792965192058086,
            -0.1941747709561021,
            -0.08624551055521106,
            -0.2222933171060125,
            0.041027806357824506,
            -0.0853130332840687
           ],
           "z": [
            -0.06318361669075177,
            0.024700086048864027,
            -0.0005266531055200469,
            0.018117304130956975,
            -0.13552751259469836,
            -0.144133172386437,
            0.00885666424805788,
            -0.2602831869268183,
            -0.23406779010934906,
            -0.3301821430013531,
            -0.15936820412523175,
            0.0028248462424992995,
            -0.20686247205841068,
            -0.06639157235656629,
            -0.163754995343752,
            -0.05147388381389873
           ]
          }
         ],
         "name": "2019-09-01"
        },
        {
         "data": [
          {
           "hovertemplate": "<b>%{hovertext}</b><br><br>partisan=right<br>animation_frame=2019-10-01<br>0=%{x}<br>1=%{y}<br>2=%{z}<br>subreddit=%{text}<extra></extra>",
           "hovertext": [
            "Capitalism",
            "ShitPoliticsSays",
            "Conservative",
            "The_Donald",
            "progun",
            "Republican"
           ],
           "ids": [
            "Capitalism",
            "ShitPoliticsSays",
            "Conservative",
            "The_Donald",
            "progun",
            "Republican"
           ],
           "legendgroup": "right",
           "marker": {
            "color": "red",
            "opacity": 0.7,
            "symbol": "circle"
           },
           "mode": "markers+text",
           "name": "right",
           "scene": "scene",
           "showlegend": true,
           "text": [
            "Capitalism",
            "ShitPoliticsSays",
            "Conservative",
            "The_Donald",
            "progun",
            "Republican"
           ],
           "type": "scatter3d",
           "x": [
            -0.035103052841816036,
            0.040189459730959144,
            -0.09281386703242228,
            0.03897266273244796,
            0.02877793991424324,
            -0.0929401100055432
           ],
           "y": [
            -0.09193264288811363,
            -0.1556059456544661,
            -0.10633711816393417,
            0.018497020134289263,
            -0.08820686571853459,
            -0.009124955538737878
           ],
           "z": [
            -0.14899322817790256,
            -0.2069654773904421,
            -0.199651017440771,
            -0.13741773142952554,
            -0.3425993821323479,
            -0.17082233459314608
           ]
          },
          {
           "hovertemplate": "<b>%{hovertext}</b><br><br>partisan=left<br>animation_frame=2019-10-01<br>0=%{x}<br>1=%{y}<br>2=%{z}<br>subreddit=%{text}<extra></extra>",
           "hovertext": [
            "JoeBiden",
            "Kamala",
            "SocialDemocracy",
            "BaemyKlobaechar",
            "demsocialist",
            "BetoORourke",
            "ConservativeDemocrat",
            "progressive",
            "ElizabethWarren",
            "moderatepolitics",
            "SandersForPresident",
            "centerleftpolitics",
            "Pete_Buttigieg",
            "YangForPresidentHQ",
            "politics",
            "ChapoTrapHouse"
           ],
           "ids": [
            "JoeBiden",
            "Kamala",
            "SocialDemocracy",
            "BaemyKlobaechar",
            "demsocialist",
            "BetoORourke",
            "ConservativeDemocrat",
            "progressive",
            "ElizabethWarren",
            "moderatepolitics",
            "SandersForPresident",
            "centerleftpolitics",
            "Pete_Buttigieg",
            "YangForPresidentHQ",
            "politics",
            "ChapoTrapHouse"
           ],
           "legendgroup": "left",
           "marker": {
            "color": "blue",
            "opacity": 0.7,
            "symbol": "circle"
           },
           "mode": "markers+text",
           "name": "left",
           "scene": "scene",
           "showlegend": true,
           "text": [
            "JoeBiden",
            "Kamala",
            "SocialDemocracy",
            "BaemyKlobaechar",
            "demsocialist",
            "BetoORourke",
            "ConservativeDemocrat",
            "progressive",
            "ElizabethWarren",
            "moderatepolitics",
            "SandersForPresident",
            "centerleftpolitics",
            "Pete_Buttigieg",
            "YangForPresidentHQ",
            "politics",
            "ChapoTrapHouse"
           ],
           "type": "scatter3d",
           "x": [
            -0.15195909099528054,
            -0.10444039226807776,
            -0.13404266088054065,
            -0.4257369806263337,
            -0.38614228977610254,
            -0.15382796031351179,
            -0.2366319373337955,
            -0.20701383102321938,
            -0.19597107504643435,
            -0.1387811047302994,
            -0.12977534551997771,
            -0.04157193195280151,
            -0.14205987628079175,
            -0.07023082568347055,
            -0.19510818467077382,
            0.034935502930330195
           ],
           "y": [
            -0.036976189405142,
            0.06353118532584848,
            -0.18379888031152694,
            -0.008363579699690173,
            -0.24433545411068802,
            -0.01457507278189729,
            -0.23316935053834728,
            0.0018468980968496826,
            -0.10321482736343833,
            -0.11652974130380758,
            -0.13184497142965415,
            -0.14400098893932925,
            -0.06563008237890147,
            -0.12289535513835194,
            -0.11057300117468331,
            -0.12695415017965705
           ],
           "z": [
            0.0004341951717768606,
            -0.08996051530210535,
            -0.014987731219023795,
            -0.03093713320480824,
            -0.17809286046941475,
            -0.16179720010347887,
            -0.24117323912651933,
            -0.25987366921238875,
            0.0120889282284042,
            -0.1336982872532349,
            -0.09778381047562566,
            0.03775030492252943,
            0.03721176629954581,
            0.011534155441602256,
            -0.17076304196437178,
            -0.06820335796921861
           ]
          }
         ],
         "name": "2019-10-01"
        },
        {
         "data": [
          {
           "hovertemplate": "<b>%{hovertext}</b><br><br>partisan=right<br>animation_frame=2019-11-01<br>0=%{x}<br>1=%{y}<br>2=%{z}<br>subreddit=%{text}<extra></extra>",
           "hovertext": [
            "Capitalism",
            "ShitPoliticsSays",
            "Conservative",
            "The_Donald",
            "progun",
            "Republican"
           ],
           "ids": [
            "Capitalism",
            "ShitPoliticsSays",
            "Conservative",
            "The_Donald",
            "progun",
            "Republican"
           ],
           "legendgroup": "right",
           "marker": {
            "color": "red",
            "opacity": 0.7,
            "symbol": "circle"
           },
           "mode": "markers+text",
           "name": "right",
           "scene": "scene",
           "showlegend": true,
           "text": [
            "Capitalism",
            "ShitPoliticsSays",
            "Conservative",
            "The_Donald",
            "progun",
            "Republican"
           ],
           "type": "scatter3d",
           "x": [
            -0.08433929104860674,
            0.0920532761743922,
            -0.08888042651584248,
            0.05049196414820594,
            0.03165997173425437,
            -0.10275210431293545
           ],
           "y": [
            -0.14245683121635275,
            -0.13510903953072823,
            -0.09731453790098665,
            0.03367735704217735,
            -0.12095608450345911,
            -0.009456960981676844
           ],
           "z": [
            -0.11911667811726036,
            -0.21154417076606938,
            -0.20659012021637774,
            -0.13748397238082555,
            -0.3227131371640794,
            -0.16767310476057595
           ]
          },
          {
           "hovertemplate": "<b>%{hovertext}</b><br><br>partisan=left<br>animation_frame=2019-11-01<br>0=%{x}<br>1=%{y}<br>2=%{z}<br>subreddit=%{text}<extra></extra>",
           "hovertext": [
            "JoeBiden",
            "Kamala",
            "SocialDemocracy",
            "BaemyKlobaechar",
            "demsocialist",
            "BetoORourke",
            "ConservativeDemocrat",
            "progressive",
            "ElizabethWarren",
            "moderatepolitics",
            "SandersForPresident",
            "centerleftpolitics",
            "Pete_Buttigieg",
            "YangForPresidentHQ",
            "politics",
            "ChapoTrapHouse"
           ],
           "ids": [
            "JoeBiden",
            "Kamala",
            "SocialDemocracy",
            "BaemyKlobaechar",
            "demsocialist",
            "BetoORourke",
            "ConservativeDemocrat",
            "progressive",
            "ElizabethWarren",
            "moderatepolitics",
            "SandersForPresident",
            "centerleftpolitics",
            "Pete_Buttigieg",
            "YangForPresidentHQ",
            "politics",
            "ChapoTrapHouse"
           ],
           "legendgroup": "left",
           "marker": {
            "color": "blue",
            "opacity": 0.7,
            "symbol": "circle"
           },
           "mode": "markers+text",
           "name": "left",
           "scene": "scene",
           "showlegend": true,
           "text": [
            "JoeBiden",
            "Kamala",
            "SocialDemocracy",
            "BaemyKlobaechar",
            "demsocialist",
            "BetoORourke",
            "ConservativeDemocrat",
            "progressive",
            "ElizabethWarren",
            "moderatepolitics",
            "SandersForPresident",
            "centerleftpolitics",
            "Pete_Buttigieg",
            "YangForPresidentHQ",
            "politics",
            "ChapoTrapHouse"
           ],
           "type": "scatter3d",
           "x": [
            -0.15687741997813062,
            -0.145869410179131,
            -0.11222091164987989,
            -0.2265671123659954,
            -0.1997346299527679,
            -0.18088064097425482,
            -0.31262674989255385,
            -0.15608938547955878,
            -0.18566918715641317,
            -0.1485183836356117,
            -0.13423824828005393,
            -0.07944137069532906,
            -0.16877689237083987,
            -0.04476703966613416,
            -0.2051390422789573,
            0.03360758799743562
           ],
           "y": [
            -0.09962364085188562,
            0.010697520432424097,
            -0.2182135596698928,
            -0.15914768453028705,
            -0.19220137978814186,
            -0.08905883039226536,
            -0.269505574517842,
            -0.04617745470515644,
            -0.06907613526281557,
            -0.10189545256481117,
            -0.12813621979488996,
            -0.09264613463594097,
            -0.049894468287007616,
            -0.08884295453663157,
            -0.07414857412829667,
            -0.11741123689139067
           ],
           "z": [
            -0.008058205427216063,
            -0.05939328743383149,
            -0.07021749085457059,
            -0.024048745757244055,
            -0.2012296281558445,
            -0.14439927537670103,
            -0.18725597645025546,
            -0.20099008204027993,
            -0.002823675167114209,
            -0.16461758635702117,
            -0.12180472586711397,
            0.018358730522061082,
            -0.0029689786424536603,
            0.017500987066829257,
            -0.20922293217550636,
            -0.0752505565894538
           ]
          }
         ],
         "name": "2019-11-01"
        },
        {
         "data": [
          {
           "hovertemplate": "<b>%{hovertext}</b><br><br>partisan=right<br>animation_frame=2019-12-01<br>0=%{x}<br>1=%{y}<br>2=%{z}<br>subreddit=%{text}<extra></extra>",
           "hovertext": [
            "Capitalism",
            "ShitPoliticsSays",
            "Conservative",
            "The_Donald",
            "progun",
            "Republican"
           ],
           "ids": [
            "Capitalism",
            "ShitPoliticsSays",
            "Conservative",
            "The_Donald",
            "progun",
            "Republican"
           ],
           "legendgroup": "right",
           "marker": {
            "color": "red",
            "opacity": 0.7,
            "symbol": "circle"
           },
           "mode": "markers+text",
           "name": "right",
           "scene": "scene",
           "showlegend": true,
           "text": [
            "Capitalism",
            "ShitPoliticsSays",
            "Conservative",
            "The_Donald",
            "progun",
            "Republican"
           ],
           "type": "scatter3d",
           "x": [
            -0.023765696147552542,
            0.05443969583135231,
            -0.05230062358618697,
            0.04312639006191689,
            0.037712081761257746,
            -0.06689879456063307
           ],
           "y": [
            -0.14276769291486924,
            -0.125911356456624,
            -0.09548837793286709,
            0.01538914201021646,
            -0.09830145590611765,
            -0.012558107173344504
           ],
           "z": [
            -0.08901150795961942,
            -0.22554232651816947,
            -0.19635705286135285,
            -0.13984883321214175,
            -0.3464488819747897,
            -0.18883917049005533
           ]
          },
          {
           "hovertemplate": "<b>%{hovertext}</b><br><br>partisan=left<br>animation_frame=2019-12-01<br>0=%{x}<br>1=%{y}<br>2=%{z}<br>subreddit=%{text}<extra></extra>",
           "hovertext": [
            "JoeBiden",
            "Kamala",
            "SocialDemocracy",
            "BaemyKlobaechar",
            "demsocialist",
            "BetoORourke",
            "ConservativeDemocrat",
            "progressive",
            "ElizabethWarren",
            "moderatepolitics",
            "SandersForPresident",
            "centerleftpolitics",
            "Pete_Buttigieg",
            "YangForPresidentHQ",
            "politics",
            "ChapoTrapHouse"
           ],
           "ids": [
            "JoeBiden",
            "Kamala",
            "SocialDemocracy",
            "BaemyKlobaechar",
            "demsocialist",
            "BetoORourke",
            "ConservativeDemocrat",
            "progressive",
            "ElizabethWarren",
            "moderatepolitics",
            "SandersForPresident",
            "centerleftpolitics",
            "Pete_Buttigieg",
            "YangForPresidentHQ",
            "politics",
            "ChapoTrapHouse"
           ],
           "legendgroup": "left",
           "marker": {
            "color": "blue",
            "opacity": 0.7,
            "symbol": "circle"
           },
           "mode": "markers+text",
           "name": "left",
           "scene": "scene",
           "showlegend": true,
           "text": [
            "JoeBiden",
            "Kamala",
            "SocialDemocracy",
            "BaemyKlobaechar",
            "demsocialist",
            "BetoORourke",
            "ConservativeDemocrat",
            "progressive",
            "ElizabethWarren",
            "moderatepolitics",
            "SandersForPresident",
            "centerleftpolitics",
            "Pete_Buttigieg",
            "YangForPresidentHQ",
            "politics",
            "ChapoTrapHouse"
           ],
           "type": "scatter3d",
           "x": [
            -0.12539028942121966,
            -0.11430024269018757,
            -0.052750234271161635,
            -0.28033609660668857,
            -0.4347712480415612,
            -0.3369199384224998,
            -0.24107745010103523,
            -0.1823868281637312,
            -0.1893639375432581,
            -0.1595642148347978,
            -0.13042398604374164,
            -0.07964473403819002,
            -0.16922922522400427,
            -0.09303380101298489,
            -0.20012800708752979,
            0.022380646349757477
           ],
           "y": [
            -0.042429389318080796,
            0.00534589914218231,
            -0.22983058884638177,
            -0.1631672930372669,
            -0.12141880633743209,
            -0.12738454256173,
            -0.25283982490688894,
            -0.05483653273293608,
            -0.0665329547048069,
            -0.11454699939119184,
            -0.12971380029631002,
            -0.13302150868554707,
            -0.08825663858535039,
            -0.10873159103361434,
            -0.09988935533262486,
            -0.1303389982058809
           ],
           "z": [
            0.0036869053514962677,
            -0.1369229159485479,
            -0.11430637167853445,
            0.04326162963487674,
            -0.28034679605097323,
            -0.1928559533925036,
            -0.28334099045906763,
            -0.21712400388201447,
            0.029631617246894577,
            -0.13267356948094786,
            -0.11657306978072121,
            0.01877627472707801,
            0.004313650806591861,
            0.05912890995914841,
            -0.18219780623857232,
            -0.06461821303132362
           ]
          }
         ],
         "name": "2019-12-01"
        }
       ],
       "layout": {
        "legend": {
         "title": {
          "text": "partisan"
         },
         "tracegroupgap": 0
        },
        "margin": {
         "t": 60
        },
        "scene": {
         "domain": {
          "x": [
           0,
           1
          ],
          "y": [
           0,
           1
          ]
         },
         "xaxis": {
          "title": {
           "text": "0"
          }
         },
         "yaxis": {
          "title": {
           "text": "1"
          }
         },
         "zaxis": {
          "title": {
           "text": "2"
          }
         }
        },
        "sliders": [
         {
          "active": 0,
          "currentvalue": {
           "prefix": "animation_frame="
          },
          "len": 0.9,
          "pad": {
           "b": 10,
           "t": 60
          },
          "steps": [
           {
            "args": [
             [
              "2019-01-01"
             ],
             {
              "frame": {
               "duration": 0,
               "redraw": true
              },
              "fromcurrent": true,
              "mode": "immediate",
              "transition": {
               "duration": 0,
               "easing": "linear"
              }
             }
            ],
            "label": "2019-01-01",
            "method": "animate"
           },
           {
            "args": [
             [
              "2019-02-01"
             ],
             {
              "frame": {
               "duration": 0,
               "redraw": true
              },
              "fromcurrent": true,
              "mode": "immediate",
              "transition": {
               "duration": 0,
               "easing": "linear"
              }
             }
            ],
            "label": "2019-02-01",
            "method": "animate"
           },
           {
            "args": [
             [
              "2019-03-01"
             ],
             {
              "frame": {
               "duration": 0,
               "redraw": true
              },
              "fromcurrent": true,
              "mode": "immediate",
              "transition": {
               "duration": 0,
               "easing": "linear"
              }
             }
            ],
            "label": "2019-03-01",
            "method": "animate"
           },
           {
            "args": [
             [
              "2019-04-01"
             ],
             {
              "frame": {
               "duration": 0,
               "redraw": true
              },
              "fromcurrent": true,
              "mode": "immediate",
              "transition": {
               "duration": 0,
               "easing": "linear"
              }
             }
            ],
            "label": "2019-04-01",
            "method": "animate"
           },
           {
            "args": [
             [
              "2019-05-01"
             ],
             {
              "frame": {
               "duration": 0,
               "redraw": true
              },
              "fromcurrent": true,
              "mode": "immediate",
              "transition": {
               "duration": 0,
               "easing": "linear"
              }
             }
            ],
            "label": "2019-05-01",
            "method": "animate"
           },
           {
            "args": [
             [
              "2019-06-01"
             ],
             {
              "frame": {
               "duration": 0,
               "redraw": true
              },
              "fromcurrent": true,
              "mode": "immediate",
              "transition": {
               "duration": 0,
               "easing": "linear"
              }
             }
            ],
            "label": "2019-06-01",
            "method": "animate"
           },
           {
            "args": [
             [
              "2019-07-01"
             ],
             {
              "frame": {
               "duration": 0,
               "redraw": true
              },
              "fromcurrent": true,
              "mode": "immediate",
              "transition": {
               "duration": 0,
               "easing": "linear"
              }
             }
            ],
            "label": "2019-07-01",
            "method": "animate"
           },
           {
            "args": [
             [
              "2019-08-01"
             ],
             {
              "frame": {
               "duration": 0,
               "redraw": true
              },
              "fromcurrent": true,
              "mode": "immediate",
              "transition": {
               "duration": 0,
               "easing": "linear"
              }
             }
            ],
            "label": "2019-08-01",
            "method": "animate"
           },
           {
            "args": [
             [
              "2019-09-01"
             ],
             {
              "frame": {
               "duration": 0,
               "redraw": true
              },
              "fromcurrent": true,
              "mode": "immediate",
              "transition": {
               "duration": 0,
               "easing": "linear"
              }
             }
            ],
            "label": "2019-09-01",
            "method": "animate"
           },
           {
            "args": [
             [
              "2019-10-01"
             ],
             {
              "frame": {
               "duration": 0,
               "redraw": true
              },
              "fromcurrent": true,
              "mode": "immediate",
              "transition": {
               "duration": 0,
               "easing": "linear"
              }
             }
            ],
            "label": "2019-10-01",
            "method": "animate"
           },
           {
            "args": [
             [
              "2019-11-01"
             ],
             {
              "frame": {
               "duration": 0,
               "redraw": true
              },
              "fromcurrent": true,
              "mode": "immediate",
              "transition": {
               "duration": 0,
               "easing": "linear"
              }
             }
            ],
            "label": "2019-11-01",
            "method": "animate"
           },
           {
            "args": [
             [
              "2019-12-01"
             ],
             {
              "frame": {
               "duration": 0,
               "redraw": true
              },
              "fromcurrent": true,
              "mode": "immediate",
              "transition": {
               "duration": 0,
               "easing": "linear"
              }
             }
            ],
            "label": "2019-12-01",
            "method": "animate"
           }
          ],
          "x": 0.1,
          "xanchor": "left",
          "y": 0,
          "yanchor": "top"
         }
        ],
        "template": {
         "data": {
          "bar": [
           {
            "error_x": {
             "color": "#2a3f5f"
            },
            "error_y": {
             "color": "#2a3f5f"
            },
            "marker": {
             "line": {
              "color": "#E5ECF6",
              "width": 0.5
             }
            },
            "type": "bar"
           }
          ],
          "barpolar": [
           {
            "marker": {
             "line": {
              "color": "#E5ECF6",
              "width": 0.5
             }
            },
            "type": "barpolar"
           }
          ],
          "carpet": [
           {
            "aaxis": {
             "endlinecolor": "#2a3f5f",
             "gridcolor": "white",
             "linecolor": "white",
             "minorgridcolor": "white",
             "startlinecolor": "#2a3f5f"
            },
            "baxis": {
             "endlinecolor": "#2a3f5f",
             "gridcolor": "white",
             "linecolor": "white",
             "minorgridcolor": "white",
             "startlinecolor": "#2a3f5f"
            },
            "type": "carpet"
           }
          ],
          "choropleth": [
           {
            "colorbar": {
             "outlinewidth": 0,
             "ticks": ""
            },
            "type": "choropleth"
           }
          ],
          "contour": [
           {
            "colorbar": {
             "outlinewidth": 0,
             "ticks": ""
            },
            "colorscale": [
             [
              0,
              "#0d0887"
             ],
             [
              0.1111111111111111,
              "#46039f"
             ],
             [
              0.2222222222222222,
              "#7201a8"
             ],
             [
              0.3333333333333333,
              "#9c179e"
             ],
             [
              0.4444444444444444,
              "#bd3786"
             ],
             [
              0.5555555555555556,
              "#d8576b"
             ],
             [
              0.6666666666666666,
              "#ed7953"
             ],
             [
              0.7777777777777778,
              "#fb9f3a"
             ],
             [
              0.8888888888888888,
              "#fdca26"
             ],
             [
              1,
              "#f0f921"
             ]
            ],
            "type": "contour"
           }
          ],
          "contourcarpet": [
           {
            "colorbar": {
             "outlinewidth": 0,
             "ticks": ""
            },
            "type": "contourcarpet"
           }
          ],
          "heatmap": [
           {
            "colorbar": {
             "outlinewidth": 0,
             "ticks": ""
            },
            "colorscale": [
             [
              0,
              "#0d0887"
             ],
             [
              0.1111111111111111,
              "#46039f"
             ],
             [
              0.2222222222222222,
              "#7201a8"
             ],
             [
              0.3333333333333333,
              "#9c179e"
             ],
             [
              0.4444444444444444,
              "#bd3786"
             ],
             [
              0.5555555555555556,
              "#d8576b"
             ],
             [
              0.6666666666666666,
              "#ed7953"
             ],
             [
              0.7777777777777778,
              "#fb9f3a"
             ],
             [
              0.8888888888888888,
              "#fdca26"
             ],
             [
              1,
              "#f0f921"
             ]
            ],
            "type": "heatmap"
           }
          ],
          "heatmapgl": [
           {
            "colorbar": {
             "outlinewidth": 0,
             "ticks": ""
            },
            "colorscale": [
             [
              0,
              "#0d0887"
             ],
             [
              0.1111111111111111,
              "#46039f"
             ],
             [
              0.2222222222222222,
              "#7201a8"
             ],
             [
              0.3333333333333333,
              "#9c179e"
             ],
             [
              0.4444444444444444,
              "#bd3786"
             ],
             [
              0.5555555555555556,
              "#d8576b"
             ],
             [
              0.6666666666666666,
              "#ed7953"
             ],
             [
              0.7777777777777778,
              "#fb9f3a"
             ],
             [
              0.8888888888888888,
              "#fdca26"
             ],
             [
              1,
              "#f0f921"
             ]
            ],
            "type": "heatmapgl"
           }
          ],
          "histogram": [
           {
            "marker": {
             "colorbar": {
              "outlinewidth": 0,
              "ticks": ""
             }
            },
            "type": "histogram"
           }
          ],
          "histogram2d": [
           {
            "colorbar": {
             "outlinewidth": 0,
             "ticks": ""
            },
            "colorscale": [
             [
              0,
              "#0d0887"
             ],
             [
              0.1111111111111111,
              "#46039f"
             ],
             [
              0.2222222222222222,
              "#7201a8"
             ],
             [
              0.3333333333333333,
              "#9c179e"
             ],
             [
              0.4444444444444444,
              "#bd3786"
             ],
             [
              0.5555555555555556,
              "#d8576b"
             ],
             [
              0.6666666666666666,
              "#ed7953"
             ],
             [
              0.7777777777777778,
              "#fb9f3a"
             ],
             [
              0.8888888888888888,
              "#fdca26"
             ],
             [
              1,
              "#f0f921"
             ]
            ],
            "type": "histogram2d"
           }
          ],
          "histogram2dcontour": [
           {
            "colorbar": {
             "outlinewidth": 0,
             "ticks": ""
            },
            "colorscale": [
             [
              0,
              "#0d0887"
             ],
             [
              0.1111111111111111,
              "#46039f"
             ],
             [
              0.2222222222222222,
              "#7201a8"
             ],
             [
              0.3333333333333333,
              "#9c179e"
             ],
             [
              0.4444444444444444,
              "#bd3786"
             ],
             [
              0.5555555555555556,
              "#d8576b"
             ],
             [
              0.6666666666666666,
              "#ed7953"
             ],
             [
              0.7777777777777778,
              "#fb9f3a"
             ],
             [
              0.8888888888888888,
              "#fdca26"
             ],
             [
              1,
              "#f0f921"
             ]
            ],
            "type": "histogram2dcontour"
           }
          ],
          "mesh3d": [
           {
            "colorbar": {
             "outlinewidth": 0,
             "ticks": ""
            },
            "type": "mesh3d"
           }
          ],
          "parcoords": [
           {
            "line": {
             "colorbar": {
              "outlinewidth": 0,
              "ticks": ""
             }
            },
            "type": "parcoords"
           }
          ],
          "pie": [
           {
            "automargin": true,
            "type": "pie"
           }
          ],
          "scatter": [
           {
            "marker": {
             "colorbar": {
              "outlinewidth": 0,
              "ticks": ""
             }
            },
            "type": "scatter"
           }
          ],
          "scatter3d": [
           {
            "line": {
             "colorbar": {
              "outlinewidth": 0,
              "ticks": ""
             }
            },
            "marker": {
             "colorbar": {
              "outlinewidth": 0,
              "ticks": ""
             }
            },
            "type": "scatter3d"
           }
          ],
          "scattercarpet": [
           {
            "marker": {
             "colorbar": {
              "outlinewidth": 0,
              "ticks": ""
             }
            },
            "type": "scattercarpet"
           }
          ],
          "scattergeo": [
           {
            "marker": {
             "colorbar": {
              "outlinewidth": 0,
              "ticks": ""
             }
            },
            "type": "scattergeo"
           }
          ],
          "scattergl": [
           {
            "marker": {
             "colorbar": {
              "outlinewidth": 0,
              "ticks": ""
             }
            },
            "type": "scattergl"
           }
          ],
          "scattermapbox": [
           {
            "marker": {
             "colorbar": {
              "outlinewidth": 0,
              "ticks": ""
             }
            },
            "type": "scattermapbox"
           }
          ],
          "scatterpolar": [
           {
            "marker": {
             "colorbar": {
              "outlinewidth": 0,
              "ticks": ""
             }
            },
            "type": "scatterpolar"
           }
          ],
          "scatterpolargl": [
           {
            "marker": {
             "colorbar": {
              "outlinewidth": 0,
              "ticks": ""
             }
            },
            "type": "scatterpolargl"
           }
          ],
          "scatterternary": [
           {
            "marker": {
             "colorbar": {
              "outlinewidth": 0,
              "ticks": ""
             }
            },
            "type": "scatterternary"
           }
          ],
          "surface": [
           {
            "colorbar": {
             "outlinewidth": 0,
             "ticks": ""
            },
            "colorscale": [
             [
              0,
              "#0d0887"
             ],
             [
              0.1111111111111111,
              "#46039f"
             ],
             [
              0.2222222222222222,
              "#7201a8"
             ],
             [
              0.3333333333333333,
              "#9c179e"
             ],
             [
              0.4444444444444444,
              "#bd3786"
             ],
             [
              0.5555555555555556,
              "#d8576b"
             ],
             [
              0.6666666666666666,
              "#ed7953"
             ],
             [
              0.7777777777777778,
              "#fb9f3a"
             ],
             [
              0.8888888888888888,
              "#fdca26"
             ],
             [
              1,
              "#f0f921"
             ]
            ],
            "type": "surface"
           }
          ],
          "table": [
           {
            "cells": {
             "fill": {
              "color": "#EBF0F8"
             },
             "line": {
              "color": "white"
             }
            },
            "header": {
             "fill": {
              "color": "#C8D4E3"
             },
             "line": {
              "color": "white"
             }
            },
            "type": "table"
           }
          ]
         },
         "layout": {
          "annotationdefaults": {
           "arrowcolor": "#2a3f5f",
           "arrowhead": 0,
           "arrowwidth": 1
          },
          "coloraxis": {
           "colorbar": {
            "outlinewidth": 0,
            "ticks": ""
           }
          },
          "colorscale": {
           "diverging": [
            [
             0,
             "#8e0152"
            ],
            [
             0.1,
             "#c51b7d"
            ],
            [
             0.2,
             "#de77ae"
            ],
            [
             0.3,
             "#f1b6da"
            ],
            [
             0.4,
             "#fde0ef"
            ],
            [
             0.5,
             "#f7f7f7"
            ],
            [
             0.6,
             "#e6f5d0"
            ],
            [
             0.7,
             "#b8e186"
            ],
            [
             0.8,
             "#7fbc41"
            ],
            [
             0.9,
             "#4d9221"
            ],
            [
             1,
             "#276419"
            ]
           ],
           "sequential": [
            [
             0,
             "#0d0887"
            ],
            [
             0.1111111111111111,
             "#46039f"
            ],
            [
             0.2222222222222222,
             "#7201a8"
            ],
            [
             0.3333333333333333,
             "#9c179e"
            ],
            [
             0.4444444444444444,
             "#bd3786"
            ],
            [
             0.5555555555555556,
             "#d8576b"
            ],
            [
             0.6666666666666666,
             "#ed7953"
            ],
            [
             0.7777777777777778,
             "#fb9f3a"
            ],
            [
             0.8888888888888888,
             "#fdca26"
            ],
            [
             1,
             "#f0f921"
            ]
           ],
           "sequentialminus": [
            [
             0,
             "#0d0887"
            ],
            [
             0.1111111111111111,
             "#46039f"
            ],
            [
             0.2222222222222222,
             "#7201a8"
            ],
            [
             0.3333333333333333,
             "#9c179e"
            ],
            [
             0.4444444444444444,
             "#bd3786"
            ],
            [
             0.5555555555555556,
             "#d8576b"
            ],
            [
             0.6666666666666666,
             "#ed7953"
            ],
            [
             0.7777777777777778,
             "#fb9f3a"
            ],
            [
             0.8888888888888888,
             "#fdca26"
            ],
            [
             1,
             "#f0f921"
            ]
           ]
          },
          "colorway": [
           "#636efa",
           "#EF553B",
           "#00cc96",
           "#ab63fa",
           "#FFA15A",
           "#19d3f3",
           "#FF6692",
           "#B6E880",
           "#FF97FF",
           "#FECB52"
          ],
          "font": {
           "color": "#2a3f5f"
          },
          "geo": {
           "bgcolor": "white",
           "lakecolor": "white",
           "landcolor": "#E5ECF6",
           "showlakes": true,
           "showland": true,
           "subunitcolor": "white"
          },
          "hoverlabel": {
           "align": "left"
          },
          "hovermode": "closest",
          "mapbox": {
           "style": "light"
          },
          "paper_bgcolor": "white",
          "plot_bgcolor": "#E5ECF6",
          "polar": {
           "angularaxis": {
            "gridcolor": "white",
            "linecolor": "white",
            "ticks": ""
           },
           "bgcolor": "#E5ECF6",
           "radialaxis": {
            "gridcolor": "white",
            "linecolor": "white",
            "ticks": ""
           }
          },
          "scene": {
           "xaxis": {
            "backgroundcolor": "#E5ECF6",
            "gridcolor": "white",
            "gridwidth": 2,
            "linecolor": "white",
            "showbackground": true,
            "ticks": "",
            "zerolinecolor": "white"
           },
           "yaxis": {
            "backgroundcolor": "#E5ECF6",
            "gridcolor": "white",
            "gridwidth": 2,
            "linecolor": "white",
            "showbackground": true,
            "ticks": "",
            "zerolinecolor": "white"
           },
           "zaxis": {
            "backgroundcolor": "#E5ECF6",
            "gridcolor": "white",
            "gridwidth": 2,
            "linecolor": "white",
            "showbackground": true,
            "ticks": "",
            "zerolinecolor": "white"
           }
          },
          "shapedefaults": {
           "line": {
            "color": "#2a3f5f"
           }
          },
          "ternary": {
           "aaxis": {
            "gridcolor": "white",
            "linecolor": "white",
            "ticks": ""
           },
           "baxis": {
            "gridcolor": "white",
            "linecolor": "white",
            "ticks": ""
           },
           "bgcolor": "#E5ECF6",
           "caxis": {
            "gridcolor": "white",
            "linecolor": "white",
            "ticks": ""
           }
          },
          "title": {
           "x": 0.05
          },
          "xaxis": {
           "automargin": true,
           "gridcolor": "white",
           "linecolor": "white",
           "ticks": "",
           "title": {
            "standoff": 15
           },
           "zerolinecolor": "white",
           "zerolinewidth": 2
          },
          "yaxis": {
           "automargin": true,
           "gridcolor": "white",
           "linecolor": "white",
           "ticks": "",
           "title": {
            "standoff": 15
           },
           "zerolinecolor": "white",
           "zerolinewidth": 2
          }
         }
        },
        "updatemenus": [
         {
          "buttons": [
           {
            "args": [
             null,
             {
              "frame": {
               "duration": 500,
               "redraw": true
              },
              "fromcurrent": true,
              "mode": "immediate",
              "transition": {
               "duration": 500,
               "easing": "linear"
              }
             }
            ],
            "label": "&#9654;",
            "method": "animate"
           },
           {
            "args": [
             [
              null
             ],
             {
              "frame": {
               "duration": 0,
               "redraw": true
              },
              "fromcurrent": true,
              "mode": "immediate",
              "transition": {
               "duration": 0,
               "easing": "linear"
              }
             }
            ],
            "label": "&#9724;",
            "method": "animate"
           }
          ],
          "direction": "left",
          "pad": {
           "r": 10,
           "t": 70
          },
          "showactive": false,
          "type": "buttons",
          "x": 0.1,
          "xanchor": "right",
          "y": 0,
          "yanchor": "top"
         }
        ]
       }
      },
      "text/html": [
       "<div>\n",
       "        \n",
       "        \n",
       "            <div id=\"908b49bc-1123-4ac6-9c19-fa20eed7575d\" class=\"plotly-graph-div\" style=\"height:525px; width:100%;\"></div>\n",
       "            <script type=\"text/javascript\">\n",
       "                require([\"plotly\"], function(Plotly) {\n",
       "                    window.PLOTLYENV=window.PLOTLYENV || {};\n",
       "                    \n",
       "                if (document.getElementById(\"908b49bc-1123-4ac6-9c19-fa20eed7575d\")) {\n",
       "                    Plotly.newPlot(\n",
       "                        '908b49bc-1123-4ac6-9c19-fa20eed7575d',\n",
       "                        [{\"hovertemplate\": \"<b>%{hovertext}</b><br><br>partisan=right<br>animation_frame=2019-01-01<br>0=%{x}<br>1=%{y}<br>2=%{z}<br>subreddit=%{text}<extra></extra>\", \"hovertext\": [\"Capitalism\", \"ShitPoliticsSays\", \"Conservative\", \"The_Donald\", \"progun\", \"Republican\"], \"ids\": [\"Capitalism\", \"ShitPoliticsSays\", \"Conservative\", \"The_Donald\", \"progun\", \"Republican\"], \"legendgroup\": \"right\", \"marker\": {\"color\": \"red\", \"opacity\": 0.7, \"symbol\": \"circle\"}, \"mode\": \"markers+text\", \"name\": \"right\", \"scene\": \"scene\", \"showlegend\": true, \"text\": [\"Capitalism\", \"ShitPoliticsSays\", \"Conservative\", \"The_Donald\", \"progun\", \"Republican\"], \"type\": \"scatter3d\", \"x\": [-0.04553778365267362, 0.036470729433327256, -0.10919960995596978, 0.0111627881391258, -0.03663695986999487, -0.15344346273729292], \"y\": [-0.19816567647003028, -0.13361597103688838, -0.10510581558726773, 0.004204644386902121, -0.04259034385658582, -0.10535113390416395], \"z\": [-0.13017256642164257, -0.20401351434040935, -0.2235470395366092, -0.16347973868529264, -0.3436612581354324, -0.1957593339645204]}, {\"hovertemplate\": \"<b>%{hovertext}</b><br><br>partisan=left<br>animation_frame=2019-01-01<br>0=%{x}<br>1=%{y}<br>2=%{z}<br>subreddit=%{text}<extra></extra>\", \"hovertext\": [\"JoeBiden\", \"Kamala\", \"SocialDemocracy\", \"BaemyKlobaechar\", \"demsocialist\", \"BetoORourke\", \"ConservativeDemocrat\", \"progressive\", \"ElizabethWarren\", \"moderatepolitics\", \"SandersForPresident\", \"centerleftpolitics\", \"Pete_Buttigieg\", \"YangForPresidentHQ\", \"politics\", \"ChapoTrapHouse\"], \"ids\": [\"JoeBiden\", \"Kamala\", \"SocialDemocracy\", \"BaemyKlobaechar\", \"demsocialist\", \"BetoORourke\", \"ConservativeDemocrat\", \"progressive\", \"ElizabethWarren\", \"moderatepolitics\", \"SandersForPresident\", \"centerleftpolitics\", \"Pete_Buttigieg\", \"YangForPresidentHQ\", \"politics\", \"ChapoTrapHouse\"], \"legendgroup\": \"left\", \"marker\": {\"color\": \"blue\", \"opacity\": 0.7, \"symbol\": \"circle\"}, \"mode\": \"markers+text\", \"name\": \"left\", \"scene\": \"scene\", \"showlegend\": true, \"text\": [\"JoeBiden\", \"Kamala\", \"SocialDemocracy\", \"BaemyKlobaechar\", \"demsocialist\", \"BetoORourke\", \"ConservativeDemocrat\", \"progressive\", \"ElizabethWarren\", \"moderatepolitics\", \"SandersForPresident\", \"centerleftpolitics\", \"Pete_Buttigieg\", \"YangForPresidentHQ\", \"politics\", \"ChapoTrapHouse\"], \"type\": \"scatter3d\", \"x\": [-0.0641495822408404, -0.23969998875996743, -0.15124787307261212, -0.23526944270829758, -0.29541603537728933, -0.04964967558273419, -0.21077785508868574, -0.17537586110336884, -0.30986548787033885, -0.15180664667957375, -0.1482516142514654, -0.05599623750947998, -0.24600516008450105, -0.2242025845565985, -0.233548843845657, -0.0034508358973730073], \"y\": [-0.21702116164864124, -0.017868122584142054, -0.20590226123035815, -0.23500309574145067, -0.15833391222840595, -0.0863594361998963, -0.3121689243375119, -0.06557612416017855, -0.09181678389338034, -0.11195530159421785, -0.08050892574070444, -0.11523673790499886, -0.23099543419074353, -0.061230055880372294, -0.0886677772119304, -0.10293826147301699], \"z\": [-0.1729256625331522, 0.003496869387634574, -0.03714478909780623, -0.09611785497271684, -0.1818376176367168, -0.19297485340092319, -0.3593224717368653, -0.21214657493762099, -0.01883558563541368, -0.17126010174443176, -0.1811220959532294, -0.05525308592009071, 0.043594513180277794, 0.16884231785059226, -0.2216767371358863, -0.10626561441078788]}],\n",
       "                        {\"legend\": {\"title\": {\"text\": \"partisan\"}, \"tracegroupgap\": 0}, \"margin\": {\"t\": 60}, \"scene\": {\"domain\": {\"x\": [0.0, 1.0], \"y\": [0.0, 1.0]}, \"xaxis\": {\"title\": {\"text\": \"0\"}}, \"yaxis\": {\"title\": {\"text\": \"1\"}}, \"zaxis\": {\"title\": {\"text\": \"2\"}}}, \"sliders\": [{\"active\": 0, \"currentvalue\": {\"prefix\": \"animation_frame=\"}, \"len\": 0.9, \"pad\": {\"b\": 10, \"t\": 60}, \"steps\": [{\"args\": [[\"2019-01-01\"], {\"frame\": {\"duration\": 0, \"redraw\": true}, \"fromcurrent\": true, \"mode\": \"immediate\", \"transition\": {\"duration\": 0, \"easing\": \"linear\"}}], \"label\": \"2019-01-01\", \"method\": \"animate\"}, {\"args\": [[\"2019-02-01\"], {\"frame\": {\"duration\": 0, \"redraw\": true}, \"fromcurrent\": true, \"mode\": \"immediate\", \"transition\": {\"duration\": 0, \"easing\": \"linear\"}}], \"label\": \"2019-02-01\", \"method\": \"animate\"}, {\"args\": [[\"2019-03-01\"], {\"frame\": {\"duration\": 0, \"redraw\": true}, \"fromcurrent\": true, \"mode\": \"immediate\", \"transition\": {\"duration\": 0, \"easing\": \"linear\"}}], \"label\": \"2019-03-01\", \"method\": \"animate\"}, {\"args\": [[\"2019-04-01\"], {\"frame\": {\"duration\": 0, \"redraw\": true}, \"fromcurrent\": true, \"mode\": \"immediate\", \"transition\": {\"duration\": 0, \"easing\": \"linear\"}}], \"label\": \"2019-04-01\", \"method\": \"animate\"}, {\"args\": [[\"2019-05-01\"], {\"frame\": {\"duration\": 0, \"redraw\": true}, \"fromcurrent\": true, \"mode\": \"immediate\", \"transition\": {\"duration\": 0, \"easing\": \"linear\"}}], \"label\": \"2019-05-01\", \"method\": \"animate\"}, {\"args\": [[\"2019-06-01\"], {\"frame\": {\"duration\": 0, \"redraw\": true}, \"fromcurrent\": true, \"mode\": \"immediate\", \"transition\": {\"duration\": 0, \"easing\": \"linear\"}}], \"label\": \"2019-06-01\", \"method\": \"animate\"}, {\"args\": [[\"2019-07-01\"], {\"frame\": {\"duration\": 0, \"redraw\": true}, \"fromcurrent\": true, \"mode\": \"immediate\", \"transition\": {\"duration\": 0, \"easing\": \"linear\"}}], \"label\": \"2019-07-01\", \"method\": \"animate\"}, {\"args\": [[\"2019-08-01\"], {\"frame\": {\"duration\": 0, \"redraw\": true}, \"fromcurrent\": true, \"mode\": \"immediate\", \"transition\": {\"duration\": 0, \"easing\": \"linear\"}}], \"label\": \"2019-08-01\", \"method\": \"animate\"}, {\"args\": [[\"2019-09-01\"], {\"frame\": {\"duration\": 0, \"redraw\": true}, \"fromcurrent\": true, \"mode\": \"immediate\", \"transition\": {\"duration\": 0, \"easing\": \"linear\"}}], \"label\": \"2019-09-01\", \"method\": \"animate\"}, {\"args\": [[\"2019-10-01\"], {\"frame\": {\"duration\": 0, \"redraw\": true}, \"fromcurrent\": true, \"mode\": \"immediate\", \"transition\": {\"duration\": 0, \"easing\": \"linear\"}}], \"label\": \"2019-10-01\", \"method\": \"animate\"}, {\"args\": [[\"2019-11-01\"], {\"frame\": {\"duration\": 0, \"redraw\": true}, \"fromcurrent\": true, \"mode\": \"immediate\", \"transition\": {\"duration\": 0, \"easing\": \"linear\"}}], \"label\": \"2019-11-01\", \"method\": \"animate\"}, {\"args\": [[\"2019-12-01\"], {\"frame\": {\"duration\": 0, \"redraw\": true}, \"fromcurrent\": true, \"mode\": \"immediate\", \"transition\": {\"duration\": 0, \"easing\": \"linear\"}}], \"label\": \"2019-12-01\", \"method\": \"animate\"}], \"x\": 0.1, \"xanchor\": \"left\", \"y\": 0, \"yanchor\": \"top\"}], \"template\": {\"data\": {\"bar\": [{\"error_x\": {\"color\": \"#2a3f5f\"}, \"error_y\": {\"color\": \"#2a3f5f\"}, \"marker\": {\"line\": {\"color\": \"#E5ECF6\", \"width\": 0.5}}, \"type\": \"bar\"}], \"barpolar\": [{\"marker\": {\"line\": {\"color\": \"#E5ECF6\", \"width\": 0.5}}, \"type\": \"barpolar\"}], \"carpet\": [{\"aaxis\": {\"endlinecolor\": \"#2a3f5f\", \"gridcolor\": \"white\", \"linecolor\": \"white\", \"minorgridcolor\": \"white\", \"startlinecolor\": \"#2a3f5f\"}, \"baxis\": {\"endlinecolor\": \"#2a3f5f\", \"gridcolor\": \"white\", \"linecolor\": \"white\", \"minorgridcolor\": \"white\", \"startlinecolor\": \"#2a3f5f\"}, \"type\": \"carpet\"}], \"choropleth\": [{\"colorbar\": {\"outlinewidth\": 0, \"ticks\": \"\"}, \"type\": \"choropleth\"}], \"contour\": [{\"colorbar\": {\"outlinewidth\": 0, \"ticks\": \"\"}, \"colorscale\": [[0.0, \"#0d0887\"], [0.1111111111111111, \"#46039f\"], [0.2222222222222222, \"#7201a8\"], [0.3333333333333333, \"#9c179e\"], [0.4444444444444444, \"#bd3786\"], [0.5555555555555556, \"#d8576b\"], [0.6666666666666666, \"#ed7953\"], [0.7777777777777778, \"#fb9f3a\"], [0.8888888888888888, \"#fdca26\"], [1.0, \"#f0f921\"]], \"type\": \"contour\"}], \"contourcarpet\": [{\"colorbar\": {\"outlinewidth\": 0, \"ticks\": \"\"}, \"type\": \"contourcarpet\"}], \"heatmap\": [{\"colorbar\": {\"outlinewidth\": 0, \"ticks\": \"\"}, \"colorscale\": [[0.0, \"#0d0887\"], [0.1111111111111111, \"#46039f\"], [0.2222222222222222, \"#7201a8\"], [0.3333333333333333, \"#9c179e\"], [0.4444444444444444, \"#bd3786\"], [0.5555555555555556, \"#d8576b\"], [0.6666666666666666, \"#ed7953\"], [0.7777777777777778, \"#fb9f3a\"], [0.8888888888888888, \"#fdca26\"], [1.0, \"#f0f921\"]], \"type\": \"heatmap\"}], \"heatmapgl\": [{\"colorbar\": {\"outlinewidth\": 0, \"ticks\": \"\"}, \"colorscale\": [[0.0, \"#0d0887\"], [0.1111111111111111, \"#46039f\"], [0.2222222222222222, \"#7201a8\"], [0.3333333333333333, \"#9c179e\"], [0.4444444444444444, \"#bd3786\"], [0.5555555555555556, \"#d8576b\"], [0.6666666666666666, \"#ed7953\"], [0.7777777777777778, \"#fb9f3a\"], [0.8888888888888888, \"#fdca26\"], [1.0, \"#f0f921\"]], \"type\": \"heatmapgl\"}], \"histogram\": [{\"marker\": {\"colorbar\": {\"outlinewidth\": 0, \"ticks\": \"\"}}, \"type\": \"histogram\"}], \"histogram2d\": [{\"colorbar\": {\"outlinewidth\": 0, \"ticks\": \"\"}, \"colorscale\": [[0.0, \"#0d0887\"], [0.1111111111111111, \"#46039f\"], [0.2222222222222222, \"#7201a8\"], [0.3333333333333333, \"#9c179e\"], [0.4444444444444444, \"#bd3786\"], [0.5555555555555556, \"#d8576b\"], [0.6666666666666666, \"#ed7953\"], [0.7777777777777778, \"#fb9f3a\"], [0.8888888888888888, \"#fdca26\"], [1.0, \"#f0f921\"]], \"type\": \"histogram2d\"}], \"histogram2dcontour\": [{\"colorbar\": {\"outlinewidth\": 0, \"ticks\": \"\"}, \"colorscale\": [[0.0, \"#0d0887\"], [0.1111111111111111, \"#46039f\"], [0.2222222222222222, \"#7201a8\"], [0.3333333333333333, \"#9c179e\"], [0.4444444444444444, \"#bd3786\"], [0.5555555555555556, \"#d8576b\"], [0.6666666666666666, \"#ed7953\"], [0.7777777777777778, \"#fb9f3a\"], [0.8888888888888888, \"#fdca26\"], [1.0, \"#f0f921\"]], \"type\": \"histogram2dcontour\"}], \"mesh3d\": [{\"colorbar\": {\"outlinewidth\": 0, \"ticks\": \"\"}, \"type\": \"mesh3d\"}], \"parcoords\": [{\"line\": {\"colorbar\": {\"outlinewidth\": 0, \"ticks\": \"\"}}, \"type\": \"parcoords\"}], \"pie\": [{\"automargin\": true, \"type\": \"pie\"}], \"scatter\": [{\"marker\": {\"colorbar\": {\"outlinewidth\": 0, \"ticks\": \"\"}}, \"type\": \"scatter\"}], \"scatter3d\": [{\"line\": {\"colorbar\": {\"outlinewidth\": 0, \"ticks\": \"\"}}, \"marker\": {\"colorbar\": {\"outlinewidth\": 0, \"ticks\": \"\"}}, \"type\": \"scatter3d\"}], \"scattercarpet\": [{\"marker\": {\"colorbar\": {\"outlinewidth\": 0, \"ticks\": \"\"}}, \"type\": \"scattercarpet\"}], \"scattergeo\": [{\"marker\": {\"colorbar\": {\"outlinewidth\": 0, \"ticks\": \"\"}}, \"type\": \"scattergeo\"}], \"scattergl\": [{\"marker\": {\"colorbar\": {\"outlinewidth\": 0, \"ticks\": \"\"}}, \"type\": \"scattergl\"}], \"scattermapbox\": [{\"marker\": {\"colorbar\": {\"outlinewidth\": 0, \"ticks\": \"\"}}, \"type\": \"scattermapbox\"}], \"scatterpolar\": [{\"marker\": {\"colorbar\": {\"outlinewidth\": 0, \"ticks\": \"\"}}, \"type\": \"scatterpolar\"}], \"scatterpolargl\": [{\"marker\": {\"colorbar\": {\"outlinewidth\": 0, \"ticks\": \"\"}}, \"type\": \"scatterpolargl\"}], \"scatterternary\": [{\"marker\": {\"colorbar\": {\"outlinewidth\": 0, \"ticks\": \"\"}}, \"type\": \"scatterternary\"}], \"surface\": [{\"colorbar\": {\"outlinewidth\": 0, \"ticks\": \"\"}, \"colorscale\": [[0.0, \"#0d0887\"], [0.1111111111111111, \"#46039f\"], [0.2222222222222222, \"#7201a8\"], [0.3333333333333333, \"#9c179e\"], [0.4444444444444444, \"#bd3786\"], [0.5555555555555556, \"#d8576b\"], [0.6666666666666666, \"#ed7953\"], [0.7777777777777778, \"#fb9f3a\"], [0.8888888888888888, \"#fdca26\"], [1.0, \"#f0f921\"]], \"type\": \"surface\"}], \"table\": [{\"cells\": {\"fill\": {\"color\": \"#EBF0F8\"}, \"line\": {\"color\": \"white\"}}, \"header\": {\"fill\": {\"color\": \"#C8D4E3\"}, \"line\": {\"color\": \"white\"}}, \"type\": \"table\"}]}, \"layout\": {\"annotationdefaults\": {\"arrowcolor\": \"#2a3f5f\", \"arrowhead\": 0, \"arrowwidth\": 1}, \"coloraxis\": {\"colorbar\": {\"outlinewidth\": 0, \"ticks\": \"\"}}, \"colorscale\": {\"diverging\": [[0, \"#8e0152\"], [0.1, \"#c51b7d\"], [0.2, \"#de77ae\"], [0.3, \"#f1b6da\"], [0.4, \"#fde0ef\"], [0.5, \"#f7f7f7\"], [0.6, \"#e6f5d0\"], [0.7, \"#b8e186\"], [0.8, \"#7fbc41\"], [0.9, \"#4d9221\"], [1, \"#276419\"]], \"sequential\": [[0.0, \"#0d0887\"], [0.1111111111111111, \"#46039f\"], [0.2222222222222222, \"#7201a8\"], [0.3333333333333333, \"#9c179e\"], [0.4444444444444444, \"#bd3786\"], [0.5555555555555556, \"#d8576b\"], [0.6666666666666666, \"#ed7953\"], [0.7777777777777778, \"#fb9f3a\"], [0.8888888888888888, \"#fdca26\"], [1.0, \"#f0f921\"]], \"sequentialminus\": [[0.0, \"#0d0887\"], [0.1111111111111111, \"#46039f\"], [0.2222222222222222, \"#7201a8\"], [0.3333333333333333, \"#9c179e\"], [0.4444444444444444, \"#bd3786\"], [0.5555555555555556, \"#d8576b\"], [0.6666666666666666, \"#ed7953\"], [0.7777777777777778, \"#fb9f3a\"], [0.8888888888888888, \"#fdca26\"], [1.0, \"#f0f921\"]]}, \"colorway\": [\"#636efa\", \"#EF553B\", \"#00cc96\", \"#ab63fa\", \"#FFA15A\", \"#19d3f3\", \"#FF6692\", \"#B6E880\", \"#FF97FF\", \"#FECB52\"], \"font\": {\"color\": \"#2a3f5f\"}, \"geo\": {\"bgcolor\": \"white\", \"lakecolor\": \"white\", \"landcolor\": \"#E5ECF6\", \"showlakes\": true, \"showland\": true, \"subunitcolor\": \"white\"}, \"hoverlabel\": {\"align\": \"left\"}, \"hovermode\": \"closest\", \"mapbox\": {\"style\": \"light\"}, \"paper_bgcolor\": \"white\", \"plot_bgcolor\": \"#E5ECF6\", \"polar\": {\"angularaxis\": {\"gridcolor\": \"white\", \"linecolor\": \"white\", \"ticks\": \"\"}, \"bgcolor\": \"#E5ECF6\", \"radialaxis\": {\"gridcolor\": \"white\", \"linecolor\": \"white\", \"ticks\": \"\"}}, \"scene\": {\"xaxis\": {\"backgroundcolor\": \"#E5ECF6\", \"gridcolor\": \"white\", \"gridwidth\": 2, \"linecolor\": \"white\", \"showbackground\": true, \"ticks\": \"\", \"zerolinecolor\": \"white\"}, \"yaxis\": {\"backgroundcolor\": \"#E5ECF6\", \"gridcolor\": \"white\", \"gridwidth\": 2, \"linecolor\": \"white\", \"showbackground\": true, \"ticks\": \"\", \"zerolinecolor\": \"white\"}, \"zaxis\": {\"backgroundcolor\": \"#E5ECF6\", \"gridcolor\": \"white\", \"gridwidth\": 2, \"linecolor\": \"white\", \"showbackground\": true, \"ticks\": \"\", \"zerolinecolor\": \"white\"}}, \"shapedefaults\": {\"line\": {\"color\": \"#2a3f5f\"}}, \"ternary\": {\"aaxis\": {\"gridcolor\": \"white\", \"linecolor\": \"white\", \"ticks\": \"\"}, \"baxis\": {\"gridcolor\": \"white\", \"linecolor\": \"white\", \"ticks\": \"\"}, \"bgcolor\": \"#E5ECF6\", \"caxis\": {\"gridcolor\": \"white\", \"linecolor\": \"white\", \"ticks\": \"\"}}, \"title\": {\"x\": 0.05}, \"xaxis\": {\"automargin\": true, \"gridcolor\": \"white\", \"linecolor\": \"white\", \"ticks\": \"\", \"title\": {\"standoff\": 15}, \"zerolinecolor\": \"white\", \"zerolinewidth\": 2}, \"yaxis\": {\"automargin\": true, \"gridcolor\": \"white\", \"linecolor\": \"white\", \"ticks\": \"\", \"title\": {\"standoff\": 15}, \"zerolinecolor\": \"white\", \"zerolinewidth\": 2}}}, \"updatemenus\": [{\"buttons\": [{\"args\": [null, {\"frame\": {\"duration\": 500, \"redraw\": true}, \"fromcurrent\": true, \"mode\": \"immediate\", \"transition\": {\"duration\": 500, \"easing\": \"linear\"}}], \"label\": \"&#9654;\", \"method\": \"animate\"}, {\"args\": [[null], {\"frame\": {\"duration\": 0, \"redraw\": true}, \"fromcurrent\": true, \"mode\": \"immediate\", \"transition\": {\"duration\": 0, \"easing\": \"linear\"}}], \"label\": \"&#9724;\", \"method\": \"animate\"}], \"direction\": \"left\", \"pad\": {\"r\": 10, \"t\": 70}, \"showactive\": false, \"type\": \"buttons\", \"x\": 0.1, \"xanchor\": \"right\", \"y\": 0, \"yanchor\": \"top\"}]},\n",
       "                        {\"responsive\": true}\n",
       "                    ).then(function(){\n",
       "                            Plotly.addFrames('908b49bc-1123-4ac6-9c19-fa20eed7575d', [{\"data\": [{\"hovertemplate\": \"<b>%{hovertext}</b><br><br>partisan=right<br>animation_frame=2019-01-01<br>0=%{x}<br>1=%{y}<br>2=%{z}<br>subreddit=%{text}<extra></extra>\", \"hovertext\": [\"Capitalism\", \"ShitPoliticsSays\", \"Conservative\", \"The_Donald\", \"progun\", \"Republican\"], \"ids\": [\"Capitalism\", \"ShitPoliticsSays\", \"Conservative\", \"The_Donald\", \"progun\", \"Republican\"], \"legendgroup\": \"right\", \"marker\": {\"color\": \"red\", \"opacity\": 0.7, \"symbol\": \"circle\"}, \"mode\": \"markers+text\", \"name\": \"right\", \"scene\": \"scene\", \"showlegend\": true, \"text\": [\"Capitalism\", \"ShitPoliticsSays\", \"Conservative\", \"The_Donald\", \"progun\", \"Republican\"], \"x\": [-0.04553778365267362, 0.036470729433327256, -0.10919960995596978, 0.0111627881391258, -0.03663695986999487, -0.15344346273729292], \"y\": [-0.19816567647003028, -0.13361597103688838, -0.10510581558726773, 0.004204644386902121, -0.04259034385658582, -0.10535113390416395], \"z\": [-0.13017256642164257, -0.20401351434040935, -0.2235470395366092, -0.16347973868529264, -0.3436612581354324, -0.1957593339645204], \"type\": \"scatter3d\"}, {\"hovertemplate\": \"<b>%{hovertext}</b><br><br>partisan=left<br>animation_frame=2019-01-01<br>0=%{x}<br>1=%{y}<br>2=%{z}<br>subreddit=%{text}<extra></extra>\", \"hovertext\": [\"JoeBiden\", \"Kamala\", \"SocialDemocracy\", \"BaemyKlobaechar\", \"demsocialist\", \"BetoORourke\", \"ConservativeDemocrat\", \"progressive\", \"ElizabethWarren\", \"moderatepolitics\", \"SandersForPresident\", \"centerleftpolitics\", \"Pete_Buttigieg\", \"YangForPresidentHQ\", \"politics\", \"ChapoTrapHouse\"], \"ids\": [\"JoeBiden\", \"Kamala\", \"SocialDemocracy\", \"BaemyKlobaechar\", \"demsocialist\", \"BetoORourke\", \"ConservativeDemocrat\", \"progressive\", \"ElizabethWarren\", \"moderatepolitics\", \"SandersForPresident\", \"centerleftpolitics\", \"Pete_Buttigieg\", \"YangForPresidentHQ\", \"politics\", \"ChapoTrapHouse\"], \"legendgroup\": \"left\", \"marker\": {\"color\": \"blue\", \"opacity\": 0.7, \"symbol\": \"circle\"}, \"mode\": \"markers+text\", \"name\": \"left\", \"scene\": \"scene\", \"showlegend\": true, \"text\": [\"JoeBiden\", \"Kamala\", \"SocialDemocracy\", \"BaemyKlobaechar\", \"demsocialist\", \"BetoORourke\", \"ConservativeDemocrat\", \"progressive\", \"ElizabethWarren\", \"moderatepolitics\", \"SandersForPresident\", \"centerleftpolitics\", \"Pete_Buttigieg\", \"YangForPresidentHQ\", \"politics\", \"ChapoTrapHouse\"], \"x\": [-0.0641495822408404, -0.23969998875996743, -0.15124787307261212, -0.23526944270829758, -0.29541603537728933, -0.04964967558273419, -0.21077785508868574, -0.17537586110336884, -0.30986548787033885, -0.15180664667957375, -0.1482516142514654, -0.05599623750947998, -0.24600516008450105, -0.2242025845565985, -0.233548843845657, -0.0034508358973730073], \"y\": [-0.21702116164864124, -0.017868122584142054, -0.20590226123035815, -0.23500309574145067, -0.15833391222840595, -0.0863594361998963, -0.3121689243375119, -0.06557612416017855, -0.09181678389338034, -0.11195530159421785, -0.08050892574070444, -0.11523673790499886, -0.23099543419074353, -0.061230055880372294, -0.0886677772119304, -0.10293826147301699], \"z\": [-0.1729256625331522, 0.003496869387634574, -0.03714478909780623, -0.09611785497271684, -0.1818376176367168, -0.19297485340092319, -0.3593224717368653, -0.21214657493762099, -0.01883558563541368, -0.17126010174443176, -0.1811220959532294, -0.05525308592009071, 0.043594513180277794, 0.16884231785059226, -0.2216767371358863, -0.10626561441078788], \"type\": \"scatter3d\"}], \"name\": \"2019-01-01\"}, {\"data\": [{\"hovertemplate\": \"<b>%{hovertext}</b><br><br>partisan=right<br>animation_frame=2019-02-01<br>0=%{x}<br>1=%{y}<br>2=%{z}<br>subreddit=%{text}<extra></extra>\", \"hovertext\": [\"Capitalism\", \"ShitPoliticsSays\", \"Conservative\", \"The_Donald\", \"progun\", \"Republican\"], \"ids\": [\"Capitalism\", \"ShitPoliticsSays\", \"Conservative\", \"The_Donald\", \"progun\", \"Republican\"], \"legendgroup\": \"right\", \"marker\": {\"color\": \"red\", \"opacity\": 0.7, \"symbol\": \"circle\"}, \"mode\": \"markers+text\", \"name\": \"right\", \"scene\": \"scene\", \"showlegend\": true, \"text\": [\"Capitalism\", \"ShitPoliticsSays\", \"Conservative\", \"The_Donald\", \"progun\", \"Republican\"], \"x\": [-0.061369053126169144, 0.026736940862161048, -0.09484706738530362, 0.012534398468982407, -0.03838902569371759, -0.1117937642059515], \"y\": [-0.13658315661319906, -0.12400008922557232, -0.1136794750551799, -0.010811569321894041, -0.06124320688685968, -0.07725469767314037], \"z\": [-0.16924466975211022, -0.22592664978938368, -0.21415522417033198, -0.15588413126441916, -0.3222823706265191, -0.17225231409535088], \"type\": \"scatter3d\"}, {\"hovertemplate\": \"<b>%{hovertext}</b><br><br>partisan=left<br>animation_frame=2019-02-01<br>0=%{x}<br>1=%{y}<br>2=%{z}<br>subreddit=%{text}<extra></extra>\", \"hovertext\": [\"JoeBiden\", \"Kamala\", \"SocialDemocracy\", \"BaemyKlobaechar\", \"demsocialist\", \"BetoORourke\", \"ConservativeDemocrat\", \"progressive\", \"ElizabethWarren\", \"moderatepolitics\", \"SandersForPresident\", \"centerleftpolitics\", \"Pete_Buttigieg\", \"YangForPresidentHQ\", \"politics\", \"ChapoTrapHouse\"], \"ids\": [\"JoeBiden\", \"Kamala\", \"SocialDemocracy\", \"BaemyKlobaechar\", \"demsocialist\", \"BetoORourke\", \"ConservativeDemocrat\", \"progressive\", \"ElizabethWarren\", \"moderatepolitics\", \"SandersForPresident\", \"centerleftpolitics\", \"Pete_Buttigieg\", \"YangForPresidentHQ\", \"politics\", \"ChapoTrapHouse\"], \"legendgroup\": \"left\", \"marker\": {\"color\": \"blue\", \"opacity\": 0.7, \"symbol\": \"circle\"}, \"mode\": \"markers+text\", \"name\": \"left\", \"scene\": \"scene\", \"showlegend\": true, \"text\": [\"JoeBiden\", \"Kamala\", \"SocialDemocracy\", \"BaemyKlobaechar\", \"demsocialist\", \"BetoORourke\", \"ConservativeDemocrat\", \"progressive\", \"ElizabethWarren\", \"moderatepolitics\", \"SandersForPresident\", \"centerleftpolitics\", \"Pete_Buttigieg\", \"YangForPresidentHQ\", \"politics\", \"ChapoTrapHouse\"], \"x\": [-0.11803267174405126, -0.2169491131453629, -0.09663144659160708, -0.22782328576927977, -0.2381684368506504, -0.2664349413570395, -0.3050867664262688, -0.16471037843272732, -0.21536288885056198, -0.18578788773353305, -0.13842354784842084, -0.0564412662348759, -0.42724912435952506, -0.15706015367125395, -0.229847685425536, 0.01756983884781056], \"y\": [-0.2095420361465428, 0.031569409378864106, -0.16919310616795316, -0.15101647572644072, -0.17730439558174746, -0.03800922114715294, -0.24121231308667979, -0.05826083139924708, -0.13112372220241703, -0.16108285839110306, -0.09600747266205198, -0.07631046146606607, -0.1440475548702333, -0.07216687676583938, -0.10246850593843032, -0.10134122257189343], \"z\": [0.10252946783063985, -0.019389639043555233, -0.0485403963808969, -0.00489461829627281, -0.1691526160089186, -0.09192833465623858, -0.200047491559213, -0.15164641323206357, 0.013512020611789917, -0.15459192356211093, -0.13629634785160796, -0.05027723170006759, -0.027951062525063138, -0.04277369407059724, -0.22416090643617115, -0.11169888572364056], \"type\": \"scatter3d\"}], \"name\": \"2019-02-01\"}, {\"data\": [{\"hovertemplate\": \"<b>%{hovertext}</b><br><br>partisan=right<br>animation_frame=2019-03-01<br>0=%{x}<br>1=%{y}<br>2=%{z}<br>subreddit=%{text}<extra></extra>\", \"hovertext\": [\"Capitalism\", \"ShitPoliticsSays\", \"Conservative\", \"The_Donald\", \"progun\", \"Republican\"], \"ids\": [\"Capitalism\", \"ShitPoliticsSays\", \"Conservative\", \"The_Donald\", \"progun\", \"Republican\"], \"legendgroup\": \"right\", \"marker\": {\"color\": \"red\", \"opacity\": 0.7, \"symbol\": \"circle\"}, \"mode\": \"markers+text\", \"name\": \"right\", \"scene\": \"scene\", \"showlegend\": true, \"text\": [\"Capitalism\", \"ShitPoliticsSays\", \"Conservative\", \"The_Donald\", \"progun\", \"Republican\"], \"x\": [-0.07809325178793002, 0.039267258800504176, -0.10903627190478178, 0.025397314577215415, -0.010036894879071636, -0.10305677228625465], \"y\": [-0.1833854291523319, -0.12873202429039698, -0.11094190001358384, -0.019232927160764347, -0.11081912021433717, -0.07974897930128565], \"z\": [-0.07158499438224411, -0.24602101777036794, -0.22762783027343989, -0.14916457921057094, -0.33387568043899873, -0.22346249198639168], \"type\": \"scatter3d\"}, {\"hovertemplate\": \"<b>%{hovertext}</b><br><br>partisan=left<br>animation_frame=2019-03-01<br>0=%{x}<br>1=%{y}<br>2=%{z}<br>subreddit=%{text}<extra></extra>\", \"hovertext\": [\"JoeBiden\", \"Kamala\", \"SocialDemocracy\", \"BaemyKlobaechar\", \"demsocialist\", \"BetoORourke\", \"ConservativeDemocrat\", \"progressive\", \"ElizabethWarren\", \"moderatepolitics\", \"SandersForPresident\", \"centerleftpolitics\", \"Pete_Buttigieg\", \"YangForPresidentHQ\", \"politics\", \"ChapoTrapHouse\"], \"ids\": [\"JoeBiden\", \"Kamala\", \"SocialDemocracy\", \"BaemyKlobaechar\", \"demsocialist\", \"BetoORourke\", \"ConservativeDemocrat\", \"progressive\", \"ElizabethWarren\", \"moderatepolitics\", \"SandersForPresident\", \"centerleftpolitics\", \"Pete_Buttigieg\", \"YangForPresidentHQ\", \"politics\", \"ChapoTrapHouse\"], \"legendgroup\": \"left\", \"marker\": {\"color\": \"blue\", \"opacity\": 0.7, \"symbol\": \"circle\"}, \"mode\": \"markers+text\", \"name\": \"left\", \"scene\": \"scene\", \"showlegend\": true, \"text\": [\"JoeBiden\", \"Kamala\", \"SocialDemocracy\", \"BaemyKlobaechar\", \"demsocialist\", \"BetoORourke\", \"ConservativeDemocrat\", \"progressive\", \"ElizabethWarren\", \"moderatepolitics\", \"SandersForPresident\", \"centerleftpolitics\", \"Pete_Buttigieg\", \"YangForPresidentHQ\", \"politics\", \"ChapoTrapHouse\"], \"x\": [-0.3811343992583201, -0.2304663479208577, -0.13246770691765927, -0.47338067310530846, -0.2593283655660745, -0.28250007311067654, -0.34113925222847596, -0.18473612680033927, -0.2854039286734834, -0.1577315143917828, -0.1141076419347979, -0.062303716753793675, -0.17576795821555755, -0.0539083411271694, -0.21442808799021215, 0.011277595345932704], \"y\": [-0.0746259440164324, -0.10959642342550326, -0.2408523165028815, -0.1378241212192307, -0.19776933818894202, -0.10400158717364369, -0.17808144888762234, -0.027263729000137567, -0.11799866125637924, -0.14297493649253668, -0.12033946504854205, -0.07407060722994026, -0.0006969104281737715, -0.09613058235691593, -0.11390319491139989, -0.1421514686355705], \"z\": [-0.20867808618319733, -0.02722449059896342, -0.029043316742551523, -0.0070163869847599085, -0.1453158270099278, -0.17206133287365635, -0.2743741182988682, -0.16908236414249547, 0.01951464897443722, -0.1886390739137975, -0.16258993617780781, -0.028947791405489476, -0.04948044250974148, 0.021320192041703077, -0.26162195703091357, -0.09832339270721922], \"type\": \"scatter3d\"}], \"name\": \"2019-03-01\"}, {\"data\": [{\"hovertemplate\": \"<b>%{hovertext}</b><br><br>partisan=right<br>animation_frame=2019-04-01<br>0=%{x}<br>1=%{y}<br>2=%{z}<br>subreddit=%{text}<extra></extra>\", \"hovertext\": [\"Republican\", \"progun\", \"The_Donald\", \"Conservative\", \"ShitPoliticsSays\", \"Capitalism\"], \"ids\": [\"Republican\", \"progun\", \"The_Donald\", \"Conservative\", \"ShitPoliticsSays\", \"Capitalism\"], \"legendgroup\": \"right\", \"marker\": {\"color\": \"red\", \"opacity\": 0.7, \"symbol\": \"circle\"}, \"mode\": \"markers+text\", \"name\": \"right\", \"scene\": \"scene\", \"showlegend\": true, \"text\": [\"Republican\", \"progun\", \"The_Donald\", \"Conservative\", \"ShitPoliticsSays\", \"Capitalism\"], \"x\": [-0.11851406350145893, -0.005564427282476786, 0.01801046132287237, -0.09030995823509988, 0.03319552779997786, -0.05509531053191899], \"y\": [-0.06627328011274036, -0.0652935177229715, -0.007069344964917309, -0.15365167276797548, -0.16144115635233988, -0.13940598131240386], \"z\": [-0.20196098444206106, -0.3651792724882519, -0.1626014538119523, -0.20677241414670655, -0.21444083740412676, -0.18469653667975533], \"type\": \"scatter3d\"}, {\"hovertemplate\": \"<b>%{hovertext}</b><br><br>partisan=left<br>animation_frame=2019-04-01<br>0=%{x}<br>1=%{y}<br>2=%{z}<br>subreddit=%{text}<extra></extra>\", \"hovertext\": [\"ChapoTrapHouse\", \"politics\", \"YangForPresidentHQ\", \"Pete_Buttigieg\", \"centerleftpolitics\", \"SandersForPresident\", \"moderatepolitics\", \"ElizabethWarren\", \"progressive\", \"ConservativeDemocrat\", \"BetoORourke\", \"demsocialist\", \"BaemyKlobaechar\", \"SocialDemocracy\", \"Kamala\", \"JoeBiden\"], \"ids\": [\"ChapoTrapHouse\", \"politics\", \"YangForPresidentHQ\", \"Pete_Buttigieg\", \"centerleftpolitics\", \"SandersForPresident\", \"moderatepolitics\", \"ElizabethWarren\", \"progressive\", \"ConservativeDemocrat\", \"BetoORourke\", \"demsocialist\", \"BaemyKlobaechar\", \"SocialDemocracy\", \"Kamala\", \"JoeBiden\"], \"legendgroup\": \"left\", \"marker\": {\"color\": \"blue\", \"opacity\": 0.7, \"symbol\": \"circle\"}, \"mode\": \"markers+text\", \"name\": \"left\", \"scene\": \"scene\", \"showlegend\": true, \"text\": [\"ChapoTrapHouse\", \"politics\", \"YangForPresidentHQ\", \"Pete_Buttigieg\", \"centerleftpolitics\", \"SandersForPresident\", \"moderatepolitics\", \"ElizabethWarren\", \"progressive\", \"ConservativeDemocrat\", \"BetoORourke\", \"demsocialist\", \"BaemyKlobaechar\", \"SocialDemocracy\", \"Kamala\", \"JoeBiden\"], \"x\": [0.01816264298004937, -0.20300417919819425, -0.0715320894772531, -0.2039167123590801, -0.06132591622977323, -0.11216607073934268, -0.1697042032857495, -0.21601199399792906, -0.21494357173440778, -0.26127840514600775, -0.21943398439236905, -0.2845751627465252, -0.28203692920305395, -0.13106677409594653, -0.2286576584620261, -0.2603571648848567], \"y\": [-0.13385839015238127, -0.11150153000144732, -0.09794135931451921, -0.07731677976024805, -0.10266379400697033, -0.10231493788548615, -0.14325205225765816, -0.06838800457902963, -0.05963020287487222, -0.2262963318429875, -0.23264156869428004, -0.13780404875382957, -0.21737145015939324, -0.24711468520772806, -0.030862383833072212, -0.050105779314956876], \"z\": [-0.1116403000335852, -0.25033054173833985, 0.022347735430442526, -0.04745979778086028, -0.06179833480814945, -0.1621505628487229, -0.1717121077449825, -0.012622563959822655, -0.1636150980641704, -0.2267049669644914, -0.14047950971478013, -0.15922386633248717, -0.09465755623233356, -0.08367334488364964, -0.055032447399414486, -0.049592286718637135], \"type\": \"scatter3d\"}], \"name\": \"2019-04-01\"}, {\"data\": [{\"hovertemplate\": \"<b>%{hovertext}</b><br><br>partisan=right<br>animation_frame=2019-05-01<br>0=%{x}<br>1=%{y}<br>2=%{z}<br>subreddit=%{text}<extra></extra>\", \"hovertext\": [\"Capitalism\", \"ShitPoliticsSays\", \"Conservative\", \"The_Donald\", \"progun\", \"Republican\"], \"ids\": [\"Capitalism\", \"ShitPoliticsSays\", \"Conservative\", \"The_Donald\", \"progun\", \"Republican\"], \"legendgroup\": \"right\", \"marker\": {\"color\": \"red\", \"opacity\": 0.7, \"symbol\": \"circle\"}, \"mode\": \"markers+text\", \"name\": \"right\", \"scene\": \"scene\", \"showlegend\": true, \"text\": [\"Capitalism\", \"ShitPoliticsSays\", \"Conservative\", \"The_Donald\", \"progun\", \"Republican\"], \"x\": [-0.045785088841357825, 0.024053829959252995, -0.09987787409800516, 0.03121595277624241, -0.017125375121382225, -0.12477763944181561], \"y\": [-0.15745857020133036, -0.16946050079916056, -0.15818988062065523, -0.02828178090966033, -0.0915115944588375, -0.03335040474919287], \"z\": [-0.1693992934451428, -0.19957575521855742, -0.21181051441936516, -0.1541112921753354, -0.3187268570472822, -0.21123734607562963], \"type\": \"scatter3d\"}, {\"hovertemplate\": \"<b>%{hovertext}</b><br><br>partisan=left<br>animation_frame=2019-05-01<br>0=%{x}<br>1=%{y}<br>2=%{z}<br>subreddit=%{text}<extra></extra>\", \"hovertext\": [\"JoeBiden\", \"Kamala\", \"SocialDemocracy\", \"BaemyKlobaechar\", \"demsocialist\", \"BetoORourke\", \"ConservativeDemocrat\", \"progressive\", \"ElizabethWarren\", \"moderatepolitics\", \"SandersForPresident\", \"centerleftpolitics\", \"Pete_Buttigieg\", \"YangForPresidentHQ\", \"politics\", \"ChapoTrapHouse\"], \"ids\": [\"JoeBiden\", \"Kamala\", \"SocialDemocracy\", \"BaemyKlobaechar\", \"demsocialist\", \"BetoORourke\", \"ConservativeDemocrat\", \"progressive\", \"ElizabethWarren\", \"moderatepolitics\", \"SandersForPresident\", \"centerleftpolitics\", \"Pete_Buttigieg\", \"YangForPresidentHQ\", \"politics\", \"ChapoTrapHouse\"], \"legendgroup\": \"left\", \"marker\": {\"color\": \"blue\", \"opacity\": 0.7, \"symbol\": \"circle\"}, \"mode\": \"markers+text\", \"name\": \"left\", \"scene\": \"scene\", \"showlegend\": true, \"text\": [\"JoeBiden\", \"Kamala\", \"SocialDemocracy\", \"BaemyKlobaechar\", \"demsocialist\", \"BetoORourke\", \"ConservativeDemocrat\", \"progressive\", \"ElizabethWarren\", \"moderatepolitics\", \"SandersForPresident\", \"centerleftpolitics\", \"Pete_Buttigieg\", \"YangForPresidentHQ\", \"politics\", \"ChapoTrapHouse\"], \"x\": [-0.1975921537945654, -0.16138210961077062, -0.13070141487115522, -0.23392283740457032, -0.27451507035884554, -0.25693431935717903, -0.4105061436965004, -0.18625456748337188, -0.20921303451004625, -0.1592220663745926, -0.1423572575518663, -0.03475991087801921, -0.1859335042558913, -0.055350660867364475, -0.20550577790291227, 0.025024576932618635], \"y\": [-0.03303611142442375, -0.0016485090917528291, -0.23318265051530268, -0.10114983729969447, -0.23173391883262828, -0.16145299510434685, -0.2385931320549819, -0.0899253193813461, -0.08639579911551919, -0.1445082778197982, -0.0840898812529734, -0.10650705772660297, -0.053166375775699, -0.10210467884015613, -0.09590071865100583, -0.14221536548807234], \"z\": [-0.11988674524440958, -0.05724317336580361, -0.03660190412190645, -0.19622164509403672, -0.18612223721883245, -0.26478236543547595, -0.34074668052450474, -0.20205663706225985, -0.06249959088560448, -0.1280579485374421, -0.14291310104064858, -0.025204288754538246, -0.03967382238512982, 0.019961495651252072, -0.2407453370491213, -0.1071624619043258], \"type\": \"scatter3d\"}], \"name\": \"2019-05-01\"}, {\"data\": [{\"hovertemplate\": \"<b>%{hovertext}</b><br><br>partisan=right<br>animation_frame=2019-06-01<br>0=%{x}<br>1=%{y}<br>2=%{z}<br>subreddit=%{text}<extra></extra>\", \"hovertext\": [\"Republican\", \"progun\", \"The_Donald\", \"Conservative\", \"ShitPoliticsSays\", \"Capitalism\"], \"ids\": [\"Republican\", \"progun\", \"The_Donald\", \"Conservative\", \"ShitPoliticsSays\", \"Capitalism\"], \"legendgroup\": \"right\", \"marker\": {\"color\": \"red\", \"opacity\": 0.7, \"symbol\": \"circle\"}, \"mode\": \"markers+text\", \"name\": \"right\", \"scene\": \"scene\", \"showlegend\": true, \"text\": [\"Republican\", \"progun\", \"The_Donald\", \"Conservative\", \"ShitPoliticsSays\", \"Capitalism\"], \"x\": [-0.12693142980467612, -0.01477413800250811, 0.026929013207794672, -0.06887459289972299, 0.0255141409347482, -0.09136870270504455], \"y\": [-0.04160720798667449, -0.07409039230399073, -0.019434929692015677, -0.13344548837350384, -0.1508459684840582, -0.16868513390775866], \"z\": [-0.21625368095345315, -0.35157506541458133, -0.15190968104129193, -0.19684789027118696, -0.2099286451014612, -0.15760973200575074], \"type\": \"scatter3d\"}, {\"hovertemplate\": \"<b>%{hovertext}</b><br><br>partisan=left<br>animation_frame=2019-06-01<br>0=%{x}<br>1=%{y}<br>2=%{z}<br>subreddit=%{text}<extra></extra>\", \"hovertext\": [\"ChapoTrapHouse\", \"politics\", \"YangForPresidentHQ\", \"Pete_Buttigieg\", \"centerleftpolitics\", \"SandersForPresident\", \"moderatepolitics\", \"ElizabethWarren\", \"progressive\", \"ConservativeDemocrat\", \"BetoORourke\", \"demsocialist\", \"BaemyKlobaechar\", \"SocialDemocracy\", \"Kamala\", \"JoeBiden\"], \"ids\": [\"ChapoTrapHouse\", \"politics\", \"YangForPresidentHQ\", \"Pete_Buttigieg\", \"centerleftpolitics\", \"SandersForPresident\", \"moderatepolitics\", \"ElizabethWarren\", \"progressive\", \"ConservativeDemocrat\", \"BetoORourke\", \"demsocialist\", \"BaemyKlobaechar\", \"SocialDemocracy\", \"Kamala\", \"JoeBiden\"], \"legendgroup\": \"left\", \"marker\": {\"color\": \"blue\", \"opacity\": 0.7, \"symbol\": \"circle\"}, \"mode\": \"markers+text\", \"name\": \"left\", \"scene\": \"scene\", \"showlegend\": true, \"text\": [\"ChapoTrapHouse\", \"politics\", \"YangForPresidentHQ\", \"Pete_Buttigieg\", \"centerleftpolitics\", \"SandersForPresident\", \"moderatepolitics\", \"ElizabethWarren\", \"progressive\", \"ConservativeDemocrat\", \"BetoORourke\", \"demsocialist\", \"BaemyKlobaechar\", \"SocialDemocracy\", \"Kamala\", \"JoeBiden\"], \"x\": [0.03823947147195034, -0.19038770640360775, -0.06831743567797055, -0.1473195621565768, -0.054046301121152635, -0.13549239740854704, -0.14995923062403924, -0.1936984862026132, -0.19936720459350352, -0.30593543020700326, -0.24598430849342323, -0.15316261967730835, -0.19635242804335662, -0.03543558798507357, -0.22828930075539897, -0.17518761206129882], \"y\": [-0.14402851277899206, -0.11211757458327228, -0.10286085060571572, -0.04716216838760537, -0.11079763797038025, -0.15547560594964116, -0.17950608972439702, -0.07678409831010209, -0.10611453119031046, -0.14246455888610454, 0.05951809660831267, -0.3069258797533177, -0.12377589469671857, -0.2421975435871363, -0.050864579157345664, -0.07710338016823692], \"z\": [-0.1187237871080407, -0.2241548087231869, 0.033946052686544895, -0.023553910099958615, -0.031399745141882575, -0.13673025709119005, -0.15487957969270516, -0.029822027467700206, -0.17592992517810732, -0.30087616835583403, -0.039851628520618194, -0.1774812542553604, 0.06335034539202787, -0.013671636862881734, 0.06252127233608865, -0.0606208396197997], \"type\": \"scatter3d\"}], \"name\": \"2019-06-01\"}, {\"data\": [{\"hovertemplate\": \"<b>%{hovertext}</b><br><br>partisan=right<br>animation_frame=2019-07-01<br>0=%{x}<br>1=%{y}<br>2=%{z}<br>subreddit=%{text}<extra></extra>\", \"hovertext\": [\"Republican\", \"progun\", \"The_Donald\", \"Conservative\", \"ShitPoliticsSays\", \"Capitalism\"], \"ids\": [\"Republican\", \"progun\", \"The_Donald\", \"Conservative\", \"ShitPoliticsSays\", \"Capitalism\"], \"legendgroup\": \"right\", \"marker\": {\"color\": \"red\", \"opacity\": 0.7, \"symbol\": \"circle\"}, \"mode\": \"markers+text\", \"name\": \"right\", \"scene\": \"scene\", \"showlegend\": true, \"text\": [\"Republican\", \"progun\", \"The_Donald\", \"Conservative\", \"ShitPoliticsSays\", \"Capitalism\"], \"x\": [-0.11385427638174715, 0.007086170793670523, 0.05383637284705933, -0.06832969022591032, 0.019613847327109312, -0.03958010690338962], \"y\": [-0.04001339087644427, -0.0883925699846821, 0.0018345189131908255, -0.13532571779933988, -0.171502071152859, -0.1279382279077959], \"z\": [-0.2023124833985267, -0.34252695731699967, -0.14080021934902515, -0.20089314873054748, -0.22735940124491677, -0.10976110846174382], \"type\": \"scatter3d\"}, {\"hovertemplate\": \"<b>%{hovertext}</b><br><br>partisan=left<br>animation_frame=2019-07-01<br>0=%{x}<br>1=%{y}<br>2=%{z}<br>subreddit=%{text}<extra></extra>\", \"hovertext\": [\"ChapoTrapHouse\", \"politics\", \"YangForPresidentHQ\", \"Pete_Buttigieg\", \"centerleftpolitics\", \"SandersForPresident\", \"moderatepolitics\", \"ElizabethWarren\", \"progressive\", \"ConservativeDemocrat\", \"BetoORourke\", \"demsocialist\", \"BaemyKlobaechar\", \"SocialDemocracy\", \"Kamala\", \"JoeBiden\"], \"ids\": [\"ChapoTrapHouse\", \"politics\", \"YangForPresidentHQ\", \"Pete_Buttigieg\", \"centerleftpolitics\", \"SandersForPresident\", \"moderatepolitics\", \"ElizabethWarren\", \"progressive\", \"ConservativeDemocrat\", \"BetoORourke\", \"demsocialist\", \"BaemyKlobaechar\", \"SocialDemocracy\", \"Kamala\", \"JoeBiden\"], \"legendgroup\": \"left\", \"marker\": {\"color\": \"blue\", \"opacity\": 0.7, \"symbol\": \"circle\"}, \"mode\": \"markers+text\", \"name\": \"left\", \"scene\": \"scene\", \"showlegend\": true, \"text\": [\"ChapoTrapHouse\", \"politics\", \"YangForPresidentHQ\", \"Pete_Buttigieg\", \"centerleftpolitics\", \"SandersForPresident\", \"moderatepolitics\", \"ElizabethWarren\", \"progressive\", \"ConservativeDemocrat\", \"BetoORourke\", \"demsocialist\", \"BaemyKlobaechar\", \"SocialDemocracy\", \"Kamala\", \"JoeBiden\"], \"x\": [0.006772170204712655, -0.18251413914936684, -0.09037010227082322, -0.17302099031136392, -0.03665085464842279, -0.101042692358062, -0.15402744240387675, -0.1775357362309547, -0.20427760450659466, -0.07101064316112725, -0.3688841239431786, -0.3341950051130674, -0.4339117457689871, -0.08608943748073024, -0.18904642732827823, -0.11516332110037392], \"y\": [-0.14187306880987885, -0.11641347326731016, -0.12062260934125757, -0.04103433539141406, -0.09996174518486473, -0.1206706912032268, -0.13741910292077095, -0.09139547608810894, -0.08398578189786145, -0.24013436652866893, -0.10790636581105659, -0.1710077151551918, -0.06947206149243398, -0.33513599519695664, -0.05163761947744915, -0.0356692816196339], \"z\": [-0.10628010423704877, -0.19949953200115547, 0.022860736400412814, -0.02314022604592714, 0.007190070381404054, -0.18216882520436378, -0.12880642280398352, -0.026416865308284052, -0.21989073223258163, -0.17415577974394958, 0.025657605010149943, -0.25342167931108556, -0.11035607155563527, -0.04314777725054749, 0.016522997973772355, -0.07580558262764346], \"type\": \"scatter3d\"}], \"name\": \"2019-07-01\"}, {\"data\": [{\"hovertemplate\": \"<b>%{hovertext}</b><br><br>partisan=right<br>animation_frame=2019-08-01<br>0=%{x}<br>1=%{y}<br>2=%{z}<br>subreddit=%{text}<extra></extra>\", \"hovertext\": [\"Capitalism\", \"ShitPoliticsSays\", \"Conservative\", \"The_Donald\", \"progun\", \"Republican\"], \"ids\": [\"Capitalism\", \"ShitPoliticsSays\", \"Conservative\", \"The_Donald\", \"progun\", \"Republican\"], \"legendgroup\": \"right\", \"marker\": {\"color\": \"red\", \"opacity\": 0.7, \"symbol\": \"circle\"}, \"mode\": \"markers+text\", \"name\": \"right\", \"scene\": \"scene\", \"showlegend\": true, \"text\": [\"Capitalism\", \"ShitPoliticsSays\", \"Conservative\", \"The_Donald\", \"progun\", \"Republican\"], \"x\": [-0.03790221802885395, 0.04907074420218985, -0.07737818751707914, 0.05428590909980421, 0.0018905794060327843, -0.09099532409810727], \"y\": [-0.18410732191493986, -0.16965316571059225, -0.14584879513577131, 0.004341055453172731, -0.12230116499591957, -0.06260386059844006], \"z\": [-0.16508517920919158, -0.19365825585650484, -0.21472071733507406, -0.14514051385996501, -0.3086035108135187, -0.17417049559299264], \"type\": \"scatter3d\"}, {\"hovertemplate\": \"<b>%{hovertext}</b><br><br>partisan=left<br>animation_frame=2019-08-01<br>0=%{x}<br>1=%{y}<br>2=%{z}<br>subreddit=%{text}<extra></extra>\", \"hovertext\": [\"JoeBiden\", \"Kamala\", \"SocialDemocracy\", \"BaemyKlobaechar\", \"demsocialist\", \"BetoORourke\", \"ConservativeDemocrat\", \"progressive\", \"ElizabethWarren\", \"moderatepolitics\", \"SandersForPresident\", \"centerleftpolitics\", \"Pete_Buttigieg\", \"YangForPresidentHQ\", \"politics\", \"ChapoTrapHouse\"], \"ids\": [\"JoeBiden\", \"Kamala\", \"SocialDemocracy\", \"BaemyKlobaechar\", \"demsocialist\", \"BetoORourke\", \"ConservativeDemocrat\", \"progressive\", \"ElizabethWarren\", \"moderatepolitics\", \"SandersForPresident\", \"centerleftpolitics\", \"Pete_Buttigieg\", \"YangForPresidentHQ\", \"politics\", \"ChapoTrapHouse\"], \"legendgroup\": \"left\", \"marker\": {\"color\": \"blue\", \"opacity\": 0.7, \"symbol\": \"circle\"}, \"mode\": \"markers+text\", \"name\": \"left\", \"scene\": \"scene\", \"showlegend\": true, \"text\": [\"JoeBiden\", \"Kamala\", \"SocialDemocracy\", \"BaemyKlobaechar\", \"demsocialist\", \"BetoORourke\", \"ConservativeDemocrat\", \"progressive\", \"ElizabethWarren\", \"moderatepolitics\", \"SandersForPresident\", \"centerleftpolitics\", \"Pete_Buttigieg\", \"YangForPresidentHQ\", \"politics\", \"ChapoTrapHouse\"], \"x\": [-0.1571698805899297, -0.23021397329886018, -0.047629847488645724, -0.4302358753335071, -0.25569201140296954, -0.1590098437782542, -0.20817490728767674, -0.14282776384723156, -0.1723366602389279, -0.1487368179690052, -0.15417785103180373, -0.02948321589245034, -0.16614090734557993, -0.07073535010166423, -0.18746145931363226, 0.030592611852257215], \"y\": [-0.12135456265317397, -0.055770413665744076, -0.2689398808892013, -0.11843964988007151, -0.2231102204950214, 0.13324199554505445, -0.19625584728629716, -0.08076391341313865, -0.05819405814756712, -0.14474525408146022, -0.15960018446363736, -0.14335670177685947, -0.06611535013353756, -0.1114250381347944, -0.11412776147021308, -0.13510565307384167], \"z\": [-0.044190597556206204, 0.0010374808608646126, -0.05546647818086853, -0.02867911660499767, -0.22832289108466228, 0.058890586466128075, -0.16529719648215557, -0.2077100035594069, 0.003187417370976014, -0.14393806581157198, -0.14499836931729151, -0.024838004651965482, 0.008609362166689524, 0.024543100289759957, -0.2353125035814835, -0.11799266819197872], \"type\": \"scatter3d\"}], \"name\": \"2019-08-01\"}, {\"data\": [{\"hovertemplate\": \"<b>%{hovertext}</b><br><br>partisan=right<br>animation_frame=2019-09-01<br>0=%{x}<br>1=%{y}<br>2=%{z}<br>subreddit=%{text}<extra></extra>\", \"hovertext\": [\"Republican\", \"progun\", \"The_Donald\", \"Conservative\", \"ShitPoliticsSays\", \"Capitalism\"], \"ids\": [\"Republican\", \"progun\", \"The_Donald\", \"Conservative\", \"ShitPoliticsSays\", \"Capitalism\"], \"legendgroup\": \"right\", \"marker\": {\"color\": \"red\", \"opacity\": 0.7, \"symbol\": \"circle\"}, \"mode\": \"markers+text\", \"name\": \"right\", \"scene\": \"scene\", \"showlegend\": true, \"text\": [\"Republican\", \"progun\", \"The_Donald\", \"Conservative\", \"ShitPoliticsSays\", \"Capitalism\"], \"x\": [-0.09363072189985551, 0.004155001014571234, 0.0566350813552726, -0.07973285876064236, 0.052345106893827, -0.035158540094786465], \"y\": [-0.056013242192399754, -0.12778845992145108, 0.007563299958913023, -0.14333309223891702, -0.14355944394514442, -0.15497870866118896], \"z\": [-0.16599262882505397, -0.3572878361500859, -0.13035505693301938, -0.20197812335756513, -0.2009783184635683, -0.12243238027645464], \"type\": \"scatter3d\"}, {\"hovertemplate\": \"<b>%{hovertext}</b><br><br>partisan=left<br>animation_frame=2019-09-01<br>0=%{x}<br>1=%{y}<br>2=%{z}<br>subreddit=%{text}<extra></extra>\", \"hovertext\": [\"ChapoTrapHouse\", \"YangForPresidentHQ\", \"Pete_Buttigieg\", \"centerleftpolitics\", \"SandersForPresident\", \"moderatepolitics\", \"ElizabethWarren\", \"progressive\", \"ConservativeDemocrat\", \"BetoORourke\", \"demsocialist\", \"BaemyKlobaechar\", \"politics\", \"SocialDemocracy\", \"Kamala\", \"JoeBiden\"], \"ids\": [\"ChapoTrapHouse\", \"YangForPresidentHQ\", \"Pete_Buttigieg\", \"centerleftpolitics\", \"SandersForPresident\", \"moderatepolitics\", \"ElizabethWarren\", \"progressive\", \"ConservativeDemocrat\", \"BetoORourke\", \"demsocialist\", \"BaemyKlobaechar\", \"politics\", \"SocialDemocracy\", \"Kamala\", \"JoeBiden\"], \"legendgroup\": \"left\", \"marker\": {\"color\": \"blue\", \"opacity\": 0.7, \"symbol\": \"circle\"}, \"mode\": \"markers+text\", \"name\": \"left\", \"scene\": \"scene\", \"showlegend\": true, \"text\": [\"ChapoTrapHouse\", \"YangForPresidentHQ\", \"Pete_Buttigieg\", \"centerleftpolitics\", \"SandersForPresident\", \"moderatepolitics\", \"ElizabethWarren\", \"progressive\", \"ConservativeDemocrat\", \"BetoORourke\", \"demsocialist\", \"BaemyKlobaechar\", \"politics\", \"SocialDemocracy\", \"Kamala\", \"JoeBiden\"], \"x\": [0.036240537452968395, -0.05391235675832264, -0.1645548715291114, -0.056432022598431476, -0.11905279828668237, -0.14826254942542713, -0.20271701906922715, -0.1472228230406879, -0.2662701672611931, -0.3115559669308584, -0.25475716561738815, -0.34977198557817496, -0.16440121692768514, -0.07740856185398659, -0.15438753367468186, -0.12175697621024748], \"y\": [-0.13154657675715864, -0.10401079670413603, -0.029765425443183387, -0.10363668340119435, -0.1328006468580525, -0.1360151580828587, -0.06236238533584208, -0.08627328455749883, -0.14269250633024197, -0.09715673645222582, -0.2792965192058086, -0.1941747709561021, -0.08624551055521106, -0.2222933171060125, 0.041027806357824506, -0.0853130332840687], \"z\": [-0.06318361669075177, 0.024700086048864027, -0.0005266531055200469, 0.018117304130956975, -0.13552751259469836, -0.144133172386437, 0.00885666424805788, -0.2602831869268183, -0.23406779010934906, -0.3301821430013531, -0.15936820412523175, 0.0028248462424992995, -0.20686247205841068, -0.06639157235656629, -0.163754995343752, -0.05147388381389873], \"type\": \"scatter3d\"}], \"name\": \"2019-09-01\"}, {\"data\": [{\"hovertemplate\": \"<b>%{hovertext}</b><br><br>partisan=right<br>animation_frame=2019-10-01<br>0=%{x}<br>1=%{y}<br>2=%{z}<br>subreddit=%{text}<extra></extra>\", \"hovertext\": [\"Capitalism\", \"ShitPoliticsSays\", \"Conservative\", \"The_Donald\", \"progun\", \"Republican\"], \"ids\": [\"Capitalism\", \"ShitPoliticsSays\", \"Conservative\", \"The_Donald\", \"progun\", \"Republican\"], \"legendgroup\": \"right\", \"marker\": {\"color\": \"red\", \"opacity\": 0.7, \"symbol\": \"circle\"}, \"mode\": \"markers+text\", \"name\": \"right\", \"scene\": \"scene\", \"showlegend\": true, \"text\": [\"Capitalism\", \"ShitPoliticsSays\", \"Conservative\", \"The_Donald\", \"progun\", \"Republican\"], \"x\": [-0.035103052841816036, 0.040189459730959144, -0.09281386703242228, 0.03897266273244796, 0.02877793991424324, -0.0929401100055432], \"y\": [-0.09193264288811363, -0.1556059456544661, -0.10633711816393417, 0.018497020134289263, -0.08820686571853459, -0.009124955538737878], \"z\": [-0.14899322817790256, -0.2069654773904421, -0.199651017440771, -0.13741773142952554, -0.3425993821323479, -0.17082233459314608], \"type\": \"scatter3d\"}, {\"hovertemplate\": \"<b>%{hovertext}</b><br><br>partisan=left<br>animation_frame=2019-10-01<br>0=%{x}<br>1=%{y}<br>2=%{z}<br>subreddit=%{text}<extra></extra>\", \"hovertext\": [\"JoeBiden\", \"Kamala\", \"SocialDemocracy\", \"BaemyKlobaechar\", \"demsocialist\", \"BetoORourke\", \"ConservativeDemocrat\", \"progressive\", \"ElizabethWarren\", \"moderatepolitics\", \"SandersForPresident\", \"centerleftpolitics\", \"Pete_Buttigieg\", \"YangForPresidentHQ\", \"politics\", \"ChapoTrapHouse\"], \"ids\": [\"JoeBiden\", \"Kamala\", \"SocialDemocracy\", \"BaemyKlobaechar\", \"demsocialist\", \"BetoORourke\", \"ConservativeDemocrat\", \"progressive\", \"ElizabethWarren\", \"moderatepolitics\", \"SandersForPresident\", \"centerleftpolitics\", \"Pete_Buttigieg\", \"YangForPresidentHQ\", \"politics\", \"ChapoTrapHouse\"], \"legendgroup\": \"left\", \"marker\": {\"color\": \"blue\", \"opacity\": 0.7, \"symbol\": \"circle\"}, \"mode\": \"markers+text\", \"name\": \"left\", \"scene\": \"scene\", \"showlegend\": true, \"text\": [\"JoeBiden\", \"Kamala\", \"SocialDemocracy\", \"BaemyKlobaechar\", \"demsocialist\", \"BetoORourke\", \"ConservativeDemocrat\", \"progressive\", \"ElizabethWarren\", \"moderatepolitics\", \"SandersForPresident\", \"centerleftpolitics\", \"Pete_Buttigieg\", \"YangForPresidentHQ\", \"politics\", \"ChapoTrapHouse\"], \"x\": [-0.15195909099528054, -0.10444039226807776, -0.13404266088054065, -0.4257369806263337, -0.38614228977610254, -0.15382796031351179, -0.2366319373337955, -0.20701383102321938, -0.19597107504643435, -0.1387811047302994, -0.12977534551997771, -0.04157193195280151, -0.14205987628079175, -0.07023082568347055, -0.19510818467077382, 0.034935502930330195], \"y\": [-0.036976189405142, 0.06353118532584848, -0.18379888031152694, -0.008363579699690173, -0.24433545411068802, -0.01457507278189729, -0.23316935053834728, 0.0018468980968496826, -0.10321482736343833, -0.11652974130380758, -0.13184497142965415, -0.14400098893932925, -0.06563008237890147, -0.12289535513835194, -0.11057300117468331, -0.12695415017965705], \"z\": [0.0004341951717768606, -0.08996051530210535, -0.014987731219023795, -0.03093713320480824, -0.17809286046941475, -0.16179720010347887, -0.24117323912651933, -0.25987366921238875, 0.0120889282284042, -0.1336982872532349, -0.09778381047562566, 0.03775030492252943, 0.03721176629954581, 0.011534155441602256, -0.17076304196437178, -0.06820335796921861], \"type\": \"scatter3d\"}], \"name\": \"2019-10-01\"}, {\"data\": [{\"hovertemplate\": \"<b>%{hovertext}</b><br><br>partisan=right<br>animation_frame=2019-11-01<br>0=%{x}<br>1=%{y}<br>2=%{z}<br>subreddit=%{text}<extra></extra>\", \"hovertext\": [\"Capitalism\", \"ShitPoliticsSays\", \"Conservative\", \"The_Donald\", \"progun\", \"Republican\"], \"ids\": [\"Capitalism\", \"ShitPoliticsSays\", \"Conservative\", \"The_Donald\", \"progun\", \"Republican\"], \"legendgroup\": \"right\", \"marker\": {\"color\": \"red\", \"opacity\": 0.7, \"symbol\": \"circle\"}, \"mode\": \"markers+text\", \"name\": \"right\", \"scene\": \"scene\", \"showlegend\": true, \"text\": [\"Capitalism\", \"ShitPoliticsSays\", \"Conservative\", \"The_Donald\", \"progun\", \"Republican\"], \"x\": [-0.08433929104860674, 0.0920532761743922, -0.08888042651584248, 0.05049196414820594, 0.03165997173425437, -0.10275210431293545], \"y\": [-0.14245683121635275, -0.13510903953072823, -0.09731453790098665, 0.03367735704217735, -0.12095608450345911, -0.009456960981676844], \"z\": [-0.11911667811726036, -0.21154417076606938, -0.20659012021637774, -0.13748397238082555, -0.3227131371640794, -0.16767310476057595], \"type\": \"scatter3d\"}, {\"hovertemplate\": \"<b>%{hovertext}</b><br><br>partisan=left<br>animation_frame=2019-11-01<br>0=%{x}<br>1=%{y}<br>2=%{z}<br>subreddit=%{text}<extra></extra>\", \"hovertext\": [\"JoeBiden\", \"Kamala\", \"SocialDemocracy\", \"BaemyKlobaechar\", \"demsocialist\", \"BetoORourke\", \"ConservativeDemocrat\", \"progressive\", \"ElizabethWarren\", \"moderatepolitics\", \"SandersForPresident\", \"centerleftpolitics\", \"Pete_Buttigieg\", \"YangForPresidentHQ\", \"politics\", \"ChapoTrapHouse\"], \"ids\": [\"JoeBiden\", \"Kamala\", \"SocialDemocracy\", \"BaemyKlobaechar\", \"demsocialist\", \"BetoORourke\", \"ConservativeDemocrat\", \"progressive\", \"ElizabethWarren\", \"moderatepolitics\", \"SandersForPresident\", \"centerleftpolitics\", \"Pete_Buttigieg\", \"YangForPresidentHQ\", \"politics\", \"ChapoTrapHouse\"], \"legendgroup\": \"left\", \"marker\": {\"color\": \"blue\", \"opacity\": 0.7, \"symbol\": \"circle\"}, \"mode\": \"markers+text\", \"name\": \"left\", \"scene\": \"scene\", \"showlegend\": true, \"text\": [\"JoeBiden\", \"Kamala\", \"SocialDemocracy\", \"BaemyKlobaechar\", \"demsocialist\", \"BetoORourke\", \"ConservativeDemocrat\", \"progressive\", \"ElizabethWarren\", \"moderatepolitics\", \"SandersForPresident\", \"centerleftpolitics\", \"Pete_Buttigieg\", \"YangForPresidentHQ\", \"politics\", \"ChapoTrapHouse\"], \"x\": [-0.15687741997813062, -0.145869410179131, -0.11222091164987989, -0.2265671123659954, -0.1997346299527679, -0.18088064097425482, -0.31262674989255385, -0.15608938547955878, -0.18566918715641317, -0.1485183836356117, -0.13423824828005393, -0.07944137069532906, -0.16877689237083987, -0.04476703966613416, -0.2051390422789573, 0.03360758799743562], \"y\": [-0.09962364085188562, 0.010697520432424097, -0.2182135596698928, -0.15914768453028705, -0.19220137978814186, -0.08905883039226536, -0.269505574517842, -0.04617745470515644, -0.06907613526281557, -0.10189545256481117, -0.12813621979488996, -0.09264613463594097, -0.049894468287007616, -0.08884295453663157, -0.07414857412829667, -0.11741123689139067], \"z\": [-0.008058205427216063, -0.05939328743383149, -0.07021749085457059, -0.024048745757244055, -0.2012296281558445, -0.14439927537670103, -0.18725597645025546, -0.20099008204027993, -0.002823675167114209, -0.16461758635702117, -0.12180472586711397, 0.018358730522061082, -0.0029689786424536603, 0.017500987066829257, -0.20922293217550636, -0.0752505565894538], \"type\": \"scatter3d\"}], \"name\": \"2019-11-01\"}, {\"data\": [{\"hovertemplate\": \"<b>%{hovertext}</b><br><br>partisan=right<br>animation_frame=2019-12-01<br>0=%{x}<br>1=%{y}<br>2=%{z}<br>subreddit=%{text}<extra></extra>\", \"hovertext\": [\"Capitalism\", \"ShitPoliticsSays\", \"Conservative\", \"The_Donald\", \"progun\", \"Republican\"], \"ids\": [\"Capitalism\", \"ShitPoliticsSays\", \"Conservative\", \"The_Donald\", \"progun\", \"Republican\"], \"legendgroup\": \"right\", \"marker\": {\"color\": \"red\", \"opacity\": 0.7, \"symbol\": \"circle\"}, \"mode\": \"markers+text\", \"name\": \"right\", \"scene\": \"scene\", \"showlegend\": true, \"text\": [\"Capitalism\", \"ShitPoliticsSays\", \"Conservative\", \"The_Donald\", \"progun\", \"Republican\"], \"x\": [-0.023765696147552542, 0.05443969583135231, -0.05230062358618697, 0.04312639006191689, 0.037712081761257746, -0.06689879456063307], \"y\": [-0.14276769291486924, -0.125911356456624, -0.09548837793286709, 0.01538914201021646, -0.09830145590611765, -0.012558107173344504], \"z\": [-0.08901150795961942, -0.22554232651816947, -0.19635705286135285, -0.13984883321214175, -0.3464488819747897, -0.18883917049005533], \"type\": \"scatter3d\"}, {\"hovertemplate\": \"<b>%{hovertext}</b><br><br>partisan=left<br>animation_frame=2019-12-01<br>0=%{x}<br>1=%{y}<br>2=%{z}<br>subreddit=%{text}<extra></extra>\", \"hovertext\": [\"JoeBiden\", \"Kamala\", \"SocialDemocracy\", \"BaemyKlobaechar\", \"demsocialist\", \"BetoORourke\", \"ConservativeDemocrat\", \"progressive\", \"ElizabethWarren\", \"moderatepolitics\", \"SandersForPresident\", \"centerleftpolitics\", \"Pete_Buttigieg\", \"YangForPresidentHQ\", \"politics\", \"ChapoTrapHouse\"], \"ids\": [\"JoeBiden\", \"Kamala\", \"SocialDemocracy\", \"BaemyKlobaechar\", \"demsocialist\", \"BetoORourke\", \"ConservativeDemocrat\", \"progressive\", \"ElizabethWarren\", \"moderatepolitics\", \"SandersForPresident\", \"centerleftpolitics\", \"Pete_Buttigieg\", \"YangForPresidentHQ\", \"politics\", \"ChapoTrapHouse\"], \"legendgroup\": \"left\", \"marker\": {\"color\": \"blue\", \"opacity\": 0.7, \"symbol\": \"circle\"}, \"mode\": \"markers+text\", \"name\": \"left\", \"scene\": \"scene\", \"showlegend\": true, \"text\": [\"JoeBiden\", \"Kamala\", \"SocialDemocracy\", \"BaemyKlobaechar\", \"demsocialist\", \"BetoORourke\", \"ConservativeDemocrat\", \"progressive\", \"ElizabethWarren\", \"moderatepolitics\", \"SandersForPresident\", \"centerleftpolitics\", \"Pete_Buttigieg\", \"YangForPresidentHQ\", \"politics\", \"ChapoTrapHouse\"], \"x\": [-0.12539028942121966, -0.11430024269018757, -0.052750234271161635, -0.28033609660668857, -0.4347712480415612, -0.3369199384224998, -0.24107745010103523, -0.1823868281637312, -0.1893639375432581, -0.1595642148347978, -0.13042398604374164, -0.07964473403819002, -0.16922922522400427, -0.09303380101298489, -0.20012800708752979, 0.022380646349757477], \"y\": [-0.042429389318080796, 0.00534589914218231, -0.22983058884638177, -0.1631672930372669, -0.12141880633743209, -0.12738454256173, -0.25283982490688894, -0.05483653273293608, -0.0665329547048069, -0.11454699939119184, -0.12971380029631002, -0.13302150868554707, -0.08825663858535039, -0.10873159103361434, -0.09988935533262486, -0.1303389982058809], \"z\": [0.0036869053514962677, -0.1369229159485479, -0.11430637167853445, 0.04326162963487674, -0.28034679605097323, -0.1928559533925036, -0.28334099045906763, -0.21712400388201447, 0.029631617246894577, -0.13267356948094786, -0.11657306978072121, 0.01877627472707801, 0.004313650806591861, 0.05912890995914841, -0.18219780623857232, -0.06461821303132362], \"type\": \"scatter3d\"}], \"name\": \"2019-12-01\"}]);\n",
       "                        }).then(function(){\n",
       "                            \n",
       "var gd = document.getElementById('908b49bc-1123-4ac6-9c19-fa20eed7575d');\n",
       "var x = new MutationObserver(function (mutations, observer) {{\n",
       "        var display = window.getComputedStyle(gd).display;\n",
       "        if (!display || display === 'none') {{\n",
       "            console.log([gd, 'removed!']);\n",
       "            Plotly.purge(gd);\n",
       "            observer.disconnect();\n",
       "        }}\n",
       "}});\n",
       "\n",
       "// Listen for the removal of the full notebook cells\n",
       "var notebookContainer = gd.closest('#notebook-container');\n",
       "if (notebookContainer) {{\n",
       "    x.observe(notebookContainer, {childList: true});\n",
       "}}\n",
       "\n",
       "// Listen for the clearing of the current output cell\n",
       "var outputEl = gd.closest('.output');\n",
       "if (outputEl) {{\n",
       "    x.observe(outputEl, {childList: true});\n",
       "}}\n",
       "\n",
       "                        })\n",
       "                };\n",
       "                });\n",
       "            </script>\n",
       "        </div>"
      ]
     },
     "metadata": {},
     "output_type": "display_data"
    }
   ],
   "source": [
    "(max_x, max_y, max_z), (min_x, min_y, min_z) = three_dim[[0,1,2]].max(axis=0), three_dim[[0,1,2]].min(axis=0)\n",
    "args = {\n",
    "    \"x\": 0,\n",
    "    \"y\": 1,\n",
    "    \"z\": 2,\n",
    "    \"hover_name\": \"subreddit\",\n",
    "    \"text\": \"subreddit\",\n",
    "    \"opacity\": 0.7,\n",
    "    \"color\": \"partisan\",\n",
    "    \"animation_frame\": three_dim.week.astype(str),\n",
    "    \"animation_group\": \"subreddit\",\n",
    "    \"color_discrete_sequence\": [\"red\",\"blue\"]\n",
    "}\n",
    "fig = px.scatter_3d(three_dim,**args)\n",
    "fig.update_traces(marker=dict(size=12,\n",
    "                              line=dict(width=2,\n",
    "                                        color='DarkSlateGrey')),\n",
    "                  selector=dict(mode='markers'))\n",
    "fig.write_html(\"visualizations/temporal/{}_3d_scatter.html\".format(TIME_FRAME))\n",
    "fig.show()"
   ]
  },
  {
   "cell_type": "code",
   "execution_count": null,
   "metadata": {},
   "outputs": [],
   "source": []
  }
 ],
 "metadata": {
  "kernelspec": {
   "display_name": "Python 3",
   "language": "python",
   "name": "python3"
  },
  "language_info": {
   "codemirror_mode": {
    "name": "ipython",
    "version": 3
   },
   "file_extension": ".py",
   "mimetype": "text/x-python",
   "name": "python",
   "nbconvert_exporter": "python",
   "pygments_lexer": "ipython3",
   "version": "3.7.7"
  }
 },
 "nbformat": 4,
 "nbformat_minor": 4
}
