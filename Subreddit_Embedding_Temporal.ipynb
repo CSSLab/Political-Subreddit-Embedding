{
 "cells": [
  {
   "cell_type": "code",
   "execution_count": 4,
   "metadata": {},
   "outputs": [],
   "source": [
    "import findspark\n",
    "findspark.init(\"/h/224/cameron/spark-3.0.0-preview2-bin-hadoop2.7\")\n",
    "from pyspark.sql import SparkSession\n",
    "from pyspark.sql.functions import *\n",
    "from pyspark.sql.functions import date_sub\n",
    "from glob import glob\n",
    "from datetime import datetime\n",
    "import numpy as np\n",
    "import pandas as pd\n",
    "import tempfile"
   ]
  },
  {
   "cell_type": "code",
   "execution_count": 5,
   "metadata": {},
   "outputs": [],
   "source": [
    "spark = SparkSession.builder.getOrCreate()\n",
    "spark.sparkContext.getConf().getAll()\n",
    "TIME_FRAME = \"monthly\"\n",
    "window = {\n",
    "    \"weekly\": 7,\n",
    "    \"biweekly\": 14,\n",
    "    \"monthly\": None,\n",
    "}"
   ]
  },
  {
   "cell_type": "code",
   "execution_count": 3,
   "metadata": {
    "scrolled": true
   },
   "outputs": [
    {
     "name": "stdout",
     "output_type": "stream",
     "text": [
      "root\n",
      " |-- author: string (nullable = false)\n",
      " |-- subreddit: string (nullable = false)\n",
      " |-- created_utc: integer (nullable = true)\n",
      "\n"
     ]
    }
   ],
   "source": [
    "# Load the Parquet data\n",
    "comments = spark.read.load(\"/comments_2019.parquet\").fillna(\"\")\n",
    "subreddits = spark.read.load(\"dataframes/subreddits.parquet\")\n",
    "comments = comments.join(subreddits, ['subreddit'], 'leftsemi')\n",
    "cols = ['author','subreddit','created_utc']\n",
    "comments = comments.select(*cols)\n",
    "comments.printSchema()"
   ]
  },
  {
   "cell_type": "code",
   "execution_count": 4,
   "metadata": {},
   "outputs": [
    {
     "data": {
      "text/plain": [
       "1591088075"
      ]
     },
     "execution_count": 4,
     "metadata": {},
     "output_type": "execute_result"
    }
   ],
   "source": [
    "comments.count()"
   ]
  },
  {
   "cell_type": "code",
   "execution_count": 4,
   "metadata": {},
   "outputs": [
    {
     "name": "stdout",
     "output_type": "stream",
     "text": [
      "+----------------+--------------------+\n",
      "|          author|           subreddit|\n",
      "+----------------+--------------------+\n",
      "|     jncummins86|(stilltrying,1/3/...|\n",
      "|     andrewmyles|(NintendoSwitch,1...|\n",
      "|           -QBM-|(LofiHipHop,1/3/2...|\n",
      "|    BlazeGiraffe|  (cocaine,1/3/2019)|\n",
      "|         SeeDeez|   (nyjets,1/3/2019)|\n",
      "|   Serious_Sam_2|(RocketLeagueExch...|\n",
      "|       [deleted]|(moist_memes,1/3/...|\n",
      "|       [deleted]|(worldnews,1/3/2019)|\n",
      "|IrishEyesRsmilin|(StevenAveryIsGui...|\n",
      "|  RanietsSharvas|(AnthemTheGame,1/...|\n",
      "|          aeolid|(Sourdough,1/3/2019)|\n",
      "|        jobn2021|(WaltDisneyWorld,...|\n",
      "|  KillUrselfAcne|(8BallPool,1/3/2019)|\n",
      "|       Bankertov|(StreetFighter,1/...|\n",
      "|       HiImDavid|(guineapigs,1/3/2...|\n",
      "|        Nole2424|(apexlegends,1/3/...|\n",
      "|      1000Dragon|(Maplestory,1/3/2...|\n",
      "|     mrfuckhead1|(synthesizers,1/3...|\n",
      "|        phcullen|(Charlotte,1/3/2019)|\n",
      "|   thelucidvegan|   (movies,1/3/2019)|\n",
      "+----------------+--------------------+\n",
      "only showing top 20 rows\n",
      "\n"
     ]
    }
   ],
   "source": [
    "# Add date column\n",
    "# Create a function that returns the desired UDF from a timestamp \n",
    "to_udf = udf(lambda ts: datetime.fromtimestamp(ts).strftime(\"%Y-%m-%d %H:00:00\"))\n",
    "\n",
    "comments = comments.withColumn(\"timestamp\", to_udf(comments[\"created_utc\"]))\n",
    "if TIME_FRAME in [\"weekly\",\"biweekly\"]:\n",
    "    # Add column that aggregates by week \n",
    "    comments = comments.withColumn(\"week\",date_sub(next_day(col(\"timestamp\"),\"sunday\"),window[TIME_FRAME]))\n",
    "    comments = comments.withColumn('subreddit', concat(lit('('),col('subreddit'),lit(','),col('week'),lit(')')))\n",
    "    comments = comments.drop(*[\"created_utc\",\"timestamp\",\"week\"])\n",
    "else:\n",
    "    comments = comments.withColumn('month', date_format(col('timestamp'), '1/M/yyyy'))\n",
    "    comments = comments.withColumn('subreddit', concat(lit('('),col('subreddit'),lit(','),col('month'),lit(')')))\n",
    "    comments = comments.drop(*[\"created_utc\",\"timestamp\",\"month\"])\n",
    "\n",
    "comments.show()"
   ]
  },
  {
   "cell_type": "markdown",
   "metadata": {},
   "source": [
    "## Word2Vecf Files\n",
    "[Word2vecf](https://github.com/BIU-NLP/word2vecf/blob/master/README.md) requires three inputs\n",
    "* training_data: text file of word-context pairs (space delimited)\n",
    "* word_vocabulary: file mapping subreddits (strings) to their counts\n",
    "* count_vocabulary: file mapping users (contexts -> subreddit commenters) to their counts"
   ]
  },
  {
   "cell_type": "markdown",
   "metadata": {},
   "source": [
    "### Training Data\n",
    "\n",
    "We want to avoid having to load the raw data as there are 1 billion+ rows. Working with aggregates from the start makes things much easier. \n",
    "\n",
    "*Since this is the temporal embedding we've already added the week into the subreddit name. Each subreddit/week combo is considered a new word with possible different contexts*"
   ]
  },
  {
   "cell_type": "code",
   "execution_count": 5,
   "metadata": {
    "scrolled": true
   },
   "outputs": [
    {
     "name": "stderr",
     "output_type": "stream",
     "text": [
      "----------------------------------------\n",
      "Exception happened during processing of request from ('127.0.0.1', 38264)\n",
      "ERROR:root:Exception while sending command.\n",
      "Traceback (most recent call last):\n",
      "  File \"/h/224/cameron/spark-3.0.0-preview2-bin-hadoop2.7/python/lib/py4j-0.10.8.1-src.zip/py4j/java_gateway.py\", line 1188, in send_command\n",
      "    raise Py4JNetworkError(\"Answer from Java side is empty\")\n",
      "py4j.protocol.Py4JNetworkError: Answer from Java side is empty\n",
      "\n",
      "During handling of the above exception, another exception occurred:\n",
      "\n",
      "Traceback (most recent call last):\n",
      "  File \"/h/224/cameron/spark-3.0.0-preview2-bin-hadoop2.7/python/lib/py4j-0.10.8.1-src.zip/py4j/java_gateway.py\", line 1014, in send_command\n",
      "    response = connection.send_command(command)\n",
      "  File \"/h/224/cameron/spark-3.0.0-preview2-bin-hadoop2.7/python/lib/py4j-0.10.8.1-src.zip/py4j/java_gateway.py\", line 1193, in send_command\n",
      "    \"Error while receiving\", e, proto.ERROR_ON_RECEIVE)\n",
      "py4j.protocol.Py4JNetworkError: Error while receiving\n",
      "Traceback (most recent call last):\n",
      "  File \"/h/224/cameron/miniconda3/envs/pyspark_env/lib/python3.7/socketserver.py\", line 316, in _handle_request_noblock\n",
      "    self.process_request(request, client_address)\n",
      "  File \"/h/224/cameron/miniconda3/envs/pyspark_env/lib/python3.7/socketserver.py\", line 347, in process_request\n",
      "    self.finish_request(request, client_address)\n",
      "  File \"/h/224/cameron/miniconda3/envs/pyspark_env/lib/python3.7/socketserver.py\", line 360, in finish_request\n",
      "    self.RequestHandlerClass(request, client_address, self)\n",
      "  File \"/h/224/cameron/miniconda3/envs/pyspark_env/lib/python3.7/socketserver.py\", line 720, in __init__\n",
      "    self.handle()\n",
      "  File \"/h/224/cameron/spark-3.0.0-preview2-bin-hadoop2.7/python/pyspark/accumulators.py\", line 268, in handle\n",
      "    poll(accum_updates)\n",
      "  File \"/h/224/cameron/spark-3.0.0-preview2-bin-hadoop2.7/python/pyspark/accumulators.py\", line 241, in poll\n",
      "    if func():\n",
      "  File \"/h/224/cameron/spark-3.0.0-preview2-bin-hadoop2.7/python/pyspark/accumulators.py\", line 245, in accum_updates\n",
      "    num_updates = read_int(self.rfile)\n",
      "  File \"/h/224/cameron/spark-3.0.0-preview2-bin-hadoop2.7/python/pyspark/serializers.py\", line 837, in read_int\n",
      "    raise EOFError\n",
      "EOFError\n",
      "----------------------------------------\n"
     ]
    },
    {
     "ename": "Py4JError",
     "evalue": "An error occurred while calling o155.showString",
     "output_type": "error",
     "traceback": [
      "\u001b[0;31m---------------------------------------------------------------------------\u001b[0m",
      "\u001b[0;31mPy4JError\u001b[0m                                 Traceback (most recent call last)",
      "\u001b[0;32m<ipython-input-5-2f2fa50c51e1>\u001b[0m in \u001b[0;36m<module>\u001b[0;34m\u001b[0m\n\u001b[1;32m      1\u001b[0m \u001b[0mtraining_data\u001b[0m \u001b[0;34m=\u001b[0m \u001b[0mcomments\u001b[0m\u001b[0;34m.\u001b[0m\u001b[0mgroupBy\u001b[0m\u001b[0;34m(\u001b[0m\u001b[0;34m[\u001b[0m\u001b[0;34m\"subreddit\"\u001b[0m\u001b[0;34m,\u001b[0m\u001b[0;34m\"author\"\u001b[0m\u001b[0;34m]\u001b[0m\u001b[0;34m)\u001b[0m\u001b[0;34m.\u001b[0m\u001b[0mcount\u001b[0m\u001b[0;34m(\u001b[0m\u001b[0;34m)\u001b[0m\u001b[0;34m.\u001b[0m\u001b[0mcache\u001b[0m\u001b[0;34m(\u001b[0m\u001b[0;34m)\u001b[0m\u001b[0;34m\u001b[0m\u001b[0;34m\u001b[0m\u001b[0m\n\u001b[0;32m----> 2\u001b[0;31m \u001b[0mtraining_data\u001b[0m\u001b[0;34m.\u001b[0m\u001b[0mshow\u001b[0m\u001b[0;34m(\u001b[0m\u001b[0;34m)\u001b[0m\u001b[0;34m\u001b[0m\u001b[0;34m\u001b[0m\u001b[0m\n\u001b[0m",
      "\u001b[0;32m~/spark-3.0.0-preview2-bin-hadoop2.7/python/pyspark/sql/dataframe.py\u001b[0m in \u001b[0;36mshow\u001b[0;34m(self, n, truncate, vertical)\u001b[0m\n\u001b[1;32m    405\u001b[0m         \"\"\"\n\u001b[1;32m    406\u001b[0m         \u001b[0;32mif\u001b[0m \u001b[0misinstance\u001b[0m\u001b[0;34m(\u001b[0m\u001b[0mtruncate\u001b[0m\u001b[0;34m,\u001b[0m \u001b[0mbool\u001b[0m\u001b[0;34m)\u001b[0m \u001b[0;32mand\u001b[0m \u001b[0mtruncate\u001b[0m\u001b[0;34m:\u001b[0m\u001b[0;34m\u001b[0m\u001b[0;34m\u001b[0m\u001b[0m\n\u001b[0;32m--> 407\u001b[0;31m             \u001b[0mprint\u001b[0m\u001b[0;34m(\u001b[0m\u001b[0mself\u001b[0m\u001b[0;34m.\u001b[0m\u001b[0m_jdf\u001b[0m\u001b[0;34m.\u001b[0m\u001b[0mshowString\u001b[0m\u001b[0;34m(\u001b[0m\u001b[0mn\u001b[0m\u001b[0;34m,\u001b[0m \u001b[0;36m20\u001b[0m\u001b[0;34m,\u001b[0m \u001b[0mvertical\u001b[0m\u001b[0;34m)\u001b[0m\u001b[0;34m)\u001b[0m\u001b[0;34m\u001b[0m\u001b[0;34m\u001b[0m\u001b[0m\n\u001b[0m\u001b[1;32m    408\u001b[0m         \u001b[0;32melse\u001b[0m\u001b[0;34m:\u001b[0m\u001b[0;34m\u001b[0m\u001b[0;34m\u001b[0m\u001b[0m\n\u001b[1;32m    409\u001b[0m             \u001b[0mprint\u001b[0m\u001b[0;34m(\u001b[0m\u001b[0mself\u001b[0m\u001b[0;34m.\u001b[0m\u001b[0m_jdf\u001b[0m\u001b[0;34m.\u001b[0m\u001b[0mshowString\u001b[0m\u001b[0;34m(\u001b[0m\u001b[0mn\u001b[0m\u001b[0;34m,\u001b[0m \u001b[0mint\u001b[0m\u001b[0;34m(\u001b[0m\u001b[0mtruncate\u001b[0m\u001b[0;34m)\u001b[0m\u001b[0;34m,\u001b[0m \u001b[0mvertical\u001b[0m\u001b[0;34m)\u001b[0m\u001b[0;34m)\u001b[0m\u001b[0;34m\u001b[0m\u001b[0;34m\u001b[0m\u001b[0m\n",
      "\u001b[0;32m~/spark-3.0.0-preview2-bin-hadoop2.7/python/lib/py4j-0.10.8.1-src.zip/py4j/java_gateway.py\u001b[0m in \u001b[0;36m__call__\u001b[0;34m(self, *args)\u001b[0m\n\u001b[1;32m   1284\u001b[0m         \u001b[0manswer\u001b[0m \u001b[0;34m=\u001b[0m \u001b[0mself\u001b[0m\u001b[0;34m.\u001b[0m\u001b[0mgateway_client\u001b[0m\u001b[0;34m.\u001b[0m\u001b[0msend_command\u001b[0m\u001b[0;34m(\u001b[0m\u001b[0mcommand\u001b[0m\u001b[0;34m)\u001b[0m\u001b[0;34m\u001b[0m\u001b[0;34m\u001b[0m\u001b[0m\n\u001b[1;32m   1285\u001b[0m         return_value = get_return_value(\n\u001b[0;32m-> 1286\u001b[0;31m             answer, self.gateway_client, self.target_id, self.name)\n\u001b[0m\u001b[1;32m   1287\u001b[0m \u001b[0;34m\u001b[0m\u001b[0m\n\u001b[1;32m   1288\u001b[0m         \u001b[0;32mfor\u001b[0m \u001b[0mtemp_arg\u001b[0m \u001b[0;32min\u001b[0m \u001b[0mtemp_args\u001b[0m\u001b[0;34m:\u001b[0m\u001b[0;34m\u001b[0m\u001b[0;34m\u001b[0m\u001b[0m\n",
      "\u001b[0;32m~/spark-3.0.0-preview2-bin-hadoop2.7/python/pyspark/sql/utils.py\u001b[0m in \u001b[0;36mdeco\u001b[0;34m(*a, **kw)\u001b[0m\n\u001b[1;32m     96\u001b[0m     \u001b[0;32mdef\u001b[0m \u001b[0mdeco\u001b[0m\u001b[0;34m(\u001b[0m\u001b[0;34m*\u001b[0m\u001b[0ma\u001b[0m\u001b[0;34m,\u001b[0m \u001b[0;34m**\u001b[0m\u001b[0mkw\u001b[0m\u001b[0;34m)\u001b[0m\u001b[0;34m:\u001b[0m\u001b[0;34m\u001b[0m\u001b[0;34m\u001b[0m\u001b[0m\n\u001b[1;32m     97\u001b[0m         \u001b[0;32mtry\u001b[0m\u001b[0;34m:\u001b[0m\u001b[0;34m\u001b[0m\u001b[0;34m\u001b[0m\u001b[0m\n\u001b[0;32m---> 98\u001b[0;31m             \u001b[0;32mreturn\u001b[0m \u001b[0mf\u001b[0m\u001b[0;34m(\u001b[0m\u001b[0;34m*\u001b[0m\u001b[0ma\u001b[0m\u001b[0;34m,\u001b[0m \u001b[0;34m**\u001b[0m\u001b[0mkw\u001b[0m\u001b[0;34m)\u001b[0m\u001b[0;34m\u001b[0m\u001b[0;34m\u001b[0m\u001b[0m\n\u001b[0m\u001b[1;32m     99\u001b[0m         \u001b[0;32mexcept\u001b[0m \u001b[0mpy4j\u001b[0m\u001b[0;34m.\u001b[0m\u001b[0mprotocol\u001b[0m\u001b[0;34m.\u001b[0m\u001b[0mPy4JJavaError\u001b[0m \u001b[0;32mas\u001b[0m \u001b[0me\u001b[0m\u001b[0;34m:\u001b[0m\u001b[0;34m\u001b[0m\u001b[0;34m\u001b[0m\u001b[0m\n\u001b[1;32m    100\u001b[0m             \u001b[0mconverted\u001b[0m \u001b[0;34m=\u001b[0m \u001b[0mconvert_exception\u001b[0m\u001b[0;34m(\u001b[0m\u001b[0me\u001b[0m\u001b[0;34m.\u001b[0m\u001b[0mjava_exception\u001b[0m\u001b[0;34m)\u001b[0m\u001b[0;34m\u001b[0m\u001b[0;34m\u001b[0m\u001b[0m\n",
      "\u001b[0;32m~/spark-3.0.0-preview2-bin-hadoop2.7/python/lib/py4j-0.10.8.1-src.zip/py4j/protocol.py\u001b[0m in \u001b[0;36mget_return_value\u001b[0;34m(answer, gateway_client, target_id, name)\u001b[0m\n\u001b[1;32m    334\u001b[0m             raise Py4JError(\n\u001b[1;32m    335\u001b[0m                 \u001b[0;34m\"An error occurred while calling {0}{1}{2}\"\u001b[0m\u001b[0;34m.\u001b[0m\u001b[0;34m\u001b[0m\u001b[0;34m\u001b[0m\u001b[0m\n\u001b[0;32m--> 336\u001b[0;31m                 format(target_id, \".\", name))\n\u001b[0m\u001b[1;32m    337\u001b[0m     \u001b[0;32melse\u001b[0m\u001b[0;34m:\u001b[0m\u001b[0;34m\u001b[0m\u001b[0;34m\u001b[0m\u001b[0m\n\u001b[1;32m    338\u001b[0m         \u001b[0mtype\u001b[0m \u001b[0;34m=\u001b[0m \u001b[0manswer\u001b[0m\u001b[0;34m[\u001b[0m\u001b[0;36m1\u001b[0m\u001b[0;34m]\u001b[0m\u001b[0;34m\u001b[0m\u001b[0;34m\u001b[0m\u001b[0m\n",
      "\u001b[0;31mPy4JError\u001b[0m: An error occurred while calling o155.showString"
     ]
    }
   ],
   "source": [
    "training_data = comments.groupBy([\"subreddit\",\"author\"]).count().cache()\n",
    "training_data.show()"
   ]
  },
  {
   "cell_type": "code",
   "execution_count": 12,
   "metadata": {},
   "outputs": [
    {
     "data": {
      "text/plain": [
       "319777858"
      ]
     },
     "execution_count": 12,
     "metadata": {},
     "output_type": "execute_result"
    }
   ],
   "source": [
    "training_data.count()"
   ]
  },
  {
   "cell_type": "markdown",
   "metadata": {},
   "source": [
    "### Word Vocabulary"
   ]
  },
  {
   "cell_type": "code",
   "execution_count": 13,
   "metadata": {},
   "outputs": [
    {
     "name": "stdout",
     "output_type": "stream",
     "text": [
      "+--------------------+-------+\n",
      "|           subreddit|  count|\n",
      "+--------------------+-------+\n",
      "|(Allergies,1/3/2019)|   2138|\n",
      "|(FortNiteBR,1/3/2...| 652991|\n",
      "|(BuyItForLife,1/3...|  11572|\n",
      "|   (iphone,1/3/2019)|  53763|\n",
      "|(dankmemes,1/3/2019)|1303112|\n",
      "|   (Tgirls,1/3/2019)|   3693|\n",
      "|(DissidiaFFOO,1/3...|  27247|\n",
      "|     (cats,1/3/2019)|  94074|\n",
      "|   (AFROTC,1/3/2019)|   1423|\n",
      "|  (gaybros,1/3/2019)|  28645|\n",
      "|    (Jokes,1/3/2019)| 114812|\n",
      "|   (occult,1/3/2019)|  15956|\n",
      "|   (mexico,1/3/2019)|  52126|\n",
      "|     (bdsm,1/3/2019)|   5622|\n",
      "|(DeepIntoYouTube,...|   7981|\n",
      "|(NFL_Draft,1/3/2019)|  25266|\n",
      "|(wildhearthstone,...|   5615|\n",
      "|(Splatoon_2,1/3/2...|   3915|\n",
      "|(TaylorSwift,1/3/...|  14943|\n",
      "|     (army,1/3/2019)|  52576|\n",
      "+--------------------+-------+\n",
      "only showing top 20 rows\n",
      "\n"
     ]
    }
   ],
   "source": [
    "from pyspark.sql.functions import sum as _sum\n",
    "word_vocabulary = training_data.groupBy(\"subreddit\").agg(_sum('count').alias('count')).cache()\n",
    "word_vocabulary.show()"
   ]
  },
  {
   "cell_type": "code",
   "execution_count": 14,
   "metadata": {},
   "outputs": [
    {
     "data": {
      "text/plain": [
       "120825"
      ]
     },
     "execution_count": 14,
     "metadata": {},
     "output_type": "execute_result"
    }
   ],
   "source": [
    "word_vocabulary.count()"
   ]
  },
  {
   "cell_type": "markdown",
   "metadata": {},
   "source": [
    "### Context Vocabulary"
   ]
  },
  {
   "cell_type": "code",
   "execution_count": null,
   "metadata": {},
   "outputs": [],
   "source": [
    "context_vocabulary = training_data.groupBy(\"author\").agg(_sum('count').alias('count')).cache()\n",
    "context_vocabulary.show()"
   ]
  },
  {
   "cell_type": "code",
   "execution_count": null,
   "metadata": {
    "scrolled": true
   },
   "outputs": [],
   "source": [
    "context_vocabulary.count()"
   ]
  },
  {
   "cell_type": "markdown",
   "metadata": {},
   "source": [
    "## Write Vocabularies and Training Data to File"
   ]
  },
  {
   "cell_type": "code",
   "execution_count": 3,
   "metadata": {},
   "outputs": [
    {
     "data": {
      "text/plain": [
       "CompletedProcess(args='mkdir -p /h/224/cameron/Political-Subreddit-Embedding/temp/temporal/', returncode=0)"
      ]
     },
     "execution_count": 3,
     "metadata": {},
     "output_type": "execute_result"
    }
   ],
   "source": [
    "# Create a temp context for the word and context vocabulary files (which get passed to the word2vecf script)\n",
    "import subprocess\n",
    "import sys\n",
    "import os\n",
    "temp_dir = \"/h/224/cameron/Political-Subreddit-Embedding/temp/temporal/\"\n",
    "subprocess.run(\"mkdir -p {}\".format(temp_dir), shell=True)"
   ]
  },
  {
   "cell_type": "code",
   "execution_count": 4,
   "metadata": {},
   "outputs": [],
   "source": [
    "# Create temp files\n",
    "file_data = os.path.join(temp_dir, '{}_data'.format(TIME_FRAME))\n",
    "file_wv = os.path.join(temp_dir, '{}_wv'.format(TIME_FRAME))\n",
    "file_cv = os.path.join(temp_dir, '{}_cv'.format(TIME_FRAME))"
   ]
  },
  {
   "cell_type": "code",
   "execution_count": null,
   "metadata": {},
   "outputs": [
    {
     "name": "stdout",
     "output_type": "stream",
     "text": [
      "Writing training data to /h/224/cameron/Political-Subreddit-Embedding/temp/temporal/monthly_data...\n"
     ]
    }
   ],
   "source": [
    "print(\"Writing training data to {}...\".format(file_data))\n",
    "training_data.write.csv(file_data,header=False,sep=' ')"
   ]
  },
  {
   "cell_type": "code",
   "execution_count": null,
   "metadata": {},
   "outputs": [],
   "source": [
    "print(\"Writing word vocab data to {}...\".format(file_wv))\n",
    "word_vocabulary.write.csv(file_wv,header=False,sep=' ')"
   ]
  },
  {
   "cell_type": "code",
   "execution_count": null,
   "metadata": {},
   "outputs": [],
   "source": [
    "print(\"Writing context vocab data to {}...\".format(file_cv))\n",
    "context_vocabulary.write.csv(file_cv,header=False,sep=' ')"
   ]
  },
  {
   "cell_type": "code",
   "execution_count": 7,
   "metadata": {},
   "outputs": [],
   "source": [
    "from utils import coalese_csvs\n",
    "file_data = coalese_csvs(file_data,\"{}.txt\".format(file_data))\n",
    "file_wv = coalese_csvs(file_wv,\"{}.txt\".format(file_wv))\n",
    "file_cv = coalese_csvs(file_cv,\"{}.txt\".format(file_cv))"
   ]
  },
  {
   "cell_type": "code",
   "execution_count": 8,
   "metadata": {},
   "outputs": [
    {
     "data": {
      "text/plain": [
       "'/h/224/cameron/Political-Subreddit-Embedding/temp/temporal/monthly_data.txt'"
      ]
     },
     "execution_count": 8,
     "metadata": {},
     "output_type": "execute_result"
    }
   ],
   "source": [
    "file_data"
   ]
  },
  {
   "cell_type": "markdown",
   "metadata": {},
   "source": [
    "## Train Embedding"
   ]
  },
  {
   "cell_type": "code",
   "execution_count": 5,
   "metadata": {},
   "outputs": [
    {
     "data": {
      "text/plain": [
       "'./trained_embeddings/temporal/monthly/monthly_vecs_0.0028_15.txt'"
      ]
     },
     "execution_count": 5,
     "metadata": {},
     "output_type": "execute_result"
    }
   ],
   "source": [
    "# Word2vec parameters, using negative sampling\n",
    "# -alpha 0.18 -negative 35 -sample 0.0043 -size 150\n",
    "from utils import generate_embedding, load_embedding\n",
    "embedding_args = {\n",
    "                    \"param1\": \"sample\", \n",
    "                    \"p1\": 0.0028, \n",
    "                    \"param2\": \"negative\", \n",
    "                    \"p2\": 15, \n",
    "                    \"file_data\": file_data , \n",
    "                    \"file_wv\": file_wv, \n",
    "                    \"file_cv\": file_cv,\n",
    "                    \"size\": 150,\n",
    "                    \"alpha\": 0.18\n",
    "                 }\n",
    "embedding_fp = generate_embedding(time_frame=TIME_FRAME,**embedding_args)\n",
    "embedding_fp"
   ]
  },
  {
   "cell_type": "code",
   "execution_count": 6,
   "metadata": {},
   "outputs": [
    {
     "data": {
      "text/plain": [
       "0                (solotravel,1/3/2019)\n",
       "1                 (AskReddit,1/7/2019)\n",
       "2                 (AskReddit,1/8/2019)\n",
       "3                (AskReddit,1/10/2019)\n",
       "4                 (AskReddit,1/6/2019)\n",
       "                      ...             \n",
       "120820          (ProjectJojo,1/1/2019)\n",
       "120821            (bethlehem,1/8/2019)\n",
       "120822    (WellesleyCollege,1/12/2019)\n",
       "120823        (sanbernardino,1/9/2019)\n",
       "120824            (newlondon,1/3/2019)\n",
       "Name: subreddit, Length: 120825, dtype: object"
      ]
     },
     "execution_count": 6,
     "metadata": {},
     "output_type": "execute_result"
    }
   ],
   "source": [
    "subreddits, vectors = load_embedding(embedding_fp)\n",
    "subreddits"
   ]
  },
  {
   "cell_type": "markdown",
   "metadata": {},
   "source": [
    "### Parse Out Subreddit from Week Again\n",
    "\n",
    "Since we've already trained all of the seperate emebeddings there isn't a need for them to be in the same column anymore. This will make animating the emebedding over time easier."
   ]
  },
  {
   "cell_type": "code",
   "execution_count": 7,
   "metadata": {},
   "outputs": [
    {
     "data": {
      "text/html": [
       "<div>\n",
       "<style scoped>\n",
       "    .dataframe tbody tr th:only-of-type {\n",
       "        vertical-align: middle;\n",
       "    }\n",
       "\n",
       "    .dataframe tbody tr th {\n",
       "        vertical-align: top;\n",
       "    }\n",
       "\n",
       "    .dataframe thead th {\n",
       "        text-align: right;\n",
       "    }\n",
       "</style>\n",
       "<table border=\"1\" class=\"dataframe\">\n",
       "  <thead>\n",
       "    <tr style=\"text-align: right;\">\n",
       "      <th></th>\n",
       "      <th>subreddit</th>\n",
       "      <th>week</th>\n",
       "    </tr>\n",
       "  </thead>\n",
       "  <tbody>\n",
       "    <tr>\n",
       "      <th>0</th>\n",
       "      <td>solotravel</td>\n",
       "      <td>2019-03-01</td>\n",
       "    </tr>\n",
       "    <tr>\n",
       "      <th>1</th>\n",
       "      <td>AskReddit</td>\n",
       "      <td>2019-07-01</td>\n",
       "    </tr>\n",
       "    <tr>\n",
       "      <th>2</th>\n",
       "      <td>AskReddit</td>\n",
       "      <td>2019-08-01</td>\n",
       "    </tr>\n",
       "    <tr>\n",
       "      <th>3</th>\n",
       "      <td>AskReddit</td>\n",
       "      <td>2019-10-01</td>\n",
       "    </tr>\n",
       "    <tr>\n",
       "      <th>4</th>\n",
       "      <td>AskReddit</td>\n",
       "      <td>2019-06-01</td>\n",
       "    </tr>\n",
       "    <tr>\n",
       "      <th>...</th>\n",
       "      <td>...</td>\n",
       "      <td>...</td>\n",
       "    </tr>\n",
       "    <tr>\n",
       "      <th>120820</th>\n",
       "      <td>ProjectJojo</td>\n",
       "      <td>2019-01-01</td>\n",
       "    </tr>\n",
       "    <tr>\n",
       "      <th>120821</th>\n",
       "      <td>bethlehem</td>\n",
       "      <td>2019-08-01</td>\n",
       "    </tr>\n",
       "    <tr>\n",
       "      <th>120822</th>\n",
       "      <td>WellesleyCollege</td>\n",
       "      <td>2019-12-01</td>\n",
       "    </tr>\n",
       "    <tr>\n",
       "      <th>120823</th>\n",
       "      <td>sanbernardino</td>\n",
       "      <td>2019-09-01</td>\n",
       "    </tr>\n",
       "    <tr>\n",
       "      <th>120824</th>\n",
       "      <td>newlondon</td>\n",
       "      <td>2019-03-01</td>\n",
       "    </tr>\n",
       "  </tbody>\n",
       "</table>\n",
       "<p>120825 rows × 2 columns</p>\n",
       "</div>"
      ],
      "text/plain": [
       "               subreddit       week\n",
       "0             solotravel 2019-03-01\n",
       "1              AskReddit 2019-07-01\n",
       "2              AskReddit 2019-08-01\n",
       "3              AskReddit 2019-10-01\n",
       "4              AskReddit 2019-06-01\n",
       "...                  ...        ...\n",
       "120820       ProjectJojo 2019-01-01\n",
       "120821         bethlehem 2019-08-01\n",
       "120822  WellesleyCollege 2019-12-01\n",
       "120823     sanbernardino 2019-09-01\n",
       "120824         newlondon 2019-03-01\n",
       "\n",
       "[120825 rows x 2 columns]"
      ]
     },
     "execution_count": 7,
     "metadata": {},
     "output_type": "execute_result"
    }
   ],
   "source": [
    "from utils import parse_tup\n",
    "\n",
    "sub_df = pd.DataFrame(subreddits.apply(lambda x : parse_tup(x,date_str=\"%d/%m/%Y\")).tolist())\n",
    "sub_df.columns = [\"subreddit\",\"week\"]\n",
    "sub_df"
   ]
  },
  {
   "cell_type": "markdown",
   "metadata": {},
   "source": [
    "## Visualize/Animate\n",
    "1. Reduce to 3/2 dimensions\n",
    "2. Add subreddit/week columns to factored dataframe\n",
    "3. Visualize"
   ]
  },
  {
   "cell_type": "code",
   "execution_count": 39,
   "metadata": {},
   "outputs": [],
   "source": [
    "from sklearn.decomposition import PCA\n",
    "import plotly.express as px\n",
    "subprocess.run(\"mkdir -p visualizations/temporal\", shell=True)\n",
    "left_subreddits = [\"JoeBiden\",\"SandersForPresident\",\"BaemyKlobaechar\",\"ElizabethWarren\",\"Pete_Buttigieg\",\"YangForPresidentHQ\"] + [\"politics\",\"progressive\",\n",
    "                        \"demsocialist\",\"SocialDemocracy\",\"centerleftpolitics\",\n",
    "                        \"ConservativeDemocrat\",\"moderatepolitics\",\"ChapoTrapHouse\"]\n",
    "right_subreddits = [\"The_Donald\",\"Conservative\",\"ShitPoliticsSays\",\"progun\",\"Republican\",\"Capitalism\"]"
   ]
  },
  {
   "cell_type": "code",
   "execution_count": 40,
   "metadata": {},
   "outputs": [
    {
     "data": {
      "text/html": [
       "<div>\n",
       "<style scoped>\n",
       "    .dataframe tbody tr th:only-of-type {\n",
       "        vertical-align: middle;\n",
       "    }\n",
       "\n",
       "    .dataframe tbody tr th {\n",
       "        vertical-align: top;\n",
       "    }\n",
       "\n",
       "    .dataframe thead th {\n",
       "        text-align: right;\n",
       "    }\n",
       "</style>\n",
       "<table border=\"1\" class=\"dataframe\">\n",
       "  <thead>\n",
       "    <tr style=\"text-align: right;\">\n",
       "      <th></th>\n",
       "      <th>week</th>\n",
       "      <th>subreddit</th>\n",
       "      <th>0</th>\n",
       "      <th>1</th>\n",
       "      <th>partisan</th>\n",
       "    </tr>\n",
       "  </thead>\n",
       "  <tbody>\n",
       "    <tr>\n",
       "      <th>70696</th>\n",
       "      <td>2019-01-01</td>\n",
       "      <td>Capitalism</td>\n",
       "      <td>-0.045857</td>\n",
       "      <td>-0.200889</td>\n",
       "      <td>right</td>\n",
       "    </tr>\n",
       "    <tr>\n",
       "      <th>69095</th>\n",
       "      <td>2019-01-01</td>\n",
       "      <td>JoeBiden</td>\n",
       "      <td>-0.063375</td>\n",
       "      <td>-0.216374</td>\n",
       "      <td>left</td>\n",
       "    </tr>\n",
       "    <tr>\n",
       "      <th>73090</th>\n",
       "      <td>2019-01-01</td>\n",
       "      <td>SocialDemocracy</td>\n",
       "      <td>-0.152127</td>\n",
       "      <td>-0.207993</td>\n",
       "      <td>left</td>\n",
       "    </tr>\n",
       "    <tr>\n",
       "      <th>73406</th>\n",
       "      <td>2019-01-01</td>\n",
       "      <td>BaemyKlobaechar</td>\n",
       "      <td>-0.236765</td>\n",
       "      <td>-0.236777</td>\n",
       "      <td>left</td>\n",
       "    </tr>\n",
       "    <tr>\n",
       "      <th>73410</th>\n",
       "      <td>2019-01-01</td>\n",
       "      <td>demsocialist</td>\n",
       "      <td>-0.295667</td>\n",
       "      <td>-0.159690</td>\n",
       "      <td>left</td>\n",
       "    </tr>\n",
       "    <tr>\n",
       "      <th>...</th>\n",
       "      <td>...</td>\n",
       "      <td>...</td>\n",
       "      <td>...</td>\n",
       "      <td>...</td>\n",
       "      <td>...</td>\n",
       "    </tr>\n",
       "    <tr>\n",
       "      <th>52727</th>\n",
       "      <td>2019-12-01</td>\n",
       "      <td>The_Donald</td>\n",
       "      <td>0.042689</td>\n",
       "      <td>0.013734</td>\n",
       "      <td>right</td>\n",
       "    </tr>\n",
       "    <tr>\n",
       "      <th>52707</th>\n",
       "      <td>2019-12-01</td>\n",
       "      <td>politics</td>\n",
       "      <td>-0.201025</td>\n",
       "      <td>-0.100149</td>\n",
       "      <td>left</td>\n",
       "    </tr>\n",
       "    <tr>\n",
       "      <th>52768</th>\n",
       "      <td>2019-12-01</td>\n",
       "      <td>ChapoTrapHouse</td>\n",
       "      <td>0.021843</td>\n",
       "      <td>-0.130059</td>\n",
       "      <td>left</td>\n",
       "    </tr>\n",
       "    <tr>\n",
       "      <th>53539</th>\n",
       "      <td>2019-12-01</td>\n",
       "      <td>progun</td>\n",
       "      <td>0.037301</td>\n",
       "      <td>-0.099798</td>\n",
       "      <td>right</td>\n",
       "    </tr>\n",
       "    <tr>\n",
       "      <th>56067</th>\n",
       "      <td>2019-12-01</td>\n",
       "      <td>Republican</td>\n",
       "      <td>-0.067809</td>\n",
       "      <td>-0.015535</td>\n",
       "      <td>right</td>\n",
       "    </tr>\n",
       "  </tbody>\n",
       "</table>\n",
       "<p>240 rows × 5 columns</p>\n",
       "</div>"
      ],
      "text/plain": [
       "            week        subreddit         0         1 partisan\n",
       "70696 2019-01-01       Capitalism -0.045857 -0.200889    right\n",
       "69095 2019-01-01         JoeBiden -0.063375 -0.216374     left\n",
       "73090 2019-01-01  SocialDemocracy -0.152127 -0.207993     left\n",
       "73406 2019-01-01  BaemyKlobaechar -0.236765 -0.236777     left\n",
       "73410 2019-01-01     demsocialist -0.295667 -0.159690     left\n",
       "...          ...              ...       ...       ...      ...\n",
       "52727 2019-12-01       The_Donald  0.042689  0.013734    right\n",
       "52707 2019-12-01         politics -0.201025 -0.100149     left\n",
       "52768 2019-12-01   ChapoTrapHouse  0.021843 -0.130059     left\n",
       "53539 2019-12-01           progun  0.037301 -0.099798    right\n",
       "56067 2019-12-01       Republican -0.067809 -0.015535    right\n",
       "\n",
       "[240 rows x 5 columns]"
      ]
     },
     "execution_count": 40,
     "metadata": {},
     "output_type": "execute_result"
    }
   ],
   "source": [
    "# PCA Dim Reduction -> 2 dimensions\n",
    "pca =  PCA(n_components = 2)\n",
    "two_dim =  pd.DataFrame(pca.fit_transform(vectors))\n",
    "two_dim[[\"subreddit\",\"week\"]] = sub_df\n",
    "idx = pd.MultiIndex.from_product([two_dim['week'].unique(), two_dim['subreddit'].unique()],\n",
    "                                 names=['week', 'subreddit'])\n",
    "\n",
    "# In the case that there isn't a vector for a specific week/subreddit we bacfill the vector from the previous\n",
    "two_dim = two_dim.set_index(['week', 'subreddit']).reindex(idx).reset_index().sort_values('week')\n",
    "two_dim = two_dim[two_dim[\"subreddit\"].isin(left_subreddits) | two_dim[\"subreddit\"].isin(right_subreddits)]\n",
    "two_dim[\"partisan\"] = np.where(two_dim[\"subreddit\"].isin(left_subreddits), 'left', 'right')\n",
    "two_dim"
   ]
  },
  {
   "cell_type": "code",
   "execution_count": 41,
   "metadata": {
    "scrolled": false
   },
   "outputs": [
    {
     "data": {
      "application/vnd.plotly.v1+json": {
       "config": {
        "plotlyServerURL": "https://plot.ly"
       },
       "data": [
        {
         "hovertemplate": "<b>%{hovertext}</b><br><br>partisan=right<br>animation_frame=2019-01-01<br>0=%{x}<br>1=%{y}<br>subreddit=%{text}<extra></extra>",
         "hovertext": [
          "Capitalism",
          "ShitPoliticsSays",
          "Conservative",
          "The_Donald",
          "progun",
          "Republican"
         ],
         "ids": [
          "Capitalism",
          "ShitPoliticsSays",
          "Conservative",
          "The_Donald",
          "progun",
          "Republican"
         ],
         "legendgroup": "right",
         "marker": {
          "color": "red",
          "opacity": 0.7,
          "symbol": "circle"
         },
         "mode": "markers+text",
         "name": "right",
         "orientation": "v",
         "showlegend": true,
         "text": [
          "Capitalism",
          "ShitPoliticsSays",
          "Conservative",
          "The_Donald",
          "progun",
          "Republican"
         ],
         "type": "scatter",
         "x": [
          -0.04585725233534766,
          0.03540887750605267,
          -0.11033878074749787,
          0.010730325162046674,
          -0.0371126384846732,
          -0.15455049432472873
         ],
         "xaxis": "x",
         "y": [
          -0.2008886183642226,
          -0.13592078244735648,
          -0.10767129958970058,
          0.0023110108119151515,
          -0.044549995635221856,
          -0.1087425610250676
         ],
         "yaxis": "y"
        },
        {
         "hovertemplate": "<b>%{hovertext}</b><br><br>partisan=left<br>animation_frame=2019-01-01<br>0=%{x}<br>1=%{y}<br>subreddit=%{text}<extra></extra>",
         "hovertext": [
          "JoeBiden",
          "SocialDemocracy",
          "BaemyKlobaechar",
          "demsocialist",
          "ConservativeDemocrat",
          "progressive",
          "ElizabethWarren",
          "moderatepolitics",
          "SandersForPresident",
          "centerleftpolitics",
          "Pete_Buttigieg",
          "YangForPresidentHQ",
          "politics",
          "ChapoTrapHouse"
         ],
         "ids": [
          "JoeBiden",
          "SocialDemocracy",
          "BaemyKlobaechar",
          "demsocialist",
          "ConservativeDemocrat",
          "progressive",
          "ElizabethWarren",
          "moderatepolitics",
          "SandersForPresident",
          "centerleftpolitics",
          "Pete_Buttigieg",
          "YangForPresidentHQ",
          "politics",
          "ChapoTrapHouse"
         ],
         "legendgroup": "left",
         "marker": {
          "color": "blue",
          "opacity": 0.7,
          "symbol": "circle"
         },
         "mode": "markers+text",
         "name": "left",
         "orientation": "v",
         "showlegend": true,
         "text": [
          "JoeBiden",
          "SocialDemocracy",
          "BaemyKlobaechar",
          "demsocialist",
          "ConservativeDemocrat",
          "progressive",
          "ElizabethWarren",
          "moderatepolitics",
          "SandersForPresident",
          "centerleftpolitics",
          "Pete_Buttigieg",
          "YangForPresidentHQ",
          "politics",
          "ChapoTrapHouse"
         ],
         "type": "scatter",
         "x": [
          -0.06337489383710997,
          -0.15212748894709116,
          -0.23676540301387794,
          -0.295667118589856,
          -0.2121181694157491,
          -0.17666967049507606,
          -0.311068788653573,
          -0.15319040018062585,
          -0.14923355089163937,
          -0.057755665666370255,
          -0.24751500561738116,
          -0.22403419640853364,
          -0.23444986120490371,
          -0.004020433734454635
         ],
         "xaxis": "x",
         "y": [
          -0.21637352140207725,
          -0.20799278326796675,
          -0.2367765578888599,
          -0.15969017965001422,
          -0.3150409916631492,
          -0.06887378672456379,
          -0.09440006360993329,
          -0.11469558077264091,
          -0.08163002125517035,
          -0.11768716894428984,
          -0.23329080045153844,
          -0.06329380258174527,
          -0.08941002632903215,
          -0.1033036888625591
         ],
         "yaxis": "y"
        }
       ],
       "frames": [
        {
         "data": [
          {
           "hovertemplate": "<b>%{hovertext}</b><br><br>partisan=right<br>animation_frame=2019-01-01<br>0=%{x}<br>1=%{y}<br>subreddit=%{text}<extra></extra>",
           "hovertext": [
            "Capitalism",
            "ShitPoliticsSays",
            "Conservative",
            "The_Donald",
            "progun",
            "Republican"
           ],
           "ids": [
            "Capitalism",
            "ShitPoliticsSays",
            "Conservative",
            "The_Donald",
            "progun",
            "Republican"
           ],
           "legendgroup": "right",
           "marker": {
            "color": "red",
            "opacity": 0.7,
            "symbol": "circle"
           },
           "mode": "markers+text",
           "name": "right",
           "orientation": "v",
           "showlegend": true,
           "text": [
            "Capitalism",
            "ShitPoliticsSays",
            "Conservative",
            "The_Donald",
            "progun",
            "Republican"
           ],
           "type": "scatter",
           "x": [
            -0.04585725233534766,
            0.03540887750605267,
            -0.11033878074749787,
            0.010730325162046674,
            -0.0371126384846732,
            -0.15455049432472873
           ],
           "xaxis": "x",
           "y": [
            -0.2008886183642226,
            -0.13592078244735648,
            -0.10767129958970058,
            0.0023110108119151515,
            -0.044549995635221856,
            -0.1087425610250676
           ],
           "yaxis": "y"
          },
          {
           "hovertemplate": "<b>%{hovertext}</b><br><br>partisan=left<br>animation_frame=2019-01-01<br>0=%{x}<br>1=%{y}<br>subreddit=%{text}<extra></extra>",
           "hovertext": [
            "JoeBiden",
            "SocialDemocracy",
            "BaemyKlobaechar",
            "demsocialist",
            "ConservativeDemocrat",
            "progressive",
            "ElizabethWarren",
            "moderatepolitics",
            "SandersForPresident",
            "centerleftpolitics",
            "Pete_Buttigieg",
            "YangForPresidentHQ",
            "politics",
            "ChapoTrapHouse"
           ],
           "ids": [
            "JoeBiden",
            "SocialDemocracy",
            "BaemyKlobaechar",
            "demsocialist",
            "ConservativeDemocrat",
            "progressive",
            "ElizabethWarren",
            "moderatepolitics",
            "SandersForPresident",
            "centerleftpolitics",
            "Pete_Buttigieg",
            "YangForPresidentHQ",
            "politics",
            "ChapoTrapHouse"
           ],
           "legendgroup": "left",
           "marker": {
            "color": "blue",
            "opacity": 0.7,
            "symbol": "circle"
           },
           "mode": "markers+text",
           "name": "left",
           "orientation": "v",
           "showlegend": true,
           "text": [
            "JoeBiden",
            "SocialDemocracy",
            "BaemyKlobaechar",
            "demsocialist",
            "ConservativeDemocrat",
            "progressive",
            "ElizabethWarren",
            "moderatepolitics",
            "SandersForPresident",
            "centerleftpolitics",
            "Pete_Buttigieg",
            "YangForPresidentHQ",
            "politics",
            "ChapoTrapHouse"
           ],
           "type": "scatter",
           "x": [
            -0.06337489383710997,
            -0.15212748894709116,
            -0.23676540301387794,
            -0.295667118589856,
            -0.2121181694157491,
            -0.17666967049507606,
            -0.311068788653573,
            -0.15319040018062585,
            -0.14923355089163937,
            -0.057755665666370255,
            -0.24751500561738116,
            -0.22403419640853364,
            -0.23444986120490371,
            -0.004020433734454635
           ],
           "xaxis": "x",
           "y": [
            -0.21637352140207725,
            -0.20799278326796675,
            -0.2367765578888599,
            -0.15969017965001422,
            -0.3150409916631492,
            -0.06887378672456379,
            -0.09440006360993329,
            -0.11469558077264091,
            -0.08163002125517035,
            -0.11768716894428984,
            -0.23329080045153844,
            -0.06329380258174527,
            -0.08941002632903215,
            -0.1033036888625591
           ],
           "yaxis": "y"
          }
         ],
         "name": "2019-01-01"
        },
        {
         "data": [
          {
           "hovertemplate": "<b>%{hovertext}</b><br><br>partisan=right<br>animation_frame=2019-02-01<br>0=%{x}<br>1=%{y}<br>subreddit=%{text}<extra></extra>",
           "hovertext": [
            "Capitalism",
            "ShitPoliticsSays",
            "Conservative",
            "The_Donald",
            "progun",
            "Republican"
           ],
           "ids": [
            "Capitalism",
            "ShitPoliticsSays",
            "Conservative",
            "The_Donald",
            "progun",
            "Republican"
           ],
           "legendgroup": "right",
           "marker": {
            "color": "red",
            "opacity": 0.7,
            "symbol": "circle"
           },
           "mode": "markers+text",
           "name": "right",
           "orientation": "v",
           "showlegend": true,
           "text": [
            "Capitalism",
            "ShitPoliticsSays",
            "Conservative",
            "The_Donald",
            "progun",
            "Republican"
           ],
           "type": "scatter",
           "x": [
            -0.061997461880829094,
            0.025539385435845482,
            -0.09584895105118672,
            0.012105943944463099,
            -0.03889196644657948,
            -0.11270536066652244
           ],
           "xaxis": "x",
           "y": [
            -0.1398625811708362,
            -0.12667994785473075,
            -0.11599070295417639,
            -0.012716687648403485,
            -0.06347061094041749,
            -0.08039020164725946
           ],
           "yaxis": "y"
          },
          {
           "hovertemplate": "<b>%{hovertext}</b><br><br>partisan=left<br>animation_frame=2019-02-01<br>0=%{x}<br>1=%{y}<br>subreddit=%{text}<extra></extra>",
           "hovertext": [
            "JoeBiden",
            "SocialDemocracy",
            "BaemyKlobaechar",
            "demsocialist",
            "ConservativeDemocrat",
            "progressive",
            "ElizabethWarren",
            "moderatepolitics",
            "SandersForPresident",
            "centerleftpolitics",
            "Pete_Buttigieg",
            "YangForPresidentHQ",
            "politics",
            "ChapoTrapHouse"
           ],
           "ids": [
            "JoeBiden",
            "SocialDemocracy",
            "BaemyKlobaechar",
            "demsocialist",
            "ConservativeDemocrat",
            "progressive",
            "ElizabethWarren",
            "moderatepolitics",
            "SandersForPresident",
            "centerleftpolitics",
            "Pete_Buttigieg",
            "YangForPresidentHQ",
            "politics",
            "ChapoTrapHouse"
           ],
           "legendgroup": "left",
           "marker": {
            "color": "blue",
            "opacity": 0.7,
            "symbol": "circle"
           },
           "mode": "markers+text",
           "name": "left",
           "orientation": "v",
           "showlegend": true,
           "text": [
            "JoeBiden",
            "SocialDemocracy",
            "BaemyKlobaechar",
            "demsocialist",
            "ConservativeDemocrat",
            "progressive",
            "ElizabethWarren",
            "moderatepolitics",
            "SandersForPresident",
            "centerleftpolitics",
            "Pete_Buttigieg",
            "YangForPresidentHQ",
            "politics",
            "ChapoTrapHouse"
           ],
           "type": "scatter",
           "x": [
            -0.11898304047548208,
            -0.09702184458344064,
            -0.2298447861092821,
            -0.238965232463333,
            -0.306378785621226,
            -0.16601413306325719,
            -0.21699732112745884,
            -0.18719083283726828,
            -0.13934456702066844,
            -0.05804399876265809,
            -0.42856701832127025,
            -0.15762614995418534,
            -0.2307432163014232,
            0.0170362412841977
           ],
           "xaxis": "x",
           "y": [
            -0.21116355711595955,
            -0.17056260868088938,
            -0.153834381164743,
            -0.179444398370731,
            -0.2452856734360175,
            -0.060927540859073454,
            -0.13385794013968216,
            -0.16403321486938066,
            -0.09722922122463257,
            -0.07863480545493032,
            -0.14643303829907614,
            -0.07431108671974697,
            -0.10333457482190807,
            -0.1018347618075487
           ],
           "yaxis": "y"
          }
         ],
         "name": "2019-02-01"
        },
        {
         "data": [
          {
           "hovertemplate": "<b>%{hovertext}</b><br><br>partisan=right<br>animation_frame=2019-03-01<br>0=%{x}<br>1=%{y}<br>subreddit=%{text}<extra></extra>",
           "hovertext": [
            "Capitalism",
            "ShitPoliticsSays",
            "Conservative",
            "The_Donald",
            "progun",
            "Republican"
           ],
           "ids": [
            "Capitalism",
            "ShitPoliticsSays",
            "Conservative",
            "The_Donald",
            "progun",
            "Republican"
           ],
           "legendgroup": "right",
           "marker": {
            "color": "red",
            "opacity": 0.7,
            "symbol": "circle"
           },
           "mode": "markers+text",
           "name": "right",
           "orientation": "v",
           "showlegend": true,
           "text": [
            "Capitalism",
            "ShitPoliticsSays",
            "Conservative",
            "The_Donald",
            "progun",
            "Republican"
           ],
           "type": "scatter",
           "x": [
            -0.07844610009957546,
            0.0381771246897314,
            -0.1100644392181716,
            0.025020325537394587,
            -0.010531846830195785,
            -0.10410361527144979
           ],
           "xaxis": "x",
           "y": [
            -0.18600185447517686,
            -0.13135439032718702,
            -0.11365809824278454,
            -0.021079844072566353,
            -0.11287940711318258,
            -0.08332240441954386
           ],
           "yaxis": "y"
          },
          {
           "hovertemplate": "<b>%{hovertext}</b><br><br>partisan=left<br>animation_frame=2019-03-01<br>0=%{x}<br>1=%{y}<br>subreddit=%{text}<extra></extra>",
           "hovertext": [
            "JoeBiden",
            "SocialDemocracy",
            "BaemyKlobaechar",
            "demsocialist",
            "ConservativeDemocrat",
            "progressive",
            "ElizabethWarren",
            "moderatepolitics",
            "SandersForPresident",
            "centerleftpolitics",
            "Pete_Buttigieg",
            "YangForPresidentHQ",
            "politics",
            "ChapoTrapHouse"
           ],
           "ids": [
            "JoeBiden",
            "SocialDemocracy",
            "BaemyKlobaechar",
            "demsocialist",
            "ConservativeDemocrat",
            "progressive",
            "ElizabethWarren",
            "moderatepolitics",
            "SandersForPresident",
            "centerleftpolitics",
            "Pete_Buttigieg",
            "YangForPresidentHQ",
            "politics",
            "ChapoTrapHouse"
           ],
           "legendgroup": "left",
           "marker": {
            "color": "blue",
            "opacity": 0.7,
            "symbol": "circle"
           },
           "mode": "markers+text",
           "name": "left",
           "orientation": "v",
           "showlegend": true,
           "text": [
            "JoeBiden",
            "SocialDemocracy",
            "BaemyKlobaechar",
            "demsocialist",
            "ConservativeDemocrat",
            "progressive",
            "ElizabethWarren",
            "moderatepolitics",
            "SandersForPresident",
            "centerleftpolitics",
            "Pete_Buttigieg",
            "YangForPresidentHQ",
            "politics",
            "ChapoTrapHouse"
           ],
           "type": "scatter",
           "x": [
            -0.38194826052422687,
            -0.13304994962992134,
            -0.4745231331423307,
            -0.25961606597150005,
            -0.34291780880217015,
            -0.1860468819517335,
            -0.2867735849349205,
            -0.15908149578398761,
            -0.11496045045994036,
            -0.06399298802578408,
            -0.1773025198904095,
            -0.054491017348317336,
            -0.2152521486634108,
            0.010862996504125332
           ],
           "xaxis": "x",
           "y": [
            -0.07709984420970749,
            -0.24263720055914348,
            -0.13958453735984538,
            -0.1988675307556995,
            -0.1815771229968338,
            -0.029825263202150606,
            -0.12068905934283822,
            -0.1459660702309585,
            -0.12135651612748813,
            -0.07648316675698091,
            -0.002448970644495224,
            -0.09822229458198256,
            -0.11492078755570144,
            -0.14276300262581473
           ],
           "yaxis": "y"
          }
         ],
         "name": "2019-03-01"
        },
        {
         "data": [
          {
           "hovertemplate": "<b>%{hovertext}</b><br><br>partisan=right<br>animation_frame=2019-04-01<br>0=%{x}<br>1=%{y}<br>subreddit=%{text}<extra></extra>",
           "hovertext": [
            "Republican",
            "progun",
            "The_Donald",
            "Conservative",
            "ShitPoliticsSays",
            "Capitalism"
           ],
           "ids": [
            "Republican",
            "progun",
            "The_Donald",
            "Conservative",
            "ShitPoliticsSays",
            "Capitalism"
           ],
           "legendgroup": "right",
           "marker": {
            "color": "red",
            "opacity": 0.7,
            "symbol": "circle"
           },
           "mode": "markers+text",
           "name": "right",
           "orientation": "v",
           "showlegend": true,
           "text": [
            "Republican",
            "progun",
            "The_Donald",
            "Conservative",
            "ShitPoliticsSays",
            "Capitalism"
           ],
           "type": "scatter",
           "x": [
            -0.11945202123815929,
            -0.0059430834675126285,
            0.01769040016960324,
            -0.0912506837705324,
            0.03192874991204098,
            -0.05530477115372134
           ],
           "xaxis": "x",
           "y": [
            -0.06970138081386514,
            -0.06744108919265239,
            -0.00890379941533993,
            -0.15613637064281688,
            -0.16420630830416602,
            -0.1418986226503178
           ],
           "yaxis": "y"
          },
          {
           "hovertemplate": "<b>%{hovertext}</b><br><br>partisan=left<br>animation_frame=2019-04-01<br>0=%{x}<br>1=%{y}<br>subreddit=%{text}<extra></extra>",
           "hovertext": [
            "ChapoTrapHouse",
            "politics",
            "YangForPresidentHQ",
            "Pete_Buttigieg",
            "centerleftpolitics",
            "SandersForPresident",
            "moderatepolitics",
            "ElizabethWarren",
            "progressive",
            "ConservativeDemocrat",
            "demsocialist",
            "BaemyKlobaechar",
            "SocialDemocracy",
            "JoeBiden"
           ],
           "ids": [
            "ChapoTrapHouse",
            "politics",
            "YangForPresidentHQ",
            "Pete_Buttigieg",
            "centerleftpolitics",
            "SandersForPresident",
            "moderatepolitics",
            "ElizabethWarren",
            "progressive",
            "ConservativeDemocrat",
            "demsocialist",
            "BaemyKlobaechar",
            "SocialDemocracy",
            "JoeBiden"
           ],
           "legendgroup": "left",
           "marker": {
            "color": "blue",
            "opacity": 0.7,
            "symbol": "circle"
           },
           "mode": "markers+text",
           "name": "left",
           "orientation": "v",
           "showlegend": true,
           "text": [
            "ChapoTrapHouse",
            "politics",
            "YangForPresidentHQ",
            "Pete_Buttigieg",
            "centerleftpolitics",
            "SandersForPresident",
            "moderatepolitics",
            "ElizabethWarren",
            "progressive",
            "ConservativeDemocrat",
            "demsocialist",
            "BaemyKlobaechar",
            "SocialDemocracy",
            "JoeBiden"
           ],
           "type": "scatter",
           "x": [
            0.01773975999557078,
            -0.20393860962004148,
            -0.07233928148321514,
            -0.20556194009546422,
            -0.06312111959772995,
            -0.11325129152432716,
            -0.17107283231838644,
            -0.21757354200047332,
            -0.21616539853553995,
            -0.26305000659467487,
            -0.28494295213739523,
            -0.28370343061154474,
            -0.13125915538881452,
            -0.26168770147886306
           ],
           "xaxis": "x",
           "y": [
            -0.13434918731958695,
            -0.1126577796838235,
            -0.10029339227864127,
            -0.0792887060290091,
            -0.10544979855159561,
            -0.10371313618763686,
            -0.1464400377223519,
            -0.07125337044201421,
            -0.06302150507985495,
            -0.23120824379680294,
            -0.13943083631224668,
            -0.21996485755541662,
            -0.2483785355655763,
            -0.0526767031001075
           ],
           "yaxis": "y"
          }
         ],
         "name": "2019-04-01"
        },
        {
         "data": [
          {
           "hovertemplate": "<b>%{hovertext}</b><br><br>partisan=right<br>animation_frame=2019-05-01<br>0=%{x}<br>1=%{y}<br>subreddit=%{text}<extra></extra>",
           "hovertext": [
            "Capitalism",
            "ShitPoliticsSays",
            "Conservative",
            "The_Donald",
            "progun",
            "Republican"
           ],
           "ids": [
            "Capitalism",
            "ShitPoliticsSays",
            "Conservative",
            "The_Donald",
            "progun",
            "Republican"
           ],
           "legendgroup": "right",
           "marker": {
            "color": "red",
            "opacity": 0.7,
            "symbol": "circle"
           },
           "mode": "markers+text",
           "name": "right",
           "orientation": "v",
           "showlegend": true,
           "text": [
            "Capitalism",
            "ShitPoliticsSays",
            "Conservative",
            "The_Donald",
            "progun",
            "Republican"
           ],
           "type": "scatter",
           "x": [
            -0.04657126251792544,
            0.02293647748244565,
            -0.10085678343765826,
            0.0308333652591896,
            -0.017806374582943187,
            -0.1258661722998303
           ],
           "xaxis": "x",
           "y": [
            -0.16137328330003198,
            -0.1719587450758224,
            -0.16060775485508083,
            -0.03021388757333093,
            -0.09386147163245664,
            -0.03716889060323342
           ],
           "yaxis": "y"
          },
          {
           "hovertemplate": "<b>%{hovertext}</b><br><br>partisan=left<br>animation_frame=2019-05-01<br>0=%{x}<br>1=%{y}<br>subreddit=%{text}<extra></extra>",
           "hovertext": [
            "JoeBiden",
            "SocialDemocracy",
            "BaemyKlobaechar",
            "demsocialist",
            "ConservativeDemocrat",
            "progressive",
            "ElizabethWarren",
            "moderatepolitics",
            "SandersForPresident",
            "centerleftpolitics",
            "Pete_Buttigieg",
            "YangForPresidentHQ",
            "politics",
            "ChapoTrapHouse"
           ],
           "ids": [
            "JoeBiden",
            "SocialDemocracy",
            "BaemyKlobaechar",
            "demsocialist",
            "ConservativeDemocrat",
            "progressive",
            "ElizabethWarren",
            "moderatepolitics",
            "SandersForPresident",
            "centerleftpolitics",
            "Pete_Buttigieg",
            "YangForPresidentHQ",
            "politics",
            "ChapoTrapHouse"
           ],
           "legendgroup": "left",
           "marker": {
            "color": "blue",
            "opacity": 0.7,
            "symbol": "circle"
           },
           "mode": "markers+text",
           "name": "left",
           "orientation": "v",
           "showlegend": true,
           "text": [
            "JoeBiden",
            "SocialDemocracy",
            "BaemyKlobaechar",
            "demsocialist",
            "ConservativeDemocrat",
            "progressive",
            "ElizabethWarren",
            "moderatepolitics",
            "SandersForPresident",
            "centerleftpolitics",
            "Pete_Buttigieg",
            "YangForPresidentHQ",
            "politics",
            "ChapoTrapHouse"
           ],
           "type": "scatter",
           "x": [
            -0.19919669094374953,
            -0.13156310140213973,
            -0.23577128993687477,
            -0.2744647840571482,
            -0.4118891286864541,
            -0.18728234950899958,
            -0.21085629335620615,
            -0.16058311258523125,
            -0.1436420787412524,
            -0.036656922222842794,
            -0.18748315283175548,
            -0.05598141950358594,
            -0.2065044923441954,
            0.02456048198962305
           ],
           "xaxis": "x",
           "y": [
            -0.0364352734313567,
            -0.2356587065596596,
            -0.10361103738740737,
            -0.23301241824392593,
            -0.2422678137038029,
            -0.09289337520867738,
            -0.08908170925824369,
            -0.14751811502638515,
            -0.08584125713042734,
            -0.10919674727519595,
            -0.05515862736385279,
            -0.10423040563969332,
            -0.09711702885727161,
            -0.14268312079751244
           ],
           "yaxis": "y"
          }
         ],
         "name": "2019-05-01"
        },
        {
         "data": [
          {
           "hovertemplate": "<b>%{hovertext}</b><br><br>partisan=right<br>animation_frame=2019-06-01<br>0=%{x}<br>1=%{y}<br>subreddit=%{text}<extra></extra>",
           "hovertext": [
            "Republican",
            "progun",
            "The_Donald",
            "Conservative",
            "ShitPoliticsSays",
            "Capitalism"
           ],
           "ids": [
            "Republican",
            "progun",
            "The_Donald",
            "Conservative",
            "ShitPoliticsSays",
            "Capitalism"
           ],
           "legendgroup": "right",
           "marker": {
            "color": "red",
            "opacity": 0.7,
            "symbol": "circle"
           },
           "mode": "markers+text",
           "name": "right",
           "orientation": "v",
           "showlegend": true,
           "text": [
            "Republican",
            "progun",
            "The_Donald",
            "Conservative",
            "ShitPoliticsSays",
            "Capitalism"
           ],
           "type": "scatter",
           "x": [
            -0.1280181249900003,
            -0.015372095620384147,
            0.026434596088826114,
            -0.06992493064771126,
            0.024307887689097418,
            -0.09188671245211555
           ],
           "xaxis": "x",
           "y": [
            -0.04513987838305945,
            -0.07644545045329988,
            -0.021475876937890076,
            -0.13604732595858837,
            -0.15374396403830698,
            -0.17195181719652644
           ],
           "yaxis": "y"
          },
          {
           "hovertemplate": "<b>%{hovertext}</b><br><br>partisan=left<br>animation_frame=2019-06-01<br>0=%{x}<br>1=%{y}<br>subreddit=%{text}<extra></extra>",
           "hovertext": [
            "ChapoTrapHouse",
            "politics",
            "YangForPresidentHQ",
            "Pete_Buttigieg",
            "centerleftpolitics",
            "SandersForPresident",
            "moderatepolitics",
            "ElizabethWarren",
            "progressive",
            "ConservativeDemocrat",
            "demsocialist",
            "BaemyKlobaechar",
            "SocialDemocracy",
            "JoeBiden"
           ],
           "ids": [
            "ChapoTrapHouse",
            "politics",
            "YangForPresidentHQ",
            "Pete_Buttigieg",
            "centerleftpolitics",
            "SandersForPresident",
            "moderatepolitics",
            "ElizabethWarren",
            "progressive",
            "ConservativeDemocrat",
            "demsocialist",
            "BaemyKlobaechar",
            "SocialDemocracy",
            "JoeBiden"
           ],
           "legendgroup": "left",
           "marker": {
            "color": "blue",
            "opacity": 0.7,
            "symbol": "circle"
           },
           "mode": "markers+text",
           "name": "left",
           "orientation": "v",
           "showlegend": true,
           "text": [
            "ChapoTrapHouse",
            "politics",
            "YangForPresidentHQ",
            "Pete_Buttigieg",
            "centerleftpolitics",
            "SandersForPresident",
            "moderatepolitics",
            "ElizabethWarren",
            "progressive",
            "ConservativeDemocrat",
            "demsocialist",
            "BaemyKlobaechar",
            "SocialDemocracy",
            "JoeBiden"
           ],
           "type": "scatter",
           "x": [
            0.03774976724864441,
            -0.191523882324747,
            -0.06913894377637621,
            -0.14891741361388044,
            -0.055962905442988674,
            -0.1364950581636551,
            -0.1512337691361713,
            -0.19531217679878876,
            -0.20024326635411702,
            -0.3069751068161798,
            -0.15319242867765706,
            -0.19843988228432982,
            -0.03587681622839538,
            -0.17691720891121612
           ],
           "xaxis": "x",
           "y": [
            -0.14425642075774897,
            -0.11347559856887275,
            -0.10517687191021523,
            -0.049176500795539944,
            -0.11361546054435806,
            -0.15697068352544644,
            -0.18223948285039077,
            -0.07899406259693886,
            -0.10854547558722663,
            -0.1453115204912007,
            -0.30740465314445264,
            -0.1272173968065367,
            -0.243283250517096,
            -0.08120618738273924
           ],
           "yaxis": "y"
          }
         ],
         "name": "2019-06-01"
        },
        {
         "data": [
          {
           "hovertemplate": "<b>%{hovertext}</b><br><br>partisan=right<br>animation_frame=2019-07-01<br>0=%{x}<br>1=%{y}<br>subreddit=%{text}<extra></extra>",
           "hovertext": [
            "Republican",
            "progun",
            "The_Donald",
            "Conservative",
            "ShitPoliticsSays",
            "Capitalism"
           ],
           "ids": [
            "Republican",
            "progun",
            "The_Donald",
            "Conservative",
            "ShitPoliticsSays",
            "Capitalism"
           ],
           "legendgroup": "right",
           "marker": {
            "color": "red",
            "opacity": 0.7,
            "symbol": "circle"
           },
           "mode": "markers+text",
           "name": "right",
           "orientation": "v",
           "showlegend": true,
           "text": [
            "Republican",
            "progun",
            "The_Donald",
            "Conservative",
            "ShitPoliticsSays",
            "Capitalism"
           ],
           "type": "scatter",
           "x": [
            -0.1148956495143647,
            0.0063862957338942285,
            0.053290012632629724,
            -0.0692646156452818,
            0.018461919148130085,
            -0.04019869622689879
           ],
           "xaxis": "x",
           "y": [
            -0.04330914397560229,
            -0.09085989123389575,
            2.4850341393394783e-05,
            -0.13765346304714926,
            -0.1741150692810759,
            -0.13091974496363387
           ],
           "yaxis": "y"
          },
          {
           "hovertemplate": "<b>%{hovertext}</b><br><br>partisan=left<br>animation_frame=2019-07-01<br>0=%{x}<br>1=%{y}<br>subreddit=%{text}<extra></extra>",
           "hovertext": [
            "ChapoTrapHouse",
            "politics",
            "YangForPresidentHQ",
            "Pete_Buttigieg",
            "centerleftpolitics",
            "SandersForPresident",
            "moderatepolitics",
            "ElizabethWarren",
            "progressive",
            "ConservativeDemocrat",
            "demsocialist",
            "BaemyKlobaechar",
            "SocialDemocracy",
            "JoeBiden"
           ],
           "ids": [
            "ChapoTrapHouse",
            "politics",
            "YangForPresidentHQ",
            "Pete_Buttigieg",
            "centerleftpolitics",
            "SandersForPresident",
            "moderatepolitics",
            "ElizabethWarren",
            "progressive",
            "ConservativeDemocrat",
            "demsocialist",
            "BaemyKlobaechar",
            "SocialDemocracy",
            "JoeBiden"
           ],
           "legendgroup": "left",
           "marker": {
            "color": "blue",
            "opacity": 0.7,
            "symbol": "circle"
           },
           "mode": "markers+text",
           "name": "left",
           "orientation": "v",
           "showlegend": true,
           "text": [
            "ChapoTrapHouse",
            "politics",
            "YangForPresidentHQ",
            "Pete_Buttigieg",
            "centerleftpolitics",
            "SandersForPresident",
            "moderatepolitics",
            "ElizabethWarren",
            "progressive",
            "ConservativeDemocrat",
            "demsocialist",
            "BaemyKlobaechar",
            "SocialDemocracy",
            "JoeBiden"
           ],
           "type": "scatter",
           "x": [
            0.006253781722262281,
            -0.1834829562593431,
            -0.09111388270436603,
            -0.17468485408153087,
            -0.03846882445475984,
            -0.1021075688545065,
            -0.1554430319060007,
            -0.17925902208693226,
            -0.20511220990335044,
            -0.07252262144885938,
            -0.3343873788241863,
            -0.4357361348405633,
            -0.0863909129052745,
            -0.11701153284636798
           ],
           "xaxis": "x",
           "y": [
            -0.1422382771853774,
            -0.11733894806319307,
            -0.1225064586753642,
            -0.042981470301568944,
            -0.10233549011005896,
            -0.12185210197148841,
            -0.1403565288943285,
            -0.0936521609459812,
            -0.08659945150413322,
            -0.24343463634691856,
            -0.1717480012762835,
            -0.07259285126664188,
            -0.33589237534934696,
            -0.03955892613138131
           ],
           "yaxis": "y"
          }
         ],
         "name": "2019-07-01"
        },
        {
         "data": [
          {
           "hovertemplate": "<b>%{hovertext}</b><br><br>partisan=right<br>animation_frame=2019-08-01<br>0=%{x}<br>1=%{y}<br>subreddit=%{text}<extra></extra>",
           "hovertext": [
            "Capitalism",
            "ShitPoliticsSays",
            "Conservative",
            "The_Donald",
            "progun",
            "Republican"
           ],
           "ids": [
            "Capitalism",
            "ShitPoliticsSays",
            "Conservative",
            "The_Donald",
            "progun",
            "Republican"
           ],
           "legendgroup": "right",
           "marker": {
            "color": "red",
            "opacity": 0.7,
            "symbol": "circle"
           },
           "mode": "markers+text",
           "name": "right",
           "orientation": "v",
           "showlegend": true,
           "text": [
            "Capitalism",
            "ShitPoliticsSays",
            "Conservative",
            "The_Donald",
            "progun",
            "Republican"
           ],
           "type": "scatter",
           "x": [
            -0.038233995081443636,
            0.04802840325042119,
            -0.07838777794161068,
            0.05375958619040836,
            0.0015440311134352711,
            -0.09222077775457124
           ],
           "xaxis": "x",
           "y": [
            -0.18723789146466194,
            -0.172127326804737,
            -0.14849690303693933,
            0.0025402137260333367,
            -0.12387167871704505,
            -0.06644807745020848
           ],
           "yaxis": "y"
          },
          {
           "hovertemplate": "<b>%{hovertext}</b><br><br>partisan=left<br>animation_frame=2019-08-01<br>0=%{x}<br>1=%{y}<br>subreddit=%{text}<extra></extra>",
           "hovertext": [
            "JoeBiden",
            "SocialDemocracy",
            "BaemyKlobaechar",
            "demsocialist",
            "ConservativeDemocrat",
            "progressive",
            "ElizabethWarren",
            "moderatepolitics",
            "SandersForPresident",
            "centerleftpolitics",
            "Pete_Buttigieg",
            "YangForPresidentHQ",
            "politics",
            "ChapoTrapHouse"
           ],
           "ids": [
            "JoeBiden",
            "SocialDemocracy",
            "BaemyKlobaechar",
            "demsocialist",
            "ConservativeDemocrat",
            "progressive",
            "ElizabethWarren",
            "moderatepolitics",
            "SandersForPresident",
            "centerleftpolitics",
            "Pete_Buttigieg",
            "YangForPresidentHQ",
            "politics",
            "ChapoTrapHouse"
           ],
           "legendgroup": "left",
           "marker": {
            "color": "blue",
            "opacity": 0.7,
            "symbol": "circle"
           },
           "mode": "markers+text",
           "name": "left",
           "orientation": "v",
           "showlegend": true,
           "text": [
            "JoeBiden",
            "SocialDemocracy",
            "BaemyKlobaechar",
            "demsocialist",
            "ConservativeDemocrat",
            "progressive",
            "ElizabethWarren",
            "moderatepolitics",
            "SandersForPresident",
            "centerleftpolitics",
            "Pete_Buttigieg",
            "YangForPresidentHQ",
            "politics",
            "ChapoTrapHouse"
           ],
           "type": "scatter",
           "x": [
            -0.15884943071217275,
            -0.04811727115884742,
            -0.4317025092180444,
            -0.25540435281361673,
            -0.20940503064446775,
            -0.14395435645716653,
            -0.17402773546580116,
            -0.15018876153180344,
            -0.15505262036395787,
            -0.031296780460010144,
            -0.16788880603569162,
            -0.07156664706743739,
            -0.18838528055598325,
            0.030043402903598502
           ],
           "xaxis": "x",
           "y": [
            -0.12467821839349603,
            -0.2709388884810701,
            -0.12029055585713562,
            -0.22300801123682043,
            -0.19847029493400287,
            -0.08351371971420143,
            -0.060604399352394596,
            -0.1478889044803943,
            -0.15993029598242722,
            -0.14554208086030979,
            -0.06813449581005043,
            -0.11301150887667406,
            -0.11481046083540222,
            -0.13543088574265305
           ],
           "yaxis": "y"
          }
         ],
         "name": "2019-08-01"
        },
        {
         "data": [
          {
           "hovertemplate": "<b>%{hovertext}</b><br><br>partisan=right<br>animation_frame=2019-09-01<br>0=%{x}<br>1=%{y}<br>subreddit=%{text}<extra></extra>",
           "hovertext": [
            "Republican",
            "progun",
            "The_Donald",
            "Conservative",
            "ShitPoliticsSays",
            "Capitalism"
           ],
           "ids": [
            "Republican",
            "progun",
            "The_Donald",
            "Conservative",
            "ShitPoliticsSays",
            "Capitalism"
           ],
           "legendgroup": "right",
           "marker": {
            "color": "red",
            "opacity": 0.7,
            "symbol": "circle"
           },
           "mode": "markers+text",
           "name": "right",
           "orientation": "v",
           "showlegend": true,
           "text": [
            "Republican",
            "progun",
            "The_Donald",
            "Conservative",
            "ShitPoliticsSays",
            "Capitalism"
           ],
           "type": "scatter",
           "x": [
            -0.09456494194291967,
            0.0036836193053150826,
            0.05616620368120821,
            -0.08071084098221855,
            0.05113126919893944,
            -0.0359048501078807
           ],
           "xaxis": "x",
           "y": [
            -0.059229846585219396,
            -0.12941933104467965,
            0.005833993507191692,
            -0.1457346108359629,
            -0.14619900222446924,
            -0.15838136036385483
           ],
           "yaxis": "y"
          },
          {
           "hovertemplate": "<b>%{hovertext}</b><br><br>partisan=left<br>animation_frame=2019-09-01<br>0=%{x}<br>1=%{y}<br>subreddit=%{text}<extra></extra>",
           "hovertext": [
            "ChapoTrapHouse",
            "YangForPresidentHQ",
            "Pete_Buttigieg",
            "centerleftpolitics",
            "SandersForPresident",
            "moderatepolitics",
            "ElizabethWarren",
            "progressive",
            "ConservativeDemocrat",
            "demsocialist",
            "BaemyKlobaechar",
            "politics",
            "SocialDemocracy",
            "JoeBiden"
           ],
           "ids": [
            "ChapoTrapHouse",
            "YangForPresidentHQ",
            "Pete_Buttigieg",
            "centerleftpolitics",
            "SandersForPresident",
            "moderatepolitics",
            "ElizabethWarren",
            "progressive",
            "ConservativeDemocrat",
            "demsocialist",
            "BaemyKlobaechar",
            "politics",
            "SocialDemocracy",
            "JoeBiden"
           ],
           "legendgroup": "left",
           "marker": {
            "color": "blue",
            "opacity": 0.7,
            "symbol": "circle"
           },
           "mode": "markers+text",
           "name": "left",
           "orientation": "v",
           "showlegend": true,
           "text": [
            "ChapoTrapHouse",
            "YangForPresidentHQ",
            "Pete_Buttigieg",
            "centerleftpolitics",
            "SandersForPresident",
            "moderatepolitics",
            "ElizabethWarren",
            "progressive",
            "ConservativeDemocrat",
            "demsocialist",
            "BaemyKlobaechar",
            "politics",
            "SocialDemocracy",
            "JoeBiden"
           ],
           "type": "scatter",
           "x": [
            0.03569507289456332,
            -0.054706096985168644,
            -0.16632295411822148,
            -0.05845067798650746,
            -0.12006177629820974,
            -0.14955976134021112,
            -0.2045741971600943,
            -0.14820653167705736,
            -0.2675590890404543,
            -0.25464629386986165,
            -0.35076400359222143,
            -0.16533525063789858,
            -0.07834491284818415,
            -0.12336090290175922
           ],
           "xaxis": "x",
           "y": [
            -0.13141824613861067,
            -0.10544364365250894,
            -0.03198711283767053,
            -0.10633405036959041,
            -0.13363554112010875,
            -0.13890092192305373,
            -0.06476477988412699,
            -0.08883261610069158,
            -0.14657653897280504,
            -0.28001892136997003,
            -0.19572665972000192,
            -0.08700609441887369,
            -0.224748099837835,
            -0.08844614604294943
           ],
           "yaxis": "y"
          }
         ],
         "name": "2019-09-01"
        },
        {
         "data": [
          {
           "hovertemplate": "<b>%{hovertext}</b><br><br>partisan=right<br>animation_frame=2019-10-01<br>0=%{x}<br>1=%{y}<br>subreddit=%{text}<extra></extra>",
           "hovertext": [
            "Capitalism",
            "ShitPoliticsSays",
            "Conservative",
            "The_Donald",
            "progun",
            "Republican"
           ],
           "ids": [
            "Capitalism",
            "ShitPoliticsSays",
            "Conservative",
            "The_Donald",
            "progun",
            "Republican"
           ],
           "legendgroup": "right",
           "marker": {
            "color": "red",
            "opacity": 0.7,
            "symbol": "circle"
           },
           "mode": "markers+text",
           "name": "right",
           "orientation": "v",
           "showlegend": true,
           "text": [
            "Capitalism",
            "ShitPoliticsSays",
            "Conservative",
            "The_Donald",
            "progun",
            "Republican"
           ],
           "type": "scatter",
           "x": [
            -0.03589250367739084,
            0.03899849678410829,
            -0.09374702448066248,
            0.0384241324730098,
            0.028350003584195073,
            -0.09404516508314265
           ],
           "xaxis": "x",
           "y": [
            -0.09508957784079382,
            -0.1581717959497367,
            -0.10847219248350944,
            0.016822234024524853,
            -0.08972545984999854,
            -0.01215818804297172
           ],
           "yaxis": "y"
          },
          {
           "hovertemplate": "<b>%{hovertext}</b><br><br>partisan=left<br>animation_frame=2019-10-01<br>0=%{x}<br>1=%{y}<br>subreddit=%{text}<extra></extra>",
           "hovertext": [
            "JoeBiden",
            "SocialDemocracy",
            "BaemyKlobaechar",
            "demsocialist",
            "ConservativeDemocrat",
            "progressive",
            "ElizabethWarren",
            "moderatepolitics",
            "SandersForPresident",
            "centerleftpolitics",
            "Pete_Buttigieg",
            "YangForPresidentHQ",
            "politics",
            "ChapoTrapHouse"
           ],
           "ids": [
            "JoeBiden",
            "SocialDemocracy",
            "BaemyKlobaechar",
            "demsocialist",
            "ConservativeDemocrat",
            "progressive",
            "ElizabethWarren",
            "moderatepolitics",
            "SandersForPresident",
            "centerleftpolitics",
            "Pete_Buttigieg",
            "YangForPresidentHQ",
            "politics",
            "ChapoTrapHouse"
           ],
           "legendgroup": "left",
           "marker": {
            "color": "blue",
            "opacity": 0.7,
            "symbol": "circle"
           },
           "mode": "markers+text",
           "name": "left",
           "orientation": "v",
           "showlegend": true,
           "text": [
            "JoeBiden",
            "SocialDemocracy",
            "BaemyKlobaechar",
            "demsocialist",
            "ConservativeDemocrat",
            "progressive",
            "ElizabethWarren",
            "moderatepolitics",
            "SandersForPresident",
            "centerleftpolitics",
            "Pete_Buttigieg",
            "YangForPresidentHQ",
            "politics",
            "ChapoTrapHouse"
           ],
           "type": "scatter",
           "x": [
            -0.1536739195552229,
            -0.13470923072592927,
            -0.42729893741920094,
            -0.3863019586396594,
            -0.23815928330884412,
            -0.20776528873151295,
            -0.19776508729912964,
            -0.1402740709133089,
            -0.13073556816779783,
            -0.04347323901955297,
            -0.14388402565019706,
            -0.0709519344822027,
            -0.195986949410137,
            0.0344945643947761
           ],
           "xaxis": "x",
           "y": [
            -0.04003974975814383,
            -0.1855232660177257,
            -0.00997430134004068,
            -0.24528354630050228,
            -0.23696985488588695,
            -0.0004478217808324085,
            -0.10542839419976056,
            -0.11981281035201961,
            -0.13234252979088026,
            -0.14624801140906457,
            -0.067715113789936,
            -0.12435353084566118,
            -0.11088465395890129,
            -0.12662314771949887
           ],
           "yaxis": "y"
          }
         ],
         "name": "2019-10-01"
        },
        {
         "data": [
          {
           "hovertemplate": "<b>%{hovertext}</b><br><br>partisan=right<br>animation_frame=2019-11-01<br>0=%{x}<br>1=%{y}<br>subreddit=%{text}<extra></extra>",
           "hovertext": [
            "Capitalism",
            "ShitPoliticsSays",
            "Conservative",
            "The_Donald",
            "progun",
            "Republican"
           ],
           "ids": [
            "Capitalism",
            "ShitPoliticsSays",
            "Conservative",
            "The_Donald",
            "progun",
            "Republican"
           ],
           "legendgroup": "right",
           "marker": {
            "color": "red",
            "opacity": 0.7,
            "symbol": "circle"
           },
           "mode": "markers+text",
           "name": "right",
           "orientation": "v",
           "showlegend": true,
           "text": [
            "Capitalism",
            "ShitPoliticsSays",
            "Conservative",
            "The_Donald",
            "progun",
            "Republican"
           ],
           "type": "scatter",
           "x": [
            -0.08513058210782923,
            0.09081296771308991,
            -0.0896926044067586,
            0.0499620440063098,
            0.031232606583258434,
            -0.10363521750814755
           ],
           "xaxis": "x",
           "y": [
            -0.145785237607476,
            -0.1379016327198036,
            -0.09901796343638958,
            0.03214978258537299,
            -0.12240007318776652,
            -0.012347883038503616
           ],
           "yaxis": "y"
          },
          {
           "hovertemplate": "<b>%{hovertext}</b><br><br>partisan=left<br>animation_frame=2019-11-01<br>0=%{x}<br>1=%{y}<br>subreddit=%{text}<extra></extra>",
           "hovertext": [
            "JoeBiden",
            "SocialDemocracy",
            "BaemyKlobaechar",
            "demsocialist",
            "ConservativeDemocrat",
            "progressive",
            "ElizabethWarren",
            "moderatepolitics",
            "SandersForPresident",
            "centerleftpolitics",
            "Pete_Buttigieg",
            "YangForPresidentHQ",
            "politics",
            "ChapoTrapHouse"
           ],
           "ids": [
            "JoeBiden",
            "SocialDemocracy",
            "BaemyKlobaechar",
            "demsocialist",
            "ConservativeDemocrat",
            "progressive",
            "ElizabethWarren",
            "moderatepolitics",
            "SandersForPresident",
            "centerleftpolitics",
            "Pete_Buttigieg",
            "YangForPresidentHQ",
            "politics",
            "ChapoTrapHouse"
           ],
           "legendgroup": "left",
           "marker": {
            "color": "blue",
            "opacity": 0.7,
            "symbol": "circle"
           },
           "mode": "markers+text",
           "name": "left",
           "orientation": "v",
           "showlegend": true,
           "text": [
            "JoeBiden",
            "SocialDemocracy",
            "BaemyKlobaechar",
            "demsocialist",
            "ConservativeDemocrat",
            "progressive",
            "ElizabethWarren",
            "moderatepolitics",
            "SandersForPresident",
            "centerleftpolitics",
            "Pete_Buttigieg",
            "YangForPresidentHQ",
            "politics",
            "ChapoTrapHouse"
           ],
           "type": "scatter",
           "x": [
            -0.1584109522067531,
            -0.11287196050399546,
            -0.22778339545604198,
            -0.19939381446014548,
            -0.3136499288705962,
            -0.1571203106900487,
            -0.18727868805089598,
            -0.15017681358762236,
            -0.13510997551049045,
            -0.08143264253763649,
            -0.17040546299446402,
            -0.04557471134604499,
            -0.20602842922904804,
            0.033255479897058245
           ],
           "xaxis": "x",
           "y": [
            -0.10250632240665608,
            -0.2197395450460287,
            -0.16070642103197225,
            -0.19303396774775344,
            -0.2727634595073876,
            -0.04862736358308831,
            -0.07090148277888819,
            -0.10518021009351054,
            -0.12871304025905705,
            -0.09509793109605745,
            -0.05168192224322711,
            -0.0903517262666367,
            -0.07445460112399521,
            -0.11673899119141962
           ],
           "yaxis": "y"
          }
         ],
         "name": "2019-11-01"
        },
        {
         "data": [
          {
           "hovertemplate": "<b>%{hovertext}</b><br><br>partisan=right<br>animation_frame=2019-12-01<br>0=%{x}<br>1=%{y}<br>subreddit=%{text}<extra></extra>",
           "hovertext": [
            "Capitalism",
            "ShitPoliticsSays",
            "Conservative",
            "The_Donald",
            "progun",
            "Republican"
           ],
           "ids": [
            "Capitalism",
            "ShitPoliticsSays",
            "Conservative",
            "The_Donald",
            "progun",
            "Republican"
           ],
           "legendgroup": "right",
           "marker": {
            "color": "red",
            "opacity": 0.7,
            "symbol": "circle"
           },
           "mode": "markers+text",
           "name": "right",
           "orientation": "v",
           "showlegend": true,
           "text": [
            "Capitalism",
            "ShitPoliticsSays",
            "Conservative",
            "The_Donald",
            "progun",
            "Republican"
           ],
           "type": "scatter",
           "x": [
            -0.02461422221027372,
            0.05339414896197427,
            -0.05310213316535713,
            0.04268879716010522,
            0.03730097282799604,
            -0.06780862948097084
           ],
           "xaxis": "x",
           "y": [
            -0.1459623691603253,
            -0.12826335636781797,
            -0.09746491596257362,
            0.013734036042203414,
            -0.09979801568586497,
            -0.015534715672700369
           ],
           "yaxis": "y"
          },
          {
           "hovertemplate": "<b>%{hovertext}</b><br><br>partisan=left<br>animation_frame=2019-12-01<br>0=%{x}<br>1=%{y}<br>subreddit=%{text}<extra></extra>",
           "hovertext": [
            "JoeBiden",
            "SocialDemocracy",
            "BaemyKlobaechar",
            "demsocialist",
            "ConservativeDemocrat",
            "progressive",
            "ElizabethWarren",
            "moderatepolitics",
            "SandersForPresident",
            "centerleftpolitics",
            "Pete_Buttigieg",
            "YangForPresidentHQ",
            "politics",
            "ChapoTrapHouse"
           ],
           "ids": [
            "JoeBiden",
            "SocialDemocracy",
            "BaemyKlobaechar",
            "demsocialist",
            "ConservativeDemocrat",
            "progressive",
            "ElizabethWarren",
            "moderatepolitics",
            "SandersForPresident",
            "centerleftpolitics",
            "Pete_Buttigieg",
            "YangForPresidentHQ",
            "politics",
            "ChapoTrapHouse"
           ],
           "legendgroup": "left",
           "marker": {
            "color": "blue",
            "opacity": 0.7,
            "symbol": "circle"
           },
           "mode": "markers+text",
           "name": "left",
           "orientation": "v",
           "showlegend": true,
           "text": [
            "JoeBiden",
            "SocialDemocracy",
            "BaemyKlobaechar",
            "demsocialist",
            "ConservativeDemocrat",
            "progressive",
            "ElizabethWarren",
            "moderatepolitics",
            "SandersForPresident",
            "centerleftpolitics",
            "Pete_Buttigieg",
            "YangForPresidentHQ",
            "politics",
            "ChapoTrapHouse"
           ],
           "type": "scatter",
           "x": [
            -0.12733515167793816,
            -0.05317186824319942,
            -0.28214844901258673,
            -0.4351331192970314,
            -0.24172010649756756,
            -0.1832894047716046,
            -0.19099190633108049,
            -0.16092599262476895,
            -0.1314442215584346,
            -0.08154314950058161,
            -0.17088608750081913,
            -0.09384912090803416,
            -0.2010252170248198,
            0.02184333913143352
           ],
           "xaxis": "x",
           "y": [
            -0.04609037425686547,
            -0.23123540212389285,
            -0.16569872232203967,
            -0.12347288724796716,
            -0.2559595766496989,
            -0.056712134383403626,
            -0.06849577126037291,
            -0.11747576181741036,
            -0.1303349310741239,
            -0.13550930803879713,
            -0.09013224966922403,
            -0.11000841094492883,
            -0.10014850828035347,
            -0.13005914275027478
           ],
           "yaxis": "y"
          }
         ],
         "name": "2019-12-01"
        }
       ],
       "layout": {
        "legend": {
         "title": {
          "text": "partisan"
         },
         "tracegroupgap": 0
        },
        "margin": {
         "t": 60
        },
        "sliders": [
         {
          "active": 0,
          "currentvalue": {
           "prefix": "animation_frame="
          },
          "len": 0.9,
          "pad": {
           "b": 10,
           "t": 60
          },
          "steps": [
           {
            "args": [
             [
              "2019-01-01"
             ],
             {
              "frame": {
               "duration": 0,
               "redraw": false
              },
              "fromcurrent": true,
              "mode": "immediate",
              "transition": {
               "duration": 0,
               "easing": "linear"
              }
             }
            ],
            "label": "2019-01-01",
            "method": "animate"
           },
           {
            "args": [
             [
              "2019-02-01"
             ],
             {
              "frame": {
               "duration": 0,
               "redraw": false
              },
              "fromcurrent": true,
              "mode": "immediate",
              "transition": {
               "duration": 0,
               "easing": "linear"
              }
             }
            ],
            "label": "2019-02-01",
            "method": "animate"
           },
           {
            "args": [
             [
              "2019-03-01"
             ],
             {
              "frame": {
               "duration": 0,
               "redraw": false
              },
              "fromcurrent": true,
              "mode": "immediate",
              "transition": {
               "duration": 0,
               "easing": "linear"
              }
             }
            ],
            "label": "2019-03-01",
            "method": "animate"
           },
           {
            "args": [
             [
              "2019-04-01"
             ],
             {
              "frame": {
               "duration": 0,
               "redraw": false
              },
              "fromcurrent": true,
              "mode": "immediate",
              "transition": {
               "duration": 0,
               "easing": "linear"
              }
             }
            ],
            "label": "2019-04-01",
            "method": "animate"
           },
           {
            "args": [
             [
              "2019-05-01"
             ],
             {
              "frame": {
               "duration": 0,
               "redraw": false
              },
              "fromcurrent": true,
              "mode": "immediate",
              "transition": {
               "duration": 0,
               "easing": "linear"
              }
             }
            ],
            "label": "2019-05-01",
            "method": "animate"
           },
           {
            "args": [
             [
              "2019-06-01"
             ],
             {
              "frame": {
               "duration": 0,
               "redraw": false
              },
              "fromcurrent": true,
              "mode": "immediate",
              "transition": {
               "duration": 0,
               "easing": "linear"
              }
             }
            ],
            "label": "2019-06-01",
            "method": "animate"
           },
           {
            "args": [
             [
              "2019-07-01"
             ],
             {
              "frame": {
               "duration": 0,
               "redraw": false
              },
              "fromcurrent": true,
              "mode": "immediate",
              "transition": {
               "duration": 0,
               "easing": "linear"
              }
             }
            ],
            "label": "2019-07-01",
            "method": "animate"
           },
           {
            "args": [
             [
              "2019-08-01"
             ],
             {
              "frame": {
               "duration": 0,
               "redraw": false
              },
              "fromcurrent": true,
              "mode": "immediate",
              "transition": {
               "duration": 0,
               "easing": "linear"
              }
             }
            ],
            "label": "2019-08-01",
            "method": "animate"
           },
           {
            "args": [
             [
              "2019-09-01"
             ],
             {
              "frame": {
               "duration": 0,
               "redraw": false
              },
              "fromcurrent": true,
              "mode": "immediate",
              "transition": {
               "duration": 0,
               "easing": "linear"
              }
             }
            ],
            "label": "2019-09-01",
            "method": "animate"
           },
           {
            "args": [
             [
              "2019-10-01"
             ],
             {
              "frame": {
               "duration": 0,
               "redraw": false
              },
              "fromcurrent": true,
              "mode": "immediate",
              "transition": {
               "duration": 0,
               "easing": "linear"
              }
             }
            ],
            "label": "2019-10-01",
            "method": "animate"
           },
           {
            "args": [
             [
              "2019-11-01"
             ],
             {
              "frame": {
               "duration": 0,
               "redraw": false
              },
              "fromcurrent": true,
              "mode": "immediate",
              "transition": {
               "duration": 0,
               "easing": "linear"
              }
             }
            ],
            "label": "2019-11-01",
            "method": "animate"
           },
           {
            "args": [
             [
              "2019-12-01"
             ],
             {
              "frame": {
               "duration": 0,
               "redraw": false
              },
              "fromcurrent": true,
              "mode": "immediate",
              "transition": {
               "duration": 0,
               "easing": "linear"
              }
             }
            ],
            "label": "2019-12-01",
            "method": "animate"
           }
          ],
          "x": 0.1,
          "xanchor": "left",
          "y": 0,
          "yanchor": "top"
         }
        ],
        "template": {
         "data": {
          "bar": [
           {
            "error_x": {
             "color": "#2a3f5f"
            },
            "error_y": {
             "color": "#2a3f5f"
            },
            "marker": {
             "line": {
              "color": "#E5ECF6",
              "width": 0.5
             }
            },
            "type": "bar"
           }
          ],
          "barpolar": [
           {
            "marker": {
             "line": {
              "color": "#E5ECF6",
              "width": 0.5
             }
            },
            "type": "barpolar"
           }
          ],
          "carpet": [
           {
            "aaxis": {
             "endlinecolor": "#2a3f5f",
             "gridcolor": "white",
             "linecolor": "white",
             "minorgridcolor": "white",
             "startlinecolor": "#2a3f5f"
            },
            "baxis": {
             "endlinecolor": "#2a3f5f",
             "gridcolor": "white",
             "linecolor": "white",
             "minorgridcolor": "white",
             "startlinecolor": "#2a3f5f"
            },
            "type": "carpet"
           }
          ],
          "choropleth": [
           {
            "colorbar": {
             "outlinewidth": 0,
             "ticks": ""
            },
            "type": "choropleth"
           }
          ],
          "contour": [
           {
            "colorbar": {
             "outlinewidth": 0,
             "ticks": ""
            },
            "colorscale": [
             [
              0,
              "#0d0887"
             ],
             [
              0.1111111111111111,
              "#46039f"
             ],
             [
              0.2222222222222222,
              "#7201a8"
             ],
             [
              0.3333333333333333,
              "#9c179e"
             ],
             [
              0.4444444444444444,
              "#bd3786"
             ],
             [
              0.5555555555555556,
              "#d8576b"
             ],
             [
              0.6666666666666666,
              "#ed7953"
             ],
             [
              0.7777777777777778,
              "#fb9f3a"
             ],
             [
              0.8888888888888888,
              "#fdca26"
             ],
             [
              1,
              "#f0f921"
             ]
            ],
            "type": "contour"
           }
          ],
          "contourcarpet": [
           {
            "colorbar": {
             "outlinewidth": 0,
             "ticks": ""
            },
            "type": "contourcarpet"
           }
          ],
          "heatmap": [
           {
            "colorbar": {
             "outlinewidth": 0,
             "ticks": ""
            },
            "colorscale": [
             [
              0,
              "#0d0887"
             ],
             [
              0.1111111111111111,
              "#46039f"
             ],
             [
              0.2222222222222222,
              "#7201a8"
             ],
             [
              0.3333333333333333,
              "#9c179e"
             ],
             [
              0.4444444444444444,
              "#bd3786"
             ],
             [
              0.5555555555555556,
              "#d8576b"
             ],
             [
              0.6666666666666666,
              "#ed7953"
             ],
             [
              0.7777777777777778,
              "#fb9f3a"
             ],
             [
              0.8888888888888888,
              "#fdca26"
             ],
             [
              1,
              "#f0f921"
             ]
            ],
            "type": "heatmap"
           }
          ],
          "heatmapgl": [
           {
            "colorbar": {
             "outlinewidth": 0,
             "ticks": ""
            },
            "colorscale": [
             [
              0,
              "#0d0887"
             ],
             [
              0.1111111111111111,
              "#46039f"
             ],
             [
              0.2222222222222222,
              "#7201a8"
             ],
             [
              0.3333333333333333,
              "#9c179e"
             ],
             [
              0.4444444444444444,
              "#bd3786"
             ],
             [
              0.5555555555555556,
              "#d8576b"
             ],
             [
              0.6666666666666666,
              "#ed7953"
             ],
             [
              0.7777777777777778,
              "#fb9f3a"
             ],
             [
              0.8888888888888888,
              "#fdca26"
             ],
             [
              1,
              "#f0f921"
             ]
            ],
            "type": "heatmapgl"
           }
          ],
          "histogram": [
           {
            "marker": {
             "colorbar": {
              "outlinewidth": 0,
              "ticks": ""
             }
            },
            "type": "histogram"
           }
          ],
          "histogram2d": [
           {
            "colorbar": {
             "outlinewidth": 0,
             "ticks": ""
            },
            "colorscale": [
             [
              0,
              "#0d0887"
             ],
             [
              0.1111111111111111,
              "#46039f"
             ],
             [
              0.2222222222222222,
              "#7201a8"
             ],
             [
              0.3333333333333333,
              "#9c179e"
             ],
             [
              0.4444444444444444,
              "#bd3786"
             ],
             [
              0.5555555555555556,
              "#d8576b"
             ],
             [
              0.6666666666666666,
              "#ed7953"
             ],
             [
              0.7777777777777778,
              "#fb9f3a"
             ],
             [
              0.8888888888888888,
              "#fdca26"
             ],
             [
              1,
              "#f0f921"
             ]
            ],
            "type": "histogram2d"
           }
          ],
          "histogram2dcontour": [
           {
            "colorbar": {
             "outlinewidth": 0,
             "ticks": ""
            },
            "colorscale": [
             [
              0,
              "#0d0887"
             ],
             [
              0.1111111111111111,
              "#46039f"
             ],
             [
              0.2222222222222222,
              "#7201a8"
             ],
             [
              0.3333333333333333,
              "#9c179e"
             ],
             [
              0.4444444444444444,
              "#bd3786"
             ],
             [
              0.5555555555555556,
              "#d8576b"
             ],
             [
              0.6666666666666666,
              "#ed7953"
             ],
             [
              0.7777777777777778,
              "#fb9f3a"
             ],
             [
              0.8888888888888888,
              "#fdca26"
             ],
             [
              1,
              "#f0f921"
             ]
            ],
            "type": "histogram2dcontour"
           }
          ],
          "mesh3d": [
           {
            "colorbar": {
             "outlinewidth": 0,
             "ticks": ""
            },
            "type": "mesh3d"
           }
          ],
          "parcoords": [
           {
            "line": {
             "colorbar": {
              "outlinewidth": 0,
              "ticks": ""
             }
            },
            "type": "parcoords"
           }
          ],
          "pie": [
           {
            "automargin": true,
            "type": "pie"
           }
          ],
          "scatter": [
           {
            "marker": {
             "colorbar": {
              "outlinewidth": 0,
              "ticks": ""
             }
            },
            "type": "scatter"
           }
          ],
          "scatter3d": [
           {
            "line": {
             "colorbar": {
              "outlinewidth": 0,
              "ticks": ""
             }
            },
            "marker": {
             "colorbar": {
              "outlinewidth": 0,
              "ticks": ""
             }
            },
            "type": "scatter3d"
           }
          ],
          "scattercarpet": [
           {
            "marker": {
             "colorbar": {
              "outlinewidth": 0,
              "ticks": ""
             }
            },
            "type": "scattercarpet"
           }
          ],
          "scattergeo": [
           {
            "marker": {
             "colorbar": {
              "outlinewidth": 0,
              "ticks": ""
             }
            },
            "type": "scattergeo"
           }
          ],
          "scattergl": [
           {
            "marker": {
             "colorbar": {
              "outlinewidth": 0,
              "ticks": ""
             }
            },
            "type": "scattergl"
           }
          ],
          "scattermapbox": [
           {
            "marker": {
             "colorbar": {
              "outlinewidth": 0,
              "ticks": ""
             }
            },
            "type": "scattermapbox"
           }
          ],
          "scatterpolar": [
           {
            "marker": {
             "colorbar": {
              "outlinewidth": 0,
              "ticks": ""
             }
            },
            "type": "scatterpolar"
           }
          ],
          "scatterpolargl": [
           {
            "marker": {
             "colorbar": {
              "outlinewidth": 0,
              "ticks": ""
             }
            },
            "type": "scatterpolargl"
           }
          ],
          "scatterternary": [
           {
            "marker": {
             "colorbar": {
              "outlinewidth": 0,
              "ticks": ""
             }
            },
            "type": "scatterternary"
           }
          ],
          "surface": [
           {
            "colorbar": {
             "outlinewidth": 0,
             "ticks": ""
            },
            "colorscale": [
             [
              0,
              "#0d0887"
             ],
             [
              0.1111111111111111,
              "#46039f"
             ],
             [
              0.2222222222222222,
              "#7201a8"
             ],
             [
              0.3333333333333333,
              "#9c179e"
             ],
             [
              0.4444444444444444,
              "#bd3786"
             ],
             [
              0.5555555555555556,
              "#d8576b"
             ],
             [
              0.6666666666666666,
              "#ed7953"
             ],
             [
              0.7777777777777778,
              "#fb9f3a"
             ],
             [
              0.8888888888888888,
              "#fdca26"
             ],
             [
              1,
              "#f0f921"
             ]
            ],
            "type": "surface"
           }
          ],
          "table": [
           {
            "cells": {
             "fill": {
              "color": "#EBF0F8"
             },
             "line": {
              "color": "white"
             }
            },
            "header": {
             "fill": {
              "color": "#C8D4E3"
             },
             "line": {
              "color": "white"
             }
            },
            "type": "table"
           }
          ]
         },
         "layout": {
          "annotationdefaults": {
           "arrowcolor": "#2a3f5f",
           "arrowhead": 0,
           "arrowwidth": 1
          },
          "coloraxis": {
           "colorbar": {
            "outlinewidth": 0,
            "ticks": ""
           }
          },
          "colorscale": {
           "diverging": [
            [
             0,
             "#8e0152"
            ],
            [
             0.1,
             "#c51b7d"
            ],
            [
             0.2,
             "#de77ae"
            ],
            [
             0.3,
             "#f1b6da"
            ],
            [
             0.4,
             "#fde0ef"
            ],
            [
             0.5,
             "#f7f7f7"
            ],
            [
             0.6,
             "#e6f5d0"
            ],
            [
             0.7,
             "#b8e186"
            ],
            [
             0.8,
             "#7fbc41"
            ],
            [
             0.9,
             "#4d9221"
            ],
            [
             1,
             "#276419"
            ]
           ],
           "sequential": [
            [
             0,
             "#0d0887"
            ],
            [
             0.1111111111111111,
             "#46039f"
            ],
            [
             0.2222222222222222,
             "#7201a8"
            ],
            [
             0.3333333333333333,
             "#9c179e"
            ],
            [
             0.4444444444444444,
             "#bd3786"
            ],
            [
             0.5555555555555556,
             "#d8576b"
            ],
            [
             0.6666666666666666,
             "#ed7953"
            ],
            [
             0.7777777777777778,
             "#fb9f3a"
            ],
            [
             0.8888888888888888,
             "#fdca26"
            ],
            [
             1,
             "#f0f921"
            ]
           ],
           "sequentialminus": [
            [
             0,
             "#0d0887"
            ],
            [
             0.1111111111111111,
             "#46039f"
            ],
            [
             0.2222222222222222,
             "#7201a8"
            ],
            [
             0.3333333333333333,
             "#9c179e"
            ],
            [
             0.4444444444444444,
             "#bd3786"
            ],
            [
             0.5555555555555556,
             "#d8576b"
            ],
            [
             0.6666666666666666,
             "#ed7953"
            ],
            [
             0.7777777777777778,
             "#fb9f3a"
            ],
            [
             0.8888888888888888,
             "#fdca26"
            ],
            [
             1,
             "#f0f921"
            ]
           ]
          },
          "colorway": [
           "#636efa",
           "#EF553B",
           "#00cc96",
           "#ab63fa",
           "#FFA15A",
           "#19d3f3",
           "#FF6692",
           "#B6E880",
           "#FF97FF",
           "#FECB52"
          ],
          "font": {
           "color": "#2a3f5f"
          },
          "geo": {
           "bgcolor": "white",
           "lakecolor": "white",
           "landcolor": "#E5ECF6",
           "showlakes": true,
           "showland": true,
           "subunitcolor": "white"
          },
          "hoverlabel": {
           "align": "left"
          },
          "hovermode": "closest",
          "mapbox": {
           "style": "light"
          },
          "paper_bgcolor": "white",
          "plot_bgcolor": "#E5ECF6",
          "polar": {
           "angularaxis": {
            "gridcolor": "white",
            "linecolor": "white",
            "ticks": ""
           },
           "bgcolor": "#E5ECF6",
           "radialaxis": {
            "gridcolor": "white",
            "linecolor": "white",
            "ticks": ""
           }
          },
          "scene": {
           "xaxis": {
            "backgroundcolor": "#E5ECF6",
            "gridcolor": "white",
            "gridwidth": 2,
            "linecolor": "white",
            "showbackground": true,
            "ticks": "",
            "zerolinecolor": "white"
           },
           "yaxis": {
            "backgroundcolor": "#E5ECF6",
            "gridcolor": "white",
            "gridwidth": 2,
            "linecolor": "white",
            "showbackground": true,
            "ticks": "",
            "zerolinecolor": "white"
           },
           "zaxis": {
            "backgroundcolor": "#E5ECF6",
            "gridcolor": "white",
            "gridwidth": 2,
            "linecolor": "white",
            "showbackground": true,
            "ticks": "",
            "zerolinecolor": "white"
           }
          },
          "shapedefaults": {
           "line": {
            "color": "#2a3f5f"
           }
          },
          "ternary": {
           "aaxis": {
            "gridcolor": "white",
            "linecolor": "white",
            "ticks": ""
           },
           "baxis": {
            "gridcolor": "white",
            "linecolor": "white",
            "ticks": ""
           },
           "bgcolor": "#E5ECF6",
           "caxis": {
            "gridcolor": "white",
            "linecolor": "white",
            "ticks": ""
           }
          },
          "title": {
           "x": 0.05
          },
          "xaxis": {
           "automargin": true,
           "gridcolor": "white",
           "linecolor": "white",
           "ticks": "",
           "title": {
            "standoff": 15
           },
           "zerolinecolor": "white",
           "zerolinewidth": 2
          },
          "yaxis": {
           "automargin": true,
           "gridcolor": "white",
           "linecolor": "white",
           "ticks": "",
           "title": {
            "standoff": 15
           },
           "zerolinecolor": "white",
           "zerolinewidth": 2
          }
         }
        },
        "updatemenus": [
         {
          "buttons": [
           {
            "args": [
             null,
             {
              "frame": {
               "duration": 500,
               "redraw": false
              },
              "fromcurrent": true,
              "mode": "immediate",
              "transition": {
               "duration": 500,
               "easing": "linear"
              }
             }
            ],
            "label": "&#9654;",
            "method": "animate"
           },
           {
            "args": [
             [
              null
             ],
             {
              "frame": {
               "duration": 0,
               "redraw": false
              },
              "fromcurrent": true,
              "mode": "immediate",
              "transition": {
               "duration": 0,
               "easing": "linear"
              }
             }
            ],
            "label": "&#9724;",
            "method": "animate"
           }
          ],
          "direction": "left",
          "pad": {
           "r": 10,
           "t": 70
          },
          "showactive": false,
          "type": "buttons",
          "x": 0.1,
          "xanchor": "right",
          "y": 0,
          "yanchor": "top"
         }
        ],
        "xaxis": {
         "anchor": "y",
         "domain": [
          0,
          1
         ],
         "range": [
          -0.7745231331423307,
          0.5908129677130899
         ],
         "title": {
          "text": "0"
         }
        },
        "yaxis": {
         "anchor": "x",
         "domain": [
          0,
          1
         ],
         "range": [
          -0.635892375349347,
          0.16410762465065304
         ],
         "title": {
          "text": "1"
         }
        }
       }
      },
      "text/html": [
       "<div>\n",
       "        \n",
       "        \n",
       "            <div id=\"6bedf21d-71e1-4359-9a8b-458f9b6009ba\" class=\"plotly-graph-div\" style=\"height:525px; width:100%;\"></div>\n",
       "            <script type=\"text/javascript\">\n",
       "                require([\"plotly\"], function(Plotly) {\n",
       "                    window.PLOTLYENV=window.PLOTLYENV || {};\n",
       "                    \n",
       "                if (document.getElementById(\"6bedf21d-71e1-4359-9a8b-458f9b6009ba\")) {\n",
       "                    Plotly.newPlot(\n",
       "                        '6bedf21d-71e1-4359-9a8b-458f9b6009ba',\n",
       "                        [{\"hovertemplate\": \"<b>%{hovertext}</b><br><br>partisan=right<br>animation_frame=2019-01-01<br>0=%{x}<br>1=%{y}<br>subreddit=%{text}<extra></extra>\", \"hovertext\": [\"Capitalism\", \"ShitPoliticsSays\", \"Conservative\", \"The_Donald\", \"progun\", \"Republican\"], \"ids\": [\"Capitalism\", \"ShitPoliticsSays\", \"Conservative\", \"The_Donald\", \"progun\", \"Republican\"], \"legendgroup\": \"right\", \"marker\": {\"color\": \"red\", \"opacity\": 0.7, \"symbol\": \"circle\"}, \"mode\": \"markers+text\", \"name\": \"right\", \"orientation\": \"v\", \"showlegend\": true, \"text\": [\"Capitalism\", \"ShitPoliticsSays\", \"Conservative\", \"The_Donald\", \"progun\", \"Republican\"], \"type\": \"scatter\", \"x\": [-0.04585725233534766, 0.03540887750605267, -0.11033878074749787, 0.010730325162046674, -0.0371126384846732, -0.15455049432472873], \"xaxis\": \"x\", \"y\": [-0.2008886183642226, -0.13592078244735648, -0.10767129958970058, 0.0023110108119151515, -0.044549995635221856, -0.1087425610250676], \"yaxis\": \"y\"}, {\"hovertemplate\": \"<b>%{hovertext}</b><br><br>partisan=left<br>animation_frame=2019-01-01<br>0=%{x}<br>1=%{y}<br>subreddit=%{text}<extra></extra>\", \"hovertext\": [\"JoeBiden\", \"SocialDemocracy\", \"BaemyKlobaechar\", \"demsocialist\", \"ConservativeDemocrat\", \"progressive\", \"ElizabethWarren\", \"moderatepolitics\", \"SandersForPresident\", \"centerleftpolitics\", \"Pete_Buttigieg\", \"YangForPresidentHQ\", \"politics\", \"ChapoTrapHouse\"], \"ids\": [\"JoeBiden\", \"SocialDemocracy\", \"BaemyKlobaechar\", \"demsocialist\", \"ConservativeDemocrat\", \"progressive\", \"ElizabethWarren\", \"moderatepolitics\", \"SandersForPresident\", \"centerleftpolitics\", \"Pete_Buttigieg\", \"YangForPresidentHQ\", \"politics\", \"ChapoTrapHouse\"], \"legendgroup\": \"left\", \"marker\": {\"color\": \"blue\", \"opacity\": 0.7, \"symbol\": \"circle\"}, \"mode\": \"markers+text\", \"name\": \"left\", \"orientation\": \"v\", \"showlegend\": true, \"text\": [\"JoeBiden\", \"SocialDemocracy\", \"BaemyKlobaechar\", \"demsocialist\", \"ConservativeDemocrat\", \"progressive\", \"ElizabethWarren\", \"moderatepolitics\", \"SandersForPresident\", \"centerleftpolitics\", \"Pete_Buttigieg\", \"YangForPresidentHQ\", \"politics\", \"ChapoTrapHouse\"], \"type\": \"scatter\", \"x\": [-0.06337489383710997, -0.15212748894709116, -0.23676540301387794, -0.295667118589856, -0.2121181694157491, -0.17666967049507606, -0.311068788653573, -0.15319040018062585, -0.14923355089163937, -0.057755665666370255, -0.24751500561738116, -0.22403419640853364, -0.23444986120490371, -0.004020433734454635], \"xaxis\": \"x\", \"y\": [-0.21637352140207725, -0.20799278326796675, -0.2367765578888599, -0.15969017965001422, -0.3150409916631492, -0.06887378672456379, -0.09440006360993329, -0.11469558077264091, -0.08163002125517035, -0.11768716894428984, -0.23329080045153844, -0.06329380258174527, -0.08941002632903215, -0.1033036888625591], \"yaxis\": \"y\"}],\n",
       "                        {\"legend\": {\"title\": {\"text\": \"partisan\"}, \"tracegroupgap\": 0}, \"margin\": {\"t\": 60}, \"sliders\": [{\"active\": 0, \"currentvalue\": {\"prefix\": \"animation_frame=\"}, \"len\": 0.9, \"pad\": {\"b\": 10, \"t\": 60}, \"steps\": [{\"args\": [[\"2019-01-01\"], {\"frame\": {\"duration\": 0, \"redraw\": false}, \"fromcurrent\": true, \"mode\": \"immediate\", \"transition\": {\"duration\": 0, \"easing\": \"linear\"}}], \"label\": \"2019-01-01\", \"method\": \"animate\"}, {\"args\": [[\"2019-02-01\"], {\"frame\": {\"duration\": 0, \"redraw\": false}, \"fromcurrent\": true, \"mode\": \"immediate\", \"transition\": {\"duration\": 0, \"easing\": \"linear\"}}], \"label\": \"2019-02-01\", \"method\": \"animate\"}, {\"args\": [[\"2019-03-01\"], {\"frame\": {\"duration\": 0, \"redraw\": false}, \"fromcurrent\": true, \"mode\": \"immediate\", \"transition\": {\"duration\": 0, \"easing\": \"linear\"}}], \"label\": \"2019-03-01\", \"method\": \"animate\"}, {\"args\": [[\"2019-04-01\"], {\"frame\": {\"duration\": 0, \"redraw\": false}, \"fromcurrent\": true, \"mode\": \"immediate\", \"transition\": {\"duration\": 0, \"easing\": \"linear\"}}], \"label\": \"2019-04-01\", \"method\": \"animate\"}, {\"args\": [[\"2019-05-01\"], {\"frame\": {\"duration\": 0, \"redraw\": false}, \"fromcurrent\": true, \"mode\": \"immediate\", \"transition\": {\"duration\": 0, \"easing\": \"linear\"}}], \"label\": \"2019-05-01\", \"method\": \"animate\"}, {\"args\": [[\"2019-06-01\"], {\"frame\": {\"duration\": 0, \"redraw\": false}, \"fromcurrent\": true, \"mode\": \"immediate\", \"transition\": {\"duration\": 0, \"easing\": \"linear\"}}], \"label\": \"2019-06-01\", \"method\": \"animate\"}, {\"args\": [[\"2019-07-01\"], {\"frame\": {\"duration\": 0, \"redraw\": false}, \"fromcurrent\": true, \"mode\": \"immediate\", \"transition\": {\"duration\": 0, \"easing\": \"linear\"}}], \"label\": \"2019-07-01\", \"method\": \"animate\"}, {\"args\": [[\"2019-08-01\"], {\"frame\": {\"duration\": 0, \"redraw\": false}, \"fromcurrent\": true, \"mode\": \"immediate\", \"transition\": {\"duration\": 0, \"easing\": \"linear\"}}], \"label\": \"2019-08-01\", \"method\": \"animate\"}, {\"args\": [[\"2019-09-01\"], {\"frame\": {\"duration\": 0, \"redraw\": false}, \"fromcurrent\": true, \"mode\": \"immediate\", \"transition\": {\"duration\": 0, \"easing\": \"linear\"}}], \"label\": \"2019-09-01\", \"method\": \"animate\"}, {\"args\": [[\"2019-10-01\"], {\"frame\": {\"duration\": 0, \"redraw\": false}, \"fromcurrent\": true, \"mode\": \"immediate\", \"transition\": {\"duration\": 0, \"easing\": \"linear\"}}], \"label\": \"2019-10-01\", \"method\": \"animate\"}, {\"args\": [[\"2019-11-01\"], {\"frame\": {\"duration\": 0, \"redraw\": false}, \"fromcurrent\": true, \"mode\": \"immediate\", \"transition\": {\"duration\": 0, \"easing\": \"linear\"}}], \"label\": \"2019-11-01\", \"method\": \"animate\"}, {\"args\": [[\"2019-12-01\"], {\"frame\": {\"duration\": 0, \"redraw\": false}, \"fromcurrent\": true, \"mode\": \"immediate\", \"transition\": {\"duration\": 0, \"easing\": \"linear\"}}], \"label\": \"2019-12-01\", \"method\": \"animate\"}], \"x\": 0.1, \"xanchor\": \"left\", \"y\": 0, \"yanchor\": \"top\"}], \"template\": {\"data\": {\"bar\": [{\"error_x\": {\"color\": \"#2a3f5f\"}, \"error_y\": {\"color\": \"#2a3f5f\"}, \"marker\": {\"line\": {\"color\": \"#E5ECF6\", \"width\": 0.5}}, \"type\": \"bar\"}], \"barpolar\": [{\"marker\": {\"line\": {\"color\": \"#E5ECF6\", \"width\": 0.5}}, \"type\": \"barpolar\"}], \"carpet\": [{\"aaxis\": {\"endlinecolor\": \"#2a3f5f\", \"gridcolor\": \"white\", \"linecolor\": \"white\", \"minorgridcolor\": \"white\", \"startlinecolor\": \"#2a3f5f\"}, \"baxis\": {\"endlinecolor\": \"#2a3f5f\", \"gridcolor\": \"white\", \"linecolor\": \"white\", \"minorgridcolor\": \"white\", \"startlinecolor\": \"#2a3f5f\"}, \"type\": \"carpet\"}], \"choropleth\": [{\"colorbar\": {\"outlinewidth\": 0, \"ticks\": \"\"}, \"type\": \"choropleth\"}], \"contour\": [{\"colorbar\": {\"outlinewidth\": 0, \"ticks\": \"\"}, \"colorscale\": [[0.0, \"#0d0887\"], [0.1111111111111111, \"#46039f\"], [0.2222222222222222, \"#7201a8\"], [0.3333333333333333, \"#9c179e\"], [0.4444444444444444, \"#bd3786\"], [0.5555555555555556, \"#d8576b\"], [0.6666666666666666, \"#ed7953\"], [0.7777777777777778, \"#fb9f3a\"], [0.8888888888888888, \"#fdca26\"], [1.0, \"#f0f921\"]], \"type\": \"contour\"}], \"contourcarpet\": [{\"colorbar\": {\"outlinewidth\": 0, \"ticks\": \"\"}, \"type\": \"contourcarpet\"}], \"heatmap\": [{\"colorbar\": {\"outlinewidth\": 0, \"ticks\": \"\"}, \"colorscale\": [[0.0, \"#0d0887\"], [0.1111111111111111, \"#46039f\"], [0.2222222222222222, \"#7201a8\"], [0.3333333333333333, \"#9c179e\"], [0.4444444444444444, \"#bd3786\"], [0.5555555555555556, \"#d8576b\"], [0.6666666666666666, \"#ed7953\"], [0.7777777777777778, \"#fb9f3a\"], [0.8888888888888888, \"#fdca26\"], [1.0, \"#f0f921\"]], \"type\": \"heatmap\"}], \"heatmapgl\": [{\"colorbar\": {\"outlinewidth\": 0, \"ticks\": \"\"}, \"colorscale\": [[0.0, \"#0d0887\"], [0.1111111111111111, \"#46039f\"], [0.2222222222222222, \"#7201a8\"], [0.3333333333333333, \"#9c179e\"], [0.4444444444444444, \"#bd3786\"], [0.5555555555555556, \"#d8576b\"], [0.6666666666666666, \"#ed7953\"], [0.7777777777777778, \"#fb9f3a\"], [0.8888888888888888, \"#fdca26\"], [1.0, \"#f0f921\"]], \"type\": \"heatmapgl\"}], \"histogram\": [{\"marker\": {\"colorbar\": {\"outlinewidth\": 0, \"ticks\": \"\"}}, \"type\": \"histogram\"}], \"histogram2d\": [{\"colorbar\": {\"outlinewidth\": 0, \"ticks\": \"\"}, \"colorscale\": [[0.0, \"#0d0887\"], [0.1111111111111111, \"#46039f\"], [0.2222222222222222, \"#7201a8\"], [0.3333333333333333, \"#9c179e\"], [0.4444444444444444, \"#bd3786\"], [0.5555555555555556, \"#d8576b\"], [0.6666666666666666, \"#ed7953\"], [0.7777777777777778, \"#fb9f3a\"], [0.8888888888888888, \"#fdca26\"], [1.0, \"#f0f921\"]], \"type\": \"histogram2d\"}], \"histogram2dcontour\": [{\"colorbar\": {\"outlinewidth\": 0, \"ticks\": \"\"}, \"colorscale\": [[0.0, \"#0d0887\"], [0.1111111111111111, \"#46039f\"], [0.2222222222222222, \"#7201a8\"], [0.3333333333333333, \"#9c179e\"], [0.4444444444444444, \"#bd3786\"], [0.5555555555555556, \"#d8576b\"], [0.6666666666666666, \"#ed7953\"], [0.7777777777777778, \"#fb9f3a\"], [0.8888888888888888, \"#fdca26\"], [1.0, \"#f0f921\"]], \"type\": \"histogram2dcontour\"}], \"mesh3d\": [{\"colorbar\": {\"outlinewidth\": 0, \"ticks\": \"\"}, \"type\": \"mesh3d\"}], \"parcoords\": [{\"line\": {\"colorbar\": {\"outlinewidth\": 0, \"ticks\": \"\"}}, \"type\": \"parcoords\"}], \"pie\": [{\"automargin\": true, \"type\": \"pie\"}], \"scatter\": [{\"marker\": {\"colorbar\": {\"outlinewidth\": 0, \"ticks\": \"\"}}, \"type\": \"scatter\"}], \"scatter3d\": [{\"line\": {\"colorbar\": {\"outlinewidth\": 0, \"ticks\": \"\"}}, \"marker\": {\"colorbar\": {\"outlinewidth\": 0, \"ticks\": \"\"}}, \"type\": \"scatter3d\"}], \"scattercarpet\": [{\"marker\": {\"colorbar\": {\"outlinewidth\": 0, \"ticks\": \"\"}}, \"type\": \"scattercarpet\"}], \"scattergeo\": [{\"marker\": {\"colorbar\": {\"outlinewidth\": 0, \"ticks\": \"\"}}, \"type\": \"scattergeo\"}], \"scattergl\": [{\"marker\": {\"colorbar\": {\"outlinewidth\": 0, \"ticks\": \"\"}}, \"type\": \"scattergl\"}], \"scattermapbox\": [{\"marker\": {\"colorbar\": {\"outlinewidth\": 0, \"ticks\": \"\"}}, \"type\": \"scattermapbox\"}], \"scatterpolar\": [{\"marker\": {\"colorbar\": {\"outlinewidth\": 0, \"ticks\": \"\"}}, \"type\": \"scatterpolar\"}], \"scatterpolargl\": [{\"marker\": {\"colorbar\": {\"outlinewidth\": 0, \"ticks\": \"\"}}, \"type\": \"scatterpolargl\"}], \"scatterternary\": [{\"marker\": {\"colorbar\": {\"outlinewidth\": 0, \"ticks\": \"\"}}, \"type\": \"scatterternary\"}], \"surface\": [{\"colorbar\": {\"outlinewidth\": 0, \"ticks\": \"\"}, \"colorscale\": [[0.0, \"#0d0887\"], [0.1111111111111111, \"#46039f\"], [0.2222222222222222, \"#7201a8\"], [0.3333333333333333, \"#9c179e\"], [0.4444444444444444, \"#bd3786\"], [0.5555555555555556, \"#d8576b\"], [0.6666666666666666, \"#ed7953\"], [0.7777777777777778, \"#fb9f3a\"], [0.8888888888888888, \"#fdca26\"], [1.0, \"#f0f921\"]], \"type\": \"surface\"}], \"table\": [{\"cells\": {\"fill\": {\"color\": \"#EBF0F8\"}, \"line\": {\"color\": \"white\"}}, \"header\": {\"fill\": {\"color\": \"#C8D4E3\"}, \"line\": {\"color\": \"white\"}}, \"type\": \"table\"}]}, \"layout\": {\"annotationdefaults\": {\"arrowcolor\": \"#2a3f5f\", \"arrowhead\": 0, \"arrowwidth\": 1}, \"coloraxis\": {\"colorbar\": {\"outlinewidth\": 0, \"ticks\": \"\"}}, \"colorscale\": {\"diverging\": [[0, \"#8e0152\"], [0.1, \"#c51b7d\"], [0.2, \"#de77ae\"], [0.3, \"#f1b6da\"], [0.4, \"#fde0ef\"], [0.5, \"#f7f7f7\"], [0.6, \"#e6f5d0\"], [0.7, \"#b8e186\"], [0.8, \"#7fbc41\"], [0.9, \"#4d9221\"], [1, \"#276419\"]], \"sequential\": [[0.0, \"#0d0887\"], [0.1111111111111111, \"#46039f\"], [0.2222222222222222, \"#7201a8\"], [0.3333333333333333, \"#9c179e\"], [0.4444444444444444, \"#bd3786\"], [0.5555555555555556, \"#d8576b\"], [0.6666666666666666, \"#ed7953\"], [0.7777777777777778, \"#fb9f3a\"], [0.8888888888888888, \"#fdca26\"], [1.0, \"#f0f921\"]], \"sequentialminus\": [[0.0, \"#0d0887\"], [0.1111111111111111, \"#46039f\"], [0.2222222222222222, \"#7201a8\"], [0.3333333333333333, \"#9c179e\"], [0.4444444444444444, \"#bd3786\"], [0.5555555555555556, \"#d8576b\"], [0.6666666666666666, \"#ed7953\"], [0.7777777777777778, \"#fb9f3a\"], [0.8888888888888888, \"#fdca26\"], [1.0, \"#f0f921\"]]}, \"colorway\": [\"#636efa\", \"#EF553B\", \"#00cc96\", \"#ab63fa\", \"#FFA15A\", \"#19d3f3\", \"#FF6692\", \"#B6E880\", \"#FF97FF\", \"#FECB52\"], \"font\": {\"color\": \"#2a3f5f\"}, \"geo\": {\"bgcolor\": \"white\", \"lakecolor\": \"white\", \"landcolor\": \"#E5ECF6\", \"showlakes\": true, \"showland\": true, \"subunitcolor\": \"white\"}, \"hoverlabel\": {\"align\": \"left\"}, \"hovermode\": \"closest\", \"mapbox\": {\"style\": \"light\"}, \"paper_bgcolor\": \"white\", \"plot_bgcolor\": \"#E5ECF6\", \"polar\": {\"angularaxis\": {\"gridcolor\": \"white\", \"linecolor\": \"white\", \"ticks\": \"\"}, \"bgcolor\": \"#E5ECF6\", \"radialaxis\": {\"gridcolor\": \"white\", \"linecolor\": \"white\", \"ticks\": \"\"}}, \"scene\": {\"xaxis\": {\"backgroundcolor\": \"#E5ECF6\", \"gridcolor\": \"white\", \"gridwidth\": 2, \"linecolor\": \"white\", \"showbackground\": true, \"ticks\": \"\", \"zerolinecolor\": \"white\"}, \"yaxis\": {\"backgroundcolor\": \"#E5ECF6\", \"gridcolor\": \"white\", \"gridwidth\": 2, \"linecolor\": \"white\", \"showbackground\": true, \"ticks\": \"\", \"zerolinecolor\": \"white\"}, \"zaxis\": {\"backgroundcolor\": \"#E5ECF6\", \"gridcolor\": \"white\", \"gridwidth\": 2, \"linecolor\": \"white\", \"showbackground\": true, \"ticks\": \"\", \"zerolinecolor\": \"white\"}}, \"shapedefaults\": {\"line\": {\"color\": \"#2a3f5f\"}}, \"ternary\": {\"aaxis\": {\"gridcolor\": \"white\", \"linecolor\": \"white\", \"ticks\": \"\"}, \"baxis\": {\"gridcolor\": \"white\", \"linecolor\": \"white\", \"ticks\": \"\"}, \"bgcolor\": \"#E5ECF6\", \"caxis\": {\"gridcolor\": \"white\", \"linecolor\": \"white\", \"ticks\": \"\"}}, \"title\": {\"x\": 0.05}, \"xaxis\": {\"automargin\": true, \"gridcolor\": \"white\", \"linecolor\": \"white\", \"ticks\": \"\", \"title\": {\"standoff\": 15}, \"zerolinecolor\": \"white\", \"zerolinewidth\": 2}, \"yaxis\": {\"automargin\": true, \"gridcolor\": \"white\", \"linecolor\": \"white\", \"ticks\": \"\", \"title\": {\"standoff\": 15}, \"zerolinecolor\": \"white\", \"zerolinewidth\": 2}}}, \"updatemenus\": [{\"buttons\": [{\"args\": [null, {\"frame\": {\"duration\": 500, \"redraw\": false}, \"fromcurrent\": true, \"mode\": \"immediate\", \"transition\": {\"duration\": 500, \"easing\": \"linear\"}}], \"label\": \"&#9654;\", \"method\": \"animate\"}, {\"args\": [[null], {\"frame\": {\"duration\": 0, \"redraw\": false}, \"fromcurrent\": true, \"mode\": \"immediate\", \"transition\": {\"duration\": 0, \"easing\": \"linear\"}}], \"label\": \"&#9724;\", \"method\": \"animate\"}], \"direction\": \"left\", \"pad\": {\"r\": 10, \"t\": 70}, \"showactive\": false, \"type\": \"buttons\", \"x\": 0.1, \"xanchor\": \"right\", \"y\": 0, \"yanchor\": \"top\"}], \"xaxis\": {\"anchor\": \"y\", \"domain\": [0.0, 1.0], \"range\": [-0.7745231331423307, 0.5908129677130899], \"title\": {\"text\": \"0\"}}, \"yaxis\": {\"anchor\": \"x\", \"domain\": [0.0, 1.0], \"range\": [-0.635892375349347, 0.16410762465065304], \"title\": {\"text\": \"1\"}}},\n",
       "                        {\"responsive\": true}\n",
       "                    ).then(function(){\n",
       "                            Plotly.addFrames('6bedf21d-71e1-4359-9a8b-458f9b6009ba', [{\"data\": [{\"hovertemplate\": \"<b>%{hovertext}</b><br><br>partisan=right<br>animation_frame=2019-01-01<br>0=%{x}<br>1=%{y}<br>subreddit=%{text}<extra></extra>\", \"hovertext\": [\"Capitalism\", \"ShitPoliticsSays\", \"Conservative\", \"The_Donald\", \"progun\", \"Republican\"], \"ids\": [\"Capitalism\", \"ShitPoliticsSays\", \"Conservative\", \"The_Donald\", \"progun\", \"Republican\"], \"legendgroup\": \"right\", \"marker\": {\"color\": \"red\", \"opacity\": 0.7, \"symbol\": \"circle\"}, \"mode\": \"markers+text\", \"name\": \"right\", \"orientation\": \"v\", \"showlegend\": true, \"text\": [\"Capitalism\", \"ShitPoliticsSays\", \"Conservative\", \"The_Donald\", \"progun\", \"Republican\"], \"x\": [-0.04585725233534766, 0.03540887750605267, -0.11033878074749787, 0.010730325162046674, -0.0371126384846732, -0.15455049432472873], \"xaxis\": \"x\", \"y\": [-0.2008886183642226, -0.13592078244735648, -0.10767129958970058, 0.0023110108119151515, -0.044549995635221856, -0.1087425610250676], \"yaxis\": \"y\", \"type\": \"scatter\"}, {\"hovertemplate\": \"<b>%{hovertext}</b><br><br>partisan=left<br>animation_frame=2019-01-01<br>0=%{x}<br>1=%{y}<br>subreddit=%{text}<extra></extra>\", \"hovertext\": [\"JoeBiden\", \"SocialDemocracy\", \"BaemyKlobaechar\", \"demsocialist\", \"ConservativeDemocrat\", \"progressive\", \"ElizabethWarren\", \"moderatepolitics\", \"SandersForPresident\", \"centerleftpolitics\", \"Pete_Buttigieg\", \"YangForPresidentHQ\", \"politics\", \"ChapoTrapHouse\"], \"ids\": [\"JoeBiden\", \"SocialDemocracy\", \"BaemyKlobaechar\", \"demsocialist\", \"ConservativeDemocrat\", \"progressive\", \"ElizabethWarren\", \"moderatepolitics\", \"SandersForPresident\", \"centerleftpolitics\", \"Pete_Buttigieg\", \"YangForPresidentHQ\", \"politics\", \"ChapoTrapHouse\"], \"legendgroup\": \"left\", \"marker\": {\"color\": \"blue\", \"opacity\": 0.7, \"symbol\": \"circle\"}, \"mode\": \"markers+text\", \"name\": \"left\", \"orientation\": \"v\", \"showlegend\": true, \"text\": [\"JoeBiden\", \"SocialDemocracy\", \"BaemyKlobaechar\", \"demsocialist\", \"ConservativeDemocrat\", \"progressive\", \"ElizabethWarren\", \"moderatepolitics\", \"SandersForPresident\", \"centerleftpolitics\", \"Pete_Buttigieg\", \"YangForPresidentHQ\", \"politics\", \"ChapoTrapHouse\"], \"x\": [-0.06337489383710997, -0.15212748894709116, -0.23676540301387794, -0.295667118589856, -0.2121181694157491, -0.17666967049507606, -0.311068788653573, -0.15319040018062585, -0.14923355089163937, -0.057755665666370255, -0.24751500561738116, -0.22403419640853364, -0.23444986120490371, -0.004020433734454635], \"xaxis\": \"x\", \"y\": [-0.21637352140207725, -0.20799278326796675, -0.2367765578888599, -0.15969017965001422, -0.3150409916631492, -0.06887378672456379, -0.09440006360993329, -0.11469558077264091, -0.08163002125517035, -0.11768716894428984, -0.23329080045153844, -0.06329380258174527, -0.08941002632903215, -0.1033036888625591], \"yaxis\": \"y\", \"type\": \"scatter\"}], \"name\": \"2019-01-01\"}, {\"data\": [{\"hovertemplate\": \"<b>%{hovertext}</b><br><br>partisan=right<br>animation_frame=2019-02-01<br>0=%{x}<br>1=%{y}<br>subreddit=%{text}<extra></extra>\", \"hovertext\": [\"Capitalism\", \"ShitPoliticsSays\", \"Conservative\", \"The_Donald\", \"progun\", \"Republican\"], \"ids\": [\"Capitalism\", \"ShitPoliticsSays\", \"Conservative\", \"The_Donald\", \"progun\", \"Republican\"], \"legendgroup\": \"right\", \"marker\": {\"color\": \"red\", \"opacity\": 0.7, \"symbol\": \"circle\"}, \"mode\": \"markers+text\", \"name\": \"right\", \"orientation\": \"v\", \"showlegend\": true, \"text\": [\"Capitalism\", \"ShitPoliticsSays\", \"Conservative\", \"The_Donald\", \"progun\", \"Republican\"], \"x\": [-0.061997461880829094, 0.025539385435845482, -0.09584895105118672, 0.012105943944463099, -0.03889196644657948, -0.11270536066652244], \"xaxis\": \"x\", \"y\": [-0.1398625811708362, -0.12667994785473075, -0.11599070295417639, -0.012716687648403485, -0.06347061094041749, -0.08039020164725946], \"yaxis\": \"y\", \"type\": \"scatter\"}, {\"hovertemplate\": \"<b>%{hovertext}</b><br><br>partisan=left<br>animation_frame=2019-02-01<br>0=%{x}<br>1=%{y}<br>subreddit=%{text}<extra></extra>\", \"hovertext\": [\"JoeBiden\", \"SocialDemocracy\", \"BaemyKlobaechar\", \"demsocialist\", \"ConservativeDemocrat\", \"progressive\", \"ElizabethWarren\", \"moderatepolitics\", \"SandersForPresident\", \"centerleftpolitics\", \"Pete_Buttigieg\", \"YangForPresidentHQ\", \"politics\", \"ChapoTrapHouse\"], \"ids\": [\"JoeBiden\", \"SocialDemocracy\", \"BaemyKlobaechar\", \"demsocialist\", \"ConservativeDemocrat\", \"progressive\", \"ElizabethWarren\", \"moderatepolitics\", \"SandersForPresident\", \"centerleftpolitics\", \"Pete_Buttigieg\", \"YangForPresidentHQ\", \"politics\", \"ChapoTrapHouse\"], \"legendgroup\": \"left\", \"marker\": {\"color\": \"blue\", \"opacity\": 0.7, \"symbol\": \"circle\"}, \"mode\": \"markers+text\", \"name\": \"left\", \"orientation\": \"v\", \"showlegend\": true, \"text\": [\"JoeBiden\", \"SocialDemocracy\", \"BaemyKlobaechar\", \"demsocialist\", \"ConservativeDemocrat\", \"progressive\", \"ElizabethWarren\", \"moderatepolitics\", \"SandersForPresident\", \"centerleftpolitics\", \"Pete_Buttigieg\", \"YangForPresidentHQ\", \"politics\", \"ChapoTrapHouse\"], \"x\": [-0.11898304047548208, -0.09702184458344064, -0.2298447861092821, -0.238965232463333, -0.306378785621226, -0.16601413306325719, -0.21699732112745884, -0.18719083283726828, -0.13934456702066844, -0.05804399876265809, -0.42856701832127025, -0.15762614995418534, -0.2307432163014232, 0.0170362412841977], \"xaxis\": \"x\", \"y\": [-0.21116355711595955, -0.17056260868088938, -0.153834381164743, -0.179444398370731, -0.2452856734360175, -0.060927540859073454, -0.13385794013968216, -0.16403321486938066, -0.09722922122463257, -0.07863480545493032, -0.14643303829907614, -0.07431108671974697, -0.10333457482190807, -0.1018347618075487], \"yaxis\": \"y\", \"type\": \"scatter\"}], \"name\": \"2019-02-01\"}, {\"data\": [{\"hovertemplate\": \"<b>%{hovertext}</b><br><br>partisan=right<br>animation_frame=2019-03-01<br>0=%{x}<br>1=%{y}<br>subreddit=%{text}<extra></extra>\", \"hovertext\": [\"Capitalism\", \"ShitPoliticsSays\", \"Conservative\", \"The_Donald\", \"progun\", \"Republican\"], \"ids\": [\"Capitalism\", \"ShitPoliticsSays\", \"Conservative\", \"The_Donald\", \"progun\", \"Republican\"], \"legendgroup\": \"right\", \"marker\": {\"color\": \"red\", \"opacity\": 0.7, \"symbol\": \"circle\"}, \"mode\": \"markers+text\", \"name\": \"right\", \"orientation\": \"v\", \"showlegend\": true, \"text\": [\"Capitalism\", \"ShitPoliticsSays\", \"Conservative\", \"The_Donald\", \"progun\", \"Republican\"], \"x\": [-0.07844610009957546, 0.0381771246897314, -0.1100644392181716, 0.025020325537394587, -0.010531846830195785, -0.10410361527144979], \"xaxis\": \"x\", \"y\": [-0.18600185447517686, -0.13135439032718702, -0.11365809824278454, -0.021079844072566353, -0.11287940711318258, -0.08332240441954386], \"yaxis\": \"y\", \"type\": \"scatter\"}, {\"hovertemplate\": \"<b>%{hovertext}</b><br><br>partisan=left<br>animation_frame=2019-03-01<br>0=%{x}<br>1=%{y}<br>subreddit=%{text}<extra></extra>\", \"hovertext\": [\"JoeBiden\", \"SocialDemocracy\", \"BaemyKlobaechar\", \"demsocialist\", \"ConservativeDemocrat\", \"progressive\", \"ElizabethWarren\", \"moderatepolitics\", \"SandersForPresident\", \"centerleftpolitics\", \"Pete_Buttigieg\", \"YangForPresidentHQ\", \"politics\", \"ChapoTrapHouse\"], \"ids\": [\"JoeBiden\", \"SocialDemocracy\", \"BaemyKlobaechar\", \"demsocialist\", \"ConservativeDemocrat\", \"progressive\", \"ElizabethWarren\", \"moderatepolitics\", \"SandersForPresident\", \"centerleftpolitics\", \"Pete_Buttigieg\", \"YangForPresidentHQ\", \"politics\", \"ChapoTrapHouse\"], \"legendgroup\": \"left\", \"marker\": {\"color\": \"blue\", \"opacity\": 0.7, \"symbol\": \"circle\"}, \"mode\": \"markers+text\", \"name\": \"left\", \"orientation\": \"v\", \"showlegend\": true, \"text\": [\"JoeBiden\", \"SocialDemocracy\", \"BaemyKlobaechar\", \"demsocialist\", \"ConservativeDemocrat\", \"progressive\", \"ElizabethWarren\", \"moderatepolitics\", \"SandersForPresident\", \"centerleftpolitics\", \"Pete_Buttigieg\", \"YangForPresidentHQ\", \"politics\", \"ChapoTrapHouse\"], \"x\": [-0.38194826052422687, -0.13304994962992134, -0.4745231331423307, -0.25961606597150005, -0.34291780880217015, -0.1860468819517335, -0.2867735849349205, -0.15908149578398761, -0.11496045045994036, -0.06399298802578408, -0.1773025198904095, -0.054491017348317336, -0.2152521486634108, 0.010862996504125332], \"xaxis\": \"x\", \"y\": [-0.07709984420970749, -0.24263720055914348, -0.13958453735984538, -0.1988675307556995, -0.1815771229968338, -0.029825263202150606, -0.12068905934283822, -0.1459660702309585, -0.12135651612748813, -0.07648316675698091, -0.002448970644495224, -0.09822229458198256, -0.11492078755570144, -0.14276300262581473], \"yaxis\": \"y\", \"type\": \"scatter\"}], \"name\": \"2019-03-01\"}, {\"data\": [{\"hovertemplate\": \"<b>%{hovertext}</b><br><br>partisan=right<br>animation_frame=2019-04-01<br>0=%{x}<br>1=%{y}<br>subreddit=%{text}<extra></extra>\", \"hovertext\": [\"Republican\", \"progun\", \"The_Donald\", \"Conservative\", \"ShitPoliticsSays\", \"Capitalism\"], \"ids\": [\"Republican\", \"progun\", \"The_Donald\", \"Conservative\", \"ShitPoliticsSays\", \"Capitalism\"], \"legendgroup\": \"right\", \"marker\": {\"color\": \"red\", \"opacity\": 0.7, \"symbol\": \"circle\"}, \"mode\": \"markers+text\", \"name\": \"right\", \"orientation\": \"v\", \"showlegend\": true, \"text\": [\"Republican\", \"progun\", \"The_Donald\", \"Conservative\", \"ShitPoliticsSays\", \"Capitalism\"], \"x\": [-0.11945202123815929, -0.0059430834675126285, 0.01769040016960324, -0.0912506837705324, 0.03192874991204098, -0.05530477115372134], \"xaxis\": \"x\", \"y\": [-0.06970138081386514, -0.06744108919265239, -0.00890379941533993, -0.15613637064281688, -0.16420630830416602, -0.1418986226503178], \"yaxis\": \"y\", \"type\": \"scatter\"}, {\"hovertemplate\": \"<b>%{hovertext}</b><br><br>partisan=left<br>animation_frame=2019-04-01<br>0=%{x}<br>1=%{y}<br>subreddit=%{text}<extra></extra>\", \"hovertext\": [\"ChapoTrapHouse\", \"politics\", \"YangForPresidentHQ\", \"Pete_Buttigieg\", \"centerleftpolitics\", \"SandersForPresident\", \"moderatepolitics\", \"ElizabethWarren\", \"progressive\", \"ConservativeDemocrat\", \"demsocialist\", \"BaemyKlobaechar\", \"SocialDemocracy\", \"JoeBiden\"], \"ids\": [\"ChapoTrapHouse\", \"politics\", \"YangForPresidentHQ\", \"Pete_Buttigieg\", \"centerleftpolitics\", \"SandersForPresident\", \"moderatepolitics\", \"ElizabethWarren\", \"progressive\", \"ConservativeDemocrat\", \"demsocialist\", \"BaemyKlobaechar\", \"SocialDemocracy\", \"JoeBiden\"], \"legendgroup\": \"left\", \"marker\": {\"color\": \"blue\", \"opacity\": 0.7, \"symbol\": \"circle\"}, \"mode\": \"markers+text\", \"name\": \"left\", \"orientation\": \"v\", \"showlegend\": true, \"text\": [\"ChapoTrapHouse\", \"politics\", \"YangForPresidentHQ\", \"Pete_Buttigieg\", \"centerleftpolitics\", \"SandersForPresident\", \"moderatepolitics\", \"ElizabethWarren\", \"progressive\", \"ConservativeDemocrat\", \"demsocialist\", \"BaemyKlobaechar\", \"SocialDemocracy\", \"JoeBiden\"], \"x\": [0.01773975999557078, -0.20393860962004148, -0.07233928148321514, -0.20556194009546422, -0.06312111959772995, -0.11325129152432716, -0.17107283231838644, -0.21757354200047332, -0.21616539853553995, -0.26305000659467487, -0.28494295213739523, -0.28370343061154474, -0.13125915538881452, -0.26168770147886306], \"xaxis\": \"x\", \"y\": [-0.13434918731958695, -0.1126577796838235, -0.10029339227864127, -0.0792887060290091, -0.10544979855159561, -0.10371313618763686, -0.1464400377223519, -0.07125337044201421, -0.06302150507985495, -0.23120824379680294, -0.13943083631224668, -0.21996485755541662, -0.2483785355655763, -0.0526767031001075], \"yaxis\": \"y\", \"type\": \"scatter\"}], \"name\": \"2019-04-01\"}, {\"data\": [{\"hovertemplate\": \"<b>%{hovertext}</b><br><br>partisan=right<br>animation_frame=2019-05-01<br>0=%{x}<br>1=%{y}<br>subreddit=%{text}<extra></extra>\", \"hovertext\": [\"Capitalism\", \"ShitPoliticsSays\", \"Conservative\", \"The_Donald\", \"progun\", \"Republican\"], \"ids\": [\"Capitalism\", \"ShitPoliticsSays\", \"Conservative\", \"The_Donald\", \"progun\", \"Republican\"], \"legendgroup\": \"right\", \"marker\": {\"color\": \"red\", \"opacity\": 0.7, \"symbol\": \"circle\"}, \"mode\": \"markers+text\", \"name\": \"right\", \"orientation\": \"v\", \"showlegend\": true, \"text\": [\"Capitalism\", \"ShitPoliticsSays\", \"Conservative\", \"The_Donald\", \"progun\", \"Republican\"], \"x\": [-0.04657126251792544, 0.02293647748244565, -0.10085678343765826, 0.0308333652591896, -0.017806374582943187, -0.1258661722998303], \"xaxis\": \"x\", \"y\": [-0.16137328330003198, -0.1719587450758224, -0.16060775485508083, -0.03021388757333093, -0.09386147163245664, -0.03716889060323342], \"yaxis\": \"y\", \"type\": \"scatter\"}, {\"hovertemplate\": \"<b>%{hovertext}</b><br><br>partisan=left<br>animation_frame=2019-05-01<br>0=%{x}<br>1=%{y}<br>subreddit=%{text}<extra></extra>\", \"hovertext\": [\"JoeBiden\", \"SocialDemocracy\", \"BaemyKlobaechar\", \"demsocialist\", \"ConservativeDemocrat\", \"progressive\", \"ElizabethWarren\", \"moderatepolitics\", \"SandersForPresident\", \"centerleftpolitics\", \"Pete_Buttigieg\", \"YangForPresidentHQ\", \"politics\", \"ChapoTrapHouse\"], \"ids\": [\"JoeBiden\", \"SocialDemocracy\", \"BaemyKlobaechar\", \"demsocialist\", \"ConservativeDemocrat\", \"progressive\", \"ElizabethWarren\", \"moderatepolitics\", \"SandersForPresident\", \"centerleftpolitics\", \"Pete_Buttigieg\", \"YangForPresidentHQ\", \"politics\", \"ChapoTrapHouse\"], \"legendgroup\": \"left\", \"marker\": {\"color\": \"blue\", \"opacity\": 0.7, \"symbol\": \"circle\"}, \"mode\": \"markers+text\", \"name\": \"left\", \"orientation\": \"v\", \"showlegend\": true, \"text\": [\"JoeBiden\", \"SocialDemocracy\", \"BaemyKlobaechar\", \"demsocialist\", \"ConservativeDemocrat\", \"progressive\", \"ElizabethWarren\", \"moderatepolitics\", \"SandersForPresident\", \"centerleftpolitics\", \"Pete_Buttigieg\", \"YangForPresidentHQ\", \"politics\", \"ChapoTrapHouse\"], \"x\": [-0.19919669094374953, -0.13156310140213973, -0.23577128993687477, -0.2744647840571482, -0.4118891286864541, -0.18728234950899958, -0.21085629335620615, -0.16058311258523125, -0.1436420787412524, -0.036656922222842794, -0.18748315283175548, -0.05598141950358594, -0.2065044923441954, 0.02456048198962305], \"xaxis\": \"x\", \"y\": [-0.0364352734313567, -0.2356587065596596, -0.10361103738740737, -0.23301241824392593, -0.2422678137038029, -0.09289337520867738, -0.08908170925824369, -0.14751811502638515, -0.08584125713042734, -0.10919674727519595, -0.05515862736385279, -0.10423040563969332, -0.09711702885727161, -0.14268312079751244], \"yaxis\": \"y\", \"type\": \"scatter\"}], \"name\": \"2019-05-01\"}, {\"data\": [{\"hovertemplate\": \"<b>%{hovertext}</b><br><br>partisan=right<br>animation_frame=2019-06-01<br>0=%{x}<br>1=%{y}<br>subreddit=%{text}<extra></extra>\", \"hovertext\": [\"Republican\", \"progun\", \"The_Donald\", \"Conservative\", \"ShitPoliticsSays\", \"Capitalism\"], \"ids\": [\"Republican\", \"progun\", \"The_Donald\", \"Conservative\", \"ShitPoliticsSays\", \"Capitalism\"], \"legendgroup\": \"right\", \"marker\": {\"color\": \"red\", \"opacity\": 0.7, \"symbol\": \"circle\"}, \"mode\": \"markers+text\", \"name\": \"right\", \"orientation\": \"v\", \"showlegend\": true, \"text\": [\"Republican\", \"progun\", \"The_Donald\", \"Conservative\", \"ShitPoliticsSays\", \"Capitalism\"], \"x\": [-0.1280181249900003, -0.015372095620384147, 0.026434596088826114, -0.06992493064771126, 0.024307887689097418, -0.09188671245211555], \"xaxis\": \"x\", \"y\": [-0.04513987838305945, -0.07644545045329988, -0.021475876937890076, -0.13604732595858837, -0.15374396403830698, -0.17195181719652644], \"yaxis\": \"y\", \"type\": \"scatter\"}, {\"hovertemplate\": \"<b>%{hovertext}</b><br><br>partisan=left<br>animation_frame=2019-06-01<br>0=%{x}<br>1=%{y}<br>subreddit=%{text}<extra></extra>\", \"hovertext\": [\"ChapoTrapHouse\", \"politics\", \"YangForPresidentHQ\", \"Pete_Buttigieg\", \"centerleftpolitics\", \"SandersForPresident\", \"moderatepolitics\", \"ElizabethWarren\", \"progressive\", \"ConservativeDemocrat\", \"demsocialist\", \"BaemyKlobaechar\", \"SocialDemocracy\", \"JoeBiden\"], \"ids\": [\"ChapoTrapHouse\", \"politics\", \"YangForPresidentHQ\", \"Pete_Buttigieg\", \"centerleftpolitics\", \"SandersForPresident\", \"moderatepolitics\", \"ElizabethWarren\", \"progressive\", \"ConservativeDemocrat\", \"demsocialist\", \"BaemyKlobaechar\", \"SocialDemocracy\", \"JoeBiden\"], \"legendgroup\": \"left\", \"marker\": {\"color\": \"blue\", \"opacity\": 0.7, \"symbol\": \"circle\"}, \"mode\": \"markers+text\", \"name\": \"left\", \"orientation\": \"v\", \"showlegend\": true, \"text\": [\"ChapoTrapHouse\", \"politics\", \"YangForPresidentHQ\", \"Pete_Buttigieg\", \"centerleftpolitics\", \"SandersForPresident\", \"moderatepolitics\", \"ElizabethWarren\", \"progressive\", \"ConservativeDemocrat\", \"demsocialist\", \"BaemyKlobaechar\", \"SocialDemocracy\", \"JoeBiden\"], \"x\": [0.03774976724864441, -0.191523882324747, -0.06913894377637621, -0.14891741361388044, -0.055962905442988674, -0.1364950581636551, -0.1512337691361713, -0.19531217679878876, -0.20024326635411702, -0.3069751068161798, -0.15319242867765706, -0.19843988228432982, -0.03587681622839538, -0.17691720891121612], \"xaxis\": \"x\", \"y\": [-0.14425642075774897, -0.11347559856887275, -0.10517687191021523, -0.049176500795539944, -0.11361546054435806, -0.15697068352544644, -0.18223948285039077, -0.07899406259693886, -0.10854547558722663, -0.1453115204912007, -0.30740465314445264, -0.1272173968065367, -0.243283250517096, -0.08120618738273924], \"yaxis\": \"y\", \"type\": \"scatter\"}], \"name\": \"2019-06-01\"}, {\"data\": [{\"hovertemplate\": \"<b>%{hovertext}</b><br><br>partisan=right<br>animation_frame=2019-07-01<br>0=%{x}<br>1=%{y}<br>subreddit=%{text}<extra></extra>\", \"hovertext\": [\"Republican\", \"progun\", \"The_Donald\", \"Conservative\", \"ShitPoliticsSays\", \"Capitalism\"], \"ids\": [\"Republican\", \"progun\", \"The_Donald\", \"Conservative\", \"ShitPoliticsSays\", \"Capitalism\"], \"legendgroup\": \"right\", \"marker\": {\"color\": \"red\", \"opacity\": 0.7, \"symbol\": \"circle\"}, \"mode\": \"markers+text\", \"name\": \"right\", \"orientation\": \"v\", \"showlegend\": true, \"text\": [\"Republican\", \"progun\", \"The_Donald\", \"Conservative\", \"ShitPoliticsSays\", \"Capitalism\"], \"x\": [-0.1148956495143647, 0.0063862957338942285, 0.053290012632629724, -0.0692646156452818, 0.018461919148130085, -0.04019869622689879], \"xaxis\": \"x\", \"y\": [-0.04330914397560229, -0.09085989123389575, 2.4850341393394783e-05, -0.13765346304714926, -0.1741150692810759, -0.13091974496363387], \"yaxis\": \"y\", \"type\": \"scatter\"}, {\"hovertemplate\": \"<b>%{hovertext}</b><br><br>partisan=left<br>animation_frame=2019-07-01<br>0=%{x}<br>1=%{y}<br>subreddit=%{text}<extra></extra>\", \"hovertext\": [\"ChapoTrapHouse\", \"politics\", \"YangForPresidentHQ\", \"Pete_Buttigieg\", \"centerleftpolitics\", \"SandersForPresident\", \"moderatepolitics\", \"ElizabethWarren\", \"progressive\", \"ConservativeDemocrat\", \"demsocialist\", \"BaemyKlobaechar\", \"SocialDemocracy\", \"JoeBiden\"], \"ids\": [\"ChapoTrapHouse\", \"politics\", \"YangForPresidentHQ\", \"Pete_Buttigieg\", \"centerleftpolitics\", \"SandersForPresident\", \"moderatepolitics\", \"ElizabethWarren\", \"progressive\", \"ConservativeDemocrat\", \"demsocialist\", \"BaemyKlobaechar\", \"SocialDemocracy\", \"JoeBiden\"], \"legendgroup\": \"left\", \"marker\": {\"color\": \"blue\", \"opacity\": 0.7, \"symbol\": \"circle\"}, \"mode\": \"markers+text\", \"name\": \"left\", \"orientation\": \"v\", \"showlegend\": true, \"text\": [\"ChapoTrapHouse\", \"politics\", \"YangForPresidentHQ\", \"Pete_Buttigieg\", \"centerleftpolitics\", \"SandersForPresident\", \"moderatepolitics\", \"ElizabethWarren\", \"progressive\", \"ConservativeDemocrat\", \"demsocialist\", \"BaemyKlobaechar\", \"SocialDemocracy\", \"JoeBiden\"], \"x\": [0.006253781722262281, -0.1834829562593431, -0.09111388270436603, -0.17468485408153087, -0.03846882445475984, -0.1021075688545065, -0.1554430319060007, -0.17925902208693226, -0.20511220990335044, -0.07252262144885938, -0.3343873788241863, -0.4357361348405633, -0.0863909129052745, -0.11701153284636798], \"xaxis\": \"x\", \"y\": [-0.1422382771853774, -0.11733894806319307, -0.1225064586753642, -0.042981470301568944, -0.10233549011005896, -0.12185210197148841, -0.1403565288943285, -0.0936521609459812, -0.08659945150413322, -0.24343463634691856, -0.1717480012762835, -0.07259285126664188, -0.33589237534934696, -0.03955892613138131], \"yaxis\": \"y\", \"type\": \"scatter\"}], \"name\": \"2019-07-01\"}, {\"data\": [{\"hovertemplate\": \"<b>%{hovertext}</b><br><br>partisan=right<br>animation_frame=2019-08-01<br>0=%{x}<br>1=%{y}<br>subreddit=%{text}<extra></extra>\", \"hovertext\": [\"Capitalism\", \"ShitPoliticsSays\", \"Conservative\", \"The_Donald\", \"progun\", \"Republican\"], \"ids\": [\"Capitalism\", \"ShitPoliticsSays\", \"Conservative\", \"The_Donald\", \"progun\", \"Republican\"], \"legendgroup\": \"right\", \"marker\": {\"color\": \"red\", \"opacity\": 0.7, \"symbol\": \"circle\"}, \"mode\": \"markers+text\", \"name\": \"right\", \"orientation\": \"v\", \"showlegend\": true, \"text\": [\"Capitalism\", \"ShitPoliticsSays\", \"Conservative\", \"The_Donald\", \"progun\", \"Republican\"], \"x\": [-0.038233995081443636, 0.04802840325042119, -0.07838777794161068, 0.05375958619040836, 0.0015440311134352711, -0.09222077775457124], \"xaxis\": \"x\", \"y\": [-0.18723789146466194, -0.172127326804737, -0.14849690303693933, 0.0025402137260333367, -0.12387167871704505, -0.06644807745020848], \"yaxis\": \"y\", \"type\": \"scatter\"}, {\"hovertemplate\": \"<b>%{hovertext}</b><br><br>partisan=left<br>animation_frame=2019-08-01<br>0=%{x}<br>1=%{y}<br>subreddit=%{text}<extra></extra>\", \"hovertext\": [\"JoeBiden\", \"SocialDemocracy\", \"BaemyKlobaechar\", \"demsocialist\", \"ConservativeDemocrat\", \"progressive\", \"ElizabethWarren\", \"moderatepolitics\", \"SandersForPresident\", \"centerleftpolitics\", \"Pete_Buttigieg\", \"YangForPresidentHQ\", \"politics\", \"ChapoTrapHouse\"], \"ids\": [\"JoeBiden\", \"SocialDemocracy\", \"BaemyKlobaechar\", \"demsocialist\", \"ConservativeDemocrat\", \"progressive\", \"ElizabethWarren\", \"moderatepolitics\", \"SandersForPresident\", \"centerleftpolitics\", \"Pete_Buttigieg\", \"YangForPresidentHQ\", \"politics\", \"ChapoTrapHouse\"], \"legendgroup\": \"left\", \"marker\": {\"color\": \"blue\", \"opacity\": 0.7, \"symbol\": \"circle\"}, \"mode\": \"markers+text\", \"name\": \"left\", \"orientation\": \"v\", \"showlegend\": true, \"text\": [\"JoeBiden\", \"SocialDemocracy\", \"BaemyKlobaechar\", \"demsocialist\", \"ConservativeDemocrat\", \"progressive\", \"ElizabethWarren\", \"moderatepolitics\", \"SandersForPresident\", \"centerleftpolitics\", \"Pete_Buttigieg\", \"YangForPresidentHQ\", \"politics\", \"ChapoTrapHouse\"], \"x\": [-0.15884943071217275, -0.04811727115884742, -0.4317025092180444, -0.25540435281361673, -0.20940503064446775, -0.14395435645716653, -0.17402773546580116, -0.15018876153180344, -0.15505262036395787, -0.031296780460010144, -0.16788880603569162, -0.07156664706743739, -0.18838528055598325, 0.030043402903598502], \"xaxis\": \"x\", \"y\": [-0.12467821839349603, -0.2709388884810701, -0.12029055585713562, -0.22300801123682043, -0.19847029493400287, -0.08351371971420143, -0.060604399352394596, -0.1478889044803943, -0.15993029598242722, -0.14554208086030979, -0.06813449581005043, -0.11301150887667406, -0.11481046083540222, -0.13543088574265305], \"yaxis\": \"y\", \"type\": \"scatter\"}], \"name\": \"2019-08-01\"}, {\"data\": [{\"hovertemplate\": \"<b>%{hovertext}</b><br><br>partisan=right<br>animation_frame=2019-09-01<br>0=%{x}<br>1=%{y}<br>subreddit=%{text}<extra></extra>\", \"hovertext\": [\"Republican\", \"progun\", \"The_Donald\", \"Conservative\", \"ShitPoliticsSays\", \"Capitalism\"], \"ids\": [\"Republican\", \"progun\", \"The_Donald\", \"Conservative\", \"ShitPoliticsSays\", \"Capitalism\"], \"legendgroup\": \"right\", \"marker\": {\"color\": \"red\", \"opacity\": 0.7, \"symbol\": \"circle\"}, \"mode\": \"markers+text\", \"name\": \"right\", \"orientation\": \"v\", \"showlegend\": true, \"text\": [\"Republican\", \"progun\", \"The_Donald\", \"Conservative\", \"ShitPoliticsSays\", \"Capitalism\"], \"x\": [-0.09456494194291967, 0.0036836193053150826, 0.05616620368120821, -0.08071084098221855, 0.05113126919893944, -0.0359048501078807], \"xaxis\": \"x\", \"y\": [-0.059229846585219396, -0.12941933104467965, 0.005833993507191692, -0.1457346108359629, -0.14619900222446924, -0.15838136036385483], \"yaxis\": \"y\", \"type\": \"scatter\"}, {\"hovertemplate\": \"<b>%{hovertext}</b><br><br>partisan=left<br>animation_frame=2019-09-01<br>0=%{x}<br>1=%{y}<br>subreddit=%{text}<extra></extra>\", \"hovertext\": [\"ChapoTrapHouse\", \"YangForPresidentHQ\", \"Pete_Buttigieg\", \"centerleftpolitics\", \"SandersForPresident\", \"moderatepolitics\", \"ElizabethWarren\", \"progressive\", \"ConservativeDemocrat\", \"demsocialist\", \"BaemyKlobaechar\", \"politics\", \"SocialDemocracy\", \"JoeBiden\"], \"ids\": [\"ChapoTrapHouse\", \"YangForPresidentHQ\", \"Pete_Buttigieg\", \"centerleftpolitics\", \"SandersForPresident\", \"moderatepolitics\", \"ElizabethWarren\", \"progressive\", \"ConservativeDemocrat\", \"demsocialist\", \"BaemyKlobaechar\", \"politics\", \"SocialDemocracy\", \"JoeBiden\"], \"legendgroup\": \"left\", \"marker\": {\"color\": \"blue\", \"opacity\": 0.7, \"symbol\": \"circle\"}, \"mode\": \"markers+text\", \"name\": \"left\", \"orientation\": \"v\", \"showlegend\": true, \"text\": [\"ChapoTrapHouse\", \"YangForPresidentHQ\", \"Pete_Buttigieg\", \"centerleftpolitics\", \"SandersForPresident\", \"moderatepolitics\", \"ElizabethWarren\", \"progressive\", \"ConservativeDemocrat\", \"demsocialist\", \"BaemyKlobaechar\", \"politics\", \"SocialDemocracy\", \"JoeBiden\"], \"x\": [0.03569507289456332, -0.054706096985168644, -0.16632295411822148, -0.05845067798650746, -0.12006177629820974, -0.14955976134021112, -0.2045741971600943, -0.14820653167705736, -0.2675590890404543, -0.25464629386986165, -0.35076400359222143, -0.16533525063789858, -0.07834491284818415, -0.12336090290175922], \"xaxis\": \"x\", \"y\": [-0.13141824613861067, -0.10544364365250894, -0.03198711283767053, -0.10633405036959041, -0.13363554112010875, -0.13890092192305373, -0.06476477988412699, -0.08883261610069158, -0.14657653897280504, -0.28001892136997003, -0.19572665972000192, -0.08700609441887369, -0.224748099837835, -0.08844614604294943], \"yaxis\": \"y\", \"type\": \"scatter\"}], \"name\": \"2019-09-01\"}, {\"data\": [{\"hovertemplate\": \"<b>%{hovertext}</b><br><br>partisan=right<br>animation_frame=2019-10-01<br>0=%{x}<br>1=%{y}<br>subreddit=%{text}<extra></extra>\", \"hovertext\": [\"Capitalism\", \"ShitPoliticsSays\", \"Conservative\", \"The_Donald\", \"progun\", \"Republican\"], \"ids\": [\"Capitalism\", \"ShitPoliticsSays\", \"Conservative\", \"The_Donald\", \"progun\", \"Republican\"], \"legendgroup\": \"right\", \"marker\": {\"color\": \"red\", \"opacity\": 0.7, \"symbol\": \"circle\"}, \"mode\": \"markers+text\", \"name\": \"right\", \"orientation\": \"v\", \"showlegend\": true, \"text\": [\"Capitalism\", \"ShitPoliticsSays\", \"Conservative\", \"The_Donald\", \"progun\", \"Republican\"], \"x\": [-0.03589250367739084, 0.03899849678410829, -0.09374702448066248, 0.0384241324730098, 0.028350003584195073, -0.09404516508314265], \"xaxis\": \"x\", \"y\": [-0.09508957784079382, -0.1581717959497367, -0.10847219248350944, 0.016822234024524853, -0.08972545984999854, -0.01215818804297172], \"yaxis\": \"y\", \"type\": \"scatter\"}, {\"hovertemplate\": \"<b>%{hovertext}</b><br><br>partisan=left<br>animation_frame=2019-10-01<br>0=%{x}<br>1=%{y}<br>subreddit=%{text}<extra></extra>\", \"hovertext\": [\"JoeBiden\", \"SocialDemocracy\", \"BaemyKlobaechar\", \"demsocialist\", \"ConservativeDemocrat\", \"progressive\", \"ElizabethWarren\", \"moderatepolitics\", \"SandersForPresident\", \"centerleftpolitics\", \"Pete_Buttigieg\", \"YangForPresidentHQ\", \"politics\", \"ChapoTrapHouse\"], \"ids\": [\"JoeBiden\", \"SocialDemocracy\", \"BaemyKlobaechar\", \"demsocialist\", \"ConservativeDemocrat\", \"progressive\", \"ElizabethWarren\", \"moderatepolitics\", \"SandersForPresident\", \"centerleftpolitics\", \"Pete_Buttigieg\", \"YangForPresidentHQ\", \"politics\", \"ChapoTrapHouse\"], \"legendgroup\": \"left\", \"marker\": {\"color\": \"blue\", \"opacity\": 0.7, \"symbol\": \"circle\"}, \"mode\": \"markers+text\", \"name\": \"left\", \"orientation\": \"v\", \"showlegend\": true, \"text\": [\"JoeBiden\", \"SocialDemocracy\", \"BaemyKlobaechar\", \"demsocialist\", \"ConservativeDemocrat\", \"progressive\", \"ElizabethWarren\", \"moderatepolitics\", \"SandersForPresident\", \"centerleftpolitics\", \"Pete_Buttigieg\", \"YangForPresidentHQ\", \"politics\", \"ChapoTrapHouse\"], \"x\": [-0.1536739195552229, -0.13470923072592927, -0.42729893741920094, -0.3863019586396594, -0.23815928330884412, -0.20776528873151295, -0.19776508729912964, -0.1402740709133089, -0.13073556816779783, -0.04347323901955297, -0.14388402565019706, -0.0709519344822027, -0.195986949410137, 0.0344945643947761], \"xaxis\": \"x\", \"y\": [-0.04003974975814383, -0.1855232660177257, -0.00997430134004068, -0.24528354630050228, -0.23696985488588695, -0.0004478217808324085, -0.10542839419976056, -0.11981281035201961, -0.13234252979088026, -0.14624801140906457, -0.067715113789936, -0.12435353084566118, -0.11088465395890129, -0.12662314771949887], \"yaxis\": \"y\", \"type\": \"scatter\"}], \"name\": \"2019-10-01\"}, {\"data\": [{\"hovertemplate\": \"<b>%{hovertext}</b><br><br>partisan=right<br>animation_frame=2019-11-01<br>0=%{x}<br>1=%{y}<br>subreddit=%{text}<extra></extra>\", \"hovertext\": [\"Capitalism\", \"ShitPoliticsSays\", \"Conservative\", \"The_Donald\", \"progun\", \"Republican\"], \"ids\": [\"Capitalism\", \"ShitPoliticsSays\", \"Conservative\", \"The_Donald\", \"progun\", \"Republican\"], \"legendgroup\": \"right\", \"marker\": {\"color\": \"red\", \"opacity\": 0.7, \"symbol\": \"circle\"}, \"mode\": \"markers+text\", \"name\": \"right\", \"orientation\": \"v\", \"showlegend\": true, \"text\": [\"Capitalism\", \"ShitPoliticsSays\", \"Conservative\", \"The_Donald\", \"progun\", \"Republican\"], \"x\": [-0.08513058210782923, 0.09081296771308991, -0.0896926044067586, 0.0499620440063098, 0.031232606583258434, -0.10363521750814755], \"xaxis\": \"x\", \"y\": [-0.145785237607476, -0.1379016327198036, -0.09901796343638958, 0.03214978258537299, -0.12240007318776652, -0.012347883038503616], \"yaxis\": \"y\", \"type\": \"scatter\"}, {\"hovertemplate\": \"<b>%{hovertext}</b><br><br>partisan=left<br>animation_frame=2019-11-01<br>0=%{x}<br>1=%{y}<br>subreddit=%{text}<extra></extra>\", \"hovertext\": [\"JoeBiden\", \"SocialDemocracy\", \"BaemyKlobaechar\", \"demsocialist\", \"ConservativeDemocrat\", \"progressive\", \"ElizabethWarren\", \"moderatepolitics\", \"SandersForPresident\", \"centerleftpolitics\", \"Pete_Buttigieg\", \"YangForPresidentHQ\", \"politics\", \"ChapoTrapHouse\"], \"ids\": [\"JoeBiden\", \"SocialDemocracy\", \"BaemyKlobaechar\", \"demsocialist\", \"ConservativeDemocrat\", \"progressive\", \"ElizabethWarren\", \"moderatepolitics\", \"SandersForPresident\", \"centerleftpolitics\", \"Pete_Buttigieg\", \"YangForPresidentHQ\", \"politics\", \"ChapoTrapHouse\"], \"legendgroup\": \"left\", \"marker\": {\"color\": \"blue\", \"opacity\": 0.7, \"symbol\": \"circle\"}, \"mode\": \"markers+text\", \"name\": \"left\", \"orientation\": \"v\", \"showlegend\": true, \"text\": [\"JoeBiden\", \"SocialDemocracy\", \"BaemyKlobaechar\", \"demsocialist\", \"ConservativeDemocrat\", \"progressive\", \"ElizabethWarren\", \"moderatepolitics\", \"SandersForPresident\", \"centerleftpolitics\", \"Pete_Buttigieg\", \"YangForPresidentHQ\", \"politics\", \"ChapoTrapHouse\"], \"x\": [-0.1584109522067531, -0.11287196050399546, -0.22778339545604198, -0.19939381446014548, -0.3136499288705962, -0.1571203106900487, -0.18727868805089598, -0.15017681358762236, -0.13510997551049045, -0.08143264253763649, -0.17040546299446402, -0.04557471134604499, -0.20602842922904804, 0.033255479897058245], \"xaxis\": \"x\", \"y\": [-0.10250632240665608, -0.2197395450460287, -0.16070642103197225, -0.19303396774775344, -0.2727634595073876, -0.04862736358308831, -0.07090148277888819, -0.10518021009351054, -0.12871304025905705, -0.09509793109605745, -0.05168192224322711, -0.0903517262666367, -0.07445460112399521, -0.11673899119141962], \"yaxis\": \"y\", \"type\": \"scatter\"}], \"name\": \"2019-11-01\"}, {\"data\": [{\"hovertemplate\": \"<b>%{hovertext}</b><br><br>partisan=right<br>animation_frame=2019-12-01<br>0=%{x}<br>1=%{y}<br>subreddit=%{text}<extra></extra>\", \"hovertext\": [\"Capitalism\", \"ShitPoliticsSays\", \"Conservative\", \"The_Donald\", \"progun\", \"Republican\"], \"ids\": [\"Capitalism\", \"ShitPoliticsSays\", \"Conservative\", \"The_Donald\", \"progun\", \"Republican\"], \"legendgroup\": \"right\", \"marker\": {\"color\": \"red\", \"opacity\": 0.7, \"symbol\": \"circle\"}, \"mode\": \"markers+text\", \"name\": \"right\", \"orientation\": \"v\", \"showlegend\": true, \"text\": [\"Capitalism\", \"ShitPoliticsSays\", \"Conservative\", \"The_Donald\", \"progun\", \"Republican\"], \"x\": [-0.02461422221027372, 0.05339414896197427, -0.05310213316535713, 0.04268879716010522, 0.03730097282799604, -0.06780862948097084], \"xaxis\": \"x\", \"y\": [-0.1459623691603253, -0.12826335636781797, -0.09746491596257362, 0.013734036042203414, -0.09979801568586497, -0.015534715672700369], \"yaxis\": \"y\", \"type\": \"scatter\"}, {\"hovertemplate\": \"<b>%{hovertext}</b><br><br>partisan=left<br>animation_frame=2019-12-01<br>0=%{x}<br>1=%{y}<br>subreddit=%{text}<extra></extra>\", \"hovertext\": [\"JoeBiden\", \"SocialDemocracy\", \"BaemyKlobaechar\", \"demsocialist\", \"ConservativeDemocrat\", \"progressive\", \"ElizabethWarren\", \"moderatepolitics\", \"SandersForPresident\", \"centerleftpolitics\", \"Pete_Buttigieg\", \"YangForPresidentHQ\", \"politics\", \"ChapoTrapHouse\"], \"ids\": [\"JoeBiden\", \"SocialDemocracy\", \"BaemyKlobaechar\", \"demsocialist\", \"ConservativeDemocrat\", \"progressive\", \"ElizabethWarren\", \"moderatepolitics\", \"SandersForPresident\", \"centerleftpolitics\", \"Pete_Buttigieg\", \"YangForPresidentHQ\", \"politics\", \"ChapoTrapHouse\"], \"legendgroup\": \"left\", \"marker\": {\"color\": \"blue\", \"opacity\": 0.7, \"symbol\": \"circle\"}, \"mode\": \"markers+text\", \"name\": \"left\", \"orientation\": \"v\", \"showlegend\": true, \"text\": [\"JoeBiden\", \"SocialDemocracy\", \"BaemyKlobaechar\", \"demsocialist\", \"ConservativeDemocrat\", \"progressive\", \"ElizabethWarren\", \"moderatepolitics\", \"SandersForPresident\", \"centerleftpolitics\", \"Pete_Buttigieg\", \"YangForPresidentHQ\", \"politics\", \"ChapoTrapHouse\"], \"x\": [-0.12733515167793816, -0.05317186824319942, -0.28214844901258673, -0.4351331192970314, -0.24172010649756756, -0.1832894047716046, -0.19099190633108049, -0.16092599262476895, -0.1314442215584346, -0.08154314950058161, -0.17088608750081913, -0.09384912090803416, -0.2010252170248198, 0.02184333913143352], \"xaxis\": \"x\", \"y\": [-0.04609037425686547, -0.23123540212389285, -0.16569872232203967, -0.12347288724796716, -0.2559595766496989, -0.056712134383403626, -0.06849577126037291, -0.11747576181741036, -0.1303349310741239, -0.13550930803879713, -0.09013224966922403, -0.11000841094492883, -0.10014850828035347, -0.13005914275027478], \"yaxis\": \"y\", \"type\": \"scatter\"}], \"name\": \"2019-12-01\"}]);\n",
       "                        }).then(function(){\n",
       "                            \n",
       "var gd = document.getElementById('6bedf21d-71e1-4359-9a8b-458f9b6009ba');\n",
       "var x = new MutationObserver(function (mutations, observer) {{\n",
       "        var display = window.getComputedStyle(gd).display;\n",
       "        if (!display || display === 'none') {{\n",
       "            console.log([gd, 'removed!']);\n",
       "            Plotly.purge(gd);\n",
       "            observer.disconnect();\n",
       "        }}\n",
       "}});\n",
       "\n",
       "// Listen for the removal of the full notebook cells\n",
       "var notebookContainer = gd.closest('#notebook-container');\n",
       "if (notebookContainer) {{\n",
       "    x.observe(notebookContainer, {childList: true});\n",
       "}}\n",
       "\n",
       "// Listen for the clearing of the current output cell\n",
       "var outputEl = gd.closest('.output');\n",
       "if (outputEl) {{\n",
       "    x.observe(outputEl, {childList: true});\n",
       "}}\n",
       "\n",
       "                        })\n",
       "                };\n",
       "                });\n",
       "            </script>\n",
       "        </div>"
      ]
     },
     "metadata": {},
     "output_type": "display_data"
    }
   ],
   "source": [
    "(max_x, max_y), (min_x, min_y) = two_dim[[0,1]].max(axis=0), two_dim[[0,1]].min(axis=0)\n",
    "args = {\n",
    "    \"x\": 0,\n",
    "    \"y\": 1,\n",
    "    \"hover_name\": \"subreddit\",\n",
    "    \"text\": \"subreddit\",\n",
    "    \"opacity\": 0.7,\n",
    "    \"color\": \"partisan\",\n",
    "    \"animation_frame\": two_dim.week.astype(str),\n",
    "    \"animation_group\": \"subreddit\",\n",
    "    \"range_x\": [min_x-0.3,max_x+0.5],\n",
    "    \"range_y\": [min_y-0.3,min_y+0.5],\n",
    "    \"color_discrete_sequence\": [\"red\",\"blue\"]\n",
    "}\n",
    "fig = px.scatter(two_dim,**args)\n",
    "fig.update_traces(marker=dict(size=12,\n",
    "                              line=dict(width=2,\n",
    "                                        color='DarkSlateGrey')),\n",
    "                  selector=dict(mode='markers'))\n",
    "# fig.write_html(\"visualizations/temporal/{}_2d_scatter.html\".format(TIME_FRAME))\n",
    "fig.show()"
   ]
  },
  {
   "cell_type": "code",
   "execution_count": 42,
   "metadata": {},
   "outputs": [
    {
     "data": {
      "text/html": [
       "<div>\n",
       "<style scoped>\n",
       "    .dataframe tbody tr th:only-of-type {\n",
       "        vertical-align: middle;\n",
       "    }\n",
       "\n",
       "    .dataframe tbody tr th {\n",
       "        vertical-align: top;\n",
       "    }\n",
       "\n",
       "    .dataframe thead th {\n",
       "        text-align: right;\n",
       "    }\n",
       "</style>\n",
       "<table border=\"1\" class=\"dataframe\">\n",
       "  <thead>\n",
       "    <tr style=\"text-align: right;\">\n",
       "      <th></th>\n",
       "      <th>week</th>\n",
       "      <th>subreddit</th>\n",
       "      <th>0</th>\n",
       "      <th>1</th>\n",
       "      <th>2</th>\n",
       "      <th>partisan</th>\n",
       "    </tr>\n",
       "  </thead>\n",
       "  <tbody>\n",
       "    <tr>\n",
       "      <th>70696</th>\n",
       "      <td>2019-01-01</td>\n",
       "      <td>Capitalism</td>\n",
       "      <td>-0.045643</td>\n",
       "      <td>-0.198764</td>\n",
       "      <td>-0.128093</td>\n",
       "      <td>right</td>\n",
       "    </tr>\n",
       "    <tr>\n",
       "      <th>69095</th>\n",
       "      <td>2019-01-01</td>\n",
       "      <td>JoeBiden</td>\n",
       "      <td>-0.064052</td>\n",
       "      <td>-0.216695</td>\n",
       "      <td>-0.173308</td>\n",
       "      <td>left</td>\n",
       "    </tr>\n",
       "    <tr>\n",
       "      <th>73090</th>\n",
       "      <td>2019-01-01</td>\n",
       "      <td>SocialDemocracy</td>\n",
       "      <td>-0.151331</td>\n",
       "      <td>-0.206386</td>\n",
       "      <td>-0.036042</td>\n",
       "      <td>left</td>\n",
       "    </tr>\n",
       "    <tr>\n",
       "      <th>73406</th>\n",
       "      <td>2019-01-01</td>\n",
       "      <td>BaemyKlobaechar</td>\n",
       "      <td>-0.235423</td>\n",
       "      <td>-0.235291</td>\n",
       "      <td>-0.093744</td>\n",
       "      <td>left</td>\n",
       "    </tr>\n",
       "    <tr>\n",
       "      <th>73410</th>\n",
       "      <td>2019-01-01</td>\n",
       "      <td>demsocialist</td>\n",
       "      <td>-0.295550</td>\n",
       "      <td>-0.158953</td>\n",
       "      <td>-0.179253</td>\n",
       "      <td>left</td>\n",
       "    </tr>\n",
       "    <tr>\n",
       "      <th>...</th>\n",
       "      <td>...</td>\n",
       "      <td>...</td>\n",
       "      <td>...</td>\n",
       "      <td>...</td>\n",
       "      <td>...</td>\n",
       "      <td>...</td>\n",
       "    </tr>\n",
       "    <tr>\n",
       "      <th>52727</th>\n",
       "      <td>2019-12-01</td>\n",
       "      <td>The_Donald</td>\n",
       "      <td>0.043081</td>\n",
       "      <td>0.014754</td>\n",
       "      <td>-0.138257</td>\n",
       "      <td>right</td>\n",
       "    </tr>\n",
       "    <tr>\n",
       "      <th>52707</th>\n",
       "      <td>2019-12-01</td>\n",
       "      <td>politics</td>\n",
       "      <td>-0.200502</td>\n",
       "      <td>-0.100780</td>\n",
       "      <td>-0.179645</td>\n",
       "      <td>left</td>\n",
       "    </tr>\n",
       "    <tr>\n",
       "      <th>52768</th>\n",
       "      <td>2019-12-01</td>\n",
       "      <td>ChapoTrapHouse</td>\n",
       "      <td>0.022315</td>\n",
       "      <td>-0.130700</td>\n",
       "      <td>-0.064371</td>\n",
       "      <td>left</td>\n",
       "    </tr>\n",
       "    <tr>\n",
       "      <th>53539</th>\n",
       "      <td>2019-12-01</td>\n",
       "      <td>progun</td>\n",
       "      <td>0.037655</td>\n",
       "      <td>-0.098714</td>\n",
       "      <td>-0.345899</td>\n",
       "      <td>right</td>\n",
       "    </tr>\n",
       "    <tr>\n",
       "      <th>56067</th>\n",
       "      <td>2019-12-01</td>\n",
       "      <td>Republican</td>\n",
       "      <td>-0.067139</td>\n",
       "      <td>-0.013488</td>\n",
       "      <td>-0.186634</td>\n",
       "      <td>right</td>\n",
       "    </tr>\n",
       "  </tbody>\n",
       "</table>\n",
       "<p>240 rows × 6 columns</p>\n",
       "</div>"
      ],
      "text/plain": [
       "            week        subreddit         0         1         2 partisan\n",
       "70696 2019-01-01       Capitalism -0.045643 -0.198764 -0.128093    right\n",
       "69095 2019-01-01         JoeBiden -0.064052 -0.216695 -0.173308     left\n",
       "73090 2019-01-01  SocialDemocracy -0.151331 -0.206386 -0.036042     left\n",
       "73406 2019-01-01  BaemyKlobaechar -0.235423 -0.235291 -0.093744     left\n",
       "73410 2019-01-01     demsocialist -0.295550 -0.158953 -0.179253     left\n",
       "...          ...              ...       ...       ...       ...      ...\n",
       "52727 2019-12-01       The_Donald  0.043081  0.014754 -0.138257    right\n",
       "52707 2019-12-01         politics -0.200502 -0.100780 -0.179645     left\n",
       "52768 2019-12-01   ChapoTrapHouse  0.022315 -0.130700 -0.064371     left\n",
       "53539 2019-12-01           progun  0.037655 -0.098714 -0.345899    right\n",
       "56067 2019-12-01       Republican -0.067139 -0.013488 -0.186634    right\n",
       "\n",
       "[240 rows x 6 columns]"
      ]
     },
     "execution_count": 42,
     "metadata": {},
     "output_type": "execute_result"
    }
   ],
   "source": [
    "# PCA Dim Reduction -> 3 dimensions\n",
    "pca =  PCA(n_components = 3)\n",
    "three_dim =  pd.DataFrame(pca.fit_transform(vectors))\n",
    "three_dim[[\"subreddit\",\"week\"]] = sub_df\n",
    "idx = pd.MultiIndex.from_product([three_dim['week'].unique(), three_dim['subreddit'].unique()],\n",
    "                                 names=['week', 'subreddit'])\n",
    "\n",
    "# In the case that there isn't a vector for a specific week/subreddit we bacfill the vector from the previous\n",
    "three_dim = three_dim.set_index(['week', 'subreddit']).reindex(idx).reset_index().bfill().sort_values('week')\n",
    "three_dim = three_dim[three_dim[\"subreddit\"].isin(left_subreddits) | three_dim[\"subreddit\"].isin(right_subreddits)]\n",
    "three_dim[\"partisan\"] = np.where(three_dim[\"subreddit\"].isin(left_subreddits), 'left', 'right')\n",
    "three_dim"
   ]
  },
  {
   "cell_type": "code",
   "execution_count": 43,
   "metadata": {},
   "outputs": [
    {
     "data": {
      "application/vnd.plotly.v1+json": {
       "config": {
        "plotlyServerURL": "https://plot.ly"
       },
       "data": [
        {
         "hovertemplate": "<b>%{hovertext}</b><br><br>partisan=right<br>animation_frame=2019-01-01<br>0=%{x}<br>1=%{y}<br>2=%{z}<br>subreddit=%{text}<extra></extra>",
         "hovertext": [
          "Capitalism",
          "ShitPoliticsSays",
          "Conservative",
          "The_Donald",
          "progun",
          "Republican"
         ],
         "ids": [
          "Capitalism",
          "ShitPoliticsSays",
          "Conservative",
          "The_Donald",
          "progun",
          "Republican"
         ],
         "legendgroup": "right",
         "marker": {
          "color": "red",
          "opacity": 0.7,
          "symbol": "circle"
         },
         "mode": "markers+text",
         "name": "right",
         "scene": "scene",
         "showlegend": true,
         "text": [
          "Capitalism",
          "ShitPoliticsSays",
          "Conservative",
          "The_Donald",
          "progun",
          "Republican"
         ],
         "type": "scatter3d",
         "x": [
          -0.04564317881122326,
          0.03637196632845934,
          -0.10938063699686824,
          0.011155784792395346,
          -0.036677055251696775,
          -0.15363871456017106
         ],
         "y": [
          -0.19876415381987564,
          -0.13454460501394153,
          -0.10585421297067477,
          0.0036627638802034144,
          -0.042957484050800625,
          -0.10620112570091648
         ],
         "z": [
          -0.12809251874293695,
          -0.20244773381265813,
          -0.22071086413158839,
          -0.1617661175728363,
          -0.3417798052539538,
          -0.19277833327250007
         ]
        },
        {
         "hovertemplate": "<b>%{hovertext}</b><br><br>partisan=left<br>animation_frame=2019-01-01<br>0=%{x}<br>1=%{y}<br>2=%{z}<br>subreddit=%{text}<extra></extra>",
         "hovertext": [
          "JoeBiden",
          "SocialDemocracy",
          "BaemyKlobaechar",
          "demsocialist",
          "ConservativeDemocrat",
          "progressive",
          "ElizabethWarren",
          "moderatepolitics",
          "SandersForPresident",
          "centerleftpolitics",
          "Pete_Buttigieg",
          "YangForPresidentHQ",
          "politics",
          "ChapoTrapHouse"
         ],
         "ids": [
          "JoeBiden",
          "SocialDemocracy",
          "BaemyKlobaechar",
          "demsocialist",
          "ConservativeDemocrat",
          "progressive",
          "ElizabethWarren",
          "moderatepolitics",
          "SandersForPresident",
          "centerleftpolitics",
          "Pete_Buttigieg",
          "YangForPresidentHQ",
          "politics",
          "ChapoTrapHouse"
         ],
         "legendgroup": "left",
         "marker": {
          "color": "blue",
          "opacity": 0.7,
          "symbol": "circle"
         },
         "mode": "markers+text",
         "name": "left",
         "scene": "scene",
         "showlegend": true,
         "text": [
          "JoeBiden",
          "SocialDemocracy",
          "BaemyKlobaechar",
          "demsocialist",
          "ConservativeDemocrat",
          "progressive",
          "ElizabethWarren",
          "moderatepolitics",
          "SandersForPresident",
          "centerleftpolitics",
          "Pete_Buttigieg",
          "YangForPresidentHQ",
          "politics",
          "ChapoTrapHouse"
         ],
         "type": "scatter3d",
         "x": [
          -0.06405191466418646,
          -0.15133053081754572,
          -0.23542316631453775,
          -0.2955495120344258,
          -0.21087876508933445,
          -0.17559782402030458,
          -0.3101548908096473,
          -0.15209377749212738,
          -0.14858587450339214,
          -0.056123606575113,
          -0.2460401196900674,
          -0.22423551085469692,
          -0.23387786961273846,
          -0.003506573674811709
         ],
         "y": [
          -0.21669477768895706,
          -0.20638568105164576,
          -0.23529104729025932,
          -0.15895293731947513,
          -0.31273788069384717,
          -0.06626907910026646,
          -0.09254645445374712,
          -0.11306535056720074,
          -0.08132790816566428,
          -0.11575355342632102,
          -0.2311831155767346,
          -0.06152201151884421,
          -0.08952907955576923,
          -0.10338647507742386
         ],
         "z": [
          -0.17330777944292486,
          -0.036042360429654786,
          -0.0937440910897643,
          -0.17925324028018724,
          -0.3590194036650791,
          -0.21039067146296075,
          -0.016076313597252836,
          -0.1685182306845636,
          -0.17740263487916116,
          -0.05418678775499443,
          0.04116815054564969,
          0.16761242257950185,
          -0.21723976158938582,
          -0.10490376061293884
         ]
        }
       ],
       "frames": [
        {
         "data": [
          {
           "hovertemplate": "<b>%{hovertext}</b><br><br>partisan=right<br>animation_frame=2019-01-01<br>0=%{x}<br>1=%{y}<br>2=%{z}<br>subreddit=%{text}<extra></extra>",
           "hovertext": [
            "Capitalism",
            "ShitPoliticsSays",
            "Conservative",
            "The_Donald",
            "progun",
            "Republican"
           ],
           "ids": [
            "Capitalism",
            "ShitPoliticsSays",
            "Conservative",
            "The_Donald",
            "progun",
            "Republican"
           ],
           "legendgroup": "right",
           "marker": {
            "color": "red",
            "opacity": 0.7,
            "symbol": "circle"
           },
           "mode": "markers+text",
           "name": "right",
           "scene": "scene",
           "showlegend": true,
           "text": [
            "Capitalism",
            "ShitPoliticsSays",
            "Conservative",
            "The_Donald",
            "progun",
            "Republican"
           ],
           "type": "scatter3d",
           "x": [
            -0.04564317881122326,
            0.03637196632845934,
            -0.10938063699686824,
            0.011155784792395346,
            -0.036677055251696775,
            -0.15363871456017106
           ],
           "y": [
            -0.19876415381987564,
            -0.13454460501394153,
            -0.10585421297067477,
            0.0036627638802034144,
            -0.042957484050800625,
            -0.10620112570091648
           ],
           "z": [
            -0.12809251874293695,
            -0.20244773381265813,
            -0.22071086413158839,
            -0.1617661175728363,
            -0.3417798052539538,
            -0.19277833327250007
           ]
          },
          {
           "hovertemplate": "<b>%{hovertext}</b><br><br>partisan=left<br>animation_frame=2019-01-01<br>0=%{x}<br>1=%{y}<br>2=%{z}<br>subreddit=%{text}<extra></extra>",
           "hovertext": [
            "JoeBiden",
            "SocialDemocracy",
            "BaemyKlobaechar",
            "demsocialist",
            "ConservativeDemocrat",
            "progressive",
            "ElizabethWarren",
            "moderatepolitics",
            "SandersForPresident",
            "centerleftpolitics",
            "Pete_Buttigieg",
            "YangForPresidentHQ",
            "politics",
            "ChapoTrapHouse"
           ],
           "ids": [
            "JoeBiden",
            "SocialDemocracy",
            "BaemyKlobaechar",
            "demsocialist",
            "ConservativeDemocrat",
            "progressive",
            "ElizabethWarren",
            "moderatepolitics",
            "SandersForPresident",
            "centerleftpolitics",
            "Pete_Buttigieg",
            "YangForPresidentHQ",
            "politics",
            "ChapoTrapHouse"
           ],
           "legendgroup": "left",
           "marker": {
            "color": "blue",
            "opacity": 0.7,
            "symbol": "circle"
           },
           "mode": "markers+text",
           "name": "left",
           "scene": "scene",
           "showlegend": true,
           "text": [
            "JoeBiden",
            "SocialDemocracy",
            "BaemyKlobaechar",
            "demsocialist",
            "ConservativeDemocrat",
            "progressive",
            "ElizabethWarren",
            "moderatepolitics",
            "SandersForPresident",
            "centerleftpolitics",
            "Pete_Buttigieg",
            "YangForPresidentHQ",
            "politics",
            "ChapoTrapHouse"
           ],
           "type": "scatter3d",
           "x": [
            -0.06405191466418646,
            -0.15133053081754572,
            -0.23542316631453775,
            -0.2955495120344258,
            -0.21087876508933445,
            -0.17559782402030458,
            -0.3101548908096473,
            -0.15209377749212738,
            -0.14858587450339214,
            -0.056123606575113,
            -0.2460401196900674,
            -0.22423551085469692,
            -0.23387786961273846,
            -0.003506573674811709
           ],
           "y": [
            -0.21669477768895706,
            -0.20638568105164576,
            -0.23529104729025932,
            -0.15895293731947513,
            -0.31273788069384717,
            -0.06626907910026646,
            -0.09254645445374712,
            -0.11306535056720074,
            -0.08132790816566428,
            -0.11575355342632102,
            -0.2311831155767346,
            -0.06152201151884421,
            -0.08952907955576923,
            -0.10338647507742386
           ],
           "z": [
            -0.17330777944292486,
            -0.036042360429654786,
            -0.0937440910897643,
            -0.17925324028018724,
            -0.3590194036650791,
            -0.21039067146296075,
            -0.016076313597252836,
            -0.1685182306845636,
            -0.17740263487916116,
            -0.05418678775499443,
            0.04116815054564969,
            0.16761242257950185,
            -0.21723976158938582,
            -0.10490376061293884
           ]
          }
         ],
         "name": "2019-01-01"
        },
        {
         "data": [
          {
           "hovertemplate": "<b>%{hovertext}</b><br><br>partisan=right<br>animation_frame=2019-02-01<br>0=%{x}<br>1=%{y}<br>2=%{z}<br>subreddit=%{text}<extra></extra>",
           "hovertext": [
            "Capitalism",
            "ShitPoliticsSays",
            "Conservative",
            "The_Donald",
            "progun",
            "Republican"
           ],
           "ids": [
            "Capitalism",
            "ShitPoliticsSays",
            "Conservative",
            "The_Donald",
            "progun",
            "Republican"
           ],
           "legendgroup": "right",
           "marker": {
            "color": "red",
            "opacity": 0.7,
            "symbol": "circle"
           },
           "mode": "markers+text",
           "name": "right",
           "scene": "scene",
           "showlegend": true,
           "text": [
            "Capitalism",
            "ShitPoliticsSays",
            "Conservative",
            "The_Donald",
            "progun",
            "Republican"
           ],
           "type": "scatter3d",
           "x": [
            -0.06153333747168701,
            0.026672169988920642,
            -0.09499701608970064,
            0.012495219177175332,
            -0.03839196487609665,
            -0.11194291230508416
           ],
           "y": [
            -0.13739867132355435,
            -0.12487350261862355,
            -0.11428393319535432,
            -0.011401185360973114,
            -0.0615558251602749,
            -0.07782379323198275
           ],
           "z": [
            -0.16625472500625038,
            -0.22487852790502028,
            -0.21124890213327815,
            -0.15330013912182824,
            -0.32089778799609286,
            -0.16912474616484602
           ]
          },
          {
           "hovertemplate": "<b>%{hovertext}</b><br><br>partisan=left<br>animation_frame=2019-02-01<br>0=%{x}<br>1=%{y}<br>2=%{z}<br>subreddit=%{text}<extra></extra>",
           "hovertext": [
            "JoeBiden",
            "SocialDemocracy",
            "BaemyKlobaechar",
            "demsocialist",
            "ConservativeDemocrat",
            "progressive",
            "ElizabethWarren",
            "moderatepolitics",
            "SandersForPresident",
            "centerleftpolitics",
            "Pete_Buttigieg",
            "YangForPresidentHQ",
            "politics",
            "ChapoTrapHouse"
           ],
           "ids": [
            "JoeBiden",
            "SocialDemocracy",
            "BaemyKlobaechar",
            "demsocialist",
            "ConservativeDemocrat",
            "progressive",
            "ElizabethWarren",
            "moderatepolitics",
            "SandersForPresident",
            "centerleftpolitics",
            "Pete_Buttigieg",
            "YangForPresidentHQ",
            "politics",
            "ChapoTrapHouse"
           ],
           "legendgroup": "left",
           "marker": {
            "color": "blue",
            "opacity": 0.7,
            "symbol": "circle"
           },
           "mode": "markers+text",
           "name": "left",
           "scene": "scene",
           "showlegend": true,
           "text": [
            "JoeBiden",
            "SocialDemocracy",
            "BaemyKlobaechar",
            "demsocialist",
            "ConservativeDemocrat",
            "progressive",
            "ElizabethWarren",
            "moderatepolitics",
            "SandersForPresident",
            "centerleftpolitics",
            "Pete_Buttigieg",
            "YangForPresidentHQ",
            "politics",
            "ChapoTrapHouse"
           ],
           "type": "scatter3d",
           "x": [
            -0.11827310127025939,
            -0.09670302568688684,
            -0.22793948852965512,
            -0.23827698919461876,
            -0.3048312024555312,
            -0.16503854045276037,
            -0.21556649905068342,
            -0.18612061805049002,
            -0.13867972372558068,
            -0.056569145349264244,
            -0.4275048592875677,
            -0.1572305441123238,
            -0.23016513667405564,
            0.017503622374259193
           ],
           "y": [
            -0.21054448713088364,
            -0.16956806727717974,
            -0.1514315359078379,
            -0.17778368118143145,
            -0.2412932688311081,
            -0.05902893924007624,
            -0.13172773655552777,
            -0.16222170579159642,
            -0.09669012133756216,
            -0.07688400997372553,
            -0.14450721000255667,
            -0.07291577958461107,
            -0.10321921398688703,
            -0.10182453112340174
           ],
           "z": [
            0.1050715263730409,
            -0.04811428069352998,
            -0.003355080869259042,
            -0.16893549283169576,
            -0.20345709066564593,
            -0.14851736098740603,
            0.014840043570411514,
            -0.15145283521093716,
            -0.1332878509497257,
            -0.048951326751381065,
            -0.02518103962626085,
            -0.04190228048997502,
            -0.21982801110040784,
            -0.11011553616835013
           ]
          }
         ],
         "name": "2019-02-01"
        },
        {
         "data": [
          {
           "hovertemplate": "<b>%{hovertext}</b><br><br>partisan=right<br>animation_frame=2019-03-01<br>0=%{x}<br>1=%{y}<br>2=%{z}<br>subreddit=%{text}<extra></extra>",
           "hovertext": [
            "Capitalism",
            "ShitPoliticsSays",
            "Conservative",
            "The_Donald",
            "progun",
            "Republican"
           ],
           "ids": [
            "Capitalism",
            "ShitPoliticsSays",
            "Conservative",
            "The_Donald",
            "progun",
            "Republican"
           ],
           "legendgroup": "right",
           "marker": {
            "color": "red",
            "opacity": 0.7,
            "symbol": "circle"
           },
           "mode": "markers+text",
           "name": "right",
           "scene": "scene",
           "showlegend": true,
           "text": [
            "Capitalism",
            "ShitPoliticsSays",
            "Conservative",
            "The_Donald",
            "progun",
            "Republican"
           ],
           "type": "scatter3d",
           "x": [
            -0.07828001536065361,
            0.03923056556815466,
            -0.10912937199470768,
            0.025378040107090886,
            -0.010019000065521066,
            -0.10317433757910223
           ],
           "y": [
            -0.1842669643096642,
            -0.1295634353880954,
            -0.11142323369873339,
            -0.019770229427204928,
            -0.11105596017909988,
            -0.08039590030277328
           ],
           "z": [
            -0.06824851277897559,
            -0.2445135527215973,
            -0.22519161819339797,
            -0.1464495654876471,
            -0.3322910508740658,
            -0.22124934636332966
           ]
          },
          {
           "hovertemplate": "<b>%{hovertext}</b><br><br>partisan=left<br>animation_frame=2019-03-01<br>0=%{x}<br>1=%{y}<br>2=%{z}<br>subreddit=%{text}<extra></extra>",
           "hovertext": [
            "JoeBiden",
            "SocialDemocracy",
            "BaemyKlobaechar",
            "demsocialist",
            "ConservativeDemocrat",
            "progressive",
            "ElizabethWarren",
            "moderatepolitics",
            "SandersForPresident",
            "centerleftpolitics",
            "Pete_Buttigieg",
            "YangForPresidentHQ",
            "politics",
            "ChapoTrapHouse"
           ],
           "ids": [
            "JoeBiden",
            "SocialDemocracy",
            "BaemyKlobaechar",
            "demsocialist",
            "ConservativeDemocrat",
            "progressive",
            "ElizabethWarren",
            "moderatepolitics",
            "SandersForPresident",
            "centerleftpolitics",
            "Pete_Buttigieg",
            "YangForPresidentHQ",
            "politics",
            "ChapoTrapHouse"
           ],
           "legendgroup": "left",
           "marker": {
            "color": "blue",
            "opacity": 0.7,
            "symbol": "circle"
           },
           "mode": "markers+text",
           "name": "left",
           "scene": "scene",
           "showlegend": true,
           "text": [
            "JoeBiden",
            "SocialDemocracy",
            "BaemyKlobaechar",
            "demsocialist",
            "ConservativeDemocrat",
            "progressive",
            "ElizabethWarren",
            "moderatepolitics",
            "SandersForPresident",
            "centerleftpolitics",
            "Pete_Buttigieg",
            "YangForPresidentHQ",
            "politics",
            "ChapoTrapHouse"
           ],
           "type": "scatter3d",
           "x": [
            -0.38120180590198516,
            -0.13262580400717996,
            -0.4735365800416028,
            -0.25955921809942495,
            -0.341308598227177,
            -0.185050540190307,
            -0.28563311001380326,
            -0.15802725540826193,
            -0.11441459402755404,
            -0.062335910114638154,
            -0.17599781229758982,
            -0.053991810461211376,
            -0.21468522533233153,
            0.011280734581517569
           ],
           "y": [
            -0.07503782504613939,
            -0.2414127218247507,
            -0.13806768557128138,
            -0.19848645243146154,
            -0.17889002066257773,
            -0.02803829364604051,
            -0.11851553363700289,
            -0.1440128981944165,
            -0.12097787535803885,
            -0.0744063466915825,
            -0.0009738972086141994,
            -0.09681654247203964,
            -0.1145365626034504,
            -0.14248705506641868
           ],
           "z": [
            -0.20730655837535758,
            -0.02674814775587792,
            -0.004779953497206959,
            -0.1429571979671274,
            -0.27448224118361775,
            -0.1654979087418626,
            0.02207220908733119,
            -0.18612986415504185,
            -0.15886748107506385,
            -0.028255456799100163,
            -0.04626481162555882,
            0.022161361447712014,
            -0.2577961587866062,
            -0.09719610510609165
           ]
          }
         ],
         "name": "2019-03-01"
        },
        {
         "data": [
          {
           "hovertemplate": "<b>%{hovertext}</b><br><br>partisan=right<br>animation_frame=2019-04-01<br>0=%{x}<br>1=%{y}<br>2=%{z}<br>subreddit=%{text}<extra></extra>",
           "hovertext": [
            "Republican",
            "progun",
            "The_Donald",
            "Conservative",
            "ShitPoliticsSays",
            "Capitalism"
           ],
           "ids": [
            "Republican",
            "progun",
            "The_Donald",
            "Conservative",
            "ShitPoliticsSays",
            "Capitalism"
           ],
           "legendgroup": "right",
           "marker": {
            "color": "red",
            "opacity": 0.7,
            "symbol": "circle"
           },
           "mode": "markers+text",
           "name": "right",
           "scene": "scene",
           "showlegend": true,
           "text": [
            "Republican",
            "progun",
            "The_Donald",
            "Conservative",
            "ShitPoliticsSays",
            "Capitalism"
           ],
           "type": "scatter3d",
           "x": [
            -0.11864341318778432,
            -0.0055023028810184315,
            0.018047095195780665,
            -0.09038324284830392,
            0.033197274651167376,
            -0.05522769647587393
           ],
           "y": [
            -0.06691980424343957,
            -0.06538805321091418,
            -0.007379606720564872,
            -0.154061821320903,
            -0.1620725574520283,
            -0.13991853341992075
           ],
           "z": [
            -0.19951972859142258,
            -0.3637997730521143,
            -0.16033603498630467,
            -0.20404946860334647,
            -0.21299024247674672,
            -0.1822640051977016
           ]
          },
          {
           "hovertemplate": "<b>%{hovertext}</b><br><br>partisan=left<br>animation_frame=2019-04-01<br>0=%{x}<br>1=%{y}<br>2=%{z}<br>subreddit=%{text}<extra></extra>",
           "hovertext": [
            "ChapoTrapHouse",
            "politics",
            "YangForPresidentHQ",
            "Pete_Buttigieg",
            "centerleftpolitics",
            "SandersForPresident",
            "moderatepolitics",
            "ElizabethWarren",
            "progressive",
            "ConservativeDemocrat",
            "demsocialist",
            "BaemyKlobaechar",
            "SocialDemocracy",
            "JoeBiden"
           ],
           "ids": [
            "ChapoTrapHouse",
            "politics",
            "YangForPresidentHQ",
            "Pete_Buttigieg",
            "centerleftpolitics",
            "SandersForPresident",
            "moderatepolitics",
            "ElizabethWarren",
            "progressive",
            "ConservativeDemocrat",
            "demsocialist",
            "BaemyKlobaechar",
            "SocialDemocracy",
            "JoeBiden"
           ],
           "legendgroup": "left",
           "marker": {
            "color": "blue",
            "opacity": 0.7,
            "symbol": "circle"
           },
           "mode": "markers+text",
           "name": "left",
           "scene": "scene",
           "showlegend": true,
           "text": [
            "ChapoTrapHouse",
            "politics",
            "YangForPresidentHQ",
            "Pete_Buttigieg",
            "centerleftpolitics",
            "SandersForPresident",
            "moderatepolitics",
            "ElizabethWarren",
            "progressive",
            "ConservativeDemocrat",
            "demsocialist",
            "BaemyKlobaechar",
            "SocialDemocracy",
            "JoeBiden"
           ],
           "type": "scatter3d",
           "x": [
            0.018169409269141828,
            -0.20325716864277343,
            -0.0716552652565652,
            -0.20411540822160315,
            -0.06139500656455193,
            -0.11244904322860848,
            -0.16994452200983923,
            -0.21636295184050944,
            -0.21515100968121792,
            -0.2612291582863468,
            -0.2847029722539913,
            -0.2821855032804015,
            -0.13109383553483467,
            -0.26049757711431865
           ],
           "y": [
            -0.13413073975781498,
            -0.11204425257384851,
            -0.09864102450502986,
            -0.07756779756175115,
            -0.10308204850319216,
            -0.10300844872321346,
            -0.14421868076070188,
            -0.06928077907351779,
            -0.060254924959895026,
            -0.22682722749190962,
            -0.13862410848411327,
            -0.21786710510872948,
            -0.24724632011736516,
            -0.050633799797189925
           ],
           "z": [
            -0.11034254481802581,
            -0.2461004110874583,
            0.023228750419879325,
            -0.04540152272682838,
            -0.0611437273870832,
            -0.15855887536535848,
            -0.1692125109436717,
            -0.0087224344267072,
            -0.16106821049929948,
            -0.22791481568441777,
            -0.15818481935627637,
            -0.09368123241099208,
            -0.0812547130471826,
            -0.046598352521768985
           ]
          }
         ],
         "name": "2019-04-01"
        },
        {
         "data": [
          {
           "hovertemplate": "<b>%{hovertext}</b><br><br>partisan=right<br>animation_frame=2019-05-01<br>0=%{x}<br>1=%{y}<br>2=%{z}<br>subreddit=%{text}<extra></extra>",
           "hovertext": [
            "Capitalism",
            "ShitPoliticsSays",
            "Conservative",
            "The_Donald",
            "progun",
            "Republican"
           ],
           "ids": [
            "Capitalism",
            "ShitPoliticsSays",
            "Conservative",
            "The_Donald",
            "progun",
            "Republican"
           ],
           "legendgroup": "right",
           "marker": {
            "color": "red",
            "opacity": 0.7,
            "symbol": "circle"
           },
           "mode": "markers+text",
           "name": "right",
           "scene": "scene",
           "showlegend": true,
           "text": [
            "Capitalism",
            "ShitPoliticsSays",
            "Conservative",
            "The_Donald",
            "progun",
            "Republican"
           ],
           "type": "scatter3d",
           "x": [
            -0.04576669744946446,
            0.024102719753915088,
            -0.09994862628071069,
            0.03127426382874117,
            -0.01709171494668693,
            -0.1248180686916224
           ],
           "y": [
            -0.15780436441886456,
            -0.17000565202721613,
            -0.158524666682377,
            -0.028556104767743933,
            -0.09167167053218087,
            -0.033766503724968464
           ],
           "z": [
            -0.16869170209895748,
            -0.19872071194497234,
            -0.20909730375338717,
            -0.1515905925702399,
            -0.3170647904119734,
            -0.20939049335167323
           ]
          },
          {
           "hovertemplate": "<b>%{hovertext}</b><br><br>partisan=left<br>animation_frame=2019-05-01<br>0=%{x}<br>1=%{y}<br>2=%{z}<br>subreddit=%{text}<extra></extra>",
           "hovertext": [
            "JoeBiden",
            "SocialDemocracy",
            "BaemyKlobaechar",
            "demsocialist",
            "ConservativeDemocrat",
            "progressive",
            "ElizabethWarren",
            "moderatepolitics",
            "SandersForPresident",
            "centerleftpolitics",
            "Pete_Buttigieg",
            "YangForPresidentHQ",
            "politics",
            "ChapoTrapHouse"
           ],
           "ids": [
            "JoeBiden",
            "SocialDemocracy",
            "BaemyKlobaechar",
            "demsocialist",
            "ConservativeDemocrat",
            "progressive",
            "ElizabethWarren",
            "moderatepolitics",
            "SandersForPresident",
            "centerleftpolitics",
            "Pete_Buttigieg",
            "YangForPresidentHQ",
            "politics",
            "ChapoTrapHouse"
           ],
           "legendgroup": "left",
           "marker": {
            "color": "blue",
            "opacity": 0.7,
            "symbol": "circle"
           },
           "mode": "markers+text",
           "name": "left",
           "scene": "scene",
           "showlegend": true,
           "text": [
            "JoeBiden",
            "SocialDemocracy",
            "BaemyKlobaechar",
            "demsocialist",
            "ConservativeDemocrat",
            "progressive",
            "ElizabethWarren",
            "moderatepolitics",
            "SandersForPresident",
            "centerleftpolitics",
            "Pete_Buttigieg",
            "YangForPresidentHQ",
            "politics",
            "ChapoTrapHouse"
           ],
           "type": "scatter3d",
           "x": [
            -0.1976095528009735,
            -0.13075140207550032,
            -0.23417411632069612,
            -0.27444248784612807,
            -0.41046609144395546,
            -0.1865208724948038,
            -0.20946383045555259,
            -0.15948253576706195,
            -0.14259654031039293,
            -0.03485283666816712,
            -0.18607721842909344,
            -0.055459445673096255,
            -0.20573582645989646,
            0.0250582564163893
           ],
           "y": [
            -0.03349054495373769,
            -0.2334529523832047,
            -0.1013384016996518,
            -0.23168502657299203,
            -0.23899750358302768,
            -0.09056002950174717,
            -0.08697954392614782,
            -0.14547014469046748,
            -0.08457606776347401,
            -0.10685405690500373,
            -0.05327007249702889,
            -0.10271936579133899,
            -0.09634350453288135,
            -0.14237726818258536
           ],
           "z": [
            -0.11832114195900979,
            -0.0353084761993418,
            -0.19305928661654384,
            -0.18457378646976794,
            -0.3431769467273365,
            -0.19849384660208308,
            -0.05920966341017526,
            -0.12482905864180632,
            -0.13952918300372083,
            -0.02398797660615324,
            -0.037699482878893686,
            0.02044792602612032,
            -0.23665919704292465,
            -0.10602247144029338
           ]
          }
         ],
         "name": "2019-05-01"
        },
        {
         "data": [
          {
           "hovertemplate": "<b>%{hovertext}</b><br><br>partisan=right<br>animation_frame=2019-06-01<br>0=%{x}<br>1=%{y}<br>2=%{z}<br>subreddit=%{text}<extra></extra>",
           "hovertext": [
            "Republican",
            "progun",
            "The_Donald",
            "Conservative",
            "ShitPoliticsSays",
            "Capitalism"
           ],
           "ids": [
            "Republican",
            "progun",
            "The_Donald",
            "Conservative",
            "ShitPoliticsSays",
            "Capitalism"
           ],
           "legendgroup": "right",
           "marker": {
            "color": "red",
            "opacity": 0.7,
            "symbol": "circle"
           },
           "mode": "markers+text",
           "name": "right",
           "scene": "scene",
           "showlegend": true,
           "text": [
            "Republican",
            "progun",
            "The_Donald",
            "Conservative",
            "ShitPoliticsSays",
            "Capitalism"
           ],
           "type": "scatter3d",
           "x": [
            -0.12695800165333065,
            -0.01466909503553984,
            0.02698677755145048,
            -0.06886599466032305,
            0.025554044707585166,
            -0.09133173142488683
           ],
           "y": [
            -0.041986099441020816,
            -0.07401566249903935,
            -0.01964407173655971,
            -0.13358309316026404,
            -0.15141435097264852,
            -0.1689459577960633
           ],
           "z": [
            -0.21400494506982717,
            -0.35107229127883155,
            -0.14983742211503095,
            -0.1948993635030326,
            -0.20888234348058998,
            -0.1563838250063117
           ]
          },
          {
           "hovertemplate": "<b>%{hovertext}</b><br><br>partisan=left<br>animation_frame=2019-06-01<br>0=%{x}<br>1=%{y}<br>2=%{z}<br>subreddit=%{text}<extra></extra>",
           "hovertext": [
            "ChapoTrapHouse",
            "politics",
            "YangForPresidentHQ",
            "Pete_Buttigieg",
            "centerleftpolitics",
            "SandersForPresident",
            "moderatepolitics",
            "ElizabethWarren",
            "progressive",
            "ConservativeDemocrat",
            "demsocialist",
            "BaemyKlobaechar",
            "SocialDemocracy",
            "JoeBiden"
           ],
           "ids": [
            "ChapoTrapHouse",
            "politics",
            "YangForPresidentHQ",
            "Pete_Buttigieg",
            "centerleftpolitics",
            "SandersForPresident",
            "moderatepolitics",
            "ElizabethWarren",
            "progressive",
            "ConservativeDemocrat",
            "demsocialist",
            "BaemyKlobaechar",
            "SocialDemocracy",
            "JoeBiden"
           ],
           "legendgroup": "left",
           "marker": {
            "color": "blue",
            "opacity": 0.7,
            "symbol": "circle"
           },
           "mode": "markers+text",
           "name": "left",
           "scene": "scene",
           "showlegend": true,
           "text": [
            "ChapoTrapHouse",
            "politics",
            "YangForPresidentHQ",
            "Pete_Buttigieg",
            "centerleftpolitics",
            "SandersForPresident",
            "moderatepolitics",
            "ElizabethWarren",
            "progressive",
            "ConservativeDemocrat",
            "demsocialist",
            "BaemyKlobaechar",
            "SocialDemocracy",
            "JoeBiden"
           ],
           "type": "scatter3d",
           "x": [
            0.038287523937947175,
            -0.19056031989720268,
            -0.06839327847545254,
            -0.14748409489249056,
            -0.05401694735565733,
            -0.13572822059947934,
            -0.1502291749294442,
            -0.19394924724647547,
            -0.19960262747892712,
            -0.30587601844546247,
            -0.15318355572177728,
            -0.19642026487240752,
            -0.03536730265597458,
            -0.17516983897308117
           ],
           "y": [
            -0.14409013754160127,
            -0.1123604248984023,
            -0.10336880355423374,
            -0.04719464093157931,
            -0.11092897345138945,
            -0.15590241725445858,
            -0.18039504624321032,
            -0.07719646879732513,
            -0.10674080533500074,
            -0.1426757820540519,
            -0.3072806813255134,
            -0.12382673604551099,
            -0.24196898936207445,
            -0.07752623322288925
           ],
           "z": [
            -0.1177127702045191,
            -0.22050907688348287,
            0.03458889173213024,
            -0.02110147261084029,
            -0.032451744539809264,
            -0.13298081391770905,
            -0.15169904734694697,
            -0.02673095646327265,
            -0.17285152106955404,
            -0.3017001924359899,
            -0.177499432435141,
            0.06459505124665861,
            -0.013572410675358663,
            -0.05987972132329167
           ]
          }
         ],
         "name": "2019-06-01"
        },
        {
         "data": [
          {
           "hovertemplate": "<b>%{hovertext}</b><br><br>partisan=right<br>animation_frame=2019-07-01<br>0=%{x}<br>1=%{y}<br>2=%{z}<br>subreddit=%{text}<extra></extra>",
           "hovertext": [
            "Republican",
            "progun",
            "The_Donald",
            "Conservative",
            "ShitPoliticsSays",
            "Capitalism"
           ],
           "ids": [
            "Republican",
            "progun",
            "The_Donald",
            "Conservative",
            "ShitPoliticsSays",
            "Capitalism"
           ],
           "legendgroup": "right",
           "marker": {
            "color": "red",
            "opacity": 0.7,
            "symbol": "circle"
           },
           "mode": "markers+text",
           "name": "right",
           "scene": "scene",
           "showlegend": true,
           "text": [
            "Republican",
            "progun",
            "The_Donald",
            "Conservative",
            "ShitPoliticsSays",
            "Capitalism"
           ],
           "type": "scatter3d",
           "x": [
            -0.11387769274907864,
            0.007191362572362904,
            0.053870480975049574,
            -0.0683567137494547,
            0.019680369349371576,
            -0.03964877760816236
           ],
           "y": [
            -0.04024535604648674,
            -0.08837882867229707,
            0.0015029957250532874,
            -0.13549807492653762,
            -0.17201282069386636,
            -0.12840656892764415
           ],
           "z": [
            -0.20052353297172687,
            -0.34184494217829114,
            -0.13860920870918997,
            -0.1988210813680733,
            -0.2265749548693869,
            -0.10772301074133447
           ]
          },
          {
           "hovertemplate": "<b>%{hovertext}</b><br><br>partisan=left<br>animation_frame=2019-07-01<br>0=%{x}<br>1=%{y}<br>2=%{z}<br>subreddit=%{text}<extra></extra>",
           "hovertext": [
            "ChapoTrapHouse",
            "politics",
            "YangForPresidentHQ",
            "Pete_Buttigieg",
            "centerleftpolitics",
            "SandersForPresident",
            "moderatepolitics",
            "ElizabethWarren",
            "progressive",
            "ConservativeDemocrat",
            "demsocialist",
            "BaemyKlobaechar",
            "SocialDemocracy",
            "JoeBiden"
           ],
           "ids": [
            "ChapoTrapHouse",
            "politics",
            "YangForPresidentHQ",
            "Pete_Buttigieg",
            "centerleftpolitics",
            "SandersForPresident",
            "moderatepolitics",
            "ElizabethWarren",
            "progressive",
            "ConservativeDemocrat",
            "demsocialist",
            "BaemyKlobaechar",
            "SocialDemocracy",
            "JoeBiden"
           ],
           "legendgroup": "left",
           "marker": {
            "color": "blue",
            "opacity": 0.7,
            "symbol": "circle"
           },
           "mode": "markers+text",
           "name": "left",
           "scene": "scene",
           "showlegend": true,
           "text": [
            "ChapoTrapHouse",
            "politics",
            "YangForPresidentHQ",
            "Pete_Buttigieg",
            "centerleftpolitics",
            "SandersForPresident",
            "moderatepolitics",
            "ElizabethWarren",
            "progressive",
            "ConservativeDemocrat",
            "demsocialist",
            "BaemyKlobaechar",
            "SocialDemocracy",
            "JoeBiden"
           ],
           "type": "scatter3d",
           "x": [
            0.00682275603876837,
            -0.18269855021372475,
            -0.09047284483644098,
            -0.1731952376401356,
            -0.03663700315015527,
            -0.10124645092980676,
            -0.1542556946970484,
            -0.17774219304925856,
            -0.2044359238617788,
            -0.07086857429603652,
            -0.3341447246239509,
            -0.43411621461735034,
            -0.08612732303541608,
            -0.11517970550100783
           ],
           "y": [
            -0.14193006676889783,
            -0.11670127278261454,
            -0.12109647136028091,
            -0.04112218257687539,
            -0.10006940208840791,
            -0.12104920768301068,
            -0.1382493055193627,
            -0.0917147079397041,
            -0.084361337257313,
            -0.24050797154820777,
            -0.17088553855122535,
            -0.07030168223099624,
            -0.3351128934186955,
            -0.03604072510553533
           ],
           "z": [
            -0.10558549641222421,
            -0.1961124710268214,
            0.023404080727071085,
            -0.0206601549119412,
            0.00761873545797102,
            -0.17962771989630333,
            -0.126123775514659,
            -0.024582603194636097,
            -0.2183339529074696,
            -0.1757743343330387,
            -0.2533547393007958,
            -0.1084561207304161,
            -0.041610772452521406,
            -0.07434893001378783
           ]
          }
         ],
         "name": "2019-07-01"
        },
        {
         "data": [
          {
           "hovertemplate": "<b>%{hovertext}</b><br><br>partisan=right<br>animation_frame=2019-08-01<br>0=%{x}<br>1=%{y}<br>2=%{z}<br>subreddit=%{text}<extra></extra>",
           "hovertext": [
            "Capitalism",
            "ShitPoliticsSays",
            "Conservative",
            "The_Donald",
            "progun",
            "Republican"
           ],
           "ids": [
            "Capitalism",
            "ShitPoliticsSays",
            "Conservative",
            "The_Donald",
            "progun",
            "Republican"
           ],
           "legendgroup": "right",
           "marker": {
            "color": "red",
            "opacity": 0.7,
            "symbol": "circle"
           },
           "mode": "markers+text",
           "name": "right",
           "scene": "scene",
           "showlegend": true,
           "text": [
            "Capitalism",
            "ShitPoliticsSays",
            "Conservative",
            "The_Donald",
            "progun",
            "Republican"
           ],
           "type": "scatter3d",
           "x": [
            -0.03791275082905541,
            0.04917461044638391,
            -0.0774008917938876,
            0.054313532500675804,
            0.0019463107369318661,
            -0.0910532205923458
           ],
           "y": [
            -0.18465542096314896,
            -0.17009843116525056,
            -0.14609425201312687,
            0.003926391466692752,
            -0.1222330216096244,
            -0.06309237767062571
           ],
           "z": [
            -0.16465472921002428,
            -0.1936602591707672,
            -0.21314915469941592,
            -0.1432783518830031,
            -0.3073133697236573,
            -0.17304767146779348
           ]
          },
          {
           "hovertemplate": "<b>%{hovertext}</b><br><br>partisan=left<br>animation_frame=2019-08-01<br>0=%{x}<br>1=%{y}<br>2=%{z}<br>subreddit=%{text}<extra></extra>",
           "hovertext": [
            "JoeBiden",
            "SocialDemocracy",
            "BaemyKlobaechar",
            "demsocialist",
            "ConservativeDemocrat",
            "progressive",
            "ElizabethWarren",
            "moderatepolitics",
            "SandersForPresident",
            "centerleftpolitics",
            "Pete_Buttigieg",
            "YangForPresidentHQ",
            "politics",
            "ChapoTrapHouse"
           ],
           "ids": [
            "JoeBiden",
            "SocialDemocracy",
            "BaemyKlobaechar",
            "demsocialist",
            "ConservativeDemocrat",
            "progressive",
            "ElizabethWarren",
            "moderatepolitics",
            "SandersForPresident",
            "centerleftpolitics",
            "Pete_Buttigieg",
            "YangForPresidentHQ",
            "politics",
            "ChapoTrapHouse"
           ],
           "legendgroup": "left",
           "marker": {
            "color": "blue",
            "opacity": 0.7,
            "symbol": "circle"
           },
           "mode": "markers+text",
           "name": "left",
           "scene": "scene",
           "showlegend": true,
           "text": [
            "JoeBiden",
            "SocialDemocracy",
            "BaemyKlobaechar",
            "demsocialist",
            "ConservativeDemocrat",
            "progressive",
            "ElizabethWarren",
            "moderatepolitics",
            "SandersForPresident",
            "centerleftpolitics",
            "Pete_Buttigieg",
            "YangForPresidentHQ",
            "politics",
            "ChapoTrapHouse"
           ],
           "type": "scatter3d",
           "x": [
            -0.1571945273142058,
            -0.04743900493955389,
            -0.43040938551105884,
            -0.2558649124334093,
            -0.2083489645743335,
            -0.14302929132534578,
            -0.17257417043203938,
            -0.14891746280117543,
            -0.15441491207008276,
            -0.02948990871081031,
            -0.1662772304418713,
            -0.07088973208875807,
            -0.18766808518342454,
            0.03060651270872541
           ],
           "y": [
            -0.12170460769346791,
            -0.2687505007401987,
            -0.11869495891804542,
            -0.2235801954896817,
            -0.1971904174937061,
            -0.08130471207631879,
            -0.058635669972564,
            -0.1455622653723549,
            -0.15991500446264645,
            -0.14345362831042024,
            -0.0661349821600157,
            -0.11190345633262917,
            -0.11448499027848888,
            -0.13526934841789173
           ],
           "z": [
            -0.043736764130368824,
            -0.058154203959196404,
            -0.026882616376076366,
            -0.22532823086833537,
            -0.16443772674006663,
            -0.20601114737602066,
            0.004805411807069304,
            -0.1422154997963669,
            -0.14211604993411092,
            -0.025919944799702048,
            0.010207790156016057,
            0.025575790273516367,
            -0.23206618438477095,
            -0.11727061003870637
           ]
          }
         ],
         "name": "2019-08-01"
        },
        {
         "data": [
          {
           "hovertemplate": "<b>%{hovertext}</b><br><br>partisan=right<br>animation_frame=2019-09-01<br>0=%{x}<br>1=%{y}<br>2=%{z}<br>subreddit=%{text}<extra></extra>",
           "hovertext": [
            "Republican",
            "progun",
            "The_Donald",
            "Conservative",
            "ShitPoliticsSays",
            "Capitalism"
           ],
           "ids": [
            "Republican",
            "progun",
            "The_Donald",
            "Conservative",
            "ShitPoliticsSays",
            "Capitalism"
           ],
           "legendgroup": "right",
           "marker": {
            "color": "red",
            "opacity": 0.7,
            "symbol": "circle"
           },
           "mode": "markers+text",
           "name": "right",
           "scene": "scene",
           "showlegend": true,
           "text": [
            "Republican",
            "progun",
            "The_Donald",
            "Conservative",
            "ShitPoliticsSays",
            "Capitalism"
           ],
           "type": "scatter3d",
           "x": [
            -0.09376244135358432,
            0.0041849158847122765,
            0.056636613682934156,
            -0.07980104473900014,
            0.05238847657829131,
            -0.03519214893785508
           ],
           "y": [
            -0.056672671935360484,
            -0.12786759274476622,
            0.007083569556635605,
            -0.14377068550617497,
            -0.14422623704749427,
            -0.1555185466207437
           ],
           "z": [
            -0.16447154639490716,
            -0.3568859985634268,
            -0.12854839432697654,
            -0.2009067317552594,
            -0.20075201833454331,
            -0.12243851586588007
           ]
          },
          {
           "hovertemplate": "<b>%{hovertext}</b><br><br>partisan=left<br>animation_frame=2019-09-01<br>0=%{x}<br>1=%{y}<br>2=%{z}<br>subreddit=%{text}<extra></extra>",
           "hovertext": [
            "ChapoTrapHouse",
            "YangForPresidentHQ",
            "Pete_Buttigieg",
            "centerleftpolitics",
            "SandersForPresident",
            "moderatepolitics",
            "ElizabethWarren",
            "progressive",
            "ConservativeDemocrat",
            "demsocialist",
            "BaemyKlobaechar",
            "politics",
            "SocialDemocracy",
            "JoeBiden"
           ],
           "ids": [
            "ChapoTrapHouse",
            "YangForPresidentHQ",
            "Pete_Buttigieg",
            "centerleftpolitics",
            "SandersForPresident",
            "moderatepolitics",
            "ElizabethWarren",
            "progressive",
            "ConservativeDemocrat",
            "demsocialist",
            "BaemyKlobaechar",
            "politics",
            "SocialDemocracy",
            "JoeBiden"
           ],
           "legendgroup": "left",
           "marker": {
            "color": "blue",
            "opacity": 0.7,
            "symbol": "circle"
           },
           "mode": "markers+text",
           "name": "left",
           "scene": "scene",
           "showlegend": true,
           "text": [
            "ChapoTrapHouse",
            "YangForPresidentHQ",
            "Pete_Buttigieg",
            "centerleftpolitics",
            "SandersForPresident",
            "moderatepolitics",
            "ElizabethWarren",
            "progressive",
            "ConservativeDemocrat",
            "demsocialist",
            "BaemyKlobaechar",
            "politics",
            "SocialDemocracy",
            "JoeBiden"
           ],
           "type": "scatter3d",
           "x": [
            0.03619725169457579,
            -0.05410535850078129,
            -0.16471523907879657,
            -0.05641943124350995,
            -0.11932266848877453,
            -0.14851926535053267,
            -0.20300287172022413,
            -0.14748213229169982,
            -0.26623000607505615,
            -0.25475565343174694,
            -0.3498461957529215,
            -0.1646461860292779,
            -0.07738168428145953,
            -0.12178329828257753
           ],
           "y": [
            -0.1318373046264359,
            -0.10460109871323822,
            -0.030046407579784613,
            -0.10382483526988691,
            -0.13334582731520198,
            -0.13694913390782593,
            -0.06298911803213267,
            -0.08693877768948016,
            -0.14300716900093727,
            -0.279417586931756,
            -0.19435855789290002,
            -0.0868280328545895,
            -0.222550593628417,
            -0.08575592897383055
           ],
           "z": [
            -0.06233319982692155,
            0.02574242200306527,
            0.00047797842363223145,
            0.017570105917376365,
            -0.1332034446832887,
            -0.14195640688724567,
            0.010733622697988098,
            -0.25828919361631336,
            -0.23565811389785235,
            -0.16014095698943825,
            0.0037521973448092854,
            -0.20468411870892023,
            -0.06771936870028064,
            -0.0523272636716501
           ]
          }
         ],
         "name": "2019-09-01"
        },
        {
         "data": [
          {
           "hovertemplate": "<b>%{hovertext}</b><br><br>partisan=right<br>animation_frame=2019-10-01<br>0=%{x}<br>1=%{y}<br>2=%{z}<br>subreddit=%{text}<extra></extra>",
           "hovertext": [
            "Capitalism",
            "ShitPoliticsSays",
            "Conservative",
            "The_Donald",
            "progun",
            "Republican"
           ],
           "ids": [
            "Capitalism",
            "ShitPoliticsSays",
            "Conservative",
            "The_Donald",
            "progun",
            "Republican"
           ],
           "legendgroup": "right",
           "marker": {
            "color": "red",
            "opacity": 0.7,
            "symbol": "circle"
           },
           "mode": "markers+text",
           "name": "right",
           "scene": "scene",
           "showlegend": true,
           "text": [
            "Capitalism",
            "ShitPoliticsSays",
            "Conservative",
            "The_Donald",
            "progun",
            "Republican"
           ],
           "type": "scatter3d",
           "x": [
            -0.0353039319525286,
            0.04013672370889137,
            -0.0929811233374491,
            0.038921458905450776,
            0.028748177040183686,
            -0.09314288640786955
           ],
           "y": [
            -0.09290680153683595,
            -0.15656404235122384,
            -0.10705110843526278,
            0.017830680662262073,
            -0.088446898013652,
            -0.009811339020892719
           ],
           "z": [
            -0.14713532077204247,
            -0.2064906045516597,
            -0.19823251049987706,
            -0.13575667021865942,
            -0.341833511412264,
            -0.16897538447602714
           ]
          },
          {
           "hovertemplate": "<b>%{hovertext}</b><br><br>partisan=left<br>animation_frame=2019-10-01<br>0=%{x}<br>1=%{y}<br>2=%{z}<br>subreddit=%{text}<extra></extra>",
           "hovertext": [
            "JoeBiden",
            "SocialDemocracy",
            "BaemyKlobaechar",
            "demsocialist",
            "ConservativeDemocrat",
            "progressive",
            "ElizabethWarren",
            "moderatepolitics",
            "SandersForPresident",
            "centerleftpolitics",
            "Pete_Buttigieg",
            "YangForPresidentHQ",
            "politics",
            "ChapoTrapHouse"
           ],
           "ids": [
            "JoeBiden",
            "SocialDemocracy",
            "BaemyKlobaechar",
            "demsocialist",
            "ConservativeDemocrat",
            "progressive",
            "ElizabethWarren",
            "moderatepolitics",
            "SandersForPresident",
            "centerleftpolitics",
            "Pete_Buttigieg",
            "YangForPresidentHQ",
            "politics",
            "ChapoTrapHouse"
           ],
           "legendgroup": "left",
           "marker": {
            "color": "blue",
            "opacity": 0.7,
            "symbol": "circle"
           },
           "mode": "markers+text",
           "name": "left",
           "scene": "scene",
           "showlegend": true,
           "text": [
            "JoeBiden",
            "SocialDemocracy",
            "BaemyKlobaechar",
            "demsocialist",
            "ConservativeDemocrat",
            "progressive",
            "ElizabethWarren",
            "moderatepolitics",
            "SandersForPresident",
            "centerleftpolitics",
            "Pete_Buttigieg",
            "YangForPresidentHQ",
            "politics",
            "ChapoTrapHouse"
           ],
           "type": "scatter3d",
           "x": [
            -0.15193509070484898,
            -0.13402166455546405,
            -0.42607773172968977,
            -0.3862233296687163,
            -0.23668337096117323,
            -0.20729043650823953,
            -0.19629381501966472,
            -0.1390523047844633,
            -0.13010350774392856,
            -0.04161402304431554,
            -0.14231120591955002,
            -0.07041490923095448,
            -0.195443746716253,
            0.03491268925664548
           ],
           "y": [
            -0.037281272050162934,
            -0.18403387849610361,
            -0.009145940620172991,
            -0.24495993401484714,
            -0.23398857733011763,
            0.0010457922904016403,
            -0.10394164666143246,
            -0.11768886226216552,
            -0.13260229150126598,
            -0.14424019619329015,
            -0.0661004971998341,
            -0.1235963709285185,
            -0.11134984746935758,
            -0.1271764981081458
           ],
           "z": [
            -0.0005791856305027476,
            -0.01493320041540332,
            -0.028365271454043977,
            -0.17735681835074316,
            -0.24142662337538176,
            -0.2576873547449993,
            0.014429053325047389,
            -0.13197961923207818,
            -0.09527160240019464,
            0.037802829419242436,
            0.039041500151662946,
            0.011796953435627306,
            -0.16805244531286023,
            -0.0680992398535204
           ]
          }
         ],
         "name": "2019-10-01"
        },
        {
         "data": [
          {
           "hovertemplate": "<b>%{hovertext}</b><br><br>partisan=right<br>animation_frame=2019-11-01<br>0=%{x}<br>1=%{y}<br>2=%{z}<br>subreddit=%{text}<extra></extra>",
           "hovertext": [
            "Capitalism",
            "ShitPoliticsSays",
            "Conservative",
            "The_Donald",
            "progun",
            "Republican"
           ],
           "ids": [
            "Capitalism",
            "ShitPoliticsSays",
            "Conservative",
            "The_Donald",
            "progun",
            "Republican"
           ],
           "legendgroup": "right",
           "marker": {
            "color": "red",
            "opacity": 0.7,
            "symbol": "circle"
           },
           "mode": "markers+text",
           "name": "right",
           "scene": "scene",
           "showlegend": true,
           "text": [
            "Capitalism",
            "ShitPoliticsSays",
            "Conservative",
            "The_Donald",
            "progun",
            "Republican"
           ],
           "type": "scatter3d",
           "x": [
            -0.0844898817622111,
            0.09196962086799945,
            -0.08908962307960316,
            0.050425874603965685,
            0.03159459968799375,
            -0.10297086762204456
           ],
           "y": [
            -0.14349089917325508,
            -0.13617941076395118,
            -0.09807428823431269,
            0.033011458716516756,
            -0.12141010200569405,
            -0.010316884296739385
           ],
           "z": [
            -0.11901986560798886,
            -0.2110414598504471,
            -0.20437654845803588,
            -0.13573481311691993,
            -0.32234751184120336,
            -0.16559713536361412
           ]
          },
          {
           "hovertemplate": "<b>%{hovertext}</b><br><br>partisan=left<br>animation_frame=2019-11-01<br>0=%{x}<br>1=%{y}<br>2=%{z}<br>subreddit=%{text}<extra></extra>",
           "hovertext": [
            "JoeBiden",
            "SocialDemocracy",
            "BaemyKlobaechar",
            "demsocialist",
            "ConservativeDemocrat",
            "progressive",
            "ElizabethWarren",
            "moderatepolitics",
            "SandersForPresident",
            "centerleftpolitics",
            "Pete_Buttigieg",
            "YangForPresidentHQ",
            "politics",
            "ChapoTrapHouse"
           ],
           "ids": [
            "JoeBiden",
            "SocialDemocracy",
            "BaemyKlobaechar",
            "demsocialist",
            "ConservativeDemocrat",
            "progressive",
            "ElizabethWarren",
            "moderatepolitics",
            "SandersForPresident",
            "centerleftpolitics",
            "Pete_Buttigieg",
            "YangForPresidentHQ",
            "politics",
            "ChapoTrapHouse"
           ],
           "legendgroup": "left",
           "marker": {
            "color": "blue",
            "opacity": 0.7,
            "symbol": "circle"
           },
           "mode": "markers+text",
           "name": "left",
           "scene": "scene",
           "showlegend": true,
           "text": [
            "JoeBiden",
            "SocialDemocracy",
            "BaemyKlobaechar",
            "demsocialist",
            "ConservativeDemocrat",
            "progressive",
            "ElizabethWarren",
            "moderatepolitics",
            "SandersForPresident",
            "centerleftpolitics",
            "Pete_Buttigieg",
            "YangForPresidentHQ",
            "politics",
            "ChapoTrapHouse"
           ],
           "type": "scatter3d",
           "x": [
            -0.15689189493706746,
            -0.11225817754212247,
            -0.2267896312507097,
            -0.19960300850579438,
            -0.31256350502436947,
            -0.15631511151146082,
            -0.18595950021154534,
            -0.1488525307614477,
            -0.13451538723285975,
            -0.07953618990133389,
            -0.1690043078749368,
            -0.04497807510024285,
            -0.20548219667353468,
            0.033533655214389106
           ],
           "y": [
            -0.10003823656280675,
            -0.2184260897963674,
            -0.1599456650896171,
            -0.19228853016476663,
            -0.2698365695255994,
            -0.047007529338695085,
            -0.06973274111654511,
            -0.10317690056079086,
            -0.12883244953310713,
            -0.0930772161041156,
            -0.05034661536740872,
            -0.08961413653556533,
            -0.07495601451625071,
            -0.11775779799543118
           ],
           "z": [
            -0.009243921237153098,
            -0.07010359915628875,
            -0.023616440672685538,
            -0.20362662908988313,
            -0.18800954374750697,
            -0.19990284472903722,
            -0.001218287866886174,
            -0.16300278653488914,
            -0.12055116123949655,
            0.0182701662628236,
            -0.001459049000348305,
            0.017944951887413848,
            -0.2067401930690451,
            -0.07449218297217329
           ]
          }
         ],
         "name": "2019-11-01"
        },
        {
         "data": [
          {
           "hovertemplate": "<b>%{hovertext}</b><br><br>partisan=right<br>animation_frame=2019-12-01<br>0=%{x}<br>1=%{y}<br>2=%{z}<br>subreddit=%{text}<extra></extra>",
           "hovertext": [
            "Capitalism",
            "ShitPoliticsSays",
            "Conservative",
            "The_Donald",
            "progun",
            "Republican"
           ],
           "ids": [
            "Capitalism",
            "ShitPoliticsSays",
            "Conservative",
            "The_Donald",
            "progun",
            "Republican"
           ],
           "legendgroup": "right",
           "marker": {
            "color": "red",
            "opacity": 0.7,
            "symbol": "circle"
           },
           "mode": "markers+text",
           "name": "right",
           "scene": "scene",
           "showlegend": true,
           "text": [
            "Capitalism",
            "ShitPoliticsSays",
            "Conservative",
            "The_Donald",
            "progun",
            "Republican"
           ],
           "type": "scatter3d",
           "x": [
            -0.0239987320589713,
            0.05438100479658223,
            -0.05247979493464414,
            0.04308094977582985,
            0.037655198097987126,
            -0.06713896390553364
           ],
           "y": [
            -0.14387355896128176,
            -0.12679326182788692,
            -0.09622848525548278,
            0.01475376183643359,
            -0.09871421209445298,
            -0.013487543921228331
           ],
           "z": [
            -0.08729735158583767,
            -0.22508209719760922,
            -0.19482742763045086,
            -0.13825680333531037,
            -0.3458992147787323,
            -0.18663401902888677
           ]
          },
          {
           "hovertemplate": "<b>%{hovertext}</b><br><br>partisan=left<br>animation_frame=2019-12-01<br>0=%{x}<br>1=%{y}<br>2=%{z}<br>subreddit=%{text}<extra></extra>",
           "hovertext": [
            "JoeBiden",
            "SocialDemocracy",
            "BaemyKlobaechar",
            "demsocialist",
            "ConservativeDemocrat",
            "progressive",
            "ElizabethWarren",
            "moderatepolitics",
            "SandersForPresident",
            "centerleftpolitics",
            "Pete_Buttigieg",
            "YangForPresidentHQ",
            "politics",
            "ChapoTrapHouse"
           ],
           "ids": [
            "JoeBiden",
            "SocialDemocracy",
            "BaemyKlobaechar",
            "demsocialist",
            "ConservativeDemocrat",
            "progressive",
            "ElizabethWarren",
            "moderatepolitics",
            "SandersForPresident",
            "centerleftpolitics",
            "Pete_Buttigieg",
            "YangForPresidentHQ",
            "politics",
            "ChapoTrapHouse"
           ],
           "legendgroup": "left",
           "marker": {
            "color": "blue",
            "opacity": 0.7,
            "symbol": "circle"
           },
           "mode": "markers+text",
           "name": "left",
           "scene": "scene",
           "showlegend": true,
           "text": [
            "JoeBiden",
            "SocialDemocracy",
            "BaemyKlobaechar",
            "demsocialist",
            "ConservativeDemocrat",
            "progressive",
            "ElizabethWarren",
            "moderatepolitics",
            "SandersForPresident",
            "centerleftpolitics",
            "Pete_Buttigieg",
            "YangForPresidentHQ",
            "politics",
            "ChapoTrapHouse"
           ],
           "type": "scatter3d",
           "x": [
            -0.1254419275069368,
            -0.052764525275272034,
            -0.2806345491318528,
            -0.4347861756549687,
            -0.24092680253460003,
            -0.18269451025484795,
            -0.18963126442048053,
            -0.15987533454970151,
            -0.13082772445472424,
            -0.0797140438414463,
            -0.16947297679432802,
            -0.09330598698067294,
            -0.2005022408715487,
            0.02231520172021304
           ],
           "y": [
            -0.04310027746963448,
            -0.2301732528791167,
            -0.1643283989537348,
            -0.12165790969069529,
            -0.2530279085300787,
            -0.05564619180056204,
            -0.06711838603909613,
            -0.11584048977449964,
            -0.13066494743057294,
            -0.13349041506541848,
            -0.08883866183366392,
            -0.10957125254347878,
            -0.10078011902115529,
            -0.13070020944188304
           ],
           "z": [
            0.002451028298109861,
            -0.11375558360239246,
            0.044306049531522354,
            -0.28042828540176656,
            -0.2858810383764081,
            -0.21544872473171103,
            0.030640170715779146,
            -0.13099110335422032,
            -0.11462878721850334,
            0.018906251179265594,
            0.005814420229305248,
            0.05950776062103011,
            -0.17964530379648688,
            -0.06437149302131291
           ]
          }
         ],
         "name": "2019-12-01"
        }
       ],
       "layout": {
        "legend": {
         "title": {
          "text": "partisan"
         },
         "tracegroupgap": 0
        },
        "margin": {
         "t": 60
        },
        "scene": {
         "domain": {
          "x": [
           0,
           1
          ],
          "y": [
           0,
           1
          ]
         },
         "xaxis": {
          "title": {
           "text": "0"
          }
         },
         "yaxis": {
          "title": {
           "text": "1"
          }
         },
         "zaxis": {
          "title": {
           "text": "2"
          }
         }
        },
        "sliders": [
         {
          "active": 0,
          "currentvalue": {
           "prefix": "animation_frame="
          },
          "len": 0.9,
          "pad": {
           "b": 10,
           "t": 60
          },
          "steps": [
           {
            "args": [
             [
              "2019-01-01"
             ],
             {
              "frame": {
               "duration": 0,
               "redraw": true
              },
              "fromcurrent": true,
              "mode": "immediate",
              "transition": {
               "duration": 0,
               "easing": "linear"
              }
             }
            ],
            "label": "2019-01-01",
            "method": "animate"
           },
           {
            "args": [
             [
              "2019-02-01"
             ],
             {
              "frame": {
               "duration": 0,
               "redraw": true
              },
              "fromcurrent": true,
              "mode": "immediate",
              "transition": {
               "duration": 0,
               "easing": "linear"
              }
             }
            ],
            "label": "2019-02-01",
            "method": "animate"
           },
           {
            "args": [
             [
              "2019-03-01"
             ],
             {
              "frame": {
               "duration": 0,
               "redraw": true
              },
              "fromcurrent": true,
              "mode": "immediate",
              "transition": {
               "duration": 0,
               "easing": "linear"
              }
             }
            ],
            "label": "2019-03-01",
            "method": "animate"
           },
           {
            "args": [
             [
              "2019-04-01"
             ],
             {
              "frame": {
               "duration": 0,
               "redraw": true
              },
              "fromcurrent": true,
              "mode": "immediate",
              "transition": {
               "duration": 0,
               "easing": "linear"
              }
             }
            ],
            "label": "2019-04-01",
            "method": "animate"
           },
           {
            "args": [
             [
              "2019-05-01"
             ],
             {
              "frame": {
               "duration": 0,
               "redraw": true
              },
              "fromcurrent": true,
              "mode": "immediate",
              "transition": {
               "duration": 0,
               "easing": "linear"
              }
             }
            ],
            "label": "2019-05-01",
            "method": "animate"
           },
           {
            "args": [
             [
              "2019-06-01"
             ],
             {
              "frame": {
               "duration": 0,
               "redraw": true
              },
              "fromcurrent": true,
              "mode": "immediate",
              "transition": {
               "duration": 0,
               "easing": "linear"
              }
             }
            ],
            "label": "2019-06-01",
            "method": "animate"
           },
           {
            "args": [
             [
              "2019-07-01"
             ],
             {
              "frame": {
               "duration": 0,
               "redraw": true
              },
              "fromcurrent": true,
              "mode": "immediate",
              "transition": {
               "duration": 0,
               "easing": "linear"
              }
             }
            ],
            "label": "2019-07-01",
            "method": "animate"
           },
           {
            "args": [
             [
              "2019-08-01"
             ],
             {
              "frame": {
               "duration": 0,
               "redraw": true
              },
              "fromcurrent": true,
              "mode": "immediate",
              "transition": {
               "duration": 0,
               "easing": "linear"
              }
             }
            ],
            "label": "2019-08-01",
            "method": "animate"
           },
           {
            "args": [
             [
              "2019-09-01"
             ],
             {
              "frame": {
               "duration": 0,
               "redraw": true
              },
              "fromcurrent": true,
              "mode": "immediate",
              "transition": {
               "duration": 0,
               "easing": "linear"
              }
             }
            ],
            "label": "2019-09-01",
            "method": "animate"
           },
           {
            "args": [
             [
              "2019-10-01"
             ],
             {
              "frame": {
               "duration": 0,
               "redraw": true
              },
              "fromcurrent": true,
              "mode": "immediate",
              "transition": {
               "duration": 0,
               "easing": "linear"
              }
             }
            ],
            "label": "2019-10-01",
            "method": "animate"
           },
           {
            "args": [
             [
              "2019-11-01"
             ],
             {
              "frame": {
               "duration": 0,
               "redraw": true
              },
              "fromcurrent": true,
              "mode": "immediate",
              "transition": {
               "duration": 0,
               "easing": "linear"
              }
             }
            ],
            "label": "2019-11-01",
            "method": "animate"
           },
           {
            "args": [
             [
              "2019-12-01"
             ],
             {
              "frame": {
               "duration": 0,
               "redraw": true
              },
              "fromcurrent": true,
              "mode": "immediate",
              "transition": {
               "duration": 0,
               "easing": "linear"
              }
             }
            ],
            "label": "2019-12-01",
            "method": "animate"
           }
          ],
          "x": 0.1,
          "xanchor": "left",
          "y": 0,
          "yanchor": "top"
         }
        ],
        "template": {
         "data": {
          "bar": [
           {
            "error_x": {
             "color": "#2a3f5f"
            },
            "error_y": {
             "color": "#2a3f5f"
            },
            "marker": {
             "line": {
              "color": "#E5ECF6",
              "width": 0.5
             }
            },
            "type": "bar"
           }
          ],
          "barpolar": [
           {
            "marker": {
             "line": {
              "color": "#E5ECF6",
              "width": 0.5
             }
            },
            "type": "barpolar"
           }
          ],
          "carpet": [
           {
            "aaxis": {
             "endlinecolor": "#2a3f5f",
             "gridcolor": "white",
             "linecolor": "white",
             "minorgridcolor": "white",
             "startlinecolor": "#2a3f5f"
            },
            "baxis": {
             "endlinecolor": "#2a3f5f",
             "gridcolor": "white",
             "linecolor": "white",
             "minorgridcolor": "white",
             "startlinecolor": "#2a3f5f"
            },
            "type": "carpet"
           }
          ],
          "choropleth": [
           {
            "colorbar": {
             "outlinewidth": 0,
             "ticks": ""
            },
            "type": "choropleth"
           }
          ],
          "contour": [
           {
            "colorbar": {
             "outlinewidth": 0,
             "ticks": ""
            },
            "colorscale": [
             [
              0,
              "#0d0887"
             ],
             [
              0.1111111111111111,
              "#46039f"
             ],
             [
              0.2222222222222222,
              "#7201a8"
             ],
             [
              0.3333333333333333,
              "#9c179e"
             ],
             [
              0.4444444444444444,
              "#bd3786"
             ],
             [
              0.5555555555555556,
              "#d8576b"
             ],
             [
              0.6666666666666666,
              "#ed7953"
             ],
             [
              0.7777777777777778,
              "#fb9f3a"
             ],
             [
              0.8888888888888888,
              "#fdca26"
             ],
             [
              1,
              "#f0f921"
             ]
            ],
            "type": "contour"
           }
          ],
          "contourcarpet": [
           {
            "colorbar": {
             "outlinewidth": 0,
             "ticks": ""
            },
            "type": "contourcarpet"
           }
          ],
          "heatmap": [
           {
            "colorbar": {
             "outlinewidth": 0,
             "ticks": ""
            },
            "colorscale": [
             [
              0,
              "#0d0887"
             ],
             [
              0.1111111111111111,
              "#46039f"
             ],
             [
              0.2222222222222222,
              "#7201a8"
             ],
             [
              0.3333333333333333,
              "#9c179e"
             ],
             [
              0.4444444444444444,
              "#bd3786"
             ],
             [
              0.5555555555555556,
              "#d8576b"
             ],
             [
              0.6666666666666666,
              "#ed7953"
             ],
             [
              0.7777777777777778,
              "#fb9f3a"
             ],
             [
              0.8888888888888888,
              "#fdca26"
             ],
             [
              1,
              "#f0f921"
             ]
            ],
            "type": "heatmap"
           }
          ],
          "heatmapgl": [
           {
            "colorbar": {
             "outlinewidth": 0,
             "ticks": ""
            },
            "colorscale": [
             [
              0,
              "#0d0887"
             ],
             [
              0.1111111111111111,
              "#46039f"
             ],
             [
              0.2222222222222222,
              "#7201a8"
             ],
             [
              0.3333333333333333,
              "#9c179e"
             ],
             [
              0.4444444444444444,
              "#bd3786"
             ],
             [
              0.5555555555555556,
              "#d8576b"
             ],
             [
              0.6666666666666666,
              "#ed7953"
             ],
             [
              0.7777777777777778,
              "#fb9f3a"
             ],
             [
              0.8888888888888888,
              "#fdca26"
             ],
             [
              1,
              "#f0f921"
             ]
            ],
            "type": "heatmapgl"
           }
          ],
          "histogram": [
           {
            "marker": {
             "colorbar": {
              "outlinewidth": 0,
              "ticks": ""
             }
            },
            "type": "histogram"
           }
          ],
          "histogram2d": [
           {
            "colorbar": {
             "outlinewidth": 0,
             "ticks": ""
            },
            "colorscale": [
             [
              0,
              "#0d0887"
             ],
             [
              0.1111111111111111,
              "#46039f"
             ],
             [
              0.2222222222222222,
              "#7201a8"
             ],
             [
              0.3333333333333333,
              "#9c179e"
             ],
             [
              0.4444444444444444,
              "#bd3786"
             ],
             [
              0.5555555555555556,
              "#d8576b"
             ],
             [
              0.6666666666666666,
              "#ed7953"
             ],
             [
              0.7777777777777778,
              "#fb9f3a"
             ],
             [
              0.8888888888888888,
              "#fdca26"
             ],
             [
              1,
              "#f0f921"
             ]
            ],
            "type": "histogram2d"
           }
          ],
          "histogram2dcontour": [
           {
            "colorbar": {
             "outlinewidth": 0,
             "ticks": ""
            },
            "colorscale": [
             [
              0,
              "#0d0887"
             ],
             [
              0.1111111111111111,
              "#46039f"
             ],
             [
              0.2222222222222222,
              "#7201a8"
             ],
             [
              0.3333333333333333,
              "#9c179e"
             ],
             [
              0.4444444444444444,
              "#bd3786"
             ],
             [
              0.5555555555555556,
              "#d8576b"
             ],
             [
              0.6666666666666666,
              "#ed7953"
             ],
             [
              0.7777777777777778,
              "#fb9f3a"
             ],
             [
              0.8888888888888888,
              "#fdca26"
             ],
             [
              1,
              "#f0f921"
             ]
            ],
            "type": "histogram2dcontour"
           }
          ],
          "mesh3d": [
           {
            "colorbar": {
             "outlinewidth": 0,
             "ticks": ""
            },
            "type": "mesh3d"
           }
          ],
          "parcoords": [
           {
            "line": {
             "colorbar": {
              "outlinewidth": 0,
              "ticks": ""
             }
            },
            "type": "parcoords"
           }
          ],
          "pie": [
           {
            "automargin": true,
            "type": "pie"
           }
          ],
          "scatter": [
           {
            "marker": {
             "colorbar": {
              "outlinewidth": 0,
              "ticks": ""
             }
            },
            "type": "scatter"
           }
          ],
          "scatter3d": [
           {
            "line": {
             "colorbar": {
              "outlinewidth": 0,
              "ticks": ""
             }
            },
            "marker": {
             "colorbar": {
              "outlinewidth": 0,
              "ticks": ""
             }
            },
            "type": "scatter3d"
           }
          ],
          "scattercarpet": [
           {
            "marker": {
             "colorbar": {
              "outlinewidth": 0,
              "ticks": ""
             }
            },
            "type": "scattercarpet"
           }
          ],
          "scattergeo": [
           {
            "marker": {
             "colorbar": {
              "outlinewidth": 0,
              "ticks": ""
             }
            },
            "type": "scattergeo"
           }
          ],
          "scattergl": [
           {
            "marker": {
             "colorbar": {
              "outlinewidth": 0,
              "ticks": ""
             }
            },
            "type": "scattergl"
           }
          ],
          "scattermapbox": [
           {
            "marker": {
             "colorbar": {
              "outlinewidth": 0,
              "ticks": ""
             }
            },
            "type": "scattermapbox"
           }
          ],
          "scatterpolar": [
           {
            "marker": {
             "colorbar": {
              "outlinewidth": 0,
              "ticks": ""
             }
            },
            "type": "scatterpolar"
           }
          ],
          "scatterpolargl": [
           {
            "marker": {
             "colorbar": {
              "outlinewidth": 0,
              "ticks": ""
             }
            },
            "type": "scatterpolargl"
           }
          ],
          "scatterternary": [
           {
            "marker": {
             "colorbar": {
              "outlinewidth": 0,
              "ticks": ""
             }
            },
            "type": "scatterternary"
           }
          ],
          "surface": [
           {
            "colorbar": {
             "outlinewidth": 0,
             "ticks": ""
            },
            "colorscale": [
             [
              0,
              "#0d0887"
             ],
             [
              0.1111111111111111,
              "#46039f"
             ],
             [
              0.2222222222222222,
              "#7201a8"
             ],
             [
              0.3333333333333333,
              "#9c179e"
             ],
             [
              0.4444444444444444,
              "#bd3786"
             ],
             [
              0.5555555555555556,
              "#d8576b"
             ],
             [
              0.6666666666666666,
              "#ed7953"
             ],
             [
              0.7777777777777778,
              "#fb9f3a"
             ],
             [
              0.8888888888888888,
              "#fdca26"
             ],
             [
              1,
              "#f0f921"
             ]
            ],
            "type": "surface"
           }
          ],
          "table": [
           {
            "cells": {
             "fill": {
              "color": "#EBF0F8"
             },
             "line": {
              "color": "white"
             }
            },
            "header": {
             "fill": {
              "color": "#C8D4E3"
             },
             "line": {
              "color": "white"
             }
            },
            "type": "table"
           }
          ]
         },
         "layout": {
          "annotationdefaults": {
           "arrowcolor": "#2a3f5f",
           "arrowhead": 0,
           "arrowwidth": 1
          },
          "coloraxis": {
           "colorbar": {
            "outlinewidth": 0,
            "ticks": ""
           }
          },
          "colorscale": {
           "diverging": [
            [
             0,
             "#8e0152"
            ],
            [
             0.1,
             "#c51b7d"
            ],
            [
             0.2,
             "#de77ae"
            ],
            [
             0.3,
             "#f1b6da"
            ],
            [
             0.4,
             "#fde0ef"
            ],
            [
             0.5,
             "#f7f7f7"
            ],
            [
             0.6,
             "#e6f5d0"
            ],
            [
             0.7,
             "#b8e186"
            ],
            [
             0.8,
             "#7fbc41"
            ],
            [
             0.9,
             "#4d9221"
            ],
            [
             1,
             "#276419"
            ]
           ],
           "sequential": [
            [
             0,
             "#0d0887"
            ],
            [
             0.1111111111111111,
             "#46039f"
            ],
            [
             0.2222222222222222,
             "#7201a8"
            ],
            [
             0.3333333333333333,
             "#9c179e"
            ],
            [
             0.4444444444444444,
             "#bd3786"
            ],
            [
             0.5555555555555556,
             "#d8576b"
            ],
            [
             0.6666666666666666,
             "#ed7953"
            ],
            [
             0.7777777777777778,
             "#fb9f3a"
            ],
            [
             0.8888888888888888,
             "#fdca26"
            ],
            [
             1,
             "#f0f921"
            ]
           ],
           "sequentialminus": [
            [
             0,
             "#0d0887"
            ],
            [
             0.1111111111111111,
             "#46039f"
            ],
            [
             0.2222222222222222,
             "#7201a8"
            ],
            [
             0.3333333333333333,
             "#9c179e"
            ],
            [
             0.4444444444444444,
             "#bd3786"
            ],
            [
             0.5555555555555556,
             "#d8576b"
            ],
            [
             0.6666666666666666,
             "#ed7953"
            ],
            [
             0.7777777777777778,
             "#fb9f3a"
            ],
            [
             0.8888888888888888,
             "#fdca26"
            ],
            [
             1,
             "#f0f921"
            ]
           ]
          },
          "colorway": [
           "#636efa",
           "#EF553B",
           "#00cc96",
           "#ab63fa",
           "#FFA15A",
           "#19d3f3",
           "#FF6692",
           "#B6E880",
           "#FF97FF",
           "#FECB52"
          ],
          "font": {
           "color": "#2a3f5f"
          },
          "geo": {
           "bgcolor": "white",
           "lakecolor": "white",
           "landcolor": "#E5ECF6",
           "showlakes": true,
           "showland": true,
           "subunitcolor": "white"
          },
          "hoverlabel": {
           "align": "left"
          },
          "hovermode": "closest",
          "mapbox": {
           "style": "light"
          },
          "paper_bgcolor": "white",
          "plot_bgcolor": "#E5ECF6",
          "polar": {
           "angularaxis": {
            "gridcolor": "white",
            "linecolor": "white",
            "ticks": ""
           },
           "bgcolor": "#E5ECF6",
           "radialaxis": {
            "gridcolor": "white",
            "linecolor": "white",
            "ticks": ""
           }
          },
          "scene": {
           "xaxis": {
            "backgroundcolor": "#E5ECF6",
            "gridcolor": "white",
            "gridwidth": 2,
            "linecolor": "white",
            "showbackground": true,
            "ticks": "",
            "zerolinecolor": "white"
           },
           "yaxis": {
            "backgroundcolor": "#E5ECF6",
            "gridcolor": "white",
            "gridwidth": 2,
            "linecolor": "white",
            "showbackground": true,
            "ticks": "",
            "zerolinecolor": "white"
           },
           "zaxis": {
            "backgroundcolor": "#E5ECF6",
            "gridcolor": "white",
            "gridwidth": 2,
            "linecolor": "white",
            "showbackground": true,
            "ticks": "",
            "zerolinecolor": "white"
           }
          },
          "shapedefaults": {
           "line": {
            "color": "#2a3f5f"
           }
          },
          "ternary": {
           "aaxis": {
            "gridcolor": "white",
            "linecolor": "white",
            "ticks": ""
           },
           "baxis": {
            "gridcolor": "white",
            "linecolor": "white",
            "ticks": ""
           },
           "bgcolor": "#E5ECF6",
           "caxis": {
            "gridcolor": "white",
            "linecolor": "white",
            "ticks": ""
           }
          },
          "title": {
           "x": 0.05
          },
          "xaxis": {
           "automargin": true,
           "gridcolor": "white",
           "linecolor": "white",
           "ticks": "",
           "title": {
            "standoff": 15
           },
           "zerolinecolor": "white",
           "zerolinewidth": 2
          },
          "yaxis": {
           "automargin": true,
           "gridcolor": "white",
           "linecolor": "white",
           "ticks": "",
           "title": {
            "standoff": 15
           },
           "zerolinecolor": "white",
           "zerolinewidth": 2
          }
         }
        },
        "updatemenus": [
         {
          "buttons": [
           {
            "args": [
             null,
             {
              "frame": {
               "duration": 500,
               "redraw": true
              },
              "fromcurrent": true,
              "mode": "immediate",
              "transition": {
               "duration": 500,
               "easing": "linear"
              }
             }
            ],
            "label": "&#9654;",
            "method": "animate"
           },
           {
            "args": [
             [
              null
             ],
             {
              "frame": {
               "duration": 0,
               "redraw": true
              },
              "fromcurrent": true,
              "mode": "immediate",
              "transition": {
               "duration": 0,
               "easing": "linear"
              }
             }
            ],
            "label": "&#9724;",
            "method": "animate"
           }
          ],
          "direction": "left",
          "pad": {
           "r": 10,
           "t": 70
          },
          "showactive": false,
          "type": "buttons",
          "x": 0.1,
          "xanchor": "right",
          "y": 0,
          "yanchor": "top"
         }
        ]
       }
      },
      "text/html": [
       "<div>\n",
       "        \n",
       "        \n",
       "            <div id=\"adf9f38e-8ca9-4b89-88bc-29f46c1ef6f9\" class=\"plotly-graph-div\" style=\"height:525px; width:100%;\"></div>\n",
       "            <script type=\"text/javascript\">\n",
       "                require([\"plotly\"], function(Plotly) {\n",
       "                    window.PLOTLYENV=window.PLOTLYENV || {};\n",
       "                    \n",
       "                if (document.getElementById(\"adf9f38e-8ca9-4b89-88bc-29f46c1ef6f9\")) {\n",
       "                    Plotly.newPlot(\n",
       "                        'adf9f38e-8ca9-4b89-88bc-29f46c1ef6f9',\n",
       "                        [{\"hovertemplate\": \"<b>%{hovertext}</b><br><br>partisan=right<br>animation_frame=2019-01-01<br>0=%{x}<br>1=%{y}<br>2=%{z}<br>subreddit=%{text}<extra></extra>\", \"hovertext\": [\"Capitalism\", \"ShitPoliticsSays\", \"Conservative\", \"The_Donald\", \"progun\", \"Republican\"], \"ids\": [\"Capitalism\", \"ShitPoliticsSays\", \"Conservative\", \"The_Donald\", \"progun\", \"Republican\"], \"legendgroup\": \"right\", \"marker\": {\"color\": \"red\", \"opacity\": 0.7, \"symbol\": \"circle\"}, \"mode\": \"markers+text\", \"name\": \"right\", \"scene\": \"scene\", \"showlegend\": true, \"text\": [\"Capitalism\", \"ShitPoliticsSays\", \"Conservative\", \"The_Donald\", \"progun\", \"Republican\"], \"type\": \"scatter3d\", \"x\": [-0.04564317881122326, 0.03637196632845934, -0.10938063699686824, 0.011155784792395346, -0.036677055251696775, -0.15363871456017106], \"y\": [-0.19876415381987564, -0.13454460501394153, -0.10585421297067477, 0.0036627638802034144, -0.042957484050800625, -0.10620112570091648], \"z\": [-0.12809251874293695, -0.20244773381265813, -0.22071086413158839, -0.1617661175728363, -0.3417798052539538, -0.19277833327250007]}, {\"hovertemplate\": \"<b>%{hovertext}</b><br><br>partisan=left<br>animation_frame=2019-01-01<br>0=%{x}<br>1=%{y}<br>2=%{z}<br>subreddit=%{text}<extra></extra>\", \"hovertext\": [\"JoeBiden\", \"SocialDemocracy\", \"BaemyKlobaechar\", \"demsocialist\", \"ConservativeDemocrat\", \"progressive\", \"ElizabethWarren\", \"moderatepolitics\", \"SandersForPresident\", \"centerleftpolitics\", \"Pete_Buttigieg\", \"YangForPresidentHQ\", \"politics\", \"ChapoTrapHouse\"], \"ids\": [\"JoeBiden\", \"SocialDemocracy\", \"BaemyKlobaechar\", \"demsocialist\", \"ConservativeDemocrat\", \"progressive\", \"ElizabethWarren\", \"moderatepolitics\", \"SandersForPresident\", \"centerleftpolitics\", \"Pete_Buttigieg\", \"YangForPresidentHQ\", \"politics\", \"ChapoTrapHouse\"], \"legendgroup\": \"left\", \"marker\": {\"color\": \"blue\", \"opacity\": 0.7, \"symbol\": \"circle\"}, \"mode\": \"markers+text\", \"name\": \"left\", \"scene\": \"scene\", \"showlegend\": true, \"text\": [\"JoeBiden\", \"SocialDemocracy\", \"BaemyKlobaechar\", \"demsocialist\", \"ConservativeDemocrat\", \"progressive\", \"ElizabethWarren\", \"moderatepolitics\", \"SandersForPresident\", \"centerleftpolitics\", \"Pete_Buttigieg\", \"YangForPresidentHQ\", \"politics\", \"ChapoTrapHouse\"], \"type\": \"scatter3d\", \"x\": [-0.06405191466418646, -0.15133053081754572, -0.23542316631453775, -0.2955495120344258, -0.21087876508933445, -0.17559782402030458, -0.3101548908096473, -0.15209377749212738, -0.14858587450339214, -0.056123606575113, -0.2460401196900674, -0.22423551085469692, -0.23387786961273846, -0.003506573674811709], \"y\": [-0.21669477768895706, -0.20638568105164576, -0.23529104729025932, -0.15895293731947513, -0.31273788069384717, -0.06626907910026646, -0.09254645445374712, -0.11306535056720074, -0.08132790816566428, -0.11575355342632102, -0.2311831155767346, -0.06152201151884421, -0.08952907955576923, -0.10338647507742386], \"z\": [-0.17330777944292486, -0.036042360429654786, -0.0937440910897643, -0.17925324028018724, -0.3590194036650791, -0.21039067146296075, -0.016076313597252836, -0.1685182306845636, -0.17740263487916116, -0.05418678775499443, 0.04116815054564969, 0.16761242257950185, -0.21723976158938582, -0.10490376061293884]}],\n",
       "                        {\"legend\": {\"title\": {\"text\": \"partisan\"}, \"tracegroupgap\": 0}, \"margin\": {\"t\": 60}, \"scene\": {\"domain\": {\"x\": [0.0, 1.0], \"y\": [0.0, 1.0]}, \"xaxis\": {\"title\": {\"text\": \"0\"}}, \"yaxis\": {\"title\": {\"text\": \"1\"}}, \"zaxis\": {\"title\": {\"text\": \"2\"}}}, \"sliders\": [{\"active\": 0, \"currentvalue\": {\"prefix\": \"animation_frame=\"}, \"len\": 0.9, \"pad\": {\"b\": 10, \"t\": 60}, \"steps\": [{\"args\": [[\"2019-01-01\"], {\"frame\": {\"duration\": 0, \"redraw\": true}, \"fromcurrent\": true, \"mode\": \"immediate\", \"transition\": {\"duration\": 0, \"easing\": \"linear\"}}], \"label\": \"2019-01-01\", \"method\": \"animate\"}, {\"args\": [[\"2019-02-01\"], {\"frame\": {\"duration\": 0, \"redraw\": true}, \"fromcurrent\": true, \"mode\": \"immediate\", \"transition\": {\"duration\": 0, \"easing\": \"linear\"}}], \"label\": \"2019-02-01\", \"method\": \"animate\"}, {\"args\": [[\"2019-03-01\"], {\"frame\": {\"duration\": 0, \"redraw\": true}, \"fromcurrent\": true, \"mode\": \"immediate\", \"transition\": {\"duration\": 0, \"easing\": \"linear\"}}], \"label\": \"2019-03-01\", \"method\": \"animate\"}, {\"args\": [[\"2019-04-01\"], {\"frame\": {\"duration\": 0, \"redraw\": true}, \"fromcurrent\": true, \"mode\": \"immediate\", \"transition\": {\"duration\": 0, \"easing\": \"linear\"}}], \"label\": \"2019-04-01\", \"method\": \"animate\"}, {\"args\": [[\"2019-05-01\"], {\"frame\": {\"duration\": 0, \"redraw\": true}, \"fromcurrent\": true, \"mode\": \"immediate\", \"transition\": {\"duration\": 0, \"easing\": \"linear\"}}], \"label\": \"2019-05-01\", \"method\": \"animate\"}, {\"args\": [[\"2019-06-01\"], {\"frame\": {\"duration\": 0, \"redraw\": true}, \"fromcurrent\": true, \"mode\": \"immediate\", \"transition\": {\"duration\": 0, \"easing\": \"linear\"}}], \"label\": \"2019-06-01\", \"method\": \"animate\"}, {\"args\": [[\"2019-07-01\"], {\"frame\": {\"duration\": 0, \"redraw\": true}, \"fromcurrent\": true, \"mode\": \"immediate\", \"transition\": {\"duration\": 0, \"easing\": \"linear\"}}], \"label\": \"2019-07-01\", \"method\": \"animate\"}, {\"args\": [[\"2019-08-01\"], {\"frame\": {\"duration\": 0, \"redraw\": true}, \"fromcurrent\": true, \"mode\": \"immediate\", \"transition\": {\"duration\": 0, \"easing\": \"linear\"}}], \"label\": \"2019-08-01\", \"method\": \"animate\"}, {\"args\": [[\"2019-09-01\"], {\"frame\": {\"duration\": 0, \"redraw\": true}, \"fromcurrent\": true, \"mode\": \"immediate\", \"transition\": {\"duration\": 0, \"easing\": \"linear\"}}], \"label\": \"2019-09-01\", \"method\": \"animate\"}, {\"args\": [[\"2019-10-01\"], {\"frame\": {\"duration\": 0, \"redraw\": true}, \"fromcurrent\": true, \"mode\": \"immediate\", \"transition\": {\"duration\": 0, \"easing\": \"linear\"}}], \"label\": \"2019-10-01\", \"method\": \"animate\"}, {\"args\": [[\"2019-11-01\"], {\"frame\": {\"duration\": 0, \"redraw\": true}, \"fromcurrent\": true, \"mode\": \"immediate\", \"transition\": {\"duration\": 0, \"easing\": \"linear\"}}], \"label\": \"2019-11-01\", \"method\": \"animate\"}, {\"args\": [[\"2019-12-01\"], {\"frame\": {\"duration\": 0, \"redraw\": true}, \"fromcurrent\": true, \"mode\": \"immediate\", \"transition\": {\"duration\": 0, \"easing\": \"linear\"}}], \"label\": \"2019-12-01\", \"method\": \"animate\"}], \"x\": 0.1, \"xanchor\": \"left\", \"y\": 0, \"yanchor\": \"top\"}], \"template\": {\"data\": {\"bar\": [{\"error_x\": {\"color\": \"#2a3f5f\"}, \"error_y\": {\"color\": \"#2a3f5f\"}, \"marker\": {\"line\": {\"color\": \"#E5ECF6\", \"width\": 0.5}}, \"type\": \"bar\"}], \"barpolar\": [{\"marker\": {\"line\": {\"color\": \"#E5ECF6\", \"width\": 0.5}}, \"type\": \"barpolar\"}], \"carpet\": [{\"aaxis\": {\"endlinecolor\": \"#2a3f5f\", \"gridcolor\": \"white\", \"linecolor\": \"white\", \"minorgridcolor\": \"white\", \"startlinecolor\": \"#2a3f5f\"}, \"baxis\": {\"endlinecolor\": \"#2a3f5f\", \"gridcolor\": \"white\", \"linecolor\": \"white\", \"minorgridcolor\": \"white\", \"startlinecolor\": \"#2a3f5f\"}, \"type\": \"carpet\"}], \"choropleth\": [{\"colorbar\": {\"outlinewidth\": 0, \"ticks\": \"\"}, \"type\": \"choropleth\"}], \"contour\": [{\"colorbar\": {\"outlinewidth\": 0, \"ticks\": \"\"}, \"colorscale\": [[0.0, \"#0d0887\"], [0.1111111111111111, \"#46039f\"], [0.2222222222222222, \"#7201a8\"], [0.3333333333333333, \"#9c179e\"], [0.4444444444444444, \"#bd3786\"], [0.5555555555555556, \"#d8576b\"], [0.6666666666666666, \"#ed7953\"], [0.7777777777777778, \"#fb9f3a\"], [0.8888888888888888, \"#fdca26\"], [1.0, \"#f0f921\"]], \"type\": \"contour\"}], \"contourcarpet\": [{\"colorbar\": {\"outlinewidth\": 0, \"ticks\": \"\"}, \"type\": \"contourcarpet\"}], \"heatmap\": [{\"colorbar\": {\"outlinewidth\": 0, \"ticks\": \"\"}, \"colorscale\": [[0.0, \"#0d0887\"], [0.1111111111111111, \"#46039f\"], [0.2222222222222222, \"#7201a8\"], [0.3333333333333333, \"#9c179e\"], [0.4444444444444444, \"#bd3786\"], [0.5555555555555556, \"#d8576b\"], [0.6666666666666666, \"#ed7953\"], [0.7777777777777778, \"#fb9f3a\"], [0.8888888888888888, \"#fdca26\"], [1.0, \"#f0f921\"]], \"type\": \"heatmap\"}], \"heatmapgl\": [{\"colorbar\": {\"outlinewidth\": 0, \"ticks\": \"\"}, \"colorscale\": [[0.0, \"#0d0887\"], [0.1111111111111111, \"#46039f\"], [0.2222222222222222, \"#7201a8\"], [0.3333333333333333, \"#9c179e\"], [0.4444444444444444, \"#bd3786\"], [0.5555555555555556, \"#d8576b\"], [0.6666666666666666, \"#ed7953\"], [0.7777777777777778, \"#fb9f3a\"], [0.8888888888888888, \"#fdca26\"], [1.0, \"#f0f921\"]], \"type\": \"heatmapgl\"}], \"histogram\": [{\"marker\": {\"colorbar\": {\"outlinewidth\": 0, \"ticks\": \"\"}}, \"type\": \"histogram\"}], \"histogram2d\": [{\"colorbar\": {\"outlinewidth\": 0, \"ticks\": \"\"}, \"colorscale\": [[0.0, \"#0d0887\"], [0.1111111111111111, \"#46039f\"], [0.2222222222222222, \"#7201a8\"], [0.3333333333333333, \"#9c179e\"], [0.4444444444444444, \"#bd3786\"], [0.5555555555555556, \"#d8576b\"], [0.6666666666666666, \"#ed7953\"], [0.7777777777777778, \"#fb9f3a\"], [0.8888888888888888, \"#fdca26\"], [1.0, \"#f0f921\"]], \"type\": \"histogram2d\"}], \"histogram2dcontour\": [{\"colorbar\": {\"outlinewidth\": 0, \"ticks\": \"\"}, \"colorscale\": [[0.0, \"#0d0887\"], [0.1111111111111111, \"#46039f\"], [0.2222222222222222, \"#7201a8\"], [0.3333333333333333, \"#9c179e\"], [0.4444444444444444, \"#bd3786\"], [0.5555555555555556, \"#d8576b\"], [0.6666666666666666, \"#ed7953\"], [0.7777777777777778, \"#fb9f3a\"], [0.8888888888888888, \"#fdca26\"], [1.0, \"#f0f921\"]], \"type\": \"histogram2dcontour\"}], \"mesh3d\": [{\"colorbar\": {\"outlinewidth\": 0, \"ticks\": \"\"}, \"type\": \"mesh3d\"}], \"parcoords\": [{\"line\": {\"colorbar\": {\"outlinewidth\": 0, \"ticks\": \"\"}}, \"type\": \"parcoords\"}], \"pie\": [{\"automargin\": true, \"type\": \"pie\"}], \"scatter\": [{\"marker\": {\"colorbar\": {\"outlinewidth\": 0, \"ticks\": \"\"}}, \"type\": \"scatter\"}], \"scatter3d\": [{\"line\": {\"colorbar\": {\"outlinewidth\": 0, \"ticks\": \"\"}}, \"marker\": {\"colorbar\": {\"outlinewidth\": 0, \"ticks\": \"\"}}, \"type\": \"scatter3d\"}], \"scattercarpet\": [{\"marker\": {\"colorbar\": {\"outlinewidth\": 0, \"ticks\": \"\"}}, \"type\": \"scattercarpet\"}], \"scattergeo\": [{\"marker\": {\"colorbar\": {\"outlinewidth\": 0, \"ticks\": \"\"}}, \"type\": \"scattergeo\"}], \"scattergl\": [{\"marker\": {\"colorbar\": {\"outlinewidth\": 0, \"ticks\": \"\"}}, \"type\": \"scattergl\"}], \"scattermapbox\": [{\"marker\": {\"colorbar\": {\"outlinewidth\": 0, \"ticks\": \"\"}}, \"type\": \"scattermapbox\"}], \"scatterpolar\": [{\"marker\": {\"colorbar\": {\"outlinewidth\": 0, \"ticks\": \"\"}}, \"type\": \"scatterpolar\"}], \"scatterpolargl\": [{\"marker\": {\"colorbar\": {\"outlinewidth\": 0, \"ticks\": \"\"}}, \"type\": \"scatterpolargl\"}], \"scatterternary\": [{\"marker\": {\"colorbar\": {\"outlinewidth\": 0, \"ticks\": \"\"}}, \"type\": \"scatterternary\"}], \"surface\": [{\"colorbar\": {\"outlinewidth\": 0, \"ticks\": \"\"}, \"colorscale\": [[0.0, \"#0d0887\"], [0.1111111111111111, \"#46039f\"], [0.2222222222222222, \"#7201a8\"], [0.3333333333333333, \"#9c179e\"], [0.4444444444444444, \"#bd3786\"], [0.5555555555555556, \"#d8576b\"], [0.6666666666666666, \"#ed7953\"], [0.7777777777777778, \"#fb9f3a\"], [0.8888888888888888, \"#fdca26\"], [1.0, \"#f0f921\"]], \"type\": \"surface\"}], \"table\": [{\"cells\": {\"fill\": {\"color\": \"#EBF0F8\"}, \"line\": {\"color\": \"white\"}}, \"header\": {\"fill\": {\"color\": \"#C8D4E3\"}, \"line\": {\"color\": \"white\"}}, \"type\": \"table\"}]}, \"layout\": {\"annotationdefaults\": {\"arrowcolor\": \"#2a3f5f\", \"arrowhead\": 0, \"arrowwidth\": 1}, \"coloraxis\": {\"colorbar\": {\"outlinewidth\": 0, \"ticks\": \"\"}}, \"colorscale\": {\"diverging\": [[0, \"#8e0152\"], [0.1, \"#c51b7d\"], [0.2, \"#de77ae\"], [0.3, \"#f1b6da\"], [0.4, \"#fde0ef\"], [0.5, \"#f7f7f7\"], [0.6, \"#e6f5d0\"], [0.7, \"#b8e186\"], [0.8, \"#7fbc41\"], [0.9, \"#4d9221\"], [1, \"#276419\"]], \"sequential\": [[0.0, \"#0d0887\"], [0.1111111111111111, \"#46039f\"], [0.2222222222222222, \"#7201a8\"], [0.3333333333333333, \"#9c179e\"], [0.4444444444444444, \"#bd3786\"], [0.5555555555555556, \"#d8576b\"], [0.6666666666666666, \"#ed7953\"], [0.7777777777777778, \"#fb9f3a\"], [0.8888888888888888, \"#fdca26\"], [1.0, \"#f0f921\"]], \"sequentialminus\": [[0.0, \"#0d0887\"], [0.1111111111111111, \"#46039f\"], [0.2222222222222222, \"#7201a8\"], [0.3333333333333333, \"#9c179e\"], [0.4444444444444444, \"#bd3786\"], [0.5555555555555556, \"#d8576b\"], [0.6666666666666666, \"#ed7953\"], [0.7777777777777778, \"#fb9f3a\"], [0.8888888888888888, \"#fdca26\"], [1.0, \"#f0f921\"]]}, \"colorway\": [\"#636efa\", \"#EF553B\", \"#00cc96\", \"#ab63fa\", \"#FFA15A\", \"#19d3f3\", \"#FF6692\", \"#B6E880\", \"#FF97FF\", \"#FECB52\"], \"font\": {\"color\": \"#2a3f5f\"}, \"geo\": {\"bgcolor\": \"white\", \"lakecolor\": \"white\", \"landcolor\": \"#E5ECF6\", \"showlakes\": true, \"showland\": true, \"subunitcolor\": \"white\"}, \"hoverlabel\": {\"align\": \"left\"}, \"hovermode\": \"closest\", \"mapbox\": {\"style\": \"light\"}, \"paper_bgcolor\": \"white\", \"plot_bgcolor\": \"#E5ECF6\", \"polar\": {\"angularaxis\": {\"gridcolor\": \"white\", \"linecolor\": \"white\", \"ticks\": \"\"}, \"bgcolor\": \"#E5ECF6\", \"radialaxis\": {\"gridcolor\": \"white\", \"linecolor\": \"white\", \"ticks\": \"\"}}, \"scene\": {\"xaxis\": {\"backgroundcolor\": \"#E5ECF6\", \"gridcolor\": \"white\", \"gridwidth\": 2, \"linecolor\": \"white\", \"showbackground\": true, \"ticks\": \"\", \"zerolinecolor\": \"white\"}, \"yaxis\": {\"backgroundcolor\": \"#E5ECF6\", \"gridcolor\": \"white\", \"gridwidth\": 2, \"linecolor\": \"white\", \"showbackground\": true, \"ticks\": \"\", \"zerolinecolor\": \"white\"}, \"zaxis\": {\"backgroundcolor\": \"#E5ECF6\", \"gridcolor\": \"white\", \"gridwidth\": 2, \"linecolor\": \"white\", \"showbackground\": true, \"ticks\": \"\", \"zerolinecolor\": \"white\"}}, \"shapedefaults\": {\"line\": {\"color\": \"#2a3f5f\"}}, \"ternary\": {\"aaxis\": {\"gridcolor\": \"white\", \"linecolor\": \"white\", \"ticks\": \"\"}, \"baxis\": {\"gridcolor\": \"white\", \"linecolor\": \"white\", \"ticks\": \"\"}, \"bgcolor\": \"#E5ECF6\", \"caxis\": {\"gridcolor\": \"white\", \"linecolor\": \"white\", \"ticks\": \"\"}}, \"title\": {\"x\": 0.05}, \"xaxis\": {\"automargin\": true, \"gridcolor\": \"white\", \"linecolor\": \"white\", \"ticks\": \"\", \"title\": {\"standoff\": 15}, \"zerolinecolor\": \"white\", \"zerolinewidth\": 2}, \"yaxis\": {\"automargin\": true, \"gridcolor\": \"white\", \"linecolor\": \"white\", \"ticks\": \"\", \"title\": {\"standoff\": 15}, \"zerolinecolor\": \"white\", \"zerolinewidth\": 2}}}, \"updatemenus\": [{\"buttons\": [{\"args\": [null, {\"frame\": {\"duration\": 500, \"redraw\": true}, \"fromcurrent\": true, \"mode\": \"immediate\", \"transition\": {\"duration\": 500, \"easing\": \"linear\"}}], \"label\": \"&#9654;\", \"method\": \"animate\"}, {\"args\": [[null], {\"frame\": {\"duration\": 0, \"redraw\": true}, \"fromcurrent\": true, \"mode\": \"immediate\", \"transition\": {\"duration\": 0, \"easing\": \"linear\"}}], \"label\": \"&#9724;\", \"method\": \"animate\"}], \"direction\": \"left\", \"pad\": {\"r\": 10, \"t\": 70}, \"showactive\": false, \"type\": \"buttons\", \"x\": 0.1, \"xanchor\": \"right\", \"y\": 0, \"yanchor\": \"top\"}]},\n",
       "                        {\"responsive\": true}\n",
       "                    ).then(function(){\n",
       "                            Plotly.addFrames('adf9f38e-8ca9-4b89-88bc-29f46c1ef6f9', [{\"data\": [{\"hovertemplate\": \"<b>%{hovertext}</b><br><br>partisan=right<br>animation_frame=2019-01-01<br>0=%{x}<br>1=%{y}<br>2=%{z}<br>subreddit=%{text}<extra></extra>\", \"hovertext\": [\"Capitalism\", \"ShitPoliticsSays\", \"Conservative\", \"The_Donald\", \"progun\", \"Republican\"], \"ids\": [\"Capitalism\", \"ShitPoliticsSays\", \"Conservative\", \"The_Donald\", \"progun\", \"Republican\"], \"legendgroup\": \"right\", \"marker\": {\"color\": \"red\", \"opacity\": 0.7, \"symbol\": \"circle\"}, \"mode\": \"markers+text\", \"name\": \"right\", \"scene\": \"scene\", \"showlegend\": true, \"text\": [\"Capitalism\", \"ShitPoliticsSays\", \"Conservative\", \"The_Donald\", \"progun\", \"Republican\"], \"x\": [-0.04564317881122326, 0.03637196632845934, -0.10938063699686824, 0.011155784792395346, -0.036677055251696775, -0.15363871456017106], \"y\": [-0.19876415381987564, -0.13454460501394153, -0.10585421297067477, 0.0036627638802034144, -0.042957484050800625, -0.10620112570091648], \"z\": [-0.12809251874293695, -0.20244773381265813, -0.22071086413158839, -0.1617661175728363, -0.3417798052539538, -0.19277833327250007], \"type\": \"scatter3d\"}, {\"hovertemplate\": \"<b>%{hovertext}</b><br><br>partisan=left<br>animation_frame=2019-01-01<br>0=%{x}<br>1=%{y}<br>2=%{z}<br>subreddit=%{text}<extra></extra>\", \"hovertext\": [\"JoeBiden\", \"SocialDemocracy\", \"BaemyKlobaechar\", \"demsocialist\", \"ConservativeDemocrat\", \"progressive\", \"ElizabethWarren\", \"moderatepolitics\", \"SandersForPresident\", \"centerleftpolitics\", \"Pete_Buttigieg\", \"YangForPresidentHQ\", \"politics\", \"ChapoTrapHouse\"], \"ids\": [\"JoeBiden\", \"SocialDemocracy\", \"BaemyKlobaechar\", \"demsocialist\", \"ConservativeDemocrat\", \"progressive\", \"ElizabethWarren\", \"moderatepolitics\", \"SandersForPresident\", \"centerleftpolitics\", \"Pete_Buttigieg\", \"YangForPresidentHQ\", \"politics\", \"ChapoTrapHouse\"], \"legendgroup\": \"left\", \"marker\": {\"color\": \"blue\", \"opacity\": 0.7, \"symbol\": \"circle\"}, \"mode\": \"markers+text\", \"name\": \"left\", \"scene\": \"scene\", \"showlegend\": true, \"text\": [\"JoeBiden\", \"SocialDemocracy\", \"BaemyKlobaechar\", \"demsocialist\", \"ConservativeDemocrat\", \"progressive\", \"ElizabethWarren\", \"moderatepolitics\", \"SandersForPresident\", \"centerleftpolitics\", \"Pete_Buttigieg\", \"YangForPresidentHQ\", \"politics\", \"ChapoTrapHouse\"], \"x\": [-0.06405191466418646, -0.15133053081754572, -0.23542316631453775, -0.2955495120344258, -0.21087876508933445, -0.17559782402030458, -0.3101548908096473, -0.15209377749212738, -0.14858587450339214, -0.056123606575113, -0.2460401196900674, -0.22423551085469692, -0.23387786961273846, -0.003506573674811709], \"y\": [-0.21669477768895706, -0.20638568105164576, -0.23529104729025932, -0.15895293731947513, -0.31273788069384717, -0.06626907910026646, -0.09254645445374712, -0.11306535056720074, -0.08132790816566428, -0.11575355342632102, -0.2311831155767346, -0.06152201151884421, -0.08952907955576923, -0.10338647507742386], \"z\": [-0.17330777944292486, -0.036042360429654786, -0.0937440910897643, -0.17925324028018724, -0.3590194036650791, -0.21039067146296075, -0.016076313597252836, -0.1685182306845636, -0.17740263487916116, -0.05418678775499443, 0.04116815054564969, 0.16761242257950185, -0.21723976158938582, -0.10490376061293884], \"type\": \"scatter3d\"}], \"name\": \"2019-01-01\"}, {\"data\": [{\"hovertemplate\": \"<b>%{hovertext}</b><br><br>partisan=right<br>animation_frame=2019-02-01<br>0=%{x}<br>1=%{y}<br>2=%{z}<br>subreddit=%{text}<extra></extra>\", \"hovertext\": [\"Capitalism\", \"ShitPoliticsSays\", \"Conservative\", \"The_Donald\", \"progun\", \"Republican\"], \"ids\": [\"Capitalism\", \"ShitPoliticsSays\", \"Conservative\", \"The_Donald\", \"progun\", \"Republican\"], \"legendgroup\": \"right\", \"marker\": {\"color\": \"red\", \"opacity\": 0.7, \"symbol\": \"circle\"}, \"mode\": \"markers+text\", \"name\": \"right\", \"scene\": \"scene\", \"showlegend\": true, \"text\": [\"Capitalism\", \"ShitPoliticsSays\", \"Conservative\", \"The_Donald\", \"progun\", \"Republican\"], \"x\": [-0.06153333747168701, 0.026672169988920642, -0.09499701608970064, 0.012495219177175332, -0.03839196487609665, -0.11194291230508416], \"y\": [-0.13739867132355435, -0.12487350261862355, -0.11428393319535432, -0.011401185360973114, -0.0615558251602749, -0.07782379323198275], \"z\": [-0.16625472500625038, -0.22487852790502028, -0.21124890213327815, -0.15330013912182824, -0.32089778799609286, -0.16912474616484602], \"type\": \"scatter3d\"}, {\"hovertemplate\": \"<b>%{hovertext}</b><br><br>partisan=left<br>animation_frame=2019-02-01<br>0=%{x}<br>1=%{y}<br>2=%{z}<br>subreddit=%{text}<extra></extra>\", \"hovertext\": [\"JoeBiden\", \"SocialDemocracy\", \"BaemyKlobaechar\", \"demsocialist\", \"ConservativeDemocrat\", \"progressive\", \"ElizabethWarren\", \"moderatepolitics\", \"SandersForPresident\", \"centerleftpolitics\", \"Pete_Buttigieg\", \"YangForPresidentHQ\", \"politics\", \"ChapoTrapHouse\"], \"ids\": [\"JoeBiden\", \"SocialDemocracy\", \"BaemyKlobaechar\", \"demsocialist\", \"ConservativeDemocrat\", \"progressive\", \"ElizabethWarren\", \"moderatepolitics\", \"SandersForPresident\", \"centerleftpolitics\", \"Pete_Buttigieg\", \"YangForPresidentHQ\", \"politics\", \"ChapoTrapHouse\"], \"legendgroup\": \"left\", \"marker\": {\"color\": \"blue\", \"opacity\": 0.7, \"symbol\": \"circle\"}, \"mode\": \"markers+text\", \"name\": \"left\", \"scene\": \"scene\", \"showlegend\": true, \"text\": [\"JoeBiden\", \"SocialDemocracy\", \"BaemyKlobaechar\", \"demsocialist\", \"ConservativeDemocrat\", \"progressive\", \"ElizabethWarren\", \"moderatepolitics\", \"SandersForPresident\", \"centerleftpolitics\", \"Pete_Buttigieg\", \"YangForPresidentHQ\", \"politics\", \"ChapoTrapHouse\"], \"x\": [-0.11827310127025939, -0.09670302568688684, -0.22793948852965512, -0.23827698919461876, -0.3048312024555312, -0.16503854045276037, -0.21556649905068342, -0.18612061805049002, -0.13867972372558068, -0.056569145349264244, -0.4275048592875677, -0.1572305441123238, -0.23016513667405564, 0.017503622374259193], \"y\": [-0.21054448713088364, -0.16956806727717974, -0.1514315359078379, -0.17778368118143145, -0.2412932688311081, -0.05902893924007624, -0.13172773655552777, -0.16222170579159642, -0.09669012133756216, -0.07688400997372553, -0.14450721000255667, -0.07291577958461107, -0.10321921398688703, -0.10182453112340174], \"z\": [0.1050715263730409, -0.04811428069352998, -0.003355080869259042, -0.16893549283169576, -0.20345709066564593, -0.14851736098740603, 0.014840043570411514, -0.15145283521093716, -0.1332878509497257, -0.048951326751381065, -0.02518103962626085, -0.04190228048997502, -0.21982801110040784, -0.11011553616835013], \"type\": \"scatter3d\"}], \"name\": \"2019-02-01\"}, {\"data\": [{\"hovertemplate\": \"<b>%{hovertext}</b><br><br>partisan=right<br>animation_frame=2019-03-01<br>0=%{x}<br>1=%{y}<br>2=%{z}<br>subreddit=%{text}<extra></extra>\", \"hovertext\": [\"Capitalism\", \"ShitPoliticsSays\", \"Conservative\", \"The_Donald\", \"progun\", \"Republican\"], \"ids\": [\"Capitalism\", \"ShitPoliticsSays\", \"Conservative\", \"The_Donald\", \"progun\", \"Republican\"], \"legendgroup\": \"right\", \"marker\": {\"color\": \"red\", \"opacity\": 0.7, \"symbol\": \"circle\"}, \"mode\": \"markers+text\", \"name\": \"right\", \"scene\": \"scene\", \"showlegend\": true, \"text\": [\"Capitalism\", \"ShitPoliticsSays\", \"Conservative\", \"The_Donald\", \"progun\", \"Republican\"], \"x\": [-0.07828001536065361, 0.03923056556815466, -0.10912937199470768, 0.025378040107090886, -0.010019000065521066, -0.10317433757910223], \"y\": [-0.1842669643096642, -0.1295634353880954, -0.11142323369873339, -0.019770229427204928, -0.11105596017909988, -0.08039590030277328], \"z\": [-0.06824851277897559, -0.2445135527215973, -0.22519161819339797, -0.1464495654876471, -0.3322910508740658, -0.22124934636332966], \"type\": \"scatter3d\"}, {\"hovertemplate\": \"<b>%{hovertext}</b><br><br>partisan=left<br>animation_frame=2019-03-01<br>0=%{x}<br>1=%{y}<br>2=%{z}<br>subreddit=%{text}<extra></extra>\", \"hovertext\": [\"JoeBiden\", \"SocialDemocracy\", \"BaemyKlobaechar\", \"demsocialist\", \"ConservativeDemocrat\", \"progressive\", \"ElizabethWarren\", \"moderatepolitics\", \"SandersForPresident\", \"centerleftpolitics\", \"Pete_Buttigieg\", \"YangForPresidentHQ\", \"politics\", \"ChapoTrapHouse\"], \"ids\": [\"JoeBiden\", \"SocialDemocracy\", \"BaemyKlobaechar\", \"demsocialist\", \"ConservativeDemocrat\", \"progressive\", \"ElizabethWarren\", \"moderatepolitics\", \"SandersForPresident\", \"centerleftpolitics\", \"Pete_Buttigieg\", \"YangForPresidentHQ\", \"politics\", \"ChapoTrapHouse\"], \"legendgroup\": \"left\", \"marker\": {\"color\": \"blue\", \"opacity\": 0.7, \"symbol\": \"circle\"}, \"mode\": \"markers+text\", \"name\": \"left\", \"scene\": \"scene\", \"showlegend\": true, \"text\": [\"JoeBiden\", \"SocialDemocracy\", \"BaemyKlobaechar\", \"demsocialist\", \"ConservativeDemocrat\", \"progressive\", \"ElizabethWarren\", \"moderatepolitics\", \"SandersForPresident\", \"centerleftpolitics\", \"Pete_Buttigieg\", \"YangForPresidentHQ\", \"politics\", \"ChapoTrapHouse\"], \"x\": [-0.38120180590198516, -0.13262580400717996, -0.4735365800416028, -0.25955921809942495, -0.341308598227177, -0.185050540190307, -0.28563311001380326, -0.15802725540826193, -0.11441459402755404, -0.062335910114638154, -0.17599781229758982, -0.053991810461211376, -0.21468522533233153, 0.011280734581517569], \"y\": [-0.07503782504613939, -0.2414127218247507, -0.13806768557128138, -0.19848645243146154, -0.17889002066257773, -0.02803829364604051, -0.11851553363700289, -0.1440128981944165, -0.12097787535803885, -0.0744063466915825, -0.0009738972086141994, -0.09681654247203964, -0.1145365626034504, -0.14248705506641868], \"z\": [-0.20730655837535758, -0.02674814775587792, -0.004779953497206959, -0.1429571979671274, -0.27448224118361775, -0.1654979087418626, 0.02207220908733119, -0.18612986415504185, -0.15886748107506385, -0.028255456799100163, -0.04626481162555882, 0.022161361447712014, -0.2577961587866062, -0.09719610510609165], \"type\": \"scatter3d\"}], \"name\": \"2019-03-01\"}, {\"data\": [{\"hovertemplate\": \"<b>%{hovertext}</b><br><br>partisan=right<br>animation_frame=2019-04-01<br>0=%{x}<br>1=%{y}<br>2=%{z}<br>subreddit=%{text}<extra></extra>\", \"hovertext\": [\"Republican\", \"progun\", \"The_Donald\", \"Conservative\", \"ShitPoliticsSays\", \"Capitalism\"], \"ids\": [\"Republican\", \"progun\", \"The_Donald\", \"Conservative\", \"ShitPoliticsSays\", \"Capitalism\"], \"legendgroup\": \"right\", \"marker\": {\"color\": \"red\", \"opacity\": 0.7, \"symbol\": \"circle\"}, \"mode\": \"markers+text\", \"name\": \"right\", \"scene\": \"scene\", \"showlegend\": true, \"text\": [\"Republican\", \"progun\", \"The_Donald\", \"Conservative\", \"ShitPoliticsSays\", \"Capitalism\"], \"x\": [-0.11864341318778432, -0.0055023028810184315, 0.018047095195780665, -0.09038324284830392, 0.033197274651167376, -0.05522769647587393], \"y\": [-0.06691980424343957, -0.06538805321091418, -0.007379606720564872, -0.154061821320903, -0.1620725574520283, -0.13991853341992075], \"z\": [-0.19951972859142258, -0.3637997730521143, -0.16033603498630467, -0.20404946860334647, -0.21299024247674672, -0.1822640051977016], \"type\": \"scatter3d\"}, {\"hovertemplate\": \"<b>%{hovertext}</b><br><br>partisan=left<br>animation_frame=2019-04-01<br>0=%{x}<br>1=%{y}<br>2=%{z}<br>subreddit=%{text}<extra></extra>\", \"hovertext\": [\"ChapoTrapHouse\", \"politics\", \"YangForPresidentHQ\", \"Pete_Buttigieg\", \"centerleftpolitics\", \"SandersForPresident\", \"moderatepolitics\", \"ElizabethWarren\", \"progressive\", \"ConservativeDemocrat\", \"demsocialist\", \"BaemyKlobaechar\", \"SocialDemocracy\", \"JoeBiden\"], \"ids\": [\"ChapoTrapHouse\", \"politics\", \"YangForPresidentHQ\", \"Pete_Buttigieg\", \"centerleftpolitics\", \"SandersForPresident\", \"moderatepolitics\", \"ElizabethWarren\", \"progressive\", \"ConservativeDemocrat\", \"demsocialist\", \"BaemyKlobaechar\", \"SocialDemocracy\", \"JoeBiden\"], \"legendgroup\": \"left\", \"marker\": {\"color\": \"blue\", \"opacity\": 0.7, \"symbol\": \"circle\"}, \"mode\": \"markers+text\", \"name\": \"left\", \"scene\": \"scene\", \"showlegend\": true, \"text\": [\"ChapoTrapHouse\", \"politics\", \"YangForPresidentHQ\", \"Pete_Buttigieg\", \"centerleftpolitics\", \"SandersForPresident\", \"moderatepolitics\", \"ElizabethWarren\", \"progressive\", \"ConservativeDemocrat\", \"demsocialist\", \"BaemyKlobaechar\", \"SocialDemocracy\", \"JoeBiden\"], \"x\": [0.018169409269141828, -0.20325716864277343, -0.0716552652565652, -0.20411540822160315, -0.06139500656455193, -0.11244904322860848, -0.16994452200983923, -0.21636295184050944, -0.21515100968121792, -0.2612291582863468, -0.2847029722539913, -0.2821855032804015, -0.13109383553483467, -0.26049757711431865], \"y\": [-0.13413073975781498, -0.11204425257384851, -0.09864102450502986, -0.07756779756175115, -0.10308204850319216, -0.10300844872321346, -0.14421868076070188, -0.06928077907351779, -0.060254924959895026, -0.22682722749190962, -0.13862410848411327, -0.21786710510872948, -0.24724632011736516, -0.050633799797189925], \"z\": [-0.11034254481802581, -0.2461004110874583, 0.023228750419879325, -0.04540152272682838, -0.0611437273870832, -0.15855887536535848, -0.1692125109436717, -0.0087224344267072, -0.16106821049929948, -0.22791481568441777, -0.15818481935627637, -0.09368123241099208, -0.0812547130471826, -0.046598352521768985], \"type\": \"scatter3d\"}], \"name\": \"2019-04-01\"}, {\"data\": [{\"hovertemplate\": \"<b>%{hovertext}</b><br><br>partisan=right<br>animation_frame=2019-05-01<br>0=%{x}<br>1=%{y}<br>2=%{z}<br>subreddit=%{text}<extra></extra>\", \"hovertext\": [\"Capitalism\", \"ShitPoliticsSays\", \"Conservative\", \"The_Donald\", \"progun\", \"Republican\"], \"ids\": [\"Capitalism\", \"ShitPoliticsSays\", \"Conservative\", \"The_Donald\", \"progun\", \"Republican\"], \"legendgroup\": \"right\", \"marker\": {\"color\": \"red\", \"opacity\": 0.7, \"symbol\": \"circle\"}, \"mode\": \"markers+text\", \"name\": \"right\", \"scene\": \"scene\", \"showlegend\": true, \"text\": [\"Capitalism\", \"ShitPoliticsSays\", \"Conservative\", \"The_Donald\", \"progun\", \"Republican\"], \"x\": [-0.04576669744946446, 0.024102719753915088, -0.09994862628071069, 0.03127426382874117, -0.01709171494668693, -0.1248180686916224], \"y\": [-0.15780436441886456, -0.17000565202721613, -0.158524666682377, -0.028556104767743933, -0.09167167053218087, -0.033766503724968464], \"z\": [-0.16869170209895748, -0.19872071194497234, -0.20909730375338717, -0.1515905925702399, -0.3170647904119734, -0.20939049335167323], \"type\": \"scatter3d\"}, {\"hovertemplate\": \"<b>%{hovertext}</b><br><br>partisan=left<br>animation_frame=2019-05-01<br>0=%{x}<br>1=%{y}<br>2=%{z}<br>subreddit=%{text}<extra></extra>\", \"hovertext\": [\"JoeBiden\", \"SocialDemocracy\", \"BaemyKlobaechar\", \"demsocialist\", \"ConservativeDemocrat\", \"progressive\", \"ElizabethWarren\", \"moderatepolitics\", \"SandersForPresident\", \"centerleftpolitics\", \"Pete_Buttigieg\", \"YangForPresidentHQ\", \"politics\", \"ChapoTrapHouse\"], \"ids\": [\"JoeBiden\", \"SocialDemocracy\", \"BaemyKlobaechar\", \"demsocialist\", \"ConservativeDemocrat\", \"progressive\", \"ElizabethWarren\", \"moderatepolitics\", \"SandersForPresident\", \"centerleftpolitics\", \"Pete_Buttigieg\", \"YangForPresidentHQ\", \"politics\", \"ChapoTrapHouse\"], \"legendgroup\": \"left\", \"marker\": {\"color\": \"blue\", \"opacity\": 0.7, \"symbol\": \"circle\"}, \"mode\": \"markers+text\", \"name\": \"left\", \"scene\": \"scene\", \"showlegend\": true, \"text\": [\"JoeBiden\", \"SocialDemocracy\", \"BaemyKlobaechar\", \"demsocialist\", \"ConservativeDemocrat\", \"progressive\", \"ElizabethWarren\", \"moderatepolitics\", \"SandersForPresident\", \"centerleftpolitics\", \"Pete_Buttigieg\", \"YangForPresidentHQ\", \"politics\", \"ChapoTrapHouse\"], \"x\": [-0.1976095528009735, -0.13075140207550032, -0.23417411632069612, -0.27444248784612807, -0.41046609144395546, -0.1865208724948038, -0.20946383045555259, -0.15948253576706195, -0.14259654031039293, -0.03485283666816712, -0.18607721842909344, -0.055459445673096255, -0.20573582645989646, 0.0250582564163893], \"y\": [-0.03349054495373769, -0.2334529523832047, -0.1013384016996518, -0.23168502657299203, -0.23899750358302768, -0.09056002950174717, -0.08697954392614782, -0.14547014469046748, -0.08457606776347401, -0.10685405690500373, -0.05327007249702889, -0.10271936579133899, -0.09634350453288135, -0.14237726818258536], \"z\": [-0.11832114195900979, -0.0353084761993418, -0.19305928661654384, -0.18457378646976794, -0.3431769467273365, -0.19849384660208308, -0.05920966341017526, -0.12482905864180632, -0.13952918300372083, -0.02398797660615324, -0.037699482878893686, 0.02044792602612032, -0.23665919704292465, -0.10602247144029338], \"type\": \"scatter3d\"}], \"name\": \"2019-05-01\"}, {\"data\": [{\"hovertemplate\": \"<b>%{hovertext}</b><br><br>partisan=right<br>animation_frame=2019-06-01<br>0=%{x}<br>1=%{y}<br>2=%{z}<br>subreddit=%{text}<extra></extra>\", \"hovertext\": [\"Republican\", \"progun\", \"The_Donald\", \"Conservative\", \"ShitPoliticsSays\", \"Capitalism\"], \"ids\": [\"Republican\", \"progun\", \"The_Donald\", \"Conservative\", \"ShitPoliticsSays\", \"Capitalism\"], \"legendgroup\": \"right\", \"marker\": {\"color\": \"red\", \"opacity\": 0.7, \"symbol\": \"circle\"}, \"mode\": \"markers+text\", \"name\": \"right\", \"scene\": \"scene\", \"showlegend\": true, \"text\": [\"Republican\", \"progun\", \"The_Donald\", \"Conservative\", \"ShitPoliticsSays\", \"Capitalism\"], \"x\": [-0.12695800165333065, -0.01466909503553984, 0.02698677755145048, -0.06886599466032305, 0.025554044707585166, -0.09133173142488683], \"y\": [-0.041986099441020816, -0.07401566249903935, -0.01964407173655971, -0.13358309316026404, -0.15141435097264852, -0.1689459577960633], \"z\": [-0.21400494506982717, -0.35107229127883155, -0.14983742211503095, -0.1948993635030326, -0.20888234348058998, -0.1563838250063117], \"type\": \"scatter3d\"}, {\"hovertemplate\": \"<b>%{hovertext}</b><br><br>partisan=left<br>animation_frame=2019-06-01<br>0=%{x}<br>1=%{y}<br>2=%{z}<br>subreddit=%{text}<extra></extra>\", \"hovertext\": [\"ChapoTrapHouse\", \"politics\", \"YangForPresidentHQ\", \"Pete_Buttigieg\", \"centerleftpolitics\", \"SandersForPresident\", \"moderatepolitics\", \"ElizabethWarren\", \"progressive\", \"ConservativeDemocrat\", \"demsocialist\", \"BaemyKlobaechar\", \"SocialDemocracy\", \"JoeBiden\"], \"ids\": [\"ChapoTrapHouse\", \"politics\", \"YangForPresidentHQ\", \"Pete_Buttigieg\", \"centerleftpolitics\", \"SandersForPresident\", \"moderatepolitics\", \"ElizabethWarren\", \"progressive\", \"ConservativeDemocrat\", \"demsocialist\", \"BaemyKlobaechar\", \"SocialDemocracy\", \"JoeBiden\"], \"legendgroup\": \"left\", \"marker\": {\"color\": \"blue\", \"opacity\": 0.7, \"symbol\": \"circle\"}, \"mode\": \"markers+text\", \"name\": \"left\", \"scene\": \"scene\", \"showlegend\": true, \"text\": [\"ChapoTrapHouse\", \"politics\", \"YangForPresidentHQ\", \"Pete_Buttigieg\", \"centerleftpolitics\", \"SandersForPresident\", \"moderatepolitics\", \"ElizabethWarren\", \"progressive\", \"ConservativeDemocrat\", \"demsocialist\", \"BaemyKlobaechar\", \"SocialDemocracy\", \"JoeBiden\"], \"x\": [0.038287523937947175, -0.19056031989720268, -0.06839327847545254, -0.14748409489249056, -0.05401694735565733, -0.13572822059947934, -0.1502291749294442, -0.19394924724647547, -0.19960262747892712, -0.30587601844546247, -0.15318355572177728, -0.19642026487240752, -0.03536730265597458, -0.17516983897308117], \"y\": [-0.14409013754160127, -0.1123604248984023, -0.10336880355423374, -0.04719464093157931, -0.11092897345138945, -0.15590241725445858, -0.18039504624321032, -0.07719646879732513, -0.10674080533500074, -0.1426757820540519, -0.3072806813255134, -0.12382673604551099, -0.24196898936207445, -0.07752623322288925], \"z\": [-0.1177127702045191, -0.22050907688348287, 0.03458889173213024, -0.02110147261084029, -0.032451744539809264, -0.13298081391770905, -0.15169904734694697, -0.02673095646327265, -0.17285152106955404, -0.3017001924359899, -0.177499432435141, 0.06459505124665861, -0.013572410675358663, -0.05987972132329167], \"type\": \"scatter3d\"}], \"name\": \"2019-06-01\"}, {\"data\": [{\"hovertemplate\": \"<b>%{hovertext}</b><br><br>partisan=right<br>animation_frame=2019-07-01<br>0=%{x}<br>1=%{y}<br>2=%{z}<br>subreddit=%{text}<extra></extra>\", \"hovertext\": [\"Republican\", \"progun\", \"The_Donald\", \"Conservative\", \"ShitPoliticsSays\", \"Capitalism\"], \"ids\": [\"Republican\", \"progun\", \"The_Donald\", \"Conservative\", \"ShitPoliticsSays\", \"Capitalism\"], \"legendgroup\": \"right\", \"marker\": {\"color\": \"red\", \"opacity\": 0.7, \"symbol\": \"circle\"}, \"mode\": \"markers+text\", \"name\": \"right\", \"scene\": \"scene\", \"showlegend\": true, \"text\": [\"Republican\", \"progun\", \"The_Donald\", \"Conservative\", \"ShitPoliticsSays\", \"Capitalism\"], \"x\": [-0.11387769274907864, 0.007191362572362904, 0.053870480975049574, -0.0683567137494547, 0.019680369349371576, -0.03964877760816236], \"y\": [-0.04024535604648674, -0.08837882867229707, 0.0015029957250532874, -0.13549807492653762, -0.17201282069386636, -0.12840656892764415], \"z\": [-0.20052353297172687, -0.34184494217829114, -0.13860920870918997, -0.1988210813680733, -0.2265749548693869, -0.10772301074133447], \"type\": \"scatter3d\"}, {\"hovertemplate\": \"<b>%{hovertext}</b><br><br>partisan=left<br>animation_frame=2019-07-01<br>0=%{x}<br>1=%{y}<br>2=%{z}<br>subreddit=%{text}<extra></extra>\", \"hovertext\": [\"ChapoTrapHouse\", \"politics\", \"YangForPresidentHQ\", \"Pete_Buttigieg\", \"centerleftpolitics\", \"SandersForPresident\", \"moderatepolitics\", \"ElizabethWarren\", \"progressive\", \"ConservativeDemocrat\", \"demsocialist\", \"BaemyKlobaechar\", \"SocialDemocracy\", \"JoeBiden\"], \"ids\": [\"ChapoTrapHouse\", \"politics\", \"YangForPresidentHQ\", \"Pete_Buttigieg\", \"centerleftpolitics\", \"SandersForPresident\", \"moderatepolitics\", \"ElizabethWarren\", \"progressive\", \"ConservativeDemocrat\", \"demsocialist\", \"BaemyKlobaechar\", \"SocialDemocracy\", \"JoeBiden\"], \"legendgroup\": \"left\", \"marker\": {\"color\": \"blue\", \"opacity\": 0.7, \"symbol\": \"circle\"}, \"mode\": \"markers+text\", \"name\": \"left\", \"scene\": \"scene\", \"showlegend\": true, \"text\": [\"ChapoTrapHouse\", \"politics\", \"YangForPresidentHQ\", \"Pete_Buttigieg\", \"centerleftpolitics\", \"SandersForPresident\", \"moderatepolitics\", \"ElizabethWarren\", \"progressive\", \"ConservativeDemocrat\", \"demsocialist\", \"BaemyKlobaechar\", \"SocialDemocracy\", \"JoeBiden\"], \"x\": [0.00682275603876837, -0.18269855021372475, -0.09047284483644098, -0.1731952376401356, -0.03663700315015527, -0.10124645092980676, -0.1542556946970484, -0.17774219304925856, -0.2044359238617788, -0.07086857429603652, -0.3341447246239509, -0.43411621461735034, -0.08612732303541608, -0.11517970550100783], \"y\": [-0.14193006676889783, -0.11670127278261454, -0.12109647136028091, -0.04112218257687539, -0.10006940208840791, -0.12104920768301068, -0.1382493055193627, -0.0917147079397041, -0.084361337257313, -0.24050797154820777, -0.17088553855122535, -0.07030168223099624, -0.3351128934186955, -0.03604072510553533], \"z\": [-0.10558549641222421, -0.1961124710268214, 0.023404080727071085, -0.0206601549119412, 0.00761873545797102, -0.17962771989630333, -0.126123775514659, -0.024582603194636097, -0.2183339529074696, -0.1757743343330387, -0.2533547393007958, -0.1084561207304161, -0.041610772452521406, -0.07434893001378783], \"type\": \"scatter3d\"}], \"name\": \"2019-07-01\"}, {\"data\": [{\"hovertemplate\": \"<b>%{hovertext}</b><br><br>partisan=right<br>animation_frame=2019-08-01<br>0=%{x}<br>1=%{y}<br>2=%{z}<br>subreddit=%{text}<extra></extra>\", \"hovertext\": [\"Capitalism\", \"ShitPoliticsSays\", \"Conservative\", \"The_Donald\", \"progun\", \"Republican\"], \"ids\": [\"Capitalism\", \"ShitPoliticsSays\", \"Conservative\", \"The_Donald\", \"progun\", \"Republican\"], \"legendgroup\": \"right\", \"marker\": {\"color\": \"red\", \"opacity\": 0.7, \"symbol\": \"circle\"}, \"mode\": \"markers+text\", \"name\": \"right\", \"scene\": \"scene\", \"showlegend\": true, \"text\": [\"Capitalism\", \"ShitPoliticsSays\", \"Conservative\", \"The_Donald\", \"progun\", \"Republican\"], \"x\": [-0.03791275082905541, 0.04917461044638391, -0.0774008917938876, 0.054313532500675804, 0.0019463107369318661, -0.0910532205923458], \"y\": [-0.18465542096314896, -0.17009843116525056, -0.14609425201312687, 0.003926391466692752, -0.1222330216096244, -0.06309237767062571], \"z\": [-0.16465472921002428, -0.1936602591707672, -0.21314915469941592, -0.1432783518830031, -0.3073133697236573, -0.17304767146779348], \"type\": \"scatter3d\"}, {\"hovertemplate\": \"<b>%{hovertext}</b><br><br>partisan=left<br>animation_frame=2019-08-01<br>0=%{x}<br>1=%{y}<br>2=%{z}<br>subreddit=%{text}<extra></extra>\", \"hovertext\": [\"JoeBiden\", \"SocialDemocracy\", \"BaemyKlobaechar\", \"demsocialist\", \"ConservativeDemocrat\", \"progressive\", \"ElizabethWarren\", \"moderatepolitics\", \"SandersForPresident\", \"centerleftpolitics\", \"Pete_Buttigieg\", \"YangForPresidentHQ\", \"politics\", \"ChapoTrapHouse\"], \"ids\": [\"JoeBiden\", \"SocialDemocracy\", \"BaemyKlobaechar\", \"demsocialist\", \"ConservativeDemocrat\", \"progressive\", \"ElizabethWarren\", \"moderatepolitics\", \"SandersForPresident\", \"centerleftpolitics\", \"Pete_Buttigieg\", \"YangForPresidentHQ\", \"politics\", \"ChapoTrapHouse\"], \"legendgroup\": \"left\", \"marker\": {\"color\": \"blue\", \"opacity\": 0.7, \"symbol\": \"circle\"}, \"mode\": \"markers+text\", \"name\": \"left\", \"scene\": \"scene\", \"showlegend\": true, \"text\": [\"JoeBiden\", \"SocialDemocracy\", \"BaemyKlobaechar\", \"demsocialist\", \"ConservativeDemocrat\", \"progressive\", \"ElizabethWarren\", \"moderatepolitics\", \"SandersForPresident\", \"centerleftpolitics\", \"Pete_Buttigieg\", \"YangForPresidentHQ\", \"politics\", \"ChapoTrapHouse\"], \"x\": [-0.1571945273142058, -0.04743900493955389, -0.43040938551105884, -0.2558649124334093, -0.2083489645743335, -0.14302929132534578, -0.17257417043203938, -0.14891746280117543, -0.15441491207008276, -0.02948990871081031, -0.1662772304418713, -0.07088973208875807, -0.18766808518342454, 0.03060651270872541], \"y\": [-0.12170460769346791, -0.2687505007401987, -0.11869495891804542, -0.2235801954896817, -0.1971904174937061, -0.08130471207631879, -0.058635669972564, -0.1455622653723549, -0.15991500446264645, -0.14345362831042024, -0.0661349821600157, -0.11190345633262917, -0.11448499027848888, -0.13526934841789173], \"z\": [-0.043736764130368824, -0.058154203959196404, -0.026882616376076366, -0.22532823086833537, -0.16443772674006663, -0.20601114737602066, 0.004805411807069304, -0.1422154997963669, -0.14211604993411092, -0.025919944799702048, 0.010207790156016057, 0.025575790273516367, -0.23206618438477095, -0.11727061003870637], \"type\": \"scatter3d\"}], \"name\": \"2019-08-01\"}, {\"data\": [{\"hovertemplate\": \"<b>%{hovertext}</b><br><br>partisan=right<br>animation_frame=2019-09-01<br>0=%{x}<br>1=%{y}<br>2=%{z}<br>subreddit=%{text}<extra></extra>\", \"hovertext\": [\"Republican\", \"progun\", \"The_Donald\", \"Conservative\", \"ShitPoliticsSays\", \"Capitalism\"], \"ids\": [\"Republican\", \"progun\", \"The_Donald\", \"Conservative\", \"ShitPoliticsSays\", \"Capitalism\"], \"legendgroup\": \"right\", \"marker\": {\"color\": \"red\", \"opacity\": 0.7, \"symbol\": \"circle\"}, \"mode\": \"markers+text\", \"name\": \"right\", \"scene\": \"scene\", \"showlegend\": true, \"text\": [\"Republican\", \"progun\", \"The_Donald\", \"Conservative\", \"ShitPoliticsSays\", \"Capitalism\"], \"x\": [-0.09376244135358432, 0.0041849158847122765, 0.056636613682934156, -0.07980104473900014, 0.05238847657829131, -0.03519214893785508], \"y\": [-0.056672671935360484, -0.12786759274476622, 0.007083569556635605, -0.14377068550617497, -0.14422623704749427, -0.1555185466207437], \"z\": [-0.16447154639490716, -0.3568859985634268, -0.12854839432697654, -0.2009067317552594, -0.20075201833454331, -0.12243851586588007], \"type\": \"scatter3d\"}, {\"hovertemplate\": \"<b>%{hovertext}</b><br><br>partisan=left<br>animation_frame=2019-09-01<br>0=%{x}<br>1=%{y}<br>2=%{z}<br>subreddit=%{text}<extra></extra>\", \"hovertext\": [\"ChapoTrapHouse\", \"YangForPresidentHQ\", \"Pete_Buttigieg\", \"centerleftpolitics\", \"SandersForPresident\", \"moderatepolitics\", \"ElizabethWarren\", \"progressive\", \"ConservativeDemocrat\", \"demsocialist\", \"BaemyKlobaechar\", \"politics\", \"SocialDemocracy\", \"JoeBiden\"], \"ids\": [\"ChapoTrapHouse\", \"YangForPresidentHQ\", \"Pete_Buttigieg\", \"centerleftpolitics\", \"SandersForPresident\", \"moderatepolitics\", \"ElizabethWarren\", \"progressive\", \"ConservativeDemocrat\", \"demsocialist\", \"BaemyKlobaechar\", \"politics\", \"SocialDemocracy\", \"JoeBiden\"], \"legendgroup\": \"left\", \"marker\": {\"color\": \"blue\", \"opacity\": 0.7, \"symbol\": \"circle\"}, \"mode\": \"markers+text\", \"name\": \"left\", \"scene\": \"scene\", \"showlegend\": true, \"text\": [\"ChapoTrapHouse\", \"YangForPresidentHQ\", \"Pete_Buttigieg\", \"centerleftpolitics\", \"SandersForPresident\", \"moderatepolitics\", \"ElizabethWarren\", \"progressive\", \"ConservativeDemocrat\", \"demsocialist\", \"BaemyKlobaechar\", \"politics\", \"SocialDemocracy\", \"JoeBiden\"], \"x\": [0.03619725169457579, -0.05410535850078129, -0.16471523907879657, -0.05641943124350995, -0.11932266848877453, -0.14851926535053267, -0.20300287172022413, -0.14748213229169982, -0.26623000607505615, -0.25475565343174694, -0.3498461957529215, -0.1646461860292779, -0.07738168428145953, -0.12178329828257753], \"y\": [-0.1318373046264359, -0.10460109871323822, -0.030046407579784613, -0.10382483526988691, -0.13334582731520198, -0.13694913390782593, -0.06298911803213267, -0.08693877768948016, -0.14300716900093727, -0.279417586931756, -0.19435855789290002, -0.0868280328545895, -0.222550593628417, -0.08575592897383055], \"z\": [-0.06233319982692155, 0.02574242200306527, 0.00047797842363223145, 0.017570105917376365, -0.1332034446832887, -0.14195640688724567, 0.010733622697988098, -0.25828919361631336, -0.23565811389785235, -0.16014095698943825, 0.0037521973448092854, -0.20468411870892023, -0.06771936870028064, -0.0523272636716501], \"type\": \"scatter3d\"}], \"name\": \"2019-09-01\"}, {\"data\": [{\"hovertemplate\": \"<b>%{hovertext}</b><br><br>partisan=right<br>animation_frame=2019-10-01<br>0=%{x}<br>1=%{y}<br>2=%{z}<br>subreddit=%{text}<extra></extra>\", \"hovertext\": [\"Capitalism\", \"ShitPoliticsSays\", \"Conservative\", \"The_Donald\", \"progun\", \"Republican\"], \"ids\": [\"Capitalism\", \"ShitPoliticsSays\", \"Conservative\", \"The_Donald\", \"progun\", \"Republican\"], \"legendgroup\": \"right\", \"marker\": {\"color\": \"red\", \"opacity\": 0.7, \"symbol\": \"circle\"}, \"mode\": \"markers+text\", \"name\": \"right\", \"scene\": \"scene\", \"showlegend\": true, \"text\": [\"Capitalism\", \"ShitPoliticsSays\", \"Conservative\", \"The_Donald\", \"progun\", \"Republican\"], \"x\": [-0.0353039319525286, 0.04013672370889137, -0.0929811233374491, 0.038921458905450776, 0.028748177040183686, -0.09314288640786955], \"y\": [-0.09290680153683595, -0.15656404235122384, -0.10705110843526278, 0.017830680662262073, -0.088446898013652, -0.009811339020892719], \"z\": [-0.14713532077204247, -0.2064906045516597, -0.19823251049987706, -0.13575667021865942, -0.341833511412264, -0.16897538447602714], \"type\": \"scatter3d\"}, {\"hovertemplate\": \"<b>%{hovertext}</b><br><br>partisan=left<br>animation_frame=2019-10-01<br>0=%{x}<br>1=%{y}<br>2=%{z}<br>subreddit=%{text}<extra></extra>\", \"hovertext\": [\"JoeBiden\", \"SocialDemocracy\", \"BaemyKlobaechar\", \"demsocialist\", \"ConservativeDemocrat\", \"progressive\", \"ElizabethWarren\", \"moderatepolitics\", \"SandersForPresident\", \"centerleftpolitics\", \"Pete_Buttigieg\", \"YangForPresidentHQ\", \"politics\", \"ChapoTrapHouse\"], \"ids\": [\"JoeBiden\", \"SocialDemocracy\", \"BaemyKlobaechar\", \"demsocialist\", \"ConservativeDemocrat\", \"progressive\", \"ElizabethWarren\", \"moderatepolitics\", \"SandersForPresident\", \"centerleftpolitics\", \"Pete_Buttigieg\", \"YangForPresidentHQ\", \"politics\", \"ChapoTrapHouse\"], \"legendgroup\": \"left\", \"marker\": {\"color\": \"blue\", \"opacity\": 0.7, \"symbol\": \"circle\"}, \"mode\": \"markers+text\", \"name\": \"left\", \"scene\": \"scene\", \"showlegend\": true, \"text\": [\"JoeBiden\", \"SocialDemocracy\", \"BaemyKlobaechar\", \"demsocialist\", \"ConservativeDemocrat\", \"progressive\", \"ElizabethWarren\", \"moderatepolitics\", \"SandersForPresident\", \"centerleftpolitics\", \"Pete_Buttigieg\", \"YangForPresidentHQ\", \"politics\", \"ChapoTrapHouse\"], \"x\": [-0.15193509070484898, -0.13402166455546405, -0.42607773172968977, -0.3862233296687163, -0.23668337096117323, -0.20729043650823953, -0.19629381501966472, -0.1390523047844633, -0.13010350774392856, -0.04161402304431554, -0.14231120591955002, -0.07041490923095448, -0.195443746716253, 0.03491268925664548], \"y\": [-0.037281272050162934, -0.18403387849610361, -0.009145940620172991, -0.24495993401484714, -0.23398857733011763, 0.0010457922904016403, -0.10394164666143246, -0.11768886226216552, -0.13260229150126598, -0.14424019619329015, -0.0661004971998341, -0.1235963709285185, -0.11134984746935758, -0.1271764981081458], \"z\": [-0.0005791856305027476, -0.01493320041540332, -0.028365271454043977, -0.17735681835074316, -0.24142662337538176, -0.2576873547449993, 0.014429053325047389, -0.13197961923207818, -0.09527160240019464, 0.037802829419242436, 0.039041500151662946, 0.011796953435627306, -0.16805244531286023, -0.0680992398535204], \"type\": \"scatter3d\"}], \"name\": \"2019-10-01\"}, {\"data\": [{\"hovertemplate\": \"<b>%{hovertext}</b><br><br>partisan=right<br>animation_frame=2019-11-01<br>0=%{x}<br>1=%{y}<br>2=%{z}<br>subreddit=%{text}<extra></extra>\", \"hovertext\": [\"Capitalism\", \"ShitPoliticsSays\", \"Conservative\", \"The_Donald\", \"progun\", \"Republican\"], \"ids\": [\"Capitalism\", \"ShitPoliticsSays\", \"Conservative\", \"The_Donald\", \"progun\", \"Republican\"], \"legendgroup\": \"right\", \"marker\": {\"color\": \"red\", \"opacity\": 0.7, \"symbol\": \"circle\"}, \"mode\": \"markers+text\", \"name\": \"right\", \"scene\": \"scene\", \"showlegend\": true, \"text\": [\"Capitalism\", \"ShitPoliticsSays\", \"Conservative\", \"The_Donald\", \"progun\", \"Republican\"], \"x\": [-0.0844898817622111, 0.09196962086799945, -0.08908962307960316, 0.050425874603965685, 0.03159459968799375, -0.10297086762204456], \"y\": [-0.14349089917325508, -0.13617941076395118, -0.09807428823431269, 0.033011458716516756, -0.12141010200569405, -0.010316884296739385], \"z\": [-0.11901986560798886, -0.2110414598504471, -0.20437654845803588, -0.13573481311691993, -0.32234751184120336, -0.16559713536361412], \"type\": \"scatter3d\"}, {\"hovertemplate\": \"<b>%{hovertext}</b><br><br>partisan=left<br>animation_frame=2019-11-01<br>0=%{x}<br>1=%{y}<br>2=%{z}<br>subreddit=%{text}<extra></extra>\", \"hovertext\": [\"JoeBiden\", \"SocialDemocracy\", \"BaemyKlobaechar\", \"demsocialist\", \"ConservativeDemocrat\", \"progressive\", \"ElizabethWarren\", \"moderatepolitics\", \"SandersForPresident\", \"centerleftpolitics\", \"Pete_Buttigieg\", \"YangForPresidentHQ\", \"politics\", \"ChapoTrapHouse\"], \"ids\": [\"JoeBiden\", \"SocialDemocracy\", \"BaemyKlobaechar\", \"demsocialist\", \"ConservativeDemocrat\", \"progressive\", \"ElizabethWarren\", \"moderatepolitics\", \"SandersForPresident\", \"centerleftpolitics\", \"Pete_Buttigieg\", \"YangForPresidentHQ\", \"politics\", \"ChapoTrapHouse\"], \"legendgroup\": \"left\", \"marker\": {\"color\": \"blue\", \"opacity\": 0.7, \"symbol\": \"circle\"}, \"mode\": \"markers+text\", \"name\": \"left\", \"scene\": \"scene\", \"showlegend\": true, \"text\": [\"JoeBiden\", \"SocialDemocracy\", \"BaemyKlobaechar\", \"demsocialist\", \"ConservativeDemocrat\", \"progressive\", \"ElizabethWarren\", \"moderatepolitics\", \"SandersForPresident\", \"centerleftpolitics\", \"Pete_Buttigieg\", \"YangForPresidentHQ\", \"politics\", \"ChapoTrapHouse\"], \"x\": [-0.15689189493706746, -0.11225817754212247, -0.2267896312507097, -0.19960300850579438, -0.31256350502436947, -0.15631511151146082, -0.18595950021154534, -0.1488525307614477, -0.13451538723285975, -0.07953618990133389, -0.1690043078749368, -0.04497807510024285, -0.20548219667353468, 0.033533655214389106], \"y\": [-0.10003823656280675, -0.2184260897963674, -0.1599456650896171, -0.19228853016476663, -0.2698365695255994, -0.047007529338695085, -0.06973274111654511, -0.10317690056079086, -0.12883244953310713, -0.0930772161041156, -0.05034661536740872, -0.08961413653556533, -0.07495601451625071, -0.11775779799543118], \"z\": [-0.009243921237153098, -0.07010359915628875, -0.023616440672685538, -0.20362662908988313, -0.18800954374750697, -0.19990284472903722, -0.001218287866886174, -0.16300278653488914, -0.12055116123949655, 0.0182701662628236, -0.001459049000348305, 0.017944951887413848, -0.2067401930690451, -0.07449218297217329], \"type\": \"scatter3d\"}], \"name\": \"2019-11-01\"}, {\"data\": [{\"hovertemplate\": \"<b>%{hovertext}</b><br><br>partisan=right<br>animation_frame=2019-12-01<br>0=%{x}<br>1=%{y}<br>2=%{z}<br>subreddit=%{text}<extra></extra>\", \"hovertext\": [\"Capitalism\", \"ShitPoliticsSays\", \"Conservative\", \"The_Donald\", \"progun\", \"Republican\"], \"ids\": [\"Capitalism\", \"ShitPoliticsSays\", \"Conservative\", \"The_Donald\", \"progun\", \"Republican\"], \"legendgroup\": \"right\", \"marker\": {\"color\": \"red\", \"opacity\": 0.7, \"symbol\": \"circle\"}, \"mode\": \"markers+text\", \"name\": \"right\", \"scene\": \"scene\", \"showlegend\": true, \"text\": [\"Capitalism\", \"ShitPoliticsSays\", \"Conservative\", \"The_Donald\", \"progun\", \"Republican\"], \"x\": [-0.0239987320589713, 0.05438100479658223, -0.05247979493464414, 0.04308094977582985, 0.037655198097987126, -0.06713896390553364], \"y\": [-0.14387355896128176, -0.12679326182788692, -0.09622848525548278, 0.01475376183643359, -0.09871421209445298, -0.013487543921228331], \"z\": [-0.08729735158583767, -0.22508209719760922, -0.19482742763045086, -0.13825680333531037, -0.3458992147787323, -0.18663401902888677], \"type\": \"scatter3d\"}, {\"hovertemplate\": \"<b>%{hovertext}</b><br><br>partisan=left<br>animation_frame=2019-12-01<br>0=%{x}<br>1=%{y}<br>2=%{z}<br>subreddit=%{text}<extra></extra>\", \"hovertext\": [\"JoeBiden\", \"SocialDemocracy\", \"BaemyKlobaechar\", \"demsocialist\", \"ConservativeDemocrat\", \"progressive\", \"ElizabethWarren\", \"moderatepolitics\", \"SandersForPresident\", \"centerleftpolitics\", \"Pete_Buttigieg\", \"YangForPresidentHQ\", \"politics\", \"ChapoTrapHouse\"], \"ids\": [\"JoeBiden\", \"SocialDemocracy\", \"BaemyKlobaechar\", \"demsocialist\", \"ConservativeDemocrat\", \"progressive\", \"ElizabethWarren\", \"moderatepolitics\", \"SandersForPresident\", \"centerleftpolitics\", \"Pete_Buttigieg\", \"YangForPresidentHQ\", \"politics\", \"ChapoTrapHouse\"], \"legendgroup\": \"left\", \"marker\": {\"color\": \"blue\", \"opacity\": 0.7, \"symbol\": \"circle\"}, \"mode\": \"markers+text\", \"name\": \"left\", \"scene\": \"scene\", \"showlegend\": true, \"text\": [\"JoeBiden\", \"SocialDemocracy\", \"BaemyKlobaechar\", \"demsocialist\", \"ConservativeDemocrat\", \"progressive\", \"ElizabethWarren\", \"moderatepolitics\", \"SandersForPresident\", \"centerleftpolitics\", \"Pete_Buttigieg\", \"YangForPresidentHQ\", \"politics\", \"ChapoTrapHouse\"], \"x\": [-0.1254419275069368, -0.052764525275272034, -0.2806345491318528, -0.4347861756549687, -0.24092680253460003, -0.18269451025484795, -0.18963126442048053, -0.15987533454970151, -0.13082772445472424, -0.0797140438414463, -0.16947297679432802, -0.09330598698067294, -0.2005022408715487, 0.02231520172021304], \"y\": [-0.04310027746963448, -0.2301732528791167, -0.1643283989537348, -0.12165790969069529, -0.2530279085300787, -0.05564619180056204, -0.06711838603909613, -0.11584048977449964, -0.13066494743057294, -0.13349041506541848, -0.08883866183366392, -0.10957125254347878, -0.10078011902115529, -0.13070020944188304], \"z\": [0.002451028298109861, -0.11375558360239246, 0.044306049531522354, -0.28042828540176656, -0.2858810383764081, -0.21544872473171103, 0.030640170715779146, -0.13099110335422032, -0.11462878721850334, 0.018906251179265594, 0.005814420229305248, 0.05950776062103011, -0.17964530379648688, -0.06437149302131291], \"type\": \"scatter3d\"}], \"name\": \"2019-12-01\"}]);\n",
       "                        }).then(function(){\n",
       "                            \n",
       "var gd = document.getElementById('adf9f38e-8ca9-4b89-88bc-29f46c1ef6f9');\n",
       "var x = new MutationObserver(function (mutations, observer) {{\n",
       "        var display = window.getComputedStyle(gd).display;\n",
       "        if (!display || display === 'none') {{\n",
       "            console.log([gd, 'removed!']);\n",
       "            Plotly.purge(gd);\n",
       "            observer.disconnect();\n",
       "        }}\n",
       "}});\n",
       "\n",
       "// Listen for the removal of the full notebook cells\n",
       "var notebookContainer = gd.closest('#notebook-container');\n",
       "if (notebookContainer) {{\n",
       "    x.observe(notebookContainer, {childList: true});\n",
       "}}\n",
       "\n",
       "// Listen for the clearing of the current output cell\n",
       "var outputEl = gd.closest('.output');\n",
       "if (outputEl) {{\n",
       "    x.observe(outputEl, {childList: true});\n",
       "}}\n",
       "\n",
       "                        })\n",
       "                };\n",
       "                });\n",
       "            </script>\n",
       "        </div>"
      ]
     },
     "metadata": {},
     "output_type": "display_data"
    }
   ],
   "source": [
    "(max_x, max_y, max_z), (min_x, min_y, min_z) = three_dim[[0,1,2]].max(axis=0), three_dim[[0,1,2]].min(axis=0)\n",
    "args = {\n",
    "    \"x\": 0,\n",
    "    \"y\": 1,\n",
    "    \"z\": 2,\n",
    "    \"hover_name\": \"subreddit\",\n",
    "    \"text\": \"subreddit\",\n",
    "    \"opacity\": 0.7,\n",
    "    \"color\": \"partisan\",\n",
    "    \"animation_frame\": three_dim.week.astype(str),\n",
    "    \"animation_group\": \"subreddit\",\n",
    "    \"color_discrete_sequence\": [\"red\",\"blue\"]\n",
    "}\n",
    "fig = px.scatter_3d(three_dim,**args)\n",
    "fig.update_traces(marker=dict(size=12,\n",
    "                              line=dict(width=2,\n",
    "                                        color='DarkSlateGrey')),\n",
    "                  selector=dict(mode='markers'))\n",
    "fig.write_html(\"visualizations/temporal/{}_3d_scatter.html\".format(TIME_FRAME))\n",
    "fig.show()"
   ]
  },
  {
   "cell_type": "code",
   "execution_count": null,
   "metadata": {},
   "outputs": [],
   "source": []
  },
  {
   "cell_type": "code",
   "execution_count": null,
   "metadata": {},
   "outputs": [],
   "source": []
  }
 ],
 "metadata": {
  "kernelspec": {
   "display_name": "Python 3",
   "language": "python",
   "name": "python3"
  },
  "language_info": {
   "codemirror_mode": {
    "name": "ipython",
    "version": 3
   },
   "file_extension": ".py",
   "mimetype": "text/x-python",
   "name": "python",
   "nbconvert_exporter": "python",
   "pygments_lexer": "ipython3",
   "version": "3.7.7"
  }
 },
 "nbformat": 4,
 "nbformat_minor": 4
}
