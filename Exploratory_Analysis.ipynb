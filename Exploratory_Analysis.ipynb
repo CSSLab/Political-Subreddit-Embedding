{
 "cells": [
  {
   "cell_type": "code",
   "execution_count": 1,
   "metadata": {},
   "outputs": [],
   "source": [
    "from utils import load_embedding, parse_tup, cos_sim, cos_dist\n",
    "from tqdm.auto import tqdm\n",
    "from datetime import datetime\n",
    "import plotly.graph_objects as go\n",
    "import plotly.express as px\n",
    "import numpy as np\n",
    "import pandas as pd"
   ]
  },
  {
   "cell_type": "code",
   "execution_count": 2,
   "metadata": {},
   "outputs": [],
   "source": [
    "# from utils import CANDIDATE_SUBS\n",
    "TIME_FRAME = \"monthly\"\n",
    "left_candidates = [\"JoeBiden\",\"SandersForPresident\",\"BaemyKlobaechar\",\"ElizabethWarren\",\"Pete_Buttigieg\",\"YangForPresidentHQ\"]\n",
    "right_candidates = [\"The_Donald\"]\n",
    "mapping = {}\n",
    "for a,b in zip(left_candidates+right_candidates,px.colors.qualitative.Plotly):\n",
    "    mapping[a] = b"
   ]
  },
  {
   "cell_type": "markdown",
   "metadata": {},
   "source": [
    "## Buisness Insider Polling Data"
   ]
  },
  {
   "cell_type": "code",
   "execution_count": 41,
   "metadata": {
    "scrolled": true
   },
   "outputs": [
    {
     "data": {
      "application/vnd.jupyter.widget-view+json": {
       "model_id": "3341caa3456d4055ae5993c684b99d6f",
       "version_major": 2,
       "version_minor": 0
      },
      "text/plain": [
       "HBox(children=(FloatProgress(value=0.0, max=40.0), HTML(value='')))"
      ]
     },
     "metadata": {},
     "output_type": "display_data"
    },
    {
     "name": "stdout",
     "output_type": "stream",
     "text": [
      "\n"
     ]
    },
    {
     "data": {
      "text/html": [
       "<div>\n",
       "<style scoped>\n",
       "    .dataframe tbody tr th:only-of-type {\n",
       "        vertical-align: middle;\n",
       "    }\n",
       "\n",
       "    .dataframe tbody tr th {\n",
       "        vertical-align: top;\n",
       "    }\n",
       "\n",
       "    .dataframe thead th {\n",
       "        text-align: right;\n",
       "    }\n",
       "</style>\n",
       "<table border=\"1\" class=\"dataframe\">\n",
       "  <thead>\n",
       "    <tr style=\"text-align: right;\">\n",
       "      <th></th>\n",
       "      <th>respondent_id</th>\n",
       "      <th>date</th>\n",
       "      <th>will_vote</th>\n",
       "      <th>political_beliefs</th>\n",
       "      <th>registered</th>\n",
       "      <th>ethnicity</th>\n",
       "      <th>age</th>\n",
       "      <th>gender</th>\n",
       "      <th>income</th>\n",
       "      <th>region</th>\n",
       "      <th>supports_biden</th>\n",
       "      <th>supports_sanders</th>\n",
       "      <th>supports_klobuchar</th>\n",
       "      <th>supports_warren</th>\n",
       "      <th>supports_buttigieg</th>\n",
       "      <th>supports_yang</th>\n",
       "      <th>supports_other</th>\n",
       "      <th>no_support</th>\n",
       "    </tr>\n",
       "  </thead>\n",
       "  <tbody>\n",
       "    <tr>\n",
       "      <th>4548</th>\n",
       "      <td>10491448652</td>\n",
       "      <td>2019-01-26 13:36:57</td>\n",
       "      <td>Yes I will likely vote in my state's Democrati...</td>\n",
       "      <td>Moderately liberal</td>\n",
       "      <td>Yes</td>\n",
       "      <td>Hispanic or Latino</td>\n",
       "      <td>45-60</td>\n",
       "      <td>Female</td>\n",
       "      <td>$75000-$99999</td>\n",
       "      <td>South Atlantic</td>\n",
       "      <td>0</td>\n",
       "      <td>0</td>\n",
       "      <td>0</td>\n",
       "      <td>0</td>\n",
       "      <td>0</td>\n",
       "      <td>0</td>\n",
       "      <td>1</td>\n",
       "      <td>0</td>\n",
       "    </tr>\n",
       "    <tr>\n",
       "      <th>4545</th>\n",
       "      <td>10491448848</td>\n",
       "      <td>2019-01-26 13:37:03</td>\n",
       "      <td>Yes I will likely vote in my state's Republica...</td>\n",
       "      <td>Moderately conservative</td>\n",
       "      <td>Yes</td>\n",
       "      <td>White or Caucasian</td>\n",
       "      <td>&gt; 60</td>\n",
       "      <td>Female</td>\n",
       "      <td>$25000-$49999</td>\n",
       "      <td>Middle Atlantic</td>\n",
       "      <td>1</td>\n",
       "      <td>1</td>\n",
       "      <td>0</td>\n",
       "      <td>0</td>\n",
       "      <td>0</td>\n",
       "      <td>0</td>\n",
       "      <td>0</td>\n",
       "      <td>0</td>\n",
       "    </tr>\n",
       "    <tr>\n",
       "      <th>4547</th>\n",
       "      <td>10491448683</td>\n",
       "      <td>2019-01-26 13:37:04</td>\n",
       "      <td>Yes I will likely vote in my state's Democrati...</td>\n",
       "      <td>Slightly liberal</td>\n",
       "      <td>Yes</td>\n",
       "      <td>White or Caucasian</td>\n",
       "      <td>30-44</td>\n",
       "      <td>Female</td>\n",
       "      <td>$75000-$99999</td>\n",
       "      <td>South Atlantic</td>\n",
       "      <td>1</td>\n",
       "      <td>0</td>\n",
       "      <td>0</td>\n",
       "      <td>0</td>\n",
       "      <td>0</td>\n",
       "      <td>0</td>\n",
       "      <td>0</td>\n",
       "      <td>0</td>\n",
       "    </tr>\n",
       "    <tr>\n",
       "      <th>4533</th>\n",
       "      <td>10491449586</td>\n",
       "      <td>2019-01-26 13:37:18</td>\n",
       "      <td>I don't know or I'd rather not say</td>\n",
       "      <td>Neither liberal nor conservative</td>\n",
       "      <td>Yes</td>\n",
       "      <td>White or Caucasian</td>\n",
       "      <td>18-29</td>\n",
       "      <td>Female</td>\n",
       "      <td>Prefer not to answer</td>\n",
       "      <td>West North Central</td>\n",
       "      <td>1</td>\n",
       "      <td>0</td>\n",
       "      <td>0</td>\n",
       "      <td>0</td>\n",
       "      <td>0</td>\n",
       "      <td>0</td>\n",
       "      <td>0</td>\n",
       "      <td>0</td>\n",
       "    </tr>\n",
       "    <tr>\n",
       "      <th>4546</th>\n",
       "      <td>10491448847</td>\n",
       "      <td>2019-01-26 13:37:19</td>\n",
       "      <td>Yes I will likely vote in my state's Democrati...</td>\n",
       "      <td>Moderately liberal</td>\n",
       "      <td>Yes</td>\n",
       "      <td>White or Caucasian</td>\n",
       "      <td>18-29</td>\n",
       "      <td>Female</td>\n",
       "      <td>$25000-$49999</td>\n",
       "      <td>South Atlantic</td>\n",
       "      <td>1</td>\n",
       "      <td>0</td>\n",
       "      <td>0</td>\n",
       "      <td>0</td>\n",
       "      <td>0</td>\n",
       "      <td>0</td>\n",
       "      <td>0</td>\n",
       "      <td>0</td>\n",
       "    </tr>\n",
       "    <tr>\n",
       "      <th>...</th>\n",
       "      <td>...</td>\n",
       "      <td>...</td>\n",
       "      <td>...</td>\n",
       "      <td>...</td>\n",
       "      <td>...</td>\n",
       "      <td>...</td>\n",
       "      <td>...</td>\n",
       "      <td>...</td>\n",
       "      <td>...</td>\n",
       "      <td>...</td>\n",
       "      <td>...</td>\n",
       "      <td>...</td>\n",
       "      <td>...</td>\n",
       "      <td>...</td>\n",
       "      <td>...</td>\n",
       "      <td>...</td>\n",
       "      <td>...</td>\n",
       "      <td>...</td>\n",
       "    </tr>\n",
       "    <tr>\n",
       "      <th>40858</th>\n",
       "      <td>11400288883</td>\n",
       "      <td>2020-03-07 07:19:05</td>\n",
       "      <td>Yes I will likely vote in my state's Republica...</td>\n",
       "      <td>Moderately conservative</td>\n",
       "      <td>Yes</td>\n",
       "      <td>White or Caucasian</td>\n",
       "      <td>45-60</td>\n",
       "      <td>Male</td>\n",
       "      <td>$75000-$99999</td>\n",
       "      <td>East North Central</td>\n",
       "      <td>1</td>\n",
       "      <td>0</td>\n",
       "      <td>0</td>\n",
       "      <td>0</td>\n",
       "      <td>0</td>\n",
       "      <td>0</td>\n",
       "      <td>0</td>\n",
       "      <td>0</td>\n",
       "    </tr>\n",
       "    <tr>\n",
       "      <th>40856</th>\n",
       "      <td>11400289969</td>\n",
       "      <td>2020-03-07 07:19:34</td>\n",
       "      <td>Yes I will likely vote in my state's Republica...</td>\n",
       "      <td>Slightly liberal</td>\n",
       "      <td>Yes</td>\n",
       "      <td>White or Caucasian</td>\n",
       "      <td>&gt; 60</td>\n",
       "      <td>Male</td>\n",
       "      <td>$125000-$149999</td>\n",
       "      <td>Middle Atlantic</td>\n",
       "      <td>1</td>\n",
       "      <td>0</td>\n",
       "      <td>0</td>\n",
       "      <td>0</td>\n",
       "      <td>0</td>\n",
       "      <td>0</td>\n",
       "      <td>0</td>\n",
       "      <td>0</td>\n",
       "    </tr>\n",
       "    <tr>\n",
       "      <th>40857</th>\n",
       "      <td>11400289519</td>\n",
       "      <td>2020-03-07 07:21:43</td>\n",
       "      <td>Yes I will likely vote in my state's Republica...</td>\n",
       "      <td>Very conservative</td>\n",
       "      <td>Yes</td>\n",
       "      <td>White or Caucasian</td>\n",
       "      <td>&gt; 60</td>\n",
       "      <td>Male</td>\n",
       "      <td>$25000-$49999</td>\n",
       "      <td>East North Central</td>\n",
       "      <td>0</td>\n",
       "      <td>0</td>\n",
       "      <td>0</td>\n",
       "      <td>0</td>\n",
       "      <td>0</td>\n",
       "      <td>0</td>\n",
       "      <td>1</td>\n",
       "      <td>0</td>\n",
       "    </tr>\n",
       "    <tr>\n",
       "      <th>40854</th>\n",
       "      <td>11400292021</td>\n",
       "      <td>2020-03-07 07:22:12</td>\n",
       "      <td>I don't know or I'd rather not say</td>\n",
       "      <td>I don't know or I'd rather not say</td>\n",
       "      <td>Unsure / Don’t know</td>\n",
       "      <td>Black or African American</td>\n",
       "      <td>45-60</td>\n",
       "      <td>Male</td>\n",
       "      <td>$0-$9999</td>\n",
       "      <td>NaN</td>\n",
       "      <td>1</td>\n",
       "      <td>0</td>\n",
       "      <td>0</td>\n",
       "      <td>0</td>\n",
       "      <td>0</td>\n",
       "      <td>0</td>\n",
       "      <td>0</td>\n",
       "      <td>0</td>\n",
       "    </tr>\n",
       "    <tr>\n",
       "      <th>40855</th>\n",
       "      <td>11400291433</td>\n",
       "      <td>2020-03-07 07:23:22</td>\n",
       "      <td>Yes I will likely vote in my state's Democrati...</td>\n",
       "      <td>Slightly liberal</td>\n",
       "      <td>Yes</td>\n",
       "      <td>White or Caucasian</td>\n",
       "      <td>45-60</td>\n",
       "      <td>Male</td>\n",
       "      <td>$75000-$99999</td>\n",
       "      <td>Mountain</td>\n",
       "      <td>1</td>\n",
       "      <td>0</td>\n",
       "      <td>0</td>\n",
       "      <td>0</td>\n",
       "      <td>0</td>\n",
       "      <td>0</td>\n",
       "      <td>0</td>\n",
       "      <td>0</td>\n",
       "    </tr>\n",
       "  </tbody>\n",
       "</table>\n",
       "<p>40151 rows × 18 columns</p>\n",
       "</div>"
      ],
      "text/plain": [
       "       respondent_id                date  \\\n",
       "4548     10491448652 2019-01-26 13:36:57   \n",
       "4545     10491448848 2019-01-26 13:37:03   \n",
       "4547     10491448683 2019-01-26 13:37:04   \n",
       "4533     10491449586 2019-01-26 13:37:18   \n",
       "4546     10491448847 2019-01-26 13:37:19   \n",
       "...              ...                 ...   \n",
       "40858    11400288883 2020-03-07 07:19:05   \n",
       "40856    11400289969 2020-03-07 07:19:34   \n",
       "40857    11400289519 2020-03-07 07:21:43   \n",
       "40854    11400292021 2020-03-07 07:22:12   \n",
       "40855    11400291433 2020-03-07 07:23:22   \n",
       "\n",
       "                                               will_vote  \\\n",
       "4548   Yes I will likely vote in my state's Democrati...   \n",
       "4545   Yes I will likely vote in my state's Republica...   \n",
       "4547   Yes I will likely vote in my state's Democrati...   \n",
       "4533                  I don't know or I'd rather not say   \n",
       "4546   Yes I will likely vote in my state's Democrati...   \n",
       "...                                                  ...   \n",
       "40858  Yes I will likely vote in my state's Republica...   \n",
       "40856  Yes I will likely vote in my state's Republica...   \n",
       "40857  Yes I will likely vote in my state's Republica...   \n",
       "40854                 I don't know or I'd rather not say   \n",
       "40855  Yes I will likely vote in my state's Democrati...   \n",
       "\n",
       "                        political_beliefs           registered  \\\n",
       "4548                   Moderately liberal                  Yes   \n",
       "4545              Moderately conservative                  Yes   \n",
       "4547                     Slightly liberal                  Yes   \n",
       "4533     Neither liberal nor conservative                  Yes   \n",
       "4546                   Moderately liberal                  Yes   \n",
       "...                                   ...                  ...   \n",
       "40858             Moderately conservative                  Yes   \n",
       "40856                    Slightly liberal                  Yes   \n",
       "40857                   Very conservative                  Yes   \n",
       "40854  I don't know or I'd rather not say  Unsure / Don’t know   \n",
       "40855                    Slightly liberal                  Yes   \n",
       "\n",
       "                       ethnicity    age  gender                income  \\\n",
       "4548          Hispanic or Latino  45-60  Female         $75000-$99999   \n",
       "4545          White or Caucasian   > 60  Female         $25000-$49999   \n",
       "4547          White or Caucasian  30-44  Female         $75000-$99999   \n",
       "4533          White or Caucasian  18-29  Female  Prefer not to answer   \n",
       "4546          White or Caucasian  18-29  Female         $25000-$49999   \n",
       "...                          ...    ...     ...                   ...   \n",
       "40858         White or Caucasian  45-60    Male         $75000-$99999   \n",
       "40856         White or Caucasian   > 60    Male       $125000-$149999   \n",
       "40857         White or Caucasian   > 60    Male         $25000-$49999   \n",
       "40854  Black or African American  45-60    Male              $0-$9999   \n",
       "40855         White or Caucasian  45-60    Male         $75000-$99999   \n",
       "\n",
       "                   region  supports_biden  supports_sanders  \\\n",
       "4548       South Atlantic               0                 0   \n",
       "4545      Middle Atlantic               1                 1   \n",
       "4547       South Atlantic               1                 0   \n",
       "4533   West North Central               1                 0   \n",
       "4546       South Atlantic               1                 0   \n",
       "...                   ...             ...               ...   \n",
       "40858  East North Central               1                 0   \n",
       "40856     Middle Atlantic               1                 0   \n",
       "40857  East North Central               0                 0   \n",
       "40854                 NaN               1                 0   \n",
       "40855            Mountain               1                 0   \n",
       "\n",
       "       supports_klobuchar  supports_warren  supports_buttigieg  supports_yang  \\\n",
       "4548                    0                0                   0              0   \n",
       "4545                    0                0                   0              0   \n",
       "4547                    0                0                   0              0   \n",
       "4533                    0                0                   0              0   \n",
       "4546                    0                0                   0              0   \n",
       "...                   ...              ...                 ...            ...   \n",
       "40858                   0                0                   0              0   \n",
       "40856                   0                0                   0              0   \n",
       "40857                   0                0                   0              0   \n",
       "40854                   0                0                   0              0   \n",
       "40855                   0                0                   0              0   \n",
       "\n",
       "       supports_other  no_support  \n",
       "4548                1           0  \n",
       "4545                0           0  \n",
       "4547                0           0  \n",
       "4533                0           0  \n",
       "4546                0           0  \n",
       "...               ...         ...  \n",
       "40858               0           0  \n",
       "40856               0           0  \n",
       "40857               1           0  \n",
       "40854               0           0  \n",
       "40855               0           0  \n",
       "\n",
       "[40151 rows x 18 columns]"
      ]
     },
     "execution_count": 41,
     "metadata": {},
     "output_type": "execute_result"
    }
   ],
   "source": [
    "from glob import glob\n",
    "cols = [\"respondent_id\",\"date\",\"will_vote\",\"political_beliefs\",\"registered\",\"ethnicity\",\"age\",\"gender\",\"income\",\"region\"]\n",
    "path = \"/h/224/cameron/Political-Subreddit-Embedding/external_datasets/polling_data/buisness_insider\"\n",
    "gl = glob(f\"{path}/*.csv\")\n",
    "li = [pd.read_csv(fn) for fn in gl]\n",
    "cleaned = []\n",
    "concat_col_names = [\"supports_biden\",\"supports_sanders\",\"supports_klobuchar\",\"supports_warren\",\"supports_buttigieg\",\"supports_yang\"]\n",
    "cands = [\"Fmr. V.P. Joe Biden\",\"Sen. Bernie Sanders\",\"Sen. Amy Klobuchar\",\"Sen. Elizabeth Warren\",\"South Bend Mayor Pete Buttigieg\",\"Andrew Yang\"]\n",
    "for df in tqdm(li):\n",
    "    # Go through each data frame, concatenate all the columns that start with \"Which of the following candidates would you be satisfied\"\n",
    "    # and then add columns for each of the candidates in our analyis, true if they land in one of those prior columns\n",
    "    # (indicating support) or false otherwise\n",
    "    would_support = [c for c in df.columns if c.startswith(\"Which of the following candidates would you be satisfied \")]\n",
    "    for cand, col in zip(cands,concat_col_names):\n",
    "        df[col] = df[would_support].apply(lambda x : 1 if cand in list(x) else 0,axis=1)\n",
    "        \n",
    "    def other_support(x):\n",
    "        # if they support one of the candidates\n",
    "        if x[concat_col_names].any():\n",
    "            return 0,0\n",
    "        # if they don't support any of our selected candidates but support some other candidate\n",
    "        elif not x[concat_col_names].any() and x[would_support].any():\n",
    "            return 1, 0\n",
    "        # otherwise they must not support any candidate\n",
    "        return 0,1\n",
    "    df['supports_other'], df['no_support'] = zip(*df.apply(other_support,axis=1))\n",
    "    df = df.rename({\"Respondent ID\": \"respondent_id\",\n",
    "                    \"Start Date\": \"date\",\n",
    "                    \"Do you think you will participate in the 2020 presidential primary?\": \"will_vote\",\n",
    "                    \"What best describes your political beliefs?\": \"political_beliefs\",\n",
    "                    \"Are you a registered voter?\": \"registered\",\n",
    "                    \"Which race/ethnicity best describes you? (Please choose only one.)\": \"ethnicity\",\n",
    "                    \"Age\": \"age\",\"Gender\": \"gender\",\"Household Income\": \"income\",\"Region\": \"region\"\n",
    "                   },axis=1)\n",
    "    df = df[cols+concat_col_names+[\"supports_other\",\"no_support\"]]\n",
    "    cleaned.append(df)\n",
    "\n",
    "bi_poll = pd.concat(cleaned, axis=0, ignore_index=True)\n",
    "bi_poll[\"date\"] = pd.to_datetime(bi_poll[\"date\"])\n",
    "bi_poll = bi_poll.sort_values(\"date\")\n",
    "# Drop those who haven't made up their mind\n",
    "bi_poll = bi_poll[bi_poll[\"no_support\"] == 0]\n",
    "bi_poll"
   ]
  },
  {
   "cell_type": "code",
   "execution_count": 43,
   "metadata": {},
   "outputs": [
    {
     "data": {
      "text/html": [
       "<div>\n",
       "<style scoped>\n",
       "    .dataframe tbody tr th:only-of-type {\n",
       "        vertical-align: middle;\n",
       "    }\n",
       "\n",
       "    .dataframe tbody tr th {\n",
       "        vertical-align: top;\n",
       "    }\n",
       "\n",
       "    .dataframe thead th {\n",
       "        text-align: right;\n",
       "    }\n",
       "</style>\n",
       "<table border=\"1\" class=\"dataframe\">\n",
       "  <thead>\n",
       "    <tr style=\"text-align: right;\">\n",
       "      <th></th>\n",
       "      <th>date</th>\n",
       "      <th>supports_other</th>\n",
       "      <th>supports_biden</th>\n",
       "      <th>supports_sanders</th>\n",
       "      <th>supports_klobuchar</th>\n",
       "      <th>supports_warren</th>\n",
       "      <th>supports_buttigieg</th>\n",
       "      <th>supports_yang</th>\n",
       "    </tr>\n",
       "  </thead>\n",
       "  <tbody>\n",
       "    <tr>\n",
       "      <th>0</th>\n",
       "      <td>2019-01-31</td>\n",
       "      <td>0.298692</td>\n",
       "      <td>0.281487</td>\n",
       "      <td>0.240881</td>\n",
       "      <td>0.041982</td>\n",
       "      <td>0.124570</td>\n",
       "      <td>0.012388</td>\n",
       "      <td>0.000000</td>\n",
       "    </tr>\n",
       "    <tr>\n",
       "      <th>1</th>\n",
       "      <td>2019-02-28</td>\n",
       "      <td>0.233148</td>\n",
       "      <td>0.314569</td>\n",
       "      <td>0.248611</td>\n",
       "      <td>0.048079</td>\n",
       "      <td>0.137231</td>\n",
       "      <td>0.018362</td>\n",
       "      <td>0.000000</td>\n",
       "    </tr>\n",
       "    <tr>\n",
       "      <th>2</th>\n",
       "      <td>2019-03-31</td>\n",
       "      <td>0.197178</td>\n",
       "      <td>0.309700</td>\n",
       "      <td>0.247619</td>\n",
       "      <td>0.052910</td>\n",
       "      <td>0.136861</td>\n",
       "      <td>0.039859</td>\n",
       "      <td>0.015873</td>\n",
       "    </tr>\n",
       "    <tr>\n",
       "      <th>3</th>\n",
       "      <td>2019-04-30</td>\n",
       "      <td>0.190602</td>\n",
       "      <td>0.284585</td>\n",
       "      <td>0.237154</td>\n",
       "      <td>0.044137</td>\n",
       "      <td>0.124726</td>\n",
       "      <td>0.090031</td>\n",
       "      <td>0.028766</td>\n",
       "    </tr>\n",
       "    <tr>\n",
       "      <th>4</th>\n",
       "      <td>2019-05-31</td>\n",
       "      <td>0.171841</td>\n",
       "      <td>0.292756</td>\n",
       "      <td>0.219227</td>\n",
       "      <td>0.043573</td>\n",
       "      <td>0.140795</td>\n",
       "      <td>0.093137</td>\n",
       "      <td>0.038671</td>\n",
       "    </tr>\n",
       "    <tr>\n",
       "      <th>5</th>\n",
       "      <td>2019-06-30</td>\n",
       "      <td>0.164988</td>\n",
       "      <td>0.275260</td>\n",
       "      <td>0.220544</td>\n",
       "      <td>0.044478</td>\n",
       "      <td>0.157771</td>\n",
       "      <td>0.093152</td>\n",
       "      <td>0.043807</td>\n",
       "    </tr>\n",
       "    <tr>\n",
       "      <th>6</th>\n",
       "      <td>2019-07-31</td>\n",
       "      <td>0.161724</td>\n",
       "      <td>0.268725</td>\n",
       "      <td>0.210945</td>\n",
       "      <td>0.041883</td>\n",
       "      <td>0.176399</td>\n",
       "      <td>0.092938</td>\n",
       "      <td>0.047386</td>\n",
       "    </tr>\n",
       "    <tr>\n",
       "      <th>7</th>\n",
       "      <td>2019-08-31</td>\n",
       "      <td>0.153079</td>\n",
       "      <td>0.248438</td>\n",
       "      <td>0.224338</td>\n",
       "      <td>0.038828</td>\n",
       "      <td>0.176436</td>\n",
       "      <td>0.096549</td>\n",
       "      <td>0.062333</td>\n",
       "    </tr>\n",
       "    <tr>\n",
       "      <th>8</th>\n",
       "      <td>2019-09-30</td>\n",
       "      <td>0.141719</td>\n",
       "      <td>0.243002</td>\n",
       "      <td>0.208204</td>\n",
       "      <td>0.047434</td>\n",
       "      <td>0.184098</td>\n",
       "      <td>0.094285</td>\n",
       "      <td>0.081260</td>\n",
       "    </tr>\n",
       "    <tr>\n",
       "      <th>9</th>\n",
       "      <td>2019-10-31</td>\n",
       "      <td>0.127326</td>\n",
       "      <td>0.228682</td>\n",
       "      <td>0.212016</td>\n",
       "      <td>0.054070</td>\n",
       "      <td>0.188953</td>\n",
       "      <td>0.097093</td>\n",
       "      <td>0.091860</td>\n",
       "    </tr>\n",
       "    <tr>\n",
       "      <th>10</th>\n",
       "      <td>2019-11-30</td>\n",
       "      <td>0.139695</td>\n",
       "      <td>0.229848</td>\n",
       "      <td>0.205888</td>\n",
       "      <td>0.055228</td>\n",
       "      <td>0.181117</td>\n",
       "      <td>0.100914</td>\n",
       "      <td>0.087310</td>\n",
       "    </tr>\n",
       "    <tr>\n",
       "      <th>11</th>\n",
       "      <td>2019-12-31</td>\n",
       "      <td>0.128488</td>\n",
       "      <td>0.216824</td>\n",
       "      <td>0.225657</td>\n",
       "      <td>0.052801</td>\n",
       "      <td>0.172656</td>\n",
       "      <td>0.102791</td>\n",
       "      <td>0.100783</td>\n",
       "    </tr>\n",
       "    <tr>\n",
       "      <th>12</th>\n",
       "      <td>2020-01-31</td>\n",
       "      <td>0.118185</td>\n",
       "      <td>0.213592</td>\n",
       "      <td>0.221807</td>\n",
       "      <td>0.069828</td>\n",
       "      <td>0.160007</td>\n",
       "      <td>0.102689</td>\n",
       "      <td>0.113891</td>\n",
       "    </tr>\n",
       "    <tr>\n",
       "      <th>13</th>\n",
       "      <td>2020-02-29</td>\n",
       "      <td>0.121443</td>\n",
       "      <td>0.194589</td>\n",
       "      <td>0.247094</td>\n",
       "      <td>0.092184</td>\n",
       "      <td>0.163727</td>\n",
       "      <td>0.143287</td>\n",
       "      <td>0.037675</td>\n",
       "    </tr>\n",
       "    <tr>\n",
       "      <th>14</th>\n",
       "      <td>2020-03-31</td>\n",
       "      <td>0.112589</td>\n",
       "      <td>0.487589</td>\n",
       "      <td>0.399823</td>\n",
       "      <td>0.000000</td>\n",
       "      <td>0.000000</td>\n",
       "      <td>0.000000</td>\n",
       "      <td>0.000000</td>\n",
       "    </tr>\n",
       "  </tbody>\n",
       "</table>\n",
       "</div>"
      ],
      "text/plain": [
       "         date  supports_other  supports_biden  supports_sanders  \\\n",
       "0  2019-01-31        0.298692        0.281487          0.240881   \n",
       "1  2019-02-28        0.233148        0.314569          0.248611   \n",
       "2  2019-03-31        0.197178        0.309700          0.247619   \n",
       "3  2019-04-30        0.190602        0.284585          0.237154   \n",
       "4  2019-05-31        0.171841        0.292756          0.219227   \n",
       "5  2019-06-30        0.164988        0.275260          0.220544   \n",
       "6  2019-07-31        0.161724        0.268725          0.210945   \n",
       "7  2019-08-31        0.153079        0.248438          0.224338   \n",
       "8  2019-09-30        0.141719        0.243002          0.208204   \n",
       "9  2019-10-31        0.127326        0.228682          0.212016   \n",
       "10 2019-11-30        0.139695        0.229848          0.205888   \n",
       "11 2019-12-31        0.128488        0.216824          0.225657   \n",
       "12 2020-01-31        0.118185        0.213592          0.221807   \n",
       "13 2020-02-29        0.121443        0.194589          0.247094   \n",
       "14 2020-03-31        0.112589        0.487589          0.399823   \n",
       "\n",
       "    supports_klobuchar  supports_warren  supports_buttigieg  supports_yang  \n",
       "0             0.041982         0.124570            0.012388       0.000000  \n",
       "1             0.048079         0.137231            0.018362       0.000000  \n",
       "2             0.052910         0.136861            0.039859       0.015873  \n",
       "3             0.044137         0.124726            0.090031       0.028766  \n",
       "4             0.043573         0.140795            0.093137       0.038671  \n",
       "5             0.044478         0.157771            0.093152       0.043807  \n",
       "6             0.041883         0.176399            0.092938       0.047386  \n",
       "7             0.038828         0.176436            0.096549       0.062333  \n",
       "8             0.047434         0.184098            0.094285       0.081260  \n",
       "9             0.054070         0.188953            0.097093       0.091860  \n",
       "10            0.055228         0.181117            0.100914       0.087310  \n",
       "11            0.052801         0.172656            0.102791       0.100783  \n",
       "12            0.069828         0.160007            0.102689       0.113891  \n",
       "13            0.092184         0.163727            0.143287       0.037675  \n",
       "14            0.000000         0.000000            0.000000       0.000000  "
      ]
     },
     "execution_count": 43,
     "metadata": {},
     "output_type": "execute_result"
    }
   ],
   "source": [
    "polling_agg = bi_poll.groupby([pd.Grouper(key='date', freq='M')])[[\"supports_other\"]+concat_col_names].sum().reset_index().sort_values('date')\n",
    "# Convert to pct\n",
    "polling_agg = polling_agg.set_index('date')\n",
    "polling_agg = polling_agg.div(polling_agg.sum(axis=1), axis=0)\n",
    "polling_agg = polling_agg.reset_index()\n",
    "polling_agg"
   ]
  },
  {
   "cell_type": "code",
   "execution_count": 45,
   "metadata": {
    "scrolled": false
   },
   "outputs": [
    {
     "data": {
      "application/vnd.plotly.v1+json": {
       "config": {
        "plotlyServerURL": "https://plot.ly"
       },
       "data": [
        {
         "line": {
          "color": "#636EFA",
          "shape": "spline"
         },
         "mode": "lines",
         "name": "Joseph R. Biden Jr.",
         "type": "scatter",
         "x": [
          "2019-01-31T00:00:00",
          "2019-02-28T00:00:00",
          "2019-03-31T00:00:00",
          "2019-04-30T00:00:00",
          "2019-05-31T00:00:00",
          "2019-06-30T00:00:00",
          "2019-07-31T00:00:00",
          "2019-08-31T00:00:00",
          "2019-09-30T00:00:00",
          "2019-10-31T00:00:00",
          "2019-11-30T00:00:00",
          "2019-12-31T00:00:00",
          "2020-01-31T00:00:00",
          "2020-02-29T00:00:00",
          "2020-03-31T00:00:00"
         ],
         "y": [
          0.2814865794907089,
          0.3145687364097608,
          0.30970017636684305,
          0.2845849802371542,
          0.292755991285403,
          0.27526015441423296,
          0.26872516050137574,
          0.24843796489140138,
          0.24300155520995334,
          0.22868217054263565,
          0.2298477157360406,
          0.21682393093756275,
          0.21359223300970873,
          0.19458917835671344,
          0.4875886524822695
         ]
        },
        {
         "line": {
          "color": "#EF553B",
          "shape": "spline"
         },
         "mode": "lines",
         "name": "Bernard Sanders",
         "type": "scatter",
         "x": [
          "2019-01-31T00:00:00",
          "2019-02-28T00:00:00",
          "2019-03-31T00:00:00",
          "2019-04-30T00:00:00",
          "2019-05-31T00:00:00",
          "2019-06-30T00:00:00",
          "2019-07-31T00:00:00",
          "2019-08-31T00:00:00",
          "2019-09-30T00:00:00",
          "2019-10-31T00:00:00",
          "2019-11-30T00:00:00",
          "2019-12-31T00:00:00",
          "2020-01-31T00:00:00",
          "2020-02-29T00:00:00",
          "2020-03-31T00:00:00"
         ],
         "y": [
          0.24088093599449414,
          0.24861077554964967,
          0.24761904761904763,
          0.23715415019762845,
          0.21922657952069716,
          0.22054380664652568,
          0.21094466523998778,
          0.22433799464445106,
          0.20820373250388802,
          0.21201550387596899,
          0.20588832487309644,
          0.22565749849427827,
          0.22180731889469754,
          0.2470941883767535,
          0.399822695035461
         ]
        },
        {
         "line": {
          "color": "#00CC96",
          "shape": "spline"
         },
         "mode": "lines",
         "name": "Amy Klobuchar",
         "type": "scatter",
         "x": [
          "2019-01-31T00:00:00",
          "2019-02-28T00:00:00",
          "2019-03-31T00:00:00",
          "2019-04-30T00:00:00",
          "2019-05-31T00:00:00",
          "2019-06-30T00:00:00",
          "2019-07-31T00:00:00",
          "2019-08-31T00:00:00",
          "2019-09-30T00:00:00",
          "2019-10-31T00:00:00",
          "2019-11-30T00:00:00",
          "2019-12-31T00:00:00",
          "2020-01-31T00:00:00",
          "2020-02-29T00:00:00",
          "2020-03-31T00:00:00"
         ],
         "y": [
          0.04198210598761184,
          0.04807924619473303,
          0.05291005291005291,
          0.04413702239789196,
          0.04357298474945534,
          0.04447801275595838,
          0.04188321614185264,
          0.03882772984230884,
          0.04743390357698289,
          0.05406976744186046,
          0.055228426395939084,
          0.05280064244127685,
          0.06982823002240478,
          0.09218436873747494,
          0
         ]
        },
        {
         "line": {
          "color": "#AB63FA",
          "shape": "spline"
         },
         "mode": "lines",
         "name": "Elizabeth Warren",
         "type": "scatter",
         "x": [
          "2019-01-31T00:00:00",
          "2019-02-28T00:00:00",
          "2019-03-31T00:00:00",
          "2019-04-30T00:00:00",
          "2019-05-31T00:00:00",
          "2019-06-30T00:00:00",
          "2019-07-31T00:00:00",
          "2019-08-31T00:00:00",
          "2019-09-30T00:00:00",
          "2019-10-31T00:00:00",
          "2019-11-30T00:00:00",
          "2019-12-31T00:00:00",
          "2020-01-31T00:00:00",
          "2020-02-29T00:00:00",
          "2020-03-31T00:00:00"
         ],
         "y": [
          0.12456985547143841,
          0.13723121526938875,
          0.13686067019400353,
          0.12472551602986386,
          0.14079520697167755,
          0.15777106411547498,
          0.17639865484561296,
          0.17643558464742637,
          0.18409797822706064,
          0.18895348837209303,
          0.18111675126903554,
          0.17265609315398514,
          0.16000746825989545,
          0.16372745490981963,
          0
         ]
        },
        {
         "line": {
          "color": "#FFA15A",
          "shape": "spline"
         },
         "mode": "lines",
         "name": "Pete Buttigieg",
         "type": "scatter",
         "x": [
          "2019-01-31T00:00:00",
          "2019-02-28T00:00:00",
          "2019-03-31T00:00:00",
          "2019-04-30T00:00:00",
          "2019-05-31T00:00:00",
          "2019-06-30T00:00:00",
          "2019-07-31T00:00:00",
          "2019-08-31T00:00:00",
          "2019-09-30T00:00:00",
          "2019-10-31T00:00:00",
          "2019-11-30T00:00:00",
          "2019-12-31T00:00:00",
          "2020-01-31T00:00:00",
          "2020-02-29T00:00:00",
          "2020-03-31T00:00:00"
         ],
         "y": [
          0.012388162422573986,
          0.01836192316984779,
          0.039858906525573196,
          0.09003074220465525,
          0.09313725490196079,
          0.0931520644511581,
          0.09293793946805258,
          0.09654864623623921,
          0.0942846034214619,
          0.09709302325581395,
          0.10091370558375634,
          0.10279060429632604,
          0.10268857356235997,
          0.1432865731462926,
          0
         ]
        },
        {
         "line": {
          "color": "#19D3F3",
          "shape": "spline"
         },
         "mode": "lines",
         "name": "Andrew Yang",
         "type": "scatter",
         "x": [
          "2019-01-31T00:00:00",
          "2019-02-28T00:00:00",
          "2019-03-31T00:00:00",
          "2019-04-30T00:00:00",
          "2019-05-31T00:00:00",
          "2019-06-30T00:00:00",
          "2019-07-31T00:00:00",
          "2019-08-31T00:00:00",
          "2019-09-30T00:00:00",
          "2019-10-31T00:00:00",
          "2019-11-30T00:00:00",
          "2019-12-31T00:00:00",
          "2020-01-31T00:00:00",
          "2020-02-29T00:00:00",
          "2020-03-31T00:00:00"
         ],
         "y": [
          0,
          0,
          0.015873015873015872,
          0.028765920070267896,
          0.03867102396514161,
          0.04380664652567976,
          0.047386120452461024,
          0.06233263909550729,
          0.0812597200622084,
          0.09186046511627907,
          0.08730964467005076,
          0.10078297530616342,
          0.11389096340552651,
          0.03767535070140281,
          0
         ]
        }
       ],
       "layout": {
        "template": {
         "data": {
          "bar": [
           {
            "error_x": {
             "color": "rgb(36,36,36)"
            },
            "error_y": {
             "color": "rgb(36,36,36)"
            },
            "marker": {
             "line": {
              "color": "white",
              "width": 0.5
             }
            },
            "type": "bar"
           }
          ],
          "barpolar": [
           {
            "marker": {
             "line": {
              "color": "white",
              "width": 0.5
             }
            },
            "type": "barpolar"
           }
          ],
          "carpet": [
           {
            "aaxis": {
             "endlinecolor": "rgb(36,36,36)",
             "gridcolor": "white",
             "linecolor": "white",
             "minorgridcolor": "white",
             "startlinecolor": "rgb(36,36,36)"
            },
            "baxis": {
             "endlinecolor": "rgb(36,36,36)",
             "gridcolor": "white",
             "linecolor": "white",
             "minorgridcolor": "white",
             "startlinecolor": "rgb(36,36,36)"
            },
            "type": "carpet"
           }
          ],
          "choropleth": [
           {
            "colorbar": {
             "outlinewidth": 1,
             "tickcolor": "rgb(36,36,36)",
             "ticks": "outside"
            },
            "type": "choropleth"
           }
          ],
          "contour": [
           {
            "colorbar": {
             "outlinewidth": 1,
             "tickcolor": "rgb(36,36,36)",
             "ticks": "outside"
            },
            "colorscale": [
             [
              0,
              "#440154"
             ],
             [
              0.1111111111111111,
              "#482878"
             ],
             [
              0.2222222222222222,
              "#3e4989"
             ],
             [
              0.3333333333333333,
              "#31688e"
             ],
             [
              0.4444444444444444,
              "#26828e"
             ],
             [
              0.5555555555555556,
              "#1f9e89"
             ],
             [
              0.6666666666666666,
              "#35b779"
             ],
             [
              0.7777777777777778,
              "#6ece58"
             ],
             [
              0.8888888888888888,
              "#b5de2b"
             ],
             [
              1,
              "#fde725"
             ]
            ],
            "type": "contour"
           }
          ],
          "contourcarpet": [
           {
            "colorbar": {
             "outlinewidth": 1,
             "tickcolor": "rgb(36,36,36)",
             "ticks": "outside"
            },
            "type": "contourcarpet"
           }
          ],
          "heatmap": [
           {
            "colorbar": {
             "outlinewidth": 1,
             "tickcolor": "rgb(36,36,36)",
             "ticks": "outside"
            },
            "colorscale": [
             [
              0,
              "#440154"
             ],
             [
              0.1111111111111111,
              "#482878"
             ],
             [
              0.2222222222222222,
              "#3e4989"
             ],
             [
              0.3333333333333333,
              "#31688e"
             ],
             [
              0.4444444444444444,
              "#26828e"
             ],
             [
              0.5555555555555556,
              "#1f9e89"
             ],
             [
              0.6666666666666666,
              "#35b779"
             ],
             [
              0.7777777777777778,
              "#6ece58"
             ],
             [
              0.8888888888888888,
              "#b5de2b"
             ],
             [
              1,
              "#fde725"
             ]
            ],
            "type": "heatmap"
           }
          ],
          "heatmapgl": [
           {
            "colorbar": {
             "outlinewidth": 1,
             "tickcolor": "rgb(36,36,36)",
             "ticks": "outside"
            },
            "colorscale": [
             [
              0,
              "#440154"
             ],
             [
              0.1111111111111111,
              "#482878"
             ],
             [
              0.2222222222222222,
              "#3e4989"
             ],
             [
              0.3333333333333333,
              "#31688e"
             ],
             [
              0.4444444444444444,
              "#26828e"
             ],
             [
              0.5555555555555556,
              "#1f9e89"
             ],
             [
              0.6666666666666666,
              "#35b779"
             ],
             [
              0.7777777777777778,
              "#6ece58"
             ],
             [
              0.8888888888888888,
              "#b5de2b"
             ],
             [
              1,
              "#fde725"
             ]
            ],
            "type": "heatmapgl"
           }
          ],
          "histogram": [
           {
            "marker": {
             "line": {
              "color": "white",
              "width": 0.6
             }
            },
            "type": "histogram"
           }
          ],
          "histogram2d": [
           {
            "colorbar": {
             "outlinewidth": 1,
             "tickcolor": "rgb(36,36,36)",
             "ticks": "outside"
            },
            "colorscale": [
             [
              0,
              "#440154"
             ],
             [
              0.1111111111111111,
              "#482878"
             ],
             [
              0.2222222222222222,
              "#3e4989"
             ],
             [
              0.3333333333333333,
              "#31688e"
             ],
             [
              0.4444444444444444,
              "#26828e"
             ],
             [
              0.5555555555555556,
              "#1f9e89"
             ],
             [
              0.6666666666666666,
              "#35b779"
             ],
             [
              0.7777777777777778,
              "#6ece58"
             ],
             [
              0.8888888888888888,
              "#b5de2b"
             ],
             [
              1,
              "#fde725"
             ]
            ],
            "type": "histogram2d"
           }
          ],
          "histogram2dcontour": [
           {
            "colorbar": {
             "outlinewidth": 1,
             "tickcolor": "rgb(36,36,36)",
             "ticks": "outside"
            },
            "colorscale": [
             [
              0,
              "#440154"
             ],
             [
              0.1111111111111111,
              "#482878"
             ],
             [
              0.2222222222222222,
              "#3e4989"
             ],
             [
              0.3333333333333333,
              "#31688e"
             ],
             [
              0.4444444444444444,
              "#26828e"
             ],
             [
              0.5555555555555556,
              "#1f9e89"
             ],
             [
              0.6666666666666666,
              "#35b779"
             ],
             [
              0.7777777777777778,
              "#6ece58"
             ],
             [
              0.8888888888888888,
              "#b5de2b"
             ],
             [
              1,
              "#fde725"
             ]
            ],
            "type": "histogram2dcontour"
           }
          ],
          "mesh3d": [
           {
            "colorbar": {
             "outlinewidth": 1,
             "tickcolor": "rgb(36,36,36)",
             "ticks": "outside"
            },
            "type": "mesh3d"
           }
          ],
          "parcoords": [
           {
            "line": {
             "colorbar": {
              "outlinewidth": 1,
              "tickcolor": "rgb(36,36,36)",
              "ticks": "outside"
             }
            },
            "type": "parcoords"
           }
          ],
          "pie": [
           {
            "automargin": true,
            "type": "pie"
           }
          ],
          "scatter": [
           {
            "marker": {
             "colorbar": {
              "outlinewidth": 1,
              "tickcolor": "rgb(36,36,36)",
              "ticks": "outside"
             }
            },
            "type": "scatter"
           }
          ],
          "scatter3d": [
           {
            "line": {
             "colorbar": {
              "outlinewidth": 1,
              "tickcolor": "rgb(36,36,36)",
              "ticks": "outside"
             }
            },
            "marker": {
             "colorbar": {
              "outlinewidth": 1,
              "tickcolor": "rgb(36,36,36)",
              "ticks": "outside"
             }
            },
            "type": "scatter3d"
           }
          ],
          "scattercarpet": [
           {
            "marker": {
             "colorbar": {
              "outlinewidth": 1,
              "tickcolor": "rgb(36,36,36)",
              "ticks": "outside"
             }
            },
            "type": "scattercarpet"
           }
          ],
          "scattergeo": [
           {
            "marker": {
             "colorbar": {
              "outlinewidth": 1,
              "tickcolor": "rgb(36,36,36)",
              "ticks": "outside"
             }
            },
            "type": "scattergeo"
           }
          ],
          "scattergl": [
           {
            "marker": {
             "colorbar": {
              "outlinewidth": 1,
              "tickcolor": "rgb(36,36,36)",
              "ticks": "outside"
             }
            },
            "type": "scattergl"
           }
          ],
          "scattermapbox": [
           {
            "marker": {
             "colorbar": {
              "outlinewidth": 1,
              "tickcolor": "rgb(36,36,36)",
              "ticks": "outside"
             }
            },
            "type": "scattermapbox"
           }
          ],
          "scatterpolar": [
           {
            "marker": {
             "colorbar": {
              "outlinewidth": 1,
              "tickcolor": "rgb(36,36,36)",
              "ticks": "outside"
             }
            },
            "type": "scatterpolar"
           }
          ],
          "scatterpolargl": [
           {
            "marker": {
             "colorbar": {
              "outlinewidth": 1,
              "tickcolor": "rgb(36,36,36)",
              "ticks": "outside"
             }
            },
            "type": "scatterpolargl"
           }
          ],
          "scatterternary": [
           {
            "marker": {
             "colorbar": {
              "outlinewidth": 1,
              "tickcolor": "rgb(36,36,36)",
              "ticks": "outside"
             }
            },
            "type": "scatterternary"
           }
          ],
          "surface": [
           {
            "colorbar": {
             "outlinewidth": 1,
             "tickcolor": "rgb(36,36,36)",
             "ticks": "outside"
            },
            "colorscale": [
             [
              0,
              "#440154"
             ],
             [
              0.1111111111111111,
              "#482878"
             ],
             [
              0.2222222222222222,
              "#3e4989"
             ],
             [
              0.3333333333333333,
              "#31688e"
             ],
             [
              0.4444444444444444,
              "#26828e"
             ],
             [
              0.5555555555555556,
              "#1f9e89"
             ],
             [
              0.6666666666666666,
              "#35b779"
             ],
             [
              0.7777777777777778,
              "#6ece58"
             ],
             [
              0.8888888888888888,
              "#b5de2b"
             ],
             [
              1,
              "#fde725"
             ]
            ],
            "type": "surface"
           }
          ],
          "table": [
           {
            "cells": {
             "fill": {
              "color": "rgb(237,237,237)"
             },
             "line": {
              "color": "white"
             }
            },
            "header": {
             "fill": {
              "color": "rgb(217,217,217)"
             },
             "line": {
              "color": "white"
             }
            },
            "type": "table"
           }
          ]
         },
         "layout": {
          "annotationdefaults": {
           "arrowhead": 0,
           "arrowwidth": 1
          },
          "coloraxis": {
           "colorbar": {
            "outlinewidth": 1,
            "tickcolor": "rgb(36,36,36)",
            "ticks": "outside"
           }
          },
          "colorscale": {
           "diverging": [
            [
             0,
             "rgb(103,0,31)"
            ],
            [
             0.1,
             "rgb(178,24,43)"
            ],
            [
             0.2,
             "rgb(214,96,77)"
            ],
            [
             0.3,
             "rgb(244,165,130)"
            ],
            [
             0.4,
             "rgb(253,219,199)"
            ],
            [
             0.5,
             "rgb(247,247,247)"
            ],
            [
             0.6,
             "rgb(209,229,240)"
            ],
            [
             0.7,
             "rgb(146,197,222)"
            ],
            [
             0.8,
             "rgb(67,147,195)"
            ],
            [
             0.9,
             "rgb(33,102,172)"
            ],
            [
             1,
             "rgb(5,48,97)"
            ]
           ],
           "sequential": [
            [
             0,
             "#440154"
            ],
            [
             0.1111111111111111,
             "#482878"
            ],
            [
             0.2222222222222222,
             "#3e4989"
            ],
            [
             0.3333333333333333,
             "#31688e"
            ],
            [
             0.4444444444444444,
             "#26828e"
            ],
            [
             0.5555555555555556,
             "#1f9e89"
            ],
            [
             0.6666666666666666,
             "#35b779"
            ],
            [
             0.7777777777777778,
             "#6ece58"
            ],
            [
             0.8888888888888888,
             "#b5de2b"
            ],
            [
             1,
             "#fde725"
            ]
           ],
           "sequentialminus": [
            [
             0,
             "#440154"
            ],
            [
             0.1111111111111111,
             "#482878"
            ],
            [
             0.2222222222222222,
             "#3e4989"
            ],
            [
             0.3333333333333333,
             "#31688e"
            ],
            [
             0.4444444444444444,
             "#26828e"
            ],
            [
             0.5555555555555556,
             "#1f9e89"
            ],
            [
             0.6666666666666666,
             "#35b779"
            ],
            [
             0.7777777777777778,
             "#6ece58"
            ],
            [
             0.8888888888888888,
             "#b5de2b"
            ],
            [
             1,
             "#fde725"
            ]
           ]
          },
          "colorway": [
           "#1F77B4",
           "#FF7F0E",
           "#2CA02C",
           "#D62728",
           "#9467BD",
           "#8C564B",
           "#E377C2",
           "#7F7F7F",
           "#BCBD22",
           "#17BECF"
          ],
          "font": {
           "color": "rgb(36,36,36)"
          },
          "geo": {
           "bgcolor": "white",
           "lakecolor": "white",
           "landcolor": "white",
           "showlakes": true,
           "showland": true,
           "subunitcolor": "white"
          },
          "hoverlabel": {
           "align": "left"
          },
          "hovermode": "closest",
          "mapbox": {
           "style": "light"
          },
          "paper_bgcolor": "white",
          "plot_bgcolor": "white",
          "polar": {
           "angularaxis": {
            "gridcolor": "rgb(232,232,232)",
            "linecolor": "rgb(36,36,36)",
            "showgrid": false,
            "showline": true,
            "ticks": "outside"
           },
           "bgcolor": "white",
           "radialaxis": {
            "gridcolor": "rgb(232,232,232)",
            "linecolor": "rgb(36,36,36)",
            "showgrid": false,
            "showline": true,
            "ticks": "outside"
           }
          },
          "scene": {
           "xaxis": {
            "backgroundcolor": "white",
            "gridcolor": "rgb(232,232,232)",
            "gridwidth": 2,
            "linecolor": "rgb(36,36,36)",
            "showbackground": true,
            "showgrid": false,
            "showline": true,
            "ticks": "outside",
            "zeroline": false,
            "zerolinecolor": "rgb(36,36,36)"
           },
           "yaxis": {
            "backgroundcolor": "white",
            "gridcolor": "rgb(232,232,232)",
            "gridwidth": 2,
            "linecolor": "rgb(36,36,36)",
            "showbackground": true,
            "showgrid": false,
            "showline": true,
            "ticks": "outside",
            "zeroline": false,
            "zerolinecolor": "rgb(36,36,36)"
           },
           "zaxis": {
            "backgroundcolor": "white",
            "gridcolor": "rgb(232,232,232)",
            "gridwidth": 2,
            "linecolor": "rgb(36,36,36)",
            "showbackground": true,
            "showgrid": false,
            "showline": true,
            "ticks": "outside",
            "zeroline": false,
            "zerolinecolor": "rgb(36,36,36)"
           }
          },
          "shapedefaults": {
           "fillcolor": "black",
           "line": {
            "width": 0
           },
           "opacity": 0.3
          },
          "ternary": {
           "aaxis": {
            "gridcolor": "rgb(232,232,232)",
            "linecolor": "rgb(36,36,36)",
            "showgrid": false,
            "showline": true,
            "ticks": "outside"
           },
           "baxis": {
            "gridcolor": "rgb(232,232,232)",
            "linecolor": "rgb(36,36,36)",
            "showgrid": false,
            "showline": true,
            "ticks": "outside"
           },
           "bgcolor": "white",
           "caxis": {
            "gridcolor": "rgb(232,232,232)",
            "linecolor": "rgb(36,36,36)",
            "showgrid": false,
            "showline": true,
            "ticks": "outside"
           }
          },
          "title": {
           "x": 0.05
          },
          "xaxis": {
           "automargin": true,
           "gridcolor": "rgb(232,232,232)",
           "linecolor": "rgb(36,36,36)",
           "showgrid": false,
           "showline": true,
           "ticks": "outside",
           "title": {
            "standoff": 15
           },
           "zeroline": false,
           "zerolinecolor": "rgb(36,36,36)"
          },
          "yaxis": {
           "automargin": true,
           "gridcolor": "rgb(232,232,232)",
           "linecolor": "rgb(36,36,36)",
           "showgrid": false,
           "showline": true,
           "ticks": "outside",
           "title": {
            "standoff": 15
           },
           "zeroline": false,
           "zerolinecolor": "rgb(36,36,36)"
          }
         }
        },
        "title": {
         "text": "Buisness Intelligence Polling - Candidate Favourability"
        },
        "xaxis": {
         "title": {
          "text": "Date"
         }
        },
        "yaxis": {
         "range": [
          0,
          0.6
         ],
         "tickformat": ",.0%",
         "title": {
          "text": "Polling Average"
         }
        }
       }
      },
      "text/html": [
       "<div>\n",
       "        \n",
       "        \n",
       "            <div id=\"728fdb1d-e64e-4fc9-aa72-930a9a5b8b82\" class=\"plotly-graph-div\" style=\"height:525px; width:100%;\"></div>\n",
       "            <script type=\"text/javascript\">\n",
       "                require([\"plotly\"], function(Plotly) {\n",
       "                    window.PLOTLYENV=window.PLOTLYENV || {};\n",
       "                    \n",
       "                if (document.getElementById(\"728fdb1d-e64e-4fc9-aa72-930a9a5b8b82\")) {\n",
       "                    Plotly.newPlot(\n",
       "                        '728fdb1d-e64e-4fc9-aa72-930a9a5b8b82',\n",
       "                        [{\"line\": {\"color\": \"#636EFA\", \"shape\": \"spline\"}, \"mode\": \"lines\", \"name\": \"Joseph R. Biden Jr.\", \"type\": \"scatter\", \"x\": [\"2019-01-31T00:00:00\", \"2019-02-28T00:00:00\", \"2019-03-31T00:00:00\", \"2019-04-30T00:00:00\", \"2019-05-31T00:00:00\", \"2019-06-30T00:00:00\", \"2019-07-31T00:00:00\", \"2019-08-31T00:00:00\", \"2019-09-30T00:00:00\", \"2019-10-31T00:00:00\", \"2019-11-30T00:00:00\", \"2019-12-31T00:00:00\", \"2020-01-31T00:00:00\", \"2020-02-29T00:00:00\", \"2020-03-31T00:00:00\"], \"y\": [0.2814865794907089, 0.3145687364097608, 0.30970017636684305, 0.2845849802371542, 0.292755991285403, 0.27526015441423296, 0.26872516050137574, 0.24843796489140138, 0.24300155520995334, 0.22868217054263565, 0.2298477157360406, 0.21682393093756275, 0.21359223300970873, 0.19458917835671344, 0.4875886524822695]}, {\"line\": {\"color\": \"#EF553B\", \"shape\": \"spline\"}, \"mode\": \"lines\", \"name\": \"Bernard Sanders\", \"type\": \"scatter\", \"x\": [\"2019-01-31T00:00:00\", \"2019-02-28T00:00:00\", \"2019-03-31T00:00:00\", \"2019-04-30T00:00:00\", \"2019-05-31T00:00:00\", \"2019-06-30T00:00:00\", \"2019-07-31T00:00:00\", \"2019-08-31T00:00:00\", \"2019-09-30T00:00:00\", \"2019-10-31T00:00:00\", \"2019-11-30T00:00:00\", \"2019-12-31T00:00:00\", \"2020-01-31T00:00:00\", \"2020-02-29T00:00:00\", \"2020-03-31T00:00:00\"], \"y\": [0.24088093599449414, 0.24861077554964967, 0.24761904761904763, 0.23715415019762845, 0.21922657952069716, 0.22054380664652568, 0.21094466523998778, 0.22433799464445106, 0.20820373250388802, 0.21201550387596899, 0.20588832487309644, 0.22565749849427827, 0.22180731889469754, 0.2470941883767535, 0.399822695035461]}, {\"line\": {\"color\": \"#00CC96\", \"shape\": \"spline\"}, \"mode\": \"lines\", \"name\": \"Amy Klobuchar\", \"type\": \"scatter\", \"x\": [\"2019-01-31T00:00:00\", \"2019-02-28T00:00:00\", \"2019-03-31T00:00:00\", \"2019-04-30T00:00:00\", \"2019-05-31T00:00:00\", \"2019-06-30T00:00:00\", \"2019-07-31T00:00:00\", \"2019-08-31T00:00:00\", \"2019-09-30T00:00:00\", \"2019-10-31T00:00:00\", \"2019-11-30T00:00:00\", \"2019-12-31T00:00:00\", \"2020-01-31T00:00:00\", \"2020-02-29T00:00:00\", \"2020-03-31T00:00:00\"], \"y\": [0.04198210598761184, 0.04807924619473303, 0.05291005291005291, 0.04413702239789196, 0.04357298474945534, 0.04447801275595838, 0.04188321614185264, 0.03882772984230884, 0.04743390357698289, 0.05406976744186046, 0.055228426395939084, 0.05280064244127685, 0.06982823002240478, 0.09218436873747494, 0.0]}, {\"line\": {\"color\": \"#AB63FA\", \"shape\": \"spline\"}, \"mode\": \"lines\", \"name\": \"Elizabeth Warren\", \"type\": \"scatter\", \"x\": [\"2019-01-31T00:00:00\", \"2019-02-28T00:00:00\", \"2019-03-31T00:00:00\", \"2019-04-30T00:00:00\", \"2019-05-31T00:00:00\", \"2019-06-30T00:00:00\", \"2019-07-31T00:00:00\", \"2019-08-31T00:00:00\", \"2019-09-30T00:00:00\", \"2019-10-31T00:00:00\", \"2019-11-30T00:00:00\", \"2019-12-31T00:00:00\", \"2020-01-31T00:00:00\", \"2020-02-29T00:00:00\", \"2020-03-31T00:00:00\"], \"y\": [0.12456985547143841, 0.13723121526938875, 0.13686067019400353, 0.12472551602986386, 0.14079520697167755, 0.15777106411547498, 0.17639865484561296, 0.17643558464742637, 0.18409797822706064, 0.18895348837209303, 0.18111675126903554, 0.17265609315398514, 0.16000746825989545, 0.16372745490981963, 0.0]}, {\"line\": {\"color\": \"#FFA15A\", \"shape\": \"spline\"}, \"mode\": \"lines\", \"name\": \"Pete Buttigieg\", \"type\": \"scatter\", \"x\": [\"2019-01-31T00:00:00\", \"2019-02-28T00:00:00\", \"2019-03-31T00:00:00\", \"2019-04-30T00:00:00\", \"2019-05-31T00:00:00\", \"2019-06-30T00:00:00\", \"2019-07-31T00:00:00\", \"2019-08-31T00:00:00\", \"2019-09-30T00:00:00\", \"2019-10-31T00:00:00\", \"2019-11-30T00:00:00\", \"2019-12-31T00:00:00\", \"2020-01-31T00:00:00\", \"2020-02-29T00:00:00\", \"2020-03-31T00:00:00\"], \"y\": [0.012388162422573986, 0.01836192316984779, 0.039858906525573196, 0.09003074220465525, 0.09313725490196079, 0.0931520644511581, 0.09293793946805258, 0.09654864623623921, 0.0942846034214619, 0.09709302325581395, 0.10091370558375634, 0.10279060429632604, 0.10268857356235997, 0.1432865731462926, 0.0]}, {\"line\": {\"color\": \"#19D3F3\", \"shape\": \"spline\"}, \"mode\": \"lines\", \"name\": \"Andrew Yang\", \"type\": \"scatter\", \"x\": [\"2019-01-31T00:00:00\", \"2019-02-28T00:00:00\", \"2019-03-31T00:00:00\", \"2019-04-30T00:00:00\", \"2019-05-31T00:00:00\", \"2019-06-30T00:00:00\", \"2019-07-31T00:00:00\", \"2019-08-31T00:00:00\", \"2019-09-30T00:00:00\", \"2019-10-31T00:00:00\", \"2019-11-30T00:00:00\", \"2019-12-31T00:00:00\", \"2020-01-31T00:00:00\", \"2020-02-29T00:00:00\", \"2020-03-31T00:00:00\"], \"y\": [0.0, 0.0, 0.015873015873015872, 0.028765920070267896, 0.03867102396514161, 0.04380664652567976, 0.047386120452461024, 0.06233263909550729, 0.0812597200622084, 0.09186046511627907, 0.08730964467005076, 0.10078297530616342, 0.11389096340552651, 0.03767535070140281, 0.0]}],\n",
       "                        {\"template\": {\"data\": {\"bar\": [{\"error_x\": {\"color\": \"rgb(36,36,36)\"}, \"error_y\": {\"color\": \"rgb(36,36,36)\"}, \"marker\": {\"line\": {\"color\": \"white\", \"width\": 0.5}}, \"type\": \"bar\"}], \"barpolar\": [{\"marker\": {\"line\": {\"color\": \"white\", \"width\": 0.5}}, \"type\": \"barpolar\"}], \"carpet\": [{\"aaxis\": {\"endlinecolor\": \"rgb(36,36,36)\", \"gridcolor\": \"white\", \"linecolor\": \"white\", \"minorgridcolor\": \"white\", \"startlinecolor\": \"rgb(36,36,36)\"}, \"baxis\": {\"endlinecolor\": \"rgb(36,36,36)\", \"gridcolor\": \"white\", \"linecolor\": \"white\", \"minorgridcolor\": \"white\", \"startlinecolor\": \"rgb(36,36,36)\"}, \"type\": \"carpet\"}], \"choropleth\": [{\"colorbar\": {\"outlinewidth\": 1, \"tickcolor\": \"rgb(36,36,36)\", \"ticks\": \"outside\"}, \"type\": \"choropleth\"}], \"contour\": [{\"colorbar\": {\"outlinewidth\": 1, \"tickcolor\": \"rgb(36,36,36)\", \"ticks\": \"outside\"}, \"colorscale\": [[0.0, \"#440154\"], [0.1111111111111111, \"#482878\"], [0.2222222222222222, \"#3e4989\"], [0.3333333333333333, \"#31688e\"], [0.4444444444444444, \"#26828e\"], [0.5555555555555556, \"#1f9e89\"], [0.6666666666666666, \"#35b779\"], [0.7777777777777778, \"#6ece58\"], [0.8888888888888888, \"#b5de2b\"], [1.0, \"#fde725\"]], \"type\": \"contour\"}], \"contourcarpet\": [{\"colorbar\": {\"outlinewidth\": 1, \"tickcolor\": \"rgb(36,36,36)\", \"ticks\": \"outside\"}, \"type\": \"contourcarpet\"}], \"heatmap\": [{\"colorbar\": {\"outlinewidth\": 1, \"tickcolor\": \"rgb(36,36,36)\", \"ticks\": \"outside\"}, \"colorscale\": [[0.0, \"#440154\"], [0.1111111111111111, \"#482878\"], [0.2222222222222222, \"#3e4989\"], [0.3333333333333333, \"#31688e\"], [0.4444444444444444, \"#26828e\"], [0.5555555555555556, \"#1f9e89\"], [0.6666666666666666, \"#35b779\"], [0.7777777777777778, \"#6ece58\"], [0.8888888888888888, \"#b5de2b\"], [1.0, \"#fde725\"]], \"type\": \"heatmap\"}], \"heatmapgl\": [{\"colorbar\": {\"outlinewidth\": 1, \"tickcolor\": \"rgb(36,36,36)\", \"ticks\": \"outside\"}, \"colorscale\": [[0.0, \"#440154\"], [0.1111111111111111, \"#482878\"], [0.2222222222222222, \"#3e4989\"], [0.3333333333333333, \"#31688e\"], [0.4444444444444444, \"#26828e\"], [0.5555555555555556, \"#1f9e89\"], [0.6666666666666666, \"#35b779\"], [0.7777777777777778, \"#6ece58\"], [0.8888888888888888, \"#b5de2b\"], [1.0, \"#fde725\"]], \"type\": \"heatmapgl\"}], \"histogram\": [{\"marker\": {\"line\": {\"color\": \"white\", \"width\": 0.6}}, \"type\": \"histogram\"}], \"histogram2d\": [{\"colorbar\": {\"outlinewidth\": 1, \"tickcolor\": \"rgb(36,36,36)\", \"ticks\": \"outside\"}, \"colorscale\": [[0.0, \"#440154\"], [0.1111111111111111, \"#482878\"], [0.2222222222222222, \"#3e4989\"], [0.3333333333333333, \"#31688e\"], [0.4444444444444444, \"#26828e\"], [0.5555555555555556, \"#1f9e89\"], [0.6666666666666666, \"#35b779\"], [0.7777777777777778, \"#6ece58\"], [0.8888888888888888, \"#b5de2b\"], [1.0, \"#fde725\"]], \"type\": \"histogram2d\"}], \"histogram2dcontour\": [{\"colorbar\": {\"outlinewidth\": 1, \"tickcolor\": \"rgb(36,36,36)\", \"ticks\": \"outside\"}, \"colorscale\": [[0.0, \"#440154\"], [0.1111111111111111, \"#482878\"], [0.2222222222222222, \"#3e4989\"], [0.3333333333333333, \"#31688e\"], [0.4444444444444444, \"#26828e\"], [0.5555555555555556, \"#1f9e89\"], [0.6666666666666666, \"#35b779\"], [0.7777777777777778, \"#6ece58\"], [0.8888888888888888, \"#b5de2b\"], [1.0, \"#fde725\"]], \"type\": \"histogram2dcontour\"}], \"mesh3d\": [{\"colorbar\": {\"outlinewidth\": 1, \"tickcolor\": \"rgb(36,36,36)\", \"ticks\": \"outside\"}, \"type\": \"mesh3d\"}], \"parcoords\": [{\"line\": {\"colorbar\": {\"outlinewidth\": 1, \"tickcolor\": \"rgb(36,36,36)\", \"ticks\": \"outside\"}}, \"type\": \"parcoords\"}], \"pie\": [{\"automargin\": true, \"type\": \"pie\"}], \"scatter\": [{\"marker\": {\"colorbar\": {\"outlinewidth\": 1, \"tickcolor\": \"rgb(36,36,36)\", \"ticks\": \"outside\"}}, \"type\": \"scatter\"}], \"scatter3d\": [{\"line\": {\"colorbar\": {\"outlinewidth\": 1, \"tickcolor\": \"rgb(36,36,36)\", \"ticks\": \"outside\"}}, \"marker\": {\"colorbar\": {\"outlinewidth\": 1, \"tickcolor\": \"rgb(36,36,36)\", \"ticks\": \"outside\"}}, \"type\": \"scatter3d\"}], \"scattercarpet\": [{\"marker\": {\"colorbar\": {\"outlinewidth\": 1, \"tickcolor\": \"rgb(36,36,36)\", \"ticks\": \"outside\"}}, \"type\": \"scattercarpet\"}], \"scattergeo\": [{\"marker\": {\"colorbar\": {\"outlinewidth\": 1, \"tickcolor\": \"rgb(36,36,36)\", \"ticks\": \"outside\"}}, \"type\": \"scattergeo\"}], \"scattergl\": [{\"marker\": {\"colorbar\": {\"outlinewidth\": 1, \"tickcolor\": \"rgb(36,36,36)\", \"ticks\": \"outside\"}}, \"type\": \"scattergl\"}], \"scattermapbox\": [{\"marker\": {\"colorbar\": {\"outlinewidth\": 1, \"tickcolor\": \"rgb(36,36,36)\", \"ticks\": \"outside\"}}, \"type\": \"scattermapbox\"}], \"scatterpolar\": [{\"marker\": {\"colorbar\": {\"outlinewidth\": 1, \"tickcolor\": \"rgb(36,36,36)\", \"ticks\": \"outside\"}}, \"type\": \"scatterpolar\"}], \"scatterpolargl\": [{\"marker\": {\"colorbar\": {\"outlinewidth\": 1, \"tickcolor\": \"rgb(36,36,36)\", \"ticks\": \"outside\"}}, \"type\": \"scatterpolargl\"}], \"scatterternary\": [{\"marker\": {\"colorbar\": {\"outlinewidth\": 1, \"tickcolor\": \"rgb(36,36,36)\", \"ticks\": \"outside\"}}, \"type\": \"scatterternary\"}], \"surface\": [{\"colorbar\": {\"outlinewidth\": 1, \"tickcolor\": \"rgb(36,36,36)\", \"ticks\": \"outside\"}, \"colorscale\": [[0.0, \"#440154\"], [0.1111111111111111, \"#482878\"], [0.2222222222222222, \"#3e4989\"], [0.3333333333333333, \"#31688e\"], [0.4444444444444444, \"#26828e\"], [0.5555555555555556, \"#1f9e89\"], [0.6666666666666666, \"#35b779\"], [0.7777777777777778, \"#6ece58\"], [0.8888888888888888, \"#b5de2b\"], [1.0, \"#fde725\"]], \"type\": \"surface\"}], \"table\": [{\"cells\": {\"fill\": {\"color\": \"rgb(237,237,237)\"}, \"line\": {\"color\": \"white\"}}, \"header\": {\"fill\": {\"color\": \"rgb(217,217,217)\"}, \"line\": {\"color\": \"white\"}}, \"type\": \"table\"}]}, \"layout\": {\"annotationdefaults\": {\"arrowhead\": 0, \"arrowwidth\": 1}, \"coloraxis\": {\"colorbar\": {\"outlinewidth\": 1, \"tickcolor\": \"rgb(36,36,36)\", \"ticks\": \"outside\"}}, \"colorscale\": {\"diverging\": [[0.0, \"rgb(103,0,31)\"], [0.1, \"rgb(178,24,43)\"], [0.2, \"rgb(214,96,77)\"], [0.3, \"rgb(244,165,130)\"], [0.4, \"rgb(253,219,199)\"], [0.5, \"rgb(247,247,247)\"], [0.6, \"rgb(209,229,240)\"], [0.7, \"rgb(146,197,222)\"], [0.8, \"rgb(67,147,195)\"], [0.9, \"rgb(33,102,172)\"], [1.0, \"rgb(5,48,97)\"]], \"sequential\": [[0.0, \"#440154\"], [0.1111111111111111, \"#482878\"], [0.2222222222222222, \"#3e4989\"], [0.3333333333333333, \"#31688e\"], [0.4444444444444444, \"#26828e\"], [0.5555555555555556, \"#1f9e89\"], [0.6666666666666666, \"#35b779\"], [0.7777777777777778, \"#6ece58\"], [0.8888888888888888, \"#b5de2b\"], [1.0, \"#fde725\"]], \"sequentialminus\": [[0.0, \"#440154\"], [0.1111111111111111, \"#482878\"], [0.2222222222222222, \"#3e4989\"], [0.3333333333333333, \"#31688e\"], [0.4444444444444444, \"#26828e\"], [0.5555555555555556, \"#1f9e89\"], [0.6666666666666666, \"#35b779\"], [0.7777777777777778, \"#6ece58\"], [0.8888888888888888, \"#b5de2b\"], [1.0, \"#fde725\"]]}, \"colorway\": [\"#1F77B4\", \"#FF7F0E\", \"#2CA02C\", \"#D62728\", \"#9467BD\", \"#8C564B\", \"#E377C2\", \"#7F7F7F\", \"#BCBD22\", \"#17BECF\"], \"font\": {\"color\": \"rgb(36,36,36)\"}, \"geo\": {\"bgcolor\": \"white\", \"lakecolor\": \"white\", \"landcolor\": \"white\", \"showlakes\": true, \"showland\": true, \"subunitcolor\": \"white\"}, \"hoverlabel\": {\"align\": \"left\"}, \"hovermode\": \"closest\", \"mapbox\": {\"style\": \"light\"}, \"paper_bgcolor\": \"white\", \"plot_bgcolor\": \"white\", \"polar\": {\"angularaxis\": {\"gridcolor\": \"rgb(232,232,232)\", \"linecolor\": \"rgb(36,36,36)\", \"showgrid\": false, \"showline\": true, \"ticks\": \"outside\"}, \"bgcolor\": \"white\", \"radialaxis\": {\"gridcolor\": \"rgb(232,232,232)\", \"linecolor\": \"rgb(36,36,36)\", \"showgrid\": false, \"showline\": true, \"ticks\": \"outside\"}}, \"scene\": {\"xaxis\": {\"backgroundcolor\": \"white\", \"gridcolor\": \"rgb(232,232,232)\", \"gridwidth\": 2, \"linecolor\": \"rgb(36,36,36)\", \"showbackground\": true, \"showgrid\": false, \"showline\": true, \"ticks\": \"outside\", \"zeroline\": false, \"zerolinecolor\": \"rgb(36,36,36)\"}, \"yaxis\": {\"backgroundcolor\": \"white\", \"gridcolor\": \"rgb(232,232,232)\", \"gridwidth\": 2, \"linecolor\": \"rgb(36,36,36)\", \"showbackground\": true, \"showgrid\": false, \"showline\": true, \"ticks\": \"outside\", \"zeroline\": false, \"zerolinecolor\": \"rgb(36,36,36)\"}, \"zaxis\": {\"backgroundcolor\": \"white\", \"gridcolor\": \"rgb(232,232,232)\", \"gridwidth\": 2, \"linecolor\": \"rgb(36,36,36)\", \"showbackground\": true, \"showgrid\": false, \"showline\": true, \"ticks\": \"outside\", \"zeroline\": false, \"zerolinecolor\": \"rgb(36,36,36)\"}}, \"shapedefaults\": {\"fillcolor\": \"black\", \"line\": {\"width\": 0}, \"opacity\": 0.3}, \"ternary\": {\"aaxis\": {\"gridcolor\": \"rgb(232,232,232)\", \"linecolor\": \"rgb(36,36,36)\", \"showgrid\": false, \"showline\": true, \"ticks\": \"outside\"}, \"baxis\": {\"gridcolor\": \"rgb(232,232,232)\", \"linecolor\": \"rgb(36,36,36)\", \"showgrid\": false, \"showline\": true, \"ticks\": \"outside\"}, \"bgcolor\": \"white\", \"caxis\": {\"gridcolor\": \"rgb(232,232,232)\", \"linecolor\": \"rgb(36,36,36)\", \"showgrid\": false, \"showline\": true, \"ticks\": \"outside\"}}, \"title\": {\"x\": 0.05}, \"xaxis\": {\"automargin\": true, \"gridcolor\": \"rgb(232,232,232)\", \"linecolor\": \"rgb(36,36,36)\", \"showgrid\": false, \"showline\": true, \"ticks\": \"outside\", \"title\": {\"standoff\": 15}, \"zeroline\": false, \"zerolinecolor\": \"rgb(36,36,36)\"}, \"yaxis\": {\"automargin\": true, \"gridcolor\": \"rgb(232,232,232)\", \"linecolor\": \"rgb(36,36,36)\", \"showgrid\": false, \"showline\": true, \"ticks\": \"outside\", \"title\": {\"standoff\": 15}, \"zeroline\": false, \"zerolinecolor\": \"rgb(36,36,36)\"}}}, \"title\": {\"text\": \"Buisness Intelligence Polling - Candidate Favourability\"}, \"xaxis\": {\"title\": {\"text\": \"Date\"}}, \"yaxis\": {\"range\": [0, 0.6], \"tickformat\": \",.0%\", \"title\": {\"text\": \"Polling Average\"}}},\n",
       "                        {\"responsive\": true}\n",
       "                    ).then(function(){\n",
       "                            \n",
       "var gd = document.getElementById('728fdb1d-e64e-4fc9-aa72-930a9a5b8b82');\n",
       "var x = new MutationObserver(function (mutations, observer) {{\n",
       "        var display = window.getComputedStyle(gd).display;\n",
       "        if (!display || display === 'none') {{\n",
       "            console.log([gd, 'removed!']);\n",
       "            Plotly.purge(gd);\n",
       "            observer.disconnect();\n",
       "        }}\n",
       "}});\n",
       "\n",
       "// Listen for the removal of the full notebook cells\n",
       "var notebookContainer = gd.closest('#notebook-container');\n",
       "if (notebookContainer) {{\n",
       "    x.observe(notebookContainer, {childList: true});\n",
       "}}\n",
       "\n",
       "// Listen for the clearing of the current output cell\n",
       "var outputEl = gd.closest('.output');\n",
       "if (outputEl) {{\n",
       "    x.observe(outputEl, {childList: true});\n",
       "}}\n",
       "\n",
       "                        })\n",
       "                };\n",
       "                });\n",
       "            </script>\n",
       "        </div>"
      ]
     },
     "metadata": {},
     "output_type": "display_data"
    }
   ],
   "source": [
    "pretty_names = [\"Joseph R. Biden Jr.\",\"Bernard Sanders\",\"Amy Klobuchar\",\"Elizabeth Warren\",\"Pete Buttigieg\",\"Andrew Yang\"]\n",
    "poll_mapping = {}\n",
    "for a,b in zip(pretty_names,px.colors.qualitative.Plotly):\n",
    "    poll_mapping[a] = b\n",
    "    \n",
    "fig = go.Figure()\n",
    "for cand,col in zip(pretty_names,concat_col_names):\n",
    "    fig.add_trace(go.Scatter(x=polling_agg[\"date\"],\n",
    "                             y=polling_agg[col], \n",
    "                             mode='lines',\n",
    "                             line_shape=\"spline\",\n",
    "                             name=cand,\n",
    "                             line=dict(color=poll_mapping[cand])\n",
    "                            ))\n",
    "\n",
    "    # Add figure title\n",
    "fig.update_layout(\n",
    "    title_text=\"Buisness Intelligence Polling - Candidate Favourability\",\n",
    "    template=\"simple_white\",\n",
    "    yaxis=dict(tickformat=',.0%',range=[0,0.6])\n",
    ")\n",
    "\n",
    "fig.update_xaxes(title_text=\"Date\")\n",
    "fig.update_yaxes(title_text=\"Polling Average\")\n",
    "\n",
    "fig.write_html(\"visualizations/BI_polling_average-ALL.html\")\n",
    "fig.show()"
   ]
  },
  {
   "cell_type": "markdown",
   "metadata": {},
   "source": [
    "### Only young voters"
   ]
  },
  {
   "cell_type": "code",
   "execution_count": 62,
   "metadata": {},
   "outputs": [
    {
     "data": {
      "text/html": [
       "<div>\n",
       "<style scoped>\n",
       "    .dataframe tbody tr th:only-of-type {\n",
       "        vertical-align: middle;\n",
       "    }\n",
       "\n",
       "    .dataframe tbody tr th {\n",
       "        vertical-align: top;\n",
       "    }\n",
       "\n",
       "    .dataframe thead th {\n",
       "        text-align: right;\n",
       "    }\n",
       "</style>\n",
       "<table border=\"1\" class=\"dataframe\">\n",
       "  <thead>\n",
       "    <tr style=\"text-align: right;\">\n",
       "      <th></th>\n",
       "      <th>date</th>\n",
       "      <th>supports_other</th>\n",
       "      <th>supports_biden</th>\n",
       "      <th>supports_sanders</th>\n",
       "      <th>supports_klobuchar</th>\n",
       "      <th>supports_warren</th>\n",
       "      <th>supports_buttigieg</th>\n",
       "      <th>supports_yang</th>\n",
       "    </tr>\n",
       "  </thead>\n",
       "  <tbody>\n",
       "    <tr>\n",
       "      <th>0</th>\n",
       "      <td>2019-01-31</td>\n",
       "      <td>0.314578</td>\n",
       "      <td>0.263427</td>\n",
       "      <td>0.312020</td>\n",
       "      <td>0.020460</td>\n",
       "      <td>0.076726</td>\n",
       "      <td>0.012788</td>\n",
       "      <td>0.000000</td>\n",
       "    </tr>\n",
       "    <tr>\n",
       "      <th>1</th>\n",
       "      <td>2019-02-28</td>\n",
       "      <td>0.268317</td>\n",
       "      <td>0.270297</td>\n",
       "      <td>0.316832</td>\n",
       "      <td>0.025743</td>\n",
       "      <td>0.108911</td>\n",
       "      <td>0.009901</td>\n",
       "      <td>0.000000</td>\n",
       "    </tr>\n",
       "    <tr>\n",
       "      <th>2</th>\n",
       "      <td>2019-03-31</td>\n",
       "      <td>0.209424</td>\n",
       "      <td>0.278796</td>\n",
       "      <td>0.303665</td>\n",
       "      <td>0.032723</td>\n",
       "      <td>0.124346</td>\n",
       "      <td>0.022251</td>\n",
       "      <td>0.028796</td>\n",
       "    </tr>\n",
       "    <tr>\n",
       "      <th>3</th>\n",
       "      <td>2019-04-30</td>\n",
       "      <td>0.227197</td>\n",
       "      <td>0.239635</td>\n",
       "      <td>0.304312</td>\n",
       "      <td>0.026534</td>\n",
       "      <td>0.104478</td>\n",
       "      <td>0.050580</td>\n",
       "      <td>0.047264</td>\n",
       "    </tr>\n",
       "    <tr>\n",
       "      <th>4</th>\n",
       "      <td>2019-05-31</td>\n",
       "      <td>0.215733</td>\n",
       "      <td>0.225268</td>\n",
       "      <td>0.280095</td>\n",
       "      <td>0.023838</td>\n",
       "      <td>0.132300</td>\n",
       "      <td>0.061979</td>\n",
       "      <td>0.060787</td>\n",
       "    </tr>\n",
       "    <tr>\n",
       "      <th>5</th>\n",
       "      <td>2019-06-30</td>\n",
       "      <td>0.217018</td>\n",
       "      <td>0.230871</td>\n",
       "      <td>0.275066</td>\n",
       "      <td>0.023747</td>\n",
       "      <td>0.131266</td>\n",
       "      <td>0.052111</td>\n",
       "      <td>0.069921</td>\n",
       "    </tr>\n",
       "    <tr>\n",
       "      <th>6</th>\n",
       "      <td>2019-07-31</td>\n",
       "      <td>0.198135</td>\n",
       "      <td>0.213287</td>\n",
       "      <td>0.277389</td>\n",
       "      <td>0.020979</td>\n",
       "      <td>0.156177</td>\n",
       "      <td>0.066434</td>\n",
       "      <td>0.067599</td>\n",
       "    </tr>\n",
       "    <tr>\n",
       "      <th>7</th>\n",
       "      <td>2019-08-31</td>\n",
       "      <td>0.161031</td>\n",
       "      <td>0.190553</td>\n",
       "      <td>0.307032</td>\n",
       "      <td>0.019324</td>\n",
       "      <td>0.165862</td>\n",
       "      <td>0.067633</td>\n",
       "      <td>0.088567</td>\n",
       "    </tr>\n",
       "    <tr>\n",
       "      <th>8</th>\n",
       "      <td>2019-09-30</td>\n",
       "      <td>0.178651</td>\n",
       "      <td>0.168273</td>\n",
       "      <td>0.272795</td>\n",
       "      <td>0.026686</td>\n",
       "      <td>0.161601</td>\n",
       "      <td>0.059303</td>\n",
       "      <td>0.132691</td>\n",
       "    </tr>\n",
       "    <tr>\n",
       "      <th>9</th>\n",
       "      <td>2019-10-31</td>\n",
       "      <td>0.131519</td>\n",
       "      <td>0.183673</td>\n",
       "      <td>0.281935</td>\n",
       "      <td>0.025699</td>\n",
       "      <td>0.179138</td>\n",
       "      <td>0.058957</td>\n",
       "      <td>0.139078</td>\n",
       "    </tr>\n",
       "    <tr>\n",
       "      <th>10</th>\n",
       "      <td>2019-11-30</td>\n",
       "      <td>0.134069</td>\n",
       "      <td>0.180599</td>\n",
       "      <td>0.274448</td>\n",
       "      <td>0.020505</td>\n",
       "      <td>0.174290</td>\n",
       "      <td>0.067823</td>\n",
       "      <td>0.148265</td>\n",
       "    </tr>\n",
       "    <tr>\n",
       "      <th>11</th>\n",
       "      <td>2019-12-31</td>\n",
       "      <td>0.124525</td>\n",
       "      <td>0.188307</td>\n",
       "      <td>0.290053</td>\n",
       "      <td>0.022779</td>\n",
       "      <td>0.168565</td>\n",
       "      <td>0.056188</td>\n",
       "      <td>0.149582</td>\n",
       "    </tr>\n",
       "    <tr>\n",
       "      <th>12</th>\n",
       "      <td>2020-01-31</td>\n",
       "      <td>0.110959</td>\n",
       "      <td>0.183562</td>\n",
       "      <td>0.292466</td>\n",
       "      <td>0.032877</td>\n",
       "      <td>0.160959</td>\n",
       "      <td>0.067123</td>\n",
       "      <td>0.152055</td>\n",
       "    </tr>\n",
       "    <tr>\n",
       "      <th>13</th>\n",
       "      <td>2020-02-29</td>\n",
       "      <td>0.115352</td>\n",
       "      <td>0.162002</td>\n",
       "      <td>0.367260</td>\n",
       "      <td>0.042409</td>\n",
       "      <td>0.184054</td>\n",
       "      <td>0.087362</td>\n",
       "      <td>0.041561</td>\n",
       "    </tr>\n",
       "    <tr>\n",
       "      <th>14</th>\n",
       "      <td>2020-03-31</td>\n",
       "      <td>0.087227</td>\n",
       "      <td>0.339564</td>\n",
       "      <td>0.573209</td>\n",
       "      <td>0.000000</td>\n",
       "      <td>0.000000</td>\n",
       "      <td>0.000000</td>\n",
       "      <td>0.000000</td>\n",
       "    </tr>\n",
       "  </tbody>\n",
       "</table>\n",
       "</div>"
      ],
      "text/plain": [
       "         date  supports_other  supports_biden  supports_sanders  \\\n",
       "0  2019-01-31        0.314578        0.263427          0.312020   \n",
       "1  2019-02-28        0.268317        0.270297          0.316832   \n",
       "2  2019-03-31        0.209424        0.278796          0.303665   \n",
       "3  2019-04-30        0.227197        0.239635          0.304312   \n",
       "4  2019-05-31        0.215733        0.225268          0.280095   \n",
       "5  2019-06-30        0.217018        0.230871          0.275066   \n",
       "6  2019-07-31        0.198135        0.213287          0.277389   \n",
       "7  2019-08-31        0.161031        0.190553          0.307032   \n",
       "8  2019-09-30        0.178651        0.168273          0.272795   \n",
       "9  2019-10-31        0.131519        0.183673          0.281935   \n",
       "10 2019-11-30        0.134069        0.180599          0.274448   \n",
       "11 2019-12-31        0.124525        0.188307          0.290053   \n",
       "12 2020-01-31        0.110959        0.183562          0.292466   \n",
       "13 2020-02-29        0.115352        0.162002          0.367260   \n",
       "14 2020-03-31        0.087227        0.339564          0.573209   \n",
       "\n",
       "    supports_klobuchar  supports_warren  supports_buttigieg  supports_yang  \n",
       "0             0.020460         0.076726            0.012788       0.000000  \n",
       "1             0.025743         0.108911            0.009901       0.000000  \n",
       "2             0.032723         0.124346            0.022251       0.028796  \n",
       "3             0.026534         0.104478            0.050580       0.047264  \n",
       "4             0.023838         0.132300            0.061979       0.060787  \n",
       "5             0.023747         0.131266            0.052111       0.069921  \n",
       "6             0.020979         0.156177            0.066434       0.067599  \n",
       "7             0.019324         0.165862            0.067633       0.088567  \n",
       "8             0.026686         0.161601            0.059303       0.132691  \n",
       "9             0.025699         0.179138            0.058957       0.139078  \n",
       "10            0.020505         0.174290            0.067823       0.148265  \n",
       "11            0.022779         0.168565            0.056188       0.149582  \n",
       "12            0.032877         0.160959            0.067123       0.152055  \n",
       "13            0.042409         0.184054            0.087362       0.041561  \n",
       "14            0.000000         0.000000            0.000000       0.000000  "
      ]
     },
     "execution_count": 62,
     "metadata": {},
     "output_type": "execute_result"
    }
   ],
   "source": [
    "young_voters = bi_poll[bi_poll[\"age\"] == \"18-29\"]\n",
    "polling_agg = young_voters.groupby([pd.Grouper(key='date', freq='M')])[[\"supports_other\"]+concat_col_names].sum().reset_index().sort_values('date')\n",
    "# Convert to pct\n",
    "polling_agg = polling_agg.set_index('date')\n",
    "polling_agg = polling_agg.div(polling_agg.sum(axis=1), axis=0)\n",
    "polling_agg = polling_agg.reset_index()\n",
    "polling_agg"
   ]
  },
  {
   "cell_type": "code",
   "execution_count": 48,
   "metadata": {
    "scrolled": false
   },
   "outputs": [
    {
     "data": {
      "application/vnd.plotly.v1+json": {
       "config": {
        "plotlyServerURL": "https://plot.ly"
       },
       "data": [
        {
         "line": {
          "color": "#636EFA",
          "shape": "spline"
         },
         "mode": "lines",
         "name": "Joseph R. Biden Jr.",
         "type": "scatter",
         "x": [
          "2019-01-31T00:00:00",
          "2019-02-28T00:00:00",
          "2019-03-31T00:00:00",
          "2019-04-30T00:00:00",
          "2019-05-31T00:00:00",
          "2019-06-30T00:00:00",
          "2019-07-31T00:00:00",
          "2019-08-31T00:00:00",
          "2019-09-30T00:00:00",
          "2019-10-31T00:00:00",
          "2019-11-30T00:00:00",
          "2019-12-31T00:00:00",
          "2020-01-31T00:00:00",
          "2020-02-29T00:00:00",
          "2020-03-31T00:00:00"
         ],
         "y": [
          0.26342710997442453,
          0.2702970297029703,
          0.2787958115183246,
          0.2396351575456053,
          0.22526817640047675,
          0.23087071240105542,
          0.21328671328671328,
          0.19055287171229202,
          0.1682727946627131,
          0.1836734693877551,
          0.1805993690851735,
          0.18830675778283978,
          0.18356164383561643,
          0.1620016963528414,
          0.3395638629283489
         ]
        },
        {
         "line": {
          "color": "#EF553B",
          "shape": "spline"
         },
         "mode": "lines",
         "name": "Bernard Sanders",
         "type": "scatter",
         "x": [
          "2019-01-31T00:00:00",
          "2019-02-28T00:00:00",
          "2019-03-31T00:00:00",
          "2019-04-30T00:00:00",
          "2019-05-31T00:00:00",
          "2019-06-30T00:00:00",
          "2019-07-31T00:00:00",
          "2019-08-31T00:00:00",
          "2019-09-30T00:00:00",
          "2019-10-31T00:00:00",
          "2019-11-30T00:00:00",
          "2019-12-31T00:00:00",
          "2020-01-31T00:00:00",
          "2020-02-29T00:00:00",
          "2020-03-31T00:00:00"
         ],
         "y": [
          0.31202046035805625,
          0.31683168316831684,
          0.3036649214659686,
          0.3043117744610282,
          0.2800953516090584,
          0.27506596306068604,
          0.2773892773892774,
          0.3070316693505099,
          0.2727946627131208,
          0.2819349962207105,
          0.2744479495268139,
          0.2900531511009871,
          0.2924657534246575,
          0.3672603901611535,
          0.573208722741433
         ]
        },
        {
         "line": {
          "color": "#00CC96",
          "shape": "spline"
         },
         "mode": "lines",
         "name": "Amy Klobuchar",
         "type": "scatter",
         "x": [
          "2019-01-31T00:00:00",
          "2019-02-28T00:00:00",
          "2019-03-31T00:00:00",
          "2019-04-30T00:00:00",
          "2019-05-31T00:00:00",
          "2019-06-30T00:00:00",
          "2019-07-31T00:00:00",
          "2019-08-31T00:00:00",
          "2019-09-30T00:00:00",
          "2019-10-31T00:00:00",
          "2019-11-30T00:00:00",
          "2019-12-31T00:00:00",
          "2020-01-31T00:00:00",
          "2020-02-29T00:00:00",
          "2020-03-31T00:00:00"
         ],
         "y": [
          0.020460358056265986,
          0.02574257425742574,
          0.032722513089005235,
          0.026533996683250415,
          0.023837902264600714,
          0.023746701846965697,
          0.02097902097902098,
          0.01932367149758454,
          0.026686434395848776,
          0.025699168556311415,
          0.02050473186119874,
          0.022779043280182234,
          0.03287671232876712,
          0.04240882103477523,
          0
         ]
        },
        {
         "line": {
          "color": "#AB63FA",
          "shape": "spline"
         },
         "mode": "lines",
         "name": "Elizabeth Warren",
         "type": "scatter",
         "x": [
          "2019-01-31T00:00:00",
          "2019-02-28T00:00:00",
          "2019-03-31T00:00:00",
          "2019-04-30T00:00:00",
          "2019-05-31T00:00:00",
          "2019-06-30T00:00:00",
          "2019-07-31T00:00:00",
          "2019-08-31T00:00:00",
          "2019-09-30T00:00:00",
          "2019-10-31T00:00:00",
          "2019-11-30T00:00:00",
          "2019-12-31T00:00:00",
          "2020-01-31T00:00:00",
          "2020-02-29T00:00:00",
          "2020-03-31T00:00:00"
         ],
         "y": [
          0.07672634271099744,
          0.10891089108910891,
          0.1243455497382199,
          0.1044776119402985,
          0.13230035756853398,
          0.1312664907651715,
          0.1561771561771562,
          0.16586151368760063,
          0.16160118606375093,
          0.17913832199546487,
          0.17429022082018927,
          0.16856492027334852,
          0.16095890410958905,
          0.18405428329092452,
          0
         ]
        },
        {
         "line": {
          "color": "#FFA15A",
          "shape": "spline"
         },
         "mode": "lines",
         "name": "Pete Buttigieg",
         "type": "scatter",
         "x": [
          "2019-01-31T00:00:00",
          "2019-02-28T00:00:00",
          "2019-03-31T00:00:00",
          "2019-04-30T00:00:00",
          "2019-05-31T00:00:00",
          "2019-06-30T00:00:00",
          "2019-07-31T00:00:00",
          "2019-08-31T00:00:00",
          "2019-09-30T00:00:00",
          "2019-10-31T00:00:00",
          "2019-11-30T00:00:00",
          "2019-12-31T00:00:00",
          "2020-01-31T00:00:00",
          "2020-02-29T00:00:00",
          "2020-03-31T00:00:00"
         ],
         "y": [
          0.01278772378516624,
          0.009900990099009901,
          0.02225130890052356,
          0.0505804311774461,
          0.06197854588796186,
          0.052110817941952506,
          0.06643356643356643,
          0.06763285024154589,
          0.05930318754633061,
          0.05895691609977324,
          0.06782334384858044,
          0.05618830675778284,
          0.06712328767123288,
          0.08736217133163698,
          0
         ]
        },
        {
         "line": {
          "color": "#19D3F3",
          "shape": "spline"
         },
         "mode": "lines",
         "name": "Andrew Yang",
         "type": "scatter",
         "x": [
          "2019-01-31T00:00:00",
          "2019-02-28T00:00:00",
          "2019-03-31T00:00:00",
          "2019-04-30T00:00:00",
          "2019-05-31T00:00:00",
          "2019-06-30T00:00:00",
          "2019-07-31T00:00:00",
          "2019-08-31T00:00:00",
          "2019-09-30T00:00:00",
          "2019-10-31T00:00:00",
          "2019-11-30T00:00:00",
          "2019-12-31T00:00:00",
          "2020-01-31T00:00:00",
          "2020-02-29T00:00:00",
          "2020-03-31T00:00:00"
         ],
         "y": [
          0,
          0,
          0.028795811518324606,
          0.0472636815920398,
          0.060786650774731825,
          0.06992084432717678,
          0.0675990675990676,
          0.08856682769726248,
          0.13269088213491476,
          0.13907785336356765,
          0.14826498422712933,
          0.14958238420653,
          0.15205479452054796,
          0.041560644614079725,
          0
         ]
        }
       ],
       "layout": {
        "template": {
         "data": {
          "bar": [
           {
            "error_x": {
             "color": "rgb(36,36,36)"
            },
            "error_y": {
             "color": "rgb(36,36,36)"
            },
            "marker": {
             "line": {
              "color": "white",
              "width": 0.5
             }
            },
            "type": "bar"
           }
          ],
          "barpolar": [
           {
            "marker": {
             "line": {
              "color": "white",
              "width": 0.5
             }
            },
            "type": "barpolar"
           }
          ],
          "carpet": [
           {
            "aaxis": {
             "endlinecolor": "rgb(36,36,36)",
             "gridcolor": "white",
             "linecolor": "white",
             "minorgridcolor": "white",
             "startlinecolor": "rgb(36,36,36)"
            },
            "baxis": {
             "endlinecolor": "rgb(36,36,36)",
             "gridcolor": "white",
             "linecolor": "white",
             "minorgridcolor": "white",
             "startlinecolor": "rgb(36,36,36)"
            },
            "type": "carpet"
           }
          ],
          "choropleth": [
           {
            "colorbar": {
             "outlinewidth": 1,
             "tickcolor": "rgb(36,36,36)",
             "ticks": "outside"
            },
            "type": "choropleth"
           }
          ],
          "contour": [
           {
            "colorbar": {
             "outlinewidth": 1,
             "tickcolor": "rgb(36,36,36)",
             "ticks": "outside"
            },
            "colorscale": [
             [
              0,
              "#440154"
             ],
             [
              0.1111111111111111,
              "#482878"
             ],
             [
              0.2222222222222222,
              "#3e4989"
             ],
             [
              0.3333333333333333,
              "#31688e"
             ],
             [
              0.4444444444444444,
              "#26828e"
             ],
             [
              0.5555555555555556,
              "#1f9e89"
             ],
             [
              0.6666666666666666,
              "#35b779"
             ],
             [
              0.7777777777777778,
              "#6ece58"
             ],
             [
              0.8888888888888888,
              "#b5de2b"
             ],
             [
              1,
              "#fde725"
             ]
            ],
            "type": "contour"
           }
          ],
          "contourcarpet": [
           {
            "colorbar": {
             "outlinewidth": 1,
             "tickcolor": "rgb(36,36,36)",
             "ticks": "outside"
            },
            "type": "contourcarpet"
           }
          ],
          "heatmap": [
           {
            "colorbar": {
             "outlinewidth": 1,
             "tickcolor": "rgb(36,36,36)",
             "ticks": "outside"
            },
            "colorscale": [
             [
              0,
              "#440154"
             ],
             [
              0.1111111111111111,
              "#482878"
             ],
             [
              0.2222222222222222,
              "#3e4989"
             ],
             [
              0.3333333333333333,
              "#31688e"
             ],
             [
              0.4444444444444444,
              "#26828e"
             ],
             [
              0.5555555555555556,
              "#1f9e89"
             ],
             [
              0.6666666666666666,
              "#35b779"
             ],
             [
              0.7777777777777778,
              "#6ece58"
             ],
             [
              0.8888888888888888,
              "#b5de2b"
             ],
             [
              1,
              "#fde725"
             ]
            ],
            "type": "heatmap"
           }
          ],
          "heatmapgl": [
           {
            "colorbar": {
             "outlinewidth": 1,
             "tickcolor": "rgb(36,36,36)",
             "ticks": "outside"
            },
            "colorscale": [
             [
              0,
              "#440154"
             ],
             [
              0.1111111111111111,
              "#482878"
             ],
             [
              0.2222222222222222,
              "#3e4989"
             ],
             [
              0.3333333333333333,
              "#31688e"
             ],
             [
              0.4444444444444444,
              "#26828e"
             ],
             [
              0.5555555555555556,
              "#1f9e89"
             ],
             [
              0.6666666666666666,
              "#35b779"
             ],
             [
              0.7777777777777778,
              "#6ece58"
             ],
             [
              0.8888888888888888,
              "#b5de2b"
             ],
             [
              1,
              "#fde725"
             ]
            ],
            "type": "heatmapgl"
           }
          ],
          "histogram": [
           {
            "marker": {
             "line": {
              "color": "white",
              "width": 0.6
             }
            },
            "type": "histogram"
           }
          ],
          "histogram2d": [
           {
            "colorbar": {
             "outlinewidth": 1,
             "tickcolor": "rgb(36,36,36)",
             "ticks": "outside"
            },
            "colorscale": [
             [
              0,
              "#440154"
             ],
             [
              0.1111111111111111,
              "#482878"
             ],
             [
              0.2222222222222222,
              "#3e4989"
             ],
             [
              0.3333333333333333,
              "#31688e"
             ],
             [
              0.4444444444444444,
              "#26828e"
             ],
             [
              0.5555555555555556,
              "#1f9e89"
             ],
             [
              0.6666666666666666,
              "#35b779"
             ],
             [
              0.7777777777777778,
              "#6ece58"
             ],
             [
              0.8888888888888888,
              "#b5de2b"
             ],
             [
              1,
              "#fde725"
             ]
            ],
            "type": "histogram2d"
           }
          ],
          "histogram2dcontour": [
           {
            "colorbar": {
             "outlinewidth": 1,
             "tickcolor": "rgb(36,36,36)",
             "ticks": "outside"
            },
            "colorscale": [
             [
              0,
              "#440154"
             ],
             [
              0.1111111111111111,
              "#482878"
             ],
             [
              0.2222222222222222,
              "#3e4989"
             ],
             [
              0.3333333333333333,
              "#31688e"
             ],
             [
              0.4444444444444444,
              "#26828e"
             ],
             [
              0.5555555555555556,
              "#1f9e89"
             ],
             [
              0.6666666666666666,
              "#35b779"
             ],
             [
              0.7777777777777778,
              "#6ece58"
             ],
             [
              0.8888888888888888,
              "#b5de2b"
             ],
             [
              1,
              "#fde725"
             ]
            ],
            "type": "histogram2dcontour"
           }
          ],
          "mesh3d": [
           {
            "colorbar": {
             "outlinewidth": 1,
             "tickcolor": "rgb(36,36,36)",
             "ticks": "outside"
            },
            "type": "mesh3d"
           }
          ],
          "parcoords": [
           {
            "line": {
             "colorbar": {
              "outlinewidth": 1,
              "tickcolor": "rgb(36,36,36)",
              "ticks": "outside"
             }
            },
            "type": "parcoords"
           }
          ],
          "pie": [
           {
            "automargin": true,
            "type": "pie"
           }
          ],
          "scatter": [
           {
            "marker": {
             "colorbar": {
              "outlinewidth": 1,
              "tickcolor": "rgb(36,36,36)",
              "ticks": "outside"
             }
            },
            "type": "scatter"
           }
          ],
          "scatter3d": [
           {
            "line": {
             "colorbar": {
              "outlinewidth": 1,
              "tickcolor": "rgb(36,36,36)",
              "ticks": "outside"
             }
            },
            "marker": {
             "colorbar": {
              "outlinewidth": 1,
              "tickcolor": "rgb(36,36,36)",
              "ticks": "outside"
             }
            },
            "type": "scatter3d"
           }
          ],
          "scattercarpet": [
           {
            "marker": {
             "colorbar": {
              "outlinewidth": 1,
              "tickcolor": "rgb(36,36,36)",
              "ticks": "outside"
             }
            },
            "type": "scattercarpet"
           }
          ],
          "scattergeo": [
           {
            "marker": {
             "colorbar": {
              "outlinewidth": 1,
              "tickcolor": "rgb(36,36,36)",
              "ticks": "outside"
             }
            },
            "type": "scattergeo"
           }
          ],
          "scattergl": [
           {
            "marker": {
             "colorbar": {
              "outlinewidth": 1,
              "tickcolor": "rgb(36,36,36)",
              "ticks": "outside"
             }
            },
            "type": "scattergl"
           }
          ],
          "scattermapbox": [
           {
            "marker": {
             "colorbar": {
              "outlinewidth": 1,
              "tickcolor": "rgb(36,36,36)",
              "ticks": "outside"
             }
            },
            "type": "scattermapbox"
           }
          ],
          "scatterpolar": [
           {
            "marker": {
             "colorbar": {
              "outlinewidth": 1,
              "tickcolor": "rgb(36,36,36)",
              "ticks": "outside"
             }
            },
            "type": "scatterpolar"
           }
          ],
          "scatterpolargl": [
           {
            "marker": {
             "colorbar": {
              "outlinewidth": 1,
              "tickcolor": "rgb(36,36,36)",
              "ticks": "outside"
             }
            },
            "type": "scatterpolargl"
           }
          ],
          "scatterternary": [
           {
            "marker": {
             "colorbar": {
              "outlinewidth": 1,
              "tickcolor": "rgb(36,36,36)",
              "ticks": "outside"
             }
            },
            "type": "scatterternary"
           }
          ],
          "surface": [
           {
            "colorbar": {
             "outlinewidth": 1,
             "tickcolor": "rgb(36,36,36)",
             "ticks": "outside"
            },
            "colorscale": [
             [
              0,
              "#440154"
             ],
             [
              0.1111111111111111,
              "#482878"
             ],
             [
              0.2222222222222222,
              "#3e4989"
             ],
             [
              0.3333333333333333,
              "#31688e"
             ],
             [
              0.4444444444444444,
              "#26828e"
             ],
             [
              0.5555555555555556,
              "#1f9e89"
             ],
             [
              0.6666666666666666,
              "#35b779"
             ],
             [
              0.7777777777777778,
              "#6ece58"
             ],
             [
              0.8888888888888888,
              "#b5de2b"
             ],
             [
              1,
              "#fde725"
             ]
            ],
            "type": "surface"
           }
          ],
          "table": [
           {
            "cells": {
             "fill": {
              "color": "rgb(237,237,237)"
             },
             "line": {
              "color": "white"
             }
            },
            "header": {
             "fill": {
              "color": "rgb(217,217,217)"
             },
             "line": {
              "color": "white"
             }
            },
            "type": "table"
           }
          ]
         },
         "layout": {
          "annotationdefaults": {
           "arrowhead": 0,
           "arrowwidth": 1
          },
          "coloraxis": {
           "colorbar": {
            "outlinewidth": 1,
            "tickcolor": "rgb(36,36,36)",
            "ticks": "outside"
           }
          },
          "colorscale": {
           "diverging": [
            [
             0,
             "rgb(103,0,31)"
            ],
            [
             0.1,
             "rgb(178,24,43)"
            ],
            [
             0.2,
             "rgb(214,96,77)"
            ],
            [
             0.3,
             "rgb(244,165,130)"
            ],
            [
             0.4,
             "rgb(253,219,199)"
            ],
            [
             0.5,
             "rgb(247,247,247)"
            ],
            [
             0.6,
             "rgb(209,229,240)"
            ],
            [
             0.7,
             "rgb(146,197,222)"
            ],
            [
             0.8,
             "rgb(67,147,195)"
            ],
            [
             0.9,
             "rgb(33,102,172)"
            ],
            [
             1,
             "rgb(5,48,97)"
            ]
           ],
           "sequential": [
            [
             0,
             "#440154"
            ],
            [
             0.1111111111111111,
             "#482878"
            ],
            [
             0.2222222222222222,
             "#3e4989"
            ],
            [
             0.3333333333333333,
             "#31688e"
            ],
            [
             0.4444444444444444,
             "#26828e"
            ],
            [
             0.5555555555555556,
             "#1f9e89"
            ],
            [
             0.6666666666666666,
             "#35b779"
            ],
            [
             0.7777777777777778,
             "#6ece58"
            ],
            [
             0.8888888888888888,
             "#b5de2b"
            ],
            [
             1,
             "#fde725"
            ]
           ],
           "sequentialminus": [
            [
             0,
             "#440154"
            ],
            [
             0.1111111111111111,
             "#482878"
            ],
            [
             0.2222222222222222,
             "#3e4989"
            ],
            [
             0.3333333333333333,
             "#31688e"
            ],
            [
             0.4444444444444444,
             "#26828e"
            ],
            [
             0.5555555555555556,
             "#1f9e89"
            ],
            [
             0.6666666666666666,
             "#35b779"
            ],
            [
             0.7777777777777778,
             "#6ece58"
            ],
            [
             0.8888888888888888,
             "#b5de2b"
            ],
            [
             1,
             "#fde725"
            ]
           ]
          },
          "colorway": [
           "#1F77B4",
           "#FF7F0E",
           "#2CA02C",
           "#D62728",
           "#9467BD",
           "#8C564B",
           "#E377C2",
           "#7F7F7F",
           "#BCBD22",
           "#17BECF"
          ],
          "font": {
           "color": "rgb(36,36,36)"
          },
          "geo": {
           "bgcolor": "white",
           "lakecolor": "white",
           "landcolor": "white",
           "showlakes": true,
           "showland": true,
           "subunitcolor": "white"
          },
          "hoverlabel": {
           "align": "left"
          },
          "hovermode": "closest",
          "mapbox": {
           "style": "light"
          },
          "paper_bgcolor": "white",
          "plot_bgcolor": "white",
          "polar": {
           "angularaxis": {
            "gridcolor": "rgb(232,232,232)",
            "linecolor": "rgb(36,36,36)",
            "showgrid": false,
            "showline": true,
            "ticks": "outside"
           },
           "bgcolor": "white",
           "radialaxis": {
            "gridcolor": "rgb(232,232,232)",
            "linecolor": "rgb(36,36,36)",
            "showgrid": false,
            "showline": true,
            "ticks": "outside"
           }
          },
          "scene": {
           "xaxis": {
            "backgroundcolor": "white",
            "gridcolor": "rgb(232,232,232)",
            "gridwidth": 2,
            "linecolor": "rgb(36,36,36)",
            "showbackground": true,
            "showgrid": false,
            "showline": true,
            "ticks": "outside",
            "zeroline": false,
            "zerolinecolor": "rgb(36,36,36)"
           },
           "yaxis": {
            "backgroundcolor": "white",
            "gridcolor": "rgb(232,232,232)",
            "gridwidth": 2,
            "linecolor": "rgb(36,36,36)",
            "showbackground": true,
            "showgrid": false,
            "showline": true,
            "ticks": "outside",
            "zeroline": false,
            "zerolinecolor": "rgb(36,36,36)"
           },
           "zaxis": {
            "backgroundcolor": "white",
            "gridcolor": "rgb(232,232,232)",
            "gridwidth": 2,
            "linecolor": "rgb(36,36,36)",
            "showbackground": true,
            "showgrid": false,
            "showline": true,
            "ticks": "outside",
            "zeroline": false,
            "zerolinecolor": "rgb(36,36,36)"
           }
          },
          "shapedefaults": {
           "fillcolor": "black",
           "line": {
            "width": 0
           },
           "opacity": 0.3
          },
          "ternary": {
           "aaxis": {
            "gridcolor": "rgb(232,232,232)",
            "linecolor": "rgb(36,36,36)",
            "showgrid": false,
            "showline": true,
            "ticks": "outside"
           },
           "baxis": {
            "gridcolor": "rgb(232,232,232)",
            "linecolor": "rgb(36,36,36)",
            "showgrid": false,
            "showline": true,
            "ticks": "outside"
           },
           "bgcolor": "white",
           "caxis": {
            "gridcolor": "rgb(232,232,232)",
            "linecolor": "rgb(36,36,36)",
            "showgrid": false,
            "showline": true,
            "ticks": "outside"
           }
          },
          "title": {
           "x": 0.05
          },
          "xaxis": {
           "automargin": true,
           "gridcolor": "rgb(232,232,232)",
           "linecolor": "rgb(36,36,36)",
           "showgrid": false,
           "showline": true,
           "ticks": "outside",
           "title": {
            "standoff": 15
           },
           "zeroline": false,
           "zerolinecolor": "rgb(36,36,36)"
          },
          "yaxis": {
           "automargin": true,
           "gridcolor": "rgb(232,232,232)",
           "linecolor": "rgb(36,36,36)",
           "showgrid": false,
           "showline": true,
           "ticks": "outside",
           "title": {
            "standoff": 15
           },
           "zeroline": false,
           "zerolinecolor": "rgb(36,36,36)"
          }
         }
        },
        "title": {
         "text": "Buisness Intelligence Polling - Candidate Favourability (18-29 Age Group)"
        },
        "xaxis": {
         "title": {
          "text": "Date"
         }
        },
        "yaxis": {
         "range": [
          0,
          0.6
         ],
         "tickformat": ",.0%",
         "title": {
          "text": "Polling Average"
         }
        }
       }
      },
      "text/html": [
       "<div>\n",
       "        \n",
       "        \n",
       "            <div id=\"1836e115-a850-4c12-90e9-8467d216279f\" class=\"plotly-graph-div\" style=\"height:525px; width:100%;\"></div>\n",
       "            <script type=\"text/javascript\">\n",
       "                require([\"plotly\"], function(Plotly) {\n",
       "                    window.PLOTLYENV=window.PLOTLYENV || {};\n",
       "                    \n",
       "                if (document.getElementById(\"1836e115-a850-4c12-90e9-8467d216279f\")) {\n",
       "                    Plotly.newPlot(\n",
       "                        '1836e115-a850-4c12-90e9-8467d216279f',\n",
       "                        [{\"line\": {\"color\": \"#636EFA\", \"shape\": \"spline\"}, \"mode\": \"lines\", \"name\": \"Joseph R. Biden Jr.\", \"type\": \"scatter\", \"x\": [\"2019-01-31T00:00:00\", \"2019-02-28T00:00:00\", \"2019-03-31T00:00:00\", \"2019-04-30T00:00:00\", \"2019-05-31T00:00:00\", \"2019-06-30T00:00:00\", \"2019-07-31T00:00:00\", \"2019-08-31T00:00:00\", \"2019-09-30T00:00:00\", \"2019-10-31T00:00:00\", \"2019-11-30T00:00:00\", \"2019-12-31T00:00:00\", \"2020-01-31T00:00:00\", \"2020-02-29T00:00:00\", \"2020-03-31T00:00:00\"], \"y\": [0.26342710997442453, 0.2702970297029703, 0.2787958115183246, 0.2396351575456053, 0.22526817640047675, 0.23087071240105542, 0.21328671328671328, 0.19055287171229202, 0.1682727946627131, 0.1836734693877551, 0.1805993690851735, 0.18830675778283978, 0.18356164383561643, 0.1620016963528414, 0.3395638629283489]}, {\"line\": {\"color\": \"#EF553B\", \"shape\": \"spline\"}, \"mode\": \"lines\", \"name\": \"Bernard Sanders\", \"type\": \"scatter\", \"x\": [\"2019-01-31T00:00:00\", \"2019-02-28T00:00:00\", \"2019-03-31T00:00:00\", \"2019-04-30T00:00:00\", \"2019-05-31T00:00:00\", \"2019-06-30T00:00:00\", \"2019-07-31T00:00:00\", \"2019-08-31T00:00:00\", \"2019-09-30T00:00:00\", \"2019-10-31T00:00:00\", \"2019-11-30T00:00:00\", \"2019-12-31T00:00:00\", \"2020-01-31T00:00:00\", \"2020-02-29T00:00:00\", \"2020-03-31T00:00:00\"], \"y\": [0.31202046035805625, 0.31683168316831684, 0.3036649214659686, 0.3043117744610282, 0.2800953516090584, 0.27506596306068604, 0.2773892773892774, 0.3070316693505099, 0.2727946627131208, 0.2819349962207105, 0.2744479495268139, 0.2900531511009871, 0.2924657534246575, 0.3672603901611535, 0.573208722741433]}, {\"line\": {\"color\": \"#00CC96\", \"shape\": \"spline\"}, \"mode\": \"lines\", \"name\": \"Amy Klobuchar\", \"type\": \"scatter\", \"x\": [\"2019-01-31T00:00:00\", \"2019-02-28T00:00:00\", \"2019-03-31T00:00:00\", \"2019-04-30T00:00:00\", \"2019-05-31T00:00:00\", \"2019-06-30T00:00:00\", \"2019-07-31T00:00:00\", \"2019-08-31T00:00:00\", \"2019-09-30T00:00:00\", \"2019-10-31T00:00:00\", \"2019-11-30T00:00:00\", \"2019-12-31T00:00:00\", \"2020-01-31T00:00:00\", \"2020-02-29T00:00:00\", \"2020-03-31T00:00:00\"], \"y\": [0.020460358056265986, 0.02574257425742574, 0.032722513089005235, 0.026533996683250415, 0.023837902264600714, 0.023746701846965697, 0.02097902097902098, 0.01932367149758454, 0.026686434395848776, 0.025699168556311415, 0.02050473186119874, 0.022779043280182234, 0.03287671232876712, 0.04240882103477523, 0.0]}, {\"line\": {\"color\": \"#AB63FA\", \"shape\": \"spline\"}, \"mode\": \"lines\", \"name\": \"Elizabeth Warren\", \"type\": \"scatter\", \"x\": [\"2019-01-31T00:00:00\", \"2019-02-28T00:00:00\", \"2019-03-31T00:00:00\", \"2019-04-30T00:00:00\", \"2019-05-31T00:00:00\", \"2019-06-30T00:00:00\", \"2019-07-31T00:00:00\", \"2019-08-31T00:00:00\", \"2019-09-30T00:00:00\", \"2019-10-31T00:00:00\", \"2019-11-30T00:00:00\", \"2019-12-31T00:00:00\", \"2020-01-31T00:00:00\", \"2020-02-29T00:00:00\", \"2020-03-31T00:00:00\"], \"y\": [0.07672634271099744, 0.10891089108910891, 0.1243455497382199, 0.1044776119402985, 0.13230035756853398, 0.1312664907651715, 0.1561771561771562, 0.16586151368760063, 0.16160118606375093, 0.17913832199546487, 0.17429022082018927, 0.16856492027334852, 0.16095890410958905, 0.18405428329092452, 0.0]}, {\"line\": {\"color\": \"#FFA15A\", \"shape\": \"spline\"}, \"mode\": \"lines\", \"name\": \"Pete Buttigieg\", \"type\": \"scatter\", \"x\": [\"2019-01-31T00:00:00\", \"2019-02-28T00:00:00\", \"2019-03-31T00:00:00\", \"2019-04-30T00:00:00\", \"2019-05-31T00:00:00\", \"2019-06-30T00:00:00\", \"2019-07-31T00:00:00\", \"2019-08-31T00:00:00\", \"2019-09-30T00:00:00\", \"2019-10-31T00:00:00\", \"2019-11-30T00:00:00\", \"2019-12-31T00:00:00\", \"2020-01-31T00:00:00\", \"2020-02-29T00:00:00\", \"2020-03-31T00:00:00\"], \"y\": [0.01278772378516624, 0.009900990099009901, 0.02225130890052356, 0.0505804311774461, 0.06197854588796186, 0.052110817941952506, 0.06643356643356643, 0.06763285024154589, 0.05930318754633061, 0.05895691609977324, 0.06782334384858044, 0.05618830675778284, 0.06712328767123288, 0.08736217133163698, 0.0]}, {\"line\": {\"color\": \"#19D3F3\", \"shape\": \"spline\"}, \"mode\": \"lines\", \"name\": \"Andrew Yang\", \"type\": \"scatter\", \"x\": [\"2019-01-31T00:00:00\", \"2019-02-28T00:00:00\", \"2019-03-31T00:00:00\", \"2019-04-30T00:00:00\", \"2019-05-31T00:00:00\", \"2019-06-30T00:00:00\", \"2019-07-31T00:00:00\", \"2019-08-31T00:00:00\", \"2019-09-30T00:00:00\", \"2019-10-31T00:00:00\", \"2019-11-30T00:00:00\", \"2019-12-31T00:00:00\", \"2020-01-31T00:00:00\", \"2020-02-29T00:00:00\", \"2020-03-31T00:00:00\"], \"y\": [0.0, 0.0, 0.028795811518324606, 0.0472636815920398, 0.060786650774731825, 0.06992084432717678, 0.0675990675990676, 0.08856682769726248, 0.13269088213491476, 0.13907785336356765, 0.14826498422712933, 0.14958238420653, 0.15205479452054796, 0.041560644614079725, 0.0]}],\n",
       "                        {\"template\": {\"data\": {\"bar\": [{\"error_x\": {\"color\": \"rgb(36,36,36)\"}, \"error_y\": {\"color\": \"rgb(36,36,36)\"}, \"marker\": {\"line\": {\"color\": \"white\", \"width\": 0.5}}, \"type\": \"bar\"}], \"barpolar\": [{\"marker\": {\"line\": {\"color\": \"white\", \"width\": 0.5}}, \"type\": \"barpolar\"}], \"carpet\": [{\"aaxis\": {\"endlinecolor\": \"rgb(36,36,36)\", \"gridcolor\": \"white\", \"linecolor\": \"white\", \"minorgridcolor\": \"white\", \"startlinecolor\": \"rgb(36,36,36)\"}, \"baxis\": {\"endlinecolor\": \"rgb(36,36,36)\", \"gridcolor\": \"white\", \"linecolor\": \"white\", \"minorgridcolor\": \"white\", \"startlinecolor\": \"rgb(36,36,36)\"}, \"type\": \"carpet\"}], \"choropleth\": [{\"colorbar\": {\"outlinewidth\": 1, \"tickcolor\": \"rgb(36,36,36)\", \"ticks\": \"outside\"}, \"type\": \"choropleth\"}], \"contour\": [{\"colorbar\": {\"outlinewidth\": 1, \"tickcolor\": \"rgb(36,36,36)\", \"ticks\": \"outside\"}, \"colorscale\": [[0.0, \"#440154\"], [0.1111111111111111, \"#482878\"], [0.2222222222222222, \"#3e4989\"], [0.3333333333333333, \"#31688e\"], [0.4444444444444444, \"#26828e\"], [0.5555555555555556, \"#1f9e89\"], [0.6666666666666666, \"#35b779\"], [0.7777777777777778, \"#6ece58\"], [0.8888888888888888, \"#b5de2b\"], [1.0, \"#fde725\"]], \"type\": \"contour\"}], \"contourcarpet\": [{\"colorbar\": {\"outlinewidth\": 1, \"tickcolor\": \"rgb(36,36,36)\", \"ticks\": \"outside\"}, \"type\": \"contourcarpet\"}], \"heatmap\": [{\"colorbar\": {\"outlinewidth\": 1, \"tickcolor\": \"rgb(36,36,36)\", \"ticks\": \"outside\"}, \"colorscale\": [[0.0, \"#440154\"], [0.1111111111111111, \"#482878\"], [0.2222222222222222, \"#3e4989\"], [0.3333333333333333, \"#31688e\"], [0.4444444444444444, \"#26828e\"], [0.5555555555555556, \"#1f9e89\"], [0.6666666666666666, \"#35b779\"], [0.7777777777777778, \"#6ece58\"], [0.8888888888888888, \"#b5de2b\"], [1.0, \"#fde725\"]], \"type\": \"heatmap\"}], \"heatmapgl\": [{\"colorbar\": {\"outlinewidth\": 1, \"tickcolor\": \"rgb(36,36,36)\", \"ticks\": \"outside\"}, \"colorscale\": [[0.0, \"#440154\"], [0.1111111111111111, \"#482878\"], [0.2222222222222222, \"#3e4989\"], [0.3333333333333333, \"#31688e\"], [0.4444444444444444, \"#26828e\"], [0.5555555555555556, \"#1f9e89\"], [0.6666666666666666, \"#35b779\"], [0.7777777777777778, \"#6ece58\"], [0.8888888888888888, \"#b5de2b\"], [1.0, \"#fde725\"]], \"type\": \"heatmapgl\"}], \"histogram\": [{\"marker\": {\"line\": {\"color\": \"white\", \"width\": 0.6}}, \"type\": \"histogram\"}], \"histogram2d\": [{\"colorbar\": {\"outlinewidth\": 1, \"tickcolor\": \"rgb(36,36,36)\", \"ticks\": \"outside\"}, \"colorscale\": [[0.0, \"#440154\"], [0.1111111111111111, \"#482878\"], [0.2222222222222222, \"#3e4989\"], [0.3333333333333333, \"#31688e\"], [0.4444444444444444, \"#26828e\"], [0.5555555555555556, \"#1f9e89\"], [0.6666666666666666, \"#35b779\"], [0.7777777777777778, \"#6ece58\"], [0.8888888888888888, \"#b5de2b\"], [1.0, \"#fde725\"]], \"type\": \"histogram2d\"}], \"histogram2dcontour\": [{\"colorbar\": {\"outlinewidth\": 1, \"tickcolor\": \"rgb(36,36,36)\", \"ticks\": \"outside\"}, \"colorscale\": [[0.0, \"#440154\"], [0.1111111111111111, \"#482878\"], [0.2222222222222222, \"#3e4989\"], [0.3333333333333333, \"#31688e\"], [0.4444444444444444, \"#26828e\"], [0.5555555555555556, \"#1f9e89\"], [0.6666666666666666, \"#35b779\"], [0.7777777777777778, \"#6ece58\"], [0.8888888888888888, \"#b5de2b\"], [1.0, \"#fde725\"]], \"type\": \"histogram2dcontour\"}], \"mesh3d\": [{\"colorbar\": {\"outlinewidth\": 1, \"tickcolor\": \"rgb(36,36,36)\", \"ticks\": \"outside\"}, \"type\": \"mesh3d\"}], \"parcoords\": [{\"line\": {\"colorbar\": {\"outlinewidth\": 1, \"tickcolor\": \"rgb(36,36,36)\", \"ticks\": \"outside\"}}, \"type\": \"parcoords\"}], \"pie\": [{\"automargin\": true, \"type\": \"pie\"}], \"scatter\": [{\"marker\": {\"colorbar\": {\"outlinewidth\": 1, \"tickcolor\": \"rgb(36,36,36)\", \"ticks\": \"outside\"}}, \"type\": \"scatter\"}], \"scatter3d\": [{\"line\": {\"colorbar\": {\"outlinewidth\": 1, \"tickcolor\": \"rgb(36,36,36)\", \"ticks\": \"outside\"}}, \"marker\": {\"colorbar\": {\"outlinewidth\": 1, \"tickcolor\": \"rgb(36,36,36)\", \"ticks\": \"outside\"}}, \"type\": \"scatter3d\"}], \"scattercarpet\": [{\"marker\": {\"colorbar\": {\"outlinewidth\": 1, \"tickcolor\": \"rgb(36,36,36)\", \"ticks\": \"outside\"}}, \"type\": \"scattercarpet\"}], \"scattergeo\": [{\"marker\": {\"colorbar\": {\"outlinewidth\": 1, \"tickcolor\": \"rgb(36,36,36)\", \"ticks\": \"outside\"}}, \"type\": \"scattergeo\"}], \"scattergl\": [{\"marker\": {\"colorbar\": {\"outlinewidth\": 1, \"tickcolor\": \"rgb(36,36,36)\", \"ticks\": \"outside\"}}, \"type\": \"scattergl\"}], \"scattermapbox\": [{\"marker\": {\"colorbar\": {\"outlinewidth\": 1, \"tickcolor\": \"rgb(36,36,36)\", \"ticks\": \"outside\"}}, \"type\": \"scattermapbox\"}], \"scatterpolar\": [{\"marker\": {\"colorbar\": {\"outlinewidth\": 1, \"tickcolor\": \"rgb(36,36,36)\", \"ticks\": \"outside\"}}, \"type\": \"scatterpolar\"}], \"scatterpolargl\": [{\"marker\": {\"colorbar\": {\"outlinewidth\": 1, \"tickcolor\": \"rgb(36,36,36)\", \"ticks\": \"outside\"}}, \"type\": \"scatterpolargl\"}], \"scatterternary\": [{\"marker\": {\"colorbar\": {\"outlinewidth\": 1, \"tickcolor\": \"rgb(36,36,36)\", \"ticks\": \"outside\"}}, \"type\": \"scatterternary\"}], \"surface\": [{\"colorbar\": {\"outlinewidth\": 1, \"tickcolor\": \"rgb(36,36,36)\", \"ticks\": \"outside\"}, \"colorscale\": [[0.0, \"#440154\"], [0.1111111111111111, \"#482878\"], [0.2222222222222222, \"#3e4989\"], [0.3333333333333333, \"#31688e\"], [0.4444444444444444, \"#26828e\"], [0.5555555555555556, \"#1f9e89\"], [0.6666666666666666, \"#35b779\"], [0.7777777777777778, \"#6ece58\"], [0.8888888888888888, \"#b5de2b\"], [1.0, \"#fde725\"]], \"type\": \"surface\"}], \"table\": [{\"cells\": {\"fill\": {\"color\": \"rgb(237,237,237)\"}, \"line\": {\"color\": \"white\"}}, \"header\": {\"fill\": {\"color\": \"rgb(217,217,217)\"}, \"line\": {\"color\": \"white\"}}, \"type\": \"table\"}]}, \"layout\": {\"annotationdefaults\": {\"arrowhead\": 0, \"arrowwidth\": 1}, \"coloraxis\": {\"colorbar\": {\"outlinewidth\": 1, \"tickcolor\": \"rgb(36,36,36)\", \"ticks\": \"outside\"}}, \"colorscale\": {\"diverging\": [[0.0, \"rgb(103,0,31)\"], [0.1, \"rgb(178,24,43)\"], [0.2, \"rgb(214,96,77)\"], [0.3, \"rgb(244,165,130)\"], [0.4, \"rgb(253,219,199)\"], [0.5, \"rgb(247,247,247)\"], [0.6, \"rgb(209,229,240)\"], [0.7, \"rgb(146,197,222)\"], [0.8, \"rgb(67,147,195)\"], [0.9, \"rgb(33,102,172)\"], [1.0, \"rgb(5,48,97)\"]], \"sequential\": [[0.0, \"#440154\"], [0.1111111111111111, \"#482878\"], [0.2222222222222222, \"#3e4989\"], [0.3333333333333333, \"#31688e\"], [0.4444444444444444, \"#26828e\"], [0.5555555555555556, \"#1f9e89\"], [0.6666666666666666, \"#35b779\"], [0.7777777777777778, \"#6ece58\"], [0.8888888888888888, \"#b5de2b\"], [1.0, \"#fde725\"]], \"sequentialminus\": [[0.0, \"#440154\"], [0.1111111111111111, \"#482878\"], [0.2222222222222222, \"#3e4989\"], [0.3333333333333333, \"#31688e\"], [0.4444444444444444, \"#26828e\"], [0.5555555555555556, \"#1f9e89\"], [0.6666666666666666, \"#35b779\"], [0.7777777777777778, \"#6ece58\"], [0.8888888888888888, \"#b5de2b\"], [1.0, \"#fde725\"]]}, \"colorway\": [\"#1F77B4\", \"#FF7F0E\", \"#2CA02C\", \"#D62728\", \"#9467BD\", \"#8C564B\", \"#E377C2\", \"#7F7F7F\", \"#BCBD22\", \"#17BECF\"], \"font\": {\"color\": \"rgb(36,36,36)\"}, \"geo\": {\"bgcolor\": \"white\", \"lakecolor\": \"white\", \"landcolor\": \"white\", \"showlakes\": true, \"showland\": true, \"subunitcolor\": \"white\"}, \"hoverlabel\": {\"align\": \"left\"}, \"hovermode\": \"closest\", \"mapbox\": {\"style\": \"light\"}, \"paper_bgcolor\": \"white\", \"plot_bgcolor\": \"white\", \"polar\": {\"angularaxis\": {\"gridcolor\": \"rgb(232,232,232)\", \"linecolor\": \"rgb(36,36,36)\", \"showgrid\": false, \"showline\": true, \"ticks\": \"outside\"}, \"bgcolor\": \"white\", \"radialaxis\": {\"gridcolor\": \"rgb(232,232,232)\", \"linecolor\": \"rgb(36,36,36)\", \"showgrid\": false, \"showline\": true, \"ticks\": \"outside\"}}, \"scene\": {\"xaxis\": {\"backgroundcolor\": \"white\", \"gridcolor\": \"rgb(232,232,232)\", \"gridwidth\": 2, \"linecolor\": \"rgb(36,36,36)\", \"showbackground\": true, \"showgrid\": false, \"showline\": true, \"ticks\": \"outside\", \"zeroline\": false, \"zerolinecolor\": \"rgb(36,36,36)\"}, \"yaxis\": {\"backgroundcolor\": \"white\", \"gridcolor\": \"rgb(232,232,232)\", \"gridwidth\": 2, \"linecolor\": \"rgb(36,36,36)\", \"showbackground\": true, \"showgrid\": false, \"showline\": true, \"ticks\": \"outside\", \"zeroline\": false, \"zerolinecolor\": \"rgb(36,36,36)\"}, \"zaxis\": {\"backgroundcolor\": \"white\", \"gridcolor\": \"rgb(232,232,232)\", \"gridwidth\": 2, \"linecolor\": \"rgb(36,36,36)\", \"showbackground\": true, \"showgrid\": false, \"showline\": true, \"ticks\": \"outside\", \"zeroline\": false, \"zerolinecolor\": \"rgb(36,36,36)\"}}, \"shapedefaults\": {\"fillcolor\": \"black\", \"line\": {\"width\": 0}, \"opacity\": 0.3}, \"ternary\": {\"aaxis\": {\"gridcolor\": \"rgb(232,232,232)\", \"linecolor\": \"rgb(36,36,36)\", \"showgrid\": false, \"showline\": true, \"ticks\": \"outside\"}, \"baxis\": {\"gridcolor\": \"rgb(232,232,232)\", \"linecolor\": \"rgb(36,36,36)\", \"showgrid\": false, \"showline\": true, \"ticks\": \"outside\"}, \"bgcolor\": \"white\", \"caxis\": {\"gridcolor\": \"rgb(232,232,232)\", \"linecolor\": \"rgb(36,36,36)\", \"showgrid\": false, \"showline\": true, \"ticks\": \"outside\"}}, \"title\": {\"x\": 0.05}, \"xaxis\": {\"automargin\": true, \"gridcolor\": \"rgb(232,232,232)\", \"linecolor\": \"rgb(36,36,36)\", \"showgrid\": false, \"showline\": true, \"ticks\": \"outside\", \"title\": {\"standoff\": 15}, \"zeroline\": false, \"zerolinecolor\": \"rgb(36,36,36)\"}, \"yaxis\": {\"automargin\": true, \"gridcolor\": \"rgb(232,232,232)\", \"linecolor\": \"rgb(36,36,36)\", \"showgrid\": false, \"showline\": true, \"ticks\": \"outside\", \"title\": {\"standoff\": 15}, \"zeroline\": false, \"zerolinecolor\": \"rgb(36,36,36)\"}}}, \"title\": {\"text\": \"Buisness Intelligence Polling - Candidate Favourability (18-29 Age Group)\"}, \"xaxis\": {\"title\": {\"text\": \"Date\"}}, \"yaxis\": {\"range\": [0, 0.6], \"tickformat\": \",.0%\", \"title\": {\"text\": \"Polling Average\"}}},\n",
       "                        {\"responsive\": true}\n",
       "                    ).then(function(){\n",
       "                            \n",
       "var gd = document.getElementById('1836e115-a850-4c12-90e9-8467d216279f');\n",
       "var x = new MutationObserver(function (mutations, observer) {{\n",
       "        var display = window.getComputedStyle(gd).display;\n",
       "        if (!display || display === 'none') {{\n",
       "            console.log([gd, 'removed!']);\n",
       "            Plotly.purge(gd);\n",
       "            observer.disconnect();\n",
       "        }}\n",
       "}});\n",
       "\n",
       "// Listen for the removal of the full notebook cells\n",
       "var notebookContainer = gd.closest('#notebook-container');\n",
       "if (notebookContainer) {{\n",
       "    x.observe(notebookContainer, {childList: true});\n",
       "}}\n",
       "\n",
       "// Listen for the clearing of the current output cell\n",
       "var outputEl = gd.closest('.output');\n",
       "if (outputEl) {{\n",
       "    x.observe(outputEl, {childList: true});\n",
       "}}\n",
       "\n",
       "                        })\n",
       "                };\n",
       "                });\n",
       "            </script>\n",
       "        </div>"
      ]
     },
     "metadata": {},
     "output_type": "display_data"
    }
   ],
   "source": [
    "fig = go.Figure()\n",
    "for cand,col in zip(pretty_names,concat_col_names):\n",
    "    fig.add_trace(go.Scatter(x=polling_agg[\"date\"],\n",
    "                             y=polling_agg[col], \n",
    "                             mode='lines',\n",
    "                             line_shape=\"spline\",\n",
    "                             name=cand,\n",
    "                             line=dict(color=poll_mapping[cand])\n",
    "                            ))\n",
    "\n",
    "    # Add figure title\n",
    "fig.update_layout(\n",
    "    title_text=\"Buisness Intelligence Polling - Candidate Favourability (18-29 Age Group)\",\n",
    "    template=\"simple_white\",\n",
    "    yaxis=dict(tickformat=',.0%',range=[0,0.6])\n",
    "\n",
    ")\n",
    "\n",
    "fig.update_xaxes(title_text=\"Date\")\n",
    "fig.update_yaxes(title_text=\"Polling Average\")\n",
    "\n",
    "fig.write_html(\"visualizations/BI_polling_average-YOUNG.html\")\n",
    "fig.show()"
   ]
  },
  {
   "cell_type": "markdown",
   "metadata": {},
   "source": [
    "### Poller Age Distribution"
   ]
  },
  {
   "cell_type": "code",
   "execution_count": 74,
   "metadata": {},
   "outputs": [
    {
     "data": {
      "application/vnd.plotly.v1+json": {
       "config": {
        "plotlyServerURL": "https://plot.ly"
       },
       "data": [
        {
         "domain": {
          "x": [
           0,
           1
          ],
          "y": [
           0,
           1
          ]
         },
         "hovertemplate": "age=%{label}<br>0=%{value}<extra></extra>",
         "labels": [
          "18-29",
          "30-44",
          "45-60",
          "> 60"
         ],
         "legendgroup": "",
         "name": "",
         "showlegend": true,
         "textinfo": "percent+label",
         "textposition": "inside",
         "type": "pie",
         "values": [
          11101,
          8091,
          13392,
          6606
         ]
        }
       ],
       "layout": {
        "legend": {
         "tracegroupgap": 0
        },
        "template": {
         "data": {
          "bar": [
           {
            "error_x": {
             "color": "#2a3f5f"
            },
            "error_y": {
             "color": "#2a3f5f"
            },
            "marker": {
             "line": {
              "color": "#E5ECF6",
              "width": 0.5
             }
            },
            "type": "bar"
           }
          ],
          "barpolar": [
           {
            "marker": {
             "line": {
              "color": "#E5ECF6",
              "width": 0.5
             }
            },
            "type": "barpolar"
           }
          ],
          "carpet": [
           {
            "aaxis": {
             "endlinecolor": "#2a3f5f",
             "gridcolor": "white",
             "linecolor": "white",
             "minorgridcolor": "white",
             "startlinecolor": "#2a3f5f"
            },
            "baxis": {
             "endlinecolor": "#2a3f5f",
             "gridcolor": "white",
             "linecolor": "white",
             "minorgridcolor": "white",
             "startlinecolor": "#2a3f5f"
            },
            "type": "carpet"
           }
          ],
          "choropleth": [
           {
            "colorbar": {
             "outlinewidth": 0,
             "ticks": ""
            },
            "type": "choropleth"
           }
          ],
          "contour": [
           {
            "colorbar": {
             "outlinewidth": 0,
             "ticks": ""
            },
            "colorscale": [
             [
              0,
              "#0d0887"
             ],
             [
              0.1111111111111111,
              "#46039f"
             ],
             [
              0.2222222222222222,
              "#7201a8"
             ],
             [
              0.3333333333333333,
              "#9c179e"
             ],
             [
              0.4444444444444444,
              "#bd3786"
             ],
             [
              0.5555555555555556,
              "#d8576b"
             ],
             [
              0.6666666666666666,
              "#ed7953"
             ],
             [
              0.7777777777777778,
              "#fb9f3a"
             ],
             [
              0.8888888888888888,
              "#fdca26"
             ],
             [
              1,
              "#f0f921"
             ]
            ],
            "type": "contour"
           }
          ],
          "contourcarpet": [
           {
            "colorbar": {
             "outlinewidth": 0,
             "ticks": ""
            },
            "type": "contourcarpet"
           }
          ],
          "heatmap": [
           {
            "colorbar": {
             "outlinewidth": 0,
             "ticks": ""
            },
            "colorscale": [
             [
              0,
              "#0d0887"
             ],
             [
              0.1111111111111111,
              "#46039f"
             ],
             [
              0.2222222222222222,
              "#7201a8"
             ],
             [
              0.3333333333333333,
              "#9c179e"
             ],
             [
              0.4444444444444444,
              "#bd3786"
             ],
             [
              0.5555555555555556,
              "#d8576b"
             ],
             [
              0.6666666666666666,
              "#ed7953"
             ],
             [
              0.7777777777777778,
              "#fb9f3a"
             ],
             [
              0.8888888888888888,
              "#fdca26"
             ],
             [
              1,
              "#f0f921"
             ]
            ],
            "type": "heatmap"
           }
          ],
          "heatmapgl": [
           {
            "colorbar": {
             "outlinewidth": 0,
             "ticks": ""
            },
            "colorscale": [
             [
              0,
              "#0d0887"
             ],
             [
              0.1111111111111111,
              "#46039f"
             ],
             [
              0.2222222222222222,
              "#7201a8"
             ],
             [
              0.3333333333333333,
              "#9c179e"
             ],
             [
              0.4444444444444444,
              "#bd3786"
             ],
             [
              0.5555555555555556,
              "#d8576b"
             ],
             [
              0.6666666666666666,
              "#ed7953"
             ],
             [
              0.7777777777777778,
              "#fb9f3a"
             ],
             [
              0.8888888888888888,
              "#fdca26"
             ],
             [
              1,
              "#f0f921"
             ]
            ],
            "type": "heatmapgl"
           }
          ],
          "histogram": [
           {
            "marker": {
             "colorbar": {
              "outlinewidth": 0,
              "ticks": ""
             }
            },
            "type": "histogram"
           }
          ],
          "histogram2d": [
           {
            "colorbar": {
             "outlinewidth": 0,
             "ticks": ""
            },
            "colorscale": [
             [
              0,
              "#0d0887"
             ],
             [
              0.1111111111111111,
              "#46039f"
             ],
             [
              0.2222222222222222,
              "#7201a8"
             ],
             [
              0.3333333333333333,
              "#9c179e"
             ],
             [
              0.4444444444444444,
              "#bd3786"
             ],
             [
              0.5555555555555556,
              "#d8576b"
             ],
             [
              0.6666666666666666,
              "#ed7953"
             ],
             [
              0.7777777777777778,
              "#fb9f3a"
             ],
             [
              0.8888888888888888,
              "#fdca26"
             ],
             [
              1,
              "#f0f921"
             ]
            ],
            "type": "histogram2d"
           }
          ],
          "histogram2dcontour": [
           {
            "colorbar": {
             "outlinewidth": 0,
             "ticks": ""
            },
            "colorscale": [
             [
              0,
              "#0d0887"
             ],
             [
              0.1111111111111111,
              "#46039f"
             ],
             [
              0.2222222222222222,
              "#7201a8"
             ],
             [
              0.3333333333333333,
              "#9c179e"
             ],
             [
              0.4444444444444444,
              "#bd3786"
             ],
             [
              0.5555555555555556,
              "#d8576b"
             ],
             [
              0.6666666666666666,
              "#ed7953"
             ],
             [
              0.7777777777777778,
              "#fb9f3a"
             ],
             [
              0.8888888888888888,
              "#fdca26"
             ],
             [
              1,
              "#f0f921"
             ]
            ],
            "type": "histogram2dcontour"
           }
          ],
          "mesh3d": [
           {
            "colorbar": {
             "outlinewidth": 0,
             "ticks": ""
            },
            "type": "mesh3d"
           }
          ],
          "parcoords": [
           {
            "line": {
             "colorbar": {
              "outlinewidth": 0,
              "ticks": ""
             }
            },
            "type": "parcoords"
           }
          ],
          "pie": [
           {
            "automargin": true,
            "type": "pie"
           }
          ],
          "scatter": [
           {
            "marker": {
             "colorbar": {
              "outlinewidth": 0,
              "ticks": ""
             }
            },
            "type": "scatter"
           }
          ],
          "scatter3d": [
           {
            "line": {
             "colorbar": {
              "outlinewidth": 0,
              "ticks": ""
             }
            },
            "marker": {
             "colorbar": {
              "outlinewidth": 0,
              "ticks": ""
             }
            },
            "type": "scatter3d"
           }
          ],
          "scattercarpet": [
           {
            "marker": {
             "colorbar": {
              "outlinewidth": 0,
              "ticks": ""
             }
            },
            "type": "scattercarpet"
           }
          ],
          "scattergeo": [
           {
            "marker": {
             "colorbar": {
              "outlinewidth": 0,
              "ticks": ""
             }
            },
            "type": "scattergeo"
           }
          ],
          "scattergl": [
           {
            "marker": {
             "colorbar": {
              "outlinewidth": 0,
              "ticks": ""
             }
            },
            "type": "scattergl"
           }
          ],
          "scattermapbox": [
           {
            "marker": {
             "colorbar": {
              "outlinewidth": 0,
              "ticks": ""
             }
            },
            "type": "scattermapbox"
           }
          ],
          "scatterpolar": [
           {
            "marker": {
             "colorbar": {
              "outlinewidth": 0,
              "ticks": ""
             }
            },
            "type": "scatterpolar"
           }
          ],
          "scatterpolargl": [
           {
            "marker": {
             "colorbar": {
              "outlinewidth": 0,
              "ticks": ""
             }
            },
            "type": "scatterpolargl"
           }
          ],
          "scatterternary": [
           {
            "marker": {
             "colorbar": {
              "outlinewidth": 0,
              "ticks": ""
             }
            },
            "type": "scatterternary"
           }
          ],
          "surface": [
           {
            "colorbar": {
             "outlinewidth": 0,
             "ticks": ""
            },
            "colorscale": [
             [
              0,
              "#0d0887"
             ],
             [
              0.1111111111111111,
              "#46039f"
             ],
             [
              0.2222222222222222,
              "#7201a8"
             ],
             [
              0.3333333333333333,
              "#9c179e"
             ],
             [
              0.4444444444444444,
              "#bd3786"
             ],
             [
              0.5555555555555556,
              "#d8576b"
             ],
             [
              0.6666666666666666,
              "#ed7953"
             ],
             [
              0.7777777777777778,
              "#fb9f3a"
             ],
             [
              0.8888888888888888,
              "#fdca26"
             ],
             [
              1,
              "#f0f921"
             ]
            ],
            "type": "surface"
           }
          ],
          "table": [
           {
            "cells": {
             "fill": {
              "color": "#EBF0F8"
             },
             "line": {
              "color": "white"
             }
            },
            "header": {
             "fill": {
              "color": "#C8D4E3"
             },
             "line": {
              "color": "white"
             }
            },
            "type": "table"
           }
          ]
         },
         "layout": {
          "annotationdefaults": {
           "arrowcolor": "#2a3f5f",
           "arrowhead": 0,
           "arrowwidth": 1
          },
          "coloraxis": {
           "colorbar": {
            "outlinewidth": 0,
            "ticks": ""
           }
          },
          "colorscale": {
           "diverging": [
            [
             0,
             "#8e0152"
            ],
            [
             0.1,
             "#c51b7d"
            ],
            [
             0.2,
             "#de77ae"
            ],
            [
             0.3,
             "#f1b6da"
            ],
            [
             0.4,
             "#fde0ef"
            ],
            [
             0.5,
             "#f7f7f7"
            ],
            [
             0.6,
             "#e6f5d0"
            ],
            [
             0.7,
             "#b8e186"
            ],
            [
             0.8,
             "#7fbc41"
            ],
            [
             0.9,
             "#4d9221"
            ],
            [
             1,
             "#276419"
            ]
           ],
           "sequential": [
            [
             0,
             "#0d0887"
            ],
            [
             0.1111111111111111,
             "#46039f"
            ],
            [
             0.2222222222222222,
             "#7201a8"
            ],
            [
             0.3333333333333333,
             "#9c179e"
            ],
            [
             0.4444444444444444,
             "#bd3786"
            ],
            [
             0.5555555555555556,
             "#d8576b"
            ],
            [
             0.6666666666666666,
             "#ed7953"
            ],
            [
             0.7777777777777778,
             "#fb9f3a"
            ],
            [
             0.8888888888888888,
             "#fdca26"
            ],
            [
             1,
             "#f0f921"
            ]
           ],
           "sequentialminus": [
            [
             0,
             "#0d0887"
            ],
            [
             0.1111111111111111,
             "#46039f"
            ],
            [
             0.2222222222222222,
             "#7201a8"
            ],
            [
             0.3333333333333333,
             "#9c179e"
            ],
            [
             0.4444444444444444,
             "#bd3786"
            ],
            [
             0.5555555555555556,
             "#d8576b"
            ],
            [
             0.6666666666666666,
             "#ed7953"
            ],
            [
             0.7777777777777778,
             "#fb9f3a"
            ],
            [
             0.8888888888888888,
             "#fdca26"
            ],
            [
             1,
             "#f0f921"
            ]
           ]
          },
          "colorway": [
           "#636efa",
           "#EF553B",
           "#00cc96",
           "#ab63fa",
           "#FFA15A",
           "#19d3f3",
           "#FF6692",
           "#B6E880",
           "#FF97FF",
           "#FECB52"
          ],
          "font": {
           "color": "#2a3f5f"
          },
          "geo": {
           "bgcolor": "white",
           "lakecolor": "white",
           "landcolor": "#E5ECF6",
           "showlakes": true,
           "showland": true,
           "subunitcolor": "white"
          },
          "hoverlabel": {
           "align": "left"
          },
          "hovermode": "closest",
          "mapbox": {
           "style": "light"
          },
          "paper_bgcolor": "white",
          "plot_bgcolor": "#E5ECF6",
          "polar": {
           "angularaxis": {
            "gridcolor": "white",
            "linecolor": "white",
            "ticks": ""
           },
           "bgcolor": "#E5ECF6",
           "radialaxis": {
            "gridcolor": "white",
            "linecolor": "white",
            "ticks": ""
           }
          },
          "scene": {
           "xaxis": {
            "backgroundcolor": "#E5ECF6",
            "gridcolor": "white",
            "gridwidth": 2,
            "linecolor": "white",
            "showbackground": true,
            "ticks": "",
            "zerolinecolor": "white"
           },
           "yaxis": {
            "backgroundcolor": "#E5ECF6",
            "gridcolor": "white",
            "gridwidth": 2,
            "linecolor": "white",
            "showbackground": true,
            "ticks": "",
            "zerolinecolor": "white"
           },
           "zaxis": {
            "backgroundcolor": "#E5ECF6",
            "gridcolor": "white",
            "gridwidth": 2,
            "linecolor": "white",
            "showbackground": true,
            "ticks": "",
            "zerolinecolor": "white"
           }
          },
          "shapedefaults": {
           "line": {
            "color": "#2a3f5f"
           }
          },
          "ternary": {
           "aaxis": {
            "gridcolor": "white",
            "linecolor": "white",
            "ticks": ""
           },
           "baxis": {
            "gridcolor": "white",
            "linecolor": "white",
            "ticks": ""
           },
           "bgcolor": "#E5ECF6",
           "caxis": {
            "gridcolor": "white",
            "linecolor": "white",
            "ticks": ""
           }
          },
          "title": {
           "x": 0.05
          },
          "xaxis": {
           "automargin": true,
           "gridcolor": "white",
           "linecolor": "white",
           "ticks": "",
           "title": {
            "standoff": 15
           },
           "zerolinecolor": "white",
           "zerolinewidth": 2
          },
          "yaxis": {
           "automargin": true,
           "gridcolor": "white",
           "linecolor": "white",
           "ticks": "",
           "title": {
            "standoff": 15
           },
           "zerolinecolor": "white",
           "zerolinewidth": 2
          }
         }
        },
        "title": {
         "text": "Buisness Intelligence Poll Age Distribution"
        }
       }
      },
      "text/html": [
       "<div>\n",
       "        \n",
       "        \n",
       "            <div id=\"19d9f70f-6662-41b7-aab7-2f87a2f24ee6\" class=\"plotly-graph-div\" style=\"height:525px; width:100%;\"></div>\n",
       "            <script type=\"text/javascript\">\n",
       "                require([\"plotly\"], function(Plotly) {\n",
       "                    window.PLOTLYENV=window.PLOTLYENV || {};\n",
       "                    \n",
       "                if (document.getElementById(\"19d9f70f-6662-41b7-aab7-2f87a2f24ee6\")) {\n",
       "                    Plotly.newPlot(\n",
       "                        '19d9f70f-6662-41b7-aab7-2f87a2f24ee6',\n",
       "                        [{\"domain\": {\"x\": [0.0, 1.0], \"y\": [0.0, 1.0]}, \"hovertemplate\": \"age=%{label}<br>0=%{value}<extra></extra>\", \"labels\": [\"18-29\", \"30-44\", \"45-60\", \"> 60\"], \"legendgroup\": \"\", \"name\": \"\", \"showlegend\": true, \"textinfo\": \"percent+label\", \"textposition\": \"inside\", \"type\": \"pie\", \"values\": [11101, 8091, 13392, 6606]}],\n",
       "                        {\"legend\": {\"tracegroupgap\": 0}, \"template\": {\"data\": {\"bar\": [{\"error_x\": {\"color\": \"#2a3f5f\"}, \"error_y\": {\"color\": \"#2a3f5f\"}, \"marker\": {\"line\": {\"color\": \"#E5ECF6\", \"width\": 0.5}}, \"type\": \"bar\"}], \"barpolar\": [{\"marker\": {\"line\": {\"color\": \"#E5ECF6\", \"width\": 0.5}}, \"type\": \"barpolar\"}], \"carpet\": [{\"aaxis\": {\"endlinecolor\": \"#2a3f5f\", \"gridcolor\": \"white\", \"linecolor\": \"white\", \"minorgridcolor\": \"white\", \"startlinecolor\": \"#2a3f5f\"}, \"baxis\": {\"endlinecolor\": \"#2a3f5f\", \"gridcolor\": \"white\", \"linecolor\": \"white\", \"minorgridcolor\": \"white\", \"startlinecolor\": \"#2a3f5f\"}, \"type\": \"carpet\"}], \"choropleth\": [{\"colorbar\": {\"outlinewidth\": 0, \"ticks\": \"\"}, \"type\": \"choropleth\"}], \"contour\": [{\"colorbar\": {\"outlinewidth\": 0, \"ticks\": \"\"}, \"colorscale\": [[0.0, \"#0d0887\"], [0.1111111111111111, \"#46039f\"], [0.2222222222222222, \"#7201a8\"], [0.3333333333333333, \"#9c179e\"], [0.4444444444444444, \"#bd3786\"], [0.5555555555555556, \"#d8576b\"], [0.6666666666666666, \"#ed7953\"], [0.7777777777777778, \"#fb9f3a\"], [0.8888888888888888, \"#fdca26\"], [1.0, \"#f0f921\"]], \"type\": \"contour\"}], \"contourcarpet\": [{\"colorbar\": {\"outlinewidth\": 0, \"ticks\": \"\"}, \"type\": \"contourcarpet\"}], \"heatmap\": [{\"colorbar\": {\"outlinewidth\": 0, \"ticks\": \"\"}, \"colorscale\": [[0.0, \"#0d0887\"], [0.1111111111111111, \"#46039f\"], [0.2222222222222222, \"#7201a8\"], [0.3333333333333333, \"#9c179e\"], [0.4444444444444444, \"#bd3786\"], [0.5555555555555556, \"#d8576b\"], [0.6666666666666666, \"#ed7953\"], [0.7777777777777778, \"#fb9f3a\"], [0.8888888888888888, \"#fdca26\"], [1.0, \"#f0f921\"]], \"type\": \"heatmap\"}], \"heatmapgl\": [{\"colorbar\": {\"outlinewidth\": 0, \"ticks\": \"\"}, \"colorscale\": [[0.0, \"#0d0887\"], [0.1111111111111111, \"#46039f\"], [0.2222222222222222, \"#7201a8\"], [0.3333333333333333, \"#9c179e\"], [0.4444444444444444, \"#bd3786\"], [0.5555555555555556, \"#d8576b\"], [0.6666666666666666, \"#ed7953\"], [0.7777777777777778, \"#fb9f3a\"], [0.8888888888888888, \"#fdca26\"], [1.0, \"#f0f921\"]], \"type\": \"heatmapgl\"}], \"histogram\": [{\"marker\": {\"colorbar\": {\"outlinewidth\": 0, \"ticks\": \"\"}}, \"type\": \"histogram\"}], \"histogram2d\": [{\"colorbar\": {\"outlinewidth\": 0, \"ticks\": \"\"}, \"colorscale\": [[0.0, \"#0d0887\"], [0.1111111111111111, \"#46039f\"], [0.2222222222222222, \"#7201a8\"], [0.3333333333333333, \"#9c179e\"], [0.4444444444444444, \"#bd3786\"], [0.5555555555555556, \"#d8576b\"], [0.6666666666666666, \"#ed7953\"], [0.7777777777777778, \"#fb9f3a\"], [0.8888888888888888, \"#fdca26\"], [1.0, \"#f0f921\"]], \"type\": \"histogram2d\"}], \"histogram2dcontour\": [{\"colorbar\": {\"outlinewidth\": 0, \"ticks\": \"\"}, \"colorscale\": [[0.0, \"#0d0887\"], [0.1111111111111111, \"#46039f\"], [0.2222222222222222, \"#7201a8\"], [0.3333333333333333, \"#9c179e\"], [0.4444444444444444, \"#bd3786\"], [0.5555555555555556, \"#d8576b\"], [0.6666666666666666, \"#ed7953\"], [0.7777777777777778, \"#fb9f3a\"], [0.8888888888888888, \"#fdca26\"], [1.0, \"#f0f921\"]], \"type\": \"histogram2dcontour\"}], \"mesh3d\": [{\"colorbar\": {\"outlinewidth\": 0, \"ticks\": \"\"}, \"type\": \"mesh3d\"}], \"parcoords\": [{\"line\": {\"colorbar\": {\"outlinewidth\": 0, \"ticks\": \"\"}}, \"type\": \"parcoords\"}], \"pie\": [{\"automargin\": true, \"type\": \"pie\"}], \"scatter\": [{\"marker\": {\"colorbar\": {\"outlinewidth\": 0, \"ticks\": \"\"}}, \"type\": \"scatter\"}], \"scatter3d\": [{\"line\": {\"colorbar\": {\"outlinewidth\": 0, \"ticks\": \"\"}}, \"marker\": {\"colorbar\": {\"outlinewidth\": 0, \"ticks\": \"\"}}, \"type\": \"scatter3d\"}], \"scattercarpet\": [{\"marker\": {\"colorbar\": {\"outlinewidth\": 0, \"ticks\": \"\"}}, \"type\": \"scattercarpet\"}], \"scattergeo\": [{\"marker\": {\"colorbar\": {\"outlinewidth\": 0, \"ticks\": \"\"}}, \"type\": \"scattergeo\"}], \"scattergl\": [{\"marker\": {\"colorbar\": {\"outlinewidth\": 0, \"ticks\": \"\"}}, \"type\": \"scattergl\"}], \"scattermapbox\": [{\"marker\": {\"colorbar\": {\"outlinewidth\": 0, \"ticks\": \"\"}}, \"type\": \"scattermapbox\"}], \"scatterpolar\": [{\"marker\": {\"colorbar\": {\"outlinewidth\": 0, \"ticks\": \"\"}}, \"type\": \"scatterpolar\"}], \"scatterpolargl\": [{\"marker\": {\"colorbar\": {\"outlinewidth\": 0, \"ticks\": \"\"}}, \"type\": \"scatterpolargl\"}], \"scatterternary\": [{\"marker\": {\"colorbar\": {\"outlinewidth\": 0, \"ticks\": \"\"}}, \"type\": \"scatterternary\"}], \"surface\": [{\"colorbar\": {\"outlinewidth\": 0, \"ticks\": \"\"}, \"colorscale\": [[0.0, \"#0d0887\"], [0.1111111111111111, \"#46039f\"], [0.2222222222222222, \"#7201a8\"], [0.3333333333333333, \"#9c179e\"], [0.4444444444444444, \"#bd3786\"], [0.5555555555555556, \"#d8576b\"], [0.6666666666666666, \"#ed7953\"], [0.7777777777777778, \"#fb9f3a\"], [0.8888888888888888, \"#fdca26\"], [1.0, \"#f0f921\"]], \"type\": \"surface\"}], \"table\": [{\"cells\": {\"fill\": {\"color\": \"#EBF0F8\"}, \"line\": {\"color\": \"white\"}}, \"header\": {\"fill\": {\"color\": \"#C8D4E3\"}, \"line\": {\"color\": \"white\"}}, \"type\": \"table\"}]}, \"layout\": {\"annotationdefaults\": {\"arrowcolor\": \"#2a3f5f\", \"arrowhead\": 0, \"arrowwidth\": 1}, \"coloraxis\": {\"colorbar\": {\"outlinewidth\": 0, \"ticks\": \"\"}}, \"colorscale\": {\"diverging\": [[0, \"#8e0152\"], [0.1, \"#c51b7d\"], [0.2, \"#de77ae\"], [0.3, \"#f1b6da\"], [0.4, \"#fde0ef\"], [0.5, \"#f7f7f7\"], [0.6, \"#e6f5d0\"], [0.7, \"#b8e186\"], [0.8, \"#7fbc41\"], [0.9, \"#4d9221\"], [1, \"#276419\"]], \"sequential\": [[0.0, \"#0d0887\"], [0.1111111111111111, \"#46039f\"], [0.2222222222222222, \"#7201a8\"], [0.3333333333333333, \"#9c179e\"], [0.4444444444444444, \"#bd3786\"], [0.5555555555555556, \"#d8576b\"], [0.6666666666666666, \"#ed7953\"], [0.7777777777777778, \"#fb9f3a\"], [0.8888888888888888, \"#fdca26\"], [1.0, \"#f0f921\"]], \"sequentialminus\": [[0.0, \"#0d0887\"], [0.1111111111111111, \"#46039f\"], [0.2222222222222222, \"#7201a8\"], [0.3333333333333333, \"#9c179e\"], [0.4444444444444444, \"#bd3786\"], [0.5555555555555556, \"#d8576b\"], [0.6666666666666666, \"#ed7953\"], [0.7777777777777778, \"#fb9f3a\"], [0.8888888888888888, \"#fdca26\"], [1.0, \"#f0f921\"]]}, \"colorway\": [\"#636efa\", \"#EF553B\", \"#00cc96\", \"#ab63fa\", \"#FFA15A\", \"#19d3f3\", \"#FF6692\", \"#B6E880\", \"#FF97FF\", \"#FECB52\"], \"font\": {\"color\": \"#2a3f5f\"}, \"geo\": {\"bgcolor\": \"white\", \"lakecolor\": \"white\", \"landcolor\": \"#E5ECF6\", \"showlakes\": true, \"showland\": true, \"subunitcolor\": \"white\"}, \"hoverlabel\": {\"align\": \"left\"}, \"hovermode\": \"closest\", \"mapbox\": {\"style\": \"light\"}, \"paper_bgcolor\": \"white\", \"plot_bgcolor\": \"#E5ECF6\", \"polar\": {\"angularaxis\": {\"gridcolor\": \"white\", \"linecolor\": \"white\", \"ticks\": \"\"}, \"bgcolor\": \"#E5ECF6\", \"radialaxis\": {\"gridcolor\": \"white\", \"linecolor\": \"white\", \"ticks\": \"\"}}, \"scene\": {\"xaxis\": {\"backgroundcolor\": \"#E5ECF6\", \"gridcolor\": \"white\", \"gridwidth\": 2, \"linecolor\": \"white\", \"showbackground\": true, \"ticks\": \"\", \"zerolinecolor\": \"white\"}, \"yaxis\": {\"backgroundcolor\": \"#E5ECF6\", \"gridcolor\": \"white\", \"gridwidth\": 2, \"linecolor\": \"white\", \"showbackground\": true, \"ticks\": \"\", \"zerolinecolor\": \"white\"}, \"zaxis\": {\"backgroundcolor\": \"#E5ECF6\", \"gridcolor\": \"white\", \"gridwidth\": 2, \"linecolor\": \"white\", \"showbackground\": true, \"ticks\": \"\", \"zerolinecolor\": \"white\"}}, \"shapedefaults\": {\"line\": {\"color\": \"#2a3f5f\"}}, \"ternary\": {\"aaxis\": {\"gridcolor\": \"white\", \"linecolor\": \"white\", \"ticks\": \"\"}, \"baxis\": {\"gridcolor\": \"white\", \"linecolor\": \"white\", \"ticks\": \"\"}, \"bgcolor\": \"#E5ECF6\", \"caxis\": {\"gridcolor\": \"white\", \"linecolor\": \"white\", \"ticks\": \"\"}}, \"title\": {\"x\": 0.05}, \"xaxis\": {\"automargin\": true, \"gridcolor\": \"white\", \"linecolor\": \"white\", \"ticks\": \"\", \"title\": {\"standoff\": 15}, \"zerolinecolor\": \"white\", \"zerolinewidth\": 2}, \"yaxis\": {\"automargin\": true, \"gridcolor\": \"white\", \"linecolor\": \"white\", \"ticks\": \"\", \"title\": {\"standoff\": 15}, \"zerolinecolor\": \"white\", \"zerolinewidth\": 2}}}, \"title\": {\"text\": \"Buisness Intelligence Poll Age Distribution\"}},\n",
       "                        {\"responsive\": true}\n",
       "                    ).then(function(){\n",
       "                            \n",
       "var gd = document.getElementById('19d9f70f-6662-41b7-aab7-2f87a2f24ee6');\n",
       "var x = new MutationObserver(function (mutations, observer) {{\n",
       "        var display = window.getComputedStyle(gd).display;\n",
       "        if (!display || display === 'none') {{\n",
       "            console.log([gd, 'removed!']);\n",
       "            Plotly.purge(gd);\n",
       "            observer.disconnect();\n",
       "        }}\n",
       "}});\n",
       "\n",
       "// Listen for the removal of the full notebook cells\n",
       "var notebookContainer = gd.closest('#notebook-container');\n",
       "if (notebookContainer) {{\n",
       "    x.observe(notebookContainer, {childList: true});\n",
       "}}\n",
       "\n",
       "// Listen for the clearing of the current output cell\n",
       "var outputEl = gd.closest('.output');\n",
       "if (outputEl) {{\n",
       "    x.observe(outputEl, {childList: true});\n",
       "}}\n",
       "\n",
       "                        })\n",
       "                };\n",
       "                });\n",
       "            </script>\n",
       "        </div>"
      ]
     },
     "metadata": {},
     "output_type": "display_data"
    }
   ],
   "source": [
    "age_dist = bi_poll.groupby(\"age\").size().reset_index()\n",
    "\n",
    "fig = px.pie(age_dist, values=0, names='age', title='Buisness Intelligence Poll Age Distribution')\n",
    "fig.update_traces(textposition='inside', textinfo='percent+label')\n",
    "fig.write_html(\"visualizations/BI_polling_age_dist.html\")\n",
    "fig.show()"
   ]
  },
  {
   "cell_type": "markdown",
   "metadata": {},
   "source": [
    "## Comments over time"
   ]
  },
  {
   "cell_type": "code",
   "execution_count": 59,
   "metadata": {
    "scrolled": false
   },
   "outputs": [
    {
     "name": "stderr",
     "output_type": "stream",
     "text": [
      "/h/224/cameron/miniconda3/envs/pyspark_env/lib/python3.7/site-packages/ipykernel_launcher.py:2: FutureWarning:\n",
      "\n",
      "Columnar iteration over characters will be deprecated in future releases.\n",
      "\n"
     ]
    },
    {
     "data": {
      "text/html": [
       "<div>\n",
       "<style scoped>\n",
       "    .dataframe tbody tr th:only-of-type {\n",
       "        vertical-align: middle;\n",
       "    }\n",
       "\n",
       "    .dataframe tbody tr th {\n",
       "        vertical-align: top;\n",
       "    }\n",
       "\n",
       "    .dataframe thead th {\n",
       "        text-align: right;\n",
       "    }\n",
       "</style>\n",
       "<table border=\"1\" class=\"dataframe\">\n",
       "  <thead>\n",
       "    <tr style=\"text-align: right;\">\n",
       "      <th></th>\n",
       "      <th>date</th>\n",
       "      <th>subreddit</th>\n",
       "      <th>count</th>\n",
       "    </tr>\n",
       "  </thead>\n",
       "  <tbody>\n",
       "    <tr>\n",
       "      <th>19</th>\n",
       "      <td>2019-01-01</td>\n",
       "      <td>SandersForPresident</td>\n",
       "      <td>22016</td>\n",
       "    </tr>\n",
       "    <tr>\n",
       "      <th>20</th>\n",
       "      <td>2019-01-01</td>\n",
       "      <td>BaemyKlobaechar</td>\n",
       "      <td>101</td>\n",
       "    </tr>\n",
       "    <tr>\n",
       "      <th>18</th>\n",
       "      <td>2019-01-01</td>\n",
       "      <td>The_Donald</td>\n",
       "      <td>968642</td>\n",
       "    </tr>\n",
       "    <tr>\n",
       "      <th>17</th>\n",
       "      <td>2019-01-01</td>\n",
       "      <td>ElizabethWarren</td>\n",
       "      <td>454</td>\n",
       "    </tr>\n",
       "    <tr>\n",
       "      <th>16</th>\n",
       "      <td>2019-01-01</td>\n",
       "      <td>YangForPresidentHQ</td>\n",
       "      <td>95</td>\n",
       "    </tr>\n",
       "    <tr>\n",
       "      <th>...</th>\n",
       "      <td>...</td>\n",
       "      <td>...</td>\n",
       "      <td>...</td>\n",
       "    </tr>\n",
       "    <tr>\n",
       "      <th>61</th>\n",
       "      <td>2019-12-01</td>\n",
       "      <td>SandersForPresident</td>\n",
       "      <td>90414</td>\n",
       "    </tr>\n",
       "    <tr>\n",
       "      <th>60</th>\n",
       "      <td>2019-12-01</td>\n",
       "      <td>The_Donald</td>\n",
       "      <td>698631</td>\n",
       "    </tr>\n",
       "    <tr>\n",
       "      <th>59</th>\n",
       "      <td>2019-12-01</td>\n",
       "      <td>ElizabethWarren</td>\n",
       "      <td>11451</td>\n",
       "    </tr>\n",
       "    <tr>\n",
       "      <th>58</th>\n",
       "      <td>2019-12-01</td>\n",
       "      <td>YangForPresidentHQ</td>\n",
       "      <td>225756</td>\n",
       "    </tr>\n",
       "    <tr>\n",
       "      <th>57</th>\n",
       "      <td>2019-12-01</td>\n",
       "      <td>Pete_Buttigieg</td>\n",
       "      <td>73831</td>\n",
       "    </tr>\n",
       "  </tbody>\n",
       "</table>\n",
       "<p>84 rows × 3 columns</p>\n",
       "</div>"
      ],
      "text/plain": [
       "         date            subreddit   count\n",
       "19 2019-01-01  SandersForPresident   22016\n",
       "20 2019-01-01      BaemyKlobaechar     101\n",
       "18 2019-01-01           The_Donald  968642\n",
       "17 2019-01-01      ElizabethWarren     454\n",
       "16 2019-01-01   YangForPresidentHQ      95\n",
       "..        ...                  ...     ...\n",
       "61 2019-12-01  SandersForPresident   90414\n",
       "60 2019-12-01           The_Donald  698631\n",
       "59 2019-12-01      ElizabethWarren   11451\n",
       "58 2019-12-01   YangForPresidentHQ  225756\n",
       "57 2019-12-01       Pete_Buttigieg   73831\n",
       "\n",
       "[84 rows x 3 columns]"
      ]
     },
     "execution_count": 59,
     "metadata": {},
     "output_type": "execute_result"
    }
   ],
   "source": [
    "subreddit_comments = pd.read_csv(\"/h/224/cameron/Political-Subreddit-Embedding/temp/temporal/{}_wv.txt\".format(TIME_FRAME),header=None,sep=' ')\n",
    "subreddit_comments[0], subreddit_comments[\"date\"] = subreddit_comments[0].apply(lambda x: parse_tup(x,date_str=\"%d/%m/%Y\")).str\n",
    "subreddit_comments = subreddit_comments.rename({0:\"subreddit\",1:\"count\"},axis=1)\n",
    "subreddit_comments = subreddit_comments[subreddit_comments[\"subreddit\"].isin(left_candidates) | subreddit_comments[\"subreddit\"].isin(right_candidates)].reset_index(drop=True)\n",
    "idx = pd.MultiIndex.from_product([subreddit_comments['date'].unique(), subreddit_comments['subreddit'].unique()],\n",
    "                                 names=['date', 'subreddit'])\n",
    "\n",
    "# In the case that there isn't a vector for a specific date/subreddit we backfill the vector from the previous\n",
    "subreddit_comments = subreddit_comments.set_index(['date', 'subreddit']).reindex(idx).reset_index().sort_values('date').fillna(1)\n",
    "subreddit_comments"
   ]
  },
  {
   "cell_type": "code",
   "execution_count": 60,
   "metadata": {
    "scrolled": false
   },
   "outputs": [
    {
     "data": {
      "application/vnd.plotly.v1+json": {
       "config": {
        "plotlyServerURL": "https://plot.ly"
       },
       "data": [
        {
         "hovertemplate": "Subreddit=SandersForPresident<br>Date=%{x}<br># Comments=%{y}<extra></extra>",
         "legendgroup": "SandersForPresident",
         "line": {
          "color": "#EF553B",
          "dash": "solid",
          "shape": "spline"
         },
         "mode": "lines",
         "name": "SandersForPresident",
         "orientation": "v",
         "showlegend": true,
         "type": "scatter",
         "x": [
          "2019-01-01T00:00:00",
          "2019-02-01T00:00:00",
          "2019-03-01T00:00:00",
          "2019-04-01T00:00:00",
          "2019-05-01T00:00:00",
          "2019-06-01T00:00:00",
          "2019-07-01T00:00:00",
          "2019-08-01T00:00:00",
          "2019-09-01T00:00:00",
          "2019-10-01T00:00:00",
          "2019-11-01T00:00:00",
          "2019-12-01T00:00:00"
         ],
         "xaxis": "x",
         "y": [
          22016,
          56683,
          67497,
          64758,
          37354,
          71863,
          57860,
          86820,
          79887,
          87907,
          71442,
          90414
         ],
         "yaxis": "y"
        },
        {
         "hovertemplate": "Subreddit=BaemyKlobaechar<br>Date=%{x}<br># Comments=%{y}<extra></extra>",
         "legendgroup": "BaemyKlobaechar",
         "line": {
          "color": "#00CC96",
          "dash": "solid",
          "shape": "spline"
         },
         "mode": "lines",
         "name": "BaemyKlobaechar",
         "orientation": "v",
         "showlegend": true,
         "type": "scatter",
         "x": [
          "2019-01-01T00:00:00",
          "2019-02-01T00:00:00",
          "2019-03-01T00:00:00",
          "2019-04-01T00:00:00",
          "2019-05-01T00:00:00",
          "2019-06-01T00:00:00",
          "2019-07-01T00:00:00",
          "2019-08-01T00:00:00",
          "2019-09-01T00:00:00",
          "2019-10-01T00:00:00",
          "2019-11-01T00:00:00",
          "2019-12-01T00:00:00"
         ],
         "xaxis": "x",
         "y": [
          101,
          239,
          28,
          31,
          13,
          47,
          22,
          107,
          136,
          139,
          82,
          211
         ],
         "yaxis": "y"
        },
        {
         "hovertemplate": "Subreddit=The_Donald<br>Date=%{x}<br># Comments=%{y}<extra></extra>",
         "legendgroup": "The_Donald",
         "line": {
          "color": "#FF6692",
          "dash": "solid",
          "shape": "spline"
         },
         "mode": "lines",
         "name": "The_Donald",
         "orientation": "v",
         "showlegend": true,
         "type": "scatter",
         "x": [
          "2019-01-01T00:00:00",
          "2019-02-01T00:00:00",
          "2019-03-01T00:00:00",
          "2019-04-01T00:00:00",
          "2019-05-01T00:00:00",
          "2019-06-01T00:00:00",
          "2019-07-01T00:00:00",
          "2019-08-01T00:00:00",
          "2019-09-01T00:00:00",
          "2019-10-01T00:00:00",
          "2019-11-01T00:00:00",
          "2019-12-01T00:00:00"
         ],
         "xaxis": "x",
         "y": [
          968642,
          915499,
          895381,
          795051,
          876351,
          915815,
          833560,
          849971,
          720203,
          806676,
          739806,
          698631
         ],
         "yaxis": "y"
        },
        {
         "hovertemplate": "Subreddit=ElizabethWarren<br>Date=%{x}<br># Comments=%{y}<extra></extra>",
         "legendgroup": "ElizabethWarren",
         "line": {
          "color": "#AB63FA",
          "dash": "solid",
          "shape": "spline"
         },
         "mode": "lines",
         "name": "ElizabethWarren",
         "orientation": "v",
         "showlegend": true,
         "type": "scatter",
         "x": [
          "2019-01-01T00:00:00",
          "2019-02-01T00:00:00",
          "2019-03-01T00:00:00",
          "2019-04-01T00:00:00",
          "2019-05-01T00:00:00",
          "2019-06-01T00:00:00",
          "2019-07-01T00:00:00",
          "2019-08-01T00:00:00",
          "2019-09-01T00:00:00",
          "2019-10-01T00:00:00",
          "2019-11-01T00:00:00",
          "2019-12-01T00:00:00"
         ],
         "xaxis": "x",
         "y": [
          454,
          445,
          366,
          1561,
          2921,
          7242,
          7370,
          8759,
          13839,
          19781,
          17708,
          11451
         ],
         "yaxis": "y"
        },
        {
         "hovertemplate": "Subreddit=YangForPresidentHQ<br>Date=%{x}<br># Comments=%{y}<extra></extra>",
         "legendgroup": "YangForPresidentHQ",
         "line": {
          "color": "#19D3F3",
          "dash": "solid",
          "shape": "spline"
         },
         "mode": "lines",
         "name": "YangForPresidentHQ",
         "orientation": "v",
         "showlegend": true,
         "type": "scatter",
         "x": [
          "2019-01-01T00:00:00",
          "2019-02-01T00:00:00",
          "2019-03-01T00:00:00",
          "2019-04-01T00:00:00",
          "2019-05-01T00:00:00",
          "2019-06-01T00:00:00",
          "2019-07-01T00:00:00",
          "2019-08-01T00:00:00",
          "2019-09-01T00:00:00",
          "2019-10-01T00:00:00",
          "2019-11-01T00:00:00",
          "2019-12-01T00:00:00"
         ],
         "xaxis": "x",
         "y": [
          95,
          3138,
          43978,
          53512,
          30442,
          62914,
          79167,
          176906,
          189596,
          165746,
          155684,
          225756
         ],
         "yaxis": "y"
        },
        {
         "hovertemplate": "Subreddit=Pete_Buttigieg<br>Date=%{x}<br># Comments=%{y}<extra></extra>",
         "legendgroup": "Pete_Buttigieg",
         "line": {
          "color": "#FFA15A",
          "dash": "solid",
          "shape": "spline"
         },
         "mode": "lines",
         "name": "Pete_Buttigieg",
         "orientation": "v",
         "showlegend": true,
         "type": "scatter",
         "x": [
          "2019-01-01T00:00:00",
          "2019-02-01T00:00:00",
          "2019-03-01T00:00:00",
          "2019-04-01T00:00:00",
          "2019-05-01T00:00:00",
          "2019-06-01T00:00:00",
          "2019-07-01T00:00:00",
          "2019-08-01T00:00:00",
          "2019-09-01T00:00:00",
          "2019-10-01T00:00:00",
          "2019-11-01T00:00:00",
          "2019-12-01T00:00:00"
         ],
         "xaxis": "x",
         "y": [
          21,
          144,
          12604,
          48305,
          21619,
          27709,
          30785,
          22679,
          24136,
          35638,
          57412,
          73831
         ],
         "yaxis": "y"
        },
        {
         "hovertemplate": "Subreddit=JoeBiden<br>Date=%{x}<br># Comments=%{y}<extra></extra>",
         "legendgroup": "JoeBiden",
         "line": {
          "color": "#636EFA",
          "dash": "solid",
          "shape": "spline"
         },
         "mode": "lines",
         "name": "JoeBiden",
         "orientation": "v",
         "showlegend": true,
         "type": "scatter",
         "x": [
          "2019-01-01T00:00:00",
          "2019-02-01T00:00:00",
          "2019-03-01T00:00:00",
          "2019-04-01T00:00:00",
          "2019-05-01T00:00:00",
          "2019-06-01T00:00:00",
          "2019-07-01T00:00:00",
          "2019-08-01T00:00:00",
          "2019-09-01T00:00:00",
          "2019-10-01T00:00:00",
          "2019-11-01T00:00:00",
          "2019-12-01T00:00:00"
         ],
         "xaxis": "x",
         "y": [
          1,
          11,
          36,
          839,
          1414,
          1531,
          1037,
          1825,
          1912,
          1156,
          1716,
          3825
         ],
         "yaxis": "y"
        }
       ],
       "layout": {
        "annotations": [
         {
          "text": "Yang AMA on /r/politics",
          "x": "2019-02-24",
          "y": 4.477121254719663
         }
        ],
        "legend": {
         "title": {
          "text": "Subreddit"
         },
         "tracegroupgap": 0
        },
        "template": {
         "data": {
          "bar": [
           {
            "error_x": {
             "color": "rgb(36,36,36)"
            },
            "error_y": {
             "color": "rgb(36,36,36)"
            },
            "marker": {
             "line": {
              "color": "white",
              "width": 0.5
             }
            },
            "type": "bar"
           }
          ],
          "barpolar": [
           {
            "marker": {
             "line": {
              "color": "white",
              "width": 0.5
             }
            },
            "type": "barpolar"
           }
          ],
          "carpet": [
           {
            "aaxis": {
             "endlinecolor": "rgb(36,36,36)",
             "gridcolor": "white",
             "linecolor": "white",
             "minorgridcolor": "white",
             "startlinecolor": "rgb(36,36,36)"
            },
            "baxis": {
             "endlinecolor": "rgb(36,36,36)",
             "gridcolor": "white",
             "linecolor": "white",
             "minorgridcolor": "white",
             "startlinecolor": "rgb(36,36,36)"
            },
            "type": "carpet"
           }
          ],
          "choropleth": [
           {
            "colorbar": {
             "outlinewidth": 1,
             "tickcolor": "rgb(36,36,36)",
             "ticks": "outside"
            },
            "type": "choropleth"
           }
          ],
          "contour": [
           {
            "colorbar": {
             "outlinewidth": 1,
             "tickcolor": "rgb(36,36,36)",
             "ticks": "outside"
            },
            "colorscale": [
             [
              0,
              "#440154"
             ],
             [
              0.1111111111111111,
              "#482878"
             ],
             [
              0.2222222222222222,
              "#3e4989"
             ],
             [
              0.3333333333333333,
              "#31688e"
             ],
             [
              0.4444444444444444,
              "#26828e"
             ],
             [
              0.5555555555555556,
              "#1f9e89"
             ],
             [
              0.6666666666666666,
              "#35b779"
             ],
             [
              0.7777777777777778,
              "#6ece58"
             ],
             [
              0.8888888888888888,
              "#b5de2b"
             ],
             [
              1,
              "#fde725"
             ]
            ],
            "type": "contour"
           }
          ],
          "contourcarpet": [
           {
            "colorbar": {
             "outlinewidth": 1,
             "tickcolor": "rgb(36,36,36)",
             "ticks": "outside"
            },
            "type": "contourcarpet"
           }
          ],
          "heatmap": [
           {
            "colorbar": {
             "outlinewidth": 1,
             "tickcolor": "rgb(36,36,36)",
             "ticks": "outside"
            },
            "colorscale": [
             [
              0,
              "#440154"
             ],
             [
              0.1111111111111111,
              "#482878"
             ],
             [
              0.2222222222222222,
              "#3e4989"
             ],
             [
              0.3333333333333333,
              "#31688e"
             ],
             [
              0.4444444444444444,
              "#26828e"
             ],
             [
              0.5555555555555556,
              "#1f9e89"
             ],
             [
              0.6666666666666666,
              "#35b779"
             ],
             [
              0.7777777777777778,
              "#6ece58"
             ],
             [
              0.8888888888888888,
              "#b5de2b"
             ],
             [
              1,
              "#fde725"
             ]
            ],
            "type": "heatmap"
           }
          ],
          "heatmapgl": [
           {
            "colorbar": {
             "outlinewidth": 1,
             "tickcolor": "rgb(36,36,36)",
             "ticks": "outside"
            },
            "colorscale": [
             [
              0,
              "#440154"
             ],
             [
              0.1111111111111111,
              "#482878"
             ],
             [
              0.2222222222222222,
              "#3e4989"
             ],
             [
              0.3333333333333333,
              "#31688e"
             ],
             [
              0.4444444444444444,
              "#26828e"
             ],
             [
              0.5555555555555556,
              "#1f9e89"
             ],
             [
              0.6666666666666666,
              "#35b779"
             ],
             [
              0.7777777777777778,
              "#6ece58"
             ],
             [
              0.8888888888888888,
              "#b5de2b"
             ],
             [
              1,
              "#fde725"
             ]
            ],
            "type": "heatmapgl"
           }
          ],
          "histogram": [
           {
            "marker": {
             "line": {
              "color": "white",
              "width": 0.6
             }
            },
            "type": "histogram"
           }
          ],
          "histogram2d": [
           {
            "colorbar": {
             "outlinewidth": 1,
             "tickcolor": "rgb(36,36,36)",
             "ticks": "outside"
            },
            "colorscale": [
             [
              0,
              "#440154"
             ],
             [
              0.1111111111111111,
              "#482878"
             ],
             [
              0.2222222222222222,
              "#3e4989"
             ],
             [
              0.3333333333333333,
              "#31688e"
             ],
             [
              0.4444444444444444,
              "#26828e"
             ],
             [
              0.5555555555555556,
              "#1f9e89"
             ],
             [
              0.6666666666666666,
              "#35b779"
             ],
             [
              0.7777777777777778,
              "#6ece58"
             ],
             [
              0.8888888888888888,
              "#b5de2b"
             ],
             [
              1,
              "#fde725"
             ]
            ],
            "type": "histogram2d"
           }
          ],
          "histogram2dcontour": [
           {
            "colorbar": {
             "outlinewidth": 1,
             "tickcolor": "rgb(36,36,36)",
             "ticks": "outside"
            },
            "colorscale": [
             [
              0,
              "#440154"
             ],
             [
              0.1111111111111111,
              "#482878"
             ],
             [
              0.2222222222222222,
              "#3e4989"
             ],
             [
              0.3333333333333333,
              "#31688e"
             ],
             [
              0.4444444444444444,
              "#26828e"
             ],
             [
              0.5555555555555556,
              "#1f9e89"
             ],
             [
              0.6666666666666666,
              "#35b779"
             ],
             [
              0.7777777777777778,
              "#6ece58"
             ],
             [
              0.8888888888888888,
              "#b5de2b"
             ],
             [
              1,
              "#fde725"
             ]
            ],
            "type": "histogram2dcontour"
           }
          ],
          "mesh3d": [
           {
            "colorbar": {
             "outlinewidth": 1,
             "tickcolor": "rgb(36,36,36)",
             "ticks": "outside"
            },
            "type": "mesh3d"
           }
          ],
          "parcoords": [
           {
            "line": {
             "colorbar": {
              "outlinewidth": 1,
              "tickcolor": "rgb(36,36,36)",
              "ticks": "outside"
             }
            },
            "type": "parcoords"
           }
          ],
          "pie": [
           {
            "automargin": true,
            "type": "pie"
           }
          ],
          "scatter": [
           {
            "marker": {
             "colorbar": {
              "outlinewidth": 1,
              "tickcolor": "rgb(36,36,36)",
              "ticks": "outside"
             }
            },
            "type": "scatter"
           }
          ],
          "scatter3d": [
           {
            "line": {
             "colorbar": {
              "outlinewidth": 1,
              "tickcolor": "rgb(36,36,36)",
              "ticks": "outside"
             }
            },
            "marker": {
             "colorbar": {
              "outlinewidth": 1,
              "tickcolor": "rgb(36,36,36)",
              "ticks": "outside"
             }
            },
            "type": "scatter3d"
           }
          ],
          "scattercarpet": [
           {
            "marker": {
             "colorbar": {
              "outlinewidth": 1,
              "tickcolor": "rgb(36,36,36)",
              "ticks": "outside"
             }
            },
            "type": "scattercarpet"
           }
          ],
          "scattergeo": [
           {
            "marker": {
             "colorbar": {
              "outlinewidth": 1,
              "tickcolor": "rgb(36,36,36)",
              "ticks": "outside"
             }
            },
            "type": "scattergeo"
           }
          ],
          "scattergl": [
           {
            "marker": {
             "colorbar": {
              "outlinewidth": 1,
              "tickcolor": "rgb(36,36,36)",
              "ticks": "outside"
             }
            },
            "type": "scattergl"
           }
          ],
          "scattermapbox": [
           {
            "marker": {
             "colorbar": {
              "outlinewidth": 1,
              "tickcolor": "rgb(36,36,36)",
              "ticks": "outside"
             }
            },
            "type": "scattermapbox"
           }
          ],
          "scatterpolar": [
           {
            "marker": {
             "colorbar": {
              "outlinewidth": 1,
              "tickcolor": "rgb(36,36,36)",
              "ticks": "outside"
             }
            },
            "type": "scatterpolar"
           }
          ],
          "scatterpolargl": [
           {
            "marker": {
             "colorbar": {
              "outlinewidth": 1,
              "tickcolor": "rgb(36,36,36)",
              "ticks": "outside"
             }
            },
            "type": "scatterpolargl"
           }
          ],
          "scatterternary": [
           {
            "marker": {
             "colorbar": {
              "outlinewidth": 1,
              "tickcolor": "rgb(36,36,36)",
              "ticks": "outside"
             }
            },
            "type": "scatterternary"
           }
          ],
          "surface": [
           {
            "colorbar": {
             "outlinewidth": 1,
             "tickcolor": "rgb(36,36,36)",
             "ticks": "outside"
            },
            "colorscale": [
             [
              0,
              "#440154"
             ],
             [
              0.1111111111111111,
              "#482878"
             ],
             [
              0.2222222222222222,
              "#3e4989"
             ],
             [
              0.3333333333333333,
              "#31688e"
             ],
             [
              0.4444444444444444,
              "#26828e"
             ],
             [
              0.5555555555555556,
              "#1f9e89"
             ],
             [
              0.6666666666666666,
              "#35b779"
             ],
             [
              0.7777777777777778,
              "#6ece58"
             ],
             [
              0.8888888888888888,
              "#b5de2b"
             ],
             [
              1,
              "#fde725"
             ]
            ],
            "type": "surface"
           }
          ],
          "table": [
           {
            "cells": {
             "fill": {
              "color": "rgb(237,237,237)"
             },
             "line": {
              "color": "white"
             }
            },
            "header": {
             "fill": {
              "color": "rgb(217,217,217)"
             },
             "line": {
              "color": "white"
             }
            },
            "type": "table"
           }
          ]
         },
         "layout": {
          "annotationdefaults": {
           "arrowhead": 0,
           "arrowwidth": 1
          },
          "coloraxis": {
           "colorbar": {
            "outlinewidth": 1,
            "tickcolor": "rgb(36,36,36)",
            "ticks": "outside"
           }
          },
          "colorscale": {
           "diverging": [
            [
             0,
             "rgb(103,0,31)"
            ],
            [
             0.1,
             "rgb(178,24,43)"
            ],
            [
             0.2,
             "rgb(214,96,77)"
            ],
            [
             0.3,
             "rgb(244,165,130)"
            ],
            [
             0.4,
             "rgb(253,219,199)"
            ],
            [
             0.5,
             "rgb(247,247,247)"
            ],
            [
             0.6,
             "rgb(209,229,240)"
            ],
            [
             0.7,
             "rgb(146,197,222)"
            ],
            [
             0.8,
             "rgb(67,147,195)"
            ],
            [
             0.9,
             "rgb(33,102,172)"
            ],
            [
             1,
             "rgb(5,48,97)"
            ]
           ],
           "sequential": [
            [
             0,
             "#440154"
            ],
            [
             0.1111111111111111,
             "#482878"
            ],
            [
             0.2222222222222222,
             "#3e4989"
            ],
            [
             0.3333333333333333,
             "#31688e"
            ],
            [
             0.4444444444444444,
             "#26828e"
            ],
            [
             0.5555555555555556,
             "#1f9e89"
            ],
            [
             0.6666666666666666,
             "#35b779"
            ],
            [
             0.7777777777777778,
             "#6ece58"
            ],
            [
             0.8888888888888888,
             "#b5de2b"
            ],
            [
             1,
             "#fde725"
            ]
           ],
           "sequentialminus": [
            [
             0,
             "#440154"
            ],
            [
             0.1111111111111111,
             "#482878"
            ],
            [
             0.2222222222222222,
             "#3e4989"
            ],
            [
             0.3333333333333333,
             "#31688e"
            ],
            [
             0.4444444444444444,
             "#26828e"
            ],
            [
             0.5555555555555556,
             "#1f9e89"
            ],
            [
             0.6666666666666666,
             "#35b779"
            ],
            [
             0.7777777777777778,
             "#6ece58"
            ],
            [
             0.8888888888888888,
             "#b5de2b"
            ],
            [
             1,
             "#fde725"
            ]
           ]
          },
          "colorway": [
           "#1F77B4",
           "#FF7F0E",
           "#2CA02C",
           "#D62728",
           "#9467BD",
           "#8C564B",
           "#E377C2",
           "#7F7F7F",
           "#BCBD22",
           "#17BECF"
          ],
          "font": {
           "color": "rgb(36,36,36)"
          },
          "geo": {
           "bgcolor": "white",
           "lakecolor": "white",
           "landcolor": "white",
           "showlakes": true,
           "showland": true,
           "subunitcolor": "white"
          },
          "hoverlabel": {
           "align": "left"
          },
          "hovermode": "closest",
          "mapbox": {
           "style": "light"
          },
          "paper_bgcolor": "white",
          "plot_bgcolor": "white",
          "polar": {
           "angularaxis": {
            "gridcolor": "rgb(232,232,232)",
            "linecolor": "rgb(36,36,36)",
            "showgrid": false,
            "showline": true,
            "ticks": "outside"
           },
           "bgcolor": "white",
           "radialaxis": {
            "gridcolor": "rgb(232,232,232)",
            "linecolor": "rgb(36,36,36)",
            "showgrid": false,
            "showline": true,
            "ticks": "outside"
           }
          },
          "scene": {
           "xaxis": {
            "backgroundcolor": "white",
            "gridcolor": "rgb(232,232,232)",
            "gridwidth": 2,
            "linecolor": "rgb(36,36,36)",
            "showbackground": true,
            "showgrid": false,
            "showline": true,
            "ticks": "outside",
            "zeroline": false,
            "zerolinecolor": "rgb(36,36,36)"
           },
           "yaxis": {
            "backgroundcolor": "white",
            "gridcolor": "rgb(232,232,232)",
            "gridwidth": 2,
            "linecolor": "rgb(36,36,36)",
            "showbackground": true,
            "showgrid": false,
            "showline": true,
            "ticks": "outside",
            "zeroline": false,
            "zerolinecolor": "rgb(36,36,36)"
           },
           "zaxis": {
            "backgroundcolor": "white",
            "gridcolor": "rgb(232,232,232)",
            "gridwidth": 2,
            "linecolor": "rgb(36,36,36)",
            "showbackground": true,
            "showgrid": false,
            "showline": true,
            "ticks": "outside",
            "zeroline": false,
            "zerolinecolor": "rgb(36,36,36)"
           }
          },
          "shapedefaults": {
           "fillcolor": "black",
           "line": {
            "width": 0
           },
           "opacity": 0.3
          },
          "ternary": {
           "aaxis": {
            "gridcolor": "rgb(232,232,232)",
            "linecolor": "rgb(36,36,36)",
            "showgrid": false,
            "showline": true,
            "ticks": "outside"
           },
           "baxis": {
            "gridcolor": "rgb(232,232,232)",
            "linecolor": "rgb(36,36,36)",
            "showgrid": false,
            "showline": true,
            "ticks": "outside"
           },
           "bgcolor": "white",
           "caxis": {
            "gridcolor": "rgb(232,232,232)",
            "linecolor": "rgb(36,36,36)",
            "showgrid": false,
            "showline": true,
            "ticks": "outside"
           }
          },
          "title": {
           "x": 0.05
          },
          "xaxis": {
           "automargin": true,
           "gridcolor": "rgb(232,232,232)",
           "linecolor": "rgb(36,36,36)",
           "showgrid": false,
           "showline": true,
           "ticks": "outside",
           "title": {
            "standoff": 15
           },
           "zeroline": false,
           "zerolinecolor": "rgb(36,36,36)"
          },
          "yaxis": {
           "automargin": true,
           "gridcolor": "rgb(232,232,232)",
           "linecolor": "rgb(36,36,36)",
           "showgrid": false,
           "showline": true,
           "ticks": "outside",
           "title": {
            "standoff": 15
           },
           "zeroline": false,
           "zerolinecolor": "rgb(36,36,36)"
          }
         }
        },
        "title": {
         "text": "Comments Over Time"
        },
        "xaxis": {
         "anchor": "y",
         "domain": [
          0,
          1
         ],
         "title": {
          "text": "Date"
         }
        },
        "yaxis": {
         "anchor": "x",
         "domain": [
          0,
          1
         ],
         "title": {
          "text": "# Comments"
         },
         "type": "log"
        }
       }
      },
      "text/html": [
       "<div>\n",
       "        \n",
       "        \n",
       "            <div id=\"fa86004f-1ed7-4777-92ea-f505ca625d54\" class=\"plotly-graph-div\" style=\"height:525px; width:100%;\"></div>\n",
       "            <script type=\"text/javascript\">\n",
       "                require([\"plotly\"], function(Plotly) {\n",
       "                    window.PLOTLYENV=window.PLOTLYENV || {};\n",
       "                    \n",
       "                if (document.getElementById(\"fa86004f-1ed7-4777-92ea-f505ca625d54\")) {\n",
       "                    Plotly.newPlot(\n",
       "                        'fa86004f-1ed7-4777-92ea-f505ca625d54',\n",
       "                        [{\"hovertemplate\": \"Subreddit=SandersForPresident<br>Date=%{x}<br># Comments=%{y}<extra></extra>\", \"legendgroup\": \"SandersForPresident\", \"line\": {\"color\": \"#EF553B\", \"dash\": \"solid\", \"shape\": \"spline\"}, \"mode\": \"lines\", \"name\": \"SandersForPresident\", \"orientation\": \"v\", \"showlegend\": true, \"type\": \"scatter\", \"x\": [\"2019-01-01T00:00:00\", \"2019-02-01T00:00:00\", \"2019-03-01T00:00:00\", \"2019-04-01T00:00:00\", \"2019-05-01T00:00:00\", \"2019-06-01T00:00:00\", \"2019-07-01T00:00:00\", \"2019-08-01T00:00:00\", \"2019-09-01T00:00:00\", \"2019-10-01T00:00:00\", \"2019-11-01T00:00:00\", \"2019-12-01T00:00:00\"], \"xaxis\": \"x\", \"y\": [22016, 56683, 67497, 64758, 37354, 71863, 57860, 86820, 79887, 87907, 71442, 90414], \"yaxis\": \"y\"}, {\"hovertemplate\": \"Subreddit=BaemyKlobaechar<br>Date=%{x}<br># Comments=%{y}<extra></extra>\", \"legendgroup\": \"BaemyKlobaechar\", \"line\": {\"color\": \"#00CC96\", \"dash\": \"solid\", \"shape\": \"spline\"}, \"mode\": \"lines\", \"name\": \"BaemyKlobaechar\", \"orientation\": \"v\", \"showlegend\": true, \"type\": \"scatter\", \"x\": [\"2019-01-01T00:00:00\", \"2019-02-01T00:00:00\", \"2019-03-01T00:00:00\", \"2019-04-01T00:00:00\", \"2019-05-01T00:00:00\", \"2019-06-01T00:00:00\", \"2019-07-01T00:00:00\", \"2019-08-01T00:00:00\", \"2019-09-01T00:00:00\", \"2019-10-01T00:00:00\", \"2019-11-01T00:00:00\", \"2019-12-01T00:00:00\"], \"xaxis\": \"x\", \"y\": [101, 239, 28, 31, 13, 47, 22, 107, 136, 139, 82, 211], \"yaxis\": \"y\"}, {\"hovertemplate\": \"Subreddit=The_Donald<br>Date=%{x}<br># Comments=%{y}<extra></extra>\", \"legendgroup\": \"The_Donald\", \"line\": {\"color\": \"#FF6692\", \"dash\": \"solid\", \"shape\": \"spline\"}, \"mode\": \"lines\", \"name\": \"The_Donald\", \"orientation\": \"v\", \"showlegend\": true, \"type\": \"scatter\", \"x\": [\"2019-01-01T00:00:00\", \"2019-02-01T00:00:00\", \"2019-03-01T00:00:00\", \"2019-04-01T00:00:00\", \"2019-05-01T00:00:00\", \"2019-06-01T00:00:00\", \"2019-07-01T00:00:00\", \"2019-08-01T00:00:00\", \"2019-09-01T00:00:00\", \"2019-10-01T00:00:00\", \"2019-11-01T00:00:00\", \"2019-12-01T00:00:00\"], \"xaxis\": \"x\", \"y\": [968642, 915499, 895381, 795051, 876351, 915815, 833560, 849971, 720203, 806676, 739806, 698631], \"yaxis\": \"y\"}, {\"hovertemplate\": \"Subreddit=ElizabethWarren<br>Date=%{x}<br># Comments=%{y}<extra></extra>\", \"legendgroup\": \"ElizabethWarren\", \"line\": {\"color\": \"#AB63FA\", \"dash\": \"solid\", \"shape\": \"spline\"}, \"mode\": \"lines\", \"name\": \"ElizabethWarren\", \"orientation\": \"v\", \"showlegend\": true, \"type\": \"scatter\", \"x\": [\"2019-01-01T00:00:00\", \"2019-02-01T00:00:00\", \"2019-03-01T00:00:00\", \"2019-04-01T00:00:00\", \"2019-05-01T00:00:00\", \"2019-06-01T00:00:00\", \"2019-07-01T00:00:00\", \"2019-08-01T00:00:00\", \"2019-09-01T00:00:00\", \"2019-10-01T00:00:00\", \"2019-11-01T00:00:00\", \"2019-12-01T00:00:00\"], \"xaxis\": \"x\", \"y\": [454, 445, 366, 1561, 2921, 7242, 7370, 8759, 13839, 19781, 17708, 11451], \"yaxis\": \"y\"}, {\"hovertemplate\": \"Subreddit=YangForPresidentHQ<br>Date=%{x}<br># Comments=%{y}<extra></extra>\", \"legendgroup\": \"YangForPresidentHQ\", \"line\": {\"color\": \"#19D3F3\", \"dash\": \"solid\", \"shape\": \"spline\"}, \"mode\": \"lines\", \"name\": \"YangForPresidentHQ\", \"orientation\": \"v\", \"showlegend\": true, \"type\": \"scatter\", \"x\": [\"2019-01-01T00:00:00\", \"2019-02-01T00:00:00\", \"2019-03-01T00:00:00\", \"2019-04-01T00:00:00\", \"2019-05-01T00:00:00\", \"2019-06-01T00:00:00\", \"2019-07-01T00:00:00\", \"2019-08-01T00:00:00\", \"2019-09-01T00:00:00\", \"2019-10-01T00:00:00\", \"2019-11-01T00:00:00\", \"2019-12-01T00:00:00\"], \"xaxis\": \"x\", \"y\": [95, 3138, 43978, 53512, 30442, 62914, 79167, 176906, 189596, 165746, 155684, 225756], \"yaxis\": \"y\"}, {\"hovertemplate\": \"Subreddit=Pete_Buttigieg<br>Date=%{x}<br># Comments=%{y}<extra></extra>\", \"legendgroup\": \"Pete_Buttigieg\", \"line\": {\"color\": \"#FFA15A\", \"dash\": \"solid\", \"shape\": \"spline\"}, \"mode\": \"lines\", \"name\": \"Pete_Buttigieg\", \"orientation\": \"v\", \"showlegend\": true, \"type\": \"scatter\", \"x\": [\"2019-01-01T00:00:00\", \"2019-02-01T00:00:00\", \"2019-03-01T00:00:00\", \"2019-04-01T00:00:00\", \"2019-05-01T00:00:00\", \"2019-06-01T00:00:00\", \"2019-07-01T00:00:00\", \"2019-08-01T00:00:00\", \"2019-09-01T00:00:00\", \"2019-10-01T00:00:00\", \"2019-11-01T00:00:00\", \"2019-12-01T00:00:00\"], \"xaxis\": \"x\", \"y\": [21, 144, 12604, 48305, 21619, 27709, 30785, 22679, 24136, 35638, 57412, 73831], \"yaxis\": \"y\"}, {\"hovertemplate\": \"Subreddit=JoeBiden<br>Date=%{x}<br># Comments=%{y}<extra></extra>\", \"legendgroup\": \"JoeBiden\", \"line\": {\"color\": \"#636EFA\", \"dash\": \"solid\", \"shape\": \"spline\"}, \"mode\": \"lines\", \"name\": \"JoeBiden\", \"orientation\": \"v\", \"showlegend\": true, \"type\": \"scatter\", \"x\": [\"2019-01-01T00:00:00\", \"2019-02-01T00:00:00\", \"2019-03-01T00:00:00\", \"2019-04-01T00:00:00\", \"2019-05-01T00:00:00\", \"2019-06-01T00:00:00\", \"2019-07-01T00:00:00\", \"2019-08-01T00:00:00\", \"2019-09-01T00:00:00\", \"2019-10-01T00:00:00\", \"2019-11-01T00:00:00\", \"2019-12-01T00:00:00\"], \"xaxis\": \"x\", \"y\": [1, 11, 36, 839, 1414, 1531, 1037, 1825, 1912, 1156, 1716, 3825], \"yaxis\": \"y\"}],\n",
       "                        {\"annotations\": [{\"text\": \"Yang AMA on /r/politics\", \"x\": \"2019-02-24\", \"y\": 4.477121254719663}], \"legend\": {\"title\": {\"text\": \"Subreddit\"}, \"tracegroupgap\": 0}, \"template\": {\"data\": {\"bar\": [{\"error_x\": {\"color\": \"rgb(36,36,36)\"}, \"error_y\": {\"color\": \"rgb(36,36,36)\"}, \"marker\": {\"line\": {\"color\": \"white\", \"width\": 0.5}}, \"type\": \"bar\"}], \"barpolar\": [{\"marker\": {\"line\": {\"color\": \"white\", \"width\": 0.5}}, \"type\": \"barpolar\"}], \"carpet\": [{\"aaxis\": {\"endlinecolor\": \"rgb(36,36,36)\", \"gridcolor\": \"white\", \"linecolor\": \"white\", \"minorgridcolor\": \"white\", \"startlinecolor\": \"rgb(36,36,36)\"}, \"baxis\": {\"endlinecolor\": \"rgb(36,36,36)\", \"gridcolor\": \"white\", \"linecolor\": \"white\", \"minorgridcolor\": \"white\", \"startlinecolor\": \"rgb(36,36,36)\"}, \"type\": \"carpet\"}], \"choropleth\": [{\"colorbar\": {\"outlinewidth\": 1, \"tickcolor\": \"rgb(36,36,36)\", \"ticks\": \"outside\"}, \"type\": \"choropleth\"}], \"contour\": [{\"colorbar\": {\"outlinewidth\": 1, \"tickcolor\": \"rgb(36,36,36)\", \"ticks\": \"outside\"}, \"colorscale\": [[0.0, \"#440154\"], [0.1111111111111111, \"#482878\"], [0.2222222222222222, \"#3e4989\"], [0.3333333333333333, \"#31688e\"], [0.4444444444444444, \"#26828e\"], [0.5555555555555556, \"#1f9e89\"], [0.6666666666666666, \"#35b779\"], [0.7777777777777778, \"#6ece58\"], [0.8888888888888888, \"#b5de2b\"], [1.0, \"#fde725\"]], \"type\": \"contour\"}], \"contourcarpet\": [{\"colorbar\": {\"outlinewidth\": 1, \"tickcolor\": \"rgb(36,36,36)\", \"ticks\": \"outside\"}, \"type\": \"contourcarpet\"}], \"heatmap\": [{\"colorbar\": {\"outlinewidth\": 1, \"tickcolor\": \"rgb(36,36,36)\", \"ticks\": \"outside\"}, \"colorscale\": [[0.0, \"#440154\"], [0.1111111111111111, \"#482878\"], [0.2222222222222222, \"#3e4989\"], [0.3333333333333333, \"#31688e\"], [0.4444444444444444, \"#26828e\"], [0.5555555555555556, \"#1f9e89\"], [0.6666666666666666, \"#35b779\"], [0.7777777777777778, \"#6ece58\"], [0.8888888888888888, \"#b5de2b\"], [1.0, \"#fde725\"]], \"type\": \"heatmap\"}], \"heatmapgl\": [{\"colorbar\": {\"outlinewidth\": 1, \"tickcolor\": \"rgb(36,36,36)\", \"ticks\": \"outside\"}, \"colorscale\": [[0.0, \"#440154\"], [0.1111111111111111, \"#482878\"], [0.2222222222222222, \"#3e4989\"], [0.3333333333333333, \"#31688e\"], [0.4444444444444444, \"#26828e\"], [0.5555555555555556, \"#1f9e89\"], [0.6666666666666666, \"#35b779\"], [0.7777777777777778, \"#6ece58\"], [0.8888888888888888, \"#b5de2b\"], [1.0, \"#fde725\"]], \"type\": \"heatmapgl\"}], \"histogram\": [{\"marker\": {\"line\": {\"color\": \"white\", \"width\": 0.6}}, \"type\": \"histogram\"}], \"histogram2d\": [{\"colorbar\": {\"outlinewidth\": 1, \"tickcolor\": \"rgb(36,36,36)\", \"ticks\": \"outside\"}, \"colorscale\": [[0.0, \"#440154\"], [0.1111111111111111, \"#482878\"], [0.2222222222222222, \"#3e4989\"], [0.3333333333333333, \"#31688e\"], [0.4444444444444444, \"#26828e\"], [0.5555555555555556, \"#1f9e89\"], [0.6666666666666666, \"#35b779\"], [0.7777777777777778, \"#6ece58\"], [0.8888888888888888, \"#b5de2b\"], [1.0, \"#fde725\"]], \"type\": \"histogram2d\"}], \"histogram2dcontour\": [{\"colorbar\": {\"outlinewidth\": 1, \"tickcolor\": \"rgb(36,36,36)\", \"ticks\": \"outside\"}, \"colorscale\": [[0.0, \"#440154\"], [0.1111111111111111, \"#482878\"], [0.2222222222222222, \"#3e4989\"], [0.3333333333333333, \"#31688e\"], [0.4444444444444444, \"#26828e\"], [0.5555555555555556, \"#1f9e89\"], [0.6666666666666666, \"#35b779\"], [0.7777777777777778, \"#6ece58\"], [0.8888888888888888, \"#b5de2b\"], [1.0, \"#fde725\"]], \"type\": \"histogram2dcontour\"}], \"mesh3d\": [{\"colorbar\": {\"outlinewidth\": 1, \"tickcolor\": \"rgb(36,36,36)\", \"ticks\": \"outside\"}, \"type\": \"mesh3d\"}], \"parcoords\": [{\"line\": {\"colorbar\": {\"outlinewidth\": 1, \"tickcolor\": \"rgb(36,36,36)\", \"ticks\": \"outside\"}}, \"type\": \"parcoords\"}], \"pie\": [{\"automargin\": true, \"type\": \"pie\"}], \"scatter\": [{\"marker\": {\"colorbar\": {\"outlinewidth\": 1, \"tickcolor\": \"rgb(36,36,36)\", \"ticks\": \"outside\"}}, \"type\": \"scatter\"}], \"scatter3d\": [{\"line\": {\"colorbar\": {\"outlinewidth\": 1, \"tickcolor\": \"rgb(36,36,36)\", \"ticks\": \"outside\"}}, \"marker\": {\"colorbar\": {\"outlinewidth\": 1, \"tickcolor\": \"rgb(36,36,36)\", \"ticks\": \"outside\"}}, \"type\": \"scatter3d\"}], \"scattercarpet\": [{\"marker\": {\"colorbar\": {\"outlinewidth\": 1, \"tickcolor\": \"rgb(36,36,36)\", \"ticks\": \"outside\"}}, \"type\": \"scattercarpet\"}], \"scattergeo\": [{\"marker\": {\"colorbar\": {\"outlinewidth\": 1, \"tickcolor\": \"rgb(36,36,36)\", \"ticks\": \"outside\"}}, \"type\": \"scattergeo\"}], \"scattergl\": [{\"marker\": {\"colorbar\": {\"outlinewidth\": 1, \"tickcolor\": \"rgb(36,36,36)\", \"ticks\": \"outside\"}}, \"type\": \"scattergl\"}], \"scattermapbox\": [{\"marker\": {\"colorbar\": {\"outlinewidth\": 1, \"tickcolor\": \"rgb(36,36,36)\", \"ticks\": \"outside\"}}, \"type\": \"scattermapbox\"}], \"scatterpolar\": [{\"marker\": {\"colorbar\": {\"outlinewidth\": 1, \"tickcolor\": \"rgb(36,36,36)\", \"ticks\": \"outside\"}}, \"type\": \"scatterpolar\"}], \"scatterpolargl\": [{\"marker\": {\"colorbar\": {\"outlinewidth\": 1, \"tickcolor\": \"rgb(36,36,36)\", \"ticks\": \"outside\"}}, \"type\": \"scatterpolargl\"}], \"scatterternary\": [{\"marker\": {\"colorbar\": {\"outlinewidth\": 1, \"tickcolor\": \"rgb(36,36,36)\", \"ticks\": \"outside\"}}, \"type\": \"scatterternary\"}], \"surface\": [{\"colorbar\": {\"outlinewidth\": 1, \"tickcolor\": \"rgb(36,36,36)\", \"ticks\": \"outside\"}, \"colorscale\": [[0.0, \"#440154\"], [0.1111111111111111, \"#482878\"], [0.2222222222222222, \"#3e4989\"], [0.3333333333333333, \"#31688e\"], [0.4444444444444444, \"#26828e\"], [0.5555555555555556, \"#1f9e89\"], [0.6666666666666666, \"#35b779\"], [0.7777777777777778, \"#6ece58\"], [0.8888888888888888, \"#b5de2b\"], [1.0, \"#fde725\"]], \"type\": \"surface\"}], \"table\": [{\"cells\": {\"fill\": {\"color\": \"rgb(237,237,237)\"}, \"line\": {\"color\": \"white\"}}, \"header\": {\"fill\": {\"color\": \"rgb(217,217,217)\"}, \"line\": {\"color\": \"white\"}}, \"type\": \"table\"}]}, \"layout\": {\"annotationdefaults\": {\"arrowhead\": 0, \"arrowwidth\": 1}, \"coloraxis\": {\"colorbar\": {\"outlinewidth\": 1, \"tickcolor\": \"rgb(36,36,36)\", \"ticks\": \"outside\"}}, \"colorscale\": {\"diverging\": [[0.0, \"rgb(103,0,31)\"], [0.1, \"rgb(178,24,43)\"], [0.2, \"rgb(214,96,77)\"], [0.3, \"rgb(244,165,130)\"], [0.4, \"rgb(253,219,199)\"], [0.5, \"rgb(247,247,247)\"], [0.6, \"rgb(209,229,240)\"], [0.7, \"rgb(146,197,222)\"], [0.8, \"rgb(67,147,195)\"], [0.9, \"rgb(33,102,172)\"], [1.0, \"rgb(5,48,97)\"]], \"sequential\": [[0.0, \"#440154\"], [0.1111111111111111, \"#482878\"], [0.2222222222222222, \"#3e4989\"], [0.3333333333333333, \"#31688e\"], [0.4444444444444444, \"#26828e\"], [0.5555555555555556, \"#1f9e89\"], [0.6666666666666666, \"#35b779\"], [0.7777777777777778, \"#6ece58\"], [0.8888888888888888, \"#b5de2b\"], [1.0, \"#fde725\"]], \"sequentialminus\": [[0.0, \"#440154\"], [0.1111111111111111, \"#482878\"], [0.2222222222222222, \"#3e4989\"], [0.3333333333333333, \"#31688e\"], [0.4444444444444444, \"#26828e\"], [0.5555555555555556, \"#1f9e89\"], [0.6666666666666666, \"#35b779\"], [0.7777777777777778, \"#6ece58\"], [0.8888888888888888, \"#b5de2b\"], [1.0, \"#fde725\"]]}, \"colorway\": [\"#1F77B4\", \"#FF7F0E\", \"#2CA02C\", \"#D62728\", \"#9467BD\", \"#8C564B\", \"#E377C2\", \"#7F7F7F\", \"#BCBD22\", \"#17BECF\"], \"font\": {\"color\": \"rgb(36,36,36)\"}, \"geo\": {\"bgcolor\": \"white\", \"lakecolor\": \"white\", \"landcolor\": \"white\", \"showlakes\": true, \"showland\": true, \"subunitcolor\": \"white\"}, \"hoverlabel\": {\"align\": \"left\"}, \"hovermode\": \"closest\", \"mapbox\": {\"style\": \"light\"}, \"paper_bgcolor\": \"white\", \"plot_bgcolor\": \"white\", \"polar\": {\"angularaxis\": {\"gridcolor\": \"rgb(232,232,232)\", \"linecolor\": \"rgb(36,36,36)\", \"showgrid\": false, \"showline\": true, \"ticks\": \"outside\"}, \"bgcolor\": \"white\", \"radialaxis\": {\"gridcolor\": \"rgb(232,232,232)\", \"linecolor\": \"rgb(36,36,36)\", \"showgrid\": false, \"showline\": true, \"ticks\": \"outside\"}}, \"scene\": {\"xaxis\": {\"backgroundcolor\": \"white\", \"gridcolor\": \"rgb(232,232,232)\", \"gridwidth\": 2, \"linecolor\": \"rgb(36,36,36)\", \"showbackground\": true, \"showgrid\": false, \"showline\": true, \"ticks\": \"outside\", \"zeroline\": false, \"zerolinecolor\": \"rgb(36,36,36)\"}, \"yaxis\": {\"backgroundcolor\": \"white\", \"gridcolor\": \"rgb(232,232,232)\", \"gridwidth\": 2, \"linecolor\": \"rgb(36,36,36)\", \"showbackground\": true, \"showgrid\": false, \"showline\": true, \"ticks\": \"outside\", \"zeroline\": false, \"zerolinecolor\": \"rgb(36,36,36)\"}, \"zaxis\": {\"backgroundcolor\": \"white\", \"gridcolor\": \"rgb(232,232,232)\", \"gridwidth\": 2, \"linecolor\": \"rgb(36,36,36)\", \"showbackground\": true, \"showgrid\": false, \"showline\": true, \"ticks\": \"outside\", \"zeroline\": false, \"zerolinecolor\": \"rgb(36,36,36)\"}}, \"shapedefaults\": {\"fillcolor\": \"black\", \"line\": {\"width\": 0}, \"opacity\": 0.3}, \"ternary\": {\"aaxis\": {\"gridcolor\": \"rgb(232,232,232)\", \"linecolor\": \"rgb(36,36,36)\", \"showgrid\": false, \"showline\": true, \"ticks\": \"outside\"}, \"baxis\": {\"gridcolor\": \"rgb(232,232,232)\", \"linecolor\": \"rgb(36,36,36)\", \"showgrid\": false, \"showline\": true, \"ticks\": \"outside\"}, \"bgcolor\": \"white\", \"caxis\": {\"gridcolor\": \"rgb(232,232,232)\", \"linecolor\": \"rgb(36,36,36)\", \"showgrid\": false, \"showline\": true, \"ticks\": \"outside\"}}, \"title\": {\"x\": 0.05}, \"xaxis\": {\"automargin\": true, \"gridcolor\": \"rgb(232,232,232)\", \"linecolor\": \"rgb(36,36,36)\", \"showgrid\": false, \"showline\": true, \"ticks\": \"outside\", \"title\": {\"standoff\": 15}, \"zeroline\": false, \"zerolinecolor\": \"rgb(36,36,36)\"}, \"yaxis\": {\"automargin\": true, \"gridcolor\": \"rgb(232,232,232)\", \"linecolor\": \"rgb(36,36,36)\", \"showgrid\": false, \"showline\": true, \"ticks\": \"outside\", \"title\": {\"standoff\": 15}, \"zeroline\": false, \"zerolinecolor\": \"rgb(36,36,36)\"}}}, \"title\": {\"text\": \"Comments Over Time\"}, \"xaxis\": {\"anchor\": \"y\", \"domain\": [0.0, 1.0], \"title\": {\"text\": \"Date\"}}, \"yaxis\": {\"anchor\": \"x\", \"domain\": [0.0, 1.0], \"title\": {\"text\": \"# Comments\"}, \"type\": \"log\"}},\n",
       "                        {\"responsive\": true}\n",
       "                    ).then(function(){\n",
       "                            \n",
       "var gd = document.getElementById('fa86004f-1ed7-4777-92ea-f505ca625d54');\n",
       "var x = new MutationObserver(function (mutations, observer) {{\n",
       "        var display = window.getComputedStyle(gd).display;\n",
       "        if (!display || display === 'none') {{\n",
       "            console.log([gd, 'removed!']);\n",
       "            Plotly.purge(gd);\n",
       "            observer.disconnect();\n",
       "        }}\n",
       "}});\n",
       "\n",
       "// Listen for the removal of the full notebook cells\n",
       "var notebookContainer = gd.closest('#notebook-container');\n",
       "if (notebookContainer) {{\n",
       "    x.observe(notebookContainer, {childList: true});\n",
       "}}\n",
       "\n",
       "// Listen for the clearing of the current output cell\n",
       "var outputEl = gd.closest('.output');\n",
       "if (outputEl) {{\n",
       "    x.observe(outputEl, {childList: true});\n",
       "}}\n",
       "\n",
       "                        })\n",
       "                };\n",
       "                });\n",
       "            </script>\n",
       "        </div>"
      ]
     },
     "metadata": {},
     "output_type": "display_data"
    }
   ],
   "source": [
    "args = {\n",
    "    \"x\": \"date\",\n",
    "    \"y\": \"count\",\n",
    "    \"color\": \"subreddit\",\n",
    "    \"line_shape\": \"spline\",\n",
    "    \"title\":  \"Comments Over Time\",\n",
    "    \"template\": \"simple_white\",\n",
    "    \"labels\": {\"count\": \"# Comments\", \"date\": \"Date\", \"subreddit\": \"Subreddit\"},\n",
    "    \"color_discrete_map\": mapping\n",
    "\n",
    "}\n",
    "\n",
    "fig = px.line(subreddit_comments,**args)\n",
    "fig.update_layout(\n",
    "    annotations=[\n",
    "        dict(\n",
    "            x=\"2019-02-24\",\n",
    "            y=np.log10(30000),\n",
    "            text=\"Yang AMA on /r/politics\",\n",
    "        )\n",
    "    ]\n",
    ")\n",
    "fig.update_yaxes(type=\"log\")\n",
    "\n",
    "fig.write_html(\"visualizations/temporal/{}_subreddit_counts.html\".format(TIME_FRAME))\n",
    "fig.show()"
   ]
  },
  {
   "cell_type": "markdown",
   "metadata": {},
   "source": [
    "## Dual Axes"
   ]
  },
  {
   "cell_type": "code",
   "execution_count": 63,
   "metadata": {
    "scrolled": false
   },
   "outputs": [
    {
     "data": {
      "application/vnd.plotly.v1+json": {
       "config": {
        "plotlyServerURL": "https://plot.ly"
       },
       "data": [
        {
         "line": {
          "color": "#636EFA",
          "dash": "dash",
          "shape": "spline"
         },
         "mode": "lines",
         "name": "JoeBiden Subreddit Comments",
         "type": "scatter",
         "x": [
          "2019-01-01T00:00:00",
          "2019-02-01T00:00:00",
          "2019-03-01T00:00:00",
          "2019-04-01T00:00:00",
          "2019-05-01T00:00:00",
          "2019-06-01T00:00:00",
          "2019-07-01T00:00:00",
          "2019-08-01T00:00:00",
          "2019-09-01T00:00:00",
          "2019-10-01T00:00:00",
          "2019-11-01T00:00:00",
          "2019-12-01T00:00:00"
         ],
         "xaxis": "x",
         "y": [
          1,
          11,
          36,
          839,
          1414,
          1531,
          1037,
          1825,
          1912,
          1156,
          1716,
          3825
         ],
         "yaxis": "y2"
        },
        {
         "line": {
          "color": "#EF553B",
          "dash": "dash",
          "shape": "spline"
         },
         "mode": "lines",
         "name": "SandersForPresident Subreddit Comments",
         "type": "scatter",
         "x": [
          "2019-01-01T00:00:00",
          "2019-02-01T00:00:00",
          "2019-03-01T00:00:00",
          "2019-04-01T00:00:00",
          "2019-05-01T00:00:00",
          "2019-06-01T00:00:00",
          "2019-07-01T00:00:00",
          "2019-08-01T00:00:00",
          "2019-09-01T00:00:00",
          "2019-10-01T00:00:00",
          "2019-11-01T00:00:00",
          "2019-12-01T00:00:00"
         ],
         "xaxis": "x",
         "y": [
          22016,
          56683,
          67497,
          64758,
          37354,
          71863,
          57860,
          86820,
          79887,
          87907,
          71442,
          90414
         ],
         "yaxis": "y2"
        },
        {
         "line": {
          "color": "#00CC96",
          "dash": "dash",
          "shape": "spline"
         },
         "mode": "lines",
         "name": "BaemyKlobaechar Subreddit Comments",
         "type": "scatter",
         "x": [
          "2019-01-01T00:00:00",
          "2019-02-01T00:00:00",
          "2019-03-01T00:00:00",
          "2019-04-01T00:00:00",
          "2019-05-01T00:00:00",
          "2019-06-01T00:00:00",
          "2019-07-01T00:00:00",
          "2019-08-01T00:00:00",
          "2019-09-01T00:00:00",
          "2019-10-01T00:00:00",
          "2019-11-01T00:00:00",
          "2019-12-01T00:00:00"
         ],
         "xaxis": "x",
         "y": [
          101,
          239,
          28,
          31,
          13,
          47,
          22,
          107,
          136,
          139,
          82,
          211
         ],
         "yaxis": "y2"
        },
        {
         "line": {
          "color": "#AB63FA",
          "dash": "dash",
          "shape": "spline"
         },
         "mode": "lines",
         "name": "ElizabethWarren Subreddit Comments",
         "type": "scatter",
         "x": [
          "2019-01-01T00:00:00",
          "2019-02-01T00:00:00",
          "2019-03-01T00:00:00",
          "2019-04-01T00:00:00",
          "2019-05-01T00:00:00",
          "2019-06-01T00:00:00",
          "2019-07-01T00:00:00",
          "2019-08-01T00:00:00",
          "2019-09-01T00:00:00",
          "2019-10-01T00:00:00",
          "2019-11-01T00:00:00",
          "2019-12-01T00:00:00"
         ],
         "xaxis": "x",
         "y": [
          454,
          445,
          366,
          1561,
          2921,
          7242,
          7370,
          8759,
          13839,
          19781,
          17708,
          11451
         ],
         "yaxis": "y2"
        },
        {
         "line": {
          "color": "#FFA15A",
          "dash": "dash",
          "shape": "spline"
         },
         "mode": "lines",
         "name": "Pete_Buttigieg Subreddit Comments",
         "type": "scatter",
         "x": [
          "2019-01-01T00:00:00",
          "2019-02-01T00:00:00",
          "2019-03-01T00:00:00",
          "2019-04-01T00:00:00",
          "2019-05-01T00:00:00",
          "2019-06-01T00:00:00",
          "2019-07-01T00:00:00",
          "2019-08-01T00:00:00",
          "2019-09-01T00:00:00",
          "2019-10-01T00:00:00",
          "2019-11-01T00:00:00",
          "2019-12-01T00:00:00"
         ],
         "xaxis": "x",
         "y": [
          21,
          144,
          12604,
          48305,
          21619,
          27709,
          30785,
          22679,
          24136,
          35638,
          57412,
          73831
         ],
         "yaxis": "y2"
        },
        {
         "line": {
          "color": "#19D3F3",
          "dash": "dash",
          "shape": "spline"
         },
         "mode": "lines",
         "name": "YangForPresidentHQ Subreddit Comments",
         "type": "scatter",
         "x": [
          "2019-01-01T00:00:00",
          "2019-02-01T00:00:00",
          "2019-03-01T00:00:00",
          "2019-04-01T00:00:00",
          "2019-05-01T00:00:00",
          "2019-06-01T00:00:00",
          "2019-07-01T00:00:00",
          "2019-08-01T00:00:00",
          "2019-09-01T00:00:00",
          "2019-10-01T00:00:00",
          "2019-11-01T00:00:00",
          "2019-12-01T00:00:00"
         ],
         "xaxis": "x",
         "y": [
          95,
          3138,
          43978,
          53512,
          30442,
          62914,
          79167,
          176906,
          189596,
          165746,
          155684,
          225756
         ],
         "yaxis": "y2"
        },
        {
         "line": {
          "color": "#636EFA",
          "shape": "spline"
         },
         "mode": "lines",
         "name": "Joseph R. Biden Jr. Polling Avg",
         "type": "scatter",
         "x": [
          "2019-01-31T00:00:00",
          "2019-02-28T00:00:00",
          "2019-03-31T00:00:00",
          "2019-04-30T00:00:00",
          "2019-05-31T00:00:00",
          "2019-06-30T00:00:00",
          "2019-07-31T00:00:00",
          "2019-08-31T00:00:00",
          "2019-09-30T00:00:00",
          "2019-10-31T00:00:00",
          "2019-11-30T00:00:00",
          "2019-12-31T00:00:00",
          "2020-01-31T00:00:00",
          "2020-02-29T00:00:00",
          "2020-03-31T00:00:00"
         ],
         "xaxis": "x",
         "y": [
          0.26342710997442453,
          0.2702970297029703,
          0.2787958115183246,
          0.2396351575456053,
          0.22526817640047675,
          0.23087071240105542,
          0.21328671328671328,
          0.19055287171229202,
          0.1682727946627131,
          0.1836734693877551,
          0.1805993690851735,
          0.18830675778283978,
          0.18356164383561643,
          0.1620016963528414,
          0.3395638629283489
         ],
         "yaxis": "y"
        },
        {
         "line": {
          "color": "#EF553B",
          "shape": "spline"
         },
         "mode": "lines",
         "name": "Bernard Sanders Polling Avg",
         "type": "scatter",
         "x": [
          "2019-01-31T00:00:00",
          "2019-02-28T00:00:00",
          "2019-03-31T00:00:00",
          "2019-04-30T00:00:00",
          "2019-05-31T00:00:00",
          "2019-06-30T00:00:00",
          "2019-07-31T00:00:00",
          "2019-08-31T00:00:00",
          "2019-09-30T00:00:00",
          "2019-10-31T00:00:00",
          "2019-11-30T00:00:00",
          "2019-12-31T00:00:00",
          "2020-01-31T00:00:00",
          "2020-02-29T00:00:00",
          "2020-03-31T00:00:00"
         ],
         "xaxis": "x",
         "y": [
          0.31202046035805625,
          0.31683168316831684,
          0.3036649214659686,
          0.3043117744610282,
          0.2800953516090584,
          0.27506596306068604,
          0.2773892773892774,
          0.3070316693505099,
          0.2727946627131208,
          0.2819349962207105,
          0.2744479495268139,
          0.2900531511009871,
          0.2924657534246575,
          0.3672603901611535,
          0.573208722741433
         ],
         "yaxis": "y"
        },
        {
         "line": {
          "color": "#00CC96",
          "shape": "spline"
         },
         "mode": "lines",
         "name": "Amy Klobuchar Polling Avg",
         "type": "scatter",
         "x": [
          "2019-01-31T00:00:00",
          "2019-02-28T00:00:00",
          "2019-03-31T00:00:00",
          "2019-04-30T00:00:00",
          "2019-05-31T00:00:00",
          "2019-06-30T00:00:00",
          "2019-07-31T00:00:00",
          "2019-08-31T00:00:00",
          "2019-09-30T00:00:00",
          "2019-10-31T00:00:00",
          "2019-11-30T00:00:00",
          "2019-12-31T00:00:00",
          "2020-01-31T00:00:00",
          "2020-02-29T00:00:00",
          "2020-03-31T00:00:00"
         ],
         "xaxis": "x",
         "y": [
          0.020460358056265986,
          0.02574257425742574,
          0.032722513089005235,
          0.026533996683250415,
          0.023837902264600714,
          0.023746701846965697,
          0.02097902097902098,
          0.01932367149758454,
          0.026686434395848776,
          0.025699168556311415,
          0.02050473186119874,
          0.022779043280182234,
          0.03287671232876712,
          0.04240882103477523,
          0
         ],
         "yaxis": "y"
        },
        {
         "line": {
          "color": "#AB63FA",
          "shape": "spline"
         },
         "mode": "lines",
         "name": "Elizabeth Warren Polling Avg",
         "type": "scatter",
         "x": [
          "2019-01-31T00:00:00",
          "2019-02-28T00:00:00",
          "2019-03-31T00:00:00",
          "2019-04-30T00:00:00",
          "2019-05-31T00:00:00",
          "2019-06-30T00:00:00",
          "2019-07-31T00:00:00",
          "2019-08-31T00:00:00",
          "2019-09-30T00:00:00",
          "2019-10-31T00:00:00",
          "2019-11-30T00:00:00",
          "2019-12-31T00:00:00",
          "2020-01-31T00:00:00",
          "2020-02-29T00:00:00",
          "2020-03-31T00:00:00"
         ],
         "xaxis": "x",
         "y": [
          0.07672634271099744,
          0.10891089108910891,
          0.1243455497382199,
          0.1044776119402985,
          0.13230035756853398,
          0.1312664907651715,
          0.1561771561771562,
          0.16586151368760063,
          0.16160118606375093,
          0.17913832199546487,
          0.17429022082018927,
          0.16856492027334852,
          0.16095890410958905,
          0.18405428329092452,
          0
         ],
         "yaxis": "y"
        },
        {
         "line": {
          "color": "#FFA15A",
          "shape": "spline"
         },
         "mode": "lines",
         "name": "Pete Buttigieg Polling Avg",
         "type": "scatter",
         "x": [
          "2019-01-31T00:00:00",
          "2019-02-28T00:00:00",
          "2019-03-31T00:00:00",
          "2019-04-30T00:00:00",
          "2019-05-31T00:00:00",
          "2019-06-30T00:00:00",
          "2019-07-31T00:00:00",
          "2019-08-31T00:00:00",
          "2019-09-30T00:00:00",
          "2019-10-31T00:00:00",
          "2019-11-30T00:00:00",
          "2019-12-31T00:00:00",
          "2020-01-31T00:00:00",
          "2020-02-29T00:00:00",
          "2020-03-31T00:00:00"
         ],
         "xaxis": "x",
         "y": [
          0.01278772378516624,
          0.009900990099009901,
          0.02225130890052356,
          0.0505804311774461,
          0.06197854588796186,
          0.052110817941952506,
          0.06643356643356643,
          0.06763285024154589,
          0.05930318754633061,
          0.05895691609977324,
          0.06782334384858044,
          0.05618830675778284,
          0.06712328767123288,
          0.08736217133163698,
          0
         ],
         "yaxis": "y"
        },
        {
         "line": {
          "color": "#19D3F3",
          "shape": "spline"
         },
         "mode": "lines",
         "name": "Andrew Yang Polling Avg",
         "type": "scatter",
         "x": [
          "2019-01-31T00:00:00",
          "2019-02-28T00:00:00",
          "2019-03-31T00:00:00",
          "2019-04-30T00:00:00",
          "2019-05-31T00:00:00",
          "2019-06-30T00:00:00",
          "2019-07-31T00:00:00",
          "2019-08-31T00:00:00",
          "2019-09-30T00:00:00",
          "2019-10-31T00:00:00",
          "2019-11-30T00:00:00",
          "2019-12-31T00:00:00",
          "2020-01-31T00:00:00",
          "2020-02-29T00:00:00",
          "2020-03-31T00:00:00"
         ],
         "xaxis": "x",
         "y": [
          0,
          0,
          0.028795811518324606,
          0.0472636815920398,
          0.060786650774731825,
          0.06992084432717678,
          0.0675990675990676,
          0.08856682769726248,
          0.13269088213491476,
          0.13907785336356765,
          0.14826498422712933,
          0.14958238420653,
          0.15205479452054796,
          0.041560644614079725,
          0
         ],
         "yaxis": "y"
        }
       ],
       "layout": {
        "legend": {
         "orientation": "v",
         "x": 1.1,
         "xanchor": "left",
         "y": 1
        },
        "template": {
         "data": {
          "bar": [
           {
            "error_x": {
             "color": "rgb(36,36,36)"
            },
            "error_y": {
             "color": "rgb(36,36,36)"
            },
            "marker": {
             "line": {
              "color": "white",
              "width": 0.5
             }
            },
            "type": "bar"
           }
          ],
          "barpolar": [
           {
            "marker": {
             "line": {
              "color": "white",
              "width": 0.5
             }
            },
            "type": "barpolar"
           }
          ],
          "carpet": [
           {
            "aaxis": {
             "endlinecolor": "rgb(36,36,36)",
             "gridcolor": "white",
             "linecolor": "white",
             "minorgridcolor": "white",
             "startlinecolor": "rgb(36,36,36)"
            },
            "baxis": {
             "endlinecolor": "rgb(36,36,36)",
             "gridcolor": "white",
             "linecolor": "white",
             "minorgridcolor": "white",
             "startlinecolor": "rgb(36,36,36)"
            },
            "type": "carpet"
           }
          ],
          "choropleth": [
           {
            "colorbar": {
             "outlinewidth": 1,
             "tickcolor": "rgb(36,36,36)",
             "ticks": "outside"
            },
            "type": "choropleth"
           }
          ],
          "contour": [
           {
            "colorbar": {
             "outlinewidth": 1,
             "tickcolor": "rgb(36,36,36)",
             "ticks": "outside"
            },
            "colorscale": [
             [
              0,
              "#440154"
             ],
             [
              0.1111111111111111,
              "#482878"
             ],
             [
              0.2222222222222222,
              "#3e4989"
             ],
             [
              0.3333333333333333,
              "#31688e"
             ],
             [
              0.4444444444444444,
              "#26828e"
             ],
             [
              0.5555555555555556,
              "#1f9e89"
             ],
             [
              0.6666666666666666,
              "#35b779"
             ],
             [
              0.7777777777777778,
              "#6ece58"
             ],
             [
              0.8888888888888888,
              "#b5de2b"
             ],
             [
              1,
              "#fde725"
             ]
            ],
            "type": "contour"
           }
          ],
          "contourcarpet": [
           {
            "colorbar": {
             "outlinewidth": 1,
             "tickcolor": "rgb(36,36,36)",
             "ticks": "outside"
            },
            "type": "contourcarpet"
           }
          ],
          "heatmap": [
           {
            "colorbar": {
             "outlinewidth": 1,
             "tickcolor": "rgb(36,36,36)",
             "ticks": "outside"
            },
            "colorscale": [
             [
              0,
              "#440154"
             ],
             [
              0.1111111111111111,
              "#482878"
             ],
             [
              0.2222222222222222,
              "#3e4989"
             ],
             [
              0.3333333333333333,
              "#31688e"
             ],
             [
              0.4444444444444444,
              "#26828e"
             ],
             [
              0.5555555555555556,
              "#1f9e89"
             ],
             [
              0.6666666666666666,
              "#35b779"
             ],
             [
              0.7777777777777778,
              "#6ece58"
             ],
             [
              0.8888888888888888,
              "#b5de2b"
             ],
             [
              1,
              "#fde725"
             ]
            ],
            "type": "heatmap"
           }
          ],
          "heatmapgl": [
           {
            "colorbar": {
             "outlinewidth": 1,
             "tickcolor": "rgb(36,36,36)",
             "ticks": "outside"
            },
            "colorscale": [
             [
              0,
              "#440154"
             ],
             [
              0.1111111111111111,
              "#482878"
             ],
             [
              0.2222222222222222,
              "#3e4989"
             ],
             [
              0.3333333333333333,
              "#31688e"
             ],
             [
              0.4444444444444444,
              "#26828e"
             ],
             [
              0.5555555555555556,
              "#1f9e89"
             ],
             [
              0.6666666666666666,
              "#35b779"
             ],
             [
              0.7777777777777778,
              "#6ece58"
             ],
             [
              0.8888888888888888,
              "#b5de2b"
             ],
             [
              1,
              "#fde725"
             ]
            ],
            "type": "heatmapgl"
           }
          ],
          "histogram": [
           {
            "marker": {
             "line": {
              "color": "white",
              "width": 0.6
             }
            },
            "type": "histogram"
           }
          ],
          "histogram2d": [
           {
            "colorbar": {
             "outlinewidth": 1,
             "tickcolor": "rgb(36,36,36)",
             "ticks": "outside"
            },
            "colorscale": [
             [
              0,
              "#440154"
             ],
             [
              0.1111111111111111,
              "#482878"
             ],
             [
              0.2222222222222222,
              "#3e4989"
             ],
             [
              0.3333333333333333,
              "#31688e"
             ],
             [
              0.4444444444444444,
              "#26828e"
             ],
             [
              0.5555555555555556,
              "#1f9e89"
             ],
             [
              0.6666666666666666,
              "#35b779"
             ],
             [
              0.7777777777777778,
              "#6ece58"
             ],
             [
              0.8888888888888888,
              "#b5de2b"
             ],
             [
              1,
              "#fde725"
             ]
            ],
            "type": "histogram2d"
           }
          ],
          "histogram2dcontour": [
           {
            "colorbar": {
             "outlinewidth": 1,
             "tickcolor": "rgb(36,36,36)",
             "ticks": "outside"
            },
            "colorscale": [
             [
              0,
              "#440154"
             ],
             [
              0.1111111111111111,
              "#482878"
             ],
             [
              0.2222222222222222,
              "#3e4989"
             ],
             [
              0.3333333333333333,
              "#31688e"
             ],
             [
              0.4444444444444444,
              "#26828e"
             ],
             [
              0.5555555555555556,
              "#1f9e89"
             ],
             [
              0.6666666666666666,
              "#35b779"
             ],
             [
              0.7777777777777778,
              "#6ece58"
             ],
             [
              0.8888888888888888,
              "#b5de2b"
             ],
             [
              1,
              "#fde725"
             ]
            ],
            "type": "histogram2dcontour"
           }
          ],
          "mesh3d": [
           {
            "colorbar": {
             "outlinewidth": 1,
             "tickcolor": "rgb(36,36,36)",
             "ticks": "outside"
            },
            "type": "mesh3d"
           }
          ],
          "parcoords": [
           {
            "line": {
             "colorbar": {
              "outlinewidth": 1,
              "tickcolor": "rgb(36,36,36)",
              "ticks": "outside"
             }
            },
            "type": "parcoords"
           }
          ],
          "pie": [
           {
            "automargin": true,
            "type": "pie"
           }
          ],
          "scatter": [
           {
            "marker": {
             "colorbar": {
              "outlinewidth": 1,
              "tickcolor": "rgb(36,36,36)",
              "ticks": "outside"
             }
            },
            "type": "scatter"
           }
          ],
          "scatter3d": [
           {
            "line": {
             "colorbar": {
              "outlinewidth": 1,
              "tickcolor": "rgb(36,36,36)",
              "ticks": "outside"
             }
            },
            "marker": {
             "colorbar": {
              "outlinewidth": 1,
              "tickcolor": "rgb(36,36,36)",
              "ticks": "outside"
             }
            },
            "type": "scatter3d"
           }
          ],
          "scattercarpet": [
           {
            "marker": {
             "colorbar": {
              "outlinewidth": 1,
              "tickcolor": "rgb(36,36,36)",
              "ticks": "outside"
             }
            },
            "type": "scattercarpet"
           }
          ],
          "scattergeo": [
           {
            "marker": {
             "colorbar": {
              "outlinewidth": 1,
              "tickcolor": "rgb(36,36,36)",
              "ticks": "outside"
             }
            },
            "type": "scattergeo"
           }
          ],
          "scattergl": [
           {
            "marker": {
             "colorbar": {
              "outlinewidth": 1,
              "tickcolor": "rgb(36,36,36)",
              "ticks": "outside"
             }
            },
            "type": "scattergl"
           }
          ],
          "scattermapbox": [
           {
            "marker": {
             "colorbar": {
              "outlinewidth": 1,
              "tickcolor": "rgb(36,36,36)",
              "ticks": "outside"
             }
            },
            "type": "scattermapbox"
           }
          ],
          "scatterpolar": [
           {
            "marker": {
             "colorbar": {
              "outlinewidth": 1,
              "tickcolor": "rgb(36,36,36)",
              "ticks": "outside"
             }
            },
            "type": "scatterpolar"
           }
          ],
          "scatterpolargl": [
           {
            "marker": {
             "colorbar": {
              "outlinewidth": 1,
              "tickcolor": "rgb(36,36,36)",
              "ticks": "outside"
             }
            },
            "type": "scatterpolargl"
           }
          ],
          "scatterternary": [
           {
            "marker": {
             "colorbar": {
              "outlinewidth": 1,
              "tickcolor": "rgb(36,36,36)",
              "ticks": "outside"
             }
            },
            "type": "scatterternary"
           }
          ],
          "surface": [
           {
            "colorbar": {
             "outlinewidth": 1,
             "tickcolor": "rgb(36,36,36)",
             "ticks": "outside"
            },
            "colorscale": [
             [
              0,
              "#440154"
             ],
             [
              0.1111111111111111,
              "#482878"
             ],
             [
              0.2222222222222222,
              "#3e4989"
             ],
             [
              0.3333333333333333,
              "#31688e"
             ],
             [
              0.4444444444444444,
              "#26828e"
             ],
             [
              0.5555555555555556,
              "#1f9e89"
             ],
             [
              0.6666666666666666,
              "#35b779"
             ],
             [
              0.7777777777777778,
              "#6ece58"
             ],
             [
              0.8888888888888888,
              "#b5de2b"
             ],
             [
              1,
              "#fde725"
             ]
            ],
            "type": "surface"
           }
          ],
          "table": [
           {
            "cells": {
             "fill": {
              "color": "rgb(237,237,237)"
             },
             "line": {
              "color": "white"
             }
            },
            "header": {
             "fill": {
              "color": "rgb(217,217,217)"
             },
             "line": {
              "color": "white"
             }
            },
            "type": "table"
           }
          ]
         },
         "layout": {
          "annotationdefaults": {
           "arrowhead": 0,
           "arrowwidth": 1
          },
          "coloraxis": {
           "colorbar": {
            "outlinewidth": 1,
            "tickcolor": "rgb(36,36,36)",
            "ticks": "outside"
           }
          },
          "colorscale": {
           "diverging": [
            [
             0,
             "rgb(103,0,31)"
            ],
            [
             0.1,
             "rgb(178,24,43)"
            ],
            [
             0.2,
             "rgb(214,96,77)"
            ],
            [
             0.3,
             "rgb(244,165,130)"
            ],
            [
             0.4,
             "rgb(253,219,199)"
            ],
            [
             0.5,
             "rgb(247,247,247)"
            ],
            [
             0.6,
             "rgb(209,229,240)"
            ],
            [
             0.7,
             "rgb(146,197,222)"
            ],
            [
             0.8,
             "rgb(67,147,195)"
            ],
            [
             0.9,
             "rgb(33,102,172)"
            ],
            [
             1,
             "rgb(5,48,97)"
            ]
           ],
           "sequential": [
            [
             0,
             "#440154"
            ],
            [
             0.1111111111111111,
             "#482878"
            ],
            [
             0.2222222222222222,
             "#3e4989"
            ],
            [
             0.3333333333333333,
             "#31688e"
            ],
            [
             0.4444444444444444,
             "#26828e"
            ],
            [
             0.5555555555555556,
             "#1f9e89"
            ],
            [
             0.6666666666666666,
             "#35b779"
            ],
            [
             0.7777777777777778,
             "#6ece58"
            ],
            [
             0.8888888888888888,
             "#b5de2b"
            ],
            [
             1,
             "#fde725"
            ]
           ],
           "sequentialminus": [
            [
             0,
             "#440154"
            ],
            [
             0.1111111111111111,
             "#482878"
            ],
            [
             0.2222222222222222,
             "#3e4989"
            ],
            [
             0.3333333333333333,
             "#31688e"
            ],
            [
             0.4444444444444444,
             "#26828e"
            ],
            [
             0.5555555555555556,
             "#1f9e89"
            ],
            [
             0.6666666666666666,
             "#35b779"
            ],
            [
             0.7777777777777778,
             "#6ece58"
            ],
            [
             0.8888888888888888,
             "#b5de2b"
            ],
            [
             1,
             "#fde725"
            ]
           ]
          },
          "colorway": [
           "#1F77B4",
           "#FF7F0E",
           "#2CA02C",
           "#D62728",
           "#9467BD",
           "#8C564B",
           "#E377C2",
           "#7F7F7F",
           "#BCBD22",
           "#17BECF"
          ],
          "font": {
           "color": "rgb(36,36,36)"
          },
          "geo": {
           "bgcolor": "white",
           "lakecolor": "white",
           "landcolor": "white",
           "showlakes": true,
           "showland": true,
           "subunitcolor": "white"
          },
          "hoverlabel": {
           "align": "left"
          },
          "hovermode": "closest",
          "mapbox": {
           "style": "light"
          },
          "paper_bgcolor": "white",
          "plot_bgcolor": "white",
          "polar": {
           "angularaxis": {
            "gridcolor": "rgb(232,232,232)",
            "linecolor": "rgb(36,36,36)",
            "showgrid": false,
            "showline": true,
            "ticks": "outside"
           },
           "bgcolor": "white",
           "radialaxis": {
            "gridcolor": "rgb(232,232,232)",
            "linecolor": "rgb(36,36,36)",
            "showgrid": false,
            "showline": true,
            "ticks": "outside"
           }
          },
          "scene": {
           "xaxis": {
            "backgroundcolor": "white",
            "gridcolor": "rgb(232,232,232)",
            "gridwidth": 2,
            "linecolor": "rgb(36,36,36)",
            "showbackground": true,
            "showgrid": false,
            "showline": true,
            "ticks": "outside",
            "zeroline": false,
            "zerolinecolor": "rgb(36,36,36)"
           },
           "yaxis": {
            "backgroundcolor": "white",
            "gridcolor": "rgb(232,232,232)",
            "gridwidth": 2,
            "linecolor": "rgb(36,36,36)",
            "showbackground": true,
            "showgrid": false,
            "showline": true,
            "ticks": "outside",
            "zeroline": false,
            "zerolinecolor": "rgb(36,36,36)"
           },
           "zaxis": {
            "backgroundcolor": "white",
            "gridcolor": "rgb(232,232,232)",
            "gridwidth": 2,
            "linecolor": "rgb(36,36,36)",
            "showbackground": true,
            "showgrid": false,
            "showline": true,
            "ticks": "outside",
            "zeroline": false,
            "zerolinecolor": "rgb(36,36,36)"
           }
          },
          "shapedefaults": {
           "fillcolor": "black",
           "line": {
            "width": 0
           },
           "opacity": 0.3
          },
          "ternary": {
           "aaxis": {
            "gridcolor": "rgb(232,232,232)",
            "linecolor": "rgb(36,36,36)",
            "showgrid": false,
            "showline": true,
            "ticks": "outside"
           },
           "baxis": {
            "gridcolor": "rgb(232,232,232)",
            "linecolor": "rgb(36,36,36)",
            "showgrid": false,
            "showline": true,
            "ticks": "outside"
           },
           "bgcolor": "white",
           "caxis": {
            "gridcolor": "rgb(232,232,232)",
            "linecolor": "rgb(36,36,36)",
            "showgrid": false,
            "showline": true,
            "ticks": "outside"
           }
          },
          "title": {
           "x": 0.05
          },
          "xaxis": {
           "automargin": true,
           "gridcolor": "rgb(232,232,232)",
           "linecolor": "rgb(36,36,36)",
           "showgrid": false,
           "showline": true,
           "ticks": "outside",
           "title": {
            "standoff": 15
           },
           "zeroline": false,
           "zerolinecolor": "rgb(36,36,36)"
          },
          "yaxis": {
           "automargin": true,
           "gridcolor": "rgb(232,232,232)",
           "linecolor": "rgb(36,36,36)",
           "showgrid": false,
           "showline": true,
           "ticks": "outside",
           "title": {
            "standoff": 15
           },
           "zeroline": false,
           "zerolinecolor": "rgb(36,36,36)"
          }
         }
        },
        "title": {
         "text": "Dual Axis - Subreddit Comments and Polling Average (18-29 Age Group)"
        },
        "xaxis": {
         "anchor": "y",
         "domain": [
          0,
          0.94
         ],
         "title": {
          "text": "Date"
         }
        },
        "yaxis": {
         "anchor": "x",
         "domain": [
          0,
          1
         ],
         "title": {
          "text": "<b>Polling</b> Average"
         }
        },
        "yaxis2": {
         "anchor": "x",
         "overlaying": "y",
         "side": "right",
         "title": {
          "text": "<b>Subreddit</b> Comments"
         }
        }
       }
      },
      "text/html": [
       "<div>\n",
       "        \n",
       "        \n",
       "            <div id=\"3c8fab3a-06d2-41b1-bc77-4864a8eda661\" class=\"plotly-graph-div\" style=\"height:525px; width:100%;\"></div>\n",
       "            <script type=\"text/javascript\">\n",
       "                require([\"plotly\"], function(Plotly) {\n",
       "                    window.PLOTLYENV=window.PLOTLYENV || {};\n",
       "                    \n",
       "                if (document.getElementById(\"3c8fab3a-06d2-41b1-bc77-4864a8eda661\")) {\n",
       "                    Plotly.newPlot(\n",
       "                        '3c8fab3a-06d2-41b1-bc77-4864a8eda661',\n",
       "                        [{\"line\": {\"color\": \"#636EFA\", \"dash\": \"dash\", \"shape\": \"spline\"}, \"mode\": \"lines\", \"name\": \"JoeBiden Subreddit Comments\", \"type\": \"scatter\", \"x\": [\"2019-01-01T00:00:00\", \"2019-02-01T00:00:00\", \"2019-03-01T00:00:00\", \"2019-04-01T00:00:00\", \"2019-05-01T00:00:00\", \"2019-06-01T00:00:00\", \"2019-07-01T00:00:00\", \"2019-08-01T00:00:00\", \"2019-09-01T00:00:00\", \"2019-10-01T00:00:00\", \"2019-11-01T00:00:00\", \"2019-12-01T00:00:00\"], \"xaxis\": \"x\", \"y\": [1, 11, 36, 839, 1414, 1531, 1037, 1825, 1912, 1156, 1716, 3825], \"yaxis\": \"y2\"}, {\"line\": {\"color\": \"#EF553B\", \"dash\": \"dash\", \"shape\": \"spline\"}, \"mode\": \"lines\", \"name\": \"SandersForPresident Subreddit Comments\", \"type\": \"scatter\", \"x\": [\"2019-01-01T00:00:00\", \"2019-02-01T00:00:00\", \"2019-03-01T00:00:00\", \"2019-04-01T00:00:00\", \"2019-05-01T00:00:00\", \"2019-06-01T00:00:00\", \"2019-07-01T00:00:00\", \"2019-08-01T00:00:00\", \"2019-09-01T00:00:00\", \"2019-10-01T00:00:00\", \"2019-11-01T00:00:00\", \"2019-12-01T00:00:00\"], \"xaxis\": \"x\", \"y\": [22016, 56683, 67497, 64758, 37354, 71863, 57860, 86820, 79887, 87907, 71442, 90414], \"yaxis\": \"y2\"}, {\"line\": {\"color\": \"#00CC96\", \"dash\": \"dash\", \"shape\": \"spline\"}, \"mode\": \"lines\", \"name\": \"BaemyKlobaechar Subreddit Comments\", \"type\": \"scatter\", \"x\": [\"2019-01-01T00:00:00\", \"2019-02-01T00:00:00\", \"2019-03-01T00:00:00\", \"2019-04-01T00:00:00\", \"2019-05-01T00:00:00\", \"2019-06-01T00:00:00\", \"2019-07-01T00:00:00\", \"2019-08-01T00:00:00\", \"2019-09-01T00:00:00\", \"2019-10-01T00:00:00\", \"2019-11-01T00:00:00\", \"2019-12-01T00:00:00\"], \"xaxis\": \"x\", \"y\": [101, 239, 28, 31, 13, 47, 22, 107, 136, 139, 82, 211], \"yaxis\": \"y2\"}, {\"line\": {\"color\": \"#AB63FA\", \"dash\": \"dash\", \"shape\": \"spline\"}, \"mode\": \"lines\", \"name\": \"ElizabethWarren Subreddit Comments\", \"type\": \"scatter\", \"x\": [\"2019-01-01T00:00:00\", \"2019-02-01T00:00:00\", \"2019-03-01T00:00:00\", \"2019-04-01T00:00:00\", \"2019-05-01T00:00:00\", \"2019-06-01T00:00:00\", \"2019-07-01T00:00:00\", \"2019-08-01T00:00:00\", \"2019-09-01T00:00:00\", \"2019-10-01T00:00:00\", \"2019-11-01T00:00:00\", \"2019-12-01T00:00:00\"], \"xaxis\": \"x\", \"y\": [454, 445, 366, 1561, 2921, 7242, 7370, 8759, 13839, 19781, 17708, 11451], \"yaxis\": \"y2\"}, {\"line\": {\"color\": \"#FFA15A\", \"dash\": \"dash\", \"shape\": \"spline\"}, \"mode\": \"lines\", \"name\": \"Pete_Buttigieg Subreddit Comments\", \"type\": \"scatter\", \"x\": [\"2019-01-01T00:00:00\", \"2019-02-01T00:00:00\", \"2019-03-01T00:00:00\", \"2019-04-01T00:00:00\", \"2019-05-01T00:00:00\", \"2019-06-01T00:00:00\", \"2019-07-01T00:00:00\", \"2019-08-01T00:00:00\", \"2019-09-01T00:00:00\", \"2019-10-01T00:00:00\", \"2019-11-01T00:00:00\", \"2019-12-01T00:00:00\"], \"xaxis\": \"x\", \"y\": [21, 144, 12604, 48305, 21619, 27709, 30785, 22679, 24136, 35638, 57412, 73831], \"yaxis\": \"y2\"}, {\"line\": {\"color\": \"#19D3F3\", \"dash\": \"dash\", \"shape\": \"spline\"}, \"mode\": \"lines\", \"name\": \"YangForPresidentHQ Subreddit Comments\", \"type\": \"scatter\", \"x\": [\"2019-01-01T00:00:00\", \"2019-02-01T00:00:00\", \"2019-03-01T00:00:00\", \"2019-04-01T00:00:00\", \"2019-05-01T00:00:00\", \"2019-06-01T00:00:00\", \"2019-07-01T00:00:00\", \"2019-08-01T00:00:00\", \"2019-09-01T00:00:00\", \"2019-10-01T00:00:00\", \"2019-11-01T00:00:00\", \"2019-12-01T00:00:00\"], \"xaxis\": \"x\", \"y\": [95, 3138, 43978, 53512, 30442, 62914, 79167, 176906, 189596, 165746, 155684, 225756], \"yaxis\": \"y2\"}, {\"line\": {\"color\": \"#636EFA\", \"shape\": \"spline\"}, \"mode\": \"lines\", \"name\": \"Joseph R. Biden Jr. Polling Avg\", \"type\": \"scatter\", \"x\": [\"2019-01-31T00:00:00\", \"2019-02-28T00:00:00\", \"2019-03-31T00:00:00\", \"2019-04-30T00:00:00\", \"2019-05-31T00:00:00\", \"2019-06-30T00:00:00\", \"2019-07-31T00:00:00\", \"2019-08-31T00:00:00\", \"2019-09-30T00:00:00\", \"2019-10-31T00:00:00\", \"2019-11-30T00:00:00\", \"2019-12-31T00:00:00\", \"2020-01-31T00:00:00\", \"2020-02-29T00:00:00\", \"2020-03-31T00:00:00\"], \"xaxis\": \"x\", \"y\": [0.26342710997442453, 0.2702970297029703, 0.2787958115183246, 0.2396351575456053, 0.22526817640047675, 0.23087071240105542, 0.21328671328671328, 0.19055287171229202, 0.1682727946627131, 0.1836734693877551, 0.1805993690851735, 0.18830675778283978, 0.18356164383561643, 0.1620016963528414, 0.3395638629283489], \"yaxis\": \"y\"}, {\"line\": {\"color\": \"#EF553B\", \"shape\": \"spline\"}, \"mode\": \"lines\", \"name\": \"Bernard Sanders Polling Avg\", \"type\": \"scatter\", \"x\": [\"2019-01-31T00:00:00\", \"2019-02-28T00:00:00\", \"2019-03-31T00:00:00\", \"2019-04-30T00:00:00\", \"2019-05-31T00:00:00\", \"2019-06-30T00:00:00\", \"2019-07-31T00:00:00\", \"2019-08-31T00:00:00\", \"2019-09-30T00:00:00\", \"2019-10-31T00:00:00\", \"2019-11-30T00:00:00\", \"2019-12-31T00:00:00\", \"2020-01-31T00:00:00\", \"2020-02-29T00:00:00\", \"2020-03-31T00:00:00\"], \"xaxis\": \"x\", \"y\": [0.31202046035805625, 0.31683168316831684, 0.3036649214659686, 0.3043117744610282, 0.2800953516090584, 0.27506596306068604, 0.2773892773892774, 0.3070316693505099, 0.2727946627131208, 0.2819349962207105, 0.2744479495268139, 0.2900531511009871, 0.2924657534246575, 0.3672603901611535, 0.573208722741433], \"yaxis\": \"y\"}, {\"line\": {\"color\": \"#00CC96\", \"shape\": \"spline\"}, \"mode\": \"lines\", \"name\": \"Amy Klobuchar Polling Avg\", \"type\": \"scatter\", \"x\": [\"2019-01-31T00:00:00\", \"2019-02-28T00:00:00\", \"2019-03-31T00:00:00\", \"2019-04-30T00:00:00\", \"2019-05-31T00:00:00\", \"2019-06-30T00:00:00\", \"2019-07-31T00:00:00\", \"2019-08-31T00:00:00\", \"2019-09-30T00:00:00\", \"2019-10-31T00:00:00\", \"2019-11-30T00:00:00\", \"2019-12-31T00:00:00\", \"2020-01-31T00:00:00\", \"2020-02-29T00:00:00\", \"2020-03-31T00:00:00\"], \"xaxis\": \"x\", \"y\": [0.020460358056265986, 0.02574257425742574, 0.032722513089005235, 0.026533996683250415, 0.023837902264600714, 0.023746701846965697, 0.02097902097902098, 0.01932367149758454, 0.026686434395848776, 0.025699168556311415, 0.02050473186119874, 0.022779043280182234, 0.03287671232876712, 0.04240882103477523, 0.0], \"yaxis\": \"y\"}, {\"line\": {\"color\": \"#AB63FA\", \"shape\": \"spline\"}, \"mode\": \"lines\", \"name\": \"Elizabeth Warren Polling Avg\", \"type\": \"scatter\", \"x\": [\"2019-01-31T00:00:00\", \"2019-02-28T00:00:00\", \"2019-03-31T00:00:00\", \"2019-04-30T00:00:00\", \"2019-05-31T00:00:00\", \"2019-06-30T00:00:00\", \"2019-07-31T00:00:00\", \"2019-08-31T00:00:00\", \"2019-09-30T00:00:00\", \"2019-10-31T00:00:00\", \"2019-11-30T00:00:00\", \"2019-12-31T00:00:00\", \"2020-01-31T00:00:00\", \"2020-02-29T00:00:00\", \"2020-03-31T00:00:00\"], \"xaxis\": \"x\", \"y\": [0.07672634271099744, 0.10891089108910891, 0.1243455497382199, 0.1044776119402985, 0.13230035756853398, 0.1312664907651715, 0.1561771561771562, 0.16586151368760063, 0.16160118606375093, 0.17913832199546487, 0.17429022082018927, 0.16856492027334852, 0.16095890410958905, 0.18405428329092452, 0.0], \"yaxis\": \"y\"}, {\"line\": {\"color\": \"#FFA15A\", \"shape\": \"spline\"}, \"mode\": \"lines\", \"name\": \"Pete Buttigieg Polling Avg\", \"type\": \"scatter\", \"x\": [\"2019-01-31T00:00:00\", \"2019-02-28T00:00:00\", \"2019-03-31T00:00:00\", \"2019-04-30T00:00:00\", \"2019-05-31T00:00:00\", \"2019-06-30T00:00:00\", \"2019-07-31T00:00:00\", \"2019-08-31T00:00:00\", \"2019-09-30T00:00:00\", \"2019-10-31T00:00:00\", \"2019-11-30T00:00:00\", \"2019-12-31T00:00:00\", \"2020-01-31T00:00:00\", \"2020-02-29T00:00:00\", \"2020-03-31T00:00:00\"], \"xaxis\": \"x\", \"y\": [0.01278772378516624, 0.009900990099009901, 0.02225130890052356, 0.0505804311774461, 0.06197854588796186, 0.052110817941952506, 0.06643356643356643, 0.06763285024154589, 0.05930318754633061, 0.05895691609977324, 0.06782334384858044, 0.05618830675778284, 0.06712328767123288, 0.08736217133163698, 0.0], \"yaxis\": \"y\"}, {\"line\": {\"color\": \"#19D3F3\", \"shape\": \"spline\"}, \"mode\": \"lines\", \"name\": \"Andrew Yang Polling Avg\", \"type\": \"scatter\", \"x\": [\"2019-01-31T00:00:00\", \"2019-02-28T00:00:00\", \"2019-03-31T00:00:00\", \"2019-04-30T00:00:00\", \"2019-05-31T00:00:00\", \"2019-06-30T00:00:00\", \"2019-07-31T00:00:00\", \"2019-08-31T00:00:00\", \"2019-09-30T00:00:00\", \"2019-10-31T00:00:00\", \"2019-11-30T00:00:00\", \"2019-12-31T00:00:00\", \"2020-01-31T00:00:00\", \"2020-02-29T00:00:00\", \"2020-03-31T00:00:00\"], \"xaxis\": \"x\", \"y\": [0.0, 0.0, 0.028795811518324606, 0.0472636815920398, 0.060786650774731825, 0.06992084432717678, 0.0675990675990676, 0.08856682769726248, 0.13269088213491476, 0.13907785336356765, 0.14826498422712933, 0.14958238420653, 0.15205479452054796, 0.041560644614079725, 0.0], \"yaxis\": \"y\"}],\n",
       "                        {\"legend\": {\"orientation\": \"v\", \"x\": 1.1, \"xanchor\": \"left\", \"y\": 1}, \"template\": {\"data\": {\"bar\": [{\"error_x\": {\"color\": \"rgb(36,36,36)\"}, \"error_y\": {\"color\": \"rgb(36,36,36)\"}, \"marker\": {\"line\": {\"color\": \"white\", \"width\": 0.5}}, \"type\": \"bar\"}], \"barpolar\": [{\"marker\": {\"line\": {\"color\": \"white\", \"width\": 0.5}}, \"type\": \"barpolar\"}], \"carpet\": [{\"aaxis\": {\"endlinecolor\": \"rgb(36,36,36)\", \"gridcolor\": \"white\", \"linecolor\": \"white\", \"minorgridcolor\": \"white\", \"startlinecolor\": \"rgb(36,36,36)\"}, \"baxis\": {\"endlinecolor\": \"rgb(36,36,36)\", \"gridcolor\": \"white\", \"linecolor\": \"white\", \"minorgridcolor\": \"white\", \"startlinecolor\": \"rgb(36,36,36)\"}, \"type\": \"carpet\"}], \"choropleth\": [{\"colorbar\": {\"outlinewidth\": 1, \"tickcolor\": \"rgb(36,36,36)\", \"ticks\": \"outside\"}, \"type\": \"choropleth\"}], \"contour\": [{\"colorbar\": {\"outlinewidth\": 1, \"tickcolor\": \"rgb(36,36,36)\", \"ticks\": \"outside\"}, \"colorscale\": [[0.0, \"#440154\"], [0.1111111111111111, \"#482878\"], [0.2222222222222222, \"#3e4989\"], [0.3333333333333333, \"#31688e\"], [0.4444444444444444, \"#26828e\"], [0.5555555555555556, \"#1f9e89\"], [0.6666666666666666, \"#35b779\"], [0.7777777777777778, \"#6ece58\"], [0.8888888888888888, \"#b5de2b\"], [1.0, \"#fde725\"]], \"type\": \"contour\"}], \"contourcarpet\": [{\"colorbar\": {\"outlinewidth\": 1, \"tickcolor\": \"rgb(36,36,36)\", \"ticks\": \"outside\"}, \"type\": \"contourcarpet\"}], \"heatmap\": [{\"colorbar\": {\"outlinewidth\": 1, \"tickcolor\": \"rgb(36,36,36)\", \"ticks\": \"outside\"}, \"colorscale\": [[0.0, \"#440154\"], [0.1111111111111111, \"#482878\"], [0.2222222222222222, \"#3e4989\"], [0.3333333333333333, \"#31688e\"], [0.4444444444444444, \"#26828e\"], [0.5555555555555556, \"#1f9e89\"], [0.6666666666666666, \"#35b779\"], [0.7777777777777778, \"#6ece58\"], [0.8888888888888888, \"#b5de2b\"], [1.0, \"#fde725\"]], \"type\": \"heatmap\"}], \"heatmapgl\": [{\"colorbar\": {\"outlinewidth\": 1, \"tickcolor\": \"rgb(36,36,36)\", \"ticks\": \"outside\"}, \"colorscale\": [[0.0, \"#440154\"], [0.1111111111111111, \"#482878\"], [0.2222222222222222, \"#3e4989\"], [0.3333333333333333, \"#31688e\"], [0.4444444444444444, \"#26828e\"], [0.5555555555555556, \"#1f9e89\"], [0.6666666666666666, \"#35b779\"], [0.7777777777777778, \"#6ece58\"], [0.8888888888888888, \"#b5de2b\"], [1.0, \"#fde725\"]], \"type\": \"heatmapgl\"}], \"histogram\": [{\"marker\": {\"line\": {\"color\": \"white\", \"width\": 0.6}}, \"type\": \"histogram\"}], \"histogram2d\": [{\"colorbar\": {\"outlinewidth\": 1, \"tickcolor\": \"rgb(36,36,36)\", \"ticks\": \"outside\"}, \"colorscale\": [[0.0, \"#440154\"], [0.1111111111111111, \"#482878\"], [0.2222222222222222, \"#3e4989\"], [0.3333333333333333, \"#31688e\"], [0.4444444444444444, \"#26828e\"], [0.5555555555555556, \"#1f9e89\"], [0.6666666666666666, \"#35b779\"], [0.7777777777777778, \"#6ece58\"], [0.8888888888888888, \"#b5de2b\"], [1.0, \"#fde725\"]], \"type\": \"histogram2d\"}], \"histogram2dcontour\": [{\"colorbar\": {\"outlinewidth\": 1, \"tickcolor\": \"rgb(36,36,36)\", \"ticks\": \"outside\"}, \"colorscale\": [[0.0, \"#440154\"], [0.1111111111111111, \"#482878\"], [0.2222222222222222, \"#3e4989\"], [0.3333333333333333, \"#31688e\"], [0.4444444444444444, \"#26828e\"], [0.5555555555555556, \"#1f9e89\"], [0.6666666666666666, \"#35b779\"], [0.7777777777777778, \"#6ece58\"], [0.8888888888888888, \"#b5de2b\"], [1.0, \"#fde725\"]], \"type\": \"histogram2dcontour\"}], \"mesh3d\": [{\"colorbar\": {\"outlinewidth\": 1, \"tickcolor\": \"rgb(36,36,36)\", \"ticks\": \"outside\"}, \"type\": \"mesh3d\"}], \"parcoords\": [{\"line\": {\"colorbar\": {\"outlinewidth\": 1, \"tickcolor\": \"rgb(36,36,36)\", \"ticks\": \"outside\"}}, \"type\": \"parcoords\"}], \"pie\": [{\"automargin\": true, \"type\": \"pie\"}], \"scatter\": [{\"marker\": {\"colorbar\": {\"outlinewidth\": 1, \"tickcolor\": \"rgb(36,36,36)\", \"ticks\": \"outside\"}}, \"type\": \"scatter\"}], \"scatter3d\": [{\"line\": {\"colorbar\": {\"outlinewidth\": 1, \"tickcolor\": \"rgb(36,36,36)\", \"ticks\": \"outside\"}}, \"marker\": {\"colorbar\": {\"outlinewidth\": 1, \"tickcolor\": \"rgb(36,36,36)\", \"ticks\": \"outside\"}}, \"type\": \"scatter3d\"}], \"scattercarpet\": [{\"marker\": {\"colorbar\": {\"outlinewidth\": 1, \"tickcolor\": \"rgb(36,36,36)\", \"ticks\": \"outside\"}}, \"type\": \"scattercarpet\"}], \"scattergeo\": [{\"marker\": {\"colorbar\": {\"outlinewidth\": 1, \"tickcolor\": \"rgb(36,36,36)\", \"ticks\": \"outside\"}}, \"type\": \"scattergeo\"}], \"scattergl\": [{\"marker\": {\"colorbar\": {\"outlinewidth\": 1, \"tickcolor\": \"rgb(36,36,36)\", \"ticks\": \"outside\"}}, \"type\": \"scattergl\"}], \"scattermapbox\": [{\"marker\": {\"colorbar\": {\"outlinewidth\": 1, \"tickcolor\": \"rgb(36,36,36)\", \"ticks\": \"outside\"}}, \"type\": \"scattermapbox\"}], \"scatterpolar\": [{\"marker\": {\"colorbar\": {\"outlinewidth\": 1, \"tickcolor\": \"rgb(36,36,36)\", \"ticks\": \"outside\"}}, \"type\": \"scatterpolar\"}], \"scatterpolargl\": [{\"marker\": {\"colorbar\": {\"outlinewidth\": 1, \"tickcolor\": \"rgb(36,36,36)\", \"ticks\": \"outside\"}}, \"type\": \"scatterpolargl\"}], \"scatterternary\": [{\"marker\": {\"colorbar\": {\"outlinewidth\": 1, \"tickcolor\": \"rgb(36,36,36)\", \"ticks\": \"outside\"}}, \"type\": \"scatterternary\"}], \"surface\": [{\"colorbar\": {\"outlinewidth\": 1, \"tickcolor\": \"rgb(36,36,36)\", \"ticks\": \"outside\"}, \"colorscale\": [[0.0, \"#440154\"], [0.1111111111111111, \"#482878\"], [0.2222222222222222, \"#3e4989\"], [0.3333333333333333, \"#31688e\"], [0.4444444444444444, \"#26828e\"], [0.5555555555555556, \"#1f9e89\"], [0.6666666666666666, \"#35b779\"], [0.7777777777777778, \"#6ece58\"], [0.8888888888888888, \"#b5de2b\"], [1.0, \"#fde725\"]], \"type\": \"surface\"}], \"table\": [{\"cells\": {\"fill\": {\"color\": \"rgb(237,237,237)\"}, \"line\": {\"color\": \"white\"}}, \"header\": {\"fill\": {\"color\": \"rgb(217,217,217)\"}, \"line\": {\"color\": \"white\"}}, \"type\": \"table\"}]}, \"layout\": {\"annotationdefaults\": {\"arrowhead\": 0, \"arrowwidth\": 1}, \"coloraxis\": {\"colorbar\": {\"outlinewidth\": 1, \"tickcolor\": \"rgb(36,36,36)\", \"ticks\": \"outside\"}}, \"colorscale\": {\"diverging\": [[0.0, \"rgb(103,0,31)\"], [0.1, \"rgb(178,24,43)\"], [0.2, \"rgb(214,96,77)\"], [0.3, \"rgb(244,165,130)\"], [0.4, \"rgb(253,219,199)\"], [0.5, \"rgb(247,247,247)\"], [0.6, \"rgb(209,229,240)\"], [0.7, \"rgb(146,197,222)\"], [0.8, \"rgb(67,147,195)\"], [0.9, \"rgb(33,102,172)\"], [1.0, \"rgb(5,48,97)\"]], \"sequential\": [[0.0, \"#440154\"], [0.1111111111111111, \"#482878\"], [0.2222222222222222, \"#3e4989\"], [0.3333333333333333, \"#31688e\"], [0.4444444444444444, \"#26828e\"], [0.5555555555555556, \"#1f9e89\"], [0.6666666666666666, \"#35b779\"], [0.7777777777777778, \"#6ece58\"], [0.8888888888888888, \"#b5de2b\"], [1.0, \"#fde725\"]], \"sequentialminus\": [[0.0, \"#440154\"], [0.1111111111111111, \"#482878\"], [0.2222222222222222, \"#3e4989\"], [0.3333333333333333, \"#31688e\"], [0.4444444444444444, \"#26828e\"], [0.5555555555555556, \"#1f9e89\"], [0.6666666666666666, \"#35b779\"], [0.7777777777777778, \"#6ece58\"], [0.8888888888888888, \"#b5de2b\"], [1.0, \"#fde725\"]]}, \"colorway\": [\"#1F77B4\", \"#FF7F0E\", \"#2CA02C\", \"#D62728\", \"#9467BD\", \"#8C564B\", \"#E377C2\", \"#7F7F7F\", \"#BCBD22\", \"#17BECF\"], \"font\": {\"color\": \"rgb(36,36,36)\"}, \"geo\": {\"bgcolor\": \"white\", \"lakecolor\": \"white\", \"landcolor\": \"white\", \"showlakes\": true, \"showland\": true, \"subunitcolor\": \"white\"}, \"hoverlabel\": {\"align\": \"left\"}, \"hovermode\": \"closest\", \"mapbox\": {\"style\": \"light\"}, \"paper_bgcolor\": \"white\", \"plot_bgcolor\": \"white\", \"polar\": {\"angularaxis\": {\"gridcolor\": \"rgb(232,232,232)\", \"linecolor\": \"rgb(36,36,36)\", \"showgrid\": false, \"showline\": true, \"ticks\": \"outside\"}, \"bgcolor\": \"white\", \"radialaxis\": {\"gridcolor\": \"rgb(232,232,232)\", \"linecolor\": \"rgb(36,36,36)\", \"showgrid\": false, \"showline\": true, \"ticks\": \"outside\"}}, \"scene\": {\"xaxis\": {\"backgroundcolor\": \"white\", \"gridcolor\": \"rgb(232,232,232)\", \"gridwidth\": 2, \"linecolor\": \"rgb(36,36,36)\", \"showbackground\": true, \"showgrid\": false, \"showline\": true, \"ticks\": \"outside\", \"zeroline\": false, \"zerolinecolor\": \"rgb(36,36,36)\"}, \"yaxis\": {\"backgroundcolor\": \"white\", \"gridcolor\": \"rgb(232,232,232)\", \"gridwidth\": 2, \"linecolor\": \"rgb(36,36,36)\", \"showbackground\": true, \"showgrid\": false, \"showline\": true, \"ticks\": \"outside\", \"zeroline\": false, \"zerolinecolor\": \"rgb(36,36,36)\"}, \"zaxis\": {\"backgroundcolor\": \"white\", \"gridcolor\": \"rgb(232,232,232)\", \"gridwidth\": 2, \"linecolor\": \"rgb(36,36,36)\", \"showbackground\": true, \"showgrid\": false, \"showline\": true, \"ticks\": \"outside\", \"zeroline\": false, \"zerolinecolor\": \"rgb(36,36,36)\"}}, \"shapedefaults\": {\"fillcolor\": \"black\", \"line\": {\"width\": 0}, \"opacity\": 0.3}, \"ternary\": {\"aaxis\": {\"gridcolor\": \"rgb(232,232,232)\", \"linecolor\": \"rgb(36,36,36)\", \"showgrid\": false, \"showline\": true, \"ticks\": \"outside\"}, \"baxis\": {\"gridcolor\": \"rgb(232,232,232)\", \"linecolor\": \"rgb(36,36,36)\", \"showgrid\": false, \"showline\": true, \"ticks\": \"outside\"}, \"bgcolor\": \"white\", \"caxis\": {\"gridcolor\": \"rgb(232,232,232)\", \"linecolor\": \"rgb(36,36,36)\", \"showgrid\": false, \"showline\": true, \"ticks\": \"outside\"}}, \"title\": {\"x\": 0.05}, \"xaxis\": {\"automargin\": true, \"gridcolor\": \"rgb(232,232,232)\", \"linecolor\": \"rgb(36,36,36)\", \"showgrid\": false, \"showline\": true, \"ticks\": \"outside\", \"title\": {\"standoff\": 15}, \"zeroline\": false, \"zerolinecolor\": \"rgb(36,36,36)\"}, \"yaxis\": {\"automargin\": true, \"gridcolor\": \"rgb(232,232,232)\", \"linecolor\": \"rgb(36,36,36)\", \"showgrid\": false, \"showline\": true, \"ticks\": \"outside\", \"title\": {\"standoff\": 15}, \"zeroline\": false, \"zerolinecolor\": \"rgb(36,36,36)\"}}}, \"title\": {\"text\": \"Dual Axis - Subreddit Comments and Polling Average (18-29 Age Group)\"}, \"xaxis\": {\"anchor\": \"y\", \"domain\": [0.0, 0.94], \"title\": {\"text\": \"Date\"}}, \"yaxis\": {\"anchor\": \"x\", \"domain\": [0.0, 1.0], \"title\": {\"text\": \"<b>Polling</b> Average\"}}, \"yaxis2\": {\"anchor\": \"x\", \"overlaying\": \"y\", \"side\": \"right\", \"title\": {\"text\": \"<b>Subreddit</b> Comments\"}}},\n",
       "                        {\"responsive\": true}\n",
       "                    ).then(function(){\n",
       "                            \n",
       "var gd = document.getElementById('3c8fab3a-06d2-41b1-bc77-4864a8eda661');\n",
       "var x = new MutationObserver(function (mutations, observer) {{\n",
       "        var display = window.getComputedStyle(gd).display;\n",
       "        if (!display || display === 'none') {{\n",
       "            console.log([gd, 'removed!']);\n",
       "            Plotly.purge(gd);\n",
       "            observer.disconnect();\n",
       "        }}\n",
       "}});\n",
       "\n",
       "// Listen for the removal of the full notebook cells\n",
       "var notebookContainer = gd.closest('#notebook-container');\n",
       "if (notebookContainer) {{\n",
       "    x.observe(notebookContainer, {childList: true});\n",
       "}}\n",
       "\n",
       "// Listen for the clearing of the current output cell\n",
       "var outputEl = gd.closest('.output');\n",
       "if (outputEl) {{\n",
       "    x.observe(outputEl, {childList: true});\n",
       "}}\n",
       "\n",
       "                        })\n",
       "                };\n",
       "                });\n",
       "            </script>\n",
       "        </div>"
      ]
     },
     "metadata": {},
     "output_type": "display_data"
    }
   ],
   "source": [
    "from plotly.subplots import make_subplots\n",
    "\n",
    "# Create figure with secondary y-axis\n",
    "fig = make_subplots(specs=[[{\"secondary_y\": True}]])\n",
    "\n",
    "# Add subreddit comments\n",
    "for sub in left_candidates:\n",
    "    data = subreddit_comments[subreddit_comments[\"subreddit\"] == sub]\n",
    "    fig.add_trace(\n",
    "        go.Scatter(x=data[\"date\"],\n",
    "                   y=data[\"count\"],\n",
    "                   name=\"{} Subreddit Comments\".format(sub),\n",
    "                   line_shape=\"spline\",\n",
    "                   mode='lines',\n",
    "                   line=dict(color=mapping[sub],dash='dash')),\n",
    "        secondary_y=True)\n",
    "\n",
    "# Add from media coverage\n",
    "for cand,col in zip(pretty_names,concat_col_names):\n",
    "    fig.add_trace(go.Scatter(x=polling_agg[\"date\"],\n",
    "                             y=polling_agg[col], \n",
    "                             mode='lines',\n",
    "                             line_shape=\"spline\",\n",
    "                             name=\"{} Polling Avg\".format(cand),\n",
    "                             line=dict(color=poll_mapping[cand])\n",
    "                            ),\n",
    "                 secondary_y=False)\n",
    "\n",
    "\n",
    "\n",
    "# Add figure title\n",
    "fig.update_layout(\n",
    "    title_text=\"Dual Axis - Subreddit Comments and Polling Average (18-29 Age Group)\",\n",
    "    template=\"simple_white\",\n",
    "    legend=dict(orientation='v', x=1.1, xanchor='left', y=1),\n",
    ")\n",
    "\n",
    "fig.update_xaxes(title_text=\"Date\")\n",
    "\n",
    "# Set y-axes titles\n",
    "fig.update_yaxes(title_text=\"<b>Polling</b> Average\", secondary_y=False)\n",
    "fig.update_yaxes(title_text=\"<b>Subreddit</b> Comments\", secondary_y=True)\n",
    "# fig.write_html(\"visualizations/temporal/{}_BI_counts_vs_polling_avg-YOUNG.html\".format(TIME_FRAME))\n",
    "fig.show()"
   ]
  },
  {
   "cell_type": "markdown",
   "metadata": {},
   "source": [
    "## Unique Commenters Over Time"
   ]
  },
  {
   "cell_type": "code",
   "execution_count": 6,
   "metadata": {},
   "outputs": [
    {
     "name": "stdout",
     "output_type": "stream",
     "text": [
      "+--------------------+--------------------+-----+\n",
      "|           subreddit|            username|count|\n",
      "+--------------------+--------------------+-----+\n",
      "|(SandersForPresid...|        Japsenpapsen|   43|\n",
      "|(YangForPresident...|          JonWood007|  325|\n",
      "|(SandersForPresid...|        vegasaquinas|   17|\n",
      "|(SandersForPresid...|            Andy1816|  138|\n",
      "|(SandersForPresid...|      SharonLougheed|    5|\n",
      "|(SandersForPresid...|             sethu85|    3|\n",
      "|(YangForPresident...|     the_lamplighter|    3|\n",
      "|(SandersForPresid...|SnapesGrayUnderpants|    5|\n",
      "|(SandersForPresid...|          lapacheco7|   13|\n",
      "|(SandersForPresid...|            Anbaheni|    3|\n",
      "|(SandersForPresid...|            Herollit|    2|\n",
      "|(YangForPresident...|         javaknight1|   12|\n",
      "|(SandersForPresid...|           h2o_demon|    1|\n",
      "|(SandersForPresid...|  StoleAGoodUsername|    1|\n",
      "|(SandersForPresid...|           BloosCorn|    2|\n",
      "|(SandersForPresid...|        carminedg123|   76|\n",
      "|(SandersForPresid...|           sodafishy|    6|\n",
      "|(SandersForPresid...|          wastedvote|   21|\n",
      "|(SandersForPresid...|      Kaiser_Winhelm|    1|\n",
      "|(SandersForPresid...|           The_Schwy|   56|\n",
      "+--------------------+--------------------+-----+\n",
      "only showing top 20 rows\n",
      "\n"
     ]
    }
   ],
   "source": [
    "import findspark\n",
    "findspark.init(\"/h/224/cameron/spark-3.0.0-preview2-bin-hadoop2.7\")\n",
    "from pyspark.sql import SparkSession\n",
    "from pyspark.sql.functions import *\n",
    "from pyspark.sql.types import StructType, StructField, IntegerType,StringType\n",
    "\n",
    "schema = StructType([\n",
    "    StructField(\"subreddit\", StringType(), True),\n",
    "    StructField(\"username\", StringType(), True),\n",
    "    StructField(\"count\", IntegerType(), True)])\n",
    "\n",
    "spark = SparkSession.builder.getOrCreate()\n",
    "spark.sparkContext.getConf().getAll()\n",
    "\n",
    "s_user_comments = spark.read.format(\"csv\").option(\"sep\", \" \").option(\"header\", False).load(\"temp/temporal/monthly_data\",schema=schema)\n",
    "s_user_comments = s_user_comments.where(s_user_comments['subreddit'].rlike(\"|\".join([\"(\" + cand + \")\" for cand in left_candidates])))\n",
    "s_user_comments.show()"
   ]
  },
  {
   "cell_type": "code",
   "execution_count": 12,
   "metadata": {
    "scrolled": false
   },
   "outputs": [
    {
     "data": {
      "text/html": [
       "<div>\n",
       "<style scoped>\n",
       "    .dataframe tbody tr th:only-of-type {\n",
       "        vertical-align: middle;\n",
       "    }\n",
       "\n",
       "    .dataframe tbody tr th {\n",
       "        vertical-align: top;\n",
       "    }\n",
       "\n",
       "    .dataframe thead th {\n",
       "        text-align: right;\n",
       "    }\n",
       "</style>\n",
       "<table border=\"1\" class=\"dataframe\">\n",
       "  <thead>\n",
       "    <tr style=\"text-align: right;\">\n",
       "      <th></th>\n",
       "      <th>subreddit</th>\n",
       "      <th>date</th>\n",
       "      <th>n_unique</th>\n",
       "    </tr>\n",
       "  </thead>\n",
       "  <tbody>\n",
       "    <tr>\n",
       "      <th>0</th>\n",
       "      <td>BaemyKlobaechar</td>\n",
       "      <td>2019-01-01</td>\n",
       "      <td>37</td>\n",
       "    </tr>\n",
       "    <tr>\n",
       "      <th>1</th>\n",
       "      <td>ElizabethWarren</td>\n",
       "      <td>2019-01-01</td>\n",
       "      <td>120</td>\n",
       "    </tr>\n",
       "    <tr>\n",
       "      <th>2</th>\n",
       "      <td>JoeBiden</td>\n",
       "      <td>2019-01-01</td>\n",
       "      <td>1</td>\n",
       "    </tr>\n",
       "    <tr>\n",
       "      <th>3</th>\n",
       "      <td>Pete_Buttigieg</td>\n",
       "      <td>2019-01-01</td>\n",
       "      <td>8</td>\n",
       "    </tr>\n",
       "    <tr>\n",
       "      <th>4</th>\n",
       "      <td>SandersForPresident</td>\n",
       "      <td>2019-01-01</td>\n",
       "      <td>5508</td>\n",
       "    </tr>\n",
       "    <tr>\n",
       "      <th>...</th>\n",
       "      <td>...</td>\n",
       "      <td>...</td>\n",
       "      <td>...</td>\n",
       "    </tr>\n",
       "    <tr>\n",
       "      <th>67</th>\n",
       "      <td>ElizabethWarren</td>\n",
       "      <td>2019-12-01</td>\n",
       "      <td>1668</td>\n",
       "    </tr>\n",
       "    <tr>\n",
       "      <th>68</th>\n",
       "      <td>JoeBiden</td>\n",
       "      <td>2019-12-01</td>\n",
       "      <td>416</td>\n",
       "    </tr>\n",
       "    <tr>\n",
       "      <th>69</th>\n",
       "      <td>Pete_Buttigieg</td>\n",
       "      <td>2019-12-01</td>\n",
       "      <td>3520</td>\n",
       "    </tr>\n",
       "    <tr>\n",
       "      <th>70</th>\n",
       "      <td>SandersForPresident</td>\n",
       "      <td>2019-12-01</td>\n",
       "      <td>18982</td>\n",
       "    </tr>\n",
       "    <tr>\n",
       "      <th>71</th>\n",
       "      <td>YangForPresidentHQ</td>\n",
       "      <td>2019-12-01</td>\n",
       "      <td>17411</td>\n",
       "    </tr>\n",
       "  </tbody>\n",
       "</table>\n",
       "<p>72 rows × 3 columns</p>\n",
       "</div>"
      ],
      "text/plain": [
       "              subreddit       date  n_unique\n",
       "0       BaemyKlobaechar 2019-01-01        37\n",
       "1       ElizabethWarren 2019-01-01       120\n",
       "2              JoeBiden 2019-01-01         1\n",
       "3        Pete_Buttigieg 2019-01-01         8\n",
       "4   SandersForPresident 2019-01-01      5508\n",
       "..                  ...        ...       ...\n",
       "67      ElizabethWarren 2019-12-01      1668\n",
       "68             JoeBiden 2019-12-01       416\n",
       "69       Pete_Buttigieg 2019-12-01      3520\n",
       "70  SandersForPresident 2019-12-01     18982\n",
       "71   YangForPresidentHQ 2019-12-01     17411\n",
       "\n",
       "[72 rows x 3 columns]"
      ]
     },
     "execution_count": 12,
     "metadata": {},
     "output_type": "execute_result"
    }
   ],
   "source": [
    "user_comments = s_user_comments.toPandas()\n",
    "user_comments['subreddit'], user_comments['date'] = zip(*user_comments['subreddit'].apply(lambda x: parse_tup(x,date_str=\"%d/%m/%Y\")))\n",
    "n_unique = user_comments.groupby([\"subreddit\",\"date\"])['username'].nunique().reset_index().sort_values([\"date\",\"subreddit\"]).reset_index(drop=True)\n",
    "n_unique = n_unique.rename({\"username\": 'n_unique'},axis=1)\n",
    "n_unique"
   ]
  },
  {
   "cell_type": "code",
   "execution_count": 23,
   "metadata": {
    "scrolled": false
   },
   "outputs": [
    {
     "data": {
      "application/vnd.plotly.v1+json": {
       "config": {
        "plotlyServerURL": "https://plot.ly"
       },
       "data": [
        {
         "hovertemplate": "Subreddit=BaemyKlobaechar<br>Month=%{x}<br>Unique Commenters=%{y}<extra></extra>",
         "legendgroup": "BaemyKlobaechar",
         "line": {
          "color": "#00CC96",
          "dash": "solid",
          "shape": "spline"
         },
         "mode": "lines",
         "name": "BaemyKlobaechar",
         "orientation": "v",
         "showlegend": true,
         "type": "scatter",
         "x": [
          "2019-01-01T00:00:00",
          "2019-02-01T00:00:00",
          "2019-03-01T00:00:00",
          "2019-04-01T00:00:00",
          "2019-05-01T00:00:00",
          "2019-06-01T00:00:00",
          "2019-07-01T00:00:00",
          "2019-08-01T00:00:00",
          "2019-09-01T00:00:00",
          "2019-10-01T00:00:00",
          "2019-11-01T00:00:00",
          "2019-12-01T00:00:00"
         ],
         "xaxis": "x",
         "y": [
          37,
          98,
          19,
          18,
          7,
          16,
          12,
          32,
          40,
          37,
          35,
          71
         ],
         "yaxis": "y"
        },
        {
         "hovertemplate": "Subreddit=ElizabethWarren<br>Month=%{x}<br>Unique Commenters=%{y}<extra></extra>",
         "legendgroup": "ElizabethWarren",
         "line": {
          "color": "#AB63FA",
          "dash": "solid",
          "shape": "spline"
         },
         "mode": "lines",
         "name": "ElizabethWarren",
         "orientation": "v",
         "showlegend": true,
         "type": "scatter",
         "x": [
          "2019-01-01T00:00:00",
          "2019-02-01T00:00:00",
          "2019-03-01T00:00:00",
          "2019-04-01T00:00:00",
          "2019-05-01T00:00:00",
          "2019-06-01T00:00:00",
          "2019-07-01T00:00:00",
          "2019-08-01T00:00:00",
          "2019-09-01T00:00:00",
          "2019-10-01T00:00:00",
          "2019-11-01T00:00:00",
          "2019-12-01T00:00:00"
         ],
         "xaxis": "x",
         "y": [
          120,
          148,
          142,
          470,
          836,
          1431,
          1411,
          1587,
          2083,
          2468,
          2331,
          1668
         ],
         "yaxis": "y"
        },
        {
         "hovertemplate": "Subreddit=JoeBiden<br>Month=%{x}<br>Unique Commenters=%{y}<extra></extra>",
         "legendgroup": "JoeBiden",
         "line": {
          "color": "#636EFA",
          "dash": "solid",
          "shape": "spline"
         },
         "mode": "lines",
         "name": "JoeBiden",
         "orientation": "v",
         "showlegend": true,
         "type": "scatter",
         "x": [
          "2019-01-01T00:00:00",
          "2019-02-01T00:00:00",
          "2019-03-01T00:00:00",
          "2019-04-01T00:00:00",
          "2019-05-01T00:00:00",
          "2019-06-01T00:00:00",
          "2019-07-01T00:00:00",
          "2019-08-01T00:00:00",
          "2019-09-01T00:00:00",
          "2019-10-01T00:00:00",
          "2019-11-01T00:00:00",
          "2019-12-01T00:00:00"
         ],
         "xaxis": "x",
         "y": [
          1,
          8,
          9,
          169,
          250,
          269,
          186,
          309,
          322,
          220,
          258,
          416
         ],
         "yaxis": "y"
        },
        {
         "hovertemplate": "Subreddit=Pete_Buttigieg<br>Month=%{x}<br>Unique Commenters=%{y}<extra></extra>",
         "legendgroup": "Pete_Buttigieg",
         "line": {
          "color": "#FFA15A",
          "dash": "solid",
          "shape": "spline"
         },
         "mode": "lines",
         "name": "Pete_Buttigieg",
         "orientation": "v",
         "showlegend": true,
         "type": "scatter",
         "x": [
          "2019-01-01T00:00:00",
          "2019-02-01T00:00:00",
          "2019-03-01T00:00:00",
          "2019-04-01T00:00:00",
          "2019-05-01T00:00:00",
          "2019-06-01T00:00:00",
          "2019-07-01T00:00:00",
          "2019-08-01T00:00:00",
          "2019-09-01T00:00:00",
          "2019-10-01T00:00:00",
          "2019-11-01T00:00:00",
          "2019-12-01T00:00:00"
         ],
         "xaxis": "x",
         "y": [
          8,
          32,
          1839,
          4549,
          2561,
          2828,
          2893,
          2430,
          2089,
          2364,
          3090,
          3520
         ],
         "yaxis": "y"
        },
        {
         "hovertemplate": "Subreddit=SandersForPresident<br>Month=%{x}<br>Unique Commenters=%{y}<extra></extra>",
         "legendgroup": "SandersForPresident",
         "line": {
          "color": "#EF553B",
          "dash": "solid",
          "shape": "spline"
         },
         "mode": "lines",
         "name": "SandersForPresident",
         "orientation": "v",
         "showlegend": true,
         "type": "scatter",
         "x": [
          "2019-01-01T00:00:00",
          "2019-02-01T00:00:00",
          "2019-03-01T00:00:00",
          "2019-04-01T00:00:00",
          "2019-05-01T00:00:00",
          "2019-06-01T00:00:00",
          "2019-07-01T00:00:00",
          "2019-08-01T00:00:00",
          "2019-09-01T00:00:00",
          "2019-10-01T00:00:00",
          "2019-11-01T00:00:00",
          "2019-12-01T00:00:00"
         ],
         "xaxis": "x",
         "y": [
          5508,
          11591,
          11493,
          10082,
          7374,
          17657,
          11439,
          19283,
          16040,
          14923,
          12670,
          18982
         ],
         "yaxis": "y"
        },
        {
         "hovertemplate": "Subreddit=YangForPresidentHQ<br>Month=%{x}<br>Unique Commenters=%{y}<extra></extra>",
         "legendgroup": "YangForPresidentHQ",
         "line": {
          "color": "#19D3F3",
          "dash": "solid",
          "shape": "spline"
         },
         "mode": "lines",
         "name": "YangForPresidentHQ",
         "orientation": "v",
         "showlegend": true,
         "type": "scatter",
         "x": [
          "2019-01-01T00:00:00",
          "2019-02-01T00:00:00",
          "2019-03-01T00:00:00",
          "2019-04-01T00:00:00",
          "2019-05-01T00:00:00",
          "2019-06-01T00:00:00",
          "2019-07-01T00:00:00",
          "2019-08-01T00:00:00",
          "2019-09-01T00:00:00",
          "2019-10-01T00:00:00",
          "2019-11-01T00:00:00",
          "2019-12-01T00:00:00"
         ],
         "xaxis": "x",
         "y": [
          35,
          580,
          3953,
          3944,
          3122,
          5522,
          8129,
          13622,
          14337,
          14475,
          13588,
          17411
         ],
         "yaxis": "y"
        }
       ],
       "layout": {
        "annotations": [
         {
          "text": "Yang AMA on /r/politics",
          "x": "2019-02-24",
          "y": 3.5440680443502757
         }
        ],
        "legend": {
         "title": {
          "text": "Subreddit"
         },
         "tracegroupgap": 0
        },
        "template": {
         "data": {
          "bar": [
           {
            "error_x": {
             "color": "rgb(36,36,36)"
            },
            "error_y": {
             "color": "rgb(36,36,36)"
            },
            "marker": {
             "line": {
              "color": "white",
              "width": 0.5
             }
            },
            "type": "bar"
           }
          ],
          "barpolar": [
           {
            "marker": {
             "line": {
              "color": "white",
              "width": 0.5
             }
            },
            "type": "barpolar"
           }
          ],
          "carpet": [
           {
            "aaxis": {
             "endlinecolor": "rgb(36,36,36)",
             "gridcolor": "white",
             "linecolor": "white",
             "minorgridcolor": "white",
             "startlinecolor": "rgb(36,36,36)"
            },
            "baxis": {
             "endlinecolor": "rgb(36,36,36)",
             "gridcolor": "white",
             "linecolor": "white",
             "minorgridcolor": "white",
             "startlinecolor": "rgb(36,36,36)"
            },
            "type": "carpet"
           }
          ],
          "choropleth": [
           {
            "colorbar": {
             "outlinewidth": 1,
             "tickcolor": "rgb(36,36,36)",
             "ticks": "outside"
            },
            "type": "choropleth"
           }
          ],
          "contour": [
           {
            "colorbar": {
             "outlinewidth": 1,
             "tickcolor": "rgb(36,36,36)",
             "ticks": "outside"
            },
            "colorscale": [
             [
              0,
              "#440154"
             ],
             [
              0.1111111111111111,
              "#482878"
             ],
             [
              0.2222222222222222,
              "#3e4989"
             ],
             [
              0.3333333333333333,
              "#31688e"
             ],
             [
              0.4444444444444444,
              "#26828e"
             ],
             [
              0.5555555555555556,
              "#1f9e89"
             ],
             [
              0.6666666666666666,
              "#35b779"
             ],
             [
              0.7777777777777778,
              "#6ece58"
             ],
             [
              0.8888888888888888,
              "#b5de2b"
             ],
             [
              1,
              "#fde725"
             ]
            ],
            "type": "contour"
           }
          ],
          "contourcarpet": [
           {
            "colorbar": {
             "outlinewidth": 1,
             "tickcolor": "rgb(36,36,36)",
             "ticks": "outside"
            },
            "type": "contourcarpet"
           }
          ],
          "heatmap": [
           {
            "colorbar": {
             "outlinewidth": 1,
             "tickcolor": "rgb(36,36,36)",
             "ticks": "outside"
            },
            "colorscale": [
             [
              0,
              "#440154"
             ],
             [
              0.1111111111111111,
              "#482878"
             ],
             [
              0.2222222222222222,
              "#3e4989"
             ],
             [
              0.3333333333333333,
              "#31688e"
             ],
             [
              0.4444444444444444,
              "#26828e"
             ],
             [
              0.5555555555555556,
              "#1f9e89"
             ],
             [
              0.6666666666666666,
              "#35b779"
             ],
             [
              0.7777777777777778,
              "#6ece58"
             ],
             [
              0.8888888888888888,
              "#b5de2b"
             ],
             [
              1,
              "#fde725"
             ]
            ],
            "type": "heatmap"
           }
          ],
          "heatmapgl": [
           {
            "colorbar": {
             "outlinewidth": 1,
             "tickcolor": "rgb(36,36,36)",
             "ticks": "outside"
            },
            "colorscale": [
             [
              0,
              "#440154"
             ],
             [
              0.1111111111111111,
              "#482878"
             ],
             [
              0.2222222222222222,
              "#3e4989"
             ],
             [
              0.3333333333333333,
              "#31688e"
             ],
             [
              0.4444444444444444,
              "#26828e"
             ],
             [
              0.5555555555555556,
              "#1f9e89"
             ],
             [
              0.6666666666666666,
              "#35b779"
             ],
             [
              0.7777777777777778,
              "#6ece58"
             ],
             [
              0.8888888888888888,
              "#b5de2b"
             ],
             [
              1,
              "#fde725"
             ]
            ],
            "type": "heatmapgl"
           }
          ],
          "histogram": [
           {
            "marker": {
             "line": {
              "color": "white",
              "width": 0.6
             }
            },
            "type": "histogram"
           }
          ],
          "histogram2d": [
           {
            "colorbar": {
             "outlinewidth": 1,
             "tickcolor": "rgb(36,36,36)",
             "ticks": "outside"
            },
            "colorscale": [
             [
              0,
              "#440154"
             ],
             [
              0.1111111111111111,
              "#482878"
             ],
             [
              0.2222222222222222,
              "#3e4989"
             ],
             [
              0.3333333333333333,
              "#31688e"
             ],
             [
              0.4444444444444444,
              "#26828e"
             ],
             [
              0.5555555555555556,
              "#1f9e89"
             ],
             [
              0.6666666666666666,
              "#35b779"
             ],
             [
              0.7777777777777778,
              "#6ece58"
             ],
             [
              0.8888888888888888,
              "#b5de2b"
             ],
             [
              1,
              "#fde725"
             ]
            ],
            "type": "histogram2d"
           }
          ],
          "histogram2dcontour": [
           {
            "colorbar": {
             "outlinewidth": 1,
             "tickcolor": "rgb(36,36,36)",
             "ticks": "outside"
            },
            "colorscale": [
             [
              0,
              "#440154"
             ],
             [
              0.1111111111111111,
              "#482878"
             ],
             [
              0.2222222222222222,
              "#3e4989"
             ],
             [
              0.3333333333333333,
              "#31688e"
             ],
             [
              0.4444444444444444,
              "#26828e"
             ],
             [
              0.5555555555555556,
              "#1f9e89"
             ],
             [
              0.6666666666666666,
              "#35b779"
             ],
             [
              0.7777777777777778,
              "#6ece58"
             ],
             [
              0.8888888888888888,
              "#b5de2b"
             ],
             [
              1,
              "#fde725"
             ]
            ],
            "type": "histogram2dcontour"
           }
          ],
          "mesh3d": [
           {
            "colorbar": {
             "outlinewidth": 1,
             "tickcolor": "rgb(36,36,36)",
             "ticks": "outside"
            },
            "type": "mesh3d"
           }
          ],
          "parcoords": [
           {
            "line": {
             "colorbar": {
              "outlinewidth": 1,
              "tickcolor": "rgb(36,36,36)",
              "ticks": "outside"
             }
            },
            "type": "parcoords"
           }
          ],
          "pie": [
           {
            "automargin": true,
            "type": "pie"
           }
          ],
          "scatter": [
           {
            "marker": {
             "colorbar": {
              "outlinewidth": 1,
              "tickcolor": "rgb(36,36,36)",
              "ticks": "outside"
             }
            },
            "type": "scatter"
           }
          ],
          "scatter3d": [
           {
            "line": {
             "colorbar": {
              "outlinewidth": 1,
              "tickcolor": "rgb(36,36,36)",
              "ticks": "outside"
             }
            },
            "marker": {
             "colorbar": {
              "outlinewidth": 1,
              "tickcolor": "rgb(36,36,36)",
              "ticks": "outside"
             }
            },
            "type": "scatter3d"
           }
          ],
          "scattercarpet": [
           {
            "marker": {
             "colorbar": {
              "outlinewidth": 1,
              "tickcolor": "rgb(36,36,36)",
              "ticks": "outside"
             }
            },
            "type": "scattercarpet"
           }
          ],
          "scattergeo": [
           {
            "marker": {
             "colorbar": {
              "outlinewidth": 1,
              "tickcolor": "rgb(36,36,36)",
              "ticks": "outside"
             }
            },
            "type": "scattergeo"
           }
          ],
          "scattergl": [
           {
            "marker": {
             "colorbar": {
              "outlinewidth": 1,
              "tickcolor": "rgb(36,36,36)",
              "ticks": "outside"
             }
            },
            "type": "scattergl"
           }
          ],
          "scattermapbox": [
           {
            "marker": {
             "colorbar": {
              "outlinewidth": 1,
              "tickcolor": "rgb(36,36,36)",
              "ticks": "outside"
             }
            },
            "type": "scattermapbox"
           }
          ],
          "scatterpolar": [
           {
            "marker": {
             "colorbar": {
              "outlinewidth": 1,
              "tickcolor": "rgb(36,36,36)",
              "ticks": "outside"
             }
            },
            "type": "scatterpolar"
           }
          ],
          "scatterpolargl": [
           {
            "marker": {
             "colorbar": {
              "outlinewidth": 1,
              "tickcolor": "rgb(36,36,36)",
              "ticks": "outside"
             }
            },
            "type": "scatterpolargl"
           }
          ],
          "scatterternary": [
           {
            "marker": {
             "colorbar": {
              "outlinewidth": 1,
              "tickcolor": "rgb(36,36,36)",
              "ticks": "outside"
             }
            },
            "type": "scatterternary"
           }
          ],
          "surface": [
           {
            "colorbar": {
             "outlinewidth": 1,
             "tickcolor": "rgb(36,36,36)",
             "ticks": "outside"
            },
            "colorscale": [
             [
              0,
              "#440154"
             ],
             [
              0.1111111111111111,
              "#482878"
             ],
             [
              0.2222222222222222,
              "#3e4989"
             ],
             [
              0.3333333333333333,
              "#31688e"
             ],
             [
              0.4444444444444444,
              "#26828e"
             ],
             [
              0.5555555555555556,
              "#1f9e89"
             ],
             [
              0.6666666666666666,
              "#35b779"
             ],
             [
              0.7777777777777778,
              "#6ece58"
             ],
             [
              0.8888888888888888,
              "#b5de2b"
             ],
             [
              1,
              "#fde725"
             ]
            ],
            "type": "surface"
           }
          ],
          "table": [
           {
            "cells": {
             "fill": {
              "color": "rgb(237,237,237)"
             },
             "line": {
              "color": "white"
             }
            },
            "header": {
             "fill": {
              "color": "rgb(217,217,217)"
             },
             "line": {
              "color": "white"
             }
            },
            "type": "table"
           }
          ]
         },
         "layout": {
          "annotationdefaults": {
           "arrowhead": 0,
           "arrowwidth": 1
          },
          "coloraxis": {
           "colorbar": {
            "outlinewidth": 1,
            "tickcolor": "rgb(36,36,36)",
            "ticks": "outside"
           }
          },
          "colorscale": {
           "diverging": [
            [
             0,
             "rgb(103,0,31)"
            ],
            [
             0.1,
             "rgb(178,24,43)"
            ],
            [
             0.2,
             "rgb(214,96,77)"
            ],
            [
             0.3,
             "rgb(244,165,130)"
            ],
            [
             0.4,
             "rgb(253,219,199)"
            ],
            [
             0.5,
             "rgb(247,247,247)"
            ],
            [
             0.6,
             "rgb(209,229,240)"
            ],
            [
             0.7,
             "rgb(146,197,222)"
            ],
            [
             0.8,
             "rgb(67,147,195)"
            ],
            [
             0.9,
             "rgb(33,102,172)"
            ],
            [
             1,
             "rgb(5,48,97)"
            ]
           ],
           "sequential": [
            [
             0,
             "#440154"
            ],
            [
             0.1111111111111111,
             "#482878"
            ],
            [
             0.2222222222222222,
             "#3e4989"
            ],
            [
             0.3333333333333333,
             "#31688e"
            ],
            [
             0.4444444444444444,
             "#26828e"
            ],
            [
             0.5555555555555556,
             "#1f9e89"
            ],
            [
             0.6666666666666666,
             "#35b779"
            ],
            [
             0.7777777777777778,
             "#6ece58"
            ],
            [
             0.8888888888888888,
             "#b5de2b"
            ],
            [
             1,
             "#fde725"
            ]
           ],
           "sequentialminus": [
            [
             0,
             "#440154"
            ],
            [
             0.1111111111111111,
             "#482878"
            ],
            [
             0.2222222222222222,
             "#3e4989"
            ],
            [
             0.3333333333333333,
             "#31688e"
            ],
            [
             0.4444444444444444,
             "#26828e"
            ],
            [
             0.5555555555555556,
             "#1f9e89"
            ],
            [
             0.6666666666666666,
             "#35b779"
            ],
            [
             0.7777777777777778,
             "#6ece58"
            ],
            [
             0.8888888888888888,
             "#b5de2b"
            ],
            [
             1,
             "#fde725"
            ]
           ]
          },
          "colorway": [
           "#1F77B4",
           "#FF7F0E",
           "#2CA02C",
           "#D62728",
           "#9467BD",
           "#8C564B",
           "#E377C2",
           "#7F7F7F",
           "#BCBD22",
           "#17BECF"
          ],
          "font": {
           "color": "rgb(36,36,36)"
          },
          "geo": {
           "bgcolor": "white",
           "lakecolor": "white",
           "landcolor": "white",
           "showlakes": true,
           "showland": true,
           "subunitcolor": "white"
          },
          "hoverlabel": {
           "align": "left"
          },
          "hovermode": "closest",
          "mapbox": {
           "style": "light"
          },
          "paper_bgcolor": "white",
          "plot_bgcolor": "white",
          "polar": {
           "angularaxis": {
            "gridcolor": "rgb(232,232,232)",
            "linecolor": "rgb(36,36,36)",
            "showgrid": false,
            "showline": true,
            "ticks": "outside"
           },
           "bgcolor": "white",
           "radialaxis": {
            "gridcolor": "rgb(232,232,232)",
            "linecolor": "rgb(36,36,36)",
            "showgrid": false,
            "showline": true,
            "ticks": "outside"
           }
          },
          "scene": {
           "xaxis": {
            "backgroundcolor": "white",
            "gridcolor": "rgb(232,232,232)",
            "gridwidth": 2,
            "linecolor": "rgb(36,36,36)",
            "showbackground": true,
            "showgrid": false,
            "showline": true,
            "ticks": "outside",
            "zeroline": false,
            "zerolinecolor": "rgb(36,36,36)"
           },
           "yaxis": {
            "backgroundcolor": "white",
            "gridcolor": "rgb(232,232,232)",
            "gridwidth": 2,
            "linecolor": "rgb(36,36,36)",
            "showbackground": true,
            "showgrid": false,
            "showline": true,
            "ticks": "outside",
            "zeroline": false,
            "zerolinecolor": "rgb(36,36,36)"
           },
           "zaxis": {
            "backgroundcolor": "white",
            "gridcolor": "rgb(232,232,232)",
            "gridwidth": 2,
            "linecolor": "rgb(36,36,36)",
            "showbackground": true,
            "showgrid": false,
            "showline": true,
            "ticks": "outside",
            "zeroline": false,
            "zerolinecolor": "rgb(36,36,36)"
           }
          },
          "shapedefaults": {
           "fillcolor": "black",
           "line": {
            "width": 0
           },
           "opacity": 0.3
          },
          "ternary": {
           "aaxis": {
            "gridcolor": "rgb(232,232,232)",
            "linecolor": "rgb(36,36,36)",
            "showgrid": false,
            "showline": true,
            "ticks": "outside"
           },
           "baxis": {
            "gridcolor": "rgb(232,232,232)",
            "linecolor": "rgb(36,36,36)",
            "showgrid": false,
            "showline": true,
            "ticks": "outside"
           },
           "bgcolor": "white",
           "caxis": {
            "gridcolor": "rgb(232,232,232)",
            "linecolor": "rgb(36,36,36)",
            "showgrid": false,
            "showline": true,
            "ticks": "outside"
           }
          },
          "title": {
           "x": 0.05
          },
          "xaxis": {
           "automargin": true,
           "gridcolor": "rgb(232,232,232)",
           "linecolor": "rgb(36,36,36)",
           "showgrid": false,
           "showline": true,
           "ticks": "outside",
           "title": {
            "standoff": 15
           },
           "zeroline": false,
           "zerolinecolor": "rgb(36,36,36)"
          },
          "yaxis": {
           "automargin": true,
           "gridcolor": "rgb(232,232,232)",
           "linecolor": "rgb(36,36,36)",
           "showgrid": false,
           "showline": true,
           "ticks": "outside",
           "title": {
            "standoff": 15
           },
           "zeroline": false,
           "zerolinecolor": "rgb(36,36,36)"
          }
         }
        },
        "title": {
         "text": "Comments Over Time"
        },
        "xaxis": {
         "anchor": "y",
         "domain": [
          0,
          1
         ],
         "title": {
          "text": "Month"
         }
        },
        "yaxis": {
         "anchor": "x",
         "domain": [
          0,
          1
         ],
         "title": {
          "text": "Unique Commenters"
         },
         "type": "log"
        }
       }
      },
      "text/html": [
       "<div>\n",
       "        \n",
       "        \n",
       "            <div id=\"a1ca7c11-54fc-4fb1-adae-526820f3914f\" class=\"plotly-graph-div\" style=\"height:525px; width:100%;\"></div>\n",
       "            <script type=\"text/javascript\">\n",
       "                require([\"plotly\"], function(Plotly) {\n",
       "                    window.PLOTLYENV=window.PLOTLYENV || {};\n",
       "                    \n",
       "                if (document.getElementById(\"a1ca7c11-54fc-4fb1-adae-526820f3914f\")) {\n",
       "                    Plotly.newPlot(\n",
       "                        'a1ca7c11-54fc-4fb1-adae-526820f3914f',\n",
       "                        [{\"hovertemplate\": \"Subreddit=BaemyKlobaechar<br>Month=%{x}<br>Unique Commenters=%{y}<extra></extra>\", \"legendgroup\": \"BaemyKlobaechar\", \"line\": {\"color\": \"#00CC96\", \"dash\": \"solid\", \"shape\": \"spline\"}, \"mode\": \"lines\", \"name\": \"BaemyKlobaechar\", \"orientation\": \"v\", \"showlegend\": true, \"type\": \"scatter\", \"x\": [\"2019-01-01T00:00:00\", \"2019-02-01T00:00:00\", \"2019-03-01T00:00:00\", \"2019-04-01T00:00:00\", \"2019-05-01T00:00:00\", \"2019-06-01T00:00:00\", \"2019-07-01T00:00:00\", \"2019-08-01T00:00:00\", \"2019-09-01T00:00:00\", \"2019-10-01T00:00:00\", \"2019-11-01T00:00:00\", \"2019-12-01T00:00:00\"], \"xaxis\": \"x\", \"y\": [37, 98, 19, 18, 7, 16, 12, 32, 40, 37, 35, 71], \"yaxis\": \"y\"}, {\"hovertemplate\": \"Subreddit=ElizabethWarren<br>Month=%{x}<br>Unique Commenters=%{y}<extra></extra>\", \"legendgroup\": \"ElizabethWarren\", \"line\": {\"color\": \"#AB63FA\", \"dash\": \"solid\", \"shape\": \"spline\"}, \"mode\": \"lines\", \"name\": \"ElizabethWarren\", \"orientation\": \"v\", \"showlegend\": true, \"type\": \"scatter\", \"x\": [\"2019-01-01T00:00:00\", \"2019-02-01T00:00:00\", \"2019-03-01T00:00:00\", \"2019-04-01T00:00:00\", \"2019-05-01T00:00:00\", \"2019-06-01T00:00:00\", \"2019-07-01T00:00:00\", \"2019-08-01T00:00:00\", \"2019-09-01T00:00:00\", \"2019-10-01T00:00:00\", \"2019-11-01T00:00:00\", \"2019-12-01T00:00:00\"], \"xaxis\": \"x\", \"y\": [120, 148, 142, 470, 836, 1431, 1411, 1587, 2083, 2468, 2331, 1668], \"yaxis\": \"y\"}, {\"hovertemplate\": \"Subreddit=JoeBiden<br>Month=%{x}<br>Unique Commenters=%{y}<extra></extra>\", \"legendgroup\": \"JoeBiden\", \"line\": {\"color\": \"#636EFA\", \"dash\": \"solid\", \"shape\": \"spline\"}, \"mode\": \"lines\", \"name\": \"JoeBiden\", \"orientation\": \"v\", \"showlegend\": true, \"type\": \"scatter\", \"x\": [\"2019-01-01T00:00:00\", \"2019-02-01T00:00:00\", \"2019-03-01T00:00:00\", \"2019-04-01T00:00:00\", \"2019-05-01T00:00:00\", \"2019-06-01T00:00:00\", \"2019-07-01T00:00:00\", \"2019-08-01T00:00:00\", \"2019-09-01T00:00:00\", \"2019-10-01T00:00:00\", \"2019-11-01T00:00:00\", \"2019-12-01T00:00:00\"], \"xaxis\": \"x\", \"y\": [1, 8, 9, 169, 250, 269, 186, 309, 322, 220, 258, 416], \"yaxis\": \"y\"}, {\"hovertemplate\": \"Subreddit=Pete_Buttigieg<br>Month=%{x}<br>Unique Commenters=%{y}<extra></extra>\", \"legendgroup\": \"Pete_Buttigieg\", \"line\": {\"color\": \"#FFA15A\", \"dash\": \"solid\", \"shape\": \"spline\"}, \"mode\": \"lines\", \"name\": \"Pete_Buttigieg\", \"orientation\": \"v\", \"showlegend\": true, \"type\": \"scatter\", \"x\": [\"2019-01-01T00:00:00\", \"2019-02-01T00:00:00\", \"2019-03-01T00:00:00\", \"2019-04-01T00:00:00\", \"2019-05-01T00:00:00\", \"2019-06-01T00:00:00\", \"2019-07-01T00:00:00\", \"2019-08-01T00:00:00\", \"2019-09-01T00:00:00\", \"2019-10-01T00:00:00\", \"2019-11-01T00:00:00\", \"2019-12-01T00:00:00\"], \"xaxis\": \"x\", \"y\": [8, 32, 1839, 4549, 2561, 2828, 2893, 2430, 2089, 2364, 3090, 3520], \"yaxis\": \"y\"}, {\"hovertemplate\": \"Subreddit=SandersForPresident<br>Month=%{x}<br>Unique Commenters=%{y}<extra></extra>\", \"legendgroup\": \"SandersForPresident\", \"line\": {\"color\": \"#EF553B\", \"dash\": \"solid\", \"shape\": \"spline\"}, \"mode\": \"lines\", \"name\": \"SandersForPresident\", \"orientation\": \"v\", \"showlegend\": true, \"type\": \"scatter\", \"x\": [\"2019-01-01T00:00:00\", \"2019-02-01T00:00:00\", \"2019-03-01T00:00:00\", \"2019-04-01T00:00:00\", \"2019-05-01T00:00:00\", \"2019-06-01T00:00:00\", \"2019-07-01T00:00:00\", \"2019-08-01T00:00:00\", \"2019-09-01T00:00:00\", \"2019-10-01T00:00:00\", \"2019-11-01T00:00:00\", \"2019-12-01T00:00:00\"], \"xaxis\": \"x\", \"y\": [5508, 11591, 11493, 10082, 7374, 17657, 11439, 19283, 16040, 14923, 12670, 18982], \"yaxis\": \"y\"}, {\"hovertemplate\": \"Subreddit=YangForPresidentHQ<br>Month=%{x}<br>Unique Commenters=%{y}<extra></extra>\", \"legendgroup\": \"YangForPresidentHQ\", \"line\": {\"color\": \"#19D3F3\", \"dash\": \"solid\", \"shape\": \"spline\"}, \"mode\": \"lines\", \"name\": \"YangForPresidentHQ\", \"orientation\": \"v\", \"showlegend\": true, \"type\": \"scatter\", \"x\": [\"2019-01-01T00:00:00\", \"2019-02-01T00:00:00\", \"2019-03-01T00:00:00\", \"2019-04-01T00:00:00\", \"2019-05-01T00:00:00\", \"2019-06-01T00:00:00\", \"2019-07-01T00:00:00\", \"2019-08-01T00:00:00\", \"2019-09-01T00:00:00\", \"2019-10-01T00:00:00\", \"2019-11-01T00:00:00\", \"2019-12-01T00:00:00\"], \"xaxis\": \"x\", \"y\": [35, 580, 3953, 3944, 3122, 5522, 8129, 13622, 14337, 14475, 13588, 17411], \"yaxis\": \"y\"}],\n",
       "                        {\"annotations\": [{\"text\": \"Yang AMA on /r/politics\", \"x\": \"2019-02-24\", \"y\": 3.5440680443502757}], \"legend\": {\"title\": {\"text\": \"Subreddit\"}, \"tracegroupgap\": 0}, \"template\": {\"data\": {\"bar\": [{\"error_x\": {\"color\": \"rgb(36,36,36)\"}, \"error_y\": {\"color\": \"rgb(36,36,36)\"}, \"marker\": {\"line\": {\"color\": \"white\", \"width\": 0.5}}, \"type\": \"bar\"}], \"barpolar\": [{\"marker\": {\"line\": {\"color\": \"white\", \"width\": 0.5}}, \"type\": \"barpolar\"}], \"carpet\": [{\"aaxis\": {\"endlinecolor\": \"rgb(36,36,36)\", \"gridcolor\": \"white\", \"linecolor\": \"white\", \"minorgridcolor\": \"white\", \"startlinecolor\": \"rgb(36,36,36)\"}, \"baxis\": {\"endlinecolor\": \"rgb(36,36,36)\", \"gridcolor\": \"white\", \"linecolor\": \"white\", \"minorgridcolor\": \"white\", \"startlinecolor\": \"rgb(36,36,36)\"}, \"type\": \"carpet\"}], \"choropleth\": [{\"colorbar\": {\"outlinewidth\": 1, \"tickcolor\": \"rgb(36,36,36)\", \"ticks\": \"outside\"}, \"type\": \"choropleth\"}], \"contour\": [{\"colorbar\": {\"outlinewidth\": 1, \"tickcolor\": \"rgb(36,36,36)\", \"ticks\": \"outside\"}, \"colorscale\": [[0.0, \"#440154\"], [0.1111111111111111, \"#482878\"], [0.2222222222222222, \"#3e4989\"], [0.3333333333333333, \"#31688e\"], [0.4444444444444444, \"#26828e\"], [0.5555555555555556, \"#1f9e89\"], [0.6666666666666666, \"#35b779\"], [0.7777777777777778, \"#6ece58\"], [0.8888888888888888, \"#b5de2b\"], [1.0, \"#fde725\"]], \"type\": \"contour\"}], \"contourcarpet\": [{\"colorbar\": {\"outlinewidth\": 1, \"tickcolor\": \"rgb(36,36,36)\", \"ticks\": \"outside\"}, \"type\": \"contourcarpet\"}], \"heatmap\": [{\"colorbar\": {\"outlinewidth\": 1, \"tickcolor\": \"rgb(36,36,36)\", \"ticks\": \"outside\"}, \"colorscale\": [[0.0, \"#440154\"], [0.1111111111111111, \"#482878\"], [0.2222222222222222, \"#3e4989\"], [0.3333333333333333, \"#31688e\"], [0.4444444444444444, \"#26828e\"], [0.5555555555555556, \"#1f9e89\"], [0.6666666666666666, \"#35b779\"], [0.7777777777777778, \"#6ece58\"], [0.8888888888888888, \"#b5de2b\"], [1.0, \"#fde725\"]], \"type\": \"heatmap\"}], \"heatmapgl\": [{\"colorbar\": {\"outlinewidth\": 1, \"tickcolor\": \"rgb(36,36,36)\", \"ticks\": \"outside\"}, \"colorscale\": [[0.0, \"#440154\"], [0.1111111111111111, \"#482878\"], [0.2222222222222222, \"#3e4989\"], [0.3333333333333333, \"#31688e\"], [0.4444444444444444, \"#26828e\"], [0.5555555555555556, \"#1f9e89\"], [0.6666666666666666, \"#35b779\"], [0.7777777777777778, \"#6ece58\"], [0.8888888888888888, \"#b5de2b\"], [1.0, \"#fde725\"]], \"type\": \"heatmapgl\"}], \"histogram\": [{\"marker\": {\"line\": {\"color\": \"white\", \"width\": 0.6}}, \"type\": \"histogram\"}], \"histogram2d\": [{\"colorbar\": {\"outlinewidth\": 1, \"tickcolor\": \"rgb(36,36,36)\", \"ticks\": \"outside\"}, \"colorscale\": [[0.0, \"#440154\"], [0.1111111111111111, \"#482878\"], [0.2222222222222222, \"#3e4989\"], [0.3333333333333333, \"#31688e\"], [0.4444444444444444, \"#26828e\"], [0.5555555555555556, \"#1f9e89\"], [0.6666666666666666, \"#35b779\"], [0.7777777777777778, \"#6ece58\"], [0.8888888888888888, \"#b5de2b\"], [1.0, \"#fde725\"]], \"type\": \"histogram2d\"}], \"histogram2dcontour\": [{\"colorbar\": {\"outlinewidth\": 1, \"tickcolor\": \"rgb(36,36,36)\", \"ticks\": \"outside\"}, \"colorscale\": [[0.0, \"#440154\"], [0.1111111111111111, \"#482878\"], [0.2222222222222222, \"#3e4989\"], [0.3333333333333333, \"#31688e\"], [0.4444444444444444, \"#26828e\"], [0.5555555555555556, \"#1f9e89\"], [0.6666666666666666, \"#35b779\"], [0.7777777777777778, \"#6ece58\"], [0.8888888888888888, \"#b5de2b\"], [1.0, \"#fde725\"]], \"type\": \"histogram2dcontour\"}], \"mesh3d\": [{\"colorbar\": {\"outlinewidth\": 1, \"tickcolor\": \"rgb(36,36,36)\", \"ticks\": \"outside\"}, \"type\": \"mesh3d\"}], \"parcoords\": [{\"line\": {\"colorbar\": {\"outlinewidth\": 1, \"tickcolor\": \"rgb(36,36,36)\", \"ticks\": \"outside\"}}, \"type\": \"parcoords\"}], \"pie\": [{\"automargin\": true, \"type\": \"pie\"}], \"scatter\": [{\"marker\": {\"colorbar\": {\"outlinewidth\": 1, \"tickcolor\": \"rgb(36,36,36)\", \"ticks\": \"outside\"}}, \"type\": \"scatter\"}], \"scatter3d\": [{\"line\": {\"colorbar\": {\"outlinewidth\": 1, \"tickcolor\": \"rgb(36,36,36)\", \"ticks\": \"outside\"}}, \"marker\": {\"colorbar\": {\"outlinewidth\": 1, \"tickcolor\": \"rgb(36,36,36)\", \"ticks\": \"outside\"}}, \"type\": \"scatter3d\"}], \"scattercarpet\": [{\"marker\": {\"colorbar\": {\"outlinewidth\": 1, \"tickcolor\": \"rgb(36,36,36)\", \"ticks\": \"outside\"}}, \"type\": \"scattercarpet\"}], \"scattergeo\": [{\"marker\": {\"colorbar\": {\"outlinewidth\": 1, \"tickcolor\": \"rgb(36,36,36)\", \"ticks\": \"outside\"}}, \"type\": \"scattergeo\"}], \"scattergl\": [{\"marker\": {\"colorbar\": {\"outlinewidth\": 1, \"tickcolor\": \"rgb(36,36,36)\", \"ticks\": \"outside\"}}, \"type\": \"scattergl\"}], \"scattermapbox\": [{\"marker\": {\"colorbar\": {\"outlinewidth\": 1, \"tickcolor\": \"rgb(36,36,36)\", \"ticks\": \"outside\"}}, \"type\": \"scattermapbox\"}], \"scatterpolar\": [{\"marker\": {\"colorbar\": {\"outlinewidth\": 1, \"tickcolor\": \"rgb(36,36,36)\", \"ticks\": \"outside\"}}, \"type\": \"scatterpolar\"}], \"scatterpolargl\": [{\"marker\": {\"colorbar\": {\"outlinewidth\": 1, \"tickcolor\": \"rgb(36,36,36)\", \"ticks\": \"outside\"}}, \"type\": \"scatterpolargl\"}], \"scatterternary\": [{\"marker\": {\"colorbar\": {\"outlinewidth\": 1, \"tickcolor\": \"rgb(36,36,36)\", \"ticks\": \"outside\"}}, \"type\": \"scatterternary\"}], \"surface\": [{\"colorbar\": {\"outlinewidth\": 1, \"tickcolor\": \"rgb(36,36,36)\", \"ticks\": \"outside\"}, \"colorscale\": [[0.0, \"#440154\"], [0.1111111111111111, \"#482878\"], [0.2222222222222222, \"#3e4989\"], [0.3333333333333333, \"#31688e\"], [0.4444444444444444, \"#26828e\"], [0.5555555555555556, \"#1f9e89\"], [0.6666666666666666, \"#35b779\"], [0.7777777777777778, \"#6ece58\"], [0.8888888888888888, \"#b5de2b\"], [1.0, \"#fde725\"]], \"type\": \"surface\"}], \"table\": [{\"cells\": {\"fill\": {\"color\": \"rgb(237,237,237)\"}, \"line\": {\"color\": \"white\"}}, \"header\": {\"fill\": {\"color\": \"rgb(217,217,217)\"}, \"line\": {\"color\": \"white\"}}, \"type\": \"table\"}]}, \"layout\": {\"annotationdefaults\": {\"arrowhead\": 0, \"arrowwidth\": 1}, \"coloraxis\": {\"colorbar\": {\"outlinewidth\": 1, \"tickcolor\": \"rgb(36,36,36)\", \"ticks\": \"outside\"}}, \"colorscale\": {\"diverging\": [[0.0, \"rgb(103,0,31)\"], [0.1, \"rgb(178,24,43)\"], [0.2, \"rgb(214,96,77)\"], [0.3, \"rgb(244,165,130)\"], [0.4, \"rgb(253,219,199)\"], [0.5, \"rgb(247,247,247)\"], [0.6, \"rgb(209,229,240)\"], [0.7, \"rgb(146,197,222)\"], [0.8, \"rgb(67,147,195)\"], [0.9, \"rgb(33,102,172)\"], [1.0, \"rgb(5,48,97)\"]], \"sequential\": [[0.0, \"#440154\"], [0.1111111111111111, \"#482878\"], [0.2222222222222222, \"#3e4989\"], [0.3333333333333333, \"#31688e\"], [0.4444444444444444, \"#26828e\"], [0.5555555555555556, \"#1f9e89\"], [0.6666666666666666, \"#35b779\"], [0.7777777777777778, \"#6ece58\"], [0.8888888888888888, \"#b5de2b\"], [1.0, \"#fde725\"]], \"sequentialminus\": [[0.0, \"#440154\"], [0.1111111111111111, \"#482878\"], [0.2222222222222222, \"#3e4989\"], [0.3333333333333333, \"#31688e\"], [0.4444444444444444, \"#26828e\"], [0.5555555555555556, \"#1f9e89\"], [0.6666666666666666, \"#35b779\"], [0.7777777777777778, \"#6ece58\"], [0.8888888888888888, \"#b5de2b\"], [1.0, \"#fde725\"]]}, \"colorway\": [\"#1F77B4\", \"#FF7F0E\", \"#2CA02C\", \"#D62728\", \"#9467BD\", \"#8C564B\", \"#E377C2\", \"#7F7F7F\", \"#BCBD22\", \"#17BECF\"], \"font\": {\"color\": \"rgb(36,36,36)\"}, \"geo\": {\"bgcolor\": \"white\", \"lakecolor\": \"white\", \"landcolor\": \"white\", \"showlakes\": true, \"showland\": true, \"subunitcolor\": \"white\"}, \"hoverlabel\": {\"align\": \"left\"}, \"hovermode\": \"closest\", \"mapbox\": {\"style\": \"light\"}, \"paper_bgcolor\": \"white\", \"plot_bgcolor\": \"white\", \"polar\": {\"angularaxis\": {\"gridcolor\": \"rgb(232,232,232)\", \"linecolor\": \"rgb(36,36,36)\", \"showgrid\": false, \"showline\": true, \"ticks\": \"outside\"}, \"bgcolor\": \"white\", \"radialaxis\": {\"gridcolor\": \"rgb(232,232,232)\", \"linecolor\": \"rgb(36,36,36)\", \"showgrid\": false, \"showline\": true, \"ticks\": \"outside\"}}, \"scene\": {\"xaxis\": {\"backgroundcolor\": \"white\", \"gridcolor\": \"rgb(232,232,232)\", \"gridwidth\": 2, \"linecolor\": \"rgb(36,36,36)\", \"showbackground\": true, \"showgrid\": false, \"showline\": true, \"ticks\": \"outside\", \"zeroline\": false, \"zerolinecolor\": \"rgb(36,36,36)\"}, \"yaxis\": {\"backgroundcolor\": \"white\", \"gridcolor\": \"rgb(232,232,232)\", \"gridwidth\": 2, \"linecolor\": \"rgb(36,36,36)\", \"showbackground\": true, \"showgrid\": false, \"showline\": true, \"ticks\": \"outside\", \"zeroline\": false, \"zerolinecolor\": \"rgb(36,36,36)\"}, \"zaxis\": {\"backgroundcolor\": \"white\", \"gridcolor\": \"rgb(232,232,232)\", \"gridwidth\": 2, \"linecolor\": \"rgb(36,36,36)\", \"showbackground\": true, \"showgrid\": false, \"showline\": true, \"ticks\": \"outside\", \"zeroline\": false, \"zerolinecolor\": \"rgb(36,36,36)\"}}, \"shapedefaults\": {\"fillcolor\": \"black\", \"line\": {\"width\": 0}, \"opacity\": 0.3}, \"ternary\": {\"aaxis\": {\"gridcolor\": \"rgb(232,232,232)\", \"linecolor\": \"rgb(36,36,36)\", \"showgrid\": false, \"showline\": true, \"ticks\": \"outside\"}, \"baxis\": {\"gridcolor\": \"rgb(232,232,232)\", \"linecolor\": \"rgb(36,36,36)\", \"showgrid\": false, \"showline\": true, \"ticks\": \"outside\"}, \"bgcolor\": \"white\", \"caxis\": {\"gridcolor\": \"rgb(232,232,232)\", \"linecolor\": \"rgb(36,36,36)\", \"showgrid\": false, \"showline\": true, \"ticks\": \"outside\"}}, \"title\": {\"x\": 0.05}, \"xaxis\": {\"automargin\": true, \"gridcolor\": \"rgb(232,232,232)\", \"linecolor\": \"rgb(36,36,36)\", \"showgrid\": false, \"showline\": true, \"ticks\": \"outside\", \"title\": {\"standoff\": 15}, \"zeroline\": false, \"zerolinecolor\": \"rgb(36,36,36)\"}, \"yaxis\": {\"automargin\": true, \"gridcolor\": \"rgb(232,232,232)\", \"linecolor\": \"rgb(36,36,36)\", \"showgrid\": false, \"showline\": true, \"ticks\": \"outside\", \"title\": {\"standoff\": 15}, \"zeroline\": false, \"zerolinecolor\": \"rgb(36,36,36)\"}}}, \"title\": {\"text\": \"Comments Over Time\"}, \"xaxis\": {\"anchor\": \"y\", \"domain\": [0.0, 1.0], \"title\": {\"text\": \"Month\"}}, \"yaxis\": {\"anchor\": \"x\", \"domain\": [0.0, 1.0], \"title\": {\"text\": \"Unique Commenters\"}, \"type\": \"log\"}},\n",
       "                        {\"responsive\": true}\n",
       "                    ).then(function(){\n",
       "                            \n",
       "var gd = document.getElementById('a1ca7c11-54fc-4fb1-adae-526820f3914f');\n",
       "var x = new MutationObserver(function (mutations, observer) {{\n",
       "        var display = window.getComputedStyle(gd).display;\n",
       "        if (!display || display === 'none') {{\n",
       "            console.log([gd, 'removed!']);\n",
       "            Plotly.purge(gd);\n",
       "            observer.disconnect();\n",
       "        }}\n",
       "}});\n",
       "\n",
       "// Listen for the removal of the full notebook cells\n",
       "var notebookContainer = gd.closest('#notebook-container');\n",
       "if (notebookContainer) {{\n",
       "    x.observe(notebookContainer, {childList: true});\n",
       "}}\n",
       "\n",
       "// Listen for the clearing of the current output cell\n",
       "var outputEl = gd.closest('.output');\n",
       "if (outputEl) {{\n",
       "    x.observe(outputEl, {childList: true});\n",
       "}}\n",
       "\n",
       "                        })\n",
       "                };\n",
       "                });\n",
       "            </script>\n",
       "        </div>"
      ]
     },
     "metadata": {},
     "output_type": "display_data"
    }
   ],
   "source": [
    "args = {\n",
    "    \"x\": \"date\",\n",
    "    \"y\": \"n_unique\",\n",
    "    \"color\": \"subreddit\",\n",
    "    \"line_shape\": \"spline\",\n",
    "    \"title\":  \"Comments Over Time\",\n",
    "    \"template\": \"simple_white\",\n",
    "    \"labels\": {\"n_unique\": \"Unique Commenters\", \"date\": \"Month\", \"subreddit\": \"Subreddit\"},\n",
    "    \"color_discrete_map\": mapping\n",
    "}\n",
    "\n",
    "fig = px.line(n_unique,**args)\n",
    "fig.update_layout(\n",
    "    annotations=[\n",
    "        dict(\n",
    "            x=\"2019-02-24\",\n",
    "            y=np.log10(3500),\n",
    "            text=\"Yang AMA on /r/politics\",\n",
    "        )\n",
    "    ]\n",
    ")\n",
    "fig.update_yaxes(type=\"log\")\n",
    "\n",
    "fig.write_html(\"visualizations/temporal/{}_subreddit_n-unique.html\".format(TIME_FRAME))\n",
    "fig.show()"
   ]
  },
  {
   "cell_type": "markdown",
   "metadata": {},
   "source": [
    "### Dual Axes (N-Unique)"
   ]
  },
  {
   "cell_type": "code",
   "execution_count": 29,
   "metadata": {},
   "outputs": [
    {
     "data": {
      "application/vnd.plotly.v1+json": {
       "config": {
        "plotlyServerURL": "https://plot.ly"
       },
       "data": [
        {
         "line": {
          "color": "#636EFA",
          "dash": "dash"
         },
         "mode": "lines",
         "name": "JoeBiden Subreddit Unique Commenters",
         "type": "scatter",
         "x": [
          "2019-01-01T00:00:00",
          "2019-02-01T00:00:00",
          "2019-03-01T00:00:00",
          "2019-04-01T00:00:00",
          "2019-05-01T00:00:00",
          "2019-06-01T00:00:00",
          "2019-07-01T00:00:00",
          "2019-08-01T00:00:00",
          "2019-09-01T00:00:00",
          "2019-10-01T00:00:00",
          "2019-11-01T00:00:00",
          "2019-12-01T00:00:00"
         ],
         "xaxis": "x",
         "y": [
          1,
          8,
          9,
          169,
          250,
          269,
          186,
          309,
          322,
          220,
          258,
          416
         ],
         "yaxis": "y2"
        },
        {
         "line": {
          "color": "#EF553B",
          "dash": "dash"
         },
         "mode": "lines",
         "name": "SandersForPresident Subreddit Unique Commenters",
         "type": "scatter",
         "x": [
          "2019-01-01T00:00:00",
          "2019-02-01T00:00:00",
          "2019-03-01T00:00:00",
          "2019-04-01T00:00:00",
          "2019-05-01T00:00:00",
          "2019-06-01T00:00:00",
          "2019-07-01T00:00:00",
          "2019-08-01T00:00:00",
          "2019-09-01T00:00:00",
          "2019-10-01T00:00:00",
          "2019-11-01T00:00:00",
          "2019-12-01T00:00:00"
         ],
         "xaxis": "x",
         "y": [
          5508,
          11591,
          11493,
          10082,
          7374,
          17657,
          11439,
          19283,
          16040,
          14923,
          12670,
          18982
         ],
         "yaxis": "y2"
        },
        {
         "line": {
          "color": "#00CC96",
          "dash": "dash"
         },
         "mode": "lines",
         "name": "BaemyKlobaechar Subreddit Unique Commenters",
         "type": "scatter",
         "x": [
          "2019-01-01T00:00:00",
          "2019-02-01T00:00:00",
          "2019-03-01T00:00:00",
          "2019-04-01T00:00:00",
          "2019-05-01T00:00:00",
          "2019-06-01T00:00:00",
          "2019-07-01T00:00:00",
          "2019-08-01T00:00:00",
          "2019-09-01T00:00:00",
          "2019-10-01T00:00:00",
          "2019-11-01T00:00:00",
          "2019-12-01T00:00:00"
         ],
         "xaxis": "x",
         "y": [
          37,
          98,
          19,
          18,
          7,
          16,
          12,
          32,
          40,
          37,
          35,
          71
         ],
         "yaxis": "y2"
        },
        {
         "line": {
          "color": "#AB63FA",
          "dash": "dash"
         },
         "mode": "lines",
         "name": "ElizabethWarren Subreddit Unique Commenters",
         "type": "scatter",
         "x": [
          "2019-01-01T00:00:00",
          "2019-02-01T00:00:00",
          "2019-03-01T00:00:00",
          "2019-04-01T00:00:00",
          "2019-05-01T00:00:00",
          "2019-06-01T00:00:00",
          "2019-07-01T00:00:00",
          "2019-08-01T00:00:00",
          "2019-09-01T00:00:00",
          "2019-10-01T00:00:00",
          "2019-11-01T00:00:00",
          "2019-12-01T00:00:00"
         ],
         "xaxis": "x",
         "y": [
          120,
          148,
          142,
          470,
          836,
          1431,
          1411,
          1587,
          2083,
          2468,
          2331,
          1668
         ],
         "yaxis": "y2"
        },
        {
         "line": {
          "color": "#FFA15A",
          "dash": "dash"
         },
         "mode": "lines",
         "name": "Pete_Buttigieg Subreddit Unique Commenters",
         "type": "scatter",
         "x": [
          "2019-01-01T00:00:00",
          "2019-02-01T00:00:00",
          "2019-03-01T00:00:00",
          "2019-04-01T00:00:00",
          "2019-05-01T00:00:00",
          "2019-06-01T00:00:00",
          "2019-07-01T00:00:00",
          "2019-08-01T00:00:00",
          "2019-09-01T00:00:00",
          "2019-10-01T00:00:00",
          "2019-11-01T00:00:00",
          "2019-12-01T00:00:00"
         ],
         "xaxis": "x",
         "y": [
          8,
          32,
          1839,
          4549,
          2561,
          2828,
          2893,
          2430,
          2089,
          2364,
          3090,
          3520
         ],
         "yaxis": "y2"
        },
        {
         "line": {
          "color": "#19D3F3",
          "dash": "dash"
         },
         "mode": "lines",
         "name": "YangForPresidentHQ Subreddit Unique Commenters",
         "type": "scatter",
         "x": [
          "2019-01-01T00:00:00",
          "2019-02-01T00:00:00",
          "2019-03-01T00:00:00",
          "2019-04-01T00:00:00",
          "2019-05-01T00:00:00",
          "2019-06-01T00:00:00",
          "2019-07-01T00:00:00",
          "2019-08-01T00:00:00",
          "2019-09-01T00:00:00",
          "2019-10-01T00:00:00",
          "2019-11-01T00:00:00",
          "2019-12-01T00:00:00"
         ],
         "xaxis": "x",
         "y": [
          35,
          580,
          3953,
          3944,
          3122,
          5522,
          8129,
          13622,
          14337,
          14475,
          13588,
          17411
         ],
         "yaxis": "y2"
        },
        {
         "line": {
          "color": "#636EFA"
         },
         "name": "Joseph R. Biden Jr. Polling Avg",
         "type": "scatter",
         "x": [
          "2018-12-24T00:00:00",
          "2019-01-21T00:00:00",
          "2019-01-28T00:00:00",
          "2019-02-11T00:00:00",
          "2019-03-04T00:00:00",
          "2019-03-18T00:00:00",
          "2019-03-25T00:00:00",
          "2019-04-08T00:00:00",
          "2019-04-22T00:00:00",
          "2019-04-29T00:00:00",
          "2019-05-06T00:00:00",
          "2019-05-13T00:00:00",
          "2019-05-20T00:00:00",
          "2019-06-03T00:00:00",
          "2019-06-10T00:00:00",
          "2019-06-17T00:00:00",
          "2019-06-24T00:00:00",
          "2019-07-01T00:00:00",
          "2019-07-08T00:00:00",
          "2019-07-15T00:00:00",
          "2019-07-22T00:00:00",
          "2019-07-29T00:00:00",
          "2019-08-05T00:00:00",
          "2019-08-12T00:00:00",
          "2019-08-19T00:00:00",
          "2019-08-26T00:00:00",
          "2019-09-02T00:00:00",
          "2019-09-09T00:00:00",
          "2019-09-16T00:00:00",
          "2019-09-23T00:00:00",
          "2019-09-30T00:00:00",
          "2019-10-07T00:00:00",
          "2019-10-14T00:00:00",
          "2019-10-21T00:00:00",
          "2019-10-28T00:00:00",
          "2019-11-04T00:00:00",
          "2019-11-11T00:00:00",
          "2019-11-18T00:00:00",
          "2019-11-25T00:00:00",
          "2019-12-02T00:00:00",
          "2019-12-09T00:00:00",
          "2019-12-16T00:00:00",
          "2019-12-23T00:00:00",
          "2019-12-30T00:00:00",
          "2020-01-06T00:00:00",
          "2020-01-13T00:00:00",
          "2020-01-20T00:00:00",
          "2020-01-27T00:00:00",
          "2020-02-03T00:00:00",
          "2020-02-10T00:00:00",
          "2020-02-17T00:00:00",
          "2020-02-24T00:00:00",
          "2020-03-02T00:00:00",
          "2020-03-09T00:00:00",
          "2020-03-16T00:00:00",
          "2020-03-23T00:00:00",
          "2020-03-30T00:00:00",
          "2020-04-06T00:00:00",
          "2020-04-13T00:00:00",
          "2020-04-27T00:00:00"
         ],
         "xaxis": "x",
         "y": [
          25.5,
          45.4,
          29,
          27.4,
          28,
          28.45,
          29,
          23.8,
          19.25,
          38,
          32.6,
          32,
          34,
          29.333333333333332,
          29.333333333333332,
          29.376666666666665,
          28.95,
          25.125,
          25.900000000000002,
          23,
          29.25,
          29.4,
          28.771428571428572,
          26,
          20.5,
          29.8775,
          27.333333333333332,
          31.285714285714285,
          34.2,
          22.24285714285714,
          23.5,
          27.5,
          23.233333333333334,
          24.133333333333336,
          27.67833333333333,
          23.666666666666668,
          21.666666666666668,
          28.7,
          26,
          23,
          26.882857142857144,
          26.775,
          30,
          29,
          24.8,
          26,
          25.44375,
          25.225,
          20,
          36.285714285714285,
          16.630000000000003,
          18.5,
          39.36363636363637,
          53.4,
          47.43333333333334,
          49,
          47,
          49,
          49,
          68
         ],
         "yaxis": "y"
        },
        {
         "line": {
          "color": "#EF553B"
         },
         "name": "Bernard Sanders Polling Avg",
         "type": "scatter",
         "x": [
          "2018-12-24T00:00:00",
          "2019-01-21T00:00:00",
          "2019-01-28T00:00:00",
          "2019-02-11T00:00:00",
          "2019-03-04T00:00:00",
          "2019-03-18T00:00:00",
          "2019-03-25T00:00:00",
          "2019-04-08T00:00:00",
          "2019-04-22T00:00:00",
          "2019-04-29T00:00:00",
          "2019-05-06T00:00:00",
          "2019-05-13T00:00:00",
          "2019-05-20T00:00:00",
          "2019-06-03T00:00:00",
          "2019-06-10T00:00:00",
          "2019-06-17T00:00:00",
          "2019-06-24T00:00:00",
          "2019-07-01T00:00:00",
          "2019-07-08T00:00:00",
          "2019-07-15T00:00:00",
          "2019-07-22T00:00:00",
          "2019-07-29T00:00:00",
          "2019-08-05T00:00:00",
          "2019-08-12T00:00:00",
          "2019-08-19T00:00:00",
          "2019-08-26T00:00:00",
          "2019-09-02T00:00:00",
          "2019-09-09T00:00:00",
          "2019-09-16T00:00:00",
          "2019-09-23T00:00:00",
          "2019-09-30T00:00:00",
          "2019-10-07T00:00:00",
          "2019-10-14T00:00:00",
          "2019-10-21T00:00:00",
          "2019-10-28T00:00:00",
          "2019-11-04T00:00:00",
          "2019-11-11T00:00:00",
          "2019-11-18T00:00:00",
          "2019-11-25T00:00:00",
          "2019-12-02T00:00:00",
          "2019-12-09T00:00:00",
          "2019-12-16T00:00:00",
          "2019-12-23T00:00:00",
          "2019-12-30T00:00:00",
          "2020-01-06T00:00:00",
          "2020-01-13T00:00:00",
          "2020-01-20T00:00:00",
          "2020-01-27T00:00:00",
          "2020-02-03T00:00:00",
          "2020-02-10T00:00:00",
          "2020-02-17T00:00:00",
          "2020-02-24T00:00:00",
          "2020-03-02T00:00:00",
          "2020-03-09T00:00:00",
          "2020-03-16T00:00:00",
          "2020-03-23T00:00:00",
          "2020-03-30T00:00:00",
          "2020-04-06T00:00:00",
          "2020-04-13T00:00:00",
          "2020-04-27T00:00:00"
         ],
         "xaxis": "x",
         "y": [
          22,
          5.4,
          16,
          17.2,
          28.5,
          24.65,
          19,
          29,
          15.4,
          11,
          24.9,
          14.666666666666666,
          15.5,
          15,
          14.666666666666666,
          14.106666666666667,
          21.05,
          16.5,
          13.133333333333333,
          13,
          13.75,
          16.55,
          17.057142857142857,
          13,
          19.5,
          16.39,
          17.333333333333332,
          23,
          16,
          15.971428571428572,
          14.5,
          14.25,
          16.516666666666666,
          18.166666666666668,
          16.755,
          16.333333333333332,
          18,
          19.25,
          15.8,
          13.5,
          18.00857142857143,
          19.925,
          17,
          19,
          18.98,
          20.333333333333332,
          19.575,
          22.475,
          20.75,
          43,
          33.4,
          26.75714285714286,
          38.84615384615385,
          37,
          39.18333333333333,
          35.75,
          34,
          28,
          31,
          23.7
         ],
         "yaxis": "y"
        },
        {
         "line": {
          "color": "#00CC96"
         },
         "name": "Amy Klobuchar Polling Avg",
         "type": "scatter",
         "x": [
          "2019-01-21T00:00:00",
          "2019-01-28T00:00:00",
          "2019-02-11T00:00:00",
          "2019-03-04T00:00:00",
          "2019-03-18T00:00:00",
          "2019-03-25T00:00:00",
          "2019-04-08T00:00:00",
          "2019-04-22T00:00:00",
          "2019-04-29T00:00:00",
          "2019-05-06T00:00:00",
          "2019-05-13T00:00:00",
          "2019-05-20T00:00:00",
          "2019-06-03T00:00:00",
          "2019-06-10T00:00:00",
          "2019-06-17T00:00:00",
          "2019-06-24T00:00:00",
          "2019-07-01T00:00:00",
          "2019-07-08T00:00:00",
          "2019-07-15T00:00:00",
          "2019-07-22T00:00:00",
          "2019-07-29T00:00:00",
          "2019-08-05T00:00:00",
          "2019-08-12T00:00:00",
          "2019-08-19T00:00:00",
          "2019-08-26T00:00:00",
          "2019-09-02T00:00:00",
          "2019-09-09T00:00:00",
          "2019-09-16T00:00:00",
          "2019-09-23T00:00:00",
          "2019-09-30T00:00:00",
          "2019-10-07T00:00:00",
          "2019-10-14T00:00:00",
          "2019-10-21T00:00:00",
          "2019-10-28T00:00:00",
          "2019-11-04T00:00:00",
          "2019-11-11T00:00:00",
          "2019-11-18T00:00:00",
          "2019-11-25T00:00:00",
          "2019-12-02T00:00:00",
          "2019-12-09T00:00:00",
          "2019-12-16T00:00:00",
          "2019-12-23T00:00:00",
          "2019-12-30T00:00:00",
          "2020-01-06T00:00:00",
          "2020-01-13T00:00:00",
          "2020-01-20T00:00:00",
          "2020-01-27T00:00:00",
          "2020-02-03T00:00:00",
          "2020-02-10T00:00:00",
          "2020-02-17T00:00:00",
          "2020-02-24T00:00:00",
          "2020-03-02T00:00:00"
         ],
         "xaxis": "x",
         "y": [
          1.4,
          2,
          4.6,
          3,
          0.95,
          2,
          1,
          1.2,
          1,
          0.6,
          1.3333333333333333,
          2.5,
          1.3333333333333333,
          1.3333333333333333,
          0.7533333333333333,
          0.85,
          1.125,
          0.9666666666666667,
          1,
          1.25,
          0.65,
          1.1,
          1.5,
          0.5,
          0.7,
          1,
          1.2,
          1.5,
          1.0714285714285714,
          1,
          2,
          1.5,
          1.6666666666666667,
          2.2916666666666665,
          1.3333333333333333,
          1.3333333333333333,
          1.7,
          2.4,
          2,
          3.4842857142857144,
          3,
          5,
          4,
          2.2199999999999998,
          2.3333333333333335,
          2.49375,
          4.525,
          4.25,
          29.857142857142858,
          6.279999999999999,
          4.014285714285714,
          3.6666666666666665
         ],
         "yaxis": "y"
        },
        {
         "line": {
          "color": "#AB63FA"
         },
         "name": "Elizabeth Warren Polling Avg",
         "type": "scatter",
         "x": [
          "2018-12-24T00:00:00",
          "2019-01-21T00:00:00",
          "2019-01-28T00:00:00",
          "2019-02-11T00:00:00",
          "2019-03-04T00:00:00",
          "2019-03-18T00:00:00",
          "2019-03-25T00:00:00",
          "2019-04-08T00:00:00",
          "2019-04-22T00:00:00",
          "2019-04-29T00:00:00",
          "2019-05-06T00:00:00",
          "2019-05-13T00:00:00",
          "2019-05-20T00:00:00",
          "2019-06-03T00:00:00",
          "2019-06-10T00:00:00",
          "2019-06-17T00:00:00",
          "2019-06-24T00:00:00",
          "2019-07-01T00:00:00",
          "2019-07-08T00:00:00",
          "2019-07-15T00:00:00",
          "2019-07-22T00:00:00",
          "2019-07-29T00:00:00",
          "2019-08-05T00:00:00",
          "2019-08-12T00:00:00",
          "2019-08-19T00:00:00",
          "2019-08-26T00:00:00",
          "2019-09-02T00:00:00",
          "2019-09-09T00:00:00",
          "2019-09-16T00:00:00",
          "2019-09-23T00:00:00",
          "2019-09-30T00:00:00",
          "2019-10-07T00:00:00",
          "2019-10-14T00:00:00",
          "2019-10-21T00:00:00",
          "2019-10-28T00:00:00",
          "2019-11-04T00:00:00",
          "2019-11-11T00:00:00",
          "2019-11-18T00:00:00",
          "2019-11-25T00:00:00",
          "2019-12-02T00:00:00",
          "2019-12-09T00:00:00",
          "2019-12-16T00:00:00",
          "2019-12-23T00:00:00",
          "2019-12-30T00:00:00",
          "2020-01-06T00:00:00",
          "2020-01-13T00:00:00",
          "2020-01-20T00:00:00",
          "2020-01-27T00:00:00",
          "2020-02-03T00:00:00",
          "2020-02-10T00:00:00",
          "2020-02-17T00:00:00",
          "2020-02-24T00:00:00",
          "2020-03-02T00:00:00"
         ],
         "xaxis": "x",
         "y": [
          6.9,
          22.9,
          8,
          9.2,
          9,
          6.2,
          4,
          6.8,
          5,
          12,
          9.7,
          7.333333333333333,
          11.5,
          9.333333333333334,
          13.333333333333334,
          12.87,
          16.1,
          11.75,
          16.833333333333332,
          15,
          17,
          16.05,
          14.671428571428573,
          20,
          18.5,
          16.945,
          18.666666666666668,
          27.571428571428573,
          23.2,
          19.24285714285714,
          27,
          27.25,
          20.25,
          23.400000000000002,
          21.298333333333332,
          19.666666666666668,
          16.666666666666668,
          20.75,
          14.6,
          13.5,
          16.108571428571427,
          14.35,
          19,
          18,
          16.54,
          15,
          12.975,
          15.1,
          13.25,
          39,
          12.75,
          12.12857142857143,
          11.2
         ],
         "yaxis": "y"
        },
        {
         "line": {
          "color": "#FFA15A"
         },
         "name": "Pete Buttigieg Polling Avg",
         "type": "scatter",
         "x": [
          "2019-01-28T00:00:00",
          "2019-02-11T00:00:00",
          "2019-03-04T00:00:00",
          "2019-03-18T00:00:00",
          "2019-03-25T00:00:00",
          "2019-04-08T00:00:00",
          "2019-04-22T00:00:00",
          "2019-04-29T00:00:00",
          "2019-05-06T00:00:00",
          "2019-05-13T00:00:00",
          "2019-05-20T00:00:00",
          "2019-06-03T00:00:00",
          "2019-06-10T00:00:00",
          "2019-06-17T00:00:00",
          "2019-06-24T00:00:00",
          "2019-07-01T00:00:00",
          "2019-07-08T00:00:00",
          "2019-07-15T00:00:00",
          "2019-07-22T00:00:00",
          "2019-07-29T00:00:00",
          "2019-08-05T00:00:00",
          "2019-08-12T00:00:00",
          "2019-08-19T00:00:00",
          "2019-08-26T00:00:00",
          "2019-09-02T00:00:00",
          "2019-09-09T00:00:00",
          "2019-09-16T00:00:00",
          "2019-09-23T00:00:00",
          "2019-09-30T00:00:00",
          "2019-10-07T00:00:00",
          "2019-10-14T00:00:00",
          "2019-10-21T00:00:00",
          "2019-10-28T00:00:00",
          "2019-11-04T00:00:00",
          "2019-11-11T00:00:00",
          "2019-11-18T00:00:00",
          "2019-11-25T00:00:00",
          "2019-12-02T00:00:00",
          "2019-12-09T00:00:00",
          "2019-12-16T00:00:00",
          "2019-12-23T00:00:00",
          "2019-12-30T00:00:00",
          "2020-01-06T00:00:00",
          "2020-01-13T00:00:00",
          "2020-01-20T00:00:00",
          "2020-01-27T00:00:00",
          "2020-02-03T00:00:00",
          "2020-02-10T00:00:00",
          "2020-02-17T00:00:00",
          "2020-02-24T00:00:00",
          "2020-03-02T00:00:00"
         ],
         "xaxis": "x",
         "y": [
          0,
          0,
          0,
          1.95,
          4,
          9,
          7.75,
          10,
          7.5,
          4.666666666666667,
          5.5,
          6.333333333333333,
          8,
          7.783333333333334,
          5.65,
          4.25,
          5.766666666666667,
          7,
          5.75,
          5.6,
          5.985714285714286,
          4,
          5.5,
          4.8675,
          4.666666666666667,
          4.6,
          6.25,
          5.071428571428571,
          6,
          5.25,
          4.766666666666667,
          8.133333333333333,
          7.794999999999999,
          7.666666666666667,
          7,
          8.2,
          11.6,
          9,
          9.332857142857142,
          6.925,
          7,
          8,
          6.840000000000001,
          7.333333333333333,
          6.19375,
          5.9,
          8,
          30.428571428571427,
          12.245454545454544,
          9.785714285714286,
          8.333333333333334
         ],
         "yaxis": "y"
        },
        {
         "line": {
          "color": "#19D3F3"
         },
         "name": "Andrew Yang Polling Avg",
         "type": "scatter",
         "x": [
          "2019-01-28T00:00:00",
          "2019-03-04T00:00:00",
          "2019-03-18T00:00:00",
          "2019-03-25T00:00:00",
          "2019-04-08T00:00:00",
          "2019-04-22T00:00:00",
          "2019-04-29T00:00:00",
          "2019-05-06T00:00:00",
          "2019-05-13T00:00:00",
          "2019-05-20T00:00:00",
          "2019-06-03T00:00:00",
          "2019-06-10T00:00:00",
          "2019-06-17T00:00:00",
          "2019-06-24T00:00:00",
          "2019-07-01T00:00:00",
          "2019-07-08T00:00:00",
          "2019-07-15T00:00:00",
          "2019-07-22T00:00:00",
          "2019-07-29T00:00:00",
          "2019-08-05T00:00:00",
          "2019-08-12T00:00:00",
          "2019-08-19T00:00:00",
          "2019-08-26T00:00:00",
          "2019-09-02T00:00:00",
          "2019-09-09T00:00:00",
          "2019-09-16T00:00:00",
          "2019-09-23T00:00:00",
          "2019-09-30T00:00:00",
          "2019-10-07T00:00:00",
          "2019-10-14T00:00:00",
          "2019-10-21T00:00:00",
          "2019-10-28T00:00:00",
          "2019-11-04T00:00:00",
          "2019-11-11T00:00:00",
          "2019-11-18T00:00:00",
          "2019-11-25T00:00:00",
          "2019-12-02T00:00:00",
          "2019-12-09T00:00:00",
          "2019-12-16T00:00:00",
          "2019-12-23T00:00:00",
          "2019-12-30T00:00:00",
          "2020-01-06T00:00:00",
          "2020-01-13T00:00:00",
          "2020-01-20T00:00:00",
          "2020-01-27T00:00:00",
          "2020-02-03T00:00:00",
          "2020-02-10T00:00:00",
          "2020-02-24T00:00:00"
         ],
         "xaxis": "x",
         "y": [
          1,
          1,
          1.2,
          0,
          2.7,
          0.5,
          1,
          1.1,
          1,
          1,
          1,
          1.3333333333333333,
          1.1733333333333333,
          0.85,
          1.125,
          2.066666666666667,
          1,
          2.25,
          1.5,
          1.4428571428571428,
          2,
          2,
          3.0575,
          3,
          2.4,
          3,
          2.8714285714285714,
          2.5,
          2.5,
          2.3333333333333335,
          2.8000000000000003,
          2.585,
          2,
          2.6666666666666665,
          3,
          3.6,
          2.5,
          3.2971428571428567,
          3.575,
          3,
          3,
          3.62,
          3.6666666666666665,
          4.3125,
          3.725,
          3.5,
          3,
          4.1
         ],
         "yaxis": "y"
        }
       ],
       "layout": {
        "legend": {
         "orientation": "v",
         "x": 1.1,
         "xanchor": "left",
         "y": 1
        },
        "template": {
         "data": {
          "bar": [
           {
            "error_x": {
             "color": "rgb(36,36,36)"
            },
            "error_y": {
             "color": "rgb(36,36,36)"
            },
            "marker": {
             "line": {
              "color": "white",
              "width": 0.5
             }
            },
            "type": "bar"
           }
          ],
          "barpolar": [
           {
            "marker": {
             "line": {
              "color": "white",
              "width": 0.5
             }
            },
            "type": "barpolar"
           }
          ],
          "carpet": [
           {
            "aaxis": {
             "endlinecolor": "rgb(36,36,36)",
             "gridcolor": "white",
             "linecolor": "white",
             "minorgridcolor": "white",
             "startlinecolor": "rgb(36,36,36)"
            },
            "baxis": {
             "endlinecolor": "rgb(36,36,36)",
             "gridcolor": "white",
             "linecolor": "white",
             "minorgridcolor": "white",
             "startlinecolor": "rgb(36,36,36)"
            },
            "type": "carpet"
           }
          ],
          "choropleth": [
           {
            "colorbar": {
             "outlinewidth": 1,
             "tickcolor": "rgb(36,36,36)",
             "ticks": "outside"
            },
            "type": "choropleth"
           }
          ],
          "contour": [
           {
            "colorbar": {
             "outlinewidth": 1,
             "tickcolor": "rgb(36,36,36)",
             "ticks": "outside"
            },
            "colorscale": [
             [
              0,
              "#440154"
             ],
             [
              0.1111111111111111,
              "#482878"
             ],
             [
              0.2222222222222222,
              "#3e4989"
             ],
             [
              0.3333333333333333,
              "#31688e"
             ],
             [
              0.4444444444444444,
              "#26828e"
             ],
             [
              0.5555555555555556,
              "#1f9e89"
             ],
             [
              0.6666666666666666,
              "#35b779"
             ],
             [
              0.7777777777777778,
              "#6ece58"
             ],
             [
              0.8888888888888888,
              "#b5de2b"
             ],
             [
              1,
              "#fde725"
             ]
            ],
            "type": "contour"
           }
          ],
          "contourcarpet": [
           {
            "colorbar": {
             "outlinewidth": 1,
             "tickcolor": "rgb(36,36,36)",
             "ticks": "outside"
            },
            "type": "contourcarpet"
           }
          ],
          "heatmap": [
           {
            "colorbar": {
             "outlinewidth": 1,
             "tickcolor": "rgb(36,36,36)",
             "ticks": "outside"
            },
            "colorscale": [
             [
              0,
              "#440154"
             ],
             [
              0.1111111111111111,
              "#482878"
             ],
             [
              0.2222222222222222,
              "#3e4989"
             ],
             [
              0.3333333333333333,
              "#31688e"
             ],
             [
              0.4444444444444444,
              "#26828e"
             ],
             [
              0.5555555555555556,
              "#1f9e89"
             ],
             [
              0.6666666666666666,
              "#35b779"
             ],
             [
              0.7777777777777778,
              "#6ece58"
             ],
             [
              0.8888888888888888,
              "#b5de2b"
             ],
             [
              1,
              "#fde725"
             ]
            ],
            "type": "heatmap"
           }
          ],
          "heatmapgl": [
           {
            "colorbar": {
             "outlinewidth": 1,
             "tickcolor": "rgb(36,36,36)",
             "ticks": "outside"
            },
            "colorscale": [
             [
              0,
              "#440154"
             ],
             [
              0.1111111111111111,
              "#482878"
             ],
             [
              0.2222222222222222,
              "#3e4989"
             ],
             [
              0.3333333333333333,
              "#31688e"
             ],
             [
              0.4444444444444444,
              "#26828e"
             ],
             [
              0.5555555555555556,
              "#1f9e89"
             ],
             [
              0.6666666666666666,
              "#35b779"
             ],
             [
              0.7777777777777778,
              "#6ece58"
             ],
             [
              0.8888888888888888,
              "#b5de2b"
             ],
             [
              1,
              "#fde725"
             ]
            ],
            "type": "heatmapgl"
           }
          ],
          "histogram": [
           {
            "marker": {
             "line": {
              "color": "white",
              "width": 0.6
             }
            },
            "type": "histogram"
           }
          ],
          "histogram2d": [
           {
            "colorbar": {
             "outlinewidth": 1,
             "tickcolor": "rgb(36,36,36)",
             "ticks": "outside"
            },
            "colorscale": [
             [
              0,
              "#440154"
             ],
             [
              0.1111111111111111,
              "#482878"
             ],
             [
              0.2222222222222222,
              "#3e4989"
             ],
             [
              0.3333333333333333,
              "#31688e"
             ],
             [
              0.4444444444444444,
              "#26828e"
             ],
             [
              0.5555555555555556,
              "#1f9e89"
             ],
             [
              0.6666666666666666,
              "#35b779"
             ],
             [
              0.7777777777777778,
              "#6ece58"
             ],
             [
              0.8888888888888888,
              "#b5de2b"
             ],
             [
              1,
              "#fde725"
             ]
            ],
            "type": "histogram2d"
           }
          ],
          "histogram2dcontour": [
           {
            "colorbar": {
             "outlinewidth": 1,
             "tickcolor": "rgb(36,36,36)",
             "ticks": "outside"
            },
            "colorscale": [
             [
              0,
              "#440154"
             ],
             [
              0.1111111111111111,
              "#482878"
             ],
             [
              0.2222222222222222,
              "#3e4989"
             ],
             [
              0.3333333333333333,
              "#31688e"
             ],
             [
              0.4444444444444444,
              "#26828e"
             ],
             [
              0.5555555555555556,
              "#1f9e89"
             ],
             [
              0.6666666666666666,
              "#35b779"
             ],
             [
              0.7777777777777778,
              "#6ece58"
             ],
             [
              0.8888888888888888,
              "#b5de2b"
             ],
             [
              1,
              "#fde725"
             ]
            ],
            "type": "histogram2dcontour"
           }
          ],
          "mesh3d": [
           {
            "colorbar": {
             "outlinewidth": 1,
             "tickcolor": "rgb(36,36,36)",
             "ticks": "outside"
            },
            "type": "mesh3d"
           }
          ],
          "parcoords": [
           {
            "line": {
             "colorbar": {
              "outlinewidth": 1,
              "tickcolor": "rgb(36,36,36)",
              "ticks": "outside"
             }
            },
            "type": "parcoords"
           }
          ],
          "pie": [
           {
            "automargin": true,
            "type": "pie"
           }
          ],
          "scatter": [
           {
            "marker": {
             "colorbar": {
              "outlinewidth": 1,
              "tickcolor": "rgb(36,36,36)",
              "ticks": "outside"
             }
            },
            "type": "scatter"
           }
          ],
          "scatter3d": [
           {
            "line": {
             "colorbar": {
              "outlinewidth": 1,
              "tickcolor": "rgb(36,36,36)",
              "ticks": "outside"
             }
            },
            "marker": {
             "colorbar": {
              "outlinewidth": 1,
              "tickcolor": "rgb(36,36,36)",
              "ticks": "outside"
             }
            },
            "type": "scatter3d"
           }
          ],
          "scattercarpet": [
           {
            "marker": {
             "colorbar": {
              "outlinewidth": 1,
              "tickcolor": "rgb(36,36,36)",
              "ticks": "outside"
             }
            },
            "type": "scattercarpet"
           }
          ],
          "scattergeo": [
           {
            "marker": {
             "colorbar": {
              "outlinewidth": 1,
              "tickcolor": "rgb(36,36,36)",
              "ticks": "outside"
             }
            },
            "type": "scattergeo"
           }
          ],
          "scattergl": [
           {
            "marker": {
             "colorbar": {
              "outlinewidth": 1,
              "tickcolor": "rgb(36,36,36)",
              "ticks": "outside"
             }
            },
            "type": "scattergl"
           }
          ],
          "scattermapbox": [
           {
            "marker": {
             "colorbar": {
              "outlinewidth": 1,
              "tickcolor": "rgb(36,36,36)",
              "ticks": "outside"
             }
            },
            "type": "scattermapbox"
           }
          ],
          "scatterpolar": [
           {
            "marker": {
             "colorbar": {
              "outlinewidth": 1,
              "tickcolor": "rgb(36,36,36)",
              "ticks": "outside"
             }
            },
            "type": "scatterpolar"
           }
          ],
          "scatterpolargl": [
           {
            "marker": {
             "colorbar": {
              "outlinewidth": 1,
              "tickcolor": "rgb(36,36,36)",
              "ticks": "outside"
             }
            },
            "type": "scatterpolargl"
           }
          ],
          "scatterternary": [
           {
            "marker": {
             "colorbar": {
              "outlinewidth": 1,
              "tickcolor": "rgb(36,36,36)",
              "ticks": "outside"
             }
            },
            "type": "scatterternary"
           }
          ],
          "surface": [
           {
            "colorbar": {
             "outlinewidth": 1,
             "tickcolor": "rgb(36,36,36)",
             "ticks": "outside"
            },
            "colorscale": [
             [
              0,
              "#440154"
             ],
             [
              0.1111111111111111,
              "#482878"
             ],
             [
              0.2222222222222222,
              "#3e4989"
             ],
             [
              0.3333333333333333,
              "#31688e"
             ],
             [
              0.4444444444444444,
              "#26828e"
             ],
             [
              0.5555555555555556,
              "#1f9e89"
             ],
             [
              0.6666666666666666,
              "#35b779"
             ],
             [
              0.7777777777777778,
              "#6ece58"
             ],
             [
              0.8888888888888888,
              "#b5de2b"
             ],
             [
              1,
              "#fde725"
             ]
            ],
            "type": "surface"
           }
          ],
          "table": [
           {
            "cells": {
             "fill": {
              "color": "rgb(237,237,237)"
             },
             "line": {
              "color": "white"
             }
            },
            "header": {
             "fill": {
              "color": "rgb(217,217,217)"
             },
             "line": {
              "color": "white"
             }
            },
            "type": "table"
           }
          ]
         },
         "layout": {
          "annotationdefaults": {
           "arrowhead": 0,
           "arrowwidth": 1
          },
          "coloraxis": {
           "colorbar": {
            "outlinewidth": 1,
            "tickcolor": "rgb(36,36,36)",
            "ticks": "outside"
           }
          },
          "colorscale": {
           "diverging": [
            [
             0,
             "rgb(103,0,31)"
            ],
            [
             0.1,
             "rgb(178,24,43)"
            ],
            [
             0.2,
             "rgb(214,96,77)"
            ],
            [
             0.3,
             "rgb(244,165,130)"
            ],
            [
             0.4,
             "rgb(253,219,199)"
            ],
            [
             0.5,
             "rgb(247,247,247)"
            ],
            [
             0.6,
             "rgb(209,229,240)"
            ],
            [
             0.7,
             "rgb(146,197,222)"
            ],
            [
             0.8,
             "rgb(67,147,195)"
            ],
            [
             0.9,
             "rgb(33,102,172)"
            ],
            [
             1,
             "rgb(5,48,97)"
            ]
           ],
           "sequential": [
            [
             0,
             "#440154"
            ],
            [
             0.1111111111111111,
             "#482878"
            ],
            [
             0.2222222222222222,
             "#3e4989"
            ],
            [
             0.3333333333333333,
             "#31688e"
            ],
            [
             0.4444444444444444,
             "#26828e"
            ],
            [
             0.5555555555555556,
             "#1f9e89"
            ],
            [
             0.6666666666666666,
             "#35b779"
            ],
            [
             0.7777777777777778,
             "#6ece58"
            ],
            [
             0.8888888888888888,
             "#b5de2b"
            ],
            [
             1,
             "#fde725"
            ]
           ],
           "sequentialminus": [
            [
             0,
             "#440154"
            ],
            [
             0.1111111111111111,
             "#482878"
            ],
            [
             0.2222222222222222,
             "#3e4989"
            ],
            [
             0.3333333333333333,
             "#31688e"
            ],
            [
             0.4444444444444444,
             "#26828e"
            ],
            [
             0.5555555555555556,
             "#1f9e89"
            ],
            [
             0.6666666666666666,
             "#35b779"
            ],
            [
             0.7777777777777778,
             "#6ece58"
            ],
            [
             0.8888888888888888,
             "#b5de2b"
            ],
            [
             1,
             "#fde725"
            ]
           ]
          },
          "colorway": [
           "#1F77B4",
           "#FF7F0E",
           "#2CA02C",
           "#D62728",
           "#9467BD",
           "#8C564B",
           "#E377C2",
           "#7F7F7F",
           "#BCBD22",
           "#17BECF"
          ],
          "font": {
           "color": "rgb(36,36,36)"
          },
          "geo": {
           "bgcolor": "white",
           "lakecolor": "white",
           "landcolor": "white",
           "showlakes": true,
           "showland": true,
           "subunitcolor": "white"
          },
          "hoverlabel": {
           "align": "left"
          },
          "hovermode": "closest",
          "mapbox": {
           "style": "light"
          },
          "paper_bgcolor": "white",
          "plot_bgcolor": "white",
          "polar": {
           "angularaxis": {
            "gridcolor": "rgb(232,232,232)",
            "linecolor": "rgb(36,36,36)",
            "showgrid": false,
            "showline": true,
            "ticks": "outside"
           },
           "bgcolor": "white",
           "radialaxis": {
            "gridcolor": "rgb(232,232,232)",
            "linecolor": "rgb(36,36,36)",
            "showgrid": false,
            "showline": true,
            "ticks": "outside"
           }
          },
          "scene": {
           "xaxis": {
            "backgroundcolor": "white",
            "gridcolor": "rgb(232,232,232)",
            "gridwidth": 2,
            "linecolor": "rgb(36,36,36)",
            "showbackground": true,
            "showgrid": false,
            "showline": true,
            "ticks": "outside",
            "zeroline": false,
            "zerolinecolor": "rgb(36,36,36)"
           },
           "yaxis": {
            "backgroundcolor": "white",
            "gridcolor": "rgb(232,232,232)",
            "gridwidth": 2,
            "linecolor": "rgb(36,36,36)",
            "showbackground": true,
            "showgrid": false,
            "showline": true,
            "ticks": "outside",
            "zeroline": false,
            "zerolinecolor": "rgb(36,36,36)"
           },
           "zaxis": {
            "backgroundcolor": "white",
            "gridcolor": "rgb(232,232,232)",
            "gridwidth": 2,
            "linecolor": "rgb(36,36,36)",
            "showbackground": true,
            "showgrid": false,
            "showline": true,
            "ticks": "outside",
            "zeroline": false,
            "zerolinecolor": "rgb(36,36,36)"
           }
          },
          "shapedefaults": {
           "fillcolor": "black",
           "line": {
            "width": 0
           },
           "opacity": 0.3
          },
          "ternary": {
           "aaxis": {
            "gridcolor": "rgb(232,232,232)",
            "linecolor": "rgb(36,36,36)",
            "showgrid": false,
            "showline": true,
            "ticks": "outside"
           },
           "baxis": {
            "gridcolor": "rgb(232,232,232)",
            "linecolor": "rgb(36,36,36)",
            "showgrid": false,
            "showline": true,
            "ticks": "outside"
           },
           "bgcolor": "white",
           "caxis": {
            "gridcolor": "rgb(232,232,232)",
            "linecolor": "rgb(36,36,36)",
            "showgrid": false,
            "showline": true,
            "ticks": "outside"
           }
          },
          "title": {
           "x": 0.05
          },
          "xaxis": {
           "automargin": true,
           "gridcolor": "rgb(232,232,232)",
           "linecolor": "rgb(36,36,36)",
           "showgrid": false,
           "showline": true,
           "ticks": "outside",
           "title": {
            "standoff": 15
           },
           "zeroline": false,
           "zerolinecolor": "rgb(36,36,36)"
          },
          "yaxis": {
           "automargin": true,
           "gridcolor": "rgb(232,232,232)",
           "linecolor": "rgb(36,36,36)",
           "showgrid": false,
           "showline": true,
           "ticks": "outside",
           "title": {
            "standoff": 15
           },
           "zeroline": false,
           "zerolinecolor": "rgb(36,36,36)"
          }
         }
        },
        "title": {
         "text": "Dual Axis - Subreddit Comments and Polling Average"
        },
        "xaxis": {
         "anchor": "y",
         "domain": [
          0,
          0.94
         ],
         "title": {
          "text": "Time"
         }
        },
        "yaxis": {
         "anchor": "x",
         "domain": [
          0,
          1
         ],
         "title": {
          "text": "<b>Polling</b> Average"
         }
        },
        "yaxis2": {
         "anchor": "x",
         "overlaying": "y",
         "side": "right",
         "title": {
          "text": "<b>Unique</b> Commenters"
         }
        }
       }
      },
      "text/html": [
       "<div>\n",
       "        \n",
       "        \n",
       "            <div id=\"5cf59b49-4a42-4958-9908-e8472f56b6d3\" class=\"plotly-graph-div\" style=\"height:525px; width:100%;\"></div>\n",
       "            <script type=\"text/javascript\">\n",
       "                require([\"plotly\"], function(Plotly) {\n",
       "                    window.PLOTLYENV=window.PLOTLYENV || {};\n",
       "                    \n",
       "                if (document.getElementById(\"5cf59b49-4a42-4958-9908-e8472f56b6d3\")) {\n",
       "                    Plotly.newPlot(\n",
       "                        '5cf59b49-4a42-4958-9908-e8472f56b6d3',\n",
       "                        [{\"line\": {\"color\": \"#636EFA\", \"dash\": \"dash\"}, \"mode\": \"lines\", \"name\": \"JoeBiden Subreddit Unique Commenters\", \"type\": \"scatter\", \"x\": [\"2019-01-01T00:00:00\", \"2019-02-01T00:00:00\", \"2019-03-01T00:00:00\", \"2019-04-01T00:00:00\", \"2019-05-01T00:00:00\", \"2019-06-01T00:00:00\", \"2019-07-01T00:00:00\", \"2019-08-01T00:00:00\", \"2019-09-01T00:00:00\", \"2019-10-01T00:00:00\", \"2019-11-01T00:00:00\", \"2019-12-01T00:00:00\"], \"xaxis\": \"x\", \"y\": [1, 8, 9, 169, 250, 269, 186, 309, 322, 220, 258, 416], \"yaxis\": \"y2\"}, {\"line\": {\"color\": \"#EF553B\", \"dash\": \"dash\"}, \"mode\": \"lines\", \"name\": \"SandersForPresident Subreddit Unique Commenters\", \"type\": \"scatter\", \"x\": [\"2019-01-01T00:00:00\", \"2019-02-01T00:00:00\", \"2019-03-01T00:00:00\", \"2019-04-01T00:00:00\", \"2019-05-01T00:00:00\", \"2019-06-01T00:00:00\", \"2019-07-01T00:00:00\", \"2019-08-01T00:00:00\", \"2019-09-01T00:00:00\", \"2019-10-01T00:00:00\", \"2019-11-01T00:00:00\", \"2019-12-01T00:00:00\"], \"xaxis\": \"x\", \"y\": [5508, 11591, 11493, 10082, 7374, 17657, 11439, 19283, 16040, 14923, 12670, 18982], \"yaxis\": \"y2\"}, {\"line\": {\"color\": \"#00CC96\", \"dash\": \"dash\"}, \"mode\": \"lines\", \"name\": \"BaemyKlobaechar Subreddit Unique Commenters\", \"type\": \"scatter\", \"x\": [\"2019-01-01T00:00:00\", \"2019-02-01T00:00:00\", \"2019-03-01T00:00:00\", \"2019-04-01T00:00:00\", \"2019-05-01T00:00:00\", \"2019-06-01T00:00:00\", \"2019-07-01T00:00:00\", \"2019-08-01T00:00:00\", \"2019-09-01T00:00:00\", \"2019-10-01T00:00:00\", \"2019-11-01T00:00:00\", \"2019-12-01T00:00:00\"], \"xaxis\": \"x\", \"y\": [37, 98, 19, 18, 7, 16, 12, 32, 40, 37, 35, 71], \"yaxis\": \"y2\"}, {\"line\": {\"color\": \"#AB63FA\", \"dash\": \"dash\"}, \"mode\": \"lines\", \"name\": \"ElizabethWarren Subreddit Unique Commenters\", \"type\": \"scatter\", \"x\": [\"2019-01-01T00:00:00\", \"2019-02-01T00:00:00\", \"2019-03-01T00:00:00\", \"2019-04-01T00:00:00\", \"2019-05-01T00:00:00\", \"2019-06-01T00:00:00\", \"2019-07-01T00:00:00\", \"2019-08-01T00:00:00\", \"2019-09-01T00:00:00\", \"2019-10-01T00:00:00\", \"2019-11-01T00:00:00\", \"2019-12-01T00:00:00\"], \"xaxis\": \"x\", \"y\": [120, 148, 142, 470, 836, 1431, 1411, 1587, 2083, 2468, 2331, 1668], \"yaxis\": \"y2\"}, {\"line\": {\"color\": \"#FFA15A\", \"dash\": \"dash\"}, \"mode\": \"lines\", \"name\": \"Pete_Buttigieg Subreddit Unique Commenters\", \"type\": \"scatter\", \"x\": [\"2019-01-01T00:00:00\", \"2019-02-01T00:00:00\", \"2019-03-01T00:00:00\", \"2019-04-01T00:00:00\", \"2019-05-01T00:00:00\", \"2019-06-01T00:00:00\", \"2019-07-01T00:00:00\", \"2019-08-01T00:00:00\", \"2019-09-01T00:00:00\", \"2019-10-01T00:00:00\", \"2019-11-01T00:00:00\", \"2019-12-01T00:00:00\"], \"xaxis\": \"x\", \"y\": [8, 32, 1839, 4549, 2561, 2828, 2893, 2430, 2089, 2364, 3090, 3520], \"yaxis\": \"y2\"}, {\"line\": {\"color\": \"#19D3F3\", \"dash\": \"dash\"}, \"mode\": \"lines\", \"name\": \"YangForPresidentHQ Subreddit Unique Commenters\", \"type\": \"scatter\", \"x\": [\"2019-01-01T00:00:00\", \"2019-02-01T00:00:00\", \"2019-03-01T00:00:00\", \"2019-04-01T00:00:00\", \"2019-05-01T00:00:00\", \"2019-06-01T00:00:00\", \"2019-07-01T00:00:00\", \"2019-08-01T00:00:00\", \"2019-09-01T00:00:00\", \"2019-10-01T00:00:00\", \"2019-11-01T00:00:00\", \"2019-12-01T00:00:00\"], \"xaxis\": \"x\", \"y\": [35, 580, 3953, 3944, 3122, 5522, 8129, 13622, 14337, 14475, 13588, 17411], \"yaxis\": \"y2\"}, {\"line\": {\"color\": \"#636EFA\"}, \"name\": \"Joseph R. Biden Jr. Polling Avg\", \"type\": \"scatter\", \"x\": [\"2018-12-24T00:00:00\", \"2019-01-21T00:00:00\", \"2019-01-28T00:00:00\", \"2019-02-11T00:00:00\", \"2019-03-04T00:00:00\", \"2019-03-18T00:00:00\", \"2019-03-25T00:00:00\", \"2019-04-08T00:00:00\", \"2019-04-22T00:00:00\", \"2019-04-29T00:00:00\", \"2019-05-06T00:00:00\", \"2019-05-13T00:00:00\", \"2019-05-20T00:00:00\", \"2019-06-03T00:00:00\", \"2019-06-10T00:00:00\", \"2019-06-17T00:00:00\", \"2019-06-24T00:00:00\", \"2019-07-01T00:00:00\", \"2019-07-08T00:00:00\", \"2019-07-15T00:00:00\", \"2019-07-22T00:00:00\", \"2019-07-29T00:00:00\", \"2019-08-05T00:00:00\", \"2019-08-12T00:00:00\", \"2019-08-19T00:00:00\", \"2019-08-26T00:00:00\", \"2019-09-02T00:00:00\", \"2019-09-09T00:00:00\", \"2019-09-16T00:00:00\", \"2019-09-23T00:00:00\", \"2019-09-30T00:00:00\", \"2019-10-07T00:00:00\", \"2019-10-14T00:00:00\", \"2019-10-21T00:00:00\", \"2019-10-28T00:00:00\", \"2019-11-04T00:00:00\", \"2019-11-11T00:00:00\", \"2019-11-18T00:00:00\", \"2019-11-25T00:00:00\", \"2019-12-02T00:00:00\", \"2019-12-09T00:00:00\", \"2019-12-16T00:00:00\", \"2019-12-23T00:00:00\", \"2019-12-30T00:00:00\", \"2020-01-06T00:00:00\", \"2020-01-13T00:00:00\", \"2020-01-20T00:00:00\", \"2020-01-27T00:00:00\", \"2020-02-03T00:00:00\", \"2020-02-10T00:00:00\", \"2020-02-17T00:00:00\", \"2020-02-24T00:00:00\", \"2020-03-02T00:00:00\", \"2020-03-09T00:00:00\", \"2020-03-16T00:00:00\", \"2020-03-23T00:00:00\", \"2020-03-30T00:00:00\", \"2020-04-06T00:00:00\", \"2020-04-13T00:00:00\", \"2020-04-27T00:00:00\"], \"xaxis\": \"x\", \"y\": [25.5, 45.4, 29.0, 27.4, 28.0, 28.45, 29.0, 23.8, 19.25, 38.0, 32.6, 32.0, 34.0, 29.333333333333332, 29.333333333333332, 29.376666666666665, 28.95, 25.125, 25.900000000000002, 23.0, 29.25, 29.4, 28.771428571428572, 26.0, 20.5, 29.8775, 27.333333333333332, 31.285714285714285, 34.2, 22.24285714285714, 23.5, 27.5, 23.233333333333334, 24.133333333333336, 27.67833333333333, 23.666666666666668, 21.666666666666668, 28.7, 26.0, 23.0, 26.882857142857144, 26.775, 30.0, 29.0, 24.8, 26.0, 25.44375, 25.225, 20.0, 36.285714285714285, 16.630000000000003, 18.5, 39.36363636363637, 53.4, 47.43333333333334, 49.0, 47.0, 49.0, 49.0, 68.0], \"yaxis\": \"y\"}, {\"line\": {\"color\": \"#EF553B\"}, \"name\": \"Bernard Sanders Polling Avg\", \"type\": \"scatter\", \"x\": [\"2018-12-24T00:00:00\", \"2019-01-21T00:00:00\", \"2019-01-28T00:00:00\", \"2019-02-11T00:00:00\", \"2019-03-04T00:00:00\", \"2019-03-18T00:00:00\", \"2019-03-25T00:00:00\", \"2019-04-08T00:00:00\", \"2019-04-22T00:00:00\", \"2019-04-29T00:00:00\", \"2019-05-06T00:00:00\", \"2019-05-13T00:00:00\", \"2019-05-20T00:00:00\", \"2019-06-03T00:00:00\", \"2019-06-10T00:00:00\", \"2019-06-17T00:00:00\", \"2019-06-24T00:00:00\", \"2019-07-01T00:00:00\", \"2019-07-08T00:00:00\", \"2019-07-15T00:00:00\", \"2019-07-22T00:00:00\", \"2019-07-29T00:00:00\", \"2019-08-05T00:00:00\", \"2019-08-12T00:00:00\", \"2019-08-19T00:00:00\", \"2019-08-26T00:00:00\", \"2019-09-02T00:00:00\", \"2019-09-09T00:00:00\", \"2019-09-16T00:00:00\", \"2019-09-23T00:00:00\", \"2019-09-30T00:00:00\", \"2019-10-07T00:00:00\", \"2019-10-14T00:00:00\", \"2019-10-21T00:00:00\", \"2019-10-28T00:00:00\", \"2019-11-04T00:00:00\", \"2019-11-11T00:00:00\", \"2019-11-18T00:00:00\", \"2019-11-25T00:00:00\", \"2019-12-02T00:00:00\", \"2019-12-09T00:00:00\", \"2019-12-16T00:00:00\", \"2019-12-23T00:00:00\", \"2019-12-30T00:00:00\", \"2020-01-06T00:00:00\", \"2020-01-13T00:00:00\", \"2020-01-20T00:00:00\", \"2020-01-27T00:00:00\", \"2020-02-03T00:00:00\", \"2020-02-10T00:00:00\", \"2020-02-17T00:00:00\", \"2020-02-24T00:00:00\", \"2020-03-02T00:00:00\", \"2020-03-09T00:00:00\", \"2020-03-16T00:00:00\", \"2020-03-23T00:00:00\", \"2020-03-30T00:00:00\", \"2020-04-06T00:00:00\", \"2020-04-13T00:00:00\", \"2020-04-27T00:00:00\"], \"xaxis\": \"x\", \"y\": [22.0, 5.4, 16.0, 17.2, 28.5, 24.65, 19.0, 29.0, 15.4, 11.0, 24.9, 14.666666666666666, 15.5, 15.0, 14.666666666666666, 14.106666666666667, 21.05, 16.5, 13.133333333333333, 13.0, 13.75, 16.55, 17.057142857142857, 13.0, 19.5, 16.39, 17.333333333333332, 23.0, 16.0, 15.971428571428572, 14.5, 14.25, 16.516666666666666, 18.166666666666668, 16.755, 16.333333333333332, 18.0, 19.25, 15.8, 13.5, 18.00857142857143, 19.925, 17.0, 19.0, 18.98, 20.333333333333332, 19.575, 22.475, 20.75, 43.0, 33.4, 26.75714285714286, 38.84615384615385, 37.0, 39.18333333333333, 35.75, 34.0, 28.0, 31.0, 23.7], \"yaxis\": \"y\"}, {\"line\": {\"color\": \"#00CC96\"}, \"name\": \"Amy Klobuchar Polling Avg\", \"type\": \"scatter\", \"x\": [\"2019-01-21T00:00:00\", \"2019-01-28T00:00:00\", \"2019-02-11T00:00:00\", \"2019-03-04T00:00:00\", \"2019-03-18T00:00:00\", \"2019-03-25T00:00:00\", \"2019-04-08T00:00:00\", \"2019-04-22T00:00:00\", \"2019-04-29T00:00:00\", \"2019-05-06T00:00:00\", \"2019-05-13T00:00:00\", \"2019-05-20T00:00:00\", \"2019-06-03T00:00:00\", \"2019-06-10T00:00:00\", \"2019-06-17T00:00:00\", \"2019-06-24T00:00:00\", \"2019-07-01T00:00:00\", \"2019-07-08T00:00:00\", \"2019-07-15T00:00:00\", \"2019-07-22T00:00:00\", \"2019-07-29T00:00:00\", \"2019-08-05T00:00:00\", \"2019-08-12T00:00:00\", \"2019-08-19T00:00:00\", \"2019-08-26T00:00:00\", \"2019-09-02T00:00:00\", \"2019-09-09T00:00:00\", \"2019-09-16T00:00:00\", \"2019-09-23T00:00:00\", \"2019-09-30T00:00:00\", \"2019-10-07T00:00:00\", \"2019-10-14T00:00:00\", \"2019-10-21T00:00:00\", \"2019-10-28T00:00:00\", \"2019-11-04T00:00:00\", \"2019-11-11T00:00:00\", \"2019-11-18T00:00:00\", \"2019-11-25T00:00:00\", \"2019-12-02T00:00:00\", \"2019-12-09T00:00:00\", \"2019-12-16T00:00:00\", \"2019-12-23T00:00:00\", \"2019-12-30T00:00:00\", \"2020-01-06T00:00:00\", \"2020-01-13T00:00:00\", \"2020-01-20T00:00:00\", \"2020-01-27T00:00:00\", \"2020-02-03T00:00:00\", \"2020-02-10T00:00:00\", \"2020-02-17T00:00:00\", \"2020-02-24T00:00:00\", \"2020-03-02T00:00:00\"], \"xaxis\": \"x\", \"y\": [1.4, 2.0, 4.6, 3.0, 0.95, 2.0, 1.0, 1.2, 1.0, 0.6, 1.3333333333333333, 2.5, 1.3333333333333333, 1.3333333333333333, 0.7533333333333333, 0.85, 1.125, 0.9666666666666667, 1.0, 1.25, 0.65, 1.1, 1.5, 0.5, 0.7, 1.0, 1.2, 1.5, 1.0714285714285714, 1.0, 2.0, 1.5, 1.6666666666666667, 2.2916666666666665, 1.3333333333333333, 1.3333333333333333, 1.7, 2.4, 2.0, 3.4842857142857144, 3.0, 5.0, 4.0, 2.2199999999999998, 2.3333333333333335, 2.49375, 4.525, 4.25, 29.857142857142858, 6.279999999999999, 4.014285714285714, 3.6666666666666665], \"yaxis\": \"y\"}, {\"line\": {\"color\": \"#AB63FA\"}, \"name\": \"Elizabeth Warren Polling Avg\", \"type\": \"scatter\", \"x\": [\"2018-12-24T00:00:00\", \"2019-01-21T00:00:00\", \"2019-01-28T00:00:00\", \"2019-02-11T00:00:00\", \"2019-03-04T00:00:00\", \"2019-03-18T00:00:00\", \"2019-03-25T00:00:00\", \"2019-04-08T00:00:00\", \"2019-04-22T00:00:00\", \"2019-04-29T00:00:00\", \"2019-05-06T00:00:00\", \"2019-05-13T00:00:00\", \"2019-05-20T00:00:00\", \"2019-06-03T00:00:00\", \"2019-06-10T00:00:00\", \"2019-06-17T00:00:00\", \"2019-06-24T00:00:00\", \"2019-07-01T00:00:00\", \"2019-07-08T00:00:00\", \"2019-07-15T00:00:00\", \"2019-07-22T00:00:00\", \"2019-07-29T00:00:00\", \"2019-08-05T00:00:00\", \"2019-08-12T00:00:00\", \"2019-08-19T00:00:00\", \"2019-08-26T00:00:00\", \"2019-09-02T00:00:00\", \"2019-09-09T00:00:00\", \"2019-09-16T00:00:00\", \"2019-09-23T00:00:00\", \"2019-09-30T00:00:00\", \"2019-10-07T00:00:00\", \"2019-10-14T00:00:00\", \"2019-10-21T00:00:00\", \"2019-10-28T00:00:00\", \"2019-11-04T00:00:00\", \"2019-11-11T00:00:00\", \"2019-11-18T00:00:00\", \"2019-11-25T00:00:00\", \"2019-12-02T00:00:00\", \"2019-12-09T00:00:00\", \"2019-12-16T00:00:00\", \"2019-12-23T00:00:00\", \"2019-12-30T00:00:00\", \"2020-01-06T00:00:00\", \"2020-01-13T00:00:00\", \"2020-01-20T00:00:00\", \"2020-01-27T00:00:00\", \"2020-02-03T00:00:00\", \"2020-02-10T00:00:00\", \"2020-02-17T00:00:00\", \"2020-02-24T00:00:00\", \"2020-03-02T00:00:00\"], \"xaxis\": \"x\", \"y\": [6.9, 22.9, 8.0, 9.2, 9.0, 6.2, 4.0, 6.8, 5.0, 12.0, 9.7, 7.333333333333333, 11.5, 9.333333333333334, 13.333333333333334, 12.87, 16.1, 11.75, 16.833333333333332, 15.0, 17.0, 16.05, 14.671428571428573, 20.0, 18.5, 16.945, 18.666666666666668, 27.571428571428573, 23.2, 19.24285714285714, 27.0, 27.25, 20.25, 23.400000000000002, 21.298333333333332, 19.666666666666668, 16.666666666666668, 20.75, 14.6, 13.5, 16.108571428571427, 14.35, 19.0, 18.0, 16.54, 15.0, 12.975, 15.1, 13.25, 39.0, 12.75, 12.12857142857143, 11.2], \"yaxis\": \"y\"}, {\"line\": {\"color\": \"#FFA15A\"}, \"name\": \"Pete Buttigieg Polling Avg\", \"type\": \"scatter\", \"x\": [\"2019-01-28T00:00:00\", \"2019-02-11T00:00:00\", \"2019-03-04T00:00:00\", \"2019-03-18T00:00:00\", \"2019-03-25T00:00:00\", \"2019-04-08T00:00:00\", \"2019-04-22T00:00:00\", \"2019-04-29T00:00:00\", \"2019-05-06T00:00:00\", \"2019-05-13T00:00:00\", \"2019-05-20T00:00:00\", \"2019-06-03T00:00:00\", \"2019-06-10T00:00:00\", \"2019-06-17T00:00:00\", \"2019-06-24T00:00:00\", \"2019-07-01T00:00:00\", \"2019-07-08T00:00:00\", \"2019-07-15T00:00:00\", \"2019-07-22T00:00:00\", \"2019-07-29T00:00:00\", \"2019-08-05T00:00:00\", \"2019-08-12T00:00:00\", \"2019-08-19T00:00:00\", \"2019-08-26T00:00:00\", \"2019-09-02T00:00:00\", \"2019-09-09T00:00:00\", \"2019-09-16T00:00:00\", \"2019-09-23T00:00:00\", \"2019-09-30T00:00:00\", \"2019-10-07T00:00:00\", \"2019-10-14T00:00:00\", \"2019-10-21T00:00:00\", \"2019-10-28T00:00:00\", \"2019-11-04T00:00:00\", \"2019-11-11T00:00:00\", \"2019-11-18T00:00:00\", \"2019-11-25T00:00:00\", \"2019-12-02T00:00:00\", \"2019-12-09T00:00:00\", \"2019-12-16T00:00:00\", \"2019-12-23T00:00:00\", \"2019-12-30T00:00:00\", \"2020-01-06T00:00:00\", \"2020-01-13T00:00:00\", \"2020-01-20T00:00:00\", \"2020-01-27T00:00:00\", \"2020-02-03T00:00:00\", \"2020-02-10T00:00:00\", \"2020-02-17T00:00:00\", \"2020-02-24T00:00:00\", \"2020-03-02T00:00:00\"], \"xaxis\": \"x\", \"y\": [0.0, 0.0, 0.0, 1.95, 4.0, 9.0, 7.75, 10.0, 7.5, 4.666666666666667, 5.5, 6.333333333333333, 8.0, 7.783333333333334, 5.65, 4.25, 5.766666666666667, 7.0, 5.75, 5.6, 5.985714285714286, 4.0, 5.5, 4.8675, 4.666666666666667, 4.6, 6.25, 5.071428571428571, 6.0, 5.25, 4.766666666666667, 8.133333333333333, 7.794999999999999, 7.666666666666667, 7.0, 8.2, 11.6, 9.0, 9.332857142857142, 6.925, 7.0, 8.0, 6.840000000000001, 7.333333333333333, 6.19375, 5.9, 8.0, 30.428571428571427, 12.245454545454544, 9.785714285714286, 8.333333333333334], \"yaxis\": \"y\"}, {\"line\": {\"color\": \"#19D3F3\"}, \"name\": \"Andrew Yang Polling Avg\", \"type\": \"scatter\", \"x\": [\"2019-01-28T00:00:00\", \"2019-03-04T00:00:00\", \"2019-03-18T00:00:00\", \"2019-03-25T00:00:00\", \"2019-04-08T00:00:00\", \"2019-04-22T00:00:00\", \"2019-04-29T00:00:00\", \"2019-05-06T00:00:00\", \"2019-05-13T00:00:00\", \"2019-05-20T00:00:00\", \"2019-06-03T00:00:00\", \"2019-06-10T00:00:00\", \"2019-06-17T00:00:00\", \"2019-06-24T00:00:00\", \"2019-07-01T00:00:00\", \"2019-07-08T00:00:00\", \"2019-07-15T00:00:00\", \"2019-07-22T00:00:00\", \"2019-07-29T00:00:00\", \"2019-08-05T00:00:00\", \"2019-08-12T00:00:00\", \"2019-08-19T00:00:00\", \"2019-08-26T00:00:00\", \"2019-09-02T00:00:00\", \"2019-09-09T00:00:00\", \"2019-09-16T00:00:00\", \"2019-09-23T00:00:00\", \"2019-09-30T00:00:00\", \"2019-10-07T00:00:00\", \"2019-10-14T00:00:00\", \"2019-10-21T00:00:00\", \"2019-10-28T00:00:00\", \"2019-11-04T00:00:00\", \"2019-11-11T00:00:00\", \"2019-11-18T00:00:00\", \"2019-11-25T00:00:00\", \"2019-12-02T00:00:00\", \"2019-12-09T00:00:00\", \"2019-12-16T00:00:00\", \"2019-12-23T00:00:00\", \"2019-12-30T00:00:00\", \"2020-01-06T00:00:00\", \"2020-01-13T00:00:00\", \"2020-01-20T00:00:00\", \"2020-01-27T00:00:00\", \"2020-02-03T00:00:00\", \"2020-02-10T00:00:00\", \"2020-02-24T00:00:00\"], \"xaxis\": \"x\", \"y\": [1.0, 1.0, 1.2, 0.0, 2.7, 0.5, 1.0, 1.1, 1.0, 1.0, 1.0, 1.3333333333333333, 1.1733333333333333, 0.85, 1.125, 2.066666666666667, 1.0, 2.25, 1.5, 1.4428571428571428, 2.0, 2.0, 3.0575, 3.0, 2.4, 3.0, 2.8714285714285714, 2.5, 2.5, 2.3333333333333335, 2.8000000000000003, 2.585, 2.0, 2.6666666666666665, 3.0, 3.6, 2.5, 3.2971428571428567, 3.575, 3.0, 3.0, 3.62, 3.6666666666666665, 4.3125, 3.725, 3.5, 3.0, 4.1], \"yaxis\": \"y\"}],\n",
       "                        {\"legend\": {\"orientation\": \"v\", \"x\": 1.1, \"xanchor\": \"left\", \"y\": 1}, \"template\": {\"data\": {\"bar\": [{\"error_x\": {\"color\": \"rgb(36,36,36)\"}, \"error_y\": {\"color\": \"rgb(36,36,36)\"}, \"marker\": {\"line\": {\"color\": \"white\", \"width\": 0.5}}, \"type\": \"bar\"}], \"barpolar\": [{\"marker\": {\"line\": {\"color\": \"white\", \"width\": 0.5}}, \"type\": \"barpolar\"}], \"carpet\": [{\"aaxis\": {\"endlinecolor\": \"rgb(36,36,36)\", \"gridcolor\": \"white\", \"linecolor\": \"white\", \"minorgridcolor\": \"white\", \"startlinecolor\": \"rgb(36,36,36)\"}, \"baxis\": {\"endlinecolor\": \"rgb(36,36,36)\", \"gridcolor\": \"white\", \"linecolor\": \"white\", \"minorgridcolor\": \"white\", \"startlinecolor\": \"rgb(36,36,36)\"}, \"type\": \"carpet\"}], \"choropleth\": [{\"colorbar\": {\"outlinewidth\": 1, \"tickcolor\": \"rgb(36,36,36)\", \"ticks\": \"outside\"}, \"type\": \"choropleth\"}], \"contour\": [{\"colorbar\": {\"outlinewidth\": 1, \"tickcolor\": \"rgb(36,36,36)\", \"ticks\": \"outside\"}, \"colorscale\": [[0.0, \"#440154\"], [0.1111111111111111, \"#482878\"], [0.2222222222222222, \"#3e4989\"], [0.3333333333333333, \"#31688e\"], [0.4444444444444444, \"#26828e\"], [0.5555555555555556, \"#1f9e89\"], [0.6666666666666666, \"#35b779\"], [0.7777777777777778, \"#6ece58\"], [0.8888888888888888, \"#b5de2b\"], [1.0, \"#fde725\"]], \"type\": \"contour\"}], \"contourcarpet\": [{\"colorbar\": {\"outlinewidth\": 1, \"tickcolor\": \"rgb(36,36,36)\", \"ticks\": \"outside\"}, \"type\": \"contourcarpet\"}], \"heatmap\": [{\"colorbar\": {\"outlinewidth\": 1, \"tickcolor\": \"rgb(36,36,36)\", \"ticks\": \"outside\"}, \"colorscale\": [[0.0, \"#440154\"], [0.1111111111111111, \"#482878\"], [0.2222222222222222, \"#3e4989\"], [0.3333333333333333, \"#31688e\"], [0.4444444444444444, \"#26828e\"], [0.5555555555555556, \"#1f9e89\"], [0.6666666666666666, \"#35b779\"], [0.7777777777777778, \"#6ece58\"], [0.8888888888888888, \"#b5de2b\"], [1.0, \"#fde725\"]], \"type\": \"heatmap\"}], \"heatmapgl\": [{\"colorbar\": {\"outlinewidth\": 1, \"tickcolor\": \"rgb(36,36,36)\", \"ticks\": \"outside\"}, \"colorscale\": [[0.0, \"#440154\"], [0.1111111111111111, \"#482878\"], [0.2222222222222222, \"#3e4989\"], [0.3333333333333333, \"#31688e\"], [0.4444444444444444, \"#26828e\"], [0.5555555555555556, \"#1f9e89\"], [0.6666666666666666, \"#35b779\"], [0.7777777777777778, \"#6ece58\"], [0.8888888888888888, \"#b5de2b\"], [1.0, \"#fde725\"]], \"type\": \"heatmapgl\"}], \"histogram\": [{\"marker\": {\"line\": {\"color\": \"white\", \"width\": 0.6}}, \"type\": \"histogram\"}], \"histogram2d\": [{\"colorbar\": {\"outlinewidth\": 1, \"tickcolor\": \"rgb(36,36,36)\", \"ticks\": \"outside\"}, \"colorscale\": [[0.0, \"#440154\"], [0.1111111111111111, \"#482878\"], [0.2222222222222222, \"#3e4989\"], [0.3333333333333333, \"#31688e\"], [0.4444444444444444, \"#26828e\"], [0.5555555555555556, \"#1f9e89\"], [0.6666666666666666, \"#35b779\"], [0.7777777777777778, \"#6ece58\"], [0.8888888888888888, \"#b5de2b\"], [1.0, \"#fde725\"]], \"type\": \"histogram2d\"}], \"histogram2dcontour\": [{\"colorbar\": {\"outlinewidth\": 1, \"tickcolor\": \"rgb(36,36,36)\", \"ticks\": \"outside\"}, \"colorscale\": [[0.0, \"#440154\"], [0.1111111111111111, \"#482878\"], [0.2222222222222222, \"#3e4989\"], [0.3333333333333333, \"#31688e\"], [0.4444444444444444, \"#26828e\"], [0.5555555555555556, \"#1f9e89\"], [0.6666666666666666, \"#35b779\"], [0.7777777777777778, \"#6ece58\"], [0.8888888888888888, \"#b5de2b\"], [1.0, \"#fde725\"]], \"type\": \"histogram2dcontour\"}], \"mesh3d\": [{\"colorbar\": {\"outlinewidth\": 1, \"tickcolor\": \"rgb(36,36,36)\", \"ticks\": \"outside\"}, \"type\": \"mesh3d\"}], \"parcoords\": [{\"line\": {\"colorbar\": {\"outlinewidth\": 1, \"tickcolor\": \"rgb(36,36,36)\", \"ticks\": \"outside\"}}, \"type\": \"parcoords\"}], \"pie\": [{\"automargin\": true, \"type\": \"pie\"}], \"scatter\": [{\"marker\": {\"colorbar\": {\"outlinewidth\": 1, \"tickcolor\": \"rgb(36,36,36)\", \"ticks\": \"outside\"}}, \"type\": \"scatter\"}], \"scatter3d\": [{\"line\": {\"colorbar\": {\"outlinewidth\": 1, \"tickcolor\": \"rgb(36,36,36)\", \"ticks\": \"outside\"}}, \"marker\": {\"colorbar\": {\"outlinewidth\": 1, \"tickcolor\": \"rgb(36,36,36)\", \"ticks\": \"outside\"}}, \"type\": \"scatter3d\"}], \"scattercarpet\": [{\"marker\": {\"colorbar\": {\"outlinewidth\": 1, \"tickcolor\": \"rgb(36,36,36)\", \"ticks\": \"outside\"}}, \"type\": \"scattercarpet\"}], \"scattergeo\": [{\"marker\": {\"colorbar\": {\"outlinewidth\": 1, \"tickcolor\": \"rgb(36,36,36)\", \"ticks\": \"outside\"}}, \"type\": \"scattergeo\"}], \"scattergl\": [{\"marker\": {\"colorbar\": {\"outlinewidth\": 1, \"tickcolor\": \"rgb(36,36,36)\", \"ticks\": \"outside\"}}, \"type\": \"scattergl\"}], \"scattermapbox\": [{\"marker\": {\"colorbar\": {\"outlinewidth\": 1, \"tickcolor\": \"rgb(36,36,36)\", \"ticks\": \"outside\"}}, \"type\": \"scattermapbox\"}], \"scatterpolar\": [{\"marker\": {\"colorbar\": {\"outlinewidth\": 1, \"tickcolor\": \"rgb(36,36,36)\", \"ticks\": \"outside\"}}, \"type\": \"scatterpolar\"}], \"scatterpolargl\": [{\"marker\": {\"colorbar\": {\"outlinewidth\": 1, \"tickcolor\": \"rgb(36,36,36)\", \"ticks\": \"outside\"}}, \"type\": \"scatterpolargl\"}], \"scatterternary\": [{\"marker\": {\"colorbar\": {\"outlinewidth\": 1, \"tickcolor\": \"rgb(36,36,36)\", \"ticks\": \"outside\"}}, \"type\": \"scatterternary\"}], \"surface\": [{\"colorbar\": {\"outlinewidth\": 1, \"tickcolor\": \"rgb(36,36,36)\", \"ticks\": \"outside\"}, \"colorscale\": [[0.0, \"#440154\"], [0.1111111111111111, \"#482878\"], [0.2222222222222222, \"#3e4989\"], [0.3333333333333333, \"#31688e\"], [0.4444444444444444, \"#26828e\"], [0.5555555555555556, \"#1f9e89\"], [0.6666666666666666, \"#35b779\"], [0.7777777777777778, \"#6ece58\"], [0.8888888888888888, \"#b5de2b\"], [1.0, \"#fde725\"]], \"type\": \"surface\"}], \"table\": [{\"cells\": {\"fill\": {\"color\": \"rgb(237,237,237)\"}, \"line\": {\"color\": \"white\"}}, \"header\": {\"fill\": {\"color\": \"rgb(217,217,217)\"}, \"line\": {\"color\": \"white\"}}, \"type\": \"table\"}]}, \"layout\": {\"annotationdefaults\": {\"arrowhead\": 0, \"arrowwidth\": 1}, \"coloraxis\": {\"colorbar\": {\"outlinewidth\": 1, \"tickcolor\": \"rgb(36,36,36)\", \"ticks\": \"outside\"}}, \"colorscale\": {\"diverging\": [[0.0, \"rgb(103,0,31)\"], [0.1, \"rgb(178,24,43)\"], [0.2, \"rgb(214,96,77)\"], [0.3, \"rgb(244,165,130)\"], [0.4, \"rgb(253,219,199)\"], [0.5, \"rgb(247,247,247)\"], [0.6, \"rgb(209,229,240)\"], [0.7, \"rgb(146,197,222)\"], [0.8, \"rgb(67,147,195)\"], [0.9, \"rgb(33,102,172)\"], [1.0, \"rgb(5,48,97)\"]], \"sequential\": [[0.0, \"#440154\"], [0.1111111111111111, \"#482878\"], [0.2222222222222222, \"#3e4989\"], [0.3333333333333333, \"#31688e\"], [0.4444444444444444, \"#26828e\"], [0.5555555555555556, \"#1f9e89\"], [0.6666666666666666, \"#35b779\"], [0.7777777777777778, \"#6ece58\"], [0.8888888888888888, \"#b5de2b\"], [1.0, \"#fde725\"]], \"sequentialminus\": [[0.0, \"#440154\"], [0.1111111111111111, \"#482878\"], [0.2222222222222222, \"#3e4989\"], [0.3333333333333333, \"#31688e\"], [0.4444444444444444, \"#26828e\"], [0.5555555555555556, \"#1f9e89\"], [0.6666666666666666, \"#35b779\"], [0.7777777777777778, \"#6ece58\"], [0.8888888888888888, \"#b5de2b\"], [1.0, \"#fde725\"]]}, \"colorway\": [\"#1F77B4\", \"#FF7F0E\", \"#2CA02C\", \"#D62728\", \"#9467BD\", \"#8C564B\", \"#E377C2\", \"#7F7F7F\", \"#BCBD22\", \"#17BECF\"], \"font\": {\"color\": \"rgb(36,36,36)\"}, \"geo\": {\"bgcolor\": \"white\", \"lakecolor\": \"white\", \"landcolor\": \"white\", \"showlakes\": true, \"showland\": true, \"subunitcolor\": \"white\"}, \"hoverlabel\": {\"align\": \"left\"}, \"hovermode\": \"closest\", \"mapbox\": {\"style\": \"light\"}, \"paper_bgcolor\": \"white\", \"plot_bgcolor\": \"white\", \"polar\": {\"angularaxis\": {\"gridcolor\": \"rgb(232,232,232)\", \"linecolor\": \"rgb(36,36,36)\", \"showgrid\": false, \"showline\": true, \"ticks\": \"outside\"}, \"bgcolor\": \"white\", \"radialaxis\": {\"gridcolor\": \"rgb(232,232,232)\", \"linecolor\": \"rgb(36,36,36)\", \"showgrid\": false, \"showline\": true, \"ticks\": \"outside\"}}, \"scene\": {\"xaxis\": {\"backgroundcolor\": \"white\", \"gridcolor\": \"rgb(232,232,232)\", \"gridwidth\": 2, \"linecolor\": \"rgb(36,36,36)\", \"showbackground\": true, \"showgrid\": false, \"showline\": true, \"ticks\": \"outside\", \"zeroline\": false, \"zerolinecolor\": \"rgb(36,36,36)\"}, \"yaxis\": {\"backgroundcolor\": \"white\", \"gridcolor\": \"rgb(232,232,232)\", \"gridwidth\": 2, \"linecolor\": \"rgb(36,36,36)\", \"showbackground\": true, \"showgrid\": false, \"showline\": true, \"ticks\": \"outside\", \"zeroline\": false, \"zerolinecolor\": \"rgb(36,36,36)\"}, \"zaxis\": {\"backgroundcolor\": \"white\", \"gridcolor\": \"rgb(232,232,232)\", \"gridwidth\": 2, \"linecolor\": \"rgb(36,36,36)\", \"showbackground\": true, \"showgrid\": false, \"showline\": true, \"ticks\": \"outside\", \"zeroline\": false, \"zerolinecolor\": \"rgb(36,36,36)\"}}, \"shapedefaults\": {\"fillcolor\": \"black\", \"line\": {\"width\": 0}, \"opacity\": 0.3}, \"ternary\": {\"aaxis\": {\"gridcolor\": \"rgb(232,232,232)\", \"linecolor\": \"rgb(36,36,36)\", \"showgrid\": false, \"showline\": true, \"ticks\": \"outside\"}, \"baxis\": {\"gridcolor\": \"rgb(232,232,232)\", \"linecolor\": \"rgb(36,36,36)\", \"showgrid\": false, \"showline\": true, \"ticks\": \"outside\"}, \"bgcolor\": \"white\", \"caxis\": {\"gridcolor\": \"rgb(232,232,232)\", \"linecolor\": \"rgb(36,36,36)\", \"showgrid\": false, \"showline\": true, \"ticks\": \"outside\"}}, \"title\": {\"x\": 0.05}, \"xaxis\": {\"automargin\": true, \"gridcolor\": \"rgb(232,232,232)\", \"linecolor\": \"rgb(36,36,36)\", \"showgrid\": false, \"showline\": true, \"ticks\": \"outside\", \"title\": {\"standoff\": 15}, \"zeroline\": false, \"zerolinecolor\": \"rgb(36,36,36)\"}, \"yaxis\": {\"automargin\": true, \"gridcolor\": \"rgb(232,232,232)\", \"linecolor\": \"rgb(36,36,36)\", \"showgrid\": false, \"showline\": true, \"ticks\": \"outside\", \"title\": {\"standoff\": 15}, \"zeroline\": false, \"zerolinecolor\": \"rgb(36,36,36)\"}}}, \"title\": {\"text\": \"Dual Axis - Subreddit Comments and Polling Average\"}, \"xaxis\": {\"anchor\": \"y\", \"domain\": [0.0, 0.94], \"title\": {\"text\": \"Time\"}}, \"yaxis\": {\"anchor\": \"x\", \"domain\": [0.0, 1.0], \"title\": {\"text\": \"<b>Polling</b> Average\"}}, \"yaxis2\": {\"anchor\": \"x\", \"overlaying\": \"y\", \"side\": \"right\", \"title\": {\"text\": \"<b>Unique</b> Commenters\"}}},\n",
       "                        {\"responsive\": true}\n",
       "                    ).then(function(){\n",
       "                            \n",
       "var gd = document.getElementById('5cf59b49-4a42-4958-9908-e8472f56b6d3');\n",
       "var x = new MutationObserver(function (mutations, observer) {{\n",
       "        var display = window.getComputedStyle(gd).display;\n",
       "        if (!display || display === 'none') {{\n",
       "            console.log([gd, 'removed!']);\n",
       "            Plotly.purge(gd);\n",
       "            observer.disconnect();\n",
       "        }}\n",
       "}});\n",
       "\n",
       "// Listen for the removal of the full notebook cells\n",
       "var notebookContainer = gd.closest('#notebook-container');\n",
       "if (notebookContainer) {{\n",
       "    x.observe(notebookContainer, {childList: true});\n",
       "}}\n",
       "\n",
       "// Listen for the clearing of the current output cell\n",
       "var outputEl = gd.closest('.output');\n",
       "if (outputEl) {{\n",
       "    x.observe(outputEl, {childList: true});\n",
       "}}\n",
       "\n",
       "                        })\n",
       "                };\n",
       "                });\n",
       "            </script>\n",
       "        </div>"
      ]
     },
     "metadata": {},
     "output_type": "display_data"
    }
   ],
   "source": [
    "from plotly.subplots import make_subplots\n",
    "\n",
    "# Create figure with secondary y-axis\n",
    "fig = make_subplots(specs=[[{\"secondary_y\": True}]])\n",
    "\n",
    "# Add subreddit comments\n",
    "for sub in left_candidates:\n",
    "    data = n_unique[n_unique[\"subreddit\"] == sub]\n",
    "    fig.add_trace(\n",
    "        go.Scatter(x=data[\"date\"],\n",
    "                   y=data[\"n_unique\"],\n",
    "                   name=\"{} Subreddit Unique Commenters\".format(sub),\n",
    "                   mode='lines',\n",
    "                   line=dict(color=mapping[sub],dash='dash')),\n",
    "        secondary_y=True)\n",
    "\n",
    "# Add from media coverage\n",
    "for cand in candidate_names:\n",
    "    data = polling_agg[polling_agg[\"candidate_name\"] == cand]\n",
    "    fig.add_trace(\n",
    "        go.Scatter(x=data[\"week\"],\n",
    "                   y=data[\"pct\"],\n",
    "                   name=\"{} Polling Avg\".format(cand),\n",
    "                   line = dict(color=poll_mapping[cand])),\n",
    "        secondary_y=False)\n",
    "\n",
    "\n",
    "\n",
    "# Add figure title\n",
    "fig.update_layout(\n",
    "    title_text=\"Dual Axis - Subreddit Comments and Polling Average\",\n",
    "    template=\"simple_white\",\n",
    "    legend=dict(orientation='v', x=1.1, xanchor='left', y=1),\n",
    ")\n",
    "\n",
    "fig.update_xaxes(title_text=\"Time\")\n",
    "\n",
    "# Set y-axes titles\n",
    "fig.update_yaxes(title_text=\"<b>Polling</b> Average\", secondary_y=False)\n",
    "fig.update_yaxes(title_text=\"<b>Unique</b> Commenters\", secondary_y=True)\n",
    "fig.write_html(\"visualizations/temporal/{}_n-unique_vs_polling_avg.html\".format(TIME_FRAME))\n",
    "fig.show()"
   ]
  },
  {
   "cell_type": "markdown",
   "metadata": {},
   "source": [
    "## Comment Flows"
   ]
  },
  {
   "cell_type": "code",
   "execution_count": 7,
   "metadata": {},
   "outputs": [
    {
     "data": {
      "text/html": [
       "<div>\n",
       "<style scoped>\n",
       "    .dataframe tbody tr th:only-of-type {\n",
       "        vertical-align: middle;\n",
       "    }\n",
       "\n",
       "    .dataframe tbody tr th {\n",
       "        vertical-align: top;\n",
       "    }\n",
       "\n",
       "    .dataframe thead th {\n",
       "        text-align: right;\n",
       "    }\n",
       "</style>\n",
       "<table border=\"1\" class=\"dataframe\">\n",
       "  <thead>\n",
       "    <tr style=\"text-align: right;\">\n",
       "      <th></th>\n",
       "      <th>subreddit</th>\n",
       "      <th>username</th>\n",
       "      <th>count</th>\n",
       "      <th>date</th>\n",
       "    </tr>\n",
       "  </thead>\n",
       "  <tbody>\n",
       "    <tr>\n",
       "      <th>537</th>\n",
       "      <td>BaemyKlobaechar</td>\n",
       "      <td>episcopaladin</td>\n",
       "      <td>3</td>\n",
       "      <td>2019-01-01</td>\n",
       "    </tr>\n",
       "    <tr>\n",
       "      <th>558</th>\n",
       "      <td>BaemyKlobaechar</td>\n",
       "      <td>aptlynameduser</td>\n",
       "      <td>7</td>\n",
       "      <td>2019-01-01</td>\n",
       "    </tr>\n",
       "    <tr>\n",
       "      <th>585</th>\n",
       "      <td>BaemyKlobaechar</td>\n",
       "      <td>pm_me_your_aloo_gobi</td>\n",
       "      <td>2</td>\n",
       "      <td>2019-01-01</td>\n",
       "    </tr>\n",
       "    <tr>\n",
       "      <th>591</th>\n",
       "      <td>BaemyKlobaechar</td>\n",
       "      <td>ErniePanders</td>\n",
       "      <td>11</td>\n",
       "      <td>2019-01-01</td>\n",
       "    </tr>\n",
       "    <tr>\n",
       "      <th>6911</th>\n",
       "      <td>BaemyKlobaechar</td>\n",
       "      <td>Brysynner</td>\n",
       "      <td>3</td>\n",
       "      <td>2019-01-01</td>\n",
       "    </tr>\n",
       "    <tr>\n",
       "      <th>...</th>\n",
       "      <td>...</td>\n",
       "      <td>...</td>\n",
       "      <td>...</td>\n",
       "      <td>...</td>\n",
       "    </tr>\n",
       "    <tr>\n",
       "      <th>298493</th>\n",
       "      <td>YangForPresidentHQ</td>\n",
       "      <td>vademecum19</td>\n",
       "      <td>1</td>\n",
       "      <td>2019-12-01</td>\n",
       "    </tr>\n",
       "    <tr>\n",
       "      <th>298495</th>\n",
       "      <td>YangForPresidentHQ</td>\n",
       "      <td>ToadBup</td>\n",
       "      <td>2</td>\n",
       "      <td>2019-12-01</td>\n",
       "    </tr>\n",
       "    <tr>\n",
       "      <th>298500</th>\n",
       "      <td>YangForPresidentHQ</td>\n",
       "      <td>RappyBird</td>\n",
       "      <td>1</td>\n",
       "      <td>2019-12-01</td>\n",
       "    </tr>\n",
       "    <tr>\n",
       "      <th>298502</th>\n",
       "      <td>YangForPresidentHQ</td>\n",
       "      <td>Curi0usj0r9e</td>\n",
       "      <td>1</td>\n",
       "      <td>2019-12-01</td>\n",
       "    </tr>\n",
       "    <tr>\n",
       "      <th>298538</th>\n",
       "      <td>YangForPresidentHQ</td>\n",
       "      <td>dangoatemybaby</td>\n",
       "      <td>1</td>\n",
       "      <td>2019-12-01</td>\n",
       "    </tr>\n",
       "  </tbody>\n",
       "</table>\n",
       "<p>301497 rows × 4 columns</p>\n",
       "</div>"
      ],
      "text/plain": [
       "                 subreddit              username  count       date\n",
       "537        BaemyKlobaechar         episcopaladin      3 2019-01-01\n",
       "558        BaemyKlobaechar        aptlynameduser      7 2019-01-01\n",
       "585        BaemyKlobaechar  pm_me_your_aloo_gobi      2 2019-01-01\n",
       "591        BaemyKlobaechar          ErniePanders     11 2019-01-01\n",
       "6911       BaemyKlobaechar             Brysynner      3 2019-01-01\n",
       "...                    ...                   ...    ...        ...\n",
       "298493  YangForPresidentHQ           vademecum19      1 2019-12-01\n",
       "298495  YangForPresidentHQ               ToadBup      2 2019-12-01\n",
       "298500  YangForPresidentHQ             RappyBird      1 2019-12-01\n",
       "298502  YangForPresidentHQ          Curi0usj0r9e      1 2019-12-01\n",
       "298538  YangForPresidentHQ        dangoatemybaby      1 2019-12-01\n",
       "\n",
       "[301497 rows x 4 columns]"
      ]
     },
     "execution_count": 7,
     "metadata": {},
     "output_type": "execute_result"
    }
   ],
   "source": [
    "user_comments = s_user_comments.toPandas()\n",
    "user_comments['subreddit'], user_comments['date'] = zip(*user_comments['subreddit'].apply(lambda x: parse_tup(x,date_str=\"%d/%m/%Y\")))\n",
    "user_comments = user_comments.sort_values(['date','subreddit'])\n",
    "\n",
    "user_comments"
   ]
  },
  {
   "cell_type": "code",
   "execution_count": 6,
   "metadata": {
    "scrolled": false
   },
   "outputs": [
    {
     "data": {
      "text/html": [
       "<div>\n",
       "<style scoped>\n",
       "    .dataframe tbody tr th:only-of-type {\n",
       "        vertical-align: middle;\n",
       "    }\n",
       "\n",
       "    .dataframe tbody tr th {\n",
       "        vertical-align: top;\n",
       "    }\n",
       "\n",
       "    .dataframe thead th {\n",
       "        text-align: right;\n",
       "    }\n",
       "</style>\n",
       "<table border=\"1\" class=\"dataframe\">\n",
       "  <thead>\n",
       "    <tr style=\"text-align: right;\">\n",
       "      <th>subreddit</th>\n",
       "      <th>date</th>\n",
       "      <th>username</th>\n",
       "      <th>max_sub</th>\n",
       "      <th>count</th>\n",
       "    </tr>\n",
       "  </thead>\n",
       "  <tbody>\n",
       "    <tr>\n",
       "      <th>0</th>\n",
       "      <td>2019-01-01</td>\n",
       "      <td>--atreides--</td>\n",
       "      <td>SandersForPresident</td>\n",
       "      <td>1.0</td>\n",
       "    </tr>\n",
       "    <tr>\n",
       "      <th>1</th>\n",
       "      <td>2019-01-01</td>\n",
       "      <td>-Ashaman-</td>\n",
       "      <td>SandersForPresident</td>\n",
       "      <td>1.0</td>\n",
       "    </tr>\n",
       "    <tr>\n",
       "      <th>2</th>\n",
       "      <td>2019-01-01</td>\n",
       "      <td>-DementedAvenger-</td>\n",
       "      <td>SandersForPresident</td>\n",
       "      <td>1.0</td>\n",
       "    </tr>\n",
       "    <tr>\n",
       "      <th>3</th>\n",
       "      <td>2019-01-01</td>\n",
       "      <td>-Master-Builder-</td>\n",
       "      <td>SandersForPresident</td>\n",
       "      <td>4.0</td>\n",
       "    </tr>\n",
       "    <tr>\n",
       "      <th>4</th>\n",
       "      <td>2019-01-01</td>\n",
       "      <td>-Mediocrates-</td>\n",
       "      <td>SandersForPresident</td>\n",
       "      <td>2.0</td>\n",
       "    </tr>\n",
       "  </tbody>\n",
       "</table>\n",
       "</div>"
      ],
      "text/plain": [
       "subreddit       date           username              max_sub  count\n",
       "0         2019-01-01       --atreides--  SandersForPresident    1.0\n",
       "1         2019-01-01          -Ashaman-  SandersForPresident    1.0\n",
       "2         2019-01-01  -DementedAvenger-  SandersForPresident    1.0\n",
       "3         2019-01-01   -Master-Builder-  SandersForPresident    4.0\n",
       "4         2019-01-01      -Mediocrates-  SandersForPresident    2.0"
      ]
     },
     "execution_count": 6,
     "metadata": {},
     "output_type": "execute_result"
    }
   ],
   "source": [
    "uc_pivot = pd.pivot_table(user_comments, values='count', index=['date','username'], columns=['subreddit']).fillna(0)\n",
    "uc_pivot[\"max_sub\"] = uc_pivot.idxmax(axis=1)\n",
    "uc_pivot[\"count\"] = uc_pivot.max(axis=1)\n",
    "uc_pivot = uc_pivot[[\"max_sub\",\"count\"]].reset_index()\n",
    "uc_pivot.head()"
   ]
  },
  {
   "cell_type": "code",
   "execution_count": 96,
   "metadata": {},
   "outputs": [
    {
     "data": {
      "text/html": [
       "<div>\n",
       "<style scoped>\n",
       "    .dataframe tbody tr th:only-of-type {\n",
       "        vertical-align: middle;\n",
       "    }\n",
       "\n",
       "    .dataframe tbody tr th {\n",
       "        vertical-align: top;\n",
       "    }\n",
       "\n",
       "    .dataframe thead th {\n",
       "        text-align: right;\n",
       "    }\n",
       "</style>\n",
       "<table border=\"1\" class=\"dataframe\">\n",
       "  <thead>\n",
       "    <tr style=\"text-align: right;\">\n",
       "      <th>date</th>\n",
       "      <th>2019-01-01 00:00:00</th>\n",
       "      <th>2019-02-01 00:00:00</th>\n",
       "      <th>2019-03-01 00:00:00</th>\n",
       "      <th>2019-04-01 00:00:00</th>\n",
       "      <th>2019-05-01 00:00:00</th>\n",
       "      <th>2019-06-01 00:00:00</th>\n",
       "      <th>2019-07-01 00:00:00</th>\n",
       "      <th>2019-08-01 00:00:00</th>\n",
       "      <th>2019-09-01 00:00:00</th>\n",
       "      <th>2019-10-01 00:00:00</th>\n",
       "      <th>2019-11-01 00:00:00</th>\n",
       "      <th>2019-12-01 00:00:00</th>\n",
       "    </tr>\n",
       "  </thead>\n",
       "  <tbody>\n",
       "    <tr>\n",
       "      <th>0</th>\n",
       "      <td>No_Comment</td>\n",
       "      <td>No_Comment</td>\n",
       "      <td>No_Comment</td>\n",
       "      <td>No_Comment</td>\n",
       "      <td>No_Comment</td>\n",
       "      <td>SandersForPresident</td>\n",
       "      <td>No_Comment</td>\n",
       "      <td>No_Comment</td>\n",
       "      <td>No_Comment</td>\n",
       "      <td>No_Comment</td>\n",
       "      <td>No_Comment</td>\n",
       "      <td>No_Comment</td>\n",
       "    </tr>\n",
       "    <tr>\n",
       "      <th>1</th>\n",
       "      <td>No_Comment</td>\n",
       "      <td>No_Comment</td>\n",
       "      <td>SandersForPresident</td>\n",
       "      <td>No_Comment</td>\n",
       "      <td>No_Comment</td>\n",
       "      <td>SandersForPresident</td>\n",
       "      <td>YangForPresidentHQ</td>\n",
       "      <td>No_Comment</td>\n",
       "      <td>No_Comment</td>\n",
       "      <td>No_Comment</td>\n",
       "      <td>No_Comment</td>\n",
       "      <td>No_Comment</td>\n",
       "    </tr>\n",
       "    <tr>\n",
       "      <th>2</th>\n",
       "      <td>No_Comment</td>\n",
       "      <td>No_Comment</td>\n",
       "      <td>No_Comment</td>\n",
       "      <td>No_Comment</td>\n",
       "      <td>No_Comment</td>\n",
       "      <td>No_Comment</td>\n",
       "      <td>No_Comment</td>\n",
       "      <td>No_Comment</td>\n",
       "      <td>No_Comment</td>\n",
       "      <td>No_Comment</td>\n",
       "      <td>No_Comment</td>\n",
       "      <td>SandersForPresident</td>\n",
       "    </tr>\n",
       "    <tr>\n",
       "      <th>3</th>\n",
       "      <td>No_Comment</td>\n",
       "      <td>No_Comment</td>\n",
       "      <td>YangForPresidentHQ</td>\n",
       "      <td>No_Comment</td>\n",
       "      <td>No_Comment</td>\n",
       "      <td>YangForPresidentHQ</td>\n",
       "      <td>YangForPresidentHQ</td>\n",
       "      <td>YangForPresidentHQ</td>\n",
       "      <td>YangForPresidentHQ</td>\n",
       "      <td>No_Comment</td>\n",
       "      <td>No_Comment</td>\n",
       "      <td>YangForPresidentHQ</td>\n",
       "    </tr>\n",
       "    <tr>\n",
       "      <th>4</th>\n",
       "      <td>No_Comment</td>\n",
       "      <td>No_Comment</td>\n",
       "      <td>No_Comment</td>\n",
       "      <td>No_Comment</td>\n",
       "      <td>No_Comment</td>\n",
       "      <td>No_Comment</td>\n",
       "      <td>SandersForPresident</td>\n",
       "      <td>No_Comment</td>\n",
       "      <td>No_Comment</td>\n",
       "      <td>No_Comment</td>\n",
       "      <td>No_Comment</td>\n",
       "      <td>No_Comment</td>\n",
       "    </tr>\n",
       "  </tbody>\n",
       "</table>\n",
       "</div>"
      ],
      "text/plain": [
       "date 2019-01-01 00:00:00 2019-02-01 00:00:00  2019-03-01 00:00:00  \\\n",
       "0             No_Comment          No_Comment           No_Comment   \n",
       "1             No_Comment          No_Comment  SandersForPresident   \n",
       "2             No_Comment          No_Comment           No_Comment   \n",
       "3             No_Comment          No_Comment   YangForPresidentHQ   \n",
       "4             No_Comment          No_Comment           No_Comment   \n",
       "\n",
       "date 2019-04-01 00:00:00 2019-05-01 00:00:00  2019-06-01 00:00:00  \\\n",
       "0             No_Comment          No_Comment  SandersForPresident   \n",
       "1             No_Comment          No_Comment  SandersForPresident   \n",
       "2             No_Comment          No_Comment           No_Comment   \n",
       "3             No_Comment          No_Comment   YangForPresidentHQ   \n",
       "4             No_Comment          No_Comment           No_Comment   \n",
       "\n",
       "date  2019-07-01 00:00:00 2019-08-01 00:00:00 2019-09-01 00:00:00  \\\n",
       "0              No_Comment          No_Comment          No_Comment   \n",
       "1      YangForPresidentHQ          No_Comment          No_Comment   \n",
       "2              No_Comment          No_Comment          No_Comment   \n",
       "3      YangForPresidentHQ  YangForPresidentHQ  YangForPresidentHQ   \n",
       "4     SandersForPresident          No_Comment          No_Comment   \n",
       "\n",
       "date 2019-10-01 00:00:00 2019-11-01 00:00:00  2019-12-01 00:00:00  \n",
       "0             No_Comment          No_Comment           No_Comment  \n",
       "1             No_Comment          No_Comment           No_Comment  \n",
       "2             No_Comment          No_Comment  SandersForPresident  \n",
       "3             No_Comment          No_Comment   YangForPresidentHQ  \n",
       "4             No_Comment          No_Comment           No_Comment  "
      ]
     },
     "execution_count": 96,
     "metadata": {},
     "output_type": "execute_result"
    }
   ],
   "source": [
    "flow = pd.pivot_table(uc_pivot,index='username',columns='date',values='max_sub',aggfunc=np.sum).reset_index().fillna(\"No_Comment\")\n",
    "flow = flow.drop(\"username\",axis=1)\n",
    "flow.head()"
   ]
  },
  {
   "cell_type": "code",
   "execution_count": 97,
   "metadata": {},
   "outputs": [
    {
     "data": {
      "text/html": [
       "<div>\n",
       "<style scoped>\n",
       "    .dataframe tbody tr th:only-of-type {\n",
       "        vertical-align: middle;\n",
       "    }\n",
       "\n",
       "    .dataframe tbody tr th {\n",
       "        vertical-align: top;\n",
       "    }\n",
       "\n",
       "    .dataframe thead th {\n",
       "        text-align: right;\n",
       "    }\n",
       "</style>\n",
       "<table border=\"1\" class=\"dataframe\">\n",
       "  <thead>\n",
       "    <tr style=\"text-align: right;\">\n",
       "      <th></th>\n",
       "      <th>2019-01-01 00:00:00</th>\n",
       "      <th>2019-02-01 00:00:00</th>\n",
       "      <th>2019-03-01 00:00:00</th>\n",
       "      <th>2019-04-01 00:00:00</th>\n",
       "      <th>2019-05-01 00:00:00</th>\n",
       "      <th>2019-06-01 00:00:00</th>\n",
       "      <th>2019-07-01 00:00:00</th>\n",
       "      <th>2019-08-01 00:00:00</th>\n",
       "      <th>2019-09-01 00:00:00</th>\n",
       "      <th>2019-10-01 00:00:00</th>\n",
       "      <th>2019-11-01 00:00:00</th>\n",
       "      <th>2019-12-01 00:00:00</th>\n",
       "      <th>count</th>\n",
       "    </tr>\n",
       "  </thead>\n",
       "  <tbody>\n",
       "    <tr>\n",
       "      <th>0</th>\n",
       "      <td>BaemyKlobaechar</td>\n",
       "      <td>BaemyKlobaechar</td>\n",
       "      <td>BaemyKlobaechar</td>\n",
       "      <td>BaemyKlobaechar</td>\n",
       "      <td>BaemyKlobaechar</td>\n",
       "      <td>BaemyKlobaechar</td>\n",
       "      <td>BaemyKlobaechar</td>\n",
       "      <td>BaemyKlobaechar</td>\n",
       "      <td>BaemyKlobaechar</td>\n",
       "      <td>BaemyKlobaechar</td>\n",
       "      <td>No_Comment</td>\n",
       "      <td>No_Comment</td>\n",
       "      <td>1</td>\n",
       "    </tr>\n",
       "    <tr>\n",
       "      <th>1</th>\n",
       "      <td>BaemyKlobaechar</td>\n",
       "      <td>BaemyKlobaechar</td>\n",
       "      <td>BaemyKlobaechar</td>\n",
       "      <td>No_Comment</td>\n",
       "      <td>No_Comment</td>\n",
       "      <td>No_Comment</td>\n",
       "      <td>No_Comment</td>\n",
       "      <td>No_Comment</td>\n",
       "      <td>No_Comment</td>\n",
       "      <td>No_Comment</td>\n",
       "      <td>No_Comment</td>\n",
       "      <td>BaemyKlobaechar</td>\n",
       "      <td>1</td>\n",
       "    </tr>\n",
       "    <tr>\n",
       "      <th>2</th>\n",
       "      <td>BaemyKlobaechar</td>\n",
       "      <td>BaemyKlobaechar</td>\n",
       "      <td>No_Comment</td>\n",
       "      <td>BaemyKlobaechar</td>\n",
       "      <td>No_Comment</td>\n",
       "      <td>BaemyKlobaechar</td>\n",
       "      <td>No_Comment</td>\n",
       "      <td>BaemyKlobaechar</td>\n",
       "      <td>BaemyKlobaechar</td>\n",
       "      <td>No_Comment</td>\n",
       "      <td>No_Comment</td>\n",
       "      <td>No_Comment</td>\n",
       "      <td>1</td>\n",
       "    </tr>\n",
       "    <tr>\n",
       "      <th>3</th>\n",
       "      <td>BaemyKlobaechar</td>\n",
       "      <td>BaemyKlobaechar</td>\n",
       "      <td>No_Comment</td>\n",
       "      <td>BaemyKlobaechar</td>\n",
       "      <td>Pete_Buttigieg</td>\n",
       "      <td>No_Comment</td>\n",
       "      <td>No_Comment</td>\n",
       "      <td>No_Comment</td>\n",
       "      <td>SandersForPresident</td>\n",
       "      <td>No_Comment</td>\n",
       "      <td>No_Comment</td>\n",
       "      <td>No_Comment</td>\n",
       "      <td>1</td>\n",
       "    </tr>\n",
       "    <tr>\n",
       "      <th>4</th>\n",
       "      <td>BaemyKlobaechar</td>\n",
       "      <td>BaemyKlobaechar</td>\n",
       "      <td>No_Comment</td>\n",
       "      <td>JoeBiden</td>\n",
       "      <td>No_Comment</td>\n",
       "      <td>No_Comment</td>\n",
       "      <td>No_Comment</td>\n",
       "      <td>No_Comment</td>\n",
       "      <td>JoeBiden</td>\n",
       "      <td>No_Comment</td>\n",
       "      <td>Pete_Buttigieg</td>\n",
       "      <td>Pete_Buttigieg</td>\n",
       "      <td>1</td>\n",
       "    </tr>\n",
       "  </tbody>\n",
       "</table>\n",
       "</div>"
      ],
      "text/plain": [
       "  2019-01-01 00:00:00 2019-02-01 00:00:00 2019-03-01 00:00:00  \\\n",
       "0     BaemyKlobaechar     BaemyKlobaechar     BaemyKlobaechar   \n",
       "1     BaemyKlobaechar     BaemyKlobaechar     BaemyKlobaechar   \n",
       "2     BaemyKlobaechar     BaemyKlobaechar          No_Comment   \n",
       "3     BaemyKlobaechar     BaemyKlobaechar          No_Comment   \n",
       "4     BaemyKlobaechar     BaemyKlobaechar          No_Comment   \n",
       "\n",
       "  2019-04-01 00:00:00 2019-05-01 00:00:00 2019-06-01 00:00:00  \\\n",
       "0     BaemyKlobaechar     BaemyKlobaechar     BaemyKlobaechar   \n",
       "1          No_Comment          No_Comment          No_Comment   \n",
       "2     BaemyKlobaechar          No_Comment     BaemyKlobaechar   \n",
       "3     BaemyKlobaechar      Pete_Buttigieg          No_Comment   \n",
       "4            JoeBiden          No_Comment          No_Comment   \n",
       "\n",
       "  2019-07-01 00:00:00 2019-08-01 00:00:00  2019-09-01 00:00:00  \\\n",
       "0     BaemyKlobaechar     BaemyKlobaechar      BaemyKlobaechar   \n",
       "1          No_Comment          No_Comment           No_Comment   \n",
       "2          No_Comment     BaemyKlobaechar      BaemyKlobaechar   \n",
       "3          No_Comment          No_Comment  SandersForPresident   \n",
       "4          No_Comment          No_Comment             JoeBiden   \n",
       "\n",
       "  2019-10-01 00:00:00 2019-11-01 00:00:00 2019-12-01 00:00:00  count  \n",
       "0     BaemyKlobaechar          No_Comment          No_Comment      1  \n",
       "1          No_Comment          No_Comment     BaemyKlobaechar      1  \n",
       "2          No_Comment          No_Comment          No_Comment      1  \n",
       "3          No_Comment          No_Comment          No_Comment      1  \n",
       "4          No_Comment      Pete_Buttigieg      Pete_Buttigieg      1  "
      ]
     },
     "execution_count": 97,
     "metadata": {},
     "output_type": "execute_result"
    }
   ],
   "source": [
    "# Count identical journeys (which is why you group by every column)\n",
    "flow = flow.groupby(list(flow.columns)).size().to_frame().rename({0: 'count'},axis=1).reset_index()\n",
    "flow.head()"
   ]
  },
  {
   "cell_type": "code",
   "execution_count": 98,
   "metadata": {},
   "outputs": [
    {
     "data": {
      "text/html": [
       "<div>\n",
       "<style scoped>\n",
       "    .dataframe tbody tr th:only-of-type {\n",
       "        vertical-align: middle;\n",
       "    }\n",
       "\n",
       "    .dataframe tbody tr th {\n",
       "        vertical-align: top;\n",
       "    }\n",
       "\n",
       "    .dataframe thead th {\n",
       "        text-align: right;\n",
       "    }\n",
       "</style>\n",
       "<table border=\"1\" class=\"dataframe\">\n",
       "  <thead>\n",
       "    <tr style=\"text-align: right;\">\n",
       "      <th></th>\n",
       "      <th>2019-01-01 00:00:00</th>\n",
       "      <th>2019-02-01 00:00:00</th>\n",
       "      <th>2019-03-01 00:00:00</th>\n",
       "      <th>2019-04-01 00:00:00</th>\n",
       "      <th>2019-05-01 00:00:00</th>\n",
       "      <th>2019-06-01 00:00:00</th>\n",
       "      <th>2019-07-01 00:00:00</th>\n",
       "      <th>2019-08-01 00:00:00</th>\n",
       "      <th>2019-09-01 00:00:00</th>\n",
       "      <th>2019-10-01 00:00:00</th>\n",
       "      <th>2019-11-01 00:00:00</th>\n",
       "      <th>2019-12-01 00:00:00</th>\n",
       "      <th>count</th>\n",
       "    </tr>\n",
       "  </thead>\n",
       "  <tbody>\n",
       "    <tr>\n",
       "      <th>0</th>\n",
       "      <td>1: BaemyKlobaechar</td>\n",
       "      <td>2: BaemyKlobaechar</td>\n",
       "      <td>3: BaemyKlobaechar</td>\n",
       "      <td>4: BaemyKlobaechar</td>\n",
       "      <td>5: BaemyKlobaechar</td>\n",
       "      <td>6: BaemyKlobaechar</td>\n",
       "      <td>7: BaemyKlobaechar</td>\n",
       "      <td>8: BaemyKlobaechar</td>\n",
       "      <td>9: BaemyKlobaechar</td>\n",
       "      <td>10: BaemyKlobaechar</td>\n",
       "      <td>11: No_Comment</td>\n",
       "      <td>12: No_Comment</td>\n",
       "      <td>1</td>\n",
       "    </tr>\n",
       "    <tr>\n",
       "      <th>1</th>\n",
       "      <td>1: BaemyKlobaechar</td>\n",
       "      <td>2: BaemyKlobaechar</td>\n",
       "      <td>3: BaemyKlobaechar</td>\n",
       "      <td>4: No_Comment</td>\n",
       "      <td>5: No_Comment</td>\n",
       "      <td>6: No_Comment</td>\n",
       "      <td>7: No_Comment</td>\n",
       "      <td>8: No_Comment</td>\n",
       "      <td>9: No_Comment</td>\n",
       "      <td>10: No_Comment</td>\n",
       "      <td>11: No_Comment</td>\n",
       "      <td>12: BaemyKlobaechar</td>\n",
       "      <td>1</td>\n",
       "    </tr>\n",
       "    <tr>\n",
       "      <th>2</th>\n",
       "      <td>1: BaemyKlobaechar</td>\n",
       "      <td>2: BaemyKlobaechar</td>\n",
       "      <td>3: No_Comment</td>\n",
       "      <td>4: BaemyKlobaechar</td>\n",
       "      <td>5: No_Comment</td>\n",
       "      <td>6: BaemyKlobaechar</td>\n",
       "      <td>7: No_Comment</td>\n",
       "      <td>8: BaemyKlobaechar</td>\n",
       "      <td>9: BaemyKlobaechar</td>\n",
       "      <td>10: No_Comment</td>\n",
       "      <td>11: No_Comment</td>\n",
       "      <td>12: No_Comment</td>\n",
       "      <td>1</td>\n",
       "    </tr>\n",
       "    <tr>\n",
       "      <th>3</th>\n",
       "      <td>1: BaemyKlobaechar</td>\n",
       "      <td>2: BaemyKlobaechar</td>\n",
       "      <td>3: No_Comment</td>\n",
       "      <td>4: BaemyKlobaechar</td>\n",
       "      <td>5: Pete_Buttigieg</td>\n",
       "      <td>6: No_Comment</td>\n",
       "      <td>7: No_Comment</td>\n",
       "      <td>8: No_Comment</td>\n",
       "      <td>9: SandersForPresident</td>\n",
       "      <td>10: No_Comment</td>\n",
       "      <td>11: No_Comment</td>\n",
       "      <td>12: No_Comment</td>\n",
       "      <td>1</td>\n",
       "    </tr>\n",
       "    <tr>\n",
       "      <th>4</th>\n",
       "      <td>1: BaemyKlobaechar</td>\n",
       "      <td>2: BaemyKlobaechar</td>\n",
       "      <td>3: No_Comment</td>\n",
       "      <td>4: JoeBiden</td>\n",
       "      <td>5: No_Comment</td>\n",
       "      <td>6: No_Comment</td>\n",
       "      <td>7: No_Comment</td>\n",
       "      <td>8: No_Comment</td>\n",
       "      <td>9: JoeBiden</td>\n",
       "      <td>10: No_Comment</td>\n",
       "      <td>11: Pete_Buttigieg</td>\n",
       "      <td>12: Pete_Buttigieg</td>\n",
       "      <td>1</td>\n",
       "    </tr>\n",
       "  </tbody>\n",
       "</table>\n",
       "</div>"
      ],
      "text/plain": [
       "  2019-01-01 00:00:00 2019-02-01 00:00:00 2019-03-01 00:00:00  \\\n",
       "0  1: BaemyKlobaechar  2: BaemyKlobaechar  3: BaemyKlobaechar   \n",
       "1  1: BaemyKlobaechar  2: BaemyKlobaechar  3: BaemyKlobaechar   \n",
       "2  1: BaemyKlobaechar  2: BaemyKlobaechar       3: No_Comment   \n",
       "3  1: BaemyKlobaechar  2: BaemyKlobaechar       3: No_Comment   \n",
       "4  1: BaemyKlobaechar  2: BaemyKlobaechar       3: No_Comment   \n",
       "\n",
       "  2019-04-01 00:00:00 2019-05-01 00:00:00 2019-06-01 00:00:00  \\\n",
       "0  4: BaemyKlobaechar  5: BaemyKlobaechar  6: BaemyKlobaechar   \n",
       "1       4: No_Comment       5: No_Comment       6: No_Comment   \n",
       "2  4: BaemyKlobaechar       5: No_Comment  6: BaemyKlobaechar   \n",
       "3  4: BaemyKlobaechar   5: Pete_Buttigieg       6: No_Comment   \n",
       "4         4: JoeBiden       5: No_Comment       6: No_Comment   \n",
       "\n",
       "  2019-07-01 00:00:00 2019-08-01 00:00:00     2019-09-01 00:00:00  \\\n",
       "0  7: BaemyKlobaechar  8: BaemyKlobaechar      9: BaemyKlobaechar   \n",
       "1       7: No_Comment       8: No_Comment           9: No_Comment   \n",
       "2       7: No_Comment  8: BaemyKlobaechar      9: BaemyKlobaechar   \n",
       "3       7: No_Comment       8: No_Comment  9: SandersForPresident   \n",
       "4       7: No_Comment       8: No_Comment             9: JoeBiden   \n",
       "\n",
       "   2019-10-01 00:00:00 2019-11-01 00:00:00  2019-12-01 00:00:00  count  \n",
       "0  10: BaemyKlobaechar      11: No_Comment       12: No_Comment      1  \n",
       "1       10: No_Comment      11: No_Comment  12: BaemyKlobaechar      1  \n",
       "2       10: No_Comment      11: No_Comment       12: No_Comment      1  \n",
       "3       10: No_Comment      11: No_Comment       12: No_Comment      1  \n",
       "4       10: No_Comment  11: Pete_Buttigieg   12: Pete_Buttigieg      1  "
      ]
     },
     "execution_count": 98,
     "metadata": {},
     "output_type": "execute_result"
    }
   ],
   "source": [
    "for i, col in enumerate(flow.columns[:-1]):\n",
    "    flow[col] = flow[col].apply(lambda x : \"{}: {}\".format(i+1,x))\n",
    "flow.head()"
   ]
  },
  {
   "cell_type": "code",
   "execution_count": 108,
   "metadata": {},
   "outputs": [
    {
     "data": {
      "text/html": [
       "<div>\n",
       "<style scoped>\n",
       "    .dataframe tbody tr th:only-of-type {\n",
       "        vertical-align: middle;\n",
       "    }\n",
       "\n",
       "    .dataframe tbody tr th {\n",
       "        vertical-align: top;\n",
       "    }\n",
       "\n",
       "    .dataframe thead th {\n",
       "        text-align: right;\n",
       "    }\n",
       "</style>\n",
       "<table border=\"1\" class=\"dataframe\">\n",
       "  <thead>\n",
       "    <tr style=\"text-align: right;\">\n",
       "      <th></th>\n",
       "      <th>source</th>\n",
       "      <th>target</th>\n",
       "      <th>count</th>\n",
       "      <th>sourceID</th>\n",
       "      <th>targetID</th>\n",
       "      <th>color</th>\n",
       "    </tr>\n",
       "  </thead>\n",
       "  <tbody>\n",
       "    <tr>\n",
       "      <th>109</th>\n",
       "      <td>1: SandersForPresident</td>\n",
       "      <td>2: SandersForPresident</td>\n",
       "      <td>3.321184</td>\n",
       "      <td>1</td>\n",
       "      <td>8</td>\n",
       "      <td>rgba(0,0,160,0.4)</td>\n",
       "    </tr>\n",
       "    <tr>\n",
       "      <th>108</th>\n",
       "      <td>1: SandersForPresident</td>\n",
       "      <td>2: No_Comment</td>\n",
       "      <td>3.528917</td>\n",
       "      <td>1</td>\n",
       "      <td>13</td>\n",
       "      <td>rgba(192,192,192,0.4)</td>\n",
       "    </tr>\n",
       "    <tr>\n",
       "      <th>103</th>\n",
       "      <td>1: No_Comment</td>\n",
       "      <td>2: SandersForPresident</td>\n",
       "      <td>3.975432</td>\n",
       "      <td>6</td>\n",
       "      <td>8</td>\n",
       "      <td>rgba(44, 160, 44,0.4)</td>\n",
       "    </tr>\n",
       "    <tr>\n",
       "      <th>98</th>\n",
       "      <td>1: No_Comment</td>\n",
       "      <td>2: BaemyKlobaechar</td>\n",
       "      <td>1.857332</td>\n",
       "      <td>6</td>\n",
       "      <td>9</td>\n",
       "      <td>rgba(44, 160, 44,0.4)</td>\n",
       "    </tr>\n",
       "    <tr>\n",
       "      <th>99</th>\n",
       "      <td>1: No_Comment</td>\n",
       "      <td>2: ElizabethWarren</td>\n",
       "      <td>1.919078</td>\n",
       "      <td>6</td>\n",
       "      <td>10</td>\n",
       "      <td>rgba(44, 160, 44,0.4)</td>\n",
       "    </tr>\n",
       "  </tbody>\n",
       "</table>\n",
       "</div>"
      ],
      "text/plain": [
       "                     source                  target     count  sourceID  \\\n",
       "109  1: SandersForPresident  2: SandersForPresident  3.321184         1   \n",
       "108  1: SandersForPresident           2: No_Comment  3.528917         1   \n",
       "103           1: No_Comment  2: SandersForPresident  3.975432         6   \n",
       "98            1: No_Comment      2: BaemyKlobaechar  1.857332         6   \n",
       "99            1: No_Comment      2: ElizabethWarren  1.919078         6   \n",
       "\n",
       "     targetID                  color  \n",
       "109         8      rgba(0,0,160,0.4)  \n",
       "108        13  rgba(192,192,192,0.4)  \n",
       "103         8  rgba(44, 160, 44,0.4)  \n",
       "98          9  rgba(44, 160, 44,0.4)  \n",
       "99         10  rgba(44, 160, 44,0.4)  "
      ]
     },
     "execution_count": 108,
     "metadata": {},
     "output_type": "execute_result"
    }
   ],
   "source": [
    "# transform df into a source-target pair\n",
    "f_cols = list(flow.columns)\n",
    "\n",
    "label_list = [\"{}: {}\".format(i+1,cand) for i in range(12) for cand in left_candidates+[\"No_Comment\"]]\n",
    "color_list = [px.colors.qualitative.T10[c] for i in range(12) for c in range(len(left_candidates+[\"No_Comment\"]))]\n",
    "source_target_df =  pd.DataFrame(columns=['source','target','count'])\n",
    "for i in range(len(f_cols)-2):\n",
    "    temp_df = flow[[f_cols[i],f_cols[i+1],'count']]\n",
    "    temp_df.columns = ['source','target','count']\n",
    "    source_target_df = pd.concat([source_target_df,temp_df])\n",
    "    source_target_df = source_target_df.groupby(['source','target']).agg({'count':'sum'}).reset_index()\n",
    "\n",
    "# add index for source-target pair\n",
    "source_target_df['sourceID'] = source_target_df['source'].apply(lambda x: label_list.index(x))\n",
    "source_target_df['targetID'] = source_target_df['target'].apply(lambda x: label_list.index(x))\n",
    "source_target_df = source_target_df[source_target_df[\"count\"] > 70]\n",
    "source_target_df[\"count\"] = source_target_df[\"count\"].apply(lambda x: np.log10(x)) \n",
    "source_target_df = source_target_df.sort_values([\"sourceID\",\"targetID\"])\n",
    "def color(row):\n",
    "    s,t  = row[\"source\"], row[\"target\"]\n",
    "    # Get the name after the colon\n",
    "    s,t = s.split(\":\",1)[1].strip(),t.split(\":\",1)[1].strip()\n",
    "    if t == \"No_Comment\":\n",
    "        return \"rgba(192,192,192,0.4)\"\n",
    "    return \"rgba(0,0,160,0.4)\" if s==t else \"rgba(44, 160, 44,0.4)\"\n",
    "source_target_df[\"color\"] = source_target_df[[\"source\",\"target\"]].apply(color,axis=1)\n",
    "source_target_df.head()"
   ]
  },
  {
   "cell_type": "code",
   "execution_count": 122,
   "metadata": {
    "scrolled": false
   },
   "outputs": [
    {
     "data": {
      "application/vnd.plotly.v1+json": {
       "config": {
        "plotlyServerURL": "https://plot.ly"
       },
       "data": [
        {
         "link": {
          "color": [
           "rgba(0,0,160,0.4)",
           "rgba(192,192,192,0.4)",
           "rgba(44, 160, 44,0.4)",
           "rgba(44, 160, 44,0.4)",
           "rgba(44, 160, 44,0.4)",
           "rgba(44, 160, 44,0.4)",
           "rgba(192,192,192,0.4)",
           "rgba(0,0,160,0.4)",
           "rgba(44, 160, 44,0.4)",
           "rgba(192,192,192,0.4)",
           "rgba(192,192,192,0.4)",
           "rgba(192,192,192,0.4)",
           "rgba(0,0,160,0.4)",
           "rgba(192,192,192,0.4)",
           "rgba(44, 160, 44,0.4)",
           "rgba(44, 160, 44,0.4)",
           "rgba(44, 160, 44,0.4)",
           "rgba(192,192,192,0.4)",
           "rgba(0,0,160,0.4)",
           "rgba(44, 160, 44,0.4)",
           "rgba(44, 160, 44,0.4)",
           "rgba(192,192,192,0.4)",
           "rgba(0,0,160,0.4)",
           "rgba(192,192,192,0.4)",
           "rgba(0,0,160,0.4)",
           "rgba(192,192,192,0.4)",
           "rgba(44, 160, 44,0.4)",
           "rgba(44, 160, 44,0.4)",
           "rgba(44, 160, 44,0.4)",
           "rgba(44, 160, 44,0.4)",
           "rgba(44, 160, 44,0.4)",
           "rgba(192,192,192,0.4)",
           "rgba(0,0,160,0.4)",
           "rgba(192,192,192,0.4)",
           "rgba(0,0,160,0.4)",
           "rgba(192,192,192,0.4)",
           "rgba(44, 160, 44,0.4)",
           "rgba(0,0,160,0.4)",
           "rgba(192,192,192,0.4)",
           "rgba(0,0,160,0.4)",
           "rgba(192,192,192,0.4)",
           "rgba(44, 160, 44,0.4)",
           "rgba(44, 160, 44,0.4)",
           "rgba(44, 160, 44,0.4)",
           "rgba(44, 160, 44,0.4)",
           "rgba(44, 160, 44,0.4)",
           "rgba(192,192,192,0.4)",
           "rgba(192,192,192,0.4)",
           "rgba(0,0,160,0.4)",
           "rgba(44, 160, 44,0.4)",
           "rgba(192,192,192,0.4)",
           "rgba(0,0,160,0.4)",
           "rgba(192,192,192,0.4)",
           "rgba(0,0,160,0.4)",
           "rgba(192,192,192,0.4)",
           "rgba(0,0,160,0.4)",
           "rgba(192,192,192,0.4)",
           "rgba(44, 160, 44,0.4)",
           "rgba(44, 160, 44,0.4)",
           "rgba(44, 160, 44,0.4)",
           "rgba(44, 160, 44,0.4)",
           "rgba(44, 160, 44,0.4)",
           "rgba(192,192,192,0.4)",
           "rgba(192,192,192,0.4)",
           "rgba(0,0,160,0.4)",
           "rgba(44, 160, 44,0.4)",
           "rgba(44, 160, 44,0.4)",
           "rgba(192,192,192,0.4)",
           "rgba(0,0,160,0.4)",
           "rgba(192,192,192,0.4)",
           "rgba(0,0,160,0.4)",
           "rgba(192,192,192,0.4)",
           "rgba(0,0,160,0.4)",
           "rgba(192,192,192,0.4)",
           "rgba(44, 160, 44,0.4)",
           "rgba(44, 160, 44,0.4)",
           "rgba(44, 160, 44,0.4)",
           "rgba(44, 160, 44,0.4)",
           "rgba(192,192,192,0.4)",
           "rgba(0,0,160,0.4)",
           "rgba(44, 160, 44,0.4)",
           "rgba(192,192,192,0.4)",
           "rgba(0,0,160,0.4)",
           "rgba(192,192,192,0.4)",
           "rgba(0,0,160,0.4)",
           "rgba(192,192,192,0.4)",
           "rgba(44, 160, 44,0.4)",
           "rgba(0,0,160,0.4)",
           "rgba(192,192,192,0.4)",
           "rgba(44, 160, 44,0.4)",
           "rgba(44, 160, 44,0.4)",
           "rgba(44, 160, 44,0.4)",
           "rgba(44, 160, 44,0.4)",
           "rgba(44, 160, 44,0.4)",
           "rgba(192,192,192,0.4)",
           "rgba(0,0,160,0.4)",
           "rgba(192,192,192,0.4)",
           "rgba(0,0,160,0.4)",
           "rgba(44, 160, 44,0.4)",
           "rgba(44, 160, 44,0.4)",
           "rgba(192,192,192,0.4)",
           "rgba(0,0,160,0.4)",
           "rgba(192,192,192,0.4)",
           "rgba(0,0,160,0.4)",
           "rgba(192,192,192,0.4)",
           "rgba(44, 160, 44,0.4)",
           "rgba(0,0,160,0.4)",
           "rgba(192,192,192,0.4)",
           "rgba(44, 160, 44,0.4)",
           "rgba(44, 160, 44,0.4)",
           "rgba(44, 160, 44,0.4)",
           "rgba(44, 160, 44,0.4)",
           "rgba(44, 160, 44,0.4)",
           "rgba(192,192,192,0.4)",
           "rgba(0,0,160,0.4)",
           "rgba(192,192,192,0.4)",
           "rgba(0,0,160,0.4)",
           "rgba(44, 160, 44,0.4)",
           "rgba(44, 160, 44,0.4)",
           "rgba(192,192,192,0.4)",
           "rgba(0,0,160,0.4)",
           "rgba(192,192,192,0.4)",
           "rgba(0,0,160,0.4)",
           "rgba(192,192,192,0.4)",
           "rgba(44, 160, 44,0.4)",
           "rgba(0,0,160,0.4)",
           "rgba(192,192,192,0.4)",
           "rgba(44, 160, 44,0.4)",
           "rgba(44, 160, 44,0.4)",
           "rgba(44, 160, 44,0.4)",
           "rgba(44, 160, 44,0.4)",
           "rgba(192,192,192,0.4)",
           "rgba(0,0,160,0.4)",
           "rgba(0,0,160,0.4)",
           "rgba(44, 160, 44,0.4)",
           "rgba(44, 160, 44,0.4)",
           "rgba(192,192,192,0.4)",
           "rgba(44, 160, 44,0.4)",
           "rgba(0,0,160,0.4)",
           "rgba(192,192,192,0.4)",
           "rgba(0,0,160,0.4)",
           "rgba(192,192,192,0.4)",
           "rgba(44, 160, 44,0.4)",
           "rgba(0,0,160,0.4)",
           "rgba(192,192,192,0.4)",
           "rgba(44, 160, 44,0.4)",
           "rgba(44, 160, 44,0.4)",
           "rgba(44, 160, 44,0.4)",
           "rgba(44, 160, 44,0.4)",
           "rgba(44, 160, 44,0.4)",
           "rgba(192,192,192,0.4)",
           "rgba(0,0,160,0.4)",
           "rgba(192,192,192,0.4)",
           "rgba(0,0,160,0.4)",
           "rgba(44, 160, 44,0.4)",
           "rgba(192,192,192,0.4)",
           "rgba(44, 160, 44,0.4)",
           "rgba(0,0,160,0.4)",
           "rgba(192,192,192,0.4)",
           "rgba(0,0,160,0.4)",
           "rgba(192,192,192,0.4)",
           "rgba(44, 160, 44,0.4)",
           "rgba(0,0,160,0.4)",
           "rgba(192,192,192,0.4)",
           "rgba(44, 160, 44,0.4)",
           "rgba(44, 160, 44,0.4)",
           "rgba(44, 160, 44,0.4)",
           "rgba(44, 160, 44,0.4)",
           "rgba(44, 160, 44,0.4)",
           "rgba(192,192,192,0.4)"
          ],
          "hovertemplate": "10^%{value} users switched subreddits<extra></extra>",
          "source": [
           1,
           1,
           6,
           6,
           6,
           6,
           6,
           8,
           8,
           8,
           9,
           10,
           12,
           12,
           13,
           13,
           13,
           13,
           15,
           15,
           15,
           15,
           18,
           18,
           19,
           19,
           20,
           20,
           20,
           20,
           20,
           20,
           22,
           22,
           24,
           24,
           25,
           25,
           25,
           26,
           26,
           27,
           27,
           27,
           27,
           27,
           27,
           28,
           29,
           29,
           29,
           31,
           31,
           32,
           32,
           33,
           33,
           34,
           34,
           34,
           34,
           34,
           34,
           35,
           36,
           36,
           36,
           36,
           38,
           38,
           39,
           39,
           40,
           40,
           41,
           41,
           41,
           41,
           41,
           43,
           43,
           43,
           45,
           45,
           46,
           46,
           47,
           47,
           47,
           48,
           48,
           48,
           48,
           48,
           48,
           49,
           49,
           50,
           50,
           50,
           50,
           52,
           52,
           53,
           53,
           54,
           54,
           54,
           55,
           55,
           55,
           55,
           55,
           55,
           56,
           56,
           57,
           57,
           57,
           57,
           59,
           59,
           60,
           60,
           61,
           61,
           61,
           62,
           62,
           62,
           62,
           62,
           63,
           64,
           64,
           64,
           64,
           66,
           66,
           66,
           67,
           67,
           68,
           68,
           68,
           69,
           69,
           69,
           69,
           69,
           69,
           70,
           70,
           71,
           71,
           71,
           73,
           73,
           73,
           74,
           74,
           75,
           75,
           75,
           76,
           76,
           76,
           76,
           76,
           76
          ],
          "target": [
           8,
           13,
           8,
           9,
           10,
           12,
           13,
           15,
           19,
           20,
           20,
           20,
           19,
           20,
           15,
           18,
           19,
           20,
           22,
           25,
           26,
           27,
           25,
           27,
           26,
           27,
           21,
           22,
           24,
           25,
           26,
           27,
           29,
           34,
           31,
           34,
           29,
           32,
           34,
           33,
           34,
           28,
           29,
           31,
           32,
           33,
           34,
           41,
           36,
           40,
           41,
           38,
           41,
           39,
           41,
           40,
           41,
           35,
           36,
           38,
           39,
           40,
           41,
           48,
           43,
           45,
           47,
           48,
           45,
           48,
           46,
           48,
           47,
           48,
           43,
           45,
           46,
           47,
           48,
           50,
           54,
           55,
           52,
           55,
           53,
           55,
           50,
           54,
           55,
           49,
           50,
           52,
           53,
           54,
           55,
           56,
           62,
           57,
           59,
           61,
           62,
           59,
           62,
           60,
           62,
           57,
           61,
           62,
           56,
           57,
           59,
           60,
           61,
           62,
           63,
           69,
           64,
           66,
           68,
           69,
           66,
           69,
           67,
           69,
           64,
           68,
           69,
           64,
           66,
           67,
           68,
           69,
           70,
           71,
           73,
           75,
           76,
           71,
           73,
           76,
           74,
           76,
           71,
           75,
           76,
           70,
           71,
           73,
           74,
           75,
           76,
           77,
           83,
           78,
           82,
           83,
           78,
           80,
           83,
           81,
           83,
           78,
           82,
           83,
           77,
           78,
           80,
           81,
           82,
           83
          ],
          "value": [
           3.3211840273023143,
           3.5289167002776547,
           3.975431808509263,
           1.8573324964312685,
           1.919078092376074,
           2.714329759745233,
           5.107386365953068,
           3.578524605274993,
           2.0043213737826426,
           3.881897973573011,
           1.8808135922807914,
           1.9084850188786497,
           2.505149978319906,
           2.330413773349191,
           3.8730879855902858,
           3.212453961040276,
           3.5289167002776547,
           5.075419208933336,
           3.5613399414589013,
           2.1789769472931693,
           1.919078092376074,
           3.8673496171887924,
           3.0232524596337114,
           2.7730546933642626,
           3.1795517911651876,
           3.3404441148401185,
           2.05307844348342,
           3.7706311277778064,
           2.432969290874406,
           3.473924693416157,
           3.330007700872759,
           5.06279625850655,
           3.4516329474569907,
           3.822625678774141,
           2.1271047983648077,
           2.250420002308894,
           1.9395192526186185,
           3.150756439860309,
           3.423737249982329,
           3.1931245983544616,
           3.3271545124094315,
           2.0681858617461617,
           3.6225248624035684,
           2.6655809910179533,
           2.9849771264154934,
           3.143014800254095,
           5.074256761517392,
           2.0569048513364727,
           3.4202858849419178,
           1.8573324964312685,
           3.6399842480415887,
           2.437750562820388,
           2.561101383649056,
           3.0492180226701815,
           3.080987046910887,
           3.239549720840473,
           3.0813473078041325,
           2.123851640967086,
           4.1573358620972805,
           2.916453948549925,
           3.162564406523019,
           3.541454428747589,
           5.041649237923496,
           2.12057393120585,
           3.550228353055094,
           1.8750612633917,
           2.3502480183341627,
           4.122412495411281,
           2.625312450961674,
           2.837588438235511,
           3.09377178149873,
           3.1082266563749283,
           3.443262987458695,
           3.387567779417189,
           3.867820908045573,
           2.8135809885681917,
           3.1290450598879582,
           3.682145076373832,
           5.013115421368239,
           3.6060587494103142,
           2.3483048630481607,
           3.8275631112547237,
           2.661812685537261,
           2.7937903846908188,
           3.0718820073061255,
           3.1451964061141817,
           2.2576785748691846,
           3.5918434112247843,
           3.571941635074462,
           2.1818435879447726,
           4.154971441544471,
           2.863322860120456,
           2.9925535178321354,
           3.944778681123507,
           4.981777847694567,
           2,
           2.0791812460476247,
           3.6842167951388807,
           1.8692317197309762,
           2.514547752660286,
           4.1258714674176815,
           2.7551122663950713,
           2.8048206787211623,
           2.997386384397313,
           3.0523090996473234,
           2.4471580313422194,
           3.7812525942484565,
           3.821906377352323,
           2.075546961392531,
           4.008302024212002,
           3.00774777800074,
           2.9222062774390163,
           3.8687032022785366,
           4.948691646453361,
           1.9542425094393248,
           2.1335389083702174,
           3.6503075231319366,
           2.05307844348342,
           2.436162647040756,
           4.021602716028243,
           2.8785217955012063,
           2.9355072658247128,
           3,
           2.9084850188786495,
           2.369215857410143,
           3.821513528404773,
           3.837588438235511,
           3.976212377117377,
           3.0362295440862948,
           3.020775488193558,
           3.8455940931600243,
           4.964066253016779,
           1.9084850188786497,
           3.6482624057480444,
           1.9777236052888478,
           2.3138672203691533,
           3.976533380391938,
           1.8808135922807914,
           2.907411360774586,
           3.0253058652647704,
           3.0996806411092503,
           2.906335041805091,
           2.285557309007774,
           3.814580516010319,
           3.854427505787861,
           2.037426497940624,
           3.870988813760575,
           2.9489017609702137,
           3.1571544399062814,
           3.805160901599434,
           4.977783030994179,
           2.012837224705172,
           1.8976270912904414,
           3.6775157047987577,
           2.3710678622717363,
           3.8497264441963277,
           2.0681858617461617,
           2.7810369386211318,
           3.0187004986662433,
           3.1705550585212086,
           3.0806264869218056,
           2.3242824552976926,
           3.85394144588049,
           3.7598188773748262,
           2.2810333672477277,
           4.1181323999209045,
           2.790988475088816,
           3.180412632838324,
           3.969462507974637,
           4.948359164706384
          ]
         },
         "node": {
          "color": [
           "#4C78A8",
           "#F58518",
           "#E45756",
           "#72B7B2",
           "#54A24B",
           "#EECA3B",
           "#B279A2",
           "#4C78A8",
           "#F58518",
           "#E45756",
           "#72B7B2",
           "#54A24B",
           "#EECA3B",
           "#B279A2",
           "#4C78A8",
           "#F58518",
           "#E45756",
           "#72B7B2",
           "#54A24B",
           "#EECA3B",
           "#B279A2",
           "#4C78A8",
           "#F58518",
           "#E45756",
           "#72B7B2",
           "#54A24B",
           "#EECA3B",
           "#B279A2",
           "#4C78A8",
           "#F58518",
           "#E45756",
           "#72B7B2",
           "#54A24B",
           "#EECA3B",
           "#B279A2",
           "#4C78A8",
           "#F58518",
           "#E45756",
           "#72B7B2",
           "#54A24B",
           "#EECA3B",
           "#B279A2",
           "#4C78A8",
           "#F58518",
           "#E45756",
           "#72B7B2",
           "#54A24B",
           "#EECA3B",
           "#B279A2",
           "#4C78A8",
           "#F58518",
           "#E45756",
           "#72B7B2",
           "#54A24B",
           "#EECA3B",
           "#B279A2",
           "#4C78A8",
           "#F58518",
           "#E45756",
           "#72B7B2",
           "#54A24B",
           "#EECA3B",
           "#B279A2",
           "#4C78A8",
           "#F58518",
           "#E45756",
           "#72B7B2",
           "#54A24B",
           "#EECA3B",
           "#B279A2",
           "#4C78A8",
           "#F58518",
           "#E45756",
           "#72B7B2",
           "#54A24B",
           "#EECA3B",
           "#B279A2",
           "#4C78A8",
           "#F58518",
           "#E45756",
           "#72B7B2",
           "#54A24B",
           "#EECA3B",
           "#B279A2"
          ],
          "hovertemplate": "10^%{value} users predominantly commented on %{label}<extra></extra>",
          "label": [
           "1: JoeBiden",
           "1: SandersForPresident",
           "1: BaemyKlobaechar",
           "1: ElizabethWarren",
           "1: Pete_Buttigieg",
           "1: YangForPresidentHQ",
           "1: No_Comment",
           "2: JoeBiden",
           "2: SandersForPresident",
           "2: BaemyKlobaechar",
           "2: ElizabethWarren",
           "2: Pete_Buttigieg",
           "2: YangForPresidentHQ",
           "2: No_Comment",
           "3: JoeBiden",
           "3: SandersForPresident",
           "3: BaemyKlobaechar",
           "3: ElizabethWarren",
           "3: Pete_Buttigieg",
           "3: YangForPresidentHQ",
           "3: No_Comment",
           "4: JoeBiden",
           "4: SandersForPresident",
           "4: BaemyKlobaechar",
           "4: ElizabethWarren",
           "4: Pete_Buttigieg",
           "4: YangForPresidentHQ",
           "4: No_Comment",
           "5: JoeBiden",
           "5: SandersForPresident",
           "5: BaemyKlobaechar",
           "5: ElizabethWarren",
           "5: Pete_Buttigieg",
           "5: YangForPresidentHQ",
           "5: No_Comment",
           "6: JoeBiden",
           "6: SandersForPresident",
           "6: BaemyKlobaechar",
           "6: ElizabethWarren",
           "6: Pete_Buttigieg",
           "6: YangForPresidentHQ",
           "6: No_Comment",
           "7: JoeBiden",
           "7: SandersForPresident",
           "7: BaemyKlobaechar",
           "7: ElizabethWarren",
           "7: Pete_Buttigieg",
           "7: YangForPresidentHQ",
           "7: No_Comment",
           "8: JoeBiden",
           "8: SandersForPresident",
           "8: BaemyKlobaechar",
           "8: ElizabethWarren",
           "8: Pete_Buttigieg",
           "8: YangForPresidentHQ",
           "8: No_Comment",
           "9: JoeBiden",
           "9: SandersForPresident",
           "9: BaemyKlobaechar",
           "9: ElizabethWarren",
           "9: Pete_Buttigieg",
           "9: YangForPresidentHQ",
           "9: No_Comment",
           "10: JoeBiden",
           "10: SandersForPresident",
           "10: BaemyKlobaechar",
           "10: ElizabethWarren",
           "10: Pete_Buttigieg",
           "10: YangForPresidentHQ",
           "10: No_Comment",
           "11: JoeBiden",
           "11: SandersForPresident",
           "11: BaemyKlobaechar",
           "11: ElizabethWarren",
           "11: Pete_Buttigieg",
           "11: YangForPresidentHQ",
           "11: No_Comment",
           "12: JoeBiden",
           "12: SandersForPresident",
           "12: BaemyKlobaechar",
           "12: ElizabethWarren",
           "12: Pete_Buttigieg",
           "12: YangForPresidentHQ",
           "12: No_Comment"
          ],
          "line": {
           "color": "black",
           "width": 0.5
          },
          "pad": 20,
          "thickness": 10
         },
         "type": "sankey"
        }
       ],
       "layout": {
        "annotations": [
         {
          "showarrow": false,
          "text": "2019-01-01",
          "x": 0,
          "y": -0.1
         },
         {
          "showarrow": false,
          "text": "2019-02-01",
          "x": 0.09166666666666667,
          "y": -0.1
         },
         {
          "showarrow": false,
          "text": "2019-03-01",
          "x": 0.18333333333333335,
          "y": -0.1
         },
         {
          "showarrow": false,
          "text": "2019-04-01",
          "x": 0.27499999999999997,
          "y": -0.1
         },
         {
          "showarrow": false,
          "text": "2019-05-01",
          "x": 0.3666666666666667,
          "y": -0.1
         },
         {
          "showarrow": false,
          "text": "2019-06-01",
          "x": 0.4583333333333333,
          "y": -0.1
         },
         {
          "showarrow": false,
          "text": "2019-07-01",
          "x": 0.5499999999999999,
          "y": -0.1
         },
         {
          "showarrow": false,
          "text": "2019-08-01",
          "x": 0.6416666666666667,
          "y": -0.1
         },
         {
          "showarrow": false,
          "text": "2019-09-01",
          "x": 0.7333333333333334,
          "y": -0.1
         },
         {
          "showarrow": false,
          "text": "2019-10-01",
          "x": 0.8250000000000001,
          "y": -0.1
         },
         {
          "showarrow": false,
          "text": "2019-11-01",
          "x": 0.9166666666666666,
          "y": -0.1
         },
         {
          "showarrow": false,
          "text": "2019-12-01",
          "x": 1.0083333333333333,
          "y": -0.1
         },
         {
          "showarrow": true,
          "text": "Users who predominantly comment on this subreddit",
          "x": 0.273,
          "y": 0.755
         },
         {
          "showarrow": true,
          "text": "Non-active users that month",
          "x": 0.052,
          "y": 0.53
         }
        ],
        "font": {
         "size": 15
        },
        "height": 600,
        "margin": {
         "b": 100,
         "l": 50,
         "r": 100,
         "t": 40
        },
        "template": {
         "data": {
          "bar": [
           {
            "error_x": {
             "color": "#2a3f5f"
            },
            "error_y": {
             "color": "#2a3f5f"
            },
            "marker": {
             "line": {
              "color": "#E5ECF6",
              "width": 0.5
             }
            },
            "type": "bar"
           }
          ],
          "barpolar": [
           {
            "marker": {
             "line": {
              "color": "#E5ECF6",
              "width": 0.5
             }
            },
            "type": "barpolar"
           }
          ],
          "carpet": [
           {
            "aaxis": {
             "endlinecolor": "#2a3f5f",
             "gridcolor": "white",
             "linecolor": "white",
             "minorgridcolor": "white",
             "startlinecolor": "#2a3f5f"
            },
            "baxis": {
             "endlinecolor": "#2a3f5f",
             "gridcolor": "white",
             "linecolor": "white",
             "minorgridcolor": "white",
             "startlinecolor": "#2a3f5f"
            },
            "type": "carpet"
           }
          ],
          "choropleth": [
           {
            "colorbar": {
             "outlinewidth": 0,
             "ticks": ""
            },
            "type": "choropleth"
           }
          ],
          "contour": [
           {
            "colorbar": {
             "outlinewidth": 0,
             "ticks": ""
            },
            "colorscale": [
             [
              0,
              "#0d0887"
             ],
             [
              0.1111111111111111,
              "#46039f"
             ],
             [
              0.2222222222222222,
              "#7201a8"
             ],
             [
              0.3333333333333333,
              "#9c179e"
             ],
             [
              0.4444444444444444,
              "#bd3786"
             ],
             [
              0.5555555555555556,
              "#d8576b"
             ],
             [
              0.6666666666666666,
              "#ed7953"
             ],
             [
              0.7777777777777778,
              "#fb9f3a"
             ],
             [
              0.8888888888888888,
              "#fdca26"
             ],
             [
              1,
              "#f0f921"
             ]
            ],
            "type": "contour"
           }
          ],
          "contourcarpet": [
           {
            "colorbar": {
             "outlinewidth": 0,
             "ticks": ""
            },
            "type": "contourcarpet"
           }
          ],
          "heatmap": [
           {
            "colorbar": {
             "outlinewidth": 0,
             "ticks": ""
            },
            "colorscale": [
             [
              0,
              "#0d0887"
             ],
             [
              0.1111111111111111,
              "#46039f"
             ],
             [
              0.2222222222222222,
              "#7201a8"
             ],
             [
              0.3333333333333333,
              "#9c179e"
             ],
             [
              0.4444444444444444,
              "#bd3786"
             ],
             [
              0.5555555555555556,
              "#d8576b"
             ],
             [
              0.6666666666666666,
              "#ed7953"
             ],
             [
              0.7777777777777778,
              "#fb9f3a"
             ],
             [
              0.8888888888888888,
              "#fdca26"
             ],
             [
              1,
              "#f0f921"
             ]
            ],
            "type": "heatmap"
           }
          ],
          "heatmapgl": [
           {
            "colorbar": {
             "outlinewidth": 0,
             "ticks": ""
            },
            "colorscale": [
             [
              0,
              "#0d0887"
             ],
             [
              0.1111111111111111,
              "#46039f"
             ],
             [
              0.2222222222222222,
              "#7201a8"
             ],
             [
              0.3333333333333333,
              "#9c179e"
             ],
             [
              0.4444444444444444,
              "#bd3786"
             ],
             [
              0.5555555555555556,
              "#d8576b"
             ],
             [
              0.6666666666666666,
              "#ed7953"
             ],
             [
              0.7777777777777778,
              "#fb9f3a"
             ],
             [
              0.8888888888888888,
              "#fdca26"
             ],
             [
              1,
              "#f0f921"
             ]
            ],
            "type": "heatmapgl"
           }
          ],
          "histogram": [
           {
            "marker": {
             "colorbar": {
              "outlinewidth": 0,
              "ticks": ""
             }
            },
            "type": "histogram"
           }
          ],
          "histogram2d": [
           {
            "colorbar": {
             "outlinewidth": 0,
             "ticks": ""
            },
            "colorscale": [
             [
              0,
              "#0d0887"
             ],
             [
              0.1111111111111111,
              "#46039f"
             ],
             [
              0.2222222222222222,
              "#7201a8"
             ],
             [
              0.3333333333333333,
              "#9c179e"
             ],
             [
              0.4444444444444444,
              "#bd3786"
             ],
             [
              0.5555555555555556,
              "#d8576b"
             ],
             [
              0.6666666666666666,
              "#ed7953"
             ],
             [
              0.7777777777777778,
              "#fb9f3a"
             ],
             [
              0.8888888888888888,
              "#fdca26"
             ],
             [
              1,
              "#f0f921"
             ]
            ],
            "type": "histogram2d"
           }
          ],
          "histogram2dcontour": [
           {
            "colorbar": {
             "outlinewidth": 0,
             "ticks": ""
            },
            "colorscale": [
             [
              0,
              "#0d0887"
             ],
             [
              0.1111111111111111,
              "#46039f"
             ],
             [
              0.2222222222222222,
              "#7201a8"
             ],
             [
              0.3333333333333333,
              "#9c179e"
             ],
             [
              0.4444444444444444,
              "#bd3786"
             ],
             [
              0.5555555555555556,
              "#d8576b"
             ],
             [
              0.6666666666666666,
              "#ed7953"
             ],
             [
              0.7777777777777778,
              "#fb9f3a"
             ],
             [
              0.8888888888888888,
              "#fdca26"
             ],
             [
              1,
              "#f0f921"
             ]
            ],
            "type": "histogram2dcontour"
           }
          ],
          "mesh3d": [
           {
            "colorbar": {
             "outlinewidth": 0,
             "ticks": ""
            },
            "type": "mesh3d"
           }
          ],
          "parcoords": [
           {
            "line": {
             "colorbar": {
              "outlinewidth": 0,
              "ticks": ""
             }
            },
            "type": "parcoords"
           }
          ],
          "pie": [
           {
            "automargin": true,
            "type": "pie"
           }
          ],
          "scatter": [
           {
            "marker": {
             "colorbar": {
              "outlinewidth": 0,
              "ticks": ""
             }
            },
            "type": "scatter"
           }
          ],
          "scatter3d": [
           {
            "line": {
             "colorbar": {
              "outlinewidth": 0,
              "ticks": ""
             }
            },
            "marker": {
             "colorbar": {
              "outlinewidth": 0,
              "ticks": ""
             }
            },
            "type": "scatter3d"
           }
          ],
          "scattercarpet": [
           {
            "marker": {
             "colorbar": {
              "outlinewidth": 0,
              "ticks": ""
             }
            },
            "type": "scattercarpet"
           }
          ],
          "scattergeo": [
           {
            "marker": {
             "colorbar": {
              "outlinewidth": 0,
              "ticks": ""
             }
            },
            "type": "scattergeo"
           }
          ],
          "scattergl": [
           {
            "marker": {
             "colorbar": {
              "outlinewidth": 0,
              "ticks": ""
             }
            },
            "type": "scattergl"
           }
          ],
          "scattermapbox": [
           {
            "marker": {
             "colorbar": {
              "outlinewidth": 0,
              "ticks": ""
             }
            },
            "type": "scattermapbox"
           }
          ],
          "scatterpolar": [
           {
            "marker": {
             "colorbar": {
              "outlinewidth": 0,
              "ticks": ""
             }
            },
            "type": "scatterpolar"
           }
          ],
          "scatterpolargl": [
           {
            "marker": {
             "colorbar": {
              "outlinewidth": 0,
              "ticks": ""
             }
            },
            "type": "scatterpolargl"
           }
          ],
          "scatterternary": [
           {
            "marker": {
             "colorbar": {
              "outlinewidth": 0,
              "ticks": ""
             }
            },
            "type": "scatterternary"
           }
          ],
          "surface": [
           {
            "colorbar": {
             "outlinewidth": 0,
             "ticks": ""
            },
            "colorscale": [
             [
              0,
              "#0d0887"
             ],
             [
              0.1111111111111111,
              "#46039f"
             ],
             [
              0.2222222222222222,
              "#7201a8"
             ],
             [
              0.3333333333333333,
              "#9c179e"
             ],
             [
              0.4444444444444444,
              "#bd3786"
             ],
             [
              0.5555555555555556,
              "#d8576b"
             ],
             [
              0.6666666666666666,
              "#ed7953"
             ],
             [
              0.7777777777777778,
              "#fb9f3a"
             ],
             [
              0.8888888888888888,
              "#fdca26"
             ],
             [
              1,
              "#f0f921"
             ]
            ],
            "type": "surface"
           }
          ],
          "table": [
           {
            "cells": {
             "fill": {
              "color": "#EBF0F8"
             },
             "line": {
              "color": "white"
             }
            },
            "header": {
             "fill": {
              "color": "#C8D4E3"
             },
             "line": {
              "color": "white"
             }
            },
            "type": "table"
           }
          ]
         },
         "layout": {
          "annotationdefaults": {
           "arrowcolor": "#2a3f5f",
           "arrowhead": 0,
           "arrowwidth": 1
          },
          "coloraxis": {
           "colorbar": {
            "outlinewidth": 0,
            "ticks": ""
           }
          },
          "colorscale": {
           "diverging": [
            [
             0,
             "#8e0152"
            ],
            [
             0.1,
             "#c51b7d"
            ],
            [
             0.2,
             "#de77ae"
            ],
            [
             0.3,
             "#f1b6da"
            ],
            [
             0.4,
             "#fde0ef"
            ],
            [
             0.5,
             "#f7f7f7"
            ],
            [
             0.6,
             "#e6f5d0"
            ],
            [
             0.7,
             "#b8e186"
            ],
            [
             0.8,
             "#7fbc41"
            ],
            [
             0.9,
             "#4d9221"
            ],
            [
             1,
             "#276419"
            ]
           ],
           "sequential": [
            [
             0,
             "#0d0887"
            ],
            [
             0.1111111111111111,
             "#46039f"
            ],
            [
             0.2222222222222222,
             "#7201a8"
            ],
            [
             0.3333333333333333,
             "#9c179e"
            ],
            [
             0.4444444444444444,
             "#bd3786"
            ],
            [
             0.5555555555555556,
             "#d8576b"
            ],
            [
             0.6666666666666666,
             "#ed7953"
            ],
            [
             0.7777777777777778,
             "#fb9f3a"
            ],
            [
             0.8888888888888888,
             "#fdca26"
            ],
            [
             1,
             "#f0f921"
            ]
           ],
           "sequentialminus": [
            [
             0,
             "#0d0887"
            ],
            [
             0.1111111111111111,
             "#46039f"
            ],
            [
             0.2222222222222222,
             "#7201a8"
            ],
            [
             0.3333333333333333,
             "#9c179e"
            ],
            [
             0.4444444444444444,
             "#bd3786"
            ],
            [
             0.5555555555555556,
             "#d8576b"
            ],
            [
             0.6666666666666666,
             "#ed7953"
            ],
            [
             0.7777777777777778,
             "#fb9f3a"
            ],
            [
             0.8888888888888888,
             "#fdca26"
            ],
            [
             1,
             "#f0f921"
            ]
           ]
          },
          "colorway": [
           "#636efa",
           "#EF553B",
           "#00cc96",
           "#ab63fa",
           "#FFA15A",
           "#19d3f3",
           "#FF6692",
           "#B6E880",
           "#FF97FF",
           "#FECB52"
          ],
          "font": {
           "color": "#2a3f5f"
          },
          "geo": {
           "bgcolor": "white",
           "lakecolor": "white",
           "landcolor": "#E5ECF6",
           "showlakes": true,
           "showland": true,
           "subunitcolor": "white"
          },
          "hoverlabel": {
           "align": "left"
          },
          "hovermode": "closest",
          "mapbox": {
           "style": "light"
          },
          "paper_bgcolor": "white",
          "plot_bgcolor": "#E5ECF6",
          "polar": {
           "angularaxis": {
            "gridcolor": "white",
            "linecolor": "white",
            "ticks": ""
           },
           "bgcolor": "#E5ECF6",
           "radialaxis": {
            "gridcolor": "white",
            "linecolor": "white",
            "ticks": ""
           }
          },
          "scene": {
           "xaxis": {
            "backgroundcolor": "#E5ECF6",
            "gridcolor": "white",
            "gridwidth": 2,
            "linecolor": "white",
            "showbackground": true,
            "ticks": "",
            "zerolinecolor": "white"
           },
           "yaxis": {
            "backgroundcolor": "#E5ECF6",
            "gridcolor": "white",
            "gridwidth": 2,
            "linecolor": "white",
            "showbackground": true,
            "ticks": "",
            "zerolinecolor": "white"
           },
           "zaxis": {
            "backgroundcolor": "#E5ECF6",
            "gridcolor": "white",
            "gridwidth": 2,
            "linecolor": "white",
            "showbackground": true,
            "ticks": "",
            "zerolinecolor": "white"
           }
          },
          "shapedefaults": {
           "line": {
            "color": "#2a3f5f"
           }
          },
          "ternary": {
           "aaxis": {
            "gridcolor": "white",
            "linecolor": "white",
            "ticks": ""
           },
           "baxis": {
            "gridcolor": "white",
            "linecolor": "white",
            "ticks": ""
           },
           "bgcolor": "#E5ECF6",
           "caxis": {
            "gridcolor": "white",
            "linecolor": "white",
            "ticks": ""
           }
          },
          "title": {
           "x": 0.05
          },
          "xaxis": {
           "automargin": true,
           "gridcolor": "white",
           "linecolor": "white",
           "ticks": "",
           "title": {
            "standoff": 15
           },
           "zerolinecolor": "white",
           "zerolinewidth": 2
          },
          "yaxis": {
           "automargin": true,
           "gridcolor": "white",
           "linecolor": "white",
           "ticks": "",
           "title": {
            "standoff": 15
           },
           "zerolinecolor": "white",
           "zerolinewidth": 2
          }
         }
        },
        "title": {
         "text": "User Flow on Political Subreddits"
        },
        "width": 3000
       }
      },
      "text/html": [
       "<div>\n",
       "        \n",
       "        \n",
       "            <div id=\"71e0a425-be17-4a44-98bc-cfd38d5a6728\" class=\"plotly-graph-div\" style=\"height:600px; width:3000px;\"></div>\n",
       "            <script type=\"text/javascript\">\n",
       "                require([\"plotly\"], function(Plotly) {\n",
       "                    window.PLOTLYENV=window.PLOTLYENV || {};\n",
       "                    \n",
       "                if (document.getElementById(\"71e0a425-be17-4a44-98bc-cfd38d5a6728\")) {\n",
       "                    Plotly.newPlot(\n",
       "                        '71e0a425-be17-4a44-98bc-cfd38d5a6728',\n",
       "                        [{\"link\": {\"color\": [\"rgba(0,0,160,0.4)\", \"rgba(192,192,192,0.4)\", \"rgba(44, 160, 44,0.4)\", \"rgba(44, 160, 44,0.4)\", \"rgba(44, 160, 44,0.4)\", \"rgba(44, 160, 44,0.4)\", \"rgba(192,192,192,0.4)\", \"rgba(0,0,160,0.4)\", \"rgba(44, 160, 44,0.4)\", \"rgba(192,192,192,0.4)\", \"rgba(192,192,192,0.4)\", \"rgba(192,192,192,0.4)\", \"rgba(0,0,160,0.4)\", \"rgba(192,192,192,0.4)\", \"rgba(44, 160, 44,0.4)\", \"rgba(44, 160, 44,0.4)\", \"rgba(44, 160, 44,0.4)\", \"rgba(192,192,192,0.4)\", \"rgba(0,0,160,0.4)\", \"rgba(44, 160, 44,0.4)\", \"rgba(44, 160, 44,0.4)\", \"rgba(192,192,192,0.4)\", \"rgba(0,0,160,0.4)\", \"rgba(192,192,192,0.4)\", \"rgba(0,0,160,0.4)\", \"rgba(192,192,192,0.4)\", \"rgba(44, 160, 44,0.4)\", \"rgba(44, 160, 44,0.4)\", \"rgba(44, 160, 44,0.4)\", \"rgba(44, 160, 44,0.4)\", \"rgba(44, 160, 44,0.4)\", \"rgba(192,192,192,0.4)\", \"rgba(0,0,160,0.4)\", \"rgba(192,192,192,0.4)\", \"rgba(0,0,160,0.4)\", \"rgba(192,192,192,0.4)\", \"rgba(44, 160, 44,0.4)\", \"rgba(0,0,160,0.4)\", \"rgba(192,192,192,0.4)\", \"rgba(0,0,160,0.4)\", \"rgba(192,192,192,0.4)\", \"rgba(44, 160, 44,0.4)\", \"rgba(44, 160, 44,0.4)\", \"rgba(44, 160, 44,0.4)\", \"rgba(44, 160, 44,0.4)\", \"rgba(44, 160, 44,0.4)\", \"rgba(192,192,192,0.4)\", \"rgba(192,192,192,0.4)\", \"rgba(0,0,160,0.4)\", \"rgba(44, 160, 44,0.4)\", \"rgba(192,192,192,0.4)\", \"rgba(0,0,160,0.4)\", \"rgba(192,192,192,0.4)\", \"rgba(0,0,160,0.4)\", \"rgba(192,192,192,0.4)\", \"rgba(0,0,160,0.4)\", \"rgba(192,192,192,0.4)\", \"rgba(44, 160, 44,0.4)\", \"rgba(44, 160, 44,0.4)\", \"rgba(44, 160, 44,0.4)\", \"rgba(44, 160, 44,0.4)\", \"rgba(44, 160, 44,0.4)\", \"rgba(192,192,192,0.4)\", \"rgba(192,192,192,0.4)\", \"rgba(0,0,160,0.4)\", \"rgba(44, 160, 44,0.4)\", \"rgba(44, 160, 44,0.4)\", \"rgba(192,192,192,0.4)\", \"rgba(0,0,160,0.4)\", \"rgba(192,192,192,0.4)\", \"rgba(0,0,160,0.4)\", \"rgba(192,192,192,0.4)\", \"rgba(0,0,160,0.4)\", \"rgba(192,192,192,0.4)\", \"rgba(44, 160, 44,0.4)\", \"rgba(44, 160, 44,0.4)\", \"rgba(44, 160, 44,0.4)\", \"rgba(44, 160, 44,0.4)\", \"rgba(192,192,192,0.4)\", \"rgba(0,0,160,0.4)\", \"rgba(44, 160, 44,0.4)\", \"rgba(192,192,192,0.4)\", \"rgba(0,0,160,0.4)\", \"rgba(192,192,192,0.4)\", \"rgba(0,0,160,0.4)\", \"rgba(192,192,192,0.4)\", \"rgba(44, 160, 44,0.4)\", \"rgba(0,0,160,0.4)\", \"rgba(192,192,192,0.4)\", \"rgba(44, 160, 44,0.4)\", \"rgba(44, 160, 44,0.4)\", \"rgba(44, 160, 44,0.4)\", \"rgba(44, 160, 44,0.4)\", \"rgba(44, 160, 44,0.4)\", \"rgba(192,192,192,0.4)\", \"rgba(0,0,160,0.4)\", \"rgba(192,192,192,0.4)\", \"rgba(0,0,160,0.4)\", \"rgba(44, 160, 44,0.4)\", \"rgba(44, 160, 44,0.4)\", \"rgba(192,192,192,0.4)\", \"rgba(0,0,160,0.4)\", \"rgba(192,192,192,0.4)\", \"rgba(0,0,160,0.4)\", \"rgba(192,192,192,0.4)\", \"rgba(44, 160, 44,0.4)\", \"rgba(0,0,160,0.4)\", \"rgba(192,192,192,0.4)\", \"rgba(44, 160, 44,0.4)\", \"rgba(44, 160, 44,0.4)\", \"rgba(44, 160, 44,0.4)\", \"rgba(44, 160, 44,0.4)\", \"rgba(44, 160, 44,0.4)\", \"rgba(192,192,192,0.4)\", \"rgba(0,0,160,0.4)\", \"rgba(192,192,192,0.4)\", \"rgba(0,0,160,0.4)\", \"rgba(44, 160, 44,0.4)\", \"rgba(44, 160, 44,0.4)\", \"rgba(192,192,192,0.4)\", \"rgba(0,0,160,0.4)\", \"rgba(192,192,192,0.4)\", \"rgba(0,0,160,0.4)\", \"rgba(192,192,192,0.4)\", \"rgba(44, 160, 44,0.4)\", \"rgba(0,0,160,0.4)\", \"rgba(192,192,192,0.4)\", \"rgba(44, 160, 44,0.4)\", \"rgba(44, 160, 44,0.4)\", \"rgba(44, 160, 44,0.4)\", \"rgba(44, 160, 44,0.4)\", \"rgba(192,192,192,0.4)\", \"rgba(0,0,160,0.4)\", \"rgba(0,0,160,0.4)\", \"rgba(44, 160, 44,0.4)\", \"rgba(44, 160, 44,0.4)\", \"rgba(192,192,192,0.4)\", \"rgba(44, 160, 44,0.4)\", \"rgba(0,0,160,0.4)\", \"rgba(192,192,192,0.4)\", \"rgba(0,0,160,0.4)\", \"rgba(192,192,192,0.4)\", \"rgba(44, 160, 44,0.4)\", \"rgba(0,0,160,0.4)\", \"rgba(192,192,192,0.4)\", \"rgba(44, 160, 44,0.4)\", \"rgba(44, 160, 44,0.4)\", \"rgba(44, 160, 44,0.4)\", \"rgba(44, 160, 44,0.4)\", \"rgba(44, 160, 44,0.4)\", \"rgba(192,192,192,0.4)\", \"rgba(0,0,160,0.4)\", \"rgba(192,192,192,0.4)\", \"rgba(0,0,160,0.4)\", \"rgba(44, 160, 44,0.4)\", \"rgba(192,192,192,0.4)\", \"rgba(44, 160, 44,0.4)\", \"rgba(0,0,160,0.4)\", \"rgba(192,192,192,0.4)\", \"rgba(0,0,160,0.4)\", \"rgba(192,192,192,0.4)\", \"rgba(44, 160, 44,0.4)\", \"rgba(0,0,160,0.4)\", \"rgba(192,192,192,0.4)\", \"rgba(44, 160, 44,0.4)\", \"rgba(44, 160, 44,0.4)\", \"rgba(44, 160, 44,0.4)\", \"rgba(44, 160, 44,0.4)\", \"rgba(44, 160, 44,0.4)\", \"rgba(192,192,192,0.4)\"], \"hovertemplate\": \"10^%{value} users switched subreddits<extra></extra>\", \"source\": [1, 1, 6, 6, 6, 6, 6, 8, 8, 8, 9, 10, 12, 12, 13, 13, 13, 13, 15, 15, 15, 15, 18, 18, 19, 19, 20, 20, 20, 20, 20, 20, 22, 22, 24, 24, 25, 25, 25, 26, 26, 27, 27, 27, 27, 27, 27, 28, 29, 29, 29, 31, 31, 32, 32, 33, 33, 34, 34, 34, 34, 34, 34, 35, 36, 36, 36, 36, 38, 38, 39, 39, 40, 40, 41, 41, 41, 41, 41, 43, 43, 43, 45, 45, 46, 46, 47, 47, 47, 48, 48, 48, 48, 48, 48, 49, 49, 50, 50, 50, 50, 52, 52, 53, 53, 54, 54, 54, 55, 55, 55, 55, 55, 55, 56, 56, 57, 57, 57, 57, 59, 59, 60, 60, 61, 61, 61, 62, 62, 62, 62, 62, 63, 64, 64, 64, 64, 66, 66, 66, 67, 67, 68, 68, 68, 69, 69, 69, 69, 69, 69, 70, 70, 71, 71, 71, 73, 73, 73, 74, 74, 75, 75, 75, 76, 76, 76, 76, 76, 76], \"target\": [8, 13, 8, 9, 10, 12, 13, 15, 19, 20, 20, 20, 19, 20, 15, 18, 19, 20, 22, 25, 26, 27, 25, 27, 26, 27, 21, 22, 24, 25, 26, 27, 29, 34, 31, 34, 29, 32, 34, 33, 34, 28, 29, 31, 32, 33, 34, 41, 36, 40, 41, 38, 41, 39, 41, 40, 41, 35, 36, 38, 39, 40, 41, 48, 43, 45, 47, 48, 45, 48, 46, 48, 47, 48, 43, 45, 46, 47, 48, 50, 54, 55, 52, 55, 53, 55, 50, 54, 55, 49, 50, 52, 53, 54, 55, 56, 62, 57, 59, 61, 62, 59, 62, 60, 62, 57, 61, 62, 56, 57, 59, 60, 61, 62, 63, 69, 64, 66, 68, 69, 66, 69, 67, 69, 64, 68, 69, 64, 66, 67, 68, 69, 70, 71, 73, 75, 76, 71, 73, 76, 74, 76, 71, 75, 76, 70, 71, 73, 74, 75, 76, 77, 83, 78, 82, 83, 78, 80, 83, 81, 83, 78, 82, 83, 77, 78, 80, 81, 82, 83], \"value\": [3.3211840273023143, 3.5289167002776547, 3.975431808509263, 1.8573324964312685, 1.919078092376074, 2.714329759745233, 5.107386365953068, 3.578524605274993, 2.0043213737826426, 3.881897973573011, 1.8808135922807914, 1.9084850188786497, 2.505149978319906, 2.330413773349191, 3.8730879855902858, 3.212453961040276, 3.5289167002776547, 5.075419208933336, 3.5613399414589013, 2.1789769472931693, 1.919078092376074, 3.8673496171887924, 3.0232524596337114, 2.7730546933642626, 3.1795517911651876, 3.3404441148401185, 2.05307844348342, 3.7706311277778064, 2.432969290874406, 3.473924693416157, 3.330007700872759, 5.06279625850655, 3.4516329474569907, 3.822625678774141, 2.1271047983648077, 2.250420002308894, 1.9395192526186185, 3.150756439860309, 3.423737249982329, 3.1931245983544616, 3.3271545124094315, 2.0681858617461617, 3.6225248624035684, 2.6655809910179533, 2.9849771264154934, 3.143014800254095, 5.074256761517392, 2.0569048513364727, 3.4202858849419178, 1.8573324964312685, 3.6399842480415887, 2.437750562820388, 2.561101383649056, 3.0492180226701815, 3.080987046910887, 3.239549720840473, 3.0813473078041325, 2.123851640967086, 4.1573358620972805, 2.916453948549925, 3.162564406523019, 3.541454428747589, 5.041649237923496, 2.12057393120585, 3.550228353055094, 1.8750612633917, 2.3502480183341627, 4.122412495411281, 2.625312450961674, 2.837588438235511, 3.09377178149873, 3.1082266563749283, 3.443262987458695, 3.387567779417189, 3.867820908045573, 2.8135809885681917, 3.1290450598879582, 3.682145076373832, 5.013115421368239, 3.6060587494103142, 2.3483048630481607, 3.8275631112547237, 2.661812685537261, 2.7937903846908188, 3.0718820073061255, 3.1451964061141817, 2.2576785748691846, 3.5918434112247843, 3.571941635074462, 2.1818435879447726, 4.154971441544471, 2.863322860120456, 2.9925535178321354, 3.944778681123507, 4.981777847694567, 2.0, 2.0791812460476247, 3.6842167951388807, 1.8692317197309762, 2.514547752660286, 4.1258714674176815, 2.7551122663950713, 2.8048206787211623, 2.997386384397313, 3.0523090996473234, 2.4471580313422194, 3.7812525942484565, 3.821906377352323, 2.075546961392531, 4.008302024212002, 3.00774777800074, 2.9222062774390163, 3.8687032022785366, 4.948691646453361, 1.9542425094393248, 2.1335389083702174, 3.6503075231319366, 2.05307844348342, 2.436162647040756, 4.021602716028243, 2.8785217955012063, 2.9355072658247128, 3.0, 2.9084850188786495, 2.369215857410143, 3.821513528404773, 3.837588438235511, 3.976212377117377, 3.0362295440862948, 3.020775488193558, 3.8455940931600243, 4.964066253016779, 1.9084850188786497, 3.6482624057480444, 1.9777236052888478, 2.3138672203691533, 3.976533380391938, 1.8808135922807914, 2.907411360774586, 3.0253058652647704, 3.0996806411092503, 2.906335041805091, 2.285557309007774, 3.814580516010319, 3.854427505787861, 2.037426497940624, 3.870988813760575, 2.9489017609702137, 3.1571544399062814, 3.805160901599434, 4.977783030994179, 2.012837224705172, 1.8976270912904414, 3.6775157047987577, 2.3710678622717363, 3.8497264441963277, 2.0681858617461617, 2.7810369386211318, 3.0187004986662433, 3.1705550585212086, 3.0806264869218056, 2.3242824552976926, 3.85394144588049, 3.7598188773748262, 2.2810333672477277, 4.1181323999209045, 2.790988475088816, 3.180412632838324, 3.969462507974637, 4.948359164706384]}, \"node\": {\"color\": [\"#4C78A8\", \"#F58518\", \"#E45756\", \"#72B7B2\", \"#54A24B\", \"#EECA3B\", \"#B279A2\", \"#4C78A8\", \"#F58518\", \"#E45756\", \"#72B7B2\", \"#54A24B\", \"#EECA3B\", \"#B279A2\", \"#4C78A8\", \"#F58518\", \"#E45756\", \"#72B7B2\", \"#54A24B\", \"#EECA3B\", \"#B279A2\", \"#4C78A8\", \"#F58518\", \"#E45756\", \"#72B7B2\", \"#54A24B\", \"#EECA3B\", \"#B279A2\", \"#4C78A8\", \"#F58518\", \"#E45756\", \"#72B7B2\", \"#54A24B\", \"#EECA3B\", \"#B279A2\", \"#4C78A8\", \"#F58518\", \"#E45756\", \"#72B7B2\", \"#54A24B\", \"#EECA3B\", \"#B279A2\", \"#4C78A8\", \"#F58518\", \"#E45756\", \"#72B7B2\", \"#54A24B\", \"#EECA3B\", \"#B279A2\", \"#4C78A8\", \"#F58518\", \"#E45756\", \"#72B7B2\", \"#54A24B\", \"#EECA3B\", \"#B279A2\", \"#4C78A8\", \"#F58518\", \"#E45756\", \"#72B7B2\", \"#54A24B\", \"#EECA3B\", \"#B279A2\", \"#4C78A8\", \"#F58518\", \"#E45756\", \"#72B7B2\", \"#54A24B\", \"#EECA3B\", \"#B279A2\", \"#4C78A8\", \"#F58518\", \"#E45756\", \"#72B7B2\", \"#54A24B\", \"#EECA3B\", \"#B279A2\", \"#4C78A8\", \"#F58518\", \"#E45756\", \"#72B7B2\", \"#54A24B\", \"#EECA3B\", \"#B279A2\"], \"hovertemplate\": \"10^%{value} users predominantly commented on %{label}<extra></extra>\", \"label\": [\"1: JoeBiden\", \"1: SandersForPresident\", \"1: BaemyKlobaechar\", \"1: ElizabethWarren\", \"1: Pete_Buttigieg\", \"1: YangForPresidentHQ\", \"1: No_Comment\", \"2: JoeBiden\", \"2: SandersForPresident\", \"2: BaemyKlobaechar\", \"2: ElizabethWarren\", \"2: Pete_Buttigieg\", \"2: YangForPresidentHQ\", \"2: No_Comment\", \"3: JoeBiden\", \"3: SandersForPresident\", \"3: BaemyKlobaechar\", \"3: ElizabethWarren\", \"3: Pete_Buttigieg\", \"3: YangForPresidentHQ\", \"3: No_Comment\", \"4: JoeBiden\", \"4: SandersForPresident\", \"4: BaemyKlobaechar\", \"4: ElizabethWarren\", \"4: Pete_Buttigieg\", \"4: YangForPresidentHQ\", \"4: No_Comment\", \"5: JoeBiden\", \"5: SandersForPresident\", \"5: BaemyKlobaechar\", \"5: ElizabethWarren\", \"5: Pete_Buttigieg\", \"5: YangForPresidentHQ\", \"5: No_Comment\", \"6: JoeBiden\", \"6: SandersForPresident\", \"6: BaemyKlobaechar\", \"6: ElizabethWarren\", \"6: Pete_Buttigieg\", \"6: YangForPresidentHQ\", \"6: No_Comment\", \"7: JoeBiden\", \"7: SandersForPresident\", \"7: BaemyKlobaechar\", \"7: ElizabethWarren\", \"7: Pete_Buttigieg\", \"7: YangForPresidentHQ\", \"7: No_Comment\", \"8: JoeBiden\", \"8: SandersForPresident\", \"8: BaemyKlobaechar\", \"8: ElizabethWarren\", \"8: Pete_Buttigieg\", \"8: YangForPresidentHQ\", \"8: No_Comment\", \"9: JoeBiden\", \"9: SandersForPresident\", \"9: BaemyKlobaechar\", \"9: ElizabethWarren\", \"9: Pete_Buttigieg\", \"9: YangForPresidentHQ\", \"9: No_Comment\", \"10: JoeBiden\", \"10: SandersForPresident\", \"10: BaemyKlobaechar\", \"10: ElizabethWarren\", \"10: Pete_Buttigieg\", \"10: YangForPresidentHQ\", \"10: No_Comment\", \"11: JoeBiden\", \"11: SandersForPresident\", \"11: BaemyKlobaechar\", \"11: ElizabethWarren\", \"11: Pete_Buttigieg\", \"11: YangForPresidentHQ\", \"11: No_Comment\", \"12: JoeBiden\", \"12: SandersForPresident\", \"12: BaemyKlobaechar\", \"12: ElizabethWarren\", \"12: Pete_Buttigieg\", \"12: YangForPresidentHQ\", \"12: No_Comment\"], \"line\": {\"color\": \"black\", \"width\": 0.5}, \"pad\": 20, \"thickness\": 10}, \"type\": \"sankey\"}],\n",
       "                        {\"annotations\": [{\"showarrow\": false, \"text\": \"2019-01-01\", \"x\": 0.0, \"y\": -0.1}, {\"showarrow\": false, \"text\": \"2019-02-01\", \"x\": 0.09166666666666667, \"y\": -0.1}, {\"showarrow\": false, \"text\": \"2019-03-01\", \"x\": 0.18333333333333335, \"y\": -0.1}, {\"showarrow\": false, \"text\": \"2019-04-01\", \"x\": 0.27499999999999997, \"y\": -0.1}, {\"showarrow\": false, \"text\": \"2019-05-01\", \"x\": 0.3666666666666667, \"y\": -0.1}, {\"showarrow\": false, \"text\": \"2019-06-01\", \"x\": 0.4583333333333333, \"y\": -0.1}, {\"showarrow\": false, \"text\": \"2019-07-01\", \"x\": 0.5499999999999999, \"y\": -0.1}, {\"showarrow\": false, \"text\": \"2019-08-01\", \"x\": 0.6416666666666667, \"y\": -0.1}, {\"showarrow\": false, \"text\": \"2019-09-01\", \"x\": 0.7333333333333334, \"y\": -0.1}, {\"showarrow\": false, \"text\": \"2019-10-01\", \"x\": 0.8250000000000001, \"y\": -0.1}, {\"showarrow\": false, \"text\": \"2019-11-01\", \"x\": 0.9166666666666666, \"y\": -0.1}, {\"showarrow\": false, \"text\": \"2019-12-01\", \"x\": 1.0083333333333333, \"y\": -0.1}, {\"showarrow\": true, \"text\": \"Users who predominantly comment on this subreddit\", \"x\": 0.273, \"y\": 0.755}, {\"showarrow\": true, \"text\": \"Non-active users that month\", \"x\": 0.052, \"y\": 0.53}], \"font\": {\"size\": 15}, \"height\": 600, \"margin\": {\"b\": 100, \"l\": 50, \"r\": 100, \"t\": 40}, \"template\": {\"data\": {\"bar\": [{\"error_x\": {\"color\": \"#2a3f5f\"}, \"error_y\": {\"color\": \"#2a3f5f\"}, \"marker\": {\"line\": {\"color\": \"#E5ECF6\", \"width\": 0.5}}, \"type\": \"bar\"}], \"barpolar\": [{\"marker\": {\"line\": {\"color\": \"#E5ECF6\", \"width\": 0.5}}, \"type\": \"barpolar\"}], \"carpet\": [{\"aaxis\": {\"endlinecolor\": \"#2a3f5f\", \"gridcolor\": \"white\", \"linecolor\": \"white\", \"minorgridcolor\": \"white\", \"startlinecolor\": \"#2a3f5f\"}, \"baxis\": {\"endlinecolor\": \"#2a3f5f\", \"gridcolor\": \"white\", \"linecolor\": \"white\", \"minorgridcolor\": \"white\", \"startlinecolor\": \"#2a3f5f\"}, \"type\": \"carpet\"}], \"choropleth\": [{\"colorbar\": {\"outlinewidth\": 0, \"ticks\": \"\"}, \"type\": \"choropleth\"}], \"contour\": [{\"colorbar\": {\"outlinewidth\": 0, \"ticks\": \"\"}, \"colorscale\": [[0.0, \"#0d0887\"], [0.1111111111111111, \"#46039f\"], [0.2222222222222222, \"#7201a8\"], [0.3333333333333333, \"#9c179e\"], [0.4444444444444444, \"#bd3786\"], [0.5555555555555556, \"#d8576b\"], [0.6666666666666666, \"#ed7953\"], [0.7777777777777778, \"#fb9f3a\"], [0.8888888888888888, \"#fdca26\"], [1.0, \"#f0f921\"]], \"type\": \"contour\"}], \"contourcarpet\": [{\"colorbar\": {\"outlinewidth\": 0, \"ticks\": \"\"}, \"type\": \"contourcarpet\"}], \"heatmap\": [{\"colorbar\": {\"outlinewidth\": 0, \"ticks\": \"\"}, \"colorscale\": [[0.0, \"#0d0887\"], [0.1111111111111111, \"#46039f\"], [0.2222222222222222, \"#7201a8\"], [0.3333333333333333, \"#9c179e\"], [0.4444444444444444, \"#bd3786\"], [0.5555555555555556, \"#d8576b\"], [0.6666666666666666, \"#ed7953\"], [0.7777777777777778, \"#fb9f3a\"], [0.8888888888888888, \"#fdca26\"], [1.0, \"#f0f921\"]], \"type\": \"heatmap\"}], \"heatmapgl\": [{\"colorbar\": {\"outlinewidth\": 0, \"ticks\": \"\"}, \"colorscale\": [[0.0, \"#0d0887\"], [0.1111111111111111, \"#46039f\"], [0.2222222222222222, \"#7201a8\"], [0.3333333333333333, \"#9c179e\"], [0.4444444444444444, \"#bd3786\"], [0.5555555555555556, \"#d8576b\"], [0.6666666666666666, \"#ed7953\"], [0.7777777777777778, \"#fb9f3a\"], [0.8888888888888888, \"#fdca26\"], [1.0, \"#f0f921\"]], \"type\": \"heatmapgl\"}], \"histogram\": [{\"marker\": {\"colorbar\": {\"outlinewidth\": 0, \"ticks\": \"\"}}, \"type\": \"histogram\"}], \"histogram2d\": [{\"colorbar\": {\"outlinewidth\": 0, \"ticks\": \"\"}, \"colorscale\": [[0.0, \"#0d0887\"], [0.1111111111111111, \"#46039f\"], [0.2222222222222222, \"#7201a8\"], [0.3333333333333333, \"#9c179e\"], [0.4444444444444444, \"#bd3786\"], [0.5555555555555556, \"#d8576b\"], [0.6666666666666666, \"#ed7953\"], [0.7777777777777778, \"#fb9f3a\"], [0.8888888888888888, \"#fdca26\"], [1.0, \"#f0f921\"]], \"type\": \"histogram2d\"}], \"histogram2dcontour\": [{\"colorbar\": {\"outlinewidth\": 0, \"ticks\": \"\"}, \"colorscale\": [[0.0, \"#0d0887\"], [0.1111111111111111, \"#46039f\"], [0.2222222222222222, \"#7201a8\"], [0.3333333333333333, \"#9c179e\"], [0.4444444444444444, \"#bd3786\"], [0.5555555555555556, \"#d8576b\"], [0.6666666666666666, \"#ed7953\"], [0.7777777777777778, \"#fb9f3a\"], [0.8888888888888888, \"#fdca26\"], [1.0, \"#f0f921\"]], \"type\": \"histogram2dcontour\"}], \"mesh3d\": [{\"colorbar\": {\"outlinewidth\": 0, \"ticks\": \"\"}, \"type\": \"mesh3d\"}], \"parcoords\": [{\"line\": {\"colorbar\": {\"outlinewidth\": 0, \"ticks\": \"\"}}, \"type\": \"parcoords\"}], \"pie\": [{\"automargin\": true, \"type\": \"pie\"}], \"scatter\": [{\"marker\": {\"colorbar\": {\"outlinewidth\": 0, \"ticks\": \"\"}}, \"type\": \"scatter\"}], \"scatter3d\": [{\"line\": {\"colorbar\": {\"outlinewidth\": 0, \"ticks\": \"\"}}, \"marker\": {\"colorbar\": {\"outlinewidth\": 0, \"ticks\": \"\"}}, \"type\": \"scatter3d\"}], \"scattercarpet\": [{\"marker\": {\"colorbar\": {\"outlinewidth\": 0, \"ticks\": \"\"}}, \"type\": \"scattercarpet\"}], \"scattergeo\": [{\"marker\": {\"colorbar\": {\"outlinewidth\": 0, \"ticks\": \"\"}}, \"type\": \"scattergeo\"}], \"scattergl\": [{\"marker\": {\"colorbar\": {\"outlinewidth\": 0, \"ticks\": \"\"}}, \"type\": \"scattergl\"}], \"scattermapbox\": [{\"marker\": {\"colorbar\": {\"outlinewidth\": 0, \"ticks\": \"\"}}, \"type\": \"scattermapbox\"}], \"scatterpolar\": [{\"marker\": {\"colorbar\": {\"outlinewidth\": 0, \"ticks\": \"\"}}, \"type\": \"scatterpolar\"}], \"scatterpolargl\": [{\"marker\": {\"colorbar\": {\"outlinewidth\": 0, \"ticks\": \"\"}}, \"type\": \"scatterpolargl\"}], \"scatterternary\": [{\"marker\": {\"colorbar\": {\"outlinewidth\": 0, \"ticks\": \"\"}}, \"type\": \"scatterternary\"}], \"surface\": [{\"colorbar\": {\"outlinewidth\": 0, \"ticks\": \"\"}, \"colorscale\": [[0.0, \"#0d0887\"], [0.1111111111111111, \"#46039f\"], [0.2222222222222222, \"#7201a8\"], [0.3333333333333333, \"#9c179e\"], [0.4444444444444444, \"#bd3786\"], [0.5555555555555556, \"#d8576b\"], [0.6666666666666666, \"#ed7953\"], [0.7777777777777778, \"#fb9f3a\"], [0.8888888888888888, \"#fdca26\"], [1.0, \"#f0f921\"]], \"type\": \"surface\"}], \"table\": [{\"cells\": {\"fill\": {\"color\": \"#EBF0F8\"}, \"line\": {\"color\": \"white\"}}, \"header\": {\"fill\": {\"color\": \"#C8D4E3\"}, \"line\": {\"color\": \"white\"}}, \"type\": \"table\"}]}, \"layout\": {\"annotationdefaults\": {\"arrowcolor\": \"#2a3f5f\", \"arrowhead\": 0, \"arrowwidth\": 1}, \"coloraxis\": {\"colorbar\": {\"outlinewidth\": 0, \"ticks\": \"\"}}, \"colorscale\": {\"diverging\": [[0, \"#8e0152\"], [0.1, \"#c51b7d\"], [0.2, \"#de77ae\"], [0.3, \"#f1b6da\"], [0.4, \"#fde0ef\"], [0.5, \"#f7f7f7\"], [0.6, \"#e6f5d0\"], [0.7, \"#b8e186\"], [0.8, \"#7fbc41\"], [0.9, \"#4d9221\"], [1, \"#276419\"]], \"sequential\": [[0.0, \"#0d0887\"], [0.1111111111111111, \"#46039f\"], [0.2222222222222222, \"#7201a8\"], [0.3333333333333333, \"#9c179e\"], [0.4444444444444444, \"#bd3786\"], [0.5555555555555556, \"#d8576b\"], [0.6666666666666666, \"#ed7953\"], [0.7777777777777778, \"#fb9f3a\"], [0.8888888888888888, \"#fdca26\"], [1.0, \"#f0f921\"]], \"sequentialminus\": [[0.0, \"#0d0887\"], [0.1111111111111111, \"#46039f\"], [0.2222222222222222, \"#7201a8\"], [0.3333333333333333, \"#9c179e\"], [0.4444444444444444, \"#bd3786\"], [0.5555555555555556, \"#d8576b\"], [0.6666666666666666, \"#ed7953\"], [0.7777777777777778, \"#fb9f3a\"], [0.8888888888888888, \"#fdca26\"], [1.0, \"#f0f921\"]]}, \"colorway\": [\"#636efa\", \"#EF553B\", \"#00cc96\", \"#ab63fa\", \"#FFA15A\", \"#19d3f3\", \"#FF6692\", \"#B6E880\", \"#FF97FF\", \"#FECB52\"], \"font\": {\"color\": \"#2a3f5f\"}, \"geo\": {\"bgcolor\": \"white\", \"lakecolor\": \"white\", \"landcolor\": \"#E5ECF6\", \"showlakes\": true, \"showland\": true, \"subunitcolor\": \"white\"}, \"hoverlabel\": {\"align\": \"left\"}, \"hovermode\": \"closest\", \"mapbox\": {\"style\": \"light\"}, \"paper_bgcolor\": \"white\", \"plot_bgcolor\": \"#E5ECF6\", \"polar\": {\"angularaxis\": {\"gridcolor\": \"white\", \"linecolor\": \"white\", \"ticks\": \"\"}, \"bgcolor\": \"#E5ECF6\", \"radialaxis\": {\"gridcolor\": \"white\", \"linecolor\": \"white\", \"ticks\": \"\"}}, \"scene\": {\"xaxis\": {\"backgroundcolor\": \"#E5ECF6\", \"gridcolor\": \"white\", \"gridwidth\": 2, \"linecolor\": \"white\", \"showbackground\": true, \"ticks\": \"\", \"zerolinecolor\": \"white\"}, \"yaxis\": {\"backgroundcolor\": \"#E5ECF6\", \"gridcolor\": \"white\", \"gridwidth\": 2, \"linecolor\": \"white\", \"showbackground\": true, \"ticks\": \"\", \"zerolinecolor\": \"white\"}, \"zaxis\": {\"backgroundcolor\": \"#E5ECF6\", \"gridcolor\": \"white\", \"gridwidth\": 2, \"linecolor\": \"white\", \"showbackground\": true, \"ticks\": \"\", \"zerolinecolor\": \"white\"}}, \"shapedefaults\": {\"line\": {\"color\": \"#2a3f5f\"}}, \"ternary\": {\"aaxis\": {\"gridcolor\": \"white\", \"linecolor\": \"white\", \"ticks\": \"\"}, \"baxis\": {\"gridcolor\": \"white\", \"linecolor\": \"white\", \"ticks\": \"\"}, \"bgcolor\": \"#E5ECF6\", \"caxis\": {\"gridcolor\": \"white\", \"linecolor\": \"white\", \"ticks\": \"\"}}, \"title\": {\"x\": 0.05}, \"xaxis\": {\"automargin\": true, \"gridcolor\": \"white\", \"linecolor\": \"white\", \"ticks\": \"\", \"title\": {\"standoff\": 15}, \"zerolinecolor\": \"white\", \"zerolinewidth\": 2}, \"yaxis\": {\"automargin\": true, \"gridcolor\": \"white\", \"linecolor\": \"white\", \"ticks\": \"\", \"title\": {\"standoff\": 15}, \"zerolinecolor\": \"white\", \"zerolinewidth\": 2}}}, \"title\": {\"text\": \"User Flow on Political Subreddits\"}, \"width\": 3000},\n",
       "                        {\"responsive\": true}\n",
       "                    ).then(function(){\n",
       "                            \n",
       "var gd = document.getElementById('71e0a425-be17-4a44-98bc-cfd38d5a6728');\n",
       "var x = new MutationObserver(function (mutations, observer) {{\n",
       "        var display = window.getComputedStyle(gd).display;\n",
       "        if (!display || display === 'none') {{\n",
       "            console.log([gd, 'removed!']);\n",
       "            Plotly.purge(gd);\n",
       "            observer.disconnect();\n",
       "        }}\n",
       "}});\n",
       "\n",
       "// Listen for the removal of the full notebook cells\n",
       "var notebookContainer = gd.closest('#notebook-container');\n",
       "if (notebookContainer) {{\n",
       "    x.observe(notebookContainer, {childList: true});\n",
       "}}\n",
       "\n",
       "// Listen for the clearing of the current output cell\n",
       "var outputEl = gd.closest('.output');\n",
       "if (outputEl) {{\n",
       "    x.observe(outputEl, {childList: true});\n",
       "}}\n",
       "\n",
       "                        })\n",
       "                };\n",
       "                });\n",
       "            </script>\n",
       "        </div>"
      ]
     },
     "metadata": {},
     "output_type": "display_data"
    }
   ],
   "source": [
    "data = [go.Sankey(\n",
    "            node = dict(\n",
    "              pad = 20,\n",
    "              thickness = 10,\n",
    "              line = dict(color = \"black\", width = 0.5),\n",
    "              label = label_list,\n",
    "              color = color_list,\n",
    "              hovertemplate='10^%{value} users predominantly commented on %{label}<extra></extra>',  \n",
    "            ),\n",
    "            link = dict(\n",
    "                source = source_target_df['sourceID'],\n",
    "                target = source_target_df['targetID'],\n",
    "                value = source_target_df['count'],\n",
    "                hovertemplate='10^%{value} users switched subreddits<extra></extra>',\n",
    "                color =  source_target_df['color']\n",
    "            )\n",
    "        )]\n",
    "\n",
    "dates = [str(date)[:10] for date in uc_pivot[\"date\"].unique()]\n",
    "percs = [(i+i*0.1)/len(dates)for i in range(len(dates))]\n",
    "annotations = [dict(x=perc,y=-0.1,text=str(date)[:10],showarrow=False) for perc,date in zip(percs,dates)]\n",
    "annotations.append(dict(x=0.273,y=0.755,text=\"Users who predominantly comment on this subreddit\",showarrow=True))\n",
    "annotations.append(dict(x=0.052,y=0.53,text=\"Non-active users that month\",showarrow=True))\n",
    "# annotations.append(dict(x=0.05,y=0.23,text=\"Users switch main subreddit\",showarrow=True))\n",
    "\n",
    "\n",
    "layout = dict(\n",
    "        height=600,\n",
    "        width=3000,\n",
    "        margin=dict(t=40, l=50, r=100, b=100),\n",
    "        title=\"User Flow on Political Subreddits\",\n",
    "        font=dict(size=15),\n",
    "        annotations=annotations\n",
    "    )\n",
    "\n",
    "fig = go.Figure(data=data,layout=layout)\n",
    "fig.write_html(\"visualizations/temporal/{}_subreddit_flow.html\".format(TIME_FRAME))\n",
    "fig.show()"
   ]
  },
  {
   "cell_type": "markdown",
   "metadata": {},
   "source": [
    "## Static Vector Similarity"
   ]
  },
  {
   "cell_type": "code",
   "execution_count": 20,
   "metadata": {
    "scrolled": true
   },
   "outputs": [],
   "source": [
    "subreddits, vectors  = load_embedding(\"/h/224/cameron/Political-Subreddit-Embedding/trained_embeddings/vecs_0.0028_15.0.txt\")\n",
    "filt = subreddits.isin(left_candidates) | subreddits.isin(right_candidates)\n",
    "subreddits, vectors = subreddits[filt], vectors[filt]"
   ]
  },
  {
   "cell_type": "code",
   "execution_count": 21,
   "metadata": {
    "scrolled": true
   },
   "outputs": [
    {
     "data": {
      "application/vnd.plotly.v1+json": {
       "config": {
        "plotlyServerURL": "https://plot.ly"
       },
       "data": [
        {
         "hoverinfo": "name+r",
         "hovertemplate": "Similarity %{r:0.2f}",
         "line": {
          "shape": "spline",
          "smoothing": 0.75,
          "width": 2
         },
         "name": "JoeBiden",
         "opacity": 0.25,
         "r": [
          0.42917835738926446,
          0.6576319875138459,
          0.5100886610682707,
          0.7506047994679382,
          0.778648175043863,
          1.0000000000000002,
          0.7217691245346239,
          0.42917835738926446
         ],
         "theta": [
          "The_Donald",
          "YangForPresidentHQ",
          "SandersForPresident",
          "Pete_Buttigieg",
          "ElizabethWarren",
          "JoeBiden",
          "BaemyKlobaechar",
          "The_Donald"
         ],
         "type": "scatterpolar"
        },
        {
         "hoverinfo": "name+r",
         "hovertemplate": "Similarity %{r:0.2f}",
         "line": {
          "shape": "spline",
          "smoothing": 0.75,
          "width": 2
         },
         "name": "SandersForPresident",
         "opacity": 0.25,
         "r": [
          0.26984645086861125,
          0.5727446500761637,
          1,
          0.46982668485142337,
          0.5638104508137487,
          0.5100886610682707,
          0.3916928443386365,
          0.26984645086861125
         ],
         "theta": [
          "The_Donald",
          "YangForPresidentHQ",
          "SandersForPresident",
          "Pete_Buttigieg",
          "ElizabethWarren",
          "JoeBiden",
          "BaemyKlobaechar",
          "The_Donald"
         ],
         "type": "scatterpolar"
        },
        {
         "hoverinfo": "name+r",
         "hovertemplate": "Similarity %{r:0.2f}",
         "line": {
          "shape": "spline",
          "smoothing": 0.75,
          "width": 2
         },
         "name": "BaemyKlobaechar",
         "opacity": 0.25,
         "r": [
          0.30875061680475185,
          0.5513535526055937,
          0.3916928443386365,
          0.6925525589537328,
          0.6741130250753222,
          0.7217691245346239,
          0.9999999999999998,
          0.30875061680475185
         ],
         "theta": [
          "The_Donald",
          "YangForPresidentHQ",
          "SandersForPresident",
          "Pete_Buttigieg",
          "ElizabethWarren",
          "JoeBiden",
          "BaemyKlobaechar",
          "The_Donald"
         ],
         "type": "scatterpolar"
        },
        {
         "hoverinfo": "name+r",
         "hovertemplate": "Similarity %{r:0.2f}",
         "line": {
          "shape": "spline",
          "smoothing": 0.75,
          "width": 2
         },
         "name": "ElizabethWarren",
         "opacity": 0.25,
         "r": [
          0.23260737105696058,
          0.6533772090247283,
          0.5638104508137487,
          0.7683411614685013,
          1.0000000000000002,
          0.778648175043863,
          0.6741130250753222,
          0.23260737105696058
         ],
         "theta": [
          "The_Donald",
          "YangForPresidentHQ",
          "SandersForPresident",
          "Pete_Buttigieg",
          "ElizabethWarren",
          "JoeBiden",
          "BaemyKlobaechar",
          "The_Donald"
         ],
         "type": "scatterpolar"
        },
        {
         "hoverinfo": "name+r",
         "hovertemplate": "Similarity %{r:0.2f}",
         "line": {
          "shape": "spline",
          "smoothing": 0.75,
          "width": 2
         },
         "name": "Pete_Buttigieg",
         "opacity": 0.25,
         "r": [
          0.2486686137794186,
          0.6002680551769495,
          0.46982668485142337,
          1,
          0.7683411614685013,
          0.7506047994679382,
          0.6925525589537328,
          0.2486686137794186
         ],
         "theta": [
          "The_Donald",
          "YangForPresidentHQ",
          "SandersForPresident",
          "Pete_Buttigieg",
          "ElizabethWarren",
          "JoeBiden",
          "BaemyKlobaechar",
          "The_Donald"
         ],
         "type": "scatterpolar"
        },
        {
         "hoverinfo": "name+r",
         "hovertemplate": "Similarity %{r:0.2f}",
         "line": {
          "shape": "spline",
          "smoothing": 0.75,
          "width": 2
         },
         "name": "YangForPresidentHQ",
         "opacity": 0.25,
         "r": [
          0.3265865117199585,
          1.0000000000000002,
          0.5727446500761637,
          0.6002680551769495,
          0.6533772090247283,
          0.6576319875138459,
          0.5513535526055937,
          0.3265865117199585
         ],
         "theta": [
          "The_Donald",
          "YangForPresidentHQ",
          "SandersForPresident",
          "Pete_Buttigieg",
          "ElizabethWarren",
          "JoeBiden",
          "BaemyKlobaechar",
          "The_Donald"
         ],
         "type": "scatterpolar"
        },
        {
         "hoverinfo": "name+r",
         "hovertemplate": "Similarity %{r:0.2f}",
         "line": {
          "shape": "spline",
          "smoothing": 0.75,
          "width": 2
         },
         "name": "The_Donald",
         "opacity": 0.25,
         "r": [
          1.0000000000000004,
          0.3265865117199585,
          0.26984645086861125,
          0.2486686137794186,
          0.23260737105696058,
          0.42917835738926446,
          0.30875061680475185,
          1.0000000000000004
         ],
         "theta": [
          "The_Donald",
          "YangForPresidentHQ",
          "SandersForPresident",
          "Pete_Buttigieg",
          "ElizabethWarren",
          "JoeBiden",
          "BaemyKlobaechar",
          "The_Donald"
         ],
         "type": "scatterpolar"
        }
       ],
       "layout": {
        "polar": {
         "angularaxis": {
          "color": "grey",
          "showline": false
         },
         "bgcolor": "white",
         "radialaxis": {
          "gridcolor": "#F2F2F2",
          "layer": "below traces",
          "range": [
           0,
           1.1
          ],
          "showline": false,
          "showticklabels": true,
          "tickfont": {
           "color": "darkgrey"
          },
          "tickmode": "array",
          "ticktext": [
           "Different",
           "",
           "",
           "",
           "Similar"
          ],
          "tickvals": [
           0,
           0.25,
           0.5,
           0.75,
           0.92
          ],
          "visible": true
         }
        },
        "template": {
         "data": {
          "bar": [
           {
            "error_x": {
             "color": "#2a3f5f"
            },
            "error_y": {
             "color": "#2a3f5f"
            },
            "marker": {
             "line": {
              "color": "#E5ECF6",
              "width": 0.5
             }
            },
            "type": "bar"
           }
          ],
          "barpolar": [
           {
            "marker": {
             "line": {
              "color": "#E5ECF6",
              "width": 0.5
             }
            },
            "type": "barpolar"
           }
          ],
          "carpet": [
           {
            "aaxis": {
             "endlinecolor": "#2a3f5f",
             "gridcolor": "white",
             "linecolor": "white",
             "minorgridcolor": "white",
             "startlinecolor": "#2a3f5f"
            },
            "baxis": {
             "endlinecolor": "#2a3f5f",
             "gridcolor": "white",
             "linecolor": "white",
             "minorgridcolor": "white",
             "startlinecolor": "#2a3f5f"
            },
            "type": "carpet"
           }
          ],
          "choropleth": [
           {
            "colorbar": {
             "outlinewidth": 0,
             "ticks": ""
            },
            "type": "choropleth"
           }
          ],
          "contour": [
           {
            "colorbar": {
             "outlinewidth": 0,
             "ticks": ""
            },
            "colorscale": [
             [
              0,
              "#0d0887"
             ],
             [
              0.1111111111111111,
              "#46039f"
             ],
             [
              0.2222222222222222,
              "#7201a8"
             ],
             [
              0.3333333333333333,
              "#9c179e"
             ],
             [
              0.4444444444444444,
              "#bd3786"
             ],
             [
              0.5555555555555556,
              "#d8576b"
             ],
             [
              0.6666666666666666,
              "#ed7953"
             ],
             [
              0.7777777777777778,
              "#fb9f3a"
             ],
             [
              0.8888888888888888,
              "#fdca26"
             ],
             [
              1,
              "#f0f921"
             ]
            ],
            "type": "contour"
           }
          ],
          "contourcarpet": [
           {
            "colorbar": {
             "outlinewidth": 0,
             "ticks": ""
            },
            "type": "contourcarpet"
           }
          ],
          "heatmap": [
           {
            "colorbar": {
             "outlinewidth": 0,
             "ticks": ""
            },
            "colorscale": [
             [
              0,
              "#0d0887"
             ],
             [
              0.1111111111111111,
              "#46039f"
             ],
             [
              0.2222222222222222,
              "#7201a8"
             ],
             [
              0.3333333333333333,
              "#9c179e"
             ],
             [
              0.4444444444444444,
              "#bd3786"
             ],
             [
              0.5555555555555556,
              "#d8576b"
             ],
             [
              0.6666666666666666,
              "#ed7953"
             ],
             [
              0.7777777777777778,
              "#fb9f3a"
             ],
             [
              0.8888888888888888,
              "#fdca26"
             ],
             [
              1,
              "#f0f921"
             ]
            ],
            "type": "heatmap"
           }
          ],
          "heatmapgl": [
           {
            "colorbar": {
             "outlinewidth": 0,
             "ticks": ""
            },
            "colorscale": [
             [
              0,
              "#0d0887"
             ],
             [
              0.1111111111111111,
              "#46039f"
             ],
             [
              0.2222222222222222,
              "#7201a8"
             ],
             [
              0.3333333333333333,
              "#9c179e"
             ],
             [
              0.4444444444444444,
              "#bd3786"
             ],
             [
              0.5555555555555556,
              "#d8576b"
             ],
             [
              0.6666666666666666,
              "#ed7953"
             ],
             [
              0.7777777777777778,
              "#fb9f3a"
             ],
             [
              0.8888888888888888,
              "#fdca26"
             ],
             [
              1,
              "#f0f921"
             ]
            ],
            "type": "heatmapgl"
           }
          ],
          "histogram": [
           {
            "marker": {
             "colorbar": {
              "outlinewidth": 0,
              "ticks": ""
             }
            },
            "type": "histogram"
           }
          ],
          "histogram2d": [
           {
            "colorbar": {
             "outlinewidth": 0,
             "ticks": ""
            },
            "colorscale": [
             [
              0,
              "#0d0887"
             ],
             [
              0.1111111111111111,
              "#46039f"
             ],
             [
              0.2222222222222222,
              "#7201a8"
             ],
             [
              0.3333333333333333,
              "#9c179e"
             ],
             [
              0.4444444444444444,
              "#bd3786"
             ],
             [
              0.5555555555555556,
              "#d8576b"
             ],
             [
              0.6666666666666666,
              "#ed7953"
             ],
             [
              0.7777777777777778,
              "#fb9f3a"
             ],
             [
              0.8888888888888888,
              "#fdca26"
             ],
             [
              1,
              "#f0f921"
             ]
            ],
            "type": "histogram2d"
           }
          ],
          "histogram2dcontour": [
           {
            "colorbar": {
             "outlinewidth": 0,
             "ticks": ""
            },
            "colorscale": [
             [
              0,
              "#0d0887"
             ],
             [
              0.1111111111111111,
              "#46039f"
             ],
             [
              0.2222222222222222,
              "#7201a8"
             ],
             [
              0.3333333333333333,
              "#9c179e"
             ],
             [
              0.4444444444444444,
              "#bd3786"
             ],
             [
              0.5555555555555556,
              "#d8576b"
             ],
             [
              0.6666666666666666,
              "#ed7953"
             ],
             [
              0.7777777777777778,
              "#fb9f3a"
             ],
             [
              0.8888888888888888,
              "#fdca26"
             ],
             [
              1,
              "#f0f921"
             ]
            ],
            "type": "histogram2dcontour"
           }
          ],
          "mesh3d": [
           {
            "colorbar": {
             "outlinewidth": 0,
             "ticks": ""
            },
            "type": "mesh3d"
           }
          ],
          "parcoords": [
           {
            "line": {
             "colorbar": {
              "outlinewidth": 0,
              "ticks": ""
             }
            },
            "type": "parcoords"
           }
          ],
          "pie": [
           {
            "automargin": true,
            "type": "pie"
           }
          ],
          "scatter": [
           {
            "marker": {
             "colorbar": {
              "outlinewidth": 0,
              "ticks": ""
             }
            },
            "type": "scatter"
           }
          ],
          "scatter3d": [
           {
            "line": {
             "colorbar": {
              "outlinewidth": 0,
              "ticks": ""
             }
            },
            "marker": {
             "colorbar": {
              "outlinewidth": 0,
              "ticks": ""
             }
            },
            "type": "scatter3d"
           }
          ],
          "scattercarpet": [
           {
            "marker": {
             "colorbar": {
              "outlinewidth": 0,
              "ticks": ""
             }
            },
            "type": "scattercarpet"
           }
          ],
          "scattergeo": [
           {
            "marker": {
             "colorbar": {
              "outlinewidth": 0,
              "ticks": ""
             }
            },
            "type": "scattergeo"
           }
          ],
          "scattergl": [
           {
            "marker": {
             "colorbar": {
              "outlinewidth": 0,
              "ticks": ""
             }
            },
            "type": "scattergl"
           }
          ],
          "scattermapbox": [
           {
            "marker": {
             "colorbar": {
              "outlinewidth": 0,
              "ticks": ""
             }
            },
            "type": "scattermapbox"
           }
          ],
          "scatterpolar": [
           {
            "marker": {
             "colorbar": {
              "outlinewidth": 0,
              "ticks": ""
             }
            },
            "type": "scatterpolar"
           }
          ],
          "scatterpolargl": [
           {
            "marker": {
             "colorbar": {
              "outlinewidth": 0,
              "ticks": ""
             }
            },
            "type": "scatterpolargl"
           }
          ],
          "scatterternary": [
           {
            "marker": {
             "colorbar": {
              "outlinewidth": 0,
              "ticks": ""
             }
            },
            "type": "scatterternary"
           }
          ],
          "surface": [
           {
            "colorbar": {
             "outlinewidth": 0,
             "ticks": ""
            },
            "colorscale": [
             [
              0,
              "#0d0887"
             ],
             [
              0.1111111111111111,
              "#46039f"
             ],
             [
              0.2222222222222222,
              "#7201a8"
             ],
             [
              0.3333333333333333,
              "#9c179e"
             ],
             [
              0.4444444444444444,
              "#bd3786"
             ],
             [
              0.5555555555555556,
              "#d8576b"
             ],
             [
              0.6666666666666666,
              "#ed7953"
             ],
             [
              0.7777777777777778,
              "#fb9f3a"
             ],
             [
              0.8888888888888888,
              "#fdca26"
             ],
             [
              1,
              "#f0f921"
             ]
            ],
            "type": "surface"
           }
          ],
          "table": [
           {
            "cells": {
             "fill": {
              "color": "#EBF0F8"
             },
             "line": {
              "color": "white"
             }
            },
            "header": {
             "fill": {
              "color": "#C8D4E3"
             },
             "line": {
              "color": "white"
             }
            },
            "type": "table"
           }
          ]
         },
         "layout": {
          "annotationdefaults": {
           "arrowcolor": "#2a3f5f",
           "arrowhead": 0,
           "arrowwidth": 1
          },
          "coloraxis": {
           "colorbar": {
            "outlinewidth": 0,
            "ticks": ""
           }
          },
          "colorscale": {
           "diverging": [
            [
             0,
             "#8e0152"
            ],
            [
             0.1,
             "#c51b7d"
            ],
            [
             0.2,
             "#de77ae"
            ],
            [
             0.3,
             "#f1b6da"
            ],
            [
             0.4,
             "#fde0ef"
            ],
            [
             0.5,
             "#f7f7f7"
            ],
            [
             0.6,
             "#e6f5d0"
            ],
            [
             0.7,
             "#b8e186"
            ],
            [
             0.8,
             "#7fbc41"
            ],
            [
             0.9,
             "#4d9221"
            ],
            [
             1,
             "#276419"
            ]
           ],
           "sequential": [
            [
             0,
             "#0d0887"
            ],
            [
             0.1111111111111111,
             "#46039f"
            ],
            [
             0.2222222222222222,
             "#7201a8"
            ],
            [
             0.3333333333333333,
             "#9c179e"
            ],
            [
             0.4444444444444444,
             "#bd3786"
            ],
            [
             0.5555555555555556,
             "#d8576b"
            ],
            [
             0.6666666666666666,
             "#ed7953"
            ],
            [
             0.7777777777777778,
             "#fb9f3a"
            ],
            [
             0.8888888888888888,
             "#fdca26"
            ],
            [
             1,
             "#f0f921"
            ]
           ],
           "sequentialminus": [
            [
             0,
             "#0d0887"
            ],
            [
             0.1111111111111111,
             "#46039f"
            ],
            [
             0.2222222222222222,
             "#7201a8"
            ],
            [
             0.3333333333333333,
             "#9c179e"
            ],
            [
             0.4444444444444444,
             "#bd3786"
            ],
            [
             0.5555555555555556,
             "#d8576b"
            ],
            [
             0.6666666666666666,
             "#ed7953"
            ],
            [
             0.7777777777777778,
             "#fb9f3a"
            ],
            [
             0.8888888888888888,
             "#fdca26"
            ],
            [
             1,
             "#f0f921"
            ]
           ]
          },
          "colorway": [
           "#636efa",
           "#EF553B",
           "#00cc96",
           "#ab63fa",
           "#FFA15A",
           "#19d3f3",
           "#FF6692",
           "#B6E880",
           "#FF97FF",
           "#FECB52"
          ],
          "font": {
           "color": "#2a3f5f"
          },
          "geo": {
           "bgcolor": "white",
           "lakecolor": "white",
           "landcolor": "#E5ECF6",
           "showlakes": true,
           "showland": true,
           "subunitcolor": "white"
          },
          "hoverlabel": {
           "align": "left"
          },
          "hovermode": "closest",
          "mapbox": {
           "style": "light"
          },
          "paper_bgcolor": "white",
          "plot_bgcolor": "#E5ECF6",
          "polar": {
           "angularaxis": {
            "gridcolor": "white",
            "linecolor": "white",
            "ticks": ""
           },
           "bgcolor": "#E5ECF6",
           "radialaxis": {
            "gridcolor": "white",
            "linecolor": "white",
            "ticks": ""
           }
          },
          "scene": {
           "xaxis": {
            "backgroundcolor": "#E5ECF6",
            "gridcolor": "white",
            "gridwidth": 2,
            "linecolor": "white",
            "showbackground": true,
            "ticks": "",
            "zerolinecolor": "white"
           },
           "yaxis": {
            "backgroundcolor": "#E5ECF6",
            "gridcolor": "white",
            "gridwidth": 2,
            "linecolor": "white",
            "showbackground": true,
            "ticks": "",
            "zerolinecolor": "white"
           },
           "zaxis": {
            "backgroundcolor": "#E5ECF6",
            "gridcolor": "white",
            "gridwidth": 2,
            "linecolor": "white",
            "showbackground": true,
            "ticks": "",
            "zerolinecolor": "white"
           }
          },
          "shapedefaults": {
           "line": {
            "color": "#2a3f5f"
           }
          },
          "ternary": {
           "aaxis": {
            "gridcolor": "white",
            "linecolor": "white",
            "ticks": ""
           },
           "baxis": {
            "gridcolor": "white",
            "linecolor": "white",
            "ticks": ""
           },
           "bgcolor": "#E5ECF6",
           "caxis": {
            "gridcolor": "white",
            "linecolor": "white",
            "ticks": ""
           }
          },
          "title": {
           "x": 0.05
          },
          "xaxis": {
           "automargin": true,
           "gridcolor": "white",
           "linecolor": "white",
           "ticks": "",
           "title": {
            "standoff": 15
           },
           "zerolinecolor": "white",
           "zerolinewidth": 2
          },
          "yaxis": {
           "automargin": true,
           "gridcolor": "white",
           "linecolor": "white",
           "ticks": "",
           "title": {
            "standoff": 15
           },
           "zerolinecolor": "white",
           "zerolinewidth": 2
          }
         }
        },
        "title": {
         "text": "Similarity of Political Subreddits"
        }
       }
      },
      "text/html": [
       "<div>\n",
       "        \n",
       "        \n",
       "            <div id=\"e22213c8-5517-43af-a15b-04f675bcd399\" class=\"plotly-graph-div\" style=\"height:525px; width:100%;\"></div>\n",
       "            <script type=\"text/javascript\">\n",
       "                require([\"plotly\"], function(Plotly) {\n",
       "                    window.PLOTLYENV=window.PLOTLYENV || {};\n",
       "                    \n",
       "                if (document.getElementById(\"e22213c8-5517-43af-a15b-04f675bcd399\")) {\n",
       "                    Plotly.newPlot(\n",
       "                        'e22213c8-5517-43af-a15b-04f675bcd399',\n",
       "                        [{\"hoverinfo\": \"name+r\", \"hovertemplate\": \"Similarity %{r:0.2f}\", \"line\": {\"shape\": \"spline\", \"smoothing\": 0.75, \"width\": 2}, \"name\": \"JoeBiden\", \"opacity\": 0.25, \"r\": [0.42917835738926446, 0.6576319875138459, 0.5100886610682707, 0.7506047994679382, 0.778648175043863, 1.0000000000000002, 0.7217691245346239, 0.42917835738926446], \"theta\": [\"The_Donald\", \"YangForPresidentHQ\", \"SandersForPresident\", \"Pete_Buttigieg\", \"ElizabethWarren\", \"JoeBiden\", \"BaemyKlobaechar\", \"The_Donald\"], \"type\": \"scatterpolar\"}, {\"hoverinfo\": \"name+r\", \"hovertemplate\": \"Similarity %{r:0.2f}\", \"line\": {\"shape\": \"spline\", \"smoothing\": 0.75, \"width\": 2}, \"name\": \"SandersForPresident\", \"opacity\": 0.25, \"r\": [0.26984645086861125, 0.5727446500761637, 1.0, 0.46982668485142337, 0.5638104508137487, 0.5100886610682707, 0.3916928443386365, 0.26984645086861125], \"theta\": [\"The_Donald\", \"YangForPresidentHQ\", \"SandersForPresident\", \"Pete_Buttigieg\", \"ElizabethWarren\", \"JoeBiden\", \"BaemyKlobaechar\", \"The_Donald\"], \"type\": \"scatterpolar\"}, {\"hoverinfo\": \"name+r\", \"hovertemplate\": \"Similarity %{r:0.2f}\", \"line\": {\"shape\": \"spline\", \"smoothing\": 0.75, \"width\": 2}, \"name\": \"BaemyKlobaechar\", \"opacity\": 0.25, \"r\": [0.30875061680475185, 0.5513535526055937, 0.3916928443386365, 0.6925525589537328, 0.6741130250753222, 0.7217691245346239, 0.9999999999999998, 0.30875061680475185], \"theta\": [\"The_Donald\", \"YangForPresidentHQ\", \"SandersForPresident\", \"Pete_Buttigieg\", \"ElizabethWarren\", \"JoeBiden\", \"BaemyKlobaechar\", \"The_Donald\"], \"type\": \"scatterpolar\"}, {\"hoverinfo\": \"name+r\", \"hovertemplate\": \"Similarity %{r:0.2f}\", \"line\": {\"shape\": \"spline\", \"smoothing\": 0.75, \"width\": 2}, \"name\": \"ElizabethWarren\", \"opacity\": 0.25, \"r\": [0.23260737105696058, 0.6533772090247283, 0.5638104508137487, 0.7683411614685013, 1.0000000000000002, 0.778648175043863, 0.6741130250753222, 0.23260737105696058], \"theta\": [\"The_Donald\", \"YangForPresidentHQ\", \"SandersForPresident\", \"Pete_Buttigieg\", \"ElizabethWarren\", \"JoeBiden\", \"BaemyKlobaechar\", \"The_Donald\"], \"type\": \"scatterpolar\"}, {\"hoverinfo\": \"name+r\", \"hovertemplate\": \"Similarity %{r:0.2f}\", \"line\": {\"shape\": \"spline\", \"smoothing\": 0.75, \"width\": 2}, \"name\": \"Pete_Buttigieg\", \"opacity\": 0.25, \"r\": [0.2486686137794186, 0.6002680551769495, 0.46982668485142337, 1.0, 0.7683411614685013, 0.7506047994679382, 0.6925525589537328, 0.2486686137794186], \"theta\": [\"The_Donald\", \"YangForPresidentHQ\", \"SandersForPresident\", \"Pete_Buttigieg\", \"ElizabethWarren\", \"JoeBiden\", \"BaemyKlobaechar\", \"The_Donald\"], \"type\": \"scatterpolar\"}, {\"hoverinfo\": \"name+r\", \"hovertemplate\": \"Similarity %{r:0.2f}\", \"line\": {\"shape\": \"spline\", \"smoothing\": 0.75, \"width\": 2}, \"name\": \"YangForPresidentHQ\", \"opacity\": 0.25, \"r\": [0.3265865117199585, 1.0000000000000002, 0.5727446500761637, 0.6002680551769495, 0.6533772090247283, 0.6576319875138459, 0.5513535526055937, 0.3265865117199585], \"theta\": [\"The_Donald\", \"YangForPresidentHQ\", \"SandersForPresident\", \"Pete_Buttigieg\", \"ElizabethWarren\", \"JoeBiden\", \"BaemyKlobaechar\", \"The_Donald\"], \"type\": \"scatterpolar\"}, {\"hoverinfo\": \"name+r\", \"hovertemplate\": \"Similarity %{r:0.2f}\", \"line\": {\"shape\": \"spline\", \"smoothing\": 0.75, \"width\": 2}, \"name\": \"The_Donald\", \"opacity\": 0.25, \"r\": [1.0000000000000004, 0.3265865117199585, 0.26984645086861125, 0.2486686137794186, 0.23260737105696058, 0.42917835738926446, 0.30875061680475185, 1.0000000000000004], \"theta\": [\"The_Donald\", \"YangForPresidentHQ\", \"SandersForPresident\", \"Pete_Buttigieg\", \"ElizabethWarren\", \"JoeBiden\", \"BaemyKlobaechar\", \"The_Donald\"], \"type\": \"scatterpolar\"}],\n",
       "                        {\"polar\": {\"angularaxis\": {\"color\": \"grey\", \"showline\": false}, \"bgcolor\": \"white\", \"radialaxis\": {\"gridcolor\": \"#F2F2F2\", \"layer\": \"below traces\", \"range\": [0, 1.1], \"showline\": false, \"showticklabels\": true, \"tickfont\": {\"color\": \"darkgrey\"}, \"tickmode\": \"array\", \"ticktext\": [\"Different\", \"\", \"\", \"\", \"Similar\"], \"tickvals\": [0, 0.25, 0.5, 0.75, 0.92], \"visible\": true}}, \"template\": {\"data\": {\"bar\": [{\"error_x\": {\"color\": \"#2a3f5f\"}, \"error_y\": {\"color\": \"#2a3f5f\"}, \"marker\": {\"line\": {\"color\": \"#E5ECF6\", \"width\": 0.5}}, \"type\": \"bar\"}], \"barpolar\": [{\"marker\": {\"line\": {\"color\": \"#E5ECF6\", \"width\": 0.5}}, \"type\": \"barpolar\"}], \"carpet\": [{\"aaxis\": {\"endlinecolor\": \"#2a3f5f\", \"gridcolor\": \"white\", \"linecolor\": \"white\", \"minorgridcolor\": \"white\", \"startlinecolor\": \"#2a3f5f\"}, \"baxis\": {\"endlinecolor\": \"#2a3f5f\", \"gridcolor\": \"white\", \"linecolor\": \"white\", \"minorgridcolor\": \"white\", \"startlinecolor\": \"#2a3f5f\"}, \"type\": \"carpet\"}], \"choropleth\": [{\"colorbar\": {\"outlinewidth\": 0, \"ticks\": \"\"}, \"type\": \"choropleth\"}], \"contour\": [{\"colorbar\": {\"outlinewidth\": 0, \"ticks\": \"\"}, \"colorscale\": [[0.0, \"#0d0887\"], [0.1111111111111111, \"#46039f\"], [0.2222222222222222, \"#7201a8\"], [0.3333333333333333, \"#9c179e\"], [0.4444444444444444, \"#bd3786\"], [0.5555555555555556, \"#d8576b\"], [0.6666666666666666, \"#ed7953\"], [0.7777777777777778, \"#fb9f3a\"], [0.8888888888888888, \"#fdca26\"], [1.0, \"#f0f921\"]], \"type\": \"contour\"}], \"contourcarpet\": [{\"colorbar\": {\"outlinewidth\": 0, \"ticks\": \"\"}, \"type\": \"contourcarpet\"}], \"heatmap\": [{\"colorbar\": {\"outlinewidth\": 0, \"ticks\": \"\"}, \"colorscale\": [[0.0, \"#0d0887\"], [0.1111111111111111, \"#46039f\"], [0.2222222222222222, \"#7201a8\"], [0.3333333333333333, \"#9c179e\"], [0.4444444444444444, \"#bd3786\"], [0.5555555555555556, \"#d8576b\"], [0.6666666666666666, \"#ed7953\"], [0.7777777777777778, \"#fb9f3a\"], [0.8888888888888888, \"#fdca26\"], [1.0, \"#f0f921\"]], \"type\": \"heatmap\"}], \"heatmapgl\": [{\"colorbar\": {\"outlinewidth\": 0, \"ticks\": \"\"}, \"colorscale\": [[0.0, \"#0d0887\"], [0.1111111111111111, \"#46039f\"], [0.2222222222222222, \"#7201a8\"], [0.3333333333333333, \"#9c179e\"], [0.4444444444444444, \"#bd3786\"], [0.5555555555555556, \"#d8576b\"], [0.6666666666666666, \"#ed7953\"], [0.7777777777777778, \"#fb9f3a\"], [0.8888888888888888, \"#fdca26\"], [1.0, \"#f0f921\"]], \"type\": \"heatmapgl\"}], \"histogram\": [{\"marker\": {\"colorbar\": {\"outlinewidth\": 0, \"ticks\": \"\"}}, \"type\": \"histogram\"}], \"histogram2d\": [{\"colorbar\": {\"outlinewidth\": 0, \"ticks\": \"\"}, \"colorscale\": [[0.0, \"#0d0887\"], [0.1111111111111111, \"#46039f\"], [0.2222222222222222, \"#7201a8\"], [0.3333333333333333, \"#9c179e\"], [0.4444444444444444, \"#bd3786\"], [0.5555555555555556, \"#d8576b\"], [0.6666666666666666, \"#ed7953\"], [0.7777777777777778, \"#fb9f3a\"], [0.8888888888888888, \"#fdca26\"], [1.0, \"#f0f921\"]], \"type\": \"histogram2d\"}], \"histogram2dcontour\": [{\"colorbar\": {\"outlinewidth\": 0, \"ticks\": \"\"}, \"colorscale\": [[0.0, \"#0d0887\"], [0.1111111111111111, \"#46039f\"], [0.2222222222222222, \"#7201a8\"], [0.3333333333333333, \"#9c179e\"], [0.4444444444444444, \"#bd3786\"], [0.5555555555555556, \"#d8576b\"], [0.6666666666666666, \"#ed7953\"], [0.7777777777777778, \"#fb9f3a\"], [0.8888888888888888, \"#fdca26\"], [1.0, \"#f0f921\"]], \"type\": \"histogram2dcontour\"}], \"mesh3d\": [{\"colorbar\": {\"outlinewidth\": 0, \"ticks\": \"\"}, \"type\": \"mesh3d\"}], \"parcoords\": [{\"line\": {\"colorbar\": {\"outlinewidth\": 0, \"ticks\": \"\"}}, \"type\": \"parcoords\"}], \"pie\": [{\"automargin\": true, \"type\": \"pie\"}], \"scatter\": [{\"marker\": {\"colorbar\": {\"outlinewidth\": 0, \"ticks\": \"\"}}, \"type\": \"scatter\"}], \"scatter3d\": [{\"line\": {\"colorbar\": {\"outlinewidth\": 0, \"ticks\": \"\"}}, \"marker\": {\"colorbar\": {\"outlinewidth\": 0, \"ticks\": \"\"}}, \"type\": \"scatter3d\"}], \"scattercarpet\": [{\"marker\": {\"colorbar\": {\"outlinewidth\": 0, \"ticks\": \"\"}}, \"type\": \"scattercarpet\"}], \"scattergeo\": [{\"marker\": {\"colorbar\": {\"outlinewidth\": 0, \"ticks\": \"\"}}, \"type\": \"scattergeo\"}], \"scattergl\": [{\"marker\": {\"colorbar\": {\"outlinewidth\": 0, \"ticks\": \"\"}}, \"type\": \"scattergl\"}], \"scattermapbox\": [{\"marker\": {\"colorbar\": {\"outlinewidth\": 0, \"ticks\": \"\"}}, \"type\": \"scattermapbox\"}], \"scatterpolar\": [{\"marker\": {\"colorbar\": {\"outlinewidth\": 0, \"ticks\": \"\"}}, \"type\": \"scatterpolar\"}], \"scatterpolargl\": [{\"marker\": {\"colorbar\": {\"outlinewidth\": 0, \"ticks\": \"\"}}, \"type\": \"scatterpolargl\"}], \"scatterternary\": [{\"marker\": {\"colorbar\": {\"outlinewidth\": 0, \"ticks\": \"\"}}, \"type\": \"scatterternary\"}], \"surface\": [{\"colorbar\": {\"outlinewidth\": 0, \"ticks\": \"\"}, \"colorscale\": [[0.0, \"#0d0887\"], [0.1111111111111111, \"#46039f\"], [0.2222222222222222, \"#7201a8\"], [0.3333333333333333, \"#9c179e\"], [0.4444444444444444, \"#bd3786\"], [0.5555555555555556, \"#d8576b\"], [0.6666666666666666, \"#ed7953\"], [0.7777777777777778, \"#fb9f3a\"], [0.8888888888888888, \"#fdca26\"], [1.0, \"#f0f921\"]], \"type\": \"surface\"}], \"table\": [{\"cells\": {\"fill\": {\"color\": \"#EBF0F8\"}, \"line\": {\"color\": \"white\"}}, \"header\": {\"fill\": {\"color\": \"#C8D4E3\"}, \"line\": {\"color\": \"white\"}}, \"type\": \"table\"}]}, \"layout\": {\"annotationdefaults\": {\"arrowcolor\": \"#2a3f5f\", \"arrowhead\": 0, \"arrowwidth\": 1}, \"coloraxis\": {\"colorbar\": {\"outlinewidth\": 0, \"ticks\": \"\"}}, \"colorscale\": {\"diverging\": [[0, \"#8e0152\"], [0.1, \"#c51b7d\"], [0.2, \"#de77ae\"], [0.3, \"#f1b6da\"], [0.4, \"#fde0ef\"], [0.5, \"#f7f7f7\"], [0.6, \"#e6f5d0\"], [0.7, \"#b8e186\"], [0.8, \"#7fbc41\"], [0.9, \"#4d9221\"], [1, \"#276419\"]], \"sequential\": [[0.0, \"#0d0887\"], [0.1111111111111111, \"#46039f\"], [0.2222222222222222, \"#7201a8\"], [0.3333333333333333, \"#9c179e\"], [0.4444444444444444, \"#bd3786\"], [0.5555555555555556, \"#d8576b\"], [0.6666666666666666, \"#ed7953\"], [0.7777777777777778, \"#fb9f3a\"], [0.8888888888888888, \"#fdca26\"], [1.0, \"#f0f921\"]], \"sequentialminus\": [[0.0, \"#0d0887\"], [0.1111111111111111, \"#46039f\"], [0.2222222222222222, \"#7201a8\"], [0.3333333333333333, \"#9c179e\"], [0.4444444444444444, \"#bd3786\"], [0.5555555555555556, \"#d8576b\"], [0.6666666666666666, \"#ed7953\"], [0.7777777777777778, \"#fb9f3a\"], [0.8888888888888888, \"#fdca26\"], [1.0, \"#f0f921\"]]}, \"colorway\": [\"#636efa\", \"#EF553B\", \"#00cc96\", \"#ab63fa\", \"#FFA15A\", \"#19d3f3\", \"#FF6692\", \"#B6E880\", \"#FF97FF\", \"#FECB52\"], \"font\": {\"color\": \"#2a3f5f\"}, \"geo\": {\"bgcolor\": \"white\", \"lakecolor\": \"white\", \"landcolor\": \"#E5ECF6\", \"showlakes\": true, \"showland\": true, \"subunitcolor\": \"white\"}, \"hoverlabel\": {\"align\": \"left\"}, \"hovermode\": \"closest\", \"mapbox\": {\"style\": \"light\"}, \"paper_bgcolor\": \"white\", \"plot_bgcolor\": \"#E5ECF6\", \"polar\": {\"angularaxis\": {\"gridcolor\": \"white\", \"linecolor\": \"white\", \"ticks\": \"\"}, \"bgcolor\": \"#E5ECF6\", \"radialaxis\": {\"gridcolor\": \"white\", \"linecolor\": \"white\", \"ticks\": \"\"}}, \"scene\": {\"xaxis\": {\"backgroundcolor\": \"#E5ECF6\", \"gridcolor\": \"white\", \"gridwidth\": 2, \"linecolor\": \"white\", \"showbackground\": true, \"ticks\": \"\", \"zerolinecolor\": \"white\"}, \"yaxis\": {\"backgroundcolor\": \"#E5ECF6\", \"gridcolor\": \"white\", \"gridwidth\": 2, \"linecolor\": \"white\", \"showbackground\": true, \"ticks\": \"\", \"zerolinecolor\": \"white\"}, \"zaxis\": {\"backgroundcolor\": \"#E5ECF6\", \"gridcolor\": \"white\", \"gridwidth\": 2, \"linecolor\": \"white\", \"showbackground\": true, \"ticks\": \"\", \"zerolinecolor\": \"white\"}}, \"shapedefaults\": {\"line\": {\"color\": \"#2a3f5f\"}}, \"ternary\": {\"aaxis\": {\"gridcolor\": \"white\", \"linecolor\": \"white\", \"ticks\": \"\"}, \"baxis\": {\"gridcolor\": \"white\", \"linecolor\": \"white\", \"ticks\": \"\"}, \"bgcolor\": \"#E5ECF6\", \"caxis\": {\"gridcolor\": \"white\", \"linecolor\": \"white\", \"ticks\": \"\"}}, \"title\": {\"x\": 0.05}, \"xaxis\": {\"automargin\": true, \"gridcolor\": \"white\", \"linecolor\": \"white\", \"ticks\": \"\", \"title\": {\"standoff\": 15}, \"zerolinecolor\": \"white\", \"zerolinewidth\": 2}, \"yaxis\": {\"automargin\": true, \"gridcolor\": \"white\", \"linecolor\": \"white\", \"ticks\": \"\", \"title\": {\"standoff\": 15}, \"zerolinecolor\": \"white\", \"zerolinewidth\": 2}}}, \"title\": {\"text\": \"Similarity of Political Subreddits\"}},\n",
       "                        {\"responsive\": true}\n",
       "                    ).then(function(){\n",
       "                            \n",
       "var gd = document.getElementById('e22213c8-5517-43af-a15b-04f675bcd399');\n",
       "var x = new MutationObserver(function (mutations, observer) {{\n",
       "        var display = window.getComputedStyle(gd).display;\n",
       "        if (!display || display === 'none') {{\n",
       "            console.log([gd, 'removed!']);\n",
       "            Plotly.purge(gd);\n",
       "            observer.disconnect();\n",
       "        }}\n",
       "}});\n",
       "\n",
       "// Listen for the removal of the full notebook cells\n",
       "var notebookContainer = gd.closest('#notebook-container');\n",
       "if (notebookContainer) {{\n",
       "    x.observe(notebookContainer, {childList: true});\n",
       "}}\n",
       "\n",
       "// Listen for the clearing of the current output cell\n",
       "var outputEl = gd.closest('.output');\n",
       "if (outputEl) {{\n",
       "    x.observe(outputEl, {childList: true});\n",
       "}}\n",
       "\n",
       "                        })\n",
       "                };\n",
       "                });\n",
       "            </script>\n",
       "        </div>"
      ]
     },
     "metadata": {},
     "output_type": "display_data"
    }
   ],
   "source": [
    "fig = go.Figure()\n",
    "for candidate in left_candidates+right_candidates:\n",
    "    can_ind = subreddits.index[subreddits == candidate][0]\n",
    "    can_vector = vectors.loc[can_ind]\n",
    "    can_dists = vectors.apply(lambda r : cos_sim(can_vector,r),axis=1).tolist()\n",
    "    axis = subreddits.tolist()\n",
    "    axis.append(axis[0])\n",
    "    can_dists.append(can_dists[0])     \n",
    "    fig.add_trace(\n",
    "        go.Scatterpolar(\n",
    "            r=can_dists, \n",
    "            theta=axis,            \n",
    "            name=candidate, # name to be exibited on legend and on hover\n",
    "            hoverinfo='name+r', # what to show on hover (name + data point)\n",
    "            hovertemplate='Similarity %{r:0.2f}', # Format of data point\n",
    "            opacity= 0.25,\n",
    "            line_shape='spline',\n",
    "            line_smoothing=0.75,\n",
    "            line_width=2       \n",
    "        )\n",
    "    )\n",
    "\n",
    "layout = {\n",
    "    \"title\": \"Similarity of Political Subreddits\",\n",
    "    \"polar_bgcolor\": 'white',\n",
    "    \"polar_radialaxis_visible\": True,\n",
    "    \"polar_radialaxis_showticklabels\": True,\n",
    "    \"polar_radialaxis_tickfont_color\": 'darkgrey',\n",
    "    \"polar_angularaxis_color\": 'grey',\n",
    "    \"polar_angularaxis_showline\": False,\n",
    "    \"polar_radialaxis_showline\": False,\n",
    "    \"polar_radialaxis_layer\": 'below traces',\n",
    "    \"polar_radialaxis_gridcolor\": '#F2F2F2',\n",
    "    \"polar_radialaxis_range\": (0,1.1),\n",
    "    \"polar_radialaxis_tickvals\": [0,0.25,0.5,0.75,0.92],\n",
    "    \"polar_radialaxis_ticktext\": [\"Different\",\"\",\"\",\"\", \"Similar\"],\n",
    "    \"polar_radialaxis_tickmode\": 'array' \n",
    "}\n",
    "fig.update_layout(**layout)\n",
    "fig.write_html(\"visualizations/2019_radial.html\")\n",
    "fig.show()"
   ]
  },
  {
   "cell_type": "markdown",
   "metadata": {},
   "source": [
    "## Distance Calculations"
   ]
  },
  {
   "cell_type": "code",
   "execution_count": 39,
   "metadata": {
    "scrolled": true
   },
   "outputs": [
    {
     "data": {
      "text/html": [
       "<div>\n",
       "<style scoped>\n",
       "    .dataframe tbody tr th:only-of-type {\n",
       "        vertical-align: middle;\n",
       "    }\n",
       "\n",
       "    .dataframe tbody tr th {\n",
       "        vertical-align: top;\n",
       "    }\n",
       "\n",
       "    .dataframe thead th {\n",
       "        text-align: right;\n",
       "    }\n",
       "</style>\n",
       "<table border=\"1\" class=\"dataframe\">\n",
       "  <thead>\n",
       "    <tr style=\"text-align: right;\">\n",
       "      <th></th>\n",
       "      <th></th>\n",
       "      <th>1</th>\n",
       "      <th>2</th>\n",
       "      <th>3</th>\n",
       "      <th>4</th>\n",
       "      <th>5</th>\n",
       "      <th>6</th>\n",
       "      <th>7</th>\n",
       "      <th>8</th>\n",
       "      <th>9</th>\n",
       "      <th>10</th>\n",
       "      <th>...</th>\n",
       "      <th>141</th>\n",
       "      <th>142</th>\n",
       "      <th>143</th>\n",
       "      <th>144</th>\n",
       "      <th>145</th>\n",
       "      <th>146</th>\n",
       "      <th>147</th>\n",
       "      <th>148</th>\n",
       "      <th>149</th>\n",
       "      <th>150</th>\n",
       "    </tr>\n",
       "    <tr>\n",
       "      <th>subreddit</th>\n",
       "      <th>date</th>\n",
       "      <th></th>\n",
       "      <th></th>\n",
       "      <th></th>\n",
       "      <th></th>\n",
       "      <th></th>\n",
       "      <th></th>\n",
       "      <th></th>\n",
       "      <th></th>\n",
       "      <th></th>\n",
       "      <th></th>\n",
       "      <th></th>\n",
       "      <th></th>\n",
       "      <th></th>\n",
       "      <th></th>\n",
       "      <th></th>\n",
       "      <th></th>\n",
       "      <th></th>\n",
       "      <th></th>\n",
       "      <th></th>\n",
       "      <th></th>\n",
       "      <th></th>\n",
       "    </tr>\n",
       "  </thead>\n",
       "  <tbody>\n",
       "    <tr>\n",
       "      <th>1000ccplus</th>\n",
       "      <th>2019-01-01</th>\n",
       "      <td>0.027411</td>\n",
       "      <td>0.007928</td>\n",
       "      <td>-0.109678</td>\n",
       "      <td>0.070665</td>\n",
       "      <td>-0.069335</td>\n",
       "      <td>0.036830</td>\n",
       "      <td>0.001487</td>\n",
       "      <td>0.000331</td>\n",
       "      <td>-0.048816</td>\n",
       "      <td>-0.112004</td>\n",
       "      <td>...</td>\n",
       "      <td>0.026002</td>\n",
       "      <td>-0.014206</td>\n",
       "      <td>-0.148223</td>\n",
       "      <td>0.058003</td>\n",
       "      <td>-0.006749</td>\n",
       "      <td>-0.219159</td>\n",
       "      <td>-0.141725</td>\n",
       "      <td>0.104762</td>\n",
       "      <td>0.065497</td>\n",
       "      <td>0.051957</td>\n",
       "    </tr>\n",
       "    <tr>\n",
       "      <th>100thieves</th>\n",
       "      <th>2019-01-01</th>\n",
       "      <td>0.047010</td>\n",
       "      <td>0.089473</td>\n",
       "      <td>0.001833</td>\n",
       "      <td>-0.059464</td>\n",
       "      <td>0.099490</td>\n",
       "      <td>0.032410</td>\n",
       "      <td>-0.004810</td>\n",
       "      <td>-0.101613</td>\n",
       "      <td>0.066657</td>\n",
       "      <td>0.035370</td>\n",
       "      <td>...</td>\n",
       "      <td>0.001671</td>\n",
       "      <td>-0.028480</td>\n",
       "      <td>0.000751</td>\n",
       "      <td>0.120835</td>\n",
       "      <td>0.051996</td>\n",
       "      <td>-0.121277</td>\n",
       "      <td>-0.044962</td>\n",
       "      <td>0.003476</td>\n",
       "      <td>0.133735</td>\n",
       "      <td>0.006160</td>\n",
       "    </tr>\n",
       "    <tr>\n",
       "      <th>1022</th>\n",
       "      <th>2019-01-01</th>\n",
       "      <td>0.030958</td>\n",
       "      <td>0.029023</td>\n",
       "      <td>0.031724</td>\n",
       "      <td>-0.102030</td>\n",
       "      <td>0.064858</td>\n",
       "      <td>-0.189088</td>\n",
       "      <td>0.021475</td>\n",
       "      <td>-0.152345</td>\n",
       "      <td>0.027263</td>\n",
       "      <td>-0.012738</td>\n",
       "      <td>...</td>\n",
       "      <td>-0.068612</td>\n",
       "      <td>0.034416</td>\n",
       "      <td>-0.161073</td>\n",
       "      <td>0.011924</td>\n",
       "      <td>0.000407</td>\n",
       "      <td>-0.135506</td>\n",
       "      <td>-0.117616</td>\n",
       "      <td>-0.023013</td>\n",
       "      <td>0.139499</td>\n",
       "      <td>-0.052780</td>\n",
       "    </tr>\n",
       "    <tr>\n",
       "      <th>1200isfineIGUESSugh</th>\n",
       "      <th>2019-01-01</th>\n",
       "      <td>0.093791</td>\n",
       "      <td>-0.000252</td>\n",
       "      <td>0.002537</td>\n",
       "      <td>0.099571</td>\n",
       "      <td>0.105243</td>\n",
       "      <td>0.032816</td>\n",
       "      <td>0.049385</td>\n",
       "      <td>-0.133215</td>\n",
       "      <td>0.117549</td>\n",
       "      <td>-0.070538</td>\n",
       "      <td>...</td>\n",
       "      <td>0.016156</td>\n",
       "      <td>-0.073431</td>\n",
       "      <td>-0.073697</td>\n",
       "      <td>0.045124</td>\n",
       "      <td>-0.045725</td>\n",
       "      <td>-0.030220</td>\n",
       "      <td>0.114463</td>\n",
       "      <td>-0.010067</td>\n",
       "      <td>0.100510</td>\n",
       "      <td>0.064892</td>\n",
       "    </tr>\n",
       "    <tr>\n",
       "      <th>1200isjerky</th>\n",
       "      <th>2019-01-01</th>\n",
       "      <td>0.154488</td>\n",
       "      <td>0.057273</td>\n",
       "      <td>-0.018089</td>\n",
       "      <td>0.143122</td>\n",
       "      <td>0.095987</td>\n",
       "      <td>0.111545</td>\n",
       "      <td>0.023787</td>\n",
       "      <td>-0.171960</td>\n",
       "      <td>0.020003</td>\n",
       "      <td>-0.040333</td>\n",
       "      <td>...</td>\n",
       "      <td>0.080083</td>\n",
       "      <td>-0.089391</td>\n",
       "      <td>-0.109960</td>\n",
       "      <td>0.059116</td>\n",
       "      <td>-0.077729</td>\n",
       "      <td>-0.000051</td>\n",
       "      <td>0.170306</td>\n",
       "      <td>-0.042596</td>\n",
       "      <td>-0.043461</td>\n",
       "      <td>0.066343</td>\n",
       "    </tr>\n",
       "    <tr>\n",
       "      <th>...</th>\n",
       "      <th>...</th>\n",
       "      <td>...</td>\n",
       "      <td>...</td>\n",
       "      <td>...</td>\n",
       "      <td>...</td>\n",
       "      <td>...</td>\n",
       "      <td>...</td>\n",
       "      <td>...</td>\n",
       "      <td>...</td>\n",
       "      <td>...</td>\n",
       "      <td>...</td>\n",
       "      <td>...</td>\n",
       "      <td>...</td>\n",
       "      <td>...</td>\n",
       "      <td>...</td>\n",
       "      <td>...</td>\n",
       "      <td>...</td>\n",
       "      <td>...</td>\n",
       "      <td>...</td>\n",
       "      <td>...</td>\n",
       "      <td>...</td>\n",
       "      <td>...</td>\n",
       "    </tr>\n",
       "    <tr>\n",
       "      <th>zoemains</th>\n",
       "      <th>2019-12-01</th>\n",
       "      <td>0.031772</td>\n",
       "      <td>0.026607</td>\n",
       "      <td>0.012095</td>\n",
       "      <td>0.093933</td>\n",
       "      <td>0.100424</td>\n",
       "      <td>-0.005248</td>\n",
       "      <td>-0.067083</td>\n",
       "      <td>-0.065163</td>\n",
       "      <td>0.068851</td>\n",
       "      <td>0.039087</td>\n",
       "      <td>...</td>\n",
       "      <td>0.113103</td>\n",
       "      <td>0.030495</td>\n",
       "      <td>0.039067</td>\n",
       "      <td>0.074273</td>\n",
       "      <td>-0.039663</td>\n",
       "      <td>-0.104319</td>\n",
       "      <td>-0.043474</td>\n",
       "      <td>0.028903</td>\n",
       "      <td>0.022581</td>\n",
       "      <td>0.012715</td>\n",
       "    </tr>\n",
       "    <tr>\n",
       "      <th>zoloft</th>\n",
       "      <th>2019-12-01</th>\n",
       "      <td>-0.015821</td>\n",
       "      <td>0.053895</td>\n",
       "      <td>-0.015671</td>\n",
       "      <td>0.113680</td>\n",
       "      <td>0.057699</td>\n",
       "      <td>0.082132</td>\n",
       "      <td>0.021603</td>\n",
       "      <td>0.030836</td>\n",
       "      <td>0.009351</td>\n",
       "      <td>-0.128631</td>\n",
       "      <td>...</td>\n",
       "      <td>-0.082551</td>\n",
       "      <td>-0.100545</td>\n",
       "      <td>-0.115522</td>\n",
       "      <td>0.002291</td>\n",
       "      <td>0.068781</td>\n",
       "      <td>-0.151290</td>\n",
       "      <td>0.019573</td>\n",
       "      <td>-0.045880</td>\n",
       "      <td>0.128124</td>\n",
       "      <td>-0.044593</td>\n",
       "    </tr>\n",
       "    <tr>\n",
       "      <th>zombies</th>\n",
       "      <th>2019-12-01</th>\n",
       "      <td>0.013930</td>\n",
       "      <td>-0.102829</td>\n",
       "      <td>-0.008978</td>\n",
       "      <td>0.036583</td>\n",
       "      <td>-0.085338</td>\n",
       "      <td>-0.022046</td>\n",
       "      <td>-0.069338</td>\n",
       "      <td>0.005291</td>\n",
       "      <td>-0.076649</td>\n",
       "      <td>0.006726</td>\n",
       "      <td>...</td>\n",
       "      <td>0.009584</td>\n",
       "      <td>0.051413</td>\n",
       "      <td>0.003283</td>\n",
       "      <td>0.016159</td>\n",
       "      <td>-0.068776</td>\n",
       "      <td>-0.000747</td>\n",
       "      <td>-0.069661</td>\n",
       "      <td>0.161934</td>\n",
       "      <td>-0.062454</td>\n",
       "      <td>0.044292</td>\n",
       "    </tr>\n",
       "    <tr>\n",
       "      <th>zootopia</th>\n",
       "      <th>2019-12-01</th>\n",
       "      <td>-0.071352</td>\n",
       "      <td>0.014392</td>\n",
       "      <td>0.082478</td>\n",
       "      <td>0.164587</td>\n",
       "      <td>0.077086</td>\n",
       "      <td>-0.052253</td>\n",
       "      <td>-0.072058</td>\n",
       "      <td>-0.082849</td>\n",
       "      <td>0.004199</td>\n",
       "      <td>-0.033957</td>\n",
       "      <td>...</td>\n",
       "      <td>0.102761</td>\n",
       "      <td>-0.031334</td>\n",
       "      <td>-0.038930</td>\n",
       "      <td>0.126400</td>\n",
       "      <td>-0.038243</td>\n",
       "      <td>0.063623</td>\n",
       "      <td>-0.099276</td>\n",
       "      <td>-0.018593</td>\n",
       "      <td>0.043465</td>\n",
       "      <td>-0.016386</td>\n",
       "    </tr>\n",
       "    <tr>\n",
       "      <th>zurich</th>\n",
       "      <th>2019-12-01</th>\n",
       "      <td>0.085357</td>\n",
       "      <td>-0.071645</td>\n",
       "      <td>-0.176382</td>\n",
       "      <td>-0.059816</td>\n",
       "      <td>0.092763</td>\n",
       "      <td>0.107670</td>\n",
       "      <td>-0.131393</td>\n",
       "      <td>-0.077398</td>\n",
       "      <td>0.005380</td>\n",
       "      <td>0.068437</td>\n",
       "      <td>...</td>\n",
       "      <td>0.140103</td>\n",
       "      <td>0.114566</td>\n",
       "      <td>-0.123826</td>\n",
       "      <td>0.036651</td>\n",
       "      <td>-0.008637</td>\n",
       "      <td>-0.080500</td>\n",
       "      <td>-0.019299</td>\n",
       "      <td>0.087896</td>\n",
       "      <td>0.109984</td>\n",
       "      <td>-0.076567</td>\n",
       "    </tr>\n",
       "  </tbody>\n",
       "</table>\n",
       "<p>120825 rows × 150 columns</p>\n",
       "</div>"
      ],
      "text/plain": [
       "                                     1         2         3         4    \\\n",
       "subreddit           date                                                 \n",
       "1000ccplus          2019-01-01  0.027411  0.007928 -0.109678  0.070665   \n",
       "100thieves          2019-01-01  0.047010  0.089473  0.001833 -0.059464   \n",
       "1022                2019-01-01  0.030958  0.029023  0.031724 -0.102030   \n",
       "1200isfineIGUESSugh 2019-01-01  0.093791 -0.000252  0.002537  0.099571   \n",
       "1200isjerky         2019-01-01  0.154488  0.057273 -0.018089  0.143122   \n",
       "...                                  ...       ...       ...       ...   \n",
       "zoemains            2019-12-01  0.031772  0.026607  0.012095  0.093933   \n",
       "zoloft              2019-12-01 -0.015821  0.053895 -0.015671  0.113680   \n",
       "zombies             2019-12-01  0.013930 -0.102829 -0.008978  0.036583   \n",
       "zootopia            2019-12-01 -0.071352  0.014392  0.082478  0.164587   \n",
       "zurich              2019-12-01  0.085357 -0.071645 -0.176382 -0.059816   \n",
       "\n",
       "                                     5         6         7         8    \\\n",
       "subreddit           date                                                 \n",
       "1000ccplus          2019-01-01 -0.069335  0.036830  0.001487  0.000331   \n",
       "100thieves          2019-01-01  0.099490  0.032410 -0.004810 -0.101613   \n",
       "1022                2019-01-01  0.064858 -0.189088  0.021475 -0.152345   \n",
       "1200isfineIGUESSugh 2019-01-01  0.105243  0.032816  0.049385 -0.133215   \n",
       "1200isjerky         2019-01-01  0.095987  0.111545  0.023787 -0.171960   \n",
       "...                                  ...       ...       ...       ...   \n",
       "zoemains            2019-12-01  0.100424 -0.005248 -0.067083 -0.065163   \n",
       "zoloft              2019-12-01  0.057699  0.082132  0.021603  0.030836   \n",
       "zombies             2019-12-01 -0.085338 -0.022046 -0.069338  0.005291   \n",
       "zootopia            2019-12-01  0.077086 -0.052253 -0.072058 -0.082849   \n",
       "zurich              2019-12-01  0.092763  0.107670 -0.131393 -0.077398   \n",
       "\n",
       "                                     9         10   ...       141       142  \\\n",
       "subreddit           date                            ...                       \n",
       "1000ccplus          2019-01-01 -0.048816 -0.112004  ...  0.026002 -0.014206   \n",
       "100thieves          2019-01-01  0.066657  0.035370  ...  0.001671 -0.028480   \n",
       "1022                2019-01-01  0.027263 -0.012738  ... -0.068612  0.034416   \n",
       "1200isfineIGUESSugh 2019-01-01  0.117549 -0.070538  ...  0.016156 -0.073431   \n",
       "1200isjerky         2019-01-01  0.020003 -0.040333  ...  0.080083 -0.089391   \n",
       "...                                  ...       ...  ...       ...       ...   \n",
       "zoemains            2019-12-01  0.068851  0.039087  ...  0.113103  0.030495   \n",
       "zoloft              2019-12-01  0.009351 -0.128631  ... -0.082551 -0.100545   \n",
       "zombies             2019-12-01 -0.076649  0.006726  ...  0.009584  0.051413   \n",
       "zootopia            2019-12-01  0.004199 -0.033957  ...  0.102761 -0.031334   \n",
       "zurich              2019-12-01  0.005380  0.068437  ...  0.140103  0.114566   \n",
       "\n",
       "                                     143       144       145       146  \\\n",
       "subreddit           date                                                 \n",
       "1000ccplus          2019-01-01 -0.148223  0.058003 -0.006749 -0.219159   \n",
       "100thieves          2019-01-01  0.000751  0.120835  0.051996 -0.121277   \n",
       "1022                2019-01-01 -0.161073  0.011924  0.000407 -0.135506   \n",
       "1200isfineIGUESSugh 2019-01-01 -0.073697  0.045124 -0.045725 -0.030220   \n",
       "1200isjerky         2019-01-01 -0.109960  0.059116 -0.077729 -0.000051   \n",
       "...                                  ...       ...       ...       ...   \n",
       "zoemains            2019-12-01  0.039067  0.074273 -0.039663 -0.104319   \n",
       "zoloft              2019-12-01 -0.115522  0.002291  0.068781 -0.151290   \n",
       "zombies             2019-12-01  0.003283  0.016159 -0.068776 -0.000747   \n",
       "zootopia            2019-12-01 -0.038930  0.126400 -0.038243  0.063623   \n",
       "zurich              2019-12-01 -0.123826  0.036651 -0.008637 -0.080500   \n",
       "\n",
       "                                     147       148       149       150  \n",
       "subreddit           date                                                \n",
       "1000ccplus          2019-01-01 -0.141725  0.104762  0.065497  0.051957  \n",
       "100thieves          2019-01-01 -0.044962  0.003476  0.133735  0.006160  \n",
       "1022                2019-01-01 -0.117616 -0.023013  0.139499 -0.052780  \n",
       "1200isfineIGUESSugh 2019-01-01  0.114463 -0.010067  0.100510  0.064892  \n",
       "1200isjerky         2019-01-01  0.170306 -0.042596 -0.043461  0.066343  \n",
       "...                                  ...       ...       ...       ...  \n",
       "zoemains            2019-12-01 -0.043474  0.028903  0.022581  0.012715  \n",
       "zoloft              2019-12-01  0.019573 -0.045880  0.128124 -0.044593  \n",
       "zombies             2019-12-01 -0.069661  0.161934 -0.062454  0.044292  \n",
       "zootopia            2019-12-01 -0.099276 -0.018593  0.043465 -0.016386  \n",
       "zurich              2019-12-01 -0.019299  0.087896  0.109984 -0.076567  \n",
       "\n",
       "[120825 rows x 150 columns]"
      ]
     },
     "execution_count": 39,
     "metadata": {},
     "output_type": "execute_result"
    }
   ],
   "source": [
    "embedding = load_embedding(\"/h/224/cameron/Political-Subreddit-Embedding/trained_embeddings/temporal/{}/{}_vecs_0.0028_15.txt\".format(TIME_FRAME,TIME_FRAME),split=False)\n",
    "#Parse out date and subreddit from single index\n",
    "t = embedding.index.map(lambda x: parse_tup(x,date_str=\"%d/%m/%Y\"))\n",
    "t = list(map(tuple,t))\n",
    "embedding.index = pd.MultiIndex.from_tuples(t)\n",
    "embedding = embedding.rename_axis((\"subreddit\", \"date\")).sort_values([\"date\",\"subreddit\"])\n",
    "embedding"
   ]
  },
  {
   "cell_type": "code",
   "execution_count": 27,
   "metadata": {},
   "outputs": [
    {
     "name": "stderr",
     "output_type": "stream",
     "text": [
      "/h/224/cameron/miniconda3/envs/pyspark_env/lib/python3.7/site-packages/ipykernel_launcher.py:9: SettingWithCopyWarning:\n",
      "\n",
      "\n",
      "A value is trying to be set on a copy of a slice from a DataFrame.\n",
      "Try using .loc[row_indexer,col_indexer] = value instead\n",
      "\n",
      "See the caveats in the documentation: https://pandas.pydata.org/pandas-docs/stable/user_guide/indexing.html#returning-a-view-versus-a-copy\n",
      "\n"
     ]
    },
    {
     "data": {
      "text/html": [
       "<div>\n",
       "<style scoped>\n",
       "    .dataframe tbody tr th:only-of-type {\n",
       "        vertical-align: middle;\n",
       "    }\n",
       "\n",
       "    .dataframe tbody tr th {\n",
       "        vertical-align: top;\n",
       "    }\n",
       "\n",
       "    .dataframe thead th {\n",
       "        text-align: right;\n",
       "    }\n",
       "</style>\n",
       "<table border=\"1\" class=\"dataframe\">\n",
       "  <thead>\n",
       "    <tr style=\"text-align: right;\">\n",
       "      <th></th>\n",
       "      <th></th>\n",
       "      <th>1</th>\n",
       "      <th>2</th>\n",
       "      <th>3</th>\n",
       "      <th>4</th>\n",
       "      <th>5</th>\n",
       "      <th>6</th>\n",
       "      <th>7</th>\n",
       "      <th>8</th>\n",
       "      <th>9</th>\n",
       "      <th>10</th>\n",
       "      <th>...</th>\n",
       "      <th>142</th>\n",
       "      <th>143</th>\n",
       "      <th>144</th>\n",
       "      <th>145</th>\n",
       "      <th>146</th>\n",
       "      <th>147</th>\n",
       "      <th>148</th>\n",
       "      <th>149</th>\n",
       "      <th>150</th>\n",
       "      <th>avg_dist</th>\n",
       "    </tr>\n",
       "    <tr>\n",
       "      <th>subreddit</th>\n",
       "      <th>date</th>\n",
       "      <th></th>\n",
       "      <th></th>\n",
       "      <th></th>\n",
       "      <th></th>\n",
       "      <th></th>\n",
       "      <th></th>\n",
       "      <th></th>\n",
       "      <th></th>\n",
       "      <th></th>\n",
       "      <th></th>\n",
       "      <th></th>\n",
       "      <th></th>\n",
       "      <th></th>\n",
       "      <th></th>\n",
       "      <th></th>\n",
       "      <th></th>\n",
       "      <th></th>\n",
       "      <th></th>\n",
       "      <th></th>\n",
       "      <th></th>\n",
       "      <th></th>\n",
       "    </tr>\n",
       "  </thead>\n",
       "  <tbody>\n",
       "    <tr>\n",
       "      <th>BaemyKlobaechar</th>\n",
       "      <th>2019-01-01</th>\n",
       "      <td>0.039385</td>\n",
       "      <td>-0.032656</td>\n",
       "      <td>-0.102859</td>\n",
       "      <td>0.013675</td>\n",
       "      <td>-0.028504</td>\n",
       "      <td>-0.008800</td>\n",
       "      <td>0.093741</td>\n",
       "      <td>-0.030641</td>\n",
       "      <td>0.056056</td>\n",
       "      <td>-0.021695</td>\n",
       "      <td>...</td>\n",
       "      <td>-0.060968</td>\n",
       "      <td>0.051346</td>\n",
       "      <td>0.065561</td>\n",
       "      <td>0.042905</td>\n",
       "      <td>-0.003893</td>\n",
       "      <td>-0.032835</td>\n",
       "      <td>0.040659</td>\n",
       "      <td>-0.048528</td>\n",
       "      <td>0.011097</td>\n",
       "      <td>0.652000</td>\n",
       "    </tr>\n",
       "    <tr>\n",
       "      <th>ElizabethWarren</th>\n",
       "      <th>2019-01-01</th>\n",
       "      <td>0.018491</td>\n",
       "      <td>-0.044195</td>\n",
       "      <td>-0.065121</td>\n",
       "      <td>-0.110989</td>\n",
       "      <td>-0.125476</td>\n",
       "      <td>0.009724</td>\n",
       "      <td>0.037393</td>\n",
       "      <td>-0.102446</td>\n",
       "      <td>-0.072912</td>\n",
       "      <td>-0.034110</td>\n",
       "      <td>...</td>\n",
       "      <td>-0.157365</td>\n",
       "      <td>0.055299</td>\n",
       "      <td>0.106372</td>\n",
       "      <td>0.063118</td>\n",
       "      <td>0.028082</td>\n",
       "      <td>-0.035191</td>\n",
       "      <td>0.014581</td>\n",
       "      <td>0.120955</td>\n",
       "      <td>0.000003</td>\n",
       "      <td>0.593665</td>\n",
       "    </tr>\n",
       "    <tr>\n",
       "      <th>JoeBiden</th>\n",
       "      <th>2019-01-01</th>\n",
       "      <td>-0.053438</td>\n",
       "      <td>0.074119</td>\n",
       "      <td>-0.015618</td>\n",
       "      <td>-0.010005</td>\n",
       "      <td>0.029803</td>\n",
       "      <td>-0.073516</td>\n",
       "      <td>0.066443</td>\n",
       "      <td>0.193023</td>\n",
       "      <td>-0.110543</td>\n",
       "      <td>0.033751</td>\n",
       "      <td>...</td>\n",
       "      <td>0.055165</td>\n",
       "      <td>-0.008505</td>\n",
       "      <td>-0.058270</td>\n",
       "      <td>0.103427</td>\n",
       "      <td>0.191497</td>\n",
       "      <td>-0.026188</td>\n",
       "      <td>-0.056188</td>\n",
       "      <td>-0.093882</td>\n",
       "      <td>0.042998</td>\n",
       "      <td>1.300939</td>\n",
       "    </tr>\n",
       "    <tr>\n",
       "      <th>Pete_Buttigieg</th>\n",
       "      <th>2019-01-01</th>\n",
       "      <td>-0.004406</td>\n",
       "      <td>0.003567</td>\n",
       "      <td>-0.049095</td>\n",
       "      <td>0.018293</td>\n",
       "      <td>-0.040109</td>\n",
       "      <td>-0.071119</td>\n",
       "      <td>-0.000791</td>\n",
       "      <td>-0.015795</td>\n",
       "      <td>0.059540</td>\n",
       "      <td>0.069648</td>\n",
       "      <td>...</td>\n",
       "      <td>0.058978</td>\n",
       "      <td>0.008322</td>\n",
       "      <td>0.129788</td>\n",
       "      <td>0.134624</td>\n",
       "      <td>0.055960</td>\n",
       "      <td>-0.019483</td>\n",
       "      <td>-0.063738</td>\n",
       "      <td>0.129256</td>\n",
       "      <td>0.041822</td>\n",
       "      <td>0.663928</td>\n",
       "    </tr>\n",
       "    <tr>\n",
       "      <th>SandersForPresident</th>\n",
       "      <th>2019-01-01</th>\n",
       "      <td>0.095072</td>\n",
       "      <td>-0.110822</td>\n",
       "      <td>-0.076922</td>\n",
       "      <td>-0.121351</td>\n",
       "      <td>-0.087542</td>\n",
       "      <td>0.001798</td>\n",
       "      <td>0.077701</td>\n",
       "      <td>-0.162225</td>\n",
       "      <td>0.031120</td>\n",
       "      <td>-0.043594</td>\n",
       "      <td>...</td>\n",
       "      <td>-0.144000</td>\n",
       "      <td>0.019736</td>\n",
       "      <td>0.006887</td>\n",
       "      <td>-0.054501</td>\n",
       "      <td>0.022390</td>\n",
       "      <td>-0.007561</td>\n",
       "      <td>0.006743</td>\n",
       "      <td>0.141208</td>\n",
       "      <td>-0.032168</td>\n",
       "      <td>0.688554</td>\n",
       "    </tr>\n",
       "    <tr>\n",
       "      <th>...</th>\n",
       "      <th>...</th>\n",
       "      <td>...</td>\n",
       "      <td>...</td>\n",
       "      <td>...</td>\n",
       "      <td>...</td>\n",
       "      <td>...</td>\n",
       "      <td>...</td>\n",
       "      <td>...</td>\n",
       "      <td>...</td>\n",
       "      <td>...</td>\n",
       "      <td>...</td>\n",
       "      <td>...</td>\n",
       "      <td>...</td>\n",
       "      <td>...</td>\n",
       "      <td>...</td>\n",
       "      <td>...</td>\n",
       "      <td>...</td>\n",
       "      <td>...</td>\n",
       "      <td>...</td>\n",
       "      <td>...</td>\n",
       "      <td>...</td>\n",
       "      <td>...</td>\n",
       "    </tr>\n",
       "    <tr>\n",
       "      <th>ElizabethWarren</th>\n",
       "      <th>2019-12-01</th>\n",
       "      <td>0.000629</td>\n",
       "      <td>0.011961</td>\n",
       "      <td>0.034210</td>\n",
       "      <td>-0.108369</td>\n",
       "      <td>-0.039555</td>\n",
       "      <td>-0.112417</td>\n",
       "      <td>0.048837</td>\n",
       "      <td>-0.119285</td>\n",
       "      <td>0.097671</td>\n",
       "      <td>-0.060705</td>\n",
       "      <td>...</td>\n",
       "      <td>-0.154529</td>\n",
       "      <td>0.080845</td>\n",
       "      <td>-0.006379</td>\n",
       "      <td>0.137086</td>\n",
       "      <td>0.070077</td>\n",
       "      <td>0.036909</td>\n",
       "      <td>0.097942</td>\n",
       "      <td>0.032499</td>\n",
       "      <td>-0.036539</td>\n",
       "      <td>0.317172</td>\n",
       "    </tr>\n",
       "    <tr>\n",
       "      <th>JoeBiden</th>\n",
       "      <th>2019-12-01</th>\n",
       "      <td>0.051819</td>\n",
       "      <td>-0.040755</td>\n",
       "      <td>0.062116</td>\n",
       "      <td>-0.056645</td>\n",
       "      <td>-0.004976</td>\n",
       "      <td>-0.121716</td>\n",
       "      <td>0.066456</td>\n",
       "      <td>0.000318</td>\n",
       "      <td>0.079148</td>\n",
       "      <td>0.016759</td>\n",
       "      <td>...</td>\n",
       "      <td>0.055316</td>\n",
       "      <td>0.091487</td>\n",
       "      <td>-0.039787</td>\n",
       "      <td>0.069946</td>\n",
       "      <td>-0.076293</td>\n",
       "      <td>0.004495</td>\n",
       "      <td>0.030407</td>\n",
       "      <td>0.076456</td>\n",
       "      <td>-0.055591</td>\n",
       "      <td>0.353236</td>\n",
       "    </tr>\n",
       "    <tr>\n",
       "      <th>Pete_Buttigieg</th>\n",
       "      <th>2019-12-01</th>\n",
       "      <td>-0.046594</td>\n",
       "      <td>0.044182</td>\n",
       "      <td>0.022248</td>\n",
       "      <td>-0.102484</td>\n",
       "      <td>-0.002578</td>\n",
       "      <td>-0.078466</td>\n",
       "      <td>0.061907</td>\n",
       "      <td>-0.104838</td>\n",
       "      <td>0.053849</td>\n",
       "      <td>-0.012731</td>\n",
       "      <td>...</td>\n",
       "      <td>-0.100320</td>\n",
       "      <td>0.082690</td>\n",
       "      <td>-0.000170</td>\n",
       "      <td>0.099727</td>\n",
       "      <td>0.017700</td>\n",
       "      <td>-0.032778</td>\n",
       "      <td>0.059029</td>\n",
       "      <td>0.043908</td>\n",
       "      <td>-0.051225</td>\n",
       "      <td>0.339879</td>\n",
       "    </tr>\n",
       "    <tr>\n",
       "      <th>SandersForPresident</th>\n",
       "      <th>2019-12-01</th>\n",
       "      <td>0.123377</td>\n",
       "      <td>-0.134899</td>\n",
       "      <td>-0.012522</td>\n",
       "      <td>-0.056719</td>\n",
       "      <td>-0.027125</td>\n",
       "      <td>-0.082796</td>\n",
       "      <td>0.100109</td>\n",
       "      <td>-0.122305</td>\n",
       "      <td>0.059204</td>\n",
       "      <td>-0.069627</td>\n",
       "      <td>...</td>\n",
       "      <td>-0.134154</td>\n",
       "      <td>0.078443</td>\n",
       "      <td>0.026570</td>\n",
       "      <td>0.079004</td>\n",
       "      <td>0.085845</td>\n",
       "      <td>0.001672</td>\n",
       "      <td>-0.003014</td>\n",
       "      <td>0.076480</td>\n",
       "      <td>-0.037767</td>\n",
       "      <td>0.415099</td>\n",
       "    </tr>\n",
       "    <tr>\n",
       "      <th>YangForPresidentHQ</th>\n",
       "      <th>2019-12-01</th>\n",
       "      <td>0.122347</td>\n",
       "      <td>-0.041564</td>\n",
       "      <td>0.104256</td>\n",
       "      <td>0.016567</td>\n",
       "      <td>-0.040447</td>\n",
       "      <td>-0.047675</td>\n",
       "      <td>0.169381</td>\n",
       "      <td>-0.010845</td>\n",
       "      <td>0.016493</td>\n",
       "      <td>0.066338</td>\n",
       "      <td>...</td>\n",
       "      <td>-0.045533</td>\n",
       "      <td>0.060885</td>\n",
       "      <td>0.006304</td>\n",
       "      <td>0.016386</td>\n",
       "      <td>-0.019966</td>\n",
       "      <td>0.059291</td>\n",
       "      <td>0.003473</td>\n",
       "      <td>0.100733</td>\n",
       "      <td>-0.031142</td>\n",
       "      <td>0.425606</td>\n",
       "    </tr>\n",
       "  </tbody>\n",
       "</table>\n",
       "<p>72 rows × 151 columns</p>\n",
       "</div>"
      ],
      "text/plain": [
       "                                       1         2         3         4  \\\n",
       "subreddit           date                                                 \n",
       "BaemyKlobaechar     2019-01-01  0.039385 -0.032656 -0.102859  0.013675   \n",
       "ElizabethWarren     2019-01-01  0.018491 -0.044195 -0.065121 -0.110989   \n",
       "JoeBiden            2019-01-01 -0.053438  0.074119 -0.015618 -0.010005   \n",
       "Pete_Buttigieg      2019-01-01 -0.004406  0.003567 -0.049095  0.018293   \n",
       "SandersForPresident 2019-01-01  0.095072 -0.110822 -0.076922 -0.121351   \n",
       "...                                  ...       ...       ...       ...   \n",
       "ElizabethWarren     2019-12-01  0.000629  0.011961  0.034210 -0.108369   \n",
       "JoeBiden            2019-12-01  0.051819 -0.040755  0.062116 -0.056645   \n",
       "Pete_Buttigieg      2019-12-01 -0.046594  0.044182  0.022248 -0.102484   \n",
       "SandersForPresident 2019-12-01  0.123377 -0.134899 -0.012522 -0.056719   \n",
       "YangForPresidentHQ  2019-12-01  0.122347 -0.041564  0.104256  0.016567   \n",
       "\n",
       "                                       5         6         7         8  \\\n",
       "subreddit           date                                                 \n",
       "BaemyKlobaechar     2019-01-01 -0.028504 -0.008800  0.093741 -0.030641   \n",
       "ElizabethWarren     2019-01-01 -0.125476  0.009724  0.037393 -0.102446   \n",
       "JoeBiden            2019-01-01  0.029803 -0.073516  0.066443  0.193023   \n",
       "Pete_Buttigieg      2019-01-01 -0.040109 -0.071119 -0.000791 -0.015795   \n",
       "SandersForPresident 2019-01-01 -0.087542  0.001798  0.077701 -0.162225   \n",
       "...                                  ...       ...       ...       ...   \n",
       "ElizabethWarren     2019-12-01 -0.039555 -0.112417  0.048837 -0.119285   \n",
       "JoeBiden            2019-12-01 -0.004976 -0.121716  0.066456  0.000318   \n",
       "Pete_Buttigieg      2019-12-01 -0.002578 -0.078466  0.061907 -0.104838   \n",
       "SandersForPresident 2019-12-01 -0.027125 -0.082796  0.100109 -0.122305   \n",
       "YangForPresidentHQ  2019-12-01 -0.040447 -0.047675  0.169381 -0.010845   \n",
       "\n",
       "                                       9        10  ...       142       143  \\\n",
       "subreddit           date                            ...                       \n",
       "BaemyKlobaechar     2019-01-01  0.056056 -0.021695  ... -0.060968  0.051346   \n",
       "ElizabethWarren     2019-01-01 -0.072912 -0.034110  ... -0.157365  0.055299   \n",
       "JoeBiden            2019-01-01 -0.110543  0.033751  ...  0.055165 -0.008505   \n",
       "Pete_Buttigieg      2019-01-01  0.059540  0.069648  ...  0.058978  0.008322   \n",
       "SandersForPresident 2019-01-01  0.031120 -0.043594  ... -0.144000  0.019736   \n",
       "...                                  ...       ...  ...       ...       ...   \n",
       "ElizabethWarren     2019-12-01  0.097671 -0.060705  ... -0.154529  0.080845   \n",
       "JoeBiden            2019-12-01  0.079148  0.016759  ...  0.055316  0.091487   \n",
       "Pete_Buttigieg      2019-12-01  0.053849 -0.012731  ... -0.100320  0.082690   \n",
       "SandersForPresident 2019-12-01  0.059204 -0.069627  ... -0.134154  0.078443   \n",
       "YangForPresidentHQ  2019-12-01  0.016493  0.066338  ... -0.045533  0.060885   \n",
       "\n",
       "                                     144       145       146       147  \\\n",
       "subreddit           date                                                 \n",
       "BaemyKlobaechar     2019-01-01  0.065561  0.042905 -0.003893 -0.032835   \n",
       "ElizabethWarren     2019-01-01  0.106372  0.063118  0.028082 -0.035191   \n",
       "JoeBiden            2019-01-01 -0.058270  0.103427  0.191497 -0.026188   \n",
       "Pete_Buttigieg      2019-01-01  0.129788  0.134624  0.055960 -0.019483   \n",
       "SandersForPresident 2019-01-01  0.006887 -0.054501  0.022390 -0.007561   \n",
       "...                                  ...       ...       ...       ...   \n",
       "ElizabethWarren     2019-12-01 -0.006379  0.137086  0.070077  0.036909   \n",
       "JoeBiden            2019-12-01 -0.039787  0.069946 -0.076293  0.004495   \n",
       "Pete_Buttigieg      2019-12-01 -0.000170  0.099727  0.017700 -0.032778   \n",
       "SandersForPresident 2019-12-01  0.026570  0.079004  0.085845  0.001672   \n",
       "YangForPresidentHQ  2019-12-01  0.006304  0.016386 -0.019966  0.059291   \n",
       "\n",
       "                                     148       149       150  avg_dist  \n",
       "subreddit           date                                                \n",
       "BaemyKlobaechar     2019-01-01  0.040659 -0.048528  0.011097  0.652000  \n",
       "ElizabethWarren     2019-01-01  0.014581  0.120955  0.000003  0.593665  \n",
       "JoeBiden            2019-01-01 -0.056188 -0.093882  0.042998  1.300939  \n",
       "Pete_Buttigieg      2019-01-01 -0.063738  0.129256  0.041822  0.663928  \n",
       "SandersForPresident 2019-01-01  0.006743  0.141208 -0.032168  0.688554  \n",
       "...                                  ...       ...       ...       ...  \n",
       "ElizabethWarren     2019-12-01  0.097942  0.032499 -0.036539  0.317172  \n",
       "JoeBiden            2019-12-01  0.030407  0.076456 -0.055591  0.353236  \n",
       "Pete_Buttigieg      2019-12-01  0.059029  0.043908 -0.051225  0.339879  \n",
       "SandersForPresident 2019-12-01 -0.003014  0.076480 -0.037767  0.415099  \n",
       "YangForPresidentHQ  2019-12-01  0.003473  0.100733 -0.031142  0.425606  \n",
       "\n",
       "[72 rows x 151 columns]"
      ]
     },
     "execution_count": 27,
     "metadata": {},
     "output_type": "execute_result"
    }
   ],
   "source": [
    "def avg_distance(embedding,subreddit,date):\n",
    "    idx = pd.IndexSlice\n",
    "    filter_date = embedding.loc[idx[:,date], :]\n",
    "    sub_vec = filter_date.loc[idx[subreddit,:], :].to_numpy().flatten()\n",
    "    other_vecs = filter_date[~filter_date.index.isin([subreddit],level=0)].to_numpy()    \n",
    "    dists = np.apply_along_axis(lambda a : cos_dist(sub_vec,a), 1, other_vecs)\n",
    "    return np.mean(dists)\n",
    "just_cands = embedding[embedding.index.get_level_values(0).isin(left_candidates)]\n",
    "just_cands[\"avg_dist\"] = just_cands.apply(lambda x: avg_distance(just_cands,x.name[0],x.name[1]),axis=1)\n",
    "just_cands"
   ]
  },
  {
   "cell_type": "code",
   "execution_count": 1,
   "metadata": {},
   "outputs": [
    {
     "ename": "NameError",
     "evalue": "name 'mapping' is not defined",
     "output_type": "error",
     "traceback": [
      "\u001b[0;31m---------------------------------------------------------------------------\u001b[0m",
      "\u001b[0;31mNameError\u001b[0m                                 Traceback (most recent call last)",
      "\u001b[0;32m<ipython-input-1-d46541206f18>\u001b[0m in \u001b[0;36m<module>\u001b[0;34m\u001b[0m\n\u001b[1;32m      8\u001b[0m    \u001b[0;34m\"labels\"\u001b[0m\u001b[0;34m:\u001b[0m \u001b[0;34m{\u001b[0m\u001b[0;34m\"avg_dist\"\u001b[0m\u001b[0;34m:\u001b[0m \u001b[0;34m\"Cosine Distance\"\u001b[0m\u001b[0;34m,\u001b[0m \u001b[0;34m\"week\"\u001b[0m\u001b[0;34m:\u001b[0m \u001b[0;34m\"Month\"\u001b[0m\u001b[0;34m,\u001b[0m \u001b[0;34m\"subreddit\"\u001b[0m\u001b[0;34m:\u001b[0m \u001b[0;34m\"Subreddit\"\u001b[0m\u001b[0;34m}\u001b[0m\u001b[0;34m,\u001b[0m\u001b[0;34m\u001b[0m\u001b[0;34m\u001b[0m\u001b[0m\n\u001b[1;32m      9\u001b[0m    \u001b[0;34m\"range_y\"\u001b[0m\u001b[0;34m:\u001b[0m \u001b[0;34m[\u001b[0m\u001b[0;36m0\u001b[0m\u001b[0;34m,\u001b[0m\u001b[0;36m2\u001b[0m\u001b[0;34m]\u001b[0m\u001b[0;34m,\u001b[0m\u001b[0;34m\u001b[0m\u001b[0;34m\u001b[0m\u001b[0m\n\u001b[0;32m---> 10\u001b[0;31m    \u001b[0;34m\"color_discrete_map\"\u001b[0m\u001b[0;34m:\u001b[0m \u001b[0mmapping\u001b[0m\u001b[0;34m\u001b[0m\u001b[0;34m\u001b[0m\u001b[0m\n\u001b[0m\u001b[1;32m     11\u001b[0m \u001b[0;34m\u001b[0m\u001b[0m\n\u001b[1;32m     12\u001b[0m }\n",
      "\u001b[0;31mNameError\u001b[0m: name 'mapping' is not defined"
     ]
    }
   ],
   "source": [
    " args = {\n",
    "    \"x\": \"date\",\n",
    "    \"y\": \"avg_dist\",\n",
    "    \"color\": \"subreddit\",\n",
    "    \"line_shape\": \"spline\",\n",
    "    \"title\":  \"Cosine distance from other political subreddit embeddings\",\n",
    "    \"template\": \"simple_white\",\n",
    "    \"labels\": {\"avg_dist\": \"Cosine Distance\", \"week\": \"Month\", \"subreddit\": \"Subreddit\"},\n",
    "    \"range_y\": [0,2],\n",
    "    \"color_discrete_map\": mapping\n",
    "\n",
    "}\n",
    "\n",
    "fig = px.line(just_cands.to_records(),**args)\n",
    "\n",
    "fig.write_html(\"visualizations/temporal/{}_cos_dist_over_time.html\".format(TIME_FRAME))\n",
    "fig.show()"
   ]
  },
  {
   "cell_type": "markdown",
   "metadata": {},
   "source": [
    "### Correlation Matrix"
   ]
  },
  {
   "cell_type": "code",
   "execution_count": 55,
   "metadata": {},
   "outputs": [
    {
     "data": {
      "text/html": [
       "<div>\n",
       "<style scoped>\n",
       "    .dataframe tbody tr th:only-of-type {\n",
       "        vertical-align: middle;\n",
       "    }\n",
       "\n",
       "    .dataframe tbody tr th {\n",
       "        vertical-align: top;\n",
       "    }\n",
       "\n",
       "    .dataframe thead th {\n",
       "        text-align: right;\n",
       "    }\n",
       "</style>\n",
       "<table border=\"1\" class=\"dataframe\">\n",
       "  <thead>\n",
       "    <tr style=\"text-align: right;\">\n",
       "      <th></th>\n",
       "      <th>embedding</th>\n",
       "      <th>subreddit</th>\n",
       "      <th>date</th>\n",
       "    </tr>\n",
       "  </thead>\n",
       "  <tbody>\n",
       "    <tr>\n",
       "      <th>0</th>\n",
       "      <td>-0.274251</td>\n",
       "      <td>BaemyKlobaechar</td>\n",
       "      <td>2019-01-01</td>\n",
       "    </tr>\n",
       "    <tr>\n",
       "      <th>1</th>\n",
       "      <td>-0.039632</td>\n",
       "      <td>ElizabethWarren</td>\n",
       "      <td>2019-01-01</td>\n",
       "    </tr>\n",
       "    <tr>\n",
       "      <th>2</th>\n",
       "      <td>0.178165</td>\n",
       "      <td>JoeBiden</td>\n",
       "      <td>2019-01-01</td>\n",
       "    </tr>\n",
       "    <tr>\n",
       "      <th>3</th>\n",
       "      <td>-0.135721</td>\n",
       "      <td>Pete_Buttigieg</td>\n",
       "      <td>2019-01-01</td>\n",
       "    </tr>\n",
       "    <tr>\n",
       "      <th>4</th>\n",
       "      <td>0.274526</td>\n",
       "      <td>SandersForPresident</td>\n",
       "      <td>2019-01-01</td>\n",
       "    </tr>\n",
       "    <tr>\n",
       "      <th>...</th>\n",
       "      <td>...</td>\n",
       "      <td>...</td>\n",
       "      <td>...</td>\n",
       "    </tr>\n",
       "    <tr>\n",
       "      <th>67</th>\n",
       "      <td>-0.140742</td>\n",
       "      <td>ElizabethWarren</td>\n",
       "      <td>2019-12-01</td>\n",
       "    </tr>\n",
       "    <tr>\n",
       "      <th>68</th>\n",
       "      <td>-0.116705</td>\n",
       "      <td>JoeBiden</td>\n",
       "      <td>2019-12-01</td>\n",
       "    </tr>\n",
       "    <tr>\n",
       "      <th>69</th>\n",
       "      <td>-0.181723</td>\n",
       "      <td>Pete_Buttigieg</td>\n",
       "      <td>2019-12-01</td>\n",
       "    </tr>\n",
       "    <tr>\n",
       "      <th>70</th>\n",
       "      <td>0.278385</td>\n",
       "      <td>SandersForPresident</td>\n",
       "      <td>2019-12-01</td>\n",
       "    </tr>\n",
       "    <tr>\n",
       "      <th>71</th>\n",
       "      <td>0.534910</td>\n",
       "      <td>YangForPresidentHQ</td>\n",
       "      <td>2019-12-01</td>\n",
       "    </tr>\n",
       "  </tbody>\n",
       "</table>\n",
       "<p>72 rows × 3 columns</p>\n",
       "</div>"
      ],
      "text/plain": [
       "    embedding            subreddit       date\n",
       "0   -0.274251      BaemyKlobaechar 2019-01-01\n",
       "1   -0.039632      ElizabethWarren 2019-01-01\n",
       "2    0.178165             JoeBiden 2019-01-01\n",
       "3   -0.135721       Pete_Buttigieg 2019-01-01\n",
       "4    0.274526  SandersForPresident 2019-01-01\n",
       "..        ...                  ...        ...\n",
       "67  -0.140742      ElizabethWarren 2019-12-01\n",
       "68  -0.116705             JoeBiden 2019-12-01\n",
       "69  -0.181723       Pete_Buttigieg 2019-12-01\n",
       "70   0.278385  SandersForPresident 2019-12-01\n",
       "71   0.534910   YangForPresidentHQ 2019-12-01\n",
       "\n",
       "[72 rows x 3 columns]"
      ]
     },
     "execution_count": 55,
     "metadata": {},
     "output_type": "execute_result"
    }
   ],
   "source": [
    "from sklearn.decomposition import PCA\n",
    "pca =  PCA(n_components = 1)\n",
    "one_dim =  pd.DataFrame(pca.fit_transform(just_cands))\n",
    "one_dim.columns = [\"embedding\"]\n",
    "one_dim[\"subreddit\"],one_dim[\"date\"] = just_cands.index.get_level_values(0),just_cands.index.get_level_values(1)\n",
    "one_dim"
   ]
  },
  {
   "cell_type": "code",
   "execution_count": 59,
   "metadata": {},
   "outputs": [
    {
     "data": {
      "text/html": [
       "<div>\n",
       "<style scoped>\n",
       "    .dataframe tbody tr th:only-of-type {\n",
       "        vertical-align: middle;\n",
       "    }\n",
       "\n",
       "    .dataframe tbody tr th {\n",
       "        vertical-align: top;\n",
       "    }\n",
       "\n",
       "    .dataframe thead th {\n",
       "        text-align: right;\n",
       "    }\n",
       "</style>\n",
       "<table border=\"1\" class=\"dataframe\">\n",
       "  <thead>\n",
       "    <tr style=\"text-align: right;\">\n",
       "      <th>subreddit</th>\n",
       "      <th>BaemyKlobaechar</th>\n",
       "      <th>ElizabethWarren</th>\n",
       "      <th>JoeBiden</th>\n",
       "      <th>Pete_Buttigieg</th>\n",
       "      <th>SandersForPresident</th>\n",
       "      <th>YangForPresidentHQ</th>\n",
       "    </tr>\n",
       "    <tr>\n",
       "      <th>date</th>\n",
       "      <th></th>\n",
       "      <th></th>\n",
       "      <th></th>\n",
       "      <th></th>\n",
       "      <th></th>\n",
       "      <th></th>\n",
       "    </tr>\n",
       "  </thead>\n",
       "  <tbody>\n",
       "    <tr>\n",
       "      <th>2019-01-01</th>\n",
       "      <td>-0.274251</td>\n",
       "      <td>-0.039632</td>\n",
       "      <td>0.178165</td>\n",
       "      <td>-0.135721</td>\n",
       "      <td>0.274526</td>\n",
       "      <td>0.252925</td>\n",
       "    </tr>\n",
       "    <tr>\n",
       "      <th>2019-02-01</th>\n",
       "      <td>-0.325830</td>\n",
       "      <td>-0.198741</td>\n",
       "      <td>0.048353</td>\n",
       "      <td>-0.272308</td>\n",
       "      <td>0.296395</td>\n",
       "      <td>0.364592</td>\n",
       "    </tr>\n",
       "    <tr>\n",
       "      <th>2019-03-01</th>\n",
       "      <td>-0.322148</td>\n",
       "      <td>-0.259927</td>\n",
       "      <td>-0.264737</td>\n",
       "      <td>-0.223232</td>\n",
       "      <td>0.307119</td>\n",
       "      <td>0.465974</td>\n",
       "    </tr>\n",
       "    <tr>\n",
       "      <th>2019-04-01</th>\n",
       "      <td>-0.332574</td>\n",
       "      <td>-0.136886</td>\n",
       "      <td>-0.159660</td>\n",
       "      <td>-0.227543</td>\n",
       "      <td>0.276641</td>\n",
       "      <td>0.430290</td>\n",
       "    </tr>\n",
       "    <tr>\n",
       "      <th>2019-05-01</th>\n",
       "      <td>-0.315489</td>\n",
       "      <td>-0.235753</td>\n",
       "      <td>-0.095356</td>\n",
       "      <td>-0.271677</td>\n",
       "      <td>0.279874</td>\n",
       "      <td>0.485005</td>\n",
       "    </tr>\n",
       "    <tr>\n",
       "      <th>2019-06-01</th>\n",
       "      <td>-0.314983</td>\n",
       "      <td>-0.184222</td>\n",
       "      <td>-0.127715</td>\n",
       "      <td>-0.240571</td>\n",
       "      <td>0.339482</td>\n",
       "      <td>0.499873</td>\n",
       "    </tr>\n",
       "    <tr>\n",
       "      <th>2019-07-01</th>\n",
       "      <td>-0.235119</td>\n",
       "      <td>-0.189095</td>\n",
       "      <td>-0.156991</td>\n",
       "      <td>-0.248519</td>\n",
       "      <td>0.318359</td>\n",
       "      <td>0.557279</td>\n",
       "    </tr>\n",
       "    <tr>\n",
       "      <th>2019-08-01</th>\n",
       "      <td>-0.363184</td>\n",
       "      <td>-0.127331</td>\n",
       "      <td>-0.218693</td>\n",
       "      <td>-0.246472</td>\n",
       "      <td>0.338889</td>\n",
       "      <td>0.552463</td>\n",
       "    </tr>\n",
       "    <tr>\n",
       "      <th>2019-09-01</th>\n",
       "      <td>-0.297927</td>\n",
       "      <td>-0.148902</td>\n",
       "      <td>-0.166773</td>\n",
       "      <td>-0.207718</td>\n",
       "      <td>0.350399</td>\n",
       "      <td>0.576151</td>\n",
       "    </tr>\n",
       "    <tr>\n",
       "      <th>2019-10-01</th>\n",
       "      <td>-0.252721</td>\n",
       "      <td>-0.123922</td>\n",
       "      <td>-0.150480</td>\n",
       "      <td>-0.243341</td>\n",
       "      <td>0.335692</td>\n",
       "      <td>0.567979</td>\n",
       "    </tr>\n",
       "    <tr>\n",
       "      <th>2019-11-01</th>\n",
       "      <td>-0.247821</td>\n",
       "      <td>-0.161853</td>\n",
       "      <td>-0.221586</td>\n",
       "      <td>-0.210754</td>\n",
       "      <td>0.284686</td>\n",
       "      <td>0.575811</td>\n",
       "    </tr>\n",
       "    <tr>\n",
       "      <th>2019-12-01</th>\n",
       "      <td>-0.152887</td>\n",
       "      <td>-0.140742</td>\n",
       "      <td>-0.116705</td>\n",
       "      <td>-0.181723</td>\n",
       "      <td>0.278385</td>\n",
       "      <td>0.534910</td>\n",
       "    </tr>\n",
       "  </tbody>\n",
       "</table>\n",
       "</div>"
      ],
      "text/plain": [
       "subreddit   BaemyKlobaechar  ElizabethWarren  JoeBiden  Pete_Buttigieg  \\\n",
       "date                                                                     \n",
       "2019-01-01        -0.274251        -0.039632  0.178165       -0.135721   \n",
       "2019-02-01        -0.325830        -0.198741  0.048353       -0.272308   \n",
       "2019-03-01        -0.322148        -0.259927 -0.264737       -0.223232   \n",
       "2019-04-01        -0.332574        -0.136886 -0.159660       -0.227543   \n",
       "2019-05-01        -0.315489        -0.235753 -0.095356       -0.271677   \n",
       "2019-06-01        -0.314983        -0.184222 -0.127715       -0.240571   \n",
       "2019-07-01        -0.235119        -0.189095 -0.156991       -0.248519   \n",
       "2019-08-01        -0.363184        -0.127331 -0.218693       -0.246472   \n",
       "2019-09-01        -0.297927        -0.148902 -0.166773       -0.207718   \n",
       "2019-10-01        -0.252721        -0.123922 -0.150480       -0.243341   \n",
       "2019-11-01        -0.247821        -0.161853 -0.221586       -0.210754   \n",
       "2019-12-01        -0.152887        -0.140742 -0.116705       -0.181723   \n",
       "\n",
       "subreddit   SandersForPresident  YangForPresidentHQ  \n",
       "date                                                 \n",
       "2019-01-01             0.274526            0.252925  \n",
       "2019-02-01             0.296395            0.364592  \n",
       "2019-03-01             0.307119            0.465974  \n",
       "2019-04-01             0.276641            0.430290  \n",
       "2019-05-01             0.279874            0.485005  \n",
       "2019-06-01             0.339482            0.499873  \n",
       "2019-07-01             0.318359            0.557279  \n",
       "2019-08-01             0.338889            0.552463  \n",
       "2019-09-01             0.350399            0.576151  \n",
       "2019-10-01             0.335692            0.567979  \n",
       "2019-11-01             0.284686            0.575811  \n",
       "2019-12-01             0.278385            0.534910  "
      ]
     },
     "execution_count": 59,
     "metadata": {},
     "output_type": "execute_result"
    }
   ],
   "source": [
    "pivot = one_dim.pivot(index='date', columns='subreddit', values=\"embedding\")\n",
    "correlation = np.corrcoef(pivot.to_numpy())\n",
    "pivot"
   ]
  },
  {
   "cell_type": "code",
   "execution_count": 58,
   "metadata": {
    "scrolled": true
   },
   "outputs": [
    {
     "data": {
      "application/vnd.plotly.v1+json": {
       "config": {
        "plotlyServerURL": "https://plot.ly"
       },
       "data": [
        {
         "type": "heatmap",
         "x": [
          "BaemyKlobaechar",
          "ElizabethWarren",
          "JoeBiden",
          "Pete_Buttigieg",
          "SandersForPresident",
          "YangForPresidentHQ"
         ],
         "y": [
          "BaemyKlobaechar",
          "ElizabethWarren",
          "JoeBiden",
          "Pete_Buttigieg",
          "SandersForPresident",
          "YangForPresidentHQ"
         ],
         "z": [
          [
           0.9999999999999999,
           0.9532458495872596,
           0.7654735045468201,
           0.8426682070015936,
           0.8605078561116257,
           0.848585171785006,
           0.7841765963128768,
           0.8054140087649759,
           0.8035370000172481,
           0.7978056308557786,
           0.7358405533808395,
           0.7522162826515315
          ],
          [
           0.9532458495872597,
           0.9999999999999998,
           0.9050052381984086,
           0.9415869235041027,
           0.9690081774786788,
           0.9567891373073041,
           0.9263698548416226,
           0.917070082628147,
           0.9265998720739913,
           0.9268280495495008,
           0.8869676519878167,
           0.9073700546104699
          ],
          [
           0.76547350454682,
           0.9050052381984085,
           1,
           0.9831325676122683,
           0.9747848289463693,
           0.9871533689014927,
           0.9883523206801422,
           0.9854667097353005,
           0.9927078041854112,
           0.9854866342038376,
           0.98888741523569,
           0.9829866245566543
          ],
          [
           0.8426682070015936,
           0.9415869235041026,
           0.9831325676122683,
           1,
           0.9844023807111719,
           0.9956841783846647,
           0.9839599352075625,
           0.9976134881906089,
           0.9959385627568136,
           0.992282427341844,
           0.9804432428640324,
           0.9735558213113089
          ],
          [
           0.8605078561116258,
           0.9690081774786788,
           0.9747848289463693,
           0.984402380711172,
           0.9999999999999998,
           0.9950364388694177,
           0.9891691706928659,
           0.9754857683214486,
           0.9864637792642452,
           0.9862475805055082,
           0.9718495733604702,
           0.9819520488829999
          ],
          [
           0.848585171785006,
           0.9567891373073042,
           0.9871533689014926,
           0.9956841783846648,
           0.9950364388694177,
           1,
           0.9913623520852133,
           0.9902721572067229,
           0.9954376410224024,
           0.9929972190715091,
           0.9803367985216673,
           0.98179011079119
          ],
          [
           0.7841765963128768,
           0.9263698548416226,
           0.9883523206801422,
           0.9839599352075625,
           0.9891691706928658,
           0.9913623520852133,
           1,
           0.9845913160275453,
           0.9940628120151367,
           0.9968173112609159,
           0.9933668845056355,
           0.9979231147927218
          ],
          [
           0.8054140087649759,
           0.9170700826281469,
           0.9854667097353004,
           0.9976134881906089,
           0.9754857683214486,
           0.9902721572067228,
           0.9845913160275451,
           1,
           0.9968149856423235,
           0.9937392794874353,
           0.9878071199836628,
           0.9768770325449115
          ],
          [
           0.803537000017248,
           0.9265998720739914,
           0.9927078041854112,
           0.9959385627568136,
           0.9864637792642452,
           0.9954376410224024,
           0.9940628120151366,
           0.9968149856423236,
           1,
           0.9970198902608082,
           0.9934282945967011,
           0.9885462661160463
          ],
          [
           0.7978056308557785,
           0.9268280495495008,
           0.9854866342038376,
           0.992282427341844,
           0.9862475805055084,
           0.9929972190715092,
           0.996817311260916,
           0.9937392794874353,
           0.9970198902608082,
           1,
           0.993218613722844,
           0.9925512298166818
          ],
          [
           0.7358405533808394,
           0.8869676519878167,
           0.9888874152356899,
           0.9804432428640324,
           0.9718495733604703,
           0.9803367985216673,
           0.9933668845056356,
           0.9878071199836628,
           0.9934282945967012,
           0.9932186137228439,
           1,
           0.9946400083740846
          ],
          [
           0.7522162826515315,
           0.9073700546104699,
           0.9829866245566543,
           0.9735558213113089,
           0.9819520488830001,
           0.98179011079119,
           0.9979231147927218,
           0.9768770325449116,
           0.9885462661160465,
           0.9925512298166819,
           0.9946400083740846,
           0.9999999999999998
          ]
         ]
        }
       ],
       "layout": {
        "template": {
         "data": {
          "bar": [
           {
            "error_x": {
             "color": "#2a3f5f"
            },
            "error_y": {
             "color": "#2a3f5f"
            },
            "marker": {
             "line": {
              "color": "#E5ECF6",
              "width": 0.5
             }
            },
            "type": "bar"
           }
          ],
          "barpolar": [
           {
            "marker": {
             "line": {
              "color": "#E5ECF6",
              "width": 0.5
             }
            },
            "type": "barpolar"
           }
          ],
          "carpet": [
           {
            "aaxis": {
             "endlinecolor": "#2a3f5f",
             "gridcolor": "white",
             "linecolor": "white",
             "minorgridcolor": "white",
             "startlinecolor": "#2a3f5f"
            },
            "baxis": {
             "endlinecolor": "#2a3f5f",
             "gridcolor": "white",
             "linecolor": "white",
             "minorgridcolor": "white",
             "startlinecolor": "#2a3f5f"
            },
            "type": "carpet"
           }
          ],
          "choropleth": [
           {
            "colorbar": {
             "outlinewidth": 0,
             "ticks": ""
            },
            "type": "choropleth"
           }
          ],
          "contour": [
           {
            "colorbar": {
             "outlinewidth": 0,
             "ticks": ""
            },
            "colorscale": [
             [
              0,
              "#0d0887"
             ],
             [
              0.1111111111111111,
              "#46039f"
             ],
             [
              0.2222222222222222,
              "#7201a8"
             ],
             [
              0.3333333333333333,
              "#9c179e"
             ],
             [
              0.4444444444444444,
              "#bd3786"
             ],
             [
              0.5555555555555556,
              "#d8576b"
             ],
             [
              0.6666666666666666,
              "#ed7953"
             ],
             [
              0.7777777777777778,
              "#fb9f3a"
             ],
             [
              0.8888888888888888,
              "#fdca26"
             ],
             [
              1,
              "#f0f921"
             ]
            ],
            "type": "contour"
           }
          ],
          "contourcarpet": [
           {
            "colorbar": {
             "outlinewidth": 0,
             "ticks": ""
            },
            "type": "contourcarpet"
           }
          ],
          "heatmap": [
           {
            "colorbar": {
             "outlinewidth": 0,
             "ticks": ""
            },
            "colorscale": [
             [
              0,
              "#0d0887"
             ],
             [
              0.1111111111111111,
              "#46039f"
             ],
             [
              0.2222222222222222,
              "#7201a8"
             ],
             [
              0.3333333333333333,
              "#9c179e"
             ],
             [
              0.4444444444444444,
              "#bd3786"
             ],
             [
              0.5555555555555556,
              "#d8576b"
             ],
             [
              0.6666666666666666,
              "#ed7953"
             ],
             [
              0.7777777777777778,
              "#fb9f3a"
             ],
             [
              0.8888888888888888,
              "#fdca26"
             ],
             [
              1,
              "#f0f921"
             ]
            ],
            "type": "heatmap"
           }
          ],
          "heatmapgl": [
           {
            "colorbar": {
             "outlinewidth": 0,
             "ticks": ""
            },
            "colorscale": [
             [
              0,
              "#0d0887"
             ],
             [
              0.1111111111111111,
              "#46039f"
             ],
             [
              0.2222222222222222,
              "#7201a8"
             ],
             [
              0.3333333333333333,
              "#9c179e"
             ],
             [
              0.4444444444444444,
              "#bd3786"
             ],
             [
              0.5555555555555556,
              "#d8576b"
             ],
             [
              0.6666666666666666,
              "#ed7953"
             ],
             [
              0.7777777777777778,
              "#fb9f3a"
             ],
             [
              0.8888888888888888,
              "#fdca26"
             ],
             [
              1,
              "#f0f921"
             ]
            ],
            "type": "heatmapgl"
           }
          ],
          "histogram": [
           {
            "marker": {
             "colorbar": {
              "outlinewidth": 0,
              "ticks": ""
             }
            },
            "type": "histogram"
           }
          ],
          "histogram2d": [
           {
            "colorbar": {
             "outlinewidth": 0,
             "ticks": ""
            },
            "colorscale": [
             [
              0,
              "#0d0887"
             ],
             [
              0.1111111111111111,
              "#46039f"
             ],
             [
              0.2222222222222222,
              "#7201a8"
             ],
             [
              0.3333333333333333,
              "#9c179e"
             ],
             [
              0.4444444444444444,
              "#bd3786"
             ],
             [
              0.5555555555555556,
              "#d8576b"
             ],
             [
              0.6666666666666666,
              "#ed7953"
             ],
             [
              0.7777777777777778,
              "#fb9f3a"
             ],
             [
              0.8888888888888888,
              "#fdca26"
             ],
             [
              1,
              "#f0f921"
             ]
            ],
            "type": "histogram2d"
           }
          ],
          "histogram2dcontour": [
           {
            "colorbar": {
             "outlinewidth": 0,
             "ticks": ""
            },
            "colorscale": [
             [
              0,
              "#0d0887"
             ],
             [
              0.1111111111111111,
              "#46039f"
             ],
             [
              0.2222222222222222,
              "#7201a8"
             ],
             [
              0.3333333333333333,
              "#9c179e"
             ],
             [
              0.4444444444444444,
              "#bd3786"
             ],
             [
              0.5555555555555556,
              "#d8576b"
             ],
             [
              0.6666666666666666,
              "#ed7953"
             ],
             [
              0.7777777777777778,
              "#fb9f3a"
             ],
             [
              0.8888888888888888,
              "#fdca26"
             ],
             [
              1,
              "#f0f921"
             ]
            ],
            "type": "histogram2dcontour"
           }
          ],
          "mesh3d": [
           {
            "colorbar": {
             "outlinewidth": 0,
             "ticks": ""
            },
            "type": "mesh3d"
           }
          ],
          "parcoords": [
           {
            "line": {
             "colorbar": {
              "outlinewidth": 0,
              "ticks": ""
             }
            },
            "type": "parcoords"
           }
          ],
          "pie": [
           {
            "automargin": true,
            "type": "pie"
           }
          ],
          "scatter": [
           {
            "marker": {
             "colorbar": {
              "outlinewidth": 0,
              "ticks": ""
             }
            },
            "type": "scatter"
           }
          ],
          "scatter3d": [
           {
            "line": {
             "colorbar": {
              "outlinewidth": 0,
              "ticks": ""
             }
            },
            "marker": {
             "colorbar": {
              "outlinewidth": 0,
              "ticks": ""
             }
            },
            "type": "scatter3d"
           }
          ],
          "scattercarpet": [
           {
            "marker": {
             "colorbar": {
              "outlinewidth": 0,
              "ticks": ""
             }
            },
            "type": "scattercarpet"
           }
          ],
          "scattergeo": [
           {
            "marker": {
             "colorbar": {
              "outlinewidth": 0,
              "ticks": ""
             }
            },
            "type": "scattergeo"
           }
          ],
          "scattergl": [
           {
            "marker": {
             "colorbar": {
              "outlinewidth": 0,
              "ticks": ""
             }
            },
            "type": "scattergl"
           }
          ],
          "scattermapbox": [
           {
            "marker": {
             "colorbar": {
              "outlinewidth": 0,
              "ticks": ""
             }
            },
            "type": "scattermapbox"
           }
          ],
          "scatterpolar": [
           {
            "marker": {
             "colorbar": {
              "outlinewidth": 0,
              "ticks": ""
             }
            },
            "type": "scatterpolar"
           }
          ],
          "scatterpolargl": [
           {
            "marker": {
             "colorbar": {
              "outlinewidth": 0,
              "ticks": ""
             }
            },
            "type": "scatterpolargl"
           }
          ],
          "scatterternary": [
           {
            "marker": {
             "colorbar": {
              "outlinewidth": 0,
              "ticks": ""
             }
            },
            "type": "scatterternary"
           }
          ],
          "surface": [
           {
            "colorbar": {
             "outlinewidth": 0,
             "ticks": ""
            },
            "colorscale": [
             [
              0,
              "#0d0887"
             ],
             [
              0.1111111111111111,
              "#46039f"
             ],
             [
              0.2222222222222222,
              "#7201a8"
             ],
             [
              0.3333333333333333,
              "#9c179e"
             ],
             [
              0.4444444444444444,
              "#bd3786"
             ],
             [
              0.5555555555555556,
              "#d8576b"
             ],
             [
              0.6666666666666666,
              "#ed7953"
             ],
             [
              0.7777777777777778,
              "#fb9f3a"
             ],
             [
              0.8888888888888888,
              "#fdca26"
             ],
             [
              1,
              "#f0f921"
             ]
            ],
            "type": "surface"
           }
          ],
          "table": [
           {
            "cells": {
             "fill": {
              "color": "#EBF0F8"
             },
             "line": {
              "color": "white"
             }
            },
            "header": {
             "fill": {
              "color": "#C8D4E3"
             },
             "line": {
              "color": "white"
             }
            },
            "type": "table"
           }
          ]
         },
         "layout": {
          "annotationdefaults": {
           "arrowcolor": "#2a3f5f",
           "arrowhead": 0,
           "arrowwidth": 1
          },
          "coloraxis": {
           "colorbar": {
            "outlinewidth": 0,
            "ticks": ""
           }
          },
          "colorscale": {
           "diverging": [
            [
             0,
             "#8e0152"
            ],
            [
             0.1,
             "#c51b7d"
            ],
            [
             0.2,
             "#de77ae"
            ],
            [
             0.3,
             "#f1b6da"
            ],
            [
             0.4,
             "#fde0ef"
            ],
            [
             0.5,
             "#f7f7f7"
            ],
            [
             0.6,
             "#e6f5d0"
            ],
            [
             0.7,
             "#b8e186"
            ],
            [
             0.8,
             "#7fbc41"
            ],
            [
             0.9,
             "#4d9221"
            ],
            [
             1,
             "#276419"
            ]
           ],
           "sequential": [
            [
             0,
             "#0d0887"
            ],
            [
             0.1111111111111111,
             "#46039f"
            ],
            [
             0.2222222222222222,
             "#7201a8"
            ],
            [
             0.3333333333333333,
             "#9c179e"
            ],
            [
             0.4444444444444444,
             "#bd3786"
            ],
            [
             0.5555555555555556,
             "#d8576b"
            ],
            [
             0.6666666666666666,
             "#ed7953"
            ],
            [
             0.7777777777777778,
             "#fb9f3a"
            ],
            [
             0.8888888888888888,
             "#fdca26"
            ],
            [
             1,
             "#f0f921"
            ]
           ],
           "sequentialminus": [
            [
             0,
             "#0d0887"
            ],
            [
             0.1111111111111111,
             "#46039f"
            ],
            [
             0.2222222222222222,
             "#7201a8"
            ],
            [
             0.3333333333333333,
             "#9c179e"
            ],
            [
             0.4444444444444444,
             "#bd3786"
            ],
            [
             0.5555555555555556,
             "#d8576b"
            ],
            [
             0.6666666666666666,
             "#ed7953"
            ],
            [
             0.7777777777777778,
             "#fb9f3a"
            ],
            [
             0.8888888888888888,
             "#fdca26"
            ],
            [
             1,
             "#f0f921"
            ]
           ]
          },
          "colorway": [
           "#636efa",
           "#EF553B",
           "#00cc96",
           "#ab63fa",
           "#FFA15A",
           "#19d3f3",
           "#FF6692",
           "#B6E880",
           "#FF97FF",
           "#FECB52"
          ],
          "font": {
           "color": "#2a3f5f"
          },
          "geo": {
           "bgcolor": "white",
           "lakecolor": "white",
           "landcolor": "#E5ECF6",
           "showlakes": true,
           "showland": true,
           "subunitcolor": "white"
          },
          "hoverlabel": {
           "align": "left"
          },
          "hovermode": "closest",
          "mapbox": {
           "style": "light"
          },
          "paper_bgcolor": "white",
          "plot_bgcolor": "#E5ECF6",
          "polar": {
           "angularaxis": {
            "gridcolor": "white",
            "linecolor": "white",
            "ticks": ""
           },
           "bgcolor": "#E5ECF6",
           "radialaxis": {
            "gridcolor": "white",
            "linecolor": "white",
            "ticks": ""
           }
          },
          "scene": {
           "xaxis": {
            "backgroundcolor": "#E5ECF6",
            "gridcolor": "white",
            "gridwidth": 2,
            "linecolor": "white",
            "showbackground": true,
            "ticks": "",
            "zerolinecolor": "white"
           },
           "yaxis": {
            "backgroundcolor": "#E5ECF6",
            "gridcolor": "white",
            "gridwidth": 2,
            "linecolor": "white",
            "showbackground": true,
            "ticks": "",
            "zerolinecolor": "white"
           },
           "zaxis": {
            "backgroundcolor": "#E5ECF6",
            "gridcolor": "white",
            "gridwidth": 2,
            "linecolor": "white",
            "showbackground": true,
            "ticks": "",
            "zerolinecolor": "white"
           }
          },
          "shapedefaults": {
           "line": {
            "color": "#2a3f5f"
           }
          },
          "ternary": {
           "aaxis": {
            "gridcolor": "white",
            "linecolor": "white",
            "ticks": ""
           },
           "baxis": {
            "gridcolor": "white",
            "linecolor": "white",
            "ticks": ""
           },
           "bgcolor": "#E5ECF6",
           "caxis": {
            "gridcolor": "white",
            "linecolor": "white",
            "ticks": ""
           }
          },
          "title": {
           "x": 0.05
          },
          "xaxis": {
           "automargin": true,
           "gridcolor": "white",
           "linecolor": "white",
           "ticks": "",
           "title": {
            "standoff": 15
           },
           "zerolinecolor": "white",
           "zerolinewidth": 2
          },
          "yaxis": {
           "automargin": true,
           "gridcolor": "white",
           "linecolor": "white",
           "ticks": "",
           "title": {
            "standoff": 15
           },
           "zerolinecolor": "white",
           "zerolinewidth": 2
          }
         }
        },
        "title": {
         "text": "Candidate Vector Correlation Over Time - 1-Dim PCA (Monthly)"
        },
        "xaxis": {
         "title": {
          "text": "Candidate"
         }
        },
        "yaxis": {
         "title": {
          "text": "Candidate"
         }
        }
       }
      },
      "text/html": [
       "<div>\n",
       "        \n",
       "        \n",
       "            <div id=\"2184fa7b-9222-4408-8dd5-e304dec4fa0f\" class=\"plotly-graph-div\" style=\"height:525px; width:100%;\"></div>\n",
       "            <script type=\"text/javascript\">\n",
       "                require([\"plotly\"], function(Plotly) {\n",
       "                    window.PLOTLYENV=window.PLOTLYENV || {};\n",
       "                    \n",
       "                if (document.getElementById(\"2184fa7b-9222-4408-8dd5-e304dec4fa0f\")) {\n",
       "                    Plotly.newPlot(\n",
       "                        '2184fa7b-9222-4408-8dd5-e304dec4fa0f',\n",
       "                        [{\"type\": \"heatmap\", \"x\": [\"BaemyKlobaechar\", \"ElizabethWarren\", \"JoeBiden\", \"Pete_Buttigieg\", \"SandersForPresident\", \"YangForPresidentHQ\"], \"y\": [\"BaemyKlobaechar\", \"ElizabethWarren\", \"JoeBiden\", \"Pete_Buttigieg\", \"SandersForPresident\", \"YangForPresidentHQ\"], \"z\": [[0.9999999999999999, 0.9532458495872596, 0.7654735045468201, 0.8426682070015936, 0.8605078561116257, 0.848585171785006, 0.7841765963128768, 0.8054140087649759, 0.8035370000172481, 0.7978056308557786, 0.7358405533808395, 0.7522162826515315], [0.9532458495872597, 0.9999999999999998, 0.9050052381984086, 0.9415869235041027, 0.9690081774786788, 0.9567891373073041, 0.9263698548416226, 0.917070082628147, 0.9265998720739913, 0.9268280495495008, 0.8869676519878167, 0.9073700546104699], [0.76547350454682, 0.9050052381984085, 1.0, 0.9831325676122683, 0.9747848289463693, 0.9871533689014927, 0.9883523206801422, 0.9854667097353005, 0.9927078041854112, 0.9854866342038376, 0.98888741523569, 0.9829866245566543], [0.8426682070015936, 0.9415869235041026, 0.9831325676122683, 1.0, 0.9844023807111719, 0.9956841783846647, 0.9839599352075625, 0.9976134881906089, 0.9959385627568136, 0.992282427341844, 0.9804432428640324, 0.9735558213113089], [0.8605078561116258, 0.9690081774786788, 0.9747848289463693, 0.984402380711172, 0.9999999999999998, 0.9950364388694177, 0.9891691706928659, 0.9754857683214486, 0.9864637792642452, 0.9862475805055082, 0.9718495733604702, 0.9819520488829999], [0.848585171785006, 0.9567891373073042, 0.9871533689014926, 0.9956841783846648, 0.9950364388694177, 1.0, 0.9913623520852133, 0.9902721572067229, 0.9954376410224024, 0.9929972190715091, 0.9803367985216673, 0.98179011079119], [0.7841765963128768, 0.9263698548416226, 0.9883523206801422, 0.9839599352075625, 0.9891691706928658, 0.9913623520852133, 1.0, 0.9845913160275453, 0.9940628120151367, 0.9968173112609159, 0.9933668845056355, 0.9979231147927218], [0.8054140087649759, 0.9170700826281469, 0.9854667097353004, 0.9976134881906089, 0.9754857683214486, 0.9902721572067228, 0.9845913160275451, 1.0, 0.9968149856423235, 0.9937392794874353, 0.9878071199836628, 0.9768770325449115], [0.803537000017248, 0.9265998720739914, 0.9927078041854112, 0.9959385627568136, 0.9864637792642452, 0.9954376410224024, 0.9940628120151366, 0.9968149856423236, 1.0, 0.9970198902608082, 0.9934282945967011, 0.9885462661160463], [0.7978056308557785, 0.9268280495495008, 0.9854866342038376, 0.992282427341844, 0.9862475805055084, 0.9929972190715092, 0.996817311260916, 0.9937392794874353, 0.9970198902608082, 1.0, 0.993218613722844, 0.9925512298166818], [0.7358405533808394, 0.8869676519878167, 0.9888874152356899, 0.9804432428640324, 0.9718495733604703, 0.9803367985216673, 0.9933668845056356, 0.9878071199836628, 0.9934282945967012, 0.9932186137228439, 1.0, 0.9946400083740846], [0.7522162826515315, 0.9073700546104699, 0.9829866245566543, 0.9735558213113089, 0.9819520488830001, 0.98179011079119, 0.9979231147927218, 0.9768770325449116, 0.9885462661160465, 0.9925512298166819, 0.9946400083740846, 0.9999999999999998]]}],\n",
       "                        {\"template\": {\"data\": {\"bar\": [{\"error_x\": {\"color\": \"#2a3f5f\"}, \"error_y\": {\"color\": \"#2a3f5f\"}, \"marker\": {\"line\": {\"color\": \"#E5ECF6\", \"width\": 0.5}}, \"type\": \"bar\"}], \"barpolar\": [{\"marker\": {\"line\": {\"color\": \"#E5ECF6\", \"width\": 0.5}}, \"type\": \"barpolar\"}], \"carpet\": [{\"aaxis\": {\"endlinecolor\": \"#2a3f5f\", \"gridcolor\": \"white\", \"linecolor\": \"white\", \"minorgridcolor\": \"white\", \"startlinecolor\": \"#2a3f5f\"}, \"baxis\": {\"endlinecolor\": \"#2a3f5f\", \"gridcolor\": \"white\", \"linecolor\": \"white\", \"minorgridcolor\": \"white\", \"startlinecolor\": \"#2a3f5f\"}, \"type\": \"carpet\"}], \"choropleth\": [{\"colorbar\": {\"outlinewidth\": 0, \"ticks\": \"\"}, \"type\": \"choropleth\"}], \"contour\": [{\"colorbar\": {\"outlinewidth\": 0, \"ticks\": \"\"}, \"colorscale\": [[0.0, \"#0d0887\"], [0.1111111111111111, \"#46039f\"], [0.2222222222222222, \"#7201a8\"], [0.3333333333333333, \"#9c179e\"], [0.4444444444444444, \"#bd3786\"], [0.5555555555555556, \"#d8576b\"], [0.6666666666666666, \"#ed7953\"], [0.7777777777777778, \"#fb9f3a\"], [0.8888888888888888, \"#fdca26\"], [1.0, \"#f0f921\"]], \"type\": \"contour\"}], \"contourcarpet\": [{\"colorbar\": {\"outlinewidth\": 0, \"ticks\": \"\"}, \"type\": \"contourcarpet\"}], \"heatmap\": [{\"colorbar\": {\"outlinewidth\": 0, \"ticks\": \"\"}, \"colorscale\": [[0.0, \"#0d0887\"], [0.1111111111111111, \"#46039f\"], [0.2222222222222222, \"#7201a8\"], [0.3333333333333333, \"#9c179e\"], [0.4444444444444444, \"#bd3786\"], [0.5555555555555556, \"#d8576b\"], [0.6666666666666666, \"#ed7953\"], [0.7777777777777778, \"#fb9f3a\"], [0.8888888888888888, \"#fdca26\"], [1.0, \"#f0f921\"]], \"type\": \"heatmap\"}], \"heatmapgl\": [{\"colorbar\": {\"outlinewidth\": 0, \"ticks\": \"\"}, \"colorscale\": [[0.0, \"#0d0887\"], [0.1111111111111111, \"#46039f\"], [0.2222222222222222, \"#7201a8\"], [0.3333333333333333, \"#9c179e\"], [0.4444444444444444, \"#bd3786\"], [0.5555555555555556, \"#d8576b\"], [0.6666666666666666, \"#ed7953\"], [0.7777777777777778, \"#fb9f3a\"], [0.8888888888888888, \"#fdca26\"], [1.0, \"#f0f921\"]], \"type\": \"heatmapgl\"}], \"histogram\": [{\"marker\": {\"colorbar\": {\"outlinewidth\": 0, \"ticks\": \"\"}}, \"type\": \"histogram\"}], \"histogram2d\": [{\"colorbar\": {\"outlinewidth\": 0, \"ticks\": \"\"}, \"colorscale\": [[0.0, \"#0d0887\"], [0.1111111111111111, \"#46039f\"], [0.2222222222222222, \"#7201a8\"], [0.3333333333333333, \"#9c179e\"], [0.4444444444444444, \"#bd3786\"], [0.5555555555555556, \"#d8576b\"], [0.6666666666666666, \"#ed7953\"], [0.7777777777777778, \"#fb9f3a\"], [0.8888888888888888, \"#fdca26\"], [1.0, \"#f0f921\"]], \"type\": \"histogram2d\"}], \"histogram2dcontour\": [{\"colorbar\": {\"outlinewidth\": 0, \"ticks\": \"\"}, \"colorscale\": [[0.0, \"#0d0887\"], [0.1111111111111111, \"#46039f\"], [0.2222222222222222, \"#7201a8\"], [0.3333333333333333, \"#9c179e\"], [0.4444444444444444, \"#bd3786\"], [0.5555555555555556, \"#d8576b\"], [0.6666666666666666, \"#ed7953\"], [0.7777777777777778, \"#fb9f3a\"], [0.8888888888888888, \"#fdca26\"], [1.0, \"#f0f921\"]], \"type\": \"histogram2dcontour\"}], \"mesh3d\": [{\"colorbar\": {\"outlinewidth\": 0, \"ticks\": \"\"}, \"type\": \"mesh3d\"}], \"parcoords\": [{\"line\": {\"colorbar\": {\"outlinewidth\": 0, \"ticks\": \"\"}}, \"type\": \"parcoords\"}], \"pie\": [{\"automargin\": true, \"type\": \"pie\"}], \"scatter\": [{\"marker\": {\"colorbar\": {\"outlinewidth\": 0, \"ticks\": \"\"}}, \"type\": \"scatter\"}], \"scatter3d\": [{\"line\": {\"colorbar\": {\"outlinewidth\": 0, \"ticks\": \"\"}}, \"marker\": {\"colorbar\": {\"outlinewidth\": 0, \"ticks\": \"\"}}, \"type\": \"scatter3d\"}], \"scattercarpet\": [{\"marker\": {\"colorbar\": {\"outlinewidth\": 0, \"ticks\": \"\"}}, \"type\": \"scattercarpet\"}], \"scattergeo\": [{\"marker\": {\"colorbar\": {\"outlinewidth\": 0, \"ticks\": \"\"}}, \"type\": \"scattergeo\"}], \"scattergl\": [{\"marker\": {\"colorbar\": {\"outlinewidth\": 0, \"ticks\": \"\"}}, \"type\": \"scattergl\"}], \"scattermapbox\": [{\"marker\": {\"colorbar\": {\"outlinewidth\": 0, \"ticks\": \"\"}}, \"type\": \"scattermapbox\"}], \"scatterpolar\": [{\"marker\": {\"colorbar\": {\"outlinewidth\": 0, \"ticks\": \"\"}}, \"type\": \"scatterpolar\"}], \"scatterpolargl\": [{\"marker\": {\"colorbar\": {\"outlinewidth\": 0, \"ticks\": \"\"}}, \"type\": \"scatterpolargl\"}], \"scatterternary\": [{\"marker\": {\"colorbar\": {\"outlinewidth\": 0, \"ticks\": \"\"}}, \"type\": \"scatterternary\"}], \"surface\": [{\"colorbar\": {\"outlinewidth\": 0, \"ticks\": \"\"}, \"colorscale\": [[0.0, \"#0d0887\"], [0.1111111111111111, \"#46039f\"], [0.2222222222222222, \"#7201a8\"], [0.3333333333333333, \"#9c179e\"], [0.4444444444444444, \"#bd3786\"], [0.5555555555555556, \"#d8576b\"], [0.6666666666666666, \"#ed7953\"], [0.7777777777777778, \"#fb9f3a\"], [0.8888888888888888, \"#fdca26\"], [1.0, \"#f0f921\"]], \"type\": \"surface\"}], \"table\": [{\"cells\": {\"fill\": {\"color\": \"#EBF0F8\"}, \"line\": {\"color\": \"white\"}}, \"header\": {\"fill\": {\"color\": \"#C8D4E3\"}, \"line\": {\"color\": \"white\"}}, \"type\": \"table\"}]}, \"layout\": {\"annotationdefaults\": {\"arrowcolor\": \"#2a3f5f\", \"arrowhead\": 0, \"arrowwidth\": 1}, \"coloraxis\": {\"colorbar\": {\"outlinewidth\": 0, \"ticks\": \"\"}}, \"colorscale\": {\"diverging\": [[0, \"#8e0152\"], [0.1, \"#c51b7d\"], [0.2, \"#de77ae\"], [0.3, \"#f1b6da\"], [0.4, \"#fde0ef\"], [0.5, \"#f7f7f7\"], [0.6, \"#e6f5d0\"], [0.7, \"#b8e186\"], [0.8, \"#7fbc41\"], [0.9, \"#4d9221\"], [1, \"#276419\"]], \"sequential\": [[0.0, \"#0d0887\"], [0.1111111111111111, \"#46039f\"], [0.2222222222222222, \"#7201a8\"], [0.3333333333333333, \"#9c179e\"], [0.4444444444444444, \"#bd3786\"], [0.5555555555555556, \"#d8576b\"], [0.6666666666666666, \"#ed7953\"], [0.7777777777777778, \"#fb9f3a\"], [0.8888888888888888, \"#fdca26\"], [1.0, \"#f0f921\"]], \"sequentialminus\": [[0.0, \"#0d0887\"], [0.1111111111111111, \"#46039f\"], [0.2222222222222222, \"#7201a8\"], [0.3333333333333333, \"#9c179e\"], [0.4444444444444444, \"#bd3786\"], [0.5555555555555556, \"#d8576b\"], [0.6666666666666666, \"#ed7953\"], [0.7777777777777778, \"#fb9f3a\"], [0.8888888888888888, \"#fdca26\"], [1.0, \"#f0f921\"]]}, \"colorway\": [\"#636efa\", \"#EF553B\", \"#00cc96\", \"#ab63fa\", \"#FFA15A\", \"#19d3f3\", \"#FF6692\", \"#B6E880\", \"#FF97FF\", \"#FECB52\"], \"font\": {\"color\": \"#2a3f5f\"}, \"geo\": {\"bgcolor\": \"white\", \"lakecolor\": \"white\", \"landcolor\": \"#E5ECF6\", \"showlakes\": true, \"showland\": true, \"subunitcolor\": \"white\"}, \"hoverlabel\": {\"align\": \"left\"}, \"hovermode\": \"closest\", \"mapbox\": {\"style\": \"light\"}, \"paper_bgcolor\": \"white\", \"plot_bgcolor\": \"#E5ECF6\", \"polar\": {\"angularaxis\": {\"gridcolor\": \"white\", \"linecolor\": \"white\", \"ticks\": \"\"}, \"bgcolor\": \"#E5ECF6\", \"radialaxis\": {\"gridcolor\": \"white\", \"linecolor\": \"white\", \"ticks\": \"\"}}, \"scene\": {\"xaxis\": {\"backgroundcolor\": \"#E5ECF6\", \"gridcolor\": \"white\", \"gridwidth\": 2, \"linecolor\": \"white\", \"showbackground\": true, \"ticks\": \"\", \"zerolinecolor\": \"white\"}, \"yaxis\": {\"backgroundcolor\": \"#E5ECF6\", \"gridcolor\": \"white\", \"gridwidth\": 2, \"linecolor\": \"white\", \"showbackground\": true, \"ticks\": \"\", \"zerolinecolor\": \"white\"}, \"zaxis\": {\"backgroundcolor\": \"#E5ECF6\", \"gridcolor\": \"white\", \"gridwidth\": 2, \"linecolor\": \"white\", \"showbackground\": true, \"ticks\": \"\", \"zerolinecolor\": \"white\"}}, \"shapedefaults\": {\"line\": {\"color\": \"#2a3f5f\"}}, \"ternary\": {\"aaxis\": {\"gridcolor\": \"white\", \"linecolor\": \"white\", \"ticks\": \"\"}, \"baxis\": {\"gridcolor\": \"white\", \"linecolor\": \"white\", \"ticks\": \"\"}, \"bgcolor\": \"#E5ECF6\", \"caxis\": {\"gridcolor\": \"white\", \"linecolor\": \"white\", \"ticks\": \"\"}}, \"title\": {\"x\": 0.05}, \"xaxis\": {\"automargin\": true, \"gridcolor\": \"white\", \"linecolor\": \"white\", \"ticks\": \"\", \"title\": {\"standoff\": 15}, \"zerolinecolor\": \"white\", \"zerolinewidth\": 2}, \"yaxis\": {\"automargin\": true, \"gridcolor\": \"white\", \"linecolor\": \"white\", \"ticks\": \"\", \"title\": {\"standoff\": 15}, \"zerolinecolor\": \"white\", \"zerolinewidth\": 2}}}, \"title\": {\"text\": \"Candidate Vector Correlation Over Time - 1-Dim PCA (Monthly)\"}, \"xaxis\": {\"title\": {\"text\": \"Candidate\"}}, \"yaxis\": {\"title\": {\"text\": \"Candidate\"}}},\n",
       "                        {\"responsive\": true}\n",
       "                    ).then(function(){\n",
       "                            \n",
       "var gd = document.getElementById('2184fa7b-9222-4408-8dd5-e304dec4fa0f');\n",
       "var x = new MutationObserver(function (mutations, observer) {{\n",
       "        var display = window.getComputedStyle(gd).display;\n",
       "        if (!display || display === 'none') {{\n",
       "            console.log([gd, 'removed!']);\n",
       "            Plotly.purge(gd);\n",
       "            observer.disconnect();\n",
       "        }}\n",
       "}});\n",
       "\n",
       "// Listen for the removal of the full notebook cells\n",
       "var notebookContainer = gd.closest('#notebook-container');\n",
       "if (notebookContainer) {{\n",
       "    x.observe(notebookContainer, {childList: true});\n",
       "}}\n",
       "\n",
       "// Listen for the clearing of the current output cell\n",
       "var outputEl = gd.closest('.output');\n",
       "if (outputEl) {{\n",
       "    x.observe(outputEl, {childList: true});\n",
       "}}\n",
       "\n",
       "                        })\n",
       "                };\n",
       "                });\n",
       "            </script>\n",
       "        </div>"
      ]
     },
     "metadata": {},
     "output_type": "display_data"
    }
   ],
   "source": [
    "labels = pivot.columns\n",
    "data = go.Heatmap(z=correlation, y=labels, x=labels)\n",
    "\n",
    "layout = {\n",
    "    \"title\": \"Candidate Vector Correlation Over Time - 1-Dim PCA ({})\".format(TIME_FRAME.title()),\n",
    "    \"xaxis\": {\"title\": \"Candidate\"},\n",
    "    \"yaxis\": {\"title\": \"Candidate\"},\n",
    "}\n",
    "fig = go.Figure(data=data,layout=layout)\n",
    "fig.write_html(\"visualizations/temporal/{}_1_dim_correlation.html\".format(TIME_FRAME))\n",
    "fig.show()"
   ]
  },
  {
   "cell_type": "markdown",
   "metadata": {},
   "source": [
    "## Drift"
   ]
  },
  {
   "cell_type": "code",
   "execution_count": 44,
   "metadata": {},
   "outputs": [
    {
     "data": {
      "text/html": [
       "<div>\n",
       "<style scoped>\n",
       "    .dataframe tbody tr th:only-of-type {\n",
       "        vertical-align: middle;\n",
       "    }\n",
       "\n",
       "    .dataframe tbody tr th {\n",
       "        vertical-align: top;\n",
       "    }\n",
       "\n",
       "    .dataframe thead th {\n",
       "        text-align: right;\n",
       "    }\n",
       "</style>\n",
       "<table border=\"1\" class=\"dataframe\">\n",
       "  <thead>\n",
       "    <tr style=\"text-align: right;\">\n",
       "      <th></th>\n",
       "      <th>subreddit</th>\n",
       "      <th>date</th>\n",
       "      <th>1</th>\n",
       "      <th>2</th>\n",
       "      <th>3</th>\n",
       "      <th>4</th>\n",
       "      <th>5</th>\n",
       "      <th>6</th>\n",
       "      <th>7</th>\n",
       "      <th>8</th>\n",
       "      <th>...</th>\n",
       "      <th>142</th>\n",
       "      <th>143</th>\n",
       "      <th>144</th>\n",
       "      <th>145</th>\n",
       "      <th>146</th>\n",
       "      <th>147</th>\n",
       "      <th>148</th>\n",
       "      <th>149</th>\n",
       "      <th>150</th>\n",
       "      <th>drift</th>\n",
       "    </tr>\n",
       "  </thead>\n",
       "  <tbody>\n",
       "    <tr>\n",
       "      <th>532</th>\n",
       "      <td>BaemyKlobaechar</td>\n",
       "      <td>2019-01-01</td>\n",
       "      <td>0.039385</td>\n",
       "      <td>-0.032656</td>\n",
       "      <td>-0.102859</td>\n",
       "      <td>0.013675</td>\n",
       "      <td>-0.028504</td>\n",
       "      <td>-0.008800</td>\n",
       "      <td>0.093741</td>\n",
       "      <td>-0.030641</td>\n",
       "      <td>...</td>\n",
       "      <td>-0.060968</td>\n",
       "      <td>0.051346</td>\n",
       "      <td>0.065561</td>\n",
       "      <td>0.042905</td>\n",
       "      <td>-0.003893</td>\n",
       "      <td>-0.032835</td>\n",
       "      <td>0.040659</td>\n",
       "      <td>-0.048528</td>\n",
       "      <td>0.011097</td>\n",
       "      <td>1.000000</td>\n",
       "    </tr>\n",
       "    <tr>\n",
       "      <th>1118</th>\n",
       "      <td>Cooking</td>\n",
       "      <td>2019-01-01</td>\n",
       "      <td>0.086568</td>\n",
       "      <td>-0.086542</td>\n",
       "      <td>-0.149259</td>\n",
       "      <td>0.070139</td>\n",
       "      <td>-0.136781</td>\n",
       "      <td>0.050591</td>\n",
       "      <td>-0.041167</td>\n",
       "      <td>-0.222831</td>\n",
       "      <td>...</td>\n",
       "      <td>-0.094767</td>\n",
       "      <td>-0.115597</td>\n",
       "      <td>-0.014396</td>\n",
       "      <td>-0.072404</td>\n",
       "      <td>0.013722</td>\n",
       "      <td>0.146217</td>\n",
       "      <td>-0.106858</td>\n",
       "      <td>0.025739</td>\n",
       "      <td>-0.026488</td>\n",
       "      <td>1.000000</td>\n",
       "    </tr>\n",
       "    <tr>\n",
       "      <th>1566</th>\n",
       "      <td>ElizabethWarren</td>\n",
       "      <td>2019-01-01</td>\n",
       "      <td>0.018491</td>\n",
       "      <td>-0.044195</td>\n",
       "      <td>-0.065121</td>\n",
       "      <td>-0.110989</td>\n",
       "      <td>-0.125476</td>\n",
       "      <td>0.009724</td>\n",
       "      <td>0.037393</td>\n",
       "      <td>-0.102446</td>\n",
       "      <td>...</td>\n",
       "      <td>-0.157365</td>\n",
       "      <td>0.055299</td>\n",
       "      <td>0.106372</td>\n",
       "      <td>0.063118</td>\n",
       "      <td>0.028082</td>\n",
       "      <td>-0.035191</td>\n",
       "      <td>0.014581</td>\n",
       "      <td>0.120955</td>\n",
       "      <td>0.000003</td>\n",
       "      <td>1.000000</td>\n",
       "    </tr>\n",
       "    <tr>\n",
       "      <th>2510</th>\n",
       "      <td>JoeBiden</td>\n",
       "      <td>2019-01-01</td>\n",
       "      <td>-0.053438</td>\n",
       "      <td>0.074119</td>\n",
       "      <td>-0.015618</td>\n",
       "      <td>-0.010005</td>\n",
       "      <td>0.029803</td>\n",
       "      <td>-0.073516</td>\n",
       "      <td>0.066443</td>\n",
       "      <td>0.193023</td>\n",
       "      <td>...</td>\n",
       "      <td>0.055165</td>\n",
       "      <td>-0.008505</td>\n",
       "      <td>-0.058270</td>\n",
       "      <td>0.103427</td>\n",
       "      <td>0.191497</td>\n",
       "      <td>-0.026188</td>\n",
       "      <td>-0.056188</td>\n",
       "      <td>-0.093882</td>\n",
       "      <td>0.042998</td>\n",
       "      <td>1.000000</td>\n",
       "    </tr>\n",
       "    <tr>\n",
       "      <th>3548</th>\n",
       "      <td>Pete_Buttigieg</td>\n",
       "      <td>2019-01-01</td>\n",
       "      <td>-0.004406</td>\n",
       "      <td>0.003567</td>\n",
       "      <td>-0.049095</td>\n",
       "      <td>0.018293</td>\n",
       "      <td>-0.040109</td>\n",
       "      <td>-0.071119</td>\n",
       "      <td>-0.000791</td>\n",
       "      <td>-0.015795</td>\n",
       "      <td>...</td>\n",
       "      <td>0.058978</td>\n",
       "      <td>0.008322</td>\n",
       "      <td>0.129788</td>\n",
       "      <td>0.134624</td>\n",
       "      <td>0.055960</td>\n",
       "      <td>-0.019483</td>\n",
       "      <td>-0.063738</td>\n",
       "      <td>0.129256</td>\n",
       "      <td>0.041822</td>\n",
       "      <td>1.000000</td>\n",
       "    </tr>\n",
       "    <tr>\n",
       "      <th>...</th>\n",
       "      <td>...</td>\n",
       "      <td>...</td>\n",
       "      <td>...</td>\n",
       "      <td>...</td>\n",
       "      <td>...</td>\n",
       "      <td>...</td>\n",
       "      <td>...</td>\n",
       "      <td>...</td>\n",
       "      <td>...</td>\n",
       "      <td>...</td>\n",
       "      <td>...</td>\n",
       "      <td>...</td>\n",
       "      <td>...</td>\n",
       "      <td>...</td>\n",
       "      <td>...</td>\n",
       "      <td>...</td>\n",
       "      <td>...</td>\n",
       "      <td>...</td>\n",
       "      <td>...</td>\n",
       "      <td>...</td>\n",
       "      <td>...</td>\n",
       "    </tr>\n",
       "    <tr>\n",
       "      <th>114397</th>\n",
       "      <td>Pete_Buttigieg</td>\n",
       "      <td>2019-12-01</td>\n",
       "      <td>-0.046594</td>\n",
       "      <td>0.044182</td>\n",
       "      <td>0.022248</td>\n",
       "      <td>-0.102484</td>\n",
       "      <td>-0.002578</td>\n",
       "      <td>-0.078466</td>\n",
       "      <td>0.061907</td>\n",
       "      <td>-0.104838</td>\n",
       "      <td>...</td>\n",
       "      <td>-0.100320</td>\n",
       "      <td>0.082690</td>\n",
       "      <td>-0.000170</td>\n",
       "      <td>0.099727</td>\n",
       "      <td>0.017700</td>\n",
       "      <td>-0.032778</td>\n",
       "      <td>0.059029</td>\n",
       "      <td>0.043908</td>\n",
       "      <td>-0.051225</td>\n",
       "      <td>0.537303</td>\n",
       "    </tr>\n",
       "    <tr>\n",
       "      <th>114904</th>\n",
       "      <td>SandersForPresident</td>\n",
       "      <td>2019-12-01</td>\n",
       "      <td>0.123377</td>\n",
       "      <td>-0.134899</td>\n",
       "      <td>-0.012522</td>\n",
       "      <td>-0.056719</td>\n",
       "      <td>-0.027125</td>\n",
       "      <td>-0.082796</td>\n",
       "      <td>0.100109</td>\n",
       "      <td>-0.122305</td>\n",
       "      <td>...</td>\n",
       "      <td>-0.134154</td>\n",
       "      <td>0.078443</td>\n",
       "      <td>0.026570</td>\n",
       "      <td>0.079004</td>\n",
       "      <td>0.085845</td>\n",
       "      <td>0.001672</td>\n",
       "      <td>-0.003014</td>\n",
       "      <td>0.076480</td>\n",
       "      <td>-0.037767</td>\n",
       "      <td>0.723616</td>\n",
       "    </tr>\n",
       "    <tr>\n",
       "      <th>115542</th>\n",
       "      <td>The_Donald</td>\n",
       "      <td>2019-12-01</td>\n",
       "      <td>0.034199</td>\n",
       "      <td>-0.056190</td>\n",
       "      <td>0.179965</td>\n",
       "      <td>0.037636</td>\n",
       "      <td>0.037826</td>\n",
       "      <td>-0.032532</td>\n",
       "      <td>0.210877</td>\n",
       "      <td>-0.059316</td>\n",
       "      <td>...</td>\n",
       "      <td>-0.023894</td>\n",
       "      <td>0.034235</td>\n",
       "      <td>-0.100495</td>\n",
       "      <td>-0.076882</td>\n",
       "      <td>-0.121426</td>\n",
       "      <td>-0.030546</td>\n",
       "      <td>0.061262</td>\n",
       "      <td>-0.050207</td>\n",
       "      <td>-0.035276</td>\n",
       "      <td>0.887361</td>\n",
       "    </tr>\n",
       "    <tr>\n",
       "      <th>116111</th>\n",
       "      <td>YangForPresidentHQ</td>\n",
       "      <td>2019-12-01</td>\n",
       "      <td>0.122347</td>\n",
       "      <td>-0.041564</td>\n",
       "      <td>0.104256</td>\n",
       "      <td>0.016567</td>\n",
       "      <td>-0.040447</td>\n",
       "      <td>-0.047675</td>\n",
       "      <td>0.169381</td>\n",
       "      <td>-0.010845</td>\n",
       "      <td>...</td>\n",
       "      <td>-0.045533</td>\n",
       "      <td>0.060885</td>\n",
       "      <td>0.006304</td>\n",
       "      <td>0.016386</td>\n",
       "      <td>-0.019966</td>\n",
       "      <td>0.059291</td>\n",
       "      <td>0.003473</td>\n",
       "      <td>0.100733</td>\n",
       "      <td>-0.031142</td>\n",
       "      <td>0.503358</td>\n",
       "    </tr>\n",
       "    <tr>\n",
       "      <th>120143</th>\n",
       "      <td>technology</td>\n",
       "      <td>2019-12-01</td>\n",
       "      <td>0.129708</td>\n",
       "      <td>-0.088025</td>\n",
       "      <td>0.181110</td>\n",
       "      <td>0.051694</td>\n",
       "      <td>-0.063682</td>\n",
       "      <td>0.070165</td>\n",
       "      <td>0.048179</td>\n",
       "      <td>-0.111647</td>\n",
       "      <td>...</td>\n",
       "      <td>0.009402</td>\n",
       "      <td>-0.059252</td>\n",
       "      <td>-0.097484</td>\n",
       "      <td>0.061489</td>\n",
       "      <td>0.110267</td>\n",
       "      <td>0.034717</td>\n",
       "      <td>0.001429</td>\n",
       "      <td>-0.113470</td>\n",
       "      <td>-0.103689</td>\n",
       "      <td>0.691613</td>\n",
       "    </tr>\n",
       "  </tbody>\n",
       "</table>\n",
       "<p>108 rows × 153 columns</p>\n",
       "</div>"
      ],
      "text/plain": [
       "                  subreddit       date         1         2         3  \\\n",
       "532         BaemyKlobaechar 2019-01-01  0.039385 -0.032656 -0.102859   \n",
       "1118                Cooking 2019-01-01  0.086568 -0.086542 -0.149259   \n",
       "1566        ElizabethWarren 2019-01-01  0.018491 -0.044195 -0.065121   \n",
       "2510               JoeBiden 2019-01-01 -0.053438  0.074119 -0.015618   \n",
       "3548         Pete_Buttigieg 2019-01-01 -0.004406  0.003567 -0.049095   \n",
       "...                     ...        ...       ...       ...       ...   \n",
       "114397       Pete_Buttigieg 2019-12-01 -0.046594  0.044182  0.022248   \n",
       "114904  SandersForPresident 2019-12-01  0.123377 -0.134899 -0.012522   \n",
       "115542           The_Donald 2019-12-01  0.034199 -0.056190  0.179965   \n",
       "116111   YangForPresidentHQ 2019-12-01  0.122347 -0.041564  0.104256   \n",
       "120143           technology 2019-12-01  0.129708 -0.088025  0.181110   \n",
       "\n",
       "               4         5         6         7         8  ...       142  \\\n",
       "532     0.013675 -0.028504 -0.008800  0.093741 -0.030641  ... -0.060968   \n",
       "1118    0.070139 -0.136781  0.050591 -0.041167 -0.222831  ... -0.094767   \n",
       "1566   -0.110989 -0.125476  0.009724  0.037393 -0.102446  ... -0.157365   \n",
       "2510   -0.010005  0.029803 -0.073516  0.066443  0.193023  ...  0.055165   \n",
       "3548    0.018293 -0.040109 -0.071119 -0.000791 -0.015795  ...  0.058978   \n",
       "...          ...       ...       ...       ...       ...  ...       ...   \n",
       "114397 -0.102484 -0.002578 -0.078466  0.061907 -0.104838  ... -0.100320   \n",
       "114904 -0.056719 -0.027125 -0.082796  0.100109 -0.122305  ... -0.134154   \n",
       "115542  0.037636  0.037826 -0.032532  0.210877 -0.059316  ... -0.023894   \n",
       "116111  0.016567 -0.040447 -0.047675  0.169381 -0.010845  ... -0.045533   \n",
       "120143  0.051694 -0.063682  0.070165  0.048179 -0.111647  ...  0.009402   \n",
       "\n",
       "             143       144       145       146       147       148       149  \\\n",
       "532     0.051346  0.065561  0.042905 -0.003893 -0.032835  0.040659 -0.048528   \n",
       "1118   -0.115597 -0.014396 -0.072404  0.013722  0.146217 -0.106858  0.025739   \n",
       "1566    0.055299  0.106372  0.063118  0.028082 -0.035191  0.014581  0.120955   \n",
       "2510   -0.008505 -0.058270  0.103427  0.191497 -0.026188 -0.056188 -0.093882   \n",
       "3548    0.008322  0.129788  0.134624  0.055960 -0.019483 -0.063738  0.129256   \n",
       "...          ...       ...       ...       ...       ...       ...       ...   \n",
       "114397  0.082690 -0.000170  0.099727  0.017700 -0.032778  0.059029  0.043908   \n",
       "114904  0.078443  0.026570  0.079004  0.085845  0.001672 -0.003014  0.076480   \n",
       "115542  0.034235 -0.100495 -0.076882 -0.121426 -0.030546  0.061262 -0.050207   \n",
       "116111  0.060885  0.006304  0.016386 -0.019966  0.059291  0.003473  0.100733   \n",
       "120143 -0.059252 -0.097484  0.061489  0.110267  0.034717  0.001429 -0.113470   \n",
       "\n",
       "             150     drift  \n",
       "532     0.011097  1.000000  \n",
       "1118   -0.026488  1.000000  \n",
       "1566    0.000003  1.000000  \n",
       "2510    0.042998  1.000000  \n",
       "3548    0.041822  1.000000  \n",
       "...          ...       ...  \n",
       "114397 -0.051225  0.537303  \n",
       "114904 -0.037767  0.723616  \n",
       "115542 -0.035276  0.887361  \n",
       "116111 -0.031142  0.503358  \n",
       "120143 -0.103689  0.691613  \n",
       "\n",
       "[108 rows x 153 columns]"
      ]
     },
     "execution_count": 44,
     "metadata": {},
     "output_type": "execute_result"
    }
   ],
   "source": [
    "stable = [\"Cooking\",\"technology\"]\n",
    "first_timestep = datetime.strptime(\"2019-01-01\",\"%Y-%m-%d\")\n",
    "drop_cols = [\"date\",\"subreddit\",\"avg_dist\",\"drift\"]\n",
    "first_vecs = {}\n",
    "drift_test = embedding.reset_index()\n",
    "drift_test = drift_test[drift_test[\"subreddit\"].isin(left_candidates+right_candidates+stable)]\n",
    "# Iterate through all the candidates\n",
    "for sub in drift_test[\"subreddit\"].unique():\n",
    "    first_vec = drift_test[(drift_test[\"date\"] == first_timestep) & (drift_test[\"subreddit\"] == sub)]\n",
    "    first_vec = first_vec[first_vec.columns.difference(drop_cols)].to_numpy().flatten()\n",
    "    first_vecs[sub] = first_vec\n",
    "    \n",
    "def dist_from_original(series):\n",
    "    vec = series[~series.index.isin(drop_cols)]\n",
    "    name = series.subreddit\n",
    "    first_vec = first_vecs[name]\n",
    "    return cos_sim(vec,first_vec)\n",
    "drift_test[\"drift\"] = drift_test.apply(dist_from_original,axis=1)\n",
    "drift_test"
   ]
  },
  {
   "cell_type": "code",
   "execution_count": 45,
   "metadata": {},
   "outputs": [
    {
     "data": {
      "application/vnd.plotly.v1+json": {
       "config": {
        "plotlyServerURL": "https://plot.ly"
       },
       "data": [
        {
         "hovertemplate": "Subreddit=BaemyKlobaechar<br>date=%{x}<br>Drift (Cosine Similarity)=%{y}<extra></extra>",
         "legendgroup": "BaemyKlobaechar",
         "line": {
          "color": "#00CC96",
          "dash": "solid",
          "shape": "spline"
         },
         "mode": "lines",
         "name": "BaemyKlobaechar",
         "orientation": "v",
         "showlegend": true,
         "type": "scatter",
         "x": [
          "2019-01-01T00:00:00",
          "2019-02-01T00:00:00",
          "2019-03-01T00:00:00",
          "2019-04-01T00:00:00",
          "2019-05-01T00:00:00",
          "2019-06-01T00:00:00",
          "2019-07-01T00:00:00",
          "2019-08-01T00:00:00",
          "2019-09-01T00:00:00",
          "2019-10-01T00:00:00",
          "2019-11-01T00:00:00",
          "2019-12-01T00:00:00"
         ],
         "xaxis": "x",
         "y": [
          1,
          0.8393556621269712,
          0.6382554401286314,
          0.792331049956903,
          0.6364814778846676,
          0.6816137917915233,
          0.5758102824660932,
          0.711631490085588,
          0.7298238080778333,
          0.6466732745256831,
          0.6464423258000811,
          0.6373039196220482
         ],
         "yaxis": "y"
        },
        {
         "hovertemplate": "Subreddit=Cooking<br>date=%{x}<br>Drift (Cosine Similarity)=%{y}<extra></extra>",
         "legendgroup": "Cooking",
         "line": {
          "color": "#7F7F7F",
          "dash": "solid",
          "shape": "spline"
         },
         "mode": "lines",
         "name": "Cooking",
         "orientation": "v",
         "showlegend": true,
         "type": "scatter",
         "x": [
          "2019-01-01T00:00:00",
          "2019-02-01T00:00:00",
          "2019-03-01T00:00:00",
          "2019-04-01T00:00:00",
          "2019-05-01T00:00:00",
          "2019-06-01T00:00:00",
          "2019-07-01T00:00:00",
          "2019-08-01T00:00:00",
          "2019-09-01T00:00:00",
          "2019-10-01T00:00:00",
          "2019-11-01T00:00:00",
          "2019-12-01T00:00:00"
         ],
         "xaxis": "x",
         "y": [
          1.0000000000000002,
          0.9178947706239244,
          0.8474934092571812,
          0.8464277862548594,
          0.8584748670764195,
          0.8503079882181352,
          0.7745329242140774,
          0.8015873219334164,
          0.8079309667768182,
          0.8142869436049858,
          0.8141733174335679,
          0.7977329910096566
         ],
         "yaxis": "y"
        },
        {
         "hovertemplate": "Subreddit=ElizabethWarren<br>date=%{x}<br>Drift (Cosine Similarity)=%{y}<extra></extra>",
         "legendgroup": "ElizabethWarren",
         "line": {
          "color": "#AB63FA",
          "dash": "solid",
          "shape": "spline"
         },
         "mode": "lines",
         "name": "ElizabethWarren",
         "orientation": "v",
         "showlegend": true,
         "type": "scatter",
         "x": [
          "2019-01-01T00:00:00",
          "2019-02-01T00:00:00",
          "2019-03-01T00:00:00",
          "2019-04-01T00:00:00",
          "2019-05-01T00:00:00",
          "2019-06-01T00:00:00",
          "2019-07-01T00:00:00",
          "2019-08-01T00:00:00",
          "2019-09-01T00:00:00",
          "2019-10-01T00:00:00",
          "2019-11-01T00:00:00",
          "2019-12-01T00:00:00"
         ],
         "xaxis": "x",
         "y": [
          1.0000000000000002,
          0.7464851268063494,
          0.7258640895560561,
          0.6825425217922407,
          0.6787331942753173,
          0.7085065545984922,
          0.6391403507949515,
          0.6476631519018019,
          0.6606935122251051,
          0.6295526427367535,
          0.6321344474907326,
          0.6018683511349047
         ],
         "yaxis": "y"
        },
        {
         "hovertemplate": "Subreddit=JoeBiden<br>date=%{x}<br>Drift (Cosine Similarity)=%{y}<extra></extra>",
         "legendgroup": "JoeBiden",
         "line": {
          "color": "#636EFA",
          "dash": "solid",
          "shape": "spline"
         },
         "mode": "lines",
         "name": "JoeBiden",
         "orientation": "v",
         "showlegend": true,
         "type": "scatter",
         "x": [
          "2019-01-01T00:00:00",
          "2019-02-01T00:00:00",
          "2019-03-01T00:00:00",
          "2019-04-01T00:00:00",
          "2019-05-01T00:00:00",
          "2019-06-01T00:00:00",
          "2019-07-01T00:00:00",
          "2019-08-01T00:00:00",
          "2019-09-01T00:00:00",
          "2019-10-01T00:00:00",
          "2019-11-01T00:00:00",
          "2019-12-01T00:00:00"
         ],
         "xaxis": "x",
         "y": [
          1,
          -0.1717200458409794,
          -0.11398793313185342,
          -0.3734381190182235,
          -0.37034104988710864,
          -0.3917803675286304,
          -0.3773940984483515,
          -0.34396954869514973,
          -0.33955715294158256,
          -0.4012953418430464,
          -0.398322060183044,
          -0.40390589990344333
         ],
         "yaxis": "y"
        },
        {
         "hovertemplate": "Subreddit=Pete_Buttigieg<br>date=%{x}<br>Drift (Cosine Similarity)=%{y}<extra></extra>",
         "legendgroup": "Pete_Buttigieg",
         "line": {
          "color": "#FFA15A",
          "dash": "solid",
          "shape": "spline"
         },
         "mode": "lines",
         "name": "Pete_Buttigieg",
         "orientation": "v",
         "showlegend": true,
         "type": "scatter",
         "x": [
          "2019-01-01T00:00:00",
          "2019-02-01T00:00:00",
          "2019-03-01T00:00:00",
          "2019-04-01T00:00:00",
          "2019-05-01T00:00:00",
          "2019-06-01T00:00:00",
          "2019-07-01T00:00:00",
          "2019-08-01T00:00:00",
          "2019-09-01T00:00:00",
          "2019-10-01T00:00:00",
          "2019-11-01T00:00:00",
          "2019-12-01T00:00:00"
         ],
         "xaxis": "x",
         "y": [
          1.0000000000000002,
          0.7064219514902522,
          0.5809742501465875,
          0.6064119524490756,
          0.5818129092832101,
          0.5263349947456735,
          0.5417775444487829,
          0.558907098799659,
          0.5833852699769289,
          0.5646914890688041,
          0.5574476072217616,
          0.5373032509570517
         ],
         "yaxis": "y"
        },
        {
         "hovertemplate": "Subreddit=SandersForPresident<br>date=%{x}<br>Drift (Cosine Similarity)=%{y}<extra></extra>",
         "legendgroup": "SandersForPresident",
         "line": {
          "color": "#EF553B",
          "dash": "solid",
          "shape": "spline"
         },
         "mode": "lines",
         "name": "SandersForPresident",
         "orientation": "v",
         "showlegend": true,
         "type": "scatter",
         "x": [
          "2019-01-01T00:00:00",
          "2019-02-01T00:00:00",
          "2019-03-01T00:00:00",
          "2019-04-01T00:00:00",
          "2019-05-01T00:00:00",
          "2019-06-01T00:00:00",
          "2019-07-01T00:00:00",
          "2019-08-01T00:00:00",
          "2019-09-01T00:00:00",
          "2019-10-01T00:00:00",
          "2019-11-01T00:00:00",
          "2019-12-01T00:00:00"
         ],
         "xaxis": "x",
         "y": [
          1.0000000000000002,
          0.9033119074547815,
          0.8811741278180016,
          0.8542677843627227,
          0.8374978882670897,
          0.7743928693550184,
          0.8028092929281843,
          0.7514940435091465,
          0.7784952867073063,
          0.7659584522401855,
          0.7685315965766679,
          0.7236162429052335
         ],
         "yaxis": "y"
        },
        {
         "hovertemplate": "Subreddit=The_Donald<br>date=%{x}<br>Drift (Cosine Similarity)=%{y}<extra></extra>",
         "legendgroup": "The_Donald",
         "line": {
          "color": "#FF6692",
          "dash": "solid",
          "shape": "spline"
         },
         "mode": "lines",
         "name": "The_Donald",
         "orientation": "v",
         "showlegend": true,
         "type": "scatter",
         "x": [
          "2019-01-01T00:00:00",
          "2019-02-01T00:00:00",
          "2019-03-01T00:00:00",
          "2019-04-01T00:00:00",
          "2019-05-01T00:00:00",
          "2019-06-01T00:00:00",
          "2019-07-01T00:00:00",
          "2019-08-01T00:00:00",
          "2019-09-01T00:00:00",
          "2019-10-01T00:00:00",
          "2019-11-01T00:00:00",
          "2019-12-01T00:00:00"
         ],
         "xaxis": "x",
         "y": [
          0.9999999999999998,
          0.9406132889574457,
          0.9242957343070075,
          0.8926275022412377,
          0.8858997614820492,
          0.8909969545722467,
          0.9014283953446734,
          0.8972959177309187,
          0.8912086261180319,
          0.8822648208410884,
          0.8773515061284815,
          0.8873606472317285
         ],
         "yaxis": "y"
        },
        {
         "hovertemplate": "Subreddit=YangForPresidentHQ<br>date=%{x}<br>Drift (Cosine Similarity)=%{y}<extra></extra>",
         "legendgroup": "YangForPresidentHQ",
         "line": {
          "color": "#19D3F3",
          "dash": "solid",
          "shape": "spline"
         },
         "mode": "lines",
         "name": "YangForPresidentHQ",
         "orientation": "v",
         "showlegend": true,
         "type": "scatter",
         "x": [
          "2019-01-01T00:00:00",
          "2019-02-01T00:00:00",
          "2019-03-01T00:00:00",
          "2019-04-01T00:00:00",
          "2019-05-01T00:00:00",
          "2019-06-01T00:00:00",
          "2019-07-01T00:00:00",
          "2019-08-01T00:00:00",
          "2019-09-01T00:00:00",
          "2019-10-01T00:00:00",
          "2019-11-01T00:00:00",
          "2019-12-01T00:00:00"
         ],
         "xaxis": "x",
         "y": [
          1,
          0.6782841399314691,
          0.6424875986570779,
          0.6562922377955241,
          0.6375242574110558,
          0.6128354357430029,
          0.5900161705851878,
          0.5733866013540433,
          0.5488766629896519,
          0.5286512597256562,
          0.5098231860615743,
          0.5033576245277551
         ],
         "yaxis": "y"
        },
        {
         "hovertemplate": "Subreddit=technology<br>date=%{x}<br>Drift (Cosine Similarity)=%{y}<extra></extra>",
         "legendgroup": "technology",
         "line": {
          "color": "#BCBD22",
          "dash": "solid",
          "shape": "spline"
         },
         "mode": "lines",
         "name": "technology",
         "orientation": "v",
         "showlegend": true,
         "type": "scatter",
         "x": [
          "2019-01-01T00:00:00",
          "2019-02-01T00:00:00",
          "2019-03-01T00:00:00",
          "2019-04-01T00:00:00",
          "2019-05-01T00:00:00",
          "2019-06-01T00:00:00",
          "2019-07-01T00:00:00",
          "2019-08-01T00:00:00",
          "2019-09-01T00:00:00",
          "2019-10-01T00:00:00",
          "2019-11-01T00:00:00",
          "2019-12-01T00:00:00"
         ],
         "xaxis": "x",
         "y": [
          0.9999999999999999,
          0.9070902312165365,
          0.8371258954592006,
          0.7627805734589616,
          0.7666103649090956,
          0.7629419028359172,
          0.7475035731280093,
          0.7167962178028998,
          0.6848048604156848,
          0.7161408925770999,
          0.7204287983804741,
          0.6916126022706034
         ],
         "yaxis": "y"
        }
       ],
       "layout": {
        "legend": {
         "title": {
          "text": "Subreddit"
         },
         "tracegroupgap": 0
        },
        "template": {
         "data": {
          "bar": [
           {
            "error_x": {
             "color": "rgb(36,36,36)"
            },
            "error_y": {
             "color": "rgb(36,36,36)"
            },
            "marker": {
             "line": {
              "color": "white",
              "width": 0.5
             }
            },
            "type": "bar"
           }
          ],
          "barpolar": [
           {
            "marker": {
             "line": {
              "color": "white",
              "width": 0.5
             }
            },
            "type": "barpolar"
           }
          ],
          "carpet": [
           {
            "aaxis": {
             "endlinecolor": "rgb(36,36,36)",
             "gridcolor": "white",
             "linecolor": "white",
             "minorgridcolor": "white",
             "startlinecolor": "rgb(36,36,36)"
            },
            "baxis": {
             "endlinecolor": "rgb(36,36,36)",
             "gridcolor": "white",
             "linecolor": "white",
             "minorgridcolor": "white",
             "startlinecolor": "rgb(36,36,36)"
            },
            "type": "carpet"
           }
          ],
          "choropleth": [
           {
            "colorbar": {
             "outlinewidth": 1,
             "tickcolor": "rgb(36,36,36)",
             "ticks": "outside"
            },
            "type": "choropleth"
           }
          ],
          "contour": [
           {
            "colorbar": {
             "outlinewidth": 1,
             "tickcolor": "rgb(36,36,36)",
             "ticks": "outside"
            },
            "colorscale": [
             [
              0,
              "#440154"
             ],
             [
              0.1111111111111111,
              "#482878"
             ],
             [
              0.2222222222222222,
              "#3e4989"
             ],
             [
              0.3333333333333333,
              "#31688e"
             ],
             [
              0.4444444444444444,
              "#26828e"
             ],
             [
              0.5555555555555556,
              "#1f9e89"
             ],
             [
              0.6666666666666666,
              "#35b779"
             ],
             [
              0.7777777777777778,
              "#6ece58"
             ],
             [
              0.8888888888888888,
              "#b5de2b"
             ],
             [
              1,
              "#fde725"
             ]
            ],
            "type": "contour"
           }
          ],
          "contourcarpet": [
           {
            "colorbar": {
             "outlinewidth": 1,
             "tickcolor": "rgb(36,36,36)",
             "ticks": "outside"
            },
            "type": "contourcarpet"
           }
          ],
          "heatmap": [
           {
            "colorbar": {
             "outlinewidth": 1,
             "tickcolor": "rgb(36,36,36)",
             "ticks": "outside"
            },
            "colorscale": [
             [
              0,
              "#440154"
             ],
             [
              0.1111111111111111,
              "#482878"
             ],
             [
              0.2222222222222222,
              "#3e4989"
             ],
             [
              0.3333333333333333,
              "#31688e"
             ],
             [
              0.4444444444444444,
              "#26828e"
             ],
             [
              0.5555555555555556,
              "#1f9e89"
             ],
             [
              0.6666666666666666,
              "#35b779"
             ],
             [
              0.7777777777777778,
              "#6ece58"
             ],
             [
              0.8888888888888888,
              "#b5de2b"
             ],
             [
              1,
              "#fde725"
             ]
            ],
            "type": "heatmap"
           }
          ],
          "heatmapgl": [
           {
            "colorbar": {
             "outlinewidth": 1,
             "tickcolor": "rgb(36,36,36)",
             "ticks": "outside"
            },
            "colorscale": [
             [
              0,
              "#440154"
             ],
             [
              0.1111111111111111,
              "#482878"
             ],
             [
              0.2222222222222222,
              "#3e4989"
             ],
             [
              0.3333333333333333,
              "#31688e"
             ],
             [
              0.4444444444444444,
              "#26828e"
             ],
             [
              0.5555555555555556,
              "#1f9e89"
             ],
             [
              0.6666666666666666,
              "#35b779"
             ],
             [
              0.7777777777777778,
              "#6ece58"
             ],
             [
              0.8888888888888888,
              "#b5de2b"
             ],
             [
              1,
              "#fde725"
             ]
            ],
            "type": "heatmapgl"
           }
          ],
          "histogram": [
           {
            "marker": {
             "line": {
              "color": "white",
              "width": 0.6
             }
            },
            "type": "histogram"
           }
          ],
          "histogram2d": [
           {
            "colorbar": {
             "outlinewidth": 1,
             "tickcolor": "rgb(36,36,36)",
             "ticks": "outside"
            },
            "colorscale": [
             [
              0,
              "#440154"
             ],
             [
              0.1111111111111111,
              "#482878"
             ],
             [
              0.2222222222222222,
              "#3e4989"
             ],
             [
              0.3333333333333333,
              "#31688e"
             ],
             [
              0.4444444444444444,
              "#26828e"
             ],
             [
              0.5555555555555556,
              "#1f9e89"
             ],
             [
              0.6666666666666666,
              "#35b779"
             ],
             [
              0.7777777777777778,
              "#6ece58"
             ],
             [
              0.8888888888888888,
              "#b5de2b"
             ],
             [
              1,
              "#fde725"
             ]
            ],
            "type": "histogram2d"
           }
          ],
          "histogram2dcontour": [
           {
            "colorbar": {
             "outlinewidth": 1,
             "tickcolor": "rgb(36,36,36)",
             "ticks": "outside"
            },
            "colorscale": [
             [
              0,
              "#440154"
             ],
             [
              0.1111111111111111,
              "#482878"
             ],
             [
              0.2222222222222222,
              "#3e4989"
             ],
             [
              0.3333333333333333,
              "#31688e"
             ],
             [
              0.4444444444444444,
              "#26828e"
             ],
             [
              0.5555555555555556,
              "#1f9e89"
             ],
             [
              0.6666666666666666,
              "#35b779"
             ],
             [
              0.7777777777777778,
              "#6ece58"
             ],
             [
              0.8888888888888888,
              "#b5de2b"
             ],
             [
              1,
              "#fde725"
             ]
            ],
            "type": "histogram2dcontour"
           }
          ],
          "mesh3d": [
           {
            "colorbar": {
             "outlinewidth": 1,
             "tickcolor": "rgb(36,36,36)",
             "ticks": "outside"
            },
            "type": "mesh3d"
           }
          ],
          "parcoords": [
           {
            "line": {
             "colorbar": {
              "outlinewidth": 1,
              "tickcolor": "rgb(36,36,36)",
              "ticks": "outside"
             }
            },
            "type": "parcoords"
           }
          ],
          "pie": [
           {
            "automargin": true,
            "type": "pie"
           }
          ],
          "scatter": [
           {
            "marker": {
             "colorbar": {
              "outlinewidth": 1,
              "tickcolor": "rgb(36,36,36)",
              "ticks": "outside"
             }
            },
            "type": "scatter"
           }
          ],
          "scatter3d": [
           {
            "line": {
             "colorbar": {
              "outlinewidth": 1,
              "tickcolor": "rgb(36,36,36)",
              "ticks": "outside"
             }
            },
            "marker": {
             "colorbar": {
              "outlinewidth": 1,
              "tickcolor": "rgb(36,36,36)",
              "ticks": "outside"
             }
            },
            "type": "scatter3d"
           }
          ],
          "scattercarpet": [
           {
            "marker": {
             "colorbar": {
              "outlinewidth": 1,
              "tickcolor": "rgb(36,36,36)",
              "ticks": "outside"
             }
            },
            "type": "scattercarpet"
           }
          ],
          "scattergeo": [
           {
            "marker": {
             "colorbar": {
              "outlinewidth": 1,
              "tickcolor": "rgb(36,36,36)",
              "ticks": "outside"
             }
            },
            "type": "scattergeo"
           }
          ],
          "scattergl": [
           {
            "marker": {
             "colorbar": {
              "outlinewidth": 1,
              "tickcolor": "rgb(36,36,36)",
              "ticks": "outside"
             }
            },
            "type": "scattergl"
           }
          ],
          "scattermapbox": [
           {
            "marker": {
             "colorbar": {
              "outlinewidth": 1,
              "tickcolor": "rgb(36,36,36)",
              "ticks": "outside"
             }
            },
            "type": "scattermapbox"
           }
          ],
          "scatterpolar": [
           {
            "marker": {
             "colorbar": {
              "outlinewidth": 1,
              "tickcolor": "rgb(36,36,36)",
              "ticks": "outside"
             }
            },
            "type": "scatterpolar"
           }
          ],
          "scatterpolargl": [
           {
            "marker": {
             "colorbar": {
              "outlinewidth": 1,
              "tickcolor": "rgb(36,36,36)",
              "ticks": "outside"
             }
            },
            "type": "scatterpolargl"
           }
          ],
          "scatterternary": [
           {
            "marker": {
             "colorbar": {
              "outlinewidth": 1,
              "tickcolor": "rgb(36,36,36)",
              "ticks": "outside"
             }
            },
            "type": "scatterternary"
           }
          ],
          "surface": [
           {
            "colorbar": {
             "outlinewidth": 1,
             "tickcolor": "rgb(36,36,36)",
             "ticks": "outside"
            },
            "colorscale": [
             [
              0,
              "#440154"
             ],
             [
              0.1111111111111111,
              "#482878"
             ],
             [
              0.2222222222222222,
              "#3e4989"
             ],
             [
              0.3333333333333333,
              "#31688e"
             ],
             [
              0.4444444444444444,
              "#26828e"
             ],
             [
              0.5555555555555556,
              "#1f9e89"
             ],
             [
              0.6666666666666666,
              "#35b779"
             ],
             [
              0.7777777777777778,
              "#6ece58"
             ],
             [
              0.8888888888888888,
              "#b5de2b"
             ],
             [
              1,
              "#fde725"
             ]
            ],
            "type": "surface"
           }
          ],
          "table": [
           {
            "cells": {
             "fill": {
              "color": "rgb(237,237,237)"
             },
             "line": {
              "color": "white"
             }
            },
            "header": {
             "fill": {
              "color": "rgb(217,217,217)"
             },
             "line": {
              "color": "white"
             }
            },
            "type": "table"
           }
          ]
         },
         "layout": {
          "annotationdefaults": {
           "arrowhead": 0,
           "arrowwidth": 1
          },
          "coloraxis": {
           "colorbar": {
            "outlinewidth": 1,
            "tickcolor": "rgb(36,36,36)",
            "ticks": "outside"
           }
          },
          "colorscale": {
           "diverging": [
            [
             0,
             "rgb(103,0,31)"
            ],
            [
             0.1,
             "rgb(178,24,43)"
            ],
            [
             0.2,
             "rgb(214,96,77)"
            ],
            [
             0.3,
             "rgb(244,165,130)"
            ],
            [
             0.4,
             "rgb(253,219,199)"
            ],
            [
             0.5,
             "rgb(247,247,247)"
            ],
            [
             0.6,
             "rgb(209,229,240)"
            ],
            [
             0.7,
             "rgb(146,197,222)"
            ],
            [
             0.8,
             "rgb(67,147,195)"
            ],
            [
             0.9,
             "rgb(33,102,172)"
            ],
            [
             1,
             "rgb(5,48,97)"
            ]
           ],
           "sequential": [
            [
             0,
             "#440154"
            ],
            [
             0.1111111111111111,
             "#482878"
            ],
            [
             0.2222222222222222,
             "#3e4989"
            ],
            [
             0.3333333333333333,
             "#31688e"
            ],
            [
             0.4444444444444444,
             "#26828e"
            ],
            [
             0.5555555555555556,
             "#1f9e89"
            ],
            [
             0.6666666666666666,
             "#35b779"
            ],
            [
             0.7777777777777778,
             "#6ece58"
            ],
            [
             0.8888888888888888,
             "#b5de2b"
            ],
            [
             1,
             "#fde725"
            ]
           ],
           "sequentialminus": [
            [
             0,
             "#440154"
            ],
            [
             0.1111111111111111,
             "#482878"
            ],
            [
             0.2222222222222222,
             "#3e4989"
            ],
            [
             0.3333333333333333,
             "#31688e"
            ],
            [
             0.4444444444444444,
             "#26828e"
            ],
            [
             0.5555555555555556,
             "#1f9e89"
            ],
            [
             0.6666666666666666,
             "#35b779"
            ],
            [
             0.7777777777777778,
             "#6ece58"
            ],
            [
             0.8888888888888888,
             "#b5de2b"
            ],
            [
             1,
             "#fde725"
            ]
           ]
          },
          "colorway": [
           "#1F77B4",
           "#FF7F0E",
           "#2CA02C",
           "#D62728",
           "#9467BD",
           "#8C564B",
           "#E377C2",
           "#7F7F7F",
           "#BCBD22",
           "#17BECF"
          ],
          "font": {
           "color": "rgb(36,36,36)"
          },
          "geo": {
           "bgcolor": "white",
           "lakecolor": "white",
           "landcolor": "white",
           "showlakes": true,
           "showland": true,
           "subunitcolor": "white"
          },
          "hoverlabel": {
           "align": "left"
          },
          "hovermode": "closest",
          "mapbox": {
           "style": "light"
          },
          "paper_bgcolor": "white",
          "plot_bgcolor": "white",
          "polar": {
           "angularaxis": {
            "gridcolor": "rgb(232,232,232)",
            "linecolor": "rgb(36,36,36)",
            "showgrid": false,
            "showline": true,
            "ticks": "outside"
           },
           "bgcolor": "white",
           "radialaxis": {
            "gridcolor": "rgb(232,232,232)",
            "linecolor": "rgb(36,36,36)",
            "showgrid": false,
            "showline": true,
            "ticks": "outside"
           }
          },
          "scene": {
           "xaxis": {
            "backgroundcolor": "white",
            "gridcolor": "rgb(232,232,232)",
            "gridwidth": 2,
            "linecolor": "rgb(36,36,36)",
            "showbackground": true,
            "showgrid": false,
            "showline": true,
            "ticks": "outside",
            "zeroline": false,
            "zerolinecolor": "rgb(36,36,36)"
           },
           "yaxis": {
            "backgroundcolor": "white",
            "gridcolor": "rgb(232,232,232)",
            "gridwidth": 2,
            "linecolor": "rgb(36,36,36)",
            "showbackground": true,
            "showgrid": false,
            "showline": true,
            "ticks": "outside",
            "zeroline": false,
            "zerolinecolor": "rgb(36,36,36)"
           },
           "zaxis": {
            "backgroundcolor": "white",
            "gridcolor": "rgb(232,232,232)",
            "gridwidth": 2,
            "linecolor": "rgb(36,36,36)",
            "showbackground": true,
            "showgrid": false,
            "showline": true,
            "ticks": "outside",
            "zeroline": false,
            "zerolinecolor": "rgb(36,36,36)"
           }
          },
          "shapedefaults": {
           "fillcolor": "black",
           "line": {
            "width": 0
           },
           "opacity": 0.3
          },
          "ternary": {
           "aaxis": {
            "gridcolor": "rgb(232,232,232)",
            "linecolor": "rgb(36,36,36)",
            "showgrid": false,
            "showline": true,
            "ticks": "outside"
           },
           "baxis": {
            "gridcolor": "rgb(232,232,232)",
            "linecolor": "rgb(36,36,36)",
            "showgrid": false,
            "showline": true,
            "ticks": "outside"
           },
           "bgcolor": "white",
           "caxis": {
            "gridcolor": "rgb(232,232,232)",
            "linecolor": "rgb(36,36,36)",
            "showgrid": false,
            "showline": true,
            "ticks": "outside"
           }
          },
          "title": {
           "x": 0.05
          },
          "xaxis": {
           "automargin": true,
           "gridcolor": "rgb(232,232,232)",
           "linecolor": "rgb(36,36,36)",
           "showgrid": false,
           "showline": true,
           "ticks": "outside",
           "title": {
            "standoff": 15
           },
           "zeroline": false,
           "zerolinecolor": "rgb(36,36,36)"
          },
          "yaxis": {
           "automargin": true,
           "gridcolor": "rgb(232,232,232)",
           "linecolor": "rgb(36,36,36)",
           "showgrid": false,
           "showline": true,
           "ticks": "outside",
           "title": {
            "standoff": 15
           },
           "zeroline": false,
           "zerolinecolor": "rgb(36,36,36)"
          }
         }
        },
        "title": {
         "text": "Subreddit drift (cosine similarity from initial vector)"
        },
        "xaxis": {
         "anchor": "y",
         "domain": [
          0,
          1
         ],
         "title": {
          "text": "date"
         }
        },
        "yaxis": {
         "anchor": "x",
         "domain": [
          0,
          1
         ],
         "title": {
          "text": "Drift (Cosine Similarity)"
         }
        }
       }
      },
      "text/html": [
       "<div>\n",
       "        \n",
       "        \n",
       "            <div id=\"a3955611-7e68-460b-a339-887abed21699\" class=\"plotly-graph-div\" style=\"height:525px; width:100%;\"></div>\n",
       "            <script type=\"text/javascript\">\n",
       "                require([\"plotly\"], function(Plotly) {\n",
       "                    window.PLOTLYENV=window.PLOTLYENV || {};\n",
       "                    \n",
       "                if (document.getElementById(\"a3955611-7e68-460b-a339-887abed21699\")) {\n",
       "                    Plotly.newPlot(\n",
       "                        'a3955611-7e68-460b-a339-887abed21699',\n",
       "                        [{\"hovertemplate\": \"Subreddit=BaemyKlobaechar<br>date=%{x}<br>Drift (Cosine Similarity)=%{y}<extra></extra>\", \"legendgroup\": \"BaemyKlobaechar\", \"line\": {\"color\": \"#00CC96\", \"dash\": \"solid\", \"shape\": \"spline\"}, \"mode\": \"lines\", \"name\": \"BaemyKlobaechar\", \"orientation\": \"v\", \"showlegend\": true, \"type\": \"scatter\", \"x\": [\"2019-01-01T00:00:00\", \"2019-02-01T00:00:00\", \"2019-03-01T00:00:00\", \"2019-04-01T00:00:00\", \"2019-05-01T00:00:00\", \"2019-06-01T00:00:00\", \"2019-07-01T00:00:00\", \"2019-08-01T00:00:00\", \"2019-09-01T00:00:00\", \"2019-10-01T00:00:00\", \"2019-11-01T00:00:00\", \"2019-12-01T00:00:00\"], \"xaxis\": \"x\", \"y\": [1.0, 0.8393556621269712, 0.6382554401286314, 0.792331049956903, 0.6364814778846676, 0.6816137917915233, 0.5758102824660932, 0.711631490085588, 0.7298238080778333, 0.6466732745256831, 0.6464423258000811, 0.6373039196220482], \"yaxis\": \"y\"}, {\"hovertemplate\": \"Subreddit=Cooking<br>date=%{x}<br>Drift (Cosine Similarity)=%{y}<extra></extra>\", \"legendgroup\": \"Cooking\", \"line\": {\"color\": \"#7F7F7F\", \"dash\": \"solid\", \"shape\": \"spline\"}, \"mode\": \"lines\", \"name\": \"Cooking\", \"orientation\": \"v\", \"showlegend\": true, \"type\": \"scatter\", \"x\": [\"2019-01-01T00:00:00\", \"2019-02-01T00:00:00\", \"2019-03-01T00:00:00\", \"2019-04-01T00:00:00\", \"2019-05-01T00:00:00\", \"2019-06-01T00:00:00\", \"2019-07-01T00:00:00\", \"2019-08-01T00:00:00\", \"2019-09-01T00:00:00\", \"2019-10-01T00:00:00\", \"2019-11-01T00:00:00\", \"2019-12-01T00:00:00\"], \"xaxis\": \"x\", \"y\": [1.0000000000000002, 0.9178947706239244, 0.8474934092571812, 0.8464277862548594, 0.8584748670764195, 0.8503079882181352, 0.7745329242140774, 0.8015873219334164, 0.8079309667768182, 0.8142869436049858, 0.8141733174335679, 0.7977329910096566], \"yaxis\": \"y\"}, {\"hovertemplate\": \"Subreddit=ElizabethWarren<br>date=%{x}<br>Drift (Cosine Similarity)=%{y}<extra></extra>\", \"legendgroup\": \"ElizabethWarren\", \"line\": {\"color\": \"#AB63FA\", \"dash\": \"solid\", \"shape\": \"spline\"}, \"mode\": \"lines\", \"name\": \"ElizabethWarren\", \"orientation\": \"v\", \"showlegend\": true, \"type\": \"scatter\", \"x\": [\"2019-01-01T00:00:00\", \"2019-02-01T00:00:00\", \"2019-03-01T00:00:00\", \"2019-04-01T00:00:00\", \"2019-05-01T00:00:00\", \"2019-06-01T00:00:00\", \"2019-07-01T00:00:00\", \"2019-08-01T00:00:00\", \"2019-09-01T00:00:00\", \"2019-10-01T00:00:00\", \"2019-11-01T00:00:00\", \"2019-12-01T00:00:00\"], \"xaxis\": \"x\", \"y\": [1.0000000000000002, 0.7464851268063494, 0.7258640895560561, 0.6825425217922407, 0.6787331942753173, 0.7085065545984922, 0.6391403507949515, 0.6476631519018019, 0.6606935122251051, 0.6295526427367535, 0.6321344474907326, 0.6018683511349047], \"yaxis\": \"y\"}, {\"hovertemplate\": \"Subreddit=JoeBiden<br>date=%{x}<br>Drift (Cosine Similarity)=%{y}<extra></extra>\", \"legendgroup\": \"JoeBiden\", \"line\": {\"color\": \"#636EFA\", \"dash\": \"solid\", \"shape\": \"spline\"}, \"mode\": \"lines\", \"name\": \"JoeBiden\", \"orientation\": \"v\", \"showlegend\": true, \"type\": \"scatter\", \"x\": [\"2019-01-01T00:00:00\", \"2019-02-01T00:00:00\", \"2019-03-01T00:00:00\", \"2019-04-01T00:00:00\", \"2019-05-01T00:00:00\", \"2019-06-01T00:00:00\", \"2019-07-01T00:00:00\", \"2019-08-01T00:00:00\", \"2019-09-01T00:00:00\", \"2019-10-01T00:00:00\", \"2019-11-01T00:00:00\", \"2019-12-01T00:00:00\"], \"xaxis\": \"x\", \"y\": [1.0, -0.1717200458409794, -0.11398793313185342, -0.3734381190182235, -0.37034104988710864, -0.3917803675286304, -0.3773940984483515, -0.34396954869514973, -0.33955715294158256, -0.4012953418430464, -0.398322060183044, -0.40390589990344333], \"yaxis\": \"y\"}, {\"hovertemplate\": \"Subreddit=Pete_Buttigieg<br>date=%{x}<br>Drift (Cosine Similarity)=%{y}<extra></extra>\", \"legendgroup\": \"Pete_Buttigieg\", \"line\": {\"color\": \"#FFA15A\", \"dash\": \"solid\", \"shape\": \"spline\"}, \"mode\": \"lines\", \"name\": \"Pete_Buttigieg\", \"orientation\": \"v\", \"showlegend\": true, \"type\": \"scatter\", \"x\": [\"2019-01-01T00:00:00\", \"2019-02-01T00:00:00\", \"2019-03-01T00:00:00\", \"2019-04-01T00:00:00\", \"2019-05-01T00:00:00\", \"2019-06-01T00:00:00\", \"2019-07-01T00:00:00\", \"2019-08-01T00:00:00\", \"2019-09-01T00:00:00\", \"2019-10-01T00:00:00\", \"2019-11-01T00:00:00\", \"2019-12-01T00:00:00\"], \"xaxis\": \"x\", \"y\": [1.0000000000000002, 0.7064219514902522, 0.5809742501465875, 0.6064119524490756, 0.5818129092832101, 0.5263349947456735, 0.5417775444487829, 0.558907098799659, 0.5833852699769289, 0.5646914890688041, 0.5574476072217616, 0.5373032509570517], \"yaxis\": \"y\"}, {\"hovertemplate\": \"Subreddit=SandersForPresident<br>date=%{x}<br>Drift (Cosine Similarity)=%{y}<extra></extra>\", \"legendgroup\": \"SandersForPresident\", \"line\": {\"color\": \"#EF553B\", \"dash\": \"solid\", \"shape\": \"spline\"}, \"mode\": \"lines\", \"name\": \"SandersForPresident\", \"orientation\": \"v\", \"showlegend\": true, \"type\": \"scatter\", \"x\": [\"2019-01-01T00:00:00\", \"2019-02-01T00:00:00\", \"2019-03-01T00:00:00\", \"2019-04-01T00:00:00\", \"2019-05-01T00:00:00\", \"2019-06-01T00:00:00\", \"2019-07-01T00:00:00\", \"2019-08-01T00:00:00\", \"2019-09-01T00:00:00\", \"2019-10-01T00:00:00\", \"2019-11-01T00:00:00\", \"2019-12-01T00:00:00\"], \"xaxis\": \"x\", \"y\": [1.0000000000000002, 0.9033119074547815, 0.8811741278180016, 0.8542677843627227, 0.8374978882670897, 0.7743928693550184, 0.8028092929281843, 0.7514940435091465, 0.7784952867073063, 0.7659584522401855, 0.7685315965766679, 0.7236162429052335], \"yaxis\": \"y\"}, {\"hovertemplate\": \"Subreddit=The_Donald<br>date=%{x}<br>Drift (Cosine Similarity)=%{y}<extra></extra>\", \"legendgroup\": \"The_Donald\", \"line\": {\"color\": \"#FF6692\", \"dash\": \"solid\", \"shape\": \"spline\"}, \"mode\": \"lines\", \"name\": \"The_Donald\", \"orientation\": \"v\", \"showlegend\": true, \"type\": \"scatter\", \"x\": [\"2019-01-01T00:00:00\", \"2019-02-01T00:00:00\", \"2019-03-01T00:00:00\", \"2019-04-01T00:00:00\", \"2019-05-01T00:00:00\", \"2019-06-01T00:00:00\", \"2019-07-01T00:00:00\", \"2019-08-01T00:00:00\", \"2019-09-01T00:00:00\", \"2019-10-01T00:00:00\", \"2019-11-01T00:00:00\", \"2019-12-01T00:00:00\"], \"xaxis\": \"x\", \"y\": [0.9999999999999998, 0.9406132889574457, 0.9242957343070075, 0.8926275022412377, 0.8858997614820492, 0.8909969545722467, 0.9014283953446734, 0.8972959177309187, 0.8912086261180319, 0.8822648208410884, 0.8773515061284815, 0.8873606472317285], \"yaxis\": \"y\"}, {\"hovertemplate\": \"Subreddit=YangForPresidentHQ<br>date=%{x}<br>Drift (Cosine Similarity)=%{y}<extra></extra>\", \"legendgroup\": \"YangForPresidentHQ\", \"line\": {\"color\": \"#19D3F3\", \"dash\": \"solid\", \"shape\": \"spline\"}, \"mode\": \"lines\", \"name\": \"YangForPresidentHQ\", \"orientation\": \"v\", \"showlegend\": true, \"type\": \"scatter\", \"x\": [\"2019-01-01T00:00:00\", \"2019-02-01T00:00:00\", \"2019-03-01T00:00:00\", \"2019-04-01T00:00:00\", \"2019-05-01T00:00:00\", \"2019-06-01T00:00:00\", \"2019-07-01T00:00:00\", \"2019-08-01T00:00:00\", \"2019-09-01T00:00:00\", \"2019-10-01T00:00:00\", \"2019-11-01T00:00:00\", \"2019-12-01T00:00:00\"], \"xaxis\": \"x\", \"y\": [1.0, 0.6782841399314691, 0.6424875986570779, 0.6562922377955241, 0.6375242574110558, 0.6128354357430029, 0.5900161705851878, 0.5733866013540433, 0.5488766629896519, 0.5286512597256562, 0.5098231860615743, 0.5033576245277551], \"yaxis\": \"y\"}, {\"hovertemplate\": \"Subreddit=technology<br>date=%{x}<br>Drift (Cosine Similarity)=%{y}<extra></extra>\", \"legendgroup\": \"technology\", \"line\": {\"color\": \"#BCBD22\", \"dash\": \"solid\", \"shape\": \"spline\"}, \"mode\": \"lines\", \"name\": \"technology\", \"orientation\": \"v\", \"showlegend\": true, \"type\": \"scatter\", \"x\": [\"2019-01-01T00:00:00\", \"2019-02-01T00:00:00\", \"2019-03-01T00:00:00\", \"2019-04-01T00:00:00\", \"2019-05-01T00:00:00\", \"2019-06-01T00:00:00\", \"2019-07-01T00:00:00\", \"2019-08-01T00:00:00\", \"2019-09-01T00:00:00\", \"2019-10-01T00:00:00\", \"2019-11-01T00:00:00\", \"2019-12-01T00:00:00\"], \"xaxis\": \"x\", \"y\": [0.9999999999999999, 0.9070902312165365, 0.8371258954592006, 0.7627805734589616, 0.7666103649090956, 0.7629419028359172, 0.7475035731280093, 0.7167962178028998, 0.6848048604156848, 0.7161408925770999, 0.7204287983804741, 0.6916126022706034], \"yaxis\": \"y\"}],\n",
       "                        {\"legend\": {\"title\": {\"text\": \"Subreddit\"}, \"tracegroupgap\": 0}, \"template\": {\"data\": {\"bar\": [{\"error_x\": {\"color\": \"rgb(36,36,36)\"}, \"error_y\": {\"color\": \"rgb(36,36,36)\"}, \"marker\": {\"line\": {\"color\": \"white\", \"width\": 0.5}}, \"type\": \"bar\"}], \"barpolar\": [{\"marker\": {\"line\": {\"color\": \"white\", \"width\": 0.5}}, \"type\": \"barpolar\"}], \"carpet\": [{\"aaxis\": {\"endlinecolor\": \"rgb(36,36,36)\", \"gridcolor\": \"white\", \"linecolor\": \"white\", \"minorgridcolor\": \"white\", \"startlinecolor\": \"rgb(36,36,36)\"}, \"baxis\": {\"endlinecolor\": \"rgb(36,36,36)\", \"gridcolor\": \"white\", \"linecolor\": \"white\", \"minorgridcolor\": \"white\", \"startlinecolor\": \"rgb(36,36,36)\"}, \"type\": \"carpet\"}], \"choropleth\": [{\"colorbar\": {\"outlinewidth\": 1, \"tickcolor\": \"rgb(36,36,36)\", \"ticks\": \"outside\"}, \"type\": \"choropleth\"}], \"contour\": [{\"colorbar\": {\"outlinewidth\": 1, \"tickcolor\": \"rgb(36,36,36)\", \"ticks\": \"outside\"}, \"colorscale\": [[0.0, \"#440154\"], [0.1111111111111111, \"#482878\"], [0.2222222222222222, \"#3e4989\"], [0.3333333333333333, \"#31688e\"], [0.4444444444444444, \"#26828e\"], [0.5555555555555556, \"#1f9e89\"], [0.6666666666666666, \"#35b779\"], [0.7777777777777778, \"#6ece58\"], [0.8888888888888888, \"#b5de2b\"], [1.0, \"#fde725\"]], \"type\": \"contour\"}], \"contourcarpet\": [{\"colorbar\": {\"outlinewidth\": 1, \"tickcolor\": \"rgb(36,36,36)\", \"ticks\": \"outside\"}, \"type\": \"contourcarpet\"}], \"heatmap\": [{\"colorbar\": {\"outlinewidth\": 1, \"tickcolor\": \"rgb(36,36,36)\", \"ticks\": \"outside\"}, \"colorscale\": [[0.0, \"#440154\"], [0.1111111111111111, \"#482878\"], [0.2222222222222222, \"#3e4989\"], [0.3333333333333333, \"#31688e\"], [0.4444444444444444, \"#26828e\"], [0.5555555555555556, \"#1f9e89\"], [0.6666666666666666, \"#35b779\"], [0.7777777777777778, \"#6ece58\"], [0.8888888888888888, \"#b5de2b\"], [1.0, \"#fde725\"]], \"type\": \"heatmap\"}], \"heatmapgl\": [{\"colorbar\": {\"outlinewidth\": 1, \"tickcolor\": \"rgb(36,36,36)\", \"ticks\": \"outside\"}, \"colorscale\": [[0.0, \"#440154\"], [0.1111111111111111, \"#482878\"], [0.2222222222222222, \"#3e4989\"], [0.3333333333333333, \"#31688e\"], [0.4444444444444444, \"#26828e\"], [0.5555555555555556, \"#1f9e89\"], [0.6666666666666666, \"#35b779\"], [0.7777777777777778, \"#6ece58\"], [0.8888888888888888, \"#b5de2b\"], [1.0, \"#fde725\"]], \"type\": \"heatmapgl\"}], \"histogram\": [{\"marker\": {\"line\": {\"color\": \"white\", \"width\": 0.6}}, \"type\": \"histogram\"}], \"histogram2d\": [{\"colorbar\": {\"outlinewidth\": 1, \"tickcolor\": \"rgb(36,36,36)\", \"ticks\": \"outside\"}, \"colorscale\": [[0.0, \"#440154\"], [0.1111111111111111, \"#482878\"], [0.2222222222222222, \"#3e4989\"], [0.3333333333333333, \"#31688e\"], [0.4444444444444444, \"#26828e\"], [0.5555555555555556, \"#1f9e89\"], [0.6666666666666666, \"#35b779\"], [0.7777777777777778, \"#6ece58\"], [0.8888888888888888, \"#b5de2b\"], [1.0, \"#fde725\"]], \"type\": \"histogram2d\"}], \"histogram2dcontour\": [{\"colorbar\": {\"outlinewidth\": 1, \"tickcolor\": \"rgb(36,36,36)\", \"ticks\": \"outside\"}, \"colorscale\": [[0.0, \"#440154\"], [0.1111111111111111, \"#482878\"], [0.2222222222222222, \"#3e4989\"], [0.3333333333333333, \"#31688e\"], [0.4444444444444444, \"#26828e\"], [0.5555555555555556, \"#1f9e89\"], [0.6666666666666666, \"#35b779\"], [0.7777777777777778, \"#6ece58\"], [0.8888888888888888, \"#b5de2b\"], [1.0, \"#fde725\"]], \"type\": \"histogram2dcontour\"}], \"mesh3d\": [{\"colorbar\": {\"outlinewidth\": 1, \"tickcolor\": \"rgb(36,36,36)\", \"ticks\": \"outside\"}, \"type\": \"mesh3d\"}], \"parcoords\": [{\"line\": {\"colorbar\": {\"outlinewidth\": 1, \"tickcolor\": \"rgb(36,36,36)\", \"ticks\": \"outside\"}}, \"type\": \"parcoords\"}], \"pie\": [{\"automargin\": true, \"type\": \"pie\"}], \"scatter\": [{\"marker\": {\"colorbar\": {\"outlinewidth\": 1, \"tickcolor\": \"rgb(36,36,36)\", \"ticks\": \"outside\"}}, \"type\": \"scatter\"}], \"scatter3d\": [{\"line\": {\"colorbar\": {\"outlinewidth\": 1, \"tickcolor\": \"rgb(36,36,36)\", \"ticks\": \"outside\"}}, \"marker\": {\"colorbar\": {\"outlinewidth\": 1, \"tickcolor\": \"rgb(36,36,36)\", \"ticks\": \"outside\"}}, \"type\": \"scatter3d\"}], \"scattercarpet\": [{\"marker\": {\"colorbar\": {\"outlinewidth\": 1, \"tickcolor\": \"rgb(36,36,36)\", \"ticks\": \"outside\"}}, \"type\": \"scattercarpet\"}], \"scattergeo\": [{\"marker\": {\"colorbar\": {\"outlinewidth\": 1, \"tickcolor\": \"rgb(36,36,36)\", \"ticks\": \"outside\"}}, \"type\": \"scattergeo\"}], \"scattergl\": [{\"marker\": {\"colorbar\": {\"outlinewidth\": 1, \"tickcolor\": \"rgb(36,36,36)\", \"ticks\": \"outside\"}}, \"type\": \"scattergl\"}], \"scattermapbox\": [{\"marker\": {\"colorbar\": {\"outlinewidth\": 1, \"tickcolor\": \"rgb(36,36,36)\", \"ticks\": \"outside\"}}, \"type\": \"scattermapbox\"}], \"scatterpolar\": [{\"marker\": {\"colorbar\": {\"outlinewidth\": 1, \"tickcolor\": \"rgb(36,36,36)\", \"ticks\": \"outside\"}}, \"type\": \"scatterpolar\"}], \"scatterpolargl\": [{\"marker\": {\"colorbar\": {\"outlinewidth\": 1, \"tickcolor\": \"rgb(36,36,36)\", \"ticks\": \"outside\"}}, \"type\": \"scatterpolargl\"}], \"scatterternary\": [{\"marker\": {\"colorbar\": {\"outlinewidth\": 1, \"tickcolor\": \"rgb(36,36,36)\", \"ticks\": \"outside\"}}, \"type\": \"scatterternary\"}], \"surface\": [{\"colorbar\": {\"outlinewidth\": 1, \"tickcolor\": \"rgb(36,36,36)\", \"ticks\": \"outside\"}, \"colorscale\": [[0.0, \"#440154\"], [0.1111111111111111, \"#482878\"], [0.2222222222222222, \"#3e4989\"], [0.3333333333333333, \"#31688e\"], [0.4444444444444444, \"#26828e\"], [0.5555555555555556, \"#1f9e89\"], [0.6666666666666666, \"#35b779\"], [0.7777777777777778, \"#6ece58\"], [0.8888888888888888, \"#b5de2b\"], [1.0, \"#fde725\"]], \"type\": \"surface\"}], \"table\": [{\"cells\": {\"fill\": {\"color\": \"rgb(237,237,237)\"}, \"line\": {\"color\": \"white\"}}, \"header\": {\"fill\": {\"color\": \"rgb(217,217,217)\"}, \"line\": {\"color\": \"white\"}}, \"type\": \"table\"}]}, \"layout\": {\"annotationdefaults\": {\"arrowhead\": 0, \"arrowwidth\": 1}, \"coloraxis\": {\"colorbar\": {\"outlinewidth\": 1, \"tickcolor\": \"rgb(36,36,36)\", \"ticks\": \"outside\"}}, \"colorscale\": {\"diverging\": [[0.0, \"rgb(103,0,31)\"], [0.1, \"rgb(178,24,43)\"], [0.2, \"rgb(214,96,77)\"], [0.3, \"rgb(244,165,130)\"], [0.4, \"rgb(253,219,199)\"], [0.5, \"rgb(247,247,247)\"], [0.6, \"rgb(209,229,240)\"], [0.7, \"rgb(146,197,222)\"], [0.8, \"rgb(67,147,195)\"], [0.9, \"rgb(33,102,172)\"], [1.0, \"rgb(5,48,97)\"]], \"sequential\": [[0.0, \"#440154\"], [0.1111111111111111, \"#482878\"], [0.2222222222222222, \"#3e4989\"], [0.3333333333333333, \"#31688e\"], [0.4444444444444444, \"#26828e\"], [0.5555555555555556, \"#1f9e89\"], [0.6666666666666666, \"#35b779\"], [0.7777777777777778, \"#6ece58\"], [0.8888888888888888, \"#b5de2b\"], [1.0, \"#fde725\"]], \"sequentialminus\": [[0.0, \"#440154\"], [0.1111111111111111, \"#482878\"], [0.2222222222222222, \"#3e4989\"], [0.3333333333333333, \"#31688e\"], [0.4444444444444444, \"#26828e\"], [0.5555555555555556, \"#1f9e89\"], [0.6666666666666666, \"#35b779\"], [0.7777777777777778, \"#6ece58\"], [0.8888888888888888, \"#b5de2b\"], [1.0, \"#fde725\"]]}, \"colorway\": [\"#1F77B4\", \"#FF7F0E\", \"#2CA02C\", \"#D62728\", \"#9467BD\", \"#8C564B\", \"#E377C2\", \"#7F7F7F\", \"#BCBD22\", \"#17BECF\"], \"font\": {\"color\": \"rgb(36,36,36)\"}, \"geo\": {\"bgcolor\": \"white\", \"lakecolor\": \"white\", \"landcolor\": \"white\", \"showlakes\": true, \"showland\": true, \"subunitcolor\": \"white\"}, \"hoverlabel\": {\"align\": \"left\"}, \"hovermode\": \"closest\", \"mapbox\": {\"style\": \"light\"}, \"paper_bgcolor\": \"white\", \"plot_bgcolor\": \"white\", \"polar\": {\"angularaxis\": {\"gridcolor\": \"rgb(232,232,232)\", \"linecolor\": \"rgb(36,36,36)\", \"showgrid\": false, \"showline\": true, \"ticks\": \"outside\"}, \"bgcolor\": \"white\", \"radialaxis\": {\"gridcolor\": \"rgb(232,232,232)\", \"linecolor\": \"rgb(36,36,36)\", \"showgrid\": false, \"showline\": true, \"ticks\": \"outside\"}}, \"scene\": {\"xaxis\": {\"backgroundcolor\": \"white\", \"gridcolor\": \"rgb(232,232,232)\", \"gridwidth\": 2, \"linecolor\": \"rgb(36,36,36)\", \"showbackground\": true, \"showgrid\": false, \"showline\": true, \"ticks\": \"outside\", \"zeroline\": false, \"zerolinecolor\": \"rgb(36,36,36)\"}, \"yaxis\": {\"backgroundcolor\": \"white\", \"gridcolor\": \"rgb(232,232,232)\", \"gridwidth\": 2, \"linecolor\": \"rgb(36,36,36)\", \"showbackground\": true, \"showgrid\": false, \"showline\": true, \"ticks\": \"outside\", \"zeroline\": false, \"zerolinecolor\": \"rgb(36,36,36)\"}, \"zaxis\": {\"backgroundcolor\": \"white\", \"gridcolor\": \"rgb(232,232,232)\", \"gridwidth\": 2, \"linecolor\": \"rgb(36,36,36)\", \"showbackground\": true, \"showgrid\": false, \"showline\": true, \"ticks\": \"outside\", \"zeroline\": false, \"zerolinecolor\": \"rgb(36,36,36)\"}}, \"shapedefaults\": {\"fillcolor\": \"black\", \"line\": {\"width\": 0}, \"opacity\": 0.3}, \"ternary\": {\"aaxis\": {\"gridcolor\": \"rgb(232,232,232)\", \"linecolor\": \"rgb(36,36,36)\", \"showgrid\": false, \"showline\": true, \"ticks\": \"outside\"}, \"baxis\": {\"gridcolor\": \"rgb(232,232,232)\", \"linecolor\": \"rgb(36,36,36)\", \"showgrid\": false, \"showline\": true, \"ticks\": \"outside\"}, \"bgcolor\": \"white\", \"caxis\": {\"gridcolor\": \"rgb(232,232,232)\", \"linecolor\": \"rgb(36,36,36)\", \"showgrid\": false, \"showline\": true, \"ticks\": \"outside\"}}, \"title\": {\"x\": 0.05}, \"xaxis\": {\"automargin\": true, \"gridcolor\": \"rgb(232,232,232)\", \"linecolor\": \"rgb(36,36,36)\", \"showgrid\": false, \"showline\": true, \"ticks\": \"outside\", \"title\": {\"standoff\": 15}, \"zeroline\": false, \"zerolinecolor\": \"rgb(36,36,36)\"}, \"yaxis\": {\"automargin\": true, \"gridcolor\": \"rgb(232,232,232)\", \"linecolor\": \"rgb(36,36,36)\", \"showgrid\": false, \"showline\": true, \"ticks\": \"outside\", \"title\": {\"standoff\": 15}, \"zeroline\": false, \"zerolinecolor\": \"rgb(36,36,36)\"}}}, \"title\": {\"text\": \"Subreddit drift (cosine similarity from initial vector)\"}, \"xaxis\": {\"anchor\": \"y\", \"domain\": [0.0, 1.0], \"title\": {\"text\": \"date\"}}, \"yaxis\": {\"anchor\": \"x\", \"domain\": [0.0, 1.0], \"title\": {\"text\": \"Drift (Cosine Similarity)\"}}},\n",
       "                        {\"responsive\": true}\n",
       "                    ).then(function(){\n",
       "                            \n",
       "var gd = document.getElementById('a3955611-7e68-460b-a339-887abed21699');\n",
       "var x = new MutationObserver(function (mutations, observer) {{\n",
       "        var display = window.getComputedStyle(gd).display;\n",
       "        if (!display || display === 'none') {{\n",
       "            console.log([gd, 'removed!']);\n",
       "            Plotly.purge(gd);\n",
       "            observer.disconnect();\n",
       "        }}\n",
       "}});\n",
       "\n",
       "// Listen for the removal of the full notebook cells\n",
       "var notebookContainer = gd.closest('#notebook-container');\n",
       "if (notebookContainer) {{\n",
       "    x.observe(notebookContainer, {childList: true});\n",
       "}}\n",
       "\n",
       "// Listen for the clearing of the current output cell\n",
       "var outputEl = gd.closest('.output');\n",
       "if (outputEl) {{\n",
       "    x.observe(outputEl, {childList: true});\n",
       "}}\n",
       "\n",
       "                        })\n",
       "                };\n",
       "                });\n",
       "            </script>\n",
       "        </div>"
      ]
     },
     "metadata": {},
     "output_type": "display_data"
    }
   ],
   "source": [
    " args = {\n",
    "    \"x\": \"date\",\n",
    "    \"y\": \"drift\",\n",
    "    \"color\": \"subreddit\",\n",
    "    \"line_shape\": \"spline\",\n",
    "    \"title\":  \"Subreddit drift (cosine similarity from initial vector)\",\n",
    "    \"template\": \"simple_white\",\n",
    "    \"labels\": {\"drift\": \"Drift (Cosine Similarity)\", \"week\": \"Month\", \"subreddit\": \"Subreddit\"},\n",
    "    \"color_discrete_map\": mapping\n",
    "\n",
    "}\n",
    "\n",
    "fig = px.line(drift_test,**args)\n",
    "\n",
    "fig.write_html(\"visualizations/temporal/{}_sub_drift_over_time.html\".format(TIME_FRAME))\n",
    "fig.show()"
   ]
  },
  {
   "cell_type": "code",
   "execution_count": null,
   "metadata": {},
   "outputs": [],
   "source": []
  }
 ],
 "metadata": {
  "kernelspec": {
   "display_name": "Python 3",
   "language": "python",
   "name": "python3"
  },
  "language_info": {
   "codemirror_mode": {
    "name": "ipython",
    "version": 3
   },
   "file_extension": ".py",
   "mimetype": "text/x-python",
   "name": "python",
   "nbconvert_exporter": "python",
   "pygments_lexer": "ipython3",
   "version": "3.7.7"
  }
 },
 "nbformat": 4,
 "nbformat_minor": 4
}
