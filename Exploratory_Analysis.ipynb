{
 "cells": [
  {
   "cell_type": "code",
   "execution_count": null,
   "metadata": {},
   "outputs": [],
   "source": []
  },
  {
   "cell_type": "markdown",
   "metadata": {},
   "source": [
    "# Exploratory Analysis\n",
    "\n",
    "This notebook is meant to summarize subreddit activity over time and relate it to polling data. For information on the diversity of activity within political subreddits see `Content_Analysis`\n"
   ]
  },
  {
   "cell_type": "code",
   "execution_count": 19,
   "metadata": {},
   "outputs": [],
   "source": [
    "from utils import load_embedding, parse_tup, cos_sim, cos_dist\n",
    "from tqdm.auto import tqdm\n",
    "from datetime import datetime\n",
    "import plotly.graph_objects as go\n",
    "import plotly.express as px\n",
    "import numpy as np\n",
    "import pandas as pd"
   ]
  },
  {
   "cell_type": "code",
   "execution_count": 20,
   "metadata": {},
   "outputs": [],
   "source": [
    "# from utils import CANDIDATE_SUBS\n",
    "TIME_FRAME = \"monthly\"\n",
    "left_candidates = [\"JoeBiden\",\"SandersForPresident\",\"BaemyKlobaechar\",\"ElizabethWarren\",\"Pete_Buttigieg\",\"YangForPresidentHQ\"]\n",
    "right_candidates = [\"The_Donald\"]\n",
    "mapping = {}\n",
    "for a,b in zip(left_candidates+right_candidates,px.colors.qualitative.Plotly):\n",
    "    mapping[a] = b"
   ]
  },
  {
   "cell_type": "markdown",
   "metadata": {},
   "source": [
    "## Buisness Insider Polling Data"
   ]
  },
  {
   "cell_type": "code",
   "execution_count": 21,
   "metadata": {
    "scrolled": false
   },
   "outputs": [
    {
     "data": {
      "application/vnd.jupyter.widget-view+json": {
       "model_id": "cf24f6b38df14e6abdb731f00bb7c9bf",
       "version_major": 2,
       "version_minor": 0
      },
      "text/plain": [
       "HBox(children=(FloatProgress(value=0.0, max=40.0), HTML(value='')))"
      ]
     },
     "metadata": {},
     "output_type": "display_data"
    },
    {
     "name": "stdout",
     "output_type": "stream",
     "text": [
      "\n"
     ]
    },
    {
     "data": {
      "text/html": [
       "<div>\n",
       "<style scoped>\n",
       "    .dataframe tbody tr th:only-of-type {\n",
       "        vertical-align: middle;\n",
       "    }\n",
       "\n",
       "    .dataframe tbody tr th {\n",
       "        vertical-align: top;\n",
       "    }\n",
       "\n",
       "    .dataframe thead th {\n",
       "        text-align: right;\n",
       "    }\n",
       "</style>\n",
       "<table border=\"1\" class=\"dataframe\">\n",
       "  <thead>\n",
       "    <tr style=\"text-align: right;\">\n",
       "      <th></th>\n",
       "      <th>respondent_id</th>\n",
       "      <th>date</th>\n",
       "      <th>will_vote</th>\n",
       "      <th>political_beliefs</th>\n",
       "      <th>registered</th>\n",
       "      <th>ethnicity</th>\n",
       "      <th>age</th>\n",
       "      <th>gender</th>\n",
       "      <th>income</th>\n",
       "      <th>region</th>\n",
       "      <th>supports_biden</th>\n",
       "      <th>supports_sanders</th>\n",
       "      <th>supports_klobuchar</th>\n",
       "      <th>supports_warren</th>\n",
       "      <th>supports_buttigieg</th>\n",
       "      <th>supports_yang</th>\n",
       "      <th>supports_other</th>\n",
       "      <th>no_support</th>\n",
       "    </tr>\n",
       "  </thead>\n",
       "  <tbody>\n",
       "    <tr>\n",
       "      <th>4548</th>\n",
       "      <td>10491448652</td>\n",
       "      <td>2019-01-26 13:36:57</td>\n",
       "      <td>Yes I will likely vote in my state's Democrati...</td>\n",
       "      <td>Moderately liberal</td>\n",
       "      <td>Yes</td>\n",
       "      <td>Hispanic or Latino</td>\n",
       "      <td>45-60</td>\n",
       "      <td>Female</td>\n",
       "      <td>$75000-$99999</td>\n",
       "      <td>South Atlantic</td>\n",
       "      <td>0</td>\n",
       "      <td>0</td>\n",
       "      <td>0</td>\n",
       "      <td>0</td>\n",
       "      <td>0</td>\n",
       "      <td>0</td>\n",
       "      <td>1</td>\n",
       "      <td>0</td>\n",
       "    </tr>\n",
       "    <tr>\n",
       "      <th>4545</th>\n",
       "      <td>10491448848</td>\n",
       "      <td>2019-01-26 13:37:03</td>\n",
       "      <td>Yes I will likely vote in my state's Republica...</td>\n",
       "      <td>Moderately conservative</td>\n",
       "      <td>Yes</td>\n",
       "      <td>White or Caucasian</td>\n",
       "      <td>&gt; 60</td>\n",
       "      <td>Female</td>\n",
       "      <td>$25000-$49999</td>\n",
       "      <td>Middle Atlantic</td>\n",
       "      <td>1</td>\n",
       "      <td>1</td>\n",
       "      <td>0</td>\n",
       "      <td>0</td>\n",
       "      <td>0</td>\n",
       "      <td>0</td>\n",
       "      <td>0</td>\n",
       "      <td>0</td>\n",
       "    </tr>\n",
       "    <tr>\n",
       "      <th>4547</th>\n",
       "      <td>10491448683</td>\n",
       "      <td>2019-01-26 13:37:04</td>\n",
       "      <td>Yes I will likely vote in my state's Democrati...</td>\n",
       "      <td>Slightly liberal</td>\n",
       "      <td>Yes</td>\n",
       "      <td>White or Caucasian</td>\n",
       "      <td>30-44</td>\n",
       "      <td>Female</td>\n",
       "      <td>$75000-$99999</td>\n",
       "      <td>South Atlantic</td>\n",
       "      <td>1</td>\n",
       "      <td>0</td>\n",
       "      <td>0</td>\n",
       "      <td>0</td>\n",
       "      <td>0</td>\n",
       "      <td>0</td>\n",
       "      <td>0</td>\n",
       "      <td>0</td>\n",
       "    </tr>\n",
       "    <tr>\n",
       "      <th>4533</th>\n",
       "      <td>10491449586</td>\n",
       "      <td>2019-01-26 13:37:18</td>\n",
       "      <td>I don't know or I'd rather not say</td>\n",
       "      <td>Neither liberal nor conservative</td>\n",
       "      <td>Yes</td>\n",
       "      <td>White or Caucasian</td>\n",
       "      <td>18-29</td>\n",
       "      <td>Female</td>\n",
       "      <td>Prefer not to answer</td>\n",
       "      <td>West North Central</td>\n",
       "      <td>1</td>\n",
       "      <td>0</td>\n",
       "      <td>0</td>\n",
       "      <td>0</td>\n",
       "      <td>0</td>\n",
       "      <td>0</td>\n",
       "      <td>0</td>\n",
       "      <td>0</td>\n",
       "    </tr>\n",
       "    <tr>\n",
       "      <th>4546</th>\n",
       "      <td>10491448847</td>\n",
       "      <td>2019-01-26 13:37:19</td>\n",
       "      <td>Yes I will likely vote in my state's Democrati...</td>\n",
       "      <td>Moderately liberal</td>\n",
       "      <td>Yes</td>\n",
       "      <td>White or Caucasian</td>\n",
       "      <td>18-29</td>\n",
       "      <td>Female</td>\n",
       "      <td>$25000-$49999</td>\n",
       "      <td>South Atlantic</td>\n",
       "      <td>1</td>\n",
       "      <td>0</td>\n",
       "      <td>0</td>\n",
       "      <td>0</td>\n",
       "      <td>0</td>\n",
       "      <td>0</td>\n",
       "      <td>0</td>\n",
       "      <td>0</td>\n",
       "    </tr>\n",
       "  </tbody>\n",
       "</table>\n",
       "</div>"
      ],
      "text/plain": [
       "      respondent_id                date  \\\n",
       "4548    10491448652 2019-01-26 13:36:57   \n",
       "4545    10491448848 2019-01-26 13:37:03   \n",
       "4547    10491448683 2019-01-26 13:37:04   \n",
       "4533    10491449586 2019-01-26 13:37:18   \n",
       "4546    10491448847 2019-01-26 13:37:19   \n",
       "\n",
       "                                              will_vote  \\\n",
       "4548  Yes I will likely vote in my state's Democrati...   \n",
       "4545  Yes I will likely vote in my state's Republica...   \n",
       "4547  Yes I will likely vote in my state's Democrati...   \n",
       "4533                 I don't know or I'd rather not say   \n",
       "4546  Yes I will likely vote in my state's Democrati...   \n",
       "\n",
       "                     political_beliefs registered           ethnicity    age  \\\n",
       "4548                Moderately liberal        Yes  Hispanic or Latino  45-60   \n",
       "4545           Moderately conservative        Yes  White or Caucasian   > 60   \n",
       "4547                  Slightly liberal        Yes  White or Caucasian  30-44   \n",
       "4533  Neither liberal nor conservative        Yes  White or Caucasian  18-29   \n",
       "4546                Moderately liberal        Yes  White or Caucasian  18-29   \n",
       "\n",
       "      gender                income              region  supports_biden  \\\n",
       "4548  Female         $75000-$99999      South Atlantic               0   \n",
       "4545  Female         $25000-$49999     Middle Atlantic               1   \n",
       "4547  Female         $75000-$99999      South Atlantic               1   \n",
       "4533  Female  Prefer not to answer  West North Central               1   \n",
       "4546  Female         $25000-$49999      South Atlantic               1   \n",
       "\n",
       "      supports_sanders  supports_klobuchar  supports_warren  \\\n",
       "4548                 0                   0                0   \n",
       "4545                 1                   0                0   \n",
       "4547                 0                   0                0   \n",
       "4533                 0                   0                0   \n",
       "4546                 0                   0                0   \n",
       "\n",
       "      supports_buttigieg  supports_yang  supports_other  no_support  \n",
       "4548                   0              0               1           0  \n",
       "4545                   0              0               0           0  \n",
       "4547                   0              0               0           0  \n",
       "4533                   0              0               0           0  \n",
       "4546                   0              0               0           0  "
      ]
     },
     "execution_count": 21,
     "metadata": {},
     "output_type": "execute_result"
    }
   ],
   "source": [
    "from glob import glob\n",
    "cols = [\"respondent_id\",\"date\",\"will_vote\",\"political_beliefs\",\"registered\",\"ethnicity\",\"age\",\"gender\",\"income\",\"region\"]\n",
    "path = \"/h/224/cameron/Political-Subreddit-Embedding/external_datasets/polling_data/buisness_insider\"\n",
    "gl = glob(f\"{path}/*.csv\")\n",
    "li = [pd.read_csv(fn) for fn in gl]\n",
    "cleaned = []\n",
    "concat_col_names = [\"supports_biden\",\"supports_sanders\",\"supports_klobuchar\",\"supports_warren\",\"supports_buttigieg\",\"supports_yang\"]\n",
    "cands = [\"Fmr. V.P. Joe Biden\",\"Sen. Bernie Sanders\",\"Sen. Amy Klobuchar\",\"Sen. Elizabeth Warren\",\"South Bend Mayor Pete Buttigieg\",\"Andrew Yang\"]\n",
    "for df in tqdm(li):\n",
    "    # Go through each data frame, concatenate all the columns that start with \"Which of the following candidates would you be satisfied\"\n",
    "    # and then add columns for each of the candidates in our analyis, true if they land in one of those prior columns\n",
    "    # (indicating support) or false otherwise\n",
    "    would_support = [c for c in df.columns if c.startswith(\"Which of the following candidates would you be satisfied \")]\n",
    "    for cand, col in zip(cands,concat_col_names):\n",
    "        df[col] = df[would_support].apply(lambda x : 1 if cand in list(x) else 0,axis=1)\n",
    "        \n",
    "    def other_support(x):\n",
    "        # if they support one of the candidates\n",
    "        if x[concat_col_names].any():\n",
    "            return 0,0\n",
    "        # if they don't support any of our selected candidates but support some other candidate\n",
    "        elif not x[concat_col_names].any() and x[would_support].any():\n",
    "            return 1, 0\n",
    "        # otherwise they must not support any candidate\n",
    "        return 0,1\n",
    "    df['supports_other'], df['no_support'] = zip(*df.apply(other_support,axis=1))\n",
    "    df = df.rename({\"Respondent ID\": \"respondent_id\",\n",
    "                    \"Start Date\": \"date\",\n",
    "                    \"Do you think you will participate in the 2020 presidential primary?\": \"will_vote\",\n",
    "                    \"What best describes your political beliefs?\": \"political_beliefs\",\n",
    "                    \"Are you a registered voter?\": \"registered\",\n",
    "                    \"Which race/ethnicity best describes you? (Please choose only one.)\": \"ethnicity\",\n",
    "                    \"Age\": \"age\",\"Gender\": \"gender\",\"Household Income\": \"income\",\"Region\": \"region\"\n",
    "                   },axis=1)\n",
    "    df = df[cols+concat_col_names+[\"supports_other\",\"no_support\"]]\n",
    "    cleaned.append(df)\n",
    "\n",
    "bi_poll = pd.concat(cleaned, axis=0, ignore_index=True)\n",
    "bi_poll[\"date\"] = pd.to_datetime(bi_poll[\"date\"])\n",
    "bi_poll = bi_poll.sort_values(\"date\")\n",
    "# Drop those who haven't made up their mind\n",
    "bi_poll = bi_poll[bi_poll[\"no_support\"] == 0]\n",
    "bi_poll.head()"
   ]
  },
  {
   "cell_type": "code",
   "execution_count": 22,
   "metadata": {},
   "outputs": [
    {
     "data": {
      "text/html": [
       "<div>\n",
       "<style scoped>\n",
       "    .dataframe tbody tr th:only-of-type {\n",
       "        vertical-align: middle;\n",
       "    }\n",
       "\n",
       "    .dataframe tbody tr th {\n",
       "        vertical-align: top;\n",
       "    }\n",
       "\n",
       "    .dataframe thead th {\n",
       "        text-align: right;\n",
       "    }\n",
       "</style>\n",
       "<table border=\"1\" class=\"dataframe\">\n",
       "  <thead>\n",
       "    <tr style=\"text-align: right;\">\n",
       "      <th></th>\n",
       "      <th>date</th>\n",
       "      <th>supports_other</th>\n",
       "      <th>supports_biden</th>\n",
       "      <th>supports_sanders</th>\n",
       "      <th>supports_klobuchar</th>\n",
       "      <th>supports_warren</th>\n",
       "      <th>supports_buttigieg</th>\n",
       "      <th>supports_yang</th>\n",
       "    </tr>\n",
       "  </thead>\n",
       "  <tbody>\n",
       "    <tr>\n",
       "      <th>0</th>\n",
       "      <td>2019-01-31</td>\n",
       "      <td>0.298692</td>\n",
       "      <td>0.281487</td>\n",
       "      <td>0.240881</td>\n",
       "      <td>0.041982</td>\n",
       "      <td>0.124570</td>\n",
       "      <td>0.012388</td>\n",
       "      <td>0.000000</td>\n",
       "    </tr>\n",
       "    <tr>\n",
       "      <th>1</th>\n",
       "      <td>2019-02-28</td>\n",
       "      <td>0.233148</td>\n",
       "      <td>0.314569</td>\n",
       "      <td>0.248611</td>\n",
       "      <td>0.048079</td>\n",
       "      <td>0.137231</td>\n",
       "      <td>0.018362</td>\n",
       "      <td>0.000000</td>\n",
       "    </tr>\n",
       "    <tr>\n",
       "      <th>2</th>\n",
       "      <td>2019-03-31</td>\n",
       "      <td>0.197178</td>\n",
       "      <td>0.309700</td>\n",
       "      <td>0.247619</td>\n",
       "      <td>0.052910</td>\n",
       "      <td>0.136861</td>\n",
       "      <td>0.039859</td>\n",
       "      <td>0.015873</td>\n",
       "    </tr>\n",
       "    <tr>\n",
       "      <th>3</th>\n",
       "      <td>2019-04-30</td>\n",
       "      <td>0.190602</td>\n",
       "      <td>0.284585</td>\n",
       "      <td>0.237154</td>\n",
       "      <td>0.044137</td>\n",
       "      <td>0.124726</td>\n",
       "      <td>0.090031</td>\n",
       "      <td>0.028766</td>\n",
       "    </tr>\n",
       "    <tr>\n",
       "      <th>4</th>\n",
       "      <td>2019-05-31</td>\n",
       "      <td>0.171841</td>\n",
       "      <td>0.292756</td>\n",
       "      <td>0.219227</td>\n",
       "      <td>0.043573</td>\n",
       "      <td>0.140795</td>\n",
       "      <td>0.093137</td>\n",
       "      <td>0.038671</td>\n",
       "    </tr>\n",
       "    <tr>\n",
       "      <th>5</th>\n",
       "      <td>2019-06-30</td>\n",
       "      <td>0.164988</td>\n",
       "      <td>0.275260</td>\n",
       "      <td>0.220544</td>\n",
       "      <td>0.044478</td>\n",
       "      <td>0.157771</td>\n",
       "      <td>0.093152</td>\n",
       "      <td>0.043807</td>\n",
       "    </tr>\n",
       "    <tr>\n",
       "      <th>6</th>\n",
       "      <td>2019-07-31</td>\n",
       "      <td>0.161724</td>\n",
       "      <td>0.268725</td>\n",
       "      <td>0.210945</td>\n",
       "      <td>0.041883</td>\n",
       "      <td>0.176399</td>\n",
       "      <td>0.092938</td>\n",
       "      <td>0.047386</td>\n",
       "    </tr>\n",
       "    <tr>\n",
       "      <th>7</th>\n",
       "      <td>2019-08-31</td>\n",
       "      <td>0.153079</td>\n",
       "      <td>0.248438</td>\n",
       "      <td>0.224338</td>\n",
       "      <td>0.038828</td>\n",
       "      <td>0.176436</td>\n",
       "      <td>0.096549</td>\n",
       "      <td>0.062333</td>\n",
       "    </tr>\n",
       "    <tr>\n",
       "      <th>8</th>\n",
       "      <td>2019-09-30</td>\n",
       "      <td>0.141719</td>\n",
       "      <td>0.243002</td>\n",
       "      <td>0.208204</td>\n",
       "      <td>0.047434</td>\n",
       "      <td>0.184098</td>\n",
       "      <td>0.094285</td>\n",
       "      <td>0.081260</td>\n",
       "    </tr>\n",
       "    <tr>\n",
       "      <th>9</th>\n",
       "      <td>2019-10-31</td>\n",
       "      <td>0.127326</td>\n",
       "      <td>0.228682</td>\n",
       "      <td>0.212016</td>\n",
       "      <td>0.054070</td>\n",
       "      <td>0.188953</td>\n",
       "      <td>0.097093</td>\n",
       "      <td>0.091860</td>\n",
       "    </tr>\n",
       "    <tr>\n",
       "      <th>10</th>\n",
       "      <td>2019-11-30</td>\n",
       "      <td>0.139695</td>\n",
       "      <td>0.229848</td>\n",
       "      <td>0.205888</td>\n",
       "      <td>0.055228</td>\n",
       "      <td>0.181117</td>\n",
       "      <td>0.100914</td>\n",
       "      <td>0.087310</td>\n",
       "    </tr>\n",
       "    <tr>\n",
       "      <th>11</th>\n",
       "      <td>2019-12-31</td>\n",
       "      <td>0.128488</td>\n",
       "      <td>0.216824</td>\n",
       "      <td>0.225657</td>\n",
       "      <td>0.052801</td>\n",
       "      <td>0.172656</td>\n",
       "      <td>0.102791</td>\n",
       "      <td>0.100783</td>\n",
       "    </tr>\n",
       "    <tr>\n",
       "      <th>12</th>\n",
       "      <td>2020-01-31</td>\n",
       "      <td>0.118185</td>\n",
       "      <td>0.213592</td>\n",
       "      <td>0.221807</td>\n",
       "      <td>0.069828</td>\n",
       "      <td>0.160007</td>\n",
       "      <td>0.102689</td>\n",
       "      <td>0.113891</td>\n",
       "    </tr>\n",
       "    <tr>\n",
       "      <th>13</th>\n",
       "      <td>2020-02-29</td>\n",
       "      <td>0.121443</td>\n",
       "      <td>0.194589</td>\n",
       "      <td>0.247094</td>\n",
       "      <td>0.092184</td>\n",
       "      <td>0.163727</td>\n",
       "      <td>0.143287</td>\n",
       "      <td>0.037675</td>\n",
       "    </tr>\n",
       "    <tr>\n",
       "      <th>14</th>\n",
       "      <td>2020-03-31</td>\n",
       "      <td>0.112589</td>\n",
       "      <td>0.487589</td>\n",
       "      <td>0.399823</td>\n",
       "      <td>0.000000</td>\n",
       "      <td>0.000000</td>\n",
       "      <td>0.000000</td>\n",
       "      <td>0.000000</td>\n",
       "    </tr>\n",
       "  </tbody>\n",
       "</table>\n",
       "</div>"
      ],
      "text/plain": [
       "         date  supports_other  supports_biden  supports_sanders  \\\n",
       "0  2019-01-31        0.298692        0.281487          0.240881   \n",
       "1  2019-02-28        0.233148        0.314569          0.248611   \n",
       "2  2019-03-31        0.197178        0.309700          0.247619   \n",
       "3  2019-04-30        0.190602        0.284585          0.237154   \n",
       "4  2019-05-31        0.171841        0.292756          0.219227   \n",
       "5  2019-06-30        0.164988        0.275260          0.220544   \n",
       "6  2019-07-31        0.161724        0.268725          0.210945   \n",
       "7  2019-08-31        0.153079        0.248438          0.224338   \n",
       "8  2019-09-30        0.141719        0.243002          0.208204   \n",
       "9  2019-10-31        0.127326        0.228682          0.212016   \n",
       "10 2019-11-30        0.139695        0.229848          0.205888   \n",
       "11 2019-12-31        0.128488        0.216824          0.225657   \n",
       "12 2020-01-31        0.118185        0.213592          0.221807   \n",
       "13 2020-02-29        0.121443        0.194589          0.247094   \n",
       "14 2020-03-31        0.112589        0.487589          0.399823   \n",
       "\n",
       "    supports_klobuchar  supports_warren  supports_buttigieg  supports_yang  \n",
       "0             0.041982         0.124570            0.012388       0.000000  \n",
       "1             0.048079         0.137231            0.018362       0.000000  \n",
       "2             0.052910         0.136861            0.039859       0.015873  \n",
       "3             0.044137         0.124726            0.090031       0.028766  \n",
       "4             0.043573         0.140795            0.093137       0.038671  \n",
       "5             0.044478         0.157771            0.093152       0.043807  \n",
       "6             0.041883         0.176399            0.092938       0.047386  \n",
       "7             0.038828         0.176436            0.096549       0.062333  \n",
       "8             0.047434         0.184098            0.094285       0.081260  \n",
       "9             0.054070         0.188953            0.097093       0.091860  \n",
       "10            0.055228         0.181117            0.100914       0.087310  \n",
       "11            0.052801         0.172656            0.102791       0.100783  \n",
       "12            0.069828         0.160007            0.102689       0.113891  \n",
       "13            0.092184         0.163727            0.143287       0.037675  \n",
       "14            0.000000         0.000000            0.000000       0.000000  "
      ]
     },
     "execution_count": 22,
     "metadata": {},
     "output_type": "execute_result"
    }
   ],
   "source": [
    "polling_agg = bi_poll.groupby([pd.Grouper(key='date', freq='M')])[[\"supports_other\"]+concat_col_names].sum().reset_index().sort_values('date')\n",
    "# Convert to pct\n",
    "polling_agg = polling_agg.set_index('date')\n",
    "polling_agg = polling_agg.div(polling_agg.sum(axis=1), axis=0)\n",
    "polling_agg = polling_agg.reset_index()\n",
    "polling_agg"
   ]
  },
  {
   "cell_type": "code",
   "execution_count": 23,
   "metadata": {
    "scrolled": false
   },
   "outputs": [
    {
     "data": {
      "application/vnd.plotly.v1+json": {
       "config": {
        "plotlyServerURL": "https://plot.ly"
       },
       "data": [
        {
         "line": {
          "color": "#636EFA",
          "shape": "spline"
         },
         "mode": "lines",
         "name": "Joe Biden",
         "type": "scatter",
         "x": [
          "2019-01-31T00:00:00",
          "2019-02-28T00:00:00",
          "2019-03-31T00:00:00",
          "2019-04-30T00:00:00",
          "2019-05-31T00:00:00",
          "2019-06-30T00:00:00",
          "2019-07-31T00:00:00",
          "2019-08-31T00:00:00",
          "2019-09-30T00:00:00",
          "2019-10-31T00:00:00",
          "2019-11-30T00:00:00",
          "2019-12-31T00:00:00",
          "2020-01-31T00:00:00",
          "2020-02-29T00:00:00",
          "2020-03-31T00:00:00"
         ],
         "y": [
          0.2814865794907089,
          0.3145687364097608,
          0.30970017636684305,
          0.2845849802371542,
          0.292755991285403,
          0.27526015441423296,
          0.26872516050137574,
          0.24843796489140138,
          0.24300155520995334,
          0.22868217054263565,
          0.2298477157360406,
          0.21682393093756275,
          0.21359223300970873,
          0.19458917835671344,
          0.4875886524822695
         ]
        },
        {
         "line": {
          "color": "#EF553B",
          "shape": "spline"
         },
         "mode": "lines",
         "name": "Bernie Sanders",
         "type": "scatter",
         "x": [
          "2019-01-31T00:00:00",
          "2019-02-28T00:00:00",
          "2019-03-31T00:00:00",
          "2019-04-30T00:00:00",
          "2019-05-31T00:00:00",
          "2019-06-30T00:00:00",
          "2019-07-31T00:00:00",
          "2019-08-31T00:00:00",
          "2019-09-30T00:00:00",
          "2019-10-31T00:00:00",
          "2019-11-30T00:00:00",
          "2019-12-31T00:00:00",
          "2020-01-31T00:00:00",
          "2020-02-29T00:00:00",
          "2020-03-31T00:00:00"
         ],
         "y": [
          0.24088093599449414,
          0.24861077554964967,
          0.24761904761904763,
          0.23715415019762845,
          0.21922657952069716,
          0.22054380664652568,
          0.21094466523998778,
          0.22433799464445106,
          0.20820373250388802,
          0.21201550387596899,
          0.20588832487309644,
          0.22565749849427827,
          0.22180731889469754,
          0.2470941883767535,
          0.399822695035461
         ]
        },
        {
         "line": {
          "color": "#00CC96",
          "shape": "spline"
         },
         "mode": "lines",
         "name": "Amy Klobuchar",
         "type": "scatter",
         "x": [
          "2019-01-31T00:00:00",
          "2019-02-28T00:00:00",
          "2019-03-31T00:00:00",
          "2019-04-30T00:00:00",
          "2019-05-31T00:00:00",
          "2019-06-30T00:00:00",
          "2019-07-31T00:00:00",
          "2019-08-31T00:00:00",
          "2019-09-30T00:00:00",
          "2019-10-31T00:00:00",
          "2019-11-30T00:00:00",
          "2019-12-31T00:00:00",
          "2020-01-31T00:00:00",
          "2020-02-29T00:00:00",
          "2020-03-31T00:00:00"
         ],
         "y": [
          0.04198210598761184,
          0.04807924619473303,
          0.05291005291005291,
          0.04413702239789196,
          0.04357298474945534,
          0.04447801275595838,
          0.04188321614185264,
          0.03882772984230884,
          0.04743390357698289,
          0.05406976744186046,
          0.055228426395939084,
          0.05280064244127685,
          0.06982823002240478,
          0.09218436873747494,
          0
         ]
        },
        {
         "line": {
          "color": "#AB63FA",
          "shape": "spline"
         },
         "mode": "lines",
         "name": "Elizabeth Warren",
         "type": "scatter",
         "x": [
          "2019-01-31T00:00:00",
          "2019-02-28T00:00:00",
          "2019-03-31T00:00:00",
          "2019-04-30T00:00:00",
          "2019-05-31T00:00:00",
          "2019-06-30T00:00:00",
          "2019-07-31T00:00:00",
          "2019-08-31T00:00:00",
          "2019-09-30T00:00:00",
          "2019-10-31T00:00:00",
          "2019-11-30T00:00:00",
          "2019-12-31T00:00:00",
          "2020-01-31T00:00:00",
          "2020-02-29T00:00:00",
          "2020-03-31T00:00:00"
         ],
         "y": [
          0.12456985547143841,
          0.13723121526938875,
          0.13686067019400353,
          0.12472551602986386,
          0.14079520697167755,
          0.15777106411547498,
          0.17639865484561296,
          0.17643558464742637,
          0.18409797822706064,
          0.18895348837209303,
          0.18111675126903554,
          0.17265609315398514,
          0.16000746825989545,
          0.16372745490981963,
          0
         ]
        },
        {
         "line": {
          "color": "#FFA15A",
          "shape": "spline"
         },
         "mode": "lines",
         "name": "Pete Buttigieg",
         "type": "scatter",
         "x": [
          "2019-01-31T00:00:00",
          "2019-02-28T00:00:00",
          "2019-03-31T00:00:00",
          "2019-04-30T00:00:00",
          "2019-05-31T00:00:00",
          "2019-06-30T00:00:00",
          "2019-07-31T00:00:00",
          "2019-08-31T00:00:00",
          "2019-09-30T00:00:00",
          "2019-10-31T00:00:00",
          "2019-11-30T00:00:00",
          "2019-12-31T00:00:00",
          "2020-01-31T00:00:00",
          "2020-02-29T00:00:00",
          "2020-03-31T00:00:00"
         ],
         "y": [
          0.012388162422573986,
          0.01836192316984779,
          0.039858906525573196,
          0.09003074220465525,
          0.09313725490196079,
          0.0931520644511581,
          0.09293793946805258,
          0.09654864623623921,
          0.0942846034214619,
          0.09709302325581395,
          0.10091370558375634,
          0.10279060429632604,
          0.10268857356235997,
          0.1432865731462926,
          0
         ]
        },
        {
         "line": {
          "color": "#19D3F3",
          "shape": "spline"
         },
         "mode": "lines",
         "name": "Andrew Yang",
         "type": "scatter",
         "x": [
          "2019-01-31T00:00:00",
          "2019-02-28T00:00:00",
          "2019-03-31T00:00:00",
          "2019-04-30T00:00:00",
          "2019-05-31T00:00:00",
          "2019-06-30T00:00:00",
          "2019-07-31T00:00:00",
          "2019-08-31T00:00:00",
          "2019-09-30T00:00:00",
          "2019-10-31T00:00:00",
          "2019-11-30T00:00:00",
          "2019-12-31T00:00:00",
          "2020-01-31T00:00:00",
          "2020-02-29T00:00:00",
          "2020-03-31T00:00:00"
         ],
         "y": [
          0,
          0,
          0.015873015873015872,
          0.028765920070267896,
          0.03867102396514161,
          0.04380664652567976,
          0.047386120452461024,
          0.06233263909550729,
          0.0812597200622084,
          0.09186046511627907,
          0.08730964467005076,
          0.10078297530616342,
          0.11389096340552651,
          0.03767535070140281,
          0
         ]
        }
       ],
       "layout": {
        "font": {
         "size": 17
        },
        "template": {
         "data": {
          "bar": [
           {
            "error_x": {
             "color": "rgb(36,36,36)"
            },
            "error_y": {
             "color": "rgb(36,36,36)"
            },
            "marker": {
             "line": {
              "color": "white",
              "width": 0.5
             }
            },
            "type": "bar"
           }
          ],
          "barpolar": [
           {
            "marker": {
             "line": {
              "color": "white",
              "width": 0.5
             }
            },
            "type": "barpolar"
           }
          ],
          "carpet": [
           {
            "aaxis": {
             "endlinecolor": "rgb(36,36,36)",
             "gridcolor": "white",
             "linecolor": "white",
             "minorgridcolor": "white",
             "startlinecolor": "rgb(36,36,36)"
            },
            "baxis": {
             "endlinecolor": "rgb(36,36,36)",
             "gridcolor": "white",
             "linecolor": "white",
             "minorgridcolor": "white",
             "startlinecolor": "rgb(36,36,36)"
            },
            "type": "carpet"
           }
          ],
          "choropleth": [
           {
            "colorbar": {
             "outlinewidth": 1,
             "tickcolor": "rgb(36,36,36)",
             "ticks": "outside"
            },
            "type": "choropleth"
           }
          ],
          "contour": [
           {
            "colorbar": {
             "outlinewidth": 1,
             "tickcolor": "rgb(36,36,36)",
             "ticks": "outside"
            },
            "colorscale": [
             [
              0,
              "#440154"
             ],
             [
              0.1111111111111111,
              "#482878"
             ],
             [
              0.2222222222222222,
              "#3e4989"
             ],
             [
              0.3333333333333333,
              "#31688e"
             ],
             [
              0.4444444444444444,
              "#26828e"
             ],
             [
              0.5555555555555556,
              "#1f9e89"
             ],
             [
              0.6666666666666666,
              "#35b779"
             ],
             [
              0.7777777777777778,
              "#6ece58"
             ],
             [
              0.8888888888888888,
              "#b5de2b"
             ],
             [
              1,
              "#fde725"
             ]
            ],
            "type": "contour"
           }
          ],
          "contourcarpet": [
           {
            "colorbar": {
             "outlinewidth": 1,
             "tickcolor": "rgb(36,36,36)",
             "ticks": "outside"
            },
            "type": "contourcarpet"
           }
          ],
          "heatmap": [
           {
            "colorbar": {
             "outlinewidth": 1,
             "tickcolor": "rgb(36,36,36)",
             "ticks": "outside"
            },
            "colorscale": [
             [
              0,
              "#440154"
             ],
             [
              0.1111111111111111,
              "#482878"
             ],
             [
              0.2222222222222222,
              "#3e4989"
             ],
             [
              0.3333333333333333,
              "#31688e"
             ],
             [
              0.4444444444444444,
              "#26828e"
             ],
             [
              0.5555555555555556,
              "#1f9e89"
             ],
             [
              0.6666666666666666,
              "#35b779"
             ],
             [
              0.7777777777777778,
              "#6ece58"
             ],
             [
              0.8888888888888888,
              "#b5de2b"
             ],
             [
              1,
              "#fde725"
             ]
            ],
            "type": "heatmap"
           }
          ],
          "heatmapgl": [
           {
            "colorbar": {
             "outlinewidth": 1,
             "tickcolor": "rgb(36,36,36)",
             "ticks": "outside"
            },
            "colorscale": [
             [
              0,
              "#440154"
             ],
             [
              0.1111111111111111,
              "#482878"
             ],
             [
              0.2222222222222222,
              "#3e4989"
             ],
             [
              0.3333333333333333,
              "#31688e"
             ],
             [
              0.4444444444444444,
              "#26828e"
             ],
             [
              0.5555555555555556,
              "#1f9e89"
             ],
             [
              0.6666666666666666,
              "#35b779"
             ],
             [
              0.7777777777777778,
              "#6ece58"
             ],
             [
              0.8888888888888888,
              "#b5de2b"
             ],
             [
              1,
              "#fde725"
             ]
            ],
            "type": "heatmapgl"
           }
          ],
          "histogram": [
           {
            "marker": {
             "line": {
              "color": "white",
              "width": 0.6
             }
            },
            "type": "histogram"
           }
          ],
          "histogram2d": [
           {
            "colorbar": {
             "outlinewidth": 1,
             "tickcolor": "rgb(36,36,36)",
             "ticks": "outside"
            },
            "colorscale": [
             [
              0,
              "#440154"
             ],
             [
              0.1111111111111111,
              "#482878"
             ],
             [
              0.2222222222222222,
              "#3e4989"
             ],
             [
              0.3333333333333333,
              "#31688e"
             ],
             [
              0.4444444444444444,
              "#26828e"
             ],
             [
              0.5555555555555556,
              "#1f9e89"
             ],
             [
              0.6666666666666666,
              "#35b779"
             ],
             [
              0.7777777777777778,
              "#6ece58"
             ],
             [
              0.8888888888888888,
              "#b5de2b"
             ],
             [
              1,
              "#fde725"
             ]
            ],
            "type": "histogram2d"
           }
          ],
          "histogram2dcontour": [
           {
            "colorbar": {
             "outlinewidth": 1,
             "tickcolor": "rgb(36,36,36)",
             "ticks": "outside"
            },
            "colorscale": [
             [
              0,
              "#440154"
             ],
             [
              0.1111111111111111,
              "#482878"
             ],
             [
              0.2222222222222222,
              "#3e4989"
             ],
             [
              0.3333333333333333,
              "#31688e"
             ],
             [
              0.4444444444444444,
              "#26828e"
             ],
             [
              0.5555555555555556,
              "#1f9e89"
             ],
             [
              0.6666666666666666,
              "#35b779"
             ],
             [
              0.7777777777777778,
              "#6ece58"
             ],
             [
              0.8888888888888888,
              "#b5de2b"
             ],
             [
              1,
              "#fde725"
             ]
            ],
            "type": "histogram2dcontour"
           }
          ],
          "mesh3d": [
           {
            "colorbar": {
             "outlinewidth": 1,
             "tickcolor": "rgb(36,36,36)",
             "ticks": "outside"
            },
            "type": "mesh3d"
           }
          ],
          "parcoords": [
           {
            "line": {
             "colorbar": {
              "outlinewidth": 1,
              "tickcolor": "rgb(36,36,36)",
              "ticks": "outside"
             }
            },
            "type": "parcoords"
           }
          ],
          "pie": [
           {
            "automargin": true,
            "type": "pie"
           }
          ],
          "scatter": [
           {
            "marker": {
             "colorbar": {
              "outlinewidth": 1,
              "tickcolor": "rgb(36,36,36)",
              "ticks": "outside"
             }
            },
            "type": "scatter"
           }
          ],
          "scatter3d": [
           {
            "line": {
             "colorbar": {
              "outlinewidth": 1,
              "tickcolor": "rgb(36,36,36)",
              "ticks": "outside"
             }
            },
            "marker": {
             "colorbar": {
              "outlinewidth": 1,
              "tickcolor": "rgb(36,36,36)",
              "ticks": "outside"
             }
            },
            "type": "scatter3d"
           }
          ],
          "scattercarpet": [
           {
            "marker": {
             "colorbar": {
              "outlinewidth": 1,
              "tickcolor": "rgb(36,36,36)",
              "ticks": "outside"
             }
            },
            "type": "scattercarpet"
           }
          ],
          "scattergeo": [
           {
            "marker": {
             "colorbar": {
              "outlinewidth": 1,
              "tickcolor": "rgb(36,36,36)",
              "ticks": "outside"
             }
            },
            "type": "scattergeo"
           }
          ],
          "scattergl": [
           {
            "marker": {
             "colorbar": {
              "outlinewidth": 1,
              "tickcolor": "rgb(36,36,36)",
              "ticks": "outside"
             }
            },
            "type": "scattergl"
           }
          ],
          "scattermapbox": [
           {
            "marker": {
             "colorbar": {
              "outlinewidth": 1,
              "tickcolor": "rgb(36,36,36)",
              "ticks": "outside"
             }
            },
            "type": "scattermapbox"
           }
          ],
          "scatterpolar": [
           {
            "marker": {
             "colorbar": {
              "outlinewidth": 1,
              "tickcolor": "rgb(36,36,36)",
              "ticks": "outside"
             }
            },
            "type": "scatterpolar"
           }
          ],
          "scatterpolargl": [
           {
            "marker": {
             "colorbar": {
              "outlinewidth": 1,
              "tickcolor": "rgb(36,36,36)",
              "ticks": "outside"
             }
            },
            "type": "scatterpolargl"
           }
          ],
          "scatterternary": [
           {
            "marker": {
             "colorbar": {
              "outlinewidth": 1,
              "tickcolor": "rgb(36,36,36)",
              "ticks": "outside"
             }
            },
            "type": "scatterternary"
           }
          ],
          "surface": [
           {
            "colorbar": {
             "outlinewidth": 1,
             "tickcolor": "rgb(36,36,36)",
             "ticks": "outside"
            },
            "colorscale": [
             [
              0,
              "#440154"
             ],
             [
              0.1111111111111111,
              "#482878"
             ],
             [
              0.2222222222222222,
              "#3e4989"
             ],
             [
              0.3333333333333333,
              "#31688e"
             ],
             [
              0.4444444444444444,
              "#26828e"
             ],
             [
              0.5555555555555556,
              "#1f9e89"
             ],
             [
              0.6666666666666666,
              "#35b779"
             ],
             [
              0.7777777777777778,
              "#6ece58"
             ],
             [
              0.8888888888888888,
              "#b5de2b"
             ],
             [
              1,
              "#fde725"
             ]
            ],
            "type": "surface"
           }
          ],
          "table": [
           {
            "cells": {
             "fill": {
              "color": "rgb(237,237,237)"
             },
             "line": {
              "color": "white"
             }
            },
            "header": {
             "fill": {
              "color": "rgb(217,217,217)"
             },
             "line": {
              "color": "white"
             }
            },
            "type": "table"
           }
          ]
         },
         "layout": {
          "annotationdefaults": {
           "arrowhead": 0,
           "arrowwidth": 1
          },
          "coloraxis": {
           "colorbar": {
            "outlinewidth": 1,
            "tickcolor": "rgb(36,36,36)",
            "ticks": "outside"
           }
          },
          "colorscale": {
           "diverging": [
            [
             0,
             "rgb(103,0,31)"
            ],
            [
             0.1,
             "rgb(178,24,43)"
            ],
            [
             0.2,
             "rgb(214,96,77)"
            ],
            [
             0.3,
             "rgb(244,165,130)"
            ],
            [
             0.4,
             "rgb(253,219,199)"
            ],
            [
             0.5,
             "rgb(247,247,247)"
            ],
            [
             0.6,
             "rgb(209,229,240)"
            ],
            [
             0.7,
             "rgb(146,197,222)"
            ],
            [
             0.8,
             "rgb(67,147,195)"
            ],
            [
             0.9,
             "rgb(33,102,172)"
            ],
            [
             1,
             "rgb(5,48,97)"
            ]
           ],
           "sequential": [
            [
             0,
             "#440154"
            ],
            [
             0.1111111111111111,
             "#482878"
            ],
            [
             0.2222222222222222,
             "#3e4989"
            ],
            [
             0.3333333333333333,
             "#31688e"
            ],
            [
             0.4444444444444444,
             "#26828e"
            ],
            [
             0.5555555555555556,
             "#1f9e89"
            ],
            [
             0.6666666666666666,
             "#35b779"
            ],
            [
             0.7777777777777778,
             "#6ece58"
            ],
            [
             0.8888888888888888,
             "#b5de2b"
            ],
            [
             1,
             "#fde725"
            ]
           ],
           "sequentialminus": [
            [
             0,
             "#440154"
            ],
            [
             0.1111111111111111,
             "#482878"
            ],
            [
             0.2222222222222222,
             "#3e4989"
            ],
            [
             0.3333333333333333,
             "#31688e"
            ],
            [
             0.4444444444444444,
             "#26828e"
            ],
            [
             0.5555555555555556,
             "#1f9e89"
            ],
            [
             0.6666666666666666,
             "#35b779"
            ],
            [
             0.7777777777777778,
             "#6ece58"
            ],
            [
             0.8888888888888888,
             "#b5de2b"
            ],
            [
             1,
             "#fde725"
            ]
           ]
          },
          "colorway": [
           "#1F77B4",
           "#FF7F0E",
           "#2CA02C",
           "#D62728",
           "#9467BD",
           "#8C564B",
           "#E377C2",
           "#7F7F7F",
           "#BCBD22",
           "#17BECF"
          ],
          "font": {
           "color": "rgb(36,36,36)"
          },
          "geo": {
           "bgcolor": "white",
           "lakecolor": "white",
           "landcolor": "white",
           "showlakes": true,
           "showland": true,
           "subunitcolor": "white"
          },
          "hoverlabel": {
           "align": "left"
          },
          "hovermode": "closest",
          "mapbox": {
           "style": "light"
          },
          "paper_bgcolor": "white",
          "plot_bgcolor": "white",
          "polar": {
           "angularaxis": {
            "gridcolor": "rgb(232,232,232)",
            "linecolor": "rgb(36,36,36)",
            "showgrid": false,
            "showline": true,
            "ticks": "outside"
           },
           "bgcolor": "white",
           "radialaxis": {
            "gridcolor": "rgb(232,232,232)",
            "linecolor": "rgb(36,36,36)",
            "showgrid": false,
            "showline": true,
            "ticks": "outside"
           }
          },
          "scene": {
           "xaxis": {
            "backgroundcolor": "white",
            "gridcolor": "rgb(232,232,232)",
            "gridwidth": 2,
            "linecolor": "rgb(36,36,36)",
            "showbackground": true,
            "showgrid": false,
            "showline": true,
            "ticks": "outside",
            "zeroline": false,
            "zerolinecolor": "rgb(36,36,36)"
           },
           "yaxis": {
            "backgroundcolor": "white",
            "gridcolor": "rgb(232,232,232)",
            "gridwidth": 2,
            "linecolor": "rgb(36,36,36)",
            "showbackground": true,
            "showgrid": false,
            "showline": true,
            "ticks": "outside",
            "zeroline": false,
            "zerolinecolor": "rgb(36,36,36)"
           },
           "zaxis": {
            "backgroundcolor": "white",
            "gridcolor": "rgb(232,232,232)",
            "gridwidth": 2,
            "linecolor": "rgb(36,36,36)",
            "showbackground": true,
            "showgrid": false,
            "showline": true,
            "ticks": "outside",
            "zeroline": false,
            "zerolinecolor": "rgb(36,36,36)"
           }
          },
          "shapedefaults": {
           "fillcolor": "black",
           "line": {
            "width": 0
           },
           "opacity": 0.3
          },
          "ternary": {
           "aaxis": {
            "gridcolor": "rgb(232,232,232)",
            "linecolor": "rgb(36,36,36)",
            "showgrid": false,
            "showline": true,
            "ticks": "outside"
           },
           "baxis": {
            "gridcolor": "rgb(232,232,232)",
            "linecolor": "rgb(36,36,36)",
            "showgrid": false,
            "showline": true,
            "ticks": "outside"
           },
           "bgcolor": "white",
           "caxis": {
            "gridcolor": "rgb(232,232,232)",
            "linecolor": "rgb(36,36,36)",
            "showgrid": false,
            "showline": true,
            "ticks": "outside"
           }
          },
          "title": {
           "x": 0.05
          },
          "xaxis": {
           "automargin": true,
           "gridcolor": "rgb(232,232,232)",
           "linecolor": "rgb(36,36,36)",
           "showgrid": false,
           "showline": true,
           "ticks": "outside",
           "title": {
            "standoff": 15
           },
           "zeroline": false,
           "zerolinecolor": "rgb(36,36,36)"
          },
          "yaxis": {
           "automargin": true,
           "gridcolor": "rgb(232,232,232)",
           "linecolor": "rgb(36,36,36)",
           "showgrid": false,
           "showline": true,
           "ticks": "outside",
           "title": {
            "standoff": 15
           },
           "zeroline": false,
           "zerolinecolor": "rgb(36,36,36)"
          }
         }
        },
        "title": {
         "text": "Buisness Intelligence Polling - Candidate Favourability"
        },
        "xaxis": {
         "title": {
          "text": "Date"
         }
        },
        "yaxis": {
         "range": [
          0,
          0.6
         ],
         "tickformat": ",.0%",
         "title": {
          "text": "Polling Average"
         }
        }
       }
      },
      "text/html": [
       "<div>\n",
       "        \n",
       "        \n",
       "            <div id=\"3e226041-9a25-4593-9118-d85b753e1931\" class=\"plotly-graph-div\" style=\"height:525px; width:100%;\"></div>\n",
       "            <script type=\"text/javascript\">\n",
       "                require([\"plotly\"], function(Plotly) {\n",
       "                    window.PLOTLYENV=window.PLOTLYENV || {};\n",
       "                    \n",
       "                if (document.getElementById(\"3e226041-9a25-4593-9118-d85b753e1931\")) {\n",
       "                    Plotly.newPlot(\n",
       "                        '3e226041-9a25-4593-9118-d85b753e1931',\n",
       "                        [{\"line\": {\"color\": \"#636EFA\", \"shape\": \"spline\"}, \"mode\": \"lines\", \"name\": \"Joe Biden\", \"type\": \"scatter\", \"x\": [\"2019-01-31T00:00:00\", \"2019-02-28T00:00:00\", \"2019-03-31T00:00:00\", \"2019-04-30T00:00:00\", \"2019-05-31T00:00:00\", \"2019-06-30T00:00:00\", \"2019-07-31T00:00:00\", \"2019-08-31T00:00:00\", \"2019-09-30T00:00:00\", \"2019-10-31T00:00:00\", \"2019-11-30T00:00:00\", \"2019-12-31T00:00:00\", \"2020-01-31T00:00:00\", \"2020-02-29T00:00:00\", \"2020-03-31T00:00:00\"], \"y\": [0.2814865794907089, 0.3145687364097608, 0.30970017636684305, 0.2845849802371542, 0.292755991285403, 0.27526015441423296, 0.26872516050137574, 0.24843796489140138, 0.24300155520995334, 0.22868217054263565, 0.2298477157360406, 0.21682393093756275, 0.21359223300970873, 0.19458917835671344, 0.4875886524822695]}, {\"line\": {\"color\": \"#EF553B\", \"shape\": \"spline\"}, \"mode\": \"lines\", \"name\": \"Bernie Sanders\", \"type\": \"scatter\", \"x\": [\"2019-01-31T00:00:00\", \"2019-02-28T00:00:00\", \"2019-03-31T00:00:00\", \"2019-04-30T00:00:00\", \"2019-05-31T00:00:00\", \"2019-06-30T00:00:00\", \"2019-07-31T00:00:00\", \"2019-08-31T00:00:00\", \"2019-09-30T00:00:00\", \"2019-10-31T00:00:00\", \"2019-11-30T00:00:00\", \"2019-12-31T00:00:00\", \"2020-01-31T00:00:00\", \"2020-02-29T00:00:00\", \"2020-03-31T00:00:00\"], \"y\": [0.24088093599449414, 0.24861077554964967, 0.24761904761904763, 0.23715415019762845, 0.21922657952069716, 0.22054380664652568, 0.21094466523998778, 0.22433799464445106, 0.20820373250388802, 0.21201550387596899, 0.20588832487309644, 0.22565749849427827, 0.22180731889469754, 0.2470941883767535, 0.399822695035461]}, {\"line\": {\"color\": \"#00CC96\", \"shape\": \"spline\"}, \"mode\": \"lines\", \"name\": \"Amy Klobuchar\", \"type\": \"scatter\", \"x\": [\"2019-01-31T00:00:00\", \"2019-02-28T00:00:00\", \"2019-03-31T00:00:00\", \"2019-04-30T00:00:00\", \"2019-05-31T00:00:00\", \"2019-06-30T00:00:00\", \"2019-07-31T00:00:00\", \"2019-08-31T00:00:00\", \"2019-09-30T00:00:00\", \"2019-10-31T00:00:00\", \"2019-11-30T00:00:00\", \"2019-12-31T00:00:00\", \"2020-01-31T00:00:00\", \"2020-02-29T00:00:00\", \"2020-03-31T00:00:00\"], \"y\": [0.04198210598761184, 0.04807924619473303, 0.05291005291005291, 0.04413702239789196, 0.04357298474945534, 0.04447801275595838, 0.04188321614185264, 0.03882772984230884, 0.04743390357698289, 0.05406976744186046, 0.055228426395939084, 0.05280064244127685, 0.06982823002240478, 0.09218436873747494, 0.0]}, {\"line\": {\"color\": \"#AB63FA\", \"shape\": \"spline\"}, \"mode\": \"lines\", \"name\": \"Elizabeth Warren\", \"type\": \"scatter\", \"x\": [\"2019-01-31T00:00:00\", \"2019-02-28T00:00:00\", \"2019-03-31T00:00:00\", \"2019-04-30T00:00:00\", \"2019-05-31T00:00:00\", \"2019-06-30T00:00:00\", \"2019-07-31T00:00:00\", \"2019-08-31T00:00:00\", \"2019-09-30T00:00:00\", \"2019-10-31T00:00:00\", \"2019-11-30T00:00:00\", \"2019-12-31T00:00:00\", \"2020-01-31T00:00:00\", \"2020-02-29T00:00:00\", \"2020-03-31T00:00:00\"], \"y\": [0.12456985547143841, 0.13723121526938875, 0.13686067019400353, 0.12472551602986386, 0.14079520697167755, 0.15777106411547498, 0.17639865484561296, 0.17643558464742637, 0.18409797822706064, 0.18895348837209303, 0.18111675126903554, 0.17265609315398514, 0.16000746825989545, 0.16372745490981963, 0.0]}, {\"line\": {\"color\": \"#FFA15A\", \"shape\": \"spline\"}, \"mode\": \"lines\", \"name\": \"Pete Buttigieg\", \"type\": \"scatter\", \"x\": [\"2019-01-31T00:00:00\", \"2019-02-28T00:00:00\", \"2019-03-31T00:00:00\", \"2019-04-30T00:00:00\", \"2019-05-31T00:00:00\", \"2019-06-30T00:00:00\", \"2019-07-31T00:00:00\", \"2019-08-31T00:00:00\", \"2019-09-30T00:00:00\", \"2019-10-31T00:00:00\", \"2019-11-30T00:00:00\", \"2019-12-31T00:00:00\", \"2020-01-31T00:00:00\", \"2020-02-29T00:00:00\", \"2020-03-31T00:00:00\"], \"y\": [0.012388162422573986, 0.01836192316984779, 0.039858906525573196, 0.09003074220465525, 0.09313725490196079, 0.0931520644511581, 0.09293793946805258, 0.09654864623623921, 0.0942846034214619, 0.09709302325581395, 0.10091370558375634, 0.10279060429632604, 0.10268857356235997, 0.1432865731462926, 0.0]}, {\"line\": {\"color\": \"#19D3F3\", \"shape\": \"spline\"}, \"mode\": \"lines\", \"name\": \"Andrew Yang\", \"type\": \"scatter\", \"x\": [\"2019-01-31T00:00:00\", \"2019-02-28T00:00:00\", \"2019-03-31T00:00:00\", \"2019-04-30T00:00:00\", \"2019-05-31T00:00:00\", \"2019-06-30T00:00:00\", \"2019-07-31T00:00:00\", \"2019-08-31T00:00:00\", \"2019-09-30T00:00:00\", \"2019-10-31T00:00:00\", \"2019-11-30T00:00:00\", \"2019-12-31T00:00:00\", \"2020-01-31T00:00:00\", \"2020-02-29T00:00:00\", \"2020-03-31T00:00:00\"], \"y\": [0.0, 0.0, 0.015873015873015872, 0.028765920070267896, 0.03867102396514161, 0.04380664652567976, 0.047386120452461024, 0.06233263909550729, 0.0812597200622084, 0.09186046511627907, 0.08730964467005076, 0.10078297530616342, 0.11389096340552651, 0.03767535070140281, 0.0]}],\n",
       "                        {\"font\": {\"size\": 17}, \"template\": {\"data\": {\"bar\": [{\"error_x\": {\"color\": \"rgb(36,36,36)\"}, \"error_y\": {\"color\": \"rgb(36,36,36)\"}, \"marker\": {\"line\": {\"color\": \"white\", \"width\": 0.5}}, \"type\": \"bar\"}], \"barpolar\": [{\"marker\": {\"line\": {\"color\": \"white\", \"width\": 0.5}}, \"type\": \"barpolar\"}], \"carpet\": [{\"aaxis\": {\"endlinecolor\": \"rgb(36,36,36)\", \"gridcolor\": \"white\", \"linecolor\": \"white\", \"minorgridcolor\": \"white\", \"startlinecolor\": \"rgb(36,36,36)\"}, \"baxis\": {\"endlinecolor\": \"rgb(36,36,36)\", \"gridcolor\": \"white\", \"linecolor\": \"white\", \"minorgridcolor\": \"white\", \"startlinecolor\": \"rgb(36,36,36)\"}, \"type\": \"carpet\"}], \"choropleth\": [{\"colorbar\": {\"outlinewidth\": 1, \"tickcolor\": \"rgb(36,36,36)\", \"ticks\": \"outside\"}, \"type\": \"choropleth\"}], \"contour\": [{\"colorbar\": {\"outlinewidth\": 1, \"tickcolor\": \"rgb(36,36,36)\", \"ticks\": \"outside\"}, \"colorscale\": [[0.0, \"#440154\"], [0.1111111111111111, \"#482878\"], [0.2222222222222222, \"#3e4989\"], [0.3333333333333333, \"#31688e\"], [0.4444444444444444, \"#26828e\"], [0.5555555555555556, \"#1f9e89\"], [0.6666666666666666, \"#35b779\"], [0.7777777777777778, \"#6ece58\"], [0.8888888888888888, \"#b5de2b\"], [1.0, \"#fde725\"]], \"type\": \"contour\"}], \"contourcarpet\": [{\"colorbar\": {\"outlinewidth\": 1, \"tickcolor\": \"rgb(36,36,36)\", \"ticks\": \"outside\"}, \"type\": \"contourcarpet\"}], \"heatmap\": [{\"colorbar\": {\"outlinewidth\": 1, \"tickcolor\": \"rgb(36,36,36)\", \"ticks\": \"outside\"}, \"colorscale\": [[0.0, \"#440154\"], [0.1111111111111111, \"#482878\"], [0.2222222222222222, \"#3e4989\"], [0.3333333333333333, \"#31688e\"], [0.4444444444444444, \"#26828e\"], [0.5555555555555556, \"#1f9e89\"], [0.6666666666666666, \"#35b779\"], [0.7777777777777778, \"#6ece58\"], [0.8888888888888888, \"#b5de2b\"], [1.0, \"#fde725\"]], \"type\": \"heatmap\"}], \"heatmapgl\": [{\"colorbar\": {\"outlinewidth\": 1, \"tickcolor\": \"rgb(36,36,36)\", \"ticks\": \"outside\"}, \"colorscale\": [[0.0, \"#440154\"], [0.1111111111111111, \"#482878\"], [0.2222222222222222, \"#3e4989\"], [0.3333333333333333, \"#31688e\"], [0.4444444444444444, \"#26828e\"], [0.5555555555555556, \"#1f9e89\"], [0.6666666666666666, \"#35b779\"], [0.7777777777777778, \"#6ece58\"], [0.8888888888888888, \"#b5de2b\"], [1.0, \"#fde725\"]], \"type\": \"heatmapgl\"}], \"histogram\": [{\"marker\": {\"line\": {\"color\": \"white\", \"width\": 0.6}}, \"type\": \"histogram\"}], \"histogram2d\": [{\"colorbar\": {\"outlinewidth\": 1, \"tickcolor\": \"rgb(36,36,36)\", \"ticks\": \"outside\"}, \"colorscale\": [[0.0, \"#440154\"], [0.1111111111111111, \"#482878\"], [0.2222222222222222, \"#3e4989\"], [0.3333333333333333, \"#31688e\"], [0.4444444444444444, \"#26828e\"], [0.5555555555555556, \"#1f9e89\"], [0.6666666666666666, \"#35b779\"], [0.7777777777777778, \"#6ece58\"], [0.8888888888888888, \"#b5de2b\"], [1.0, \"#fde725\"]], \"type\": \"histogram2d\"}], \"histogram2dcontour\": [{\"colorbar\": {\"outlinewidth\": 1, \"tickcolor\": \"rgb(36,36,36)\", \"ticks\": \"outside\"}, \"colorscale\": [[0.0, \"#440154\"], [0.1111111111111111, \"#482878\"], [0.2222222222222222, \"#3e4989\"], [0.3333333333333333, \"#31688e\"], [0.4444444444444444, \"#26828e\"], [0.5555555555555556, \"#1f9e89\"], [0.6666666666666666, \"#35b779\"], [0.7777777777777778, \"#6ece58\"], [0.8888888888888888, \"#b5de2b\"], [1.0, \"#fde725\"]], \"type\": \"histogram2dcontour\"}], \"mesh3d\": [{\"colorbar\": {\"outlinewidth\": 1, \"tickcolor\": \"rgb(36,36,36)\", \"ticks\": \"outside\"}, \"type\": \"mesh3d\"}], \"parcoords\": [{\"line\": {\"colorbar\": {\"outlinewidth\": 1, \"tickcolor\": \"rgb(36,36,36)\", \"ticks\": \"outside\"}}, \"type\": \"parcoords\"}], \"pie\": [{\"automargin\": true, \"type\": \"pie\"}], \"scatter\": [{\"marker\": {\"colorbar\": {\"outlinewidth\": 1, \"tickcolor\": \"rgb(36,36,36)\", \"ticks\": \"outside\"}}, \"type\": \"scatter\"}], \"scatter3d\": [{\"line\": {\"colorbar\": {\"outlinewidth\": 1, \"tickcolor\": \"rgb(36,36,36)\", \"ticks\": \"outside\"}}, \"marker\": {\"colorbar\": {\"outlinewidth\": 1, \"tickcolor\": \"rgb(36,36,36)\", \"ticks\": \"outside\"}}, \"type\": \"scatter3d\"}], \"scattercarpet\": [{\"marker\": {\"colorbar\": {\"outlinewidth\": 1, \"tickcolor\": \"rgb(36,36,36)\", \"ticks\": \"outside\"}}, \"type\": \"scattercarpet\"}], \"scattergeo\": [{\"marker\": {\"colorbar\": {\"outlinewidth\": 1, \"tickcolor\": \"rgb(36,36,36)\", \"ticks\": \"outside\"}}, \"type\": \"scattergeo\"}], \"scattergl\": [{\"marker\": {\"colorbar\": {\"outlinewidth\": 1, \"tickcolor\": \"rgb(36,36,36)\", \"ticks\": \"outside\"}}, \"type\": \"scattergl\"}], \"scattermapbox\": [{\"marker\": {\"colorbar\": {\"outlinewidth\": 1, \"tickcolor\": \"rgb(36,36,36)\", \"ticks\": \"outside\"}}, \"type\": \"scattermapbox\"}], \"scatterpolar\": [{\"marker\": {\"colorbar\": {\"outlinewidth\": 1, \"tickcolor\": \"rgb(36,36,36)\", \"ticks\": \"outside\"}}, \"type\": \"scatterpolar\"}], \"scatterpolargl\": [{\"marker\": {\"colorbar\": {\"outlinewidth\": 1, \"tickcolor\": \"rgb(36,36,36)\", \"ticks\": \"outside\"}}, \"type\": \"scatterpolargl\"}], \"scatterternary\": [{\"marker\": {\"colorbar\": {\"outlinewidth\": 1, \"tickcolor\": \"rgb(36,36,36)\", \"ticks\": \"outside\"}}, \"type\": \"scatterternary\"}], \"surface\": [{\"colorbar\": {\"outlinewidth\": 1, \"tickcolor\": \"rgb(36,36,36)\", \"ticks\": \"outside\"}, \"colorscale\": [[0.0, \"#440154\"], [0.1111111111111111, \"#482878\"], [0.2222222222222222, \"#3e4989\"], [0.3333333333333333, \"#31688e\"], [0.4444444444444444, \"#26828e\"], [0.5555555555555556, \"#1f9e89\"], [0.6666666666666666, \"#35b779\"], [0.7777777777777778, \"#6ece58\"], [0.8888888888888888, \"#b5de2b\"], [1.0, \"#fde725\"]], \"type\": \"surface\"}], \"table\": [{\"cells\": {\"fill\": {\"color\": \"rgb(237,237,237)\"}, \"line\": {\"color\": \"white\"}}, \"header\": {\"fill\": {\"color\": \"rgb(217,217,217)\"}, \"line\": {\"color\": \"white\"}}, \"type\": \"table\"}]}, \"layout\": {\"annotationdefaults\": {\"arrowhead\": 0, \"arrowwidth\": 1}, \"coloraxis\": {\"colorbar\": {\"outlinewidth\": 1, \"tickcolor\": \"rgb(36,36,36)\", \"ticks\": \"outside\"}}, \"colorscale\": {\"diverging\": [[0.0, \"rgb(103,0,31)\"], [0.1, \"rgb(178,24,43)\"], [0.2, \"rgb(214,96,77)\"], [0.3, \"rgb(244,165,130)\"], [0.4, \"rgb(253,219,199)\"], [0.5, \"rgb(247,247,247)\"], [0.6, \"rgb(209,229,240)\"], [0.7, \"rgb(146,197,222)\"], [0.8, \"rgb(67,147,195)\"], [0.9, \"rgb(33,102,172)\"], [1.0, \"rgb(5,48,97)\"]], \"sequential\": [[0.0, \"#440154\"], [0.1111111111111111, \"#482878\"], [0.2222222222222222, \"#3e4989\"], [0.3333333333333333, \"#31688e\"], [0.4444444444444444, \"#26828e\"], [0.5555555555555556, \"#1f9e89\"], [0.6666666666666666, \"#35b779\"], [0.7777777777777778, \"#6ece58\"], [0.8888888888888888, \"#b5de2b\"], [1.0, \"#fde725\"]], \"sequentialminus\": [[0.0, \"#440154\"], [0.1111111111111111, \"#482878\"], [0.2222222222222222, \"#3e4989\"], [0.3333333333333333, \"#31688e\"], [0.4444444444444444, \"#26828e\"], [0.5555555555555556, \"#1f9e89\"], [0.6666666666666666, \"#35b779\"], [0.7777777777777778, \"#6ece58\"], [0.8888888888888888, \"#b5de2b\"], [1.0, \"#fde725\"]]}, \"colorway\": [\"#1F77B4\", \"#FF7F0E\", \"#2CA02C\", \"#D62728\", \"#9467BD\", \"#8C564B\", \"#E377C2\", \"#7F7F7F\", \"#BCBD22\", \"#17BECF\"], \"font\": {\"color\": \"rgb(36,36,36)\"}, \"geo\": {\"bgcolor\": \"white\", \"lakecolor\": \"white\", \"landcolor\": \"white\", \"showlakes\": true, \"showland\": true, \"subunitcolor\": \"white\"}, \"hoverlabel\": {\"align\": \"left\"}, \"hovermode\": \"closest\", \"mapbox\": {\"style\": \"light\"}, \"paper_bgcolor\": \"white\", \"plot_bgcolor\": \"white\", \"polar\": {\"angularaxis\": {\"gridcolor\": \"rgb(232,232,232)\", \"linecolor\": \"rgb(36,36,36)\", \"showgrid\": false, \"showline\": true, \"ticks\": \"outside\"}, \"bgcolor\": \"white\", \"radialaxis\": {\"gridcolor\": \"rgb(232,232,232)\", \"linecolor\": \"rgb(36,36,36)\", \"showgrid\": false, \"showline\": true, \"ticks\": \"outside\"}}, \"scene\": {\"xaxis\": {\"backgroundcolor\": \"white\", \"gridcolor\": \"rgb(232,232,232)\", \"gridwidth\": 2, \"linecolor\": \"rgb(36,36,36)\", \"showbackground\": true, \"showgrid\": false, \"showline\": true, \"ticks\": \"outside\", \"zeroline\": false, \"zerolinecolor\": \"rgb(36,36,36)\"}, \"yaxis\": {\"backgroundcolor\": \"white\", \"gridcolor\": \"rgb(232,232,232)\", \"gridwidth\": 2, \"linecolor\": \"rgb(36,36,36)\", \"showbackground\": true, \"showgrid\": false, \"showline\": true, \"ticks\": \"outside\", \"zeroline\": false, \"zerolinecolor\": \"rgb(36,36,36)\"}, \"zaxis\": {\"backgroundcolor\": \"white\", \"gridcolor\": \"rgb(232,232,232)\", \"gridwidth\": 2, \"linecolor\": \"rgb(36,36,36)\", \"showbackground\": true, \"showgrid\": false, \"showline\": true, \"ticks\": \"outside\", \"zeroline\": false, \"zerolinecolor\": \"rgb(36,36,36)\"}}, \"shapedefaults\": {\"fillcolor\": \"black\", \"line\": {\"width\": 0}, \"opacity\": 0.3}, \"ternary\": {\"aaxis\": {\"gridcolor\": \"rgb(232,232,232)\", \"linecolor\": \"rgb(36,36,36)\", \"showgrid\": false, \"showline\": true, \"ticks\": \"outside\"}, \"baxis\": {\"gridcolor\": \"rgb(232,232,232)\", \"linecolor\": \"rgb(36,36,36)\", \"showgrid\": false, \"showline\": true, \"ticks\": \"outside\"}, \"bgcolor\": \"white\", \"caxis\": {\"gridcolor\": \"rgb(232,232,232)\", \"linecolor\": \"rgb(36,36,36)\", \"showgrid\": false, \"showline\": true, \"ticks\": \"outside\"}}, \"title\": {\"x\": 0.05}, \"xaxis\": {\"automargin\": true, \"gridcolor\": \"rgb(232,232,232)\", \"linecolor\": \"rgb(36,36,36)\", \"showgrid\": false, \"showline\": true, \"ticks\": \"outside\", \"title\": {\"standoff\": 15}, \"zeroline\": false, \"zerolinecolor\": \"rgb(36,36,36)\"}, \"yaxis\": {\"automargin\": true, \"gridcolor\": \"rgb(232,232,232)\", \"linecolor\": \"rgb(36,36,36)\", \"showgrid\": false, \"showline\": true, \"ticks\": \"outside\", \"title\": {\"standoff\": 15}, \"zeroline\": false, \"zerolinecolor\": \"rgb(36,36,36)\"}}}, \"title\": {\"text\": \"Buisness Intelligence Polling - Candidate Favourability\"}, \"xaxis\": {\"title\": {\"text\": \"Date\"}}, \"yaxis\": {\"range\": [0, 0.6], \"tickformat\": \",.0%\", \"title\": {\"text\": \"Polling Average\"}}},\n",
       "                        {\"responsive\": true}\n",
       "                    ).then(function(){\n",
       "                            \n",
       "var gd = document.getElementById('3e226041-9a25-4593-9118-d85b753e1931');\n",
       "var x = new MutationObserver(function (mutations, observer) {{\n",
       "        var display = window.getComputedStyle(gd).display;\n",
       "        if (!display || display === 'none') {{\n",
       "            console.log([gd, 'removed!']);\n",
       "            Plotly.purge(gd);\n",
       "            observer.disconnect();\n",
       "        }}\n",
       "}});\n",
       "\n",
       "// Listen for the removal of the full notebook cells\n",
       "var notebookContainer = gd.closest('#notebook-container');\n",
       "if (notebookContainer) {{\n",
       "    x.observe(notebookContainer, {childList: true});\n",
       "}}\n",
       "\n",
       "// Listen for the clearing of the current output cell\n",
       "var outputEl = gd.closest('.output');\n",
       "if (outputEl) {{\n",
       "    x.observe(outputEl, {childList: true});\n",
       "}}\n",
       "\n",
       "                        })\n",
       "                };\n",
       "                });\n",
       "            </script>\n",
       "        </div>"
      ]
     },
     "metadata": {},
     "output_type": "display_data"
    }
   ],
   "source": [
    "pretty_names = [\"Joe Biden\",\"Bernie Sanders\",\"Amy Klobuchar\",\"Elizabeth Warren\",\"Pete Buttigieg\",\"Andrew Yang\"]\n",
    "poll_mapping = {}\n",
    "for a,b in zip(pretty_names,px.colors.qualitative.Plotly):\n",
    "    poll_mapping[a] = b\n",
    "    \n",
    "fig = go.Figure()\n",
    "for cand,col in zip(pretty_names,concat_col_names):\n",
    "    fig.add_trace(go.Scatter(x=polling_agg[\"date\"],\n",
    "                             y=polling_agg[col], \n",
    "                             mode='lines',\n",
    "                             line_shape=\"spline\",\n",
    "                             name=cand,\n",
    "                             line=dict(color=poll_mapping[cand])\n",
    "                            ))\n",
    "\n",
    "    # Add figure title\n",
    "fig.update_layout(\n",
    "    title_text=\"Buisness Intelligence Polling - Candidate Favourability\",\n",
    "    template=\"simple_white\",\n",
    "    yaxis=dict(tickformat=',.0%',range=[0,0.6]),\n",
    "    font=dict(\n",
    "        size=17,\n",
    "    )\n",
    ")\n",
    "\n",
    "fig.update_xaxes(title_text=\"Date\")\n",
    "fig.update_yaxes(title_text=\"Polling Average\")\n",
    "\n",
    "# fig.write_html(\"visualizations/BI_polling_average-ALL.html\")\n",
    "fig.show()"
   ]
  },
  {
   "cell_type": "markdown",
   "metadata": {},
   "source": [
    "### Only young voters"
   ]
  },
  {
   "cell_type": "code",
   "execution_count": 24,
   "metadata": {},
   "outputs": [
    {
     "data": {
      "text/html": [
       "<div>\n",
       "<style scoped>\n",
       "    .dataframe tbody tr th:only-of-type {\n",
       "        vertical-align: middle;\n",
       "    }\n",
       "\n",
       "    .dataframe tbody tr th {\n",
       "        vertical-align: top;\n",
       "    }\n",
       "\n",
       "    .dataframe thead th {\n",
       "        text-align: right;\n",
       "    }\n",
       "</style>\n",
       "<table border=\"1\" class=\"dataframe\">\n",
       "  <thead>\n",
       "    <tr style=\"text-align: right;\">\n",
       "      <th></th>\n",
       "      <th>date</th>\n",
       "      <th>supports_other</th>\n",
       "      <th>supports_biden</th>\n",
       "      <th>supports_sanders</th>\n",
       "      <th>supports_klobuchar</th>\n",
       "      <th>supports_warren</th>\n",
       "      <th>supports_buttigieg</th>\n",
       "      <th>supports_yang</th>\n",
       "    </tr>\n",
       "  </thead>\n",
       "  <tbody>\n",
       "    <tr>\n",
       "      <th>0</th>\n",
       "      <td>2019-01-31</td>\n",
       "      <td>0.314578</td>\n",
       "      <td>0.263427</td>\n",
       "      <td>0.312020</td>\n",
       "      <td>0.020460</td>\n",
       "      <td>0.076726</td>\n",
       "      <td>0.012788</td>\n",
       "      <td>0.000000</td>\n",
       "    </tr>\n",
       "    <tr>\n",
       "      <th>1</th>\n",
       "      <td>2019-02-28</td>\n",
       "      <td>0.268317</td>\n",
       "      <td>0.270297</td>\n",
       "      <td>0.316832</td>\n",
       "      <td>0.025743</td>\n",
       "      <td>0.108911</td>\n",
       "      <td>0.009901</td>\n",
       "      <td>0.000000</td>\n",
       "    </tr>\n",
       "    <tr>\n",
       "      <th>2</th>\n",
       "      <td>2019-03-31</td>\n",
       "      <td>0.209424</td>\n",
       "      <td>0.278796</td>\n",
       "      <td>0.303665</td>\n",
       "      <td>0.032723</td>\n",
       "      <td>0.124346</td>\n",
       "      <td>0.022251</td>\n",
       "      <td>0.028796</td>\n",
       "    </tr>\n",
       "    <tr>\n",
       "      <th>3</th>\n",
       "      <td>2019-04-30</td>\n",
       "      <td>0.227197</td>\n",
       "      <td>0.239635</td>\n",
       "      <td>0.304312</td>\n",
       "      <td>0.026534</td>\n",
       "      <td>0.104478</td>\n",
       "      <td>0.050580</td>\n",
       "      <td>0.047264</td>\n",
       "    </tr>\n",
       "    <tr>\n",
       "      <th>4</th>\n",
       "      <td>2019-05-31</td>\n",
       "      <td>0.215733</td>\n",
       "      <td>0.225268</td>\n",
       "      <td>0.280095</td>\n",
       "      <td>0.023838</td>\n",
       "      <td>0.132300</td>\n",
       "      <td>0.061979</td>\n",
       "      <td>0.060787</td>\n",
       "    </tr>\n",
       "    <tr>\n",
       "      <th>5</th>\n",
       "      <td>2019-06-30</td>\n",
       "      <td>0.217018</td>\n",
       "      <td>0.230871</td>\n",
       "      <td>0.275066</td>\n",
       "      <td>0.023747</td>\n",
       "      <td>0.131266</td>\n",
       "      <td>0.052111</td>\n",
       "      <td>0.069921</td>\n",
       "    </tr>\n",
       "    <tr>\n",
       "      <th>6</th>\n",
       "      <td>2019-07-31</td>\n",
       "      <td>0.198135</td>\n",
       "      <td>0.213287</td>\n",
       "      <td>0.277389</td>\n",
       "      <td>0.020979</td>\n",
       "      <td>0.156177</td>\n",
       "      <td>0.066434</td>\n",
       "      <td>0.067599</td>\n",
       "    </tr>\n",
       "    <tr>\n",
       "      <th>7</th>\n",
       "      <td>2019-08-31</td>\n",
       "      <td>0.161031</td>\n",
       "      <td>0.190553</td>\n",
       "      <td>0.307032</td>\n",
       "      <td>0.019324</td>\n",
       "      <td>0.165862</td>\n",
       "      <td>0.067633</td>\n",
       "      <td>0.088567</td>\n",
       "    </tr>\n",
       "    <tr>\n",
       "      <th>8</th>\n",
       "      <td>2019-09-30</td>\n",
       "      <td>0.178651</td>\n",
       "      <td>0.168273</td>\n",
       "      <td>0.272795</td>\n",
       "      <td>0.026686</td>\n",
       "      <td>0.161601</td>\n",
       "      <td>0.059303</td>\n",
       "      <td>0.132691</td>\n",
       "    </tr>\n",
       "    <tr>\n",
       "      <th>9</th>\n",
       "      <td>2019-10-31</td>\n",
       "      <td>0.131519</td>\n",
       "      <td>0.183673</td>\n",
       "      <td>0.281935</td>\n",
       "      <td>0.025699</td>\n",
       "      <td>0.179138</td>\n",
       "      <td>0.058957</td>\n",
       "      <td>0.139078</td>\n",
       "    </tr>\n",
       "    <tr>\n",
       "      <th>10</th>\n",
       "      <td>2019-11-30</td>\n",
       "      <td>0.134069</td>\n",
       "      <td>0.180599</td>\n",
       "      <td>0.274448</td>\n",
       "      <td>0.020505</td>\n",
       "      <td>0.174290</td>\n",
       "      <td>0.067823</td>\n",
       "      <td>0.148265</td>\n",
       "    </tr>\n",
       "    <tr>\n",
       "      <th>11</th>\n",
       "      <td>2019-12-31</td>\n",
       "      <td>0.124525</td>\n",
       "      <td>0.188307</td>\n",
       "      <td>0.290053</td>\n",
       "      <td>0.022779</td>\n",
       "      <td>0.168565</td>\n",
       "      <td>0.056188</td>\n",
       "      <td>0.149582</td>\n",
       "    </tr>\n",
       "    <tr>\n",
       "      <th>12</th>\n",
       "      <td>2020-01-31</td>\n",
       "      <td>0.110959</td>\n",
       "      <td>0.183562</td>\n",
       "      <td>0.292466</td>\n",
       "      <td>0.032877</td>\n",
       "      <td>0.160959</td>\n",
       "      <td>0.067123</td>\n",
       "      <td>0.152055</td>\n",
       "    </tr>\n",
       "    <tr>\n",
       "      <th>13</th>\n",
       "      <td>2020-02-29</td>\n",
       "      <td>0.115352</td>\n",
       "      <td>0.162002</td>\n",
       "      <td>0.367260</td>\n",
       "      <td>0.042409</td>\n",
       "      <td>0.184054</td>\n",
       "      <td>0.087362</td>\n",
       "      <td>0.041561</td>\n",
       "    </tr>\n",
       "    <tr>\n",
       "      <th>14</th>\n",
       "      <td>2020-03-31</td>\n",
       "      <td>0.087227</td>\n",
       "      <td>0.339564</td>\n",
       "      <td>0.573209</td>\n",
       "      <td>0.000000</td>\n",
       "      <td>0.000000</td>\n",
       "      <td>0.000000</td>\n",
       "      <td>0.000000</td>\n",
       "    </tr>\n",
       "  </tbody>\n",
       "</table>\n",
       "</div>"
      ],
      "text/plain": [
       "         date  supports_other  supports_biden  supports_sanders  \\\n",
       "0  2019-01-31        0.314578        0.263427          0.312020   \n",
       "1  2019-02-28        0.268317        0.270297          0.316832   \n",
       "2  2019-03-31        0.209424        0.278796          0.303665   \n",
       "3  2019-04-30        0.227197        0.239635          0.304312   \n",
       "4  2019-05-31        0.215733        0.225268          0.280095   \n",
       "5  2019-06-30        0.217018        0.230871          0.275066   \n",
       "6  2019-07-31        0.198135        0.213287          0.277389   \n",
       "7  2019-08-31        0.161031        0.190553          0.307032   \n",
       "8  2019-09-30        0.178651        0.168273          0.272795   \n",
       "9  2019-10-31        0.131519        0.183673          0.281935   \n",
       "10 2019-11-30        0.134069        0.180599          0.274448   \n",
       "11 2019-12-31        0.124525        0.188307          0.290053   \n",
       "12 2020-01-31        0.110959        0.183562          0.292466   \n",
       "13 2020-02-29        0.115352        0.162002          0.367260   \n",
       "14 2020-03-31        0.087227        0.339564          0.573209   \n",
       "\n",
       "    supports_klobuchar  supports_warren  supports_buttigieg  supports_yang  \n",
       "0             0.020460         0.076726            0.012788       0.000000  \n",
       "1             0.025743         0.108911            0.009901       0.000000  \n",
       "2             0.032723         0.124346            0.022251       0.028796  \n",
       "3             0.026534         0.104478            0.050580       0.047264  \n",
       "4             0.023838         0.132300            0.061979       0.060787  \n",
       "5             0.023747         0.131266            0.052111       0.069921  \n",
       "6             0.020979         0.156177            0.066434       0.067599  \n",
       "7             0.019324         0.165862            0.067633       0.088567  \n",
       "8             0.026686         0.161601            0.059303       0.132691  \n",
       "9             0.025699         0.179138            0.058957       0.139078  \n",
       "10            0.020505         0.174290            0.067823       0.148265  \n",
       "11            0.022779         0.168565            0.056188       0.149582  \n",
       "12            0.032877         0.160959            0.067123       0.152055  \n",
       "13            0.042409         0.184054            0.087362       0.041561  \n",
       "14            0.000000         0.000000            0.000000       0.000000  "
      ]
     },
     "execution_count": 24,
     "metadata": {},
     "output_type": "execute_result"
    }
   ],
   "source": [
    "young_voters = bi_poll[bi_poll[\"age\"] == \"18-29\"]\n",
    "young_voters_agg = young_voters.groupby([pd.Grouper(key='date', freq='M')])[[\"supports_other\"]+concat_col_names].sum().reset_index().sort_values('date')\n",
    "# Convert to pct\n",
    "young_voters_agg = young_voters_agg.set_index('date')\n",
    "young_voters_agg = young_voters_agg.div(young_voters_agg.sum(axis=1), axis=0)\n",
    "young_voters_agg = young_voters_agg.reset_index()\n",
    "young_voters_agg"
   ]
  },
  {
   "cell_type": "code",
   "execution_count": 25,
   "metadata": {
    "scrolled": false
   },
   "outputs": [
    {
     "data": {
      "application/vnd.plotly.v1+json": {
       "config": {
        "plotlyServerURL": "https://plot.ly"
       },
       "data": [
        {
         "line": {
          "color": "#636EFA",
          "shape": "spline"
         },
         "mode": "lines",
         "name": "Joe Biden",
         "type": "scatter",
         "x": [
          "2019-01-31T00:00:00",
          "2019-02-28T00:00:00",
          "2019-03-31T00:00:00",
          "2019-04-30T00:00:00",
          "2019-05-31T00:00:00",
          "2019-06-30T00:00:00",
          "2019-07-31T00:00:00",
          "2019-08-31T00:00:00",
          "2019-09-30T00:00:00",
          "2019-10-31T00:00:00",
          "2019-11-30T00:00:00",
          "2019-12-31T00:00:00",
          "2020-01-31T00:00:00",
          "2020-02-29T00:00:00",
          "2020-03-31T00:00:00"
         ],
         "y": [
          0.26342710997442453,
          0.2702970297029703,
          0.2787958115183246,
          0.2396351575456053,
          0.22526817640047675,
          0.23087071240105542,
          0.21328671328671328,
          0.19055287171229202,
          0.1682727946627131,
          0.1836734693877551,
          0.1805993690851735,
          0.18830675778283978,
          0.18356164383561643,
          0.1620016963528414,
          0.3395638629283489
         ]
        },
        {
         "line": {
          "color": "#EF553B",
          "shape": "spline"
         },
         "mode": "lines",
         "name": "Bernie Sanders",
         "type": "scatter",
         "x": [
          "2019-01-31T00:00:00",
          "2019-02-28T00:00:00",
          "2019-03-31T00:00:00",
          "2019-04-30T00:00:00",
          "2019-05-31T00:00:00",
          "2019-06-30T00:00:00",
          "2019-07-31T00:00:00",
          "2019-08-31T00:00:00",
          "2019-09-30T00:00:00",
          "2019-10-31T00:00:00",
          "2019-11-30T00:00:00",
          "2019-12-31T00:00:00",
          "2020-01-31T00:00:00",
          "2020-02-29T00:00:00",
          "2020-03-31T00:00:00"
         ],
         "y": [
          0.31202046035805625,
          0.31683168316831684,
          0.3036649214659686,
          0.3043117744610282,
          0.2800953516090584,
          0.27506596306068604,
          0.2773892773892774,
          0.3070316693505099,
          0.2727946627131208,
          0.2819349962207105,
          0.2744479495268139,
          0.2900531511009871,
          0.2924657534246575,
          0.3672603901611535,
          0.573208722741433
         ]
        },
        {
         "line": {
          "color": "#00CC96",
          "shape": "spline"
         },
         "mode": "lines",
         "name": "Amy Klobuchar",
         "type": "scatter",
         "x": [
          "2019-01-31T00:00:00",
          "2019-02-28T00:00:00",
          "2019-03-31T00:00:00",
          "2019-04-30T00:00:00",
          "2019-05-31T00:00:00",
          "2019-06-30T00:00:00",
          "2019-07-31T00:00:00",
          "2019-08-31T00:00:00",
          "2019-09-30T00:00:00",
          "2019-10-31T00:00:00",
          "2019-11-30T00:00:00",
          "2019-12-31T00:00:00",
          "2020-01-31T00:00:00",
          "2020-02-29T00:00:00",
          "2020-03-31T00:00:00"
         ],
         "y": [
          0.020460358056265986,
          0.02574257425742574,
          0.032722513089005235,
          0.026533996683250415,
          0.023837902264600714,
          0.023746701846965697,
          0.02097902097902098,
          0.01932367149758454,
          0.026686434395848776,
          0.025699168556311415,
          0.02050473186119874,
          0.022779043280182234,
          0.03287671232876712,
          0.04240882103477523,
          0
         ]
        },
        {
         "line": {
          "color": "#AB63FA",
          "shape": "spline"
         },
         "mode": "lines",
         "name": "Elizabeth Warren",
         "type": "scatter",
         "x": [
          "2019-01-31T00:00:00",
          "2019-02-28T00:00:00",
          "2019-03-31T00:00:00",
          "2019-04-30T00:00:00",
          "2019-05-31T00:00:00",
          "2019-06-30T00:00:00",
          "2019-07-31T00:00:00",
          "2019-08-31T00:00:00",
          "2019-09-30T00:00:00",
          "2019-10-31T00:00:00",
          "2019-11-30T00:00:00",
          "2019-12-31T00:00:00",
          "2020-01-31T00:00:00",
          "2020-02-29T00:00:00",
          "2020-03-31T00:00:00"
         ],
         "y": [
          0.07672634271099744,
          0.10891089108910891,
          0.1243455497382199,
          0.1044776119402985,
          0.13230035756853398,
          0.1312664907651715,
          0.1561771561771562,
          0.16586151368760063,
          0.16160118606375093,
          0.17913832199546487,
          0.17429022082018927,
          0.16856492027334852,
          0.16095890410958905,
          0.18405428329092452,
          0
         ]
        },
        {
         "line": {
          "color": "#FFA15A",
          "shape": "spline"
         },
         "mode": "lines",
         "name": "Pete Buttigieg",
         "type": "scatter",
         "x": [
          "2019-01-31T00:00:00",
          "2019-02-28T00:00:00",
          "2019-03-31T00:00:00",
          "2019-04-30T00:00:00",
          "2019-05-31T00:00:00",
          "2019-06-30T00:00:00",
          "2019-07-31T00:00:00",
          "2019-08-31T00:00:00",
          "2019-09-30T00:00:00",
          "2019-10-31T00:00:00",
          "2019-11-30T00:00:00",
          "2019-12-31T00:00:00",
          "2020-01-31T00:00:00",
          "2020-02-29T00:00:00",
          "2020-03-31T00:00:00"
         ],
         "y": [
          0.01278772378516624,
          0.009900990099009901,
          0.02225130890052356,
          0.0505804311774461,
          0.06197854588796186,
          0.052110817941952506,
          0.06643356643356643,
          0.06763285024154589,
          0.05930318754633061,
          0.05895691609977324,
          0.06782334384858044,
          0.05618830675778284,
          0.06712328767123288,
          0.08736217133163698,
          0
         ]
        },
        {
         "line": {
          "color": "#19D3F3",
          "shape": "spline"
         },
         "mode": "lines",
         "name": "Andrew Yang",
         "type": "scatter",
         "x": [
          "2019-01-31T00:00:00",
          "2019-02-28T00:00:00",
          "2019-03-31T00:00:00",
          "2019-04-30T00:00:00",
          "2019-05-31T00:00:00",
          "2019-06-30T00:00:00",
          "2019-07-31T00:00:00",
          "2019-08-31T00:00:00",
          "2019-09-30T00:00:00",
          "2019-10-31T00:00:00",
          "2019-11-30T00:00:00",
          "2019-12-31T00:00:00",
          "2020-01-31T00:00:00",
          "2020-02-29T00:00:00",
          "2020-03-31T00:00:00"
         ],
         "y": [
          0,
          0,
          0.028795811518324606,
          0.0472636815920398,
          0.060786650774731825,
          0.06992084432717678,
          0.0675990675990676,
          0.08856682769726248,
          0.13269088213491476,
          0.13907785336356765,
          0.14826498422712933,
          0.14958238420653,
          0.15205479452054796,
          0.041560644614079725,
          0
         ]
        }
       ],
       "layout": {
        "font": {
         "size": 17
        },
        "template": {
         "data": {
          "bar": [
           {
            "error_x": {
             "color": "rgb(36,36,36)"
            },
            "error_y": {
             "color": "rgb(36,36,36)"
            },
            "marker": {
             "line": {
              "color": "white",
              "width": 0.5
             }
            },
            "type": "bar"
           }
          ],
          "barpolar": [
           {
            "marker": {
             "line": {
              "color": "white",
              "width": 0.5
             }
            },
            "type": "barpolar"
           }
          ],
          "carpet": [
           {
            "aaxis": {
             "endlinecolor": "rgb(36,36,36)",
             "gridcolor": "white",
             "linecolor": "white",
             "minorgridcolor": "white",
             "startlinecolor": "rgb(36,36,36)"
            },
            "baxis": {
             "endlinecolor": "rgb(36,36,36)",
             "gridcolor": "white",
             "linecolor": "white",
             "minorgridcolor": "white",
             "startlinecolor": "rgb(36,36,36)"
            },
            "type": "carpet"
           }
          ],
          "choropleth": [
           {
            "colorbar": {
             "outlinewidth": 1,
             "tickcolor": "rgb(36,36,36)",
             "ticks": "outside"
            },
            "type": "choropleth"
           }
          ],
          "contour": [
           {
            "colorbar": {
             "outlinewidth": 1,
             "tickcolor": "rgb(36,36,36)",
             "ticks": "outside"
            },
            "colorscale": [
             [
              0,
              "#440154"
             ],
             [
              0.1111111111111111,
              "#482878"
             ],
             [
              0.2222222222222222,
              "#3e4989"
             ],
             [
              0.3333333333333333,
              "#31688e"
             ],
             [
              0.4444444444444444,
              "#26828e"
             ],
             [
              0.5555555555555556,
              "#1f9e89"
             ],
             [
              0.6666666666666666,
              "#35b779"
             ],
             [
              0.7777777777777778,
              "#6ece58"
             ],
             [
              0.8888888888888888,
              "#b5de2b"
             ],
             [
              1,
              "#fde725"
             ]
            ],
            "type": "contour"
           }
          ],
          "contourcarpet": [
           {
            "colorbar": {
             "outlinewidth": 1,
             "tickcolor": "rgb(36,36,36)",
             "ticks": "outside"
            },
            "type": "contourcarpet"
           }
          ],
          "heatmap": [
           {
            "colorbar": {
             "outlinewidth": 1,
             "tickcolor": "rgb(36,36,36)",
             "ticks": "outside"
            },
            "colorscale": [
             [
              0,
              "#440154"
             ],
             [
              0.1111111111111111,
              "#482878"
             ],
             [
              0.2222222222222222,
              "#3e4989"
             ],
             [
              0.3333333333333333,
              "#31688e"
             ],
             [
              0.4444444444444444,
              "#26828e"
             ],
             [
              0.5555555555555556,
              "#1f9e89"
             ],
             [
              0.6666666666666666,
              "#35b779"
             ],
             [
              0.7777777777777778,
              "#6ece58"
             ],
             [
              0.8888888888888888,
              "#b5de2b"
             ],
             [
              1,
              "#fde725"
             ]
            ],
            "type": "heatmap"
           }
          ],
          "heatmapgl": [
           {
            "colorbar": {
             "outlinewidth": 1,
             "tickcolor": "rgb(36,36,36)",
             "ticks": "outside"
            },
            "colorscale": [
             [
              0,
              "#440154"
             ],
             [
              0.1111111111111111,
              "#482878"
             ],
             [
              0.2222222222222222,
              "#3e4989"
             ],
             [
              0.3333333333333333,
              "#31688e"
             ],
             [
              0.4444444444444444,
              "#26828e"
             ],
             [
              0.5555555555555556,
              "#1f9e89"
             ],
             [
              0.6666666666666666,
              "#35b779"
             ],
             [
              0.7777777777777778,
              "#6ece58"
             ],
             [
              0.8888888888888888,
              "#b5de2b"
             ],
             [
              1,
              "#fde725"
             ]
            ],
            "type": "heatmapgl"
           }
          ],
          "histogram": [
           {
            "marker": {
             "line": {
              "color": "white",
              "width": 0.6
             }
            },
            "type": "histogram"
           }
          ],
          "histogram2d": [
           {
            "colorbar": {
             "outlinewidth": 1,
             "tickcolor": "rgb(36,36,36)",
             "ticks": "outside"
            },
            "colorscale": [
             [
              0,
              "#440154"
             ],
             [
              0.1111111111111111,
              "#482878"
             ],
             [
              0.2222222222222222,
              "#3e4989"
             ],
             [
              0.3333333333333333,
              "#31688e"
             ],
             [
              0.4444444444444444,
              "#26828e"
             ],
             [
              0.5555555555555556,
              "#1f9e89"
             ],
             [
              0.6666666666666666,
              "#35b779"
             ],
             [
              0.7777777777777778,
              "#6ece58"
             ],
             [
              0.8888888888888888,
              "#b5de2b"
             ],
             [
              1,
              "#fde725"
             ]
            ],
            "type": "histogram2d"
           }
          ],
          "histogram2dcontour": [
           {
            "colorbar": {
             "outlinewidth": 1,
             "tickcolor": "rgb(36,36,36)",
             "ticks": "outside"
            },
            "colorscale": [
             [
              0,
              "#440154"
             ],
             [
              0.1111111111111111,
              "#482878"
             ],
             [
              0.2222222222222222,
              "#3e4989"
             ],
             [
              0.3333333333333333,
              "#31688e"
             ],
             [
              0.4444444444444444,
              "#26828e"
             ],
             [
              0.5555555555555556,
              "#1f9e89"
             ],
             [
              0.6666666666666666,
              "#35b779"
             ],
             [
              0.7777777777777778,
              "#6ece58"
             ],
             [
              0.8888888888888888,
              "#b5de2b"
             ],
             [
              1,
              "#fde725"
             ]
            ],
            "type": "histogram2dcontour"
           }
          ],
          "mesh3d": [
           {
            "colorbar": {
             "outlinewidth": 1,
             "tickcolor": "rgb(36,36,36)",
             "ticks": "outside"
            },
            "type": "mesh3d"
           }
          ],
          "parcoords": [
           {
            "line": {
             "colorbar": {
              "outlinewidth": 1,
              "tickcolor": "rgb(36,36,36)",
              "ticks": "outside"
             }
            },
            "type": "parcoords"
           }
          ],
          "pie": [
           {
            "automargin": true,
            "type": "pie"
           }
          ],
          "scatter": [
           {
            "marker": {
             "colorbar": {
              "outlinewidth": 1,
              "tickcolor": "rgb(36,36,36)",
              "ticks": "outside"
             }
            },
            "type": "scatter"
           }
          ],
          "scatter3d": [
           {
            "line": {
             "colorbar": {
              "outlinewidth": 1,
              "tickcolor": "rgb(36,36,36)",
              "ticks": "outside"
             }
            },
            "marker": {
             "colorbar": {
              "outlinewidth": 1,
              "tickcolor": "rgb(36,36,36)",
              "ticks": "outside"
             }
            },
            "type": "scatter3d"
           }
          ],
          "scattercarpet": [
           {
            "marker": {
             "colorbar": {
              "outlinewidth": 1,
              "tickcolor": "rgb(36,36,36)",
              "ticks": "outside"
             }
            },
            "type": "scattercarpet"
           }
          ],
          "scattergeo": [
           {
            "marker": {
             "colorbar": {
              "outlinewidth": 1,
              "tickcolor": "rgb(36,36,36)",
              "ticks": "outside"
             }
            },
            "type": "scattergeo"
           }
          ],
          "scattergl": [
           {
            "marker": {
             "colorbar": {
              "outlinewidth": 1,
              "tickcolor": "rgb(36,36,36)",
              "ticks": "outside"
             }
            },
            "type": "scattergl"
           }
          ],
          "scattermapbox": [
           {
            "marker": {
             "colorbar": {
              "outlinewidth": 1,
              "tickcolor": "rgb(36,36,36)",
              "ticks": "outside"
             }
            },
            "type": "scattermapbox"
           }
          ],
          "scatterpolar": [
           {
            "marker": {
             "colorbar": {
              "outlinewidth": 1,
              "tickcolor": "rgb(36,36,36)",
              "ticks": "outside"
             }
            },
            "type": "scatterpolar"
           }
          ],
          "scatterpolargl": [
           {
            "marker": {
             "colorbar": {
              "outlinewidth": 1,
              "tickcolor": "rgb(36,36,36)",
              "ticks": "outside"
             }
            },
            "type": "scatterpolargl"
           }
          ],
          "scatterternary": [
           {
            "marker": {
             "colorbar": {
              "outlinewidth": 1,
              "tickcolor": "rgb(36,36,36)",
              "ticks": "outside"
             }
            },
            "type": "scatterternary"
           }
          ],
          "surface": [
           {
            "colorbar": {
             "outlinewidth": 1,
             "tickcolor": "rgb(36,36,36)",
             "ticks": "outside"
            },
            "colorscale": [
             [
              0,
              "#440154"
             ],
             [
              0.1111111111111111,
              "#482878"
             ],
             [
              0.2222222222222222,
              "#3e4989"
             ],
             [
              0.3333333333333333,
              "#31688e"
             ],
             [
              0.4444444444444444,
              "#26828e"
             ],
             [
              0.5555555555555556,
              "#1f9e89"
             ],
             [
              0.6666666666666666,
              "#35b779"
             ],
             [
              0.7777777777777778,
              "#6ece58"
             ],
             [
              0.8888888888888888,
              "#b5de2b"
             ],
             [
              1,
              "#fde725"
             ]
            ],
            "type": "surface"
           }
          ],
          "table": [
           {
            "cells": {
             "fill": {
              "color": "rgb(237,237,237)"
             },
             "line": {
              "color": "white"
             }
            },
            "header": {
             "fill": {
              "color": "rgb(217,217,217)"
             },
             "line": {
              "color": "white"
             }
            },
            "type": "table"
           }
          ]
         },
         "layout": {
          "annotationdefaults": {
           "arrowhead": 0,
           "arrowwidth": 1
          },
          "coloraxis": {
           "colorbar": {
            "outlinewidth": 1,
            "tickcolor": "rgb(36,36,36)",
            "ticks": "outside"
           }
          },
          "colorscale": {
           "diverging": [
            [
             0,
             "rgb(103,0,31)"
            ],
            [
             0.1,
             "rgb(178,24,43)"
            ],
            [
             0.2,
             "rgb(214,96,77)"
            ],
            [
             0.3,
             "rgb(244,165,130)"
            ],
            [
             0.4,
             "rgb(253,219,199)"
            ],
            [
             0.5,
             "rgb(247,247,247)"
            ],
            [
             0.6,
             "rgb(209,229,240)"
            ],
            [
             0.7,
             "rgb(146,197,222)"
            ],
            [
             0.8,
             "rgb(67,147,195)"
            ],
            [
             0.9,
             "rgb(33,102,172)"
            ],
            [
             1,
             "rgb(5,48,97)"
            ]
           ],
           "sequential": [
            [
             0,
             "#440154"
            ],
            [
             0.1111111111111111,
             "#482878"
            ],
            [
             0.2222222222222222,
             "#3e4989"
            ],
            [
             0.3333333333333333,
             "#31688e"
            ],
            [
             0.4444444444444444,
             "#26828e"
            ],
            [
             0.5555555555555556,
             "#1f9e89"
            ],
            [
             0.6666666666666666,
             "#35b779"
            ],
            [
             0.7777777777777778,
             "#6ece58"
            ],
            [
             0.8888888888888888,
             "#b5de2b"
            ],
            [
             1,
             "#fde725"
            ]
           ],
           "sequentialminus": [
            [
             0,
             "#440154"
            ],
            [
             0.1111111111111111,
             "#482878"
            ],
            [
             0.2222222222222222,
             "#3e4989"
            ],
            [
             0.3333333333333333,
             "#31688e"
            ],
            [
             0.4444444444444444,
             "#26828e"
            ],
            [
             0.5555555555555556,
             "#1f9e89"
            ],
            [
             0.6666666666666666,
             "#35b779"
            ],
            [
             0.7777777777777778,
             "#6ece58"
            ],
            [
             0.8888888888888888,
             "#b5de2b"
            ],
            [
             1,
             "#fde725"
            ]
           ]
          },
          "colorway": [
           "#1F77B4",
           "#FF7F0E",
           "#2CA02C",
           "#D62728",
           "#9467BD",
           "#8C564B",
           "#E377C2",
           "#7F7F7F",
           "#BCBD22",
           "#17BECF"
          ],
          "font": {
           "color": "rgb(36,36,36)"
          },
          "geo": {
           "bgcolor": "white",
           "lakecolor": "white",
           "landcolor": "white",
           "showlakes": true,
           "showland": true,
           "subunitcolor": "white"
          },
          "hoverlabel": {
           "align": "left"
          },
          "hovermode": "closest",
          "mapbox": {
           "style": "light"
          },
          "paper_bgcolor": "white",
          "plot_bgcolor": "white",
          "polar": {
           "angularaxis": {
            "gridcolor": "rgb(232,232,232)",
            "linecolor": "rgb(36,36,36)",
            "showgrid": false,
            "showline": true,
            "ticks": "outside"
           },
           "bgcolor": "white",
           "radialaxis": {
            "gridcolor": "rgb(232,232,232)",
            "linecolor": "rgb(36,36,36)",
            "showgrid": false,
            "showline": true,
            "ticks": "outside"
           }
          },
          "scene": {
           "xaxis": {
            "backgroundcolor": "white",
            "gridcolor": "rgb(232,232,232)",
            "gridwidth": 2,
            "linecolor": "rgb(36,36,36)",
            "showbackground": true,
            "showgrid": false,
            "showline": true,
            "ticks": "outside",
            "zeroline": false,
            "zerolinecolor": "rgb(36,36,36)"
           },
           "yaxis": {
            "backgroundcolor": "white",
            "gridcolor": "rgb(232,232,232)",
            "gridwidth": 2,
            "linecolor": "rgb(36,36,36)",
            "showbackground": true,
            "showgrid": false,
            "showline": true,
            "ticks": "outside",
            "zeroline": false,
            "zerolinecolor": "rgb(36,36,36)"
           },
           "zaxis": {
            "backgroundcolor": "white",
            "gridcolor": "rgb(232,232,232)",
            "gridwidth": 2,
            "linecolor": "rgb(36,36,36)",
            "showbackground": true,
            "showgrid": false,
            "showline": true,
            "ticks": "outside",
            "zeroline": false,
            "zerolinecolor": "rgb(36,36,36)"
           }
          },
          "shapedefaults": {
           "fillcolor": "black",
           "line": {
            "width": 0
           },
           "opacity": 0.3
          },
          "ternary": {
           "aaxis": {
            "gridcolor": "rgb(232,232,232)",
            "linecolor": "rgb(36,36,36)",
            "showgrid": false,
            "showline": true,
            "ticks": "outside"
           },
           "baxis": {
            "gridcolor": "rgb(232,232,232)",
            "linecolor": "rgb(36,36,36)",
            "showgrid": false,
            "showline": true,
            "ticks": "outside"
           },
           "bgcolor": "white",
           "caxis": {
            "gridcolor": "rgb(232,232,232)",
            "linecolor": "rgb(36,36,36)",
            "showgrid": false,
            "showline": true,
            "ticks": "outside"
           }
          },
          "title": {
           "x": 0.05
          },
          "xaxis": {
           "automargin": true,
           "gridcolor": "rgb(232,232,232)",
           "linecolor": "rgb(36,36,36)",
           "showgrid": false,
           "showline": true,
           "ticks": "outside",
           "title": {
            "standoff": 15
           },
           "zeroline": false,
           "zerolinecolor": "rgb(36,36,36)"
          },
          "yaxis": {
           "automargin": true,
           "gridcolor": "rgb(232,232,232)",
           "linecolor": "rgb(36,36,36)",
           "showgrid": false,
           "showline": true,
           "ticks": "outside",
           "title": {
            "standoff": 15
           },
           "zeroline": false,
           "zerolinecolor": "rgb(36,36,36)"
          }
         }
        },
        "title": {
         "text": "Buisness Intelligence Polling - Candidate Favourability (18-29 Age Group)"
        },
        "xaxis": {
         "title": {
          "text": "Date"
         }
        },
        "yaxis": {
         "range": [
          0,
          0.6
         ],
         "tickformat": ",.0%",
         "title": {
          "text": "Polling Average"
         }
        }
       }
      },
      "text/html": [
       "<div>\n",
       "        \n",
       "        \n",
       "            <div id=\"4bc5b5b9-995d-4eed-98fb-7cbc76684f8a\" class=\"plotly-graph-div\" style=\"height:525px; width:100%;\"></div>\n",
       "            <script type=\"text/javascript\">\n",
       "                require([\"plotly\"], function(Plotly) {\n",
       "                    window.PLOTLYENV=window.PLOTLYENV || {};\n",
       "                    \n",
       "                if (document.getElementById(\"4bc5b5b9-995d-4eed-98fb-7cbc76684f8a\")) {\n",
       "                    Plotly.newPlot(\n",
       "                        '4bc5b5b9-995d-4eed-98fb-7cbc76684f8a',\n",
       "                        [{\"line\": {\"color\": \"#636EFA\", \"shape\": \"spline\"}, \"mode\": \"lines\", \"name\": \"Joe Biden\", \"type\": \"scatter\", \"x\": [\"2019-01-31T00:00:00\", \"2019-02-28T00:00:00\", \"2019-03-31T00:00:00\", \"2019-04-30T00:00:00\", \"2019-05-31T00:00:00\", \"2019-06-30T00:00:00\", \"2019-07-31T00:00:00\", \"2019-08-31T00:00:00\", \"2019-09-30T00:00:00\", \"2019-10-31T00:00:00\", \"2019-11-30T00:00:00\", \"2019-12-31T00:00:00\", \"2020-01-31T00:00:00\", \"2020-02-29T00:00:00\", \"2020-03-31T00:00:00\"], \"y\": [0.26342710997442453, 0.2702970297029703, 0.2787958115183246, 0.2396351575456053, 0.22526817640047675, 0.23087071240105542, 0.21328671328671328, 0.19055287171229202, 0.1682727946627131, 0.1836734693877551, 0.1805993690851735, 0.18830675778283978, 0.18356164383561643, 0.1620016963528414, 0.3395638629283489]}, {\"line\": {\"color\": \"#EF553B\", \"shape\": \"spline\"}, \"mode\": \"lines\", \"name\": \"Bernie Sanders\", \"type\": \"scatter\", \"x\": [\"2019-01-31T00:00:00\", \"2019-02-28T00:00:00\", \"2019-03-31T00:00:00\", \"2019-04-30T00:00:00\", \"2019-05-31T00:00:00\", \"2019-06-30T00:00:00\", \"2019-07-31T00:00:00\", \"2019-08-31T00:00:00\", \"2019-09-30T00:00:00\", \"2019-10-31T00:00:00\", \"2019-11-30T00:00:00\", \"2019-12-31T00:00:00\", \"2020-01-31T00:00:00\", \"2020-02-29T00:00:00\", \"2020-03-31T00:00:00\"], \"y\": [0.31202046035805625, 0.31683168316831684, 0.3036649214659686, 0.3043117744610282, 0.2800953516090584, 0.27506596306068604, 0.2773892773892774, 0.3070316693505099, 0.2727946627131208, 0.2819349962207105, 0.2744479495268139, 0.2900531511009871, 0.2924657534246575, 0.3672603901611535, 0.573208722741433]}, {\"line\": {\"color\": \"#00CC96\", \"shape\": \"spline\"}, \"mode\": \"lines\", \"name\": \"Amy Klobuchar\", \"type\": \"scatter\", \"x\": [\"2019-01-31T00:00:00\", \"2019-02-28T00:00:00\", \"2019-03-31T00:00:00\", \"2019-04-30T00:00:00\", \"2019-05-31T00:00:00\", \"2019-06-30T00:00:00\", \"2019-07-31T00:00:00\", \"2019-08-31T00:00:00\", \"2019-09-30T00:00:00\", \"2019-10-31T00:00:00\", \"2019-11-30T00:00:00\", \"2019-12-31T00:00:00\", \"2020-01-31T00:00:00\", \"2020-02-29T00:00:00\", \"2020-03-31T00:00:00\"], \"y\": [0.020460358056265986, 0.02574257425742574, 0.032722513089005235, 0.026533996683250415, 0.023837902264600714, 0.023746701846965697, 0.02097902097902098, 0.01932367149758454, 0.026686434395848776, 0.025699168556311415, 0.02050473186119874, 0.022779043280182234, 0.03287671232876712, 0.04240882103477523, 0.0]}, {\"line\": {\"color\": \"#AB63FA\", \"shape\": \"spline\"}, \"mode\": \"lines\", \"name\": \"Elizabeth Warren\", \"type\": \"scatter\", \"x\": [\"2019-01-31T00:00:00\", \"2019-02-28T00:00:00\", \"2019-03-31T00:00:00\", \"2019-04-30T00:00:00\", \"2019-05-31T00:00:00\", \"2019-06-30T00:00:00\", \"2019-07-31T00:00:00\", \"2019-08-31T00:00:00\", \"2019-09-30T00:00:00\", \"2019-10-31T00:00:00\", \"2019-11-30T00:00:00\", \"2019-12-31T00:00:00\", \"2020-01-31T00:00:00\", \"2020-02-29T00:00:00\", \"2020-03-31T00:00:00\"], \"y\": [0.07672634271099744, 0.10891089108910891, 0.1243455497382199, 0.1044776119402985, 0.13230035756853398, 0.1312664907651715, 0.1561771561771562, 0.16586151368760063, 0.16160118606375093, 0.17913832199546487, 0.17429022082018927, 0.16856492027334852, 0.16095890410958905, 0.18405428329092452, 0.0]}, {\"line\": {\"color\": \"#FFA15A\", \"shape\": \"spline\"}, \"mode\": \"lines\", \"name\": \"Pete Buttigieg\", \"type\": \"scatter\", \"x\": [\"2019-01-31T00:00:00\", \"2019-02-28T00:00:00\", \"2019-03-31T00:00:00\", \"2019-04-30T00:00:00\", \"2019-05-31T00:00:00\", \"2019-06-30T00:00:00\", \"2019-07-31T00:00:00\", \"2019-08-31T00:00:00\", \"2019-09-30T00:00:00\", \"2019-10-31T00:00:00\", \"2019-11-30T00:00:00\", \"2019-12-31T00:00:00\", \"2020-01-31T00:00:00\", \"2020-02-29T00:00:00\", \"2020-03-31T00:00:00\"], \"y\": [0.01278772378516624, 0.009900990099009901, 0.02225130890052356, 0.0505804311774461, 0.06197854588796186, 0.052110817941952506, 0.06643356643356643, 0.06763285024154589, 0.05930318754633061, 0.05895691609977324, 0.06782334384858044, 0.05618830675778284, 0.06712328767123288, 0.08736217133163698, 0.0]}, {\"line\": {\"color\": \"#19D3F3\", \"shape\": \"spline\"}, \"mode\": \"lines\", \"name\": \"Andrew Yang\", \"type\": \"scatter\", \"x\": [\"2019-01-31T00:00:00\", \"2019-02-28T00:00:00\", \"2019-03-31T00:00:00\", \"2019-04-30T00:00:00\", \"2019-05-31T00:00:00\", \"2019-06-30T00:00:00\", \"2019-07-31T00:00:00\", \"2019-08-31T00:00:00\", \"2019-09-30T00:00:00\", \"2019-10-31T00:00:00\", \"2019-11-30T00:00:00\", \"2019-12-31T00:00:00\", \"2020-01-31T00:00:00\", \"2020-02-29T00:00:00\", \"2020-03-31T00:00:00\"], \"y\": [0.0, 0.0, 0.028795811518324606, 0.0472636815920398, 0.060786650774731825, 0.06992084432717678, 0.0675990675990676, 0.08856682769726248, 0.13269088213491476, 0.13907785336356765, 0.14826498422712933, 0.14958238420653, 0.15205479452054796, 0.041560644614079725, 0.0]}],\n",
       "                        {\"font\": {\"size\": 17}, \"template\": {\"data\": {\"bar\": [{\"error_x\": {\"color\": \"rgb(36,36,36)\"}, \"error_y\": {\"color\": \"rgb(36,36,36)\"}, \"marker\": {\"line\": {\"color\": \"white\", \"width\": 0.5}}, \"type\": \"bar\"}], \"barpolar\": [{\"marker\": {\"line\": {\"color\": \"white\", \"width\": 0.5}}, \"type\": \"barpolar\"}], \"carpet\": [{\"aaxis\": {\"endlinecolor\": \"rgb(36,36,36)\", \"gridcolor\": \"white\", \"linecolor\": \"white\", \"minorgridcolor\": \"white\", \"startlinecolor\": \"rgb(36,36,36)\"}, \"baxis\": {\"endlinecolor\": \"rgb(36,36,36)\", \"gridcolor\": \"white\", \"linecolor\": \"white\", \"minorgridcolor\": \"white\", \"startlinecolor\": \"rgb(36,36,36)\"}, \"type\": \"carpet\"}], \"choropleth\": [{\"colorbar\": {\"outlinewidth\": 1, \"tickcolor\": \"rgb(36,36,36)\", \"ticks\": \"outside\"}, \"type\": \"choropleth\"}], \"contour\": [{\"colorbar\": {\"outlinewidth\": 1, \"tickcolor\": \"rgb(36,36,36)\", \"ticks\": \"outside\"}, \"colorscale\": [[0.0, \"#440154\"], [0.1111111111111111, \"#482878\"], [0.2222222222222222, \"#3e4989\"], [0.3333333333333333, \"#31688e\"], [0.4444444444444444, \"#26828e\"], [0.5555555555555556, \"#1f9e89\"], [0.6666666666666666, \"#35b779\"], [0.7777777777777778, \"#6ece58\"], [0.8888888888888888, \"#b5de2b\"], [1.0, \"#fde725\"]], \"type\": \"contour\"}], \"contourcarpet\": [{\"colorbar\": {\"outlinewidth\": 1, \"tickcolor\": \"rgb(36,36,36)\", \"ticks\": \"outside\"}, \"type\": \"contourcarpet\"}], \"heatmap\": [{\"colorbar\": {\"outlinewidth\": 1, \"tickcolor\": \"rgb(36,36,36)\", \"ticks\": \"outside\"}, \"colorscale\": [[0.0, \"#440154\"], [0.1111111111111111, \"#482878\"], [0.2222222222222222, \"#3e4989\"], [0.3333333333333333, \"#31688e\"], [0.4444444444444444, \"#26828e\"], [0.5555555555555556, \"#1f9e89\"], [0.6666666666666666, \"#35b779\"], [0.7777777777777778, \"#6ece58\"], [0.8888888888888888, \"#b5de2b\"], [1.0, \"#fde725\"]], \"type\": \"heatmap\"}], \"heatmapgl\": [{\"colorbar\": {\"outlinewidth\": 1, \"tickcolor\": \"rgb(36,36,36)\", \"ticks\": \"outside\"}, \"colorscale\": [[0.0, \"#440154\"], [0.1111111111111111, \"#482878\"], [0.2222222222222222, \"#3e4989\"], [0.3333333333333333, \"#31688e\"], [0.4444444444444444, \"#26828e\"], [0.5555555555555556, \"#1f9e89\"], [0.6666666666666666, \"#35b779\"], [0.7777777777777778, \"#6ece58\"], [0.8888888888888888, \"#b5de2b\"], [1.0, \"#fde725\"]], \"type\": \"heatmapgl\"}], \"histogram\": [{\"marker\": {\"line\": {\"color\": \"white\", \"width\": 0.6}}, \"type\": \"histogram\"}], \"histogram2d\": [{\"colorbar\": {\"outlinewidth\": 1, \"tickcolor\": \"rgb(36,36,36)\", \"ticks\": \"outside\"}, \"colorscale\": [[0.0, \"#440154\"], [0.1111111111111111, \"#482878\"], [0.2222222222222222, \"#3e4989\"], [0.3333333333333333, \"#31688e\"], [0.4444444444444444, \"#26828e\"], [0.5555555555555556, \"#1f9e89\"], [0.6666666666666666, \"#35b779\"], [0.7777777777777778, \"#6ece58\"], [0.8888888888888888, \"#b5de2b\"], [1.0, \"#fde725\"]], \"type\": \"histogram2d\"}], \"histogram2dcontour\": [{\"colorbar\": {\"outlinewidth\": 1, \"tickcolor\": \"rgb(36,36,36)\", \"ticks\": \"outside\"}, \"colorscale\": [[0.0, \"#440154\"], [0.1111111111111111, \"#482878\"], [0.2222222222222222, \"#3e4989\"], [0.3333333333333333, \"#31688e\"], [0.4444444444444444, \"#26828e\"], [0.5555555555555556, \"#1f9e89\"], [0.6666666666666666, \"#35b779\"], [0.7777777777777778, \"#6ece58\"], [0.8888888888888888, \"#b5de2b\"], [1.0, \"#fde725\"]], \"type\": \"histogram2dcontour\"}], \"mesh3d\": [{\"colorbar\": {\"outlinewidth\": 1, \"tickcolor\": \"rgb(36,36,36)\", \"ticks\": \"outside\"}, \"type\": \"mesh3d\"}], \"parcoords\": [{\"line\": {\"colorbar\": {\"outlinewidth\": 1, \"tickcolor\": \"rgb(36,36,36)\", \"ticks\": \"outside\"}}, \"type\": \"parcoords\"}], \"pie\": [{\"automargin\": true, \"type\": \"pie\"}], \"scatter\": [{\"marker\": {\"colorbar\": {\"outlinewidth\": 1, \"tickcolor\": \"rgb(36,36,36)\", \"ticks\": \"outside\"}}, \"type\": \"scatter\"}], \"scatter3d\": [{\"line\": {\"colorbar\": {\"outlinewidth\": 1, \"tickcolor\": \"rgb(36,36,36)\", \"ticks\": \"outside\"}}, \"marker\": {\"colorbar\": {\"outlinewidth\": 1, \"tickcolor\": \"rgb(36,36,36)\", \"ticks\": \"outside\"}}, \"type\": \"scatter3d\"}], \"scattercarpet\": [{\"marker\": {\"colorbar\": {\"outlinewidth\": 1, \"tickcolor\": \"rgb(36,36,36)\", \"ticks\": \"outside\"}}, \"type\": \"scattercarpet\"}], \"scattergeo\": [{\"marker\": {\"colorbar\": {\"outlinewidth\": 1, \"tickcolor\": \"rgb(36,36,36)\", \"ticks\": \"outside\"}}, \"type\": \"scattergeo\"}], \"scattergl\": [{\"marker\": {\"colorbar\": {\"outlinewidth\": 1, \"tickcolor\": \"rgb(36,36,36)\", \"ticks\": \"outside\"}}, \"type\": \"scattergl\"}], \"scattermapbox\": [{\"marker\": {\"colorbar\": {\"outlinewidth\": 1, \"tickcolor\": \"rgb(36,36,36)\", \"ticks\": \"outside\"}}, \"type\": \"scattermapbox\"}], \"scatterpolar\": [{\"marker\": {\"colorbar\": {\"outlinewidth\": 1, \"tickcolor\": \"rgb(36,36,36)\", \"ticks\": \"outside\"}}, \"type\": \"scatterpolar\"}], \"scatterpolargl\": [{\"marker\": {\"colorbar\": {\"outlinewidth\": 1, \"tickcolor\": \"rgb(36,36,36)\", \"ticks\": \"outside\"}}, \"type\": \"scatterpolargl\"}], \"scatterternary\": [{\"marker\": {\"colorbar\": {\"outlinewidth\": 1, \"tickcolor\": \"rgb(36,36,36)\", \"ticks\": \"outside\"}}, \"type\": \"scatterternary\"}], \"surface\": [{\"colorbar\": {\"outlinewidth\": 1, \"tickcolor\": \"rgb(36,36,36)\", \"ticks\": \"outside\"}, \"colorscale\": [[0.0, \"#440154\"], [0.1111111111111111, \"#482878\"], [0.2222222222222222, \"#3e4989\"], [0.3333333333333333, \"#31688e\"], [0.4444444444444444, \"#26828e\"], [0.5555555555555556, \"#1f9e89\"], [0.6666666666666666, \"#35b779\"], [0.7777777777777778, \"#6ece58\"], [0.8888888888888888, \"#b5de2b\"], [1.0, \"#fde725\"]], \"type\": \"surface\"}], \"table\": [{\"cells\": {\"fill\": {\"color\": \"rgb(237,237,237)\"}, \"line\": {\"color\": \"white\"}}, \"header\": {\"fill\": {\"color\": \"rgb(217,217,217)\"}, \"line\": {\"color\": \"white\"}}, \"type\": \"table\"}]}, \"layout\": {\"annotationdefaults\": {\"arrowhead\": 0, \"arrowwidth\": 1}, \"coloraxis\": {\"colorbar\": {\"outlinewidth\": 1, \"tickcolor\": \"rgb(36,36,36)\", \"ticks\": \"outside\"}}, \"colorscale\": {\"diverging\": [[0.0, \"rgb(103,0,31)\"], [0.1, \"rgb(178,24,43)\"], [0.2, \"rgb(214,96,77)\"], [0.3, \"rgb(244,165,130)\"], [0.4, \"rgb(253,219,199)\"], [0.5, \"rgb(247,247,247)\"], [0.6, \"rgb(209,229,240)\"], [0.7, \"rgb(146,197,222)\"], [0.8, \"rgb(67,147,195)\"], [0.9, \"rgb(33,102,172)\"], [1.0, \"rgb(5,48,97)\"]], \"sequential\": [[0.0, \"#440154\"], [0.1111111111111111, \"#482878\"], [0.2222222222222222, \"#3e4989\"], [0.3333333333333333, \"#31688e\"], [0.4444444444444444, \"#26828e\"], [0.5555555555555556, \"#1f9e89\"], [0.6666666666666666, \"#35b779\"], [0.7777777777777778, \"#6ece58\"], [0.8888888888888888, \"#b5de2b\"], [1.0, \"#fde725\"]], \"sequentialminus\": [[0.0, \"#440154\"], [0.1111111111111111, \"#482878\"], [0.2222222222222222, \"#3e4989\"], [0.3333333333333333, \"#31688e\"], [0.4444444444444444, \"#26828e\"], [0.5555555555555556, \"#1f9e89\"], [0.6666666666666666, \"#35b779\"], [0.7777777777777778, \"#6ece58\"], [0.8888888888888888, \"#b5de2b\"], [1.0, \"#fde725\"]]}, \"colorway\": [\"#1F77B4\", \"#FF7F0E\", \"#2CA02C\", \"#D62728\", \"#9467BD\", \"#8C564B\", \"#E377C2\", \"#7F7F7F\", \"#BCBD22\", \"#17BECF\"], \"font\": {\"color\": \"rgb(36,36,36)\"}, \"geo\": {\"bgcolor\": \"white\", \"lakecolor\": \"white\", \"landcolor\": \"white\", \"showlakes\": true, \"showland\": true, \"subunitcolor\": \"white\"}, \"hoverlabel\": {\"align\": \"left\"}, \"hovermode\": \"closest\", \"mapbox\": {\"style\": \"light\"}, \"paper_bgcolor\": \"white\", \"plot_bgcolor\": \"white\", \"polar\": {\"angularaxis\": {\"gridcolor\": \"rgb(232,232,232)\", \"linecolor\": \"rgb(36,36,36)\", \"showgrid\": false, \"showline\": true, \"ticks\": \"outside\"}, \"bgcolor\": \"white\", \"radialaxis\": {\"gridcolor\": \"rgb(232,232,232)\", \"linecolor\": \"rgb(36,36,36)\", \"showgrid\": false, \"showline\": true, \"ticks\": \"outside\"}}, \"scene\": {\"xaxis\": {\"backgroundcolor\": \"white\", \"gridcolor\": \"rgb(232,232,232)\", \"gridwidth\": 2, \"linecolor\": \"rgb(36,36,36)\", \"showbackground\": true, \"showgrid\": false, \"showline\": true, \"ticks\": \"outside\", \"zeroline\": false, \"zerolinecolor\": \"rgb(36,36,36)\"}, \"yaxis\": {\"backgroundcolor\": \"white\", \"gridcolor\": \"rgb(232,232,232)\", \"gridwidth\": 2, \"linecolor\": \"rgb(36,36,36)\", \"showbackground\": true, \"showgrid\": false, \"showline\": true, \"ticks\": \"outside\", \"zeroline\": false, \"zerolinecolor\": \"rgb(36,36,36)\"}, \"zaxis\": {\"backgroundcolor\": \"white\", \"gridcolor\": \"rgb(232,232,232)\", \"gridwidth\": 2, \"linecolor\": \"rgb(36,36,36)\", \"showbackground\": true, \"showgrid\": false, \"showline\": true, \"ticks\": \"outside\", \"zeroline\": false, \"zerolinecolor\": \"rgb(36,36,36)\"}}, \"shapedefaults\": {\"fillcolor\": \"black\", \"line\": {\"width\": 0}, \"opacity\": 0.3}, \"ternary\": {\"aaxis\": {\"gridcolor\": \"rgb(232,232,232)\", \"linecolor\": \"rgb(36,36,36)\", \"showgrid\": false, \"showline\": true, \"ticks\": \"outside\"}, \"baxis\": {\"gridcolor\": \"rgb(232,232,232)\", \"linecolor\": \"rgb(36,36,36)\", \"showgrid\": false, \"showline\": true, \"ticks\": \"outside\"}, \"bgcolor\": \"white\", \"caxis\": {\"gridcolor\": \"rgb(232,232,232)\", \"linecolor\": \"rgb(36,36,36)\", \"showgrid\": false, \"showline\": true, \"ticks\": \"outside\"}}, \"title\": {\"x\": 0.05}, \"xaxis\": {\"automargin\": true, \"gridcolor\": \"rgb(232,232,232)\", \"linecolor\": \"rgb(36,36,36)\", \"showgrid\": false, \"showline\": true, \"ticks\": \"outside\", \"title\": {\"standoff\": 15}, \"zeroline\": false, \"zerolinecolor\": \"rgb(36,36,36)\"}, \"yaxis\": {\"automargin\": true, \"gridcolor\": \"rgb(232,232,232)\", \"linecolor\": \"rgb(36,36,36)\", \"showgrid\": false, \"showline\": true, \"ticks\": \"outside\", \"title\": {\"standoff\": 15}, \"zeroline\": false, \"zerolinecolor\": \"rgb(36,36,36)\"}}}, \"title\": {\"text\": \"Buisness Intelligence Polling - Candidate Favourability (18-29 Age Group)\"}, \"xaxis\": {\"title\": {\"text\": \"Date\"}}, \"yaxis\": {\"range\": [0, 0.6], \"tickformat\": \",.0%\", \"title\": {\"text\": \"Polling Average\"}}},\n",
       "                        {\"responsive\": true}\n",
       "                    ).then(function(){\n",
       "                            \n",
       "var gd = document.getElementById('4bc5b5b9-995d-4eed-98fb-7cbc76684f8a');\n",
       "var x = new MutationObserver(function (mutations, observer) {{\n",
       "        var display = window.getComputedStyle(gd).display;\n",
       "        if (!display || display === 'none') {{\n",
       "            console.log([gd, 'removed!']);\n",
       "            Plotly.purge(gd);\n",
       "            observer.disconnect();\n",
       "        }}\n",
       "}});\n",
       "\n",
       "// Listen for the removal of the full notebook cells\n",
       "var notebookContainer = gd.closest('#notebook-container');\n",
       "if (notebookContainer) {{\n",
       "    x.observe(notebookContainer, {childList: true});\n",
       "}}\n",
       "\n",
       "// Listen for the clearing of the current output cell\n",
       "var outputEl = gd.closest('.output');\n",
       "if (outputEl) {{\n",
       "    x.observe(outputEl, {childList: true});\n",
       "}}\n",
       "\n",
       "                        })\n",
       "                };\n",
       "                });\n",
       "            </script>\n",
       "        </div>"
      ]
     },
     "metadata": {},
     "output_type": "display_data"
    }
   ],
   "source": [
    "fig = go.Figure()\n",
    "for cand,col in zip(pretty_names,concat_col_names):\n",
    "    fig.add_trace(go.Scatter(x=young_voters_agg[\"date\"],\n",
    "                             y=young_voters_agg[col], \n",
    "                             mode='lines',\n",
    "                             line_shape=\"spline\",\n",
    "                             name=cand,\n",
    "                             line=dict(color=poll_mapping[cand])\n",
    "                            ))\n",
    "\n",
    "    # Add figure title\n",
    "fig.update_layout(\n",
    "    title_text=\"Buisness Intelligence Polling - Candidate Favourability (18-29 Age Group)\",\n",
    "    template=\"simple_white\",\n",
    "    yaxis=dict(tickformat=',.0%',range=[0,0.6]),\n",
    "    font=dict(size=17)\n",
    "\n",
    ")\n",
    "\n",
    "fig.update_xaxes(title_text=\"Date\")\n",
    "fig.update_yaxes(title_text=\"Polling Average\")\n",
    "\n",
    "# fig.write_html(\"visualizations/BI_polling_average-YOUNG.html\")\n",
    "fig.show()"
   ]
  },
  {
   "cell_type": "markdown",
   "metadata": {},
   "source": [
    "### Poller Age Distribution"
   ]
  },
  {
   "cell_type": "code",
   "execution_count": 26,
   "metadata": {},
   "outputs": [
    {
     "data": {
      "application/vnd.plotly.v1+json": {
       "config": {
        "plotlyServerURL": "https://plot.ly"
       },
       "data": [
        {
         "domain": {
          "x": [
           0,
           1
          ],
          "y": [
           0,
           1
          ]
         },
         "hovertemplate": "age=%{label}<br>0=%{value}<extra></extra>",
         "labels": [
          "18-29",
          "30-44",
          "45-60",
          "> 60"
         ],
         "legendgroup": "",
         "name": "",
         "showlegend": true,
         "textinfo": "percent+label",
         "textposition": "inside",
         "type": "pie",
         "values": [
          11101,
          8091,
          13392,
          6606
         ]
        }
       ],
       "layout": {
        "legend": {
         "tracegroupgap": 0
        },
        "template": {
         "data": {
          "bar": [
           {
            "error_x": {
             "color": "#2a3f5f"
            },
            "error_y": {
             "color": "#2a3f5f"
            },
            "marker": {
             "line": {
              "color": "#E5ECF6",
              "width": 0.5
             }
            },
            "type": "bar"
           }
          ],
          "barpolar": [
           {
            "marker": {
             "line": {
              "color": "#E5ECF6",
              "width": 0.5
             }
            },
            "type": "barpolar"
           }
          ],
          "carpet": [
           {
            "aaxis": {
             "endlinecolor": "#2a3f5f",
             "gridcolor": "white",
             "linecolor": "white",
             "minorgridcolor": "white",
             "startlinecolor": "#2a3f5f"
            },
            "baxis": {
             "endlinecolor": "#2a3f5f",
             "gridcolor": "white",
             "linecolor": "white",
             "minorgridcolor": "white",
             "startlinecolor": "#2a3f5f"
            },
            "type": "carpet"
           }
          ],
          "choropleth": [
           {
            "colorbar": {
             "outlinewidth": 0,
             "ticks": ""
            },
            "type": "choropleth"
           }
          ],
          "contour": [
           {
            "colorbar": {
             "outlinewidth": 0,
             "ticks": ""
            },
            "colorscale": [
             [
              0,
              "#0d0887"
             ],
             [
              0.1111111111111111,
              "#46039f"
             ],
             [
              0.2222222222222222,
              "#7201a8"
             ],
             [
              0.3333333333333333,
              "#9c179e"
             ],
             [
              0.4444444444444444,
              "#bd3786"
             ],
             [
              0.5555555555555556,
              "#d8576b"
             ],
             [
              0.6666666666666666,
              "#ed7953"
             ],
             [
              0.7777777777777778,
              "#fb9f3a"
             ],
             [
              0.8888888888888888,
              "#fdca26"
             ],
             [
              1,
              "#f0f921"
             ]
            ],
            "type": "contour"
           }
          ],
          "contourcarpet": [
           {
            "colorbar": {
             "outlinewidth": 0,
             "ticks": ""
            },
            "type": "contourcarpet"
           }
          ],
          "heatmap": [
           {
            "colorbar": {
             "outlinewidth": 0,
             "ticks": ""
            },
            "colorscale": [
             [
              0,
              "#0d0887"
             ],
             [
              0.1111111111111111,
              "#46039f"
             ],
             [
              0.2222222222222222,
              "#7201a8"
             ],
             [
              0.3333333333333333,
              "#9c179e"
             ],
             [
              0.4444444444444444,
              "#bd3786"
             ],
             [
              0.5555555555555556,
              "#d8576b"
             ],
             [
              0.6666666666666666,
              "#ed7953"
             ],
             [
              0.7777777777777778,
              "#fb9f3a"
             ],
             [
              0.8888888888888888,
              "#fdca26"
             ],
             [
              1,
              "#f0f921"
             ]
            ],
            "type": "heatmap"
           }
          ],
          "heatmapgl": [
           {
            "colorbar": {
             "outlinewidth": 0,
             "ticks": ""
            },
            "colorscale": [
             [
              0,
              "#0d0887"
             ],
             [
              0.1111111111111111,
              "#46039f"
             ],
             [
              0.2222222222222222,
              "#7201a8"
             ],
             [
              0.3333333333333333,
              "#9c179e"
             ],
             [
              0.4444444444444444,
              "#bd3786"
             ],
             [
              0.5555555555555556,
              "#d8576b"
             ],
             [
              0.6666666666666666,
              "#ed7953"
             ],
             [
              0.7777777777777778,
              "#fb9f3a"
             ],
             [
              0.8888888888888888,
              "#fdca26"
             ],
             [
              1,
              "#f0f921"
             ]
            ],
            "type": "heatmapgl"
           }
          ],
          "histogram": [
           {
            "marker": {
             "colorbar": {
              "outlinewidth": 0,
              "ticks": ""
             }
            },
            "type": "histogram"
           }
          ],
          "histogram2d": [
           {
            "colorbar": {
             "outlinewidth": 0,
             "ticks": ""
            },
            "colorscale": [
             [
              0,
              "#0d0887"
             ],
             [
              0.1111111111111111,
              "#46039f"
             ],
             [
              0.2222222222222222,
              "#7201a8"
             ],
             [
              0.3333333333333333,
              "#9c179e"
             ],
             [
              0.4444444444444444,
              "#bd3786"
             ],
             [
              0.5555555555555556,
              "#d8576b"
             ],
             [
              0.6666666666666666,
              "#ed7953"
             ],
             [
              0.7777777777777778,
              "#fb9f3a"
             ],
             [
              0.8888888888888888,
              "#fdca26"
             ],
             [
              1,
              "#f0f921"
             ]
            ],
            "type": "histogram2d"
           }
          ],
          "histogram2dcontour": [
           {
            "colorbar": {
             "outlinewidth": 0,
             "ticks": ""
            },
            "colorscale": [
             [
              0,
              "#0d0887"
             ],
             [
              0.1111111111111111,
              "#46039f"
             ],
             [
              0.2222222222222222,
              "#7201a8"
             ],
             [
              0.3333333333333333,
              "#9c179e"
             ],
             [
              0.4444444444444444,
              "#bd3786"
             ],
             [
              0.5555555555555556,
              "#d8576b"
             ],
             [
              0.6666666666666666,
              "#ed7953"
             ],
             [
              0.7777777777777778,
              "#fb9f3a"
             ],
             [
              0.8888888888888888,
              "#fdca26"
             ],
             [
              1,
              "#f0f921"
             ]
            ],
            "type": "histogram2dcontour"
           }
          ],
          "mesh3d": [
           {
            "colorbar": {
             "outlinewidth": 0,
             "ticks": ""
            },
            "type": "mesh3d"
           }
          ],
          "parcoords": [
           {
            "line": {
             "colorbar": {
              "outlinewidth": 0,
              "ticks": ""
             }
            },
            "type": "parcoords"
           }
          ],
          "pie": [
           {
            "automargin": true,
            "type": "pie"
           }
          ],
          "scatter": [
           {
            "marker": {
             "colorbar": {
              "outlinewidth": 0,
              "ticks": ""
             }
            },
            "type": "scatter"
           }
          ],
          "scatter3d": [
           {
            "line": {
             "colorbar": {
              "outlinewidth": 0,
              "ticks": ""
             }
            },
            "marker": {
             "colorbar": {
              "outlinewidth": 0,
              "ticks": ""
             }
            },
            "type": "scatter3d"
           }
          ],
          "scattercarpet": [
           {
            "marker": {
             "colorbar": {
              "outlinewidth": 0,
              "ticks": ""
             }
            },
            "type": "scattercarpet"
           }
          ],
          "scattergeo": [
           {
            "marker": {
             "colorbar": {
              "outlinewidth": 0,
              "ticks": ""
             }
            },
            "type": "scattergeo"
           }
          ],
          "scattergl": [
           {
            "marker": {
             "colorbar": {
              "outlinewidth": 0,
              "ticks": ""
             }
            },
            "type": "scattergl"
           }
          ],
          "scattermapbox": [
           {
            "marker": {
             "colorbar": {
              "outlinewidth": 0,
              "ticks": ""
             }
            },
            "type": "scattermapbox"
           }
          ],
          "scatterpolar": [
           {
            "marker": {
             "colorbar": {
              "outlinewidth": 0,
              "ticks": ""
             }
            },
            "type": "scatterpolar"
           }
          ],
          "scatterpolargl": [
           {
            "marker": {
             "colorbar": {
              "outlinewidth": 0,
              "ticks": ""
             }
            },
            "type": "scatterpolargl"
           }
          ],
          "scatterternary": [
           {
            "marker": {
             "colorbar": {
              "outlinewidth": 0,
              "ticks": ""
             }
            },
            "type": "scatterternary"
           }
          ],
          "surface": [
           {
            "colorbar": {
             "outlinewidth": 0,
             "ticks": ""
            },
            "colorscale": [
             [
              0,
              "#0d0887"
             ],
             [
              0.1111111111111111,
              "#46039f"
             ],
             [
              0.2222222222222222,
              "#7201a8"
             ],
             [
              0.3333333333333333,
              "#9c179e"
             ],
             [
              0.4444444444444444,
              "#bd3786"
             ],
             [
              0.5555555555555556,
              "#d8576b"
             ],
             [
              0.6666666666666666,
              "#ed7953"
             ],
             [
              0.7777777777777778,
              "#fb9f3a"
             ],
             [
              0.8888888888888888,
              "#fdca26"
             ],
             [
              1,
              "#f0f921"
             ]
            ],
            "type": "surface"
           }
          ],
          "table": [
           {
            "cells": {
             "fill": {
              "color": "#EBF0F8"
             },
             "line": {
              "color": "white"
             }
            },
            "header": {
             "fill": {
              "color": "#C8D4E3"
             },
             "line": {
              "color": "white"
             }
            },
            "type": "table"
           }
          ]
         },
         "layout": {
          "annotationdefaults": {
           "arrowcolor": "#2a3f5f",
           "arrowhead": 0,
           "arrowwidth": 1
          },
          "coloraxis": {
           "colorbar": {
            "outlinewidth": 0,
            "ticks": ""
           }
          },
          "colorscale": {
           "diverging": [
            [
             0,
             "#8e0152"
            ],
            [
             0.1,
             "#c51b7d"
            ],
            [
             0.2,
             "#de77ae"
            ],
            [
             0.3,
             "#f1b6da"
            ],
            [
             0.4,
             "#fde0ef"
            ],
            [
             0.5,
             "#f7f7f7"
            ],
            [
             0.6,
             "#e6f5d0"
            ],
            [
             0.7,
             "#b8e186"
            ],
            [
             0.8,
             "#7fbc41"
            ],
            [
             0.9,
             "#4d9221"
            ],
            [
             1,
             "#276419"
            ]
           ],
           "sequential": [
            [
             0,
             "#0d0887"
            ],
            [
             0.1111111111111111,
             "#46039f"
            ],
            [
             0.2222222222222222,
             "#7201a8"
            ],
            [
             0.3333333333333333,
             "#9c179e"
            ],
            [
             0.4444444444444444,
             "#bd3786"
            ],
            [
             0.5555555555555556,
             "#d8576b"
            ],
            [
             0.6666666666666666,
             "#ed7953"
            ],
            [
             0.7777777777777778,
             "#fb9f3a"
            ],
            [
             0.8888888888888888,
             "#fdca26"
            ],
            [
             1,
             "#f0f921"
            ]
           ],
           "sequentialminus": [
            [
             0,
             "#0d0887"
            ],
            [
             0.1111111111111111,
             "#46039f"
            ],
            [
             0.2222222222222222,
             "#7201a8"
            ],
            [
             0.3333333333333333,
             "#9c179e"
            ],
            [
             0.4444444444444444,
             "#bd3786"
            ],
            [
             0.5555555555555556,
             "#d8576b"
            ],
            [
             0.6666666666666666,
             "#ed7953"
            ],
            [
             0.7777777777777778,
             "#fb9f3a"
            ],
            [
             0.8888888888888888,
             "#fdca26"
            ],
            [
             1,
             "#f0f921"
            ]
           ]
          },
          "colorway": [
           "#636efa",
           "#EF553B",
           "#00cc96",
           "#ab63fa",
           "#FFA15A",
           "#19d3f3",
           "#FF6692",
           "#B6E880",
           "#FF97FF",
           "#FECB52"
          ],
          "font": {
           "color": "#2a3f5f"
          },
          "geo": {
           "bgcolor": "white",
           "lakecolor": "white",
           "landcolor": "#E5ECF6",
           "showlakes": true,
           "showland": true,
           "subunitcolor": "white"
          },
          "hoverlabel": {
           "align": "left"
          },
          "hovermode": "closest",
          "mapbox": {
           "style": "light"
          },
          "paper_bgcolor": "white",
          "plot_bgcolor": "#E5ECF6",
          "polar": {
           "angularaxis": {
            "gridcolor": "white",
            "linecolor": "white",
            "ticks": ""
           },
           "bgcolor": "#E5ECF6",
           "radialaxis": {
            "gridcolor": "white",
            "linecolor": "white",
            "ticks": ""
           }
          },
          "scene": {
           "xaxis": {
            "backgroundcolor": "#E5ECF6",
            "gridcolor": "white",
            "gridwidth": 2,
            "linecolor": "white",
            "showbackground": true,
            "ticks": "",
            "zerolinecolor": "white"
           },
           "yaxis": {
            "backgroundcolor": "#E5ECF6",
            "gridcolor": "white",
            "gridwidth": 2,
            "linecolor": "white",
            "showbackground": true,
            "ticks": "",
            "zerolinecolor": "white"
           },
           "zaxis": {
            "backgroundcolor": "#E5ECF6",
            "gridcolor": "white",
            "gridwidth": 2,
            "linecolor": "white",
            "showbackground": true,
            "ticks": "",
            "zerolinecolor": "white"
           }
          },
          "shapedefaults": {
           "line": {
            "color": "#2a3f5f"
           }
          },
          "ternary": {
           "aaxis": {
            "gridcolor": "white",
            "linecolor": "white",
            "ticks": ""
           },
           "baxis": {
            "gridcolor": "white",
            "linecolor": "white",
            "ticks": ""
           },
           "bgcolor": "#E5ECF6",
           "caxis": {
            "gridcolor": "white",
            "linecolor": "white",
            "ticks": ""
           }
          },
          "title": {
           "x": 0.05
          },
          "xaxis": {
           "automargin": true,
           "gridcolor": "white",
           "linecolor": "white",
           "ticks": "",
           "title": {
            "standoff": 15
           },
           "zerolinecolor": "white",
           "zerolinewidth": 2
          },
          "yaxis": {
           "automargin": true,
           "gridcolor": "white",
           "linecolor": "white",
           "ticks": "",
           "title": {
            "standoff": 15
           },
           "zerolinecolor": "white",
           "zerolinewidth": 2
          }
         }
        },
        "title": {
         "text": "Buisness Intelligence Poll Age Distribution"
        }
       }
      },
      "text/html": [
       "<div>\n",
       "        \n",
       "        \n",
       "            <div id=\"71ca4456-e32b-4152-a5fb-7802fbb5cb55\" class=\"plotly-graph-div\" style=\"height:525px; width:100%;\"></div>\n",
       "            <script type=\"text/javascript\">\n",
       "                require([\"plotly\"], function(Plotly) {\n",
       "                    window.PLOTLYENV=window.PLOTLYENV || {};\n",
       "                    \n",
       "                if (document.getElementById(\"71ca4456-e32b-4152-a5fb-7802fbb5cb55\")) {\n",
       "                    Plotly.newPlot(\n",
       "                        '71ca4456-e32b-4152-a5fb-7802fbb5cb55',\n",
       "                        [{\"domain\": {\"x\": [0.0, 1.0], \"y\": [0.0, 1.0]}, \"hovertemplate\": \"age=%{label}<br>0=%{value}<extra></extra>\", \"labels\": [\"18-29\", \"30-44\", \"45-60\", \"> 60\"], \"legendgroup\": \"\", \"name\": \"\", \"showlegend\": true, \"textinfo\": \"percent+label\", \"textposition\": \"inside\", \"type\": \"pie\", \"values\": [11101, 8091, 13392, 6606]}],\n",
       "                        {\"legend\": {\"tracegroupgap\": 0}, \"template\": {\"data\": {\"bar\": [{\"error_x\": {\"color\": \"#2a3f5f\"}, \"error_y\": {\"color\": \"#2a3f5f\"}, \"marker\": {\"line\": {\"color\": \"#E5ECF6\", \"width\": 0.5}}, \"type\": \"bar\"}], \"barpolar\": [{\"marker\": {\"line\": {\"color\": \"#E5ECF6\", \"width\": 0.5}}, \"type\": \"barpolar\"}], \"carpet\": [{\"aaxis\": {\"endlinecolor\": \"#2a3f5f\", \"gridcolor\": \"white\", \"linecolor\": \"white\", \"minorgridcolor\": \"white\", \"startlinecolor\": \"#2a3f5f\"}, \"baxis\": {\"endlinecolor\": \"#2a3f5f\", \"gridcolor\": \"white\", \"linecolor\": \"white\", \"minorgridcolor\": \"white\", \"startlinecolor\": \"#2a3f5f\"}, \"type\": \"carpet\"}], \"choropleth\": [{\"colorbar\": {\"outlinewidth\": 0, \"ticks\": \"\"}, \"type\": \"choropleth\"}], \"contour\": [{\"colorbar\": {\"outlinewidth\": 0, \"ticks\": \"\"}, \"colorscale\": [[0.0, \"#0d0887\"], [0.1111111111111111, \"#46039f\"], [0.2222222222222222, \"#7201a8\"], [0.3333333333333333, \"#9c179e\"], [0.4444444444444444, \"#bd3786\"], [0.5555555555555556, \"#d8576b\"], [0.6666666666666666, \"#ed7953\"], [0.7777777777777778, \"#fb9f3a\"], [0.8888888888888888, \"#fdca26\"], [1.0, \"#f0f921\"]], \"type\": \"contour\"}], \"contourcarpet\": [{\"colorbar\": {\"outlinewidth\": 0, \"ticks\": \"\"}, \"type\": \"contourcarpet\"}], \"heatmap\": [{\"colorbar\": {\"outlinewidth\": 0, \"ticks\": \"\"}, \"colorscale\": [[0.0, \"#0d0887\"], [0.1111111111111111, \"#46039f\"], [0.2222222222222222, \"#7201a8\"], [0.3333333333333333, \"#9c179e\"], [0.4444444444444444, \"#bd3786\"], [0.5555555555555556, \"#d8576b\"], [0.6666666666666666, \"#ed7953\"], [0.7777777777777778, \"#fb9f3a\"], [0.8888888888888888, \"#fdca26\"], [1.0, \"#f0f921\"]], \"type\": \"heatmap\"}], \"heatmapgl\": [{\"colorbar\": {\"outlinewidth\": 0, \"ticks\": \"\"}, \"colorscale\": [[0.0, \"#0d0887\"], [0.1111111111111111, \"#46039f\"], [0.2222222222222222, \"#7201a8\"], [0.3333333333333333, \"#9c179e\"], [0.4444444444444444, \"#bd3786\"], [0.5555555555555556, \"#d8576b\"], [0.6666666666666666, \"#ed7953\"], [0.7777777777777778, \"#fb9f3a\"], [0.8888888888888888, \"#fdca26\"], [1.0, \"#f0f921\"]], \"type\": \"heatmapgl\"}], \"histogram\": [{\"marker\": {\"colorbar\": {\"outlinewidth\": 0, \"ticks\": \"\"}}, \"type\": \"histogram\"}], \"histogram2d\": [{\"colorbar\": {\"outlinewidth\": 0, \"ticks\": \"\"}, \"colorscale\": [[0.0, \"#0d0887\"], [0.1111111111111111, \"#46039f\"], [0.2222222222222222, \"#7201a8\"], [0.3333333333333333, \"#9c179e\"], [0.4444444444444444, \"#bd3786\"], [0.5555555555555556, \"#d8576b\"], [0.6666666666666666, \"#ed7953\"], [0.7777777777777778, \"#fb9f3a\"], [0.8888888888888888, \"#fdca26\"], [1.0, \"#f0f921\"]], \"type\": \"histogram2d\"}], \"histogram2dcontour\": [{\"colorbar\": {\"outlinewidth\": 0, \"ticks\": \"\"}, \"colorscale\": [[0.0, \"#0d0887\"], [0.1111111111111111, \"#46039f\"], [0.2222222222222222, \"#7201a8\"], [0.3333333333333333, \"#9c179e\"], [0.4444444444444444, \"#bd3786\"], [0.5555555555555556, \"#d8576b\"], [0.6666666666666666, \"#ed7953\"], [0.7777777777777778, \"#fb9f3a\"], [0.8888888888888888, \"#fdca26\"], [1.0, \"#f0f921\"]], \"type\": \"histogram2dcontour\"}], \"mesh3d\": [{\"colorbar\": {\"outlinewidth\": 0, \"ticks\": \"\"}, \"type\": \"mesh3d\"}], \"parcoords\": [{\"line\": {\"colorbar\": {\"outlinewidth\": 0, \"ticks\": \"\"}}, \"type\": \"parcoords\"}], \"pie\": [{\"automargin\": true, \"type\": \"pie\"}], \"scatter\": [{\"marker\": {\"colorbar\": {\"outlinewidth\": 0, \"ticks\": \"\"}}, \"type\": \"scatter\"}], \"scatter3d\": [{\"line\": {\"colorbar\": {\"outlinewidth\": 0, \"ticks\": \"\"}}, \"marker\": {\"colorbar\": {\"outlinewidth\": 0, \"ticks\": \"\"}}, \"type\": \"scatter3d\"}], \"scattercarpet\": [{\"marker\": {\"colorbar\": {\"outlinewidth\": 0, \"ticks\": \"\"}}, \"type\": \"scattercarpet\"}], \"scattergeo\": [{\"marker\": {\"colorbar\": {\"outlinewidth\": 0, \"ticks\": \"\"}}, \"type\": \"scattergeo\"}], \"scattergl\": [{\"marker\": {\"colorbar\": {\"outlinewidth\": 0, \"ticks\": \"\"}}, \"type\": \"scattergl\"}], \"scattermapbox\": [{\"marker\": {\"colorbar\": {\"outlinewidth\": 0, \"ticks\": \"\"}}, \"type\": \"scattermapbox\"}], \"scatterpolar\": [{\"marker\": {\"colorbar\": {\"outlinewidth\": 0, \"ticks\": \"\"}}, \"type\": \"scatterpolar\"}], \"scatterpolargl\": [{\"marker\": {\"colorbar\": {\"outlinewidth\": 0, \"ticks\": \"\"}}, \"type\": \"scatterpolargl\"}], \"scatterternary\": [{\"marker\": {\"colorbar\": {\"outlinewidth\": 0, \"ticks\": \"\"}}, \"type\": \"scatterternary\"}], \"surface\": [{\"colorbar\": {\"outlinewidth\": 0, \"ticks\": \"\"}, \"colorscale\": [[0.0, \"#0d0887\"], [0.1111111111111111, \"#46039f\"], [0.2222222222222222, \"#7201a8\"], [0.3333333333333333, \"#9c179e\"], [0.4444444444444444, \"#bd3786\"], [0.5555555555555556, \"#d8576b\"], [0.6666666666666666, \"#ed7953\"], [0.7777777777777778, \"#fb9f3a\"], [0.8888888888888888, \"#fdca26\"], [1.0, \"#f0f921\"]], \"type\": \"surface\"}], \"table\": [{\"cells\": {\"fill\": {\"color\": \"#EBF0F8\"}, \"line\": {\"color\": \"white\"}}, \"header\": {\"fill\": {\"color\": \"#C8D4E3\"}, \"line\": {\"color\": \"white\"}}, \"type\": \"table\"}]}, \"layout\": {\"annotationdefaults\": {\"arrowcolor\": \"#2a3f5f\", \"arrowhead\": 0, \"arrowwidth\": 1}, \"coloraxis\": {\"colorbar\": {\"outlinewidth\": 0, \"ticks\": \"\"}}, \"colorscale\": {\"diverging\": [[0, \"#8e0152\"], [0.1, \"#c51b7d\"], [0.2, \"#de77ae\"], [0.3, \"#f1b6da\"], [0.4, \"#fde0ef\"], [0.5, \"#f7f7f7\"], [0.6, \"#e6f5d0\"], [0.7, \"#b8e186\"], [0.8, \"#7fbc41\"], [0.9, \"#4d9221\"], [1, \"#276419\"]], \"sequential\": [[0.0, \"#0d0887\"], [0.1111111111111111, \"#46039f\"], [0.2222222222222222, \"#7201a8\"], [0.3333333333333333, \"#9c179e\"], [0.4444444444444444, \"#bd3786\"], [0.5555555555555556, \"#d8576b\"], [0.6666666666666666, \"#ed7953\"], [0.7777777777777778, \"#fb9f3a\"], [0.8888888888888888, \"#fdca26\"], [1.0, \"#f0f921\"]], \"sequentialminus\": [[0.0, \"#0d0887\"], [0.1111111111111111, \"#46039f\"], [0.2222222222222222, \"#7201a8\"], [0.3333333333333333, \"#9c179e\"], [0.4444444444444444, \"#bd3786\"], [0.5555555555555556, \"#d8576b\"], [0.6666666666666666, \"#ed7953\"], [0.7777777777777778, \"#fb9f3a\"], [0.8888888888888888, \"#fdca26\"], [1.0, \"#f0f921\"]]}, \"colorway\": [\"#636efa\", \"#EF553B\", \"#00cc96\", \"#ab63fa\", \"#FFA15A\", \"#19d3f3\", \"#FF6692\", \"#B6E880\", \"#FF97FF\", \"#FECB52\"], \"font\": {\"color\": \"#2a3f5f\"}, \"geo\": {\"bgcolor\": \"white\", \"lakecolor\": \"white\", \"landcolor\": \"#E5ECF6\", \"showlakes\": true, \"showland\": true, \"subunitcolor\": \"white\"}, \"hoverlabel\": {\"align\": \"left\"}, \"hovermode\": \"closest\", \"mapbox\": {\"style\": \"light\"}, \"paper_bgcolor\": \"white\", \"plot_bgcolor\": \"#E5ECF6\", \"polar\": {\"angularaxis\": {\"gridcolor\": \"white\", \"linecolor\": \"white\", \"ticks\": \"\"}, \"bgcolor\": \"#E5ECF6\", \"radialaxis\": {\"gridcolor\": \"white\", \"linecolor\": \"white\", \"ticks\": \"\"}}, \"scene\": {\"xaxis\": {\"backgroundcolor\": \"#E5ECF6\", \"gridcolor\": \"white\", \"gridwidth\": 2, \"linecolor\": \"white\", \"showbackground\": true, \"ticks\": \"\", \"zerolinecolor\": \"white\"}, \"yaxis\": {\"backgroundcolor\": \"#E5ECF6\", \"gridcolor\": \"white\", \"gridwidth\": 2, \"linecolor\": \"white\", \"showbackground\": true, \"ticks\": \"\", \"zerolinecolor\": \"white\"}, \"zaxis\": {\"backgroundcolor\": \"#E5ECF6\", \"gridcolor\": \"white\", \"gridwidth\": 2, \"linecolor\": \"white\", \"showbackground\": true, \"ticks\": \"\", \"zerolinecolor\": \"white\"}}, \"shapedefaults\": {\"line\": {\"color\": \"#2a3f5f\"}}, \"ternary\": {\"aaxis\": {\"gridcolor\": \"white\", \"linecolor\": \"white\", \"ticks\": \"\"}, \"baxis\": {\"gridcolor\": \"white\", \"linecolor\": \"white\", \"ticks\": \"\"}, \"bgcolor\": \"#E5ECF6\", \"caxis\": {\"gridcolor\": \"white\", \"linecolor\": \"white\", \"ticks\": \"\"}}, \"title\": {\"x\": 0.05}, \"xaxis\": {\"automargin\": true, \"gridcolor\": \"white\", \"linecolor\": \"white\", \"ticks\": \"\", \"title\": {\"standoff\": 15}, \"zerolinecolor\": \"white\", \"zerolinewidth\": 2}, \"yaxis\": {\"automargin\": true, \"gridcolor\": \"white\", \"linecolor\": \"white\", \"ticks\": \"\", \"title\": {\"standoff\": 15}, \"zerolinecolor\": \"white\", \"zerolinewidth\": 2}}}, \"title\": {\"text\": \"Buisness Intelligence Poll Age Distribution\"}},\n",
       "                        {\"responsive\": true}\n",
       "                    ).then(function(){\n",
       "                            \n",
       "var gd = document.getElementById('71ca4456-e32b-4152-a5fb-7802fbb5cb55');\n",
       "var x = new MutationObserver(function (mutations, observer) {{\n",
       "        var display = window.getComputedStyle(gd).display;\n",
       "        if (!display || display === 'none') {{\n",
       "            console.log([gd, 'removed!']);\n",
       "            Plotly.purge(gd);\n",
       "            observer.disconnect();\n",
       "        }}\n",
       "}});\n",
       "\n",
       "// Listen for the removal of the full notebook cells\n",
       "var notebookContainer = gd.closest('#notebook-container');\n",
       "if (notebookContainer) {{\n",
       "    x.observe(notebookContainer, {childList: true});\n",
       "}}\n",
       "\n",
       "// Listen for the clearing of the current output cell\n",
       "var outputEl = gd.closest('.output');\n",
       "if (outputEl) {{\n",
       "    x.observe(outputEl, {childList: true});\n",
       "}}\n",
       "\n",
       "                        })\n",
       "                };\n",
       "                });\n",
       "            </script>\n",
       "        </div>"
      ]
     },
     "metadata": {},
     "output_type": "display_data"
    }
   ],
   "source": [
    "age_dist = bi_poll.groupby(\"age\").size().reset_index()\n",
    "\n",
    "fig = px.pie(age_dist, values=0, names='age', title='Buisness Intelligence Poll Age Distribution')\n",
    "fig.update_traces(textposition='inside', textinfo='percent+label')\n",
    "# fig.write_html(\"visualizations/BI_polling_age_dist.html\")\n",
    "fig.show()"
   ]
  },
  {
   "cell_type": "markdown",
   "metadata": {},
   "source": [
    "## Comments over time"
   ]
  },
  {
   "cell_type": "code",
   "execution_count": 27,
   "metadata": {
    "scrolled": false
   },
   "outputs": [
    {
     "name": "stderr",
     "output_type": "stream",
     "text": [
      "/h/224/cameron/miniconda3/envs/pyspark_env/lib/python3.7/site-packages/ipykernel_launcher.py:2: FutureWarning:\n",
      "\n",
      "Columnar iteration over characters will be deprecated in future releases.\n",
      "\n"
     ]
    },
    {
     "data": {
      "text/html": [
       "<div>\n",
       "<style scoped>\n",
       "    .dataframe tbody tr th:only-of-type {\n",
       "        vertical-align: middle;\n",
       "    }\n",
       "\n",
       "    .dataframe tbody tr th {\n",
       "        vertical-align: top;\n",
       "    }\n",
       "\n",
       "    .dataframe thead th {\n",
       "        text-align: right;\n",
       "    }\n",
       "</style>\n",
       "<table border=\"1\" class=\"dataframe\">\n",
       "  <thead>\n",
       "    <tr style=\"text-align: right;\">\n",
       "      <th></th>\n",
       "      <th>date</th>\n",
       "      <th>subreddit</th>\n",
       "      <th>count</th>\n",
       "    </tr>\n",
       "  </thead>\n",
       "  <tbody>\n",
       "    <tr>\n",
       "      <th>19</th>\n",
       "      <td>2019-01-01</td>\n",
       "      <td>SandersForPresident</td>\n",
       "      <td>22016</td>\n",
       "    </tr>\n",
       "    <tr>\n",
       "      <th>20</th>\n",
       "      <td>2019-01-01</td>\n",
       "      <td>BaemyKlobaechar</td>\n",
       "      <td>101</td>\n",
       "    </tr>\n",
       "    <tr>\n",
       "      <th>18</th>\n",
       "      <td>2019-01-01</td>\n",
       "      <td>The_Donald</td>\n",
       "      <td>968642</td>\n",
       "    </tr>\n",
       "    <tr>\n",
       "      <th>17</th>\n",
       "      <td>2019-01-01</td>\n",
       "      <td>ElizabethWarren</td>\n",
       "      <td>454</td>\n",
       "    </tr>\n",
       "    <tr>\n",
       "      <th>16</th>\n",
       "      <td>2019-01-01</td>\n",
       "      <td>YangForPresidentHQ</td>\n",
       "      <td>95</td>\n",
       "    </tr>\n",
       "    <tr>\n",
       "      <th>...</th>\n",
       "      <td>...</td>\n",
       "      <td>...</td>\n",
       "      <td>...</td>\n",
       "    </tr>\n",
       "    <tr>\n",
       "      <th>61</th>\n",
       "      <td>2019-12-01</td>\n",
       "      <td>SandersForPresident</td>\n",
       "      <td>90414</td>\n",
       "    </tr>\n",
       "    <tr>\n",
       "      <th>60</th>\n",
       "      <td>2019-12-01</td>\n",
       "      <td>The_Donald</td>\n",
       "      <td>698631</td>\n",
       "    </tr>\n",
       "    <tr>\n",
       "      <th>59</th>\n",
       "      <td>2019-12-01</td>\n",
       "      <td>ElizabethWarren</td>\n",
       "      <td>11451</td>\n",
       "    </tr>\n",
       "    <tr>\n",
       "      <th>58</th>\n",
       "      <td>2019-12-01</td>\n",
       "      <td>YangForPresidentHQ</td>\n",
       "      <td>225756</td>\n",
       "    </tr>\n",
       "    <tr>\n",
       "      <th>57</th>\n",
       "      <td>2019-12-01</td>\n",
       "      <td>Pete_Buttigieg</td>\n",
       "      <td>73831</td>\n",
       "    </tr>\n",
       "  </tbody>\n",
       "</table>\n",
       "<p>84 rows × 3 columns</p>\n",
       "</div>"
      ],
      "text/plain": [
       "         date            subreddit   count\n",
       "19 2019-01-01  SandersForPresident   22016\n",
       "20 2019-01-01      BaemyKlobaechar     101\n",
       "18 2019-01-01           The_Donald  968642\n",
       "17 2019-01-01      ElizabethWarren     454\n",
       "16 2019-01-01   YangForPresidentHQ      95\n",
       "..        ...                  ...     ...\n",
       "61 2019-12-01  SandersForPresident   90414\n",
       "60 2019-12-01           The_Donald  698631\n",
       "59 2019-12-01      ElizabethWarren   11451\n",
       "58 2019-12-01   YangForPresidentHQ  225756\n",
       "57 2019-12-01       Pete_Buttigieg   73831\n",
       "\n",
       "[84 rows x 3 columns]"
      ]
     },
     "execution_count": 27,
     "metadata": {},
     "output_type": "execute_result"
    }
   ],
   "source": [
    "subreddit_comments = pd.read_csv(\"/h/224/cameron/Political-Subreddit-Embedding/temp/temporal/{}_wv.txt\".format(TIME_FRAME),header=None,sep=' ')\n",
    "subreddit_comments[0], subreddit_comments[\"date\"] = subreddit_comments[0].apply(lambda x: parse_tup(x,date_str=\"%d/%m/%Y\")).str\n",
    "subreddit_comments = subreddit_comments.rename({0:\"subreddit\",1:\"count\"},axis=1)\n",
    "subreddit_comments = subreddit_comments[subreddit_comments[\"subreddit\"].isin(left_candidates) | subreddit_comments[\"subreddit\"].isin(right_candidates)].reset_index(drop=True)\n",
    "idx = pd.MultiIndex.from_product([subreddit_comments['date'].unique(), subreddit_comments['subreddit'].unique()],\n",
    "                                 names=['date', 'subreddit'])\n",
    "\n",
    "# In the case that there isn't a vector for a specific date/subreddit we backfill the vector from the previous\n",
    "subreddit_comments = subreddit_comments.set_index(['date', 'subreddit']).reindex(idx).reset_index().sort_values('date').fillna(1)\n",
    "subreddit_comments"
   ]
  },
  {
   "cell_type": "code",
   "execution_count": 28,
   "metadata": {
    "scrolled": true
   },
   "outputs": [
    {
     "data": {
      "application/vnd.plotly.v1+json": {
       "config": {
        "plotlyServerURL": "https://plot.ly"
       },
       "data": [
        {
         "hovertemplate": "Subreddit=SandersForPresident<br>Date=%{x}<br># Comments=%{y}<extra></extra>",
         "legendgroup": "SandersForPresident",
         "line": {
          "color": "#EF553B",
          "dash": "solid",
          "shape": "spline"
         },
         "mode": "lines",
         "name": "SandersForPresident",
         "orientation": "v",
         "showlegend": true,
         "type": "scatter",
         "x": [
          "2019-01-01T00:00:00",
          "2019-02-01T00:00:00",
          "2019-03-01T00:00:00",
          "2019-04-01T00:00:00",
          "2019-05-01T00:00:00",
          "2019-06-01T00:00:00",
          "2019-07-01T00:00:00",
          "2019-08-01T00:00:00",
          "2019-09-01T00:00:00",
          "2019-10-01T00:00:00",
          "2019-11-01T00:00:00",
          "2019-12-01T00:00:00"
         ],
         "xaxis": "x",
         "y": [
          22016,
          56683,
          67497,
          64758,
          37354,
          71863,
          57860,
          86820,
          79887,
          87907,
          71442,
          90414
         ],
         "yaxis": "y"
        },
        {
         "hovertemplate": "Subreddit=BaemyKlobaechar<br>Date=%{x}<br># Comments=%{y}<extra></extra>",
         "legendgroup": "BaemyKlobaechar",
         "line": {
          "color": "#00CC96",
          "dash": "solid",
          "shape": "spline"
         },
         "mode": "lines",
         "name": "BaemyKlobaechar",
         "orientation": "v",
         "showlegend": true,
         "type": "scatter",
         "x": [
          "2019-01-01T00:00:00",
          "2019-02-01T00:00:00",
          "2019-03-01T00:00:00",
          "2019-04-01T00:00:00",
          "2019-05-01T00:00:00",
          "2019-06-01T00:00:00",
          "2019-07-01T00:00:00",
          "2019-08-01T00:00:00",
          "2019-09-01T00:00:00",
          "2019-10-01T00:00:00",
          "2019-11-01T00:00:00",
          "2019-12-01T00:00:00"
         ],
         "xaxis": "x",
         "y": [
          101,
          239,
          28,
          31,
          13,
          47,
          22,
          107,
          136,
          139,
          82,
          211
         ],
         "yaxis": "y"
        },
        {
         "hovertemplate": "Subreddit=The_Donald<br>Date=%{x}<br># Comments=%{y}<extra></extra>",
         "legendgroup": "The_Donald",
         "line": {
          "color": "#FF6692",
          "dash": "solid",
          "shape": "spline"
         },
         "mode": "lines",
         "name": "The_Donald",
         "orientation": "v",
         "showlegend": true,
         "type": "scatter",
         "x": [
          "2019-01-01T00:00:00",
          "2019-02-01T00:00:00",
          "2019-03-01T00:00:00",
          "2019-04-01T00:00:00",
          "2019-05-01T00:00:00",
          "2019-06-01T00:00:00",
          "2019-07-01T00:00:00",
          "2019-08-01T00:00:00",
          "2019-09-01T00:00:00",
          "2019-10-01T00:00:00",
          "2019-11-01T00:00:00",
          "2019-12-01T00:00:00"
         ],
         "xaxis": "x",
         "y": [
          968642,
          915499,
          895381,
          795051,
          876351,
          915815,
          833560,
          849971,
          720203,
          806676,
          739806,
          698631
         ],
         "yaxis": "y"
        },
        {
         "hovertemplate": "Subreddit=ElizabethWarren<br>Date=%{x}<br># Comments=%{y}<extra></extra>",
         "legendgroup": "ElizabethWarren",
         "line": {
          "color": "#AB63FA",
          "dash": "solid",
          "shape": "spline"
         },
         "mode": "lines",
         "name": "ElizabethWarren",
         "orientation": "v",
         "showlegend": true,
         "type": "scatter",
         "x": [
          "2019-01-01T00:00:00",
          "2019-02-01T00:00:00",
          "2019-03-01T00:00:00",
          "2019-04-01T00:00:00",
          "2019-05-01T00:00:00",
          "2019-06-01T00:00:00",
          "2019-07-01T00:00:00",
          "2019-08-01T00:00:00",
          "2019-09-01T00:00:00",
          "2019-10-01T00:00:00",
          "2019-11-01T00:00:00",
          "2019-12-01T00:00:00"
         ],
         "xaxis": "x",
         "y": [
          454,
          445,
          366,
          1561,
          2921,
          7242,
          7370,
          8759,
          13839,
          19781,
          17708,
          11451
         ],
         "yaxis": "y"
        },
        {
         "hovertemplate": "Subreddit=YangForPresidentHQ<br>Date=%{x}<br># Comments=%{y}<extra></extra>",
         "legendgroup": "YangForPresidentHQ",
         "line": {
          "color": "#19D3F3",
          "dash": "solid",
          "shape": "spline"
         },
         "mode": "lines",
         "name": "YangForPresidentHQ",
         "orientation": "v",
         "showlegend": true,
         "type": "scatter",
         "x": [
          "2019-01-01T00:00:00",
          "2019-02-01T00:00:00",
          "2019-03-01T00:00:00",
          "2019-04-01T00:00:00",
          "2019-05-01T00:00:00",
          "2019-06-01T00:00:00",
          "2019-07-01T00:00:00",
          "2019-08-01T00:00:00",
          "2019-09-01T00:00:00",
          "2019-10-01T00:00:00",
          "2019-11-01T00:00:00",
          "2019-12-01T00:00:00"
         ],
         "xaxis": "x",
         "y": [
          95,
          3138,
          43978,
          53512,
          30442,
          62914,
          79167,
          176906,
          189596,
          165746,
          155684,
          225756
         ],
         "yaxis": "y"
        },
        {
         "hovertemplate": "Subreddit=Pete_Buttigieg<br>Date=%{x}<br># Comments=%{y}<extra></extra>",
         "legendgroup": "Pete_Buttigieg",
         "line": {
          "color": "#FFA15A",
          "dash": "solid",
          "shape": "spline"
         },
         "mode": "lines",
         "name": "Pete_Buttigieg",
         "orientation": "v",
         "showlegend": true,
         "type": "scatter",
         "x": [
          "2019-01-01T00:00:00",
          "2019-02-01T00:00:00",
          "2019-03-01T00:00:00",
          "2019-04-01T00:00:00",
          "2019-05-01T00:00:00",
          "2019-06-01T00:00:00",
          "2019-07-01T00:00:00",
          "2019-08-01T00:00:00",
          "2019-09-01T00:00:00",
          "2019-10-01T00:00:00",
          "2019-11-01T00:00:00",
          "2019-12-01T00:00:00"
         ],
         "xaxis": "x",
         "y": [
          21,
          144,
          12604,
          48305,
          21619,
          27709,
          30785,
          22679,
          24136,
          35638,
          57412,
          73831
         ],
         "yaxis": "y"
        },
        {
         "hovertemplate": "Subreddit=JoeBiden<br>Date=%{x}<br># Comments=%{y}<extra></extra>",
         "legendgroup": "JoeBiden",
         "line": {
          "color": "#636EFA",
          "dash": "solid",
          "shape": "spline"
         },
         "mode": "lines",
         "name": "JoeBiden",
         "orientation": "v",
         "showlegend": true,
         "type": "scatter",
         "x": [
          "2019-01-01T00:00:00",
          "2019-02-01T00:00:00",
          "2019-03-01T00:00:00",
          "2019-04-01T00:00:00",
          "2019-05-01T00:00:00",
          "2019-06-01T00:00:00",
          "2019-07-01T00:00:00",
          "2019-08-01T00:00:00",
          "2019-09-01T00:00:00",
          "2019-10-01T00:00:00",
          "2019-11-01T00:00:00",
          "2019-12-01T00:00:00"
         ],
         "xaxis": "x",
         "y": [
          1,
          11,
          36,
          839,
          1414,
          1531,
          1037,
          1825,
          1912,
          1156,
          1716,
          3825
         ],
         "yaxis": "y"
        }
       ],
       "layout": {
        "annotations": [
         {
          "ay": 20,
          "text": "Yang AMA on /r/politics",
          "x": "2019-02-24",
          "y": 4.505149978319906
         },
         {
          "ay": -55,
          "text": "Sanders AMA on /r/SandersForPresident",
          "x": "2019-06-18",
          "y": 4.477121254719663
         },
         {
          "ay": 40,
          "text": "Buttigieg announces campaign",
          "x": "2019-04-19",
          "y": 4.477121254719663
         },
         {
          "ax": 60,
          "ay": 20,
          "text": "Buttigieg exploratory committee",
          "x": "2019-01-23",
          "y": 1.8573324964312685
         },
         {
          "ax": 100,
          "ay": -10,
          "text": "Klobuchar announces campaign",
          "x": "2019-02-10",
          "y": 2.130333768495006
         },
         {
          "ay": -20,
          "text": "Sanders announces campaign",
          "x": "2019-02-19",
          "y": 4.826074802700826
         },
         {
          "ay": -20,
          "text": "Warren announces campaign",
          "x": "2019-02-09",
          "y": 2.6232492903979003
         }
        ],
        "font": {
         "size": 14
        },
        "legend": {
         "title": {
          "text": "Subreddit"
         },
         "tracegroupgap": 0
        },
        "template": {
         "data": {
          "bar": [
           {
            "error_x": {
             "color": "rgb(36,36,36)"
            },
            "error_y": {
             "color": "rgb(36,36,36)"
            },
            "marker": {
             "line": {
              "color": "white",
              "width": 0.5
             }
            },
            "type": "bar"
           }
          ],
          "barpolar": [
           {
            "marker": {
             "line": {
              "color": "white",
              "width": 0.5
             }
            },
            "type": "barpolar"
           }
          ],
          "carpet": [
           {
            "aaxis": {
             "endlinecolor": "rgb(36,36,36)",
             "gridcolor": "white",
             "linecolor": "white",
             "minorgridcolor": "white",
             "startlinecolor": "rgb(36,36,36)"
            },
            "baxis": {
             "endlinecolor": "rgb(36,36,36)",
             "gridcolor": "white",
             "linecolor": "white",
             "minorgridcolor": "white",
             "startlinecolor": "rgb(36,36,36)"
            },
            "type": "carpet"
           }
          ],
          "choropleth": [
           {
            "colorbar": {
             "outlinewidth": 1,
             "tickcolor": "rgb(36,36,36)",
             "ticks": "outside"
            },
            "type": "choropleth"
           }
          ],
          "contour": [
           {
            "colorbar": {
             "outlinewidth": 1,
             "tickcolor": "rgb(36,36,36)",
             "ticks": "outside"
            },
            "colorscale": [
             [
              0,
              "#440154"
             ],
             [
              0.1111111111111111,
              "#482878"
             ],
             [
              0.2222222222222222,
              "#3e4989"
             ],
             [
              0.3333333333333333,
              "#31688e"
             ],
             [
              0.4444444444444444,
              "#26828e"
             ],
             [
              0.5555555555555556,
              "#1f9e89"
             ],
             [
              0.6666666666666666,
              "#35b779"
             ],
             [
              0.7777777777777778,
              "#6ece58"
             ],
             [
              0.8888888888888888,
              "#b5de2b"
             ],
             [
              1,
              "#fde725"
             ]
            ],
            "type": "contour"
           }
          ],
          "contourcarpet": [
           {
            "colorbar": {
             "outlinewidth": 1,
             "tickcolor": "rgb(36,36,36)",
             "ticks": "outside"
            },
            "type": "contourcarpet"
           }
          ],
          "heatmap": [
           {
            "colorbar": {
             "outlinewidth": 1,
             "tickcolor": "rgb(36,36,36)",
             "ticks": "outside"
            },
            "colorscale": [
             [
              0,
              "#440154"
             ],
             [
              0.1111111111111111,
              "#482878"
             ],
             [
              0.2222222222222222,
              "#3e4989"
             ],
             [
              0.3333333333333333,
              "#31688e"
             ],
             [
              0.4444444444444444,
              "#26828e"
             ],
             [
              0.5555555555555556,
              "#1f9e89"
             ],
             [
              0.6666666666666666,
              "#35b779"
             ],
             [
              0.7777777777777778,
              "#6ece58"
             ],
             [
              0.8888888888888888,
              "#b5de2b"
             ],
             [
              1,
              "#fde725"
             ]
            ],
            "type": "heatmap"
           }
          ],
          "heatmapgl": [
           {
            "colorbar": {
             "outlinewidth": 1,
             "tickcolor": "rgb(36,36,36)",
             "ticks": "outside"
            },
            "colorscale": [
             [
              0,
              "#440154"
             ],
             [
              0.1111111111111111,
              "#482878"
             ],
             [
              0.2222222222222222,
              "#3e4989"
             ],
             [
              0.3333333333333333,
              "#31688e"
             ],
             [
              0.4444444444444444,
              "#26828e"
             ],
             [
              0.5555555555555556,
              "#1f9e89"
             ],
             [
              0.6666666666666666,
              "#35b779"
             ],
             [
              0.7777777777777778,
              "#6ece58"
             ],
             [
              0.8888888888888888,
              "#b5de2b"
             ],
             [
              1,
              "#fde725"
             ]
            ],
            "type": "heatmapgl"
           }
          ],
          "histogram": [
           {
            "marker": {
             "line": {
              "color": "white",
              "width": 0.6
             }
            },
            "type": "histogram"
           }
          ],
          "histogram2d": [
           {
            "colorbar": {
             "outlinewidth": 1,
             "tickcolor": "rgb(36,36,36)",
             "ticks": "outside"
            },
            "colorscale": [
             [
              0,
              "#440154"
             ],
             [
              0.1111111111111111,
              "#482878"
             ],
             [
              0.2222222222222222,
              "#3e4989"
             ],
             [
              0.3333333333333333,
              "#31688e"
             ],
             [
              0.4444444444444444,
              "#26828e"
             ],
             [
              0.5555555555555556,
              "#1f9e89"
             ],
             [
              0.6666666666666666,
              "#35b779"
             ],
             [
              0.7777777777777778,
              "#6ece58"
             ],
             [
              0.8888888888888888,
              "#b5de2b"
             ],
             [
              1,
              "#fde725"
             ]
            ],
            "type": "histogram2d"
           }
          ],
          "histogram2dcontour": [
           {
            "colorbar": {
             "outlinewidth": 1,
             "tickcolor": "rgb(36,36,36)",
             "ticks": "outside"
            },
            "colorscale": [
             [
              0,
              "#440154"
             ],
             [
              0.1111111111111111,
              "#482878"
             ],
             [
              0.2222222222222222,
              "#3e4989"
             ],
             [
              0.3333333333333333,
              "#31688e"
             ],
             [
              0.4444444444444444,
              "#26828e"
             ],
             [
              0.5555555555555556,
              "#1f9e89"
             ],
             [
              0.6666666666666666,
              "#35b779"
             ],
             [
              0.7777777777777778,
              "#6ece58"
             ],
             [
              0.8888888888888888,
              "#b5de2b"
             ],
             [
              1,
              "#fde725"
             ]
            ],
            "type": "histogram2dcontour"
           }
          ],
          "mesh3d": [
           {
            "colorbar": {
             "outlinewidth": 1,
             "tickcolor": "rgb(36,36,36)",
             "ticks": "outside"
            },
            "type": "mesh3d"
           }
          ],
          "parcoords": [
           {
            "line": {
             "colorbar": {
              "outlinewidth": 1,
              "tickcolor": "rgb(36,36,36)",
              "ticks": "outside"
             }
            },
            "type": "parcoords"
           }
          ],
          "pie": [
           {
            "automargin": true,
            "type": "pie"
           }
          ],
          "scatter": [
           {
            "marker": {
             "colorbar": {
              "outlinewidth": 1,
              "tickcolor": "rgb(36,36,36)",
              "ticks": "outside"
             }
            },
            "type": "scatter"
           }
          ],
          "scatter3d": [
           {
            "line": {
             "colorbar": {
              "outlinewidth": 1,
              "tickcolor": "rgb(36,36,36)",
              "ticks": "outside"
             }
            },
            "marker": {
             "colorbar": {
              "outlinewidth": 1,
              "tickcolor": "rgb(36,36,36)",
              "ticks": "outside"
             }
            },
            "type": "scatter3d"
           }
          ],
          "scattercarpet": [
           {
            "marker": {
             "colorbar": {
              "outlinewidth": 1,
              "tickcolor": "rgb(36,36,36)",
              "ticks": "outside"
             }
            },
            "type": "scattercarpet"
           }
          ],
          "scattergeo": [
           {
            "marker": {
             "colorbar": {
              "outlinewidth": 1,
              "tickcolor": "rgb(36,36,36)",
              "ticks": "outside"
             }
            },
            "type": "scattergeo"
           }
          ],
          "scattergl": [
           {
            "marker": {
             "colorbar": {
              "outlinewidth": 1,
              "tickcolor": "rgb(36,36,36)",
              "ticks": "outside"
             }
            },
            "type": "scattergl"
           }
          ],
          "scattermapbox": [
           {
            "marker": {
             "colorbar": {
              "outlinewidth": 1,
              "tickcolor": "rgb(36,36,36)",
              "ticks": "outside"
             }
            },
            "type": "scattermapbox"
           }
          ],
          "scatterpolar": [
           {
            "marker": {
             "colorbar": {
              "outlinewidth": 1,
              "tickcolor": "rgb(36,36,36)",
              "ticks": "outside"
             }
            },
            "type": "scatterpolar"
           }
          ],
          "scatterpolargl": [
           {
            "marker": {
             "colorbar": {
              "outlinewidth": 1,
              "tickcolor": "rgb(36,36,36)",
              "ticks": "outside"
             }
            },
            "type": "scatterpolargl"
           }
          ],
          "scatterternary": [
           {
            "marker": {
             "colorbar": {
              "outlinewidth": 1,
              "tickcolor": "rgb(36,36,36)",
              "ticks": "outside"
             }
            },
            "type": "scatterternary"
           }
          ],
          "surface": [
           {
            "colorbar": {
             "outlinewidth": 1,
             "tickcolor": "rgb(36,36,36)",
             "ticks": "outside"
            },
            "colorscale": [
             [
              0,
              "#440154"
             ],
             [
              0.1111111111111111,
              "#482878"
             ],
             [
              0.2222222222222222,
              "#3e4989"
             ],
             [
              0.3333333333333333,
              "#31688e"
             ],
             [
              0.4444444444444444,
              "#26828e"
             ],
             [
              0.5555555555555556,
              "#1f9e89"
             ],
             [
              0.6666666666666666,
              "#35b779"
             ],
             [
              0.7777777777777778,
              "#6ece58"
             ],
             [
              0.8888888888888888,
              "#b5de2b"
             ],
             [
              1,
              "#fde725"
             ]
            ],
            "type": "surface"
           }
          ],
          "table": [
           {
            "cells": {
             "fill": {
              "color": "rgb(237,237,237)"
             },
             "line": {
              "color": "white"
             }
            },
            "header": {
             "fill": {
              "color": "rgb(217,217,217)"
             },
             "line": {
              "color": "white"
             }
            },
            "type": "table"
           }
          ]
         },
         "layout": {
          "annotationdefaults": {
           "arrowhead": 0,
           "arrowwidth": 1
          },
          "coloraxis": {
           "colorbar": {
            "outlinewidth": 1,
            "tickcolor": "rgb(36,36,36)",
            "ticks": "outside"
           }
          },
          "colorscale": {
           "diverging": [
            [
             0,
             "rgb(103,0,31)"
            ],
            [
             0.1,
             "rgb(178,24,43)"
            ],
            [
             0.2,
             "rgb(214,96,77)"
            ],
            [
             0.3,
             "rgb(244,165,130)"
            ],
            [
             0.4,
             "rgb(253,219,199)"
            ],
            [
             0.5,
             "rgb(247,247,247)"
            ],
            [
             0.6,
             "rgb(209,229,240)"
            ],
            [
             0.7,
             "rgb(146,197,222)"
            ],
            [
             0.8,
             "rgb(67,147,195)"
            ],
            [
             0.9,
             "rgb(33,102,172)"
            ],
            [
             1,
             "rgb(5,48,97)"
            ]
           ],
           "sequential": [
            [
             0,
             "#440154"
            ],
            [
             0.1111111111111111,
             "#482878"
            ],
            [
             0.2222222222222222,
             "#3e4989"
            ],
            [
             0.3333333333333333,
             "#31688e"
            ],
            [
             0.4444444444444444,
             "#26828e"
            ],
            [
             0.5555555555555556,
             "#1f9e89"
            ],
            [
             0.6666666666666666,
             "#35b779"
            ],
            [
             0.7777777777777778,
             "#6ece58"
            ],
            [
             0.8888888888888888,
             "#b5de2b"
            ],
            [
             1,
             "#fde725"
            ]
           ],
           "sequentialminus": [
            [
             0,
             "#440154"
            ],
            [
             0.1111111111111111,
             "#482878"
            ],
            [
             0.2222222222222222,
             "#3e4989"
            ],
            [
             0.3333333333333333,
             "#31688e"
            ],
            [
             0.4444444444444444,
             "#26828e"
            ],
            [
             0.5555555555555556,
             "#1f9e89"
            ],
            [
             0.6666666666666666,
             "#35b779"
            ],
            [
             0.7777777777777778,
             "#6ece58"
            ],
            [
             0.8888888888888888,
             "#b5de2b"
            ],
            [
             1,
             "#fde725"
            ]
           ]
          },
          "colorway": [
           "#1F77B4",
           "#FF7F0E",
           "#2CA02C",
           "#D62728",
           "#9467BD",
           "#8C564B",
           "#E377C2",
           "#7F7F7F",
           "#BCBD22",
           "#17BECF"
          ],
          "font": {
           "color": "rgb(36,36,36)"
          },
          "geo": {
           "bgcolor": "white",
           "lakecolor": "white",
           "landcolor": "white",
           "showlakes": true,
           "showland": true,
           "subunitcolor": "white"
          },
          "hoverlabel": {
           "align": "left"
          },
          "hovermode": "closest",
          "mapbox": {
           "style": "light"
          },
          "paper_bgcolor": "white",
          "plot_bgcolor": "white",
          "polar": {
           "angularaxis": {
            "gridcolor": "rgb(232,232,232)",
            "linecolor": "rgb(36,36,36)",
            "showgrid": false,
            "showline": true,
            "ticks": "outside"
           },
           "bgcolor": "white",
           "radialaxis": {
            "gridcolor": "rgb(232,232,232)",
            "linecolor": "rgb(36,36,36)",
            "showgrid": false,
            "showline": true,
            "ticks": "outside"
           }
          },
          "scene": {
           "xaxis": {
            "backgroundcolor": "white",
            "gridcolor": "rgb(232,232,232)",
            "gridwidth": 2,
            "linecolor": "rgb(36,36,36)",
            "showbackground": true,
            "showgrid": false,
            "showline": true,
            "ticks": "outside",
            "zeroline": false,
            "zerolinecolor": "rgb(36,36,36)"
           },
           "yaxis": {
            "backgroundcolor": "white",
            "gridcolor": "rgb(232,232,232)",
            "gridwidth": 2,
            "linecolor": "rgb(36,36,36)",
            "showbackground": true,
            "showgrid": false,
            "showline": true,
            "ticks": "outside",
            "zeroline": false,
            "zerolinecolor": "rgb(36,36,36)"
           },
           "zaxis": {
            "backgroundcolor": "white",
            "gridcolor": "rgb(232,232,232)",
            "gridwidth": 2,
            "linecolor": "rgb(36,36,36)",
            "showbackground": true,
            "showgrid": false,
            "showline": true,
            "ticks": "outside",
            "zeroline": false,
            "zerolinecolor": "rgb(36,36,36)"
           }
          },
          "shapedefaults": {
           "fillcolor": "black",
           "line": {
            "width": 0
           },
           "opacity": 0.3
          },
          "ternary": {
           "aaxis": {
            "gridcolor": "rgb(232,232,232)",
            "linecolor": "rgb(36,36,36)",
            "showgrid": false,
            "showline": true,
            "ticks": "outside"
           },
           "baxis": {
            "gridcolor": "rgb(232,232,232)",
            "linecolor": "rgb(36,36,36)",
            "showgrid": false,
            "showline": true,
            "ticks": "outside"
           },
           "bgcolor": "white",
           "caxis": {
            "gridcolor": "rgb(232,232,232)",
            "linecolor": "rgb(36,36,36)",
            "showgrid": false,
            "showline": true,
            "ticks": "outside"
           }
          },
          "title": {
           "x": 0.05
          },
          "xaxis": {
           "automargin": true,
           "gridcolor": "rgb(232,232,232)",
           "linecolor": "rgb(36,36,36)",
           "showgrid": false,
           "showline": true,
           "ticks": "outside",
           "title": {
            "standoff": 15
           },
           "zeroline": false,
           "zerolinecolor": "rgb(36,36,36)"
          },
          "yaxis": {
           "automargin": true,
           "gridcolor": "rgb(232,232,232)",
           "linecolor": "rgb(36,36,36)",
           "showgrid": false,
           "showline": true,
           "ticks": "outside",
           "title": {
            "standoff": 15
           },
           "zeroline": false,
           "zerolinecolor": "rgb(36,36,36)"
          }
         }
        },
        "title": {
         "text": "Comments Over Time"
        },
        "xaxis": {
         "anchor": "y",
         "domain": [
          0,
          1
         ],
         "title": {
          "text": "Date"
         }
        },
        "yaxis": {
         "anchor": "x",
         "domain": [
          0,
          1
         ],
         "title": {
          "text": "# Comments"
         },
         "type": "log"
        }
       }
      },
      "text/html": [
       "<div>\n",
       "        \n",
       "        \n",
       "            <div id=\"869ac2b3-338d-458e-a37b-f18844399644\" class=\"plotly-graph-div\" style=\"height:525px; width:100%;\"></div>\n",
       "            <script type=\"text/javascript\">\n",
       "                require([\"plotly\"], function(Plotly) {\n",
       "                    window.PLOTLYENV=window.PLOTLYENV || {};\n",
       "                    \n",
       "                if (document.getElementById(\"869ac2b3-338d-458e-a37b-f18844399644\")) {\n",
       "                    Plotly.newPlot(\n",
       "                        '869ac2b3-338d-458e-a37b-f18844399644',\n",
       "                        [{\"hovertemplate\": \"Subreddit=SandersForPresident<br>Date=%{x}<br># Comments=%{y}<extra></extra>\", \"legendgroup\": \"SandersForPresident\", \"line\": {\"color\": \"#EF553B\", \"dash\": \"solid\", \"shape\": \"spline\"}, \"mode\": \"lines\", \"name\": \"SandersForPresident\", \"orientation\": \"v\", \"showlegend\": true, \"type\": \"scatter\", \"x\": [\"2019-01-01T00:00:00\", \"2019-02-01T00:00:00\", \"2019-03-01T00:00:00\", \"2019-04-01T00:00:00\", \"2019-05-01T00:00:00\", \"2019-06-01T00:00:00\", \"2019-07-01T00:00:00\", \"2019-08-01T00:00:00\", \"2019-09-01T00:00:00\", \"2019-10-01T00:00:00\", \"2019-11-01T00:00:00\", \"2019-12-01T00:00:00\"], \"xaxis\": \"x\", \"y\": [22016, 56683, 67497, 64758, 37354, 71863, 57860, 86820, 79887, 87907, 71442, 90414], \"yaxis\": \"y\"}, {\"hovertemplate\": \"Subreddit=BaemyKlobaechar<br>Date=%{x}<br># Comments=%{y}<extra></extra>\", \"legendgroup\": \"BaemyKlobaechar\", \"line\": {\"color\": \"#00CC96\", \"dash\": \"solid\", \"shape\": \"spline\"}, \"mode\": \"lines\", \"name\": \"BaemyKlobaechar\", \"orientation\": \"v\", \"showlegend\": true, \"type\": \"scatter\", \"x\": [\"2019-01-01T00:00:00\", \"2019-02-01T00:00:00\", \"2019-03-01T00:00:00\", \"2019-04-01T00:00:00\", \"2019-05-01T00:00:00\", \"2019-06-01T00:00:00\", \"2019-07-01T00:00:00\", \"2019-08-01T00:00:00\", \"2019-09-01T00:00:00\", \"2019-10-01T00:00:00\", \"2019-11-01T00:00:00\", \"2019-12-01T00:00:00\"], \"xaxis\": \"x\", \"y\": [101, 239, 28, 31, 13, 47, 22, 107, 136, 139, 82, 211], \"yaxis\": \"y\"}, {\"hovertemplate\": \"Subreddit=The_Donald<br>Date=%{x}<br># Comments=%{y}<extra></extra>\", \"legendgroup\": \"The_Donald\", \"line\": {\"color\": \"#FF6692\", \"dash\": \"solid\", \"shape\": \"spline\"}, \"mode\": \"lines\", \"name\": \"The_Donald\", \"orientation\": \"v\", \"showlegend\": true, \"type\": \"scatter\", \"x\": [\"2019-01-01T00:00:00\", \"2019-02-01T00:00:00\", \"2019-03-01T00:00:00\", \"2019-04-01T00:00:00\", \"2019-05-01T00:00:00\", \"2019-06-01T00:00:00\", \"2019-07-01T00:00:00\", \"2019-08-01T00:00:00\", \"2019-09-01T00:00:00\", \"2019-10-01T00:00:00\", \"2019-11-01T00:00:00\", \"2019-12-01T00:00:00\"], \"xaxis\": \"x\", \"y\": [968642, 915499, 895381, 795051, 876351, 915815, 833560, 849971, 720203, 806676, 739806, 698631], \"yaxis\": \"y\"}, {\"hovertemplate\": \"Subreddit=ElizabethWarren<br>Date=%{x}<br># Comments=%{y}<extra></extra>\", \"legendgroup\": \"ElizabethWarren\", \"line\": {\"color\": \"#AB63FA\", \"dash\": \"solid\", \"shape\": \"spline\"}, \"mode\": \"lines\", \"name\": \"ElizabethWarren\", \"orientation\": \"v\", \"showlegend\": true, \"type\": \"scatter\", \"x\": [\"2019-01-01T00:00:00\", \"2019-02-01T00:00:00\", \"2019-03-01T00:00:00\", \"2019-04-01T00:00:00\", \"2019-05-01T00:00:00\", \"2019-06-01T00:00:00\", \"2019-07-01T00:00:00\", \"2019-08-01T00:00:00\", \"2019-09-01T00:00:00\", \"2019-10-01T00:00:00\", \"2019-11-01T00:00:00\", \"2019-12-01T00:00:00\"], \"xaxis\": \"x\", \"y\": [454, 445, 366, 1561, 2921, 7242, 7370, 8759, 13839, 19781, 17708, 11451], \"yaxis\": \"y\"}, {\"hovertemplate\": \"Subreddit=YangForPresidentHQ<br>Date=%{x}<br># Comments=%{y}<extra></extra>\", \"legendgroup\": \"YangForPresidentHQ\", \"line\": {\"color\": \"#19D3F3\", \"dash\": \"solid\", \"shape\": \"spline\"}, \"mode\": \"lines\", \"name\": \"YangForPresidentHQ\", \"orientation\": \"v\", \"showlegend\": true, \"type\": \"scatter\", \"x\": [\"2019-01-01T00:00:00\", \"2019-02-01T00:00:00\", \"2019-03-01T00:00:00\", \"2019-04-01T00:00:00\", \"2019-05-01T00:00:00\", \"2019-06-01T00:00:00\", \"2019-07-01T00:00:00\", \"2019-08-01T00:00:00\", \"2019-09-01T00:00:00\", \"2019-10-01T00:00:00\", \"2019-11-01T00:00:00\", \"2019-12-01T00:00:00\"], \"xaxis\": \"x\", \"y\": [95, 3138, 43978, 53512, 30442, 62914, 79167, 176906, 189596, 165746, 155684, 225756], \"yaxis\": \"y\"}, {\"hovertemplate\": \"Subreddit=Pete_Buttigieg<br>Date=%{x}<br># Comments=%{y}<extra></extra>\", \"legendgroup\": \"Pete_Buttigieg\", \"line\": {\"color\": \"#FFA15A\", \"dash\": \"solid\", \"shape\": \"spline\"}, \"mode\": \"lines\", \"name\": \"Pete_Buttigieg\", \"orientation\": \"v\", \"showlegend\": true, \"type\": \"scatter\", \"x\": [\"2019-01-01T00:00:00\", \"2019-02-01T00:00:00\", \"2019-03-01T00:00:00\", \"2019-04-01T00:00:00\", \"2019-05-01T00:00:00\", \"2019-06-01T00:00:00\", \"2019-07-01T00:00:00\", \"2019-08-01T00:00:00\", \"2019-09-01T00:00:00\", \"2019-10-01T00:00:00\", \"2019-11-01T00:00:00\", \"2019-12-01T00:00:00\"], \"xaxis\": \"x\", \"y\": [21, 144, 12604, 48305, 21619, 27709, 30785, 22679, 24136, 35638, 57412, 73831], \"yaxis\": \"y\"}, {\"hovertemplate\": \"Subreddit=JoeBiden<br>Date=%{x}<br># Comments=%{y}<extra></extra>\", \"legendgroup\": \"JoeBiden\", \"line\": {\"color\": \"#636EFA\", \"dash\": \"solid\", \"shape\": \"spline\"}, \"mode\": \"lines\", \"name\": \"JoeBiden\", \"orientation\": \"v\", \"showlegend\": true, \"type\": \"scatter\", \"x\": [\"2019-01-01T00:00:00\", \"2019-02-01T00:00:00\", \"2019-03-01T00:00:00\", \"2019-04-01T00:00:00\", \"2019-05-01T00:00:00\", \"2019-06-01T00:00:00\", \"2019-07-01T00:00:00\", \"2019-08-01T00:00:00\", \"2019-09-01T00:00:00\", \"2019-10-01T00:00:00\", \"2019-11-01T00:00:00\", \"2019-12-01T00:00:00\"], \"xaxis\": \"x\", \"y\": [1, 11, 36, 839, 1414, 1531, 1037, 1825, 1912, 1156, 1716, 3825], \"yaxis\": \"y\"}],\n",
       "                        {\"annotations\": [{\"ay\": 20, \"text\": \"Yang AMA on /r/politics\", \"x\": \"2019-02-24\", \"y\": 4.505149978319906}, {\"ay\": -55, \"text\": \"Sanders AMA on /r/SandersForPresident\", \"x\": \"2019-06-18\", \"y\": 4.477121254719663}, {\"ay\": 40, \"text\": \"Buttigieg announces campaign\", \"x\": \"2019-04-19\", \"y\": 4.477121254719663}, {\"ax\": 60, \"ay\": 20, \"text\": \"Buttigieg exploratory committee\", \"x\": \"2019-01-23\", \"y\": 1.8573324964312685}, {\"ax\": 100, \"ay\": -10, \"text\": \"Klobuchar announces campaign\", \"x\": \"2019-02-10\", \"y\": 2.130333768495006}, {\"ay\": -20, \"text\": \"Sanders announces campaign\", \"x\": \"2019-02-19\", \"y\": 4.826074802700826}, {\"ay\": -20, \"text\": \"Warren announces campaign\", \"x\": \"2019-02-09\", \"y\": 2.6232492903979003}], \"font\": {\"size\": 14}, \"legend\": {\"title\": {\"text\": \"Subreddit\"}, \"tracegroupgap\": 0}, \"template\": {\"data\": {\"bar\": [{\"error_x\": {\"color\": \"rgb(36,36,36)\"}, \"error_y\": {\"color\": \"rgb(36,36,36)\"}, \"marker\": {\"line\": {\"color\": \"white\", \"width\": 0.5}}, \"type\": \"bar\"}], \"barpolar\": [{\"marker\": {\"line\": {\"color\": \"white\", \"width\": 0.5}}, \"type\": \"barpolar\"}], \"carpet\": [{\"aaxis\": {\"endlinecolor\": \"rgb(36,36,36)\", \"gridcolor\": \"white\", \"linecolor\": \"white\", \"minorgridcolor\": \"white\", \"startlinecolor\": \"rgb(36,36,36)\"}, \"baxis\": {\"endlinecolor\": \"rgb(36,36,36)\", \"gridcolor\": \"white\", \"linecolor\": \"white\", \"minorgridcolor\": \"white\", \"startlinecolor\": \"rgb(36,36,36)\"}, \"type\": \"carpet\"}], \"choropleth\": [{\"colorbar\": {\"outlinewidth\": 1, \"tickcolor\": \"rgb(36,36,36)\", \"ticks\": \"outside\"}, \"type\": \"choropleth\"}], \"contour\": [{\"colorbar\": {\"outlinewidth\": 1, \"tickcolor\": \"rgb(36,36,36)\", \"ticks\": \"outside\"}, \"colorscale\": [[0.0, \"#440154\"], [0.1111111111111111, \"#482878\"], [0.2222222222222222, \"#3e4989\"], [0.3333333333333333, \"#31688e\"], [0.4444444444444444, \"#26828e\"], [0.5555555555555556, \"#1f9e89\"], [0.6666666666666666, \"#35b779\"], [0.7777777777777778, \"#6ece58\"], [0.8888888888888888, \"#b5de2b\"], [1.0, \"#fde725\"]], \"type\": \"contour\"}], \"contourcarpet\": [{\"colorbar\": {\"outlinewidth\": 1, \"tickcolor\": \"rgb(36,36,36)\", \"ticks\": \"outside\"}, \"type\": \"contourcarpet\"}], \"heatmap\": [{\"colorbar\": {\"outlinewidth\": 1, \"tickcolor\": \"rgb(36,36,36)\", \"ticks\": \"outside\"}, \"colorscale\": [[0.0, \"#440154\"], [0.1111111111111111, \"#482878\"], [0.2222222222222222, \"#3e4989\"], [0.3333333333333333, \"#31688e\"], [0.4444444444444444, \"#26828e\"], [0.5555555555555556, \"#1f9e89\"], [0.6666666666666666, \"#35b779\"], [0.7777777777777778, \"#6ece58\"], [0.8888888888888888, \"#b5de2b\"], [1.0, \"#fde725\"]], \"type\": \"heatmap\"}], \"heatmapgl\": [{\"colorbar\": {\"outlinewidth\": 1, \"tickcolor\": \"rgb(36,36,36)\", \"ticks\": \"outside\"}, \"colorscale\": [[0.0, \"#440154\"], [0.1111111111111111, \"#482878\"], [0.2222222222222222, \"#3e4989\"], [0.3333333333333333, \"#31688e\"], [0.4444444444444444, \"#26828e\"], [0.5555555555555556, \"#1f9e89\"], [0.6666666666666666, \"#35b779\"], [0.7777777777777778, \"#6ece58\"], [0.8888888888888888, \"#b5de2b\"], [1.0, \"#fde725\"]], \"type\": \"heatmapgl\"}], \"histogram\": [{\"marker\": {\"line\": {\"color\": \"white\", \"width\": 0.6}}, \"type\": \"histogram\"}], \"histogram2d\": [{\"colorbar\": {\"outlinewidth\": 1, \"tickcolor\": \"rgb(36,36,36)\", \"ticks\": \"outside\"}, \"colorscale\": [[0.0, \"#440154\"], [0.1111111111111111, \"#482878\"], [0.2222222222222222, \"#3e4989\"], [0.3333333333333333, \"#31688e\"], [0.4444444444444444, \"#26828e\"], [0.5555555555555556, \"#1f9e89\"], [0.6666666666666666, \"#35b779\"], [0.7777777777777778, \"#6ece58\"], [0.8888888888888888, \"#b5de2b\"], [1.0, \"#fde725\"]], \"type\": \"histogram2d\"}], \"histogram2dcontour\": [{\"colorbar\": {\"outlinewidth\": 1, \"tickcolor\": \"rgb(36,36,36)\", \"ticks\": \"outside\"}, \"colorscale\": [[0.0, \"#440154\"], [0.1111111111111111, \"#482878\"], [0.2222222222222222, \"#3e4989\"], [0.3333333333333333, \"#31688e\"], [0.4444444444444444, \"#26828e\"], [0.5555555555555556, \"#1f9e89\"], [0.6666666666666666, \"#35b779\"], [0.7777777777777778, \"#6ece58\"], [0.8888888888888888, \"#b5de2b\"], [1.0, \"#fde725\"]], \"type\": \"histogram2dcontour\"}], \"mesh3d\": [{\"colorbar\": {\"outlinewidth\": 1, \"tickcolor\": \"rgb(36,36,36)\", \"ticks\": \"outside\"}, \"type\": \"mesh3d\"}], \"parcoords\": [{\"line\": {\"colorbar\": {\"outlinewidth\": 1, \"tickcolor\": \"rgb(36,36,36)\", \"ticks\": \"outside\"}}, \"type\": \"parcoords\"}], \"pie\": [{\"automargin\": true, \"type\": \"pie\"}], \"scatter\": [{\"marker\": {\"colorbar\": {\"outlinewidth\": 1, \"tickcolor\": \"rgb(36,36,36)\", \"ticks\": \"outside\"}}, \"type\": \"scatter\"}], \"scatter3d\": [{\"line\": {\"colorbar\": {\"outlinewidth\": 1, \"tickcolor\": \"rgb(36,36,36)\", \"ticks\": \"outside\"}}, \"marker\": {\"colorbar\": {\"outlinewidth\": 1, \"tickcolor\": \"rgb(36,36,36)\", \"ticks\": \"outside\"}}, \"type\": \"scatter3d\"}], \"scattercarpet\": [{\"marker\": {\"colorbar\": {\"outlinewidth\": 1, \"tickcolor\": \"rgb(36,36,36)\", \"ticks\": \"outside\"}}, \"type\": \"scattercarpet\"}], \"scattergeo\": [{\"marker\": {\"colorbar\": {\"outlinewidth\": 1, \"tickcolor\": \"rgb(36,36,36)\", \"ticks\": \"outside\"}}, \"type\": \"scattergeo\"}], \"scattergl\": [{\"marker\": {\"colorbar\": {\"outlinewidth\": 1, \"tickcolor\": \"rgb(36,36,36)\", \"ticks\": \"outside\"}}, \"type\": \"scattergl\"}], \"scattermapbox\": [{\"marker\": {\"colorbar\": {\"outlinewidth\": 1, \"tickcolor\": \"rgb(36,36,36)\", \"ticks\": \"outside\"}}, \"type\": \"scattermapbox\"}], \"scatterpolar\": [{\"marker\": {\"colorbar\": {\"outlinewidth\": 1, \"tickcolor\": \"rgb(36,36,36)\", \"ticks\": \"outside\"}}, \"type\": \"scatterpolar\"}], \"scatterpolargl\": [{\"marker\": {\"colorbar\": {\"outlinewidth\": 1, \"tickcolor\": \"rgb(36,36,36)\", \"ticks\": \"outside\"}}, \"type\": \"scatterpolargl\"}], \"scatterternary\": [{\"marker\": {\"colorbar\": {\"outlinewidth\": 1, \"tickcolor\": \"rgb(36,36,36)\", \"ticks\": \"outside\"}}, \"type\": \"scatterternary\"}], \"surface\": [{\"colorbar\": {\"outlinewidth\": 1, \"tickcolor\": \"rgb(36,36,36)\", \"ticks\": \"outside\"}, \"colorscale\": [[0.0, \"#440154\"], [0.1111111111111111, \"#482878\"], [0.2222222222222222, \"#3e4989\"], [0.3333333333333333, \"#31688e\"], [0.4444444444444444, \"#26828e\"], [0.5555555555555556, \"#1f9e89\"], [0.6666666666666666, \"#35b779\"], [0.7777777777777778, \"#6ece58\"], [0.8888888888888888, \"#b5de2b\"], [1.0, \"#fde725\"]], \"type\": \"surface\"}], \"table\": [{\"cells\": {\"fill\": {\"color\": \"rgb(237,237,237)\"}, \"line\": {\"color\": \"white\"}}, \"header\": {\"fill\": {\"color\": \"rgb(217,217,217)\"}, \"line\": {\"color\": \"white\"}}, \"type\": \"table\"}]}, \"layout\": {\"annotationdefaults\": {\"arrowhead\": 0, \"arrowwidth\": 1}, \"coloraxis\": {\"colorbar\": {\"outlinewidth\": 1, \"tickcolor\": \"rgb(36,36,36)\", \"ticks\": \"outside\"}}, \"colorscale\": {\"diverging\": [[0.0, \"rgb(103,0,31)\"], [0.1, \"rgb(178,24,43)\"], [0.2, \"rgb(214,96,77)\"], [0.3, \"rgb(244,165,130)\"], [0.4, \"rgb(253,219,199)\"], [0.5, \"rgb(247,247,247)\"], [0.6, \"rgb(209,229,240)\"], [0.7, \"rgb(146,197,222)\"], [0.8, \"rgb(67,147,195)\"], [0.9, \"rgb(33,102,172)\"], [1.0, \"rgb(5,48,97)\"]], \"sequential\": [[0.0, \"#440154\"], [0.1111111111111111, \"#482878\"], [0.2222222222222222, \"#3e4989\"], [0.3333333333333333, \"#31688e\"], [0.4444444444444444, \"#26828e\"], [0.5555555555555556, \"#1f9e89\"], [0.6666666666666666, \"#35b779\"], [0.7777777777777778, \"#6ece58\"], [0.8888888888888888, \"#b5de2b\"], [1.0, \"#fde725\"]], \"sequentialminus\": [[0.0, \"#440154\"], [0.1111111111111111, \"#482878\"], [0.2222222222222222, \"#3e4989\"], [0.3333333333333333, \"#31688e\"], [0.4444444444444444, \"#26828e\"], [0.5555555555555556, \"#1f9e89\"], [0.6666666666666666, \"#35b779\"], [0.7777777777777778, \"#6ece58\"], [0.8888888888888888, \"#b5de2b\"], [1.0, \"#fde725\"]]}, \"colorway\": [\"#1F77B4\", \"#FF7F0E\", \"#2CA02C\", \"#D62728\", \"#9467BD\", \"#8C564B\", \"#E377C2\", \"#7F7F7F\", \"#BCBD22\", \"#17BECF\"], \"font\": {\"color\": \"rgb(36,36,36)\"}, \"geo\": {\"bgcolor\": \"white\", \"lakecolor\": \"white\", \"landcolor\": \"white\", \"showlakes\": true, \"showland\": true, \"subunitcolor\": \"white\"}, \"hoverlabel\": {\"align\": \"left\"}, \"hovermode\": \"closest\", \"mapbox\": {\"style\": \"light\"}, \"paper_bgcolor\": \"white\", \"plot_bgcolor\": \"white\", \"polar\": {\"angularaxis\": {\"gridcolor\": \"rgb(232,232,232)\", \"linecolor\": \"rgb(36,36,36)\", \"showgrid\": false, \"showline\": true, \"ticks\": \"outside\"}, \"bgcolor\": \"white\", \"radialaxis\": {\"gridcolor\": \"rgb(232,232,232)\", \"linecolor\": \"rgb(36,36,36)\", \"showgrid\": false, \"showline\": true, \"ticks\": \"outside\"}}, \"scene\": {\"xaxis\": {\"backgroundcolor\": \"white\", \"gridcolor\": \"rgb(232,232,232)\", \"gridwidth\": 2, \"linecolor\": \"rgb(36,36,36)\", \"showbackground\": true, \"showgrid\": false, \"showline\": true, \"ticks\": \"outside\", \"zeroline\": false, \"zerolinecolor\": \"rgb(36,36,36)\"}, \"yaxis\": {\"backgroundcolor\": \"white\", \"gridcolor\": \"rgb(232,232,232)\", \"gridwidth\": 2, \"linecolor\": \"rgb(36,36,36)\", \"showbackground\": true, \"showgrid\": false, \"showline\": true, \"ticks\": \"outside\", \"zeroline\": false, \"zerolinecolor\": \"rgb(36,36,36)\"}, \"zaxis\": {\"backgroundcolor\": \"white\", \"gridcolor\": \"rgb(232,232,232)\", \"gridwidth\": 2, \"linecolor\": \"rgb(36,36,36)\", \"showbackground\": true, \"showgrid\": false, \"showline\": true, \"ticks\": \"outside\", \"zeroline\": false, \"zerolinecolor\": \"rgb(36,36,36)\"}}, \"shapedefaults\": {\"fillcolor\": \"black\", \"line\": {\"width\": 0}, \"opacity\": 0.3}, \"ternary\": {\"aaxis\": {\"gridcolor\": \"rgb(232,232,232)\", \"linecolor\": \"rgb(36,36,36)\", \"showgrid\": false, \"showline\": true, \"ticks\": \"outside\"}, \"baxis\": {\"gridcolor\": \"rgb(232,232,232)\", \"linecolor\": \"rgb(36,36,36)\", \"showgrid\": false, \"showline\": true, \"ticks\": \"outside\"}, \"bgcolor\": \"white\", \"caxis\": {\"gridcolor\": \"rgb(232,232,232)\", \"linecolor\": \"rgb(36,36,36)\", \"showgrid\": false, \"showline\": true, \"ticks\": \"outside\"}}, \"title\": {\"x\": 0.05}, \"xaxis\": {\"automargin\": true, \"gridcolor\": \"rgb(232,232,232)\", \"linecolor\": \"rgb(36,36,36)\", \"showgrid\": false, \"showline\": true, \"ticks\": \"outside\", \"title\": {\"standoff\": 15}, \"zeroline\": false, \"zerolinecolor\": \"rgb(36,36,36)\"}, \"yaxis\": {\"automargin\": true, \"gridcolor\": \"rgb(232,232,232)\", \"linecolor\": \"rgb(36,36,36)\", \"showgrid\": false, \"showline\": true, \"ticks\": \"outside\", \"title\": {\"standoff\": 15}, \"zeroline\": false, \"zerolinecolor\": \"rgb(36,36,36)\"}}}, \"title\": {\"text\": \"Comments Over Time\"}, \"xaxis\": {\"anchor\": \"y\", \"domain\": [0.0, 1.0], \"title\": {\"text\": \"Date\"}}, \"yaxis\": {\"anchor\": \"x\", \"domain\": [0.0, 1.0], \"title\": {\"text\": \"# Comments\"}, \"type\": \"log\"}},\n",
       "                        {\"responsive\": true}\n",
       "                    ).then(function(){\n",
       "                            \n",
       "var gd = document.getElementById('869ac2b3-338d-458e-a37b-f18844399644');\n",
       "var x = new MutationObserver(function (mutations, observer) {{\n",
       "        var display = window.getComputedStyle(gd).display;\n",
       "        if (!display || display === 'none') {{\n",
       "            console.log([gd, 'removed!']);\n",
       "            Plotly.purge(gd);\n",
       "            observer.disconnect();\n",
       "        }}\n",
       "}});\n",
       "\n",
       "// Listen for the removal of the full notebook cells\n",
       "var notebookContainer = gd.closest('#notebook-container');\n",
       "if (notebookContainer) {{\n",
       "    x.observe(notebookContainer, {childList: true});\n",
       "}}\n",
       "\n",
       "// Listen for the clearing of the current output cell\n",
       "var outputEl = gd.closest('.output');\n",
       "if (outputEl) {{\n",
       "    x.observe(outputEl, {childList: true});\n",
       "}}\n",
       "\n",
       "                        })\n",
       "                };\n",
       "                });\n",
       "            </script>\n",
       "        </div>"
      ]
     },
     "metadata": {},
     "output_type": "display_data"
    }
   ],
   "source": [
    "args = {\n",
    "    \"x\": \"date\",\n",
    "    \"y\": \"count\",\n",
    "    \"color\": \"subreddit\",\n",
    "    \"line_shape\": \"spline\",\n",
    "    \"title\":  \"Comments Over Time\",\n",
    "    \"template\": \"simple_white\",\n",
    "    \"labels\": {\"count\": \"# Comments\", \"date\": \"Date\", \"subreddit\": \"Subreddit\"},\n",
    "    \"color_discrete_map\": mapping\n",
    "\n",
    "}\n",
    "\n",
    "fig = px.line(subreddit_comments,**args)\n",
    "fig.update_layout(\n",
    "    font=dict(size=14),\n",
    "    annotations=[\n",
    "        dict(\n",
    "            x=\"2019-02-24\",\n",
    "            y=np.log10(32000),\n",
    "            ay=20,\n",
    "            text=\"Yang AMA on /r/politics\",\n",
    "        ),\n",
    "        dict(\n",
    "            x=\"2019-06-18\",\n",
    "            y=np.log10(30000),\n",
    "            ay=-55,\n",
    "            text=\"Sanders AMA on /r/SandersForPresident\",\n",
    "        ),\n",
    "        \n",
    "        dict(\n",
    "            x=\"2019-04-19\",\n",
    "            y=np.log10(30000),\n",
    "            ay=40,\n",
    "            text=\"Buttigieg announces campaign\",\n",
    "        ),\n",
    "        dict(\n",
    "            x=\"2019-01-23\",\n",
    "            y=np.log10(72),\n",
    "            ay=20,\n",
    "            ax=60,\n",
    "            text=\"Buttigieg exploratory committee\",\n",
    "        ),\n",
    "        dict(\n",
    "            x=\"2019-02-10\",\n",
    "            y=np.log10(135),\n",
    "            ay=-10,\n",
    "            ax=100,\n",
    "            text=\"Klobuchar announces campaign\",\n",
    "        ),\n",
    "        dict(\n",
    "            x=\"2019-02-19\",\n",
    "            y=np.log10(67000),\n",
    "            ay=-20,\n",
    "            text=\"Sanders announces campaign\",\n",
    "        ),\n",
    "        dict(\n",
    "            x=\"2019-02-09\",\n",
    "            y=np.log10(420),\n",
    "            ay=-20,\n",
    "            text=\"Warren announces campaign\",\n",
    "        ),\n",
    "        \n",
    "    ]\n",
    ")\n",
    "\n",
    "fig.update_yaxes(type=\"log\")\n",
    "# \n",
    "# fig.write_html(\"visualizations/temporal/{}_subreddit_counts.html\".format(TIME_FRAME))\n",
    "fig.show()"
   ]
  },
  {
   "cell_type": "markdown",
   "metadata": {},
   "source": [
    "## Dual Axes"
   ]
  },
  {
   "cell_type": "code",
   "execution_count": 29,
   "metadata": {
    "scrolled": false
   },
   "outputs": [
    {
     "data": {
      "application/vnd.plotly.v1+json": {
       "config": {
        "plotlyServerURL": "https://plot.ly"
       },
       "data": [
        {
         "legendgroup": "Joe Biden",
         "line": {
          "color": "#636EFA",
          "dash": "dash",
          "shape": "spline"
         },
         "mode": "lines",
         "name": "JoeBiden Subreddit Comments",
         "type": "scatter",
         "x": [
          "2019-01-01T00:00:00",
          "2019-02-01T00:00:00",
          "2019-03-01T00:00:00",
          "2019-04-01T00:00:00",
          "2019-05-01T00:00:00",
          "2019-06-01T00:00:00",
          "2019-07-01T00:00:00",
          "2019-08-01T00:00:00",
          "2019-09-01T00:00:00",
          "2019-10-01T00:00:00",
          "2019-11-01T00:00:00",
          "2019-12-01T00:00:00"
         ],
         "xaxis": "x",
         "y": [
          1,
          11,
          36,
          839,
          1414,
          1531,
          1037,
          1825,
          1912,
          1156,
          1716,
          3825
         ],
         "yaxis": "y2"
        },
        {
         "legendgroup": "Joe Biden",
         "line": {
          "color": "#636EFA",
          "shape": "spline"
         },
         "mode": "lines",
         "name": "Joe Biden Polling Avg",
         "type": "scatter",
         "x": [
          "2019-01-31T00:00:00",
          "2019-02-28T00:00:00",
          "2019-03-31T00:00:00",
          "2019-04-30T00:00:00",
          "2019-05-31T00:00:00",
          "2019-06-30T00:00:00",
          "2019-07-31T00:00:00",
          "2019-08-31T00:00:00",
          "2019-09-30T00:00:00",
          "2019-10-31T00:00:00",
          "2019-11-30T00:00:00",
          "2019-12-31T00:00:00",
          "2020-01-31T00:00:00",
          "2020-02-29T00:00:00",
          "2020-03-31T00:00:00"
         ],
         "xaxis": "x",
         "y": [
          0.2814865794907089,
          0.3145687364097608,
          0.30970017636684305,
          0.2845849802371542,
          0.292755991285403,
          0.27526015441423296,
          0.26872516050137574,
          0.24843796489140138,
          0.24300155520995334,
          0.22868217054263565,
          0.2298477157360406,
          0.21682393093756275,
          0.21359223300970873,
          0.19458917835671344,
          0.4875886524822695
         ],
         "yaxis": "y"
        },
        {
         "legendgroup": "Bernie Sanders",
         "line": {
          "color": "#EF553B",
          "dash": "dash",
          "shape": "spline"
         },
         "mode": "lines",
         "name": "SandersForPresident Subreddit Comments",
         "type": "scatter",
         "x": [
          "2019-01-01T00:00:00",
          "2019-02-01T00:00:00",
          "2019-03-01T00:00:00",
          "2019-04-01T00:00:00",
          "2019-05-01T00:00:00",
          "2019-06-01T00:00:00",
          "2019-07-01T00:00:00",
          "2019-08-01T00:00:00",
          "2019-09-01T00:00:00",
          "2019-10-01T00:00:00",
          "2019-11-01T00:00:00",
          "2019-12-01T00:00:00"
         ],
         "xaxis": "x",
         "y": [
          22016,
          56683,
          67497,
          64758,
          37354,
          71863,
          57860,
          86820,
          79887,
          87907,
          71442,
          90414
         ],
         "yaxis": "y2"
        },
        {
         "legendgroup": "Bernie Sanders",
         "line": {
          "color": "#EF553B",
          "shape": "spline"
         },
         "mode": "lines",
         "name": "Bernie Sanders Polling Avg",
         "type": "scatter",
         "x": [
          "2019-01-31T00:00:00",
          "2019-02-28T00:00:00",
          "2019-03-31T00:00:00",
          "2019-04-30T00:00:00",
          "2019-05-31T00:00:00",
          "2019-06-30T00:00:00",
          "2019-07-31T00:00:00",
          "2019-08-31T00:00:00",
          "2019-09-30T00:00:00",
          "2019-10-31T00:00:00",
          "2019-11-30T00:00:00",
          "2019-12-31T00:00:00",
          "2020-01-31T00:00:00",
          "2020-02-29T00:00:00",
          "2020-03-31T00:00:00"
         ],
         "xaxis": "x",
         "y": [
          0.24088093599449414,
          0.24861077554964967,
          0.24761904761904763,
          0.23715415019762845,
          0.21922657952069716,
          0.22054380664652568,
          0.21094466523998778,
          0.22433799464445106,
          0.20820373250388802,
          0.21201550387596899,
          0.20588832487309644,
          0.22565749849427827,
          0.22180731889469754,
          0.2470941883767535,
          0.399822695035461
         ],
         "yaxis": "y"
        },
        {
         "legendgroup": "Amy Klobuchar",
         "line": {
          "color": "#00CC96",
          "dash": "dash",
          "shape": "spline"
         },
         "mode": "lines",
         "name": "BaemyKlobaechar Subreddit Comments",
         "type": "scatter",
         "x": [
          "2019-01-01T00:00:00",
          "2019-02-01T00:00:00",
          "2019-03-01T00:00:00",
          "2019-04-01T00:00:00",
          "2019-05-01T00:00:00",
          "2019-06-01T00:00:00",
          "2019-07-01T00:00:00",
          "2019-08-01T00:00:00",
          "2019-09-01T00:00:00",
          "2019-10-01T00:00:00",
          "2019-11-01T00:00:00",
          "2019-12-01T00:00:00"
         ],
         "xaxis": "x",
         "y": [
          101,
          239,
          28,
          31,
          13,
          47,
          22,
          107,
          136,
          139,
          82,
          211
         ],
         "yaxis": "y2"
        },
        {
         "legendgroup": "Amy Klobuchar",
         "line": {
          "color": "#00CC96",
          "shape": "spline"
         },
         "mode": "lines",
         "name": "Amy Klobuchar Polling Avg",
         "type": "scatter",
         "x": [
          "2019-01-31T00:00:00",
          "2019-02-28T00:00:00",
          "2019-03-31T00:00:00",
          "2019-04-30T00:00:00",
          "2019-05-31T00:00:00",
          "2019-06-30T00:00:00",
          "2019-07-31T00:00:00",
          "2019-08-31T00:00:00",
          "2019-09-30T00:00:00",
          "2019-10-31T00:00:00",
          "2019-11-30T00:00:00",
          "2019-12-31T00:00:00",
          "2020-01-31T00:00:00",
          "2020-02-29T00:00:00",
          "2020-03-31T00:00:00"
         ],
         "xaxis": "x",
         "y": [
          0.04198210598761184,
          0.04807924619473303,
          0.05291005291005291,
          0.04413702239789196,
          0.04357298474945534,
          0.04447801275595838,
          0.04188321614185264,
          0.03882772984230884,
          0.04743390357698289,
          0.05406976744186046,
          0.055228426395939084,
          0.05280064244127685,
          0.06982823002240478,
          0.09218436873747494,
          0
         ],
         "yaxis": "y"
        },
        {
         "legendgroup": "Elizabeth Warren",
         "line": {
          "color": "#AB63FA",
          "dash": "dash",
          "shape": "spline"
         },
         "mode": "lines",
         "name": "ElizabethWarren Subreddit Comments",
         "type": "scatter",
         "x": [
          "2019-01-01T00:00:00",
          "2019-02-01T00:00:00",
          "2019-03-01T00:00:00",
          "2019-04-01T00:00:00",
          "2019-05-01T00:00:00",
          "2019-06-01T00:00:00",
          "2019-07-01T00:00:00",
          "2019-08-01T00:00:00",
          "2019-09-01T00:00:00",
          "2019-10-01T00:00:00",
          "2019-11-01T00:00:00",
          "2019-12-01T00:00:00"
         ],
         "xaxis": "x",
         "y": [
          454,
          445,
          366,
          1561,
          2921,
          7242,
          7370,
          8759,
          13839,
          19781,
          17708,
          11451
         ],
         "yaxis": "y2"
        },
        {
         "legendgroup": "Elizabeth Warren",
         "line": {
          "color": "#AB63FA",
          "shape": "spline"
         },
         "mode": "lines",
         "name": "Elizabeth Warren Polling Avg",
         "type": "scatter",
         "x": [
          "2019-01-31T00:00:00",
          "2019-02-28T00:00:00",
          "2019-03-31T00:00:00",
          "2019-04-30T00:00:00",
          "2019-05-31T00:00:00",
          "2019-06-30T00:00:00",
          "2019-07-31T00:00:00",
          "2019-08-31T00:00:00",
          "2019-09-30T00:00:00",
          "2019-10-31T00:00:00",
          "2019-11-30T00:00:00",
          "2019-12-31T00:00:00",
          "2020-01-31T00:00:00",
          "2020-02-29T00:00:00",
          "2020-03-31T00:00:00"
         ],
         "xaxis": "x",
         "y": [
          0.12456985547143841,
          0.13723121526938875,
          0.13686067019400353,
          0.12472551602986386,
          0.14079520697167755,
          0.15777106411547498,
          0.17639865484561296,
          0.17643558464742637,
          0.18409797822706064,
          0.18895348837209303,
          0.18111675126903554,
          0.17265609315398514,
          0.16000746825989545,
          0.16372745490981963,
          0
         ],
         "yaxis": "y"
        },
        {
         "legendgroup": "Pete Buttigieg",
         "line": {
          "color": "#FFA15A",
          "dash": "dash",
          "shape": "spline"
         },
         "mode": "lines",
         "name": "Pete_Buttigieg Subreddit Comments",
         "type": "scatter",
         "x": [
          "2019-01-01T00:00:00",
          "2019-02-01T00:00:00",
          "2019-03-01T00:00:00",
          "2019-04-01T00:00:00",
          "2019-05-01T00:00:00",
          "2019-06-01T00:00:00",
          "2019-07-01T00:00:00",
          "2019-08-01T00:00:00",
          "2019-09-01T00:00:00",
          "2019-10-01T00:00:00",
          "2019-11-01T00:00:00",
          "2019-12-01T00:00:00"
         ],
         "xaxis": "x",
         "y": [
          21,
          144,
          12604,
          48305,
          21619,
          27709,
          30785,
          22679,
          24136,
          35638,
          57412,
          73831
         ],
         "yaxis": "y2"
        },
        {
         "legendgroup": "Pete Buttigieg",
         "line": {
          "color": "#FFA15A",
          "shape": "spline"
         },
         "mode": "lines",
         "name": "Pete Buttigieg Polling Avg",
         "type": "scatter",
         "x": [
          "2019-01-31T00:00:00",
          "2019-02-28T00:00:00",
          "2019-03-31T00:00:00",
          "2019-04-30T00:00:00",
          "2019-05-31T00:00:00",
          "2019-06-30T00:00:00",
          "2019-07-31T00:00:00",
          "2019-08-31T00:00:00",
          "2019-09-30T00:00:00",
          "2019-10-31T00:00:00",
          "2019-11-30T00:00:00",
          "2019-12-31T00:00:00",
          "2020-01-31T00:00:00",
          "2020-02-29T00:00:00",
          "2020-03-31T00:00:00"
         ],
         "xaxis": "x",
         "y": [
          0.012388162422573986,
          0.01836192316984779,
          0.039858906525573196,
          0.09003074220465525,
          0.09313725490196079,
          0.0931520644511581,
          0.09293793946805258,
          0.09654864623623921,
          0.0942846034214619,
          0.09709302325581395,
          0.10091370558375634,
          0.10279060429632604,
          0.10268857356235997,
          0.1432865731462926,
          0
         ],
         "yaxis": "y"
        },
        {
         "legendgroup": "Andrew Yang",
         "line": {
          "color": "#19D3F3",
          "dash": "dash",
          "shape": "spline"
         },
         "mode": "lines",
         "name": "YangForPresidentHQ Subreddit Comments",
         "type": "scatter",
         "x": [
          "2019-01-01T00:00:00",
          "2019-02-01T00:00:00",
          "2019-03-01T00:00:00",
          "2019-04-01T00:00:00",
          "2019-05-01T00:00:00",
          "2019-06-01T00:00:00",
          "2019-07-01T00:00:00",
          "2019-08-01T00:00:00",
          "2019-09-01T00:00:00",
          "2019-10-01T00:00:00",
          "2019-11-01T00:00:00",
          "2019-12-01T00:00:00"
         ],
         "xaxis": "x",
         "y": [
          95,
          3138,
          43978,
          53512,
          30442,
          62914,
          79167,
          176906,
          189596,
          165746,
          155684,
          225756
         ],
         "yaxis": "y2"
        },
        {
         "legendgroup": "Andrew Yang",
         "line": {
          "color": "#19D3F3",
          "shape": "spline"
         },
         "mode": "lines",
         "name": "Andrew Yang Polling Avg",
         "type": "scatter",
         "x": [
          "2019-01-31T00:00:00",
          "2019-02-28T00:00:00",
          "2019-03-31T00:00:00",
          "2019-04-30T00:00:00",
          "2019-05-31T00:00:00",
          "2019-06-30T00:00:00",
          "2019-07-31T00:00:00",
          "2019-08-31T00:00:00",
          "2019-09-30T00:00:00",
          "2019-10-31T00:00:00",
          "2019-11-30T00:00:00",
          "2019-12-31T00:00:00",
          "2020-01-31T00:00:00",
          "2020-02-29T00:00:00",
          "2020-03-31T00:00:00"
         ],
         "xaxis": "x",
         "y": [
          0,
          0,
          0.015873015873015872,
          0.028765920070267896,
          0.03867102396514161,
          0.04380664652567976,
          0.047386120452461024,
          0.06233263909550729,
          0.0812597200622084,
          0.09186046511627907,
          0.08730964467005076,
          0.10078297530616342,
          0.11389096340552651,
          0.03767535070140281,
          0
         ],
         "yaxis": "y"
        }
       ],
       "layout": {
        "font": {
         "size": 14
        },
        "legend": {
         "orientation": "v",
         "x": 1.1,
         "xanchor": "left",
         "y": 1
        },
        "template": {
         "data": {
          "bar": [
           {
            "error_x": {
             "color": "rgb(36,36,36)"
            },
            "error_y": {
             "color": "rgb(36,36,36)"
            },
            "marker": {
             "line": {
              "color": "white",
              "width": 0.5
             }
            },
            "type": "bar"
           }
          ],
          "barpolar": [
           {
            "marker": {
             "line": {
              "color": "white",
              "width": 0.5
             }
            },
            "type": "barpolar"
           }
          ],
          "carpet": [
           {
            "aaxis": {
             "endlinecolor": "rgb(36,36,36)",
             "gridcolor": "white",
             "linecolor": "white",
             "minorgridcolor": "white",
             "startlinecolor": "rgb(36,36,36)"
            },
            "baxis": {
             "endlinecolor": "rgb(36,36,36)",
             "gridcolor": "white",
             "linecolor": "white",
             "minorgridcolor": "white",
             "startlinecolor": "rgb(36,36,36)"
            },
            "type": "carpet"
           }
          ],
          "choropleth": [
           {
            "colorbar": {
             "outlinewidth": 1,
             "tickcolor": "rgb(36,36,36)",
             "ticks": "outside"
            },
            "type": "choropleth"
           }
          ],
          "contour": [
           {
            "colorbar": {
             "outlinewidth": 1,
             "tickcolor": "rgb(36,36,36)",
             "ticks": "outside"
            },
            "colorscale": [
             [
              0,
              "#440154"
             ],
             [
              0.1111111111111111,
              "#482878"
             ],
             [
              0.2222222222222222,
              "#3e4989"
             ],
             [
              0.3333333333333333,
              "#31688e"
             ],
             [
              0.4444444444444444,
              "#26828e"
             ],
             [
              0.5555555555555556,
              "#1f9e89"
             ],
             [
              0.6666666666666666,
              "#35b779"
             ],
             [
              0.7777777777777778,
              "#6ece58"
             ],
             [
              0.8888888888888888,
              "#b5de2b"
             ],
             [
              1,
              "#fde725"
             ]
            ],
            "type": "contour"
           }
          ],
          "contourcarpet": [
           {
            "colorbar": {
             "outlinewidth": 1,
             "tickcolor": "rgb(36,36,36)",
             "ticks": "outside"
            },
            "type": "contourcarpet"
           }
          ],
          "heatmap": [
           {
            "colorbar": {
             "outlinewidth": 1,
             "tickcolor": "rgb(36,36,36)",
             "ticks": "outside"
            },
            "colorscale": [
             [
              0,
              "#440154"
             ],
             [
              0.1111111111111111,
              "#482878"
             ],
             [
              0.2222222222222222,
              "#3e4989"
             ],
             [
              0.3333333333333333,
              "#31688e"
             ],
             [
              0.4444444444444444,
              "#26828e"
             ],
             [
              0.5555555555555556,
              "#1f9e89"
             ],
             [
              0.6666666666666666,
              "#35b779"
             ],
             [
              0.7777777777777778,
              "#6ece58"
             ],
             [
              0.8888888888888888,
              "#b5de2b"
             ],
             [
              1,
              "#fde725"
             ]
            ],
            "type": "heatmap"
           }
          ],
          "heatmapgl": [
           {
            "colorbar": {
             "outlinewidth": 1,
             "tickcolor": "rgb(36,36,36)",
             "ticks": "outside"
            },
            "colorscale": [
             [
              0,
              "#440154"
             ],
             [
              0.1111111111111111,
              "#482878"
             ],
             [
              0.2222222222222222,
              "#3e4989"
             ],
             [
              0.3333333333333333,
              "#31688e"
             ],
             [
              0.4444444444444444,
              "#26828e"
             ],
             [
              0.5555555555555556,
              "#1f9e89"
             ],
             [
              0.6666666666666666,
              "#35b779"
             ],
             [
              0.7777777777777778,
              "#6ece58"
             ],
             [
              0.8888888888888888,
              "#b5de2b"
             ],
             [
              1,
              "#fde725"
             ]
            ],
            "type": "heatmapgl"
           }
          ],
          "histogram": [
           {
            "marker": {
             "line": {
              "color": "white",
              "width": 0.6
             }
            },
            "type": "histogram"
           }
          ],
          "histogram2d": [
           {
            "colorbar": {
             "outlinewidth": 1,
             "tickcolor": "rgb(36,36,36)",
             "ticks": "outside"
            },
            "colorscale": [
             [
              0,
              "#440154"
             ],
             [
              0.1111111111111111,
              "#482878"
             ],
             [
              0.2222222222222222,
              "#3e4989"
             ],
             [
              0.3333333333333333,
              "#31688e"
             ],
             [
              0.4444444444444444,
              "#26828e"
             ],
             [
              0.5555555555555556,
              "#1f9e89"
             ],
             [
              0.6666666666666666,
              "#35b779"
             ],
             [
              0.7777777777777778,
              "#6ece58"
             ],
             [
              0.8888888888888888,
              "#b5de2b"
             ],
             [
              1,
              "#fde725"
             ]
            ],
            "type": "histogram2d"
           }
          ],
          "histogram2dcontour": [
           {
            "colorbar": {
             "outlinewidth": 1,
             "tickcolor": "rgb(36,36,36)",
             "ticks": "outside"
            },
            "colorscale": [
             [
              0,
              "#440154"
             ],
             [
              0.1111111111111111,
              "#482878"
             ],
             [
              0.2222222222222222,
              "#3e4989"
             ],
             [
              0.3333333333333333,
              "#31688e"
             ],
             [
              0.4444444444444444,
              "#26828e"
             ],
             [
              0.5555555555555556,
              "#1f9e89"
             ],
             [
              0.6666666666666666,
              "#35b779"
             ],
             [
              0.7777777777777778,
              "#6ece58"
             ],
             [
              0.8888888888888888,
              "#b5de2b"
             ],
             [
              1,
              "#fde725"
             ]
            ],
            "type": "histogram2dcontour"
           }
          ],
          "mesh3d": [
           {
            "colorbar": {
             "outlinewidth": 1,
             "tickcolor": "rgb(36,36,36)",
             "ticks": "outside"
            },
            "type": "mesh3d"
           }
          ],
          "parcoords": [
           {
            "line": {
             "colorbar": {
              "outlinewidth": 1,
              "tickcolor": "rgb(36,36,36)",
              "ticks": "outside"
             }
            },
            "type": "parcoords"
           }
          ],
          "pie": [
           {
            "automargin": true,
            "type": "pie"
           }
          ],
          "scatter": [
           {
            "marker": {
             "colorbar": {
              "outlinewidth": 1,
              "tickcolor": "rgb(36,36,36)",
              "ticks": "outside"
             }
            },
            "type": "scatter"
           }
          ],
          "scatter3d": [
           {
            "line": {
             "colorbar": {
              "outlinewidth": 1,
              "tickcolor": "rgb(36,36,36)",
              "ticks": "outside"
             }
            },
            "marker": {
             "colorbar": {
              "outlinewidth": 1,
              "tickcolor": "rgb(36,36,36)",
              "ticks": "outside"
             }
            },
            "type": "scatter3d"
           }
          ],
          "scattercarpet": [
           {
            "marker": {
             "colorbar": {
              "outlinewidth": 1,
              "tickcolor": "rgb(36,36,36)",
              "ticks": "outside"
             }
            },
            "type": "scattercarpet"
           }
          ],
          "scattergeo": [
           {
            "marker": {
             "colorbar": {
              "outlinewidth": 1,
              "tickcolor": "rgb(36,36,36)",
              "ticks": "outside"
             }
            },
            "type": "scattergeo"
           }
          ],
          "scattergl": [
           {
            "marker": {
             "colorbar": {
              "outlinewidth": 1,
              "tickcolor": "rgb(36,36,36)",
              "ticks": "outside"
             }
            },
            "type": "scattergl"
           }
          ],
          "scattermapbox": [
           {
            "marker": {
             "colorbar": {
              "outlinewidth": 1,
              "tickcolor": "rgb(36,36,36)",
              "ticks": "outside"
             }
            },
            "type": "scattermapbox"
           }
          ],
          "scatterpolar": [
           {
            "marker": {
             "colorbar": {
              "outlinewidth": 1,
              "tickcolor": "rgb(36,36,36)",
              "ticks": "outside"
             }
            },
            "type": "scatterpolar"
           }
          ],
          "scatterpolargl": [
           {
            "marker": {
             "colorbar": {
              "outlinewidth": 1,
              "tickcolor": "rgb(36,36,36)",
              "ticks": "outside"
             }
            },
            "type": "scatterpolargl"
           }
          ],
          "scatterternary": [
           {
            "marker": {
             "colorbar": {
              "outlinewidth": 1,
              "tickcolor": "rgb(36,36,36)",
              "ticks": "outside"
             }
            },
            "type": "scatterternary"
           }
          ],
          "surface": [
           {
            "colorbar": {
             "outlinewidth": 1,
             "tickcolor": "rgb(36,36,36)",
             "ticks": "outside"
            },
            "colorscale": [
             [
              0,
              "#440154"
             ],
             [
              0.1111111111111111,
              "#482878"
             ],
             [
              0.2222222222222222,
              "#3e4989"
             ],
             [
              0.3333333333333333,
              "#31688e"
             ],
             [
              0.4444444444444444,
              "#26828e"
             ],
             [
              0.5555555555555556,
              "#1f9e89"
             ],
             [
              0.6666666666666666,
              "#35b779"
             ],
             [
              0.7777777777777778,
              "#6ece58"
             ],
             [
              0.8888888888888888,
              "#b5de2b"
             ],
             [
              1,
              "#fde725"
             ]
            ],
            "type": "surface"
           }
          ],
          "table": [
           {
            "cells": {
             "fill": {
              "color": "rgb(237,237,237)"
             },
             "line": {
              "color": "white"
             }
            },
            "header": {
             "fill": {
              "color": "rgb(217,217,217)"
             },
             "line": {
              "color": "white"
             }
            },
            "type": "table"
           }
          ]
         },
         "layout": {
          "annotationdefaults": {
           "arrowhead": 0,
           "arrowwidth": 1
          },
          "coloraxis": {
           "colorbar": {
            "outlinewidth": 1,
            "tickcolor": "rgb(36,36,36)",
            "ticks": "outside"
           }
          },
          "colorscale": {
           "diverging": [
            [
             0,
             "rgb(103,0,31)"
            ],
            [
             0.1,
             "rgb(178,24,43)"
            ],
            [
             0.2,
             "rgb(214,96,77)"
            ],
            [
             0.3,
             "rgb(244,165,130)"
            ],
            [
             0.4,
             "rgb(253,219,199)"
            ],
            [
             0.5,
             "rgb(247,247,247)"
            ],
            [
             0.6,
             "rgb(209,229,240)"
            ],
            [
             0.7,
             "rgb(146,197,222)"
            ],
            [
             0.8,
             "rgb(67,147,195)"
            ],
            [
             0.9,
             "rgb(33,102,172)"
            ],
            [
             1,
             "rgb(5,48,97)"
            ]
           ],
           "sequential": [
            [
             0,
             "#440154"
            ],
            [
             0.1111111111111111,
             "#482878"
            ],
            [
             0.2222222222222222,
             "#3e4989"
            ],
            [
             0.3333333333333333,
             "#31688e"
            ],
            [
             0.4444444444444444,
             "#26828e"
            ],
            [
             0.5555555555555556,
             "#1f9e89"
            ],
            [
             0.6666666666666666,
             "#35b779"
            ],
            [
             0.7777777777777778,
             "#6ece58"
            ],
            [
             0.8888888888888888,
             "#b5de2b"
            ],
            [
             1,
             "#fde725"
            ]
           ],
           "sequentialminus": [
            [
             0,
             "#440154"
            ],
            [
             0.1111111111111111,
             "#482878"
            ],
            [
             0.2222222222222222,
             "#3e4989"
            ],
            [
             0.3333333333333333,
             "#31688e"
            ],
            [
             0.4444444444444444,
             "#26828e"
            ],
            [
             0.5555555555555556,
             "#1f9e89"
            ],
            [
             0.6666666666666666,
             "#35b779"
            ],
            [
             0.7777777777777778,
             "#6ece58"
            ],
            [
             0.8888888888888888,
             "#b5de2b"
            ],
            [
             1,
             "#fde725"
            ]
           ]
          },
          "colorway": [
           "#1F77B4",
           "#FF7F0E",
           "#2CA02C",
           "#D62728",
           "#9467BD",
           "#8C564B",
           "#E377C2",
           "#7F7F7F",
           "#BCBD22",
           "#17BECF"
          ],
          "font": {
           "color": "rgb(36,36,36)"
          },
          "geo": {
           "bgcolor": "white",
           "lakecolor": "white",
           "landcolor": "white",
           "showlakes": true,
           "showland": true,
           "subunitcolor": "white"
          },
          "hoverlabel": {
           "align": "left"
          },
          "hovermode": "closest",
          "mapbox": {
           "style": "light"
          },
          "paper_bgcolor": "white",
          "plot_bgcolor": "white",
          "polar": {
           "angularaxis": {
            "gridcolor": "rgb(232,232,232)",
            "linecolor": "rgb(36,36,36)",
            "showgrid": false,
            "showline": true,
            "ticks": "outside"
           },
           "bgcolor": "white",
           "radialaxis": {
            "gridcolor": "rgb(232,232,232)",
            "linecolor": "rgb(36,36,36)",
            "showgrid": false,
            "showline": true,
            "ticks": "outside"
           }
          },
          "scene": {
           "xaxis": {
            "backgroundcolor": "white",
            "gridcolor": "rgb(232,232,232)",
            "gridwidth": 2,
            "linecolor": "rgb(36,36,36)",
            "showbackground": true,
            "showgrid": false,
            "showline": true,
            "ticks": "outside",
            "zeroline": false,
            "zerolinecolor": "rgb(36,36,36)"
           },
           "yaxis": {
            "backgroundcolor": "white",
            "gridcolor": "rgb(232,232,232)",
            "gridwidth": 2,
            "linecolor": "rgb(36,36,36)",
            "showbackground": true,
            "showgrid": false,
            "showline": true,
            "ticks": "outside",
            "zeroline": false,
            "zerolinecolor": "rgb(36,36,36)"
           },
           "zaxis": {
            "backgroundcolor": "white",
            "gridcolor": "rgb(232,232,232)",
            "gridwidth": 2,
            "linecolor": "rgb(36,36,36)",
            "showbackground": true,
            "showgrid": false,
            "showline": true,
            "ticks": "outside",
            "zeroline": false,
            "zerolinecolor": "rgb(36,36,36)"
           }
          },
          "shapedefaults": {
           "fillcolor": "black",
           "line": {
            "width": 0
           },
           "opacity": 0.3
          },
          "ternary": {
           "aaxis": {
            "gridcolor": "rgb(232,232,232)",
            "linecolor": "rgb(36,36,36)",
            "showgrid": false,
            "showline": true,
            "ticks": "outside"
           },
           "baxis": {
            "gridcolor": "rgb(232,232,232)",
            "linecolor": "rgb(36,36,36)",
            "showgrid": false,
            "showline": true,
            "ticks": "outside"
           },
           "bgcolor": "white",
           "caxis": {
            "gridcolor": "rgb(232,232,232)",
            "linecolor": "rgb(36,36,36)",
            "showgrid": false,
            "showline": true,
            "ticks": "outside"
           }
          },
          "title": {
           "x": 0.05
          },
          "xaxis": {
           "automargin": true,
           "gridcolor": "rgb(232,232,232)",
           "linecolor": "rgb(36,36,36)",
           "showgrid": false,
           "showline": true,
           "ticks": "outside",
           "title": {
            "standoff": 15
           },
           "zeroline": false,
           "zerolinecolor": "rgb(36,36,36)"
          },
          "yaxis": {
           "automargin": true,
           "gridcolor": "rgb(232,232,232)",
           "linecolor": "rgb(36,36,36)",
           "showgrid": false,
           "showline": true,
           "ticks": "outside",
           "title": {
            "standoff": 15
           },
           "zeroline": false,
           "zerolinecolor": "rgb(36,36,36)"
          }
         }
        },
        "title": {
         "text": "Dual Axis - Subreddit Comments and Candidate Favourability"
        },
        "xaxis": {
         "anchor": "y",
         "domain": [
          0,
          0.94
         ],
         "title": {
          "text": "Date"
         }
        },
        "yaxis": {
         "anchor": "x",
         "domain": [
          0,
          1
         ],
         "title": {
          "text": "<b>Candidate</b> Favourability"
         }
        },
        "yaxis2": {
         "anchor": "x",
         "overlaying": "y",
         "side": "right",
         "title": {
          "text": "<b>Subreddit</b> Comments"
         }
        }
       }
      },
      "text/html": [
       "<div>\n",
       "        \n",
       "        \n",
       "            <div id=\"bf53532a-a6c8-421a-a52e-1f2134fc2ff6\" class=\"plotly-graph-div\" style=\"height:525px; width:100%;\"></div>\n",
       "            <script type=\"text/javascript\">\n",
       "                require([\"plotly\"], function(Plotly) {\n",
       "                    window.PLOTLYENV=window.PLOTLYENV || {};\n",
       "                    \n",
       "                if (document.getElementById(\"bf53532a-a6c8-421a-a52e-1f2134fc2ff6\")) {\n",
       "                    Plotly.newPlot(\n",
       "                        'bf53532a-a6c8-421a-a52e-1f2134fc2ff6',\n",
       "                        [{\"legendgroup\": \"Joe Biden\", \"line\": {\"color\": \"#636EFA\", \"dash\": \"dash\", \"shape\": \"spline\"}, \"mode\": \"lines\", \"name\": \"JoeBiden Subreddit Comments\", \"type\": \"scatter\", \"x\": [\"2019-01-01T00:00:00\", \"2019-02-01T00:00:00\", \"2019-03-01T00:00:00\", \"2019-04-01T00:00:00\", \"2019-05-01T00:00:00\", \"2019-06-01T00:00:00\", \"2019-07-01T00:00:00\", \"2019-08-01T00:00:00\", \"2019-09-01T00:00:00\", \"2019-10-01T00:00:00\", \"2019-11-01T00:00:00\", \"2019-12-01T00:00:00\"], \"xaxis\": \"x\", \"y\": [1, 11, 36, 839, 1414, 1531, 1037, 1825, 1912, 1156, 1716, 3825], \"yaxis\": \"y2\"}, {\"legendgroup\": \"Joe Biden\", \"line\": {\"color\": \"#636EFA\", \"shape\": \"spline\"}, \"mode\": \"lines\", \"name\": \"Joe Biden Polling Avg\", \"type\": \"scatter\", \"x\": [\"2019-01-31T00:00:00\", \"2019-02-28T00:00:00\", \"2019-03-31T00:00:00\", \"2019-04-30T00:00:00\", \"2019-05-31T00:00:00\", \"2019-06-30T00:00:00\", \"2019-07-31T00:00:00\", \"2019-08-31T00:00:00\", \"2019-09-30T00:00:00\", \"2019-10-31T00:00:00\", \"2019-11-30T00:00:00\", \"2019-12-31T00:00:00\", \"2020-01-31T00:00:00\", \"2020-02-29T00:00:00\", \"2020-03-31T00:00:00\"], \"xaxis\": \"x\", \"y\": [0.2814865794907089, 0.3145687364097608, 0.30970017636684305, 0.2845849802371542, 0.292755991285403, 0.27526015441423296, 0.26872516050137574, 0.24843796489140138, 0.24300155520995334, 0.22868217054263565, 0.2298477157360406, 0.21682393093756275, 0.21359223300970873, 0.19458917835671344, 0.4875886524822695], \"yaxis\": \"y\"}, {\"legendgroup\": \"Bernie Sanders\", \"line\": {\"color\": \"#EF553B\", \"dash\": \"dash\", \"shape\": \"spline\"}, \"mode\": \"lines\", \"name\": \"SandersForPresident Subreddit Comments\", \"type\": \"scatter\", \"x\": [\"2019-01-01T00:00:00\", \"2019-02-01T00:00:00\", \"2019-03-01T00:00:00\", \"2019-04-01T00:00:00\", \"2019-05-01T00:00:00\", \"2019-06-01T00:00:00\", \"2019-07-01T00:00:00\", \"2019-08-01T00:00:00\", \"2019-09-01T00:00:00\", \"2019-10-01T00:00:00\", \"2019-11-01T00:00:00\", \"2019-12-01T00:00:00\"], \"xaxis\": \"x\", \"y\": [22016, 56683, 67497, 64758, 37354, 71863, 57860, 86820, 79887, 87907, 71442, 90414], \"yaxis\": \"y2\"}, {\"legendgroup\": \"Bernie Sanders\", \"line\": {\"color\": \"#EF553B\", \"shape\": \"spline\"}, \"mode\": \"lines\", \"name\": \"Bernie Sanders Polling Avg\", \"type\": \"scatter\", \"x\": [\"2019-01-31T00:00:00\", \"2019-02-28T00:00:00\", \"2019-03-31T00:00:00\", \"2019-04-30T00:00:00\", \"2019-05-31T00:00:00\", \"2019-06-30T00:00:00\", \"2019-07-31T00:00:00\", \"2019-08-31T00:00:00\", \"2019-09-30T00:00:00\", \"2019-10-31T00:00:00\", \"2019-11-30T00:00:00\", \"2019-12-31T00:00:00\", \"2020-01-31T00:00:00\", \"2020-02-29T00:00:00\", \"2020-03-31T00:00:00\"], \"xaxis\": \"x\", \"y\": [0.24088093599449414, 0.24861077554964967, 0.24761904761904763, 0.23715415019762845, 0.21922657952069716, 0.22054380664652568, 0.21094466523998778, 0.22433799464445106, 0.20820373250388802, 0.21201550387596899, 0.20588832487309644, 0.22565749849427827, 0.22180731889469754, 0.2470941883767535, 0.399822695035461], \"yaxis\": \"y\"}, {\"legendgroup\": \"Amy Klobuchar\", \"line\": {\"color\": \"#00CC96\", \"dash\": \"dash\", \"shape\": \"spline\"}, \"mode\": \"lines\", \"name\": \"BaemyKlobaechar Subreddit Comments\", \"type\": \"scatter\", \"x\": [\"2019-01-01T00:00:00\", \"2019-02-01T00:00:00\", \"2019-03-01T00:00:00\", \"2019-04-01T00:00:00\", \"2019-05-01T00:00:00\", \"2019-06-01T00:00:00\", \"2019-07-01T00:00:00\", \"2019-08-01T00:00:00\", \"2019-09-01T00:00:00\", \"2019-10-01T00:00:00\", \"2019-11-01T00:00:00\", \"2019-12-01T00:00:00\"], \"xaxis\": \"x\", \"y\": [101, 239, 28, 31, 13, 47, 22, 107, 136, 139, 82, 211], \"yaxis\": \"y2\"}, {\"legendgroup\": \"Amy Klobuchar\", \"line\": {\"color\": \"#00CC96\", \"shape\": \"spline\"}, \"mode\": \"lines\", \"name\": \"Amy Klobuchar Polling Avg\", \"type\": \"scatter\", \"x\": [\"2019-01-31T00:00:00\", \"2019-02-28T00:00:00\", \"2019-03-31T00:00:00\", \"2019-04-30T00:00:00\", \"2019-05-31T00:00:00\", \"2019-06-30T00:00:00\", \"2019-07-31T00:00:00\", \"2019-08-31T00:00:00\", \"2019-09-30T00:00:00\", \"2019-10-31T00:00:00\", \"2019-11-30T00:00:00\", \"2019-12-31T00:00:00\", \"2020-01-31T00:00:00\", \"2020-02-29T00:00:00\", \"2020-03-31T00:00:00\"], \"xaxis\": \"x\", \"y\": [0.04198210598761184, 0.04807924619473303, 0.05291005291005291, 0.04413702239789196, 0.04357298474945534, 0.04447801275595838, 0.04188321614185264, 0.03882772984230884, 0.04743390357698289, 0.05406976744186046, 0.055228426395939084, 0.05280064244127685, 0.06982823002240478, 0.09218436873747494, 0.0], \"yaxis\": \"y\"}, {\"legendgroup\": \"Elizabeth Warren\", \"line\": {\"color\": \"#AB63FA\", \"dash\": \"dash\", \"shape\": \"spline\"}, \"mode\": \"lines\", \"name\": \"ElizabethWarren Subreddit Comments\", \"type\": \"scatter\", \"x\": [\"2019-01-01T00:00:00\", \"2019-02-01T00:00:00\", \"2019-03-01T00:00:00\", \"2019-04-01T00:00:00\", \"2019-05-01T00:00:00\", \"2019-06-01T00:00:00\", \"2019-07-01T00:00:00\", \"2019-08-01T00:00:00\", \"2019-09-01T00:00:00\", \"2019-10-01T00:00:00\", \"2019-11-01T00:00:00\", \"2019-12-01T00:00:00\"], \"xaxis\": \"x\", \"y\": [454, 445, 366, 1561, 2921, 7242, 7370, 8759, 13839, 19781, 17708, 11451], \"yaxis\": \"y2\"}, {\"legendgroup\": \"Elizabeth Warren\", \"line\": {\"color\": \"#AB63FA\", \"shape\": \"spline\"}, \"mode\": \"lines\", \"name\": \"Elizabeth Warren Polling Avg\", \"type\": \"scatter\", \"x\": [\"2019-01-31T00:00:00\", \"2019-02-28T00:00:00\", \"2019-03-31T00:00:00\", \"2019-04-30T00:00:00\", \"2019-05-31T00:00:00\", \"2019-06-30T00:00:00\", \"2019-07-31T00:00:00\", \"2019-08-31T00:00:00\", \"2019-09-30T00:00:00\", \"2019-10-31T00:00:00\", \"2019-11-30T00:00:00\", \"2019-12-31T00:00:00\", \"2020-01-31T00:00:00\", \"2020-02-29T00:00:00\", \"2020-03-31T00:00:00\"], \"xaxis\": \"x\", \"y\": [0.12456985547143841, 0.13723121526938875, 0.13686067019400353, 0.12472551602986386, 0.14079520697167755, 0.15777106411547498, 0.17639865484561296, 0.17643558464742637, 0.18409797822706064, 0.18895348837209303, 0.18111675126903554, 0.17265609315398514, 0.16000746825989545, 0.16372745490981963, 0.0], \"yaxis\": \"y\"}, {\"legendgroup\": \"Pete Buttigieg\", \"line\": {\"color\": \"#FFA15A\", \"dash\": \"dash\", \"shape\": \"spline\"}, \"mode\": \"lines\", \"name\": \"Pete_Buttigieg Subreddit Comments\", \"type\": \"scatter\", \"x\": [\"2019-01-01T00:00:00\", \"2019-02-01T00:00:00\", \"2019-03-01T00:00:00\", \"2019-04-01T00:00:00\", \"2019-05-01T00:00:00\", \"2019-06-01T00:00:00\", \"2019-07-01T00:00:00\", \"2019-08-01T00:00:00\", \"2019-09-01T00:00:00\", \"2019-10-01T00:00:00\", \"2019-11-01T00:00:00\", \"2019-12-01T00:00:00\"], \"xaxis\": \"x\", \"y\": [21, 144, 12604, 48305, 21619, 27709, 30785, 22679, 24136, 35638, 57412, 73831], \"yaxis\": \"y2\"}, {\"legendgroup\": \"Pete Buttigieg\", \"line\": {\"color\": \"#FFA15A\", \"shape\": \"spline\"}, \"mode\": \"lines\", \"name\": \"Pete Buttigieg Polling Avg\", \"type\": \"scatter\", \"x\": [\"2019-01-31T00:00:00\", \"2019-02-28T00:00:00\", \"2019-03-31T00:00:00\", \"2019-04-30T00:00:00\", \"2019-05-31T00:00:00\", \"2019-06-30T00:00:00\", \"2019-07-31T00:00:00\", \"2019-08-31T00:00:00\", \"2019-09-30T00:00:00\", \"2019-10-31T00:00:00\", \"2019-11-30T00:00:00\", \"2019-12-31T00:00:00\", \"2020-01-31T00:00:00\", \"2020-02-29T00:00:00\", \"2020-03-31T00:00:00\"], \"xaxis\": \"x\", \"y\": [0.012388162422573986, 0.01836192316984779, 0.039858906525573196, 0.09003074220465525, 0.09313725490196079, 0.0931520644511581, 0.09293793946805258, 0.09654864623623921, 0.0942846034214619, 0.09709302325581395, 0.10091370558375634, 0.10279060429632604, 0.10268857356235997, 0.1432865731462926, 0.0], \"yaxis\": \"y\"}, {\"legendgroup\": \"Andrew Yang\", \"line\": {\"color\": \"#19D3F3\", \"dash\": \"dash\", \"shape\": \"spline\"}, \"mode\": \"lines\", \"name\": \"YangForPresidentHQ Subreddit Comments\", \"type\": \"scatter\", \"x\": [\"2019-01-01T00:00:00\", \"2019-02-01T00:00:00\", \"2019-03-01T00:00:00\", \"2019-04-01T00:00:00\", \"2019-05-01T00:00:00\", \"2019-06-01T00:00:00\", \"2019-07-01T00:00:00\", \"2019-08-01T00:00:00\", \"2019-09-01T00:00:00\", \"2019-10-01T00:00:00\", \"2019-11-01T00:00:00\", \"2019-12-01T00:00:00\"], \"xaxis\": \"x\", \"y\": [95, 3138, 43978, 53512, 30442, 62914, 79167, 176906, 189596, 165746, 155684, 225756], \"yaxis\": \"y2\"}, {\"legendgroup\": \"Andrew Yang\", \"line\": {\"color\": \"#19D3F3\", \"shape\": \"spline\"}, \"mode\": \"lines\", \"name\": \"Andrew Yang Polling Avg\", \"type\": \"scatter\", \"x\": [\"2019-01-31T00:00:00\", \"2019-02-28T00:00:00\", \"2019-03-31T00:00:00\", \"2019-04-30T00:00:00\", \"2019-05-31T00:00:00\", \"2019-06-30T00:00:00\", \"2019-07-31T00:00:00\", \"2019-08-31T00:00:00\", \"2019-09-30T00:00:00\", \"2019-10-31T00:00:00\", \"2019-11-30T00:00:00\", \"2019-12-31T00:00:00\", \"2020-01-31T00:00:00\", \"2020-02-29T00:00:00\", \"2020-03-31T00:00:00\"], \"xaxis\": \"x\", \"y\": [0.0, 0.0, 0.015873015873015872, 0.028765920070267896, 0.03867102396514161, 0.04380664652567976, 0.047386120452461024, 0.06233263909550729, 0.0812597200622084, 0.09186046511627907, 0.08730964467005076, 0.10078297530616342, 0.11389096340552651, 0.03767535070140281, 0.0], \"yaxis\": \"y\"}],\n",
       "                        {\"font\": {\"size\": 14}, \"legend\": {\"orientation\": \"v\", \"x\": 1.1, \"xanchor\": \"left\", \"y\": 1}, \"template\": {\"data\": {\"bar\": [{\"error_x\": {\"color\": \"rgb(36,36,36)\"}, \"error_y\": {\"color\": \"rgb(36,36,36)\"}, \"marker\": {\"line\": {\"color\": \"white\", \"width\": 0.5}}, \"type\": \"bar\"}], \"barpolar\": [{\"marker\": {\"line\": {\"color\": \"white\", \"width\": 0.5}}, \"type\": \"barpolar\"}], \"carpet\": [{\"aaxis\": {\"endlinecolor\": \"rgb(36,36,36)\", \"gridcolor\": \"white\", \"linecolor\": \"white\", \"minorgridcolor\": \"white\", \"startlinecolor\": \"rgb(36,36,36)\"}, \"baxis\": {\"endlinecolor\": \"rgb(36,36,36)\", \"gridcolor\": \"white\", \"linecolor\": \"white\", \"minorgridcolor\": \"white\", \"startlinecolor\": \"rgb(36,36,36)\"}, \"type\": \"carpet\"}], \"choropleth\": [{\"colorbar\": {\"outlinewidth\": 1, \"tickcolor\": \"rgb(36,36,36)\", \"ticks\": \"outside\"}, \"type\": \"choropleth\"}], \"contour\": [{\"colorbar\": {\"outlinewidth\": 1, \"tickcolor\": \"rgb(36,36,36)\", \"ticks\": \"outside\"}, \"colorscale\": [[0.0, \"#440154\"], [0.1111111111111111, \"#482878\"], [0.2222222222222222, \"#3e4989\"], [0.3333333333333333, \"#31688e\"], [0.4444444444444444, \"#26828e\"], [0.5555555555555556, \"#1f9e89\"], [0.6666666666666666, \"#35b779\"], [0.7777777777777778, \"#6ece58\"], [0.8888888888888888, \"#b5de2b\"], [1.0, \"#fde725\"]], \"type\": \"contour\"}], \"contourcarpet\": [{\"colorbar\": {\"outlinewidth\": 1, \"tickcolor\": \"rgb(36,36,36)\", \"ticks\": \"outside\"}, \"type\": \"contourcarpet\"}], \"heatmap\": [{\"colorbar\": {\"outlinewidth\": 1, \"tickcolor\": \"rgb(36,36,36)\", \"ticks\": \"outside\"}, \"colorscale\": [[0.0, \"#440154\"], [0.1111111111111111, \"#482878\"], [0.2222222222222222, \"#3e4989\"], [0.3333333333333333, \"#31688e\"], [0.4444444444444444, \"#26828e\"], [0.5555555555555556, \"#1f9e89\"], [0.6666666666666666, \"#35b779\"], [0.7777777777777778, \"#6ece58\"], [0.8888888888888888, \"#b5de2b\"], [1.0, \"#fde725\"]], \"type\": \"heatmap\"}], \"heatmapgl\": [{\"colorbar\": {\"outlinewidth\": 1, \"tickcolor\": \"rgb(36,36,36)\", \"ticks\": \"outside\"}, \"colorscale\": [[0.0, \"#440154\"], [0.1111111111111111, \"#482878\"], [0.2222222222222222, \"#3e4989\"], [0.3333333333333333, \"#31688e\"], [0.4444444444444444, \"#26828e\"], [0.5555555555555556, \"#1f9e89\"], [0.6666666666666666, \"#35b779\"], [0.7777777777777778, \"#6ece58\"], [0.8888888888888888, \"#b5de2b\"], [1.0, \"#fde725\"]], \"type\": \"heatmapgl\"}], \"histogram\": [{\"marker\": {\"line\": {\"color\": \"white\", \"width\": 0.6}}, \"type\": \"histogram\"}], \"histogram2d\": [{\"colorbar\": {\"outlinewidth\": 1, \"tickcolor\": \"rgb(36,36,36)\", \"ticks\": \"outside\"}, \"colorscale\": [[0.0, \"#440154\"], [0.1111111111111111, \"#482878\"], [0.2222222222222222, \"#3e4989\"], [0.3333333333333333, \"#31688e\"], [0.4444444444444444, \"#26828e\"], [0.5555555555555556, \"#1f9e89\"], [0.6666666666666666, \"#35b779\"], [0.7777777777777778, \"#6ece58\"], [0.8888888888888888, \"#b5de2b\"], [1.0, \"#fde725\"]], \"type\": \"histogram2d\"}], \"histogram2dcontour\": [{\"colorbar\": {\"outlinewidth\": 1, \"tickcolor\": \"rgb(36,36,36)\", \"ticks\": \"outside\"}, \"colorscale\": [[0.0, \"#440154\"], [0.1111111111111111, \"#482878\"], [0.2222222222222222, \"#3e4989\"], [0.3333333333333333, \"#31688e\"], [0.4444444444444444, \"#26828e\"], [0.5555555555555556, \"#1f9e89\"], [0.6666666666666666, \"#35b779\"], [0.7777777777777778, \"#6ece58\"], [0.8888888888888888, \"#b5de2b\"], [1.0, \"#fde725\"]], \"type\": \"histogram2dcontour\"}], \"mesh3d\": [{\"colorbar\": {\"outlinewidth\": 1, \"tickcolor\": \"rgb(36,36,36)\", \"ticks\": \"outside\"}, \"type\": \"mesh3d\"}], \"parcoords\": [{\"line\": {\"colorbar\": {\"outlinewidth\": 1, \"tickcolor\": \"rgb(36,36,36)\", \"ticks\": \"outside\"}}, \"type\": \"parcoords\"}], \"pie\": [{\"automargin\": true, \"type\": \"pie\"}], \"scatter\": [{\"marker\": {\"colorbar\": {\"outlinewidth\": 1, \"tickcolor\": \"rgb(36,36,36)\", \"ticks\": \"outside\"}}, \"type\": \"scatter\"}], \"scatter3d\": [{\"line\": {\"colorbar\": {\"outlinewidth\": 1, \"tickcolor\": \"rgb(36,36,36)\", \"ticks\": \"outside\"}}, \"marker\": {\"colorbar\": {\"outlinewidth\": 1, \"tickcolor\": \"rgb(36,36,36)\", \"ticks\": \"outside\"}}, \"type\": \"scatter3d\"}], \"scattercarpet\": [{\"marker\": {\"colorbar\": {\"outlinewidth\": 1, \"tickcolor\": \"rgb(36,36,36)\", \"ticks\": \"outside\"}}, \"type\": \"scattercarpet\"}], \"scattergeo\": [{\"marker\": {\"colorbar\": {\"outlinewidth\": 1, \"tickcolor\": \"rgb(36,36,36)\", \"ticks\": \"outside\"}}, \"type\": \"scattergeo\"}], \"scattergl\": [{\"marker\": {\"colorbar\": {\"outlinewidth\": 1, \"tickcolor\": \"rgb(36,36,36)\", \"ticks\": \"outside\"}}, \"type\": \"scattergl\"}], \"scattermapbox\": [{\"marker\": {\"colorbar\": {\"outlinewidth\": 1, \"tickcolor\": \"rgb(36,36,36)\", \"ticks\": \"outside\"}}, \"type\": \"scattermapbox\"}], \"scatterpolar\": [{\"marker\": {\"colorbar\": {\"outlinewidth\": 1, \"tickcolor\": \"rgb(36,36,36)\", \"ticks\": \"outside\"}}, \"type\": \"scatterpolar\"}], \"scatterpolargl\": [{\"marker\": {\"colorbar\": {\"outlinewidth\": 1, \"tickcolor\": \"rgb(36,36,36)\", \"ticks\": \"outside\"}}, \"type\": \"scatterpolargl\"}], \"scatterternary\": [{\"marker\": {\"colorbar\": {\"outlinewidth\": 1, \"tickcolor\": \"rgb(36,36,36)\", \"ticks\": \"outside\"}}, \"type\": \"scatterternary\"}], \"surface\": [{\"colorbar\": {\"outlinewidth\": 1, \"tickcolor\": \"rgb(36,36,36)\", \"ticks\": \"outside\"}, \"colorscale\": [[0.0, \"#440154\"], [0.1111111111111111, \"#482878\"], [0.2222222222222222, \"#3e4989\"], [0.3333333333333333, \"#31688e\"], [0.4444444444444444, \"#26828e\"], [0.5555555555555556, \"#1f9e89\"], [0.6666666666666666, \"#35b779\"], [0.7777777777777778, \"#6ece58\"], [0.8888888888888888, \"#b5de2b\"], [1.0, \"#fde725\"]], \"type\": \"surface\"}], \"table\": [{\"cells\": {\"fill\": {\"color\": \"rgb(237,237,237)\"}, \"line\": {\"color\": \"white\"}}, \"header\": {\"fill\": {\"color\": \"rgb(217,217,217)\"}, \"line\": {\"color\": \"white\"}}, \"type\": \"table\"}]}, \"layout\": {\"annotationdefaults\": {\"arrowhead\": 0, \"arrowwidth\": 1}, \"coloraxis\": {\"colorbar\": {\"outlinewidth\": 1, \"tickcolor\": \"rgb(36,36,36)\", \"ticks\": \"outside\"}}, \"colorscale\": {\"diverging\": [[0.0, \"rgb(103,0,31)\"], [0.1, \"rgb(178,24,43)\"], [0.2, \"rgb(214,96,77)\"], [0.3, \"rgb(244,165,130)\"], [0.4, \"rgb(253,219,199)\"], [0.5, \"rgb(247,247,247)\"], [0.6, \"rgb(209,229,240)\"], [0.7, \"rgb(146,197,222)\"], [0.8, \"rgb(67,147,195)\"], [0.9, \"rgb(33,102,172)\"], [1.0, \"rgb(5,48,97)\"]], \"sequential\": [[0.0, \"#440154\"], [0.1111111111111111, \"#482878\"], [0.2222222222222222, \"#3e4989\"], [0.3333333333333333, \"#31688e\"], [0.4444444444444444, \"#26828e\"], [0.5555555555555556, \"#1f9e89\"], [0.6666666666666666, \"#35b779\"], [0.7777777777777778, \"#6ece58\"], [0.8888888888888888, \"#b5de2b\"], [1.0, \"#fde725\"]], \"sequentialminus\": [[0.0, \"#440154\"], [0.1111111111111111, \"#482878\"], [0.2222222222222222, \"#3e4989\"], [0.3333333333333333, \"#31688e\"], [0.4444444444444444, \"#26828e\"], [0.5555555555555556, \"#1f9e89\"], [0.6666666666666666, \"#35b779\"], [0.7777777777777778, \"#6ece58\"], [0.8888888888888888, \"#b5de2b\"], [1.0, \"#fde725\"]]}, \"colorway\": [\"#1F77B4\", \"#FF7F0E\", \"#2CA02C\", \"#D62728\", \"#9467BD\", \"#8C564B\", \"#E377C2\", \"#7F7F7F\", \"#BCBD22\", \"#17BECF\"], \"font\": {\"color\": \"rgb(36,36,36)\"}, \"geo\": {\"bgcolor\": \"white\", \"lakecolor\": \"white\", \"landcolor\": \"white\", \"showlakes\": true, \"showland\": true, \"subunitcolor\": \"white\"}, \"hoverlabel\": {\"align\": \"left\"}, \"hovermode\": \"closest\", \"mapbox\": {\"style\": \"light\"}, \"paper_bgcolor\": \"white\", \"plot_bgcolor\": \"white\", \"polar\": {\"angularaxis\": {\"gridcolor\": \"rgb(232,232,232)\", \"linecolor\": \"rgb(36,36,36)\", \"showgrid\": false, \"showline\": true, \"ticks\": \"outside\"}, \"bgcolor\": \"white\", \"radialaxis\": {\"gridcolor\": \"rgb(232,232,232)\", \"linecolor\": \"rgb(36,36,36)\", \"showgrid\": false, \"showline\": true, \"ticks\": \"outside\"}}, \"scene\": {\"xaxis\": {\"backgroundcolor\": \"white\", \"gridcolor\": \"rgb(232,232,232)\", \"gridwidth\": 2, \"linecolor\": \"rgb(36,36,36)\", \"showbackground\": true, \"showgrid\": false, \"showline\": true, \"ticks\": \"outside\", \"zeroline\": false, \"zerolinecolor\": \"rgb(36,36,36)\"}, \"yaxis\": {\"backgroundcolor\": \"white\", \"gridcolor\": \"rgb(232,232,232)\", \"gridwidth\": 2, \"linecolor\": \"rgb(36,36,36)\", \"showbackground\": true, \"showgrid\": false, \"showline\": true, \"ticks\": \"outside\", \"zeroline\": false, \"zerolinecolor\": \"rgb(36,36,36)\"}, \"zaxis\": {\"backgroundcolor\": \"white\", \"gridcolor\": \"rgb(232,232,232)\", \"gridwidth\": 2, \"linecolor\": \"rgb(36,36,36)\", \"showbackground\": true, \"showgrid\": false, \"showline\": true, \"ticks\": \"outside\", \"zeroline\": false, \"zerolinecolor\": \"rgb(36,36,36)\"}}, \"shapedefaults\": {\"fillcolor\": \"black\", \"line\": {\"width\": 0}, \"opacity\": 0.3}, \"ternary\": {\"aaxis\": {\"gridcolor\": \"rgb(232,232,232)\", \"linecolor\": \"rgb(36,36,36)\", \"showgrid\": false, \"showline\": true, \"ticks\": \"outside\"}, \"baxis\": {\"gridcolor\": \"rgb(232,232,232)\", \"linecolor\": \"rgb(36,36,36)\", \"showgrid\": false, \"showline\": true, \"ticks\": \"outside\"}, \"bgcolor\": \"white\", \"caxis\": {\"gridcolor\": \"rgb(232,232,232)\", \"linecolor\": \"rgb(36,36,36)\", \"showgrid\": false, \"showline\": true, \"ticks\": \"outside\"}}, \"title\": {\"x\": 0.05}, \"xaxis\": {\"automargin\": true, \"gridcolor\": \"rgb(232,232,232)\", \"linecolor\": \"rgb(36,36,36)\", \"showgrid\": false, \"showline\": true, \"ticks\": \"outside\", \"title\": {\"standoff\": 15}, \"zeroline\": false, \"zerolinecolor\": \"rgb(36,36,36)\"}, \"yaxis\": {\"automargin\": true, \"gridcolor\": \"rgb(232,232,232)\", \"linecolor\": \"rgb(36,36,36)\", \"showgrid\": false, \"showline\": true, \"ticks\": \"outside\", \"title\": {\"standoff\": 15}, \"zeroline\": false, \"zerolinecolor\": \"rgb(36,36,36)\"}}}, \"title\": {\"text\": \"Dual Axis - Subreddit Comments and Candidate Favourability\"}, \"xaxis\": {\"anchor\": \"y\", \"domain\": [0.0, 0.94], \"title\": {\"text\": \"Date\"}}, \"yaxis\": {\"anchor\": \"x\", \"domain\": [0.0, 1.0], \"title\": {\"text\": \"<b>Candidate</b> Favourability\"}}, \"yaxis2\": {\"anchor\": \"x\", \"overlaying\": \"y\", \"side\": \"right\", \"title\": {\"text\": \"<b>Subreddit</b> Comments\"}}},\n",
       "                        {\"responsive\": true}\n",
       "                    ).then(function(){\n",
       "                            \n",
       "var gd = document.getElementById('bf53532a-a6c8-421a-a52e-1f2134fc2ff6');\n",
       "var x = new MutationObserver(function (mutations, observer) {{\n",
       "        var display = window.getComputedStyle(gd).display;\n",
       "        if (!display || display === 'none') {{\n",
       "            console.log([gd, 'removed!']);\n",
       "            Plotly.purge(gd);\n",
       "            observer.disconnect();\n",
       "        }}\n",
       "}});\n",
       "\n",
       "// Listen for the removal of the full notebook cells\n",
       "var notebookContainer = gd.closest('#notebook-container');\n",
       "if (notebookContainer) {{\n",
       "    x.observe(notebookContainer, {childList: true});\n",
       "}}\n",
       "\n",
       "// Listen for the clearing of the current output cell\n",
       "var outputEl = gd.closest('.output');\n",
       "if (outputEl) {{\n",
       "    x.observe(outputEl, {childList: true});\n",
       "}}\n",
       "\n",
       "                        })\n",
       "                };\n",
       "                });\n",
       "            </script>\n",
       "        </div>"
      ]
     },
     "metadata": {},
     "output_type": "display_data"
    }
   ],
   "source": [
    "from plotly.subplots import make_subplots\n",
    "# legend_groups = \n",
    "# Create figure with secondary y-axis\n",
    "fig = make_subplots(specs=[[{\"secondary_y\": True}]])\n",
    "# Add subreddit comments\n",
    "for sub,cand,col in zip(left_candidates,pretty_names,concat_col_names):\n",
    "    data = subreddit_comments[subreddit_comments[\"subreddit\"] == sub]\n",
    "    fig.add_trace(\n",
    "        go.Scatter(x=data[\"date\"],\n",
    "                   y=data[\"count\"],\n",
    "                   name=\"{} Subreddit Comments\".format(sub),\n",
    "                   line_shape=\"spline\",\n",
    "                   mode='lines',\n",
    "                   legendgroup=cand,\n",
    "                   line=dict(color=mapping[sub],dash='dash')),\n",
    "        secondary_y=True)\n",
    "    # Add from media coverage\n",
    "    fig.add_trace(go.Scatter(x=polling_agg[\"date\"],\n",
    "                             y=polling_agg[col], \n",
    "                             mode='lines',\n",
    "                             line_shape=\"spline\",\n",
    "                             legendgroup=cand,\n",
    "                             name=\"{} Polling Avg\".format(cand),\n",
    "                             line=dict(color=poll_mapping[cand])\n",
    "                            ),\n",
    "                 secondary_y=False)\n",
    "\n",
    "\n",
    "\n",
    "# Add figure title\n",
    "fig.update_layout(\n",
    "    font=dict(size=14),\n",
    "    title_text=\"Dual Axis - Subreddit Comments and Candidate Favourability\",\n",
    "    template=\"simple_white\",\n",
    "    legend=dict(orientation='v', x=1.1, xanchor='left', y=1),\n",
    ")\n",
    "\n",
    "fig.update_xaxes(title_text=\"Date\")\n",
    "\n",
    "# Set y-axes titles\n",
    "fig.update_yaxes(title_text=\"<b>Candidate</b> Favourability\", secondary_y=False)\n",
    "fig.update_yaxes(title_text=\"<b>Subreddit</b> Comments\", secondary_y=True)\n",
    "# fig.write_html(\"visualizations/temporal/{}_BI_counts_vs_polling_avg.html\".format(TIME_FRAME))\n",
    "fig.show()"
   ]
  },
  {
   "cell_type": "markdown",
   "metadata": {},
   "source": [
    "## Dual Axes - Young"
   ]
  },
  {
   "cell_type": "code",
   "execution_count": 30,
   "metadata": {
    "scrolled": false
   },
   "outputs": [
    {
     "data": {
      "application/vnd.plotly.v1+json": {
       "config": {
        "plotlyServerURL": "https://plot.ly"
       },
       "data": [
        {
         "legendgroup": "Joe Biden",
         "line": {
          "color": "#636EFA",
          "dash": "dash",
          "shape": "spline"
         },
         "mode": "lines",
         "name": "JoeBiden Subreddit Comments",
         "type": "scatter",
         "x": [
          "2019-01-01T00:00:00",
          "2019-02-01T00:00:00",
          "2019-03-01T00:00:00",
          "2019-04-01T00:00:00",
          "2019-05-01T00:00:00",
          "2019-06-01T00:00:00",
          "2019-07-01T00:00:00",
          "2019-08-01T00:00:00",
          "2019-09-01T00:00:00",
          "2019-10-01T00:00:00",
          "2019-11-01T00:00:00",
          "2019-12-01T00:00:00"
         ],
         "xaxis": "x",
         "y": [
          1,
          11,
          36,
          839,
          1414,
          1531,
          1037,
          1825,
          1912,
          1156,
          1716,
          3825
         ],
         "yaxis": "y2"
        },
        {
         "legendgroup": "Joe Biden",
         "line": {
          "color": "#636EFA",
          "shape": "spline"
         },
         "mode": "lines",
         "name": "Joe Biden Polling Avg",
         "type": "scatter",
         "x": [
          "2019-01-31T00:00:00",
          "2019-02-28T00:00:00",
          "2019-03-31T00:00:00",
          "2019-04-30T00:00:00",
          "2019-05-31T00:00:00",
          "2019-06-30T00:00:00",
          "2019-07-31T00:00:00",
          "2019-08-31T00:00:00",
          "2019-09-30T00:00:00",
          "2019-10-31T00:00:00",
          "2019-11-30T00:00:00",
          "2019-12-31T00:00:00",
          "2020-01-31T00:00:00",
          "2020-02-29T00:00:00",
          "2020-03-31T00:00:00"
         ],
         "xaxis": "x",
         "y": [
          0.26342710997442453,
          0.2702970297029703,
          0.2787958115183246,
          0.2396351575456053,
          0.22526817640047675,
          0.23087071240105542,
          0.21328671328671328,
          0.19055287171229202,
          0.1682727946627131,
          0.1836734693877551,
          0.1805993690851735,
          0.18830675778283978,
          0.18356164383561643,
          0.1620016963528414,
          0.3395638629283489
         ],
         "yaxis": "y"
        },
        {
         "legendgroup": "Bernie Sanders",
         "line": {
          "color": "#EF553B",
          "dash": "dash",
          "shape": "spline"
         },
         "mode": "lines",
         "name": "SandersForPresident Subreddit Comments",
         "type": "scatter",
         "x": [
          "2019-01-01T00:00:00",
          "2019-02-01T00:00:00",
          "2019-03-01T00:00:00",
          "2019-04-01T00:00:00",
          "2019-05-01T00:00:00",
          "2019-06-01T00:00:00",
          "2019-07-01T00:00:00",
          "2019-08-01T00:00:00",
          "2019-09-01T00:00:00",
          "2019-10-01T00:00:00",
          "2019-11-01T00:00:00",
          "2019-12-01T00:00:00"
         ],
         "xaxis": "x",
         "y": [
          22016,
          56683,
          67497,
          64758,
          37354,
          71863,
          57860,
          86820,
          79887,
          87907,
          71442,
          90414
         ],
         "yaxis": "y2"
        },
        {
         "legendgroup": "Bernie Sanders",
         "line": {
          "color": "#EF553B",
          "shape": "spline"
         },
         "mode": "lines",
         "name": "Bernie Sanders Polling Avg",
         "type": "scatter",
         "x": [
          "2019-01-31T00:00:00",
          "2019-02-28T00:00:00",
          "2019-03-31T00:00:00",
          "2019-04-30T00:00:00",
          "2019-05-31T00:00:00",
          "2019-06-30T00:00:00",
          "2019-07-31T00:00:00",
          "2019-08-31T00:00:00",
          "2019-09-30T00:00:00",
          "2019-10-31T00:00:00",
          "2019-11-30T00:00:00",
          "2019-12-31T00:00:00",
          "2020-01-31T00:00:00",
          "2020-02-29T00:00:00",
          "2020-03-31T00:00:00"
         ],
         "xaxis": "x",
         "y": [
          0.31202046035805625,
          0.31683168316831684,
          0.3036649214659686,
          0.3043117744610282,
          0.2800953516090584,
          0.27506596306068604,
          0.2773892773892774,
          0.3070316693505099,
          0.2727946627131208,
          0.2819349962207105,
          0.2744479495268139,
          0.2900531511009871,
          0.2924657534246575,
          0.3672603901611535,
          0.573208722741433
         ],
         "yaxis": "y"
        },
        {
         "legendgroup": "Amy Klobuchar",
         "line": {
          "color": "#00CC96",
          "dash": "dash",
          "shape": "spline"
         },
         "mode": "lines",
         "name": "BaemyKlobaechar Subreddit Comments",
         "type": "scatter",
         "x": [
          "2019-01-01T00:00:00",
          "2019-02-01T00:00:00",
          "2019-03-01T00:00:00",
          "2019-04-01T00:00:00",
          "2019-05-01T00:00:00",
          "2019-06-01T00:00:00",
          "2019-07-01T00:00:00",
          "2019-08-01T00:00:00",
          "2019-09-01T00:00:00",
          "2019-10-01T00:00:00",
          "2019-11-01T00:00:00",
          "2019-12-01T00:00:00"
         ],
         "xaxis": "x",
         "y": [
          101,
          239,
          28,
          31,
          13,
          47,
          22,
          107,
          136,
          139,
          82,
          211
         ],
         "yaxis": "y2"
        },
        {
         "legendgroup": "Amy Klobuchar",
         "line": {
          "color": "#00CC96",
          "shape": "spline"
         },
         "mode": "lines",
         "name": "Amy Klobuchar Polling Avg",
         "type": "scatter",
         "x": [
          "2019-01-31T00:00:00",
          "2019-02-28T00:00:00",
          "2019-03-31T00:00:00",
          "2019-04-30T00:00:00",
          "2019-05-31T00:00:00",
          "2019-06-30T00:00:00",
          "2019-07-31T00:00:00",
          "2019-08-31T00:00:00",
          "2019-09-30T00:00:00",
          "2019-10-31T00:00:00",
          "2019-11-30T00:00:00",
          "2019-12-31T00:00:00",
          "2020-01-31T00:00:00",
          "2020-02-29T00:00:00",
          "2020-03-31T00:00:00"
         ],
         "xaxis": "x",
         "y": [
          0.020460358056265986,
          0.02574257425742574,
          0.032722513089005235,
          0.026533996683250415,
          0.023837902264600714,
          0.023746701846965697,
          0.02097902097902098,
          0.01932367149758454,
          0.026686434395848776,
          0.025699168556311415,
          0.02050473186119874,
          0.022779043280182234,
          0.03287671232876712,
          0.04240882103477523,
          0
         ],
         "yaxis": "y"
        },
        {
         "legendgroup": "Elizabeth Warren",
         "line": {
          "color": "#AB63FA",
          "dash": "dash",
          "shape": "spline"
         },
         "mode": "lines",
         "name": "ElizabethWarren Subreddit Comments",
         "type": "scatter",
         "x": [
          "2019-01-01T00:00:00",
          "2019-02-01T00:00:00",
          "2019-03-01T00:00:00",
          "2019-04-01T00:00:00",
          "2019-05-01T00:00:00",
          "2019-06-01T00:00:00",
          "2019-07-01T00:00:00",
          "2019-08-01T00:00:00",
          "2019-09-01T00:00:00",
          "2019-10-01T00:00:00",
          "2019-11-01T00:00:00",
          "2019-12-01T00:00:00"
         ],
         "xaxis": "x",
         "y": [
          454,
          445,
          366,
          1561,
          2921,
          7242,
          7370,
          8759,
          13839,
          19781,
          17708,
          11451
         ],
         "yaxis": "y2"
        },
        {
         "legendgroup": "Elizabeth Warren",
         "line": {
          "color": "#AB63FA",
          "shape": "spline"
         },
         "mode": "lines",
         "name": "Elizabeth Warren Polling Avg",
         "type": "scatter",
         "x": [
          "2019-01-31T00:00:00",
          "2019-02-28T00:00:00",
          "2019-03-31T00:00:00",
          "2019-04-30T00:00:00",
          "2019-05-31T00:00:00",
          "2019-06-30T00:00:00",
          "2019-07-31T00:00:00",
          "2019-08-31T00:00:00",
          "2019-09-30T00:00:00",
          "2019-10-31T00:00:00",
          "2019-11-30T00:00:00",
          "2019-12-31T00:00:00",
          "2020-01-31T00:00:00",
          "2020-02-29T00:00:00",
          "2020-03-31T00:00:00"
         ],
         "xaxis": "x",
         "y": [
          0.07672634271099744,
          0.10891089108910891,
          0.1243455497382199,
          0.1044776119402985,
          0.13230035756853398,
          0.1312664907651715,
          0.1561771561771562,
          0.16586151368760063,
          0.16160118606375093,
          0.17913832199546487,
          0.17429022082018927,
          0.16856492027334852,
          0.16095890410958905,
          0.18405428329092452,
          0
         ],
         "yaxis": "y"
        },
        {
         "legendgroup": "Pete Buttigieg",
         "line": {
          "color": "#FFA15A",
          "dash": "dash",
          "shape": "spline"
         },
         "mode": "lines",
         "name": "Pete_Buttigieg Subreddit Comments",
         "type": "scatter",
         "x": [
          "2019-01-01T00:00:00",
          "2019-02-01T00:00:00",
          "2019-03-01T00:00:00",
          "2019-04-01T00:00:00",
          "2019-05-01T00:00:00",
          "2019-06-01T00:00:00",
          "2019-07-01T00:00:00",
          "2019-08-01T00:00:00",
          "2019-09-01T00:00:00",
          "2019-10-01T00:00:00",
          "2019-11-01T00:00:00",
          "2019-12-01T00:00:00"
         ],
         "xaxis": "x",
         "y": [
          21,
          144,
          12604,
          48305,
          21619,
          27709,
          30785,
          22679,
          24136,
          35638,
          57412,
          73831
         ],
         "yaxis": "y2"
        },
        {
         "legendgroup": "Pete Buttigieg",
         "line": {
          "color": "#FFA15A",
          "shape": "spline"
         },
         "mode": "lines",
         "name": "Pete Buttigieg Polling Avg",
         "type": "scatter",
         "x": [
          "2019-01-31T00:00:00",
          "2019-02-28T00:00:00",
          "2019-03-31T00:00:00",
          "2019-04-30T00:00:00",
          "2019-05-31T00:00:00",
          "2019-06-30T00:00:00",
          "2019-07-31T00:00:00",
          "2019-08-31T00:00:00",
          "2019-09-30T00:00:00",
          "2019-10-31T00:00:00",
          "2019-11-30T00:00:00",
          "2019-12-31T00:00:00",
          "2020-01-31T00:00:00",
          "2020-02-29T00:00:00",
          "2020-03-31T00:00:00"
         ],
         "xaxis": "x",
         "y": [
          0.01278772378516624,
          0.009900990099009901,
          0.02225130890052356,
          0.0505804311774461,
          0.06197854588796186,
          0.052110817941952506,
          0.06643356643356643,
          0.06763285024154589,
          0.05930318754633061,
          0.05895691609977324,
          0.06782334384858044,
          0.05618830675778284,
          0.06712328767123288,
          0.08736217133163698,
          0
         ],
         "yaxis": "y"
        },
        {
         "legendgroup": "Andrew Yang",
         "line": {
          "color": "#19D3F3",
          "dash": "dash",
          "shape": "spline"
         },
         "mode": "lines",
         "name": "YangForPresidentHQ Subreddit Comments",
         "type": "scatter",
         "x": [
          "2019-01-01T00:00:00",
          "2019-02-01T00:00:00",
          "2019-03-01T00:00:00",
          "2019-04-01T00:00:00",
          "2019-05-01T00:00:00",
          "2019-06-01T00:00:00",
          "2019-07-01T00:00:00",
          "2019-08-01T00:00:00",
          "2019-09-01T00:00:00",
          "2019-10-01T00:00:00",
          "2019-11-01T00:00:00",
          "2019-12-01T00:00:00"
         ],
         "xaxis": "x",
         "y": [
          95,
          3138,
          43978,
          53512,
          30442,
          62914,
          79167,
          176906,
          189596,
          165746,
          155684,
          225756
         ],
         "yaxis": "y2"
        },
        {
         "legendgroup": "Andrew Yang",
         "line": {
          "color": "#19D3F3",
          "shape": "spline"
         },
         "mode": "lines",
         "name": "Andrew Yang Polling Avg",
         "type": "scatter",
         "x": [
          "2019-01-31T00:00:00",
          "2019-02-28T00:00:00",
          "2019-03-31T00:00:00",
          "2019-04-30T00:00:00",
          "2019-05-31T00:00:00",
          "2019-06-30T00:00:00",
          "2019-07-31T00:00:00",
          "2019-08-31T00:00:00",
          "2019-09-30T00:00:00",
          "2019-10-31T00:00:00",
          "2019-11-30T00:00:00",
          "2019-12-31T00:00:00",
          "2020-01-31T00:00:00",
          "2020-02-29T00:00:00",
          "2020-03-31T00:00:00"
         ],
         "xaxis": "x",
         "y": [
          0,
          0,
          0.028795811518324606,
          0.0472636815920398,
          0.060786650774731825,
          0.06992084432717678,
          0.0675990675990676,
          0.08856682769726248,
          0.13269088213491476,
          0.13907785336356765,
          0.14826498422712933,
          0.14958238420653,
          0.15205479452054796,
          0.041560644614079725,
          0
         ],
         "yaxis": "y"
        }
       ],
       "layout": {
        "font": {
         "size": 14
        },
        "legend": {
         "orientation": "v",
         "x": 1.1,
         "xanchor": "left",
         "y": 1
        },
        "template": {
         "data": {
          "bar": [
           {
            "error_x": {
             "color": "rgb(36,36,36)"
            },
            "error_y": {
             "color": "rgb(36,36,36)"
            },
            "marker": {
             "line": {
              "color": "white",
              "width": 0.5
             }
            },
            "type": "bar"
           }
          ],
          "barpolar": [
           {
            "marker": {
             "line": {
              "color": "white",
              "width": 0.5
             }
            },
            "type": "barpolar"
           }
          ],
          "carpet": [
           {
            "aaxis": {
             "endlinecolor": "rgb(36,36,36)",
             "gridcolor": "white",
             "linecolor": "white",
             "minorgridcolor": "white",
             "startlinecolor": "rgb(36,36,36)"
            },
            "baxis": {
             "endlinecolor": "rgb(36,36,36)",
             "gridcolor": "white",
             "linecolor": "white",
             "minorgridcolor": "white",
             "startlinecolor": "rgb(36,36,36)"
            },
            "type": "carpet"
           }
          ],
          "choropleth": [
           {
            "colorbar": {
             "outlinewidth": 1,
             "tickcolor": "rgb(36,36,36)",
             "ticks": "outside"
            },
            "type": "choropleth"
           }
          ],
          "contour": [
           {
            "colorbar": {
             "outlinewidth": 1,
             "tickcolor": "rgb(36,36,36)",
             "ticks": "outside"
            },
            "colorscale": [
             [
              0,
              "#440154"
             ],
             [
              0.1111111111111111,
              "#482878"
             ],
             [
              0.2222222222222222,
              "#3e4989"
             ],
             [
              0.3333333333333333,
              "#31688e"
             ],
             [
              0.4444444444444444,
              "#26828e"
             ],
             [
              0.5555555555555556,
              "#1f9e89"
             ],
             [
              0.6666666666666666,
              "#35b779"
             ],
             [
              0.7777777777777778,
              "#6ece58"
             ],
             [
              0.8888888888888888,
              "#b5de2b"
             ],
             [
              1,
              "#fde725"
             ]
            ],
            "type": "contour"
           }
          ],
          "contourcarpet": [
           {
            "colorbar": {
             "outlinewidth": 1,
             "tickcolor": "rgb(36,36,36)",
             "ticks": "outside"
            },
            "type": "contourcarpet"
           }
          ],
          "heatmap": [
           {
            "colorbar": {
             "outlinewidth": 1,
             "tickcolor": "rgb(36,36,36)",
             "ticks": "outside"
            },
            "colorscale": [
             [
              0,
              "#440154"
             ],
             [
              0.1111111111111111,
              "#482878"
             ],
             [
              0.2222222222222222,
              "#3e4989"
             ],
             [
              0.3333333333333333,
              "#31688e"
             ],
             [
              0.4444444444444444,
              "#26828e"
             ],
             [
              0.5555555555555556,
              "#1f9e89"
             ],
             [
              0.6666666666666666,
              "#35b779"
             ],
             [
              0.7777777777777778,
              "#6ece58"
             ],
             [
              0.8888888888888888,
              "#b5de2b"
             ],
             [
              1,
              "#fde725"
             ]
            ],
            "type": "heatmap"
           }
          ],
          "heatmapgl": [
           {
            "colorbar": {
             "outlinewidth": 1,
             "tickcolor": "rgb(36,36,36)",
             "ticks": "outside"
            },
            "colorscale": [
             [
              0,
              "#440154"
             ],
             [
              0.1111111111111111,
              "#482878"
             ],
             [
              0.2222222222222222,
              "#3e4989"
             ],
             [
              0.3333333333333333,
              "#31688e"
             ],
             [
              0.4444444444444444,
              "#26828e"
             ],
             [
              0.5555555555555556,
              "#1f9e89"
             ],
             [
              0.6666666666666666,
              "#35b779"
             ],
             [
              0.7777777777777778,
              "#6ece58"
             ],
             [
              0.8888888888888888,
              "#b5de2b"
             ],
             [
              1,
              "#fde725"
             ]
            ],
            "type": "heatmapgl"
           }
          ],
          "histogram": [
           {
            "marker": {
             "line": {
              "color": "white",
              "width": 0.6
             }
            },
            "type": "histogram"
           }
          ],
          "histogram2d": [
           {
            "colorbar": {
             "outlinewidth": 1,
             "tickcolor": "rgb(36,36,36)",
             "ticks": "outside"
            },
            "colorscale": [
             [
              0,
              "#440154"
             ],
             [
              0.1111111111111111,
              "#482878"
             ],
             [
              0.2222222222222222,
              "#3e4989"
             ],
             [
              0.3333333333333333,
              "#31688e"
             ],
             [
              0.4444444444444444,
              "#26828e"
             ],
             [
              0.5555555555555556,
              "#1f9e89"
             ],
             [
              0.6666666666666666,
              "#35b779"
             ],
             [
              0.7777777777777778,
              "#6ece58"
             ],
             [
              0.8888888888888888,
              "#b5de2b"
             ],
             [
              1,
              "#fde725"
             ]
            ],
            "type": "histogram2d"
           }
          ],
          "histogram2dcontour": [
           {
            "colorbar": {
             "outlinewidth": 1,
             "tickcolor": "rgb(36,36,36)",
             "ticks": "outside"
            },
            "colorscale": [
             [
              0,
              "#440154"
             ],
             [
              0.1111111111111111,
              "#482878"
             ],
             [
              0.2222222222222222,
              "#3e4989"
             ],
             [
              0.3333333333333333,
              "#31688e"
             ],
             [
              0.4444444444444444,
              "#26828e"
             ],
             [
              0.5555555555555556,
              "#1f9e89"
             ],
             [
              0.6666666666666666,
              "#35b779"
             ],
             [
              0.7777777777777778,
              "#6ece58"
             ],
             [
              0.8888888888888888,
              "#b5de2b"
             ],
             [
              1,
              "#fde725"
             ]
            ],
            "type": "histogram2dcontour"
           }
          ],
          "mesh3d": [
           {
            "colorbar": {
             "outlinewidth": 1,
             "tickcolor": "rgb(36,36,36)",
             "ticks": "outside"
            },
            "type": "mesh3d"
           }
          ],
          "parcoords": [
           {
            "line": {
             "colorbar": {
              "outlinewidth": 1,
              "tickcolor": "rgb(36,36,36)",
              "ticks": "outside"
             }
            },
            "type": "parcoords"
           }
          ],
          "pie": [
           {
            "automargin": true,
            "type": "pie"
           }
          ],
          "scatter": [
           {
            "marker": {
             "colorbar": {
              "outlinewidth": 1,
              "tickcolor": "rgb(36,36,36)",
              "ticks": "outside"
             }
            },
            "type": "scatter"
           }
          ],
          "scatter3d": [
           {
            "line": {
             "colorbar": {
              "outlinewidth": 1,
              "tickcolor": "rgb(36,36,36)",
              "ticks": "outside"
             }
            },
            "marker": {
             "colorbar": {
              "outlinewidth": 1,
              "tickcolor": "rgb(36,36,36)",
              "ticks": "outside"
             }
            },
            "type": "scatter3d"
           }
          ],
          "scattercarpet": [
           {
            "marker": {
             "colorbar": {
              "outlinewidth": 1,
              "tickcolor": "rgb(36,36,36)",
              "ticks": "outside"
             }
            },
            "type": "scattercarpet"
           }
          ],
          "scattergeo": [
           {
            "marker": {
             "colorbar": {
              "outlinewidth": 1,
              "tickcolor": "rgb(36,36,36)",
              "ticks": "outside"
             }
            },
            "type": "scattergeo"
           }
          ],
          "scattergl": [
           {
            "marker": {
             "colorbar": {
              "outlinewidth": 1,
              "tickcolor": "rgb(36,36,36)",
              "ticks": "outside"
             }
            },
            "type": "scattergl"
           }
          ],
          "scattermapbox": [
           {
            "marker": {
             "colorbar": {
              "outlinewidth": 1,
              "tickcolor": "rgb(36,36,36)",
              "ticks": "outside"
             }
            },
            "type": "scattermapbox"
           }
          ],
          "scatterpolar": [
           {
            "marker": {
             "colorbar": {
              "outlinewidth": 1,
              "tickcolor": "rgb(36,36,36)",
              "ticks": "outside"
             }
            },
            "type": "scatterpolar"
           }
          ],
          "scatterpolargl": [
           {
            "marker": {
             "colorbar": {
              "outlinewidth": 1,
              "tickcolor": "rgb(36,36,36)",
              "ticks": "outside"
             }
            },
            "type": "scatterpolargl"
           }
          ],
          "scatterternary": [
           {
            "marker": {
             "colorbar": {
              "outlinewidth": 1,
              "tickcolor": "rgb(36,36,36)",
              "ticks": "outside"
             }
            },
            "type": "scatterternary"
           }
          ],
          "surface": [
           {
            "colorbar": {
             "outlinewidth": 1,
             "tickcolor": "rgb(36,36,36)",
             "ticks": "outside"
            },
            "colorscale": [
             [
              0,
              "#440154"
             ],
             [
              0.1111111111111111,
              "#482878"
             ],
             [
              0.2222222222222222,
              "#3e4989"
             ],
             [
              0.3333333333333333,
              "#31688e"
             ],
             [
              0.4444444444444444,
              "#26828e"
             ],
             [
              0.5555555555555556,
              "#1f9e89"
             ],
             [
              0.6666666666666666,
              "#35b779"
             ],
             [
              0.7777777777777778,
              "#6ece58"
             ],
             [
              0.8888888888888888,
              "#b5de2b"
             ],
             [
              1,
              "#fde725"
             ]
            ],
            "type": "surface"
           }
          ],
          "table": [
           {
            "cells": {
             "fill": {
              "color": "rgb(237,237,237)"
             },
             "line": {
              "color": "white"
             }
            },
            "header": {
             "fill": {
              "color": "rgb(217,217,217)"
             },
             "line": {
              "color": "white"
             }
            },
            "type": "table"
           }
          ]
         },
         "layout": {
          "annotationdefaults": {
           "arrowhead": 0,
           "arrowwidth": 1
          },
          "coloraxis": {
           "colorbar": {
            "outlinewidth": 1,
            "tickcolor": "rgb(36,36,36)",
            "ticks": "outside"
           }
          },
          "colorscale": {
           "diverging": [
            [
             0,
             "rgb(103,0,31)"
            ],
            [
             0.1,
             "rgb(178,24,43)"
            ],
            [
             0.2,
             "rgb(214,96,77)"
            ],
            [
             0.3,
             "rgb(244,165,130)"
            ],
            [
             0.4,
             "rgb(253,219,199)"
            ],
            [
             0.5,
             "rgb(247,247,247)"
            ],
            [
             0.6,
             "rgb(209,229,240)"
            ],
            [
             0.7,
             "rgb(146,197,222)"
            ],
            [
             0.8,
             "rgb(67,147,195)"
            ],
            [
             0.9,
             "rgb(33,102,172)"
            ],
            [
             1,
             "rgb(5,48,97)"
            ]
           ],
           "sequential": [
            [
             0,
             "#440154"
            ],
            [
             0.1111111111111111,
             "#482878"
            ],
            [
             0.2222222222222222,
             "#3e4989"
            ],
            [
             0.3333333333333333,
             "#31688e"
            ],
            [
             0.4444444444444444,
             "#26828e"
            ],
            [
             0.5555555555555556,
             "#1f9e89"
            ],
            [
             0.6666666666666666,
             "#35b779"
            ],
            [
             0.7777777777777778,
             "#6ece58"
            ],
            [
             0.8888888888888888,
             "#b5de2b"
            ],
            [
             1,
             "#fde725"
            ]
           ],
           "sequentialminus": [
            [
             0,
             "#440154"
            ],
            [
             0.1111111111111111,
             "#482878"
            ],
            [
             0.2222222222222222,
             "#3e4989"
            ],
            [
             0.3333333333333333,
             "#31688e"
            ],
            [
             0.4444444444444444,
             "#26828e"
            ],
            [
             0.5555555555555556,
             "#1f9e89"
            ],
            [
             0.6666666666666666,
             "#35b779"
            ],
            [
             0.7777777777777778,
             "#6ece58"
            ],
            [
             0.8888888888888888,
             "#b5de2b"
            ],
            [
             1,
             "#fde725"
            ]
           ]
          },
          "colorway": [
           "#1F77B4",
           "#FF7F0E",
           "#2CA02C",
           "#D62728",
           "#9467BD",
           "#8C564B",
           "#E377C2",
           "#7F7F7F",
           "#BCBD22",
           "#17BECF"
          ],
          "font": {
           "color": "rgb(36,36,36)"
          },
          "geo": {
           "bgcolor": "white",
           "lakecolor": "white",
           "landcolor": "white",
           "showlakes": true,
           "showland": true,
           "subunitcolor": "white"
          },
          "hoverlabel": {
           "align": "left"
          },
          "hovermode": "closest",
          "mapbox": {
           "style": "light"
          },
          "paper_bgcolor": "white",
          "plot_bgcolor": "white",
          "polar": {
           "angularaxis": {
            "gridcolor": "rgb(232,232,232)",
            "linecolor": "rgb(36,36,36)",
            "showgrid": false,
            "showline": true,
            "ticks": "outside"
           },
           "bgcolor": "white",
           "radialaxis": {
            "gridcolor": "rgb(232,232,232)",
            "linecolor": "rgb(36,36,36)",
            "showgrid": false,
            "showline": true,
            "ticks": "outside"
           }
          },
          "scene": {
           "xaxis": {
            "backgroundcolor": "white",
            "gridcolor": "rgb(232,232,232)",
            "gridwidth": 2,
            "linecolor": "rgb(36,36,36)",
            "showbackground": true,
            "showgrid": false,
            "showline": true,
            "ticks": "outside",
            "zeroline": false,
            "zerolinecolor": "rgb(36,36,36)"
           },
           "yaxis": {
            "backgroundcolor": "white",
            "gridcolor": "rgb(232,232,232)",
            "gridwidth": 2,
            "linecolor": "rgb(36,36,36)",
            "showbackground": true,
            "showgrid": false,
            "showline": true,
            "ticks": "outside",
            "zeroline": false,
            "zerolinecolor": "rgb(36,36,36)"
           },
           "zaxis": {
            "backgroundcolor": "white",
            "gridcolor": "rgb(232,232,232)",
            "gridwidth": 2,
            "linecolor": "rgb(36,36,36)",
            "showbackground": true,
            "showgrid": false,
            "showline": true,
            "ticks": "outside",
            "zeroline": false,
            "zerolinecolor": "rgb(36,36,36)"
           }
          },
          "shapedefaults": {
           "fillcolor": "black",
           "line": {
            "width": 0
           },
           "opacity": 0.3
          },
          "ternary": {
           "aaxis": {
            "gridcolor": "rgb(232,232,232)",
            "linecolor": "rgb(36,36,36)",
            "showgrid": false,
            "showline": true,
            "ticks": "outside"
           },
           "baxis": {
            "gridcolor": "rgb(232,232,232)",
            "linecolor": "rgb(36,36,36)",
            "showgrid": false,
            "showline": true,
            "ticks": "outside"
           },
           "bgcolor": "white",
           "caxis": {
            "gridcolor": "rgb(232,232,232)",
            "linecolor": "rgb(36,36,36)",
            "showgrid": false,
            "showline": true,
            "ticks": "outside"
           }
          },
          "title": {
           "x": 0.05
          },
          "xaxis": {
           "automargin": true,
           "gridcolor": "rgb(232,232,232)",
           "linecolor": "rgb(36,36,36)",
           "showgrid": false,
           "showline": true,
           "ticks": "outside",
           "title": {
            "standoff": 15
           },
           "zeroline": false,
           "zerolinecolor": "rgb(36,36,36)"
          },
          "yaxis": {
           "automargin": true,
           "gridcolor": "rgb(232,232,232)",
           "linecolor": "rgb(36,36,36)",
           "showgrid": false,
           "showline": true,
           "ticks": "outside",
           "title": {
            "standoff": 15
           },
           "zeroline": false,
           "zerolinecolor": "rgb(36,36,36)"
          }
         }
        },
        "title": {
         "text": "Dual Axis - Subreddit Comments and Candidate Favourability (18-29 Age Group)"
        },
        "xaxis": {
         "anchor": "y",
         "domain": [
          0,
          0.94
         ],
         "title": {
          "text": "Date"
         }
        },
        "yaxis": {
         "anchor": "x",
         "domain": [
          0,
          1
         ],
         "title": {
          "text": "<b>Candidate</b> Favourability"
         }
        },
        "yaxis2": {
         "anchor": "x",
         "overlaying": "y",
         "side": "right",
         "title": {
          "text": "<b>Subreddit</b> Comments"
         }
        }
       }
      },
      "text/html": [
       "<div>\n",
       "        \n",
       "        \n",
       "            <div id=\"a3c29f9b-06af-4d82-bbaf-0a46e5be3c55\" class=\"plotly-graph-div\" style=\"height:525px; width:100%;\"></div>\n",
       "            <script type=\"text/javascript\">\n",
       "                require([\"plotly\"], function(Plotly) {\n",
       "                    window.PLOTLYENV=window.PLOTLYENV || {};\n",
       "                    \n",
       "                if (document.getElementById(\"a3c29f9b-06af-4d82-bbaf-0a46e5be3c55\")) {\n",
       "                    Plotly.newPlot(\n",
       "                        'a3c29f9b-06af-4d82-bbaf-0a46e5be3c55',\n",
       "                        [{\"legendgroup\": \"Joe Biden\", \"line\": {\"color\": \"#636EFA\", \"dash\": \"dash\", \"shape\": \"spline\"}, \"mode\": \"lines\", \"name\": \"JoeBiden Subreddit Comments\", \"type\": \"scatter\", \"x\": [\"2019-01-01T00:00:00\", \"2019-02-01T00:00:00\", \"2019-03-01T00:00:00\", \"2019-04-01T00:00:00\", \"2019-05-01T00:00:00\", \"2019-06-01T00:00:00\", \"2019-07-01T00:00:00\", \"2019-08-01T00:00:00\", \"2019-09-01T00:00:00\", \"2019-10-01T00:00:00\", \"2019-11-01T00:00:00\", \"2019-12-01T00:00:00\"], \"xaxis\": \"x\", \"y\": [1, 11, 36, 839, 1414, 1531, 1037, 1825, 1912, 1156, 1716, 3825], \"yaxis\": \"y2\"}, {\"legendgroup\": \"Joe Biden\", \"line\": {\"color\": \"#636EFA\", \"shape\": \"spline\"}, \"mode\": \"lines\", \"name\": \"Joe Biden Polling Avg\", \"type\": \"scatter\", \"x\": [\"2019-01-31T00:00:00\", \"2019-02-28T00:00:00\", \"2019-03-31T00:00:00\", \"2019-04-30T00:00:00\", \"2019-05-31T00:00:00\", \"2019-06-30T00:00:00\", \"2019-07-31T00:00:00\", \"2019-08-31T00:00:00\", \"2019-09-30T00:00:00\", \"2019-10-31T00:00:00\", \"2019-11-30T00:00:00\", \"2019-12-31T00:00:00\", \"2020-01-31T00:00:00\", \"2020-02-29T00:00:00\", \"2020-03-31T00:00:00\"], \"xaxis\": \"x\", \"y\": [0.26342710997442453, 0.2702970297029703, 0.2787958115183246, 0.2396351575456053, 0.22526817640047675, 0.23087071240105542, 0.21328671328671328, 0.19055287171229202, 0.1682727946627131, 0.1836734693877551, 0.1805993690851735, 0.18830675778283978, 0.18356164383561643, 0.1620016963528414, 0.3395638629283489], \"yaxis\": \"y\"}, {\"legendgroup\": \"Bernie Sanders\", \"line\": {\"color\": \"#EF553B\", \"dash\": \"dash\", \"shape\": \"spline\"}, \"mode\": \"lines\", \"name\": \"SandersForPresident Subreddit Comments\", \"type\": \"scatter\", \"x\": [\"2019-01-01T00:00:00\", \"2019-02-01T00:00:00\", \"2019-03-01T00:00:00\", \"2019-04-01T00:00:00\", \"2019-05-01T00:00:00\", \"2019-06-01T00:00:00\", \"2019-07-01T00:00:00\", \"2019-08-01T00:00:00\", \"2019-09-01T00:00:00\", \"2019-10-01T00:00:00\", \"2019-11-01T00:00:00\", \"2019-12-01T00:00:00\"], \"xaxis\": \"x\", \"y\": [22016, 56683, 67497, 64758, 37354, 71863, 57860, 86820, 79887, 87907, 71442, 90414], \"yaxis\": \"y2\"}, {\"legendgroup\": \"Bernie Sanders\", \"line\": {\"color\": \"#EF553B\", \"shape\": \"spline\"}, \"mode\": \"lines\", \"name\": \"Bernie Sanders Polling Avg\", \"type\": \"scatter\", \"x\": [\"2019-01-31T00:00:00\", \"2019-02-28T00:00:00\", \"2019-03-31T00:00:00\", \"2019-04-30T00:00:00\", \"2019-05-31T00:00:00\", \"2019-06-30T00:00:00\", \"2019-07-31T00:00:00\", \"2019-08-31T00:00:00\", \"2019-09-30T00:00:00\", \"2019-10-31T00:00:00\", \"2019-11-30T00:00:00\", \"2019-12-31T00:00:00\", \"2020-01-31T00:00:00\", \"2020-02-29T00:00:00\", \"2020-03-31T00:00:00\"], \"xaxis\": \"x\", \"y\": [0.31202046035805625, 0.31683168316831684, 0.3036649214659686, 0.3043117744610282, 0.2800953516090584, 0.27506596306068604, 0.2773892773892774, 0.3070316693505099, 0.2727946627131208, 0.2819349962207105, 0.2744479495268139, 0.2900531511009871, 0.2924657534246575, 0.3672603901611535, 0.573208722741433], \"yaxis\": \"y\"}, {\"legendgroup\": \"Amy Klobuchar\", \"line\": {\"color\": \"#00CC96\", \"dash\": \"dash\", \"shape\": \"spline\"}, \"mode\": \"lines\", \"name\": \"BaemyKlobaechar Subreddit Comments\", \"type\": \"scatter\", \"x\": [\"2019-01-01T00:00:00\", \"2019-02-01T00:00:00\", \"2019-03-01T00:00:00\", \"2019-04-01T00:00:00\", \"2019-05-01T00:00:00\", \"2019-06-01T00:00:00\", \"2019-07-01T00:00:00\", \"2019-08-01T00:00:00\", \"2019-09-01T00:00:00\", \"2019-10-01T00:00:00\", \"2019-11-01T00:00:00\", \"2019-12-01T00:00:00\"], \"xaxis\": \"x\", \"y\": [101, 239, 28, 31, 13, 47, 22, 107, 136, 139, 82, 211], \"yaxis\": \"y2\"}, {\"legendgroup\": \"Amy Klobuchar\", \"line\": {\"color\": \"#00CC96\", \"shape\": \"spline\"}, \"mode\": \"lines\", \"name\": \"Amy Klobuchar Polling Avg\", \"type\": \"scatter\", \"x\": [\"2019-01-31T00:00:00\", \"2019-02-28T00:00:00\", \"2019-03-31T00:00:00\", \"2019-04-30T00:00:00\", \"2019-05-31T00:00:00\", \"2019-06-30T00:00:00\", \"2019-07-31T00:00:00\", \"2019-08-31T00:00:00\", \"2019-09-30T00:00:00\", \"2019-10-31T00:00:00\", \"2019-11-30T00:00:00\", \"2019-12-31T00:00:00\", \"2020-01-31T00:00:00\", \"2020-02-29T00:00:00\", \"2020-03-31T00:00:00\"], \"xaxis\": \"x\", \"y\": [0.020460358056265986, 0.02574257425742574, 0.032722513089005235, 0.026533996683250415, 0.023837902264600714, 0.023746701846965697, 0.02097902097902098, 0.01932367149758454, 0.026686434395848776, 0.025699168556311415, 0.02050473186119874, 0.022779043280182234, 0.03287671232876712, 0.04240882103477523, 0.0], \"yaxis\": \"y\"}, {\"legendgroup\": \"Elizabeth Warren\", \"line\": {\"color\": \"#AB63FA\", \"dash\": \"dash\", \"shape\": \"spline\"}, \"mode\": \"lines\", \"name\": \"ElizabethWarren Subreddit Comments\", \"type\": \"scatter\", \"x\": [\"2019-01-01T00:00:00\", \"2019-02-01T00:00:00\", \"2019-03-01T00:00:00\", \"2019-04-01T00:00:00\", \"2019-05-01T00:00:00\", \"2019-06-01T00:00:00\", \"2019-07-01T00:00:00\", \"2019-08-01T00:00:00\", \"2019-09-01T00:00:00\", \"2019-10-01T00:00:00\", \"2019-11-01T00:00:00\", \"2019-12-01T00:00:00\"], \"xaxis\": \"x\", \"y\": [454, 445, 366, 1561, 2921, 7242, 7370, 8759, 13839, 19781, 17708, 11451], \"yaxis\": \"y2\"}, {\"legendgroup\": \"Elizabeth Warren\", \"line\": {\"color\": \"#AB63FA\", \"shape\": \"spline\"}, \"mode\": \"lines\", \"name\": \"Elizabeth Warren Polling Avg\", \"type\": \"scatter\", \"x\": [\"2019-01-31T00:00:00\", \"2019-02-28T00:00:00\", \"2019-03-31T00:00:00\", \"2019-04-30T00:00:00\", \"2019-05-31T00:00:00\", \"2019-06-30T00:00:00\", \"2019-07-31T00:00:00\", \"2019-08-31T00:00:00\", \"2019-09-30T00:00:00\", \"2019-10-31T00:00:00\", \"2019-11-30T00:00:00\", \"2019-12-31T00:00:00\", \"2020-01-31T00:00:00\", \"2020-02-29T00:00:00\", \"2020-03-31T00:00:00\"], \"xaxis\": \"x\", \"y\": [0.07672634271099744, 0.10891089108910891, 0.1243455497382199, 0.1044776119402985, 0.13230035756853398, 0.1312664907651715, 0.1561771561771562, 0.16586151368760063, 0.16160118606375093, 0.17913832199546487, 0.17429022082018927, 0.16856492027334852, 0.16095890410958905, 0.18405428329092452, 0.0], \"yaxis\": \"y\"}, {\"legendgroup\": \"Pete Buttigieg\", \"line\": {\"color\": \"#FFA15A\", \"dash\": \"dash\", \"shape\": \"spline\"}, \"mode\": \"lines\", \"name\": \"Pete_Buttigieg Subreddit Comments\", \"type\": \"scatter\", \"x\": [\"2019-01-01T00:00:00\", \"2019-02-01T00:00:00\", \"2019-03-01T00:00:00\", \"2019-04-01T00:00:00\", \"2019-05-01T00:00:00\", \"2019-06-01T00:00:00\", \"2019-07-01T00:00:00\", \"2019-08-01T00:00:00\", \"2019-09-01T00:00:00\", \"2019-10-01T00:00:00\", \"2019-11-01T00:00:00\", \"2019-12-01T00:00:00\"], \"xaxis\": \"x\", \"y\": [21, 144, 12604, 48305, 21619, 27709, 30785, 22679, 24136, 35638, 57412, 73831], \"yaxis\": \"y2\"}, {\"legendgroup\": \"Pete Buttigieg\", \"line\": {\"color\": \"#FFA15A\", \"shape\": \"spline\"}, \"mode\": \"lines\", \"name\": \"Pete Buttigieg Polling Avg\", \"type\": \"scatter\", \"x\": [\"2019-01-31T00:00:00\", \"2019-02-28T00:00:00\", \"2019-03-31T00:00:00\", \"2019-04-30T00:00:00\", \"2019-05-31T00:00:00\", \"2019-06-30T00:00:00\", \"2019-07-31T00:00:00\", \"2019-08-31T00:00:00\", \"2019-09-30T00:00:00\", \"2019-10-31T00:00:00\", \"2019-11-30T00:00:00\", \"2019-12-31T00:00:00\", \"2020-01-31T00:00:00\", \"2020-02-29T00:00:00\", \"2020-03-31T00:00:00\"], \"xaxis\": \"x\", \"y\": [0.01278772378516624, 0.009900990099009901, 0.02225130890052356, 0.0505804311774461, 0.06197854588796186, 0.052110817941952506, 0.06643356643356643, 0.06763285024154589, 0.05930318754633061, 0.05895691609977324, 0.06782334384858044, 0.05618830675778284, 0.06712328767123288, 0.08736217133163698, 0.0], \"yaxis\": \"y\"}, {\"legendgroup\": \"Andrew Yang\", \"line\": {\"color\": \"#19D3F3\", \"dash\": \"dash\", \"shape\": \"spline\"}, \"mode\": \"lines\", \"name\": \"YangForPresidentHQ Subreddit Comments\", \"type\": \"scatter\", \"x\": [\"2019-01-01T00:00:00\", \"2019-02-01T00:00:00\", \"2019-03-01T00:00:00\", \"2019-04-01T00:00:00\", \"2019-05-01T00:00:00\", \"2019-06-01T00:00:00\", \"2019-07-01T00:00:00\", \"2019-08-01T00:00:00\", \"2019-09-01T00:00:00\", \"2019-10-01T00:00:00\", \"2019-11-01T00:00:00\", \"2019-12-01T00:00:00\"], \"xaxis\": \"x\", \"y\": [95, 3138, 43978, 53512, 30442, 62914, 79167, 176906, 189596, 165746, 155684, 225756], \"yaxis\": \"y2\"}, {\"legendgroup\": \"Andrew Yang\", \"line\": {\"color\": \"#19D3F3\", \"shape\": \"spline\"}, \"mode\": \"lines\", \"name\": \"Andrew Yang Polling Avg\", \"type\": \"scatter\", \"x\": [\"2019-01-31T00:00:00\", \"2019-02-28T00:00:00\", \"2019-03-31T00:00:00\", \"2019-04-30T00:00:00\", \"2019-05-31T00:00:00\", \"2019-06-30T00:00:00\", \"2019-07-31T00:00:00\", \"2019-08-31T00:00:00\", \"2019-09-30T00:00:00\", \"2019-10-31T00:00:00\", \"2019-11-30T00:00:00\", \"2019-12-31T00:00:00\", \"2020-01-31T00:00:00\", \"2020-02-29T00:00:00\", \"2020-03-31T00:00:00\"], \"xaxis\": \"x\", \"y\": [0.0, 0.0, 0.028795811518324606, 0.0472636815920398, 0.060786650774731825, 0.06992084432717678, 0.0675990675990676, 0.08856682769726248, 0.13269088213491476, 0.13907785336356765, 0.14826498422712933, 0.14958238420653, 0.15205479452054796, 0.041560644614079725, 0.0], \"yaxis\": \"y\"}],\n",
       "                        {\"font\": {\"size\": 14}, \"legend\": {\"orientation\": \"v\", \"x\": 1.1, \"xanchor\": \"left\", \"y\": 1}, \"template\": {\"data\": {\"bar\": [{\"error_x\": {\"color\": \"rgb(36,36,36)\"}, \"error_y\": {\"color\": \"rgb(36,36,36)\"}, \"marker\": {\"line\": {\"color\": \"white\", \"width\": 0.5}}, \"type\": \"bar\"}], \"barpolar\": [{\"marker\": {\"line\": {\"color\": \"white\", \"width\": 0.5}}, \"type\": \"barpolar\"}], \"carpet\": [{\"aaxis\": {\"endlinecolor\": \"rgb(36,36,36)\", \"gridcolor\": \"white\", \"linecolor\": \"white\", \"minorgridcolor\": \"white\", \"startlinecolor\": \"rgb(36,36,36)\"}, \"baxis\": {\"endlinecolor\": \"rgb(36,36,36)\", \"gridcolor\": \"white\", \"linecolor\": \"white\", \"minorgridcolor\": \"white\", \"startlinecolor\": \"rgb(36,36,36)\"}, \"type\": \"carpet\"}], \"choropleth\": [{\"colorbar\": {\"outlinewidth\": 1, \"tickcolor\": \"rgb(36,36,36)\", \"ticks\": \"outside\"}, \"type\": \"choropleth\"}], \"contour\": [{\"colorbar\": {\"outlinewidth\": 1, \"tickcolor\": \"rgb(36,36,36)\", \"ticks\": \"outside\"}, \"colorscale\": [[0.0, \"#440154\"], [0.1111111111111111, \"#482878\"], [0.2222222222222222, \"#3e4989\"], [0.3333333333333333, \"#31688e\"], [0.4444444444444444, \"#26828e\"], [0.5555555555555556, \"#1f9e89\"], [0.6666666666666666, \"#35b779\"], [0.7777777777777778, \"#6ece58\"], [0.8888888888888888, \"#b5de2b\"], [1.0, \"#fde725\"]], \"type\": \"contour\"}], \"contourcarpet\": [{\"colorbar\": {\"outlinewidth\": 1, \"tickcolor\": \"rgb(36,36,36)\", \"ticks\": \"outside\"}, \"type\": \"contourcarpet\"}], \"heatmap\": [{\"colorbar\": {\"outlinewidth\": 1, \"tickcolor\": \"rgb(36,36,36)\", \"ticks\": \"outside\"}, \"colorscale\": [[0.0, \"#440154\"], [0.1111111111111111, \"#482878\"], [0.2222222222222222, \"#3e4989\"], [0.3333333333333333, \"#31688e\"], [0.4444444444444444, \"#26828e\"], [0.5555555555555556, \"#1f9e89\"], [0.6666666666666666, \"#35b779\"], [0.7777777777777778, \"#6ece58\"], [0.8888888888888888, \"#b5de2b\"], [1.0, \"#fde725\"]], \"type\": \"heatmap\"}], \"heatmapgl\": [{\"colorbar\": {\"outlinewidth\": 1, \"tickcolor\": \"rgb(36,36,36)\", \"ticks\": \"outside\"}, \"colorscale\": [[0.0, \"#440154\"], [0.1111111111111111, \"#482878\"], [0.2222222222222222, \"#3e4989\"], [0.3333333333333333, \"#31688e\"], [0.4444444444444444, \"#26828e\"], [0.5555555555555556, \"#1f9e89\"], [0.6666666666666666, \"#35b779\"], [0.7777777777777778, \"#6ece58\"], [0.8888888888888888, \"#b5de2b\"], [1.0, \"#fde725\"]], \"type\": \"heatmapgl\"}], \"histogram\": [{\"marker\": {\"line\": {\"color\": \"white\", \"width\": 0.6}}, \"type\": \"histogram\"}], \"histogram2d\": [{\"colorbar\": {\"outlinewidth\": 1, \"tickcolor\": \"rgb(36,36,36)\", \"ticks\": \"outside\"}, \"colorscale\": [[0.0, \"#440154\"], [0.1111111111111111, \"#482878\"], [0.2222222222222222, \"#3e4989\"], [0.3333333333333333, \"#31688e\"], [0.4444444444444444, \"#26828e\"], [0.5555555555555556, \"#1f9e89\"], [0.6666666666666666, \"#35b779\"], [0.7777777777777778, \"#6ece58\"], [0.8888888888888888, \"#b5de2b\"], [1.0, \"#fde725\"]], \"type\": \"histogram2d\"}], \"histogram2dcontour\": [{\"colorbar\": {\"outlinewidth\": 1, \"tickcolor\": \"rgb(36,36,36)\", \"ticks\": \"outside\"}, \"colorscale\": [[0.0, \"#440154\"], [0.1111111111111111, \"#482878\"], [0.2222222222222222, \"#3e4989\"], [0.3333333333333333, \"#31688e\"], [0.4444444444444444, \"#26828e\"], [0.5555555555555556, \"#1f9e89\"], [0.6666666666666666, \"#35b779\"], [0.7777777777777778, \"#6ece58\"], [0.8888888888888888, \"#b5de2b\"], [1.0, \"#fde725\"]], \"type\": \"histogram2dcontour\"}], \"mesh3d\": [{\"colorbar\": {\"outlinewidth\": 1, \"tickcolor\": \"rgb(36,36,36)\", \"ticks\": \"outside\"}, \"type\": \"mesh3d\"}], \"parcoords\": [{\"line\": {\"colorbar\": {\"outlinewidth\": 1, \"tickcolor\": \"rgb(36,36,36)\", \"ticks\": \"outside\"}}, \"type\": \"parcoords\"}], \"pie\": [{\"automargin\": true, \"type\": \"pie\"}], \"scatter\": [{\"marker\": {\"colorbar\": {\"outlinewidth\": 1, \"tickcolor\": \"rgb(36,36,36)\", \"ticks\": \"outside\"}}, \"type\": \"scatter\"}], \"scatter3d\": [{\"line\": {\"colorbar\": {\"outlinewidth\": 1, \"tickcolor\": \"rgb(36,36,36)\", \"ticks\": \"outside\"}}, \"marker\": {\"colorbar\": {\"outlinewidth\": 1, \"tickcolor\": \"rgb(36,36,36)\", \"ticks\": \"outside\"}}, \"type\": \"scatter3d\"}], \"scattercarpet\": [{\"marker\": {\"colorbar\": {\"outlinewidth\": 1, \"tickcolor\": \"rgb(36,36,36)\", \"ticks\": \"outside\"}}, \"type\": \"scattercarpet\"}], \"scattergeo\": [{\"marker\": {\"colorbar\": {\"outlinewidth\": 1, \"tickcolor\": \"rgb(36,36,36)\", \"ticks\": \"outside\"}}, \"type\": \"scattergeo\"}], \"scattergl\": [{\"marker\": {\"colorbar\": {\"outlinewidth\": 1, \"tickcolor\": \"rgb(36,36,36)\", \"ticks\": \"outside\"}}, \"type\": \"scattergl\"}], \"scattermapbox\": [{\"marker\": {\"colorbar\": {\"outlinewidth\": 1, \"tickcolor\": \"rgb(36,36,36)\", \"ticks\": \"outside\"}}, \"type\": \"scattermapbox\"}], \"scatterpolar\": [{\"marker\": {\"colorbar\": {\"outlinewidth\": 1, \"tickcolor\": \"rgb(36,36,36)\", \"ticks\": \"outside\"}}, \"type\": \"scatterpolar\"}], \"scatterpolargl\": [{\"marker\": {\"colorbar\": {\"outlinewidth\": 1, \"tickcolor\": \"rgb(36,36,36)\", \"ticks\": \"outside\"}}, \"type\": \"scatterpolargl\"}], \"scatterternary\": [{\"marker\": {\"colorbar\": {\"outlinewidth\": 1, \"tickcolor\": \"rgb(36,36,36)\", \"ticks\": \"outside\"}}, \"type\": \"scatterternary\"}], \"surface\": [{\"colorbar\": {\"outlinewidth\": 1, \"tickcolor\": \"rgb(36,36,36)\", \"ticks\": \"outside\"}, \"colorscale\": [[0.0, \"#440154\"], [0.1111111111111111, \"#482878\"], [0.2222222222222222, \"#3e4989\"], [0.3333333333333333, \"#31688e\"], [0.4444444444444444, \"#26828e\"], [0.5555555555555556, \"#1f9e89\"], [0.6666666666666666, \"#35b779\"], [0.7777777777777778, \"#6ece58\"], [0.8888888888888888, \"#b5de2b\"], [1.0, \"#fde725\"]], \"type\": \"surface\"}], \"table\": [{\"cells\": {\"fill\": {\"color\": \"rgb(237,237,237)\"}, \"line\": {\"color\": \"white\"}}, \"header\": {\"fill\": {\"color\": \"rgb(217,217,217)\"}, \"line\": {\"color\": \"white\"}}, \"type\": \"table\"}]}, \"layout\": {\"annotationdefaults\": {\"arrowhead\": 0, \"arrowwidth\": 1}, \"coloraxis\": {\"colorbar\": {\"outlinewidth\": 1, \"tickcolor\": \"rgb(36,36,36)\", \"ticks\": \"outside\"}}, \"colorscale\": {\"diverging\": [[0.0, \"rgb(103,0,31)\"], [0.1, \"rgb(178,24,43)\"], [0.2, \"rgb(214,96,77)\"], [0.3, \"rgb(244,165,130)\"], [0.4, \"rgb(253,219,199)\"], [0.5, \"rgb(247,247,247)\"], [0.6, \"rgb(209,229,240)\"], [0.7, \"rgb(146,197,222)\"], [0.8, \"rgb(67,147,195)\"], [0.9, \"rgb(33,102,172)\"], [1.0, \"rgb(5,48,97)\"]], \"sequential\": [[0.0, \"#440154\"], [0.1111111111111111, \"#482878\"], [0.2222222222222222, \"#3e4989\"], [0.3333333333333333, \"#31688e\"], [0.4444444444444444, \"#26828e\"], [0.5555555555555556, \"#1f9e89\"], [0.6666666666666666, \"#35b779\"], [0.7777777777777778, \"#6ece58\"], [0.8888888888888888, \"#b5de2b\"], [1.0, \"#fde725\"]], \"sequentialminus\": [[0.0, \"#440154\"], [0.1111111111111111, \"#482878\"], [0.2222222222222222, \"#3e4989\"], [0.3333333333333333, \"#31688e\"], [0.4444444444444444, \"#26828e\"], [0.5555555555555556, \"#1f9e89\"], [0.6666666666666666, \"#35b779\"], [0.7777777777777778, \"#6ece58\"], [0.8888888888888888, \"#b5de2b\"], [1.0, \"#fde725\"]]}, \"colorway\": [\"#1F77B4\", \"#FF7F0E\", \"#2CA02C\", \"#D62728\", \"#9467BD\", \"#8C564B\", \"#E377C2\", \"#7F7F7F\", \"#BCBD22\", \"#17BECF\"], \"font\": {\"color\": \"rgb(36,36,36)\"}, \"geo\": {\"bgcolor\": \"white\", \"lakecolor\": \"white\", \"landcolor\": \"white\", \"showlakes\": true, \"showland\": true, \"subunitcolor\": \"white\"}, \"hoverlabel\": {\"align\": \"left\"}, \"hovermode\": \"closest\", \"mapbox\": {\"style\": \"light\"}, \"paper_bgcolor\": \"white\", \"plot_bgcolor\": \"white\", \"polar\": {\"angularaxis\": {\"gridcolor\": \"rgb(232,232,232)\", \"linecolor\": \"rgb(36,36,36)\", \"showgrid\": false, \"showline\": true, \"ticks\": \"outside\"}, \"bgcolor\": \"white\", \"radialaxis\": {\"gridcolor\": \"rgb(232,232,232)\", \"linecolor\": \"rgb(36,36,36)\", \"showgrid\": false, \"showline\": true, \"ticks\": \"outside\"}}, \"scene\": {\"xaxis\": {\"backgroundcolor\": \"white\", \"gridcolor\": \"rgb(232,232,232)\", \"gridwidth\": 2, \"linecolor\": \"rgb(36,36,36)\", \"showbackground\": true, \"showgrid\": false, \"showline\": true, \"ticks\": \"outside\", \"zeroline\": false, \"zerolinecolor\": \"rgb(36,36,36)\"}, \"yaxis\": {\"backgroundcolor\": \"white\", \"gridcolor\": \"rgb(232,232,232)\", \"gridwidth\": 2, \"linecolor\": \"rgb(36,36,36)\", \"showbackground\": true, \"showgrid\": false, \"showline\": true, \"ticks\": \"outside\", \"zeroline\": false, \"zerolinecolor\": \"rgb(36,36,36)\"}, \"zaxis\": {\"backgroundcolor\": \"white\", \"gridcolor\": \"rgb(232,232,232)\", \"gridwidth\": 2, \"linecolor\": \"rgb(36,36,36)\", \"showbackground\": true, \"showgrid\": false, \"showline\": true, \"ticks\": \"outside\", \"zeroline\": false, \"zerolinecolor\": \"rgb(36,36,36)\"}}, \"shapedefaults\": {\"fillcolor\": \"black\", \"line\": {\"width\": 0}, \"opacity\": 0.3}, \"ternary\": {\"aaxis\": {\"gridcolor\": \"rgb(232,232,232)\", \"linecolor\": \"rgb(36,36,36)\", \"showgrid\": false, \"showline\": true, \"ticks\": \"outside\"}, \"baxis\": {\"gridcolor\": \"rgb(232,232,232)\", \"linecolor\": \"rgb(36,36,36)\", \"showgrid\": false, \"showline\": true, \"ticks\": \"outside\"}, \"bgcolor\": \"white\", \"caxis\": {\"gridcolor\": \"rgb(232,232,232)\", \"linecolor\": \"rgb(36,36,36)\", \"showgrid\": false, \"showline\": true, \"ticks\": \"outside\"}}, \"title\": {\"x\": 0.05}, \"xaxis\": {\"automargin\": true, \"gridcolor\": \"rgb(232,232,232)\", \"linecolor\": \"rgb(36,36,36)\", \"showgrid\": false, \"showline\": true, \"ticks\": \"outside\", \"title\": {\"standoff\": 15}, \"zeroline\": false, \"zerolinecolor\": \"rgb(36,36,36)\"}, \"yaxis\": {\"automargin\": true, \"gridcolor\": \"rgb(232,232,232)\", \"linecolor\": \"rgb(36,36,36)\", \"showgrid\": false, \"showline\": true, \"ticks\": \"outside\", \"title\": {\"standoff\": 15}, \"zeroline\": false, \"zerolinecolor\": \"rgb(36,36,36)\"}}}, \"title\": {\"text\": \"Dual Axis - Subreddit Comments and Candidate Favourability (18-29 Age Group)\"}, \"xaxis\": {\"anchor\": \"y\", \"domain\": [0.0, 0.94], \"title\": {\"text\": \"Date\"}}, \"yaxis\": {\"anchor\": \"x\", \"domain\": [0.0, 1.0], \"title\": {\"text\": \"<b>Candidate</b> Favourability\"}}, \"yaxis2\": {\"anchor\": \"x\", \"overlaying\": \"y\", \"side\": \"right\", \"title\": {\"text\": \"<b>Subreddit</b> Comments\"}}},\n",
       "                        {\"responsive\": true}\n",
       "                    ).then(function(){\n",
       "                            \n",
       "var gd = document.getElementById('a3c29f9b-06af-4d82-bbaf-0a46e5be3c55');\n",
       "var x = new MutationObserver(function (mutations, observer) {{\n",
       "        var display = window.getComputedStyle(gd).display;\n",
       "        if (!display || display === 'none') {{\n",
       "            console.log([gd, 'removed!']);\n",
       "            Plotly.purge(gd);\n",
       "            observer.disconnect();\n",
       "        }}\n",
       "}});\n",
       "\n",
       "// Listen for the removal of the full notebook cells\n",
       "var notebookContainer = gd.closest('#notebook-container');\n",
       "if (notebookContainer) {{\n",
       "    x.observe(notebookContainer, {childList: true});\n",
       "}}\n",
       "\n",
       "// Listen for the clearing of the current output cell\n",
       "var outputEl = gd.closest('.output');\n",
       "if (outputEl) {{\n",
       "    x.observe(outputEl, {childList: true});\n",
       "}}\n",
       "\n",
       "                        })\n",
       "                };\n",
       "                });\n",
       "            </script>\n",
       "        </div>"
      ]
     },
     "metadata": {},
     "output_type": "display_data"
    }
   ],
   "source": [
    "from plotly.subplots import make_subplots\n",
    "# legend_groups = \n",
    "# Create figure with secondary y-axis\n",
    "fig = make_subplots(specs=[[{\"secondary_y\": True}]])\n",
    "# Add subreddit comments\n",
    "for sub,cand,col in zip(left_candidates,pretty_names,concat_col_names):\n",
    "    data = subreddit_comments[subreddit_comments[\"subreddit\"] == sub]\n",
    "    fig.add_trace(\n",
    "        go.Scatter(x=data[\"date\"],\n",
    "                   y=data[\"count\"],\n",
    "                   name=\"{} Subreddit Comments\".format(sub),\n",
    "                   line_shape=\"spline\",\n",
    "                   mode='lines',\n",
    "                   legendgroup=cand,\n",
    "                   line=dict(color=mapping[sub],dash='dash')),\n",
    "        secondary_y=True)\n",
    "    # Add from media coverage\n",
    "    fig.add_trace(go.Scatter(x=young_voters_agg[\"date\"],\n",
    "                             y=young_voters_agg[col], \n",
    "                             mode='lines',\n",
    "                             line_shape=\"spline\",\n",
    "                             legendgroup=cand,\n",
    "                             name=\"{} Polling Avg\".format(cand),\n",
    "                             line=dict(color=poll_mapping[cand])\n",
    "                            ),\n",
    "                 secondary_y=False)\n",
    "\n",
    "\n",
    "\n",
    "# Add figure title\n",
    "fig.update_layout(\n",
    "    font=dict(size=14),\n",
    "    title_text=\"Dual Axis - Subreddit Comments and Candidate Favourability (18-29 Age Group)\",\n",
    "    template=\"simple_white\",\n",
    "    legend=dict(orientation='v', x=1.1, xanchor='left', y=1),\n",
    ")\n",
    "\n",
    "fig.update_xaxes(title_text=\"Date\")\n",
    "\n",
    "# Set y-axes titles\n",
    "fig.update_yaxes(title_text=\"<b>Candidate</b> Favourability\", secondary_y=False)\n",
    "fig.update_yaxes(title_text=\"<b>Subreddit</b> Comments\", secondary_y=True)\n",
    "# fig.write_html(\"visualizations/temporal/{}_BI_counts_vs_polling_avg-YOUNG.html\".format(TIME_FRAME))\n",
    "fig.show()"
   ]
  },
  {
   "cell_type": "markdown",
   "metadata": {},
   "source": [
    "## Pearson Correlation\n",
    "Correlation between candidate polling and subreddit comments"
   ]
  },
  {
   "cell_type": "code",
   "execution_count": 31,
   "metadata": {
    "scrolled": true
   },
   "outputs": [
    {
     "data": {
      "text/html": [
       "<div>\n",
       "<style scoped>\n",
       "    .dataframe tbody tr th:only-of-type {\n",
       "        vertical-align: middle;\n",
       "    }\n",
       "\n",
       "    .dataframe tbody tr th {\n",
       "        vertical-align: top;\n",
       "    }\n",
       "\n",
       "    .dataframe thead th {\n",
       "        text-align: right;\n",
       "    }\n",
       "</style>\n",
       "<table border=\"1\" class=\"dataframe\">\n",
       "  <thead>\n",
       "    <tr style=\"text-align: right;\">\n",
       "      <th></th>\n",
       "      <th>date</th>\n",
       "      <th>candidate</th>\n",
       "      <th>polling_avg</th>\n",
       "      <th>count</th>\n",
       "    </tr>\n",
       "  </thead>\n",
       "  <tbody>\n",
       "    <tr>\n",
       "      <th>24</th>\n",
       "      <td>2019-01</td>\n",
       "      <td>Amy Klobuchar</td>\n",
       "      <td>0.041982</td>\n",
       "      <td>101</td>\n",
       "    </tr>\n",
       "    <tr>\n",
       "      <th>60</th>\n",
       "      <td>2019-01</td>\n",
       "      <td>Andrew Yang</td>\n",
       "      <td>0.000000</td>\n",
       "      <td>95</td>\n",
       "    </tr>\n",
       "    <tr>\n",
       "      <th>12</th>\n",
       "      <td>2019-01</td>\n",
       "      <td>Bernie Sanders</td>\n",
       "      <td>0.240881</td>\n",
       "      <td>22016</td>\n",
       "    </tr>\n",
       "    <tr>\n",
       "      <th>36</th>\n",
       "      <td>2019-01</td>\n",
       "      <td>Elizabeth Warren</td>\n",
       "      <td>0.124570</td>\n",
       "      <td>454</td>\n",
       "    </tr>\n",
       "    <tr>\n",
       "      <th>0</th>\n",
       "      <td>2019-01</td>\n",
       "      <td>Joe Biden</td>\n",
       "      <td>0.281487</td>\n",
       "      <td>1</td>\n",
       "    </tr>\n",
       "  </tbody>\n",
       "</table>\n",
       "</div>"
      ],
      "text/plain": [
       "       date         candidate  polling_avg  count\n",
       "24  2019-01     Amy Klobuchar     0.041982    101\n",
       "60  2019-01       Andrew Yang     0.000000     95\n",
       "12  2019-01    Bernie Sanders     0.240881  22016\n",
       "36  2019-01  Elizabeth Warren     0.124570    454\n",
       "0   2019-01         Joe Biden     0.281487      1"
      ]
     },
     "execution_count": 31,
     "metadata": {},
     "output_type": "execute_result"
    }
   ],
   "source": [
    "t1 = polling_agg[[\"date\",\"supports_biden\",\"supports_sanders\",\"supports_klobuchar\",\"supports_warren\",\"supports_buttigieg\",\"supports_yang\"]]\n",
    "t1.columns = [\"date\",\"Joe Biden\",\"Bernie Sanders\",\"Amy Klobuchar\",\"Elizabeth Warren\",\"Pete Buttigieg\",\"Andrew Yang\"]\n",
    "t1 = pd.melt(t1, \n",
    "            id_vars='date', \n",
    "            value_vars=list(t1.columns)[1:], # list of days of the week\n",
    "            var_name='candidate',\n",
    "            value_name='polling_avg')\n",
    "t1[\"date\"] = t1[\"date\"].dt.to_period('M')\n",
    "\n",
    "t2 = subreddit_comments[subreddit_comments[\"subreddit\"] != \"The_Donald\"].copy()\n",
    "t2[\"date\"] = t2[\"date\"].dt.to_period('M')\n",
    "m = {\n",
    "    \"SandersForPresident\": \"Bernie Sanders\",\n",
    "    \"BaemyKlobaechar\": \"Amy Klobuchar\",\n",
    "    \"JoeBiden\": \"Joe Biden\",\n",
    "    \"ElizabethWarren\": \"Elizabeth Warren\",\n",
    "    \"Pete_Buttigieg\": \"Pete Buttigieg\",\n",
    "    \"YangForPresidentHQ\": \"Andrew Yang\"\n",
    "}\n",
    "t2[\"subreddit\"] = t2[\"subreddit\"].apply(lambda x : m[x])\n",
    "polling_comments_df = pd.merge(t1, t2,  how='inner', left_on=['date','candidate'], right_on = ['date','subreddit']).sort_values([\"date\",\"candidate\"])\n",
    "polling_comments_df = polling_comments_df.drop(\"subreddit\",axis=1)\n",
    "polling_comments_df.head()"
   ]
  },
  {
   "cell_type": "markdown",
   "metadata": {},
   "source": [
    "### Only Young Voters"
   ]
  },
  {
   "cell_type": "code",
   "execution_count": 32,
   "metadata": {},
   "outputs": [
    {
     "data": {
      "text/html": [
       "<div>\n",
       "<style scoped>\n",
       "    .dataframe tbody tr th:only-of-type {\n",
       "        vertical-align: middle;\n",
       "    }\n",
       "\n",
       "    .dataframe tbody tr th {\n",
       "        vertical-align: top;\n",
       "    }\n",
       "\n",
       "    .dataframe thead th {\n",
       "        text-align: right;\n",
       "    }\n",
       "</style>\n",
       "<table border=\"1\" class=\"dataframe\">\n",
       "  <thead>\n",
       "    <tr style=\"text-align: right;\">\n",
       "      <th></th>\n",
       "      <th>date</th>\n",
       "      <th>candidate</th>\n",
       "      <th>polling_avg</th>\n",
       "      <th>count</th>\n",
       "    </tr>\n",
       "  </thead>\n",
       "  <tbody>\n",
       "    <tr>\n",
       "      <th>24</th>\n",
       "      <td>2019-01</td>\n",
       "      <td>Amy Klobuchar</td>\n",
       "      <td>0.020460</td>\n",
       "      <td>101</td>\n",
       "    </tr>\n",
       "    <tr>\n",
       "      <th>60</th>\n",
       "      <td>2019-01</td>\n",
       "      <td>Andrew Yang</td>\n",
       "      <td>0.000000</td>\n",
       "      <td>95</td>\n",
       "    </tr>\n",
       "    <tr>\n",
       "      <th>12</th>\n",
       "      <td>2019-01</td>\n",
       "      <td>Bernie Sanders</td>\n",
       "      <td>0.312020</td>\n",
       "      <td>22016</td>\n",
       "    </tr>\n",
       "    <tr>\n",
       "      <th>36</th>\n",
       "      <td>2019-01</td>\n",
       "      <td>Elizabeth Warren</td>\n",
       "      <td>0.076726</td>\n",
       "      <td>454</td>\n",
       "    </tr>\n",
       "    <tr>\n",
       "      <th>0</th>\n",
       "      <td>2019-01</td>\n",
       "      <td>Joe Biden</td>\n",
       "      <td>0.263427</td>\n",
       "      <td>1</td>\n",
       "    </tr>\n",
       "  </tbody>\n",
       "</table>\n",
       "</div>"
      ],
      "text/plain": [
       "       date         candidate  polling_avg  count\n",
       "24  2019-01     Amy Klobuchar     0.020460    101\n",
       "60  2019-01       Andrew Yang     0.000000     95\n",
       "12  2019-01    Bernie Sanders     0.312020  22016\n",
       "36  2019-01  Elizabeth Warren     0.076726    454\n",
       "0   2019-01         Joe Biden     0.263427      1"
      ]
     },
     "execution_count": 32,
     "metadata": {},
     "output_type": "execute_result"
    }
   ],
   "source": [
    "t1 = young_voters_agg[[\"date\",\"supports_biden\",\"supports_sanders\",\"supports_klobuchar\",\"supports_warren\",\"supports_buttigieg\",\"supports_yang\"]]\n",
    "t1.columns = [\"date\",\"Joe Biden\",\"Bernie Sanders\",\"Amy Klobuchar\",\"Elizabeth Warren\",\"Pete Buttigieg\",\"Andrew Yang\"]\n",
    "t1 = pd.melt(t1, \n",
    "            id_vars='date', \n",
    "            value_vars=list(t1.columns)[1:], # candidates\n",
    "            var_name='candidate',\n",
    "            value_name='polling_avg')\n",
    "t1[\"date\"] = t1[\"date\"].dt.to_period('M')\n",
    "\n",
    "t2 = subreddit_comments[subreddit_comments[\"subreddit\"] != \"The_Donald\"].copy()\n",
    "t2[\"date\"] = t2[\"date\"].dt.to_period('M')\n",
    "t2[\"subreddit\"] = t2[\"subreddit\"].apply(lambda x : m[x])\n",
    "polling_comments_df_young = pd.merge(t1, t2,  how='inner', left_on=['date','candidate'], right_on = ['date','subreddit']).sort_values([\"date\",\"candidate\"])\n",
    "polling_comments_df_young = polling_comments_df_young.drop(\"subreddit\",axis=1)\n",
    "polling_comments_df_young.head()"
   ]
  },
  {
   "cell_type": "markdown",
   "metadata": {},
   "source": [
    "### Visualize"
   ]
  },
  {
   "cell_type": "code",
   "execution_count": 33,
   "metadata": {},
   "outputs": [
    {
     "data": {
      "application/vnd.plotly.v1+json": {
       "config": {
        "plotlyServerURL": "https://plot.ly"
       },
       "data": [
        {
         "legendgroup": "Joe Biden",
         "marker": {
          "color": "#636EFA"
         },
         "mode": "markers",
         "name": "Joe Biden",
         "type": "scatter",
         "x": [
          0.2814865794907089,
          0.3145687364097608,
          0.30970017636684305,
          0.2845849802371542,
          0.292755991285403,
          0.27526015441423296,
          0.26872516050137574,
          0.24843796489140138,
          0.24300155520995334,
          0.22868217054263565,
          0.2298477157360406,
          0.21682393093756275
         ],
         "xaxis": "x",
         "y": [
          1,
          11,
          36,
          839,
          1414,
          1531,
          1037,
          1825,
          1912,
          1156,
          1716,
          3825
         ],
         "yaxis": "y"
        },
        {
         "legendgroup": "Joe Biden",
         "marker": {
          "color": "#636EFA"
         },
         "mode": "markers",
         "name": "Joe Biden",
         "showlegend": false,
         "type": "scatter",
         "x": [
          0.26342710997442453,
          0.2702970297029703,
          0.2787958115183246,
          0.2396351575456053,
          0.22526817640047675,
          0.23087071240105542,
          0.21328671328671328,
          0.19055287171229202,
          0.1682727946627131,
          0.1836734693877551,
          0.1805993690851735,
          0.18830675778283978
         ],
         "xaxis": "x2",
         "y": [
          1,
          11,
          36,
          839,
          1414,
          1531,
          1037,
          1825,
          1912,
          1156,
          1716,
          3825
         ],
         "yaxis": "y2"
        },
        {
         "legendgroup": "Bernie Sanders",
         "marker": {
          "color": "#EF553B"
         },
         "mode": "markers",
         "name": "Bernie Sanders",
         "type": "scatter",
         "x": [
          0.24088093599449414,
          0.24861077554964967,
          0.24761904761904763,
          0.23715415019762845,
          0.21922657952069716,
          0.22054380664652568,
          0.21094466523998778,
          0.22433799464445106,
          0.20820373250388802,
          0.21201550387596899,
          0.20588832487309644,
          0.22565749849427827
         ],
         "xaxis": "x",
         "y": [
          22016,
          56683,
          67497,
          64758,
          37354,
          71863,
          57860,
          86820,
          79887,
          87907,
          71442,
          90414
         ],
         "yaxis": "y"
        },
        {
         "legendgroup": "Bernie Sanders",
         "marker": {
          "color": "#EF553B"
         },
         "mode": "markers",
         "name": "Bernie Sanders",
         "showlegend": false,
         "type": "scatter",
         "x": [
          0.31202046035805625,
          0.31683168316831684,
          0.3036649214659686,
          0.3043117744610282,
          0.2800953516090584,
          0.27506596306068604,
          0.2773892773892774,
          0.3070316693505099,
          0.2727946627131208,
          0.2819349962207105,
          0.2744479495268139,
          0.2900531511009871
         ],
         "xaxis": "x2",
         "y": [
          22016,
          56683,
          67497,
          64758,
          37354,
          71863,
          57860,
          86820,
          79887,
          87907,
          71442,
          90414
         ],
         "yaxis": "y2"
        },
        {
         "legendgroup": "Amy Klobuchar",
         "marker": {
          "color": "#00CC96"
         },
         "mode": "markers",
         "name": "Amy Klobuchar",
         "type": "scatter",
         "x": [
          0.04198210598761184,
          0.04807924619473303,
          0.05291005291005291,
          0.04413702239789196,
          0.04357298474945534,
          0.04447801275595838,
          0.04188321614185264,
          0.03882772984230884,
          0.04743390357698289,
          0.05406976744186046,
          0.055228426395939084,
          0.05280064244127685
         ],
         "xaxis": "x",
         "y": [
          101,
          239,
          28,
          31,
          13,
          47,
          22,
          107,
          136,
          139,
          82,
          211
         ],
         "yaxis": "y"
        },
        {
         "legendgroup": "Amy Klobuchar",
         "marker": {
          "color": "#00CC96"
         },
         "mode": "markers",
         "name": "Amy Klobuchar",
         "showlegend": false,
         "type": "scatter",
         "x": [
          0.020460358056265986,
          0.02574257425742574,
          0.032722513089005235,
          0.026533996683250415,
          0.023837902264600714,
          0.023746701846965697,
          0.02097902097902098,
          0.01932367149758454,
          0.026686434395848776,
          0.025699168556311415,
          0.02050473186119874,
          0.022779043280182234
         ],
         "xaxis": "x2",
         "y": [
          101,
          239,
          28,
          31,
          13,
          47,
          22,
          107,
          136,
          139,
          82,
          211
         ],
         "yaxis": "y2"
        },
        {
         "legendgroup": "Elizabeth Warren",
         "marker": {
          "color": "#AB63FA"
         },
         "mode": "markers",
         "name": "Elizabeth Warren",
         "type": "scatter",
         "x": [
          0.12456985547143841,
          0.13723121526938875,
          0.13686067019400353,
          0.12472551602986386,
          0.14079520697167755,
          0.15777106411547498,
          0.17639865484561296,
          0.17643558464742637,
          0.18409797822706064,
          0.18895348837209303,
          0.18111675126903554,
          0.17265609315398514
         ],
         "xaxis": "x",
         "y": [
          454,
          445,
          366,
          1561,
          2921,
          7242,
          7370,
          8759,
          13839,
          19781,
          17708,
          11451
         ],
         "yaxis": "y"
        },
        {
         "legendgroup": "Elizabeth Warren",
         "marker": {
          "color": "#AB63FA"
         },
         "mode": "markers",
         "name": "Elizabeth Warren",
         "showlegend": false,
         "type": "scatter",
         "x": [
          0.07672634271099744,
          0.10891089108910891,
          0.1243455497382199,
          0.1044776119402985,
          0.13230035756853398,
          0.1312664907651715,
          0.1561771561771562,
          0.16586151368760063,
          0.16160118606375093,
          0.17913832199546487,
          0.17429022082018927,
          0.16856492027334852
         ],
         "xaxis": "x2",
         "y": [
          454,
          445,
          366,
          1561,
          2921,
          7242,
          7370,
          8759,
          13839,
          19781,
          17708,
          11451
         ],
         "yaxis": "y2"
        },
        {
         "legendgroup": "Pete Buttigieg",
         "marker": {
          "color": "#FFA15A"
         },
         "mode": "markers",
         "name": "Pete Buttigieg",
         "type": "scatter",
         "x": [
          0.012388162422573986,
          0.01836192316984779,
          0.039858906525573196,
          0.09003074220465525,
          0.09313725490196079,
          0.0931520644511581,
          0.09293793946805258,
          0.09654864623623921,
          0.0942846034214619,
          0.09709302325581395,
          0.10091370558375634,
          0.10279060429632604
         ],
         "xaxis": "x",
         "y": [
          21,
          144,
          12604,
          48305,
          21619,
          27709,
          30785,
          22679,
          24136,
          35638,
          57412,
          73831
         ],
         "yaxis": "y"
        },
        {
         "legendgroup": "Pete Buttigieg",
         "marker": {
          "color": "#FFA15A"
         },
         "mode": "markers",
         "name": "Pete Buttigieg",
         "showlegend": false,
         "type": "scatter",
         "x": [
          0.01278772378516624,
          0.009900990099009901,
          0.02225130890052356,
          0.0505804311774461,
          0.06197854588796186,
          0.052110817941952506,
          0.06643356643356643,
          0.06763285024154589,
          0.05930318754633061,
          0.05895691609977324,
          0.06782334384858044,
          0.05618830675778284
         ],
         "xaxis": "x2",
         "y": [
          21,
          144,
          12604,
          48305,
          21619,
          27709,
          30785,
          22679,
          24136,
          35638,
          57412,
          73831
         ],
         "yaxis": "y2"
        },
        {
         "legendgroup": "Andrew Yang",
         "marker": {
          "color": "#19D3F3"
         },
         "mode": "markers",
         "name": "Andrew Yang",
         "type": "scatter",
         "x": [
          0,
          0,
          0.015873015873015872,
          0.028765920070267896,
          0.03867102396514161,
          0.04380664652567976,
          0.047386120452461024,
          0.06233263909550729,
          0.0812597200622084,
          0.09186046511627907,
          0.08730964467005076,
          0.10078297530616342
         ],
         "xaxis": "x",
         "y": [
          95,
          3138,
          43978,
          53512,
          30442,
          62914,
          79167,
          176906,
          189596,
          165746,
          155684,
          225756
         ],
         "yaxis": "y"
        },
        {
         "legendgroup": "Andrew Yang",
         "marker": {
          "color": "#19D3F3"
         },
         "mode": "markers",
         "name": "Andrew Yang",
         "showlegend": false,
         "type": "scatter",
         "x": [
          0,
          0,
          0.028795811518324606,
          0.0472636815920398,
          0.060786650774731825,
          0.06992084432717678,
          0.0675990675990676,
          0.08856682769726248,
          0.13269088213491476,
          0.13907785336356765,
          0.14826498422712933,
          0.14958238420653
         ],
         "xaxis": "x2",
         "y": [
          95,
          3138,
          43978,
          53512,
          30442,
          62914,
          79167,
          176906,
          189596,
          165746,
          155684,
          225756
         ],
         "yaxis": "y2"
        }
       ],
       "layout": {
        "annotations": [
         {
          "font": {
           "size": 16
          },
          "showarrow": false,
          "text": "Overall Populous",
          "x": 0.225,
          "xanchor": "center",
          "xref": "paper",
          "y": 1,
          "yanchor": "bottom",
          "yref": "paper"
         },
         {
          "font": {
           "size": 16
          },
          "showarrow": false,
          "text": "18-29 Age Group",
          "x": 0.775,
          "xanchor": "center",
          "xref": "paper",
          "y": 1,
          "yanchor": "bottom",
          "yref": "paper"
         }
        ],
        "font": {
         "size": 18
        },
        "template": {
         "data": {
          "bar": [
           {
            "error_x": {
             "color": "rgb(36,36,36)"
            },
            "error_y": {
             "color": "rgb(36,36,36)"
            },
            "marker": {
             "line": {
              "color": "white",
              "width": 0.5
             }
            },
            "type": "bar"
           }
          ],
          "barpolar": [
           {
            "marker": {
             "line": {
              "color": "white",
              "width": 0.5
             }
            },
            "type": "barpolar"
           }
          ],
          "carpet": [
           {
            "aaxis": {
             "endlinecolor": "rgb(36,36,36)",
             "gridcolor": "white",
             "linecolor": "white",
             "minorgridcolor": "white",
             "startlinecolor": "rgb(36,36,36)"
            },
            "baxis": {
             "endlinecolor": "rgb(36,36,36)",
             "gridcolor": "white",
             "linecolor": "white",
             "minorgridcolor": "white",
             "startlinecolor": "rgb(36,36,36)"
            },
            "type": "carpet"
           }
          ],
          "choropleth": [
           {
            "colorbar": {
             "outlinewidth": 1,
             "tickcolor": "rgb(36,36,36)",
             "ticks": "outside"
            },
            "type": "choropleth"
           }
          ],
          "contour": [
           {
            "colorbar": {
             "outlinewidth": 1,
             "tickcolor": "rgb(36,36,36)",
             "ticks": "outside"
            },
            "colorscale": [
             [
              0,
              "#440154"
             ],
             [
              0.1111111111111111,
              "#482878"
             ],
             [
              0.2222222222222222,
              "#3e4989"
             ],
             [
              0.3333333333333333,
              "#31688e"
             ],
             [
              0.4444444444444444,
              "#26828e"
             ],
             [
              0.5555555555555556,
              "#1f9e89"
             ],
             [
              0.6666666666666666,
              "#35b779"
             ],
             [
              0.7777777777777778,
              "#6ece58"
             ],
             [
              0.8888888888888888,
              "#b5de2b"
             ],
             [
              1,
              "#fde725"
             ]
            ],
            "type": "contour"
           }
          ],
          "contourcarpet": [
           {
            "colorbar": {
             "outlinewidth": 1,
             "tickcolor": "rgb(36,36,36)",
             "ticks": "outside"
            },
            "type": "contourcarpet"
           }
          ],
          "heatmap": [
           {
            "colorbar": {
             "outlinewidth": 1,
             "tickcolor": "rgb(36,36,36)",
             "ticks": "outside"
            },
            "colorscale": [
             [
              0,
              "#440154"
             ],
             [
              0.1111111111111111,
              "#482878"
             ],
             [
              0.2222222222222222,
              "#3e4989"
             ],
             [
              0.3333333333333333,
              "#31688e"
             ],
             [
              0.4444444444444444,
              "#26828e"
             ],
             [
              0.5555555555555556,
              "#1f9e89"
             ],
             [
              0.6666666666666666,
              "#35b779"
             ],
             [
              0.7777777777777778,
              "#6ece58"
             ],
             [
              0.8888888888888888,
              "#b5de2b"
             ],
             [
              1,
              "#fde725"
             ]
            ],
            "type": "heatmap"
           }
          ],
          "heatmapgl": [
           {
            "colorbar": {
             "outlinewidth": 1,
             "tickcolor": "rgb(36,36,36)",
             "ticks": "outside"
            },
            "colorscale": [
             [
              0,
              "#440154"
             ],
             [
              0.1111111111111111,
              "#482878"
             ],
             [
              0.2222222222222222,
              "#3e4989"
             ],
             [
              0.3333333333333333,
              "#31688e"
             ],
             [
              0.4444444444444444,
              "#26828e"
             ],
             [
              0.5555555555555556,
              "#1f9e89"
             ],
             [
              0.6666666666666666,
              "#35b779"
             ],
             [
              0.7777777777777778,
              "#6ece58"
             ],
             [
              0.8888888888888888,
              "#b5de2b"
             ],
             [
              1,
              "#fde725"
             ]
            ],
            "type": "heatmapgl"
           }
          ],
          "histogram": [
           {
            "marker": {
             "line": {
              "color": "white",
              "width": 0.6
             }
            },
            "type": "histogram"
           }
          ],
          "histogram2d": [
           {
            "colorbar": {
             "outlinewidth": 1,
             "tickcolor": "rgb(36,36,36)",
             "ticks": "outside"
            },
            "colorscale": [
             [
              0,
              "#440154"
             ],
             [
              0.1111111111111111,
              "#482878"
             ],
             [
              0.2222222222222222,
              "#3e4989"
             ],
             [
              0.3333333333333333,
              "#31688e"
             ],
             [
              0.4444444444444444,
              "#26828e"
             ],
             [
              0.5555555555555556,
              "#1f9e89"
             ],
             [
              0.6666666666666666,
              "#35b779"
             ],
             [
              0.7777777777777778,
              "#6ece58"
             ],
             [
              0.8888888888888888,
              "#b5de2b"
             ],
             [
              1,
              "#fde725"
             ]
            ],
            "type": "histogram2d"
           }
          ],
          "histogram2dcontour": [
           {
            "colorbar": {
             "outlinewidth": 1,
             "tickcolor": "rgb(36,36,36)",
             "ticks": "outside"
            },
            "colorscale": [
             [
              0,
              "#440154"
             ],
             [
              0.1111111111111111,
              "#482878"
             ],
             [
              0.2222222222222222,
              "#3e4989"
             ],
             [
              0.3333333333333333,
              "#31688e"
             ],
             [
              0.4444444444444444,
              "#26828e"
             ],
             [
              0.5555555555555556,
              "#1f9e89"
             ],
             [
              0.6666666666666666,
              "#35b779"
             ],
             [
              0.7777777777777778,
              "#6ece58"
             ],
             [
              0.8888888888888888,
              "#b5de2b"
             ],
             [
              1,
              "#fde725"
             ]
            ],
            "type": "histogram2dcontour"
           }
          ],
          "mesh3d": [
           {
            "colorbar": {
             "outlinewidth": 1,
             "tickcolor": "rgb(36,36,36)",
             "ticks": "outside"
            },
            "type": "mesh3d"
           }
          ],
          "parcoords": [
           {
            "line": {
             "colorbar": {
              "outlinewidth": 1,
              "tickcolor": "rgb(36,36,36)",
              "ticks": "outside"
             }
            },
            "type": "parcoords"
           }
          ],
          "pie": [
           {
            "automargin": true,
            "type": "pie"
           }
          ],
          "scatter": [
           {
            "marker": {
             "colorbar": {
              "outlinewidth": 1,
              "tickcolor": "rgb(36,36,36)",
              "ticks": "outside"
             }
            },
            "type": "scatter"
           }
          ],
          "scatter3d": [
           {
            "line": {
             "colorbar": {
              "outlinewidth": 1,
              "tickcolor": "rgb(36,36,36)",
              "ticks": "outside"
             }
            },
            "marker": {
             "colorbar": {
              "outlinewidth": 1,
              "tickcolor": "rgb(36,36,36)",
              "ticks": "outside"
             }
            },
            "type": "scatter3d"
           }
          ],
          "scattercarpet": [
           {
            "marker": {
             "colorbar": {
              "outlinewidth": 1,
              "tickcolor": "rgb(36,36,36)",
              "ticks": "outside"
             }
            },
            "type": "scattercarpet"
           }
          ],
          "scattergeo": [
           {
            "marker": {
             "colorbar": {
              "outlinewidth": 1,
              "tickcolor": "rgb(36,36,36)",
              "ticks": "outside"
             }
            },
            "type": "scattergeo"
           }
          ],
          "scattergl": [
           {
            "marker": {
             "colorbar": {
              "outlinewidth": 1,
              "tickcolor": "rgb(36,36,36)",
              "ticks": "outside"
             }
            },
            "type": "scattergl"
           }
          ],
          "scattermapbox": [
           {
            "marker": {
             "colorbar": {
              "outlinewidth": 1,
              "tickcolor": "rgb(36,36,36)",
              "ticks": "outside"
             }
            },
            "type": "scattermapbox"
           }
          ],
          "scatterpolar": [
           {
            "marker": {
             "colorbar": {
              "outlinewidth": 1,
              "tickcolor": "rgb(36,36,36)",
              "ticks": "outside"
             }
            },
            "type": "scatterpolar"
           }
          ],
          "scatterpolargl": [
           {
            "marker": {
             "colorbar": {
              "outlinewidth": 1,
              "tickcolor": "rgb(36,36,36)",
              "ticks": "outside"
             }
            },
            "type": "scatterpolargl"
           }
          ],
          "scatterternary": [
           {
            "marker": {
             "colorbar": {
              "outlinewidth": 1,
              "tickcolor": "rgb(36,36,36)",
              "ticks": "outside"
             }
            },
            "type": "scatterternary"
           }
          ],
          "surface": [
           {
            "colorbar": {
             "outlinewidth": 1,
             "tickcolor": "rgb(36,36,36)",
             "ticks": "outside"
            },
            "colorscale": [
             [
              0,
              "#440154"
             ],
             [
              0.1111111111111111,
              "#482878"
             ],
             [
              0.2222222222222222,
              "#3e4989"
             ],
             [
              0.3333333333333333,
              "#31688e"
             ],
             [
              0.4444444444444444,
              "#26828e"
             ],
             [
              0.5555555555555556,
              "#1f9e89"
             ],
             [
              0.6666666666666666,
              "#35b779"
             ],
             [
              0.7777777777777778,
              "#6ece58"
             ],
             [
              0.8888888888888888,
              "#b5de2b"
             ],
             [
              1,
              "#fde725"
             ]
            ],
            "type": "surface"
           }
          ],
          "table": [
           {
            "cells": {
             "fill": {
              "color": "rgb(237,237,237)"
             },
             "line": {
              "color": "white"
             }
            },
            "header": {
             "fill": {
              "color": "rgb(217,217,217)"
             },
             "line": {
              "color": "white"
             }
            },
            "type": "table"
           }
          ]
         },
         "layout": {
          "annotationdefaults": {
           "arrowhead": 0,
           "arrowwidth": 1
          },
          "coloraxis": {
           "colorbar": {
            "outlinewidth": 1,
            "tickcolor": "rgb(36,36,36)",
            "ticks": "outside"
           }
          },
          "colorscale": {
           "diverging": [
            [
             0,
             "rgb(103,0,31)"
            ],
            [
             0.1,
             "rgb(178,24,43)"
            ],
            [
             0.2,
             "rgb(214,96,77)"
            ],
            [
             0.3,
             "rgb(244,165,130)"
            ],
            [
             0.4,
             "rgb(253,219,199)"
            ],
            [
             0.5,
             "rgb(247,247,247)"
            ],
            [
             0.6,
             "rgb(209,229,240)"
            ],
            [
             0.7,
             "rgb(146,197,222)"
            ],
            [
             0.8,
             "rgb(67,147,195)"
            ],
            [
             0.9,
             "rgb(33,102,172)"
            ],
            [
             1,
             "rgb(5,48,97)"
            ]
           ],
           "sequential": [
            [
             0,
             "#440154"
            ],
            [
             0.1111111111111111,
             "#482878"
            ],
            [
             0.2222222222222222,
             "#3e4989"
            ],
            [
             0.3333333333333333,
             "#31688e"
            ],
            [
             0.4444444444444444,
             "#26828e"
            ],
            [
             0.5555555555555556,
             "#1f9e89"
            ],
            [
             0.6666666666666666,
             "#35b779"
            ],
            [
             0.7777777777777778,
             "#6ece58"
            ],
            [
             0.8888888888888888,
             "#b5de2b"
            ],
            [
             1,
             "#fde725"
            ]
           ],
           "sequentialminus": [
            [
             0,
             "#440154"
            ],
            [
             0.1111111111111111,
             "#482878"
            ],
            [
             0.2222222222222222,
             "#3e4989"
            ],
            [
             0.3333333333333333,
             "#31688e"
            ],
            [
             0.4444444444444444,
             "#26828e"
            ],
            [
             0.5555555555555556,
             "#1f9e89"
            ],
            [
             0.6666666666666666,
             "#35b779"
            ],
            [
             0.7777777777777778,
             "#6ece58"
            ],
            [
             0.8888888888888888,
             "#b5de2b"
            ],
            [
             1,
             "#fde725"
            ]
           ]
          },
          "colorway": [
           "#1F77B4",
           "#FF7F0E",
           "#2CA02C",
           "#D62728",
           "#9467BD",
           "#8C564B",
           "#E377C2",
           "#7F7F7F",
           "#BCBD22",
           "#17BECF"
          ],
          "font": {
           "color": "rgb(36,36,36)"
          },
          "geo": {
           "bgcolor": "white",
           "lakecolor": "white",
           "landcolor": "white",
           "showlakes": true,
           "showland": true,
           "subunitcolor": "white"
          },
          "hoverlabel": {
           "align": "left"
          },
          "hovermode": "closest",
          "mapbox": {
           "style": "light"
          },
          "paper_bgcolor": "white",
          "plot_bgcolor": "white",
          "polar": {
           "angularaxis": {
            "gridcolor": "rgb(232,232,232)",
            "linecolor": "rgb(36,36,36)",
            "showgrid": false,
            "showline": true,
            "ticks": "outside"
           },
           "bgcolor": "white",
           "radialaxis": {
            "gridcolor": "rgb(232,232,232)",
            "linecolor": "rgb(36,36,36)",
            "showgrid": false,
            "showline": true,
            "ticks": "outside"
           }
          },
          "scene": {
           "xaxis": {
            "backgroundcolor": "white",
            "gridcolor": "rgb(232,232,232)",
            "gridwidth": 2,
            "linecolor": "rgb(36,36,36)",
            "showbackground": true,
            "showgrid": false,
            "showline": true,
            "ticks": "outside",
            "zeroline": false,
            "zerolinecolor": "rgb(36,36,36)"
           },
           "yaxis": {
            "backgroundcolor": "white",
            "gridcolor": "rgb(232,232,232)",
            "gridwidth": 2,
            "linecolor": "rgb(36,36,36)",
            "showbackground": true,
            "showgrid": false,
            "showline": true,
            "ticks": "outside",
            "zeroline": false,
            "zerolinecolor": "rgb(36,36,36)"
           },
           "zaxis": {
            "backgroundcolor": "white",
            "gridcolor": "rgb(232,232,232)",
            "gridwidth": 2,
            "linecolor": "rgb(36,36,36)",
            "showbackground": true,
            "showgrid": false,
            "showline": true,
            "ticks": "outside",
            "zeroline": false,
            "zerolinecolor": "rgb(36,36,36)"
           }
          },
          "shapedefaults": {
           "fillcolor": "black",
           "line": {
            "width": 0
           },
           "opacity": 0.3
          },
          "ternary": {
           "aaxis": {
            "gridcolor": "rgb(232,232,232)",
            "linecolor": "rgb(36,36,36)",
            "showgrid": false,
            "showline": true,
            "ticks": "outside"
           },
           "baxis": {
            "gridcolor": "rgb(232,232,232)",
            "linecolor": "rgb(36,36,36)",
            "showgrid": false,
            "showline": true,
            "ticks": "outside"
           },
           "bgcolor": "white",
           "caxis": {
            "gridcolor": "rgb(232,232,232)",
            "linecolor": "rgb(36,36,36)",
            "showgrid": false,
            "showline": true,
            "ticks": "outside"
           }
          },
          "title": {
           "x": 0.05
          },
          "xaxis": {
           "automargin": true,
           "gridcolor": "rgb(232,232,232)",
           "linecolor": "rgb(36,36,36)",
           "showgrid": false,
           "showline": true,
           "ticks": "outside",
           "title": {
            "standoff": 15
           },
           "zeroline": false,
           "zerolinecolor": "rgb(36,36,36)"
          },
          "yaxis": {
           "automargin": true,
           "gridcolor": "rgb(232,232,232)",
           "linecolor": "rgb(36,36,36)",
           "showgrid": false,
           "showline": true,
           "ticks": "outside",
           "title": {
            "standoff": 15
           },
           "zeroline": false,
           "zerolinecolor": "rgb(36,36,36)"
          }
         }
        },
        "title": {
         "text": "Subreddit Comments as a Function of Polling Data"
        },
        "xaxis": {
         "anchor": "y",
         "domain": [
          0,
          0.45
         ],
         "tickformat": ",.0%",
         "title": {
          "text": "Polling Favourability"
         }
        },
        "xaxis2": {
         "anchor": "y2",
         "domain": [
          0.55,
          1
         ],
         "tickformat": ",.0%",
         "title": {
          "text": "Polling Favourability"
         }
        },
        "yaxis": {
         "anchor": "x",
         "domain": [
          0,
          1
         ],
         "title": {
          "text": "# Comments"
         }
        },
        "yaxis2": {
         "anchor": "x2",
         "domain": [
          0,
          1
         ],
         "title": {
          "text": "# Comments"
         }
        }
       }
      },
      "text/html": [
       "<div>\n",
       "        \n",
       "        \n",
       "            <div id=\"4c572ad0-b537-48d8-ad36-49bc4d4a0cf0\" class=\"plotly-graph-div\" style=\"height:525px; width:100%;\"></div>\n",
       "            <script type=\"text/javascript\">\n",
       "                require([\"plotly\"], function(Plotly) {\n",
       "                    window.PLOTLYENV=window.PLOTLYENV || {};\n",
       "                    \n",
       "                if (document.getElementById(\"4c572ad0-b537-48d8-ad36-49bc4d4a0cf0\")) {\n",
       "                    Plotly.newPlot(\n",
       "                        '4c572ad0-b537-48d8-ad36-49bc4d4a0cf0',\n",
       "                        [{\"legendgroup\": \"Joe Biden\", \"marker\": {\"color\": \"#636EFA\"}, \"mode\": \"markers\", \"name\": \"Joe Biden\", \"type\": \"scatter\", \"x\": [0.2814865794907089, 0.3145687364097608, 0.30970017636684305, 0.2845849802371542, 0.292755991285403, 0.27526015441423296, 0.26872516050137574, 0.24843796489140138, 0.24300155520995334, 0.22868217054263565, 0.2298477157360406, 0.21682393093756275], \"xaxis\": \"x\", \"y\": [1, 11, 36, 839, 1414, 1531, 1037, 1825, 1912, 1156, 1716, 3825], \"yaxis\": \"y\"}, {\"legendgroup\": \"Joe Biden\", \"marker\": {\"color\": \"#636EFA\"}, \"mode\": \"markers\", \"name\": \"Joe Biden\", \"showlegend\": false, \"type\": \"scatter\", \"x\": [0.26342710997442453, 0.2702970297029703, 0.2787958115183246, 0.2396351575456053, 0.22526817640047675, 0.23087071240105542, 0.21328671328671328, 0.19055287171229202, 0.1682727946627131, 0.1836734693877551, 0.1805993690851735, 0.18830675778283978], \"xaxis\": \"x2\", \"y\": [1, 11, 36, 839, 1414, 1531, 1037, 1825, 1912, 1156, 1716, 3825], \"yaxis\": \"y2\"}, {\"legendgroup\": \"Bernie Sanders\", \"marker\": {\"color\": \"#EF553B\"}, \"mode\": \"markers\", \"name\": \"Bernie Sanders\", \"type\": \"scatter\", \"x\": [0.24088093599449414, 0.24861077554964967, 0.24761904761904763, 0.23715415019762845, 0.21922657952069716, 0.22054380664652568, 0.21094466523998778, 0.22433799464445106, 0.20820373250388802, 0.21201550387596899, 0.20588832487309644, 0.22565749849427827], \"xaxis\": \"x\", \"y\": [22016, 56683, 67497, 64758, 37354, 71863, 57860, 86820, 79887, 87907, 71442, 90414], \"yaxis\": \"y\"}, {\"legendgroup\": \"Bernie Sanders\", \"marker\": {\"color\": \"#EF553B\"}, \"mode\": \"markers\", \"name\": \"Bernie Sanders\", \"showlegend\": false, \"type\": \"scatter\", \"x\": [0.31202046035805625, 0.31683168316831684, 0.3036649214659686, 0.3043117744610282, 0.2800953516090584, 0.27506596306068604, 0.2773892773892774, 0.3070316693505099, 0.2727946627131208, 0.2819349962207105, 0.2744479495268139, 0.2900531511009871], \"xaxis\": \"x2\", \"y\": [22016, 56683, 67497, 64758, 37354, 71863, 57860, 86820, 79887, 87907, 71442, 90414], \"yaxis\": \"y2\"}, {\"legendgroup\": \"Amy Klobuchar\", \"marker\": {\"color\": \"#00CC96\"}, \"mode\": \"markers\", \"name\": \"Amy Klobuchar\", \"type\": \"scatter\", \"x\": [0.04198210598761184, 0.04807924619473303, 0.05291005291005291, 0.04413702239789196, 0.04357298474945534, 0.04447801275595838, 0.04188321614185264, 0.03882772984230884, 0.04743390357698289, 0.05406976744186046, 0.055228426395939084, 0.05280064244127685], \"xaxis\": \"x\", \"y\": [101, 239, 28, 31, 13, 47, 22, 107, 136, 139, 82, 211], \"yaxis\": \"y\"}, {\"legendgroup\": \"Amy Klobuchar\", \"marker\": {\"color\": \"#00CC96\"}, \"mode\": \"markers\", \"name\": \"Amy Klobuchar\", \"showlegend\": false, \"type\": \"scatter\", \"x\": [0.020460358056265986, 0.02574257425742574, 0.032722513089005235, 0.026533996683250415, 0.023837902264600714, 0.023746701846965697, 0.02097902097902098, 0.01932367149758454, 0.026686434395848776, 0.025699168556311415, 0.02050473186119874, 0.022779043280182234], \"xaxis\": \"x2\", \"y\": [101, 239, 28, 31, 13, 47, 22, 107, 136, 139, 82, 211], \"yaxis\": \"y2\"}, {\"legendgroup\": \"Elizabeth Warren\", \"marker\": {\"color\": \"#AB63FA\"}, \"mode\": \"markers\", \"name\": \"Elizabeth Warren\", \"type\": \"scatter\", \"x\": [0.12456985547143841, 0.13723121526938875, 0.13686067019400353, 0.12472551602986386, 0.14079520697167755, 0.15777106411547498, 0.17639865484561296, 0.17643558464742637, 0.18409797822706064, 0.18895348837209303, 0.18111675126903554, 0.17265609315398514], \"xaxis\": \"x\", \"y\": [454, 445, 366, 1561, 2921, 7242, 7370, 8759, 13839, 19781, 17708, 11451], \"yaxis\": \"y\"}, {\"legendgroup\": \"Elizabeth Warren\", \"marker\": {\"color\": \"#AB63FA\"}, \"mode\": \"markers\", \"name\": \"Elizabeth Warren\", \"showlegend\": false, \"type\": \"scatter\", \"x\": [0.07672634271099744, 0.10891089108910891, 0.1243455497382199, 0.1044776119402985, 0.13230035756853398, 0.1312664907651715, 0.1561771561771562, 0.16586151368760063, 0.16160118606375093, 0.17913832199546487, 0.17429022082018927, 0.16856492027334852], \"xaxis\": \"x2\", \"y\": [454, 445, 366, 1561, 2921, 7242, 7370, 8759, 13839, 19781, 17708, 11451], \"yaxis\": \"y2\"}, {\"legendgroup\": \"Pete Buttigieg\", \"marker\": {\"color\": \"#FFA15A\"}, \"mode\": \"markers\", \"name\": \"Pete Buttigieg\", \"type\": \"scatter\", \"x\": [0.012388162422573986, 0.01836192316984779, 0.039858906525573196, 0.09003074220465525, 0.09313725490196079, 0.0931520644511581, 0.09293793946805258, 0.09654864623623921, 0.0942846034214619, 0.09709302325581395, 0.10091370558375634, 0.10279060429632604], \"xaxis\": \"x\", \"y\": [21, 144, 12604, 48305, 21619, 27709, 30785, 22679, 24136, 35638, 57412, 73831], \"yaxis\": \"y\"}, {\"legendgroup\": \"Pete Buttigieg\", \"marker\": {\"color\": \"#FFA15A\"}, \"mode\": \"markers\", \"name\": \"Pete Buttigieg\", \"showlegend\": false, \"type\": \"scatter\", \"x\": [0.01278772378516624, 0.009900990099009901, 0.02225130890052356, 0.0505804311774461, 0.06197854588796186, 0.052110817941952506, 0.06643356643356643, 0.06763285024154589, 0.05930318754633061, 0.05895691609977324, 0.06782334384858044, 0.05618830675778284], \"xaxis\": \"x2\", \"y\": [21, 144, 12604, 48305, 21619, 27709, 30785, 22679, 24136, 35638, 57412, 73831], \"yaxis\": \"y2\"}, {\"legendgroup\": \"Andrew Yang\", \"marker\": {\"color\": \"#19D3F3\"}, \"mode\": \"markers\", \"name\": \"Andrew Yang\", \"type\": \"scatter\", \"x\": [0.0, 0.0, 0.015873015873015872, 0.028765920070267896, 0.03867102396514161, 0.04380664652567976, 0.047386120452461024, 0.06233263909550729, 0.0812597200622084, 0.09186046511627907, 0.08730964467005076, 0.10078297530616342], \"xaxis\": \"x\", \"y\": [95, 3138, 43978, 53512, 30442, 62914, 79167, 176906, 189596, 165746, 155684, 225756], \"yaxis\": \"y\"}, {\"legendgroup\": \"Andrew Yang\", \"marker\": {\"color\": \"#19D3F3\"}, \"mode\": \"markers\", \"name\": \"Andrew Yang\", \"showlegend\": false, \"type\": \"scatter\", \"x\": [0.0, 0.0, 0.028795811518324606, 0.0472636815920398, 0.060786650774731825, 0.06992084432717678, 0.0675990675990676, 0.08856682769726248, 0.13269088213491476, 0.13907785336356765, 0.14826498422712933, 0.14958238420653], \"xaxis\": \"x2\", \"y\": [95, 3138, 43978, 53512, 30442, 62914, 79167, 176906, 189596, 165746, 155684, 225756], \"yaxis\": \"y2\"}],\n",
       "                        {\"annotations\": [{\"font\": {\"size\": 16}, \"showarrow\": false, \"text\": \"Overall Populous\", \"x\": 0.225, \"xanchor\": \"center\", \"xref\": \"paper\", \"y\": 1.0, \"yanchor\": \"bottom\", \"yref\": \"paper\"}, {\"font\": {\"size\": 16}, \"showarrow\": false, \"text\": \"18-29 Age Group\", \"x\": 0.775, \"xanchor\": \"center\", \"xref\": \"paper\", \"y\": 1.0, \"yanchor\": \"bottom\", \"yref\": \"paper\"}], \"font\": {\"size\": 18}, \"template\": {\"data\": {\"bar\": [{\"error_x\": {\"color\": \"rgb(36,36,36)\"}, \"error_y\": {\"color\": \"rgb(36,36,36)\"}, \"marker\": {\"line\": {\"color\": \"white\", \"width\": 0.5}}, \"type\": \"bar\"}], \"barpolar\": [{\"marker\": {\"line\": {\"color\": \"white\", \"width\": 0.5}}, \"type\": \"barpolar\"}], \"carpet\": [{\"aaxis\": {\"endlinecolor\": \"rgb(36,36,36)\", \"gridcolor\": \"white\", \"linecolor\": \"white\", \"minorgridcolor\": \"white\", \"startlinecolor\": \"rgb(36,36,36)\"}, \"baxis\": {\"endlinecolor\": \"rgb(36,36,36)\", \"gridcolor\": \"white\", \"linecolor\": \"white\", \"minorgridcolor\": \"white\", \"startlinecolor\": \"rgb(36,36,36)\"}, \"type\": \"carpet\"}], \"choropleth\": [{\"colorbar\": {\"outlinewidth\": 1, \"tickcolor\": \"rgb(36,36,36)\", \"ticks\": \"outside\"}, \"type\": \"choropleth\"}], \"contour\": [{\"colorbar\": {\"outlinewidth\": 1, \"tickcolor\": \"rgb(36,36,36)\", \"ticks\": \"outside\"}, \"colorscale\": [[0.0, \"#440154\"], [0.1111111111111111, \"#482878\"], [0.2222222222222222, \"#3e4989\"], [0.3333333333333333, \"#31688e\"], [0.4444444444444444, \"#26828e\"], [0.5555555555555556, \"#1f9e89\"], [0.6666666666666666, \"#35b779\"], [0.7777777777777778, \"#6ece58\"], [0.8888888888888888, \"#b5de2b\"], [1.0, \"#fde725\"]], \"type\": \"contour\"}], \"contourcarpet\": [{\"colorbar\": {\"outlinewidth\": 1, \"tickcolor\": \"rgb(36,36,36)\", \"ticks\": \"outside\"}, \"type\": \"contourcarpet\"}], \"heatmap\": [{\"colorbar\": {\"outlinewidth\": 1, \"tickcolor\": \"rgb(36,36,36)\", \"ticks\": \"outside\"}, \"colorscale\": [[0.0, \"#440154\"], [0.1111111111111111, \"#482878\"], [0.2222222222222222, \"#3e4989\"], [0.3333333333333333, \"#31688e\"], [0.4444444444444444, \"#26828e\"], [0.5555555555555556, \"#1f9e89\"], [0.6666666666666666, \"#35b779\"], [0.7777777777777778, \"#6ece58\"], [0.8888888888888888, \"#b5de2b\"], [1.0, \"#fde725\"]], \"type\": \"heatmap\"}], \"heatmapgl\": [{\"colorbar\": {\"outlinewidth\": 1, \"tickcolor\": \"rgb(36,36,36)\", \"ticks\": \"outside\"}, \"colorscale\": [[0.0, \"#440154\"], [0.1111111111111111, \"#482878\"], [0.2222222222222222, \"#3e4989\"], [0.3333333333333333, \"#31688e\"], [0.4444444444444444, \"#26828e\"], [0.5555555555555556, \"#1f9e89\"], [0.6666666666666666, \"#35b779\"], [0.7777777777777778, \"#6ece58\"], [0.8888888888888888, \"#b5de2b\"], [1.0, \"#fde725\"]], \"type\": \"heatmapgl\"}], \"histogram\": [{\"marker\": {\"line\": {\"color\": \"white\", \"width\": 0.6}}, \"type\": \"histogram\"}], \"histogram2d\": [{\"colorbar\": {\"outlinewidth\": 1, \"tickcolor\": \"rgb(36,36,36)\", \"ticks\": \"outside\"}, \"colorscale\": [[0.0, \"#440154\"], [0.1111111111111111, \"#482878\"], [0.2222222222222222, \"#3e4989\"], [0.3333333333333333, \"#31688e\"], [0.4444444444444444, \"#26828e\"], [0.5555555555555556, \"#1f9e89\"], [0.6666666666666666, \"#35b779\"], [0.7777777777777778, \"#6ece58\"], [0.8888888888888888, \"#b5de2b\"], [1.0, \"#fde725\"]], \"type\": \"histogram2d\"}], \"histogram2dcontour\": [{\"colorbar\": {\"outlinewidth\": 1, \"tickcolor\": \"rgb(36,36,36)\", \"ticks\": \"outside\"}, \"colorscale\": [[0.0, \"#440154\"], [0.1111111111111111, \"#482878\"], [0.2222222222222222, \"#3e4989\"], [0.3333333333333333, \"#31688e\"], [0.4444444444444444, \"#26828e\"], [0.5555555555555556, \"#1f9e89\"], [0.6666666666666666, \"#35b779\"], [0.7777777777777778, \"#6ece58\"], [0.8888888888888888, \"#b5de2b\"], [1.0, \"#fde725\"]], \"type\": \"histogram2dcontour\"}], \"mesh3d\": [{\"colorbar\": {\"outlinewidth\": 1, \"tickcolor\": \"rgb(36,36,36)\", \"ticks\": \"outside\"}, \"type\": \"mesh3d\"}], \"parcoords\": [{\"line\": {\"colorbar\": {\"outlinewidth\": 1, \"tickcolor\": \"rgb(36,36,36)\", \"ticks\": \"outside\"}}, \"type\": \"parcoords\"}], \"pie\": [{\"automargin\": true, \"type\": \"pie\"}], \"scatter\": [{\"marker\": {\"colorbar\": {\"outlinewidth\": 1, \"tickcolor\": \"rgb(36,36,36)\", \"ticks\": \"outside\"}}, \"type\": \"scatter\"}], \"scatter3d\": [{\"line\": {\"colorbar\": {\"outlinewidth\": 1, \"tickcolor\": \"rgb(36,36,36)\", \"ticks\": \"outside\"}}, \"marker\": {\"colorbar\": {\"outlinewidth\": 1, \"tickcolor\": \"rgb(36,36,36)\", \"ticks\": \"outside\"}}, \"type\": \"scatter3d\"}], \"scattercarpet\": [{\"marker\": {\"colorbar\": {\"outlinewidth\": 1, \"tickcolor\": \"rgb(36,36,36)\", \"ticks\": \"outside\"}}, \"type\": \"scattercarpet\"}], \"scattergeo\": [{\"marker\": {\"colorbar\": {\"outlinewidth\": 1, \"tickcolor\": \"rgb(36,36,36)\", \"ticks\": \"outside\"}}, \"type\": \"scattergeo\"}], \"scattergl\": [{\"marker\": {\"colorbar\": {\"outlinewidth\": 1, \"tickcolor\": \"rgb(36,36,36)\", \"ticks\": \"outside\"}}, \"type\": \"scattergl\"}], \"scattermapbox\": [{\"marker\": {\"colorbar\": {\"outlinewidth\": 1, \"tickcolor\": \"rgb(36,36,36)\", \"ticks\": \"outside\"}}, \"type\": \"scattermapbox\"}], \"scatterpolar\": [{\"marker\": {\"colorbar\": {\"outlinewidth\": 1, \"tickcolor\": \"rgb(36,36,36)\", \"ticks\": \"outside\"}}, \"type\": \"scatterpolar\"}], \"scatterpolargl\": [{\"marker\": {\"colorbar\": {\"outlinewidth\": 1, \"tickcolor\": \"rgb(36,36,36)\", \"ticks\": \"outside\"}}, \"type\": \"scatterpolargl\"}], \"scatterternary\": [{\"marker\": {\"colorbar\": {\"outlinewidth\": 1, \"tickcolor\": \"rgb(36,36,36)\", \"ticks\": \"outside\"}}, \"type\": \"scatterternary\"}], \"surface\": [{\"colorbar\": {\"outlinewidth\": 1, \"tickcolor\": \"rgb(36,36,36)\", \"ticks\": \"outside\"}, \"colorscale\": [[0.0, \"#440154\"], [0.1111111111111111, \"#482878\"], [0.2222222222222222, \"#3e4989\"], [0.3333333333333333, \"#31688e\"], [0.4444444444444444, \"#26828e\"], [0.5555555555555556, \"#1f9e89\"], [0.6666666666666666, \"#35b779\"], [0.7777777777777778, \"#6ece58\"], [0.8888888888888888, \"#b5de2b\"], [1.0, \"#fde725\"]], \"type\": \"surface\"}], \"table\": [{\"cells\": {\"fill\": {\"color\": \"rgb(237,237,237)\"}, \"line\": {\"color\": \"white\"}}, \"header\": {\"fill\": {\"color\": \"rgb(217,217,217)\"}, \"line\": {\"color\": \"white\"}}, \"type\": \"table\"}]}, \"layout\": {\"annotationdefaults\": {\"arrowhead\": 0, \"arrowwidth\": 1}, \"coloraxis\": {\"colorbar\": {\"outlinewidth\": 1, \"tickcolor\": \"rgb(36,36,36)\", \"ticks\": \"outside\"}}, \"colorscale\": {\"diverging\": [[0.0, \"rgb(103,0,31)\"], [0.1, \"rgb(178,24,43)\"], [0.2, \"rgb(214,96,77)\"], [0.3, \"rgb(244,165,130)\"], [0.4, \"rgb(253,219,199)\"], [0.5, \"rgb(247,247,247)\"], [0.6, \"rgb(209,229,240)\"], [0.7, \"rgb(146,197,222)\"], [0.8, \"rgb(67,147,195)\"], [0.9, \"rgb(33,102,172)\"], [1.0, \"rgb(5,48,97)\"]], \"sequential\": [[0.0, \"#440154\"], [0.1111111111111111, \"#482878\"], [0.2222222222222222, \"#3e4989\"], [0.3333333333333333, \"#31688e\"], [0.4444444444444444, \"#26828e\"], [0.5555555555555556, \"#1f9e89\"], [0.6666666666666666, \"#35b779\"], [0.7777777777777778, \"#6ece58\"], [0.8888888888888888, \"#b5de2b\"], [1.0, \"#fde725\"]], \"sequentialminus\": [[0.0, \"#440154\"], [0.1111111111111111, \"#482878\"], [0.2222222222222222, \"#3e4989\"], [0.3333333333333333, \"#31688e\"], [0.4444444444444444, \"#26828e\"], [0.5555555555555556, \"#1f9e89\"], [0.6666666666666666, \"#35b779\"], [0.7777777777777778, \"#6ece58\"], [0.8888888888888888, \"#b5de2b\"], [1.0, \"#fde725\"]]}, \"colorway\": [\"#1F77B4\", \"#FF7F0E\", \"#2CA02C\", \"#D62728\", \"#9467BD\", \"#8C564B\", \"#E377C2\", \"#7F7F7F\", \"#BCBD22\", \"#17BECF\"], \"font\": {\"color\": \"rgb(36,36,36)\"}, \"geo\": {\"bgcolor\": \"white\", \"lakecolor\": \"white\", \"landcolor\": \"white\", \"showlakes\": true, \"showland\": true, \"subunitcolor\": \"white\"}, \"hoverlabel\": {\"align\": \"left\"}, \"hovermode\": \"closest\", \"mapbox\": {\"style\": \"light\"}, \"paper_bgcolor\": \"white\", \"plot_bgcolor\": \"white\", \"polar\": {\"angularaxis\": {\"gridcolor\": \"rgb(232,232,232)\", \"linecolor\": \"rgb(36,36,36)\", \"showgrid\": false, \"showline\": true, \"ticks\": \"outside\"}, \"bgcolor\": \"white\", \"radialaxis\": {\"gridcolor\": \"rgb(232,232,232)\", \"linecolor\": \"rgb(36,36,36)\", \"showgrid\": false, \"showline\": true, \"ticks\": \"outside\"}}, \"scene\": {\"xaxis\": {\"backgroundcolor\": \"white\", \"gridcolor\": \"rgb(232,232,232)\", \"gridwidth\": 2, \"linecolor\": \"rgb(36,36,36)\", \"showbackground\": true, \"showgrid\": false, \"showline\": true, \"ticks\": \"outside\", \"zeroline\": false, \"zerolinecolor\": \"rgb(36,36,36)\"}, \"yaxis\": {\"backgroundcolor\": \"white\", \"gridcolor\": \"rgb(232,232,232)\", \"gridwidth\": 2, \"linecolor\": \"rgb(36,36,36)\", \"showbackground\": true, \"showgrid\": false, \"showline\": true, \"ticks\": \"outside\", \"zeroline\": false, \"zerolinecolor\": \"rgb(36,36,36)\"}, \"zaxis\": {\"backgroundcolor\": \"white\", \"gridcolor\": \"rgb(232,232,232)\", \"gridwidth\": 2, \"linecolor\": \"rgb(36,36,36)\", \"showbackground\": true, \"showgrid\": false, \"showline\": true, \"ticks\": \"outside\", \"zeroline\": false, \"zerolinecolor\": \"rgb(36,36,36)\"}}, \"shapedefaults\": {\"fillcolor\": \"black\", \"line\": {\"width\": 0}, \"opacity\": 0.3}, \"ternary\": {\"aaxis\": {\"gridcolor\": \"rgb(232,232,232)\", \"linecolor\": \"rgb(36,36,36)\", \"showgrid\": false, \"showline\": true, \"ticks\": \"outside\"}, \"baxis\": {\"gridcolor\": \"rgb(232,232,232)\", \"linecolor\": \"rgb(36,36,36)\", \"showgrid\": false, \"showline\": true, \"ticks\": \"outside\"}, \"bgcolor\": \"white\", \"caxis\": {\"gridcolor\": \"rgb(232,232,232)\", \"linecolor\": \"rgb(36,36,36)\", \"showgrid\": false, \"showline\": true, \"ticks\": \"outside\"}}, \"title\": {\"x\": 0.05}, \"xaxis\": {\"automargin\": true, \"gridcolor\": \"rgb(232,232,232)\", \"linecolor\": \"rgb(36,36,36)\", \"showgrid\": false, \"showline\": true, \"ticks\": \"outside\", \"title\": {\"standoff\": 15}, \"zeroline\": false, \"zerolinecolor\": \"rgb(36,36,36)\"}, \"yaxis\": {\"automargin\": true, \"gridcolor\": \"rgb(232,232,232)\", \"linecolor\": \"rgb(36,36,36)\", \"showgrid\": false, \"showline\": true, \"ticks\": \"outside\", \"title\": {\"standoff\": 15}, \"zeroline\": false, \"zerolinecolor\": \"rgb(36,36,36)\"}}}, \"title\": {\"text\": \"Subreddit Comments as a Function of Polling Data\"}, \"xaxis\": {\"anchor\": \"y\", \"domain\": [0.0, 0.45], \"tickformat\": \",.0%\", \"title\": {\"text\": \"Polling Favourability\"}}, \"xaxis2\": {\"anchor\": \"y2\", \"domain\": [0.55, 1.0], \"tickformat\": \",.0%\", \"title\": {\"text\": \"Polling Favourability\"}}, \"yaxis\": {\"anchor\": \"x\", \"domain\": [0.0, 1.0], \"title\": {\"text\": \"# Comments\"}}, \"yaxis2\": {\"anchor\": \"x2\", \"domain\": [0.0, 1.0], \"title\": {\"text\": \"# Comments\"}}},\n",
       "                        {\"responsive\": true}\n",
       "                    ).then(function(){\n",
       "                            \n",
       "var gd = document.getElementById('4c572ad0-b537-48d8-ad36-49bc4d4a0cf0');\n",
       "var x = new MutationObserver(function (mutations, observer) {{\n",
       "        var display = window.getComputedStyle(gd).display;\n",
       "        if (!display || display === 'none') {{\n",
       "            console.log([gd, 'removed!']);\n",
       "            Plotly.purge(gd);\n",
       "            observer.disconnect();\n",
       "        }}\n",
       "}});\n",
       "\n",
       "// Listen for the removal of the full notebook cells\n",
       "var notebookContainer = gd.closest('#notebook-container');\n",
       "if (notebookContainer) {{\n",
       "    x.observe(notebookContainer, {childList: true});\n",
       "}}\n",
       "\n",
       "// Listen for the clearing of the current output cell\n",
       "var outputEl = gd.closest('.output');\n",
       "if (outputEl) {{\n",
       "    x.observe(outputEl, {childList: true});\n",
       "}}\n",
       "\n",
       "                        })\n",
       "                };\n",
       "                });\n",
       "            </script>\n",
       "        </div>"
      ]
     },
     "metadata": {},
     "output_type": "display_data"
    }
   ],
   "source": [
    "from plotly.subplots import make_subplots\n",
    "\n",
    "fig = make_subplots(\n",
    "    rows=1, cols=2,\n",
    "    subplot_titles=(\"Overall Populous\",\n",
    "                    \"18-29 Age Group\"))\n",
    "\n",
    "c_mapping = {}\n",
    "cands = [\"Joe Biden\",\"Bernie Sanders\",\"Amy Klobuchar\",\"Elizabeth Warren\",\"Pete Buttigieg\",\"Andrew Yang\"]\n",
    "for a,b in zip(cands,px.colors.qualitative.Plotly):\n",
    "    c_mapping[a] = b\n",
    "\n",
    "for cand in cands:\n",
    "    pop_df = polling_comments_df[polling_comments_df[\"candidate\"] == cand]\n",
    "    young_df = polling_comments_df_young[polling_comments_df_young[\"candidate\"] == cand]\n",
    "    fig.add_trace(go.Scatter(x=pop_df[\"polling_avg\"],\n",
    "                             y=pop_df[\"count\"],\n",
    "                             marker=dict(color=c_mapping[cand]),                         \n",
    "                             mode=\"markers\",\n",
    "                             name=cand,\n",
    "                             legendgroup=cand\n",
    "                            ),\n",
    "                  row=1,\n",
    "                  col=1)\n",
    "\n",
    "\n",
    "    fig.add_trace(go.Scatter(x=young_df[\"polling_avg\"],\n",
    "                             y=young_df[\"count\"],\n",
    "                             marker=dict(color=c_mapping[cand]),\n",
    "                             mode=\"markers\",\n",
    "                             name=cand,\n",
    "                             legendgroup=cand,\n",
    "                            showlegend = False\n",
    "                            ),\n",
    "                  row=1,\n",
    "                  col=2)\n",
    "fig.update_xaxes(title_text=\"Polling Favourability\", row=1, col=1)\n",
    "fig.update_xaxes(title_text=\"Polling Favourability\", row=1, col=2)\n",
    "\n",
    "fig.update_yaxes(title_text=\"# Comments\", row=1, col=1)\n",
    "fig.update_yaxes(title_text=\"# Comments\", row=1, col=2)\n",
    "\n",
    "fig.update_layout(\n",
    "    font=dict(size=18),\n",
    "    title_text=\"Subreddit Comments as a Function of Polling Data\",\n",
    "                  template=\"simple_white\")\n",
    "fig.update_xaxes(dict(tickformat=',.0%'))\n",
    "# fig.write_html(\"visualizations/temporal/{}_comments_over_polling_data_scatter.html\".format(TIME_FRAME))\n",
    "fig.show()"
   ]
  },
  {
   "cell_type": "code",
   "execution_count": 34,
   "metadata": {
    "scrolled": false
   },
   "outputs": [
    {
     "name": "stdout",
     "output_type": "stream",
     "text": [
      "Overall correlation\n",
      "-0.05220787921572048 0.6631685806246381\n",
      "Young Voter correlation\n",
      "0.21957300621274456 0.06385125444890084\n",
      "Amy Klobuchar\n",
      "\t* 0.3294,2.96e-01\n",
      "\t* Young Voters: -0.0784,8.09e-01\n",
      "Andrew Yang\n",
      "\t* 0.9414,4.92e-06\n",
      "\t* Young Voters: 0.9247,1.68e-05\n",
      "Bernie Sanders\n",
      "\t* -0.3675,2.40e-01\n",
      "\t* Young Voters: -0.2866,3.66e-01\n",
      "Elizabeth Warren\n",
      "\t* 0.9114,3.71e-05\n",
      "\t* Young Voters: 0.8732,2.08e-04\n",
      "Joe Biden\n",
      "\t* -0.7848,2.50e-03\n",
      "\t* Young Voters: -0.7593,4.18e-03\n",
      "Pete Buttigieg\n",
      "\t* 0.7537,4.64e-03\n",
      "\t* Young Voters: 0.6482,2.26e-02\n"
     ]
    }
   ],
   "source": [
    "from scipy import stats\n",
    "rho, pval = stats.pearsonr(polling_comments_df[\"polling_avg\"],polling_comments_df[\"count\"])\n",
    "rank_c = {\"name\": [\"Overall Correlation\"],\n",
    "          \"rho\": [rho],\n",
    "          \"pval\": [pval]}\n",
    "\n",
    "print(\"Overall correlation\")\n",
    "print(rho, pval)\n",
    "\n",
    "rho, pval = stats.pearsonr(polling_comments_df_young[\"polling_avg\"],polling_comments_df_young[\"count\"])\n",
    "rank_c_young = {\"name\": [\"Overall Correlation\"],\n",
    "          \"rho\": [rho],\n",
    "          \"pval\": [pval]}\n",
    "\n",
    "print(\"Young Voter correlation\")\n",
    "print(rho, pval)\n",
    "\n",
    "for cand in polling_comments_df[\"candidate\"].unique():\n",
    "    cand_info = polling_comments_df[polling_comments_df[\"candidate\"] == cand]\n",
    "    print(cand)\n",
    "    r, p = stats.pearsonr(cand_info[\"polling_avg\"],cand_info[\"count\"])\n",
    "    print(\"\\t* {:.4f},{:.2e}\".format(r, p))\n",
    "    rank_c[\"name\"].append(cand)\n",
    "    rank_c[\"rho\"].append(r)\n",
    "    rank_c[\"pval\"].append(p)\n",
    "    \n",
    "    cand_info = polling_comments_df_young[polling_comments_df_young[\"candidate\"] == cand]\n",
    "    r, p = stats.pearsonr(cand_info[\"polling_avg\"],cand_info[\"count\"])\n",
    "    rank_c_young[\"name\"].append(cand)\n",
    "    rank_c_young[\"rho\"].append(r)\n",
    "    rank_c_young[\"pval\"].append(p)\n",
    "    print(\"\\t* Young Voters: {:.4f},{:.2e}\".format(r, p))"
   ]
  },
  {
   "cell_type": "code",
   "execution_count": 35,
   "metadata": {},
   "outputs": [
    {
     "data": {
      "application/vnd.plotly.v1+json": {
       "config": {
        "plotlyServerURL": "https://plot.ly"
       },
       "data": [
        {
         "name": "Overall Populous",
         "text": [
          "0.6631685806246381",
          "0.2958137493297622",
          "4.92307098203104e-06",
          "0.23997617228963955",
          "3.709579491753589e-05",
          "0.0025027760700459135",
          "0.004641800778553648"
         ],
         "textposition": "outside",
         "texttemplate": "p=%{text:.3f}",
         "type": "bar",
         "x": [
          "Overall Correlation",
          "Amy Klobuchar",
          "Andrew Yang",
          "Bernie Sanders",
          "Elizabeth Warren",
          "Joe Biden",
          "Pete Buttigieg"
         ],
         "y": [
          -0.05220787921572048,
          0.3293719924108041,
          0.9414167072959743,
          -0.3674507934687873,
          0.911352001991963,
          -0.7847540963716249,
          0.7536712742232748
         ]
        },
        {
         "name": "18-29 Age Group",
         "text": [
          "0.06385125444890084",
          "0.8085612105775396",
          "1.6837386070819457e-05",
          "0.36638321767984433",
          "0.00020799816684326195",
          "0.00417952476591564",
          "0.022620201289459924"
         ],
         "textposition": "outside",
         "texttemplate": "p=%{text:.3f}",
         "type": "bar",
         "x": [
          "Overall Correlation",
          "Amy Klobuchar",
          "Andrew Yang",
          "Bernie Sanders",
          "Elizabeth Warren",
          "Joe Biden",
          "Pete Buttigieg"
         ],
         "y": [
          0.21957300621274456,
          -0.07843072535663888,
          0.9246519968880631,
          -0.28663783852586633,
          0.8731832721163616,
          -0.759281661527029,
          0.6482224675271264
         ]
        }
       ],
       "layout": {
        "barmode": "group",
        "font": {
         "size": 18
        },
        "legend": {
         "orientation": "v",
         "x": 1.1,
         "xanchor": "left",
         "y": 1
        },
        "template": {
         "data": {
          "bar": [
           {
            "error_x": {
             "color": "rgb(36,36,36)"
            },
            "error_y": {
             "color": "rgb(36,36,36)"
            },
            "marker": {
             "line": {
              "color": "white",
              "width": 0.5
             }
            },
            "type": "bar"
           }
          ],
          "barpolar": [
           {
            "marker": {
             "line": {
              "color": "white",
              "width": 0.5
             }
            },
            "type": "barpolar"
           }
          ],
          "carpet": [
           {
            "aaxis": {
             "endlinecolor": "rgb(36,36,36)",
             "gridcolor": "white",
             "linecolor": "white",
             "minorgridcolor": "white",
             "startlinecolor": "rgb(36,36,36)"
            },
            "baxis": {
             "endlinecolor": "rgb(36,36,36)",
             "gridcolor": "white",
             "linecolor": "white",
             "minorgridcolor": "white",
             "startlinecolor": "rgb(36,36,36)"
            },
            "type": "carpet"
           }
          ],
          "choropleth": [
           {
            "colorbar": {
             "outlinewidth": 1,
             "tickcolor": "rgb(36,36,36)",
             "ticks": "outside"
            },
            "type": "choropleth"
           }
          ],
          "contour": [
           {
            "colorbar": {
             "outlinewidth": 1,
             "tickcolor": "rgb(36,36,36)",
             "ticks": "outside"
            },
            "colorscale": [
             [
              0,
              "#440154"
             ],
             [
              0.1111111111111111,
              "#482878"
             ],
             [
              0.2222222222222222,
              "#3e4989"
             ],
             [
              0.3333333333333333,
              "#31688e"
             ],
             [
              0.4444444444444444,
              "#26828e"
             ],
             [
              0.5555555555555556,
              "#1f9e89"
             ],
             [
              0.6666666666666666,
              "#35b779"
             ],
             [
              0.7777777777777778,
              "#6ece58"
             ],
             [
              0.8888888888888888,
              "#b5de2b"
             ],
             [
              1,
              "#fde725"
             ]
            ],
            "type": "contour"
           }
          ],
          "contourcarpet": [
           {
            "colorbar": {
             "outlinewidth": 1,
             "tickcolor": "rgb(36,36,36)",
             "ticks": "outside"
            },
            "type": "contourcarpet"
           }
          ],
          "heatmap": [
           {
            "colorbar": {
             "outlinewidth": 1,
             "tickcolor": "rgb(36,36,36)",
             "ticks": "outside"
            },
            "colorscale": [
             [
              0,
              "#440154"
             ],
             [
              0.1111111111111111,
              "#482878"
             ],
             [
              0.2222222222222222,
              "#3e4989"
             ],
             [
              0.3333333333333333,
              "#31688e"
             ],
             [
              0.4444444444444444,
              "#26828e"
             ],
             [
              0.5555555555555556,
              "#1f9e89"
             ],
             [
              0.6666666666666666,
              "#35b779"
             ],
             [
              0.7777777777777778,
              "#6ece58"
             ],
             [
              0.8888888888888888,
              "#b5de2b"
             ],
             [
              1,
              "#fde725"
             ]
            ],
            "type": "heatmap"
           }
          ],
          "heatmapgl": [
           {
            "colorbar": {
             "outlinewidth": 1,
             "tickcolor": "rgb(36,36,36)",
             "ticks": "outside"
            },
            "colorscale": [
             [
              0,
              "#440154"
             ],
             [
              0.1111111111111111,
              "#482878"
             ],
             [
              0.2222222222222222,
              "#3e4989"
             ],
             [
              0.3333333333333333,
              "#31688e"
             ],
             [
              0.4444444444444444,
              "#26828e"
             ],
             [
              0.5555555555555556,
              "#1f9e89"
             ],
             [
              0.6666666666666666,
              "#35b779"
             ],
             [
              0.7777777777777778,
              "#6ece58"
             ],
             [
              0.8888888888888888,
              "#b5de2b"
             ],
             [
              1,
              "#fde725"
             ]
            ],
            "type": "heatmapgl"
           }
          ],
          "histogram": [
           {
            "marker": {
             "line": {
              "color": "white",
              "width": 0.6
             }
            },
            "type": "histogram"
           }
          ],
          "histogram2d": [
           {
            "colorbar": {
             "outlinewidth": 1,
             "tickcolor": "rgb(36,36,36)",
             "ticks": "outside"
            },
            "colorscale": [
             [
              0,
              "#440154"
             ],
             [
              0.1111111111111111,
              "#482878"
             ],
             [
              0.2222222222222222,
              "#3e4989"
             ],
             [
              0.3333333333333333,
              "#31688e"
             ],
             [
              0.4444444444444444,
              "#26828e"
             ],
             [
              0.5555555555555556,
              "#1f9e89"
             ],
             [
              0.6666666666666666,
              "#35b779"
             ],
             [
              0.7777777777777778,
              "#6ece58"
             ],
             [
              0.8888888888888888,
              "#b5de2b"
             ],
             [
              1,
              "#fde725"
             ]
            ],
            "type": "histogram2d"
           }
          ],
          "histogram2dcontour": [
           {
            "colorbar": {
             "outlinewidth": 1,
             "tickcolor": "rgb(36,36,36)",
             "ticks": "outside"
            },
            "colorscale": [
             [
              0,
              "#440154"
             ],
             [
              0.1111111111111111,
              "#482878"
             ],
             [
              0.2222222222222222,
              "#3e4989"
             ],
             [
              0.3333333333333333,
              "#31688e"
             ],
             [
              0.4444444444444444,
              "#26828e"
             ],
             [
              0.5555555555555556,
              "#1f9e89"
             ],
             [
              0.6666666666666666,
              "#35b779"
             ],
             [
              0.7777777777777778,
              "#6ece58"
             ],
             [
              0.8888888888888888,
              "#b5de2b"
             ],
             [
              1,
              "#fde725"
             ]
            ],
            "type": "histogram2dcontour"
           }
          ],
          "mesh3d": [
           {
            "colorbar": {
             "outlinewidth": 1,
             "tickcolor": "rgb(36,36,36)",
             "ticks": "outside"
            },
            "type": "mesh3d"
           }
          ],
          "parcoords": [
           {
            "line": {
             "colorbar": {
              "outlinewidth": 1,
              "tickcolor": "rgb(36,36,36)",
              "ticks": "outside"
             }
            },
            "type": "parcoords"
           }
          ],
          "pie": [
           {
            "automargin": true,
            "type": "pie"
           }
          ],
          "scatter": [
           {
            "marker": {
             "colorbar": {
              "outlinewidth": 1,
              "tickcolor": "rgb(36,36,36)",
              "ticks": "outside"
             }
            },
            "type": "scatter"
           }
          ],
          "scatter3d": [
           {
            "line": {
             "colorbar": {
              "outlinewidth": 1,
              "tickcolor": "rgb(36,36,36)",
              "ticks": "outside"
             }
            },
            "marker": {
             "colorbar": {
              "outlinewidth": 1,
              "tickcolor": "rgb(36,36,36)",
              "ticks": "outside"
             }
            },
            "type": "scatter3d"
           }
          ],
          "scattercarpet": [
           {
            "marker": {
             "colorbar": {
              "outlinewidth": 1,
              "tickcolor": "rgb(36,36,36)",
              "ticks": "outside"
             }
            },
            "type": "scattercarpet"
           }
          ],
          "scattergeo": [
           {
            "marker": {
             "colorbar": {
              "outlinewidth": 1,
              "tickcolor": "rgb(36,36,36)",
              "ticks": "outside"
             }
            },
            "type": "scattergeo"
           }
          ],
          "scattergl": [
           {
            "marker": {
             "colorbar": {
              "outlinewidth": 1,
              "tickcolor": "rgb(36,36,36)",
              "ticks": "outside"
             }
            },
            "type": "scattergl"
           }
          ],
          "scattermapbox": [
           {
            "marker": {
             "colorbar": {
              "outlinewidth": 1,
              "tickcolor": "rgb(36,36,36)",
              "ticks": "outside"
             }
            },
            "type": "scattermapbox"
           }
          ],
          "scatterpolar": [
           {
            "marker": {
             "colorbar": {
              "outlinewidth": 1,
              "tickcolor": "rgb(36,36,36)",
              "ticks": "outside"
             }
            },
            "type": "scatterpolar"
           }
          ],
          "scatterpolargl": [
           {
            "marker": {
             "colorbar": {
              "outlinewidth": 1,
              "tickcolor": "rgb(36,36,36)",
              "ticks": "outside"
             }
            },
            "type": "scatterpolargl"
           }
          ],
          "scatterternary": [
           {
            "marker": {
             "colorbar": {
              "outlinewidth": 1,
              "tickcolor": "rgb(36,36,36)",
              "ticks": "outside"
             }
            },
            "type": "scatterternary"
           }
          ],
          "surface": [
           {
            "colorbar": {
             "outlinewidth": 1,
             "tickcolor": "rgb(36,36,36)",
             "ticks": "outside"
            },
            "colorscale": [
             [
              0,
              "#440154"
             ],
             [
              0.1111111111111111,
              "#482878"
             ],
             [
              0.2222222222222222,
              "#3e4989"
             ],
             [
              0.3333333333333333,
              "#31688e"
             ],
             [
              0.4444444444444444,
              "#26828e"
             ],
             [
              0.5555555555555556,
              "#1f9e89"
             ],
             [
              0.6666666666666666,
              "#35b779"
             ],
             [
              0.7777777777777778,
              "#6ece58"
             ],
             [
              0.8888888888888888,
              "#b5de2b"
             ],
             [
              1,
              "#fde725"
             ]
            ],
            "type": "surface"
           }
          ],
          "table": [
           {
            "cells": {
             "fill": {
              "color": "rgb(237,237,237)"
             },
             "line": {
              "color": "white"
             }
            },
            "header": {
             "fill": {
              "color": "rgb(217,217,217)"
             },
             "line": {
              "color": "white"
             }
            },
            "type": "table"
           }
          ]
         },
         "layout": {
          "annotationdefaults": {
           "arrowhead": 0,
           "arrowwidth": 1
          },
          "coloraxis": {
           "colorbar": {
            "outlinewidth": 1,
            "tickcolor": "rgb(36,36,36)",
            "ticks": "outside"
           }
          },
          "colorscale": {
           "diverging": [
            [
             0,
             "rgb(103,0,31)"
            ],
            [
             0.1,
             "rgb(178,24,43)"
            ],
            [
             0.2,
             "rgb(214,96,77)"
            ],
            [
             0.3,
             "rgb(244,165,130)"
            ],
            [
             0.4,
             "rgb(253,219,199)"
            ],
            [
             0.5,
             "rgb(247,247,247)"
            ],
            [
             0.6,
             "rgb(209,229,240)"
            ],
            [
             0.7,
             "rgb(146,197,222)"
            ],
            [
             0.8,
             "rgb(67,147,195)"
            ],
            [
             0.9,
             "rgb(33,102,172)"
            ],
            [
             1,
             "rgb(5,48,97)"
            ]
           ],
           "sequential": [
            [
             0,
             "#440154"
            ],
            [
             0.1111111111111111,
             "#482878"
            ],
            [
             0.2222222222222222,
             "#3e4989"
            ],
            [
             0.3333333333333333,
             "#31688e"
            ],
            [
             0.4444444444444444,
             "#26828e"
            ],
            [
             0.5555555555555556,
             "#1f9e89"
            ],
            [
             0.6666666666666666,
             "#35b779"
            ],
            [
             0.7777777777777778,
             "#6ece58"
            ],
            [
             0.8888888888888888,
             "#b5de2b"
            ],
            [
             1,
             "#fde725"
            ]
           ],
           "sequentialminus": [
            [
             0,
             "#440154"
            ],
            [
             0.1111111111111111,
             "#482878"
            ],
            [
             0.2222222222222222,
             "#3e4989"
            ],
            [
             0.3333333333333333,
             "#31688e"
            ],
            [
             0.4444444444444444,
             "#26828e"
            ],
            [
             0.5555555555555556,
             "#1f9e89"
            ],
            [
             0.6666666666666666,
             "#35b779"
            ],
            [
             0.7777777777777778,
             "#6ece58"
            ],
            [
             0.8888888888888888,
             "#b5de2b"
            ],
            [
             1,
             "#fde725"
            ]
           ]
          },
          "colorway": [
           "#1F77B4",
           "#FF7F0E",
           "#2CA02C",
           "#D62728",
           "#9467BD",
           "#8C564B",
           "#E377C2",
           "#7F7F7F",
           "#BCBD22",
           "#17BECF"
          ],
          "font": {
           "color": "rgb(36,36,36)"
          },
          "geo": {
           "bgcolor": "white",
           "lakecolor": "white",
           "landcolor": "white",
           "showlakes": true,
           "showland": true,
           "subunitcolor": "white"
          },
          "hoverlabel": {
           "align": "left"
          },
          "hovermode": "closest",
          "mapbox": {
           "style": "light"
          },
          "paper_bgcolor": "white",
          "plot_bgcolor": "white",
          "polar": {
           "angularaxis": {
            "gridcolor": "rgb(232,232,232)",
            "linecolor": "rgb(36,36,36)",
            "showgrid": false,
            "showline": true,
            "ticks": "outside"
           },
           "bgcolor": "white",
           "radialaxis": {
            "gridcolor": "rgb(232,232,232)",
            "linecolor": "rgb(36,36,36)",
            "showgrid": false,
            "showline": true,
            "ticks": "outside"
           }
          },
          "scene": {
           "xaxis": {
            "backgroundcolor": "white",
            "gridcolor": "rgb(232,232,232)",
            "gridwidth": 2,
            "linecolor": "rgb(36,36,36)",
            "showbackground": true,
            "showgrid": false,
            "showline": true,
            "ticks": "outside",
            "zeroline": false,
            "zerolinecolor": "rgb(36,36,36)"
           },
           "yaxis": {
            "backgroundcolor": "white",
            "gridcolor": "rgb(232,232,232)",
            "gridwidth": 2,
            "linecolor": "rgb(36,36,36)",
            "showbackground": true,
            "showgrid": false,
            "showline": true,
            "ticks": "outside",
            "zeroline": false,
            "zerolinecolor": "rgb(36,36,36)"
           },
           "zaxis": {
            "backgroundcolor": "white",
            "gridcolor": "rgb(232,232,232)",
            "gridwidth": 2,
            "linecolor": "rgb(36,36,36)",
            "showbackground": true,
            "showgrid": false,
            "showline": true,
            "ticks": "outside",
            "zeroline": false,
            "zerolinecolor": "rgb(36,36,36)"
           }
          },
          "shapedefaults": {
           "fillcolor": "black",
           "line": {
            "width": 0
           },
           "opacity": 0.3
          },
          "ternary": {
           "aaxis": {
            "gridcolor": "rgb(232,232,232)",
            "linecolor": "rgb(36,36,36)",
            "showgrid": false,
            "showline": true,
            "ticks": "outside"
           },
           "baxis": {
            "gridcolor": "rgb(232,232,232)",
            "linecolor": "rgb(36,36,36)",
            "showgrid": false,
            "showline": true,
            "ticks": "outside"
           },
           "bgcolor": "white",
           "caxis": {
            "gridcolor": "rgb(232,232,232)",
            "linecolor": "rgb(36,36,36)",
            "showgrid": false,
            "showline": true,
            "ticks": "outside"
           }
          },
          "title": {
           "x": 0.05
          },
          "xaxis": {
           "automargin": true,
           "gridcolor": "rgb(232,232,232)",
           "linecolor": "rgb(36,36,36)",
           "showgrid": false,
           "showline": true,
           "ticks": "outside",
           "title": {
            "standoff": 15
           },
           "zeroline": false,
           "zerolinecolor": "rgb(36,36,36)"
          },
          "yaxis": {
           "automargin": true,
           "gridcolor": "rgb(232,232,232)",
           "linecolor": "rgb(36,36,36)",
           "showgrid": false,
           "showline": true,
           "ticks": "outside",
           "title": {
            "standoff": 15
           },
           "zeroline": false,
           "zerolinecolor": "rgb(36,36,36)"
          }
         }
        },
        "title": {
         "text": "Pearson Correlation: Polling Average and Subreddit Comments"
        },
        "yaxis": {
         "range": [
          -1,
          1.1
         ]
        }
       }
      },
      "text/html": [
       "<div>\n",
       "        \n",
       "        \n",
       "            <div id=\"9766e814-cb7b-47da-9fdf-088884d3ee81\" class=\"plotly-graph-div\" style=\"height:525px; width:100%;\"></div>\n",
       "            <script type=\"text/javascript\">\n",
       "                require([\"plotly\"], function(Plotly) {\n",
       "                    window.PLOTLYENV=window.PLOTLYENV || {};\n",
       "                    \n",
       "                if (document.getElementById(\"9766e814-cb7b-47da-9fdf-088884d3ee81\")) {\n",
       "                    Plotly.newPlot(\n",
       "                        '9766e814-cb7b-47da-9fdf-088884d3ee81',\n",
       "                        [{\"name\": \"Overall Populous\", \"text\": [\"0.6631685806246381\", \"0.2958137493297622\", \"4.92307098203104e-06\", \"0.23997617228963955\", \"3.709579491753589e-05\", \"0.0025027760700459135\", \"0.004641800778553648\"], \"textposition\": \"outside\", \"texttemplate\": \"p=%{text:.3f}\", \"type\": \"bar\", \"x\": [\"Overall Correlation\", \"Amy Klobuchar\", \"Andrew Yang\", \"Bernie Sanders\", \"Elizabeth Warren\", \"Joe Biden\", \"Pete Buttigieg\"], \"y\": [-0.05220787921572048, 0.3293719924108041, 0.9414167072959743, -0.3674507934687873, 0.911352001991963, -0.7847540963716249, 0.7536712742232748]}, {\"name\": \"18-29 Age Group\", \"text\": [\"0.06385125444890084\", \"0.8085612105775396\", \"1.6837386070819457e-05\", \"0.36638321767984433\", \"0.00020799816684326195\", \"0.00417952476591564\", \"0.022620201289459924\"], \"textposition\": \"outside\", \"texttemplate\": \"p=%{text:.3f}\", \"type\": \"bar\", \"x\": [\"Overall Correlation\", \"Amy Klobuchar\", \"Andrew Yang\", \"Bernie Sanders\", \"Elizabeth Warren\", \"Joe Biden\", \"Pete Buttigieg\"], \"y\": [0.21957300621274456, -0.07843072535663888, 0.9246519968880631, -0.28663783852586633, 0.8731832721163616, -0.759281661527029, 0.6482224675271264]}],\n",
       "                        {\"barmode\": \"group\", \"font\": {\"size\": 18}, \"legend\": {\"orientation\": \"v\", \"x\": 1.1, \"xanchor\": \"left\", \"y\": 1}, \"template\": {\"data\": {\"bar\": [{\"error_x\": {\"color\": \"rgb(36,36,36)\"}, \"error_y\": {\"color\": \"rgb(36,36,36)\"}, \"marker\": {\"line\": {\"color\": \"white\", \"width\": 0.5}}, \"type\": \"bar\"}], \"barpolar\": [{\"marker\": {\"line\": {\"color\": \"white\", \"width\": 0.5}}, \"type\": \"barpolar\"}], \"carpet\": [{\"aaxis\": {\"endlinecolor\": \"rgb(36,36,36)\", \"gridcolor\": \"white\", \"linecolor\": \"white\", \"minorgridcolor\": \"white\", \"startlinecolor\": \"rgb(36,36,36)\"}, \"baxis\": {\"endlinecolor\": \"rgb(36,36,36)\", \"gridcolor\": \"white\", \"linecolor\": \"white\", \"minorgridcolor\": \"white\", \"startlinecolor\": \"rgb(36,36,36)\"}, \"type\": \"carpet\"}], \"choropleth\": [{\"colorbar\": {\"outlinewidth\": 1, \"tickcolor\": \"rgb(36,36,36)\", \"ticks\": \"outside\"}, \"type\": \"choropleth\"}], \"contour\": [{\"colorbar\": {\"outlinewidth\": 1, \"tickcolor\": \"rgb(36,36,36)\", \"ticks\": \"outside\"}, \"colorscale\": [[0.0, \"#440154\"], [0.1111111111111111, \"#482878\"], [0.2222222222222222, \"#3e4989\"], [0.3333333333333333, \"#31688e\"], [0.4444444444444444, \"#26828e\"], [0.5555555555555556, \"#1f9e89\"], [0.6666666666666666, \"#35b779\"], [0.7777777777777778, \"#6ece58\"], [0.8888888888888888, \"#b5de2b\"], [1.0, \"#fde725\"]], \"type\": \"contour\"}], \"contourcarpet\": [{\"colorbar\": {\"outlinewidth\": 1, \"tickcolor\": \"rgb(36,36,36)\", \"ticks\": \"outside\"}, \"type\": \"contourcarpet\"}], \"heatmap\": [{\"colorbar\": {\"outlinewidth\": 1, \"tickcolor\": \"rgb(36,36,36)\", \"ticks\": \"outside\"}, \"colorscale\": [[0.0, \"#440154\"], [0.1111111111111111, \"#482878\"], [0.2222222222222222, \"#3e4989\"], [0.3333333333333333, \"#31688e\"], [0.4444444444444444, \"#26828e\"], [0.5555555555555556, \"#1f9e89\"], [0.6666666666666666, \"#35b779\"], [0.7777777777777778, \"#6ece58\"], [0.8888888888888888, \"#b5de2b\"], [1.0, \"#fde725\"]], \"type\": \"heatmap\"}], \"heatmapgl\": [{\"colorbar\": {\"outlinewidth\": 1, \"tickcolor\": \"rgb(36,36,36)\", \"ticks\": \"outside\"}, \"colorscale\": [[0.0, \"#440154\"], [0.1111111111111111, \"#482878\"], [0.2222222222222222, \"#3e4989\"], [0.3333333333333333, \"#31688e\"], [0.4444444444444444, \"#26828e\"], [0.5555555555555556, \"#1f9e89\"], [0.6666666666666666, \"#35b779\"], [0.7777777777777778, \"#6ece58\"], [0.8888888888888888, \"#b5de2b\"], [1.0, \"#fde725\"]], \"type\": \"heatmapgl\"}], \"histogram\": [{\"marker\": {\"line\": {\"color\": \"white\", \"width\": 0.6}}, \"type\": \"histogram\"}], \"histogram2d\": [{\"colorbar\": {\"outlinewidth\": 1, \"tickcolor\": \"rgb(36,36,36)\", \"ticks\": \"outside\"}, \"colorscale\": [[0.0, \"#440154\"], [0.1111111111111111, \"#482878\"], [0.2222222222222222, \"#3e4989\"], [0.3333333333333333, \"#31688e\"], [0.4444444444444444, \"#26828e\"], [0.5555555555555556, \"#1f9e89\"], [0.6666666666666666, \"#35b779\"], [0.7777777777777778, \"#6ece58\"], [0.8888888888888888, \"#b5de2b\"], [1.0, \"#fde725\"]], \"type\": \"histogram2d\"}], \"histogram2dcontour\": [{\"colorbar\": {\"outlinewidth\": 1, \"tickcolor\": \"rgb(36,36,36)\", \"ticks\": \"outside\"}, \"colorscale\": [[0.0, \"#440154\"], [0.1111111111111111, \"#482878\"], [0.2222222222222222, \"#3e4989\"], [0.3333333333333333, \"#31688e\"], [0.4444444444444444, \"#26828e\"], [0.5555555555555556, \"#1f9e89\"], [0.6666666666666666, \"#35b779\"], [0.7777777777777778, \"#6ece58\"], [0.8888888888888888, \"#b5de2b\"], [1.0, \"#fde725\"]], \"type\": \"histogram2dcontour\"}], \"mesh3d\": [{\"colorbar\": {\"outlinewidth\": 1, \"tickcolor\": \"rgb(36,36,36)\", \"ticks\": \"outside\"}, \"type\": \"mesh3d\"}], \"parcoords\": [{\"line\": {\"colorbar\": {\"outlinewidth\": 1, \"tickcolor\": \"rgb(36,36,36)\", \"ticks\": \"outside\"}}, \"type\": \"parcoords\"}], \"pie\": [{\"automargin\": true, \"type\": \"pie\"}], \"scatter\": [{\"marker\": {\"colorbar\": {\"outlinewidth\": 1, \"tickcolor\": \"rgb(36,36,36)\", \"ticks\": \"outside\"}}, \"type\": \"scatter\"}], \"scatter3d\": [{\"line\": {\"colorbar\": {\"outlinewidth\": 1, \"tickcolor\": \"rgb(36,36,36)\", \"ticks\": \"outside\"}}, \"marker\": {\"colorbar\": {\"outlinewidth\": 1, \"tickcolor\": \"rgb(36,36,36)\", \"ticks\": \"outside\"}}, \"type\": \"scatter3d\"}], \"scattercarpet\": [{\"marker\": {\"colorbar\": {\"outlinewidth\": 1, \"tickcolor\": \"rgb(36,36,36)\", \"ticks\": \"outside\"}}, \"type\": \"scattercarpet\"}], \"scattergeo\": [{\"marker\": {\"colorbar\": {\"outlinewidth\": 1, \"tickcolor\": \"rgb(36,36,36)\", \"ticks\": \"outside\"}}, \"type\": \"scattergeo\"}], \"scattergl\": [{\"marker\": {\"colorbar\": {\"outlinewidth\": 1, \"tickcolor\": \"rgb(36,36,36)\", \"ticks\": \"outside\"}}, \"type\": \"scattergl\"}], \"scattermapbox\": [{\"marker\": {\"colorbar\": {\"outlinewidth\": 1, \"tickcolor\": \"rgb(36,36,36)\", \"ticks\": \"outside\"}}, \"type\": \"scattermapbox\"}], \"scatterpolar\": [{\"marker\": {\"colorbar\": {\"outlinewidth\": 1, \"tickcolor\": \"rgb(36,36,36)\", \"ticks\": \"outside\"}}, \"type\": \"scatterpolar\"}], \"scatterpolargl\": [{\"marker\": {\"colorbar\": {\"outlinewidth\": 1, \"tickcolor\": \"rgb(36,36,36)\", \"ticks\": \"outside\"}}, \"type\": \"scatterpolargl\"}], \"scatterternary\": [{\"marker\": {\"colorbar\": {\"outlinewidth\": 1, \"tickcolor\": \"rgb(36,36,36)\", \"ticks\": \"outside\"}}, \"type\": \"scatterternary\"}], \"surface\": [{\"colorbar\": {\"outlinewidth\": 1, \"tickcolor\": \"rgb(36,36,36)\", \"ticks\": \"outside\"}, \"colorscale\": [[0.0, \"#440154\"], [0.1111111111111111, \"#482878\"], [0.2222222222222222, \"#3e4989\"], [0.3333333333333333, \"#31688e\"], [0.4444444444444444, \"#26828e\"], [0.5555555555555556, \"#1f9e89\"], [0.6666666666666666, \"#35b779\"], [0.7777777777777778, \"#6ece58\"], [0.8888888888888888, \"#b5de2b\"], [1.0, \"#fde725\"]], \"type\": \"surface\"}], \"table\": [{\"cells\": {\"fill\": {\"color\": \"rgb(237,237,237)\"}, \"line\": {\"color\": \"white\"}}, \"header\": {\"fill\": {\"color\": \"rgb(217,217,217)\"}, \"line\": {\"color\": \"white\"}}, \"type\": \"table\"}]}, \"layout\": {\"annotationdefaults\": {\"arrowhead\": 0, \"arrowwidth\": 1}, \"coloraxis\": {\"colorbar\": {\"outlinewidth\": 1, \"tickcolor\": \"rgb(36,36,36)\", \"ticks\": \"outside\"}}, \"colorscale\": {\"diverging\": [[0.0, \"rgb(103,0,31)\"], [0.1, \"rgb(178,24,43)\"], [0.2, \"rgb(214,96,77)\"], [0.3, \"rgb(244,165,130)\"], [0.4, \"rgb(253,219,199)\"], [0.5, \"rgb(247,247,247)\"], [0.6, \"rgb(209,229,240)\"], [0.7, \"rgb(146,197,222)\"], [0.8, \"rgb(67,147,195)\"], [0.9, \"rgb(33,102,172)\"], [1.0, \"rgb(5,48,97)\"]], \"sequential\": [[0.0, \"#440154\"], [0.1111111111111111, \"#482878\"], [0.2222222222222222, \"#3e4989\"], [0.3333333333333333, \"#31688e\"], [0.4444444444444444, \"#26828e\"], [0.5555555555555556, \"#1f9e89\"], [0.6666666666666666, \"#35b779\"], [0.7777777777777778, \"#6ece58\"], [0.8888888888888888, \"#b5de2b\"], [1.0, \"#fde725\"]], \"sequentialminus\": [[0.0, \"#440154\"], [0.1111111111111111, \"#482878\"], [0.2222222222222222, \"#3e4989\"], [0.3333333333333333, \"#31688e\"], [0.4444444444444444, \"#26828e\"], [0.5555555555555556, \"#1f9e89\"], [0.6666666666666666, \"#35b779\"], [0.7777777777777778, \"#6ece58\"], [0.8888888888888888, \"#b5de2b\"], [1.0, \"#fde725\"]]}, \"colorway\": [\"#1F77B4\", \"#FF7F0E\", \"#2CA02C\", \"#D62728\", \"#9467BD\", \"#8C564B\", \"#E377C2\", \"#7F7F7F\", \"#BCBD22\", \"#17BECF\"], \"font\": {\"color\": \"rgb(36,36,36)\"}, \"geo\": {\"bgcolor\": \"white\", \"lakecolor\": \"white\", \"landcolor\": \"white\", \"showlakes\": true, \"showland\": true, \"subunitcolor\": \"white\"}, \"hoverlabel\": {\"align\": \"left\"}, \"hovermode\": \"closest\", \"mapbox\": {\"style\": \"light\"}, \"paper_bgcolor\": \"white\", \"plot_bgcolor\": \"white\", \"polar\": {\"angularaxis\": {\"gridcolor\": \"rgb(232,232,232)\", \"linecolor\": \"rgb(36,36,36)\", \"showgrid\": false, \"showline\": true, \"ticks\": \"outside\"}, \"bgcolor\": \"white\", \"radialaxis\": {\"gridcolor\": \"rgb(232,232,232)\", \"linecolor\": \"rgb(36,36,36)\", \"showgrid\": false, \"showline\": true, \"ticks\": \"outside\"}}, \"scene\": {\"xaxis\": {\"backgroundcolor\": \"white\", \"gridcolor\": \"rgb(232,232,232)\", \"gridwidth\": 2, \"linecolor\": \"rgb(36,36,36)\", \"showbackground\": true, \"showgrid\": false, \"showline\": true, \"ticks\": \"outside\", \"zeroline\": false, \"zerolinecolor\": \"rgb(36,36,36)\"}, \"yaxis\": {\"backgroundcolor\": \"white\", \"gridcolor\": \"rgb(232,232,232)\", \"gridwidth\": 2, \"linecolor\": \"rgb(36,36,36)\", \"showbackground\": true, \"showgrid\": false, \"showline\": true, \"ticks\": \"outside\", \"zeroline\": false, \"zerolinecolor\": \"rgb(36,36,36)\"}, \"zaxis\": {\"backgroundcolor\": \"white\", \"gridcolor\": \"rgb(232,232,232)\", \"gridwidth\": 2, \"linecolor\": \"rgb(36,36,36)\", \"showbackground\": true, \"showgrid\": false, \"showline\": true, \"ticks\": \"outside\", \"zeroline\": false, \"zerolinecolor\": \"rgb(36,36,36)\"}}, \"shapedefaults\": {\"fillcolor\": \"black\", \"line\": {\"width\": 0}, \"opacity\": 0.3}, \"ternary\": {\"aaxis\": {\"gridcolor\": \"rgb(232,232,232)\", \"linecolor\": \"rgb(36,36,36)\", \"showgrid\": false, \"showline\": true, \"ticks\": \"outside\"}, \"baxis\": {\"gridcolor\": \"rgb(232,232,232)\", \"linecolor\": \"rgb(36,36,36)\", \"showgrid\": false, \"showline\": true, \"ticks\": \"outside\"}, \"bgcolor\": \"white\", \"caxis\": {\"gridcolor\": \"rgb(232,232,232)\", \"linecolor\": \"rgb(36,36,36)\", \"showgrid\": false, \"showline\": true, \"ticks\": \"outside\"}}, \"title\": {\"x\": 0.05}, \"xaxis\": {\"automargin\": true, \"gridcolor\": \"rgb(232,232,232)\", \"linecolor\": \"rgb(36,36,36)\", \"showgrid\": false, \"showline\": true, \"ticks\": \"outside\", \"title\": {\"standoff\": 15}, \"zeroline\": false, \"zerolinecolor\": \"rgb(36,36,36)\"}, \"yaxis\": {\"automargin\": true, \"gridcolor\": \"rgb(232,232,232)\", \"linecolor\": \"rgb(36,36,36)\", \"showgrid\": false, \"showline\": true, \"ticks\": \"outside\", \"title\": {\"standoff\": 15}, \"zeroline\": false, \"zerolinecolor\": \"rgb(36,36,36)\"}}}, \"title\": {\"text\": \"Pearson Correlation: Polling Average and Subreddit Comments\"}, \"yaxis\": {\"range\": [-1, 1.1]}},\n",
       "                        {\"responsive\": true}\n",
       "                    ).then(function(){\n",
       "                            \n",
       "var gd = document.getElementById('9766e814-cb7b-47da-9fdf-088884d3ee81');\n",
       "var x = new MutationObserver(function (mutations, observer) {{\n",
       "        var display = window.getComputedStyle(gd).display;\n",
       "        if (!display || display === 'none') {{\n",
       "            console.log([gd, 'removed!']);\n",
       "            Plotly.purge(gd);\n",
       "            observer.disconnect();\n",
       "        }}\n",
       "}});\n",
       "\n",
       "// Listen for the removal of the full notebook cells\n",
       "var notebookContainer = gd.closest('#notebook-container');\n",
       "if (notebookContainer) {{\n",
       "    x.observe(notebookContainer, {childList: true});\n",
       "}}\n",
       "\n",
       "// Listen for the clearing of the current output cell\n",
       "var outputEl = gd.closest('.output');\n",
       "if (outputEl) {{\n",
       "    x.observe(outputEl, {childList: true});\n",
       "}}\n",
       "\n",
       "                        })\n",
       "                };\n",
       "                });\n",
       "            </script>\n",
       "        </div>"
      ]
     },
     "metadata": {},
     "output_type": "display_data"
    }
   ],
   "source": [
    "fig = go.Figure(data=[go.Bar(name='Overall Populous', x=rank_c[\"name\"], y=rank_c[\"rho\"],text=rank_c[\"pval\"]),\n",
    "                      go.Bar(name='18-29 Age Group', x=rank_c_young[\"name\"], y=rank_c_young[\"rho\"],text=rank_c_young[\"pval\"])],\n",
    "                layout={'yaxis': {'range': [-1,1.1]}})\n",
    "# Change the bar mode\n",
    "fig.update_layout(barmode='group')\n",
    "fig.update_traces(texttemplate='p=%{text:.3f}', textposition='outside')\n",
    "# Add figure title\n",
    "fig.update_layout(\n",
    "    font=dict(size=18),\n",
    "    title_text=\"Pearson Correlation: Polling Average and Subreddit Comments\",\n",
    "    template=\"simple_white\",\n",
    "    legend=dict(orientation='v', x=1.1, xanchor='left', y=1),\n",
    ")\n",
    "# fig.write_html(\"visualizations/temporal/pearson_correlation-polling_avg_comments.html\".format(TIME_FRAME))\n",
    "fig.show()"
   ]
  },
  {
   "cell_type": "markdown",
   "metadata": {},
   "source": [
    "## Unique Commenters Over Time"
   ]
  },
  {
   "cell_type": "code",
   "execution_count": 14,
   "metadata": {},
   "outputs": [
    {
     "name": "stdout",
     "output_type": "stream",
     "text": [
      "+--------------------+--------------------+-----+\n",
      "|           subreddit|            username|count|\n",
      "+--------------------+--------------------+-----+\n",
      "|(SandersForPresid...|        Japsenpapsen|   43|\n",
      "|(YangForPresident...|          JonWood007|  325|\n",
      "|(SandersForPresid...|        vegasaquinas|   17|\n",
      "|(SandersForPresid...|            Andy1816|  138|\n",
      "|(SandersForPresid...|      SharonLougheed|    5|\n",
      "|(SandersForPresid...|             sethu85|    3|\n",
      "|(YangForPresident...|     the_lamplighter|    3|\n",
      "|(SandersForPresid...|SnapesGrayUnderpants|    5|\n",
      "|(SandersForPresid...|          lapacheco7|   13|\n",
      "|(SandersForPresid...|            Anbaheni|    3|\n",
      "|(SandersForPresid...|            Herollit|    2|\n",
      "|(YangForPresident...|         javaknight1|   12|\n",
      "|(SandersForPresid...|           h2o_demon|    1|\n",
      "|(SandersForPresid...|  StoleAGoodUsername|    1|\n",
      "|(SandersForPresid...|           BloosCorn|    2|\n",
      "|(SandersForPresid...|        carminedg123|   76|\n",
      "|(SandersForPresid...|           sodafishy|    6|\n",
      "|(SandersForPresid...|          wastedvote|   21|\n",
      "|(SandersForPresid...|      Kaiser_Winhelm|    1|\n",
      "|(SandersForPresid...|           The_Schwy|   56|\n",
      "+--------------------+--------------------+-----+\n",
      "only showing top 20 rows\n",
      "\n"
     ]
    }
   ],
   "source": [
    "import findspark\n",
    "findspark.init(\"/h/224/cameron/spark-3.0.0-preview2-bin-hadoop2.7\")\n",
    "from pyspark.sql import SparkSession\n",
    "from pyspark.sql.functions import *\n",
    "from pyspark.sql.types import StructType, StructField, IntegerType,StringType\n",
    "\n",
    "schema = StructType([\n",
    "    StructField(\"subreddit\", StringType(), True),\n",
    "    StructField(\"username\", StringType(), True),\n",
    "    StructField(\"count\", IntegerType(), True)])\n",
    "\n",
    "spark = SparkSession.builder.getOrCreate()\n",
    "spark.sparkContext.getConf().getAll()\n",
    "\n",
    "s_user_comments = spark.read.format(\"csv\").option(\"sep\", \" \").option(\"header\", False).load(\"temp/temporal/monthly_data\",schema=schema)\n",
    "s_user_comments = s_user_comments.where(s_user_comments['subreddit'].rlike(\"|\".join([\"(\" + cand + \")\" for cand in left_candidates])))\n",
    "s_user_comments.show()"
   ]
  },
  {
   "cell_type": "code",
   "execution_count": 15,
   "metadata": {
    "scrolled": false
   },
   "outputs": [
    {
     "data": {
      "text/html": [
       "<div>\n",
       "<style scoped>\n",
       "    .dataframe tbody tr th:only-of-type {\n",
       "        vertical-align: middle;\n",
       "    }\n",
       "\n",
       "    .dataframe tbody tr th {\n",
       "        vertical-align: top;\n",
       "    }\n",
       "\n",
       "    .dataframe thead th {\n",
       "        text-align: right;\n",
       "    }\n",
       "</style>\n",
       "<table border=\"1\" class=\"dataframe\">\n",
       "  <thead>\n",
       "    <tr style=\"text-align: right;\">\n",
       "      <th></th>\n",
       "      <th>subreddit</th>\n",
       "      <th>date</th>\n",
       "      <th>n_unique</th>\n",
       "    </tr>\n",
       "  </thead>\n",
       "  <tbody>\n",
       "    <tr>\n",
       "      <th>0</th>\n",
       "      <td>BaemyKlobaechar</td>\n",
       "      <td>2019-01-01</td>\n",
       "      <td>37</td>\n",
       "    </tr>\n",
       "    <tr>\n",
       "      <th>1</th>\n",
       "      <td>ElizabethWarren</td>\n",
       "      <td>2019-01-01</td>\n",
       "      <td>120</td>\n",
       "    </tr>\n",
       "    <tr>\n",
       "      <th>2</th>\n",
       "      <td>JoeBiden</td>\n",
       "      <td>2019-01-01</td>\n",
       "      <td>1</td>\n",
       "    </tr>\n",
       "    <tr>\n",
       "      <th>3</th>\n",
       "      <td>Pete_Buttigieg</td>\n",
       "      <td>2019-01-01</td>\n",
       "      <td>8</td>\n",
       "    </tr>\n",
       "    <tr>\n",
       "      <th>4</th>\n",
       "      <td>SandersForPresident</td>\n",
       "      <td>2019-01-01</td>\n",
       "      <td>5508</td>\n",
       "    </tr>\n",
       "    <tr>\n",
       "      <th>...</th>\n",
       "      <td>...</td>\n",
       "      <td>...</td>\n",
       "      <td>...</td>\n",
       "    </tr>\n",
       "    <tr>\n",
       "      <th>67</th>\n",
       "      <td>ElizabethWarren</td>\n",
       "      <td>2019-12-01</td>\n",
       "      <td>1668</td>\n",
       "    </tr>\n",
       "    <tr>\n",
       "      <th>68</th>\n",
       "      <td>JoeBiden</td>\n",
       "      <td>2019-12-01</td>\n",
       "      <td>416</td>\n",
       "    </tr>\n",
       "    <tr>\n",
       "      <th>69</th>\n",
       "      <td>Pete_Buttigieg</td>\n",
       "      <td>2019-12-01</td>\n",
       "      <td>3520</td>\n",
       "    </tr>\n",
       "    <tr>\n",
       "      <th>70</th>\n",
       "      <td>SandersForPresident</td>\n",
       "      <td>2019-12-01</td>\n",
       "      <td>18982</td>\n",
       "    </tr>\n",
       "    <tr>\n",
       "      <th>71</th>\n",
       "      <td>YangForPresidentHQ</td>\n",
       "      <td>2019-12-01</td>\n",
       "      <td>17411</td>\n",
       "    </tr>\n",
       "  </tbody>\n",
       "</table>\n",
       "<p>72 rows × 3 columns</p>\n",
       "</div>"
      ],
      "text/plain": [
       "              subreddit       date  n_unique\n",
       "0       BaemyKlobaechar 2019-01-01        37\n",
       "1       ElizabethWarren 2019-01-01       120\n",
       "2              JoeBiden 2019-01-01         1\n",
       "3        Pete_Buttigieg 2019-01-01         8\n",
       "4   SandersForPresident 2019-01-01      5508\n",
       "..                  ...        ...       ...\n",
       "67      ElizabethWarren 2019-12-01      1668\n",
       "68             JoeBiden 2019-12-01       416\n",
       "69       Pete_Buttigieg 2019-12-01      3520\n",
       "70  SandersForPresident 2019-12-01     18982\n",
       "71   YangForPresidentHQ 2019-12-01     17411\n",
       "\n",
       "[72 rows x 3 columns]"
      ]
     },
     "execution_count": 15,
     "metadata": {},
     "output_type": "execute_result"
    }
   ],
   "source": [
    "user_comments = s_user_comments.toPandas()\n",
    "user_comments['subreddit'], user_comments['date'] = zip(*user_comments['subreddit'].apply(lambda x: parse_tup(x,date_str=\"%d/%m/%Y\")))\n",
    "n_unique = user_comments.groupby([\"subreddit\",\"date\"])['username'].nunique().reset_index().sort_values([\"date\",\"subreddit\"]).reset_index(drop=True)\n",
    "n_unique = n_unique.rename({\"username\": 'n_unique'},axis=1)\n",
    "n_unique"
   ]
  },
  {
   "cell_type": "code",
   "execution_count": 16,
   "metadata": {
    "scrolled": false
   },
   "outputs": [
    {
     "data": {
      "application/vnd.plotly.v1+json": {
       "config": {
        "plotlyServerURL": "https://plot.ly"
       },
       "data": [
        {
         "hovertemplate": "Subreddit=BaemyKlobaechar<br>Month=%{x}<br>Unique Commenters=%{y}<extra></extra>",
         "legendgroup": "BaemyKlobaechar",
         "line": {
          "color": "#00CC96",
          "dash": "solid",
          "shape": "spline"
         },
         "mode": "lines",
         "name": "BaemyKlobaechar",
         "orientation": "v",
         "showlegend": true,
         "type": "scatter",
         "x": [
          "2019-01-01T00:00:00",
          "2019-02-01T00:00:00",
          "2019-03-01T00:00:00",
          "2019-04-01T00:00:00",
          "2019-05-01T00:00:00",
          "2019-06-01T00:00:00",
          "2019-07-01T00:00:00",
          "2019-08-01T00:00:00",
          "2019-09-01T00:00:00",
          "2019-10-01T00:00:00",
          "2019-11-01T00:00:00",
          "2019-12-01T00:00:00"
         ],
         "xaxis": "x",
         "y": [
          37,
          98,
          19,
          18,
          7,
          16,
          12,
          32,
          40,
          37,
          35,
          71
         ],
         "yaxis": "y"
        },
        {
         "hovertemplate": "Subreddit=ElizabethWarren<br>Month=%{x}<br>Unique Commenters=%{y}<extra></extra>",
         "legendgroup": "ElizabethWarren",
         "line": {
          "color": "#AB63FA",
          "dash": "solid",
          "shape": "spline"
         },
         "mode": "lines",
         "name": "ElizabethWarren",
         "orientation": "v",
         "showlegend": true,
         "type": "scatter",
         "x": [
          "2019-01-01T00:00:00",
          "2019-02-01T00:00:00",
          "2019-03-01T00:00:00",
          "2019-04-01T00:00:00",
          "2019-05-01T00:00:00",
          "2019-06-01T00:00:00",
          "2019-07-01T00:00:00",
          "2019-08-01T00:00:00",
          "2019-09-01T00:00:00",
          "2019-10-01T00:00:00",
          "2019-11-01T00:00:00",
          "2019-12-01T00:00:00"
         ],
         "xaxis": "x",
         "y": [
          120,
          148,
          142,
          470,
          836,
          1431,
          1411,
          1587,
          2083,
          2468,
          2331,
          1668
         ],
         "yaxis": "y"
        },
        {
         "hovertemplate": "Subreddit=JoeBiden<br>Month=%{x}<br>Unique Commenters=%{y}<extra></extra>",
         "legendgroup": "JoeBiden",
         "line": {
          "color": "#636EFA",
          "dash": "solid",
          "shape": "spline"
         },
         "mode": "lines",
         "name": "JoeBiden",
         "orientation": "v",
         "showlegend": true,
         "type": "scatter",
         "x": [
          "2019-01-01T00:00:00",
          "2019-02-01T00:00:00",
          "2019-03-01T00:00:00",
          "2019-04-01T00:00:00",
          "2019-05-01T00:00:00",
          "2019-06-01T00:00:00",
          "2019-07-01T00:00:00",
          "2019-08-01T00:00:00",
          "2019-09-01T00:00:00",
          "2019-10-01T00:00:00",
          "2019-11-01T00:00:00",
          "2019-12-01T00:00:00"
         ],
         "xaxis": "x",
         "y": [
          1,
          8,
          9,
          169,
          250,
          269,
          186,
          309,
          322,
          220,
          258,
          416
         ],
         "yaxis": "y"
        },
        {
         "hovertemplate": "Subreddit=Pete_Buttigieg<br>Month=%{x}<br>Unique Commenters=%{y}<extra></extra>",
         "legendgroup": "Pete_Buttigieg",
         "line": {
          "color": "#FFA15A",
          "dash": "solid",
          "shape": "spline"
         },
         "mode": "lines",
         "name": "Pete_Buttigieg",
         "orientation": "v",
         "showlegend": true,
         "type": "scatter",
         "x": [
          "2019-01-01T00:00:00",
          "2019-02-01T00:00:00",
          "2019-03-01T00:00:00",
          "2019-04-01T00:00:00",
          "2019-05-01T00:00:00",
          "2019-06-01T00:00:00",
          "2019-07-01T00:00:00",
          "2019-08-01T00:00:00",
          "2019-09-01T00:00:00",
          "2019-10-01T00:00:00",
          "2019-11-01T00:00:00",
          "2019-12-01T00:00:00"
         ],
         "xaxis": "x",
         "y": [
          8,
          32,
          1839,
          4549,
          2561,
          2828,
          2893,
          2430,
          2089,
          2364,
          3090,
          3520
         ],
         "yaxis": "y"
        },
        {
         "hovertemplate": "Subreddit=SandersForPresident<br>Month=%{x}<br>Unique Commenters=%{y}<extra></extra>",
         "legendgroup": "SandersForPresident",
         "line": {
          "color": "#EF553B",
          "dash": "solid",
          "shape": "spline"
         },
         "mode": "lines",
         "name": "SandersForPresident",
         "orientation": "v",
         "showlegend": true,
         "type": "scatter",
         "x": [
          "2019-01-01T00:00:00",
          "2019-02-01T00:00:00",
          "2019-03-01T00:00:00",
          "2019-04-01T00:00:00",
          "2019-05-01T00:00:00",
          "2019-06-01T00:00:00",
          "2019-07-01T00:00:00",
          "2019-08-01T00:00:00",
          "2019-09-01T00:00:00",
          "2019-10-01T00:00:00",
          "2019-11-01T00:00:00",
          "2019-12-01T00:00:00"
         ],
         "xaxis": "x",
         "y": [
          5508,
          11591,
          11493,
          10082,
          7374,
          17657,
          11439,
          19283,
          16040,
          14923,
          12670,
          18982
         ],
         "yaxis": "y"
        },
        {
         "hovertemplate": "Subreddit=YangForPresidentHQ<br>Month=%{x}<br>Unique Commenters=%{y}<extra></extra>",
         "legendgroup": "YangForPresidentHQ",
         "line": {
          "color": "#19D3F3",
          "dash": "solid",
          "shape": "spline"
         },
         "mode": "lines",
         "name": "YangForPresidentHQ",
         "orientation": "v",
         "showlegend": true,
         "type": "scatter",
         "x": [
          "2019-01-01T00:00:00",
          "2019-02-01T00:00:00",
          "2019-03-01T00:00:00",
          "2019-04-01T00:00:00",
          "2019-05-01T00:00:00",
          "2019-06-01T00:00:00",
          "2019-07-01T00:00:00",
          "2019-08-01T00:00:00",
          "2019-09-01T00:00:00",
          "2019-10-01T00:00:00",
          "2019-11-01T00:00:00",
          "2019-12-01T00:00:00"
         ],
         "xaxis": "x",
         "y": [
          35,
          580,
          3953,
          3944,
          3122,
          5522,
          8129,
          13622,
          14337,
          14475,
          13588,
          17411
         ],
         "yaxis": "y"
        }
       ],
       "layout": {
        "annotations": [
         {
          "ay": 20,
          "text": "Yang AMA on /r/politics",
          "x": "2019-02-24",
          "y": 3.505149978319906
         },
         {
          "text": "Sanders AMA on /r/SandersForPresident",
          "x": "2019-06-18",
          "y": 4.1303337684950066
         },
         {
          "ay": 40,
          "text": "Buttigieg announces campaign",
          "x": "2019-04-19",
          "y": 3.5185139398778875
         },
         {
          "ax": 60,
          "ay": 20,
          "text": "Buttigieg exploratory committee",
          "x": "2019-01-23",
          "y": 1.2787536009528289
         },
         {
          "ax": 100,
          "ay": -10,
          "text": "Klobuchar announces campaign",
          "x": "2019-02-10",
          "y": 1.7993405494535817
         },
         {
          "ay": -20,
          "text": "Sanders announces campaign",
          "x": "2019-02-19",
          "y": 4.0604334067027406
         },
         {
          "ay": -20,
          "text": "Warren announces campaign",
          "x": "2019-02-09",
          "y": 2.1760912590556813
         }
        ],
        "font": {
         "size": 14
        },
        "legend": {
         "title": {
          "text": "Subreddit"
         },
         "tracegroupgap": 0
        },
        "template": {
         "data": {
          "bar": [
           {
            "error_x": {
             "color": "rgb(36,36,36)"
            },
            "error_y": {
             "color": "rgb(36,36,36)"
            },
            "marker": {
             "line": {
              "color": "white",
              "width": 0.5
             }
            },
            "type": "bar"
           }
          ],
          "barpolar": [
           {
            "marker": {
             "line": {
              "color": "white",
              "width": 0.5
             }
            },
            "type": "barpolar"
           }
          ],
          "carpet": [
           {
            "aaxis": {
             "endlinecolor": "rgb(36,36,36)",
             "gridcolor": "white",
             "linecolor": "white",
             "minorgridcolor": "white",
             "startlinecolor": "rgb(36,36,36)"
            },
            "baxis": {
             "endlinecolor": "rgb(36,36,36)",
             "gridcolor": "white",
             "linecolor": "white",
             "minorgridcolor": "white",
             "startlinecolor": "rgb(36,36,36)"
            },
            "type": "carpet"
           }
          ],
          "choropleth": [
           {
            "colorbar": {
             "outlinewidth": 1,
             "tickcolor": "rgb(36,36,36)",
             "ticks": "outside"
            },
            "type": "choropleth"
           }
          ],
          "contour": [
           {
            "colorbar": {
             "outlinewidth": 1,
             "tickcolor": "rgb(36,36,36)",
             "ticks": "outside"
            },
            "colorscale": [
             [
              0,
              "#440154"
             ],
             [
              0.1111111111111111,
              "#482878"
             ],
             [
              0.2222222222222222,
              "#3e4989"
             ],
             [
              0.3333333333333333,
              "#31688e"
             ],
             [
              0.4444444444444444,
              "#26828e"
             ],
             [
              0.5555555555555556,
              "#1f9e89"
             ],
             [
              0.6666666666666666,
              "#35b779"
             ],
             [
              0.7777777777777778,
              "#6ece58"
             ],
             [
              0.8888888888888888,
              "#b5de2b"
             ],
             [
              1,
              "#fde725"
             ]
            ],
            "type": "contour"
           }
          ],
          "contourcarpet": [
           {
            "colorbar": {
             "outlinewidth": 1,
             "tickcolor": "rgb(36,36,36)",
             "ticks": "outside"
            },
            "type": "contourcarpet"
           }
          ],
          "heatmap": [
           {
            "colorbar": {
             "outlinewidth": 1,
             "tickcolor": "rgb(36,36,36)",
             "ticks": "outside"
            },
            "colorscale": [
             [
              0,
              "#440154"
             ],
             [
              0.1111111111111111,
              "#482878"
             ],
             [
              0.2222222222222222,
              "#3e4989"
             ],
             [
              0.3333333333333333,
              "#31688e"
             ],
             [
              0.4444444444444444,
              "#26828e"
             ],
             [
              0.5555555555555556,
              "#1f9e89"
             ],
             [
              0.6666666666666666,
              "#35b779"
             ],
             [
              0.7777777777777778,
              "#6ece58"
             ],
             [
              0.8888888888888888,
              "#b5de2b"
             ],
             [
              1,
              "#fde725"
             ]
            ],
            "type": "heatmap"
           }
          ],
          "heatmapgl": [
           {
            "colorbar": {
             "outlinewidth": 1,
             "tickcolor": "rgb(36,36,36)",
             "ticks": "outside"
            },
            "colorscale": [
             [
              0,
              "#440154"
             ],
             [
              0.1111111111111111,
              "#482878"
             ],
             [
              0.2222222222222222,
              "#3e4989"
             ],
             [
              0.3333333333333333,
              "#31688e"
             ],
             [
              0.4444444444444444,
              "#26828e"
             ],
             [
              0.5555555555555556,
              "#1f9e89"
             ],
             [
              0.6666666666666666,
              "#35b779"
             ],
             [
              0.7777777777777778,
              "#6ece58"
             ],
             [
              0.8888888888888888,
              "#b5de2b"
             ],
             [
              1,
              "#fde725"
             ]
            ],
            "type": "heatmapgl"
           }
          ],
          "histogram": [
           {
            "marker": {
             "line": {
              "color": "white",
              "width": 0.6
             }
            },
            "type": "histogram"
           }
          ],
          "histogram2d": [
           {
            "colorbar": {
             "outlinewidth": 1,
             "tickcolor": "rgb(36,36,36)",
             "ticks": "outside"
            },
            "colorscale": [
             [
              0,
              "#440154"
             ],
             [
              0.1111111111111111,
              "#482878"
             ],
             [
              0.2222222222222222,
              "#3e4989"
             ],
             [
              0.3333333333333333,
              "#31688e"
             ],
             [
              0.4444444444444444,
              "#26828e"
             ],
             [
              0.5555555555555556,
              "#1f9e89"
             ],
             [
              0.6666666666666666,
              "#35b779"
             ],
             [
              0.7777777777777778,
              "#6ece58"
             ],
             [
              0.8888888888888888,
              "#b5de2b"
             ],
             [
              1,
              "#fde725"
             ]
            ],
            "type": "histogram2d"
           }
          ],
          "histogram2dcontour": [
           {
            "colorbar": {
             "outlinewidth": 1,
             "tickcolor": "rgb(36,36,36)",
             "ticks": "outside"
            },
            "colorscale": [
             [
              0,
              "#440154"
             ],
             [
              0.1111111111111111,
              "#482878"
             ],
             [
              0.2222222222222222,
              "#3e4989"
             ],
             [
              0.3333333333333333,
              "#31688e"
             ],
             [
              0.4444444444444444,
              "#26828e"
             ],
             [
              0.5555555555555556,
              "#1f9e89"
             ],
             [
              0.6666666666666666,
              "#35b779"
             ],
             [
              0.7777777777777778,
              "#6ece58"
             ],
             [
              0.8888888888888888,
              "#b5de2b"
             ],
             [
              1,
              "#fde725"
             ]
            ],
            "type": "histogram2dcontour"
           }
          ],
          "mesh3d": [
           {
            "colorbar": {
             "outlinewidth": 1,
             "tickcolor": "rgb(36,36,36)",
             "ticks": "outside"
            },
            "type": "mesh3d"
           }
          ],
          "parcoords": [
           {
            "line": {
             "colorbar": {
              "outlinewidth": 1,
              "tickcolor": "rgb(36,36,36)",
              "ticks": "outside"
             }
            },
            "type": "parcoords"
           }
          ],
          "pie": [
           {
            "automargin": true,
            "type": "pie"
           }
          ],
          "scatter": [
           {
            "marker": {
             "colorbar": {
              "outlinewidth": 1,
              "tickcolor": "rgb(36,36,36)",
              "ticks": "outside"
             }
            },
            "type": "scatter"
           }
          ],
          "scatter3d": [
           {
            "line": {
             "colorbar": {
              "outlinewidth": 1,
              "tickcolor": "rgb(36,36,36)",
              "ticks": "outside"
             }
            },
            "marker": {
             "colorbar": {
              "outlinewidth": 1,
              "tickcolor": "rgb(36,36,36)",
              "ticks": "outside"
             }
            },
            "type": "scatter3d"
           }
          ],
          "scattercarpet": [
           {
            "marker": {
             "colorbar": {
              "outlinewidth": 1,
              "tickcolor": "rgb(36,36,36)",
              "ticks": "outside"
             }
            },
            "type": "scattercarpet"
           }
          ],
          "scattergeo": [
           {
            "marker": {
             "colorbar": {
              "outlinewidth": 1,
              "tickcolor": "rgb(36,36,36)",
              "ticks": "outside"
             }
            },
            "type": "scattergeo"
           }
          ],
          "scattergl": [
           {
            "marker": {
             "colorbar": {
              "outlinewidth": 1,
              "tickcolor": "rgb(36,36,36)",
              "ticks": "outside"
             }
            },
            "type": "scattergl"
           }
          ],
          "scattermapbox": [
           {
            "marker": {
             "colorbar": {
              "outlinewidth": 1,
              "tickcolor": "rgb(36,36,36)",
              "ticks": "outside"
             }
            },
            "type": "scattermapbox"
           }
          ],
          "scatterpolar": [
           {
            "marker": {
             "colorbar": {
              "outlinewidth": 1,
              "tickcolor": "rgb(36,36,36)",
              "ticks": "outside"
             }
            },
            "type": "scatterpolar"
           }
          ],
          "scatterpolargl": [
           {
            "marker": {
             "colorbar": {
              "outlinewidth": 1,
              "tickcolor": "rgb(36,36,36)",
              "ticks": "outside"
             }
            },
            "type": "scatterpolargl"
           }
          ],
          "scatterternary": [
           {
            "marker": {
             "colorbar": {
              "outlinewidth": 1,
              "tickcolor": "rgb(36,36,36)",
              "ticks": "outside"
             }
            },
            "type": "scatterternary"
           }
          ],
          "surface": [
           {
            "colorbar": {
             "outlinewidth": 1,
             "tickcolor": "rgb(36,36,36)",
             "ticks": "outside"
            },
            "colorscale": [
             [
              0,
              "#440154"
             ],
             [
              0.1111111111111111,
              "#482878"
             ],
             [
              0.2222222222222222,
              "#3e4989"
             ],
             [
              0.3333333333333333,
              "#31688e"
             ],
             [
              0.4444444444444444,
              "#26828e"
             ],
             [
              0.5555555555555556,
              "#1f9e89"
             ],
             [
              0.6666666666666666,
              "#35b779"
             ],
             [
              0.7777777777777778,
              "#6ece58"
             ],
             [
              0.8888888888888888,
              "#b5de2b"
             ],
             [
              1,
              "#fde725"
             ]
            ],
            "type": "surface"
           }
          ],
          "table": [
           {
            "cells": {
             "fill": {
              "color": "rgb(237,237,237)"
             },
             "line": {
              "color": "white"
             }
            },
            "header": {
             "fill": {
              "color": "rgb(217,217,217)"
             },
             "line": {
              "color": "white"
             }
            },
            "type": "table"
           }
          ]
         },
         "layout": {
          "annotationdefaults": {
           "arrowhead": 0,
           "arrowwidth": 1
          },
          "coloraxis": {
           "colorbar": {
            "outlinewidth": 1,
            "tickcolor": "rgb(36,36,36)",
            "ticks": "outside"
           }
          },
          "colorscale": {
           "diverging": [
            [
             0,
             "rgb(103,0,31)"
            ],
            [
             0.1,
             "rgb(178,24,43)"
            ],
            [
             0.2,
             "rgb(214,96,77)"
            ],
            [
             0.3,
             "rgb(244,165,130)"
            ],
            [
             0.4,
             "rgb(253,219,199)"
            ],
            [
             0.5,
             "rgb(247,247,247)"
            ],
            [
             0.6,
             "rgb(209,229,240)"
            ],
            [
             0.7,
             "rgb(146,197,222)"
            ],
            [
             0.8,
             "rgb(67,147,195)"
            ],
            [
             0.9,
             "rgb(33,102,172)"
            ],
            [
             1,
             "rgb(5,48,97)"
            ]
           ],
           "sequential": [
            [
             0,
             "#440154"
            ],
            [
             0.1111111111111111,
             "#482878"
            ],
            [
             0.2222222222222222,
             "#3e4989"
            ],
            [
             0.3333333333333333,
             "#31688e"
            ],
            [
             0.4444444444444444,
             "#26828e"
            ],
            [
             0.5555555555555556,
             "#1f9e89"
            ],
            [
             0.6666666666666666,
             "#35b779"
            ],
            [
             0.7777777777777778,
             "#6ece58"
            ],
            [
             0.8888888888888888,
             "#b5de2b"
            ],
            [
             1,
             "#fde725"
            ]
           ],
           "sequentialminus": [
            [
             0,
             "#440154"
            ],
            [
             0.1111111111111111,
             "#482878"
            ],
            [
             0.2222222222222222,
             "#3e4989"
            ],
            [
             0.3333333333333333,
             "#31688e"
            ],
            [
             0.4444444444444444,
             "#26828e"
            ],
            [
             0.5555555555555556,
             "#1f9e89"
            ],
            [
             0.6666666666666666,
             "#35b779"
            ],
            [
             0.7777777777777778,
             "#6ece58"
            ],
            [
             0.8888888888888888,
             "#b5de2b"
            ],
            [
             1,
             "#fde725"
            ]
           ]
          },
          "colorway": [
           "#1F77B4",
           "#FF7F0E",
           "#2CA02C",
           "#D62728",
           "#9467BD",
           "#8C564B",
           "#E377C2",
           "#7F7F7F",
           "#BCBD22",
           "#17BECF"
          ],
          "font": {
           "color": "rgb(36,36,36)"
          },
          "geo": {
           "bgcolor": "white",
           "lakecolor": "white",
           "landcolor": "white",
           "showlakes": true,
           "showland": true,
           "subunitcolor": "white"
          },
          "hoverlabel": {
           "align": "left"
          },
          "hovermode": "closest",
          "mapbox": {
           "style": "light"
          },
          "paper_bgcolor": "white",
          "plot_bgcolor": "white",
          "polar": {
           "angularaxis": {
            "gridcolor": "rgb(232,232,232)",
            "linecolor": "rgb(36,36,36)",
            "showgrid": false,
            "showline": true,
            "ticks": "outside"
           },
           "bgcolor": "white",
           "radialaxis": {
            "gridcolor": "rgb(232,232,232)",
            "linecolor": "rgb(36,36,36)",
            "showgrid": false,
            "showline": true,
            "ticks": "outside"
           }
          },
          "scene": {
           "xaxis": {
            "backgroundcolor": "white",
            "gridcolor": "rgb(232,232,232)",
            "gridwidth": 2,
            "linecolor": "rgb(36,36,36)",
            "showbackground": true,
            "showgrid": false,
            "showline": true,
            "ticks": "outside",
            "zeroline": false,
            "zerolinecolor": "rgb(36,36,36)"
           },
           "yaxis": {
            "backgroundcolor": "white",
            "gridcolor": "rgb(232,232,232)",
            "gridwidth": 2,
            "linecolor": "rgb(36,36,36)",
            "showbackground": true,
            "showgrid": false,
            "showline": true,
            "ticks": "outside",
            "zeroline": false,
            "zerolinecolor": "rgb(36,36,36)"
           },
           "zaxis": {
            "backgroundcolor": "white",
            "gridcolor": "rgb(232,232,232)",
            "gridwidth": 2,
            "linecolor": "rgb(36,36,36)",
            "showbackground": true,
            "showgrid": false,
            "showline": true,
            "ticks": "outside",
            "zeroline": false,
            "zerolinecolor": "rgb(36,36,36)"
           }
          },
          "shapedefaults": {
           "fillcolor": "black",
           "line": {
            "width": 0
           },
           "opacity": 0.3
          },
          "ternary": {
           "aaxis": {
            "gridcolor": "rgb(232,232,232)",
            "linecolor": "rgb(36,36,36)",
            "showgrid": false,
            "showline": true,
            "ticks": "outside"
           },
           "baxis": {
            "gridcolor": "rgb(232,232,232)",
            "linecolor": "rgb(36,36,36)",
            "showgrid": false,
            "showline": true,
            "ticks": "outside"
           },
           "bgcolor": "white",
           "caxis": {
            "gridcolor": "rgb(232,232,232)",
            "linecolor": "rgb(36,36,36)",
            "showgrid": false,
            "showline": true,
            "ticks": "outside"
           }
          },
          "title": {
           "x": 0.05
          },
          "xaxis": {
           "automargin": true,
           "gridcolor": "rgb(232,232,232)",
           "linecolor": "rgb(36,36,36)",
           "showgrid": false,
           "showline": true,
           "ticks": "outside",
           "title": {
            "standoff": 15
           },
           "zeroline": false,
           "zerolinecolor": "rgb(36,36,36)"
          },
          "yaxis": {
           "automargin": true,
           "gridcolor": "rgb(232,232,232)",
           "linecolor": "rgb(36,36,36)",
           "showgrid": false,
           "showline": true,
           "ticks": "outside",
           "title": {
            "standoff": 15
           },
           "zeroline": false,
           "zerolinecolor": "rgb(36,36,36)"
          }
         }
        },
        "title": {
         "text": "Unique Commenters Over Time"
        },
        "xaxis": {
         "anchor": "y",
         "domain": [
          0,
          1
         ],
         "title": {
          "text": "Month"
         }
        },
        "yaxis": {
         "anchor": "x",
         "domain": [
          0,
          1
         ],
         "title": {
          "text": "Unique Commenters"
         },
         "type": "log"
        }
       }
      },
      "text/html": [
       "<div>\n",
       "        \n",
       "        \n",
       "            <div id=\"b91fe57b-b9e6-4d33-9f8a-7dd0718db2a9\" class=\"plotly-graph-div\" style=\"height:525px; width:100%;\"></div>\n",
       "            <script type=\"text/javascript\">\n",
       "                require([\"plotly\"], function(Plotly) {\n",
       "                    window.PLOTLYENV=window.PLOTLYENV || {};\n",
       "                    \n",
       "                if (document.getElementById(\"b91fe57b-b9e6-4d33-9f8a-7dd0718db2a9\")) {\n",
       "                    Plotly.newPlot(\n",
       "                        'b91fe57b-b9e6-4d33-9f8a-7dd0718db2a9',\n",
       "                        [{\"hovertemplate\": \"Subreddit=BaemyKlobaechar<br>Month=%{x}<br>Unique Commenters=%{y}<extra></extra>\", \"legendgroup\": \"BaemyKlobaechar\", \"line\": {\"color\": \"#00CC96\", \"dash\": \"solid\", \"shape\": \"spline\"}, \"mode\": \"lines\", \"name\": \"BaemyKlobaechar\", \"orientation\": \"v\", \"showlegend\": true, \"type\": \"scatter\", \"x\": [\"2019-01-01T00:00:00\", \"2019-02-01T00:00:00\", \"2019-03-01T00:00:00\", \"2019-04-01T00:00:00\", \"2019-05-01T00:00:00\", \"2019-06-01T00:00:00\", \"2019-07-01T00:00:00\", \"2019-08-01T00:00:00\", \"2019-09-01T00:00:00\", \"2019-10-01T00:00:00\", \"2019-11-01T00:00:00\", \"2019-12-01T00:00:00\"], \"xaxis\": \"x\", \"y\": [37, 98, 19, 18, 7, 16, 12, 32, 40, 37, 35, 71], \"yaxis\": \"y\"}, {\"hovertemplate\": \"Subreddit=ElizabethWarren<br>Month=%{x}<br>Unique Commenters=%{y}<extra></extra>\", \"legendgroup\": \"ElizabethWarren\", \"line\": {\"color\": \"#AB63FA\", \"dash\": \"solid\", \"shape\": \"spline\"}, \"mode\": \"lines\", \"name\": \"ElizabethWarren\", \"orientation\": \"v\", \"showlegend\": true, \"type\": \"scatter\", \"x\": [\"2019-01-01T00:00:00\", \"2019-02-01T00:00:00\", \"2019-03-01T00:00:00\", \"2019-04-01T00:00:00\", \"2019-05-01T00:00:00\", \"2019-06-01T00:00:00\", \"2019-07-01T00:00:00\", \"2019-08-01T00:00:00\", \"2019-09-01T00:00:00\", \"2019-10-01T00:00:00\", \"2019-11-01T00:00:00\", \"2019-12-01T00:00:00\"], \"xaxis\": \"x\", \"y\": [120, 148, 142, 470, 836, 1431, 1411, 1587, 2083, 2468, 2331, 1668], \"yaxis\": \"y\"}, {\"hovertemplate\": \"Subreddit=JoeBiden<br>Month=%{x}<br>Unique Commenters=%{y}<extra></extra>\", \"legendgroup\": \"JoeBiden\", \"line\": {\"color\": \"#636EFA\", \"dash\": \"solid\", \"shape\": \"spline\"}, \"mode\": \"lines\", \"name\": \"JoeBiden\", \"orientation\": \"v\", \"showlegend\": true, \"type\": \"scatter\", \"x\": [\"2019-01-01T00:00:00\", \"2019-02-01T00:00:00\", \"2019-03-01T00:00:00\", \"2019-04-01T00:00:00\", \"2019-05-01T00:00:00\", \"2019-06-01T00:00:00\", \"2019-07-01T00:00:00\", \"2019-08-01T00:00:00\", \"2019-09-01T00:00:00\", \"2019-10-01T00:00:00\", \"2019-11-01T00:00:00\", \"2019-12-01T00:00:00\"], \"xaxis\": \"x\", \"y\": [1, 8, 9, 169, 250, 269, 186, 309, 322, 220, 258, 416], \"yaxis\": \"y\"}, {\"hovertemplate\": \"Subreddit=Pete_Buttigieg<br>Month=%{x}<br>Unique Commenters=%{y}<extra></extra>\", \"legendgroup\": \"Pete_Buttigieg\", \"line\": {\"color\": \"#FFA15A\", \"dash\": \"solid\", \"shape\": \"spline\"}, \"mode\": \"lines\", \"name\": \"Pete_Buttigieg\", \"orientation\": \"v\", \"showlegend\": true, \"type\": \"scatter\", \"x\": [\"2019-01-01T00:00:00\", \"2019-02-01T00:00:00\", \"2019-03-01T00:00:00\", \"2019-04-01T00:00:00\", \"2019-05-01T00:00:00\", \"2019-06-01T00:00:00\", \"2019-07-01T00:00:00\", \"2019-08-01T00:00:00\", \"2019-09-01T00:00:00\", \"2019-10-01T00:00:00\", \"2019-11-01T00:00:00\", \"2019-12-01T00:00:00\"], \"xaxis\": \"x\", \"y\": [8, 32, 1839, 4549, 2561, 2828, 2893, 2430, 2089, 2364, 3090, 3520], \"yaxis\": \"y\"}, {\"hovertemplate\": \"Subreddit=SandersForPresident<br>Month=%{x}<br>Unique Commenters=%{y}<extra></extra>\", \"legendgroup\": \"SandersForPresident\", \"line\": {\"color\": \"#EF553B\", \"dash\": \"solid\", \"shape\": \"spline\"}, \"mode\": \"lines\", \"name\": \"SandersForPresident\", \"orientation\": \"v\", \"showlegend\": true, \"type\": \"scatter\", \"x\": [\"2019-01-01T00:00:00\", \"2019-02-01T00:00:00\", \"2019-03-01T00:00:00\", \"2019-04-01T00:00:00\", \"2019-05-01T00:00:00\", \"2019-06-01T00:00:00\", \"2019-07-01T00:00:00\", \"2019-08-01T00:00:00\", \"2019-09-01T00:00:00\", \"2019-10-01T00:00:00\", \"2019-11-01T00:00:00\", \"2019-12-01T00:00:00\"], \"xaxis\": \"x\", \"y\": [5508, 11591, 11493, 10082, 7374, 17657, 11439, 19283, 16040, 14923, 12670, 18982], \"yaxis\": \"y\"}, {\"hovertemplate\": \"Subreddit=YangForPresidentHQ<br>Month=%{x}<br>Unique Commenters=%{y}<extra></extra>\", \"legendgroup\": \"YangForPresidentHQ\", \"line\": {\"color\": \"#19D3F3\", \"dash\": \"solid\", \"shape\": \"spline\"}, \"mode\": \"lines\", \"name\": \"YangForPresidentHQ\", \"orientation\": \"v\", \"showlegend\": true, \"type\": \"scatter\", \"x\": [\"2019-01-01T00:00:00\", \"2019-02-01T00:00:00\", \"2019-03-01T00:00:00\", \"2019-04-01T00:00:00\", \"2019-05-01T00:00:00\", \"2019-06-01T00:00:00\", \"2019-07-01T00:00:00\", \"2019-08-01T00:00:00\", \"2019-09-01T00:00:00\", \"2019-10-01T00:00:00\", \"2019-11-01T00:00:00\", \"2019-12-01T00:00:00\"], \"xaxis\": \"x\", \"y\": [35, 580, 3953, 3944, 3122, 5522, 8129, 13622, 14337, 14475, 13588, 17411], \"yaxis\": \"y\"}],\n",
       "                        {\"annotations\": [{\"ay\": 20, \"text\": \"Yang AMA on /r/politics\", \"x\": \"2019-02-24\", \"y\": 3.505149978319906}, {\"text\": \"Sanders AMA on /r/SandersForPresident\", \"x\": \"2019-06-18\", \"y\": 4.1303337684950066}, {\"ay\": 40, \"text\": \"Buttigieg announces campaign\", \"x\": \"2019-04-19\", \"y\": 3.5185139398778875}, {\"ax\": 60, \"ay\": 20, \"text\": \"Buttigieg exploratory committee\", \"x\": \"2019-01-23\", \"y\": 1.2787536009528289}, {\"ax\": 100, \"ay\": -10, \"text\": \"Klobuchar announces campaign\", \"x\": \"2019-02-10\", \"y\": 1.7993405494535817}, {\"ay\": -20, \"text\": \"Sanders announces campaign\", \"x\": \"2019-02-19\", \"y\": 4.0604334067027406}, {\"ay\": -20, \"text\": \"Warren announces campaign\", \"x\": \"2019-02-09\", \"y\": 2.1760912590556813}], \"font\": {\"size\": 14}, \"legend\": {\"title\": {\"text\": \"Subreddit\"}, \"tracegroupgap\": 0}, \"template\": {\"data\": {\"bar\": [{\"error_x\": {\"color\": \"rgb(36,36,36)\"}, \"error_y\": {\"color\": \"rgb(36,36,36)\"}, \"marker\": {\"line\": {\"color\": \"white\", \"width\": 0.5}}, \"type\": \"bar\"}], \"barpolar\": [{\"marker\": {\"line\": {\"color\": \"white\", \"width\": 0.5}}, \"type\": \"barpolar\"}], \"carpet\": [{\"aaxis\": {\"endlinecolor\": \"rgb(36,36,36)\", \"gridcolor\": \"white\", \"linecolor\": \"white\", \"minorgridcolor\": \"white\", \"startlinecolor\": \"rgb(36,36,36)\"}, \"baxis\": {\"endlinecolor\": \"rgb(36,36,36)\", \"gridcolor\": \"white\", \"linecolor\": \"white\", \"minorgridcolor\": \"white\", \"startlinecolor\": \"rgb(36,36,36)\"}, \"type\": \"carpet\"}], \"choropleth\": [{\"colorbar\": {\"outlinewidth\": 1, \"tickcolor\": \"rgb(36,36,36)\", \"ticks\": \"outside\"}, \"type\": \"choropleth\"}], \"contour\": [{\"colorbar\": {\"outlinewidth\": 1, \"tickcolor\": \"rgb(36,36,36)\", \"ticks\": \"outside\"}, \"colorscale\": [[0.0, \"#440154\"], [0.1111111111111111, \"#482878\"], [0.2222222222222222, \"#3e4989\"], [0.3333333333333333, \"#31688e\"], [0.4444444444444444, \"#26828e\"], [0.5555555555555556, \"#1f9e89\"], [0.6666666666666666, \"#35b779\"], [0.7777777777777778, \"#6ece58\"], [0.8888888888888888, \"#b5de2b\"], [1.0, \"#fde725\"]], \"type\": \"contour\"}], \"contourcarpet\": [{\"colorbar\": {\"outlinewidth\": 1, \"tickcolor\": \"rgb(36,36,36)\", \"ticks\": \"outside\"}, \"type\": \"contourcarpet\"}], \"heatmap\": [{\"colorbar\": {\"outlinewidth\": 1, \"tickcolor\": \"rgb(36,36,36)\", \"ticks\": \"outside\"}, \"colorscale\": [[0.0, \"#440154\"], [0.1111111111111111, \"#482878\"], [0.2222222222222222, \"#3e4989\"], [0.3333333333333333, \"#31688e\"], [0.4444444444444444, \"#26828e\"], [0.5555555555555556, \"#1f9e89\"], [0.6666666666666666, \"#35b779\"], [0.7777777777777778, \"#6ece58\"], [0.8888888888888888, \"#b5de2b\"], [1.0, \"#fde725\"]], \"type\": \"heatmap\"}], \"heatmapgl\": [{\"colorbar\": {\"outlinewidth\": 1, \"tickcolor\": \"rgb(36,36,36)\", \"ticks\": \"outside\"}, \"colorscale\": [[0.0, \"#440154\"], [0.1111111111111111, \"#482878\"], [0.2222222222222222, \"#3e4989\"], [0.3333333333333333, \"#31688e\"], [0.4444444444444444, \"#26828e\"], [0.5555555555555556, \"#1f9e89\"], [0.6666666666666666, \"#35b779\"], [0.7777777777777778, \"#6ece58\"], [0.8888888888888888, \"#b5de2b\"], [1.0, \"#fde725\"]], \"type\": \"heatmapgl\"}], \"histogram\": [{\"marker\": {\"line\": {\"color\": \"white\", \"width\": 0.6}}, \"type\": \"histogram\"}], \"histogram2d\": [{\"colorbar\": {\"outlinewidth\": 1, \"tickcolor\": \"rgb(36,36,36)\", \"ticks\": \"outside\"}, \"colorscale\": [[0.0, \"#440154\"], [0.1111111111111111, \"#482878\"], [0.2222222222222222, \"#3e4989\"], [0.3333333333333333, \"#31688e\"], [0.4444444444444444, \"#26828e\"], [0.5555555555555556, \"#1f9e89\"], [0.6666666666666666, \"#35b779\"], [0.7777777777777778, \"#6ece58\"], [0.8888888888888888, \"#b5de2b\"], [1.0, \"#fde725\"]], \"type\": \"histogram2d\"}], \"histogram2dcontour\": [{\"colorbar\": {\"outlinewidth\": 1, \"tickcolor\": \"rgb(36,36,36)\", \"ticks\": \"outside\"}, \"colorscale\": [[0.0, \"#440154\"], [0.1111111111111111, \"#482878\"], [0.2222222222222222, \"#3e4989\"], [0.3333333333333333, \"#31688e\"], [0.4444444444444444, \"#26828e\"], [0.5555555555555556, \"#1f9e89\"], [0.6666666666666666, \"#35b779\"], [0.7777777777777778, \"#6ece58\"], [0.8888888888888888, \"#b5de2b\"], [1.0, \"#fde725\"]], \"type\": \"histogram2dcontour\"}], \"mesh3d\": [{\"colorbar\": {\"outlinewidth\": 1, \"tickcolor\": \"rgb(36,36,36)\", \"ticks\": \"outside\"}, \"type\": \"mesh3d\"}], \"parcoords\": [{\"line\": {\"colorbar\": {\"outlinewidth\": 1, \"tickcolor\": \"rgb(36,36,36)\", \"ticks\": \"outside\"}}, \"type\": \"parcoords\"}], \"pie\": [{\"automargin\": true, \"type\": \"pie\"}], \"scatter\": [{\"marker\": {\"colorbar\": {\"outlinewidth\": 1, \"tickcolor\": \"rgb(36,36,36)\", \"ticks\": \"outside\"}}, \"type\": \"scatter\"}], \"scatter3d\": [{\"line\": {\"colorbar\": {\"outlinewidth\": 1, \"tickcolor\": \"rgb(36,36,36)\", \"ticks\": \"outside\"}}, \"marker\": {\"colorbar\": {\"outlinewidth\": 1, \"tickcolor\": \"rgb(36,36,36)\", \"ticks\": \"outside\"}}, \"type\": \"scatter3d\"}], \"scattercarpet\": [{\"marker\": {\"colorbar\": {\"outlinewidth\": 1, \"tickcolor\": \"rgb(36,36,36)\", \"ticks\": \"outside\"}}, \"type\": \"scattercarpet\"}], \"scattergeo\": [{\"marker\": {\"colorbar\": {\"outlinewidth\": 1, \"tickcolor\": \"rgb(36,36,36)\", \"ticks\": \"outside\"}}, \"type\": \"scattergeo\"}], \"scattergl\": [{\"marker\": {\"colorbar\": {\"outlinewidth\": 1, \"tickcolor\": \"rgb(36,36,36)\", \"ticks\": \"outside\"}}, \"type\": \"scattergl\"}], \"scattermapbox\": [{\"marker\": {\"colorbar\": {\"outlinewidth\": 1, \"tickcolor\": \"rgb(36,36,36)\", \"ticks\": \"outside\"}}, \"type\": \"scattermapbox\"}], \"scatterpolar\": [{\"marker\": {\"colorbar\": {\"outlinewidth\": 1, \"tickcolor\": \"rgb(36,36,36)\", \"ticks\": \"outside\"}}, \"type\": \"scatterpolar\"}], \"scatterpolargl\": [{\"marker\": {\"colorbar\": {\"outlinewidth\": 1, \"tickcolor\": \"rgb(36,36,36)\", \"ticks\": \"outside\"}}, \"type\": \"scatterpolargl\"}], \"scatterternary\": [{\"marker\": {\"colorbar\": {\"outlinewidth\": 1, \"tickcolor\": \"rgb(36,36,36)\", \"ticks\": \"outside\"}}, \"type\": \"scatterternary\"}], \"surface\": [{\"colorbar\": {\"outlinewidth\": 1, \"tickcolor\": \"rgb(36,36,36)\", \"ticks\": \"outside\"}, \"colorscale\": [[0.0, \"#440154\"], [0.1111111111111111, \"#482878\"], [0.2222222222222222, \"#3e4989\"], [0.3333333333333333, \"#31688e\"], [0.4444444444444444, \"#26828e\"], [0.5555555555555556, \"#1f9e89\"], [0.6666666666666666, \"#35b779\"], [0.7777777777777778, \"#6ece58\"], [0.8888888888888888, \"#b5de2b\"], [1.0, \"#fde725\"]], \"type\": \"surface\"}], \"table\": [{\"cells\": {\"fill\": {\"color\": \"rgb(237,237,237)\"}, \"line\": {\"color\": \"white\"}}, \"header\": {\"fill\": {\"color\": \"rgb(217,217,217)\"}, \"line\": {\"color\": \"white\"}}, \"type\": \"table\"}]}, \"layout\": {\"annotationdefaults\": {\"arrowhead\": 0, \"arrowwidth\": 1}, \"coloraxis\": {\"colorbar\": {\"outlinewidth\": 1, \"tickcolor\": \"rgb(36,36,36)\", \"ticks\": \"outside\"}}, \"colorscale\": {\"diverging\": [[0.0, \"rgb(103,0,31)\"], [0.1, \"rgb(178,24,43)\"], [0.2, \"rgb(214,96,77)\"], [0.3, \"rgb(244,165,130)\"], [0.4, \"rgb(253,219,199)\"], [0.5, \"rgb(247,247,247)\"], [0.6, \"rgb(209,229,240)\"], [0.7, \"rgb(146,197,222)\"], [0.8, \"rgb(67,147,195)\"], [0.9, \"rgb(33,102,172)\"], [1.0, \"rgb(5,48,97)\"]], \"sequential\": [[0.0, \"#440154\"], [0.1111111111111111, \"#482878\"], [0.2222222222222222, \"#3e4989\"], [0.3333333333333333, \"#31688e\"], [0.4444444444444444, \"#26828e\"], [0.5555555555555556, \"#1f9e89\"], [0.6666666666666666, \"#35b779\"], [0.7777777777777778, \"#6ece58\"], [0.8888888888888888, \"#b5de2b\"], [1.0, \"#fde725\"]], \"sequentialminus\": [[0.0, \"#440154\"], [0.1111111111111111, \"#482878\"], [0.2222222222222222, \"#3e4989\"], [0.3333333333333333, \"#31688e\"], [0.4444444444444444, \"#26828e\"], [0.5555555555555556, \"#1f9e89\"], [0.6666666666666666, \"#35b779\"], [0.7777777777777778, \"#6ece58\"], [0.8888888888888888, \"#b5de2b\"], [1.0, \"#fde725\"]]}, \"colorway\": [\"#1F77B4\", \"#FF7F0E\", \"#2CA02C\", \"#D62728\", \"#9467BD\", \"#8C564B\", \"#E377C2\", \"#7F7F7F\", \"#BCBD22\", \"#17BECF\"], \"font\": {\"color\": \"rgb(36,36,36)\"}, \"geo\": {\"bgcolor\": \"white\", \"lakecolor\": \"white\", \"landcolor\": \"white\", \"showlakes\": true, \"showland\": true, \"subunitcolor\": \"white\"}, \"hoverlabel\": {\"align\": \"left\"}, \"hovermode\": \"closest\", \"mapbox\": {\"style\": \"light\"}, \"paper_bgcolor\": \"white\", \"plot_bgcolor\": \"white\", \"polar\": {\"angularaxis\": {\"gridcolor\": \"rgb(232,232,232)\", \"linecolor\": \"rgb(36,36,36)\", \"showgrid\": false, \"showline\": true, \"ticks\": \"outside\"}, \"bgcolor\": \"white\", \"radialaxis\": {\"gridcolor\": \"rgb(232,232,232)\", \"linecolor\": \"rgb(36,36,36)\", \"showgrid\": false, \"showline\": true, \"ticks\": \"outside\"}}, \"scene\": {\"xaxis\": {\"backgroundcolor\": \"white\", \"gridcolor\": \"rgb(232,232,232)\", \"gridwidth\": 2, \"linecolor\": \"rgb(36,36,36)\", \"showbackground\": true, \"showgrid\": false, \"showline\": true, \"ticks\": \"outside\", \"zeroline\": false, \"zerolinecolor\": \"rgb(36,36,36)\"}, \"yaxis\": {\"backgroundcolor\": \"white\", \"gridcolor\": \"rgb(232,232,232)\", \"gridwidth\": 2, \"linecolor\": \"rgb(36,36,36)\", \"showbackground\": true, \"showgrid\": false, \"showline\": true, \"ticks\": \"outside\", \"zeroline\": false, \"zerolinecolor\": \"rgb(36,36,36)\"}, \"zaxis\": {\"backgroundcolor\": \"white\", \"gridcolor\": \"rgb(232,232,232)\", \"gridwidth\": 2, \"linecolor\": \"rgb(36,36,36)\", \"showbackground\": true, \"showgrid\": false, \"showline\": true, \"ticks\": \"outside\", \"zeroline\": false, \"zerolinecolor\": \"rgb(36,36,36)\"}}, \"shapedefaults\": {\"fillcolor\": \"black\", \"line\": {\"width\": 0}, \"opacity\": 0.3}, \"ternary\": {\"aaxis\": {\"gridcolor\": \"rgb(232,232,232)\", \"linecolor\": \"rgb(36,36,36)\", \"showgrid\": false, \"showline\": true, \"ticks\": \"outside\"}, \"baxis\": {\"gridcolor\": \"rgb(232,232,232)\", \"linecolor\": \"rgb(36,36,36)\", \"showgrid\": false, \"showline\": true, \"ticks\": \"outside\"}, \"bgcolor\": \"white\", \"caxis\": {\"gridcolor\": \"rgb(232,232,232)\", \"linecolor\": \"rgb(36,36,36)\", \"showgrid\": false, \"showline\": true, \"ticks\": \"outside\"}}, \"title\": {\"x\": 0.05}, \"xaxis\": {\"automargin\": true, \"gridcolor\": \"rgb(232,232,232)\", \"linecolor\": \"rgb(36,36,36)\", \"showgrid\": false, \"showline\": true, \"ticks\": \"outside\", \"title\": {\"standoff\": 15}, \"zeroline\": false, \"zerolinecolor\": \"rgb(36,36,36)\"}, \"yaxis\": {\"automargin\": true, \"gridcolor\": \"rgb(232,232,232)\", \"linecolor\": \"rgb(36,36,36)\", \"showgrid\": false, \"showline\": true, \"ticks\": \"outside\", \"title\": {\"standoff\": 15}, \"zeroline\": false, \"zerolinecolor\": \"rgb(36,36,36)\"}}}, \"title\": {\"text\": \"Unique Commenters Over Time\"}, \"xaxis\": {\"anchor\": \"y\", \"domain\": [0.0, 1.0], \"title\": {\"text\": \"Month\"}}, \"yaxis\": {\"anchor\": \"x\", \"domain\": [0.0, 1.0], \"title\": {\"text\": \"Unique Commenters\"}, \"type\": \"log\"}},\n",
       "                        {\"responsive\": true}\n",
       "                    ).then(function(){\n",
       "                            \n",
       "var gd = document.getElementById('b91fe57b-b9e6-4d33-9f8a-7dd0718db2a9');\n",
       "var x = new MutationObserver(function (mutations, observer) {{\n",
       "        var display = window.getComputedStyle(gd).display;\n",
       "        if (!display || display === 'none') {{\n",
       "            console.log([gd, 'removed!']);\n",
       "            Plotly.purge(gd);\n",
       "            observer.disconnect();\n",
       "        }}\n",
       "}});\n",
       "\n",
       "// Listen for the removal of the full notebook cells\n",
       "var notebookContainer = gd.closest('#notebook-container');\n",
       "if (notebookContainer) {{\n",
       "    x.observe(notebookContainer, {childList: true});\n",
       "}}\n",
       "\n",
       "// Listen for the clearing of the current output cell\n",
       "var outputEl = gd.closest('.output');\n",
       "if (outputEl) {{\n",
       "    x.observe(outputEl, {childList: true});\n",
       "}}\n",
       "\n",
       "                        })\n",
       "                };\n",
       "                });\n",
       "            </script>\n",
       "        </div>"
      ]
     },
     "metadata": {},
     "output_type": "display_data"
    }
   ],
   "source": [
    "args = {\n",
    "    \"x\": \"date\",\n",
    "    \"y\": \"n_unique\",\n",
    "    \"color\": \"subreddit\",\n",
    "    \"line_shape\": \"spline\",\n",
    "    \"title\":  \"Unique Commenters Over Time\",\n",
    "    \"template\": \"simple_white\",\n",
    "    \"labels\": {\"n_unique\": \"Unique Commenters\", \"date\": \"Month\", \"subreddit\": \"Subreddit\"},\n",
    "    \"color_discrete_map\": mapping\n",
    "}\n",
    "\n",
    "fig = px.line(n_unique,**args)\n",
    "fig.update_layout(\n",
    "    font=dict(size=14),\n",
    "    annotations=[\n",
    "        dict(\n",
    "            x=\"2019-02-24\",\n",
    "            y=np.log10(3200),\n",
    "            ay=20,\n",
    "            text=\"Yang AMA on /r/politics\",\n",
    "        ),\n",
    "        dict(\n",
    "            x=\"2019-06-18\",\n",
    "            y=np.log10(13500),\n",
    "#             ay=-55,\n",
    "            text=\"Sanders AMA on /r/SandersForPresident\",\n",
    "        ),\n",
    "        \n",
    "        dict(\n",
    "            x=\"2019-04-19\",\n",
    "            y=np.log10(3300),\n",
    "            ay=40,\n",
    "            text=\"Buttigieg announces campaign\",\n",
    "        ),\n",
    "        dict(\n",
    "            x=\"2019-01-23\",\n",
    "            y=np.log10(19),\n",
    "            ay=20,\n",
    "            ax=60,\n",
    "            text=\"Buttigieg exploratory committee\",\n",
    "        ),\n",
    "        dict(\n",
    "            x=\"2019-02-10\",\n",
    "            y=np.log10(63),\n",
    "            ay=-10,\n",
    "            ax=100,\n",
    "            text=\"Klobuchar announces campaign\",\n",
    "        ),\n",
    "        dict(\n",
    "            x=\"2019-02-19\",\n",
    "            y=np.log10(11493),\n",
    "            ay=-20,\n",
    "            text=\"Sanders announces campaign\",\n",
    "        ),\n",
    "        dict(\n",
    "            x=\"2019-02-09\",\n",
    "            y=np.log10(150),\n",
    "            ay=-20,\n",
    "            text=\"Warren announces campaign\",\n",
    "        ),\n",
    "        \n",
    "    ]\n",
    ")\n",
    "fig.update_yaxes(type=\"log\")\n",
    "\n",
    "# fig.write_html(\"visualizations/temporal/{}_subreddit_n-unique.html\".format(TIME_FRAME))\n",
    "fig.show()"
   ]
  },
  {
   "cell_type": "code",
   "execution_count": 61,
   "metadata": {},
   "outputs": [
    {
     "name": "stdout",
     "output_type": "stream",
     "text": [
      "This is the format of your plot grid:\n",
      "[ (1,1) x,y   ]\n",
      "[ (2,1) x2,y2 ]\n",
      "\n"
     ]
    },
    {
     "data": {
      "application/vnd.plotly.v1+json": {
       "config": {
        "plotlyServerURL": "https://plot.ly"
       },
       "data": [
        {
         "legendgroup": "JoeBiden",
         "line": {
          "shape": "spline"
         },
         "marker": {
          "color": "#636EFA"
         },
         "mode": "lines",
         "name": "JoeBiden",
         "type": "scatter",
         "x": [
          "2019-01-01T00:00:00",
          "2019-02-01T00:00:00",
          "2019-03-01T00:00:00",
          "2019-04-01T00:00:00",
          "2019-05-01T00:00:00",
          "2019-06-01T00:00:00",
          "2019-07-01T00:00:00",
          "2019-08-01T00:00:00",
          "2019-09-01T00:00:00",
          "2019-10-01T00:00:00",
          "2019-11-01T00:00:00",
          "2019-12-01T00:00:00"
         ],
         "xaxis": "x",
         "y": [
          1,
          11,
          36,
          839,
          1414,
          1531,
          1037,
          1825,
          1912,
          1156,
          1716,
          3825
         ],
         "yaxis": "y"
        },
        {
         "legendgroup": "JoeBiden",
         "line": {
          "shape": "spline"
         },
         "marker": {
          "color": "#636EFA"
         },
         "mode": "lines",
         "name": "JoeBiden",
         "showlegend": false,
         "type": "scatter",
         "x": [
          "2019-01-01T00:00:00",
          "2019-02-01T00:00:00",
          "2019-03-01T00:00:00",
          "2019-04-01T00:00:00",
          "2019-05-01T00:00:00",
          "2019-06-01T00:00:00",
          "2019-07-01T00:00:00",
          "2019-08-01T00:00:00",
          "2019-09-01T00:00:00",
          "2019-10-01T00:00:00",
          "2019-11-01T00:00:00",
          "2019-12-01T00:00:00"
         ],
         "xaxis": "x2",
         "y": [
          1,
          8,
          9,
          169,
          250,
          269,
          186,
          309,
          322,
          220,
          258,
          416
         ],
         "yaxis": "y2"
        },
        {
         "legendgroup": "SandersForPresident",
         "line": {
          "shape": "spline"
         },
         "marker": {
          "color": "#EF553B"
         },
         "mode": "lines",
         "name": "SandersForPresident",
         "type": "scatter",
         "x": [
          "2019-01-01T00:00:00",
          "2019-02-01T00:00:00",
          "2019-03-01T00:00:00",
          "2019-04-01T00:00:00",
          "2019-05-01T00:00:00",
          "2019-06-01T00:00:00",
          "2019-07-01T00:00:00",
          "2019-08-01T00:00:00",
          "2019-09-01T00:00:00",
          "2019-10-01T00:00:00",
          "2019-11-01T00:00:00",
          "2019-12-01T00:00:00"
         ],
         "xaxis": "x",
         "y": [
          22016,
          56683,
          67497,
          64758,
          37354,
          71863,
          57860,
          86820,
          79887,
          87907,
          71442,
          90414
         ],
         "yaxis": "y"
        },
        {
         "legendgroup": "SandersForPresident",
         "line": {
          "shape": "spline"
         },
         "marker": {
          "color": "#EF553B"
         },
         "mode": "lines",
         "name": "SandersForPresident",
         "showlegend": false,
         "type": "scatter",
         "x": [
          "2019-01-01T00:00:00",
          "2019-02-01T00:00:00",
          "2019-03-01T00:00:00",
          "2019-04-01T00:00:00",
          "2019-05-01T00:00:00",
          "2019-06-01T00:00:00",
          "2019-07-01T00:00:00",
          "2019-08-01T00:00:00",
          "2019-09-01T00:00:00",
          "2019-10-01T00:00:00",
          "2019-11-01T00:00:00",
          "2019-12-01T00:00:00"
         ],
         "xaxis": "x2",
         "y": [
          5508,
          11591,
          11493,
          10082,
          7374,
          17657,
          11439,
          19283,
          16040,
          14923,
          12670,
          18982
         ],
         "yaxis": "y2"
        },
        {
         "legendgroup": "BaemyKlobaechar",
         "line": {
          "shape": "spline"
         },
         "marker": {
          "color": "#00CC96"
         },
         "mode": "lines",
         "name": "BaemyKlobaechar",
         "type": "scatter",
         "x": [
          "2019-01-01T00:00:00",
          "2019-02-01T00:00:00",
          "2019-03-01T00:00:00",
          "2019-04-01T00:00:00",
          "2019-05-01T00:00:00",
          "2019-06-01T00:00:00",
          "2019-07-01T00:00:00",
          "2019-08-01T00:00:00",
          "2019-09-01T00:00:00",
          "2019-10-01T00:00:00",
          "2019-11-01T00:00:00",
          "2019-12-01T00:00:00"
         ],
         "xaxis": "x",
         "y": [
          101,
          239,
          28,
          31,
          13,
          47,
          22,
          107,
          136,
          139,
          82,
          211
         ],
         "yaxis": "y"
        },
        {
         "legendgroup": "BaemyKlobaechar",
         "line": {
          "shape": "spline"
         },
         "marker": {
          "color": "#00CC96"
         },
         "mode": "lines",
         "name": "BaemyKlobaechar",
         "showlegend": false,
         "type": "scatter",
         "x": [
          "2019-01-01T00:00:00",
          "2019-02-01T00:00:00",
          "2019-03-01T00:00:00",
          "2019-04-01T00:00:00",
          "2019-05-01T00:00:00",
          "2019-06-01T00:00:00",
          "2019-07-01T00:00:00",
          "2019-08-01T00:00:00",
          "2019-09-01T00:00:00",
          "2019-10-01T00:00:00",
          "2019-11-01T00:00:00",
          "2019-12-01T00:00:00"
         ],
         "xaxis": "x2",
         "y": [
          37,
          98,
          19,
          18,
          7,
          16,
          12,
          32,
          40,
          37,
          35,
          71
         ],
         "yaxis": "y2"
        },
        {
         "legendgroup": "ElizabethWarren",
         "line": {
          "shape": "spline"
         },
         "marker": {
          "color": "#AB63FA"
         },
         "mode": "lines",
         "name": "ElizabethWarren",
         "type": "scatter",
         "x": [
          "2019-01-01T00:00:00",
          "2019-02-01T00:00:00",
          "2019-03-01T00:00:00",
          "2019-04-01T00:00:00",
          "2019-05-01T00:00:00",
          "2019-06-01T00:00:00",
          "2019-07-01T00:00:00",
          "2019-08-01T00:00:00",
          "2019-09-01T00:00:00",
          "2019-10-01T00:00:00",
          "2019-11-01T00:00:00",
          "2019-12-01T00:00:00"
         ],
         "xaxis": "x",
         "y": [
          454,
          445,
          366,
          1561,
          2921,
          7242,
          7370,
          8759,
          13839,
          19781,
          17708,
          11451
         ],
         "yaxis": "y"
        },
        {
         "legendgroup": "ElizabethWarren",
         "line": {
          "shape": "spline"
         },
         "marker": {
          "color": "#AB63FA"
         },
         "mode": "lines",
         "name": "ElizabethWarren",
         "showlegend": false,
         "type": "scatter",
         "x": [
          "2019-01-01T00:00:00",
          "2019-02-01T00:00:00",
          "2019-03-01T00:00:00",
          "2019-04-01T00:00:00",
          "2019-05-01T00:00:00",
          "2019-06-01T00:00:00",
          "2019-07-01T00:00:00",
          "2019-08-01T00:00:00",
          "2019-09-01T00:00:00",
          "2019-10-01T00:00:00",
          "2019-11-01T00:00:00",
          "2019-12-01T00:00:00"
         ],
         "xaxis": "x2",
         "y": [
          120,
          148,
          142,
          470,
          836,
          1431,
          1411,
          1587,
          2083,
          2468,
          2331,
          1668
         ],
         "yaxis": "y2"
        },
        {
         "legendgroup": "Pete_Buttigieg",
         "line": {
          "shape": "spline"
         },
         "marker": {
          "color": "#FFA15A"
         },
         "mode": "lines",
         "name": "Pete_Buttigieg",
         "type": "scatter",
         "x": [
          "2019-01-01T00:00:00",
          "2019-02-01T00:00:00",
          "2019-03-01T00:00:00",
          "2019-04-01T00:00:00",
          "2019-05-01T00:00:00",
          "2019-06-01T00:00:00",
          "2019-07-01T00:00:00",
          "2019-08-01T00:00:00",
          "2019-09-01T00:00:00",
          "2019-10-01T00:00:00",
          "2019-11-01T00:00:00",
          "2019-12-01T00:00:00"
         ],
         "xaxis": "x",
         "y": [
          21,
          144,
          12604,
          48305,
          21619,
          27709,
          30785,
          22679,
          24136,
          35638,
          57412,
          73831
         ],
         "yaxis": "y"
        },
        {
         "legendgroup": "Pete_Buttigieg",
         "line": {
          "shape": "spline"
         },
         "marker": {
          "color": "#FFA15A"
         },
         "mode": "lines",
         "name": "Pete_Buttigieg",
         "showlegend": false,
         "type": "scatter",
         "x": [
          "2019-01-01T00:00:00",
          "2019-02-01T00:00:00",
          "2019-03-01T00:00:00",
          "2019-04-01T00:00:00",
          "2019-05-01T00:00:00",
          "2019-06-01T00:00:00",
          "2019-07-01T00:00:00",
          "2019-08-01T00:00:00",
          "2019-09-01T00:00:00",
          "2019-10-01T00:00:00",
          "2019-11-01T00:00:00",
          "2019-12-01T00:00:00"
         ],
         "xaxis": "x2",
         "y": [
          8,
          32,
          1839,
          4549,
          2561,
          2828,
          2893,
          2430,
          2089,
          2364,
          3090,
          3520
         ],
         "yaxis": "y2"
        },
        {
         "legendgroup": "YangForPresidentHQ",
         "line": {
          "shape": "spline"
         },
         "marker": {
          "color": "#19D3F3"
         },
         "mode": "lines",
         "name": "YangForPresidentHQ",
         "type": "scatter",
         "x": [
          "2019-01-01T00:00:00",
          "2019-02-01T00:00:00",
          "2019-03-01T00:00:00",
          "2019-04-01T00:00:00",
          "2019-05-01T00:00:00",
          "2019-06-01T00:00:00",
          "2019-07-01T00:00:00",
          "2019-08-01T00:00:00",
          "2019-09-01T00:00:00",
          "2019-10-01T00:00:00",
          "2019-11-01T00:00:00",
          "2019-12-01T00:00:00"
         ],
         "xaxis": "x",
         "y": [
          95,
          3138,
          43978,
          53512,
          30442,
          62914,
          79167,
          176906,
          189596,
          165746,
          155684,
          225756
         ],
         "yaxis": "y"
        },
        {
         "legendgroup": "YangForPresidentHQ",
         "line": {
          "shape": "spline"
         },
         "marker": {
          "color": "#19D3F3"
         },
         "mode": "lines",
         "name": "YangForPresidentHQ",
         "showlegend": false,
         "type": "scatter",
         "x": [
          "2019-01-01T00:00:00",
          "2019-02-01T00:00:00",
          "2019-03-01T00:00:00",
          "2019-04-01T00:00:00",
          "2019-05-01T00:00:00",
          "2019-06-01T00:00:00",
          "2019-07-01T00:00:00",
          "2019-08-01T00:00:00",
          "2019-09-01T00:00:00",
          "2019-10-01T00:00:00",
          "2019-11-01T00:00:00",
          "2019-12-01T00:00:00"
         ],
         "xaxis": "x2",
         "y": [
          35,
          580,
          3953,
          3944,
          3122,
          5522,
          8129,
          13622,
          14337,
          14475,
          13588,
          17411
         ],
         "yaxis": "y2"
        }
       ],
       "layout": {
        "annotations": [
         {
          "font": {
           "size": 16
          },
          "showarrow": false,
          "text": "Comments Over Time",
          "x": 0.5,
          "xanchor": "center",
          "xref": "paper",
          "y": 1,
          "yanchor": "bottom",
          "yref": "paper"
         },
         {
          "font": {
           "size": 16
          },
          "showarrow": false,
          "text": "Unique Commenters Over Time",
          "x": 0.5,
          "xanchor": "center",
          "xref": "paper",
          "y": 0.375,
          "yanchor": "bottom",
          "yref": "paper"
         }
        ],
        "font": {
         "size": 20
        },
        "legend": {
         "orientation": "v",
         "x": 1.1,
         "xanchor": "left",
         "y": 1
        },
        "template": {
         "data": {
          "bar": [
           {
            "error_x": {
             "color": "rgb(36,36,36)"
            },
            "error_y": {
             "color": "rgb(36,36,36)"
            },
            "marker": {
             "line": {
              "color": "white",
              "width": 0.5
             }
            },
            "type": "bar"
           }
          ],
          "barpolar": [
           {
            "marker": {
             "line": {
              "color": "white",
              "width": 0.5
             }
            },
            "type": "barpolar"
           }
          ],
          "carpet": [
           {
            "aaxis": {
             "endlinecolor": "rgb(36,36,36)",
             "gridcolor": "white",
             "linecolor": "white",
             "minorgridcolor": "white",
             "startlinecolor": "rgb(36,36,36)"
            },
            "baxis": {
             "endlinecolor": "rgb(36,36,36)",
             "gridcolor": "white",
             "linecolor": "white",
             "minorgridcolor": "white",
             "startlinecolor": "rgb(36,36,36)"
            },
            "type": "carpet"
           }
          ],
          "choropleth": [
           {
            "colorbar": {
             "outlinewidth": 1,
             "tickcolor": "rgb(36,36,36)",
             "ticks": "outside"
            },
            "type": "choropleth"
           }
          ],
          "contour": [
           {
            "colorbar": {
             "outlinewidth": 1,
             "tickcolor": "rgb(36,36,36)",
             "ticks": "outside"
            },
            "colorscale": [
             [
              0,
              "#440154"
             ],
             [
              0.1111111111111111,
              "#482878"
             ],
             [
              0.2222222222222222,
              "#3e4989"
             ],
             [
              0.3333333333333333,
              "#31688e"
             ],
             [
              0.4444444444444444,
              "#26828e"
             ],
             [
              0.5555555555555556,
              "#1f9e89"
             ],
             [
              0.6666666666666666,
              "#35b779"
             ],
             [
              0.7777777777777778,
              "#6ece58"
             ],
             [
              0.8888888888888888,
              "#b5de2b"
             ],
             [
              1,
              "#fde725"
             ]
            ],
            "type": "contour"
           }
          ],
          "contourcarpet": [
           {
            "colorbar": {
             "outlinewidth": 1,
             "tickcolor": "rgb(36,36,36)",
             "ticks": "outside"
            },
            "type": "contourcarpet"
           }
          ],
          "heatmap": [
           {
            "colorbar": {
             "outlinewidth": 1,
             "tickcolor": "rgb(36,36,36)",
             "ticks": "outside"
            },
            "colorscale": [
             [
              0,
              "#440154"
             ],
             [
              0.1111111111111111,
              "#482878"
             ],
             [
              0.2222222222222222,
              "#3e4989"
             ],
             [
              0.3333333333333333,
              "#31688e"
             ],
             [
              0.4444444444444444,
              "#26828e"
             ],
             [
              0.5555555555555556,
              "#1f9e89"
             ],
             [
              0.6666666666666666,
              "#35b779"
             ],
             [
              0.7777777777777778,
              "#6ece58"
             ],
             [
              0.8888888888888888,
              "#b5de2b"
             ],
             [
              1,
              "#fde725"
             ]
            ],
            "type": "heatmap"
           }
          ],
          "heatmapgl": [
           {
            "colorbar": {
             "outlinewidth": 1,
             "tickcolor": "rgb(36,36,36)",
             "ticks": "outside"
            },
            "colorscale": [
             [
              0,
              "#440154"
             ],
             [
              0.1111111111111111,
              "#482878"
             ],
             [
              0.2222222222222222,
              "#3e4989"
             ],
             [
              0.3333333333333333,
              "#31688e"
             ],
             [
              0.4444444444444444,
              "#26828e"
             ],
             [
              0.5555555555555556,
              "#1f9e89"
             ],
             [
              0.6666666666666666,
              "#35b779"
             ],
             [
              0.7777777777777778,
              "#6ece58"
             ],
             [
              0.8888888888888888,
              "#b5de2b"
             ],
             [
              1,
              "#fde725"
             ]
            ],
            "type": "heatmapgl"
           }
          ],
          "histogram": [
           {
            "marker": {
             "line": {
              "color": "white",
              "width": 0.6
             }
            },
            "type": "histogram"
           }
          ],
          "histogram2d": [
           {
            "colorbar": {
             "outlinewidth": 1,
             "tickcolor": "rgb(36,36,36)",
             "ticks": "outside"
            },
            "colorscale": [
             [
              0,
              "#440154"
             ],
             [
              0.1111111111111111,
              "#482878"
             ],
             [
              0.2222222222222222,
              "#3e4989"
             ],
             [
              0.3333333333333333,
              "#31688e"
             ],
             [
              0.4444444444444444,
              "#26828e"
             ],
             [
              0.5555555555555556,
              "#1f9e89"
             ],
             [
              0.6666666666666666,
              "#35b779"
             ],
             [
              0.7777777777777778,
              "#6ece58"
             ],
             [
              0.8888888888888888,
              "#b5de2b"
             ],
             [
              1,
              "#fde725"
             ]
            ],
            "type": "histogram2d"
           }
          ],
          "histogram2dcontour": [
           {
            "colorbar": {
             "outlinewidth": 1,
             "tickcolor": "rgb(36,36,36)",
             "ticks": "outside"
            },
            "colorscale": [
             [
              0,
              "#440154"
             ],
             [
              0.1111111111111111,
              "#482878"
             ],
             [
              0.2222222222222222,
              "#3e4989"
             ],
             [
              0.3333333333333333,
              "#31688e"
             ],
             [
              0.4444444444444444,
              "#26828e"
             ],
             [
              0.5555555555555556,
              "#1f9e89"
             ],
             [
              0.6666666666666666,
              "#35b779"
             ],
             [
              0.7777777777777778,
              "#6ece58"
             ],
             [
              0.8888888888888888,
              "#b5de2b"
             ],
             [
              1,
              "#fde725"
             ]
            ],
            "type": "histogram2dcontour"
           }
          ],
          "mesh3d": [
           {
            "colorbar": {
             "outlinewidth": 1,
             "tickcolor": "rgb(36,36,36)",
             "ticks": "outside"
            },
            "type": "mesh3d"
           }
          ],
          "parcoords": [
           {
            "line": {
             "colorbar": {
              "outlinewidth": 1,
              "tickcolor": "rgb(36,36,36)",
              "ticks": "outside"
             }
            },
            "type": "parcoords"
           }
          ],
          "pie": [
           {
            "automargin": true,
            "type": "pie"
           }
          ],
          "scatter": [
           {
            "marker": {
             "colorbar": {
              "outlinewidth": 1,
              "tickcolor": "rgb(36,36,36)",
              "ticks": "outside"
             }
            },
            "type": "scatter"
           }
          ],
          "scatter3d": [
           {
            "line": {
             "colorbar": {
              "outlinewidth": 1,
              "tickcolor": "rgb(36,36,36)",
              "ticks": "outside"
             }
            },
            "marker": {
             "colorbar": {
              "outlinewidth": 1,
              "tickcolor": "rgb(36,36,36)",
              "ticks": "outside"
             }
            },
            "type": "scatter3d"
           }
          ],
          "scattercarpet": [
           {
            "marker": {
             "colorbar": {
              "outlinewidth": 1,
              "tickcolor": "rgb(36,36,36)",
              "ticks": "outside"
             }
            },
            "type": "scattercarpet"
           }
          ],
          "scattergeo": [
           {
            "marker": {
             "colorbar": {
              "outlinewidth": 1,
              "tickcolor": "rgb(36,36,36)",
              "ticks": "outside"
             }
            },
            "type": "scattergeo"
           }
          ],
          "scattergl": [
           {
            "marker": {
             "colorbar": {
              "outlinewidth": 1,
              "tickcolor": "rgb(36,36,36)",
              "ticks": "outside"
             }
            },
            "type": "scattergl"
           }
          ],
          "scattermapbox": [
           {
            "marker": {
             "colorbar": {
              "outlinewidth": 1,
              "tickcolor": "rgb(36,36,36)",
              "ticks": "outside"
             }
            },
            "type": "scattermapbox"
           }
          ],
          "scatterpolar": [
           {
            "marker": {
             "colorbar": {
              "outlinewidth": 1,
              "tickcolor": "rgb(36,36,36)",
              "ticks": "outside"
             }
            },
            "type": "scatterpolar"
           }
          ],
          "scatterpolargl": [
           {
            "marker": {
             "colorbar": {
              "outlinewidth": 1,
              "tickcolor": "rgb(36,36,36)",
              "ticks": "outside"
             }
            },
            "type": "scatterpolargl"
           }
          ],
          "scatterternary": [
           {
            "marker": {
             "colorbar": {
              "outlinewidth": 1,
              "tickcolor": "rgb(36,36,36)",
              "ticks": "outside"
             }
            },
            "type": "scatterternary"
           }
          ],
          "surface": [
           {
            "colorbar": {
             "outlinewidth": 1,
             "tickcolor": "rgb(36,36,36)",
             "ticks": "outside"
            },
            "colorscale": [
             [
              0,
              "#440154"
             ],
             [
              0.1111111111111111,
              "#482878"
             ],
             [
              0.2222222222222222,
              "#3e4989"
             ],
             [
              0.3333333333333333,
              "#31688e"
             ],
             [
              0.4444444444444444,
              "#26828e"
             ],
             [
              0.5555555555555556,
              "#1f9e89"
             ],
             [
              0.6666666666666666,
              "#35b779"
             ],
             [
              0.7777777777777778,
              "#6ece58"
             ],
             [
              0.8888888888888888,
              "#b5de2b"
             ],
             [
              1,
              "#fde725"
             ]
            ],
            "type": "surface"
           }
          ],
          "table": [
           {
            "cells": {
             "fill": {
              "color": "rgb(237,237,237)"
             },
             "line": {
              "color": "white"
             }
            },
            "header": {
             "fill": {
              "color": "rgb(217,217,217)"
             },
             "line": {
              "color": "white"
             }
            },
            "type": "table"
           }
          ]
         },
         "layout": {
          "annotationdefaults": {
           "arrowhead": 0,
           "arrowwidth": 1
          },
          "coloraxis": {
           "colorbar": {
            "outlinewidth": 1,
            "tickcolor": "rgb(36,36,36)",
            "ticks": "outside"
           }
          },
          "colorscale": {
           "diverging": [
            [
             0,
             "rgb(103,0,31)"
            ],
            [
             0.1,
             "rgb(178,24,43)"
            ],
            [
             0.2,
             "rgb(214,96,77)"
            ],
            [
             0.3,
             "rgb(244,165,130)"
            ],
            [
             0.4,
             "rgb(253,219,199)"
            ],
            [
             0.5,
             "rgb(247,247,247)"
            ],
            [
             0.6,
             "rgb(209,229,240)"
            ],
            [
             0.7,
             "rgb(146,197,222)"
            ],
            [
             0.8,
             "rgb(67,147,195)"
            ],
            [
             0.9,
             "rgb(33,102,172)"
            ],
            [
             1,
             "rgb(5,48,97)"
            ]
           ],
           "sequential": [
            [
             0,
             "#440154"
            ],
            [
             0.1111111111111111,
             "#482878"
            ],
            [
             0.2222222222222222,
             "#3e4989"
            ],
            [
             0.3333333333333333,
             "#31688e"
            ],
            [
             0.4444444444444444,
             "#26828e"
            ],
            [
             0.5555555555555556,
             "#1f9e89"
            ],
            [
             0.6666666666666666,
             "#35b779"
            ],
            [
             0.7777777777777778,
             "#6ece58"
            ],
            [
             0.8888888888888888,
             "#b5de2b"
            ],
            [
             1,
             "#fde725"
            ]
           ],
           "sequentialminus": [
            [
             0,
             "#440154"
            ],
            [
             0.1111111111111111,
             "#482878"
            ],
            [
             0.2222222222222222,
             "#3e4989"
            ],
            [
             0.3333333333333333,
             "#31688e"
            ],
            [
             0.4444444444444444,
             "#26828e"
            ],
            [
             0.5555555555555556,
             "#1f9e89"
            ],
            [
             0.6666666666666666,
             "#35b779"
            ],
            [
             0.7777777777777778,
             "#6ece58"
            ],
            [
             0.8888888888888888,
             "#b5de2b"
            ],
            [
             1,
             "#fde725"
            ]
           ]
          },
          "colorway": [
           "#1F77B4",
           "#FF7F0E",
           "#2CA02C",
           "#D62728",
           "#9467BD",
           "#8C564B",
           "#E377C2",
           "#7F7F7F",
           "#BCBD22",
           "#17BECF"
          ],
          "font": {
           "color": "rgb(36,36,36)"
          },
          "geo": {
           "bgcolor": "white",
           "lakecolor": "white",
           "landcolor": "white",
           "showlakes": true,
           "showland": true,
           "subunitcolor": "white"
          },
          "hoverlabel": {
           "align": "left"
          },
          "hovermode": "closest",
          "mapbox": {
           "style": "light"
          },
          "paper_bgcolor": "white",
          "plot_bgcolor": "white",
          "polar": {
           "angularaxis": {
            "gridcolor": "rgb(232,232,232)",
            "linecolor": "rgb(36,36,36)",
            "showgrid": false,
            "showline": true,
            "ticks": "outside"
           },
           "bgcolor": "white",
           "radialaxis": {
            "gridcolor": "rgb(232,232,232)",
            "linecolor": "rgb(36,36,36)",
            "showgrid": false,
            "showline": true,
            "ticks": "outside"
           }
          },
          "scene": {
           "xaxis": {
            "backgroundcolor": "white",
            "gridcolor": "rgb(232,232,232)",
            "gridwidth": 2,
            "linecolor": "rgb(36,36,36)",
            "showbackground": true,
            "showgrid": false,
            "showline": true,
            "ticks": "outside",
            "zeroline": false,
            "zerolinecolor": "rgb(36,36,36)"
           },
           "yaxis": {
            "backgroundcolor": "white",
            "gridcolor": "rgb(232,232,232)",
            "gridwidth": 2,
            "linecolor": "rgb(36,36,36)",
            "showbackground": true,
            "showgrid": false,
            "showline": true,
            "ticks": "outside",
            "zeroline": false,
            "zerolinecolor": "rgb(36,36,36)"
           },
           "zaxis": {
            "backgroundcolor": "white",
            "gridcolor": "rgb(232,232,232)",
            "gridwidth": 2,
            "linecolor": "rgb(36,36,36)",
            "showbackground": true,
            "showgrid": false,
            "showline": true,
            "ticks": "outside",
            "zeroline": false,
            "zerolinecolor": "rgb(36,36,36)"
           }
          },
          "shapedefaults": {
           "fillcolor": "black",
           "line": {
            "width": 0
           },
           "opacity": 0.3
          },
          "ternary": {
           "aaxis": {
            "gridcolor": "rgb(232,232,232)",
            "linecolor": "rgb(36,36,36)",
            "showgrid": false,
            "showline": true,
            "ticks": "outside"
           },
           "baxis": {
            "gridcolor": "rgb(232,232,232)",
            "linecolor": "rgb(36,36,36)",
            "showgrid": false,
            "showline": true,
            "ticks": "outside"
           },
           "bgcolor": "white",
           "caxis": {
            "gridcolor": "rgb(232,232,232)",
            "linecolor": "rgb(36,36,36)",
            "showgrid": false,
            "showline": true,
            "ticks": "outside"
           }
          },
          "title": {
           "x": 0.05
          },
          "xaxis": {
           "automargin": true,
           "gridcolor": "rgb(232,232,232)",
           "linecolor": "rgb(36,36,36)",
           "showgrid": false,
           "showline": true,
           "ticks": "outside",
           "title": {
            "standoff": 15
           },
           "zeroline": false,
           "zerolinecolor": "rgb(36,36,36)"
          },
          "yaxis": {
           "automargin": true,
           "gridcolor": "rgb(232,232,232)",
           "linecolor": "rgb(36,36,36)",
           "showgrid": false,
           "showline": true,
           "ticks": "outside",
           "title": {
            "standoff": 15
           },
           "zeroline": false,
           "zerolinecolor": "rgb(36,36,36)"
          }
         }
        },
        "title": {
         "text": "Candidate Subreddit Activity Over Time"
        },
        "xaxis": {
         "anchor": "y",
         "domain": [
          0,
          1
         ]
        },
        "xaxis2": {
         "anchor": "y2",
         "domain": [
          0,
          1
         ]
        },
        "yaxis": {
         "anchor": "x",
         "autorange": false,
         "domain": [
          0.625,
          1
         ],
         "dtick": 1,
         "range": [
          0,
          5
         ],
         "title": {
          "text": ""
         },
         "type": "log"
        },
        "yaxis2": {
         "anchor": "x2",
         "domain": [
          0,
          0.375
         ],
         "type": "log"
        }
       }
      },
      "text/html": [
       "<div>\n",
       "        \n",
       "        \n",
       "            <div id=\"a6577648-46e2-4457-909d-186c99a4fecd\" class=\"plotly-graph-div\" style=\"height:525px; width:100%;\"></div>\n",
       "            <script type=\"text/javascript\">\n",
       "                require([\"plotly\"], function(Plotly) {\n",
       "                    window.PLOTLYENV=window.PLOTLYENV || {};\n",
       "                    \n",
       "                if (document.getElementById(\"a6577648-46e2-4457-909d-186c99a4fecd\")) {\n",
       "                    Plotly.newPlot(\n",
       "                        'a6577648-46e2-4457-909d-186c99a4fecd',\n",
       "                        [{\"legendgroup\": \"JoeBiden\", \"line\": {\"shape\": \"spline\"}, \"marker\": {\"color\": \"#636EFA\"}, \"mode\": \"lines\", \"name\": \"JoeBiden\", \"type\": \"scatter\", \"x\": [\"2019-01-01T00:00:00\", \"2019-02-01T00:00:00\", \"2019-03-01T00:00:00\", \"2019-04-01T00:00:00\", \"2019-05-01T00:00:00\", \"2019-06-01T00:00:00\", \"2019-07-01T00:00:00\", \"2019-08-01T00:00:00\", \"2019-09-01T00:00:00\", \"2019-10-01T00:00:00\", \"2019-11-01T00:00:00\", \"2019-12-01T00:00:00\"], \"xaxis\": \"x\", \"y\": [1, 11, 36, 839, 1414, 1531, 1037, 1825, 1912, 1156, 1716, 3825], \"yaxis\": \"y\"}, {\"legendgroup\": \"JoeBiden\", \"line\": {\"shape\": \"spline\"}, \"marker\": {\"color\": \"#636EFA\"}, \"mode\": \"lines\", \"name\": \"JoeBiden\", \"showlegend\": false, \"type\": \"scatter\", \"x\": [\"2019-01-01T00:00:00\", \"2019-02-01T00:00:00\", \"2019-03-01T00:00:00\", \"2019-04-01T00:00:00\", \"2019-05-01T00:00:00\", \"2019-06-01T00:00:00\", \"2019-07-01T00:00:00\", \"2019-08-01T00:00:00\", \"2019-09-01T00:00:00\", \"2019-10-01T00:00:00\", \"2019-11-01T00:00:00\", \"2019-12-01T00:00:00\"], \"xaxis\": \"x2\", \"y\": [1, 8, 9, 169, 250, 269, 186, 309, 322, 220, 258, 416], \"yaxis\": \"y2\"}, {\"legendgroup\": \"SandersForPresident\", \"line\": {\"shape\": \"spline\"}, \"marker\": {\"color\": \"#EF553B\"}, \"mode\": \"lines\", \"name\": \"SandersForPresident\", \"type\": \"scatter\", \"x\": [\"2019-01-01T00:00:00\", \"2019-02-01T00:00:00\", \"2019-03-01T00:00:00\", \"2019-04-01T00:00:00\", \"2019-05-01T00:00:00\", \"2019-06-01T00:00:00\", \"2019-07-01T00:00:00\", \"2019-08-01T00:00:00\", \"2019-09-01T00:00:00\", \"2019-10-01T00:00:00\", \"2019-11-01T00:00:00\", \"2019-12-01T00:00:00\"], \"xaxis\": \"x\", \"y\": [22016, 56683, 67497, 64758, 37354, 71863, 57860, 86820, 79887, 87907, 71442, 90414], \"yaxis\": \"y\"}, {\"legendgroup\": \"SandersForPresident\", \"line\": {\"shape\": \"spline\"}, \"marker\": {\"color\": \"#EF553B\"}, \"mode\": \"lines\", \"name\": \"SandersForPresident\", \"showlegend\": false, \"type\": \"scatter\", \"x\": [\"2019-01-01T00:00:00\", \"2019-02-01T00:00:00\", \"2019-03-01T00:00:00\", \"2019-04-01T00:00:00\", \"2019-05-01T00:00:00\", \"2019-06-01T00:00:00\", \"2019-07-01T00:00:00\", \"2019-08-01T00:00:00\", \"2019-09-01T00:00:00\", \"2019-10-01T00:00:00\", \"2019-11-01T00:00:00\", \"2019-12-01T00:00:00\"], \"xaxis\": \"x2\", \"y\": [5508, 11591, 11493, 10082, 7374, 17657, 11439, 19283, 16040, 14923, 12670, 18982], \"yaxis\": \"y2\"}, {\"legendgroup\": \"BaemyKlobaechar\", \"line\": {\"shape\": \"spline\"}, \"marker\": {\"color\": \"#00CC96\"}, \"mode\": \"lines\", \"name\": \"BaemyKlobaechar\", \"type\": \"scatter\", \"x\": [\"2019-01-01T00:00:00\", \"2019-02-01T00:00:00\", \"2019-03-01T00:00:00\", \"2019-04-01T00:00:00\", \"2019-05-01T00:00:00\", \"2019-06-01T00:00:00\", \"2019-07-01T00:00:00\", \"2019-08-01T00:00:00\", \"2019-09-01T00:00:00\", \"2019-10-01T00:00:00\", \"2019-11-01T00:00:00\", \"2019-12-01T00:00:00\"], \"xaxis\": \"x\", \"y\": [101, 239, 28, 31, 13, 47, 22, 107, 136, 139, 82, 211], \"yaxis\": \"y\"}, {\"legendgroup\": \"BaemyKlobaechar\", \"line\": {\"shape\": \"spline\"}, \"marker\": {\"color\": \"#00CC96\"}, \"mode\": \"lines\", \"name\": \"BaemyKlobaechar\", \"showlegend\": false, \"type\": \"scatter\", \"x\": [\"2019-01-01T00:00:00\", \"2019-02-01T00:00:00\", \"2019-03-01T00:00:00\", \"2019-04-01T00:00:00\", \"2019-05-01T00:00:00\", \"2019-06-01T00:00:00\", \"2019-07-01T00:00:00\", \"2019-08-01T00:00:00\", \"2019-09-01T00:00:00\", \"2019-10-01T00:00:00\", \"2019-11-01T00:00:00\", \"2019-12-01T00:00:00\"], \"xaxis\": \"x2\", \"y\": [37, 98, 19, 18, 7, 16, 12, 32, 40, 37, 35, 71], \"yaxis\": \"y2\"}, {\"legendgroup\": \"ElizabethWarren\", \"line\": {\"shape\": \"spline\"}, \"marker\": {\"color\": \"#AB63FA\"}, \"mode\": \"lines\", \"name\": \"ElizabethWarren\", \"type\": \"scatter\", \"x\": [\"2019-01-01T00:00:00\", \"2019-02-01T00:00:00\", \"2019-03-01T00:00:00\", \"2019-04-01T00:00:00\", \"2019-05-01T00:00:00\", \"2019-06-01T00:00:00\", \"2019-07-01T00:00:00\", \"2019-08-01T00:00:00\", \"2019-09-01T00:00:00\", \"2019-10-01T00:00:00\", \"2019-11-01T00:00:00\", \"2019-12-01T00:00:00\"], \"xaxis\": \"x\", \"y\": [454, 445, 366, 1561, 2921, 7242, 7370, 8759, 13839, 19781, 17708, 11451], \"yaxis\": \"y\"}, {\"legendgroup\": \"ElizabethWarren\", \"line\": {\"shape\": \"spline\"}, \"marker\": {\"color\": \"#AB63FA\"}, \"mode\": \"lines\", \"name\": \"ElizabethWarren\", \"showlegend\": false, \"type\": \"scatter\", \"x\": [\"2019-01-01T00:00:00\", \"2019-02-01T00:00:00\", \"2019-03-01T00:00:00\", \"2019-04-01T00:00:00\", \"2019-05-01T00:00:00\", \"2019-06-01T00:00:00\", \"2019-07-01T00:00:00\", \"2019-08-01T00:00:00\", \"2019-09-01T00:00:00\", \"2019-10-01T00:00:00\", \"2019-11-01T00:00:00\", \"2019-12-01T00:00:00\"], \"xaxis\": \"x2\", \"y\": [120, 148, 142, 470, 836, 1431, 1411, 1587, 2083, 2468, 2331, 1668], \"yaxis\": \"y2\"}, {\"legendgroup\": \"Pete_Buttigieg\", \"line\": {\"shape\": \"spline\"}, \"marker\": {\"color\": \"#FFA15A\"}, \"mode\": \"lines\", \"name\": \"Pete_Buttigieg\", \"type\": \"scatter\", \"x\": [\"2019-01-01T00:00:00\", \"2019-02-01T00:00:00\", \"2019-03-01T00:00:00\", \"2019-04-01T00:00:00\", \"2019-05-01T00:00:00\", \"2019-06-01T00:00:00\", \"2019-07-01T00:00:00\", \"2019-08-01T00:00:00\", \"2019-09-01T00:00:00\", \"2019-10-01T00:00:00\", \"2019-11-01T00:00:00\", \"2019-12-01T00:00:00\"], \"xaxis\": \"x\", \"y\": [21, 144, 12604, 48305, 21619, 27709, 30785, 22679, 24136, 35638, 57412, 73831], \"yaxis\": \"y\"}, {\"legendgroup\": \"Pete_Buttigieg\", \"line\": {\"shape\": \"spline\"}, \"marker\": {\"color\": \"#FFA15A\"}, \"mode\": \"lines\", \"name\": \"Pete_Buttigieg\", \"showlegend\": false, \"type\": \"scatter\", \"x\": [\"2019-01-01T00:00:00\", \"2019-02-01T00:00:00\", \"2019-03-01T00:00:00\", \"2019-04-01T00:00:00\", \"2019-05-01T00:00:00\", \"2019-06-01T00:00:00\", \"2019-07-01T00:00:00\", \"2019-08-01T00:00:00\", \"2019-09-01T00:00:00\", \"2019-10-01T00:00:00\", \"2019-11-01T00:00:00\", \"2019-12-01T00:00:00\"], \"xaxis\": \"x2\", \"y\": [8, 32, 1839, 4549, 2561, 2828, 2893, 2430, 2089, 2364, 3090, 3520], \"yaxis\": \"y2\"}, {\"legendgroup\": \"YangForPresidentHQ\", \"line\": {\"shape\": \"spline\"}, \"marker\": {\"color\": \"#19D3F3\"}, \"mode\": \"lines\", \"name\": \"YangForPresidentHQ\", \"type\": \"scatter\", \"x\": [\"2019-01-01T00:00:00\", \"2019-02-01T00:00:00\", \"2019-03-01T00:00:00\", \"2019-04-01T00:00:00\", \"2019-05-01T00:00:00\", \"2019-06-01T00:00:00\", \"2019-07-01T00:00:00\", \"2019-08-01T00:00:00\", \"2019-09-01T00:00:00\", \"2019-10-01T00:00:00\", \"2019-11-01T00:00:00\", \"2019-12-01T00:00:00\"], \"xaxis\": \"x\", \"y\": [95, 3138, 43978, 53512, 30442, 62914, 79167, 176906, 189596, 165746, 155684, 225756], \"yaxis\": \"y\"}, {\"legendgroup\": \"YangForPresidentHQ\", \"line\": {\"shape\": \"spline\"}, \"marker\": {\"color\": \"#19D3F3\"}, \"mode\": \"lines\", \"name\": \"YangForPresidentHQ\", \"showlegend\": false, \"type\": \"scatter\", \"x\": [\"2019-01-01T00:00:00\", \"2019-02-01T00:00:00\", \"2019-03-01T00:00:00\", \"2019-04-01T00:00:00\", \"2019-05-01T00:00:00\", \"2019-06-01T00:00:00\", \"2019-07-01T00:00:00\", \"2019-08-01T00:00:00\", \"2019-09-01T00:00:00\", \"2019-10-01T00:00:00\", \"2019-11-01T00:00:00\", \"2019-12-01T00:00:00\"], \"xaxis\": \"x2\", \"y\": [35, 580, 3953, 3944, 3122, 5522, 8129, 13622, 14337, 14475, 13588, 17411], \"yaxis\": \"y2\"}],\n",
       "                        {\"annotations\": [{\"font\": {\"size\": 16}, \"showarrow\": false, \"text\": \"Comments Over Time\", \"x\": 0.5, \"xanchor\": \"center\", \"xref\": \"paper\", \"y\": 1.0, \"yanchor\": \"bottom\", \"yref\": \"paper\"}, {\"font\": {\"size\": 16}, \"showarrow\": false, \"text\": \"Unique Commenters Over Time\", \"x\": 0.5, \"xanchor\": \"center\", \"xref\": \"paper\", \"y\": 0.375, \"yanchor\": \"bottom\", \"yref\": \"paper\"}], \"font\": {\"size\": 20}, \"legend\": {\"orientation\": \"v\", \"x\": 1.1, \"xanchor\": \"left\", \"y\": 1}, \"template\": {\"data\": {\"bar\": [{\"error_x\": {\"color\": \"rgb(36,36,36)\"}, \"error_y\": {\"color\": \"rgb(36,36,36)\"}, \"marker\": {\"line\": {\"color\": \"white\", \"width\": 0.5}}, \"type\": \"bar\"}], \"barpolar\": [{\"marker\": {\"line\": {\"color\": \"white\", \"width\": 0.5}}, \"type\": \"barpolar\"}], \"carpet\": [{\"aaxis\": {\"endlinecolor\": \"rgb(36,36,36)\", \"gridcolor\": \"white\", \"linecolor\": \"white\", \"minorgridcolor\": \"white\", \"startlinecolor\": \"rgb(36,36,36)\"}, \"baxis\": {\"endlinecolor\": \"rgb(36,36,36)\", \"gridcolor\": \"white\", \"linecolor\": \"white\", \"minorgridcolor\": \"white\", \"startlinecolor\": \"rgb(36,36,36)\"}, \"type\": \"carpet\"}], \"choropleth\": [{\"colorbar\": {\"outlinewidth\": 1, \"tickcolor\": \"rgb(36,36,36)\", \"ticks\": \"outside\"}, \"type\": \"choropleth\"}], \"contour\": [{\"colorbar\": {\"outlinewidth\": 1, \"tickcolor\": \"rgb(36,36,36)\", \"ticks\": \"outside\"}, \"colorscale\": [[0.0, \"#440154\"], [0.1111111111111111, \"#482878\"], [0.2222222222222222, \"#3e4989\"], [0.3333333333333333, \"#31688e\"], [0.4444444444444444, \"#26828e\"], [0.5555555555555556, \"#1f9e89\"], [0.6666666666666666, \"#35b779\"], [0.7777777777777778, \"#6ece58\"], [0.8888888888888888, \"#b5de2b\"], [1.0, \"#fde725\"]], \"type\": \"contour\"}], \"contourcarpet\": [{\"colorbar\": {\"outlinewidth\": 1, \"tickcolor\": \"rgb(36,36,36)\", \"ticks\": \"outside\"}, \"type\": \"contourcarpet\"}], \"heatmap\": [{\"colorbar\": {\"outlinewidth\": 1, \"tickcolor\": \"rgb(36,36,36)\", \"ticks\": \"outside\"}, \"colorscale\": [[0.0, \"#440154\"], [0.1111111111111111, \"#482878\"], [0.2222222222222222, \"#3e4989\"], [0.3333333333333333, \"#31688e\"], [0.4444444444444444, \"#26828e\"], [0.5555555555555556, \"#1f9e89\"], [0.6666666666666666, \"#35b779\"], [0.7777777777777778, \"#6ece58\"], [0.8888888888888888, \"#b5de2b\"], [1.0, \"#fde725\"]], \"type\": \"heatmap\"}], \"heatmapgl\": [{\"colorbar\": {\"outlinewidth\": 1, \"tickcolor\": \"rgb(36,36,36)\", \"ticks\": \"outside\"}, \"colorscale\": [[0.0, \"#440154\"], [0.1111111111111111, \"#482878\"], [0.2222222222222222, \"#3e4989\"], [0.3333333333333333, \"#31688e\"], [0.4444444444444444, \"#26828e\"], [0.5555555555555556, \"#1f9e89\"], [0.6666666666666666, \"#35b779\"], [0.7777777777777778, \"#6ece58\"], [0.8888888888888888, \"#b5de2b\"], [1.0, \"#fde725\"]], \"type\": \"heatmapgl\"}], \"histogram\": [{\"marker\": {\"line\": {\"color\": \"white\", \"width\": 0.6}}, \"type\": \"histogram\"}], \"histogram2d\": [{\"colorbar\": {\"outlinewidth\": 1, \"tickcolor\": \"rgb(36,36,36)\", \"ticks\": \"outside\"}, \"colorscale\": [[0.0, \"#440154\"], [0.1111111111111111, \"#482878\"], [0.2222222222222222, \"#3e4989\"], [0.3333333333333333, \"#31688e\"], [0.4444444444444444, \"#26828e\"], [0.5555555555555556, \"#1f9e89\"], [0.6666666666666666, \"#35b779\"], [0.7777777777777778, \"#6ece58\"], [0.8888888888888888, \"#b5de2b\"], [1.0, \"#fde725\"]], \"type\": \"histogram2d\"}], \"histogram2dcontour\": [{\"colorbar\": {\"outlinewidth\": 1, \"tickcolor\": \"rgb(36,36,36)\", \"ticks\": \"outside\"}, \"colorscale\": [[0.0, \"#440154\"], [0.1111111111111111, \"#482878\"], [0.2222222222222222, \"#3e4989\"], [0.3333333333333333, \"#31688e\"], [0.4444444444444444, \"#26828e\"], [0.5555555555555556, \"#1f9e89\"], [0.6666666666666666, \"#35b779\"], [0.7777777777777778, \"#6ece58\"], [0.8888888888888888, \"#b5de2b\"], [1.0, \"#fde725\"]], \"type\": \"histogram2dcontour\"}], \"mesh3d\": [{\"colorbar\": {\"outlinewidth\": 1, \"tickcolor\": \"rgb(36,36,36)\", \"ticks\": \"outside\"}, \"type\": \"mesh3d\"}], \"parcoords\": [{\"line\": {\"colorbar\": {\"outlinewidth\": 1, \"tickcolor\": \"rgb(36,36,36)\", \"ticks\": \"outside\"}}, \"type\": \"parcoords\"}], \"pie\": [{\"automargin\": true, \"type\": \"pie\"}], \"scatter\": [{\"marker\": {\"colorbar\": {\"outlinewidth\": 1, \"tickcolor\": \"rgb(36,36,36)\", \"ticks\": \"outside\"}}, \"type\": \"scatter\"}], \"scatter3d\": [{\"line\": {\"colorbar\": {\"outlinewidth\": 1, \"tickcolor\": \"rgb(36,36,36)\", \"ticks\": \"outside\"}}, \"marker\": {\"colorbar\": {\"outlinewidth\": 1, \"tickcolor\": \"rgb(36,36,36)\", \"ticks\": \"outside\"}}, \"type\": \"scatter3d\"}], \"scattercarpet\": [{\"marker\": {\"colorbar\": {\"outlinewidth\": 1, \"tickcolor\": \"rgb(36,36,36)\", \"ticks\": \"outside\"}}, \"type\": \"scattercarpet\"}], \"scattergeo\": [{\"marker\": {\"colorbar\": {\"outlinewidth\": 1, \"tickcolor\": \"rgb(36,36,36)\", \"ticks\": \"outside\"}}, \"type\": \"scattergeo\"}], \"scattergl\": [{\"marker\": {\"colorbar\": {\"outlinewidth\": 1, \"tickcolor\": \"rgb(36,36,36)\", \"ticks\": \"outside\"}}, \"type\": \"scattergl\"}], \"scattermapbox\": [{\"marker\": {\"colorbar\": {\"outlinewidth\": 1, \"tickcolor\": \"rgb(36,36,36)\", \"ticks\": \"outside\"}}, \"type\": \"scattermapbox\"}], \"scatterpolar\": [{\"marker\": {\"colorbar\": {\"outlinewidth\": 1, \"tickcolor\": \"rgb(36,36,36)\", \"ticks\": \"outside\"}}, \"type\": \"scatterpolar\"}], \"scatterpolargl\": [{\"marker\": {\"colorbar\": {\"outlinewidth\": 1, \"tickcolor\": \"rgb(36,36,36)\", \"ticks\": \"outside\"}}, \"type\": \"scatterpolargl\"}], \"scatterternary\": [{\"marker\": {\"colorbar\": {\"outlinewidth\": 1, \"tickcolor\": \"rgb(36,36,36)\", \"ticks\": \"outside\"}}, \"type\": \"scatterternary\"}], \"surface\": [{\"colorbar\": {\"outlinewidth\": 1, \"tickcolor\": \"rgb(36,36,36)\", \"ticks\": \"outside\"}, \"colorscale\": [[0.0, \"#440154\"], [0.1111111111111111, \"#482878\"], [0.2222222222222222, \"#3e4989\"], [0.3333333333333333, \"#31688e\"], [0.4444444444444444, \"#26828e\"], [0.5555555555555556, \"#1f9e89\"], [0.6666666666666666, \"#35b779\"], [0.7777777777777778, \"#6ece58\"], [0.8888888888888888, \"#b5de2b\"], [1.0, \"#fde725\"]], \"type\": \"surface\"}], \"table\": [{\"cells\": {\"fill\": {\"color\": \"rgb(237,237,237)\"}, \"line\": {\"color\": \"white\"}}, \"header\": {\"fill\": {\"color\": \"rgb(217,217,217)\"}, \"line\": {\"color\": \"white\"}}, \"type\": \"table\"}]}, \"layout\": {\"annotationdefaults\": {\"arrowhead\": 0, \"arrowwidth\": 1}, \"coloraxis\": {\"colorbar\": {\"outlinewidth\": 1, \"tickcolor\": \"rgb(36,36,36)\", \"ticks\": \"outside\"}}, \"colorscale\": {\"diverging\": [[0.0, \"rgb(103,0,31)\"], [0.1, \"rgb(178,24,43)\"], [0.2, \"rgb(214,96,77)\"], [0.3, \"rgb(244,165,130)\"], [0.4, \"rgb(253,219,199)\"], [0.5, \"rgb(247,247,247)\"], [0.6, \"rgb(209,229,240)\"], [0.7, \"rgb(146,197,222)\"], [0.8, \"rgb(67,147,195)\"], [0.9, \"rgb(33,102,172)\"], [1.0, \"rgb(5,48,97)\"]], \"sequential\": [[0.0, \"#440154\"], [0.1111111111111111, \"#482878\"], [0.2222222222222222, \"#3e4989\"], [0.3333333333333333, \"#31688e\"], [0.4444444444444444, \"#26828e\"], [0.5555555555555556, \"#1f9e89\"], [0.6666666666666666, \"#35b779\"], [0.7777777777777778, \"#6ece58\"], [0.8888888888888888, \"#b5de2b\"], [1.0, \"#fde725\"]], \"sequentialminus\": [[0.0, \"#440154\"], [0.1111111111111111, \"#482878\"], [0.2222222222222222, \"#3e4989\"], [0.3333333333333333, \"#31688e\"], [0.4444444444444444, \"#26828e\"], [0.5555555555555556, \"#1f9e89\"], [0.6666666666666666, \"#35b779\"], [0.7777777777777778, \"#6ece58\"], [0.8888888888888888, \"#b5de2b\"], [1.0, \"#fde725\"]]}, \"colorway\": [\"#1F77B4\", \"#FF7F0E\", \"#2CA02C\", \"#D62728\", \"#9467BD\", \"#8C564B\", \"#E377C2\", \"#7F7F7F\", \"#BCBD22\", \"#17BECF\"], \"font\": {\"color\": \"rgb(36,36,36)\"}, \"geo\": {\"bgcolor\": \"white\", \"lakecolor\": \"white\", \"landcolor\": \"white\", \"showlakes\": true, \"showland\": true, \"subunitcolor\": \"white\"}, \"hoverlabel\": {\"align\": \"left\"}, \"hovermode\": \"closest\", \"mapbox\": {\"style\": \"light\"}, \"paper_bgcolor\": \"white\", \"plot_bgcolor\": \"white\", \"polar\": {\"angularaxis\": {\"gridcolor\": \"rgb(232,232,232)\", \"linecolor\": \"rgb(36,36,36)\", \"showgrid\": false, \"showline\": true, \"ticks\": \"outside\"}, \"bgcolor\": \"white\", \"radialaxis\": {\"gridcolor\": \"rgb(232,232,232)\", \"linecolor\": \"rgb(36,36,36)\", \"showgrid\": false, \"showline\": true, \"ticks\": \"outside\"}}, \"scene\": {\"xaxis\": {\"backgroundcolor\": \"white\", \"gridcolor\": \"rgb(232,232,232)\", \"gridwidth\": 2, \"linecolor\": \"rgb(36,36,36)\", \"showbackground\": true, \"showgrid\": false, \"showline\": true, \"ticks\": \"outside\", \"zeroline\": false, \"zerolinecolor\": \"rgb(36,36,36)\"}, \"yaxis\": {\"backgroundcolor\": \"white\", \"gridcolor\": \"rgb(232,232,232)\", \"gridwidth\": 2, \"linecolor\": \"rgb(36,36,36)\", \"showbackground\": true, \"showgrid\": false, \"showline\": true, \"ticks\": \"outside\", \"zeroline\": false, \"zerolinecolor\": \"rgb(36,36,36)\"}, \"zaxis\": {\"backgroundcolor\": \"white\", \"gridcolor\": \"rgb(232,232,232)\", \"gridwidth\": 2, \"linecolor\": \"rgb(36,36,36)\", \"showbackground\": true, \"showgrid\": false, \"showline\": true, \"ticks\": \"outside\", \"zeroline\": false, \"zerolinecolor\": \"rgb(36,36,36)\"}}, \"shapedefaults\": {\"fillcolor\": \"black\", \"line\": {\"width\": 0}, \"opacity\": 0.3}, \"ternary\": {\"aaxis\": {\"gridcolor\": \"rgb(232,232,232)\", \"linecolor\": \"rgb(36,36,36)\", \"showgrid\": false, \"showline\": true, \"ticks\": \"outside\"}, \"baxis\": {\"gridcolor\": \"rgb(232,232,232)\", \"linecolor\": \"rgb(36,36,36)\", \"showgrid\": false, \"showline\": true, \"ticks\": \"outside\"}, \"bgcolor\": \"white\", \"caxis\": {\"gridcolor\": \"rgb(232,232,232)\", \"linecolor\": \"rgb(36,36,36)\", \"showgrid\": false, \"showline\": true, \"ticks\": \"outside\"}}, \"title\": {\"x\": 0.05}, \"xaxis\": {\"automargin\": true, \"gridcolor\": \"rgb(232,232,232)\", \"linecolor\": \"rgb(36,36,36)\", \"showgrid\": false, \"showline\": true, \"ticks\": \"outside\", \"title\": {\"standoff\": 15}, \"zeroline\": false, \"zerolinecolor\": \"rgb(36,36,36)\"}, \"yaxis\": {\"automargin\": true, \"gridcolor\": \"rgb(232,232,232)\", \"linecolor\": \"rgb(36,36,36)\", \"showgrid\": false, \"showline\": true, \"ticks\": \"outside\", \"title\": {\"standoff\": 15}, \"zeroline\": false, \"zerolinecolor\": \"rgb(36,36,36)\"}}}, \"title\": {\"text\": \"Candidate Subreddit Activity Over Time\"}, \"xaxis\": {\"anchor\": \"y\", \"domain\": [0.0, 1.0]}, \"xaxis2\": {\"anchor\": \"y2\", \"domain\": [0.0, 1.0]}, \"yaxis\": {\"anchor\": \"x\", \"autorange\": false, \"domain\": [0.625, 1.0], \"dtick\": 1, \"range\": [0, 5], \"title\": {\"text\": \"\"}, \"type\": \"log\"}, \"yaxis2\": {\"anchor\": \"x2\", \"domain\": [0.0, 0.375], \"type\": \"log\"}},\n",
       "                        {\"responsive\": true}\n",
       "                    ).then(function(){\n",
       "                            \n",
       "var gd = document.getElementById('a6577648-46e2-4457-909d-186c99a4fecd');\n",
       "var x = new MutationObserver(function (mutations, observer) {{\n",
       "        var display = window.getComputedStyle(gd).display;\n",
       "        if (!display || display === 'none') {{\n",
       "            console.log([gd, 'removed!']);\n",
       "            Plotly.purge(gd);\n",
       "            observer.disconnect();\n",
       "        }}\n",
       "}});\n",
       "\n",
       "// Listen for the removal of the full notebook cells\n",
       "var notebookContainer = gd.closest('#notebook-container');\n",
       "if (notebookContainer) {{\n",
       "    x.observe(notebookContainer, {childList: true});\n",
       "}}\n",
       "\n",
       "// Listen for the clearing of the current output cell\n",
       "var outputEl = gd.closest('.output');\n",
       "if (outputEl) {{\n",
       "    x.observe(outputEl, {childList: true});\n",
       "}}\n",
       "\n",
       "                        })\n",
       "                };\n",
       "                });\n",
       "            </script>\n",
       "        </div>"
      ]
     },
     "metadata": {},
     "output_type": "display_data"
    }
   ],
   "source": [
    "from plotly.subplots import make_subplots\n",
    "fig = make_subplots(\n",
    "    rows=2, cols=1,\n",
    "    print_grid=True,\n",
    "    subplot_titles=(\"Comments Over Time\",\n",
    "                    \"Unique Commenters Over Time\"))\n",
    "\n",
    "for cand in left_candidates:\n",
    "    cand_comm = subreddit_comments[subreddit_comments[\"subreddit\"] == cand]\n",
    "    cand_n = n_unique[n_unique[\"subreddit\"] == cand]\n",
    "    \n",
    "    fig.add_trace(go.Scatter(x=cand_comm[\"date\"],\n",
    "                             y=cand_comm[\"count\"],\n",
    "                             marker=dict(color=mapping[cand]),                         \n",
    "                             mode=\"lines\",\n",
    "                             line_shape=\"spline\",\n",
    "                             name=cand,\n",
    "                             legendgroup=cand\n",
    "                            ),\n",
    "                  row=1,\n",
    "                  col=1)\n",
    "\n",
    "\n",
    "    fig.add_trace(go.Scatter(x=cand_n[\"date\"],\n",
    "                             y=cand_n[\"n_unique\"],\n",
    "                             marker=dict(color=mapping[cand]),\n",
    "                             mode=\"lines\",\n",
    "                             line_shape=\"spline\",\n",
    "                             name=cand,\n",
    "                             legendgroup=cand,\n",
    "                            showlegend = False\n",
    "                            ),\n",
    "                  row=2,\n",
    "                  col=1)\n",
    "fig.update_layout(font=dict(size=20),\n",
    "                  title_text=\"Candidate Subreddit Activity Over Time\",\n",
    "                  template=\"simple_white\",\n",
    "                  legend=dict(orientation='v', x=1.1, xanchor='left', y=1))\n",
    "\n",
    "fig['layout']['yaxis1'].update(title='', range=[0, 5], dtick=1, autorange=False)\n",
    "\n",
    "fig.update_yaxes(type=\"log\")\n",
    "fig.show()\n",
    "    "
   ]
  },
  {
   "cell_type": "markdown",
   "metadata": {},
   "source": [
    "### Dual Axes (N-Unique)"
   ]
  },
  {
   "cell_type": "code",
   "execution_count": 81,
   "metadata": {
    "scrolled": false
   },
   "outputs": [
    {
     "data": {
      "application/vnd.plotly.v1+json": {
       "config": {
        "plotlyServerURL": "https://plot.ly"
       },
       "data": [
        {
         "legendgroup": "Joe Biden",
         "line": {
          "color": "#636EFA",
          "dash": "dash",
          "shape": "spline"
         },
         "mode": "lines",
         "name": "JoeBiden Subreddit Commenters",
         "type": "scatter",
         "x": [],
         "xaxis": "x",
         "y": [],
         "yaxis": "y2"
        },
        {
         "legendgroup": "Joe Biden",
         "line": {
          "color": "#636EFA",
          "shape": "spline"
         },
         "mode": "lines",
         "name": "Joe Biden Polling Avg",
         "type": "scatter",
         "x": [
          "2019-01-31T00:00:00",
          "2019-02-28T00:00:00",
          "2019-03-31T00:00:00",
          "2019-04-30T00:00:00",
          "2019-05-31T00:00:00",
          "2019-06-30T00:00:00",
          "2019-07-31T00:00:00",
          "2019-08-31T00:00:00",
          "2019-09-30T00:00:00",
          "2019-10-31T00:00:00",
          "2019-11-30T00:00:00",
          "2019-12-31T00:00:00",
          "2020-01-31T00:00:00",
          "2020-02-29T00:00:00",
          "2020-03-31T00:00:00"
         ],
         "xaxis": "x",
         "y": [
          0.26342710997442453,
          0.2702970297029703,
          0.2787958115183246,
          0.2396351575456053,
          0.22526817640047675,
          0.23087071240105542,
          0.21328671328671328,
          0.19055287171229202,
          0.1682727946627131,
          0.1836734693877551,
          0.1805993690851735,
          0.18830675778283978,
          0.18356164383561643,
          0.1620016963528414,
          0.3395638629283489
         ],
         "yaxis": "y"
        },
        {
         "legendgroup": "Bernie Sanders",
         "line": {
          "color": "#EF553B",
          "dash": "dash",
          "shape": "spline"
         },
         "mode": "lines",
         "name": "SandersForPresident Subreddit Commenters",
         "type": "scatter",
         "x": [],
         "xaxis": "x",
         "y": [],
         "yaxis": "y2"
        },
        {
         "legendgroup": "Bernie Sanders",
         "line": {
          "color": "#EF553B",
          "shape": "spline"
         },
         "mode": "lines",
         "name": "Bernie Sanders Polling Avg",
         "type": "scatter",
         "x": [
          "2019-01-31T00:00:00",
          "2019-02-28T00:00:00",
          "2019-03-31T00:00:00",
          "2019-04-30T00:00:00",
          "2019-05-31T00:00:00",
          "2019-06-30T00:00:00",
          "2019-07-31T00:00:00",
          "2019-08-31T00:00:00",
          "2019-09-30T00:00:00",
          "2019-10-31T00:00:00",
          "2019-11-30T00:00:00",
          "2019-12-31T00:00:00",
          "2020-01-31T00:00:00",
          "2020-02-29T00:00:00",
          "2020-03-31T00:00:00"
         ],
         "xaxis": "x",
         "y": [
          0.31202046035805625,
          0.31683168316831684,
          0.3036649214659686,
          0.3043117744610282,
          0.2800953516090584,
          0.27506596306068604,
          0.2773892773892774,
          0.3070316693505099,
          0.2727946627131208,
          0.2819349962207105,
          0.2744479495268139,
          0.2900531511009871,
          0.2924657534246575,
          0.3672603901611535,
          0.573208722741433
         ],
         "yaxis": "y"
        },
        {
         "legendgroup": "Amy Klobuchar",
         "line": {
          "color": "#00CC96",
          "dash": "dash",
          "shape": "spline"
         },
         "mode": "lines",
         "name": "BaemyKlobaechar Subreddit Commenters",
         "type": "scatter",
         "x": [],
         "xaxis": "x",
         "y": [],
         "yaxis": "y2"
        },
        {
         "legendgroup": "Amy Klobuchar",
         "line": {
          "color": "#00CC96",
          "shape": "spline"
         },
         "mode": "lines",
         "name": "Amy Klobuchar Polling Avg",
         "type": "scatter",
         "x": [
          "2019-01-31T00:00:00",
          "2019-02-28T00:00:00",
          "2019-03-31T00:00:00",
          "2019-04-30T00:00:00",
          "2019-05-31T00:00:00",
          "2019-06-30T00:00:00",
          "2019-07-31T00:00:00",
          "2019-08-31T00:00:00",
          "2019-09-30T00:00:00",
          "2019-10-31T00:00:00",
          "2019-11-30T00:00:00",
          "2019-12-31T00:00:00",
          "2020-01-31T00:00:00",
          "2020-02-29T00:00:00",
          "2020-03-31T00:00:00"
         ],
         "xaxis": "x",
         "y": [
          0.020460358056265986,
          0.02574257425742574,
          0.032722513089005235,
          0.026533996683250415,
          0.023837902264600714,
          0.023746701846965697,
          0.02097902097902098,
          0.01932367149758454,
          0.026686434395848776,
          0.025699168556311415,
          0.02050473186119874,
          0.022779043280182234,
          0.03287671232876712,
          0.04240882103477523,
          0
         ],
         "yaxis": "y"
        },
        {
         "legendgroup": "Elizabeth Warren",
         "line": {
          "color": "#AB63FA",
          "dash": "dash",
          "shape": "spline"
         },
         "mode": "lines",
         "name": "ElizabethWarren Subreddit Commenters",
         "type": "scatter",
         "x": [],
         "xaxis": "x",
         "y": [],
         "yaxis": "y2"
        },
        {
         "legendgroup": "Elizabeth Warren",
         "line": {
          "color": "#AB63FA",
          "shape": "spline"
         },
         "mode": "lines",
         "name": "Elizabeth Warren Polling Avg",
         "type": "scatter",
         "x": [
          "2019-01-31T00:00:00",
          "2019-02-28T00:00:00",
          "2019-03-31T00:00:00",
          "2019-04-30T00:00:00",
          "2019-05-31T00:00:00",
          "2019-06-30T00:00:00",
          "2019-07-31T00:00:00",
          "2019-08-31T00:00:00",
          "2019-09-30T00:00:00",
          "2019-10-31T00:00:00",
          "2019-11-30T00:00:00",
          "2019-12-31T00:00:00",
          "2020-01-31T00:00:00",
          "2020-02-29T00:00:00",
          "2020-03-31T00:00:00"
         ],
         "xaxis": "x",
         "y": [
          0.07672634271099744,
          0.10891089108910891,
          0.1243455497382199,
          0.1044776119402985,
          0.13230035756853398,
          0.1312664907651715,
          0.1561771561771562,
          0.16586151368760063,
          0.16160118606375093,
          0.17913832199546487,
          0.17429022082018927,
          0.16856492027334852,
          0.16095890410958905,
          0.18405428329092452,
          0
         ],
         "yaxis": "y"
        },
        {
         "legendgroup": "Pete Buttigieg",
         "line": {
          "color": "#FFA15A",
          "dash": "dash",
          "shape": "spline"
         },
         "mode": "lines",
         "name": "Pete_Buttigieg Subreddit Commenters",
         "type": "scatter",
         "x": [],
         "xaxis": "x",
         "y": [],
         "yaxis": "y2"
        },
        {
         "legendgroup": "Pete Buttigieg",
         "line": {
          "color": "#FFA15A",
          "shape": "spline"
         },
         "mode": "lines",
         "name": "Pete Buttigieg Polling Avg",
         "type": "scatter",
         "x": [
          "2019-01-31T00:00:00",
          "2019-02-28T00:00:00",
          "2019-03-31T00:00:00",
          "2019-04-30T00:00:00",
          "2019-05-31T00:00:00",
          "2019-06-30T00:00:00",
          "2019-07-31T00:00:00",
          "2019-08-31T00:00:00",
          "2019-09-30T00:00:00",
          "2019-10-31T00:00:00",
          "2019-11-30T00:00:00",
          "2019-12-31T00:00:00",
          "2020-01-31T00:00:00",
          "2020-02-29T00:00:00",
          "2020-03-31T00:00:00"
         ],
         "xaxis": "x",
         "y": [
          0.01278772378516624,
          0.009900990099009901,
          0.02225130890052356,
          0.0505804311774461,
          0.06197854588796186,
          0.052110817941952506,
          0.06643356643356643,
          0.06763285024154589,
          0.05930318754633061,
          0.05895691609977324,
          0.06782334384858044,
          0.05618830675778284,
          0.06712328767123288,
          0.08736217133163698,
          0
         ],
         "yaxis": "y"
        },
        {
         "legendgroup": "Andrew Yang",
         "line": {
          "color": "#19D3F3",
          "dash": "dash",
          "shape": "spline"
         },
         "mode": "lines",
         "name": "YangForPresidentHQ Subreddit Commenters",
         "type": "scatter",
         "x": [],
         "xaxis": "x",
         "y": [],
         "yaxis": "y2"
        },
        {
         "legendgroup": "Andrew Yang",
         "line": {
          "color": "#19D3F3",
          "shape": "spline"
         },
         "mode": "lines",
         "name": "Andrew Yang Polling Avg",
         "type": "scatter",
         "x": [
          "2019-01-31T00:00:00",
          "2019-02-28T00:00:00",
          "2019-03-31T00:00:00",
          "2019-04-30T00:00:00",
          "2019-05-31T00:00:00",
          "2019-06-30T00:00:00",
          "2019-07-31T00:00:00",
          "2019-08-31T00:00:00",
          "2019-09-30T00:00:00",
          "2019-10-31T00:00:00",
          "2019-11-30T00:00:00",
          "2019-12-31T00:00:00",
          "2020-01-31T00:00:00",
          "2020-02-29T00:00:00",
          "2020-03-31T00:00:00"
         ],
         "xaxis": "x",
         "y": [
          0,
          0,
          0.028795811518324606,
          0.0472636815920398,
          0.060786650774731825,
          0.06992084432717678,
          0.0675990675990676,
          0.08856682769726248,
          0.13269088213491476,
          0.13907785336356765,
          0.14826498422712933,
          0.14958238420653,
          0.15205479452054796,
          0.041560644614079725,
          0
         ],
         "yaxis": "y"
        }
       ],
       "layout": {
        "font": {
         "size": 14
        },
        "legend": {
         "orientation": "v",
         "x": 1.1,
         "xanchor": "left",
         "y": 1
        },
        "template": {
         "data": {
          "bar": [
           {
            "error_x": {
             "color": "rgb(36,36,36)"
            },
            "error_y": {
             "color": "rgb(36,36,36)"
            },
            "marker": {
             "line": {
              "color": "white",
              "width": 0.5
             }
            },
            "type": "bar"
           }
          ],
          "barpolar": [
           {
            "marker": {
             "line": {
              "color": "white",
              "width": 0.5
             }
            },
            "type": "barpolar"
           }
          ],
          "carpet": [
           {
            "aaxis": {
             "endlinecolor": "rgb(36,36,36)",
             "gridcolor": "white",
             "linecolor": "white",
             "minorgridcolor": "white",
             "startlinecolor": "rgb(36,36,36)"
            },
            "baxis": {
             "endlinecolor": "rgb(36,36,36)",
             "gridcolor": "white",
             "linecolor": "white",
             "minorgridcolor": "white",
             "startlinecolor": "rgb(36,36,36)"
            },
            "type": "carpet"
           }
          ],
          "choropleth": [
           {
            "colorbar": {
             "outlinewidth": 1,
             "tickcolor": "rgb(36,36,36)",
             "ticks": "outside"
            },
            "type": "choropleth"
           }
          ],
          "contour": [
           {
            "colorbar": {
             "outlinewidth": 1,
             "tickcolor": "rgb(36,36,36)",
             "ticks": "outside"
            },
            "colorscale": [
             [
              0,
              "#440154"
             ],
             [
              0.1111111111111111,
              "#482878"
             ],
             [
              0.2222222222222222,
              "#3e4989"
             ],
             [
              0.3333333333333333,
              "#31688e"
             ],
             [
              0.4444444444444444,
              "#26828e"
             ],
             [
              0.5555555555555556,
              "#1f9e89"
             ],
             [
              0.6666666666666666,
              "#35b779"
             ],
             [
              0.7777777777777778,
              "#6ece58"
             ],
             [
              0.8888888888888888,
              "#b5de2b"
             ],
             [
              1,
              "#fde725"
             ]
            ],
            "type": "contour"
           }
          ],
          "contourcarpet": [
           {
            "colorbar": {
             "outlinewidth": 1,
             "tickcolor": "rgb(36,36,36)",
             "ticks": "outside"
            },
            "type": "contourcarpet"
           }
          ],
          "heatmap": [
           {
            "colorbar": {
             "outlinewidth": 1,
             "tickcolor": "rgb(36,36,36)",
             "ticks": "outside"
            },
            "colorscale": [
             [
              0,
              "#440154"
             ],
             [
              0.1111111111111111,
              "#482878"
             ],
             [
              0.2222222222222222,
              "#3e4989"
             ],
             [
              0.3333333333333333,
              "#31688e"
             ],
             [
              0.4444444444444444,
              "#26828e"
             ],
             [
              0.5555555555555556,
              "#1f9e89"
             ],
             [
              0.6666666666666666,
              "#35b779"
             ],
             [
              0.7777777777777778,
              "#6ece58"
             ],
             [
              0.8888888888888888,
              "#b5de2b"
             ],
             [
              1,
              "#fde725"
             ]
            ],
            "type": "heatmap"
           }
          ],
          "heatmapgl": [
           {
            "colorbar": {
             "outlinewidth": 1,
             "tickcolor": "rgb(36,36,36)",
             "ticks": "outside"
            },
            "colorscale": [
             [
              0,
              "#440154"
             ],
             [
              0.1111111111111111,
              "#482878"
             ],
             [
              0.2222222222222222,
              "#3e4989"
             ],
             [
              0.3333333333333333,
              "#31688e"
             ],
             [
              0.4444444444444444,
              "#26828e"
             ],
             [
              0.5555555555555556,
              "#1f9e89"
             ],
             [
              0.6666666666666666,
              "#35b779"
             ],
             [
              0.7777777777777778,
              "#6ece58"
             ],
             [
              0.8888888888888888,
              "#b5de2b"
             ],
             [
              1,
              "#fde725"
             ]
            ],
            "type": "heatmapgl"
           }
          ],
          "histogram": [
           {
            "marker": {
             "line": {
              "color": "white",
              "width": 0.6
             }
            },
            "type": "histogram"
           }
          ],
          "histogram2d": [
           {
            "colorbar": {
             "outlinewidth": 1,
             "tickcolor": "rgb(36,36,36)",
             "ticks": "outside"
            },
            "colorscale": [
             [
              0,
              "#440154"
             ],
             [
              0.1111111111111111,
              "#482878"
             ],
             [
              0.2222222222222222,
              "#3e4989"
             ],
             [
              0.3333333333333333,
              "#31688e"
             ],
             [
              0.4444444444444444,
              "#26828e"
             ],
             [
              0.5555555555555556,
              "#1f9e89"
             ],
             [
              0.6666666666666666,
              "#35b779"
             ],
             [
              0.7777777777777778,
              "#6ece58"
             ],
             [
              0.8888888888888888,
              "#b5de2b"
             ],
             [
              1,
              "#fde725"
             ]
            ],
            "type": "histogram2d"
           }
          ],
          "histogram2dcontour": [
           {
            "colorbar": {
             "outlinewidth": 1,
             "tickcolor": "rgb(36,36,36)",
             "ticks": "outside"
            },
            "colorscale": [
             [
              0,
              "#440154"
             ],
             [
              0.1111111111111111,
              "#482878"
             ],
             [
              0.2222222222222222,
              "#3e4989"
             ],
             [
              0.3333333333333333,
              "#31688e"
             ],
             [
              0.4444444444444444,
              "#26828e"
             ],
             [
              0.5555555555555556,
              "#1f9e89"
             ],
             [
              0.6666666666666666,
              "#35b779"
             ],
             [
              0.7777777777777778,
              "#6ece58"
             ],
             [
              0.8888888888888888,
              "#b5de2b"
             ],
             [
              1,
              "#fde725"
             ]
            ],
            "type": "histogram2dcontour"
           }
          ],
          "mesh3d": [
           {
            "colorbar": {
             "outlinewidth": 1,
             "tickcolor": "rgb(36,36,36)",
             "ticks": "outside"
            },
            "type": "mesh3d"
           }
          ],
          "parcoords": [
           {
            "line": {
             "colorbar": {
              "outlinewidth": 1,
              "tickcolor": "rgb(36,36,36)",
              "ticks": "outside"
             }
            },
            "type": "parcoords"
           }
          ],
          "pie": [
           {
            "automargin": true,
            "type": "pie"
           }
          ],
          "scatter": [
           {
            "marker": {
             "colorbar": {
              "outlinewidth": 1,
              "tickcolor": "rgb(36,36,36)",
              "ticks": "outside"
             }
            },
            "type": "scatter"
           }
          ],
          "scatter3d": [
           {
            "line": {
             "colorbar": {
              "outlinewidth": 1,
              "tickcolor": "rgb(36,36,36)",
              "ticks": "outside"
             }
            },
            "marker": {
             "colorbar": {
              "outlinewidth": 1,
              "tickcolor": "rgb(36,36,36)",
              "ticks": "outside"
             }
            },
            "type": "scatter3d"
           }
          ],
          "scattercarpet": [
           {
            "marker": {
             "colorbar": {
              "outlinewidth": 1,
              "tickcolor": "rgb(36,36,36)",
              "ticks": "outside"
             }
            },
            "type": "scattercarpet"
           }
          ],
          "scattergeo": [
           {
            "marker": {
             "colorbar": {
              "outlinewidth": 1,
              "tickcolor": "rgb(36,36,36)",
              "ticks": "outside"
             }
            },
            "type": "scattergeo"
           }
          ],
          "scattergl": [
           {
            "marker": {
             "colorbar": {
              "outlinewidth": 1,
              "tickcolor": "rgb(36,36,36)",
              "ticks": "outside"
             }
            },
            "type": "scattergl"
           }
          ],
          "scattermapbox": [
           {
            "marker": {
             "colorbar": {
              "outlinewidth": 1,
              "tickcolor": "rgb(36,36,36)",
              "ticks": "outside"
             }
            },
            "type": "scattermapbox"
           }
          ],
          "scatterpolar": [
           {
            "marker": {
             "colorbar": {
              "outlinewidth": 1,
              "tickcolor": "rgb(36,36,36)",
              "ticks": "outside"
             }
            },
            "type": "scatterpolar"
           }
          ],
          "scatterpolargl": [
           {
            "marker": {
             "colorbar": {
              "outlinewidth": 1,
              "tickcolor": "rgb(36,36,36)",
              "ticks": "outside"
             }
            },
            "type": "scatterpolargl"
           }
          ],
          "scatterternary": [
           {
            "marker": {
             "colorbar": {
              "outlinewidth": 1,
              "tickcolor": "rgb(36,36,36)",
              "ticks": "outside"
             }
            },
            "type": "scatterternary"
           }
          ],
          "surface": [
           {
            "colorbar": {
             "outlinewidth": 1,
             "tickcolor": "rgb(36,36,36)",
             "ticks": "outside"
            },
            "colorscale": [
             [
              0,
              "#440154"
             ],
             [
              0.1111111111111111,
              "#482878"
             ],
             [
              0.2222222222222222,
              "#3e4989"
             ],
             [
              0.3333333333333333,
              "#31688e"
             ],
             [
              0.4444444444444444,
              "#26828e"
             ],
             [
              0.5555555555555556,
              "#1f9e89"
             ],
             [
              0.6666666666666666,
              "#35b779"
             ],
             [
              0.7777777777777778,
              "#6ece58"
             ],
             [
              0.8888888888888888,
              "#b5de2b"
             ],
             [
              1,
              "#fde725"
             ]
            ],
            "type": "surface"
           }
          ],
          "table": [
           {
            "cells": {
             "fill": {
              "color": "rgb(237,237,237)"
             },
             "line": {
              "color": "white"
             }
            },
            "header": {
             "fill": {
              "color": "rgb(217,217,217)"
             },
             "line": {
              "color": "white"
             }
            },
            "type": "table"
           }
          ]
         },
         "layout": {
          "annotationdefaults": {
           "arrowhead": 0,
           "arrowwidth": 1
          },
          "coloraxis": {
           "colorbar": {
            "outlinewidth": 1,
            "tickcolor": "rgb(36,36,36)",
            "ticks": "outside"
           }
          },
          "colorscale": {
           "diverging": [
            [
             0,
             "rgb(103,0,31)"
            ],
            [
             0.1,
             "rgb(178,24,43)"
            ],
            [
             0.2,
             "rgb(214,96,77)"
            ],
            [
             0.3,
             "rgb(244,165,130)"
            ],
            [
             0.4,
             "rgb(253,219,199)"
            ],
            [
             0.5,
             "rgb(247,247,247)"
            ],
            [
             0.6,
             "rgb(209,229,240)"
            ],
            [
             0.7,
             "rgb(146,197,222)"
            ],
            [
             0.8,
             "rgb(67,147,195)"
            ],
            [
             0.9,
             "rgb(33,102,172)"
            ],
            [
             1,
             "rgb(5,48,97)"
            ]
           ],
           "sequential": [
            [
             0,
             "#440154"
            ],
            [
             0.1111111111111111,
             "#482878"
            ],
            [
             0.2222222222222222,
             "#3e4989"
            ],
            [
             0.3333333333333333,
             "#31688e"
            ],
            [
             0.4444444444444444,
             "#26828e"
            ],
            [
             0.5555555555555556,
             "#1f9e89"
            ],
            [
             0.6666666666666666,
             "#35b779"
            ],
            [
             0.7777777777777778,
             "#6ece58"
            ],
            [
             0.8888888888888888,
             "#b5de2b"
            ],
            [
             1,
             "#fde725"
            ]
           ],
           "sequentialminus": [
            [
             0,
             "#440154"
            ],
            [
             0.1111111111111111,
             "#482878"
            ],
            [
             0.2222222222222222,
             "#3e4989"
            ],
            [
             0.3333333333333333,
             "#31688e"
            ],
            [
             0.4444444444444444,
             "#26828e"
            ],
            [
             0.5555555555555556,
             "#1f9e89"
            ],
            [
             0.6666666666666666,
             "#35b779"
            ],
            [
             0.7777777777777778,
             "#6ece58"
            ],
            [
             0.8888888888888888,
             "#b5de2b"
            ],
            [
             1,
             "#fde725"
            ]
           ]
          },
          "colorway": [
           "#1F77B4",
           "#FF7F0E",
           "#2CA02C",
           "#D62728",
           "#9467BD",
           "#8C564B",
           "#E377C2",
           "#7F7F7F",
           "#BCBD22",
           "#17BECF"
          ],
          "font": {
           "color": "rgb(36,36,36)"
          },
          "geo": {
           "bgcolor": "white",
           "lakecolor": "white",
           "landcolor": "white",
           "showlakes": true,
           "showland": true,
           "subunitcolor": "white"
          },
          "hoverlabel": {
           "align": "left"
          },
          "hovermode": "closest",
          "mapbox": {
           "style": "light"
          },
          "paper_bgcolor": "white",
          "plot_bgcolor": "white",
          "polar": {
           "angularaxis": {
            "gridcolor": "rgb(232,232,232)",
            "linecolor": "rgb(36,36,36)",
            "showgrid": false,
            "showline": true,
            "ticks": "outside"
           },
           "bgcolor": "white",
           "radialaxis": {
            "gridcolor": "rgb(232,232,232)",
            "linecolor": "rgb(36,36,36)",
            "showgrid": false,
            "showline": true,
            "ticks": "outside"
           }
          },
          "scene": {
           "xaxis": {
            "backgroundcolor": "white",
            "gridcolor": "rgb(232,232,232)",
            "gridwidth": 2,
            "linecolor": "rgb(36,36,36)",
            "showbackground": true,
            "showgrid": false,
            "showline": true,
            "ticks": "outside",
            "zeroline": false,
            "zerolinecolor": "rgb(36,36,36)"
           },
           "yaxis": {
            "backgroundcolor": "white",
            "gridcolor": "rgb(232,232,232)",
            "gridwidth": 2,
            "linecolor": "rgb(36,36,36)",
            "showbackground": true,
            "showgrid": false,
            "showline": true,
            "ticks": "outside",
            "zeroline": false,
            "zerolinecolor": "rgb(36,36,36)"
           },
           "zaxis": {
            "backgroundcolor": "white",
            "gridcolor": "rgb(232,232,232)",
            "gridwidth": 2,
            "linecolor": "rgb(36,36,36)",
            "showbackground": true,
            "showgrid": false,
            "showline": true,
            "ticks": "outside",
            "zeroline": false,
            "zerolinecolor": "rgb(36,36,36)"
           }
          },
          "shapedefaults": {
           "fillcolor": "black",
           "line": {
            "width": 0
           },
           "opacity": 0.3
          },
          "ternary": {
           "aaxis": {
            "gridcolor": "rgb(232,232,232)",
            "linecolor": "rgb(36,36,36)",
            "showgrid": false,
            "showline": true,
            "ticks": "outside"
           },
           "baxis": {
            "gridcolor": "rgb(232,232,232)",
            "linecolor": "rgb(36,36,36)",
            "showgrid": false,
            "showline": true,
            "ticks": "outside"
           },
           "bgcolor": "white",
           "caxis": {
            "gridcolor": "rgb(232,232,232)",
            "linecolor": "rgb(36,36,36)",
            "showgrid": false,
            "showline": true,
            "ticks": "outside"
           }
          },
          "title": {
           "x": 0.05
          },
          "xaxis": {
           "automargin": true,
           "gridcolor": "rgb(232,232,232)",
           "linecolor": "rgb(36,36,36)",
           "showgrid": false,
           "showline": true,
           "ticks": "outside",
           "title": {
            "standoff": 15
           },
           "zeroline": false,
           "zerolinecolor": "rgb(36,36,36)"
          },
          "yaxis": {
           "automargin": true,
           "gridcolor": "rgb(232,232,232)",
           "linecolor": "rgb(36,36,36)",
           "showgrid": false,
           "showline": true,
           "ticks": "outside",
           "title": {
            "standoff": 15
           },
           "zeroline": false,
           "zerolinecolor": "rgb(36,36,36)"
          }
         }
        },
        "title": {
         "text": "Dual Axis - Unique Commenters and Candidate Favourability"
        },
        "xaxis": {
         "anchor": "y",
         "domain": [
          0,
          0.94
         ],
         "title": {
          "text": "Time"
         }
        },
        "yaxis": {
         "anchor": "x",
         "domain": [
          0,
          1
         ],
         "title": {
          "text": "<b>Candidate</b> Favourability"
         }
        },
        "yaxis2": {
         "anchor": "x",
         "overlaying": "y",
         "side": "right",
         "title": {
          "text": "<b>Unique</b> Commenters"
         }
        }
       }
      },
      "text/html": [
       "<div>\n",
       "        \n",
       "        \n",
       "            <div id=\"b9af11bd-ce42-43f6-8f3d-c0402cbcc8cc\" class=\"plotly-graph-div\" style=\"height:525px; width:100%;\"></div>\n",
       "            <script type=\"text/javascript\">\n",
       "                require([\"plotly\"], function(Plotly) {\n",
       "                    window.PLOTLYENV=window.PLOTLYENV || {};\n",
       "                    \n",
       "                if (document.getElementById(\"b9af11bd-ce42-43f6-8f3d-c0402cbcc8cc\")) {\n",
       "                    Plotly.newPlot(\n",
       "                        'b9af11bd-ce42-43f6-8f3d-c0402cbcc8cc',\n",
       "                        [{\"legendgroup\": \"Joe Biden\", \"line\": {\"color\": \"#636EFA\", \"dash\": \"dash\", \"shape\": \"spline\"}, \"mode\": \"lines\", \"name\": \"JoeBiden Subreddit Commenters\", \"type\": \"scatter\", \"x\": [], \"xaxis\": \"x\", \"y\": [], \"yaxis\": \"y2\"}, {\"legendgroup\": \"Joe Biden\", \"line\": {\"color\": \"#636EFA\", \"shape\": \"spline\"}, \"mode\": \"lines\", \"name\": \"Joe Biden Polling Avg\", \"type\": \"scatter\", \"x\": [\"2019-01-31T00:00:00\", \"2019-02-28T00:00:00\", \"2019-03-31T00:00:00\", \"2019-04-30T00:00:00\", \"2019-05-31T00:00:00\", \"2019-06-30T00:00:00\", \"2019-07-31T00:00:00\", \"2019-08-31T00:00:00\", \"2019-09-30T00:00:00\", \"2019-10-31T00:00:00\", \"2019-11-30T00:00:00\", \"2019-12-31T00:00:00\", \"2020-01-31T00:00:00\", \"2020-02-29T00:00:00\", \"2020-03-31T00:00:00\"], \"xaxis\": \"x\", \"y\": [0.26342710997442453, 0.2702970297029703, 0.2787958115183246, 0.2396351575456053, 0.22526817640047675, 0.23087071240105542, 0.21328671328671328, 0.19055287171229202, 0.1682727946627131, 0.1836734693877551, 0.1805993690851735, 0.18830675778283978, 0.18356164383561643, 0.1620016963528414, 0.3395638629283489], \"yaxis\": \"y\"}, {\"legendgroup\": \"Bernie Sanders\", \"line\": {\"color\": \"#EF553B\", \"dash\": \"dash\", \"shape\": \"spline\"}, \"mode\": \"lines\", \"name\": \"SandersForPresident Subreddit Commenters\", \"type\": \"scatter\", \"x\": [], \"xaxis\": \"x\", \"y\": [], \"yaxis\": \"y2\"}, {\"legendgroup\": \"Bernie Sanders\", \"line\": {\"color\": \"#EF553B\", \"shape\": \"spline\"}, \"mode\": \"lines\", \"name\": \"Bernie Sanders Polling Avg\", \"type\": \"scatter\", \"x\": [\"2019-01-31T00:00:00\", \"2019-02-28T00:00:00\", \"2019-03-31T00:00:00\", \"2019-04-30T00:00:00\", \"2019-05-31T00:00:00\", \"2019-06-30T00:00:00\", \"2019-07-31T00:00:00\", \"2019-08-31T00:00:00\", \"2019-09-30T00:00:00\", \"2019-10-31T00:00:00\", \"2019-11-30T00:00:00\", \"2019-12-31T00:00:00\", \"2020-01-31T00:00:00\", \"2020-02-29T00:00:00\", \"2020-03-31T00:00:00\"], \"xaxis\": \"x\", \"y\": [0.31202046035805625, 0.31683168316831684, 0.3036649214659686, 0.3043117744610282, 0.2800953516090584, 0.27506596306068604, 0.2773892773892774, 0.3070316693505099, 0.2727946627131208, 0.2819349962207105, 0.2744479495268139, 0.2900531511009871, 0.2924657534246575, 0.3672603901611535, 0.573208722741433], \"yaxis\": \"y\"}, {\"legendgroup\": \"Amy Klobuchar\", \"line\": {\"color\": \"#00CC96\", \"dash\": \"dash\", \"shape\": \"spline\"}, \"mode\": \"lines\", \"name\": \"BaemyKlobaechar Subreddit Commenters\", \"type\": \"scatter\", \"x\": [], \"xaxis\": \"x\", \"y\": [], \"yaxis\": \"y2\"}, {\"legendgroup\": \"Amy Klobuchar\", \"line\": {\"color\": \"#00CC96\", \"shape\": \"spline\"}, \"mode\": \"lines\", \"name\": \"Amy Klobuchar Polling Avg\", \"type\": \"scatter\", \"x\": [\"2019-01-31T00:00:00\", \"2019-02-28T00:00:00\", \"2019-03-31T00:00:00\", \"2019-04-30T00:00:00\", \"2019-05-31T00:00:00\", \"2019-06-30T00:00:00\", \"2019-07-31T00:00:00\", \"2019-08-31T00:00:00\", \"2019-09-30T00:00:00\", \"2019-10-31T00:00:00\", \"2019-11-30T00:00:00\", \"2019-12-31T00:00:00\", \"2020-01-31T00:00:00\", \"2020-02-29T00:00:00\", \"2020-03-31T00:00:00\"], \"xaxis\": \"x\", \"y\": [0.020460358056265986, 0.02574257425742574, 0.032722513089005235, 0.026533996683250415, 0.023837902264600714, 0.023746701846965697, 0.02097902097902098, 0.01932367149758454, 0.026686434395848776, 0.025699168556311415, 0.02050473186119874, 0.022779043280182234, 0.03287671232876712, 0.04240882103477523, 0.0], \"yaxis\": \"y\"}, {\"legendgroup\": \"Elizabeth Warren\", \"line\": {\"color\": \"#AB63FA\", \"dash\": \"dash\", \"shape\": \"spline\"}, \"mode\": \"lines\", \"name\": \"ElizabethWarren Subreddit Commenters\", \"type\": \"scatter\", \"x\": [], \"xaxis\": \"x\", \"y\": [], \"yaxis\": \"y2\"}, {\"legendgroup\": \"Elizabeth Warren\", \"line\": {\"color\": \"#AB63FA\", \"shape\": \"spline\"}, \"mode\": \"lines\", \"name\": \"Elizabeth Warren Polling Avg\", \"type\": \"scatter\", \"x\": [\"2019-01-31T00:00:00\", \"2019-02-28T00:00:00\", \"2019-03-31T00:00:00\", \"2019-04-30T00:00:00\", \"2019-05-31T00:00:00\", \"2019-06-30T00:00:00\", \"2019-07-31T00:00:00\", \"2019-08-31T00:00:00\", \"2019-09-30T00:00:00\", \"2019-10-31T00:00:00\", \"2019-11-30T00:00:00\", \"2019-12-31T00:00:00\", \"2020-01-31T00:00:00\", \"2020-02-29T00:00:00\", \"2020-03-31T00:00:00\"], \"xaxis\": \"x\", \"y\": [0.07672634271099744, 0.10891089108910891, 0.1243455497382199, 0.1044776119402985, 0.13230035756853398, 0.1312664907651715, 0.1561771561771562, 0.16586151368760063, 0.16160118606375093, 0.17913832199546487, 0.17429022082018927, 0.16856492027334852, 0.16095890410958905, 0.18405428329092452, 0.0], \"yaxis\": \"y\"}, {\"legendgroup\": \"Pete Buttigieg\", \"line\": {\"color\": \"#FFA15A\", \"dash\": \"dash\", \"shape\": \"spline\"}, \"mode\": \"lines\", \"name\": \"Pete_Buttigieg Subreddit Commenters\", \"type\": \"scatter\", \"x\": [], \"xaxis\": \"x\", \"y\": [], \"yaxis\": \"y2\"}, {\"legendgroup\": \"Pete Buttigieg\", \"line\": {\"color\": \"#FFA15A\", \"shape\": \"spline\"}, \"mode\": \"lines\", \"name\": \"Pete Buttigieg Polling Avg\", \"type\": \"scatter\", \"x\": [\"2019-01-31T00:00:00\", \"2019-02-28T00:00:00\", \"2019-03-31T00:00:00\", \"2019-04-30T00:00:00\", \"2019-05-31T00:00:00\", \"2019-06-30T00:00:00\", \"2019-07-31T00:00:00\", \"2019-08-31T00:00:00\", \"2019-09-30T00:00:00\", \"2019-10-31T00:00:00\", \"2019-11-30T00:00:00\", \"2019-12-31T00:00:00\", \"2020-01-31T00:00:00\", \"2020-02-29T00:00:00\", \"2020-03-31T00:00:00\"], \"xaxis\": \"x\", \"y\": [0.01278772378516624, 0.009900990099009901, 0.02225130890052356, 0.0505804311774461, 0.06197854588796186, 0.052110817941952506, 0.06643356643356643, 0.06763285024154589, 0.05930318754633061, 0.05895691609977324, 0.06782334384858044, 0.05618830675778284, 0.06712328767123288, 0.08736217133163698, 0.0], \"yaxis\": \"y\"}, {\"legendgroup\": \"Andrew Yang\", \"line\": {\"color\": \"#19D3F3\", \"dash\": \"dash\", \"shape\": \"spline\"}, \"mode\": \"lines\", \"name\": \"YangForPresidentHQ Subreddit Commenters\", \"type\": \"scatter\", \"x\": [], \"xaxis\": \"x\", \"y\": [], \"yaxis\": \"y2\"}, {\"legendgroup\": \"Andrew Yang\", \"line\": {\"color\": \"#19D3F3\", \"shape\": \"spline\"}, \"mode\": \"lines\", \"name\": \"Andrew Yang Polling Avg\", \"type\": \"scatter\", \"x\": [\"2019-01-31T00:00:00\", \"2019-02-28T00:00:00\", \"2019-03-31T00:00:00\", \"2019-04-30T00:00:00\", \"2019-05-31T00:00:00\", \"2019-06-30T00:00:00\", \"2019-07-31T00:00:00\", \"2019-08-31T00:00:00\", \"2019-09-30T00:00:00\", \"2019-10-31T00:00:00\", \"2019-11-30T00:00:00\", \"2019-12-31T00:00:00\", \"2020-01-31T00:00:00\", \"2020-02-29T00:00:00\", \"2020-03-31T00:00:00\"], \"xaxis\": \"x\", \"y\": [0.0, 0.0, 0.028795811518324606, 0.0472636815920398, 0.060786650774731825, 0.06992084432717678, 0.0675990675990676, 0.08856682769726248, 0.13269088213491476, 0.13907785336356765, 0.14826498422712933, 0.14958238420653, 0.15205479452054796, 0.041560644614079725, 0.0], \"yaxis\": \"y\"}],\n",
       "                        {\"font\": {\"size\": 14}, \"legend\": {\"orientation\": \"v\", \"x\": 1.1, \"xanchor\": \"left\", \"y\": 1}, \"template\": {\"data\": {\"bar\": [{\"error_x\": {\"color\": \"rgb(36,36,36)\"}, \"error_y\": {\"color\": \"rgb(36,36,36)\"}, \"marker\": {\"line\": {\"color\": \"white\", \"width\": 0.5}}, \"type\": \"bar\"}], \"barpolar\": [{\"marker\": {\"line\": {\"color\": \"white\", \"width\": 0.5}}, \"type\": \"barpolar\"}], \"carpet\": [{\"aaxis\": {\"endlinecolor\": \"rgb(36,36,36)\", \"gridcolor\": \"white\", \"linecolor\": \"white\", \"minorgridcolor\": \"white\", \"startlinecolor\": \"rgb(36,36,36)\"}, \"baxis\": {\"endlinecolor\": \"rgb(36,36,36)\", \"gridcolor\": \"white\", \"linecolor\": \"white\", \"minorgridcolor\": \"white\", \"startlinecolor\": \"rgb(36,36,36)\"}, \"type\": \"carpet\"}], \"choropleth\": [{\"colorbar\": {\"outlinewidth\": 1, \"tickcolor\": \"rgb(36,36,36)\", \"ticks\": \"outside\"}, \"type\": \"choropleth\"}], \"contour\": [{\"colorbar\": {\"outlinewidth\": 1, \"tickcolor\": \"rgb(36,36,36)\", \"ticks\": \"outside\"}, \"colorscale\": [[0.0, \"#440154\"], [0.1111111111111111, \"#482878\"], [0.2222222222222222, \"#3e4989\"], [0.3333333333333333, \"#31688e\"], [0.4444444444444444, \"#26828e\"], [0.5555555555555556, \"#1f9e89\"], [0.6666666666666666, \"#35b779\"], [0.7777777777777778, \"#6ece58\"], [0.8888888888888888, \"#b5de2b\"], [1.0, \"#fde725\"]], \"type\": \"contour\"}], \"contourcarpet\": [{\"colorbar\": {\"outlinewidth\": 1, \"tickcolor\": \"rgb(36,36,36)\", \"ticks\": \"outside\"}, \"type\": \"contourcarpet\"}], \"heatmap\": [{\"colorbar\": {\"outlinewidth\": 1, \"tickcolor\": \"rgb(36,36,36)\", \"ticks\": \"outside\"}, \"colorscale\": [[0.0, \"#440154\"], [0.1111111111111111, \"#482878\"], [0.2222222222222222, \"#3e4989\"], [0.3333333333333333, \"#31688e\"], [0.4444444444444444, \"#26828e\"], [0.5555555555555556, \"#1f9e89\"], [0.6666666666666666, \"#35b779\"], [0.7777777777777778, \"#6ece58\"], [0.8888888888888888, \"#b5de2b\"], [1.0, \"#fde725\"]], \"type\": \"heatmap\"}], \"heatmapgl\": [{\"colorbar\": {\"outlinewidth\": 1, \"tickcolor\": \"rgb(36,36,36)\", \"ticks\": \"outside\"}, \"colorscale\": [[0.0, \"#440154\"], [0.1111111111111111, \"#482878\"], [0.2222222222222222, \"#3e4989\"], [0.3333333333333333, \"#31688e\"], [0.4444444444444444, \"#26828e\"], [0.5555555555555556, \"#1f9e89\"], [0.6666666666666666, \"#35b779\"], [0.7777777777777778, \"#6ece58\"], [0.8888888888888888, \"#b5de2b\"], [1.0, \"#fde725\"]], \"type\": \"heatmapgl\"}], \"histogram\": [{\"marker\": {\"line\": {\"color\": \"white\", \"width\": 0.6}}, \"type\": \"histogram\"}], \"histogram2d\": [{\"colorbar\": {\"outlinewidth\": 1, \"tickcolor\": \"rgb(36,36,36)\", \"ticks\": \"outside\"}, \"colorscale\": [[0.0, \"#440154\"], [0.1111111111111111, \"#482878\"], [0.2222222222222222, \"#3e4989\"], [0.3333333333333333, \"#31688e\"], [0.4444444444444444, \"#26828e\"], [0.5555555555555556, \"#1f9e89\"], [0.6666666666666666, \"#35b779\"], [0.7777777777777778, \"#6ece58\"], [0.8888888888888888, \"#b5de2b\"], [1.0, \"#fde725\"]], \"type\": \"histogram2d\"}], \"histogram2dcontour\": [{\"colorbar\": {\"outlinewidth\": 1, \"tickcolor\": \"rgb(36,36,36)\", \"ticks\": \"outside\"}, \"colorscale\": [[0.0, \"#440154\"], [0.1111111111111111, \"#482878\"], [0.2222222222222222, \"#3e4989\"], [0.3333333333333333, \"#31688e\"], [0.4444444444444444, \"#26828e\"], [0.5555555555555556, \"#1f9e89\"], [0.6666666666666666, \"#35b779\"], [0.7777777777777778, \"#6ece58\"], [0.8888888888888888, \"#b5de2b\"], [1.0, \"#fde725\"]], \"type\": \"histogram2dcontour\"}], \"mesh3d\": [{\"colorbar\": {\"outlinewidth\": 1, \"tickcolor\": \"rgb(36,36,36)\", \"ticks\": \"outside\"}, \"type\": \"mesh3d\"}], \"parcoords\": [{\"line\": {\"colorbar\": {\"outlinewidth\": 1, \"tickcolor\": \"rgb(36,36,36)\", \"ticks\": \"outside\"}}, \"type\": \"parcoords\"}], \"pie\": [{\"automargin\": true, \"type\": \"pie\"}], \"scatter\": [{\"marker\": {\"colorbar\": {\"outlinewidth\": 1, \"tickcolor\": \"rgb(36,36,36)\", \"ticks\": \"outside\"}}, \"type\": \"scatter\"}], \"scatter3d\": [{\"line\": {\"colorbar\": {\"outlinewidth\": 1, \"tickcolor\": \"rgb(36,36,36)\", \"ticks\": \"outside\"}}, \"marker\": {\"colorbar\": {\"outlinewidth\": 1, \"tickcolor\": \"rgb(36,36,36)\", \"ticks\": \"outside\"}}, \"type\": \"scatter3d\"}], \"scattercarpet\": [{\"marker\": {\"colorbar\": {\"outlinewidth\": 1, \"tickcolor\": \"rgb(36,36,36)\", \"ticks\": \"outside\"}}, \"type\": \"scattercarpet\"}], \"scattergeo\": [{\"marker\": {\"colorbar\": {\"outlinewidth\": 1, \"tickcolor\": \"rgb(36,36,36)\", \"ticks\": \"outside\"}}, \"type\": \"scattergeo\"}], \"scattergl\": [{\"marker\": {\"colorbar\": {\"outlinewidth\": 1, \"tickcolor\": \"rgb(36,36,36)\", \"ticks\": \"outside\"}}, \"type\": \"scattergl\"}], \"scattermapbox\": [{\"marker\": {\"colorbar\": {\"outlinewidth\": 1, \"tickcolor\": \"rgb(36,36,36)\", \"ticks\": \"outside\"}}, \"type\": \"scattermapbox\"}], \"scatterpolar\": [{\"marker\": {\"colorbar\": {\"outlinewidth\": 1, \"tickcolor\": \"rgb(36,36,36)\", \"ticks\": \"outside\"}}, \"type\": \"scatterpolar\"}], \"scatterpolargl\": [{\"marker\": {\"colorbar\": {\"outlinewidth\": 1, \"tickcolor\": \"rgb(36,36,36)\", \"ticks\": \"outside\"}}, \"type\": \"scatterpolargl\"}], \"scatterternary\": [{\"marker\": {\"colorbar\": {\"outlinewidth\": 1, \"tickcolor\": \"rgb(36,36,36)\", \"ticks\": \"outside\"}}, \"type\": \"scatterternary\"}], \"surface\": [{\"colorbar\": {\"outlinewidth\": 1, \"tickcolor\": \"rgb(36,36,36)\", \"ticks\": \"outside\"}, \"colorscale\": [[0.0, \"#440154\"], [0.1111111111111111, \"#482878\"], [0.2222222222222222, \"#3e4989\"], [0.3333333333333333, \"#31688e\"], [0.4444444444444444, \"#26828e\"], [0.5555555555555556, \"#1f9e89\"], [0.6666666666666666, \"#35b779\"], [0.7777777777777778, \"#6ece58\"], [0.8888888888888888, \"#b5de2b\"], [1.0, \"#fde725\"]], \"type\": \"surface\"}], \"table\": [{\"cells\": {\"fill\": {\"color\": \"rgb(237,237,237)\"}, \"line\": {\"color\": \"white\"}}, \"header\": {\"fill\": {\"color\": \"rgb(217,217,217)\"}, \"line\": {\"color\": \"white\"}}, \"type\": \"table\"}]}, \"layout\": {\"annotationdefaults\": {\"arrowhead\": 0, \"arrowwidth\": 1}, \"coloraxis\": {\"colorbar\": {\"outlinewidth\": 1, \"tickcolor\": \"rgb(36,36,36)\", \"ticks\": \"outside\"}}, \"colorscale\": {\"diverging\": [[0.0, \"rgb(103,0,31)\"], [0.1, \"rgb(178,24,43)\"], [0.2, \"rgb(214,96,77)\"], [0.3, \"rgb(244,165,130)\"], [0.4, \"rgb(253,219,199)\"], [0.5, \"rgb(247,247,247)\"], [0.6, \"rgb(209,229,240)\"], [0.7, \"rgb(146,197,222)\"], [0.8, \"rgb(67,147,195)\"], [0.9, \"rgb(33,102,172)\"], [1.0, \"rgb(5,48,97)\"]], \"sequential\": [[0.0, \"#440154\"], [0.1111111111111111, \"#482878\"], [0.2222222222222222, \"#3e4989\"], [0.3333333333333333, \"#31688e\"], [0.4444444444444444, \"#26828e\"], [0.5555555555555556, \"#1f9e89\"], [0.6666666666666666, \"#35b779\"], [0.7777777777777778, \"#6ece58\"], [0.8888888888888888, \"#b5de2b\"], [1.0, \"#fde725\"]], \"sequentialminus\": [[0.0, \"#440154\"], [0.1111111111111111, \"#482878\"], [0.2222222222222222, \"#3e4989\"], [0.3333333333333333, \"#31688e\"], [0.4444444444444444, \"#26828e\"], [0.5555555555555556, \"#1f9e89\"], [0.6666666666666666, \"#35b779\"], [0.7777777777777778, \"#6ece58\"], [0.8888888888888888, \"#b5de2b\"], [1.0, \"#fde725\"]]}, \"colorway\": [\"#1F77B4\", \"#FF7F0E\", \"#2CA02C\", \"#D62728\", \"#9467BD\", \"#8C564B\", \"#E377C2\", \"#7F7F7F\", \"#BCBD22\", \"#17BECF\"], \"font\": {\"color\": \"rgb(36,36,36)\"}, \"geo\": {\"bgcolor\": \"white\", \"lakecolor\": \"white\", \"landcolor\": \"white\", \"showlakes\": true, \"showland\": true, \"subunitcolor\": \"white\"}, \"hoverlabel\": {\"align\": \"left\"}, \"hovermode\": \"closest\", \"mapbox\": {\"style\": \"light\"}, \"paper_bgcolor\": \"white\", \"plot_bgcolor\": \"white\", \"polar\": {\"angularaxis\": {\"gridcolor\": \"rgb(232,232,232)\", \"linecolor\": \"rgb(36,36,36)\", \"showgrid\": false, \"showline\": true, \"ticks\": \"outside\"}, \"bgcolor\": \"white\", \"radialaxis\": {\"gridcolor\": \"rgb(232,232,232)\", \"linecolor\": \"rgb(36,36,36)\", \"showgrid\": false, \"showline\": true, \"ticks\": \"outside\"}}, \"scene\": {\"xaxis\": {\"backgroundcolor\": \"white\", \"gridcolor\": \"rgb(232,232,232)\", \"gridwidth\": 2, \"linecolor\": \"rgb(36,36,36)\", \"showbackground\": true, \"showgrid\": false, \"showline\": true, \"ticks\": \"outside\", \"zeroline\": false, \"zerolinecolor\": \"rgb(36,36,36)\"}, \"yaxis\": {\"backgroundcolor\": \"white\", \"gridcolor\": \"rgb(232,232,232)\", \"gridwidth\": 2, \"linecolor\": \"rgb(36,36,36)\", \"showbackground\": true, \"showgrid\": false, \"showline\": true, \"ticks\": \"outside\", \"zeroline\": false, \"zerolinecolor\": \"rgb(36,36,36)\"}, \"zaxis\": {\"backgroundcolor\": \"white\", \"gridcolor\": \"rgb(232,232,232)\", \"gridwidth\": 2, \"linecolor\": \"rgb(36,36,36)\", \"showbackground\": true, \"showgrid\": false, \"showline\": true, \"ticks\": \"outside\", \"zeroline\": false, \"zerolinecolor\": \"rgb(36,36,36)\"}}, \"shapedefaults\": {\"fillcolor\": \"black\", \"line\": {\"width\": 0}, \"opacity\": 0.3}, \"ternary\": {\"aaxis\": {\"gridcolor\": \"rgb(232,232,232)\", \"linecolor\": \"rgb(36,36,36)\", \"showgrid\": false, \"showline\": true, \"ticks\": \"outside\"}, \"baxis\": {\"gridcolor\": \"rgb(232,232,232)\", \"linecolor\": \"rgb(36,36,36)\", \"showgrid\": false, \"showline\": true, \"ticks\": \"outside\"}, \"bgcolor\": \"white\", \"caxis\": {\"gridcolor\": \"rgb(232,232,232)\", \"linecolor\": \"rgb(36,36,36)\", \"showgrid\": false, \"showline\": true, \"ticks\": \"outside\"}}, \"title\": {\"x\": 0.05}, \"xaxis\": {\"automargin\": true, \"gridcolor\": \"rgb(232,232,232)\", \"linecolor\": \"rgb(36,36,36)\", \"showgrid\": false, \"showline\": true, \"ticks\": \"outside\", \"title\": {\"standoff\": 15}, \"zeroline\": false, \"zerolinecolor\": \"rgb(36,36,36)\"}, \"yaxis\": {\"automargin\": true, \"gridcolor\": \"rgb(232,232,232)\", \"linecolor\": \"rgb(36,36,36)\", \"showgrid\": false, \"showline\": true, \"ticks\": \"outside\", \"title\": {\"standoff\": 15}, \"zeroline\": false, \"zerolinecolor\": \"rgb(36,36,36)\"}}}, \"title\": {\"text\": \"Dual Axis - Unique Commenters and Candidate Favourability\"}, \"xaxis\": {\"anchor\": \"y\", \"domain\": [0.0, 0.94], \"title\": {\"text\": \"Time\"}}, \"yaxis\": {\"anchor\": \"x\", \"domain\": [0.0, 1.0], \"title\": {\"text\": \"<b>Candidate</b> Favourability\"}}, \"yaxis2\": {\"anchor\": \"x\", \"overlaying\": \"y\", \"side\": \"right\", \"title\": {\"text\": \"<b>Unique</b> Commenters\"}}},\n",
       "                        {\"responsive\": true}\n",
       "                    ).then(function(){\n",
       "                            \n",
       "var gd = document.getElementById('b9af11bd-ce42-43f6-8f3d-c0402cbcc8cc');\n",
       "var x = new MutationObserver(function (mutations, observer) {{\n",
       "        var display = window.getComputedStyle(gd).display;\n",
       "        if (!display || display === 'none') {{\n",
       "            console.log([gd, 'removed!']);\n",
       "            Plotly.purge(gd);\n",
       "            observer.disconnect();\n",
       "        }}\n",
       "}});\n",
       "\n",
       "// Listen for the removal of the full notebook cells\n",
       "var notebookContainer = gd.closest('#notebook-container');\n",
       "if (notebookContainer) {{\n",
       "    x.observe(notebookContainer, {childList: true});\n",
       "}}\n",
       "\n",
       "// Listen for the clearing of the current output cell\n",
       "var outputEl = gd.closest('.output');\n",
       "if (outputEl) {{\n",
       "    x.observe(outputEl, {childList: true});\n",
       "}}\n",
       "\n",
       "                        })\n",
       "                };\n",
       "                });\n",
       "            </script>\n",
       "        </div>"
      ]
     },
     "metadata": {},
     "output_type": "display_data"
    }
   ],
   "source": [
    "from plotly.subplots import make_subplots\n",
    "\n",
    "# Create figure with secondary y-axis\n",
    "fig = make_subplots(specs=[[{\"secondary_y\": True}]])\n",
    "\n",
    "# Add subreddit comments\n",
    "for sub,cand,col in zip(left_candidates,pretty_names,concat_col_names):\n",
    "    data = n_unique[n_unique[\"subreddit\"] == sub]\n",
    "    fig.add_trace(\n",
    "        go.Scatter(x=data[\"date\"],\n",
    "                   y=data[\"n_unique\"],\n",
    "                   name=\"{} Subreddit Commenters\".format(sub),\n",
    "                   mode='lines',\n",
    "                   legendgroup=cand,\n",
    "                   line_shape=\"spline\",\n",
    "                   line=dict(color=mapping[sub],dash='dash')),\n",
    "        secondary_y=True)\n",
    "\n",
    "    # Add from media coverage\n",
    "    fig.add_trace(go.Scatter(x=young_voters_agg[\"date\"],\n",
    "                             y=young_voters_agg[col], \n",
    "                             mode='lines',\n",
    "                             legendgroup=cand,\n",
    "                             line_shape=\"spline\",\n",
    "                             name=\"{} Polling Avg\".format(cand),\n",
    "                             line=dict(color=poll_mapping[cand])\n",
    "                            ),\n",
    "                 secondary_y=False)\n",
    "\n",
    "\n",
    "\n",
    "# Add figure title\n",
    "fig.update_layout(\n",
    "    font=dict(size=14),\n",
    "    title_text=\"Dual Axis - Unique Commenters and Candidate Favourability\",\n",
    "    template=\"simple_white\",\n",
    "    legend=dict(orientation='v', x=1.1, xanchor='left', y=1),\n",
    ")\n",
    "\n",
    "fig.update_xaxes(title_text=\"Time\")\n",
    "\n",
    "# Set y-axes titles\n",
    "fig.update_yaxes(title_text=\"<b>Candidate</b> Favourability\", secondary_y=False)\n",
    "fig.update_yaxes(title_text=\"<b>Unique</b> Commenters\", secondary_y=True)\n",
    "# fig.write_html(\"visualizations/temporal/{}_n-unique_vs_polling_avg.html\".format(TIME_FRAME))\n",
    "fig.show()"
   ]
  },
  {
   "cell_type": "markdown",
   "metadata": {},
   "source": [
    "## Correlation "
   ]
  },
  {
   "cell_type": "code",
   "execution_count": 84,
   "metadata": {},
   "outputs": [
    {
     "data": {
      "text/html": [
       "<div>\n",
       "<style scoped>\n",
       "    .dataframe tbody tr th:only-of-type {\n",
       "        vertical-align: middle;\n",
       "    }\n",
       "\n",
       "    .dataframe tbody tr th {\n",
       "        vertical-align: top;\n",
       "    }\n",
       "\n",
       "    .dataframe thead th {\n",
       "        text-align: right;\n",
       "    }\n",
       "</style>\n",
       "<table border=\"1\" class=\"dataframe\">\n",
       "  <thead>\n",
       "    <tr style=\"text-align: right;\">\n",
       "      <th></th>\n",
       "      <th>date</th>\n",
       "      <th>candidate</th>\n",
       "      <th>polling_avg</th>\n",
       "      <th>n_unique</th>\n",
       "    </tr>\n",
       "  </thead>\n",
       "  <tbody>\n",
       "    <tr>\n",
       "      <th>0</th>\n",
       "      <td>2019-01</td>\n",
       "      <td>Amy Klobuchar</td>\n",
       "      <td>0.020460</td>\n",
       "      <td>37</td>\n",
       "    </tr>\n",
       "    <tr>\n",
       "      <th>1</th>\n",
       "      <td>2019-01</td>\n",
       "      <td>Andrew Yang</td>\n",
       "      <td>0.000000</td>\n",
       "      <td>35</td>\n",
       "    </tr>\n",
       "    <tr>\n",
       "      <th>2</th>\n",
       "      <td>2019-01</td>\n",
       "      <td>Bernie Sanders</td>\n",
       "      <td>0.312020</td>\n",
       "      <td>5508</td>\n",
       "    </tr>\n",
       "    <tr>\n",
       "      <th>3</th>\n",
       "      <td>2019-01</td>\n",
       "      <td>Elizabeth Warren</td>\n",
       "      <td>0.076726</td>\n",
       "      <td>120</td>\n",
       "    </tr>\n",
       "    <tr>\n",
       "      <th>4</th>\n",
       "      <td>2019-01</td>\n",
       "      <td>Joe Biden</td>\n",
       "      <td>0.263427</td>\n",
       "      <td>1</td>\n",
       "    </tr>\n",
       "  </tbody>\n",
       "</table>\n",
       "</div>"
      ],
      "text/plain": [
       "      date         candidate  polling_avg  n_unique\n",
       "0  2019-01     Amy Klobuchar     0.020460        37\n",
       "1  2019-01       Andrew Yang     0.000000        35\n",
       "2  2019-01    Bernie Sanders     0.312020      5508\n",
       "3  2019-01  Elizabeth Warren     0.076726       120\n",
       "4  2019-01         Joe Biden     0.263427         1"
      ]
     },
     "execution_count": 84,
     "metadata": {},
     "output_type": "execute_result"
    }
   ],
   "source": [
    "n_unique[\"date\"] = n_unique[\"date\"].dt.to_period('M')\n",
    "m = {\n",
    "    \"SandersForPresident\": \"Bernie Sanders\",\n",
    "    \"BaemyKlobaechar\": \"Amy Klobuchar\",\n",
    "    \"JoeBiden\": \"Joe Biden\",\n",
    "    \"ElizabethWarren\": \"Elizabeth Warren\",\n",
    "    \"Pete_Buttigieg\": \"Pete Buttigieg\",\n",
    "    \"YangForPresidentHQ\": \"Andrew Yang\"\n",
    "}\n",
    "n_unique[\"subreddit\"] = n_unique[\"subreddit\"].apply(lambda x : m[x])\n",
    "polling_commenters = pd.merge(polling_comments_df, n_unique,  how='inner', left_on=['date','candidate'], right_on = ['date','subreddit']).sort_values([\"date\",\"candidate\"])\n",
    "polling_commenters = polling_commenters[[\"date\",\"candidate\",\"polling_avg\",\"n_unique\"]]\n",
    "polling_commenters\n",
    "\n",
    "polling_commenters_young = pd.merge(polling_comments_df_young, n_unique,  how='inner', left_on=['date','candidate'], right_on = ['date','subreddit']).sort_values([\"date\",\"candidate\"])\n",
    "polling_commenters_young = polling_commenters_young[[\"date\",\"candidate\",\"polling_avg\",\"n_unique\"]]\n",
    "polling_commenters_young.head()"
   ]
  },
  {
   "cell_type": "code",
   "execution_count": 85,
   "metadata": {},
   "outputs": [
    {
     "data": {
      "application/vnd.plotly.v1+json": {
       "config": {
        "plotlyServerURL": "https://plot.ly"
       },
       "data": [
        {
         "legendgroup": "Joe Biden",
         "marker": {
          "color": "#636EFA"
         },
         "mode": "markers",
         "name": "Joe Biden",
         "type": "scatter",
         "x": [
          0.2814865794907089,
          0.3145687364097608,
          0.30970017636684305,
          0.2845849802371542,
          0.292755991285403,
          0.27526015441423296,
          0.26872516050137574,
          0.24843796489140138,
          0.24300155520995334,
          0.22868217054263565,
          0.2298477157360406,
          0.21682393093756275
         ],
         "xaxis": "x",
         "y": [
          1,
          8,
          9,
          169,
          250,
          269,
          186,
          309,
          322,
          220,
          258,
          416
         ],
         "yaxis": "y"
        },
        {
         "legendgroup": "Joe Biden",
         "marker": {
          "color": "#636EFA"
         },
         "mode": "markers",
         "name": "Joe Biden",
         "showlegend": false,
         "type": "scatter",
         "x": [
          0.26342710997442453,
          0.2702970297029703,
          0.2787958115183246,
          0.2396351575456053,
          0.22526817640047675,
          0.23087071240105542,
          0.21328671328671328,
          0.19055287171229202,
          0.1682727946627131,
          0.1836734693877551,
          0.1805993690851735,
          0.18830675778283978
         ],
         "xaxis": "x2",
         "y": [
          1,
          8,
          9,
          169,
          250,
          269,
          186,
          309,
          322,
          220,
          258,
          416
         ],
         "yaxis": "y2"
        },
        {
         "legendgroup": "Bernie Sanders",
         "marker": {
          "color": "#EF553B"
         },
         "mode": "markers",
         "name": "Bernie Sanders",
         "type": "scatter",
         "x": [
          0.24088093599449414,
          0.24861077554964967,
          0.24761904761904763,
          0.23715415019762845,
          0.21922657952069716,
          0.22054380664652568,
          0.21094466523998778,
          0.22433799464445106,
          0.20820373250388802,
          0.21201550387596899,
          0.20588832487309644,
          0.22565749849427827
         ],
         "xaxis": "x",
         "y": [
          5508,
          11591,
          11493,
          10082,
          7374,
          17657,
          11439,
          19283,
          16040,
          14923,
          12670,
          18982
         ],
         "yaxis": "y"
        },
        {
         "legendgroup": "Bernie Sanders",
         "marker": {
          "color": "#EF553B"
         },
         "mode": "markers",
         "name": "Bernie Sanders",
         "showlegend": false,
         "type": "scatter",
         "x": [
          0.31202046035805625,
          0.31683168316831684,
          0.3036649214659686,
          0.3043117744610282,
          0.2800953516090584,
          0.27506596306068604,
          0.2773892773892774,
          0.3070316693505099,
          0.2727946627131208,
          0.2819349962207105,
          0.2744479495268139,
          0.2900531511009871
         ],
         "xaxis": "x2",
         "y": [
          5508,
          11591,
          11493,
          10082,
          7374,
          17657,
          11439,
          19283,
          16040,
          14923,
          12670,
          18982
         ],
         "yaxis": "y2"
        },
        {
         "legendgroup": "Amy Klobuchar",
         "marker": {
          "color": "#00CC96"
         },
         "mode": "markers",
         "name": "Amy Klobuchar",
         "type": "scatter",
         "x": [
          0.04198210598761184,
          0.04807924619473303,
          0.05291005291005291,
          0.04413702239789196,
          0.04357298474945534,
          0.04447801275595838,
          0.04188321614185264,
          0.03882772984230884,
          0.04743390357698289,
          0.05406976744186046,
          0.055228426395939084,
          0.05280064244127685
         ],
         "xaxis": "x",
         "y": [
          37,
          98,
          19,
          18,
          7,
          16,
          12,
          32,
          40,
          37,
          35,
          71
         ],
         "yaxis": "y"
        },
        {
         "legendgroup": "Amy Klobuchar",
         "marker": {
          "color": "#00CC96"
         },
         "mode": "markers",
         "name": "Amy Klobuchar",
         "showlegend": false,
         "type": "scatter",
         "x": [
          0.020460358056265986,
          0.02574257425742574,
          0.032722513089005235,
          0.026533996683250415,
          0.023837902264600714,
          0.023746701846965697,
          0.02097902097902098,
          0.01932367149758454,
          0.026686434395848776,
          0.025699168556311415,
          0.02050473186119874,
          0.022779043280182234
         ],
         "xaxis": "x2",
         "y": [
          37,
          98,
          19,
          18,
          7,
          16,
          12,
          32,
          40,
          37,
          35,
          71
         ],
         "yaxis": "y2"
        },
        {
         "legendgroup": "Elizabeth Warren",
         "marker": {
          "color": "#AB63FA"
         },
         "mode": "markers",
         "name": "Elizabeth Warren",
         "type": "scatter",
         "x": [
          0.12456985547143841,
          0.13723121526938875,
          0.13686067019400353,
          0.12472551602986386,
          0.14079520697167755,
          0.15777106411547498,
          0.17639865484561296,
          0.17643558464742637,
          0.18409797822706064,
          0.18895348837209303,
          0.18111675126903554,
          0.17265609315398514
         ],
         "xaxis": "x",
         "y": [
          120,
          148,
          142,
          470,
          836,
          1431,
          1411,
          1587,
          2083,
          2468,
          2331,
          1668
         ],
         "yaxis": "y"
        },
        {
         "legendgroup": "Elizabeth Warren",
         "marker": {
          "color": "#AB63FA"
         },
         "mode": "markers",
         "name": "Elizabeth Warren",
         "showlegend": false,
         "type": "scatter",
         "x": [
          0.07672634271099744,
          0.10891089108910891,
          0.1243455497382199,
          0.1044776119402985,
          0.13230035756853398,
          0.1312664907651715,
          0.1561771561771562,
          0.16586151368760063,
          0.16160118606375093,
          0.17913832199546487,
          0.17429022082018927,
          0.16856492027334852
         ],
         "xaxis": "x2",
         "y": [
          120,
          148,
          142,
          470,
          836,
          1431,
          1411,
          1587,
          2083,
          2468,
          2331,
          1668
         ],
         "yaxis": "y2"
        },
        {
         "legendgroup": "Pete Buttigieg",
         "marker": {
          "color": "#FFA15A"
         },
         "mode": "markers",
         "name": "Pete Buttigieg",
         "type": "scatter",
         "x": [
          0.012388162422573986,
          0.01836192316984779,
          0.039858906525573196,
          0.09003074220465525,
          0.09313725490196079,
          0.0931520644511581,
          0.09293793946805258,
          0.09654864623623921,
          0.0942846034214619,
          0.09709302325581395,
          0.10091370558375634,
          0.10279060429632604
         ],
         "xaxis": "x",
         "y": [
          8,
          32,
          1839,
          4549,
          2561,
          2828,
          2893,
          2430,
          2089,
          2364,
          3090,
          3520
         ],
         "yaxis": "y"
        },
        {
         "legendgroup": "Pete Buttigieg",
         "marker": {
          "color": "#FFA15A"
         },
         "mode": "markers",
         "name": "Pete Buttigieg",
         "showlegend": false,
         "type": "scatter",
         "x": [
          0.01278772378516624,
          0.009900990099009901,
          0.02225130890052356,
          0.0505804311774461,
          0.06197854588796186,
          0.052110817941952506,
          0.06643356643356643,
          0.06763285024154589,
          0.05930318754633061,
          0.05895691609977324,
          0.06782334384858044,
          0.05618830675778284
         ],
         "xaxis": "x2",
         "y": [
          8,
          32,
          1839,
          4549,
          2561,
          2828,
          2893,
          2430,
          2089,
          2364,
          3090,
          3520
         ],
         "yaxis": "y2"
        },
        {
         "legendgroup": "Andrew Yang",
         "marker": {
          "color": "#19D3F3"
         },
         "mode": "markers",
         "name": "Andrew Yang",
         "type": "scatter",
         "x": [
          0,
          0,
          0.015873015873015872,
          0.028765920070267896,
          0.03867102396514161,
          0.04380664652567976,
          0.047386120452461024,
          0.06233263909550729,
          0.0812597200622084,
          0.09186046511627907,
          0.08730964467005076,
          0.10078297530616342
         ],
         "xaxis": "x",
         "y": [
          35,
          580,
          3953,
          3944,
          3122,
          5522,
          8129,
          13622,
          14337,
          14475,
          13588,
          17411
         ],
         "yaxis": "y"
        },
        {
         "legendgroup": "Andrew Yang",
         "marker": {
          "color": "#19D3F3"
         },
         "mode": "markers",
         "name": "Andrew Yang",
         "showlegend": false,
         "type": "scatter",
         "x": [
          0,
          0,
          0.028795811518324606,
          0.0472636815920398,
          0.060786650774731825,
          0.06992084432717678,
          0.0675990675990676,
          0.08856682769726248,
          0.13269088213491476,
          0.13907785336356765,
          0.14826498422712933,
          0.14958238420653
         ],
         "xaxis": "x2",
         "y": [
          35,
          580,
          3953,
          3944,
          3122,
          5522,
          8129,
          13622,
          14337,
          14475,
          13588,
          17411
         ],
         "yaxis": "y2"
        }
       ],
       "layout": {
        "annotations": [
         {
          "font": {
           "size": 16
          },
          "showarrow": false,
          "text": "Overall Populous",
          "x": 0.225,
          "xanchor": "center",
          "xref": "paper",
          "y": 1,
          "yanchor": "bottom",
          "yref": "paper"
         },
         {
          "font": {
           "size": 16
          },
          "showarrow": false,
          "text": "18-29 Age Group",
          "x": 0.775,
          "xanchor": "center",
          "xref": "paper",
          "y": 1,
          "yanchor": "bottom",
          "yref": "paper"
         }
        ],
        "font": {
         "size": 18
        },
        "template": {
         "data": {
          "bar": [
           {
            "error_x": {
             "color": "rgb(36,36,36)"
            },
            "error_y": {
             "color": "rgb(36,36,36)"
            },
            "marker": {
             "line": {
              "color": "white",
              "width": 0.5
             }
            },
            "type": "bar"
           }
          ],
          "barpolar": [
           {
            "marker": {
             "line": {
              "color": "white",
              "width": 0.5
             }
            },
            "type": "barpolar"
           }
          ],
          "carpet": [
           {
            "aaxis": {
             "endlinecolor": "rgb(36,36,36)",
             "gridcolor": "white",
             "linecolor": "white",
             "minorgridcolor": "white",
             "startlinecolor": "rgb(36,36,36)"
            },
            "baxis": {
             "endlinecolor": "rgb(36,36,36)",
             "gridcolor": "white",
             "linecolor": "white",
             "minorgridcolor": "white",
             "startlinecolor": "rgb(36,36,36)"
            },
            "type": "carpet"
           }
          ],
          "choropleth": [
           {
            "colorbar": {
             "outlinewidth": 1,
             "tickcolor": "rgb(36,36,36)",
             "ticks": "outside"
            },
            "type": "choropleth"
           }
          ],
          "contour": [
           {
            "colorbar": {
             "outlinewidth": 1,
             "tickcolor": "rgb(36,36,36)",
             "ticks": "outside"
            },
            "colorscale": [
             [
              0,
              "#440154"
             ],
             [
              0.1111111111111111,
              "#482878"
             ],
             [
              0.2222222222222222,
              "#3e4989"
             ],
             [
              0.3333333333333333,
              "#31688e"
             ],
             [
              0.4444444444444444,
              "#26828e"
             ],
             [
              0.5555555555555556,
              "#1f9e89"
             ],
             [
              0.6666666666666666,
              "#35b779"
             ],
             [
              0.7777777777777778,
              "#6ece58"
             ],
             [
              0.8888888888888888,
              "#b5de2b"
             ],
             [
              1,
              "#fde725"
             ]
            ],
            "type": "contour"
           }
          ],
          "contourcarpet": [
           {
            "colorbar": {
             "outlinewidth": 1,
             "tickcolor": "rgb(36,36,36)",
             "ticks": "outside"
            },
            "type": "contourcarpet"
           }
          ],
          "heatmap": [
           {
            "colorbar": {
             "outlinewidth": 1,
             "tickcolor": "rgb(36,36,36)",
             "ticks": "outside"
            },
            "colorscale": [
             [
              0,
              "#440154"
             ],
             [
              0.1111111111111111,
              "#482878"
             ],
             [
              0.2222222222222222,
              "#3e4989"
             ],
             [
              0.3333333333333333,
              "#31688e"
             ],
             [
              0.4444444444444444,
              "#26828e"
             ],
             [
              0.5555555555555556,
              "#1f9e89"
             ],
             [
              0.6666666666666666,
              "#35b779"
             ],
             [
              0.7777777777777778,
              "#6ece58"
             ],
             [
              0.8888888888888888,
              "#b5de2b"
             ],
             [
              1,
              "#fde725"
             ]
            ],
            "type": "heatmap"
           }
          ],
          "heatmapgl": [
           {
            "colorbar": {
             "outlinewidth": 1,
             "tickcolor": "rgb(36,36,36)",
             "ticks": "outside"
            },
            "colorscale": [
             [
              0,
              "#440154"
             ],
             [
              0.1111111111111111,
              "#482878"
             ],
             [
              0.2222222222222222,
              "#3e4989"
             ],
             [
              0.3333333333333333,
              "#31688e"
             ],
             [
              0.4444444444444444,
              "#26828e"
             ],
             [
              0.5555555555555556,
              "#1f9e89"
             ],
             [
              0.6666666666666666,
              "#35b779"
             ],
             [
              0.7777777777777778,
              "#6ece58"
             ],
             [
              0.8888888888888888,
              "#b5de2b"
             ],
             [
              1,
              "#fde725"
             ]
            ],
            "type": "heatmapgl"
           }
          ],
          "histogram": [
           {
            "marker": {
             "line": {
              "color": "white",
              "width": 0.6
             }
            },
            "type": "histogram"
           }
          ],
          "histogram2d": [
           {
            "colorbar": {
             "outlinewidth": 1,
             "tickcolor": "rgb(36,36,36)",
             "ticks": "outside"
            },
            "colorscale": [
             [
              0,
              "#440154"
             ],
             [
              0.1111111111111111,
              "#482878"
             ],
             [
              0.2222222222222222,
              "#3e4989"
             ],
             [
              0.3333333333333333,
              "#31688e"
             ],
             [
              0.4444444444444444,
              "#26828e"
             ],
             [
              0.5555555555555556,
              "#1f9e89"
             ],
             [
              0.6666666666666666,
              "#35b779"
             ],
             [
              0.7777777777777778,
              "#6ece58"
             ],
             [
              0.8888888888888888,
              "#b5de2b"
             ],
             [
              1,
              "#fde725"
             ]
            ],
            "type": "histogram2d"
           }
          ],
          "histogram2dcontour": [
           {
            "colorbar": {
             "outlinewidth": 1,
             "tickcolor": "rgb(36,36,36)",
             "ticks": "outside"
            },
            "colorscale": [
             [
              0,
              "#440154"
             ],
             [
              0.1111111111111111,
              "#482878"
             ],
             [
              0.2222222222222222,
              "#3e4989"
             ],
             [
              0.3333333333333333,
              "#31688e"
             ],
             [
              0.4444444444444444,
              "#26828e"
             ],
             [
              0.5555555555555556,
              "#1f9e89"
             ],
             [
              0.6666666666666666,
              "#35b779"
             ],
             [
              0.7777777777777778,
              "#6ece58"
             ],
             [
              0.8888888888888888,
              "#b5de2b"
             ],
             [
              1,
              "#fde725"
             ]
            ],
            "type": "histogram2dcontour"
           }
          ],
          "mesh3d": [
           {
            "colorbar": {
             "outlinewidth": 1,
             "tickcolor": "rgb(36,36,36)",
             "ticks": "outside"
            },
            "type": "mesh3d"
           }
          ],
          "parcoords": [
           {
            "line": {
             "colorbar": {
              "outlinewidth": 1,
              "tickcolor": "rgb(36,36,36)",
              "ticks": "outside"
             }
            },
            "type": "parcoords"
           }
          ],
          "pie": [
           {
            "automargin": true,
            "type": "pie"
           }
          ],
          "scatter": [
           {
            "marker": {
             "colorbar": {
              "outlinewidth": 1,
              "tickcolor": "rgb(36,36,36)",
              "ticks": "outside"
             }
            },
            "type": "scatter"
           }
          ],
          "scatter3d": [
           {
            "line": {
             "colorbar": {
              "outlinewidth": 1,
              "tickcolor": "rgb(36,36,36)",
              "ticks": "outside"
             }
            },
            "marker": {
             "colorbar": {
              "outlinewidth": 1,
              "tickcolor": "rgb(36,36,36)",
              "ticks": "outside"
             }
            },
            "type": "scatter3d"
           }
          ],
          "scattercarpet": [
           {
            "marker": {
             "colorbar": {
              "outlinewidth": 1,
              "tickcolor": "rgb(36,36,36)",
              "ticks": "outside"
             }
            },
            "type": "scattercarpet"
           }
          ],
          "scattergeo": [
           {
            "marker": {
             "colorbar": {
              "outlinewidth": 1,
              "tickcolor": "rgb(36,36,36)",
              "ticks": "outside"
             }
            },
            "type": "scattergeo"
           }
          ],
          "scattergl": [
           {
            "marker": {
             "colorbar": {
              "outlinewidth": 1,
              "tickcolor": "rgb(36,36,36)",
              "ticks": "outside"
             }
            },
            "type": "scattergl"
           }
          ],
          "scattermapbox": [
           {
            "marker": {
             "colorbar": {
              "outlinewidth": 1,
              "tickcolor": "rgb(36,36,36)",
              "ticks": "outside"
             }
            },
            "type": "scattermapbox"
           }
          ],
          "scatterpolar": [
           {
            "marker": {
             "colorbar": {
              "outlinewidth": 1,
              "tickcolor": "rgb(36,36,36)",
              "ticks": "outside"
             }
            },
            "type": "scatterpolar"
           }
          ],
          "scatterpolargl": [
           {
            "marker": {
             "colorbar": {
              "outlinewidth": 1,
              "tickcolor": "rgb(36,36,36)",
              "ticks": "outside"
             }
            },
            "type": "scatterpolargl"
           }
          ],
          "scatterternary": [
           {
            "marker": {
             "colorbar": {
              "outlinewidth": 1,
              "tickcolor": "rgb(36,36,36)",
              "ticks": "outside"
             }
            },
            "type": "scatterternary"
           }
          ],
          "surface": [
           {
            "colorbar": {
             "outlinewidth": 1,
             "tickcolor": "rgb(36,36,36)",
             "ticks": "outside"
            },
            "colorscale": [
             [
              0,
              "#440154"
             ],
             [
              0.1111111111111111,
              "#482878"
             ],
             [
              0.2222222222222222,
              "#3e4989"
             ],
             [
              0.3333333333333333,
              "#31688e"
             ],
             [
              0.4444444444444444,
              "#26828e"
             ],
             [
              0.5555555555555556,
              "#1f9e89"
             ],
             [
              0.6666666666666666,
              "#35b779"
             ],
             [
              0.7777777777777778,
              "#6ece58"
             ],
             [
              0.8888888888888888,
              "#b5de2b"
             ],
             [
              1,
              "#fde725"
             ]
            ],
            "type": "surface"
           }
          ],
          "table": [
           {
            "cells": {
             "fill": {
              "color": "rgb(237,237,237)"
             },
             "line": {
              "color": "white"
             }
            },
            "header": {
             "fill": {
              "color": "rgb(217,217,217)"
             },
             "line": {
              "color": "white"
             }
            },
            "type": "table"
           }
          ]
         },
         "layout": {
          "annotationdefaults": {
           "arrowhead": 0,
           "arrowwidth": 1
          },
          "coloraxis": {
           "colorbar": {
            "outlinewidth": 1,
            "tickcolor": "rgb(36,36,36)",
            "ticks": "outside"
           }
          },
          "colorscale": {
           "diverging": [
            [
             0,
             "rgb(103,0,31)"
            ],
            [
             0.1,
             "rgb(178,24,43)"
            ],
            [
             0.2,
             "rgb(214,96,77)"
            ],
            [
             0.3,
             "rgb(244,165,130)"
            ],
            [
             0.4,
             "rgb(253,219,199)"
            ],
            [
             0.5,
             "rgb(247,247,247)"
            ],
            [
             0.6,
             "rgb(209,229,240)"
            ],
            [
             0.7,
             "rgb(146,197,222)"
            ],
            [
             0.8,
             "rgb(67,147,195)"
            ],
            [
             0.9,
             "rgb(33,102,172)"
            ],
            [
             1,
             "rgb(5,48,97)"
            ]
           ],
           "sequential": [
            [
             0,
             "#440154"
            ],
            [
             0.1111111111111111,
             "#482878"
            ],
            [
             0.2222222222222222,
             "#3e4989"
            ],
            [
             0.3333333333333333,
             "#31688e"
            ],
            [
             0.4444444444444444,
             "#26828e"
            ],
            [
             0.5555555555555556,
             "#1f9e89"
            ],
            [
             0.6666666666666666,
             "#35b779"
            ],
            [
             0.7777777777777778,
             "#6ece58"
            ],
            [
             0.8888888888888888,
             "#b5de2b"
            ],
            [
             1,
             "#fde725"
            ]
           ],
           "sequentialminus": [
            [
             0,
             "#440154"
            ],
            [
             0.1111111111111111,
             "#482878"
            ],
            [
             0.2222222222222222,
             "#3e4989"
            ],
            [
             0.3333333333333333,
             "#31688e"
            ],
            [
             0.4444444444444444,
             "#26828e"
            ],
            [
             0.5555555555555556,
             "#1f9e89"
            ],
            [
             0.6666666666666666,
             "#35b779"
            ],
            [
             0.7777777777777778,
             "#6ece58"
            ],
            [
             0.8888888888888888,
             "#b5de2b"
            ],
            [
             1,
             "#fde725"
            ]
           ]
          },
          "colorway": [
           "#1F77B4",
           "#FF7F0E",
           "#2CA02C",
           "#D62728",
           "#9467BD",
           "#8C564B",
           "#E377C2",
           "#7F7F7F",
           "#BCBD22",
           "#17BECF"
          ],
          "font": {
           "color": "rgb(36,36,36)"
          },
          "geo": {
           "bgcolor": "white",
           "lakecolor": "white",
           "landcolor": "white",
           "showlakes": true,
           "showland": true,
           "subunitcolor": "white"
          },
          "hoverlabel": {
           "align": "left"
          },
          "hovermode": "closest",
          "mapbox": {
           "style": "light"
          },
          "paper_bgcolor": "white",
          "plot_bgcolor": "white",
          "polar": {
           "angularaxis": {
            "gridcolor": "rgb(232,232,232)",
            "linecolor": "rgb(36,36,36)",
            "showgrid": false,
            "showline": true,
            "ticks": "outside"
           },
           "bgcolor": "white",
           "radialaxis": {
            "gridcolor": "rgb(232,232,232)",
            "linecolor": "rgb(36,36,36)",
            "showgrid": false,
            "showline": true,
            "ticks": "outside"
           }
          },
          "scene": {
           "xaxis": {
            "backgroundcolor": "white",
            "gridcolor": "rgb(232,232,232)",
            "gridwidth": 2,
            "linecolor": "rgb(36,36,36)",
            "showbackground": true,
            "showgrid": false,
            "showline": true,
            "ticks": "outside",
            "zeroline": false,
            "zerolinecolor": "rgb(36,36,36)"
           },
           "yaxis": {
            "backgroundcolor": "white",
            "gridcolor": "rgb(232,232,232)",
            "gridwidth": 2,
            "linecolor": "rgb(36,36,36)",
            "showbackground": true,
            "showgrid": false,
            "showline": true,
            "ticks": "outside",
            "zeroline": false,
            "zerolinecolor": "rgb(36,36,36)"
           },
           "zaxis": {
            "backgroundcolor": "white",
            "gridcolor": "rgb(232,232,232)",
            "gridwidth": 2,
            "linecolor": "rgb(36,36,36)",
            "showbackground": true,
            "showgrid": false,
            "showline": true,
            "ticks": "outside",
            "zeroline": false,
            "zerolinecolor": "rgb(36,36,36)"
           }
          },
          "shapedefaults": {
           "fillcolor": "black",
           "line": {
            "width": 0
           },
           "opacity": 0.3
          },
          "ternary": {
           "aaxis": {
            "gridcolor": "rgb(232,232,232)",
            "linecolor": "rgb(36,36,36)",
            "showgrid": false,
            "showline": true,
            "ticks": "outside"
           },
           "baxis": {
            "gridcolor": "rgb(232,232,232)",
            "linecolor": "rgb(36,36,36)",
            "showgrid": false,
            "showline": true,
            "ticks": "outside"
           },
           "bgcolor": "white",
           "caxis": {
            "gridcolor": "rgb(232,232,232)",
            "linecolor": "rgb(36,36,36)",
            "showgrid": false,
            "showline": true,
            "ticks": "outside"
           }
          },
          "title": {
           "x": 0.05
          },
          "xaxis": {
           "automargin": true,
           "gridcolor": "rgb(232,232,232)",
           "linecolor": "rgb(36,36,36)",
           "showgrid": false,
           "showline": true,
           "ticks": "outside",
           "title": {
            "standoff": 15
           },
           "zeroline": false,
           "zerolinecolor": "rgb(36,36,36)"
          },
          "yaxis": {
           "automargin": true,
           "gridcolor": "rgb(232,232,232)",
           "linecolor": "rgb(36,36,36)",
           "showgrid": false,
           "showline": true,
           "ticks": "outside",
           "title": {
            "standoff": 15
           },
           "zeroline": false,
           "zerolinecolor": "rgb(36,36,36)"
          }
         }
        },
        "title": {
         "text": "Unique Commenters as a Function of Polling Data"
        },
        "xaxis": {
         "anchor": "y",
         "domain": [
          0,
          0.45
         ],
         "tickformat": ",.0%",
         "title": {
          "text": "Polling Favourability"
         }
        },
        "xaxis2": {
         "anchor": "y2",
         "domain": [
          0.55,
          1
         ],
         "tickformat": ",.0%",
         "title": {
          "text": "Polling Favourability"
         }
        },
        "yaxis": {
         "anchor": "x",
         "domain": [
          0,
          1
         ],
         "title": {
          "text": "# Commenters"
         }
        },
        "yaxis2": {
         "anchor": "x2",
         "domain": [
          0,
          1
         ],
         "title": {
          "text": "# Commenters"
         }
        }
       }
      },
      "text/html": [
       "<div>\n",
       "        \n",
       "        \n",
       "            <div id=\"1ac0fa6f-8380-4d1f-825b-bef467a55dc3\" class=\"plotly-graph-div\" style=\"height:525px; width:100%;\"></div>\n",
       "            <script type=\"text/javascript\">\n",
       "                require([\"plotly\"], function(Plotly) {\n",
       "                    window.PLOTLYENV=window.PLOTLYENV || {};\n",
       "                    \n",
       "                if (document.getElementById(\"1ac0fa6f-8380-4d1f-825b-bef467a55dc3\")) {\n",
       "                    Plotly.newPlot(\n",
       "                        '1ac0fa6f-8380-4d1f-825b-bef467a55dc3',\n",
       "                        [{\"legendgroup\": \"Joe Biden\", \"marker\": {\"color\": \"#636EFA\"}, \"mode\": \"markers\", \"name\": \"Joe Biden\", \"type\": \"scatter\", \"x\": [0.2814865794907089, 0.3145687364097608, 0.30970017636684305, 0.2845849802371542, 0.292755991285403, 0.27526015441423296, 0.26872516050137574, 0.24843796489140138, 0.24300155520995334, 0.22868217054263565, 0.2298477157360406, 0.21682393093756275], \"xaxis\": \"x\", \"y\": [1, 8, 9, 169, 250, 269, 186, 309, 322, 220, 258, 416], \"yaxis\": \"y\"}, {\"legendgroup\": \"Joe Biden\", \"marker\": {\"color\": \"#636EFA\"}, \"mode\": \"markers\", \"name\": \"Joe Biden\", \"showlegend\": false, \"type\": \"scatter\", \"x\": [0.26342710997442453, 0.2702970297029703, 0.2787958115183246, 0.2396351575456053, 0.22526817640047675, 0.23087071240105542, 0.21328671328671328, 0.19055287171229202, 0.1682727946627131, 0.1836734693877551, 0.1805993690851735, 0.18830675778283978], \"xaxis\": \"x2\", \"y\": [1, 8, 9, 169, 250, 269, 186, 309, 322, 220, 258, 416], \"yaxis\": \"y2\"}, {\"legendgroup\": \"Bernie Sanders\", \"marker\": {\"color\": \"#EF553B\"}, \"mode\": \"markers\", \"name\": \"Bernie Sanders\", \"type\": \"scatter\", \"x\": [0.24088093599449414, 0.24861077554964967, 0.24761904761904763, 0.23715415019762845, 0.21922657952069716, 0.22054380664652568, 0.21094466523998778, 0.22433799464445106, 0.20820373250388802, 0.21201550387596899, 0.20588832487309644, 0.22565749849427827], \"xaxis\": \"x\", \"y\": [5508, 11591, 11493, 10082, 7374, 17657, 11439, 19283, 16040, 14923, 12670, 18982], \"yaxis\": \"y\"}, {\"legendgroup\": \"Bernie Sanders\", \"marker\": {\"color\": \"#EF553B\"}, \"mode\": \"markers\", \"name\": \"Bernie Sanders\", \"showlegend\": false, \"type\": \"scatter\", \"x\": [0.31202046035805625, 0.31683168316831684, 0.3036649214659686, 0.3043117744610282, 0.2800953516090584, 0.27506596306068604, 0.2773892773892774, 0.3070316693505099, 0.2727946627131208, 0.2819349962207105, 0.2744479495268139, 0.2900531511009871], \"xaxis\": \"x2\", \"y\": [5508, 11591, 11493, 10082, 7374, 17657, 11439, 19283, 16040, 14923, 12670, 18982], \"yaxis\": \"y2\"}, {\"legendgroup\": \"Amy Klobuchar\", \"marker\": {\"color\": \"#00CC96\"}, \"mode\": \"markers\", \"name\": \"Amy Klobuchar\", \"type\": \"scatter\", \"x\": [0.04198210598761184, 0.04807924619473303, 0.05291005291005291, 0.04413702239789196, 0.04357298474945534, 0.04447801275595838, 0.04188321614185264, 0.03882772984230884, 0.04743390357698289, 0.05406976744186046, 0.055228426395939084, 0.05280064244127685], \"xaxis\": \"x\", \"y\": [37, 98, 19, 18, 7, 16, 12, 32, 40, 37, 35, 71], \"yaxis\": \"y\"}, {\"legendgroup\": \"Amy Klobuchar\", \"marker\": {\"color\": \"#00CC96\"}, \"mode\": \"markers\", \"name\": \"Amy Klobuchar\", \"showlegend\": false, \"type\": \"scatter\", \"x\": [0.020460358056265986, 0.02574257425742574, 0.032722513089005235, 0.026533996683250415, 0.023837902264600714, 0.023746701846965697, 0.02097902097902098, 0.01932367149758454, 0.026686434395848776, 0.025699168556311415, 0.02050473186119874, 0.022779043280182234], \"xaxis\": \"x2\", \"y\": [37, 98, 19, 18, 7, 16, 12, 32, 40, 37, 35, 71], \"yaxis\": \"y2\"}, {\"legendgroup\": \"Elizabeth Warren\", \"marker\": {\"color\": \"#AB63FA\"}, \"mode\": \"markers\", \"name\": \"Elizabeth Warren\", \"type\": \"scatter\", \"x\": [0.12456985547143841, 0.13723121526938875, 0.13686067019400353, 0.12472551602986386, 0.14079520697167755, 0.15777106411547498, 0.17639865484561296, 0.17643558464742637, 0.18409797822706064, 0.18895348837209303, 0.18111675126903554, 0.17265609315398514], \"xaxis\": \"x\", \"y\": [120, 148, 142, 470, 836, 1431, 1411, 1587, 2083, 2468, 2331, 1668], \"yaxis\": \"y\"}, {\"legendgroup\": \"Elizabeth Warren\", \"marker\": {\"color\": \"#AB63FA\"}, \"mode\": \"markers\", \"name\": \"Elizabeth Warren\", \"showlegend\": false, \"type\": \"scatter\", \"x\": [0.07672634271099744, 0.10891089108910891, 0.1243455497382199, 0.1044776119402985, 0.13230035756853398, 0.1312664907651715, 0.1561771561771562, 0.16586151368760063, 0.16160118606375093, 0.17913832199546487, 0.17429022082018927, 0.16856492027334852], \"xaxis\": \"x2\", \"y\": [120, 148, 142, 470, 836, 1431, 1411, 1587, 2083, 2468, 2331, 1668], \"yaxis\": \"y2\"}, {\"legendgroup\": \"Pete Buttigieg\", \"marker\": {\"color\": \"#FFA15A\"}, \"mode\": \"markers\", \"name\": \"Pete Buttigieg\", \"type\": \"scatter\", \"x\": [0.012388162422573986, 0.01836192316984779, 0.039858906525573196, 0.09003074220465525, 0.09313725490196079, 0.0931520644511581, 0.09293793946805258, 0.09654864623623921, 0.0942846034214619, 0.09709302325581395, 0.10091370558375634, 0.10279060429632604], \"xaxis\": \"x\", \"y\": [8, 32, 1839, 4549, 2561, 2828, 2893, 2430, 2089, 2364, 3090, 3520], \"yaxis\": \"y\"}, {\"legendgroup\": \"Pete Buttigieg\", \"marker\": {\"color\": \"#FFA15A\"}, \"mode\": \"markers\", \"name\": \"Pete Buttigieg\", \"showlegend\": false, \"type\": \"scatter\", \"x\": [0.01278772378516624, 0.009900990099009901, 0.02225130890052356, 0.0505804311774461, 0.06197854588796186, 0.052110817941952506, 0.06643356643356643, 0.06763285024154589, 0.05930318754633061, 0.05895691609977324, 0.06782334384858044, 0.05618830675778284], \"xaxis\": \"x2\", \"y\": [8, 32, 1839, 4549, 2561, 2828, 2893, 2430, 2089, 2364, 3090, 3520], \"yaxis\": \"y2\"}, {\"legendgroup\": \"Andrew Yang\", \"marker\": {\"color\": \"#19D3F3\"}, \"mode\": \"markers\", \"name\": \"Andrew Yang\", \"type\": \"scatter\", \"x\": [0.0, 0.0, 0.015873015873015872, 0.028765920070267896, 0.03867102396514161, 0.04380664652567976, 0.047386120452461024, 0.06233263909550729, 0.0812597200622084, 0.09186046511627907, 0.08730964467005076, 0.10078297530616342], \"xaxis\": \"x\", \"y\": [35, 580, 3953, 3944, 3122, 5522, 8129, 13622, 14337, 14475, 13588, 17411], \"yaxis\": \"y\"}, {\"legendgroup\": \"Andrew Yang\", \"marker\": {\"color\": \"#19D3F3\"}, \"mode\": \"markers\", \"name\": \"Andrew Yang\", \"showlegend\": false, \"type\": \"scatter\", \"x\": [0.0, 0.0, 0.028795811518324606, 0.0472636815920398, 0.060786650774731825, 0.06992084432717678, 0.0675990675990676, 0.08856682769726248, 0.13269088213491476, 0.13907785336356765, 0.14826498422712933, 0.14958238420653], \"xaxis\": \"x2\", \"y\": [35, 580, 3953, 3944, 3122, 5522, 8129, 13622, 14337, 14475, 13588, 17411], \"yaxis\": \"y2\"}],\n",
       "                        {\"annotations\": [{\"font\": {\"size\": 16}, \"showarrow\": false, \"text\": \"Overall Populous\", \"x\": 0.225, \"xanchor\": \"center\", \"xref\": \"paper\", \"y\": 1.0, \"yanchor\": \"bottom\", \"yref\": \"paper\"}, {\"font\": {\"size\": 16}, \"showarrow\": false, \"text\": \"18-29 Age Group\", \"x\": 0.775, \"xanchor\": \"center\", \"xref\": \"paper\", \"y\": 1.0, \"yanchor\": \"bottom\", \"yref\": \"paper\"}], \"font\": {\"size\": 18}, \"template\": {\"data\": {\"bar\": [{\"error_x\": {\"color\": \"rgb(36,36,36)\"}, \"error_y\": {\"color\": \"rgb(36,36,36)\"}, \"marker\": {\"line\": {\"color\": \"white\", \"width\": 0.5}}, \"type\": \"bar\"}], \"barpolar\": [{\"marker\": {\"line\": {\"color\": \"white\", \"width\": 0.5}}, \"type\": \"barpolar\"}], \"carpet\": [{\"aaxis\": {\"endlinecolor\": \"rgb(36,36,36)\", \"gridcolor\": \"white\", \"linecolor\": \"white\", \"minorgridcolor\": \"white\", \"startlinecolor\": \"rgb(36,36,36)\"}, \"baxis\": {\"endlinecolor\": \"rgb(36,36,36)\", \"gridcolor\": \"white\", \"linecolor\": \"white\", \"minorgridcolor\": \"white\", \"startlinecolor\": \"rgb(36,36,36)\"}, \"type\": \"carpet\"}], \"choropleth\": [{\"colorbar\": {\"outlinewidth\": 1, \"tickcolor\": \"rgb(36,36,36)\", \"ticks\": \"outside\"}, \"type\": \"choropleth\"}], \"contour\": [{\"colorbar\": {\"outlinewidth\": 1, \"tickcolor\": \"rgb(36,36,36)\", \"ticks\": \"outside\"}, \"colorscale\": [[0.0, \"#440154\"], [0.1111111111111111, \"#482878\"], [0.2222222222222222, \"#3e4989\"], [0.3333333333333333, \"#31688e\"], [0.4444444444444444, \"#26828e\"], [0.5555555555555556, \"#1f9e89\"], [0.6666666666666666, \"#35b779\"], [0.7777777777777778, \"#6ece58\"], [0.8888888888888888, \"#b5de2b\"], [1.0, \"#fde725\"]], \"type\": \"contour\"}], \"contourcarpet\": [{\"colorbar\": {\"outlinewidth\": 1, \"tickcolor\": \"rgb(36,36,36)\", \"ticks\": \"outside\"}, \"type\": \"contourcarpet\"}], \"heatmap\": [{\"colorbar\": {\"outlinewidth\": 1, \"tickcolor\": \"rgb(36,36,36)\", \"ticks\": \"outside\"}, \"colorscale\": [[0.0, \"#440154\"], [0.1111111111111111, \"#482878\"], [0.2222222222222222, \"#3e4989\"], [0.3333333333333333, \"#31688e\"], [0.4444444444444444, \"#26828e\"], [0.5555555555555556, \"#1f9e89\"], [0.6666666666666666, \"#35b779\"], [0.7777777777777778, \"#6ece58\"], [0.8888888888888888, \"#b5de2b\"], [1.0, \"#fde725\"]], \"type\": \"heatmap\"}], \"heatmapgl\": [{\"colorbar\": {\"outlinewidth\": 1, \"tickcolor\": \"rgb(36,36,36)\", \"ticks\": \"outside\"}, \"colorscale\": [[0.0, \"#440154\"], [0.1111111111111111, \"#482878\"], [0.2222222222222222, \"#3e4989\"], [0.3333333333333333, \"#31688e\"], [0.4444444444444444, \"#26828e\"], [0.5555555555555556, \"#1f9e89\"], [0.6666666666666666, \"#35b779\"], [0.7777777777777778, \"#6ece58\"], [0.8888888888888888, \"#b5de2b\"], [1.0, \"#fde725\"]], \"type\": \"heatmapgl\"}], \"histogram\": [{\"marker\": {\"line\": {\"color\": \"white\", \"width\": 0.6}}, \"type\": \"histogram\"}], \"histogram2d\": [{\"colorbar\": {\"outlinewidth\": 1, \"tickcolor\": \"rgb(36,36,36)\", \"ticks\": \"outside\"}, \"colorscale\": [[0.0, \"#440154\"], [0.1111111111111111, \"#482878\"], [0.2222222222222222, \"#3e4989\"], [0.3333333333333333, \"#31688e\"], [0.4444444444444444, \"#26828e\"], [0.5555555555555556, \"#1f9e89\"], [0.6666666666666666, \"#35b779\"], [0.7777777777777778, \"#6ece58\"], [0.8888888888888888, \"#b5de2b\"], [1.0, \"#fde725\"]], \"type\": \"histogram2d\"}], \"histogram2dcontour\": [{\"colorbar\": {\"outlinewidth\": 1, \"tickcolor\": \"rgb(36,36,36)\", \"ticks\": \"outside\"}, \"colorscale\": [[0.0, \"#440154\"], [0.1111111111111111, \"#482878\"], [0.2222222222222222, \"#3e4989\"], [0.3333333333333333, \"#31688e\"], [0.4444444444444444, \"#26828e\"], [0.5555555555555556, \"#1f9e89\"], [0.6666666666666666, \"#35b779\"], [0.7777777777777778, \"#6ece58\"], [0.8888888888888888, \"#b5de2b\"], [1.0, \"#fde725\"]], \"type\": \"histogram2dcontour\"}], \"mesh3d\": [{\"colorbar\": {\"outlinewidth\": 1, \"tickcolor\": \"rgb(36,36,36)\", \"ticks\": \"outside\"}, \"type\": \"mesh3d\"}], \"parcoords\": [{\"line\": {\"colorbar\": {\"outlinewidth\": 1, \"tickcolor\": \"rgb(36,36,36)\", \"ticks\": \"outside\"}}, \"type\": \"parcoords\"}], \"pie\": [{\"automargin\": true, \"type\": \"pie\"}], \"scatter\": [{\"marker\": {\"colorbar\": {\"outlinewidth\": 1, \"tickcolor\": \"rgb(36,36,36)\", \"ticks\": \"outside\"}}, \"type\": \"scatter\"}], \"scatter3d\": [{\"line\": {\"colorbar\": {\"outlinewidth\": 1, \"tickcolor\": \"rgb(36,36,36)\", \"ticks\": \"outside\"}}, \"marker\": {\"colorbar\": {\"outlinewidth\": 1, \"tickcolor\": \"rgb(36,36,36)\", \"ticks\": \"outside\"}}, \"type\": \"scatter3d\"}], \"scattercarpet\": [{\"marker\": {\"colorbar\": {\"outlinewidth\": 1, \"tickcolor\": \"rgb(36,36,36)\", \"ticks\": \"outside\"}}, \"type\": \"scattercarpet\"}], \"scattergeo\": [{\"marker\": {\"colorbar\": {\"outlinewidth\": 1, \"tickcolor\": \"rgb(36,36,36)\", \"ticks\": \"outside\"}}, \"type\": \"scattergeo\"}], \"scattergl\": [{\"marker\": {\"colorbar\": {\"outlinewidth\": 1, \"tickcolor\": \"rgb(36,36,36)\", \"ticks\": \"outside\"}}, \"type\": \"scattergl\"}], \"scattermapbox\": [{\"marker\": {\"colorbar\": {\"outlinewidth\": 1, \"tickcolor\": \"rgb(36,36,36)\", \"ticks\": \"outside\"}}, \"type\": \"scattermapbox\"}], \"scatterpolar\": [{\"marker\": {\"colorbar\": {\"outlinewidth\": 1, \"tickcolor\": \"rgb(36,36,36)\", \"ticks\": \"outside\"}}, \"type\": \"scatterpolar\"}], \"scatterpolargl\": [{\"marker\": {\"colorbar\": {\"outlinewidth\": 1, \"tickcolor\": \"rgb(36,36,36)\", \"ticks\": \"outside\"}}, \"type\": \"scatterpolargl\"}], \"scatterternary\": [{\"marker\": {\"colorbar\": {\"outlinewidth\": 1, \"tickcolor\": \"rgb(36,36,36)\", \"ticks\": \"outside\"}}, \"type\": \"scatterternary\"}], \"surface\": [{\"colorbar\": {\"outlinewidth\": 1, \"tickcolor\": \"rgb(36,36,36)\", \"ticks\": \"outside\"}, \"colorscale\": [[0.0, \"#440154\"], [0.1111111111111111, \"#482878\"], [0.2222222222222222, \"#3e4989\"], [0.3333333333333333, \"#31688e\"], [0.4444444444444444, \"#26828e\"], [0.5555555555555556, \"#1f9e89\"], [0.6666666666666666, \"#35b779\"], [0.7777777777777778, \"#6ece58\"], [0.8888888888888888, \"#b5de2b\"], [1.0, \"#fde725\"]], \"type\": \"surface\"}], \"table\": [{\"cells\": {\"fill\": {\"color\": \"rgb(237,237,237)\"}, \"line\": {\"color\": \"white\"}}, \"header\": {\"fill\": {\"color\": \"rgb(217,217,217)\"}, \"line\": {\"color\": \"white\"}}, \"type\": \"table\"}]}, \"layout\": {\"annotationdefaults\": {\"arrowhead\": 0, \"arrowwidth\": 1}, \"coloraxis\": {\"colorbar\": {\"outlinewidth\": 1, \"tickcolor\": \"rgb(36,36,36)\", \"ticks\": \"outside\"}}, \"colorscale\": {\"diverging\": [[0.0, \"rgb(103,0,31)\"], [0.1, \"rgb(178,24,43)\"], [0.2, \"rgb(214,96,77)\"], [0.3, \"rgb(244,165,130)\"], [0.4, \"rgb(253,219,199)\"], [0.5, \"rgb(247,247,247)\"], [0.6, \"rgb(209,229,240)\"], [0.7, \"rgb(146,197,222)\"], [0.8, \"rgb(67,147,195)\"], [0.9, \"rgb(33,102,172)\"], [1.0, \"rgb(5,48,97)\"]], \"sequential\": [[0.0, \"#440154\"], [0.1111111111111111, \"#482878\"], [0.2222222222222222, \"#3e4989\"], [0.3333333333333333, \"#31688e\"], [0.4444444444444444, \"#26828e\"], [0.5555555555555556, \"#1f9e89\"], [0.6666666666666666, \"#35b779\"], [0.7777777777777778, \"#6ece58\"], [0.8888888888888888, \"#b5de2b\"], [1.0, \"#fde725\"]], \"sequentialminus\": [[0.0, \"#440154\"], [0.1111111111111111, \"#482878\"], [0.2222222222222222, \"#3e4989\"], [0.3333333333333333, \"#31688e\"], [0.4444444444444444, \"#26828e\"], [0.5555555555555556, \"#1f9e89\"], [0.6666666666666666, \"#35b779\"], [0.7777777777777778, \"#6ece58\"], [0.8888888888888888, \"#b5de2b\"], [1.0, \"#fde725\"]]}, \"colorway\": [\"#1F77B4\", \"#FF7F0E\", \"#2CA02C\", \"#D62728\", \"#9467BD\", \"#8C564B\", \"#E377C2\", \"#7F7F7F\", \"#BCBD22\", \"#17BECF\"], \"font\": {\"color\": \"rgb(36,36,36)\"}, \"geo\": {\"bgcolor\": \"white\", \"lakecolor\": \"white\", \"landcolor\": \"white\", \"showlakes\": true, \"showland\": true, \"subunitcolor\": \"white\"}, \"hoverlabel\": {\"align\": \"left\"}, \"hovermode\": \"closest\", \"mapbox\": {\"style\": \"light\"}, \"paper_bgcolor\": \"white\", \"plot_bgcolor\": \"white\", \"polar\": {\"angularaxis\": {\"gridcolor\": \"rgb(232,232,232)\", \"linecolor\": \"rgb(36,36,36)\", \"showgrid\": false, \"showline\": true, \"ticks\": \"outside\"}, \"bgcolor\": \"white\", \"radialaxis\": {\"gridcolor\": \"rgb(232,232,232)\", \"linecolor\": \"rgb(36,36,36)\", \"showgrid\": false, \"showline\": true, \"ticks\": \"outside\"}}, \"scene\": {\"xaxis\": {\"backgroundcolor\": \"white\", \"gridcolor\": \"rgb(232,232,232)\", \"gridwidth\": 2, \"linecolor\": \"rgb(36,36,36)\", \"showbackground\": true, \"showgrid\": false, \"showline\": true, \"ticks\": \"outside\", \"zeroline\": false, \"zerolinecolor\": \"rgb(36,36,36)\"}, \"yaxis\": {\"backgroundcolor\": \"white\", \"gridcolor\": \"rgb(232,232,232)\", \"gridwidth\": 2, \"linecolor\": \"rgb(36,36,36)\", \"showbackground\": true, \"showgrid\": false, \"showline\": true, \"ticks\": \"outside\", \"zeroline\": false, \"zerolinecolor\": \"rgb(36,36,36)\"}, \"zaxis\": {\"backgroundcolor\": \"white\", \"gridcolor\": \"rgb(232,232,232)\", \"gridwidth\": 2, \"linecolor\": \"rgb(36,36,36)\", \"showbackground\": true, \"showgrid\": false, \"showline\": true, \"ticks\": \"outside\", \"zeroline\": false, \"zerolinecolor\": \"rgb(36,36,36)\"}}, \"shapedefaults\": {\"fillcolor\": \"black\", \"line\": {\"width\": 0}, \"opacity\": 0.3}, \"ternary\": {\"aaxis\": {\"gridcolor\": \"rgb(232,232,232)\", \"linecolor\": \"rgb(36,36,36)\", \"showgrid\": false, \"showline\": true, \"ticks\": \"outside\"}, \"baxis\": {\"gridcolor\": \"rgb(232,232,232)\", \"linecolor\": \"rgb(36,36,36)\", \"showgrid\": false, \"showline\": true, \"ticks\": \"outside\"}, \"bgcolor\": \"white\", \"caxis\": {\"gridcolor\": \"rgb(232,232,232)\", \"linecolor\": \"rgb(36,36,36)\", \"showgrid\": false, \"showline\": true, \"ticks\": \"outside\"}}, \"title\": {\"x\": 0.05}, \"xaxis\": {\"automargin\": true, \"gridcolor\": \"rgb(232,232,232)\", \"linecolor\": \"rgb(36,36,36)\", \"showgrid\": false, \"showline\": true, \"ticks\": \"outside\", \"title\": {\"standoff\": 15}, \"zeroline\": false, \"zerolinecolor\": \"rgb(36,36,36)\"}, \"yaxis\": {\"automargin\": true, \"gridcolor\": \"rgb(232,232,232)\", \"linecolor\": \"rgb(36,36,36)\", \"showgrid\": false, \"showline\": true, \"ticks\": \"outside\", \"title\": {\"standoff\": 15}, \"zeroline\": false, \"zerolinecolor\": \"rgb(36,36,36)\"}}}, \"title\": {\"text\": \"Unique Commenters as a Function of Polling Data\"}, \"xaxis\": {\"anchor\": \"y\", \"domain\": [0.0, 0.45], \"tickformat\": \",.0%\", \"title\": {\"text\": \"Polling Favourability\"}}, \"xaxis2\": {\"anchor\": \"y2\", \"domain\": [0.55, 1.0], \"tickformat\": \",.0%\", \"title\": {\"text\": \"Polling Favourability\"}}, \"yaxis\": {\"anchor\": \"x\", \"domain\": [0.0, 1.0], \"title\": {\"text\": \"# Commenters\"}}, \"yaxis2\": {\"anchor\": \"x2\", \"domain\": [0.0, 1.0], \"title\": {\"text\": \"# Commenters\"}}},\n",
       "                        {\"responsive\": true}\n",
       "                    ).then(function(){\n",
       "                            \n",
       "var gd = document.getElementById('1ac0fa6f-8380-4d1f-825b-bef467a55dc3');\n",
       "var x = new MutationObserver(function (mutations, observer) {{\n",
       "        var display = window.getComputedStyle(gd).display;\n",
       "        if (!display || display === 'none') {{\n",
       "            console.log([gd, 'removed!']);\n",
       "            Plotly.purge(gd);\n",
       "            observer.disconnect();\n",
       "        }}\n",
       "}});\n",
       "\n",
       "// Listen for the removal of the full notebook cells\n",
       "var notebookContainer = gd.closest('#notebook-container');\n",
       "if (notebookContainer) {{\n",
       "    x.observe(notebookContainer, {childList: true});\n",
       "}}\n",
       "\n",
       "// Listen for the clearing of the current output cell\n",
       "var outputEl = gd.closest('.output');\n",
       "if (outputEl) {{\n",
       "    x.observe(outputEl, {childList: true});\n",
       "}}\n",
       "\n",
       "                        })\n",
       "                };\n",
       "                });\n",
       "            </script>\n",
       "        </div>"
      ]
     },
     "metadata": {},
     "output_type": "display_data"
    }
   ],
   "source": [
    "fig = make_subplots(\n",
    "    rows=1, cols=2,\n",
    "    subplot_titles=(\"Overall Populous\",\n",
    "                    \"18-29 Age Group\"))\n",
    "\n",
    "c_mapping = {}\n",
    "cands = [\"Joe Biden\",\"Bernie Sanders\",\"Amy Klobuchar\",\"Elizabeth Warren\",\"Pete Buttigieg\",\"Andrew Yang\"]\n",
    "for a,b in zip(cands,px.colors.qualitative.Plotly):\n",
    "    c_mapping[a] = b\n",
    "\n",
    "for cand in cands:\n",
    "    pop_df = polling_commenters[polling_commenters[\"candidate\"] == cand]\n",
    "    young_df = polling_commenters_young[polling_commenters_young[\"candidate\"] == cand]\n",
    "    \n",
    "    fig.add_trace(go.Scatter(x=pop_df[\"polling_avg\"],\n",
    "                             y=pop_df[\"n_unique\"],\n",
    "                             marker=dict(color=c_mapping[cand]),                         \n",
    "                             mode=\"markers\",\n",
    "                             name=cand,\n",
    "                             legendgroup=cand\n",
    "                            ),\n",
    "                  row=1,\n",
    "                  col=1)\n",
    "\n",
    "\n",
    "    fig.add_trace(go.Scatter(x=young_df[\"polling_avg\"],\n",
    "                             y=young_df[\"n_unique\"],\n",
    "                             marker=dict(color=c_mapping[cand]),\n",
    "                             mode=\"markers\",\n",
    "                             name=cand,\n",
    "                             legendgroup=cand,\n",
    "                            showlegend = False\n",
    "                            ),\n",
    "                  row=1,\n",
    "                  col=2)\n",
    "    \n",
    "fig.update_xaxes(title_text=\"Polling Favourability\", row=1, col=1)\n",
    "fig.update_xaxes(title_text=\"Polling Favourability\", row=1, col=2)\n",
    "\n",
    "fig.update_yaxes(title_text=\"# Commenters\", row=1, col=1)\n",
    "fig.update_yaxes(title_text=\"# Commenters\", row=1, col=2)\n",
    "\n",
    "fig.update_layout(\n",
    "    font=dict(size=18),\n",
    "    title_text=\"Unique Commenters as a Function of Polling Data\",\n",
    "                  template=\"simple_white\")\n",
    "fig.update_xaxes(dict(tickformat=',.0%'))\n",
    "# fig.write_html(\"visualizations/temporal/{}_n-unique_over_polling_data_scatter.html\".format(TIME_FRAME))\n",
    "fig.show()"
   ]
  },
  {
   "cell_type": "code",
   "execution_count": 87,
   "metadata": {
    "scrolled": false
   },
   "outputs": [
    {
     "name": "stdout",
     "output_type": "stream",
     "text": [
      "Overall correlation\n",
      "0.18071373865655566 0.12873547518179423\n",
      "Young Voter correlation\n",
      "0.506442655231631 5.654968979089787e-06\n",
      "Amy Klobuchar\n",
      "\t* 0.3309,0.2934\n",
      "\t* Young Voters: -0.0134,0.9670\n",
      "Andrew Yang\n",
      "\t* 0.9631,0.0000\n",
      "\t* Young Voters: 0.9469,0.0000\n",
      "Bernie Sanders\n",
      "\t* -0.3513,0.2628\n",
      "\t* Young Voters: -0.2726,0.3914\n",
      "Elizabeth Warren\n",
      "\t* 0.9435,0.0000\n",
      "\t* Young Voters: 0.9066,0.0000\n",
      "Joe Biden\n",
      "\t* -0.7825,0.0026\n",
      "\t* Young Voters: -0.8624,0.0003\n",
      "Pete Buttigieg\n",
      "\t* 0.8395,0.0006\n",
      "\t* Young Voters: 0.7481,0.0051\n"
     ]
    }
   ],
   "source": [
    "rho, pval = stats.pearsonr(polling_commenters[\"polling_avg\"],polling_commenters[\"n_unique\"])\n",
    "rank_c = {\"name\": [\"Overall Correlation\"],\n",
    "          \"rho\": [rho],\n",
    "          \"pval\": [pval]}\n",
    "\n",
    "print(\"Overall correlation\")\n",
    "print(rho, pval)\n",
    "\n",
    "rho, pval = stats.pearsonr(polling_commenters_young[\"polling_avg\"],polling_commenters_young[\"n_unique\"])\n",
    "rank_c_young = {\"name\": [\"Overall Correlation\"],\n",
    "          \"rho\": [rho],\n",
    "          \"pval\": [pval]}\n",
    "\n",
    "print(\"Young Voter correlation\")\n",
    "print(rho, pval)\n",
    "\n",
    "for cand in polling_commenters[\"candidate\"].unique():\n",
    "    cand_info = polling_commenters[polling_commenters[\"candidate\"] == cand]\n",
    "    print(cand)\n",
    "    r, p = stats.pearsonr(cand_info[\"polling_avg\"],cand_info[\"n_unique\"])\n",
    "    print(\"\\t* {:.4f},{:.4f}\".format(r, p))\n",
    "    rank_c[\"name\"].append(cand)\n",
    "    rank_c[\"rho\"].append(r)\n",
    "    rank_c[\"pval\"].append(p)\n",
    "    \n",
    "    cand_info = polling_commenters_young[polling_commenters_young[\"candidate\"] == cand]\n",
    "    r, p = stats.pearsonr(cand_info[\"polling_avg\"],cand_info[\"n_unique\"])\n",
    "    rank_c_young[\"name\"].append(cand)\n",
    "    rank_c_young[\"rho\"].append(r)\n",
    "    rank_c_young[\"pval\"].append(p)\n",
    "    print(\"\\t* Young Voters: {:.4f},{:.4f}\".format(r, p))"
   ]
  },
  {
   "cell_type": "code",
   "execution_count": 89,
   "metadata": {},
   "outputs": [
    {
     "data": {
      "application/vnd.plotly.v1+json": {
       "config": {
        "plotlyServerURL": "https://plot.ly"
       },
       "data": [
        {
         "name": "Overall Populous",
         "text": [
          "0.12873547518179423",
          "0.2933703121642659",
          "5.084975413077878e-07",
          "0.2627954258577599",
          "4.12051394342451e-06",
          "0.0026265576912269215",
          "0.0006368683866373338"
         ],
         "textposition": "outside",
         "texttemplate": "p=%{text:.3f}",
         "type": "bar",
         "x": [
          "Overall Correlation",
          "Amy Klobuchar",
          "Andrew Yang",
          "Bernie Sanders",
          "Elizabeth Warren",
          "Joe Biden",
          "Pete Buttigieg"
         ],
         "y": [
          0.18071373865655566,
          0.33094742736541977,
          0.9630689295429621,
          -0.35132751853012134,
          0.9435052974914847,
          -0.782487024647218,
          0.839478152849632
         ]
        },
        {
         "name": "18-29 Age Group",
         "text": [
          "5.654968979089787e-06",
          "0.9670485461841231",
          "3.04609352859456e-06",
          "0.391360711278779",
          "4.787916237159718e-05",
          "0.0003069065091879201",
          "0.0051420799236721396"
         ],
         "textposition": "outside",
         "texttemplate": "p=%{text:.3f}",
         "type": "bar",
         "x": [
          "Overall Correlation",
          "Amy Klobuchar",
          "Andrew Yang",
          "Bernie Sanders",
          "Elizabeth Warren",
          "Joe Biden",
          "Pete Buttigieg"
         ],
         "y": [
          0.506442655231631,
          -0.013392999702482561,
          0.9468788660756234,
          -0.2725811896817884,
          0.9065557779455602,
          -0.8624031163363286,
          0.7480570901427482
         ]
        }
       ],
       "layout": {
        "barmode": "group",
        "font": {
         "size": 18
        },
        "legend": {
         "orientation": "v",
         "x": 1.1,
         "xanchor": "left",
         "y": 1
        },
        "template": {
         "data": {
          "bar": [
           {
            "error_x": {
             "color": "rgb(36,36,36)"
            },
            "error_y": {
             "color": "rgb(36,36,36)"
            },
            "marker": {
             "line": {
              "color": "white",
              "width": 0.5
             }
            },
            "type": "bar"
           }
          ],
          "barpolar": [
           {
            "marker": {
             "line": {
              "color": "white",
              "width": 0.5
             }
            },
            "type": "barpolar"
           }
          ],
          "carpet": [
           {
            "aaxis": {
             "endlinecolor": "rgb(36,36,36)",
             "gridcolor": "white",
             "linecolor": "white",
             "minorgridcolor": "white",
             "startlinecolor": "rgb(36,36,36)"
            },
            "baxis": {
             "endlinecolor": "rgb(36,36,36)",
             "gridcolor": "white",
             "linecolor": "white",
             "minorgridcolor": "white",
             "startlinecolor": "rgb(36,36,36)"
            },
            "type": "carpet"
           }
          ],
          "choropleth": [
           {
            "colorbar": {
             "outlinewidth": 1,
             "tickcolor": "rgb(36,36,36)",
             "ticks": "outside"
            },
            "type": "choropleth"
           }
          ],
          "contour": [
           {
            "colorbar": {
             "outlinewidth": 1,
             "tickcolor": "rgb(36,36,36)",
             "ticks": "outside"
            },
            "colorscale": [
             [
              0,
              "#440154"
             ],
             [
              0.1111111111111111,
              "#482878"
             ],
             [
              0.2222222222222222,
              "#3e4989"
             ],
             [
              0.3333333333333333,
              "#31688e"
             ],
             [
              0.4444444444444444,
              "#26828e"
             ],
             [
              0.5555555555555556,
              "#1f9e89"
             ],
             [
              0.6666666666666666,
              "#35b779"
             ],
             [
              0.7777777777777778,
              "#6ece58"
             ],
             [
              0.8888888888888888,
              "#b5de2b"
             ],
             [
              1,
              "#fde725"
             ]
            ],
            "type": "contour"
           }
          ],
          "contourcarpet": [
           {
            "colorbar": {
             "outlinewidth": 1,
             "tickcolor": "rgb(36,36,36)",
             "ticks": "outside"
            },
            "type": "contourcarpet"
           }
          ],
          "heatmap": [
           {
            "colorbar": {
             "outlinewidth": 1,
             "tickcolor": "rgb(36,36,36)",
             "ticks": "outside"
            },
            "colorscale": [
             [
              0,
              "#440154"
             ],
             [
              0.1111111111111111,
              "#482878"
             ],
             [
              0.2222222222222222,
              "#3e4989"
             ],
             [
              0.3333333333333333,
              "#31688e"
             ],
             [
              0.4444444444444444,
              "#26828e"
             ],
             [
              0.5555555555555556,
              "#1f9e89"
             ],
             [
              0.6666666666666666,
              "#35b779"
             ],
             [
              0.7777777777777778,
              "#6ece58"
             ],
             [
              0.8888888888888888,
              "#b5de2b"
             ],
             [
              1,
              "#fde725"
             ]
            ],
            "type": "heatmap"
           }
          ],
          "heatmapgl": [
           {
            "colorbar": {
             "outlinewidth": 1,
             "tickcolor": "rgb(36,36,36)",
             "ticks": "outside"
            },
            "colorscale": [
             [
              0,
              "#440154"
             ],
             [
              0.1111111111111111,
              "#482878"
             ],
             [
              0.2222222222222222,
              "#3e4989"
             ],
             [
              0.3333333333333333,
              "#31688e"
             ],
             [
              0.4444444444444444,
              "#26828e"
             ],
             [
              0.5555555555555556,
              "#1f9e89"
             ],
             [
              0.6666666666666666,
              "#35b779"
             ],
             [
              0.7777777777777778,
              "#6ece58"
             ],
             [
              0.8888888888888888,
              "#b5de2b"
             ],
             [
              1,
              "#fde725"
             ]
            ],
            "type": "heatmapgl"
           }
          ],
          "histogram": [
           {
            "marker": {
             "line": {
              "color": "white",
              "width": 0.6
             }
            },
            "type": "histogram"
           }
          ],
          "histogram2d": [
           {
            "colorbar": {
             "outlinewidth": 1,
             "tickcolor": "rgb(36,36,36)",
             "ticks": "outside"
            },
            "colorscale": [
             [
              0,
              "#440154"
             ],
             [
              0.1111111111111111,
              "#482878"
             ],
             [
              0.2222222222222222,
              "#3e4989"
             ],
             [
              0.3333333333333333,
              "#31688e"
             ],
             [
              0.4444444444444444,
              "#26828e"
             ],
             [
              0.5555555555555556,
              "#1f9e89"
             ],
             [
              0.6666666666666666,
              "#35b779"
             ],
             [
              0.7777777777777778,
              "#6ece58"
             ],
             [
              0.8888888888888888,
              "#b5de2b"
             ],
             [
              1,
              "#fde725"
             ]
            ],
            "type": "histogram2d"
           }
          ],
          "histogram2dcontour": [
           {
            "colorbar": {
             "outlinewidth": 1,
             "tickcolor": "rgb(36,36,36)",
             "ticks": "outside"
            },
            "colorscale": [
             [
              0,
              "#440154"
             ],
             [
              0.1111111111111111,
              "#482878"
             ],
             [
              0.2222222222222222,
              "#3e4989"
             ],
             [
              0.3333333333333333,
              "#31688e"
             ],
             [
              0.4444444444444444,
              "#26828e"
             ],
             [
              0.5555555555555556,
              "#1f9e89"
             ],
             [
              0.6666666666666666,
              "#35b779"
             ],
             [
              0.7777777777777778,
              "#6ece58"
             ],
             [
              0.8888888888888888,
              "#b5de2b"
             ],
             [
              1,
              "#fde725"
             ]
            ],
            "type": "histogram2dcontour"
           }
          ],
          "mesh3d": [
           {
            "colorbar": {
             "outlinewidth": 1,
             "tickcolor": "rgb(36,36,36)",
             "ticks": "outside"
            },
            "type": "mesh3d"
           }
          ],
          "parcoords": [
           {
            "line": {
             "colorbar": {
              "outlinewidth": 1,
              "tickcolor": "rgb(36,36,36)",
              "ticks": "outside"
             }
            },
            "type": "parcoords"
           }
          ],
          "pie": [
           {
            "automargin": true,
            "type": "pie"
           }
          ],
          "scatter": [
           {
            "marker": {
             "colorbar": {
              "outlinewidth": 1,
              "tickcolor": "rgb(36,36,36)",
              "ticks": "outside"
             }
            },
            "type": "scatter"
           }
          ],
          "scatter3d": [
           {
            "line": {
             "colorbar": {
              "outlinewidth": 1,
              "tickcolor": "rgb(36,36,36)",
              "ticks": "outside"
             }
            },
            "marker": {
             "colorbar": {
              "outlinewidth": 1,
              "tickcolor": "rgb(36,36,36)",
              "ticks": "outside"
             }
            },
            "type": "scatter3d"
           }
          ],
          "scattercarpet": [
           {
            "marker": {
             "colorbar": {
              "outlinewidth": 1,
              "tickcolor": "rgb(36,36,36)",
              "ticks": "outside"
             }
            },
            "type": "scattercarpet"
           }
          ],
          "scattergeo": [
           {
            "marker": {
             "colorbar": {
              "outlinewidth": 1,
              "tickcolor": "rgb(36,36,36)",
              "ticks": "outside"
             }
            },
            "type": "scattergeo"
           }
          ],
          "scattergl": [
           {
            "marker": {
             "colorbar": {
              "outlinewidth": 1,
              "tickcolor": "rgb(36,36,36)",
              "ticks": "outside"
             }
            },
            "type": "scattergl"
           }
          ],
          "scattermapbox": [
           {
            "marker": {
             "colorbar": {
              "outlinewidth": 1,
              "tickcolor": "rgb(36,36,36)",
              "ticks": "outside"
             }
            },
            "type": "scattermapbox"
           }
          ],
          "scatterpolar": [
           {
            "marker": {
             "colorbar": {
              "outlinewidth": 1,
              "tickcolor": "rgb(36,36,36)",
              "ticks": "outside"
             }
            },
            "type": "scatterpolar"
           }
          ],
          "scatterpolargl": [
           {
            "marker": {
             "colorbar": {
              "outlinewidth": 1,
              "tickcolor": "rgb(36,36,36)",
              "ticks": "outside"
             }
            },
            "type": "scatterpolargl"
           }
          ],
          "scatterternary": [
           {
            "marker": {
             "colorbar": {
              "outlinewidth": 1,
              "tickcolor": "rgb(36,36,36)",
              "ticks": "outside"
             }
            },
            "type": "scatterternary"
           }
          ],
          "surface": [
           {
            "colorbar": {
             "outlinewidth": 1,
             "tickcolor": "rgb(36,36,36)",
             "ticks": "outside"
            },
            "colorscale": [
             [
              0,
              "#440154"
             ],
             [
              0.1111111111111111,
              "#482878"
             ],
             [
              0.2222222222222222,
              "#3e4989"
             ],
             [
              0.3333333333333333,
              "#31688e"
             ],
             [
              0.4444444444444444,
              "#26828e"
             ],
             [
              0.5555555555555556,
              "#1f9e89"
             ],
             [
              0.6666666666666666,
              "#35b779"
             ],
             [
              0.7777777777777778,
              "#6ece58"
             ],
             [
              0.8888888888888888,
              "#b5de2b"
             ],
             [
              1,
              "#fde725"
             ]
            ],
            "type": "surface"
           }
          ],
          "table": [
           {
            "cells": {
             "fill": {
              "color": "rgb(237,237,237)"
             },
             "line": {
              "color": "white"
             }
            },
            "header": {
             "fill": {
              "color": "rgb(217,217,217)"
             },
             "line": {
              "color": "white"
             }
            },
            "type": "table"
           }
          ]
         },
         "layout": {
          "annotationdefaults": {
           "arrowhead": 0,
           "arrowwidth": 1
          },
          "coloraxis": {
           "colorbar": {
            "outlinewidth": 1,
            "tickcolor": "rgb(36,36,36)",
            "ticks": "outside"
           }
          },
          "colorscale": {
           "diverging": [
            [
             0,
             "rgb(103,0,31)"
            ],
            [
             0.1,
             "rgb(178,24,43)"
            ],
            [
             0.2,
             "rgb(214,96,77)"
            ],
            [
             0.3,
             "rgb(244,165,130)"
            ],
            [
             0.4,
             "rgb(253,219,199)"
            ],
            [
             0.5,
             "rgb(247,247,247)"
            ],
            [
             0.6,
             "rgb(209,229,240)"
            ],
            [
             0.7,
             "rgb(146,197,222)"
            ],
            [
             0.8,
             "rgb(67,147,195)"
            ],
            [
             0.9,
             "rgb(33,102,172)"
            ],
            [
             1,
             "rgb(5,48,97)"
            ]
           ],
           "sequential": [
            [
             0,
             "#440154"
            ],
            [
             0.1111111111111111,
             "#482878"
            ],
            [
             0.2222222222222222,
             "#3e4989"
            ],
            [
             0.3333333333333333,
             "#31688e"
            ],
            [
             0.4444444444444444,
             "#26828e"
            ],
            [
             0.5555555555555556,
             "#1f9e89"
            ],
            [
             0.6666666666666666,
             "#35b779"
            ],
            [
             0.7777777777777778,
             "#6ece58"
            ],
            [
             0.8888888888888888,
             "#b5de2b"
            ],
            [
             1,
             "#fde725"
            ]
           ],
           "sequentialminus": [
            [
             0,
             "#440154"
            ],
            [
             0.1111111111111111,
             "#482878"
            ],
            [
             0.2222222222222222,
             "#3e4989"
            ],
            [
             0.3333333333333333,
             "#31688e"
            ],
            [
             0.4444444444444444,
             "#26828e"
            ],
            [
             0.5555555555555556,
             "#1f9e89"
            ],
            [
             0.6666666666666666,
             "#35b779"
            ],
            [
             0.7777777777777778,
             "#6ece58"
            ],
            [
             0.8888888888888888,
             "#b5de2b"
            ],
            [
             1,
             "#fde725"
            ]
           ]
          },
          "colorway": [
           "#1F77B4",
           "#FF7F0E",
           "#2CA02C",
           "#D62728",
           "#9467BD",
           "#8C564B",
           "#E377C2",
           "#7F7F7F",
           "#BCBD22",
           "#17BECF"
          ],
          "font": {
           "color": "rgb(36,36,36)"
          },
          "geo": {
           "bgcolor": "white",
           "lakecolor": "white",
           "landcolor": "white",
           "showlakes": true,
           "showland": true,
           "subunitcolor": "white"
          },
          "hoverlabel": {
           "align": "left"
          },
          "hovermode": "closest",
          "mapbox": {
           "style": "light"
          },
          "paper_bgcolor": "white",
          "plot_bgcolor": "white",
          "polar": {
           "angularaxis": {
            "gridcolor": "rgb(232,232,232)",
            "linecolor": "rgb(36,36,36)",
            "showgrid": false,
            "showline": true,
            "ticks": "outside"
           },
           "bgcolor": "white",
           "radialaxis": {
            "gridcolor": "rgb(232,232,232)",
            "linecolor": "rgb(36,36,36)",
            "showgrid": false,
            "showline": true,
            "ticks": "outside"
           }
          },
          "scene": {
           "xaxis": {
            "backgroundcolor": "white",
            "gridcolor": "rgb(232,232,232)",
            "gridwidth": 2,
            "linecolor": "rgb(36,36,36)",
            "showbackground": true,
            "showgrid": false,
            "showline": true,
            "ticks": "outside",
            "zeroline": false,
            "zerolinecolor": "rgb(36,36,36)"
           },
           "yaxis": {
            "backgroundcolor": "white",
            "gridcolor": "rgb(232,232,232)",
            "gridwidth": 2,
            "linecolor": "rgb(36,36,36)",
            "showbackground": true,
            "showgrid": false,
            "showline": true,
            "ticks": "outside",
            "zeroline": false,
            "zerolinecolor": "rgb(36,36,36)"
           },
           "zaxis": {
            "backgroundcolor": "white",
            "gridcolor": "rgb(232,232,232)",
            "gridwidth": 2,
            "linecolor": "rgb(36,36,36)",
            "showbackground": true,
            "showgrid": false,
            "showline": true,
            "ticks": "outside",
            "zeroline": false,
            "zerolinecolor": "rgb(36,36,36)"
           }
          },
          "shapedefaults": {
           "fillcolor": "black",
           "line": {
            "width": 0
           },
           "opacity": 0.3
          },
          "ternary": {
           "aaxis": {
            "gridcolor": "rgb(232,232,232)",
            "linecolor": "rgb(36,36,36)",
            "showgrid": false,
            "showline": true,
            "ticks": "outside"
           },
           "baxis": {
            "gridcolor": "rgb(232,232,232)",
            "linecolor": "rgb(36,36,36)",
            "showgrid": false,
            "showline": true,
            "ticks": "outside"
           },
           "bgcolor": "white",
           "caxis": {
            "gridcolor": "rgb(232,232,232)",
            "linecolor": "rgb(36,36,36)",
            "showgrid": false,
            "showline": true,
            "ticks": "outside"
           }
          },
          "title": {
           "x": 0.05
          },
          "xaxis": {
           "automargin": true,
           "gridcolor": "rgb(232,232,232)",
           "linecolor": "rgb(36,36,36)",
           "showgrid": false,
           "showline": true,
           "ticks": "outside",
           "title": {
            "standoff": 15
           },
           "zeroline": false,
           "zerolinecolor": "rgb(36,36,36)"
          },
          "yaxis": {
           "automargin": true,
           "gridcolor": "rgb(232,232,232)",
           "linecolor": "rgb(36,36,36)",
           "showgrid": false,
           "showline": true,
           "ticks": "outside",
           "title": {
            "standoff": 15
           },
           "zeroline": false,
           "zerolinecolor": "rgb(36,36,36)"
          }
         }
        },
        "title": {
         "text": "Pearson Correlation: Polling Average and Unique Commenters"
        },
        "yaxis": {
         "range": [
          -1,
          1.1
         ]
        }
       }
      },
      "text/html": [
       "<div>\n",
       "        \n",
       "        \n",
       "            <div id=\"69195212-bdc7-4173-86af-e5ff786bcd95\" class=\"plotly-graph-div\" style=\"height:525px; width:100%;\"></div>\n",
       "            <script type=\"text/javascript\">\n",
       "                require([\"plotly\"], function(Plotly) {\n",
       "                    window.PLOTLYENV=window.PLOTLYENV || {};\n",
       "                    \n",
       "                if (document.getElementById(\"69195212-bdc7-4173-86af-e5ff786bcd95\")) {\n",
       "                    Plotly.newPlot(\n",
       "                        '69195212-bdc7-4173-86af-e5ff786bcd95',\n",
       "                        [{\"name\": \"Overall Populous\", \"text\": [\"0.12873547518179423\", \"0.2933703121642659\", \"5.084975413077878e-07\", \"0.2627954258577599\", \"4.12051394342451e-06\", \"0.0026265576912269215\", \"0.0006368683866373338\"], \"textposition\": \"outside\", \"texttemplate\": \"p=%{text:.3f}\", \"type\": \"bar\", \"x\": [\"Overall Correlation\", \"Amy Klobuchar\", \"Andrew Yang\", \"Bernie Sanders\", \"Elizabeth Warren\", \"Joe Biden\", \"Pete Buttigieg\"], \"y\": [0.18071373865655566, 0.33094742736541977, 0.9630689295429621, -0.35132751853012134, 0.9435052974914847, -0.782487024647218, 0.839478152849632]}, {\"name\": \"18-29 Age Group\", \"text\": [\"5.654968979089787e-06\", \"0.9670485461841231\", \"3.04609352859456e-06\", \"0.391360711278779\", \"4.787916237159718e-05\", \"0.0003069065091879201\", \"0.0051420799236721396\"], \"textposition\": \"outside\", \"texttemplate\": \"p=%{text:.3f}\", \"type\": \"bar\", \"x\": [\"Overall Correlation\", \"Amy Klobuchar\", \"Andrew Yang\", \"Bernie Sanders\", \"Elizabeth Warren\", \"Joe Biden\", \"Pete Buttigieg\"], \"y\": [0.506442655231631, -0.013392999702482561, 0.9468788660756234, -0.2725811896817884, 0.9065557779455602, -0.8624031163363286, 0.7480570901427482]}],\n",
       "                        {\"barmode\": \"group\", \"font\": {\"size\": 18}, \"legend\": {\"orientation\": \"v\", \"x\": 1.1, \"xanchor\": \"left\", \"y\": 1}, \"template\": {\"data\": {\"bar\": [{\"error_x\": {\"color\": \"rgb(36,36,36)\"}, \"error_y\": {\"color\": \"rgb(36,36,36)\"}, \"marker\": {\"line\": {\"color\": \"white\", \"width\": 0.5}}, \"type\": \"bar\"}], \"barpolar\": [{\"marker\": {\"line\": {\"color\": \"white\", \"width\": 0.5}}, \"type\": \"barpolar\"}], \"carpet\": [{\"aaxis\": {\"endlinecolor\": \"rgb(36,36,36)\", \"gridcolor\": \"white\", \"linecolor\": \"white\", \"minorgridcolor\": \"white\", \"startlinecolor\": \"rgb(36,36,36)\"}, \"baxis\": {\"endlinecolor\": \"rgb(36,36,36)\", \"gridcolor\": \"white\", \"linecolor\": \"white\", \"minorgridcolor\": \"white\", \"startlinecolor\": \"rgb(36,36,36)\"}, \"type\": \"carpet\"}], \"choropleth\": [{\"colorbar\": {\"outlinewidth\": 1, \"tickcolor\": \"rgb(36,36,36)\", \"ticks\": \"outside\"}, \"type\": \"choropleth\"}], \"contour\": [{\"colorbar\": {\"outlinewidth\": 1, \"tickcolor\": \"rgb(36,36,36)\", \"ticks\": \"outside\"}, \"colorscale\": [[0.0, \"#440154\"], [0.1111111111111111, \"#482878\"], [0.2222222222222222, \"#3e4989\"], [0.3333333333333333, \"#31688e\"], [0.4444444444444444, \"#26828e\"], [0.5555555555555556, \"#1f9e89\"], [0.6666666666666666, \"#35b779\"], [0.7777777777777778, \"#6ece58\"], [0.8888888888888888, \"#b5de2b\"], [1.0, \"#fde725\"]], \"type\": \"contour\"}], \"contourcarpet\": [{\"colorbar\": {\"outlinewidth\": 1, \"tickcolor\": \"rgb(36,36,36)\", \"ticks\": \"outside\"}, \"type\": \"contourcarpet\"}], \"heatmap\": [{\"colorbar\": {\"outlinewidth\": 1, \"tickcolor\": \"rgb(36,36,36)\", \"ticks\": \"outside\"}, \"colorscale\": [[0.0, \"#440154\"], [0.1111111111111111, \"#482878\"], [0.2222222222222222, \"#3e4989\"], [0.3333333333333333, \"#31688e\"], [0.4444444444444444, \"#26828e\"], [0.5555555555555556, \"#1f9e89\"], [0.6666666666666666, \"#35b779\"], [0.7777777777777778, \"#6ece58\"], [0.8888888888888888, \"#b5de2b\"], [1.0, \"#fde725\"]], \"type\": \"heatmap\"}], \"heatmapgl\": [{\"colorbar\": {\"outlinewidth\": 1, \"tickcolor\": \"rgb(36,36,36)\", \"ticks\": \"outside\"}, \"colorscale\": [[0.0, \"#440154\"], [0.1111111111111111, \"#482878\"], [0.2222222222222222, \"#3e4989\"], [0.3333333333333333, \"#31688e\"], [0.4444444444444444, \"#26828e\"], [0.5555555555555556, \"#1f9e89\"], [0.6666666666666666, \"#35b779\"], [0.7777777777777778, \"#6ece58\"], [0.8888888888888888, \"#b5de2b\"], [1.0, \"#fde725\"]], \"type\": \"heatmapgl\"}], \"histogram\": [{\"marker\": {\"line\": {\"color\": \"white\", \"width\": 0.6}}, \"type\": \"histogram\"}], \"histogram2d\": [{\"colorbar\": {\"outlinewidth\": 1, \"tickcolor\": \"rgb(36,36,36)\", \"ticks\": \"outside\"}, \"colorscale\": [[0.0, \"#440154\"], [0.1111111111111111, \"#482878\"], [0.2222222222222222, \"#3e4989\"], [0.3333333333333333, \"#31688e\"], [0.4444444444444444, \"#26828e\"], [0.5555555555555556, \"#1f9e89\"], [0.6666666666666666, \"#35b779\"], [0.7777777777777778, \"#6ece58\"], [0.8888888888888888, \"#b5de2b\"], [1.0, \"#fde725\"]], \"type\": \"histogram2d\"}], \"histogram2dcontour\": [{\"colorbar\": {\"outlinewidth\": 1, \"tickcolor\": \"rgb(36,36,36)\", \"ticks\": \"outside\"}, \"colorscale\": [[0.0, \"#440154\"], [0.1111111111111111, \"#482878\"], [0.2222222222222222, \"#3e4989\"], [0.3333333333333333, \"#31688e\"], [0.4444444444444444, \"#26828e\"], [0.5555555555555556, \"#1f9e89\"], [0.6666666666666666, \"#35b779\"], [0.7777777777777778, \"#6ece58\"], [0.8888888888888888, \"#b5de2b\"], [1.0, \"#fde725\"]], \"type\": \"histogram2dcontour\"}], \"mesh3d\": [{\"colorbar\": {\"outlinewidth\": 1, \"tickcolor\": \"rgb(36,36,36)\", \"ticks\": \"outside\"}, \"type\": \"mesh3d\"}], \"parcoords\": [{\"line\": {\"colorbar\": {\"outlinewidth\": 1, \"tickcolor\": \"rgb(36,36,36)\", \"ticks\": \"outside\"}}, \"type\": \"parcoords\"}], \"pie\": [{\"automargin\": true, \"type\": \"pie\"}], \"scatter\": [{\"marker\": {\"colorbar\": {\"outlinewidth\": 1, \"tickcolor\": \"rgb(36,36,36)\", \"ticks\": \"outside\"}}, \"type\": \"scatter\"}], \"scatter3d\": [{\"line\": {\"colorbar\": {\"outlinewidth\": 1, \"tickcolor\": \"rgb(36,36,36)\", \"ticks\": \"outside\"}}, \"marker\": {\"colorbar\": {\"outlinewidth\": 1, \"tickcolor\": \"rgb(36,36,36)\", \"ticks\": \"outside\"}}, \"type\": \"scatter3d\"}], \"scattercarpet\": [{\"marker\": {\"colorbar\": {\"outlinewidth\": 1, \"tickcolor\": \"rgb(36,36,36)\", \"ticks\": \"outside\"}}, \"type\": \"scattercarpet\"}], \"scattergeo\": [{\"marker\": {\"colorbar\": {\"outlinewidth\": 1, \"tickcolor\": \"rgb(36,36,36)\", \"ticks\": \"outside\"}}, \"type\": \"scattergeo\"}], \"scattergl\": [{\"marker\": {\"colorbar\": {\"outlinewidth\": 1, \"tickcolor\": \"rgb(36,36,36)\", \"ticks\": \"outside\"}}, \"type\": \"scattergl\"}], \"scattermapbox\": [{\"marker\": {\"colorbar\": {\"outlinewidth\": 1, \"tickcolor\": \"rgb(36,36,36)\", \"ticks\": \"outside\"}}, \"type\": \"scattermapbox\"}], \"scatterpolar\": [{\"marker\": {\"colorbar\": {\"outlinewidth\": 1, \"tickcolor\": \"rgb(36,36,36)\", \"ticks\": \"outside\"}}, \"type\": \"scatterpolar\"}], \"scatterpolargl\": [{\"marker\": {\"colorbar\": {\"outlinewidth\": 1, \"tickcolor\": \"rgb(36,36,36)\", \"ticks\": \"outside\"}}, \"type\": \"scatterpolargl\"}], \"scatterternary\": [{\"marker\": {\"colorbar\": {\"outlinewidth\": 1, \"tickcolor\": \"rgb(36,36,36)\", \"ticks\": \"outside\"}}, \"type\": \"scatterternary\"}], \"surface\": [{\"colorbar\": {\"outlinewidth\": 1, \"tickcolor\": \"rgb(36,36,36)\", \"ticks\": \"outside\"}, \"colorscale\": [[0.0, \"#440154\"], [0.1111111111111111, \"#482878\"], [0.2222222222222222, \"#3e4989\"], [0.3333333333333333, \"#31688e\"], [0.4444444444444444, \"#26828e\"], [0.5555555555555556, \"#1f9e89\"], [0.6666666666666666, \"#35b779\"], [0.7777777777777778, \"#6ece58\"], [0.8888888888888888, \"#b5de2b\"], [1.0, \"#fde725\"]], \"type\": \"surface\"}], \"table\": [{\"cells\": {\"fill\": {\"color\": \"rgb(237,237,237)\"}, \"line\": {\"color\": \"white\"}}, \"header\": {\"fill\": {\"color\": \"rgb(217,217,217)\"}, \"line\": {\"color\": \"white\"}}, \"type\": \"table\"}]}, \"layout\": {\"annotationdefaults\": {\"arrowhead\": 0, \"arrowwidth\": 1}, \"coloraxis\": {\"colorbar\": {\"outlinewidth\": 1, \"tickcolor\": \"rgb(36,36,36)\", \"ticks\": \"outside\"}}, \"colorscale\": {\"diverging\": [[0.0, \"rgb(103,0,31)\"], [0.1, \"rgb(178,24,43)\"], [0.2, \"rgb(214,96,77)\"], [0.3, \"rgb(244,165,130)\"], [0.4, \"rgb(253,219,199)\"], [0.5, \"rgb(247,247,247)\"], [0.6, \"rgb(209,229,240)\"], [0.7, \"rgb(146,197,222)\"], [0.8, \"rgb(67,147,195)\"], [0.9, \"rgb(33,102,172)\"], [1.0, \"rgb(5,48,97)\"]], \"sequential\": [[0.0, \"#440154\"], [0.1111111111111111, \"#482878\"], [0.2222222222222222, \"#3e4989\"], [0.3333333333333333, \"#31688e\"], [0.4444444444444444, \"#26828e\"], [0.5555555555555556, \"#1f9e89\"], [0.6666666666666666, \"#35b779\"], [0.7777777777777778, \"#6ece58\"], [0.8888888888888888, \"#b5de2b\"], [1.0, \"#fde725\"]], \"sequentialminus\": [[0.0, \"#440154\"], [0.1111111111111111, \"#482878\"], [0.2222222222222222, \"#3e4989\"], [0.3333333333333333, \"#31688e\"], [0.4444444444444444, \"#26828e\"], [0.5555555555555556, \"#1f9e89\"], [0.6666666666666666, \"#35b779\"], [0.7777777777777778, \"#6ece58\"], [0.8888888888888888, \"#b5de2b\"], [1.0, \"#fde725\"]]}, \"colorway\": [\"#1F77B4\", \"#FF7F0E\", \"#2CA02C\", \"#D62728\", \"#9467BD\", \"#8C564B\", \"#E377C2\", \"#7F7F7F\", \"#BCBD22\", \"#17BECF\"], \"font\": {\"color\": \"rgb(36,36,36)\"}, \"geo\": {\"bgcolor\": \"white\", \"lakecolor\": \"white\", \"landcolor\": \"white\", \"showlakes\": true, \"showland\": true, \"subunitcolor\": \"white\"}, \"hoverlabel\": {\"align\": \"left\"}, \"hovermode\": \"closest\", \"mapbox\": {\"style\": \"light\"}, \"paper_bgcolor\": \"white\", \"plot_bgcolor\": \"white\", \"polar\": {\"angularaxis\": {\"gridcolor\": \"rgb(232,232,232)\", \"linecolor\": \"rgb(36,36,36)\", \"showgrid\": false, \"showline\": true, \"ticks\": \"outside\"}, \"bgcolor\": \"white\", \"radialaxis\": {\"gridcolor\": \"rgb(232,232,232)\", \"linecolor\": \"rgb(36,36,36)\", \"showgrid\": false, \"showline\": true, \"ticks\": \"outside\"}}, \"scene\": {\"xaxis\": {\"backgroundcolor\": \"white\", \"gridcolor\": \"rgb(232,232,232)\", \"gridwidth\": 2, \"linecolor\": \"rgb(36,36,36)\", \"showbackground\": true, \"showgrid\": false, \"showline\": true, \"ticks\": \"outside\", \"zeroline\": false, \"zerolinecolor\": \"rgb(36,36,36)\"}, \"yaxis\": {\"backgroundcolor\": \"white\", \"gridcolor\": \"rgb(232,232,232)\", \"gridwidth\": 2, \"linecolor\": \"rgb(36,36,36)\", \"showbackground\": true, \"showgrid\": false, \"showline\": true, \"ticks\": \"outside\", \"zeroline\": false, \"zerolinecolor\": \"rgb(36,36,36)\"}, \"zaxis\": {\"backgroundcolor\": \"white\", \"gridcolor\": \"rgb(232,232,232)\", \"gridwidth\": 2, \"linecolor\": \"rgb(36,36,36)\", \"showbackground\": true, \"showgrid\": false, \"showline\": true, \"ticks\": \"outside\", \"zeroline\": false, \"zerolinecolor\": \"rgb(36,36,36)\"}}, \"shapedefaults\": {\"fillcolor\": \"black\", \"line\": {\"width\": 0}, \"opacity\": 0.3}, \"ternary\": {\"aaxis\": {\"gridcolor\": \"rgb(232,232,232)\", \"linecolor\": \"rgb(36,36,36)\", \"showgrid\": false, \"showline\": true, \"ticks\": \"outside\"}, \"baxis\": {\"gridcolor\": \"rgb(232,232,232)\", \"linecolor\": \"rgb(36,36,36)\", \"showgrid\": false, \"showline\": true, \"ticks\": \"outside\"}, \"bgcolor\": \"white\", \"caxis\": {\"gridcolor\": \"rgb(232,232,232)\", \"linecolor\": \"rgb(36,36,36)\", \"showgrid\": false, \"showline\": true, \"ticks\": \"outside\"}}, \"title\": {\"x\": 0.05}, \"xaxis\": {\"automargin\": true, \"gridcolor\": \"rgb(232,232,232)\", \"linecolor\": \"rgb(36,36,36)\", \"showgrid\": false, \"showline\": true, \"ticks\": \"outside\", \"title\": {\"standoff\": 15}, \"zeroline\": false, \"zerolinecolor\": \"rgb(36,36,36)\"}, \"yaxis\": {\"automargin\": true, \"gridcolor\": \"rgb(232,232,232)\", \"linecolor\": \"rgb(36,36,36)\", \"showgrid\": false, \"showline\": true, \"ticks\": \"outside\", \"title\": {\"standoff\": 15}, \"zeroline\": false, \"zerolinecolor\": \"rgb(36,36,36)\"}}}, \"title\": {\"text\": \"Pearson Correlation: Polling Average and Unique Commenters\"}, \"yaxis\": {\"range\": [-1, 1.1]}},\n",
       "                        {\"responsive\": true}\n",
       "                    ).then(function(){\n",
       "                            \n",
       "var gd = document.getElementById('69195212-bdc7-4173-86af-e5ff786bcd95');\n",
       "var x = new MutationObserver(function (mutations, observer) {{\n",
       "        var display = window.getComputedStyle(gd).display;\n",
       "        if (!display || display === 'none') {{\n",
       "            console.log([gd, 'removed!']);\n",
       "            Plotly.purge(gd);\n",
       "            observer.disconnect();\n",
       "        }}\n",
       "}});\n",
       "\n",
       "// Listen for the removal of the full notebook cells\n",
       "var notebookContainer = gd.closest('#notebook-container');\n",
       "if (notebookContainer) {{\n",
       "    x.observe(notebookContainer, {childList: true});\n",
       "}}\n",
       "\n",
       "// Listen for the clearing of the current output cell\n",
       "var outputEl = gd.closest('.output');\n",
       "if (outputEl) {{\n",
       "    x.observe(outputEl, {childList: true});\n",
       "}}\n",
       "\n",
       "                        })\n",
       "                };\n",
       "                });\n",
       "            </script>\n",
       "        </div>"
      ]
     },
     "metadata": {},
     "output_type": "display_data"
    }
   ],
   "source": [
    "fig = go.Figure(data=[go.Bar(name='Overall Populous', x=rank_c[\"name\"], y=rank_c[\"rho\"],text=rank_c[\"pval\"]),\n",
    "                      go.Bar(name='18-29 Age Group', x=rank_c_young[\"name\"], y=rank_c_young[\"rho\"],text=rank_c_young[\"pval\"])],\n",
    "                layout={'yaxis': {'range': [-1,1.1]}})\n",
    "# Change the bar mode\n",
    "fig.update_layout(barmode='group')\n",
    "fig.update_traces(texttemplate='p=%{text:.3f}', textposition='outside')\n",
    "# Add figure title\n",
    "fig.update_layout(\n",
    "    font=dict(size=18),\n",
    "    title_text=\"Pearson Correlation: Polling Average and Unique Commenters\",\n",
    "    template=\"simple_white\",\n",
    "    legend=dict(orientation='v', x=1.1, xanchor='left', y=1),\n",
    ")\n",
    "# fig.write_html(\"visualizations/temporal/pearson_correlation-polling_avg_n_unique.html\".format(TIME_FRAME))\n",
    "fig.show()"
   ]
  },
  {
   "cell_type": "markdown",
   "metadata": {},
   "source": [
    "## Comment Flows"
   ]
  },
  {
   "cell_type": "code",
   "execution_count": 56,
   "metadata": {},
   "outputs": [
    {
     "data": {
      "text/html": [
       "<div>\n",
       "<style scoped>\n",
       "    .dataframe tbody tr th:only-of-type {\n",
       "        vertical-align: middle;\n",
       "    }\n",
       "\n",
       "    .dataframe tbody tr th {\n",
       "        vertical-align: top;\n",
       "    }\n",
       "\n",
       "    .dataframe thead th {\n",
       "        text-align: right;\n",
       "    }\n",
       "</style>\n",
       "<table border=\"1\" class=\"dataframe\">\n",
       "  <thead>\n",
       "    <tr style=\"text-align: right;\">\n",
       "      <th></th>\n",
       "      <th>subreddit</th>\n",
       "      <th>username</th>\n",
       "      <th>count</th>\n",
       "      <th>date</th>\n",
       "    </tr>\n",
       "  </thead>\n",
       "  <tbody>\n",
       "    <tr>\n",
       "      <th>537</th>\n",
       "      <td>BaemyKlobaechar</td>\n",
       "      <td>episcopaladin</td>\n",
       "      <td>3</td>\n",
       "      <td>2019-01-01</td>\n",
       "    </tr>\n",
       "    <tr>\n",
       "      <th>558</th>\n",
       "      <td>BaemyKlobaechar</td>\n",
       "      <td>aptlynameduser</td>\n",
       "      <td>7</td>\n",
       "      <td>2019-01-01</td>\n",
       "    </tr>\n",
       "    <tr>\n",
       "      <th>585</th>\n",
       "      <td>BaemyKlobaechar</td>\n",
       "      <td>pm_me_your_aloo_gobi</td>\n",
       "      <td>2</td>\n",
       "      <td>2019-01-01</td>\n",
       "    </tr>\n",
       "    <tr>\n",
       "      <th>591</th>\n",
       "      <td>BaemyKlobaechar</td>\n",
       "      <td>ErniePanders</td>\n",
       "      <td>11</td>\n",
       "      <td>2019-01-01</td>\n",
       "    </tr>\n",
       "    <tr>\n",
       "      <th>6911</th>\n",
       "      <td>BaemyKlobaechar</td>\n",
       "      <td>Brysynner</td>\n",
       "      <td>3</td>\n",
       "      <td>2019-01-01</td>\n",
       "    </tr>\n",
       "    <tr>\n",
       "      <th>...</th>\n",
       "      <td>...</td>\n",
       "      <td>...</td>\n",
       "      <td>...</td>\n",
       "      <td>...</td>\n",
       "    </tr>\n",
       "    <tr>\n",
       "      <th>298493</th>\n",
       "      <td>YangForPresidentHQ</td>\n",
       "      <td>vademecum19</td>\n",
       "      <td>1</td>\n",
       "      <td>2019-12-01</td>\n",
       "    </tr>\n",
       "    <tr>\n",
       "      <th>298495</th>\n",
       "      <td>YangForPresidentHQ</td>\n",
       "      <td>ToadBup</td>\n",
       "      <td>2</td>\n",
       "      <td>2019-12-01</td>\n",
       "    </tr>\n",
       "    <tr>\n",
       "      <th>298500</th>\n",
       "      <td>YangForPresidentHQ</td>\n",
       "      <td>RappyBird</td>\n",
       "      <td>1</td>\n",
       "      <td>2019-12-01</td>\n",
       "    </tr>\n",
       "    <tr>\n",
       "      <th>298502</th>\n",
       "      <td>YangForPresidentHQ</td>\n",
       "      <td>Curi0usj0r9e</td>\n",
       "      <td>1</td>\n",
       "      <td>2019-12-01</td>\n",
       "    </tr>\n",
       "    <tr>\n",
       "      <th>298538</th>\n",
       "      <td>YangForPresidentHQ</td>\n",
       "      <td>dangoatemybaby</td>\n",
       "      <td>1</td>\n",
       "      <td>2019-12-01</td>\n",
       "    </tr>\n",
       "  </tbody>\n",
       "</table>\n",
       "<p>301497 rows × 4 columns</p>\n",
       "</div>"
      ],
      "text/plain": [
       "                 subreddit              username  count       date\n",
       "537        BaemyKlobaechar         episcopaladin      3 2019-01-01\n",
       "558        BaemyKlobaechar        aptlynameduser      7 2019-01-01\n",
       "585        BaemyKlobaechar  pm_me_your_aloo_gobi      2 2019-01-01\n",
       "591        BaemyKlobaechar          ErniePanders     11 2019-01-01\n",
       "6911       BaemyKlobaechar             Brysynner      3 2019-01-01\n",
       "...                    ...                   ...    ...        ...\n",
       "298493  YangForPresidentHQ           vademecum19      1 2019-12-01\n",
       "298495  YangForPresidentHQ               ToadBup      2 2019-12-01\n",
       "298500  YangForPresidentHQ             RappyBird      1 2019-12-01\n",
       "298502  YangForPresidentHQ          Curi0usj0r9e      1 2019-12-01\n",
       "298538  YangForPresidentHQ        dangoatemybaby      1 2019-12-01\n",
       "\n",
       "[301497 rows x 4 columns]"
      ]
     },
     "execution_count": 56,
     "metadata": {},
     "output_type": "execute_result"
    }
   ],
   "source": [
    "user_comments = s_user_comments.toPandas()\n",
    "user_comments['subreddit'], user_comments['date'] = zip(*user_comments['subreddit'].apply(lambda x: parse_tup(x,date_str=\"%d/%m/%Y\")))\n",
    "user_comments = user_comments.sort_values(['date','subreddit'])\n",
    "\n",
    "user_comments"
   ]
  },
  {
   "cell_type": "code",
   "execution_count": 57,
   "metadata": {
    "scrolled": false
   },
   "outputs": [
    {
     "data": {
      "text/html": [
       "<div>\n",
       "<style scoped>\n",
       "    .dataframe tbody tr th:only-of-type {\n",
       "        vertical-align: middle;\n",
       "    }\n",
       "\n",
       "    .dataframe tbody tr th {\n",
       "        vertical-align: top;\n",
       "    }\n",
       "\n",
       "    .dataframe thead th {\n",
       "        text-align: right;\n",
       "    }\n",
       "</style>\n",
       "<table border=\"1\" class=\"dataframe\">\n",
       "  <thead>\n",
       "    <tr style=\"text-align: right;\">\n",
       "      <th>subreddit</th>\n",
       "      <th>date</th>\n",
       "      <th>username</th>\n",
       "      <th>max_sub</th>\n",
       "      <th>count</th>\n",
       "    </tr>\n",
       "  </thead>\n",
       "  <tbody>\n",
       "    <tr>\n",
       "      <th>0</th>\n",
       "      <td>2019-01-01</td>\n",
       "      <td>--atreides--</td>\n",
       "      <td>SandersForPresident</td>\n",
       "      <td>1.0</td>\n",
       "    </tr>\n",
       "    <tr>\n",
       "      <th>1</th>\n",
       "      <td>2019-01-01</td>\n",
       "      <td>-Ashaman-</td>\n",
       "      <td>SandersForPresident</td>\n",
       "      <td>1.0</td>\n",
       "    </tr>\n",
       "    <tr>\n",
       "      <th>2</th>\n",
       "      <td>2019-01-01</td>\n",
       "      <td>-DementedAvenger-</td>\n",
       "      <td>SandersForPresident</td>\n",
       "      <td>1.0</td>\n",
       "    </tr>\n",
       "    <tr>\n",
       "      <th>3</th>\n",
       "      <td>2019-01-01</td>\n",
       "      <td>-Master-Builder-</td>\n",
       "      <td>SandersForPresident</td>\n",
       "      <td>4.0</td>\n",
       "    </tr>\n",
       "    <tr>\n",
       "      <th>4</th>\n",
       "      <td>2019-01-01</td>\n",
       "      <td>-Mediocrates-</td>\n",
       "      <td>SandersForPresident</td>\n",
       "      <td>2.0</td>\n",
       "    </tr>\n",
       "  </tbody>\n",
       "</table>\n",
       "</div>"
      ],
      "text/plain": [
       "subreddit       date           username              max_sub  count\n",
       "0         2019-01-01       --atreides--  SandersForPresident    1.0\n",
       "1         2019-01-01          -Ashaman-  SandersForPresident    1.0\n",
       "2         2019-01-01  -DementedAvenger-  SandersForPresident    1.0\n",
       "3         2019-01-01   -Master-Builder-  SandersForPresident    4.0\n",
       "4         2019-01-01      -Mediocrates-  SandersForPresident    2.0"
      ]
     },
     "execution_count": 57,
     "metadata": {},
     "output_type": "execute_result"
    }
   ],
   "source": [
    "uc_pivot = pd.pivot_table(user_comments, values='count', index=['date','username'], columns=['subreddit']).fillna(0)\n",
    "uc_pivot[\"max_sub\"] = uc_pivot.idxmax(axis=1)\n",
    "uc_pivot[\"count\"] = uc_pivot.max(axis=1)\n",
    "uc_pivot = uc_pivot[[\"max_sub\",\"count\"]].reset_index()\n",
    "uc_pivot.head()"
   ]
  },
  {
   "cell_type": "code",
   "execution_count": 58,
   "metadata": {},
   "outputs": [
    {
     "data": {
      "text/html": [
       "<div>\n",
       "<style scoped>\n",
       "    .dataframe tbody tr th:only-of-type {\n",
       "        vertical-align: middle;\n",
       "    }\n",
       "\n",
       "    .dataframe tbody tr th {\n",
       "        vertical-align: top;\n",
       "    }\n",
       "\n",
       "    .dataframe thead th {\n",
       "        text-align: right;\n",
       "    }\n",
       "</style>\n",
       "<table border=\"1\" class=\"dataframe\">\n",
       "  <thead>\n",
       "    <tr style=\"text-align: right;\">\n",
       "      <th>date</th>\n",
       "      <th>2019-01-01 00:00:00</th>\n",
       "      <th>2019-02-01 00:00:00</th>\n",
       "      <th>2019-03-01 00:00:00</th>\n",
       "      <th>2019-04-01 00:00:00</th>\n",
       "      <th>2019-05-01 00:00:00</th>\n",
       "      <th>2019-06-01 00:00:00</th>\n",
       "      <th>2019-07-01 00:00:00</th>\n",
       "      <th>2019-08-01 00:00:00</th>\n",
       "      <th>2019-09-01 00:00:00</th>\n",
       "      <th>2019-10-01 00:00:00</th>\n",
       "      <th>2019-11-01 00:00:00</th>\n",
       "      <th>2019-12-01 00:00:00</th>\n",
       "    </tr>\n",
       "  </thead>\n",
       "  <tbody>\n",
       "    <tr>\n",
       "      <th>0</th>\n",
       "      <td>No_Comment</td>\n",
       "      <td>No_Comment</td>\n",
       "      <td>No_Comment</td>\n",
       "      <td>No_Comment</td>\n",
       "      <td>No_Comment</td>\n",
       "      <td>SandersForPresident</td>\n",
       "      <td>No_Comment</td>\n",
       "      <td>No_Comment</td>\n",
       "      <td>No_Comment</td>\n",
       "      <td>No_Comment</td>\n",
       "      <td>No_Comment</td>\n",
       "      <td>No_Comment</td>\n",
       "    </tr>\n",
       "    <tr>\n",
       "      <th>1</th>\n",
       "      <td>No_Comment</td>\n",
       "      <td>No_Comment</td>\n",
       "      <td>SandersForPresident</td>\n",
       "      <td>No_Comment</td>\n",
       "      <td>No_Comment</td>\n",
       "      <td>SandersForPresident</td>\n",
       "      <td>YangForPresidentHQ</td>\n",
       "      <td>No_Comment</td>\n",
       "      <td>No_Comment</td>\n",
       "      <td>No_Comment</td>\n",
       "      <td>No_Comment</td>\n",
       "      <td>No_Comment</td>\n",
       "    </tr>\n",
       "    <tr>\n",
       "      <th>2</th>\n",
       "      <td>No_Comment</td>\n",
       "      <td>No_Comment</td>\n",
       "      <td>No_Comment</td>\n",
       "      <td>No_Comment</td>\n",
       "      <td>No_Comment</td>\n",
       "      <td>No_Comment</td>\n",
       "      <td>No_Comment</td>\n",
       "      <td>No_Comment</td>\n",
       "      <td>No_Comment</td>\n",
       "      <td>No_Comment</td>\n",
       "      <td>No_Comment</td>\n",
       "      <td>SandersForPresident</td>\n",
       "    </tr>\n",
       "    <tr>\n",
       "      <th>3</th>\n",
       "      <td>No_Comment</td>\n",
       "      <td>No_Comment</td>\n",
       "      <td>YangForPresidentHQ</td>\n",
       "      <td>No_Comment</td>\n",
       "      <td>No_Comment</td>\n",
       "      <td>YangForPresidentHQ</td>\n",
       "      <td>YangForPresidentHQ</td>\n",
       "      <td>YangForPresidentHQ</td>\n",
       "      <td>YangForPresidentHQ</td>\n",
       "      <td>No_Comment</td>\n",
       "      <td>No_Comment</td>\n",
       "      <td>YangForPresidentHQ</td>\n",
       "    </tr>\n",
       "    <tr>\n",
       "      <th>4</th>\n",
       "      <td>No_Comment</td>\n",
       "      <td>No_Comment</td>\n",
       "      <td>No_Comment</td>\n",
       "      <td>No_Comment</td>\n",
       "      <td>No_Comment</td>\n",
       "      <td>No_Comment</td>\n",
       "      <td>SandersForPresident</td>\n",
       "      <td>No_Comment</td>\n",
       "      <td>No_Comment</td>\n",
       "      <td>No_Comment</td>\n",
       "      <td>No_Comment</td>\n",
       "      <td>No_Comment</td>\n",
       "    </tr>\n",
       "  </tbody>\n",
       "</table>\n",
       "</div>"
      ],
      "text/plain": [
       "date 2019-01-01 00:00:00 2019-02-01 00:00:00  2019-03-01 00:00:00  \\\n",
       "0             No_Comment          No_Comment           No_Comment   \n",
       "1             No_Comment          No_Comment  SandersForPresident   \n",
       "2             No_Comment          No_Comment           No_Comment   \n",
       "3             No_Comment          No_Comment   YangForPresidentHQ   \n",
       "4             No_Comment          No_Comment           No_Comment   \n",
       "\n",
       "date 2019-04-01 00:00:00 2019-05-01 00:00:00  2019-06-01 00:00:00  \\\n",
       "0             No_Comment          No_Comment  SandersForPresident   \n",
       "1             No_Comment          No_Comment  SandersForPresident   \n",
       "2             No_Comment          No_Comment           No_Comment   \n",
       "3             No_Comment          No_Comment   YangForPresidentHQ   \n",
       "4             No_Comment          No_Comment           No_Comment   \n",
       "\n",
       "date  2019-07-01 00:00:00 2019-08-01 00:00:00 2019-09-01 00:00:00  \\\n",
       "0              No_Comment          No_Comment          No_Comment   \n",
       "1      YangForPresidentHQ          No_Comment          No_Comment   \n",
       "2              No_Comment          No_Comment          No_Comment   \n",
       "3      YangForPresidentHQ  YangForPresidentHQ  YangForPresidentHQ   \n",
       "4     SandersForPresident          No_Comment          No_Comment   \n",
       "\n",
       "date 2019-10-01 00:00:00 2019-11-01 00:00:00  2019-12-01 00:00:00  \n",
       "0             No_Comment          No_Comment           No_Comment  \n",
       "1             No_Comment          No_Comment           No_Comment  \n",
       "2             No_Comment          No_Comment  SandersForPresident  \n",
       "3             No_Comment          No_Comment   YangForPresidentHQ  \n",
       "4             No_Comment          No_Comment           No_Comment  "
      ]
     },
     "execution_count": 58,
     "metadata": {},
     "output_type": "execute_result"
    }
   ],
   "source": [
    "flow = pd.pivot_table(uc_pivot,index='username',columns='date',values='max_sub',aggfunc=np.sum).reset_index().fillna(\"No_Comment\")\n",
    "flow = flow.drop(\"username\",axis=1)\n",
    "flow.head()"
   ]
  },
  {
   "cell_type": "code",
   "execution_count": 59,
   "metadata": {},
   "outputs": [
    {
     "data": {
      "text/html": [
       "<div>\n",
       "<style scoped>\n",
       "    .dataframe tbody tr th:only-of-type {\n",
       "        vertical-align: middle;\n",
       "    }\n",
       "\n",
       "    .dataframe tbody tr th {\n",
       "        vertical-align: top;\n",
       "    }\n",
       "\n",
       "    .dataframe thead th {\n",
       "        text-align: right;\n",
       "    }\n",
       "</style>\n",
       "<table border=\"1\" class=\"dataframe\">\n",
       "  <thead>\n",
       "    <tr style=\"text-align: right;\">\n",
       "      <th></th>\n",
       "      <th>2019-01-01 00:00:00</th>\n",
       "      <th>2019-02-01 00:00:00</th>\n",
       "      <th>2019-03-01 00:00:00</th>\n",
       "      <th>2019-04-01 00:00:00</th>\n",
       "      <th>2019-05-01 00:00:00</th>\n",
       "      <th>2019-06-01 00:00:00</th>\n",
       "      <th>2019-07-01 00:00:00</th>\n",
       "      <th>2019-08-01 00:00:00</th>\n",
       "      <th>2019-09-01 00:00:00</th>\n",
       "      <th>2019-10-01 00:00:00</th>\n",
       "      <th>2019-11-01 00:00:00</th>\n",
       "      <th>2019-12-01 00:00:00</th>\n",
       "      <th>count</th>\n",
       "    </tr>\n",
       "  </thead>\n",
       "  <tbody>\n",
       "    <tr>\n",
       "      <th>0</th>\n",
       "      <td>BaemyKlobaechar</td>\n",
       "      <td>BaemyKlobaechar</td>\n",
       "      <td>BaemyKlobaechar</td>\n",
       "      <td>BaemyKlobaechar</td>\n",
       "      <td>BaemyKlobaechar</td>\n",
       "      <td>BaemyKlobaechar</td>\n",
       "      <td>BaemyKlobaechar</td>\n",
       "      <td>BaemyKlobaechar</td>\n",
       "      <td>BaemyKlobaechar</td>\n",
       "      <td>BaemyKlobaechar</td>\n",
       "      <td>No_Comment</td>\n",
       "      <td>No_Comment</td>\n",
       "      <td>1</td>\n",
       "    </tr>\n",
       "    <tr>\n",
       "      <th>1</th>\n",
       "      <td>BaemyKlobaechar</td>\n",
       "      <td>BaemyKlobaechar</td>\n",
       "      <td>BaemyKlobaechar</td>\n",
       "      <td>No_Comment</td>\n",
       "      <td>No_Comment</td>\n",
       "      <td>No_Comment</td>\n",
       "      <td>No_Comment</td>\n",
       "      <td>No_Comment</td>\n",
       "      <td>No_Comment</td>\n",
       "      <td>No_Comment</td>\n",
       "      <td>No_Comment</td>\n",
       "      <td>BaemyKlobaechar</td>\n",
       "      <td>1</td>\n",
       "    </tr>\n",
       "    <tr>\n",
       "      <th>2</th>\n",
       "      <td>BaemyKlobaechar</td>\n",
       "      <td>BaemyKlobaechar</td>\n",
       "      <td>No_Comment</td>\n",
       "      <td>BaemyKlobaechar</td>\n",
       "      <td>No_Comment</td>\n",
       "      <td>BaemyKlobaechar</td>\n",
       "      <td>No_Comment</td>\n",
       "      <td>BaemyKlobaechar</td>\n",
       "      <td>BaemyKlobaechar</td>\n",
       "      <td>No_Comment</td>\n",
       "      <td>No_Comment</td>\n",
       "      <td>No_Comment</td>\n",
       "      <td>1</td>\n",
       "    </tr>\n",
       "    <tr>\n",
       "      <th>3</th>\n",
       "      <td>BaemyKlobaechar</td>\n",
       "      <td>BaemyKlobaechar</td>\n",
       "      <td>No_Comment</td>\n",
       "      <td>BaemyKlobaechar</td>\n",
       "      <td>Pete_Buttigieg</td>\n",
       "      <td>No_Comment</td>\n",
       "      <td>No_Comment</td>\n",
       "      <td>No_Comment</td>\n",
       "      <td>SandersForPresident</td>\n",
       "      <td>No_Comment</td>\n",
       "      <td>No_Comment</td>\n",
       "      <td>No_Comment</td>\n",
       "      <td>1</td>\n",
       "    </tr>\n",
       "    <tr>\n",
       "      <th>4</th>\n",
       "      <td>BaemyKlobaechar</td>\n",
       "      <td>BaemyKlobaechar</td>\n",
       "      <td>No_Comment</td>\n",
       "      <td>JoeBiden</td>\n",
       "      <td>No_Comment</td>\n",
       "      <td>No_Comment</td>\n",
       "      <td>No_Comment</td>\n",
       "      <td>No_Comment</td>\n",
       "      <td>JoeBiden</td>\n",
       "      <td>No_Comment</td>\n",
       "      <td>Pete_Buttigieg</td>\n",
       "      <td>Pete_Buttigieg</td>\n",
       "      <td>1</td>\n",
       "    </tr>\n",
       "  </tbody>\n",
       "</table>\n",
       "</div>"
      ],
      "text/plain": [
       "  2019-01-01 00:00:00 2019-02-01 00:00:00 2019-03-01 00:00:00  \\\n",
       "0     BaemyKlobaechar     BaemyKlobaechar     BaemyKlobaechar   \n",
       "1     BaemyKlobaechar     BaemyKlobaechar     BaemyKlobaechar   \n",
       "2     BaemyKlobaechar     BaemyKlobaechar          No_Comment   \n",
       "3     BaemyKlobaechar     BaemyKlobaechar          No_Comment   \n",
       "4     BaemyKlobaechar     BaemyKlobaechar          No_Comment   \n",
       "\n",
       "  2019-04-01 00:00:00 2019-05-01 00:00:00 2019-06-01 00:00:00  \\\n",
       "0     BaemyKlobaechar     BaemyKlobaechar     BaemyKlobaechar   \n",
       "1          No_Comment          No_Comment          No_Comment   \n",
       "2     BaemyKlobaechar          No_Comment     BaemyKlobaechar   \n",
       "3     BaemyKlobaechar      Pete_Buttigieg          No_Comment   \n",
       "4            JoeBiden          No_Comment          No_Comment   \n",
       "\n",
       "  2019-07-01 00:00:00 2019-08-01 00:00:00  2019-09-01 00:00:00  \\\n",
       "0     BaemyKlobaechar     BaemyKlobaechar      BaemyKlobaechar   \n",
       "1          No_Comment          No_Comment           No_Comment   \n",
       "2          No_Comment     BaemyKlobaechar      BaemyKlobaechar   \n",
       "3          No_Comment          No_Comment  SandersForPresident   \n",
       "4          No_Comment          No_Comment             JoeBiden   \n",
       "\n",
       "  2019-10-01 00:00:00 2019-11-01 00:00:00 2019-12-01 00:00:00  count  \n",
       "0     BaemyKlobaechar          No_Comment          No_Comment      1  \n",
       "1          No_Comment          No_Comment     BaemyKlobaechar      1  \n",
       "2          No_Comment          No_Comment          No_Comment      1  \n",
       "3          No_Comment          No_Comment          No_Comment      1  \n",
       "4          No_Comment      Pete_Buttigieg      Pete_Buttigieg      1  "
      ]
     },
     "execution_count": 59,
     "metadata": {},
     "output_type": "execute_result"
    }
   ],
   "source": [
    "# Count identical journeys (which is why you group by every column)\n",
    "flow = flow.groupby(list(flow.columns)).size().to_frame().rename({0: 'count'},axis=1).reset_index()\n",
    "flow.head()"
   ]
  },
  {
   "cell_type": "code",
   "execution_count": 60,
   "metadata": {},
   "outputs": [
    {
     "data": {
      "text/html": [
       "<div>\n",
       "<style scoped>\n",
       "    .dataframe tbody tr th:only-of-type {\n",
       "        vertical-align: middle;\n",
       "    }\n",
       "\n",
       "    .dataframe tbody tr th {\n",
       "        vertical-align: top;\n",
       "    }\n",
       "\n",
       "    .dataframe thead th {\n",
       "        text-align: right;\n",
       "    }\n",
       "</style>\n",
       "<table border=\"1\" class=\"dataframe\">\n",
       "  <thead>\n",
       "    <tr style=\"text-align: right;\">\n",
       "      <th></th>\n",
       "      <th>2019-01-01 00:00:00</th>\n",
       "      <th>2019-02-01 00:00:00</th>\n",
       "      <th>2019-03-01 00:00:00</th>\n",
       "      <th>2019-04-01 00:00:00</th>\n",
       "      <th>2019-05-01 00:00:00</th>\n",
       "      <th>2019-06-01 00:00:00</th>\n",
       "      <th>2019-07-01 00:00:00</th>\n",
       "      <th>2019-08-01 00:00:00</th>\n",
       "      <th>2019-09-01 00:00:00</th>\n",
       "      <th>2019-10-01 00:00:00</th>\n",
       "      <th>2019-11-01 00:00:00</th>\n",
       "      <th>2019-12-01 00:00:00</th>\n",
       "      <th>count</th>\n",
       "    </tr>\n",
       "  </thead>\n",
       "  <tbody>\n",
       "    <tr>\n",
       "      <th>0</th>\n",
       "      <td>1: BaemyKlobaechar</td>\n",
       "      <td>2: BaemyKlobaechar</td>\n",
       "      <td>3: BaemyKlobaechar</td>\n",
       "      <td>4: BaemyKlobaechar</td>\n",
       "      <td>5: BaemyKlobaechar</td>\n",
       "      <td>6: BaemyKlobaechar</td>\n",
       "      <td>7: BaemyKlobaechar</td>\n",
       "      <td>8: BaemyKlobaechar</td>\n",
       "      <td>9: BaemyKlobaechar</td>\n",
       "      <td>10: BaemyKlobaechar</td>\n",
       "      <td>11: No_Comment</td>\n",
       "      <td>12: No_Comment</td>\n",
       "      <td>1</td>\n",
       "    </tr>\n",
       "    <tr>\n",
       "      <th>1</th>\n",
       "      <td>1: BaemyKlobaechar</td>\n",
       "      <td>2: BaemyKlobaechar</td>\n",
       "      <td>3: BaemyKlobaechar</td>\n",
       "      <td>4: No_Comment</td>\n",
       "      <td>5: No_Comment</td>\n",
       "      <td>6: No_Comment</td>\n",
       "      <td>7: No_Comment</td>\n",
       "      <td>8: No_Comment</td>\n",
       "      <td>9: No_Comment</td>\n",
       "      <td>10: No_Comment</td>\n",
       "      <td>11: No_Comment</td>\n",
       "      <td>12: BaemyKlobaechar</td>\n",
       "      <td>1</td>\n",
       "    </tr>\n",
       "    <tr>\n",
       "      <th>2</th>\n",
       "      <td>1: BaemyKlobaechar</td>\n",
       "      <td>2: BaemyKlobaechar</td>\n",
       "      <td>3: No_Comment</td>\n",
       "      <td>4: BaemyKlobaechar</td>\n",
       "      <td>5: No_Comment</td>\n",
       "      <td>6: BaemyKlobaechar</td>\n",
       "      <td>7: No_Comment</td>\n",
       "      <td>8: BaemyKlobaechar</td>\n",
       "      <td>9: BaemyKlobaechar</td>\n",
       "      <td>10: No_Comment</td>\n",
       "      <td>11: No_Comment</td>\n",
       "      <td>12: No_Comment</td>\n",
       "      <td>1</td>\n",
       "    </tr>\n",
       "    <tr>\n",
       "      <th>3</th>\n",
       "      <td>1: BaemyKlobaechar</td>\n",
       "      <td>2: BaemyKlobaechar</td>\n",
       "      <td>3: No_Comment</td>\n",
       "      <td>4: BaemyKlobaechar</td>\n",
       "      <td>5: Pete_Buttigieg</td>\n",
       "      <td>6: No_Comment</td>\n",
       "      <td>7: No_Comment</td>\n",
       "      <td>8: No_Comment</td>\n",
       "      <td>9: SandersForPresident</td>\n",
       "      <td>10: No_Comment</td>\n",
       "      <td>11: No_Comment</td>\n",
       "      <td>12: No_Comment</td>\n",
       "      <td>1</td>\n",
       "    </tr>\n",
       "    <tr>\n",
       "      <th>4</th>\n",
       "      <td>1: BaemyKlobaechar</td>\n",
       "      <td>2: BaemyKlobaechar</td>\n",
       "      <td>3: No_Comment</td>\n",
       "      <td>4: JoeBiden</td>\n",
       "      <td>5: No_Comment</td>\n",
       "      <td>6: No_Comment</td>\n",
       "      <td>7: No_Comment</td>\n",
       "      <td>8: No_Comment</td>\n",
       "      <td>9: JoeBiden</td>\n",
       "      <td>10: No_Comment</td>\n",
       "      <td>11: Pete_Buttigieg</td>\n",
       "      <td>12: Pete_Buttigieg</td>\n",
       "      <td>1</td>\n",
       "    </tr>\n",
       "  </tbody>\n",
       "</table>\n",
       "</div>"
      ],
      "text/plain": [
       "  2019-01-01 00:00:00 2019-02-01 00:00:00 2019-03-01 00:00:00  \\\n",
       "0  1: BaemyKlobaechar  2: BaemyKlobaechar  3: BaemyKlobaechar   \n",
       "1  1: BaemyKlobaechar  2: BaemyKlobaechar  3: BaemyKlobaechar   \n",
       "2  1: BaemyKlobaechar  2: BaemyKlobaechar       3: No_Comment   \n",
       "3  1: BaemyKlobaechar  2: BaemyKlobaechar       3: No_Comment   \n",
       "4  1: BaemyKlobaechar  2: BaemyKlobaechar       3: No_Comment   \n",
       "\n",
       "  2019-04-01 00:00:00 2019-05-01 00:00:00 2019-06-01 00:00:00  \\\n",
       "0  4: BaemyKlobaechar  5: BaemyKlobaechar  6: BaemyKlobaechar   \n",
       "1       4: No_Comment       5: No_Comment       6: No_Comment   \n",
       "2  4: BaemyKlobaechar       5: No_Comment  6: BaemyKlobaechar   \n",
       "3  4: BaemyKlobaechar   5: Pete_Buttigieg       6: No_Comment   \n",
       "4         4: JoeBiden       5: No_Comment       6: No_Comment   \n",
       "\n",
       "  2019-07-01 00:00:00 2019-08-01 00:00:00     2019-09-01 00:00:00  \\\n",
       "0  7: BaemyKlobaechar  8: BaemyKlobaechar      9: BaemyKlobaechar   \n",
       "1       7: No_Comment       8: No_Comment           9: No_Comment   \n",
       "2       7: No_Comment  8: BaemyKlobaechar      9: BaemyKlobaechar   \n",
       "3       7: No_Comment       8: No_Comment  9: SandersForPresident   \n",
       "4       7: No_Comment       8: No_Comment             9: JoeBiden   \n",
       "\n",
       "   2019-10-01 00:00:00 2019-11-01 00:00:00  2019-12-01 00:00:00  count  \n",
       "0  10: BaemyKlobaechar      11: No_Comment       12: No_Comment      1  \n",
       "1       10: No_Comment      11: No_Comment  12: BaemyKlobaechar      1  \n",
       "2       10: No_Comment      11: No_Comment       12: No_Comment      1  \n",
       "3       10: No_Comment      11: No_Comment       12: No_Comment      1  \n",
       "4       10: No_Comment  11: Pete_Buttigieg   12: Pete_Buttigieg      1  "
      ]
     },
     "execution_count": 60,
     "metadata": {},
     "output_type": "execute_result"
    }
   ],
   "source": [
    "for i, col in enumerate(flow.columns[:-1]):\n",
    "    flow[col] = flow[col].apply(lambda x : \"{}: {}\".format(i+1,x))\n",
    "flow.head()"
   ]
  },
  {
   "cell_type": "code",
   "execution_count": 61,
   "metadata": {},
   "outputs": [
    {
     "data": {
      "text/html": [
       "<div>\n",
       "<style scoped>\n",
       "    .dataframe tbody tr th:only-of-type {\n",
       "        vertical-align: middle;\n",
       "    }\n",
       "\n",
       "    .dataframe tbody tr th {\n",
       "        vertical-align: top;\n",
       "    }\n",
       "\n",
       "    .dataframe thead th {\n",
       "        text-align: right;\n",
       "    }\n",
       "</style>\n",
       "<table border=\"1\" class=\"dataframe\">\n",
       "  <thead>\n",
       "    <tr style=\"text-align: right;\">\n",
       "      <th></th>\n",
       "      <th>source</th>\n",
       "      <th>target</th>\n",
       "      <th>count</th>\n",
       "      <th>sourceID</th>\n",
       "      <th>targetID</th>\n",
       "      <th>color</th>\n",
       "    </tr>\n",
       "  </thead>\n",
       "  <tbody>\n",
       "    <tr>\n",
       "      <th>109</th>\n",
       "      <td>1: SandersForPresident</td>\n",
       "      <td>2: SandersForPresident</td>\n",
       "      <td>3.321184</td>\n",
       "      <td>1</td>\n",
       "      <td>8</td>\n",
       "      <td>rgba(44, 160, 44,0.4)</td>\n",
       "    </tr>\n",
       "    <tr>\n",
       "      <th>108</th>\n",
       "      <td>1: SandersForPresident</td>\n",
       "      <td>2: No_Comment</td>\n",
       "      <td>3.528917</td>\n",
       "      <td>1</td>\n",
       "      <td>13</td>\n",
       "      <td>rgba(192,192,192,0.4)</td>\n",
       "    </tr>\n",
       "    <tr>\n",
       "      <th>95</th>\n",
       "      <td>1: ElizabethWarren</td>\n",
       "      <td>2: No_Comment</td>\n",
       "      <td>1.732394</td>\n",
       "      <td>3</td>\n",
       "      <td>13</td>\n",
       "      <td>rgba(192,192,192,0.4)</td>\n",
       "    </tr>\n",
       "    <tr>\n",
       "      <th>103</th>\n",
       "      <td>1: No_Comment</td>\n",
       "      <td>2: SandersForPresident</td>\n",
       "      <td>3.975432</td>\n",
       "      <td>6</td>\n",
       "      <td>8</td>\n",
       "      <td>rgba(0,0,160,0.4)</td>\n",
       "    </tr>\n",
       "    <tr>\n",
       "      <th>98</th>\n",
       "      <td>1: No_Comment</td>\n",
       "      <td>2: BaemyKlobaechar</td>\n",
       "      <td>1.857332</td>\n",
       "      <td>6</td>\n",
       "      <td>9</td>\n",
       "      <td>rgba(0,0,160,0.4)</td>\n",
       "    </tr>\n",
       "  </tbody>\n",
       "</table>\n",
       "</div>"
      ],
      "text/plain": [
       "                     source                  target     count  sourceID  \\\n",
       "109  1: SandersForPresident  2: SandersForPresident  3.321184         1   \n",
       "108  1: SandersForPresident           2: No_Comment  3.528917         1   \n",
       "95       1: ElizabethWarren           2: No_Comment  1.732394         3   \n",
       "103           1: No_Comment  2: SandersForPresident  3.975432         6   \n",
       "98            1: No_Comment      2: BaemyKlobaechar  1.857332         6   \n",
       "\n",
       "     targetID                  color  \n",
       "109         8  rgba(44, 160, 44,0.4)  \n",
       "108        13  rgba(192,192,192,0.4)  \n",
       "95         13  rgba(192,192,192,0.4)  \n",
       "103         8      rgba(0,0,160,0.4)  \n",
       "98          9      rgba(0,0,160,0.4)  "
      ]
     },
     "execution_count": 61,
     "metadata": {},
     "output_type": "execute_result"
    }
   ],
   "source": [
    "# transform df into a source-target pair\n",
    "f_cols = list(flow.columns)\n",
    "\n",
    "label_list = [\"{}: {}\".format(i+1,cand) for i in range(12) for cand in left_candidates+[\"No_Comment\"]]\n",
    "color_list = [px.colors.qualitative.T10[c] for i in range(12) for c in range(len(left_candidates+[\"No_Comment\"]))]\n",
    "source_target_df =  pd.DataFrame(columns=['source','target','count'])\n",
    "for i in range(len(f_cols)-2):\n",
    "    temp_df = flow[[f_cols[i],f_cols[i+1],'count']]\n",
    "    temp_df.columns = ['source','target','count']\n",
    "    source_target_df = pd.concat([source_target_df,temp_df])\n",
    "    source_target_df = source_target_df.groupby(['source','target']).agg({'count':'sum'}).reset_index()\n",
    "\n",
    "# add index for source-target pair\n",
    "source_target_df['sourceID'] = source_target_df['source'].apply(lambda x: label_list.index(x))\n",
    "source_target_df['targetID'] = source_target_df['target'].apply(lambda x: label_list.index(x))\n",
    "source_target_df = source_target_df[source_target_df[\"count\"] > 40]\n",
    "source_target_df[\"count\"] = source_target_df[\"count\"].apply(lambda x: np.log10(x)) \n",
    "source_target_df = source_target_df.sort_values([\"sourceID\",\"targetID\"])\n",
    "def color(row):\n",
    "    s,t  = row[\"source\"], row[\"target\"]\n",
    "    # Get the name after the colon\n",
    "    s,t = s.split(\":\",1)[1].strip(),t.split(\":\",1)[1].strip()\n",
    "    if t == \"No_Comment\":\n",
    "        return \"rgba(192,192,192,0.4)\"\n",
    "    return \"rgba(44, 160, 44,0.4)\" if s==t else \"rgba(0,0,160,0.4)\"\n",
    "source_target_df[\"color\"] = source_target_df[[\"source\",\"target\"]].apply(color,axis=1)\n",
    "source_target_df.head()"
   ]
  },
  {
   "cell_type": "code",
   "execution_count": 64,
   "metadata": {
    "scrolled": false
   },
   "outputs": [
    {
     "data": {
      "application/vnd.plotly.v1+json": {
       "config": {
        "plotlyServerURL": "https://plot.ly"
       },
       "data": [
        {
         "link": {
          "color": [
           "rgba(44, 160, 44,0.4)",
           "rgba(192,192,192,0.4)",
           "rgba(192,192,192,0.4)",
           "rgba(0,0,160,0.4)",
           "rgba(0,0,160,0.4)",
           "rgba(0,0,160,0.4)",
           "rgba(0,0,160,0.4)",
           "rgba(192,192,192,0.4)",
           "rgba(44, 160, 44,0.4)",
           "rgba(0,0,160,0.4)",
           "rgba(192,192,192,0.4)",
           "rgba(192,192,192,0.4)",
           "rgba(192,192,192,0.4)",
           "rgba(44, 160, 44,0.4)",
           "rgba(192,192,192,0.4)",
           "rgba(0,0,160,0.4)",
           "rgba(0,0,160,0.4)",
           "rgba(0,0,160,0.4)",
           "rgba(0,0,160,0.4)",
           "rgba(192,192,192,0.4)",
           "rgba(44, 160, 44,0.4)",
           "rgba(0,0,160,0.4)",
           "rgba(0,0,160,0.4)",
           "rgba(192,192,192,0.4)",
           "rgba(192,192,192,0.4)",
           "rgba(44, 160, 44,0.4)",
           "rgba(192,192,192,0.4)",
           "rgba(0,0,160,0.4)",
           "rgba(0,0,160,0.4)",
           "rgba(44, 160, 44,0.4)",
           "rgba(192,192,192,0.4)",
           "rgba(0,0,160,0.4)",
           "rgba(0,0,160,0.4)",
           "rgba(0,0,160,0.4)",
           "rgba(0,0,160,0.4)",
           "rgba(0,0,160,0.4)",
           "rgba(192,192,192,0.4)",
           "rgba(44, 160, 44,0.4)",
           "rgba(192,192,192,0.4)",
           "rgba(44, 160, 44,0.4)",
           "rgba(0,0,160,0.4)",
           "rgba(0,0,160,0.4)",
           "rgba(0,0,160,0.4)",
           "rgba(192,192,192,0.4)",
           "rgba(44, 160, 44,0.4)",
           "rgba(192,192,192,0.4)",
           "rgba(0,0,160,0.4)",
           "rgba(0,0,160,0.4)",
           "rgba(44, 160, 44,0.4)",
           "rgba(192,192,192,0.4)",
           "rgba(0,0,160,0.4)",
           "rgba(44, 160, 44,0.4)",
           "rgba(192,192,192,0.4)",
           "rgba(0,0,160,0.4)",
           "rgba(0,0,160,0.4)",
           "rgba(0,0,160,0.4)",
           "rgba(0,0,160,0.4)",
           "rgba(0,0,160,0.4)",
           "rgba(192,192,192,0.4)",
           "rgba(44, 160, 44,0.4)",
           "rgba(192,192,192,0.4)",
           "rgba(44, 160, 44,0.4)",
           "rgba(0,0,160,0.4)",
           "rgba(0,0,160,0.4)",
           "rgba(192,192,192,0.4)",
           "rgba(0,0,160,0.4)",
           "rgba(44, 160, 44,0.4)",
           "rgba(192,192,192,0.4)",
           "rgba(0,0,160,0.4)",
           "rgba(0,0,160,0.4)",
           "rgba(44, 160, 44,0.4)",
           "rgba(192,192,192,0.4)",
           "rgba(0,0,160,0.4)",
           "rgba(44, 160, 44,0.4)",
           "rgba(192,192,192,0.4)",
           "rgba(0,0,160,0.4)",
           "rgba(0,0,160,0.4)",
           "rgba(0,0,160,0.4)",
           "rgba(0,0,160,0.4)",
           "rgba(0,0,160,0.4)",
           "rgba(192,192,192,0.4)",
           "rgba(44, 160, 44,0.4)",
           "rgba(192,192,192,0.4)",
           "rgba(44, 160, 44,0.4)",
           "rgba(0,0,160,0.4)",
           "rgba(0,0,160,0.4)",
           "rgba(0,0,160,0.4)",
           "rgba(192,192,192,0.4)",
           "rgba(0,0,160,0.4)",
           "rgba(44, 160, 44,0.4)",
           "rgba(0,0,160,0.4)",
           "rgba(192,192,192,0.4)",
           "rgba(44, 160, 44,0.4)",
           "rgba(192,192,192,0.4)",
           "rgba(0,0,160,0.4)",
           "rgba(44, 160, 44,0.4)",
           "rgba(192,192,192,0.4)",
           "rgba(0,0,160,0.4)",
           "rgba(0,0,160,0.4)",
           "rgba(0,0,160,0.4)",
           "rgba(0,0,160,0.4)",
           "rgba(0,0,160,0.4)",
           "rgba(192,192,192,0.4)",
           "rgba(44, 160, 44,0.4)",
           "rgba(192,192,192,0.4)",
           "rgba(44, 160, 44,0.4)",
           "rgba(0,0,160,0.4)",
           "rgba(0,0,160,0.4)",
           "rgba(192,192,192,0.4)",
           "rgba(0,0,160,0.4)",
           "rgba(44, 160, 44,0.4)",
           "rgba(192,192,192,0.4)",
           "rgba(0,0,160,0.4)",
           "rgba(44, 160, 44,0.4)",
           "rgba(0,0,160,0.4)",
           "rgba(192,192,192,0.4)",
           "rgba(0,0,160,0.4)",
           "rgba(44, 160, 44,0.4)",
           "rgba(192,192,192,0.4)",
           "rgba(0,0,160,0.4)",
           "rgba(0,0,160,0.4)",
           "rgba(0,0,160,0.4)",
           "rgba(0,0,160,0.4)",
           "rgba(0,0,160,0.4)",
           "rgba(192,192,192,0.4)",
           "rgba(44, 160, 44,0.4)",
           "rgba(192,192,192,0.4)",
           "rgba(44, 160, 44,0.4)",
           "rgba(0,0,160,0.4)",
           "rgba(0,0,160,0.4)",
           "rgba(192,192,192,0.4)",
           "rgba(0,0,160,0.4)",
           "rgba(44, 160, 44,0.4)",
           "rgba(192,192,192,0.4)",
           "rgba(44, 160, 44,0.4)",
           "rgba(192,192,192,0.4)",
           "rgba(0,0,160,0.4)",
           "rgba(44, 160, 44,0.4)",
           "rgba(192,192,192,0.4)",
           "rgba(0,0,160,0.4)",
           "rgba(0,0,160,0.4)",
           "rgba(0,0,160,0.4)",
           "rgba(0,0,160,0.4)",
           "rgba(0,0,160,0.4)",
           "rgba(192,192,192,0.4)",
           "rgba(44, 160, 44,0.4)",
           "rgba(192,192,192,0.4)",
           "rgba(44, 160, 44,0.4)",
           "rgba(0,0,160,0.4)",
           "rgba(0,0,160,0.4)",
           "rgba(192,192,192,0.4)",
           "rgba(0,0,160,0.4)",
           "rgba(44, 160, 44,0.4)",
           "rgba(192,192,192,0.4)",
           "rgba(44, 160, 44,0.4)",
           "rgba(192,192,192,0.4)",
           "rgba(0,0,160,0.4)",
           "rgba(44, 160, 44,0.4)",
           "rgba(192,192,192,0.4)",
           "rgba(0,0,160,0.4)",
           "rgba(0,0,160,0.4)",
           "rgba(0,0,160,0.4)",
           "rgba(0,0,160,0.4)",
           "rgba(0,0,160,0.4)",
           "rgba(192,192,192,0.4)",
           "rgba(44, 160, 44,0.4)",
           "rgba(192,192,192,0.4)",
           "rgba(44, 160, 44,0.4)",
           "rgba(0,0,160,0.4)",
           "rgba(0,0,160,0.4)",
           "rgba(192,192,192,0.4)",
           "rgba(0,0,160,0.4)",
           "rgba(44, 160, 44,0.4)",
           "rgba(0,0,160,0.4)",
           "rgba(192,192,192,0.4)",
           "rgba(44, 160, 44,0.4)",
           "rgba(192,192,192,0.4)",
           "rgba(0,0,160,0.4)",
           "rgba(0,0,160,0.4)",
           "rgba(44, 160, 44,0.4)",
           "rgba(192,192,192,0.4)",
           "rgba(0,0,160,0.4)",
           "rgba(0,0,160,0.4)",
           "rgba(0,0,160,0.4)",
           "rgba(0,0,160,0.4)",
           "rgba(0,0,160,0.4)",
           "rgba(192,192,192,0.4)",
           "rgba(44, 160, 44,0.4)",
           "rgba(192,192,192,0.4)",
           "rgba(44, 160, 44,0.4)",
           "rgba(0,0,160,0.4)",
           "rgba(0,0,160,0.4)",
           "rgba(192,192,192,0.4)",
           "rgba(0,0,160,0.4)",
           "rgba(44, 160, 44,0.4)",
           "rgba(0,0,160,0.4)",
           "rgba(0,0,160,0.4)",
           "rgba(192,192,192,0.4)",
           "rgba(0,0,160,0.4)",
           "rgba(44, 160, 44,0.4)",
           "rgba(192,192,192,0.4)",
           "rgba(0,0,160,0.4)",
           "rgba(44, 160, 44,0.4)",
           "rgba(192,192,192,0.4)",
           "rgba(0,0,160,0.4)",
           "rgba(0,0,160,0.4)",
           "rgba(0,0,160,0.4)",
           "rgba(0,0,160,0.4)",
           "rgba(0,0,160,0.4)",
           "rgba(192,192,192,0.4)"
          ],
          "hovertemplate": "10^%{value} users switched subreddits<extra></extra>",
          "source": [
           1,
           1,
           3,
           6,
           6,
           6,
           6,
           6,
           8,
           8,
           8,
           9,
           10,
           12,
           12,
           13,
           13,
           13,
           13,
           13,
           15,
           15,
           15,
           15,
           17,
           18,
           18,
           19,
           19,
           19,
           19,
           20,
           20,
           20,
           20,
           20,
           20,
           21,
           21,
           22,
           22,
           22,
           22,
           22,
           24,
           24,
           25,
           25,
           25,
           25,
           26,
           26,
           26,
           27,
           27,
           27,
           27,
           27,
           27,
           28,
           28,
           29,
           29,
           29,
           29,
           31,
           31,
           31,
           32,
           32,
           32,
           32,
           33,
           33,
           33,
           34,
           34,
           34,
           34,
           34,
           34,
           35,
           35,
           36,
           36,
           36,
           36,
           36,
           38,
           38,
           38,
           38,
           39,
           39,
           40,
           40,
           40,
           41,
           41,
           41,
           41,
           41,
           41,
           42,
           42,
           43,
           43,
           43,
           43,
           45,
           45,
           45,
           46,
           46,
           46,
           46,
           47,
           47,
           47,
           48,
           48,
           48,
           48,
           48,
           48,
           49,
           49,
           50,
           50,
           50,
           50,
           52,
           52,
           52,
           53,
           53,
           54,
           54,
           54,
           55,
           55,
           55,
           55,
           55,
           55,
           56,
           56,
           57,
           57,
           57,
           57,
           59,
           59,
           59,
           60,
           60,
           61,
           61,
           61,
           62,
           62,
           62,
           62,
           62,
           62,
           63,
           63,
           64,
           64,
           64,
           64,
           66,
           66,
           66,
           66,
           67,
           67,
           68,
           68,
           68,
           68,
           69,
           69,
           69,
           69,
           69,
           69,
           70,
           70,
           71,
           71,
           71,
           71,
           73,
           73,
           73,
           73,
           73,
           74,
           74,
           74,
           75,
           75,
           75,
           76,
           76,
           76,
           76,
           76,
           76
          ],
          "target": [
           8,
           13,
           13,
           8,
           9,
           10,
           12,
           13,
           15,
           19,
           20,
           20,
           20,
           19,
           20,
           15,
           17,
           18,
           19,
           20,
           22,
           25,
           26,
           27,
           27,
           25,
           27,
           22,
           25,
           26,
           27,
           21,
           22,
           24,
           25,
           26,
           27,
           28,
           34,
           29,
           31,
           32,
           33,
           34,
           31,
           34,
           29,
           31,
           32,
           34,
           29,
           33,
           34,
           28,
           29,
           31,
           32,
           33,
           34,
           35,
           41,
           36,
           38,
           40,
           41,
           36,
           38,
           41,
           36,
           38,
           39,
           41,
           36,
           40,
           41,
           35,
           36,
           38,
           39,
           40,
           41,
           42,
           48,
           43,
           45,
           46,
           47,
           48,
           43,
           45,
           46,
           48,
           46,
           48,
           43,
           47,
           48,
           42,
           43,
           45,
           46,
           47,
           48,
           49,
           55,
           50,
           52,
           54,
           55,
           50,
           52,
           55,
           50,
           53,
           54,
           55,
           50,
           54,
           55,
           49,
           50,
           52,
           53,
           54,
           55,
           56,
           62,
           57,
           59,
           61,
           62,
           57,
           59,
           62,
           60,
           62,
           57,
           61,
           62,
           56,
           57,
           59,
           60,
           61,
           62,
           63,
           69,
           64,
           66,
           68,
           69,
           64,
           66,
           69,
           67,
           69,
           64,
           68,
           69,
           63,
           64,
           66,
           67,
           68,
           69,
           70,
           76,
           71,
           73,
           75,
           76,
           71,
           73,
           74,
           76,
           74,
           76,
           71,
           74,
           75,
           76,
           70,
           71,
           73,
           74,
           75,
           76,
           77,
           83,
           78,
           81,
           82,
           83,
           78,
           80,
           81,
           82,
           83,
           78,
           81,
           83,
           78,
           82,
           83,
           77,
           78,
           80,
           81,
           82,
           83
          ],
          "value": [
           3.3211840273023143,
           3.5289167002776547,
           1.7323937598229686,
           3.975431808509263,
           1.8573324964312685,
           1.919078092376074,
           2.714329759745233,
           5.107386365953068,
           3.578524605274993,
           2.0043213737826426,
           3.881897973573011,
           1.8808135922807914,
           1.9084850188786497,
           2.505149978319906,
           2.330413773349191,
           3.8730879855902858,
           1.806179973983887,
           3.212453961040276,
           3.5289167002776547,
           5.075419208933336,
           3.5613399414589013,
           2.1789769472931693,
           1.919078092376074,
           3.8673496171887924,
           1.7403626894942439,
           3.0232524596337114,
           2.7730546933642626,
           1.7403626894942439,
           1.6989700043360187,
           3.1795517911651876,
           3.3404441148401185,
           2.05307844348342,
           3.7706311277778064,
           2.432969290874406,
           3.473924693416157,
           3.330007700872759,
           5.06279625850655,
           1.6532125137753437,
           1.8260748027008264,
           3.4516329474569907,
           1.662757831681574,
           1.6812412373755872,
           1.6232492903979006,
           3.822625678774141,
           2.1271047983648077,
           2.250420002308894,
           1.9395192526186185,
           1.7160033436347992,
           3.150756439860309,
           3.423737249982329,
           1.6532125137753437,
           3.1931245983544616,
           3.3271545124094315,
           2.0681858617461617,
           3.6225248624035684,
           2.6655809910179533,
           2.9849771264154934,
           3.143014800254095,
           5.074256761517392,
           1.7558748556724915,
           2.0569048513364727,
           3.4202858849419178,
           1.7781512503836436,
           1.8573324964312685,
           3.6399842480415887,
           1.6232492903979006,
           2.437750562820388,
           2.561101383649056,
           1.7481880270062005,
           1.6334684555795866,
           3.0492180226701815,
           3.080987046910887,
           1.7708520116421442,
           3.239549720840473,
           3.0813473078041325,
           2.123851640967086,
           4.1573358620972805,
           2.916453948549925,
           3.162564406523019,
           3.541454428747589,
           5.041649237923496,
           1.7634279935629373,
           2.12057393120585,
           3.550228353055094,
           1.8750612633917,
           1.7708520116421442,
           2.3502480183341627,
           4.122412495411281,
           1.662757831681574,
           2.625312450961674,
           1.6127838567197355,
           2.837588438235511,
           3.09377178149873,
           3.1082266563749283,
           1.806179973983887,
           3.443262987458695,
           3.387567779417189,
           1.8260748027008264,
           3.867820908045573,
           2.8135809885681917,
           3.1290450598879582,
           3.682145076373832,
           5.013115421368239,
           1.792391689498254,
           1.7708520116421442,
           3.6060587494103142,
           1.7323937598229686,
           2.3483048630481607,
           3.8275631112547237,
           1.8388490907372552,
           2.661812685537261,
           2.7937903846908188,
           1.7403626894942439,
           3.0718820073061255,
           1.6901960800285136,
           3.1451964061141817,
           2.2576785748691846,
           3.5918434112247843,
           3.571941635074462,
           2.1818435879447726,
           4.154971441544471,
           2.863322860120456,
           2.9925535178321354,
           3.944778681123507,
           4.981777847694567,
           2,
           2.0791812460476247,
           3.6842167951388807,
           1.8692317197309762,
           2.514547752660286,
           4.1258714674176815,
           1.6812412373755872,
           2.7551122663950713,
           2.8048206787211623,
           2.997386384397313,
           3.0523090996473234,
           2.4471580313422194,
           3.7812525942484565,
           3.821906377352323,
           2.075546961392531,
           4.008302024212002,
           3.00774777800074,
           2.9222062774390163,
           3.8687032022785366,
           4.948691646453361,
           1.9542425094393248,
           2.1335389083702174,
           3.6503075231319366,
           2.05307844348342,
           2.436162647040756,
           4.021602716028243,
           1.7558748556724915,
           2.8785217955012063,
           2.9355072658247128,
           3,
           2.9084850188786495,
           2.369215857410143,
           3.821513528404773,
           3.837588438235511,
           1.8195439355418688,
           3.976212377117377,
           3.0362295440862948,
           3.020775488193558,
           3.8455940931600243,
           4.964066253016779,
           1.9084850188786497,
           1.8388490907372552,
           3.6482624057480444,
           1.9777236052888478,
           2.3138672203691533,
           3.976533380391938,
           1.8808135922807914,
           2.907411360774586,
           1.6901960800285136,
           3.0253058652647704,
           3.0996806411092503,
           2.906335041805091,
           2.285557309007774,
           1.6232492903979006,
           3.814580516010319,
           3.854427505787861,
           2.037426497940624,
           3.870988813760575,
           2.9489017609702137,
           3.1571544399062814,
           3.805160901599434,
           4.977783030994179,
           2.012837224705172,
           1.8976270912904414,
           3.6775157047987577,
           1.8195439355418688,
           2.3710678622717363,
           3.8497264441963277,
           2.0681858617461617,
           2.7810369386211318,
           1.7323937598229686,
           1.6434526764861874,
           3.0187004986662433,
           1.806179973983887,
           3.1705550585212086,
           3.0806264869218056,
           2.3242824552976926,
           3.85394144588049,
           3.7598188773748262,
           2.2810333672477277,
           4.1181323999209045,
           2.790988475088816,
           3.180412632838324,
           3.969462507974637,
           4.948359164706384
          ]
         },
         "node": {
          "color": [
           "#4C78A8",
           "#F58518",
           "#E45756",
           "#72B7B2",
           "#54A24B",
           "#EECA3B",
           "#B279A2",
           "#4C78A8",
           "#F58518",
           "#E45756",
           "#72B7B2",
           "#54A24B",
           "#EECA3B",
           "#B279A2",
           "#4C78A8",
           "#F58518",
           "#E45756",
           "#72B7B2",
           "#54A24B",
           "#EECA3B",
           "#B279A2",
           "#4C78A8",
           "#F58518",
           "#E45756",
           "#72B7B2",
           "#54A24B",
           "#EECA3B",
           "#B279A2",
           "#4C78A8",
           "#F58518",
           "#E45756",
           "#72B7B2",
           "#54A24B",
           "#EECA3B",
           "#B279A2",
           "#4C78A8",
           "#F58518",
           "#E45756",
           "#72B7B2",
           "#54A24B",
           "#EECA3B",
           "#B279A2",
           "#4C78A8",
           "#F58518",
           "#E45756",
           "#72B7B2",
           "#54A24B",
           "#EECA3B",
           "#B279A2",
           "#4C78A8",
           "#F58518",
           "#E45756",
           "#72B7B2",
           "#54A24B",
           "#EECA3B",
           "#B279A2",
           "#4C78A8",
           "#F58518",
           "#E45756",
           "#72B7B2",
           "#54A24B",
           "#EECA3B",
           "#B279A2",
           "#4C78A8",
           "#F58518",
           "#E45756",
           "#72B7B2",
           "#54A24B",
           "#EECA3B",
           "#B279A2",
           "#4C78A8",
           "#F58518",
           "#E45756",
           "#72B7B2",
           "#54A24B",
           "#EECA3B",
           "#B279A2",
           "#4C78A8",
           "#F58518",
           "#E45756",
           "#72B7B2",
           "#54A24B",
           "#EECA3B",
           "#B279A2"
          ],
          "hovertemplate": "10^%{value} users predominantly commented on %{label}<extra></extra>",
          "label": [
           "1: JoeBiden",
           "1: SandersForPresident",
           "1: BaemyKlobaechar",
           "1: ElizabethWarren",
           "1: Pete_Buttigieg",
           "1: YangForPresidentHQ",
           "1: No_Comment",
           "2: JoeBiden",
           "2: SandersForPresident",
           "2: BaemyKlobaechar",
           "2: ElizabethWarren",
           "2: Pete_Buttigieg",
           "2: YangForPresidentHQ",
           "2: No_Comment",
           "3: JoeBiden",
           "3: SandersForPresident",
           "3: BaemyKlobaechar",
           "3: ElizabethWarren",
           "3: Pete_Buttigieg",
           "3: YangForPresidentHQ",
           "3: No_Comment",
           "4: JoeBiden",
           "4: SandersForPresident",
           "4: BaemyKlobaechar",
           "4: ElizabethWarren",
           "4: Pete_Buttigieg",
           "4: YangForPresidentHQ",
           "4: No_Comment",
           "5: JoeBiden",
           "5: SandersForPresident",
           "5: BaemyKlobaechar",
           "5: ElizabethWarren",
           "5: Pete_Buttigieg",
           "5: YangForPresidentHQ",
           "5: No_Comment",
           "6: JoeBiden",
           "6: SandersForPresident",
           "6: BaemyKlobaechar",
           "6: ElizabethWarren",
           "6: Pete_Buttigieg",
           "6: YangForPresidentHQ",
           "6: No_Comment",
           "7: JoeBiden",
           "7: SandersForPresident",
           "7: BaemyKlobaechar",
           "7: ElizabethWarren",
           "7: Pete_Buttigieg",
           "7: YangForPresidentHQ",
           "7: No_Comment",
           "8: JoeBiden",
           "8: SandersForPresident",
           "8: BaemyKlobaechar",
           "8: ElizabethWarren",
           "8: Pete_Buttigieg",
           "8: YangForPresidentHQ",
           "8: No_Comment",
           "9: JoeBiden",
           "9: SandersForPresident",
           "9: BaemyKlobaechar",
           "9: ElizabethWarren",
           "9: Pete_Buttigieg",
           "9: YangForPresidentHQ",
           "9: No_Comment",
           "10: JoeBiden",
           "10: SandersForPresident",
           "10: BaemyKlobaechar",
           "10: ElizabethWarren",
           "10: Pete_Buttigieg",
           "10: YangForPresidentHQ",
           "10: No_Comment",
           "11: JoeBiden",
           "11: SandersForPresident",
           "11: BaemyKlobaechar",
           "11: ElizabethWarren",
           "11: Pete_Buttigieg",
           "11: YangForPresidentHQ",
           "11: No_Comment",
           "12: JoeBiden",
           "12: SandersForPresident",
           "12: BaemyKlobaechar",
           "12: ElizabethWarren",
           "12: Pete_Buttigieg",
           "12: YangForPresidentHQ",
           "12: No_Comment"
          ],
          "line": {
           "color": "black",
           "width": 0.5
          },
          "pad": 20,
          "thickness": 10
         },
         "type": "sankey"
        }
       ],
       "layout": {
        "font": {
         "size": 17
        },
        "height": 800,
        "margin": {
         "b": 100,
         "l": 50,
         "r": 100,
         "t": 40
        },
        "template": {
         "data": {
          "bar": [
           {
            "error_x": {
             "color": "#2a3f5f"
            },
            "error_y": {
             "color": "#2a3f5f"
            },
            "marker": {
             "line": {
              "color": "#E5ECF6",
              "width": 0.5
             }
            },
            "type": "bar"
           }
          ],
          "barpolar": [
           {
            "marker": {
             "line": {
              "color": "#E5ECF6",
              "width": 0.5
             }
            },
            "type": "barpolar"
           }
          ],
          "carpet": [
           {
            "aaxis": {
             "endlinecolor": "#2a3f5f",
             "gridcolor": "white",
             "linecolor": "white",
             "minorgridcolor": "white",
             "startlinecolor": "#2a3f5f"
            },
            "baxis": {
             "endlinecolor": "#2a3f5f",
             "gridcolor": "white",
             "linecolor": "white",
             "minorgridcolor": "white",
             "startlinecolor": "#2a3f5f"
            },
            "type": "carpet"
           }
          ],
          "choropleth": [
           {
            "colorbar": {
             "outlinewidth": 0,
             "ticks": ""
            },
            "type": "choropleth"
           }
          ],
          "contour": [
           {
            "colorbar": {
             "outlinewidth": 0,
             "ticks": ""
            },
            "colorscale": [
             [
              0,
              "#0d0887"
             ],
             [
              0.1111111111111111,
              "#46039f"
             ],
             [
              0.2222222222222222,
              "#7201a8"
             ],
             [
              0.3333333333333333,
              "#9c179e"
             ],
             [
              0.4444444444444444,
              "#bd3786"
             ],
             [
              0.5555555555555556,
              "#d8576b"
             ],
             [
              0.6666666666666666,
              "#ed7953"
             ],
             [
              0.7777777777777778,
              "#fb9f3a"
             ],
             [
              0.8888888888888888,
              "#fdca26"
             ],
             [
              1,
              "#f0f921"
             ]
            ],
            "type": "contour"
           }
          ],
          "contourcarpet": [
           {
            "colorbar": {
             "outlinewidth": 0,
             "ticks": ""
            },
            "type": "contourcarpet"
           }
          ],
          "heatmap": [
           {
            "colorbar": {
             "outlinewidth": 0,
             "ticks": ""
            },
            "colorscale": [
             [
              0,
              "#0d0887"
             ],
             [
              0.1111111111111111,
              "#46039f"
             ],
             [
              0.2222222222222222,
              "#7201a8"
             ],
             [
              0.3333333333333333,
              "#9c179e"
             ],
             [
              0.4444444444444444,
              "#bd3786"
             ],
             [
              0.5555555555555556,
              "#d8576b"
             ],
             [
              0.6666666666666666,
              "#ed7953"
             ],
             [
              0.7777777777777778,
              "#fb9f3a"
             ],
             [
              0.8888888888888888,
              "#fdca26"
             ],
             [
              1,
              "#f0f921"
             ]
            ],
            "type": "heatmap"
           }
          ],
          "heatmapgl": [
           {
            "colorbar": {
             "outlinewidth": 0,
             "ticks": ""
            },
            "colorscale": [
             [
              0,
              "#0d0887"
             ],
             [
              0.1111111111111111,
              "#46039f"
             ],
             [
              0.2222222222222222,
              "#7201a8"
             ],
             [
              0.3333333333333333,
              "#9c179e"
             ],
             [
              0.4444444444444444,
              "#bd3786"
             ],
             [
              0.5555555555555556,
              "#d8576b"
             ],
             [
              0.6666666666666666,
              "#ed7953"
             ],
             [
              0.7777777777777778,
              "#fb9f3a"
             ],
             [
              0.8888888888888888,
              "#fdca26"
             ],
             [
              1,
              "#f0f921"
             ]
            ],
            "type": "heatmapgl"
           }
          ],
          "histogram": [
           {
            "marker": {
             "colorbar": {
              "outlinewidth": 0,
              "ticks": ""
             }
            },
            "type": "histogram"
           }
          ],
          "histogram2d": [
           {
            "colorbar": {
             "outlinewidth": 0,
             "ticks": ""
            },
            "colorscale": [
             [
              0,
              "#0d0887"
             ],
             [
              0.1111111111111111,
              "#46039f"
             ],
             [
              0.2222222222222222,
              "#7201a8"
             ],
             [
              0.3333333333333333,
              "#9c179e"
             ],
             [
              0.4444444444444444,
              "#bd3786"
             ],
             [
              0.5555555555555556,
              "#d8576b"
             ],
             [
              0.6666666666666666,
              "#ed7953"
             ],
             [
              0.7777777777777778,
              "#fb9f3a"
             ],
             [
              0.8888888888888888,
              "#fdca26"
             ],
             [
              1,
              "#f0f921"
             ]
            ],
            "type": "histogram2d"
           }
          ],
          "histogram2dcontour": [
           {
            "colorbar": {
             "outlinewidth": 0,
             "ticks": ""
            },
            "colorscale": [
             [
              0,
              "#0d0887"
             ],
             [
              0.1111111111111111,
              "#46039f"
             ],
             [
              0.2222222222222222,
              "#7201a8"
             ],
             [
              0.3333333333333333,
              "#9c179e"
             ],
             [
              0.4444444444444444,
              "#bd3786"
             ],
             [
              0.5555555555555556,
              "#d8576b"
             ],
             [
              0.6666666666666666,
              "#ed7953"
             ],
             [
              0.7777777777777778,
              "#fb9f3a"
             ],
             [
              0.8888888888888888,
              "#fdca26"
             ],
             [
              1,
              "#f0f921"
             ]
            ],
            "type": "histogram2dcontour"
           }
          ],
          "mesh3d": [
           {
            "colorbar": {
             "outlinewidth": 0,
             "ticks": ""
            },
            "type": "mesh3d"
           }
          ],
          "parcoords": [
           {
            "line": {
             "colorbar": {
              "outlinewidth": 0,
              "ticks": ""
             }
            },
            "type": "parcoords"
           }
          ],
          "pie": [
           {
            "automargin": true,
            "type": "pie"
           }
          ],
          "scatter": [
           {
            "marker": {
             "colorbar": {
              "outlinewidth": 0,
              "ticks": ""
             }
            },
            "type": "scatter"
           }
          ],
          "scatter3d": [
           {
            "line": {
             "colorbar": {
              "outlinewidth": 0,
              "ticks": ""
             }
            },
            "marker": {
             "colorbar": {
              "outlinewidth": 0,
              "ticks": ""
             }
            },
            "type": "scatter3d"
           }
          ],
          "scattercarpet": [
           {
            "marker": {
             "colorbar": {
              "outlinewidth": 0,
              "ticks": ""
             }
            },
            "type": "scattercarpet"
           }
          ],
          "scattergeo": [
           {
            "marker": {
             "colorbar": {
              "outlinewidth": 0,
              "ticks": ""
             }
            },
            "type": "scattergeo"
           }
          ],
          "scattergl": [
           {
            "marker": {
             "colorbar": {
              "outlinewidth": 0,
              "ticks": ""
             }
            },
            "type": "scattergl"
           }
          ],
          "scattermapbox": [
           {
            "marker": {
             "colorbar": {
              "outlinewidth": 0,
              "ticks": ""
             }
            },
            "type": "scattermapbox"
           }
          ],
          "scatterpolar": [
           {
            "marker": {
             "colorbar": {
              "outlinewidth": 0,
              "ticks": ""
             }
            },
            "type": "scatterpolar"
           }
          ],
          "scatterpolargl": [
           {
            "marker": {
             "colorbar": {
              "outlinewidth": 0,
              "ticks": ""
             }
            },
            "type": "scatterpolargl"
           }
          ],
          "scatterternary": [
           {
            "marker": {
             "colorbar": {
              "outlinewidth": 0,
              "ticks": ""
             }
            },
            "type": "scatterternary"
           }
          ],
          "surface": [
           {
            "colorbar": {
             "outlinewidth": 0,
             "ticks": ""
            },
            "colorscale": [
             [
              0,
              "#0d0887"
             ],
             [
              0.1111111111111111,
              "#46039f"
             ],
             [
              0.2222222222222222,
              "#7201a8"
             ],
             [
              0.3333333333333333,
              "#9c179e"
             ],
             [
              0.4444444444444444,
              "#bd3786"
             ],
             [
              0.5555555555555556,
              "#d8576b"
             ],
             [
              0.6666666666666666,
              "#ed7953"
             ],
             [
              0.7777777777777778,
              "#fb9f3a"
             ],
             [
              0.8888888888888888,
              "#fdca26"
             ],
             [
              1,
              "#f0f921"
             ]
            ],
            "type": "surface"
           }
          ],
          "table": [
           {
            "cells": {
             "fill": {
              "color": "#EBF0F8"
             },
             "line": {
              "color": "white"
             }
            },
            "header": {
             "fill": {
              "color": "#C8D4E3"
             },
             "line": {
              "color": "white"
             }
            },
            "type": "table"
           }
          ]
         },
         "layout": {
          "annotationdefaults": {
           "arrowcolor": "#2a3f5f",
           "arrowhead": 0,
           "arrowwidth": 1
          },
          "coloraxis": {
           "colorbar": {
            "outlinewidth": 0,
            "ticks": ""
           }
          },
          "colorscale": {
           "diverging": [
            [
             0,
             "#8e0152"
            ],
            [
             0.1,
             "#c51b7d"
            ],
            [
             0.2,
             "#de77ae"
            ],
            [
             0.3,
             "#f1b6da"
            ],
            [
             0.4,
             "#fde0ef"
            ],
            [
             0.5,
             "#f7f7f7"
            ],
            [
             0.6,
             "#e6f5d0"
            ],
            [
             0.7,
             "#b8e186"
            ],
            [
             0.8,
             "#7fbc41"
            ],
            [
             0.9,
             "#4d9221"
            ],
            [
             1,
             "#276419"
            ]
           ],
           "sequential": [
            [
             0,
             "#0d0887"
            ],
            [
             0.1111111111111111,
             "#46039f"
            ],
            [
             0.2222222222222222,
             "#7201a8"
            ],
            [
             0.3333333333333333,
             "#9c179e"
            ],
            [
             0.4444444444444444,
             "#bd3786"
            ],
            [
             0.5555555555555556,
             "#d8576b"
            ],
            [
             0.6666666666666666,
             "#ed7953"
            ],
            [
             0.7777777777777778,
             "#fb9f3a"
            ],
            [
             0.8888888888888888,
             "#fdca26"
            ],
            [
             1,
             "#f0f921"
            ]
           ],
           "sequentialminus": [
            [
             0,
             "#0d0887"
            ],
            [
             0.1111111111111111,
             "#46039f"
            ],
            [
             0.2222222222222222,
             "#7201a8"
            ],
            [
             0.3333333333333333,
             "#9c179e"
            ],
            [
             0.4444444444444444,
             "#bd3786"
            ],
            [
             0.5555555555555556,
             "#d8576b"
            ],
            [
             0.6666666666666666,
             "#ed7953"
            ],
            [
             0.7777777777777778,
             "#fb9f3a"
            ],
            [
             0.8888888888888888,
             "#fdca26"
            ],
            [
             1,
             "#f0f921"
            ]
           ]
          },
          "colorway": [
           "#636efa",
           "#EF553B",
           "#00cc96",
           "#ab63fa",
           "#FFA15A",
           "#19d3f3",
           "#FF6692",
           "#B6E880",
           "#FF97FF",
           "#FECB52"
          ],
          "font": {
           "color": "#2a3f5f"
          },
          "geo": {
           "bgcolor": "white",
           "lakecolor": "white",
           "landcolor": "#E5ECF6",
           "showlakes": true,
           "showland": true,
           "subunitcolor": "white"
          },
          "hoverlabel": {
           "align": "left"
          },
          "hovermode": "closest",
          "mapbox": {
           "style": "light"
          },
          "paper_bgcolor": "white",
          "plot_bgcolor": "#E5ECF6",
          "polar": {
           "angularaxis": {
            "gridcolor": "white",
            "linecolor": "white",
            "ticks": ""
           },
           "bgcolor": "#E5ECF6",
           "radialaxis": {
            "gridcolor": "white",
            "linecolor": "white",
            "ticks": ""
           }
          },
          "scene": {
           "xaxis": {
            "backgroundcolor": "#E5ECF6",
            "gridcolor": "white",
            "gridwidth": 2,
            "linecolor": "white",
            "showbackground": true,
            "ticks": "",
            "zerolinecolor": "white"
           },
           "yaxis": {
            "backgroundcolor": "#E5ECF6",
            "gridcolor": "white",
            "gridwidth": 2,
            "linecolor": "white",
            "showbackground": true,
            "ticks": "",
            "zerolinecolor": "white"
           },
           "zaxis": {
            "backgroundcolor": "#E5ECF6",
            "gridcolor": "white",
            "gridwidth": 2,
            "linecolor": "white",
            "showbackground": true,
            "ticks": "",
            "zerolinecolor": "white"
           }
          },
          "shapedefaults": {
           "line": {
            "color": "#2a3f5f"
           }
          },
          "ternary": {
           "aaxis": {
            "gridcolor": "white",
            "linecolor": "white",
            "ticks": ""
           },
           "baxis": {
            "gridcolor": "white",
            "linecolor": "white",
            "ticks": ""
           },
           "bgcolor": "#E5ECF6",
           "caxis": {
            "gridcolor": "white",
            "linecolor": "white",
            "ticks": ""
           }
          },
          "title": {
           "x": 0.05
          },
          "xaxis": {
           "automargin": true,
           "gridcolor": "white",
           "linecolor": "white",
           "ticks": "",
           "title": {
            "standoff": 15
           },
           "zerolinecolor": "white",
           "zerolinewidth": 2
          },
          "yaxis": {
           "automargin": true,
           "gridcolor": "white",
           "linecolor": "white",
           "ticks": "",
           "title": {
            "standoff": 15
           },
           "zerolinecolor": "white",
           "zerolinewidth": 2
          }
         }
        },
        "title": {
         "text": "User Flow on Political Subreddits"
        },
        "width": 3000
       }
      },
      "text/html": [
       "<div>\n",
       "        \n",
       "        \n",
       "            <div id=\"77767310-c223-4567-aec1-59bdb4875505\" class=\"plotly-graph-div\" style=\"height:800px; width:3000px;\"></div>\n",
       "            <script type=\"text/javascript\">\n",
       "                require([\"plotly\"], function(Plotly) {\n",
       "                    window.PLOTLYENV=window.PLOTLYENV || {};\n",
       "                    \n",
       "                if (document.getElementById(\"77767310-c223-4567-aec1-59bdb4875505\")) {\n",
       "                    Plotly.newPlot(\n",
       "                        '77767310-c223-4567-aec1-59bdb4875505',\n",
       "                        [{\"link\": {\"color\": [\"rgba(44, 160, 44,0.4)\", \"rgba(192,192,192,0.4)\", \"rgba(192,192,192,0.4)\", \"rgba(0,0,160,0.4)\", \"rgba(0,0,160,0.4)\", \"rgba(0,0,160,0.4)\", \"rgba(0,0,160,0.4)\", \"rgba(192,192,192,0.4)\", \"rgba(44, 160, 44,0.4)\", \"rgba(0,0,160,0.4)\", \"rgba(192,192,192,0.4)\", \"rgba(192,192,192,0.4)\", \"rgba(192,192,192,0.4)\", \"rgba(44, 160, 44,0.4)\", \"rgba(192,192,192,0.4)\", \"rgba(0,0,160,0.4)\", \"rgba(0,0,160,0.4)\", \"rgba(0,0,160,0.4)\", \"rgba(0,0,160,0.4)\", \"rgba(192,192,192,0.4)\", \"rgba(44, 160, 44,0.4)\", \"rgba(0,0,160,0.4)\", \"rgba(0,0,160,0.4)\", \"rgba(192,192,192,0.4)\", \"rgba(192,192,192,0.4)\", \"rgba(44, 160, 44,0.4)\", \"rgba(192,192,192,0.4)\", \"rgba(0,0,160,0.4)\", \"rgba(0,0,160,0.4)\", \"rgba(44, 160, 44,0.4)\", \"rgba(192,192,192,0.4)\", \"rgba(0,0,160,0.4)\", \"rgba(0,0,160,0.4)\", \"rgba(0,0,160,0.4)\", \"rgba(0,0,160,0.4)\", \"rgba(0,0,160,0.4)\", \"rgba(192,192,192,0.4)\", \"rgba(44, 160, 44,0.4)\", \"rgba(192,192,192,0.4)\", \"rgba(44, 160, 44,0.4)\", \"rgba(0,0,160,0.4)\", \"rgba(0,0,160,0.4)\", \"rgba(0,0,160,0.4)\", \"rgba(192,192,192,0.4)\", \"rgba(44, 160, 44,0.4)\", \"rgba(192,192,192,0.4)\", \"rgba(0,0,160,0.4)\", \"rgba(0,0,160,0.4)\", \"rgba(44, 160, 44,0.4)\", \"rgba(192,192,192,0.4)\", \"rgba(0,0,160,0.4)\", \"rgba(44, 160, 44,0.4)\", \"rgba(192,192,192,0.4)\", \"rgba(0,0,160,0.4)\", \"rgba(0,0,160,0.4)\", \"rgba(0,0,160,0.4)\", \"rgba(0,0,160,0.4)\", \"rgba(0,0,160,0.4)\", \"rgba(192,192,192,0.4)\", \"rgba(44, 160, 44,0.4)\", \"rgba(192,192,192,0.4)\", \"rgba(44, 160, 44,0.4)\", \"rgba(0,0,160,0.4)\", \"rgba(0,0,160,0.4)\", \"rgba(192,192,192,0.4)\", \"rgba(0,0,160,0.4)\", \"rgba(44, 160, 44,0.4)\", \"rgba(192,192,192,0.4)\", \"rgba(0,0,160,0.4)\", \"rgba(0,0,160,0.4)\", \"rgba(44, 160, 44,0.4)\", \"rgba(192,192,192,0.4)\", \"rgba(0,0,160,0.4)\", \"rgba(44, 160, 44,0.4)\", \"rgba(192,192,192,0.4)\", \"rgba(0,0,160,0.4)\", \"rgba(0,0,160,0.4)\", \"rgba(0,0,160,0.4)\", \"rgba(0,0,160,0.4)\", \"rgba(0,0,160,0.4)\", \"rgba(192,192,192,0.4)\", \"rgba(44, 160, 44,0.4)\", \"rgba(192,192,192,0.4)\", \"rgba(44, 160, 44,0.4)\", \"rgba(0,0,160,0.4)\", \"rgba(0,0,160,0.4)\", \"rgba(0,0,160,0.4)\", \"rgba(192,192,192,0.4)\", \"rgba(0,0,160,0.4)\", \"rgba(44, 160, 44,0.4)\", \"rgba(0,0,160,0.4)\", \"rgba(192,192,192,0.4)\", \"rgba(44, 160, 44,0.4)\", \"rgba(192,192,192,0.4)\", \"rgba(0,0,160,0.4)\", \"rgba(44, 160, 44,0.4)\", \"rgba(192,192,192,0.4)\", \"rgba(0,0,160,0.4)\", \"rgba(0,0,160,0.4)\", \"rgba(0,0,160,0.4)\", \"rgba(0,0,160,0.4)\", \"rgba(0,0,160,0.4)\", \"rgba(192,192,192,0.4)\", \"rgba(44, 160, 44,0.4)\", \"rgba(192,192,192,0.4)\", \"rgba(44, 160, 44,0.4)\", \"rgba(0,0,160,0.4)\", \"rgba(0,0,160,0.4)\", \"rgba(192,192,192,0.4)\", \"rgba(0,0,160,0.4)\", \"rgba(44, 160, 44,0.4)\", \"rgba(192,192,192,0.4)\", \"rgba(0,0,160,0.4)\", \"rgba(44, 160, 44,0.4)\", \"rgba(0,0,160,0.4)\", \"rgba(192,192,192,0.4)\", \"rgba(0,0,160,0.4)\", \"rgba(44, 160, 44,0.4)\", \"rgba(192,192,192,0.4)\", \"rgba(0,0,160,0.4)\", \"rgba(0,0,160,0.4)\", \"rgba(0,0,160,0.4)\", \"rgba(0,0,160,0.4)\", \"rgba(0,0,160,0.4)\", \"rgba(192,192,192,0.4)\", \"rgba(44, 160, 44,0.4)\", \"rgba(192,192,192,0.4)\", \"rgba(44, 160, 44,0.4)\", \"rgba(0,0,160,0.4)\", \"rgba(0,0,160,0.4)\", \"rgba(192,192,192,0.4)\", \"rgba(0,0,160,0.4)\", \"rgba(44, 160, 44,0.4)\", \"rgba(192,192,192,0.4)\", \"rgba(44, 160, 44,0.4)\", \"rgba(192,192,192,0.4)\", \"rgba(0,0,160,0.4)\", \"rgba(44, 160, 44,0.4)\", \"rgba(192,192,192,0.4)\", \"rgba(0,0,160,0.4)\", \"rgba(0,0,160,0.4)\", \"rgba(0,0,160,0.4)\", \"rgba(0,0,160,0.4)\", \"rgba(0,0,160,0.4)\", \"rgba(192,192,192,0.4)\", \"rgba(44, 160, 44,0.4)\", \"rgba(192,192,192,0.4)\", \"rgba(44, 160, 44,0.4)\", \"rgba(0,0,160,0.4)\", \"rgba(0,0,160,0.4)\", \"rgba(192,192,192,0.4)\", \"rgba(0,0,160,0.4)\", \"rgba(44, 160, 44,0.4)\", \"rgba(192,192,192,0.4)\", \"rgba(44, 160, 44,0.4)\", \"rgba(192,192,192,0.4)\", \"rgba(0,0,160,0.4)\", \"rgba(44, 160, 44,0.4)\", \"rgba(192,192,192,0.4)\", \"rgba(0,0,160,0.4)\", \"rgba(0,0,160,0.4)\", \"rgba(0,0,160,0.4)\", \"rgba(0,0,160,0.4)\", \"rgba(0,0,160,0.4)\", \"rgba(192,192,192,0.4)\", \"rgba(44, 160, 44,0.4)\", \"rgba(192,192,192,0.4)\", \"rgba(44, 160, 44,0.4)\", \"rgba(0,0,160,0.4)\", \"rgba(0,0,160,0.4)\", \"rgba(192,192,192,0.4)\", \"rgba(0,0,160,0.4)\", \"rgba(44, 160, 44,0.4)\", \"rgba(0,0,160,0.4)\", \"rgba(192,192,192,0.4)\", \"rgba(44, 160, 44,0.4)\", \"rgba(192,192,192,0.4)\", \"rgba(0,0,160,0.4)\", \"rgba(0,0,160,0.4)\", \"rgba(44, 160, 44,0.4)\", \"rgba(192,192,192,0.4)\", \"rgba(0,0,160,0.4)\", \"rgba(0,0,160,0.4)\", \"rgba(0,0,160,0.4)\", \"rgba(0,0,160,0.4)\", \"rgba(0,0,160,0.4)\", \"rgba(192,192,192,0.4)\", \"rgba(44, 160, 44,0.4)\", \"rgba(192,192,192,0.4)\", \"rgba(44, 160, 44,0.4)\", \"rgba(0,0,160,0.4)\", \"rgba(0,0,160,0.4)\", \"rgba(192,192,192,0.4)\", \"rgba(0,0,160,0.4)\", \"rgba(44, 160, 44,0.4)\", \"rgba(0,0,160,0.4)\", \"rgba(0,0,160,0.4)\", \"rgba(192,192,192,0.4)\", \"rgba(0,0,160,0.4)\", \"rgba(44, 160, 44,0.4)\", \"rgba(192,192,192,0.4)\", \"rgba(0,0,160,0.4)\", \"rgba(44, 160, 44,0.4)\", \"rgba(192,192,192,0.4)\", \"rgba(0,0,160,0.4)\", \"rgba(0,0,160,0.4)\", \"rgba(0,0,160,0.4)\", \"rgba(0,0,160,0.4)\", \"rgba(0,0,160,0.4)\", \"rgba(192,192,192,0.4)\"], \"hovertemplate\": \"10^%{value} users switched subreddits<extra></extra>\", \"source\": [1, 1, 3, 6, 6, 6, 6, 6, 8, 8, 8, 9, 10, 12, 12, 13, 13, 13, 13, 13, 15, 15, 15, 15, 17, 18, 18, 19, 19, 19, 19, 20, 20, 20, 20, 20, 20, 21, 21, 22, 22, 22, 22, 22, 24, 24, 25, 25, 25, 25, 26, 26, 26, 27, 27, 27, 27, 27, 27, 28, 28, 29, 29, 29, 29, 31, 31, 31, 32, 32, 32, 32, 33, 33, 33, 34, 34, 34, 34, 34, 34, 35, 35, 36, 36, 36, 36, 36, 38, 38, 38, 38, 39, 39, 40, 40, 40, 41, 41, 41, 41, 41, 41, 42, 42, 43, 43, 43, 43, 45, 45, 45, 46, 46, 46, 46, 47, 47, 47, 48, 48, 48, 48, 48, 48, 49, 49, 50, 50, 50, 50, 52, 52, 52, 53, 53, 54, 54, 54, 55, 55, 55, 55, 55, 55, 56, 56, 57, 57, 57, 57, 59, 59, 59, 60, 60, 61, 61, 61, 62, 62, 62, 62, 62, 62, 63, 63, 64, 64, 64, 64, 66, 66, 66, 66, 67, 67, 68, 68, 68, 68, 69, 69, 69, 69, 69, 69, 70, 70, 71, 71, 71, 71, 73, 73, 73, 73, 73, 74, 74, 74, 75, 75, 75, 76, 76, 76, 76, 76, 76], \"target\": [8, 13, 13, 8, 9, 10, 12, 13, 15, 19, 20, 20, 20, 19, 20, 15, 17, 18, 19, 20, 22, 25, 26, 27, 27, 25, 27, 22, 25, 26, 27, 21, 22, 24, 25, 26, 27, 28, 34, 29, 31, 32, 33, 34, 31, 34, 29, 31, 32, 34, 29, 33, 34, 28, 29, 31, 32, 33, 34, 35, 41, 36, 38, 40, 41, 36, 38, 41, 36, 38, 39, 41, 36, 40, 41, 35, 36, 38, 39, 40, 41, 42, 48, 43, 45, 46, 47, 48, 43, 45, 46, 48, 46, 48, 43, 47, 48, 42, 43, 45, 46, 47, 48, 49, 55, 50, 52, 54, 55, 50, 52, 55, 50, 53, 54, 55, 50, 54, 55, 49, 50, 52, 53, 54, 55, 56, 62, 57, 59, 61, 62, 57, 59, 62, 60, 62, 57, 61, 62, 56, 57, 59, 60, 61, 62, 63, 69, 64, 66, 68, 69, 64, 66, 69, 67, 69, 64, 68, 69, 63, 64, 66, 67, 68, 69, 70, 76, 71, 73, 75, 76, 71, 73, 74, 76, 74, 76, 71, 74, 75, 76, 70, 71, 73, 74, 75, 76, 77, 83, 78, 81, 82, 83, 78, 80, 81, 82, 83, 78, 81, 83, 78, 82, 83, 77, 78, 80, 81, 82, 83], \"value\": [3.3211840273023143, 3.5289167002776547, 1.7323937598229686, 3.975431808509263, 1.8573324964312685, 1.919078092376074, 2.714329759745233, 5.107386365953068, 3.578524605274993, 2.0043213737826426, 3.881897973573011, 1.8808135922807914, 1.9084850188786497, 2.505149978319906, 2.330413773349191, 3.8730879855902858, 1.806179973983887, 3.212453961040276, 3.5289167002776547, 5.075419208933336, 3.5613399414589013, 2.1789769472931693, 1.919078092376074, 3.8673496171887924, 1.7403626894942439, 3.0232524596337114, 2.7730546933642626, 1.7403626894942439, 1.6989700043360187, 3.1795517911651876, 3.3404441148401185, 2.05307844348342, 3.7706311277778064, 2.432969290874406, 3.473924693416157, 3.330007700872759, 5.06279625850655, 1.6532125137753437, 1.8260748027008264, 3.4516329474569907, 1.662757831681574, 1.6812412373755872, 1.6232492903979006, 3.822625678774141, 2.1271047983648077, 2.250420002308894, 1.9395192526186185, 1.7160033436347992, 3.150756439860309, 3.423737249982329, 1.6532125137753437, 3.1931245983544616, 3.3271545124094315, 2.0681858617461617, 3.6225248624035684, 2.6655809910179533, 2.9849771264154934, 3.143014800254095, 5.074256761517392, 1.7558748556724915, 2.0569048513364727, 3.4202858849419178, 1.7781512503836436, 1.8573324964312685, 3.6399842480415887, 1.6232492903979006, 2.437750562820388, 2.561101383649056, 1.7481880270062005, 1.6334684555795866, 3.0492180226701815, 3.080987046910887, 1.7708520116421442, 3.239549720840473, 3.0813473078041325, 2.123851640967086, 4.1573358620972805, 2.916453948549925, 3.162564406523019, 3.541454428747589, 5.041649237923496, 1.7634279935629373, 2.12057393120585, 3.550228353055094, 1.8750612633917, 1.7708520116421442, 2.3502480183341627, 4.122412495411281, 1.662757831681574, 2.625312450961674, 1.6127838567197355, 2.837588438235511, 3.09377178149873, 3.1082266563749283, 1.806179973983887, 3.443262987458695, 3.387567779417189, 1.8260748027008264, 3.867820908045573, 2.8135809885681917, 3.1290450598879582, 3.682145076373832, 5.013115421368239, 1.792391689498254, 1.7708520116421442, 3.6060587494103142, 1.7323937598229686, 2.3483048630481607, 3.8275631112547237, 1.8388490907372552, 2.661812685537261, 2.7937903846908188, 1.7403626894942439, 3.0718820073061255, 1.6901960800285136, 3.1451964061141817, 2.2576785748691846, 3.5918434112247843, 3.571941635074462, 2.1818435879447726, 4.154971441544471, 2.863322860120456, 2.9925535178321354, 3.944778681123507, 4.981777847694567, 2.0, 2.0791812460476247, 3.6842167951388807, 1.8692317197309762, 2.514547752660286, 4.1258714674176815, 1.6812412373755872, 2.7551122663950713, 2.8048206787211623, 2.997386384397313, 3.0523090996473234, 2.4471580313422194, 3.7812525942484565, 3.821906377352323, 2.075546961392531, 4.008302024212002, 3.00774777800074, 2.9222062774390163, 3.8687032022785366, 4.948691646453361, 1.9542425094393248, 2.1335389083702174, 3.6503075231319366, 2.05307844348342, 2.436162647040756, 4.021602716028243, 1.7558748556724915, 2.8785217955012063, 2.9355072658247128, 3.0, 2.9084850188786495, 2.369215857410143, 3.821513528404773, 3.837588438235511, 1.8195439355418688, 3.976212377117377, 3.0362295440862948, 3.020775488193558, 3.8455940931600243, 4.964066253016779, 1.9084850188786497, 1.8388490907372552, 3.6482624057480444, 1.9777236052888478, 2.3138672203691533, 3.976533380391938, 1.8808135922807914, 2.907411360774586, 1.6901960800285136, 3.0253058652647704, 3.0996806411092503, 2.906335041805091, 2.285557309007774, 1.6232492903979006, 3.814580516010319, 3.854427505787861, 2.037426497940624, 3.870988813760575, 2.9489017609702137, 3.1571544399062814, 3.805160901599434, 4.977783030994179, 2.012837224705172, 1.8976270912904414, 3.6775157047987577, 1.8195439355418688, 2.3710678622717363, 3.8497264441963277, 2.0681858617461617, 2.7810369386211318, 1.7323937598229686, 1.6434526764861874, 3.0187004986662433, 1.806179973983887, 3.1705550585212086, 3.0806264869218056, 2.3242824552976926, 3.85394144588049, 3.7598188773748262, 2.2810333672477277, 4.1181323999209045, 2.790988475088816, 3.180412632838324, 3.969462507974637, 4.948359164706384]}, \"node\": {\"color\": [\"#4C78A8\", \"#F58518\", \"#E45756\", \"#72B7B2\", \"#54A24B\", \"#EECA3B\", \"#B279A2\", \"#4C78A8\", \"#F58518\", \"#E45756\", \"#72B7B2\", \"#54A24B\", \"#EECA3B\", \"#B279A2\", \"#4C78A8\", \"#F58518\", \"#E45756\", \"#72B7B2\", \"#54A24B\", \"#EECA3B\", \"#B279A2\", \"#4C78A8\", \"#F58518\", \"#E45756\", \"#72B7B2\", \"#54A24B\", \"#EECA3B\", \"#B279A2\", \"#4C78A8\", \"#F58518\", \"#E45756\", \"#72B7B2\", \"#54A24B\", \"#EECA3B\", \"#B279A2\", \"#4C78A8\", \"#F58518\", \"#E45756\", \"#72B7B2\", \"#54A24B\", \"#EECA3B\", \"#B279A2\", \"#4C78A8\", \"#F58518\", \"#E45756\", \"#72B7B2\", \"#54A24B\", \"#EECA3B\", \"#B279A2\", \"#4C78A8\", \"#F58518\", \"#E45756\", \"#72B7B2\", \"#54A24B\", \"#EECA3B\", \"#B279A2\", \"#4C78A8\", \"#F58518\", \"#E45756\", \"#72B7B2\", \"#54A24B\", \"#EECA3B\", \"#B279A2\", \"#4C78A8\", \"#F58518\", \"#E45756\", \"#72B7B2\", \"#54A24B\", \"#EECA3B\", \"#B279A2\", \"#4C78A8\", \"#F58518\", \"#E45756\", \"#72B7B2\", \"#54A24B\", \"#EECA3B\", \"#B279A2\", \"#4C78A8\", \"#F58518\", \"#E45756\", \"#72B7B2\", \"#54A24B\", \"#EECA3B\", \"#B279A2\"], \"hovertemplate\": \"10^%{value} users predominantly commented on %{label}<extra></extra>\", \"label\": [\"1: JoeBiden\", \"1: SandersForPresident\", \"1: BaemyKlobaechar\", \"1: ElizabethWarren\", \"1: Pete_Buttigieg\", \"1: YangForPresidentHQ\", \"1: No_Comment\", \"2: JoeBiden\", \"2: SandersForPresident\", \"2: BaemyKlobaechar\", \"2: ElizabethWarren\", \"2: Pete_Buttigieg\", \"2: YangForPresidentHQ\", \"2: No_Comment\", \"3: JoeBiden\", \"3: SandersForPresident\", \"3: BaemyKlobaechar\", \"3: ElizabethWarren\", \"3: Pete_Buttigieg\", \"3: YangForPresidentHQ\", \"3: No_Comment\", \"4: JoeBiden\", \"4: SandersForPresident\", \"4: BaemyKlobaechar\", \"4: ElizabethWarren\", \"4: Pete_Buttigieg\", \"4: YangForPresidentHQ\", \"4: No_Comment\", \"5: JoeBiden\", \"5: SandersForPresident\", \"5: BaemyKlobaechar\", \"5: ElizabethWarren\", \"5: Pete_Buttigieg\", \"5: YangForPresidentHQ\", \"5: No_Comment\", \"6: JoeBiden\", \"6: SandersForPresident\", \"6: BaemyKlobaechar\", \"6: ElizabethWarren\", \"6: Pete_Buttigieg\", \"6: YangForPresidentHQ\", \"6: No_Comment\", \"7: JoeBiden\", \"7: SandersForPresident\", \"7: BaemyKlobaechar\", \"7: ElizabethWarren\", \"7: Pete_Buttigieg\", \"7: YangForPresidentHQ\", \"7: No_Comment\", \"8: JoeBiden\", \"8: SandersForPresident\", \"8: BaemyKlobaechar\", \"8: ElizabethWarren\", \"8: Pete_Buttigieg\", \"8: YangForPresidentHQ\", \"8: No_Comment\", \"9: JoeBiden\", \"9: SandersForPresident\", \"9: BaemyKlobaechar\", \"9: ElizabethWarren\", \"9: Pete_Buttigieg\", \"9: YangForPresidentHQ\", \"9: No_Comment\", \"10: JoeBiden\", \"10: SandersForPresident\", \"10: BaemyKlobaechar\", \"10: ElizabethWarren\", \"10: Pete_Buttigieg\", \"10: YangForPresidentHQ\", \"10: No_Comment\", \"11: JoeBiden\", \"11: SandersForPresident\", \"11: BaemyKlobaechar\", \"11: ElizabethWarren\", \"11: Pete_Buttigieg\", \"11: YangForPresidentHQ\", \"11: No_Comment\", \"12: JoeBiden\", \"12: SandersForPresident\", \"12: BaemyKlobaechar\", \"12: ElizabethWarren\", \"12: Pete_Buttigieg\", \"12: YangForPresidentHQ\", \"12: No_Comment\"], \"line\": {\"color\": \"black\", \"width\": 0.5}, \"pad\": 20, \"thickness\": 10}, \"type\": \"sankey\"}],\n",
       "                        {\"font\": {\"size\": 17}, \"height\": 800, \"margin\": {\"b\": 100, \"l\": 50, \"r\": 100, \"t\": 40}, \"template\": {\"data\": {\"bar\": [{\"error_x\": {\"color\": \"#2a3f5f\"}, \"error_y\": {\"color\": \"#2a3f5f\"}, \"marker\": {\"line\": {\"color\": \"#E5ECF6\", \"width\": 0.5}}, \"type\": \"bar\"}], \"barpolar\": [{\"marker\": {\"line\": {\"color\": \"#E5ECF6\", \"width\": 0.5}}, \"type\": \"barpolar\"}], \"carpet\": [{\"aaxis\": {\"endlinecolor\": \"#2a3f5f\", \"gridcolor\": \"white\", \"linecolor\": \"white\", \"minorgridcolor\": \"white\", \"startlinecolor\": \"#2a3f5f\"}, \"baxis\": {\"endlinecolor\": \"#2a3f5f\", \"gridcolor\": \"white\", \"linecolor\": \"white\", \"minorgridcolor\": \"white\", \"startlinecolor\": \"#2a3f5f\"}, \"type\": \"carpet\"}], \"choropleth\": [{\"colorbar\": {\"outlinewidth\": 0, \"ticks\": \"\"}, \"type\": \"choropleth\"}], \"contour\": [{\"colorbar\": {\"outlinewidth\": 0, \"ticks\": \"\"}, \"colorscale\": [[0.0, \"#0d0887\"], [0.1111111111111111, \"#46039f\"], [0.2222222222222222, \"#7201a8\"], [0.3333333333333333, \"#9c179e\"], [0.4444444444444444, \"#bd3786\"], [0.5555555555555556, \"#d8576b\"], [0.6666666666666666, \"#ed7953\"], [0.7777777777777778, \"#fb9f3a\"], [0.8888888888888888, \"#fdca26\"], [1.0, \"#f0f921\"]], \"type\": \"contour\"}], \"contourcarpet\": [{\"colorbar\": {\"outlinewidth\": 0, \"ticks\": \"\"}, \"type\": \"contourcarpet\"}], \"heatmap\": [{\"colorbar\": {\"outlinewidth\": 0, \"ticks\": \"\"}, \"colorscale\": [[0.0, \"#0d0887\"], [0.1111111111111111, \"#46039f\"], [0.2222222222222222, \"#7201a8\"], [0.3333333333333333, \"#9c179e\"], [0.4444444444444444, \"#bd3786\"], [0.5555555555555556, \"#d8576b\"], [0.6666666666666666, \"#ed7953\"], [0.7777777777777778, \"#fb9f3a\"], [0.8888888888888888, \"#fdca26\"], [1.0, \"#f0f921\"]], \"type\": \"heatmap\"}], \"heatmapgl\": [{\"colorbar\": {\"outlinewidth\": 0, \"ticks\": \"\"}, \"colorscale\": [[0.0, \"#0d0887\"], [0.1111111111111111, \"#46039f\"], [0.2222222222222222, \"#7201a8\"], [0.3333333333333333, \"#9c179e\"], [0.4444444444444444, \"#bd3786\"], [0.5555555555555556, \"#d8576b\"], [0.6666666666666666, \"#ed7953\"], [0.7777777777777778, \"#fb9f3a\"], [0.8888888888888888, \"#fdca26\"], [1.0, \"#f0f921\"]], \"type\": \"heatmapgl\"}], \"histogram\": [{\"marker\": {\"colorbar\": {\"outlinewidth\": 0, \"ticks\": \"\"}}, \"type\": \"histogram\"}], \"histogram2d\": [{\"colorbar\": {\"outlinewidth\": 0, \"ticks\": \"\"}, \"colorscale\": [[0.0, \"#0d0887\"], [0.1111111111111111, \"#46039f\"], [0.2222222222222222, \"#7201a8\"], [0.3333333333333333, \"#9c179e\"], [0.4444444444444444, \"#bd3786\"], [0.5555555555555556, \"#d8576b\"], [0.6666666666666666, \"#ed7953\"], [0.7777777777777778, \"#fb9f3a\"], [0.8888888888888888, \"#fdca26\"], [1.0, \"#f0f921\"]], \"type\": \"histogram2d\"}], \"histogram2dcontour\": [{\"colorbar\": {\"outlinewidth\": 0, \"ticks\": \"\"}, \"colorscale\": [[0.0, \"#0d0887\"], [0.1111111111111111, \"#46039f\"], [0.2222222222222222, \"#7201a8\"], [0.3333333333333333, \"#9c179e\"], [0.4444444444444444, \"#bd3786\"], [0.5555555555555556, \"#d8576b\"], [0.6666666666666666, \"#ed7953\"], [0.7777777777777778, \"#fb9f3a\"], [0.8888888888888888, \"#fdca26\"], [1.0, \"#f0f921\"]], \"type\": \"histogram2dcontour\"}], \"mesh3d\": [{\"colorbar\": {\"outlinewidth\": 0, \"ticks\": \"\"}, \"type\": \"mesh3d\"}], \"parcoords\": [{\"line\": {\"colorbar\": {\"outlinewidth\": 0, \"ticks\": \"\"}}, \"type\": \"parcoords\"}], \"pie\": [{\"automargin\": true, \"type\": \"pie\"}], \"scatter\": [{\"marker\": {\"colorbar\": {\"outlinewidth\": 0, \"ticks\": \"\"}}, \"type\": \"scatter\"}], \"scatter3d\": [{\"line\": {\"colorbar\": {\"outlinewidth\": 0, \"ticks\": \"\"}}, \"marker\": {\"colorbar\": {\"outlinewidth\": 0, \"ticks\": \"\"}}, \"type\": \"scatter3d\"}], \"scattercarpet\": [{\"marker\": {\"colorbar\": {\"outlinewidth\": 0, \"ticks\": \"\"}}, \"type\": \"scattercarpet\"}], \"scattergeo\": [{\"marker\": {\"colorbar\": {\"outlinewidth\": 0, \"ticks\": \"\"}}, \"type\": \"scattergeo\"}], \"scattergl\": [{\"marker\": {\"colorbar\": {\"outlinewidth\": 0, \"ticks\": \"\"}}, \"type\": \"scattergl\"}], \"scattermapbox\": [{\"marker\": {\"colorbar\": {\"outlinewidth\": 0, \"ticks\": \"\"}}, \"type\": \"scattermapbox\"}], \"scatterpolar\": [{\"marker\": {\"colorbar\": {\"outlinewidth\": 0, \"ticks\": \"\"}}, \"type\": \"scatterpolar\"}], \"scatterpolargl\": [{\"marker\": {\"colorbar\": {\"outlinewidth\": 0, \"ticks\": \"\"}}, \"type\": \"scatterpolargl\"}], \"scatterternary\": [{\"marker\": {\"colorbar\": {\"outlinewidth\": 0, \"ticks\": \"\"}}, \"type\": \"scatterternary\"}], \"surface\": [{\"colorbar\": {\"outlinewidth\": 0, \"ticks\": \"\"}, \"colorscale\": [[0.0, \"#0d0887\"], [0.1111111111111111, \"#46039f\"], [0.2222222222222222, \"#7201a8\"], [0.3333333333333333, \"#9c179e\"], [0.4444444444444444, \"#bd3786\"], [0.5555555555555556, \"#d8576b\"], [0.6666666666666666, \"#ed7953\"], [0.7777777777777778, \"#fb9f3a\"], [0.8888888888888888, \"#fdca26\"], [1.0, \"#f0f921\"]], \"type\": \"surface\"}], \"table\": [{\"cells\": {\"fill\": {\"color\": \"#EBF0F8\"}, \"line\": {\"color\": \"white\"}}, \"header\": {\"fill\": {\"color\": \"#C8D4E3\"}, \"line\": {\"color\": \"white\"}}, \"type\": \"table\"}]}, \"layout\": {\"annotationdefaults\": {\"arrowcolor\": \"#2a3f5f\", \"arrowhead\": 0, \"arrowwidth\": 1}, \"coloraxis\": {\"colorbar\": {\"outlinewidth\": 0, \"ticks\": \"\"}}, \"colorscale\": {\"diverging\": [[0, \"#8e0152\"], [0.1, \"#c51b7d\"], [0.2, \"#de77ae\"], [0.3, \"#f1b6da\"], [0.4, \"#fde0ef\"], [0.5, \"#f7f7f7\"], [0.6, \"#e6f5d0\"], [0.7, \"#b8e186\"], [0.8, \"#7fbc41\"], [0.9, \"#4d9221\"], [1, \"#276419\"]], \"sequential\": [[0.0, \"#0d0887\"], [0.1111111111111111, \"#46039f\"], [0.2222222222222222, \"#7201a8\"], [0.3333333333333333, \"#9c179e\"], [0.4444444444444444, \"#bd3786\"], [0.5555555555555556, \"#d8576b\"], [0.6666666666666666, \"#ed7953\"], [0.7777777777777778, \"#fb9f3a\"], [0.8888888888888888, \"#fdca26\"], [1.0, \"#f0f921\"]], \"sequentialminus\": [[0.0, \"#0d0887\"], [0.1111111111111111, \"#46039f\"], [0.2222222222222222, \"#7201a8\"], [0.3333333333333333, \"#9c179e\"], [0.4444444444444444, \"#bd3786\"], [0.5555555555555556, \"#d8576b\"], [0.6666666666666666, \"#ed7953\"], [0.7777777777777778, \"#fb9f3a\"], [0.8888888888888888, \"#fdca26\"], [1.0, \"#f0f921\"]]}, \"colorway\": [\"#636efa\", \"#EF553B\", \"#00cc96\", \"#ab63fa\", \"#FFA15A\", \"#19d3f3\", \"#FF6692\", \"#B6E880\", \"#FF97FF\", \"#FECB52\"], \"font\": {\"color\": \"#2a3f5f\"}, \"geo\": {\"bgcolor\": \"white\", \"lakecolor\": \"white\", \"landcolor\": \"#E5ECF6\", \"showlakes\": true, \"showland\": true, \"subunitcolor\": \"white\"}, \"hoverlabel\": {\"align\": \"left\"}, \"hovermode\": \"closest\", \"mapbox\": {\"style\": \"light\"}, \"paper_bgcolor\": \"white\", \"plot_bgcolor\": \"#E5ECF6\", \"polar\": {\"angularaxis\": {\"gridcolor\": \"white\", \"linecolor\": \"white\", \"ticks\": \"\"}, \"bgcolor\": \"#E5ECF6\", \"radialaxis\": {\"gridcolor\": \"white\", \"linecolor\": \"white\", \"ticks\": \"\"}}, \"scene\": {\"xaxis\": {\"backgroundcolor\": \"#E5ECF6\", \"gridcolor\": \"white\", \"gridwidth\": 2, \"linecolor\": \"white\", \"showbackground\": true, \"ticks\": \"\", \"zerolinecolor\": \"white\"}, \"yaxis\": {\"backgroundcolor\": \"#E5ECF6\", \"gridcolor\": \"white\", \"gridwidth\": 2, \"linecolor\": \"white\", \"showbackground\": true, \"ticks\": \"\", \"zerolinecolor\": \"white\"}, \"zaxis\": {\"backgroundcolor\": \"#E5ECF6\", \"gridcolor\": \"white\", \"gridwidth\": 2, \"linecolor\": \"white\", \"showbackground\": true, \"ticks\": \"\", \"zerolinecolor\": \"white\"}}, \"shapedefaults\": {\"line\": {\"color\": \"#2a3f5f\"}}, \"ternary\": {\"aaxis\": {\"gridcolor\": \"white\", \"linecolor\": \"white\", \"ticks\": \"\"}, \"baxis\": {\"gridcolor\": \"white\", \"linecolor\": \"white\", \"ticks\": \"\"}, \"bgcolor\": \"#E5ECF6\", \"caxis\": {\"gridcolor\": \"white\", \"linecolor\": \"white\", \"ticks\": \"\"}}, \"title\": {\"x\": 0.05}, \"xaxis\": {\"automargin\": true, \"gridcolor\": \"white\", \"linecolor\": \"white\", \"ticks\": \"\", \"title\": {\"standoff\": 15}, \"zerolinecolor\": \"white\", \"zerolinewidth\": 2}, \"yaxis\": {\"automargin\": true, \"gridcolor\": \"white\", \"linecolor\": \"white\", \"ticks\": \"\", \"title\": {\"standoff\": 15}, \"zerolinecolor\": \"white\", \"zerolinewidth\": 2}}}, \"title\": {\"text\": \"User Flow on Political Subreddits\"}, \"width\": 3000},\n",
       "                        {\"responsive\": true}\n",
       "                    ).then(function(){\n",
       "                            \n",
       "var gd = document.getElementById('77767310-c223-4567-aec1-59bdb4875505');\n",
       "var x = new MutationObserver(function (mutations, observer) {{\n",
       "        var display = window.getComputedStyle(gd).display;\n",
       "        if (!display || display === 'none') {{\n",
       "            console.log([gd, 'removed!']);\n",
       "            Plotly.purge(gd);\n",
       "            observer.disconnect();\n",
       "        }}\n",
       "}});\n",
       "\n",
       "// Listen for the removal of the full notebook cells\n",
       "var notebookContainer = gd.closest('#notebook-container');\n",
       "if (notebookContainer) {{\n",
       "    x.observe(notebookContainer, {childList: true});\n",
       "}}\n",
       "\n",
       "// Listen for the clearing of the current output cell\n",
       "var outputEl = gd.closest('.output');\n",
       "if (outputEl) {{\n",
       "    x.observe(outputEl, {childList: true});\n",
       "}}\n",
       "\n",
       "                        })\n",
       "                };\n",
       "                });\n",
       "            </script>\n",
       "        </div>"
      ]
     },
     "metadata": {},
     "output_type": "display_data"
    }
   ],
   "source": [
    "data = [go.Sankey(\n",
    "            node = dict(\n",
    "              pad = 20,\n",
    "              thickness = 10,\n",
    "              line = dict(color = \"black\", width = 0.5),\n",
    "              label = label_list,\n",
    "              color = color_list,\n",
    "              hovertemplate='10^%{value} users predominantly commented on %{label}<extra></extra>',  \n",
    "            ),\n",
    "            link = dict(\n",
    "                source = source_target_df['sourceID'],\n",
    "                target = source_target_df['targetID'],\n",
    "                value = source_target_df['count'],\n",
    "                hovertemplate='10^%{value} users switched subreddits<extra></extra>',\n",
    "                color =  source_target_df['color']\n",
    "            )\n",
    "        )]\n",
    "\n",
    "dates = [str(date)[:10] for date in uc_pivot[\"date\"].unique()]\n",
    "percs = [(i+i*0.1)/len(dates)for i in range(len(dates))]\n",
    "# annotations = [dict(x=perc,y=-0.1,text=str(date)[:10],showarrow=False) for perc,date in zip(percs,dates)]\n",
    "# annotations.append(dict(x=0.273,y=0.755,text=\"Users who predominantly comment on this subreddit\",showarrow=True))\n",
    "# annotations.append(dict(x=0.052,y=0.53,text=\"Non-active users that month\",showarrow=True))\n",
    "# annotations.append(dict(x=0.03,y=0.13,ay=20,text=\"Users keep main subreddit\",showarrow=True))\n",
    "\n",
    "\n",
    "layout = dict(\n",
    "        height=800,\n",
    "        width=3000,\n",
    "        margin=dict(t=40, l=50, r=100, b=100),\n",
    "        title=\"User Flow on Political Subreddits\",\n",
    "        font=dict(size=17),\n",
    "#         annotations=annotations\n",
    "    )\n",
    "\n",
    "fig = go.Figure(data=data,layout=layout)\n",
    "# fig.write_html(\"visualizations/temporal/{}_subreddit_flow.html\".format(TIME_FRAME))\n",
    "fig.show()"
   ]
  },
  {
   "cell_type": "markdown",
   "metadata": {},
   "source": [
    "## Static Vector Similarity"
   ]
  },
  {
   "cell_type": "code",
   "execution_count": 1,
   "metadata": {
    "scrolled": true
   },
   "outputs": [
    {
     "ename": "NameError",
     "evalue": "name 'load_embedding' is not defined",
     "output_type": "error",
     "traceback": [
      "\u001b[0;31m---------------------------------------------------------------------------\u001b[0m",
      "\u001b[0;31mNameError\u001b[0m                                 Traceback (most recent call last)",
      "\u001b[0;32m<ipython-input-1-00577c989184>\u001b[0m in \u001b[0;36m<module>\u001b[0;34m\u001b[0m\n\u001b[0;32m----> 1\u001b[0;31m \u001b[0membedding\u001b[0m  \u001b[0;34m=\u001b[0m \u001b[0mload_embedding\u001b[0m\u001b[0;34m(\u001b[0m\u001b[0;34m\"/h/224/cameron/Political-Subreddit-Embedding/trained_embeddings/vecs_0.0028_15.0.txt\"\u001b[0m\u001b[0;34m,\u001b[0m\u001b[0msplit\u001b[0m\u001b[0;34m=\u001b[0m\u001b[0;32mFalse\u001b[0m\u001b[0;34m)\u001b[0m\u001b[0;34m\u001b[0m\u001b[0;34m\u001b[0m\u001b[0m\n\u001b[0m\u001b[1;32m      2\u001b[0m \u001b[0membedding\u001b[0m \u001b[0;34m=\u001b[0m \u001b[0membedding\u001b[0m\u001b[0;34m[\u001b[0m\u001b[0membedding\u001b[0m\u001b[0;34m.\u001b[0m\u001b[0mindex\u001b[0m\u001b[0;34m.\u001b[0m\u001b[0misin\u001b[0m\u001b[0;34m(\u001b[0m\u001b[0mleft_candidates\u001b[0m\u001b[0;34m+\u001b[0m\u001b[0mright_candidates\u001b[0m\u001b[0;34m)\u001b[0m\u001b[0;34m]\u001b[0m\u001b[0;34m\u001b[0m\u001b[0;34m\u001b[0m\u001b[0m\n\u001b[1;32m      3\u001b[0m \u001b[0membedding\u001b[0m\u001b[0;34m\u001b[0m\u001b[0;34m\u001b[0m\u001b[0m\n",
      "\u001b[0;31mNameError\u001b[0m: name 'load_embedding' is not defined"
     ]
    }
   ],
   "source": [
    "embedding  = load_embedding(\"/h/224/cameron/Political-Subreddit-Embedding/trained_embeddings/vecs_0.0028_15.0.txt\",split=False)\n",
    "embedding = embedding[embedding.index.isin(left_candidates+right_candidates)]\n",
    "embedding"
   ]
  },
  {
   "cell_type": "code",
   "execution_count": 33,
   "metadata": {
    "scrolled": false
   },
   "outputs": [
    {
     "data": {
      "application/vnd.plotly.v1+json": {
       "config": {
        "plotlyServerURL": "https://plot.ly"
       },
       "data": [
        {
         "type": "heatmap",
         "x": [
          "The_Donald",
          "YangForPresidentHQ",
          "SandersForPresident",
          "Pete_Buttigieg",
          "ElizabethWarren",
          "JoeBiden",
          "BaemyKlobaechar"
         ],
         "y": [
          "The_Donald",
          "YangForPresidentHQ",
          "SandersForPresident",
          "Pete_Buttigieg",
          "ElizabethWarren",
          "JoeBiden",
          "BaemyKlobaechar"
         ],
         "z": [
          [
           1,
           0.3265865117199584,
           0.2698464508686112,
           0.24866861377941848,
           0.23260737105696044,
           0.42917835738926435,
           0.3087506168047519
          ],
          [
           0.3265865117199584,
           1,
           0.5727446500761636,
           0.6002680551769493,
           0.6533772090247281,
           0.6576319875138457,
           0.5513535526055937
          ],
          [
           0.2698464508686112,
           0.5727446500761636,
           1,
           0.4698266848514233,
           0.5638104508137487,
           0.5100886610682707,
           0.39169284433863644
          ],
          [
           0.24866861377941848,
           0.6002680551769493,
           0.4698266848514233,
           1,
           0.768341161468501,
           0.7506047994679379,
           0.6925525589537328
          ],
          [
           0.23260737105696044,
           0.6533772090247281,
           0.5638104508137487,
           0.768341161468501,
           1,
           0.7786481750438631,
           0.6741130250753222
          ],
          [
           0.42917835738926435,
           0.6576319875138457,
           0.5100886610682707,
           0.7506047994679379,
           0.7786481750438631,
           1.0000000000000002,
           0.7217691245346239
          ],
          [
           0.3087506168047519,
           0.5513535526055937,
           0.39169284433863644,
           0.6925525589537328,
           0.6741130250753222,
           0.7217691245346239,
           1
          ]
         ]
        }
       ],
       "layout": {
        "template": {
         "data": {
          "bar": [
           {
            "error_x": {
             "color": "#2a3f5f"
            },
            "error_y": {
             "color": "#2a3f5f"
            },
            "marker": {
             "line": {
              "color": "#E5ECF6",
              "width": 0.5
             }
            },
            "type": "bar"
           }
          ],
          "barpolar": [
           {
            "marker": {
             "line": {
              "color": "#E5ECF6",
              "width": 0.5
             }
            },
            "type": "barpolar"
           }
          ],
          "carpet": [
           {
            "aaxis": {
             "endlinecolor": "#2a3f5f",
             "gridcolor": "white",
             "linecolor": "white",
             "minorgridcolor": "white",
             "startlinecolor": "#2a3f5f"
            },
            "baxis": {
             "endlinecolor": "#2a3f5f",
             "gridcolor": "white",
             "linecolor": "white",
             "minorgridcolor": "white",
             "startlinecolor": "#2a3f5f"
            },
            "type": "carpet"
           }
          ],
          "choropleth": [
           {
            "colorbar": {
             "outlinewidth": 0,
             "ticks": ""
            },
            "type": "choropleth"
           }
          ],
          "contour": [
           {
            "colorbar": {
             "outlinewidth": 0,
             "ticks": ""
            },
            "colorscale": [
             [
              0,
              "#0d0887"
             ],
             [
              0.1111111111111111,
              "#46039f"
             ],
             [
              0.2222222222222222,
              "#7201a8"
             ],
             [
              0.3333333333333333,
              "#9c179e"
             ],
             [
              0.4444444444444444,
              "#bd3786"
             ],
             [
              0.5555555555555556,
              "#d8576b"
             ],
             [
              0.6666666666666666,
              "#ed7953"
             ],
             [
              0.7777777777777778,
              "#fb9f3a"
             ],
             [
              0.8888888888888888,
              "#fdca26"
             ],
             [
              1,
              "#f0f921"
             ]
            ],
            "type": "contour"
           }
          ],
          "contourcarpet": [
           {
            "colorbar": {
             "outlinewidth": 0,
             "ticks": ""
            },
            "type": "contourcarpet"
           }
          ],
          "heatmap": [
           {
            "colorbar": {
             "outlinewidth": 0,
             "ticks": ""
            },
            "colorscale": [
             [
              0,
              "#0d0887"
             ],
             [
              0.1111111111111111,
              "#46039f"
             ],
             [
              0.2222222222222222,
              "#7201a8"
             ],
             [
              0.3333333333333333,
              "#9c179e"
             ],
             [
              0.4444444444444444,
              "#bd3786"
             ],
             [
              0.5555555555555556,
              "#d8576b"
             ],
             [
              0.6666666666666666,
              "#ed7953"
             ],
             [
              0.7777777777777778,
              "#fb9f3a"
             ],
             [
              0.8888888888888888,
              "#fdca26"
             ],
             [
              1,
              "#f0f921"
             ]
            ],
            "type": "heatmap"
           }
          ],
          "heatmapgl": [
           {
            "colorbar": {
             "outlinewidth": 0,
             "ticks": ""
            },
            "colorscale": [
             [
              0,
              "#0d0887"
             ],
             [
              0.1111111111111111,
              "#46039f"
             ],
             [
              0.2222222222222222,
              "#7201a8"
             ],
             [
              0.3333333333333333,
              "#9c179e"
             ],
             [
              0.4444444444444444,
              "#bd3786"
             ],
             [
              0.5555555555555556,
              "#d8576b"
             ],
             [
              0.6666666666666666,
              "#ed7953"
             ],
             [
              0.7777777777777778,
              "#fb9f3a"
             ],
             [
              0.8888888888888888,
              "#fdca26"
             ],
             [
              1,
              "#f0f921"
             ]
            ],
            "type": "heatmapgl"
           }
          ],
          "histogram": [
           {
            "marker": {
             "colorbar": {
              "outlinewidth": 0,
              "ticks": ""
             }
            },
            "type": "histogram"
           }
          ],
          "histogram2d": [
           {
            "colorbar": {
             "outlinewidth": 0,
             "ticks": ""
            },
            "colorscale": [
             [
              0,
              "#0d0887"
             ],
             [
              0.1111111111111111,
              "#46039f"
             ],
             [
              0.2222222222222222,
              "#7201a8"
             ],
             [
              0.3333333333333333,
              "#9c179e"
             ],
             [
              0.4444444444444444,
              "#bd3786"
             ],
             [
              0.5555555555555556,
              "#d8576b"
             ],
             [
              0.6666666666666666,
              "#ed7953"
             ],
             [
              0.7777777777777778,
              "#fb9f3a"
             ],
             [
              0.8888888888888888,
              "#fdca26"
             ],
             [
              1,
              "#f0f921"
             ]
            ],
            "type": "histogram2d"
           }
          ],
          "histogram2dcontour": [
           {
            "colorbar": {
             "outlinewidth": 0,
             "ticks": ""
            },
            "colorscale": [
             [
              0,
              "#0d0887"
             ],
             [
              0.1111111111111111,
              "#46039f"
             ],
             [
              0.2222222222222222,
              "#7201a8"
             ],
             [
              0.3333333333333333,
              "#9c179e"
             ],
             [
              0.4444444444444444,
              "#bd3786"
             ],
             [
              0.5555555555555556,
              "#d8576b"
             ],
             [
              0.6666666666666666,
              "#ed7953"
             ],
             [
              0.7777777777777778,
              "#fb9f3a"
             ],
             [
              0.8888888888888888,
              "#fdca26"
             ],
             [
              1,
              "#f0f921"
             ]
            ],
            "type": "histogram2dcontour"
           }
          ],
          "mesh3d": [
           {
            "colorbar": {
             "outlinewidth": 0,
             "ticks": ""
            },
            "type": "mesh3d"
           }
          ],
          "parcoords": [
           {
            "line": {
             "colorbar": {
              "outlinewidth": 0,
              "ticks": ""
             }
            },
            "type": "parcoords"
           }
          ],
          "pie": [
           {
            "automargin": true,
            "type": "pie"
           }
          ],
          "scatter": [
           {
            "marker": {
             "colorbar": {
              "outlinewidth": 0,
              "ticks": ""
             }
            },
            "type": "scatter"
           }
          ],
          "scatter3d": [
           {
            "line": {
             "colorbar": {
              "outlinewidth": 0,
              "ticks": ""
             }
            },
            "marker": {
             "colorbar": {
              "outlinewidth": 0,
              "ticks": ""
             }
            },
            "type": "scatter3d"
           }
          ],
          "scattercarpet": [
           {
            "marker": {
             "colorbar": {
              "outlinewidth": 0,
              "ticks": ""
             }
            },
            "type": "scattercarpet"
           }
          ],
          "scattergeo": [
           {
            "marker": {
             "colorbar": {
              "outlinewidth": 0,
              "ticks": ""
             }
            },
            "type": "scattergeo"
           }
          ],
          "scattergl": [
           {
            "marker": {
             "colorbar": {
              "outlinewidth": 0,
              "ticks": ""
             }
            },
            "type": "scattergl"
           }
          ],
          "scattermapbox": [
           {
            "marker": {
             "colorbar": {
              "outlinewidth": 0,
              "ticks": ""
             }
            },
            "type": "scattermapbox"
           }
          ],
          "scatterpolar": [
           {
            "marker": {
             "colorbar": {
              "outlinewidth": 0,
              "ticks": ""
             }
            },
            "type": "scatterpolar"
           }
          ],
          "scatterpolargl": [
           {
            "marker": {
             "colorbar": {
              "outlinewidth": 0,
              "ticks": ""
             }
            },
            "type": "scatterpolargl"
           }
          ],
          "scatterternary": [
           {
            "marker": {
             "colorbar": {
              "outlinewidth": 0,
              "ticks": ""
             }
            },
            "type": "scatterternary"
           }
          ],
          "surface": [
           {
            "colorbar": {
             "outlinewidth": 0,
             "ticks": ""
            },
            "colorscale": [
             [
              0,
              "#0d0887"
             ],
             [
              0.1111111111111111,
              "#46039f"
             ],
             [
              0.2222222222222222,
              "#7201a8"
             ],
             [
              0.3333333333333333,
              "#9c179e"
             ],
             [
              0.4444444444444444,
              "#bd3786"
             ],
             [
              0.5555555555555556,
              "#d8576b"
             ],
             [
              0.6666666666666666,
              "#ed7953"
             ],
             [
              0.7777777777777778,
              "#fb9f3a"
             ],
             [
              0.8888888888888888,
              "#fdca26"
             ],
             [
              1,
              "#f0f921"
             ]
            ],
            "type": "surface"
           }
          ],
          "table": [
           {
            "cells": {
             "fill": {
              "color": "#EBF0F8"
             },
             "line": {
              "color": "white"
             }
            },
            "header": {
             "fill": {
              "color": "#C8D4E3"
             },
             "line": {
              "color": "white"
             }
            },
            "type": "table"
           }
          ]
         },
         "layout": {
          "annotationdefaults": {
           "arrowcolor": "#2a3f5f",
           "arrowhead": 0,
           "arrowwidth": 1
          },
          "coloraxis": {
           "colorbar": {
            "outlinewidth": 0,
            "ticks": ""
           }
          },
          "colorscale": {
           "diverging": [
            [
             0,
             "#8e0152"
            ],
            [
             0.1,
             "#c51b7d"
            ],
            [
             0.2,
             "#de77ae"
            ],
            [
             0.3,
             "#f1b6da"
            ],
            [
             0.4,
             "#fde0ef"
            ],
            [
             0.5,
             "#f7f7f7"
            ],
            [
             0.6,
             "#e6f5d0"
            ],
            [
             0.7,
             "#b8e186"
            ],
            [
             0.8,
             "#7fbc41"
            ],
            [
             0.9,
             "#4d9221"
            ],
            [
             1,
             "#276419"
            ]
           ],
           "sequential": [
            [
             0,
             "#0d0887"
            ],
            [
             0.1111111111111111,
             "#46039f"
            ],
            [
             0.2222222222222222,
             "#7201a8"
            ],
            [
             0.3333333333333333,
             "#9c179e"
            ],
            [
             0.4444444444444444,
             "#bd3786"
            ],
            [
             0.5555555555555556,
             "#d8576b"
            ],
            [
             0.6666666666666666,
             "#ed7953"
            ],
            [
             0.7777777777777778,
             "#fb9f3a"
            ],
            [
             0.8888888888888888,
             "#fdca26"
            ],
            [
             1,
             "#f0f921"
            ]
           ],
           "sequentialminus": [
            [
             0,
             "#0d0887"
            ],
            [
             0.1111111111111111,
             "#46039f"
            ],
            [
             0.2222222222222222,
             "#7201a8"
            ],
            [
             0.3333333333333333,
             "#9c179e"
            ],
            [
             0.4444444444444444,
             "#bd3786"
            ],
            [
             0.5555555555555556,
             "#d8576b"
            ],
            [
             0.6666666666666666,
             "#ed7953"
            ],
            [
             0.7777777777777778,
             "#fb9f3a"
            ],
            [
             0.8888888888888888,
             "#fdca26"
            ],
            [
             1,
             "#f0f921"
            ]
           ]
          },
          "colorway": [
           "#636efa",
           "#EF553B",
           "#00cc96",
           "#ab63fa",
           "#FFA15A",
           "#19d3f3",
           "#FF6692",
           "#B6E880",
           "#FF97FF",
           "#FECB52"
          ],
          "font": {
           "color": "#2a3f5f"
          },
          "geo": {
           "bgcolor": "white",
           "lakecolor": "white",
           "landcolor": "#E5ECF6",
           "showlakes": true,
           "showland": true,
           "subunitcolor": "white"
          },
          "hoverlabel": {
           "align": "left"
          },
          "hovermode": "closest",
          "mapbox": {
           "style": "light"
          },
          "paper_bgcolor": "white",
          "plot_bgcolor": "#E5ECF6",
          "polar": {
           "angularaxis": {
            "gridcolor": "white",
            "linecolor": "white",
            "ticks": ""
           },
           "bgcolor": "#E5ECF6",
           "radialaxis": {
            "gridcolor": "white",
            "linecolor": "white",
            "ticks": ""
           }
          },
          "scene": {
           "xaxis": {
            "backgroundcolor": "#E5ECF6",
            "gridcolor": "white",
            "gridwidth": 2,
            "linecolor": "white",
            "showbackground": true,
            "ticks": "",
            "zerolinecolor": "white"
           },
           "yaxis": {
            "backgroundcolor": "#E5ECF6",
            "gridcolor": "white",
            "gridwidth": 2,
            "linecolor": "white",
            "showbackground": true,
            "ticks": "",
            "zerolinecolor": "white"
           },
           "zaxis": {
            "backgroundcolor": "#E5ECF6",
            "gridcolor": "white",
            "gridwidth": 2,
            "linecolor": "white",
            "showbackground": true,
            "ticks": "",
            "zerolinecolor": "white"
           }
          },
          "shapedefaults": {
           "line": {
            "color": "#2a3f5f"
           }
          },
          "ternary": {
           "aaxis": {
            "gridcolor": "white",
            "linecolor": "white",
            "ticks": ""
           },
           "baxis": {
            "gridcolor": "white",
            "linecolor": "white",
            "ticks": ""
           },
           "bgcolor": "#E5ECF6",
           "caxis": {
            "gridcolor": "white",
            "linecolor": "white",
            "ticks": ""
           }
          },
          "title": {
           "x": 0.05
          },
          "xaxis": {
           "automargin": true,
           "gridcolor": "white",
           "linecolor": "white",
           "ticks": "",
           "title": {
            "standoff": 15
           },
           "zerolinecolor": "white",
           "zerolinewidth": 2
          },
          "yaxis": {
           "automargin": true,
           "gridcolor": "white",
           "linecolor": "white",
           "ticks": "",
           "title": {
            "standoff": 15
           },
           "zerolinecolor": "white",
           "zerolinewidth": 2
          }
         }
        },
        "title": {
         "text": "Similarity of Political Subreddits"
        },
        "xaxis": {
         "title": {
          "text": "Subreddit"
         }
        },
        "yaxis": {
         "title": {
          "text": "Subreddit"
         }
        }
       }
      },
      "text/html": [
       "<div>\n",
       "        \n",
       "        \n",
       "            <div id=\"c81a0a61-e04d-4eba-bac2-0c06b0e255d2\" class=\"plotly-graph-div\" style=\"height:525px; width:100%;\"></div>\n",
       "            <script type=\"text/javascript\">\n",
       "                require([\"plotly\"], function(Plotly) {\n",
       "                    window.PLOTLYENV=window.PLOTLYENV || {};\n",
       "                    \n",
       "                if (document.getElementById(\"c81a0a61-e04d-4eba-bac2-0c06b0e255d2\")) {\n",
       "                    Plotly.newPlot(\n",
       "                        'c81a0a61-e04d-4eba-bac2-0c06b0e255d2',\n",
       "                        [{\"type\": \"heatmap\", \"x\": [\"The_Donald\", \"YangForPresidentHQ\", \"SandersForPresident\", \"Pete_Buttigieg\", \"ElizabethWarren\", \"JoeBiden\", \"BaemyKlobaechar\"], \"y\": [\"The_Donald\", \"YangForPresidentHQ\", \"SandersForPresident\", \"Pete_Buttigieg\", \"ElizabethWarren\", \"JoeBiden\", \"BaemyKlobaechar\"], \"z\": [[1.0, 0.3265865117199584, 0.2698464508686112, 0.24866861377941848, 0.23260737105696044, 0.42917835738926435, 0.3087506168047519], [0.3265865117199584, 1.0, 0.5727446500761636, 0.6002680551769493, 0.6533772090247281, 0.6576319875138457, 0.5513535526055937], [0.2698464508686112, 0.5727446500761636, 1.0, 0.4698266848514233, 0.5638104508137487, 0.5100886610682707, 0.39169284433863644], [0.24866861377941848, 0.6002680551769493, 0.4698266848514233, 1.0, 0.768341161468501, 0.7506047994679379, 0.6925525589537328], [0.23260737105696044, 0.6533772090247281, 0.5638104508137487, 0.768341161468501, 1.0, 0.7786481750438631, 0.6741130250753222], [0.42917835738926435, 0.6576319875138457, 0.5100886610682707, 0.7506047994679379, 0.7786481750438631, 1.0000000000000002, 0.7217691245346239], [0.3087506168047519, 0.5513535526055937, 0.39169284433863644, 0.6925525589537328, 0.6741130250753222, 0.7217691245346239, 1.0]]}],\n",
       "                        {\"template\": {\"data\": {\"bar\": [{\"error_x\": {\"color\": \"#2a3f5f\"}, \"error_y\": {\"color\": \"#2a3f5f\"}, \"marker\": {\"line\": {\"color\": \"#E5ECF6\", \"width\": 0.5}}, \"type\": \"bar\"}], \"barpolar\": [{\"marker\": {\"line\": {\"color\": \"#E5ECF6\", \"width\": 0.5}}, \"type\": \"barpolar\"}], \"carpet\": [{\"aaxis\": {\"endlinecolor\": \"#2a3f5f\", \"gridcolor\": \"white\", \"linecolor\": \"white\", \"minorgridcolor\": \"white\", \"startlinecolor\": \"#2a3f5f\"}, \"baxis\": {\"endlinecolor\": \"#2a3f5f\", \"gridcolor\": \"white\", \"linecolor\": \"white\", \"minorgridcolor\": \"white\", \"startlinecolor\": \"#2a3f5f\"}, \"type\": \"carpet\"}], \"choropleth\": [{\"colorbar\": {\"outlinewidth\": 0, \"ticks\": \"\"}, \"type\": \"choropleth\"}], \"contour\": [{\"colorbar\": {\"outlinewidth\": 0, \"ticks\": \"\"}, \"colorscale\": [[0.0, \"#0d0887\"], [0.1111111111111111, \"#46039f\"], [0.2222222222222222, \"#7201a8\"], [0.3333333333333333, \"#9c179e\"], [0.4444444444444444, \"#bd3786\"], [0.5555555555555556, \"#d8576b\"], [0.6666666666666666, \"#ed7953\"], [0.7777777777777778, \"#fb9f3a\"], [0.8888888888888888, \"#fdca26\"], [1.0, \"#f0f921\"]], \"type\": \"contour\"}], \"contourcarpet\": [{\"colorbar\": {\"outlinewidth\": 0, \"ticks\": \"\"}, \"type\": \"contourcarpet\"}], \"heatmap\": [{\"colorbar\": {\"outlinewidth\": 0, \"ticks\": \"\"}, \"colorscale\": [[0.0, \"#0d0887\"], [0.1111111111111111, \"#46039f\"], [0.2222222222222222, \"#7201a8\"], [0.3333333333333333, \"#9c179e\"], [0.4444444444444444, \"#bd3786\"], [0.5555555555555556, \"#d8576b\"], [0.6666666666666666, \"#ed7953\"], [0.7777777777777778, \"#fb9f3a\"], [0.8888888888888888, \"#fdca26\"], [1.0, \"#f0f921\"]], \"type\": \"heatmap\"}], \"heatmapgl\": [{\"colorbar\": {\"outlinewidth\": 0, \"ticks\": \"\"}, \"colorscale\": [[0.0, \"#0d0887\"], [0.1111111111111111, \"#46039f\"], [0.2222222222222222, \"#7201a8\"], [0.3333333333333333, \"#9c179e\"], [0.4444444444444444, \"#bd3786\"], [0.5555555555555556, \"#d8576b\"], [0.6666666666666666, \"#ed7953\"], [0.7777777777777778, \"#fb9f3a\"], [0.8888888888888888, \"#fdca26\"], [1.0, \"#f0f921\"]], \"type\": \"heatmapgl\"}], \"histogram\": [{\"marker\": {\"colorbar\": {\"outlinewidth\": 0, \"ticks\": \"\"}}, \"type\": \"histogram\"}], \"histogram2d\": [{\"colorbar\": {\"outlinewidth\": 0, \"ticks\": \"\"}, \"colorscale\": [[0.0, \"#0d0887\"], [0.1111111111111111, \"#46039f\"], [0.2222222222222222, \"#7201a8\"], [0.3333333333333333, \"#9c179e\"], [0.4444444444444444, \"#bd3786\"], [0.5555555555555556, \"#d8576b\"], [0.6666666666666666, \"#ed7953\"], [0.7777777777777778, \"#fb9f3a\"], [0.8888888888888888, \"#fdca26\"], [1.0, \"#f0f921\"]], \"type\": \"histogram2d\"}], \"histogram2dcontour\": [{\"colorbar\": {\"outlinewidth\": 0, \"ticks\": \"\"}, \"colorscale\": [[0.0, \"#0d0887\"], [0.1111111111111111, \"#46039f\"], [0.2222222222222222, \"#7201a8\"], [0.3333333333333333, \"#9c179e\"], [0.4444444444444444, \"#bd3786\"], [0.5555555555555556, \"#d8576b\"], [0.6666666666666666, \"#ed7953\"], [0.7777777777777778, \"#fb9f3a\"], [0.8888888888888888, \"#fdca26\"], [1.0, \"#f0f921\"]], \"type\": \"histogram2dcontour\"}], \"mesh3d\": [{\"colorbar\": {\"outlinewidth\": 0, \"ticks\": \"\"}, \"type\": \"mesh3d\"}], \"parcoords\": [{\"line\": {\"colorbar\": {\"outlinewidth\": 0, \"ticks\": \"\"}}, \"type\": \"parcoords\"}], \"pie\": [{\"automargin\": true, \"type\": \"pie\"}], \"scatter\": [{\"marker\": {\"colorbar\": {\"outlinewidth\": 0, \"ticks\": \"\"}}, \"type\": \"scatter\"}], \"scatter3d\": [{\"line\": {\"colorbar\": {\"outlinewidth\": 0, \"ticks\": \"\"}}, \"marker\": {\"colorbar\": {\"outlinewidth\": 0, \"ticks\": \"\"}}, \"type\": \"scatter3d\"}], \"scattercarpet\": [{\"marker\": {\"colorbar\": {\"outlinewidth\": 0, \"ticks\": \"\"}}, \"type\": \"scattercarpet\"}], \"scattergeo\": [{\"marker\": {\"colorbar\": {\"outlinewidth\": 0, \"ticks\": \"\"}}, \"type\": \"scattergeo\"}], \"scattergl\": [{\"marker\": {\"colorbar\": {\"outlinewidth\": 0, \"ticks\": \"\"}}, \"type\": \"scattergl\"}], \"scattermapbox\": [{\"marker\": {\"colorbar\": {\"outlinewidth\": 0, \"ticks\": \"\"}}, \"type\": \"scattermapbox\"}], \"scatterpolar\": [{\"marker\": {\"colorbar\": {\"outlinewidth\": 0, \"ticks\": \"\"}}, \"type\": \"scatterpolar\"}], \"scatterpolargl\": [{\"marker\": {\"colorbar\": {\"outlinewidth\": 0, \"ticks\": \"\"}}, \"type\": \"scatterpolargl\"}], \"scatterternary\": [{\"marker\": {\"colorbar\": {\"outlinewidth\": 0, \"ticks\": \"\"}}, \"type\": \"scatterternary\"}], \"surface\": [{\"colorbar\": {\"outlinewidth\": 0, \"ticks\": \"\"}, \"colorscale\": [[0.0, \"#0d0887\"], [0.1111111111111111, \"#46039f\"], [0.2222222222222222, \"#7201a8\"], [0.3333333333333333, \"#9c179e\"], [0.4444444444444444, \"#bd3786\"], [0.5555555555555556, \"#d8576b\"], [0.6666666666666666, \"#ed7953\"], [0.7777777777777778, \"#fb9f3a\"], [0.8888888888888888, \"#fdca26\"], [1.0, \"#f0f921\"]], \"type\": \"surface\"}], \"table\": [{\"cells\": {\"fill\": {\"color\": \"#EBF0F8\"}, \"line\": {\"color\": \"white\"}}, \"header\": {\"fill\": {\"color\": \"#C8D4E3\"}, \"line\": {\"color\": \"white\"}}, \"type\": \"table\"}]}, \"layout\": {\"annotationdefaults\": {\"arrowcolor\": \"#2a3f5f\", \"arrowhead\": 0, \"arrowwidth\": 1}, \"coloraxis\": {\"colorbar\": {\"outlinewidth\": 0, \"ticks\": \"\"}}, \"colorscale\": {\"diverging\": [[0, \"#8e0152\"], [0.1, \"#c51b7d\"], [0.2, \"#de77ae\"], [0.3, \"#f1b6da\"], [0.4, \"#fde0ef\"], [0.5, \"#f7f7f7\"], [0.6, \"#e6f5d0\"], [0.7, \"#b8e186\"], [0.8, \"#7fbc41\"], [0.9, \"#4d9221\"], [1, \"#276419\"]], \"sequential\": [[0.0, \"#0d0887\"], [0.1111111111111111, \"#46039f\"], [0.2222222222222222, \"#7201a8\"], [0.3333333333333333, \"#9c179e\"], [0.4444444444444444, \"#bd3786\"], [0.5555555555555556, \"#d8576b\"], [0.6666666666666666, \"#ed7953\"], [0.7777777777777778, \"#fb9f3a\"], [0.8888888888888888, \"#fdca26\"], [1.0, \"#f0f921\"]], \"sequentialminus\": [[0.0, \"#0d0887\"], [0.1111111111111111, \"#46039f\"], [0.2222222222222222, \"#7201a8\"], [0.3333333333333333, \"#9c179e\"], [0.4444444444444444, \"#bd3786\"], [0.5555555555555556, \"#d8576b\"], [0.6666666666666666, \"#ed7953\"], [0.7777777777777778, \"#fb9f3a\"], [0.8888888888888888, \"#fdca26\"], [1.0, \"#f0f921\"]]}, \"colorway\": [\"#636efa\", \"#EF553B\", \"#00cc96\", \"#ab63fa\", \"#FFA15A\", \"#19d3f3\", \"#FF6692\", \"#B6E880\", \"#FF97FF\", \"#FECB52\"], \"font\": {\"color\": \"#2a3f5f\"}, \"geo\": {\"bgcolor\": \"white\", \"lakecolor\": \"white\", \"landcolor\": \"#E5ECF6\", \"showlakes\": true, \"showland\": true, \"subunitcolor\": \"white\"}, \"hoverlabel\": {\"align\": \"left\"}, \"hovermode\": \"closest\", \"mapbox\": {\"style\": \"light\"}, \"paper_bgcolor\": \"white\", \"plot_bgcolor\": \"#E5ECF6\", \"polar\": {\"angularaxis\": {\"gridcolor\": \"white\", \"linecolor\": \"white\", \"ticks\": \"\"}, \"bgcolor\": \"#E5ECF6\", \"radialaxis\": {\"gridcolor\": \"white\", \"linecolor\": \"white\", \"ticks\": \"\"}}, \"scene\": {\"xaxis\": {\"backgroundcolor\": \"#E5ECF6\", \"gridcolor\": \"white\", \"gridwidth\": 2, \"linecolor\": \"white\", \"showbackground\": true, \"ticks\": \"\", \"zerolinecolor\": \"white\"}, \"yaxis\": {\"backgroundcolor\": \"#E5ECF6\", \"gridcolor\": \"white\", \"gridwidth\": 2, \"linecolor\": \"white\", \"showbackground\": true, \"ticks\": \"\", \"zerolinecolor\": \"white\"}, \"zaxis\": {\"backgroundcolor\": \"#E5ECF6\", \"gridcolor\": \"white\", \"gridwidth\": 2, \"linecolor\": \"white\", \"showbackground\": true, \"ticks\": \"\", \"zerolinecolor\": \"white\"}}, \"shapedefaults\": {\"line\": {\"color\": \"#2a3f5f\"}}, \"ternary\": {\"aaxis\": {\"gridcolor\": \"white\", \"linecolor\": \"white\", \"ticks\": \"\"}, \"baxis\": {\"gridcolor\": \"white\", \"linecolor\": \"white\", \"ticks\": \"\"}, \"bgcolor\": \"#E5ECF6\", \"caxis\": {\"gridcolor\": \"white\", \"linecolor\": \"white\", \"ticks\": \"\"}}, \"title\": {\"x\": 0.05}, \"xaxis\": {\"automargin\": true, \"gridcolor\": \"white\", \"linecolor\": \"white\", \"ticks\": \"\", \"title\": {\"standoff\": 15}, \"zerolinecolor\": \"white\", \"zerolinewidth\": 2}, \"yaxis\": {\"automargin\": true, \"gridcolor\": \"white\", \"linecolor\": \"white\", \"ticks\": \"\", \"title\": {\"standoff\": 15}, \"zerolinecolor\": \"white\", \"zerolinewidth\": 2}}}, \"title\": {\"text\": \"Similarity of Political Subreddits\"}, \"xaxis\": {\"title\": {\"text\": \"Subreddit\"}}, \"yaxis\": {\"title\": {\"text\": \"Subreddit\"}}},\n",
       "                        {\"responsive\": true}\n",
       "                    ).then(function(){\n",
       "                            \n",
       "var gd = document.getElementById('c81a0a61-e04d-4eba-bac2-0c06b0e255d2');\n",
       "var x = new MutationObserver(function (mutations, observer) {{\n",
       "        var display = window.getComputedStyle(gd).display;\n",
       "        if (!display || display === 'none') {{\n",
       "            console.log([gd, 'removed!']);\n",
       "            Plotly.purge(gd);\n",
       "            observer.disconnect();\n",
       "        }}\n",
       "}});\n",
       "\n",
       "// Listen for the removal of the full notebook cells\n",
       "var notebookContainer = gd.closest('#notebook-container');\n",
       "if (notebookContainer) {{\n",
       "    x.observe(notebookContainer, {childList: true});\n",
       "}}\n",
       "\n",
       "// Listen for the clearing of the current output cell\n",
       "var outputEl = gd.closest('.output');\n",
       "if (outputEl) {{\n",
       "    x.observe(outputEl, {childList: true});\n",
       "}}\n",
       "\n",
       "                        })\n",
       "                };\n",
       "                });\n",
       "            </script>\n",
       "        </div>"
      ]
     },
     "metadata": {},
     "output_type": "display_data"
    }
   ],
   "source": [
    "vals = np.array([cos_sim(r1,r2) for _,r1 in embedding.iterrows() for _,r2 in embedding.iterrows()]).reshape(len(embedding),len(embedding))\n",
    "data = go.Heatmap(z=vals,y=embedding.index,x=embedding.index)\n",
    "\n",
    "layout = {\n",
    "    \"title\": \"Similarity of Political Subreddits\",\n",
    "    \"xaxis\": {\"title\": \"Subreddit\"},\n",
    "    \"yaxis\": {\"title\": \"Subreddit\"},\n",
    "}\n",
    "fig = go.Figure(data=data,layout=layout)\n",
    "# fig.write_html(\"visualizations/2019_vector_similarity.html\")\n",
    "fig.show()"
   ]
  },
  {
   "cell_type": "markdown",
   "metadata": {},
   "source": [
    "## Distance From Centroid"
   ]
  },
  {
   "cell_type": "code",
   "execution_count": 4,
   "metadata": {
    "scrolled": true
   },
   "outputs": [
    {
     "data": {
      "text/html": [
       "<div>\n",
       "<style scoped>\n",
       "    .dataframe tbody tr th:only-of-type {\n",
       "        vertical-align: middle;\n",
       "    }\n",
       "\n",
       "    .dataframe tbody tr th {\n",
       "        vertical-align: top;\n",
       "    }\n",
       "\n",
       "    .dataframe thead th {\n",
       "        text-align: right;\n",
       "    }\n",
       "</style>\n",
       "<table border=\"1\" class=\"dataframe\">\n",
       "  <thead>\n",
       "    <tr style=\"text-align: right;\">\n",
       "      <th></th>\n",
       "      <th></th>\n",
       "      <th>1</th>\n",
       "      <th>2</th>\n",
       "      <th>3</th>\n",
       "      <th>4</th>\n",
       "      <th>5</th>\n",
       "      <th>6</th>\n",
       "      <th>7</th>\n",
       "      <th>8</th>\n",
       "      <th>9</th>\n",
       "      <th>10</th>\n",
       "      <th>...</th>\n",
       "      <th>141</th>\n",
       "      <th>142</th>\n",
       "      <th>143</th>\n",
       "      <th>144</th>\n",
       "      <th>145</th>\n",
       "      <th>146</th>\n",
       "      <th>147</th>\n",
       "      <th>148</th>\n",
       "      <th>149</th>\n",
       "      <th>150</th>\n",
       "    </tr>\n",
       "    <tr>\n",
       "      <th>subreddit</th>\n",
       "      <th>date</th>\n",
       "      <th></th>\n",
       "      <th></th>\n",
       "      <th></th>\n",
       "      <th></th>\n",
       "      <th></th>\n",
       "      <th></th>\n",
       "      <th></th>\n",
       "      <th></th>\n",
       "      <th></th>\n",
       "      <th></th>\n",
       "      <th></th>\n",
       "      <th></th>\n",
       "      <th></th>\n",
       "      <th></th>\n",
       "      <th></th>\n",
       "      <th></th>\n",
       "      <th></th>\n",
       "      <th></th>\n",
       "      <th></th>\n",
       "      <th></th>\n",
       "      <th></th>\n",
       "    </tr>\n",
       "  </thead>\n",
       "  <tbody>\n",
       "    <tr>\n",
       "      <th>1000ccplus</th>\n",
       "      <th>2019-01-01</th>\n",
       "      <td>0.027411</td>\n",
       "      <td>0.007928</td>\n",
       "      <td>-0.109678</td>\n",
       "      <td>0.070665</td>\n",
       "      <td>-0.069335</td>\n",
       "      <td>0.036830</td>\n",
       "      <td>0.001487</td>\n",
       "      <td>0.000331</td>\n",
       "      <td>-0.048816</td>\n",
       "      <td>-0.112004</td>\n",
       "      <td>...</td>\n",
       "      <td>0.026002</td>\n",
       "      <td>-0.014206</td>\n",
       "      <td>-0.148223</td>\n",
       "      <td>0.058003</td>\n",
       "      <td>-0.006749</td>\n",
       "      <td>-0.219159</td>\n",
       "      <td>-0.141725</td>\n",
       "      <td>0.104762</td>\n",
       "      <td>0.065497</td>\n",
       "      <td>0.051957</td>\n",
       "    </tr>\n",
       "    <tr>\n",
       "      <th>100thieves</th>\n",
       "      <th>2019-01-01</th>\n",
       "      <td>0.047010</td>\n",
       "      <td>0.089473</td>\n",
       "      <td>0.001833</td>\n",
       "      <td>-0.059464</td>\n",
       "      <td>0.099490</td>\n",
       "      <td>0.032410</td>\n",
       "      <td>-0.004810</td>\n",
       "      <td>-0.101613</td>\n",
       "      <td>0.066657</td>\n",
       "      <td>0.035370</td>\n",
       "      <td>...</td>\n",
       "      <td>0.001671</td>\n",
       "      <td>-0.028480</td>\n",
       "      <td>0.000751</td>\n",
       "      <td>0.120835</td>\n",
       "      <td>0.051996</td>\n",
       "      <td>-0.121277</td>\n",
       "      <td>-0.044962</td>\n",
       "      <td>0.003476</td>\n",
       "      <td>0.133735</td>\n",
       "      <td>0.006160</td>\n",
       "    </tr>\n",
       "    <tr>\n",
       "      <th>1022</th>\n",
       "      <th>2019-01-01</th>\n",
       "      <td>0.030958</td>\n",
       "      <td>0.029023</td>\n",
       "      <td>0.031724</td>\n",
       "      <td>-0.102030</td>\n",
       "      <td>0.064858</td>\n",
       "      <td>-0.189088</td>\n",
       "      <td>0.021475</td>\n",
       "      <td>-0.152345</td>\n",
       "      <td>0.027263</td>\n",
       "      <td>-0.012738</td>\n",
       "      <td>...</td>\n",
       "      <td>-0.068612</td>\n",
       "      <td>0.034416</td>\n",
       "      <td>-0.161073</td>\n",
       "      <td>0.011924</td>\n",
       "      <td>0.000407</td>\n",
       "      <td>-0.135506</td>\n",
       "      <td>-0.117616</td>\n",
       "      <td>-0.023013</td>\n",
       "      <td>0.139499</td>\n",
       "      <td>-0.052780</td>\n",
       "    </tr>\n",
       "    <tr>\n",
       "      <th>1200isfineIGUESSugh</th>\n",
       "      <th>2019-01-01</th>\n",
       "      <td>0.093791</td>\n",
       "      <td>-0.000252</td>\n",
       "      <td>0.002537</td>\n",
       "      <td>0.099571</td>\n",
       "      <td>0.105243</td>\n",
       "      <td>0.032816</td>\n",
       "      <td>0.049385</td>\n",
       "      <td>-0.133215</td>\n",
       "      <td>0.117549</td>\n",
       "      <td>-0.070538</td>\n",
       "      <td>...</td>\n",
       "      <td>0.016156</td>\n",
       "      <td>-0.073431</td>\n",
       "      <td>-0.073697</td>\n",
       "      <td>0.045124</td>\n",
       "      <td>-0.045725</td>\n",
       "      <td>-0.030220</td>\n",
       "      <td>0.114463</td>\n",
       "      <td>-0.010067</td>\n",
       "      <td>0.100510</td>\n",
       "      <td>0.064892</td>\n",
       "    </tr>\n",
       "    <tr>\n",
       "      <th>1200isjerky</th>\n",
       "      <th>2019-01-01</th>\n",
       "      <td>0.154488</td>\n",
       "      <td>0.057273</td>\n",
       "      <td>-0.018089</td>\n",
       "      <td>0.143122</td>\n",
       "      <td>0.095987</td>\n",
       "      <td>0.111545</td>\n",
       "      <td>0.023787</td>\n",
       "      <td>-0.171960</td>\n",
       "      <td>0.020003</td>\n",
       "      <td>-0.040333</td>\n",
       "      <td>...</td>\n",
       "      <td>0.080083</td>\n",
       "      <td>-0.089391</td>\n",
       "      <td>-0.109960</td>\n",
       "      <td>0.059116</td>\n",
       "      <td>-0.077729</td>\n",
       "      <td>-0.000051</td>\n",
       "      <td>0.170306</td>\n",
       "      <td>-0.042596</td>\n",
       "      <td>-0.043461</td>\n",
       "      <td>0.066343</td>\n",
       "    </tr>\n",
       "    <tr>\n",
       "      <th>...</th>\n",
       "      <th>...</th>\n",
       "      <td>...</td>\n",
       "      <td>...</td>\n",
       "      <td>...</td>\n",
       "      <td>...</td>\n",
       "      <td>...</td>\n",
       "      <td>...</td>\n",
       "      <td>...</td>\n",
       "      <td>...</td>\n",
       "      <td>...</td>\n",
       "      <td>...</td>\n",
       "      <td>...</td>\n",
       "      <td>...</td>\n",
       "      <td>...</td>\n",
       "      <td>...</td>\n",
       "      <td>...</td>\n",
       "      <td>...</td>\n",
       "      <td>...</td>\n",
       "      <td>...</td>\n",
       "      <td>...</td>\n",
       "      <td>...</td>\n",
       "      <td>...</td>\n",
       "    </tr>\n",
       "    <tr>\n",
       "      <th>zoemains</th>\n",
       "      <th>2019-12-01</th>\n",
       "      <td>0.031772</td>\n",
       "      <td>0.026607</td>\n",
       "      <td>0.012095</td>\n",
       "      <td>0.093933</td>\n",
       "      <td>0.100424</td>\n",
       "      <td>-0.005248</td>\n",
       "      <td>-0.067083</td>\n",
       "      <td>-0.065163</td>\n",
       "      <td>0.068851</td>\n",
       "      <td>0.039087</td>\n",
       "      <td>...</td>\n",
       "      <td>0.113103</td>\n",
       "      <td>0.030495</td>\n",
       "      <td>0.039067</td>\n",
       "      <td>0.074273</td>\n",
       "      <td>-0.039663</td>\n",
       "      <td>-0.104319</td>\n",
       "      <td>-0.043474</td>\n",
       "      <td>0.028903</td>\n",
       "      <td>0.022581</td>\n",
       "      <td>0.012715</td>\n",
       "    </tr>\n",
       "    <tr>\n",
       "      <th>zoloft</th>\n",
       "      <th>2019-12-01</th>\n",
       "      <td>-0.015821</td>\n",
       "      <td>0.053895</td>\n",
       "      <td>-0.015671</td>\n",
       "      <td>0.113680</td>\n",
       "      <td>0.057699</td>\n",
       "      <td>0.082132</td>\n",
       "      <td>0.021603</td>\n",
       "      <td>0.030836</td>\n",
       "      <td>0.009351</td>\n",
       "      <td>-0.128631</td>\n",
       "      <td>...</td>\n",
       "      <td>-0.082551</td>\n",
       "      <td>-0.100545</td>\n",
       "      <td>-0.115522</td>\n",
       "      <td>0.002291</td>\n",
       "      <td>0.068781</td>\n",
       "      <td>-0.151290</td>\n",
       "      <td>0.019573</td>\n",
       "      <td>-0.045880</td>\n",
       "      <td>0.128124</td>\n",
       "      <td>-0.044593</td>\n",
       "    </tr>\n",
       "    <tr>\n",
       "      <th>zombies</th>\n",
       "      <th>2019-12-01</th>\n",
       "      <td>0.013930</td>\n",
       "      <td>-0.102829</td>\n",
       "      <td>-0.008978</td>\n",
       "      <td>0.036583</td>\n",
       "      <td>-0.085338</td>\n",
       "      <td>-0.022046</td>\n",
       "      <td>-0.069338</td>\n",
       "      <td>0.005291</td>\n",
       "      <td>-0.076649</td>\n",
       "      <td>0.006726</td>\n",
       "      <td>...</td>\n",
       "      <td>0.009584</td>\n",
       "      <td>0.051413</td>\n",
       "      <td>0.003283</td>\n",
       "      <td>0.016159</td>\n",
       "      <td>-0.068776</td>\n",
       "      <td>-0.000747</td>\n",
       "      <td>-0.069661</td>\n",
       "      <td>0.161934</td>\n",
       "      <td>-0.062454</td>\n",
       "      <td>0.044292</td>\n",
       "    </tr>\n",
       "    <tr>\n",
       "      <th>zootopia</th>\n",
       "      <th>2019-12-01</th>\n",
       "      <td>-0.071352</td>\n",
       "      <td>0.014392</td>\n",
       "      <td>0.082478</td>\n",
       "      <td>0.164587</td>\n",
       "      <td>0.077086</td>\n",
       "      <td>-0.052253</td>\n",
       "      <td>-0.072058</td>\n",
       "      <td>-0.082849</td>\n",
       "      <td>0.004199</td>\n",
       "      <td>-0.033957</td>\n",
       "      <td>...</td>\n",
       "      <td>0.102761</td>\n",
       "      <td>-0.031334</td>\n",
       "      <td>-0.038930</td>\n",
       "      <td>0.126400</td>\n",
       "      <td>-0.038243</td>\n",
       "      <td>0.063623</td>\n",
       "      <td>-0.099276</td>\n",
       "      <td>-0.018593</td>\n",
       "      <td>0.043465</td>\n",
       "      <td>-0.016386</td>\n",
       "    </tr>\n",
       "    <tr>\n",
       "      <th>zurich</th>\n",
       "      <th>2019-12-01</th>\n",
       "      <td>0.085357</td>\n",
       "      <td>-0.071645</td>\n",
       "      <td>-0.176382</td>\n",
       "      <td>-0.059816</td>\n",
       "      <td>0.092763</td>\n",
       "      <td>0.107670</td>\n",
       "      <td>-0.131393</td>\n",
       "      <td>-0.077398</td>\n",
       "      <td>0.005380</td>\n",
       "      <td>0.068437</td>\n",
       "      <td>...</td>\n",
       "      <td>0.140103</td>\n",
       "      <td>0.114566</td>\n",
       "      <td>-0.123826</td>\n",
       "      <td>0.036651</td>\n",
       "      <td>-0.008637</td>\n",
       "      <td>-0.080500</td>\n",
       "      <td>-0.019299</td>\n",
       "      <td>0.087896</td>\n",
       "      <td>0.109984</td>\n",
       "      <td>-0.076567</td>\n",
       "    </tr>\n",
       "  </tbody>\n",
       "</table>\n",
       "<p>120825 rows × 150 columns</p>\n",
       "</div>"
      ],
      "text/plain": [
       "                                     1         2         3         4    \\\n",
       "subreddit           date                                                 \n",
       "1000ccplus          2019-01-01  0.027411  0.007928 -0.109678  0.070665   \n",
       "100thieves          2019-01-01  0.047010  0.089473  0.001833 -0.059464   \n",
       "1022                2019-01-01  0.030958  0.029023  0.031724 -0.102030   \n",
       "1200isfineIGUESSugh 2019-01-01  0.093791 -0.000252  0.002537  0.099571   \n",
       "1200isjerky         2019-01-01  0.154488  0.057273 -0.018089  0.143122   \n",
       "...                                  ...       ...       ...       ...   \n",
       "zoemains            2019-12-01  0.031772  0.026607  0.012095  0.093933   \n",
       "zoloft              2019-12-01 -0.015821  0.053895 -0.015671  0.113680   \n",
       "zombies             2019-12-01  0.013930 -0.102829 -0.008978  0.036583   \n",
       "zootopia            2019-12-01 -0.071352  0.014392  0.082478  0.164587   \n",
       "zurich              2019-12-01  0.085357 -0.071645 -0.176382 -0.059816   \n",
       "\n",
       "                                     5         6         7         8    \\\n",
       "subreddit           date                                                 \n",
       "1000ccplus          2019-01-01 -0.069335  0.036830  0.001487  0.000331   \n",
       "100thieves          2019-01-01  0.099490  0.032410 -0.004810 -0.101613   \n",
       "1022                2019-01-01  0.064858 -0.189088  0.021475 -0.152345   \n",
       "1200isfineIGUESSugh 2019-01-01  0.105243  0.032816  0.049385 -0.133215   \n",
       "1200isjerky         2019-01-01  0.095987  0.111545  0.023787 -0.171960   \n",
       "...                                  ...       ...       ...       ...   \n",
       "zoemains            2019-12-01  0.100424 -0.005248 -0.067083 -0.065163   \n",
       "zoloft              2019-12-01  0.057699  0.082132  0.021603  0.030836   \n",
       "zombies             2019-12-01 -0.085338 -0.022046 -0.069338  0.005291   \n",
       "zootopia            2019-12-01  0.077086 -0.052253 -0.072058 -0.082849   \n",
       "zurich              2019-12-01  0.092763  0.107670 -0.131393 -0.077398   \n",
       "\n",
       "                                     9         10   ...       141       142  \\\n",
       "subreddit           date                            ...                       \n",
       "1000ccplus          2019-01-01 -0.048816 -0.112004  ...  0.026002 -0.014206   \n",
       "100thieves          2019-01-01  0.066657  0.035370  ...  0.001671 -0.028480   \n",
       "1022                2019-01-01  0.027263 -0.012738  ... -0.068612  0.034416   \n",
       "1200isfineIGUESSugh 2019-01-01  0.117549 -0.070538  ...  0.016156 -0.073431   \n",
       "1200isjerky         2019-01-01  0.020003 -0.040333  ...  0.080083 -0.089391   \n",
       "...                                  ...       ...  ...       ...       ...   \n",
       "zoemains            2019-12-01  0.068851  0.039087  ...  0.113103  0.030495   \n",
       "zoloft              2019-12-01  0.009351 -0.128631  ... -0.082551 -0.100545   \n",
       "zombies             2019-12-01 -0.076649  0.006726  ...  0.009584  0.051413   \n",
       "zootopia            2019-12-01  0.004199 -0.033957  ...  0.102761 -0.031334   \n",
       "zurich              2019-12-01  0.005380  0.068437  ...  0.140103  0.114566   \n",
       "\n",
       "                                     143       144       145       146  \\\n",
       "subreddit           date                                                 \n",
       "1000ccplus          2019-01-01 -0.148223  0.058003 -0.006749 -0.219159   \n",
       "100thieves          2019-01-01  0.000751  0.120835  0.051996 -0.121277   \n",
       "1022                2019-01-01 -0.161073  0.011924  0.000407 -0.135506   \n",
       "1200isfineIGUESSugh 2019-01-01 -0.073697  0.045124 -0.045725 -0.030220   \n",
       "1200isjerky         2019-01-01 -0.109960  0.059116 -0.077729 -0.000051   \n",
       "...                                  ...       ...       ...       ...   \n",
       "zoemains            2019-12-01  0.039067  0.074273 -0.039663 -0.104319   \n",
       "zoloft              2019-12-01 -0.115522  0.002291  0.068781 -0.151290   \n",
       "zombies             2019-12-01  0.003283  0.016159 -0.068776 -0.000747   \n",
       "zootopia            2019-12-01 -0.038930  0.126400 -0.038243  0.063623   \n",
       "zurich              2019-12-01 -0.123826  0.036651 -0.008637 -0.080500   \n",
       "\n",
       "                                     147       148       149       150  \n",
       "subreddit           date                                                \n",
       "1000ccplus          2019-01-01 -0.141725  0.104762  0.065497  0.051957  \n",
       "100thieves          2019-01-01 -0.044962  0.003476  0.133735  0.006160  \n",
       "1022                2019-01-01 -0.117616 -0.023013  0.139499 -0.052780  \n",
       "1200isfineIGUESSugh 2019-01-01  0.114463 -0.010067  0.100510  0.064892  \n",
       "1200isjerky         2019-01-01  0.170306 -0.042596 -0.043461  0.066343  \n",
       "...                                  ...       ...       ...       ...  \n",
       "zoemains            2019-12-01 -0.043474  0.028903  0.022581  0.012715  \n",
       "zoloft              2019-12-01  0.019573 -0.045880  0.128124 -0.044593  \n",
       "zombies             2019-12-01 -0.069661  0.161934 -0.062454  0.044292  \n",
       "zootopia            2019-12-01 -0.099276 -0.018593  0.043465 -0.016386  \n",
       "zurich              2019-12-01 -0.019299  0.087896  0.109984 -0.076567  \n",
       "\n",
       "[120825 rows x 150 columns]"
      ]
     },
     "execution_count": 4,
     "metadata": {},
     "output_type": "execute_result"
    }
   ],
   "source": [
    "embedding = load_embedding(\"/h/224/cameron/Political-Subreddit-Embedding/trained_embeddings/temporal/{}/{}_vecs_0.0028_15.txt\".format(TIME_FRAME,TIME_FRAME),split=False)\n",
    "#Parse out date and subreddit from single index\n",
    "t = embedding.index.map(lambda x: parse_tup(x,date_str=\"%d/%m/%Y\"))\n",
    "t = list(map(tuple,t))\n",
    "embedding.index = pd.MultiIndex.from_tuples(t)\n",
    "embedding = embedding.rename_axis((\"subreddit\", \"date\")).sort_values([\"date\",\"subreddit\"])\n",
    "embedding"
   ]
  },
  {
   "cell_type": "code",
   "execution_count": 5,
   "metadata": {},
   "outputs": [
    {
     "name": "stderr",
     "output_type": "stream",
     "text": [
      "/h/224/cameron/miniconda3/envs/pyspark_env/lib/python3.7/site-packages/ipykernel_launcher.py:9: SettingWithCopyWarning: \n",
      "A value is trying to be set on a copy of a slice from a DataFrame.\n",
      "Try using .loc[row_indexer,col_indexer] = value instead\n",
      "\n",
      "See the caveats in the documentation: https://pandas.pydata.org/pandas-docs/stable/user_guide/indexing.html#returning-a-view-versus-a-copy\n",
      "  if __name__ == '__main__':\n"
     ]
    },
    {
     "data": {
      "text/html": [
       "<div>\n",
       "<style scoped>\n",
       "    .dataframe tbody tr th:only-of-type {\n",
       "        vertical-align: middle;\n",
       "    }\n",
       "\n",
       "    .dataframe tbody tr th {\n",
       "        vertical-align: top;\n",
       "    }\n",
       "\n",
       "    .dataframe thead th {\n",
       "        text-align: right;\n",
       "    }\n",
       "</style>\n",
       "<table border=\"1\" class=\"dataframe\">\n",
       "  <thead>\n",
       "    <tr style=\"text-align: right;\">\n",
       "      <th></th>\n",
       "      <th></th>\n",
       "      <th>1</th>\n",
       "      <th>2</th>\n",
       "      <th>3</th>\n",
       "      <th>4</th>\n",
       "      <th>5</th>\n",
       "      <th>6</th>\n",
       "      <th>7</th>\n",
       "      <th>8</th>\n",
       "      <th>9</th>\n",
       "      <th>10</th>\n",
       "      <th>...</th>\n",
       "      <th>142</th>\n",
       "      <th>143</th>\n",
       "      <th>144</th>\n",
       "      <th>145</th>\n",
       "      <th>146</th>\n",
       "      <th>147</th>\n",
       "      <th>148</th>\n",
       "      <th>149</th>\n",
       "      <th>150</th>\n",
       "      <th>sim_to_centroid</th>\n",
       "    </tr>\n",
       "    <tr>\n",
       "      <th>subreddit</th>\n",
       "      <th>date</th>\n",
       "      <th></th>\n",
       "      <th></th>\n",
       "      <th></th>\n",
       "      <th></th>\n",
       "      <th></th>\n",
       "      <th></th>\n",
       "      <th></th>\n",
       "      <th></th>\n",
       "      <th></th>\n",
       "      <th></th>\n",
       "      <th></th>\n",
       "      <th></th>\n",
       "      <th></th>\n",
       "      <th></th>\n",
       "      <th></th>\n",
       "      <th></th>\n",
       "      <th></th>\n",
       "      <th></th>\n",
       "      <th></th>\n",
       "      <th></th>\n",
       "      <th></th>\n",
       "    </tr>\n",
       "  </thead>\n",
       "  <tbody>\n",
       "    <tr>\n",
       "      <th>BaemyKlobaechar</th>\n",
       "      <th>2019-01-01</th>\n",
       "      <td>0.039385</td>\n",
       "      <td>-0.032656</td>\n",
       "      <td>-0.102859</td>\n",
       "      <td>0.013675</td>\n",
       "      <td>-0.028504</td>\n",
       "      <td>-0.008800</td>\n",
       "      <td>0.093741</td>\n",
       "      <td>-0.030641</td>\n",
       "      <td>0.056056</td>\n",
       "      <td>-0.021695</td>\n",
       "      <td>...</td>\n",
       "      <td>-0.060968</td>\n",
       "      <td>0.051346</td>\n",
       "      <td>0.065561</td>\n",
       "      <td>0.042905</td>\n",
       "      <td>-0.003893</td>\n",
       "      <td>-0.032835</td>\n",
       "      <td>0.040659</td>\n",
       "      <td>-0.048528</td>\n",
       "      <td>0.011097</td>\n",
       "      <td>0.759759</td>\n",
       "    </tr>\n",
       "    <tr>\n",
       "      <th>ElizabethWarren</th>\n",
       "      <th>2019-01-01</th>\n",
       "      <td>0.018491</td>\n",
       "      <td>-0.044195</td>\n",
       "      <td>-0.065121</td>\n",
       "      <td>-0.110989</td>\n",
       "      <td>-0.125476</td>\n",
       "      <td>0.009724</td>\n",
       "      <td>0.037393</td>\n",
       "      <td>-0.102446</td>\n",
       "      <td>-0.072912</td>\n",
       "      <td>-0.034110</td>\n",
       "      <td>...</td>\n",
       "      <td>-0.157365</td>\n",
       "      <td>0.055299</td>\n",
       "      <td>0.106372</td>\n",
       "      <td>0.063118</td>\n",
       "      <td>0.028082</td>\n",
       "      <td>-0.035191</td>\n",
       "      <td>0.014581</td>\n",
       "      <td>0.120955</td>\n",
       "      <td>0.000003</td>\n",
       "      <td>0.840635</td>\n",
       "    </tr>\n",
       "    <tr>\n",
       "      <th>JoeBiden</th>\n",
       "      <th>2019-01-01</th>\n",
       "      <td>-0.053438</td>\n",
       "      <td>0.074119</td>\n",
       "      <td>-0.015618</td>\n",
       "      <td>-0.010005</td>\n",
       "      <td>0.029803</td>\n",
       "      <td>-0.073516</td>\n",
       "      <td>0.066443</td>\n",
       "      <td>0.193023</td>\n",
       "      <td>-0.110543</td>\n",
       "      <td>0.033751</td>\n",
       "      <td>...</td>\n",
       "      <td>0.055165</td>\n",
       "      <td>-0.008505</td>\n",
       "      <td>-0.058270</td>\n",
       "      <td>0.103427</td>\n",
       "      <td>0.191497</td>\n",
       "      <td>-0.026188</td>\n",
       "      <td>-0.056188</td>\n",
       "      <td>-0.093882</td>\n",
       "      <td>0.042998</td>\n",
       "      <td>-0.139945</td>\n",
       "    </tr>\n",
       "    <tr>\n",
       "      <th>Pete_Buttigieg</th>\n",
       "      <th>2019-01-01</th>\n",
       "      <td>-0.004406</td>\n",
       "      <td>0.003567</td>\n",
       "      <td>-0.049095</td>\n",
       "      <td>0.018293</td>\n",
       "      <td>-0.040109</td>\n",
       "      <td>-0.071119</td>\n",
       "      <td>-0.000791</td>\n",
       "      <td>-0.015795</td>\n",
       "      <td>0.059540</td>\n",
       "      <td>0.069648</td>\n",
       "      <td>...</td>\n",
       "      <td>0.058978</td>\n",
       "      <td>0.008322</td>\n",
       "      <td>0.129788</td>\n",
       "      <td>0.134624</td>\n",
       "      <td>0.055960</td>\n",
       "      <td>-0.019483</td>\n",
       "      <td>-0.063738</td>\n",
       "      <td>0.129256</td>\n",
       "      <td>0.041822</td>\n",
       "      <td>0.743222</td>\n",
       "    </tr>\n",
       "    <tr>\n",
       "      <th>SandersForPresident</th>\n",
       "      <th>2019-01-01</th>\n",
       "      <td>0.095072</td>\n",
       "      <td>-0.110822</td>\n",
       "      <td>-0.076922</td>\n",
       "      <td>-0.121351</td>\n",
       "      <td>-0.087542</td>\n",
       "      <td>0.001798</td>\n",
       "      <td>0.077701</td>\n",
       "      <td>-0.162225</td>\n",
       "      <td>0.031120</td>\n",
       "      <td>-0.043594</td>\n",
       "      <td>...</td>\n",
       "      <td>-0.144000</td>\n",
       "      <td>0.019736</td>\n",
       "      <td>0.006887</td>\n",
       "      <td>-0.054501</td>\n",
       "      <td>0.022390</td>\n",
       "      <td>-0.007561</td>\n",
       "      <td>0.006743</td>\n",
       "      <td>0.141208</td>\n",
       "      <td>-0.032168</td>\n",
       "      <td>0.709079</td>\n",
       "    </tr>\n",
       "    <tr>\n",
       "      <th>...</th>\n",
       "      <th>...</th>\n",
       "      <td>...</td>\n",
       "      <td>...</td>\n",
       "      <td>...</td>\n",
       "      <td>...</td>\n",
       "      <td>...</td>\n",
       "      <td>...</td>\n",
       "      <td>...</td>\n",
       "      <td>...</td>\n",
       "      <td>...</td>\n",
       "      <td>...</td>\n",
       "      <td>...</td>\n",
       "      <td>...</td>\n",
       "      <td>...</td>\n",
       "      <td>...</td>\n",
       "      <td>...</td>\n",
       "      <td>...</td>\n",
       "      <td>...</td>\n",
       "      <td>...</td>\n",
       "      <td>...</td>\n",
       "      <td>...</td>\n",
       "      <td>...</td>\n",
       "    </tr>\n",
       "    <tr>\n",
       "      <th>ElizabethWarren</th>\n",
       "      <th>2019-12-01</th>\n",
       "      <td>0.000629</td>\n",
       "      <td>0.011961</td>\n",
       "      <td>0.034210</td>\n",
       "      <td>-0.108369</td>\n",
       "      <td>-0.039555</td>\n",
       "      <td>-0.112417</td>\n",
       "      <td>0.048837</td>\n",
       "      <td>-0.119285</td>\n",
       "      <td>0.097671</td>\n",
       "      <td>-0.060705</td>\n",
       "      <td>...</td>\n",
       "      <td>-0.154529</td>\n",
       "      <td>0.080845</td>\n",
       "      <td>-0.006379</td>\n",
       "      <td>0.137086</td>\n",
       "      <td>0.070077</td>\n",
       "      <td>0.036909</td>\n",
       "      <td>0.097942</td>\n",
       "      <td>0.032499</td>\n",
       "      <td>-0.036539</td>\n",
       "      <td>0.884373</td>\n",
       "    </tr>\n",
       "    <tr>\n",
       "      <th>JoeBiden</th>\n",
       "      <th>2019-12-01</th>\n",
       "      <td>0.051819</td>\n",
       "      <td>-0.040755</td>\n",
       "      <td>0.062116</td>\n",
       "      <td>-0.056645</td>\n",
       "      <td>-0.004976</td>\n",
       "      <td>-0.121716</td>\n",
       "      <td>0.066456</td>\n",
       "      <td>0.000318</td>\n",
       "      <td>0.079148</td>\n",
       "      <td>0.016759</td>\n",
       "      <td>...</td>\n",
       "      <td>0.055316</td>\n",
       "      <td>0.091487</td>\n",
       "      <td>-0.039787</td>\n",
       "      <td>0.069946</td>\n",
       "      <td>-0.076293</td>\n",
       "      <td>0.004495</td>\n",
       "      <td>0.030407</td>\n",
       "      <td>0.076456</td>\n",
       "      <td>-0.055591</td>\n",
       "      <td>0.848246</td>\n",
       "    </tr>\n",
       "    <tr>\n",
       "      <th>Pete_Buttigieg</th>\n",
       "      <th>2019-12-01</th>\n",
       "      <td>-0.046594</td>\n",
       "      <td>0.044182</td>\n",
       "      <td>0.022248</td>\n",
       "      <td>-0.102484</td>\n",
       "      <td>-0.002578</td>\n",
       "      <td>-0.078466</td>\n",
       "      <td>0.061907</td>\n",
       "      <td>-0.104838</td>\n",
       "      <td>0.053849</td>\n",
       "      <td>-0.012731</td>\n",
       "      <td>...</td>\n",
       "      <td>-0.100320</td>\n",
       "      <td>0.082690</td>\n",
       "      <td>-0.000170</td>\n",
       "      <td>0.099727</td>\n",
       "      <td>0.017700</td>\n",
       "      <td>-0.032778</td>\n",
       "      <td>0.059029</td>\n",
       "      <td>0.043908</td>\n",
       "      <td>-0.051225</td>\n",
       "      <td>0.861626</td>\n",
       "    </tr>\n",
       "    <tr>\n",
       "      <th>SandersForPresident</th>\n",
       "      <th>2019-12-01</th>\n",
       "      <td>0.123377</td>\n",
       "      <td>-0.134899</td>\n",
       "      <td>-0.012522</td>\n",
       "      <td>-0.056719</td>\n",
       "      <td>-0.027125</td>\n",
       "      <td>-0.082796</td>\n",
       "      <td>0.100109</td>\n",
       "      <td>-0.122305</td>\n",
       "      <td>0.059204</td>\n",
       "      <td>-0.069627</td>\n",
       "      <td>...</td>\n",
       "      <td>-0.134154</td>\n",
       "      <td>0.078443</td>\n",
       "      <td>0.026570</td>\n",
       "      <td>0.079004</td>\n",
       "      <td>0.085845</td>\n",
       "      <td>0.001672</td>\n",
       "      <td>-0.003014</td>\n",
       "      <td>0.076480</td>\n",
       "      <td>-0.037767</td>\n",
       "      <td>0.786274</td>\n",
       "    </tr>\n",
       "    <tr>\n",
       "      <th>YangForPresidentHQ</th>\n",
       "      <th>2019-12-01</th>\n",
       "      <td>0.122347</td>\n",
       "      <td>-0.041564</td>\n",
       "      <td>0.104256</td>\n",
       "      <td>0.016567</td>\n",
       "      <td>-0.040447</td>\n",
       "      <td>-0.047675</td>\n",
       "      <td>0.169381</td>\n",
       "      <td>-0.010845</td>\n",
       "      <td>0.016493</td>\n",
       "      <td>0.066338</td>\n",
       "      <td>...</td>\n",
       "      <td>-0.045533</td>\n",
       "      <td>0.060885</td>\n",
       "      <td>0.006304</td>\n",
       "      <td>0.016386</td>\n",
       "      <td>-0.019966</td>\n",
       "      <td>0.059291</td>\n",
       "      <td>0.003473</td>\n",
       "      <td>0.100733</td>\n",
       "      <td>-0.031142</td>\n",
       "      <td>0.775749</td>\n",
       "    </tr>\n",
       "  </tbody>\n",
       "</table>\n",
       "<p>72 rows × 151 columns</p>\n",
       "</div>"
      ],
      "text/plain": [
       "                                       1         2         3         4  \\\n",
       "subreddit           date                                                 \n",
       "BaemyKlobaechar     2019-01-01  0.039385 -0.032656 -0.102859  0.013675   \n",
       "ElizabethWarren     2019-01-01  0.018491 -0.044195 -0.065121 -0.110989   \n",
       "JoeBiden            2019-01-01 -0.053438  0.074119 -0.015618 -0.010005   \n",
       "Pete_Buttigieg      2019-01-01 -0.004406  0.003567 -0.049095  0.018293   \n",
       "SandersForPresident 2019-01-01  0.095072 -0.110822 -0.076922 -0.121351   \n",
       "...                                  ...       ...       ...       ...   \n",
       "ElizabethWarren     2019-12-01  0.000629  0.011961  0.034210 -0.108369   \n",
       "JoeBiden            2019-12-01  0.051819 -0.040755  0.062116 -0.056645   \n",
       "Pete_Buttigieg      2019-12-01 -0.046594  0.044182  0.022248 -0.102484   \n",
       "SandersForPresident 2019-12-01  0.123377 -0.134899 -0.012522 -0.056719   \n",
       "YangForPresidentHQ  2019-12-01  0.122347 -0.041564  0.104256  0.016567   \n",
       "\n",
       "                                       5         6         7         8  \\\n",
       "subreddit           date                                                 \n",
       "BaemyKlobaechar     2019-01-01 -0.028504 -0.008800  0.093741 -0.030641   \n",
       "ElizabethWarren     2019-01-01 -0.125476  0.009724  0.037393 -0.102446   \n",
       "JoeBiden            2019-01-01  0.029803 -0.073516  0.066443  0.193023   \n",
       "Pete_Buttigieg      2019-01-01 -0.040109 -0.071119 -0.000791 -0.015795   \n",
       "SandersForPresident 2019-01-01 -0.087542  0.001798  0.077701 -0.162225   \n",
       "...                                  ...       ...       ...       ...   \n",
       "ElizabethWarren     2019-12-01 -0.039555 -0.112417  0.048837 -0.119285   \n",
       "JoeBiden            2019-12-01 -0.004976 -0.121716  0.066456  0.000318   \n",
       "Pete_Buttigieg      2019-12-01 -0.002578 -0.078466  0.061907 -0.104838   \n",
       "SandersForPresident 2019-12-01 -0.027125 -0.082796  0.100109 -0.122305   \n",
       "YangForPresidentHQ  2019-12-01 -0.040447 -0.047675  0.169381 -0.010845   \n",
       "\n",
       "                                       9        10  ...       142       143  \\\n",
       "subreddit           date                            ...                       \n",
       "BaemyKlobaechar     2019-01-01  0.056056 -0.021695  ... -0.060968  0.051346   \n",
       "ElizabethWarren     2019-01-01 -0.072912 -0.034110  ... -0.157365  0.055299   \n",
       "JoeBiden            2019-01-01 -0.110543  0.033751  ...  0.055165 -0.008505   \n",
       "Pete_Buttigieg      2019-01-01  0.059540  0.069648  ...  0.058978  0.008322   \n",
       "SandersForPresident 2019-01-01  0.031120 -0.043594  ... -0.144000  0.019736   \n",
       "...                                  ...       ...  ...       ...       ...   \n",
       "ElizabethWarren     2019-12-01  0.097671 -0.060705  ... -0.154529  0.080845   \n",
       "JoeBiden            2019-12-01  0.079148  0.016759  ...  0.055316  0.091487   \n",
       "Pete_Buttigieg      2019-12-01  0.053849 -0.012731  ... -0.100320  0.082690   \n",
       "SandersForPresident 2019-12-01  0.059204 -0.069627  ... -0.134154  0.078443   \n",
       "YangForPresidentHQ  2019-12-01  0.016493  0.066338  ... -0.045533  0.060885   \n",
       "\n",
       "                                     144       145       146       147  \\\n",
       "subreddit           date                                                 \n",
       "BaemyKlobaechar     2019-01-01  0.065561  0.042905 -0.003893 -0.032835   \n",
       "ElizabethWarren     2019-01-01  0.106372  0.063118  0.028082 -0.035191   \n",
       "JoeBiden            2019-01-01 -0.058270  0.103427  0.191497 -0.026188   \n",
       "Pete_Buttigieg      2019-01-01  0.129788  0.134624  0.055960 -0.019483   \n",
       "SandersForPresident 2019-01-01  0.006887 -0.054501  0.022390 -0.007561   \n",
       "...                                  ...       ...       ...       ...   \n",
       "ElizabethWarren     2019-12-01 -0.006379  0.137086  0.070077  0.036909   \n",
       "JoeBiden            2019-12-01 -0.039787  0.069946 -0.076293  0.004495   \n",
       "Pete_Buttigieg      2019-12-01 -0.000170  0.099727  0.017700 -0.032778   \n",
       "SandersForPresident 2019-12-01  0.026570  0.079004  0.085845  0.001672   \n",
       "YangForPresidentHQ  2019-12-01  0.006304  0.016386 -0.019966  0.059291   \n",
       "\n",
       "                                     148       149       150  sim_to_centroid  \n",
       "subreddit           date                                                       \n",
       "BaemyKlobaechar     2019-01-01  0.040659 -0.048528  0.011097         0.759759  \n",
       "ElizabethWarren     2019-01-01  0.014581  0.120955  0.000003         0.840635  \n",
       "JoeBiden            2019-01-01 -0.056188 -0.093882  0.042998        -0.139945  \n",
       "Pete_Buttigieg      2019-01-01 -0.063738  0.129256  0.041822         0.743222  \n",
       "SandersForPresident 2019-01-01  0.006743  0.141208 -0.032168         0.709079  \n",
       "...                                  ...       ...       ...              ...  \n",
       "ElizabethWarren     2019-12-01  0.097942  0.032499 -0.036539         0.884373  \n",
       "JoeBiden            2019-12-01  0.030407  0.076456 -0.055591         0.848246  \n",
       "Pete_Buttigieg      2019-12-01  0.059029  0.043908 -0.051225         0.861626  \n",
       "SandersForPresident 2019-12-01 -0.003014  0.076480 -0.037767         0.786274  \n",
       "YangForPresidentHQ  2019-12-01  0.003473  0.100733 -0.031142         0.775749  \n",
       "\n",
       "[72 rows x 151 columns]"
      ]
     },
     "execution_count": 5,
     "metadata": {},
     "output_type": "execute_result"
    }
   ],
   "source": [
    "def sim_to_centroid(embedding,subreddit,date):\n",
    "    idx = pd.IndexSlice\n",
    "    filter_date = np.array(embedding.loc[idx[:,date], :])\n",
    "    centroid = np.mean(filter_date,axis=0).flatten()\n",
    "    sub_vec = embedding.loc[idx[subreddit,date], :].to_numpy().flatten()\n",
    "    return cos_sim(centroid,sub_vec)\n",
    "\n",
    "just_cands = embedding[embedding.index.get_level_values(0).isin(left_candidates)]\n",
    "just_cands[\"sim_to_centroid\"] = just_cands.apply(lambda x: sim_to_centroid(just_cands,x.name[0],x.name[1]),axis=1)\n",
    "just_cands"
   ]
  },
  {
   "cell_type": "code",
   "execution_count": 10,
   "metadata": {},
   "outputs": [
    {
     "data": {
      "application/vnd.plotly.v1+json": {
       "config": {
        "plotlyServerURL": "https://plot.ly"
       },
       "data": [
        {
         "hovertemplate": "Subreddit=BaemyKlobaechar<br>Month=%{x}<br>Cosine Similarity=%{y}<extra></extra>",
         "legendgroup": "BaemyKlobaechar",
         "line": {
          "color": "#00CC96",
          "dash": "solid",
          "shape": "spline"
         },
         "mode": "lines",
         "name": "BaemyKlobaechar",
         "orientation": "v",
         "showlegend": true,
         "type": "scatter",
         "x": [
          "2019-01-01T00:00:00",
          "2019-02-01T00:00:00",
          "2019-03-01T00:00:00",
          "2019-04-01T00:00:00",
          "2019-05-01T00:00:00",
          "2019-06-01T00:00:00",
          "2019-07-01T00:00:00",
          "2019-08-01T00:00:00",
          "2019-09-01T00:00:00",
          "2019-10-01T00:00:00",
          "2019-11-01T00:00:00",
          "2019-12-01T00:00:00"
         ],
         "xaxis": "x",
         "y": [
          0.7597589779174633,
          0.8435236783777788,
          0.761726635734498,
          0.7753576343775544,
          0.6530300877179867,
          0.7359985761153502,
          0.7654749757496854,
          0.7767958146079444,
          0.7726196808632169,
          0.801466645613277,
          0.8080855326536263,
          0.8349978215443501
         ],
         "yaxis": "y"
        },
        {
         "hovertemplate": "Subreddit=ElizabethWarren<br>Month=%{x}<br>Cosine Similarity=%{y}<extra></extra>",
         "legendgroup": "ElizabethWarren",
         "line": {
          "color": "#AB63FA",
          "dash": "solid",
          "shape": "spline"
         },
         "mode": "lines",
         "name": "ElizabethWarren",
         "orientation": "v",
         "showlegend": true,
         "type": "scatter",
         "x": [
          "2019-01-01T00:00:00",
          "2019-02-01T00:00:00",
          "2019-03-01T00:00:00",
          "2019-04-01T00:00:00",
          "2019-05-01T00:00:00",
          "2019-06-01T00:00:00",
          "2019-07-01T00:00:00",
          "2019-08-01T00:00:00",
          "2019-09-01T00:00:00",
          "2019-10-01T00:00:00",
          "2019-11-01T00:00:00",
          "2019-12-01T00:00:00"
         ],
         "xaxis": "x",
         "y": [
          0.84063532776695,
          0.8475734058560573,
          0.8531455813079605,
          0.8832065910210882,
          0.8711623457858824,
          0.8728786823664322,
          0.8929262253409559,
          0.8805699839035237,
          0.9007534484257731,
          0.9138216593805291,
          0.9137427856312325,
          0.8843731914316175
         ],
         "yaxis": "y"
        },
        {
         "hovertemplate": "Subreddit=JoeBiden<br>Month=%{x}<br>Cosine Similarity=%{y}<extra></extra>",
         "legendgroup": "JoeBiden",
         "line": {
          "color": "#636EFA",
          "dash": "solid",
          "shape": "spline"
         },
         "mode": "lines",
         "name": "JoeBiden",
         "orientation": "v",
         "showlegend": true,
         "type": "scatter",
         "x": [
          "2019-01-01T00:00:00",
          "2019-02-01T00:00:00",
          "2019-03-01T00:00:00",
          "2019-04-01T00:00:00",
          "2019-05-01T00:00:00",
          "2019-06-01T00:00:00",
          "2019-07-01T00:00:00",
          "2019-08-01T00:00:00",
          "2019-09-01T00:00:00",
          "2019-10-01T00:00:00",
          "2019-11-01T00:00:00",
          "2019-12-01T00:00:00"
         ],
         "xaxis": "x",
         "y": [
          -0.13994457413470673,
          0.6209609563742416,
          0.7251338859589018,
          0.8643711802296018,
          0.8468616645708563,
          0.8625682668110117,
          0.8560984429508224,
          0.846491516591777,
          0.8527087580040484,
          0.8409628233306589,
          0.843819179774595,
          0.848246097731109
         ],
         "yaxis": "y"
        },
        {
         "hovertemplate": "Subreddit=Pete_Buttigieg<br>Month=%{x}<br>Cosine Similarity=%{y}<extra></extra>",
         "legendgroup": "Pete_Buttigieg",
         "line": {
          "color": "#FFA15A",
          "dash": "solid",
          "shape": "spline"
         },
         "mode": "lines",
         "name": "Pete_Buttigieg",
         "orientation": "v",
         "showlegend": true,
         "type": "scatter",
         "x": [
          "2019-01-01T00:00:00",
          "2019-02-01T00:00:00",
          "2019-03-01T00:00:00",
          "2019-04-01T00:00:00",
          "2019-05-01T00:00:00",
          "2019-06-01T00:00:00",
          "2019-07-01T00:00:00",
          "2019-08-01T00:00:00",
          "2019-09-01T00:00:00",
          "2019-10-01T00:00:00",
          "2019-11-01T00:00:00",
          "2019-12-01T00:00:00"
         ],
         "xaxis": "x",
         "y": [
          0.7432218053621118,
          0.7937720452666582,
          0.8242198568119219,
          0.8922645728621513,
          0.834597209389457,
          0.8433347547955138,
          0.8602998068718869,
          0.8377936505138013,
          0.8502224085819047,
          0.8575904141076195,
          0.859905615156885,
          0.8616264547753829
         ],
         "yaxis": "y"
        },
        {
         "hovertemplate": "Subreddit=SandersForPresident<br>Month=%{x}<br>Cosine Similarity=%{y}<extra></extra>",
         "legendgroup": "SandersForPresident",
         "line": {
          "color": "#EF553B",
          "dash": "solid",
          "shape": "spline"
         },
         "mode": "lines",
         "name": "SandersForPresident",
         "orientation": "v",
         "showlegend": true,
         "type": "scatter",
         "x": [
          "2019-01-01T00:00:00",
          "2019-02-01T00:00:00",
          "2019-03-01T00:00:00",
          "2019-04-01T00:00:00",
          "2019-05-01T00:00:00",
          "2019-06-01T00:00:00",
          "2019-07-01T00:00:00",
          "2019-08-01T00:00:00",
          "2019-09-01T00:00:00",
          "2019-10-01T00:00:00",
          "2019-11-01T00:00:00",
          "2019-12-01T00:00:00"
         ],
         "xaxis": "x",
         "y": [
          0.7090794224734601,
          0.7636377602467855,
          0.7503099592309989,
          0.820565471222451,
          0.8097516838287748,
          0.762938134029063,
          0.7960610066911384,
          0.7686547923146131,
          0.7574956559107789,
          0.7851238070942245,
          0.7868627583238412,
          0.7862739024732052
         ],
         "yaxis": "y"
        },
        {
         "hovertemplate": "Subreddit=YangForPresidentHQ<br>Month=%{x}<br>Cosine Similarity=%{y}<extra></extra>",
         "legendgroup": "YangForPresidentHQ",
         "line": {
          "color": "#19D3F3",
          "dash": "solid",
          "shape": "spline"
         },
         "mode": "lines",
         "name": "YangForPresidentHQ",
         "orientation": "v",
         "showlegend": true,
         "type": "scatter",
         "x": [
          "2019-01-01T00:00:00",
          "2019-02-01T00:00:00",
          "2019-03-01T00:00:00",
          "2019-04-01T00:00:00",
          "2019-05-01T00:00:00",
          "2019-06-01T00:00:00",
          "2019-07-01T00:00:00",
          "2019-08-01T00:00:00",
          "2019-09-01T00:00:00",
          "2019-10-01T00:00:00",
          "2019-11-01T00:00:00",
          "2019-12-01T00:00:00"
         ],
         "xaxis": "x",
         "y": [
          0.6936554477643531,
          0.7659073774277019,
          0.7047561638611555,
          0.7612345902672252,
          0.7257119008689366,
          0.7467026936390949,
          0.7126473852746126,
          0.730454692013441,
          0.7353619714618722,
          0.7344490102947724,
          0.717095157066498,
          0.7757489340555688
         ],
         "yaxis": "y"
        }
       ],
       "layout": {
        "font": {
         "size": 16
        },
        "legend": {
         "title": {
          "text": "Subreddit"
         },
         "tracegroupgap": 0
        },
        "template": {
         "data": {
          "bar": [
           {
            "error_x": {
             "color": "rgb(36,36,36)"
            },
            "error_y": {
             "color": "rgb(36,36,36)"
            },
            "marker": {
             "line": {
              "color": "white",
              "width": 0.5
             }
            },
            "type": "bar"
           }
          ],
          "barpolar": [
           {
            "marker": {
             "line": {
              "color": "white",
              "width": 0.5
             }
            },
            "type": "barpolar"
           }
          ],
          "carpet": [
           {
            "aaxis": {
             "endlinecolor": "rgb(36,36,36)",
             "gridcolor": "white",
             "linecolor": "white",
             "minorgridcolor": "white",
             "startlinecolor": "rgb(36,36,36)"
            },
            "baxis": {
             "endlinecolor": "rgb(36,36,36)",
             "gridcolor": "white",
             "linecolor": "white",
             "minorgridcolor": "white",
             "startlinecolor": "rgb(36,36,36)"
            },
            "type": "carpet"
           }
          ],
          "choropleth": [
           {
            "colorbar": {
             "outlinewidth": 1,
             "tickcolor": "rgb(36,36,36)",
             "ticks": "outside"
            },
            "type": "choropleth"
           }
          ],
          "contour": [
           {
            "colorbar": {
             "outlinewidth": 1,
             "tickcolor": "rgb(36,36,36)",
             "ticks": "outside"
            },
            "colorscale": [
             [
              0,
              "#440154"
             ],
             [
              0.1111111111111111,
              "#482878"
             ],
             [
              0.2222222222222222,
              "#3e4989"
             ],
             [
              0.3333333333333333,
              "#31688e"
             ],
             [
              0.4444444444444444,
              "#26828e"
             ],
             [
              0.5555555555555556,
              "#1f9e89"
             ],
             [
              0.6666666666666666,
              "#35b779"
             ],
             [
              0.7777777777777778,
              "#6ece58"
             ],
             [
              0.8888888888888888,
              "#b5de2b"
             ],
             [
              1,
              "#fde725"
             ]
            ],
            "type": "contour"
           }
          ],
          "contourcarpet": [
           {
            "colorbar": {
             "outlinewidth": 1,
             "tickcolor": "rgb(36,36,36)",
             "ticks": "outside"
            },
            "type": "contourcarpet"
           }
          ],
          "heatmap": [
           {
            "colorbar": {
             "outlinewidth": 1,
             "tickcolor": "rgb(36,36,36)",
             "ticks": "outside"
            },
            "colorscale": [
             [
              0,
              "#440154"
             ],
             [
              0.1111111111111111,
              "#482878"
             ],
             [
              0.2222222222222222,
              "#3e4989"
             ],
             [
              0.3333333333333333,
              "#31688e"
             ],
             [
              0.4444444444444444,
              "#26828e"
             ],
             [
              0.5555555555555556,
              "#1f9e89"
             ],
             [
              0.6666666666666666,
              "#35b779"
             ],
             [
              0.7777777777777778,
              "#6ece58"
             ],
             [
              0.8888888888888888,
              "#b5de2b"
             ],
             [
              1,
              "#fde725"
             ]
            ],
            "type": "heatmap"
           }
          ],
          "heatmapgl": [
           {
            "colorbar": {
             "outlinewidth": 1,
             "tickcolor": "rgb(36,36,36)",
             "ticks": "outside"
            },
            "colorscale": [
             [
              0,
              "#440154"
             ],
             [
              0.1111111111111111,
              "#482878"
             ],
             [
              0.2222222222222222,
              "#3e4989"
             ],
             [
              0.3333333333333333,
              "#31688e"
             ],
             [
              0.4444444444444444,
              "#26828e"
             ],
             [
              0.5555555555555556,
              "#1f9e89"
             ],
             [
              0.6666666666666666,
              "#35b779"
             ],
             [
              0.7777777777777778,
              "#6ece58"
             ],
             [
              0.8888888888888888,
              "#b5de2b"
             ],
             [
              1,
              "#fde725"
             ]
            ],
            "type": "heatmapgl"
           }
          ],
          "histogram": [
           {
            "marker": {
             "line": {
              "color": "white",
              "width": 0.6
             }
            },
            "type": "histogram"
           }
          ],
          "histogram2d": [
           {
            "colorbar": {
             "outlinewidth": 1,
             "tickcolor": "rgb(36,36,36)",
             "ticks": "outside"
            },
            "colorscale": [
             [
              0,
              "#440154"
             ],
             [
              0.1111111111111111,
              "#482878"
             ],
             [
              0.2222222222222222,
              "#3e4989"
             ],
             [
              0.3333333333333333,
              "#31688e"
             ],
             [
              0.4444444444444444,
              "#26828e"
             ],
             [
              0.5555555555555556,
              "#1f9e89"
             ],
             [
              0.6666666666666666,
              "#35b779"
             ],
             [
              0.7777777777777778,
              "#6ece58"
             ],
             [
              0.8888888888888888,
              "#b5de2b"
             ],
             [
              1,
              "#fde725"
             ]
            ],
            "type": "histogram2d"
           }
          ],
          "histogram2dcontour": [
           {
            "colorbar": {
             "outlinewidth": 1,
             "tickcolor": "rgb(36,36,36)",
             "ticks": "outside"
            },
            "colorscale": [
             [
              0,
              "#440154"
             ],
             [
              0.1111111111111111,
              "#482878"
             ],
             [
              0.2222222222222222,
              "#3e4989"
             ],
             [
              0.3333333333333333,
              "#31688e"
             ],
             [
              0.4444444444444444,
              "#26828e"
             ],
             [
              0.5555555555555556,
              "#1f9e89"
             ],
             [
              0.6666666666666666,
              "#35b779"
             ],
             [
              0.7777777777777778,
              "#6ece58"
             ],
             [
              0.8888888888888888,
              "#b5de2b"
             ],
             [
              1,
              "#fde725"
             ]
            ],
            "type": "histogram2dcontour"
           }
          ],
          "mesh3d": [
           {
            "colorbar": {
             "outlinewidth": 1,
             "tickcolor": "rgb(36,36,36)",
             "ticks": "outside"
            },
            "type": "mesh3d"
           }
          ],
          "parcoords": [
           {
            "line": {
             "colorbar": {
              "outlinewidth": 1,
              "tickcolor": "rgb(36,36,36)",
              "ticks": "outside"
             }
            },
            "type": "parcoords"
           }
          ],
          "pie": [
           {
            "automargin": true,
            "type": "pie"
           }
          ],
          "scatter": [
           {
            "marker": {
             "colorbar": {
              "outlinewidth": 1,
              "tickcolor": "rgb(36,36,36)",
              "ticks": "outside"
             }
            },
            "type": "scatter"
           }
          ],
          "scatter3d": [
           {
            "line": {
             "colorbar": {
              "outlinewidth": 1,
              "tickcolor": "rgb(36,36,36)",
              "ticks": "outside"
             }
            },
            "marker": {
             "colorbar": {
              "outlinewidth": 1,
              "tickcolor": "rgb(36,36,36)",
              "ticks": "outside"
             }
            },
            "type": "scatter3d"
           }
          ],
          "scattercarpet": [
           {
            "marker": {
             "colorbar": {
              "outlinewidth": 1,
              "tickcolor": "rgb(36,36,36)",
              "ticks": "outside"
             }
            },
            "type": "scattercarpet"
           }
          ],
          "scattergeo": [
           {
            "marker": {
             "colorbar": {
              "outlinewidth": 1,
              "tickcolor": "rgb(36,36,36)",
              "ticks": "outside"
             }
            },
            "type": "scattergeo"
           }
          ],
          "scattergl": [
           {
            "marker": {
             "colorbar": {
              "outlinewidth": 1,
              "tickcolor": "rgb(36,36,36)",
              "ticks": "outside"
             }
            },
            "type": "scattergl"
           }
          ],
          "scattermapbox": [
           {
            "marker": {
             "colorbar": {
              "outlinewidth": 1,
              "tickcolor": "rgb(36,36,36)",
              "ticks": "outside"
             }
            },
            "type": "scattermapbox"
           }
          ],
          "scatterpolar": [
           {
            "marker": {
             "colorbar": {
              "outlinewidth": 1,
              "tickcolor": "rgb(36,36,36)",
              "ticks": "outside"
             }
            },
            "type": "scatterpolar"
           }
          ],
          "scatterpolargl": [
           {
            "marker": {
             "colorbar": {
              "outlinewidth": 1,
              "tickcolor": "rgb(36,36,36)",
              "ticks": "outside"
             }
            },
            "type": "scatterpolargl"
           }
          ],
          "scatterternary": [
           {
            "marker": {
             "colorbar": {
              "outlinewidth": 1,
              "tickcolor": "rgb(36,36,36)",
              "ticks": "outside"
             }
            },
            "type": "scatterternary"
           }
          ],
          "surface": [
           {
            "colorbar": {
             "outlinewidth": 1,
             "tickcolor": "rgb(36,36,36)",
             "ticks": "outside"
            },
            "colorscale": [
             [
              0,
              "#440154"
             ],
             [
              0.1111111111111111,
              "#482878"
             ],
             [
              0.2222222222222222,
              "#3e4989"
             ],
             [
              0.3333333333333333,
              "#31688e"
             ],
             [
              0.4444444444444444,
              "#26828e"
             ],
             [
              0.5555555555555556,
              "#1f9e89"
             ],
             [
              0.6666666666666666,
              "#35b779"
             ],
             [
              0.7777777777777778,
              "#6ece58"
             ],
             [
              0.8888888888888888,
              "#b5de2b"
             ],
             [
              1,
              "#fde725"
             ]
            ],
            "type": "surface"
           }
          ],
          "table": [
           {
            "cells": {
             "fill": {
              "color": "rgb(237,237,237)"
             },
             "line": {
              "color": "white"
             }
            },
            "header": {
             "fill": {
              "color": "rgb(217,217,217)"
             },
             "line": {
              "color": "white"
             }
            },
            "type": "table"
           }
          ]
         },
         "layout": {
          "annotationdefaults": {
           "arrowhead": 0,
           "arrowwidth": 1
          },
          "coloraxis": {
           "colorbar": {
            "outlinewidth": 1,
            "tickcolor": "rgb(36,36,36)",
            "ticks": "outside"
           }
          },
          "colorscale": {
           "diverging": [
            [
             0,
             "rgb(103,0,31)"
            ],
            [
             0.1,
             "rgb(178,24,43)"
            ],
            [
             0.2,
             "rgb(214,96,77)"
            ],
            [
             0.3,
             "rgb(244,165,130)"
            ],
            [
             0.4,
             "rgb(253,219,199)"
            ],
            [
             0.5,
             "rgb(247,247,247)"
            ],
            [
             0.6,
             "rgb(209,229,240)"
            ],
            [
             0.7,
             "rgb(146,197,222)"
            ],
            [
             0.8,
             "rgb(67,147,195)"
            ],
            [
             0.9,
             "rgb(33,102,172)"
            ],
            [
             1,
             "rgb(5,48,97)"
            ]
           ],
           "sequential": [
            [
             0,
             "#440154"
            ],
            [
             0.1111111111111111,
             "#482878"
            ],
            [
             0.2222222222222222,
             "#3e4989"
            ],
            [
             0.3333333333333333,
             "#31688e"
            ],
            [
             0.4444444444444444,
             "#26828e"
            ],
            [
             0.5555555555555556,
             "#1f9e89"
            ],
            [
             0.6666666666666666,
             "#35b779"
            ],
            [
             0.7777777777777778,
             "#6ece58"
            ],
            [
             0.8888888888888888,
             "#b5de2b"
            ],
            [
             1,
             "#fde725"
            ]
           ],
           "sequentialminus": [
            [
             0,
             "#440154"
            ],
            [
             0.1111111111111111,
             "#482878"
            ],
            [
             0.2222222222222222,
             "#3e4989"
            ],
            [
             0.3333333333333333,
             "#31688e"
            ],
            [
             0.4444444444444444,
             "#26828e"
            ],
            [
             0.5555555555555556,
             "#1f9e89"
            ],
            [
             0.6666666666666666,
             "#35b779"
            ],
            [
             0.7777777777777778,
             "#6ece58"
            ],
            [
             0.8888888888888888,
             "#b5de2b"
            ],
            [
             1,
             "#fde725"
            ]
           ]
          },
          "colorway": [
           "#1F77B4",
           "#FF7F0E",
           "#2CA02C",
           "#D62728",
           "#9467BD",
           "#8C564B",
           "#E377C2",
           "#7F7F7F",
           "#BCBD22",
           "#17BECF"
          ],
          "font": {
           "color": "rgb(36,36,36)"
          },
          "geo": {
           "bgcolor": "white",
           "lakecolor": "white",
           "landcolor": "white",
           "showlakes": true,
           "showland": true,
           "subunitcolor": "white"
          },
          "hoverlabel": {
           "align": "left"
          },
          "hovermode": "closest",
          "mapbox": {
           "style": "light"
          },
          "paper_bgcolor": "white",
          "plot_bgcolor": "white",
          "polar": {
           "angularaxis": {
            "gridcolor": "rgb(232,232,232)",
            "linecolor": "rgb(36,36,36)",
            "showgrid": false,
            "showline": true,
            "ticks": "outside"
           },
           "bgcolor": "white",
           "radialaxis": {
            "gridcolor": "rgb(232,232,232)",
            "linecolor": "rgb(36,36,36)",
            "showgrid": false,
            "showline": true,
            "ticks": "outside"
           }
          },
          "scene": {
           "xaxis": {
            "backgroundcolor": "white",
            "gridcolor": "rgb(232,232,232)",
            "gridwidth": 2,
            "linecolor": "rgb(36,36,36)",
            "showbackground": true,
            "showgrid": false,
            "showline": true,
            "ticks": "outside",
            "zeroline": false,
            "zerolinecolor": "rgb(36,36,36)"
           },
           "yaxis": {
            "backgroundcolor": "white",
            "gridcolor": "rgb(232,232,232)",
            "gridwidth": 2,
            "linecolor": "rgb(36,36,36)",
            "showbackground": true,
            "showgrid": false,
            "showline": true,
            "ticks": "outside",
            "zeroline": false,
            "zerolinecolor": "rgb(36,36,36)"
           },
           "zaxis": {
            "backgroundcolor": "white",
            "gridcolor": "rgb(232,232,232)",
            "gridwidth": 2,
            "linecolor": "rgb(36,36,36)",
            "showbackground": true,
            "showgrid": false,
            "showline": true,
            "ticks": "outside",
            "zeroline": false,
            "zerolinecolor": "rgb(36,36,36)"
           }
          },
          "shapedefaults": {
           "fillcolor": "black",
           "line": {
            "width": 0
           },
           "opacity": 0.3
          },
          "ternary": {
           "aaxis": {
            "gridcolor": "rgb(232,232,232)",
            "linecolor": "rgb(36,36,36)",
            "showgrid": false,
            "showline": true,
            "ticks": "outside"
           },
           "baxis": {
            "gridcolor": "rgb(232,232,232)",
            "linecolor": "rgb(36,36,36)",
            "showgrid": false,
            "showline": true,
            "ticks": "outside"
           },
           "bgcolor": "white",
           "caxis": {
            "gridcolor": "rgb(232,232,232)",
            "linecolor": "rgb(36,36,36)",
            "showgrid": false,
            "showline": true,
            "ticks": "outside"
           }
          },
          "title": {
           "x": 0.05
          },
          "xaxis": {
           "automargin": true,
           "gridcolor": "rgb(232,232,232)",
           "linecolor": "rgb(36,36,36)",
           "showgrid": false,
           "showline": true,
           "ticks": "outside",
           "title": {
            "standoff": 15
           },
           "zeroline": false,
           "zerolinecolor": "rgb(36,36,36)"
          },
          "yaxis": {
           "automargin": true,
           "gridcolor": "rgb(232,232,232)",
           "linecolor": "rgb(36,36,36)",
           "showgrid": false,
           "showline": true,
           "ticks": "outside",
           "title": {
            "standoff": 15
           },
           "zeroline": false,
           "zerolinecolor": "rgb(36,36,36)"
          }
         }
        },
        "title": {
         "text": "Cosine Similarity to Candidate Embedding Centroid"
        },
        "xaxis": {
         "anchor": "y",
         "domain": [
          0,
          1
         ],
         "title": {
          "text": "Month"
         }
        },
        "yaxis": {
         "anchor": "x",
         "domain": [
          0,
          1
         ],
         "title": {
          "text": "Cosine Similarity"
         }
        }
       }
      },
      "text/html": [
       "<div>\n",
       "        \n",
       "        \n",
       "            <div id=\"01ef9e52-feda-4b7d-95ab-c0e9efc7b74e\" class=\"plotly-graph-div\" style=\"height:525px; width:100%;\"></div>\n",
       "            <script type=\"text/javascript\">\n",
       "                require([\"plotly\"], function(Plotly) {\n",
       "                    window.PLOTLYENV=window.PLOTLYENV || {};\n",
       "                    \n",
       "                if (document.getElementById(\"01ef9e52-feda-4b7d-95ab-c0e9efc7b74e\")) {\n",
       "                    Plotly.newPlot(\n",
       "                        '01ef9e52-feda-4b7d-95ab-c0e9efc7b74e',\n",
       "                        [{\"hovertemplate\": \"Subreddit=BaemyKlobaechar<br>Month=%{x}<br>Cosine Similarity=%{y}<extra></extra>\", \"legendgroup\": \"BaemyKlobaechar\", \"line\": {\"color\": \"#00CC96\", \"dash\": \"solid\", \"shape\": \"spline\"}, \"mode\": \"lines\", \"name\": \"BaemyKlobaechar\", \"orientation\": \"v\", \"showlegend\": true, \"type\": \"scatter\", \"x\": [\"2019-01-01T00:00:00\", \"2019-02-01T00:00:00\", \"2019-03-01T00:00:00\", \"2019-04-01T00:00:00\", \"2019-05-01T00:00:00\", \"2019-06-01T00:00:00\", \"2019-07-01T00:00:00\", \"2019-08-01T00:00:00\", \"2019-09-01T00:00:00\", \"2019-10-01T00:00:00\", \"2019-11-01T00:00:00\", \"2019-12-01T00:00:00\"], \"xaxis\": \"x\", \"y\": [0.7597589779174633, 0.8435236783777788, 0.761726635734498, 0.7753576343775544, 0.6530300877179867, 0.7359985761153502, 0.7654749757496854, 0.7767958146079444, 0.7726196808632169, 0.801466645613277, 0.8080855326536263, 0.8349978215443501], \"yaxis\": \"y\"}, {\"hovertemplate\": \"Subreddit=ElizabethWarren<br>Month=%{x}<br>Cosine Similarity=%{y}<extra></extra>\", \"legendgroup\": \"ElizabethWarren\", \"line\": {\"color\": \"#AB63FA\", \"dash\": \"solid\", \"shape\": \"spline\"}, \"mode\": \"lines\", \"name\": \"ElizabethWarren\", \"orientation\": \"v\", \"showlegend\": true, \"type\": \"scatter\", \"x\": [\"2019-01-01T00:00:00\", \"2019-02-01T00:00:00\", \"2019-03-01T00:00:00\", \"2019-04-01T00:00:00\", \"2019-05-01T00:00:00\", \"2019-06-01T00:00:00\", \"2019-07-01T00:00:00\", \"2019-08-01T00:00:00\", \"2019-09-01T00:00:00\", \"2019-10-01T00:00:00\", \"2019-11-01T00:00:00\", \"2019-12-01T00:00:00\"], \"xaxis\": \"x\", \"y\": [0.84063532776695, 0.8475734058560573, 0.8531455813079605, 0.8832065910210882, 0.8711623457858824, 0.8728786823664322, 0.8929262253409559, 0.8805699839035237, 0.9007534484257731, 0.9138216593805291, 0.9137427856312325, 0.8843731914316175], \"yaxis\": \"y\"}, {\"hovertemplate\": \"Subreddit=JoeBiden<br>Month=%{x}<br>Cosine Similarity=%{y}<extra></extra>\", \"legendgroup\": \"JoeBiden\", \"line\": {\"color\": \"#636EFA\", \"dash\": \"solid\", \"shape\": \"spline\"}, \"mode\": \"lines\", \"name\": \"JoeBiden\", \"orientation\": \"v\", \"showlegend\": true, \"type\": \"scatter\", \"x\": [\"2019-01-01T00:00:00\", \"2019-02-01T00:00:00\", \"2019-03-01T00:00:00\", \"2019-04-01T00:00:00\", \"2019-05-01T00:00:00\", \"2019-06-01T00:00:00\", \"2019-07-01T00:00:00\", \"2019-08-01T00:00:00\", \"2019-09-01T00:00:00\", \"2019-10-01T00:00:00\", \"2019-11-01T00:00:00\", \"2019-12-01T00:00:00\"], \"xaxis\": \"x\", \"y\": [-0.13994457413470673, 0.6209609563742416, 0.7251338859589018, 0.8643711802296018, 0.8468616645708563, 0.8625682668110117, 0.8560984429508224, 0.846491516591777, 0.8527087580040484, 0.8409628233306589, 0.843819179774595, 0.848246097731109], \"yaxis\": \"y\"}, {\"hovertemplate\": \"Subreddit=Pete_Buttigieg<br>Month=%{x}<br>Cosine Similarity=%{y}<extra></extra>\", \"legendgroup\": \"Pete_Buttigieg\", \"line\": {\"color\": \"#FFA15A\", \"dash\": \"solid\", \"shape\": \"spline\"}, \"mode\": \"lines\", \"name\": \"Pete_Buttigieg\", \"orientation\": \"v\", \"showlegend\": true, \"type\": \"scatter\", \"x\": [\"2019-01-01T00:00:00\", \"2019-02-01T00:00:00\", \"2019-03-01T00:00:00\", \"2019-04-01T00:00:00\", \"2019-05-01T00:00:00\", \"2019-06-01T00:00:00\", \"2019-07-01T00:00:00\", \"2019-08-01T00:00:00\", \"2019-09-01T00:00:00\", \"2019-10-01T00:00:00\", \"2019-11-01T00:00:00\", \"2019-12-01T00:00:00\"], \"xaxis\": \"x\", \"y\": [0.7432218053621118, 0.7937720452666582, 0.8242198568119219, 0.8922645728621513, 0.834597209389457, 0.8433347547955138, 0.8602998068718869, 0.8377936505138013, 0.8502224085819047, 0.8575904141076195, 0.859905615156885, 0.8616264547753829], \"yaxis\": \"y\"}, {\"hovertemplate\": \"Subreddit=SandersForPresident<br>Month=%{x}<br>Cosine Similarity=%{y}<extra></extra>\", \"legendgroup\": \"SandersForPresident\", \"line\": {\"color\": \"#EF553B\", \"dash\": \"solid\", \"shape\": \"spline\"}, \"mode\": \"lines\", \"name\": \"SandersForPresident\", \"orientation\": \"v\", \"showlegend\": true, \"type\": \"scatter\", \"x\": [\"2019-01-01T00:00:00\", \"2019-02-01T00:00:00\", \"2019-03-01T00:00:00\", \"2019-04-01T00:00:00\", \"2019-05-01T00:00:00\", \"2019-06-01T00:00:00\", \"2019-07-01T00:00:00\", \"2019-08-01T00:00:00\", \"2019-09-01T00:00:00\", \"2019-10-01T00:00:00\", \"2019-11-01T00:00:00\", \"2019-12-01T00:00:00\"], \"xaxis\": \"x\", \"y\": [0.7090794224734601, 0.7636377602467855, 0.7503099592309989, 0.820565471222451, 0.8097516838287748, 0.762938134029063, 0.7960610066911384, 0.7686547923146131, 0.7574956559107789, 0.7851238070942245, 0.7868627583238412, 0.7862739024732052], \"yaxis\": \"y\"}, {\"hovertemplate\": \"Subreddit=YangForPresidentHQ<br>Month=%{x}<br>Cosine Similarity=%{y}<extra></extra>\", \"legendgroup\": \"YangForPresidentHQ\", \"line\": {\"color\": \"#19D3F3\", \"dash\": \"solid\", \"shape\": \"spline\"}, \"mode\": \"lines\", \"name\": \"YangForPresidentHQ\", \"orientation\": \"v\", \"showlegend\": true, \"type\": \"scatter\", \"x\": [\"2019-01-01T00:00:00\", \"2019-02-01T00:00:00\", \"2019-03-01T00:00:00\", \"2019-04-01T00:00:00\", \"2019-05-01T00:00:00\", \"2019-06-01T00:00:00\", \"2019-07-01T00:00:00\", \"2019-08-01T00:00:00\", \"2019-09-01T00:00:00\", \"2019-10-01T00:00:00\", \"2019-11-01T00:00:00\", \"2019-12-01T00:00:00\"], \"xaxis\": \"x\", \"y\": [0.6936554477643531, 0.7659073774277019, 0.7047561638611555, 0.7612345902672252, 0.7257119008689366, 0.7467026936390949, 0.7126473852746126, 0.730454692013441, 0.7353619714618722, 0.7344490102947724, 0.717095157066498, 0.7757489340555688], \"yaxis\": \"y\"}],\n",
       "                        {\"font\": {\"size\": 16}, \"legend\": {\"title\": {\"text\": \"Subreddit\"}, \"tracegroupgap\": 0}, \"template\": {\"data\": {\"bar\": [{\"error_x\": {\"color\": \"rgb(36,36,36)\"}, \"error_y\": {\"color\": \"rgb(36,36,36)\"}, \"marker\": {\"line\": {\"color\": \"white\", \"width\": 0.5}}, \"type\": \"bar\"}], \"barpolar\": [{\"marker\": {\"line\": {\"color\": \"white\", \"width\": 0.5}}, \"type\": \"barpolar\"}], \"carpet\": [{\"aaxis\": {\"endlinecolor\": \"rgb(36,36,36)\", \"gridcolor\": \"white\", \"linecolor\": \"white\", \"minorgridcolor\": \"white\", \"startlinecolor\": \"rgb(36,36,36)\"}, \"baxis\": {\"endlinecolor\": \"rgb(36,36,36)\", \"gridcolor\": \"white\", \"linecolor\": \"white\", \"minorgridcolor\": \"white\", \"startlinecolor\": \"rgb(36,36,36)\"}, \"type\": \"carpet\"}], \"choropleth\": [{\"colorbar\": {\"outlinewidth\": 1, \"tickcolor\": \"rgb(36,36,36)\", \"ticks\": \"outside\"}, \"type\": \"choropleth\"}], \"contour\": [{\"colorbar\": {\"outlinewidth\": 1, \"tickcolor\": \"rgb(36,36,36)\", \"ticks\": \"outside\"}, \"colorscale\": [[0.0, \"#440154\"], [0.1111111111111111, \"#482878\"], [0.2222222222222222, \"#3e4989\"], [0.3333333333333333, \"#31688e\"], [0.4444444444444444, \"#26828e\"], [0.5555555555555556, \"#1f9e89\"], [0.6666666666666666, \"#35b779\"], [0.7777777777777778, \"#6ece58\"], [0.8888888888888888, \"#b5de2b\"], [1.0, \"#fde725\"]], \"type\": \"contour\"}], \"contourcarpet\": [{\"colorbar\": {\"outlinewidth\": 1, \"tickcolor\": \"rgb(36,36,36)\", \"ticks\": \"outside\"}, \"type\": \"contourcarpet\"}], \"heatmap\": [{\"colorbar\": {\"outlinewidth\": 1, \"tickcolor\": \"rgb(36,36,36)\", \"ticks\": \"outside\"}, \"colorscale\": [[0.0, \"#440154\"], [0.1111111111111111, \"#482878\"], [0.2222222222222222, \"#3e4989\"], [0.3333333333333333, \"#31688e\"], [0.4444444444444444, \"#26828e\"], [0.5555555555555556, \"#1f9e89\"], [0.6666666666666666, \"#35b779\"], [0.7777777777777778, \"#6ece58\"], [0.8888888888888888, \"#b5de2b\"], [1.0, \"#fde725\"]], \"type\": \"heatmap\"}], \"heatmapgl\": [{\"colorbar\": {\"outlinewidth\": 1, \"tickcolor\": \"rgb(36,36,36)\", \"ticks\": \"outside\"}, \"colorscale\": [[0.0, \"#440154\"], [0.1111111111111111, \"#482878\"], [0.2222222222222222, \"#3e4989\"], [0.3333333333333333, \"#31688e\"], [0.4444444444444444, \"#26828e\"], [0.5555555555555556, \"#1f9e89\"], [0.6666666666666666, \"#35b779\"], [0.7777777777777778, \"#6ece58\"], [0.8888888888888888, \"#b5de2b\"], [1.0, \"#fde725\"]], \"type\": \"heatmapgl\"}], \"histogram\": [{\"marker\": {\"line\": {\"color\": \"white\", \"width\": 0.6}}, \"type\": \"histogram\"}], \"histogram2d\": [{\"colorbar\": {\"outlinewidth\": 1, \"tickcolor\": \"rgb(36,36,36)\", \"ticks\": \"outside\"}, \"colorscale\": [[0.0, \"#440154\"], [0.1111111111111111, \"#482878\"], [0.2222222222222222, \"#3e4989\"], [0.3333333333333333, \"#31688e\"], [0.4444444444444444, \"#26828e\"], [0.5555555555555556, \"#1f9e89\"], [0.6666666666666666, \"#35b779\"], [0.7777777777777778, \"#6ece58\"], [0.8888888888888888, \"#b5de2b\"], [1.0, \"#fde725\"]], \"type\": \"histogram2d\"}], \"histogram2dcontour\": [{\"colorbar\": {\"outlinewidth\": 1, \"tickcolor\": \"rgb(36,36,36)\", \"ticks\": \"outside\"}, \"colorscale\": [[0.0, \"#440154\"], [0.1111111111111111, \"#482878\"], [0.2222222222222222, \"#3e4989\"], [0.3333333333333333, \"#31688e\"], [0.4444444444444444, \"#26828e\"], [0.5555555555555556, \"#1f9e89\"], [0.6666666666666666, \"#35b779\"], [0.7777777777777778, \"#6ece58\"], [0.8888888888888888, \"#b5de2b\"], [1.0, \"#fde725\"]], \"type\": \"histogram2dcontour\"}], \"mesh3d\": [{\"colorbar\": {\"outlinewidth\": 1, \"tickcolor\": \"rgb(36,36,36)\", \"ticks\": \"outside\"}, \"type\": \"mesh3d\"}], \"parcoords\": [{\"line\": {\"colorbar\": {\"outlinewidth\": 1, \"tickcolor\": \"rgb(36,36,36)\", \"ticks\": \"outside\"}}, \"type\": \"parcoords\"}], \"pie\": [{\"automargin\": true, \"type\": \"pie\"}], \"scatter\": [{\"marker\": {\"colorbar\": {\"outlinewidth\": 1, \"tickcolor\": \"rgb(36,36,36)\", \"ticks\": \"outside\"}}, \"type\": \"scatter\"}], \"scatter3d\": [{\"line\": {\"colorbar\": {\"outlinewidth\": 1, \"tickcolor\": \"rgb(36,36,36)\", \"ticks\": \"outside\"}}, \"marker\": {\"colorbar\": {\"outlinewidth\": 1, \"tickcolor\": \"rgb(36,36,36)\", \"ticks\": \"outside\"}}, \"type\": \"scatter3d\"}], \"scattercarpet\": [{\"marker\": {\"colorbar\": {\"outlinewidth\": 1, \"tickcolor\": \"rgb(36,36,36)\", \"ticks\": \"outside\"}}, \"type\": \"scattercarpet\"}], \"scattergeo\": [{\"marker\": {\"colorbar\": {\"outlinewidth\": 1, \"tickcolor\": \"rgb(36,36,36)\", \"ticks\": \"outside\"}}, \"type\": \"scattergeo\"}], \"scattergl\": [{\"marker\": {\"colorbar\": {\"outlinewidth\": 1, \"tickcolor\": \"rgb(36,36,36)\", \"ticks\": \"outside\"}}, \"type\": \"scattergl\"}], \"scattermapbox\": [{\"marker\": {\"colorbar\": {\"outlinewidth\": 1, \"tickcolor\": \"rgb(36,36,36)\", \"ticks\": \"outside\"}}, \"type\": \"scattermapbox\"}], \"scatterpolar\": [{\"marker\": {\"colorbar\": {\"outlinewidth\": 1, \"tickcolor\": \"rgb(36,36,36)\", \"ticks\": \"outside\"}}, \"type\": \"scatterpolar\"}], \"scatterpolargl\": [{\"marker\": {\"colorbar\": {\"outlinewidth\": 1, \"tickcolor\": \"rgb(36,36,36)\", \"ticks\": \"outside\"}}, \"type\": \"scatterpolargl\"}], \"scatterternary\": [{\"marker\": {\"colorbar\": {\"outlinewidth\": 1, \"tickcolor\": \"rgb(36,36,36)\", \"ticks\": \"outside\"}}, \"type\": \"scatterternary\"}], \"surface\": [{\"colorbar\": {\"outlinewidth\": 1, \"tickcolor\": \"rgb(36,36,36)\", \"ticks\": \"outside\"}, \"colorscale\": [[0.0, \"#440154\"], [0.1111111111111111, \"#482878\"], [0.2222222222222222, \"#3e4989\"], [0.3333333333333333, \"#31688e\"], [0.4444444444444444, \"#26828e\"], [0.5555555555555556, \"#1f9e89\"], [0.6666666666666666, \"#35b779\"], [0.7777777777777778, \"#6ece58\"], [0.8888888888888888, \"#b5de2b\"], [1.0, \"#fde725\"]], \"type\": \"surface\"}], \"table\": [{\"cells\": {\"fill\": {\"color\": \"rgb(237,237,237)\"}, \"line\": {\"color\": \"white\"}}, \"header\": {\"fill\": {\"color\": \"rgb(217,217,217)\"}, \"line\": {\"color\": \"white\"}}, \"type\": \"table\"}]}, \"layout\": {\"annotationdefaults\": {\"arrowhead\": 0, \"arrowwidth\": 1}, \"coloraxis\": {\"colorbar\": {\"outlinewidth\": 1, \"tickcolor\": \"rgb(36,36,36)\", \"ticks\": \"outside\"}}, \"colorscale\": {\"diverging\": [[0.0, \"rgb(103,0,31)\"], [0.1, \"rgb(178,24,43)\"], [0.2, \"rgb(214,96,77)\"], [0.3, \"rgb(244,165,130)\"], [0.4, \"rgb(253,219,199)\"], [0.5, \"rgb(247,247,247)\"], [0.6, \"rgb(209,229,240)\"], [0.7, \"rgb(146,197,222)\"], [0.8, \"rgb(67,147,195)\"], [0.9, \"rgb(33,102,172)\"], [1.0, \"rgb(5,48,97)\"]], \"sequential\": [[0.0, \"#440154\"], [0.1111111111111111, \"#482878\"], [0.2222222222222222, \"#3e4989\"], [0.3333333333333333, \"#31688e\"], [0.4444444444444444, \"#26828e\"], [0.5555555555555556, \"#1f9e89\"], [0.6666666666666666, \"#35b779\"], [0.7777777777777778, \"#6ece58\"], [0.8888888888888888, \"#b5de2b\"], [1.0, \"#fde725\"]], \"sequentialminus\": [[0.0, \"#440154\"], [0.1111111111111111, \"#482878\"], [0.2222222222222222, \"#3e4989\"], [0.3333333333333333, \"#31688e\"], [0.4444444444444444, \"#26828e\"], [0.5555555555555556, \"#1f9e89\"], [0.6666666666666666, \"#35b779\"], [0.7777777777777778, \"#6ece58\"], [0.8888888888888888, \"#b5de2b\"], [1.0, \"#fde725\"]]}, \"colorway\": [\"#1F77B4\", \"#FF7F0E\", \"#2CA02C\", \"#D62728\", \"#9467BD\", \"#8C564B\", \"#E377C2\", \"#7F7F7F\", \"#BCBD22\", \"#17BECF\"], \"font\": {\"color\": \"rgb(36,36,36)\"}, \"geo\": {\"bgcolor\": \"white\", \"lakecolor\": \"white\", \"landcolor\": \"white\", \"showlakes\": true, \"showland\": true, \"subunitcolor\": \"white\"}, \"hoverlabel\": {\"align\": \"left\"}, \"hovermode\": \"closest\", \"mapbox\": {\"style\": \"light\"}, \"paper_bgcolor\": \"white\", \"plot_bgcolor\": \"white\", \"polar\": {\"angularaxis\": {\"gridcolor\": \"rgb(232,232,232)\", \"linecolor\": \"rgb(36,36,36)\", \"showgrid\": false, \"showline\": true, \"ticks\": \"outside\"}, \"bgcolor\": \"white\", \"radialaxis\": {\"gridcolor\": \"rgb(232,232,232)\", \"linecolor\": \"rgb(36,36,36)\", \"showgrid\": false, \"showline\": true, \"ticks\": \"outside\"}}, \"scene\": {\"xaxis\": {\"backgroundcolor\": \"white\", \"gridcolor\": \"rgb(232,232,232)\", \"gridwidth\": 2, \"linecolor\": \"rgb(36,36,36)\", \"showbackground\": true, \"showgrid\": false, \"showline\": true, \"ticks\": \"outside\", \"zeroline\": false, \"zerolinecolor\": \"rgb(36,36,36)\"}, \"yaxis\": {\"backgroundcolor\": \"white\", \"gridcolor\": \"rgb(232,232,232)\", \"gridwidth\": 2, \"linecolor\": \"rgb(36,36,36)\", \"showbackground\": true, \"showgrid\": false, \"showline\": true, \"ticks\": \"outside\", \"zeroline\": false, \"zerolinecolor\": \"rgb(36,36,36)\"}, \"zaxis\": {\"backgroundcolor\": \"white\", \"gridcolor\": \"rgb(232,232,232)\", \"gridwidth\": 2, \"linecolor\": \"rgb(36,36,36)\", \"showbackground\": true, \"showgrid\": false, \"showline\": true, \"ticks\": \"outside\", \"zeroline\": false, \"zerolinecolor\": \"rgb(36,36,36)\"}}, \"shapedefaults\": {\"fillcolor\": \"black\", \"line\": {\"width\": 0}, \"opacity\": 0.3}, \"ternary\": {\"aaxis\": {\"gridcolor\": \"rgb(232,232,232)\", \"linecolor\": \"rgb(36,36,36)\", \"showgrid\": false, \"showline\": true, \"ticks\": \"outside\"}, \"baxis\": {\"gridcolor\": \"rgb(232,232,232)\", \"linecolor\": \"rgb(36,36,36)\", \"showgrid\": false, \"showline\": true, \"ticks\": \"outside\"}, \"bgcolor\": \"white\", \"caxis\": {\"gridcolor\": \"rgb(232,232,232)\", \"linecolor\": \"rgb(36,36,36)\", \"showgrid\": false, \"showline\": true, \"ticks\": \"outside\"}}, \"title\": {\"x\": 0.05}, \"xaxis\": {\"automargin\": true, \"gridcolor\": \"rgb(232,232,232)\", \"linecolor\": \"rgb(36,36,36)\", \"showgrid\": false, \"showline\": true, \"ticks\": \"outside\", \"title\": {\"standoff\": 15}, \"zeroline\": false, \"zerolinecolor\": \"rgb(36,36,36)\"}, \"yaxis\": {\"automargin\": true, \"gridcolor\": \"rgb(232,232,232)\", \"linecolor\": \"rgb(36,36,36)\", \"showgrid\": false, \"showline\": true, \"ticks\": \"outside\", \"title\": {\"standoff\": 15}, \"zeroline\": false, \"zerolinecolor\": \"rgb(36,36,36)\"}}}, \"title\": {\"text\": \"Cosine Similarity to Candidate Embedding Centroid\"}, \"xaxis\": {\"anchor\": \"y\", \"domain\": [0.0, 1.0], \"title\": {\"text\": \"Month\"}}, \"yaxis\": {\"anchor\": \"x\", \"domain\": [0.0, 1.0], \"title\": {\"text\": \"Cosine Similarity\"}}},\n",
       "                        {\"responsive\": true}\n",
       "                    ).then(function(){\n",
       "                            \n",
       "var gd = document.getElementById('01ef9e52-feda-4b7d-95ab-c0e9efc7b74e');\n",
       "var x = new MutationObserver(function (mutations, observer) {{\n",
       "        var display = window.getComputedStyle(gd).display;\n",
       "        if (!display || display === 'none') {{\n",
       "            console.log([gd, 'removed!']);\n",
       "            Plotly.purge(gd);\n",
       "            observer.disconnect();\n",
       "        }}\n",
       "}});\n",
       "\n",
       "// Listen for the removal of the full notebook cells\n",
       "var notebookContainer = gd.closest('#notebook-container');\n",
       "if (notebookContainer) {{\n",
       "    x.observe(notebookContainer, {childList: true});\n",
       "}}\n",
       "\n",
       "// Listen for the clearing of the current output cell\n",
       "var outputEl = gd.closest('.output');\n",
       "if (outputEl) {{\n",
       "    x.observe(outputEl, {childList: true});\n",
       "}}\n",
       "\n",
       "                        })\n",
       "                };\n",
       "                });\n",
       "            </script>\n",
       "        </div>"
      ]
     },
     "metadata": {},
     "output_type": "display_data"
    }
   ],
   "source": [
    " args = {\n",
    "    \"x\": \"date\",\n",
    "    \"y\": \"sim_to_centroid\",\n",
    "    \"color\": \"subreddit\",\n",
    "    \"line_shape\": \"spline\",\n",
    "    \"title\":  \"Cosine Similarity to Candidate Embedding Centroid\",\n",
    "    \"template\": \"simple_white\",\n",
    "    \"labels\": {\"sim_to_centroid\": \"Cosine Similarity\", \"date\": \"Month\", \"subreddit\": \"Subreddit\"},\n",
    "#     \"range_y\": [-1,1],\n",
    "    \"color_discrete_map\": mapping,\n",
    "\n",
    "}\n",
    "\n",
    "fig = px.line(just_cands.to_records(),**args)\n",
    "fig.update_layout(font=dict(size=16))\n",
    "\n",
    "# fig.write_html(\"visualizations/temporal/{}_centroid_similarity.html\".format(TIME_FRAME))\n",
    "fig.show()"
   ]
  },
  {
   "cell_type": "markdown",
   "metadata": {},
   "source": [
    "## Drift"
   ]
  },
  {
   "cell_type": "code",
   "execution_count": 11,
   "metadata": {},
   "outputs": [
    {
     "data": {
      "text/html": [
       "<div>\n",
       "<style scoped>\n",
       "    .dataframe tbody tr th:only-of-type {\n",
       "        vertical-align: middle;\n",
       "    }\n",
       "\n",
       "    .dataframe tbody tr th {\n",
       "        vertical-align: top;\n",
       "    }\n",
       "\n",
       "    .dataframe thead th {\n",
       "        text-align: right;\n",
       "    }\n",
       "</style>\n",
       "<table border=\"1\" class=\"dataframe\">\n",
       "  <thead>\n",
       "    <tr style=\"text-align: right;\">\n",
       "      <th></th>\n",
       "      <th>subreddit</th>\n",
       "      <th>date</th>\n",
       "      <th>1</th>\n",
       "      <th>2</th>\n",
       "      <th>3</th>\n",
       "      <th>4</th>\n",
       "      <th>5</th>\n",
       "      <th>6</th>\n",
       "      <th>7</th>\n",
       "      <th>8</th>\n",
       "      <th>...</th>\n",
       "      <th>142</th>\n",
       "      <th>143</th>\n",
       "      <th>144</th>\n",
       "      <th>145</th>\n",
       "      <th>146</th>\n",
       "      <th>147</th>\n",
       "      <th>148</th>\n",
       "      <th>149</th>\n",
       "      <th>150</th>\n",
       "      <th>drift</th>\n",
       "    </tr>\n",
       "  </thead>\n",
       "  <tbody>\n",
       "    <tr>\n",
       "      <th>532</th>\n",
       "      <td>BaemyKlobaechar</td>\n",
       "      <td>2019-01-01</td>\n",
       "      <td>0.039385</td>\n",
       "      <td>-0.032656</td>\n",
       "      <td>-0.102859</td>\n",
       "      <td>0.013675</td>\n",
       "      <td>-0.028504</td>\n",
       "      <td>-0.008800</td>\n",
       "      <td>0.093741</td>\n",
       "      <td>-0.030641</td>\n",
       "      <td>...</td>\n",
       "      <td>-0.060968</td>\n",
       "      <td>0.051346</td>\n",
       "      <td>0.065561</td>\n",
       "      <td>0.042905</td>\n",
       "      <td>-0.003893</td>\n",
       "      <td>-0.032835</td>\n",
       "      <td>0.040659</td>\n",
       "      <td>-0.048528</td>\n",
       "      <td>0.011097</td>\n",
       "      <td>1.000000</td>\n",
       "    </tr>\n",
       "    <tr>\n",
       "      <th>1118</th>\n",
       "      <td>Cooking</td>\n",
       "      <td>2019-01-01</td>\n",
       "      <td>0.086568</td>\n",
       "      <td>-0.086542</td>\n",
       "      <td>-0.149259</td>\n",
       "      <td>0.070139</td>\n",
       "      <td>-0.136781</td>\n",
       "      <td>0.050591</td>\n",
       "      <td>-0.041167</td>\n",
       "      <td>-0.222831</td>\n",
       "      <td>...</td>\n",
       "      <td>-0.094767</td>\n",
       "      <td>-0.115597</td>\n",
       "      <td>-0.014396</td>\n",
       "      <td>-0.072404</td>\n",
       "      <td>0.013722</td>\n",
       "      <td>0.146217</td>\n",
       "      <td>-0.106858</td>\n",
       "      <td>0.025739</td>\n",
       "      <td>-0.026488</td>\n",
       "      <td>1.000000</td>\n",
       "    </tr>\n",
       "    <tr>\n",
       "      <th>1566</th>\n",
       "      <td>ElizabethWarren</td>\n",
       "      <td>2019-01-01</td>\n",
       "      <td>0.018491</td>\n",
       "      <td>-0.044195</td>\n",
       "      <td>-0.065121</td>\n",
       "      <td>-0.110989</td>\n",
       "      <td>-0.125476</td>\n",
       "      <td>0.009724</td>\n",
       "      <td>0.037393</td>\n",
       "      <td>-0.102446</td>\n",
       "      <td>...</td>\n",
       "      <td>-0.157365</td>\n",
       "      <td>0.055299</td>\n",
       "      <td>0.106372</td>\n",
       "      <td>0.063118</td>\n",
       "      <td>0.028082</td>\n",
       "      <td>-0.035191</td>\n",
       "      <td>0.014581</td>\n",
       "      <td>0.120955</td>\n",
       "      <td>0.000003</td>\n",
       "      <td>1.000000</td>\n",
       "    </tr>\n",
       "    <tr>\n",
       "      <th>2510</th>\n",
       "      <td>JoeBiden</td>\n",
       "      <td>2019-01-01</td>\n",
       "      <td>-0.053438</td>\n",
       "      <td>0.074119</td>\n",
       "      <td>-0.015618</td>\n",
       "      <td>-0.010005</td>\n",
       "      <td>0.029803</td>\n",
       "      <td>-0.073516</td>\n",
       "      <td>0.066443</td>\n",
       "      <td>0.193023</td>\n",
       "      <td>...</td>\n",
       "      <td>0.055165</td>\n",
       "      <td>-0.008505</td>\n",
       "      <td>-0.058270</td>\n",
       "      <td>0.103427</td>\n",
       "      <td>0.191497</td>\n",
       "      <td>-0.026188</td>\n",
       "      <td>-0.056188</td>\n",
       "      <td>-0.093882</td>\n",
       "      <td>0.042998</td>\n",
       "      <td>1.000000</td>\n",
       "    </tr>\n",
       "    <tr>\n",
       "      <th>3548</th>\n",
       "      <td>Pete_Buttigieg</td>\n",
       "      <td>2019-01-01</td>\n",
       "      <td>-0.004406</td>\n",
       "      <td>0.003567</td>\n",
       "      <td>-0.049095</td>\n",
       "      <td>0.018293</td>\n",
       "      <td>-0.040109</td>\n",
       "      <td>-0.071119</td>\n",
       "      <td>-0.000791</td>\n",
       "      <td>-0.015795</td>\n",
       "      <td>...</td>\n",
       "      <td>0.058978</td>\n",
       "      <td>0.008322</td>\n",
       "      <td>0.129788</td>\n",
       "      <td>0.134624</td>\n",
       "      <td>0.055960</td>\n",
       "      <td>-0.019483</td>\n",
       "      <td>-0.063738</td>\n",
       "      <td>0.129256</td>\n",
       "      <td>0.041822</td>\n",
       "      <td>1.000000</td>\n",
       "    </tr>\n",
       "    <tr>\n",
       "      <th>...</th>\n",
       "      <td>...</td>\n",
       "      <td>...</td>\n",
       "      <td>...</td>\n",
       "      <td>...</td>\n",
       "      <td>...</td>\n",
       "      <td>...</td>\n",
       "      <td>...</td>\n",
       "      <td>...</td>\n",
       "      <td>...</td>\n",
       "      <td>...</td>\n",
       "      <td>...</td>\n",
       "      <td>...</td>\n",
       "      <td>...</td>\n",
       "      <td>...</td>\n",
       "      <td>...</td>\n",
       "      <td>...</td>\n",
       "      <td>...</td>\n",
       "      <td>...</td>\n",
       "      <td>...</td>\n",
       "      <td>...</td>\n",
       "      <td>...</td>\n",
       "    </tr>\n",
       "    <tr>\n",
       "      <th>114397</th>\n",
       "      <td>Pete_Buttigieg</td>\n",
       "      <td>2019-12-01</td>\n",
       "      <td>-0.046594</td>\n",
       "      <td>0.044182</td>\n",
       "      <td>0.022248</td>\n",
       "      <td>-0.102484</td>\n",
       "      <td>-0.002578</td>\n",
       "      <td>-0.078466</td>\n",
       "      <td>0.061907</td>\n",
       "      <td>-0.104838</td>\n",
       "      <td>...</td>\n",
       "      <td>-0.100320</td>\n",
       "      <td>0.082690</td>\n",
       "      <td>-0.000170</td>\n",
       "      <td>0.099727</td>\n",
       "      <td>0.017700</td>\n",
       "      <td>-0.032778</td>\n",
       "      <td>0.059029</td>\n",
       "      <td>0.043908</td>\n",
       "      <td>-0.051225</td>\n",
       "      <td>0.537303</td>\n",
       "    </tr>\n",
       "    <tr>\n",
       "      <th>114904</th>\n",
       "      <td>SandersForPresident</td>\n",
       "      <td>2019-12-01</td>\n",
       "      <td>0.123377</td>\n",
       "      <td>-0.134899</td>\n",
       "      <td>-0.012522</td>\n",
       "      <td>-0.056719</td>\n",
       "      <td>-0.027125</td>\n",
       "      <td>-0.082796</td>\n",
       "      <td>0.100109</td>\n",
       "      <td>-0.122305</td>\n",
       "      <td>...</td>\n",
       "      <td>-0.134154</td>\n",
       "      <td>0.078443</td>\n",
       "      <td>0.026570</td>\n",
       "      <td>0.079004</td>\n",
       "      <td>0.085845</td>\n",
       "      <td>0.001672</td>\n",
       "      <td>-0.003014</td>\n",
       "      <td>0.076480</td>\n",
       "      <td>-0.037767</td>\n",
       "      <td>0.723616</td>\n",
       "    </tr>\n",
       "    <tr>\n",
       "      <th>115542</th>\n",
       "      <td>The_Donald</td>\n",
       "      <td>2019-12-01</td>\n",
       "      <td>0.034199</td>\n",
       "      <td>-0.056190</td>\n",
       "      <td>0.179965</td>\n",
       "      <td>0.037636</td>\n",
       "      <td>0.037826</td>\n",
       "      <td>-0.032532</td>\n",
       "      <td>0.210877</td>\n",
       "      <td>-0.059316</td>\n",
       "      <td>...</td>\n",
       "      <td>-0.023894</td>\n",
       "      <td>0.034235</td>\n",
       "      <td>-0.100495</td>\n",
       "      <td>-0.076882</td>\n",
       "      <td>-0.121426</td>\n",
       "      <td>-0.030546</td>\n",
       "      <td>0.061262</td>\n",
       "      <td>-0.050207</td>\n",
       "      <td>-0.035276</td>\n",
       "      <td>0.887361</td>\n",
       "    </tr>\n",
       "    <tr>\n",
       "      <th>116111</th>\n",
       "      <td>YangForPresidentHQ</td>\n",
       "      <td>2019-12-01</td>\n",
       "      <td>0.122347</td>\n",
       "      <td>-0.041564</td>\n",
       "      <td>0.104256</td>\n",
       "      <td>0.016567</td>\n",
       "      <td>-0.040447</td>\n",
       "      <td>-0.047675</td>\n",
       "      <td>0.169381</td>\n",
       "      <td>-0.010845</td>\n",
       "      <td>...</td>\n",
       "      <td>-0.045533</td>\n",
       "      <td>0.060885</td>\n",
       "      <td>0.006304</td>\n",
       "      <td>0.016386</td>\n",
       "      <td>-0.019966</td>\n",
       "      <td>0.059291</td>\n",
       "      <td>0.003473</td>\n",
       "      <td>0.100733</td>\n",
       "      <td>-0.031142</td>\n",
       "      <td>0.503358</td>\n",
       "    </tr>\n",
       "    <tr>\n",
       "      <th>120143</th>\n",
       "      <td>technology</td>\n",
       "      <td>2019-12-01</td>\n",
       "      <td>0.129708</td>\n",
       "      <td>-0.088025</td>\n",
       "      <td>0.181110</td>\n",
       "      <td>0.051694</td>\n",
       "      <td>-0.063682</td>\n",
       "      <td>0.070165</td>\n",
       "      <td>0.048179</td>\n",
       "      <td>-0.111647</td>\n",
       "      <td>...</td>\n",
       "      <td>0.009402</td>\n",
       "      <td>-0.059252</td>\n",
       "      <td>-0.097484</td>\n",
       "      <td>0.061489</td>\n",
       "      <td>0.110267</td>\n",
       "      <td>0.034717</td>\n",
       "      <td>0.001429</td>\n",
       "      <td>-0.113470</td>\n",
       "      <td>-0.103689</td>\n",
       "      <td>0.691613</td>\n",
       "    </tr>\n",
       "  </tbody>\n",
       "</table>\n",
       "<p>108 rows × 153 columns</p>\n",
       "</div>"
      ],
      "text/plain": [
       "                  subreddit       date         1         2         3  \\\n",
       "532         BaemyKlobaechar 2019-01-01  0.039385 -0.032656 -0.102859   \n",
       "1118                Cooking 2019-01-01  0.086568 -0.086542 -0.149259   \n",
       "1566        ElizabethWarren 2019-01-01  0.018491 -0.044195 -0.065121   \n",
       "2510               JoeBiden 2019-01-01 -0.053438  0.074119 -0.015618   \n",
       "3548         Pete_Buttigieg 2019-01-01 -0.004406  0.003567 -0.049095   \n",
       "...                     ...        ...       ...       ...       ...   \n",
       "114397       Pete_Buttigieg 2019-12-01 -0.046594  0.044182  0.022248   \n",
       "114904  SandersForPresident 2019-12-01  0.123377 -0.134899 -0.012522   \n",
       "115542           The_Donald 2019-12-01  0.034199 -0.056190  0.179965   \n",
       "116111   YangForPresidentHQ 2019-12-01  0.122347 -0.041564  0.104256   \n",
       "120143           technology 2019-12-01  0.129708 -0.088025  0.181110   \n",
       "\n",
       "               4         5         6         7         8  ...       142  \\\n",
       "532     0.013675 -0.028504 -0.008800  0.093741 -0.030641  ... -0.060968   \n",
       "1118    0.070139 -0.136781  0.050591 -0.041167 -0.222831  ... -0.094767   \n",
       "1566   -0.110989 -0.125476  0.009724  0.037393 -0.102446  ... -0.157365   \n",
       "2510   -0.010005  0.029803 -0.073516  0.066443  0.193023  ...  0.055165   \n",
       "3548    0.018293 -0.040109 -0.071119 -0.000791 -0.015795  ...  0.058978   \n",
       "...          ...       ...       ...       ...       ...  ...       ...   \n",
       "114397 -0.102484 -0.002578 -0.078466  0.061907 -0.104838  ... -0.100320   \n",
       "114904 -0.056719 -0.027125 -0.082796  0.100109 -0.122305  ... -0.134154   \n",
       "115542  0.037636  0.037826 -0.032532  0.210877 -0.059316  ... -0.023894   \n",
       "116111  0.016567 -0.040447 -0.047675  0.169381 -0.010845  ... -0.045533   \n",
       "120143  0.051694 -0.063682  0.070165  0.048179 -0.111647  ...  0.009402   \n",
       "\n",
       "             143       144       145       146       147       148       149  \\\n",
       "532     0.051346  0.065561  0.042905 -0.003893 -0.032835  0.040659 -0.048528   \n",
       "1118   -0.115597 -0.014396 -0.072404  0.013722  0.146217 -0.106858  0.025739   \n",
       "1566    0.055299  0.106372  0.063118  0.028082 -0.035191  0.014581  0.120955   \n",
       "2510   -0.008505 -0.058270  0.103427  0.191497 -0.026188 -0.056188 -0.093882   \n",
       "3548    0.008322  0.129788  0.134624  0.055960 -0.019483 -0.063738  0.129256   \n",
       "...          ...       ...       ...       ...       ...       ...       ...   \n",
       "114397  0.082690 -0.000170  0.099727  0.017700 -0.032778  0.059029  0.043908   \n",
       "114904  0.078443  0.026570  0.079004  0.085845  0.001672 -0.003014  0.076480   \n",
       "115542  0.034235 -0.100495 -0.076882 -0.121426 -0.030546  0.061262 -0.050207   \n",
       "116111  0.060885  0.006304  0.016386 -0.019966  0.059291  0.003473  0.100733   \n",
       "120143 -0.059252 -0.097484  0.061489  0.110267  0.034717  0.001429 -0.113470   \n",
       "\n",
       "             150     drift  \n",
       "532     0.011097  1.000000  \n",
       "1118   -0.026488  1.000000  \n",
       "1566    0.000003  1.000000  \n",
       "2510    0.042998  1.000000  \n",
       "3548    0.041822  1.000000  \n",
       "...          ...       ...  \n",
       "114397 -0.051225  0.537303  \n",
       "114904 -0.037767  0.723616  \n",
       "115542 -0.035276  0.887361  \n",
       "116111 -0.031142  0.503358  \n",
       "120143 -0.103689  0.691613  \n",
       "\n",
       "[108 rows x 153 columns]"
      ]
     },
     "execution_count": 11,
     "metadata": {},
     "output_type": "execute_result"
    }
   ],
   "source": [
    "stable = [\"Cooking\",\"technology\"]\n",
    "first_timestep = datetime.strptime(\"2019-01-01\",\"%Y-%m-%d\")\n",
    "drop_cols = [\"date\",\"subreddit\",\"avg_dist\",\"drift\"]\n",
    "first_vecs = {}\n",
    "drift_test = embedding.reset_index()\n",
    "drift_test = drift_test[drift_test[\"subreddit\"].isin(left_candidates+right_candidates+stable)]\n",
    "# Iterate through all the candidates\n",
    "for sub in drift_test[\"subreddit\"].unique():\n",
    "    first_vec = drift_test[(drift_test[\"date\"] == first_timestep) & (drift_test[\"subreddit\"] == sub)]\n",
    "    first_vec = first_vec[first_vec.columns.difference(drop_cols)].to_numpy().flatten()\n",
    "    first_vecs[sub] = first_vec\n",
    "    \n",
    "def dist_from_original(series):\n",
    "    vec = series[~series.index.isin(drop_cols)]\n",
    "    name = series.subreddit\n",
    "    first_vec = first_vecs[name]\n",
    "    return cos_sim(vec,first_vec)\n",
    "drift_test[\"drift\"] = drift_test.apply(dist_from_original,axis=1)\n",
    "drift_test"
   ]
  },
  {
   "cell_type": "code",
   "execution_count": 12,
   "metadata": {},
   "outputs": [
    {
     "data": {
      "application/vnd.plotly.v1+json": {
       "config": {
        "plotlyServerURL": "https://plot.ly"
       },
       "data": [
        {
         "hovertemplate": "Subreddit=BaemyKlobaechar<br>date=%{x}<br>Drift (Cosine Similarity)=%{y}<extra></extra>",
         "legendgroup": "BaemyKlobaechar",
         "line": {
          "color": "#00CC96",
          "dash": "solid",
          "shape": "spline"
         },
         "mode": "lines",
         "name": "BaemyKlobaechar",
         "orientation": "v",
         "showlegend": true,
         "type": "scatter",
         "x": [
          "2019-01-01T00:00:00",
          "2019-02-01T00:00:00",
          "2019-03-01T00:00:00",
          "2019-04-01T00:00:00",
          "2019-05-01T00:00:00",
          "2019-06-01T00:00:00",
          "2019-07-01T00:00:00",
          "2019-08-01T00:00:00",
          "2019-09-01T00:00:00",
          "2019-10-01T00:00:00",
          "2019-11-01T00:00:00",
          "2019-12-01T00:00:00"
         ],
         "xaxis": "x",
         "y": [
          1,
          0.8393556621269712,
          0.6382554401286314,
          0.792331049956903,
          0.6364814778846676,
          0.6816137917915233,
          0.5758102824660932,
          0.711631490085588,
          0.7298238080778333,
          0.6466732745256831,
          0.6464423258000811,
          0.6373039196220482
         ],
         "yaxis": "y"
        },
        {
         "hovertemplate": "Subreddit=Cooking<br>date=%{x}<br>Drift (Cosine Similarity)=%{y}<extra></extra>",
         "legendgroup": "Cooking",
         "line": {
          "color": "#7F7F7F",
          "dash": "solid",
          "shape": "spline"
         },
         "mode": "lines",
         "name": "Cooking",
         "orientation": "v",
         "showlegend": true,
         "type": "scatter",
         "x": [
          "2019-01-01T00:00:00",
          "2019-02-01T00:00:00",
          "2019-03-01T00:00:00",
          "2019-04-01T00:00:00",
          "2019-05-01T00:00:00",
          "2019-06-01T00:00:00",
          "2019-07-01T00:00:00",
          "2019-08-01T00:00:00",
          "2019-09-01T00:00:00",
          "2019-10-01T00:00:00",
          "2019-11-01T00:00:00",
          "2019-12-01T00:00:00"
         ],
         "xaxis": "x",
         "y": [
          1.0000000000000002,
          0.9178947706239244,
          0.8474934092571812,
          0.8464277862548594,
          0.8584748670764195,
          0.8503079882181352,
          0.7745329242140774,
          0.8015873219334164,
          0.8079309667768182,
          0.8142869436049858,
          0.8141733174335679,
          0.7977329910096566
         ],
         "yaxis": "y"
        },
        {
         "hovertemplate": "Subreddit=ElizabethWarren<br>date=%{x}<br>Drift (Cosine Similarity)=%{y}<extra></extra>",
         "legendgroup": "ElizabethWarren",
         "line": {
          "color": "#AB63FA",
          "dash": "solid",
          "shape": "spline"
         },
         "mode": "lines",
         "name": "ElizabethWarren",
         "orientation": "v",
         "showlegend": true,
         "type": "scatter",
         "x": [
          "2019-01-01T00:00:00",
          "2019-02-01T00:00:00",
          "2019-03-01T00:00:00",
          "2019-04-01T00:00:00",
          "2019-05-01T00:00:00",
          "2019-06-01T00:00:00",
          "2019-07-01T00:00:00",
          "2019-08-01T00:00:00",
          "2019-09-01T00:00:00",
          "2019-10-01T00:00:00",
          "2019-11-01T00:00:00",
          "2019-12-01T00:00:00"
         ],
         "xaxis": "x",
         "y": [
          1.0000000000000002,
          0.7464851268063494,
          0.7258640895560561,
          0.6825425217922407,
          0.6787331942753173,
          0.7085065545984922,
          0.6391403507949515,
          0.6476631519018019,
          0.6606935122251051,
          0.6295526427367535,
          0.6321344474907326,
          0.6018683511349047
         ],
         "yaxis": "y"
        },
        {
         "hovertemplate": "Subreddit=JoeBiden<br>date=%{x}<br>Drift (Cosine Similarity)=%{y}<extra></extra>",
         "legendgroup": "JoeBiden",
         "line": {
          "color": "#636EFA",
          "dash": "solid",
          "shape": "spline"
         },
         "mode": "lines",
         "name": "JoeBiden",
         "orientation": "v",
         "showlegend": true,
         "type": "scatter",
         "x": [
          "2019-01-01T00:00:00",
          "2019-02-01T00:00:00",
          "2019-03-01T00:00:00",
          "2019-04-01T00:00:00",
          "2019-05-01T00:00:00",
          "2019-06-01T00:00:00",
          "2019-07-01T00:00:00",
          "2019-08-01T00:00:00",
          "2019-09-01T00:00:00",
          "2019-10-01T00:00:00",
          "2019-11-01T00:00:00",
          "2019-12-01T00:00:00"
         ],
         "xaxis": "x",
         "y": [
          1,
          -0.1717200458409794,
          -0.11398793313185342,
          -0.3734381190182235,
          -0.37034104988710864,
          -0.3917803675286304,
          -0.3773940984483515,
          -0.34396954869514973,
          -0.33955715294158256,
          -0.4012953418430464,
          -0.398322060183044,
          -0.40390589990344333
         ],
         "yaxis": "y"
        },
        {
         "hovertemplate": "Subreddit=Pete_Buttigieg<br>date=%{x}<br>Drift (Cosine Similarity)=%{y}<extra></extra>",
         "legendgroup": "Pete_Buttigieg",
         "line": {
          "color": "#FFA15A",
          "dash": "solid",
          "shape": "spline"
         },
         "mode": "lines",
         "name": "Pete_Buttigieg",
         "orientation": "v",
         "showlegend": true,
         "type": "scatter",
         "x": [
          "2019-01-01T00:00:00",
          "2019-02-01T00:00:00",
          "2019-03-01T00:00:00",
          "2019-04-01T00:00:00",
          "2019-05-01T00:00:00",
          "2019-06-01T00:00:00",
          "2019-07-01T00:00:00",
          "2019-08-01T00:00:00",
          "2019-09-01T00:00:00",
          "2019-10-01T00:00:00",
          "2019-11-01T00:00:00",
          "2019-12-01T00:00:00"
         ],
         "xaxis": "x",
         "y": [
          1.0000000000000002,
          0.7064219514902522,
          0.5809742501465875,
          0.6064119524490756,
          0.5818129092832101,
          0.5263349947456735,
          0.5417775444487829,
          0.558907098799659,
          0.5833852699769289,
          0.5646914890688041,
          0.5574476072217616,
          0.5373032509570517
         ],
         "yaxis": "y"
        },
        {
         "hovertemplate": "Subreddit=SandersForPresident<br>date=%{x}<br>Drift (Cosine Similarity)=%{y}<extra></extra>",
         "legendgroup": "SandersForPresident",
         "line": {
          "color": "#EF553B",
          "dash": "solid",
          "shape": "spline"
         },
         "mode": "lines",
         "name": "SandersForPresident",
         "orientation": "v",
         "showlegend": true,
         "type": "scatter",
         "x": [
          "2019-01-01T00:00:00",
          "2019-02-01T00:00:00",
          "2019-03-01T00:00:00",
          "2019-04-01T00:00:00",
          "2019-05-01T00:00:00",
          "2019-06-01T00:00:00",
          "2019-07-01T00:00:00",
          "2019-08-01T00:00:00",
          "2019-09-01T00:00:00",
          "2019-10-01T00:00:00",
          "2019-11-01T00:00:00",
          "2019-12-01T00:00:00"
         ],
         "xaxis": "x",
         "y": [
          1.0000000000000002,
          0.9033119074547815,
          0.8811741278180016,
          0.8542677843627227,
          0.8374978882670897,
          0.7743928693550184,
          0.8028092929281843,
          0.7514940435091465,
          0.7784952867073063,
          0.7659584522401855,
          0.7685315965766679,
          0.7236162429052335
         ],
         "yaxis": "y"
        },
        {
         "hovertemplate": "Subreddit=The_Donald<br>date=%{x}<br>Drift (Cosine Similarity)=%{y}<extra></extra>",
         "legendgroup": "The_Donald",
         "line": {
          "color": "#FF6692",
          "dash": "solid",
          "shape": "spline"
         },
         "mode": "lines",
         "name": "The_Donald",
         "orientation": "v",
         "showlegend": true,
         "type": "scatter",
         "x": [
          "2019-01-01T00:00:00",
          "2019-02-01T00:00:00",
          "2019-03-01T00:00:00",
          "2019-04-01T00:00:00",
          "2019-05-01T00:00:00",
          "2019-06-01T00:00:00",
          "2019-07-01T00:00:00",
          "2019-08-01T00:00:00",
          "2019-09-01T00:00:00",
          "2019-10-01T00:00:00",
          "2019-11-01T00:00:00",
          "2019-12-01T00:00:00"
         ],
         "xaxis": "x",
         "y": [
          0.9999999999999998,
          0.9406132889574457,
          0.9242957343070075,
          0.8926275022412377,
          0.8858997614820492,
          0.8909969545722467,
          0.9014283953446734,
          0.8972959177309187,
          0.8912086261180319,
          0.8822648208410884,
          0.8773515061284815,
          0.8873606472317285
         ],
         "yaxis": "y"
        },
        {
         "hovertemplate": "Subreddit=YangForPresidentHQ<br>date=%{x}<br>Drift (Cosine Similarity)=%{y}<extra></extra>",
         "legendgroup": "YangForPresidentHQ",
         "line": {
          "color": "#19D3F3",
          "dash": "solid",
          "shape": "spline"
         },
         "mode": "lines",
         "name": "YangForPresidentHQ",
         "orientation": "v",
         "showlegend": true,
         "type": "scatter",
         "x": [
          "2019-01-01T00:00:00",
          "2019-02-01T00:00:00",
          "2019-03-01T00:00:00",
          "2019-04-01T00:00:00",
          "2019-05-01T00:00:00",
          "2019-06-01T00:00:00",
          "2019-07-01T00:00:00",
          "2019-08-01T00:00:00",
          "2019-09-01T00:00:00",
          "2019-10-01T00:00:00",
          "2019-11-01T00:00:00",
          "2019-12-01T00:00:00"
         ],
         "xaxis": "x",
         "y": [
          1,
          0.6782841399314691,
          0.6424875986570779,
          0.6562922377955241,
          0.6375242574110558,
          0.6128354357430029,
          0.5900161705851878,
          0.5733866013540433,
          0.5488766629896519,
          0.5286512597256562,
          0.5098231860615743,
          0.5033576245277551
         ],
         "yaxis": "y"
        },
        {
         "hovertemplate": "Subreddit=technology<br>date=%{x}<br>Drift (Cosine Similarity)=%{y}<extra></extra>",
         "legendgroup": "technology",
         "line": {
          "color": "#BCBD22",
          "dash": "solid",
          "shape": "spline"
         },
         "mode": "lines",
         "name": "technology",
         "orientation": "v",
         "showlegend": true,
         "type": "scatter",
         "x": [
          "2019-01-01T00:00:00",
          "2019-02-01T00:00:00",
          "2019-03-01T00:00:00",
          "2019-04-01T00:00:00",
          "2019-05-01T00:00:00",
          "2019-06-01T00:00:00",
          "2019-07-01T00:00:00",
          "2019-08-01T00:00:00",
          "2019-09-01T00:00:00",
          "2019-10-01T00:00:00",
          "2019-11-01T00:00:00",
          "2019-12-01T00:00:00"
         ],
         "xaxis": "x",
         "y": [
          0.9999999999999998,
          0.9070902312165364,
          0.8371258954592005,
          0.7627805734589616,
          0.7666103649090956,
          0.7629419028359171,
          0.7475035731280093,
          0.7167962178028998,
          0.6848048604156847,
          0.7161408925770998,
          0.7204287983804741,
          0.6916126022706033
         ],
         "yaxis": "y"
        }
       ],
       "layout": {
        "font": {
         "size": 16
        },
        "legend": {
         "title": {
          "text": "Subreddit"
         },
         "tracegroupgap": 0
        },
        "template": {
         "data": {
          "bar": [
           {
            "error_x": {
             "color": "rgb(36,36,36)"
            },
            "error_y": {
             "color": "rgb(36,36,36)"
            },
            "marker": {
             "line": {
              "color": "white",
              "width": 0.5
             }
            },
            "type": "bar"
           }
          ],
          "barpolar": [
           {
            "marker": {
             "line": {
              "color": "white",
              "width": 0.5
             }
            },
            "type": "barpolar"
           }
          ],
          "carpet": [
           {
            "aaxis": {
             "endlinecolor": "rgb(36,36,36)",
             "gridcolor": "white",
             "linecolor": "white",
             "minorgridcolor": "white",
             "startlinecolor": "rgb(36,36,36)"
            },
            "baxis": {
             "endlinecolor": "rgb(36,36,36)",
             "gridcolor": "white",
             "linecolor": "white",
             "minorgridcolor": "white",
             "startlinecolor": "rgb(36,36,36)"
            },
            "type": "carpet"
           }
          ],
          "choropleth": [
           {
            "colorbar": {
             "outlinewidth": 1,
             "tickcolor": "rgb(36,36,36)",
             "ticks": "outside"
            },
            "type": "choropleth"
           }
          ],
          "contour": [
           {
            "colorbar": {
             "outlinewidth": 1,
             "tickcolor": "rgb(36,36,36)",
             "ticks": "outside"
            },
            "colorscale": [
             [
              0,
              "#440154"
             ],
             [
              0.1111111111111111,
              "#482878"
             ],
             [
              0.2222222222222222,
              "#3e4989"
             ],
             [
              0.3333333333333333,
              "#31688e"
             ],
             [
              0.4444444444444444,
              "#26828e"
             ],
             [
              0.5555555555555556,
              "#1f9e89"
             ],
             [
              0.6666666666666666,
              "#35b779"
             ],
             [
              0.7777777777777778,
              "#6ece58"
             ],
             [
              0.8888888888888888,
              "#b5de2b"
             ],
             [
              1,
              "#fde725"
             ]
            ],
            "type": "contour"
           }
          ],
          "contourcarpet": [
           {
            "colorbar": {
             "outlinewidth": 1,
             "tickcolor": "rgb(36,36,36)",
             "ticks": "outside"
            },
            "type": "contourcarpet"
           }
          ],
          "heatmap": [
           {
            "colorbar": {
             "outlinewidth": 1,
             "tickcolor": "rgb(36,36,36)",
             "ticks": "outside"
            },
            "colorscale": [
             [
              0,
              "#440154"
             ],
             [
              0.1111111111111111,
              "#482878"
             ],
             [
              0.2222222222222222,
              "#3e4989"
             ],
             [
              0.3333333333333333,
              "#31688e"
             ],
             [
              0.4444444444444444,
              "#26828e"
             ],
             [
              0.5555555555555556,
              "#1f9e89"
             ],
             [
              0.6666666666666666,
              "#35b779"
             ],
             [
              0.7777777777777778,
              "#6ece58"
             ],
             [
              0.8888888888888888,
              "#b5de2b"
             ],
             [
              1,
              "#fde725"
             ]
            ],
            "type": "heatmap"
           }
          ],
          "heatmapgl": [
           {
            "colorbar": {
             "outlinewidth": 1,
             "tickcolor": "rgb(36,36,36)",
             "ticks": "outside"
            },
            "colorscale": [
             [
              0,
              "#440154"
             ],
             [
              0.1111111111111111,
              "#482878"
             ],
             [
              0.2222222222222222,
              "#3e4989"
             ],
             [
              0.3333333333333333,
              "#31688e"
             ],
             [
              0.4444444444444444,
              "#26828e"
             ],
             [
              0.5555555555555556,
              "#1f9e89"
             ],
             [
              0.6666666666666666,
              "#35b779"
             ],
             [
              0.7777777777777778,
              "#6ece58"
             ],
             [
              0.8888888888888888,
              "#b5de2b"
             ],
             [
              1,
              "#fde725"
             ]
            ],
            "type": "heatmapgl"
           }
          ],
          "histogram": [
           {
            "marker": {
             "line": {
              "color": "white",
              "width": 0.6
             }
            },
            "type": "histogram"
           }
          ],
          "histogram2d": [
           {
            "colorbar": {
             "outlinewidth": 1,
             "tickcolor": "rgb(36,36,36)",
             "ticks": "outside"
            },
            "colorscale": [
             [
              0,
              "#440154"
             ],
             [
              0.1111111111111111,
              "#482878"
             ],
             [
              0.2222222222222222,
              "#3e4989"
             ],
             [
              0.3333333333333333,
              "#31688e"
             ],
             [
              0.4444444444444444,
              "#26828e"
             ],
             [
              0.5555555555555556,
              "#1f9e89"
             ],
             [
              0.6666666666666666,
              "#35b779"
             ],
             [
              0.7777777777777778,
              "#6ece58"
             ],
             [
              0.8888888888888888,
              "#b5de2b"
             ],
             [
              1,
              "#fde725"
             ]
            ],
            "type": "histogram2d"
           }
          ],
          "histogram2dcontour": [
           {
            "colorbar": {
             "outlinewidth": 1,
             "tickcolor": "rgb(36,36,36)",
             "ticks": "outside"
            },
            "colorscale": [
             [
              0,
              "#440154"
             ],
             [
              0.1111111111111111,
              "#482878"
             ],
             [
              0.2222222222222222,
              "#3e4989"
             ],
             [
              0.3333333333333333,
              "#31688e"
             ],
             [
              0.4444444444444444,
              "#26828e"
             ],
             [
              0.5555555555555556,
              "#1f9e89"
             ],
             [
              0.6666666666666666,
              "#35b779"
             ],
             [
              0.7777777777777778,
              "#6ece58"
             ],
             [
              0.8888888888888888,
              "#b5de2b"
             ],
             [
              1,
              "#fde725"
             ]
            ],
            "type": "histogram2dcontour"
           }
          ],
          "mesh3d": [
           {
            "colorbar": {
             "outlinewidth": 1,
             "tickcolor": "rgb(36,36,36)",
             "ticks": "outside"
            },
            "type": "mesh3d"
           }
          ],
          "parcoords": [
           {
            "line": {
             "colorbar": {
              "outlinewidth": 1,
              "tickcolor": "rgb(36,36,36)",
              "ticks": "outside"
             }
            },
            "type": "parcoords"
           }
          ],
          "pie": [
           {
            "automargin": true,
            "type": "pie"
           }
          ],
          "scatter": [
           {
            "marker": {
             "colorbar": {
              "outlinewidth": 1,
              "tickcolor": "rgb(36,36,36)",
              "ticks": "outside"
             }
            },
            "type": "scatter"
           }
          ],
          "scatter3d": [
           {
            "line": {
             "colorbar": {
              "outlinewidth": 1,
              "tickcolor": "rgb(36,36,36)",
              "ticks": "outside"
             }
            },
            "marker": {
             "colorbar": {
              "outlinewidth": 1,
              "tickcolor": "rgb(36,36,36)",
              "ticks": "outside"
             }
            },
            "type": "scatter3d"
           }
          ],
          "scattercarpet": [
           {
            "marker": {
             "colorbar": {
              "outlinewidth": 1,
              "tickcolor": "rgb(36,36,36)",
              "ticks": "outside"
             }
            },
            "type": "scattercarpet"
           }
          ],
          "scattergeo": [
           {
            "marker": {
             "colorbar": {
              "outlinewidth": 1,
              "tickcolor": "rgb(36,36,36)",
              "ticks": "outside"
             }
            },
            "type": "scattergeo"
           }
          ],
          "scattergl": [
           {
            "marker": {
             "colorbar": {
              "outlinewidth": 1,
              "tickcolor": "rgb(36,36,36)",
              "ticks": "outside"
             }
            },
            "type": "scattergl"
           }
          ],
          "scattermapbox": [
           {
            "marker": {
             "colorbar": {
              "outlinewidth": 1,
              "tickcolor": "rgb(36,36,36)",
              "ticks": "outside"
             }
            },
            "type": "scattermapbox"
           }
          ],
          "scatterpolar": [
           {
            "marker": {
             "colorbar": {
              "outlinewidth": 1,
              "tickcolor": "rgb(36,36,36)",
              "ticks": "outside"
             }
            },
            "type": "scatterpolar"
           }
          ],
          "scatterpolargl": [
           {
            "marker": {
             "colorbar": {
              "outlinewidth": 1,
              "tickcolor": "rgb(36,36,36)",
              "ticks": "outside"
             }
            },
            "type": "scatterpolargl"
           }
          ],
          "scatterternary": [
           {
            "marker": {
             "colorbar": {
              "outlinewidth": 1,
              "tickcolor": "rgb(36,36,36)",
              "ticks": "outside"
             }
            },
            "type": "scatterternary"
           }
          ],
          "surface": [
           {
            "colorbar": {
             "outlinewidth": 1,
             "tickcolor": "rgb(36,36,36)",
             "ticks": "outside"
            },
            "colorscale": [
             [
              0,
              "#440154"
             ],
             [
              0.1111111111111111,
              "#482878"
             ],
             [
              0.2222222222222222,
              "#3e4989"
             ],
             [
              0.3333333333333333,
              "#31688e"
             ],
             [
              0.4444444444444444,
              "#26828e"
             ],
             [
              0.5555555555555556,
              "#1f9e89"
             ],
             [
              0.6666666666666666,
              "#35b779"
             ],
             [
              0.7777777777777778,
              "#6ece58"
             ],
             [
              0.8888888888888888,
              "#b5de2b"
             ],
             [
              1,
              "#fde725"
             ]
            ],
            "type": "surface"
           }
          ],
          "table": [
           {
            "cells": {
             "fill": {
              "color": "rgb(237,237,237)"
             },
             "line": {
              "color": "white"
             }
            },
            "header": {
             "fill": {
              "color": "rgb(217,217,217)"
             },
             "line": {
              "color": "white"
             }
            },
            "type": "table"
           }
          ]
         },
         "layout": {
          "annotationdefaults": {
           "arrowhead": 0,
           "arrowwidth": 1
          },
          "coloraxis": {
           "colorbar": {
            "outlinewidth": 1,
            "tickcolor": "rgb(36,36,36)",
            "ticks": "outside"
           }
          },
          "colorscale": {
           "diverging": [
            [
             0,
             "rgb(103,0,31)"
            ],
            [
             0.1,
             "rgb(178,24,43)"
            ],
            [
             0.2,
             "rgb(214,96,77)"
            ],
            [
             0.3,
             "rgb(244,165,130)"
            ],
            [
             0.4,
             "rgb(253,219,199)"
            ],
            [
             0.5,
             "rgb(247,247,247)"
            ],
            [
             0.6,
             "rgb(209,229,240)"
            ],
            [
             0.7,
             "rgb(146,197,222)"
            ],
            [
             0.8,
             "rgb(67,147,195)"
            ],
            [
             0.9,
             "rgb(33,102,172)"
            ],
            [
             1,
             "rgb(5,48,97)"
            ]
           ],
           "sequential": [
            [
             0,
             "#440154"
            ],
            [
             0.1111111111111111,
             "#482878"
            ],
            [
             0.2222222222222222,
             "#3e4989"
            ],
            [
             0.3333333333333333,
             "#31688e"
            ],
            [
             0.4444444444444444,
             "#26828e"
            ],
            [
             0.5555555555555556,
             "#1f9e89"
            ],
            [
             0.6666666666666666,
             "#35b779"
            ],
            [
             0.7777777777777778,
             "#6ece58"
            ],
            [
             0.8888888888888888,
             "#b5de2b"
            ],
            [
             1,
             "#fde725"
            ]
           ],
           "sequentialminus": [
            [
             0,
             "#440154"
            ],
            [
             0.1111111111111111,
             "#482878"
            ],
            [
             0.2222222222222222,
             "#3e4989"
            ],
            [
             0.3333333333333333,
             "#31688e"
            ],
            [
             0.4444444444444444,
             "#26828e"
            ],
            [
             0.5555555555555556,
             "#1f9e89"
            ],
            [
             0.6666666666666666,
             "#35b779"
            ],
            [
             0.7777777777777778,
             "#6ece58"
            ],
            [
             0.8888888888888888,
             "#b5de2b"
            ],
            [
             1,
             "#fde725"
            ]
           ]
          },
          "colorway": [
           "#1F77B4",
           "#FF7F0E",
           "#2CA02C",
           "#D62728",
           "#9467BD",
           "#8C564B",
           "#E377C2",
           "#7F7F7F",
           "#BCBD22",
           "#17BECF"
          ],
          "font": {
           "color": "rgb(36,36,36)"
          },
          "geo": {
           "bgcolor": "white",
           "lakecolor": "white",
           "landcolor": "white",
           "showlakes": true,
           "showland": true,
           "subunitcolor": "white"
          },
          "hoverlabel": {
           "align": "left"
          },
          "hovermode": "closest",
          "mapbox": {
           "style": "light"
          },
          "paper_bgcolor": "white",
          "plot_bgcolor": "white",
          "polar": {
           "angularaxis": {
            "gridcolor": "rgb(232,232,232)",
            "linecolor": "rgb(36,36,36)",
            "showgrid": false,
            "showline": true,
            "ticks": "outside"
           },
           "bgcolor": "white",
           "radialaxis": {
            "gridcolor": "rgb(232,232,232)",
            "linecolor": "rgb(36,36,36)",
            "showgrid": false,
            "showline": true,
            "ticks": "outside"
           }
          },
          "scene": {
           "xaxis": {
            "backgroundcolor": "white",
            "gridcolor": "rgb(232,232,232)",
            "gridwidth": 2,
            "linecolor": "rgb(36,36,36)",
            "showbackground": true,
            "showgrid": false,
            "showline": true,
            "ticks": "outside",
            "zeroline": false,
            "zerolinecolor": "rgb(36,36,36)"
           },
           "yaxis": {
            "backgroundcolor": "white",
            "gridcolor": "rgb(232,232,232)",
            "gridwidth": 2,
            "linecolor": "rgb(36,36,36)",
            "showbackground": true,
            "showgrid": false,
            "showline": true,
            "ticks": "outside",
            "zeroline": false,
            "zerolinecolor": "rgb(36,36,36)"
           },
           "zaxis": {
            "backgroundcolor": "white",
            "gridcolor": "rgb(232,232,232)",
            "gridwidth": 2,
            "linecolor": "rgb(36,36,36)",
            "showbackground": true,
            "showgrid": false,
            "showline": true,
            "ticks": "outside",
            "zeroline": false,
            "zerolinecolor": "rgb(36,36,36)"
           }
          },
          "shapedefaults": {
           "fillcolor": "black",
           "line": {
            "width": 0
           },
           "opacity": 0.3
          },
          "ternary": {
           "aaxis": {
            "gridcolor": "rgb(232,232,232)",
            "linecolor": "rgb(36,36,36)",
            "showgrid": false,
            "showline": true,
            "ticks": "outside"
           },
           "baxis": {
            "gridcolor": "rgb(232,232,232)",
            "linecolor": "rgb(36,36,36)",
            "showgrid": false,
            "showline": true,
            "ticks": "outside"
           },
           "bgcolor": "white",
           "caxis": {
            "gridcolor": "rgb(232,232,232)",
            "linecolor": "rgb(36,36,36)",
            "showgrid": false,
            "showline": true,
            "ticks": "outside"
           }
          },
          "title": {
           "x": 0.05
          },
          "xaxis": {
           "automargin": true,
           "gridcolor": "rgb(232,232,232)",
           "linecolor": "rgb(36,36,36)",
           "showgrid": false,
           "showline": true,
           "ticks": "outside",
           "title": {
            "standoff": 15
           },
           "zeroline": false,
           "zerolinecolor": "rgb(36,36,36)"
          },
          "yaxis": {
           "automargin": true,
           "gridcolor": "rgb(232,232,232)",
           "linecolor": "rgb(36,36,36)",
           "showgrid": false,
           "showline": true,
           "ticks": "outside",
           "title": {
            "standoff": 15
           },
           "zeroline": false,
           "zerolinecolor": "rgb(36,36,36)"
          }
         }
        },
        "title": {
         "text": "Subreddit Drift (Cosine Similarity from Initial Vector)"
        },
        "xaxis": {
         "anchor": "y",
         "domain": [
          0,
          1
         ],
         "title": {
          "text": "date"
         }
        },
        "yaxis": {
         "anchor": "x",
         "domain": [
          0,
          1
         ],
         "title": {
          "text": "Drift (Cosine Similarity)"
         }
        }
       }
      },
      "text/html": [
       "<div>\n",
       "        \n",
       "        \n",
       "            <div id=\"5a68aba1-8248-464e-a15e-a51b9e74a36e\" class=\"plotly-graph-div\" style=\"height:525px; width:100%;\"></div>\n",
       "            <script type=\"text/javascript\">\n",
       "                require([\"plotly\"], function(Plotly) {\n",
       "                    window.PLOTLYENV=window.PLOTLYENV || {};\n",
       "                    \n",
       "                if (document.getElementById(\"5a68aba1-8248-464e-a15e-a51b9e74a36e\")) {\n",
       "                    Plotly.newPlot(\n",
       "                        '5a68aba1-8248-464e-a15e-a51b9e74a36e',\n",
       "                        [{\"hovertemplate\": \"Subreddit=BaemyKlobaechar<br>date=%{x}<br>Drift (Cosine Similarity)=%{y}<extra></extra>\", \"legendgroup\": \"BaemyKlobaechar\", \"line\": {\"color\": \"#00CC96\", \"dash\": \"solid\", \"shape\": \"spline\"}, \"mode\": \"lines\", \"name\": \"BaemyKlobaechar\", \"orientation\": \"v\", \"showlegend\": true, \"type\": \"scatter\", \"x\": [\"2019-01-01T00:00:00\", \"2019-02-01T00:00:00\", \"2019-03-01T00:00:00\", \"2019-04-01T00:00:00\", \"2019-05-01T00:00:00\", \"2019-06-01T00:00:00\", \"2019-07-01T00:00:00\", \"2019-08-01T00:00:00\", \"2019-09-01T00:00:00\", \"2019-10-01T00:00:00\", \"2019-11-01T00:00:00\", \"2019-12-01T00:00:00\"], \"xaxis\": \"x\", \"y\": [1.0, 0.8393556621269712, 0.6382554401286314, 0.792331049956903, 0.6364814778846676, 0.6816137917915233, 0.5758102824660932, 0.711631490085588, 0.7298238080778333, 0.6466732745256831, 0.6464423258000811, 0.6373039196220482], \"yaxis\": \"y\"}, {\"hovertemplate\": \"Subreddit=Cooking<br>date=%{x}<br>Drift (Cosine Similarity)=%{y}<extra></extra>\", \"legendgroup\": \"Cooking\", \"line\": {\"color\": \"#7F7F7F\", \"dash\": \"solid\", \"shape\": \"spline\"}, \"mode\": \"lines\", \"name\": \"Cooking\", \"orientation\": \"v\", \"showlegend\": true, \"type\": \"scatter\", \"x\": [\"2019-01-01T00:00:00\", \"2019-02-01T00:00:00\", \"2019-03-01T00:00:00\", \"2019-04-01T00:00:00\", \"2019-05-01T00:00:00\", \"2019-06-01T00:00:00\", \"2019-07-01T00:00:00\", \"2019-08-01T00:00:00\", \"2019-09-01T00:00:00\", \"2019-10-01T00:00:00\", \"2019-11-01T00:00:00\", \"2019-12-01T00:00:00\"], \"xaxis\": \"x\", \"y\": [1.0000000000000002, 0.9178947706239244, 0.8474934092571812, 0.8464277862548594, 0.8584748670764195, 0.8503079882181352, 0.7745329242140774, 0.8015873219334164, 0.8079309667768182, 0.8142869436049858, 0.8141733174335679, 0.7977329910096566], \"yaxis\": \"y\"}, {\"hovertemplate\": \"Subreddit=ElizabethWarren<br>date=%{x}<br>Drift (Cosine Similarity)=%{y}<extra></extra>\", \"legendgroup\": \"ElizabethWarren\", \"line\": {\"color\": \"#AB63FA\", \"dash\": \"solid\", \"shape\": \"spline\"}, \"mode\": \"lines\", \"name\": \"ElizabethWarren\", \"orientation\": \"v\", \"showlegend\": true, \"type\": \"scatter\", \"x\": [\"2019-01-01T00:00:00\", \"2019-02-01T00:00:00\", \"2019-03-01T00:00:00\", \"2019-04-01T00:00:00\", \"2019-05-01T00:00:00\", \"2019-06-01T00:00:00\", \"2019-07-01T00:00:00\", \"2019-08-01T00:00:00\", \"2019-09-01T00:00:00\", \"2019-10-01T00:00:00\", \"2019-11-01T00:00:00\", \"2019-12-01T00:00:00\"], \"xaxis\": \"x\", \"y\": [1.0000000000000002, 0.7464851268063494, 0.7258640895560561, 0.6825425217922407, 0.6787331942753173, 0.7085065545984922, 0.6391403507949515, 0.6476631519018019, 0.6606935122251051, 0.6295526427367535, 0.6321344474907326, 0.6018683511349047], \"yaxis\": \"y\"}, {\"hovertemplate\": \"Subreddit=JoeBiden<br>date=%{x}<br>Drift (Cosine Similarity)=%{y}<extra></extra>\", \"legendgroup\": \"JoeBiden\", \"line\": {\"color\": \"#636EFA\", \"dash\": \"solid\", \"shape\": \"spline\"}, \"mode\": \"lines\", \"name\": \"JoeBiden\", \"orientation\": \"v\", \"showlegend\": true, \"type\": \"scatter\", \"x\": [\"2019-01-01T00:00:00\", \"2019-02-01T00:00:00\", \"2019-03-01T00:00:00\", \"2019-04-01T00:00:00\", \"2019-05-01T00:00:00\", \"2019-06-01T00:00:00\", \"2019-07-01T00:00:00\", \"2019-08-01T00:00:00\", \"2019-09-01T00:00:00\", \"2019-10-01T00:00:00\", \"2019-11-01T00:00:00\", \"2019-12-01T00:00:00\"], \"xaxis\": \"x\", \"y\": [1.0, -0.1717200458409794, -0.11398793313185342, -0.3734381190182235, -0.37034104988710864, -0.3917803675286304, -0.3773940984483515, -0.34396954869514973, -0.33955715294158256, -0.4012953418430464, -0.398322060183044, -0.40390589990344333], \"yaxis\": \"y\"}, {\"hovertemplate\": \"Subreddit=Pete_Buttigieg<br>date=%{x}<br>Drift (Cosine Similarity)=%{y}<extra></extra>\", \"legendgroup\": \"Pete_Buttigieg\", \"line\": {\"color\": \"#FFA15A\", \"dash\": \"solid\", \"shape\": \"spline\"}, \"mode\": \"lines\", \"name\": \"Pete_Buttigieg\", \"orientation\": \"v\", \"showlegend\": true, \"type\": \"scatter\", \"x\": [\"2019-01-01T00:00:00\", \"2019-02-01T00:00:00\", \"2019-03-01T00:00:00\", \"2019-04-01T00:00:00\", \"2019-05-01T00:00:00\", \"2019-06-01T00:00:00\", \"2019-07-01T00:00:00\", \"2019-08-01T00:00:00\", \"2019-09-01T00:00:00\", \"2019-10-01T00:00:00\", \"2019-11-01T00:00:00\", \"2019-12-01T00:00:00\"], \"xaxis\": \"x\", \"y\": [1.0000000000000002, 0.7064219514902522, 0.5809742501465875, 0.6064119524490756, 0.5818129092832101, 0.5263349947456735, 0.5417775444487829, 0.558907098799659, 0.5833852699769289, 0.5646914890688041, 0.5574476072217616, 0.5373032509570517], \"yaxis\": \"y\"}, {\"hovertemplate\": \"Subreddit=SandersForPresident<br>date=%{x}<br>Drift (Cosine Similarity)=%{y}<extra></extra>\", \"legendgroup\": \"SandersForPresident\", \"line\": {\"color\": \"#EF553B\", \"dash\": \"solid\", \"shape\": \"spline\"}, \"mode\": \"lines\", \"name\": \"SandersForPresident\", \"orientation\": \"v\", \"showlegend\": true, \"type\": \"scatter\", \"x\": [\"2019-01-01T00:00:00\", \"2019-02-01T00:00:00\", \"2019-03-01T00:00:00\", \"2019-04-01T00:00:00\", \"2019-05-01T00:00:00\", \"2019-06-01T00:00:00\", \"2019-07-01T00:00:00\", \"2019-08-01T00:00:00\", \"2019-09-01T00:00:00\", \"2019-10-01T00:00:00\", \"2019-11-01T00:00:00\", \"2019-12-01T00:00:00\"], \"xaxis\": \"x\", \"y\": [1.0000000000000002, 0.9033119074547815, 0.8811741278180016, 0.8542677843627227, 0.8374978882670897, 0.7743928693550184, 0.8028092929281843, 0.7514940435091465, 0.7784952867073063, 0.7659584522401855, 0.7685315965766679, 0.7236162429052335], \"yaxis\": \"y\"}, {\"hovertemplate\": \"Subreddit=The_Donald<br>date=%{x}<br>Drift (Cosine Similarity)=%{y}<extra></extra>\", \"legendgroup\": \"The_Donald\", \"line\": {\"color\": \"#FF6692\", \"dash\": \"solid\", \"shape\": \"spline\"}, \"mode\": \"lines\", \"name\": \"The_Donald\", \"orientation\": \"v\", \"showlegend\": true, \"type\": \"scatter\", \"x\": [\"2019-01-01T00:00:00\", \"2019-02-01T00:00:00\", \"2019-03-01T00:00:00\", \"2019-04-01T00:00:00\", \"2019-05-01T00:00:00\", \"2019-06-01T00:00:00\", \"2019-07-01T00:00:00\", \"2019-08-01T00:00:00\", \"2019-09-01T00:00:00\", \"2019-10-01T00:00:00\", \"2019-11-01T00:00:00\", \"2019-12-01T00:00:00\"], \"xaxis\": \"x\", \"y\": [0.9999999999999998, 0.9406132889574457, 0.9242957343070075, 0.8926275022412377, 0.8858997614820492, 0.8909969545722467, 0.9014283953446734, 0.8972959177309187, 0.8912086261180319, 0.8822648208410884, 0.8773515061284815, 0.8873606472317285], \"yaxis\": \"y\"}, {\"hovertemplate\": \"Subreddit=YangForPresidentHQ<br>date=%{x}<br>Drift (Cosine Similarity)=%{y}<extra></extra>\", \"legendgroup\": \"YangForPresidentHQ\", \"line\": {\"color\": \"#19D3F3\", \"dash\": \"solid\", \"shape\": \"spline\"}, \"mode\": \"lines\", \"name\": \"YangForPresidentHQ\", \"orientation\": \"v\", \"showlegend\": true, \"type\": \"scatter\", \"x\": [\"2019-01-01T00:00:00\", \"2019-02-01T00:00:00\", \"2019-03-01T00:00:00\", \"2019-04-01T00:00:00\", \"2019-05-01T00:00:00\", \"2019-06-01T00:00:00\", \"2019-07-01T00:00:00\", \"2019-08-01T00:00:00\", \"2019-09-01T00:00:00\", \"2019-10-01T00:00:00\", \"2019-11-01T00:00:00\", \"2019-12-01T00:00:00\"], \"xaxis\": \"x\", \"y\": [1.0, 0.6782841399314691, 0.6424875986570779, 0.6562922377955241, 0.6375242574110558, 0.6128354357430029, 0.5900161705851878, 0.5733866013540433, 0.5488766629896519, 0.5286512597256562, 0.5098231860615743, 0.5033576245277551], \"yaxis\": \"y\"}, {\"hovertemplate\": \"Subreddit=technology<br>date=%{x}<br>Drift (Cosine Similarity)=%{y}<extra></extra>\", \"legendgroup\": \"technology\", \"line\": {\"color\": \"#BCBD22\", \"dash\": \"solid\", \"shape\": \"spline\"}, \"mode\": \"lines\", \"name\": \"technology\", \"orientation\": \"v\", \"showlegend\": true, \"type\": \"scatter\", \"x\": [\"2019-01-01T00:00:00\", \"2019-02-01T00:00:00\", \"2019-03-01T00:00:00\", \"2019-04-01T00:00:00\", \"2019-05-01T00:00:00\", \"2019-06-01T00:00:00\", \"2019-07-01T00:00:00\", \"2019-08-01T00:00:00\", \"2019-09-01T00:00:00\", \"2019-10-01T00:00:00\", \"2019-11-01T00:00:00\", \"2019-12-01T00:00:00\"], \"xaxis\": \"x\", \"y\": [0.9999999999999998, 0.9070902312165364, 0.8371258954592005, 0.7627805734589616, 0.7666103649090956, 0.7629419028359171, 0.7475035731280093, 0.7167962178028998, 0.6848048604156847, 0.7161408925770998, 0.7204287983804741, 0.6916126022706033], \"yaxis\": \"y\"}],\n",
       "                        {\"font\": {\"size\": 16}, \"legend\": {\"title\": {\"text\": \"Subreddit\"}, \"tracegroupgap\": 0}, \"template\": {\"data\": {\"bar\": [{\"error_x\": {\"color\": \"rgb(36,36,36)\"}, \"error_y\": {\"color\": \"rgb(36,36,36)\"}, \"marker\": {\"line\": {\"color\": \"white\", \"width\": 0.5}}, \"type\": \"bar\"}], \"barpolar\": [{\"marker\": {\"line\": {\"color\": \"white\", \"width\": 0.5}}, \"type\": \"barpolar\"}], \"carpet\": [{\"aaxis\": {\"endlinecolor\": \"rgb(36,36,36)\", \"gridcolor\": \"white\", \"linecolor\": \"white\", \"minorgridcolor\": \"white\", \"startlinecolor\": \"rgb(36,36,36)\"}, \"baxis\": {\"endlinecolor\": \"rgb(36,36,36)\", \"gridcolor\": \"white\", \"linecolor\": \"white\", \"minorgridcolor\": \"white\", \"startlinecolor\": \"rgb(36,36,36)\"}, \"type\": \"carpet\"}], \"choropleth\": [{\"colorbar\": {\"outlinewidth\": 1, \"tickcolor\": \"rgb(36,36,36)\", \"ticks\": \"outside\"}, \"type\": \"choropleth\"}], \"contour\": [{\"colorbar\": {\"outlinewidth\": 1, \"tickcolor\": \"rgb(36,36,36)\", \"ticks\": \"outside\"}, \"colorscale\": [[0.0, \"#440154\"], [0.1111111111111111, \"#482878\"], [0.2222222222222222, \"#3e4989\"], [0.3333333333333333, \"#31688e\"], [0.4444444444444444, \"#26828e\"], [0.5555555555555556, \"#1f9e89\"], [0.6666666666666666, \"#35b779\"], [0.7777777777777778, \"#6ece58\"], [0.8888888888888888, \"#b5de2b\"], [1.0, \"#fde725\"]], \"type\": \"contour\"}], \"contourcarpet\": [{\"colorbar\": {\"outlinewidth\": 1, \"tickcolor\": \"rgb(36,36,36)\", \"ticks\": \"outside\"}, \"type\": \"contourcarpet\"}], \"heatmap\": [{\"colorbar\": {\"outlinewidth\": 1, \"tickcolor\": \"rgb(36,36,36)\", \"ticks\": \"outside\"}, \"colorscale\": [[0.0, \"#440154\"], [0.1111111111111111, \"#482878\"], [0.2222222222222222, \"#3e4989\"], [0.3333333333333333, \"#31688e\"], [0.4444444444444444, \"#26828e\"], [0.5555555555555556, \"#1f9e89\"], [0.6666666666666666, \"#35b779\"], [0.7777777777777778, \"#6ece58\"], [0.8888888888888888, \"#b5de2b\"], [1.0, \"#fde725\"]], \"type\": \"heatmap\"}], \"heatmapgl\": [{\"colorbar\": {\"outlinewidth\": 1, \"tickcolor\": \"rgb(36,36,36)\", \"ticks\": \"outside\"}, \"colorscale\": [[0.0, \"#440154\"], [0.1111111111111111, \"#482878\"], [0.2222222222222222, \"#3e4989\"], [0.3333333333333333, \"#31688e\"], [0.4444444444444444, \"#26828e\"], [0.5555555555555556, \"#1f9e89\"], [0.6666666666666666, \"#35b779\"], [0.7777777777777778, \"#6ece58\"], [0.8888888888888888, \"#b5de2b\"], [1.0, \"#fde725\"]], \"type\": \"heatmapgl\"}], \"histogram\": [{\"marker\": {\"line\": {\"color\": \"white\", \"width\": 0.6}}, \"type\": \"histogram\"}], \"histogram2d\": [{\"colorbar\": {\"outlinewidth\": 1, \"tickcolor\": \"rgb(36,36,36)\", \"ticks\": \"outside\"}, \"colorscale\": [[0.0, \"#440154\"], [0.1111111111111111, \"#482878\"], [0.2222222222222222, \"#3e4989\"], [0.3333333333333333, \"#31688e\"], [0.4444444444444444, \"#26828e\"], [0.5555555555555556, \"#1f9e89\"], [0.6666666666666666, \"#35b779\"], [0.7777777777777778, \"#6ece58\"], [0.8888888888888888, \"#b5de2b\"], [1.0, \"#fde725\"]], \"type\": \"histogram2d\"}], \"histogram2dcontour\": [{\"colorbar\": {\"outlinewidth\": 1, \"tickcolor\": \"rgb(36,36,36)\", \"ticks\": \"outside\"}, \"colorscale\": [[0.0, \"#440154\"], [0.1111111111111111, \"#482878\"], [0.2222222222222222, \"#3e4989\"], [0.3333333333333333, \"#31688e\"], [0.4444444444444444, \"#26828e\"], [0.5555555555555556, \"#1f9e89\"], [0.6666666666666666, \"#35b779\"], [0.7777777777777778, \"#6ece58\"], [0.8888888888888888, \"#b5de2b\"], [1.0, \"#fde725\"]], \"type\": \"histogram2dcontour\"}], \"mesh3d\": [{\"colorbar\": {\"outlinewidth\": 1, \"tickcolor\": \"rgb(36,36,36)\", \"ticks\": \"outside\"}, \"type\": \"mesh3d\"}], \"parcoords\": [{\"line\": {\"colorbar\": {\"outlinewidth\": 1, \"tickcolor\": \"rgb(36,36,36)\", \"ticks\": \"outside\"}}, \"type\": \"parcoords\"}], \"pie\": [{\"automargin\": true, \"type\": \"pie\"}], \"scatter\": [{\"marker\": {\"colorbar\": {\"outlinewidth\": 1, \"tickcolor\": \"rgb(36,36,36)\", \"ticks\": \"outside\"}}, \"type\": \"scatter\"}], \"scatter3d\": [{\"line\": {\"colorbar\": {\"outlinewidth\": 1, \"tickcolor\": \"rgb(36,36,36)\", \"ticks\": \"outside\"}}, \"marker\": {\"colorbar\": {\"outlinewidth\": 1, \"tickcolor\": \"rgb(36,36,36)\", \"ticks\": \"outside\"}}, \"type\": \"scatter3d\"}], \"scattercarpet\": [{\"marker\": {\"colorbar\": {\"outlinewidth\": 1, \"tickcolor\": \"rgb(36,36,36)\", \"ticks\": \"outside\"}}, \"type\": \"scattercarpet\"}], \"scattergeo\": [{\"marker\": {\"colorbar\": {\"outlinewidth\": 1, \"tickcolor\": \"rgb(36,36,36)\", \"ticks\": \"outside\"}}, \"type\": \"scattergeo\"}], \"scattergl\": [{\"marker\": {\"colorbar\": {\"outlinewidth\": 1, \"tickcolor\": \"rgb(36,36,36)\", \"ticks\": \"outside\"}}, \"type\": \"scattergl\"}], \"scattermapbox\": [{\"marker\": {\"colorbar\": {\"outlinewidth\": 1, \"tickcolor\": \"rgb(36,36,36)\", \"ticks\": \"outside\"}}, \"type\": \"scattermapbox\"}], \"scatterpolar\": [{\"marker\": {\"colorbar\": {\"outlinewidth\": 1, \"tickcolor\": \"rgb(36,36,36)\", \"ticks\": \"outside\"}}, \"type\": \"scatterpolar\"}], \"scatterpolargl\": [{\"marker\": {\"colorbar\": {\"outlinewidth\": 1, \"tickcolor\": \"rgb(36,36,36)\", \"ticks\": \"outside\"}}, \"type\": \"scatterpolargl\"}], \"scatterternary\": [{\"marker\": {\"colorbar\": {\"outlinewidth\": 1, \"tickcolor\": \"rgb(36,36,36)\", \"ticks\": \"outside\"}}, \"type\": \"scatterternary\"}], \"surface\": [{\"colorbar\": {\"outlinewidth\": 1, \"tickcolor\": \"rgb(36,36,36)\", \"ticks\": \"outside\"}, \"colorscale\": [[0.0, \"#440154\"], [0.1111111111111111, \"#482878\"], [0.2222222222222222, \"#3e4989\"], [0.3333333333333333, \"#31688e\"], [0.4444444444444444, \"#26828e\"], [0.5555555555555556, \"#1f9e89\"], [0.6666666666666666, \"#35b779\"], [0.7777777777777778, \"#6ece58\"], [0.8888888888888888, \"#b5de2b\"], [1.0, \"#fde725\"]], \"type\": \"surface\"}], \"table\": [{\"cells\": {\"fill\": {\"color\": \"rgb(237,237,237)\"}, \"line\": {\"color\": \"white\"}}, \"header\": {\"fill\": {\"color\": \"rgb(217,217,217)\"}, \"line\": {\"color\": \"white\"}}, \"type\": \"table\"}]}, \"layout\": {\"annotationdefaults\": {\"arrowhead\": 0, \"arrowwidth\": 1}, \"coloraxis\": {\"colorbar\": {\"outlinewidth\": 1, \"tickcolor\": \"rgb(36,36,36)\", \"ticks\": \"outside\"}}, \"colorscale\": {\"diverging\": [[0.0, \"rgb(103,0,31)\"], [0.1, \"rgb(178,24,43)\"], [0.2, \"rgb(214,96,77)\"], [0.3, \"rgb(244,165,130)\"], [0.4, \"rgb(253,219,199)\"], [0.5, \"rgb(247,247,247)\"], [0.6, \"rgb(209,229,240)\"], [0.7, \"rgb(146,197,222)\"], [0.8, \"rgb(67,147,195)\"], [0.9, \"rgb(33,102,172)\"], [1.0, \"rgb(5,48,97)\"]], \"sequential\": [[0.0, \"#440154\"], [0.1111111111111111, \"#482878\"], [0.2222222222222222, \"#3e4989\"], [0.3333333333333333, \"#31688e\"], [0.4444444444444444, \"#26828e\"], [0.5555555555555556, \"#1f9e89\"], [0.6666666666666666, \"#35b779\"], [0.7777777777777778, \"#6ece58\"], [0.8888888888888888, \"#b5de2b\"], [1.0, \"#fde725\"]], \"sequentialminus\": [[0.0, \"#440154\"], [0.1111111111111111, \"#482878\"], [0.2222222222222222, \"#3e4989\"], [0.3333333333333333, \"#31688e\"], [0.4444444444444444, \"#26828e\"], [0.5555555555555556, \"#1f9e89\"], [0.6666666666666666, \"#35b779\"], [0.7777777777777778, \"#6ece58\"], [0.8888888888888888, \"#b5de2b\"], [1.0, \"#fde725\"]]}, \"colorway\": [\"#1F77B4\", \"#FF7F0E\", \"#2CA02C\", \"#D62728\", \"#9467BD\", \"#8C564B\", \"#E377C2\", \"#7F7F7F\", \"#BCBD22\", \"#17BECF\"], \"font\": {\"color\": \"rgb(36,36,36)\"}, \"geo\": {\"bgcolor\": \"white\", \"lakecolor\": \"white\", \"landcolor\": \"white\", \"showlakes\": true, \"showland\": true, \"subunitcolor\": \"white\"}, \"hoverlabel\": {\"align\": \"left\"}, \"hovermode\": \"closest\", \"mapbox\": {\"style\": \"light\"}, \"paper_bgcolor\": \"white\", \"plot_bgcolor\": \"white\", \"polar\": {\"angularaxis\": {\"gridcolor\": \"rgb(232,232,232)\", \"linecolor\": \"rgb(36,36,36)\", \"showgrid\": false, \"showline\": true, \"ticks\": \"outside\"}, \"bgcolor\": \"white\", \"radialaxis\": {\"gridcolor\": \"rgb(232,232,232)\", \"linecolor\": \"rgb(36,36,36)\", \"showgrid\": false, \"showline\": true, \"ticks\": \"outside\"}}, \"scene\": {\"xaxis\": {\"backgroundcolor\": \"white\", \"gridcolor\": \"rgb(232,232,232)\", \"gridwidth\": 2, \"linecolor\": \"rgb(36,36,36)\", \"showbackground\": true, \"showgrid\": false, \"showline\": true, \"ticks\": \"outside\", \"zeroline\": false, \"zerolinecolor\": \"rgb(36,36,36)\"}, \"yaxis\": {\"backgroundcolor\": \"white\", \"gridcolor\": \"rgb(232,232,232)\", \"gridwidth\": 2, \"linecolor\": \"rgb(36,36,36)\", \"showbackground\": true, \"showgrid\": false, \"showline\": true, \"ticks\": \"outside\", \"zeroline\": false, \"zerolinecolor\": \"rgb(36,36,36)\"}, \"zaxis\": {\"backgroundcolor\": \"white\", \"gridcolor\": \"rgb(232,232,232)\", \"gridwidth\": 2, \"linecolor\": \"rgb(36,36,36)\", \"showbackground\": true, \"showgrid\": false, \"showline\": true, \"ticks\": \"outside\", \"zeroline\": false, \"zerolinecolor\": \"rgb(36,36,36)\"}}, \"shapedefaults\": {\"fillcolor\": \"black\", \"line\": {\"width\": 0}, \"opacity\": 0.3}, \"ternary\": {\"aaxis\": {\"gridcolor\": \"rgb(232,232,232)\", \"linecolor\": \"rgb(36,36,36)\", \"showgrid\": false, \"showline\": true, \"ticks\": \"outside\"}, \"baxis\": {\"gridcolor\": \"rgb(232,232,232)\", \"linecolor\": \"rgb(36,36,36)\", \"showgrid\": false, \"showline\": true, \"ticks\": \"outside\"}, \"bgcolor\": \"white\", \"caxis\": {\"gridcolor\": \"rgb(232,232,232)\", \"linecolor\": \"rgb(36,36,36)\", \"showgrid\": false, \"showline\": true, \"ticks\": \"outside\"}}, \"title\": {\"x\": 0.05}, \"xaxis\": {\"automargin\": true, \"gridcolor\": \"rgb(232,232,232)\", \"linecolor\": \"rgb(36,36,36)\", \"showgrid\": false, \"showline\": true, \"ticks\": \"outside\", \"title\": {\"standoff\": 15}, \"zeroline\": false, \"zerolinecolor\": \"rgb(36,36,36)\"}, \"yaxis\": {\"automargin\": true, \"gridcolor\": \"rgb(232,232,232)\", \"linecolor\": \"rgb(36,36,36)\", \"showgrid\": false, \"showline\": true, \"ticks\": \"outside\", \"title\": {\"standoff\": 15}, \"zeroline\": false, \"zerolinecolor\": \"rgb(36,36,36)\"}}}, \"title\": {\"text\": \"Subreddit Drift (Cosine Similarity from Initial Vector)\"}, \"xaxis\": {\"anchor\": \"y\", \"domain\": [0.0, 1.0], \"title\": {\"text\": \"date\"}}, \"yaxis\": {\"anchor\": \"x\", \"domain\": [0.0, 1.0], \"title\": {\"text\": \"Drift (Cosine Similarity)\"}}},\n",
       "                        {\"responsive\": true}\n",
       "                    ).then(function(){\n",
       "                            \n",
       "var gd = document.getElementById('5a68aba1-8248-464e-a15e-a51b9e74a36e');\n",
       "var x = new MutationObserver(function (mutations, observer) {{\n",
       "        var display = window.getComputedStyle(gd).display;\n",
       "        if (!display || display === 'none') {{\n",
       "            console.log([gd, 'removed!']);\n",
       "            Plotly.purge(gd);\n",
       "            observer.disconnect();\n",
       "        }}\n",
       "}});\n",
       "\n",
       "// Listen for the removal of the full notebook cells\n",
       "var notebookContainer = gd.closest('#notebook-container');\n",
       "if (notebookContainer) {{\n",
       "    x.observe(notebookContainer, {childList: true});\n",
       "}}\n",
       "\n",
       "// Listen for the clearing of the current output cell\n",
       "var outputEl = gd.closest('.output');\n",
       "if (outputEl) {{\n",
       "    x.observe(outputEl, {childList: true});\n",
       "}}\n",
       "\n",
       "                        })\n",
       "                };\n",
       "                });\n",
       "            </script>\n",
       "        </div>"
      ]
     },
     "metadata": {},
     "output_type": "display_data"
    }
   ],
   "source": [
    " args = {\n",
    "    \"x\": \"date\",\n",
    "    \"y\": \"drift\",\n",
    "    \"color\": \"subreddit\",\n",
    "    \"line_shape\": \"spline\",\n",
    "    \"title\":  \"Subreddit Drift (Cosine Similarity from Initial Vector)\",\n",
    "    \"template\": \"simple_white\",\n",
    "    \"labels\": {\"drift\": \"Drift (Cosine Similarity)\", \"week\": \"Month\", \"subreddit\": \"Subreddit\"},\n",
    "    \"color_discrete_map\": mapping\n",
    "\n",
    "}\n",
    "\n",
    "fig = px.line(drift_test,**args)\n",
    "fig.update_layout(font=dict(size=16))\n",
    "\n",
    "# fig.write_html(\"visualizations/temporal/{}_sub_drift_over_time.html\".format(TIME_FRAME))\n",
    "fig.show()"
   ]
  },
  {
   "cell_type": "code",
   "execution_count": null,
   "metadata": {},
   "outputs": [],
   "source": []
  }
 ],
 "metadata": {
  "kernelspec": {
   "display_name": "Python 3",
   "language": "python",
   "name": "python3"
  },
  "language_info": {
   "codemirror_mode": {
    "name": "ipython",
    "version": 3
   },
   "file_extension": ".py",
   "mimetype": "text/x-python",
   "name": "python",
   "nbconvert_exporter": "python",
   "pygments_lexer": "ipython3",
   "version": "3.7.7"
  }
 },
 "nbformat": 4,
 "nbformat_minor": 4
}
